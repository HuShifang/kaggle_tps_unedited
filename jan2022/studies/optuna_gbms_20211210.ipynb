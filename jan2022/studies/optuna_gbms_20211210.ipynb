{
 "cells": [
  {
   "cell_type": "markdown",
   "id": "1d4e7f70-25a3-4d58-b98a-3a695e55ee53",
   "metadata": {
    "jp-MarkdownHeadingCollapsed": true,
    "tags": []
   },
   "source": [
    "# GBM Trainer"
   ]
  },
  {
   "cell_type": "markdown",
   "id": "1e124c3d-0e1f-4053-8e72-52569a4fe3e4",
   "metadata": {},
   "source": [
    "# Setup"
   ]
  },
  {
   "cell_type": "markdown",
   "id": "29e7c0bc-ccc7-4454-816a-c1f35bfd6f07",
   "metadata": {},
   "source": [
    "20211202"
   ]
  },
  {
   "cell_type": "code",
   "execution_count": 1,
   "id": "9149871d-3242-4bb9-81b1-61c0a76a656d",
   "metadata": {},
   "outputs": [],
   "source": [
    "# notebook configuration\n",
    "COLAB = False # will trigger manual installation of packages\n",
    "SAGE = False # if notebook will be used on Amazon SageMaker\n",
    "USE_GPU = True \n",
    "%config Completer.use_jedi = False"
   ]
  },
  {
   "cell_type": "markdown",
   "id": "7797f54a-c512-46e3-b1f3-d7cea8f35c9c",
   "metadata": {
    "tags": []
   },
   "source": [
    "## Imports"
   ]
  },
  {
   "cell_type": "code",
   "execution_count": 2,
   "id": "6b527dd9-23a5-46d5-949c-f6f2d771390b",
   "metadata": {},
   "outputs": [],
   "source": [
    "if SAGE:\n",
    "    !pip install --upgrade sklearn\n",
    "    !pip install --upgrade wandb\n",
    "    !pip install --upgrade catboost\n",
    "    !pip install --upgrade lightgbm\n",
    "    !pip install --upgrade xgboost"
   ]
  },
  {
   "cell_type": "code",
   "execution_count": 3,
   "id": "f6ab5185-9999-40e3-aba9-b4e6a965b435",
   "metadata": {},
   "outputs": [],
   "source": [
    "# basic imports\n",
    "from pathlib import Path\n",
    "import os\n",
    "import math\n",
    "from datetime import datetime\n",
    "import random\n",
    "\n",
    "import pandas as pd\n",
    "import numpy as np\n",
    "\n",
    "import matplotlib.pyplot as plt\n",
    "import seaborn as sns\n",
    "%matplotlib inline\n",
    "\n",
    "\n",
    "import requests # for telegram notifications\n",
    "from tqdm.notebook import tqdm\n",
    "\n",
    "from joblib import dump, load"
   ]
  },
  {
   "cell_type": "markdown",
   "id": "92b614bc-76c5-43a9-a23f-71ca21e6f0d8",
   "metadata": {},
   "source": [
    "Now, non-stdlib imports"
   ]
  },
  {
   "cell_type": "code",
   "execution_count": 30,
   "id": "d8bbc347-4b2b-428f-8628-07bc0fcf85e7",
   "metadata": {},
   "outputs": [],
   "source": [
    "# model selection\n",
    "from sklearn.model_selection import train_test_split, StratifiedKFold, KFold\n",
    "\n",
    "# metrics\n",
    "from sklearn.metrics import accuracy_score, roc_auc_score, confusion_matrix, log_loss, f1_score, fbeta_score\n",
    "\n",
    "# eda\n",
    "import missingno\n",
    "import doubtlab \n",
    "\n",
    "# data cleaning\n",
    "# from sklearn.impute import SimpleImputer #, KNNImputer\n",
    "import cleanlab\n",
    "\n",
    "# normalization\n",
    "from sklearn.preprocessing import RobustScaler, StandardScaler, MinMaxScaler, MaxAbsScaler, RobustScaler, QuantileTransformer\n",
    "# from gauss_rank_scaler import GaussRankScaler\n",
    "\n",
    "# feature generation\n",
    "from sklearn.preprocessing import PolynomialFeatures\n",
    "import category_encoders as ce\n",
    "\n",
    "# models\n",
    "from catboost import CatBoostClassifier\n",
    "from xgboost import XGBClassifier\n",
    "from lightgbm import LGBMClassifier\n",
    "from sklearn.linear_model import LogisticRegression\n",
    "# from sklearn.ensemble import StackingClassifier, RandomForestClassifier\n",
    "\n",
    "# feature reduction\n",
    "from sklearn.decomposition import PCA\n",
    "from umap import UMAP\n",
    "\n",
    "# clustering\n",
    "from sklearn.cluster import DBSCAN, KMeans\n",
    "import hdbscan\n",
    "\n",
    "# feature selection\n",
    "# from sklearn.feature_selection import SelectKBest, f_regression, mutual_info_regression\n",
    "# import featuretools as ft\n",
    "# from BorutaShap import BorutaShap\n",
    "# from boruta import BorutaPy\n",
    "\n",
    "# tracking \n",
    "import wandb\n",
    "from wandb.xgboost import wandb_callback\n",
    "from wandb.lightgbm import wandb_callback\n",
    "os.environ['WANDB_NOTEBOOK_NAME'] = f\"gbms_{datetime.now().strftime('%Y%m%d')}.ipynb\"\n",
    "\n",
    "# hyperparameter tuning\n",
    "import optuna\n",
    "from optuna.integration.wandb import WeightsAndBiasesCallback\n"
   ]
  },
  {
   "cell_type": "code",
   "execution_count": 5,
   "id": "7b0f2234-70b6-48b8-986c-d608f033952d",
   "metadata": {},
   "outputs": [],
   "source": [
    "# deep learning\n",
    "import torch\n",
    "from torch.optim import Adam, AdamW, Adagrad, SGD, RMSprop, LBFGS\n",
    "from torch.optim.lr_scheduler import ReduceLROnPlateau, CosineAnnealingWarmRestarts, CyclicLR, OneCycleLR, StepLR, CosineAnnealingLR\n",
    "\n",
    "# widedeep\n",
    "from pytorch_widedeep import Trainer\n",
    "from pytorch_widedeep.preprocessing import WidePreprocessor, TabPreprocessor\n",
    "from pytorch_widedeep.models import Wide, TabMlp, WideDeep, SAINT#, TabTransformer, TabNet, TabFastFormer, TabResnet\n",
    "from pytorch_widedeep.metrics import Accuracy\n",
    "from pytorch_widedeep.callbacks import EarlyStopping, LRHistory, ModelCheckpoint"
   ]
  },
  {
   "cell_type": "markdown",
   "id": "b97eee37-af6d-4e13-bad5-3109805e7780",
   "metadata": {},
   "source": [
    "## Routing"
   ]
  },
  {
   "cell_type": "markdown",
   "id": "5b7bb6a1-5b53-4caf-8143-6a99509dc0e8",
   "metadata": {},
   "source": [
    "Now, datapath setup"
   ]
  },
  {
   "cell_type": "code",
   "execution_count": 6,
   "id": "4e426c44-807e-4a93-8a80-01b8471af7ae",
   "metadata": {},
   "outputs": [
    {
     "name": "stderr",
     "output_type": "stream",
     "text": [
      "/home/sf/anaconda3/envs/tabular-x/lib/python3.8/site-packages/ipykernel/ipkernel.py:287: DeprecationWarning: `should_run_async` will not call `transform_cell` automatically in the future. Please pass the result to `transformed_cell` argument and any exception that happen during thetransform in `preprocessing_exc_tuple` in IPython 7.17 and above.\n",
      "  and should_run_async(code)\n"
     ]
    }
   ],
   "source": [
    "if COLAB:\n",
    "    # mount Google Drive\n",
    "    from google.colab import drive\n",
    "    drive.mount('/content/drive')\n",
    "\n",
    "    # handling datapath\n",
    "    # datapath = Path('/content/drive/MyDrive/kaggle/tabular_playgrounds/dec2021/')\n",
    "    \n",
    "else:\n",
    "    # if on local machine\n",
    "    if SAGE:\n",
    "        root = '/home/studio-lab-user/sagemaker-studiolab-notebooks'\n",
    "    else:\n",
    "        root = Path('/media/sf/easystore/kaggle_data/tabular_playgrounds/dec2021/')\n",
    "    datapath = root/'datasets'\n",
    "    # edapath = root/'EDA'\n",
    "    # modelpath = Path('/media/sf/easystore/kaggle_data/tabular_playgrounds/oct2021/models/')\n",
    "    predpath = root/'preds'\n",
    "    subpath = root/'submissions'\n",
    "    studypath = root/'studies'\n",
    "    \n",
    "    for pth in [datapath, predpath, subpath, studypath]:\n",
    "        pth.mkdir(exist_ok=True)"
   ]
  },
  {
   "cell_type": "code",
   "execution_count": 38,
   "id": "c0837c4e-0c05-46ad-9205-01011949051c",
   "metadata": {},
   "outputs": [
    {
     "data": {
      "text/plain": [
       "['/media/sf/easystore/kaggle_data/tabular_playgrounds/dec2021/datasets/X_orig.joblib']"
      ]
     },
     "execution_count": 38,
     "metadata": {},
     "output_type": "execute_result"
    }
   ],
   "source": [
    "dump(X, datapath/'X_orig.joblib')"
   ]
  },
  {
   "cell_type": "code",
   "execution_count": 39,
   "id": "5a444c61-ac90-416f-a196-2436e34f03ad",
   "metadata": {},
   "outputs": [
    {
     "data": {
      "text/plain": [
       "(4000000, 54)"
      ]
     },
     "execution_count": 39,
     "metadata": {},
     "output_type": "execute_result"
    }
   ],
   "source": [
    "X.shape"
   ]
  },
  {
   "cell_type": "markdown",
   "id": "02fd240c-0e91-42da-be87-5bde74e957d1",
   "metadata": {},
   "source": [
    "## Helpers"
   ]
  },
  {
   "cell_type": "code",
   "execution_count": 7,
   "id": "6744ad23-307b-4470-ad71-8825b35a22bc",
   "metadata": {},
   "outputs": [],
   "source": [
    "SEED = 42\n",
    "\n",
    "# Function to seed everything but the models\n",
    "def seed_everything(seed, pytorch=True, reproducible=True):\n",
    "    random.seed(seed)\n",
    "    np.random.seed(seed)\n",
    "    os.environ['PYTHONHASHSEED'] = str(seed)\n",
    "    if pytorch:\n",
    "        torch.manual_seed(seed) # set torch CPU seed\n",
    "        if torch.cuda.is_available():\n",
    "            torch.cuda.manual_seed_all(seed) # set torch GPU(s) seed(s)\n",
    "        if reproducible and torch.backends.cudnn.is_available():\n",
    "            torch.backends.cudnn.deterministic = True\n",
    "            torch.backends.cudnn.benchmark = False\n",
    "\n",
    "seed_everything(seed=SEED)"
   ]
  },
  {
   "cell_type": "code",
   "execution_count": 8,
   "id": "ef91eec7-92a7-433c-9d12-18f398ff452d",
   "metadata": {},
   "outputs": [],
   "source": [
    "def reduce_memory_usage(df, verbose=True):\n",
    "    \"\"\"\n",
    "    Function to reduce memory usage by downcasting datatypes in a Pandas DataFrame when possible.\n",
    "    \n",
    "    h/t to Bryan Arnold (https://www.kaggle.com/puremath86/label-correction-experiments-tps-nov-21)\n",
    "    \"\"\"\n",
    "    \n",
    "    numerics = [\"int8\", \"int16\", \"int32\", \"int64\", \"float16\", \"float32\", \"float64\"]\n",
    "    start_mem = df.memory_usage().sum() / 1024 ** 2\n",
    "    for col in df.columns:\n",
    "        col_type = df[col].dtypes\n",
    "        if col_type in numerics:\n",
    "            c_min = df[col].min()\n",
    "            c_max = df[col].max()\n",
    "            if str(col_type)[:3] == \"int\":\n",
    "                if c_min > np.iinfo(np.int8).min and c_max < np.iinfo(np.int8).max:\n",
    "                    df[col] = df[col].astype(np.int8)\n",
    "                elif c_min > np.iinfo(np.int16).min and c_max < np.iinfo(np.int16).max:\n",
    "                    df[col] = df[col].astype(np.int16)\n",
    "                elif c_min > np.iinfo(np.int32).min and c_max < np.iinfo(np.int32).max:\n",
    "                    df[col] = df[col].astype(np.int32)\n",
    "                elif c_min > np.iinfo(np.int64).min and c_max < np.iinfo(np.int64).max:\n",
    "                    df[col] = df[col].astype(np.int64)\n",
    "            else:\n",
    "                if (\n",
    "                    c_min > np.finfo(np.float16).min\n",
    "                    and c_max < np.finfo(np.float16).max\n",
    "                ):\n",
    "                    df[col] = df[col].astype(np.float16)\n",
    "                elif (\n",
    "                    c_min > np.finfo(np.float32).min\n",
    "                    and c_max < np.finfo(np.float32).max\n",
    "                ):\n",
    "                    df[col] = df[col].astype(np.float32)\n",
    "                else:\n",
    "                    df[col] = df[col].astype(np.float64)\n",
    "    end_mem = df.memory_usage().sum() / 1024 ** 2\n",
    "    if verbose:\n",
    "        print(\n",
    "            \"Mem. usage decreased to {:.2f} Mb ({:.1f}% reduction)\".format(\n",
    "                end_mem, 100 * (start_mem - end_mem) / start_mem\n",
    "            )\n",
    "        )\n",
    "    return df"
   ]
  },
  {
   "cell_type": "code",
   "execution_count": 9,
   "id": "d282d62c-db15-44c4-8af7-02a0756ab634",
   "metadata": {},
   "outputs": [],
   "source": [
    "tg_api_token = 'your_api_token' # for Galileo (jupyter_watcher_bot) on Telegram\n",
    "tg_chat_id = 'your_chat_id'\n",
    "\n",
    "import requests\n",
    "\n",
    "def send_tg_message(text='Cell execution completed.'):  \n",
    "    \"\"\"\n",
    "    h/t Ivan Dembicki Jr. for the base version \n",
    "    (https://medium.com/@ivan.dembicki.jr/notifications-in-jupyter-notebook-with-telegram-f2e892c55173)\n",
    "    \"\"\"\n",
    "    requests.post('https://api.telegram.org/' +  'bot{}/sendMessage'.format(tg_api_token),\n",
    "                  params=dict(chat_id=tg_chat_id, text=text))"
   ]
  },
  {
   "cell_type": "markdown",
   "id": "dd7119a9-d04d-43cb-9f17-f60933a4fda3",
   "metadata": {},
   "source": [
    "## Dataset Setup"
   ]
  },
  {
   "cell_type": "code",
   "execution_count": 37,
   "id": "dd703085-3fb2-4243-a0f7-42376a3ecd2c",
   "metadata": {
    "tags": []
   },
   "outputs": [],
   "source": [
    "# dataset_params will initially include either trivial class instances or loaded, precomputed artifacts\n",
    "dataset_params = {\n",
    "    'train_source': str(datapath/'X_orig.feather'),\n",
    "    'target_source': str(datapath/'y_orig.joblib'),\n",
    "    'test_source': str(datapath/'X_test_orig.feather'),\n",
    "    # 'scaler': str(RobustScaler()),\n",
    "    # 'pca': str(load(datapath/'pca_mle-RobustScaled_orig_trainset.joblib')),\n",
    "    # 'umap': str(load(datapath/'umap_reducer-20211107-n_comp10-n_neighbors15-rs42-pca_mle-RobustScaled_orig_trainset.joblib')),\n",
    "}   \n",
    "\n",
    "# referring back to the already-entered attributes, specify how the pipeline was sequenced\n",
    "# dataset_params['preprocessing_pipeline'] = str([dataset_params['scaler'], dataset_params['pca'], dataset_params['umap']]) # ACTUALLY this is unwieldy\n",
    "# dataset_params['preprocessing_pipeline'] = '[scaler, pca, umap]' # more fragile, but also more readable\n",
    "\n",
    "# now, load the datasets and generate more metadata from them\n",
    "# X = load(dataset_params['train_source'])\n",
    "X = pd.read_feather(dataset_params['train_source'])\n",
    "y = load(dataset_params['target_source'])\n",
    "# X_test = load(dataset_params['test_source'])\n",
    "X_test = pd.read_feather(dataset_params['test_source'])\n",
    "\n",
    "# reduce memory usage\n",
    "# X = reduce_memory_usage(X)\n",
    "# X_test = reduce_memory_usage(X)\n",
    "\n",
    "# metadata logging\n",
    "dataset_params['feature_count'] = X.shape[1]\n",
    "dataset_params['instance_count'] = X.shape[0]\n",
    "    "
   ]
  },
  {
   "cell_type": "markdown",
   "id": "e1a0d397-1a03-4d54-9178-513837cbe00d",
   "metadata": {},
   "source": [
    "## Feature Engineering"
   ]
  },
  {
   "cell_type": "markdown",
   "id": "e78f5f07-b20b-4565-8a24-5147c06aca84",
   "metadata": {},
   "source": [
    "First, going to try some of the basic tweaks suggested [here](https://www.kaggle.com/c/tabular-playground-series-dec-2021/discussion/293612)."
   ]
  },
  {
   "cell_type": "code",
   "execution_count": 11,
   "id": "0443c853-c96f-46a3-9a59-31247dfd8176",
   "metadata": {},
   "outputs": [],
   "source": [
    "# remove unuseful features\n",
    "X = X.drop([ 'Soil_Type7', 'Soil_Type15'], axis=1)\n",
    "X_test = X_test.drop(['Soil_Type7', 'Soil_Type15'], axis=1)"
   ]
  },
  {
   "cell_type": "code",
   "execution_count": 12,
   "id": "8611034a-0720-4ca0-a454-a2164d9d427b",
   "metadata": {},
   "outputs": [],
   "source": [
    "# extra feature engineering\n",
    "def r(x):\n",
    "    if x+180>360:\n",
    "        return x-180\n",
    "    else:\n",
    "        return x+180"
   ]
  },
  {
   "cell_type": "code",
   "execution_count": 13,
   "id": "ac5276dc-1c26-4d3e-95d4-4928ac165da2",
   "metadata": {},
   "outputs": [],
   "source": [
    "def fe(df):\n",
    "    df['EHiElv'] = df['Horizontal_Distance_To_Roadways'] * df['Elevation']\n",
    "    df['EViElv'] = df['Vertical_Distance_To_Hydrology'] * df['Elevation']\n",
    "    df['Aspect2'] = df.Aspect.map(r)\n",
    "    ### source: https://www.kaggle.com/c/tabular-playground-series-dec-2021/discussion/293373\n",
    "    df[\"Aspect\"][df[\"Aspect\"] < 0] += 360\n",
    "    df[\"Aspect\"][df[\"Aspect\"] > 359] -= 360\n",
    "    df.loc[df[\"Hillshade_9am\"] < 0, \"Hillshade_9am\"] = 0\n",
    "    df.loc[df[\"Hillshade_Noon\"] < 0, \"Hillshade_Noon\"] = 0\n",
    "    df.loc[df[\"Hillshade_3pm\"] < 0, \"Hillshade_3pm\"] = 0\n",
    "    df.loc[df[\"Hillshade_9am\"] > 255, \"Hillshade_9am\"] = 255\n",
    "    df.loc[df[\"Hillshade_Noon\"] > 255, \"Hillshade_Noon\"] = 255\n",
    "    df.loc[df[\"Hillshade_3pm\"] > 255, \"Hillshade_3pm\"] = 255\n",
    "    ########\n",
    "    df['Highwater'] = (df.Vertical_Distance_To_Hydrology < 0).astype(int)\n",
    "    df['EVDtH'] = df.Elevation - df.Vertical_Distance_To_Hydrology\n",
    "    df['EHDtH'] = df.Elevation - df.Horizontal_Distance_To_Hydrology * 0.2\n",
    "    df['Euclidean_Distance_to_Hydrology'] = (df['Horizontal_Distance_To_Hydrology']**2 + df['Vertical_Distance_To_Hydrology']**2)**0.5\n",
    "    df['Manhattan_Distance_to_Hydrology'] = df['Horizontal_Distance_To_Hydrology'] + df['Vertical_Distance_To_Hydrology']\n",
    "    df['Hydro_Fire_1'] = df['Horizontal_Distance_To_Hydrology'] + df['Horizontal_Distance_To_Fire_Points']\n",
    "    df['Hydro_Fire_2'] = abs(df['Horizontal_Distance_To_Hydrology'] - df['Horizontal_Distance_To_Fire_Points'])\n",
    "    df['Hydro_Road_1'] = abs(df['Horizontal_Distance_To_Hydrology'] + df['Horizontal_Distance_To_Roadways'])\n",
    "    df['Hydro_Road_2'] = abs(df['Horizontal_Distance_To_Hydrology'] - df['Horizontal_Distance_To_Roadways'])\n",
    "    df['Fire_Road_1'] = abs(df['Horizontal_Distance_To_Fire_Points'] + df['Horizontal_Distance_To_Roadways'])\n",
    "    df['Fire_Road_2'] = abs(df['Horizontal_Distance_To_Fire_Points'] - df['Horizontal_Distance_To_Roadways'])\n",
    "    df['Hillshade_3pm_is_zero'] = (df.Hillshade_3pm == 0).astype(int)\n",
    "    return df"
   ]
  },
  {
   "cell_type": "code",
   "execution_count": 14,
   "id": "7f2d6241-7a87-4600-a898-3304196bb17c",
   "metadata": {},
   "outputs": [],
   "source": [
    "X = fe(X)\n",
    "X_test = fe(X_test)"
   ]
  },
  {
   "cell_type": "code",
   "execution_count": 15,
   "id": "fc2048d9-2a68-481d-9e8e-b6f0b9df1ae5",
   "metadata": {},
   "outputs": [
    {
     "name": "stderr",
     "output_type": "stream",
     "text": [
      "/home/sf/anaconda3/envs/tabular-x/lib/python3.8/site-packages/ipykernel/ipkernel.py:287: DeprecationWarning: `should_run_async` will not call `transform_cell` automatically in the future. Please pass the result to `transformed_cell` argument and any exception that happen during thetransform in `preprocessing_exc_tuple` in IPython 7.17 and above.\n",
      "  and should_run_async(code)\n"
     ]
    }
   ],
   "source": [
    "# Summed features pointed out by @craigmthomas (https://www.kaggle.com/c/tabular-playground-series-dec-2021/discussion/292823)\n",
    "soil_features = [x for x in X.columns if x.startswith(\"Soil_Type\")]\n",
    "wilderness_features = [x for x in X.columns if x.startswith(\"Wilderness_Area\")]\n",
    "\n",
    "X[\"soil_type_count\"] = X[soil_features].sum(axis=1)\n",
    "X_test[\"soil_type_count\"] = X_test[soil_features].sum(axis=1)\n",
    "\n",
    "X[\"wilderness_area_count\"] = X[wilderness_features].sum(axis=1)\n",
    "X_test[\"wilderness_area_count\"] = X_test[wilderness_features].sum(axis=1)"
   ]
  },
  {
   "cell_type": "code",
   "execution_count": 16,
   "id": "ade18003-d8ba-486a-af54-b463bcb6b72f",
   "metadata": {
    "tags": []
   },
   "outputs": [
    {
     "data": {
      "text/plain": [
       "Index(['Elevation', 'Aspect', 'Slope', 'Horizontal_Distance_To_Hydrology',\n",
       "       'Vertical_Distance_To_Hydrology', 'Horizontal_Distance_To_Roadways',\n",
       "       'Hillshade_9am', 'Hillshade_Noon', 'Hillshade_3pm',\n",
       "       'Horizontal_Distance_To_Fire_Points', 'Wilderness_Area1',\n",
       "       'Wilderness_Area2', 'Wilderness_Area3', 'Wilderness_Area4',\n",
       "       'Soil_Type1', 'Soil_Type2', 'Soil_Type3', 'Soil_Type4', 'Soil_Type5',\n",
       "       'Soil_Type6', 'Soil_Type8', 'Soil_Type9', 'Soil_Type10', 'Soil_Type11',\n",
       "       'Soil_Type12', 'Soil_Type13', 'Soil_Type14', 'Soil_Type16',\n",
       "       'Soil_Type17', 'Soil_Type18', 'Soil_Type19', 'Soil_Type20',\n",
       "       'Soil_Type21', 'Soil_Type22', 'Soil_Type23', 'Soil_Type24',\n",
       "       'Soil_Type25', 'Soil_Type26', 'Soil_Type27', 'Soil_Type28',\n",
       "       'Soil_Type29', 'Soil_Type30', 'Soil_Type31', 'Soil_Type32',\n",
       "       'Soil_Type33', 'Soil_Type34', 'Soil_Type35', 'Soil_Type36',\n",
       "       'Soil_Type37', 'Soil_Type38', 'Soil_Type39', 'Soil_Type40', 'EHiElv',\n",
       "       'EViElv', 'Aspect2', 'Highwater', 'EVDtH', 'EHDtH',\n",
       "       'Euclidean_Distance_to_Hydrology', 'Manhattan_Distance_to_Hydrology',\n",
       "       'Hydro_Fire_1', 'Hydro_Fire_2', 'Hydro_Road_1', 'Hydro_Road_2',\n",
       "       'Fire_Road_1', 'Fire_Road_2', 'Hillshade_3pm_is_zero',\n",
       "       'soil_type_count', 'wilderness_area_count'],\n",
       "      dtype='object')"
      ]
     },
     "execution_count": 16,
     "metadata": {},
     "output_type": "execute_result"
    }
   ],
   "source": [
    "X.columns"
   ]
  },
  {
   "cell_type": "markdown",
   "id": "a12d88cb-84cc-4336-b3f0-954ba4bdbacf",
   "metadata": {},
   "source": [
    "## Dataset Parameters"
   ]
  },
  {
   "cell_type": "markdown",
   "id": "c6742e7c-022d-4e43-bf6d-fd8a3195d2d7",
   "metadata": {},
   "source": [
    "Initialized above, but now records of feature engineering efforts included."
   ]
  },
  {
   "cell_type": "code",
   "execution_count": 17,
   "id": "15b5d80b-8c2b-4cea-8029-29a06f8958fe",
   "metadata": {},
   "outputs": [],
   "source": [
    "dataset_params['feature_count'] = X.shape[1]\n",
    "dataset_params['instance_count'] = X.shape[0]\n",
    "\n",
    "# might eventually shift from dict to tuple\n",
    "\n",
    "# simplest approach: k-v where key is new feature, v is string with the operation to get it\n",
    "# sacrifices sortability, but could recover that through regexes, and it's much quicker to input\n",
    "dataset_params['feature_combinations'] = {\n",
    "    'EHiElv': \"df['Horizontal_Distance_To_Roadways'] * df['Elevation']\",\n",
    "    'EViElv': \"df['Vertical_Distance_To_Hydrology'] * df['Elevation']\",\n",
    "    'EVDtH': \"df.Elevation - df.Vertical_Distance_To_Hydrology\",\n",
    "    'EHDtH': \"df.Elevation - df.Horizontal_Distance_To_Hydrology * 0.2\",\n",
    "    'Euclidean_Distance_to_Hydrology': \"(df['Horizontal_Distance_To_Hydrology']**2 + df['Vertical_Distance_To_Hydrology']**2)**0.5\",\n",
    "    'Manhattan_Distance_to_Hydrology': \"df['Horizontal_Distance_To_Hydrology'] + df['Vertical_Distance_To_Hydrology']\",\n",
    "    'Hydro_Fire_1': \"df['Horizontal_Distance_To_Hydrology'] + df['Horizontal_Distance_To_Fire_Points']\",\n",
    "    'Hydro_Fire_2': \"abs(df['Horizontal_Distance_To_Hydrology'] - df['Horizontal_Distance_To_Fire_Points'])\",\n",
    "    'Hydro_Road_1': \"abs(df['Horizontal_Distance_To_Hydrology'] + df['Horizontal_Distance_To_Roadways'])\",\n",
    "    'Hydro_Road_2': \"abs(df['Horizontal_Distance_To_Hydrology'] - df['Horizontal_Distance_To_Roadways'])\",\n",
    "    'Fire_Road_1': \"abs(df['Horizontal_Distance_To_Fire_Points'] + df['Horizontal_Distance_To_Roadways'])\",\n",
    "    'Fire_Road_2': \"abs(df['Horizontal_Distance_To_Fire_Points'] - df['Horizontal_Distance_To_Roadways'])\"\n",
    "}\n",
    "\n",
    "dataset_params['feature_clipping'] = [\n",
    "    {\n",
    "        'features': ['Hillshade_9am', 'Hillshade_Noon', 'Hillshade_3pm'],\n",
    "        'range': range(0,256)\n",
    "    },\n",
    "    {\n",
    "        'features': ['Aspect'],\n",
    "        'range': range(0,360)\n",
    "    }\n",
    "]\n",
    "\n",
    "# the features that are just getting the one-hots counted\n",
    "dataset_params['feature_counts'] = ['Soil_Type*', 'Wilderness_Area*']\n",
    "dataset_params['feature_complements'] = [\n",
    "    {\n",
    "        'old': 'Aspect', \n",
    "        'new': 'Aspect2',\n",
    "        'operation': 'If x < 180 return x-180, else return x + 180'\n",
    "    },\n",
    "]\n",
    "\n",
    "dataset_params['feature_indicators'] = {\n",
    "    'Hillshade_3pm_is_zero': \"(df.Hillshade_3pm == 0).astype(int)\",\n",
    "}\n",
    "\n",
    "dataset_params['feature_typecasting'] = {\n",
    "    'Highwater': \"(df.Vertical_Distance_To_Hydrology < 0).astype(int)\"\n",
    "}\n",
    "# dataset_params['feature_combinations'] = [\n",
    "#     {\n",
    "#         'old': ['Horizontal_Distance_To_Roadways', 'Elevation'], \n",
    "#         'new': 'EHiElv',\n",
    "#         'operation': '*'\n",
    "#     },\n",
    "#     {\n",
    "#         'old': ('Vertical_Distance_To_Hydrology', 'Elevation'), \n",
    "#         'new': 'EViElv',\n",
    "#         'operation': '*'\n",
    "#     },\n",
    "#     {\n",
    "#         'old': ['Elevation', 'Vertical_Distance_To_Hydrology'],\n",
    "#         'new': 'EVDtH',\n",
    "#         'operation': '-'\n",
    "#     },\n",
    "#     {\n",
    "#         'old': ['Elevation', 'Horizontal_Distance_To_Hydrology'],\n",
    "#         'new': 'EHDtH',\n",
    "#         'operation': 'df.Elevation - df.Horizontal_Distance_To_Hydrology * 0.2'\n",
    "#     },\n",
    "    # {\n",
    "    #     'old': ['Horizontal_Distance_To_Hydrology', 'Vertical_Distance_To_Hydrology'],\n",
    "    #     'new': 'Euclidean_Distance_to_Hydrology',\n",
    "    #     'operation': \"(df['Horizontal_Distance_To_Hydrology']**2 + df['Vertical_Distance_To_Hydrology']**2)**0.5\"\n",
    "    # },\n",
    "    # {\n",
    "    #     'old': ['Horizontal_Distance_To_Hydrology', 'Vertical_Distance_To_Hydrology'],\n",
    "    #     'new': 'Manhattan_Distance_to_Hydrology',\n",
    "    #     'operation': '+'\n",
    "    # },\n",
    "    # {\n",
    "    #     'old': ['Horizontal_Distance_To_Hydrology', 'Horizontal_Distance_To_Fire_Points'],\n",
    "    #     'new': \n",
    "    \n",
    "# dataset_params['feature_crosses'] = [\n",
    "#     {\n",
    "#         'old': ['Horizontal_Distance_To_Roadways', 'Elevation'], \n",
    "#         'new': 'EHiElv',\n",
    "#         'operation': '*'\n",
    "#     },\n",
    "#     {\n",
    "#         'old': ('Vertical_Distance_To_Hydrology', 'Elevation'), \n",
    "#         'new': 'EViElv',\n",
    "#         'operation': '*'\n",
    "#     }\n",
    "# ]\n",
    "\n",
    "# dataset_params['feature_additions'] = [\n",
    "#     {\n",
    "#         'old': ['Elevation', 'Vertical_Distance_To_Hydrology'],\n",
    "#         'new': 'EVDtH',\n",
    "#         'operation': '-'\n",
    "#     }\n",
    "# ]\n",
    "\n"
   ]
  },
  {
   "cell_type": "markdown",
   "id": "862e9478-2380-4c4d-8641-5daa72049b6c",
   "metadata": {},
   "source": [
    "# Model Parameters"
   ]
  },
  {
   "cell_type": "code",
   "execution_count": 18,
   "id": "bc156663-c689-4dfe-a80b-5efaaae1afab",
   "metadata": {
    "tags": []
   },
   "outputs": [],
   "source": [
    "# # optuna 20211124, with corrected dataset and RobustScaler\n",
    "# best_xgboost_params = {\n",
    "#     'n_estimators': 9872,\n",
    "#     'max_depth': 3,\n",
    "#     'learning_rate': 0.12943882615104757,\n",
    "#     'reg_alpha': 4.793236314677738,\n",
    "#     'reg_lambda': 0.03427038053813167,\n",
    "#     'subsample': 0.5026684329097286,\n",
    "#     'min_child_weight': 3.2374430610042664,\n",
    "#     'colsample_bytree': 0.9875504456465564,\n",
    "#     'gamma': 4.691772640321729\n",
    "# }\n",
    "\n",
    "# # best as of 20211125, with corrected dataset and RobustScaler\n",
    "# best_lightgbm_params = {\n",
    "#     'n_estimators': 6986,\n",
    "#     'max_depth': 3,\n",
    "#     'learning_rate': 0.09080435106650955,\n",
    "#     'reg_alpha': 19.060739534647425,\n",
    "#     'reg_lambda': 0.12865332700612375,\n",
    "#     'subsample': 0.5612404690403716,\n",
    "#     'boosting_type': 'goss',\n",
    "#     'min_child_samples': 17,\n",
    "#     'num_leaves': 59,\n",
    "#     'colsample_bytree': 0.5125554530181221\n",
    "# }\n",
    "\n",
    "# # best as of 20211126, with corrected dataset and RobustScaler\n",
    "# best_catboost_params = {\n",
    "#     'iterations': 17997,\n",
    "#     'depth': 4,\n",
    "#     'learning_rate': 0.05807421036756052,\n",
    "#     'random_strength': 27,\n",
    "#     'od_wait': 1664,\n",
    "#     'reg_lambda': 57.67864249277457,\n",
    "#     'border_count': 275,\n",
    "#     'min_child_samples': 10,\n",
    "#     'leaf_estimation_iterations': 2\n",
    "# }\n",
    "\n",
    "# # # 20211021 lv2 on the K-Means 8-cluster, synth dataset\n",
    "# # lv2_xgboost_params = {\n",
    "# #     'n_estimators': 1534,\n",
    "# #     'max_depth': 4,\n",
    "# #     'learning_rate': 0.0062941159127744535,\n",
    "# #     'reg_alpha': 21.3946930650266,\n",
    "# #     'reg_lambda': 0.021003786013817635,\n",
    "# #     'subsample': 0.5726680367393964,\n",
    "# #     'min_child_weight': 0.07566661785187714,\n",
    "# #     'colsample_bytree': 0.7850419523745037,\n",
    "# #     'gamma': 4.26660233356059\n",
    "# # }\n",
    "\n",
    "# # # 20211021 lv2 on the K-Means 8-cluster, synth dataset\n",
    "# # lv2_lightgbm_params = {\n",
    "# #     'n_estimators': 5776,\n",
    "# #     'max_depth': 4,\n",
    "# #     'learning_rate': 0.0010172282832994653,\n",
    "# #     'reg_alpha': 0.013879765609402173,\n",
    "# #     'reg_lambda': 0.002787031048344079,\n",
    "# #     'subsample': 0.800000753298926,\n",
    "# #     'boosting_type': 'gbdt',\n",
    "# #     'min_child_samples': 11,\n",
    "# #     'num_leaves': 190,\n",
    "# #     'colsample_bytree': 0.9976443570341007\n",
    "# # }\n",
    "\n",
    "# # # 20211021 lv2 on the K-Means 8-cluster, synth dataset\n",
    "# # lv2_catboost_params = {\n",
    "# #     'iterations': 2000,\n",
    "# #     'depth': 6,\n",
    "# #     'learning_rate': 0.002984126581340097,\n",
    "# #     'random_strength': 0,\n",
    "# #     'od_wait': 334,\n",
    "# #     'reg_lambda': 33.469738674488084,\n",
    "# #     'border_count': 158,\n",
    "# #     'min_child_samples': 8,\n",
    "# #     'leaf_estimation_iterations': 4\n",
    "# # }\n",
    "\n",
    "# # # initial, non-default guess -- need to get optuna working (20211010)\n",
    "# # # basic_widedeep_tabmlp_params = {\n",
    "    \n",
    "# # # }\n",
    "\n",
    "# # # basic_widedeep_trainer_params = {\n",
    "# # #     optimizers=AdamW()\n",
    "# # # }"
   ]
  },
  {
   "cell_type": "code",
   "execution_count": 19,
   "id": "2aec7210-135f-402a-af31-330eb0f37276",
   "metadata": {},
   "outputs": [],
   "source": [
    "from lightgbm.basic import LightGBMError"
   ]
  },
  {
   "cell_type": "markdown",
   "id": "2930047e-a9fd-419b-a1a4-0856e3b3ce37",
   "metadata": {},
   "source": [
    "## Training Parameters"
   ]
  },
  {
   "cell_type": "code",
   "execution_count": 20,
   "id": "fb78111b-532c-41ce-b18a-aa2a7d868a29",
   "metadata": {},
   "outputs": [],
   "source": [
    "training_params = {\n",
    "    'general_random_state': SEED,\n",
    "}\n",
    "\n",
    "folds = 5\n",
    "training_params['cross_val_strategy'] = StratifiedKFold(n_splits=folds, shuffle=True, random_state=SEED)"
   ]
  },
  {
   "cell_type": "markdown",
   "id": "52835a6b-bfe2-4152-a2ee-c6d796b7c614",
   "metadata": {
    "tags": []
   },
   "source": [
    "## Metadata"
   ]
  },
  {
   "cell_type": "code",
   "execution_count": 21,
   "id": "d69e9346-ec9b-4549-b7d9-9837bcea2218",
   "metadata": {},
   "outputs": [],
   "source": [
    "# baseline -- alter as needed later\n",
    "exmodel_config = {\n",
    "#     'general_random_state': SEED,\n",
    "# #     'feature_generation': ['NaN_counts', 'SummaryStats', 'NaN_OneHots'],\n",
    "#     'cross_val_strategy': KFold, \n",
    "#     'kfolds': 5, # if 1, that means just doing holdout\n",
    "#     'test_size': 0.2,\n",
    "    **training_params,\n",
    "    **dataset_params\n",
    "}"
   ]
  },
  {
   "cell_type": "markdown",
   "id": "5b463481-20bb-451f-bda8-051992e75e4c",
   "metadata": {},
   "source": [
    "## Dataset Setup"
   ]
  },
  {
   "cell_type": "markdown",
   "id": "bc1b4eaf-277f-40a4-a16b-9da08f218556",
   "metadata": {
    "tags": []
   },
   "source": [
    "## Weights and Biases Run Config"
   ]
  },
  {
   "cell_type": "markdown",
   "id": "5bca3847-48f7-4d3f-8f86-5e6706d3cd64",
   "metadata": {},
   "source": [
    "Below is the configuration for a Weights and Biases (`wandb`) run."
   ]
  },
  {
   "cell_type": "code",
   "execution_count": 32,
   "id": "e5402d98-7bcd-4e46-b85d-6b0129ca6e96",
   "metadata": {},
   "outputs": [],
   "source": [
    "# wandb config:\n",
    "wandb_config = {\n",
    "    'name': f\"{os.environ['WANDB_NOTEBOOK_NAME'][:-6]}_{datetime.now().strftime('%H%M%S')}\", # just removes the .ipynb extension, leaving the notebook filename's stem\n",
    "    'tags': ['study'],\n",
    "    'notes': \"Optuna study of feature-engineered notebook, using new (more model-, infrastructure-agnostic) code\"\n",
    "}"
   ]
  },
  {
   "cell_type": "markdown",
   "id": "827289c5-e0e7-4382-9cbd-d6174a5cd68b",
   "metadata": {},
   "source": [
    "# Cross-Validator\n"
   ]
  },
  {
   "cell_type": "code",
   "execution_count": 23,
   "id": "fb083fa8-eb24-4fb0-b812-1cec9214e6a2",
   "metadata": {},
   "outputs": [
    {
     "data": {
      "text/plain": [
       "StratifiedKFold(n_splits=5, random_state=42, shuffle=True)"
      ]
     },
     "execution_count": 23,
     "metadata": {},
     "output_type": "execute_result"
    }
   ],
   "source": [
    "training_params['cross_val_strategy']"
   ]
  },
  {
   "cell_type": "code",
   "execution_count": 26,
   "id": "70da4cd9-98d8-4f43-afa5-2467800d8f03",
   "metadata": {},
   "outputs": [
    {
     "name": "stderr",
     "output_type": "stream",
     "text": [
      "/home/sf/anaconda3/envs/tabular-x/lib/python3.8/site-packages/ipykernel/ipkernel.py:287: DeprecationWarning: `should_run_async` will not call `transform_cell` automatically in the future. Please pass the result to `transformed_cell` argument and any exception that happen during thetransform in `preprocessing_exc_tuple` in IPython 7.17 and above.\n",
      "  and should_run_async(code)\n"
     ]
    }
   ],
   "source": [
    "def cross_validate_model(arch:str, X=X, y=y, X_test=X_test, model_params:dict={}, training_params=training_params, dataset_params=dataset_params,\n",
    "                         folds=list(range(folds)), exmodel_config=exmodel_config, wandb_config=wandb_config,  telegram=True, random_state=42, \n",
    "                         wandb_tracked=True, encode_cats=False):\n",
    "    \"\"\"\n",
    "    Function to handle model training process in the context of cross-validation -- via hold-out or via k-fold.\n",
    "    If exmodel_config['cross_val_strategy'] == None, then any kfolds= input is ignored; otherwise, the number specified is used.\n",
    "    \n",
    "    :param kfolds: int specifying number of k-folds to use in cross-validation\n",
    "    :param exmodel_config: dict containing general config including for cross-validation -- `kfold=1` implies hold-out\n",
    "    \"\"\"\n",
    "    # if exmodel_config['kfolds'] == 1: # holdout case\n",
    "    #     print(\"Proceeding with holdout\")\n",
    "    #     X_train, X_valid, y_train, y_valid = train_test_split(X, y, test_size=0.2, \n",
    "    #                                                           random_state=SEED)                 \n",
    "    # else: # k-fold cross validation case\n",
    "    #     # prepare for k-fold cross-validation; random-state here is notebook-wide, not per-model\n",
    "    #     # shuffle on the initial sets, but not subsequently -- performing the same operation twice means a very different dataset\n",
    "    #     if shuffle_kfolds:\n",
    "    #         kfold = exmodel_config['cross_val_strategy'](n_splits=exmodel_config['kfolds'], shuffle=True, random_state=SEED)\n",
    "    #     else:\n",
    "    #         kfold = exmodel_config['cross_val_strategy'](n_splits=exmodel_config['kfolds'], shuffle=False)\n",
    "    \n",
    "    kfold = training_params['cross_val_strategy']\n",
    "    \n",
    "    if wandb_tracked:\n",
    "        exmodel_config['arch'] = arch\n",
    "        exmodel_config[f'{arch}_params'] = str(model_params)\n",
    "        wandb.init(\n",
    "            project=\"202112_Kaggle_tabular_playground\",\n",
    "            save_code=True,\n",
    "            tags=wandb_config['tags'],\n",
    "            name=wandb_config['name'],\n",
    "            notes=wandb_config['notes'],\n",
    "            config=exmodel_config\n",
    "    )   \n",
    "    \n",
    "    # initialize lists for out-of-fold preds and ground truth\n",
    "    oof_preds, oof_y = [], []\n",
    "    \n",
    "    # initialize a numpy.ndarray containing the fold-model's preds for test set\n",
    "    \n",
    "    test_preds = np.zeros((X_test.shape[0]))\n",
    "    # test_probs = np.zeros((X_test.shape[0]))\n",
    "    # preprocessing\n",
    "    # if using a GBM, simply use the RobustScaler\n",
    "        # scaler = RobustScaler()\n",
    "        # X = scaler.fit_transform(X)\n",
    "        # X_test = scaler.transform(X_test)\n",
    "    \n",
    "    for fold, (train_ids, valid_ids) in enumerate(kfold.split(X,y)):\n",
    "        if fold not in folds: # skip folds that are already trained, i.e. that haven't been specified\n",
    "            continue\n",
    "        else:\n",
    "            print(f\"FOLD {fold}\")\n",
    "            print(\"---------------------------------------------------\")\n",
    "            y_train, y_valid = y[train_ids], y[valid_ids] # y will be an np.ndarray already; handling will be same regardless of model\n",
    "            if isinstance(X, np.ndarray):\n",
    "                X_train, X_valid = X[train_ids], X[valid_ids]\n",
    "            else:\n",
    "                X_train, X_valid = X.iloc[train_ids,:], X.iloc[valid_ids,:] # bc need pandas.DataFrames for ce\n",
    "                \n",
    "                # scaling\n",
    "                # category_encoding\n",
    "                # if encode_cats:\n",
    "                #     encoder = ce.WOEEncoder(cols=categoricals)\n",
    "                #     encoder.fit(X_train,y_train)\n",
    "                #     X_train = encoder.transform(X_train)\n",
    "                #     X_valid = encoder.transform(X_valid)\n",
    "                # # exmodel_config['feature_count'] = len(X.columns)\n",
    "                #     wandb.log({\n",
    "                #         'feature_count': X_train.shape[1],\n",
    "                #         'instance_count': X_train.shape[0],\n",
    "                #         'encoder': str(encoder)\n",
    "                #     })\n",
    "        \n",
    "        # define models\n",
    "        if arch == 'xgboost':\n",
    "            if USE_GPU:\n",
    "                model = XGBClassifier(\n",
    "                    booster='gbtree',\n",
    "                    tree_method='gpu_hist',\n",
    "                    random_state=random_state,\n",
    "                    n_jobs=-1, \n",
    "                    verbosity=1, \n",
    "                    # objective='binary:logistic',\n",
    "                    objective='multi:softmax',\n",
    "                    **model_params)\n",
    "            else:\n",
    "                model = XGBClassifier(\n",
    "                    booster='gbtree',\n",
    "                    tree_method='hist',\n",
    "                    random_state=random_state,\n",
    "                    n_jobs=-1,\n",
    "                    verbosity=1,\n",
    "                    objective='multi:softmax',\n",
    "                    **model_params)\n",
    "            if wandb_tracked:\n",
    "                model.fit(X_train, y_train, callbacks=[wandb.xgboost.wandb_callback()])\n",
    "            else:\n",
    "                model.fit(X_train, y_train)\n",
    "            \n",
    "            y_valid_preds = model.predict(X_valid)\n",
    "            # y_valid_probs = model.predict_proba(X_valid)\n",
    "            \n",
    "            # add the fold-model's OOF preds and ground truths to the out-of-loop lists\n",
    "            oof_preds.extend(y_valid_preds)\n",
    "            # oof_probs.extend(y_valid_probs)\n",
    "            oof_y.extend(y_valid)\n",
    "            \n",
    "            # add the fold's predictions to the model's test-set predictions (will divide later)\n",
    "            test_preds += model.predict(X_test)\n",
    "            # test_probs += model.predict_proba(X_test)\n",
    "\n",
    "\n",
    "        elif arch == 'lightgbm':\n",
    "            if USE_GPU:\n",
    "                model = LGBMClassifier(\n",
    "                    objective='binary',\n",
    "                    random_state=random_state,\n",
    "                    device_type='gpu',\n",
    "                    max_bin=63, # 15 might be even better for GPU perf, but depends on dataset -- see https://lightgbm.readthedocs.io/en/latest/GPU-Performance.html\n",
    "                    gpu_use_dp=False, # forces use of single precision rather than double for better perf, esp on consumer Nvidia chips\n",
    "                    **model_params)\n",
    "            else:\n",
    "                model = LGBMClassifier(\n",
    "                    objective='binary',\n",
    "                    random_state=random_state,\n",
    "                    device_type='cpu',\n",
    "                    n_jobs=-1,\n",
    "                    **model_params)\n",
    "\n",
    "            if wandb_tracked:\n",
    "                model.fit(X_train, y_train, callbacks=[wandb.lightgbm.wandb_callback()],)\n",
    "            else:\n",
    "                model.fit(X_train, y_train)\n",
    "#             except LightGBMError:\n",
    "#                 model = LGBMClassifier(\n",
    "#                     objective='binary',\n",
    "#                     random_state=random_state,\n",
    "#                     device_type='cpu',\n",
    "#                     n_jobs=-1,\n",
    "#     #                 eval_metric='auc',\n",
    "#     #                 device_type='gpu',\n",
    "#     #                 max_bin=63, # 15 might be even better for GPU perf, but depends on dataset -- see https://lightgbm.readthedocs.io/en/latest/GPU-Performance.html\n",
    "#     #                 gpu_use_dp=False, # forces use of single precision rather than double for better perf, esp on consumer Nvidia chips\n",
    "#                     **params)\n",
    "                \n",
    "#                 if wandb_tracked:\n",
    "#                     model.fit(X_train, y_train, callbacks=[wandb.lightgbm.wandb_callback()],)\n",
    "#                 else:\n",
    "#                     model.fit(X_train, y_train)\n",
    "            y_valid_preds = model.predict(X_valid)\n",
    "            # y_valid_probs = model.predict_proba(X_valid)\n",
    "            \n",
    "            # add the fold-model's OOF preds and ground truths to the out-of-loop lists\n",
    "            oof_preds.extend(y_valid_preds)\n",
    "            # oof_probs.extend(y_valid_probs)\n",
    "            oof_y.extend(y_valid)\n",
    "            \n",
    "            # add the fold's predictions to the model's test-set predictions (will divide later)\n",
    "            test_preds += model.predict(X_test)\n",
    "            # test_probs += model.predict_proba(X_test)[:,1]\n",
    "\n",
    "            \n",
    "        elif arch == 'catboost':\n",
    "            if USE_GPU:\n",
    "                model = CatBoostClassifier(\n",
    "                    task_type='GPU',\n",
    "                    silent=True,\n",
    "                    random_state=random_state,\n",
    "                    **model_params) \n",
    "            else:\n",
    "                model = CatBoostClassifier(\n",
    "                    task_type='CPU',\n",
    "                    silent=True,\n",
    "                    random_state=Random_state,\n",
    "                    **model_params)\n",
    "        \n",
    "            model.fit(X_train, y_train)\n",
    "            \n",
    "            y_valid_preds = model.predict(X_valid)\n",
    "            # y_valid_probs = model.predict_proba(X_valid)[:,1] # this would only take one of 7 cols\n",
    "            \n",
    "            # add the fold-model's OOF preds and ground truths to the out-of-loop lists\n",
    "            oof_preds.extend(y_valid_preds)\n",
    "            # oof_probs.extend(y_valid_probs)\n",
    "            oof_y.extend(y_valid)\n",
    "            \n",
    "            # add the fold's predictions to the model's test-set predictions (will divide later)\n",
    "            test_preds += model.predict(X_test).flatten()\n",
    "            # test_probs += model.predict_proba(X_test)[:,1]\n",
    "            \n",
    "#         valid_loss = log_loss(y_valid, y_pred)\n",
    "        # give the valid AUC score, for edification\n",
    "\n",
    "        fold_accuracy = accuracy_score(y_true=y_valid, y_pred=y_valid_preds) # or should be preds?\n",
    "        # fold_confusion = confusion_matrix(y_true=y_valid, y_pred=y_valid_preds)# , labels=list(range(7)))\n",
    "        # fold_log_loss = log_loss(y_pred=y_valid_preds, y_true=y_valid,) #labels=list(range(7)))\n",
    "        # fold_roc_auc = roc_auc_score(y_true=y_valid, y_score=y_valid_probs)\n",
    "        # fold_f1_score = f1_score(\n",
    "        # fold_fbeta_score = fbeta_score(\n",
    "        \n",
    "        if wandb_tracked:\n",
    "            wandb.log({f'fold{fold}_accuracy': fold_accuracy,\n",
    "                       # f'fold{fold}_confusion': fold_confusion,\n",
    "                       # f'fold{fold}_log_loss': fold_log_loss,\n",
    "                       # f'fold{fold}_roc_auc': fold_roc_auc,\n",
    "                      })\n",
    "        fold_human_results = f\"{os.environ['WANDB_NOTEBOOK_NAME']}\\nMetrics for fold {fold} are: \\nAccuracy: {fold_accuracy}\"\n",
    "        print(fold_human_results)\n",
    "        if telegram:\n",
    "            send_tg_message(text=f\"{arch} model's fold {fold} complete.\\n\"+fold_human_results)\n",
    "        # dump(model, Path(runpath/f\"{arch}_fold{fold}_rs{random_state}_model.joblib\"))\n",
    "\n",
    "    model_accuracy = accuracy_score(y_true=oof_y, y_pred=oof_preds) \n",
    "    # model_confusion = confusion_matrix(y_true=oof_y, y_pred=oof_preds, labels=list(range(7)))\n",
    "    # model_log_loss = log_loss(y_pred=oof_preds, y_true=oof_y, labels=list(range(7)))\n",
    "    # model_valid_auc = roc_auc_score(oof_y, oof_preds)\n",
    "    model_human_results = f\"{os.environ['WANDB_NOTEBOOK_NAME']}\\nMetrics for model {arch} are: \\nAccuracy: {model_accuracy}\"\n",
    "    print(model_human_results)\n",
    "    if telegram:\n",
    "        send_tg_message(text=f\"{arch} model run complete.\\n\"+model_human_results)\n",
    "    if wandb_tracked:\n",
    "        wandb.log({f'model_accuracy': fold_accuracy,\n",
    "                   # f'model_confusion': fold_confusion,\n",
    "                   # f'model_log_loss': fold_log_loss,\n",
    "                   # f'model_roc_auc': fold_roc_auc,\n",
    "                   'model_params': str(model.get_params()),\n",
    "                   'model_seed': random_state,\n",
    "                  })\n",
    "        wandb.finish()\n",
    "    \n",
    "    # finalize test preds\n",
    "    # test_probs /= exmodel_config['kfolds']\n",
    "    # test_preds /= exmodel_config['kfolds']\n",
    "    \n",
    "    \n",
    "    # save OOF preds and test-set preds\n",
    "#     if 'widedeep' in arch:\n",
    "#         dump(oof_preds, Path(predpath/f\"{wandb_config['name']}_{arch}_{exmodel_config['kfolds']}folds_{n_epochs}epochs-per-fold_rs{random_state}_oof_preds.joblib\"))\n",
    "#         dump(test_preds, Path(predpath/f\"{wandb_config['name']}_{arch}_{exmodel_config['kfolds']}folds_{n_epochs}epochs-per-fold_rs{random_state}_test_preds.joblib\"))\n",
    "    \n",
    "#     else:\n",
    "#         dump(oof_preds, Path(predpath/f\"{wandb_config['name']}_{arch}_{exmodel_config['kfolds']}folds_rs{random_state}_oof_preds.joblib\"))\n",
    "#         dump(test_preds, Path(predpath/f\"{wandb_config['name']}_{arch}_{exmodel_config['kfolds']}folds_rs{random_state}_test_preds.joblib\"))\n",
    "    \n",
    "    # if not (datapath/f\"{exmodel_config['kfolds']}folds_rs{SEED}_oof_y.joblib\").is_file():\n",
    "    #     dump(oof_y, predpath/f\"{exmodel_config['kfolds']}folds_rs{SEED}_oof_y.joblib\")\n",
    "    \n",
    "#     if wandb_tracked:\n",
    "# #         if 'widedeep' in arch:\n",
    "#         wandb.log({'model_valid_auc': model_valid_auc,\n",
    "# #                    'oof_preds': oof_preds,\n",
    "# #                    'test_preds': test_preds,\n",
    "#                    'model_params': str(model.parameters()) if 'widedeep' in arch else str(model.get_params()), \n",
    "#         #                    'model_params': str(model.get_params()),\n",
    "#         })\n",
    "# #         wandb.log({'model_valid_auc': model_valid_auc,\n",
    "# #                    'oof_preds': oof_preds,\n",
    "# #                    'test_preds': test_preds,\n",
    "# # #                    'model_params': str(model.get_params()),\n",
    "# #                   })\n",
    "#         wandb.finish()\n",
    "    # return oof_preds, test_preds#, model_confusion\n",
    "    return model_accuracy\n",
    "        "
   ]
  },
  {
   "cell_type": "markdown",
   "id": "b2808c8e-2240-4e76-8e6f-a5115d73ed46",
   "metadata": {},
   "source": [
    "## Objective Function"
   ]
  },
  {
   "cell_type": "code",
   "execution_count": 28,
   "id": "51fe80e5-a547-495e-9b70-d294dc1b9046",
   "metadata": {},
   "outputs": [],
   "source": [
    "# originally from https://www.kaggle.com/satorushibata/optimize-catboost-hyperparameter-with-optuna-gpu\n",
    "def objective(trial, arch):\n",
    "    \"\"\"\n",
    "    Wrapper around cross_validation_trainer to test different model hyperparameters\n",
    "    \"\"\"\n",
    "    \n",
    "    if arch == 'catboost':\n",
    "        model_params = {\n",
    "            'iterations' : trial.suggest_int('iterations', 2000, 30000),                         \n",
    "            'depth' : trial.suggest_int('depth', 3, 10),                                       \n",
    "            'learning_rate' : trial.suggest_loguniform('learning_rate', 0.001, 0.5),               \n",
    "            'random_strength': trial.suggest_int('random_strength', 0, 100), \n",
    "    #         'objective': trial.suggest_categorical('objective', ['Logloss', 'CrossEntropy']),\n",
    "    #         'bootstrap_type': trial.suggest_categorical('bootstrap_type', ['MVC', 'Bernoulli']),#, 'Poisson']),\n",
    "            'od_wait': trial.suggest_int('od_wait', 20, 2000),\n",
    "            'reg_lambda': trial.suggest_uniform('reg_lambda', 2, 70), # aka l2_leaf_reg\n",
    "            'border_count': trial.suggest_int('border_count', 50, 275),\n",
    "            'min_child_samples': trial.suggest_int('min_child_samples', 1, 20), # aka min_data_in_leaf\n",
    "            'leaf_estimation_iterations': trial.suggest_int('leaf_estimation_iterations', 1, 5),\n",
    "            # 'bagging_temperature' :trial.suggest_loguniform('bagging_temperature', 0.01, 100.00),\n",
    "    #         'subsample': trial.suggest_uniform('subsample', 0.5, 1),\n",
    "    #         'learning_rate' :trial.suggest_loguniform('learning_rate', 1e-3, 1e-1),\n",
    "            # 'od_type': trial.suggest_categorical('od_type', ['IncToDec', 'Iter']),\n",
    "    #         'max_leaves': trial.suggest_int('max_leaves', 32, 128)\n",
    "        }\n",
    "        \n",
    "    elif arch == 'xgboost':\n",
    "        model_params = {\n",
    "            'n_estimators': trial.suggest_int('n_estimators', 500, 10000), # was 900-4500 for CPU\n",
    "            'max_depth' : trial.suggest_int('depth', 3, 10),                                       \n",
    "            'learning_rate' : trial.suggest_loguniform('learning_rate', 0.001, 0.3),               \n",
    "            'reg_alpha': trial.suggest_loguniform('reg_alpha', 0.001, 50),\n",
    "            'reg_lambda': trial.suggest_loguniform('reg_lambda', 0.001, 30),\n",
    "            'subsample': trial.suggest_uniform('subsample', 0.5, 1),\n",
    "    #         'booster': trial.suggest_categorical('boosting_type', ['gbtree', 'dart']),\n",
    "            'min_child_weight': trial.suggest_uniform('min_child_weight', 0.001, 12),\n",
    "            'colsample_bytree': trial.suggest_uniform('colsample_bytree', 0.5, 1),\n",
    "            'gamma': trial.suggest_uniform('gamma', 0.1, 10)\n",
    "        } \n",
    "    \n",
    "    return cross_validate_model(arch, model_params=model_params, wandb_tracked=False, telegram=False)"
   ]
  },
  {
   "cell_type": "code",
   "execution_count": 34,
   "id": "4a4e2b9b-6b24-40bd-83e5-9e3f90cb9e1c",
   "metadata": {
    "colab": {
     "base_uri": "https://localhost:8080/",
     "height": 285
    },
    "id": "0e85f589-1507-4b75-80d9-8b062970102f",
    "outputId": "6a01a1a1-8060-429d-9a47-670cbc0435d2",
    "tags": []
   },
   "outputs": [
    {
     "name": "stderr",
     "output_type": "stream",
     "text": [
      "<ipython-input-34-500e760c9897>:1: ExperimentalWarning: WeightsAndBiasesCallback is experimental (supported from v2.9.0). The interface can change in the future.\n",
      "  wandbc = WeightsAndBiasesCallback(wandb_kwargs=wandb_config)\n",
      "\u001b[34m\u001b[1mwandb\u001b[0m: Currently logged in as: \u001b[33mhushifang\u001b[0m (use `wandb login --relogin` to force relogin)\n"
     ]
    },
    {
     "data": {
      "text/html": [
       "\n",
       "                    Syncing run <strong><a href=\"https://wandb.ai/hushifang/uncategorized/runs/ziebuexo\" target=\"_blank\">gbms_20211210_091716</a></strong> to <a href=\"https://wandb.ai/hushifang/uncategorized\" target=\"_blank\">Weights & Biases</a> (<a href=\"https://docs.wandb.com/integrations/jupyter.html\" target=\"_blank\">docs</a>).<br/>\n",
       "\n",
       "                "
      ],
      "text/plain": [
       "<IPython.core.display.HTML object>"
      ]
     },
     "metadata": {},
     "output_type": "display_data"
    }
   ],
   "source": [
    "wandbc = WeightsAndBiasesCallback(wandb_kwargs=wandb_config)"
   ]
  },
  {
   "cell_type": "code",
   "execution_count": null,
   "id": "53d18864-92d6-4346-a346-9542b3fd9371",
   "metadata": {},
   "outputs": [],
   "source": [
    "arch = 'xgboost'"
   ]
  },
  {
   "cell_type": "code",
   "execution_count": 17,
   "id": "69acd63c-e202-4d17-ae83-e4f8c030b490",
   "metadata": {
    "id": "ab6749b1-dd7d-4789-b0e2-8491d78fe89b",
    "tags": []
   },
   "outputs": [
    {
     "name": "stderr",
     "output_type": "stream",
     "text": [
      "\u001b[32m[I 2021-11-24 19:54:02,387]\u001b[0m A new study created in memory with name: xgboost-lv1-RobustScaled-orig_dataset-20211124\u001b[0m\n"
     ]
    }
   ],
   "source": [
    "start_time = datetime.now().strftime('%Y%m%d%H%M%S')\n",
    "study = optuna.create_study(direction = \"maximize\", \n",
    "                            sampler = TPESampler(seed=int(SEED)), \n",
    "                            study_name=f\"{arch}_study-{start_time}\")\n",
    "\n",
    "# study = load(studypath/f\"optuna_xgboost_study_106trials_20211004.joblib\")\n"
   ]
  },
  {
   "cell_type": "code",
   "execution_count": 18,
   "id": "a585ab8d-37f8-423e-9188-a582eecc8d9b",
   "metadata": {},
   "outputs": [],
   "source": [
    "# import torch"
   ]
  },
  {
   "cell_type": "code",
   "execution_count": null,
   "id": "a57a1f97-0beb-4598-93c2-b1e8037138e8",
   "metadata": {},
   "outputs": [],
   "source": []
  },
  {
   "cell_type": "code",
   "execution_count": 19,
   "id": "a734b126-0001-4eb4-809a-beae021637b2",
   "metadata": {},
   "outputs": [],
   "source": [
    "# xgboost.core.XGBoostError?"
   ]
  },
  {
   "cell_type": "code",
   "execution_count": 20,
   "id": "8aad439f-3f4e-4bcc-b031-36be0562a9a8",
   "metadata": {
    "tags": []
   },
   "outputs": [],
   "source": [
    "# study.optimize?"
   ]
  },
  {
   "cell_type": "code",
   "execution_count": 21,
   "id": "dba38886-c229-4094-9d06-c5e430eef36d",
   "metadata": {
    "colab": {
     "base_uri": "https://localhost:8080/"
    },
    "collapsed": true,
    "id": "F1cSVFH9gkW_",
    "jupyter": {
     "outputs_hidden": true
    },
    "outputId": "ccc874e6-7dd4-4e24-bec8-35ae48180b40",
    "tags": []
   },
   "outputs": [
    {
     "name": "stdout",
     "output_type": "stream",
     "text": [
      "FOLD 0\n",
      "---------------------------------------------------\n",
      "Fold 0 ROC AUC is: 0.9961694153512053\n",
      "FOLD 1\n",
      "---------------------------------------------------\n",
      "Fold 1 ROC AUC is: 0.9960261752756058\n",
      "FOLD 2\n",
      "---------------------------------------------------\n",
      "Fold 2 ROC AUC is: 0.9962377080412792\n",
      "FOLD 3\n",
      "---------------------------------------------------\n",
      "Fold 3 ROC AUC is: 0.996212608915722\n",
      "FOLD 4\n",
      "---------------------------------------------------\n",
      "Fold 4 ROC AUC is: 0.9964252080311881\n"
     ]
    },
    {
     "name": "stderr",
     "output_type": "stream",
     "text": [
      "\u001b[32m[I 2021-11-24 19:58:28,378]\u001b[0m Trial 0 finished with value: 0.9962134234025951 and parameters: {'n_estimators': 4058, 'depth': 10, 'learning_rate': 0.06504856968981275, 'reg_alpha': 0.6502468545951017, 'reg_lambda': 0.004994757081068292, 'subsample': 0.5779972601681014, 'min_child_weight': 0.6979452624062253, 'colsample_bytree': 0.9330880728874675, 'gamma': 6.051038616257767}. Best is trial 0 with value: 0.9962134234025951.\u001b[0m\n"
     ]
    },
    {
     "name": "stdout",
     "output_type": "stream",
     "text": [
      "Valid AUC score for xgboost model is 0.9962134234025951\n",
      "FOLD 0\n",
      "---------------------------------------------------\n",
      "Fold 0 ROC AUC is: 0.9974893466892183\n",
      "FOLD 1\n",
      "---------------------------------------------------\n",
      "Fold 1 ROC AUC is: 0.9973503862518316\n",
      "FOLD 2\n",
      "---------------------------------------------------\n",
      "Fold 2 ROC AUC is: 0.9975360027244387\n",
      "FOLD 3\n",
      "---------------------------------------------------\n",
      "Fold 3 ROC AUC is: 0.9975284171086922\n",
      "FOLD 4\n",
      "---------------------------------------------------\n",
      "Fold 4 ROC AUC is: 0.9976081799770499\n"
     ]
    },
    {
     "name": "stderr",
     "output_type": "stream",
     "text": [
      "\u001b[32m[I 2021-11-24 20:01:06,009]\u001b[0m Trial 1 finished with value: 0.9975023548031078 and parameters: {'n_estimators': 7227, 'depth': 3, 'learning_rate': 0.2526878207508456, 'reg_alpha': 8.158738235092015, 'reg_lambda': 0.00892622738184373, 'subsample': 0.5909124836035503, 'min_child_weight': 2.2016707137313523, 'colsample_bytree': 0.6521211214797689, 'gamma': 5.295088673159155}. Best is trial 1 with value: 0.9975023548031078.\u001b[0m\n"
     ]
    },
    {
     "name": "stdout",
     "output_type": "stream",
     "text": [
      "Valid AUC score for xgboost model is 0.9975023548031078\n",
      "FOLD 0\n",
      "---------------------------------------------------\n",
      "Fold 0 ROC AUC is: 0.9959860199566317\n",
      "FOLD 1\n",
      "---------------------------------------------------\n",
      "Fold 1 ROC AUC is: 0.9958187103851549\n",
      "FOLD 2\n",
      "---------------------------------------------------\n",
      "Fold 2 ROC AUC is: 0.9960826148866034\n",
      "FOLD 3\n",
      "---------------------------------------------------\n",
      "Fold 3 ROC AUC is: 0.9960255878579622\n",
      "FOLD 4\n",
      "---------------------------------------------------\n",
      "Fold 4 ROC AUC is: 0.9962029444498456\n"
     ]
    },
    {
     "name": "stderr",
     "output_type": "stream",
     "text": [
      "\u001b[32m[I 2021-11-24 20:04:44,144]\u001b[0m Trial 2 finished with value: 0.9960231622953272 and parameters: {'n_estimators': 4603, 'depth': 5, 'learning_rate': 0.032781876533976156, 'reg_alpha': 0.004523529917658778, 'reg_lambda': 0.02032202659636255, 'subsample': 0.6831809216468459, 'min_child_weight': 5.473383740620215, 'colsample_bytree': 0.8925879806965068, 'gamma': 2.0767704433677614}. Best is trial 1 with value: 0.9975023548031078.\u001b[0m\n"
     ]
    },
    {
     "name": "stdout",
     "output_type": "stream",
     "text": [
      "Valid AUC score for xgboost model is 0.9960231622953272\n",
      "FOLD 0\n",
      "---------------------------------------------------\n",
      "Fold 0 ROC AUC is: 0.9573094749289746\n",
      "FOLD 1\n",
      "---------------------------------------------------\n",
      "Fold 1 ROC AUC is: 0.9573856854506242\n",
      "FOLD 2\n",
      "---------------------------------------------------\n",
      "Fold 2 ROC AUC is: 0.9589375329214742\n",
      "FOLD 3\n",
      "---------------------------------------------------\n",
      "Fold 3 ROC AUC is: 0.9582544833776186\n",
      "FOLD 4\n",
      "---------------------------------------------------\n",
      "Fold 4 ROC AUC is: 0.9583280906260088\n"
     ]
    },
    {
     "name": "stderr",
     "output_type": "stream",
     "text": [
      "\u001b[32m[I 2021-11-24 20:14:06,029]\u001b[0m Trial 3 finished with value: 0.9580400071186456 and parameters: {'n_estimators': 5385, 'depth': 7, 'learning_rate': 0.0013033567475147442, 'reg_alpha': 0.7158714383119805, 'reg_lambda': 0.005800389779115683, 'subsample': 0.5325257964926398, 'min_child_weight': 11.386677561502745, 'colsample_bytree': 0.9828160165372797, 'gamma': 8.103133746352965}. Best is trial 1 with value: 0.9975023548031078.\u001b[0m\n"
     ]
    },
    {
     "name": "stdout",
     "output_type": "stream",
     "text": [
      "Valid AUC score for xgboost model is 0.9580400071186456\n",
      "FOLD 0\n",
      "---------------------------------------------------\n",
      "Fold 0 ROC AUC is: 0.9950477251636501\n",
      "FOLD 1\n",
      "---------------------------------------------------\n",
      "Fold 1 ROC AUC is: 0.9947969448857518\n",
      "FOLD 2\n",
      "---------------------------------------------------\n",
      "Fold 2 ROC AUC is: 0.9951693455578164\n",
      "FOLD 3\n",
      "---------------------------------------------------\n",
      "Fold 3 ROC AUC is: 0.9950587408340843\n",
      "FOLD 4\n",
      "---------------------------------------------------\n",
      "Fold 4 ROC AUC is: 0.9953191420034466\n"
     ]
    },
    {
     "name": "stderr",
     "output_type": "stream",
     "text": [
      "\u001b[32m[I 2021-11-24 20:15:46,143]\u001b[0m Trial 4 finished with value: 0.9950782936144429 and parameters: {'n_estimators': 3394, 'depth': 3, 'learning_rate': 0.04953682563497157, 'reg_alpha': 0.11702088154220885, 'reg_lambda': 0.0035186816415472676, 'subsample': 0.7475884550556351, 'min_child_weight': 0.41362786486150555, 'colsample_bytree': 0.954660201039391, 'gamma': 2.6619218178401676}. Best is trial 1 with value: 0.9975023548031078.\u001b[0m\n"
     ]
    },
    {
     "name": "stdout",
     "output_type": "stream",
     "text": [
      "Valid AUC score for xgboost model is 0.9950782936144429\n",
      "FOLD 0\n",
      "---------------------------------------------------\n",
      "Fold 0 ROC AUC is: 0.9952353333195438\n",
      "FOLD 1\n",
      "---------------------------------------------------\n",
      "Fold 1 ROC AUC is: 0.9950077433013809\n",
      "FOLD 2\n",
      "---------------------------------------------------\n",
      "Fold 2 ROC AUC is: 0.9953211688828882\n",
      "FOLD 3\n",
      "---------------------------------------------------\n",
      "Fold 3 ROC AUC is: 0.9952411387841558\n",
      "FOLD 4\n",
      "---------------------------------------------------\n",
      "Fold 4 ROC AUC is: 0.995379373035605\n"
     ]
    },
    {
     "name": "stderr",
     "output_type": "stream",
     "text": [
      "\u001b[32m[I 2021-11-24 20:20:49,745]\u001b[0m Trial 5 finished with value: 0.9952364099137125 and parameters: {'n_estimators': 6794, 'depth': 5, 'learning_rate': 0.01942099825171803, 'reg_alpha': 0.37065955814875856, 'reg_lambda': 0.0067238158696505896, 'subsample': 0.9847923138822793, 'min_child_weight': 9.301818747510014, 'colsample_bytree': 0.9697494707820946, 'gamma': 8.958790769233723}. Best is trial 1 with value: 0.9975023548031078.\u001b[0m\n"
     ]
    },
    {
     "name": "stdout",
     "output_type": "stream",
     "text": [
      "Valid AUC score for xgboost model is 0.9952364099137125\n",
      "FOLD 0\n",
      "---------------------------------------------------\n",
      "Fold 0 ROC AUC is: 0.9776200082058093\n",
      "FOLD 1\n",
      "---------------------------------------------------\n",
      "Fold 1 ROC AUC is: 0.9775156298260542\n",
      "FOLD 2\n",
      "---------------------------------------------------\n",
      "Fold 2 ROC AUC is: 0.9786825804881849\n",
      "FOLD 3\n",
      "---------------------------------------------------\n",
      "Fold 3 ROC AUC is: 0.9783001844990089\n",
      "FOLD 4\n",
      "---------------------------------------------------\n",
      "Fold 4 ROC AUC is: 0.978451357707586\n"
     ]
    },
    {
     "name": "stderr",
     "output_type": "stream",
     "text": [
      "\u001b[32m[I 2021-11-24 20:48:33,317]\u001b[0m Trial 6 finished with value: 0.9781126430692688 and parameters: {'n_estimators': 6180, 'depth': 10, 'learning_rate': 0.0016565580440884786, 'reg_alpha': 0.008335230071817131, 'reg_lambda': 0.001593999043568401, 'subsample': 0.6626651653816322, 'min_child_weight': 4.664738798984096, 'colsample_bytree': 0.6356745158869479, 'gamma': 8.3045013406041}. Best is trial 1 with value: 0.9975023548031078.\u001b[0m\n"
     ]
    },
    {
     "name": "stdout",
     "output_type": "stream",
     "text": [
      "Valid AUC score for xgboost model is 0.9781126430692688\n",
      "FOLD 0\n",
      "---------------------------------------------------\n",
      "Fold 0 ROC AUC is: 0.994550060303628\n",
      "FOLD 1\n",
      "---------------------------------------------------\n",
      "Fold 1 ROC AUC is: 0.9943085813621485\n",
      "FOLD 2\n",
      "---------------------------------------------------\n",
      "Fold 2 ROC AUC is: 0.9947226370526682\n",
      "FOLD 3\n",
      "---------------------------------------------------\n",
      "Fold 3 ROC AUC is: 0.9946209649337359\n",
      "FOLD 4\n",
      "---------------------------------------------------\n",
      "Fold 4 ROC AUC is: 0.9948470987914629\n"
     ]
    },
    {
     "name": "stderr",
     "output_type": "stream",
     "text": [
      "\u001b[32m[I 2021-11-24 20:51:36,206]\u001b[0m Trial 7 finished with value: 0.9946092243717869 and parameters: {'n_estimators': 3889, 'depth': 5, 'learning_rate': 0.022096526145513846, 'reg_alpha': 0.0045940816125026864, 'reg_lambda': 3.9042098517777197, 'subsample': 0.5372753218398854, 'min_child_weight': 11.842656352269607, 'colsample_bytree': 0.8861223846483287, 'gamma': 2.0672852471883068}. Best is trial 1 with value: 0.9975023548031078.\u001b[0m\n"
     ]
    },
    {
     "name": "stdout",
     "output_type": "stream",
     "text": [
      "Valid AUC score for xgboost model is 0.9946092243717869\n",
      "FOLD 0\n",
      "---------------------------------------------------\n",
      "Fold 0 ROC AUC is: 0.9894771653160959\n",
      "FOLD 1\n",
      "---------------------------------------------------\n",
      "Fold 1 ROC AUC is: 0.989375079052551\n",
      "FOLD 2\n",
      "---------------------------------------------------\n",
      "Fold 2 ROC AUC is: 0.9899089581237727\n",
      "FOLD 3\n",
      "---------------------------------------------------\n",
      "Fold 3 ROC AUC is: 0.9898412080717016\n",
      "FOLD 4\n",
      "---------------------------------------------------\n",
      "Fold 4 ROC AUC is: 0.989873434472174\n"
     ]
    },
    {
     "name": "stderr",
     "output_type": "stream",
     "text": [
      "\u001b[32m[I 2021-11-24 20:52:45,506]\u001b[0m Trial 8 finished with value: 0.9896940540596656 and parameters: {'n_estimators': 552, 'depth': 9, 'learning_rate': 0.0563600475052774, 'reg_alpha': 2.6642981030636883, 'reg_lambda': 2.838382119353614, 'subsample': 0.5370223258670452, 'min_child_weight': 4.302230276802727, 'colsample_bytree': 0.5579345297625649, 'gamma': 8.644723916168376}. Best is trial 1 with value: 0.9975023548031078.\u001b[0m\n"
     ]
    },
    {
     "name": "stdout",
     "output_type": "stream",
     "text": [
      "Valid AUC score for xgboost model is 0.9896940540596656\n",
      "FOLD 0\n",
      "---------------------------------------------------\n",
      "Fold 0 ROC AUC is: 0.9524208285323911\n",
      "FOLD 1\n",
      "---------------------------------------------------\n",
      "Fold 1 ROC AUC is: 0.9525640936484274\n",
      "FOLD 2\n",
      "---------------------------------------------------\n",
      "Fold 2 ROC AUC is: 0.9542115866839509\n",
      "FOLD 3\n",
      "---------------------------------------------------\n",
      "Fold 3 ROC AUC is: 0.9535471996320527\n",
      "FOLD 4\n",
      "---------------------------------------------------\n",
      "Fold 4 ROC AUC is: 0.9536704763593551\n"
     ]
    },
    {
     "name": "stderr",
     "output_type": "stream",
     "text": [
      "\u001b[32m[I 2021-11-24 20:58:14,748]\u001b[0m Trial 9 finished with value: 0.9532793015027461 and parameters: {'n_estimators': 6421, 'depth': 5, 'learning_rate': 0.0014369502768990666, 'reg_alpha': 0.028926547478415564, 'reg_lambda': 0.028568350317608886, 'subsample': 0.864803089169032, 'min_child_weight': 7.651052098791203, 'colsample_bytree': 0.9436063712881633, 'gamma': 4.7749277591032975}. Best is trial 1 with value: 0.9975023548031078.\u001b[0m\n"
     ]
    },
    {
     "name": "stdout",
     "output_type": "stream",
     "text": [
      "Valid AUC score for xgboost model is 0.9532793015027461\n",
      "FOLD 0\n",
      "---------------------------------------------------\n",
      "Fold 0 ROC AUC is: 0.9969275241019715\n",
      "FOLD 1\n",
      "---------------------------------------------------\n",
      "Fold 1 ROC AUC is: 0.9966789232074269\n",
      "FOLD 2\n",
      "---------------------------------------------------\n",
      "Fold 2 ROC AUC is: 0.9969029204637372\n",
      "FOLD 3\n",
      "---------------------------------------------------\n",
      "Fold 3 ROC AUC is: 0.9969264354782035\n",
      "FOLD 4\n",
      "---------------------------------------------------\n",
      "Fold 4 ROC AUC is: 0.9971011759796498\n"
     ]
    },
    {
     "name": "stderr",
     "output_type": "stream",
     "text": [
      "\u001b[32m[I 2021-11-24 21:01:23,458]\u001b[0m Trial 10 finished with value: 0.9969070210236928 and parameters: {'n_estimators': 9696, 'depth': 3, 'learning_rate': 0.2521511680920952, 'reg_alpha': 29.93289049589256, 'reg_lambda': 0.27748972775875813, 'subsample': 0.8451235367845727, 'min_child_weight': 3.066066061723623, 'colsample_bytree': 0.7020130360093223, 'gamma': 4.845022210085883}. Best is trial 1 with value: 0.9975023548031078.\u001b[0m\n"
     ]
    },
    {
     "name": "stdout",
     "output_type": "stream",
     "text": [
      "Valid AUC score for xgboost model is 0.9969070210236928\n",
      "FOLD 0\n",
      "---------------------------------------------------\n",
      "Fold 0 ROC AUC is: 0.9967996691512336\n",
      "FOLD 1\n",
      "---------------------------------------------------\n",
      "Fold 1 ROC AUC is: 0.9965463547686031\n",
      "FOLD 2\n",
      "---------------------------------------------------\n",
      "Fold 2 ROC AUC is: 0.9968577040347594\n",
      "FOLD 3\n",
      "---------------------------------------------------\n",
      "Fold 3 ROC AUC is: 0.9967515315408024\n",
      "FOLD 4\n",
      "---------------------------------------------------\n",
      "Fold 4 ROC AUC is: 0.9969581770969863\n"
     ]
    },
    {
     "name": "stderr",
     "output_type": "stream",
     "text": [
      "\u001b[32m[I 2021-11-24 21:04:38,762]\u001b[0m Trial 11 finished with value: 0.9967827919787225 and parameters: {'n_estimators': 9976, 'depth': 3, 'learning_rate': 0.22023450382768028, 'reg_alpha': 36.61936918791296, 'reg_lambda': 0.25758663577727986, 'subsample': 0.8513496163789994, 'min_child_weight': 2.4000774109007397, 'colsample_bytree': 0.7317959276605608, 'gamma': 4.885847809429425}. Best is trial 1 with value: 0.9975023548031078.\u001b[0m\n"
     ]
    },
    {
     "name": "stdout",
     "output_type": "stream",
     "text": [
      "Valid AUC score for xgboost model is 0.9967827919787225\n",
      "FOLD 0\n",
      "---------------------------------------------------\n",
      "Fold 0 ROC AUC is: 0.9961881081334161\n",
      "FOLD 1\n",
      "---------------------------------------------------\n",
      "Fold 1 ROC AUC is: 0.9959094004235463\n",
      "FOLD 2\n",
      "---------------------------------------------------\n",
      "Fold 2 ROC AUC is: 0.9962521397360926\n",
      "FOLD 3\n",
      "---------------------------------------------------\n",
      "Fold 3 ROC AUC is: 0.9962229239372238\n",
      "FOLD 4\n",
      "---------------------------------------------------\n",
      "Fold 4 ROC AUC is: 0.9963575059986538\n"
     ]
    },
    {
     "name": "stderr",
     "output_type": "stream",
     "text": [
      "\u001b[32m[I 2021-11-24 21:07:38,304]\u001b[0m Trial 12 finished with value: 0.9961855923531443 and parameters: {'n_estimators': 9648, 'depth': 3, 'learning_rate': 0.27204226950514954, 'reg_alpha': 49.27977541841764, 'reg_lambda': 0.4572953466506125, 'subsample': 0.8544685803302188, 'min_child_weight': 2.180482198898778, 'colsample_bytree': 0.7371413413327705, 'gamma': 6.420012544394291}. Best is trial 1 with value: 0.9975023548031078.\u001b[0m\n"
     ]
    },
    {
     "name": "stdout",
     "output_type": "stream",
     "text": [
      "Valid AUC score for xgboost model is 0.9961855923531443\n",
      "FOLD 0\n",
      "---------------------------------------------------\n",
      "Fold 0 ROC AUC is: 0.9920734235432425\n",
      "FOLD 1\n",
      "---------------------------------------------------\n",
      "Fold 1 ROC AUC is: 0.9918667738912142\n",
      "FOLD 2\n",
      "---------------------------------------------------\n",
      "Fold 2 ROC AUC is: 0.9924190042951316\n",
      "FOLD 3\n",
      "---------------------------------------------------\n",
      "Fold 3 ROC AUC is: 0.9922842183979256\n",
      "FOLD 4\n",
      "---------------------------------------------------\n",
      "Fold 4 ROC AUC is: 0.9924722685476496\n"
     ]
    },
    {
     "name": "stderr",
     "output_type": "stream",
     "text": [
      "\u001b[32m[I 2021-11-24 21:18:38,788]\u001b[0m Trial 13 finished with value: 0.9922227815571656 and parameters: {'n_estimators': 8066, 'depth': 7, 'learning_rate': 0.005991792202380867, 'reg_alpha': 6.397444671620418, 'reg_lambda': 0.07355666417155017, 'subsample': 0.9376006879380159, 'min_child_weight': 2.8994176408310968, 'colsample_bytree': 0.654566979152264, 'gamma': 3.5940553008834737}. Best is trial 1 with value: 0.9975023548031078.\u001b[0m\n"
     ]
    },
    {
     "name": "stdout",
     "output_type": "stream",
     "text": [
      "Valid AUC score for xgboost model is 0.9922227815571656\n",
      "FOLD 0\n",
      "---------------------------------------------------\n",
      "Fold 0 ROC AUC is: 0.9971734872770392\n",
      "FOLD 1\n",
      "---------------------------------------------------\n",
      "Fold 1 ROC AUC is: 0.9969494370659129\n",
      "FOLD 2\n",
      "---------------------------------------------------\n",
      "Fold 2 ROC AUC is: 0.9972029388649228\n",
      "FOLD 3\n",
      "---------------------------------------------------\n",
      "Fold 3 ROC AUC is: 0.9971953975512639\n",
      "FOLD 4\n",
      "---------------------------------------------------\n",
      "Fold 4 ROC AUC is: 0.9973286148706161\n"
     ]
    },
    {
     "name": "stderr",
     "output_type": "stream",
     "text": [
      "\u001b[32m[I 2021-11-24 21:22:02,452]\u001b[0m Trial 14 finished with value: 0.9971697607881748 and parameters: {'n_estimators': 8404, 'depth': 4, 'learning_rate': 0.1295580398258308, 'reg_alpha': 8.37306837936489, 'reg_lambda': 28.481345224809623, 'subsample': 0.7655620151757302, 'min_child_weight': 6.706024197936731, 'colsample_bytree': 0.8059041469985782, 'gamma': 6.5580942910063955}. Best is trial 1 with value: 0.9975023548031078.\u001b[0m\n"
     ]
    },
    {
     "name": "stdout",
     "output_type": "stream",
     "text": [
      "Valid AUC score for xgboost model is 0.9971697607881748\n",
      "FOLD 0\n",
      "---------------------------------------------------\n",
      "Fold 0 ROC AUC is: 0.997396508918697\n",
      "FOLD 1\n",
      "---------------------------------------------------\n",
      "Fold 1 ROC AUC is: 0.997238623085632\n",
      "FOLD 2\n",
      "---------------------------------------------------\n",
      "Fold 2 ROC AUC is: 0.9974652287302468\n",
      "FOLD 3\n",
      "---------------------------------------------------\n",
      "Fold 3 ROC AUC is: 0.9974950171257764\n",
      "FOLD 4\n",
      "---------------------------------------------------\n",
      "Fold 4 ROC AUC is: 0.9975816562720402\n"
     ]
    },
    {
     "name": "stderr",
     "output_type": "stream",
     "text": [
      "\u001b[32m[I 2021-11-24 21:25:40,363]\u001b[0m Trial 15 finished with value: 0.9974349994304401 and parameters: {'n_estimators': 8146, 'depth': 4, 'learning_rate': 0.10048117090159574, 'reg_alpha': 3.9754423221280564, 'reg_lambda': 17.935591519264825, 'subsample': 0.6334518760377764, 'min_child_weight': 7.243611303085318, 'colsample_bytree': 0.8046299781052564, 'gamma': 6.58315478038044}. Best is trial 1 with value: 0.9975023548031078.\u001b[0m\n"
     ]
    },
    {
     "name": "stdout",
     "output_type": "stream",
     "text": [
      "Valid AUC score for xgboost model is 0.9974349994304401\n",
      "FOLD 0\n",
      "---------------------------------------------------\n",
      "Fold 0 ROC AUC is: 0.9970607005524456\n",
      "FOLD 1\n",
      "---------------------------------------------------\n",
      "Fold 1 ROC AUC is: 0.9968676674252492\n",
      "FOLD 2\n",
      "---------------------------------------------------\n",
      "Fold 2 ROC AUC is: 0.9971264123721352\n",
      "FOLD 3\n",
      "---------------------------------------------------\n",
      "Fold 3 ROC AUC is: 0.9970677871034933\n",
      "FOLD 4\n",
      "---------------------------------------------------\n",
      "Fold 4 ROC AUC is: 0.9971732360725758\n"
     ]
    },
    {
     "name": "stderr",
     "output_type": "stream",
     "text": [
      "\u001b[32m[I 2021-11-24 21:31:56,685]\u001b[0m Trial 16 finished with value: 0.997058685174552 and parameters: {'n_estimators': 7855, 'depth': 6, 'learning_rate': 0.12012698265195336, 'reg_alpha': 2.5838076366198535, 'reg_lambda': 1.698668498642217, 'subsample': 0.6220533497080791, 'min_child_weight': 8.663623821247876, 'colsample_bytree': 0.5136095131955984, 'gamma': 0.23047422237114557}. Best is trial 1 with value: 0.9975023548031078.\u001b[0m\n"
     ]
    },
    {
     "name": "stdout",
     "output_type": "stream",
     "text": [
      "Valid AUC score for xgboost model is 0.997058685174552\n",
      "FOLD 0\n",
      "---------------------------------------------------\n",
      "Fold 0 ROC AUC is: 0.9719681170664043\n",
      "FOLD 1\n",
      "---------------------------------------------------\n",
      "Fold 1 ROC AUC is: 0.9719490232247889\n",
      "FOLD 2\n",
      "---------------------------------------------------\n",
      "Fold 2 ROC AUC is: 0.9731823544992931\n",
      "FOLD 3\n",
      "---------------------------------------------------\n",
      "Fold 3 ROC AUC is: 0.9728985730229053\n",
      "FOLD 4\n",
      "---------------------------------------------------\n",
      "Fold 4 ROC AUC is: 0.9729311281912948\n"
     ]
    },
    {
     "name": "stderr",
     "output_type": "stream",
     "text": [
      "\u001b[32m[I 2021-11-24 21:33:36,201]\u001b[0m Trial 17 finished with value: 0.9725847824129958 and parameters: {'n_estimators': 2526, 'depth': 4, 'learning_rate': 0.008615009144373829, 'reg_alpha': 8.551161796033485, 'reg_lambda': 0.07306735216571009, 'subsample': 0.61906721737274, 'min_child_weight': 6.525605448260641, 'colsample_bytree': 0.8110666836170501, 'gamma': 9.851314183056777}. Best is trial 1 with value: 0.9975023548031078.\u001b[0m\n"
     ]
    },
    {
     "name": "stdout",
     "output_type": "stream",
     "text": [
      "Valid AUC score for xgboost model is 0.9725847824129958\n",
      "FOLD 0\n",
      "---------------------------------------------------\n",
      "Fold 0 ROC AUC is: 0.997349648983714\n",
      "FOLD 1\n",
      "---------------------------------------------------\n",
      "Fold 1 ROC AUC is: 0.9971959908820539\n",
      "FOLD 2\n",
      "---------------------------------------------------\n",
      "Fold 2 ROC AUC is: 0.9974324837382381\n",
      "FOLD 3\n",
      "---------------------------------------------------\n",
      "Fold 3 ROC AUC is: 0.9973511460923432\n",
      "FOLD 4\n",
      "---------------------------------------------------\n",
      "Fold 4 ROC AUC is: 0.9975071067720844\n"
     ]
    },
    {
     "name": "stderr",
     "output_type": "stream",
     "text": [
      "\u001b[32m[I 2021-11-24 21:36:54,798]\u001b[0m Trial 18 finished with value: 0.9973671951920251 and parameters: {'n_estimators': 7306, 'depth': 4, 'learning_rate': 0.10468350218740598, 'reg_alpha': 0.10800867700378233, 'reg_lambda': 7.409048497203433, 'subsample': 0.725734480076759, 'min_child_weight': 10.098375363188957, 'colsample_bytree': 0.7898824445422008, 'gamma': 7.34362496053624}. Best is trial 1 with value: 0.9975023548031078.\u001b[0m\n"
     ]
    },
    {
     "name": "stdout",
     "output_type": "stream",
     "text": [
      "Valid AUC score for xgboost model is 0.9973671951920251\n",
      "FOLD 0\n",
      "---------------------------------------------------\n",
      "Fold 0 ROC AUC is: 0.9950175463294573\n",
      "FOLD 1\n",
      "---------------------------------------------------\n",
      "Fold 1 ROC AUC is: 0.9948261142735682\n",
      "FOLD 2\n",
      "---------------------------------------------------\n",
      "Fold 2 ROC AUC is: 0.995219349991279\n",
      "FOLD 3\n",
      "---------------------------------------------------\n",
      "Fold 3 ROC AUC is: 0.9951410216713577\n",
      "FOLD 4\n",
      "---------------------------------------------------\n",
      "Fold 4 ROC AUC is: 0.9953195443051857\n"
     ]
    },
    {
     "name": "stderr",
     "output_type": "stream",
     "text": [
      "\u001b[32m[I 2021-11-24 21:44:59,420]\u001b[0m Trial 19 finished with value: 0.995104112431183 and parameters: {'n_estimators': 8829, 'depth': 6, 'learning_rate': 0.009845595514087157, 'reg_alpha': 1.5032129006922292, 'reg_lambda': 24.234628441605366, 'subsample': 0.6007186305786033, 'min_child_weight': 7.664693762975527, 'colsample_bytree': 0.6151383355843028, 'gamma': 3.6475751962702043}. Best is trial 1 with value: 0.9975023548031078.\u001b[0m\n"
     ]
    },
    {
     "name": "stdout",
     "output_type": "stream",
     "text": [
      "Valid AUC score for xgboost model is 0.995104112431183\n",
      "FOLD 0\n",
      "---------------------------------------------------\n",
      "Fold 0 ROC AUC is: 0.9966016668679696\n",
      "FOLD 1\n",
      "---------------------------------------------------\n",
      "Fold 1 ROC AUC is: 0.9964227049204921\n",
      "FOLD 2\n",
      "---------------------------------------------------\n",
      "Fold 2 ROC AUC is: 0.9966864594950493\n",
      "FOLD 3\n",
      "---------------------------------------------------\n",
      "Fold 3 ROC AUC is: 0.9966225248347318\n",
      "FOLD 4\n",
      "---------------------------------------------------\n",
      "Fold 4 ROC AUC is: 0.9967317283268804\n"
     ]
    },
    {
     "name": "stderr",
     "output_type": "stream",
     "text": [
      "\u001b[32m[I 2021-11-24 21:48:09,595]\u001b[0m Trial 20 finished with value: 0.9966126051516622 and parameters: {'n_estimators': 5908, 'depth': 8, 'learning_rate': 0.13445483603049846, 'reg_alpha': 9.36990705130249, 'reg_lambda': 0.927881845085354, 'subsample': 0.6744441339355008, 'min_child_weight': 3.95332402775125, 'colsample_bytree': 0.6812469497890213, 'gamma': 5.6040537724860915}. Best is trial 1 with value: 0.9975023548031078.\u001b[0m\n"
     ]
    },
    {
     "name": "stdout",
     "output_type": "stream",
     "text": [
      "Valid AUC score for xgboost model is 0.9966126051516622\n",
      "FOLD 0\n",
      "---------------------------------------------------\n",
      "Fold 0 ROC AUC is: 0.997394239610879\n",
      "FOLD 1\n",
      "---------------------------------------------------\n",
      "Fold 1 ROC AUC is: 0.9972104211457031\n",
      "FOLD 2\n",
      "---------------------------------------------------\n",
      "Fold 2 ROC AUC is: 0.9973780102504328\n",
      "FOLD 3\n",
      "---------------------------------------------------\n",
      "Fold 3 ROC AUC is: 0.9974077209609337\n",
      "FOLD 4\n",
      "---------------------------------------------------\n",
      "Fold 4 ROC AUC is: 0.9975128490561795\n"
     ]
    },
    {
     "name": "stderr",
     "output_type": "stream",
     "text": [
      "\u001b[32m[I 2021-11-24 21:51:41,665]\u001b[0m Trial 21 finished with value: 0.9973806875199305 and parameters: {'n_estimators': 7407, 'depth': 4, 'learning_rate': 0.08911552529483376, 'reg_alpha': 0.10124121970612972, 'reg_lambda': 11.093477572966794, 'subsample': 0.7436308691346517, 'min_child_weight': 10.482911779744665, 'colsample_bytree': 0.7993021140032015, 'gamma': 7.294202718927394}. Best is trial 1 with value: 0.9975023548031078.\u001b[0m\n"
     ]
    },
    {
     "name": "stdout",
     "output_type": "stream",
     "text": [
      "Valid AUC score for xgboost model is 0.9973806875199305\n",
      "FOLD 0\n",
      "---------------------------------------------------\n",
      "Fold 0 ROC AUC is: 0.9973053673970602\n",
      "FOLD 1\n",
      "---------------------------------------------------\n",
      "Fold 1 ROC AUC is: 0.9971129745402256\n",
      "FOLD 2\n",
      "---------------------------------------------------\n",
      "Fold 2 ROC AUC is: 0.9973005923649605\n",
      "FOLD 3\n",
      "---------------------------------------------------\n",
      "Fold 3 ROC AUC is: 0.9973147225972772\n",
      "FOLD 4\n",
      "---------------------------------------------------\n",
      "Fold 4 ROC AUC is: 0.9974735477198772\n"
     ]
    },
    {
     "name": "stderr",
     "output_type": "stream",
     "text": [
      "\u001b[32m[I 2021-11-24 21:55:23,313]\u001b[0m Trial 22 finished with value: 0.9973013603482563 and parameters: {'n_estimators': 7305, 'depth': 4, 'learning_rate': 0.07974781338823501, 'reg_alpha': 0.02187848809520742, 'reg_lambda': 11.317178644959034, 'subsample': 0.8017255827288026, 'min_child_weight': 10.887611035322863, 'colsample_bytree': 0.844963860820078, 'gamma': 7.229893114001201}. Best is trial 1 with value: 0.9975023548031078.\u001b[0m\n"
     ]
    },
    {
     "name": "stdout",
     "output_type": "stream",
     "text": [
      "Valid AUC score for xgboost model is 0.9973013603482563\n",
      "FOLD 0\n",
      "---------------------------------------------------\n",
      "Fold 0 ROC AUC is: 0.9973561281347536\n",
      "FOLD 1\n",
      "---------------------------------------------------\n",
      "Fold 1 ROC AUC is: 0.9972117547225756\n",
      "FOLD 2\n",
      "---------------------------------------------------\n",
      "Fold 2 ROC AUC is: 0.997380931250034\n",
      "FOLD 3\n",
      "---------------------------------------------------\n",
      "Fold 3 ROC AUC is: 0.9974126166211335\n",
      "FOLD 4\n",
      "---------------------------------------------------\n",
      "Fold 4 ROC AUC is: 0.9974638867806054\n"
     ]
    },
    {
     "name": "stderr",
     "output_type": "stream",
     "text": [
      "\u001b[32m[I 2021-11-24 21:58:38,085]\u001b[0m Trial 23 finished with value: 0.9973650926747322 and parameters: {'n_estimators': 8819, 'depth': 4, 'learning_rate': 0.17399429250746482, 'reg_alpha': 0.0012191256521460938, 'reg_lambda': 9.734383179382936, 'subsample': 0.6514152464280202, 'min_child_weight': 8.70221343484327, 'colsample_bytree': 0.5942028101758587, 'gamma': 7.459380457280031}. Best is trial 1 with value: 0.9975023548031078.\u001b[0m\n"
     ]
    },
    {
     "name": "stdout",
     "output_type": "stream",
     "text": [
      "Valid AUC score for xgboost model is 0.9973650926747322\n",
      "FOLD 0\n",
      "---------------------------------------------------\n",
      "Fold 0 ROC AUC is: 0.9966879026494067\n",
      "FOLD 1\n",
      "---------------------------------------------------\n",
      "Fold 1 ROC AUC is: 0.9964575844748633\n",
      "FOLD 2\n",
      "---------------------------------------------------\n",
      "Fold 2 ROC AUC is: 0.9966943040008297\n",
      "FOLD 3\n",
      "---------------------------------------------------\n",
      "Fold 3 ROC AUC is: 0.9966909815195498\n",
      "FOLD 4\n",
      "---------------------------------------------------\n",
      "Fold 4 ROC AUC is: 0.9968651171312173\n"
     ]
    },
    {
     "name": "stderr",
     "output_type": "stream",
     "text": [
      "\u001b[32m[I 2021-11-24 22:01:58,552]\u001b[0m Trial 24 finished with value: 0.9966788739907113 and parameters: {'n_estimators': 7319, 'depth': 3, 'learning_rate': 0.03794698986387859, 'reg_alpha': 0.07136867113298638, 'reg_lambda': 0.08843668766554276, 'subsample': 0.7073501924032424, 'min_child_weight': 5.5419899870911, 'colsample_bytree': 0.7708554820444026, 'gamma': 4.181691018160503}. Best is trial 1 with value: 0.9975023548031078.\u001b[0m\n"
     ]
    },
    {
     "name": "stdout",
     "output_type": "stream",
     "text": [
      "Valid AUC score for xgboost model is 0.9966788739907113\n",
      "FOLD 0\n",
      "---------------------------------------------------\n",
      "Fold 0 ROC AUC is: 0.9971889601461549\n",
      "FOLD 1\n",
      "---------------------------------------------------\n",
      "Fold 1 ROC AUC is: 0.9970128641170306\n",
      "FOLD 2\n",
      "---------------------------------------------------\n",
      "Fold 2 ROC AUC is: 0.9972285303403042\n",
      "FOLD 3\n",
      "---------------------------------------------------\n",
      "Fold 3 ROC AUC is: 0.9972185754946411\n",
      "FOLD 4\n",
      "---------------------------------------------------\n",
      "Fold 4 ROC AUC is: 0.9972747457645059\n"
     ]
    },
    {
     "name": "stderr",
     "output_type": "stream",
     "text": [
      "\u001b[32m[I 2021-11-24 22:05:11,383]\u001b[0m Trial 25 finished with value: 0.9971847508750975 and parameters: {'n_estimators': 5528, 'depth': 6, 'learning_rate': 0.09925963560968783, 'reg_alpha': 0.33675749894579216, 'reg_lambda': 0.9807010944065487, 'subsample': 0.5007254673767241, 'min_child_weight': 10.508650034788385, 'colsample_bytree': 0.8758158769336267, 'gamma': 6.103434784892406}. Best is trial 1 with value: 0.9975023548031078.\u001b[0m\n"
     ]
    },
    {
     "name": "stdout",
     "output_type": "stream",
     "text": [
      "Valid AUC score for xgboost model is 0.9971847508750975\n",
      "FOLD 0\n",
      "---------------------------------------------------\n",
      "Fold 0 ROC AUC is: 0.9974851308708428\n",
      "FOLD 1\n",
      "---------------------------------------------------\n",
      "Fold 1 ROC AUC is: 0.9973501229836852\n",
      "FOLD 2\n",
      "---------------------------------------------------\n",
      "Fold 2 ROC AUC is: 0.9975072667758923\n",
      "FOLD 3\n",
      "---------------------------------------------------\n",
      "Fold 3 ROC AUC is: 0.9974684092737458\n",
      "FOLD 4\n",
      "---------------------------------------------------\n",
      "Fold 4 ROC AUC is: 0.9975357280047098\n"
     ]
    },
    {
     "name": "stderr",
     "output_type": "stream",
     "text": [
      "\u001b[32m[I 2021-11-24 22:08:48,876]\u001b[0m Trial 26 finished with value: 0.9974689627548234 and parameters: {'n_estimators': 9026, 'depth': 4, 'learning_rate': 0.1522460514150375, 'reg_alpha': 1.046494950383425, 'reg_lambda': 0.016688558949045276, 'subsample': 0.57553782179971, 'min_child_weight': 1.5191457497654586, 'colsample_bytree': 0.7041964572468727, 'gamma': 5.3747784362363085}. Best is trial 1 with value: 0.9975023548031078.\u001b[0m\n"
     ]
    },
    {
     "name": "stdout",
     "output_type": "stream",
     "text": [
      "Valid AUC score for xgboost model is 0.9974689627548234\n",
      "FOLD 0\n",
      "---------------------------------------------------\n",
      "Fold 0 ROC AUC is: 0.9971923477804268\n",
      "FOLD 1\n",
      "---------------------------------------------------\n",
      "Fold 1 ROC AUC is: 0.9970182765431579\n",
      "FOLD 2\n",
      "---------------------------------------------------\n",
      "Fold 2 ROC AUC is: 0.9972468789374282\n",
      "FOLD 3\n",
      "---------------------------------------------------\n",
      "Fold 3 ROC AUC is: 0.9972685337722861\n",
      "FOLD 4\n",
      "---------------------------------------------------\n",
      "Fold 4 ROC AUC is: 0.9973495048226731\n"
     ]
    },
    {
     "name": "stderr",
     "output_type": "stream",
     "text": [
      "\u001b[32m[I 2021-11-24 22:12:14,934]\u001b[0m Trial 27 finished with value: 0.9972149443498127 and parameters: {'n_estimators': 8923, 'depth': 5, 'learning_rate': 0.1985983762066621, 'reg_alpha': 3.2927777069055435, 'reg_lambda': 0.01346168110423134, 'subsample': 0.5719657848937876, 'min_child_weight': 1.6131444456659318, 'colsample_bytree': 0.7144042110447747, 'gamma': 5.303223653463768}. Best is trial 1 with value: 0.9975023548031078.\u001b[0m\n"
     ]
    },
    {
     "name": "stdout",
     "output_type": "stream",
     "text": [
      "Valid AUC score for xgboost model is 0.9972149443498127\n",
      "FOLD 0\n",
      "---------------------------------------------------\n",
      "Fold 0 ROC AUC is: 0.9973968051751582\n",
      "FOLD 1\n",
      "---------------------------------------------------\n",
      "Fold 1 ROC AUC is: 0.997219975110596\n",
      "FOLD 2\n",
      "---------------------------------------------------\n",
      "Fold 2 ROC AUC is: 0.9974457659617555\n",
      "FOLD 3\n",
      "---------------------------------------------------\n",
      "Fold 3 ROC AUC is: 0.9974379698420996\n",
      "FOLD 4\n",
      "---------------------------------------------------\n",
      "Fold 4 ROC AUC is: 0.9975433137896231\n"
     ]
    },
    {
     "name": "stderr",
     "output_type": "stream",
     "text": [
      "\u001b[32m[I 2021-11-24 22:15:16,241]\u001b[0m Trial 28 finished with value: 0.9974088388820246 and parameters: {'n_estimators': 8794, 'depth': 3, 'learning_rate': 0.29094385385636384, 'reg_alpha': 15.068098633763725, 'reg_lambda': 0.0015537292949725976, 'subsample': 0.5800774915114748, 'min_child_weight': 1.448657639230258, 'colsample_bytree': 0.6752838979676231, 'gamma': 3.997335594793361}. Best is trial 1 with value: 0.9975023548031078.\u001b[0m\n"
     ]
    },
    {
     "name": "stdout",
     "output_type": "stream",
     "text": [
      "Valid AUC score for xgboost model is 0.9974088388820246\n",
      "FOLD 0\n",
      "---------------------------------------------------\n",
      "Fold 0 ROC AUC is: 0.9781130435722755\n",
      "FOLD 1\n",
      "---------------------------------------------------\n",
      "Fold 1 ROC AUC is: 0.977955735770216\n",
      "FOLD 2\n",
      "---------------------------------------------------\n",
      "Fold 2 ROC AUC is: 0.9790469610823633\n",
      "FOLD 3\n",
      "---------------------------------------------------\n",
      "Fold 3 ROC AUC is: 0.9787908689432712\n",
      "FOLD 4\n",
      "---------------------------------------------------\n",
      "Fold 4 ROC AUC is: 0.9788795422480243\n"
     ]
    },
    {
     "name": "stderr",
     "output_type": "stream",
     "text": [
      "\u001b[32m[I 2021-11-24 22:20:44,487]\u001b[0m Trial 29 finished with value: 0.9785564522522953 and parameters: {'n_estimators': 9290, 'depth': 4, 'learning_rate': 0.0029162680228557512, 'reg_alpha': 1.2230262975052981, 'reg_lambda': 0.03177073063365689, 'subsample': 0.5670107359468244, 'min_child_weight': 0.09737701661389675, 'colsample_bytree': 0.5641979425417927, 'gamma': 5.811689248650966}. Best is trial 1 with value: 0.9975023548031078.\u001b[0m\n"
     ]
    },
    {
     "name": "stdout",
     "output_type": "stream",
     "text": [
      "Valid AUC score for xgboost model is 0.9785564522522953\n",
      "FOLD 0\n",
      "---------------------------------------------------\n",
      "Fold 0 ROC AUC is: 0.9969056676842768\n",
      "FOLD 1\n",
      "---------------------------------------------------\n",
      "Fold 1 ROC AUC is: 0.9967652395751602\n",
      "FOLD 2\n",
      "---------------------------------------------------\n",
      "Fold 2 ROC AUC is: 0.9969787210843716\n",
      "FOLD 3\n",
      "---------------------------------------------------\n",
      "Fold 3 ROC AUC is: 0.9968553370771291\n",
      "FOLD 4\n",
      "---------------------------------------------------\n",
      "Fold 4 ROC AUC is: 0.997032551501885\n"
     ]
    },
    {
     "name": "stderr",
     "output_type": "stream",
     "text": [
      "\u001b[32m[I 2021-11-24 22:25:33,345]\u001b[0m Trial 30 finished with value: 0.996907234146673 and parameters: {'n_estimators': 8094, 'depth': 8, 'learning_rate': 0.06957541061251796, 'reg_alpha': 1.0238082162105349, 'reg_lambda': 0.010682235563597105, 'subsample': 0.6391118729866262, 'min_child_weight': 0.8574220434860393, 'colsample_bytree': 0.765311122713166, 'gamma': 6.681203073005612}. Best is trial 1 with value: 0.9975023548031078.\u001b[0m\n"
     ]
    },
    {
     "name": "stdout",
     "output_type": "stream",
     "text": [
      "Valid AUC score for xgboost model is 0.996907234146673\n",
      "FOLD 0\n",
      "---------------------------------------------------\n",
      "Fold 0 ROC AUC is: 0.9972209914169726\n",
      "FOLD 1\n",
      "---------------------------------------------------\n",
      "Fold 1 ROC AUC is: 0.9970231582629582\n",
      "FOLD 2\n",
      "---------------------------------------------------\n",
      "Fold 2 ROC AUC is: 0.9972636661381052\n",
      "FOLD 3\n",
      "---------------------------------------------------\n",
      "Fold 3 ROC AUC is: 0.9972597706739557\n",
      "FOLD 4\n",
      "---------------------------------------------------\n",
      "Fold 4 ROC AUC is: 0.997424237199689\n"
     ]
    },
    {
     "name": "stderr",
     "output_type": "stream",
     "text": [
      "\u001b[32m[I 2021-11-24 22:28:28,697]\u001b[0m Trial 31 finished with value: 0.9972382574511341 and parameters: {'n_estimators': 8586, 'depth': 3, 'learning_rate': 0.28387834198625106, 'reg_alpha': 21.56942860640388, 'reg_lambda': 0.0019511488406107717, 'subsample': 0.5982676045134744, 'min_child_weight': 1.2782782999951512, 'colsample_bytree': 0.6796687893776493, 'gamma': 3.9042965896124304}. Best is trial 1 with value: 0.9975023548031078.\u001b[0m\n"
     ]
    },
    {
     "name": "stdout",
     "output_type": "stream",
     "text": [
      "Valid AUC score for xgboost model is 0.9972382574511341\n",
      "FOLD 0\n",
      "---------------------------------------------------\n",
      "Fold 0 ROC AUC is: 0.9976668633662273\n",
      "FOLD 1\n",
      "---------------------------------------------------\n",
      "Fold 1 ROC AUC is: 0.9975640058344615\n",
      "FOLD 2\n",
      "---------------------------------------------------\n",
      "Fold 2 ROC AUC is: 0.9976821231653804\n",
      "FOLD 3\n",
      "---------------------------------------------------\n",
      "Fold 3 ROC AUC is: 0.997704535232089\n",
      "FOLD 4\n",
      "---------------------------------------------------\n",
      "Fold 4 ROC AUC is: 0.9977938392418304\n"
     ]
    },
    {
     "name": "stderr",
     "output_type": "stream",
     "text": [
      "\u001b[32m[I 2021-11-24 22:32:16,164]\u001b[0m Trial 32 finished with value: 0.9976820839561702 and parameters: {'n_estimators': 9202, 'depth': 3, 'learning_rate': 0.16354816702516575, 'reg_alpha': 4.066961212750743, 'reg_lambda': 0.0034797753783687266, 'subsample': 0.5093954304426547, 'min_child_weight': 3.5677527979590877, 'colsample_bytree': 0.6527676339792978, 'gamma': 3.056926980286078}. Best is trial 32 with value: 0.9976820839561702.\u001b[0m\n"
     ]
    },
    {
     "name": "stdout",
     "output_type": "stream",
     "text": [
      "Valid AUC score for xgboost model is 0.9976820839561702\n",
      "FOLD 0\n",
      "---------------------------------------------------\n",
      "Fold 0 ROC AUC is: 0.9975860549698099\n",
      "FOLD 1\n",
      "---------------------------------------------------\n",
      "Fold 1 ROC AUC is: 0.9974506274750934\n",
      "FOLD 2\n",
      "---------------------------------------------------\n",
      "Fold 2 ROC AUC is: 0.997585906539207\n",
      "FOLD 3\n",
      "---------------------------------------------------\n",
      "Fold 3 ROC AUC is: 0.9975506602289235\n",
      "FOLD 4\n",
      "---------------------------------------------------\n",
      "Fold 4 ROC AUC is: 0.9976923462256201\n"
     ]
    },
    {
     "name": "stderr",
     "output_type": "stream",
     "text": [
      "\u001b[32m[I 2021-11-24 22:36:25,876]\u001b[0m Trial 33 finished with value: 0.9975727628909075 and parameters: {'n_estimators': 9478, 'depth': 4, 'learning_rate': 0.15199019139608658, 'reg_alpha': 3.208172971479452, 'reg_lambda': 0.0031559084702308, 'subsample': 0.5032532853826397, 'min_child_weight': 3.401129650832794, 'colsample_bytree': 0.6268471710441821, 'gamma': 2.928560432325161}. Best is trial 32 with value: 0.9976820839561702.\u001b[0m\n"
     ]
    },
    {
     "name": "stdout",
     "output_type": "stream",
     "text": [
      "Valid AUC score for xgboost model is 0.9975727628909075\n",
      "FOLD 0\n",
      "---------------------------------------------------\n",
      "Fold 0 ROC AUC is: 0.9976392022950836\n",
      "FOLD 1\n",
      "---------------------------------------------------\n",
      "Fold 1 ROC AUC is: 0.9974710643947146\n",
      "FOLD 2\n",
      "---------------------------------------------------\n",
      "Fold 2 ROC AUC is: 0.9976023790980009\n",
      "FOLD 3\n",
      "---------------------------------------------------\n",
      "Fold 3 ROC AUC is: 0.9976348832634385\n",
      "FOLD 4\n",
      "---------------------------------------------------\n",
      "Fold 4 ROC AUC is: 0.997667276504408\n"
     ]
    },
    {
     "name": "stderr",
     "output_type": "stream",
     "text": [
      "\u001b[32m[I 2021-11-24 22:40:18,588]\u001b[0m Trial 34 finished with value: 0.9976030041512438 and parameters: {'n_estimators': 9370, 'depth': 3, 'learning_rate': 0.16954559115477752, 'reg_alpha': 0.49155064027122236, 'reg_lambda': 0.004194210639322225, 'subsample': 0.5174765324758543, 'min_child_weight': 3.6101906823683962, 'colsample_bytree': 0.5972626691541669, 'gamma': 2.802322158860612}. Best is trial 32 with value: 0.9976820839561702.\u001b[0m\n"
     ]
    },
    {
     "name": "stdout",
     "output_type": "stream",
     "text": [
      "Valid AUC score for xgboost model is 0.9976030041512438\n",
      "FOLD 0\n",
      "---------------------------------------------------\n",
      "Fold 0 ROC AUC is: 0.9971349608751198\n",
      "FOLD 1\n",
      "---------------------------------------------------\n",
      "Fold 1 ROC AUC is: 0.9969364462979998\n",
      "FOLD 2\n",
      "---------------------------------------------------\n",
      "Fold 2 ROC AUC is: 0.997142206727577\n",
      "FOLD 3\n",
      "---------------------------------------------------\n",
      "Fold 3 ROC AUC is: 0.9971332736469741\n",
      "FOLD 4\n",
      "---------------------------------------------------\n",
      "Fold 4 ROC AUC is: 0.9972858816711893\n"
     ]
    },
    {
     "name": "stderr",
     "output_type": "stream",
     "text": [
      "\u001b[32m[I 2021-11-24 22:44:33,780]\u001b[0m Trial 35 finished with value: 0.9971263743739212 and parameters: {'n_estimators': 9554, 'depth': 3, 'learning_rate': 0.0323059087947262, 'reg_alpha': 0.45966279283286987, 'reg_lambda': 0.002962217045289686, 'subsample': 0.5035981741099256, 'min_child_weight': 3.5144129218580544, 'colsample_bytree': 0.5784421446336193, 'gamma': 2.769262350384281}. Best is trial 32 with value: 0.9976820839561702.\u001b[0m\n"
     ]
    },
    {
     "name": "stdout",
     "output_type": "stream",
     "text": [
      "Valid AUC score for xgboost model is 0.9971263743739212\n",
      "FOLD 0\n",
      "---------------------------------------------------\n",
      "Fold 0 ROC AUC is: 0.9975691088778983\n",
      "FOLD 1\n",
      "---------------------------------------------------\n",
      "Fold 1 ROC AUC is: 0.9973699166060616\n",
      "FOLD 2\n",
      "---------------------------------------------------\n",
      "Fold 2 ROC AUC is: 0.9975030148022126\n",
      "FOLD 3\n",
      "---------------------------------------------------\n",
      "Fold 3 ROC AUC is: 0.9975229322847525\n",
      "FOLD 4\n",
      "---------------------------------------------------\n",
      "Fold 4 ROC AUC is: 0.9976566557385005\n"
     ]
    },
    {
     "name": "stderr",
     "output_type": "stream",
     "text": [
      "\u001b[32m[I 2021-11-24 22:48:40,360]\u001b[0m Trial 36 finished with value: 0.9975241397707456 and parameters: {'n_estimators': 9343, 'depth': 3, 'learning_rate': 0.1714463205404406, 'reg_alpha': 0.26451710703438225, 'reg_lambda': 0.003928332384437812, 'subsample': 0.5286105267789387, 'min_child_weight': 5.009682349099944, 'colsample_bytree': 0.5137624194078334, 'gamma': 1.0927953909706878}. Best is trial 32 with value: 0.9976820839561702.\u001b[0m\n"
     ]
    },
    {
     "name": "stdout",
     "output_type": "stream",
     "text": [
      "Valid AUC score for xgboost model is 0.9975241397707456\n",
      "FOLD 0\n",
      "---------------------------------------------------\n",
      "Fold 0 ROC AUC is: 0.9975374137442191\n",
      "FOLD 1\n",
      "---------------------------------------------------\n",
      "Fold 1 ROC AUC is: 0.9973348591302398\n",
      "FOLD 2\n",
      "---------------------------------------------------\n",
      "Fold 2 ROC AUC is: 0.9975231204741277\n",
      "FOLD 3\n",
      "---------------------------------------------------\n",
      "Fold 3 ROC AUC is: 0.9975610398791439\n",
      "FOLD 4\n",
      "---------------------------------------------------\n",
      "Fold 4 ROC AUC is: 0.997663668434512\n"
     ]
    },
    {
     "name": "stderr",
     "output_type": "stream",
     "text": [
      "\u001b[32m[I 2021-11-24 22:53:06,126]\u001b[0m Trial 37 finished with value: 0.9975239380215881 and parameters: {'n_estimators': 9992, 'depth': 3, 'learning_rate': 0.04552699195811868, 'reg_alpha': 0.24942154345273768, 'reg_lambda': 0.001000734365325456, 'subsample': 0.5260882571763351, 'min_child_weight': 5.172894307454756, 'colsample_bytree': 0.5245723106804764, 'gamma': 0.885438762706622}. Best is trial 32 with value: 0.9976820839561702.\u001b[0m\n"
     ]
    },
    {
     "name": "stdout",
     "output_type": "stream",
     "text": [
      "Valid AUC score for xgboost model is 0.9975239380215881\n",
      "FOLD 0\n",
      "---------------------------------------------------\n",
      "Fold 0 ROC AUC is: 0.9970918183195224\n",
      "FOLD 1\n",
      "---------------------------------------------------\n",
      "Fold 1 ROC AUC is: 0.9969365194125959\n",
      "FOLD 2\n",
      "---------------------------------------------------\n",
      "Fold 2 ROC AUC is: 0.9970265955701756\n",
      "FOLD 3\n",
      "---------------------------------------------------\n",
      "Fold 3 ROC AUC is: 0.9970883576602781\n",
      "FOLD 4\n",
      "---------------------------------------------------\n",
      "Fold 4 ROC AUC is: 0.997166896102892\n"
     ]
    },
    {
     "name": "stderr",
     "output_type": "stream",
     "text": [
      "\u001b[32m[I 2021-11-24 22:56:07,204]\u001b[0m Trial 38 finished with value: 0.9970620929575281 and parameters: {'n_estimators': 4829, 'depth': 5, 'learning_rate': 0.16768712277624856, 'reg_alpha': 0.5869242220830724, 'reg_lambda': 0.0037592595286413187, 'subsample': 0.5430239229837504, 'min_child_weight': 4.387691284225782, 'colsample_bytree': 0.5419461446661931, 'gamma': 1.5048444175288511}. Best is trial 32 with value: 0.9976820839561702.\u001b[0m\n"
     ]
    },
    {
     "name": "stdout",
     "output_type": "stream",
     "text": [
      "Valid AUC score for xgboost model is 0.9970620929575281\n",
      "FOLD 0\n",
      "---------------------------------------------------\n",
      "Fold 0 ROC AUC is: 0.9976551396976653\n",
      "FOLD 1\n",
      "---------------------------------------------------\n",
      "Fold 1 ROC AUC is: 0.9975139618124549\n",
      "FOLD 2\n",
      "---------------------------------------------------\n",
      "Fold 2 ROC AUC is: 0.9977094361376722\n",
      "FOLD 3\n",
      "---------------------------------------------------\n",
      "Fold 3 ROC AUC is: 0.997691207400397\n",
      "FOLD 4\n",
      "---------------------------------------------------\n",
      "Fold 4 ROC AUC is: 0.9977828839887773\n"
     ]
    },
    {
     "name": "stderr",
     "output_type": "stream",
     "text": [
      "\u001b[32m[I 2021-11-24 23:00:17,362]\u001b[0m Trial 39 finished with value: 0.9976702048265799 and parameters: {'n_estimators': 9329, 'depth': 3, 'learning_rate': 0.0666353715366672, 'reg_alpha': 0.04362226458301869, 'reg_lambda': 0.007267527550117002, 'subsample': 0.5002723958608276, 'min_child_weight': 5.150981677074837, 'colsample_bytree': 0.6108990515860214, 'gamma': 2.800966278512962}. Best is trial 32 with value: 0.9976820839561702.\u001b[0m\n"
     ]
    },
    {
     "name": "stdout",
     "output_type": "stream",
     "text": [
      "Valid AUC score for xgboost model is 0.9976702048265799\n",
      "FOLD 0\n",
      "---------------------------------------------------\n",
      "Fold 0 ROC AUC is: 0.9959286390264787\n",
      "FOLD 1\n",
      "---------------------------------------------------\n",
      "Fold 1 ROC AUC is: 0.995737194282558\n",
      "FOLD 2\n",
      "---------------------------------------------------\n",
      "Fold 2 ROC AUC is: 0.9960590741425055\n",
      "FOLD 3\n",
      "---------------------------------------------------\n",
      "Fold 3 ROC AUC is: 0.9959832707796826\n",
      "FOLD 4\n",
      "---------------------------------------------------\n",
      "Fold 4 ROC AUC is: 0.99621270460965\n"
     ]
    },
    {
     "name": "stderr",
     "output_type": "stream",
     "text": [
      "\u001b[32m[I 2021-11-24 23:03:22,121]\u001b[0m Trial 40 finished with value: 0.9959837112960217 and parameters: {'n_estimators': 6721, 'depth': 3, 'learning_rate': 0.028269300548248423, 'reg_alpha': 0.02934047515901898, 'reg_lambda': 0.006608313579451296, 'subsample': 0.5517091230028864, 'min_child_weight': 3.7031195977344002, 'colsample_bytree': 0.6172153854595719, 'gamma': 2.8148981209247426}. Best is trial 32 with value: 0.9976820839561702.\u001b[0m\n"
     ]
    },
    {
     "name": "stdout",
     "output_type": "stream",
     "text": [
      "Valid AUC score for xgboost model is 0.9959837112960217\n",
      "FOLD 0\n",
      "---------------------------------------------------\n",
      "Fold 0 ROC AUC is: 0.9976067048233149\n",
      "FOLD 1\n",
      "---------------------------------------------------\n",
      "Fold 1 ROC AUC is: 0.997452721527166\n",
      "FOLD 2\n",
      "---------------------------------------------------\n",
      "Fold 2 ROC AUC is: 0.9975810883769091\n",
      "FOLD 3\n",
      "---------------------------------------------------\n",
      "Fold 3 ROC AUC is: 0.9976250093850629\n",
      "FOLD 4\n",
      "---------------------------------------------------\n",
      "Fold 4 ROC AUC is: 0.9977434161732062\n"
     ]
    },
    {
     "name": "stderr",
     "output_type": "stream",
     "text": [
      "\u001b[32m[I 2021-11-24 23:07:32,500]\u001b[0m Trial 41 finished with value: 0.9976016813467479 and parameters: {'n_estimators': 9316, 'depth': 3, 'learning_rate': 0.05910073168072132, 'reg_alpha': 0.051651166399667874, 'reg_lambda': 0.00459008650487983, 'subsample': 0.514830097634172, 'min_child_weight': 5.121665893213419, 'colsample_bytree': 0.6132121114506836, 'gamma': 2.067073852533441}. Best is trial 32 with value: 0.9976820839561702.\u001b[0m\n"
     ]
    },
    {
     "name": "stdout",
     "output_type": "stream",
     "text": [
      "Valid AUC score for xgboost model is 0.9976016813467479\n",
      "FOLD 0\n",
      "---------------------------------------------------\n",
      "Fold 0 ROC AUC is: 0.9976173185028472\n",
      "FOLD 1\n",
      "---------------------------------------------------\n",
      "Fold 1 ROC AUC is: 0.9974595478728208\n",
      "FOLD 2\n",
      "---------------------------------------------------\n",
      "Fold 2 ROC AUC is: 0.9976417510262067\n",
      "FOLD 3\n",
      "---------------------------------------------------\n",
      "Fold 3 ROC AUC is: 0.9976639686886785\n",
      "FOLD 4\n",
      "---------------------------------------------------\n",
      "Fold 4 ROC AUC is: 0.9977458463814309\n"
     ]
    },
    {
     "name": "stderr",
     "output_type": "stream",
     "text": [
      "\u001b[32m[I 2021-11-24 23:11:41,304]\u001b[0m Trial 42 finished with value: 0.997625409097845 and parameters: {'n_estimators': 9263, 'depth': 3, 'learning_rate': 0.06363156389943016, 'reg_alpha': 0.01357800263099869, 'reg_lambda': 0.006661382342850016, 'subsample': 0.502111383267309, 'min_child_weight': 5.860031719918162, 'colsample_bytree': 0.6445220230600149, 'gamma': 2.2073768868805446}. Best is trial 32 with value: 0.9976820839561702.\u001b[0m\n"
     ]
    },
    {
     "name": "stdout",
     "output_type": "stream",
     "text": [
      "Valid AUC score for xgboost model is 0.997625409097845\n",
      "FOLD 0\n",
      "---------------------------------------------------\n",
      "Fold 0 ROC AUC is: 0.9975055645071558\n",
      "FOLD 1\n",
      "---------------------------------------------------\n",
      "Fold 1 ROC AUC is: 0.997379074556726\n",
      "FOLD 2\n",
      "---------------------------------------------------\n",
      "Fold 2 ROC AUC is: 0.9975036948122539\n",
      "FOLD 3\n",
      "---------------------------------------------------\n",
      "Fold 3 ROC AUC is: 0.9975320898267475\n",
      "FOLD 4\n",
      "---------------------------------------------------\n",
      "Fold 4 ROC AUC is: 0.9976374863038283\n"
     ]
    },
    {
     "name": "stderr",
     "output_type": "stream",
     "text": [
      "\u001b[32m[I 2021-11-24 23:15:09,660]\u001b[0m Trial 43 finished with value: 0.9975117819455281 and parameters: {'n_estimators': 7759, 'depth': 3, 'learning_rate': 0.06516678033287718, 'reg_alpha': 0.046200764176465854, 'reg_lambda': 0.007588924293592308, 'subsample': 0.5189478862589091, 'min_child_weight': 6.251974985776353, 'colsample_bytree': 0.5941557699099936, 'gamma': 2.309647779852734}. Best is trial 32 with value: 0.9976820839561702.\u001b[0m\n"
     ]
    },
    {
     "name": "stdout",
     "output_type": "stream",
     "text": [
      "Valid AUC score for xgboost model is 0.9975117819455281\n",
      "FOLD 0\n",
      "---------------------------------------------------\n",
      "Fold 0 ROC AUC is: 0.996738244570508\n",
      "FOLD 1\n",
      "---------------------------------------------------\n",
      "Fold 1 ROC AUC is: 0.9966151059801284\n",
      "FOLD 2\n",
      "---------------------------------------------------\n",
      "Fold 2 ROC AUC is: 0.996784896125392\n",
      "FOLD 3\n",
      "---------------------------------------------------\n",
      "Fold 3 ROC AUC is: 0.996730785166105\n",
      "FOLD 4\n",
      "---------------------------------------------------\n",
      "Fold 4 ROC AUC is: 0.9969633957634816\n"
     ]
    },
    {
     "name": "stderr",
     "output_type": "stream",
     "text": [
      "\u001b[32m[I 2021-11-24 23:24:34,055]\u001b[0m Trial 44 finished with value: 0.9967656468803681 and parameters: {'n_estimators': 8414, 'depth': 10, 'learning_rate': 0.04924590066014042, 'reg_alpha': 0.011884980389608137, 'reg_lambda': 0.029203296167134185, 'subsample': 0.5590044792958515, 'min_child_weight': 5.63819245531294, 'colsample_bytree': 0.6386890102006557, 'gamma': 1.7971765720657658}. Best is trial 32 with value: 0.9976820839561702.\u001b[0m\n"
     ]
    },
    {
     "name": "stdout",
     "output_type": "stream",
     "text": [
      "Valid AUC score for xgboost model is 0.9967656468803681\n",
      "FOLD 0\n",
      "---------------------------------------------------\n",
      "Fold 0 ROC AUC is: 0.994244820129264\n",
      "FOLD 1\n",
      "---------------------------------------------------\n",
      "Fold 1 ROC AUC is: 0.9940312287869066\n",
      "FOLD 2\n",
      "---------------------------------------------------\n",
      "Fold 2 ROC AUC is: 0.9942844327728314\n",
      "FOLD 3\n",
      "---------------------------------------------------\n",
      "Fold 3 ROC AUC is: 0.9942908788252107\n",
      "FOLD 4\n",
      "---------------------------------------------------\n",
      "Fold 4 ROC AUC is: 0.9945422616317507\n"
     ]
    },
    {
     "name": "stderr",
     "output_type": "stream",
     "text": [
      "\u001b[32m[I 2021-11-24 23:25:37,569]\u001b[0m Trial 45 finished with value: 0.9942785688876374 and parameters: {'n_estimators': 2082, 'depth': 3, 'learning_rate': 0.06555938648334464, 'reg_alpha': 0.014204109843963877, 'reg_lambda': 0.0010181499446952342, 'subsample': 0.5229957187326817, 'min_child_weight': 4.65836155298376, 'colsample_bytree': 0.6557286615815255, 'gamma': 3.359847884712272}. Best is trial 32 with value: 0.9976820839561702.\u001b[0m\n"
     ]
    },
    {
     "name": "stdout",
     "output_type": "stream",
     "text": [
      "Valid AUC score for xgboost model is 0.9942785688876374\n",
      "FOLD 0\n",
      "---------------------------------------------------\n",
      "Fold 0 ROC AUC is: 0.9962295751447313\n",
      "FOLD 1\n",
      "---------------------------------------------------\n",
      "Fold 1 ROC AUC is: 0.99604058899812\n",
      "FOLD 2\n",
      "---------------------------------------------------\n",
      "Fold 2 ROC AUC is: 0.9962998796930349\n",
      "FOLD 3\n",
      "---------------------------------------------------\n",
      "Fold 3 ROC AUC is: 0.9962807232768102\n",
      "FOLD 4\n",
      "---------------------------------------------------\n",
      "Fold 4 ROC AUC is: 0.9964362294312626\n"
     ]
    },
    {
     "name": "stderr",
     "output_type": "stream",
     "text": [
      "\u001b[32m[I 2021-11-24 23:29:44,660]\u001b[0m Trial 46 finished with value: 0.996256818933696 and parameters: {'n_estimators': 9177, 'depth': 3, 'learning_rate': 0.02240394812991639, 'reg_alpha': 0.004869651386800948, 'reg_lambda': 0.002219636616193798, 'subsample': 0.5484588447156405, 'min_child_weight': 5.962036938385758, 'colsample_bytree': 0.5967665327283452, 'gamma': 2.3607710728194116}. Best is trial 32 with value: 0.9976820839561702.\u001b[0m\n"
     ]
    },
    {
     "name": "stdout",
     "output_type": "stream",
     "text": [
      "Valid AUC score for xgboost model is 0.996256818933696\n",
      "FOLD 0\n",
      "---------------------------------------------------\n",
      "Fold 0 ROC AUC is: 0.9965811113663113\n",
      "FOLD 1\n",
      "---------------------------------------------------\n",
      "Fold 1 ROC AUC is: 0.9964075795121753\n",
      "FOLD 2\n",
      "---------------------------------------------------\n",
      "Fold 2 ROC AUC is: 0.9966279005269283\n",
      "FOLD 3\n",
      "---------------------------------------------------\n",
      "Fold 3 ROC AUC is: 0.9966358022143272\n",
      "FOLD 4\n",
      "---------------------------------------------------\n",
      "Fold 4 ROC AUC is: 0.9967928189923917\n"
     ]
    },
    {
     "name": "stderr",
     "output_type": "stream",
     "text": [
      "\u001b[32m[I 2021-11-24 23:36:53,730]\u001b[0m Trial 47 finished with value: 0.9966085831822562 and parameters: {'n_estimators': 9974, 'depth': 5, 'learning_rate': 0.01600216734264252, 'reg_alpha': 0.17469414965978639, 'reg_lambda': 0.004834739245698498, 'subsample': 0.5963713473188584, 'min_child_weight': 2.4849355238380513, 'colsample_bytree': 0.5433217231620526, 'gamma': 3.2613133888951653}. Best is trial 32 with value: 0.9976820839561702.\u001b[0m\n"
     ]
    },
    {
     "name": "stdout",
     "output_type": "stream",
     "text": [
      "Valid AUC score for xgboost model is 0.9966085831822562\n",
      "FOLD 0\n",
      "---------------------------------------------------\n",
      "Fold 0 ROC AUC is: 0.9974416089624598\n",
      "FOLD 1\n",
      "---------------------------------------------------\n",
      "Fold 1 ROC AUC is: 0.997238894137842\n",
      "FOLD 2\n",
      "---------------------------------------------------\n",
      "Fold 2 ROC AUC is: 0.9974399430022782\n",
      "FOLD 3\n",
      "---------------------------------------------------\n",
      "Fold 3 ROC AUC is: 0.997457719127702\n",
      "FOLD 4\n",
      "---------------------------------------------------\n",
      "Fold 4 ROC AUC is: 0.9976026856053216\n"
     ]
    },
    {
     "name": "stderr",
     "output_type": "stream",
     "text": [
      "\u001b[32m[I 2021-11-24 23:40:43,044]\u001b[0m Trial 48 finished with value: 0.9974361783944357 and parameters: {'n_estimators': 8507, 'depth': 3, 'learning_rate': 0.049981424452762775, 'reg_alpha': 0.05448438234546189, 'reg_lambda': 0.009333439959285143, 'subsample': 0.5158659640370181, 'min_child_weight': 4.08809043782768, 'colsample_bytree': 0.6553703592568016, 'gamma': 1.219322009607596}. Best is trial 32 with value: 0.9976820839561702.\u001b[0m\n"
     ]
    },
    {
     "name": "stdout",
     "output_type": "stream",
     "text": [
      "Valid AUC score for xgboost model is 0.9974361783944357\n",
      "FOLD 0\n",
      "---------------------------------------------------\n",
      "Fold 0 ROC AUC is: 0.9970730559198225\n",
      "FOLD 1\n",
      "---------------------------------------------------\n",
      "Fold 1 ROC AUC is: 0.9968777711396241\n",
      "FOLD 2\n",
      "---------------------------------------------------\n",
      "Fold 2 ROC AUC is: 0.9971195650198488\n",
      "FOLD 3\n",
      "---------------------------------------------------\n",
      "Fold 3 ROC AUC is: 0.9970840546384809\n",
      "FOLD 4\n",
      "---------------------------------------------------\n",
      "Fold 4 ROC AUC is: 0.9972528850076307\n"
     ]
    },
    {
     "name": "stderr",
     "output_type": "stream",
     "text": [
      "\u001b[32m[I 2021-11-24 23:44:29,837]\u001b[0m Trial 49 finished with value: 0.9970811192450328 and parameters: {'n_estimators': 6732, 'depth': 4, 'learning_rate': 0.04036251202530876, 'reg_alpha': 0.007432717862502183, 'reg_lambda': 0.01993395707533875, 'subsample': 0.544450555249939, 'min_child_weight': 7.079939740384792, 'colsample_bytree': 0.5720167254099712, 'gamma': 0.3075583369643664}. Best is trial 32 with value: 0.9976820839561702.\u001b[0m\n"
     ]
    },
    {
     "name": "stdout",
     "output_type": "stream",
     "text": [
      "Valid AUC score for xgboost model is 0.9970811192450328\n",
      "FOLD 0\n",
      "---------------------------------------------------\n",
      "Fold 0 ROC AUC is: 0.9970450928949779\n",
      "FOLD 1\n",
      "---------------------------------------------------\n",
      "Fold 1 ROC AUC is: 0.9968385639239697\n",
      "FOLD 2\n",
      "---------------------------------------------------\n",
      "Fold 2 ROC AUC is: 0.9970597833400285\n",
      "FOLD 3\n",
      "---------------------------------------------------\n",
      "Fold 3 ROC AUC is: 0.9970003593356768\n",
      "FOLD 4\n",
      "---------------------------------------------------\n",
      "Fold 4 ROC AUC is: 0.997139500118775\n"
     ]
    },
    {
     "name": "stderr",
     "output_type": "stream",
     "text": [
      "\u001b[32m[I 2021-11-24 23:49:31,860]\u001b[0m Trial 50 finished with value: 0.9970165095943455 and parameters: {'n_estimators': 7712, 'depth': 5, 'learning_rate': 0.07902318575393677, 'reg_alpha': 0.002181305049268812, 'reg_lambda': 0.043419637968285546, 'subsample': 0.9463300214494845, 'min_child_weight': 2.8600570605077524, 'colsample_bytree': 0.5965310680026271, 'gamma': 1.82448943954604}. Best is trial 32 with value: 0.9976820839561702.\u001b[0m\n"
     ]
    },
    {
     "name": "stdout",
     "output_type": "stream",
     "text": [
      "Valid AUC score for xgboost model is 0.9970165095943455\n",
      "FOLD 0\n",
      "---------------------------------------------------\n",
      "Fold 0 ROC AUC is: 0.9974974257918967\n",
      "FOLD 1\n",
      "---------------------------------------------------\n",
      "Fold 1 ROC AUC is: 0.9973775516603098\n",
      "FOLD 2\n",
      "---------------------------------------------------\n",
      "Fold 2 ROC AUC is: 0.9974936642124721\n",
      "FOLD 3\n",
      "---------------------------------------------------\n",
      "Fold 3 ROC AUC is: 0.9974359300763406\n",
      "FOLD 4\n",
      "---------------------------------------------------\n",
      "Fold 4 ROC AUC is: 0.997648158625503\n"
     ]
    },
    {
     "name": "stderr",
     "output_type": "stream",
     "text": [
      "\u001b[32m[I 2021-11-24 23:53:16,022]\u001b[0m Trial 51 finished with value: 0.9974905997849383 and parameters: {'n_estimators': 9463, 'depth': 3, 'learning_rate': 0.20863982751375798, 'reg_alpha': 0.15447530466495996, 'reg_lambda': 0.0054646975058892724, 'subsample': 0.5014405887173126, 'min_child_weight': 3.433981860491553, 'colsample_bytree': 0.62378606045382, 'gamma': 2.9991654977949196}. Best is trial 32 with value: 0.9976820839561702.\u001b[0m\n"
     ]
    },
    {
     "name": "stdout",
     "output_type": "stream",
     "text": [
      "Valid AUC score for xgboost model is 0.9974905997849383\n",
      "FOLD 0\n",
      "---------------------------------------------------\n",
      "Fold 0 ROC AUC is: 0.9975290832682114\n",
      "FOLD 1\n",
      "---------------------------------------------------\n",
      "Fold 1 ROC AUC is: 0.9973799039764881\n",
      "FOLD 2\n",
      "---------------------------------------------------\n",
      "Fold 2 ROC AUC is: 0.9975045345058304\n",
      "FOLD 3\n",
      "---------------------------------------------------\n",
      "Fold 3 ROC AUC is: 0.997529939705714\n",
      "FOLD 4\n",
      "---------------------------------------------------\n",
      "Fold 4 ROC AUC is: 0.9975976150748035\n"
     ]
    },
    {
     "name": "stderr",
     "output_type": "stream",
     "text": [
      "\u001b[32m[I 2021-11-24 23:57:20,587]\u001b[0m Trial 52 finished with value: 0.9975078438344391 and parameters: {'n_estimators': 9707, 'depth': 4, 'learning_rate': 0.13505755193374583, 'reg_alpha': 0.027935246277783536, 'reg_lambda': 0.002975786857240028, 'subsample': 0.5178598099325772, 'min_child_weight': 4.899834146232628, 'colsample_bytree': 0.6355555780186922, 'gamma': 4.3619994675769}. Best is trial 32 with value: 0.9976820839561702.\u001b[0m\n"
     ]
    },
    {
     "name": "stdout",
     "output_type": "stream",
     "text": [
      "Valid AUC score for xgboost model is 0.9975078438344391\n",
      "FOLD 0\n",
      "---------------------------------------------------\n",
      "Fold 0 ROC AUC is: 0.9976783822120766\n",
      "FOLD 1\n",
      "---------------------------------------------------\n",
      "Fold 1 ROC AUC is: 0.9975394854785481\n",
      "FOLD 2\n",
      "---------------------------------------------------\n",
      "Fold 2 ROC AUC is: 0.9976883149674183\n",
      "FOLD 3\n",
      "---------------------------------------------------\n",
      "Fold 3 ROC AUC is: 0.9977109944903253\n",
      "FOLD 4\n",
      "---------------------------------------------------\n",
      "Fold 4 ROC AUC is: 0.9978313547475123\n"
     ]
    },
    {
     "name": "stderr",
     "output_type": "stream",
     "text": [
      "\u001b[32m[I 2021-11-25 00:01:25,423]\u001b[0m Trial 53 finished with value: 0.9976894906551586 and parameters: {'n_estimators': 9195, 'depth': 3, 'learning_rate': 0.10723216503029027, 'reg_alpha': 2.124646587779806, 'reg_lambda': 0.0016154506614782093, 'subsample': 0.543066438671662, 'min_child_weight': 4.275438596192993, 'colsample_bytree': 0.6705981497209349, 'gamma': 2.4746257461641537}. Best is trial 53 with value: 0.9976894906551586.\u001b[0m\n"
     ]
    },
    {
     "name": "stdout",
     "output_type": "stream",
     "text": [
      "Valid AUC score for xgboost model is 0.9976894906551586\n",
      "FOLD 0\n",
      "---------------------------------------------------\n",
      "Fold 0 ROC AUC is: 0.9976814110592085\n",
      "FOLD 1\n",
      "---------------------------------------------------\n",
      "Fold 1 ROC AUC is: 0.997508279724129\n",
      "FOLD 2\n",
      "---------------------------------------------------\n",
      "Fold 2 ROC AUC is: 0.9976714063016328\n",
      "FOLD 3\n",
      "---------------------------------------------------\n",
      "Fold 3 ROC AUC is: 0.9977089783522702\n",
      "FOLD 4\n",
      "---------------------------------------------------\n",
      "Fold 4 ROC AUC is: 0.9978271737276783\n"
     ]
    },
    {
     "name": "stderr",
     "output_type": "stream",
     "text": [
      "\u001b[32m[I 2021-11-25 00:05:09,660]\u001b[0m Trial 54 finished with value: 0.9976789285041764 and parameters: {'n_estimators': 8396, 'depth': 3, 'learning_rate': 0.11060988825701137, 'reg_alpha': 2.1163699513063414, 'reg_lambda': 0.0017830917354807875, 'subsample': 0.5374326018770704, 'min_child_weight': 5.819216607046789, 'colsample_bytree': 0.687313275332828, 'gamma': 2.498540663335234}. Best is trial 53 with value: 0.9976894906551586.\u001b[0m\n"
     ]
    },
    {
     "name": "stdout",
     "output_type": "stream",
     "text": [
      "Valid AUC score for xgboost model is 0.9976789285041764\n",
      "FOLD 0\n",
      "---------------------------------------------------\n",
      "Fold 0 ROC AUC is: 0.9976602196900238\n",
      "FOLD 1\n",
      "---------------------------------------------------\n",
      "Fold 1 ROC AUC is: 0.9974642957345299\n",
      "FOLD 2\n",
      "---------------------------------------------------\n",
      "Fold 2 ROC AUC is: 0.997673822956979\n",
      "FOLD 3\n",
      "---------------------------------------------------\n",
      "Fold 3 ROC AUC is: 0.997696977563605\n",
      "FOLD 4\n",
      "---------------------------------------------------\n",
      "Fold 4 ROC AUC is: 0.9977582204603056\n"
     ]
    },
    {
     "name": "stderr",
     "output_type": "stream",
     "text": [
      "\u001b[32m[I 2021-11-25 00:08:50,371]\u001b[0m Trial 55 finished with value: 0.9976506955685361 and parameters: {'n_estimators': 8245, 'depth': 3, 'learning_rate': 0.11150761609235829, 'reg_alpha': 1.8530423322768756, 'reg_lambda': 0.0014419329323456485, 'subsample': 0.555351412233404, 'min_child_weight': 5.941101682376598, 'colsample_bytree': 0.6695156465428815, 'gamma': 2.4925261977523094}. Best is trial 53 with value: 0.9976894906551586.\u001b[0m\n"
     ]
    },
    {
     "name": "stdout",
     "output_type": "stream",
     "text": [
      "Valid AUC score for xgboost model is 0.9976506955685361\n",
      "FOLD 0\n",
      "---------------------------------------------------\n",
      "Fold 0 ROC AUC is: 0.9974675732288908\n",
      "FOLD 1\n",
      "---------------------------------------------------\n",
      "Fold 1 ROC AUC is: 0.9972619245406077\n",
      "FOLD 2\n",
      "---------------------------------------------------\n",
      "Fold 2 ROC AUC is: 0.9974216049673378\n",
      "FOLD 3\n",
      "---------------------------------------------------\n",
      "Fold 3 ROC AUC is: 0.9974034125186632\n",
      "FOLD 4\n",
      "---------------------------------------------------\n",
      "Fold 4 ROC AUC is: 0.9975132526085976\n"
     ]
    },
    {
     "name": "stderr",
     "output_type": "stream",
     "text": [
      "\u001b[32m[I 2021-11-25 00:13:26,861]\u001b[0m Trial 56 finished with value: 0.9974133514323134 and parameters: {'n_estimators': 8256, 'depth': 4, 'learning_rate': 0.10752886456194735, 'reg_alpha': 1.6888310631869368, 'reg_lambda': 0.0014678746906372916, 'subsample': 0.5586292517540886, 'min_child_weight': 6.086847243908876, 'colsample_bytree': 0.7289389640196123, 'gamma': 0.5727627092225953}. Best is trial 53 with value: 0.9976894906551586.\u001b[0m\n"
     ]
    },
    {
     "name": "stdout",
     "output_type": "stream",
     "text": [
      "Valid AUC score for xgboost model is 0.9974133514323134\n",
      "FOLD 0\n",
      "---------------------------------------------------\n",
      "Fold 0 ROC AUC is: 0.9976406117365872\n",
      "FOLD 1\n",
      "---------------------------------------------------\n",
      "Fold 1 ROC AUC is: 0.9974014426190917\n",
      "FOLD 2\n",
      "---------------------------------------------------\n",
      "Fold 2 ROC AUC is: 0.9976334170466137\n",
      "FOLD 3\n",
      "---------------------------------------------------\n",
      "Fold 3 ROC AUC is: 0.9976250334297261\n",
      "FOLD 4\n",
      "---------------------------------------------------\n",
      "Fold 4 ROC AUC is: 0.9977608470251303\n"
     ]
    },
    {
     "name": "stderr",
     "output_type": "stream",
     "text": [
      "\u001b[32m[I 2021-11-25 00:17:17,754]\u001b[0m Trial 57 finished with value: 0.9976117734742258 and parameters: {'n_estimators': 8682, 'depth': 3, 'learning_rate': 0.08627925043096053, 'reg_alpha': 5.281023235767966, 'reg_lambda': 0.002183459615831347, 'subsample': 0.611259226119197, 'min_child_weight': 7.534079683512957, 'colsample_bytree': 0.668105231751207, 'gamma': 2.432423543827143}. Best is trial 53 with value: 0.9976894906551586.\u001b[0m\n"
     ]
    },
    {
     "name": "stdout",
     "output_type": "stream",
     "text": [
      "Valid AUC score for xgboost model is 0.9976117734742258\n",
      "FOLD 0\n",
      "---------------------------------------------------\n",
      "Fold 0 ROC AUC is: 0.9969448897052605\n",
      "FOLD 1\n",
      "---------------------------------------------------\n",
      "Fold 1 ROC AUC is: 0.9968076560489795\n",
      "FOLD 2\n",
      "---------------------------------------------------\n",
      "Fold 2 ROC AUC is: 0.996992681233289\n",
      "FOLD 3\n",
      "---------------------------------------------------\n",
      "Fold 3 ROC AUC is: 0.9969920579504734\n",
      "FOLD 4\n",
      "---------------------------------------------------\n",
      "Fold 4 ROC AUC is: 0.997088417664399\n"
     ]
    },
    {
     "name": "stderr",
     "output_type": "stream",
     "text": [
      "\u001b[32m[I 2021-11-25 00:23:59,203]\u001b[0m Trial 58 finished with value: 0.9969652314759511 and parameters: {'n_estimators': 7782, 'depth': 9, 'learning_rate': 0.07772262829767959, 'reg_alpha': 2.004225123141673, 'reg_lambda': 0.0019607145826594846, 'subsample': 0.5805860224599235, 'min_child_weight': 6.68174002654972, 'colsample_bytree': 0.693632267813514, 'gamma': 1.6096600368149019}. Best is trial 53 with value: 0.9976894906551586.\u001b[0m\n"
     ]
    },
    {
     "name": "stdout",
     "output_type": "stream",
     "text": [
      "Valid AUC score for xgboost model is 0.9969652314759511\n",
      "FOLD 0\n",
      "---------------------------------------------------\n",
      "Fold 0 ROC AUC is: 0.9969389530426003\n",
      "FOLD 1\n",
      "---------------------------------------------------\n",
      "Fold 1 ROC AUC is: 0.9967245486614089\n",
      "FOLD 2\n",
      "---------------------------------------------------\n",
      "Fold 2 ROC AUC is: 0.9969824666291547\n",
      "FOLD 3\n",
      "---------------------------------------------------\n",
      "Fold 3 ROC AUC is: 0.9969809120677218\n",
      "FOLD 4\n",
      "---------------------------------------------------\n",
      "Fold 4 ROC AUC is: 0.9971678866406449\n"
     ]
    },
    {
     "name": "stderr",
     "output_type": "stream",
     "text": [
      "\u001b[32m[I 2021-11-25 00:26:05,925]\u001b[0m Trial 59 finished with value: 0.9969583307286274 and parameters: {'n_estimators': 3818, 'depth': 4, 'learning_rate': 0.11680003385488084, 'reg_alpha': 15.403119885585651, 'reg_lambda': 0.00124528737404643, 'subsample': 0.5368883046619256, 'min_child_weight': 8.111194447697125, 'colsample_bytree': 0.7205875622726329, 'gamma': 3.3122841936654663}. Best is trial 53 with value: 0.9976894906551586.\u001b[0m\n"
     ]
    },
    {
     "name": "stdout",
     "output_type": "stream",
     "text": [
      "Valid AUC score for xgboost model is 0.9969583307286274\n",
      "FOLD 0\n",
      "---------------------------------------------------\n",
      "Fold 0 ROC AUC is: 0.9974438640966572\n",
      "FOLD 1\n",
      "---------------------------------------------------\n",
      "Fold 1 ROC AUC is: 0.9972361837547443\n",
      "FOLD 2\n",
      "---------------------------------------------------\n",
      "Fold 2 ROC AUC is: 0.9974451633614001\n",
      "FOLD 3\n",
      "---------------------------------------------------\n",
      "Fold 3 ROC AUC is: 0.9974074382624087\n",
      "FOLD 4\n",
      "---------------------------------------------------\n",
      "Fold 4 ROC AUC is: 0.9974828145563056\n"
     ]
    },
    {
     "name": "stderr",
     "output_type": "stream",
     "text": [
      "\u001b[32m[I 2021-11-25 00:29:45,465]\u001b[0m Trial 60 finished with value: 0.99740294129364 and parameters: {'n_estimators': 9045, 'depth': 3, 'learning_rate': 0.24879728625313957, 'reg_alpha': 0.7467937249961005, 'reg_lambda': 0.011043961602267742, 'subsample': 0.5851481164920269, 'min_child_weight': 5.722172016630177, 'colsample_bytree': 0.7453053416342734, 'gamma': 2.0924128596426614}. Best is trial 53 with value: 0.9976894906551586.\u001b[0m\n"
     ]
    },
    {
     "name": "stdout",
     "output_type": "stream",
     "text": [
      "Valid AUC score for xgboost model is 0.99740294129364\n",
      "FOLD 0\n",
      "---------------------------------------------------\n",
      "Fold 0 ROC AUC is: 0.9976266476632765\n",
      "FOLD 1\n",
      "---------------------------------------------------\n",
      "Fold 1 ROC AUC is: 0.9974564873458684\n",
      "FOLD 2\n",
      "---------------------------------------------------\n",
      "Fold 2 ROC AUC is: 0.9976857238970708\n",
      "FOLD 3\n",
      "---------------------------------------------------\n",
      "Fold 3 ROC AUC is: 0.9976346884043763\n",
      "FOLD 4\n",
      "---------------------------------------------------\n",
      "Fold 4 ROC AUC is: 0.9977388877425444\n"
     ]
    },
    {
     "name": "stderr",
     "output_type": "stream",
     "text": [
      "\u001b[32m[I 2021-11-25 00:33:34,206]\u001b[0m Trial 61 finished with value: 0.9976279062078496 and parameters: {'n_estimators': 8614, 'depth': 3, 'learning_rate': 0.09367149464858948, 'reg_alpha': 5.55537425201338, 'reg_lambda': 0.002034107898506954, 'subsample': 0.6058842788504083, 'min_child_weight': 6.9843741772452494, 'colsample_bytree': 0.6639219643374651, 'gamma': 2.5070748114658565}. Best is trial 53 with value: 0.9976894906551586.\u001b[0m\n"
     ]
    },
    {
     "name": "stdout",
     "output_type": "stream",
     "text": [
      "Valid AUC score for xgboost model is 0.9976279062078496\n",
      "FOLD 0\n",
      "---------------------------------------------------\n",
      "Fold 0 ROC AUC is: 0.9976183148249986\n",
      "FOLD 1\n",
      "---------------------------------------------------\n",
      "Fold 1 ROC AUC is: 0.9974542629107329\n",
      "FOLD 2\n",
      "---------------------------------------------------\n",
      "Fold 2 ROC AUC is: 0.9976318714934418\n",
      "FOLD 3\n",
      "---------------------------------------------------\n",
      "Fold 3 ROC AUC is: 0.9976519514996072\n",
      "FOLD 4\n",
      "---------------------------------------------------\n",
      "Fold 4 ROC AUC is: 0.9977549314525141\n"
     ]
    },
    {
     "name": "stderr",
     "output_type": "stream",
     "text": [
      "\u001b[32m[I 2021-11-25 00:37:10,830]\u001b[0m Trial 62 finished with value: 0.997622019198343 and parameters: {'n_estimators': 8121, 'depth': 3, 'learning_rate': 0.09267125627505567, 'reg_alpha': 4.626427820610151, 'reg_lambda': 0.002505490268011867, 'subsample': 0.5580609395390941, 'min_child_weight': 6.982568612789586, 'colsample_bytree': 0.6941971649147121, 'gamma': 2.5527562547408653}. Best is trial 53 with value: 0.9976894906551586.\u001b[0m\n"
     ]
    },
    {
     "name": "stdout",
     "output_type": "stream",
     "text": [
      "Valid AUC score for xgboost model is 0.997622019198343\n",
      "FOLD 0\n",
      "---------------------------------------------------\n",
      "Fold 0 ROC AUC is: 0.9974772303279921\n",
      "FOLD 1\n",
      "---------------------------------------------------\n",
      "Fold 1 ROC AUC is: 0.9973297969869681\n",
      "FOLD 2\n",
      "---------------------------------------------------\n",
      "Fold 2 ROC AUC is: 0.9974826907988497\n",
      "FOLD 3\n",
      "---------------------------------------------------\n",
      "Fold 3 ROC AUC is: 0.997512581682709\n",
      "FOLD 4\n",
      "---------------------------------------------------\n",
      "Fold 4 ROC AUC is: 0.9976039536548442\n"
     ]
    },
    {
     "name": "stderr",
     "output_type": "stream",
     "text": [
      "\u001b[32m[I 2021-11-25 00:42:15,013]\u001b[0m Trial 63 finished with value: 0.997481115256412 and parameters: {'n_estimators': 9760, 'depth': 4, 'learning_rate': 0.12401110332714894, 'reg_alpha': 2.1358297340646653, 'reg_lambda': 0.0014957418211697352, 'subsample': 0.5370246762287039, 'min_child_weight': 6.339913415579088, 'colsample_bytree': 0.6432205244988707, 'gamma': 1.351175676992217}. Best is trial 53 with value: 0.9976894906551586.\u001b[0m\n"
     ]
    },
    {
     "name": "stdout",
     "output_type": "stream",
     "text": [
      "Valid AUC score for xgboost model is 0.997481115256412\n",
      "FOLD 0\n",
      "---------------------------------------------------\n",
      "Fold 0 ROC AUC is: 0.9974234119790548\n",
      "FOLD 1\n",
      "---------------------------------------------------\n",
      "Fold 1 ROC AUC is: 0.9972199646855109\n",
      "FOLD 2\n",
      "---------------------------------------------------\n",
      "Fold 2 ROC AUC is: 0.9974501103545395\n",
      "FOLD 3\n",
      "---------------------------------------------------\n",
      "Fold 3 ROC AUC is: 0.9974370432191562\n",
      "FOLD 4\n",
      "---------------------------------------------------\n",
      "Fold 4 ROC AUC is: 0.9975620777263768\n"
     ]
    },
    {
     "name": "stderr",
     "output_type": "stream",
     "text": [
      "\u001b[32m[I 2021-11-25 00:44:58,489]\u001b[0m Trial 64 finished with value: 0.9974179225750224 and parameters: {'n_estimators': 7013, 'depth': 3, 'learning_rate': 0.21597159430097435, 'reg_alpha': 12.492431040670425, 'reg_lambda': 0.00745667009417491, 'subsample': 0.8134839471407478, 'min_child_weight': 5.402809709149435, 'colsample_bytree': 0.6628848344146913, 'gamma': 3.6450987140503965}. Best is trial 53 with value: 0.9976894906551586.\u001b[0m\n"
     ]
    },
    {
     "name": "stdout",
     "output_type": "stream",
     "text": [
      "Valid AUC score for xgboost model is 0.9974179225750224\n",
      "FOLD 0\n",
      "---------------------------------------------------\n",
      "Fold 0 ROC AUC is: 0.9973531356943728\n",
      "FOLD 1\n",
      "---------------------------------------------------\n",
      "Fold 1 ROC AUC is: 0.9971331077423708\n",
      "FOLD 2\n",
      "---------------------------------------------------\n",
      "Fold 2 ROC AUC is: 0.9974155807704723\n",
      "FOLD 3\n",
      "---------------------------------------------------\n",
      "Fold 3 ROC AUC is: 0.997342896688088\n",
      "FOLD 4\n",
      "---------------------------------------------------\n",
      "Fold 4 ROC AUC is: 0.9975288981857584\n"
     ]
    },
    {
     "name": "stderr",
     "output_type": "stream",
     "text": [
      "\u001b[32m[I 2021-11-25 00:49:31,081]\u001b[0m Trial 65 finished with value: 0.9973543429946504 and parameters: {'n_estimators': 8546, 'depth': 4, 'learning_rate': 0.055013019233888016, 'reg_alpha': 6.986658975071277, 'reg_lambda': 0.0018221239450618757, 'subsample': 0.6953646054038393, 'min_child_weight': 4.521882627108276, 'colsample_bytree': 0.6867223395470816, 'gamma': 4.535466846278124}. Best is trial 53 with value: 0.9976894906551586.\u001b[0m\n"
     ]
    },
    {
     "name": "stdout",
     "output_type": "stream",
     "text": [
      "Valid AUC score for xgboost model is 0.9973543429946504\n",
      "FOLD 0\n",
      "---------------------------------------------------\n",
      "Fold 0 ROC AUC is: 0.9976645640436836\n",
      "FOLD 1\n",
      "---------------------------------------------------\n",
      "Fold 1 ROC AUC is: 0.9974752081574985\n",
      "FOLD 2\n",
      "---------------------------------------------------\n",
      "Fold 2 ROC AUC is: 0.9977003186108456\n",
      "FOLD 3\n",
      "---------------------------------------------------\n",
      "Fold 3 ROC AUC is: 0.9976632904345966\n",
      "FOLD 4\n",
      "---------------------------------------------------\n",
      "Fold 4 ROC AUC is: 0.9978029544681735\n"
     ]
    },
    {
     "name": "stderr",
     "output_type": "stream",
     "text": [
      "\u001b[32m[I 2021-11-25 00:53:32,271]\u001b[0m Trial 66 finished with value: 0.9976610568542503 and parameters: {'n_estimators': 9119, 'depth': 3, 'learning_rate': 0.1368964770167605, 'reg_alpha': 2.6856673354013814, 'reg_lambda': 0.005894100403105682, 'subsample': 0.5700957780433829, 'min_child_weight': 8.12142728014257, 'colsample_bytree': 0.7067820357533386, 'gamma': 2.0632236319953674}. Best is trial 53 with value: 0.9976894906551586.\u001b[0m\n"
     ]
    },
    {
     "name": "stdout",
     "output_type": "stream",
     "text": [
      "Valid AUC score for xgboost model is 0.9976610568542503\n",
      "FOLD 0\n",
      "---------------------------------------------------\n",
      "Fold 0 ROC AUC is: 0.9975509296809975\n",
      "FOLD 1\n",
      "---------------------------------------------------\n",
      "Fold 1 ROC AUC is: 0.9974239912439296\n",
      "FOLD 2\n",
      "---------------------------------------------------\n",
      "Fold 2 ROC AUC is: 0.9975210213791624\n",
      "FOLD 3\n",
      "---------------------------------------------------\n",
      "Fold 3 ROC AUC is: 0.9975615385626777\n",
      "FOLD 4\n",
      "---------------------------------------------------\n",
      "Fold 4 ROC AUC is: 0.997690831653374\n"
     ]
    },
    {
     "name": "stderr",
     "output_type": "stream",
     "text": [
      "\u001b[32m[I 2021-11-25 00:57:31,595]\u001b[0m Trial 67 finished with value: 0.9975492077595294 and parameters: {'n_estimators': 8896, 'depth': 4, 'learning_rate': 0.1414221553114711, 'reg_alpha': 3.4985396937917694, 'reg_lambda': 0.0012824972852823096, 'subsample': 0.6196092635477455, 'min_child_weight': 8.130511254415278, 'colsample_bytree': 0.7039044169774826, 'gamma': 3.098253326721031}. Best is trial 53 with value: 0.9976894906551586.\u001b[0m\n"
     ]
    },
    {
     "name": "stdout",
     "output_type": "stream",
     "text": [
      "Valid AUC score for xgboost model is 0.9975492077595294\n",
      "FOLD 0\n",
      "---------------------------------------------------\n",
      "Fold 0 ROC AUC is: 0.9976146262097253\n",
      "FOLD 1\n",
      "---------------------------------------------------\n",
      "Fold 1 ROC AUC is: 0.997426472136156\n",
      "FOLD 2\n",
      "---------------------------------------------------\n",
      "Fold 2 ROC AUC is: 0.9976135012160467\n",
      "FOLD 3\n",
      "---------------------------------------------------\n",
      "Fold 3 ROC AUC is: 0.9976235105547315\n",
      "FOLD 4\n",
      "---------------------------------------------------\n",
      "Fold 4 ROC AUC is: 0.9977335252479664\n"
     ]
    },
    {
     "name": "stderr",
     "output_type": "stream",
     "text": [
      "\u001b[32m[I 2021-11-25 01:01:15,906]\u001b[0m Trial 68 finished with value: 0.9976022224705421 and parameters: {'n_estimators': 8331, 'depth': 3, 'learning_rate': 0.10148658016449015, 'reg_alpha': 1.3375579605249417, 'reg_lambda': 0.15861751113576078, 'subsample': 0.6401972752808777, 'min_child_weight': 9.605856664595535, 'colsample_bytree': 0.7591381346953513, 'gamma': 1.9151923817136547}. Best is trial 53 with value: 0.9976894906551586.\u001b[0m\n"
     ]
    },
    {
     "name": "stdout",
     "output_type": "stream",
     "text": [
      "Valid AUC score for xgboost model is 0.9976022224705421\n",
      "FOLD 0\n",
      "---------------------------------------------------\n",
      "Fold 0 ROC AUC is: 0.9672320734568485\n",
      "FOLD 1\n",
      "---------------------------------------------------\n",
      "Fold 1 ROC AUC is: 0.9672076980440018\n",
      "FOLD 2\n",
      "---------------------------------------------------\n",
      "Fold 2 ROC AUC is: 0.9685038271839287\n",
      "FOLD 3\n",
      "---------------------------------------------------\n",
      "Fold 3 ROC AUC is: 0.968186975136623\n",
      "FOLD 4\n",
      "---------------------------------------------------\n",
      "Fold 4 ROC AUC is: 0.9681185079679018\n"
     ]
    },
    {
     "name": "stderr",
     "output_type": "stream",
     "text": [
      "\u001b[32m[I 2021-11-25 01:04:56,692]\u001b[0m Trial 69 finished with value: 0.9678479406171377 and parameters: {'n_estimators': 7644, 'depth': 3, 'learning_rate': 0.003161892120410287, 'reg_alpha': 5.524392114792653, 'reg_lambda': 0.002885331730708397, 'subsample': 0.5702924369706257, 'min_child_weight': 9.262234798545517, 'colsample_bytree': 0.7110143615229734, 'gamma': 2.6318266737510747}. Best is trial 53 with value: 0.9976894906551586.\u001b[0m\n"
     ]
    },
    {
     "name": "stdout",
     "output_type": "stream",
     "text": [
      "Valid AUC score for xgboost model is 0.9678479406171377\n",
      "FOLD 0\n",
      "---------------------------------------------------\n",
      "Fold 0 ROC AUC is: 0.9935648365140026\n",
      "FOLD 1\n",
      "---------------------------------------------------\n",
      "Fold 1 ROC AUC is: 0.9934396503887978\n",
      "FOLD 2\n",
      "---------------------------------------------------\n",
      "Fold 2 ROC AUC is: 0.9937673763742043\n",
      "FOLD 3\n",
      "---------------------------------------------------\n",
      "Fold 3 ROC AUC is: 0.9935862784640515\n",
      "FOLD 4\n",
      "---------------------------------------------------\n",
      "Fold 4 ROC AUC is: 0.9939053521099404\n"
     ]
    },
    {
     "name": "stderr",
     "output_type": "stream",
     "text": [
      "\u001b[32m[I 2021-11-25 01:05:36,502]\u001b[0m Trial 70 finished with value: 0.993652261475986 and parameters: {'n_estimators': 1168, 'depth': 3, 'learning_rate': 0.11495436347832352, 'reg_alpha': 0.866555389691225, 'reg_lambda': 0.014094071332867877, 'subsample': 0.6689223868526936, 'min_child_weight': 7.974331098032856, 'colsample_bytree': 0.6745039046631276, 'gamma': 0.8629686079406957}. Best is trial 53 with value: 0.9976894906551586.\u001b[0m\n"
     ]
    },
    {
     "name": "stdout",
     "output_type": "stream",
     "text": [
      "Valid AUC score for xgboost model is 0.993652261475986\n",
      "FOLD 0\n",
      "---------------------------------------------------\n",
      "Fold 0 ROC AUC is: 0.9976681445503608\n",
      "FOLD 1\n",
      "---------------------------------------------------\n",
      "Fold 1 ROC AUC is: 0.9974656605866575\n",
      "FOLD 2\n",
      "---------------------------------------------------\n",
      "Fold 2 ROC AUC is: 0.9976618049990137\n",
      "FOLD 3\n",
      "---------------------------------------------------\n",
      "Fold 3 ROC AUC is: 0.9976463164312693\n",
      "FOLD 4\n",
      "---------------------------------------------------\n",
      "Fold 4 ROC AUC is: 0.9977685837253074\n"
     ]
    },
    {
     "name": "stderr",
     "output_type": "stream",
     "text": [
      "\u001b[32m[I 2021-11-25 01:09:37,872]\u001b[0m Trial 71 finished with value: 0.9976419954502069 and parameters: {'n_estimators': 9064, 'depth': 3, 'learning_rate': 0.07377176756383429, 'reg_alpha': 2.582208652896972, 'reg_lambda': 0.0052529079013785476, 'subsample': 0.5401255255830305, 'min_child_weight': 5.865973727656482, 'colsample_bytree': 0.6517279157137063, 'gamma': 2.183157065837723}. Best is trial 53 with value: 0.9976894906551586.\u001b[0m\n"
     ]
    },
    {
     "name": "stdout",
     "output_type": "stream",
     "text": [
      "Valid AUC score for xgboost model is 0.9976419954502069\n",
      "FOLD 0\n",
      "---------------------------------------------------\n",
      "Fold 0 ROC AUC is: 0.99758656285788\n",
      "FOLD 1\n",
      "---------------------------------------------------\n",
      "Fold 1 ROC AUC is: 0.9974052206698938\n",
      "FOLD 2\n",
      "---------------------------------------------------\n",
      "Fold 2 ROC AUC is: 0.9976211574092161\n",
      "FOLD 3\n",
      "---------------------------------------------------\n",
      "Fold 3 ROC AUC is: 0.9976487133923132\n",
      "FOLD 4\n",
      "---------------------------------------------------\n",
      "Fold 4 ROC AUC is: 0.9977347014420659\n"
     ]
    },
    {
     "name": "stderr",
     "output_type": "stream",
     "text": [
      "\u001b[32m[I 2021-11-25 01:13:37,238]\u001b[0m Trial 72 finished with value: 0.9975991251106539 and parameters: {'n_estimators': 8983, 'depth': 3, 'learning_rate': 0.07673247280821081, 'reg_alpha': 2.510235550898209, 'reg_lambda': 0.0050521947579833726, 'subsample': 0.6030880715861795, 'min_child_weight': 6.717469740888408, 'colsample_bytree': 0.6572194395862669, 'gamma': 1.6857899555256326}. Best is trial 53 with value: 0.9976894906551586.\u001b[0m\n"
     ]
    },
    {
     "name": "stdout",
     "output_type": "stream",
     "text": [
      "Valid AUC score for xgboost model is 0.9975991251106539\n",
      "FOLD 0\n",
      "---------------------------------------------------\n",
      "Fold 0 ROC AUC is: 0.9628618508550879\n",
      "FOLD 1\n",
      "---------------------------------------------------\n",
      "Fold 1 ROC AUC is: 0.9629474071350629\n",
      "FOLD 2\n",
      "---------------------------------------------------\n",
      "Fold 2 ROC AUC is: 0.9643918331473906\n",
      "FOLD 3\n",
      "---------------------------------------------------\n",
      "Fold 3 ROC AUC is: 0.9638082953476301\n",
      "FOLD 4\n",
      "---------------------------------------------------\n",
      "Fold 4 ROC AUC is: 0.9638960927442344\n"
     ]
    },
    {
     "name": "stderr",
     "output_type": "stream",
     "text": [
      "\u001b[32m[I 2021-11-25 01:26:27,743]\u001b[0m Trial 73 finished with value: 0.9635789191003431 and parameters: {'n_estimators': 7979, 'depth': 7, 'learning_rate': 0.001077061725889452, 'reg_alpha': 9.718364944088837, 'reg_lambda': 0.0024253996855138097, 'subsample': 0.5351157834871462, 'min_child_weight': 8.549341918959888, 'colsample_bytree': 0.7255946131787798, 'gamma': 3.8813551950686818}. Best is trial 53 with value: 0.9976894906551586.\u001b[0m\n"
     ]
    },
    {
     "name": "stdout",
     "output_type": "stream",
     "text": [
      "Valid AUC score for xgboost model is 0.9635789191003431\n",
      "FOLD 0\n",
      "---------------------------------------------------\n",
      "Fold 0 ROC AUC is: 0.997440912231739\n",
      "FOLD 1\n",
      "---------------------------------------------------\n",
      "Fold 1 ROC AUC is: 0.9973394728558551\n",
      "FOLD 2\n",
      "---------------------------------------------------\n",
      "Fold 2 ROC AUC is: 0.997459570040516\n",
      "FOLD 3\n",
      "---------------------------------------------------\n",
      "Fold 3 ROC AUC is: 0.9974545313335179\n",
      "FOLD 4\n",
      "---------------------------------------------------\n",
      "Fold 4 ROC AUC is: 0.9975677363539447\n"
     ]
    },
    {
     "name": "stderr",
     "output_type": "stream",
     "text": [
      "\u001b[32m[I 2021-11-25 01:30:14,632]\u001b[0m Trial 74 finished with value: 0.997452177588484 and parameters: {'n_estimators': 8698, 'depth': 4, 'learning_rate': 0.18209205144744753, 'reg_alpha': 3.881454097220621, 'reg_lambda': 0.003382398197671439, 'subsample': 0.5900649541131562, 'min_child_weight': 7.375020968438324, 'colsample_bytree': 0.684067113097726, 'gamma': 2.563483438201759}. Best is trial 53 with value: 0.9976894906551586.\u001b[0m\n"
     ]
    },
    {
     "name": "stdout",
     "output_type": "stream",
     "text": [
      "Valid AUC score for xgboost model is 0.997452177588484\n",
      "FOLD 0\n",
      "---------------------------------------------------\n",
      "Fold 0 ROC AUC is: 0.9977119907845321\n",
      "FOLD 1\n",
      "---------------------------------------------------\n",
      "Fold 1 ROC AUC is: 0.9975694115885343\n",
      "FOLD 2\n",
      "---------------------------------------------------\n",
      "Fold 2 ROC AUC is: 0.9977356202071302\n",
      "FOLD 3\n",
      "---------------------------------------------------\n",
      "Fold 3 ROC AUC is: 0.9977601005028003\n",
      "FOLD 4\n",
      "---------------------------------------------------\n",
      "Fold 4 ROC AUC is: 0.9978523301626332\n"
     ]
    },
    {
     "name": "stderr",
     "output_type": "stream",
     "text": [
      "\u001b[32m[I 2021-11-25 01:34:31,161]\u001b[0m Trial 75 finished with value: 0.9977256758997375 and parameters: {'n_estimators': 9676, 'depth': 3, 'learning_rate': 0.09480839108741769, 'reg_alpha': 1.6715660965386039, 'reg_lambda': 0.0010448916368256689, 'subsample': 0.5551962554504495, 'min_child_weight': 5.297994918850465, 'colsample_bytree': 0.7402879508457717, 'gamma': 3.329612287771598}. Best is trial 75 with value: 0.9977256758997375.\u001b[0m\n"
     ]
    },
    {
     "name": "stdout",
     "output_type": "stream",
     "text": [
      "Valid AUC score for xgboost model is 0.9977256758997375\n",
      "FOLD 0\n",
      "---------------------------------------------------\n",
      "Fold 0 ROC AUC is: 0.9975579169980211\n",
      "FOLD 1\n",
      "---------------------------------------------------\n",
      "Fold 1 ROC AUC is: 0.9973580738485083\n",
      "FOLD 2\n",
      "---------------------------------------------------\n",
      "Fold 2 ROC AUC is: 0.9975884277045779\n",
      "FOLD 3\n",
      "---------------------------------------------------\n",
      "Fold 3 ROC AUC is: 0.9975624169573084\n",
      "FOLD 4\n",
      "---------------------------------------------------\n",
      "Fold 4 ROC AUC is: 0.9976341913205704\n"
     ]
    },
    {
     "name": "stderr",
     "output_type": "stream",
     "text": [
      "\u001b[32m[I 2021-11-25 01:38:05,300]\u001b[0m Trial 76 finished with value: 0.9975397983616068 and parameters: {'n_estimators': 9634, 'depth': 3, 'learning_rate': 0.24170299302846443, 'reg_alpha': 1.5857900253830335, 'reg_lambda': 0.0010194331676000809, 'subsample': 0.5654720504615909, 'min_child_weight': 5.358918019223605, 'colsample_bytree': 0.7452265249908824, 'gamma': 3.604529930929119}. Best is trial 75 with value: 0.9977256758997375.\u001b[0m\n"
     ]
    },
    {
     "name": "stdout",
     "output_type": "stream",
     "text": [
      "Valid AUC score for xgboost model is 0.9975397983616068\n",
      "FOLD 0\n",
      "---------------------------------------------------\n",
      "Fold 0 ROC AUC is: 0.9974699859403993\n",
      "FOLD 1\n",
      "---------------------------------------------------\n",
      "Fold 1 ROC AUC is: 0.9973609816132151\n",
      "FOLD 2\n",
      "---------------------------------------------------\n",
      "Fold 2 ROC AUC is: 0.9975647297785144\n",
      "FOLD 3\n",
      "---------------------------------------------------\n",
      "Fold 3 ROC AUC is: 0.9974941772304045\n",
      "FOLD 4\n",
      "---------------------------------------------------\n",
      "Fold 4 ROC AUC is: 0.9976119038042339\n"
     ]
    },
    {
     "name": "stderr",
     "output_type": "stream",
     "text": [
      "\u001b[32m[I 2021-11-25 01:42:18,965]\u001b[0m Trial 77 finished with value: 0.997500401824345 and parameters: {'n_estimators': 9876, 'depth': 4, 'learning_rate': 0.15322685524346333, 'reg_alpha': 1.1532636668025715, 'reg_lambda': 0.0014636911045690692, 'subsample': 0.5477600932737536, 'min_child_weight': 4.111117265535248, 'colsample_bytree': 0.7007850932781906, 'gamma': 3.1421018990267235}. Best is trial 75 with value: 0.9977256758997375.\u001b[0m\n"
     ]
    },
    {
     "name": "stdout",
     "output_type": "stream",
     "text": [
      "Valid AUC score for xgboost model is 0.997500401824345\n",
      "FOLD 0\n",
      "---------------------------------------------------\n",
      "Fold 0 ROC AUC is: 0.9976636135773633\n",
      "FOLD 1\n",
      "---------------------------------------------------\n",
      "Fold 1 ROC AUC is: 0.9975432454592031\n",
      "FOLD 2\n",
      "---------------------------------------------------\n",
      "Fold 2 ROC AUC is: 0.9976759859809485\n",
      "FOLD 3\n",
      "---------------------------------------------------\n",
      "Fold 3 ROC AUC is: 0.9976717991876464\n",
      "FOLD 4\n",
      "---------------------------------------------------\n",
      "Fold 4 ROC AUC is: 0.9978074980459477\n"
     ]
    },
    {
     "name": "stderr",
     "output_type": "stream",
     "text": [
      "\u001b[32m[I 2021-11-25 01:46:21,077]\u001b[0m Trial 78 finished with value: 0.997672403988012 and parameters: {'n_estimators': 9097, 'depth': 3, 'learning_rate': 0.13093668816939144, 'reg_alpha': 2.90192094393912, 'reg_lambda': 0.004122646606190289, 'subsample': 0.5272976303409387, 'min_child_weight': 4.918483081124322, 'colsample_bytree': 0.7856500280201172, 'gamma': 2.0475113776087435}. Best is trial 75 with value: 0.9977256758997375.\u001b[0m\n"
     ]
    },
    {
     "name": "stdout",
     "output_type": "stream",
     "text": [
      "Valid AUC score for xgboost model is 0.997672403988012\n",
      "FOLD 0\n",
      "---------------------------------------------------\n",
      "Fold 0 ROC AUC is: 0.9974781851019814\n",
      "FOLD 1\n",
      "---------------------------------------------------\n",
      "Fold 1 ROC AUC is: 0.9973492761887813\n",
      "FOLD 2\n",
      "---------------------------------------------------\n",
      "Fold 2 ROC AUC is: 0.9975088141357533\n",
      "FOLD 3\n",
      "---------------------------------------------------\n",
      "Fold 3 ROC AUC is: 0.9974509935713466\n",
      "FOLD 4\n",
      "---------------------------------------------------\n",
      "Fold 4 ROC AUC is: 0.9975993553251238\n"
     ]
    },
    {
     "name": "stderr",
     "output_type": "stream",
     "text": [
      "\u001b[32m[I 2021-11-25 01:50:35,278]\u001b[0m Trial 79 finished with value: 0.9974770444951966 and parameters: {'n_estimators': 9643, 'depth': 3, 'learning_rate': 0.19168612850000893, 'reg_alpha': 0.6306348145158389, 'reg_lambda': 0.0037165382340414986, 'subsample': 0.5294672928543686, 'min_child_weight': 4.83226406788847, 'colsample_bytree': 0.7809533396872214, 'gamma': 1.4239756058957833}. Best is trial 75 with value: 0.9977256758997375.\u001b[0m\n"
     ]
    },
    {
     "name": "stdout",
     "output_type": "stream",
     "text": [
      "Valid AUC score for xgboost model is 0.9974770444951966\n",
      "FOLD 0\n",
      "---------------------------------------------------\n",
      "Fold 0 ROC AUC is: 0.9974552635783884\n",
      "FOLD 1\n",
      "---------------------------------------------------\n",
      "Fold 1 ROC AUC is: 0.9972751335403001\n",
      "FOLD 2\n",
      "---------------------------------------------------\n",
      "Fold 2 ROC AUC is: 0.9974711505017289\n",
      "FOLD 3\n",
      "---------------------------------------------------\n",
      "Fold 3 ROC AUC is: 0.9974731979143463\n",
      "FOLD 4\n",
      "---------------------------------------------------\n",
      "Fold 4 ROC AUC is: 0.9975683094428467\n"
     ]
    },
    {
     "name": "stderr",
     "output_type": "stream",
     "text": [
      "\u001b[32m[I 2021-11-25 01:53:40,618]\u001b[0m Trial 80 finished with value: 0.9974481208861139 and parameters: {'n_estimators': 6013, 'depth': 4, 'learning_rate': 0.14514247629367993, 'reg_alpha': 2.7775241983089227, 'reg_lambda': 0.0017117171665344748, 'subsample': 0.5749484807669845, 'min_child_weight': 4.291688426088438, 'colsample_bytree': 0.8260511389811968, 'gamma': 3.437670220476627}. Best is trial 75 with value: 0.9977256758997375.\u001b[0m\n"
     ]
    },
    {
     "name": "stdout",
     "output_type": "stream",
     "text": [
      "Valid AUC score for xgboost model is 0.9974481208861139\n",
      "FOLD 0\n",
      "---------------------------------------------------\n",
      "Fold 0 ROC AUC is: 0.9976577894699252\n",
      "FOLD 1\n",
      "---------------------------------------------------\n",
      "Fold 1 ROC AUC is: 0.9974932587056635\n",
      "FOLD 2\n",
      "---------------------------------------------------\n",
      "Fold 2 ROC AUC is: 0.9976903601396582\n",
      "FOLD 3\n",
      "---------------------------------------------------\n",
      "Fold 3 ROC AUC is: 0.9976406970684052\n",
      "FOLD 4\n",
      "---------------------------------------------------\n",
      "Fold 4 ROC AUC is: 0.9977631543888862\n"
     ]
    },
    {
     "name": "stderr",
     "output_type": "stream",
     "text": [
      "\u001b[32m[I 2021-11-25 01:57:49,560]\u001b[0m Trial 81 finished with value: 0.9976488431419271 and parameters: {'n_estimators': 9183, 'depth': 3, 'learning_rate': 0.12047137386981344, 'reg_alpha': 2.0482408242538988, 'reg_lambda': 0.006256443767106186, 'subsample': 0.5510567109319455, 'min_child_weight': 3.10132391349687, 'colsample_bytree': 0.9959631110905055, 'gamma': 2.185662067582847}. Best is trial 75 with value: 0.9977256758997375.\u001b[0m\n"
     ]
    },
    {
     "name": "stdout",
     "output_type": "stream",
     "text": [
      "Valid AUC score for xgboost model is 0.9976488431419271\n",
      "FOLD 0\n",
      "---------------------------------------------------\n",
      "Fold 0 ROC AUC is: 0.9977140089969347\n",
      "FOLD 1\n",
      "---------------------------------------------------\n",
      "Fold 1 ROC AUC is: 0.9975160786607133\n",
      "FOLD 2\n",
      "---------------------------------------------------\n",
      "Fold 2 ROC AUC is: 0.9977146117464908\n",
      "FOLD 3\n",
      "---------------------------------------------------\n",
      "Fold 3 ROC AUC is: 0.9977318890246232\n",
      "FOLD 4\n",
      "---------------------------------------------------\n",
      "Fold 4 ROC AUC is: 0.9978208343138517\n"
     ]
    },
    {
     "name": "stderr",
     "output_type": "stream",
     "text": [
      "\u001b[32m[I 2021-11-25 02:01:55,707]\u001b[0m Trial 82 finished with value: 0.9976992647936778 and parameters: {'n_estimators': 9233, 'depth': 3, 'learning_rate': 0.12472216284189187, 'reg_alpha': 2.203894433794425, 'reg_lambda': 0.007719892241817116, 'subsample': 0.5097658975043483, 'min_child_weight': 3.093513541852464, 'colsample_bytree': 0.9904688584679516, 'gamma': 2.877118355536776}. Best is trial 75 with value: 0.9977256758997375.\u001b[0m\n"
     ]
    },
    {
     "name": "stdout",
     "output_type": "stream",
     "text": [
      "Valid AUC score for xgboost model is 0.9976992647936778\n",
      "FOLD 0\n",
      "---------------------------------------------------\n",
      "Fold 0 ROC AUC is: 0.997738976802257\n",
      "FOLD 1\n",
      "---------------------------------------------------\n",
      "Fold 1 ROC AUC is: 0.9975835808080551\n",
      "FOLD 2\n",
      "---------------------------------------------------\n",
      "Fold 2 ROC AUC is: 0.9977361866737003\n",
      "FOLD 3\n",
      "---------------------------------------------------\n",
      "Fold 3 ROC AUC is: 0.9977587060513246\n",
      "FOLD 4\n",
      "---------------------------------------------------\n",
      "Fold 4 ROC AUC is: 0.9978485521393597\n"
     ]
    },
    {
     "name": "stderr",
     "output_type": "stream",
     "text": [
      "\u001b[32m[I 2021-11-25 02:06:07,470]\u001b[0m Trial 83 finished with value: 0.9977327759002036 and parameters: {'n_estimators': 9461, 'depth': 3, 'learning_rate': 0.11024291079431164, 'reg_alpha': 4.176004828568943, 'reg_lambda': 0.008608216915094839, 'subsample': 0.5125682568996855, 'min_child_weight': 5.214190320414378, 'colsample_bytree': 0.9043597459475216, 'gamma': 2.955505822378408}. Best is trial 83 with value: 0.9977327759002036.\u001b[0m\n"
     ]
    },
    {
     "name": "stdout",
     "output_type": "stream",
     "text": [
      "Valid AUC score for xgboost model is 0.9977327759002036\n",
      "FOLD 0\n",
      "---------------------------------------------------\n",
      "Fold 0 ROC AUC is: 0.9977359421189288\n",
      "FOLD 1\n",
      "---------------------------------------------------\n",
      "Fold 1 ROC AUC is: 0.9975676607302594\n",
      "FOLD 2\n",
      "---------------------------------------------------\n",
      "Fold 2 ROC AUC is: 0.9977720769727306\n",
      "FOLD 3\n",
      "---------------------------------------------------\n",
      "Fold 3 ROC AUC is: 0.9977470692682826\n",
      "FOLD 4\n",
      "---------------------------------------------------\n",
      "Fold 4 ROC AUC is: 0.9978174024507274\n"
     ]
    },
    {
     "name": "stderr",
     "output_type": "stream",
     "text": [
      "\u001b[32m[I 2021-11-25 02:10:13,767]\u001b[0m Trial 84 finished with value: 0.9977278042054779 and parameters: {'n_estimators': 9378, 'depth': 3, 'learning_rate': 0.13065955522475778, 'reg_alpha': 4.086691424757794, 'reg_lambda': 0.009134816050654915, 'subsample': 0.5118192287484234, 'min_child_weight': 2.0972796389859365, 'colsample_bytree': 0.9302679937952194, 'gamma': 2.8596441324810185}. Best is trial 83 with value: 0.9977327759002036.\u001b[0m\n"
     ]
    },
    {
     "name": "stdout",
     "output_type": "stream",
     "text": [
      "Valid AUC score for xgboost model is 0.9977278042054779\n",
      "FOLD 0\n",
      "---------------------------------------------------\n",
      "Fold 0 ROC AUC is: 0.9976656385986622\n",
      "FOLD 1\n",
      "---------------------------------------------------\n",
      "Fold 1 ROC AUC is: 0.9974936358157381\n",
      "FOLD 2\n",
      "---------------------------------------------------\n",
      "Fold 2 ROC AUC is: 0.9976639424513813\n",
      "FOLD 3\n",
      "---------------------------------------------------\n",
      "Fold 3 ROC AUC is: 0.9977177714716825\n",
      "FOLD 4\n",
      "---------------------------------------------------\n",
      "Fold 4 ROC AUC is: 0.9978321469831646\n"
     ]
    },
    {
     "name": "stderr",
     "output_type": "stream",
     "text": [
      "\u001b[32m[I 2021-11-25 02:14:26,747]\u001b[0m Trial 85 finished with value: 0.9976745678828107 and parameters: {'n_estimators': 9483, 'depth': 3, 'learning_rate': 0.0916127996642718, 'reg_alpha': 8.218743034960934, 'reg_lambda': 0.0210973685222485, 'subsample': 0.5116765962269594, 'min_child_weight': 2.6282116960326953, 'colsample_bytree': 0.9138318680985298, 'gamma': 2.9243407569341526}. Best is trial 83 with value: 0.9977327759002036.\u001b[0m\n"
     ]
    },
    {
     "name": "stdout",
     "output_type": "stream",
     "text": [
      "Valid AUC score for xgboost model is 0.9976745678828107\n",
      "FOLD 0\n",
      "---------------------------------------------------\n",
      "Fold 0 ROC AUC is: 0.9973019262643185\n",
      "FOLD 1\n",
      "---------------------------------------------------\n",
      "Fold 1 ROC AUC is: 0.9971002264682914\n",
      "FOLD 2\n",
      "---------------------------------------------------\n",
      "Fold 2 ROC AUC is: 0.9973616353918346\n",
      "FOLD 3\n",
      "---------------------------------------------------\n",
      "Fold 3 ROC AUC is: 0.9973807575814561\n",
      "FOLD 4\n",
      "---------------------------------------------------\n",
      "Fold 4 ROC AUC is: 0.9974992950311684\n"
     ]
    },
    {
     "name": "stderr",
     "output_type": "stream",
     "text": [
      "\u001b[32m[I 2021-11-25 02:18:07,468]\u001b[0m Trial 86 finished with value: 0.9973283496959083 and parameters: {'n_estimators': 9997, 'depth': 3, 'learning_rate': 0.1564420051819536, 'reg_alpha': 21.406620963411395, 'reg_lambda': 0.01201213275132551, 'subsample': 0.5139694034302325, 'min_child_weight': 1.9179005696414309, 'colsample_bytree': 0.9155286685290053, 'gamma': 4.076043264139658}. Best is trial 83 with value: 0.9977327759002036.\u001b[0m\n"
     ]
    },
    {
     "name": "stdout",
     "output_type": "stream",
     "text": [
      "Valid AUC score for xgboost model is 0.9973283496959083\n",
      "FOLD 0\n",
      "---------------------------------------------------\n",
      "Fold 0 ROC AUC is: 0.9976154574508844\n",
      "FOLD 1\n",
      "---------------------------------------------------\n",
      "Fold 1 ROC AUC is: 0.9974343023479955\n",
      "FOLD 2\n",
      "---------------------------------------------------\n",
      "Fold 2 ROC AUC is: 0.9976560210918196\n",
      "FOLD 3\n",
      "---------------------------------------------------\n",
      "Fold 3 ROC AUC is: 0.997647647782878\n",
      "FOLD 4\n",
      "---------------------------------------------------\n",
      "Fold 4 ROC AUC is: 0.9977554953697703\n"
     ]
    },
    {
     "name": "stderr",
     "output_type": "stream",
     "text": [
      "\u001b[32m[I 2021-11-25 02:22:18,644]\u001b[0m Trial 87 finished with value: 0.9976215230306118 and parameters: {'n_estimators': 9450, 'depth': 3, 'learning_rate': 0.0901974988479058, 'reg_alpha': 10.587189567173379, 'reg_lambda': 0.02445800290989084, 'subsample': 0.5274761972116876, 'min_child_weight': 2.6374977129945423, 'colsample_bytree': 0.9655999471793435, 'gamma': 2.9260517910369117}. Best is trial 83 with value: 0.9977327759002036.\u001b[0m\n"
     ]
    },
    {
     "name": "stdout",
     "output_type": "stream",
     "text": [
      "Valid AUC score for xgboost model is 0.9976215230306118\n",
      "FOLD 0\n",
      "---------------------------------------------------\n",
      "Fold 0 ROC AUC is: 0.9969841774529357\n",
      "FOLD 1\n",
      "---------------------------------------------------\n",
      "Fold 1 ROC AUC is: 0.9968792131373807\n",
      "FOLD 2\n",
      "---------------------------------------------------\n",
      "Fold 2 ROC AUC is: 0.9971076404538205\n",
      "FOLD 3\n",
      "---------------------------------------------------\n",
      "Fold 3 ROC AUC is: 0.9971109586707265\n",
      "FOLD 4\n",
      "---------------------------------------------------\n",
      "Fold 4 ROC AUC is: 0.9971780516035462\n"
     ]
    },
    {
     "name": "stderr",
     "output_type": "stream",
     "text": [
      "\u001b[32m[I 2021-11-25 02:26:16,569]\u001b[0m Trial 88 finished with value: 0.9970516979839518 and parameters: {'n_estimators': 9742, 'depth': 6, 'learning_rate': 0.2023389623880117, 'reg_alpha': 4.402515599320949, 'reg_lambda': 0.04257197989564042, 'subsample': 0.5101494417595761, 'min_child_weight': 1.9887523788497226, 'colsample_bytree': 0.9211612663081921, 'gamma': 3.774380126670886}. Best is trial 83 with value: 0.9977327759002036.\u001b[0m\n"
     ]
    },
    {
     "name": "stdout",
     "output_type": "stream",
     "text": [
      "Valid AUC score for xgboost model is 0.9970516979839518\n",
      "FOLD 0\n",
      "---------------------------------------------------\n",
      "Fold 0 ROC AUC is: 0.9975394550234945\n",
      "FOLD 1\n",
      "---------------------------------------------------\n",
      "Fold 1 ROC AUC is: 0.9973741414065063\n",
      "FOLD 2\n",
      "---------------------------------------------------\n",
      "Fold 2 ROC AUC is: 0.9975425304317022\n",
      "FOLD 3\n",
      "---------------------------------------------------\n",
      "Fold 3 ROC AUC is: 0.9975849287384287\n",
      "FOLD 4\n",
      "---------------------------------------------------\n",
      "Fold 4 ROC AUC is: 0.9977253163469917\n"
     ]
    },
    {
     "name": "stderr",
     "output_type": "stream",
     "text": [
      "\u001b[32m[I 2021-11-25 02:30:19,625]\u001b[0m Trial 89 finished with value: 0.9975529335481417 and parameters: {'n_estimators': 8849, 'depth': 4, 'learning_rate': 0.09935491115041255, 'reg_alpha': 7.258839904670359, 'reg_lambda': 0.016034864142200723, 'subsample': 0.5254803953225917, 'min_child_weight': 3.15183990265202, 'colsample_bytree': 0.8641812334842915, 'gamma': 5.004032467763055}. Best is trial 83 with value: 0.9977327759002036.\u001b[0m\n"
     ]
    },
    {
     "name": "stdout",
     "output_type": "stream",
     "text": [
      "Valid AUC score for xgboost model is 0.9975529335481417\n",
      "FOLD 0\n",
      "---------------------------------------------------\n",
      "Fold 0 ROC AUC is: 0.9977336682255279\n",
      "FOLD 1\n",
      "---------------------------------------------------\n",
      "Fold 1 ROC AUC is: 0.9976158628482491\n",
      "FOLD 2\n",
      "---------------------------------------------------\n",
      "Fold 2 ROC AUC is: 0.9977658999021589\n",
      "FOLD 3\n",
      "---------------------------------------------------\n",
      "Fold 3 ROC AUC is: 0.9977622823127541\n",
      "FOLD 4\n",
      "---------------------------------------------------\n",
      "Fold 4 ROC AUC is: 0.9978528476658027\n"
     ]
    },
    {
     "name": "stderr",
     "output_type": "stream",
     "text": [
      "\u001b[32m[I 2021-11-25 02:34:23,576]\u001b[0m Trial 90 finished with value: 0.997745980541549 and parameters: {'n_estimators': 9497, 'depth': 3, 'learning_rate': 0.1291238739695281, 'reg_alpha': 3.6738805448463516, 'reg_lambda': 0.009235735964736994, 'subsample': 0.5117453362599013, 'min_child_weight': 3.763525120982014, 'colsample_bytree': 0.9447692394579001, 'gamma': 3.428120076444026}. Best is trial 90 with value: 0.997745980541549.\u001b[0m\n"
     ]
    },
    {
     "name": "stdout",
     "output_type": "stream",
     "text": [
      "Valid AUC score for xgboost model is 0.997745980541549\n",
      "FOLD 0\n",
      "---------------------------------------------------\n",
      "Fold 0 ROC AUC is: 0.9977230930371023\n",
      "FOLD 1\n",
      "---------------------------------------------------\n",
      "Fold 1 ROC AUC is: 0.9975717754418065\n",
      "FOLD 2\n",
      "---------------------------------------------------\n",
      "Fold 2 ROC AUC is: 0.9977211312541647\n",
      "FOLD 3\n",
      "---------------------------------------------------\n",
      "Fold 3 ROC AUC is: 0.9977296923431146\n",
      "FOLD 4\n",
      "---------------------------------------------------\n",
      "Fold 4 ROC AUC is: 0.9978537111901569\n"
     ]
    },
    {
     "name": "stderr",
     "output_type": "stream",
     "text": [
      "\u001b[32m[I 2021-11-25 02:38:31,915]\u001b[0m Trial 91 finished with value: 0.9977196945808939 and parameters: {'n_estimators': 9513, 'depth': 3, 'learning_rate': 0.12676003866431032, 'reg_alpha': 3.589532510493453, 'reg_lambda': 0.008417016783551499, 'subsample': 0.5118124620230405, 'min_child_weight': 3.902043813775646, 'colsample_bytree': 0.9446471724941716, 'gamma': 3.119665500914365}. Best is trial 90 with value: 0.997745980541549.\u001b[0m\n"
     ]
    },
    {
     "name": "stdout",
     "output_type": "stream",
     "text": [
      "Valid AUC score for xgboost model is 0.9977196945808939\n",
      "FOLD 0\n",
      "---------------------------------------------------\n",
      "Fold 0 ROC AUC is: 0.997669674189725\n",
      "FOLD 1\n",
      "---------------------------------------------------\n",
      "Fold 1 ROC AUC is: 0.9975069101459634\n",
      "FOLD 2\n",
      "---------------------------------------------------\n",
      "Fold 2 ROC AUC is: 0.9976796006102487\n",
      "FOLD 3\n",
      "---------------------------------------------------\n",
      "Fold 3 ROC AUC is: 0.9977044603183698\n",
      "FOLD 4\n",
      "---------------------------------------------------\n",
      "Fold 4 ROC AUC is: 0.9978194342482145\n"
     ]
    },
    {
     "name": "stderr",
     "output_type": "stream",
     "text": [
      "\u001b[32m[I 2021-11-25 02:42:21,661]\u001b[0m Trial 92 finished with value: 0.9976760419936157 and parameters: {'n_estimators': 9509, 'depth': 3, 'learning_rate': 0.17660999145263973, 'reg_alpha': 3.75748601313424, 'reg_lambda': 0.00901878210935111, 'subsample': 0.508543323803375, 'min_child_weight': 3.8636534455099776, 'colsample_bytree': 0.9428965663400157, 'gamma': 3.4653146322144166}. Best is trial 90 with value: 0.997745980541549.\u001b[0m\n"
     ]
    },
    {
     "name": "stdout",
     "output_type": "stream",
     "text": [
      "Valid AUC score for xgboost model is 0.9976760419936157\n",
      "FOLD 0\n",
      "---------------------------------------------------\n",
      "Fold 0 ROC AUC is: 0.9976929357412546\n",
      "FOLD 1\n",
      "---------------------------------------------------\n",
      "Fold 1 ROC AUC is: 0.9975228134046217\n",
      "FOLD 2\n",
      "---------------------------------------------------\n",
      "Fold 2 ROC AUC is: 0.9977297686185771\n",
      "FOLD 3\n",
      "---------------------------------------------------\n",
      "Fold 3 ROC AUC is: 0.9977286268726658\n",
      "FOLD 4\n",
      "---------------------------------------------------\n",
      "Fold 4 ROC AUC is: 0.9977856792563002\n"
     ]
    },
    {
     "name": "stderr",
     "output_type": "stream",
     "text": [
      "\u001b[32m[I 2021-11-25 02:46:14,474]\u001b[0m Trial 93 finished with value: 0.9976918852395458 and parameters: {'n_estimators': 9588, 'depth': 3, 'learning_rate': 0.1686388812306923, 'reg_alpha': 4.196490774017459, 'reg_lambda': 0.008634395072713654, 'subsample': 0.5100208021469511, 'min_child_weight': 3.965399928055721, 'colsample_bytree': 0.9498079426143382, 'gamma': 3.444881863541721}. Best is trial 90 with value: 0.997745980541549.\u001b[0m\n"
     ]
    },
    {
     "name": "stdout",
     "output_type": "stream",
     "text": [
      "Valid AUC score for xgboost model is 0.9976918852395458\n",
      "FOLD 0\n",
      "---------------------------------------------------\n",
      "Fold 0 ROC AUC is: 0.9976087373482951\n",
      "FOLD 1\n",
      "---------------------------------------------------\n",
      "Fold 1 ROC AUC is: 0.9973681090353246\n",
      "FOLD 2\n",
      "---------------------------------------------------\n",
      "Fold 2 ROC AUC is: 0.9976026770627525\n",
      "FOLD 3\n",
      "---------------------------------------------------\n",
      "Fold 3 ROC AUC is: 0.9975631516399058\n",
      "FOLD 4\n",
      "---------------------------------------------------\n",
      "Fold 4 ROC AUC is: 0.9976731702596245\n"
     ]
    },
    {
     "name": "stderr",
     "output_type": "stream",
     "text": [
      "\u001b[32m[I 2021-11-25 02:49:56,416]\u001b[0m Trial 94 finished with value: 0.9975628503430828 and parameters: {'n_estimators': 9775, 'depth': 3, 'learning_rate': 0.23760820742231914, 'reg_alpha': 5.949049376310752, 'reg_lambda': 0.008465818095529707, 'subsample': 0.5404232695049872, 'min_child_weight': 3.7942838350999706, 'colsample_bytree': 0.9698420608094068, 'gamma': 3.1524823426715143}. Best is trial 90 with value: 0.997745980541549.\u001b[0m\n"
     ]
    },
    {
     "name": "stdout",
     "output_type": "stream",
     "text": [
      "Valid AUC score for xgboost model is 0.9975628503430828\n",
      "FOLD 0\n",
      "---------------------------------------------------\n",
      "Fold 0 ROC AUC is: 0.9964319883420892\n",
      "FOLD 1\n",
      "---------------------------------------------------\n",
      "Fold 1 ROC AUC is: 0.9962690255455519\n",
      "FOLD 2\n",
      "---------------------------------------------------\n",
      "Fold 2 ROC AUC is: 0.9964718018801925\n",
      "FOLD 3\n",
      "---------------------------------------------------\n",
      "Fold 3 ROC AUC is: 0.9963793861739407\n",
      "FOLD 4\n",
      "---------------------------------------------------\n",
      "Fold 4 ROC AUC is: 0.9964898728592988\n"
     ]
    },
    {
     "name": "stderr",
     "output_type": "stream",
     "text": [
      "\u001b[32m[I 2021-11-25 02:52:54,126]\u001b[0m Trial 95 finished with value: 0.9964084196724357 and parameters: {'n_estimators': 8782, 'depth': 4, 'learning_rate': 0.29933695121718007, 'reg_alpha': 1.463060761818228, 'reg_lambda': 0.010206920546773208, 'subsample': 0.9995534801234836, 'min_child_weight': 4.2619873652038684, 'colsample_bytree': 0.8951400665950322, 'gamma': 4.3727702057040085}. Best is trial 90 with value: 0.997745980541549.\u001b[0m\n"
     ]
    },
    {
     "name": "stdout",
     "output_type": "stream",
     "text": [
      "Valid AUC score for xgboost model is 0.9964084196724357\n",
      "FOLD 0\n",
      "---------------------------------------------------\n",
      "Fold 0 ROC AUC is: 0.9977052694313295\n",
      "FOLD 1\n",
      "---------------------------------------------------\n",
      "Fold 1 ROC AUC is: 0.9975875419233501\n",
      "FOLD 2\n",
      "---------------------------------------------------\n",
      "Fold 2 ROC AUC is: 0.997732440711989\n",
      "FOLD 3\n",
      "---------------------------------------------------\n",
      "Fold 3 ROC AUC is: 0.9977551605059096\n",
      "FOLD 4\n",
      "---------------------------------------------------\n",
      "Fold 4 ROC AUC is: 0.9978071402127948\n"
     ]
    },
    {
     "name": "stderr",
     "output_type": "stream",
     "text": [
      "\u001b[32m[I 2021-11-25 02:57:04,259]\u001b[0m Trial 96 finished with value: 0.9977173096803774 and parameters: {'n_estimators': 9331, 'depth': 3, 'learning_rate': 0.10927934471116463, 'reg_alpha': 4.404339596509881, 'reg_lambda': 0.015385224738520723, 'subsample': 0.5001802218630653, 'min_child_weight': 3.2545910428626765, 'colsample_bytree': 0.9540586480827596, 'gamma': 2.72131498999216}. Best is trial 90 with value: 0.997745980541549.\u001b[0m\n"
     ]
    },
    {
     "name": "stdout",
     "output_type": "stream",
     "text": [
      "Valid AUC score for xgboost model is 0.9977173096803774\n",
      "FOLD 0\n",
      "---------------------------------------------------\n",
      "Fold 0 ROC AUC is: 0.9924284391107565\n",
      "FOLD 1\n",
      "---------------------------------------------------\n",
      "Fold 1 ROC AUC is: 0.9922099307149547\n",
      "FOLD 2\n",
      "---------------------------------------------------\n",
      "Fold 2 ROC AUC is: 0.9927938431185415\n",
      "FOLD 3\n",
      "---------------------------------------------------\n",
      "Fold 3 ROC AUC is: 0.9926756306282755\n",
      "FOLD 4\n",
      "---------------------------------------------------\n",
      "Fold 4 ROC AUC is: 0.9928253314719806\n"
     ]
    },
    {
     "name": "stderr",
     "output_type": "stream",
     "text": [
      "\u001b[32m[I 2021-11-25 03:01:21,868]\u001b[0m Trial 97 finished with value: 0.9925860142435867 and parameters: {'n_estimators': 9296, 'depth': 3, 'learning_rate': 0.011493116099949038, 'reg_alpha': 13.950754084150152, 'reg_lambda': 0.0177030239830916, 'subsample': 0.5181544194798716, 'min_child_weight': 2.8643244647695356, 'colsample_bytree': 0.9521097430413145, 'gamma': 3.7767242646197285}. Best is trial 90 with value: 0.997745980541549.\u001b[0m\n"
     ]
    },
    {
     "name": "stdout",
     "output_type": "stream",
     "text": [
      "Valid AUC score for xgboost model is 0.9925860142435867\n",
      "FOLD 0\n",
      "---------------------------------------------------\n",
      "Fold 0 ROC AUC is: 0.9977102823074259\n",
      "FOLD 1\n",
      "---------------------------------------------------\n",
      "Fold 1 ROC AUC is: 0.9975433259408594\n",
      "FOLD 2\n",
      "---------------------------------------------------\n",
      "Fold 2 ROC AUC is: 0.9977364087575032\n",
      "FOLD 3\n",
      "---------------------------------------------------\n",
      "Fold 3 ROC AUC is: 0.9977234152961694\n",
      "FOLD 4\n",
      "---------------------------------------------------\n",
      "Fold 4 ROC AUC is: 0.9978224564444902\n"
     ]
    },
    {
     "name": "stderr",
     "output_type": "stream",
     "text": [
      "\u001b[32m[I 2021-11-25 03:05:21,336]\u001b[0m Trial 98 finished with value: 0.99770694271887 and parameters: {'n_estimators': 9823, 'depth': 3, 'learning_rate': 0.16068782989761862, 'reg_alpha': 3.976220634531455, 'reg_lambda': 0.013701512664073793, 'subsample': 0.5032893459621599, 'min_child_weight': 3.3290503684962487, 'colsample_bytree': 0.9868454839378146, 'gamma': 3.4536973493267196}. Best is trial 90 with value: 0.997745980541549.\u001b[0m\n"
     ]
    },
    {
     "name": "stdout",
     "output_type": "stream",
     "text": [
      "Valid AUC score for xgboost model is 0.99770694271887\n",
      "FOLD 0\n",
      "---------------------------------------------------\n",
      "Fold 0 ROC AUC is: 0.9977384987899559\n",
      "FOLD 1\n",
      "---------------------------------------------------\n",
      "Fold 1 ROC AUC is: 0.9975907980248968\n",
      "FOLD 2\n",
      "---------------------------------------------------\n",
      "Fold 2 ROC AUC is: 0.9977698301461745\n",
      "FOLD 3\n",
      "---------------------------------------------------\n",
      "Fold 3 ROC AUC is: 0.997832811842116\n",
      "FOLD 4\n",
      "---------------------------------------------------\n",
      "Fold 4 ROC AUC is: 0.9978687992424207\n"
     ]
    },
    {
     "name": "stderr",
     "output_type": "stream",
     "text": [
      "\u001b[32m[I 2021-11-25 03:09:19,920]\u001b[0m Trial 99 finished with value: 0.9977600209643013 and parameters: {'n_estimators': 9872, 'depth': 3, 'learning_rate': 0.12943882615104757, 'reg_alpha': 4.793236314677738, 'reg_lambda': 0.03427038053813167, 'subsample': 0.5026684329097286, 'min_child_weight': 3.2374430610042664, 'colsample_bytree': 0.9875504456465564, 'gamma': 4.691772640321729}. Best is trial 99 with value: 0.9977600209643013.\u001b[0m\n"
     ]
    },
    {
     "name": "stdout",
     "output_type": "stream",
     "text": [
      "Valid AUC score for xgboost model is 0.9977600209643013\n",
      "FOLD 0\n",
      "---------------------------------------------------\n",
      "Fold 0 ROC AUC is: 0.9970875049532878\n",
      "FOLD 1\n",
      "---------------------------------------------------\n",
      "Fold 1 ROC AUC is: 0.99692079921843\n",
      "FOLD 2\n",
      "---------------------------------------------------\n",
      "Fold 2 ROC AUC is: 0.997154762800989\n",
      "FOLD 3\n",
      "---------------------------------------------------\n",
      "Fold 3 ROC AUC is: 0.9971853036572711\n",
      "FOLD 4\n",
      "---------------------------------------------------\n",
      "Fold 4 ROC AUC is: 0.9972748116335989\n"
     ]
    },
    {
     "name": "stderr",
     "output_type": "stream",
     "text": [
      "\u001b[32m[I 2021-11-25 03:13:09,014]\u001b[0m Trial 100 finished with value: 0.9971243092190247 and parameters: {'n_estimators': 9614, 'depth': 4, 'learning_rate': 0.13339512882201215, 'reg_alpha': 20.776675127538844, 'reg_lambda': 0.049061284302722954, 'subsample': 0.5013460288856191, 'min_child_weight': 3.279560364180792, 'colsample_bytree': 0.9972574061546752, 'gamma': 4.45618995317388}. Best is trial 99 with value: 0.9977600209643013.\u001b[0m\n"
     ]
    },
    {
     "name": "stdout",
     "output_type": "stream",
     "text": [
      "Valid AUC score for xgboost model is 0.9971243092190247\n",
      "FOLD 0\n",
      "---------------------------------------------------\n",
      "Fold 0 ROC AUC is: 0.9976738752786516\n",
      "FOLD 1\n",
      "---------------------------------------------------\n",
      "Fold 1 ROC AUC is: 0.9975502566763652\n",
      "FOLD 2\n",
      "---------------------------------------------------\n",
      "Fold 2 ROC AUC is: 0.9977347692564896\n",
      "FOLD 3\n",
      "---------------------------------------------------\n",
      "Fold 3 ROC AUC is: 0.9977416725617788\n",
      "FOLD 4\n",
      "---------------------------------------------------\n",
      "Fold 4 ROC AUC is: 0.9978278538191154\n"
     ]
    },
    {
     "name": "stderr",
     "output_type": "stream",
     "text": [
      "\u001b[32m[I 2021-11-25 03:16:55,866]\u001b[0m Trial 101 finished with value: 0.9977057958250524 and parameters: {'n_estimators': 9809, 'depth': 3, 'learning_rate': 0.15898621411424482, 'reg_alpha': 5.224977321506376, 'reg_lambda': 0.013875698510764202, 'subsample': 0.5152563676841241, 'min_child_weight': 4.642506487817997, 'colsample_bytree': 0.9826085005720655, 'gamma': 4.727751835745068}. Best is trial 99 with value: 0.9977600209643013.\u001b[0m\n"
     ]
    },
    {
     "name": "stdout",
     "output_type": "stream",
     "text": [
      "Valid AUC score for xgboost model is 0.9977057958250524\n",
      "FOLD 0\n",
      "---------------------------------------------------\n",
      "Fold 0 ROC AUC is: 0.9974358077829373\n",
      "FOLD 1\n",
      "---------------------------------------------------\n",
      "Fold 1 ROC AUC is: 0.9972466558221226\n",
      "FOLD 2\n",
      "---------------------------------------------------\n",
      "Fold 2 ROC AUC is: 0.9974847554277427\n",
      "FOLD 3\n",
      "---------------------------------------------------\n",
      "Fold 3 ROC AUC is: 0.9974619894876732\n",
      "FOLD 4\n",
      "---------------------------------------------------\n",
      "Fold 4 ROC AUC is: 0.9975820421759881\n"
     ]
    },
    {
     "name": "stderr",
     "output_type": "stream",
     "text": [
      "\u001b[32m[I 2021-11-25 03:20:34,871]\u001b[0m Trial 102 finished with value: 0.9974421523252974 and parameters: {'n_estimators': 9739, 'depth': 3, 'learning_rate': 0.16238221965559319, 'reg_alpha': 4.6246238354741385, 'reg_lambda': 0.015006773220269021, 'subsample': 0.8897664852610536, 'min_child_weight': 2.176120621959687, 'colsample_bytree': 0.9795805144780642, 'gamma': 4.744635940071345}. Best is trial 99 with value: 0.9977600209643013.\u001b[0m\n"
     ]
    },
    {
     "name": "stdout",
     "output_type": "stream",
     "text": [
      "Valid AUC score for xgboost model is 0.9974421523252974\n",
      "FOLD 0\n",
      "---------------------------------------------------\n",
      "Fold 0 ROC AUC is: 0.9976163203742539\n",
      "FOLD 1\n",
      "---------------------------------------------------\n",
      "Fold 1 ROC AUC is: 0.9975218663899006\n",
      "FOLD 2\n",
      "---------------------------------------------------\n",
      "Fold 2 ROC AUC is: 0.9976425172014278\n",
      "FOLD 3\n",
      "---------------------------------------------------\n",
      "Fold 3 ROC AUC is: 0.9976802724991402\n",
      "FOLD 4\n",
      "---------------------------------------------------\n",
      "Fold 4 ROC AUC is: 0.9977758234890362\n"
     ]
    },
    {
     "name": "stderr",
     "output_type": "stream",
     "text": [
      "\u001b[32m[I 2021-11-25 03:24:14,308]\u001b[0m Trial 103 finished with value: 0.9976472399999391 and parameters: {'n_estimators': 9983, 'depth': 3, 'learning_rate': 0.2144573334223964, 'reg_alpha': 7.04136102952726, 'reg_lambda': 0.03678117971158342, 'subsample': 0.5217557800459324, 'min_child_weight': 3.96198856447625, 'colsample_bytree': 0.9333359426828413, 'gamma': 4.186499101190539}. Best is trial 99 with value: 0.9977600209643013.\u001b[0m\n"
     ]
    },
    {
     "name": "stdout",
     "output_type": "stream",
     "text": [
      "Valid AUC score for xgboost model is 0.9976472399999391\n",
      "FOLD 0\n",
      "---------------------------------------------------\n",
      "Fold 0 ROC AUC is: 0.9975858001225539\n",
      "FOLD 1\n",
      "---------------------------------------------------\n",
      "Fold 1 ROC AUC is: 0.9974661726668326\n",
      "FOLD 2\n",
      "---------------------------------------------------\n",
      "Fold 2 ROC AUC is: 0.9976556516933545\n",
      "FOLD 3\n",
      "---------------------------------------------------\n",
      "Fold 3 ROC AUC is: 0.9976766291072351\n",
      "FOLD 4\n",
      "---------------------------------------------------\n",
      "Fold 4 ROC AUC is: 0.9977672650927685\n"
     ]
    },
    {
     "name": "stderr",
     "output_type": "stream",
     "text": [
      "\u001b[32m[I 2021-11-25 03:28:07,816]\u001b[0m Trial 104 finished with value: 0.9976301654515284 and parameters: {'n_estimators': 9809, 'depth': 3, 'learning_rate': 0.12210531689246722, 'reg_alpha': 11.554658067990445, 'reg_lambda': 0.09364186469235307, 'subsample': 0.5091411893045488, 'min_child_weight': 4.625106281532861, 'colsample_bytree': 0.9849025622321892, 'gamma': 4.686077198755203}. Best is trial 99 with value: 0.9977600209643013.\u001b[0m\n"
     ]
    },
    {
     "name": "stdout",
     "output_type": "stream",
     "text": [
      "Valid AUC score for xgboost model is 0.9976301654515284\n",
      "FOLD 0\n",
      "---------------------------------------------------\n",
      "Fold 0 ROC AUC is: 0.9976110274996728\n",
      "FOLD 1\n",
      "---------------------------------------------------\n",
      "Fold 1 ROC AUC is: 0.9975422099007605\n",
      "FOLD 2\n",
      "---------------------------------------------------\n",
      "Fold 2 ROC AUC is: 0.9977241400866592\n",
      "FOLD 3\n",
      "---------------------------------------------------\n",
      "Fold 3 ROC AUC is: 0.9976737445815768\n",
      "FOLD 4\n",
      "---------------------------------------------------\n",
      "Fold 4 ROC AUC is: 0.9977338010921639\n"
     ]
    },
    {
     "name": "stderr",
     "output_type": "stream",
     "text": [
      "\u001b[32m[I 2021-11-25 03:31:39,980]\u001b[0m Trial 105 finished with value: 0.9976566997795607 and parameters: {'n_estimators': 9551, 'depth': 3, 'learning_rate': 0.18922043031325306, 'reg_alpha': 3.2070199375243247, 'reg_lambda': 0.023952945746961243, 'subsample': 0.5301089638240121, 'min_child_weight': 3.598100171438619, 'colsample_bytree': 0.9567103047937722, 'gamma': 5.447325482957655}. Best is trial 99 with value: 0.9977600209643013.\u001b[0m\n"
     ]
    },
    {
     "name": "stdout",
     "output_type": "stream",
     "text": [
      "Valid AUC score for xgboost model is 0.9976566997795607\n",
      "FOLD 0\n",
      "---------------------------------------------------\n",
      "Fold 0 ROC AUC is: 0.997680038580284\n",
      "FOLD 1\n",
      "---------------------------------------------------\n",
      "Fold 1 ROC AUC is: 0.9975689998671775\n",
      "FOLD 2\n",
      "---------------------------------------------------\n",
      "Fold 2 ROC AUC is: 0.9976981169515212\n",
      "FOLD 3\n",
      "---------------------------------------------------\n",
      "Fold 3 ROC AUC is: 0.9977309232074891\n",
      "FOLD 4\n",
      "---------------------------------------------------\n",
      "Fold 4 ROC AUC is: 0.9978331101449444\n"
     ]
    },
    {
     "name": "stderr",
     "output_type": "stream",
     "text": [
      "\u001b[32m[I 2021-11-25 03:35:30,858]\u001b[0m Trial 106 finished with value: 0.9977020712705499 and parameters: {'n_estimators': 9373, 'depth': 3, 'learning_rate': 0.16170588870166033, 'reg_alpha': 4.795807662370573, 'reg_lambda': 0.013181278906449649, 'subsample': 0.5004852146902128, 'min_child_weight': 2.3161796783658897, 'colsample_bytree': 0.9818798024904561, 'gamma': 3.4231966408662724}. Best is trial 99 with value: 0.9977600209643013.\u001b[0m\n"
     ]
    },
    {
     "name": "stdout",
     "output_type": "stream",
     "text": [
      "Valid AUC score for xgboost model is 0.9977020712705499\n",
      "FOLD 0\n",
      "---------------------------------------------------\n",
      "Fold 0 ROC AUC is: 0.9976399357104692\n",
      "FOLD 1\n",
      "---------------------------------------------------\n",
      "Fold 1 ROC AUC is: 0.9975124814503857\n",
      "FOLD 2\n",
      "---------------------------------------------------\n",
      "Fold 2 ROC AUC is: 0.9976832415060308\n",
      "FOLD 3\n",
      "---------------------------------------------------\n",
      "Fold 3 ROC AUC is: 0.9976988538812492\n",
      "FOLD 4\n",
      "---------------------------------------------------\n",
      "Fold 4 ROC AUC is: 0.9978339128029217\n"
     ]
    },
    {
     "name": "stderr",
     "output_type": "stream",
     "text": [
      "\u001b[32m[I 2021-11-25 03:39:24,624]\u001b[0m Trial 107 finished with value: 0.9976736126039967 and parameters: {'n_estimators': 9377, 'depth': 3, 'learning_rate': 0.10237306112455695, 'reg_alpha': 8.741457321024102, 'reg_lambda': 0.013059810228026617, 'subsample': 0.515121245703579, 'min_child_weight': 2.262395232893563, 'colsample_bytree': 0.983390180846445, 'gamma': 5.172487493524358}. Best is trial 99 with value: 0.9977600209643013.\u001b[0m\n"
     ]
    },
    {
     "name": "stdout",
     "output_type": "stream",
     "text": [
      "Valid AUC score for xgboost model is 0.9976736126039967\n",
      "FOLD 0\n",
      "---------------------------------------------------\n",
      "Fold 0 ROC AUC is: 0.9977309182652243\n",
      "FOLD 1\n",
      "---------------------------------------------------\n",
      "Fold 1 ROC AUC is: 0.9975366844667117\n",
      "FOLD 2\n",
      "---------------------------------------------------\n",
      "Fold 2 ROC AUC is: 0.9977248092565649\n",
      "FOLD 3\n",
      "---------------------------------------------------\n",
      "Fold 3 ROC AUC is: 0.9977643443163519\n",
      "FOLD 4\n",
      "---------------------------------------------------\n",
      "Fold 4 ROC AUC is: 0.9978653174911016\n"
     ]
    },
    {
     "name": "stderr",
     "output_type": "stream",
     "text": [
      "\u001b[32m[I 2021-11-25 03:43:47,723]\u001b[0m Trial 108 finished with value: 0.9977242823785262 and parameters: {'n_estimators': 9854, 'depth': 3, 'learning_rate': 0.08294167267156168, 'reg_alpha': 5.6570774896352685, 'reg_lambda': 0.061250341025133485, 'subsample': 0.5003728599613426, 'min_child_weight': 1.7538668620109075, 'colsample_bytree': 0.932988432367888, 'gamma': 3.269889629717992}. Best is trial 99 with value: 0.9977600209643013.\u001b[0m\n"
     ]
    },
    {
     "name": "stdout",
     "output_type": "stream",
     "text": [
      "Valid AUC score for xgboost model is 0.9977242823785262\n",
      "FOLD 0\n",
      "---------------------------------------------------\n",
      "Fold 0 ROC AUC is: 0.9971343323723176\n",
      "FOLD 1\n",
      "---------------------------------------------------\n",
      "Fold 1 ROC AUC is: 0.9969027842545548\n",
      "FOLD 2\n",
      "---------------------------------------------------\n",
      "Fold 2 ROC AUC is: 0.9971311884246756\n",
      "FOLD 3\n",
      "---------------------------------------------------\n",
      "Fold 3 ROC AUC is: 0.9971771626624797\n",
      "FOLD 4\n",
      "---------------------------------------------------\n",
      "Fold 4 ROC AUC is: 0.9972393081924691\n"
     ]
    },
    {
     "name": "stderr",
     "output_type": "stream",
     "text": [
      "\u001b[32m[I 2021-11-25 03:47:52,748]\u001b[0m Trial 109 finished with value: 0.9971163498111753 and parameters: {'n_estimators': 5106, 'depth': 7, 'learning_rate': 0.0820138634343487, 'reg_alpha': 6.037247898080129, 'reg_lambda': 0.054085539230957894, 'subsample': 0.5007885038308556, 'min_child_weight': 0.9842896428644383, 'colsample_bytree': 0.9324908354153901, 'gamma': 3.228567890561724}. Best is trial 99 with value: 0.9977600209643013.\u001b[0m\n"
     ]
    },
    {
     "name": "stdout",
     "output_type": "stream",
     "text": [
      "Valid AUC score for xgboost model is 0.9971163498111753\n",
      "FOLD 0\n",
      "---------------------------------------------------\n",
      "Fold 0 ROC AUC is: 0.9975328623445333\n",
      "FOLD 1\n",
      "---------------------------------------------------\n",
      "Fold 1 ROC AUC is: 0.997424518475228\n",
      "FOLD 2\n",
      "---------------------------------------------------\n",
      "Fold 2 ROC AUC is: 0.9976644602763179\n",
      "FOLD 3\n",
      "---------------------------------------------------\n",
      "Fold 3 ROC AUC is: 0.9976022982973126\n",
      "FOLD 4\n",
      "---------------------------------------------------\n",
      "Fold 4 ROC AUC is: 0.9976744099604234\n"
     ]
    },
    {
     "name": "stderr",
     "output_type": "stream",
     "text": [
      "\u001b[32m[I 2021-11-25 03:51:58,005]\u001b[0m Trial 110 finished with value: 0.9975795716970508 and parameters: {'n_estimators': 9847, 'depth': 4, 'learning_rate': 0.1461774015683418, 'reg_alpha': 4.733494964050612, 'reg_lambda': 0.033195534161651434, 'subsample': 0.5215077680474336, 'min_child_weight': 1.7229398256360504, 'colsample_bytree': 0.9665751985449194, 'gamma': 4.184724130182728}. Best is trial 99 with value: 0.9977600209643013.\u001b[0m\n"
     ]
    },
    {
     "name": "stdout",
     "output_type": "stream",
     "text": [
      "Valid AUC score for xgboost model is 0.9975795716970508\n",
      "FOLD 0\n",
      "---------------------------------------------------\n",
      "Fold 0 ROC AUC is: 0.9976355866322691\n",
      "FOLD 1\n",
      "---------------------------------------------------\n",
      "Fold 1 ROC AUC is: 0.9974690376191903\n",
      "FOLD 2\n",
      "---------------------------------------------------\n",
      "Fold 2 ROC AUC is: 0.9976289217257885\n",
      "FOLD 3\n",
      "---------------------------------------------------\n",
      "Fold 3 ROC AUC is: 0.9976418246658161\n",
      "FOLD 4\n",
      "---------------------------------------------------\n",
      "Fold 4 ROC AUC is: 0.9977120591497918\n"
     ]
    },
    {
     "name": "stderr",
     "output_type": "stream",
     "text": [
      "\u001b[32m[I 2021-11-25 03:56:07,050]\u001b[0m Trial 111 finished with value: 0.9976172240925001 and parameters: {'n_estimators': 9326, 'depth': 3, 'learning_rate': 0.1247041970312087, 'reg_alpha': 3.349080461368639, 'reg_lambda': 0.13721610546559748, 'subsample': 0.7709148913304843, 'min_child_weight': 2.67755355261286, 'colsample_bytree': 0.9022009800491547, 'gamma': 2.7409832185911074}. Best is trial 99 with value: 0.9977600209643013.\u001b[0m\n"
     ]
    },
    {
     "name": "stdout",
     "output_type": "stream",
     "text": [
      "Valid AUC score for xgboost model is 0.9976172240925001\n",
      "FOLD 0\n",
      "---------------------------------------------------\n",
      "Fold 0 ROC AUC is: 0.997706708748602\n",
      "FOLD 1\n",
      "---------------------------------------------------\n",
      "Fold 1 ROC AUC is: 0.9974917804286112\n",
      "FOLD 2\n",
      "---------------------------------------------------\n",
      "Fold 2 ROC AUC is: 0.9977065862938326\n",
      "FOLD 3\n",
      "---------------------------------------------------\n",
      "Fold 3 ROC AUC is: 0.9977211339718873\n",
      "FOLD 4\n",
      "---------------------------------------------------\n",
      "Fold 4 ROC AUC is: 0.9978225403789464\n"
     ]
    },
    {
     "name": "stderr",
     "output_type": "stream",
     "text": [
      "\u001b[32m[I 2021-11-25 04:00:01,380]\u001b[0m Trial 112 finished with value: 0.9976897102933492 and parameters: {'n_estimators': 9869, 'depth': 3, 'learning_rate': 0.11270707531948536, 'reg_alpha': 6.36073688569549, 'reg_lambda': 0.018910550647539486, 'subsample': 0.5295691174665229, 'min_child_weight': 1.3593928465296685, 'colsample_bytree': 0.9381998271441631, 'gamma': 6.0074278658369185}. Best is trial 99 with value: 0.9977600209643013.\u001b[0m\n"
     ]
    },
    {
     "name": "stdout",
     "output_type": "stream",
     "text": [
      "Valid AUC score for xgboost model is 0.9976897102933492\n",
      "FOLD 0\n",
      "---------------------------------------------------\n",
      "Fold 0 ROC AUC is: 0.9976629806279353\n",
      "FOLD 1\n",
      "---------------------------------------------------\n",
      "Fold 1 ROC AUC is: 0.9975438756903413\n",
      "FOLD 2\n",
      "---------------------------------------------------\n",
      "Fold 2 ROC AUC is: 0.9976998137106865\n",
      "FOLD 3\n",
      "---------------------------------------------------\n",
      "Fold 3 ROC AUC is: 0.9977586865932155\n",
      "FOLD 4\n",
      "---------------------------------------------------\n",
      "Fold 4 ROC AUC is: 0.9978256976485522\n"
     ]
    },
    {
     "name": "stderr",
     "output_type": "stream",
     "text": [
      "\u001b[32m[I 2021-11-25 04:03:46,019]\u001b[0m Trial 113 finished with value: 0.9976979014358889 and parameters: {'n_estimators': 9054, 'depth': 3, 'learning_rate': 0.14395042902262625, 'reg_alpha': 8.134359225846634, 'reg_lambda': 0.061009794034277955, 'subsample': 0.5024067891088632, 'min_child_weight': 3.32465534898508, 'colsample_bytree': 0.9791562659752333, 'gamma': 3.5943102886225997}. Best is trial 99 with value: 0.9977600209643013.\u001b[0m\n"
     ]
    },
    {
     "name": "stdout",
     "output_type": "stream",
     "text": [
      "Valid AUC score for xgboost model is 0.9976979014358889\n",
      "FOLD 0\n",
      "---------------------------------------------------\n",
      "Fold 0 ROC AUC is: 0.9953615802591329\n",
      "FOLD 1\n",
      "---------------------------------------------------\n",
      "Fold 1 ROC AUC is: 0.995150462714965\n",
      "FOLD 2\n",
      "---------------------------------------------------\n",
      "Fold 2 ROC AUC is: 0.9955583880162651\n",
      "FOLD 3\n",
      "---------------------------------------------------\n",
      "Fold 3 ROC AUC is: 0.995469751966652\n",
      "FOLD 4\n",
      "---------------------------------------------------\n",
      "Fold 4 ROC AUC is: 0.995612949564189\n"
     ]
    },
    {
     "name": "stderr",
     "output_type": "stream",
     "text": [
      "\u001b[32m[I 2021-11-25 04:05:13,534]\u001b[0m Trial 114 finished with value: 0.9954299425904767 and parameters: {'n_estimators': 2983, 'depth': 3, 'learning_rate': 0.07015913865534652, 'reg_alpha': 16.357245889198747, 'reg_lambda': 0.025560915436592772, 'subsample': 0.549873106283182, 'min_child_weight': 2.9614610820823515, 'colsample_bytree': 0.9583254927092995, 'gamma': 3.9053131555877476}. Best is trial 99 with value: 0.9977600209643013.\u001b[0m\n"
     ]
    },
    {
     "name": "stdout",
     "output_type": "stream",
     "text": [
      "Valid AUC score for xgboost model is 0.9954299425904767\n",
      "FOLD 0\n",
      "---------------------------------------------------\n",
      "Fold 0 ROC AUC is: 0.997460868967407\n",
      "FOLD 1\n",
      "---------------------------------------------------\n",
      "Fold 1 ROC AUC is: 0.9973133524578969\n",
      "FOLD 2\n",
      "---------------------------------------------------\n",
      "Fold 2 ROC AUC is: 0.9975153233591962\n",
      "FOLD 3\n",
      "---------------------------------------------------\n",
      "Fold 3 ROC AUC is: 0.9974992666377742\n",
      "FOLD 4\n",
      "---------------------------------------------------\n",
      "Fold 4 ROC AUC is: 0.9975520824389242\n"
     ]
    },
    {
     "name": "stderr",
     "output_type": "stream",
     "text": [
      "\u001b[32m[I 2021-11-25 04:08:59,036]\u001b[0m Trial 115 finished with value: 0.9974679332126181 and parameters: {'n_estimators': 9999, 'depth': 3, 'learning_rate': 0.2607603712655991, 'reg_alpha': 2.5586955890657332, 'reg_lambda': 0.39387866366795576, 'subsample': 0.5205711842430161, 'min_child_weight': 2.407176901789847, 'colsample_bytree': 0.9929751738680098, 'gamma': 3.0285498028304803}. Best is trial 99 with value: 0.9977600209643013.\u001b[0m\n"
     ]
    },
    {
     "name": "stdout",
     "output_type": "stream",
     "text": [
      "Valid AUC score for xgboost model is 0.9974679332126181\n",
      "FOLD 0\n",
      "---------------------------------------------------\n",
      "Fold 0 ROC AUC is: 0.9850134389226044\n",
      "FOLD 1\n",
      "---------------------------------------------------\n",
      "Fold 1 ROC AUC is: 0.9848343817134724\n",
      "FOLD 2\n",
      "---------------------------------------------------\n",
      "Fold 2 ROC AUC is: 0.9857479868261033\n",
      "FOLD 3\n",
      "---------------------------------------------------\n",
      "Fold 3 ROC AUC is: 0.9855390235292734\n",
      "FOLD 4\n",
      "---------------------------------------------------\n",
      "Fold 4 ROC AUC is: 0.9856141888369777\n"
     ]
    },
    {
     "name": "stderr",
     "output_type": "stream",
     "text": [
      "\u001b[32m[I 2021-11-25 04:13:25,715]\u001b[0m Trial 116 finished with value: 0.9853493780652923 and parameters: {'n_estimators': 9448, 'depth': 3, 'learning_rate': 0.005623599996266789, 'reg_alpha': 5.27570966157745, 'reg_lambda': 0.011614607905516754, 'subsample': 0.5002448297278659, 'min_child_weight': 0.42595546832246356, 'colsample_bytree': 0.9727208974781697, 'gamma': 9.819909196405526}. Best is trial 99 with value: 0.9977600209643013.\u001b[0m\n"
     ]
    },
    {
     "name": "stdout",
     "output_type": "stream",
     "text": [
      "Valid AUC score for xgboost model is 0.9853493780652923\n",
      "FOLD 0\n",
      "---------------------------------------------------\n",
      "Fold 0 ROC AUC is: 0.9969857811564155\n",
      "FOLD 1\n",
      "---------------------------------------------------\n",
      "Fold 1 ROC AUC is: 0.9967694198952419\n",
      "FOLD 2\n",
      "---------------------------------------------------\n",
      "Fold 2 ROC AUC is: 0.9969971719679029\n",
      "FOLD 3\n",
      "---------------------------------------------------\n",
      "Fold 3 ROC AUC is: 0.9969880851605818\n",
      "FOLD 4\n",
      "---------------------------------------------------\n",
      "Fold 4 ROC AUC is: 0.9971344608552314\n"
     ]
    },
    {
     "name": "stderr",
     "output_type": "stream",
     "text": [
      "\u001b[32m[I 2021-11-25 04:15:27,583]\u001b[0m Trial 117 finished with value: 0.9969746213782743 and parameters: {'n_estimators': 4287, 'depth': 3, 'learning_rate': 0.08364831357713973, 'reg_alpha': 3.4981764850012813, 'reg_lambda': 0.09701544014431848, 'subsample': 0.5330263867907437, 'min_child_weight': 1.1955997225861, 'colsample_bytree': 0.9900164951442545, 'gamma': 3.308837498060976}. Best is trial 99 with value: 0.9977600209643013.\u001b[0m\n"
     ]
    },
    {
     "name": "stdout",
     "output_type": "stream",
     "text": [
      "Valid AUC score for xgboost model is 0.9969746213782743\n",
      "FOLD 0\n",
      "---------------------------------------------------\n",
      "Fold 0 ROC AUC is: 0.997604543485136\n",
      "FOLD 1\n",
      "---------------------------------------------------\n",
      "Fold 1 ROC AUC is: 0.9974540580230622\n",
      "FOLD 2\n",
      "---------------------------------------------------\n",
      "Fold 2 ROC AUC is: 0.997616257112045\n",
      "FOLD 3\n",
      "---------------------------------------------------\n",
      "Fold 3 ROC AUC is: 0.9976057548913726\n",
      "FOLD 4\n",
      "---------------------------------------------------\n",
      "Fold 4 ROC AUC is: 0.99769986419594\n"
     ]
    },
    {
     "name": "stderr",
     "output_type": "stream",
     "text": [
      "\u001b[32m[I 2021-11-25 04:19:06,180]\u001b[0m Trial 118 finished with value: 0.9975961331226183 and parameters: {'n_estimators': 8966, 'depth': 3, 'learning_rate': 0.18442624921707285, 'reg_alpha': 0.9582198742548301, 'reg_lambda': 0.014705455658307229, 'subsample': 0.558519492886764, 'min_child_weight': 1.9795381650562158, 'colsample_bytree': 0.9610099649885622, 'gamma': 3.498124024872658}. Best is trial 99 with value: 0.9977600209643013.\u001b[0m\n"
     ]
    },
    {
     "name": "stdout",
     "output_type": "stream",
     "text": [
      "Valid AUC score for xgboost model is 0.9975961331226183\n",
      "FOLD 0\n",
      "---------------------------------------------------\n",
      "Fold 0 ROC AUC is: 0.9968196122691093\n",
      "FOLD 1\n",
      "---------------------------------------------------\n",
      "Fold 1 ROC AUC is: 0.9965794207751886\n",
      "FOLD 2\n",
      "---------------------------------------------------\n",
      "Fold 2 ROC AUC is: 0.996897456618494\n",
      "FOLD 3\n",
      "---------------------------------------------------\n",
      "Fold 3 ROC AUC is: 0.996874202547628\n",
      "FOLD 4\n",
      "---------------------------------------------------\n",
      "Fold 4 ROC AUC is: 0.9970282370762931\n"
     ]
    },
    {
     "name": "stderr",
     "output_type": "stream",
     "text": [
      "\u001b[32m[I 2021-11-25 04:22:22,110]\u001b[0m Trial 119 finished with value: 0.9968393645337925 and parameters: {'n_estimators': 9223, 'depth': 3, 'learning_rate': 0.22749191406036326, 'reg_alpha': 34.2200027818261, 'reg_lambda': 0.02990266988390452, 'subsample': 0.5128726041395084, 'min_child_weight': 1.7054847947310325, 'colsample_bytree': 0.9307713815837526, 'gamma': 2.7485225872283263}. Best is trial 99 with value: 0.9977600209643013.\u001b[0m\n"
     ]
    },
    {
     "name": "stdout",
     "output_type": "stream",
     "text": [
      "Valid AUC score for xgboost model is 0.9968393645337925\n",
      "FOLD 0\n",
      "---------------------------------------------------\n",
      "Fold 0 ROC AUC is: 0.9976222705157495\n",
      "FOLD 1\n",
      "---------------------------------------------------\n",
      "Fold 1 ROC AUC is: 0.9974630422223101\n",
      "FOLD 2\n",
      "---------------------------------------------------\n",
      "Fold 2 ROC AUC is: 0.9976194770492304\n",
      "FOLD 3\n",
      "---------------------------------------------------\n",
      "Fold 3 ROC AUC is: 0.9976226619032105\n",
      "FOLD 4\n",
      "---------------------------------------------------\n",
      "Fold 4 ROC AUC is: 0.997732259282909\n"
     ]
    },
    {
     "name": "stderr",
     "output_type": "stream",
     "text": [
      "\u001b[32m[I 2021-11-25 04:27:02,411]\u001b[0m Trial 120 finished with value: 0.9976118145834241 and parameters: {'n_estimators': 9622, 'depth': 4, 'learning_rate': 0.09872557099912845, 'reg_alpha': 1.782717534453447, 'reg_lambda': 0.01987406997859331, 'subsample': 0.5403574819340209, 'min_child_weight': 3.588602717441144, 'colsample_bytree': 0.9483050128250632, 'gamma': 3.697105327144449}. Best is trial 99 with value: 0.9977600209643013.\u001b[0m\n"
     ]
    },
    {
     "name": "stdout",
     "output_type": "stream",
     "text": [
      "Valid AUC score for xgboost model is 0.9976118145834241\n",
      "FOLD 0\n",
      "---------------------------------------------------\n",
      "Fold 0 ROC AUC is: 0.9976805989941243\n",
      "FOLD 1\n",
      "---------------------------------------------------\n",
      "Fold 1 ROC AUC is: 0.9975349792008086\n",
      "FOLD 2\n",
      "---------------------------------------------------\n",
      "Fold 2 ROC AUC is: 0.9977337862785576\n",
      "FOLD 3\n",
      "---------------------------------------------------\n",
      "Fold 3 ROC AUC is: 0.9977421770827452\n",
      "FOLD 4\n",
      "---------------------------------------------------\n",
      "Fold 4 ROC AUC is: 0.9978077540182456\n"
     ]
    },
    {
     "name": "stderr",
     "output_type": "stream",
     "text": [
      "\u001b[32m[I 2021-11-25 04:30:44,666]\u001b[0m Trial 121 finished with value: 0.9976994214033235 and parameters: {'n_estimators': 8983, 'depth': 3, 'learning_rate': 0.1369205465866354, 'reg_alpha': 8.30469185908864, 'reg_lambda': 0.010947589957716667, 'subsample': 0.5082220194405918, 'min_child_weight': 3.2957946692335622, 'colsample_bytree': 0.9763463755140306, 'gamma': 3.983299029349524}. Best is trial 99 with value: 0.9977600209643013.\u001b[0m\n"
     ]
    },
    {
     "name": "stdout",
     "output_type": "stream",
     "text": [
      "Valid AUC score for xgboost model is 0.9976994214033235\n",
      "FOLD 0\n",
      "---------------------------------------------------\n",
      "Fold 0 ROC AUC is: 0.9976279530259391\n",
      "FOLD 1\n",
      "---------------------------------------------------\n",
      "Fold 1 ROC AUC is: 0.9974888119204092\n",
      "FOLD 2\n",
      "---------------------------------------------------\n",
      "Fold 2 ROC AUC is: 0.9976666477600804\n",
      "FOLD 3\n",
      "---------------------------------------------------\n",
      "Fold 3 ROC AUC is: 0.9976770616331987\n",
      "FOLD 4\n",
      "---------------------------------------------------\n",
      "Fold 4 ROC AUC is: 0.9978055204445497\n"
     ]
    },
    {
     "name": "stderr",
     "output_type": "stream",
     "text": [
      "\u001b[32m[I 2021-11-25 04:34:23,332]\u001b[0m Trial 122 finished with value: 0.9976534036835217 and parameters: {'n_estimators': 8859, 'depth': 3, 'learning_rate': 0.13173301825775408, 'reg_alpha': 9.79737595467586, 'reg_lambda': 0.0074220034916385215, 'subsample': 0.5203223501002469, 'min_child_weight': 3.0938819285581647, 'colsample_bytree': 0.9230567615313783, 'gamma': 4.131695377271465}. Best is trial 99 with value: 0.9977600209643013.\u001b[0m\n"
     ]
    },
    {
     "name": "stdout",
     "output_type": "stream",
     "text": [
      "Valid AUC score for xgboost model is 0.9976534036835217\n",
      "FOLD 0\n",
      "---------------------------------------------------\n",
      "Fold 0 ROC AUC is: 0.9977397934529243\n",
      "FOLD 1\n",
      "---------------------------------------------------\n",
      "Fold 1 ROC AUC is: 0.997593906646241\n",
      "FOLD 2\n",
      "---------------------------------------------------\n",
      "Fold 2 ROC AUC is: 0.9977170507769885\n",
      "FOLD 3\n",
      "---------------------------------------------------\n",
      "Fold 3 ROC AUC is: 0.9977138844364566\n",
      "FOLD 4\n",
      "---------------------------------------------------\n",
      "Fold 4 ROC AUC is: 0.9978590995321006\n"
     ]
    },
    {
     "name": "stderr",
     "output_type": "stream",
     "text": [
      "\u001b[32m[I 2021-11-25 04:38:02,081]\u001b[0m Trial 123 finished with value: 0.9977245585522876 and parameters: {'n_estimators': 9381, 'depth': 3, 'learning_rate': 0.1567574157779944, 'reg_alpha': 5.0847702350987225, 'reg_lambda': 0.010772482810883883, 'subsample': 0.5093710744210989, 'min_child_weight': 3.2389876524720913, 'colsample_bytree': 0.9762437942939014, 'gamma': 4.930762059313116}. Best is trial 99 with value: 0.9977600209643013.\u001b[0m\n"
     ]
    },
    {
     "name": "stdout",
     "output_type": "stream",
     "text": [
      "Valid AUC score for xgboost model is 0.9977245585522876\n",
      "FOLD 0\n",
      "---------------------------------------------------\n",
      "Fold 0 ROC AUC is: 0.997645195096398\n",
      "FOLD 1\n",
      "---------------------------------------------------\n",
      "Fold 1 ROC AUC is: 0.9975336613310642\n",
      "FOLD 2\n",
      "---------------------------------------------------\n",
      "Fold 2 ROC AUC is: 0.9976712707999383\n",
      "FOLD 3\n",
      "---------------------------------------------------\n",
      "Fold 3 ROC AUC is: 0.9977281388910918\n",
      "FOLD 4\n",
      "---------------------------------------------------\n",
      "Fold 4 ROC AUC is: 0.9978169749964447\n"
     ]
    },
    {
     "name": "stderr",
     "output_type": "stream",
     "text": [
      "\u001b[32m[I 2021-11-25 04:41:35,575]\u001b[0m Trial 124 finished with value: 0.9976785000290356 and parameters: {'n_estimators': 9412, 'depth': 3, 'learning_rate': 0.17188641597971138, 'reg_alpha': 7.407363898118402, 'reg_lambda': 0.010286621705236034, 'subsample': 0.5000225182172019, 'min_child_weight': 4.518391100117185, 'colsample_bytree': 0.97912319072348, 'gamma': 4.891230079688526}. Best is trial 99 with value: 0.9977600209643013.\u001b[0m\n"
     ]
    },
    {
     "name": "stdout",
     "output_type": "stream",
     "text": [
      "Valid AUC score for xgboost model is 0.9976785000290356\n",
      "FOLD 0\n",
      "---------------------------------------------------\n",
      "Fold 0 ROC AUC is: 0.9977143623647491\n",
      "FOLD 1\n",
      "---------------------------------------------------\n",
      "Fold 1 ROC AUC is: 0.9975635211375096\n",
      "FOLD 2\n",
      "---------------------------------------------------\n",
      "Fold 2 ROC AUC is: 0.9977422004473585\n",
      "FOLD 3\n",
      "---------------------------------------------------\n",
      "Fold 3 ROC AUC is: 0.9977184430544128\n",
      "FOLD 4\n",
      "---------------------------------------------------\n",
      "Fold 4 ROC AUC is: 0.9978263738489879\n"
     ]
    },
    {
     "name": "stderr",
     "output_type": "stream",
     "text": [
      "\u001b[32m[I 2021-11-25 04:45:23,983]\u001b[0m Trial 125 finished with value: 0.9977127639981318 and parameters: {'n_estimators': 9741, 'depth': 3, 'learning_rate': 0.15319337240392586, 'reg_alpha': 5.126019070960772, 'reg_lambda': 0.012204521452913428, 'subsample': 0.5265045949494083, 'min_child_weight': 2.7279801515961877, 'colsample_bytree': 0.9717312576437567, 'gamma': 4.61607072770659}. Best is trial 99 with value: 0.9977600209643013.\u001b[0m\n"
     ]
    },
    {
     "name": "stdout",
     "output_type": "stream",
     "text": [
      "Valid AUC score for xgboost model is 0.9977127639981318\n",
      "FOLD 0\n",
      "---------------------------------------------------\n",
      "Fold 0 ROC AUC is: 0.9976929524161023\n",
      "FOLD 1\n",
      "---------------------------------------------------\n",
      "Fold 1 ROC AUC is: 0.997559760322848\n",
      "FOLD 2\n",
      "---------------------------------------------------\n",
      "Fold 2 ROC AUC is: 0.9977261259161052\n",
      "FOLD 3\n",
      "---------------------------------------------------\n",
      "Fold 3 ROC AUC is: 0.9977480046473747\n",
      "FOLD 4\n",
      "---------------------------------------------------\n",
      "Fold 4 ROC AUC is: 0.997812899728467\n"
     ]
    },
    {
     "name": "stderr",
     "output_type": "stream",
     "text": [
      "\u001b[32m[I 2021-11-25 04:49:10,628]\u001b[0m Trial 126 finished with value: 0.9977076486407952 and parameters: {'n_estimators': 9781, 'depth': 3, 'learning_rate': 0.16187347317368897, 'reg_alpha': 4.05937993813857, 'reg_lambda': 0.015984479715338278, 'subsample': 0.5341716383523902, 'min_child_weight': 2.515011730948016, 'colsample_bytree': 0.9082727761978778, 'gamma': 4.671951559383611}. Best is trial 99 with value: 0.9977600209643013.\u001b[0m\n"
     ]
    },
    {
     "name": "stdout",
     "output_type": "stream",
     "text": [
      "Valid AUC score for xgboost model is 0.9977076486407952\n",
      "FOLD 0\n",
      "---------------------------------------------------\n",
      "Fold 0 ROC AUC is: 0.9976753932456225\n",
      "FOLD 1\n",
      "---------------------------------------------------\n",
      "Fold 1 ROC AUC is: 0.997566803927274\n",
      "FOLD 2\n",
      "---------------------------------------------------\n",
      "Fold 2 ROC AUC is: 0.9977553649581217\n",
      "FOLD 3\n",
      "---------------------------------------------------\n",
      "Fold 3 ROC AUC is: 0.9977527036416878\n",
      "FOLD 4\n",
      "---------------------------------------------------\n",
      "Fold 4 ROC AUC is: 0.9978420026114644\n"
     ]
    },
    {
     "name": "stderr",
     "output_type": "stream",
     "text": [
      "\u001b[32m[I 2021-11-25 04:52:59,427]\u001b[0m Trial 127 finished with value: 0.9977182643754909 and parameters: {'n_estimators': 9707, 'depth': 3, 'learning_rate': 0.15309111857824081, 'reg_alpha': 4.173539499612781, 'reg_lambda': 0.021209765309820973, 'subsample': 0.5464614071748052, 'min_child_weight': 2.733641199527681, 'colsample_bytree': 0.905146898232811, 'gamma': 4.591437059166904}. Best is trial 99 with value: 0.9977600209643013.\u001b[0m\n"
     ]
    },
    {
     "name": "stdout",
     "output_type": "stream",
     "text": [
      "Valid AUC score for xgboost model is 0.9977182643754909\n",
      "FOLD 0\n",
      "---------------------------------------------------\n",
      "Fold 0 ROC AUC is: 0.9968021136839099\n",
      "FOLD 1\n",
      "---------------------------------------------------\n",
      "Fold 1 ROC AUC is: 0.996625191485355\n",
      "FOLD 2\n",
      "---------------------------------------------------\n",
      "Fold 2 ROC AUC is: 0.996832175932478\n",
      "FOLD 3\n",
      "---------------------------------------------------\n",
      "Fold 3 ROC AUC is: 0.9968459966289104\n",
      "FOLD 4\n",
      "---------------------------------------------------\n",
      "Fold 4 ROC AUC is: 0.996981569379756\n"
     ]
    },
    {
     "name": "stderr",
     "output_type": "stream",
     "text": [
      "\u001b[32m[I 2021-11-25 04:57:56,955]\u001b[0m Trial 128 finished with value: 0.9968168311563862 and parameters: {'n_estimators': 9705, 'depth': 9, 'learning_rate': 0.10985723976313307, 'reg_alpha': 3.719372092778019, 'reg_lambda': 0.03633921296613937, 'subsample': 0.5467190930789486, 'min_child_weight': 2.624951733853858, 'colsample_bytree': 0.8759477404877831, 'gamma': 5.73125207482529}. Best is trial 99 with value: 0.9977600209643013.\u001b[0m\n"
     ]
    },
    {
     "name": "stdout",
     "output_type": "stream",
     "text": [
      "Valid AUC score for xgboost model is 0.9968168311563862\n",
      "FOLD 0\n",
      "---------------------------------------------------\n",
      "Fold 0 ROC AUC is: 0.997645873345829\n",
      "FOLD 1\n",
      "---------------------------------------------------\n",
      "Fold 1 ROC AUC is: 0.9974868422743508\n",
      "FOLD 2\n",
      "---------------------------------------------------\n",
      "Fold 2 ROC AUC is: 0.9976754357745817\n",
      "FOLD 3\n",
      "---------------------------------------------------\n",
      "Fold 3 ROC AUC is: 0.9976922746776702\n",
      "FOLD 4\n",
      "---------------------------------------------------\n",
      "Fold 4 ROC AUC is: 0.9977575382844035\n"
     ]
    },
    {
     "name": "stderr",
     "output_type": "stream",
     "text": [
      "\u001b[32m[I 2021-11-25 05:01:31,471]\u001b[0m Trial 129 finished with value: 0.9976517400423581 and parameters: {'n_estimators': 9668, 'depth': 3, 'learning_rate': 0.19299052414296217, 'reg_alpha': 2.8752192870311952, 'reg_lambda': 0.021918216116863416, 'subsample': 0.534610572427, 'min_child_weight': 2.7864159737512817, 'colsample_bytree': 0.9037922210467487, 'gamma': 5.249519922318674}. Best is trial 99 with value: 0.9977600209643013.\u001b[0m\n"
     ]
    },
    {
     "name": "stdout",
     "output_type": "stream",
     "text": [
      "Valid AUC score for xgboost model is 0.9976517400423581\n",
      "FOLD 0\n",
      "---------------------------------------------------\n",
      "Fold 0 ROC AUC is: 0.9975954045569277\n",
      "FOLD 1\n",
      "---------------------------------------------------\n",
      "Fold 1 ROC AUC is: 0.997426018436457\n",
      "FOLD 2\n",
      "---------------------------------------------------\n",
      "Fold 2 ROC AUC is: 0.9976221713788179\n",
      "FOLD 3\n",
      "---------------------------------------------------\n",
      "Fold 3 ROC AUC is: 0.9976145713605158\n",
      "FOLD 4\n",
      "---------------------------------------------------\n",
      "Fold 4 ROC AUC is: 0.9977423544857157\n"
     ]
    },
    {
     "name": "stderr",
     "output_type": "stream",
     "text": [
      "\u001b[32m[I 2021-11-25 05:06:43,458]\u001b[0m Trial 130 finished with value: 0.9976000453507556 and parameters: {'n_estimators': 9983, 'depth': 4, 'learning_rate': 0.05867719258234053, 'reg_alpha': 3.9700875584654045, 'reg_lambda': 0.01745840350970001, 'subsample': 0.5588107698344185, 'min_child_weight': 2.457588055363731, 'colsample_bytree': 0.9116758512286683, 'gamma': 5.098420237956661}. Best is trial 99 with value: 0.9977600209643013.\u001b[0m\n"
     ]
    },
    {
     "name": "stdout",
     "output_type": "stream",
     "text": [
      "Valid AUC score for xgboost model is 0.9976000453507556\n",
      "FOLD 0\n",
      "---------------------------------------------------\n",
      "Fold 0 ROC AUC is: 0.9977242315123308\n",
      "FOLD 1\n",
      "---------------------------------------------------\n",
      "Fold 1 ROC AUC is: 0.9975565506476798\n",
      "FOLD 2\n",
      "---------------------------------------------------\n",
      "Fold 2 ROC AUC is: 0.9977238849265457\n",
      "FOLD 3\n",
      "---------------------------------------------------\n",
      "Fold 3 ROC AUC is: 0.9977291304207268\n",
      "FOLD 4\n",
      "---------------------------------------------------\n",
      "Fold 4 ROC AUC is: 0.9978200409664848\n"
     ]
    },
    {
     "name": "stderr",
     "output_type": "stream",
     "text": [
      "\u001b[32m[I 2021-11-25 05:10:34,772]\u001b[0m Trial 131 finished with value: 0.997710618520476 and parameters: {'n_estimators': 9843, 'depth': 3, 'learning_rate': 0.14274349204278897, 'reg_alpha': 6.163657001847162, 'reg_lambda': 0.02594631217851803, 'subsample': 0.524608612621606, 'min_child_weight': 5.26084185330274, 'colsample_bytree': 0.9264802197205441, 'gamma': 4.684387998151364}. Best is trial 99 with value: 0.9977600209643013.\u001b[0m\n"
     ]
    },
    {
     "name": "stdout",
     "output_type": "stream",
     "text": [
      "Valid AUC score for xgboost model is 0.997710618520476\n",
      "FOLD 0\n",
      "---------------------------------------------------\n",
      "Fold 0 ROC AUC is: 0.9977422393751711\n",
      "FOLD 1\n",
      "---------------------------------------------------\n",
      "Fold 1 ROC AUC is: 0.9975142723409867\n",
      "FOLD 2\n",
      "---------------------------------------------------\n",
      "Fold 2 ROC AUC is: 0.9977237541500383\n",
      "FOLD 3\n",
      "---------------------------------------------------\n",
      "Fold 3 ROC AUC is: 0.9977300671896839\n",
      "FOLD 4\n",
      "---------------------------------------------------\n",
      "Fold 4 ROC AUC is: 0.9978434207424647\n"
     ]
    },
    {
     "name": "stderr",
     "output_type": "stream",
     "text": [
      "\u001b[32m[I 2021-11-25 05:14:19,829]\u001b[0m Trial 132 finished with value: 0.9977102715577318 and parameters: {'n_estimators': 9540, 'depth': 3, 'learning_rate': 0.14823124012941716, 'reg_alpha': 6.494524157246812, 'reg_lambda': 0.0779028338630409, 'subsample': 0.5276456287231374, 'min_child_weight': 5.263926147951557, 'colsample_bytree': 0.8862673014231162, 'gamma': 4.560315172944802}. Best is trial 99 with value: 0.9977600209643013.\u001b[0m\n"
     ]
    },
    {
     "name": "stdout",
     "output_type": "stream",
     "text": [
      "Valid AUC score for xgboost model is 0.9977102715577318\n",
      "FOLD 0\n",
      "---------------------------------------------------\n",
      "Fold 0 ROC AUC is: 0.9977285968485073\n",
      "FOLD 1\n",
      "---------------------------------------------------\n",
      "Fold 1 ROC AUC is: 0.9975509953283874\n",
      "FOLD 2\n",
      "---------------------------------------------------\n",
      "Fold 2 ROC AUC is: 0.9977527964019018\n",
      "FOLD 3\n",
      "---------------------------------------------------\n",
      "Fold 3 ROC AUC is: 0.9977875690981769\n",
      "FOLD 4\n",
      "---------------------------------------------------\n",
      "Fold 4 ROC AUC is: 0.9978720639314544\n"
     ]
    },
    {
     "name": "stderr",
     "output_type": "stream",
     "text": [
      "\u001b[32m[I 2021-11-25 05:18:17,102]\u001b[0m Trial 133 finished with value: 0.9977382563372389 and parameters: {'n_estimators': 9524, 'depth': 3, 'learning_rate': 0.1161943512152626, 'reg_alpha': 6.378030001330885, 'reg_lambda': 0.06793770135059471, 'subsample': 0.5269876045024883, 'min_child_weight': 5.347615158233665, 'colsample_bytree': 0.885522379149203, 'gamma': 4.515672490436177}. Best is trial 99 with value: 0.9977600209643013.\u001b[0m\n"
     ]
    },
    {
     "name": "stdout",
     "output_type": "stream",
     "text": [
      "Valid AUC score for xgboost model is 0.9977382563372389\n",
      "FOLD 0\n",
      "---------------------------------------------------\n",
      "Fold 0 ROC AUC is: 0.9977442261832774\n",
      "FOLD 1\n",
      "---------------------------------------------------\n",
      "Fold 1 ROC AUC is: 0.9975541038107306\n",
      "FOLD 2\n",
      "---------------------------------------------------\n",
      "Fold 2 ROC AUC is: 0.9977654083437046\n",
      "FOLD 3\n",
      "---------------------------------------------------\n",
      "Fold 3 ROC AUC is: 0.9977801887764571\n",
      "FOLD 4\n",
      "---------------------------------------------------\n",
      "Fold 4 ROC AUC is: 0.9978844503781547\n"
     ]
    },
    {
     "name": "stderr",
     "output_type": "stream",
     "text": [
      "\u001b[32m[I 2021-11-25 05:22:17,221]\u001b[0m Trial 134 finished with value: 0.9977457489402759 and parameters: {'n_estimators': 9562, 'depth': 3, 'learning_rate': 0.11203718090540463, 'reg_alpha': 5.641998368969746, 'reg_lambda': 0.07050327854428853, 'subsample': 0.5242433682788568, 'min_child_weight': 5.578625480038014, 'colsample_bytree': 0.8849529735701309, 'gamma': 4.535238750064299}. Best is trial 99 with value: 0.9977600209643013.\u001b[0m\n"
     ]
    },
    {
     "name": "stdout",
     "output_type": "stream",
     "text": [
      "Valid AUC score for xgboost model is 0.9977457489402759\n",
      "FOLD 0\n",
      "---------------------------------------------------\n",
      "Fold 0 ROC AUC is: 0.997582863542913\n",
      "FOLD 1\n",
      "---------------------------------------------------\n",
      "Fold 1 ROC AUC is: 0.9974133377800722\n",
      "FOLD 2\n",
      "---------------------------------------------------\n",
      "Fold 2 ROC AUC is: 0.9976376377506715\n",
      "FOLD 3\n",
      "---------------------------------------------------\n",
      "Fold 3 ROC AUC is: 0.9976464914152631\n",
      "FOLD 4\n",
      "---------------------------------------------------\n",
      "Fold 4 ROC AUC is: 0.997767123071222\n"
     ]
    },
    {
     "name": "stderr",
     "output_type": "stream",
     "text": [
      "\u001b[32m[I 2021-11-25 05:26:12,049]\u001b[0m Trial 135 finished with value: 0.9976091380105062 and parameters: {'n_estimators': 9142, 'depth': 3, 'learning_rate': 0.09093349466814518, 'reg_alpha': 10.776551132980085, 'reg_lambda': 0.12706678736940294, 'subsample': 0.544504102449059, 'min_child_weight': 5.545992078854531, 'colsample_bytree': 0.8657702189535225, 'gamma': 4.928757893367304}. Best is trial 99 with value: 0.9977600209643013.\u001b[0m\n"
     ]
    },
    {
     "name": "stdout",
     "output_type": "stream",
     "text": [
      "Valid AUC score for xgboost model is 0.9976091380105062\n",
      "FOLD 0\n",
      "---------------------------------------------------\n",
      "Fold 0 ROC AUC is: 0.9966288557630087\n",
      "FOLD 1\n",
      "---------------------------------------------------\n",
      "Fold 1 ROC AUC is: 0.9964964993711345\n",
      "FOLD 2\n",
      "---------------------------------------------------\n",
      "Fold 2 ROC AUC is: 0.9967258579676892\n",
      "FOLD 3\n",
      "---------------------------------------------------\n",
      "Fold 3 ROC AUC is: 0.996715058566545\n",
      "FOLD 4\n",
      "---------------------------------------------------\n",
      "Fold 4 ROC AUC is: 0.9968619997443746\n"
     ]
    },
    {
     "name": "stderr",
     "output_type": "stream",
     "text": [
      "\u001b[32m[I 2021-11-25 05:31:47,151]\u001b[0m Trial 136 finished with value: 0.9966854501060074 and parameters: {'n_estimators': 9533, 'depth': 10, 'learning_rate': 0.11485463135765524, 'reg_alpha': 5.988724734669118, 'reg_lambda': 0.06059681926826768, 'subsample': 0.5652034438061379, 'min_child_weight': 5.050693738907961, 'colsample_bytree': 0.8470463925046791, 'gamma': 4.475190166140377}. Best is trial 99 with value: 0.9977600209643013.\u001b[0m\n"
     ]
    },
    {
     "name": "stdout",
     "output_type": "stream",
     "text": [
      "Valid AUC score for xgboost model is 0.9966854501060074\n",
      "FOLD 0\n",
      "---------------------------------------------------\n",
      "Fold 0 ROC AUC is: 0.9974011389680812\n",
      "FOLD 1\n",
      "---------------------------------------------------\n",
      "Fold 1 ROC AUC is: 0.997203396445431\n",
      "FOLD 2\n",
      "---------------------------------------------------\n",
      "Fold 2 ROC AUC is: 0.9975117347184264\n",
      "FOLD 3\n",
      "---------------------------------------------------\n",
      "Fold 3 ROC AUC is: 0.9974840216264094\n",
      "FOLD 4\n",
      "---------------------------------------------------\n",
      "Fold 4 ROC AUC is: 0.9975648028169125\n"
     ]
    },
    {
     "name": "stderr",
     "output_type": "stream",
     "text": [
      "\u001b[32m[I 2021-11-25 05:35:29,820]\u001b[0m Trial 137 finished with value: 0.9974328711024636 and parameters: {'n_estimators': 9260, 'depth': 3, 'learning_rate': 0.10370581330125771, 'reg_alpha': 16.652847285626137, 'reg_lambda': 0.07041921122072306, 'subsample': 0.5238071987934106, 'min_child_weight': 5.497304287829819, 'colsample_bytree': 0.9251670959677172, 'gamma': 5.453123976307555}. Best is trial 99 with value: 0.9977600209643013.\u001b[0m\n"
     ]
    },
    {
     "name": "stdout",
     "output_type": "stream",
     "text": [
      "Valid AUC score for xgboost model is 0.9974328711024636\n",
      "FOLD 0\n",
      "---------------------------------------------------\n",
      "Fold 0 ROC AUC is: 0.9977518932782599\n",
      "FOLD 1\n",
      "---------------------------------------------------\n",
      "Fold 1 ROC AUC is: 0.9975486117369541\n",
      "FOLD 2\n",
      "---------------------------------------------------\n",
      "Fold 2 ROC AUC is: 0.9977218646310274\n",
      "FOLD 3\n",
      "---------------------------------------------------\n",
      "Fold 3 ROC AUC is: 0.9977782015475923\n",
      "FOLD 4\n",
      "---------------------------------------------------\n",
      "Fold 4 ROC AUC is: 0.9978932748911167\n"
     ]
    },
    {
     "name": "stderr",
     "output_type": "stream",
     "text": [
      "\u001b[32m[I 2021-11-25 05:39:15,038]\u001b[0m Trial 138 finished with value: 0.9977387772427568 and parameters: {'n_estimators': 8764, 'depth': 3, 'learning_rate': 0.12295333474111214, 'reg_alpha': 3.1328737688036714, 'reg_lambda': 0.04374141704441168, 'subsample': 0.5535937091540263, 'min_child_weight': 5.7079505220834195, 'colsample_bytree': 0.8935332748973641, 'gamma': 4.294466577660775}. Best is trial 99 with value: 0.9977600209643013.\u001b[0m\n"
     ]
    },
    {
     "name": "stdout",
     "output_type": "stream",
     "text": [
      "Valid AUC score for xgboost model is 0.9977387772427568\n",
      "FOLD 0\n",
      "---------------------------------------------------\n",
      "Fold 0 ROC AUC is: 0.9976951718383342\n",
      "FOLD 1\n",
      "---------------------------------------------------\n",
      "Fold 1 ROC AUC is: 0.9975082446958436\n",
      "FOLD 2\n",
      "---------------------------------------------------\n",
      "Fold 2 ROC AUC is: 0.9976912665417608\n",
      "FOLD 3\n",
      "---------------------------------------------------\n",
      "Fold 3 ROC AUC is: 0.9976937247237428\n",
      "FOLD 4\n",
      "---------------------------------------------------\n",
      "Fold 4 ROC AUC is: 0.9977997956699602\n"
     ]
    },
    {
     "name": "stderr",
     "output_type": "stream",
     "text": [
      "\u001b[32m[I 2021-11-25 05:43:07,458]\u001b[0m Trial 139 finished with value: 0.9976772627338956 and parameters: {'n_estimators': 8645, 'depth': 3, 'learning_rate': 0.08539413436948139, 'reg_alpha': 3.22896062507674, 'reg_lambda': 0.1873025448650569, 'subsample': 0.5537231724290635, 'min_child_weight': 3.6229228750841833, 'colsample_bytree': 0.8944025212706888, 'gamma': 4.2179648204252}. Best is trial 99 with value: 0.9977600209643013.\u001b[0m\n"
     ]
    },
    {
     "name": "stdout",
     "output_type": "stream",
     "text": [
      "Valid AUC score for xgboost model is 0.9976772627338956\n",
      "FOLD 0\n",
      "---------------------------------------------------\n",
      "Fold 0 ROC AUC is: 0.9977556117693019\n",
      "FOLD 1\n",
      "---------------------------------------------------\n",
      "Fold 1 ROC AUC is: 0.9975547022106095\n",
      "FOLD 2\n",
      "---------------------------------------------------\n",
      "Fold 2 ROC AUC is: 0.9977665084784866\n",
      "FOLD 3\n",
      "---------------------------------------------------\n",
      "Fold 3 ROC AUC is: 0.9977581891605604\n",
      "FOLD 4\n",
      "---------------------------------------------------\n",
      "Fold 4 ROC AUC is: 0.9978903737327736\n"
     ]
    },
    {
     "name": "stderr",
     "output_type": "stream",
     "text": [
      "\u001b[32m[I 2021-11-25 05:47:04,513]\u001b[0m Trial 140 finished with value: 0.9977450553538898 and parameters: {'n_estimators': 9381, 'depth': 3, 'learning_rate': 0.12324981260596661, 'reg_alpha': 2.735983620669504, 'reg_lambda': 0.04298976397064159, 'subsample': 0.5349226043354015, 'min_child_weight': 6.297437023986731, 'colsample_bytree': 0.8776711521082783, 'gamma': 4.317638391497884}. Best is trial 99 with value: 0.9977600209643013.\u001b[0m\n"
     ]
    },
    {
     "name": "stdout",
     "output_type": "stream",
     "text": [
      "Valid AUC score for xgboost model is 0.9977450553538898\n",
      "FOLD 0\n",
      "---------------------------------------------------\n",
      "Fold 0 ROC AUC is: 0.9977443451305246\n",
      "FOLD 1\n",
      "---------------------------------------------------\n",
      "Fold 1 ROC AUC is: 0.997578532425896\n",
      "FOLD 2\n",
      "---------------------------------------------------\n",
      "Fold 2 ROC AUC is: 0.9977531810877377\n",
      "FOLD 3\n",
      "---------------------------------------------------\n",
      "Fold 3 ROC AUC is: 0.9977628709205483\n",
      "FOLD 4\n",
      "---------------------------------------------------\n",
      "Fold 4 ROC AUC is: 0.9978632370560986\n"
     ]
    },
    {
     "name": "stderr",
     "output_type": "stream",
     "text": [
      "\u001b[32m[I 2021-11-25 05:51:02,849]\u001b[0m Trial 141 finished with value: 0.9977400909248464 and parameters: {'n_estimators': 9396, 'depth': 3, 'learning_rate': 0.12283040634591585, 'reg_alpha': 2.23380682291239, 'reg_lambda': 0.03791055281162105, 'subsample': 0.5393383230696744, 'min_child_weight': 6.159148921515309, 'colsample_bytree': 0.8796925901147845, 'gamma': 4.278944456426485}. Best is trial 99 with value: 0.9977600209643013.\u001b[0m\n"
     ]
    },
    {
     "name": "stdout",
     "output_type": "stream",
     "text": [
      "Valid AUC score for xgboost model is 0.9977400909248464\n",
      "FOLD 0\n",
      "---------------------------------------------------\n",
      "Fold 0 ROC AUC is: 0.9977338925022295\n",
      "FOLD 1\n",
      "---------------------------------------------------\n",
      "Fold 1 ROC AUC is: 0.9976046029224475\n",
      "FOLD 2\n",
      "---------------------------------------------------\n",
      "Fold 2 ROC AUC is: 0.9977268064820513\n",
      "FOLD 3\n",
      "---------------------------------------------------\n",
      "Fold 3 ROC AUC is: 0.9977832056172556\n",
      "FOLD 4\n",
      "---------------------------------------------------\n",
      "Fold 4 ROC AUC is: 0.9978897854967594\n"
     ]
    },
    {
     "name": "stderr",
     "output_type": "stream",
     "text": [
      "\u001b[32m[I 2021-11-25 05:55:03,947]\u001b[0m Trial 142 finished with value: 0.9977470236033714 and parameters: {'n_estimators': 9407, 'depth': 3, 'learning_rate': 0.11671771542451057, 'reg_alpha': 2.420258169801282, 'reg_lambda': 0.042311675405290836, 'subsample': 0.544996027519262, 'min_child_weight': 6.163157898390562, 'colsample_bytree': 0.879524065357897, 'gamma': 4.295308430788478}. Best is trial 99 with value: 0.9977600209643013.\u001b[0m\n"
     ]
    },
    {
     "name": "stdout",
     "output_type": "stream",
     "text": [
      "Valid AUC score for xgboost model is 0.9977470236033714\n",
      "FOLD 0\n",
      "---------------------------------------------------\n",
      "Fold 0 ROC AUC is: 0.9976999337579724\n",
      "FOLD 1\n",
      "---------------------------------------------------\n",
      "Fold 1 ROC AUC is: 0.99757504460946\n",
      "FOLD 2\n",
      "---------------------------------------------------\n",
      "Fold 2 ROC AUC is: 0.9977656650325555\n",
      "FOLD 3\n",
      "---------------------------------------------------\n",
      "Fold 3 ROC AUC is: 0.9977371072724711\n",
      "FOLD 4\n",
      "---------------------------------------------------\n",
      "Fold 4 ROC AUC is: 0.9978463414947787\n"
     ]
    },
    {
     "name": "stderr",
     "output_type": "stream",
     "text": [
      "\u001b[32m[I 2021-11-25 05:58:55,540]\u001b[0m Trial 143 finished with value: 0.9977244276699397 and parameters: {'n_estimators': 9106, 'depth': 3, 'learning_rate': 0.12579189261434226, 'reg_alpha': 2.390968499656947, 'reg_lambda': 0.041720184360188255, 'subsample': 0.5823067833561215, 'min_child_weight': 6.256932970338298, 'colsample_bytree': 0.8774493524714385, 'gamma': 4.322567345723252}. Best is trial 99 with value: 0.9977600209643013.\u001b[0m\n"
     ]
    },
    {
     "name": "stdout",
     "output_type": "stream",
     "text": [
      "Valid AUC score for xgboost model is 0.9977244276699397\n",
      "FOLD 0\n",
      "---------------------------------------------------\n",
      "Fold 0 ROC AUC is: 0.9977010274890259\n",
      "FOLD 1\n",
      "---------------------------------------------------\n",
      "Fold 1 ROC AUC is: 0.9975235035452484\n",
      "FOLD 2\n",
      "---------------------------------------------------\n",
      "Fold 2 ROC AUC is: 0.9977090450589358\n",
      "FOLD 3\n",
      "---------------------------------------------------\n",
      "Fold 3 ROC AUC is: 0.9977380771202132\n",
      "FOLD 4\n",
      "---------------------------------------------------\n",
      "Fold 4 ROC AUC is: 0.9978230399557171\n"
     ]
    },
    {
     "name": "stderr",
     "output_type": "stream",
     "text": [
      "\u001b[32m[I 2021-11-25 06:02:44,841]\u001b[0m Trial 144 finished with value: 0.9976988088623733 and parameters: {'n_estimators': 8858, 'depth': 3, 'learning_rate': 0.12103976432128692, 'reg_alpha': 1.509386311978331, 'reg_lambda': 0.05098210615821863, 'subsample': 0.5658909504276245, 'min_child_weight': 6.208680572725056, 'colsample_bytree': 0.8784247390171912, 'gamma': 4.336209880504747}. Best is trial 99 with value: 0.9977600209643013.\u001b[0m\n"
     ]
    },
    {
     "name": "stdout",
     "output_type": "stream",
     "text": [
      "Valid AUC score for xgboost model is 0.9976988088623733\n",
      "FOLD 0\n",
      "---------------------------------------------------\n",
      "Fold 0 ROC AUC is: 0.996951254077765\n",
      "FOLD 1\n",
      "---------------------------------------------------\n",
      "Fold 1 ROC AUC is: 0.9968265814702775\n",
      "FOLD 2\n",
      "---------------------------------------------------\n",
      "Fold 2 ROC AUC is: 0.9970042760090397\n",
      "FOLD 3\n",
      "---------------------------------------------------\n",
      "Fold 3 ROC AUC is: 0.9969786176787093\n",
      "FOLD 4\n",
      "---------------------------------------------------\n",
      "Fold 4 ROC AUC is: 0.9971122354559513\n"
     ]
    },
    {
     "name": "stderr",
     "output_type": "stream",
     "text": [
      "\u001b[32m[I 2021-11-25 06:07:47,392]\u001b[0m Trial 145 finished with value: 0.9969746552440261 and parameters: {'n_estimators': 9217, 'depth': 8, 'learning_rate': 0.10185108060541541, 'reg_alpha': 2.4507948965692283, 'reg_lambda': 0.039105489051371664, 'subsample': 0.579332595523774, 'min_child_weight': 6.477784471123017, 'colsample_bytree': 0.8499038755488427, 'gamma': 3.9299579289308317}. Best is trial 99 with value: 0.9977600209643013.\u001b[0m\n"
     ]
    },
    {
     "name": "stdout",
     "output_type": "stream",
     "text": [
      "Valid AUC score for xgboost model is 0.9969746552440261\n",
      "FOLD 0\n",
      "---------------------------------------------------\n",
      "Fold 0 ROC AUC is: 0.9976419562851419\n",
      "FOLD 1\n",
      "---------------------------------------------------\n",
      "Fold 1 ROC AUC is: 0.9974557074105097\n",
      "FOLD 2\n",
      "---------------------------------------------------\n",
      "Fold 2 ROC AUC is: 0.9976278214520307\n",
      "FOLD 3\n",
      "---------------------------------------------------\n",
      "Fold 3 ROC AUC is: 0.9976559099738904\n",
      "FOLD 4\n",
      "---------------------------------------------------\n",
      "Fold 4 ROC AUC is: 0.9977543669794005\n"
     ]
    },
    {
     "name": "stderr",
     "output_type": "stream",
     "text": [
      "\u001b[32m[I 2021-11-25 06:10:41,955]\u001b[0m Trial 146 finished with value: 0.997626921794038 and parameters: {'n_estimators': 6423, 'depth': 3, 'learning_rate': 0.12669735857391295, 'reg_alpha': 1.858452011614088, 'reg_lambda': 0.04275498501113619, 'subsample': 0.5376191013070369, 'min_child_weight': 6.726333623286882, 'colsample_bytree': 0.8616239110764333, 'gamma': 4.275906193148837}. Best is trial 99 with value: 0.9977600209643013.\u001b[0m\n"
     ]
    },
    {
     "name": "stdout",
     "output_type": "stream",
     "text": [
      "Valid AUC score for xgboost model is 0.997626921794038\n",
      "FOLD 0\n",
      "---------------------------------------------------\n",
      "Fold 0 ROC AUC is: 0.99767748649484\n",
      "FOLD 1\n",
      "---------------------------------------------------\n",
      "Fold 1 ROC AUC is: 0.9974677640908074\n",
      "FOLD 2\n",
      "---------------------------------------------------\n",
      "Fold 2 ROC AUC is: 0.9976649739319714\n",
      "FOLD 3\n",
      "---------------------------------------------------\n",
      "Fold 3 ROC AUC is: 0.9976942844223469\n",
      "FOLD 4\n",
      "---------------------------------------------------\n",
      "Fold 4 ROC AUC is: 0.9977632556938836\n"
     ]
    },
    {
     "name": "stderr",
     "output_type": "stream",
     "text": [
      "\u001b[32m[I 2021-11-25 06:14:47,122]\u001b[0m Trial 147 finished with value: 0.9976530518899602 and parameters: {'n_estimators': 9111, 'depth': 3, 'learning_rate': 0.07346376983371287, 'reg_alpha': 1.1148268841378517, 'reg_lambda': 0.11573777073938236, 'subsample': 0.5844188141770247, 'min_child_weight': 6.100065179365182, 'colsample_bytree': 0.883184431080773, 'gamma': 4.991468118251775}. Best is trial 99 with value: 0.9977600209643013.\u001b[0m\n"
     ]
    },
    {
     "name": "stdout",
     "output_type": "stream",
     "text": [
      "Valid AUC score for xgboost model is 0.9976530518899602\n",
      "FOLD 0\n",
      "---------------------------------------------------\n",
      "Fold 0 ROC AUC is: 0.9977664438893392\n",
      "FOLD 1\n",
      "---------------------------------------------------\n",
      "Fold 1 ROC AUC is: 0.9975399533563627\n",
      "FOLD 2\n",
      "---------------------------------------------------\n",
      "Fold 2 ROC AUC is: 0.9977909595160181\n",
      "FOLD 3\n",
      "---------------------------------------------------\n",
      "Fold 3 ROC AUC is: 0.997768327669217\n",
      "FOLD 4\n",
      "---------------------------------------------------\n",
      "Fold 4 ROC AUC is: 0.9978605753332982\n"
     ]
    },
    {
     "name": "stderr",
     "output_type": "stream",
     "text": [
      "\u001b[32m[I 2021-11-25 06:18:57,634]\u001b[0m Trial 148 finished with value: 0.9977451134015228 and parameters: {'n_estimators': 9474, 'depth': 3, 'learning_rate': 0.09614960481483685, 'reg_alpha': 2.2653217358104367, 'reg_lambda': 0.0647854391012225, 'subsample': 0.555523458358526, 'min_child_weight': 5.716136527561232, 'colsample_bytree': 0.8327219990950239, 'gamma': 4.046415367937113}. Best is trial 99 with value: 0.9977600209643013.\u001b[0m\n"
     ]
    },
    {
     "name": "stdout",
     "output_type": "stream",
     "text": [
      "Valid AUC score for xgboost model is 0.9977451134015228\n",
      "FOLD 0\n",
      "---------------------------------------------------\n",
      "Fold 0 ROC AUC is: 0.9976712903993405\n",
      "FOLD 1\n",
      "---------------------------------------------------\n",
      "Fold 1 ROC AUC is: 0.9974890250091464\n",
      "FOLD 2\n",
      "---------------------------------------------------\n",
      "Fold 2 ROC AUC is: 0.997707042413382\n",
      "FOLD 3\n",
      "---------------------------------------------------\n",
      "Fold 3 ROC AUC is: 0.9977061565095198\n",
      "FOLD 4\n",
      "---------------------------------------------------\n",
      "Fold 4 ROC AUC is: 0.9977624201013598\n"
     ]
    },
    {
     "name": "stderr",
     "output_type": "stream",
     "text": [
      "\u001b[32m[I 2021-11-25 06:22:52,244]\u001b[0m Trial 149 finished with value: 0.997667031263191 and parameters: {'n_estimators': 8732, 'depth': 3, 'learning_rate': 0.08642663132279065, 'reg_alpha': 1.3175884612225195, 'reg_lambda': 0.08442895075434645, 'subsample': 0.5703749572624245, 'min_child_weight': 6.393097522725384, 'colsample_bytree': 0.8273857920539636, 'gamma': 4.069865358131979}. Best is trial 99 with value: 0.9977600209643013.\u001b[0m\n"
     ]
    },
    {
     "name": "stdout",
     "output_type": "stream",
     "text": [
      "Valid AUC score for xgboost model is 0.997667031263191\n",
      "FOLD 0\n",
      "---------------------------------------------------\n",
      "Fold 0 ROC AUC is: 0.9977396657513823\n",
      "FOLD 1\n",
      "---------------------------------------------------\n",
      "Fold 1 ROC AUC is: 0.9975471003776321\n",
      "FOLD 2\n",
      "---------------------------------------------------\n",
      "Fold 2 ROC AUC is: 0.9977533632854007\n",
      "FOLD 3\n",
      "---------------------------------------------------\n",
      "Fold 3 ROC AUC is: 0.9977790785523578\n",
      "FOLD 4\n",
      "---------------------------------------------------\n",
      "Fold 4 ROC AUC is: 0.997870195556021\n"
     ]
    },
    {
     "name": "stderr",
     "output_type": "stream",
     "text": [
      "\u001b[32m[I 2021-11-25 06:27:01,582]\u001b[0m Trial 150 finished with value: 0.9977375364176179 and parameters: {'n_estimators': 9420, 'depth': 3, 'learning_rate': 0.09314663919310834, 'reg_alpha': 2.272563873960862, 'reg_lambda': 0.06832015813591476, 'subsample': 0.5586891144264186, 'min_child_weight': 5.737895443466632, 'colsample_bytree': 0.8693725687465609, 'gamma': 4.339244422527039}. Best is trial 99 with value: 0.9977600209643013.\u001b[0m\n"
     ]
    },
    {
     "name": "stdout",
     "output_type": "stream",
     "text": [
      "Valid AUC score for xgboost model is 0.9977375364176179\n",
      "FOLD 0\n",
      "---------------------------------------------------\n",
      "Fold 0 ROC AUC is: 0.997747583246995\n",
      "FOLD 1\n",
      "---------------------------------------------------\n",
      "Fold 1 ROC AUC is: 0.9975773265910648\n",
      "FOLD 2\n",
      "---------------------------------------------------\n",
      "Fold 2 ROC AUC is: 0.9977343733135902\n",
      "FOLD 3\n",
      "---------------------------------------------------\n",
      "Fold 3 ROC AUC is: 0.997791500748067\n",
      "FOLD 4\n",
      "---------------------------------------------------\n",
      "Fold 4 ROC AUC is: 0.9978876357185554\n"
     ]
    },
    {
     "name": "stderr",
     "output_type": "stream",
     "text": [
      "\u001b[32m[I 2021-11-25 06:31:08,981]\u001b[0m Trial 151 finished with value: 0.997747485827524 and parameters: {'n_estimators': 9405, 'depth': 3, 'learning_rate': 0.09741867547342271, 'reg_alpha': 2.0757426754086388, 'reg_lambda': 0.06522556043593125, 'subsample': 0.5588573167711907, 'min_child_weight': 5.763381418787483, 'colsample_bytree': 0.8667699513508448, 'gamma': 4.372819921722213}. Best is trial 99 with value: 0.9977600209643013.\u001b[0m\n"
     ]
    },
    {
     "name": "stdout",
     "output_type": "stream",
     "text": [
      "Valid AUC score for xgboost model is 0.997747485827524\n",
      "FOLD 0\n",
      "---------------------------------------------------\n",
      "Fold 0 ROC AUC is: 0.9977065385261983\n",
      "FOLD 1\n",
      "---------------------------------------------------\n",
      "Fold 1 ROC AUC is: 0.9975538169123914\n",
      "FOLD 2\n",
      "---------------------------------------------------\n",
      "Fold 2 ROC AUC is: 0.9977253871191751\n",
      "FOLD 3\n",
      "---------------------------------------------------\n",
      "Fold 3 ROC AUC is: 0.9977234914607672\n",
      "FOLD 4\n",
      "---------------------------------------------------\n",
      "Fold 4 ROC AUC is: 0.9978223461068113\n"
     ]
    },
    {
     "name": "stderr",
     "output_type": "stream",
     "text": [
      "\u001b[32m[I 2021-11-25 06:35:08,499]\u001b[0m Trial 152 finished with value: 0.9977059403048443 and parameters: {'n_estimators': 9017, 'depth': 3, 'learning_rate': 0.0952334179492828, 'reg_alpha': 2.33965402897752, 'reg_lambda': 0.047659463862243734, 'subsample': 0.5962132795904965, 'min_child_weight': 5.61289983015929, 'colsample_bytree': 0.8577260447270348, 'gamma': 4.2871622004519265}. Best is trial 99 with value: 0.9977600209643013.\u001b[0m\n"
     ]
    },
    {
     "name": "stdout",
     "output_type": "stream",
     "text": [
      "Valid AUC score for xgboost model is 0.9977059403048443\n",
      "FOLD 0\n",
      "---------------------------------------------------\n",
      "Fold 0 ROC AUC is: 0.9977178171152832\n",
      "FOLD 1\n",
      "---------------------------------------------------\n",
      "Fold 1 ROC AUC is: 0.997564560448983\n",
      "FOLD 2\n",
      "---------------------------------------------------\n",
      "Fold 2 ROC AUC is: 0.9977024391081298\n",
      "FOLD 3\n",
      "---------------------------------------------------\n",
      "Fold 3 ROC AUC is: 0.9977094117121524\n",
      "FOLD 4\n",
      "---------------------------------------------------\n",
      "Fold 4 ROC AUC is: 0.9978733703351323\n"
     ]
    },
    {
     "name": "stderr",
     "output_type": "stream",
     "text": [
      "\u001b[32m[I 2021-11-25 06:39:09,874]\u001b[0m Trial 153 finished with value: 0.9977131501799963 and parameters: {'n_estimators': 9421, 'depth': 3, 'learning_rate': 0.11331292452639323, 'reg_alpha': 1.6956996793958248, 'reg_lambda': 0.07186051482051412, 'subsample': 0.5589891605588153, 'min_child_weight': 5.8643875767952585, 'colsample_bytree': 0.8693123802314016, 'gamma': 4.421392292710895}. Best is trial 99 with value: 0.9977600209643013.\u001b[0m\n"
     ]
    },
    {
     "name": "stdout",
     "output_type": "stream",
     "text": [
      "Valid AUC score for xgboost model is 0.9977131501799963\n",
      "FOLD 0\n",
      "---------------------------------------------------\n",
      "Fold 0 ROC AUC is: 0.9974802879392362\n",
      "FOLD 1\n",
      "---------------------------------------------------\n",
      "Fold 1 ROC AUC is: 0.9973499875965814\n",
      "FOLD 2\n",
      "---------------------------------------------------\n",
      "Fold 2 ROC AUC is: 0.9974957558027279\n",
      "FOLD 3\n",
      "---------------------------------------------------\n",
      "Fold 3 ROC AUC is: 0.9975410237394766\n",
      "FOLD 4\n",
      "---------------------------------------------------\n",
      "Fold 4 ROC AUC is: 0.9976427340138688\n"
     ]
    },
    {
     "name": "stderr",
     "output_type": "stream",
     "text": [
      "\u001b[32m[I 2021-11-25 06:41:45,790]\u001b[0m Trial 154 finished with value: 0.9975019186953871 and parameters: {'n_estimators': 5642, 'depth': 3, 'learning_rate': 0.11306118474505843, 'reg_alpha': 2.0252651574218885, 'reg_lambda': 0.19398960238242455, 'subsample': 0.5748442067031794, 'min_child_weight': 6.042259725994875, 'colsample_bytree': 0.8916600051778251, 'gamma': 4.849933679176755}. Best is trial 99 with value: 0.9977600209643013.\u001b[0m\n"
     ]
    },
    {
     "name": "stdout",
     "output_type": "stream",
     "text": [
      "Valid AUC score for xgboost model is 0.9975019186953871\n",
      "FOLD 0\n",
      "---------------------------------------------------\n",
      "Fold 0 ROC AUC is: 0.99772093044831\n",
      "FOLD 1\n",
      "---------------------------------------------------\n",
      "Fold 1 ROC AUC is: 0.9975556620134346\n",
      "FOLD 2\n",
      "---------------------------------------------------\n",
      "Fold 2 ROC AUC is: 0.9977477310011282\n",
      "FOLD 3\n",
      "---------------------------------------------------\n",
      "Fold 3 ROC AUC is: 0.9977857572702652\n",
      "FOLD 4\n",
      "---------------------------------------------------\n",
      "Fold 4 ROC AUC is: 0.9978369702961374\n"
     ]
    },
    {
     "name": "stderr",
     "output_type": "stream",
     "text": [
      "\u001b[32m[I 2021-11-25 06:45:54,887]\u001b[0m Trial 155 finished with value: 0.9977292322539684 and parameters: {'n_estimators': 9341, 'depth': 3, 'learning_rate': 0.09268295312697586, 'reg_alpha': 2.813301249762605, 'reg_lambda': 0.031190376078916737, 'subsample': 0.5512567617794942, 'min_child_weight': 5.812154513525538, 'colsample_bytree': 0.8340936876615084, 'gamma': 3.9137110562515574}. Best is trial 99 with value: 0.9977600209643013.\u001b[0m\n"
     ]
    },
    {
     "name": "stdout",
     "output_type": "stream",
     "text": [
      "Valid AUC score for xgboost model is 0.9977292322539684\n",
      "FOLD 0\n",
      "---------------------------------------------------\n",
      "Fold 0 ROC AUC is: 0.9976013790159095\n",
      "FOLD 1\n",
      "---------------------------------------------------\n",
      "Fold 1 ROC AUC is: 0.9973944592021562\n",
      "FOLD 2\n",
      "---------------------------------------------------\n",
      "Fold 2 ROC AUC is: 0.9976009269367663\n",
      "FOLD 3\n",
      "---------------------------------------------------\n",
      "Fold 3 ROC AUC is: 0.9976641080921301\n",
      "FOLD 4\n",
      "---------------------------------------------------\n",
      "Fold 4 ROC AUC is: 0.997729518211475\n"
     ]
    },
    {
     "name": "stderr",
     "output_type": "stream",
     "text": [
      "\u001b[32m[I 2021-11-25 06:50:07,006]\u001b[0m Trial 156 finished with value: 0.9975979693612645 and parameters: {'n_estimators': 9379, 'depth': 3, 'learning_rate': 0.06324918928138444, 'reg_alpha': 2.9975977476492504, 'reg_lambda': 0.10316376512263754, 'subsample': 0.5522021238768702, 'min_child_weight': 5.7406623938547865, 'colsample_bytree': 0.8352687565223874, 'gamma': 3.8346428898454175}. Best is trial 99 with value: 0.9977600209643013.\u001b[0m\n"
     ]
    },
    {
     "name": "stdout",
     "output_type": "stream",
     "text": [
      "Valid AUC score for xgboost model is 0.9975979693612645\n",
      "FOLD 0\n",
      "---------------------------------------------------\n",
      "Fold 0 ROC AUC is: 0.9977048803515491\n",
      "FOLD 1\n",
      "---------------------------------------------------\n",
      "Fold 1 ROC AUC is: 0.9975349514005821\n",
      "FOLD 2\n",
      "---------------------------------------------------\n",
      "Fold 2 ROC AUC is: 0.9976855018132681\n",
      "FOLD 3\n",
      "---------------------------------------------------\n",
      "Fold 3 ROC AUC is: 0.9977469195798307\n",
      "FOLD 4\n",
      "---------------------------------------------------\n",
      "Fold 4 ROC AUC is: 0.9978288183705386\n"
     ]
    },
    {
     "name": "stderr",
     "output_type": "stream",
     "text": [
      "\u001b[32m[I 2021-11-25 06:53:54,894]\u001b[0m Trial 157 finished with value: 0.9976999206563292 and parameters: {'n_estimators': 8515, 'depth': 3, 'learning_rate': 0.09571694115292619, 'reg_alpha': 2.8628508680089055, 'reg_lambda': 0.032364392557127815, 'subsample': 0.5429209479986407, 'min_child_weight': 4.880378199730728, 'colsample_bytree': 0.8506470445285393, 'gamma': 4.035758171069473}. Best is trial 99 with value: 0.9977600209643013.\u001b[0m\n"
     ]
    },
    {
     "name": "stdout",
     "output_type": "stream",
     "text": [
      "Valid AUC score for xgboost model is 0.9976999206563292\n",
      "FOLD 0\n",
      "---------------------------------------------------\n",
      "Fold 0 ROC AUC is: 0.9976973520746739\n",
      "FOLD 1\n",
      "---------------------------------------------------\n",
      "Fold 1 ROC AUC is: 0.997484644805435\n",
      "FOLD 2\n",
      "---------------------------------------------------\n",
      "Fold 2 ROC AUC is: 0.9977007053813228\n",
      "FOLD 3\n",
      "---------------------------------------------------\n",
      "Fold 3 ROC AUC is: 0.9977389820612637\n",
      "FOLD 4\n",
      "---------------------------------------------------\n",
      "Fold 4 ROC AUC is: 0.9978226234796165\n"
     ]
    },
    {
     "name": "stderr",
     "output_type": "stream",
     "text": [
      "\u001b[32m[I 2021-11-25 06:58:10,664]\u001b[0m Trial 158 finished with value: 0.9976884969577282 and parameters: {'n_estimators': 9521, 'depth': 3, 'learning_rate': 0.07233000631876721, 'reg_alpha': 1.393717951723878, 'reg_lambda': 0.05932603260140416, 'subsample': 0.5578198086152637, 'min_child_weight': 5.411047237562282, 'colsample_bytree': 0.8387453150416035, 'gamma': 4.48060519867295}. Best is trial 99 with value: 0.9977600209643013.\u001b[0m\n"
     ]
    },
    {
     "name": "stdout",
     "output_type": "stream",
     "text": [
      "Valid AUC score for xgboost model is 0.9976884969577282\n",
      "FOLD 0\n",
      "---------------------------------------------------\n",
      "Fold 0 ROC AUC is: 0.9970837343533466\n",
      "FOLD 1\n",
      "---------------------------------------------------\n",
      "Fold 1 ROC AUC is: 0.9969328285155041\n",
      "FOLD 2\n",
      "---------------------------------------------------\n",
      "Fold 2 ROC AUC is: 0.9970946871867241\n",
      "FOLD 3\n",
      "---------------------------------------------------\n",
      "Fold 3 ROC AUC is: 0.9970889357050989\n",
      "FOLD 4\n",
      "---------------------------------------------------\n",
      "Fold 4 ROC AUC is: 0.9972187817711025\n"
     ]
    },
    {
     "name": "stderr",
     "output_type": "stream",
     "text": [
      "\u001b[32m[I 2021-11-25 07:02:57,728]\u001b[0m Trial 159 finished with value: 0.9970833852040477 and parameters: {'n_estimators': 9232, 'depth': 6, 'learning_rate': 0.09785486581756878, 'reg_alpha': 0.775010392914432, 'reg_lambda': 0.07077260920099987, 'subsample': 0.7260622255550001, 'min_child_weight': 5.750610820058208, 'colsample_bytree': 0.8866993424919496, 'gamma': 3.8140302539228483}. Best is trial 99 with value: 0.9977600209643013.\u001b[0m\n"
     ]
    },
    {
     "name": "stdout",
     "output_type": "stream",
     "text": [
      "Valid AUC score for xgboost model is 0.9970833852040477\n",
      "FOLD 0\n",
      "---------------------------------------------------\n",
      "Fold 0 ROC AUC is: 0.9976473322560475\n",
      "FOLD 1\n",
      "---------------------------------------------------\n",
      "Fold 1 ROC AUC is: 0.9974653985695212\n",
      "FOLD 2\n",
      "---------------------------------------------------\n",
      "Fold 2 ROC AUC is: 0.9976536629454102\n",
      "FOLD 3\n",
      "---------------------------------------------------\n",
      "Fold 3 ROC AUC is: 0.9976715241333782\n",
      "FOLD 4\n",
      "---------------------------------------------------\n",
      "Fold 4 ROC AUC is: 0.9977703442644199\n"
     ]
    },
    {
     "name": "stderr",
     "output_type": "stream",
     "text": [
      "\u001b[32m[I 2021-11-25 07:07:48,866]\u001b[0m Trial 160 finished with value: 0.997641320308759 and parameters: {'n_estimators': 9521, 'depth': 4, 'learning_rate': 0.07793790087094557, 'reg_alpha': 1.8097147506596272, 'reg_lambda': 0.055688096608141446, 'subsample': 0.5380260098480716, 'min_child_weight': 6.537442694046965, 'colsample_bytree': 0.8700102020669225, 'gamma': 4.036296841893585}. Best is trial 99 with value: 0.9977600209643013.\u001b[0m\n"
     ]
    },
    {
     "name": "stdout",
     "output_type": "stream",
     "text": [
      "Valid AUC score for xgboost model is 0.997641320308759\n",
      "FOLD 0\n",
      "---------------------------------------------------\n",
      "Fold 0 ROC AUC is: 0.9977210940007747\n",
      "FOLD 1\n",
      "---------------------------------------------------\n",
      "Fold 1 ROC AUC is: 0.9975647041761548\n",
      "FOLD 2\n",
      "---------------------------------------------------\n",
      "Fold 2 ROC AUC is: 0.9977599444984614\n",
      "FOLD 3\n",
      "---------------------------------------------------\n",
      "Fold 3 ROC AUC is: 0.9977726584883123\n",
      "FOLD 4\n",
      "---------------------------------------------------\n",
      "Fold 4 ROC AUC is: 0.9978377937987644\n"
     ]
    },
    {
     "name": "stderr",
     "output_type": "stream",
     "text": [
      "\u001b[32m[I 2021-11-25 07:11:34,048]\u001b[0m Trial 161 finished with value: 0.9977312380548542 and parameters: {'n_estimators': 8961, 'depth': 3, 'learning_rate': 0.13321107615528946, 'reg_alpha': 2.638698592046861, 'reg_lambda': 0.0429271315964486, 'subsample': 0.5657436427192464, 'min_child_weight': 6.218717150688734, 'colsample_bytree': 0.8169791606344008, 'gamma': 4.226695637140175}. Best is trial 99 with value: 0.9977600209643013.\u001b[0m\n"
     ]
    },
    {
     "name": "stdout",
     "output_type": "stream",
     "text": [
      "Valid AUC score for xgboost model is 0.9977312380548542\n",
      "FOLD 0\n",
      "---------------------------------------------------\n",
      "Fold 0 ROC AUC is: 0.9977179724692811\n",
      "FOLD 1\n",
      "---------------------------------------------------\n",
      "Fold 1 ROC AUC is: 0.9975533908739181\n",
      "FOLD 2\n",
      "---------------------------------------------------\n",
      "Fold 2 ROC AUC is: 0.997741527525098\n",
      "FOLD 3\n",
      "---------------------------------------------------\n",
      "Fold 3 ROC AUC is: 0.997722130227063\n",
      "FOLD 4\n",
      "---------------------------------------------------\n",
      "Fold 4 ROC AUC is: 0.9978600536611988\n"
     ]
    },
    {
     "name": "stderr",
     "output_type": "stream",
     "text": [
      "\u001b[32m[I 2021-11-25 07:15:21,817]\u001b[0m Trial 162 finished with value: 0.9977184649739242 and parameters: {'n_estimators': 8925, 'depth': 3, 'learning_rate': 0.13545954974018945, 'reg_alpha': 2.9123366292261283, 'reg_lambda': 0.031451268228971006, 'subsample': 0.5504556509895302, 'min_child_weight': 6.026414543711183, 'colsample_bytree': 0.8102845064320763, 'gamma': 3.698831718085318}. Best is trial 99 with value: 0.9977600209643013.\u001b[0m\n"
     ]
    },
    {
     "name": "stdout",
     "output_type": "stream",
     "text": [
      "Valid AUC score for xgboost model is 0.9977184649739242\n",
      "FOLD 0\n",
      "---------------------------------------------------\n"
     ]
    },
    {
     "ename": "KeyboardInterrupt",
     "evalue": "",
     "output_type": "error",
     "traceback": [
      "\u001b[0;31m---------------------------------------------------------------------------\u001b[0m",
      "\u001b[0;31mKeyboardInterrupt\u001b[0m                         Traceback (most recent call last)",
      "\u001b[0;32m<ipython-input-21-601afae34af4>\u001b[0m in \u001b[0;36m<module>\u001b[0;34m\u001b[0m\n\u001b[1;32m      1\u001b[0m \u001b[0;32mfor\u001b[0m \u001b[0mx\u001b[0m \u001b[0;32min\u001b[0m \u001b[0mrange\u001b[0m\u001b[0;34m(\u001b[0m\u001b[0;36m1\u001b[0m\u001b[0;34m,\u001b[0m \u001b[0;36m100\u001b[0m\u001b[0;34m)\u001b[0m\u001b[0;34m:\u001b[0m\u001b[0;34m\u001b[0m\u001b[0;34m\u001b[0m\u001b[0m\n\u001b[0;32m----> 2\u001b[0;31m     \u001b[0mstudy\u001b[0m\u001b[0;34m.\u001b[0m\u001b[0moptimize\u001b[0m\u001b[0;34m(\u001b[0m\u001b[0mobjective\u001b[0m\u001b[0;34m,\u001b[0m \u001b[0mn_trials\u001b[0m \u001b[0;34m=\u001b[0m \u001b[0;36m5\u001b[0m\u001b[0;34m,\u001b[0m \u001b[0mcallbacks\u001b[0m \u001b[0;34m=\u001b[0m \u001b[0;34m[\u001b[0m\u001b[0mwandbc\u001b[0m\u001b[0;34m]\u001b[0m\u001b[0;34m,\u001b[0m \u001b[0mshow_progress_bar\u001b[0m\u001b[0;34m=\u001b[0m\u001b[0;32mFalse\u001b[0m\u001b[0;34m,\u001b[0m \u001b[0mcatch\u001b[0m\u001b[0;34m=\u001b[0m\u001b[0;34m(\u001b[0m\u001b[0mxgboost\u001b[0m\u001b[0;34m.\u001b[0m\u001b[0mcore\u001b[0m\u001b[0;34m.\u001b[0m\u001b[0mXGBoostError\u001b[0m\u001b[0;34m,\u001b[0m\u001b[0;34m)\u001b[0m\u001b[0;34m)\u001b[0m\u001b[0;34m\u001b[0m\u001b[0;34m\u001b[0m\u001b[0m\n\u001b[0m\u001b[1;32m      3\u001b[0m     \u001b[0mdump\u001b[0m\u001b[0;34m(\u001b[0m\u001b[0mstudy\u001b[0m\u001b[0;34m,\u001b[0m \u001b[0mfilename\u001b[0m\u001b[0;34m=\u001b[0m\u001b[0mstudypath\u001b[0m\u001b[0;34m/\u001b[0m\u001b[0;34mf\"optuna-xgboost-lv1-study-{datetime.now().strftime('%Y%m%d')}.joblib\"\u001b[0m\u001b[0;34m)\u001b[0m\u001b[0;34m\u001b[0m\u001b[0;34m\u001b[0m\u001b[0m\n\u001b[1;32m      4\u001b[0m \u001b[0;31m#     dump(study.best_trial.params, filename=datapath/f'optuna_lightgbm_study_best-thru-{x*5}trials_20210927.joblib')\u001b[0m\u001b[0;34m\u001b[0m\u001b[0;34m\u001b[0m\u001b[0;34m\u001b[0m\u001b[0m\n",
      "\u001b[0;32m~/anaconda3/envs/tabular-x/lib/python3.8/site-packages/optuna/study/study.py\u001b[0m in \u001b[0;36moptimize\u001b[0;34m(self, func, n_trials, timeout, n_jobs, catch, callbacks, gc_after_trial, show_progress_bar)\u001b[0m\n\u001b[1;32m    398\u001b[0m             )\n\u001b[1;32m    399\u001b[0m \u001b[0;34m\u001b[0m\u001b[0m\n\u001b[0;32m--> 400\u001b[0;31m         _optimize(\n\u001b[0m\u001b[1;32m    401\u001b[0m             \u001b[0mstudy\u001b[0m\u001b[0;34m=\u001b[0m\u001b[0mself\u001b[0m\u001b[0;34m,\u001b[0m\u001b[0;34m\u001b[0m\u001b[0;34m\u001b[0m\u001b[0m\n\u001b[1;32m    402\u001b[0m             \u001b[0mfunc\u001b[0m\u001b[0;34m=\u001b[0m\u001b[0mfunc\u001b[0m\u001b[0;34m,\u001b[0m\u001b[0;34m\u001b[0m\u001b[0;34m\u001b[0m\u001b[0m\n",
      "\u001b[0;32m~/anaconda3/envs/tabular-x/lib/python3.8/site-packages/optuna/study/_optimize.py\u001b[0m in \u001b[0;36m_optimize\u001b[0;34m(study, func, n_trials, timeout, n_jobs, catch, callbacks, gc_after_trial, show_progress_bar)\u001b[0m\n\u001b[1;32m     64\u001b[0m     \u001b[0;32mtry\u001b[0m\u001b[0;34m:\u001b[0m\u001b[0;34m\u001b[0m\u001b[0;34m\u001b[0m\u001b[0m\n\u001b[1;32m     65\u001b[0m         \u001b[0;32mif\u001b[0m \u001b[0mn_jobs\u001b[0m \u001b[0;34m==\u001b[0m \u001b[0;36m1\u001b[0m\u001b[0;34m:\u001b[0m\u001b[0;34m\u001b[0m\u001b[0;34m\u001b[0m\u001b[0m\n\u001b[0;32m---> 66\u001b[0;31m             _optimize_sequential(\n\u001b[0m\u001b[1;32m     67\u001b[0m                 \u001b[0mstudy\u001b[0m\u001b[0;34m,\u001b[0m\u001b[0;34m\u001b[0m\u001b[0;34m\u001b[0m\u001b[0m\n\u001b[1;32m     68\u001b[0m                 \u001b[0mfunc\u001b[0m\u001b[0;34m,\u001b[0m\u001b[0;34m\u001b[0m\u001b[0;34m\u001b[0m\u001b[0m\n",
      "\u001b[0;32m~/anaconda3/envs/tabular-x/lib/python3.8/site-packages/optuna/study/_optimize.py\u001b[0m in \u001b[0;36m_optimize_sequential\u001b[0;34m(study, func, n_trials, timeout, catch, callbacks, gc_after_trial, reseed_sampler_rng, time_start, progress_bar)\u001b[0m\n\u001b[1;32m    161\u001b[0m \u001b[0;34m\u001b[0m\u001b[0m\n\u001b[1;32m    162\u001b[0m         \u001b[0;32mtry\u001b[0m\u001b[0;34m:\u001b[0m\u001b[0;34m\u001b[0m\u001b[0;34m\u001b[0m\u001b[0m\n\u001b[0;32m--> 163\u001b[0;31m             \u001b[0mtrial\u001b[0m \u001b[0;34m=\u001b[0m \u001b[0m_run_trial\u001b[0m\u001b[0;34m(\u001b[0m\u001b[0mstudy\u001b[0m\u001b[0;34m,\u001b[0m \u001b[0mfunc\u001b[0m\u001b[0;34m,\u001b[0m \u001b[0mcatch\u001b[0m\u001b[0;34m)\u001b[0m\u001b[0;34m\u001b[0m\u001b[0;34m\u001b[0m\u001b[0m\n\u001b[0m\u001b[1;32m    164\u001b[0m         \u001b[0;32mexcept\u001b[0m \u001b[0mException\u001b[0m\u001b[0;34m:\u001b[0m\u001b[0;34m\u001b[0m\u001b[0;34m\u001b[0m\u001b[0m\n\u001b[1;32m    165\u001b[0m             \u001b[0;32mraise\u001b[0m\u001b[0;34m\u001b[0m\u001b[0;34m\u001b[0m\u001b[0m\n",
      "\u001b[0;32m~/anaconda3/envs/tabular-x/lib/python3.8/site-packages/optuna/study/_optimize.py\u001b[0m in \u001b[0;36m_run_trial\u001b[0;34m(study, func, catch)\u001b[0m\n\u001b[1;32m    211\u001b[0m \u001b[0;34m\u001b[0m\u001b[0m\n\u001b[1;32m    212\u001b[0m     \u001b[0;32mtry\u001b[0m\u001b[0;34m:\u001b[0m\u001b[0;34m\u001b[0m\u001b[0;34m\u001b[0m\u001b[0m\n\u001b[0;32m--> 213\u001b[0;31m         \u001b[0mvalue_or_values\u001b[0m \u001b[0;34m=\u001b[0m \u001b[0mfunc\u001b[0m\u001b[0;34m(\u001b[0m\u001b[0mtrial\u001b[0m\u001b[0;34m)\u001b[0m\u001b[0;34m\u001b[0m\u001b[0;34m\u001b[0m\u001b[0m\n\u001b[0m\u001b[1;32m    214\u001b[0m     \u001b[0;32mexcept\u001b[0m \u001b[0mexceptions\u001b[0m\u001b[0;34m.\u001b[0m\u001b[0mTrialPruned\u001b[0m \u001b[0;32mas\u001b[0m \u001b[0me\u001b[0m\u001b[0;34m:\u001b[0m\u001b[0;34m\u001b[0m\u001b[0;34m\u001b[0m\u001b[0m\n\u001b[1;32m    215\u001b[0m         \u001b[0;31m# TODO(mamu): Handle multi-objective cases.\u001b[0m\u001b[0;34m\u001b[0m\u001b[0;34m\u001b[0m\u001b[0;34m\u001b[0m\u001b[0m\n",
      "\u001b[0;32m<ipython-input-15-34cf98b3f5e1>\u001b[0m in \u001b[0;36mobjective\u001b[0;34m(trial, arch)\u001b[0m\n\u001b[1;32m     56\u001b[0m         \u001b[0mX_valid\u001b[0m \u001b[0;34m=\u001b[0m \u001b[0mscaler\u001b[0m\u001b[0;34m.\u001b[0m\u001b[0mtransform\u001b[0m\u001b[0;34m(\u001b[0m\u001b[0mX_valid\u001b[0m\u001b[0;34m)\u001b[0m\u001b[0;34m\u001b[0m\u001b[0;34m\u001b[0m\u001b[0m\n\u001b[1;32m     57\u001b[0m \u001b[0;34m\u001b[0m\u001b[0m\n\u001b[0;32m---> 58\u001b[0;31m         \u001b[0mmodel\u001b[0m\u001b[0;34m.\u001b[0m\u001b[0mfit\u001b[0m\u001b[0;34m(\u001b[0m\u001b[0mX_train\u001b[0m\u001b[0;34m,\u001b[0m \u001b[0my_train\u001b[0m\u001b[0;34m)\u001b[0m\u001b[0;34m\u001b[0m\u001b[0;34m\u001b[0m\u001b[0m\n\u001b[0m\u001b[1;32m     59\u001b[0m         \u001b[0my_valid_preds\u001b[0m \u001b[0;34m=\u001b[0m \u001b[0mmodel\u001b[0m\u001b[0;34m.\u001b[0m\u001b[0mpredict_proba\u001b[0m\u001b[0;34m(\u001b[0m\u001b[0mX_valid\u001b[0m\u001b[0;34m)\u001b[0m\u001b[0;34m[\u001b[0m\u001b[0;34m:\u001b[0m\u001b[0;34m,\u001b[0m\u001b[0;36m1\u001b[0m\u001b[0;34m]\u001b[0m\u001b[0;34m\u001b[0m\u001b[0;34m\u001b[0m\u001b[0m\n\u001b[1;32m     60\u001b[0m \u001b[0;34m\u001b[0m\u001b[0m\n",
      "\u001b[0;32m~/anaconda3/envs/tabular-x/lib/python3.8/site-packages/xgboost/core.py\u001b[0m in \u001b[0;36minner_f\u001b[0;34m(*args, **kwargs)\u001b[0m\n\u001b[1;32m    504\u001b[0m         \u001b[0;32mfor\u001b[0m \u001b[0mk\u001b[0m\u001b[0;34m,\u001b[0m \u001b[0marg\u001b[0m \u001b[0;32min\u001b[0m \u001b[0mzip\u001b[0m\u001b[0;34m(\u001b[0m\u001b[0msig\u001b[0m\u001b[0;34m.\u001b[0m\u001b[0mparameters\u001b[0m\u001b[0;34m,\u001b[0m \u001b[0margs\u001b[0m\u001b[0;34m)\u001b[0m\u001b[0;34m:\u001b[0m\u001b[0;34m\u001b[0m\u001b[0;34m\u001b[0m\u001b[0m\n\u001b[1;32m    505\u001b[0m             \u001b[0mkwargs\u001b[0m\u001b[0;34m[\u001b[0m\u001b[0mk\u001b[0m\u001b[0;34m]\u001b[0m \u001b[0;34m=\u001b[0m \u001b[0marg\u001b[0m\u001b[0;34m\u001b[0m\u001b[0;34m\u001b[0m\u001b[0m\n\u001b[0;32m--> 506\u001b[0;31m         \u001b[0;32mreturn\u001b[0m \u001b[0mf\u001b[0m\u001b[0;34m(\u001b[0m\u001b[0;34m**\u001b[0m\u001b[0mkwargs\u001b[0m\u001b[0;34m)\u001b[0m\u001b[0;34m\u001b[0m\u001b[0;34m\u001b[0m\u001b[0m\n\u001b[0m\u001b[1;32m    507\u001b[0m \u001b[0;34m\u001b[0m\u001b[0m\n\u001b[1;32m    508\u001b[0m     \u001b[0;32mreturn\u001b[0m \u001b[0minner_f\u001b[0m\u001b[0;34m\u001b[0m\u001b[0;34m\u001b[0m\u001b[0m\n",
      "\u001b[0;32m~/anaconda3/envs/tabular-x/lib/python3.8/site-packages/xgboost/sklearn.py\u001b[0m in \u001b[0;36mfit\u001b[0;34m(self, X, y, sample_weight, base_margin, eval_set, eval_metric, early_stopping_rounds, verbose, xgb_model, sample_weight_eval_set, base_margin_eval_set, feature_weights, callbacks)\u001b[0m\n\u001b[1;32m   1248\u001b[0m         )\n\u001b[1;32m   1249\u001b[0m \u001b[0;34m\u001b[0m\u001b[0m\n\u001b[0;32m-> 1250\u001b[0;31m         self._Booster = train(\n\u001b[0m\u001b[1;32m   1251\u001b[0m             \u001b[0mparams\u001b[0m\u001b[0;34m,\u001b[0m\u001b[0;34m\u001b[0m\u001b[0;34m\u001b[0m\u001b[0m\n\u001b[1;32m   1252\u001b[0m             \u001b[0mtrain_dmatrix\u001b[0m\u001b[0;34m,\u001b[0m\u001b[0;34m\u001b[0m\u001b[0;34m\u001b[0m\u001b[0m\n",
      "\u001b[0;32m~/anaconda3/envs/tabular-x/lib/python3.8/site-packages/xgboost/training.py\u001b[0m in \u001b[0;36mtrain\u001b[0;34m(params, dtrain, num_boost_round, evals, obj, feval, maximize, early_stopping_rounds, evals_result, verbose_eval, xgb_model, callbacks)\u001b[0m\n\u001b[1;32m    186\u001b[0m     \u001b[0mBooster\u001b[0m \u001b[0;34m:\u001b[0m \u001b[0ma\u001b[0m \u001b[0mtrained\u001b[0m \u001b[0mbooster\u001b[0m \u001b[0mmodel\u001b[0m\u001b[0;34m\u001b[0m\u001b[0;34m\u001b[0m\u001b[0m\n\u001b[1;32m    187\u001b[0m     \"\"\"\n\u001b[0;32m--> 188\u001b[0;31m     bst = _train_internal(params, dtrain,\n\u001b[0m\u001b[1;32m    189\u001b[0m                           \u001b[0mnum_boost_round\u001b[0m\u001b[0;34m=\u001b[0m\u001b[0mnum_boost_round\u001b[0m\u001b[0;34m,\u001b[0m\u001b[0;34m\u001b[0m\u001b[0;34m\u001b[0m\u001b[0m\n\u001b[1;32m    190\u001b[0m                           \u001b[0mevals\u001b[0m\u001b[0;34m=\u001b[0m\u001b[0mevals\u001b[0m\u001b[0;34m,\u001b[0m\u001b[0;34m\u001b[0m\u001b[0;34m\u001b[0m\u001b[0m\n",
      "\u001b[0;32m~/anaconda3/envs/tabular-x/lib/python3.8/site-packages/xgboost/training.py\u001b[0m in \u001b[0;36m_train_internal\u001b[0;34m(params, dtrain, num_boost_round, evals, obj, feval, xgb_model, callbacks, evals_result, maximize, verbose_eval, early_stopping_rounds)\u001b[0m\n\u001b[1;32m     79\u001b[0m         \u001b[0;32mif\u001b[0m \u001b[0mcallbacks\u001b[0m\u001b[0;34m.\u001b[0m\u001b[0mbefore_iteration\u001b[0m\u001b[0;34m(\u001b[0m\u001b[0mbst\u001b[0m\u001b[0;34m,\u001b[0m \u001b[0mi\u001b[0m\u001b[0;34m,\u001b[0m \u001b[0mdtrain\u001b[0m\u001b[0;34m,\u001b[0m \u001b[0mevals\u001b[0m\u001b[0;34m)\u001b[0m\u001b[0;34m:\u001b[0m\u001b[0;34m\u001b[0m\u001b[0;34m\u001b[0m\u001b[0m\n\u001b[1;32m     80\u001b[0m             \u001b[0;32mbreak\u001b[0m\u001b[0;34m\u001b[0m\u001b[0;34m\u001b[0m\u001b[0m\n\u001b[0;32m---> 81\u001b[0;31m         \u001b[0mbst\u001b[0m\u001b[0;34m.\u001b[0m\u001b[0mupdate\u001b[0m\u001b[0;34m(\u001b[0m\u001b[0mdtrain\u001b[0m\u001b[0;34m,\u001b[0m \u001b[0mi\u001b[0m\u001b[0;34m,\u001b[0m \u001b[0mobj\u001b[0m\u001b[0;34m)\u001b[0m\u001b[0;34m\u001b[0m\u001b[0;34m\u001b[0m\u001b[0m\n\u001b[0m\u001b[1;32m     82\u001b[0m         \u001b[0;32mif\u001b[0m \u001b[0mcallbacks\u001b[0m\u001b[0;34m.\u001b[0m\u001b[0mafter_iteration\u001b[0m\u001b[0;34m(\u001b[0m\u001b[0mbst\u001b[0m\u001b[0;34m,\u001b[0m \u001b[0mi\u001b[0m\u001b[0;34m,\u001b[0m \u001b[0mdtrain\u001b[0m\u001b[0;34m,\u001b[0m \u001b[0mevals\u001b[0m\u001b[0;34m)\u001b[0m\u001b[0;34m:\u001b[0m\u001b[0;34m\u001b[0m\u001b[0;34m\u001b[0m\u001b[0m\n\u001b[1;32m     83\u001b[0m             \u001b[0;32mbreak\u001b[0m\u001b[0;34m\u001b[0m\u001b[0;34m\u001b[0m\u001b[0m\n",
      "\u001b[0;32m~/anaconda3/envs/tabular-x/lib/python3.8/site-packages/xgboost/core.py\u001b[0m in \u001b[0;36mupdate\u001b[0;34m(self, dtrain, iteration, fobj)\u001b[0m\n\u001b[1;32m   1678\u001b[0m \u001b[0;34m\u001b[0m\u001b[0m\n\u001b[1;32m   1679\u001b[0m         \u001b[0;32mif\u001b[0m \u001b[0mfobj\u001b[0m \u001b[0;32mis\u001b[0m \u001b[0;32mNone\u001b[0m\u001b[0;34m:\u001b[0m\u001b[0;34m\u001b[0m\u001b[0;34m\u001b[0m\u001b[0m\n\u001b[0;32m-> 1680\u001b[0;31m             _check_call(_LIB.XGBoosterUpdateOneIter(self.handle,\n\u001b[0m\u001b[1;32m   1681\u001b[0m                                                     \u001b[0mctypes\u001b[0m\u001b[0;34m.\u001b[0m\u001b[0mc_int\u001b[0m\u001b[0;34m(\u001b[0m\u001b[0miteration\u001b[0m\u001b[0;34m)\u001b[0m\u001b[0;34m,\u001b[0m\u001b[0;34m\u001b[0m\u001b[0;34m\u001b[0m\u001b[0m\n\u001b[1;32m   1682\u001b[0m                                                     dtrain.handle))\n",
      "\u001b[0;31mKeyboardInterrupt\u001b[0m: "
     ]
    }
   ],
   "source": [
    "for x in range(1, 500):\n",
    "    study.optimize(objective, n_trials = 1, callbacks = [wandbc], show_progress_bar=False, catch=(xgboost.core.XGBoostError,)) \n",
    "    dump(study, filename=studypath/f\"optuna_{arch}_study-{start_time}.joblib\")\n",
    "#     dump(study.best_trial.params, filename=datapath/f'optuna_lightgbm_study_best-thru-{x*5}trials_20210927.joblib')"
   ]
  },
  {
   "cell_type": "code",
   "execution_count": 24,
   "id": "b738f809-eef0-4354-bf6f-a16f1a793c04",
   "metadata": {
    "id": "ybeYZ3omaLWK"
   },
   "outputs": [
    {
     "data": {
      "text/html": [
       "<br/>Waiting for W&B process to finish, PID 32007... <strong style=\"color:green\">(success).</strong>"
      ],
      "text/plain": [
       "<IPython.core.display.HTML object>"
      ]
     },
     "metadata": {},
     "output_type": "display_data"
    },
    {
     "data": {
      "application/vnd.jupyter.widget-view+json": {
       "model_id": "",
       "version_major": 2,
       "version_minor": 0
      },
      "text/plain": [
       "VBox(children=(Label(value=' 0.00MB of 0.00MB uploaded (0.00MB deduped)\\r'), FloatProgress(value=1.0, max=1.0)…"
      ]
     },
     "metadata": {},
     "output_type": "display_data"
    },
    {
     "data": {
      "text/html": [
       "<style>\n",
       "    table.wandb td:nth-child(1) { padding: 0 10px; text-align: right }\n",
       "    .wandb-row { display: flex; flex-direction: row; flex-wrap: wrap; width: 100% }\n",
       "    .wandb-col { display: flex; flex-direction: column; flex-basis: 100%; flex: 1; padding: 10px; }\n",
       "    </style>\n",
       "<div class=\"wandb-row\"><div class=\"wandb-col\">\n",
       "<h3>Run history:</h3><br/><table class=\"wandb\"><tr><td>colsample_bytree</td><td>▃█▇▃▅▅▆▂▃▁▂▃▂▃▃▃▃▄▄▄▇█▇▇█▇█▇█▇█▇▇▆▇▆▆▆▆▅</td></tr><tr><td>depth</td><td>▁▅▅█▃▃▆▃▃▁▁▁▃▁▁▁▃▁█▃▁▁▁▃▁▁▁▁▁▁▁▁▁▁▁▁▁▁▁▁</td></tr><tr><td>gamma</td><td>▅▇▄▃█▆▅▅▃▁▂▃▁▃▃▃▄▃▄▃▃▃▃▄▄▄▅▃▃▃▄▄▄▄▄▄▄▄▄▄</td></tr><tr><td>learning_rate</td><td>▇▁▁▁▁▃▃▁▅▂▂▃▂▃▃▃▂▁▁▅▄▃▄█▄▆▃▄▇▆▅▅▄▃▃▄▃▃▃▄</td></tr><tr><td>min_child_weight</td><td>▂▇▆▃▅██▁▃▄▄▄▆▄▆▆▄▇▇▄▄▃▄▄▃▄▂▃▃▂▃▃▄▅▃▅▅▅▅▅</td></tr><tr><td>n_estimators</td><td>▆▅▅▆▁▆▄▇██▇▁▅▇▇▇▇▆▆████▇██▇▇█▇▇██▇▇▇▇▇▇▇</td></tr><tr><td>reg_alpha</td><td>▃▁▁▂▃▁▁▁▂▁▁▁▁▁▂▂▂▂▃▁▂▃▂▁▂▂▃▂▂█▂▂▂▃▂▁▁▁▂▂</td></tr><tr><td>reg_lambda</td><td>▁▁▁▁▁█▂▁▁▁▁▁▁▁▁▁▁▁▁▁▁▁▁▁▁▁▁▁▁▁▁▁▁▁▁▁▁▁▁▁</td></tr><tr><td>subsample</td><td>▂█▆▇▃▄▁▂▁▁▁▁▂▂▃▂▄▂▁▂▁▁▁█▁▁▁▅▁▁▁▂▁▂▂▂▂▂▂▂</td></tr><tr><td>value</td><td>██▁▇▄██▅███▇█████▃▃█████████████████████</td></tr></table><br/></div><div class=\"wandb-col\">\n",
       "<h3>Run summary:</h3><br/><table class=\"wandb\"><tr><td>best_params</td><td>{'n_estimators': 987...</td></tr><tr><td>colsample_bytree</td><td>0.81028</td></tr><tr><td>depth</td><td>3</td></tr><tr><td>gamma</td><td>3.69883</td></tr><tr><td>learning_rate</td><td>0.13546</td></tr><tr><td>min_child_weight</td><td>6.02641</td></tr><tr><td>n_estimators</td><td>8925</td></tr><tr><td>reg_alpha</td><td>2.91234</td></tr><tr><td>reg_lambda</td><td>0.03145</td></tr><tr><td>subsample</td><td>0.55046</td></tr><tr><td>value</td><td>0.99772</td></tr></table>\n",
       "</div></div>\n",
       "Synced 6 W&B file(s), 0 media file(s), 0 artifact file(s) and 0 other file(s)\n",
       "<br/>Synced <strong style=\"color:#cdcd00\">sweep_xgboost_20211124_195355</strong>: <a href=\"https://wandb.ai/hushifang/202111_Kaggle_tabular_playground/runs/3hnn5ohf\" target=\"_blank\">https://wandb.ai/hushifang/202111_Kaggle_tabular_playground/runs/3hnn5ohf</a><br/>\n",
       "Find logs at: <code>./wandb/run-20211124_195356-3hnn5ohf/logs</code><br/>\n"
      ],
      "text/plain": [
       "<IPython.core.display.HTML object>"
      ]
     },
     "metadata": {},
     "output_type": "display_data"
    }
   ],
   "source": [
    "wandb.log({'best_params': str(study.best_trial.params)})\n",
    "wandb.finish()"
   ]
  },
  {
   "cell_type": "code",
   "execution_count": 23,
   "id": "ac281d00-4ada-45c2-a413-9e4b22514c3e",
   "metadata": {
    "id": "f02e689e-b20c-48e5-a7d9-02467b4f3dbd"
   },
   "outputs": [
    {
     "data": {
      "text/plain": [
       "{'n_estimators': 9872,\n",
       " 'depth': 3,\n",
       " 'learning_rate': 0.12943882615104757,\n",
       " 'reg_alpha': 4.793236314677738,\n",
       " 'reg_lambda': 0.03427038053813167,\n",
       " 'subsample': 0.5026684329097286,\n",
       " 'min_child_weight': 3.2374430610042664,\n",
       " 'colsample_bytree': 0.9875504456465564,\n",
       " 'gamma': 4.691772640321729}"
      ]
     },
     "execution_count": 23,
     "metadata": {},
     "output_type": "execute_result"
    }
   ],
   "source": [
    "study.best_trial.params"
   ]
  },
  {
   "cell_type": "code",
   "execution_count": null,
   "id": "982f053d-97c4-4954-97fd-002e10aa2164",
   "metadata": {},
   "outputs": [],
   "source": [
    "optuna.visualization.plot_parallel_coordinate(study)"
   ]
  }
 ],
 "metadata": {
  "kernelspec": {
   "display_name": "Python 3",
   "language": "python",
   "name": "python3"
  },
  "language_info": {
   "codemirror_mode": {
    "name": "ipython",
    "version": 3
   },
   "file_extension": ".py",
   "mimetype": "text/x-python",
   "name": "python",
   "nbconvert_exporter": "python",
   "pygments_lexer": "ipython3",
   "version": "3.8.12"
  }
 },
 "nbformat": 4,
 "nbformat_minor": 5
}
