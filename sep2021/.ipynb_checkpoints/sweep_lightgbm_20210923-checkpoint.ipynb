{
 "cells": [
  {
   "cell_type": "markdown",
   "id": "1d4e7f70-25a3-4d58-b98a-3a695e55ee53",
   "metadata": {
    "id": "1d4e7f70-25a3-4d58-b98a-3a695e55ee53"
   },
   "source": [
    "# LightGBM Hyperparameter Sweep 20210922\n",
    "Integrating some enhancements introduced in the XGBoost version, and implementing the frequent-serialization approach."
   ]
  },
  {
   "cell_type": "code",
   "execution_count": null,
   "id": "U_qtimPUchWD",
   "metadata": {
    "id": "U_qtimPUchWD"
   },
   "outputs": [],
   "source": []
  },
  {
   "cell_type": "markdown",
   "id": "1e124c3d-0e1f-4053-8e72-52569a4fe3e4",
   "metadata": {
    "id": "1e124c3d-0e1f-4053-8e72-52569a4fe3e4"
   },
   "source": [
    "# Setup"
   ]
  },
  {
   "cell_type": "code",
   "execution_count": 1,
   "id": "dae2ff1e-bd1f-4cc9-8357-5a88d1746ffb",
   "metadata": {
    "id": "dae2ff1e-bd1f-4cc9-8357-5a88d1746ffb"
   },
   "outputs": [],
   "source": [
    "# two manual flags (ex-config)\n",
    "colab = False\n",
    "gpu_available = False"
   ]
  },
  {
   "cell_type": "code",
   "execution_count": 2,
   "id": "16849bd2-428c-497b-ba3b-675002f8d041",
   "metadata": {
    "id": "16849bd2-428c-497b-ba3b-675002f8d041"
   },
   "outputs": [],
   "source": [
    "# basic imports\n",
    "from pathlib import Path\n",
    "import os\n",
    "import math\n",
    "from datetime import datetime\n",
    "import random\n",
    "import multiprocessing\n",
    "import pickle"
   ]
  },
  {
   "cell_type": "code",
   "execution_count": 3,
   "id": "12d2654b-3bc6-49b5-ade8-cc82112b60e5",
   "metadata": {
    "colab": {
     "base_uri": "https://localhost:8080/"
    },
    "id": "12d2654b-3bc6-49b5-ade8-cc82112b60e5",
    "outputId": "6bd53922-c4d7-43ce-c04f-ac1079087966"
   },
   "outputs": [],
   "source": [
    "%matplotlib inline\n",
    "%config Completer.use_jedi = False\n",
    "os.environ['WANDB_NOTEBOOK_NAME'] = f\"sweep_lightgbm_{datetime.now().strftime('%Y%m%d')}.ipynb\""
   ]
  },
  {
   "cell_type": "code",
   "execution_count": 4,
   "id": "416d6118-e543-4df4-9219-2d4a63743c3a",
   "metadata": {
    "colab": {
     "base_uri": "https://localhost:8080/"
    },
    "id": "416d6118-e543-4df4-9219-2d4a63743c3a",
    "outputId": "5483656e-2943-4d97-b5d4-65cfb9795430",
    "tags": []
   },
   "outputs": [],
   "source": [
    "# handle Google Colab-specific library installation/updating\n",
    "if colab:\n",
    "    # much of the below inspired by or cribbed from the May 2021 Kaggle Tabular Playground winner, at \n",
    "    # https://colab.research.google.com/gist/academicsuspect/0aac7bd6e506f5f70295bfc9a3dc2250/tabular-may-baseline.ipynb?authuser=1#scrollTo=LJoVKJb5wN0L\n",
    "    \n",
    "    # Kaggle API for downloading the datasets\n",
    "    !pip install --upgrade -q kaggle\n",
    "\n",
    "    # weights and biases\n",
    "    !pip install -qqqU wandb\n",
    "    \n",
    "    # Optuna for parameter search\n",
    "    !pip install -q optuna\n",
    "\n",
    "    # !pip install --upgrade xgboost\n",
    "\n",
    "    # upgrade sklearn\n",
    "    !pip install --upgrade scikit-learn\n",
    "\n",
    "    # !pip install category_encoders\n",
    "    # !pip install catboost\n",
    "    !pip install --upgrade -q lightgbm\n",
    "\n",
    "    # lighgbm gpu compatible\n",
    "    # !git clone --recursive https://github.com/Microsoft/LightGBM\n",
    "    # ! cd LightGBM && rm -rf build && mkdir build && cd build && cmake -DUSE_GPU=1 ../../LightGBM && make -j4 && cd ../python-package && python3 setup.py install --precompile --gpu;\n",
    "    \n",
    "    # # this part is from https://github.com/rapidsai/gputreeshap/issues/24\n",
    "    # !pip install cmake --upgrade\n",
    "    # # !pip install sklearn --upgrade\n",
    "    # !git clone --recursive https://github.com/dmlc/xgboost\n",
    "    # %cd /content/xgboost\n",
    "    # !mkdir build\n",
    "    # %cd build\n",
    "    # !cmake .. -DUSE_CUDA=ON\n",
    "    # !make -j4\n",
    "    # %cd /content/xgboost/python-package\n",
    "    # !python setup.py install --use-cuda --use-nccl\n",
    "    # !/opt/bin/nvidia-smi\n",
    "    # !pip install shap\n",
    "    "
   ]
  },
  {
   "cell_type": "markdown",
   "id": "d40df194-4474-4bcf-ac5a-98efe24b91fd",
   "metadata": {
    "id": "d40df194-4474-4bcf-ac5a-98efe24b91fd"
   },
   "source": [
    "Now, non-stdlib imports"
   ]
  },
  {
   "cell_type": "code",
   "execution_count": 5,
   "id": "a01e85f7-d602-4dde-bef9-611683cd74c4",
   "metadata": {
    "id": "a01e85f7-d602-4dde-bef9-611683cd74c4"
   },
   "outputs": [
    {
     "data": {
      "text/html": [
       "<style type='text/css'>\n",
       ".datatable table.frame { margin-bottom: 0; }\n",
       ".datatable table.frame thead { border-bottom: none; }\n",
       ".datatable table.frame tr.coltypes td {  color: #FFFFFF;  line-height: 6px;  padding: 0 0.5em;}\n",
       ".datatable .bool    { background: #DDDD99; }\n",
       ".datatable .object  { background: #565656; }\n",
       ".datatable .int     { background: #5D9E5D; }\n",
       ".datatable .float   { background: #4040CC; }\n",
       ".datatable .str     { background: #CC4040; }\n",
       ".datatable .time    { background: #40CC40; }\n",
       ".datatable .row_index {  background: var(--jp-border-color3);  border-right: 1px solid var(--jp-border-color0);  color: var(--jp-ui-font-color3);  font-size: 9px;}\n",
       ".datatable .frame tbody td { text-align: left; }\n",
       ".datatable .frame tr.coltypes .row_index {  background: var(--jp-border-color0);}\n",
       ".datatable th:nth-child(2) { padding-left: 12px; }\n",
       ".datatable .hellipsis {  color: var(--jp-cell-editor-border-color);}\n",
       ".datatable .vellipsis {  background: var(--jp-layout-color0);  color: var(--jp-cell-editor-border-color);}\n",
       ".datatable .na {  color: var(--jp-cell-editor-border-color);  font-size: 80%;}\n",
       ".datatable .sp {  opacity: 0.25;}\n",
       ".datatable .footer { font-size: 9px; }\n",
       ".datatable .frame_dimensions {  background: var(--jp-border-color3);  border-top: 1px solid var(--jp-border-color0);  color: var(--jp-ui-font-color3);  display: inline-block;  opacity: 0.6;  padding: 1px 10px 1px 5px;}\n",
       "</style>\n"
      ],
      "text/plain": [
       "<IPython.core.display.HTML object>"
      ]
     },
     "metadata": {},
     "output_type": "display_data"
    }
   ],
   "source": [
    "import pandas as pd\n",
    "import numpy as np\n",
    "import matplotlib.pyplot as plt\n",
    "from tqdm.notebook import tqdm\n",
    "\n",
    "# general ML tooling\n",
    "from sklearn.model_selection import train_test_split, StratifiedKFold, KFold\n",
    "from sklearn.metrics import log_loss, roc_auc_score\n",
    "import wandb\n",
    "from optuna.integration.wandb import WeightsAndBiasesCallback\n",
    "# from wandb.xgboost import wandb_callback\n",
    "# from wandb.lightgbm import wandb_callback\n",
    "# from sklearn.impute import KNNImputer, StandardImputer\n",
    "# import timm\n",
    "\n",
    "import seaborn as sns\n",
    "\n",
    "# from catboost import CatBoostClassifier\n",
    "# from xgboost import XGBClassifier\n",
    "from lightgbm import LGBMClassifier\n",
    "# from sklearn.ensemble import RandomForestRegressor\n",
    "from sklearn.preprocessing import MaxAbsScaler, StandardScaler, MinMaxScaler, RobustScaler, PolynomialFeatures\n",
    "# from sklearn.feature_selection import SelectKBest, f_regression\n",
    "from joblib import dump, load\n",
    "# feature engineering tools\n",
    "# from sklearn.feature_selection import mutual_info_regression\n",
    "# import featuretools as ft\n",
    "\n",
    "\n",
    "from optuna.samplers import TPESampler\n",
    "import optuna\n",
    "# import catboost\n",
    "from sklearn.utils import resample\n",
    "import sklearn.metrics"
   ]
  },
  {
   "cell_type": "markdown",
   "id": "5f6166c2-ca44-4b7c-a4dc-3db47c2624fe",
   "metadata": {
    "id": "5f6166c2-ca44-4b7c-a4dc-3db47c2624fe"
   },
   "source": [
    "Now, datapath setup"
   ]
  },
  {
   "cell_type": "code",
   "execution_count": 6,
   "id": "3c18a787-2193-43cb-87ee-51c6ae7b6351",
   "metadata": {
    "id": "3c18a787-2193-43cb-87ee-51c6ae7b6351"
   },
   "outputs": [],
   "source": [
    "# # This is the code for reading the train.csv and converting it to a .feather file\n",
    "# df = pd.read_csv(datapath/'train.csv', index_col='id', low_memory=False)\n",
    "# df.index.name = None\n",
    "# df.to_feather(path='./dataset_df.feather')"
   ]
  },
  {
   "cell_type": "code",
   "execution_count": 7,
   "id": "0a41cd7e-accb-41c4-ad8b-0eaa3e2b0ad5",
   "metadata": {
    "colab": {
     "base_uri": "https://localhost:8080/"
    },
    "id": "0a41cd7e-accb-41c4-ad8b-0eaa3e2b0ad5",
    "outputId": "76d62b41-4171-40fa-936c-4481a9fdab36"
   },
   "outputs": [],
   "source": [
    "if colab:\n",
    "    # mount Google Drive\n",
    "    from google.colab import drive\n",
    "    drive.mount('/content/drive')\n",
    "    \n",
    "    # handling datapath\n",
    "    datapath = Path('/content/drive/MyDrive/kaggle/tabular_playgrounds/sep2021/')\n",
    "    \n",
    "else:\n",
    "    # if on local machine\n",
    "    datapath = Path('/media/sf/easystore/kaggle_data/tabular_playgrounds/sep2021/')    \n",
    "    \n"
   ]
  },
  {
   "cell_type": "code",
   "execution_count": 8,
   "id": "d1c652e6-5946-46aa-a13e-4c0ebe8a0e4f",
   "metadata": {
    "id": "d1c652e6-5946-46aa-a13e-4c0ebe8a0e4f"
   },
   "outputs": [],
   "source": [
    "\n",
    "# n_trials = int(1000)\n",
    "SEED = 42"
   ]
  },
  {
   "cell_type": "code",
   "execution_count": 9,
   "id": "fbec2e77-2081-4815-ac6d-39f2a2616386",
   "metadata": {
    "id": "fbec2e77-2081-4815-ac6d-39f2a2616386"
   },
   "outputs": [],
   "source": [
    "# Function to seed everything\n",
    "def seed_everything(seed):\n",
    "    random.seed(seed)\n",
    "    np.random.seed(seed)\n",
    "    os.environ['PYTHONHASHSEED'] = str(seed)\n",
    "seed_everything(SEED)"
   ]
  },
  {
   "cell_type": "markdown",
   "id": "2f6e47b3-43bd-4d35-b463-9d76100c6ed5",
   "metadata": {
    "id": "2f6e47b3-43bd-4d35-b463-9d76100c6ed5"
   },
   "source": [
    "## Ex-Model Config"
   ]
  },
  {
   "cell_type": "code",
   "execution_count": 10,
   "id": "fb288275-a858-4806-9dc0-0b316c334536",
   "metadata": {
    "id": "fb288275-a858-4806-9dc0-0b316c334536"
   },
   "outputs": [],
   "source": [
    "# meta-config for preprocessing and cross-validation, but NOT for model parameters\n",
    "# in the sweep version, this includes both ex-model parameters and defaults for model parameters\n",
    "exmodel_config = {\n",
    "    # model config\n",
    "    \"library\": 'lightgbm',\n",
    "#     \"model\": XGBClassifier,\n",
    "#     \"n_estimators\": 100, \n",
    "#     \"max_depth\": 3,\n",
    "#     \"learning_rate\": 0.1,\n",
    "#     \"test_size\": 0.2,\n",
    "#     \"reg_lambda\": None, \n",
    "    \"scaler\": \"sklearn.preprocessing.StandardScaler()\", # TODO: experiment with others (but imputation may be slow)\n",
    "    \"scale_b4_impute\": False,\n",
    "    \"imputer\": \"sklearn.impute.SimpleImputer(strategy='median', add_indicator=True)\",\n",
    "    \"knn_imputer_n_neighbors\": None, # None if a different imputer is used\n",
    "#     \"feature_selector\": SelectKBest,\n",
    "#     \"k_best\": 80,\n",
    "#     \"feature_selection_scoring\": f_regression,\n",
    "    'random_state': SEED,\n",
    "    'optuna': True,\n",
    "    'optuna_trials': 100,\n",
    "#     'subsample': 1,\n",
    "#     'cross_val_strategy': None, # None for holdout, or the relevant sklearn class\n",
    "#     'kfolds': 1, # if 1, that means just doing holdout\n",
    "#     'test_size': 0.2,\n",
    "    # these are XGBoost default (my choice) params \n",
    "#     \"tree_method\": \"auto\", # set to 'gpu_hist' to try GPU if available\n",
    "#     \"booster\": 'gbtree', # dart may be marginally better, but will opt for this quicker approach as a default\n",
    "#     \"n_estimators\": 200, \n",
    "#     \"max_depth\": 3,\n",
    "#     \"learning_rate\": 0.1,\n",
    "#     \"n_jobs\": -1,\n",
    "#     \"verbosity\": 1,\n",
    "#     \"subsample\": 1,\n",
    "#     'features_created': False,\n",
    "#     'feature_creator': None,\n",
    "}\n",
    "\n",
    "wandb_kwargs = {\n",
    "    # wandb config\n",
    "    'name': f\"{os.environ['WANDB_NOTEBOOK_NAME'][:-6]}_{datetime.now().strftime('%H%M%S')}\", # just removes the .ipynb extension, leaving the notebook filename's stem\n",
    "    'project': '202109_Kaggle_tabular_playground',\n",
    "    'tags': ['sweep'],\n",
    "    'notes': \"Integrating some enhancements introduced in the XGBoost version, and implementing the frequent-serialization approach.\",\n",
    "    'config': exmodel_config,\n",
    "}"
   ]
  },
  {
   "cell_type": "markdown",
   "id": "a52d9012-34f1-435a-ba16-4416e0d4a286",
   "metadata": {
    "id": "a52d9012-34f1-435a-ba16-4416e0d4a286"
   },
   "source": [
    "## Data Setup"
   ]
  },
  {
   "cell_type": "markdown",
   "id": "c912a62f-970a-48b4-b428-d886f2612fc2",
   "metadata": {
    "id": "c912a62f-970a-48b4-b428-d886f2612fc2"
   },
   "source": [
    "**TODO** Write some conditional logic here to automate it -- possibly as part of a sklearn.*pipeline"
   ]
  },
  {
   "cell_type": "code",
   "execution_count": 11,
   "id": "7f6625d6-7561-48a2-acb0-6efb3c371005",
   "metadata": {
    "id": "7f6625d6-7561-48a2-acb0-6efb3c371005"
   },
   "outputs": [],
   "source": [
    "X_source = 'X_NaNcounts_SummaryStats_imputed-Median-wIndicators-StandardScaled.feather'\n",
    "X_train = pd.read_feather(datapath/X_source) \n",
    "y_train = load(datapath/'y.joblib')    \n",
    "# X.index.name = 'id'\n",
    "# y.index.name = 'id'\n",
    "X = np.array(X_train)\n",
    "y = np.array(y_train)\n",
    "\n",
    "del X_train, y_train"
   ]
  },
  {
   "cell_type": "code",
   "execution_count": 12,
   "id": "8330d84d-3c72-4cca-b95a-739712014dd3",
   "metadata": {
    "id": "8330d84d-3c72-4cca-b95a-739712014dd3"
   },
   "outputs": [],
   "source": [
    "exmodel_config['feature_count'] = X.shape[1]\n",
    "exmodel_config['feature_generator'] = \"Summary statistics\"\n",
    "exmodel_config['X_source'] = X_source"
   ]
  },
  {
   "cell_type": "markdown",
   "id": "431d37db-558d-474d-9eca-ce2d38b7636f",
   "metadata": {
    "id": "431d37db-558d-474d-9eca-ce2d38b7636f"
   },
   "source": [
    "# Experiment setup"
   ]
  },
  {
   "cell_type": "code",
   "execution_count": 13,
   "id": "69ff4abf-560b-450e-a7a5-040878b66565",
   "metadata": {
    "id": "69ff4abf-560b-450e-a7a5-040878b66565"
   },
   "outputs": [],
   "source": [
    "# wandb_kwargs = {\n",
    "#     # wandb config:\n",
    "#     'name': f\"{os.environ['WANDB_NOTEBOOK_NAME'][:-6]}_{datetime.now().strftime('%H%M%S')}\", # just removes the .ipynb extension, leaving the notebook filename's stem\n",
    "#     'project': '202109_Kaggle_tabular_playground',\n",
    "#     'tags': ['sweep'],\n",
    "#     'notes': \"Sweep for CatBoost using Optuna\",\n",
    "#     'config': exmodel_config,\n",
    "# }"
   ]
  },
  {
   "cell_type": "code",
   "execution_count": 14,
   "id": "1d93b6f2-2d65-48a9-9862-510bd7d2b75b",
   "metadata": {
    "id": "1d93b6f2-2d65-48a9-9862-510bd7d2b75b"
   },
   "outputs": [],
   "source": [
    "# originally from https://www.kaggle.com/satorushibata/optimize-catboost-hyperparameter-with-optuna-gpu\n",
    "def objective(trial):\n",
    "    # split the (original Kaggle training) data into partitions\n",
    "    # if study.best_trial:\n",
    "    #     print(\"Dumping best params, which are:\")\n",
    "    #     print(str(study.best_trial.params))\n",
    "    #     dump(study.best_trial.params, filename=datapath/'optuna_catboost_best_20210920.joblib')\n",
    "       \n",
    "    # else:\n",
    "    #     print(\"No best study yet\")\n",
    "    X_train, X_valid, y_train, y_valid = train_test_split(X, y, test_size=0.33, random_state=int(SEED), shuffle=True)\n",
    "    # create wrappers for the training and validation partitions\n",
    "    # train_pool = catboost.Pool(X_train, y_train)\n",
    "    # valid_pool = catboost.Pool(X_valid, y_valid)\n",
    "    \n",
    "    # experimental parameters\n",
    "    params = {\n",
    "        'n_estimators': trial.suggest_int('n_estimators', 900, 4500),\n",
    "        'max_depth' : trial.suggest_int('depth', 3, 12),                                       \n",
    "        'learning_rate' : trial.suggest_loguniform('learning_rate', 0.001, 0.4),               \n",
    "        'reg_alpha': trial.suggest_loguniform('reg_alpha', 0.001, 30),\n",
    "        'reg_lambda': trial.suggest_loguniform('reg_lambda', 0.001, 30),\n",
    "        'subsample': trial.suggest_uniform('subsample', 0.5, 1), # aka bagging_fraction\n",
    "        'boosting_type': trial.suggest_categorical('boosting_type', ['gbdt', 'dart', 'goss']),\n",
    "        'min_child_samples': trial.suggest_int('min_child_samples', 4, 75),\n",
    "        'num_leaves': trial.suggest_int('num_leaves', 50, 250),\n",
    "        'colsample_bytree': trial.suggest_uniform('colsample_bytree', 0.5, 1), # aka feature_fraction\n",
    "    }  \n",
    "\n",
    "    # instantiate the model, with some parameters locked in, and experimnental ones passed via splat \n",
    "    model = LGBMClassifier(\n",
    "        objective='binary',\n",
    "        random_state=SEED,\n",
    "        n_jobs=-1,\n",
    "        eval_metric='auc',\n",
    "        device_type='cpu',\n",
    "#         max_bin=63,\n",
    "        **params\n",
    "    )       \n",
    "\n",
    "    model.fit(X_train, y_train)\n",
    "    # generate predictions\n",
    "    preds = model.predict_proba(X_valid)[:,1]\n",
    "    # rounds to the nearest integer, and the nearest even in case of _.5s\n",
    "\n",
    "    # Evaluation\n",
    "    valid_auc = roc_auc_score(y_valid, preds)\n",
    "    print('ROC AUC Score of XGBoost =', valid_auc)\n",
    "    wandb.log({'valid_auc': valid_auc,\n",
    "              })\n",
    "\n",
    "    return valid_auc"
   ]
  },
  {
   "cell_type": "code",
   "execution_count": 15,
   "id": "0e85f589-1507-4b75-80d9-8b062970102f",
   "metadata": {
    "colab": {
     "base_uri": "https://localhost:8080/",
     "height": 285
    },
    "id": "0e85f589-1507-4b75-80d9-8b062970102f",
    "outputId": "6a01a1a1-8060-429d-9a47-670cbc0435d2",
    "tags": []
   },
   "outputs": [
    {
     "name": "stderr",
     "output_type": "stream",
     "text": [
      "<ipython-input-15-69ea9289a2cf>:1: ExperimentalWarning: WeightsAndBiasesCallback is experimental (supported from v2.9.0). The interface can change in the future.\n",
      "  wandbc = WeightsAndBiasesCallback(wandb_kwargs=wandb_kwargs)\n",
      "\u001b[34m\u001b[1mwandb\u001b[0m: Currently logged in as: \u001b[33mhushifang\u001b[0m (use `wandb login --relogin` to force relogin)\n"
     ]
    },
    {
     "data": {
      "text/html": [
       "\n",
       "                Tracking run with wandb version 0.12.2<br/>\n",
       "                Syncing run <strong style=\"color:#cdcd00\">sweep_lightgbm_20210923_053717</strong> to <a href=\"https://wandb.ai\" target=\"_blank\">Weights & Biases</a> <a href=\"https://docs.wandb.com/integrations/jupyter.html\" target=\"_blank\">(Documentation)</a>.<br/>\n",
       "                Project page: <a href=\"https://wandb.ai/hushifang/202109_Kaggle_tabular_playground\" target=\"_blank\">https://wandb.ai/hushifang/202109_Kaggle_tabular_playground</a><br/>\n",
       "                Run page: <a href=\"https://wandb.ai/hushifang/202109_Kaggle_tabular_playground/runs/1rqlkktl\" target=\"_blank\">https://wandb.ai/hushifang/202109_Kaggle_tabular_playground/runs/1rqlkktl</a><br/>\n",
       "                Run data is saved locally in <code>/home/sf/Dropbox/code_cloud/python_code/kaggle/tabular_playgrounds/sep2021/wandb/run-20210923_053735-1rqlkktl</code><br/><br/>\n",
       "            "
      ],
      "text/plain": [
       "<IPython.core.display.HTML object>"
      ]
     },
     "metadata": {},
     "output_type": "display_data"
    }
   ],
   "source": [
    "wandbc = WeightsAndBiasesCallback(wandb_kwargs=wandb_kwargs)"
   ]
  },
  {
   "cell_type": "code",
   "execution_count": 16,
   "id": "ab6749b1-dd7d-4789-b0e2-8491d78fe89b",
   "metadata": {
    "id": "ab6749b1-dd7d-4789-b0e2-8491d78fe89b",
    "tags": []
   },
   "outputs": [
    {
     "name": "stderr",
     "output_type": "stream",
     "text": [
      "\u001b[32m[I 2021-09-23 05:37:41,320]\u001b[0m A new study created in memory with name: lightgbm_20210922\u001b[0m\n"
     ]
    }
   ],
   "source": [
    "study = optuna.create_study(direction = \"maximize\", \n",
    "                            sampler = TPESampler(seed=int(SEED)), \n",
    "                            study_name='lightgbm_20210922')\n",
    "\n",
    "# study = load(datapath/f'optuna_lightgbm_study_5trials_20210922.joblib')\n"
   ]
  },
  {
   "cell_type": "code",
   "execution_count": 17,
   "id": "F1cSVFH9gkW_",
   "metadata": {
    "colab": {
     "base_uri": "https://localhost:8080/"
    },
    "id": "F1cSVFH9gkW_",
    "outputId": "ccc874e6-7dd4-4e24-bec8-35ae48180b40"
   },
   "outputs": [
    {
     "name": "stdout",
     "output_type": "stream",
     "text": [
      "[LightGBM] [Warning] Unknown parameter: eval_metric\n"
     ]
    },
    {
     "name": "stderr",
     "output_type": "stream",
     "text": [
      "\u001b[32m[I 2021-09-23 05:49:06,766]\u001b[0m Trial 0 finished with value: 0.8109411190089265 and parameters: {'n_estimators': 2248, 'depth': 12, 'learning_rate': 0.0802956743641955, 'reg_alpha': 0.4789240251631179, 'reg_lambda': 0.004994757081068292, 'subsample': 0.5779972601681014, 'boosting_type': 'dart', 'min_child_samples': 54, 'num_leaves': 54, 'colsample_bytree': 0.9849549260809971}. Best is trial 0 with value: 0.8109411190089265.\u001b[0m\n",
      "\u001b[34m\u001b[1mwandb\u001b[0m: \u001b[33mWARNING\u001b[0m Step must only increase in log calls.  Step 0 < 1; dropping {'n_estimators': 2248, 'depth': 12, 'learning_rate': 0.0802956743641955, 'reg_alpha': 0.4789240251631179, 'reg_lambda': 0.004994757081068292, 'subsample': 0.5779972601681014, 'boosting_type': 'dart', 'min_child_samples': 54, 'num_leaves': 54, 'colsample_bytree': 0.9849549260809971, 'value': 0.8109411190089265}.\n"
     ]
    },
    {
     "name": "stdout",
     "output_type": "stream",
     "text": [
      "ROC AUC Score of XGBoost = 0.8109411190089265\n",
      "[LightGBM] [Warning] Unknown parameter: eval_metric\n"
     ]
    },
    {
     "name": "stderr",
     "output_type": "stream",
     "text": [
      "\u001b[32m[I 2021-09-23 05:51:26,485]\u001b[0m Trial 1 finished with value: 0.8132354513292246 and parameters: {'n_estimators': 3897, 'depth': 5, 'learning_rate': 0.002972483637079397, 'reg_alpha': 0.0066240595682091315, 'reg_lambda': 0.023021277110080198, 'subsample': 0.762378215816119, 'boosting_type': 'goss', 'min_child_samples': 14, 'num_leaves': 108, 'colsample_bytree': 0.6831809216468459}. Best is trial 1 with value: 0.8132354513292246.\u001b[0m\n",
      "\u001b[34m\u001b[1mwandb\u001b[0m: \u001b[33mWARNING\u001b[0m Step must only increase in log calls.  Step 1 < 2; dropping {'n_estimators': 3897, 'depth': 5, 'learning_rate': 0.002972483637079397, 'reg_alpha': 0.0066240595682091315, 'reg_lambda': 0.023021277110080198, 'subsample': 0.762378215816119, 'boosting_type': 'goss', 'min_child_samples': 14, 'num_leaves': 108, 'colsample_bytree': 0.6831809216468459, 'value': 0.8132354513292246}.\n"
     ]
    },
    {
     "name": "stdout",
     "output_type": "stream",
     "text": [
      "ROC AUC Score of XGBoost = 0.8132354513292246\n",
      "[LightGBM] [Warning] Unknown parameter: eval_metric\n"
     ]
    },
    {
     "name": "stderr",
     "output_type": "stream",
     "text": [
      "\u001b[32m[I 2021-09-23 06:00:33,535]\u001b[0m Trial 2 finished with value: 0.8130550071111211 and parameters: {'n_estimators': 2542, 'depth': 10, 'learning_rate': 0.003307982168695265, 'reg_alpha': 0.20058106556780586, 'reg_lambda': 0.4490677404109781, 'subsample': 0.5232252063599989, 'boosting_type': 'gbdt', 'min_child_samples': 72, 'num_leaves': 244, 'colsample_bytree': 0.9041986740582306}. Best is trial 1 with value: 0.8132354513292246.\u001b[0m\n",
      "\u001b[34m\u001b[1mwandb\u001b[0m: \u001b[33mWARNING\u001b[0m Step must only increase in log calls.  Step 2 < 3; dropping {'n_estimators': 2542, 'depth': 10, 'learning_rate': 0.003307982168695265, 'reg_alpha': 0.20058106556780586, 'reg_lambda': 0.4490677404109781, 'subsample': 0.5232252063599989, 'boosting_type': 'gbdt', 'min_child_samples': 72, 'num_leaves': 244, 'colsample_bytree': 0.9041986740582306, 'value': 0.8130550071111211}.\n"
     ]
    },
    {
     "name": "stdout",
     "output_type": "stream",
     "text": [
      "ROC AUC Score of XGBoost = 0.8130550071111211\n",
      "[LightGBM] [Warning] Unknown parameter: eval_metric\n"
     ]
    },
    {
     "name": "stderr",
     "output_type": "stream",
     "text": [
      "\u001b[32m[I 2021-09-23 06:05:26,893]\u001b[0m Trial 3 finished with value: 0.8123773749812568 and parameters: {'n_estimators': 1996, 'depth': 3, 'learning_rate': 0.06031361827702156, 'reg_alpha': 0.09345791438428568, 'reg_lambda': 0.0035186816415472676, 'subsample': 0.7475884550556351, 'boosting_type': 'dart', 'min_child_samples': 51, 'num_leaves': 112, 'colsample_bytree': 0.7600340105889054}. Best is trial 1 with value: 0.8132354513292246.\u001b[0m\n",
      "\u001b[34m\u001b[1mwandb\u001b[0m: \u001b[33mWARNING\u001b[0m Step must only increase in log calls.  Step 3 < 4; dropping {'n_estimators': 1996, 'depth': 3, 'learning_rate': 0.06031361827702156, 'reg_alpha': 0.09345791438428568, 'reg_lambda': 0.0035186816415472676, 'subsample': 0.7475884550556351, 'boosting_type': 'dart', 'min_child_samples': 51, 'num_leaves': 112, 'colsample_bytree': 0.7600340105889054, 'value': 0.8123773749812568}.\n"
     ]
    },
    {
     "name": "stdout",
     "output_type": "stream",
     "text": [
      "ROC AUC Score of XGBoost = 0.8123773749812568\n",
      "[LightGBM] [Warning] Unknown parameter: eval_metric\n"
     ]
    },
    {
     "name": "stderr",
     "output_type": "stream",
     "text": [
      "\u001b[32m[I 2021-09-23 06:12:33,315]\u001b[0m Trial 4 finished with value: 0.8103583447917344 and parameters: {'n_estimators': 2868, 'depth': 4, 'learning_rate': 0.3333629787709382, 'reg_alpha': 2.953681335681259, 'reg_lambda': 16.078690668199, 'subsample': 0.9474136752138245, 'boosting_type': 'dart', 'min_child_samples': 18, 'num_leaves': 59, 'colsample_bytree': 0.6626651653816322}. Best is trial 1 with value: 0.8132354513292246.\u001b[0m\n",
      "\u001b[34m\u001b[1mwandb\u001b[0m: \u001b[33mWARNING\u001b[0m Step must only increase in log calls.  Step 4 < 5; dropping {'n_estimators': 2868, 'depth': 4, 'learning_rate': 0.3333629787709382, 'reg_alpha': 2.953681335681259, 'reg_lambda': 16.078690668199, 'subsample': 0.9474136752138245, 'boosting_type': 'dart', 'min_child_samples': 18, 'num_leaves': 59, 'colsample_bytree': 0.6626651653816322, 'value': 0.8103583447917344}.\n"
     ]
    },
    {
     "name": "stdout",
     "output_type": "stream",
     "text": [
      "ROC AUC Score of XGBoost = 0.8103583447917344\n",
      "5 trials complete\n",
      "[LightGBM] [Warning] Unknown parameter: eval_metric\n"
     ]
    },
    {
     "name": "stderr",
     "output_type": "stream",
     "text": [
      "\u001b[32m[I 2021-09-23 06:20:34,139]\u001b[0m Trial 5 finished with value: 0.8126073824703403 and parameters: {'n_estimators': 2299, 'depth': 5, 'learning_rate': 0.14335891845548843, 'reg_alpha': 0.039557414824905594, 'reg_lambda': 0.018104138546410155, 'subsample': 0.7713480415791243, 'boosting_type': 'dart', 'min_child_samples': 75, 'num_leaves': 205, 'colsample_bytree': 0.5993578407670862}. Best is trial 1 with value: 0.8132354513292246.\u001b[0m\n",
      "\u001b[34m\u001b[1mwandb\u001b[0m: \u001b[33mWARNING\u001b[0m Step must only increase in log calls.  Step 5 < 6; dropping {'n_estimators': 2299, 'depth': 5, 'learning_rate': 0.14335891845548843, 'reg_alpha': 0.039557414824905594, 'reg_lambda': 0.018104138546410155, 'subsample': 0.7713480415791243, 'boosting_type': 'dart', 'min_child_samples': 75, 'num_leaves': 205, 'colsample_bytree': 0.5993578407670862, 'value': 0.8126073824703403}.\n"
     ]
    },
    {
     "name": "stdout",
     "output_type": "stream",
     "text": [
      "ROC AUC Score of XGBoost = 0.8126073824703403\n",
      "[LightGBM] [Warning] Unknown parameter: eval_metric\n"
     ]
    },
    {
     "name": "stderr",
     "output_type": "stream",
     "text": [
      "\u001b[32m[I 2021-09-23 06:21:39,916]\u001b[0m Trial 6 finished with value: 0.8044614976683523 and parameters: {'n_estimators': 919, 'depth': 11, 'learning_rate': 0.06906932535689181, 'reg_alpha': 1.8359188752396374, 'reg_lambda': 2.838382119353614, 'subsample': 0.5370223258670452, 'boosting_type': 'goss', 'min_child_samples': 48, 'num_leaves': 116, 'colsample_bytree': 0.5317791751430119}. Best is trial 1 with value: 0.8132354513292246.\u001b[0m\n",
      "\u001b[34m\u001b[1mwandb\u001b[0m: \u001b[33mWARNING\u001b[0m Step must only increase in log calls.  Step 6 < 7; dropping {'n_estimators': 919, 'depth': 11, 'learning_rate': 0.06906932535689181, 'reg_alpha': 1.8359188752396374, 'reg_lambda': 2.838382119353614, 'subsample': 0.5370223258670452, 'boosting_type': 'goss', 'min_child_samples': 48, 'num_leaves': 116, 'colsample_bytree': 0.5317791751430119, 'value': 0.8044614976683523}.\n"
     ]
    },
    {
     "name": "stdout",
     "output_type": "stream",
     "text": [
      "ROC AUC Score of XGBoost = 0.8044614976683523\n",
      "[LightGBM] [Warning] Unknown parameter: eval_metric\n"
     ]
    },
    {
     "name": "stderr",
     "output_type": "stream",
     "text": [
      "\u001b[32m[I 2021-09-23 06:23:00,972]\u001b[0m Trial 7 finished with value: 0.8043960772297594 and parameters: {'n_estimators': 2019, 'depth': 6, 'learning_rate': 0.07915512627905745, 'reg_alpha': 0.715191107817528, 'reg_lambda': 9.37905380401463, 'subsample': 0.7361074625809747, 'boosting_type': 'goss', 'min_child_samples': 44, 'num_leaves': 204, 'colsample_bytree': 0.7468977981821954}. Best is trial 1 with value: 0.8132354513292246.\u001b[0m\n",
      "\u001b[34m\u001b[1mwandb\u001b[0m: \u001b[33mWARNING\u001b[0m Step must only increase in log calls.  Step 7 < 8; dropping {'n_estimators': 2019, 'depth': 6, 'learning_rate': 0.07915512627905745, 'reg_alpha': 0.715191107817528, 'reg_lambda': 9.37905380401463, 'subsample': 0.7361074625809747, 'boosting_type': 'goss', 'min_child_samples': 44, 'num_leaves': 204, 'colsample_bytree': 0.7468977981821954, 'value': 0.8043960772297594}.\n"
     ]
    },
    {
     "name": "stdout",
     "output_type": "stream",
     "text": [
      "ROC AUC Score of XGBoost = 0.8043960772297594\n",
      "[LightGBM] [Warning] Unknown parameter: eval_metric\n"
     ]
    },
    {
     "name": "stderr",
     "output_type": "stream",
     "text": [
      "\u001b[32m[I 2021-09-23 06:26:38,121]\u001b[0m Trial 8 finished with value: 0.8104377949525725 and parameters: {'n_estimators': 2782, 'depth': 7, 'learning_rate': 0.0011645069711410827, 'reg_alpha': 0.0030411861290916427, 'reg_lambda': 0.0013826500550053445, 'subsample': 0.8182052056318903, 'boosting_type': 'goss', 'min_child_samples': 21, 'num_leaves': 132, 'colsample_bytree': 0.8777755692715243}. Best is trial 1 with value: 0.8132354513292246.\u001b[0m\n",
      "\u001b[34m\u001b[1mwandb\u001b[0m: \u001b[33mWARNING\u001b[0m Step must only increase in log calls.  Step 8 < 9; dropping {'n_estimators': 2782, 'depth': 7, 'learning_rate': 0.0011645069711410827, 'reg_alpha': 0.0030411861290916427, 'reg_lambda': 0.0013826500550053445, 'subsample': 0.8182052056318903, 'boosting_type': 'goss', 'min_child_samples': 21, 'num_leaves': 132, 'colsample_bytree': 0.8777755692715243, 'value': 0.8104377949525725}.\n"
     ]
    },
    {
     "name": "stdout",
     "output_type": "stream",
     "text": [
      "ROC AUC Score of XGBoost = 0.8104377949525725\n",
      "[LightGBM] [Warning] Unknown parameter: eval_metric\n"
     ]
    },
    {
     "name": "stderr",
     "output_type": "stream",
     "text": [
      "\u001b[32m[I 2021-09-23 06:29:36,875]\u001b[0m Trial 9 finished with value: 0.8043104238542168 and parameters: {'n_estimators': 1723, 'depth': 3, 'learning_rate': 0.005674801345779974, 'reg_alpha': 0.005269959187361842, 'reg_lambda': 14.533463349735559, 'subsample': 0.9040601897822085, 'boosting_type': 'dart', 'min_child_samples': 17, 'num_leaves': 229, 'colsample_bytree': 0.7696711209578253}. Best is trial 1 with value: 0.8132354513292246.\u001b[0m\n",
      "\u001b[34m\u001b[1mwandb\u001b[0m: \u001b[33mWARNING\u001b[0m Step must only increase in log calls.  Step 9 < 10; dropping {'n_estimators': 1723, 'depth': 3, 'learning_rate': 0.005674801345779974, 'reg_alpha': 0.005269959187361842, 'reg_lambda': 14.533463349735559, 'subsample': 0.9040601897822085, 'boosting_type': 'dart', 'min_child_samples': 17, 'num_leaves': 229, 'colsample_bytree': 0.7696711209578253, 'value': 0.8043104238542168}.\n"
     ]
    },
    {
     "name": "stdout",
     "output_type": "stream",
     "text": [
      "ROC AUC Score of XGBoost = 0.8043104238542168\n",
      "10 trials complete\n",
      "[LightGBM] [Warning] Unknown parameter: eval_metric\n"
     ]
    },
    {
     "name": "stderr",
     "output_type": "stream",
     "text": [
      "\u001b[32m[I 2021-09-23 06:37:57,448]\u001b[0m Trial 10 finished with value: 0.8152310287561186 and parameters: {'n_estimators': 4296, 'depth': 9, 'learning_rate': 0.013146994020643898, 'reg_alpha': 14.927150287453346, 'reg_lambda': 0.060027906631665434, 'subsample': 0.650282411524673, 'boosting_type': 'gbdt', 'min_child_samples': 4, 'num_leaves': 164, 'colsample_bytree': 0.5061555847824689}. Best is trial 10 with value: 0.8152310287561186.\u001b[0m\n",
      "\u001b[34m\u001b[1mwandb\u001b[0m: \u001b[33mWARNING\u001b[0m Step must only increase in log calls.  Step 10 < 11; dropping {'n_estimators': 4296, 'depth': 9, 'learning_rate': 0.013146994020643898, 'reg_alpha': 14.927150287453346, 'reg_lambda': 0.060027906631665434, 'subsample': 0.650282411524673, 'boosting_type': 'gbdt', 'min_child_samples': 4, 'num_leaves': 164, 'colsample_bytree': 0.5061555847824689, 'value': 0.8152310287561186}.\n"
     ]
    },
    {
     "name": "stdout",
     "output_type": "stream",
     "text": [
      "ROC AUC Score of XGBoost = 0.8152310287561186\n",
      "[LightGBM] [Warning] Unknown parameter: eval_metric\n"
     ]
    },
    {
     "name": "stderr",
     "output_type": "stream",
     "text": [
      "\u001b[32m[I 2021-09-23 06:48:37,499]\u001b[0m Trial 11 finished with value: 0.8147020969270298 and parameters: {'n_estimators': 4380, 'depth': 9, 'learning_rate': 0.013670896348907332, 'reg_alpha': 9.7063443785187, 'reg_lambda': 0.05768852026747195, 'subsample': 0.659143125062404, 'boosting_type': 'gbdt', 'min_child_samples': 4, 'num_leaves': 165, 'colsample_bytree': 0.5024954066104743}. Best is trial 10 with value: 0.8152310287561186.\u001b[0m\n",
      "\u001b[34m\u001b[1mwandb\u001b[0m: \u001b[33mWARNING\u001b[0m Step must only increase in log calls.  Step 11 < 12; dropping {'n_estimators': 4380, 'depth': 9, 'learning_rate': 0.013670896348907332, 'reg_alpha': 9.7063443785187, 'reg_lambda': 0.05768852026747195, 'subsample': 0.659143125062404, 'boosting_type': 'gbdt', 'min_child_samples': 4, 'num_leaves': 165, 'colsample_bytree': 0.5024954066104743, 'value': 0.8147020969270298}.\n"
     ]
    },
    {
     "name": "stdout",
     "output_type": "stream",
     "text": [
      "ROC AUC Score of XGBoost = 0.8147020969270298\n",
      "[LightGBM] [Warning] Unknown parameter: eval_metric\n"
     ]
    },
    {
     "name": "stderr",
     "output_type": "stream",
     "text": [
      "\u001b[32m[I 2021-09-23 06:59:56,835]\u001b[0m Trial 12 finished with value: 0.8145904386220185 and parameters: {'n_estimators': 4394, 'depth': 9, 'learning_rate': 0.016580556306530374, 'reg_alpha': 16.60428022989559, 'reg_lambda': 0.14834757978345897, 'subsample': 0.6394987085406625, 'boosting_type': 'gbdt', 'min_child_samples': 5, 'num_leaves': 168, 'colsample_bytree': 0.5014758171629863}. Best is trial 10 with value: 0.8152310287561186.\u001b[0m\n",
      "\u001b[34m\u001b[1mwandb\u001b[0m: \u001b[33mWARNING\u001b[0m Step must only increase in log calls.  Step 12 < 13; dropping {'n_estimators': 4394, 'depth': 9, 'learning_rate': 0.016580556306530374, 'reg_alpha': 16.60428022989559, 'reg_lambda': 0.14834757978345897, 'subsample': 0.6394987085406625, 'boosting_type': 'gbdt', 'min_child_samples': 5, 'num_leaves': 168, 'colsample_bytree': 0.5014758171629863, 'value': 0.8145904386220185}.\n"
     ]
    },
    {
     "name": "stdout",
     "output_type": "stream",
     "text": [
      "ROC AUC Score of XGBoost = 0.8145904386220185\n",
      "[LightGBM] [Warning] Unknown parameter: eval_metric\n"
     ]
    },
    {
     "name": "stderr",
     "output_type": "stream",
     "text": [
      "\u001b[32m[I 2021-09-23 07:08:00,025]\u001b[0m Trial 13 finished with value: 0.8150837572828855 and parameters: {'n_estimators': 3631, 'depth': 8, 'learning_rate': 0.016475802815567774, 'reg_alpha': 29.294526487900082, 'reg_lambda': 0.1260044241770458, 'subsample': 0.6550186135528008, 'boosting_type': 'gbdt', 'min_child_samples': 4, 'num_leaves': 167, 'colsample_bytree': 0.5647970910674268}. Best is trial 10 with value: 0.8152310287561186.\u001b[0m\n",
      "\u001b[34m\u001b[1mwandb\u001b[0m: \u001b[33mWARNING\u001b[0m Step must only increase in log calls.  Step 13 < 14; dropping {'n_estimators': 3631, 'depth': 8, 'learning_rate': 0.016475802815567774, 'reg_alpha': 29.294526487900082, 'reg_lambda': 0.1260044241770458, 'subsample': 0.6550186135528008, 'boosting_type': 'gbdt', 'min_child_samples': 4, 'num_leaves': 167, 'colsample_bytree': 0.5647970910674268, 'value': 0.8150837572828855}.\n"
     ]
    },
    {
     "name": "stdout",
     "output_type": "stream",
     "text": [
      "ROC AUC Score of XGBoost = 0.8150837572828855\n",
      "[LightGBM] [Warning] Unknown parameter: eval_metric\n"
     ]
    },
    {
     "name": "stderr",
     "output_type": "stream",
     "text": [
      "\u001b[32m[I 2021-09-23 07:15:11,779]\u001b[0m Trial 14 finished with value: 0.8136765937268259 and parameters: {'n_estimators': 3597, 'depth': 8, 'learning_rate': 0.028446408092945765, 'reg_alpha': 28.43385875316184, 'reg_lambda': 0.9639028133940841, 'subsample': 0.6531935324498377, 'boosting_type': 'gbdt', 'min_child_samples': 30, 'num_leaves': 186, 'colsample_bytree': 0.5905972980483933}. Best is trial 10 with value: 0.8152310287561186.\u001b[0m\n",
      "\u001b[34m\u001b[1mwandb\u001b[0m: \u001b[33mWARNING\u001b[0m Step must only increase in log calls.  Step 14 < 15; dropping {'n_estimators': 3597, 'depth': 8, 'learning_rate': 0.028446408092945765, 'reg_alpha': 28.43385875316184, 'reg_lambda': 0.9639028133940841, 'subsample': 0.6531935324498377, 'boosting_type': 'gbdt', 'min_child_samples': 30, 'num_leaves': 186, 'colsample_bytree': 0.5905972980483933, 'value': 0.8136765937268259}.\n"
     ]
    },
    {
     "name": "stdout",
     "output_type": "stream",
     "text": [
      "ROC AUC Score of XGBoost = 0.8136765937268259\n",
      "15 trials complete\n",
      "[LightGBM] [Warning] Unknown parameter: eval_metric\n"
     ]
    },
    {
     "name": "stderr",
     "output_type": "stream",
     "text": [
      "\u001b[32m[I 2021-09-23 07:21:36,697]\u001b[0m Trial 15 finished with value: 0.814993070286495 and parameters: {'n_estimators': 3466, 'depth': 8, 'learning_rate': 0.010119976084128488, 'reg_alpha': 5.162661397711135, 'reg_lambda': 0.1601045105396843, 'subsample': 0.610558729370589, 'boosting_type': 'gbdt', 'min_child_samples': 29, 'num_leaves': 146, 'colsample_bytree': 0.5861438988850267}. Best is trial 10 with value: 0.8152310287561186.\u001b[0m\n",
      "\u001b[34m\u001b[1mwandb\u001b[0m: \u001b[33mWARNING\u001b[0m Step must only increase in log calls.  Step 15 < 16; dropping {'n_estimators': 3466, 'depth': 8, 'learning_rate': 0.010119976084128488, 'reg_alpha': 5.162661397711135, 'reg_lambda': 0.1601045105396843, 'subsample': 0.610558729370589, 'boosting_type': 'gbdt', 'min_child_samples': 29, 'num_leaves': 146, 'colsample_bytree': 0.5861438988850267, 'value': 0.814993070286495}.\n"
     ]
    },
    {
     "name": "stdout",
     "output_type": "stream",
     "text": [
      "ROC AUC Score of XGBoost = 0.814993070286495\n",
      "[LightGBM] [Warning] Unknown parameter: eval_metric\n"
     ]
    },
    {
     "name": "stderr",
     "output_type": "stream",
     "text": [
      "\u001b[32m[I 2021-09-23 07:27:34,393]\u001b[0m Trial 16 finished with value: 0.8139733282307049 and parameters: {'n_estimators': 3266, 'depth': 10, 'learning_rate': 0.032219069785396424, 'reg_alpha': 27.080546923262805, 'reg_lambda': 0.631703656793269, 'subsample': 0.7152260414518053, 'boosting_type': 'gbdt', 'min_child_samples': 33, 'num_leaves': 91, 'colsample_bytree': 0.6601698676289585}. Best is trial 10 with value: 0.8152310287561186.\u001b[0m\n",
      "\u001b[34m\u001b[1mwandb\u001b[0m: \u001b[33mWARNING\u001b[0m Step must only increase in log calls.  Step 16 < 17; dropping {'n_estimators': 3266, 'depth': 10, 'learning_rate': 0.032219069785396424, 'reg_alpha': 27.080546923262805, 'reg_lambda': 0.631703656793269, 'subsample': 0.7152260414518053, 'boosting_type': 'gbdt', 'min_child_samples': 33, 'num_leaves': 91, 'colsample_bytree': 0.6601698676289585, 'value': 0.8139733282307049}.\n"
     ]
    },
    {
     "name": "stdout",
     "output_type": "stream",
     "text": [
      "ROC AUC Score of XGBoost = 0.8139733282307049\n",
      "[LightGBM] [Warning] Unknown parameter: eval_metric\n"
     ]
    },
    {
     "name": "stderr",
     "output_type": "stream",
     "text": [
      "\u001b[32m[I 2021-09-23 07:34:41,644]\u001b[0m Trial 17 finished with value: 0.814784956755386 and parameters: {'n_estimators': 4030, 'depth': 7, 'learning_rate': 0.005808401416914259, 'reg_alpha': 1.3660854168362042, 'reg_lambda': 0.03984202321271438, 'subsample': 0.8363798754988963, 'boosting_type': 'gbdt', 'min_child_samples': 9, 'num_leaves': 181, 'colsample_bytree': 0.5607128538634181}. Best is trial 10 with value: 0.8152310287561186.\u001b[0m\n",
      "\u001b[34m\u001b[1mwandb\u001b[0m: \u001b[33mWARNING\u001b[0m Step must only increase in log calls.  Step 17 < 18; dropping {'n_estimators': 4030, 'depth': 7, 'learning_rate': 0.005808401416914259, 'reg_alpha': 1.3660854168362042, 'reg_lambda': 0.03984202321271438, 'subsample': 0.8363798754988963, 'boosting_type': 'gbdt', 'min_child_samples': 9, 'num_leaves': 181, 'colsample_bytree': 0.5607128538634181, 'value': 0.814784956755386}.\n"
     ]
    },
    {
     "name": "stdout",
     "output_type": "stream",
     "text": [
      "ROC AUC Score of XGBoost = 0.814784956755386\n",
      "[LightGBM] [Warning] Unknown parameter: eval_metric\n"
     ]
    },
    {
     "name": "stderr",
     "output_type": "stream",
     "text": [
      "\u001b[32m[I 2021-09-23 07:42:19,273]\u001b[0m Trial 18 finished with value: 0.8126163076987853 and parameters: {'n_estimators': 3876, 'depth': 9, 'learning_rate': 0.030628330142560105, 'reg_alpha': 5.9993864159650645, 'reg_lambda': 0.009488630156757523, 'subsample': 0.6897497590842712, 'boosting_type': 'gbdt', 'min_child_samples': 62, 'num_leaves': 145, 'colsample_bytree': 0.6285849284333573}. Best is trial 10 with value: 0.8152310287561186.\u001b[0m\n",
      "\u001b[34m\u001b[1mwandb\u001b[0m: \u001b[33mWARNING\u001b[0m Step must only increase in log calls.  Step 18 < 19; dropping {'n_estimators': 3876, 'depth': 9, 'learning_rate': 0.030628330142560105, 'reg_alpha': 5.9993864159650645, 'reg_lambda': 0.009488630156757523, 'subsample': 0.6897497590842712, 'boosting_type': 'gbdt', 'min_child_samples': 62, 'num_leaves': 145, 'colsample_bytree': 0.6285849284333573, 'value': 0.8126163076987853}.\n"
     ]
    },
    {
     "name": "stdout",
     "output_type": "stream",
     "text": [
      "ROC AUC Score of XGBoost = 0.8126163076987853\n",
      "[LightGBM] [Warning] Unknown parameter: eval_metric\n"
     ]
    },
    {
     "name": "stderr",
     "output_type": "stream",
     "text": [
      "\u001b[32m[I 2021-09-23 07:49:06,741]\u001b[0m Trial 19 finished with value: 0.8144734211529314 and parameters: {'n_estimators': 3156, 'depth': 12, 'learning_rate': 0.007650049377416364, 'reg_alpha': 0.026614930787972578, 'reg_lambda': 0.10405086732081568, 'subsample': 0.5837072778789432, 'boosting_type': 'gbdt', 'min_child_samples': 24, 'num_leaves': 201, 'colsample_bytree': 0.7126823088369375}. Best is trial 10 with value: 0.8152310287561186.\u001b[0m\n",
      "\u001b[34m\u001b[1mwandb\u001b[0m: \u001b[33mWARNING\u001b[0m Step must only increase in log calls.  Step 19 < 20; dropping {'n_estimators': 3156, 'depth': 12, 'learning_rate': 0.007650049377416364, 'reg_alpha': 0.026614930787972578, 'reg_lambda': 0.10405086732081568, 'subsample': 0.5837072778789432, 'boosting_type': 'gbdt', 'min_child_samples': 24, 'num_leaves': 201, 'colsample_bytree': 0.7126823088369375, 'value': 0.8144734211529314}.\n"
     ]
    },
    {
     "name": "stdout",
     "output_type": "stream",
     "text": [
      "ROC AUC Score of XGBoost = 0.8144734211529314\n",
      "20 trials complete\n",
      "[LightGBM] [Warning] Unknown parameter: eval_metric\n"
     ]
    },
    {
     "name": "stderr",
     "output_type": "stream",
     "text": [
      "\u001b[32m[I 2021-09-23 07:53:29,020]\u001b[0m Trial 20 finished with value: 0.8110116138388287 and parameters: {'n_estimators': 4228, 'depth': 6, 'learning_rate': 0.0017589068586290903, 'reg_alpha': 9.830490064255892, 'reg_lambda': 2.2287583374364384, 'subsample': 0.8362173013322499, 'boosting_type': 'gbdt', 'min_child_samples': 37, 'num_leaves': 82, 'colsample_bytree': 0.5554186356630381}. Best is trial 10 with value: 0.8152310287561186.\u001b[0m\n",
      "\u001b[34m\u001b[1mwandb\u001b[0m: \u001b[33mWARNING\u001b[0m Step must only increase in log calls.  Step 20 < 21; dropping {'n_estimators': 4228, 'depth': 6, 'learning_rate': 0.0017589068586290903, 'reg_alpha': 9.830490064255892, 'reg_lambda': 2.2287583374364384, 'subsample': 0.8362173013322499, 'boosting_type': 'gbdt', 'min_child_samples': 37, 'num_leaves': 82, 'colsample_bytree': 0.5554186356630381, 'value': 0.8110116138388287}.\n"
     ]
    },
    {
     "name": "stdout",
     "output_type": "stream",
     "text": [
      "ROC AUC Score of XGBoost = 0.8110116138388287\n",
      "[LightGBM] [Warning] Unknown parameter: eval_metric\n"
     ]
    },
    {
     "name": "stderr",
     "output_type": "stream",
     "text": [
      "\u001b[32m[I 2021-09-23 08:00:39,496]\u001b[0m Trial 21 finished with value: 0.8150128553087874 and parameters: {'n_estimators': 3543, 'depth': 8, 'learning_rate': 0.010244962359992175, 'reg_alpha': 4.867818061585001, 'reg_lambda': 0.2708366569898743, 'subsample': 0.6044050108505046, 'boosting_type': 'gbdt', 'min_child_samples': 12, 'num_leaves': 146, 'colsample_bytree': 0.6117849689803644}. Best is trial 10 with value: 0.8152310287561186.\u001b[0m\n",
      "\u001b[34m\u001b[1mwandb\u001b[0m: \u001b[33mWARNING\u001b[0m Step must only increase in log calls.  Step 21 < 22; dropping {'n_estimators': 3543, 'depth': 8, 'learning_rate': 0.010244962359992175, 'reg_alpha': 4.867818061585001, 'reg_lambda': 0.2708366569898743, 'subsample': 0.6044050108505046, 'boosting_type': 'gbdt', 'min_child_samples': 12, 'num_leaves': 146, 'colsample_bytree': 0.6117849689803644, 'value': 0.8150128553087874}.\n"
     ]
    },
    {
     "name": "stdout",
     "output_type": "stream",
     "text": [
      "ROC AUC Score of XGBoost = 0.8150128553087874\n",
      "[LightGBM] [Warning] Unknown parameter: eval_metric\n"
     ]
    },
    {
     "name": "stderr",
     "output_type": "stream",
     "text": [
      "\u001b[32m[I 2021-09-23 08:06:47,821]\u001b[0m Trial 22 finished with value: 0.8141077485822792 and parameters: {'n_estimators': 3413, 'depth': 8, 'learning_rate': 0.01914105425750848, 'reg_alpha': 4.327784861498706, 'reg_lambda': 0.3059095471227339, 'subsample': 0.5719017394423589, 'boosting_type': 'gbdt', 'min_child_samples': 11, 'num_leaves': 156, 'colsample_bytree': 0.6243669366184729}. Best is trial 10 with value: 0.8152310287561186.\u001b[0m\n",
      "\u001b[34m\u001b[1mwandb\u001b[0m: \u001b[33mWARNING\u001b[0m Step must only increase in log calls.  Step 22 < 23; dropping {'n_estimators': 3413, 'depth': 8, 'learning_rate': 0.01914105425750848, 'reg_alpha': 4.327784861498706, 'reg_lambda': 0.3059095471227339, 'subsample': 0.5719017394423589, 'boosting_type': 'gbdt', 'min_child_samples': 11, 'num_leaves': 156, 'colsample_bytree': 0.6243669366184729, 'value': 0.8141077485822792}.\n"
     ]
    },
    {
     "name": "stdout",
     "output_type": "stream",
     "text": [
      "ROC AUC Score of XGBoost = 0.8141077485822792\n",
      "[LightGBM] [Warning] Unknown parameter: eval_metric\n"
     ]
    },
    {
     "name": "stderr",
     "output_type": "stream",
     "text": [
      "\u001b[32m[I 2021-09-23 08:15:10,785]\u001b[0m Trial 23 finished with value: 0.8151323078372185 and parameters: {'n_estimators': 3725, 'depth': 10, 'learning_rate': 0.011764553202969125, 'reg_alpha': 14.304749530372794, 'reg_lambda': 0.07404435526330139, 'subsample': 0.6904823969499871, 'boosting_type': 'gbdt', 'min_child_samples': 9, 'num_leaves': 128, 'colsample_bytree': 0.5473088831250538}. Best is trial 10 with value: 0.8152310287561186.\u001b[0m\n",
      "\u001b[34m\u001b[1mwandb\u001b[0m: \u001b[33mWARNING\u001b[0m Step must only increase in log calls.  Step 23 < 24; dropping {'n_estimators': 3725, 'depth': 10, 'learning_rate': 0.011764553202969125, 'reg_alpha': 14.304749530372794, 'reg_lambda': 0.07404435526330139, 'subsample': 0.6904823969499871, 'boosting_type': 'gbdt', 'min_child_samples': 9, 'num_leaves': 128, 'colsample_bytree': 0.5473088831250538, 'value': 0.8151323078372185}.\n"
     ]
    },
    {
     "name": "stdout",
     "output_type": "stream",
     "text": [
      "ROC AUC Score of XGBoost = 0.8151323078372185\n",
      "[LightGBM] [Warning] Unknown parameter: eval_metric\n"
     ]
    },
    {
     "name": "stderr",
     "output_type": "stream",
     "text": [
      "\u001b[32m[I 2021-09-23 08:24:19,982]\u001b[0m Trial 24 finished with value: 0.814751120434728 and parameters: {'n_estimators': 3809, 'depth': 10, 'learning_rate': 0.004463186879923906, 'reg_alpha': 11.470943473345589, 'reg_lambda': 0.06767773989441055, 'subsample': 0.6920028757573445, 'boosting_type': 'gbdt', 'min_child_samples': 4, 'num_leaves': 128, 'colsample_bytree': 0.5393966042477416}. Best is trial 10 with value: 0.8152310287561186.\u001b[0m\n",
      "\u001b[34m\u001b[1mwandb\u001b[0m: \u001b[33mWARNING\u001b[0m Step must only increase in log calls.  Step 24 < 25; dropping {'n_estimators': 3809, 'depth': 10, 'learning_rate': 0.004463186879923906, 'reg_alpha': 11.470943473345589, 'reg_lambda': 0.06767773989441055, 'subsample': 0.6920028757573445, 'boosting_type': 'gbdt', 'min_child_samples': 4, 'num_leaves': 128, 'colsample_bytree': 0.5393966042477416, 'value': 0.814751120434728}.\n"
     ]
    },
    {
     "name": "stdout",
     "output_type": "stream",
     "text": [
      "ROC AUC Score of XGBoost = 0.814751120434728\n",
      "25 trials complete\n",
      "[LightGBM] [Warning] Unknown parameter: eval_metric\n"
     ]
    },
    {
     "name": "stderr",
     "output_type": "stream",
     "text": [
      "\u001b[32m[I 2021-09-23 08:39:58,250]\u001b[0m Trial 25 finished with value: 0.81263141874894 and parameters: {'n_estimators': 4130, 'depth': 11, 'learning_rate': 0.024266426653377665, 'reg_alpha': 28.694349064041038, 'reg_lambda': 0.025173738232261125, 'subsample': 0.690159198305991, 'boosting_type': 'gbdt', 'min_child_samples': 23, 'num_leaves': 180, 'colsample_bytree': 0.821459231082915}. Best is trial 10 with value: 0.8152310287561186.\u001b[0m\n",
      "\u001b[34m\u001b[1mwandb\u001b[0m: \u001b[33mWARNING\u001b[0m Step must only increase in log calls.  Step 25 < 26; dropping {'n_estimators': 4130, 'depth': 11, 'learning_rate': 0.024266426653377665, 'reg_alpha': 28.694349064041038, 'reg_lambda': 0.025173738232261125, 'subsample': 0.690159198305991, 'boosting_type': 'gbdt', 'min_child_samples': 23, 'num_leaves': 180, 'colsample_bytree': 0.821459231082915, 'value': 0.81263141874894}.\n"
     ]
    },
    {
     "name": "stdout",
     "output_type": "stream",
     "text": [
      "ROC AUC Score of XGBoost = 0.81263141874894\n",
      "[LightGBM] [Warning] Unknown parameter: eval_metric\n"
     ]
    },
    {
     "name": "stderr",
     "output_type": "stream",
     "text": [
      "\u001b[32m[I 2021-09-23 08:44:23,830]\u001b[0m Trial 26 finished with value: 0.8101901532481627 and parameters: {'n_estimators': 3069, 'depth': 11, 'learning_rate': 0.04671729032555551, 'reg_alpha': 0.001164601239126006, 'reg_lambda': 0.011375216839085907, 'subsample': 0.7995197872145816, 'boosting_type': 'gbdt', 'min_child_samples': 10, 'num_leaves': 130, 'colsample_bytree': 0.5042037411144846}. Best is trial 10 with value: 0.8152310287561186.\u001b[0m\n",
      "\u001b[34m\u001b[1mwandb\u001b[0m: \u001b[33mWARNING\u001b[0m Step must only increase in log calls.  Step 26 < 27; dropping {'n_estimators': 3069, 'depth': 11, 'learning_rate': 0.04671729032555551, 'reg_alpha': 0.001164601239126006, 'reg_lambda': 0.011375216839085907, 'subsample': 0.7995197872145816, 'boosting_type': 'gbdt', 'min_child_samples': 10, 'num_leaves': 130, 'colsample_bytree': 0.5042037411144846, 'value': 0.8101901532481627}.\n"
     ]
    },
    {
     "name": "stdout",
     "output_type": "stream",
     "text": [
      "ROC AUC Score of XGBoost = 0.8101901532481627\n",
      "[LightGBM] [Warning] Unknown parameter: eval_metric\n"
     ]
    },
    {
     "name": "stderr",
     "output_type": "stream",
     "text": [
      "\u001b[32m[I 2021-09-23 08:49:09,652]\u001b[0m Trial 27 finished with value: 0.8148212852980968 and parameters: {'n_estimators': 3718, 'depth': 9, 'learning_rate': 0.010073378516546907, 'reg_alpha': 1.1407411965526941, 'reg_lambda': 0.08632574656645059, 'subsample': 0.6384155081474046, 'boosting_type': 'gbdt', 'min_child_samples': 17, 'num_leaves': 96, 'colsample_bytree': 0.5630155955687722}. Best is trial 10 with value: 0.8152310287561186.\u001b[0m\n",
      "\u001b[34m\u001b[1mwandb\u001b[0m: \u001b[33mWARNING\u001b[0m Step must only increase in log calls.  Step 27 < 28; dropping {'n_estimators': 3718, 'depth': 9, 'learning_rate': 0.010073378516546907, 'reg_alpha': 1.1407411965526941, 'reg_lambda': 0.08632574656645059, 'subsample': 0.6384155081474046, 'boosting_type': 'gbdt', 'min_child_samples': 17, 'num_leaves': 96, 'colsample_bytree': 0.5630155955687722, 'value': 0.8148212852980968}.\n"
     ]
    },
    {
     "name": "stdout",
     "output_type": "stream",
     "text": [
      "ROC AUC Score of XGBoost = 0.8148212852980968\n",
      "[LightGBM] [Warning] Unknown parameter: eval_metric\n"
     ]
    },
    {
     "name": "stderr",
     "output_type": "stream",
     "text": [
      "\u001b[32m[I 2021-09-23 08:58:51,311]\u001b[0m Trial 28 finished with value: 0.8143546769136955 and parameters: {'n_estimators': 4354, 'depth': 10, 'learning_rate': 0.014368014620575466, 'reg_alpha': 0.3831123847669165, 'reg_lambda': 1.2092205163840761, 'subsample': 0.546651296060422, 'boosting_type': 'gbdt', 'min_child_samples': 8, 'num_leaves': 164, 'colsample_bytree': 0.540671715933468}. Best is trial 10 with value: 0.8152310287561186.\u001b[0m\n",
      "\u001b[34m\u001b[1mwandb\u001b[0m: \u001b[33mWARNING\u001b[0m Step must only increase in log calls.  Step 28 < 29; dropping {'n_estimators': 4354, 'depth': 10, 'learning_rate': 0.014368014620575466, 'reg_alpha': 0.3831123847669165, 'reg_lambda': 1.2092205163840761, 'subsample': 0.546651296060422, 'boosting_type': 'gbdt', 'min_child_samples': 8, 'num_leaves': 164, 'colsample_bytree': 0.540671715933468, 'value': 0.8143546769136955}.\n"
     ]
    },
    {
     "name": "stdout",
     "output_type": "stream",
     "text": [
      "ROC AUC Score of XGBoost = 0.8143546769136955\n",
      "[LightGBM] [Warning] Unknown parameter: eval_metric\n"
     ]
    },
    {
     "name": "stderr",
     "output_type": "stream",
     "text": [
      "\u001b[32m[I 2021-09-23 09:06:34,055]\u001b[0m Trial 29 finished with value: 0.8019464078100311 and parameters: {'n_estimators': 3952, 'depth': 12, 'learning_rate': 0.04319810397035442, 'reg_alpha': 14.003943390439431, 'reg_lambda': 0.004969683439285412, 'subsample': 0.5056261752363385, 'boosting_type': 'goss', 'min_child_samples': 25, 'num_leaves': 224, 'colsample_bytree': 0.9698707456902115}. Best is trial 10 with value: 0.8152310287561186.\u001b[0m\n",
      "\u001b[34m\u001b[1mwandb\u001b[0m: \u001b[33mWARNING\u001b[0m Step must only increase in log calls.  Step 29 < 30; dropping {'n_estimators': 3952, 'depth': 12, 'learning_rate': 0.04319810397035442, 'reg_alpha': 14.003943390439431, 'reg_lambda': 0.004969683439285412, 'subsample': 0.5056261752363385, 'boosting_type': 'goss', 'min_child_samples': 25, 'num_leaves': 224, 'colsample_bytree': 0.9698707456902115, 'value': 0.8019464078100311}.\n"
     ]
    },
    {
     "name": "stdout",
     "output_type": "stream",
     "text": [
      "ROC AUC Score of XGBoost = 0.8019464078100311\n",
      "30 trials complete\n",
      "[LightGBM] [Warning] Unknown parameter: eval_metric\n"
     ]
    },
    {
     "name": "stderr",
     "output_type": "stream",
     "text": [
      "\u001b[32m[I 2021-09-23 09:30:42,563]\u001b[0m Trial 30 finished with value: 0.8075879758427639 and parameters: {'n_estimators': 4134, 'depth': 7, 'learning_rate': 0.11457467947739161, 'reg_alpha': 2.480197924333022, 'reg_lambda': 0.03848121078456201, 'subsample': 0.6132916558551728, 'boosting_type': 'dart', 'min_child_samples': 15, 'num_leaves': 191, 'colsample_bytree': 0.6431157564921246}. Best is trial 10 with value: 0.8152310287561186.\u001b[0m\n",
      "\u001b[34m\u001b[1mwandb\u001b[0m: \u001b[33mWARNING\u001b[0m Step must only increase in log calls.  Step 30 < 31; dropping {'n_estimators': 4134, 'depth': 7, 'learning_rate': 0.11457467947739161, 'reg_alpha': 2.480197924333022, 'reg_lambda': 0.03848121078456201, 'subsample': 0.6132916558551728, 'boosting_type': 'dart', 'min_child_samples': 15, 'num_leaves': 191, 'colsample_bytree': 0.6431157564921246, 'value': 0.8075879758427639}.\n"
     ]
    },
    {
     "name": "stdout",
     "output_type": "stream",
     "text": [
      "ROC AUC Score of XGBoost = 0.8075879758427639\n",
      "[LightGBM] [Warning] Unknown parameter: eval_metric\n"
     ]
    },
    {
     "name": "stderr",
     "output_type": "stream",
     "text": [
      "\u001b[32m[I 2021-09-23 09:37:28,958]\u001b[0m Trial 31 finished with value: 0.8149761920359844 and parameters: {'n_estimators': 3564, 'depth': 8, 'learning_rate': 0.008721779762572837, 'reg_alpha': 6.948752038823637, 'reg_lambda': 0.35073805264014213, 'subsample': 0.5929629510980321, 'boosting_type': 'gbdt', 'min_child_samples': 12, 'num_leaves': 151, 'colsample_bytree': 0.5956297959432378}. Best is trial 10 with value: 0.8152310287561186.\u001b[0m\n",
      "\u001b[34m\u001b[1mwandb\u001b[0m: \u001b[33mWARNING\u001b[0m Step must only increase in log calls.  Step 31 < 32; dropping {'n_estimators': 3564, 'depth': 8, 'learning_rate': 0.008721779762572837, 'reg_alpha': 6.948752038823637, 'reg_lambda': 0.35073805264014213, 'subsample': 0.5929629510980321, 'boosting_type': 'gbdt', 'min_child_samples': 12, 'num_leaves': 151, 'colsample_bytree': 0.5956297959432378, 'value': 0.8149761920359844}.\n"
     ]
    },
    {
     "name": "stdout",
     "output_type": "stream",
     "text": [
      "ROC AUC Score of XGBoost = 0.8149761920359844\n",
      "[LightGBM] [Warning] Unknown parameter: eval_metric\n"
     ]
    },
    {
     "name": "stderr",
     "output_type": "stream",
     "text": [
      "\u001b[32m[I 2021-09-23 09:45:27,586]\u001b[0m Trial 32 finished with value: 0.8150567890937215 and parameters: {'n_estimators': 3294, 'depth': 9, 'learning_rate': 0.012514854209140152, 'reg_alpha': 15.662032211243902, 'reg_lambda': 0.23628397737956083, 'subsample': 0.6692668695781789, 'boosting_type': 'gbdt', 'min_child_samples': 8, 'num_leaves': 136, 'colsample_bytree': 0.7009106099270098}. Best is trial 10 with value: 0.8152310287561186.\u001b[0m\n",
      "\u001b[34m\u001b[1mwandb\u001b[0m: \u001b[33mWARNING\u001b[0m Step must only increase in log calls.  Step 32 < 33; dropping {'n_estimators': 3294, 'depth': 9, 'learning_rate': 0.012514854209140152, 'reg_alpha': 15.662032211243902, 'reg_lambda': 0.23628397737956083, 'subsample': 0.6692668695781789, 'boosting_type': 'gbdt', 'min_child_samples': 8, 'num_leaves': 136, 'colsample_bytree': 0.7009106099270098, 'value': 0.8150567890937215}.\n"
     ]
    },
    {
     "name": "stdout",
     "output_type": "stream",
     "text": [
      "ROC AUC Score of XGBoost = 0.8150567890937215\n",
      "[LightGBM] [Warning] Unknown parameter: eval_metric\n"
     ]
    },
    {
     "name": "stderr",
     "output_type": "stream",
     "text": [
      "\u001b[32m[I 2021-09-23 09:52:34,981]\u001b[0m Trial 33 finished with value: 0.8135388091016496 and parameters: {'n_estimators': 3026, 'depth': 9, 'learning_rate': 0.0033040409566659004, 'reg_alpha': 16.729548842527024, 'reg_lambda': 0.16622230266349114, 'subsample': 0.6701193999586511, 'boosting_type': 'gbdt', 'min_child_samples': 7, 'num_leaves': 135, 'colsample_bytree': 0.7241772540708304}. Best is trial 10 with value: 0.8152310287561186.\u001b[0m\n",
      "\u001b[34m\u001b[1mwandb\u001b[0m: \u001b[33mWARNING\u001b[0m Step must only increase in log calls.  Step 33 < 34; dropping {'n_estimators': 3026, 'depth': 9, 'learning_rate': 0.0033040409566659004, 'reg_alpha': 16.729548842527024, 'reg_lambda': 0.16622230266349114, 'subsample': 0.6701193999586511, 'boosting_type': 'gbdt', 'min_child_samples': 7, 'num_leaves': 135, 'colsample_bytree': 0.7241772540708304, 'value': 0.8135388091016496}.\n"
     ]
    },
    {
     "name": "stdout",
     "output_type": "stream",
     "text": [
      "ROC AUC Score of XGBoost = 0.8135388091016496\n",
      "[LightGBM] [Warning] Unknown parameter: eval_metric\n"
     ]
    },
    {
     "name": "stderr",
     "output_type": "stream",
     "text": [
      "\u001b[32m[I 2021-09-23 09:59:39,975]\u001b[0m Trial 34 finished with value: 0.814955189584095 and parameters: {'n_estimators': 3279, 'depth': 10, 'learning_rate': 0.013757253153723533, 'reg_alpha': 15.65427358612387, 'reg_lambda': 0.029611248575007233, 'subsample': 0.7207711701214681, 'boosting_type': 'gbdt', 'min_child_samples': 4, 'num_leaves': 113, 'colsample_bytree': 0.6946726425474131}. Best is trial 10 with value: 0.8152310287561186.\u001b[0m\n",
      "\u001b[34m\u001b[1mwandb\u001b[0m: \u001b[33mWARNING\u001b[0m Step must only increase in log calls.  Step 34 < 35; dropping {'n_estimators': 3279, 'depth': 10, 'learning_rate': 0.013757253153723533, 'reg_alpha': 15.65427358612387, 'reg_lambda': 0.029611248575007233, 'subsample': 0.7207711701214681, 'boosting_type': 'gbdt', 'min_child_samples': 4, 'num_leaves': 113, 'colsample_bytree': 0.6946726425474131, 'value': 0.814955189584095}.\n"
     ]
    },
    {
     "name": "stdout",
     "output_type": "stream",
     "text": [
      "ROC AUC Score of XGBoost = 0.814955189584095\n",
      "35 trials complete\n",
      "[LightGBM] [Warning] Unknown parameter: eval_metric\n"
     ]
    },
    {
     "name": "stderr",
     "output_type": "stream",
     "text": [
      "\u001b[32m[I 2021-09-23 10:11:01,982]\u001b[0m Trial 35 finished with value: 0.8145071376240444 and parameters: {'n_estimators': 3655, 'depth': 11, 'learning_rate': 0.006554998717101214, 'reg_alpha': 3.153956009833402, 'reg_lambda': 0.5413536818623761, 'subsample': 0.771271610605371, 'boosting_type': 'gbdt', 'min_child_samples': 57, 'num_leaves': 175, 'colsample_bytree': 0.8369248285788846}. Best is trial 10 with value: 0.8152310287561186.\u001b[0m\n",
      "\u001b[34m\u001b[1mwandb\u001b[0m: \u001b[33mWARNING\u001b[0m Step must only increase in log calls.  Step 35 < 36; dropping {'n_estimators': 3655, 'depth': 11, 'learning_rate': 0.006554998717101214, 'reg_alpha': 3.153956009833402, 'reg_lambda': 0.5413536818623761, 'subsample': 0.771271610605371, 'boosting_type': 'gbdt', 'min_child_samples': 57, 'num_leaves': 175, 'colsample_bytree': 0.8369248285788846, 'value': 0.8145071376240444}.\n"
     ]
    },
    {
     "name": "stdout",
     "output_type": "stream",
     "text": [
      "ROC AUC Score of XGBoost = 0.8145071376240444\n",
      "[LightGBM] [Warning] Unknown parameter: eval_metric\n"
     ]
    },
    {
     "name": "stderr",
     "output_type": "stream",
     "text": [
      "\u001b[32m[I 2021-09-23 10:34:15,771]\u001b[0m Trial 36 finished with value: 0.8084516471309667 and parameters: {'n_estimators': 4490, 'depth': 9, 'learning_rate': 0.002190497117581839, 'reg_alpha': 0.2327352822464566, 'reg_lambda': 0.01302918483074436, 'subsample': 0.7115054012333606, 'boosting_type': 'dart', 'min_child_samples': 19, 'num_leaves': 72, 'colsample_bytree': 0.5745438338278541}. Best is trial 10 with value: 0.8152310287561186.\u001b[0m\n",
      "\u001b[34m\u001b[1mwandb\u001b[0m: \u001b[33mWARNING\u001b[0m Step must only increase in log calls.  Step 36 < 37; dropping {'n_estimators': 4490, 'depth': 9, 'learning_rate': 0.002190497117581839, 'reg_alpha': 0.2327352822464566, 'reg_lambda': 0.01302918483074436, 'subsample': 0.7115054012333606, 'boosting_type': 'dart', 'min_child_samples': 19, 'num_leaves': 72, 'colsample_bytree': 0.5745438338278541, 'value': 0.8084516471309667}.\n"
     ]
    },
    {
     "name": "stdout",
     "output_type": "stream",
     "text": [
      "ROC AUC Score of XGBoost = 0.8084516471309667\n",
      "[LightGBM] [Warning] Unknown parameter: eval_metric\n"
     ]
    },
    {
     "name": "stderr",
     "output_type": "stream",
     "text": [
      "\u001b[32m[I 2021-09-23 10:36:18,533]\u001b[0m Trial 37 finished with value: 0.8113365525753758 and parameters: {'n_estimators': 2432, 'depth': 10, 'learning_rate': 0.01824080099775213, 'reg_alpha': 0.0537691175534489, 'reg_lambda': 0.09649492219733706, 'subsample': 0.6323133362270668, 'boosting_type': 'goss', 'min_child_samples': 13, 'num_leaves': 118, 'colsample_bytree': 0.532627010086967}. Best is trial 10 with value: 0.8152310287561186.\u001b[0m\n",
      "\u001b[34m\u001b[1mwandb\u001b[0m: \u001b[33mWARNING\u001b[0m Step must only increase in log calls.  Step 37 < 38; dropping {'n_estimators': 2432, 'depth': 10, 'learning_rate': 0.01824080099775213, 'reg_alpha': 0.0537691175534489, 'reg_lambda': 0.09649492219733706, 'subsample': 0.6323133362270668, 'boosting_type': 'goss', 'min_child_samples': 13, 'num_leaves': 118, 'colsample_bytree': 0.532627010086967, 'value': 0.8113365525753758}.\n"
     ]
    },
    {
     "name": "stdout",
     "output_type": "stream",
     "text": [
      "ROC AUC Score of XGBoost = 0.8113365525753758\n",
      "[LightGBM] [Warning] Unknown parameter: eval_metric\n"
     ]
    },
    {
     "name": "stderr",
     "output_type": "stream",
     "text": [
      "\u001b[32m[I 2021-09-23 10:40:31,099]\u001b[0m Trial 38 finished with value: 0.8136140132100682 and parameters: {'n_estimators': 3854, 'depth': 6, 'learning_rate': 0.004219416907479407, 'reg_alpha': 9.062039128685567, 'reg_lambda': 0.05629601653446601, 'subsample': 0.5582403948266071, 'boosting_type': 'gbdt', 'min_child_samples': 8, 'num_leaves': 160, 'colsample_bytree': 0.68171920922992}. Best is trial 10 with value: 0.8152310287561186.\u001b[0m\n",
      "\u001b[34m\u001b[1mwandb\u001b[0m: \u001b[33mWARNING\u001b[0m Step must only increase in log calls.  Step 38 < 39; dropping {'n_estimators': 3854, 'depth': 6, 'learning_rate': 0.004219416907479407, 'reg_alpha': 9.062039128685567, 'reg_lambda': 0.05629601653446601, 'subsample': 0.5582403948266071, 'boosting_type': 'gbdt', 'min_child_samples': 8, 'num_leaves': 160, 'colsample_bytree': 0.68171920922992, 'value': 0.8136140132100682}.\n"
     ]
    },
    {
     "name": "stdout",
     "output_type": "stream",
     "text": [
      "ROC AUC Score of XGBoost = 0.8136140132100682\n",
      "[LightGBM] [Warning] Unknown parameter: eval_metric\n"
     ]
    },
    {
     "name": "stderr",
     "output_type": "stream",
     "text": [
      "\u001b[32m[I 2021-09-23 10:56:50,877]\u001b[0m Trial 39 finished with value: 0.8134037304182056 and parameters: {'n_estimators': 2921, 'depth': 7, 'learning_rate': 0.041557085530606, 'reg_alpha': 22.10156317813697, 'reg_lambda': 0.22984812170341015, 'subsample': 0.7484585501752069, 'boosting_type': 'dart', 'min_child_samples': 15, 'num_leaves': 102, 'colsample_bytree': 0.6525095024077675}. Best is trial 10 with value: 0.8152310287561186.\u001b[0m\n",
      "\u001b[34m\u001b[1mwandb\u001b[0m: \u001b[33mWARNING\u001b[0m Step must only increase in log calls.  Step 39 < 40; dropping {'n_estimators': 2921, 'depth': 7, 'learning_rate': 0.041557085530606, 'reg_alpha': 22.10156317813697, 'reg_lambda': 0.22984812170341015, 'subsample': 0.7484585501752069, 'boosting_type': 'dart', 'min_child_samples': 15, 'num_leaves': 102, 'colsample_bytree': 0.6525095024077675, 'value': 0.8134037304182056}.\n"
     ]
    },
    {
     "name": "stdout",
     "output_type": "stream",
     "text": [
      "ROC AUC Score of XGBoost = 0.8134037304182056\n",
      "40 trials complete\n",
      "[LightGBM] [Warning] Unknown parameter: eval_metric\n"
     ]
    },
    {
     "name": "stderr",
     "output_type": "stream",
     "text": [
      "\u001b[32m[I 2021-09-23 10:58:41,157]\u001b[0m Trial 40 finished with value: 0.8118220374232437 and parameters: {'n_estimators': 982, 'depth': 11, 'learning_rate': 0.02291995645107263, 'reg_alpha': 1.017426549040932, 'reg_lambda': 1.7377991221837494, 'subsample': 0.6765297033649901, 'boosting_type': 'goss', 'min_child_samples': 67, 'num_leaves': 136, 'colsample_bytree': 0.5190399146434892}. Best is trial 10 with value: 0.8152310287561186.\u001b[0m\n",
      "\u001b[34m\u001b[1mwandb\u001b[0m: \u001b[33mWARNING\u001b[0m Step must only increase in log calls.  Step 40 < 41; dropping {'n_estimators': 982, 'depth': 11, 'learning_rate': 0.02291995645107263, 'reg_alpha': 1.017426549040932, 'reg_lambda': 1.7377991221837494, 'subsample': 0.6765297033649901, 'boosting_type': 'goss', 'min_child_samples': 67, 'num_leaves': 136, 'colsample_bytree': 0.5190399146434892, 'value': 0.8118220374232437}.\n"
     ]
    },
    {
     "name": "stdout",
     "output_type": "stream",
     "text": [
      "ROC AUC Score of XGBoost = 0.8118220374232437\n",
      "[LightGBM] [Warning] Unknown parameter: eval_metric\n"
     ]
    },
    {
     "name": "stderr",
     "output_type": "stream",
     "text": [
      "\u001b[32m[I 2021-09-23 11:05:06,848]\u001b[0m Trial 41 finished with value: 0.8146212573681091 and parameters: {'n_estimators': 2588, 'depth': 8, 'learning_rate': 0.011781110207541422, 'reg_alpha': 3.380352203422758, 'reg_lambda': 0.297436715803267, 'subsample': 0.6218409976490955, 'boosting_type': 'gbdt', 'min_child_samples': 13, 'num_leaves': 144, 'colsample_bytree': 0.7879047803352189}. Best is trial 10 with value: 0.8152310287561186.\u001b[0m\n",
      "\u001b[34m\u001b[1mwandb\u001b[0m: \u001b[33mWARNING\u001b[0m Step must only increase in log calls.  Step 41 < 42; dropping {'n_estimators': 2588, 'depth': 8, 'learning_rate': 0.011781110207541422, 'reg_alpha': 3.380352203422758, 'reg_lambda': 0.297436715803267, 'subsample': 0.6218409976490955, 'boosting_type': 'gbdt', 'min_child_samples': 13, 'num_leaves': 144, 'colsample_bytree': 0.7879047803352189, 'value': 0.8146212573681091}.\n"
     ]
    },
    {
     "name": "stdout",
     "output_type": "stream",
     "text": [
      "ROC AUC Score of XGBoost = 0.8146212573681091\n",
      "[LightGBM] [Warning] Unknown parameter: eval_metric\n"
     ]
    },
    {
     "name": "stderr",
     "output_type": "stream",
     "text": [
      "\u001b[32m[I 2021-09-23 11:12:52,167]\u001b[0m Trial 42 finished with value: 0.8150089987874044 and parameters: {'n_estimators': 3266, 'depth': 9, 'learning_rate': 0.008880753021800433, 'reg_alpha': 6.429006443572501, 'reg_lambda': 0.6408484158388579, 'subsample': 0.6047330053577136, 'boosting_type': 'gbdt', 'min_child_samples': 8, 'num_leaves': 125, 'colsample_bytree': 0.6164600751716469}. Best is trial 10 with value: 0.8152310287561186.\u001b[0m\n",
      "\u001b[34m\u001b[1mwandb\u001b[0m: \u001b[33mWARNING\u001b[0m Step must only increase in log calls.  Step 42 < 43; dropping {'n_estimators': 3266, 'depth': 9, 'learning_rate': 0.008880753021800433, 'reg_alpha': 6.429006443572501, 'reg_lambda': 0.6408484158388579, 'subsample': 0.6047330053577136, 'boosting_type': 'gbdt', 'min_child_samples': 8, 'num_leaves': 125, 'colsample_bytree': 0.6164600751716469, 'value': 0.8150089987874044}.\n"
     ]
    },
    {
     "name": "stdout",
     "output_type": "stream",
     "text": [
      "ROC AUC Score of XGBoost = 0.8150089987874044\n",
      "[LightGBM] [Warning] Unknown parameter: eval_metric\n"
     ]
    },
    {
     "name": "stderr",
     "output_type": "stream",
     "text": [
      "\u001b[32m[I 2021-09-23 11:18:37,949]\u001b[0m Trial 43 finished with value: 0.8146531498364264 and parameters: {'n_estimators': 3445, 'depth': 8, 'learning_rate': 0.011581519592132114, 'reg_alpha': 1.8798367440312813, 'reg_lambda': 0.11549607943576999, 'subsample': 0.999007865737431, 'boosting_type': 'gbdt', 'min_child_samples': 20, 'num_leaves': 173, 'colsample_bytree': 0.6061690867141181}. Best is trial 10 with value: 0.8152310287561186.\u001b[0m\n",
      "\u001b[34m\u001b[1mwandb\u001b[0m: \u001b[33mWARNING\u001b[0m Step must only increase in log calls.  Step 43 < 44; dropping {'n_estimators': 3445, 'depth': 8, 'learning_rate': 0.011581519592132114, 'reg_alpha': 1.8798367440312813, 'reg_lambda': 0.11549607943576999, 'subsample': 0.999007865737431, 'boosting_type': 'gbdt', 'min_child_samples': 20, 'num_leaves': 173, 'colsample_bytree': 0.6061690867141181, 'value': 0.8146531498364264}.\n"
     ]
    },
    {
     "name": "stdout",
     "output_type": "stream",
     "text": [
      "ROC AUC Score of XGBoost = 0.8146531498364264\n",
      "[LightGBM] [Warning] Unknown parameter: eval_metric\n"
     ]
    },
    {
     "name": "stderr",
     "output_type": "stream",
     "text": [
      "\u001b[32m[I 2021-09-23 11:25:55,138]\u001b[0m Trial 44 finished with value: 0.8139976786239942 and parameters: {'n_estimators': 3620, 'depth': 7, 'learning_rate': 0.004813666194634082, 'reg_alpha': 17.386781035900846, 'reg_lambda': 0.21351345458168183, 'subsample': 0.6527034513502582, 'boosting_type': 'gbdt', 'min_child_samples': 11, 'num_leaves': 156, 'colsample_bytree': 0.5702154875812782}. Best is trial 10 with value: 0.8152310287561186.\u001b[0m\n",
      "\u001b[34m\u001b[1mwandb\u001b[0m: \u001b[33mWARNING\u001b[0m Step must only increase in log calls.  Step 44 < 45; dropping {'n_estimators': 3620, 'depth': 7, 'learning_rate': 0.004813666194634082, 'reg_alpha': 17.386781035900846, 'reg_lambda': 0.21351345458168183, 'subsample': 0.6527034513502582, 'boosting_type': 'gbdt', 'min_child_samples': 11, 'num_leaves': 156, 'colsample_bytree': 0.5702154875812782, 'value': 0.8139976786239942}.\n"
     ]
    },
    {
     "name": "stdout",
     "output_type": "stream",
     "text": [
      "ROC AUC Score of XGBoost = 0.8139976786239942\n",
      "45 trials complete\n",
      "[LightGBM] [Warning] Unknown parameter: eval_metric\n"
     ]
    },
    {
     "name": "stderr",
     "output_type": "stream",
     "text": [
      "\u001b[32m[I 2021-09-23 11:35:36,141]\u001b[0m Trial 45 finished with value: 0.8141063396095715 and parameters: {'n_estimators': 4011, 'depth': 9, 'learning_rate': 0.017316360492641326, 'reg_alpha': 10.288085787583196, 'reg_lambda': 6.155535957564162, 'subsample': 0.7364978801629282, 'boosting_type': 'gbdt', 'min_child_samples': 45, 'num_leaves': 195, 'colsample_bytree': 0.6784411343152769}. Best is trial 10 with value: 0.8152310287561186.\u001b[0m\n",
      "\u001b[34m\u001b[1mwandb\u001b[0m: \u001b[33mWARNING\u001b[0m Step must only increase in log calls.  Step 45 < 46; dropping {'n_estimators': 4011, 'depth': 9, 'learning_rate': 0.017316360492641326, 'reg_alpha': 10.288085787583196, 'reg_lambda': 6.155535957564162, 'subsample': 0.7364978801629282, 'boosting_type': 'gbdt', 'min_child_samples': 45, 'num_leaves': 195, 'colsample_bytree': 0.6784411343152769, 'value': 0.8141063396095715}.\n"
     ]
    },
    {
     "name": "stdout",
     "output_type": "stream",
     "text": [
      "ROC AUC Score of XGBoost = 0.8141063396095715\n",
      "[LightGBM] [Warning] Unknown parameter: eval_metric\n"
     ]
    },
    {
     "name": "stderr",
     "output_type": "stream",
     "text": [
      "\u001b[32m[I 2021-09-23 11:41:42,118]\u001b[0m Trial 46 finished with value: 0.7966354823754607 and parameters: {'n_estimators': 2734, 'depth': 10, 'learning_rate': 0.3419635972120538, 'reg_alpha': 0.5636980050632224, 'reg_lambda': 0.018185253656445226, 'subsample': 0.6664583335903539, 'boosting_type': 'gbdt', 'min_child_samples': 6, 'num_leaves': 139, 'colsample_bytree': 0.5184797451586786}. Best is trial 10 with value: 0.8152310287561186.\u001b[0m\n",
      "\u001b[34m\u001b[1mwandb\u001b[0m: \u001b[33mWARNING\u001b[0m Step must only increase in log calls.  Step 46 < 47; dropping {'n_estimators': 2734, 'depth': 10, 'learning_rate': 0.3419635972120538, 'reg_alpha': 0.5636980050632224, 'reg_lambda': 0.018185253656445226, 'subsample': 0.6664583335903539, 'boosting_type': 'gbdt', 'min_child_samples': 6, 'num_leaves': 139, 'colsample_bytree': 0.5184797451586786, 'value': 0.7966354823754607}.\n"
     ]
    },
    {
     "name": "stdout",
     "output_type": "stream",
     "text": [
      "ROC AUC Score of XGBoost = 0.7966354823754607\n",
      "[LightGBM] [Warning] Unknown parameter: eval_metric\n"
     ]
    },
    {
     "name": "stderr",
     "output_type": "stream",
     "text": [
      "\u001b[32m[I 2021-09-23 11:46:54,797]\u001b[0m Trial 47 finished with value: 0.8147804697229194 and parameters: {'n_estimators': 4228, 'depth': 6, 'learning_rate': 0.007374335354095762, 'reg_alpha': 3.99370445367381, 'reg_lambda': 0.05591066223816827, 'subsample': 0.7074917850284995, 'boosting_type': 'gbdt', 'min_child_samples': 16, 'num_leaves': 120, 'colsample_bytree': 0.7413628964094082}. Best is trial 10 with value: 0.8152310287561186.\u001b[0m\n",
      "\u001b[34m\u001b[1mwandb\u001b[0m: \u001b[33mWARNING\u001b[0m Step must only increase in log calls.  Step 47 < 48; dropping {'n_estimators': 4228, 'depth': 6, 'learning_rate': 0.007374335354095762, 'reg_alpha': 3.99370445367381, 'reg_lambda': 0.05591066223816827, 'subsample': 0.7074917850284995, 'boosting_type': 'gbdt', 'min_child_samples': 16, 'num_leaves': 120, 'colsample_bytree': 0.7413628964094082, 'value': 0.8147804697229194}.\n"
     ]
    },
    {
     "name": "stdout",
     "output_type": "stream",
     "text": [
      "ROC AUC Score of XGBoost = 0.8147804697229194\n",
      "[LightGBM] [Warning] Unknown parameter: eval_metric\n"
     ]
    },
    {
     "name": "stderr",
     "output_type": "stream",
     "text": [
      "\u001b[32m[I 2021-09-23 12:09:07,575]\u001b[0m Trial 48 finished with value: 0.813444522896126 and parameters: {'n_estimators': 3726, 'depth': 8, 'learning_rate': 0.021906465773311352, 'reg_alpha': 28.714030300984852, 'reg_lambda': 0.43559141606553625, 'subsample': 0.6449566488676258, 'boosting_type': 'dart', 'min_child_samples': 27, 'num_leaves': 152, 'colsample_bytree': 0.5490945052097663}. Best is trial 10 with value: 0.8152310287561186.\u001b[0m\n",
      "\u001b[34m\u001b[1mwandb\u001b[0m: \u001b[33mWARNING\u001b[0m Step must only increase in log calls.  Step 48 < 49; dropping {'n_estimators': 3726, 'depth': 8, 'learning_rate': 0.021906465773311352, 'reg_alpha': 28.714030300984852, 'reg_lambda': 0.43559141606553625, 'subsample': 0.6449566488676258, 'boosting_type': 'dart', 'min_child_samples': 27, 'num_leaves': 152, 'colsample_bytree': 0.5490945052097663, 'value': 0.813444522896126}.\n"
     ]
    },
    {
     "name": "stdout",
     "output_type": "stream",
     "text": [
      "ROC AUC Score of XGBoost = 0.813444522896126\n",
      "[LightGBM] [Warning] Unknown parameter: eval_metric\n"
     ]
    },
    {
     "name": "stderr",
     "output_type": "stream",
     "text": [
      "\u001b[32m[I 2021-09-23 12:10:53,721]\u001b[0m Trial 49 finished with value: 0.8147352037826713 and parameters: {'n_estimators': 3333, 'depth': 5, 'learning_rate': 0.013285342062402014, 'reg_alpha': 7.566871496371898, 'reg_lambda': 0.8790795628454507, 'subsample': 0.5676975119606613, 'boosting_type': 'goss', 'min_child_samples': 4, 'num_leaves': 109, 'colsample_bytree': 0.5876196887437328}. Best is trial 10 with value: 0.8152310287561186.\u001b[0m\n",
      "\u001b[34m\u001b[1mwandb\u001b[0m: \u001b[33mWARNING\u001b[0m Step must only increase in log calls.  Step 49 < 50; dropping {'n_estimators': 3333, 'depth': 5, 'learning_rate': 0.013285342062402014, 'reg_alpha': 7.566871496371898, 'reg_lambda': 0.8790795628454507, 'subsample': 0.5676975119606613, 'boosting_type': 'goss', 'min_child_samples': 4, 'num_leaves': 109, 'colsample_bytree': 0.5876196887437328, 'value': 0.8147352037826713}.\n"
     ]
    },
    {
     "name": "stdout",
     "output_type": "stream",
     "text": [
      "ROC AUC Score of XGBoost = 0.8147352037826713\n",
      "50 trials complete\n",
      "[LightGBM] [Warning] Unknown parameter: eval_metric\n"
     ]
    },
    {
     "name": "stderr",
     "output_type": "stream",
     "text": [
      "\u001b[32m[I 2021-09-23 12:18:43,635]\u001b[0m Trial 50 finished with value: 0.8130315265677364 and parameters: {'n_estimators': 2920, 'depth': 9, 'learning_rate': 0.03378917586447508, 'reg_alpha': 19.553505079563504, 'reg_lambda': 0.002386021880582869, 'subsample': 0.5950891441417506, 'boosting_type': 'gbdt', 'min_child_samples': 10, 'num_leaves': 170, 'colsample_bytree': 0.6379604297033814}. Best is trial 10 with value: 0.8152310287561186.\u001b[0m\n",
      "\u001b[34m\u001b[1mwandb\u001b[0m: \u001b[33mWARNING\u001b[0m Step must only increase in log calls.  Step 50 < 51; dropping {'n_estimators': 2920, 'depth': 9, 'learning_rate': 0.03378917586447508, 'reg_alpha': 19.553505079563504, 'reg_lambda': 0.002386021880582869, 'subsample': 0.5950891441417506, 'boosting_type': 'gbdt', 'min_child_samples': 10, 'num_leaves': 170, 'colsample_bytree': 0.6379604297033814, 'value': 0.8130315265677364}.\n"
     ]
    },
    {
     "name": "stdout",
     "output_type": "stream",
     "text": [
      "ROC AUC Score of XGBoost = 0.8130315265677364\n",
      "[LightGBM] [Warning] Unknown parameter: eval_metric\n"
     ]
    },
    {
     "name": "stderr",
     "output_type": "stream",
     "text": [
      "\u001b[32m[I 2021-09-23 12:24:27,762]\u001b[0m Trial 51 finished with value: 0.8150057336278549 and parameters: {'n_estimators': 3169, 'depth': 9, 'learning_rate': 0.008869034791972801, 'reg_alpha': 5.868671678649466, 'reg_lambda': 0.7534701774098215, 'subsample': 0.6117184611476366, 'boosting_type': 'gbdt', 'min_child_samples': 7, 'num_leaves': 125, 'colsample_bytree': 0.6173556102195726}. Best is trial 10 with value: 0.8152310287561186.\u001b[0m\n",
      "\u001b[34m\u001b[1mwandb\u001b[0m: \u001b[33mWARNING\u001b[0m Step must only increase in log calls.  Step 51 < 52; dropping {'n_estimators': 3169, 'depth': 9, 'learning_rate': 0.008869034791972801, 'reg_alpha': 5.868671678649466, 'reg_lambda': 0.7534701774098215, 'subsample': 0.6117184611476366, 'boosting_type': 'gbdt', 'min_child_samples': 7, 'num_leaves': 125, 'colsample_bytree': 0.6173556102195726, 'value': 0.8150057336278549}.\n"
     ]
    },
    {
     "name": "stdout",
     "output_type": "stream",
     "text": [
      "ROC AUC Score of XGBoost = 0.8150057336278549\n",
      "[LightGBM] [Warning] Unknown parameter: eval_metric\n"
     ]
    },
    {
     "name": "stderr",
     "output_type": "stream",
     "text": [
      "\u001b[32m[I 2021-09-23 12:31:46,765]\u001b[0m Trial 52 finished with value: 0.8008804408975426 and parameters: {'n_estimators': 3520, 'depth': 10, 'learning_rate': 0.21839949391273178, 'reg_alpha': 11.787306743942642, 'reg_lambda': 0.13862981047505857, 'subsample': 0.52890966298594, 'boosting_type': 'gbdt', 'min_child_samples': 8, 'num_leaves': 140, 'colsample_bytree': 0.6144602219052896}. Best is trial 10 with value: 0.8152310287561186.\u001b[0m\n",
      "\u001b[34m\u001b[1mwandb\u001b[0m: \u001b[33mWARNING\u001b[0m Step must only increase in log calls.  Step 52 < 53; dropping {'n_estimators': 3520, 'depth': 10, 'learning_rate': 0.21839949391273178, 'reg_alpha': 11.787306743942642, 'reg_lambda': 0.13862981047505857, 'subsample': 0.52890966298594, 'boosting_type': 'gbdt', 'min_child_samples': 8, 'num_leaves': 140, 'colsample_bytree': 0.6144602219052896, 'value': 0.8008804408975426}.\n"
     ]
    },
    {
     "name": "stdout",
     "output_type": "stream",
     "text": [
      "ROC AUC Score of XGBoost = 0.8008804408975426\n",
      "[LightGBM] [Warning] Unknown parameter: eval_metric\n"
     ]
    },
    {
     "name": "stderr",
     "output_type": "stream",
     "text": [
      "\u001b[32m[I 2021-09-23 12:38:23,897]\u001b[0m Trial 53 finished with value: 0.8147455212513226 and parameters: {'n_estimators': 3355, 'depth': 8, 'learning_rate': 0.00639819316131357, 'reg_alpha': 0.016041578526914204, 'reg_lambda': 0.22794876533442218, 'subsample': 0.6828998147313176, 'boosting_type': 'gbdt', 'min_child_samples': 13, 'num_leaves': 124, 'colsample_bytree': 0.5760661096931676}. Best is trial 10 with value: 0.8152310287561186.\u001b[0m\n",
      "\u001b[34m\u001b[1mwandb\u001b[0m: \u001b[33mWARNING\u001b[0m Step must only increase in log calls.  Step 53 < 54; dropping {'n_estimators': 3355, 'depth': 8, 'learning_rate': 0.00639819316131357, 'reg_alpha': 0.016041578526914204, 'reg_lambda': 0.22794876533442218, 'subsample': 0.6828998147313176, 'boosting_type': 'gbdt', 'min_child_samples': 13, 'num_leaves': 124, 'colsample_bytree': 0.5760661096931676, 'value': 0.8147455212513226}.\n"
     ]
    },
    {
     "name": "stdout",
     "output_type": "stream",
     "text": [
      "ROC AUC Score of XGBoost = 0.8147455212513226\n",
      "[LightGBM] [Warning] Unknown parameter: eval_metric\n"
     ]
    },
    {
     "name": "stderr",
     "output_type": "stream",
     "text": [
      "\u001b[32m[I 2021-09-23 12:44:35,923]\u001b[0m Trial 54 finished with value: 0.8154218474454626 and parameters: {'n_estimators': 3768, 'depth': 9, 'learning_rate': 0.010233384527490822, 'reg_alpha': 5.666877514598042, 'reg_lambda': 29.358511606519556, 'subsample': 0.5913679590879073, 'boosting_type': 'gbdt', 'min_child_samples': 21, 'num_leaves': 102, 'colsample_bytree': 0.5179917076284164}. Best is trial 54 with value: 0.8154218474454626.\u001b[0m\n",
      "\u001b[34m\u001b[1mwandb\u001b[0m: \u001b[33mWARNING\u001b[0m Step must only increase in log calls.  Step 54 < 55; dropping {'n_estimators': 3768, 'depth': 9, 'learning_rate': 0.010233384527490822, 'reg_alpha': 5.666877514598042, 'reg_lambda': 29.358511606519556, 'subsample': 0.5913679590879073, 'boosting_type': 'gbdt', 'min_child_samples': 21, 'num_leaves': 102, 'colsample_bytree': 0.5179917076284164, 'value': 0.8154218474454626}.\n"
     ]
    },
    {
     "name": "stdout",
     "output_type": "stream",
     "text": [
      "ROC AUC Score of XGBoost = 0.8154218474454626\n",
      "55 trials complete\n",
      "[LightGBM] [Warning] Unknown parameter: eval_metric\n"
     ]
    },
    {
     "name": "stderr",
     "output_type": "stream",
     "text": [
      "\u001b[32m[I 2021-09-23 12:49:20,875]\u001b[0m Trial 55 finished with value: 0.8150298885150724 and parameters: {'n_estimators': 3808, 'depth': 8, 'learning_rate': 0.015415368148280987, 'reg_alpha': 2.0392340417384816, 'reg_lambda': 29.550772172580615, 'subsample': 0.6228803479112983, 'boosting_type': 'gbdt', 'min_child_samples': 22, 'num_leaves': 102, 'colsample_bytree': 0.5002943651073549}. Best is trial 54 with value: 0.8154218474454626.\u001b[0m\n",
      "\u001b[34m\u001b[1mwandb\u001b[0m: \u001b[33mWARNING\u001b[0m Step must only increase in log calls.  Step 55 < 56; dropping {'n_estimators': 3808, 'depth': 8, 'learning_rate': 0.015415368148280987, 'reg_alpha': 2.0392340417384816, 'reg_lambda': 29.550772172580615, 'subsample': 0.6228803479112983, 'boosting_type': 'gbdt', 'min_child_samples': 22, 'num_leaves': 102, 'colsample_bytree': 0.5002943651073549, 'value': 0.8150298885150724}.\n"
     ]
    },
    {
     "name": "stdout",
     "output_type": "stream",
     "text": [
      "ROC AUC Score of XGBoost = 0.8150298885150724\n",
      "[LightGBM] [Warning] Unknown parameter: eval_metric\n"
     ]
    },
    {
     "name": "stderr",
     "output_type": "stream",
     "text": [
      "\u001b[32m[I 2021-09-23 12:55:26,495]\u001b[0m Trial 56 finished with value: 0.8141048404494805 and parameters: {'n_estimators': 3799, 'depth': 9, 'learning_rate': 0.026670074567918797, 'reg_alpha': 2.278600607449601, 'reg_lambda': 28.789569480034565, 'subsample': 0.6296983297419415, 'boosting_type': 'gbdt', 'min_child_samples': 21, 'num_leaves': 86, 'colsample_bytree': 0.5174003839821418}. Best is trial 54 with value: 0.8154218474454626.\u001b[0m\n",
      "\u001b[34m\u001b[1mwandb\u001b[0m: \u001b[33mWARNING\u001b[0m Step must only increase in log calls.  Step 56 < 57; dropping {'n_estimators': 3799, 'depth': 9, 'learning_rate': 0.026670074567918797, 'reg_alpha': 2.278600607449601, 'reg_lambda': 28.789569480034565, 'subsample': 0.6296983297419415, 'boosting_type': 'gbdt', 'min_child_samples': 21, 'num_leaves': 86, 'colsample_bytree': 0.5174003839821418, 'value': 0.8141048404494805}.\n"
     ]
    },
    {
     "name": "stdout",
     "output_type": "stream",
     "text": [
      "ROC AUC Score of XGBoost = 0.8141048404494805\n",
      "[LightGBM] [Warning] Unknown parameter: eval_metric\n"
     ]
    },
    {
     "name": "stderr",
     "output_type": "stream",
     "text": [
      "\u001b[32m[I 2021-09-23 13:03:07,187]\u001b[0m Trial 57 finished with value: 0.815569115836393 and parameters: {'n_estimators': 4080, 'depth': 7, 'learning_rate': 0.015661698750565334, 'reg_alpha': 21.657478406064467, 'reg_lambda': 4.7196927032311375, 'subsample': 0.6583469802928689, 'boosting_type': 'gbdt', 'min_child_samples': 33, 'num_leaves': 75, 'colsample_bytree': 0.5004942118860025}. Best is trial 57 with value: 0.815569115836393.\u001b[0m\n",
      "\u001b[34m\u001b[1mwandb\u001b[0m: \u001b[33mWARNING\u001b[0m Step must only increase in log calls.  Step 57 < 58; dropping {'n_estimators': 4080, 'depth': 7, 'learning_rate': 0.015661698750565334, 'reg_alpha': 21.657478406064467, 'reg_lambda': 4.7196927032311375, 'subsample': 0.6583469802928689, 'boosting_type': 'gbdt', 'min_child_samples': 33, 'num_leaves': 75, 'colsample_bytree': 0.5004942118860025, 'value': 0.815569115836393}.\n"
     ]
    },
    {
     "name": "stdout",
     "output_type": "stream",
     "text": [
      "ROC AUC Score of XGBoost = 0.815569115836393\n",
      "[LightGBM] [Warning] Unknown parameter: eval_metric\n"
     ]
    },
    {
     "name": "stderr",
     "output_type": "stream",
     "text": [
      "\u001b[32m[I 2021-09-23 13:09:03,565]\u001b[0m Trial 58 finished with value: 0.815526106221949 and parameters: {'n_estimators': 4275, 'depth': 6, 'learning_rate': 0.01818616199318113, 'reg_alpha': 12.142290038850012, 'reg_lambda': 7.554319798526443, 'subsample': 0.6992528804565766, 'boosting_type': 'gbdt', 'min_child_samples': 35, 'num_leaves': 55, 'colsample_bytree': 0.5205628485230431}. Best is trial 57 with value: 0.815569115836393.\u001b[0m\n",
      "\u001b[34m\u001b[1mwandb\u001b[0m: \u001b[33mWARNING\u001b[0m Step must only increase in log calls.  Step 58 < 59; dropping {'n_estimators': 4275, 'depth': 6, 'learning_rate': 0.01818616199318113, 'reg_alpha': 12.142290038850012, 'reg_lambda': 7.554319798526443, 'subsample': 0.6992528804565766, 'boosting_type': 'gbdt', 'min_child_samples': 35, 'num_leaves': 55, 'colsample_bytree': 0.5205628485230431, 'value': 0.815526106221949}.\n"
     ]
    },
    {
     "name": "stdout",
     "output_type": "stream",
     "text": [
      "ROC AUC Score of XGBoost = 0.815526106221949\n",
      "[LightGBM] [Warning] Unknown parameter: eval_metric\n"
     ]
    },
    {
     "name": "stderr",
     "output_type": "stream",
     "text": [
      "\u001b[32m[I 2021-09-23 13:13:22,702]\u001b[0m Trial 59 finished with value: 0.8155243306553419 and parameters: {'n_estimators': 4315, 'depth': 6, 'learning_rate': 0.01996209557451632, 'reg_alpha': 20.92325034404242, 'reg_lambda': 4.394333157745482, 'subsample': 0.7269586972618948, 'boosting_type': 'gbdt', 'min_child_samples': 37, 'num_leaves': 51, 'colsample_bytree': 0.5255752208383068}. Best is trial 57 with value: 0.815569115836393.\u001b[0m\n",
      "\u001b[34m\u001b[1mwandb\u001b[0m: \u001b[33mWARNING\u001b[0m Step must only increase in log calls.  Step 59 < 60; dropping {'n_estimators': 4315, 'depth': 6, 'learning_rate': 0.01996209557451632, 'reg_alpha': 20.92325034404242, 'reg_lambda': 4.394333157745482, 'subsample': 0.7269586972618948, 'boosting_type': 'gbdt', 'min_child_samples': 37, 'num_leaves': 51, 'colsample_bytree': 0.5255752208383068, 'value': 0.8155243306553419}.\n"
     ]
    },
    {
     "name": "stdout",
     "output_type": "stream",
     "text": [
      "ROC AUC Score of XGBoost = 0.8155243306553419\n",
      "60 trials complete\n",
      "[LightGBM] [Warning] Unknown parameter: eval_metric\n"
     ]
    },
    {
     "name": "stderr",
     "output_type": "stream",
     "text": [
      "\u001b[32m[I 2021-09-23 13:19:02,489]\u001b[0m Trial 60 finished with value: 0.814233985699786 and parameters: {'n_estimators': 4495, 'depth': 4, 'learning_rate': 0.06116913166935056, 'reg_alpha': 0.10136102629680761, 'reg_lambda': 4.276096850762959, 'subsample': 0.8017001572144496, 'boosting_type': 'gbdt', 'min_child_samples': 36, 'num_leaves': 58, 'colsample_bytree': 0.5294218171384942}. Best is trial 57 with value: 0.815569115836393.\u001b[0m\n",
      "\u001b[34m\u001b[1mwandb\u001b[0m: \u001b[33mWARNING\u001b[0m Step must only increase in log calls.  Step 60 < 61; dropping {'n_estimators': 4495, 'depth': 4, 'learning_rate': 0.06116913166935056, 'reg_alpha': 0.10136102629680761, 'reg_lambda': 4.276096850762959, 'subsample': 0.8017001572144496, 'boosting_type': 'gbdt', 'min_child_samples': 36, 'num_leaves': 58, 'colsample_bytree': 0.5294218171384942, 'value': 0.814233985699786}.\n"
     ]
    },
    {
     "name": "stdout",
     "output_type": "stream",
     "text": [
      "ROC AUC Score of XGBoost = 0.814233985699786\n",
      "[LightGBM] [Warning] Unknown parameter: eval_metric\n"
     ]
    },
    {
     "name": "stderr",
     "output_type": "stream",
     "text": [
      "\u001b[32m[I 2021-09-23 13:23:32,325]\u001b[0m Trial 61 finished with value: 0.8153535136301533 and parameters: {'n_estimators': 4257, 'depth': 6, 'learning_rate': 0.019701770341545775, 'reg_alpha': 23.379521246085314, 'reg_lambda': 12.086436365209064, 'subsample': 0.730169769149642, 'boosting_type': 'gbdt', 'min_child_samples': 41, 'num_leaves': 65, 'colsample_bytree': 0.5495586039296456}. Best is trial 57 with value: 0.815569115836393.\u001b[0m\n",
      "\u001b[34m\u001b[1mwandb\u001b[0m: \u001b[33mWARNING\u001b[0m Step must only increase in log calls.  Step 61 < 62; dropping {'n_estimators': 4257, 'depth': 6, 'learning_rate': 0.019701770341545775, 'reg_alpha': 23.379521246085314, 'reg_lambda': 12.086436365209064, 'subsample': 0.730169769149642, 'boosting_type': 'gbdt', 'min_child_samples': 41, 'num_leaves': 65, 'colsample_bytree': 0.5495586039296456, 'value': 0.8153535136301533}.\n"
     ]
    },
    {
     "name": "stdout",
     "output_type": "stream",
     "text": [
      "ROC AUC Score of XGBoost = 0.8153535136301533\n",
      "[LightGBM] [Warning] Unknown parameter: eval_metric\n"
     ]
    },
    {
     "name": "stderr",
     "output_type": "stream",
     "text": [
      "\u001b[32m[I 2021-09-23 13:28:00,786]\u001b[0m Trial 62 finished with value: 0.8153931506447742 and parameters: {'n_estimators': 4287, 'depth': 6, 'learning_rate': 0.019816863400061807, 'reg_alpha': 23.35230363277317, 'reg_lambda': 12.888441599139876, 'subsample': 0.7324082647748, 'boosting_type': 'gbdt', 'min_child_samples': 41, 'num_leaves': 51, 'colsample_bytree': 0.5501220877681949}. Best is trial 57 with value: 0.815569115836393.\u001b[0m\n",
      "\u001b[34m\u001b[1mwandb\u001b[0m: \u001b[33mWARNING\u001b[0m Step must only increase in log calls.  Step 62 < 63; dropping {'n_estimators': 4287, 'depth': 6, 'learning_rate': 0.019816863400061807, 'reg_alpha': 23.35230363277317, 'reg_lambda': 12.888441599139876, 'subsample': 0.7324082647748, 'boosting_type': 'gbdt', 'min_child_samples': 41, 'num_leaves': 51, 'colsample_bytree': 0.5501220877681949, 'value': 0.8153931506447742}.\n"
     ]
    },
    {
     "name": "stdout",
     "output_type": "stream",
     "text": [
      "ROC AUC Score of XGBoost = 0.8153931506447742\n",
      "[LightGBM] [Warning] Unknown parameter: eval_metric\n"
     ]
    },
    {
     "name": "stderr",
     "output_type": "stream",
     "text": [
      "\u001b[32m[I 2021-09-23 13:34:44,879]\u001b[0m Trial 63 finished with value: 0.8154763011703237 and parameters: {'n_estimators': 4274, 'depth': 6, 'learning_rate': 0.01978348071317367, 'reg_alpha': 21.035393264708542, 'reg_lambda': 13.799435025295711, 'subsample': 0.7687457037380415, 'boosting_type': 'gbdt', 'min_child_samples': 41, 'num_leaves': 50, 'colsample_bytree': 0.5193081989557434}. Best is trial 57 with value: 0.815569115836393.\u001b[0m\n",
      "\u001b[34m\u001b[1mwandb\u001b[0m: \u001b[33mWARNING\u001b[0m Step must only increase in log calls.  Step 63 < 64; dropping {'n_estimators': 4274, 'depth': 6, 'learning_rate': 0.01978348071317367, 'reg_alpha': 21.035393264708542, 'reg_lambda': 13.799435025295711, 'subsample': 0.7687457037380415, 'boosting_type': 'gbdt', 'min_child_samples': 41, 'num_leaves': 50, 'colsample_bytree': 0.5193081989557434, 'value': 0.8154763011703237}.\n"
     ]
    },
    {
     "name": "stdout",
     "output_type": "stream",
     "text": [
      "ROC AUC Score of XGBoost = 0.8154763011703237\n",
      "[LightGBM] [Warning] Unknown parameter: eval_metric\n"
     ]
    },
    {
     "name": "stderr",
     "output_type": "stream",
     "text": [
      "\u001b[32m[I 2021-09-23 13:38:52,085]\u001b[0m Trial 64 finished with value: 0.8155880487420302 and parameters: {'n_estimators': 4130, 'depth': 6, 'learning_rate': 0.020543150478389692, 'reg_alpha': 21.246664989689418, 'reg_lambda': 11.99745289059057, 'subsample': 0.7644548710357131, 'boosting_type': 'gbdt', 'min_child_samples': 41, 'num_leaves': 51, 'colsample_bytree': 0.5202601921080291}. Best is trial 64 with value: 0.8155880487420302.\u001b[0m\n",
      "\u001b[34m\u001b[1mwandb\u001b[0m: \u001b[33mWARNING\u001b[0m Step must only increase in log calls.  Step 64 < 65; dropping {'n_estimators': 4130, 'depth': 6, 'learning_rate': 0.020543150478389692, 'reg_alpha': 21.246664989689418, 'reg_lambda': 11.99745289059057, 'subsample': 0.7644548710357131, 'boosting_type': 'gbdt', 'min_child_samples': 41, 'num_leaves': 51, 'colsample_bytree': 0.5202601921080291, 'value': 0.8155880487420302}.\n"
     ]
    },
    {
     "name": "stdout",
     "output_type": "stream",
     "text": [
      "ROC AUC Score of XGBoost = 0.8155880487420302\n",
      "65 trials complete\n",
      "[LightGBM] [Warning] Unknown parameter: eval_metric\n"
     ]
    },
    {
     "name": "stderr",
     "output_type": "stream",
     "text": [
      "\u001b[32m[I 2021-09-23 13:41:52,100]\u001b[0m Trial 65 finished with value: 0.8150940425674905 and parameters: {'n_estimators': 4113, 'depth': 5, 'learning_rate': 0.033839530422281425, 'reg_alpha': 8.01204698779487, 'reg_lambda': 7.784637408565759, 'subsample': 0.7941477879914267, 'boosting_type': 'gbdt', 'min_child_samples': 50, 'num_leaves': 50, 'colsample_bytree': 0.5218631151980587}. Best is trial 64 with value: 0.8155880487420302.\u001b[0m\n",
      "\u001b[34m\u001b[1mwandb\u001b[0m: \u001b[33mWARNING\u001b[0m Step must only increase in log calls.  Step 65 < 66; dropping {'n_estimators': 4113, 'depth': 5, 'learning_rate': 0.033839530422281425, 'reg_alpha': 8.01204698779487, 'reg_lambda': 7.784637408565759, 'subsample': 0.7941477879914267, 'boosting_type': 'gbdt', 'min_child_samples': 50, 'num_leaves': 50, 'colsample_bytree': 0.5218631151980587, 'value': 0.8150940425674905}.\n"
     ]
    },
    {
     "name": "stdout",
     "output_type": "stream",
     "text": [
      "ROC AUC Score of XGBoost = 0.8150940425674905\n",
      "[LightGBM] [Warning] Unknown parameter: eval_metric\n"
     ]
    },
    {
     "name": "stderr",
     "output_type": "stream",
     "text": [
      "\u001b[32m[I 2021-09-23 13:47:56,063]\u001b[0m Trial 66 finished with value: 0.8150474255778118 and parameters: {'n_estimators': 4392, 'depth': 6, 'learning_rate': 0.026578637355606127, 'reg_alpha': 11.725130278018142, 'reg_lambda': 19.39846195476265, 'subsample': 0.7651760742170615, 'boosting_type': 'gbdt', 'min_child_samples': 33, 'num_leaves': 73, 'colsample_bytree': 0.5146864090829721}. Best is trial 64 with value: 0.8155880487420302.\u001b[0m\n",
      "\u001b[34m\u001b[1mwandb\u001b[0m: \u001b[33mWARNING\u001b[0m Step must only increase in log calls.  Step 66 < 67; dropping {'n_estimators': 4392, 'depth': 6, 'learning_rate': 0.026578637355606127, 'reg_alpha': 11.725130278018142, 'reg_lambda': 19.39846195476265, 'subsample': 0.7651760742170615, 'boosting_type': 'gbdt', 'min_child_samples': 33, 'num_leaves': 73, 'colsample_bytree': 0.5146864090829721, 'value': 0.8150474255778118}.\n"
     ]
    },
    {
     "name": "stdout",
     "output_type": "stream",
     "text": [
      "ROC AUC Score of XGBoost = 0.8150474255778118\n",
      "[LightGBM] [Warning] Unknown parameter: eval_metric\n"
     ]
    },
    {
     "name": "stderr",
     "output_type": "stream",
     "text": [
      "\u001b[32m[I 2021-09-23 13:53:55,250]\u001b[0m Trial 67 finished with value: 0.8141959226211244 and parameters: {'n_estimators': 4080, 'depth': 5, 'learning_rate': 0.052024616738880806, 'reg_alpha': 24.205390254029435, 'reg_lambda': 3.7496860207278324, 'subsample': 0.7527417325781307, 'boosting_type': 'gbdt', 'min_child_samples': 41, 'num_leaves': 64, 'colsample_bytree': 0.5310443562714581}. Best is trial 64 with value: 0.8155880487420302.\u001b[0m\n",
      "\u001b[34m\u001b[1mwandb\u001b[0m: \u001b[33mWARNING\u001b[0m Step must only increase in log calls.  Step 67 < 68; dropping {'n_estimators': 4080, 'depth': 5, 'learning_rate': 0.052024616738880806, 'reg_alpha': 24.205390254029435, 'reg_lambda': 3.7496860207278324, 'subsample': 0.7527417325781307, 'boosting_type': 'gbdt', 'min_child_samples': 41, 'num_leaves': 64, 'colsample_bytree': 0.5310443562714581, 'value': 0.8141959226211244}.\n"
     ]
    },
    {
     "name": "stdout",
     "output_type": "stream",
     "text": [
      "ROC AUC Score of XGBoost = 0.8141959226211244\n",
      "[LightGBM] [Warning] Unknown parameter: eval_metric\n"
     ]
    },
    {
     "name": "stderr",
     "output_type": "stream",
     "text": [
      "\u001b[32m[I 2021-09-23 13:58:02,862]\u001b[0m Trial 68 finished with value: 0.811119211509955 and parameters: {'n_estimators': 3952, 'depth': 6, 'learning_rate': 0.03714155086651255, 'reg_alpha': 29.93991144959574, 'reg_lambda': 20.101458775365977, 'subsample': 0.858843428714956, 'boosting_type': 'goss', 'min_child_samples': 37, 'num_leaves': 54, 'colsample_bytree': 0.5552509851614935}. Best is trial 64 with value: 0.8155880487420302.\u001b[0m\n",
      "\u001b[34m\u001b[1mwandb\u001b[0m: \u001b[33mWARNING\u001b[0m Step must only increase in log calls.  Step 68 < 69; dropping {'n_estimators': 3952, 'depth': 6, 'learning_rate': 0.03714155086651255, 'reg_alpha': 29.93991144959574, 'reg_lambda': 20.101458775365977, 'subsample': 0.858843428714956, 'boosting_type': 'goss', 'min_child_samples': 37, 'num_leaves': 54, 'colsample_bytree': 0.5552509851614935, 'value': 0.811119211509955}.\n"
     ]
    },
    {
     "name": "stdout",
     "output_type": "stream",
     "text": [
      "ROC AUC Score of XGBoost = 0.811119211509955\n",
      "[LightGBM] [Warning] Unknown parameter: eval_metric\n"
     ]
    },
    {
     "name": "stderr",
     "output_type": "stream",
     "text": [
      "\u001b[32m[I 2021-09-23 14:13:09,984]\u001b[0m Trial 69 finished with value: 0.8135724679697248 and parameters: {'n_estimators': 4282, 'depth': 5, 'learning_rate': 0.023088489628210526, 'reg_alpha': 20.76893160922438, 'reg_lambda': 10.585699367116293, 'subsample': 0.7772597498167529, 'boosting_type': 'dart', 'min_child_samples': 44, 'num_leaves': 76, 'colsample_bytree': 0.5042948866937692}. Best is trial 64 with value: 0.8155880487420302.\u001b[0m\n",
      "\u001b[34m\u001b[1mwandb\u001b[0m: \u001b[33mWARNING\u001b[0m Step must only increase in log calls.  Step 69 < 70; dropping {'n_estimators': 4282, 'depth': 5, 'learning_rate': 0.023088489628210526, 'reg_alpha': 20.76893160922438, 'reg_lambda': 10.585699367116293, 'subsample': 0.7772597498167529, 'boosting_type': 'dart', 'min_child_samples': 44, 'num_leaves': 76, 'colsample_bytree': 0.5042948866937692, 'value': 0.8135724679697248}.\n"
     ]
    },
    {
     "name": "stdout",
     "output_type": "stream",
     "text": [
      "ROC AUC Score of XGBoost = 0.8135724679697248\n",
      "70 trials complete\n",
      "[LightGBM] [Warning] Unknown parameter: eval_metric\n"
     ]
    },
    {
     "name": "stderr",
     "output_type": "stream",
     "text": [
      "\u001b[32m[I 2021-09-23 14:20:26,050]\u001b[0m Trial 70 finished with value: 0.8150238235436559 and parameters: {'n_estimators': 4230, 'depth': 7, 'learning_rate': 0.016069487628562074, 'reg_alpha': 4.929588976315441, 'reg_lambda': 6.30191783281364, 'subsample': 0.7028426730142961, 'boosting_type': 'gbdt', 'min_child_samples': 30, 'num_leaves': 63, 'colsample_bytree': 0.5393228905416919}. Best is trial 64 with value: 0.8155880487420302.\u001b[0m\n",
      "\u001b[34m\u001b[1mwandb\u001b[0m: \u001b[33mWARNING\u001b[0m Step must only increase in log calls.  Step 70 < 71; dropping {'n_estimators': 4230, 'depth': 7, 'learning_rate': 0.016069487628562074, 'reg_alpha': 4.929588976315441, 'reg_lambda': 6.30191783281364, 'subsample': 0.7028426730142961, 'boosting_type': 'gbdt', 'min_child_samples': 30, 'num_leaves': 63, 'colsample_bytree': 0.5393228905416919, 'value': 0.8150238235436559}.\n"
     ]
    },
    {
     "name": "stdout",
     "output_type": "stream",
     "text": [
      "ROC AUC Score of XGBoost = 0.8150238235436559\n",
      "[LightGBM] [Warning] Unknown parameter: eval_metric\n"
     ]
    },
    {
     "name": "stderr",
     "output_type": "stream",
     "text": [
      "\u001b[32m[I 2021-09-23 14:28:04,782]\u001b[0m Trial 71 finished with value: 0.8153326674550253 and parameters: {'n_estimators': 4189, 'depth': 6, 'learning_rate': 0.019938554614182567, 'reg_alpha': 12.769025545113637, 'reg_lambda': 12.184952581834816, 'subsample': 0.7267028978432495, 'boosting_type': 'gbdt', 'min_child_samples': 41, 'num_leaves': 66, 'colsample_bytree': 0.5585605193724144}. Best is trial 64 with value: 0.8155880487420302.\u001b[0m\n",
      "\u001b[34m\u001b[1mwandb\u001b[0m: \u001b[33mWARNING\u001b[0m Step must only increase in log calls.  Step 71 < 72; dropping {'n_estimators': 4189, 'depth': 6, 'learning_rate': 0.019938554614182567, 'reg_alpha': 12.769025545113637, 'reg_lambda': 12.184952581834816, 'subsample': 0.7267028978432495, 'boosting_type': 'gbdt', 'min_child_samples': 41, 'num_leaves': 66, 'colsample_bytree': 0.5585605193724144, 'value': 0.8153326674550253}.\n"
     ]
    },
    {
     "name": "stdout",
     "output_type": "stream",
     "text": [
      "ROC AUC Score of XGBoost = 0.8153326674550253\n",
      "[LightGBM] [Warning] Unknown parameter: eval_metric\n"
     ]
    },
    {
     "name": "stderr",
     "output_type": "stream",
     "text": [
      "\u001b[32m[I 2021-09-23 14:32:43,597]\u001b[0m Trial 72 finished with value: 0.8156459279862528 and parameters: {'n_estimators': 4323, 'depth': 5, 'learning_rate': 0.021200050859660396, 'reg_alpha': 19.077546889417995, 'reg_lambda': 16.146057988110698, 'subsample': 0.7339336190557773, 'boosting_type': 'gbdt', 'min_child_samples': 46, 'num_leaves': 55, 'colsample_bytree': 0.5461401272955946}. Best is trial 72 with value: 0.8156459279862528.\u001b[0m\n",
      "\u001b[34m\u001b[1mwandb\u001b[0m: \u001b[33mWARNING\u001b[0m Step must only increase in log calls.  Step 72 < 73; dropping {'n_estimators': 4323, 'depth': 5, 'learning_rate': 0.021200050859660396, 'reg_alpha': 19.077546889417995, 'reg_lambda': 16.146057988110698, 'subsample': 0.7339336190557773, 'boosting_type': 'gbdt', 'min_child_samples': 46, 'num_leaves': 55, 'colsample_bytree': 0.5461401272955946, 'value': 0.8156459279862528}.\n"
     ]
    },
    {
     "name": "stdout",
     "output_type": "stream",
     "text": [
      "ROC AUC Score of XGBoost = 0.8156459279862528\n",
      "[LightGBM] [Warning] Unknown parameter: eval_metric\n"
     ]
    },
    {
     "name": "stderr",
     "output_type": "stream",
     "text": [
      "\u001b[32m[I 2021-09-23 14:36:00,573]\u001b[0m Trial 73 finished with value: 0.8156128505926237 and parameters: {'n_estimators': 4379, 'depth': 4, 'learning_rate': 0.02797895637976835, 'reg_alpha': 8.449269489808252, 'reg_lambda': 16.305009941235667, 'subsample': 0.7835667333701517, 'boosting_type': 'gbdt', 'min_child_samples': 48, 'num_leaves': 51, 'colsample_bytree': 0.5767174801254707}. Best is trial 72 with value: 0.8156459279862528.\u001b[0m\n",
      "\u001b[34m\u001b[1mwandb\u001b[0m: \u001b[33mWARNING\u001b[0m Step must only increase in log calls.  Step 73 < 74; dropping {'n_estimators': 4379, 'depth': 4, 'learning_rate': 0.02797895637976835, 'reg_alpha': 8.449269489808252, 'reg_lambda': 16.305009941235667, 'subsample': 0.7835667333701517, 'boosting_type': 'gbdt', 'min_child_samples': 48, 'num_leaves': 51, 'colsample_bytree': 0.5767174801254707, 'value': 0.8156128505926237}.\n"
     ]
    },
    {
     "name": "stdout",
     "output_type": "stream",
     "text": [
      "ROC AUC Score of XGBoost = 0.8156128505926237\n",
      "[LightGBM] [Warning] Unknown parameter: eval_metric\n"
     ]
    },
    {
     "name": "stderr",
     "output_type": "stream",
     "text": [
      "\u001b[32m[I 2021-09-23 14:38:20,619]\u001b[0m Trial 74 finished with value: 0.8156750636348244 and parameters: {'n_estimators': 4409, 'depth': 3, 'learning_rate': 0.03038569562151494, 'reg_alpha': 7.38712124251796, 'reg_lambda': 17.567912166658807, 'subsample': 0.8223236259802937, 'boosting_type': 'gbdt', 'min_child_samples': 47, 'num_leaves': 57, 'colsample_bytree': 0.576249287463262}. Best is trial 74 with value: 0.8156750636348244.\u001b[0m\n",
      "\u001b[34m\u001b[1mwandb\u001b[0m: \u001b[33mWARNING\u001b[0m Step must only increase in log calls.  Step 74 < 75; dropping {'n_estimators': 4409, 'depth': 3, 'learning_rate': 0.03038569562151494, 'reg_alpha': 7.38712124251796, 'reg_lambda': 17.567912166658807, 'subsample': 0.8223236259802937, 'boosting_type': 'gbdt', 'min_child_samples': 47, 'num_leaves': 57, 'colsample_bytree': 0.576249287463262, 'value': 0.8156750636348244}.\n"
     ]
    },
    {
     "name": "stdout",
     "output_type": "stream",
     "text": [
      "ROC AUC Score of XGBoost = 0.8156750636348244\n",
      "75 trials complete\n",
      "[LightGBM] [Warning] Unknown parameter: eval_metric\n"
     ]
    },
    {
     "name": "stderr",
     "output_type": "stream",
     "text": [
      "\u001b[32m[I 2021-09-23 14:42:32,957]\u001b[0m Trial 75 finished with value: 0.8157219144391968 and parameters: {'n_estimators': 4429, 'depth': 3, 'learning_rate': 0.02952568423554658, 'reg_alpha': 9.285152197932742, 'reg_lambda': 7.784744078293992, 'subsample': 0.8628511640697093, 'boosting_type': 'gbdt', 'min_child_samples': 47, 'num_leaves': 57, 'colsample_bytree': 0.573325963741589}. Best is trial 75 with value: 0.8157219144391968.\u001b[0m\n",
      "\u001b[34m\u001b[1mwandb\u001b[0m: \u001b[33mWARNING\u001b[0m Step must only increase in log calls.  Step 75 < 76; dropping {'n_estimators': 4429, 'depth': 3, 'learning_rate': 0.02952568423554658, 'reg_alpha': 9.285152197932742, 'reg_lambda': 7.784744078293992, 'subsample': 0.8628511640697093, 'boosting_type': 'gbdt', 'min_child_samples': 47, 'num_leaves': 57, 'colsample_bytree': 0.573325963741589, 'value': 0.8157219144391968}.\n"
     ]
    },
    {
     "name": "stdout",
     "output_type": "stream",
     "text": [
      "ROC AUC Score of XGBoost = 0.8157219144391968\n",
      "[LightGBM] [Warning] Unknown parameter: eval_metric\n"
     ]
    },
    {
     "name": "stderr",
     "output_type": "stream",
     "text": [
      "\u001b[32m[I 2021-09-23 14:44:57,512]\u001b[0m Trial 76 finished with value: 0.8156500482647007 and parameters: {'n_estimators': 4407, 'depth': 3, 'learning_rate': 0.050440154358050285, 'reg_alpha': 9.037031276805386, 'reg_lambda': 3.5000486733487888, 'subsample': 0.8423419666876018, 'boosting_type': 'gbdt', 'min_child_samples': 55, 'num_leaves': 59, 'colsample_bytree': 0.5967187464681443}. Best is trial 75 with value: 0.8157219144391968.\u001b[0m\n",
      "\u001b[34m\u001b[1mwandb\u001b[0m: \u001b[33mWARNING\u001b[0m Step must only increase in log calls.  Step 76 < 77; dropping {'n_estimators': 4407, 'depth': 3, 'learning_rate': 0.050440154358050285, 'reg_alpha': 9.037031276805386, 'reg_lambda': 3.5000486733487888, 'subsample': 0.8423419666876018, 'boosting_type': 'gbdt', 'min_child_samples': 55, 'num_leaves': 59, 'colsample_bytree': 0.5967187464681443, 'value': 0.8156500482647007}.\n"
     ]
    },
    {
     "name": "stdout",
     "output_type": "stream",
     "text": [
      "ROC AUC Score of XGBoost = 0.8156500482647007\n",
      "[LightGBM] [Warning] Unknown parameter: eval_metric\n"
     ]
    },
    {
     "name": "stderr",
     "output_type": "stream",
     "text": [
      "\u001b[32m[I 2021-09-23 14:47:00,139]\u001b[0m Trial 77 finished with value: 0.8149918391666693 and parameters: {'n_estimators': 4447, 'depth': 3, 'learning_rate': 0.08197863659533366, 'reg_alpha': 9.424286208141345, 'reg_lambda': 3.1595514253658754, 'subsample': 0.8740748374198333, 'boosting_type': 'gbdt', 'min_child_samples': 53, 'num_leaves': 59, 'colsample_bytree': 0.5862233176244588}. Best is trial 75 with value: 0.8157219144391968.\u001b[0m\n",
      "\u001b[34m\u001b[1mwandb\u001b[0m: \u001b[33mWARNING\u001b[0m Step must only increase in log calls.  Step 77 < 78; dropping {'n_estimators': 4447, 'depth': 3, 'learning_rate': 0.08197863659533366, 'reg_alpha': 9.424286208141345, 'reg_lambda': 3.1595514253658754, 'subsample': 0.8740748374198333, 'boosting_type': 'gbdt', 'min_child_samples': 53, 'num_leaves': 59, 'colsample_bytree': 0.5862233176244588, 'value': 0.8149918391666693}.\n"
     ]
    },
    {
     "name": "stdout",
     "output_type": "stream",
     "text": [
      "ROC AUC Score of XGBoost = 0.8149918391666693\n",
      "[LightGBM] [Warning] Unknown parameter: eval_metric\n"
     ]
    },
    {
     "name": "stderr",
     "output_type": "stream",
     "text": [
      "\u001b[32m[I 2021-09-23 14:50:09,860]\u001b[0m Trial 78 finished with value: 0.8134021263797553 and parameters: {'n_estimators': 4400, 'depth': 4, 'learning_rate': 0.07522484164587954, 'reg_alpha': 3.446184910457573, 'reg_lambda': 7.575326620458662, 'subsample': 0.8234161084845607, 'boosting_type': 'gbdt', 'min_child_samples': 58, 'num_leaves': 81, 'colsample_bytree': 0.5831137461069004}. Best is trial 75 with value: 0.8157219144391968.\u001b[0m\n",
      "\u001b[34m\u001b[1mwandb\u001b[0m: \u001b[33mWARNING\u001b[0m Step must only increase in log calls.  Step 78 < 79; dropping {'n_estimators': 4400, 'depth': 4, 'learning_rate': 0.07522484164587954, 'reg_alpha': 3.446184910457573, 'reg_lambda': 7.575326620458662, 'subsample': 0.8234161084845607, 'boosting_type': 'gbdt', 'min_child_samples': 58, 'num_leaves': 81, 'colsample_bytree': 0.5831137461069004, 'value': 0.8134021263797553}.\n"
     ]
    },
    {
     "name": "stdout",
     "output_type": "stream",
     "text": [
      "ROC AUC Score of XGBoost = 0.8134021263797553\n",
      "[LightGBM] [Warning] Unknown parameter: eval_metric\n"
     ]
    },
    {
     "name": "stderr",
     "output_type": "stream",
     "text": [
      "\u001b[32m[I 2021-09-23 14:52:26,429]\u001b[0m Trial 79 finished with value: 0.8155874959289984 and parameters: {'n_estimators': 3994, 'depth': 3, 'learning_rate': 0.053453428283297084, 'reg_alpha': 7.931237920175674, 'reg_lambda': 20.577710704988142, 'subsample': 0.8973532965453676, 'boosting_type': 'gbdt', 'min_child_samples': 47, 'num_leaves': 69, 'colsample_bytree': 0.6000936095824673}. Best is trial 75 with value: 0.8157219144391968.\u001b[0m\n",
      "\u001b[34m\u001b[1mwandb\u001b[0m: \u001b[33mWARNING\u001b[0m Step must only increase in log calls.  Step 79 < 80; dropping {'n_estimators': 3994, 'depth': 3, 'learning_rate': 0.053453428283297084, 'reg_alpha': 7.931237920175674, 'reg_lambda': 20.577710704988142, 'subsample': 0.8973532965453676, 'boosting_type': 'gbdt', 'min_child_samples': 47, 'num_leaves': 69, 'colsample_bytree': 0.6000936095824673, 'value': 0.8155874959289984}.\n"
     ]
    },
    {
     "name": "stdout",
     "output_type": "stream",
     "text": [
      "ROC AUC Score of XGBoost = 0.8155874959289984\n",
      "80 trials complete\n",
      "[LightGBM] [Warning] Unknown parameter: eval_metric\n"
     ]
    },
    {
     "name": "stderr",
     "output_type": "stream",
     "text": [
      "\u001b[32m[I 2021-09-23 14:54:15,068]\u001b[0m Trial 80 finished with value: 0.8156888720717373 and parameters: {'n_estimators': 3977, 'depth': 3, 'learning_rate': 0.05653278068192062, 'reg_alpha': 7.8874631765552214, 'reg_lambda': 18.565987377085847, 'subsample': 0.9352683982884042, 'boosting_type': 'gbdt', 'min_child_samples': 48, 'num_leaves': 71, 'colsample_bytree': 0.5985995413879266}. Best is trial 75 with value: 0.8157219144391968.\u001b[0m\n",
      "\u001b[34m\u001b[1mwandb\u001b[0m: \u001b[33mWARNING\u001b[0m Step must only increase in log calls.  Step 80 < 81; dropping {'n_estimators': 3977, 'depth': 3, 'learning_rate': 0.05653278068192062, 'reg_alpha': 7.8874631765552214, 'reg_lambda': 18.565987377085847, 'subsample': 0.9352683982884042, 'boosting_type': 'gbdt', 'min_child_samples': 48, 'num_leaves': 71, 'colsample_bytree': 0.5985995413879266, 'value': 0.8156888720717373}.\n"
     ]
    },
    {
     "name": "stdout",
     "output_type": "stream",
     "text": [
      "ROC AUC Score of XGBoost = 0.8156888720717373\n",
      "[LightGBM] [Warning] Unknown parameter: eval_metric\n"
     ]
    },
    {
     "name": "stderr",
     "output_type": "stream",
     "text": [
      "\u001b[32m[I 2021-09-23 14:56:06,020]\u001b[0m Trial 81 finished with value: 0.8145862192695479 and parameters: {'n_estimators': 4006, 'depth': 3, 'learning_rate': 0.10187392950474047, 'reg_alpha': 7.7807437574862055, 'reg_lambda': 17.9588312848054, 'subsample': 0.9204860184804153, 'boosting_type': 'gbdt', 'min_child_samples': 47, 'num_leaves': 69, 'colsample_bytree': 0.5667100097696274}. Best is trial 75 with value: 0.8157219144391968.\u001b[0m\n",
      "\u001b[34m\u001b[1mwandb\u001b[0m: \u001b[33mWARNING\u001b[0m Step must only increase in log calls.  Step 81 < 82; dropping {'n_estimators': 4006, 'depth': 3, 'learning_rate': 0.10187392950474047, 'reg_alpha': 7.7807437574862055, 'reg_lambda': 17.9588312848054, 'subsample': 0.9204860184804153, 'boosting_type': 'gbdt', 'min_child_samples': 47, 'num_leaves': 69, 'colsample_bytree': 0.5667100097696274, 'value': 0.8145862192695479}.\n"
     ]
    },
    {
     "name": "stdout",
     "output_type": "stream",
     "text": [
      "ROC AUC Score of XGBoost = 0.8145862192695479\n",
      "[LightGBM] [Warning] Unknown parameter: eval_metric\n"
     ]
    },
    {
     "name": "stderr",
     "output_type": "stream",
     "text": [
      "\u001b[32m[I 2021-09-23 14:57:49,192]\u001b[0m Trial 82 finished with value: 0.8157089104833485 and parameters: {'n_estimators': 3928, 'depth': 3, 'learning_rate': 0.05093706004812599, 'reg_alpha': 1.4050109113701448, 'reg_lambda': 23.383099717263306, 'subsample': 0.8756836361682607, 'boosting_type': 'gbdt', 'min_child_samples': 49, 'num_leaves': 77, 'colsample_bytree': 0.6011083652932999}. Best is trial 75 with value: 0.8157219144391968.\u001b[0m\n",
      "\u001b[34m\u001b[1mwandb\u001b[0m: \u001b[33mWARNING\u001b[0m Step must only increase in log calls.  Step 82 < 83; dropping {'n_estimators': 3928, 'depth': 3, 'learning_rate': 0.05093706004812599, 'reg_alpha': 1.4050109113701448, 'reg_lambda': 23.383099717263306, 'subsample': 0.8756836361682607, 'boosting_type': 'gbdt', 'min_child_samples': 49, 'num_leaves': 77, 'colsample_bytree': 0.6011083652932999, 'value': 0.8157089104833485}.\n"
     ]
    },
    {
     "name": "stdout",
     "output_type": "stream",
     "text": [
      "ROC AUC Score of XGBoost = 0.8157089104833485\n",
      "[LightGBM] [Warning] Unknown parameter: eval_metric\n"
     ]
    },
    {
     "name": "stderr",
     "output_type": "stream",
     "text": [
      "\u001b[32m[I 2021-09-23 14:59:31,083]\u001b[0m Trial 83 finished with value: 0.8156233915882822 and parameters: {'n_estimators': 3919, 'depth': 3, 'learning_rate': 0.0495044219270338, 'reg_alpha': 4.282582725672136, 'reg_lambda': 23.56123161302528, 'subsample': 0.9066911993371677, 'boosting_type': 'gbdt', 'min_child_samples': 49, 'num_leaves': 80, 'colsample_bytree': 0.6023015819239279}. Best is trial 75 with value: 0.8157219144391968.\u001b[0m\n",
      "\u001b[34m\u001b[1mwandb\u001b[0m: \u001b[33mWARNING\u001b[0m Step must only increase in log calls.  Step 83 < 84; dropping {'n_estimators': 3919, 'depth': 3, 'learning_rate': 0.0495044219270338, 'reg_alpha': 4.282582725672136, 'reg_lambda': 23.56123161302528, 'subsample': 0.9066911993371677, 'boosting_type': 'gbdt', 'min_child_samples': 49, 'num_leaves': 80, 'colsample_bytree': 0.6023015819239279, 'value': 0.8156233915882822}.\n"
     ]
    },
    {
     "name": "stdout",
     "output_type": "stream",
     "text": [
      "ROC AUC Score of XGBoost = 0.8156233915882822\n",
      "[LightGBM] [Warning] Unknown parameter: eval_metric\n"
     ]
    },
    {
     "name": "stderr",
     "output_type": "stream",
     "text": [
      "\u001b[32m[I 2021-09-23 15:01:45,385]\u001b[0m Trial 84 finished with value: 0.8153064651981243 and parameters: {'n_estimators': 3909, 'depth': 4, 'learning_rate': 0.04075547109441111, 'reg_alpha': 4.139077325617311, 'reg_lambda': 9.172697147012956, 'subsample': 0.9407559900066769, 'boosting_type': 'gbdt', 'min_child_samples': 50, 'num_leaves': 83, 'colsample_bytree': 0.600525494438434}. Best is trial 75 with value: 0.8157219144391968.\u001b[0m\n",
      "\u001b[34m\u001b[1mwandb\u001b[0m: \u001b[33mWARNING\u001b[0m Step must only increase in log calls.  Step 84 < 85; dropping {'n_estimators': 3909, 'depth': 4, 'learning_rate': 0.04075547109441111, 'reg_alpha': 4.139077325617311, 'reg_lambda': 9.172697147012956, 'subsample': 0.9407559900066769, 'boosting_type': 'gbdt', 'min_child_samples': 50, 'num_leaves': 83, 'colsample_bytree': 0.600525494438434, 'value': 0.8153064651981243}.\n"
     ]
    },
    {
     "name": "stdout",
     "output_type": "stream",
     "text": [
      "ROC AUC Score of XGBoost = 0.8153064651981243\n",
      "85 trials complete\n",
      "[LightGBM] [Warning] Unknown parameter: eval_metric\n"
     ]
    },
    {
     "name": "stderr",
     "output_type": "stream",
     "text": [
      "\u001b[32m[I 2021-09-23 15:02:38,142]\u001b[0m Trial 85 finished with value: 0.8154724046190325 and parameters: {'n_estimators': 1943, 'depth': 3, 'learning_rate': 0.06531340739788383, 'reg_alpha': 3.0480487168962673, 'reg_lambda': 16.320373006852908, 'subsample': 0.8598259711459427, 'boosting_type': 'gbdt', 'min_child_samples': 55, 'num_leaves': 61, 'colsample_bytree': 0.6272445325805097}. Best is trial 75 with value: 0.8157219144391968.\u001b[0m\n",
      "\u001b[34m\u001b[1mwandb\u001b[0m: \u001b[33mWARNING\u001b[0m Step must only increase in log calls.  Step 85 < 86; dropping {'n_estimators': 1943, 'depth': 3, 'learning_rate': 0.06531340739788383, 'reg_alpha': 3.0480487168962673, 'reg_lambda': 16.320373006852908, 'subsample': 0.8598259711459427, 'boosting_type': 'gbdt', 'min_child_samples': 55, 'num_leaves': 61, 'colsample_bytree': 0.6272445325805097, 'value': 0.8154724046190325}.\n"
     ]
    },
    {
     "name": "stdout",
     "output_type": "stream",
     "text": [
      "ROC AUC Score of XGBoost = 0.8154724046190325\n",
      "[LightGBM] [Warning] Unknown parameter: eval_metric\n"
     ]
    },
    {
     "name": "stderr",
     "output_type": "stream",
     "text": [
      "\u001b[32m[I 2021-09-23 15:13:52,039]\u001b[0m Trial 86 finished with value: 0.8141281983812565 and parameters: {'n_estimators': 4146, 'depth': 4, 'learning_rate': 0.09242839147800326, 'reg_alpha': 1.3313998318992382, 'reg_lambda': 24.848257849247133, 'subsample': 0.8941904477112065, 'boosting_type': 'dart', 'min_child_samples': 49, 'num_leaves': 91, 'colsample_bytree': 0.6642354229612036}. Best is trial 75 with value: 0.8157219144391968.\u001b[0m\n",
      "\u001b[34m\u001b[1mwandb\u001b[0m: \u001b[33mWARNING\u001b[0m Step must only increase in log calls.  Step 86 < 87; dropping {'n_estimators': 4146, 'depth': 4, 'learning_rate': 0.09242839147800326, 'reg_alpha': 1.3313998318992382, 'reg_lambda': 24.848257849247133, 'subsample': 0.8941904477112065, 'boosting_type': 'dart', 'min_child_samples': 49, 'num_leaves': 91, 'colsample_bytree': 0.6642354229612036, 'value': 0.8141281983812565}.\n"
     ]
    },
    {
     "name": "stdout",
     "output_type": "stream",
     "text": [
      "ROC AUC Score of XGBoost = 0.8141281983812565\n",
      "[LightGBM] [Warning] Unknown parameter: eval_metric\n"
     ]
    },
    {
     "name": "stderr",
     "output_type": "stream",
     "text": [
      "\u001b[32m[I 2021-09-23 15:15:39,269]\u001b[0m Trial 87 finished with value: 0.8142581951477685 and parameters: {'n_estimators': 4367, 'depth': 3, 'learning_rate': 0.047592837768091534, 'reg_alpha': 2.6961238191340158, 'reg_lambda': 9.868800468978371, 'subsample': 0.8395677617212493, 'boosting_type': 'goss', 'min_child_samples': 52, 'num_leaves': 79, 'colsample_bytree': 0.6384517446396001}. Best is trial 75 with value: 0.8157219144391968.\u001b[0m\n",
      "\u001b[34m\u001b[1mwandb\u001b[0m: \u001b[33mWARNING\u001b[0m Step must only increase in log calls.  Step 87 < 88; dropping {'n_estimators': 4367, 'depth': 3, 'learning_rate': 0.047592837768091534, 'reg_alpha': 2.6961238191340158, 'reg_lambda': 9.868800468978371, 'subsample': 0.8395677617212493, 'boosting_type': 'goss', 'min_child_samples': 52, 'num_leaves': 79, 'colsample_bytree': 0.6384517446396001, 'value': 0.8142581951477685}.\n"
     ]
    },
    {
     "name": "stdout",
     "output_type": "stream",
     "text": [
      "ROC AUC Score of XGBoost = 0.8142581951477685\n",
      "[LightGBM] [Warning] Unknown parameter: eval_metric\n"
     ]
    },
    {
     "name": "stderr",
     "output_type": "stream",
     "text": [
      "\u001b[32m[I 2021-09-23 15:20:01,270]\u001b[0m Trial 88 finished with value: 0.8100441789040739 and parameters: {'n_estimators': 4484, 'depth': 4, 'learning_rate': 0.13584834629138098, 'reg_alpha': 4.797656455289755, 'reg_lambda': 2.2700195714363045, 'subsample': 0.9716778769677631, 'boosting_type': 'gbdt', 'min_child_samples': 46, 'num_leaves': 59, 'colsample_bytree': 0.5771654037588235}. Best is trial 75 with value: 0.8157219144391968.\u001b[0m\n",
      "\u001b[34m\u001b[1mwandb\u001b[0m: \u001b[33mWARNING\u001b[0m Step must only increase in log calls.  Step 88 < 89; dropping {'n_estimators': 4484, 'depth': 4, 'learning_rate': 0.13584834629138098, 'reg_alpha': 4.797656455289755, 'reg_lambda': 2.2700195714363045, 'subsample': 0.9716778769677631, 'boosting_type': 'gbdt', 'min_child_samples': 46, 'num_leaves': 59, 'colsample_bytree': 0.5771654037588235, 'value': 0.8100441789040739}.\n"
     ]
    },
    {
     "name": "stdout",
     "output_type": "stream",
     "text": [
      "ROC AUC Score of XGBoost = 0.8100441789040739\n",
      "[LightGBM] [Warning] Unknown parameter: eval_metric\n"
     ]
    },
    {
     "name": "stderr",
     "output_type": "stream",
     "text": [
      "\u001b[32m[I 2021-09-23 15:22:22,062]\u001b[0m Trial 89 finished with value: 0.8156193930808151 and parameters: {'n_estimators': 4180, 'depth': 3, 'learning_rate': 0.03020621257716461, 'reg_alpha': 14.985602993060041, 'reg_lambda': 5.76106747862505, 'subsample': 0.9129102789773111, 'boosting_type': 'gbdt', 'min_child_samples': 43, 'num_leaves': 69, 'colsample_bytree': 0.9504996349100717}. Best is trial 75 with value: 0.8157219144391968.\u001b[0m\n",
      "\u001b[34m\u001b[1mwandb\u001b[0m: \u001b[33mWARNING\u001b[0m Step must only increase in log calls.  Step 89 < 90; dropping {'n_estimators': 4180, 'depth': 3, 'learning_rate': 0.03020621257716461, 'reg_alpha': 14.985602993060041, 'reg_lambda': 5.76106747862505, 'subsample': 0.9129102789773111, 'boosting_type': 'gbdt', 'min_child_samples': 43, 'num_leaves': 69, 'colsample_bytree': 0.9504996349100717, 'value': 0.8156193930808151}.\n"
     ]
    },
    {
     "name": "stdout",
     "output_type": "stream",
     "text": [
      "ROC AUC Score of XGBoost = 0.8156193930808151\n",
      "90 trials complete\n",
      "[LightGBM] [Warning] Unknown parameter: eval_metric\n"
     ]
    },
    {
     "name": "stderr",
     "output_type": "stream",
     "text": [
      "\u001b[32m[I 2021-09-23 15:22:58,295]\u001b[0m Trial 90 finished with value: 0.813675037524116 and parameters: {'n_estimators': 1249, 'depth': 3, 'learning_rate': 0.03118245902443823, 'reg_alpha': 0.3438212325656988, 'reg_lambda': 5.664754675706434, 'subsample': 0.9172009467869863, 'boosting_type': 'gbdt', 'min_child_samples': 44, 'num_leaves': 87, 'colsample_bytree': 0.5954454594975628}. Best is trial 75 with value: 0.8157219144391968.\u001b[0m\n",
      "\u001b[34m\u001b[1mwandb\u001b[0m: \u001b[33mWARNING\u001b[0m Step must only increase in log calls.  Step 90 < 91; dropping {'n_estimators': 1249, 'depth': 3, 'learning_rate': 0.03118245902443823, 'reg_alpha': 0.3438212325656988, 'reg_lambda': 5.664754675706434, 'subsample': 0.9172009467869863, 'boosting_type': 'gbdt', 'min_child_samples': 44, 'num_leaves': 87, 'colsample_bytree': 0.5954454594975628, 'value': 0.813675037524116}.\n"
     ]
    },
    {
     "name": "stdout",
     "output_type": "stream",
     "text": [
      "ROC AUC Score of XGBoost = 0.813675037524116\n",
      "[LightGBM] [Warning] Unknown parameter: eval_metric\n"
     ]
    },
    {
     "name": "stderr",
     "output_type": "stream",
     "text": [
      "\u001b[32m[I 2021-09-23 15:26:17,279]\u001b[0m Trial 91 finished with value: 0.8153047872644636 and parameters: {'n_estimators': 4164, 'depth': 4, 'learning_rate': 0.03760041816694198, 'reg_alpha': 14.662242950292233, 'reg_lambda': 21.109923295106235, 'subsample': 0.8803478660491111, 'boosting_type': 'gbdt', 'min_child_samples': 55, 'num_leaves': 70, 'colsample_bytree': 0.9456772795966897}. Best is trial 75 with value: 0.8157219144391968.\u001b[0m\n",
      "\u001b[34m\u001b[1mwandb\u001b[0m: \u001b[33mWARNING\u001b[0m Step must only increase in log calls.  Step 91 < 92; dropping {'n_estimators': 4164, 'depth': 4, 'learning_rate': 0.03760041816694198, 'reg_alpha': 14.662242950292233, 'reg_lambda': 21.109923295106235, 'subsample': 0.8803478660491111, 'boosting_type': 'gbdt', 'min_child_samples': 55, 'num_leaves': 70, 'colsample_bytree': 0.9456772795966897, 'value': 0.8153047872644636}.\n"
     ]
    },
    {
     "name": "stdout",
     "output_type": "stream",
     "text": [
      "ROC AUC Score of XGBoost = 0.8153047872644636\n",
      "[LightGBM] [Warning] Unknown parameter: eval_metric\n"
     ]
    },
    {
     "name": "stderr",
     "output_type": "stream",
     "text": [
      "\u001b[32m[I 2021-09-23 15:28:33,509]\u001b[0m Trial 92 finished with value: 0.8154594337278883 and parameters: {'n_estimators': 4373, 'depth': 3, 'learning_rate': 0.02691844120240025, 'reg_alpha': 6.29025689880095, 'reg_lambda': 15.724240125727162, 'subsample': 0.9240425865308759, 'boosting_type': 'gbdt', 'min_child_samples': 60, 'num_leaves': 56, 'colsample_bytree': 0.8602968898016949}. Best is trial 75 with value: 0.8157219144391968.\u001b[0m\n",
      "\u001b[34m\u001b[1mwandb\u001b[0m: \u001b[33mWARNING\u001b[0m Step must only increase in log calls.  Step 92 < 93; dropping {'n_estimators': 4373, 'depth': 3, 'learning_rate': 0.02691844120240025, 'reg_alpha': 6.29025689880095, 'reg_lambda': 15.724240125727162, 'subsample': 0.9240425865308759, 'boosting_type': 'gbdt', 'min_child_samples': 60, 'num_leaves': 56, 'colsample_bytree': 0.8602968898016949, 'value': 0.8154594337278883}.\n"
     ]
    },
    {
     "name": "stdout",
     "output_type": "stream",
     "text": [
      "ROC AUC Score of XGBoost = 0.8154594337278883\n",
      "[LightGBM] [Warning] Unknown parameter: eval_metric\n"
     ]
    },
    {
     "name": "stderr",
     "output_type": "stream",
     "text": [
      "\u001b[32m[I 2021-09-23 15:31:22,337]\u001b[0m Trial 93 finished with value: 0.8156364760843058 and parameters: {'n_estimators': 4062, 'depth': 3, 'learning_rate': 0.05062326897033488, 'reg_alpha': 9.700905506286727, 'reg_lambda': 23.372218653513894, 'subsample': 0.847634891273144, 'boosting_type': 'gbdt', 'min_child_samples': 48, 'num_leaves': 66, 'colsample_bytree': 0.8994149063697776}. Best is trial 75 with value: 0.8157219144391968.\u001b[0m\n",
      "\u001b[34m\u001b[1mwandb\u001b[0m: \u001b[33mWARNING\u001b[0m Step must only increase in log calls.  Step 93 < 94; dropping {'n_estimators': 4062, 'depth': 3, 'learning_rate': 0.05062326897033488, 'reg_alpha': 9.700905506286727, 'reg_lambda': 23.372218653513894, 'subsample': 0.847634891273144, 'boosting_type': 'gbdt', 'min_child_samples': 48, 'num_leaves': 66, 'colsample_bytree': 0.8994149063697776, 'value': 0.8156364760843058}.\n"
     ]
    },
    {
     "name": "stdout",
     "output_type": "stream",
     "text": [
      "ROC AUC Score of XGBoost = 0.8156364760843058\n",
      "[LightGBM] [Warning] Unknown parameter: eval_metric\n"
     ]
    },
    {
     "name": "stderr",
     "output_type": "stream",
     "text": [
      "\u001b[32m[I 2021-09-23 15:35:19,966]\u001b[0m Trial 94 finished with value: 0.8156465965657792 and parameters: {'n_estimators': 4026, 'depth': 3, 'learning_rate': 0.04989282984575652, 'reg_alpha': 9.842040283375686, 'reg_lambda': 25.391506029381006, 'subsample': 0.8522991317741261, 'boosting_type': 'gbdt', 'min_child_samples': 48, 'num_leaves': 67, 'colsample_bytree': 0.9385338747540019}. Best is trial 75 with value: 0.8157219144391968.\u001b[0m\n",
      "\u001b[34m\u001b[1mwandb\u001b[0m: \u001b[33mWARNING\u001b[0m Step must only increase in log calls.  Step 94 < 95; dropping {'n_estimators': 4026, 'depth': 3, 'learning_rate': 0.04989282984575652, 'reg_alpha': 9.842040283375686, 'reg_lambda': 25.391506029381006, 'subsample': 0.8522991317741261, 'boosting_type': 'gbdt', 'min_child_samples': 48, 'num_leaves': 67, 'colsample_bytree': 0.9385338747540019, 'value': 0.8156465965657792}.\n"
     ]
    },
    {
     "name": "stdout",
     "output_type": "stream",
     "text": [
      "ROC AUC Score of XGBoost = 0.8156465965657792\n",
      "95 trials complete\n"
     ]
    }
   ],
   "source": [
    "\n",
    "for x in range(1,21):\n",
    "    study.optimize(objective, n_trials = 5, callbacks = [wandbc]) #n_jobs = multiprocessing.cpu_count())\n",
    "    print(f\"{x*5} trials complete\")\n",
    "    dump(study, filename=datapath/f'optuna_lightgbm_study_{x*5}trials_20210922.joblib')\n",
    "    dump(study.best_trial.params, filename=datapath/f'optuna_lightgbm_study_best-thru-{x*5}trials_20210922.joblib')"
   ]
  },
  {
   "cell_type": "code",
   "execution_count": 18,
   "id": "27a746ff-c0e1-4218-8809-f102a58d2491",
   "metadata": {
    "id": "27a746ff-c0e1-4218-8809-f102a58d2491"
   },
   "outputs": [
    {
     "data": {
      "text/plain": [
       "['/media/sf/easystore/kaggle_data/tabular_playgrounds/sep2021/optuna_lightgbm_all-100trials-best_20210922.joblib']"
      ]
     },
     "execution_count": 18,
     "metadata": {},
     "output_type": "execute_result"
    }
   ],
   "source": [
    "dump(study, filename=datapath/'optuna_lightgbm_100trials-complete_20210922.joblib')\n",
    "dump(study.best_trial.params, filename=datapath/'optuna_lightgbm_all-100trials-best_20210922.joblib')\n",
    "# pickle.dump(study.best_trial.params, open('CatBoost_Hyperparameter.pickle', 'wb'))\n",
    "# print('CatBoost Hyperparameter:', study.best_trial.params)"
   ]
  },
  {
   "cell_type": "code",
   "execution_count": 19,
   "id": "f02e689e-b20c-48e5-a7d9-02467b4f3dbd",
   "metadata": {
    "id": "f02e689e-b20c-48e5-a7d9-02467b4f3dbd"
   },
   "outputs": [
    {
     "data": {
      "text/plain": [
       "{'n_estimators': 4429,\n",
       " 'depth': 3,\n",
       " 'learning_rate': 0.02952568423554658,\n",
       " 'reg_alpha': 9.285152197932742,\n",
       " 'reg_lambda': 7.784744078293992,\n",
       " 'subsample': 0.8628511640697093,\n",
       " 'boosting_type': 'gbdt',\n",
       " 'min_child_samples': 47,\n",
       " 'num_leaves': 57,\n",
       " 'colsample_bytree': 0.573325963741589}"
      ]
     },
     "execution_count": 19,
     "metadata": {},
     "output_type": "execute_result"
    }
   ],
   "source": [
    "study.best_trial.params"
   ]
  },
  {
   "cell_type": "code",
   "execution_count": 20,
   "id": "ybeYZ3omaLWK",
   "metadata": {
    "id": "ybeYZ3omaLWK"
   },
   "outputs": [
    {
     "data": {
      "text/html": [
       "<br/>Waiting for W&B process to finish, PID 2524563<br/>Program ended successfully."
      ],
      "text/plain": [
       "<IPython.core.display.HTML object>"
      ]
     },
     "metadata": {},
     "output_type": "display_data"
    },
    {
     "data": {
      "application/vnd.jupyter.widget-view+json": {
       "model_id": "",
       "version_major": 2,
       "version_minor": 0
      },
      "text/plain": [
       "VBox(children=(Label(value=' 0.00MB of 0.00MB uploaded (0.00MB deduped)\\r'), FloatProgress(value=1.0, max=1.0)…"
      ]
     },
     "metadata": {},
     "output_type": "display_data"
    },
    {
     "data": {
      "text/html": [
       "Find user logs for this run at: <code>/home/sf/Dropbox/code_cloud/python_code/kaggle/tabular_playgrounds/sep2021/wandb/run-20210923_053735-1rqlkktl/logs/debug.log</code>"
      ],
      "text/plain": [
       "<IPython.core.display.HTML object>"
      ]
     },
     "metadata": {},
     "output_type": "display_data"
    },
    {
     "data": {
      "text/html": [
       "Find internal logs for this run at: <code>/home/sf/Dropbox/code_cloud/python_code/kaggle/tabular_playgrounds/sep2021/wandb/run-20210923_053735-1rqlkktl/logs/debug-internal.log</code>"
      ],
      "text/plain": [
       "<IPython.core.display.HTML object>"
      ]
     },
     "metadata": {},
     "output_type": "display_data"
    },
    {
     "data": {
      "text/html": [
       "<h3>Run summary:</h3><br/><style>\n",
       "    table.wandb td:nth-child(1) { padding: 0 10px; text-align: right }\n",
       "    </style><table class=\"wandb\">\n",
       "<tr><td>valid_auc</td><td>0.81565</td></tr></table>"
      ],
      "text/plain": [
       "<IPython.core.display.HTML object>"
      ]
     },
     "metadata": {},
     "output_type": "display_data"
    },
    {
     "data": {
      "text/html": [
       "<h3>Run history:</h3><br/><style>\n",
       "    table.wandb td:nth-child(1) { padding: 0 10px; text-align: right }\n",
       "    </style><table class=\"wandb\">\n",
       "<tr><td>valid_auc</td><td>▅▆▅▁▁▇▇▇▇█▇▅▇█▇▄▇▆▇▇▇▆▇██▇██▇▇████▇█▇███</td></tr></table><br/>"
      ],
      "text/plain": [
       "<IPython.core.display.HTML object>"
      ]
     },
     "metadata": {},
     "output_type": "display_data"
    },
    {
     "data": {
      "text/html": [
       "Synced 6 W&B file(s), 0 media file(s), 0 artifact file(s) and 0 other file(s)"
      ],
      "text/plain": [
       "<IPython.core.display.HTML object>"
      ]
     },
     "metadata": {},
     "output_type": "display_data"
    },
    {
     "data": {
      "text/html": [
       "\n",
       "                    <br/>Synced <strong style=\"color:#cdcd00\">sweep_lightgbm_20210923_053717</strong>: <a href=\"https://wandb.ai/hushifang/202109_Kaggle_tabular_playground/runs/1rqlkktl\" target=\"_blank\">https://wandb.ai/hushifang/202109_Kaggle_tabular_playground/runs/1rqlkktl</a><br/>\n",
       "                "
      ],
      "text/plain": [
       "<IPython.core.display.HTML object>"
      ]
     },
     "metadata": {},
     "output_type": "display_data"
    }
   ],
   "source": [
    "wandb.log({'lightgbm_params': study.best_trial.params})\n",
    "wandb.finish()"
   ]
  }
 ],
 "metadata": {
  "colab": {
   "collapsed_sections": [],
   "name": "sweep_lightgbm_20210922.ipynb",
   "provenance": []
  },
  "kernelspec": {
   "display_name": "Python 3",
   "language": "python",
   "name": "python3"
  },
  "language_info": {
   "codemirror_mode": {
    "name": "ipython",
    "version": 3
   },
   "file_extension": ".py",
   "mimetype": "text/x-python",
   "name": "python",
   "nbconvert_exporter": "python",
   "pygments_lexer": "ipython3",
   "version": "3.8.11"
  }
 },
 "nbformat": 4,
 "nbformat_minor": 5
}
