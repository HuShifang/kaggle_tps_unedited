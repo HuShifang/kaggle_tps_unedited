{
 "cells": [
  {
   "cell_type": "markdown",
   "id": "87e815d3-d755-4fa2-85a5-ea4df4948fcd",
   "metadata": {},
   "source": [
    "Header for notebooks -- customize as required."
   ]
  },
  {
   "cell_type": "code",
   "execution_count": 1,
   "id": "843e3531-f950-4701-9330-07960ae9a937",
   "metadata": {},
   "outputs": [],
   "source": [
    "# notebook configuration\n",
    "COLAB = False # will trigger manual installation of packages\n",
    "USE_GPU = True "
   ]
  },
  {
   "cell_type": "code",
   "execution_count": 2,
   "id": "6a61aa18-6ef3-41d1-bb75-08d1f766dbe1",
   "metadata": {},
   "outputs": [],
   "source": [
    "# basic imports\n",
    "from pathlib import Path\n",
    "import os\n",
    "import math\n",
    "from datetime import datetime\n",
    "import random"
   ]
  },
  {
   "cell_type": "code",
   "execution_count": 3,
   "id": "86d84988-5ddb-40d9-bc12-826012acb870",
   "metadata": {},
   "outputs": [],
   "source": [
    "%matplotlib inline\n",
    "%config Completer.use_jedi = False\n",
    "os.environ['WANDB_NOTEBOOK_NAME'] = f\"nb_{datetime.now().strftime('%Y%m%d')}.ipynb\""
   ]
  },
  {
   "cell_type": "markdown",
   "id": "7ddf1e65-6447-47b9-88f2-8d02bbc29af0",
   "metadata": {},
   "source": [
    "Now, non-stdlib imports"
   ]
  },
  {
   "cell_type": "code",
   "execution_count": 4,
   "id": "ee16c791-548b-4616-9c82-ea76001e4749",
   "metadata": {},
   "outputs": [
    {
     "data": {
      "text/html": [
       "<style type='text/css'>\n",
       ".datatable table.frame { margin-bottom: 0; }\n",
       ".datatable table.frame thead { border-bottom: none; }\n",
       ".datatable table.frame tr.coltypes td {  color: #FFFFFF;  line-height: 6px;  padding: 0 0.5em;}\n",
       ".datatable .bool    { background: #DDDD99; }\n",
       ".datatable .object  { background: #565656; }\n",
       ".datatable .int     { background: #5D9E5D; }\n",
       ".datatable .float   { background: #4040CC; }\n",
       ".datatable .str     { background: #CC4040; }\n",
       ".datatable .time    { background: #40CC40; }\n",
       ".datatable .row_index {  background: var(--jp-border-color3);  border-right: 1px solid var(--jp-border-color0);  color: var(--jp-ui-font-color3);  font-size: 9px;}\n",
       ".datatable .frame tbody td { text-align: left; }\n",
       ".datatable .frame tr.coltypes .row_index {  background: var(--jp-border-color0);}\n",
       ".datatable th:nth-child(2) { padding-left: 12px; }\n",
       ".datatable .hellipsis {  color: var(--jp-cell-editor-border-color);}\n",
       ".datatable .vellipsis {  background: var(--jp-layout-color0);  color: var(--jp-cell-editor-border-color);}\n",
       ".datatable .na {  color: var(--jp-cell-editor-border-color);  font-size: 80%;}\n",
       ".datatable .sp {  opacity: 0.25;}\n",
       ".datatable .footer { font-size: 9px; }\n",
       ".datatable .frame_dimensions {  background: var(--jp-border-color3);  border-top: 1px solid var(--jp-border-color0);  color: var(--jp-ui-font-color3);  display: inline-block;  opacity: 0.6;  padding: 1px 10px 1px 5px;}\n",
       "</style>\n"
      ],
      "text/plain": [
       "<IPython.core.display.HTML object>"
      ]
     },
     "metadata": {},
     "output_type": "display_data"
    }
   ],
   "source": [
    "import pandas as pd\n",
    "import numpy as np\n",
    "import matplotlib.pyplot as plt\n",
    "from tqdm.notebook import tqdm\n",
    "\n",
    "# general ML tooling\n",
    "from sklearn.model_selection import train_test_split, StratifiedKFold, KFold\n",
    "from sklearn.metrics import log_loss, roc_auc_score\n",
    "import wandb\n",
    "from wandb.xgboost import wandb_callback\n",
    "from wandb.lightgbm import wandb_callback\n",
    "from sklearn.impute import SimpleImputer #, KNNImputer\n",
    "\n",
    "import seaborn as sns\n",
    "\n",
    "from catboost import CatBoostClassifier\n",
    "from xgboost import XGBClassifier\n",
    "from lightgbm import LGBMClassifier\n",
    "# from sklearn.ensemble import StackingClassifier, RandomForestClassifier\n",
    "from sklearn.preprocessing import RobustScaler #StandardScaler #, MinMaxScaler, MaxAbsScaler, RobustScaler, PolynomialFeatures\n",
    "from sklearn.linear_model import LogisticRegression\n",
    "# from sklearn.feature_selection import SelectKBest, f_regression\n",
    "from joblib import dump, load\n",
    "# feature engineering tools\n",
    "# from sklearn.feature_selection import mutual_info_regression\n",
    "# import featuretools as ft\n",
    "\n",
    "from BorutaShap import BorutaShap"
   ]
  },
  {
   "cell_type": "code",
   "execution_count": 5,
   "id": "5b139207-5ea6-464d-922e-e4d0a398062f",
   "metadata": {},
   "outputs": [],
   "source": [
    "from pytorch_widedeep import Trainer\n",
    "from pytorch_widedeep.preprocessing import WidePreprocessor, TabPreprocessor\n",
    "from pytorch_widedeep.models import Wide, TabMlp, WideDeep, SAINT#, TabTransformer, TabNet, TabFastFormer, TabResnet\n",
    "from pytorch_widedeep.metrics import Accuracy\n",
    "from torchmetrics import AUROC\n",
    "import torch\n",
    "from torch.optim import Adam, AdamW, Adagrad, SGD, RMSprop, LBFGS\n",
    "from torch.optim.lr_scheduler import ReduceLROnPlateau, CosineAnnealingWarmRestarts, CyclicLR, OneCycleLR, StepLR, CosineAnnealingLR\n",
    "from pytorch_widedeep.callbacks import EarlyStopping, LRHistory, ModelCheckpoint"
   ]
  },
  {
   "cell_type": "code",
   "execution_count": 6,
   "id": "55072fd2-dcc0-4169-a6f8-54d9b76ab432",
   "metadata": {},
   "outputs": [
    {
     "name": "stderr",
     "output_type": "stream",
     "text": [
      "`should_run_async` will not call `transform_cell` automatically in the future. Please pass the result to `transformed_cell` argument and any exception that happen during thetransform in `preprocessing_exc_tuple` in IPython 7.17 and above.\n"
     ]
    }
   ],
   "source": [
    "# import category_encoders as ce"
   ]
  },
  {
   "cell_type": "markdown",
   "id": "d71932e1-2e32-4474-acbc-3cbe63ce993e",
   "metadata": {},
   "source": [
    "Now, datapath setup"
   ]
  },
  {
   "cell_type": "code",
   "execution_count": 7,
   "id": "880b9f33-b517-40ef-a3e6-049dcc52a4e9",
   "metadata": {},
   "outputs": [],
   "source": [
    "if COLAB:\n",
    "    # mount Google Drive\n",
    "    from google.colab import drive\n",
    "    drive.mount('/content/drive')\n",
    "    \n",
    "    # handling datapath\n",
    "    datapath = Path('/content/drive/MyDrive/kaggle/tabular_playgrounds/nov2021/')\n",
    "    \n",
    "else:\n",
    "    # if on local machine\n",
    "#     datapath = Path('/media/sf/easystore/kaggle_data/tabular_playgrounds/sep2021/')  \n",
    "    root = Path('/media/sf/easystore/kaggle_data/tabular_playgrounds/nov2021/')\n",
    "    datapath = root/'datasets'\n",
    "    # edapath = root/'EDA'\n",
    "    # modelpath = Path('/media/sf/easystore/kaggle_data/tabular_playgrounds/oct2021/models/')\n",
    "    predpath = root/'preds'\n",
    "    subpath = root/'submissions'\n",
    "    \n",
    "    for pth in [datapath, predpath, subpath]:\n",
    "        pth.mkdir(exist_ok=True)\n",
    "    \n"
   ]
  },
  {
   "cell_type": "markdown",
   "id": "58fe9e0d-1301-4ade-a63d-9f3d298c2255",
   "metadata": {},
   "source": [
    "## Helpers"
   ]
  },
  {
   "cell_type": "code",
   "execution_count": 8,
   "id": "1905a9de-cd7c-4a73-a39e-b42a8297785c",
   "metadata": {},
   "outputs": [],
   "source": [
    "SEED = 42\n",
    "\n",
    "# Function to seed everything\n",
    "def seed_everything(seed, reproducible=True):\n",
    "    random.seed(seed)\n",
    "    np.random.seed(seed)\n",
    "    os.environ['PYTHONHASHSEED'] = str(seed)\n",
    "    # torch.manual_seed(seed) # set torch CPU seed\n",
    "    # if torch.cuda.is_available():\n",
    "    #     torch.cuda.manual_seed_all(seed) # set torch GPU(s) seed(s)\n",
    "    # if reproducible and torch.backends.cudnn.is_available():\n",
    "    #     torch.backends.cudnn.deterministic = True\n",
    "    #     torch.backends.cudnn.benchmark = False\n",
    "\n",
    "seed_everything(seed=SEED)"
   ]
  },
  {
   "cell_type": "code",
   "execution_count": 9,
   "id": "ba521a1a-8c41-4b9b-becd-36eb62739ba3",
   "metadata": {},
   "outputs": [],
   "source": [
    "def reduce_memory_usage(df, verbose=True):\n",
    "    numerics = [\"int8\", \"int16\", \"int32\", \"int64\", \"float16\", \"float32\", \"float64\"]\n",
    "    start_mem = df.memory_usage().sum() / 1024 ** 2\n",
    "    for col in df.columns:\n",
    "        col_type = df[col].dtypes\n",
    "        if col_type in numerics:\n",
    "            c_min = df[col].min()\n",
    "            c_max = df[col].max()\n",
    "            if str(col_type)[:3] == \"int\":\n",
    "                if c_min > np.iinfo(np.int8).min and c_max < np.iinfo(np.int8).max:\n",
    "                    df[col] = df[col].astype(np.int8)\n",
    "                elif c_min > np.iinfo(np.int16).min and c_max < np.iinfo(np.int16).max:\n",
    "                    df[col] = df[col].astype(np.int16)\n",
    "                elif c_min > np.iinfo(np.int32).min and c_max < np.iinfo(np.int32).max:\n",
    "                    df[col] = df[col].astype(np.int32)\n",
    "                elif c_min > np.iinfo(np.int64).min and c_max < np.iinfo(np.int64).max:\n",
    "                    df[col] = df[col].astype(np.int64)\n",
    "            else:\n",
    "                if (\n",
    "                    c_min > np.finfo(np.float16).min\n",
    "                    and c_max < np.finfo(np.float16).max\n",
    "                ):\n",
    "                    df[col] = df[col].astype(np.float16)\n",
    "                elif (\n",
    "                    c_min > np.finfo(np.float32).min\n",
    "                    and c_max < np.finfo(np.float32).max\n",
    "                ):\n",
    "                    df[col] = df[col].astype(np.float32)\n",
    "                else:\n",
    "                    df[col] = df[col].astype(np.float64)\n",
    "    end_mem = df.memory_usage().sum() / 1024 ** 2\n",
    "    if verbose:\n",
    "        print(\n",
    "            \"Mem. usage decreased to {:.2f} Mb ({:.1f}% reduction)\".format(\n",
    "                end_mem, 100 * (start_mem - end_mem) / start_mem\n",
    "            )\n",
    "        )\n",
    "    return df"
   ]
  },
  {
   "cell_type": "markdown",
   "id": "a6f63ee2-a167-4111-9b44-bf67c8240603",
   "metadata": {},
   "source": [
    "## Metadata"
   ]
  },
  {
   "cell_type": "code",
   "execution_count": 10,
   "id": "ad459104-e31a-4aa0-8a9a-bb279e2b9944",
   "metadata": {
    "tags": []
   },
   "outputs": [],
   "source": [
    "# dataset_params will initially include either trivial class instances or loaded, precomputed artifacts\n",
    "dataset_params = {\n",
    "    # 'train_source': str(datapath/'X-RobustScaled-pca_mle-umap_embedding_20211107-n_comp10-n_neighbors15-rs42.joblib'),\n",
    "    'train_source': str(datapath/'X_orig.feather'),\n",
    "    'target_source': str(datapath/'y_corrected.joblib'),\n",
    "    # 'test_source': str(datapath/'X_test-RobustScaled-pca_mle-umap_embedding_20211107-n_comp10-n_neighbors15-rs42.joblib'),\n",
    "    'test_source': str(datapath/'X_test_orig-no_scaling.feather'),\n",
    "    # 'scaler': str(RobustScaler()),\n",
    "    # 'pca': str(load(datapath/'pca_mle-RobustScaled_orig_trainset.joblib')),\n",
    "    # 'umap': str(load(datapath/'umap_reducer-20211107-n_comp10-n_neighbors15-rs42-pca_mle-RobustScaled_orig_trainset.joblib')),\n",
    "}   \n",
    "\n",
    "# referring back to the already-entered attributes, specify how the pipeline was sequenced\n",
    "# dataset_params['preprocessing_pipeline'] = str([dataset_params['scaler'], dataset_params['pca'], dataset_params['umap']]) # ACTUALLY this is unwieldy\n",
    "# dataset_params['preprocessing_pipeline'] = '[scaler, pca, umap]' # more fragile, but also more readable\n",
    "\n",
    "# now, load the datasets and generate more metadata from them\n",
    "# X = load(dataset_params['train_source'])\n",
    "X = pd.read_feather(dataset_params['train_source'])\n",
    "y = load(dataset_params['target_source'])\n",
    "# X_test = load(dataset_params['test_source'])\n",
    "X_test = pd.read_feather(dataset_params['test_source'])\n",
    "\n",
    "dataset_params['feature_count'] = X.shape[1]\n",
    "dataset_params['instance_count'] = X.shape[0]\n",
    "    "
   ]
  },
  {
   "cell_type": "code",
   "execution_count": 11,
   "id": "d647e8af-e065-4ea8-aa6c-5d158791904b",
   "metadata": {},
   "outputs": [],
   "source": [
    "# # meta-config for preprocessing and cross-validation, but NOT for model parameters\n",
    "# exmodel_config = {\n",
    "# #     \"feature_selector\": SelectKBest,\n",
    "# #     \"k_best\": 80,\n",
    "# #     \"feature_selection_scoring\": f_regression,\n",
    "# #     'random_state': SEED,\n",
    "# #     'feature_generation': ['NaN_counts', 'SummaryStats', 'NaN_OneHots'],\n",
    "# #     'subsample': 1,\n",
    "#     # 'cross_val_strategy': KFold, # None for holdout, or the relevant sklearn class\n",
    "#     # 'kfolds': 5, # if 1, that means just doing holdout\n",
    "#     # 'test_size': 0.2,\n",
    "#     # **dataset_params\n",
    "# #     'features_created': False,\n",
    "# #     'feature_creator': None,\n",
    "# }"
   ]
  },
  {
   "cell_type": "code",
   "execution_count": 12,
   "id": "902ef70d-e4c1-4f7b-aa7e-599f6e3adf1b",
   "metadata": {},
   "outputs": [],
   "source": [
    "# oof_preds_saint_fold0 = load(predpath/f'widedeep_saint-20211127-60epochs-fold0-oofpreds.joblib')"
   ]
  },
  {
   "cell_type": "code",
   "execution_count": 13,
   "id": "2ca04b42-147b-4979-9781-09e71e607798",
   "metadata": {},
   "outputs": [],
   "source": [
    "# oof_preds_saint_fold4 = load(predpath/f'widedeep_saint-20211127-55epochs-fold4-oofpreds.joblib')"
   ]
  },
  {
   "cell_type": "code",
   "execution_count": 14,
   "id": "869c8117-19e7-4201-9022-fccd316cd71d",
   "metadata": {},
   "outputs": [],
   "source": [
    "# type(oof_preds_saint_fold0)"
   ]
  },
  {
   "cell_type": "code",
   "execution_count": 15,
   "id": "ffea8950-fa00-4f8c-bdf1-8064f818ca78",
   "metadata": {},
   "outputs": [],
   "source": [
    "# oof_preds_saint_fold0.shape"
   ]
  },
  {
   "cell_type": "code",
   "execution_count": 16,
   "id": "72f116eb-3f3e-4962-b104-9f2081a64427",
   "metadata": {},
   "outputs": [],
   "source": [
    "# oof_preds_saint_fold4.shape"
   ]
  },
  {
   "cell_type": "code",
   "execution_count": 17,
   "id": "54f9b848-c6af-4b42-bd6c-c783c73fdfec",
   "metadata": {},
   "outputs": [],
   "source": [
    "# test_preds_saint_fold0 = load(predpath/f'widedeep_saint-20211127-60epochs-fold0-testpreds.joblib')\n",
    "# test_preds_saint_fold4 = load(predpath/f'widedeep_saint-20211127-55epochs-fold4-testpreds.joblib')\n"
   ]
  },
  {
   "cell_type": "code",
   "execution_count": 18,
   "id": "eec30e67-b1b1-4789-a1e5-9e03a976d38e",
   "metadata": {},
   "outputs": [],
   "source": [
    "# test_preds_saint_fold0.shape, test_preds_saint_fold4.shape"
   ]
  },
  {
   "cell_type": "code",
   "execution_count": 19,
   "id": "fe1e98b4-6d82-46b9-a87a-6e7ec7ef568d",
   "metadata": {},
   "outputs": [],
   "source": [
    "# df = pd.DataFrame({0: test_preds_saint_fold0, 4: test_preds_saint_fold4})\n",
    "# df"
   ]
  },
  {
   "cell_type": "code",
   "execution_count": 20,
   "id": "108a5a3e-1aa9-47a3-a485-e6ba7851e314",
   "metadata": {},
   "outputs": [],
   "source": [
    "# df.hist()"
   ]
  },
  {
   "cell_type": "code",
   "execution_count": null,
   "id": "6d3ba58d-2b36-4930-bc2b-bb5c7d00e2b0",
   "metadata": {},
   "outputs": [],
   "source": []
  },
  {
   "cell_type": "code",
   "execution_count": 21,
   "id": "5f76b8a1-56a8-4405-95d8-f8c425eeaf23",
   "metadata": {},
   "outputs": [],
   "source": [
    "# oof_preds_saint = pd.DataFrame()#{ fold: load(predpath/f'widedeep_saint-20211127-60epochs-fold{fold}-oofpreds.joblib') for fold in range(4)}, columns=[f'saint_f{fold}' for fold in range(4)])\n",
    "# test_preds_saint = pd.DataFrame()\n",
    "\n",
    "# for fold in range(5):\n",
    "#     oof_preds_saint[f'saint_f{fold}'] = load(predpath/f'widedeep_saint-20211127-60epochs-fold{fold}-oofpreds.joblib')\n",
    "#     test_preds_saint[f'saint_f{fold}'] = load(predpath/f'widedeep_saint-20211127-60epochs-fold{fold}-testpreds.joblib')\n",
    "    \n",
    "# oof_preds_saint['saint_f4'] = load(predpath/'widedeep_saint-20211127-55epochs-fold4-oofpreds.joblib')\n",
    "# test_preds_saint = pd.DataFrame({ fold: load(predpath/f'widedeep_saint-20211127-60epochs-fold{fold}-testpreds.joblib') for fold in range(4)}, columns=[f'saint_f{fold}' for fold in range(4)])\n",
    "# test_preds_saint['saint_f4'] = load(predpath/'widedeep_saint-20211127-55epochs-fold4-testpreds.joblib')"
   ]
  },
  {
   "cell_type": "code",
   "execution_count": 22,
   "id": "8d8d0869-cd9b-4892-819f-4f2df6e8c66c",
   "metadata": {},
   "outputs": [],
   "source": [
    "# test_preds_saint.corr()"
   ]
  },
  {
   "cell_type": "code",
   "execution_count": 23,
   "id": "ffb26a77-0e25-4def-b221-df26787b6ecd",
   "metadata": {},
   "outputs": [],
   "source": [
    "# test_preds_saint.iloc[60160:60288, :] # this is all the missing ones"
   ]
  },
  {
   "cell_type": "code",
   "execution_count": 24,
   "id": "436ced83-e4a0-46c7-8cc0-60a3fac58cc2",
   "metadata": {},
   "outputs": [],
   "source": [
    "# X_test.iloc[60160]"
   ]
  },
  {
   "cell_type": "code",
   "execution_count": 25,
   "id": "428b4c18-6b15-48f0-a26d-188adee88941",
   "metadata": {},
   "outputs": [],
   "source": [
    "# y[60160:60293]"
   ]
  },
  {
   "cell_type": "code",
   "execution_count": 26,
   "id": "f41fae38-ace9-49b9-80b0-fd41cd618be4",
   "metadata": {},
   "outputs": [],
   "source": [
    "# oof_preds_saint.corr()"
   ]
  },
  {
   "cell_type": "markdown",
   "id": "145d4678-af1a-4b74-a04c-e2470714ff49",
   "metadata": {},
   "source": [
    "Let's generate a real OOF pred df"
   ]
  },
  {
   "cell_type": "code",
   "execution_count": null,
   "id": "287586b1-bebc-4e60-8478-508da89b0734",
   "metadata": {},
   "outputs": [],
   "source": []
  },
  {
   "cell_type": "code",
   "execution_count": 27,
   "id": "c7c79a04-e289-463d-903e-fe73f8ce5e48",
   "metadata": {},
   "outputs": [],
   "source": [
    "# X_wide = load(datapath/'X_wide.joblib')\n",
    "# X_tab = load(datapath/'X_tab.joblib')\n",
    "# cont_cols = load(datapath/'cont_cols.joblib')\n",
    "# tab_preprocessor = load(datapath/'tab_preprocessor.joblib')\n",
    "\n",
    "# saint_oof_preds = []\n",
    "# # train_preds = load(datapath/'saint_oofpreds.joblib')\n",
    "\n",
    "# for fold in range(5):\n",
    "#     saint_oof_preds.extend(load(predpath/f'widedeep_saint-20211127-60epochs-fold{fold}-oofpreds.joblib'))\n",
    "# #     wide = Wide(wide_dim=np.unique(X_wide).shape[0], pred_dim=1)\n",
    "# #     deeptabular = SAINT(continuous_cols=cont_cols, column_idx=tab_preprocessor.column_idx,)\n",
    "# #     model = WideDeep(wide=wide, deeptabular=deeptabular)\n",
    "# #     model.load_state_dict(torch.load(datapath/f\"widedeep_saint-20211127-weights-60epochs-fold{fold}/wd_model.pt\"))\n",
    "# #     wide_opt = AdamW(model.wide.parameters(),)\n",
    "# #     deep_opt = SGD(model.deeptabular.parameters(),  lr=0.01, momentum=0.75)\n",
    "\n",
    "# #     wide_sch = CosineAnnealingWarmRestarts(optimizer=wide_opt, T_0=5) \n",
    "# #     deep_sch = ReduceLROnPlateau(optimizer=deep_opt, )\n",
    "\n",
    "# #     # deep_sch = OneCycleLR(optimizer=deep_opt, max_lr=0.01, steps_per_epoch=X_train_tab.shape[0], epochs=n_epochs)\n",
    "\n",
    "# #     # optimizers = {'deeptabular': deep_opt }\n",
    "# #     # lr_schedulers = {'deeptabular': deep_sch }\n",
    "\n",
    "# #     optimizers = {'wide': wide_opt, 'deeptabular': deep_opt }\n",
    "# #     lr_schedulers = {'wide': wide_sch, 'deeptabular': deep_sch }\n",
    "\n",
    "# #     callbacks = [\n",
    "# #         LRHistory(n_epochs=60), \n",
    "# #     ]\n",
    "\n",
    "# #     # trainer\n",
    "# #     trainer = Trainer(model=model, \n",
    "# #                       objective='binary', \n",
    "# #                       metrics=[Accuracy], # with AUROC got TypeError: '>' not supported between instances of 'NoneType' and 'int' \n",
    "# #                       seed=42, \n",
    "# #                       optimizers=optimizers,\n",
    "# #                       callbacks=callbacks\n",
    "# #                      )\n",
    "    \n",
    "# #     train_preds[f'saint_f{fold}'] = trainer.predict_proba(X_wide=np.array(X_wide), X_tab=np.array(X_tab), batch_size=128)[:,1]\n"
   ]
  },
  {
   "cell_type": "code",
   "execution_count": 28,
   "id": "5033aa84-159d-4c8f-a34e-d2d1779d786c",
   "metadata": {},
   "outputs": [],
   "source": [
    "# len(saint_oof_preds)"
   ]
  },
  {
   "cell_type": "code",
   "execution_count": 29,
   "id": "366d91ba-70ee-4bd5-82cf-6f5f0a555e51",
   "metadata": {},
   "outputs": [],
   "source": [
    "# oof_preds = load(predpath/'oof_gbms.joblib')"
   ]
  },
  {
   "cell_type": "code",
   "execution_count": 30,
   "id": "60a0f6c1-ff4c-4875-8ed0-45f824a52469",
   "metadata": {},
   "outputs": [],
   "source": [
    "# oof_preds"
   ]
  },
  {
   "cell_type": "code",
   "execution_count": 31,
   "id": "2a567bb3-fcfb-496f-a875-54da9298a756",
   "metadata": {},
   "outputs": [],
   "source": [
    "# oof_preds['saint'] = pd.Series(saint_oof_preds)"
   ]
  },
  {
   "cell_type": "code",
   "execution_count": 32,
   "id": "77db20a5-3e02-4ec5-9eec-0b79493cfc60",
   "metadata": {},
   "outputs": [],
   "source": [
    "# oof_preds"
   ]
  },
  {
   "cell_type": "code",
   "execution_count": 33,
   "id": "a4e31d39-239f-470c-8c30-e46f056d19b5",
   "metadata": {},
   "outputs": [],
   "source": [
    "# dump(oof_preds, 'gbms+saint_oof_preds.joblib')\n",
    "oof_preds = load('gbms+saint_oof_preds.joblib')"
   ]
  },
  {
   "cell_type": "code",
   "execution_count": 34,
   "id": "3e295d34-3563-46e5-887d-e547386d2a2a",
   "metadata": {},
   "outputs": [
    {
     "data": {
      "text/html": [
       "<div>\n",
       "<style scoped>\n",
       "    .dataframe tbody tr th:only-of-type {\n",
       "        vertical-align: middle;\n",
       "    }\n",
       "\n",
       "    .dataframe tbody tr th {\n",
       "        vertical-align: top;\n",
       "    }\n",
       "\n",
       "    .dataframe thead th {\n",
       "        text-align: right;\n",
       "    }\n",
       "</style>\n",
       "<table border=\"1\" class=\"dataframe\">\n",
       "  <thead>\n",
       "    <tr style=\"text-align: right;\">\n",
       "      <th></th>\n",
       "      <th>xgboost42</th>\n",
       "      <th>lightgbm42</th>\n",
       "      <th>catboost42</th>\n",
       "      <th>saint</th>\n",
       "    </tr>\n",
       "  </thead>\n",
       "  <tbody>\n",
       "    <tr>\n",
       "      <th>0</th>\n",
       "      <td>5.153820e-11</td>\n",
       "      <td>2.642110e-07</td>\n",
       "      <td>2.322236e-09</td>\n",
       "      <td>1.018756e-29</td>\n",
       "    </tr>\n",
       "    <tr>\n",
       "      <th>1</th>\n",
       "      <td>1.029748e-05</td>\n",
       "      <td>4.781129e-04</td>\n",
       "      <td>5.130888e-05</td>\n",
       "      <td>1.066424e-24</td>\n",
       "    </tr>\n",
       "    <tr>\n",
       "      <th>2</th>\n",
       "      <td>7.376351e-03</td>\n",
       "      <td>9.700357e-03</td>\n",
       "      <td>2.242425e-03</td>\n",
       "      <td>3.401111e-11</td>\n",
       "    </tr>\n",
       "    <tr>\n",
       "      <th>3</th>\n",
       "      <td>9.442069e-01</td>\n",
       "      <td>8.120532e-01</td>\n",
       "      <td>9.509545e-01</td>\n",
       "      <td>9.999985e-01</td>\n",
       "    </tr>\n",
       "    <tr>\n",
       "      <th>4</th>\n",
       "      <td>1.938010e-04</td>\n",
       "      <td>1.799452e-03</td>\n",
       "      <td>1.023404e-03</td>\n",
       "      <td>2.913177e-15</td>\n",
       "    </tr>\n",
       "    <tr>\n",
       "      <th>...</th>\n",
       "      <td>...</td>\n",
       "      <td>...</td>\n",
       "      <td>...</td>\n",
       "      <td>...</td>\n",
       "    </tr>\n",
       "    <tr>\n",
       "      <th>599995</th>\n",
       "      <td>9.996506e-01</td>\n",
       "      <td>9.758078e-01</td>\n",
       "      <td>9.976846e-01</td>\n",
       "      <td>9.784377e-01</td>\n",
       "    </tr>\n",
       "    <tr>\n",
       "      <th>599996</th>\n",
       "      <td>6.274729e-01</td>\n",
       "      <td>8.185236e-01</td>\n",
       "      <td>6.282821e-01</td>\n",
       "      <td>6.310167e-01</td>\n",
       "    </tr>\n",
       "    <tr>\n",
       "      <th>599997</th>\n",
       "      <td>9.946442e-01</td>\n",
       "      <td>9.847594e-01</td>\n",
       "      <td>9.869348e-01</td>\n",
       "      <td>9.999986e-01</td>\n",
       "    </tr>\n",
       "    <tr>\n",
       "      <th>599998</th>\n",
       "      <td>9.999998e-01</td>\n",
       "      <td>9.999734e-01</td>\n",
       "      <td>9.999941e-01</td>\n",
       "      <td>1.000000e+00</td>\n",
       "    </tr>\n",
       "    <tr>\n",
       "      <th>599999</th>\n",
       "      <td>2.541737e-05</td>\n",
       "      <td>6.132267e-04</td>\n",
       "      <td>1.452176e-04</td>\n",
       "      <td>4.358810e-14</td>\n",
       "    </tr>\n",
       "  </tbody>\n",
       "</table>\n",
       "<p>600000 rows × 4 columns</p>\n",
       "</div>"
      ],
      "text/plain": [
       "           xgboost42    lightgbm42    catboost42         saint\n",
       "0       5.153820e-11  2.642110e-07  2.322236e-09  1.018756e-29\n",
       "1       1.029748e-05  4.781129e-04  5.130888e-05  1.066424e-24\n",
       "2       7.376351e-03  9.700357e-03  2.242425e-03  3.401111e-11\n",
       "3       9.442069e-01  8.120532e-01  9.509545e-01  9.999985e-01\n",
       "4       1.938010e-04  1.799452e-03  1.023404e-03  2.913177e-15\n",
       "...              ...           ...           ...           ...\n",
       "599995  9.996506e-01  9.758078e-01  9.976846e-01  9.784377e-01\n",
       "599996  6.274729e-01  8.185236e-01  6.282821e-01  6.310167e-01\n",
       "599997  9.946442e-01  9.847594e-01  9.869348e-01  9.999986e-01\n",
       "599998  9.999998e-01  9.999734e-01  9.999941e-01  1.000000e+00\n",
       "599999  2.541737e-05  6.132267e-04  1.452176e-04  4.358810e-14\n",
       "\n",
       "[600000 rows x 4 columns]"
      ]
     },
     "execution_count": 34,
     "metadata": {},
     "output_type": "execute_result"
    }
   ],
   "source": [
    "oof_preds"
   ]
  },
  {
   "cell_type": "code",
   "execution_count": 35,
   "id": "45547d33-321d-47ee-9eb7-40ca17f74e97",
   "metadata": {},
   "outputs": [
    {
     "name": "stderr",
     "output_type": "stream",
     "text": [
      "`should_run_async` will not call `transform_cell` automatically in the future. Please pass the result to `transformed_cell` argument and any exception that happen during thetransform in `preprocessing_exc_tuple` in IPython 7.17 and above.\n"
     ]
    }
   ],
   "source": [
    "oof_preds['target'] = y"
   ]
  },
  {
   "cell_type": "code",
   "execution_count": 36,
   "id": "635fc58f-c895-4750-843a-8b37f02a81b6",
   "metadata": {},
   "outputs": [
    {
     "data": {
      "text/html": [
       "<div>\n",
       "<style scoped>\n",
       "    .dataframe tbody tr th:only-of-type {\n",
       "        vertical-align: middle;\n",
       "    }\n",
       "\n",
       "    .dataframe tbody tr th {\n",
       "        vertical-align: top;\n",
       "    }\n",
       "\n",
       "    .dataframe thead th {\n",
       "        text-align: right;\n",
       "    }\n",
       "</style>\n",
       "<table border=\"1\" class=\"dataframe\">\n",
       "  <thead>\n",
       "    <tr style=\"text-align: right;\">\n",
       "      <th></th>\n",
       "      <th>xgboost42</th>\n",
       "      <th>lightgbm42</th>\n",
       "      <th>catboost42</th>\n",
       "      <th>saint</th>\n",
       "      <th>target</th>\n",
       "    </tr>\n",
       "  </thead>\n",
       "  <tbody>\n",
       "    <tr>\n",
       "      <th>0</th>\n",
       "      <td>5.153820e-11</td>\n",
       "      <td>2.642110e-07</td>\n",
       "      <td>2.322236e-09</td>\n",
       "      <td>1.018756e-29</td>\n",
       "      <td>0</td>\n",
       "    </tr>\n",
       "    <tr>\n",
       "      <th>1</th>\n",
       "      <td>1.029748e-05</td>\n",
       "      <td>4.781129e-04</td>\n",
       "      <td>5.130888e-05</td>\n",
       "      <td>1.066424e-24</td>\n",
       "      <td>0</td>\n",
       "    </tr>\n",
       "    <tr>\n",
       "      <th>2</th>\n",
       "      <td>7.376351e-03</td>\n",
       "      <td>9.700357e-03</td>\n",
       "      <td>2.242425e-03</td>\n",
       "      <td>3.401111e-11</td>\n",
       "      <td>0</td>\n",
       "    </tr>\n",
       "    <tr>\n",
       "      <th>3</th>\n",
       "      <td>9.442069e-01</td>\n",
       "      <td>8.120532e-01</td>\n",
       "      <td>9.509545e-01</td>\n",
       "      <td>9.999985e-01</td>\n",
       "      <td>1</td>\n",
       "    </tr>\n",
       "    <tr>\n",
       "      <th>4</th>\n",
       "      <td>1.938010e-04</td>\n",
       "      <td>1.799452e-03</td>\n",
       "      <td>1.023404e-03</td>\n",
       "      <td>2.913177e-15</td>\n",
       "      <td>1</td>\n",
       "    </tr>\n",
       "    <tr>\n",
       "      <th>...</th>\n",
       "      <td>...</td>\n",
       "      <td>...</td>\n",
       "      <td>...</td>\n",
       "      <td>...</td>\n",
       "      <td>...</td>\n",
       "    </tr>\n",
       "    <tr>\n",
       "      <th>599995</th>\n",
       "      <td>9.996506e-01</td>\n",
       "      <td>9.758078e-01</td>\n",
       "      <td>9.976846e-01</td>\n",
       "      <td>9.784377e-01</td>\n",
       "      <td>1</td>\n",
       "    </tr>\n",
       "    <tr>\n",
       "      <th>599996</th>\n",
       "      <td>6.274729e-01</td>\n",
       "      <td>8.185236e-01</td>\n",
       "      <td>6.282821e-01</td>\n",
       "      <td>6.310167e-01</td>\n",
       "      <td>0</td>\n",
       "    </tr>\n",
       "    <tr>\n",
       "      <th>599997</th>\n",
       "      <td>9.946442e-01</td>\n",
       "      <td>9.847594e-01</td>\n",
       "      <td>9.869348e-01</td>\n",
       "      <td>9.999986e-01</td>\n",
       "      <td>0</td>\n",
       "    </tr>\n",
       "    <tr>\n",
       "      <th>599998</th>\n",
       "      <td>9.999998e-01</td>\n",
       "      <td>9.999734e-01</td>\n",
       "      <td>9.999941e-01</td>\n",
       "      <td>1.000000e+00</td>\n",
       "      <td>1</td>\n",
       "    </tr>\n",
       "    <tr>\n",
       "      <th>599999</th>\n",
       "      <td>2.541737e-05</td>\n",
       "      <td>6.132267e-04</td>\n",
       "      <td>1.452176e-04</td>\n",
       "      <td>4.358810e-14</td>\n",
       "      <td>1</td>\n",
       "    </tr>\n",
       "  </tbody>\n",
       "</table>\n",
       "<p>600000 rows × 5 columns</p>\n",
       "</div>"
      ],
      "text/plain": [
       "           xgboost42    lightgbm42    catboost42         saint  target\n",
       "0       5.153820e-11  2.642110e-07  2.322236e-09  1.018756e-29       0\n",
       "1       1.029748e-05  4.781129e-04  5.130888e-05  1.066424e-24       0\n",
       "2       7.376351e-03  9.700357e-03  2.242425e-03  3.401111e-11       0\n",
       "3       9.442069e-01  8.120532e-01  9.509545e-01  9.999985e-01       1\n",
       "4       1.938010e-04  1.799452e-03  1.023404e-03  2.913177e-15       1\n",
       "...              ...           ...           ...           ...     ...\n",
       "599995  9.996506e-01  9.758078e-01  9.976846e-01  9.784377e-01       1\n",
       "599996  6.274729e-01  8.185236e-01  6.282821e-01  6.310167e-01       0\n",
       "599997  9.946442e-01  9.847594e-01  9.869348e-01  9.999986e-01       0\n",
       "599998  9.999998e-01  9.999734e-01  9.999941e-01  1.000000e+00       1\n",
       "599999  2.541737e-05  6.132267e-04  1.452176e-04  4.358810e-14       1\n",
       "\n",
       "[600000 rows x 5 columns]"
      ]
     },
     "execution_count": 36,
     "metadata": {},
     "output_type": "execute_result"
    }
   ],
   "source": [
    "oof_preds"
   ]
  },
  {
   "cell_type": "code",
   "execution_count": null,
   "id": "de80ad11-845f-4f9f-ad75-427a6e8eaa24",
   "metadata": {},
   "outputs": [],
   "source": []
  },
  {
   "cell_type": "code",
   "execution_count": 28,
   "id": "04fd87bf-9667-4427-a0ab-3036c25cf2e4",
   "metadata": {},
   "outputs": [],
   "source": [
    "# train_preds.iloc[60160:60288, :]"
   ]
  },
  {
   "cell_type": "code",
   "execution_count": 29,
   "id": "bf988bba-7292-4aeb-b067-2530eec8589f",
   "metadata": {},
   "outputs": [],
   "source": [
    "# dump(train_preds, datapath/'saint_oofpreds.joblib')\n",
    "# train_preds = load(datapath/'saint_oofpreds.joblib')"
   ]
  },
  {
   "cell_type": "code",
   "execution_count": 37,
   "id": "1dc65955-bbc8-473a-9a4e-17bfd37c11aa",
   "metadata": {},
   "outputs": [
    {
     "name": "stderr",
     "output_type": "stream",
     "text": [
      "`should_run_async` will not call `transform_cell` automatically in the future. Please pass the result to `transformed_cell` argument and any exception that happen during thetransform in `preprocessing_exc_tuple` in IPython 7.17 and above.\n"
     ]
    }
   ],
   "source": [
    "X_wide = load(datapath/'X_wide.joblib')\n",
    "X_tab = load(datapath/'X_tab.joblib')\n",
    "X_wide_test = load(datapath/'X_wide_test_FIXED.joblib')\n",
    "X_tab_test = load(datapath/'X_tab_test_FIXED.joblib')\n",
    "cont_cols = load(datapath/'cont_cols.joblib')\n",
    "tab_preprocessor = load(datapath/'tab_preprocessor.joblib')\n",
    "\n",
    "# test_preds = pd.DataFrame()\n",
    "# test_preds = load(predpath/'saint_fixed_testpreds_20211130.joblib')"
   ]
  },
  {
   "cell_type": "code",
   "execution_count": 38,
   "id": "1b1fc2c0-99b8-453a-92f1-5f92c716cbf6",
   "metadata": {},
   "outputs": [],
   "source": [
    "test_preds_saint = load(predpath/'saint_fixed_testpreds_20211130_with_mean.joblib')"
   ]
  },
  {
   "cell_type": "code",
   "execution_count": 39,
   "id": "857ddbd1-c98c-45c1-8c88-0fd390a06d2c",
   "metadata": {},
   "outputs": [
    {
     "data": {
      "text/html": [
       "<div>\n",
       "<style scoped>\n",
       "    .dataframe tbody tr th:only-of-type {\n",
       "        vertical-align: middle;\n",
       "    }\n",
       "\n",
       "    .dataframe tbody tr th {\n",
       "        vertical-align: top;\n",
       "    }\n",
       "\n",
       "    .dataframe thead th {\n",
       "        text-align: right;\n",
       "    }\n",
       "</style>\n",
       "<table border=\"1\" class=\"dataframe\">\n",
       "  <thead>\n",
       "    <tr style=\"text-align: right;\">\n",
       "      <th></th>\n",
       "      <th>saint_f0</th>\n",
       "      <th>saint_f1</th>\n",
       "      <th>saint_f2</th>\n",
       "      <th>saint_f3</th>\n",
       "      <th>saint_f4</th>\n",
       "      <th>mean</th>\n",
       "    </tr>\n",
       "  </thead>\n",
       "  <tbody>\n",
       "    <tr>\n",
       "      <th>0</th>\n",
       "      <td>1.000000</td>\n",
       "      <td>1.000000</td>\n",
       "      <td>1.000000</td>\n",
       "      <td>1.000000</td>\n",
       "      <td>1.000000</td>\n",
       "      <td>1.000000</td>\n",
       "    </tr>\n",
       "    <tr>\n",
       "      <th>1</th>\n",
       "      <td>1.000000</td>\n",
       "      <td>1.000000</td>\n",
       "      <td>1.000000</td>\n",
       "      <td>1.000000</td>\n",
       "      <td>1.000000</td>\n",
       "      <td>1.000000</td>\n",
       "    </tr>\n",
       "    <tr>\n",
       "      <th>2</th>\n",
       "      <td>1.000000</td>\n",
       "      <td>1.000000</td>\n",
       "      <td>1.000000</td>\n",
       "      <td>0.999999</td>\n",
       "      <td>1.000000</td>\n",
       "      <td>1.000000</td>\n",
       "    </tr>\n",
       "    <tr>\n",
       "      <th>3</th>\n",
       "      <td>0.980476</td>\n",
       "      <td>0.227577</td>\n",
       "      <td>0.921866</td>\n",
       "      <td>0.999973</td>\n",
       "      <td>0.966152</td>\n",
       "      <td>0.819209</td>\n",
       "    </tr>\n",
       "    <tr>\n",
       "      <th>4</th>\n",
       "      <td>1.000000</td>\n",
       "      <td>1.000000</td>\n",
       "      <td>1.000000</td>\n",
       "      <td>1.000000</td>\n",
       "      <td>1.000000</td>\n",
       "      <td>1.000000</td>\n",
       "    </tr>\n",
       "    <tr>\n",
       "      <th>...</th>\n",
       "      <td>...</td>\n",
       "      <td>...</td>\n",
       "      <td>...</td>\n",
       "      <td>...</td>\n",
       "      <td>...</td>\n",
       "      <td>...</td>\n",
       "    </tr>\n",
       "    <tr>\n",
       "      <th>539995</th>\n",
       "      <td>1.000000</td>\n",
       "      <td>1.000000</td>\n",
       "      <td>1.000000</td>\n",
       "      <td>1.000000</td>\n",
       "      <td>1.000000</td>\n",
       "      <td>1.000000</td>\n",
       "    </tr>\n",
       "    <tr>\n",
       "      <th>539996</th>\n",
       "      <td>1.000000</td>\n",
       "      <td>1.000000</td>\n",
       "      <td>1.000000</td>\n",
       "      <td>1.000000</td>\n",
       "      <td>1.000000</td>\n",
       "      <td>1.000000</td>\n",
       "    </tr>\n",
       "    <tr>\n",
       "      <th>539997</th>\n",
       "      <td>0.236990</td>\n",
       "      <td>0.126843</td>\n",
       "      <td>0.017522</td>\n",
       "      <td>0.626631</td>\n",
       "      <td>0.000961</td>\n",
       "      <td>0.201790</td>\n",
       "    </tr>\n",
       "    <tr>\n",
       "      <th>539998</th>\n",
       "      <td>1.000000</td>\n",
       "      <td>1.000000</td>\n",
       "      <td>1.000000</td>\n",
       "      <td>1.000000</td>\n",
       "      <td>1.000000</td>\n",
       "      <td>1.000000</td>\n",
       "    </tr>\n",
       "    <tr>\n",
       "      <th>539999</th>\n",
       "      <td>1.000000</td>\n",
       "      <td>1.000000</td>\n",
       "      <td>1.000000</td>\n",
       "      <td>1.000000</td>\n",
       "      <td>1.000000</td>\n",
       "      <td>1.000000</td>\n",
       "    </tr>\n",
       "  </tbody>\n",
       "</table>\n",
       "<p>540000 rows × 6 columns</p>\n",
       "</div>"
      ],
      "text/plain": [
       "        saint_f0  saint_f1  saint_f2  saint_f3  saint_f4      mean\n",
       "0       1.000000  1.000000  1.000000  1.000000  1.000000  1.000000\n",
       "1       1.000000  1.000000  1.000000  1.000000  1.000000  1.000000\n",
       "2       1.000000  1.000000  1.000000  0.999999  1.000000  1.000000\n",
       "3       0.980476  0.227577  0.921866  0.999973  0.966152  0.819209\n",
       "4       1.000000  1.000000  1.000000  1.000000  1.000000  1.000000\n",
       "...          ...       ...       ...       ...       ...       ...\n",
       "539995  1.000000  1.000000  1.000000  1.000000  1.000000  1.000000\n",
       "539996  1.000000  1.000000  1.000000  1.000000  1.000000  1.000000\n",
       "539997  0.236990  0.126843  0.017522  0.626631  0.000961  0.201790\n",
       "539998  1.000000  1.000000  1.000000  1.000000  1.000000  1.000000\n",
       "539999  1.000000  1.000000  1.000000  1.000000  1.000000  1.000000\n",
       "\n",
       "[540000 rows x 6 columns]"
      ]
     },
     "execution_count": 39,
     "metadata": {},
     "output_type": "execute_result"
    }
   ],
   "source": [
    "test_preds_saint"
   ]
  },
  {
   "cell_type": "code",
   "execution_count": 40,
   "id": "6e0b520f-b255-4253-b289-9edc88c51c51",
   "metadata": {},
   "outputs": [
    {
     "name": "stderr",
     "output_type": "stream",
     "text": [
      "`should_run_async` will not call `transform_cell` automatically in the future. Please pass the result to `transformed_cell` argument and any exception that happen during thetransform in `preprocessing_exc_tuple` in IPython 7.17 and above.\n"
     ]
    }
   ],
   "source": [
    "# test_preds_saint_fixed = test_preds_saint.fillna("
   ]
  },
  {
   "cell_type": "code",
   "execution_count": 21,
   "id": "0bc993b1-4f12-4ee5-9880-829952e59c24",
   "metadata": {},
   "outputs": [
    {
     "name": "stderr",
     "output_type": "stream",
     "text": [
      "`should_run_async` will not call `transform_cell` automatically in the future. Please pass the result to `transformed_cell` argument and any exception that happen during thetransform in `preprocessing_exc_tuple` in IPython 7.17 and above.\n"
     ]
    },
    {
     "data": {
      "text/plain": [
       "saint_f0    True\n",
       "saint_f1    True\n",
       "saint_f2    True\n",
       "saint_f3    True\n",
       "saint_f4    True\n",
       "mean        True\n",
       "dtype: bool"
      ]
     },
     "execution_count": 21,
     "metadata": {},
     "output_type": "execute_result"
    }
   ],
   "source": [
    "# test_preds_saint.fillna(method="
   ]
  },
  {
   "cell_type": "code",
   "execution_count": 41,
   "id": "79b18bf3-af35-4c95-ae9c-d6b3014476b6",
   "metadata": {},
   "outputs": [],
   "source": [
    "test_preds_gbms = load(predpath/'testpreds_gbms.joblib')"
   ]
  },
  {
   "cell_type": "code",
   "execution_count": 42,
   "id": "7696189b-08e4-404a-92f4-5aac037326f5",
   "metadata": {},
   "outputs": [
    {
     "data": {
      "text/html": [
       "<div>\n",
       "<style scoped>\n",
       "    .dataframe tbody tr th:only-of-type {\n",
       "        vertical-align: middle;\n",
       "    }\n",
       "\n",
       "    .dataframe tbody tr th {\n",
       "        vertical-align: top;\n",
       "    }\n",
       "\n",
       "    .dataframe thead th {\n",
       "        text-align: right;\n",
       "    }\n",
       "</style>\n",
       "<table border=\"1\" class=\"dataframe\">\n",
       "  <thead>\n",
       "    <tr style=\"text-align: right;\">\n",
       "      <th></th>\n",
       "      <th>xgboost42</th>\n",
       "      <th>lightgbm42</th>\n",
       "      <th>catboost42</th>\n",
       "    </tr>\n",
       "  </thead>\n",
       "  <tbody>\n",
       "    <tr>\n",
       "      <th>0</th>\n",
       "      <td>0.999973</td>\n",
       "      <td>0.999545</td>\n",
       "      <td>0.999845</td>\n",
       "    </tr>\n",
       "    <tr>\n",
       "      <th>1</th>\n",
       "      <td>0.997947</td>\n",
       "      <td>0.991481</td>\n",
       "      <td>0.995011</td>\n",
       "    </tr>\n",
       "    <tr>\n",
       "      <th>2</th>\n",
       "      <td>1.000000</td>\n",
       "      <td>0.999999</td>\n",
       "      <td>1.000000</td>\n",
       "    </tr>\n",
       "    <tr>\n",
       "      <th>3</th>\n",
       "      <td>0.406173</td>\n",
       "      <td>0.652934</td>\n",
       "      <td>0.393805</td>\n",
       "    </tr>\n",
       "    <tr>\n",
       "      <th>4</th>\n",
       "      <td>0.988284</td>\n",
       "      <td>0.961683</td>\n",
       "      <td>0.979108</td>\n",
       "    </tr>\n",
       "    <tr>\n",
       "      <th>...</th>\n",
       "      <td>...</td>\n",
       "      <td>...</td>\n",
       "      <td>...</td>\n",
       "    </tr>\n",
       "    <tr>\n",
       "      <th>539995</th>\n",
       "      <td>0.999953</td>\n",
       "      <td>0.996887</td>\n",
       "      <td>0.999750</td>\n",
       "    </tr>\n",
       "    <tr>\n",
       "      <th>539996</th>\n",
       "      <td>0.999740</td>\n",
       "      <td>0.995996</td>\n",
       "      <td>0.999138</td>\n",
       "    </tr>\n",
       "    <tr>\n",
       "      <th>539997</th>\n",
       "      <td>0.575609</td>\n",
       "      <td>0.506072</td>\n",
       "      <td>0.541775</td>\n",
       "    </tr>\n",
       "    <tr>\n",
       "      <th>539998</th>\n",
       "      <td>0.999912</td>\n",
       "      <td>0.999435</td>\n",
       "      <td>0.999613</td>\n",
       "    </tr>\n",
       "    <tr>\n",
       "      <th>539999</th>\n",
       "      <td>0.999772</td>\n",
       "      <td>0.996056</td>\n",
       "      <td>0.998878</td>\n",
       "    </tr>\n",
       "  </tbody>\n",
       "</table>\n",
       "<p>540000 rows × 3 columns</p>\n",
       "</div>"
      ],
      "text/plain": [
       "        xgboost42  lightgbm42  catboost42\n",
       "0        0.999973    0.999545    0.999845\n",
       "1        0.997947    0.991481    0.995011\n",
       "2        1.000000    0.999999    1.000000\n",
       "3        0.406173    0.652934    0.393805\n",
       "4        0.988284    0.961683    0.979108\n",
       "...           ...         ...         ...\n",
       "539995   0.999953    0.996887    0.999750\n",
       "539996   0.999740    0.995996    0.999138\n",
       "539997   0.575609    0.506072    0.541775\n",
       "539998   0.999912    0.999435    0.999613\n",
       "539999   0.999772    0.996056    0.998878\n",
       "\n",
       "[540000 rows x 3 columns]"
      ]
     },
     "execution_count": 42,
     "metadata": {},
     "output_type": "execute_result"
    }
   ],
   "source": [
    "test_preds_gbms"
   ]
  },
  {
   "cell_type": "code",
   "execution_count": 31,
   "id": "d60f01f6-a2cd-46dc-a20a-a56acd0782f5",
   "metadata": {},
   "outputs": [],
   "source": [
    "# test_preds"
   ]
  },
  {
   "cell_type": "code",
   "execution_count": 43,
   "id": "518489a8-5976-4d12-bb5d-fcb18d902952",
   "metadata": {},
   "outputs": [
    {
     "name": "stderr",
     "output_type": "stream",
     "text": [
      "`should_run_async` will not call `transform_cell` automatically in the future. Please pass the result to `transformed_cell` argument and any exception that happen during thetransform in `preprocessing_exc_tuple` in IPython 7.17 and above.\n"
     ]
    }
   ],
   "source": [
    "test_preds = pd.DataFrame()"
   ]
  },
  {
   "cell_type": "code",
   "execution_count": 33,
   "id": "083b2b5b-cf6f-4e5f-a52c-d017ffb04636",
   "metadata": {},
   "outputs": [],
   "source": [
    "# for fold in range(3,5):\n",
    "#     wide = Wide(wide_dim=np.unique(X_wide).shape[0], pred_dim=1)\n",
    "#     deeptabular = SAINT(continuous_cols=cont_cols, column_idx=tab_preprocessor.column_idx,)\n",
    "#     model = WideDeep(wide=wide, deeptabular=deeptabular)\n",
    "#     model.load_state_dict(torch.load(datapath/f\"widedeep_saint-20211127-weights-60epochs-fold{fold}/wd_model.pt\"))\n",
    "#     wide_opt = AdamW(model.wide.parameters(),)\n",
    "#     deep_opt = SGD(model.deeptabular.parameters(),  lr=0.01, momentum=0.75)\n",
    "\n",
    "#     wide_sch = CosineAnnealingWarmRestarts(optimizer=wide_opt, T_0=5) \n",
    "#     deep_sch = ReduceLROnPlateau(optimizer=deep_opt, )\n",
    "\n",
    "#     # deep_sch = OneCycleLR(optimizer=deep_opt, max_lr=0.01, steps_per_epoch=X_train_tab.shape[0], epochs=n_epochs)\n",
    "\n",
    "#     # optimizers = {'deeptabular': deep_opt }\n",
    "#     # lr_schedulers = {'deeptabular': deep_sch }\n",
    "\n",
    "#     optimizers = {'wide': wide_opt, 'deeptabular': deep_opt }\n",
    "#     lr_schedulers = {'wide': wide_sch, 'deeptabular': deep_sch }\n",
    "\n",
    "#     callbacks = [\n",
    "#         LRHistory(n_epochs=60), \n",
    "#     ]\n",
    "\n",
    "#     # trainer\n",
    "#     trainer = Trainer(model=model, \n",
    "#                       objective='binary', \n",
    "#                       metrics=[Accuracy], # with AUROC got TypeError: '>' not supported between instances of 'NoneType' and 'int' \n",
    "#                       seed=42, \n",
    "#                       optimizers=optimizers,\n",
    "#                       callbacks=callbacks\n",
    "#                      )\n",
    "    \n",
    "#     test_preds[f'saint_f{fold}'] = trainer.predict_proba(X_wide=np.array(X_wide_test), X_tab=np.array(X_tab_test), batch_size=128)[:,1]\n",
    "# # dump(test_preds, 'saint_fixed_testpreds_20211130.joblib')"
   ]
  },
  {
   "cell_type": "code",
   "execution_count": 44,
   "id": "6ff5d245-1dc8-4909-81da-f34db0edced4",
   "metadata": {},
   "outputs": [
    {
     "name": "stderr",
     "output_type": "stream",
     "text": [
      "`should_run_async` will not call `transform_cell` automatically in the future. Please pass the result to `transformed_cell` argument and any exception that happen during thetransform in `preprocessing_exc_tuple` in IPython 7.17 and above.\n",
      "predict: 100%|██████████| 1/1 [00:00<00:00,  1.15it/s]\n",
      "predict: 100%|██████████| 1/1 [00:00<00:00,  1.70it/s]\n",
      "predict: 100%|██████████| 1/1 [00:00<00:00,  1.58it/s]\n",
      "predict: 100%|██████████| 1/1 [00:00<00:00,  1.72it/s]\n",
      "predict: 100%|██████████| 1/1 [00:00<00:00,  1.73it/s]\n"
     ]
    }
   ],
   "source": [
    "missing_wide = X_wide_test[60160:60288, :]\n",
    "missing_tab = X_tab_test[60160:60288, :]\n",
    "missing_test_preds = pd.DataFrame()\n",
    "\n",
    "# missing batch\n",
    "for fold in range(5):\n",
    "    wide = Wide(wide_dim=np.unique(X_wide).shape[0], pred_dim=1)\n",
    "    deeptabular = SAINT(continuous_cols=cont_cols, column_idx=tab_preprocessor.column_idx,)\n",
    "    model = WideDeep(wide=wide, deeptabular=deeptabular)\n",
    "    model.load_state_dict(torch.load(datapath/f\"widedeep_saint-20211127-weights-60epochs-fold{fold}/wd_model.pt\"))\n",
    "    wide_opt = AdamW(model.wide.parameters(),)\n",
    "    deep_opt = SGD(model.deeptabular.parameters(),  lr=0.01, momentum=0.75)\n",
    "\n",
    "    wide_sch = CosineAnnealingWarmRestarts(optimizer=wide_opt, T_0=5) \n",
    "    deep_sch = ReduceLROnPlateau(optimizer=deep_opt, )\n",
    "\n",
    "    # deep_sch = OneCycleLR(optimizer=deep_opt, max_lr=0.01, steps_per_epoch=X_train_tab.shape[0], epochs=n_epochs)\n",
    "\n",
    "    # optimizers = {'deeptabular': deep_opt }\n",
    "    # lr_schedulers = {'deeptabular': deep_sch }\n",
    "\n",
    "    optimizers = {'wide': wide_opt, 'deeptabular': deep_opt }\n",
    "    lr_schedulers = {'wide': wide_sch, 'deeptabular': deep_sch }\n",
    "\n",
    "    callbacks = [\n",
    "        LRHistory(n_epochs=60), \n",
    "    ]\n",
    "\n",
    "    # trainer\n",
    "    trainer = Trainer(model=model, \n",
    "                      objective='binary', \n",
    "                      metrics=[Accuracy], # with AUROC got TypeError: '>' not supported between instances of 'NoneType' and 'int' \n",
    "                      seed=42, \n",
    "                      optimizers=optimizers,\n",
    "                      callbacks=callbacks\n",
    "                     )\n",
    "    \n",
    "    missing_test_preds[f'saint_f{fold}'] = trainer.predict_proba(X_wide=np.array(missing_wide), X_tab=np.array(missing_tab), batch_size=256,)[:,1]\n",
    "# dump(test_preds, 'saint_fixed_testpreds_20211130.joblib')"
   ]
  },
  {
   "cell_type": "code",
   "execution_count": 45,
   "id": "d5bc620a-6e57-4fa2-9233-2419ded4734b",
   "metadata": {},
   "outputs": [
    {
     "data": {
      "text/html": [
       "<div>\n",
       "<style scoped>\n",
       "    .dataframe tbody tr th:only-of-type {\n",
       "        vertical-align: middle;\n",
       "    }\n",
       "\n",
       "    .dataframe tbody tr th {\n",
       "        vertical-align: top;\n",
       "    }\n",
       "\n",
       "    .dataframe thead th {\n",
       "        text-align: right;\n",
       "    }\n",
       "</style>\n",
       "<table border=\"1\" class=\"dataframe\">\n",
       "  <thead>\n",
       "    <tr style=\"text-align: right;\">\n",
       "      <th></th>\n",
       "      <th>saint_f0</th>\n",
       "      <th>saint_f1</th>\n",
       "      <th>saint_f2</th>\n",
       "      <th>saint_f3</th>\n",
       "      <th>saint_f4</th>\n",
       "    </tr>\n",
       "  </thead>\n",
       "  <tbody>\n",
       "    <tr>\n",
       "      <th>0</th>\n",
       "      <td>NaN</td>\n",
       "      <td>NaN</td>\n",
       "      <td>NaN</td>\n",
       "      <td>NaN</td>\n",
       "      <td>NaN</td>\n",
       "    </tr>\n",
       "    <tr>\n",
       "      <th>1</th>\n",
       "      <td>NaN</td>\n",
       "      <td>NaN</td>\n",
       "      <td>NaN</td>\n",
       "      <td>NaN</td>\n",
       "      <td>NaN</td>\n",
       "    </tr>\n",
       "    <tr>\n",
       "      <th>2</th>\n",
       "      <td>NaN</td>\n",
       "      <td>NaN</td>\n",
       "      <td>NaN</td>\n",
       "      <td>NaN</td>\n",
       "      <td>NaN</td>\n",
       "    </tr>\n",
       "    <tr>\n",
       "      <th>3</th>\n",
       "      <td>NaN</td>\n",
       "      <td>NaN</td>\n",
       "      <td>NaN</td>\n",
       "      <td>NaN</td>\n",
       "      <td>NaN</td>\n",
       "    </tr>\n",
       "    <tr>\n",
       "      <th>4</th>\n",
       "      <td>NaN</td>\n",
       "      <td>NaN</td>\n",
       "      <td>NaN</td>\n",
       "      <td>NaN</td>\n",
       "      <td>NaN</td>\n",
       "    </tr>\n",
       "    <tr>\n",
       "      <th>...</th>\n",
       "      <td>...</td>\n",
       "      <td>...</td>\n",
       "      <td>...</td>\n",
       "      <td>...</td>\n",
       "      <td>...</td>\n",
       "    </tr>\n",
       "    <tr>\n",
       "      <th>123</th>\n",
       "      <td>NaN</td>\n",
       "      <td>NaN</td>\n",
       "      <td>NaN</td>\n",
       "      <td>NaN</td>\n",
       "      <td>NaN</td>\n",
       "    </tr>\n",
       "    <tr>\n",
       "      <th>124</th>\n",
       "      <td>NaN</td>\n",
       "      <td>NaN</td>\n",
       "      <td>NaN</td>\n",
       "      <td>NaN</td>\n",
       "      <td>NaN</td>\n",
       "    </tr>\n",
       "    <tr>\n",
       "      <th>125</th>\n",
       "      <td>NaN</td>\n",
       "      <td>NaN</td>\n",
       "      <td>NaN</td>\n",
       "      <td>NaN</td>\n",
       "      <td>NaN</td>\n",
       "    </tr>\n",
       "    <tr>\n",
       "      <th>126</th>\n",
       "      <td>NaN</td>\n",
       "      <td>NaN</td>\n",
       "      <td>NaN</td>\n",
       "      <td>NaN</td>\n",
       "      <td>NaN</td>\n",
       "    </tr>\n",
       "    <tr>\n",
       "      <th>127</th>\n",
       "      <td>NaN</td>\n",
       "      <td>NaN</td>\n",
       "      <td>NaN</td>\n",
       "      <td>NaN</td>\n",
       "      <td>NaN</td>\n",
       "    </tr>\n",
       "  </tbody>\n",
       "</table>\n",
       "<p>128 rows × 5 columns</p>\n",
       "</div>"
      ],
      "text/plain": [
       "     saint_f0  saint_f1  saint_f2  saint_f3  saint_f4\n",
       "0         NaN       NaN       NaN       NaN       NaN\n",
       "1         NaN       NaN       NaN       NaN       NaN\n",
       "2         NaN       NaN       NaN       NaN       NaN\n",
       "3         NaN       NaN       NaN       NaN       NaN\n",
       "4         NaN       NaN       NaN       NaN       NaN\n",
       "..        ...       ...       ...       ...       ...\n",
       "123       NaN       NaN       NaN       NaN       NaN\n",
       "124       NaN       NaN       NaN       NaN       NaN\n",
       "125       NaN       NaN       NaN       NaN       NaN\n",
       "126       NaN       NaN       NaN       NaN       NaN\n",
       "127       NaN       NaN       NaN       NaN       NaN\n",
       "\n",
       "[128 rows x 5 columns]"
      ]
     },
     "execution_count": 45,
     "metadata": {},
     "output_type": "execute_result"
    }
   ],
   "source": [
    "missing_test_preds"
   ]
  },
  {
   "cell_type": "code",
   "execution_count": 47,
   "id": "adbe174f-cd55-4fc8-af68-7d62a193b892",
   "metadata": {},
   "outputs": [],
   "source": [
    "test_preds_gbms_all = test_preds_gbms.join(test_preds_saint)"
   ]
  },
  {
   "cell_type": "code",
   "execution_count": 48,
   "id": "324b6c22-7901-407f-8eff-eb95bb1eb721",
   "metadata": {},
   "outputs": [
    {
     "name": "stderr",
     "output_type": "stream",
     "text": [
      "`should_run_async` will not call `transform_cell` automatically in the future. Please pass the result to `transformed_cell` argument and any exception that happen during thetransform in `preprocessing_exc_tuple` in IPython 7.17 and above.\n"
     ]
    },
    {
     "data": {
      "text/plain": [
       "xgboost42     False\n",
       "lightgbm42    False\n",
       "catboost42    False\n",
       "saint_f0       True\n",
       "saint_f1       True\n",
       "saint_f2       True\n",
       "saint_f3       True\n",
       "saint_f4       True\n",
       "mean           True\n",
       "dtype: bool"
      ]
     },
     "execution_count": 48,
     "metadata": {},
     "output_type": "execute_result"
    }
   ],
   "source": [
    "test_preds_gbms_all.isna().any()"
   ]
  },
  {
   "cell_type": "code",
   "execution_count": 52,
   "id": "ec876c48-1353-4e16-870e-a40576c181bb",
   "metadata": {},
   "outputs": [
    {
     "name": "stderr",
     "output_type": "stream",
     "text": [
      "`should_run_async` will not call `transform_cell` automatically in the future. Please pass the result to `transformed_cell` argument and any exception that happen during thetransform in `preprocessing_exc_tuple` in IPython 7.17 and above.\n"
     ]
    }
   ],
   "source": [
    "test_preds_tabmlp = pd.DataFrame({fold: pd.Series(load(predpath/f'widedeep-tabmlp-20211127-50epochs-fold{fold}-testpreds.joblib')) for fold in range(5)})"
   ]
  },
  {
   "cell_type": "code",
   "execution_count": 54,
   "id": "f7e8bba5-b27d-48ce-9ecd-2343cd4c3d72",
   "metadata": {},
   "outputs": [
    {
     "name": "stderr",
     "output_type": "stream",
     "text": [
      "`should_run_async` will not call `transform_cell` automatically in the future. Please pass the result to `transformed_cell` argument and any exception that happen during thetransform in `preprocessing_exc_tuple` in IPython 7.17 and above.\n"
     ]
    }
   ],
   "source": [
    "test_preds_tabmlp.columns = [f'tabmlp_f{fold}' for fold in range(5)]"
   ]
  },
  {
   "cell_type": "code",
   "execution_count": 56,
   "id": "f7897cea-a839-4210-8c5e-0211746dae3b",
   "metadata": {},
   "outputs": [
    {
     "name": "stderr",
     "output_type": "stream",
     "text": [
      "`should_run_async` will not call `transform_cell` automatically in the future. Please pass the result to `transformed_cell` argument and any exception that happen during thetransform in `preprocessing_exc_tuple` in IPython 7.17 and above.\n"
     ]
    },
    {
     "data": {
      "text/plain": [
       "tabmlp_f0    True\n",
       "tabmlp_f1    True\n",
       "tabmlp_f2    True\n",
       "tabmlp_f3    True\n",
       "tabmlp_f4    True\n",
       "dtype: bool"
      ]
     },
     "execution_count": 56,
     "metadata": {},
     "output_type": "execute_result"
    }
   ],
   "source": [
    "test_preds_tabmlp.isna().any()"
   ]
  },
  {
   "cell_type": "code",
   "execution_count": 60,
   "id": "f76dfc4f-8e8d-4d40-89a3-25985c05914d",
   "metadata": {},
   "outputs": [],
   "source": [
    "test_preds_tabmlp['mean-tabmlp'] = sum([test_preds_tabmlp[f'tabmlp_f{fold}'] for fold in range(5)]) / 5"
   ]
  },
  {
   "cell_type": "code",
   "execution_count": 62,
   "id": "5b4a1c07-5dd5-4b95-95fc-76061611d733",
   "metadata": {},
   "outputs": [
    {
     "name": "stderr",
     "output_type": "stream",
     "text": [
      "`should_run_async` will not call `transform_cell` automatically in the future. Please pass the result to `transformed_cell` argument and any exception that happen during thetransform in `preprocessing_exc_tuple` in IPython 7.17 and above.\n"
     ]
    }
   ],
   "source": [
    "test_preds_tabmlp = test_preds_tabmlp.drop('mean', axis=1)"
   ]
  },
  {
   "cell_type": "code",
   "execution_count": 63,
   "id": "751ae627-d8ae-4539-9242-324f0f856ab1",
   "metadata": {},
   "outputs": [],
   "source": [
    "test_preds_all = test_preds_gbms.join(test_preds_saint).join(test_preds_tabmlp)"
   ]
  },
  {
   "cell_type": "code",
   "execution_count": 75,
   "id": "f96f1915-3d52-4938-a485-e29fdd7f6dd7",
   "metadata": {},
   "outputs": [],
   "source": [
    "test_preds_all = test_preds_all.fillna(method='ffill', axis=1)"
   ]
  },
  {
   "cell_type": "code",
   "execution_count": 76,
   "id": "fa9e12c9-f6bd-44c3-87ac-a347be7446aa",
   "metadata": {},
   "outputs": [
    {
     "data": {
      "text/plain": [
       "xgboost42      False\n",
       "lightgbm42     False\n",
       "catboost42     False\n",
       "saint_f0       False\n",
       "saint_f1       False\n",
       "saint_f2       False\n",
       "saint_f3       False\n",
       "saint_f4       False\n",
       "mean           False\n",
       "tabmlp_f0      False\n",
       "tabmlp_f1      False\n",
       "tabmlp_f2      False\n",
       "tabmlp_f3      False\n",
       "tabmlp_f4      False\n",
       "mean-tabmlp    False\n",
       "dtype: bool"
      ]
     },
     "execution_count": 76,
     "metadata": {},
     "output_type": "execute_result"
    }
   ],
   "source": [
    "test_preds_all.isna().any()"
   ]
  },
  {
   "cell_type": "code",
   "execution_count": 77,
   "id": "7aa56fa0-3282-4d55-b8a1-0dfe1715b597",
   "metadata": {},
   "outputs": [],
   "source": [
    "test_preds_final = test_preds_all.drop([f'saint_f{fold}' for fold in range(5)], axis=1)"
   ]
  },
  {
   "cell_type": "code",
   "execution_count": 78,
   "id": "a7fa12ee-f040-42f9-81e8-f04a52878f20",
   "metadata": {},
   "outputs": [],
   "source": [
    "test_preds_final = test_preds_final.drop([f'tabmlp_f{fold}' for fold in range(5)], axis=1)"
   ]
  },
  {
   "cell_type": "code",
   "execution_count": 79,
   "id": "f5678d5c-c722-4cf0-bc9e-1f88554d6850",
   "metadata": {},
   "outputs": [
    {
     "data": {
      "text/html": [
       "<div>\n",
       "<style scoped>\n",
       "    .dataframe tbody tr th:only-of-type {\n",
       "        vertical-align: middle;\n",
       "    }\n",
       "\n",
       "    .dataframe tbody tr th {\n",
       "        vertical-align: top;\n",
       "    }\n",
       "\n",
       "    .dataframe thead th {\n",
       "        text-align: right;\n",
       "    }\n",
       "</style>\n",
       "<table border=\"1\" class=\"dataframe\">\n",
       "  <thead>\n",
       "    <tr style=\"text-align: right;\">\n",
       "      <th></th>\n",
       "      <th>xgboost42</th>\n",
       "      <th>lightgbm42</th>\n",
       "      <th>catboost42</th>\n",
       "      <th>mean</th>\n",
       "      <th>mean-tabmlp</th>\n",
       "    </tr>\n",
       "  </thead>\n",
       "  <tbody>\n",
       "    <tr>\n",
       "      <th>0</th>\n",
       "      <td>0.999973</td>\n",
       "      <td>0.999545</td>\n",
       "      <td>0.999845</td>\n",
       "      <td>1.000000</td>\n",
       "      <td>0.997596</td>\n",
       "    </tr>\n",
       "    <tr>\n",
       "      <th>1</th>\n",
       "      <td>0.997947</td>\n",
       "      <td>0.991481</td>\n",
       "      <td>0.995011</td>\n",
       "      <td>1.000000</td>\n",
       "      <td>0.955472</td>\n",
       "    </tr>\n",
       "    <tr>\n",
       "      <th>2</th>\n",
       "      <td>1.000000</td>\n",
       "      <td>0.999999</td>\n",
       "      <td>1.000000</td>\n",
       "      <td>1.000000</td>\n",
       "      <td>0.999933</td>\n",
       "    </tr>\n",
       "    <tr>\n",
       "      <th>3</th>\n",
       "      <td>0.406173</td>\n",
       "      <td>0.652934</td>\n",
       "      <td>0.393805</td>\n",
       "      <td>0.819209</td>\n",
       "      <td>0.502047</td>\n",
       "    </tr>\n",
       "    <tr>\n",
       "      <th>4</th>\n",
       "      <td>0.988284</td>\n",
       "      <td>0.961683</td>\n",
       "      <td>0.979108</td>\n",
       "      <td>1.000000</td>\n",
       "      <td>0.944808</td>\n",
       "    </tr>\n",
       "    <tr>\n",
       "      <th>...</th>\n",
       "      <td>...</td>\n",
       "      <td>...</td>\n",
       "      <td>...</td>\n",
       "      <td>...</td>\n",
       "      <td>...</td>\n",
       "    </tr>\n",
       "    <tr>\n",
       "      <th>539995</th>\n",
       "      <td>0.999953</td>\n",
       "      <td>0.996887</td>\n",
       "      <td>0.999750</td>\n",
       "      <td>1.000000</td>\n",
       "      <td>0.985106</td>\n",
       "    </tr>\n",
       "    <tr>\n",
       "      <th>539996</th>\n",
       "      <td>0.999740</td>\n",
       "      <td>0.995996</td>\n",
       "      <td>0.999138</td>\n",
       "      <td>1.000000</td>\n",
       "      <td>0.989717</td>\n",
       "    </tr>\n",
       "    <tr>\n",
       "      <th>539997</th>\n",
       "      <td>0.575609</td>\n",
       "      <td>0.506072</td>\n",
       "      <td>0.541775</td>\n",
       "      <td>0.201790</td>\n",
       "      <td>0.620224</td>\n",
       "    </tr>\n",
       "    <tr>\n",
       "      <th>539998</th>\n",
       "      <td>0.999912</td>\n",
       "      <td>0.999435</td>\n",
       "      <td>0.999613</td>\n",
       "      <td>1.000000</td>\n",
       "      <td>0.981700</td>\n",
       "    </tr>\n",
       "    <tr>\n",
       "      <th>539999</th>\n",
       "      <td>0.999772</td>\n",
       "      <td>0.996056</td>\n",
       "      <td>0.998878</td>\n",
       "      <td>1.000000</td>\n",
       "      <td>0.975269</td>\n",
       "    </tr>\n",
       "  </tbody>\n",
       "</table>\n",
       "<p>540000 rows × 5 columns</p>\n",
       "</div>"
      ],
      "text/plain": [
       "        xgboost42  lightgbm42  catboost42      mean  mean-tabmlp\n",
       "0        0.999973    0.999545    0.999845  1.000000     0.997596\n",
       "1        0.997947    0.991481    0.995011  1.000000     0.955472\n",
       "2        1.000000    0.999999    1.000000  1.000000     0.999933\n",
       "3        0.406173    0.652934    0.393805  0.819209     0.502047\n",
       "4        0.988284    0.961683    0.979108  1.000000     0.944808\n",
       "...           ...         ...         ...       ...          ...\n",
       "539995   0.999953    0.996887    0.999750  1.000000     0.985106\n",
       "539996   0.999740    0.995996    0.999138  1.000000     0.989717\n",
       "539997   0.575609    0.506072    0.541775  0.201790     0.620224\n",
       "539998   0.999912    0.999435    0.999613  1.000000     0.981700\n",
       "539999   0.999772    0.996056    0.998878  1.000000     0.975269\n",
       "\n",
       "[540000 rows x 5 columns]"
      ]
     },
     "execution_count": 79,
     "metadata": {},
     "output_type": "execute_result"
    }
   ],
   "source": [
    "test_preds_final"
   ]
  },
  {
   "cell_type": "code",
   "execution_count": 102,
   "id": "add0870e-8495-42ae-a13e-403e222f077c",
   "metadata": {},
   "outputs": [],
   "source": [
    "test_preds = 0.75 * test_preds_final['mean'] + 0.25 * test_preds_final['mean-tabmlp'] #+ 0.1 * ((test_preds_final['xgboost42'] + test_preds_final['lightgbm42'] + test_preds_final['catboost42']) / 3)"
   ]
  },
  {
   "cell_type": "code",
   "execution_count": 88,
   "id": "9893d684-8b02-4b5f-a49a-56d31ebc350c",
   "metadata": {},
   "outputs": [
    {
     "data": {
      "text/plain": [
       "['/media/sf/easystore/kaggle_data/tabular_playgrounds/nov2021/preds/0.8saint,0.15tabmlp,0.5gbms_testpreds.joblib']"
      ]
     },
     "execution_count": 88,
     "metadata": {},
     "output_type": "execute_result"
    }
   ],
   "source": [
    "dump(test_preds, predpath/'0.8saint,0.15tabmlp,0.5gbms_testpreds.joblib')"
   ]
  },
  {
   "cell_type": "code",
   "execution_count": 89,
   "id": "eb517a06-d01c-4a39-8f01-640ea8a9a946",
   "metadata": {},
   "outputs": [
    {
     "data": {
      "text/plain": [
       "(540000,)"
      ]
     },
     "execution_count": 89,
     "metadata": {},
     "output_type": "execute_result"
    }
   ],
   "source": [
    "test_preds.shape"
   ]
  },
  {
   "cell_type": "code",
   "execution_count": 90,
   "id": "424ec297-cd33-406e-be6d-983c5327db0e",
   "metadata": {},
   "outputs": [
    {
     "data": {
      "text/plain": [
       "60160    0.999776\n",
       "60161    0.998803\n",
       "60162    0.078835\n",
       "60163    0.999862\n",
       "60164    0.036622\n",
       "           ...   \n",
       "60283    0.999920\n",
       "60284    0.170725\n",
       "60285    0.999962\n",
       "60286    0.999960\n",
       "60287    0.999989\n",
       "Length: 128, dtype: float64"
      ]
     },
     "execution_count": 90,
     "metadata": {},
     "output_type": "execute_result"
    }
   ],
   "source": [
    "test_preds[60160:60288]"
   ]
  },
  {
   "cell_type": "markdown",
   "id": "3ee2c0fc-6f5d-4468-9492-e7df5d0259df",
   "metadata": {},
   "source": [
    "# Logistic Regression"
   ]
  },
  {
   "cell_type": "code",
   "execution_count": 36,
   "id": "de1db0b1-26d9-440b-864b-63df8aa6fb3b",
   "metadata": {},
   "outputs": [
    {
     "name": "stderr",
     "output_type": "stream",
     "text": [
      "`should_run_async` will not call `transform_cell` automatically in the future. Please pass the result to `transformed_cell` argument and any exception that happen during thetransform in `preprocessing_exc_tuple` in IPython 7.17 and above.\n"
     ]
    }
   ],
   "source": [
    "from sklearn import model_selection"
   ]
  },
  {
   "cell_type": "code",
   "execution_count": 37,
   "id": "18fa300d-2e9b-4fcd-8553-cf3885228bd4",
   "metadata": {},
   "outputs": [],
   "source": [
    "kfold = model_selection.StratifiedKFold(n_splits=5, shuffle=False) # no random_state if shuffle == False"
   ]
  },
  {
   "cell_type": "code",
   "execution_count": 38,
   "id": "9ad51e38-ca0f-4e6c-9879-7993a8bd40ea",
   "metadata": {},
   "outputs": [],
   "source": [
    "oof_preds, oof_y = [], []"
   ]
  },
  {
   "cell_type": "code",
   "execution_count": 39,
   "id": "e820c69a-13f3-4ace-a26f-d6e1fb097ef8",
   "metadata": {},
   "outputs": [],
   "source": [
    "test_preds = np.zeros((X_test.shape[0]))"
   ]
  },
  {
   "cell_type": "code",
   "execution_count": 40,
   "id": "daacefab-33a9-433a-8954-054892427753",
   "metadata": {},
   "outputs": [
    {
     "data": {
      "text/plain": [
       "(540000,)"
      ]
     },
     "execution_count": 40,
     "metadata": {},
     "output_type": "execute_result"
    }
   ],
   "source": [
    "test_preds.shape"
   ]
  },
  {
   "cell_type": "code",
   "execution_count": 48,
   "id": "d61cfb10-6481-4895-b41d-a177c544b4e3",
   "metadata": {},
   "outputs": [
    {
     "name": "stderr",
     "output_type": "stream",
     "text": [
      "`should_run_async` will not call `transform_cell` automatically in the future. Please pass the result to `transformed_cell` argument and any exception that happen during thetransform in `preprocessing_exc_tuple` in IPython 7.17 and above.\n"
     ]
    }
   ],
   "source": [
    "X = load(predpath/'oof_gbms.joblib')\n",
    "X_test = load(predpath/'testpreds_gbms.joblib')"
   ]
  },
  {
   "cell_type": "code",
   "execution_count": 49,
   "id": "ca73ef49-35a6-4d0b-80a0-cc31fba52e96",
   "metadata": {},
   "outputs": [
    {
     "data": {
      "text/html": [
       "<div>\n",
       "<style scoped>\n",
       "    .dataframe tbody tr th:only-of-type {\n",
       "        vertical-align: middle;\n",
       "    }\n",
       "\n",
       "    .dataframe tbody tr th {\n",
       "        vertical-align: top;\n",
       "    }\n",
       "\n",
       "    .dataframe thead th {\n",
       "        text-align: right;\n",
       "    }\n",
       "</style>\n",
       "<table border=\"1\" class=\"dataframe\">\n",
       "  <thead>\n",
       "    <tr style=\"text-align: right;\">\n",
       "      <th></th>\n",
       "      <th>xgboost42</th>\n",
       "      <th>lightgbm42</th>\n",
       "      <th>catboost42</th>\n",
       "    </tr>\n",
       "  </thead>\n",
       "  <tbody>\n",
       "    <tr>\n",
       "      <th>xgboost42</th>\n",
       "      <td>1.000000</td>\n",
       "      <td>0.982128</td>\n",
       "      <td>0.997896</td>\n",
       "    </tr>\n",
       "    <tr>\n",
       "      <th>lightgbm42</th>\n",
       "      <td>0.982128</td>\n",
       "      <td>1.000000</td>\n",
       "      <td>0.983802</td>\n",
       "    </tr>\n",
       "    <tr>\n",
       "      <th>catboost42</th>\n",
       "      <td>0.997896</td>\n",
       "      <td>0.983802</td>\n",
       "      <td>1.000000</td>\n",
       "    </tr>\n",
       "  </tbody>\n",
       "</table>\n",
       "</div>"
      ],
      "text/plain": [
       "            xgboost42  lightgbm42  catboost42\n",
       "xgboost42    1.000000    0.982128    0.997896\n",
       "lightgbm42   0.982128    1.000000    0.983802\n",
       "catboost42   0.997896    0.983802    1.000000"
      ]
     },
     "execution_count": 49,
     "metadata": {},
     "output_type": "execute_result"
    }
   ],
   "source": [
    "X_test.corr()"
   ]
  },
  {
   "cell_type": "code",
   "execution_count": 51,
   "id": "80689213-5896-444e-85ef-0f832110b837",
   "metadata": {},
   "outputs": [
    {
     "name": "stderr",
     "output_type": "stream",
     "text": [
      "`should_run_async` will not call `transform_cell` automatically in the future. Please pass the result to `transformed_cell` argument and any exception that happen during thetransform in `preprocessing_exc_tuple` in IPython 7.17 and above.\n"
     ]
    },
    {
     "data": {
      "text/html": [
       "<div>\n",
       "<style scoped>\n",
       "    .dataframe tbody tr th:only-of-type {\n",
       "        vertical-align: middle;\n",
       "    }\n",
       "\n",
       "    .dataframe tbody tr th {\n",
       "        vertical-align: top;\n",
       "    }\n",
       "\n",
       "    .dataframe thead th {\n",
       "        text-align: right;\n",
       "    }\n",
       "</style>\n",
       "<table border=\"1\" class=\"dataframe\">\n",
       "  <thead>\n",
       "    <tr style=\"text-align: right;\">\n",
       "      <th></th>\n",
       "      <th>xgboost42</th>\n",
       "      <th>lightgbm42</th>\n",
       "      <th>catboost42</th>\n",
       "    </tr>\n",
       "  </thead>\n",
       "  <tbody>\n",
       "    <tr>\n",
       "      <th>0</th>\n",
       "      <td>0.999973</td>\n",
       "      <td>0.999545</td>\n",
       "      <td>0.999845</td>\n",
       "    </tr>\n",
       "    <tr>\n",
       "      <th>1</th>\n",
       "      <td>0.997947</td>\n",
       "      <td>0.991481</td>\n",
       "      <td>0.995011</td>\n",
       "    </tr>\n",
       "    <tr>\n",
       "      <th>2</th>\n",
       "      <td>1.000000</td>\n",
       "      <td>0.999999</td>\n",
       "      <td>1.000000</td>\n",
       "    </tr>\n",
       "    <tr>\n",
       "      <th>3</th>\n",
       "      <td>0.406173</td>\n",
       "      <td>0.652934</td>\n",
       "      <td>0.393805</td>\n",
       "    </tr>\n",
       "    <tr>\n",
       "      <th>4</th>\n",
       "      <td>0.988284</td>\n",
       "      <td>0.961683</td>\n",
       "      <td>0.979108</td>\n",
       "    </tr>\n",
       "    <tr>\n",
       "      <th>...</th>\n",
       "      <td>...</td>\n",
       "      <td>...</td>\n",
       "      <td>...</td>\n",
       "    </tr>\n",
       "    <tr>\n",
       "      <th>539995</th>\n",
       "      <td>0.999953</td>\n",
       "      <td>0.996887</td>\n",
       "      <td>0.999750</td>\n",
       "    </tr>\n",
       "    <tr>\n",
       "      <th>539996</th>\n",
       "      <td>0.999740</td>\n",
       "      <td>0.995996</td>\n",
       "      <td>0.999138</td>\n",
       "    </tr>\n",
       "    <tr>\n",
       "      <th>539997</th>\n",
       "      <td>0.575609</td>\n",
       "      <td>0.506072</td>\n",
       "      <td>0.541775</td>\n",
       "    </tr>\n",
       "    <tr>\n",
       "      <th>539998</th>\n",
       "      <td>0.999912</td>\n",
       "      <td>0.999435</td>\n",
       "      <td>0.999613</td>\n",
       "    </tr>\n",
       "    <tr>\n",
       "      <th>539999</th>\n",
       "      <td>0.999772</td>\n",
       "      <td>0.996056</td>\n",
       "      <td>0.998878</td>\n",
       "    </tr>\n",
       "  </tbody>\n",
       "</table>\n",
       "<p>540000 rows × 3 columns</p>\n",
       "</div>"
      ],
      "text/plain": [
       "        xgboost42  lightgbm42  catboost42\n",
       "0        0.999973    0.999545    0.999845\n",
       "1        0.997947    0.991481    0.995011\n",
       "2        1.000000    0.999999    1.000000\n",
       "3        0.406173    0.652934    0.393805\n",
       "4        0.988284    0.961683    0.979108\n",
       "...           ...         ...         ...\n",
       "539995   0.999953    0.996887    0.999750\n",
       "539996   0.999740    0.995996    0.999138\n",
       "539997   0.575609    0.506072    0.541775\n",
       "539998   0.999912    0.999435    0.999613\n",
       "539999   0.999772    0.996056    0.998878\n",
       "\n",
       "[540000 rows x 3 columns]"
      ]
     },
     "execution_count": 51,
     "metadata": {},
     "output_type": "execute_result"
    }
   ],
   "source": [
    "X_test"
   ]
  },
  {
   "cell_type": "code",
   "execution_count": 52,
   "id": "5973b0f4-31cf-4102-9706-7d8b18bdd71b",
   "metadata": {},
   "outputs": [
    {
     "name": "stderr",
     "output_type": "stream",
     "text": [
      "`should_run_async` will not call `transform_cell` automatically in the future. Please pass the result to `transformed_cell` argument and any exception that happen during thetransform in `preprocessing_exc_tuple` in IPython 7.17 and above.\n"
     ]
    }
   ],
   "source": [
    "X_test['mean'] = (X_test['xgboost42'] + X_test['lightgbm42'] + X_test['catboost42']) / 3"
   ]
  },
  {
   "cell_type": "code",
   "execution_count": 53,
   "id": "32cac6a3-e344-4a32-883a-2c74f3b984b8",
   "metadata": {},
   "outputs": [
    {
     "data": {
      "text/plain": [
       "['/media/sf/easystore/kaggle_data/tabular_playgrounds/nov2021/datasets/gbms_test_preds_with_mean.joblib']"
      ]
     },
     "execution_count": 53,
     "metadata": {},
     "output_type": "execute_result"
    }
   ],
   "source": [
    "dump(X_test, datapath/'gbms_test_preds_with_mean.joblib')"
   ]
  },
  {
   "cell_type": "code",
   "execution_count": 36,
   "id": "e33bbfb2-39b1-4257-9138-7e84ac79941c",
   "metadata": {},
   "outputs": [
    {
     "name": "stderr",
     "output_type": "stream",
     "text": [
      "`should_run_async` will not call `transform_cell` automatically in the future. Please pass the result to `transformed_cell` argument and any exception that happen during thetransform in `preprocessing_exc_tuple` in IPython 7.17 and above.\n"
     ]
    }
   ],
   "source": [
    "# X = np.array(train_preds)"
   ]
  },
  {
   "cell_type": "code",
   "execution_count": 42,
   "id": "7f7bf97e-a49f-4b9d-a63c-c281c045d0a4",
   "metadata": {},
   "outputs": [
    {
     "data": {
      "text/plain": [
       "(600000, 3)"
      ]
     },
     "execution_count": 42,
     "metadata": {},
     "output_type": "execute_result"
    }
   ],
   "source": [
    "X.shape"
   ]
  },
  {
   "cell_type": "code",
   "execution_count": 43,
   "id": "9ef7fed2-f74e-40d3-b03b-3b133b647b21",
   "metadata": {},
   "outputs": [
    {
     "data": {
      "text/plain": [
       "pandas.core.frame.DataFrame"
      ]
     },
     "execution_count": 43,
     "metadata": {},
     "output_type": "execute_result"
    }
   ],
   "source": [
    "type(X)"
   ]
  },
  {
   "cell_type": "code",
   "execution_count": 44,
   "id": "0194dac8-25a4-4e2f-ad65-aca449b4c747",
   "metadata": {},
   "outputs": [
    {
     "data": {
      "text/plain": [
       "(540000, 3)"
      ]
     },
     "execution_count": 44,
     "metadata": {},
     "output_type": "execute_result"
    }
   ],
   "source": [
    "X_test.shape"
   ]
  },
  {
   "cell_type": "code",
   "execution_count": 45,
   "id": "8683f750-e3d7-47a7-b096-a8930fb95b34",
   "metadata": {},
   "outputs": [],
   "source": [
    "X = np.array(X)\n",
    "X_test = np.array(X_test)"
   ]
  },
  {
   "cell_type": "code",
   "execution_count": null,
   "id": "cf5147a1-4a44-452a-8f56-0ae057e8f8bd",
   "metadata": {},
   "outputs": [],
   "source": [
    "X_test = "
   ]
  },
  {
   "cell_type": "code",
   "execution_count": 47,
   "id": "ca2cb939-5b71-4888-a9ed-65b9829ae471",
   "metadata": {
    "tags": []
   },
   "outputs": [
    {
     "name": "stderr",
     "output_type": "stream",
     "text": [
      "`should_run_async` will not call `transform_cell` automatically in the future. Please pass the result to `transformed_cell` argument and any exception that happen during thetransform in `preprocessing_exc_tuple` in IPython 7.17 and above.\n"
     ]
    },
    {
     "name": "stdout",
     "output_type": "stream",
     "text": [
      "FOLD 0\n",
      "---------------------\n",
      "ROC AUC of fold 0 is 0.4759910308568518\n",
      "FOLD 1\n",
      "---------------------\n",
      "ROC AUC of fold 1 is 0.501158578113442\n",
      "FOLD 2\n",
      "---------------------\n",
      "ROC AUC of fold 2 is 0.49716601957318995\n",
      "FOLD 3\n",
      "---------------------\n",
      "ROC AUC of fold 3 is 0.4908806376156154\n",
      "FOLD 4\n",
      "---------------------\n",
      "ROC AUC of fold 4 is 0.5037770343269935\n",
      "Overall ROC_AUC is 0.4898580822986335\n"
     ]
    },
    {
     "ename": "NameError",
     "evalue": "name 'wandb_config' is not defined",
     "output_type": "error",
     "traceback": [
      "\u001b[0;31m---------------------------------------------------------------------------\u001b[0m",
      "\u001b[0;31mNameError\u001b[0m                                 Traceback (most recent call last)",
      "\u001b[0;32m<ipython-input-47-a3528d6ead5d>\u001b[0m in \u001b[0;36m<module>\u001b[0;34m\u001b[0m\n\u001b[1;32m     24\u001b[0m \u001b[0mprint\u001b[0m\u001b[0;34m(\u001b[0m\u001b[0;34mf\"Overall ROC_AUC is {valid_auc_total}\"\u001b[0m\u001b[0;34m)\u001b[0m\u001b[0;34m\u001b[0m\u001b[0;34m\u001b[0m\u001b[0m\n\u001b[1;32m     25\u001b[0m \u001b[0;34m\u001b[0m\u001b[0m\n\u001b[0;32m---> 26\u001b[0;31m \u001b[0mdump\u001b[0m\u001b[0;34m(\u001b[0m\u001b[0moof_preds\u001b[0m\u001b[0;34m,\u001b[0m \u001b[0mpredpath\u001b[0m\u001b[0;34m/\u001b[0m\u001b[0;34mf\"{wandb_config['name']}nb-{datetime.now().strftime('%Y%m%d%H%M%S')}run-saint_oof_lv2_preds.joblib\"\u001b[0m\u001b[0;34m)\u001b[0m\u001b[0;34m\u001b[0m\u001b[0;34m\u001b[0m\u001b[0m\n\u001b[0m\u001b[1;32m     27\u001b[0m \u001b[0mdump\u001b[0m\u001b[0;34m(\u001b[0m\u001b[0moof_y\u001b[0m\u001b[0;34m,\u001b[0m \u001b[0mpredpath\u001b[0m\u001b[0;34m/\u001b[0m\u001b[0;34m'oof_lv2_y.joblib'\u001b[0m\u001b[0;34m)\u001b[0m\u001b[0;34m\u001b[0m\u001b[0;34m\u001b[0m\u001b[0m\n\u001b[1;32m     28\u001b[0m \u001b[0;34m\u001b[0m\u001b[0m\n",
      "\u001b[0;31mNameError\u001b[0m: name 'wandb_config' is not defined"
     ]
    }
   ],
   "source": [
    "for fold, (train_idx, valid_idx) in enumerate(kfold.split(X,y)):\n",
    "    X_train, X_valid = X[train_idx], X[valid_idx]\n",
    "    y_train, y_valid = y[train_idx], y[valid_idx]\n",
    "    \n",
    "    print(f\"FOLD {fold}\")\n",
    "    print(\"---------------------\")\n",
    "    \n",
    "    model = LogisticRegression(max_iter=1000)\n",
    "    \n",
    "    model.fit(X_train, y_train)\n",
    "    preds = model.predict_proba(X_valid)[:,1]\n",
    "    \n",
    "    oof_preds.extend(preds)\n",
    "    oof_y.extend(y_valid)\n",
    "    \n",
    "    test_preds += model.predict_proba(X_test)[:,1]\n",
    "    \n",
    "    valid_auc = roc_auc_score(y_valid, preds)\n",
    "    print(f\"ROC AUC of fold {fold} is {valid_auc}\")\n",
    "    \n",
    "#     dump(preds, /'lv_3)\n",
    "\n",
    "valid_auc_total = roc_auc_score(oof_y, oof_preds)\n",
    "print(f\"Overall ROC_AUC is {valid_auc_total}\")\n",
    "\n",
    "dump(oof_preds, predpath/f\"{wandb_config['name']}nb-{datetime.now().strftime('%Y%m%d%H%M%S')}run-saint_oof_lv2_preds.joblib\")\n",
    "dump(oof_y, predpath/'oof_lv2_y.joblib')\n",
    "\n",
    "test_preds /= 5\n",
    "dump(test_preds, predpath/f\"{wandb_config['name']}nb-{datetime.now().strftime('%Y%m%d%H%M%S')}run-saint_test_lv2_preds.joblib\")"
   ]
  },
  {
   "cell_type": "code",
   "execution_count": 57,
   "id": "5c899a18-7212-4205-9eba-af14e890d9c3",
   "metadata": {},
   "outputs": [
    {
     "name": "stderr",
     "output_type": "stream",
     "text": [
      "`should_run_async` will not call `transform_cell` automatically in the future. Please pass the result to `transformed_cell` argument and any exception that happen during thetransform in `preprocessing_exc_tuple` in IPython 7.17 and above.\n"
     ]
    },
    {
     "data": {
      "text/html": [
       "<div>\n",
       "<style scoped>\n",
       "    .dataframe tbody tr th:only-of-type {\n",
       "        vertical-align: middle;\n",
       "    }\n",
       "\n",
       "    .dataframe tbody tr th {\n",
       "        vertical-align: top;\n",
       "    }\n",
       "\n",
       "    .dataframe thead th {\n",
       "        text-align: right;\n",
       "    }\n",
       "</style>\n",
       "<table border=\"1\" class=\"dataframe\">\n",
       "  <thead>\n",
       "    <tr style=\"text-align: right;\">\n",
       "      <th></th>\n",
       "      <th>saint_f0</th>\n",
       "      <th>saint_f1</th>\n",
       "      <th>saint_f2</th>\n",
       "      <th>saint_f3</th>\n",
       "      <th>saint_f4</th>\n",
       "    </tr>\n",
       "  </thead>\n",
       "  <tbody>\n",
       "    <tr>\n",
       "      <th>0</th>\n",
       "      <td>0.997013</td>\n",
       "      <td>0.999735</td>\n",
       "      <td>1.000000</td>\n",
       "      <td>0.999988</td>\n",
       "      <td>1.000000</td>\n",
       "    </tr>\n",
       "    <tr>\n",
       "      <th>1</th>\n",
       "      <td>0.999889</td>\n",
       "      <td>0.999998</td>\n",
       "      <td>0.999999</td>\n",
       "      <td>0.999996</td>\n",
       "      <td>1.000000</td>\n",
       "    </tr>\n",
       "    <tr>\n",
       "      <th>2</th>\n",
       "      <td>0.999999</td>\n",
       "      <td>1.000000</td>\n",
       "      <td>0.999996</td>\n",
       "      <td>0.992245</td>\n",
       "      <td>0.999756</td>\n",
       "    </tr>\n",
       "    <tr>\n",
       "      <th>3</th>\n",
       "      <td>0.005143</td>\n",
       "      <td>0.000337</td>\n",
       "      <td>0.044004</td>\n",
       "      <td>0.465028</td>\n",
       "      <td>0.041777</td>\n",
       "    </tr>\n",
       "    <tr>\n",
       "      <th>4</th>\n",
       "      <td>1.000000</td>\n",
       "      <td>0.999982</td>\n",
       "      <td>1.000000</td>\n",
       "      <td>1.000000</td>\n",
       "      <td>1.000000</td>\n",
       "    </tr>\n",
       "  </tbody>\n",
       "</table>\n",
       "</div>"
      ],
      "text/plain": [
       "   saint_f0  saint_f1  saint_f2  saint_f3  saint_f4\n",
       "0  0.997013  0.999735  1.000000  0.999988  1.000000\n",
       "1  0.999889  0.999998  0.999999  0.999996  1.000000\n",
       "2  0.999999  1.000000  0.999996  0.992245  0.999756\n",
       "3  0.005143  0.000337  0.044004  0.465028  0.041777\n",
       "4  1.000000  0.999982  1.000000  1.000000  1.000000"
      ]
     },
     "execution_count": 57,
     "metadata": {},
     "output_type": "execute_result"
    }
   ],
   "source": [
    "test_preds_saint.head()"
   ]
  },
  {
   "cell_type": "code",
   "execution_count": 40,
   "id": "0347156a-0a84-46d0-9145-eb7eab47ceff",
   "metadata": {},
   "outputs": [],
   "source": [
    "test_preds_saint = test_preds"
   ]
  },
  {
   "cell_type": "code",
   "execution_count": 41,
   "id": "6aa0167b-49b2-4445-84d5-dc1fa1411404",
   "metadata": {},
   "outputs": [],
   "source": [
    "test_preds_saint['mean'] = (test_preds_saint['saint_f0'] + test_preds_saint['saint_f1'] + test_preds_saint['saint_f2'] + test_preds_saint['saint_f3'] + test_preds_saint['saint_f4']) / 5"
   ]
  },
  {
   "cell_type": "code",
   "execution_count": 42,
   "id": "1264d728-9e26-449b-9209-ea717521ccee",
   "metadata": {},
   "outputs": [
    {
     "name": "stderr",
     "output_type": "stream",
     "text": [
      "`should_run_async` will not call `transform_cell` automatically in the future. Please pass the result to `transformed_cell` argument and any exception that happen during thetransform in `preprocessing_exc_tuple` in IPython 7.17 and above.\n"
     ]
    },
    {
     "data": {
      "text/plain": [
       "['/media/sf/easystore/kaggle_data/tabular_playgrounds/nov2021/preds/saint_fixed_testpreds_20211130_with_mean.joblib']"
      ]
     },
     "execution_count": 42,
     "metadata": {},
     "output_type": "execute_result"
    }
   ],
   "source": [
    "dump(test_preds_saint, predpath/'saint_fixed_testpreds_20211130_with_mean.joblib')"
   ]
  },
  {
   "cell_type": "markdown",
   "id": "f4544e86-58de-4a09-b177-ed9ffe22117c",
   "metadata": {},
   "source": [
    "# SUBMISSION"
   ]
  },
  {
   "cell_type": "code",
   "execution_count": 103,
   "id": "2e312f49-71dd-4c4d-94b4-fc75e884fee8",
   "metadata": {
    "tags": []
   },
   "outputs": [],
   "source": [
    "sample_df = pd.read_csv(datapath/'sample_submission.csv')"
   ]
  },
  {
   "cell_type": "code",
   "execution_count": 104,
   "id": "4154706a-0190-465b-860d-488750178dea",
   "metadata": {},
   "outputs": [],
   "source": [
    "sample_df.loc[:, 'target'] = test_preds"
   ]
  },
  {
   "cell_type": "code",
   "execution_count": 105,
   "id": "681f0d7d-bf40-41c4-a3f0-150c0444331d",
   "metadata": {},
   "outputs": [
    {
     "data": {
      "text/html": [
       "<div>\n",
       "<style scoped>\n",
       "    .dataframe tbody tr th:only-of-type {\n",
       "        vertical-align: middle;\n",
       "    }\n",
       "\n",
       "    .dataframe tbody tr th {\n",
       "        vertical-align: top;\n",
       "    }\n",
       "\n",
       "    .dataframe thead th {\n",
       "        text-align: right;\n",
       "    }\n",
       "</style>\n",
       "<table border=\"1\" class=\"dataframe\">\n",
       "  <thead>\n",
       "    <tr style=\"text-align: right;\">\n",
       "      <th></th>\n",
       "      <th>id</th>\n",
       "      <th>target</th>\n",
       "    </tr>\n",
       "  </thead>\n",
       "  <tbody>\n",
       "    <tr>\n",
       "      <th>0</th>\n",
       "      <td>600000</td>\n",
       "      <td>0.999399</td>\n",
       "    </tr>\n",
       "    <tr>\n",
       "      <th>1</th>\n",
       "      <td>600001</td>\n",
       "      <td>0.988868</td>\n",
       "    </tr>\n",
       "    <tr>\n",
       "      <th>2</th>\n",
       "      <td>600002</td>\n",
       "      <td>0.999983</td>\n",
       "    </tr>\n",
       "    <tr>\n",
       "      <th>3</th>\n",
       "      <td>600003</td>\n",
       "      <td>0.739918</td>\n",
       "    </tr>\n",
       "    <tr>\n",
       "      <th>4</th>\n",
       "      <td>600004</td>\n",
       "      <td>0.986202</td>\n",
       "    </tr>\n",
       "  </tbody>\n",
       "</table>\n",
       "</div>"
      ],
      "text/plain": [
       "       id    target\n",
       "0  600000  0.999399\n",
       "1  600001  0.988868\n",
       "2  600002  0.999983\n",
       "3  600003  0.739918\n",
       "4  600004  0.986202"
      ]
     },
     "execution_count": 105,
     "metadata": {},
     "output_type": "execute_result"
    }
   ],
   "source": [
    "sample_df.head()"
   ]
  },
  {
   "cell_type": "code",
   "execution_count": 106,
   "id": "5d6e7bbf-d8a4-42ff-af25-254c5883c6fb",
   "metadata": {},
   "outputs": [
    {
     "name": "stderr",
     "output_type": "stream",
     "text": [
      "`should_run_async` will not call `transform_cell` automatically in the future. Please pass the result to `transformed_cell` argument and any exception that happen during thetransform in `preprocessing_exc_tuple` in IPython 7.17 and above.\n"
     ]
    },
    {
     "data": {
      "text/html": [
       "<div>\n",
       "<style scoped>\n",
       "    .dataframe tbody tr th:only-of-type {\n",
       "        vertical-align: middle;\n",
       "    }\n",
       "\n",
       "    .dataframe tbody tr th {\n",
       "        vertical-align: top;\n",
       "    }\n",
       "\n",
       "    .dataframe thead th {\n",
       "        text-align: right;\n",
       "    }\n",
       "</style>\n",
       "<table border=\"1\" class=\"dataframe\">\n",
       "  <thead>\n",
       "    <tr style=\"text-align: right;\">\n",
       "      <th></th>\n",
       "      <th>id</th>\n",
       "      <th>target</th>\n",
       "    </tr>\n",
       "  </thead>\n",
       "  <tbody>\n",
       "    <tr>\n",
       "      <th>60160</th>\n",
       "      <td>660160</td>\n",
       "      <td>0.999637</td>\n",
       "    </tr>\n",
       "    <tr>\n",
       "      <th>60161</th>\n",
       "      <td>660161</td>\n",
       "      <td>0.998127</td>\n",
       "    </tr>\n",
       "    <tr>\n",
       "      <th>60162</th>\n",
       "      <td>660162</td>\n",
       "      <td>0.110484</td>\n",
       "    </tr>\n",
       "    <tr>\n",
       "      <th>60163</th>\n",
       "      <td>660163</td>\n",
       "      <td>0.999782</td>\n",
       "    </tr>\n",
       "    <tr>\n",
       "      <th>60164</th>\n",
       "      <td>660164</td>\n",
       "      <td>0.055028</td>\n",
       "    </tr>\n",
       "    <tr>\n",
       "      <th>...</th>\n",
       "      <td>...</td>\n",
       "      <td>...</td>\n",
       "    </tr>\n",
       "    <tr>\n",
       "      <th>60283</th>\n",
       "      <td>660283</td>\n",
       "      <td>0.999871</td>\n",
       "    </tr>\n",
       "    <tr>\n",
       "      <th>60284</th>\n",
       "      <td>660284</td>\n",
       "      <td>0.187627</td>\n",
       "    </tr>\n",
       "    <tr>\n",
       "      <th>60285</th>\n",
       "      <td>660285</td>\n",
       "      <td>0.999936</td>\n",
       "    </tr>\n",
       "    <tr>\n",
       "      <th>60286</th>\n",
       "      <td>660286</td>\n",
       "      <td>0.999936</td>\n",
       "    </tr>\n",
       "    <tr>\n",
       "      <th>60287</th>\n",
       "      <td>660287</td>\n",
       "      <td>0.999982</td>\n",
       "    </tr>\n",
       "  </tbody>\n",
       "</table>\n",
       "<p>128 rows × 2 columns</p>\n",
       "</div>"
      ],
      "text/plain": [
       "           id    target\n",
       "60160  660160  0.999637\n",
       "60161  660161  0.998127\n",
       "60162  660162  0.110484\n",
       "60163  660163  0.999782\n",
       "60164  660164  0.055028\n",
       "...       ...       ...\n",
       "60283  660283  0.999871\n",
       "60284  660284  0.187627\n",
       "60285  660285  0.999936\n",
       "60286  660286  0.999936\n",
       "60287  660287  0.999982\n",
       "\n",
       "[128 rows x 2 columns]"
      ]
     },
     "execution_count": 106,
     "metadata": {},
     "output_type": "execute_result"
    }
   ],
   "source": [
    "sample_df.iloc[60160:60288, :]"
   ]
  },
  {
   "cell_type": "code",
   "execution_count": 1,
   "id": "281493cc-512f-4871-aa9f-593d9339f232",
   "metadata": {},
   "outputs": [],
   "source": [
    "# submission_path = datapath/'submissions'\n",
    "# submission_path.mkdir(exist_ok=True)"
   ]
  },
  {
   "cell_type": "code",
   "execution_count": 107,
   "id": "f0dc619b-f6e1-4efd-aa4b-4f53c28d4570",
   "metadata": {},
   "outputs": [
    {
     "name": "stderr",
     "output_type": "stream",
     "text": [
      "`should_run_async` will not call `transform_cell` automatically in the future. Please pass the result to `transformed_cell` argument and any exception that happen during thetransform in `preprocessing_exc_tuple` in IPython 7.17 and above.\n"
     ]
    }
   ],
   "source": [
    "sample_df.to_csv(subpath/f\"final_preds_deep-only.csv\", index=False)\n",
    "# sample_df.to_csv(subpath/f\"{wandb_config['name']}_3level-X_orig+KMeans8+synth-GBM-stack_ensemble_preds.csv\", index=False)"
   ]
  },
  {
   "cell_type": "code",
   "execution_count": 61,
   "id": "2c1443e1-d3ac-4099-97c2-742cd11ff5ad",
   "metadata": {},
   "outputs": [
    {
     "data": {
      "text/plain": [
       "['/media/sf/easystore/kaggle_data/tabular_playgrounds/nov2021/preds/gbm_fillins_for_60160-60288.joblib']"
      ]
     },
     "execution_count": 61,
     "metadata": {},
     "output_type": "execute_result"
    }
   ],
   "source": [
    "# dump(sample_df.iloc[60160:60288, 1], predpath/'gbm_fillins_for_60160-60288.joblib')"
   ]
  },
  {
   "cell_type": "code",
   "execution_count": null,
   "id": "c1a7de02-08f1-4098-94aa-1951a8805018",
   "metadata": {},
   "outputs": [],
   "source": []
  }
 ],
 "metadata": {
  "kernelspec": {
   "display_name": "Python 3",
   "language": "python",
   "name": "python3"
  },
  "language_info": {
   "codemirror_mode": {
    "name": "ipython",
    "version": 3
   },
   "file_extension": ".py",
   "mimetype": "text/x-python",
   "name": "python",
   "nbconvert_exporter": "python",
   "pygments_lexer": "ipython3",
   "version": "3.8.12"
  }
 },
 "nbformat": 4,
 "nbformat_minor": 5
}
