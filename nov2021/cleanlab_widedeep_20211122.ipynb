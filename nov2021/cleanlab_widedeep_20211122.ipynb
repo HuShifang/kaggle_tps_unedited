{
 "cells": [
  {
   "cell_type": "markdown",
   "id": "87e815d3-d755-4fa2-85a5-ea4df4948fcd",
   "metadata": {},
   "source": [
    "# CleanLab with WideDeep experiment\n",
    "Want to see if I can use the WideDeep classifier with CleanLab without resorting to `skorch` or a custom class."
   ]
  },
  {
   "cell_type": "code",
   "execution_count": 1,
   "id": "843e3531-f950-4701-9330-07960ae9a937",
   "metadata": {},
   "outputs": [],
   "source": [
    "# notebook configuration\n",
    "COLAB = False # will trigger manual installation of packages\n",
    "USE_GPU = True "
   ]
  },
  {
   "cell_type": "code",
   "execution_count": 2,
   "id": "6a61aa18-6ef3-41d1-bb75-08d1f766dbe1",
   "metadata": {},
   "outputs": [],
   "source": [
    "# basic imports\n",
    "from pathlib import Path\n",
    "import os\n",
    "import math\n",
    "from datetime import datetime\n",
    "import random"
   ]
  },
  {
   "cell_type": "code",
   "execution_count": 3,
   "id": "86d84988-5ddb-40d9-bc12-826012acb870",
   "metadata": {},
   "outputs": [],
   "source": [
    "%matplotlib inline\n",
    "%config Completer.use_jedi = False\n",
    "os.environ['WANDB_NOTEBOOK_NAME'] = f\"cleanlab_{datetime.now().strftime('%Y%m%d')}.ipynb\""
   ]
  },
  {
   "cell_type": "markdown",
   "id": "7ddf1e65-6447-47b9-88f2-8d02bbc29af0",
   "metadata": {},
   "source": [
    "Now, non-stdlib imports"
   ]
  },
  {
   "cell_type": "code",
   "execution_count": 4,
   "id": "ee16c791-548b-4616-9c82-ea76001e4749",
   "metadata": {},
   "outputs": [
    {
     "data": {
      "text/html": [
       "<style type='text/css'>\n",
       ".datatable table.frame { margin-bottom: 0; }\n",
       ".datatable table.frame thead { border-bottom: none; }\n",
       ".datatable table.frame tr.coltypes td {  color: #FFFFFF;  line-height: 6px;  padding: 0 0.5em;}\n",
       ".datatable .bool    { background: #DDDD99; }\n",
       ".datatable .object  { background: #565656; }\n",
       ".datatable .int     { background: #5D9E5D; }\n",
       ".datatable .float   { background: #4040CC; }\n",
       ".datatable .str     { background: #CC4040; }\n",
       ".datatable .time    { background: #40CC40; }\n",
       ".datatable .row_index {  background: var(--jp-border-color3);  border-right: 1px solid var(--jp-border-color0);  color: var(--jp-ui-font-color3);  font-size: 9px;}\n",
       ".datatable .frame tbody td { text-align: left; }\n",
       ".datatable .frame tr.coltypes .row_index {  background: var(--jp-border-color0);}\n",
       ".datatable th:nth-child(2) { padding-left: 12px; }\n",
       ".datatable .hellipsis {  color: var(--jp-cell-editor-border-color);}\n",
       ".datatable .vellipsis {  background: var(--jp-layout-color0);  color: var(--jp-cell-editor-border-color);}\n",
       ".datatable .na {  color: var(--jp-cell-editor-border-color);  font-size: 80%;}\n",
       ".datatable .sp {  opacity: 0.25;}\n",
       ".datatable .footer { font-size: 9px; }\n",
       ".datatable .frame_dimensions {  background: var(--jp-border-color3);  border-top: 1px solid var(--jp-border-color0);  color: var(--jp-ui-font-color3);  display: inline-block;  opacity: 0.6;  padding: 1px 10px 1px 5px;}\n",
       "</style>\n"
      ],
      "text/plain": [
       "<IPython.core.display.HTML object>"
      ]
     },
     "metadata": {},
     "output_type": "display_data"
    }
   ],
   "source": [
    "import pandas as pd\n",
    "import numpy as np\n",
    "import matplotlib.pyplot as plt\n",
    "from tqdm.notebook import tqdm\n",
    "\n",
    "# general ML tooling\n",
    "from sklearn.model_selection import train_test_split, StratifiedKFold, KFold\n",
    "from sklearn.metrics import log_loss, roc_auc_score\n",
    "import wandb\n",
    "from wandb.xgboost import wandb_callback\n",
    "from wandb.lightgbm import wandb_callback\n",
    "from sklearn.impute import SimpleImputer #, KNNImputer\n",
    "\n",
    "import seaborn as sns\n",
    "\n",
    "from catboost import CatBoostClassifier\n",
    "from xgboost import XGBClassifier\n",
    "from lightgbm import LGBMClassifier\n",
    "# from sklearn.ensemble import StackingClassifier, RandomForestClassifier\n",
    "from sklearn.preprocessing import RobustScaler #StandardScaler #, MinMaxScaler, MaxAbsScaler, RobustScaler, PolynomialFeatures\n",
    "from sklearn.linear_model import LogisticRegression\n",
    "# from sklearn.feature_selection import SelectKBest, f_regression\n",
    "from joblib import dump, load\n",
    "# feature engineering tools\n",
    "# from sklearn.feature_selection import mutual_info_regression\n",
    "# import featuretools as ft\n",
    "\n",
    "# from BorutaShap import BorutaShap\n",
    "import optuna\n",
    "from optuna.integration.wandb import WeightsAndBiasesCallback\n",
    "from optuna.samplers import TPESampler\n",
    "from sklearn.utils import resample"
   ]
  },
  {
   "cell_type": "code",
   "execution_count": 5,
   "id": "957d1322-cdac-411a-9754-9deb360cea18",
   "metadata": {},
   "outputs": [],
   "source": [
    "from cleanlab.classification import LearningWithNoisyLabels"
   ]
  },
  {
   "cell_type": "code",
   "execution_count": 6,
   "id": "5b139207-5ea6-464d-922e-e4d0a398062f",
   "metadata": {},
   "outputs": [],
   "source": [
    "from pytorch_widedeep import Trainer\n",
    "from pytorch_widedeep.preprocessing import WidePreprocessor, TabPreprocessor\n",
    "from pytorch_widedeep.models import Wide, TabMlp, WideDeep#, SAINT, TabTransformer, TabNet, TabFastFormer, TabResnet\n",
    "from pytorch_widedeep.metrics import Accuracy\n",
    "from torchmetrics import AUROC\n",
    "import torch\n",
    "from torch.optim import Adam, AdamW, Adagrad, SGD, RMSprop, LBFGS\n",
    "from torch.optim.lr_scheduler import ReduceLROnPlateau, CosineAnnealingWarmRestarts, CyclicLR, OneCycleLR, StepLR, CosineAnnealingLR\n",
    "from pytorch_widedeep.callbacks import EarlyStopping, LRHistory, ModelCheckpoint"
   ]
  },
  {
   "cell_type": "code",
   "execution_count": 7,
   "id": "55072fd2-dcc0-4169-a6f8-54d9b76ab432",
   "metadata": {},
   "outputs": [],
   "source": [
    "# import category_encoders as ce"
   ]
  },
  {
   "cell_type": "markdown",
   "id": "d71932e1-2e32-4474-acbc-3cbe63ce993e",
   "metadata": {},
   "source": [
    "Now, datapath setup"
   ]
  },
  {
   "cell_type": "code",
   "execution_count": 8,
   "id": "880b9f33-b517-40ef-a3e6-049dcc52a4e9",
   "metadata": {},
   "outputs": [],
   "source": [
    "if COLAB:\n",
    "    # mount Google Drive\n",
    "    from google.colab import drive\n",
    "    drive.mount('/content/drive')\n",
    "    \n",
    "    # handling datapath\n",
    "    datapath = Path('/content/drive/MyDrive/kaggle/tabular_playgrounds/nov2021/')\n",
    "    \n",
    "else:\n",
    "    # if on local machine\n",
    "#     datapath = Path('/media/sf/easystore/kaggle_data/tabular_playgrounds/sep2021/')  \n",
    "    root = Path('/media/sf/easystore/kaggle_data/tabular_playgrounds/nov2021/')\n",
    "    datapath = root/'datasets'\n",
    "    # edapath = root/'EDA'\n",
    "    # modelpath = Path('/media/sf/easystore/kaggle_data/tabular_playgrounds/oct2021/models/')\n",
    "    predpath = root/'preds'\n",
    "    subpath = root/'submissions'\n",
    "    \n",
    "    for pth in [datapath, predpath, subpath]:\n",
    "        pth.mkdir(exist_ok=True)\n",
    "    \n"
   ]
  },
  {
   "cell_type": "markdown",
   "id": "58fe9e0d-1301-4ade-a63d-9f3d298c2255",
   "metadata": {},
   "source": [
    "## Helpers"
   ]
  },
  {
   "cell_type": "code",
   "execution_count": 9,
   "id": "1905a9de-cd7c-4a73-a39e-b42a8297785c",
   "metadata": {},
   "outputs": [],
   "source": [
    "SEED = 42\n",
    "\n",
    "# Function to seed everything\n",
    "def seed_everything(seed):\n",
    "    random.seed(seed)\n",
    "    np.random.seed(seed)\n",
    "    os.environ['PYTHONHASHSEED'] = str(seed)\n",
    "\n",
    "seed_everything(seed=SEED)"
   ]
  },
  {
   "cell_type": "code",
   "execution_count": 10,
   "id": "ba521a1a-8c41-4b9b-becd-36eb62739ba3",
   "metadata": {},
   "outputs": [],
   "source": [
    "def reduce_memory_usage(df, verbose=True):\n",
    "    numerics = [\"int8\", \"int16\", \"int32\", \"int64\", \"float16\", \"float32\", \"float64\"]\n",
    "    start_mem = df.memory_usage().sum() / 1024 ** 2\n",
    "    for col in df.columns:\n",
    "        col_type = df[col].dtypes\n",
    "        if col_type in numerics:\n",
    "            c_min = df[col].min()\n",
    "            c_max = df[col].max()\n",
    "            if str(col_type)[:3] == \"int\":\n",
    "                if c_min > np.iinfo(np.int8).min and c_max < np.iinfo(np.int8).max:\n",
    "                    df[col] = df[col].astype(np.int8)\n",
    "                elif c_min > np.iinfo(np.int16).min and c_max < np.iinfo(np.int16).max:\n",
    "                    df[col] = df[col].astype(np.int16)\n",
    "                elif c_min > np.iinfo(np.int32).min and c_max < np.iinfo(np.int32).max:\n",
    "                    df[col] = df[col].astype(np.int32)\n",
    "                elif c_min > np.iinfo(np.int64).min and c_max < np.iinfo(np.int64).max:\n",
    "                    df[col] = df[col].astype(np.int64)\n",
    "            else:\n",
    "                if (\n",
    "                    c_min > np.finfo(np.float16).min\n",
    "                    and c_max < np.finfo(np.float16).max\n",
    "                ):\n",
    "                    df[col] = df[col].astype(np.float16)\n",
    "                elif (\n",
    "                    c_min > np.finfo(np.float32).min\n",
    "                    and c_max < np.finfo(np.float32).max\n",
    "                ):\n",
    "                    df[col] = df[col].astype(np.float32)\n",
    "                else:\n",
    "                    df[col] = df[col].astype(np.float64)\n",
    "    end_mem = df.memory_usage().sum() / 1024 ** 2\n",
    "    if verbose:\n",
    "        print(\n",
    "            \"Mem. usage decreased to {:.2f} Mb ({:.1f}% reduction)\".format(\n",
    "                end_mem, 100 * (start_mem - end_mem) / start_mem\n",
    "            )\n",
    "        )\n",
    "    return df"
   ]
  },
  {
   "cell_type": "markdown",
   "id": "a6f63ee2-a167-4111-9b44-bf67c8240603",
   "metadata": {},
   "source": [
    "## Metadata"
   ]
  },
  {
   "cell_type": "code",
   "execution_count": 11,
   "id": "ad459104-e31a-4aa0-8a9a-bb279e2b9944",
   "metadata": {
    "tags": []
   },
   "outputs": [],
   "source": [
    "# dataset_params will initially include either trivial class instances or loaded, precomputed artifacts\n",
    "dataset_params = {\n",
    "    # 'train_source': str(datapath/'X-RobustScaled-pca_mle-umap_embedding_20211107-n_comp10-n_neighbors15-rs42.joblib'),\n",
    "    'train_source': str(datapath/'X_orig.feather'),\n",
    "    'target_source': str(datapath/'y_orig.joblib'),\n",
    "    # 'test_source': str(datapath/'X_test-RobustScaled-pca_mle-umap_embedding_20211107-n_comp10-n_neighbors15-rs42.joblib'),\n",
    "    'test_source': str(datapath/'X_test_orig-no_scaling.feather'),\n",
    "    # 'scaler': str(RobustScaler()),\n",
    "    # 'pca': str(load(datapath/'pca_mle-RobustScaled_orig_trainset.joblib')),\n",
    "    # 'umap': str(load(datapath/'umap_reducer-20211107-n_comp10-n_neighbors15-rs42-pca_mle-RobustScaled_orig_trainset.joblib')),\n",
    "}   \n",
    "\n",
    "# referring back to the already-entered attributes, specify how the pipeline was sequenced\n",
    "# dataset_params['preprocessing_pipeline'] = str([dataset_params['scaler'], dataset_params['pca'], dataset_params['umap']]) # ACTUALLY this is unwieldy\n",
    "# dataset_params['preprocessing_pipeline'] = '[scaler, pca, umap]' # more fragile, but also more readable\n",
    "\n",
    "# now, load the datasets and generate more metadata from them\n",
    "# X = load(dataset_params['train_source'])\n",
    "X = pd.read_feather(dataset_params['train_source'])\n",
    "y = load(dataset_params['target_source'])\n",
    "# X_test = load(dataset_params['test_source'])\n",
    "X_test = pd.read_feather(dataset_params['test_source'])\n",
    "\n",
    "dataset_params['feature_count'] = X.shape[1]\n",
    "dataset_params['instance_count'] = X.shape[0]\n",
    "    "
   ]
  },
  {
   "cell_type": "code",
   "execution_count": 15,
   "id": "aac6b1dd-5c9d-4f95-985c-4250d78d28aa",
   "metadata": {},
   "outputs": [],
   "source": [
    "# meta-config for preprocessing and cross-validation, but NOT for model parameters\n",
    "# in the sweep version, this includes both ex-model parameters and defaults for model parameters\n",
    "exmodel_config = {\n",
    "    \"arch\": 'widedeep-TabMLP',\n",
    "    # \"type\": 'sweep',\n",
    "    \"denoising\": \"cleanlab\",\n",
    "    \"level\": 1,\n",
    "    'random_state': SEED,\n",
    "    # 'tuner': \"Optuna\",\n",
    "    'cross_val_strategy': None, # None for holdout, or the relevant sklearn class\n",
    "    'kfolds': 1, # if 1, that means just doing holdout\n",
    "    'test_size': 0.2,\n",
    "    'scaler': str(RobustScaler()),\n",
    "    **dataset_params\n",
    "}\n",
    "\n",
    "wandb_config = {\n",
    "    # wandb config\n",
    "    'name': f\"{os.environ['WANDB_NOTEBOOK_NAME'][:-6]}_{datetime.now().strftime('%H%M%S')}\", # just removes the .ipynb extension, leaving the notebook filename's stem\n",
    "    'project': '202111_Kaggle_tabular_playground',\n",
    "    'tags': ['experiment'],\n",
    "    'notes': \"Going to try CleanLab with the 'best' params from the previous sweep, but wanting to see what the actual LB score is, and how it compares to the noisy one. Using a default LGBMClassfier with holdout on robust-scaled original dataset.\",\n",
    "    'config': exmodel_config,\n",
    "}"
   ]
  },
  {
   "cell_type": "code",
   "execution_count": 12,
   "id": "0df908c8-d40b-4882-b5b9-f64de46c128a",
   "metadata": {},
   "outputs": [
    {
     "name": "stderr",
     "output_type": "stream",
     "text": [
      "/home/sf/anaconda3/envs/tabular-x/lib/python3.8/site-packages/ipykernel/ipkernel.py:287: DeprecationWarning: `should_run_async` will not call `transform_cell` automatically in the future. Please pass the result to `transformed_cell` argument and any exception that happen during thetransform in `preprocessing_exc_tuple` in IPython 7.17 and above.\n",
      "  and should_run_async(code)\n"
     ]
    },
    {
     "name": "stdout",
     "output_type": "stream",
     "text": [
      "Mem. usage decreased to 114.44 Mb (75.0% reduction)\n",
      "Mem. usage decreased to 103.00 Mb (75.0% reduction)\n"
     ]
    }
   ],
   "source": [
    "# decrease memory footprint\n",
    "X = reduce_memory_usage(X)\n",
    "X_test = reduce_memory_usage(X_test)"
   ]
  },
  {
   "cell_type": "code",
   "execution_count": 13,
   "id": "d647e8af-e065-4ea8-aa6c-5d158791904b",
   "metadata": {},
   "outputs": [],
   "source": [
    "# meta-config for preprocessing and cross-validation, but NOT for model parameters\n",
    "exmodel_config = {\n",
    "#     \"feature_selector\": SelectKBest,\n",
    "#     \"k_best\": 80,\n",
    "#     \"feature_selection_scoring\": f_regression,\n",
    "#     'random_state': SEED,\n",
    "#     'feature_generation': ['NaN_counts', 'SummaryStats', 'NaN_OneHots'],\n",
    "#     'subsample': 1,\n",
    "    'cross_val_strategy': None, # None for holdout, or the relevant sklearn class\n",
    "    'kfolds': 1, # if 1, that means just doing holdout\n",
    "    'test_size': 0.2,\n",
    "    **dataset_params\n",
    "#     'features_created': False,\n",
    "#     'feature_creator': None,\n",
    "}"
   ]
  },
  {
   "cell_type": "code",
   "execution_count": 14,
   "id": "e5402d98-7bcd-4e46-b85d-6b0129ca6e96",
   "metadata": {},
   "outputs": [],
   "source": [
    "# wandb config:\n",
    "wandb_config = {\n",
    "    'name': f\"{os.environ['WANDB_NOTEBOOK_NAME'][:-6]}_{datetime.now().strftime('%H%M%S')}\", # just removes the .ipynb extension, leaving the notebook filename's stem\n",
    "    'tags': ['widedeep', 'deeplearning'],\n",
    "    'notes': \"Trying a variety of widedeep models, to see if I can get any working properly.\"\n",
    "}"
   ]
  },
  {
   "cell_type": "markdown",
   "id": "1de625b5-eb07-49d6-a8f8-30fa4c636177",
   "metadata": {},
   "source": [
    "# Preprocessing Data\n",
    "Inspired a bit by Laurent Pourchot's Aug2021 Tabular Playground entry, I'm going to try to generate two versions of the dataset: a categorical one, using bins, and then (for now) a GaussRankScaled one. In the future, I might add further variations, e.g. with feature reduction via PCA and perhaps also UMAP and also denoising; I might also try other normalizations, e.g. Quantile."
   ]
  },
  {
   "cell_type": "markdown",
   "id": "1c5c3e8e-1174-4c71-8cd1-a8aff49891ae",
   "metadata": {},
   "source": [
    "## Binning (Generating wide cols)"
   ]
  },
  {
   "cell_type": "code",
   "execution_count": 15,
   "id": "abaf19a7-159f-466f-a5c2-d3fa57443af8",
   "metadata": {},
   "outputs": [],
   "source": [
    "# h/t Laurent Pourchot https://www.kaggle.com/pourchot/in-python-tabular-denoising-residual-network/\n",
    "\n",
    "# 100 bins for the bins head of the NN (i.e. percentiles):\n",
    "X_bins = np.zeros((X.shape[0],X.shape[1])) # he used all available data for the first tuple entry, but I'll start like this"
   ]
  },
  {
   "cell_type": "code",
   "execution_count": 16,
   "id": "cea9fa43-df35-4e21-8987-54b74abe65b5",
   "metadata": {},
   "outputs": [
    {
     "data": {
      "text/plain": [
       "(600000, 100)"
      ]
     },
     "execution_count": 16,
     "metadata": {},
     "output_type": "execute_result"
    }
   ],
   "source": [
    "X_bins.shape"
   ]
  },
  {
   "cell_type": "code",
   "execution_count": 17,
   "id": "a9d371e0-4c69-475f-b10d-45f5e7bf44cf",
   "metadata": {},
   "outputs": [],
   "source": [
    "for i in range(X.shape[1]): # assumes X is a pd.DataFrame\n",
    "    X_bins[:,i] = pd.qcut(X.iloc[:,i],X.shape[1],labels=False,duplicates = 'drop')\n",
    "# blabeled = X_bins[:X.shape[0],:]\n",
    "# bunlabeled = X_ins[X.shape[0]:,:]"
   ]
  },
  {
   "cell_type": "code",
   "execution_count": 18,
   "id": "9a90e547-e32e-4bc2-8f9f-9e28c7afe183",
   "metadata": {},
   "outputs": [
    {
     "name": "stderr",
     "output_type": "stream",
     "text": [
      "/home/sf/anaconda3/envs/tabular-x/lib/python3.8/site-packages/ipykernel/ipkernel.py:287: DeprecationWarning: `should_run_async` will not call `transform_cell` automatically in the future. Please pass the result to `transformed_cell` argument and any exception that happen during thetransform in `preprocessing_exc_tuple` in IPython 7.17 and above.\n",
      "  and should_run_async(code)\n"
     ]
    },
    {
     "data": {
      "text/plain": [
       "array([[52., 70., 49., ..., 37., 64., 88.],\n",
       "       [56., 35., 33., ..., 48., 10., 28.],\n",
       "       [28., 31., 70., ..., 40., 79., 85.],\n",
       "       ...,\n",
       "       [94., 11., 31., ..., 16., 64., 46.],\n",
       "       [80., 75., 89., ..., 58., 51., 17.],\n",
       "       [64., 67., 56., ..., 37., 44., 41.]])"
      ]
     },
     "execution_count": 18,
     "metadata": {},
     "output_type": "execute_result"
    }
   ],
   "source": [
    "X_bins"
   ]
  },
  {
   "cell_type": "code",
   "execution_count": 19,
   "id": "792c729c-8943-4783-a0f9-66379eb0a1fa",
   "metadata": {},
   "outputs": [],
   "source": [
    "X_bins = X_bins.astype(np.int8)"
   ]
  },
  {
   "cell_type": "code",
   "execution_count": 20,
   "id": "2384fe26-50a9-427b-b42c-a03d26d5b513",
   "metadata": {},
   "outputs": [],
   "source": [
    "X_bins = pd.DataFrame(X_bins, index=X.index, columns=[f'rkd_f{col}' for col in range(100)])"
   ]
  },
  {
   "cell_type": "code",
   "execution_count": 21,
   "id": "c60393d7-d6e7-468b-8892-044d54061b3b",
   "metadata": {},
   "outputs": [
    {
     "data": {
      "text/html": [
       "<div>\n",
       "<style scoped>\n",
       "    .dataframe tbody tr th:only-of-type {\n",
       "        vertical-align: middle;\n",
       "    }\n",
       "\n",
       "    .dataframe tbody tr th {\n",
       "        vertical-align: top;\n",
       "    }\n",
       "\n",
       "    .dataframe thead th {\n",
       "        text-align: right;\n",
       "    }\n",
       "</style>\n",
       "<table border=\"1\" class=\"dataframe\">\n",
       "  <thead>\n",
       "    <tr style=\"text-align: right;\">\n",
       "      <th></th>\n",
       "      <th>rkd_f0</th>\n",
       "      <th>rkd_f1</th>\n",
       "      <th>rkd_f2</th>\n",
       "      <th>rkd_f3</th>\n",
       "      <th>rkd_f4</th>\n",
       "      <th>rkd_f5</th>\n",
       "      <th>rkd_f6</th>\n",
       "      <th>rkd_f7</th>\n",
       "      <th>rkd_f8</th>\n",
       "      <th>rkd_f9</th>\n",
       "      <th>...</th>\n",
       "      <th>rkd_f90</th>\n",
       "      <th>rkd_f91</th>\n",
       "      <th>rkd_f92</th>\n",
       "      <th>rkd_f93</th>\n",
       "      <th>rkd_f94</th>\n",
       "      <th>rkd_f95</th>\n",
       "      <th>rkd_f96</th>\n",
       "      <th>rkd_f97</th>\n",
       "      <th>rkd_f98</th>\n",
       "      <th>rkd_f99</th>\n",
       "    </tr>\n",
       "  </thead>\n",
       "  <tbody>\n",
       "    <tr>\n",
       "      <th>0</th>\n",
       "      <td>52</td>\n",
       "      <td>70</td>\n",
       "      <td>49</td>\n",
       "      <td>60</td>\n",
       "      <td>61</td>\n",
       "      <td>23</td>\n",
       "      <td>68</td>\n",
       "      <td>44</td>\n",
       "      <td>42</td>\n",
       "      <td>20</td>\n",
       "      <td>...</td>\n",
       "      <td>18</td>\n",
       "      <td>22</td>\n",
       "      <td>22</td>\n",
       "      <td>6</td>\n",
       "      <td>44</td>\n",
       "      <td>52</td>\n",
       "      <td>83</td>\n",
       "      <td>37</td>\n",
       "      <td>64</td>\n",
       "      <td>88</td>\n",
       "    </tr>\n",
       "    <tr>\n",
       "      <th>1</th>\n",
       "      <td>56</td>\n",
       "      <td>35</td>\n",
       "      <td>33</td>\n",
       "      <td>63</td>\n",
       "      <td>69</td>\n",
       "      <td>95</td>\n",
       "      <td>22</td>\n",
       "      <td>1</td>\n",
       "      <td>88</td>\n",
       "      <td>36</td>\n",
       "      <td>...</td>\n",
       "      <td>90</td>\n",
       "      <td>70</td>\n",
       "      <td>24</td>\n",
       "      <td>94</td>\n",
       "      <td>87</td>\n",
       "      <td>97</td>\n",
       "      <td>2</td>\n",
       "      <td>48</td>\n",
       "      <td>10</td>\n",
       "      <td>28</td>\n",
       "    </tr>\n",
       "    <tr>\n",
       "      <th>2</th>\n",
       "      <td>28</td>\n",
       "      <td>31</td>\n",
       "      <td>70</td>\n",
       "      <td>41</td>\n",
       "      <td>29</td>\n",
       "      <td>60</td>\n",
       "      <td>94</td>\n",
       "      <td>75</td>\n",
       "      <td>36</td>\n",
       "      <td>48</td>\n",
       "      <td>...</td>\n",
       "      <td>86</td>\n",
       "      <td>94</td>\n",
       "      <td>58</td>\n",
       "      <td>30</td>\n",
       "      <td>76</td>\n",
       "      <td>10</td>\n",
       "      <td>0</td>\n",
       "      <td>40</td>\n",
       "      <td>79</td>\n",
       "      <td>85</td>\n",
       "    </tr>\n",
       "    <tr>\n",
       "      <th>3</th>\n",
       "      <td>11</td>\n",
       "      <td>7</td>\n",
       "      <td>89</td>\n",
       "      <td>34</td>\n",
       "      <td>18</td>\n",
       "      <td>30</td>\n",
       "      <td>48</td>\n",
       "      <td>87</td>\n",
       "      <td>88</td>\n",
       "      <td>83</td>\n",
       "      <td>...</td>\n",
       "      <td>6</td>\n",
       "      <td>70</td>\n",
       "      <td>11</td>\n",
       "      <td>7</td>\n",
       "      <td>49</td>\n",
       "      <td>35</td>\n",
       "      <td>10</td>\n",
       "      <td>37</td>\n",
       "      <td>39</td>\n",
       "      <td>41</td>\n",
       "    </tr>\n",
       "    <tr>\n",
       "      <th>4</th>\n",
       "      <td>15</td>\n",
       "      <td>73</td>\n",
       "      <td>55</td>\n",
       "      <td>40</td>\n",
       "      <td>24</td>\n",
       "      <td>41</td>\n",
       "      <td>78</td>\n",
       "      <td>3</td>\n",
       "      <td>66</td>\n",
       "      <td>33</td>\n",
       "      <td>...</td>\n",
       "      <td>20</td>\n",
       "      <td>40</td>\n",
       "      <td>4</td>\n",
       "      <td>86</td>\n",
       "      <td>79</td>\n",
       "      <td>32</td>\n",
       "      <td>20</td>\n",
       "      <td>19</td>\n",
       "      <td>13</td>\n",
       "      <td>58</td>\n",
       "    </tr>\n",
       "  </tbody>\n",
       "</table>\n",
       "<p>5 rows × 100 columns</p>\n",
       "</div>"
      ],
      "text/plain": [
       "   rkd_f0  rkd_f1  rkd_f2  rkd_f3  rkd_f4  rkd_f5  rkd_f6  rkd_f7  rkd_f8  \\\n",
       "0      52      70      49      60      61      23      68      44      42   \n",
       "1      56      35      33      63      69      95      22       1      88   \n",
       "2      28      31      70      41      29      60      94      75      36   \n",
       "3      11       7      89      34      18      30      48      87      88   \n",
       "4      15      73      55      40      24      41      78       3      66   \n",
       "\n",
       "   rkd_f9  ...  rkd_f90  rkd_f91  rkd_f92  rkd_f93  rkd_f94  rkd_f95  rkd_f96  \\\n",
       "0      20  ...       18       22       22        6       44       52       83   \n",
       "1      36  ...       90       70       24       94       87       97        2   \n",
       "2      48  ...       86       94       58       30       76       10        0   \n",
       "3      83  ...        6       70       11        7       49       35       10   \n",
       "4      33  ...       20       40        4       86       79       32       20   \n",
       "\n",
       "   rkd_f97  rkd_f98  rkd_f99  \n",
       "0       37       64       88  \n",
       "1       48       10       28  \n",
       "2       40       79       85  \n",
       "3       37       39       41  \n",
       "4       19       13       58  \n",
       "\n",
       "[5 rows x 100 columns]"
      ]
     },
     "execution_count": 21,
     "metadata": {},
     "output_type": "execute_result"
    }
   ],
   "source": [
    "X_bins.head()"
   ]
  },
  {
   "cell_type": "markdown",
   "id": "9cc3bb27-ec71-46b4-8d0c-9db2688bc36e",
   "metadata": {},
   "source": [
    "## Normalizing (Preprocessing Deep Cols)"
   ]
  },
  {
   "cell_type": "code",
   "execution_count": 22,
   "id": "56993a51-da51-40d0-9e7f-756534220098",
   "metadata": {},
   "outputs": [
    {
     "name": "stderr",
     "output_type": "stream",
     "text": [
      "/home/sf/anaconda3/envs/tabular-x/lib/python3.8/site-packages/ipykernel/ipkernel.py:287: DeprecationWarning: `should_run_async` will not call `transform_cell` automatically in the future. Please pass the result to `transformed_cell` argument and any exception that happen during thetransform in `preprocessing_exc_tuple` in IPython 7.17 and above.\n",
      "  and should_run_async(code)\n"
     ]
    }
   ],
   "source": [
    "scaler = GaussRankScaler()\n",
    "X_gauss = scaler.fit_transform(X)"
   ]
  },
  {
   "cell_type": "code",
   "execution_count": 23,
   "id": "d22bfb6d-6a53-4341-aa21-a9679754a76c",
   "metadata": {},
   "outputs": [
    {
     "name": "stderr",
     "output_type": "stream",
     "text": [
      "/home/sf/anaconda3/envs/tabular-x/lib/python3.8/site-packages/ipykernel/ipkernel.py:287: DeprecationWarning: `should_run_async` will not call `transform_cell` automatically in the future. Please pass the result to `transformed_cell` argument and any exception that happen during thetransform in `preprocessing_exc_tuple` in IPython 7.17 and above.\n",
      "  and should_run_async(code)\n"
     ]
    },
    {
     "data": {
      "text/html": [
       "<div>\n",
       "<style scoped>\n",
       "    .dataframe tbody tr th:only-of-type {\n",
       "        vertical-align: middle;\n",
       "    }\n",
       "\n",
       "    .dataframe tbody tr th {\n",
       "        vertical-align: top;\n",
       "    }\n",
       "\n",
       "    .dataframe thead th {\n",
       "        text-align: right;\n",
       "    }\n",
       "</style>\n",
       "<table border=\"1\" class=\"dataframe\">\n",
       "  <thead>\n",
       "    <tr style=\"text-align: right;\">\n",
       "      <th></th>\n",
       "      <th>f0</th>\n",
       "      <th>f1</th>\n",
       "      <th>f2</th>\n",
       "      <th>f3</th>\n",
       "      <th>f4</th>\n",
       "      <th>f5</th>\n",
       "      <th>f6</th>\n",
       "      <th>f7</th>\n",
       "      <th>f8</th>\n",
       "      <th>f9</th>\n",
       "      <th>...</th>\n",
       "      <th>f90</th>\n",
       "      <th>f91</th>\n",
       "      <th>f92</th>\n",
       "      <th>f93</th>\n",
       "      <th>f94</th>\n",
       "      <th>f95</th>\n",
       "      <th>f96</th>\n",
       "      <th>f97</th>\n",
       "      <th>f98</th>\n",
       "      <th>f99</th>\n",
       "    </tr>\n",
       "  </thead>\n",
       "  <tbody>\n",
       "    <tr>\n",
       "      <th>0</th>\n",
       "      <td>0.106628</td>\n",
       "      <td>3.593750</td>\n",
       "      <td>132.7500</td>\n",
       "      <td>3.183594</td>\n",
       "      <td>0.081970</td>\n",
       "      <td>1.188477</td>\n",
       "      <td>3.732422</td>\n",
       "      <td>2.265625</td>\n",
       "      <td>2.099609</td>\n",
       "      <td>0.012329</td>\n",
       "      <td>...</td>\n",
       "      <td>0.010742</td>\n",
       "      <td>1.098633</td>\n",
       "      <td>0.013329</td>\n",
       "      <td>-0.011719</td>\n",
       "      <td>0.052765</td>\n",
       "      <td>0.065430</td>\n",
       "      <td>4.210938</td>\n",
       "      <td>1.978516</td>\n",
       "      <td>0.085999</td>\n",
       "      <td>0.240479</td>\n",
       "    </tr>\n",
       "    <tr>\n",
       "      <th>1</th>\n",
       "      <td>0.125000</td>\n",
       "      <td>1.673828</td>\n",
       "      <td>76.5625</td>\n",
       "      <td>3.378906</td>\n",
       "      <td>0.099426</td>\n",
       "      <td>5.093750</td>\n",
       "      <td>1.275391</td>\n",
       "      <td>-0.471436</td>\n",
       "      <td>4.546875</td>\n",
       "      <td>0.037720</td>\n",
       "      <td>...</td>\n",
       "      <td>0.135864</td>\n",
       "      <td>3.460938</td>\n",
       "      <td>0.017059</td>\n",
       "      <td>0.124878</td>\n",
       "      <td>0.154053</td>\n",
       "      <td>0.606934</td>\n",
       "      <td>-0.267822</td>\n",
       "      <td>2.578125</td>\n",
       "      <td>-0.020874</td>\n",
       "      <td>0.024719</td>\n",
       "    </tr>\n",
       "    <tr>\n",
       "      <th>2</th>\n",
       "      <td>0.036316</td>\n",
       "      <td>1.497070</td>\n",
       "      <td>233.5000</td>\n",
       "      <td>2.195312</td>\n",
       "      <td>0.026917</td>\n",
       "      <td>3.126953</td>\n",
       "      <td>5.058594</td>\n",
       "      <td>3.849609</td>\n",
       "      <td>1.801758</td>\n",
       "      <td>0.057007</td>\n",
       "      <td>...</td>\n",
       "      <td>0.117310</td>\n",
       "      <td>4.882812</td>\n",
       "      <td>0.085205</td>\n",
       "      <td>0.032410</td>\n",
       "      <td>0.116089</td>\n",
       "      <td>-0.001689</td>\n",
       "      <td>-0.520020</td>\n",
       "      <td>2.140625</td>\n",
       "      <td>0.124451</td>\n",
       "      <td>0.148193</td>\n",
       "    </tr>\n",
       "    <tr>\n",
       "      <th>3</th>\n",
       "      <td>-0.014076</td>\n",
       "      <td>0.245972</td>\n",
       "      <td>780.0000</td>\n",
       "      <td>1.890625</td>\n",
       "      <td>0.006947</td>\n",
       "      <td>1.531250</td>\n",
       "      <td>2.697266</td>\n",
       "      <td>4.515625</td>\n",
       "      <td>4.503906</td>\n",
       "      <td>0.123474</td>\n",
       "      <td>...</td>\n",
       "      <td>-0.015350</td>\n",
       "      <td>3.474609</td>\n",
       "      <td>-0.017105</td>\n",
       "      <td>-0.008102</td>\n",
       "      <td>0.062012</td>\n",
       "      <td>0.041199</td>\n",
       "      <td>0.511719</td>\n",
       "      <td>1.968750</td>\n",
       "      <td>0.040009</td>\n",
       "      <td>0.044861</td>\n",
       "    </tr>\n",
       "    <tr>\n",
       "      <th>4</th>\n",
       "      <td>-0.003260</td>\n",
       "      <td>3.714844</td>\n",
       "      <td>156.1250</td>\n",
       "      <td>2.148438</td>\n",
       "      <td>0.018280</td>\n",
       "      <td>2.097656</td>\n",
       "      <td>4.156250</td>\n",
       "      <td>-0.038239</td>\n",
       "      <td>3.371094</td>\n",
       "      <td>0.034180</td>\n",
       "      <td>...</td>\n",
       "      <td>0.013779</td>\n",
       "      <td>1.910156</td>\n",
       "      <td>-0.042938</td>\n",
       "      <td>0.105591</td>\n",
       "      <td>0.125122</td>\n",
       "      <td>0.037506</td>\n",
       "      <td>1.043945</td>\n",
       "      <td>1.075195</td>\n",
       "      <td>-0.012817</td>\n",
       "      <td>0.072815</td>\n",
       "    </tr>\n",
       "  </tbody>\n",
       "</table>\n",
       "<p>5 rows × 100 columns</p>\n",
       "</div>"
      ],
      "text/plain": [
       "         f0        f1        f2        f3        f4        f5        f6  \\\n",
       "0  0.106628  3.593750  132.7500  3.183594  0.081970  1.188477  3.732422   \n",
       "1  0.125000  1.673828   76.5625  3.378906  0.099426  5.093750  1.275391   \n",
       "2  0.036316  1.497070  233.5000  2.195312  0.026917  3.126953  5.058594   \n",
       "3 -0.014076  0.245972  780.0000  1.890625  0.006947  1.531250  2.697266   \n",
       "4 -0.003260  3.714844  156.1250  2.148438  0.018280  2.097656  4.156250   \n",
       "\n",
       "         f7        f8        f9  ...       f90       f91       f92       f93  \\\n",
       "0  2.265625  2.099609  0.012329  ...  0.010742  1.098633  0.013329 -0.011719   \n",
       "1 -0.471436  4.546875  0.037720  ...  0.135864  3.460938  0.017059  0.124878   \n",
       "2  3.849609  1.801758  0.057007  ...  0.117310  4.882812  0.085205  0.032410   \n",
       "3  4.515625  4.503906  0.123474  ... -0.015350  3.474609 -0.017105 -0.008102   \n",
       "4 -0.038239  3.371094  0.034180  ...  0.013779  1.910156 -0.042938  0.105591   \n",
       "\n",
       "        f94       f95       f96       f97       f98       f99  \n",
       "0  0.052765  0.065430  4.210938  1.978516  0.085999  0.240479  \n",
       "1  0.154053  0.606934 -0.267822  2.578125 -0.020874  0.024719  \n",
       "2  0.116089 -0.001689 -0.520020  2.140625  0.124451  0.148193  \n",
       "3  0.062012  0.041199  0.511719  1.968750  0.040009  0.044861  \n",
       "4  0.125122  0.037506  1.043945  1.075195 -0.012817  0.072815  \n",
       "\n",
       "[5 rows x 100 columns]"
      ]
     },
     "execution_count": 23,
     "metadata": {},
     "output_type": "execute_result"
    }
   ],
   "source": [
    "X.head()"
   ]
  },
  {
   "cell_type": "code",
   "execution_count": 24,
   "id": "7d0e852b-42e8-459d-b721-8b740f990ee2",
   "metadata": {},
   "outputs": [
    {
     "name": "stderr",
     "output_type": "stream",
     "text": [
      "/home/sf/anaconda3/envs/tabular-x/lib/python3.8/site-packages/ipykernel/ipkernel.py:287: DeprecationWarning: `should_run_async` will not call `transform_cell` automatically in the future. Please pass the result to `transformed_cell` argument and any exception that happen during thetransform in `preprocessing_exc_tuple` in IPython 7.17 and above.\n",
      "  and should_run_async(code)\n"
     ]
    }
   ],
   "source": [
    "X_gauss = pd.DataFrame(X_gauss, columns=X.columns, index=X.index)"
   ]
  },
  {
   "cell_type": "code",
   "execution_count": 25,
   "id": "ba5b34c0-9cd8-4c31-8f2b-407479812bb3",
   "metadata": {},
   "outputs": [
    {
     "data": {
      "text/html": [
       "<div>\n",
       "<style scoped>\n",
       "    .dataframe tbody tr th:only-of-type {\n",
       "        vertical-align: middle;\n",
       "    }\n",
       "\n",
       "    .dataframe tbody tr th {\n",
       "        vertical-align: top;\n",
       "    }\n",
       "\n",
       "    .dataframe thead th {\n",
       "        text-align: right;\n",
       "    }\n",
       "</style>\n",
       "<table border=\"1\" class=\"dataframe\">\n",
       "  <thead>\n",
       "    <tr style=\"text-align: right;\">\n",
       "      <th></th>\n",
       "      <th>f0</th>\n",
       "      <th>f1</th>\n",
       "      <th>f2</th>\n",
       "      <th>f3</th>\n",
       "      <th>f4</th>\n",
       "      <th>f5</th>\n",
       "      <th>f6</th>\n",
       "      <th>f7</th>\n",
       "      <th>f8</th>\n",
       "      <th>f9</th>\n",
       "      <th>...</th>\n",
       "      <th>f90</th>\n",
       "      <th>f91</th>\n",
       "      <th>f92</th>\n",
       "      <th>f93</th>\n",
       "      <th>f94</th>\n",
       "      <th>f95</th>\n",
       "      <th>f96</th>\n",
       "      <th>f97</th>\n",
       "      <th>f98</th>\n",
       "      <th>f99</th>\n",
       "    </tr>\n",
       "  </thead>\n",
       "  <tbody>\n",
       "    <tr>\n",
       "      <th>0</th>\n",
       "      <td>0.503864</td>\n",
       "      <td>1.170148</td>\n",
       "      <td>0.497627</td>\n",
       "      <td>1.061322</td>\n",
       "      <td>0.497063</td>\n",
       "      <td>0.697261</td>\n",
       "      <td>1.178046</td>\n",
       "      <td>0.918892</td>\n",
       "      <td>0.898030</td>\n",
       "      <td>0.264610</td>\n",
       "      <td>...</td>\n",
       "      <td>0.313791</td>\n",
       "      <td>0.697968</td>\n",
       "      <td>0.228935</td>\n",
       "      <td>-0.745756</td>\n",
       "      <td>0.410898</td>\n",
       "      <td>0.511767</td>\n",
       "      <td>1.301817</td>\n",
       "      <td>0.886265</td>\n",
       "      <td>0.491337</td>\n",
       "      <td>0.715292</td>\n",
       "    </tr>\n",
       "    <tr>\n",
       "      <th>1</th>\n",
       "      <td>0.532606</td>\n",
       "      <td>0.817177</td>\n",
       "      <td>0.414955</td>\n",
       "      <td>1.099940</td>\n",
       "      <td>0.523378</td>\n",
       "      <td>1.430099</td>\n",
       "      <td>0.707201</td>\n",
       "      <td>-1.001742</td>\n",
       "      <td>1.361183</td>\n",
       "      <td>0.395362</td>\n",
       "      <td>...</td>\n",
       "      <td>0.712643</td>\n",
       "      <td>1.133297</td>\n",
       "      <td>0.258559</td>\n",
       "      <td>0.941823</td>\n",
       "      <td>0.550487</td>\n",
       "      <td>0.937882</td>\n",
       "      <td>-0.799881</td>\n",
       "      <td>0.975537</td>\n",
       "      <td>-0.595291</td>\n",
       "      <td>0.375001</td>\n",
       "    </tr>\n",
       "    <tr>\n",
       "      <th>2</th>\n",
       "      <td>0.364383</td>\n",
       "      <td>0.777697</td>\n",
       "      <td>0.581712</td>\n",
       "      <td>0.902238</td>\n",
       "      <td>0.358373</td>\n",
       "      <td>1.046707</td>\n",
       "      <td>1.450572</td>\n",
       "      <td>1.213861</td>\n",
       "      <td>0.833888</td>\n",
       "      <td>0.448396</td>\n",
       "      <td>...</td>\n",
       "      <td>0.684576</td>\n",
       "      <td>1.420673</td>\n",
       "      <td>0.444982</td>\n",
       "      <td>0.597667</td>\n",
       "      <td>0.514780</td>\n",
       "      <td>-0.345367</td>\n",
       "      <td>-1.076664</td>\n",
       "      <td>0.911155</td>\n",
       "      <td>0.547897</td>\n",
       "      <td>0.627946</td>\n",
       "    </tr>\n",
       "    <tr>\n",
       "      <th>3</th>\n",
       "      <td>-0.552709</td>\n",
       "      <td>0.361766</td>\n",
       "      <td>0.800397</td>\n",
       "      <td>0.847488</td>\n",
       "      <td>0.205250</td>\n",
       "      <td>0.767239</td>\n",
       "      <td>0.975344</td>\n",
       "      <td>1.338971</td>\n",
       "      <td>1.352906</td>\n",
       "      <td>0.554931</td>\n",
       "      <td>...</td>\n",
       "      <td>-0.698743</td>\n",
       "      <td>1.136185</td>\n",
       "      <td>-0.622266</td>\n",
       "      <td>-0.671410</td>\n",
       "      <td>0.436283</td>\n",
       "      <td>0.439042</td>\n",
       "      <td>0.506585</td>\n",
       "      <td>0.883681</td>\n",
       "      <td>0.397615</td>\n",
       "      <td>0.451311</td>\n",
       "    </tr>\n",
       "    <tr>\n",
       "      <th>4</th>\n",
       "      <td>-0.357576</td>\n",
       "      <td>1.199284</td>\n",
       "      <td>0.516476</td>\n",
       "      <td>0.895768</td>\n",
       "      <td>0.313432</td>\n",
       "      <td>0.890002</td>\n",
       "      <td>1.273778</td>\n",
       "      <td>-0.348193</td>\n",
       "      <td>1.110106</td>\n",
       "      <td>0.385873</td>\n",
       "      <td>...</td>\n",
       "      <td>0.349392</td>\n",
       "      <td>0.873186</td>\n",
       "      <td>-0.772866</td>\n",
       "      <td>0.873466</td>\n",
       "      <td>0.528289</td>\n",
       "      <td>0.427691</td>\n",
       "      <td>0.679960</td>\n",
       "      <td>0.684102</td>\n",
       "      <td>-0.528382</td>\n",
       "      <td>0.520949</td>\n",
       "    </tr>\n",
       "  </tbody>\n",
       "</table>\n",
       "<p>5 rows × 100 columns</p>\n",
       "</div>"
      ],
      "text/plain": [
       "         f0        f1        f2        f3        f4        f5        f6  \\\n",
       "0  0.503864  1.170148  0.497627  1.061322  0.497063  0.697261  1.178046   \n",
       "1  0.532606  0.817177  0.414955  1.099940  0.523378  1.430099  0.707201   \n",
       "2  0.364383  0.777697  0.581712  0.902238  0.358373  1.046707  1.450572   \n",
       "3 -0.552709  0.361766  0.800397  0.847488  0.205250  0.767239  0.975344   \n",
       "4 -0.357576  1.199284  0.516476  0.895768  0.313432  0.890002  1.273778   \n",
       "\n",
       "         f7        f8        f9  ...       f90       f91       f92       f93  \\\n",
       "0  0.918892  0.898030  0.264610  ...  0.313791  0.697968  0.228935 -0.745756   \n",
       "1 -1.001742  1.361183  0.395362  ...  0.712643  1.133297  0.258559  0.941823   \n",
       "2  1.213861  0.833888  0.448396  ...  0.684576  1.420673  0.444982  0.597667   \n",
       "3  1.338971  1.352906  0.554931  ... -0.698743  1.136185 -0.622266 -0.671410   \n",
       "4 -0.348193  1.110106  0.385873  ...  0.349392  0.873186 -0.772866  0.873466   \n",
       "\n",
       "        f94       f95       f96       f97       f98       f99  \n",
       "0  0.410898  0.511767  1.301817  0.886265  0.491337  0.715292  \n",
       "1  0.550487  0.937882 -0.799881  0.975537 -0.595291  0.375001  \n",
       "2  0.514780 -0.345367 -1.076664  0.911155  0.547897  0.627946  \n",
       "3  0.436283  0.439042  0.506585  0.883681  0.397615  0.451311  \n",
       "4  0.528289  0.427691  0.679960  0.684102 -0.528382  0.520949  \n",
       "\n",
       "[5 rows x 100 columns]"
      ]
     },
     "execution_count": 25,
     "metadata": {},
     "output_type": "execute_result"
    }
   ],
   "source": [
    "X_gauss.head()"
   ]
  },
  {
   "cell_type": "markdown",
   "id": "4f4fe5d8-e63d-4227-acce-e51cea8a34aa",
   "metadata": {},
   "source": [
    "## Preparing Data for WideDeep"
   ]
  },
  {
   "cell_type": "code",
   "execution_count": 26,
   "id": "9048c9b1-8bd1-427b-a06f-f951532bd5e7",
   "metadata": {},
   "outputs": [
    {
     "name": "stderr",
     "output_type": "stream",
     "text": [
      "/home/sf/anaconda3/envs/tabular-x/lib/python3.8/site-packages/ipykernel/ipkernel.py:287: DeprecationWarning: `should_run_async` will not call `transform_cell` automatically in the future. Please pass the result to `transformed_cell` argument and any exception that happen during thetransform in `preprocessing_exc_tuple` in IPython 7.17 and above.\n",
      "  and should_run_async(code)\n"
     ]
    }
   ],
   "source": [
    "X_pre = X_gauss.join(X_bins)"
   ]
  },
  {
   "cell_type": "code",
   "execution_count": 27,
   "id": "399bfc3a-85a1-4aea-b035-6d6577e3fa91",
   "metadata": {},
   "outputs": [
    {
     "data": {
      "text/html": [
       "<div>\n",
       "<style scoped>\n",
       "    .dataframe tbody tr th:only-of-type {\n",
       "        vertical-align: middle;\n",
       "    }\n",
       "\n",
       "    .dataframe tbody tr th {\n",
       "        vertical-align: top;\n",
       "    }\n",
       "\n",
       "    .dataframe thead th {\n",
       "        text-align: right;\n",
       "    }\n",
       "</style>\n",
       "<table border=\"1\" class=\"dataframe\">\n",
       "  <thead>\n",
       "    <tr style=\"text-align: right;\">\n",
       "      <th></th>\n",
       "      <th>f0</th>\n",
       "      <th>f1</th>\n",
       "      <th>f2</th>\n",
       "      <th>f3</th>\n",
       "      <th>f4</th>\n",
       "      <th>f5</th>\n",
       "      <th>f6</th>\n",
       "      <th>f7</th>\n",
       "      <th>f8</th>\n",
       "      <th>f9</th>\n",
       "      <th>...</th>\n",
       "      <th>rkd_f90</th>\n",
       "      <th>rkd_f91</th>\n",
       "      <th>rkd_f92</th>\n",
       "      <th>rkd_f93</th>\n",
       "      <th>rkd_f94</th>\n",
       "      <th>rkd_f95</th>\n",
       "      <th>rkd_f96</th>\n",
       "      <th>rkd_f97</th>\n",
       "      <th>rkd_f98</th>\n",
       "      <th>rkd_f99</th>\n",
       "    </tr>\n",
       "  </thead>\n",
       "  <tbody>\n",
       "    <tr>\n",
       "      <th>0</th>\n",
       "      <td>0.503864</td>\n",
       "      <td>1.170148</td>\n",
       "      <td>0.497627</td>\n",
       "      <td>1.061322</td>\n",
       "      <td>0.497063</td>\n",
       "      <td>0.697261</td>\n",
       "      <td>1.178046</td>\n",
       "      <td>0.918892</td>\n",
       "      <td>0.898030</td>\n",
       "      <td>0.264610</td>\n",
       "      <td>...</td>\n",
       "      <td>18</td>\n",
       "      <td>22</td>\n",
       "      <td>22</td>\n",
       "      <td>6</td>\n",
       "      <td>44</td>\n",
       "      <td>52</td>\n",
       "      <td>83</td>\n",
       "      <td>37</td>\n",
       "      <td>64</td>\n",
       "      <td>88</td>\n",
       "    </tr>\n",
       "    <tr>\n",
       "      <th>1</th>\n",
       "      <td>0.532606</td>\n",
       "      <td>0.817177</td>\n",
       "      <td>0.414955</td>\n",
       "      <td>1.099940</td>\n",
       "      <td>0.523378</td>\n",
       "      <td>1.430099</td>\n",
       "      <td>0.707201</td>\n",
       "      <td>-1.001742</td>\n",
       "      <td>1.361183</td>\n",
       "      <td>0.395362</td>\n",
       "      <td>...</td>\n",
       "      <td>90</td>\n",
       "      <td>70</td>\n",
       "      <td>24</td>\n",
       "      <td>94</td>\n",
       "      <td>87</td>\n",
       "      <td>97</td>\n",
       "      <td>2</td>\n",
       "      <td>48</td>\n",
       "      <td>10</td>\n",
       "      <td>28</td>\n",
       "    </tr>\n",
       "    <tr>\n",
       "      <th>2</th>\n",
       "      <td>0.364383</td>\n",
       "      <td>0.777697</td>\n",
       "      <td>0.581712</td>\n",
       "      <td>0.902238</td>\n",
       "      <td>0.358373</td>\n",
       "      <td>1.046707</td>\n",
       "      <td>1.450572</td>\n",
       "      <td>1.213861</td>\n",
       "      <td>0.833888</td>\n",
       "      <td>0.448396</td>\n",
       "      <td>...</td>\n",
       "      <td>86</td>\n",
       "      <td>94</td>\n",
       "      <td>58</td>\n",
       "      <td>30</td>\n",
       "      <td>76</td>\n",
       "      <td>10</td>\n",
       "      <td>0</td>\n",
       "      <td>40</td>\n",
       "      <td>79</td>\n",
       "      <td>85</td>\n",
       "    </tr>\n",
       "    <tr>\n",
       "      <th>3</th>\n",
       "      <td>-0.552709</td>\n",
       "      <td>0.361766</td>\n",
       "      <td>0.800397</td>\n",
       "      <td>0.847488</td>\n",
       "      <td>0.205250</td>\n",
       "      <td>0.767239</td>\n",
       "      <td>0.975344</td>\n",
       "      <td>1.338971</td>\n",
       "      <td>1.352906</td>\n",
       "      <td>0.554931</td>\n",
       "      <td>...</td>\n",
       "      <td>6</td>\n",
       "      <td>70</td>\n",
       "      <td>11</td>\n",
       "      <td>7</td>\n",
       "      <td>49</td>\n",
       "      <td>35</td>\n",
       "      <td>10</td>\n",
       "      <td>37</td>\n",
       "      <td>39</td>\n",
       "      <td>41</td>\n",
       "    </tr>\n",
       "    <tr>\n",
       "      <th>4</th>\n",
       "      <td>-0.357576</td>\n",
       "      <td>1.199284</td>\n",
       "      <td>0.516476</td>\n",
       "      <td>0.895768</td>\n",
       "      <td>0.313432</td>\n",
       "      <td>0.890002</td>\n",
       "      <td>1.273778</td>\n",
       "      <td>-0.348193</td>\n",
       "      <td>1.110106</td>\n",
       "      <td>0.385873</td>\n",
       "      <td>...</td>\n",
       "      <td>20</td>\n",
       "      <td>40</td>\n",
       "      <td>4</td>\n",
       "      <td>86</td>\n",
       "      <td>79</td>\n",
       "      <td>32</td>\n",
       "      <td>20</td>\n",
       "      <td>19</td>\n",
       "      <td>13</td>\n",
       "      <td>58</td>\n",
       "    </tr>\n",
       "  </tbody>\n",
       "</table>\n",
       "<p>5 rows × 200 columns</p>\n",
       "</div>"
      ],
      "text/plain": [
       "         f0        f1        f2        f3        f4        f5        f6  \\\n",
       "0  0.503864  1.170148  0.497627  1.061322  0.497063  0.697261  1.178046   \n",
       "1  0.532606  0.817177  0.414955  1.099940  0.523378  1.430099  0.707201   \n",
       "2  0.364383  0.777697  0.581712  0.902238  0.358373  1.046707  1.450572   \n",
       "3 -0.552709  0.361766  0.800397  0.847488  0.205250  0.767239  0.975344   \n",
       "4 -0.357576  1.199284  0.516476  0.895768  0.313432  0.890002  1.273778   \n",
       "\n",
       "         f7        f8        f9  ...  rkd_f90  rkd_f91  rkd_f92  rkd_f93  \\\n",
       "0  0.918892  0.898030  0.264610  ...       18       22       22        6   \n",
       "1 -1.001742  1.361183  0.395362  ...       90       70       24       94   \n",
       "2  1.213861  0.833888  0.448396  ...       86       94       58       30   \n",
       "3  1.338971  1.352906  0.554931  ...        6       70       11        7   \n",
       "4 -0.348193  1.110106  0.385873  ...       20       40        4       86   \n",
       "\n",
       "   rkd_f94  rkd_f95  rkd_f96  rkd_f97  rkd_f98  rkd_f99  \n",
       "0       44       52       83       37       64       88  \n",
       "1       87       97        2       48       10       28  \n",
       "2       76       10        0       40       79       85  \n",
       "3       49       35       10       37       39       41  \n",
       "4       79       32       20       19       13       58  \n",
       "\n",
       "[5 rows x 200 columns]"
      ]
     },
     "execution_count": 27,
     "metadata": {},
     "output_type": "execute_result"
    }
   ],
   "source": [
    "X_pre.head()"
   ]
  },
  {
   "cell_type": "code",
   "execution_count": 65,
   "id": "900f0618-c6f2-4b25-8718-6a907e2c93b3",
   "metadata": {},
   "outputs": [
    {
     "name": "stderr",
     "output_type": "stream",
     "text": [
      "/home/sf/anaconda3/envs/tabular-x/lib/python3.8/site-packages/ipykernel/ipkernel.py:287: DeprecationWarning: `should_run_async` will not call `transform_cell` automatically in the future. Please pass the result to `transformed_cell` argument and any exception that happen during thetransform in `preprocessing_exc_tuple` in IPython 7.17 and above.\n",
      "  and should_run_async(code)\n"
     ]
    }
   ],
   "source": [
    "cont_cols = X_pre.iloc[:,:100].columns\n",
    "wide_cols = X_pre.iloc[:, 100:].columns"
   ]
  },
  {
   "cell_type": "code",
   "execution_count": 66,
   "id": "6ef65f9b-1558-499d-8cd5-9d3d2380fc98",
   "metadata": {},
   "outputs": [
    {
     "data": {
      "text/plain": [
       "Index(['f0', 'f1', 'f2', 'f3', 'f4', 'f5', 'f6', 'f7', 'f8', 'f9', 'f10',\n",
       "       'f11', 'f12', 'f13', 'f14', 'f15', 'f16', 'f17', 'f18', 'f19', 'f20',\n",
       "       'f21', 'f22', 'f23', 'f24', 'f25', 'f26', 'f27', 'f28', 'f29', 'f30',\n",
       "       'f31', 'f32', 'f33', 'f34', 'f35', 'f36', 'f37', 'f38', 'f39', 'f40',\n",
       "       'f41', 'f42', 'f43', 'f44', 'f45', 'f46', 'f47', 'f48', 'f49', 'f50',\n",
       "       'f51', 'f52', 'f53', 'f54', 'f55', 'f56', 'f57', 'f58', 'f59', 'f60',\n",
       "       'f61', 'f62', 'f63', 'f64', 'f65', 'f66', 'f67', 'f68', 'f69', 'f70',\n",
       "       'f71', 'f72', 'f73', 'f74', 'f75', 'f76', 'f77', 'f78', 'f79', 'f80',\n",
       "       'f81', 'f82', 'f83', 'f84', 'f85', 'f86', 'f87', 'f88', 'f89', 'f90',\n",
       "       'f91', 'f92', 'f93', 'f94', 'f95', 'f96', 'f97', 'f98', 'f99'],\n",
       "      dtype='object')"
      ]
     },
     "execution_count": 66,
     "metadata": {},
     "output_type": "execute_result"
    }
   ],
   "source": [
    "cont_cols"
   ]
  },
  {
   "cell_type": "markdown",
   "id": "318ce849-3f26-4453-8539-acd3002aa643",
   "metadata": {},
   "source": [
    "- So here, I've stored the column names in a list-like object (i.e. a pandas `Index`) "
   ]
  },
  {
   "cell_type": "code",
   "execution_count": 67,
   "id": "1d7dcf9d-b3d8-4b1e-9263-b635a5b6f674",
   "metadata": {},
   "outputs": [],
   "source": [
    "wide_preprocessor = WidePreprocessor(wide_cols=wide_cols)\n",
    "X_wide = wide_preprocessor.fit_transform(X_pre)"
   ]
  },
  {
   "cell_type": "code",
   "execution_count": 70,
   "id": "886ff48e-4b2a-439d-9426-95320d20d878",
   "metadata": {},
   "outputs": [],
   "source": [
    "tab_preprocessor = TabPreprocessor(continuous_cols=cont_cols, scale=False, for_transformer=False,embed_cols=wide_cols)\n",
    "X_tab = tab_preprocessor.fit_transform(X_pre)"
   ]
  },
  {
   "cell_type": "code",
   "execution_count": 71,
   "id": "21ddbb81-b823-487f-ace2-a268d39c5f9c",
   "metadata": {},
   "outputs": [
    {
     "data": {
      "text/plain": [
       "((600000, 100), (600000, 200))"
      ]
     },
     "execution_count": 71,
     "metadata": {},
     "output_type": "execute_result"
    }
   ],
   "source": [
    "X_wide.shape, X_tab.shape"
   ]
  },
  {
   "cell_type": "markdown",
   "id": "9b66a875-4e1d-4296-9bea-8c4261818673",
   "metadata": {},
   "source": [
    "- So at this point, I've created two parallel versions of the dataset -- both contain all the instances, but the wide version contains only the categorical (binned) values, and the other contains both; the `embed_cols=` kwarg specifies that an embedding should be generated on the basis of them."
   ]
  },
  {
   "cell_type": "code",
   "execution_count": 72,
   "id": "f436a532-9346-46f4-97a4-bbdd7c9e35d4",
   "metadata": {
    "tags": []
   },
   "outputs": [
    {
     "data": {
      "text/plain": [
       "array([ 8.        , 11.        , 11.        , 11.        , 11.        ,\n",
       "       11.        , 11.        , 10.        ,  9.        , 11.        ,\n",
       "        9.        , 11.        ,  9.        , 10.        , 11.        ,\n",
       "       11.        , 11.        , 11.        , 10.        ,  9.        ,\n",
       "       10.        , 11.        , 11.        , 10.        ,  9.        ,\n",
       "       10.        , 11.        , 11.        , 11.        ,  9.        ,\n",
       "       11.        , 11.        , 11.        ,  4.        , 11.        ,\n",
       "       11.        , 11.        , 10.        , 10.        , 11.        ,\n",
       "       11.        , 11.        , 10.        , 10.        , 11.        ,\n",
       "       10.        , 11.        , 11.        , 10.        , 10.        ,\n",
       "        1.        , 11.        , 11.        , 11.        , 11.        ,\n",
       "       11.        , 11.        , 11.        ,  1.        , 11.        ,\n",
       "       10.        , 11.        , 11.        ,  9.        , 11.        ,\n",
       "       11.        , 10.        , 11.        , 11.        , 11.        ,\n",
       "       11.        , 11.        ,  9.        , 11.        , 11.        ,\n",
       "       10.        , 11.        , 10.        , 10.        , 10.        ,\n",
       "       11.        , 10.        , 11.        , 11.        , 10.        ,\n",
       "       11.        , 11.        , 11.        , 11.        , 10.        ,\n",
       "       11.        , 10.        , 11.        , 11.        , 11.        ,\n",
       "       10.        , 11.        ,  9.        ,  8.        , 11.        ,\n",
       "        0.76038617,  0.84529364, -0.67661818,  0.68906896, -0.62487702,\n",
       "        0.64122484,  0.58224994,  0.82454421,  1.08814168,  0.41022849,\n",
       "        0.90741164,  1.12407655,  0.62466553,  1.10318999,  0.54386764,\n",
       "        0.7530216 ,  0.37339674,  0.99666733,  0.79439887,  0.57280898,\n",
       "        0.45305056,  0.52532642,  0.87722247,  0.52868238,  0.34801488,\n",
       "        1.28478492,  0.77984409, -1.26555607,  0.4616109 , -0.35536079,\n",
       "        0.39908204,  0.27060084,  0.42337848,  0.63041989,  0.74808646,\n",
       "        0.52812131,  1.01368991,  0.60369269,  1.35783424,  0.10242417,\n",
       "        1.39053268,  1.47842064,  0.50074066,  0.54530514,  0.28112343,\n",
       "        0.24367976,  0.93189298,  0.96552725,  0.40388132,  0.45941045,\n",
       "        0.64146494,  0.72001595,  0.34348382,  1.22542129,  1.17423246,\n",
       "        0.6065393 ,  0.45156156,  0.69776333,  0.48934472,  0.46590083,\n",
       "        0.06641296,  0.47629989,  0.44049831,  0.36647089,  0.44597993,\n",
       "        1.0682137 ,  0.99296836,  1.24086785, -0.61245902,  0.90437657,\n",
       "        1.44405807,  1.08718457,  0.46774634,  0.77055788,  1.11649476,\n",
       "        0.43580902, -0.55464087,  0.98266882,  0.55094256,  0.47515442,\n",
       "        0.7520523 ,  0.62493545,  0.93236511,  1.06905749,  0.41553887,\n",
       "        0.97798814,  1.40723528, -0.56446135,  0.65236157,  0.83907683,\n",
       "        0.61198829,  0.76727146,  0.79110287,  0.69900086,  0.2308508 ,\n",
       "        0.92328096,  1.2948959 ,  0.53444798,  0.29069481,  0.47317944])"
      ]
     },
     "execution_count": 72,
     "metadata": {},
     "output_type": "execute_result"
    }
   ],
   "source": [
    "X_tab[10,:]"
   ]
  },
  {
   "cell_type": "markdown",
   "id": "459790aa-55cf-4f86-8603-5fa2e4a2b1a4",
   "metadata": {},
   "source": [
    "- Note that the ones bound for embedding go first. \n",
    "- Not sure about the values they've generated -- it's possible that the WideDeep library's preprocessing is inappropriate post-binning"
   ]
  },
  {
   "cell_type": "code",
   "execution_count": 33,
   "id": "0a27f665-13ca-4fb1-aa3d-47b59b6fb707",
   "metadata": {},
   "outputs": [
    {
     "name": "stderr",
     "output_type": "stream",
     "text": [
      "/home/sf/anaconda3/envs/tabular-x/lib/python3.8/site-packages/ipykernel/ipkernel.py:287: DeprecationWarning: `should_run_async` will not call `transform_cell` automatically in the future. Please pass the result to `transformed_cell` argument and any exception that happen during thetransform in `preprocessing_exc_tuple` in IPython 7.17 and above.\n",
      "  and should_run_async(code)\n"
     ]
    }
   ],
   "source": [
    "import torchinfo"
   ]
  },
  {
   "cell_type": "code",
   "execution_count": 73,
   "id": "7b715656-27ac-4c63-9657-0a5c3602c3f7",
   "metadata": {},
   "outputs": [],
   "source": [
    "wide = Wide(wide_dim=np.unique(X_wide).shape[0], pred_dim=1)"
   ]
  },
  {
   "cell_type": "code",
   "execution_count": 74,
   "id": "ed6b9686-7e7d-4eba-9ffd-047ea6aea4ea",
   "metadata": {},
   "outputs": [
    {
     "data": {
      "text/plain": [
       "=================================================================\n",
       "Layer (type:depth-idx)                   Param #\n",
       "=================================================================\n",
       "Wide                                     --\n",
       "├─Embedding: 1-1                         10,001\n",
       "=================================================================\n",
       "Total params: 10,001\n",
       "Trainable params: 10,001\n",
       "Non-trainable params: 0\n",
       "================================================================="
      ]
     },
     "execution_count": 74,
     "metadata": {},
     "output_type": "execute_result"
    }
   ],
   "source": [
    "torchinfo.summary(wide)"
   ]
  },
  {
   "cell_type": "code",
   "execution_count": 43,
   "id": "0576ee77-078b-45f4-afa9-1260f9cbd9a4",
   "metadata": {},
   "outputs": [
    {
     "name": "stderr",
     "output_type": "stream",
     "text": [
      "/home/sf/anaconda3/envs/tabular-x/lib/python3.8/site-packages/ipykernel/ipkernel.py:287: DeprecationWarning: `should_run_async` will not call `transform_cell` automatically in the future. Please pass the result to `transformed_cell` argument and any exception that happen during thetransform in `preprocessing_exc_tuple` in IPython 7.17 and above.\n",
      "  and should_run_async(code)\n"
     ]
    }
   ],
   "source": [
    "# X_pre.loc[:, X_bins.columns]"
   ]
  },
  {
   "cell_type": "code",
   "execution_count": 62,
   "id": "52ea3309-3abd-4dda-b3d8-f1b0264168d9",
   "metadata": {},
   "outputs": [],
   "source": [
    "# X_wide_train = np.array(X_wide_train)\n",
    "# X_tab_train = np.array(X_tab_train)\n",
    "# X_wide_valid = np.array(X_wide_valid)\n",
    "# X_tab_valid = np.array(X_tab_valid)"
   ]
  },
  {
   "cell_type": "code",
   "execution_count": 75,
   "id": "8ca6d90a-41f2-4b5c-bd6d-3d6b53d2ef35",
   "metadata": {},
   "outputs": [],
   "source": [
    "# deeptabular = TabMlp(continuous_cols=X_gauss.columns, column_idx=tab_preprocessor.column_idx)\n",
    "deeptabular = TabMlp(continuous_cols=cont_cols, column_idx=tab_preprocessor.column_idx)"
   ]
  },
  {
   "cell_type": "code",
   "execution_count": 76,
   "id": "4380cbfb-88f8-4e87-9b13-f90cdf60683b",
   "metadata": {},
   "outputs": [],
   "source": [
    "model = WideDeep(wide=wide, deeptabular=deeptabular)"
   ]
  },
  {
   "cell_type": "code",
   "execution_count": 77,
   "id": "f7b554a1-17f2-4793-83d3-1cb9c4879e8f",
   "metadata": {},
   "outputs": [
    {
     "data": {
      "text/plain": [
       "======================================================================\n",
       "Layer (type:depth-idx)                        Param #\n",
       "======================================================================\n",
       "WideDeep                                      --\n",
       "├─Wide: 1-1                                   --\n",
       "│    └─Embedding: 2-1                         10,001\n",
       "├─Sequential: 1-2                             --\n",
       "│    └─TabMlp: 2-2                            --\n",
       "│    │    └─CatEmbeddingsAndCont: 3-1         200\n",
       "│    │    └─MLP: 3-2                          40,300\n",
       "│    └─Linear: 2-3                            101\n",
       "======================================================================\n",
       "Total params: 50,602\n",
       "Trainable params: 50,602\n",
       "Non-trainable params: 0\n",
       "======================================================================"
      ]
     },
     "execution_count": 77,
     "metadata": {},
     "output_type": "execute_result"
    }
   ],
   "source": [
    "torchinfo.summary(model)"
   ]
  },
  {
   "cell_type": "code",
   "execution_count": 86,
   "id": "0dfd77e6-24e3-4d6c-9699-0448960c82ff",
   "metadata": {},
   "outputs": [],
   "source": [
    "# del X_deep_train, X_deep_valid\n",
    "X_wide_train, X_wide_valid, y_train, y_valid = train_test_split(X_wide, y, test_size=0.2, random_state=42)\n",
    "X_tab_train, X_tab_valid, _, _ = train_test_split(X_tab, y, test_size=0.2, random_state=42)"
   ]
  },
  {
   "cell_type": "code",
   "execution_count": 87,
   "id": "0501c3e7-e501-4479-973b-490480d1f13d",
   "metadata": {},
   "outputs": [
    {
     "data": {
      "text/plain": [
       "((480000, 100), (480000, 200))"
      ]
     },
     "execution_count": 87,
     "metadata": {},
     "output_type": "execute_result"
    }
   ],
   "source": [
    "X_wide_train.shape, X_tab_train.shape"
   ]
  },
  {
   "cell_type": "code",
   "execution_count": 90,
   "id": "b2ce37f7-1ff7-4237-a6bf-7360488294e4",
   "metadata": {},
   "outputs": [
    {
     "data": {
      "text/plain": [
       "pandas.core.series.Series"
      ]
     },
     "execution_count": 90,
     "metadata": {},
     "output_type": "execute_result"
    }
   ],
   "source": [
    "# X_wide_train = pd.DataFrame(X_wide_train, columns=wide_cols)\n",
    "# X_wide_valid = pd.DataFrame(X_wide_valid, columns=wide_cols)\n",
    "type(y_train)\n",
    "# type(X_wide_train)"
   ]
  },
  {
   "cell_type": "code",
   "execution_count": 91,
   "id": "6e1ac1e4-6ce8-4a7b-9d20-76f276a401fe",
   "metadata": {},
   "outputs": [],
   "source": [
    "y_train = np.array(y_train)\n",
    "y_valid = np.array(y_valid)"
   ]
  },
  {
   "cell_type": "code",
   "execution_count": 92,
   "id": "147cc654-0d81-461f-9aa2-7d6488332009",
   "metadata": {},
   "outputs": [
    {
     "name": "stderr",
     "output_type": "stream",
     "text": [
      "epoch 1: 100%|██████████| 469/469 [00:06<00:00, 73.32it/s, loss=2.12, metrics={'acc': 0.5511}]\n",
      "epoch 2: 100%|██████████| 469/469 [00:05<00:00, 78.48it/s, loss=1.94, metrics={'acc': 0.5702}]\n",
      "epoch 3: 100%|██████████| 469/469 [00:05<00:00, 80.71it/s, loss=1.81, metrics={'acc': 0.5761}]\n",
      "epoch 4: 100%|██████████| 469/469 [00:05<00:00, 78.26it/s, loss=1.68, metrics={'acc': 0.5815}]\n",
      "epoch 5: 100%|██████████| 469/469 [00:05<00:00, 82.15it/s, loss=1.57, metrics={'acc': 0.5862}]\n",
      "epoch 6: 100%|██████████| 469/469 [00:05<00:00, 82.79it/s, loss=1.45, metrics={'acc': 0.5905}]\n",
      "epoch 7: 100%|██████████| 469/469 [00:05<00:00, 78.27it/s, loss=1.35, metrics={'acc': 0.5948}]\n",
      "epoch 8: 100%|██████████| 469/469 [00:05<00:00, 79.83it/s, loss=1.25, metrics={'acc': 0.598}] \n",
      "epoch 9: 100%|██████████| 469/469 [00:06<00:00, 77.58it/s, loss=1.16, metrics={'acc': 0.6026}]\n",
      "epoch 10: 100%|██████████| 469/469 [00:05<00:00, 80.89it/s, loss=1.07, metrics={'acc': 0.6071}]\n",
      "epoch 11: 100%|██████████| 469/469 [00:05<00:00, 80.58it/s, loss=0.991, metrics={'acc': 0.6115}]\n",
      "epoch 12: 100%|██████████| 469/469 [00:05<00:00, 79.84it/s, loss=0.917, metrics={'acc': 0.618}] \n",
      "epoch 13: 100%|██████████| 469/469 [00:05<00:00, 80.65it/s, loss=0.85, metrics={'acc': 0.6246}] \n",
      "epoch 14: 100%|██████████| 469/469 [00:06<00:00, 77.99it/s, loss=0.792, metrics={'acc': 0.6322}]\n",
      "epoch 15: 100%|██████████| 469/469 [00:05<00:00, 80.65it/s, loss=0.743, metrics={'acc': 0.6395}]\n",
      "epoch 16: 100%|██████████| 469/469 [00:06<00:00, 77.28it/s, loss=0.702, metrics={'acc': 0.6491}]\n",
      "epoch 17: 100%|██████████| 469/469 [00:05<00:00, 83.85it/s, loss=0.669, metrics={'acc': 0.659}] \n",
      "epoch 18: 100%|██████████| 469/469 [00:05<00:00, 79.56it/s, loss=0.644, metrics={'acc': 0.6699}]\n",
      "epoch 19: 100%|██████████| 469/469 [00:05<00:00, 83.22it/s, loss=0.626, metrics={'acc': 0.6794}]\n",
      "epoch 20: 100%|██████████| 469/469 [00:05<00:00, 81.13it/s, loss=0.613, metrics={'acc': 0.687}] \n",
      "epoch 21: 100%|██████████| 469/469 [00:05<00:00, 83.52it/s, loss=0.604, metrics={'acc': 0.6936}]\n",
      "epoch 22: 100%|██████████| 469/469 [00:05<00:00, 83.76it/s, loss=0.597, metrics={'acc': 0.6987}]\n",
      "epoch 23: 100%|██████████| 469/469 [00:05<00:00, 81.67it/s, loss=0.593, metrics={'acc': 0.7023}]\n",
      "epoch 24: 100%|██████████| 469/469 [00:05<00:00, 83.98it/s, loss=0.59, metrics={'acc': 0.7055}] \n",
      "epoch 25: 100%|██████████| 469/469 [00:05<00:00, 80.57it/s, loss=0.588, metrics={'acc': 0.7076}]\n",
      "predict: 100%|██████████| 118/118 [00:01<00:00, 111.02it/s]\n"
     ]
    }
   ],
   "source": [
    "n_epochs = 25\n",
    "\n",
    "wide_opt = AdamW(model.wide.parameters(), lr=0.1)\n",
    "deep_opt = AdamW(model.deeptabular.parameters(), lr=0.1)\n",
    "\n",
    "wide_sch = OneCycleLR(optimizer=wide_opt, max_lr=0.01, steps_per_epoch=X_wide_train.shape[0], epochs=n_epochs)\n",
    "deep_sch = OneCycleLR(optimizer=deep_opt, max_lr=0.01, steps_per_epoch=X_tab_train.shape[0], epochs=n_epochs)\n",
    "\n",
    "optimizers = {'wide': wide_opt, 'deeptabular': deep_opt }\n",
    "lr_schedulers = {'wide': wide_sch, 'deeptabular': deep_sch }\n",
    "\n",
    "\n",
    "callbacks = [\n",
    "    LRHistory(n_epochs=n_epochs), \n",
    "]\n",
    "\n",
    "# trainer\n",
    "trainer = Trainer(model=model, \n",
    "                  objective='binary', \n",
    "                  metrics=[Accuracy], # with AUROC got TypeError: '>' not supported between instances of 'NoneType' and 'int' \n",
    "                  seed=42, \n",
    "                  optimizers=optimizers,\n",
    "                  callbacks=callbacks\n",
    "                 )\n",
    "\n",
    "#             print(f\"type(X_train_wide) is {type(X_train_wide)} and type(X_train_tab) is {type(X_train_tab)}\")\n",
    "trainer.fit( # this is where problem is beginning\n",
    "    X_wide=X_wide_train,\n",
    "    X_tab=X_tab_train,\n",
    "    target=y_train,\n",
    "    n_epochs=n_epochs,\n",
    "    batch_size=1024, # default value is 32\n",
    "#                 val_split=0.2, # no need for this\n",
    ")\n",
    "\n",
    "y_valid_preds = trainer.predict_proba(X_wide=X_wide_valid, X_tab=X_tab_valid, batch_size=1024)[:,1]\n",
    "           \n",
    "    "
   ]
  },
  {
   "cell_type": "markdown",
   "id": "356ce4d6-5c82-40c5-97ba-7c751e1abf6f",
   "metadata": {},
   "source": [
    "## LGBM Model and Noisy Run"
   ]
  },
  {
   "cell_type": "code",
   "execution_count": 16,
   "id": "cc1d702b-f01a-4900-88b5-65df54a89eea",
   "metadata": {},
   "outputs": [
    {
     "name": "stderr",
     "output_type": "stream",
     "text": [
      "\u001b[34m\u001b[1mwandb\u001b[0m: Currently logged in as: \u001b[33mhushifang\u001b[0m (use `wandb login --relogin` to force relogin)\n",
      "\u001b[34m\u001b[1mwandb\u001b[0m: wandb version 0.12.7 is available!  To upgrade, please run:\n",
      "\u001b[34m\u001b[1mwandb\u001b[0m:  $ pip install wandb --upgrade\n"
     ]
    },
    {
     "data": {
      "text/html": [
       "\n",
       "                    Syncing run <strong><a href=\"https://wandb.ai/hushifang/202111_Kaggle_tabular_playground/runs/3sw3r26n\" target=\"_blank\">cleanlab_20211122_145249</a></strong> to <a href=\"https://wandb.ai/hushifang/202111_Kaggle_tabular_playground\" target=\"_blank\">Weights & Biases</a> (<a href=\"https://docs.wandb.com/integrations/jupyter.html\" target=\"_blank\">docs</a>).<br/>\n",
       "\n",
       "                "
      ],
      "text/plain": [
       "<IPython.core.display.HTML object>"
      ]
     },
     "metadata": {},
     "output_type": "display_data"
    },
    {
     "data": {
      "text/html": [
       "<button onClick=\"this.nextSibling.style.display='block';this.style.display='none';\">Display W&B run</button><iframe src=\"https://wandb.ai/hushifang/202111_Kaggle_tabular_playground/runs/3sw3r26n?jupyter=true\" style=\"border:none;width:100%;height:420px;display:none;\"></iframe>"
      ],
      "text/plain": [
       "<wandb.sdk.wandb_run.Run at 0x7f735419d760>"
      ]
     },
     "execution_count": 16,
     "metadata": {},
     "output_type": "execute_result"
    }
   ],
   "source": [
    "wandb.init(\n",
    "    project=\"202111_Kaggle_tabular_playground\",\n",
    "    save_code=True,\n",
    "    tags=wandb_config['tags'],\n",
    "    name=wandb_config['name'],\n",
    "    notes=wandb_config['notes'],\n",
    "    config=exmodel_config\n",
    ") "
   ]
  },
  {
   "cell_type": "code",
   "execution_count": 45,
   "id": "89ff05f8-b823-4ed5-9afd-bfd5f5d1d3f6",
   "metadata": {},
   "outputs": [],
   "source": [
    "lgb_model = LGBMClassifier(\n",
    "        objective='binary',\n",
    "        random_state=42,\n",
    "        #                     device_type='cpu',\n",
    "        #                     n_jobs=-1,\n",
    "        #                 eval_metric='auc',\n",
    "        device_type='gpu',\n",
    "        max_bin=63, # 15 might be even better for GPU perf, but depends on dataset -- see https://lightgbm.readthedocs.io/en/latest/GPU-Performance.html\n",
    "        gpu_use_dp=False, # forces use of single precision rather than double for better perf, esp on consumer Nvidia chips\n",
    "    )"
   ]
  },
  {
   "cell_type": "code",
   "execution_count": 46,
   "id": "3a0f0a4f-7bda-4066-b48a-5777c4d0fab2",
   "metadata": {},
   "outputs": [],
   "source": [
    "X_train, X_valid, y_train, y_valid = train_test_split(X, y, test_size=0.2, random_state=42)"
   ]
  },
  {
   "cell_type": "code",
   "execution_count": 47,
   "id": "99c53d73-9e34-4cb0-811a-d9e0ebfdb316",
   "metadata": {},
   "outputs": [],
   "source": [
    "scaler = RobustScaler()"
   ]
  },
  {
   "cell_type": "code",
   "execution_count": 48,
   "id": "9c9352b8-a43c-4f06-b986-b6d210b92b24",
   "metadata": {},
   "outputs": [
    {
     "data": {
      "text/plain": [
       "array([[-0.27296268,  0.01579322, -0.19031588, ...,  0.50363337,\n",
       "         0.17720313, -0.58369832],\n",
       "       [-0.18106382,  0.2410393 ,  5.30773161, ...,  0.24955035,\n",
       "        -0.48450355, -0.62285755],\n",
       "       [ 6.07300903, -0.85078822,  0.17280319, ..., -0.62764574,\n",
       "        -0.67894852,  0.73726127],\n",
       "       ...,\n",
       "       [ 4.18856991, -0.68824246,  0.21225385, ...,  0.88726112,\n",
       "         6.19955807, -0.09918299],\n",
       "       [-0.300117  ,  0.13080398, -0.54802214, ..., -0.3979886 ,\n",
       "        -0.01474   ,  0.22398866],\n",
       "       [-0.29279129,  0.62179137,  0.07317624, ...,  0.14508993,\n",
       "        12.038684  ,  0.6437292 ]])"
      ]
     },
     "execution_count": 48,
     "metadata": {},
     "output_type": "execute_result"
    }
   ],
   "source": [
    "scaler.fit_transform(X_train)"
   ]
  },
  {
   "cell_type": "code",
   "execution_count": 49,
   "id": "9e3b9416-6efd-41a9-8969-614ce263813b",
   "metadata": {},
   "outputs": [
    {
     "data": {
      "text/plain": [
       "array([[ 1.27745959, -0.79095855,  3.57879036, ...,  0.40431588,\n",
       "         0.30027418,  0.45467042],\n",
       "       [-0.35032922, -0.36662758, -0.83368479, ...,  0.48734142,\n",
       "        -0.59656634,  9.97028335],\n",
       "       [ 2.07990909,  0.20997962, -0.0127639 , ..., -0.80240405,\n",
       "        -0.22697866,  0.23615553],\n",
       "       ...,\n",
       "       [ 0.80633635,  0.39936366,  0.49845399, ...,  0.68680344,\n",
       "        -1.04204429,  0.24502101],\n",
       "       [-0.06863608, -0.27843164, -0.36283929, ...,  0.18702425,\n",
       "         0.57010813, -0.05371796],\n",
       "       [-0.3620719 , -0.30144763, -0.06982129, ..., -0.73907299,\n",
       "        -1.0792864 ,  0.24365673]])"
      ]
     },
     "execution_count": 49,
     "metadata": {},
     "output_type": "execute_result"
    }
   ],
   "source": [
    "scaler.transform(X_valid)"
   ]
  },
  {
   "cell_type": "code",
   "execution_count": 50,
   "id": "07d1a2b1-6526-4083-95f6-ce1109730622",
   "metadata": {},
   "outputs": [
    {
     "data": {
      "text/plain": [
       "LGBMClassifier(device_type='gpu', gpu_use_dp=False, max_bin=63,\n",
       "               objective='binary', random_state=42)"
      ]
     },
     "execution_count": 50,
     "metadata": {},
     "output_type": "execute_result"
    }
   ],
   "source": [
    "lgb_model.fit(X_train, y_train)"
   ]
  },
  {
   "cell_type": "code",
   "execution_count": 51,
   "id": "5fdd0309-6a25-44f4-a7c2-25e1c5d430c6",
   "metadata": {},
   "outputs": [
    {
     "data": {
      "text/plain": [
       "0.7322242977619932"
      ]
     },
     "execution_count": 51,
     "metadata": {},
     "output_type": "execute_result"
    }
   ],
   "source": [
    "preds = lgb_model.predict_proba(X_valid)[:,1]\n",
    "valid_auc = roc_auc_score(y_true=y_valid, y_score=preds)\n",
    "valid_auc"
   ]
  },
  {
   "cell_type": "code",
   "execution_count": 52,
   "id": "3626cb7b-0cec-458d-9b68-4245be45558c",
   "metadata": {},
   "outputs": [
    {
     "data": {
      "text/plain": [
       "['/media/sf/easystore/kaggle_data/tabular_playgrounds/nov2021/preds/noisy_lgbm_20211122.joblib']"
      ]
     },
     "execution_count": 52,
     "metadata": {},
     "output_type": "execute_result"
    }
   ],
   "source": [
    "dump(preds, predpath/'noisy_lgbm_20211122.joblib')"
   ]
  },
  {
   "cell_type": "code",
   "execution_count": 30,
   "id": "8d09ad8f-5eb4-4094-8960-f53fe0e6bbb4",
   "metadata": {},
   "outputs": [
    {
     "data": {
      "text/html": [
       "<br/>Waiting for W&B process to finish, PID 330749... <strong style=\"color:green\">(success).</strong>"
      ],
      "text/plain": [
       "<IPython.core.display.HTML object>"
      ]
     },
     "metadata": {},
     "output_type": "display_data"
    },
    {
     "data": {
      "application/vnd.jupyter.widget-view+json": {
       "model_id": "",
       "version_major": 2,
       "version_minor": 0
      },
      "text/plain": [
       "VBox(children=(Label(value=' 0.06MB of 0.06MB uploaded (0.02MB deduped)\\r'), FloatProgress(value=1.0, max=1.0)…"
      ]
     },
     "metadata": {},
     "output_type": "display_data"
    },
    {
     "data": {
      "text/html": [
       "<style>\n",
       "    table.wandb td:nth-child(1) { padding: 0 10px; text-align: right }\n",
       "    .wandb-row { display: flex; flex-direction: row; flex-wrap: wrap; width: 100% }\n",
       "    .wandb-col { display: flex; flex-direction: column; flex-basis: 100%; flex: 1; padding: 10px; }\n",
       "    </style>\n",
       "<div class=\"wandb-row\"><div class=\"wandb-col\">\n",
       "<h3>Run history:</h3><br/><table class=\"wandb\"><tr><td>model_seed</td><td>▁</td></tr><tr><td>overall_valid_auc</td><td>▁</td></tr></table><br/></div><div class=\"wandb-col\">\n",
       "<h3>Run summary:</h3><br/><table class=\"wandb\"><tr><td>model_params</td><td>{'boosting_type': 'g...</td></tr><tr><td>model_seed</td><td>42</td></tr><tr><td>overall_valid_auc</td><td>0.73222</td></tr></table>\n",
       "</div></div>\n",
       "Synced 5 W&B file(s), 0 media file(s), 3 artifact file(s) and 1 other file(s)\n",
       "<br/>Synced <strong style=\"color:#cdcd00\">cleanlab_20211122_145249</strong>: <a href=\"https://wandb.ai/hushifang/202111_Kaggle_tabular_playground/runs/3sw3r26n\" target=\"_blank\">https://wandb.ai/hushifang/202111_Kaggle_tabular_playground/runs/3sw3r26n</a><br/>\n",
       "Find logs at: <code>./wandb/run-20211122_145250-3sw3r26n/logs</code><br/>\n"
      ],
      "text/plain": [
       "<IPython.core.display.HTML object>"
      ]
     },
     "metadata": {},
     "output_type": "display_data"
    }
   ],
   "source": [
    "wandb.log({'overall_valid_auc': valid_auc,\n",
    "           'model_params': str(lgb_model.get_params()),\n",
    "           'model_seed': 42,\n",
    "          })\n",
    "wandb.finish()\n"
   ]
  },
  {
   "cell_type": "markdown",
   "id": "aa743d4f-d9d6-453e-bb42-2b9659caa09d",
   "metadata": {},
   "source": [
    "## Clean Run"
   ]
  },
  {
   "cell_type": "code",
   "execution_count": 31,
   "id": "c9bae97a-57ec-4ed7-84ab-31aad0b52bfa",
   "metadata": {},
   "outputs": [
    {
     "name": "stderr",
     "output_type": "stream",
     "text": [
      "\u001b[34m\u001b[1mwandb\u001b[0m: wandb version 0.12.7 is available!  To upgrade, please run:\n",
      "\u001b[34m\u001b[1mwandb\u001b[0m:  $ pip install wandb --upgrade\n"
     ]
    },
    {
     "data": {
      "text/html": [
       "\n",
       "                    Syncing run <strong><a href=\"https://wandb.ai/hushifang/202111_Kaggle_tabular_playground/runs/16vn06qn\" target=\"_blank\">cleanlab_20211122_150040</a></strong> to <a href=\"https://wandb.ai/hushifang/202111_Kaggle_tabular_playground\" target=\"_blank\">Weights & Biases</a> (<a href=\"https://docs.wandb.com/integrations/jupyter.html\" target=\"_blank\">docs</a>).<br/>\n",
       "\n",
       "                "
      ],
      "text/plain": [
       "<IPython.core.display.HTML object>"
      ]
     },
     "metadata": {},
     "output_type": "display_data"
    },
    {
     "data": {
      "text/html": [
       "<button onClick=\"this.nextSibling.style.display='block';this.style.display='none';\">Display W&B run</button><iframe src=\"https://wandb.ai/hushifang/202111_Kaggle_tabular_playground/runs/16vn06qn?jupyter=true\" style=\"border:none;width:100%;height:420px;display:none;\"></iframe>"
      ],
      "text/plain": [
       "<wandb.sdk.wandb_run.Run at 0x7f73450cf130>"
      ]
     },
     "execution_count": 31,
     "metadata": {},
     "output_type": "execute_result"
    }
   ],
   "source": [
    "exmodel_config['denoising'] = 'cleanlab'\n",
    "\n",
    "wandb_config = {\n",
    "    # wandb config\n",
    "    'name': f\"{os.environ['WANDB_NOTEBOOK_NAME'][:-6]}_{datetime.now().strftime('%H%M%S')}\", # just removes the .ipynb extension, leaving the notebook filename's stem\n",
    "    'project': '202111_Kaggle_tabular_playground',\n",
    "    'tags': ['experiment'],\n",
    "    'notes': \"Going to try CleanLab with the 'best' params from the previous sweep, but wanting to see what the actual LB score is, and how it compares to the noisy one. Using a default LGBMClassfier with holdout on robust-scaled original dataset.\",\n",
    "    'config': exmodel_config,\n",
    "}\n",
    "\n",
    "wandb.init(\n",
    "    project=\"202111_Kaggle_tabular_playground\",\n",
    "    save_code=True,\n",
    "    tags=wandb_config['tags'],\n",
    "    name=wandb_config['name'],\n",
    "    notes=wandb_config['notes'],\n",
    "    config=exmodel_config\n",
    ") "
   ]
  },
  {
   "cell_type": "code",
   "execution_count": 32,
   "id": "82ea6e18-16a1-4a98-9d79-b7c0931ea263",
   "metadata": {},
   "outputs": [],
   "source": [
    "rp_params = {\n",
    "    # 'prune_method': trial.suggest_categorical('prune_method', ['prune_by_noise_rate', 'prune_by_class', 'both']),\n",
    "    # 'converge_latent_estimates': trial.suggest_categorical('converge_latent_estimates', [True, False]),\n",
    "    # 'pulearning': trial.suggest_categorical('pulearning', [0,1,None])\n",
    "    'prune_method': 'both',\n",
    "    'converge_latent_estimates': True,\n",
    "    'pulearning': 1,\n",
    "}"
   ]
  },
  {
   "cell_type": "code",
   "execution_count": 33,
   "id": "d57d0368-3acb-4b6c-a0a5-44e1661265c2",
   "metadata": {},
   "outputs": [],
   "source": [
    "lgb_model = LGBMClassifier(\n",
    "        objective='binary',\n",
    "        random_state=42,\n",
    "        #                     device_type='cpu',\n",
    "        #                     n_jobs=-1,\n",
    "        #                 eval_metric='auc',\n",
    "        device_type='gpu',\n",
    "        max_bin=63, # 15 might be even better for GPU perf, but depends on dataset -- see https://lightgbm.readthedocs.io/en/latest/GPU-Performance.html\n",
    "        gpu_use_dp=False, # forces use of single precision rather than double for better perf, esp on consumer Nvidia chips\n",
    "    )"
   ]
  },
  {
   "cell_type": "code",
   "execution_count": 34,
   "id": "a3d8e3de-4992-406d-9470-648b48a2725c",
   "metadata": {},
   "outputs": [],
   "source": [
    "X_train, X_valid, y_train, y_valid = train_test_split(X, y, test_size=0.2, random_state=42)"
   ]
  },
  {
   "cell_type": "code",
   "execution_count": 35,
   "id": "b2b8ae6b-529b-4fdf-b9e8-881edf2a7ae8",
   "metadata": {},
   "outputs": [],
   "source": [
    "scaler = RobustScaler()"
   ]
  },
  {
   "cell_type": "code",
   "execution_count": 36,
   "id": "ae65f62b-94b8-46ca-b30f-acdbca4d222e",
   "metadata": {},
   "outputs": [
    {
     "data": {
      "text/plain": [
       "array([[-0.27296268,  0.01579322, -0.19031588, ...,  0.50363337,\n",
       "         0.17720313, -0.58369832],\n",
       "       [-0.18106382,  0.2410393 ,  5.30773161, ...,  0.24955035,\n",
       "        -0.48450355, -0.62285755],\n",
       "       [ 6.07300903, -0.85078822,  0.17280319, ..., -0.62764574,\n",
       "        -0.67894852,  0.73726127],\n",
       "       ...,\n",
       "       [ 4.18856991, -0.68824246,  0.21225385, ...,  0.88726112,\n",
       "         6.19955807, -0.09918299],\n",
       "       [-0.300117  ,  0.13080398, -0.54802214, ..., -0.3979886 ,\n",
       "        -0.01474   ,  0.22398866],\n",
       "       [-0.29279129,  0.62179137,  0.07317624, ...,  0.14508993,\n",
       "        12.038684  ,  0.6437292 ]])"
      ]
     },
     "execution_count": 36,
     "metadata": {},
     "output_type": "execute_result"
    }
   ],
   "source": [
    "scaler.fit_transform(X_train)"
   ]
  },
  {
   "cell_type": "code",
   "execution_count": 37,
   "id": "f76d719d-2198-46d6-a2f8-e30b99892221",
   "metadata": {},
   "outputs": [
    {
     "data": {
      "text/plain": [
       "array([[ 1.27745959, -0.79095855,  3.57879036, ...,  0.40431588,\n",
       "         0.30027418,  0.45467042],\n",
       "       [-0.35032922, -0.36662758, -0.83368479, ...,  0.48734142,\n",
       "        -0.59656634,  9.97028335],\n",
       "       [ 2.07990909,  0.20997962, -0.0127639 , ..., -0.80240405,\n",
       "        -0.22697866,  0.23615553],\n",
       "       ...,\n",
       "       [ 0.80633635,  0.39936366,  0.49845399, ...,  0.68680344,\n",
       "        -1.04204429,  0.24502101],\n",
       "       [-0.06863608, -0.27843164, -0.36283929, ...,  0.18702425,\n",
       "         0.57010813, -0.05371796],\n",
       "       [-0.3620719 , -0.30144763, -0.06982129, ..., -0.73907299,\n",
       "        -1.0792864 ,  0.24365673]])"
      ]
     },
     "execution_count": 37,
     "metadata": {},
     "output_type": "execute_result"
    }
   ],
   "source": [
    "scaler.transform(X_valid)"
   ]
  },
  {
   "cell_type": "code",
   "execution_count": 39,
   "id": "c26a7ae5-ca5b-41ef-af17-943b04998612",
   "metadata": {},
   "outputs": [],
   "source": [
    "X_train = np.array(X_train)\n",
    "X_valid = np.array(X_valid)\n",
    "y_train = np.array(y_train)\n",
    "y_valid = np.array(y_valid)"
   ]
  },
  {
   "cell_type": "code",
   "execution_count": 40,
   "id": "f56bc7d2-223f-4e36-902a-d5e877f68af5",
   "metadata": {},
   "outputs": [
    {
     "data": {
      "text/plain": [
       "LGBMClassifier(device_type='gpu', gpu_use_dp=False, max_bin=63,\n",
       "               objective='binary', random_state=42)"
      ]
     },
     "execution_count": 40,
     "metadata": {},
     "output_type": "execute_result"
    }
   ],
   "source": [
    "rp = LearningWithNoisyLabels(clf=lgb_model, **rp_params)\n",
    "rp.fit(X_train, y_train)"
   ]
  },
  {
   "cell_type": "code",
   "execution_count": 41,
   "id": "98e318a7-ba89-4150-aa16-4e25f256cc10",
   "metadata": {},
   "outputs": [
    {
     "data": {
      "text/plain": [
       "0.7242336321944994"
      ]
     },
     "execution_count": 41,
     "metadata": {},
     "output_type": "execute_result"
    }
   ],
   "source": [
    "preds = rp.predict_proba(X_valid)[:,1]\n",
    "valid_auc = roc_auc_score(y_true=y_valid, y_score=preds)\n",
    "valid_auc"
   ]
  },
  {
   "cell_type": "code",
   "execution_count": 42,
   "id": "8b6da3dd-9e49-4a38-90fb-5fae870a0ce6",
   "metadata": {},
   "outputs": [
    {
     "data": {
      "text/plain": [
       "{'clf__boosting_type': 'gbdt',\n",
       " 'clf__class_weight': None,\n",
       " 'clf__colsample_bytree': 1.0,\n",
       " 'clf__importance_type': 'split',\n",
       " 'clf__learning_rate': 0.1,\n",
       " 'clf__max_depth': -1,\n",
       " 'clf__min_child_samples': 20,\n",
       " 'clf__min_child_weight': 0.001,\n",
       " 'clf__min_split_gain': 0.0,\n",
       " 'clf__n_estimators': 100,\n",
       " 'clf__n_jobs': -1,\n",
       " 'clf__num_leaves': 31,\n",
       " 'clf__objective': 'binary',\n",
       " 'clf__random_state': 42,\n",
       " 'clf__reg_alpha': 0.0,\n",
       " 'clf__reg_lambda': 0.0,\n",
       " 'clf__silent': 'warn',\n",
       " 'clf__subsample': 1.0,\n",
       " 'clf__subsample_for_bin': 200000,\n",
       " 'clf__subsample_freq': 0,\n",
       " 'clf__device_type': 'gpu',\n",
       " 'clf__max_bin': 63,\n",
       " 'clf__gpu_use_dp': False,\n",
       " 'clf': LGBMClassifier(device_type='gpu', gpu_use_dp=False, max_bin=63,\n",
       "                objective='binary', random_state=42),\n",
       " 'converge_latent_estimates': True,\n",
       " 'cv_n_folds': 5,\n",
       " 'n_jobs': 16,\n",
       " 'prune_method': 'both',\n",
       " 'pulearning': 1,\n",
       " 'seed': None}"
      ]
     },
     "execution_count": 42,
     "metadata": {},
     "output_type": "execute_result"
    }
   ],
   "source": [
    "rp.get_params()"
   ]
  },
  {
   "cell_type": "code",
   "execution_count": 43,
   "id": "8905b40c-f3c9-49c4-891a-51c8c7b1b1a1",
   "metadata": {},
   "outputs": [
    {
     "data": {
      "text/html": [
       "<br/>Waiting for W&B process to finish, PID 332071... <strong style=\"color:green\">(success).</strong>"
      ],
      "text/plain": [
       "<IPython.core.display.HTML object>"
      ]
     },
     "metadata": {},
     "output_type": "display_data"
    },
    {
     "data": {
      "application/vnd.jupyter.widget-view+json": {
       "model_id": "",
       "version_major": 2,
       "version_minor": 0
      },
      "text/plain": [
       "VBox(children=(Label(value=' 0.09MB of 0.09MB uploaded (0.04MB deduped)\\r'), FloatProgress(value=1.0, max=1.0)…"
      ]
     },
     "metadata": {},
     "output_type": "display_data"
    },
    {
     "data": {
      "text/html": [
       "<style>\n",
       "    table.wandb td:nth-child(1) { padding: 0 10px; text-align: right }\n",
       "    .wandb-row { display: flex; flex-direction: row; flex-wrap: wrap; width: 100% }\n",
       "    .wandb-col { display: flex; flex-direction: column; flex-basis: 100%; flex: 1; padding: 10px; }\n",
       "    </style>\n",
       "<div class=\"wandb-row\"><div class=\"wandb-col\">\n",
       "<h3>Run history:</h3><br/><table class=\"wandb\"><tr><td>model_seed</td><td>▁</td></tr><tr><td>overall_valid_auc</td><td>▁</td></tr></table><br/></div><div class=\"wandb-col\">\n",
       "<h3>Run summary:</h3><br/><table class=\"wandb\"><tr><td>cleanlab_params</td><td>{'clf__boosting_type...</td></tr><tr><td>model_params</td><td>{'boosting_type': 'g...</td></tr><tr><td>model_seed</td><td>42</td></tr><tr><td>overall_valid_auc</td><td>0.72423</td></tr></table>\n",
       "</div></div>\n",
       "Synced 5 W&B file(s), 0 media file(s), 3 artifact file(s) and 1 other file(s)\n",
       "<br/>Synced <strong style=\"color:#cdcd00\">cleanlab_20211122_150040</strong>: <a href=\"https://wandb.ai/hushifang/202111_Kaggle_tabular_playground/runs/16vn06qn\" target=\"_blank\">https://wandb.ai/hushifang/202111_Kaggle_tabular_playground/runs/16vn06qn</a><br/>\n",
       "Find logs at: <code>./wandb/run-20211122_150040-16vn06qn/logs</code><br/>\n"
      ],
      "text/plain": [
       "<IPython.core.display.HTML object>"
      ]
     },
     "metadata": {},
     "output_type": "display_data"
    }
   ],
   "source": [
    "wandb.log({'overall_valid_auc': valid_auc,\n",
    "           'model_params': str(lgb_model.get_params()),\n",
    "           'model_seed': 42,\n",
    "           'cleanlab_params': str(rp.get_params())\n",
    "          })\n",
    "wandb.finish()\n"
   ]
  },
  {
   "cell_type": "code",
   "execution_count": 44,
   "id": "2bcbf1ec-1d14-4511-9d4e-244db30272b6",
   "metadata": {},
   "outputs": [
    {
     "data": {
      "text/plain": [
       "['/media/sf/easystore/kaggle_data/tabular_playgrounds/nov2021/preds/cleanlab_lgbm_20211122.joblib']"
      ]
     },
     "execution_count": 44,
     "metadata": {},
     "output_type": "execute_result"
    }
   ],
   "source": [
    "dump(preds, predpath/'cleanlab_lgbm_20211122.joblib')"
   ]
  },
  {
   "cell_type": "markdown",
   "id": "1a369599-a3df-4206-89b1-b05553ad7f02",
   "metadata": {},
   "source": [
    "## Submission"
   ]
  },
  {
   "cell_type": "code",
   "execution_count": 59,
   "id": "77cb7e71-aae5-466d-8272-c5f71fbc02a3",
   "metadata": {},
   "outputs": [],
   "source": [
    "X_test = pd.read_feather(dataset_params['test_source'])"
   ]
  },
  {
   "cell_type": "code",
   "execution_count": 60,
   "id": "42ff29c1-b032-43be-952e-a5504e53dee7",
   "metadata": {},
   "outputs": [],
   "source": [
    "scaler = RobustScaler()"
   ]
  },
  {
   "cell_type": "code",
   "execution_count": 61,
   "id": "2f0621aa-1840-4a69-a73c-923c38dbc52a",
   "metadata": {},
   "outputs": [
    {
     "data": {
      "text/plain": [
       "RobustScaler()"
      ]
     },
     "execution_count": 61,
     "metadata": {},
     "output_type": "execute_result"
    }
   ],
   "source": [
    "scaler.fit(X)"
   ]
  },
  {
   "cell_type": "code",
   "execution_count": 62,
   "id": "9f35f742-1029-4ba4-9367-7752a8a18c42",
   "metadata": {},
   "outputs": [
    {
     "data": {
      "text/plain": [
       "array([[-2.54904070e-01,  8.92660373e-01,  1.74689787e+00, ...,\n",
       "        -3.14632989e-01,  7.56057179e-01, -5.35039504e-01],\n",
       "       [-2.40419666e-01, -7.73033673e-01, -9.03498547e-01, ...,\n",
       "         4.04404276e-01, -1.09484041e-01,  7.09297297e-01],\n",
       "       [ 3.67480353e+00, -3.04606091e-02, -9.53230106e-01, ...,\n",
       "         2.60323086e-01,  5.22578209e-01,  7.16351788e-02],\n",
       "       ...,\n",
       "       [ 7.74437122e-01,  4.76283375e-03, -7.63896086e-01, ...,\n",
       "        -1.52318988e+00,  7.39754091e+00,  7.52089854e-01],\n",
       "       [ 4.71329335e+00,  3.45526482e-01, -4.12767694e-01, ...,\n",
       "        -9.01228907e-01, -3.59849849e-02,  2.78337176e-01],\n",
       "       [ 1.01900951e+00,  5.92913219e-02,  9.90131581e-01, ...,\n",
       "        -9.60166650e-01,  1.45144893e-01,  5.01730920e-01]])"
      ]
     },
     "execution_count": 62,
     "metadata": {},
     "output_type": "execute_result"
    }
   ],
   "source": [
    "scaler.transform(X_test)"
   ]
  },
  {
   "cell_type": "code",
   "execution_count": 63,
   "id": "b1bb7c3d-8902-4348-aa47-a60d0e6e63cd",
   "metadata": {},
   "outputs": [],
   "source": [
    "dirty_preds = rp.predict_proba(X_test)[:,1]\n",
    "clean_preds = lgb_model.predict_proba(X_test)[:,1]"
   ]
  },
  {
   "cell_type": "code",
   "execution_count": 64,
   "id": "edfbe152-d6ba-4af1-bf37-6aac29852460",
   "metadata": {
    "tags": []
   },
   "outputs": [],
   "source": [
    "sample_df = pd.read_csv(datapath/'sample_submission.csv')"
   ]
  },
  {
   "cell_type": "code",
   "execution_count": 65,
   "id": "b99dd91d-cc7b-49d5-a262-6d3f80e82279",
   "metadata": {},
   "outputs": [
    {
     "data": {
      "text/html": [
       "<div>\n",
       "<style scoped>\n",
       "    .dataframe tbody tr th:only-of-type {\n",
       "        vertical-align: middle;\n",
       "    }\n",
       "\n",
       "    .dataframe tbody tr th {\n",
       "        vertical-align: top;\n",
       "    }\n",
       "\n",
       "    .dataframe thead th {\n",
       "        text-align: right;\n",
       "    }\n",
       "</style>\n",
       "<table border=\"1\" class=\"dataframe\">\n",
       "  <thead>\n",
       "    <tr style=\"text-align: right;\">\n",
       "      <th></th>\n",
       "      <th>id</th>\n",
       "      <th>target</th>\n",
       "    </tr>\n",
       "  </thead>\n",
       "  <tbody>\n",
       "    <tr>\n",
       "      <th>0</th>\n",
       "      <td>600000</td>\n",
       "      <td>0.5</td>\n",
       "    </tr>\n",
       "    <tr>\n",
       "      <th>1</th>\n",
       "      <td>600001</td>\n",
       "      <td>0.5</td>\n",
       "    </tr>\n",
       "    <tr>\n",
       "      <th>2</th>\n",
       "      <td>600002</td>\n",
       "      <td>0.5</td>\n",
       "    </tr>\n",
       "    <tr>\n",
       "      <th>3</th>\n",
       "      <td>600003</td>\n",
       "      <td>0.5</td>\n",
       "    </tr>\n",
       "    <tr>\n",
       "      <th>4</th>\n",
       "      <td>600004</td>\n",
       "      <td>0.5</td>\n",
       "    </tr>\n",
       "  </tbody>\n",
       "</table>\n",
       "</div>"
      ],
      "text/plain": [
       "       id  target\n",
       "0  600000     0.5\n",
       "1  600001     0.5\n",
       "2  600002     0.5\n",
       "3  600003     0.5\n",
       "4  600004     0.5"
      ]
     },
     "execution_count": 65,
     "metadata": {},
     "output_type": "execute_result"
    }
   ],
   "source": [
    "sample_df.head()"
   ]
  },
  {
   "cell_type": "code",
   "execution_count": 67,
   "id": "6de390d5-0fb7-42c3-8667-b73df65920e7",
   "metadata": {},
   "outputs": [
    {
     "data": {
      "text/plain": [
       "(540000,)"
      ]
     },
     "execution_count": 67,
     "metadata": {},
     "output_type": "execute_result"
    }
   ],
   "source": [
    "dirty_preds.shape"
   ]
  },
  {
   "cell_type": "code",
   "execution_count": 69,
   "id": "d8a7cfad-81ca-40ec-a0b1-2ec5ff4d1a8d",
   "metadata": {},
   "outputs": [
    {
     "data": {
      "text/plain": [
       "(540000,)"
      ]
     },
     "execution_count": 69,
     "metadata": {},
     "output_type": "execute_result"
    }
   ],
   "source": [
    "clean_preds.shape"
   ]
  },
  {
   "cell_type": "code",
   "execution_count": 68,
   "id": "1ac838fd-e9a6-49fc-aa4d-7f2ae2d2c4b9",
   "metadata": {},
   "outputs": [
    {
     "data": {
      "text/plain": [
       "(540000, 2)"
      ]
     },
     "execution_count": 68,
     "metadata": {},
     "output_type": "execute_result"
    }
   ],
   "source": [
    "sample_df.shape"
   ]
  },
  {
   "cell_type": "code",
   "execution_count": 70,
   "id": "344a6439-1eed-4ed5-99c9-8d55a4bcc02f",
   "metadata": {},
   "outputs": [],
   "source": [
    "sample_df.loc[:, 'target'] = dirty_preds"
   ]
  },
  {
   "cell_type": "code",
   "execution_count": 71,
   "id": "932dd2da-0087-4fbd-856d-87b7b821d65f",
   "metadata": {},
   "outputs": [
    {
     "data": {
      "text/html": [
       "<div>\n",
       "<style scoped>\n",
       "    .dataframe tbody tr th:only-of-type {\n",
       "        vertical-align: middle;\n",
       "    }\n",
       "\n",
       "    .dataframe tbody tr th {\n",
       "        vertical-align: top;\n",
       "    }\n",
       "\n",
       "    .dataframe thead th {\n",
       "        text-align: right;\n",
       "    }\n",
       "</style>\n",
       "<table border=\"1\" class=\"dataframe\">\n",
       "  <thead>\n",
       "    <tr style=\"text-align: right;\">\n",
       "      <th></th>\n",
       "      <th>id</th>\n",
       "      <th>target</th>\n",
       "    </tr>\n",
       "  </thead>\n",
       "  <tbody>\n",
       "    <tr>\n",
       "      <th>0</th>\n",
       "      <td>600000</td>\n",
       "      <td>0.866322</td>\n",
       "    </tr>\n",
       "    <tr>\n",
       "      <th>1</th>\n",
       "      <td>600001</td>\n",
       "      <td>0.948761</td>\n",
       "    </tr>\n",
       "    <tr>\n",
       "      <th>2</th>\n",
       "      <td>600002</td>\n",
       "      <td>0.976896</td>\n",
       "    </tr>\n",
       "    <tr>\n",
       "      <th>3</th>\n",
       "      <td>600003</td>\n",
       "      <td>0.810975</td>\n",
       "    </tr>\n",
       "    <tr>\n",
       "      <th>4</th>\n",
       "      <td>600004</td>\n",
       "      <td>0.665766</td>\n",
       "    </tr>\n",
       "  </tbody>\n",
       "</table>\n",
       "</div>"
      ],
      "text/plain": [
       "       id    target\n",
       "0  600000  0.866322\n",
       "1  600001  0.948761\n",
       "2  600002  0.976896\n",
       "3  600003  0.810975\n",
       "4  600004  0.665766"
      ]
     },
     "execution_count": 71,
     "metadata": {},
     "output_type": "execute_result"
    }
   ],
   "source": [
    "sample_df.head()"
   ]
  },
  {
   "cell_type": "code",
   "execution_count": null,
   "id": "ca8f76a9-54bf-41de-a76c-8113e72ad3f9",
   "metadata": {},
   "outputs": [],
   "source": [
    "# submission_path = datapath/'submissions'\n",
    "# submission_path.mkdir(exist_ok=True)"
   ]
  },
  {
   "cell_type": "code",
   "execution_count": 72,
   "id": "d8eae3ee-6dfd-43a3-9ed2-e5798193e4a1",
   "metadata": {},
   "outputs": [],
   "source": [
    "sample_df.to_csv(subpath/f\"{wandb_config['name']}_basic_LGBM_preds.csv\", index=False)\n",
    "# sample_df.to_csv(subpath/f\"{wandb_config['name']}_3level-X_orig+KMeans8+synth-GBM-stack_ensemble_preds.csv\", index=False)"
   ]
  },
  {
   "cell_type": "code",
   "execution_count": 73,
   "id": "0f130574-29d6-402d-b461-6ee3975db800",
   "metadata": {},
   "outputs": [],
   "source": [
    "sample_df.loc[:, 'target'] = clean_preds"
   ]
  },
  {
   "cell_type": "code",
   "execution_count": 74,
   "id": "333aebf9-4804-4378-8f1c-2af72b22e5d6",
   "metadata": {},
   "outputs": [
    {
     "data": {
      "text/html": [
       "<div>\n",
       "<style scoped>\n",
       "    .dataframe tbody tr th:only-of-type {\n",
       "        vertical-align: middle;\n",
       "    }\n",
       "\n",
       "    .dataframe tbody tr th {\n",
       "        vertical-align: top;\n",
       "    }\n",
       "\n",
       "    .dataframe thead th {\n",
       "        text-align: right;\n",
       "    }\n",
       "</style>\n",
       "<table border=\"1\" class=\"dataframe\">\n",
       "  <thead>\n",
       "    <tr style=\"text-align: right;\">\n",
       "      <th></th>\n",
       "      <th>id</th>\n",
       "      <th>target</th>\n",
       "    </tr>\n",
       "  </thead>\n",
       "  <tbody>\n",
       "    <tr>\n",
       "      <th>0</th>\n",
       "      <td>600000</td>\n",
       "      <td>0.647848</td>\n",
       "    </tr>\n",
       "    <tr>\n",
       "      <th>1</th>\n",
       "      <td>600001</td>\n",
       "      <td>0.632269</td>\n",
       "    </tr>\n",
       "    <tr>\n",
       "      <th>2</th>\n",
       "      <td>600002</td>\n",
       "      <td>0.797033</td>\n",
       "    </tr>\n",
       "    <tr>\n",
       "      <th>3</th>\n",
       "      <td>600003</td>\n",
       "      <td>0.556056</td>\n",
       "    </tr>\n",
       "    <tr>\n",
       "      <th>4</th>\n",
       "      <td>600004</td>\n",
       "      <td>0.410237</td>\n",
       "    </tr>\n",
       "  </tbody>\n",
       "</table>\n",
       "</div>"
      ],
      "text/plain": [
       "       id    target\n",
       "0  600000  0.647848\n",
       "1  600001  0.632269\n",
       "2  600002  0.797033\n",
       "3  600003  0.556056\n",
       "4  600004  0.410237"
      ]
     },
     "execution_count": 74,
     "metadata": {},
     "output_type": "execute_result"
    }
   ],
   "source": [
    "sample_df.head()"
   ]
  },
  {
   "cell_type": "code",
   "execution_count": 75,
   "id": "9e87363c-9d65-46ea-a938-2fcaeb7695dc",
   "metadata": {},
   "outputs": [],
   "source": [
    "sample_df.to_csv(subpath/f\"{wandb_config['name']}_cleanlab_basic_LGBM_preds.csv\", index=False)\n"
   ]
  },
  {
   "cell_type": "markdown",
   "id": "286efee9-2fdb-413d-bb51-f1c5e62e78ad",
   "metadata": {},
   "source": [
    "# CONCLUSION\n",
    "Actually, Cleanlab works: LB score with cleaning is 0.72402 compared to 0.71712 with the dirty one."
   ]
  }
 ],
 "metadata": {
  "kernelspec": {
   "display_name": "Python 3",
   "language": "python",
   "name": "python3"
  },
  "language_info": {
   "codemirror_mode": {
    "name": "ipython",
    "version": 3
   },
   "file_extension": ".py",
   "mimetype": "text/x-python",
   "name": "python",
   "nbconvert_exporter": "python",
   "pygments_lexer": "ipython3",
   "version": "3.8.12"
  }
 },
 "nbformat": 4,
 "nbformat_minor": 5
}
