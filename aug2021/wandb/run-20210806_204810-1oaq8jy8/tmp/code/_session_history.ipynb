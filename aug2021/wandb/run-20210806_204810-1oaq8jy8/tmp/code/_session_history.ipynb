{
 "cells": [
  {
   "cell_type": "code",
   "execution_count": 1,
   "id": "975ef311",
   "metadata": {},
   "outputs": [],
   "source": [
    "import pandas as pd\n",
    "import numpy as np\n",
    "import matplotlib.pyplot as plt\n",
    "from tqdm.notebook import tqdm\n",
    "\n",
    "# general ML tooling\n",
    "from sklearn.model_selection import train_test_split, StratifiedKFold#, KFold\n",
    "# from sklearn.metrics import roc_auc_score\n",
    "# from fastai.vision.all import *\n",
    "import wandb\n",
    "# import timm"
   ]
  },
  {
   "cell_type": "code",
   "execution_count": 2,
   "id": "5f78ef5b",
   "metadata": {},
   "outputs": [],
   "source": [
    "# approach = ''"
   ]
  },
  {
   "cell_type": "code",
   "execution_count": 3,
   "id": "c734a799",
   "metadata": {},
   "outputs": [],
   "source": [
    "# import torch\n",
    "# import torch.nn as nn\n",
    "# import torch.nn.functional as F\n",
    "# from torchinfo import summary\n",
    "# # from fastai.callback.wandb import *\n",
    "# from torch.cuda.amp import autocast, GradScaler"
   ]
  },
  {
   "cell_type": "code",
   "execution_count": 4,
   "id": "2dea5be9",
   "metadata": {},
   "outputs": [],
   "source": [
    "# from fastai.vision.all import *\n",
    "from fastai.tabular.all import *\n",
    "# from fastai.callback.wandb import WandbCallback"
   ]
  },
  {
   "cell_type": "code",
   "execution_count": 5,
   "id": "169c676e",
   "metadata": {},
   "outputs": [],
   "source": [
    "# import xgboost as xgb\n",
    "from xgboost import XGBRegressor, XGBRFRegressor\n",
    "# from xgboost import XGBClassifier\n",
    "# from sklearn.ensemble import RandomForestClassifier\n",
    "# from sklearn.tree import DecisionTreeClassifier"
   ]
  },
  {
   "cell_type": "code",
   "execution_count": 6,
   "id": "6fe1ebde",
   "metadata": {},
   "outputs": [],
   "source": [
    "%config Completer.use_jedi = False"
   ]
  },
  {
   "cell_type": "code",
   "execution_count": 7,
   "id": "0c7e5d04",
   "metadata": {},
   "outputs": [],
   "source": [
    "set_seed(42, reproducible=True)"
   ]
  },
  {
   "cell_type": "code",
   "execution_count": 8,
   "id": "b19d201e",
   "metadata": {},
   "outputs": [],
   "source": [
    "datapath = Path('/media/sf/easystore/kaggle_data/tabular_playgrounds/202108_august/')"
   ]
  },
  {
   "cell_type": "code",
   "execution_count": 9,
   "id": "4de3eb9b",
   "metadata": {},
   "outputs": [],
   "source": [
    "df = pd.read_csv(datapath/'train.csv', index_col='id', low_memory=False)"
   ]
  },
  {
   "cell_type": "code",
   "execution_count": 10,
   "id": "fbddc6e7",
   "metadata": {},
   "outputs": [],
   "source": [
    "# df.isnull().sum().any() # False"
   ]
  },
  {
   "cell_type": "code",
   "execution_count": 11,
   "id": "3ea2e4a3",
   "metadata": {},
   "outputs": [],
   "source": [
    "# df.info(verbose=True, null_counts=True)"
   ]
  },
  {
   "cell_type": "code",
   "execution_count": 12,
   "id": "6d7ecc7d",
   "metadata": {},
   "outputs": [],
   "source": [
    "# df.describe()"
   ]
  },
  {
   "cell_type": "code",
   "execution_count": 13,
   "id": "c3f0d035",
   "metadata": {},
   "outputs": [],
   "source": [
    "y = df.loss"
   ]
  },
  {
   "cell_type": "code",
   "execution_count": 14,
   "id": "b5acadb3",
   "metadata": {},
   "outputs": [],
   "source": [
    "features = [x for x in df.columns if x != 'loss']"
   ]
  },
  {
   "cell_type": "code",
   "execution_count": 15,
   "id": "d5d59403",
   "metadata": {},
   "outputs": [],
   "source": [
    "X = df[features]"
   ]
  },
  {
   "cell_type": "code",
   "execution_count": 16,
   "id": "a2a7a7c2",
   "metadata": {},
   "outputs": [
    {
     "name": "stdout",
     "output_type": "stream",
     "text": [
      "250000"
     ]
    }
   ],
   "source": [
    "len(X)"
   ]
  },
  {
   "cell_type": "code",
   "execution_count": 17,
   "id": "10f650e8",
   "metadata": {},
   "outputs": [
    {
     "name": "stdout",
     "output_type": "stream",
     "text": [
      "          f0   f1        f2        f3          f4        f5        f6  \\\n",
      "id                                                                      \n",
      "0  -0.002350   59  0.766739 -1.350460     42.2727  16.68570   30.3599   \n",
      "1   0.784462  145 -0.463845 -0.530421  27324.9000   3.47545  160.4980   \n",
      "2   0.317816   19 -0.432571 -0.382644   1383.2600  19.71290   31.1026   \n",
      "3   0.210753   17 -0.616454  0.946362   -119.2530   4.08235  185.2570   \n",
      "4   0.439671   20  0.968126 -0.092546     74.3020  12.30650   72.1860   \n",
      "\n",
      "          f7         f8       f9  ...        f91        f92      f93  \\\n",
      "id                                ...                                  \n",
      "0   1.267300   0.392007  1.09101  ...  -42.43990  26.854000  1.45751   \n",
      "1   0.828007   3.735860  1.28138  ... -184.13200   7.901370  1.70644   \n",
      "2  -0.515354  34.430800  1.24210  ...    7.43721  37.218100  3.25339   \n",
      "3   1.383310 -47.521400  1.09130  ...    9.66778   0.626942  1.49425   \n",
      "4  -0.233964  24.399100  1.10151  ...  290.65700  15.604300  1.73557   \n",
      "\n",
      "         f94        f95       f96       f97      f98       f99  loss  \n",
      "id                                                                    \n",
      "0   0.696161   0.941764  1.828470  0.924090  2.29658  10.48980    15  \n",
      "1  -0.494699  -2.058300  0.819184  0.439152  2.36470   1.14383     3  \n",
      "2   0.337934   0.615037  2.216760  0.745268  1.69679  12.30550     6  \n",
      "3   0.517513 -10.222100  2.627310  0.617270  1.45645  10.02880     2  \n",
      "4  -0.476668   1.390190  2.195740  0.826987  1.78485   7.07197     1  \n",
      "\n",
      "[5 rows x 101 columns]"
     ]
    }
   ],
   "source": [
    "df.head()"
   ]
  },
  {
   "cell_type": "code",
   "execution_count": 18,
   "id": "5628622d",
   "metadata": {},
   "outputs": [
    {
     "name": "stdout",
     "output_type": "stream",
     "text": [
      "(250000, 43)"
     ]
    }
   ],
   "source": [
    "len(y), len(y.value_counts())"
   ]
  },
  {
   "cell_type": "code",
   "execution_count": 19,
   "id": "403c251f",
   "metadata": {},
   "outputs": [],
   "source": [
    "X_train, X_valid, y_train, y_valid = train_test_split(X, y, test_size=0.2, random_state=42)"
   ]
  },
  {
   "cell_type": "code",
   "execution_count": 20,
   "id": "0622dbd2",
   "metadata": {},
   "outputs": [],
   "source": [
    "# from sklearn.ensemble import RandomForestRegressor"
   ]
  },
  {
   "cell_type": "code",
   "execution_count": 21,
   "id": "8e37ca1c",
   "metadata": {},
   "outputs": [],
   "source": [
    "import pandas as pd\n",
    "import numpy as np\n",
    "import matplotlib.pyplot as plt\n",
    "from tqdm.notebook import tqdm\n",
    "\n",
    "# general ML tooling\n",
    "from sklearn.model_selection import train_test_split, StratifiedKFold#, KFold\n",
    "# from sklearn.metrics import roc_auc_score\n",
    "# from fastai.vision.all import *\n",
    "import wandb\n",
    "from wandb.xgboost import wandb_callback\n",
    "# import timm"
   ]
  },
  {
   "cell_type": "code",
   "execution_count": 22,
   "id": "5788e63c",
   "metadata": {},
   "outputs": [],
   "source": [
    "# model = RandomForestRegressor(random_state=42, min_samples_leaf=2, n_jobs=-1, n_estimators=100)\n",
    "model = XGBRegressor(n_estimators=200, learning_rate=0.1, n_jobs=-1, verbosity=1, random_state=42)"
   ]
  },
  {
   "cell_type": "code",
   "execution_count": 23,
   "id": "25941d72",
   "metadata": {},
   "outputs": [
    {
     "name": "stdout",
     "output_type": "stream",
     "text": [
      "{'objective': 'reg:squarederror',\n",
      " 'base_score': None,\n",
      " 'booster': None,\n",
      " 'colsample_bylevel': None,\n",
      " 'colsample_bynode': None,\n",
      " 'colsample_bytree': None,\n",
      " 'gamma': None,\n",
      " 'gpu_id': None,\n",
      " 'interaction_constraints': None,\n",
      " 'learning_rate': 0.1,\n",
      " 'max_delta_step': None,\n",
      " 'max_depth': None,\n",
      " 'min_child_weight': None,\n",
      " 'monotone_constraints': None,\n",
      " 'n_jobs': -1,\n",
      " 'num_parallel_tree': None,\n",
      " 'random_state': 42,\n",
      " 'reg_alpha': None,\n",
      " 'reg_lambda': None,\n",
      " 'scale_pos_weight': None,\n",
      " 'subsample': None,\n",
      " 'tree_method': None,\n",
      " 'validate_parameters': None,\n",
      " 'verbosity': 1}"
     ]
    }
   ],
   "source": [
    "model.get_xgb_params()"
   ]
  },
  {
   "cell_type": "code",
   "execution_count": 24,
   "id": "79e65426",
   "metadata": {},
   "outputs": [
    {
     "name": "stdout",
     "output_type": "stream",
     "text": [
      "{'objective': 'reg:squarederror',\n",
      " 'base_score': None,\n",
      " 'booster': None,\n",
      " 'colsample_bylevel': None,\n",
      " 'colsample_bynode': None,\n",
      " 'colsample_bytree': None,\n",
      " 'gamma': None,\n",
      " 'gpu_id': None,\n",
      " 'importance_type': 'gain',\n",
      " 'interaction_constraints': None,\n",
      " 'learning_rate': 0.1,\n",
      " 'max_delta_step': None,\n",
      " 'max_depth': None,\n",
      " 'min_child_weight': None,\n",
      " 'missing': nan,\n",
      " 'monotone_constraints': None,\n",
      " 'n_estimators': 200,\n",
      " 'n_jobs': -1,\n",
      " 'num_parallel_tree': None,\n",
      " 'random_state': 42,\n",
      " 'reg_alpha': None,\n",
      " 'reg_lambda': None,\n",
      " 'scale_pos_weight': None,\n",
      " 'subsample': None,\n",
      " 'tree_method': None,\n",
      " 'validate_parameters': None,\n",
      " 'verbosity': 1}"
     ]
    }
   ],
   "source": [
    "model.get_params()"
   ]
  },
  {
   "cell_type": "code",
   "execution_count": 25,
   "id": "d04f2e58",
   "metadata": {},
   "outputs": [
    {
     "name": "stdout",
     "output_type": "stream",
     "text": [
      "False"
     ]
    }
   ],
   "source": [
    "len(model.get_xgb_params()) == len(model.get_params())"
   ]
  },
  {
   "cell_type": "code",
   "execution_count": 26,
   "id": "5ca741b4",
   "metadata": {},
   "outputs": [
    {
     "name": "stdout",
     "output_type": "stream",
     "text": [
      "24"
     ]
    }
   ],
   "source": [
    "len(model.get_xgb_params())"
   ]
  },
  {
   "cell_type": "code",
   "execution_count": 27,
   "id": "975231e9",
   "metadata": {},
   "outputs": [
    {
     "name": "stdout",
     "output_type": "stream",
     "text": [
      "27"
     ]
    }
   ],
   "source": [
    "len(model.get_params())"
   ]
  },
  {
   "cell_type": "code",
   "execution_count": 28,
   "id": "8b66c9d1",
   "metadata": {},
   "outputs": [
    {
     "name": "stdout",
     "output_type": "stream",
     "text": [
      "['importance_type', 'missing', 'n_estimators']"
     ]
    }
   ],
   "source": [
    "[param for param in model.get_params().keys() if param not in model.get_xgb_params().keys()]"
   ]
  },
  {
   "cell_type": "code",
   "execution_count": 29,
   "id": "bff5d078",
   "metadata": {},
   "outputs": [
    {
     "name": "stdout",
     "output_type": "stream",
     "text": [
      "<wandb.sdk.wandb_run.Run at 0x7fd38c73cbb0>"
     ]
    },
    {
     "data": {
      "text/html": [
       "\n",
       "                Tracking run with wandb version 0.11.0<br/>\n",
       "                Syncing run <strong style=\"color:#cdcd00\">202108062041_RandomForestRegressor</strong> to <a href=\"https://wandb.ai\" target=\"_blank\">Weights & Biases</a> <a href=\"https://docs.wandb.com/integrations/jupyter.html\" target=\"_blank\">(Documentation)</a>.<br/>\n",
       "                Project page: <a href=\"https://wandb.ai/hushifang/202108_Kaggle_tabular_playground\" target=\"_blank\">https://wandb.ai/hushifang/202108_Kaggle_tabular_playground</a><br/>\n",
       "                Run page: <a href=\"https://wandb.ai/hushifang/202108_Kaggle_tabular_playground/runs/1oaq8jy8\" target=\"_blank\">https://wandb.ai/hushifang/202108_Kaggle_tabular_playground/runs/1oaq8jy8</a><br/>\n",
       "                Run data is saved locally in <code>/home/sf/Dropbox/code_cloud/python_code/kaggle/tabular_playgrounds/202108_august/wandb/run-20210806_204810-1oaq8jy8</code><br/><br/>\n",
       "            "
      ],
      "text/plain": [
       "<IPython.core.display.HTML object>"
      ]
     },
     "metadata": {},
     "output_type": "display_data"
    }
   ],
   "source": [
    "# import wandb\n",
    "wandb.init(\n",
    "    project=\"202108_Kaggle_tabular_playground\",\n",
    "    save_code=True,\n",
    "    tags=['XGBoost'],\n",
    "    name='202108062041_RandomForestRegressor',\n",
    "    notes='First run of XGBRegressor',\n",
    "    config={\n",
    "        'library': 'xgboost',\n",
    "        'model': model,\n",
    "        'params': model.get_params()\n",
    "    }\n",
    "        \n",
    "    #                'initial_learning_rate':lr_steep,\n",
    "#        'metric':'roc_auc',\n",
    "#        'n_epochs': n_epochs,\n",
    "#        'batch_size': batch_size,\n",
    "#        'optimizer':optimizer,\n",
    "#        'loss_func':loss_func,\n",
    "#        'mixup_applied': mixup_applied,\n",
    "#        'mixup_alpha': mixup_alpha,\n",
    "#        'architecture':arch,\n",
    "#        'model_source': model_source,\n",
    "#        'pretrained': pretrained,\n",
    "#        'transform_types': transform_types,\n",
    "#        'transform_libraries': transform_libraries,\n",
    "#        'cv_transforms': cv_transforms_applied,\n",
    "#        'dsp_transforms': dsp_transforms_applied,\n",
    "#        'trainset_type':trainset_type,\n",
    "#        'k-fold': fold,\n",
    "#        'k-fold_total': k_folds,\n",
    "#        'k-fold_strategy': 'stratified',\n",
    "#        'lr_strategy': 'valley',\n",
    "#        'lr': lr\n",
    ")"
   ]
  },
  {
   "cell_type": "code",
   "execution_count": 30,
   "id": "3fa9a5c2",
   "metadata": {},
   "outputs": [],
   "source": [
    "?model.fit"
   ]
  },
  {
   "cell_type": "code",
   "execution_count": 31,
   "id": "9ca12739",
   "metadata": {},
   "outputs": [
    {
     "name": "stdout",
     "output_type": "stream",
     "text": [
      "XGBRegressor(base_score=0.5, booster='gbtree', colsample_bylevel=1,\n",
      "             colsample_bynode=1, colsample_bytree=1, gamma=0, gpu_id=-1,\n",
      "             importance_type='gain', interaction_constraints='',\n",
      "             learning_rate=0.1, max_delta_step=0, max_depth=6,\n",
      "             min_child_weight=1, missing=nan, monotone_constraints='()',\n",
      "             n_estimators=200, n_jobs=-1, num_parallel_tree=1, random_state=42,\n",
      "             reg_alpha=0, reg_lambda=1, scale_pos_weight=1, subsample=1,\n",
      "             tree_method='exact', validate_parameters=1, verbosity=1)"
     ]
    }
   ],
   "source": [
    "model.fit(X_train, y_train, callbacks=[wandb.xgboost.wandb_callback()])\n",
    "# model.fit(X, y)"
   ]
  },
  {
   "cell_type": "code",
   "execution_count": 32,
   "id": "1c218e8a",
   "metadata": {},
   "outputs": [],
   "source": [
    "# wandb.sklearn.plot_regressor(model, X_train, X_valid, y_train, y_valid,  model_name='RandomForestRegressor', )"
   ]
  },
  {
   "cell_type": "code",
   "execution_count": 33,
   "id": "b3776f14",
   "metadata": {},
   "outputs": [],
   "source": [
    "# y_pred = model.predict(X_valid)"
   ]
  },
  {
   "cell_type": "code",
   "execution_count": 34,
   "id": "9668c72f",
   "metadata": {},
   "outputs": [],
   "source": [
    "# from sklearn.model_selection import cross_val_score"
   ]
  },
  {
   "cell_type": "code",
   "execution_count": 35,
   "id": "34d27ff8",
   "metadata": {},
   "outputs": [],
   "source": [
    "# scores = cross_val_score(model, X, y, cv=5, n_jobs=-1)"
   ]
  },
  {
   "cell_type": "code",
   "execution_count": 36,
   "id": "a5b8fdc6",
   "metadata": {},
   "outputs": [],
   "source": [
    "# model.get_depth()"
   ]
  },
  {
   "cell_type": "code",
   "execution_count": 37,
   "id": "8e6a844d",
   "metadata": {},
   "outputs": [],
   "source": [
    "from sklearn.metrics import mean_squared_error"
   ]
  },
  {
   "cell_type": "code",
   "execution_count": 38,
   "id": "5dabcff8",
   "metadata": {},
   "outputs": [],
   "source": [
    "y_valid_preds = model.predict(X_valid)"
   ]
  },
  {
   "cell_type": "code",
   "execution_count": 39,
   "id": "34edfaef",
   "metadata": {},
   "outputs": [],
   "source": [
    "mse = mean_squared_error(y_valid, y_valid_preds)"
   ]
  },
  {
   "cell_type": "code",
   "execution_count": 40,
   "id": "06a3786f",
   "metadata": {},
   "outputs": [
    {
     "name": "stdout",
     "output_type": "stream",
     "text": [
      "61.500556614829804"
     ]
    }
   ],
   "source": [
    "mse"
   ]
  },
  {
   "cell_type": "code",
   "execution_count": 41,
   "id": "c36d5d04",
   "metadata": {},
   "outputs": [
    {
     "name": "stdout",
     "output_type": "stream",
     "text": [
      "7.842229059064126"
     ]
    }
   ],
   "source": [
    "rmse = math.sqrt(mse)\n",
    "rmse"
   ]
  },
  {
   "cell_type": "code",
   "execution_count": 42,
   "id": "2e2adb8f",
   "metadata": {},
   "outputs": [],
   "source": [
    "# rmses = [math.sqrt(abs(score)) for score in scores]\n",
    "# rmses"
   ]
  },
  {
   "cell_type": "code",
   "execution_count": 43,
   "id": "5c1f7b1d",
   "metadata": {},
   "outputs": [],
   "source": [
    "test_df = pd.read_csv(datapath/'test.csv', index_col='id', low_memory=False)"
   ]
  },
  {
   "cell_type": "code",
   "execution_count": 44,
   "id": "e75857bc",
   "metadata": {},
   "outputs": [
    {
     "name": "stdout",
     "output_type": "stream",
     "text": [
      "              f0   f1        f2        f3          f4        f5         f6  \\\n",
      "id                                                                           \n",
      "250000  0.812665   15 -1.239120 -0.893251    295.5770  15.87120   23.04360   \n",
      "250001  0.190344  131 -0.501361  0.801921     64.8866   3.09703  344.80500   \n",
      "250002  0.919671   19 -0.057382  0.901419  11961.2000  16.39650  273.24000   \n",
      "250003  0.860985   19 -0.549509  0.471799   7501.6000   2.80698   71.08170   \n",
      "250004  0.313229   89  0.588509  0.167705   2931.2600   4.34986    1.57187   \n",
      "\n",
      "              f7         f8       f9  ...       f90        f91       f92  \\\n",
      "id                                    ...                                  \n",
      "250000  0.942256  29.898000  1.11394  ...  0.446389   -422.332  -1.44630   \n",
      "250001  0.807194  38.421900  1.09695  ...  0.377179  10352.200  21.06270   \n",
      "250002 -0.003300  37.940000  1.15222  ...  0.990140   3224.020  -2.25287   \n",
      "250003  0.792136   0.395235  1.20157  ...  1.396880   9689.760  14.77150   \n",
      "250004  1.118300   7.754630  1.16807  ...  0.862502   2693.350  44.18050   \n",
      "\n",
      "            f93       f94        f95      f96       f97       f98       f99  \n",
      "id                                                                           \n",
      "250000  1.69075  1.059300  -3.010570  1.94664  0.529470  1.386950   8.78767  \n",
      "250001  1.84351  0.251895   4.440570  1.90309  0.248534  0.863881  11.79390  \n",
      "250002  1.55100 -0.559157  17.838600  1.83385  0.931796  2.336870   9.05400  \n",
      "250003  1.41390  0.329272   0.802437  2.23251  0.893348  1.359470   4.84833  \n",
      "250004  1.58020 -0.191021  26.253000  2.68238  0.361923  1.532800   3.70660  \n",
      "\n",
      "[5 rows x 100 columns]"
     ]
    }
   ],
   "source": [
    "test_df.head()"
   ]
  },
  {
   "cell_type": "code",
   "execution_count": 45,
   "id": "a1ce4874",
   "metadata": {},
   "outputs": [],
   "source": [
    "X_test = test_df[features] # this is just for naming consistency"
   ]
  },
  {
   "cell_type": "code",
   "execution_count": 46,
   "id": "96571ec5",
   "metadata": {},
   "outputs": [],
   "source": [
    "y_test_preds = model.predict(X_test)"
   ]
  },
  {
   "cell_type": "code",
   "execution_count": 47,
   "id": "3199d260",
   "metadata": {},
   "outputs": [],
   "source": [
    "sample_df = pd.read_csv(datapath/'sample_submission.csv')"
   ]
  },
  {
   "cell_type": "code",
   "execution_count": 48,
   "id": "28ee1c54",
   "metadata": {},
   "outputs": [],
   "source": [
    "sample_df.loc[:, 'loss'] = y_test_preds"
   ]
  },
  {
   "cell_type": "code",
   "execution_count": 49,
   "id": "c81b7a61",
   "metadata": {},
   "outputs": [
    {
     "name": "stdout",
     "output_type": "stream",
     "text": [
      "       id      loss\n",
      "0  250000  7.328520\n",
      "1  250001  4.610067\n",
      "2  250002  7.277142\n",
      "3  250003  7.030011\n",
      "4  250004  7.187167"
     ]
    }
   ],
   "source": [
    "sample_df.head()"
   ]
  },
  {
   "cell_type": "code",
   "execution_count": 50,
   "id": "83132c08",
   "metadata": {},
   "outputs": [],
   "source": [
    "sample_df.to_csv('202108062038_XGBoost.csv', index=False)"
   ]
  },
  {
   "cell_type": "code",
   "execution_count": 51,
   "id": "c48acc25",
   "metadata": {},
   "outputs": [],
   "source": [
    "wandb.finish()"
   ]
  }
 ],
 "metadata": {
  "kernelspec": {
   "display_name": "Python 3",
   "language": "python",
   "name": "python3"
  },
  "language_info": {
   "codemirror_mode": {
    "name": "ipython",
    "version": 3
   },
   "file_extension": ".py",
   "mimetype": "text/x-python",
   "name": "python",
   "nbconvert_exporter": "python",
   "pygments_lexer": "ipython3",
   "version": "3.8.10"
  }
 },
 "nbformat": 4,
 "nbformat_minor": 5
}
