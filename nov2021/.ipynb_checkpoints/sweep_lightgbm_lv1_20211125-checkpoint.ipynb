{
 "cells": [
  {
   "cell_type": "markdown",
   "id": "1d4e7f70-25a3-4d58-b98a-3a695e55ee53",
   "metadata": {
    "id": "1d4e7f70-25a3-4d58-b98a-3a695e55ee53"
   },
   "source": [
    "# LightGBM Hyperparameter Sweep 20210922\n",
    "Integrating some enhancements introduced in the XGBoost version, and implementing the frequent-serialization approach."
   ]
  },
  {
   "cell_type": "code",
   "execution_count": null,
   "id": "U_qtimPUchWD",
   "metadata": {
    "id": "U_qtimPUchWD"
   },
   "outputs": [],
   "source": []
  },
  {
   "cell_type": "markdown",
   "id": "1e124c3d-0e1f-4053-8e72-52569a4fe3e4",
   "metadata": {
    "id": "1e124c3d-0e1f-4053-8e72-52569a4fe3e4"
   },
   "source": [
    "# Setup"
   ]
  },
  {
   "cell_type": "code",
   "execution_count": 1,
   "id": "acda1fca-9234-4ed8-a093-6687179a22d8",
   "metadata": {
    "id": "dae2ff1e-bd1f-4cc9-8357-5a88d1746ffb"
   },
   "outputs": [],
   "source": [
    "# two manual flags (ex-config)\n",
    "COLAB = False\n",
    "USE_GPU = True"
   ]
  },
  {
   "cell_type": "code",
   "execution_count": 2,
   "id": "964cf961-3573-41af-a420-02d224cb60ce",
   "metadata": {
    "id": "16849bd2-428c-497b-ba3b-675002f8d041"
   },
   "outputs": [],
   "source": [
    "# basic imports\n",
    "from pathlib import Path\n",
    "import os\n",
    "import math\n",
    "from datetime import datetime\n",
    "import random\n",
    "import multiprocessing\n",
    "import pickle"
   ]
  },
  {
   "cell_type": "code",
   "execution_count": 3,
   "id": "6d519400-bd6d-47cc-9cf0-9bc83e9733ff",
   "metadata": {
    "colab": {
     "base_uri": "https://localhost:8080/"
    },
    "id": "12d2654b-3bc6-49b5-ade8-cc82112b60e5",
    "outputId": "6bd53922-c4d7-43ce-c04f-ac1079087966"
   },
   "outputs": [],
   "source": [
    "%matplotlib inline\n",
    "%config Completer.use_jedi = False\n",
    "os.environ['WANDB_NOTEBOOK_NAME'] = f\"sweep_lightgbm_{datetime.now().strftime('%Y%m%d')}.ipynb\""
   ]
  },
  {
   "cell_type": "code",
   "execution_count": 4,
   "id": "f20015f4-ca47-4480-9f18-11b53b67cbfb",
   "metadata": {
    "colab": {
     "base_uri": "https://localhost:8080/"
    },
    "id": "416d6118-e543-4df4-9219-2d4a63743c3a",
    "outputId": "5483656e-2943-4d97-b5d4-65cfb9795430",
    "tags": []
   },
   "outputs": [],
   "source": [
    "# handle Google Colab-specific library installation/updating\n",
    "if COLAB:\n",
    "    # much of the below inspired by or cribbed from the May 2021 Kaggle Tabular Playground winner, at \n",
    "    # https://colab.research.google.com/gist/academicsuspect/0aac7bd6e506f5f70295bfc9a3dc2250/tabular-may-baseline.ipynb?authuser=1#scrollTo=LJoVKJb5wN0L\n",
    "    \n",
    "    # Kaggle API for downloading the datasets\n",
    "    !pip install --upgrade -q kaggle\n",
    "\n",
    "    # weights and biases\n",
    "    !pip install -qqqU wandb\n",
    "    \n",
    "    # Optuna for parameter search\n",
    "    !pip install -q optuna\n",
    "\n",
    "    # !pip install --upgrade xgboost\n",
    "\n",
    "    # upgrade sklearn\n",
    "    !pip install --upgrade scikit-learn\n",
    "\n",
    "    # !pip install category_encoders\n",
    "    # !pip install catboost\n",
    "#     !pip install --upgrade -q lightgbm\n",
    "\n",
    "    # lighgbm gpu compatible\n",
    "    # !git clone --recursive https://github.com/Microsoft/LightGBM\n",
    "    # ! cd LightGBM && rm -rf build && mkdir build && cd build && cmake -DUSE_GPU=1 ../../LightGBM && make -j4 && cd ../python-package && python3 setup.py install --precompile --gpu;\n",
    "    \n",
    "    # # this part is from https://github.com/rapidsai/gputreeshap/issues/24\n",
    "    # !pip install cmake --upgrade\n",
    "    # # !pip install sklearn --upgrade\n",
    "    # !git clone --recursive https://github.com/dmlc/xgboost\n",
    "    # %cd /content/xgboost\n",
    "    # !mkdir build\n",
    "    # %cd build\n",
    "    # !cmake .. -DUSE_CUDA=ON\n",
    "    # !make -j4\n",
    "    # %cd /content/xgboost/python-package\n",
    "    # !python setup.py install --use-cuda --use-nccl\n",
    "    # !/opt/bin/nvidia-smi\n",
    "    # !pip install shap\n",
    "    "
   ]
  },
  {
   "cell_type": "markdown",
   "id": "cb3f8f95-70a0-47ca-8a69-d5417900655b",
   "metadata": {
    "id": "d40df194-4474-4bcf-ac5a-98efe24b91fd"
   },
   "source": [
    "Now, non-stdlib imports"
   ]
  },
  {
   "cell_type": "code",
   "execution_count": 5,
   "id": "eae02585-98f8-4afe-bf68-e9c4dad6a1c3",
   "metadata": {
    "id": "a01e85f7-d602-4dde-bef9-611683cd74c4"
   },
   "outputs": [
    {
     "data": {
      "text/html": [
       "<style type='text/css'>\n",
       ".datatable table.frame { margin-bottom: 0; }\n",
       ".datatable table.frame thead { border-bottom: none; }\n",
       ".datatable table.frame tr.coltypes td {  color: #FFFFFF;  line-height: 6px;  padding: 0 0.5em;}\n",
       ".datatable .bool    { background: #DDDD99; }\n",
       ".datatable .object  { background: #565656; }\n",
       ".datatable .int     { background: #5D9E5D; }\n",
       ".datatable .float   { background: #4040CC; }\n",
       ".datatable .str     { background: #CC4040; }\n",
       ".datatable .time    { background: #40CC40; }\n",
       ".datatable .row_index {  background: var(--jp-border-color3);  border-right: 1px solid var(--jp-border-color0);  color: var(--jp-ui-font-color3);  font-size: 9px;}\n",
       ".datatable .frame tbody td { text-align: left; }\n",
       ".datatable .frame tr.coltypes .row_index {  background: var(--jp-border-color0);}\n",
       ".datatable th:nth-child(2) { padding-left: 12px; }\n",
       ".datatable .hellipsis {  color: var(--jp-cell-editor-border-color);}\n",
       ".datatable .vellipsis {  background: var(--jp-layout-color0);  color: var(--jp-cell-editor-border-color);}\n",
       ".datatable .na {  color: var(--jp-cell-editor-border-color);  font-size: 80%;}\n",
       ".datatable .sp {  opacity: 0.25;}\n",
       ".datatable .footer { font-size: 9px; }\n",
       ".datatable .frame_dimensions {  background: var(--jp-border-color3);  border-top: 1px solid var(--jp-border-color0);  color: var(--jp-ui-font-color3);  display: inline-block;  opacity: 0.6;  padding: 1px 10px 1px 5px;}\n",
       "</style>\n"
      ],
      "text/plain": [
       "<IPython.core.display.HTML object>"
      ]
     },
     "metadata": {},
     "output_type": "display_data"
    }
   ],
   "source": [
    "import pandas as pd\n",
    "import numpy as np\n",
    "import matplotlib.pyplot as plt\n",
    "from tqdm.notebook import tqdm\n",
    "\n",
    "# general ML tooling\n",
    "from sklearn.model_selection import train_test_split, StratifiedKFold, KFold\n",
    "from sklearn.metrics import log_loss, roc_auc_score\n",
    "import wandb\n",
    "from optuna.integration.wandb import WeightsAndBiasesCallback\n",
    "# from wandb.xgboost import wandb_callback\n",
    "# from wandb.lightgbm import wandb_callback\n",
    "# from sklearn.impute import KNNImputer, StandardImputer\n",
    "# import timm\n",
    "\n",
    "import seaborn as sns\n",
    "import xgboost\n",
    "# from catboost import CatBoostClassifier\n",
    "# from xgboost import XGBClassifier\n",
    "from lightgbm import LGBMClassifier\n",
    "# from sklearn.ensemble import RandomForestRegressor\n",
    "from sklearn.preprocessing import RobustScaler\n",
    "# from sklearn.feature_selection import SelectKBest, f_regression\n",
    "from joblib import dump, load\n",
    "# feature engineering tools\n",
    "# from sklearn.feature_selection import mutual_info_regression\n",
    "# import featuretools as ft\n",
    "\n",
    "\n",
    "from optuna.samplers import TPESampler\n",
    "import optuna\n",
    "# import catboost\n",
    "from sklearn.utils import resample\n",
    "import sklearn.metrics"
   ]
  },
  {
   "cell_type": "markdown",
   "id": "248260cd-73af-41aa-be4a-7dc26ca9684a",
   "metadata": {
    "id": "5f6166c2-ca44-4b7c-a4dc-3db47c2624fe"
   },
   "source": [
    "Now, datapath setup"
   ]
  },
  {
   "cell_type": "code",
   "execution_count": 6,
   "id": "b1b9786a-c57c-472e-8da9-be58e956ed34",
   "metadata": {
    "id": "3c18a787-2193-43cb-87ee-51c6ae7b6351"
   },
   "outputs": [],
   "source": [
    "# # This is the code for reading the train.csv and converting it to a .feather file\n",
    "# df = pd.read_csv(datapath/'train.csv', index_col='id', low_memory=False)\n",
    "# df.index.name = None\n",
    "# df.to_feather(path='./dataset_df.feather')"
   ]
  },
  {
   "cell_type": "code",
   "execution_count": 7,
   "id": "fcc4a0b6-5101-465f-9705-0d23df7f8576",
   "metadata": {},
   "outputs": [],
   "source": [
    "if COLAB:\n",
    "    # mount Google Drive\n",
    "    from google.colab import drive\n",
    "    drive.mount('/content/drive')\n",
    "    \n",
    "    # handling datapath\n",
    "    datapath = Path('/content/drive/MyDrive/kaggle/tabular_playgrounds/nov2021/')\n",
    "    \n",
    "else:\n",
    "    # if on local machine\n",
    "#     datapath = Path('/media/sf/easystore/kaggle_data/tabular_playgrounds/sep2021/')  \n",
    "    root = Path('/media/sf/easystore/kaggle_data/tabular_playgrounds/nov2021/')\n",
    "    datapath = root/'datasets'\n",
    "    # edapath = root/'EDA'\n",
    "    # modelpath = Path('/media/sf/easystore/kaggle_data/tabular_playgrounds/oct2021/models/')\n",
    "    predpath = root/'preds'\n",
    "    subpath = root/'submissions'\n",
    "    studypath = root/'studies'\n",
    "    \n",
    "    for pth in [datapath, predpath, subpath, studypath]:\n",
    "        pth.mkdir(exist_ok=True)\n",
    "    \n"
   ]
  },
  {
   "cell_type": "code",
   "execution_count": 8,
   "id": "85e7a051-336b-4c23-ad90-62abc5f6a322",
   "metadata": {
    "id": "d1c652e6-5946-46aa-a13e-4c0ebe8a0e4f"
   },
   "outputs": [],
   "source": [
    "\n",
    "# n_trials = int(1000)\n",
    "SEED = 42"
   ]
  },
  {
   "cell_type": "code",
   "execution_count": 9,
   "id": "4280ffd5-e87c-45a6-acaf-0436d23caf33",
   "metadata": {
    "id": "fbec2e77-2081-4815-ac6d-39f2a2616386"
   },
   "outputs": [],
   "source": [
    "# Function to seed everything\n",
    "def seed_everything(seed):\n",
    "    random.seed(seed)\n",
    "    np.random.seed(seed)\n",
    "    os.environ['PYTHONHASHSEED'] = str(seed)\n",
    "seed_everything(SEED)"
   ]
  },
  {
   "cell_type": "markdown",
   "id": "9e38980a-6afa-421e-afa1-614b021aa9c8",
   "metadata": {
    "id": "2f6e47b3-43bd-4d35-b463-9d76100c6ed5"
   },
   "source": [
    "## Ex-Model Config"
   ]
  },
  {
   "cell_type": "code",
   "execution_count": 10,
   "id": "6f16c54a-b5c6-49a1-9142-ebc4217b75e6",
   "metadata": {
    "id": "fb288275-a858-4806-9dc0-0b316c334536"
   },
   "outputs": [],
   "source": [
    "# meta-config for preprocessing and cross-validation, but NOT for model parameters\n",
    "# in the sweep version, this includes both ex-model parameters and defaults for model parameters\n",
    "exmodel_config = {\n",
    "    # model config\n",
    "    \"arch\": 'lightgbm',\n",
    "#     \"model\": XGBClassifier,\n",
    "#     \"n_estimators\": 100, \n",
    "#     \"max_depth\": 3,\n",
    "#     \"learning_rate\": 0.1,\n",
    "#     \"test_size\": 0.2,\n",
    "#     \"reg_lambda\": None, \n",
    "#     \"scaler\": \"sklearn.preprocessing.StandardScaler()\", # TODO: experiment with others (but imputation may be slow)\n",
    "#     \"scale_b4_impute\": False,\n",
    "#     \"imputer\": \"sklearn.impute.SimpleImputer(strategy='median', add_indicator=True)\",\n",
    "#     \"knn_imputer_n_neighbors\": None, # None if a different imputer is used\n",
    "#     \"feature_selector\": SelectKBest,\n",
    "#     \"k_best\": 80,\n",
    "#     \"feature_selection_scoring\": f_regression,\n",
    "    'random_state': SEED,\n",
    "    'optuna': True,\n",
    "#     'optuna_trials': 20,\n",
    "#     'subsample': 1,\n",
    "    'cross_val_strategy': KFold, # None for holdout, or the relevant sklearn class\n",
    "    'kfolds': 5, # if 1, that means just doing holdout\n",
    "    'test_size': 0.2,\n",
    "    # these are XGBoost default (my choice) params \n",
    "#     \"tree_method\": \"auto\", # set to 'gpu_hist' to try GPU if available\n",
    "#     \"booster\": 'gbtree', # dart may be marginally better, but will opt for this quicker approach as a default\n",
    "#     \"n_estimators\": 200, \n",
    "#     \"max_depth\": 3,\n",
    "#     \"learning_rate\": 0.1,\n",
    "#     \"n_jobs\": -1,\n",
    "#     \"verbosity\": 1,\n",
    "#     \"subsample\": 1,\n",
    "#     'features_created': False,\n",
    "#     'feature_creator': None,\n",
    "}\n",
    "\n",
    "wandb_kwargs = {\n",
    "    # wandb config\n",
    "    'name': f\"{os.environ['WANDB_NOTEBOOK_NAME'][:-6]}_{datetime.now().strftime('%H%M%S')}\", # just removes the .ipynb extension, leaving the notebook filename's stem\n",
    "    'project': '202111_Kaggle_tabular_playground',\n",
    "    'tags': ['sweep'],\n",
    "    'notes': \"Sweep for LightGBM on GPU with Optuna, using RobustScaled and corrected dataset\",\n",
    "    'config': exmodel_config,\n",
    "}"
   ]
  },
  {
   "cell_type": "markdown",
   "id": "8f97606f-1c9d-4011-8312-6628c7d0385e",
   "metadata": {
    "id": "a52d9012-34f1-435a-ba16-4416e0d4a286"
   },
   "source": [
    "## Data Setup"
   ]
  },
  {
   "cell_type": "markdown",
   "id": "811df1c5-ef8b-4a5e-890e-83f311b69172",
   "metadata": {
    "id": "c912a62f-970a-48b4-b428-d886f2612fc2"
   },
   "source": [
    "**TODO** Write some conditional logic here to automate it -- possibly as part of a sklearn.*pipeline"
   ]
  },
  {
   "cell_type": "code",
   "execution_count": 11,
   "id": "4fa3ed9d-19fc-4149-848f-37d9eac60199",
   "metadata": {},
   "outputs": [],
   "source": [
    "# train_source = datapath/'train.feather'\n",
    "# df = pd.read_feather(path=datapath/'train.feather')\n",
    "# y = np.array(df.target)\n",
    "# dump(y, filename=datapath/'y.joblib')\n",
    "# del df\n",
    "\n",
    "y = load(datapath/'y_corrected.joblib')\n",
    "\n",
    "# df.index.name = 'id'\n",
    "# y_train = df.target\n",
    "# features = [x for x in df.columns if x != 'target']\n",
    "# X_train = df[features]\n",
    "# # X.index.name = 'id'\n",
    "# # y.index.name = 'id'\n",
    "# X = np.array(X_train)\n",
    "# y = np.array(y_train)\n",
    "\n",
    "# del df, X_train, y_train\n",
    "\n",
    "# load the Boruta-filtered green-zone 98 features (based on 200 iterations of the algo)\n",
    "# train_source = '/media/sf/easystore/kaggle_data/tabular_playgrounds/oct2021/alt_datasets/X_boruta_200iter_filtered_green.joblib'\n",
    "# X = load(train_source)\n",
    "\n",
    "train_source = datapath/'X_orig.feather'\n",
    "X = pd.read_feather(train_source)\n",
    "\n",
    "# exmodel_config['feature_count'] = len(X.columns)\n",
    "exmodel_config['feature_count'] = X.shape[1]\n",
    "exmodel_config['instance_count'] = X.shape[0]\n",
    "exmodel_config['scaler'] = str(RobustScaler())\n",
    "# exmodel_config['feature_generator'] = None\n",
    "# exmodel_config['feature_generator'] = \"Summary statistics\"\n",
    "\n",
    "exmodel_config['train_source'] = str(train_source)\n",
    "# test_source = datapath/'test.feather'\n",
    "# exmodel_config['test_source'] = str(test_source)\n",
    "# X_test = pd.read_feather(path=test_source)\n",
    "# X_test = X_test.iloc[:, 1:]\n",
    "# X_test = np.array(X_test)"
   ]
  },
  {
   "cell_type": "code",
   "execution_count": 12,
   "id": "466510f2-541e-443a-a27c-eaba1d3a4f3d",
   "metadata": {},
   "outputs": [
    {
     "data": {
      "text/plain": [
       "((600000, 100), (600000,))"
      ]
     },
     "execution_count": 12,
     "metadata": {},
     "output_type": "execute_result"
    }
   ],
   "source": [
    "X.shape, y.shape"
   ]
  },
  {
   "cell_type": "code",
   "execution_count": 13,
   "id": "7eababe2-f9ec-431c-ba13-001ed39e9548",
   "metadata": {},
   "outputs": [
    {
     "data": {
      "text/plain": [
       "(pandas.core.frame.DataFrame, pandas.core.series.Series)"
      ]
     },
     "execution_count": 13,
     "metadata": {},
     "output_type": "execute_result"
    }
   ],
   "source": [
    "type(X), type(y)"
   ]
  },
  {
   "cell_type": "markdown",
   "id": "431d37db-558d-474d-9eca-ce2d38b7636f",
   "metadata": {
    "id": "431d37db-558d-474d-9eca-ce2d38b7636f"
   },
   "source": [
    "# Experiment setup"
   ]
  },
  {
   "cell_type": "code",
   "execution_count": 14,
   "id": "69ff4abf-560b-450e-a7a5-040878b66565",
   "metadata": {
    "id": "69ff4abf-560b-450e-a7a5-040878b66565"
   },
   "outputs": [],
   "source": [
    "# wandb_kwargs = {\n",
    "#     # wandb config:\n",
    "#     'name': f\"{os.environ['WANDB_NOTEBOOK_NAME'][:-6]}_{datetime.now().strftime('%H%M%S')}\", # just removes the .ipynb extension, leaving the notebook filename's stem\n",
    "#     'project': '202109_Kaggle_tabular_playground',\n",
    "#     'tags': ['sweep'],\n",
    "#     'notes': \"Sweep for CatBoost using Optuna\",\n",
    "#     'config': exmodel_config,\n",
    "# }"
   ]
  },
  {
   "cell_type": "code",
   "execution_count": 15,
   "id": "1d93b6f2-2d65-48a9-9862-510bd7d2b75b",
   "metadata": {
    "id": "1d93b6f2-2d65-48a9-9862-510bd7d2b75b"
   },
   "outputs": [],
   "source": [
    "# originally from https://www.kaggle.com/satorushibata/optimize-catboost-hyperparameter-with-optuna-gpu\n",
    "def objective(trial, arch=exmodel_config['arch']):\n",
    "    # split the (original Kaggle training) data into partitions\n",
    "    # if study.best_trial:\n",
    "    #     print(\"Dumping best params, which are:\")\n",
    "    #     print(str(study.best_trial.params))\n",
    "    #     dump(study.best_trial.params, filename=datapath/'optuna_catboost_best_20210920.joblib')\n",
    "       \n",
    "    # else:\n",
    "    #     print(\"No best study yet\")\n",
    "    # X_train, X_valid, y_train, y_valid = train_test_split(X, y, test_size=0.33, random_state=int(SEED), shuffle=True)\n",
    "    # create wrappers for the training and validation partitions\n",
    "    # train_pool = catboost.Pool(X_train, y_train)\n",
    "    # valid_pool = catboost.Pool(X_valid, y_valid)\n",
    "    \n",
    "    # experimental parameters\n",
    "    params = {\n",
    "        'n_estimators': trial.suggest_int('n_estimators', 500, 7000),\n",
    "        'max_depth' : trial.suggest_int('depth', 3, 10),                                       \n",
    "        'learning_rate' : trial.suggest_loguniform('learning_rate', 0.001, 0.4),               \n",
    "        'reg_alpha': trial.suggest_loguniform('reg_alpha', 0.001, 30),\n",
    "        'reg_lambda': trial.suggest_loguniform('reg_lambda', 0.001, 30),\n",
    "        'subsample': trial.suggest_uniform('subsample', 0.5, 1), # aka bagging_fraction\n",
    "        'boosting_type': trial.suggest_categorical('boosting_type', ['gbdt', 'dart', 'goss']),\n",
    "        'min_child_samples': trial.suggest_int('min_child_samples', 4, 75),\n",
    "        'num_leaves': trial.suggest_int('num_leaves', 50, 250),\n",
    "        'colsample_bytree': trial.suggest_uniform('colsample_bytree', 0.5, 1), # aka feature_fraction\n",
    "    }  \n",
    "\n",
    "    # instantiate the model, with some parameters locked in, and experimnental ones passed via splat \n",
    "    model = LGBMClassifier(\n",
    "            objective='binary',\n",
    "            random_state=SEED,\n",
    "                # device_type='cpu',\n",
    "                # n_jobs=-1,\n",
    "#                 eval_metric='auc',\n",
    "            device_type='gpu',\n",
    "            max_bin=63, # 15 might be even better for GPU perf, but depends on dataset -- see https://lightgbm.readthedocs.io/en/latest/GPU-Performance.html\n",
    "            gpu_use_dp=False, # forces use of single precision rather than double for better perf, esp on consumer Nvidia chips\n",
    "            **params)       \n",
    "\n",
    "    kfold = exmodel_config['cross_val_strategy'](n_splits=exmodel_config['kfolds'], shuffle=True, random_state=SEED)\n",
    "    # initialize lists for out-of-fold preds and ground truth\n",
    "    oof_preds, oof_y = [], []\n",
    "    for fold, (train_ids, valid_ids) in enumerate(kfold.split(X,y)):\n",
    "        print(f\"FOLD {fold}\")\n",
    "        print(\"---------------------------------------------------\")\n",
    "        y_train, y_valid = y[train_ids], y[valid_ids] # y will be an np.ndarray already; handling will be same regardless of model\n",
    "        if isinstance(X, np.ndarray):\n",
    "            X_train, X_valid = X[train_ids], X[valid_ids]\n",
    "        else:\n",
    "            X_train, X_valid = X.iloc[train_ids,:], X.iloc[valid_ids,:] # bc need pandas.DataFrames for ce\n",
    "        scaler = RobustScaler()\n",
    "        X_train = scaler.fit_transform(X_train)\n",
    "        X_valid = scaler.transform(X_valid)\n",
    "\n",
    "        model.fit(X_train, y_train)\n",
    "        y_valid_preds = model.predict_proba(X_valid)[:,1]\n",
    "\n",
    "        # add the fold-model's OOF preds and ground truths to the out-of-loop lists\n",
    "        oof_preds.extend(y_valid_preds)\n",
    "        oof_y.extend(y_valid)\n",
    "        fold_roc_auc = roc_auc_score(y_score=y_valid_preds, y_true=y_valid)\n",
    "        print(f\"Fold {fold} ROC AUC is: {fold_roc_auc}\")\n",
    "    \n",
    "    model_roc_auc = roc_auc_score(y_true=oof_y, y_score=oof_preds)\n",
    "    print(f\"Valid AUC score for {arch} model is {model_roc_auc}\")\n",
    "\n",
    "    return model_roc_auc"
   ]
  },
  {
   "cell_type": "code",
   "execution_count": 16,
   "id": "0e85f589-1507-4b75-80d9-8b062970102f",
   "metadata": {
    "colab": {
     "base_uri": "https://localhost:8080/",
     "height": 285
    },
    "id": "0e85f589-1507-4b75-80d9-8b062970102f",
    "outputId": "6a01a1a1-8060-429d-9a47-670cbc0435d2",
    "tags": []
   },
   "outputs": [
    {
     "name": "stderr",
     "output_type": "stream",
     "text": [
      "<ipython-input-16-69ea9289a2cf>:1: ExperimentalWarning: WeightsAndBiasesCallback is experimental (supported from v2.9.0). The interface can change in the future.\n",
      "  wandbc = WeightsAndBiasesCallback(wandb_kwargs=wandb_kwargs)\n",
      "\u001b[34m\u001b[1mwandb\u001b[0m: \u001b[33mWARNING\u001b[0m WANDB_NOTEBOOK_NAME should be a path to a notebook file, couldn't find sweep_lightgbm_20211125.ipynb\n",
      "\u001b[34m\u001b[1mwandb\u001b[0m: Currently logged in as: \u001b[33mhushifang\u001b[0m (use `wandb login --relogin` to force relogin)\n",
      "\u001b[34m\u001b[1mwandb\u001b[0m: wandb version 0.12.7 is available!  To upgrade, please run:\n",
      "\u001b[34m\u001b[1mwandb\u001b[0m:  $ pip install wandb --upgrade\n"
     ]
    },
    {
     "data": {
      "text/html": [
       "\n",
       "                    Syncing run <strong><a href=\"https://wandb.ai/hushifang/202111_Kaggle_tabular_playground/runs/nxe0xq50\" target=\"_blank\">sweep_lightgbm_20211125_071904</a></strong> to <a href=\"https://wandb.ai/hushifang/202111_Kaggle_tabular_playground\" target=\"_blank\">Weights & Biases</a> (<a href=\"https://docs.wandb.com/integrations/jupyter.html\" target=\"_blank\">docs</a>).<br/>\n",
       "\n",
       "                "
      ],
      "text/plain": [
       "<IPython.core.display.HTML object>"
      ]
     },
     "metadata": {},
     "output_type": "display_data"
    }
   ],
   "source": [
    "wandbc = WeightsAndBiasesCallback(wandb_kwargs=wandb_kwargs)"
   ]
  },
  {
   "cell_type": "code",
   "execution_count": 17,
   "id": "ab6749b1-dd7d-4789-b0e2-8491d78fe89b",
   "metadata": {
    "id": "ab6749b1-dd7d-4789-b0e2-8491d78fe89b",
    "tags": []
   },
   "outputs": [
    {
     "name": "stderr",
     "output_type": "stream",
     "text": [
      "\u001b[32m[I 2021-11-25 07:19:11,458]\u001b[0m A new study created in memory with name: lightgbm-lv1-RobustScaled-corrected_dataset-20211125\u001b[0m\n"
     ]
    }
   ],
   "source": [
    "study = optuna.create_study(direction = \"maximize\", \n",
    "                            sampler = TPESampler(seed=int(SEED)), \n",
    "                            study_name=f\"lightgbm-lv1-RobustScaled-corrected_dataset-{datetime.now().strftime('%Y%m%d')}\")\n",
    "\n",
    "# study = load('/home/sf/code/kaggle/tabular_playgrounds/oct2021/optuna_studies/optuna_lightgbm_study_65trials_20211005.joblib')\n"
   ]
  },
  {
   "cell_type": "code",
   "execution_count": 18,
   "id": "0c7228e1-1038-4ca9-9037-ded32a2ae304",
   "metadata": {},
   "outputs": [],
   "source": [
    "import lightgbm"
   ]
  },
  {
   "cell_type": "code",
   "execution_count": 19,
   "id": "F1cSVFH9gkW_",
   "metadata": {
    "colab": {
     "base_uri": "https://localhost:8080/"
    },
    "id": "F1cSVFH9gkW_",
    "outputId": "ccc874e6-7dd4-4e24-bec8-35ae48180b40",
    "tags": []
   },
   "outputs": [
    {
     "name": "stdout",
     "output_type": "stream",
     "text": [
      "FOLD 0\n",
      "---------------------------------------------------\n",
      "Fold 0 ROC AUC is: 0.9904845595663815\n",
      "FOLD 1\n",
      "---------------------------------------------------\n",
      "Fold 1 ROC AUC is: 0.9903159892607447\n",
      "FOLD 2\n",
      "---------------------------------------------------\n",
      "Fold 2 ROC AUC is: 0.9909577876558151\n",
      "FOLD 3\n",
      "---------------------------------------------------\n",
      "Fold 3 ROC AUC is: 0.9907766112085545\n",
      "FOLD 4\n",
      "---------------------------------------------------\n",
      "Fold 4 ROC AUC is: 0.9908832578340678\n"
     ]
    },
    {
     "name": "stderr",
     "output_type": "stream",
     "text": [
      "\u001b[32m[I 2021-11-25 07:58:04,280]\u001b[0m Trial 0 finished with value: 0.9906821713347577 and parameters: {'n_estimators': 2934, 'depth': 10, 'learning_rate': 0.0802956743641955, 'reg_alpha': 0.4789240251631179, 'reg_lambda': 0.004994757081068292, 'subsample': 0.5779972601681014, 'boosting_type': 'dart', 'min_child_samples': 54, 'num_leaves': 54, 'colsample_bytree': 0.9849549260809971}. Best is trial 0 with value: 0.9906821713347577.\u001b[0m\n"
     ]
    },
    {
     "name": "stdout",
     "output_type": "stream",
     "text": [
      "Valid AUC score for lightgbm model is 0.9906821713347577\n",
      "FOLD 0\n",
      "---------------------------------------------------\n",
      "Fold 0 ROC AUC is: 0.9679443208180961\n",
      "FOLD 1\n",
      "---------------------------------------------------\n",
      "Fold 1 ROC AUC is: 0.9678927045248253\n",
      "FOLD 2\n",
      "---------------------------------------------------\n",
      "Fold 2 ROC AUC is: 0.9692680453438455\n",
      "FOLD 3\n",
      "---------------------------------------------------\n",
      "Fold 3 ROC AUC is: 0.9689475548092537\n",
      "FOLD 4\n",
      "---------------------------------------------------\n",
      "Fold 4 ROC AUC is: 0.9689279938185641\n"
     ]
    },
    {
     "name": "stderr",
     "output_type": "stream",
     "text": [
      "\u001b[32m[I 2021-11-25 08:10:13,102]\u001b[0m Trial 1 finished with value: 0.9685939712666022 and parameters: {'n_estimators': 5911, 'depth': 4, 'learning_rate': 0.002972483637079397, 'reg_alpha': 0.0066240595682091315, 'reg_lambda': 0.023021277110080198, 'subsample': 0.762378215816119, 'boosting_type': 'goss', 'min_child_samples': 14, 'num_leaves': 108, 'colsample_bytree': 0.6831809216468459}. Best is trial 0 with value: 0.9906821713347577.\u001b[0m\n"
     ]
    },
    {
     "name": "stdout",
     "output_type": "stream",
     "text": [
      "Valid AUC score for lightgbm model is 0.9685939712666022\n",
      "FOLD 0\n",
      "---------------------------------------------------\n",
      "Fold 0 ROC AUC is: 0.9740020184163916\n",
      "FOLD 1\n",
      "---------------------------------------------------\n",
      "Fold 1 ROC AUC is: 0.974007811404986\n",
      "FOLD 2\n",
      "---------------------------------------------------\n",
      "Fold 2 ROC AUC is: 0.9752417938859901\n",
      "FOLD 3\n",
      "---------------------------------------------------\n",
      "Fold 3 ROC AUC is: 0.9748575434320975\n",
      "FOLD 4\n",
      "---------------------------------------------------\n",
      "Fold 4 ROC AUC is: 0.9750556599116539\n"
     ]
    },
    {
     "name": "stderr",
     "output_type": "stream",
     "text": [
      "\u001b[32m[I 2021-11-25 08:23:25,201]\u001b[0m Trial 2 finished with value: 0.9746304955216997 and parameters: {'n_estimators': 3464, 'depth': 9, 'learning_rate': 0.003307982168695265, 'reg_alpha': 0.20058106556780586, 'reg_lambda': 0.4490677404109781, 'subsample': 0.5232252063599989, 'boosting_type': 'gbdt', 'min_child_samples': 72, 'num_leaves': 244, 'colsample_bytree': 0.9041986740582306}. Best is trial 0 with value: 0.9906821713347577.\u001b[0m\n"
     ]
    },
    {
     "name": "stdout",
     "output_type": "stream",
     "text": [
      "Valid AUC score for lightgbm model is 0.9746304955216997\n",
      "FOLD 0\n",
      "---------------------------------------------------\n",
      "Fold 0 ROC AUC is: 0.9761897406510324\n",
      "FOLD 1\n",
      "---------------------------------------------------\n",
      "Fold 1 ROC AUC is: 0.9759999892691125\n",
      "FOLD 2\n",
      "---------------------------------------------------\n",
      "Fold 2 ROC AUC is: 0.9770231686475509\n",
      "FOLD 3\n",
      "---------------------------------------------------\n",
      "Fold 3 ROC AUC is: 0.9768574623195806\n",
      "FOLD 4\n",
      "---------------------------------------------------\n",
      "Fold 4 ROC AUC is: 0.9768660002273079\n"
     ]
    },
    {
     "name": "stderr",
     "output_type": "stream",
     "text": [
      "\u001b[32m[I 2021-11-25 08:35:34,975]\u001b[0m Trial 3 finished with value: 0.9765869597773804 and parameters: {'n_estimators': 2480, 'depth': 3, 'learning_rate': 0.06031361827702156, 'reg_alpha': 0.09345791438428568, 'reg_lambda': 0.0035186816415472676, 'subsample': 0.7475884550556351, 'boosting_type': 'dart', 'min_child_samples': 51, 'num_leaves': 112, 'colsample_bytree': 0.7600340105889054}. Best is trial 0 with value: 0.9906821713347577.\u001b[0m\n"
     ]
    },
    {
     "name": "stdout",
     "output_type": "stream",
     "text": [
      "Valid AUC score for lightgbm model is 0.9765869597773804\n",
      "FOLD 0\n",
      "---------------------------------------------------\n",
      "Fold 0 ROC AUC is: 0.9929266296453533\n",
      "FOLD 1\n",
      "---------------------------------------------------\n",
      "Fold 1 ROC AUC is: 0.9924724314361101\n",
      "FOLD 2\n",
      "---------------------------------------------------\n",
      "Fold 2 ROC AUC is: 0.9932513104582187\n",
      "FOLD 3\n",
      "---------------------------------------------------\n",
      "Fold 3 ROC AUC is: 0.9930512449589946\n",
      "FOLD 4\n",
      "---------------------------------------------------\n",
      "Fold 4 ROC AUC is: 0.9930240303158182\n"
     ]
    },
    {
     "name": "stderr",
     "output_type": "stream",
     "text": [
      "\u001b[32m[I 2021-11-25 09:02:44,036]\u001b[0m Trial 4 finished with value: 0.9929437775443701 and parameters: {'n_estimators': 4054, 'depth': 4, 'learning_rate': 0.3333629787709382, 'reg_alpha': 2.953681335681259, 'reg_lambda': 16.078690668199, 'subsample': 0.9474136752138245, 'boosting_type': 'dart', 'min_child_samples': 18, 'num_leaves': 59, 'colsample_bytree': 0.6626651653816322}. Best is trial 4 with value: 0.9929437775443701.\u001b[0m\n"
     ]
    },
    {
     "name": "stdout",
     "output_type": "stream",
     "text": [
      "Valid AUC score for lightgbm model is 0.9929437775443701\n",
      "FOLD 0\n",
      "---------------------------------------------------\n",
      "Fold 0 ROC AUC is: 0.990993067385092\n",
      "FOLD 1\n",
      "---------------------------------------------------\n",
      "Fold 1 ROC AUC is: 0.9906538623734071\n",
      "FOLD 2\n",
      "---------------------------------------------------\n",
      "Fold 2 ROC AUC is: 0.9914161027496824\n",
      "FOLD 3\n",
      "---------------------------------------------------\n",
      "Fold 3 ROC AUC is: 0.9913937062302001\n",
      "FOLD 4\n",
      "---------------------------------------------------\n",
      "Fold 4 ROC AUC is: 0.9912381471666043\n"
     ]
    },
    {
     "name": "stderr",
     "output_type": "stream",
     "text": [
      "\u001b[32m[I 2021-11-25 09:29:28,530]\u001b[0m Trial 5 finished with value: 0.9911380986699834 and parameters: {'n_estimators': 3026, 'depth': 5, 'learning_rate': 0.14335891845548843, 'reg_alpha': 0.039557414824905594, 'reg_lambda': 0.018104138546410155, 'subsample': 0.7713480415791243, 'boosting_type': 'dart', 'min_child_samples': 75, 'num_leaves': 205, 'colsample_bytree': 0.5993578407670862}. Best is trial 4 with value: 0.9929437775443701.\u001b[0m\n"
     ]
    },
    {
     "name": "stdout",
     "output_type": "stream",
     "text": [
      "Valid AUC score for lightgbm model is 0.9911380986699834\n",
      "FOLD 0\n",
      "---------------------------------------------------\n",
      "Fold 0 ROC AUC is: 0.9892936630635396\n",
      "FOLD 1\n",
      "---------------------------------------------------\n",
      "Fold 1 ROC AUC is: 0.9889958624158166\n",
      "FOLD 2\n",
      "---------------------------------------------------\n",
      "Fold 2 ROC AUC is: 0.9898090929581318\n",
      "FOLD 3\n",
      "---------------------------------------------------\n",
      "Fold 3 ROC AUC is: 0.9895781740505047\n",
      "FOLD 4\n",
      "---------------------------------------------------\n",
      "Fold 4 ROC AUC is: 0.9896616265671137\n"
     ]
    },
    {
     "name": "stderr",
     "output_type": "stream",
     "text": [
      "\u001b[32m[I 2021-11-25 09:31:27,815]\u001b[0m Trial 6 finished with value: 0.9894664873584803 and parameters: {'n_estimators': 535, 'depth': 9, 'learning_rate': 0.06906932535689181, 'reg_alpha': 1.8359188752396374, 'reg_lambda': 2.838382119353614, 'subsample': 0.5370223258670452, 'boosting_type': 'goss', 'min_child_samples': 48, 'num_leaves': 116, 'colsample_bytree': 0.5317791751430119}. Best is trial 4 with value: 0.9929437775443701.\u001b[0m\n"
     ]
    },
    {
     "name": "stdout",
     "output_type": "stream",
     "text": [
      "Valid AUC score for lightgbm model is 0.9894664873584803\n",
      "FOLD 0\n",
      "---------------------------------------------------\n",
      "Fold 0 ROC AUC is: 0.9931729454934503\n",
      "FOLD 1\n",
      "---------------------------------------------------\n",
      "Fold 1 ROC AUC is: 0.9928601086548227\n",
      "FOLD 2\n",
      "---------------------------------------------------\n",
      "Fold 2 ROC AUC is: 0.9935419583960817\n",
      "FOLD 3\n",
      "---------------------------------------------------\n",
      "Fold 3 ROC AUC is: 0.9933327406949306\n",
      "FOLD 4\n",
      "---------------------------------------------------\n",
      "Fold 4 ROC AUC is: 0.9934223407212207\n"
     ]
    },
    {
     "name": "stderr",
     "output_type": "stream",
     "text": [
      "\u001b[32m[I 2021-11-25 09:37:38,689]\u001b[0m Trial 7 finished with value: 0.9932645935822441 and parameters: {'n_estimators': 2521, 'depth': 5, 'learning_rate': 0.07915512627905745, 'reg_alpha': 0.715191107817528, 'reg_lambda': 9.37905380401463, 'subsample': 0.7361074625809747, 'boosting_type': 'goss', 'min_child_samples': 44, 'num_leaves': 204, 'colsample_bytree': 0.7468977981821954}. Best is trial 7 with value: 0.9932645935822441.\u001b[0m\n"
     ]
    },
    {
     "name": "stdout",
     "output_type": "stream",
     "text": [
      "Valid AUC score for lightgbm model is 0.9932645935822441\n",
      "FOLD 0\n",
      "---------------------------------------------------\n",
      "Fold 0 ROC AUC is: 0.9358760276697187\n",
      "FOLD 1\n",
      "---------------------------------------------------\n",
      "Fold 1 ROC AUC is: 0.9362773246082137\n",
      "FOLD 2\n",
      "---------------------------------------------------\n",
      "Fold 2 ROC AUC is: 0.9376433413185636\n",
      "FOLD 3\n",
      "---------------------------------------------------\n",
      "Fold 3 ROC AUC is: 0.9371479357489908\n",
      "FOLD 4\n",
      "---------------------------------------------------\n",
      "Fold 4 ROC AUC is: 0.9373216828461783\n"
     ]
    },
    {
     "name": "stderr",
     "output_type": "stream",
     "text": [
      "\u001b[32m[I 2021-11-25 09:47:35,036]\u001b[0m Trial 8 finished with value: 0.9368514358231737 and parameters: {'n_estimators': 3898, 'depth': 6, 'learning_rate': 0.0011645069711410827, 'reg_alpha': 0.0030411861290916427, 'reg_lambda': 0.0013826500550053445, 'subsample': 0.8182052056318903, 'boosting_type': 'goss', 'min_child_samples': 21, 'num_leaves': 132, 'colsample_bytree': 0.8777755692715243}. Best is trial 7 with value: 0.9932645935822441.\u001b[0m\n"
     ]
    },
    {
     "name": "stdout",
     "output_type": "stream",
     "text": [
      "Valid AUC score for lightgbm model is 0.9368514358231737\n",
      "FOLD 0\n",
      "---------------------------------------------------\n",
      "Fold 0 ROC AUC is: 0.8784136414412425\n",
      "FOLD 1\n",
      "---------------------------------------------------\n",
      "Fold 1 ROC AUC is: 0.8793826108984575\n",
      "FOLD 2\n",
      "---------------------------------------------------\n",
      "Fold 2 ROC AUC is: 0.8797928655559519\n",
      "FOLD 3\n",
      "---------------------------------------------------\n",
      "Fold 3 ROC AUC is: 0.8791346650963417\n",
      "FOLD 4\n",
      "---------------------------------------------------\n",
      "Fold 4 ROC AUC is: 0.8805616617316486\n"
     ]
    },
    {
     "name": "stderr",
     "output_type": "stream",
     "text": [
      "\u001b[32m[I 2021-11-25 09:57:48,282]\u001b[0m Trial 9 finished with value: 0.8794527551101787 and parameters: {'n_estimators': 1987, 'depth': 3, 'learning_rate': 0.005674801345779974, 'reg_alpha': 0.005269959187361842, 'reg_lambda': 14.533463349735559, 'subsample': 0.9040601897822085, 'boosting_type': 'dart', 'min_child_samples': 17, 'num_leaves': 229, 'colsample_bytree': 0.7696711209578253}. Best is trial 7 with value: 0.9932645935822441.\u001b[0m\n"
     ]
    },
    {
     "name": "stdout",
     "output_type": "stream",
     "text": [
      "Valid AUC score for lightgbm model is 0.8794527551101787\n",
      "FOLD 0\n",
      "---------------------------------------------------\n",
      "Fold 0 ROC AUC is: 0.992246564323338\n",
      "FOLD 1\n",
      "---------------------------------------------------\n",
      "Fold 1 ROC AUC is: 0.991834919140504\n",
      "FOLD 2\n",
      "---------------------------------------------------\n",
      "Fold 2 ROC AUC is: 0.9925750185833766\n",
      "FOLD 3\n",
      "---------------------------------------------------\n",
      "Fold 3 ROC AUC is: 0.9924391078634971\n",
      "FOLD 4\n",
      "---------------------------------------------------\n",
      "Fold 4 ROC AUC is: 0.9924712313178813\n"
     ]
    },
    {
     "name": "stderr",
     "output_type": "stream",
     "text": [
      "\u001b[32m[I 2021-11-25 10:08:09,350]\u001b[0m Trial 10 finished with value: 0.9923124012212711 and parameters: {'n_estimators': 5552, 'depth': 7, 'learning_rate': 0.01968601845234867, 'reg_alpha': 14.927150287453346, 'reg_lambda': 0.7340976592847724, 'subsample': 0.650282411524673, 'boosting_type': 'gbdt', 'min_child_samples': 32, 'num_leaves': 177, 'colsample_bytree': 0.8218563683119118}. Best is trial 7 with value: 0.9932645935822441.\u001b[0m\n"
     ]
    },
    {
     "name": "stdout",
     "output_type": "stream",
     "text": [
      "Valid AUC score for lightgbm model is 0.9923124012212711\n",
      "FOLD 0\n",
      "---------------------------------------------------\n",
      "Fold 0 ROC AUC is: 0.9928931585014347\n",
      "FOLD 1\n",
      "---------------------------------------------------\n",
      "Fold 1 ROC AUC is: 0.9925866711855008\n",
      "FOLD 2\n",
      "---------------------------------------------------\n",
      "Fold 2 ROC AUC is: 0.9932751192872071\n",
      "FOLD 3\n",
      "---------------------------------------------------\n",
      "Fold 3 ROC AUC is: 0.992990840317613\n",
      "FOLD 4\n",
      "---------------------------------------------------\n",
      "Fold 4 ROC AUC is: 0.9931364794188673\n"
     ]
    },
    {
     "name": "stderr",
     "output_type": "stream",
     "text": [
      "\u001b[32m[I 2021-11-25 10:19:14,343]\u001b[0m Trial 11 finished with value: 0.9929744576141271 and parameters: {'n_estimators': 4781, 'depth': 5, 'learning_rate': 0.30818280846099866, 'reg_alpha': 6.001503422337039, 'reg_lambda': 28.832323126425774, 'subsample': 0.9699490510561345, 'boosting_type': 'goss', 'min_child_samples': 5, 'num_leaves': 51, 'colsample_bytree': 0.6543384719166161}. Best is trial 7 with value: 0.9932645935822441.\u001b[0m\n"
     ]
    },
    {
     "name": "stdout",
     "output_type": "stream",
     "text": [
      "Valid AUC score for lightgbm model is 0.9929744576141271\n",
      "FOLD 0\n",
      "---------------------------------------------------\n",
      "Fold 0 ROC AUC is: 0.9924684754201374\n",
      "FOLD 1\n",
      "---------------------------------------------------\n",
      "Fold 1 ROC AUC is: 0.9920658923196168\n",
      "FOLD 2\n",
      "---------------------------------------------------\n",
      "Fold 2 ROC AUC is: 0.9926892763915478\n",
      "FOLD 3\n",
      "---------------------------------------------------\n",
      "Fold 3 ROC AUC is: 0.9925108376802054\n",
      "FOLD 4\n",
      "---------------------------------------------------\n",
      "Fold 4 ROC AUC is: 0.9925904368667149\n"
     ]
    },
    {
     "name": "stderr",
     "output_type": "stream",
     "text": [
      "\u001b[32m[I 2021-11-25 10:30:48,343]\u001b[0m Trial 12 finished with value: 0.9924641305853832 and parameters: {'n_estimators': 4949, 'depth': 7, 'learning_rate': 0.39241849646711907, 'reg_alpha': 14.755801074181763, 'reg_lambda': 27.50900907865833, 'subsample': 0.9952095027743605, 'boosting_type': 'goss', 'min_child_samples': 5, 'num_leaves': 170, 'colsample_bytree': 0.6678066329623739}. Best is trial 7 with value: 0.9932645935822441.\u001b[0m\n"
     ]
    },
    {
     "name": "stdout",
     "output_type": "stream",
     "text": [
      "Valid AUC score for lightgbm model is 0.9924641305853832\n",
      "FOLD 0\n",
      "---------------------------------------------------\n",
      "Fold 0 ROC AUC is: 0.9935176232112052\n",
      "FOLD 1\n",
      "---------------------------------------------------\n",
      "Fold 1 ROC AUC is: 0.993231021780859\n",
      "FOLD 2\n",
      "---------------------------------------------------\n",
      "Fold 2 ROC AUC is: 0.9938398383720668\n",
      "FOLD 3\n",
      "---------------------------------------------------\n",
      "Fold 3 ROC AUC is: 0.9937401426262703\n",
      "FOLD 4\n",
      "---------------------------------------------------\n",
      "Fold 4 ROC AUC is: 0.9937747011808574\n"
     ]
    },
    {
     "name": "stderr",
     "output_type": "stream",
     "text": [
      "\u001b[32m[I 2021-11-25 10:49:51,973]\u001b[0m Trial 13 finished with value: 0.9936192849224533 and parameters: {'n_estimators': 6996, 'depth': 6, 'learning_rate': 0.01963156520401458, 'reg_alpha': 1.9409134568319837, 'reg_lambda': 3.417541584486757, 'subsample': 0.6550186135528008, 'boosting_type': 'goss', 'min_child_samples': 35, 'num_leaves': 196, 'colsample_bytree': 0.5030739306557833}. Best is trial 13 with value: 0.9936192849224533.\u001b[0m\n"
     ]
    },
    {
     "name": "stdout",
     "output_type": "stream",
     "text": [
      "Valid AUC score for lightgbm model is 0.9936192849224533\n",
      "FOLD 0\n",
      "---------------------------------------------------\n",
      "Fold 0 ROC AUC is: 0.9934816230487151\n",
      "FOLD 1\n",
      "---------------------------------------------------\n",
      "Fold 1 ROC AUC is: 0.9932008121085609\n",
      "FOLD 2\n",
      "---------------------------------------------------\n",
      "Fold 2 ROC AUC is: 0.9937704164763204\n",
      "FOLD 3\n",
      "---------------------------------------------------\n",
      "Fold 3 ROC AUC is: 0.9937049729283499\n",
      "FOLD 4\n",
      "---------------------------------------------------\n",
      "Fold 4 ROC AUC is: 0.9937095719339516\n"
     ]
    },
    {
     "name": "stderr",
     "output_type": "stream",
     "text": [
      "\u001b[32m[I 2021-11-25 11:08:42,201]\u001b[0m Trial 14 finished with value: 0.9935719100710025 and parameters: {'n_estimators': 6994, 'depth': 6, 'learning_rate': 0.0183149714036468, 'reg_alpha': 0.910847801691823, 'reg_lambda': 2.0808113362814895, 'subsample': 0.6692512776487985, 'boosting_type': 'goss', 'min_child_samples': 36, 'num_leaves': 204, 'colsample_bytree': 0.50753200725236}. Best is trial 13 with value: 0.9936192849224533.\u001b[0m\n"
     ]
    },
    {
     "name": "stdout",
     "output_type": "stream",
     "text": [
      "Valid AUC score for lightgbm model is 0.9935719100710025\n",
      "FOLD 0\n",
      "---------------------------------------------------\n",
      "Fold 0 ROC AUC is: 0.9929111387118192\n",
      "FOLD 1\n",
      "---------------------------------------------------\n",
      "Fold 1 ROC AUC is: 0.9926079283508095\n",
      "FOLD 2\n",
      "---------------------------------------------------\n",
      "Fold 2 ROC AUC is: 0.9932931578286592\n",
      "FOLD 3\n",
      "---------------------------------------------------\n",
      "Fold 3 ROC AUC is: 0.9930860277185211\n",
      "FOLD 4\n",
      "---------------------------------------------------\n",
      "Fold 4 ROC AUC is: 0.9932025019284941\n"
     ]
    },
    {
     "name": "stderr",
     "output_type": "stream",
     "text": [
      "\u001b[32m[I 2021-11-25 11:34:54,852]\u001b[0m Trial 15 finished with value: 0.9930187137478075 and parameters: {'n_estimators': 6910, 'depth': 8, 'learning_rate': 0.011069507848271539, 'reg_alpha': 1.0703453514465378, 'reg_lambda': 2.356883830548438, 'subsample': 0.6478747296532557, 'boosting_type': 'goss', 'min_child_samples': 33, 'num_leaves': 203, 'colsample_bytree': 0.5062188031524422}. Best is trial 13 with value: 0.9936192849224533.\u001b[0m\n"
     ]
    },
    {
     "name": "stdout",
     "output_type": "stream",
     "text": [
      "Valid AUC score for lightgbm model is 0.9930187137478075\n",
      "FOLD 0\n",
      "---------------------------------------------------\n",
      "Fold 0 ROC AUC is: 0.9935753643180689\n",
      "FOLD 1\n",
      "---------------------------------------------------\n",
      "Fold 1 ROC AUC is: 0.993300977437204\n",
      "FOLD 2\n",
      "---------------------------------------------------\n",
      "Fold 2 ROC AUC is: 0.9939667243822443\n",
      "FOLD 3\n",
      "---------------------------------------------------\n",
      "Fold 3 ROC AUC is: 0.9938449726320309\n",
      "FOLD 4\n",
      "---------------------------------------------------\n",
      "Fold 4 ROC AUC is: 0.9938472219405414\n"
     ]
    },
    {
     "name": "stderr",
     "output_type": "stream",
     "text": [
      "\u001b[32m[I 2021-11-25 11:53:54,169]\u001b[0m Trial 16 finished with value: 0.9937060228845789 and parameters: {'n_estimators': 6946, 'depth': 6, 'learning_rate': 0.024001882678007305, 'reg_alpha': 0.04018348236379495, 'reg_lambda': 0.09504349244585986, 'subsample': 0.669389091893536, 'boosting_type': 'goss', 'min_child_samples': 33, 'num_leaves': 170, 'colsample_bytree': 0.5634064431116342}. Best is trial 16 with value: 0.9937060228845789.\u001b[0m\n"
     ]
    },
    {
     "name": "stdout",
     "output_type": "stream",
     "text": [
      "Valid AUC score for lightgbm model is 0.9937060228845789\n",
      "FOLD 0\n",
      "---------------------------------------------------\n",
      "Fold 0 ROC AUC is: 0.9925409373604848\n",
      "FOLD 1\n",
      "---------------------------------------------------\n",
      "Fold 1 ROC AUC is: 0.9923434036341526\n",
      "FOLD 2\n",
      "---------------------------------------------------\n",
      "Fold 2 ROC AUC is: 0.9928643618136433\n",
      "FOLD 3\n",
      "---------------------------------------------------\n",
      "Fold 3 ROC AUC is: 0.9928319195488364\n",
      "FOLD 4\n",
      "---------------------------------------------------\n",
      "Fold 4 ROC AUC is: 0.9927445399721945\n"
     ]
    },
    {
     "name": "stderr",
     "output_type": "stream",
     "text": [
      "\u001b[32m[I 2021-11-25 12:10:31,230]\u001b[0m Trial 17 finished with value: 0.9926640194613001 and parameters: {'n_estimators': 6244, 'depth': 8, 'learning_rate': 0.0353155952387274, 'reg_alpha': 0.019003292869363628, 'reg_lambda': 0.09680920628345868, 'subsample': 0.5998836886989465, 'boosting_type': 'gbdt', 'min_child_samples': 63, 'num_leaves': 163, 'colsample_bytree': 0.5897109181851058}. Best is trial 16 with value: 0.9937060228845789.\u001b[0m\n"
     ]
    },
    {
     "name": "stdout",
     "output_type": "stream",
     "text": [
      "Valid AUC score for lightgbm model is 0.9926640194613001\n",
      "FOLD 0\n",
      "---------------------------------------------------\n",
      "Fold 0 ROC AUC is: 0.9917271761664886\n",
      "FOLD 1\n",
      "---------------------------------------------------\n",
      "Fold 1 ROC AUC is: 0.9914290213752399\n",
      "FOLD 2\n",
      "---------------------------------------------------\n",
      "Fold 2 ROC AUC is: 0.9921596154168508\n",
      "FOLD 3\n",
      "---------------------------------------------------\n",
      "Fold 3 ROC AUC is: 0.9920279043736241\n",
      "FOLD 4\n",
      "---------------------------------------------------\n",
      "Fold 4 ROC AUC is: 0.9921328075910243\n"
     ]
    },
    {
     "name": "stderr",
     "output_type": "stream",
     "text": [
      "\u001b[32m[I 2021-11-25 12:27:35,698]\u001b[0m Trial 18 finished with value: 0.9918947179926727 and parameters: {'n_estimators': 6280, 'depth': 6, 'learning_rate': 0.009577594819091517, 'reg_alpha': 0.17581655587817416, 'reg_lambda': 0.08579849555372537, 'subsample': 0.6934275487017645, 'boosting_type': 'goss', 'min_child_samples': 27, 'num_leaves': 147, 'colsample_bytree': 0.5809158197729989}. Best is trial 16 with value: 0.9937060228845789.\u001b[0m\n"
     ]
    },
    {
     "name": "stdout",
     "output_type": "stream",
     "text": [
      "Valid AUC score for lightgbm model is 0.9918947179926727\n",
      "FOLD 0\n",
      "---------------------------------------------------\n",
      "Fold 0 ROC AUC is: 0.9933780427854633\n",
      "FOLD 1\n",
      "---------------------------------------------------\n",
      "Fold 1 ROC AUC is: 0.9931432534072879\n",
      "FOLD 2\n",
      "---------------------------------------------------\n",
      "Fold 2 ROC AUC is: 0.9937567139890866\n",
      "FOLD 3\n",
      "---------------------------------------------------\n",
      "Fold 3 ROC AUC is: 0.9935354358153569\n",
      "FOLD 4\n",
      "---------------------------------------------------\n",
      "Fold 4 ROC AUC is: 0.9936281674625004\n"
     ]
    },
    {
     "name": "stderr",
     "output_type": "stream",
     "text": [
      "\u001b[32m[I 2021-11-25 12:43:53,553]\u001b[0m Trial 19 finished with value: 0.9934870829555754 and parameters: {'n_estimators': 5185, 'depth': 7, 'learning_rate': 0.02610649226244401, 'reg_alpha': 0.0011097317394701681, 'reg_lambda': 0.33998114483779573, 'subsample': 0.8425054101541489, 'boosting_type': 'goss', 'min_child_samples': 41, 'num_leaves': 85, 'colsample_bytree': 0.5565757572232559}. Best is trial 16 with value: 0.9937060228845789.\u001b[0m\n"
     ]
    },
    {
     "name": "stdout",
     "output_type": "stream",
     "text": [
      "Valid AUC score for lightgbm model is 0.9934870829555754\n",
      "FOLD 0\n",
      "---------------------------------------------------\n",
      "Fold 0 ROC AUC is: 0.9899150726632933\n",
      "FOLD 1\n",
      "---------------------------------------------------\n",
      "Fold 1 ROC AUC is: 0.9897116320714505\n",
      "FOLD 2\n",
      "---------------------------------------------------\n",
      "Fold 2 ROC AUC is: 0.9904638235254217\n",
      "FOLD 3\n",
      "---------------------------------------------------\n",
      "Fold 3 ROC AUC is: 0.9903178432053911\n",
      "FOLD 4\n",
      "---------------------------------------------------\n",
      "Fold 4 ROC AUC is: 0.9904224585040529\n"
     ]
    },
    {
     "name": "stderr",
     "output_type": "stream",
     "text": [
      "\u001b[32m[I 2021-11-25 12:56:05,038]\u001b[0m Trial 20 finished with value: 0.9901648761996428 and parameters: {'n_estimators': 4504, 'depth': 8, 'learning_rate': 0.011010386742202014, 'reg_alpha': 0.043566350291598825, 'reg_lambda': 0.033792672686556044, 'subsample': 0.6014458576125156, 'boosting_type': 'gbdt', 'min_child_samples': 27, 'num_leaves': 184, 'colsample_bytree': 0.617683261540186}. Best is trial 16 with value: 0.9937060228845789.\u001b[0m\n"
     ]
    },
    {
     "name": "stdout",
     "output_type": "stream",
     "text": [
      "Valid AUC score for lightgbm model is 0.9901648761996428\n",
      "FOLD 0\n",
      "---------------------------------------------------\n",
      "Fold 0 ROC AUC is: 0.9934214646447599\n",
      "FOLD 1\n",
      "---------------------------------------------------\n",
      "Fold 1 ROC AUC is: 0.9931135702712827\n",
      "FOLD 2\n",
      "---------------------------------------------------\n",
      "Fold 2 ROC AUC is: 0.9937051991634047\n",
      "FOLD 3\n",
      "---------------------------------------------------\n",
      "Fold 3 ROC AUC is: 0.9936565369697535\n",
      "FOLD 4\n",
      "---------------------------------------------------\n",
      "Fold 4 ROC AUC is: 0.9936136593083906\n"
     ]
    },
    {
     "name": "stderr",
     "output_type": "stream",
     "text": [
      "\u001b[32m[I 2021-11-25 13:13:38,271]\u001b[0m Trial 21 finished with value: 0.9935002795029393 and parameters: {'n_estimators': 6999, 'depth': 6, 'learning_rate': 0.016912885113668154, 'reg_alpha': 0.3863849263710183, 'reg_lambda': 1.8842266935876992, 'subsample': 0.6964779062735262, 'boosting_type': 'goss', 'min_child_samples': 38, 'num_leaves': 228, 'colsample_bytree': 0.5119262474486286}. Best is trial 16 with value: 0.9937060228845789.\u001b[0m\n"
     ]
    },
    {
     "name": "stdout",
     "output_type": "stream",
     "text": [
      "Valid AUC score for lightgbm model is 0.9935002795029393\n",
      "FOLD 0\n",
      "---------------------------------------------------\n",
      "Fold 0 ROC AUC is: 0.9936841235111094\n",
      "FOLD 1\n",
      "---------------------------------------------------\n",
      "Fold 1 ROC AUC is: 0.9933807465735577\n",
      "FOLD 2\n",
      "---------------------------------------------------\n",
      "Fold 2 ROC AUC is: 0.9940214709580798\n",
      "FOLD 3\n",
      "---------------------------------------------------\n",
      "Fold 3 ROC AUC is: 0.9939211703085158\n",
      "FOLD 4\n",
      "---------------------------------------------------\n",
      "Fold 4 ROC AUC is: 0.9938928178051916\n"
     ]
    },
    {
     "name": "stderr",
     "output_type": "stream",
     "text": [
      "\u001b[32m[I 2021-11-25 13:29:42,436]\u001b[0m Trial 22 finished with value: 0.9937789687468572 and parameters: {'n_estimators': 6432, 'depth': 6, 'learning_rate': 0.042702330370049044, 'reg_alpha': 3.5975494701582527, 'reg_lambda': 5.306456605717373, 'subsample': 0.6576265185552508, 'boosting_type': 'goss', 'min_child_samples': 37, 'num_leaves': 197, 'colsample_bytree': 0.5486158158268746}. Best is trial 22 with value: 0.9937789687468572.\u001b[0m\n"
     ]
    },
    {
     "name": "stdout",
     "output_type": "stream",
     "text": [
      "Valid AUC score for lightgbm model is 0.9937789687468572\n",
      "FOLD 0\n",
      "---------------------------------------------------\n",
      "Fold 0 ROC AUC is: 0.9938360452695647\n",
      "FOLD 1\n",
      "---------------------------------------------------\n",
      "Fold 1 ROC AUC is: 0.9934982800938026\n",
      "FOLD 2\n",
      "---------------------------------------------------\n",
      "Fold 2 ROC AUC is: 0.9941113351258476\n",
      "FOLD 3\n",
      "---------------------------------------------------\n",
      "Fold 3 ROC AUC is: 0.9940027092358942\n",
      "FOLD 4\n",
      "---------------------------------------------------\n"
     ]
    },
    {
     "name": "stderr",
     "output_type": "stream",
     "text": [
      "\u001b[32m[I 2021-11-25 13:43:47,210]\u001b[0m Trial 23 finished with value: 0.9938871782961168 and parameters: {'n_estimators': 6332, 'depth': 5, 'learning_rate': 0.039228153535393044, 'reg_alpha': 4.256874227894581, 'reg_lambda': 4.1858547895180305, 'subsample': 0.6073258620775086, 'boosting_type': 'goss', 'min_child_samples': 26, 'num_leaves': 187, 'colsample_bytree': 0.5556238564211342}. Best is trial 23 with value: 0.9938871782961168.\u001b[0m\n"
     ]
    },
    {
     "name": "stdout",
     "output_type": "stream",
     "text": [
      "Fold 4 ROC AUC is: 0.9939939688301825\n",
      "Valid AUC score for lightgbm model is 0.9938871782961168\n",
      "FOLD 0\n",
      "---------------------------------------------------\n",
      "Fold 0 ROC AUC is: 0.9937156717671716\n",
      "FOLD 1\n",
      "---------------------------------------------------\n",
      "Fold 1 ROC AUC is: 0.9933713239647357\n",
      "FOLD 2\n",
      "---------------------------------------------------\n",
      "Fold 2 ROC AUC is: 0.9940027742258336\n",
      "FOLD 3\n",
      "---------------------------------------------------\n",
      "Fold 3 ROC AUC is: 0.9939220298009832\n",
      "FOLD 4\n",
      "---------------------------------------------------\n",
      "Fold 4 ROC AUC is: 0.9938637067232986\n"
     ]
    },
    {
     "name": "stderr",
     "output_type": "stream",
     "text": [
      "\u001b[32m[I 2021-11-25 13:56:11,765]\u001b[0m Trial 24 finished with value: 0.993773786430725 and parameters: {'n_estimators': 6220, 'depth': 4, 'learning_rate': 0.03565121821687615, 'reg_alpha': 6.0102712089200985, 'reg_lambda': 7.0877303887262695, 'subsample': 0.568130094640297, 'boosting_type': 'goss', 'min_child_samples': 26, 'num_leaves': 155, 'colsample_bytree': 0.7098881945164772}. Best is trial 23 with value: 0.9938871782961168.\u001b[0m\n"
     ]
    },
    {
     "name": "stdout",
     "output_type": "stream",
     "text": [
      "Valid AUC score for lightgbm model is 0.993773786430725\n",
      "FOLD 0\n",
      "---------------------------------------------------\n",
      "Fold 0 ROC AUC is: 0.9936332196476401\n",
      "FOLD 1\n",
      "---------------------------------------------------\n",
      "Fold 1 ROC AUC is: 0.9932662988784715\n",
      "FOLD 2\n",
      "---------------------------------------------------\n",
      "Fold 2 ROC AUC is: 0.9939794851674468\n",
      "FOLD 3\n",
      "---------------------------------------------------\n",
      "Fold 3 ROC AUC is: 0.9938208070506401\n",
      "FOLD 4\n",
      "---------------------------------------------------\n",
      "Fold 4 ROC AUC is: 0.9938803880016199\n"
     ]
    },
    {
     "name": "stderr",
     "output_type": "stream",
     "text": [
      "\u001b[32m[I 2021-11-25 14:07:29,616]\u001b[0m Trial 25 finished with value: 0.9937144258048078 and parameters: {'n_estimators': 5680, 'depth': 4, 'learning_rate': 0.0430709714757033, 'reg_alpha': 27.322790933678814, 'reg_lambda': 6.273718214966713, 'subsample': 0.5679212308379363, 'boosting_type': 'goss', 'min_child_samples': 23, 'num_leaves': 140, 'colsample_bytree': 0.7130151390125061}. Best is trial 23 with value: 0.9938871782961168.\u001b[0m\n"
     ]
    },
    {
     "name": "stdout",
     "output_type": "stream",
     "text": [
      "Valid AUC score for lightgbm model is 0.9937144258048078\n",
      "FOLD 0\n",
      "---------------------------------------------------\n",
      "Fold 0 ROC AUC is: 0.9934004326593278\n",
      "FOLD 1\n",
      "---------------------------------------------------\n",
      "Fold 1 ROC AUC is: 0.9931280742055326\n",
      "FOLD 2\n",
      "---------------------------------------------------\n",
      "Fold 2 ROC AUC is: 0.9936906761612957\n",
      "FOLD 3\n",
      "---------------------------------------------------\n",
      "Fold 3 ROC AUC is: 0.9935345287895091\n",
      "FOLD 4\n",
      "---------------------------------------------------\n"
     ]
    },
    {
     "name": "stderr",
     "output_type": "stream",
     "text": [
      "\u001b[32m[I 2021-11-25 14:21:13,191]\u001b[0m Trial 26 finished with value: 0.993468055528465 and parameters: {'n_estimators': 6331, 'depth': 5, 'learning_rate': 0.1514584265522447, 'reg_alpha': 5.284671407641339, 'reg_lambda': 1.0435654605736797, 'subsample': 0.5071917432825632, 'boosting_type': 'goss', 'min_child_samples': 11, 'num_leaves': 160, 'colsample_bytree': 0.6315160564038322}. Best is trial 23 with value: 0.9938871782961168.\u001b[0m\n"
     ]
    },
    {
     "name": "stdout",
     "output_type": "stream",
     "text": [
      "Fold 4 ROC AUC is: 0.9935924027684278\n",
      "Valid AUC score for lightgbm model is 0.993468055528465\n",
      "FOLD 0\n",
      "---------------------------------------------------\n",
      "Fold 0 ROC AUC is: 0.993716227595429\n",
      "FOLD 1\n",
      "---------------------------------------------------\n",
      "Fold 1 ROC AUC is: 0.9934536712941094\n",
      "FOLD 2\n",
      "---------------------------------------------------\n",
      "Fold 2 ROC AUC is: 0.9940259665568572\n",
      "FOLD 3\n",
      "---------------------------------------------------\n",
      "Fold 3 ROC AUC is: 0.993882090642598\n",
      "FOLD 4\n",
      "---------------------------------------------------\n",
      "Fold 4 ROC AUC is: 0.9939064313069368\n"
     ]
    },
    {
     "name": "stderr",
     "output_type": "stream",
     "text": [
      "\u001b[32m[I 2021-11-25 14:31:53,763]\u001b[0m Trial 27 finished with value: 0.9937954449354625 and parameters: {'n_estimators': 5364, 'depth': 4, 'learning_rate': 0.1285914135259823, 'reg_alpha': 5.908270864227854, 'reg_lambda': 6.1993171210243645, 'subsample': 0.6143326174848036, 'boosting_type': 'goss', 'min_child_samples': 26, 'num_leaves': 221, 'colsample_bytree': 0.7063913574201149}. Best is trial 23 with value: 0.9938871782961168.\u001b[0m\n"
     ]
    },
    {
     "name": "stdout",
     "output_type": "stream",
     "text": [
      "Valid AUC score for lightgbm model is 0.9937954449354625\n",
      "FOLD 0\n",
      "---------------------------------------------------\n",
      "Fold 0 ROC AUC is: 0.9939148908974481\n",
      "FOLD 1\n",
      "---------------------------------------------------\n",
      "Fold 1 ROC AUC is: 0.9935191013515575\n",
      "FOLD 2\n",
      "---------------------------------------------------\n",
      "Fold 2 ROC AUC is: 0.9941260551960618\n",
      "FOLD 3\n",
      "---------------------------------------------------\n",
      "Fold 3 ROC AUC is: 0.9940404643605416\n",
      "FOLD 4\n",
      "---------------------------------------------------\n",
      "Fold 4 ROC AUC is: 0.9939835826360663\n"
     ]
    },
    {
     "name": "stderr",
     "output_type": "stream",
     "text": [
      "\u001b[32m[I 2021-11-25 14:34:30,440]\u001b[0m Trial 28 finished with value: 0.9939150929148137 and parameters: {'n_estimators': 5357, 'depth': 3, 'learning_rate': 0.12633111739584915, 'reg_alpha': 10.796069649362927, 'reg_lambda': 5.098286088614952, 'subsample': 0.631111661978786, 'boosting_type': 'gbdt', 'min_child_samples': 46, 'num_leaves': 222, 'colsample_bytree': 0.8155590060204037}. Best is trial 28 with value: 0.9939150929148137.\u001b[0m\n"
     ]
    },
    {
     "name": "stdout",
     "output_type": "stream",
     "text": [
      "Valid AUC score for lightgbm model is 0.9939150929148137\n",
      "FOLD 0\n",
      "---------------------------------------------------\n",
      "Fold 0 ROC AUC is: 0.9938774514176859\n",
      "FOLD 1\n",
      "---------------------------------------------------\n",
      "Fold 1 ROC AUC is: 0.9934666284237482\n",
      "FOLD 2\n",
      "---------------------------------------------------\n",
      "Fold 2 ROC AUC is: 0.9941183675942947\n",
      "FOLD 3\n",
      "---------------------------------------------------\n",
      "Fold 3 ROC AUC is: 0.9940150673588304\n",
      "FOLD 4\n",
      "---------------------------------------------------\n",
      "Fold 4 ROC AUC is: 0.9939942261921239\n"
     ]
    },
    {
     "name": "stderr",
     "output_type": "stream",
     "text": [
      "\u001b[32m[I 2021-11-25 14:37:08,135]\u001b[0m Trial 29 finished with value: 0.9938930393281679 and parameters: {'n_estimators': 5321, 'depth': 3, 'learning_rate': 0.1369539478402081, 'reg_alpha': 11.638339421962629, 'reg_lambda': 1.1226656896285823, 'subsample': 0.6098478005258473, 'boosting_type': 'gbdt', 'min_child_samples': 56, 'num_leaves': 220, 'colsample_bytree': 0.9698707456902115}. Best is trial 28 with value: 0.9939150929148137.\u001b[0m\n"
     ]
    },
    {
     "name": "stdout",
     "output_type": "stream",
     "text": [
      "Valid AUC score for lightgbm model is 0.9938930393281679\n",
      "FOLD 0\n",
      "---------------------------------------------------\n",
      "Fold 0 ROC AUC is: 0.9938609019092359\n",
      "FOLD 1\n",
      "---------------------------------------------------\n",
      "Fold 1 ROC AUC is: 0.9934768380569869\n",
      "FOLD 2\n",
      "---------------------------------------------------\n",
      "Fold 2 ROC AUC is: 0.9940793939715823\n",
      "FOLD 3\n",
      "---------------------------------------------------\n",
      "Fold 3 ROC AUC is: 0.9940114025630054\n",
      "FOLD 4\n",
      "---------------------------------------------------\n",
      "Fold 4 ROC AUC is: 0.9939857040655466\n"
     ]
    },
    {
     "name": "stderr",
     "output_type": "stream",
     "text": [
      "\u001b[32m[I 2021-11-25 14:39:35,525]\u001b[0m Trial 30 finished with value: 0.9938813734660931 and parameters: {'n_estimators': 4389, 'depth': 3, 'learning_rate': 0.20887591632590452, 'reg_alpha': 28.417155336593876, 'reg_lambda': 1.1639122672863507, 'subsample': 0.5472987942580847, 'boosting_type': 'gbdt', 'min_child_samples': 59, 'num_leaves': 249, 'colsample_bytree': 0.9907672213497578}. Best is trial 28 with value: 0.9939150929148137.\u001b[0m\n"
     ]
    },
    {
     "name": "stdout",
     "output_type": "stream",
     "text": [
      "Valid AUC score for lightgbm model is 0.9938813734660931\n",
      "FOLD 0\n",
      "---------------------------------------------------\n",
      "Fold 0 ROC AUC is: 0.9938859453072015\n",
      "FOLD 1\n",
      "---------------------------------------------------\n",
      "Fold 1 ROC AUC is: 0.9934921020494334\n",
      "FOLD 2\n",
      "---------------------------------------------------\n",
      "Fold 2 ROC AUC is: 0.9941472301500652\n",
      "FOLD 3\n",
      "---------------------------------------------------\n",
      "Fold 3 ROC AUC is: 0.9939698989726647\n",
      "FOLD 4\n",
      "---------------------------------------------------\n",
      "Fold 4 ROC AUC is: 0.993966320764769\n"
     ]
    },
    {
     "name": "stderr",
     "output_type": "stream",
     "text": [
      "\u001b[32m[I 2021-11-25 14:41:50,251]\u001b[0m Trial 31 finished with value: 0.9938908023651742 and parameters: {'n_estimators': 4444, 'depth': 3, 'learning_rate': 0.2109906887133111, 'reg_alpha': 26.88149112411219, 'reg_lambda': 1.2845171221623422, 'subsample': 0.5571331767160065, 'boosting_type': 'gbdt', 'min_child_samples': 57, 'num_leaves': 234, 'colsample_bytree': 0.9935042183113181}. Best is trial 28 with value: 0.9939150929148137.\u001b[0m\n"
     ]
    },
    {
     "name": "stdout",
     "output_type": "stream",
     "text": [
      "Valid AUC score for lightgbm model is 0.9938908023651742\n",
      "FOLD 0\n",
      "---------------------------------------------------\n",
      "Fold 0 ROC AUC is: 0.9937301888895986\n",
      "FOLD 1\n",
      "---------------------------------------------------\n",
      "Fold 1 ROC AUC is: 0.9933771083578956\n",
      "FOLD 2\n",
      "---------------------------------------------------\n",
      "Fold 2 ROC AUC is: 0.9940009111122807\n",
      "FOLD 3\n",
      "---------------------------------------------------\n",
      "Fold 3 ROC AUC is: 0.9938998736862961\n",
      "FOLD 4\n",
      "---------------------------------------------------\n",
      "Fold 4 ROC AUC is: 0.993906193955859\n"
     ]
    },
    {
     "name": "stderr",
     "output_type": "stream",
     "text": [
      "\u001b[32m[I 2021-11-25 14:44:19,650]\u001b[0m Trial 32 finished with value: 0.9937816068511272 and parameters: {'n_estimators': 5007, 'depth': 3, 'learning_rate': 0.10871307872503243, 'reg_alpha': 17.205287572057173, 'reg_lambda': 0.29463031826810043, 'subsample': 0.6149534854705688, 'boosting_type': 'gbdt', 'min_child_samples': 58, 'num_leaves': 220, 'colsample_bytree': 0.9474166493836645}. Best is trial 28 with value: 0.9939150929148137.\u001b[0m\n"
     ]
    },
    {
     "name": "stdout",
     "output_type": "stream",
     "text": [
      "Valid AUC score for lightgbm model is 0.9937816068511272\n",
      "FOLD 0\n",
      "---------------------------------------------------\n",
      "Fold 0 ROC AUC is: 0.9938903527473684\n",
      "FOLD 1\n",
      "---------------------------------------------------\n",
      "Fold 1 ROC AUC is: 0.9934454524351013\n",
      "FOLD 2\n",
      "---------------------------------------------------\n",
      "Fold 2 ROC AUC is: 0.9941291123922378\n",
      "FOLD 3\n",
      "---------------------------------------------------\n",
      "Fold 3 ROC AUC is: 0.9939718848116648\n",
      "FOLD 4\n",
      "---------------------------------------------------\n",
      "Fold 4 ROC AUC is: 0.9939668068619996\n"
     ]
    },
    {
     "name": "stderr",
     "output_type": "stream",
     "text": [
      "\u001b[32m[I 2021-11-25 14:47:09,327]\u001b[0m Trial 33 finished with value: 0.9938791795190529 and parameters: {'n_estimators': 5722, 'depth': 3, 'learning_rate': 0.20022886371437987, 'reg_alpha': 9.848192852439258, 'reg_lambda': 0.7075959709167919, 'subsample': 0.5822187865523281, 'boosting_type': 'gbdt', 'min_child_samples': 66, 'num_leaves': 239, 'colsample_bytree': 0.947060430077681}. Best is trial 28 with value: 0.9939150929148137.\u001b[0m\n"
     ]
    },
    {
     "name": "stdout",
     "output_type": "stream",
     "text": [
      "Valid AUC score for lightgbm model is 0.9938791795190529\n",
      "FOLD 0\n",
      "---------------------------------------------------\n",
      "Fold 0 ROC AUC is: 0.9934100290341921\n",
      "FOLD 1\n",
      "---------------------------------------------------\n",
      "Fold 1 ROC AUC is: 0.9930397931957818\n",
      "FOLD 2\n",
      "---------------------------------------------------\n",
      "Fold 2 ROC AUC is: 0.9936633178827965\n",
      "FOLD 3\n",
      "---------------------------------------------------\n",
      "Fold 3 ROC AUC is: 0.9935307628115176\n",
      "FOLD 4\n",
      "---------------------------------------------------\n",
      "Fold 4 ROC AUC is: 0.9935111914573969\n"
     ]
    },
    {
     "name": "stderr",
     "output_type": "stream",
     "text": [
      "\u001b[32m[I 2021-11-25 14:49:54,256]\u001b[0m Trial 34 finished with value: 0.993429448504611 and parameters: {'n_estimators': 4418, 'depth': 4, 'learning_rate': 0.22006029358539614, 'reg_alpha': 9.61588066960527, 'reg_lambda': 1.242481233785972, 'subsample': 0.5023937774212612, 'boosting_type': 'gbdt', 'min_child_samples': 53, 'num_leaves': 217, 'colsample_bytree': 0.8737316024976155}. Best is trial 28 with value: 0.9939150929148137.\u001b[0m\n"
     ]
    },
    {
     "name": "stdout",
     "output_type": "stream",
     "text": [
      "Valid AUC score for lightgbm model is 0.993429448504611\n",
      "FOLD 0\n",
      "---------------------------------------------------\n",
      "Fold 0 ROC AUC is: 0.9933350733703679\n",
      "FOLD 1\n",
      "---------------------------------------------------\n",
      "Fold 1 ROC AUC is: 0.9929736489505112\n",
      "FOLD 2\n",
      "---------------------------------------------------\n",
      "Fold 2 ROC AUC is: 0.9936819762576399\n",
      "FOLD 3\n",
      "---------------------------------------------------\n",
      "Fold 3 ROC AUC is: 0.993543100364453\n",
      "FOLD 4\n",
      "---------------------------------------------------\n",
      "Fold 4 ROC AUC is: 0.9935298560346538\n"
     ]
    },
    {
     "name": "stderr",
     "output_type": "stream",
     "text": [
      "\u001b[32m[I 2021-11-25 14:51:44,244]\u001b[0m Trial 35 finished with value: 0.9934113032992375 and parameters: {'n_estimators': 3552, 'depth': 3, 'learning_rate': 0.10994778400432624, 'reg_alpha': 28.69751796351957, 'reg_lambda': 0.5336150792340169, 'subsample': 0.6286759603958362, 'boosting_type': 'gbdt', 'min_child_samples': 49, 'num_leaves': 236, 'colsample_bytree': 0.9338445611948377}. Best is trial 28 with value: 0.9939150929148137.\u001b[0m\n"
     ]
    },
    {
     "name": "stdout",
     "output_type": "stream",
     "text": [
      "Valid AUC score for lightgbm model is 0.9934113032992375\n",
      "FOLD 0\n",
      "---------------------------------------------------\n",
      "Fold 0 ROC AUC is: 0.9933379225460156\n",
      "FOLD 1\n",
      "---------------------------------------------------\n",
      "Fold 1 ROC AUC is: 0.9929995178954193\n",
      "FOLD 2\n",
      "---------------------------------------------------\n",
      "Fold 2 ROC AUC is: 0.9937049990378254\n",
      "FOLD 3\n",
      "---------------------------------------------------\n",
      "Fold 3 ROC AUC is: 0.9935536675074517\n",
      "FOLD 4\n",
      "---------------------------------------------------\n",
      "Fold 4 ROC AUC is: 0.9935620993725729\n"
     ]
    },
    {
     "name": "stderr",
     "output_type": "stream",
     "text": [
      "\u001b[32m[I 2021-11-25 14:54:34,567]\u001b[0m Trial 36 finished with value: 0.9934303513059629 and parameters: {'n_estimators': 5798, 'depth': 3, 'learning_rate': 0.05537155692343268, 'reg_alpha': 2.2953077270316538, 'reg_lambda': 0.19487919435997453, 'subsample': 0.7115054012333606, 'boosting_type': 'gbdt', 'min_child_samples': 45, 'num_leaves': 187, 'colsample_bytree': 0.8199030463809348}. Best is trial 28 with value: 0.9939150929148137.\u001b[0m\n"
     ]
    },
    {
     "name": "stdout",
     "output_type": "stream",
     "text": [
      "Valid AUC score for lightgbm model is 0.9934303513059629\n",
      "FOLD 0\n",
      "---------------------------------------------------\n",
      "Fold 0 ROC AUC is: 0.99349793660807\n",
      "FOLD 1\n",
      "---------------------------------------------------\n",
      "Fold 1 ROC AUC is: 0.9930460938391508\n",
      "FOLD 2\n",
      "---------------------------------------------------\n",
      "Fold 2 ROC AUC is: 0.9937556552691819\n",
      "FOLD 3\n",
      "---------------------------------------------------\n",
      "Fold 3 ROC AUC is: 0.9936186481401007\n",
      "FOLD 4\n",
      "---------------------------------------------------\n",
      "Fold 4 ROC AUC is: 0.9935960205658272\n"
     ]
    },
    {
     "name": "stderr",
     "output_type": "stream",
     "text": [
      "\u001b[32m[I 2021-11-25 14:57:26,108]\u001b[0m Trial 37 finished with value: 0.9935008837497821 and parameters: {'n_estimators': 4071, 'depth': 4, 'learning_rate': 0.09850113537269795, 'reg_alpha': 10.06981095619269, 'reg_lambda': 13.257310795940134, 'subsample': 0.5375752558105813, 'boosting_type': 'gbdt', 'min_child_samples': 67, 'num_leaves': 249, 'colsample_bytree': 0.9750963399021493}. Best is trial 28 with value: 0.9939150929148137.\u001b[0m\n"
     ]
    },
    {
     "name": "stdout",
     "output_type": "stream",
     "text": [
      "Valid AUC score for lightgbm model is 0.9935008837497821\n",
      "FOLD 0\n",
      "---------------------------------------------------\n",
      "Fold 0 ROC AUC is: 0.9926538944464391\n",
      "FOLD 1\n",
      "---------------------------------------------------\n",
      "Fold 1 ROC AUC is: 0.9925129947468205\n",
      "FOLD 2\n",
      "---------------------------------------------------\n",
      "Fold 2 ROC AUC is: 0.9930287113322662\n",
      "FOLD 3\n",
      "---------------------------------------------------\n",
      "Fold 3 ROC AUC is: 0.9930412940821025\n",
      "FOLD 4\n",
      "---------------------------------------------------\n",
      "Fold 4 ROC AUC is: 0.9929625458253921\n"
     ]
    },
    {
     "name": "stderr",
     "output_type": "stream",
     "text": [
      "\u001b[32m[I 2021-11-25 15:00:07,105]\u001b[0m Trial 38 finished with value: 0.9928391385082499 and parameters: {'n_estimators': 3200, 'depth': 5, 'learning_rate': 0.2612709759608462, 'reg_alpha': 0.38704782970374685, 'reg_lambda': 4.028224801531101, 'subsample': 0.5794177568532055, 'boosting_type': 'gbdt', 'min_child_samples': 56, 'num_leaves': 215, 'colsample_bytree': 0.9069042549376419}. Best is trial 28 with value: 0.9939150929148137.\u001b[0m\n"
     ]
    },
    {
     "name": "stdout",
     "output_type": "stream",
     "text": [
      "Valid AUC score for lightgbm model is 0.9928391385082499\n",
      "FOLD 0\n",
      "---------------------------------------------------\n",
      "Fold 0 ROC AUC is: 0.9926265174035348\n",
      "FOLD 1\n",
      "---------------------------------------------------\n",
      "Fold 1 ROC AUC is: 0.9923020986133948\n",
      "FOLD 2\n",
      "---------------------------------------------------\n",
      "Fold 2 ROC AUC is: 0.992836486266112\n",
      "FOLD 3\n",
      "---------------------------------------------------\n",
      "Fold 3 ROC AUC is: 0.9927875303209457\n",
      "FOLD 4\n",
      "---------------------------------------------------\n",
      "Fold 4 ROC AUC is: 0.9927569144679622\n"
     ]
    },
    {
     "name": "stderr",
     "output_type": "stream",
     "text": [
      "\u001b[32m[I 2021-11-25 16:59:49,426]\u001b[0m Trial 39 finished with value: 0.9926611792632114 and parameters: {'n_estimators': 5321, 'depth': 10, 'learning_rate': 0.15308226479626003, 'reg_alpha': 4.033072857589463, 'reg_lambda': 1.559527792720835, 'subsample': 0.7812239493269992, 'boosting_type': 'dart', 'min_child_samples': 61, 'num_leaves': 235, 'colsample_bytree': 0.8264768826585811}. Best is trial 28 with value: 0.9939150929148137.\u001b[0m\n"
     ]
    },
    {
     "name": "stdout",
     "output_type": "stream",
     "text": [
      "Valid AUC score for lightgbm model is 0.9926611792632114\n",
      "FOLD 0\n",
      "---------------------------------------------------\n",
      "Fold 0 ROC AUC is: 0.9934376728746599\n",
      "FOLD 1\n",
      "---------------------------------------------------\n",
      "Fold 1 ROC AUC is: 0.9931137095504183\n",
      "FOLD 2\n",
      "---------------------------------------------------\n",
      "Fold 2 ROC AUC is: 0.993836144665368\n",
      "FOLD 3\n",
      "---------------------------------------------------\n",
      "Fold 3 ROC AUC is: 0.9936734671923358\n",
      "FOLD 4\n",
      "---------------------------------------------------\n",
      "Fold 4 ROC AUC is: 0.9936847000979472\n"
     ]
    },
    {
     "name": "stderr",
     "output_type": "stream",
     "text": [
      "\u001b[32m[I 2021-11-25 17:02:09,000]\u001b[0m Trial 40 finished with value: 0.993548066658245 and parameters: {'n_estimators': 4688, 'depth': 3, 'learning_rate': 0.07709037808164775, 'reg_alpha': 1.2158268943272563, 'reg_lambda': 3.8920700965004045, 'subsample': 0.5574869949415313, 'boosting_type': 'gbdt', 'min_child_samples': 51, 'num_leaves': 211, 'colsample_bytree': 0.856263784660704}. Best is trial 28 with value: 0.9939150929148137.\u001b[0m\n"
     ]
    },
    {
     "name": "stdout",
     "output_type": "stream",
     "text": [
      "Valid AUC score for lightgbm model is 0.993548066658245\n",
      "FOLD 0\n",
      "---------------------------------------------------\n",
      "Fold 0 ROC AUC is: 0.9938213002575521\n",
      "FOLD 1\n",
      "---------------------------------------------------\n",
      "Fold 1 ROC AUC is: 0.993460820678398\n",
      "FOLD 2\n",
      "---------------------------------------------------\n",
      "Fold 2 ROC AUC is: 0.9941490624109244\n",
      "FOLD 3\n",
      "---------------------------------------------------\n",
      "Fold 3 ROC AUC is: 0.993979386190619\n",
      "FOLD 4\n",
      "---------------------------------------------------\n",
      "Fold 4 ROC AUC is: 0.9939747089297308\n"
     ]
    },
    {
     "name": "stderr",
     "output_type": "stream",
     "text": [
      "\u001b[32m[I 2021-11-25 17:04:13,632]\u001b[0m Trial 41 finished with value: 0.9938756053925291 and parameters: {'n_estimators': 4276, 'depth': 3, 'learning_rate': 0.19685013474649324, 'reg_alpha': 21.254990799538973, 'reg_lambda': 1.0240206410221486, 'subsample': 0.5417779056845287, 'boosting_type': 'gbdt', 'min_child_samples': 59, 'num_leaves': 250, 'colsample_bytree': 0.9929835385495392}. Best is trial 28 with value: 0.9939150929148137.\u001b[0m\n"
     ]
    },
    {
     "name": "stdout",
     "output_type": "stream",
     "text": [
      "Valid AUC score for lightgbm model is 0.9938756053925291\n",
      "FOLD 0\n",
      "---------------------------------------------------\n",
      "Fold 0 ROC AUC is: 0.9931709967595799\n",
      "FOLD 1\n",
      "---------------------------------------------------\n",
      "Fold 1 ROC AUC is: 0.9928294116445515\n",
      "FOLD 2\n",
      "---------------------------------------------------\n",
      "Fold 2 ROC AUC is: 0.9934655407215779\n",
      "FOLD 3\n",
      "---------------------------------------------------\n",
      "Fold 3 ROC AUC is: 0.9932182508499927\n",
      "FOLD 4\n",
      "---------------------------------------------------\n",
      "Fold 4 ROC AUC is: 0.9933391741820496\n"
     ]
    },
    {
     "name": "stderr",
     "output_type": "stream",
     "text": [
      "\u001b[32m[I 2021-11-25 17:07:59,050]\u001b[0m Trial 42 finished with value: 0.9932031033831222 and parameters: {'n_estimators': 6019, 'depth': 4, 'learning_rate': 0.2775141329901986, 'reg_alpha': 10.659228294841816, 'reg_lambda': 9.413911170159018, 'subsample': 0.6310617729111145, 'boosting_type': 'gbdt', 'min_child_samples': 71, 'num_leaves': 227, 'colsample_bytree': 0.9937833173276602}. Best is trial 28 with value: 0.9939150929148137.\u001b[0m\n"
     ]
    },
    {
     "name": "stdout",
     "output_type": "stream",
     "text": [
      "Valid AUC score for lightgbm model is 0.9932031033831222\n",
      "FOLD 0\n",
      "---------------------------------------------------\n",
      "Fold 0 ROC AUC is: 0.9875757274278855\n",
      "FOLD 1\n",
      "---------------------------------------------------\n",
      "Fold 1 ROC AUC is: 0.9873173497829869\n",
      "FOLD 2\n",
      "---------------------------------------------------\n",
      "Fold 2 ROC AUC is: 0.9883394560350662\n",
      "FOLD 3\n",
      "---------------------------------------------------\n",
      "Fold 3 ROC AUC is: 0.987926004369902\n",
      "FOLD 4\n",
      "---------------------------------------------------\n",
      "Fold 4 ROC AUC is: 0.9880220545153982\n"
     ]
    },
    {
     "name": "stderr",
     "output_type": "stream",
     "text": [
      "\u001b[32m[I 2021-11-25 17:08:27,319]\u001b[0m Trial 43 finished with value: 0.9878350773183341 and parameters: {'n_estimators': 568, 'depth': 3, 'learning_rate': 0.1768371827844159, 'reg_alpha': 29.430740329911956, 'reg_lambda': 0.5419518180281401, 'subsample': 0.5483777754267036, 'boosting_type': 'gbdt', 'min_child_samples': 54, 'num_leaves': 242, 'colsample_bytree': 0.9628497631086977}. Best is trial 28 with value: 0.9939150929148137.\u001b[0m\n"
     ]
    },
    {
     "name": "stdout",
     "output_type": "stream",
     "text": [
      "Valid AUC score for lightgbm model is 0.9878350773183341\n",
      "FOLD 0\n",
      "---------------------------------------------------\n",
      "Fold 0 ROC AUC is: 0.9929436532753068\n",
      "FOLD 1\n",
      "---------------------------------------------------\n",
      "Fold 1 ROC AUC is: 0.9925248217972459\n",
      "FOLD 2\n",
      "---------------------------------------------------\n",
      "Fold 2 ROC AUC is: 0.9932258756088982\n",
      "FOLD 3\n",
      "---------------------------------------------------\n",
      "Fold 3 ROC AUC is: 0.9931429935561136\n",
      "FOLD 4\n",
      "---------------------------------------------------\n",
      "Fold 4 ROC AUC is: 0.9931501860267143\n"
     ]
    },
    {
     "name": "stderr",
     "output_type": "stream",
     "text": [
      "\u001b[32m[I 2021-11-25 17:10:51,181]\u001b[0m Trial 44 finished with value: 0.9929964633039707 and parameters: {'n_estimators': 3828, 'depth': 4, 'learning_rate': 0.060414362862954894, 'reg_alpha': 12.510414050718705, 'reg_lambda': 1.3245213690052107, 'subsample': 0.5225833217754325, 'boosting_type': 'gbdt', 'min_child_samples': 46, 'num_leaves': 188, 'colsample_bytree': 0.9235587004584572}. Best is trial 28 with value: 0.9939150929148137.\u001b[0m\n"
     ]
    },
    {
     "name": "stdout",
     "output_type": "stream",
     "text": [
      "Valid AUC score for lightgbm model is 0.9929964633039707\n",
      "FOLD 0\n",
      "---------------------------------------------------\n",
      "Fold 0 ROC AUC is: 0.9889675900292167\n",
      "FOLD 1\n",
      "---------------------------------------------------\n",
      "Fold 1 ROC AUC is: 0.9887208400555729\n",
      "FOLD 2\n",
      "---------------------------------------------------\n",
      "Fold 2 ROC AUC is: 0.9895370892195503\n",
      "FOLD 3\n",
      "---------------------------------------------------\n",
      "Fold 3 ROC AUC is: 0.9894543924026202\n",
      "FOLD 4\n",
      "---------------------------------------------------\n",
      "Fold 4 ROC AUC is: 0.9893860689140639\n"
     ]
    },
    {
     "name": "stderr",
     "output_type": "stream",
     "text": [
      "\u001b[32m[I 2021-11-25 17:32:19,580]\u001b[0m Trial 45 finished with value: 0.9892117576670583 and parameters: {'n_estimators': 4815, 'depth': 3, 'learning_rate': 0.08207115197531692, 'reg_alpha': 18.04865698595983, 'reg_lambda': 2.6867455178728066, 'subsample': 0.5920974233261732, 'boosting_type': 'dart', 'min_child_samples': 41, 'num_leaves': 230, 'colsample_bytree': 0.8982939215884731}. Best is trial 28 with value: 0.9939150929148137.\u001b[0m\n"
     ]
    },
    {
     "name": "stdout",
     "output_type": "stream",
     "text": [
      "Valid AUC score for lightgbm model is 0.9892117576670583\n",
      "FOLD 0\n",
      "---------------------------------------------------\n",
      "Fold 0 ROC AUC is: 0.9928247802312946\n",
      "FOLD 1\n",
      "---------------------------------------------------\n",
      "Fold 1 ROC AUC is: 0.9925015391074232\n",
      "FOLD 2\n",
      "---------------------------------------------------\n",
      "Fold 2 ROC AUC is: 0.9930373092274668\n",
      "FOLD 3\n",
      "---------------------------------------------------\n",
      "Fold 3 ROC AUC is: 0.9929387756996795\n",
      "FOLD 4\n",
      "---------------------------------------------------\n",
      "Fold 4 ROC AUC is: 0.9929954228406613\n"
     ]
    },
    {
     "name": "stderr",
     "output_type": "stream",
     "text": [
      "\u001b[32m[I 2021-11-25 17:35:35,324]\u001b[0m Trial 46 finished with value: 0.9928575921410109 and parameters: {'n_estimators': 4155, 'depth': 5, 'learning_rate': 0.3419635972120538, 'reg_alpha': 7.402908985453621, 'reg_lambda': 0.0064314396058324326, 'subsample': 0.5636448895142679, 'boosting_type': 'gbdt', 'min_child_samples': 63, 'num_leaves': 211, 'colsample_bytree': 0.7678848171713051}. Best is trial 28 with value: 0.9939150929148137.\u001b[0m\n"
     ]
    },
    {
     "name": "stdout",
     "output_type": "stream",
     "text": [
      "Valid AUC score for lightgbm model is 0.9928575921410109\n",
      "FOLD 0\n",
      "---------------------------------------------------\n",
      "Fold 0 ROC AUC is: 0.9341049312299557\n",
      "FOLD 1\n",
      "---------------------------------------------------\n",
      "Fold 1 ROC AUC is: 0.9346761941842773\n",
      "FOLD 2\n",
      "---------------------------------------------------\n",
      "Fold 2 ROC AUC is: 0.9359375859528072\n",
      "FOLD 3\n",
      "---------------------------------------------------\n",
      "Fold 3 ROC AUC is: 0.935517342053457\n",
      "FOLD 4\n",
      "---------------------------------------------------\n",
      "Fold 4 ROC AUC is: 0.9356875551390316\n"
     ]
    },
    {
     "name": "stderr",
     "output_type": "stream",
     "text": [
      "\u001b[32m[I 2021-11-25 17:38:15,669]\u001b[0m Trial 47 finished with value: 0.9351816140709475 and parameters: {'n_estimators': 5131, 'depth': 3, 'learning_rate': 0.0019467979447026526, 'reg_alpha': 17.995469035385593, 'reg_lambda': 0.19695198021621796, 'subsample': 0.5246413464168912, 'boosting_type': 'gbdt', 'min_child_samples': 49, 'num_leaves': 243, 'colsample_bytree': 0.9678980350200399}. Best is trial 28 with value: 0.9939150929148137.\u001b[0m\n"
     ]
    },
    {
     "name": "stdout",
     "output_type": "stream",
     "text": [
      "Valid AUC score for lightgbm model is 0.9351816140709475\n",
      "FOLD 0\n",
      "---------------------------------------------------\n",
      "Fold 0 ROC AUC is: 0.9930502211154426\n",
      "FOLD 1\n",
      "---------------------------------------------------\n",
      "Fold 1 ROC AUC is: 0.9926495892144683\n",
      "FOLD 2\n",
      "---------------------------------------------------\n",
      "Fold 2 ROC AUC is: 0.9933137551980044\n",
      "FOLD 3\n",
      "---------------------------------------------------\n",
      "Fold 3 ROC AUC is: 0.9932500795906147\n",
      "FOLD 4\n",
      "---------------------------------------------------\n"
     ]
    },
    {
     "name": "stderr",
     "output_type": "stream",
     "text": [
      "\u001b[32m[I 2021-11-25 18:10:13,915]\u001b[0m Trial 48 finished with value: 0.9930827995466784 and parameters: {'n_estimators': 5422, 'depth': 4, 'learning_rate': 0.23905047548743089, 'reg_alpha': 2.5610323369659533, 'reg_lambda': 16.42437537667567, 'subsample': 0.7311020635798803, 'boosting_type': 'dart', 'min_child_samples': 57, 'num_leaves': 224, 'colsample_bytree': 0.8072518543174481}. Best is trial 28 with value: 0.9939150929148137.\u001b[0m\n"
     ]
    },
    {
     "name": "stdout",
     "output_type": "stream",
     "text": [
      "Fold 4 ROC AUC is: 0.9931577034411767\n",
      "Valid AUC score for lightgbm model is 0.9930827995466784\n",
      "FOLD 0\n",
      "---------------------------------------------------\n",
      "Fold 0 ROC AUC is: 0.9928165353528384\n",
      "FOLD 1\n",
      "---------------------------------------------------\n",
      "Fold 1 ROC AUC is: 0.9924346703882458\n",
      "FOLD 2\n",
      "---------------------------------------------------\n",
      "Fold 2 ROC AUC is: 0.9930171215596547\n",
      "FOLD 3\n",
      "---------------------------------------------------\n",
      "Fold 3 ROC AUC is: 0.9928509462436663\n",
      "FOLD 4\n",
      "---------------------------------------------------\n"
     ]
    },
    {
     "name": "stderr",
     "output_type": "stream",
     "text": [
      "\u001b[32m[I 2021-11-25 18:13:56,079]\u001b[0m Trial 49 finished with value: 0.9928029676171464 and parameters: {'n_estimators': 4589, 'depth': 5, 'learning_rate': 0.3849907523611252, 'reg_alpha': 3.6625045327264987, 'reg_lambda': 0.8071110879898963, 'subsample': 0.6341311813870416, 'boosting_type': 'gbdt', 'min_child_samples': 68, 'num_leaves': 197, 'colsample_bytree': 0.999112073198128}. Best is trial 28 with value: 0.9939150929148137.\u001b[0m\n"
     ]
    },
    {
     "name": "stdout",
     "output_type": "stream",
     "text": [
      "Fold 4 ROC AUC is: 0.9929046088164137\n",
      "Valid AUC score for lightgbm model is 0.9928029676171464\n",
      "FOLD 0\n",
      "---------------------------------------------------\n",
      "Fold 0 ROC AUC is: 0.9935685479182345\n",
      "FOLD 1\n",
      "---------------------------------------------------\n",
      "Fold 1 ROC AUC is: 0.9931755959129746\n",
      "FOLD 2\n",
      "---------------------------------------------------\n",
      "Fold 2 ROC AUC is: 0.9937845934279486\n",
      "FOLD 3\n",
      "---------------------------------------------------\n",
      "Fold 3 ROC AUC is: 0.9937255512683782\n",
      "FOLD 4\n",
      "---------------------------------------------------\n",
      "Fold 4 ROC AUC is: 0.9936376420506038\n"
     ]
    },
    {
     "name": "stderr",
     "output_type": "stream",
     "text": [
      "\u001b[32m[I 2021-11-25 18:17:43,891]\u001b[0m Trial 50 finished with value: 0.993576516402518 and parameters: {'n_estimators': 6016, 'depth': 4, 'learning_rate': 0.12516073001266337, 'reg_alpha': 1.5869436176626843, 'reg_lambda': 2.5237261917784806, 'subsample': 0.6100142028311142, 'boosting_type': 'gbdt', 'min_child_samples': 52, 'num_leaves': 235, 'colsample_bytree': 0.7456715524633748}. Best is trial 28 with value: 0.9939150929148137.\u001b[0m\n"
     ]
    },
    {
     "name": "stdout",
     "output_type": "stream",
     "text": [
      "Valid AUC score for lightgbm model is 0.993576516402518\n",
      "FOLD 0\n",
      "---------------------------------------------------\n",
      "Fold 0 ROC AUC is: 0.9938567337531337\n",
      "FOLD 1\n",
      "---------------------------------------------------\n",
      "Fold 1 ROC AUC is: 0.993507025211101\n",
      "FOLD 2\n",
      "---------------------------------------------------\n",
      "Fold 2 ROC AUC is: 0.9941481629576264\n",
      "FOLD 3\n",
      "---------------------------------------------------\n",
      "Fold 3 ROC AUC is: 0.9939696685330607\n",
      "FOLD 4\n",
      "---------------------------------------------------\n",
      "Fold 4 ROC AUC is: 0.9939435803636768\n"
     ]
    },
    {
     "name": "stderr",
     "output_type": "stream",
     "text": [
      "\u001b[32m[I 2021-11-25 18:20:57,972]\u001b[0m Trial 51 finished with value: 0.9938832222737586 and parameters: {'n_estimators': 6612, 'depth': 3, 'learning_rate': 0.18615752722532466, 'reg_alpha': 7.597034097067961, 'reg_lambda': 0.7437536868512026, 'subsample': 0.5774289872728212, 'boosting_type': 'gbdt', 'min_child_samples': 66, 'num_leaves': 240, 'colsample_bytree': 0.9546905993480225}. Best is trial 28 with value: 0.9939150929148137.\u001b[0m\n"
     ]
    },
    {
     "name": "stdout",
     "output_type": "stream",
     "text": [
      "Valid AUC score for lightgbm model is 0.9938832222737586\n",
      "FOLD 0\n",
      "---------------------------------------------------\n",
      "Fold 0 ROC AUC is: 0.9939110259456603\n",
      "FOLD 1\n",
      "---------------------------------------------------\n",
      "Fold 1 ROC AUC is: 0.993567566598692\n",
      "FOLD 2\n",
      "---------------------------------------------------\n",
      "Fold 2 ROC AUC is: 0.9941452208336583\n",
      "FOLD 3\n",
      "---------------------------------------------------\n",
      "Fold 3 ROC AUC is: 0.9940082425661199\n",
      "FOLD 4\n",
      "---------------------------------------------------\n",
      "Fold 4 ROC AUC is: 0.9940027797246402\n"
     ]
    },
    {
     "name": "stderr",
     "output_type": "stream",
     "text": [
      "\u001b[32m[I 2021-11-25 18:24:27,449]\u001b[0m Trial 52 finished with value: 0.9939258826145192 and parameters: {'n_estimators': 6597, 'depth': 3, 'learning_rate': 0.168192053108715, 'reg_alpha': 8.151986311659025, 'reg_lambda': 0.3637185011640767, 'subsample': 0.6806147911467875, 'boosting_type': 'gbdt', 'min_child_samples': 74, 'num_leaves': 249, 'colsample_bytree': 0.9631155482426871}. Best is trial 52 with value: 0.9939258826145192.\u001b[0m\n"
     ]
    },
    {
     "name": "stdout",
     "output_type": "stream",
     "text": [
      "Valid AUC score for lightgbm model is 0.9939258826145192\n",
      "FOLD 0\n",
      "---------------------------------------------------\n",
      "Fold 0 ROC AUC is: 0.993823577485923\n",
      "FOLD 1\n",
      "---------------------------------------------------\n",
      "Fold 1 ROC AUC is: 0.9935015544044979\n",
      "FOLD 2\n",
      "---------------------------------------------------\n",
      "Fold 2 ROC AUC is: 0.994121399218869\n",
      "FOLD 3\n",
      "---------------------------------------------------\n",
      "Fold 3 ROC AUC is: 0.9940044704727228\n",
      "FOLD 4\n",
      "---------------------------------------------------\n",
      "Fold 4 ROC AUC is: 0.9940094772495485\n"
     ]
    },
    {
     "name": "stderr",
     "output_type": "stream",
     "text": [
      "\u001b[32m[I 2021-11-25 18:27:40,190]\u001b[0m Trial 53 finished with value: 0.9938906674358359 and parameters: {'n_estimators': 6683, 'depth': 3, 'learning_rate': 0.09209807265914764, 'reg_alpha': 7.434777193003191, 'reg_lambda': 0.28866833997247054, 'subsample': 0.6803688682781562, 'boosting_type': 'gbdt', 'min_child_samples': 71, 'num_leaves': 121, 'colsample_bytree': 0.9535465508665425}. Best is trial 52 with value: 0.9939258826145192.\u001b[0m\n"
     ]
    },
    {
     "name": "stdout",
     "output_type": "stream",
     "text": [
      "Valid AUC score for lightgbm model is 0.9938906674358359\n",
      "FOLD 0\n",
      "---------------------------------------------------\n",
      "Fold 0 ROC AUC is: 0.9938558413708662\n",
      "FOLD 1\n",
      "---------------------------------------------------\n",
      "Fold 1 ROC AUC is: 0.9935024573558598\n",
      "FOLD 2\n",
      "---------------------------------------------------\n",
      "Fold 2 ROC AUC is: 0.9941420794179677\n",
      "FOLD 3\n",
      "---------------------------------------------------\n",
      "Fold 3 ROC AUC is: 0.9940508680554253\n",
      "FOLD 4\n",
      "---------------------------------------------------\n",
      "Fold 4 ROC AUC is: 0.9940042177275399\n"
     ]
    },
    {
     "name": "stderr",
     "output_type": "stream",
     "text": [
      "\u001b[32m[I 2021-11-25 18:30:57,878]\u001b[0m Trial 54 finished with value: 0.99390976007064 and parameters: {'n_estimators': 6692, 'depth': 3, 'learning_rate': 0.09001509985094859, 'reg_alpha': 4.299009999720617, 'reg_lambda': 0.3417407345375323, 'subsample': 0.6757679042067641, 'boosting_type': 'gbdt', 'min_child_samples': 75, 'num_leaves': 111, 'colsample_bytree': 0.8934668932222847}. Best is trial 52 with value: 0.9939258826145192.\u001b[0m\n"
     ]
    },
    {
     "name": "stdout",
     "output_type": "stream",
     "text": [
      "Valid AUC score for lightgbm model is 0.99390976007064\n",
      "FOLD 0\n",
      "---------------------------------------------------\n",
      "Fold 0 ROC AUC is: 0.9938625443817363\n",
      "FOLD 1\n",
      "---------------------------------------------------\n",
      "Fold 1 ROC AUC is: 0.9934972890157227\n",
      "FOLD 2\n",
      "---------------------------------------------------\n",
      "Fold 2 ROC AUC is: 0.9941439628220307\n",
      "FOLD 3\n",
      "---------------------------------------------------\n",
      "Fold 3 ROC AUC is: 0.9940507543644747\n",
      "FOLD 4\n",
      "---------------------------------------------------\n",
      "Fold 4 ROC AUC is: 0.9939465683747273\n"
     ]
    },
    {
     "name": "stderr",
     "output_type": "stream",
     "text": [
      "\u001b[32m[I 2021-11-25 18:34:09,341]\u001b[0m Trial 55 finished with value: 0.9938989047407529 and parameters: {'n_estimators': 6639, 'depth': 3, 'learning_rate': 0.09419627374484496, 'reg_alpha': 0.7106237649870364, 'reg_lambda': 0.350376588055174, 'subsample': 0.6826142987991968, 'boosting_type': 'gbdt', 'min_child_samples': 75, 'num_leaves': 98, 'colsample_bytree': 0.9203420176428161}. Best is trial 52 with value: 0.9939258826145192.\u001b[0m\n"
     ]
    },
    {
     "name": "stdout",
     "output_type": "stream",
     "text": [
      "Valid AUC score for lightgbm model is 0.9938989047407529\n",
      "FOLD 0\n",
      "---------------------------------------------------\n",
      "Fold 0 ROC AUC is: 0.993621312972624\n",
      "FOLD 1\n",
      "---------------------------------------------------\n",
      "Fold 1 ROC AUC is: 0.9932977234206741\n",
      "FOLD 2\n",
      "---------------------------------------------------\n",
      "Fold 2 ROC AUC is: 0.9939770547534672\n",
      "FOLD 3\n",
      "---------------------------------------------------\n",
      "Fold 3 ROC AUC is: 0.9938607203575378\n",
      "FOLD 4\n",
      "---------------------------------------------------\n",
      "Fold 4 ROC AUC is: 0.99381016043133\n"
     ]
    },
    {
     "name": "stderr",
     "output_type": "stream",
     "text": [
      "\u001b[32m[I 2021-11-25 18:37:24,039]\u001b[0m Trial 56 finished with value: 0.9937118612356931 and parameters: {'n_estimators': 6608, 'depth': 3, 'learning_rate': 0.06263691282157738, 'reg_alpha': 0.6270820603024296, 'reg_lambda': 0.13822370433917808, 'subsample': 0.7102240430089838, 'boosting_type': 'gbdt', 'min_child_samples': 73, 'num_leaves': 95, 'colsample_bytree': 0.9125948809746305}. Best is trial 52 with value: 0.9939258826145192.\u001b[0m\n"
     ]
    },
    {
     "name": "stdout",
     "output_type": "stream",
     "text": [
      "Valid AUC score for lightgbm model is 0.9937118612356931\n",
      "FOLD 0\n",
      "---------------------------------------------------\n",
      "Fold 0 ROC AUC is: 0.9933444904906189\n",
      "FOLD 1\n",
      "---------------------------------------------------\n",
      "Fold 1 ROC AUC is: 0.9930793787725212\n",
      "FOLD 2\n",
      "---------------------------------------------------\n",
      "Fold 2 ROC AUC is: 0.9936604043879045\n",
      "FOLD 3\n",
      "---------------------------------------------------\n",
      "Fold 3 ROC AUC is: 0.9935520321923849\n",
      "FOLD 4\n",
      "---------------------------------------------------\n",
      "Fold 4 ROC AUC is: 0.9935017185368653\n"
     ]
    },
    {
     "name": "stderr",
     "output_type": "stream",
     "text": [
      "\u001b[32m[I 2021-11-25 18:42:02,592]\u001b[0m Trial 57 finished with value: 0.9934263872007416 and parameters: {'n_estimators': 6754, 'depth': 4, 'learning_rate': 0.14817524089550124, 'reg_alpha': 0.2636287603687622, 'reg_lambda': 0.04915302057249002, 'subsample': 0.7884145907002095, 'boosting_type': 'gbdt', 'min_child_samples': 74, 'num_leaves': 72, 'colsample_bytree': 0.8850373603848336}. Best is trial 52 with value: 0.9939258826145192.\u001b[0m\n"
     ]
    },
    {
     "name": "stdout",
     "output_type": "stream",
     "text": [
      "Valid AUC score for lightgbm model is 0.9934263872007416\n",
      "FOLD 0\n",
      "---------------------------------------------------\n",
      "Fold 0 ROC AUC is: 0.9938323106595033\n",
      "FOLD 1\n",
      "---------------------------------------------------\n",
      "Fold 1 ROC AUC is: 0.9934911871439742\n",
      "FOLD 2\n",
      "---------------------------------------------------\n",
      "Fold 2 ROC AUC is: 0.9940690911176269\n",
      "FOLD 3\n",
      "---------------------------------------------------\n",
      "Fold 3 ROC AUC is: 0.9939825689812894\n",
      "FOLD 4\n",
      "---------------------------------------------------\n",
      "Fold 4 ROC AUC is: 0.9940240712836147\n"
     ]
    },
    {
     "name": "stderr",
     "output_type": "stream",
     "text": [
      "\u001b[32m[I 2021-11-25 18:44:59,481]\u001b[0m Trial 58 finished with value: 0.9938784944324589 and parameters: {'n_estimators': 5973, 'depth': 3, 'learning_rate': 0.11780969862112771, 'reg_alpha': 0.10432079693907174, 'reg_lambda': 0.40493614340481643, 'subsample': 0.7385053515816903, 'boosting_type': 'gbdt', 'min_child_samples': 75, 'num_leaves': 91, 'colsample_bytree': 0.8536161302253783}. Best is trial 52 with value: 0.9939258826145192.\u001b[0m\n"
     ]
    },
    {
     "name": "stdout",
     "output_type": "stream",
     "text": [
      "Valid AUC score for lightgbm model is 0.9938784944324589\n",
      "FOLD 0\n",
      "---------------------------------------------------\n",
      "Fold 0 ROC AUC is: 0.9905560104551283\n",
      "FOLD 1\n",
      "---------------------------------------------------\n",
      "Fold 1 ROC AUC is: 0.9903048638880401\n",
      "FOLD 2\n",
      "---------------------------------------------------\n",
      "Fold 2 ROC AUC is: 0.9910774166121732\n",
      "FOLD 3\n",
      "---------------------------------------------------\n",
      "Fold 3 ROC AUC is: 0.9909449491460933\n",
      "FOLD 4\n",
      "---------------------------------------------------\n",
      "Fold 4 ROC AUC is: 0.9909712442121037\n"
     ]
    },
    {
     "name": "stderr",
     "output_type": "stream",
     "text": [
      "\u001b[32m[I 2021-11-25 18:46:22,857]\u001b[0m Trial 59 finished with value: 0.9907698517898751 and parameters: {'n_estimators': 2053, 'depth': 4, 'learning_rate': 0.05074471030355514, 'reg_alpha': 1.6691546873193361, 'reg_lambda': 0.15603685683522492, 'subsample': 0.6811589768035818, 'boosting_type': 'gbdt', 'min_child_samples': 70, 'num_leaves': 113, 'colsample_bytree': 0.931587204966718}. Best is trial 52 with value: 0.9939258826145192.\u001b[0m\n"
     ]
    },
    {
     "name": "stdout",
     "output_type": "stream",
     "text": [
      "Valid AUC score for lightgbm model is 0.9907698517898751\n",
      "FOLD 0\n",
      "---------------------------------------------------\n",
      "Fold 0 ROC AUC is: 0.993841589100604\n",
      "FOLD 1\n",
      "---------------------------------------------------\n",
      "Fold 1 ROC AUC is: 0.9934496449872833\n",
      "FOLD 2\n",
      "---------------------------------------------------\n",
      "Fold 2 ROC AUC is: 0.9941558883608917\n",
      "FOLD 3\n",
      "---------------------------------------------------\n",
      "Fold 3 ROC AUC is: 0.9940188969926351\n",
      "FOLD 4\n",
      "---------------------------------------------------\n",
      "Fold 4 ROC AUC is: 0.9939822155049756\n"
     ]
    },
    {
     "name": "stderr",
     "output_type": "stream",
     "text": [
      "\u001b[32m[I 2021-11-25 18:49:33,253]\u001b[0m Trial 60 finished with value: 0.9938881970259635 and parameters: {'n_estimators': 6516, 'depth': 3, 'learning_rate': 0.0831714403260177, 'reg_alpha': 2.96188944902574, 'reg_lambda': 0.254859585664263, 'subsample': 0.6456233736068978, 'boosting_type': 'gbdt', 'min_child_samples': 63, 'num_leaves': 105, 'colsample_bytree': 0.7949211286218478}. Best is trial 52 with value: 0.9939258826145192.\u001b[0m\n"
     ]
    },
    {
     "name": "stdout",
     "output_type": "stream",
     "text": [
      "Valid AUC score for lightgbm model is 0.9938881970259635\n",
      "FOLD 0\n",
      "---------------------------------------------------\n",
      "Fold 0 ROC AUC is: 0.9938366708542684\n",
      "FOLD 1\n",
      "---------------------------------------------------\n",
      "Fold 1 ROC AUC is: 0.9934880518344121\n",
      "FOLD 2\n",
      "---------------------------------------------------\n",
      "Fold 2 ROC AUC is: 0.9941381875313547\n",
      "FOLD 3\n",
      "---------------------------------------------------\n",
      "Fold 3 ROC AUC is: 0.9940246554809782\n",
      "FOLD 4\n",
      "---------------------------------------------------\n",
      "Fold 4 ROC AUC is: 0.9940090075501089\n"
     ]
    },
    {
     "name": "stderr",
     "output_type": "stream",
     "text": [
      "\u001b[32m[I 2021-11-25 18:52:54,403]\u001b[0m Trial 61 finished with value: 0.9938981489207664 and parameters: {'n_estimators': 6765, 'depth': 3, 'learning_rate': 0.09183522483196632, 'reg_alpha': 13.281050183916522, 'reg_lambda': 0.41535966259526735, 'subsample': 0.6734070927863679, 'boosting_type': 'gbdt', 'min_child_samples': 70, 'num_leaves': 131, 'colsample_bytree': 0.9743055470800169}. Best is trial 52 with value: 0.9939258826145192.\u001b[0m\n"
     ]
    },
    {
     "name": "stdout",
     "output_type": "stream",
     "text": [
      "Valid AUC score for lightgbm model is 0.9938981489207664\n",
      "FOLD 0\n",
      "---------------------------------------------------\n",
      "Fold 0 ROC AUC is: 0.9937078306979444\n",
      "FOLD 1\n",
      "---------------------------------------------------\n",
      "Fold 1 ROC AUC is: 0.9933605716710728\n",
      "FOLD 2\n",
      "---------------------------------------------------\n",
      "Fold 2 ROC AUC is: 0.9940136780124313\n",
      "FOLD 3\n",
      "---------------------------------------------------\n",
      "Fold 3 ROC AUC is: 0.9938824136472061\n",
      "FOLD 4\n",
      "---------------------------------------------------\n",
      "Fold 4 ROC AUC is: 0.9939074276811916\n"
     ]
    },
    {
     "name": "stderr",
     "output_type": "stream",
     "text": [
      "\u001b[32m[I 2021-11-25 18:56:12,328]\u001b[0m Trial 62 finished with value: 0.9937729476585473 and parameters: {'n_estimators': 6769, 'depth': 3, 'learning_rate': 0.07115930908388357, 'reg_alpha': 12.412771861412583, 'reg_lambda': 0.510232461587604, 'subsample': 0.7165077741592772, 'boosting_type': 'gbdt', 'min_child_samples': 69, 'num_leaves': 130, 'colsample_bytree': 0.9755369305835707}. Best is trial 52 with value: 0.9939258826145192.\u001b[0m\n"
     ]
    },
    {
     "name": "stdout",
     "output_type": "stream",
     "text": [
      "Valid AUC score for lightgbm model is 0.9937729476585473\n",
      "FOLD 0\n",
      "---------------------------------------------------\n",
      "Fold 0 ROC AUC is: 0.9939773101328407\n",
      "FOLD 1\n",
      "---------------------------------------------------\n",
      "Fold 1 ROC AUC is: 0.9935551941078198\n",
      "FOLD 2\n",
      "---------------------------------------------------\n",
      "Fold 2 ROC AUC is: 0.9942149151225544\n",
      "FOLD 3\n",
      "---------------------------------------------------\n",
      "Fold 3 ROC AUC is: 0.9940360406984693\n",
      "FOLD 4\n",
      "---------------------------------------------------\n",
      "Fold 4 ROC AUC is: 0.9940542479439995\n"
     ]
    },
    {
     "name": "stderr",
     "output_type": "stream",
     "text": [
      "\u001b[32m[I 2021-11-25 18:59:21,475]\u001b[0m Trial 63 finished with value: 0.9939664430896553 and parameters: {'n_estimators': 6031, 'depth': 3, 'learning_rate': 0.15350399978602833, 'reg_alpha': 14.738504435930393, 'reg_lambda': 0.07526215661377708, 'subsample': 0.6653948683603931, 'boosting_type': 'gbdt', 'min_child_samples': 73, 'num_leaves': 127, 'colsample_bytree': 0.9311652988963521}. Best is trial 63 with value: 0.9939664430896553.\u001b[0m\n"
     ]
    },
    {
     "name": "stdout",
     "output_type": "stream",
     "text": [
      "Valid AUC score for lightgbm model is 0.9939664430896553\n",
      "FOLD 0\n",
      "---------------------------------------------------\n",
      "Fold 0 ROC AUC is: 0.993599220744791\n",
      "FOLD 1\n",
      "---------------------------------------------------\n",
      "Fold 1 ROC AUC is: 0.9932860968098829\n",
      "FOLD 2\n",
      "---------------------------------------------------\n",
      "Fold 2 ROC AUC is: 0.9938485546749022\n",
      "FOLD 3\n",
      "---------------------------------------------------\n",
      "Fold 3 ROC AUC is: 0.9937010974290027\n",
      "FOLD 4\n",
      "---------------------------------------------------\n",
      "Fold 4 ROC AUC is: 0.9937073162649269\n"
     ]
    },
    {
     "name": "stderr",
     "output_type": "stream",
     "text": [
      "\u001b[32m[I 2021-11-25 19:03:18,503]\u001b[0m Trial 64 finished with value: 0.9936265922422483 and parameters: {'n_estimators': 6220, 'depth': 4, 'learning_rate': 0.15641776473982727, 'reg_alpha': 13.573787669978186, 'reg_lambda': 0.08079153697908911, 'subsample': 0.7543547868421503, 'boosting_type': 'gbdt', 'min_child_samples': 73, 'num_leaves': 102, 'colsample_bytree': 0.89275289373294}. Best is trial 63 with value: 0.9939664430896553.\u001b[0m\n"
     ]
    },
    {
     "name": "stdout",
     "output_type": "stream",
     "text": [
      "Valid AUC score for lightgbm model is 0.9936265922422483\n",
      "FOLD 0\n",
      "---------------------------------------------------\n",
      "Fold 0 ROC AUC is: 0.9917041109612911\n",
      "FOLD 1\n",
      "---------------------------------------------------\n",
      "Fold 1 ROC AUC is: 0.9913693679268881\n",
      "FOLD 2\n",
      "---------------------------------------------------\n",
      "Fold 2 ROC AUC is: 0.9921553032665213\n",
      "FOLD 3\n",
      "---------------------------------------------------\n",
      "Fold 3 ROC AUC is: 0.9920189514197456\n",
      "FOLD 4\n",
      "---------------------------------------------------\n",
      "Fold 4 ROC AUC is: 0.9920455588356587\n"
     ]
    },
    {
     "name": "stderr",
     "output_type": "stream",
     "text": [
      "\u001b[32m[I 2021-11-25 19:06:00,650]\u001b[0m Trial 65 finished with value: 0.9918570920527574 and parameters: {'n_estimators': 5542, 'depth': 3, 'learning_rate': 0.029939738958783595, 'reg_alpha': 5.241545447378123, 'reg_lambda': 0.019279830078461672, 'subsample': 0.6644670616963889, 'boosting_type': 'gbdt', 'min_child_samples': 75, 'num_leaves': 147, 'colsample_bytree': 0.9146885046527632}. Best is trial 63 with value: 0.9939664430896553.\u001b[0m\n"
     ]
    },
    {
     "name": "stdout",
     "output_type": "stream",
     "text": [
      "Valid AUC score for lightgbm model is 0.9918570920527574\n",
      "FOLD 0\n",
      "---------------------------------------------------\n",
      "Fold 0 ROC AUC is: 0.9915822684048139\n",
      "FOLD 1\n",
      "---------------------------------------------------\n",
      "Fold 1 ROC AUC is: 0.9912311730001918\n",
      "FOLD 2\n",
      "---------------------------------------------------\n",
      "Fold 2 ROC AUC is: 0.9920161918070661\n",
      "FOLD 3\n",
      "---------------------------------------------------\n",
      "Fold 3 ROC AUC is: 0.9918702150251681\n",
      "FOLD 4\n",
      "---------------------------------------------------\n",
      "Fold 4 ROC AUC is: 0.9918716972257069\n"
     ]
    },
    {
     "name": "stderr",
     "output_type": "stream",
     "text": [
      "\u001b[32m[I 2021-11-25 19:33:18,178]\u001b[0m Trial 66 finished with value: 0.9917129538870495 and parameters: {'n_estimators': 6114, 'depth': 3, 'learning_rate': 0.10092240056064629, 'reg_alpha': 7.711777697782971, 'reg_lambda': 0.05706485086219881, 'subsample': 0.6872033711182883, 'boosting_type': 'dart', 'min_child_samples': 71, 'num_leaves': 128, 'colsample_bytree': 0.8650883435208009}. Best is trial 63 with value: 0.9939664430896553.\u001b[0m\n"
     ]
    },
    {
     "name": "stdout",
     "output_type": "stream",
     "text": [
      "Valid AUC score for lightgbm model is 0.9917129538870495\n",
      "FOLD 0\n",
      "---------------------------------------------------\n",
      "Fold 0 ROC AUC is: 0.9935372028174004\n",
      "FOLD 1\n",
      "---------------------------------------------------\n",
      "Fold 1 ROC AUC is: 0.9932111312746928\n",
      "FOLD 2\n",
      "---------------------------------------------------\n",
      "Fold 2 ROC AUC is: 0.9937963127262821\n",
      "FOLD 3\n",
      "---------------------------------------------------\n",
      "Fold 3 ROC AUC is: 0.9936512415844025\n",
      "FOLD 4\n",
      "---------------------------------------------------\n",
      "Fold 4 ROC AUC is: 0.9936769325476887\n"
     ]
    },
    {
     "name": "stderr",
     "output_type": "stream",
     "text": [
      "\u001b[32m[I 2021-11-25 19:37:25,030]\u001b[0m Trial 67 finished with value: 0.9935729792214614 and parameters: {'n_estimators': 6430, 'depth': 4, 'learning_rate': 0.13134091161144273, 'reg_alpha': 4.636907029300412, 'reg_lambda': 0.12416899257989901, 'subsample': 0.7001500548564583, 'boosting_type': 'gbdt', 'min_child_samples': 66, 'num_leaves': 139, 'colsample_bytree': 0.8396950825885926}. Best is trial 63 with value: 0.9939664430896553.\u001b[0m\n"
     ]
    },
    {
     "name": "stdout",
     "output_type": "stream",
     "text": [
      "Valid AUC score for lightgbm model is 0.9935729792214614\n",
      "FOLD 0\n",
      "---------------------------------------------------\n",
      "Fold 0 ROC AUC is: 0.9930456046838506\n",
      "FOLD 1\n",
      "---------------------------------------------------\n",
      "Fold 1 ROC AUC is: 0.9926504321173406\n",
      "FOLD 2\n",
      "---------------------------------------------------\n",
      "Fold 2 ROC AUC is: 0.9934219416964138\n",
      "FOLD 3\n",
      "---------------------------------------------------\n",
      "Fold 3 ROC AUC is: 0.9932564226561436\n",
      "FOLD 4\n",
      "---------------------------------------------------\n",
      "Fold 4 ROC AUC is: 0.9932788600492208\n"
     ]
    },
    {
     "name": "stderr",
     "output_type": "stream",
     "text": [
      "\u001b[32m[I 2021-11-25 19:40:17,747]\u001b[0m Trial 68 finished with value: 0.9931291098616846 and parameters: {'n_estimators': 5847, 'depth': 3, 'learning_rate': 0.04908262463557706, 'reg_alpha': 20.102564700658174, 'reg_lambda': 0.01117730644836288, 'subsample': 0.6703191192698215, 'boosting_type': 'gbdt', 'min_child_samples': 63, 'num_leaves': 124, 'colsample_bytree': 0.9370842695566046}. Best is trial 63 with value: 0.9939664430896553.\u001b[0m\n"
     ]
    },
    {
     "name": "stdout",
     "output_type": "stream",
     "text": [
      "Valid AUC score for lightgbm model is 0.9931291098616846\n",
      "FOLD 0\n",
      "---------------------------------------------------\n",
      "Fold 0 ROC AUC is: 0.9933628481083906\n",
      "FOLD 1\n",
      "---------------------------------------------------\n",
      "Fold 1 ROC AUC is: 0.9931038888423507\n",
      "FOLD 2\n",
      "---------------------------------------------------\n",
      "Fold 2 ROC AUC is: 0.9937034397260199\n",
      "FOLD 3\n",
      "---------------------------------------------------\n",
      "Fold 3 ROC AUC is: 0.9936068773740805\n",
      "FOLD 4\n",
      "---------------------------------------------------\n",
      "Fold 4 ROC AUC is: 0.9935477966077448\n"
     ]
    },
    {
     "name": "stderr",
     "output_type": "stream",
     "text": [
      "\u001b[32m[I 2021-11-25 19:43:03,403]\u001b[0m Trial 69 finished with value: 0.9934635595219184 and parameters: {'n_estimators': 5629, 'depth': 3, 'learning_rate': 0.286778209917897, 'reg_alpha': 0.02026042940780627, 'reg_lambda': 0.24606765747152884, 'subsample': 0.6421486597196225, 'boosting_type': 'gbdt', 'min_child_samples': 69, 'num_leaves': 78, 'colsample_bytree': 0.976687800091011}. Best is trial 63 with value: 0.9939664430896553.\u001b[0m\n"
     ]
    },
    {
     "name": "stdout",
     "output_type": "stream",
     "text": [
      "Valid AUC score for lightgbm model is 0.9934635595219184\n",
      "FOLD 0\n",
      "---------------------------------------------------\n",
      "Fold 0 ROC AUC is: 0.9933078166642813\n",
      "FOLD 1\n",
      "---------------------------------------------------\n",
      "Fold 1 ROC AUC is: 0.9930117322030022\n",
      "FOLD 2\n",
      "---------------------------------------------------\n",
      "Fold 2 ROC AUC is: 0.9935328454554666\n",
      "FOLD 3\n",
      "---------------------------------------------------\n",
      "Fold 3 ROC AUC is: 0.9934868530870248\n",
      "FOLD 4\n",
      "---------------------------------------------------\n",
      "Fold 4 ROC AUC is: 0.9934245524775168\n"
     ]
    },
    {
     "name": "stderr",
     "output_type": "stream",
     "text": [
      "\u001b[32m[I 2021-11-25 19:47:48,465]\u001b[0m Trial 70 finished with value: 0.9933514011770698 and parameters: {'n_estimators': 6784, 'depth': 4, 'learning_rate': 0.17245069339265628, 'reg_alpha': 0.7155793671736241, 'reg_lambda': 0.38629100151263024, 'subsample': 0.7234122226434331, 'boosting_type': 'gbdt', 'min_child_samples': 73, 'num_leaves': 137, 'colsample_bytree': 0.9372022236750769}. Best is trial 63 with value: 0.9939664430896553.\u001b[0m\n"
     ]
    },
    {
     "name": "stdout",
     "output_type": "stream",
     "text": [
      "Valid AUC score for lightgbm model is 0.9933514011770698\n",
      "FOLD 0\n",
      "---------------------------------------------------\n",
      "Fold 0 ROC AUC is: 0.9753558729256534\n",
      "FOLD 1\n",
      "---------------------------------------------------\n",
      "Fold 1 ROC AUC is: 0.9752660577254055\n",
      "FOLD 2\n",
      "---------------------------------------------------\n",
      "Fold 2 ROC AUC is: 0.9764127158646815\n",
      "FOLD 3\n",
      "---------------------------------------------------\n",
      "Fold 3 ROC AUC is: 0.9762443128464742\n",
      "FOLD 4\n",
      "---------------------------------------------------\n",
      "Fold 4 ROC AUC is: 0.9761926813558924\n"
     ]
    },
    {
     "name": "stderr",
     "output_type": "stream",
     "text": [
      "\u001b[32m[I 2021-11-25 19:51:07,525]\u001b[0m Trial 71 finished with value: 0.9758934222663247 and parameters: {'n_estimators': 6477, 'depth': 3, 'learning_rate': 0.005773989333171959, 'reg_alpha': 14.329919004530746, 'reg_lambda': 0.5823074178763273, 'subsample': 0.6206191314438607, 'boosting_type': 'gbdt', 'min_child_samples': 75, 'num_leaves': 117, 'colsample_bytree': 0.9647187882478929}. Best is trial 63 with value: 0.9939664430896553.\u001b[0m\n"
     ]
    },
    {
     "name": "stdout",
     "output_type": "stream",
     "text": [
      "Valid AUC score for lightgbm model is 0.9758934222663247\n",
      "FOLD 0\n",
      "---------------------------------------------------\n",
      "Fold 0 ROC AUC is: 0.9938903774817262\n",
      "FOLD 1\n",
      "---------------------------------------------------\n",
      "Fold 1 ROC AUC is: 0.9935216689804911\n",
      "FOLD 2\n",
      "---------------------------------------------------\n",
      "Fold 2 ROC AUC is: 0.9941602183001617\n",
      "FOLD 3\n",
      "---------------------------------------------------\n",
      "Fold 3 ROC AUC is: 0.9939903758525537\n",
      "FOLD 4\n",
      "---------------------------------------------------\n",
      "Fold 4 ROC AUC is: 0.9939663038111204\n"
     ]
    },
    {
     "name": "stderr",
     "output_type": "stream",
     "text": [
      "\u001b[32m[I 2021-11-25 19:54:04,774]\u001b[0m Trial 72 finished with value: 0.9939039045309334 and parameters: {'n_estimators': 6158, 'depth': 3, 'learning_rate': 0.23808690770915802, 'reg_alpha': 23.127282502473598, 'reg_lambda': 0.0012423690521095117, 'subsample': 0.651594214050271, 'boosting_type': 'gbdt', 'min_child_samples': 42, 'num_leaves': 109, 'colsample_bytree': 0.9212337932653045}. Best is trial 63 with value: 0.9939664430896553.\u001b[0m\n"
     ]
    },
    {
     "name": "stdout",
     "output_type": "stream",
     "text": [
      "Valid AUC score for lightgbm model is 0.9939039045309334\n",
      "FOLD 0\n",
      "---------------------------------------------------\n",
      "Fold 0 ROC AUC is: 0.9938314474582195\n",
      "FOLD 1\n",
      "---------------------------------------------------\n",
      "Fold 1 ROC AUC is: 0.993493477326646\n",
      "FOLD 2\n",
      "---------------------------------------------------\n",
      "Fold 2 ROC AUC is: 0.9941559314434816\n",
      "FOLD 3\n",
      "---------------------------------------------------\n",
      "Fold 3 ROC AUC is: 0.9940081755746306\n",
      "FOLD 4\n",
      "---------------------------------------------------\n",
      "Fold 4 ROC AUC is: 0.9939541986282265\n"
     ]
    },
    {
     "name": "stderr",
     "output_type": "stream",
     "text": [
      "\u001b[32m[I 2021-11-25 19:57:10,523]\u001b[0m Trial 73 finished with value: 0.9938870720292564 and parameters: {'n_estimators': 6155, 'depth': 3, 'learning_rate': 0.09315999190313727, 'reg_alpha': 8.521754764102655, 'reg_lambda': 0.0023722616632130544, 'subsample': 0.6585980141540918, 'boosting_type': 'gbdt', 'min_child_samples': 39, 'num_leaves': 109, 'colsample_bytree': 0.9209180082425972}. Best is trial 63 with value: 0.9939664430896553.\u001b[0m\n"
     ]
    },
    {
     "name": "stdout",
     "output_type": "stream",
     "text": [
      "Valid AUC score for lightgbm model is 0.9938870720292564\n",
      "FOLD 0\n",
      "---------------------------------------------------\n",
      "Fold 0 ROC AUC is: 0.9939213968672012\n",
      "FOLD 1\n",
      "---------------------------------------------------\n",
      "Fold 1 ROC AUC is: 0.9935086445743038\n",
      "FOLD 2\n",
      "---------------------------------------------------\n",
      "Fold 2 ROC AUC is: 0.9941263667804705\n",
      "FOLD 3\n",
      "---------------------------------------------------\n",
      "Fold 3 ROC AUC is: 0.9939539772360695\n",
      "FOLD 4\n",
      "---------------------------------------------------\n",
      "Fold 4 ROC AUC is: 0.9939771005058714\n"
     ]
    },
    {
     "name": "stderr",
     "output_type": "stream",
     "text": [
      "\u001b[32m[I 2021-11-25 20:00:34,515]\u001b[0m Trial 74 finished with value: 0.9938955724330417 and parameters: {'n_estimators': 6836, 'depth': 3, 'learning_rate': 0.23453352362761828, 'reg_alpha': 18.98459029313904, 'reg_lambda': 0.002695254850723563, 'subsample': 0.6746413806239326, 'boosting_type': 'gbdt', 'min_child_samples': 72, 'num_leaves': 120, 'colsample_bytree': 0.8890725960017081}. Best is trial 63 with value: 0.9939664430896553.\u001b[0m\n"
     ]
    },
    {
     "name": "stdout",
     "output_type": "stream",
     "text": [
      "Valid AUC score for lightgbm model is 0.9938955724330417\n",
      "FOLD 0\n",
      "---------------------------------------------------\n",
      "Fold 0 ROC AUC is: 0.9938961230784228\n",
      "FOLD 1\n",
      "---------------------------------------------------\n",
      "Fold 1 ROC AUC is: 0.993525685557238\n",
      "FOLD 2\n",
      "---------------------------------------------------\n",
      "Fold 2 ROC AUC is: 0.9940996719738572\n",
      "FOLD 3\n",
      "---------------------------------------------------\n",
      "Fold 3 ROC AUC is: 0.9940211207765098\n",
      "FOLD 4\n",
      "---------------------------------------------------\n",
      "Fold 4 ROC AUC is: 0.9939742061567804\n"
     ]
    },
    {
     "name": "stderr",
     "output_type": "stream",
     "text": [
      "\u001b[32m[I 2021-11-25 20:04:12,231]\u001b[0m Trial 75 finished with value: 0.9939011326091356 and parameters: {'n_estimators': 6934, 'depth': 3, 'learning_rate': 0.243992690279286, 'reg_alpha': 21.442177143760553, 'reg_lambda': 0.0010777428137036518, 'subsample': 0.6966697978431519, 'boosting_type': 'gbdt', 'min_child_samples': 72, 'num_leaves': 98, 'colsample_bytree': 0.8786119521834304}. Best is trial 63 with value: 0.9939664430896553.\u001b[0m\n"
     ]
    },
    {
     "name": "stdout",
     "output_type": "stream",
     "text": [
      "Valid AUC score for lightgbm model is 0.9939011326091356\n",
      "FOLD 0\n",
      "---------------------------------------------------\n",
      "Fold 0 ROC AUC is: 0.9933469861594949\n",
      "FOLD 1\n",
      "---------------------------------------------------\n",
      "Fold 1 ROC AUC is: 0.9929889574233205\n",
      "FOLD 2\n",
      "---------------------------------------------------\n",
      "Fold 2 ROC AUC is: 0.9936311885548962\n",
      "FOLD 3\n",
      "---------------------------------------------------\n",
      "Fold 3 ROC AUC is: 0.9934656918376485\n",
      "FOLD 4\n",
      "---------------------------------------------------\n",
      "Fold 4 ROC AUC is: 0.9935378628814909\n"
     ]
    },
    {
     "name": "stderr",
     "output_type": "stream",
     "text": [
      "\u001b[32m[I 2021-11-25 20:07:39,589]\u001b[0m Trial 76 finished with value: 0.9933919925605414 and parameters: {'n_estimators': 6986, 'depth': 4, 'learning_rate': 0.29815829201185146, 'reg_alpha': 22.668051569164263, 'reg_lambda': 0.00472506278709821, 'subsample': 0.6997136340096354, 'boosting_type': 'gbdt', 'min_child_samples': 42, 'num_leaves': 102, 'colsample_bytree': 0.8793245286590166}. Best is trial 63 with value: 0.9939664430896553.\u001b[0m\n"
     ]
    },
    {
     "name": "stdout",
     "output_type": "stream",
     "text": [
      "Valid AUC score for lightgbm model is 0.9933919925605414\n",
      "FOLD 0\n",
      "---------------------------------------------------\n",
      "Fold 0 ROC AUC is: 0.9931726292271718\n",
      "FOLD 1\n",
      "---------------------------------------------------\n",
      "Fold 1 ROC AUC is: 0.9928726118067605\n",
      "FOLD 2\n",
      "---------------------------------------------------\n",
      "Fold 2 ROC AUC is: 0.9934108700266912\n",
      "FOLD 3\n",
      "---------------------------------------------------\n",
      "Fold 3 ROC AUC is: 0.9932393684576105\n",
      "FOLD 4\n",
      "---------------------------------------------------\n",
      "Fold 4 ROC AUC is: 0.9933355069133484\n"
     ]
    },
    {
     "name": "stderr",
     "output_type": "stream",
     "text": [
      "\u001b[32m[I 2021-11-25 20:10:49,408]\u001b[0m Trial 77 finished with value: 0.9932042946548613 and parameters: {'n_estimators': 6356, 'depth': 3, 'learning_rate': 0.3908992038919344, 'reg_alpha': 6.017780226530201, 'reg_lambda': 0.0013310738617534426, 'subsample': 0.6513497254105186, 'boosting_type': 'gbdt', 'min_child_samples': 30, 'num_leaves': 92, 'colsample_bytree': 0.9048026680715009}. Best is trial 63 with value: 0.9939664430896553.\u001b[0m\n"
     ]
    },
    {
     "name": "stdout",
     "output_type": "stream",
     "text": [
      "Valid AUC score for lightgbm model is 0.9932042946548613\n",
      "FOLD 0\n",
      "---------------------------------------------------\n",
      "Fold 0 ROC AUC is: 0.993194637247024\n",
      "FOLD 1\n",
      "---------------------------------------------------\n",
      "Fold 1 ROC AUC is: 0.9929015565687456\n",
      "FOLD 2\n",
      "---------------------------------------------------\n",
      "Fold 2 ROC AUC is: 0.9934137532247942\n",
      "FOLD 3\n",
      "---------------------------------------------------\n",
      "Fold 3 ROC AUC is: 0.9933196020238546\n",
      "FOLD 4\n",
      "---------------------------------------------------\n",
      "Fold 4 ROC AUC is: 0.9933144527054513\n"
     ]
    },
    {
     "name": "stderr",
     "output_type": "stream",
     "text": [
      "\u001b[32m[I 2021-11-25 20:15:01,681]\u001b[0m Trial 78 finished with value: 0.9932276953890968 and parameters: {'n_estimators': 6567, 'depth': 4, 'learning_rate': 0.25125356305682695, 'reg_alpha': 3.007483434632268, 'reg_lambda': 0.0018532668651194462, 'subsample': 0.7013012400813444, 'boosting_type': 'gbdt', 'min_child_samples': 68, 'num_leaves': 112, 'colsample_bytree': 0.8671937884142497}. Best is trial 63 with value: 0.9939664430896553.\u001b[0m\n"
     ]
    },
    {
     "name": "stdout",
     "output_type": "stream",
     "text": [
      "Valid AUC score for lightgbm model is 0.9932276953890968\n",
      "FOLD 0\n",
      "---------------------------------------------------\n",
      "Fold 0 ROC AUC is: 0.9932457448215498\n",
      "FOLD 1\n",
      "---------------------------------------------------\n",
      "Fold 1 ROC AUC is: 0.9929082931196682\n",
      "FOLD 2\n",
      "---------------------------------------------------\n",
      "Fold 2 ROC AUC is: 0.9934841840870029\n",
      "FOLD 3\n",
      "---------------------------------------------------\n",
      "Fold 3 ROC AUC is: 0.9933400491606342\n",
      "FOLD 4\n",
      "---------------------------------------------------\n",
      "Fold 4 ROC AUC is: 0.9933406224683097\n"
     ]
    },
    {
     "name": "stderr",
     "output_type": "stream",
     "text": [
      "\u001b[32m[I 2021-11-25 21:37:05,300]\u001b[0m Trial 79 finished with value: 0.9932621291427949 and parameters: {'n_estimators': 5869, 'depth': 10, 'learning_rate': 0.16271032133195015, 'reg_alpha': 13.312615968924039, 'reg_lambda': 0.0010908248814318255, 'subsample': 0.8973532965453676, 'boosting_type': 'dart', 'min_child_samples': 65, 'num_leaves': 61, 'colsample_bytree': 0.8489759065374768}. Best is trial 63 with value: 0.9939664430896553.\u001b[0m\n"
     ]
    },
    {
     "name": "stdout",
     "output_type": "stream",
     "text": [
      "Valid AUC score for lightgbm model is 0.9932621291427949\n",
      "FOLD 0\n",
      "---------------------------------------------------\n",
      "Fold 0 ROC AUC is: 0.9932601555028653\n",
      "FOLD 1\n",
      "---------------------------------------------------\n",
      "Fold 1 ROC AUC is: 0.9930011034813465\n",
      "FOLD 2\n",
      "---------------------------------------------------\n",
      "Fold 2 ROC AUC is: 0.9935608380208714\n",
      "FOLD 3\n",
      "---------------------------------------------------\n",
      "Fold 3 ROC AUC is: 0.99339604098089\n",
      "FOLD 4\n",
      "---------------------------------------------------\n",
      "Fold 4 ROC AUC is: 0.9934183215948329\n"
     ]
    },
    {
     "name": "stderr",
     "output_type": "stream",
     "text": [
      "\u001b[32m[I 2021-11-25 21:49:12,362]\u001b[0m Trial 80 finished with value: 0.9933262326694867 and parameters: {'n_estimators': 6846, 'depth': 9, 'learning_rate': 0.11950927437988401, 'reg_alpha': 0.10290713354310183, 'reg_lambda': 0.004360255519770264, 'subsample': 0.7436903476281375, 'boosting_type': 'gbdt', 'min_child_samples': 61, 'num_leaves': 84, 'colsample_bytree': 0.7879595657582523}. Best is trial 63 with value: 0.9939664430896553.\u001b[0m\n"
     ]
    },
    {
     "name": "stdout",
     "output_type": "stream",
     "text": [
      "Valid AUC score for lightgbm model is 0.9933262326694867\n",
      "FOLD 0\n",
      "---------------------------------------------------\n",
      "Fold 0 ROC AUC is: 0.9939166086846778\n",
      "FOLD 1\n",
      "---------------------------------------------------\n",
      "Fold 1 ROC AUC is: 0.9935810841809003\n",
      "FOLD 2\n",
      "---------------------------------------------------\n",
      "Fold 2 ROC AUC is: 0.9941749847883922\n",
      "FOLD 3\n",
      "---------------------------------------------------\n",
      "Fold 3 ROC AUC is: 0.9940030870011799\n",
      "FOLD 4\n",
      "---------------------------------------------------\n",
      "Fold 4 ROC AUC is: 0.9940179607440417\n"
     ]
    },
    {
     "name": "stderr",
     "output_type": "stream",
     "text": [
      "\u001b[32m[I 2021-11-25 21:52:30,543]\u001b[0m Trial 81 finished with value: 0.9939371626004775 and parameters: {'n_estimators': 6865, 'depth': 3, 'learning_rate': 0.21276105421387703, 'reg_alpha': 22.77546992108252, 'reg_lambda': 0.00266186380059959, 'subsample': 0.6742226486134001, 'boosting_type': 'gbdt', 'min_child_samples': 72, 'num_leaves': 119, 'colsample_bytree': 0.8981685487562325}. Best is trial 63 with value: 0.9939664430896553.\u001b[0m\n"
     ]
    },
    {
     "name": "stdout",
     "output_type": "stream",
     "text": [
      "Valid AUC score for lightgbm model is 0.9939371626004775\n",
      "FOLD 0\n",
      "---------------------------------------------------\n",
      "Fold 0 ROC AUC is: 0.9937102518858334\n",
      "FOLD 1\n",
      "---------------------------------------------------\n",
      "Fold 1 ROC AUC is: 0.9933727434443087\n",
      "FOLD 2\n",
      "---------------------------------------------------\n",
      "Fold 2 ROC AUC is: 0.9940020532178439\n",
      "FOLD 3\n",
      "---------------------------------------------------\n",
      "Fold 3 ROC AUC is: 0.9937507147727824\n",
      "FOLD 4\n",
      "---------------------------------------------------\n",
      "Fold 4 ROC AUC is: 0.9938644285040349\n"
     ]
    },
    {
     "name": "stderr",
     "output_type": "stream",
     "text": [
      "\u001b[32m[I 2021-11-25 21:55:27,085]\u001b[0m Trial 82 finished with value: 0.9937383805765182 and parameters: {'n_estimators': 6395, 'depth': 3, 'learning_rate': 0.33728409661350756, 'reg_alpha': 22.746332355227096, 'reg_lambda': 0.0016462995950364768, 'subsample': 0.6652118479678035, 'boosting_type': 'gbdt', 'min_child_samples': 72, 'num_leaves': 97, 'colsample_bytree': 0.9443194725588734}. Best is trial 63 with value: 0.9939664430896553.\u001b[0m\n"
     ]
    },
    {
     "name": "stdout",
     "output_type": "stream",
     "text": [
      "Valid AUC score for lightgbm model is 0.9937383805765182\n",
      "FOLD 0\n",
      "---------------------------------------------------\n",
      "Fold 0 ROC AUC is: 0.9939292601695586\n",
      "FOLD 1\n",
      "---------------------------------------------------\n",
      "Fold 1 ROC AUC is: 0.9935682388081727\n",
      "FOLD 2\n",
      "---------------------------------------------------\n",
      "Fold 2 ROC AUC is: 0.9941505605732471\n",
      "FOLD 3\n",
      "---------------------------------------------------\n",
      "Fold 3 ROC AUC is: 0.9940229787479368\n",
      "FOLD 4\n",
      "---------------------------------------------------\n",
      "Fold 4 ROC AUC is: 0.9940155527701099\n"
     ]
    },
    {
     "name": "stderr",
     "output_type": "stream",
     "text": [
      "\u001b[32m[I 2021-11-25 21:58:42,916]\u001b[0m Trial 83 finished with value: 0.9939355085153263 and parameters: {'n_estimators': 6640, 'depth': 3, 'learning_rate': 0.19824564509861575, 'reg_alpha': 15.85413055413461, 'reg_lambda': 0.001015547603031838, 'subsample': 0.6877289362408653, 'boosting_type': 'gbdt', 'min_child_samples': 70, 'num_leaves': 135, 'colsample_bytree': 0.925923679856978}. Best is trial 63 with value: 0.9939664430896553.\u001b[0m\n"
     ]
    },
    {
     "name": "stdout",
     "output_type": "stream",
     "text": [
      "Valid AUC score for lightgbm model is 0.9939355085153263\n",
      "FOLD 0\n",
      "---------------------------------------------------\n",
      "Fold 0 ROC AUC is: 0.993908658673112\n",
      "FOLD 1\n",
      "---------------------------------------------------\n",
      "Fold 1 ROC AUC is: 0.9935653726048046\n",
      "FOLD 2\n",
      "---------------------------------------------------\n",
      "Fold 2 ROC AUC is: 0.994240328569556\n",
      "FOLD 3\n",
      "---------------------------------------------------\n",
      "Fold 3 ROC AUC is: 0.9939988262312767\n",
      "FOLD 4\n",
      "---------------------------------------------------\n",
      "Fold 4 ROC AUC is: 0.9940519489181038\n"
     ]
    },
    {
     "name": "stderr",
     "output_type": "stream",
     "text": [
      "\u001b[32m[I 2021-11-25 22:01:55,499]\u001b[0m Trial 84 finished with value: 0.9939512288617091 and parameters: {'n_estimators': 6125, 'depth': 3, 'learning_rate': 0.19234588894362084, 'reg_alpha': 17.201298992702853, 'reg_lambda': 0.002265213455892949, 'subsample': 0.6913593820010123, 'boosting_type': 'gbdt', 'min_child_samples': 75, 'num_leaves': 153, 'colsample_bytree': 0.9223300315191533}. Best is trial 63 with value: 0.9939664430896553.\u001b[0m\n"
     ]
    },
    {
     "name": "stdout",
     "output_type": "stream",
     "text": [
      "Valid AUC score for lightgbm model is 0.9939512288617091\n",
      "FOLD 0\n",
      "---------------------------------------------------\n",
      "Fold 0 ROC AUC is: 0.9939373452473907\n",
      "FOLD 1\n",
      "---------------------------------------------------\n",
      "Fold 1 ROC AUC is: 0.9935020019881471\n",
      "FOLD 2\n",
      "---------------------------------------------------\n",
      "Fold 2 ROC AUC is: 0.9941610616071166\n",
      "FOLD 3\n",
      "---------------------------------------------------\n",
      "Fold 3 ROC AUC is: 0.9940134609529543\n",
      "FOLD 4\n",
      "---------------------------------------------------\n",
      "Fold 4 ROC AUC is: 0.9939884266547244\n"
     ]
    },
    {
     "name": "stderr",
     "output_type": "stream",
     "text": [
      "\u001b[32m[I 2021-11-25 22:04:48,482]\u001b[0m Trial 85 finished with value: 0.9939191643764698 and parameters: {'n_estimators': 6098, 'depth': 3, 'learning_rate': 0.20291619868531108, 'reg_alpha': 16.302331724752268, 'reg_lambda': 0.007847022030123484, 'subsample': 0.6377886980713469, 'boosting_type': 'gbdt', 'min_child_samples': 73, 'num_leaves': 142, 'colsample_bytree': 0.8964043147694389}. Best is trial 63 with value: 0.9939664430896553.\u001b[0m\n"
     ]
    },
    {
     "name": "stdout",
     "output_type": "stream",
     "text": [
      "Valid AUC score for lightgbm model is 0.9939191643764698\n",
      "FOLD 0\n",
      "---------------------------------------------------\n",
      "Fold 0 ROC AUC is: 0.9935154957785499\n",
      "FOLD 1\n",
      "---------------------------------------------------\n",
      "Fold 1 ROC AUC is: 0.9931641224814325\n",
      "FOLD 2\n",
      "---------------------------------------------------\n",
      "Fold 2 ROC AUC is: 0.9937283648110178\n",
      "FOLD 3\n",
      "---------------------------------------------------\n",
      "Fold 3 ROC AUC is: 0.9935596228006672\n",
      "FOLD 4\n",
      "---------------------------------------------------\n",
      "Fold 4 ROC AUC is: 0.9936197145401601\n"
     ]
    },
    {
     "name": "stderr",
     "output_type": "stream",
     "text": [
      "\u001b[32m[I 2021-11-25 22:08:30,798]\u001b[0m Trial 86 finished with value: 0.9935159239682462 and parameters: {'n_estimators': 6073, 'depth': 4, 'learning_rate': 0.20814513539141083, 'reg_alpha': 15.590315219139615, 'reg_lambda': 0.007311716388397944, 'subsample': 0.6340389840386299, 'boosting_type': 'gbdt', 'min_child_samples': 35, 'num_leaves': 150, 'colsample_bytree': 0.8992800787577118}. Best is trial 63 with value: 0.9939664430896553.\u001b[0m\n"
     ]
    },
    {
     "name": "stdout",
     "output_type": "stream",
     "text": [
      "Valid AUC score for lightgbm model is 0.9935159239682462\n",
      "FOLD 0\n",
      "---------------------------------------------------\n",
      "Fold 0 ROC AUC is: 0.9938907348792957\n",
      "FOLD 1\n",
      "---------------------------------------------------\n",
      "Fold 1 ROC AUC is: 0.9935599860328882\n",
      "FOLD 2\n",
      "---------------------------------------------------\n",
      "Fold 2 ROC AUC is: 0.9941923309509302\n",
      "FOLD 3\n",
      "---------------------------------------------------\n",
      "Fold 3 ROC AUC is: 0.9940098681521321\n",
      "FOLD 4\n",
      "---------------------------------------------------\n",
      "Fold 4 ROC AUC is: 0.9940152698387316\n"
     ]
    },
    {
     "name": "stderr",
     "output_type": "stream",
     "text": [
      "\u001b[32m[I 2021-11-25 22:11:30,842]\u001b[0m Trial 87 finished with value: 0.993932417003562 and parameters: {'n_estimators': 6255, 'depth': 3, 'learning_rate': 0.17404738338187095, 'reg_alpha': 9.741102268652314, 'reg_lambda': 0.0026634667852921687, 'subsample': 0.6220280132262928, 'boosting_type': 'gbdt', 'min_child_samples': 68, 'num_leaves': 156, 'colsample_bytree': 0.8348079378220777}. Best is trial 63 with value: 0.9939664430896553.\u001b[0m\n"
     ]
    },
    {
     "name": "stdout",
     "output_type": "stream",
     "text": [
      "Valid AUC score for lightgbm model is 0.993932417003562\n",
      "FOLD 0\n",
      "---------------------------------------------------\n",
      "Fold 0 ROC AUC is: 0.9930017128717623\n",
      "FOLD 1\n",
      "---------------------------------------------------\n",
      "Fold 1 ROC AUC is: 0.9926843306017132\n",
      "FOLD 2\n",
      "---------------------------------------------------\n",
      "Fold 2 ROC AUC is: 0.99322586949395\n",
      "FOLD 3\n",
      "---------------------------------------------------\n",
      "Fold 3 ROC AUC is: 0.9930627569321665\n",
      "FOLD 4\n",
      "---------------------------------------------------\n",
      "Fold 4 ROC AUC is: 0.993044718769595\n"
     ]
    },
    {
     "name": "stderr",
     "output_type": "stream",
     "text": [
      "\u001b[32m[I 2021-11-25 22:17:25,808]\u001b[0m Trial 88 finished with value: 0.9930020264930715 and parameters: {'n_estimators': 5503, 'depth': 8, 'learning_rate': 0.18357842759669515, 'reg_alpha': 9.916665264624076, 'reg_lambda': 0.0032790661732929696, 'subsample': 0.594967596575742, 'boosting_type': 'gbdt', 'min_child_samples': 65, 'num_leaves': 171, 'colsample_bytree': 0.8220943077718716}. Best is trial 63 with value: 0.9939664430896553.\u001b[0m\n"
     ]
    },
    {
     "name": "stdout",
     "output_type": "stream",
     "text": [
      "Valid AUC score for lightgbm model is 0.9930020264930715\n",
      "FOLD 0\n",
      "---------------------------------------------------\n",
      "Fold 0 ROC AUC is: 0.9939386408830587\n",
      "FOLD 1\n",
      "---------------------------------------------------\n",
      "Fold 1 ROC AUC is: 0.993626274283333\n",
      "FOLD 2\n",
      "---------------------------------------------------\n",
      "Fold 2 ROC AUC is: 0.9941825545384293\n",
      "FOLD 3\n",
      "---------------------------------------------------\n",
      "Fold 3 ROC AUC is: 0.9940665788105253\n",
      "FOLD 4\n",
      "---------------------------------------------------\n",
      "Fold 4 ROC AUC is: 0.994059209526482\n"
     ]
    },
    {
     "name": "stderr",
     "output_type": "stream",
     "text": [
      "\u001b[32m[I 2021-11-25 22:20:29,197]\u001b[0m Trial 89 finished with value: 0.9939733111997778 and parameters: {'n_estimators': 6287, 'depth': 3, 'learning_rate': 0.140791947849748, 'reg_alpha': 10.186480187818072, 'reg_lambda': 0.008006100871716182, 'subsample': 0.62542345113762, 'boosting_type': 'gbdt', 'min_child_samples': 68, 'num_leaves': 158, 'colsample_bytree': 0.7506696297066568}. Best is trial 89 with value: 0.9939733111997778.\u001b[0m\n"
     ]
    },
    {
     "name": "stdout",
     "output_type": "stream",
     "text": [
      "Valid AUC score for lightgbm model is 0.9939733111997778\n",
      "FOLD 0\n",
      "---------------------------------------------------\n",
      "Fold 0 ROC AUC is: 0.9938914805229028\n",
      "FOLD 1\n",
      "---------------------------------------------------\n",
      "Fold 1 ROC AUC is: 0.9935243136160526\n",
      "FOLD 2\n",
      "---------------------------------------------------\n",
      "Fold 2 ROC AUC is: 0.9941744505642762\n",
      "FOLD 3\n",
      "---------------------------------------------------\n",
      "Fold 3 ROC AUC is: 0.9940441513942052\n",
      "FOLD 4\n",
      "---------------------------------------------------\n",
      "Fold 4 ROC AUC is: 0.9940030306942224\n"
     ]
    },
    {
     "name": "stderr",
     "output_type": "stream",
     "text": [
      "\u001b[32m[I 2021-11-25 22:23:15,166]\u001b[0m Trial 90 finished with value: 0.9939262064071297 and parameters: {'n_estimators': 5724, 'depth': 3, 'learning_rate': 0.1337683117447871, 'reg_alpha': 6.326208384336491, 'reg_lambda': 0.012748138176635138, 'subsample': 0.6218662545171041, 'boosting_type': 'gbdt', 'min_child_samples': 68, 'num_leaves': 157, 'colsample_bytree': 0.8393701885275698}. Best is trial 89 with value: 0.9939733111997778.\u001b[0m\n"
     ]
    },
    {
     "name": "stdout",
     "output_type": "stream",
     "text": [
      "Valid AUC score for lightgbm model is 0.9939262064071297\n",
      "FOLD 0\n",
      "---------------------------------------------------\n",
      "Fold 0 ROC AUC is: 0.9939246545766178\n",
      "FOLD 1\n",
      "---------------------------------------------------\n",
      "Fold 1 ROC AUC is: 0.9935592251406845\n",
      "FOLD 2\n",
      "---------------------------------------------------\n",
      "Fold 2 ROC AUC is: 0.9942001219509133\n",
      "FOLD 3\n",
      "---------------------------------------------------\n",
      "Fold 3 ROC AUC is: 0.994061202257063\n",
      "FOLD 4\n",
      "---------------------------------------------------\n",
      "Fold 4 ROC AUC is: 0.994041586069995\n"
     ]
    },
    {
     "name": "stderr",
     "output_type": "stream",
     "text": [
      "\u001b[32m[I 2021-11-25 22:26:03,054]\u001b[0m Trial 91 finished with value: 0.9939557558655359 and parameters: {'n_estimators': 5868, 'depth': 3, 'learning_rate': 0.13028924822700697, 'reg_alpha': 9.651802707579018, 'reg_lambda': 0.012038463406059132, 'subsample': 0.6255127333384685, 'boosting_type': 'gbdt', 'min_child_samples': 69, 'num_leaves': 156, 'colsample_bytree': 0.7296210193846725}. Best is trial 89 with value: 0.9939733111997778.\u001b[0m\n"
     ]
    },
    {
     "name": "stdout",
     "output_type": "stream",
     "text": [
      "Valid AUC score for lightgbm model is 0.9939557558655359\n",
      "FOLD 0\n",
      "---------------------------------------------------\n",
      "Fold 0 ROC AUC is: 0.9938991498411986\n",
      "FOLD 1\n",
      "---------------------------------------------------\n",
      "Fold 1 ROC AUC is: 0.9935221688285663\n",
      "FOLD 2\n",
      "---------------------------------------------------\n",
      "Fold 2 ROC AUC is: 0.9942020542745624\n",
      "FOLD 3\n",
      "---------------------------------------------------\n",
      "Fold 3 ROC AUC is: 0.994049492089153\n",
      "FOLD 4\n",
      "---------------------------------------------------\n",
      "Fold 4 ROC AUC is: 0.994017238407448\n"
     ]
    },
    {
     "name": "stderr",
     "output_type": "stream",
     "text": [
      "\u001b[32m[I 2021-11-25 22:28:51,158]\u001b[0m Trial 92 finished with value: 0.9939367030669066 and parameters: {'n_estimators': 5903, 'depth': 3, 'learning_rate': 0.14481148221850532, 'reg_alpha': 6.353087350047609, 'reg_lambda': 0.01211433108268051, 'subsample': 0.6211259135892419, 'boosting_type': 'gbdt', 'min_child_samples': 69, 'num_leaves': 159, 'colsample_bytree': 0.7479193832833054}. Best is trial 89 with value: 0.9939733111997778.\u001b[0m\n"
     ]
    },
    {
     "name": "stdout",
     "output_type": "stream",
     "text": [
      "Valid AUC score for lightgbm model is 0.9939367030669066\n",
      "FOLD 0\n",
      "---------------------------------------------------\n",
      "Fold 0 ROC AUC is: 0.9938500107324462\n",
      "FOLD 1\n",
      "---------------------------------------------------\n",
      "Fold 1 ROC AUC is: 0.9934869709615999\n",
      "FOLD 2\n",
      "---------------------------------------------------\n",
      "Fold 2 ROC AUC is: 0.9942270966553857\n",
      "FOLD 3\n",
      "---------------------------------------------------\n",
      "Fold 3 ROC AUC is: 0.994059781259167\n",
      "FOLD 4\n",
      "---------------------------------------------------\n",
      "Fold 4 ROC AUC is: 0.9940133743652536\n"
     ]
    },
    {
     "name": "stderr",
     "output_type": "stream",
     "text": [
      "\u001b[32m[I 2021-11-25 22:31:31,219]\u001b[0m Trial 93 finished with value: 0.993926188229026 and parameters: {'n_estimators': 5692, 'depth': 3, 'learning_rate': 0.14995513558676088, 'reg_alpha': 5.8504024641527606, 'reg_lambda': 0.01298958055318162, 'subsample': 0.6226938738214387, 'boosting_type': 'gbdt', 'min_child_samples': 68, 'num_leaves': 158, 'colsample_bytree': 0.7404951564216403}. Best is trial 89 with value: 0.9939733111997778.\u001b[0m\n"
     ]
    },
    {
     "name": "stdout",
     "output_type": "stream",
     "text": [
      "Valid AUC score for lightgbm model is 0.993926188229026\n",
      "FOLD 0\n",
      "---------------------------------------------------\n",
      "Fold 0 ROC AUC is: 0.9939048520832912\n",
      "FOLD 1\n",
      "---------------------------------------------------\n",
      "Fold 1 ROC AUC is: 0.9935399720937154\n",
      "FOLD 2\n",
      "---------------------------------------------------\n",
      "Fold 2 ROC AUC is: 0.9941774165921329\n",
      "FOLD 3\n",
      "---------------------------------------------------\n",
      "Fold 3 ROC AUC is: 0.9940896227709243\n",
      "FOLD 4\n",
      "---------------------------------------------------\n",
      "Fold 4 ROC AUC is: 0.9940268917036814\n"
     ]
    },
    {
     "name": "stderr",
     "output_type": "stream",
     "text": [
      "\u001b[32m[I 2021-11-25 22:34:37,701]\u001b[0m Trial 94 finished with value: 0.9939464648309733 and parameters: {'n_estimators': 5776, 'depth': 3, 'learning_rate': 0.1406997582234972, 'reg_alpha': 6.711117525027175, 'reg_lambda': 0.014940244870364196, 'subsample': 0.6232848645870532, 'boosting_type': 'gbdt', 'min_child_samples': 68, 'num_leaves': 158, 'colsample_bytree': 0.7323336457678786}. Best is trial 89 with value: 0.9939733111997778.\u001b[0m\n"
     ]
    },
    {
     "name": "stdout",
     "output_type": "stream",
     "text": [
      "Valid AUC score for lightgbm model is 0.9939464648309733\n",
      "FOLD 0\n",
      "---------------------------------------------------\n",
      "Fold 0 ROC AUC is: 0.993643917396196\n",
      "FOLD 1\n",
      "---------------------------------------------------\n",
      "Fold 1 ROC AUC is: 0.9932229794532904\n",
      "FOLD 2\n",
      "---------------------------------------------------\n",
      "Fold 2 ROC AUC is: 0.993826019422864\n",
      "FOLD 3\n",
      "---------------------------------------------------\n",
      "Fold 3 ROC AUC is: 0.9937625536421841\n",
      "FOLD 4\n",
      "---------------------------------------------------\n",
      "Fold 4 ROC AUC is: 0.9937008035625795\n"
     ]
    },
    {
     "name": "stderr",
     "output_type": "stream",
     "text": [
      "\u001b[32m[I 2021-11-25 22:38:19,851]\u001b[0m Trial 95 finished with value: 0.9936291189097384 and parameters: {'n_estimators': 5901, 'depth': 4, 'learning_rate': 0.14041681462536365, 'reg_alpha': 6.1265539269404705, 'reg_lambda': 0.012089387883474013, 'subsample': 0.602145037244295, 'boosting_type': 'gbdt', 'min_child_samples': 61, 'num_leaves': 168, 'colsample_bytree': 0.7026905606799227}. Best is trial 89 with value: 0.9939733111997778.\u001b[0m\n"
     ]
    },
    {
     "name": "stdout",
     "output_type": "stream",
     "text": [
      "Valid AUC score for lightgbm model is 0.9936291189097384\n",
      "FOLD 0\n",
      "---------------------------------------------------\n",
      "Fold 0 ROC AUC is: 0.9938430198025386\n",
      "FOLD 1\n",
      "---------------------------------------------------\n",
      "Fold 1 ROC AUC is: 0.993451877901488\n",
      "FOLD 2\n",
      "---------------------------------------------------\n",
      "Fold 2 ROC AUC is: 0.9941110249311998\n",
      "FOLD 3\n",
      "---------------------------------------------------\n",
      "Fold 3 ROC AUC is: 0.9939926335491321\n",
      "FOLD 4\n",
      "---------------------------------------------------\n",
      "Fold 4 ROC AUC is: 0.9939403133122499\n"
     ]
    },
    {
     "name": "stderr",
     "output_type": "stream",
     "text": [
      "\u001b[32m[I 2021-11-25 22:40:47,222]\u001b[0m Trial 96 finished with value: 0.993866406660485 and parameters: {'n_estimators': 5178, 'depth': 3, 'learning_rate': 0.10742993373550011, 'reg_alpha': 10.263759676468394, 'reg_lambda': 0.027240568922283638, 'subsample': 0.6099240566108073, 'boosting_type': 'gbdt', 'min_child_samples': 64, 'num_leaves': 162, 'colsample_bytree': 0.7303958069191278}. Best is trial 89 with value: 0.9939733111997778.\u001b[0m\n"
     ]
    },
    {
     "name": "stdout",
     "output_type": "stream",
     "text": [
      "Valid AUC score for lightgbm model is 0.993866406660485\n",
      "FOLD 0\n",
      "---------------------------------------------------\n",
      "Fold 0 ROC AUC is: 0.9922259528219829\n",
      "FOLD 1\n",
      "---------------------------------------------------\n",
      "Fold 1 ROC AUC is: 0.9918929813038821\n",
      "FOLD 2\n",
      "---------------------------------------------------\n",
      "Fold 2 ROC AUC is: 0.9926447679068068\n",
      "FOLD 3\n",
      "---------------------------------------------------\n",
      "Fold 3 ROC AUC is: 0.992498905689854\n",
      "FOLD 4\n",
      "---------------------------------------------------\n",
      "Fold 4 ROC AUC is: 0.9925278559477155\n"
     ]
    },
    {
     "name": "stderr",
     "output_type": "stream",
     "text": [
      "\u001b[32m[I 2021-11-25 23:05:13,393]\u001b[0m Trial 97 finished with value: 0.9923569837158448 and parameters: {'n_estimators': 5791, 'depth': 3, 'learning_rate': 0.1307444654451123, 'reg_alpha': 0.002096708248285893, 'reg_lambda': 0.009774196482778925, 'subsample': 0.5909831548291367, 'boosting_type': 'dart', 'min_child_samples': 67, 'num_leaves': 154, 'colsample_bytree': 0.7595605171222627}. Best is trial 89 with value: 0.9939733111997778.\u001b[0m\n"
     ]
    },
    {
     "name": "stdout",
     "output_type": "stream",
     "text": [
      "Valid AUC score for lightgbm model is 0.9923569837158448\n",
      "FOLD 0\n",
      "---------------------------------------------------\n",
      "Fold 0 ROC AUC is: 0.9937975021927974\n",
      "FOLD 1\n",
      "---------------------------------------------------\n",
      "Fold 1 ROC AUC is: 0.9934801359978748\n",
      "FOLD 2\n",
      "---------------------------------------------------\n",
      "Fold 2 ROC AUC is: 0.9940945420881743\n",
      "FOLD 3\n",
      "---------------------------------------------------\n",
      "Fold 3 ROC AUC is: 0.9939577443259529\n",
      "FOLD 4\n",
      "---------------------------------------------------\n",
      "Fold 4 ROC AUC is: 0.9939505763839687\n"
     ]
    },
    {
     "name": "stderr",
     "output_type": "stream",
     "text": [
      "\u001b[32m[I 2021-11-25 23:08:38,883]\u001b[0m Trial 98 finished with value: 0.9938547492592891 and parameters: {'n_estimators': 6286, 'depth': 3, 'learning_rate': 0.18433676224915224, 'reg_alpha': 3.6185762323790467, 'reg_lambda': 0.005606854382616025, 'subsample': 0.6222149527831358, 'boosting_type': 'gbdt', 'min_child_samples': 69, 'num_leaves': 178, 'colsample_bytree': 0.6821783736205268}. Best is trial 89 with value: 0.9939733111997778.\u001b[0m\n"
     ]
    },
    {
     "name": "stdout",
     "output_type": "stream",
     "text": [
      "Valid AUC score for lightgbm model is 0.9938547492592891\n",
      "FOLD 0\n",
      "---------------------------------------------------\n",
      "Fold 0 ROC AUC is: 0.9938784196705104\n",
      "FOLD 1\n",
      "---------------------------------------------------\n",
      "Fold 1 ROC AUC is: 0.993522953906967\n",
      "FOLD 2\n",
      "---------------------------------------------------\n",
      "Fold 2 ROC AUC is: 0.9941549374864379\n",
      "FOLD 3\n",
      "---------------------------------------------------\n",
      "Fold 3 ROC AUC is: 0.99406736074853\n",
      "FOLD 4\n",
      "---------------------------------------------------\n",
      "Fold 4 ROC AUC is: 0.9940149429946247\n"
     ]
    },
    {
     "name": "stderr",
     "output_type": "stream",
     "text": [
      "\u001b[32m[I 2021-11-25 23:11:33,814]\u001b[0m Trial 99 finished with value: 0.9939263057918823 and parameters: {'n_estimators': 5968, 'depth': 3, 'learning_rate': 0.11018357629911886, 'reg_alpha': 6.789866104615698, 'reg_lambda': 0.003768723718163471, 'subsample': 0.6569976077871968, 'boosting_type': 'gbdt', 'min_child_samples': 67, 'num_leaves': 165, 'colsample_bytree': 0.7216843527185914}. Best is trial 89 with value: 0.9939733111997778.\u001b[0m\n"
     ]
    },
    {
     "name": "stdout",
     "output_type": "stream",
     "text": [
      "Valid AUC score for lightgbm model is 0.9939263057918823\n",
      "FOLD 0\n",
      "---------------------------------------------------\n",
      "Fold 0 ROC AUC is: 0.9916361128776792\n",
      "FOLD 1\n",
      "---------------------------------------------------\n",
      "Fold 1 ROC AUC is: 0.9913217956230336\n",
      "FOLD 2\n",
      "---------------------------------------------------\n",
      "Fold 2 ROC AUC is: 0.9920624850228412\n",
      "FOLD 3\n",
      "---------------------------------------------------\n",
      "Fold 3 ROC AUC is: 0.9918887505417345\n",
      "FOLD 4\n",
      "---------------------------------------------------\n",
      "Fold 4 ROC AUC is: 0.9919697810299789\n"
     ]
    },
    {
     "name": "stderr",
     "output_type": "stream",
     "text": [
      "\u001b[32m[I 2021-11-25 23:20:46,658]\u001b[0m Trial 100 finished with value: 0.9917745865424676 and parameters: {'n_estimators': 5940, 'depth': 7, 'learning_rate': 0.014073284917298232, 'reg_alpha': 8.848915785626671, 'reg_lambda': 0.0037265661867146244, 'subsample': 0.6583572413969843, 'boosting_type': 'gbdt', 'min_child_samples': 70, 'num_leaves': 168, 'colsample_bytree': 0.7302020738690157}. Best is trial 89 with value: 0.9939733111997778.\u001b[0m\n"
     ]
    },
    {
     "name": "stdout",
     "output_type": "stream",
     "text": [
      "Valid AUC score for lightgbm model is 0.9917745865424676\n",
      "FOLD 0\n",
      "---------------------------------------------------\n",
      "Fold 0 ROC AUC is: 0.9938575933415338\n",
      "FOLD 1\n",
      "---------------------------------------------------\n",
      "Fold 1 ROC AUC is: 0.9934894546338492\n",
      "FOLD 2\n",
      "---------------------------------------------------\n",
      "Fold 2 ROC AUC is: 0.994185818253085\n",
      "FOLD 3\n",
      "---------------------------------------------------\n",
      "Fold 3 ROC AUC is: 0.9940166456894354\n",
      "FOLD 4\n",
      "---------------------------------------------------\n",
      "Fold 4 ROC AUC is: 0.9939856220765914\n"
     ]
    },
    {
     "name": "stderr",
     "output_type": "stream",
     "text": [
      "\u001b[32m[I 2021-11-25 23:23:35,649]\u001b[0m Trial 101 finished with value: 0.9939054480909895 and parameters: {'n_estimators': 5617, 'depth': 3, 'learning_rate': 0.11321014626062936, 'reg_alpha': 7.0944999069602215, 'reg_lambda': 0.014663699420549505, 'subsample': 0.6423088482551939, 'boosting_type': 'gbdt', 'min_child_samples': 67, 'num_leaves': 152, 'colsample_bytree': 0.7784115163963881}. Best is trial 89 with value: 0.9939733111997778.\u001b[0m\n"
     ]
    },
    {
     "name": "stdout",
     "output_type": "stream",
     "text": [
      "Valid AUC score for lightgbm model is 0.9939054480909895\n",
      "FOLD 0\n",
      "---------------------------------------------------\n",
      "Fold 0 ROC AUC is: 0.9938553889266649\n",
      "FOLD 1\n",
      "---------------------------------------------------\n",
      "Fold 1 ROC AUC is: 0.9935274692197802\n",
      "FOLD 2\n",
      "---------------------------------------------------\n",
      "Fold 2 ROC AUC is: 0.9941225927455877\n",
      "FOLD 3\n",
      "---------------------------------------------------\n",
      "Fold 3 ROC AUC is: 0.9940791342942805\n",
      "FOLD 4\n",
      "---------------------------------------------------\n",
      "Fold 4 ROC AUC is: 0.9939667843497779\n"
     ]
    },
    {
     "name": "stderr",
     "output_type": "stream",
     "text": [
      "\u001b[32m[I 2021-11-25 23:26:37,356]\u001b[0m Trial 102 finished with value: 0.993908911136513 and parameters: {'n_estimators': 5766, 'depth': 3, 'learning_rate': 0.1407595671578436, 'reg_alpha': 2.177242749721197, 'reg_lambda': 0.00193315086062987, 'subsample': 0.6258312655385382, 'boosting_type': 'gbdt', 'min_child_samples': 65, 'num_leaves': 144, 'colsample_bytree': 0.7206941004046081}. Best is trial 89 with value: 0.9939733111997778.\u001b[0m\n"
     ]
    },
    {
     "name": "stdout",
     "output_type": "stream",
     "text": [
      "Valid AUC score for lightgbm model is 0.993908911136513\n",
      "FOLD 0\n",
      "---------------------------------------------------\n",
      "Fold 0 ROC AUC is: 0.9938713695448933\n",
      "FOLD 1\n",
      "---------------------------------------------------\n",
      "Fold 1 ROC AUC is: 0.993531114385499\n",
      "FOLD 2\n",
      "---------------------------------------------------\n",
      "Fold 2 ROC AUC is: 0.994191984622497\n",
      "FOLD 3\n",
      "---------------------------------------------------\n",
      "Fold 3 ROC AUC is: 0.9940633985216119\n",
      "FOLD 4\n",
      "---------------------------------------------------\n",
      "Fold 4 ROC AUC is: 0.9940234206526157\n"
     ]
    },
    {
     "name": "stderr",
     "output_type": "stream",
     "text": [
      "\u001b[32m[I 2021-11-25 23:29:38,030]\u001b[0m Trial 103 finished with value: 0.9939352771586517 and parameters: {'n_estimators': 6277, 'depth': 3, 'learning_rate': 0.1600053437540755, 'reg_alpha': 4.852445586697343, 'reg_lambda': 0.0025082577252881484, 'subsample': 0.5847464287918882, 'boosting_type': 'gbdt', 'min_child_samples': 70, 'num_leaves': 158, 'colsample_bytree': 0.6904229939484805}. Best is trial 89 with value: 0.9939733111997778.\u001b[0m\n"
     ]
    },
    {
     "name": "stdout",
     "output_type": "stream",
     "text": [
      "Valid AUC score for lightgbm model is 0.9939352771586517\n",
      "FOLD 0\n",
      "---------------------------------------------------\n",
      "Fold 0 ROC AUC is: 0.9939458232958012\n",
      "FOLD 1\n",
      "---------------------------------------------------\n",
      "Fold 1 ROC AUC is: 0.9936144394488441\n",
      "FOLD 2\n",
      "---------------------------------------------------\n",
      "Fold 2 ROC AUC is: 0.9942186952723858\n",
      "FOLD 3\n",
      "---------------------------------------------------\n",
      "Fold 3 ROC AUC is: 0.9940584286426255\n",
      "FOLD 4\n",
      "---------------------------------------------------\n",
      "Fold 4 ROC AUC is: 0.9940262068874572\n"
     ]
    },
    {
     "name": "stderr",
     "output_type": "stream",
     "text": [
      "\u001b[32m[I 2021-11-25 23:32:38,274]\u001b[0m Trial 104 finished with value: 0.993971017123072 and parameters: {'n_estimators': 6265, 'depth': 3, 'learning_rate': 0.16472403014793088, 'reg_alpha': 11.465390620777361, 'reg_lambda': 0.0033312969747808572, 'subsample': 0.5845116504194632, 'boosting_type': 'gbdt', 'min_child_samples': 71, 'num_leaves': 179, 'colsample_bytree': 0.6951716912782151}. Best is trial 89 with value: 0.9939733111997778.\u001b[0m\n"
     ]
    },
    {
     "name": "stdout",
     "output_type": "stream",
     "text": [
      "Valid AUC score for lightgbm model is 0.993971017123072\n",
      "FOLD 0\n",
      "---------------------------------------------------\n",
      "Fold 0 ROC AUC is: 0.9934352436272609\n",
      "FOLD 1\n",
      "---------------------------------------------------\n",
      "Fold 1 ROC AUC is: 0.9931469497254237\n",
      "FOLD 2\n",
      "---------------------------------------------------\n",
      "Fold 2 ROC AUC is: 0.9936996048196065\n",
      "FOLD 3\n",
      "---------------------------------------------------\n",
      "Fold 3 ROC AUC is: 0.9935872819465248\n",
      "FOLD 4\n",
      "---------------------------------------------------\n",
      "Fold 4 ROC AUC is: 0.9935665106563035\n"
     ]
    },
    {
     "name": "stderr",
     "output_type": "stream",
     "text": [
      "\u001b[32m[I 2021-11-25 23:36:34,575]\u001b[0m Trial 105 finished with value: 0.9934855818444492 and parameters: {'n_estimators': 6269, 'depth': 4, 'learning_rate': 0.16613632926453314, 'reg_alpha': 4.892606585923211, 'reg_lambda': 0.003048320709368449, 'subsample': 0.5844495649545653, 'boosting_type': 'gbdt', 'min_child_samples': 71, 'num_leaves': 176, 'colsample_bytree': 0.6996231177915135}. Best is trial 89 with value: 0.9939733111997778.\u001b[0m\n"
     ]
    },
    {
     "name": "stdout",
     "output_type": "stream",
     "text": [
      "Valid AUC score for lightgbm model is 0.9934855818444492\n",
      "FOLD 0\n",
      "---------------------------------------------------\n",
      "Fold 0 ROC AUC is: 0.991102702007638\n",
      "FOLD 1\n",
      "---------------------------------------------------\n",
      "Fold 1 ROC AUC is: 0.990932705596802\n",
      "FOLD 2\n",
      "---------------------------------------------------\n",
      "Fold 2 ROC AUC is: 0.9918321421487786\n",
      "FOLD 3\n",
      "---------------------------------------------------\n",
      "Fold 3 ROC AUC is: 0.9914050475279599\n",
      "FOLD 4\n",
      "---------------------------------------------------\n",
      "Fold 4 ROC AUC is: 0.9915439982100772\n"
     ]
    },
    {
     "name": "stderr",
     "output_type": "stream",
     "text": [
      "\u001b[32m[I 2021-11-25 23:37:11,386]\u001b[0m Trial 106 finished with value: 0.9913623657729264 and parameters: {'n_estimators': 730, 'depth': 3, 'learning_rate': 0.2708481319963843, 'reg_alpha': 11.330146194091732, 'reg_lambda': 0.002625530272072303, 'subsample': 0.5996335206746802, 'boosting_type': 'gbdt', 'min_child_samples': 70, 'num_leaves': 149, 'colsample_bytree': 0.6394172803858336}. Best is trial 89 with value: 0.9939733111997778.\u001b[0m\n"
     ]
    },
    {
     "name": "stdout",
     "output_type": "stream",
     "text": [
      "Valid AUC score for lightgbm model is 0.9913623657729264\n",
      "FOLD 0\n",
      "---------------------------------------------------\n",
      "Fold 0 ROC AUC is: 0.9939300102597919\n",
      "FOLD 1\n",
      "---------------------------------------------------\n",
      "Fold 1 ROC AUC is: 0.9936873769575\n",
      "FOLD 2\n",
      "---------------------------------------------------\n",
      "Fold 2 ROC AUC is: 0.9942695594119827\n",
      "FOLD 3\n",
      "---------------------------------------------------\n",
      "Fold 3 ROC AUC is: 0.9941156730091483\n",
      "FOLD 4\n",
      "---------------------------------------------------\n",
      "Fold 4 ROC AUC is: 0.9941412651847895\n"
     ]
    },
    {
     "name": "stderr",
     "output_type": "stream",
     "text": [
      "\u001b[32m[I 2021-11-25 23:48:52,839]\u001b[0m Trial 107 finished with value: 0.994028108310007 and parameters: {'n_estimators': 6470, 'depth': 3, 'learning_rate': 0.1919033887306462, 'reg_alpha': 16.173395552676244, 'reg_lambda': 0.009240410732608364, 'subsample': 0.5722922879132657, 'boosting_type': 'goss', 'min_child_samples': 73, 'num_leaves': 136, 'colsample_bytree': 0.689631897055958}. Best is trial 107 with value: 0.994028108310007.\u001b[0m\n"
     ]
    },
    {
     "name": "stdout",
     "output_type": "stream",
     "text": [
      "Valid AUC score for lightgbm model is 0.994028108310007\n",
      "FOLD 0\n",
      "---------------------------------------------------\n",
      "Fold 0 ROC AUC is: 0.9938266567744689\n",
      "FOLD 1\n",
      "---------------------------------------------------\n",
      "Fold 1 ROC AUC is: 0.9936305802604394\n",
      "FOLD 2\n",
      "---------------------------------------------------\n",
      "Fold 2 ROC AUC is: 0.9942321239767089\n",
      "FOLD 3\n",
      "---------------------------------------------------\n",
      "Fold 3 ROC AUC is: 0.9940013518938118\n",
      "FOLD 4\n",
      "---------------------------------------------------\n",
      "Fold 4 ROC AUC is: 0.99406150188209\n"
     ]
    },
    {
     "name": "stderr",
     "output_type": "stream",
     "text": [
      "\u001b[32m[I 2021-11-26 00:00:30,359]\u001b[0m Trial 108 finished with value: 0.9939488659083344 and parameters: {'n_estimators': 6388, 'depth': 3, 'learning_rate': 0.21705900294405467, 'reg_alpha': 15.39440921050811, 'reg_lambda': 0.009037342449263765, 'subsample': 0.5640064256143608, 'boosting_type': 'goss', 'min_child_samples': 73, 'num_leaves': 136, 'colsample_bytree': 0.6690670669931399}. Best is trial 107 with value: 0.994028108310007.\u001b[0m\n"
     ]
    },
    {
     "name": "stdout",
     "output_type": "stream",
     "text": [
      "Valid AUC score for lightgbm model is 0.9939488659083344\n",
      "FOLD 0\n",
      "---------------------------------------------------\n",
      "Fold 0 ROC AUC is: 0.9935770331924119\n",
      "FOLD 1\n",
      "---------------------------------------------------\n",
      "Fold 1 ROC AUC is: 0.9933031753231232\n",
      "FOLD 2\n",
      "---------------------------------------------------\n",
      "Fold 2 ROC AUC is: 0.9938875813864835\n",
      "FOLD 3\n",
      "---------------------------------------------------\n",
      "Fold 3 ROC AUC is: 0.9937246208927999\n",
      "FOLD 4\n",
      "---------------------------------------------------\n",
      "Fold 4 ROC AUC is: 0.993760271958488\n"
     ]
    },
    {
     "name": "stderr",
     "output_type": "stream",
     "text": [
      "\u001b[32m[I 2021-11-26 00:12:21,216]\u001b[0m Trial 109 finished with value: 0.9936487533298642 and parameters: {'n_estimators': 6475, 'depth': 3, 'learning_rate': 0.32356176096879724, 'reg_alpha': 28.9563530646974, 'reg_lambda': 0.020614276759404516, 'subsample': 0.5746641646913884, 'boosting_type': 'goss', 'min_child_samples': 73, 'num_leaves': 134, 'colsample_bytree': 0.6596362807616907}. Best is trial 107 with value: 0.994028108310007.\u001b[0m\n"
     ]
    },
    {
     "name": "stdout",
     "output_type": "stream",
     "text": [
      "Valid AUC score for lightgbm model is 0.9936487533298642\n",
      "FOLD 0\n",
      "---------------------------------------------------\n",
      "Fold 0 ROC AUC is: 0.9934518687283542\n",
      "FOLD 1\n",
      "---------------------------------------------------\n",
      "Fold 1 ROC AUC is: 0.9930788647463306\n",
      "FOLD 2\n",
      "---------------------------------------------------\n",
      "Fold 2 ROC AUC is: 0.9937036014941966\n",
      "FOLD 3\n",
      "---------------------------------------------------\n",
      "Fold 3 ROC AUC is: 0.9935409947190971\n",
      "FOLD 4\n",
      "---------------------------------------------------\n",
      "Fold 4 ROC AUC is: 0.9935874717580984\n"
     ]
    },
    {
     "name": "stderr",
     "output_type": "stream",
     "text": [
      "\u001b[32m[I 2021-11-26 00:24:31,544]\u001b[0m Trial 110 finished with value: 0.9934707858574269 and parameters: {'n_estimators': 6482, 'depth': 4, 'learning_rate': 0.2207545636416064, 'reg_alpha': 16.73433545253404, 'reg_lambda': 0.009164407103778109, 'subsample': 0.5245473812063306, 'boosting_type': 'goss', 'min_child_samples': 74, 'num_leaves': 136, 'colsample_bytree': 0.672621971863896}. Best is trial 107 with value: 0.994028108310007.\u001b[0m\n"
     ]
    },
    {
     "name": "stdout",
     "output_type": "stream",
     "text": [
      "Valid AUC score for lightgbm model is 0.9934707858574269\n",
      "FOLD 0\n",
      "---------------------------------------------------\n",
      "Fold 0 ROC AUC is: 0.9939471036461919\n",
      "FOLD 1\n",
      "---------------------------------------------------\n",
      "Fold 1 ROC AUC is: 0.993580731396024\n",
      "FOLD 2\n",
      "---------------------------------------------------\n",
      "Fold 2 ROC AUC is: 0.9942510925462005\n",
      "FOLD 3\n",
      "---------------------------------------------------\n",
      "Fold 3 ROC AUC is: 0.9941178275777498\n",
      "FOLD 4\n",
      "---------------------------------------------------\n",
      "Fold 4 ROC AUC is: 0.9941086502562486\n"
     ]
    },
    {
     "name": "stderr",
     "output_type": "stream",
     "text": [
      "\u001b[32m[I 2021-11-26 00:36:08,796]\u001b[0m Trial 111 finished with value: 0.9939996516057996 and parameters: {'n_estimators': 6392, 'depth': 3, 'learning_rate': 0.1977973398394504, 'reg_alpha': 14.980119950934405, 'reg_lambda': 0.027644207698642256, 'subsample': 0.5601026853953339, 'boosting_type': 'goss', 'min_child_samples': 71, 'num_leaves': 126, 'colsample_bytree': 0.6912622224869008}. Best is trial 107 with value: 0.994028108310007.\u001b[0m\n"
     ]
    },
    {
     "name": "stdout",
     "output_type": "stream",
     "text": [
      "Valid AUC score for lightgbm model is 0.9939996516057996\n",
      "FOLD 0\n",
      "---------------------------------------------------\n",
      "Fold 0 ROC AUC is: 0.9939065101189829\n",
      "FOLD 1\n",
      "---------------------------------------------------\n",
      "Fold 1 ROC AUC is: 0.9936328762811586\n",
      "FOLD 2\n",
      "---------------------------------------------------\n",
      "Fold 2 ROC AUC is: 0.9942383784569665\n",
      "FOLD 3\n",
      "---------------------------------------------------\n",
      "Fold 3 ROC AUC is: 0.9940864844559311\n",
      "FOLD 4\n",
      "---------------------------------------------------\n",
      "Fold 4 ROC AUC is: 0.9941019368894067\n"
     ]
    },
    {
     "name": "stderr",
     "output_type": "stream",
     "text": [
      "\u001b[32m[I 2021-11-26 00:47:43,907]\u001b[0m Trial 112 finished with value: 0.9939916127701987 and parameters: {'n_estimators': 6375, 'depth': 3, 'learning_rate': 0.1990550162368601, 'reg_alpha': 15.302711735967529, 'reg_lambda': 0.016100953765164232, 'subsample': 0.5669893896017683, 'boosting_type': 'goss', 'min_child_samples': 72, 'num_leaves': 124, 'colsample_bytree': 0.6519408584933113}. Best is trial 107 with value: 0.994028108310007.\u001b[0m\n"
     ]
    },
    {
     "name": "stdout",
     "output_type": "stream",
     "text": [
      "Valid AUC score for lightgbm model is 0.9939916127701987\n",
      "FOLD 0\n",
      "---------------------------------------------------\n",
      "Fold 0 ROC AUC is: 0.9937985279738464\n",
      "FOLD 1\n",
      "---------------------------------------------------\n",
      "Fold 1 ROC AUC is: 0.9935216447942941\n",
      "FOLD 2\n",
      "---------------------------------------------------\n",
      "Fold 2 ROC AUC is: 0.9941397173802277\n",
      "FOLD 3\n",
      "---------------------------------------------------\n",
      "Fold 3 ROC AUC is: 0.9939603013994357\n",
      "FOLD 4\n",
      "---------------------------------------------------\n",
      "Fold 4 ROC AUC is: 0.9939647638084016\n"
     ]
    },
    {
     "name": "stderr",
     "output_type": "stream",
     "text": [
      "\u001b[32m[I 2021-11-26 00:59:17,907]\u001b[0m Trial 113 finished with value: 0.9938753376240561 and parameters: {'n_estimators': 6361, 'depth': 3, 'learning_rate': 0.2199874300902087, 'reg_alpha': 11.452309400554656, 'reg_lambda': 0.015816985370822188, 'subsample': 0.565790996853874, 'boosting_type': 'goss', 'min_child_samples': 72, 'num_leaves': 123, 'colsample_bytree': 0.6766207483413124}. Best is trial 107 with value: 0.994028108310007.\u001b[0m\n"
     ]
    },
    {
     "name": "stdout",
     "output_type": "stream",
     "text": [
      "Valid AUC score for lightgbm model is 0.9938753376240561\n",
      "FOLD 0\n",
      "---------------------------------------------------\n",
      "Fold 0 ROC AUC is: 0.9937955523472705\n",
      "FOLD 1\n",
      "---------------------------------------------------\n",
      "Fold 1 ROC AUC is: 0.9935003298045137\n",
      "FOLD 2\n",
      "---------------------------------------------------\n",
      "Fold 2 ROC AUC is: 0.9941075972247497\n",
      "FOLD 3\n",
      "---------------------------------------------------\n",
      "Fold 3 ROC AUC is: 0.9939985832828881\n",
      "FOLD 4\n",
      "---------------------------------------------------\n",
      "Fold 4 ROC AUC is: 0.9939630100785415\n"
     ]
    },
    {
     "name": "stderr",
     "output_type": "stream",
     "text": [
      "\u001b[32m[I 2021-11-26 01:10:04,421]\u001b[0m Trial 114 finished with value: 0.9938714245954151 and parameters: {'n_estimators': 6036, 'depth': 3, 'learning_rate': 0.25978310037155217, 'reg_alpha': 24.115704258020244, 'reg_lambda': 0.029026519446542602, 'subsample': 0.5536165265109705, 'boosting_type': 'goss', 'min_child_samples': 74, 'num_leaves': 146, 'colsample_bytree': 0.6443389970783838}. Best is trial 107 with value: 0.994028108310007.\u001b[0m\n"
     ]
    },
    {
     "name": "stdout",
     "output_type": "stream",
     "text": [
      "Valid AUC score for lightgbm model is 0.9938714245954151\n",
      "FOLD 0\n",
      "---------------------------------------------------\n",
      "Fold 0 ROC AUC is: 0.9936035517585727\n",
      "FOLD 1\n",
      "---------------------------------------------------\n",
      "Fold 1 ROC AUC is: 0.9933247452409818\n",
      "FOLD 2\n",
      "---------------------------------------------------\n",
      "Fold 2 ROC AUC is: 0.9939091157326728\n",
      "FOLD 3\n",
      "---------------------------------------------------\n",
      "Fold 3 ROC AUC is: 0.9937715182709279\n",
      "FOLD 4\n",
      "---------------------------------------------------\n",
      "Fold 4 ROC AUC is: 0.9937515997504331\n"
     ]
    },
    {
     "name": "stderr",
     "output_type": "stream",
     "text": [
      "\u001b[32m[I 2021-11-26 01:21:18,213]\u001b[0m Trial 115 finished with value: 0.993670750247522 and parameters: {'n_estimators': 6127, 'depth': 3, 'learning_rate': 0.29768672815421693, 'reg_alpha': 17.91756259188692, 'reg_lambda': 0.04957618455995824, 'subsample': 0.5409939937996057, 'boosting_type': 'goss', 'min_child_samples': 73, 'num_leaves': 126, 'colsample_bytree': 0.6891296015877141}. Best is trial 107 with value: 0.994028108310007.\u001b[0m\n"
     ]
    },
    {
     "name": "stdout",
     "output_type": "stream",
     "text": [
      "Valid AUC score for lightgbm model is 0.993670750247522\n",
      "FOLD 0\n",
      "---------------------------------------------------\n",
      "Fold 0 ROC AUC is: 0.9939177178399656\n",
      "FOLD 1\n",
      "---------------------------------------------------\n",
      "Fold 1 ROC AUC is: 0.9935446961862306\n",
      "FOLD 2\n",
      "---------------------------------------------------\n",
      "Fold 2 ROC AUC is: 0.9942029250987846\n",
      "FOLD 3\n",
      "---------------------------------------------------\n",
      "Fold 3 ROC AUC is: 0.9940709154670533\n",
      "FOLD 4\n",
      "---------------------------------------------------\n",
      "Fold 4 ROC AUC is: 0.9940689331386673\n"
     ]
    },
    {
     "name": "stderr",
     "output_type": "stream",
     "text": [
      "\u001b[32m[I 2021-11-26 01:33:07,559]\u001b[0m Trial 116 finished with value: 0.9939601298842197 and parameters: {'n_estimators': 6508, 'depth': 3, 'learning_rate': 0.1980627934085624, 'reg_alpha': 13.669903306031499, 'reg_lambda': 0.005643902989720417, 'subsample': 0.530798277436782, 'boosting_type': 'goss', 'min_child_samples': 71, 'num_leaves': 117, 'colsample_bytree': 0.7551314409141875}. Best is trial 107 with value: 0.994028108310007.\u001b[0m\n"
     ]
    },
    {
     "name": "stdout",
     "output_type": "stream",
     "text": [
      "Valid AUC score for lightgbm model is 0.9939601298842197\n",
      "FOLD 0\n",
      "---------------------------------------------------\n",
      "Fold 0 ROC AUC is: 0.9939547129350359\n",
      "FOLD 1\n",
      "---------------------------------------------------\n",
      "Fold 1 ROC AUC is: 0.9936667655914564\n",
      "FOLD 2\n",
      "---------------------------------------------------\n",
      "Fold 2 ROC AUC is: 0.9942444027928079\n",
      "FOLD 3\n",
      "---------------------------------------------------\n",
      "Fold 3 ROC AUC is: 0.9940561706680738\n",
      "FOLD 4\n",
      "---------------------------------------------------\n",
      "Fold 4 ROC AUC is: 0.9940571992684664\n"
     ]
    },
    {
     "name": "stderr",
     "output_type": "stream",
     "text": [
      "\u001b[32m[I 2021-11-26 01:45:00,208]\u001b[0m Trial 117 finished with value: 0.9939943124465414 and parameters: {'n_estimators': 6562, 'depth': 3, 'learning_rate': 0.18992529451757456, 'reg_alpha': 14.047288761393995, 'reg_lambda': 0.006040324457097209, 'subsample': 0.5343757372876494, 'boosting_type': 'goss', 'min_child_samples': 10, 'num_leaves': 117, 'colsample_bytree': 0.6634995575948403}. Best is trial 107 with value: 0.994028108310007.\u001b[0m\n"
     ]
    },
    {
     "name": "stdout",
     "output_type": "stream",
     "text": [
      "Valid AUC score for lightgbm model is 0.9939943124465414\n",
      "FOLD 0\n",
      "---------------------------------------------------\n",
      "Fold 0 ROC AUC is: 0.8891223428711098\n",
      "FOLD 1\n",
      "---------------------------------------------------\n",
      "Fold 1 ROC AUC is: 0.8905425757030927\n",
      "FOLD 2\n",
      "---------------------------------------------------\n",
      "Fold 2 ROC AUC is: 0.8907055683042081\n",
      "FOLD 3\n",
      "---------------------------------------------------\n",
      "Fold 3 ROC AUC is: 0.8902279217246978\n",
      "FOLD 4\n",
      "---------------------------------------------------\n",
      "Fold 4 ROC AUC is: 0.8913716731565289\n"
     ]
    },
    {
     "name": "stderr",
     "output_type": "stream",
     "text": [
      "\u001b[32m[I 2021-11-26 01:49:25,888]\u001b[0m Trial 118 finished with value: 0.8903899895850445 and parameters: {'n_estimators': 2644, 'depth': 4, 'learning_rate': 0.0010603286632193917, 'reg_alpha': 14.3389318339794, 'reg_lambda': 0.005964049810543521, 'subsample': 0.5128068772288661, 'boosting_type': 'goss', 'min_child_samples': 17, 'num_leaves': 129, 'colsample_bytree': 0.6155580995706776}. Best is trial 107 with value: 0.994028108310007.\u001b[0m\n"
     ]
    },
    {
     "name": "stdout",
     "output_type": "stream",
     "text": [
      "Valid AUC score for lightgbm model is 0.8903899895850445\n",
      "FOLD 0\n",
      "---------------------------------------------------\n",
      "Fold 0 ROC AUC is: 0.9937164902242807\n",
      "FOLD 1\n",
      "---------------------------------------------------\n",
      "Fold 1 ROC AUC is: 0.993422216727662\n",
      "FOLD 2\n",
      "---------------------------------------------------\n",
      "Fold 2 ROC AUC is: 0.9940836060591223\n",
      "FOLD 3\n",
      "---------------------------------------------------\n",
      "Fold 3 ROC AUC is: 0.993848105109591\n",
      "FOLD 4\n",
      "---------------------------------------------------\n"
     ]
    },
    {
     "name": "stderr",
     "output_type": "stream",
     "text": [
      "\u001b[32m[I 2021-11-26 02:01:30,153]\u001b[0m Trial 119 finished with value: 0.9937904428215976 and parameters: {'n_estimators': 6508, 'depth': 3, 'learning_rate': 0.24636516931244284, 'reg_alpha': 12.277701220736624, 'reg_lambda': 0.007651522621853377, 'subsample': 0.5570444262020082, 'boosting_type': 'goss', 'min_child_samples': 11, 'num_leaves': 143, 'colsample_bytree': 0.6493913506218971}. Best is trial 107 with value: 0.994028108310007.\u001b[0m\n"
     ]
    },
    {
     "name": "stdout",
     "output_type": "stream",
     "text": [
      "Fold 4 ROC AUC is: 0.9938904437385567\n",
      "Valid AUC score for lightgbm model is 0.9937904428215976\n",
      "FOLD 0\n",
      "---------------------------------------------------\n",
      "Fold 0 ROC AUC is: 0.9939437058680545\n",
      "FOLD 1\n",
      "---------------------------------------------------\n",
      "Fold 1 ROC AUC is: 0.993719677762847\n",
      "FOLD 2\n",
      "---------------------------------------------------\n",
      "Fold 2 ROC AUC is: 0.9942334603708551\n",
      "FOLD 3\n",
      "---------------------------------------------------\n",
      "Fold 3 ROC AUC is: 0.9941234290113565\n",
      "FOLD 4\n",
      "---------------------------------------------------\n",
      "Fold 4 ROC AUC is: 0.9941216017319197\n"
     ]
    },
    {
     "name": "stderr",
     "output_type": "stream",
     "text": [
      "\u001b[32m[I 2021-11-26 02:13:09,284]\u001b[0m Trial 120 finished with value: 0.9940269722063115 and parameters: {'n_estimators': 6374, 'depth': 3, 'learning_rate': 0.16984847994707994, 'reg_alpha': 8.903377920843448, 'reg_lambda': 0.03726114895258138, 'subsample': 0.536079852724491, 'boosting_type': 'goss', 'min_child_samples': 71, 'num_leaves': 117, 'colsample_bytree': 0.6255773227440639}. Best is trial 107 with value: 0.994028108310007.\u001b[0m\n"
     ]
    },
    {
     "name": "stdout",
     "output_type": "stream",
     "text": [
      "Valid AUC score for lightgbm model is 0.9940269722063115\n",
      "FOLD 0\n",
      "---------------------------------------------------\n",
      "Fold 0 ROC AUC is: 0.993982471554039\n",
      "FOLD 1\n",
      "---------------------------------------------------\n",
      "Fold 1 ROC AUC is: 0.9935886219343552\n",
      "FOLD 2\n",
      "---------------------------------------------------\n",
      "Fold 2 ROC AUC is: 0.9941980078465298\n",
      "FOLD 3\n",
      "---------------------------------------------------\n",
      "Fold 3 ROC AUC is: 0.9940706258192038\n",
      "FOLD 4\n",
      "---------------------------------------------------\n",
      "Fold 4 ROC AUC is: 0.9940601066802044\n"
     ]
    },
    {
     "name": "stderr",
     "output_type": "stream",
     "text": [
      "\u001b[32m[I 2021-11-26 02:25:00,974]\u001b[0m Trial 121 finished with value: 0.9939785372878948 and parameters: {'n_estimators': 6376, 'depth': 3, 'learning_rate': 0.18420378295098655, 'reg_alpha': 8.509486865472761, 'reg_lambda': 0.037069512615536496, 'subsample': 0.5315629003768502, 'boosting_type': 'goss', 'min_child_samples': 71, 'num_leaves': 115, 'colsample_bytree': 0.6222484155242901}. Best is trial 107 with value: 0.994028108310007.\u001b[0m\n"
     ]
    },
    {
     "name": "stdout",
     "output_type": "stream",
     "text": [
      "Valid AUC score for lightgbm model is 0.9939785372878948\n",
      "FOLD 0\n",
      "---------------------------------------------------\n",
      "Fold 0 ROC AUC is: 0.9938501524686518\n",
      "FOLD 1\n",
      "---------------------------------------------------\n",
      "Fold 1 ROC AUC is: 0.993629964485419\n",
      "FOLD 2\n",
      "---------------------------------------------------\n",
      "Fold 2 ROC AUC is: 0.9941851011364259\n",
      "FOLD 3\n",
      "---------------------------------------------------\n",
      "Fold 3 ROC AUC is: 0.9940217873557261\n",
      "FOLD 4\n",
      "---------------------------------------------------\n",
      "Fold 4 ROC AUC is: 0.9940305931576083\n"
     ]
    },
    {
     "name": "stderr",
     "output_type": "stream",
     "text": [
      "\u001b[32m[I 2021-11-26 02:36:57,216]\u001b[0m Trial 122 finished with value: 0.9939420917795647 and parameters: {'n_estimators': 6405, 'depth': 3, 'learning_rate': 0.18772548311042758, 'reg_alpha': 8.600082387454828, 'reg_lambda': 0.025135031606855304, 'subsample': 0.5290808400983079, 'boosting_type': 'goss', 'min_child_samples': 75, 'num_leaves': 115, 'colsample_bytree': 0.6206764616846923}. Best is trial 107 with value: 0.994028108310007.\u001b[0m\n"
     ]
    },
    {
     "name": "stdout",
     "output_type": "stream",
     "text": [
      "Valid AUC score for lightgbm model is 0.9939420917795647\n",
      "FOLD 0\n",
      "---------------------------------------------------\n",
      "Fold 0 ROC AUC is: 0.9940272732569847\n",
      "FOLD 1\n",
      "---------------------------------------------------\n",
      "Fold 1 ROC AUC is: 0.9936783691280594\n",
      "FOLD 2\n",
      "---------------------------------------------------\n",
      "Fold 2 ROC AUC is: 0.9942800693403222\n",
      "FOLD 3\n",
      "---------------------------------------------------\n",
      "Fold 3 ROC AUC is: 0.9941535173631237\n",
      "FOLD 4\n",
      "---------------------------------------------------\n",
      "Fold 4 ROC AUC is: 0.9941878782683442\n"
     ]
    },
    {
     "name": "stderr",
     "output_type": "stream",
     "text": [
      "\u001b[32m[I 2021-11-26 02:49:04,588]\u001b[0m Trial 123 finished with value: 0.9940636752322203 and parameters: {'n_estimators': 6639, 'depth': 3, 'learning_rate': 0.1856704144491781, 'reg_alpha': 17.41228284359147, 'reg_lambda': 0.03410254059063851, 'subsample': 0.533667659708576, 'boosting_type': 'goss', 'min_child_samples': 71, 'num_leaves': 117, 'colsample_bytree': 0.5931529584320305}. Best is trial 123 with value: 0.9940636752322203.\u001b[0m\n"
     ]
    },
    {
     "name": "stdout",
     "output_type": "stream",
     "text": [
      "Valid AUC score for lightgbm model is 0.9940636752322203\n",
      "FOLD 0\n",
      "---------------------------------------------------\n",
      "Fold 0 ROC AUC is: 0.9940848387221194\n",
      "FOLD 1\n",
      "---------------------------------------------------\n",
      "Fold 1 ROC AUC is: 0.9937973688322582\n",
      "FOLD 2\n",
      "---------------------------------------------------\n",
      "Fold 2 ROC AUC is: 0.9943508779395619\n",
      "FOLD 3\n",
      "---------------------------------------------------\n",
      "Fold 3 ROC AUC is: 0.9942172190420722\n",
      "FOLD 4\n",
      "---------------------------------------------------\n",
      "Fold 4 ROC AUC is: 0.9942644378873513\n"
     ]
    },
    {
     "name": "stderr",
     "output_type": "stream",
     "text": [
      "\u001b[32m[I 2021-11-26 03:01:37,996]\u001b[0m Trial 124 finished with value: 0.9941417162224409 and parameters: {'n_estimators': 6722, 'depth': 3, 'learning_rate': 0.1734995769730835, 'reg_alpha': 19.244020610015934, 'reg_lambda': 0.041401400368937726, 'subsample': 0.5361563632690197, 'boosting_type': 'goss', 'min_child_samples': 6, 'num_leaves': 116, 'colsample_bytree': 0.5863696927052545}. Best is trial 124 with value: 0.9941417162224409.\u001b[0m\n"
     ]
    },
    {
     "name": "stdout",
     "output_type": "stream",
     "text": [
      "Valid AUC score for lightgbm model is 0.9941417162224409\n",
      "FOLD 0\n",
      "---------------------------------------------------\n",
      "Fold 0 ROC AUC is: 0.9941486130668032\n",
      "FOLD 1\n",
      "---------------------------------------------------\n",
      "Fold 1 ROC AUC is: 0.9938099492688259\n",
      "FOLD 2\n",
      "---------------------------------------------------\n",
      "Fold 2 ROC AUC is: 0.9944025373003844\n",
      "FOLD 3\n",
      "---------------------------------------------------\n",
      "Fold 3 ROC AUC is: 0.994352562976239\n",
      "FOLD 4\n",
      "---------------------------------------------------\n",
      "Fold 4 ROC AUC is: 0.9942398075713547\n"
     ]
    },
    {
     "name": "stderr",
     "output_type": "stream",
     "text": [
      "\u001b[32m[I 2021-11-26 03:14:08,385]\u001b[0m Trial 125 finished with value: 0.9941893011171564 and parameters: {'n_estimators': 6682, 'depth': 3, 'learning_rate': 0.1549988848532179, 'reg_alpha': 19.55127395456472, 'reg_lambda': 0.03629876906699735, 'subsample': 0.5142447161990815, 'boosting_type': 'goss', 'min_child_samples': 70, 'num_leaves': 116, 'colsample_bytree': 0.5854206181198616}. Best is trial 125 with value: 0.9941893011171564.\u001b[0m\n"
     ]
    },
    {
     "name": "stdout",
     "output_type": "stream",
     "text": [
      "Valid AUC score for lightgbm model is 0.9941893011171564\n",
      "FOLD 0\n",
      "---------------------------------------------------\n",
      "Fold 0 ROC AUC is: 0.9941153762044952\n",
      "FOLD 1\n",
      "---------------------------------------------------\n",
      "Fold 1 ROC AUC is: 0.9937617286636855\n",
      "FOLD 2\n",
      "---------------------------------------------------\n",
      "Fold 2 ROC AUC is: 0.9944074186968064\n",
      "FOLD 3\n",
      "---------------------------------------------------\n",
      "Fold 3 ROC AUC is: 0.9942531014627245\n",
      "FOLD 4\n",
      "---------------------------------------------------\n"
     ]
    },
    {
     "name": "stderr",
     "output_type": "stream",
     "text": [
      "\u001b[32m[I 2021-11-26 03:26:26,048]\u001b[0m Trial 126 finished with value: 0.9941521667198402 and parameters: {'n_estimators': 6696, 'depth': 3, 'learning_rate': 0.17598961031046154, 'reg_alpha': 28.694579733729846, 'reg_lambda': 0.037164652660845614, 'subsample': 0.5118019408895998, 'boosting_type': 'goss', 'min_child_samples': 7, 'num_leaves': 118, 'colsample_bytree': 0.5757304758775879}. Best is trial 125 with value: 0.9941893011171564.\u001b[0m\n"
     ]
    },
    {
     "name": "stdout",
     "output_type": "stream",
     "text": [
      "Fold 4 ROC AUC is: 0.9942310433689123\n",
      "Valid AUC score for lightgbm model is 0.9941521667198402\n",
      "FOLD 0\n",
      "---------------------------------------------------\n",
      "Fold 0 ROC AUC is: 0.9940734656422303\n",
      "FOLD 1\n",
      "---------------------------------------------------\n",
      "Fold 1 ROC AUC is: 0.9937768205727293\n",
      "FOLD 2\n",
      "---------------------------------------------------\n",
      "Fold 2 ROC AUC is: 0.9944038097655263\n",
      "FOLD 3\n",
      "---------------------------------------------------\n",
      "Fold 3 ROC AUC is: 0.9942969706031616\n",
      "FOLD 4\n",
      "---------------------------------------------------\n",
      "Fold 4 ROC AUC is: 0.9942559505018568\n"
     ]
    },
    {
     "name": "stderr",
     "output_type": "stream",
     "text": [
      "\u001b[32m[I 2021-11-26 03:39:03,767]\u001b[0m Trial 127 finished with value: 0.9941602471593951 and parameters: {'n_estimators': 6724, 'depth': 3, 'learning_rate': 0.165788186632936, 'reg_alpha': 26.892058682574497, 'reg_lambda': 0.038276284646120304, 'subsample': 0.5087472281795609, 'boosting_type': 'goss', 'min_child_samples': 6, 'num_leaves': 123, 'colsample_bytree': 0.584157115891546}. Best is trial 125 with value: 0.9941893011171564.\u001b[0m\n"
     ]
    },
    {
     "name": "stdout",
     "output_type": "stream",
     "text": [
      "Valid AUC score for lightgbm model is 0.9941602471593951\n",
      "FOLD 0\n",
      "---------------------------------------------------\n",
      "Fold 0 ROC AUC is: 0.9941338149731922\n",
      "FOLD 1\n",
      "---------------------------------------------------\n",
      "Fold 1 ROC AUC is: 0.9937745873805223\n",
      "FOLD 2\n",
      "---------------------------------------------------\n",
      "Fold 2 ROC AUC is: 0.9944190829606055\n",
      "FOLD 3\n",
      "---------------------------------------------------\n",
      "Fold 3 ROC AUC is: 0.9942233035927257\n",
      "FOLD 4\n",
      "---------------------------------------------------\n",
      "Fold 4 ROC AUC is: 0.9942774568996873\n"
     ]
    },
    {
     "name": "stderr",
     "output_type": "stream",
     "text": [
      "\u001b[32m[I 2021-11-26 03:51:39,739]\u001b[0m Trial 128 finished with value: 0.9941645907811762 and parameters: {'n_estimators': 6717, 'depth': 3, 'learning_rate': 0.17198548433620844, 'reg_alpha': 28.566247457204494, 'reg_lambda': 0.04014494127362435, 'subsample': 0.5115604958839065, 'boosting_type': 'goss', 'min_child_samples': 4, 'num_leaves': 106, 'colsample_bytree': 0.5770163564392266}. Best is trial 125 with value: 0.9941893011171564.\u001b[0m\n"
     ]
    },
    {
     "name": "stdout",
     "output_type": "stream",
     "text": [
      "Valid AUC score for lightgbm model is 0.9941645907811762\n",
      "FOLD 0\n",
      "---------------------------------------------------\n",
      "Fold 0 ROC AUC is: 0.9934955768392033\n",
      "FOLD 1\n",
      "---------------------------------------------------\n",
      "Fold 1 ROC AUC is: 0.9932104676832826\n",
      "FOLD 2\n",
      "---------------------------------------------------\n",
      "Fold 2 ROC AUC is: 0.9937681747918803\n",
      "FOLD 3\n",
      "---------------------------------------------------\n",
      "Fold 3 ROC AUC is: 0.9935545553531633\n",
      "FOLD 4\n",
      "---------------------------------------------------\n",
      "Fold 4 ROC AUC is: 0.9936119342051831\n"
     ]
    },
    {
     "name": "stderr",
     "output_type": "stream",
     "text": [
      "\u001b[32m[I 2021-11-26 04:03:57,385]\u001b[0m Trial 129 finished with value: 0.9935266241783137 and parameters: {'n_estimators': 6716, 'depth': 3, 'learning_rate': 0.35853533385053027, 'reg_alpha': 29.86776160223105, 'reg_lambda': 0.03781896329613816, 'subsample': 0.5137170799870009, 'boosting_type': 'goss', 'min_child_samples': 7, 'num_leaves': 106, 'colsample_bytree': 0.5754761892294332}. Best is trial 125 with value: 0.9941893011171564.\u001b[0m\n"
     ]
    },
    {
     "name": "stdout",
     "output_type": "stream",
     "text": [
      "Valid AUC score for lightgbm model is 0.9935266241783137\n",
      "FOLD 0\n",
      "---------------------------------------------------\n",
      "Fold 0 ROC AUC is: 0.9867266338990512\n",
      "FOLD 1\n",
      "---------------------------------------------------\n",
      "Fold 1 ROC AUC is: 0.9865848894272743\n",
      "FOLD 2\n",
      "---------------------------------------------------\n",
      "Fold 2 ROC AUC is: 0.9874897178222133\n",
      "FOLD 3\n",
      "---------------------------------------------------\n",
      "Fold 3 ROC AUC is: 0.9873454616838008\n",
      "FOLD 4\n",
      "---------------------------------------------------\n",
      "Fold 4 ROC AUC is: 0.9873801343566966\n"
     ]
    },
    {
     "name": "stderr",
     "output_type": "stream",
     "text": [
      "\u001b[32m[I 2021-11-26 04:17:46,431]\u001b[0m Trial 130 finished with value: 0.9871037738125777 and parameters: {'n_estimators': 6997, 'depth': 4, 'learning_rate': 0.007146161837313373, 'reg_alpha': 24.9345851884705, 'reg_lambda': 0.03788396672334317, 'subsample': 0.5032709783221911, 'boosting_type': 'goss', 'min_child_samples': 7, 'num_leaves': 123, 'colsample_bytree': 0.5353378387380688}. Best is trial 125 with value: 0.9941893011171564.\u001b[0m\n"
     ]
    },
    {
     "name": "stdout",
     "output_type": "stream",
     "text": [
      "Valid AUC score for lightgbm model is 0.9871037738125777\n",
      "FOLD 0\n",
      "---------------------------------------------------\n",
      "Fold 0 ROC AUC is: 0.9941115626668212\n",
      "FOLD 1\n",
      "---------------------------------------------------\n",
      "Fold 1 ROC AUC is: 0.9937345934184534\n",
      "FOLD 2\n",
      "---------------------------------------------------\n",
      "Fold 2 ROC AUC is: 0.9943689698478353\n",
      "FOLD 3\n",
      "---------------------------------------------------\n",
      "Fold 3 ROC AUC is: 0.994223974063564\n",
      "FOLD 4\n",
      "---------------------------------------------------\n",
      "Fold 4 ROC AUC is: 0.9942259483806719\n"
     ]
    },
    {
     "name": "stderr",
     "output_type": "stream",
     "text": [
      "\u001b[32m[I 2021-11-26 04:30:20,125]\u001b[0m Trial 131 finished with value: 0.994131553761822 and parameters: {'n_estimators': 6687, 'depth': 3, 'learning_rate': 0.1685359246777904, 'reg_alpha': 19.413319726416503, 'reg_lambda': 0.06228124723681843, 'subsample': 0.5185001009203795, 'boosting_type': 'goss', 'min_child_samples': 6, 'num_leaves': 114, 'colsample_bytree': 0.6005393725161194}. Best is trial 125 with value: 0.9941893011171564.\u001b[0m\n"
     ]
    },
    {
     "name": "stdout",
     "output_type": "stream",
     "text": [
      "Valid AUC score for lightgbm model is 0.994131553761822\n",
      "FOLD 0\n",
      "---------------------------------------------------\n",
      "Fold 0 ROC AUC is: 0.994076624136303\n",
      "FOLD 1\n",
      "---------------------------------------------------\n",
      "Fold 1 ROC AUC is: 0.9937288412735565\n",
      "FOLD 2\n",
      "---------------------------------------------------\n",
      "Fold 2 ROC AUC is: 0.9942988825345377\n",
      "FOLD 3\n",
      "---------------------------------------------------\n",
      "Fold 3 ROC AUC is: 0.9941867876716425\n",
      "FOLD 4\n",
      "---------------------------------------------------\n",
      "Fold 4 ROC AUC is: 0.9942073713509438\n"
     ]
    },
    {
     "name": "stderr",
     "output_type": "stream",
     "text": [
      "\u001b[32m[I 2021-11-26 04:42:30,334]\u001b[0m Trial 132 finished with value: 0.9940984426736434 and parameters: {'n_estimators': 6666, 'depth': 3, 'learning_rate': 0.18343301255051347, 'reg_alpha': 19.95976532610315, 'reg_lambda': 0.06463532456623905, 'subsample': 0.5133599947827527, 'boosting_type': 'goss', 'min_child_samples': 6, 'num_leaves': 114, 'colsample_bytree': 0.5842176604718848}. Best is trial 125 with value: 0.9941893011171564.\u001b[0m\n"
     ]
    },
    {
     "name": "stdout",
     "output_type": "stream",
     "text": [
      "Valid AUC score for lightgbm model is 0.9940984426736434\n",
      "FOLD 0\n",
      "---------------------------------------------------\n",
      "Fold 0 ROC AUC is: 0.9941188301212867\n",
      "FOLD 1\n",
      "---------------------------------------------------\n",
      "Fold 1 ROC AUC is: 0.9937468555424258\n",
      "FOLD 2\n",
      "---------------------------------------------------\n",
      "Fold 2 ROC AUC is: 0.9943632148476695\n",
      "FOLD 3\n",
      "---------------------------------------------------\n",
      "Fold 3 ROC AUC is: 0.9942299716086732\n",
      "FOLD 4\n",
      "---------------------------------------------------\n",
      "Fold 4 ROC AUC is: 0.9942868667304124\n"
     ]
    },
    {
     "name": "stderr",
     "output_type": "stream",
     "text": [
      "\u001b[32m[I 2021-11-26 04:54:58,682]\u001b[0m Trial 133 finished with value: 0.9941480236575793 and parameters: {'n_estimators': 6670, 'depth': 3, 'learning_rate': 0.1713397059849796, 'reg_alpha': 29.88663120193575, 'reg_lambda': 0.06349452569505151, 'subsample': 0.5161052020349433, 'boosting_type': 'goss', 'min_child_samples': 5, 'num_leaves': 114, 'colsample_bytree': 0.5978912291515379}. Best is trial 125 with value: 0.9941893011171564.\u001b[0m\n"
     ]
    },
    {
     "name": "stdout",
     "output_type": "stream",
     "text": [
      "Valid AUC score for lightgbm model is 0.9941480236575793\n",
      "FOLD 0\n",
      "---------------------------------------------------\n",
      "Fold 0 ROC AUC is: 0.9937378912796756\n",
      "FOLD 1\n",
      "---------------------------------------------------\n",
      "Fold 1 ROC AUC is: 0.9934611092447507\n",
      "FOLD 2\n",
      "---------------------------------------------------\n",
      "Fold 2 ROC AUC is: 0.9940071983908971\n",
      "FOLD 3\n",
      "---------------------------------------------------\n",
      "Fold 3 ROC AUC is: 0.9938381080891835\n",
      "FOLD 4\n",
      "---------------------------------------------------\n",
      "Fold 4 ROC AUC is: 0.9938980659321252\n"
     ]
    },
    {
     "name": "stderr",
     "output_type": "stream",
     "text": [
      "\u001b[32m[I 2021-11-26 05:07:33,813]\u001b[0m Trial 134 finished with value: 0.993787231523356 and parameters: {'n_estimators': 6658, 'depth': 3, 'learning_rate': 0.26350421564784365, 'reg_alpha': 20.85397445376503, 'reg_lambda': 0.06262267437956007, 'subsample': 0.5151063917276756, 'boosting_type': 'goss', 'min_child_samples': 4, 'num_leaves': 102, 'colsample_bytree': 0.6012203910321047}. Best is trial 125 with value: 0.9941893011171564.\u001b[0m\n"
     ]
    },
    {
     "name": "stdout",
     "output_type": "stream",
     "text": [
      "Valid AUC score for lightgbm model is 0.993787231523356\n",
      "FOLD 0\n",
      "---------------------------------------------------\n",
      "Fold 0 ROC AUC is: 0.994158238900565\n",
      "FOLD 1\n",
      "---------------------------------------------------\n",
      "Fold 1 ROC AUC is: 0.993825375614596\n",
      "FOLD 2\n",
      "---------------------------------------------------\n",
      "Fold 2 ROC AUC is: 0.9944475497124524\n",
      "FOLD 3\n",
      "---------------------------------------------------\n",
      "Fold 3 ROC AUC is: 0.9942867395295012\n",
      "FOLD 4\n",
      "---------------------------------------------------\n",
      "Fold 4 ROC AUC is: 0.9943002473279385\n"
     ]
    },
    {
     "name": "stderr",
     "output_type": "stream",
     "text": [
      "\u001b[32m[I 2021-11-26 05:20:35,292]\u001b[0m Trial 135 finished with value: 0.9942023257230057 and parameters: {'n_estimators': 6896, 'depth': 3, 'learning_rate': 0.1595476001391684, 'reg_alpha': 29.53504791622925, 'reg_lambda': 0.04358841919208359, 'subsample': 0.544464570514818, 'boosting_type': 'goss', 'min_child_samples': 7, 'num_leaves': 110, 'colsample_bytree': 0.5967506404209997}. Best is trial 135 with value: 0.9942023257230057.\u001b[0m\n"
     ]
    },
    {
     "name": "stdout",
     "output_type": "stream",
     "text": [
      "Valid AUC score for lightgbm model is 0.9942023257230057\n",
      "FOLD 0\n",
      "---------------------------------------------------\n",
      "Fold 0 ROC AUC is: 0.9941500729497212\n",
      "FOLD 1\n",
      "---------------------------------------------------\n",
      "Fold 1 ROC AUC is: 0.9938241412845327\n",
      "FOLD 2\n",
      "---------------------------------------------------\n",
      "Fold 2 ROC AUC is: 0.9943656761143426\n",
      "FOLD 3\n",
      "---------------------------------------------------\n",
      "Fold 3 ROC AUC is: 0.9942524501720221\n",
      "FOLD 4\n",
      "---------------------------------------------------\n",
      "Fold 4 ROC AUC is: 0.9942852400139511\n"
     ]
    },
    {
     "name": "stderr",
     "output_type": "stream",
     "text": [
      "\u001b[32m[I 2021-11-26 05:33:15,656]\u001b[0m Trial 136 finished with value: 0.994173850262553 and parameters: {'n_estimators': 6835, 'depth': 3, 'learning_rate': 0.1680378871691456, 'reg_alpha': 29.22228749510145, 'reg_lambda': 0.09968728689933015, 'subsample': 0.5003547969220956, 'boosting_type': 'goss', 'min_child_samples': 7, 'num_leaves': 110, 'colsample_bytree': 0.5984575108442317}. Best is trial 135 with value: 0.9942023257230057.\u001b[0m\n"
     ]
    },
    {
     "name": "stdout",
     "output_type": "stream",
     "text": [
      "Valid AUC score for lightgbm model is 0.994173850262553\n",
      "FOLD 0\n",
      "---------------------------------------------------\n",
      "Fold 0 ROC AUC is: 0.9941104946428245\n",
      "FOLD 1\n",
      "---------------------------------------------------\n",
      "Fold 1 ROC AUC is: 0.9937764505517126\n",
      "FOLD 2\n",
      "---------------------------------------------------\n",
      "Fold 2 ROC AUC is: 0.9944492577286812\n",
      "FOLD 3\n",
      "---------------------------------------------------\n",
      "Fold 3 ROC AUC is: 0.9943119780866114\n",
      "FOLD 4\n",
      "---------------------------------------------------\n",
      "Fold 4 ROC AUC is: 0.994310263043148\n"
     ]
    },
    {
     "name": "stderr",
     "output_type": "stream",
     "text": [
      "\u001b[32m[I 2021-11-26 05:46:06,834]\u001b[0m Trial 137 finished with value: 0.9941897589830113 and parameters: {'n_estimators': 6764, 'depth': 3, 'learning_rate': 0.1602838447328529, 'reg_alpha': 29.791672398785117, 'reg_lambda': 0.06679545394287971, 'subsample': 0.5456426192866262, 'boosting_type': 'goss', 'min_child_samples': 7, 'num_leaves': 110, 'colsample_bytree': 0.593404943687319}. Best is trial 135 with value: 0.9942023257230057.\u001b[0m\n"
     ]
    },
    {
     "name": "stdout",
     "output_type": "stream",
     "text": [
      "Valid AUC score for lightgbm model is 0.9941897589830113\n",
      "FOLD 0\n",
      "---------------------------------------------------\n",
      "Fold 0 ROC AUC is: 0.9941657992765222\n",
      "FOLD 1\n",
      "---------------------------------------------------\n",
      "Fold 1 ROC AUC is: 0.9938108163578953\n",
      "FOLD 2\n",
      "---------------------------------------------------\n",
      "Fold 2 ROC AUC is: 0.994435762871736\n",
      "FOLD 3\n",
      "---------------------------------------------------\n",
      "Fold 3 ROC AUC is: 0.9943504348150711\n",
      "FOLD 4\n",
      "---------------------------------------------------\n",
      "Fold 4 ROC AUC is: 0.9943140506549603\n"
     ]
    },
    {
     "name": "stderr",
     "output_type": "stream",
     "text": [
      "\u001b[32m[I 2021-11-26 05:59:03,710]\u001b[0m Trial 138 finished with value: 0.9942140002905577 and parameters: {'n_estimators': 6839, 'depth': 3, 'learning_rate': 0.12047509830767311, 'reg_alpha': 28.808182139112777, 'reg_lambda': 0.10424521948383174, 'subsample': 0.5027250536326365, 'boosting_type': 'goss', 'min_child_samples': 7, 'num_leaves': 107, 'colsample_bytree': 0.5943230654740523}. Best is trial 138 with value: 0.9942140002905577.\u001b[0m\n"
     ]
    },
    {
     "name": "stdout",
     "output_type": "stream",
     "text": [
      "Valid AUC score for lightgbm model is 0.9942140002905577\n",
      "FOLD 0\n",
      "---------------------------------------------------\n",
      "Fold 0 ROC AUC is: 0.9412787775470371\n",
      "FOLD 1\n",
      "---------------------------------------------------\n",
      "Fold 1 ROC AUC is: 0.9416409468815579\n",
      "FOLD 2\n",
      "---------------------------------------------------\n",
      "Fold 2 ROC AUC is: 0.9430640725631936\n",
      "FOLD 3\n",
      "---------------------------------------------------\n",
      "Fold 3 ROC AUC is: 0.9426113263038969\n",
      "FOLD 4\n",
      "---------------------------------------------------\n"
     ]
    },
    {
     "name": "stderr",
     "output_type": "stream",
     "text": [
      "\u001b[32m[I 2021-11-26 06:11:13,769]\u001b[0m Trial 139 finished with value: 0.9422403989054251 and parameters: {'n_estimators': 6877, 'depth': 3, 'learning_rate': 0.0016119342006283169, 'reg_alpha': 28.483712425621523, 'reg_lambda': 0.1082796411318633, 'subsample': 0.5011478369845692, 'boosting_type': 'goss', 'min_child_samples': 7, 'num_leaves': 107, 'colsample_bytree': 0.5928208864997037}. Best is trial 138 with value: 0.9942140002905577.\u001b[0m\n"
     ]
    },
    {
     "name": "stdout",
     "output_type": "stream",
     "text": [
      "Fold 4 ROC AUC is: 0.9426180012200157\n",
      "Valid AUC score for lightgbm model is 0.9422403989054251\n",
      "FOLD 0\n",
      "---------------------------------------------------\n",
      "Fold 0 ROC AUC is: 0.9755483256806385\n",
      "FOLD 1\n",
      "---------------------------------------------------\n",
      "Fold 1 ROC AUC is: 0.9754781589986563\n",
      "FOLD 2\n",
      "---------------------------------------------------\n",
      "Fold 2 ROC AUC is: 0.9766664939999846\n",
      "FOLD 3\n",
      "---------------------------------------------------\n",
      "Fold 3 ROC AUC is: 0.9764112200570627\n",
      "FOLD 4\n",
      "---------------------------------------------------\n",
      "Fold 4 ROC AUC is: 0.9764796557625391\n"
     ]
    },
    {
     "name": "stderr",
     "output_type": "stream",
     "text": [
      "\u001b[32m[I 2021-11-26 06:24:31,045]\u001b[0m Trial 140 finished with value: 0.9761158590287768 and parameters: {'n_estimators': 6791, 'depth': 4, 'learning_rate': 0.0036362989639276955, 'reg_alpha': 24.045436702799776, 'reg_lambda': 0.06832291771839781, 'subsample': 0.5198966958750535, 'boosting_type': 'goss', 'min_child_samples': 9, 'num_leaves': 112, 'colsample_bytree': 0.5726006321864558}. Best is trial 138 with value: 0.9942140002905577.\u001b[0m\n"
     ]
    },
    {
     "name": "stdout",
     "output_type": "stream",
     "text": [
      "Valid AUC score for lightgbm model is 0.9761158590287768\n",
      "FOLD 0\n",
      "---------------------------------------------------\n",
      "Fold 0 ROC AUC is: 0.994172434198431\n",
      "FOLD 1\n",
      "---------------------------------------------------\n",
      "Fold 1 ROC AUC is: 0.9938205097409248\n",
      "FOLD 2\n",
      "---------------------------------------------------\n",
      "Fold 2 ROC AUC is: 0.9944539342743364\n",
      "FOLD 3\n",
      "---------------------------------------------------\n",
      "Fold 3 ROC AUC is: 0.9943676774792877\n",
      "FOLD 4\n",
      "---------------------------------------------------\n",
      "Fold 4 ROC AUC is: 0.9943109589765189\n"
     ]
    },
    {
     "name": "stderr",
     "output_type": "stream",
     "text": [
      "\u001b[32m[I 2021-11-26 06:37:34,261]\u001b[0m Trial 141 finished with value: 0.9942238903353353 and parameters: {'n_estimators': 6885, 'depth': 3, 'learning_rate': 0.11906594811654192, 'reg_alpha': 19.815257189409532, 'reg_lambda': 0.04990085747814811, 'subsample': 0.543358030546651, 'boosting_type': 'goss', 'min_child_samples': 5, 'num_leaves': 103, 'colsample_bytree': 0.6049051459909736}. Best is trial 141 with value: 0.9942238903353353.\u001b[0m\n"
     ]
    },
    {
     "name": "stdout",
     "output_type": "stream",
     "text": [
      "Valid AUC score for lightgbm model is 0.9942238903353353\n",
      "FOLD 0\n",
      "---------------------------------------------------\n",
      "Fold 0 ROC AUC is: 0.9941820100076493\n",
      "FOLD 1\n",
      "---------------------------------------------------\n",
      "Fold 1 ROC AUC is: 0.9938460787213875\n",
      "FOLD 2\n",
      "---------------------------------------------------\n",
      "Fold 2 ROC AUC is: 0.9944564861534249\n",
      "FOLD 3\n",
      "---------------------------------------------------\n",
      "Fold 3 ROC AUC is: 0.9943678531582139\n",
      "FOLD 4\n",
      "---------------------------------------------------\n",
      "Fold 4 ROC AUC is: 0.9943205794771702\n"
     ]
    },
    {
     "name": "stderr",
     "output_type": "stream",
     "text": [
      "\u001b[32m[I 2021-11-26 06:50:34,230]\u001b[0m Trial 142 finished with value: 0.9942333365897803 and parameters: {'n_estimators': 6886, 'depth': 3, 'learning_rate': 0.12058891235232606, 'reg_alpha': 19.645714273666716, 'reg_lambda': 0.09654779050178283, 'subsample': 0.5456489663485009, 'boosting_type': 'goss', 'min_child_samples': 5, 'num_leaves': 104, 'colsample_bytree': 0.6063980767678581}. Best is trial 142 with value: 0.9942333365897803.\u001b[0m\n"
     ]
    },
    {
     "name": "stdout",
     "output_type": "stream",
     "text": [
      "Valid AUC score for lightgbm model is 0.9942333365897803\n",
      "FOLD 0\n",
      "---------------------------------------------------\n",
      "Fold 0 ROC AUC is: 0.9941772573981346\n",
      "FOLD 1\n",
      "---------------------------------------------------\n",
      "Fold 1 ROC AUC is: 0.9938855528192178\n",
      "FOLD 2\n",
      "---------------------------------------------------\n",
      "Fold 2 ROC AUC is: 0.9944817873077401\n",
      "FOLD 3\n",
      "---------------------------------------------------\n",
      "Fold 3 ROC AUC is: 0.994331379211051\n",
      "FOLD 4\n",
      "---------------------------------------------------\n",
      "Fold 4 ROC AUC is: 0.9943877831836125\n"
     ]
    },
    {
     "name": "stderr",
     "output_type": "stream",
     "text": [
      "\u001b[32m[I 2021-11-26 07:03:18,121]\u001b[0m Trial 143 finished with value: 0.9942515423888332 and parameters: {'n_estimators': 6912, 'depth': 3, 'learning_rate': 0.12108657726395694, 'reg_alpha': 20.067672350610575, 'reg_lambda': 0.046882210435142145, 'subsample': 0.544661884886101, 'boosting_type': 'goss', 'min_child_samples': 5, 'num_leaves': 104, 'colsample_bytree': 0.6030839948477045}. Best is trial 143 with value: 0.9942515423888332.\u001b[0m\n"
     ]
    },
    {
     "name": "stdout",
     "output_type": "stream",
     "text": [
      "Valid AUC score for lightgbm model is 0.9942515423888332\n",
      "FOLD 0\n",
      "---------------------------------------------------\n",
      "Fold 0 ROC AUC is: 0.9941920082463438\n",
      "FOLD 1\n",
      "---------------------------------------------------\n",
      "Fold 1 ROC AUC is: 0.9938687684323756\n",
      "FOLD 2\n",
      "---------------------------------------------------\n",
      "Fold 2 ROC AUC is: 0.994477848169254\n",
      "FOLD 3\n",
      "---------------------------------------------------\n",
      "Fold 3 ROC AUC is: 0.9943801737547973\n",
      "FOLD 4\n",
      "---------------------------------------------------\n",
      "Fold 4 ROC AUC is: 0.9943175242073836\n"
     ]
    },
    {
     "name": "stderr",
     "output_type": "stream",
     "text": [
      "\u001b[32m[I 2021-11-26 07:16:17,397]\u001b[0m Trial 144 finished with value: 0.9942459135695507 and parameters: {'n_estimators': 6857, 'depth': 3, 'learning_rate': 0.11840225765366068, 'reg_alpha': 20.50609714446686, 'reg_lambda': 0.08821961219571259, 'subsample': 0.5464349297986711, 'boosting_type': 'goss', 'min_child_samples': 4, 'num_leaves': 103, 'colsample_bytree': 0.6049193151945428}. Best is trial 143 with value: 0.9942515423888332.\u001b[0m\n"
     ]
    },
    {
     "name": "stdout",
     "output_type": "stream",
     "text": [
      "Valid AUC score for lightgbm model is 0.9942459135695507\n",
      "FOLD 0\n",
      "---------------------------------------------------\n",
      "Fold 0 ROC AUC is: 0.9942010332297591\n",
      "FOLD 1\n",
      "---------------------------------------------------\n",
      "Fold 1 ROC AUC is: 0.9938473427976935\n",
      "FOLD 2\n",
      "---------------------------------------------------\n",
      "Fold 2 ROC AUC is: 0.994455571412756\n",
      "FOLD 3\n",
      "---------------------------------------------------\n",
      "Fold 3 ROC AUC is: 0.9942943829526507\n",
      "FOLD 4\n",
      "---------------------------------------------------\n",
      "Fold 4 ROC AUC is: 0.9943719240182746\n"
     ]
    },
    {
     "name": "stderr",
     "output_type": "stream",
     "text": [
      "\u001b[32m[I 2021-11-26 07:29:25,410]\u001b[0m Trial 145 finished with value: 0.9942326075977844 and parameters: {'n_estimators': 6927, 'depth': 3, 'learning_rate': 0.10229979330403133, 'reg_alpha': 29.452821436831332, 'reg_lambda': 0.0864157903444148, 'subsample': 0.5467465954838403, 'boosting_type': 'goss', 'min_child_samples': 4, 'num_leaves': 103, 'colsample_bytree': 0.6078142747172185}. Best is trial 143 with value: 0.9942515423888332.\u001b[0m\n"
     ]
    },
    {
     "name": "stdout",
     "output_type": "stream",
     "text": [
      "Valid AUC score for lightgbm model is 0.9942326075977844\n",
      "FOLD 0\n",
      "---------------------------------------------------\n",
      "Fold 0 ROC AUC is: 0.9941591568509319\n",
      "FOLD 1\n",
      "---------------------------------------------------\n",
      "Fold 1 ROC AUC is: 0.9938125708301994\n",
      "FOLD 2\n",
      "---------------------------------------------------\n",
      "Fold 2 ROC AUC is: 0.9944212890671651\n",
      "FOLD 3\n",
      "---------------------------------------------------\n",
      "Fold 3 ROC AUC is: 0.9943007477000723\n",
      "FOLD 4\n",
      "---------------------------------------------------\n",
      "Fold 4 ROC AUC is: 0.9942990066543893\n"
     ]
    },
    {
     "name": "stderr",
     "output_type": "stream",
     "text": [
      "\u001b[32m[I 2021-11-26 07:42:19,676]\u001b[0m Trial 146 finished with value: 0.994196584243952 and parameters: {'n_estimators': 6991, 'depth': 3, 'learning_rate': 0.07727912548506209, 'reg_alpha': 25.83557327037586, 'reg_lambda': 0.09560982632368194, 'subsample': 0.5505412781333855, 'boosting_type': 'goss', 'min_child_samples': 13, 'num_leaves': 91, 'colsample_bytree': 0.6088237591345865}. Best is trial 143 with value: 0.9942515423888332.\u001b[0m\n"
     ]
    },
    {
     "name": "stdout",
     "output_type": "stream",
     "text": [
      "Valid AUC score for lightgbm model is 0.994196584243952\n",
      "FOLD 0\n",
      "---------------------------------------------------\n",
      "Fold 0 ROC AUC is: 0.9941457975187654\n",
      "FOLD 1\n",
      "---------------------------------------------------\n",
      "Fold 1 ROC AUC is: 0.9937703800942205\n",
      "FOLD 2\n",
      "---------------------------------------------------\n",
      "Fold 2 ROC AUC is: 0.9944084790844245\n",
      "FOLD 3\n",
      "---------------------------------------------------\n",
      "Fold 3 ROC AUC is: 0.9942746432571161\n",
      "FOLD 4\n",
      "---------------------------------------------------\n",
      "Fold 4 ROC AUC is: 0.994245113229521\n"
     ]
    },
    {
     "name": "stderr",
     "output_type": "stream",
     "text": [
      "\u001b[32m[I 2021-11-26 07:55:26,843]\u001b[0m Trial 147 finished with value: 0.9941672038697069 and parameters: {'n_estimators': 6881, 'depth': 3, 'learning_rate': 0.07149379971052082, 'reg_alpha': 29.00453986284562, 'reg_lambda': 0.09084604626474324, 'subsample': 0.5494648086939733, 'boosting_type': 'goss', 'min_child_samples': 4, 'num_leaves': 89, 'colsample_bytree': 0.5609100169434833}. Best is trial 143 with value: 0.9942515423888332.\u001b[0m\n"
     ]
    },
    {
     "name": "stdout",
     "output_type": "stream",
     "text": [
      "Valid AUC score for lightgbm model is 0.9941672038697069\n",
      "FOLD 0\n",
      "---------------------------------------------------\n",
      "Fold 0 ROC AUC is: 0.9941413570068169\n",
      "FOLD 1\n",
      "---------------------------------------------------\n",
      "Fold 1 ROC AUC is: 0.9938589076919815\n",
      "FOLD 2\n",
      "---------------------------------------------------\n",
      "Fold 2 ROC AUC is: 0.9944618303402486\n",
      "FOLD 3\n",
      "---------------------------------------------------\n",
      "Fold 3 ROC AUC is: 0.9942902264226166\n",
      "FOLD 4\n",
      "---------------------------------------------------\n",
      "Fold 4 ROC AUC is: 0.9942991003163485\n"
     ]
    },
    {
     "name": "stderr",
     "output_type": "stream",
     "text": [
      "\u001b[32m[I 2021-11-26 08:08:44,036]\u001b[0m Trial 148 finished with value: 0.9942091434013981 and parameters: {'n_estimators': 6982, 'depth': 3, 'learning_rate': 0.07625263588497057, 'reg_alpha': 24.88777501090289, 'reg_lambda': 0.17788624626586727, 'subsample': 0.5509175957147351, 'boosting_type': 'goss', 'min_child_samples': 14, 'num_leaves': 87, 'colsample_bytree': 0.5637240194293398}. Best is trial 143 with value: 0.9942515423888332.\u001b[0m\n"
     ]
    },
    {
     "name": "stdout",
     "output_type": "stream",
     "text": [
      "Valid AUC score for lightgbm model is 0.9942091434013981\n",
      "FOLD 0\n",
      "---------------------------------------------------\n",
      "Fold 0 ROC AUC is: 0.994157547728127\n",
      "FOLD 1\n",
      "---------------------------------------------------\n",
      "Fold 1 ROC AUC is: 0.9938238457681231\n",
      "FOLD 2\n",
      "---------------------------------------------------\n",
      "Fold 2 ROC AUC is: 0.9944734265057605\n",
      "FOLD 3\n",
      "---------------------------------------------------\n",
      "Fold 3 ROC AUC is: 0.9943069489993794\n",
      "FOLD 4\n",
      "---------------------------------------------------\n",
      "Fold 4 ROC AUC is: 0.994328430961885\n"
     ]
    },
    {
     "name": "stderr",
     "output_type": "stream",
     "text": [
      "\u001b[32m[I 2021-11-26 08:21:43,016]\u001b[0m Trial 149 finished with value: 0.9942167744137407 and parameters: {'n_estimators': 6967, 'depth': 3, 'learning_rate': 0.07661203403209695, 'reg_alpha': 24.105516870739645, 'reg_lambda': 0.08744233878721325, 'subsample': 0.5464334431608259, 'boosting_type': 'goss', 'min_child_samples': 13, 'num_leaves': 89, 'colsample_bytree': 0.5627554946574264}. Best is trial 143 with value: 0.9942515423888332.\u001b[0m\n"
     ]
    },
    {
     "name": "stdout",
     "output_type": "stream",
     "text": [
      "Valid AUC score for lightgbm model is 0.9942167744137407\n",
      "FOLD 0\n",
      "---------------------------------------------------\n",
      "Fold 0 ROC AUC is: 0.9941240012694795\n",
      "FOLD 1\n",
      "---------------------------------------------------\n",
      "Fold 1 ROC AUC is: 0.9938014137652363\n",
      "FOLD 2\n",
      "---------------------------------------------------\n",
      "Fold 2 ROC AUC is: 0.9944602679709691\n",
      "FOLD 3\n",
      "---------------------------------------------------\n",
      "Fold 3 ROC AUC is: 0.9943406098599408\n",
      "FOLD 4\n",
      "---------------------------------------------------\n",
      "Fold 4 ROC AUC is: 0.9942773885292363\n"
     ]
    },
    {
     "name": "stderr",
     "output_type": "stream",
     "text": [
      "\u001b[32m[I 2021-11-26 08:34:43,968]\u001b[0m Trial 150 finished with value: 0.9941991029842324 and parameters: {'n_estimators': 6924, 'depth': 3, 'learning_rate': 0.06986053208043395, 'reg_alpha': 22.59226472150442, 'reg_lambda': 0.11062475468361885, 'subsample': 0.5476209865786975, 'boosting_type': 'goss', 'min_child_samples': 20, 'num_leaves': 88, 'colsample_bytree': 0.5629760965296389}. Best is trial 143 with value: 0.9942515423888332.\u001b[0m\n"
     ]
    },
    {
     "name": "stdout",
     "output_type": "stream",
     "text": [
      "Valid AUC score for lightgbm model is 0.9941991029842324\n",
      "FOLD 0\n",
      "---------------------------------------------------\n",
      "Fold 0 ROC AUC is: 0.9941220586497199\n",
      "FOLD 1\n",
      "---------------------------------------------------\n",
      "Fold 1 ROC AUC is: 0.9937621045227503\n",
      "FOLD 2\n",
      "---------------------------------------------------\n",
      "Fold 2 ROC AUC is: 0.994417339644448\n",
      "FOLD 3\n",
      "---------------------------------------------------\n",
      "Fold 3 ROC AUC is: 0.9942735722272077\n",
      "FOLD 4\n",
      "---------------------------------------------------\n",
      "Fold 4 ROC AUC is: 0.9943048234233661\n"
     ]
    },
    {
     "name": "stderr",
     "output_type": "stream",
     "text": [
      "\u001b[32m[I 2021-11-26 08:47:52,824]\u001b[0m Trial 151 finished with value: 0.9941742595645195 and parameters: {'n_estimators': 6916, 'depth': 3, 'learning_rate': 0.07001593234626909, 'reg_alpha': 22.5855658325586, 'reg_lambda': 0.0967939710572345, 'subsample': 0.5454078646087847, 'boosting_type': 'goss', 'min_child_samples': 14, 'num_leaves': 85, 'colsample_bytree': 0.6097613803310783}. Best is trial 143 with value: 0.9942515423888332.\u001b[0m\n"
     ]
    },
    {
     "name": "stdout",
     "output_type": "stream",
     "text": [
      "Valid AUC score for lightgbm model is 0.9941742595645195\n",
      "FOLD 0\n",
      "---------------------------------------------------\n",
      "Fold 0 ROC AUC is: 0.9941142478731327\n",
      "FOLD 1\n",
      "---------------------------------------------------\n",
      "Fold 1 ROC AUC is: 0.9937652373302917\n",
      "FOLD 2\n",
      "---------------------------------------------------\n",
      "Fold 2 ROC AUC is: 0.9943977445707125\n",
      "FOLD 3\n",
      "---------------------------------------------------\n",
      "Fold 3 ROC AUC is: 0.994238055063057\n",
      "FOLD 4\n",
      "---------------------------------------------------\n",
      "Fold 4 ROC AUC is: 0.9943024454657301\n"
     ]
    },
    {
     "name": "stderr",
     "output_type": "stream",
     "text": [
      "\u001b[32m[I 2021-11-26 09:01:06,069]\u001b[0m Trial 152 finished with value: 0.9941622063031479 and parameters: {'n_estimators': 6932, 'depth': 3, 'learning_rate': 0.06524532148640533, 'reg_alpha': 21.973536296919182, 'reg_lambda': 0.08686510350693402, 'subsample': 0.5479343964669451, 'boosting_type': 'goss', 'min_child_samples': 13, 'num_leaves': 85, 'colsample_bytree': 0.5600550231771233}. Best is trial 143 with value: 0.9942515423888332.\u001b[0m\n"
     ]
    },
    {
     "name": "stdout",
     "output_type": "stream",
     "text": [
      "Valid AUC score for lightgbm model is 0.9941622063031479\n",
      "FOLD 0\n",
      "---------------------------------------------------\n",
      "Fold 0 ROC AUC is: 0.9941807466100203\n",
      "FOLD 1\n",
      "---------------------------------------------------\n",
      "Fold 1 ROC AUC is: 0.9938413268286455\n",
      "FOLD 2\n",
      "---------------------------------------------------\n",
      "Fold 2 ROC AUC is: 0.9944750191718289\n",
      "FOLD 3\n",
      "---------------------------------------------------\n",
      "Fold 3 ROC AUC is: 0.9943222889385183\n",
      "FOLD 4\n",
      "---------------------------------------------------\n",
      "Fold 4 ROC AUC is: 0.9943480827417508\n"
     ]
    },
    {
     "name": "stderr",
     "output_type": "stream",
     "text": [
      "\u001b[32m[I 2021-11-26 09:14:00,351]\u001b[0m Trial 153 finished with value: 0.9942319641040263 and parameters: {'n_estimators': 6977, 'depth': 3, 'learning_rate': 0.08715429891378747, 'reg_alpha': 23.81093416496169, 'reg_lambda': 0.11310474782954245, 'subsample': 0.548700244440887, 'boosting_type': 'goss', 'min_child_samples': 14, 'num_leaves': 90, 'colsample_bytree': 0.6077264429076735}. Best is trial 143 with value: 0.9942515423888332.\u001b[0m\n"
     ]
    },
    {
     "name": "stdout",
     "output_type": "stream",
     "text": [
      "Valid AUC score for lightgbm model is 0.9942319641040263\n",
      "FOLD 0\n",
      "---------------------------------------------------\n",
      "Fold 0 ROC AUC is: 0.9941893511093591\n",
      "FOLD 1\n",
      "---------------------------------------------------\n",
      "Fold 1 ROC AUC is: 0.9938167378061724\n",
      "FOLD 2\n",
      "---------------------------------------------------\n",
      "Fold 2 ROC AUC is: 0.9944464120541245\n",
      "FOLD 3\n",
      "---------------------------------------------------\n",
      "Fold 3 ROC AUC is: 0.9943480812178129\n",
      "FOLD 4\n",
      "---------------------------------------------------\n",
      "Fold 4 ROC AUC is: 0.9943626070157228\n"
     ]
    },
    {
     "name": "stderr",
     "output_type": "stream",
     "text": [
      "\u001b[32m[I 2021-11-26 09:27:21,716]\u001b[0m Trial 154 finished with value: 0.9942309547022707 and parameters: {'n_estimators': 6987, 'depth': 3, 'learning_rate': 0.08126623338301615, 'reg_alpha': 23.426657832353804, 'reg_lambda': 0.17570698220382525, 'subsample': 0.5485673696933338, 'boosting_type': 'goss', 'min_child_samples': 15, 'num_leaves': 77, 'colsample_bytree': 0.6114138591009641}. Best is trial 143 with value: 0.9942515423888332.\u001b[0m\n"
     ]
    },
    {
     "name": "stdout",
     "output_type": "stream",
     "text": [
      "Valid AUC score for lightgbm model is 0.9942309547022707\n",
      "FOLD 0\n",
      "---------------------------------------------------\n",
      "Fold 0 ROC AUC is: 0.9941794570884632\n",
      "FOLD 1\n",
      "---------------------------------------------------\n",
      "Fold 1 ROC AUC is: 0.9938348985822364\n",
      "FOLD 2\n",
      "---------------------------------------------------\n",
      "Fold 2 ROC AUC is: 0.9944509607417706\n",
      "FOLD 3\n",
      "---------------------------------------------------\n",
      "Fold 3 ROC AUC is: 0.9943874302395525\n",
      "FOLD 4\n",
      "---------------------------------------------------\n",
      "Fold 4 ROC AUC is: 0.994309657714521\n"
     ]
    },
    {
     "name": "stderr",
     "output_type": "stream",
     "text": [
      "\u001b[32m[I 2021-11-26 09:40:35,826]\u001b[0m Trial 155 finished with value: 0.9942307163634255 and parameters: {'n_estimators': 6954, 'depth': 3, 'learning_rate': 0.07819789436002278, 'reg_alpha': 22.447720542699077, 'reg_lambda': 0.16491304223115058, 'subsample': 0.5489562875742388, 'boosting_type': 'goss', 'min_child_samples': 16, 'num_leaves': 79, 'colsample_bytree': 0.5525036566806174}. Best is trial 143 with value: 0.9942515423888332.\u001b[0m\n"
     ]
    },
    {
     "name": "stdout",
     "output_type": "stream",
     "text": [
      "Valid AUC score for lightgbm model is 0.9942307163634255\n",
      "FOLD 0\n",
      "---------------------------------------------------\n",
      "Fold 0 ROC AUC is: 0.994182326551842\n",
      "FOLD 1\n",
      "---------------------------------------------------\n",
      "Fold 1 ROC AUC is: 0.9938621697705768\n",
      "FOLD 2\n",
      "---------------------------------------------------\n",
      "Fold 2 ROC AUC is: 0.9944680842646018\n",
      "FOLD 3\n",
      "---------------------------------------------------\n",
      "Fold 3 ROC AUC is: 0.9943790899381313\n",
      "FOLD 4\n",
      "---------------------------------------------------\n",
      "Fold 4 ROC AUC is: 0.9943415647587587\n"
     ]
    },
    {
     "name": "stderr",
     "output_type": "stream",
     "text": [
      "\u001b[32m[I 2021-11-26 09:53:51,484]\u001b[0m Trial 156 finished with value: 0.9942447682711815 and parameters: {'n_estimators': 6936, 'depth': 3, 'learning_rate': 0.08120531556460268, 'reg_alpha': 21.776044898361754, 'reg_lambda': 0.18907407231150503, 'subsample': 0.5559243305103437, 'boosting_type': 'goss', 'min_child_samples': 19, 'num_leaves': 79, 'colsample_bytree': 0.5500355246930251}. Best is trial 143 with value: 0.9942515423888332.\u001b[0m\n"
     ]
    },
    {
     "name": "stdout",
     "output_type": "stream",
     "text": [
      "Valid AUC score for lightgbm model is 0.9942447682711815\n",
      "FOLD 0\n",
      "---------------------------------------------------\n",
      "Fold 0 ROC AUC is: 0.9941659493501518\n",
      "FOLD 1\n",
      "---------------------------------------------------\n",
      "Fold 1 ROC AUC is: 0.9938291842456477\n",
      "FOLD 2\n",
      "---------------------------------------------------\n",
      "Fold 2 ROC AUC is: 0.9944474985692489\n",
      "FOLD 3\n",
      "---------------------------------------------------\n",
      "Fold 3 ROC AUC is: 0.9943527228107049\n",
      "FOLD 4\n",
      "---------------------------------------------------\n",
      "Fold 4 ROC AUC is: 0.9943375325697233\n"
     ]
    },
    {
     "name": "stderr",
     "output_type": "stream",
     "text": [
      "\u001b[32m[I 2021-11-26 10:07:02,311]\u001b[0m Trial 157 finished with value: 0.994225199436765 and parameters: {'n_estimators': 6975, 'depth': 3, 'learning_rate': 0.0827426731433449, 'reg_alpha': 22.23357970133793, 'reg_lambda': 0.1745419064915903, 'subsample': 0.5518197939127588, 'boosting_type': 'goss', 'min_child_samples': 19, 'num_leaves': 74, 'colsample_bytree': 0.5397374919373712}. Best is trial 143 with value: 0.9942515423888332.\u001b[0m\n"
     ]
    },
    {
     "name": "stdout",
     "output_type": "stream",
     "text": [
      "Valid AUC score for lightgbm model is 0.994225199436765\n",
      "FOLD 0\n",
      "---------------------------------------------------\n",
      "Fold 0 ROC AUC is: 0.9941918292696444\n",
      "FOLD 1\n",
      "---------------------------------------------------\n",
      "Fold 1 ROC AUC is: 0.9938669227753281\n",
      "FOLD 2\n",
      "---------------------------------------------------\n",
      "Fold 2 ROC AUC is: 0.9944849078770162\n",
      "FOLD 3\n",
      "---------------------------------------------------\n",
      "Fold 3 ROC AUC is: 0.9943476039381988\n",
      "FOLD 4\n",
      "---------------------------------------------------\n"
     ]
    },
    {
     "name": "stderr",
     "output_type": "stream",
     "text": [
      "\u001b[32m[I 2021-11-26 10:20:31,649]\u001b[0m Trial 158 finished with value: 0.994242946002436 and parameters: {'n_estimators': 6996, 'depth': 3, 'learning_rate': 0.08114920779721267, 'reg_alpha': 23.585029102178236, 'reg_lambda': 0.18252636412959844, 'subsample': 0.5557146891711026, 'boosting_type': 'goss', 'min_child_samples': 19, 'num_leaves': 71, 'colsample_bytree': 0.5471615994679275}. Best is trial 143 with value: 0.9942515423888332.\u001b[0m\n"
     ]
    },
    {
     "name": "stdout",
     "output_type": "stream",
     "text": [
      "Fold 4 ROC AUC is: 0.9943335982115774\n",
      "Valid AUC score for lightgbm model is 0.994242946002436\n",
      "FOLD 0\n",
      "---------------------------------------------------\n",
      "Fold 0 ROC AUC is: 0.9940904003396629\n",
      "FOLD 1\n",
      "---------------------------------------------------\n",
      "Fold 1 ROC AUC is: 0.993725009846319\n",
      "FOLD 2\n",
      "---------------------------------------------------\n",
      "Fold 2 ROC AUC is: 0.99435229438394\n",
      "FOLD 3\n",
      "---------------------------------------------------\n",
      "Fold 3 ROC AUC is: 0.9942398894067804\n",
      "FOLD 4\n",
      "---------------------------------------------------\n",
      "Fold 4 ROC AUC is: 0.9942685920870692\n"
     ]
    },
    {
     "name": "stderr",
     "output_type": "stream",
     "text": [
      "\u001b[32m[I 2021-11-26 10:34:00,829]\u001b[0m Trial 159 finished with value: 0.9941340006457813 and parameters: {'n_estimators': 6998, 'depth': 3, 'learning_rate': 0.05983557127781401, 'reg_alpha': 21.244338196821015, 'reg_lambda': 0.20622107650895788, 'subsample': 0.561013685161442, 'boosting_type': 'goss', 'min_child_samples': 21, 'num_leaves': 71, 'colsample_bytree': 0.5428321308666283}. Best is trial 143 with value: 0.9942515423888332.\u001b[0m\n"
     ]
    },
    {
     "name": "stdout",
     "output_type": "stream",
     "text": [
      "Valid AUC score for lightgbm model is 0.9941340006457813\n",
      "FOLD 0\n",
      "---------------------------------------------------\n",
      "Fold 0 ROC AUC is: 0.9940908105409167\n",
      "FOLD 1\n",
      "---------------------------------------------------\n",
      "Fold 1 ROC AUC is: 0.9938222108367938\n",
      "FOLD 2\n",
      "---------------------------------------------------\n",
      "Fold 2 ROC AUC is: 0.9944217073852163\n",
      "FOLD 3\n",
      "---------------------------------------------------\n",
      "Fold 3 ROC AUC is: 0.9942927640379902\n",
      "FOLD 4\n",
      "---------------------------------------------------\n",
      "Fold 4 ROC AUC is: 0.9942612155824386\n"
     ]
    },
    {
     "name": "stderr",
     "output_type": "stream",
     "text": [
      "\u001b[32m[I 2021-11-26 10:47:13,882]\u001b[0m Trial 160 finished with value: 0.9941767460400555 and parameters: {'n_estimators': 6865, 'depth': 3, 'learning_rate': 0.08176984540212742, 'reg_alpha': 0.006622639229648072, 'reg_lambda': 0.14740394171663296, 'subsample': 0.5731344377665837, 'boosting_type': 'goss', 'min_child_samples': 19, 'num_leaves': 78, 'colsample_bytree': 0.5353982559821041}. Best is trial 143 with value: 0.9942515423888332.\u001b[0m\n"
     ]
    },
    {
     "name": "stdout",
     "output_type": "stream",
     "text": [
      "Valid AUC score for lightgbm model is 0.9941767460400555\n",
      "FOLD 0\n",
      "---------------------------------------------------\n",
      "Fold 0 ROC AUC is: 0.9941732362586063\n",
      "FOLD 1\n",
      "---------------------------------------------------\n",
      "Fold 1 ROC AUC is: 0.9938605551334132\n",
      "FOLD 2\n",
      "---------------------------------------------------\n",
      "Fold 2 ROC AUC is: 0.9944603724809938\n",
      "FOLD 3\n",
      "---------------------------------------------------\n",
      "Fold 3 ROC AUC is: 0.9943772405838667\n",
      "FOLD 4\n",
      "---------------------------------------------------\n",
      "Fold 4 ROC AUC is: 0.9943480179843723\n"
     ]
    },
    {
     "name": "stderr",
     "output_type": "stream",
     "text": [
      "\u001b[32m[I 2021-11-26 11:00:17,209]\u001b[0m Trial 161 finished with value: 0.9942426589885209 and parameters: {'n_estimators': 6970, 'depth': 3, 'learning_rate': 0.08103573058715804, 'reg_alpha': 23.34269152891063, 'reg_lambda': 0.18648204107814223, 'subsample': 0.5539428253544953, 'boosting_type': 'goss', 'min_child_samples': 16, 'num_leaves': 68, 'colsample_bytree': 0.5185660677600253}. Best is trial 143 with value: 0.9942515423888332.\u001b[0m\n"
     ]
    },
    {
     "name": "stdout",
     "output_type": "stream",
     "text": [
      "Valid AUC score for lightgbm model is 0.9942426589885209\n",
      "FOLD 0\n",
      "---------------------------------------------------\n",
      "Fold 0 ROC AUC is: 0.9942293879745683\n",
      "FOLD 1\n",
      "---------------------------------------------------\n",
      "Fold 1 ROC AUC is: 0.993884599549446\n",
      "FOLD 2\n",
      "---------------------------------------------------\n",
      "Fold 2 ROC AUC is: 0.9944757159979781\n",
      "FOLD 3\n",
      "---------------------------------------------------\n",
      "Fold 3 ROC AUC is: 0.9943834107501993\n",
      "FOLD 4\n",
      "---------------------------------------------------\n",
      "Fold 4 ROC AUC is: 0.9943347421659523\n"
     ]
    },
    {
     "name": "stderr",
     "output_type": "stream",
     "text": [
      "\u001b[32m[I 2021-11-26 11:13:45,293]\u001b[0m Trial 162 finished with value: 0.9942600965597808 and parameters: {'n_estimators': 6996, 'depth': 3, 'learning_rate': 0.08659716563571565, 'reg_alpha': 19.370955755308078, 'reg_lambda': 0.16945203251697963, 'subsample': 0.5405311902990995, 'boosting_type': 'goss', 'min_child_samples': 19, 'num_leaves': 65, 'colsample_bytree': 0.5211142015497836}. Best is trial 162 with value: 0.9942600965597808.\u001b[0m\n"
     ]
    },
    {
     "name": "stdout",
     "output_type": "stream",
     "text": [
      "Valid AUC score for lightgbm model is 0.9942600965597808\n",
      "FOLD 0\n",
      "---------------------------------------------------\n",
      "Fold 0 ROC AUC is: 0.9941797350025918\n",
      "FOLD 1\n",
      "---------------------------------------------------\n",
      "Fold 1 ROC AUC is: 0.9938869767468271\n",
      "FOLD 2\n",
      "---------------------------------------------------\n",
      "Fold 2 ROC AUC is: 0.9945148697337117\n",
      "FOLD 3\n",
      "---------------------------------------------------\n",
      "Fold 3 ROC AUC is: 0.9943802062776363\n",
      "FOLD 4\n",
      "---------------------------------------------------\n",
      "Fold 4 ROC AUC is: 0.9943504248465894\n"
     ]
    },
    {
     "name": "stderr",
     "output_type": "stream",
     "text": [
      "\u001b[32m[I 2021-11-26 11:27:09,312]\u001b[0m Trial 163 finished with value: 0.9942613140480143 and parameters: {'n_estimators': 6994, 'depth': 3, 'learning_rate': 0.09968762716381678, 'reg_alpha': 18.467970469719724, 'reg_lambda': 0.17141302572426298, 'subsample': 0.5579941937828659, 'boosting_type': 'goss', 'min_child_samples': 17, 'num_leaves': 65, 'colsample_bytree': 0.5144154375240088}. Best is trial 163 with value: 0.9942613140480143.\u001b[0m\n"
     ]
    },
    {
     "name": "stdout",
     "output_type": "stream",
     "text": [
      "Valid AUC score for lightgbm model is 0.9942613140480143\n",
      "FOLD 0\n",
      "---------------------------------------------------\n",
      "Fold 0 ROC AUC is: 0.9941720151039247\n",
      "FOLD 1\n",
      "---------------------------------------------------\n",
      "Fold 1 ROC AUC is: 0.993900125976032\n",
      "FOLD 2\n",
      "---------------------------------------------------\n",
      "Fold 2 ROC AUC is: 0.9944913244034024\n",
      "FOLD 3\n",
      "---------------------------------------------------\n",
      "Fold 3 ROC AUC is: 0.9943594864493591\n",
      "FOLD 4\n",
      "---------------------------------------------------\n",
      "Fold 4 ROC AUC is: 0.9943680499706485\n"
     ]
    },
    {
     "name": "stderr",
     "output_type": "stream",
     "text": [
      "\u001b[32m[I 2021-11-26 11:40:35,306]\u001b[0m Trial 164 finished with value: 0.994257126813517 and parameters: {'n_estimators': 6979, 'depth': 3, 'learning_rate': 0.10093380405415418, 'reg_alpha': 18.520474376695404, 'reg_lambda': 0.178138602210864, 'subsample': 0.5665364893663228, 'boosting_type': 'goss', 'min_child_samples': 16, 'num_leaves': 62, 'colsample_bytree': 0.5248073756199425}. Best is trial 163 with value: 0.9942613140480143.\u001b[0m\n"
     ]
    },
    {
     "name": "stdout",
     "output_type": "stream",
     "text": [
      "Valid AUC score for lightgbm model is 0.994257126813517\n",
      "FOLD 0\n",
      "---------------------------------------------------\n",
      "Fold 0 ROC AUC is: 0.994191737280068\n",
      "FOLD 1\n",
      "---------------------------------------------------\n",
      "Fold 1 ROC AUC is: 0.9939166217965216\n",
      "FOLD 2\n",
      "---------------------------------------------------\n",
      "Fold 2 ROC AUC is: 0.9944631775745305\n",
      "FOLD 3\n",
      "---------------------------------------------------\n",
      "Fold 3 ROC AUC is: 0.994398221150803\n",
      "FOLD 4\n",
      "---------------------------------------------------\n",
      "Fold 4 ROC AUC is: 0.994385861028983\n"
     ]
    },
    {
     "name": "stderr",
     "output_type": "stream",
     "text": [
      "\u001b[32m[I 2021-11-26 11:53:21,816]\u001b[0m Trial 165 finished with value: 0.9942698727217949 and parameters: {'n_estimators': 6813, 'depth': 3, 'learning_rate': 0.10160547867596459, 'reg_alpha': 18.077244901058503, 'reg_lambda': 0.13114544552156804, 'subsample': 0.5576309187027153, 'boosting_type': 'goss', 'min_child_samples': 16, 'num_leaves': 58, 'colsample_bytree': 0.5175530250036372}. Best is trial 165 with value: 0.9942698727217949.\u001b[0m\n"
     ]
    },
    {
     "name": "stdout",
     "output_type": "stream",
     "text": [
      "Valid AUC score for lightgbm model is 0.9942698727217949\n",
      "FOLD 0\n",
      "---------------------------------------------------\n",
      "Fold 0 ROC AUC is: 0.9942012719579956\n",
      "FOLD 1\n",
      "---------------------------------------------------\n",
      "Fold 1 ROC AUC is: 0.9938719721304952\n",
      "FOLD 2\n",
      "---------------------------------------------------\n",
      "Fold 2 ROC AUC is: 0.9945225120292714\n",
      "FOLD 3\n",
      "---------------------------------------------------\n",
      "Fold 3 ROC AUC is: 0.9944016302114829\n",
      "FOLD 4\n",
      "---------------------------------------------------\n",
      "Fold 4 ROC AUC is: 0.9944188428233584\n"
     ]
    },
    {
     "name": "stderr",
     "output_type": "stream",
     "text": [
      "\u001b[32m[I 2021-11-26 12:06:50,235]\u001b[0m Trial 166 finished with value: 0.9942819191677674 and parameters: {'n_estimators': 6986, 'depth': 3, 'learning_rate': 0.09080435106650955, 'reg_alpha': 19.060739534647425, 'reg_lambda': 0.12865332700612375, 'subsample': 0.5612404690403716, 'boosting_type': 'goss', 'min_child_samples': 17, 'num_leaves': 59, 'colsample_bytree': 0.5125554530181221}. Best is trial 166 with value: 0.9942819191677674.\u001b[0m\n"
     ]
    },
    {
     "name": "stdout",
     "output_type": "stream",
     "text": [
      "Valid AUC score for lightgbm model is 0.9942819191677674\n",
      "FOLD 0\n",
      "---------------------------------------------------\n",
      "Fold 0 ROC AUC is: 0.9942105542898941\n",
      "FOLD 1\n",
      "---------------------------------------------------\n",
      "Fold 1 ROC AUC is: 0.9938853712837379\n",
      "FOLD 2\n",
      "---------------------------------------------------\n",
      "Fold 2 ROC AUC is: 0.9944912635318721\n",
      "FOLD 3\n",
      "---------------------------------------------------\n",
      "Fold 3 ROC AUC is: 0.9943416091728193\n",
      "FOLD 4\n",
      "---------------------------------------------------\n",
      "Fold 4 ROC AUC is: 0.99436937541244\n"
     ]
    },
    {
     "name": "stderr",
     "output_type": "stream",
     "text": [
      "\u001b[32m[I 2021-11-26 12:19:58,804]\u001b[0m Trial 167 finished with value: 0.9942582106509944 and parameters: {'n_estimators': 6819, 'depth': 3, 'learning_rate': 0.10313632674518916, 'reg_alpha': 18.14583701915032, 'reg_lambda': 0.13811516224982587, 'subsample': 0.5589055502008399, 'boosting_type': 'goss', 'min_child_samples': 17, 'num_leaves': 58, 'colsample_bytree': 0.5189891612464596}. Best is trial 166 with value: 0.9942819191677674.\u001b[0m\n"
     ]
    },
    {
     "name": "stdout",
     "output_type": "stream",
     "text": [
      "Valid AUC score for lightgbm model is 0.9942582106509944\n",
      "FOLD 0\n",
      "---------------------------------------------------\n",
      "Fold 0 ROC AUC is: 0.994238800092365\n",
      "FOLD 1\n",
      "---------------------------------------------------\n",
      "Fold 1 ROC AUC is: 0.9938818009006286\n",
      "FOLD 2\n",
      "---------------------------------------------------\n",
      "Fold 2 ROC AUC is: 0.9945024055234999\n",
      "FOLD 3\n",
      "---------------------------------------------------\n",
      "Fold 3 ROC AUC is: 0.9943501093087065\n",
      "FOLD 4\n",
      "---------------------------------------------------\n",
      "Fold 4 ROC AUC is: 0.9943869858062798\n"
     ]
    },
    {
     "name": "stderr",
     "output_type": "stream",
     "text": [
      "\u001b[32m[I 2021-11-26 12:33:20,374]\u001b[0m Trial 168 finished with value: 0.9942705361280815 and parameters: {'n_estimators': 6995, 'depth': 3, 'learning_rate': 0.1011410739429106, 'reg_alpha': 18.20002955335698, 'reg_lambda': 0.22533898386768117, 'subsample': 0.5741066061822598, 'boosting_type': 'goss', 'min_child_samples': 17, 'num_leaves': 59, 'colsample_bytree': 0.5206184178262918}. Best is trial 166 with value: 0.9942819191677674.\u001b[0m\n"
     ]
    },
    {
     "name": "stdout",
     "output_type": "stream",
     "text": [
      "Valid AUC score for lightgbm model is 0.9942705361280815\n",
      "FOLD 0\n",
      "---------------------------------------------------\n",
      "Fold 0 ROC AUC is: 0.9941879276331919\n",
      "FOLD 1\n",
      "---------------------------------------------------\n",
      "Fold 1 ROC AUC is: 0.9938639286909176\n",
      "FOLD 2\n",
      "---------------------------------------------------\n",
      "Fold 2 ROC AUC is: 0.9944960331915123\n",
      "FOLD 3\n",
      "---------------------------------------------------\n",
      "Fold 3 ROC AUC is: 0.9943798351837022\n",
      "FOLD 4\n",
      "---------------------------------------------------\n",
      "Fold 4 ROC AUC is: 0.9943212848601156\n"
     ]
    },
    {
     "name": "stderr",
     "output_type": "stream",
     "text": [
      "\u001b[32m[I 2021-11-26 12:46:19,658]\u001b[0m Trial 169 finished with value: 0.9942483337478186 and parameters: {'n_estimators': 6848, 'depth': 3, 'learning_rate': 0.08947468181605224, 'reg_alpha': 17.49070386756757, 'reg_lambda': 0.23806157128691172, 'subsample': 0.5772382635280748, 'boosting_type': 'goss', 'min_child_samples': 16, 'num_leaves': 59, 'colsample_bytree': 0.5194331114547315}. Best is trial 166 with value: 0.9942819191677674.\u001b[0m\n"
     ]
    },
    {
     "name": "stdout",
     "output_type": "stream",
     "text": [
      "Valid AUC score for lightgbm model is 0.9942483337478186\n",
      "FOLD 0\n",
      "---------------------------------------------------\n",
      "Fold 0 ROC AUC is: 0.9941730136493891\n",
      "FOLD 1\n",
      "---------------------------------------------------\n",
      "Fold 1 ROC AUC is: 0.9939002343969161\n",
      "FOLD 2\n",
      "---------------------------------------------------\n",
      "Fold 2 ROC AUC is: 0.9944458580954029\n",
      "FOLD 3\n",
      "---------------------------------------------------\n",
      "Fold 3 ROC AUC is: 0.9943259542902891\n",
      "FOLD 4\n",
      "---------------------------------------------------\n",
      "Fold 4 ROC AUC is: 0.9943179466589506\n"
     ]
    },
    {
     "name": "stderr",
     "output_type": "stream",
     "text": [
      "\u001b[32m[I 2021-11-26 12:59:26,186]\u001b[0m Trial 170 finished with value: 0.9942311610987965 and parameters: {'n_estimators': 6806, 'depth': 3, 'learning_rate': 0.10048445751242875, 'reg_alpha': 12.957399813550747, 'reg_lambda': 0.232894695123642, 'subsample': 0.5753750707937908, 'boosting_type': 'goss', 'min_child_samples': 23, 'num_leaves': 60, 'colsample_bytree': 0.5170199716127369}. Best is trial 166 with value: 0.9942819191677674.\u001b[0m\n"
     ]
    },
    {
     "name": "stdout",
     "output_type": "stream",
     "text": [
      "Valid AUC score for lightgbm model is 0.9942311610987965\n",
      "FOLD 0\n",
      "---------------------------------------------------\n",
      "Fold 0 ROC AUC is: 0.9941707761627387\n",
      "FOLD 1\n",
      "---------------------------------------------------\n",
      "Fold 1 ROC AUC is: 0.9938716121175598\n",
      "FOLD 2\n",
      "---------------------------------------------------\n",
      "Fold 2 ROC AUC is: 0.9944816919701379\n",
      "FOLD 3\n",
      "---------------------------------------------------\n",
      "Fold 3 ROC AUC is: 0.9943587350883824\n",
      "FOLD 4\n",
      "---------------------------------------------------\n"
     ]
    },
    {
     "name": "stderr",
     "output_type": "stream",
     "text": [
      "\u001b[32m[I 2021-11-26 13:12:37,110]\u001b[0m Trial 171 finished with value: 0.9942511168433132 and parameters: {'n_estimators': 6821, 'depth': 3, 'learning_rate': 0.09552354292201265, 'reg_alpha': 17.39592921156694, 'reg_lambda': 0.22547459219212207, 'subsample': 0.5746115409254111, 'boosting_type': 'goss', 'min_child_samples': 16, 'num_leaves': 58, 'colsample_bytree': 0.5165396796086303}. Best is trial 166 with value: 0.9942819191677674.\u001b[0m\n"
     ]
    },
    {
     "name": "stdout",
     "output_type": "stream",
     "text": [
      "Fold 4 ROC AUC is: 0.994378367794314\n",
      "Valid AUC score for lightgbm model is 0.9942511168433132\n",
      "FOLD 0\n",
      "---------------------------------------------------\n",
      "Fold 0 ROC AUC is: 0.9942021957445594\n",
      "FOLD 1\n",
      "---------------------------------------------------\n",
      "Fold 1 ROC AUC is: 0.9938625428496186\n",
      "FOLD 2\n",
      "---------------------------------------------------\n",
      "Fold 2 ROC AUC is: 0.9944413124652307\n",
      "FOLD 3\n",
      "---------------------------------------------------\n",
      "Fold 3 ROC AUC is: 0.9943728469428768\n",
      "FOLD 4\n",
      "---------------------------------------------------\n",
      "Fold 4 ROC AUC is: 0.994357092355202\n"
     ]
    },
    {
     "name": "stderr",
     "output_type": "stream",
     "text": [
      "\u001b[32m[I 2021-11-26 13:25:49,005]\u001b[0m Trial 172 finished with value: 0.9942458259477548 and parameters: {'n_estimators': 6805, 'depth': 3, 'learning_rate': 0.09996420171635836, 'reg_alpha': 12.470174172220695, 'reg_lambda': 0.2228529181179366, 'subsample': 0.5782544386071927, 'boosting_type': 'goss', 'min_child_samples': 24, 'num_leaves': 56, 'colsample_bytree': 0.5215674133461865}. Best is trial 166 with value: 0.9942819191677674.\u001b[0m\n"
     ]
    },
    {
     "name": "stdout",
     "output_type": "stream",
     "text": [
      "Valid AUC score for lightgbm model is 0.9942458259477548\n",
      "FOLD 0\n",
      "---------------------------------------------------\n"
     ]
    },
    {
     "ename": "KeyboardInterrupt",
     "evalue": "",
     "output_type": "error",
     "traceback": [
      "\u001b[0;31m---------------------------------------------------------------------------\u001b[0m",
      "\u001b[0;31mKeyboardInterrupt\u001b[0m                         Traceback (most recent call last)",
      "\u001b[0;32m<ipython-input-19-fc3629c7e125>\u001b[0m in \u001b[0;36m<module>\u001b[0;34m\u001b[0m\n\u001b[1;32m      1\u001b[0m \u001b[0;32mfor\u001b[0m \u001b[0mx\u001b[0m \u001b[0;32min\u001b[0m \u001b[0mrange\u001b[0m\u001b[0;34m(\u001b[0m\u001b[0;36m1\u001b[0m\u001b[0;34m,\u001b[0m\u001b[0;36m100\u001b[0m\u001b[0;34m)\u001b[0m\u001b[0;34m:\u001b[0m\u001b[0;34m\u001b[0m\u001b[0;34m\u001b[0m\u001b[0m\n\u001b[0;32m----> 2\u001b[0;31m     \u001b[0mstudy\u001b[0m\u001b[0;34m.\u001b[0m\u001b[0moptimize\u001b[0m\u001b[0;34m(\u001b[0m\u001b[0mobjective\u001b[0m\u001b[0;34m,\u001b[0m \u001b[0mn_trials\u001b[0m \u001b[0;34m=\u001b[0m \u001b[0;36m2\u001b[0m\u001b[0;34m,\u001b[0m \u001b[0mcallbacks\u001b[0m \u001b[0;34m=\u001b[0m \u001b[0;34m[\u001b[0m\u001b[0mwandbc\u001b[0m\u001b[0;34m]\u001b[0m\u001b[0;34m,\u001b[0m \u001b[0mcatch\u001b[0m\u001b[0;34m=\u001b[0m\u001b[0;34m(\u001b[0m\u001b[0mlightgbm\u001b[0m\u001b[0;34m.\u001b[0m\u001b[0mbasic\u001b[0m\u001b[0;34m.\u001b[0m\u001b[0mLightGBMError\u001b[0m\u001b[0;34m,\u001b[0m\u001b[0;34m)\u001b[0m\u001b[0;34m)\u001b[0m \u001b[0;31m#n_jobs = multiprocessing.cpu_count())\u001b[0m\u001b[0;34m\u001b[0m\u001b[0;34m\u001b[0m\u001b[0m\n\u001b[0m\u001b[1;32m      3\u001b[0m \u001b[0;31m#     print(f\"{x+26} trials complete\")\u001b[0m\u001b[0;34m\u001b[0m\u001b[0;34m\u001b[0m\u001b[0;34m\u001b[0m\u001b[0m\n\u001b[1;32m      4\u001b[0m     \u001b[0mdump\u001b[0m\u001b[0;34m(\u001b[0m\u001b[0mstudy\u001b[0m\u001b[0;34m,\u001b[0m \u001b[0mfilename\u001b[0m\u001b[0;34m=\u001b[0m\u001b[0mdatapath\u001b[0m\u001b[0;34m/\u001b[0m\u001b[0;34mf\"optuna_lightgbm_study_{datetime.now().strftime('%Y%m%d')}.joblib\"\u001b[0m\u001b[0;34m)\u001b[0m\u001b[0;34m\u001b[0m\u001b[0;34m\u001b[0m\u001b[0m\n\u001b[1;32m      5\u001b[0m \u001b[0;31m#     dump(study.best_trial.params, filename=datapath/f'optuna_lightgbm_study_best-thru-{x*5}trials_20210927.joblib')\u001b[0m\u001b[0;34m\u001b[0m\u001b[0;34m\u001b[0m\u001b[0;34m\u001b[0m\u001b[0m\n",
      "\u001b[0;32m~/anaconda3/envs/tabular-x/lib/python3.8/site-packages/optuna/study/study.py\u001b[0m in \u001b[0;36moptimize\u001b[0;34m(self, func, n_trials, timeout, n_jobs, catch, callbacks, gc_after_trial, show_progress_bar)\u001b[0m\n\u001b[1;32m    398\u001b[0m             )\n\u001b[1;32m    399\u001b[0m \u001b[0;34m\u001b[0m\u001b[0m\n\u001b[0;32m--> 400\u001b[0;31m         _optimize(\n\u001b[0m\u001b[1;32m    401\u001b[0m             \u001b[0mstudy\u001b[0m\u001b[0;34m=\u001b[0m\u001b[0mself\u001b[0m\u001b[0;34m,\u001b[0m\u001b[0;34m\u001b[0m\u001b[0;34m\u001b[0m\u001b[0m\n\u001b[1;32m    402\u001b[0m             \u001b[0mfunc\u001b[0m\u001b[0;34m=\u001b[0m\u001b[0mfunc\u001b[0m\u001b[0;34m,\u001b[0m\u001b[0;34m\u001b[0m\u001b[0;34m\u001b[0m\u001b[0m\n",
      "\u001b[0;32m~/anaconda3/envs/tabular-x/lib/python3.8/site-packages/optuna/study/_optimize.py\u001b[0m in \u001b[0;36m_optimize\u001b[0;34m(study, func, n_trials, timeout, n_jobs, catch, callbacks, gc_after_trial, show_progress_bar)\u001b[0m\n\u001b[1;32m     64\u001b[0m     \u001b[0;32mtry\u001b[0m\u001b[0;34m:\u001b[0m\u001b[0;34m\u001b[0m\u001b[0;34m\u001b[0m\u001b[0m\n\u001b[1;32m     65\u001b[0m         \u001b[0;32mif\u001b[0m \u001b[0mn_jobs\u001b[0m \u001b[0;34m==\u001b[0m \u001b[0;36m1\u001b[0m\u001b[0;34m:\u001b[0m\u001b[0;34m\u001b[0m\u001b[0;34m\u001b[0m\u001b[0m\n\u001b[0;32m---> 66\u001b[0;31m             _optimize_sequential(\n\u001b[0m\u001b[1;32m     67\u001b[0m                 \u001b[0mstudy\u001b[0m\u001b[0;34m,\u001b[0m\u001b[0;34m\u001b[0m\u001b[0;34m\u001b[0m\u001b[0m\n\u001b[1;32m     68\u001b[0m                 \u001b[0mfunc\u001b[0m\u001b[0;34m,\u001b[0m\u001b[0;34m\u001b[0m\u001b[0;34m\u001b[0m\u001b[0m\n",
      "\u001b[0;32m~/anaconda3/envs/tabular-x/lib/python3.8/site-packages/optuna/study/_optimize.py\u001b[0m in \u001b[0;36m_optimize_sequential\u001b[0;34m(study, func, n_trials, timeout, catch, callbacks, gc_after_trial, reseed_sampler_rng, time_start, progress_bar)\u001b[0m\n\u001b[1;32m    161\u001b[0m \u001b[0;34m\u001b[0m\u001b[0m\n\u001b[1;32m    162\u001b[0m         \u001b[0;32mtry\u001b[0m\u001b[0;34m:\u001b[0m\u001b[0;34m\u001b[0m\u001b[0;34m\u001b[0m\u001b[0m\n\u001b[0;32m--> 163\u001b[0;31m             \u001b[0mtrial\u001b[0m \u001b[0;34m=\u001b[0m \u001b[0m_run_trial\u001b[0m\u001b[0;34m(\u001b[0m\u001b[0mstudy\u001b[0m\u001b[0;34m,\u001b[0m \u001b[0mfunc\u001b[0m\u001b[0;34m,\u001b[0m \u001b[0mcatch\u001b[0m\u001b[0;34m)\u001b[0m\u001b[0;34m\u001b[0m\u001b[0;34m\u001b[0m\u001b[0m\n\u001b[0m\u001b[1;32m    164\u001b[0m         \u001b[0;32mexcept\u001b[0m \u001b[0mException\u001b[0m\u001b[0;34m:\u001b[0m\u001b[0;34m\u001b[0m\u001b[0;34m\u001b[0m\u001b[0m\n\u001b[1;32m    165\u001b[0m             \u001b[0;32mraise\u001b[0m\u001b[0;34m\u001b[0m\u001b[0;34m\u001b[0m\u001b[0m\n",
      "\u001b[0;32m~/anaconda3/envs/tabular-x/lib/python3.8/site-packages/optuna/study/_optimize.py\u001b[0m in \u001b[0;36m_run_trial\u001b[0;34m(study, func, catch)\u001b[0m\n\u001b[1;32m    211\u001b[0m \u001b[0;34m\u001b[0m\u001b[0m\n\u001b[1;32m    212\u001b[0m     \u001b[0;32mtry\u001b[0m\u001b[0;34m:\u001b[0m\u001b[0;34m\u001b[0m\u001b[0;34m\u001b[0m\u001b[0m\n\u001b[0;32m--> 213\u001b[0;31m         \u001b[0mvalue_or_values\u001b[0m \u001b[0;34m=\u001b[0m \u001b[0mfunc\u001b[0m\u001b[0;34m(\u001b[0m\u001b[0mtrial\u001b[0m\u001b[0;34m)\u001b[0m\u001b[0;34m\u001b[0m\u001b[0;34m\u001b[0m\u001b[0m\n\u001b[0m\u001b[1;32m    214\u001b[0m     \u001b[0;32mexcept\u001b[0m \u001b[0mexceptions\u001b[0m\u001b[0;34m.\u001b[0m\u001b[0mTrialPruned\u001b[0m \u001b[0;32mas\u001b[0m \u001b[0me\u001b[0m\u001b[0;34m:\u001b[0m\u001b[0;34m\u001b[0m\u001b[0;34m\u001b[0m\u001b[0m\n\u001b[1;32m    215\u001b[0m         \u001b[0;31m# TODO(mamu): Handle multi-objective cases.\u001b[0m\u001b[0;34m\u001b[0m\u001b[0;34m\u001b[0m\u001b[0;34m\u001b[0m\u001b[0m\n",
      "\u001b[0;32m<ipython-input-15-179f242f8926>\u001b[0m in \u001b[0;36mobjective\u001b[0;34m(trial, arch)\u001b[0m\n\u001b[1;32m     55\u001b[0m         \u001b[0mX_valid\u001b[0m \u001b[0;34m=\u001b[0m \u001b[0mscaler\u001b[0m\u001b[0;34m.\u001b[0m\u001b[0mtransform\u001b[0m\u001b[0;34m(\u001b[0m\u001b[0mX_valid\u001b[0m\u001b[0;34m)\u001b[0m\u001b[0;34m\u001b[0m\u001b[0;34m\u001b[0m\u001b[0m\n\u001b[1;32m     56\u001b[0m \u001b[0;34m\u001b[0m\u001b[0m\n\u001b[0;32m---> 57\u001b[0;31m         \u001b[0mmodel\u001b[0m\u001b[0;34m.\u001b[0m\u001b[0mfit\u001b[0m\u001b[0;34m(\u001b[0m\u001b[0mX_train\u001b[0m\u001b[0;34m,\u001b[0m \u001b[0my_train\u001b[0m\u001b[0;34m)\u001b[0m\u001b[0;34m\u001b[0m\u001b[0;34m\u001b[0m\u001b[0m\n\u001b[0m\u001b[1;32m     58\u001b[0m         \u001b[0my_valid_preds\u001b[0m \u001b[0;34m=\u001b[0m \u001b[0mmodel\u001b[0m\u001b[0;34m.\u001b[0m\u001b[0mpredict_proba\u001b[0m\u001b[0;34m(\u001b[0m\u001b[0mX_valid\u001b[0m\u001b[0;34m)\u001b[0m\u001b[0;34m[\u001b[0m\u001b[0;34m:\u001b[0m\u001b[0;34m,\u001b[0m\u001b[0;36m1\u001b[0m\u001b[0;34m]\u001b[0m\u001b[0;34m\u001b[0m\u001b[0;34m\u001b[0m\u001b[0m\n\u001b[1;32m     59\u001b[0m \u001b[0;34m\u001b[0m\u001b[0m\n",
      "\u001b[0;32m~/Software/LightGBM/python-package/lightgbm/sklearn.py\u001b[0m in \u001b[0;36mfit\u001b[0;34m(self, X, y, sample_weight, init_score, eval_set, eval_names, eval_sample_weight, eval_class_weight, eval_init_score, eval_metric, early_stopping_rounds, verbose, feature_name, categorical_feature, callbacks, init_model)\u001b[0m\n\u001b[1;32m    965\u001b[0m                     \u001b[0mvalid_sets\u001b[0m\u001b[0;34m[\u001b[0m\u001b[0mi\u001b[0m\u001b[0;34m]\u001b[0m \u001b[0;34m=\u001b[0m \u001b[0;34m(\u001b[0m\u001b[0mvalid_x\u001b[0m\u001b[0;34m,\u001b[0m \u001b[0mself\u001b[0m\u001b[0;34m.\u001b[0m\u001b[0m_le\u001b[0m\u001b[0;34m.\u001b[0m\u001b[0mtransform\u001b[0m\u001b[0;34m(\u001b[0m\u001b[0mvalid_y\u001b[0m\u001b[0;34m)\u001b[0m\u001b[0;34m)\u001b[0m\u001b[0;34m\u001b[0m\u001b[0;34m\u001b[0m\u001b[0m\n\u001b[1;32m    966\u001b[0m \u001b[0;34m\u001b[0m\u001b[0m\n\u001b[0;32m--> 967\u001b[0;31m         super().fit(X, _y, sample_weight=sample_weight, init_score=init_score, eval_set=valid_sets,\n\u001b[0m\u001b[1;32m    968\u001b[0m                     \u001b[0meval_names\u001b[0m\u001b[0;34m=\u001b[0m\u001b[0meval_names\u001b[0m\u001b[0;34m,\u001b[0m \u001b[0meval_sample_weight\u001b[0m\u001b[0;34m=\u001b[0m\u001b[0meval_sample_weight\u001b[0m\u001b[0;34m,\u001b[0m\u001b[0;34m\u001b[0m\u001b[0;34m\u001b[0m\u001b[0m\n\u001b[1;32m    969\u001b[0m                     \u001b[0meval_class_weight\u001b[0m\u001b[0;34m=\u001b[0m\u001b[0meval_class_weight\u001b[0m\u001b[0;34m,\u001b[0m \u001b[0meval_init_score\u001b[0m\u001b[0;34m=\u001b[0m\u001b[0meval_init_score\u001b[0m\u001b[0;34m,\u001b[0m\u001b[0;34m\u001b[0m\u001b[0;34m\u001b[0m\u001b[0m\n",
      "\u001b[0;32m~/Software/LightGBM/python-package/lightgbm/sklearn.py\u001b[0m in \u001b[0;36mfit\u001b[0;34m(self, X, y, sample_weight, init_score, group, eval_set, eval_names, eval_sample_weight, eval_class_weight, eval_init_score, eval_group, eval_metric, early_stopping_rounds, verbose, feature_name, categorical_feature, callbacks, init_model)\u001b[0m\n\u001b[1;32m    746\u001b[0m         \u001b[0mcallbacks\u001b[0m\u001b[0;34m.\u001b[0m\u001b[0mappend\u001b[0m\u001b[0;34m(\u001b[0m\u001b[0mrecord_evaluation\u001b[0m\u001b[0;34m(\u001b[0m\u001b[0mevals_result\u001b[0m\u001b[0;34m)\u001b[0m\u001b[0;34m)\u001b[0m\u001b[0;34m\u001b[0m\u001b[0;34m\u001b[0m\u001b[0m\n\u001b[1;32m    747\u001b[0m \u001b[0;34m\u001b[0m\u001b[0m\n\u001b[0;32m--> 748\u001b[0;31m         self._Booster = train(\n\u001b[0m\u001b[1;32m    749\u001b[0m             \u001b[0mparams\u001b[0m\u001b[0;34m=\u001b[0m\u001b[0mparams\u001b[0m\u001b[0;34m,\u001b[0m\u001b[0;34m\u001b[0m\u001b[0;34m\u001b[0m\u001b[0m\n\u001b[1;32m    750\u001b[0m             \u001b[0mtrain_set\u001b[0m\u001b[0;34m=\u001b[0m\u001b[0mtrain_set\u001b[0m\u001b[0;34m,\u001b[0m\u001b[0;34m\u001b[0m\u001b[0;34m\u001b[0m\u001b[0m\n",
      "\u001b[0;32m~/Software/LightGBM/python-package/lightgbm/engine.py\u001b[0m in \u001b[0;36mtrain\u001b[0;34m(params, train_set, num_boost_round, valid_sets, valid_names, fobj, feval, init_model, feature_name, categorical_feature, early_stopping_rounds, evals_result, verbose_eval, learning_rates, keep_training_booster, callbacks)\u001b[0m\n\u001b[1;32m    290\u001b[0m                                     evaluation_result_list=None))\n\u001b[1;32m    291\u001b[0m \u001b[0;34m\u001b[0m\u001b[0m\n\u001b[0;32m--> 292\u001b[0;31m         \u001b[0mbooster\u001b[0m\u001b[0;34m.\u001b[0m\u001b[0mupdate\u001b[0m\u001b[0;34m(\u001b[0m\u001b[0mfobj\u001b[0m\u001b[0;34m=\u001b[0m\u001b[0mfobj\u001b[0m\u001b[0;34m)\u001b[0m\u001b[0;34m\u001b[0m\u001b[0;34m\u001b[0m\u001b[0m\n\u001b[0m\u001b[1;32m    293\u001b[0m \u001b[0;34m\u001b[0m\u001b[0m\n\u001b[1;32m    294\u001b[0m         \u001b[0mevaluation_result_list\u001b[0m \u001b[0;34m=\u001b[0m \u001b[0;34m[\u001b[0m\u001b[0;34m]\u001b[0m\u001b[0;34m\u001b[0m\u001b[0;34m\u001b[0m\u001b[0m\n",
      "\u001b[0;32m~/Software/LightGBM/python-package/lightgbm/basic.py\u001b[0m in \u001b[0;36mupdate\u001b[0;34m(self, train_set, fobj)\u001b[0m\n\u001b[1;32m   3019\u001b[0m             \u001b[0;32mif\u001b[0m \u001b[0mself\u001b[0m\u001b[0;34m.\u001b[0m\u001b[0m__set_objective_to_none\u001b[0m\u001b[0;34m:\u001b[0m\u001b[0;34m\u001b[0m\u001b[0;34m\u001b[0m\u001b[0m\n\u001b[1;32m   3020\u001b[0m                 \u001b[0;32mraise\u001b[0m \u001b[0mLightGBMError\u001b[0m\u001b[0;34m(\u001b[0m\u001b[0;34m'Cannot update due to null objective function.'\u001b[0m\u001b[0;34m)\u001b[0m\u001b[0;34m\u001b[0m\u001b[0;34m\u001b[0m\u001b[0m\n\u001b[0;32m-> 3021\u001b[0;31m             _safe_call(_LIB.LGBM_BoosterUpdateOneIter(\n\u001b[0m\u001b[1;32m   3022\u001b[0m                 \u001b[0mself\u001b[0m\u001b[0;34m.\u001b[0m\u001b[0mhandle\u001b[0m\u001b[0;34m,\u001b[0m\u001b[0;34m\u001b[0m\u001b[0;34m\u001b[0m\u001b[0m\n\u001b[1;32m   3023\u001b[0m                 ctypes.byref(is_finished)))\n",
      "\u001b[0;31mKeyboardInterrupt\u001b[0m: "
     ]
    }
   ],
   "source": [
    "for x in range(1,100):\n",
    "    study.optimize(objective, n_trials = 2, callbacks = [wandbc], catch=(lightgbm.basic.LightGBMError,)) #n_jobs = multiprocessing.cpu_count())\n",
    "#     print(f\"{x+26} trials complete\")\n",
    "    dump(study, filename=datapath/f\"optuna_lightgbm_study_{datetime.now().strftime('%Y%m%d')}.joblib\")\n",
    "#     dump(study.best_trial.params, filename=datapath/f'optuna_lightgbm_study_best-thru-{x*5}trials_20210927.joblib')"
   ]
  },
  {
   "cell_type": "code",
   "execution_count": 20,
   "id": "27a746ff-c0e1-4218-8809-f102a58d2491",
   "metadata": {
    "id": "27a746ff-c0e1-4218-8809-f102a58d2491"
   },
   "outputs": [
    {
     "data": {
      "text/plain": [
       "['/media/sf/easystore/kaggle_data/tabular_playgrounds/nov2021/datasets/optuna-lightgbm_lv1-thru_trial_172-20211126.joblib']"
      ]
     },
     "execution_count": 20,
     "metadata": {},
     "output_type": "execute_result"
    }
   ],
   "source": [
    "dump(study, filename=datapath/f\"optuna-lightgbm_lv1-thru_trial_172-{datetime.now().strftime('%Y%m%d')}.joblib\")\n",
    "# dump(study.best_trial.params, filename=datapath/f\"optuna_lightgbm_all-500trials-best_{datetime.now().strftime('%Y%m%d')}.joblib\")\n",
    "# pickle.dump(study.best_trial.params, open('CatBoost_Hyperparameter.pickle', 'wb'))\n",
    "# print('CatBoost Hyperparameter:', study.best_trial.params)"
   ]
  },
  {
   "cell_type": "code",
   "execution_count": 21,
   "id": "f02e689e-b20c-48e5-a7d9-02467b4f3dbd",
   "metadata": {
    "id": "f02e689e-b20c-48e5-a7d9-02467b4f3dbd"
   },
   "outputs": [
    {
     "data": {
      "text/plain": [
       "{'n_estimators': 6986,\n",
       " 'depth': 3,\n",
       " 'learning_rate': 0.09080435106650955,\n",
       " 'reg_alpha': 19.060739534647425,\n",
       " 'reg_lambda': 0.12865332700612375,\n",
       " 'subsample': 0.5612404690403716,\n",
       " 'boosting_type': 'goss',\n",
       " 'min_child_samples': 17,\n",
       " 'num_leaves': 59,\n",
       " 'colsample_bytree': 0.5125554530181221}"
      ]
     },
     "execution_count": 21,
     "metadata": {},
     "output_type": "execute_result"
    }
   ],
   "source": [
    "study.best_trial.params"
   ]
  },
  {
   "cell_type": "code",
   "execution_count": 22,
   "id": "ybeYZ3omaLWK",
   "metadata": {
    "id": "ybeYZ3omaLWK",
    "tags": []
   },
   "outputs": [
    {
     "data": {
      "text/html": [
       "<br/>Waiting for W&B process to finish, PID 40001... <strong style=\"color:green\">(success).</strong>"
      ],
      "text/plain": [
       "<IPython.core.display.HTML object>"
      ]
     },
     "metadata": {},
     "output_type": "display_data"
    },
    {
     "data": {
      "application/vnd.jupyter.widget-view+json": {
       "model_id": "",
       "version_major": 2,
       "version_minor": 0
      },
      "text/plain": [
       "VBox(children=(Label(value=' 0.00MB of 0.00MB uploaded (0.00MB deduped)\\r'), FloatProgress(value=1.0, max=1.0)…"
      ]
     },
     "metadata": {},
     "output_type": "display_data"
    },
    {
     "data": {
      "text/html": [
       "<style>\n",
       "    table.wandb td:nth-child(1) { padding: 0 10px; text-align: right }\n",
       "    .wandb-row { display: flex; flex-direction: row; flex-wrap: wrap; width: 100% }\n",
       "    .wandb-col { display: flex; flex-direction: column; flex-basis: 100%; flex: 1; padding: 10px; }\n",
       "    </style>\n",
       "<div class=\"wandb-row\"><div class=\"wandb-col\">\n",
       "<h3>Run history:</h3><br/><table class=\"wandb\"><tr><td>colsample_bytree</td><td>▄▂▅▁▂▁▄█▇▆██▇▆█▇█▆▆▇▆▄▄▅▄▃▃▃▂▂▂▂▂▂▂▂▂▁▁▁</td></tr><tr><td>depth</td><td>▂▃▁▄▆▄▂▁▁█▁▁▁▂▁▁▁▁█▁▁▁▂▁▂▁▁▁▁▁▁▁▁▁▁▁▁▁▁▁</td></tr><tr><td>learning_rate</td><td>▁▄▁▁▂▁▄▆▃▄▅▁▃▄▃▂▇▆▅▅▅▄▄▃▅█▆▅▅▅▅▄▁▄▃▃▃▃▃▃</td></tr><tr><td>min_child_samples</td><td>▂█▂▄▇▄▃▆▅▇▆▅██▇█▇█▇▇▇▇▇▇███▁█▁▁▁▁▁▂▂▂▂▂▂</td></tr><tr><td>n_estimators</td><td>▇▄▃█▇█▆▅▄▆▁▆███▆▇█▇█▇▇▇▆▇▇▇█████████████</td></tr><tr><td>num_leaves</td><td>▃▇▇▆▅▇▇█████▃▂▄▄▂▃▁▄▅▅▅▅▅▄▃▃▃▃▃▃▃▃▂▂▂▁▁▁</td></tr><tr><td>reg_alpha</td><td>▁▁▁▁▁▁▂▇█▂█▅▃▁▄▂▁▆▄▅▃▃▂▃▂█▄▄▅▇▆██▆▇▇▆▇▅▅</td></tr><tr><td>reg_lambda</td><td>▁▁█▃▁▂▄▂▁▂▁▁▁▁▁▁▁▁▁▁▁▁▁▁▁▁▁▁▁▁▁▁▁▁▁▁▁▁▁▁</td></tr><tr><td>subsample</td><td>▆▆█▄▃▄▃▂▃▆▂▁▄▆▄▄▃▄█▄▃▃▃▃▂▂▂▂▂▁▁▂▁▂▂▂▂▂▂▂</td></tr><tr><td>value</td><td>▆█▁████████▄████████████████████▅███████</td></tr></table><br/></div><div class=\"wandb-col\">\n",
       "<h3>Run summary:</h3><br/><table class=\"wandb\"><tr><td>best_params</td><td>{'n_estimators': 698...</td></tr><tr><td>boosting_type</td><td>goss</td></tr><tr><td>colsample_bytree</td><td>0.52157</td></tr><tr><td>depth</td><td>3</td></tr><tr><td>learning_rate</td><td>0.09996</td></tr><tr><td>min_child_samples</td><td>24</td></tr><tr><td>n_estimators</td><td>6805</td></tr><tr><td>num_leaves</td><td>56</td></tr><tr><td>reg_alpha</td><td>12.47017</td></tr><tr><td>reg_lambda</td><td>0.22285</td></tr><tr><td>subsample</td><td>0.57825</td></tr><tr><td>value</td><td>0.99425</td></tr></table>\n",
       "</div></div>\n",
       "Synced 6 W&B file(s), 0 media file(s), 0 artifact file(s) and 0 other file(s)\n",
       "<br/>Synced <strong style=\"color:#cdcd00\">sweep_lightgbm_20211125_071904</strong>: <a href=\"https://wandb.ai/hushifang/202111_Kaggle_tabular_playground/runs/nxe0xq50\" target=\"_blank\">https://wandb.ai/hushifang/202111_Kaggle_tabular_playground/runs/nxe0xq50</a><br/>\n",
       "Find logs at: <code>./wandb/run-20211125_071905-nxe0xq50/logs</code><br/>\n"
      ],
      "text/plain": [
       "<IPython.core.display.HTML object>"
      ]
     },
     "metadata": {},
     "output_type": "display_data"
    }
   ],
   "source": [
    "wandb.log({'best_params': str(study.best_trial.params)})\n",
    "wandb.finish()"
   ]
  },
  {
   "cell_type": "code",
   "execution_count": null,
   "id": "31eeb816-42da-43df-9131-e301e2ad94ae",
   "metadata": {},
   "outputs": [],
   "source": [
    "optuna.visualization.plot_parallel_coordinate(study)"
   ]
  }
 ],
 "metadata": {
  "colab": {
   "collapsed_sections": [],
   "name": "sweep_lightgbm_20210922.ipynb",
   "provenance": []
  },
  "kernelspec": {
   "display_name": "Python 3",
   "language": "python",
   "name": "python3"
  },
  "language_info": {
   "codemirror_mode": {
    "name": "ipython",
    "version": 3
   },
   "file_extension": ".py",
   "mimetype": "text/x-python",
   "name": "python",
   "nbconvert_exporter": "python",
   "pygments_lexer": "ipython3",
   "version": "3.8.12"
  }
 },
 "nbformat": 4,
 "nbformat_minor": 5
}
