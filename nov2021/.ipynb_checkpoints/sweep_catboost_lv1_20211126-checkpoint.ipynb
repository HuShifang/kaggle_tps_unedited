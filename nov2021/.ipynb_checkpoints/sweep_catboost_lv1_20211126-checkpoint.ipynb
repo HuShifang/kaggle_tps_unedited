{
 "cells": [
  {
   "cell_type": "markdown",
   "id": "1d4e7f70-25a3-4d58-b98a-3a695e55ee53",
   "metadata": {
    "id": "1d4e7f70-25a3-4d58-b98a-3a695e55ee53"
   },
   "source": [
    "# Catboost Lv1 Hyperparameter Sweep 20211103\n",
    "Largely after https://www.kaggle.com/satorushibata/optimize-catboost-hyperparameter-with-optuna-gpu"
   ]
  },
  {
   "cell_type": "code",
   "execution_count": null,
   "id": "U_qtimPUchWD",
   "metadata": {
    "id": "U_qtimPUchWD"
   },
   "outputs": [],
   "source": []
  },
  {
   "cell_type": "markdown",
   "id": "1e124c3d-0e1f-4053-8e72-52569a4fe3e4",
   "metadata": {
    "id": "1e124c3d-0e1f-4053-8e72-52569a4fe3e4"
   },
   "source": [
    "# Setup"
   ]
  },
  {
   "cell_type": "code",
   "execution_count": 1,
   "id": "ffac7b61-9c4c-45a4-907f-726cb754e845",
   "metadata": {
    "id": "dae2ff1e-bd1f-4cc9-8357-5a88d1746ffb"
   },
   "outputs": [],
   "source": [
    "# two manual flags (ex-config)\n",
    "COLAB = False\n",
    "USE_GPU = True"
   ]
  },
  {
   "cell_type": "code",
   "execution_count": 2,
   "id": "0e620ddd-4396-4422-8fe9-21d4fca39043",
   "metadata": {
    "id": "16849bd2-428c-497b-ba3b-675002f8d041"
   },
   "outputs": [],
   "source": [
    "# basic imports\n",
    "from pathlib import Path\n",
    "import os\n",
    "import math\n",
    "from datetime import datetime\n",
    "import random\n",
    "import multiprocessing\n",
    "import pickle"
   ]
  },
  {
   "cell_type": "code",
   "execution_count": 3,
   "id": "ebe1dca4-ba3f-41dc-b04d-75bb6db99d0e",
   "metadata": {
    "colab": {
     "base_uri": "https://localhost:8080/"
    },
    "id": "12d2654b-3bc6-49b5-ade8-cc82112b60e5",
    "outputId": "6bd53922-c4d7-43ce-c04f-ac1079087966"
   },
   "outputs": [],
   "source": [
    "%matplotlib inline\n",
    "%config Completer.use_jedi = False\n",
    "os.environ['WANDB_NOTEBOOK_NAME'] = f\"sweep_xgboost_{datetime.now().strftime('%Y%m%d')}.ipynb\""
   ]
  },
  {
   "cell_type": "code",
   "execution_count": 4,
   "id": "984b029e-e71e-4df6-ab77-1a2bf91f571e",
   "metadata": {
    "colab": {
     "base_uri": "https://localhost:8080/"
    },
    "id": "416d6118-e543-4df4-9219-2d4a63743c3a",
    "outputId": "5483656e-2943-4d97-b5d4-65cfb9795430",
    "tags": []
   },
   "outputs": [],
   "source": [
    "# handle Google Colab-specific library installation/updating\n",
    "if COLAB:\n",
    "    # much of the below inspired by or cribbed from the May 2021 Kaggle Tabular Playground winner, at \n",
    "    # https://colab.research.google.com/gist/academicsuspect/0aac7bd6e506f5f70295bfc9a3dc2250/tabular-may-baseline.ipynb?authuser=1#scrollTo=LJoVKJb5wN0L\n",
    "    \n",
    "    # Kaggle API for downloading the datasets\n",
    "    !pip install --upgrade -q kaggle\n",
    "\n",
    "    # weights and biases\n",
    "    !pip install -qqqU wandb\n",
    "    \n",
    "    # Optuna for parameter search\n",
    "    !pip install -q optuna\n",
    "\n",
    "    # !pip install --upgrade xgboost\n",
    "\n",
    "    # upgrade sklearn\n",
    "    !pip install --upgrade scikit-learn\n",
    "\n",
    "    # !pip install category_encoders\n",
    "    # !pip install catboost\n",
    "#     !pip install --upgrade -q lightgbm\n",
    "\n",
    "    # lighgbm gpu compatible\n",
    "    # !git clone --recursive https://github.com/Microsoft/LightGBM\n",
    "    # ! cd LightGBM && rm -rf build && mkdir build && cd build && cmake -DUSE_GPU=1 ../../LightGBM && make -j4 && cd ../python-package && python3 setup.py install --precompile --gpu;\n",
    "    \n",
    "    # # this part is from https://github.com/rapidsai/gputreeshap/issues/24\n",
    "    # !pip install cmake --upgrade\n",
    "    # # !pip install sklearn --upgrade\n",
    "    # !git clone --recursive https://github.com/dmlc/xgboost\n",
    "    # %cd /content/xgboost\n",
    "    # !mkdir build\n",
    "    # %cd build\n",
    "    # !cmake .. -DUSE_CUDA=ON\n",
    "    # !make -j4\n",
    "    # %cd /content/xgboost/python-package\n",
    "    # !python setup.py install --use-cuda --use-nccl\n",
    "    # !/opt/bin/nvidia-smi\n",
    "    # !pip install shap\n",
    "    "
   ]
  },
  {
   "cell_type": "markdown",
   "id": "ab65cccf-b859-4805-abc6-b2af1ecc9f3f",
   "metadata": {
    "id": "d40df194-4474-4bcf-ac5a-98efe24b91fd"
   },
   "source": [
    "Now, non-stdlib imports"
   ]
  },
  {
   "cell_type": "code",
   "execution_count": 5,
   "id": "153c52d0-abc8-4134-9840-f86fa894e0e0",
   "metadata": {
    "id": "a01e85f7-d602-4dde-bef9-611683cd74c4"
   },
   "outputs": [],
   "source": [
    "import pandas as pd\n",
    "import numpy as np\n",
    "import matplotlib.pyplot as plt\n",
    "from tqdm.notebook import tqdm\n",
    "\n",
    "# general ML tooling\n",
    "from sklearn.model_selection import train_test_split, StratifiedKFold, KFold\n",
    "from sklearn.metrics import log_loss, roc_auc_score\n",
    "import wandb\n",
    "from optuna.integration.wandb import WeightsAndBiasesCallback\n",
    "# from wandb.xgboost import wandb_callback\n",
    "# from wandb.lightgbm import wandb_callback\n",
    "# from sklearn.impute import KNNImputer, StandardImputer\n",
    "# import timm\n",
    "\n",
    "import seaborn as sns\n",
    "# import xgboost\n",
    "from catboost import CatBoostClassifier\n",
    "# from xgboost import XGBClassifier\n",
    "# from lightgbm import LGBMClassifier\n",
    "# from sklearn.ensemble import RandomForestRegressor\n",
    "from sklearn.preprocessing import RobustScaler\n",
    "# from sklearn.feature_selection import SelectKBest, f_regression\n",
    "from joblib import dump, load\n",
    "# feature engineering tools\n",
    "# from sklearn.feature_selection import mutual_info_regression\n",
    "# import featuretools as ft\n",
    "\n",
    "\n",
    "from optuna.samplers import TPESampler\n",
    "import optuna\n",
    "# import catboost\n",
    "from sklearn.utils import resample\n",
    "import sklearn.metrics"
   ]
  },
  {
   "cell_type": "markdown",
   "id": "a4700dc9-6c5f-4fcd-859c-717cb882374f",
   "metadata": {
    "id": "5f6166c2-ca44-4b7c-a4dc-3db47c2624fe"
   },
   "source": [
    "Now, datapath setup"
   ]
  },
  {
   "cell_type": "code",
   "execution_count": 6,
   "id": "dbed59f1-d54c-4cc3-8579-a2153ffdb711",
   "metadata": {
    "id": "3c18a787-2193-43cb-87ee-51c6ae7b6351"
   },
   "outputs": [],
   "source": [
    "# # This is the code for reading the train.csv and converting it to a .feather file\n",
    "# df = pd.read_csv(datapath/'train.csv', index_col='id', low_memory=False)\n",
    "# df.index.name = None\n",
    "# df.to_feather(path='./dataset_df.feather')"
   ]
  },
  {
   "cell_type": "code",
   "execution_count": 7,
   "id": "fb708523-6cb4-436d-af97-25399dc4805d",
   "metadata": {},
   "outputs": [],
   "source": [
    "if COLAB:\n",
    "    # mount Google Drive\n",
    "    from google.colab import drive\n",
    "    drive.mount('/content/drive')\n",
    "    \n",
    "    # handling datapath\n",
    "    datapath = Path('/content/drive/MyDrive/kaggle/tabular_playgrounds/nov2021/')\n",
    "    \n",
    "else:\n",
    "    # if on local machine\n",
    "#     datapath = Path('/media/sf/easystore/kaggle_data/tabular_playgrounds/sep2021/')  \n",
    "    root = Path('/media/sf/easystore/kaggle_data/tabular_playgrounds/nov2021/')\n",
    "    datapath = root/'datasets'\n",
    "    # edapath = root/'EDA'\n",
    "    # modelpath = Path('/media/sf/easystore/kaggle_data/tabular_playgrounds/oct2021/models/')\n",
    "    predpath = root/'preds'\n",
    "    subpath = root/'submissions'\n",
    "    studypath = root/'studies'\n",
    "    \n",
    "    for pth in [datapath, predpath, subpath, studypath]:\n",
    "        pth.mkdir(exist_ok=True)\n",
    "    \n"
   ]
  },
  {
   "cell_type": "code",
   "execution_count": 8,
   "id": "32a2cfe4-4193-4852-9f1f-d799ed7282be",
   "metadata": {
    "id": "d1c652e6-5946-46aa-a13e-4c0ebe8a0e4f"
   },
   "outputs": [],
   "source": [
    "\n",
    "# n_trials = int(1000)\n",
    "SEED = 42"
   ]
  },
  {
   "cell_type": "code",
   "execution_count": 9,
   "id": "1e5e2629-0aa3-4049-8d57-d91e97208188",
   "metadata": {
    "id": "fbec2e77-2081-4815-ac6d-39f2a2616386"
   },
   "outputs": [],
   "source": [
    "# Function to seed everything\n",
    "def seed_everything(seed):\n",
    "    random.seed(seed)\n",
    "    np.random.seed(seed)\n",
    "    os.environ['PYTHONHASHSEED'] = str(seed)\n",
    "seed_everything(SEED)"
   ]
  },
  {
   "cell_type": "markdown",
   "id": "89795d09-4c94-45ba-9c23-d508e71b8f07",
   "metadata": {
    "id": "2f6e47b3-43bd-4d35-b463-9d76100c6ed5"
   },
   "source": [
    "## Ex-Model Config"
   ]
  },
  {
   "cell_type": "code",
   "execution_count": 10,
   "id": "791aa6e2-4aee-4004-9553-dc8366767bcf",
   "metadata": {
    "id": "fb288275-a858-4806-9dc0-0b316c334536"
   },
   "outputs": [],
   "source": [
    "# meta-config for preprocessing and cross-validation, but NOT for model parameters\n",
    "# in the sweep version, this includes both ex-model parameters and defaults for model parameters\n",
    "exmodel_config = {\n",
    "    # model config\n",
    "    \"arch\": 'catboost',\n",
    "    \"type\": 'sweep',\n",
    "    \"level\": 1,\n",
    "#     \"model\": XGBClassifier,\n",
    "#     \"n_estimators\": 100, \n",
    "#     \"max_depth\": 3,\n",
    "#     \"learning_rate\": 0.1,\n",
    "#     \"test_size\": 0.2,\n",
    "#     \"reg_lambda\": None, \n",
    "#     \"scaler\": \"sklearn.preprocessing.StandardScaler()\", # TODO: experiment with others (but imputation may be slow)\n",
    "#     \"scale_b4_impute\": False,\n",
    "#     \"imputer\": \"sklearn.impute.SimpleImputer(strategy='median', add_indicator=True)\",\n",
    "#     \"knn_imputer_n_neighbors\": None, # None if a different imputer is used\n",
    "#     \"feature_selector\": SelectKBest,\n",
    "#     \"k_best\": 80,\n",
    "#     \"feature_selection_scoring\": f_regression,\n",
    "    'random_state': SEED,\n",
    "    'tuner': \"Optuna\",\n",
    "#     'optuna_trials': 20,\n",
    "#     'subsample': 1,\n",
    "    'cross_val_strategy': KFold, # None for holdout, or the relevant sklearn class\n",
    "    'kfolds': 5, # if 1, that means just doing holdout\n",
    "    'test_size': 0.2,\n",
    "    # these are XGBoost default (my choice) params \n",
    "#     \"tree_method\": \"auto\", # set to 'gpu_hist' to try GPU if available\n",
    "#     \"booster\": 'gbtree', # dart may be marginally better, but will opt for this quicker approach as a default\n",
    "#     \"n_estimators\": 200, \n",
    "#     \"max_depth\": 3,\n",
    "#     \"learning_rate\": 0.1,\n",
    "#     \"n_jobs\": -1,\n",
    "#     \"verbosity\": 1,\n",
    "#     \"subsample\": 1,\n",
    "#     'features_created': False,\n",
    "#     'feature_creator': None,\n",
    "}\n"
   ]
  },
  {
   "cell_type": "markdown",
   "id": "3aa35567-d322-42de-8ac7-cbd0b37d5646",
   "metadata": {
    "id": "a52d9012-34f1-435a-ba16-4416e0d4a286"
   },
   "source": [
    "## Data Setup"
   ]
  },
  {
   "cell_type": "markdown",
   "id": "7f3ee1c2-f1fd-4053-8ec8-9bdf9d527479",
   "metadata": {
    "id": "c912a62f-970a-48b4-b428-d886f2612fc2"
   },
   "source": [
    "**TODO** Write some conditional logic here to automate it -- possibly as part of a sklearn.*pipeline"
   ]
  },
  {
   "cell_type": "code",
   "execution_count": 11,
   "id": "7465efda-e77f-49c6-ad6f-73b67e3b7901",
   "metadata": {},
   "outputs": [],
   "source": [
    "# train_source = datapath/'train.feather'\n",
    "# df = pd.read_feather(path=datapath/'train.feather')\n",
    "# y = np.array(df.target)\n",
    "# dump(y, filename=datapath/'y.joblib')\n",
    "# del df\n",
    "\n",
    "y = load(datapath/'y_corrected.joblib')\n",
    "\n",
    "# df.index.name = 'id'\n",
    "# y_train = df.target\n",
    "# features = [x for x in df.columns if x != 'target']\n",
    "# X_train = df[features]\n",
    "# # X.index.name = 'id'\n",
    "# # y.index.name = 'id'\n",
    "# X = np.array(X_train)\n",
    "# y = np.array(y_train)\n",
    "\n",
    "# del df, X_train, y_train\n",
    "\n",
    "# load the Boruta-filtered green-zone 98 features (based on 200 iterations of the algo)\n",
    "# train_source = '/media/sf/easystore/kaggle_data/tabular_playgrounds/oct2021/alt_datasets/X_boruta_200iter_filtered_green.joblib'\n",
    "# X = load(train_source)\n",
    "\n",
    "train_source = datapath/'X_orig.feather'\n",
    "X = pd.read_feather(train_source)\n",
    "\n",
    "# exmodel_config['feature_count'] = len(X.columns)\n",
    "exmodel_config['feature_count'] = X.shape[1]\n",
    "exmodel_config['instance_count'] = X.shape[0]\n",
    "exmodel_config['scaler'] = str(RobustScaler())\n",
    "# exmodel_config['feature_generator'] = None\n",
    "# exmodel_config['feature_generator'] = \"Summary statistics\"\n",
    "\n",
    "exmodel_config['train_source'] = str(train_source)\n",
    "# test_source = datapath/'test.feather'\n",
    "# exmodel_config['test_source'] = str(test_source)\n",
    "# X_test = pd.read_feather(path=test_source)\n",
    "# X_test = X_test.iloc[:, 1:]\n",
    "# X_test = np.array(X_test)"
   ]
  },
  {
   "cell_type": "code",
   "execution_count": 12,
   "id": "089ba1de-97fd-4387-ae95-a72b9fb22fb5",
   "metadata": {},
   "outputs": [],
   "source": [
    "wandb_kwargs = {\n",
    "    # wandb config\n",
    "    'name': f\"{os.environ['WANDB_NOTEBOOK_NAME'][:-6]}_{datetime.now().strftime('%H%M%S')}\", # just removes the .ipynb extension, leaving the notebook filename's stem\n",
    "    'project': '202111_Kaggle_tabular_playground',\n",
    "    'tags': ['sweep'],\n",
    "    'notes': f\"Sweep for {exmodel_config['arch']} on GPU with {exmodel_config['tuner']}, using corrected-label dataset with {exmodel_config['scaler']}\",\n",
    "    'config': exmodel_config,\n",
    "}"
   ]
  },
  {
   "cell_type": "code",
   "execution_count": 13,
   "id": "8f3f2588-757d-4cc8-adc4-7e24fdbd0d68",
   "metadata": {},
   "outputs": [
    {
     "data": {
      "text/plain": [
       "((600000, 100), (600000,))"
      ]
     },
     "execution_count": 13,
     "metadata": {},
     "output_type": "execute_result"
    }
   ],
   "source": [
    "X.shape, y.shape"
   ]
  },
  {
   "cell_type": "code",
   "execution_count": 14,
   "id": "f1fb010a-6cc6-48ac-831d-c2d5211d443c",
   "metadata": {},
   "outputs": [
    {
     "data": {
      "text/plain": [
       "(pandas.core.frame.DataFrame, pandas.core.series.Series)"
      ]
     },
     "execution_count": 14,
     "metadata": {},
     "output_type": "execute_result"
    }
   ],
   "source": [
    "type(X), type(y)"
   ]
  },
  {
   "cell_type": "markdown",
   "id": "431d37db-558d-474d-9eca-ce2d38b7636f",
   "metadata": {
    "id": "431d37db-558d-474d-9eca-ce2d38b7636f"
   },
   "source": [
    "# Experiment setup"
   ]
  },
  {
   "cell_type": "code",
   "execution_count": 15,
   "id": "69ff4abf-560b-450e-a7a5-040878b66565",
   "metadata": {
    "id": "69ff4abf-560b-450e-a7a5-040878b66565"
   },
   "outputs": [],
   "source": [
    "# wandb_kwargs = {\n",
    "#     # wandb config:\n",
    "#     'name': f\"{os.environ['WANDB_NOTEBOOK_NAME'][:-6]}_{datetime.now().strftime('%H%M%S')}\", # just removes the .ipynb extension, leaving the notebook filename's stem\n",
    "#     'project': '202109_Kaggle_tabular_playground',\n",
    "#     'tags': ['sweep'],\n",
    "#     'notes': \"Sweep for CatBoost using Optuna\",\n",
    "#     'config': exmodel_config,\n",
    "# }"
   ]
  },
  {
   "cell_type": "code",
   "execution_count": 16,
   "id": "1d93b6f2-2d65-48a9-9862-510bd7d2b75b",
   "metadata": {
    "id": "1d93b6f2-2d65-48a9-9862-510bd7d2b75b"
   },
   "outputs": [],
   "source": [
    "# originally from https://www.kaggle.com/satorushibata/optimize-catboost-hyperparameter-with-optuna-gpu\n",
    "def objective(trial, arch=exmodel_config['arch']):\n",
    "    # split the (original Kaggle training) data into partitions\n",
    "    # if study.best_trial:\n",
    "    #     print(\"Dumping best params, which are:\")\n",
    "    #     print(str(study.best_trial.params))\n",
    "    #     dump(study.best_trial.params, filename=datapath/'optuna_catboost_best_20210920.joblib')\n",
    "       \n",
    "    # else:\n",
    "    #     print(\"No best study yet\")\n",
    "    # X_train, X_valid, y_train, y_valid = train_test_split(X, y, test_size=0.2, random_state=int(SEED), shuffle=True)\n",
    "    # # create wrappers for the training and validation partitions\n",
    "    # train_pool = catboost.Pool(X_train, y_train)\n",
    "    # valid_pool = catboost.Pool(X_valid, y_valid)\n",
    "    \n",
    "    # experimental parameters\n",
    "    params = {\n",
    "        'iterations' : trial.suggest_int('iterations', 2000, 30000),                         \n",
    "        'depth' : trial.suggest_int('depth', 3, 10),                                       \n",
    "        'learning_rate' : trial.suggest_loguniform('learning_rate', 0.001, 0.5),               \n",
    "        'random_strength': trial.suggest_int('random_strength', 0, 100), \n",
    "#         'objective': trial.suggest_categorical('objective', ['Logloss', 'CrossEntropy']),\n",
    "#         'bootstrap_type': trial.suggest_categorical('bootstrap_type', ['MVC', 'Bernoulli']),#, 'Poisson']),\n",
    "        'od_wait': trial.suggest_int('od_wait', 20, 2000),\n",
    "        'reg_lambda': trial.suggest_uniform('reg_lambda', 2, 70), # aka l2_leaf_reg\n",
    "        'border_count': trial.suggest_int('border_count', 50, 275),\n",
    "        'min_child_samples': trial.suggest_int('min_child_samples', 1, 20), # aka min_data_in_leaf\n",
    "        'leaf_estimation_iterations': trial.suggest_int('leaf_estimation_iterations', 1, 5),\n",
    "        # 'bagging_temperature' :trial.suggest_loguniform('bagging_temperature', 0.01, 100.00),\n",
    "#         'subsample': trial.suggest_uniform('subsample', 0.5, 1),\n",
    "#         'learning_rate' :trial.suggest_loguniform('learning_rate', 1e-3, 1e-1),\n",
    "        # 'od_type': trial.suggest_categorical('od_type', ['IncToDec', 'Iter']),\n",
    "#         'max_leaves': trial.suggest_int('max_leaves', 32, 128)\n",
    "    }\n",
    "    device = \"GPU\" #if USE_GPU else \"CPU\"\n",
    "    # instantiate the model, with some parameters locked in, and experimnental ones passed via splat \n",
    "    model = CatBoostClassifier(\n",
    "        # loss_function=\"Logloss\",\n",
    "        eval_metric=\"AUC\",\n",
    "        task_type=device,\n",
    "        objective='Logloss',\n",
    "#         l2_leaf_reg=50,\n",
    "        random_seed=SEED,\n",
    "        verbose=False,\n",
    "#         border_count=64,\n",
    "        **params\n",
    "    )        \n",
    "    \n",
    "    kfold = exmodel_config['cross_val_strategy'](n_splits=exmodel_config['kfolds'], shuffle=True, random_state=SEED)\n",
    "    # initialize lists for out-of-fold preds and ground truth\n",
    "    oof_preds, oof_y = [], []\n",
    "    for fold, (train_ids, valid_ids) in enumerate(kfold.split(X,y)):\n",
    "        print(f\"FOLD {fold}\")\n",
    "        print(\"---------------------------------------------------\")\n",
    "        y_train, y_valid = y[train_ids], y[valid_ids] # y will be an np.ndarray already; handling will be same regardless of model\n",
    "        if isinstance(X, np.ndarray):\n",
    "            X_train, X_valid = X[train_ids], X[valid_ids]\n",
    "        else:\n",
    "            X_train, X_valid = X.iloc[train_ids,:], X.iloc[valid_ids,:] # bc need pandas.DataFrames for ce\n",
    "        scaler = RobustScaler()\n",
    "        X_train = scaler.fit_transform(X_train)\n",
    "        X_valid = scaler.transform(X_valid)\n",
    "\n",
    "        model.fit(X_train, y_train)\n",
    "        y_valid_preds = model.predict_proba(X_valid)[:,1]\n",
    "\n",
    "        # add the fold-model's OOF preds and ground truths to the out-of-loop lists\n",
    "        oof_preds.extend(y_valid_preds)\n",
    "        oof_y.extend(y_valid)\n",
    "        fold_roc_auc = roc_auc_score(y_score=y_valid_preds, y_true=y_valid)\n",
    "        print(f\"Fold {fold} ROC AUC is: {fold_roc_auc}\")\n",
    "    \n",
    "    model_roc_auc = roc_auc_score(y_true=oof_y, y_score=oof_preds)\n",
    "    print(f\"Valid AUC score for {arch} model is {model_roc_auc}\")\n",
    "\n",
    "    return model_roc_auc"
   ]
  },
  {
   "cell_type": "code",
   "execution_count": 17,
   "id": "0e85f589-1507-4b75-80d9-8b062970102f",
   "metadata": {
    "colab": {
     "base_uri": "https://localhost:8080/",
     "height": 231
    },
    "id": "0e85f589-1507-4b75-80d9-8b062970102f",
    "outputId": "4e88b8c2-11ec-493d-8fdb-f97cd2f0243a",
    "tags": []
   },
   "outputs": [
    {
     "name": "stderr",
     "output_type": "stream",
     "text": [
      "<ipython-input-17-69ea9289a2cf>:1: ExperimentalWarning: WeightsAndBiasesCallback is experimental (supported from v2.9.0). The interface can change in the future.\n",
      "  wandbc = WeightsAndBiasesCallback(wandb_kwargs=wandb_kwargs)\n",
      "\u001b[34m\u001b[1mwandb\u001b[0m: \u001b[33mWARNING\u001b[0m WANDB_NOTEBOOK_NAME should be a path to a notebook file, couldn't find sweep_xgboost_20211126.ipynb\n",
      "\u001b[34m\u001b[1mwandb\u001b[0m: Currently logged in as: \u001b[33mhushifang\u001b[0m (use `wandb login --relogin` to force relogin)\n",
      "\u001b[34m\u001b[1mwandb\u001b[0m: wandb version 0.12.7 is available!  To upgrade, please run:\n",
      "\u001b[34m\u001b[1mwandb\u001b[0m:  $ pip install wandb --upgrade\n"
     ]
    },
    {
     "data": {
      "text/html": [
       "\n",
       "                    Syncing run <strong><a href=\"https://wandb.ai/hushifang/202111_Kaggle_tabular_playground/runs/21u2f06a\" target=\"_blank\">sweep_xgboost_20211126_190645</a></strong> to <a href=\"https://wandb.ai/hushifang/202111_Kaggle_tabular_playground\" target=\"_blank\">Weights & Biases</a> (<a href=\"https://docs.wandb.com/integrations/jupyter.html\" target=\"_blank\">docs</a>).<br/>\n",
       "\n",
       "                "
      ],
      "text/plain": [
       "<IPython.core.display.HTML object>"
      ]
     },
     "metadata": {},
     "output_type": "display_data"
    }
   ],
   "source": [
    "wandbc = WeightsAndBiasesCallback(wandb_kwargs=wandb_kwargs)"
   ]
  },
  {
   "cell_type": "code",
   "execution_count": 18,
   "id": "ab6749b1-dd7d-4789-b0e2-8491d78fe89b",
   "metadata": {
    "colab": {
     "base_uri": "https://localhost:8080/"
    },
    "id": "ab6749b1-dd7d-4789-b0e2-8491d78fe89b",
    "outputId": "05b7ce12-dc98-4d38-fd83-a0578ec37531",
    "tags": []
   },
   "outputs": [
    {
     "name": "stderr",
     "output_type": "stream",
     "text": [
      "\u001b[32m[I 2021-11-26 19:06:51,486]\u001b[0m A new study created in memory with name: catboost-lv1-RobustScaler()-orig_dataset-20211126\u001b[0m\n"
     ]
    }
   ],
   "source": [
    "study = optuna.create_study(direction = \"maximize\", \n",
    "                            sampler = TPESampler(seed=int(SEED)), \n",
    "                            study_name=f\"{exmodel_config['arch']}-lv{exmodel_config['level']}-{exmodel_config['scaler']}-orig_dataset-{datetime.now().strftime('%Y%m%d')}\")\n",
    "# setting n_jobs=1 bc wandb apparently requires this\n"
   ]
  },
  {
   "cell_type": "code",
   "execution_count": 19,
   "id": "uXQWM6Otmxma",
   "metadata": {
    "colab": {
     "base_uri": "https://localhost:8080/"
    },
    "id": "uXQWM6Otmxma",
    "outputId": "d4b74ae6-6552-4b2f-a4e0-d9999874ab06",
    "tags": []
   },
   "outputs": [
    {
     "name": "stdout",
     "output_type": "stream",
     "text": [
      "FOLD 0\n",
      "---------------------------------------------------\n",
      "Fold 0 ROC AUC is: 0.994413891273816\n",
      "FOLD 1\n",
      "---------------------------------------------------\n",
      "Fold 1 ROC AUC is: 0.9941224249284244\n",
      "FOLD 2\n",
      "---------------------------------------------------\n",
      "Fold 2 ROC AUC is: 0.9946430865789917\n",
      "FOLD 3\n",
      "---------------------------------------------------\n",
      "Fold 3 ROC AUC is: 0.994610397095805\n",
      "FOLD 4\n",
      "---------------------------------------------------\n",
      "Fold 4 ROC AUC is: 0.994580630378426\n"
     ]
    },
    {
     "name": "stderr",
     "output_type": "stream",
     "text": [
      "\u001b[32m[I 2021-11-26 19:26:27,891]\u001b[0m Trial 0 finished with value: 0.9944727822426664 and parameters: {'iterations': 12487, 'depth': 10, 'learning_rate': 0.09454306819536169, 'random_strength': 60, 'od_wait': 329, 'reg_lambda': 12.60762738286178, 'border_count': 63, 'min_child_samples': 18, 'leaf_estimation_iterations': 4}. Best is trial 0 with value: 0.9944727822426664.\u001b[0m\n"
     ]
    },
    {
     "name": "stdout",
     "output_type": "stream",
     "text": [
      "Valid AUC score for catboost model is 0.9944727822426664\n",
      "FOLD 0\n",
      "---------------------------------------------------\n",
      "Fold 0 ROC AUC is: 0.9956863244470493\n",
      "FOLD 1\n",
      "---------------------------------------------------\n",
      "Fold 1 ROC AUC is: 0.995361464628253\n",
      "FOLD 2\n",
      "---------------------------------------------------\n",
      "Fold 2 ROC AUC is: 0.995780381623364\n",
      "FOLD 3\n",
      "---------------------------------------------------\n",
      "Fold 3 ROC AUC is: 0.9957191671184423\n",
      "FOLD 4\n",
      "---------------------------------------------------\n",
      "Fold 4 ROC AUC is: 0.9959726266348292\n"
     ]
    },
    {
     "name": "stderr",
     "output_type": "stream",
     "text": [
      "\u001b[32m[I 2021-11-26 19:36:54,382]\u001b[0m Trial 1 finished with value: 0.9957039674774822 and parameters: {'iterations': 21826, 'depth': 3, 'learning_rate': 0.41472250004816347, 'random_strength': 84, 'od_wait': 440, 'reg_lambda': 14.364097770082843, 'border_count': 91, 'min_child_samples': 7, 'leaf_estimation_iterations': 3}. Best is trial 1 with value: 0.9957039674774822.\u001b[0m\n"
     ]
    },
    {
     "name": "stdout",
     "output_type": "stream",
     "text": [
      "Valid AUC score for catboost model is 0.9957039674774822\n",
      "FOLD 0\n",
      "---------------------------------------------------\n",
      "Fold 0 ROC AUC is: 0.9973619946240964\n",
      "FOLD 1\n",
      "---------------------------------------------------\n",
      "Fold 1 ROC AUC is: 0.9973301296166803\n",
      "FOLD 2\n",
      "---------------------------------------------------\n",
      "Fold 2 ROC AUC is: 0.9976988332343238\n",
      "FOLD 3\n",
      "---------------------------------------------------\n",
      "Fold 3 ROC AUC is: 0.997397512403085\n",
      "FOLD 4\n",
      "---------------------------------------------------\n",
      "Fold 4 ROC AUC is: 0.9976538368470415\n"
     ]
    },
    {
     "name": "stderr",
     "output_type": "stream",
     "text": [
      "\u001b[32m[I 2021-11-26 19:45:44,983]\u001b[0m Trial 2 finished with value: 0.9974881363127642 and parameters: {'iterations': 14094, 'depth': 5, 'learning_rate': 0.044809759182149515, 'random_strength': 14, 'od_wait': 598, 'reg_lambda': 26.912605343971038, 'border_count': 153, 'min_child_samples': 16, 'leaf_estimation_iterations': 1}. Best is trial 2 with value: 0.9974881363127642.\u001b[0m\n"
     ]
    },
    {
     "name": "stdout",
     "output_type": "stream",
     "text": [
      "Valid AUC score for catboost model is 0.9974881363127642\n",
      "FOLD 0\n",
      "---------------------------------------------------\n",
      "Fold 0 ROC AUC is: 0.9816745980343631\n",
      "FOLD 1\n",
      "---------------------------------------------------\n",
      "Fold 1 ROC AUC is: 0.981370375615604\n",
      "FOLD 2\n",
      "---------------------------------------------------\n",
      "Fold 2 ROC AUC is: 0.9822484530821524\n",
      "FOLD 3\n",
      "---------------------------------------------------\n",
      "Fold 3 ROC AUC is: 0.9821612474582498\n",
      "FOLD 4\n",
      "---------------------------------------------------\n",
      "Fold 4 ROC AUC is: 0.9820659304396431\n"
     ]
    },
    {
     "name": "stderr",
     "output_type": "stream",
     "text": [
      "\u001b[32m[I 2021-11-26 20:03:32,579]\u001b[0m Trial 3 finished with value: 0.981902843513369 and parameters: {'iterations': 16399, 'depth': 7, 'learning_rate': 0.0013346527038305934, 'random_strength': 61, 'od_wait': 357, 'reg_lambda': 6.423508322999007, 'border_count': 264, 'min_child_samples': 20, 'leaf_estimation_iterations': 5}. Best is trial 2 with value: 0.9974881363127642.\u001b[0m\n"
     ]
    },
    {
     "name": "stdout",
     "output_type": "stream",
     "text": [
      "Valid AUC score for catboost model is 0.981902843513369\n",
      "FOLD 0\n",
      "---------------------------------------------------\n",
      "Fold 0 ROC AUC is: 0.9947121503842239\n",
      "FOLD 1\n",
      "---------------------------------------------------\n",
      "Fold 1 ROC AUC is: 0.9944164470755722\n",
      "FOLD 2\n",
      "---------------------------------------------------\n",
      "Fold 2 ROC AUC is: 0.9949560379567636\n",
      "FOLD 3\n",
      "---------------------------------------------------\n",
      "Fold 3 ROC AUC is: 0.9949372235541297\n",
      "FOLD 4\n",
      "---------------------------------------------------\n",
      "Fold 4 ROC AUC is: 0.9948653938625629\n"
     ]
    },
    {
     "name": "stderr",
     "output_type": "stream",
     "text": [
      "\u001b[32m[I 2021-11-26 20:08:05,527]\u001b[0m Trial 4 finished with value: 0.9947762635851186 and parameters: {'iterations': 10529, 'depth': 3, 'learning_rate': 0.07026263205443048, 'random_strength': 44, 'od_wait': 261, 'reg_lambda': 35.672029887566374, 'border_count': 57, 'min_child_samples': 19, 'leaf_estimation_iterations': 2}. Best is trial 2 with value: 0.9974881363127642.\u001b[0m\n"
     ]
    },
    {
     "name": "stdout",
     "output_type": "stream",
     "text": [
      "Valid AUC score for catboost model is 0.9947762635851186\n",
      "FOLD 0\n",
      "---------------------------------------------------\n",
      "Fold 0 ROC AUC is: 0.9979760406110957\n",
      "FOLD 1\n",
      "---------------------------------------------------\n",
      "Fold 1 ROC AUC is: 0.9977965481973675\n",
      "FOLD 2\n",
      "---------------------------------------------------\n",
      "Fold 2 ROC AUC is: 0.9980154660888982\n",
      "FOLD 3\n",
      "---------------------------------------------------\n",
      "Fold 3 ROC AUC is: 0.9980285864081383\n",
      "FOLD 4\n",
      "---------------------------------------------------\n"
     ]
    },
    {
     "name": "stderr",
     "output_type": "stream",
     "text": [
      "\u001b[32m[I 2021-11-26 20:22:41,702]\u001b[0m Trial 5 finished with value: 0.997992822192246 and parameters: {'iterations': 20551, 'depth': 5, 'learning_rate': 0.02533074654001447, 'random_strength': 55, 'od_wait': 386, 'reg_lambda': 67.93175468798998, 'border_count': 225, 'min_child_samples': 19, 'leaf_estimation_iterations': 5}. Best is trial 5 with value: 0.997992822192246.\u001b[0m\n"
     ]
    },
    {
     "name": "stdout",
     "output_type": "stream",
     "text": [
      "Fold 4 ROC AUC is: 0.9981480206900637\n",
      "Valid AUC score for catboost model is 0.997992822192246\n",
      "FOLD 0\n",
      "---------------------------------------------------\n",
      "Fold 0 ROC AUC is: 0.9909884856927662\n",
      "FOLD 1\n",
      "---------------------------------------------------\n",
      "Fold 1 ROC AUC is: 0.9907751914585972\n",
      "FOLD 2\n",
      "---------------------------------------------------\n",
      "Fold 2 ROC AUC is: 0.9914983843816121\n",
      "FOLD 3\n",
      "---------------------------------------------------\n",
      "Fold 3 ROC AUC is: 0.9913327303543359\n",
      "FOLD 4\n",
      "---------------------------------------------------\n",
      "Fold 4 ROC AUC is: 0.9913851561429741\n"
     ]
    },
    {
     "name": "stderr",
     "output_type": "stream",
     "text": [
      "\u001b[32m[I 2021-11-26 21:02:24,634]\u001b[0m Trial 6 finished with value: 0.9911952208208445 and parameters: {'iterations': 18741, 'depth': 10, 'learning_rate': 0.0017331598058558703, 'random_strength': 19, 'od_wait': 109, 'reg_lambda': 24.122462491901974, 'border_count': 137, 'min_child_samples': 6, 'leaf_estimation_iterations': 5}. Best is trial 5 with value: 0.997992822192246.\u001b[0m\n"
     ]
    },
    {
     "name": "stdout",
     "output_type": "stream",
     "text": [
      "Valid AUC score for catboost model is 0.9911952208208445\n",
      "FOLD 0\n",
      "---------------------------------------------------\n",
      "Fold 0 ROC AUC is: 0.9980088472623325\n",
      "FOLD 1\n",
      "---------------------------------------------------\n",
      "Fold 1 ROC AUC is: 0.9979189189570503\n",
      "FOLD 2\n",
      "---------------------------------------------------\n",
      "Fold 2 ROC AUC is: 0.9980229838618753\n",
      "FOLD 3\n",
      "---------------------------------------------------\n",
      "Fold 3 ROC AUC is: 0.9979829702074949\n",
      "FOLD 4\n",
      "---------------------------------------------------\n",
      "Fold 4 ROC AUC is: 0.9980750507976608\n"
     ]
    },
    {
     "name": "stderr",
     "output_type": "stream",
     "text": [
      "\u001b[32m[I 2021-11-26 21:11:22,094]\u001b[0m Trial 7 finished with value: 0.9980014178559665 and parameters: {'iterations': 11989, 'depth': 5, 'learning_rate': 0.029155497059176992, 'random_strength': 14, 'od_wait': 1609, 'reg_lambda': 7.0694437702244155, 'border_count': 273, 'min_child_samples': 16, 'leaf_estimation_iterations': 1}. Best is trial 7 with value: 0.9980014178559665.\u001b[0m\n"
     ]
    },
    {
     "name": "stdout",
     "output_type": "stream",
     "text": [
      "Valid AUC score for catboost model is 0.9980014178559665\n",
      "FOLD 0\n",
      "---------------------------------------------------\n",
      "Fold 0 ROC AUC is: 0.9962349758499945\n",
      "FOLD 1\n",
      "---------------------------------------------------\n",
      "Fold 1 ROC AUC is: 0.9959381166676685\n",
      "FOLD 2\n",
      "---------------------------------------------------\n",
      "Fold 2 ROC AUC is: 0.9963371546109169\n",
      "FOLD 3\n",
      "---------------------------------------------------\n",
      "Fold 3 ROC AUC is: 0.9961844149498429\n",
      "FOLD 4\n",
      "---------------------------------------------------\n",
      "Fold 4 ROC AUC is: 0.9962584081716567\n"
     ]
    },
    {
     "name": "stderr",
     "output_type": "stream",
     "text": [
      "\u001b[32m[I 2021-11-26 21:14:42,228]\u001b[0m Trial 8 finished with value: 0.9961897966094626 and parameters: {'iterations': 2154, 'depth': 9, 'learning_rate': 0.08086987436021253, 'random_strength': 73, 'od_wait': 1547, 'reg_lambda': 7.035036317918145, 'border_count': 131, 'min_child_samples': 3, 'leaf_estimation_iterations': 5}. Best is trial 7 with value: 0.9980014178559665.\u001b[0m\n"
     ]
    },
    {
     "name": "stdout",
     "output_type": "stream",
     "text": [
      "Valid AUC score for catboost model is 0.9961897966094626\n",
      "FOLD 0\n",
      "---------------------------------------------------\n",
      "Fold 0 ROC AUC is: 0.9816228315254378\n",
      "FOLD 1\n",
      "---------------------------------------------------\n",
      "Fold 1 ROC AUC is: 0.9812798658616824\n",
      "FOLD 2\n",
      "---------------------------------------------------\n",
      "Fold 2 ROC AUC is: 0.9824157091468622\n",
      "FOLD 3\n",
      "---------------------------------------------------\n",
      "Fold 3 ROC AUC is: 0.982183015244678\n",
      "FOLD 4\n",
      "---------------------------------------------------\n"
     ]
    },
    {
     "name": "stderr",
     "output_type": "stream",
     "text": [
      "\u001b[32m[I 2021-11-26 21:28:35,722]\u001b[0m Trial 9 finished with value: 0.9819502161300805 and parameters: {'iterations': 19452, 'depth': 5, 'learning_rate': 0.0014843697010415793, 'random_strength': 31, 'od_wait': 664, 'reg_lambda': 51.61322012698836, 'border_count': 194, 'min_child_samples': 18, 'leaf_estimation_iterations': 3}. Best is trial 7 with value: 0.9980014178559665.\u001b[0m\n"
     ]
    },
    {
     "name": "stdout",
     "output_type": "stream",
     "text": [
      "Fold 4 ROC AUC is: 0.9822520059025955\n",
      "Valid AUC score for catboost model is 0.9819502161300805\n",
      "FOLD 0\n",
      "---------------------------------------------------\n",
      "Fold 0 ROC AUC is: 0.9973050080540918\n",
      "FOLD 1\n",
      "---------------------------------------------------\n",
      "Fold 1 ROC AUC is: 0.9972135704943798\n",
      "FOLD 2\n",
      "---------------------------------------------------\n",
      "Fold 2 ROC AUC is: 0.9973532686138828\n",
      "FOLD 3\n",
      "---------------------------------------------------\n",
      "Fold 3 ROC AUC is: 0.9973342846680747\n",
      "FOLD 4\n",
      "---------------------------------------------------\n",
      "Fold 4 ROC AUC is: 0.9974548151890625\n"
     ]
    },
    {
     "name": "stderr",
     "output_type": "stream",
     "text": [
      "\u001b[32m[I 2021-11-26 21:54:57,184]\u001b[0m Trial 10 finished with value: 0.9973316831432256 and parameters: {'iterations': 28464, 'depth': 7, 'learning_rate': 0.00713966506661863, 'random_strength': 1, 'od_wait': 1963, 'reg_lambda': 48.936801002701884, 'border_count': 269, 'min_child_samples': 13, 'leaf_estimation_iterations': 1}. Best is trial 7 with value: 0.9980014178559665.\u001b[0m\n"
     ]
    },
    {
     "name": "stdout",
     "output_type": "stream",
     "text": [
      "Valid AUC score for catboost model is 0.9973316831432256\n",
      "FOLD 0\n",
      "---------------------------------------------------\n",
      "Fold 0 ROC AUC is: 0.9922465042938864\n",
      "FOLD 1\n",
      "---------------------------------------------------\n",
      "Fold 1 ROC AUC is: 0.9919795389775823\n",
      "FOLD 2\n",
      "---------------------------------------------------\n",
      "Fold 2 ROC AUC is: 0.9926159553824313\n",
      "FOLD 3\n",
      "---------------------------------------------------\n",
      "Fold 3 ROC AUC is: 0.9925066614140892\n",
      "FOLD 4\n",
      "---------------------------------------------------\n",
      "Fold 4 ROC AUC is: 0.9926708772036361\n"
     ]
    },
    {
     "name": "stderr",
     "output_type": "stream",
     "text": [
      "\u001b[32m[I 2021-11-26 21:58:50,355]\u001b[0m Trial 11 finished with value: 0.9924035387514891 and parameters: {'iterations': 5515, 'depth': 5, 'learning_rate': 0.012562852156459005, 'random_strength': 46, 'od_wait': 1134, 'reg_lambda': 69.59240398774317, 'border_count': 220, 'min_child_samples': 13, 'leaf_estimation_iterations': 2}. Best is trial 7 with value: 0.9980014178559665.\u001b[0m\n"
     ]
    },
    {
     "name": "stdout",
     "output_type": "stream",
     "text": [
      "Valid AUC score for catboost model is 0.9924035387514891\n",
      "FOLD 0\n",
      "---------------------------------------------------\n",
      "Fold 0 ROC AUC is: 0.9979947375620185\n",
      "FOLD 1\n",
      "---------------------------------------------------\n",
      "Fold 1 ROC AUC is: 0.9978167912104078\n",
      "FOLD 2\n",
      "---------------------------------------------------\n",
      "Fold 2 ROC AUC is: 0.9980262803748898\n",
      "FOLD 3\n",
      "---------------------------------------------------\n",
      "Fold 3 ROC AUC is: 0.9980478652244651\n",
      "FOLD 4\n",
      "---------------------------------------------------\n",
      "Fold 4 ROC AUC is: 0.9981615132928404\n"
     ]
    },
    {
     "name": "stderr",
     "output_type": "stream",
     "text": [
      "\u001b[32m[I 2021-11-26 22:18:40,265]\u001b[0m Trial 12 finished with value: 0.9980092386988567 and parameters: {'iterations': 25029, 'depth': 6, 'learning_rate': 0.020364809018721657, 'random_strength': 100, 'od_wait': 1226, 'reg_lambda': 63.957926084193744, 'border_count': 224, 'min_child_samples': 14, 'leaf_estimation_iterations': 4}. Best is trial 12 with value: 0.9980092386988567.\u001b[0m\n"
     ]
    },
    {
     "name": "stdout",
     "output_type": "stream",
     "text": [
      "Valid AUC score for catboost model is 0.9980092386988567\n",
      "FOLD 0\n",
      "---------------------------------------------------\n",
      "Fold 0 ROC AUC is: 0.9968808769102543\n",
      "FOLD 1\n",
      "---------------------------------------------------\n",
      "Fold 1 ROC AUC is: 0.9966627215133355\n",
      "FOLD 2\n",
      "---------------------------------------------------\n",
      "Fold 2 ROC AUC is: 0.9969591891057841\n",
      "FOLD 3\n",
      "---------------------------------------------------\n",
      "Fold 3 ROC AUC is: 0.9969479397462423\n",
      "FOLD 4\n",
      "---------------------------------------------------\n",
      "Fold 4 ROC AUC is: 0.9970968983796058\n"
     ]
    },
    {
     "name": "stderr",
     "output_type": "stream",
     "text": [
      "\u001b[32m[I 2021-11-26 22:41:02,024]\u001b[0m Trial 13 finished with value: 0.9969090950063658 and parameters: {'iterations': 27759, 'depth': 6, 'learning_rate': 0.005742277860080914, 'random_strength': 100, 'od_wait': 1323, 'reg_lambda': 56.53562906742912, 'border_count': 237, 'min_child_samples': 13, 'leaf_estimation_iterations': 4}. Best is trial 12 with value: 0.9980092386988567.\u001b[0m\n"
     ]
    },
    {
     "name": "stdout",
     "output_type": "stream",
     "text": [
      "Valid AUC score for catboost model is 0.9969090950063658\n",
      "FOLD 0\n",
      "---------------------------------------------------\n",
      "Fold 0 ROC AUC is: 0.9977720909654773\n",
      "FOLD 1\n",
      "---------------------------------------------------\n",
      "Fold 1 ROC AUC is: 0.9976376340397484\n",
      "FOLD 2\n",
      "---------------------------------------------------\n",
      "Fold 2 ROC AUC is: 0.9978668217030635\n",
      "FOLD 3\n",
      "---------------------------------------------------\n",
      "Fold 3 ROC AUC is: 0.9977895960771785\n",
      "FOLD 4\n",
      "---------------------------------------------------\n",
      "Fold 4 ROC AUC is: 0.9979423326351866\n"
     ]
    },
    {
     "name": "stderr",
     "output_type": "stream",
     "text": [
      "\u001b[32m[I 2021-11-26 22:58:53,602]\u001b[0m Trial 14 finished with value: 0.9978011544388424 and parameters: {'iterations': 23780, 'depth': 6, 'learning_rate': 0.20195707038528785, 'random_strength': 100, 'od_wait': 1706, 'reg_lambda': 38.116434063899305, 'border_count': 196, 'min_child_samples': 10, 'leaf_estimation_iterations': 4}. Best is trial 12 with value: 0.9980092386988567.\u001b[0m\n"
     ]
    },
    {
     "name": "stdout",
     "output_type": "stream",
     "text": [
      "Valid AUC score for catboost model is 0.9978011544388424\n",
      "FOLD 0\n",
      "---------------------------------------------------\n",
      "Fold 0 ROC AUC is: 0.9973442559210896\n",
      "FOLD 1\n",
      "---------------------------------------------------\n",
      "Fold 1 ROC AUC is: 0.9971362205337492\n",
      "FOLD 2\n",
      "---------------------------------------------------\n",
      "Fold 2 ROC AUC is: 0.9974016895536992\n",
      "FOLD 3\n",
      "---------------------------------------------------\n",
      "Fold 3 ROC AUC is: 0.9974046863298639\n",
      "FOLD 4\n",
      "---------------------------------------------------\n"
     ]
    },
    {
     "name": "stderr",
     "output_type": "stream",
     "text": [
      "\u001b[32m[I 2021-11-26 23:08:31,914]\u001b[0m Trial 15 finished with value: 0.9973668448215811 and parameters: {'iterations': 8663, 'depth': 8, 'learning_rate': 0.021618919333796678, 'random_strength': 29, 'od_wait': 908, 'reg_lambda': 42.40948592398594, 'border_count': 245, 'min_child_samples': 16, 'leaf_estimation_iterations': 2}. Best is trial 12 with value: 0.9980092386988567.\u001b[0m\n"
     ]
    },
    {
     "name": "stdout",
     "output_type": "stream",
     "text": [
      "Fold 4 ROC AUC is: 0.9975486147230025\n",
      "Valid AUC score for catboost model is 0.9973668448215811\n",
      "FOLD 0\n",
      "---------------------------------------------------\n",
      "Fold 0 ROC AUC is: 0.9945419610521753\n",
      "FOLD 1\n",
      "---------------------------------------------------\n",
      "Fold 1 ROC AUC is: 0.9942801267181594\n",
      "FOLD 2\n",
      "---------------------------------------------------\n",
      "Fold 2 ROC AUC is: 0.9947754190624003\n",
      "FOLD 3\n",
      "---------------------------------------------------\n",
      "Fold 3 ROC AUC is: 0.9946794692128103\n",
      "FOLD 4\n",
      "---------------------------------------------------\n",
      "Fold 4 ROC AUC is: 0.9948413847171268\n"
     ]
    },
    {
     "name": "stderr",
     "output_type": "stream",
     "text": [
      "\u001b[32m[I 2021-11-26 23:23:22,590]\u001b[0m Trial 16 finished with value: 0.9946233516325088 and parameters: {'iterations': 24564, 'depth': 4, 'learning_rate': 0.004857632264711858, 'random_strength': 80, 'od_wait': 1449, 'reg_lambda': 60.45619151329748, 'border_count': 185, 'min_child_samples': 15, 'leaf_estimation_iterations': 3}. Best is trial 12 with value: 0.9980092386988567.\u001b[0m\n"
     ]
    },
    {
     "name": "stdout",
     "output_type": "stream",
     "text": [
      "Valid AUC score for catboost model is 0.9946233516325088\n",
      "FOLD 0\n",
      "---------------------------------------------------\n",
      "Fold 0 ROC AUC is: 0.9981148959588759\n",
      "FOLD 1\n",
      "---------------------------------------------------\n",
      "Fold 1 ROC AUC is: 0.9980742885857712\n",
      "FOLD 2\n",
      "---------------------------------------------------\n",
      "Fold 2 ROC AUC is: 0.9981251635354315\n",
      "FOLD 3\n",
      "---------------------------------------------------\n",
      "Fold 3 ROC AUC is: 0.9981388110356053\n",
      "FOLD 4\n",
      "---------------------------------------------------\n",
      "Fold 4 ROC AUC is: 0.9982358708830549\n"
     ]
    },
    {
     "name": "stderr",
     "output_type": "stream",
     "text": [
      "\u001b[32m[I 2021-11-26 23:40:38,192]\u001b[0m Trial 17 finished with value: 0.998137351915423 and parameters: {'iterations': 15259, 'depth': 8, 'learning_rate': 0.028387773402824078, 'random_strength': 6, 'od_wait': 1066, 'reg_lambda': 24.269359959711828, 'border_count': 269, 'min_child_samples': 9, 'leaf_estimation_iterations': 1}. Best is trial 17 with value: 0.998137351915423.\u001b[0m\n"
     ]
    },
    {
     "name": "stdout",
     "output_type": "stream",
     "text": [
      "Valid AUC score for catboost model is 0.998137351915423\n",
      "FOLD 0\n",
      "---------------------------------------------------\n",
      "Fold 0 ROC AUC is: 0.9977984787730405\n",
      "FOLD 1\n",
      "---------------------------------------------------\n",
      "Fold 1 ROC AUC is: 0.9976281747346272\n",
      "FOLD 2\n",
      "---------------------------------------------------\n",
      "Fold 2 ROC AUC is: 0.9978376431156492\n",
      "FOLD 3\n",
      "---------------------------------------------------\n",
      "Fold 3 ROC AUC is: 0.9978575093248121\n",
      "FOLD 4\n",
      "---------------------------------------------------\n",
      "Fold 4 ROC AUC is: 0.9979732735993934\n"
     ]
    },
    {
     "name": "stderr",
     "output_type": "stream",
     "text": [
      "\u001b[32m[I 2021-11-27 00:08:42,269]\u001b[0m Trial 18 finished with value: 0.997818926692898 and parameters: {'iterations': 24533, 'depth': 8, 'learning_rate': 0.012211954818861146, 'random_strength': 0, 'od_wait': 1008, 'reg_lambda': 25.7390697783924, 'border_count': 213, 'min_child_samples': 9, 'leaf_estimation_iterations': 4}. Best is trial 17 with value: 0.998137351915423.\u001b[0m\n"
     ]
    },
    {
     "name": "stdout",
     "output_type": "stream",
     "text": [
      "Valid AUC score for catboost model is 0.997818926692898\n",
      "FOLD 0\n",
      "---------------------------------------------------\n",
      "Fold 0 ROC AUC is: 0.9979729996746997\n",
      "FOLD 1\n",
      "---------------------------------------------------\n",
      "Fold 1 ROC AUC is: 0.9978156172068363\n",
      "FOLD 2\n",
      "---------------------------------------------------\n",
      "Fold 2 ROC AUC is: 0.9979982689087359\n",
      "FOLD 3\n",
      "---------------------------------------------------\n",
      "Fold 3 ROC AUC is: 0.9979834975222461\n",
      "FOLD 4\n",
      "---------------------------------------------------\n",
      "Fold 4 ROC AUC is: 0.9980955619329512\n"
     ]
    },
    {
     "name": "stderr",
     "output_type": "stream",
     "text": [
      "\u001b[32m[I 2021-11-27 00:25:56,425]\u001b[0m Trial 19 finished with value: 0.9979728875387771 and parameters: {'iterations': 16126, 'depth': 8, 'learning_rate': 0.1598837021254152, 'random_strength': 89, 'od_wait': 1224, 'reg_lambda': 32.34989657460247, 'border_count': 251, 'min_child_samples': 3, 'leaf_estimation_iterations': 2}. Best is trial 17 with value: 0.998137351915423.\u001b[0m\n"
     ]
    },
    {
     "name": "stdout",
     "output_type": "stream",
     "text": [
      "Valid AUC score for catboost model is 0.9979728875387771\n",
      "FOLD 0\n",
      "---------------------------------------------------\n",
      "Fold 0 ROC AUC is: 0.9940124551535565\n",
      "FOLD 1\n",
      "---------------------------------------------------\n",
      "Fold 1 ROC AUC is: 0.9937909336357924\n",
      "FOLD 2\n",
      "---------------------------------------------------\n",
      "Fold 2 ROC AUC is: 0.9942942507391855\n",
      "FOLD 3\n",
      "---------------------------------------------------\n",
      "Fold 3 ROC AUC is: 0.9942147689881888\n",
      "FOLD 4\n",
      "---------------------------------------------------\n",
      "Fold 4 ROC AUC is: 0.9943574180875944\n"
     ]
    },
    {
     "name": "stderr",
     "output_type": "stream",
     "text": [
      "\u001b[32m[I 2021-11-27 00:52:30,015]\u001b[0m Trial 20 finished with value: 0.9941337628517231 and parameters: {'iterations': 17499, 'depth': 9, 'learning_rate': 0.0029457680432501796, 'random_strength': 68, 'od_wait': 822, 'reg_lambda': 18.32533751541414, 'border_count': 207, 'min_child_samples': 7, 'leaf_estimation_iterations': 3}. Best is trial 17 with value: 0.998137351915423.\u001b[0m\n"
     ]
    },
    {
     "name": "stdout",
     "output_type": "stream",
     "text": [
      "Valid AUC score for catboost model is 0.9941337628517231\n",
      "FOLD 0\n",
      "---------------------------------------------------\n",
      "Fold 0 ROC AUC is: 0.9981406385887894\n",
      "FOLD 1\n",
      "---------------------------------------------------\n",
      "Fold 1 ROC AUC is: 0.998078814184668\n",
      "FOLD 2\n",
      "---------------------------------------------------\n",
      "Fold 2 ROC AUC is: 0.998161369032249\n",
      "FOLD 3\n",
      "---------------------------------------------------\n",
      "Fold 3 ROC AUC is: 0.9981341494286585\n",
      "FOLD 4\n",
      "---------------------------------------------------\n",
      "Fold 4 ROC AUC is: 0.9982477392707282\n"
     ]
    },
    {
     "name": "stderr",
     "output_type": "stream",
     "text": [
      "\u001b[32m[I 2021-11-27 01:03:25,430]\u001b[0m Trial 21 finished with value: 0.9981520776804857 and parameters: {'iterations': 13010, 'depth': 6, 'learning_rate': 0.03204149217488938, 'random_strength': 11, 'od_wait': 1757, 'reg_lambda': 19.332365044221, 'border_count': 274, 'min_child_samples': 12, 'leaf_estimation_iterations': 1}. Best is trial 21 with value: 0.9981520776804857.\u001b[0m\n"
     ]
    },
    {
     "name": "stdout",
     "output_type": "stream",
     "text": [
      "Valid AUC score for catboost model is 0.9981520776804857\n",
      "FOLD 0\n",
      "---------------------------------------------------\n",
      "Fold 0 ROC AUC is: 0.9957214527929173\n",
      "FOLD 1\n",
      "---------------------------------------------------\n",
      "Fold 1 ROC AUC is: 0.9954962701513158\n",
      "FOLD 2\n",
      "---------------------------------------------------\n",
      "Fold 2 ROC AUC is: 0.9959064432273357\n",
      "FOLD 3\n",
      "---------------------------------------------------\n",
      "Fold 3 ROC AUC is: 0.9958541569150271\n",
      "FOLD 4\n",
      "---------------------------------------------------\n",
      "Fold 4 ROC AUC is: 0.9960071167480558\n"
     ]
    },
    {
     "name": "stderr",
     "output_type": "stream",
     "text": [
      "\u001b[32m[I 2021-11-27 01:09:57,187]\u001b[0m Trial 22 finished with value: 0.9957970607882253 and parameters: {'iterations': 7278, 'depth': 7, 'learning_rate': 0.013865270428355714, 'random_strength': 33, 'od_wait': 1900, 'reg_lambda': 18.96149909097458, 'border_count': 252, 'min_child_samples': 11, 'leaf_estimation_iterations': 1}. Best is trial 21 with value: 0.9981520776804857.\u001b[0m\n"
     ]
    },
    {
     "name": "stdout",
     "output_type": "stream",
     "text": [
      "Valid AUC score for catboost model is 0.9957970607882253\n",
      "FOLD 0\n",
      "---------------------------------------------------\n",
      "Fold 0 ROC AUC is: 0.997900526339873\n",
      "FOLD 1\n",
      "---------------------------------------------------\n",
      "Fold 1 ROC AUC is: 0.997695352870327\n",
      "FOLD 2\n",
      "---------------------------------------------------\n",
      "Fold 2 ROC AUC is: 0.9979147509454497\n",
      "FOLD 3\n",
      "---------------------------------------------------\n",
      "Fold 3 ROC AUC is: 0.9979434652429113\n",
      "FOLD 4\n",
      "---------------------------------------------------\n",
      "Fold 4 ROC AUC is: 0.9980412510592319\n"
     ]
    },
    {
     "name": "stderr",
     "output_type": "stream",
     "text": [
      "\u001b[32m[I 2021-11-27 01:17:12,061]\u001b[0m Trial 23 finished with value: 0.9978989655289993 and parameters: {'iterations': 9883, 'depth': 6, 'learning_rate': 0.04196884856574415, 'random_strength': 8, 'od_wait': 1763, 'reg_lambda': 31.82846774382154, 'border_count': 234, 'min_child_samples': 11, 'leaf_estimation_iterations': 1}. Best is trial 21 with value: 0.9981520776804857.\u001b[0m\n"
     ]
    },
    {
     "name": "stdout",
     "output_type": "stream",
     "text": [
      "Valid AUC score for catboost model is 0.9978989655289993\n",
      "FOLD 0\n",
      "---------------------------------------------------\n",
      "Fold 0 ROC AUC is: 0.9982333540770939\n",
      "FOLD 1\n",
      "---------------------------------------------------\n",
      "Fold 1 ROC AUC is: 0.9981607447886444\n",
      "FOLD 2\n",
      "---------------------------------------------------\n",
      "Fold 2 ROC AUC is: 0.9982670920403675\n",
      "FOLD 3\n",
      "---------------------------------------------------\n",
      "Fold 3 ROC AUC is: 0.9982449561315545\n",
      "FOLD 4\n",
      "---------------------------------------------------\n",
      "Fold 4 ROC AUC is: 0.9983134732904034\n"
     ]
    },
    {
     "name": "stderr",
     "output_type": "stream",
     "text": [
      "\u001b[32m[I 2021-11-27 01:31:42,094]\u001b[0m Trial 24 finished with value: 0.9982436045890234 and parameters: {'iterations': 14162, 'depth': 7, 'learning_rate': 0.04204728777018995, 'random_strength': 22, 'od_wait': 1374, 'reg_lambda': 45.01620343521589, 'border_count': 272, 'min_child_samples': 9, 'leaf_estimation_iterations': 2}. Best is trial 24 with value: 0.9982436045890234.\u001b[0m\n"
     ]
    },
    {
     "name": "stdout",
     "output_type": "stream",
     "text": [
      "Valid AUC score for catboost model is 0.9982436045890234\n",
      "FOLD 0\n",
      "---------------------------------------------------\n",
      "Fold 0 ROC AUC is: 0.9981787183827042\n",
      "FOLD 1\n",
      "---------------------------------------------------\n",
      "Fold 1 ROC AUC is: 0.9981315003402157\n",
      "FOLD 2\n",
      "---------------------------------------------------\n",
      "Fold 2 ROC AUC is: 0.9982137510687744\n",
      "FOLD 3\n",
      "---------------------------------------------------\n",
      "Fold 3 ROC AUC is: 0.9981689244049412\n",
      "FOLD 4\n",
      "---------------------------------------------------\n",
      "Fold 4 ROC AUC is: 0.998246539730621\n"
     ]
    },
    {
     "name": "stderr",
     "output_type": "stream",
     "text": [
      "\u001b[32m[I 2021-11-27 01:55:16,324]\u001b[0m Trial 25 finished with value: 0.998187595471787 and parameters: {'iterations': 14367, 'depth': 9, 'learning_rate': 0.046010947861947336, 'random_strength': 26, 'od_wait': 1413, 'reg_lambda': 42.51968563604547, 'border_count': 273, 'min_child_samples': 9, 'leaf_estimation_iterations': 2}. Best is trial 24 with value: 0.9982436045890234.\u001b[0m\n"
     ]
    },
    {
     "name": "stdout",
     "output_type": "stream",
     "text": [
      "Valid AUC score for catboost model is 0.998187595471787\n",
      "FOLD 0\n",
      "---------------------------------------------------\n",
      "Fold 0 ROC AUC is: 0.9976964092509921\n",
      "FOLD 1\n",
      "---------------------------------------------------\n",
      "Fold 1 ROC AUC is: 0.997458198310818\n",
      "FOLD 2\n",
      "---------------------------------------------------\n",
      "Fold 2 ROC AUC is: 0.997810591140467\n",
      "FOLD 3\n",
      "---------------------------------------------------\n",
      "Fold 3 ROC AUC is: 0.9977876110720977\n",
      "FOLD 4\n",
      "---------------------------------------------------\n"
     ]
    },
    {
     "name": "stderr",
     "output_type": "stream",
     "text": [
      "\u001b[32m[I 2021-11-27 02:13:28,388]\u001b[0m Trial 26 finished with value: 0.9977324595567244 and parameters: {'iterations': 13708, 'depth': 9, 'learning_rate': 0.04949311896067629, 'random_strength': 26, 'od_wait': 1433, 'reg_lambda': 44.62770201615827, 'border_count': 172, 'min_child_samples': 5, 'leaf_estimation_iterations': 2}. Best is trial 24 with value: 0.9982436045890234.\u001b[0m\n"
     ]
    },
    {
     "name": "stdout",
     "output_type": "stream",
     "text": [
      "Fold 4 ROC AUC is: 0.9979113066248092\n",
      "Valid AUC score for catboost model is 0.9977324595567244\n",
      "FOLD 0\n",
      "---------------------------------------------------\n",
      "Fold 0 ROC AUC is: 0.9979642389876204\n",
      "FOLD 1\n",
      "---------------------------------------------------\n",
      "Fold 1 ROC AUC is: 0.9978550329241905\n",
      "FOLD 2\n",
      "---------------------------------------------------\n",
      "Fold 2 ROC AUC is: 0.9980252544533437\n",
      "FOLD 3\n",
      "---------------------------------------------------\n",
      "Fold 3 ROC AUC is: 0.9980468219918549\n",
      "FOLD 4\n",
      "---------------------------------------------------\n",
      "Fold 4 ROC AUC is: 0.998164687238166\n"
     ]
    },
    {
     "name": "stderr",
     "output_type": "stream",
     "text": [
      "\u001b[32m[I 2021-11-27 02:18:50,690]\u001b[0m Trial 27 finished with value: 0.998011042867325 and parameters: {'iterations': 5875, 'depth': 7, 'learning_rate': 0.1284669816051307, 'random_strength': 38, 'od_wait': 1829, 'reg_lambda': 42.62250801367328, 'border_count': 254, 'min_child_samples': 1, 'leaf_estimation_iterations': 2}. Best is trial 24 with value: 0.9982436045890234.\u001b[0m\n"
     ]
    },
    {
     "name": "stdout",
     "output_type": "stream",
     "text": [
      "Valid AUC score for catboost model is 0.998011042867325\n",
      "FOLD 0\n",
      "---------------------------------------------------\n",
      "Fold 0 ROC AUC is: 0.9982322485346903\n",
      "FOLD 1\n",
      "---------------------------------------------------\n",
      "Fold 1 ROC AUC is: 0.998186945946261\n",
      "FOLD 2\n",
      "---------------------------------------------------\n",
      "Fold 2 ROC AUC is: 0.998240751900753\n",
      "FOLD 3\n",
      "---------------------------------------------------\n",
      "Fold 3 ROC AUC is: 0.9981363829415875\n",
      "FOLD 4\n",
      "---------------------------------------------------\n",
      "Fold 4 ROC AUC is: 0.9983220871334394\n"
     ]
    },
    {
     "name": "stderr",
     "output_type": "stream",
     "text": [
      "\u001b[32m[I 2021-11-27 02:26:03,024]\u001b[0m Trial 28 finished with value: 0.9982230233064902 and parameters: {'iterations': 11532, 'depth': 4, 'learning_rate': 0.4284499104160022, 'random_strength': 20, 'od_wait': 1626, 'reg_lambda': 49.635815359177364, 'border_count': 275, 'min_child_samples': 8, 'leaf_estimation_iterations': 2}. Best is trial 24 with value: 0.9982436045890234.\u001b[0m\n"
     ]
    },
    {
     "name": "stdout",
     "output_type": "stream",
     "text": [
      "Valid AUC score for catboost model is 0.9982230233064902\n",
      "FOLD 0\n",
      "---------------------------------------------------\n",
      "Fold 0 ROC AUC is: 0.997567622732095\n",
      "FOLD 1\n",
      "---------------------------------------------------\n",
      "Fold 1 ROC AUC is: 0.9974369419795162\n",
      "FOLD 2\n",
      "---------------------------------------------------\n",
      "Fold 2 ROC AUC is: 0.9976146946037895\n",
      "FOLD 3\n",
      "---------------------------------------------------\n",
      "Fold 3 ROC AUC is: 0.9976439112700226\n",
      "FOLD 4\n",
      "---------------------------------------------------\n",
      "Fold 4 ROC AUC is: 0.997775969818477\n"
     ]
    },
    {
     "name": "stderr",
     "output_type": "stream",
     "text": [
      "\u001b[32m[I 2021-11-27 02:48:07,792]\u001b[0m Trial 29 finished with value: 0.9976072889971559 and parameters: {'iterations': 11491, 'depth': 10, 'learning_rate': 0.3088004329049003, 'random_strength': 22, 'od_wait': 1407, 'reg_lambda': 53.53886374553735, 'border_count': 239, 'min_child_samples': 8, 'leaf_estimation_iterations': 2}. Best is trial 24 with value: 0.9982436045890234.\u001b[0m\n"
     ]
    },
    {
     "name": "stdout",
     "output_type": "stream",
     "text": [
      "Valid AUC score for catboost model is 0.9976072889971559\n",
      "FOLD 0\n",
      "---------------------------------------------------\n",
      "Fold 0 ROC AUC is: 0.9959022120330232\n",
      "FOLD 1\n",
      "---------------------------------------------------\n",
      "Fold 1 ROC AUC is: 0.9956577816841112\n",
      "FOLD 2\n",
      "---------------------------------------------------\n",
      "Fold 2 ROC AUC is: 0.9963512025927272\n",
      "FOLD 3\n",
      "---------------------------------------------------\n",
      "Fold 3 ROC AUC is: 0.9959457070394352\n",
      "FOLD 4\n",
      "---------------------------------------------------\n",
      "Fold 4 ROC AUC is: 0.9961902369955402\n"
     ]
    },
    {
     "name": "stderr",
     "output_type": "stream",
     "text": [
      "\u001b[32m[I 2021-11-27 02:52:53,990]\u001b[0m Trial 30 finished with value: 0.9960098160593388 and parameters: {'iterations': 8684, 'depth': 4, 'learning_rate': 0.11605844588926845, 'random_strength': 38, 'od_wait': 1545, 'reg_lambda': 46.80397827962227, 'border_count': 77, 'min_child_samples': 4, 'leaf_estimation_iterations': 3}. Best is trial 24 with value: 0.9982436045890234.\u001b[0m\n"
     ]
    },
    {
     "name": "stdout",
     "output_type": "stream",
     "text": [
      "Valid AUC score for catboost model is 0.9960098160593388\n",
      "FOLD 0\n",
      "---------------------------------------------------\n",
      "Fold 0 ROC AUC is: 0.9983699583204315\n",
      "FOLD 1\n",
      "---------------------------------------------------\n",
      "Fold 1 ROC AUC is: 0.9982784181440293\n",
      "FOLD 2\n",
      "---------------------------------------------------\n",
      "Fold 2 ROC AUC is: 0.9983341266047243\n",
      "FOLD 3\n",
      "---------------------------------------------------\n",
      "Fold 3 ROC AUC is: 0.9983138873162568\n",
      "FOLD 4\n",
      "---------------------------------------------------\n",
      "Fold 4 ROC AUC is: 0.9984594183558534\n"
     ]
    },
    {
     "name": "stderr",
     "output_type": "stream",
     "text": [
      "\u001b[32m[I 2021-11-27 03:01:21,263]\u001b[0m Trial 31 finished with value: 0.9983509041991065 and parameters: {'iterations': 12781, 'depth': 4, 'learning_rate': 0.06686727421242387, 'random_strength': 16, 'od_wait': 1664, 'reg_lambda': 38.214230839951696, 'border_count': 275, 'min_child_samples': 10, 'leaf_estimation_iterations': 2}. Best is trial 31 with value: 0.9983509041991065.\u001b[0m\n"
     ]
    },
    {
     "name": "stdout",
     "output_type": "stream",
     "text": [
      "Valid AUC score for catboost model is 0.9983509041991065\n",
      "FOLD 0\n",
      "---------------------------------------------------\n",
      "Fold 0 ROC AUC is: 0.9980991968676596\n",
      "FOLD 1\n",
      "---------------------------------------------------\n",
      "Fold 1 ROC AUC is: 0.9980113574906971\n",
      "FOLD 2\n",
      "---------------------------------------------------\n",
      "Fold 2 ROC AUC is: 0.9981202204336227\n",
      "FOLD 3\n",
      "---------------------------------------------------\n",
      "Fold 3 ROC AUC is: 0.998093686847144\n",
      "FOLD 4\n",
      "---------------------------------------------------\n",
      "Fold 4 ROC AUC is: 0.9982758934442363\n"
     ]
    },
    {
     "name": "stderr",
     "output_type": "stream",
     "text": [
      "\u001b[32m[I 2021-11-27 03:09:52,186]\u001b[0m Trial 32 finished with value: 0.9981198941870364 and parameters: {'iterations': 14028, 'depth': 4, 'learning_rate': 0.23231874785869722, 'random_strength': 20, 'od_wait': 1627, 'reg_lambda': 38.765523664321286, 'border_count': 259, 'min_child_samples': 9, 'leaf_estimation_iterations': 2}. Best is trial 31 with value: 0.9983509041991065.\u001b[0m\n"
     ]
    },
    {
     "name": "stdout",
     "output_type": "stream",
     "text": [
      "Valid AUC score for catboost model is 0.9981198941870364\n",
      "FOLD 0\n",
      "---------------------------------------------------\n",
      "Fold 0 ROC AUC is: 0.997935963170424\n",
      "FOLD 1\n",
      "---------------------------------------------------\n",
      "Fold 1 ROC AUC is: 0.9978546000746616\n",
      "FOLD 2\n",
      "---------------------------------------------------\n",
      "Fold 2 ROC AUC is: 0.9979658357790882\n",
      "FOLD 3\n",
      "---------------------------------------------------\n",
      "Fold 3 ROC AUC is: 0.9978894417493576\n",
      "FOLD 4\n",
      "---------------------------------------------------\n",
      "Fold 4 ROC AUC is: 0.9980950185824158\n"
     ]
    },
    {
     "name": "stderr",
     "output_type": "stream",
     "text": [
      "\u001b[32m[I 2021-11-27 03:18:01,660]\u001b[0m Trial 33 finished with value: 0.9979476539791541 and parameters: {'iterations': 14952, 'depth': 3, 'learning_rate': 0.4739744354909281, 'random_strength': 17, 'od_wait': 1331, 'reg_lambda': 51.19842652897904, 'border_count': 259, 'min_child_samples': 7, 'leaf_estimation_iterations': 3}. Best is trial 31 with value: 0.9983509041991065.\u001b[0m\n"
     ]
    },
    {
     "name": "stdout",
     "output_type": "stream",
     "text": [
      "Valid AUC score for catboost model is 0.9979476539791541\n",
      "FOLD 0\n",
      "---------------------------------------------------\n",
      "Fold 0 ROC AUC is: 0.9983985781953195\n",
      "FOLD 1\n",
      "---------------------------------------------------\n",
      "Fold 1 ROC AUC is: 0.9983007517341136\n",
      "FOLD 2\n",
      "---------------------------------------------------\n",
      "Fold 2 ROC AUC is: 0.9983655982977346\n",
      "FOLD 3\n",
      "---------------------------------------------------\n",
      "Fold 3 ROC AUC is: 0.998334306933711\n",
      "FOLD 4\n",
      "---------------------------------------------------\n",
      "Fold 4 ROC AUC is: 0.998491898488993\n"
     ]
    },
    {
     "name": "stderr",
     "output_type": "stream",
     "text": [
      "\u001b[32m[I 2021-11-27 03:29:43,520]\u001b[0m Trial 34 finished with value: 0.9983778156310692 and parameters: {'iterations': 17997, 'depth': 4, 'learning_rate': 0.05807421036756052, 'random_strength': 27, 'od_wait': 1664, 'reg_lambda': 57.67864249277457, 'border_count': 275, 'min_child_samples': 10, 'leaf_estimation_iterations': 2}. Best is trial 34 with value: 0.9983778156310692.\u001b[0m\n"
     ]
    },
    {
     "name": "stdout",
     "output_type": "stream",
     "text": [
      "Valid AUC score for catboost model is 0.9983778156310692\n",
      "FOLD 0\n",
      "---------------------------------------------------\n",
      "Fold 0 ROC AUC is: 0.9966505297300782\n",
      "FOLD 1\n",
      "---------------------------------------------------\n",
      "Fold 1 ROC AUC is: 0.9963440083168826\n",
      "FOLD 2\n",
      "---------------------------------------------------\n",
      "Fold 2 ROC AUC is: 0.9966421926897404\n",
      "FOLD 3\n",
      "---------------------------------------------------\n",
      "Fold 3 ROC AUC is: 0.9967465674992487\n",
      "FOLD 4\n",
      "---------------------------------------------------\n",
      "Fold 4 ROC AUC is: 0.9969094969190045\n"
     ]
    },
    {
     "name": "stderr",
     "output_type": "stream",
     "text": [
      "\u001b[32m[I 2021-11-27 03:39:01,140]\u001b[0m Trial 35 finished with value: 0.9966585216633419 and parameters: {'iterations': 17636, 'depth': 4, 'learning_rate': 0.06902513703653927, 'random_strength': 37, 'od_wait': 1675, 'reg_lambda': 56.50124151497974, 'border_count': 98, 'min_child_samples': 10, 'leaf_estimation_iterations': 2}. Best is trial 34 with value: 0.9983778156310692.\u001b[0m\n"
     ]
    },
    {
     "name": "stdout",
     "output_type": "stream",
     "text": [
      "Valid AUC score for catboost model is 0.9966585216633419\n",
      "FOLD 0\n",
      "---------------------------------------------------\n",
      "Fold 0 ROC AUC is: 0.9979941233717938\n",
      "FOLD 1\n",
      "---------------------------------------------------\n",
      "Fold 1 ROC AUC is: 0.9978796511369019\n",
      "FOLD 2\n",
      "---------------------------------------------------\n",
      "Fold 2 ROC AUC is: 0.9980395951188139\n",
      "FOLD 3\n",
      "---------------------------------------------------\n",
      "Fold 3 ROC AUC is: 0.9979521541224546\n",
      "FOLD 4\n",
      "---------------------------------------------------\n",
      "Fold 4 ROC AUC is: 0.9981221585942348\n"
     ]
    },
    {
     "name": "stderr",
     "output_type": "stream",
     "text": [
      "\u001b[32m[I 2021-11-27 03:49:48,322]\u001b[0m Trial 36 finished with value: 0.9979972537026577 and parameters: {'iterations': 21143, 'depth': 3, 'learning_rate': 0.3202705144217516, 'random_strength': 23, 'od_wait': 1850, 'reg_lambda': 59.590609669868165, 'border_count': 242, 'min_child_samples': 8, 'leaf_estimation_iterations': 3}. Best is trial 34 with value: 0.9983778156310692.\u001b[0m\n"
     ]
    },
    {
     "name": "stdout",
     "output_type": "stream",
     "text": [
      "Valid AUC score for catboost model is 0.9979972537026577\n",
      "FOLD 0\n",
      "---------------------------------------------------\n",
      "Fold 0 ROC AUC is: 0.9967437096128918\n",
      "FOLD 1\n",
      "---------------------------------------------------\n",
      "Fold 1 ROC AUC is: 0.9964849454579362\n",
      "FOLD 2\n",
      "---------------------------------------------------\n",
      "Fold 2 ROC AUC is: 0.9968968902908998\n",
      "FOLD 3\n",
      "---------------------------------------------------\n",
      "Fold 3 ROC AUC is: 0.9968459264407319\n",
      "FOLD 4\n",
      "---------------------------------------------------\n",
      "Fold 4 ROC AUC is: 0.9969986222486993\n"
     ]
    },
    {
     "name": "stderr",
     "output_type": "stream",
     "text": [
      "\u001b[32m[I 2021-11-27 03:55:50,375]\u001b[0m Trial 37 finished with value: 0.9967939981237779 and parameters: {'iterations': 11242, 'depth': 4, 'learning_rate': 0.09639578777293291, 'random_strength': 53, 'od_wait': 1972, 'reg_lambda': 33.76682894070242, 'border_count': 113, 'min_child_samples': 6, 'leaf_estimation_iterations': 2}. Best is trial 34 with value: 0.9983778156310692.\u001b[0m\n"
     ]
    },
    {
     "name": "stdout",
     "output_type": "stream",
     "text": [
      "Valid AUC score for catboost model is 0.9967939981237779\n",
      "FOLD 0\n",
      "---------------------------------------------------\n",
      "Fold 0 ROC AUC is: 0.9981047112398013\n",
      "FOLD 1\n",
      "---------------------------------------------------\n",
      "Fold 1 ROC AUC is: 0.9979858024103477\n",
      "FOLD 2\n",
      "---------------------------------------------------\n",
      "Fold 2 ROC AUC is: 0.9981416969657558\n",
      "FOLD 3\n",
      "---------------------------------------------------\n",
      "Fold 3 ROC AUC is: 0.9981512108544893\n",
      "FOLD 4\n",
      "---------------------------------------------------\n",
      "Fold 4 ROC AUC is: 0.9983146675498663\n"
     ]
    },
    {
     "name": "stderr",
     "output_type": "stream",
     "text": [
      "\u001b[32m[I 2021-11-27 04:06:07,783]\u001b[0m Trial 38 finished with value: 0.9981394900829236 and parameters: {'iterations': 18240, 'depth': 3, 'learning_rate': 0.0546174325882695, 'random_strength': 44, 'od_wait': 1550, 'reg_lambda': 62.30960426418815, 'border_count': 260, 'min_child_samples': 12, 'leaf_estimation_iterations': 3}. Best is trial 34 with value: 0.9983778156310692.\u001b[0m\n"
     ]
    },
    {
     "name": "stdout",
     "output_type": "stream",
     "text": [
      "Valid AUC score for catboost model is 0.9981394900829236\n",
      "FOLD 0\n",
      "---------------------------------------------------\n",
      "Fold 0 ROC AUC is: 0.9981300075396239\n",
      "FOLD 1\n",
      "---------------------------------------------------\n",
      "Fold 1 ROC AUC is: 0.9979875869068966\n",
      "FOLD 2\n",
      "---------------------------------------------------\n",
      "Fold 2 ROC AUC is: 0.9981735019234463\n",
      "FOLD 3\n",
      "---------------------------------------------------\n",
      "Fold 3 ROC AUC is: 0.9981780269082852\n",
      "FOLD 4\n",
      "---------------------------------------------------\n",
      "Fold 4 ROC AUC is: 0.998292429643796\n"
     ]
    },
    {
     "name": "stderr",
     "output_type": "stream",
     "text": [
      "\u001b[32m[I 2021-11-27 04:16:12,231]\u001b[0m Trial 39 finished with value: 0.9981521275007199 and parameters: {'iterations': 16406, 'depth': 5, 'learning_rate': 0.14999198725501411, 'random_strength': 12, 'od_wait': 1256, 'reg_lambda': 55.06996079002329, 'border_count': 230, 'min_child_samples': 8, 'leaf_estimation_iterations': 1}. Best is trial 34 with value: 0.9983778156310692.\u001b[0m\n"
     ]
    },
    {
     "name": "stdout",
     "output_type": "stream",
     "text": [
      "Valid AUC score for catboost model is 0.9981521275007199\n",
      "FOLD 0\n",
      "---------------------------------------------------\n",
      "Fold 0 ROC AUC is: 0.9973549386622828\n",
      "FOLD 1\n",
      "---------------------------------------------------\n",
      "Fold 1 ROC AUC is: 0.9973220814510639\n",
      "FOLD 2\n",
      "---------------------------------------------------\n",
      "Fold 2 ROC AUC is: 0.9976845526065274\n",
      "FOLD 3\n",
      "---------------------------------------------------\n",
      "Fold 3 ROC AUC is: 0.997380726170509\n",
      "FOLD 4\n",
      "---------------------------------------------------\n",
      "Fold 4 ROC AUC is: 0.9976455365075368\n"
     ]
    },
    {
     "name": "stderr",
     "output_type": "stream",
     "text": [
      "\u001b[32m[I 2021-11-27 04:23:28,054]\u001b[0m Trial 40 finished with value: 0.9974772074032497 and parameters: {'iterations': 12401, 'depth': 4, 'learning_rate': 0.060467454714971565, 'random_strength': 5, 'od_wait': 1512, 'reg_lambda': 47.42592951228957, 'border_count': 152, 'min_child_samples': 11, 'leaf_estimation_iterations': 2}. Best is trial 34 with value: 0.9983778156310692.\u001b[0m\n"
     ]
    },
    {
     "name": "stdout",
     "output_type": "stream",
     "text": [
      "Valid AUC score for catboost model is 0.9974772074032497\n",
      "FOLD 0\n",
      "---------------------------------------------------\n",
      "Fold 0 ROC AUC is: 0.9979892254131898\n",
      "FOLD 1\n",
      "---------------------------------------------------\n",
      "Fold 1 ROC AUC is: 0.997863007141204\n",
      "FOLD 2\n",
      "---------------------------------------------------\n",
      "Fold 2 ROC AUC is: 0.9979663127450522\n",
      "FOLD 3\n",
      "---------------------------------------------------\n",
      "Fold 3 ROC AUC is: 0.9979435077727778\n",
      "FOLD 4\n",
      "---------------------------------------------------\n",
      "Fold 4 ROC AUC is: 0.9981033758972965\n"
     ]
    },
    {
     "name": "stderr",
     "output_type": "stream",
     "text": [
      "\u001b[32m[I 2021-11-27 04:31:01,011]\u001b[0m Trial 41 finished with value: 0.9979727299840924 and parameters: {'iterations': 9820, 'depth': 5, 'learning_rate': 0.03609417614568331, 'random_strength': 26, 'od_wait': 1374, 'reg_lambda': 40.8926316823617, 'border_count': 275, 'min_child_samples': 10, 'leaf_estimation_iterations': 2}. Best is trial 34 with value: 0.9983778156310692.\u001b[0m\n"
     ]
    },
    {
     "name": "stdout",
     "output_type": "stream",
     "text": [
      "Valid AUC score for catboost model is 0.9979727299840924\n",
      "FOLD 0\n",
      "---------------------------------------------------\n",
      "Fold 0 ROC AUC is: 0.9981659548984292\n",
      "FOLD 1\n",
      "---------------------------------------------------\n",
      "Fold 1 ROC AUC is: 0.9981019820595548\n",
      "FOLD 2\n",
      "---------------------------------------------------\n",
      "Fold 2 ROC AUC is: 0.9982471078335611\n",
      "FOLD 3\n",
      "---------------------------------------------------\n",
      "Fold 3 ROC AUC is: 0.9982047056434271\n",
      "FOLD 4\n",
      "---------------------------------------------------\n",
      "Fold 4 ROC AUC is: 0.998382640006989\n"
     ]
    },
    {
     "name": "stderr",
     "output_type": "stream",
     "text": [
      "\u001b[32m[I 2021-11-27 04:39:03,704]\u001b[0m Trial 42 finished with value: 0.9982203931850204 and parameters: {'iterations': 14550, 'depth': 3, 'learning_rate': 0.0887868553666281, 'random_strength': 16, 'od_wait': 1631, 'reg_lambda': 45.01417799957075, 'border_count': 262, 'min_child_samples': 6, 'leaf_estimation_iterations': 2}. Best is trial 34 with value: 0.9983778156310692.\u001b[0m\n"
     ]
    },
    {
     "name": "stdout",
     "output_type": "stream",
     "text": [
      "Valid AUC score for catboost model is 0.9982203931850204\n",
      "FOLD 0\n",
      "---------------------------------------------------\n",
      "Fold 0 ROC AUC is: 0.9981871344562635\n",
      "FOLD 1\n",
      "---------------------------------------------------\n",
      "Fold 1 ROC AUC is: 0.9980119023751395\n",
      "FOLD 2\n",
      "---------------------------------------------------\n",
      "Fold 2 ROC AUC is: 0.9982030676982661\n",
      "FOLD 3\n",
      "---------------------------------------------------\n",
      "Fold 3 ROC AUC is: 0.9982139674252911\n",
      "FOLD 4\n",
      "---------------------------------------------------\n"
     ]
    },
    {
     "name": "stderr",
     "output_type": "stream",
     "text": [
      "\u001b[32m[I 2021-11-27 04:49:08,241]\u001b[0m Trial 43 finished with value: 0.9981864503513076 and parameters: {'iterations': 19680, 'depth': 3, 'learning_rate': 0.0976451343713668, 'random_strength': 15, 'od_wait': 1680, 'reg_lambda': 49.46168678003946, 'border_count': 248, 'min_child_samples': 6, 'leaf_estimation_iterations': 2}. Best is trial 34 with value: 0.9983778156310692.\u001b[0m\n"
     ]
    },
    {
     "name": "stdout",
     "output_type": "stream",
     "text": [
      "Fold 4 ROC AUC is: 0.9983176550050591\n",
      "Valid AUC score for catboost model is 0.9981864503513076\n",
      "FOLD 0\n",
      "---------------------------------------------------\n",
      "Fold 0 ROC AUC is: 0.9982331781574506\n",
      "FOLD 1\n",
      "---------------------------------------------------\n",
      "Fold 1 ROC AUC is: 0.9981116045520064\n",
      "FOLD 2\n",
      "---------------------------------------------------\n",
      "Fold 2 ROC AUC is: 0.9982670003161437\n",
      "FOLD 3\n",
      "---------------------------------------------------\n",
      "Fold 3 ROC AUC is: 0.9982649607353432\n",
      "FOLD 4\n",
      "---------------------------------------------------\n",
      "Fold 4 ROC AUC is: 0.9983868450676521\n"
     ]
    },
    {
     "name": "stderr",
     "output_type": "stream",
     "text": [
      "\u001b[32m[I 2021-11-27 04:58:01,067]\u001b[0m Trial 44 finished with value: 0.9982524982291117 and parameters: {'iterations': 16000, 'depth': 3, 'learning_rate': 0.08057380767808768, 'random_strength': 18, 'od_wait': 1782, 'reg_lambda': 28.70145277080381, 'border_count': 263, 'min_child_samples': 7, 'leaf_estimation_iterations': 2}. Best is trial 34 with value: 0.9983778156310692.\u001b[0m\n"
     ]
    },
    {
     "name": "stdout",
     "output_type": "stream",
     "text": [
      "Valid AUC score for catboost model is 0.9982524982291117\n",
      "FOLD 0\n",
      "---------------------------------------------------\n",
      "Fold 0 ROC AUC is: 0.9971433120557301\n",
      "FOLD 1\n",
      "---------------------------------------------------\n",
      "Fold 1 ROC AUC is: 0.9970269178266096\n",
      "FOLD 2\n",
      "---------------------------------------------------\n",
      "Fold 2 ROC AUC is: 0.9971685899497817\n",
      "FOLD 3\n",
      "---------------------------------------------------\n",
      "Fold 3 ROC AUC is: 0.9971536222423307\n",
      "FOLD 4\n",
      "---------------------------------------------------\n",
      "Fold 4 ROC AUC is: 0.9972900635248094\n"
     ]
    },
    {
     "name": "stderr",
     "output_type": "stream",
     "text": [
      "\u001b[32m[I 2021-11-27 05:08:19,041]\u001b[0m Trial 45 finished with value: 0.9971563311274756 and parameters: {'iterations': 16950, 'depth': 4, 'learning_rate': 0.016699447422809384, 'random_strength': 10, 'od_wait': 1826, 'reg_lambda': 65.76102258141103, 'border_count': 264, 'min_child_samples': 8, 'leaf_estimation_iterations': 1}. Best is trial 34 with value: 0.9983778156310692.\u001b[0m\n"
     ]
    },
    {
     "name": "stdout",
     "output_type": "stream",
     "text": [
      "Valid AUC score for catboost model is 0.9971563311274756\n",
      "FOLD 0\n",
      "---------------------------------------------------\n",
      "Fold 0 ROC AUC is: 0.9981731103535011\n",
      "FOLD 1\n",
      "---------------------------------------------------\n",
      "Fold 1 ROC AUC is: 0.9981738467574639\n",
      "FOLD 2\n",
      "---------------------------------------------------\n",
      "Fold 2 ROC AUC is: 0.998165624202379\n",
      "FOLD 3\n",
      "---------------------------------------------------\n",
      "Fold 3 ROC AUC is: 0.9981457792623758\n",
      "FOLD 4\n",
      "---------------------------------------------------\n"
     ]
    },
    {
     "name": "stderr",
     "output_type": "stream",
     "text": [
      "\u001b[32m[I 2021-11-27 05:17:20,190]\u001b[0m Trial 46 finished with value: 0.9981828307072562 and parameters: {'iterations': 12747, 'depth': 5, 'learning_rate': 0.1915431772581275, 'random_strength': 34, 'od_wait': 1994, 'reg_lambda': 28.62781115693072, 'border_count': 264, 'min_child_samples': 12, 'leaf_estimation_iterations': 3}. Best is trial 34 with value: 0.9983778156310692.\u001b[0m\n"
     ]
    },
    {
     "name": "stdout",
     "output_type": "stream",
     "text": [
      "Fold 4 ROC AUC is: 0.9982558125425156\n",
      "Valid AUC score for catboost model is 0.9981828307072562\n",
      "FOLD 0\n",
      "---------------------------------------------------\n",
      "Fold 0 ROC AUC is: 0.997985982711136\n",
      "FOLD 1\n",
      "---------------------------------------------------\n",
      "Fold 1 ROC AUC is: 0.9978552572720196\n",
      "FOLD 2\n",
      "---------------------------------------------------\n",
      "Fold 2 ROC AUC is: 0.9980146594716329\n",
      "FOLD 3\n",
      "---------------------------------------------------\n",
      "Fold 3 ROC AUC is: 0.9979693987324822\n",
      "FOLD 4\n",
      "---------------------------------------------------\n"
     ]
    },
    {
     "name": "stderr",
     "output_type": "stream",
     "text": [
      "\u001b[32m[I 2021-11-27 05:28:07,515]\u001b[0m Trial 47 finished with value: 0.9979859276488259 and parameters: {'iterations': 21588, 'depth': 3, 'learning_rate': 0.3373511856668134, 'random_strength': 20, 'od_wait': 1760, 'reg_lambda': 36.360194726479804, 'border_count': 246, 'min_child_samples': 5, 'leaf_estimation_iterations': 2}. Best is trial 34 with value: 0.9983778156310692.\u001b[0m\n"
     ]
    },
    {
     "name": "stdout",
     "output_type": "stream",
     "text": [
      "Fold 4 ROC AUC is: 0.9981070034221992\n",
      "Valid AUC score for catboost model is 0.9979859276488259\n",
      "FOLD 0\n",
      "---------------------------------------------------\n",
      "Fold 0 ROC AUC is: 0.9981434847073813\n",
      "FOLD 1\n",
      "---------------------------------------------------\n",
      "Fold 1 ROC AUC is: 0.9979962060891684\n",
      "FOLD 2\n",
      "---------------------------------------------------\n",
      "Fold 2 ROC AUC is: 0.9981890611313327\n",
      "FOLD 3\n",
      "---------------------------------------------------\n",
      "Fold 3 ROC AUC is: 0.9981578633039497\n",
      "FOLD 4\n",
      "---------------------------------------------------\n",
      "Fold 4 ROC AUC is: 0.9982923740580635\n"
     ]
    },
    {
     "name": "stderr",
     "output_type": "stream",
     "text": [
      "\u001b[32m[I 2021-11-27 05:39:51,183]\u001b[0m Trial 48 finished with value: 0.9981555647855913 and parameters: {'iterations': 19790, 'depth': 4, 'learning_rate': 0.07663839071971747, 'random_strength': 30, 'od_wait': 1505, 'reg_lambda': 29.146952349850583, 'border_count': 235, 'min_child_samples': 7, 'leaf_estimation_iterations': 3}. Best is trial 34 with value: 0.9983778156310692.\u001b[0m\n"
     ]
    },
    {
     "name": "stdout",
     "output_type": "stream",
     "text": [
      "Valid AUC score for catboost model is 0.9981555647855913\n",
      "FOLD 0\n",
      "---------------------------------------------------\n",
      "Fold 0 ROC AUC is: 0.9978457725319785\n",
      "FOLD 1\n",
      "---------------------------------------------------\n",
      "Fold 1 ROC AUC is: 0.9976296239604425\n",
      "FOLD 2\n",
      "---------------------------------------------------\n",
      "Fold 2 ROC AUC is: 0.9978647023175882\n",
      "FOLD 3\n",
      "---------------------------------------------------\n",
      "Fold 3 ROC AUC is: 0.9978797349327455\n",
      "FOLD 4\n",
      "---------------------------------------------------\n",
      "Fold 4 ROC AUC is: 0.9980074410374425\n"
     ]
    },
    {
     "name": "stderr",
     "output_type": "stream",
     "text": [
      "\u001b[32m[I 2021-11-27 05:47:56,985]\u001b[0m Trial 49 finished with value: 0.9978453832053039 and parameters: {'iterations': 15402, 'depth': 3, 'learning_rate': 0.03952212981398525, 'random_strength': 59, 'od_wait': 1595, 'reg_lambda': 38.854874989576686, 'border_count': 219, 'min_child_samples': 10, 'leaf_estimation_iterations': 2}. Best is trial 34 with value: 0.9983778156310692.\u001b[0m\n"
     ]
    },
    {
     "name": "stdout",
     "output_type": "stream",
     "text": [
      "Valid AUC score for catboost model is 0.9978453832053039\n",
      "FOLD 0\n",
      "---------------------------------------------------\n",
      "Fold 0 ROC AUC is: 0.9981482414856083\n",
      "FOLD 1\n",
      "---------------------------------------------------\n",
      "Fold 1 ROC AUC is: 0.9981120293394695\n",
      "FOLD 2\n",
      "---------------------------------------------------\n",
      "Fold 2 ROC AUC is: 0.9981644134426239\n",
      "FOLD 3\n",
      "---------------------------------------------------\n",
      "Fold 3 ROC AUC is: 0.9981613040535494\n",
      "FOLD 4\n",
      "---------------------------------------------------\n",
      "Fold 4 ROC AUC is: 0.9982709432568292\n"
     ]
    },
    {
     "name": "stderr",
     "output_type": "stream",
     "text": [
      "\u001b[32m[I 2021-11-27 06:02:00,228]\u001b[0m Trial 50 finished with value: 0.9981711066085406 and parameters: {'iterations': 23046, 'depth': 4, 'learning_rate': 0.025533037320341914, 'random_strength': 5, 'od_wait': 179, 'reg_lambda': 12.981968759583019, 'border_count': 269, 'min_child_samples': 14, 'leaf_estimation_iterations': 1}. Best is trial 34 with value: 0.9983778156310692.\u001b[0m\n"
     ]
    },
    {
     "name": "stdout",
     "output_type": "stream",
     "text": [
      "Valid AUC score for catboost model is 0.9981711066085406\n",
      "FOLD 0\n",
      "---------------------------------------------------\n",
      "Fold 0 ROC AUC is: 0.9981300709040454\n",
      "FOLD 1\n",
      "---------------------------------------------------\n",
      "Fold 1 ROC AUC is: 0.99794389885071\n",
      "FOLD 2\n",
      "---------------------------------------------------\n",
      "Fold 2 ROC AUC is: 0.9981584433074606\n",
      "FOLD 3\n",
      "---------------------------------------------------\n",
      "Fold 3 ROC AUC is: 0.9981743590547573\n",
      "FOLD 4\n",
      "---------------------------------------------------\n",
      "Fold 4 ROC AUC is: 0.998279435367111\n"
     ]
    },
    {
     "name": "stderr",
     "output_type": "stream",
     "text": [
      "\u001b[32m[I 2021-11-27 06:09:33,013]\u001b[0m Trial 51 finished with value: 0.9981369478612026 and parameters: {'iterations': 13632, 'depth': 3, 'learning_rate': 0.08316658159491545, 'random_strength': 17, 'od_wait': 1647, 'reg_lambda': 45.84067686987012, 'border_count': 257, 'min_child_samples': 5, 'leaf_estimation_iterations': 2}. Best is trial 34 with value: 0.9983778156310692.\u001b[0m\n"
     ]
    },
    {
     "name": "stdout",
     "output_type": "stream",
     "text": [
      "Valid AUC score for catboost model is 0.9981369478612026\n",
      "FOLD 0\n",
      "---------------------------------------------------\n",
      "Fold 0 ROC AUC is: 0.9979194214435695\n",
      "FOLD 1\n",
      "---------------------------------------------------\n",
      "Fold 1 ROC AUC is: 0.9978589243999179\n",
      "FOLD 2\n",
      "---------------------------------------------------\n",
      "Fold 2 ROC AUC is: 0.997971004300126\n",
      "FOLD 3\n",
      "---------------------------------------------------\n",
      "Fold 3 ROC AUC is: 0.997976117617486\n",
      "FOLD 4\n",
      "---------------------------------------------------\n",
      "Fold 4 ROC AUC is: 0.9981472088604404\n"
     ]
    },
    {
     "name": "stderr",
     "output_type": "stream",
     "text": [
      "\u001b[32m[I 2021-11-27 06:15:34,687]\u001b[0m Trial 52 finished with value: 0.9979743707608703 and parameters: {'iterations': 10720, 'depth': 3, 'learning_rate': 0.06347558084159273, 'random_strength': 14, 'od_wait': 1894, 'reg_lambda': 49.66274720632738, 'border_count': 261, 'min_child_samples': 8, 'leaf_estimation_iterations': 2}. Best is trial 34 with value: 0.9983778156310692.\u001b[0m\n"
     ]
    },
    {
     "name": "stdout",
     "output_type": "stream",
     "text": [
      "Valid AUC score for catboost model is 0.9979743707608703\n",
      "FOLD 0\n",
      "---------------------------------------------------\n",
      "Fold 0 ROC AUC is: 0.9983145853198582\n",
      "FOLD 1\n",
      "---------------------------------------------------\n",
      "Fold 1 ROC AUC is: 0.9983065088830517\n",
      "FOLD 2\n",
      "---------------------------------------------------\n",
      "Fold 2 ROC AUC is: 0.9983374036610854\n",
      "FOLD 3\n",
      "---------------------------------------------------\n",
      "Fold 3 ROC AUC is: 0.998318840238891\n",
      "FOLD 4\n",
      "---------------------------------------------------\n",
      "Fold 4 ROC AUC is: 0.9984280960735218\n"
     ]
    },
    {
     "name": "stderr",
     "output_type": "stream",
     "text": [
      "\u001b[32m[I 2021-11-27 06:25:36,694]\u001b[0m Trial 53 finished with value: 0.9983406326809829 and parameters: {'iterations': 18407, 'depth': 3, 'learning_rate': 0.11984461312645024, 'random_strength': 24, 'od_wait': 534, 'reg_lambda': 53.02149742670988, 'border_count': 268, 'min_child_samples': 7, 'leaf_estimation_iterations': 2}. Best is trial 34 with value: 0.9983778156310692.\u001b[0m\n"
     ]
    },
    {
     "name": "stdout",
     "output_type": "stream",
     "text": [
      "Valid AUC score for catboost model is 0.9983406326809829\n",
      "FOLD 0\n",
      "---------------------------------------------------\n",
      "Fold 0 ROC AUC is: 0.9982453141116227\n",
      "FOLD 1\n",
      "---------------------------------------------------\n",
      "Fold 1 ROC AUC is: 0.9982222716942701\n",
      "FOLD 2\n",
      "---------------------------------------------------\n",
      "Fold 2 ROC AUC is: 0.9982908472245828\n",
      "FOLD 3\n",
      "---------------------------------------------------\n",
      "Fold 3 ROC AUC is: 0.9982375350867925\n",
      "FOLD 4\n",
      "---------------------------------------------------\n",
      "Fold 4 ROC AUC is: 0.9983578723942331\n"
     ]
    },
    {
     "name": "stderr",
     "output_type": "stream",
     "text": [
      "\u001b[32m[I 2021-11-27 06:39:14,257]\u001b[0m Trial 54 finished with value: 0.9982702795666598 and parameters: {'iterations': 19210, 'depth': 5, 'learning_rate': 0.24270967230758775, 'random_strength': 24, 'od_wait': 598, 'reg_lambda': 58.079226074290226, 'border_count': 274, 'min_child_samples': 9, 'leaf_estimation_iterations': 2}. Best is trial 34 with value: 0.9983778156310692.\u001b[0m\n"
     ]
    },
    {
     "name": "stdout",
     "output_type": "stream",
     "text": [
      "Valid AUC score for catboost model is 0.9982702795666598\n",
      "FOLD 0\n",
      "---------------------------------------------------\n",
      "Fold 0 ROC AUC is: 0.998134209323336\n",
      "FOLD 1\n",
      "---------------------------------------------------\n",
      "Fold 1 ROC AUC is: 0.9979819465189108\n",
      "FOLD 2\n",
      "---------------------------------------------------\n",
      "Fold 2 ROC AUC is: 0.9981717794537032\n",
      "FOLD 3\n",
      "---------------------------------------------------\n",
      "Fold 3 ROC AUC is: 0.9981395198667152\n",
      "FOLD 4\n",
      "---------------------------------------------------\n",
      "Fold 4 ROC AUC is: 0.9982745513267254\n"
     ]
    },
    {
     "name": "stderr",
     "output_type": "stream",
     "text": [
      "\u001b[32m[I 2021-11-27 06:53:55,436]\u001b[0m Trial 55 finished with value: 0.9981403950078341 and parameters: {'iterations': 22888, 'depth': 5, 'learning_rate': 0.1121585203513995, 'random_strength': 48, 'od_wait': 522, 'reg_lambda': 53.59625456130122, 'border_count': 250, 'min_child_samples': 9, 'leaf_estimation_iterations': 2}. Best is trial 34 with value: 0.9983778156310692.\u001b[0m\n"
     ]
    },
    {
     "name": "stdout",
     "output_type": "stream",
     "text": [
      "Valid AUC score for catboost model is 0.9981403950078341\n",
      "FOLD 0\n",
      "---------------------------------------------------\n",
      "Fold 0 ROC AUC is: 0.9981469558548489\n",
      "FOLD 1\n",
      "---------------------------------------------------\n",
      "Fold 1 ROC AUC is: 0.9981377403790904\n",
      "FOLD 2\n",
      "---------------------------------------------------\n",
      "Fold 2 ROC AUC is: 0.9981599278501259\n",
      "FOLD 3\n",
      "---------------------------------------------------\n",
      "Fold 3 ROC AUC is: 0.9981176005850109\n",
      "FOLD 4\n",
      "---------------------------------------------------\n",
      "Fold 4 ROC AUC is: 0.9982699705065105\n"
     ]
    },
    {
     "name": "stderr",
     "output_type": "stream",
     "text": [
      "\u001b[32m[I 2021-11-27 07:11:48,057]\u001b[0m Trial 56 finished with value: 0.9981660179402182 and parameters: {'iterations': 18759, 'depth': 7, 'learning_rate': 0.15614185708648307, 'random_strength': 30, 'od_wait': 701, 'reg_lambda': 59.14416184987919, 'border_count': 268, 'min_child_samples': 11, 'leaf_estimation_iterations': 3}. Best is trial 34 with value: 0.9983778156310692.\u001b[0m\n"
     ]
    },
    {
     "name": "stdout",
     "output_type": "stream",
     "text": [
      "Valid AUC score for catboost model is 0.9981660179402182\n",
      "FOLD 0\n",
      "---------------------------------------------------\n",
      "Fold 0 ROC AUC is: 0.9978619379631027\n",
      "FOLD 1\n",
      "---------------------------------------------------\n",
      "Fold 1 ROC AUC is: 0.9976928187406666\n",
      "FOLD 2\n",
      "---------------------------------------------------\n",
      "Fold 2 ROC AUC is: 0.9979007040754482\n",
      "FOLD 3\n",
      "---------------------------------------------------\n",
      "Fold 3 ROC AUC is: 0.9978180204826617\n",
      "FOLD 4\n",
      "---------------------------------------------------\n",
      "Fold 4 ROC AUC is: 0.997986718676369\n"
     ]
    },
    {
     "name": "stderr",
     "output_type": "stream",
     "text": [
      "\u001b[32m[I 2021-11-27 07:28:05,512]\u001b[0m Trial 57 finished with value: 0.9978521076083431 and parameters: {'iterations': 26416, 'depth': 5, 'learning_rate': 0.24374021645862196, 'random_strength': 43, 'od_wait': 436, 'reg_lambda': 2.9599909278861105, 'border_count': 226, 'min_child_samples': 7, 'leaf_estimation_iterations': 1}. Best is trial 34 with value: 0.9983778156310692.\u001b[0m\n"
     ]
    },
    {
     "name": "stdout",
     "output_type": "stream",
     "text": [
      "Valid AUC score for catboost model is 0.9978521076083431\n",
      "FOLD 0\n",
      "---------------------------------------------------\n",
      "Fold 0 ROC AUC is: 0.9981407692084296\n",
      "FOLD 1\n",
      "---------------------------------------------------\n",
      "Fold 1 ROC AUC is: 0.9980175869654856\n",
      "FOLD 2\n",
      "---------------------------------------------------\n",
      "Fold 2 ROC AUC is: 0.9981965024674562\n",
      "FOLD 3\n",
      "---------------------------------------------------\n",
      "Fold 3 ROC AUC is: 0.998157874978815\n",
      "FOLD 4\n",
      "---------------------------------------------------\n",
      "Fold 4 ROC AUC is: 0.9982925791694164\n"
     ]
    },
    {
     "name": "stderr",
     "output_type": "stream",
     "text": [
      "\u001b[32m[I 2021-11-27 07:39:52,054]\u001b[0m Trial 58 finished with value: 0.9981606852405798 and parameters: {'iterations': 20815, 'depth': 4, 'learning_rate': 0.13358008118904574, 'random_strength': 24, 'od_wait': 552, 'reg_lambda': 58.23254768587217, 'border_count': 242, 'min_child_samples': 9, 'leaf_estimation_iterations': 2}. Best is trial 34 with value: 0.9983778156310692.\u001b[0m\n"
     ]
    },
    {
     "name": "stdout",
     "output_type": "stream",
     "text": [
      "Valid AUC score for catboost model is 0.9981606852405798\n",
      "FOLD 0\n",
      "---------------------------------------------------\n",
      "Fold 0 ROC AUC is: 0.9980577256876324\n",
      "FOLD 1\n",
      "---------------------------------------------------\n",
      "Fold 1 ROC AUC is: 0.9978910659099659\n",
      "FOLD 2\n",
      "---------------------------------------------------\n",
      "Fold 2 ROC AUC is: 0.9980967229110906\n",
      "FOLD 3\n",
      "---------------------------------------------------\n",
      "Fold 3 ROC AUC is: 0.9980497685054885\n",
      "FOLD 4\n",
      "---------------------------------------------------\n",
      "Fold 4 ROC AUC is: 0.9981847270064443\n"
     ]
    },
    {
     "name": "stderr",
     "output_type": "stream",
     "text": [
      "\u001b[32m[I 2021-11-27 07:51:39,121]\u001b[0m Trial 59 finished with value: 0.998055858986667 and parameters: {'iterations': 15994, 'depth': 6, 'learning_rate': 0.20129272017710875, 'random_strength': 35, 'od_wait': 280, 'reg_lambda': 65.32479115625868, 'border_count': 253, 'min_child_samples': 10, 'leaf_estimation_iterations': 2}. Best is trial 34 with value: 0.9983778156310692.\u001b[0m\n"
     ]
    },
    {
     "name": "stdout",
     "output_type": "stream",
     "text": [
      "Valid AUC score for catboost model is 0.998055858986667\n",
      "FOLD 0\n",
      "---------------------------------------------------\n",
      "Fold 0 ROC AUC is: 0.9979698739744941\n",
      "FOLD 1\n",
      "---------------------------------------------------\n",
      "Fold 1 ROC AUC is: 0.9977830803775651\n",
      "FOLD 2\n",
      "---------------------------------------------------\n",
      "Fold 2 ROC AUC is: 0.9980296052390282\n",
      "FOLD 3\n",
      "---------------------------------------------------\n",
      "Fold 3 ROC AUC is: 0.9980324260489707\n",
      "FOLD 4\n",
      "---------------------------------------------------\n",
      "Fold 4 ROC AUC is: 0.9981452664170185\n"
     ]
    },
    {
     "name": "stderr",
     "output_type": "stream",
     "text": [
      "\u001b[32m[I 2021-11-27 08:00:32,201]\u001b[0m Trial 60 finished with value: 0.997991945118192 and parameters: {'iterations': 18072, 'depth': 3, 'learning_rate': 0.05237663237388272, 'random_strength': 2, 'od_wait': 732, 'reg_lambda': 62.94437458537954, 'border_count': 206, 'min_child_samples': 12, 'leaf_estimation_iterations': 1}. Best is trial 34 with value: 0.9983778156310692.\u001b[0m\n"
     ]
    },
    {
     "name": "stdout",
     "output_type": "stream",
     "text": [
      "Valid AUC score for catboost model is 0.997991945118192\n",
      "FOLD 0\n",
      "---------------------------------------------------\n",
      "Fold 0 ROC AUC is: 0.9981251062460503\n",
      "FOLD 1\n",
      "---------------------------------------------------\n",
      "Fold 1 ROC AUC is: 0.9980740805010748\n",
      "FOLD 2\n",
      "---------------------------------------------------\n",
      "Fold 2 ROC AUC is: 0.9981966300475131\n",
      "FOLD 3\n",
      "---------------------------------------------------\n",
      "Fold 3 ROC AUC is: 0.9980381636893397\n",
      "FOLD 4\n",
      "---------------------------------------------------\n",
      "Fold 4 ROC AUC is: 0.9981312949431561\n"
     ]
    },
    {
     "name": "stderr",
     "output_type": "stream",
     "text": [
      "\u001b[32m[I 2021-11-27 08:12:11,841]\u001b[0m Trial 61 finished with value: 0.9981126093369344 and parameters: {'iterations': 19090, 'depth': 4, 'learning_rate': 0.496713193395777, 'random_strength': 27, 'od_wait': 945, 'reg_lambda': 52.29034023073768, 'border_count': 272, 'min_child_samples': 7, 'leaf_estimation_iterations': 2}. Best is trial 34 with value: 0.9983778156310692.\u001b[0m\n"
     ]
    },
    {
     "name": "stdout",
     "output_type": "stream",
     "text": [
      "Valid AUC score for catboost model is 0.9981126093369344\n",
      "FOLD 0\n",
      "---------------------------------------------------\n",
      "Fold 0 ROC AUC is: 0.9982166697802913\n",
      "FOLD 1\n",
      "---------------------------------------------------\n",
      "Fold 1 ROC AUC is: 0.9982426036680354\n",
      "FOLD 2\n",
      "---------------------------------------------------\n",
      "Fold 2 ROC AUC is: 0.9982886800313303\n",
      "FOLD 3\n",
      "---------------------------------------------------\n",
      "Fold 3 ROC AUC is: 0.9981915436226201\n",
      "FOLD 4\n",
      "---------------------------------------------------\n",
      "Fold 4 ROC AUC is: 0.9982901431246897\n"
     ]
    },
    {
     "name": "stderr",
     "output_type": "stream",
     "text": [
      "\u001b[32m[I 2021-11-27 08:22:48,408]\u001b[0m Trial 62 finished with value: 0.9982454936442338 and parameters: {'iterations': 16818, 'depth': 4, 'learning_rate': 0.26108598606901623, 'random_strength': 21, 'od_wait': 1134, 'reg_lambda': 21.64841270899416, 'border_count': 274, 'min_child_samples': 8, 'leaf_estimation_iterations': 2}. Best is trial 34 with value: 0.9983778156310692.\u001b[0m\n"
     ]
    },
    {
     "name": "stdout",
     "output_type": "stream",
     "text": [
      "Valid AUC score for catboost model is 0.9982454936442338\n",
      "FOLD 0\n",
      "---------------------------------------------------\n",
      "Fold 0 ROC AUC is: 0.9980910011800043\n",
      "FOLD 1\n",
      "---------------------------------------------------\n",
      "Fold 1 ROC AUC is: 0.9981363728859413\n",
      "FOLD 2\n",
      "---------------------------------------------------\n",
      "Fold 2 ROC AUC is: 0.9981429744340371\n",
      "FOLD 3\n",
      "---------------------------------------------------\n",
      "Fold 3 ROC AUC is: 0.9980675112431039\n",
      "FOLD 4\n",
      "---------------------------------------------------\n",
      "Fold 4 ROC AUC is: 0.9981890148898491\n"
     ]
    },
    {
     "name": "stderr",
     "output_type": "stream",
     "text": [
      "\u001b[32m[I 2021-11-27 08:34:20,274]\u001b[0m Trial 63 finished with value: 0.9981253414254062 and parameters: {'iterations': 16933, 'depth': 5, 'learning_rate': 0.2498979836086294, 'random_strength': 23, 'od_wait': 1132, 'reg_lambda': 20.993688780468684, 'border_count': 267, 'min_child_samples': 6, 'leaf_estimation_iterations': 2}. Best is trial 34 with value: 0.9983778156310692.\u001b[0m\n"
     ]
    },
    {
     "name": "stdout",
     "output_type": "stream",
     "text": [
      "Valid AUC score for catboost model is 0.9981253414254062\n",
      "FOLD 0\n",
      "---------------------------------------------------\n",
      "Fold 0 ROC AUC is: 0.9982727857842879\n",
      "FOLD 1\n",
      "---------------------------------------------------\n",
      "Fold 1 ROC AUC is: 0.9982300524217058\n",
      "FOLD 2\n",
      "---------------------------------------------------\n",
      "Fold 2 ROC AUC is: 0.9982936175740952\n",
      "FOLD 3\n",
      "---------------------------------------------------\n",
      "Fold 3 ROC AUC is: 0.9982072749477208\n",
      "FOLD 4\n",
      "---------------------------------------------------\n"
     ]
    },
    {
     "name": "stderr",
     "output_type": "stream",
     "text": [
      "\u001b[32m[I 2021-11-27 08:53:06,381]\u001b[0m Trial 64 finished with value: 0.9982746082623832 and parameters: {'iterations': 29903, 'depth': 4, 'learning_rate': 0.18688021203180408, 'random_strength': 11, 'od_wait': 807, 'reg_lambda': 16.636370180935288, 'border_count': 275, 'min_child_samples': 9, 'leaf_estimation_iterations': 2}. Best is trial 34 with value: 0.9983778156310692.\u001b[0m\n"
     ]
    },
    {
     "name": "stdout",
     "output_type": "stream",
     "text": [
      "Fold 4 ROC AUC is: 0.9983722640962331\n",
      "Valid AUC score for catboost model is 0.9982746082623832\n",
      "FOLD 0\n",
      "---------------------------------------------------\n",
      "Fold 0 ROC AUC is: 0.9983138216118327\n",
      "FOLD 1\n",
      "---------------------------------------------------\n",
      "Fold 1 ROC AUC is: 0.9982451818610554\n",
      "FOLD 2\n",
      "---------------------------------------------------\n",
      "Fold 2 ROC AUC is: 0.9982973874396951\n",
      "FOLD 3\n",
      "---------------------------------------------------\n",
      "Fold 3 ROC AUC is: 0.9981993763453719\n",
      "FOLD 4\n",
      "---------------------------------------------------\n",
      "Fold 4 ROC AUC is: 0.9983739697444346\n"
     ]
    },
    {
     "name": "stderr",
     "output_type": "stream",
     "text": [
      "\u001b[32m[I 2021-11-27 09:07:21,724]\u001b[0m Trial 65 finished with value: 0.9982853762039546 and parameters: {'iterations': 22307, 'depth': 4, 'learning_rate': 0.17563640574338138, 'random_strength': 10, 'od_wait': 822, 'reg_lambda': 10.14489394215644, 'border_count': 275, 'min_child_samples': 10, 'leaf_estimation_iterations': 2}. Best is trial 34 with value: 0.9983778156310692.\u001b[0m\n"
     ]
    },
    {
     "name": "stdout",
     "output_type": "stream",
     "text": [
      "Valid AUC score for catboost model is 0.9982853762039546\n",
      "FOLD 0\n",
      "---------------------------------------------------\n",
      "Fold 0 ROC AUC is: 0.9980763420434576\n",
      "FOLD 1\n",
      "---------------------------------------------------\n",
      "Fold 1 ROC AUC is: 0.9979552327251145\n",
      "FOLD 2\n",
      "---------------------------------------------------\n",
      "Fold 2 ROC AUC is: 0.9980944970699254\n",
      "FOLD 3\n",
      "---------------------------------------------------\n",
      "Fold 3 ROC AUC is: 0.998062246434781\n",
      "FOLD 4\n",
      "---------------------------------------------------\n",
      "Fold 4 ROC AUC is: 0.9981897327795843\n"
     ]
    },
    {
     "name": "stderr",
     "output_type": "stream",
     "text": [
      "\u001b[32m[I 2021-11-27 09:22:27,044]\u001b[0m Trial 66 finished with value: 0.9980752769594986 and parameters: {'iterations': 29040, 'depth': 3, 'learning_rate': 0.15787023602563963, 'random_strength': 7, 'od_wait': 811, 'reg_lambda': 14.802182493247226, 'border_count': 253, 'min_child_samples': 11, 'leaf_estimation_iterations': 3}. Best is trial 34 with value: 0.9983778156310692.\u001b[0m\n"
     ]
    },
    {
     "name": "stdout",
     "output_type": "stream",
     "text": [
      "Valid AUC score for catboost model is 0.9980752769594986\n",
      "FOLD 0\n",
      "---------------------------------------------------\n",
      "Fold 0 ROC AUC is: 0.998064894204668\n",
      "FOLD 1\n",
      "---------------------------------------------------\n",
      "Fold 1 ROC AUC is: 0.9980294266650142\n",
      "FOLD 2\n",
      "---------------------------------------------------\n",
      "Fold 2 ROC AUC is: 0.9980345244369482\n",
      "FOLD 3\n",
      "---------------------------------------------------\n",
      "Fold 3 ROC AUC is: 0.9979926561761331\n",
      "FOLD 4\n",
      "---------------------------------------------------\n"
     ]
    },
    {
     "ename": "KeyboardInterrupt",
     "evalue": "",
     "output_type": "error",
     "traceback": [
      "\u001b[0;31m---------------------------------------------------------------------------\u001b[0m",
      "\u001b[0;31mKeyboardInterrupt\u001b[0m                         Traceback (most recent call last)",
      "\u001b[0;32m<ipython-input-19-6e10eeca719e>\u001b[0m in \u001b[0;36m<module>\u001b[0;34m\u001b[0m\n\u001b[1;32m      1\u001b[0m \u001b[0;32mfor\u001b[0m \u001b[0mx\u001b[0m \u001b[0;32min\u001b[0m \u001b[0mrange\u001b[0m\u001b[0;34m(\u001b[0m\u001b[0;36m200\u001b[0m\u001b[0;34m)\u001b[0m\u001b[0;34m:\u001b[0m\u001b[0;34m\u001b[0m\u001b[0;34m\u001b[0m\u001b[0m\n\u001b[0;32m----> 2\u001b[0;31m     \u001b[0mstudy\u001b[0m\u001b[0;34m.\u001b[0m\u001b[0moptimize\u001b[0m\u001b[0;34m(\u001b[0m\u001b[0mobjective\u001b[0m\u001b[0;34m,\u001b[0m \u001b[0mn_trials\u001b[0m \u001b[0;34m=\u001b[0m \u001b[0;36m1\u001b[0m\u001b[0;34m,\u001b[0m \u001b[0mcallbacks\u001b[0m \u001b[0;34m=\u001b[0m \u001b[0;34m[\u001b[0m\u001b[0mwandbc\u001b[0m\u001b[0;34m]\u001b[0m\u001b[0;34m)\u001b[0m \u001b[0;31m#n_jobs = multiprocessing.cpu_count())\u001b[0m\u001b[0;34m\u001b[0m\u001b[0;34m\u001b[0m\u001b[0m\n\u001b[0m\u001b[1;32m      3\u001b[0m     \u001b[0mdump\u001b[0m\u001b[0;34m(\u001b[0m\u001b[0mstudy\u001b[0m\u001b[0;34m,\u001b[0m \u001b[0mfilename\u001b[0m\u001b[0;34m=\u001b[0m\u001b[0mstudypath\u001b[0m\u001b[0;34m/\u001b[0m\u001b[0;34mf\"optuna-{exmodel_config['arch']}-lv{exmodel_config['level']}-study--{datetime.now().strftime('%Y%m%d')}.joblib\"\u001b[0m\u001b[0;34m)\u001b[0m\u001b[0;34m\u001b[0m\u001b[0;34m\u001b[0m\u001b[0m\n",
      "\u001b[0;32m~/anaconda3/envs/tabular-x/lib/python3.8/site-packages/optuna/study/study.py\u001b[0m in \u001b[0;36moptimize\u001b[0;34m(self, func, n_trials, timeout, n_jobs, catch, callbacks, gc_after_trial, show_progress_bar)\u001b[0m\n\u001b[1;32m    398\u001b[0m             )\n\u001b[1;32m    399\u001b[0m \u001b[0;34m\u001b[0m\u001b[0m\n\u001b[0;32m--> 400\u001b[0;31m         _optimize(\n\u001b[0m\u001b[1;32m    401\u001b[0m             \u001b[0mstudy\u001b[0m\u001b[0;34m=\u001b[0m\u001b[0mself\u001b[0m\u001b[0;34m,\u001b[0m\u001b[0;34m\u001b[0m\u001b[0;34m\u001b[0m\u001b[0m\n\u001b[1;32m    402\u001b[0m             \u001b[0mfunc\u001b[0m\u001b[0;34m=\u001b[0m\u001b[0mfunc\u001b[0m\u001b[0;34m,\u001b[0m\u001b[0;34m\u001b[0m\u001b[0;34m\u001b[0m\u001b[0m\n",
      "\u001b[0;32m~/anaconda3/envs/tabular-x/lib/python3.8/site-packages/optuna/study/_optimize.py\u001b[0m in \u001b[0;36m_optimize\u001b[0;34m(study, func, n_trials, timeout, n_jobs, catch, callbacks, gc_after_trial, show_progress_bar)\u001b[0m\n\u001b[1;32m     64\u001b[0m     \u001b[0;32mtry\u001b[0m\u001b[0;34m:\u001b[0m\u001b[0;34m\u001b[0m\u001b[0;34m\u001b[0m\u001b[0m\n\u001b[1;32m     65\u001b[0m         \u001b[0;32mif\u001b[0m \u001b[0mn_jobs\u001b[0m \u001b[0;34m==\u001b[0m \u001b[0;36m1\u001b[0m\u001b[0;34m:\u001b[0m\u001b[0;34m\u001b[0m\u001b[0;34m\u001b[0m\u001b[0m\n\u001b[0;32m---> 66\u001b[0;31m             _optimize_sequential(\n\u001b[0m\u001b[1;32m     67\u001b[0m                 \u001b[0mstudy\u001b[0m\u001b[0;34m,\u001b[0m\u001b[0;34m\u001b[0m\u001b[0;34m\u001b[0m\u001b[0m\n\u001b[1;32m     68\u001b[0m                 \u001b[0mfunc\u001b[0m\u001b[0;34m,\u001b[0m\u001b[0;34m\u001b[0m\u001b[0;34m\u001b[0m\u001b[0m\n",
      "\u001b[0;32m~/anaconda3/envs/tabular-x/lib/python3.8/site-packages/optuna/study/_optimize.py\u001b[0m in \u001b[0;36m_optimize_sequential\u001b[0;34m(study, func, n_trials, timeout, catch, callbacks, gc_after_trial, reseed_sampler_rng, time_start, progress_bar)\u001b[0m\n\u001b[1;32m    161\u001b[0m \u001b[0;34m\u001b[0m\u001b[0m\n\u001b[1;32m    162\u001b[0m         \u001b[0;32mtry\u001b[0m\u001b[0;34m:\u001b[0m\u001b[0;34m\u001b[0m\u001b[0;34m\u001b[0m\u001b[0m\n\u001b[0;32m--> 163\u001b[0;31m             \u001b[0mtrial\u001b[0m \u001b[0;34m=\u001b[0m \u001b[0m_run_trial\u001b[0m\u001b[0;34m(\u001b[0m\u001b[0mstudy\u001b[0m\u001b[0;34m,\u001b[0m \u001b[0mfunc\u001b[0m\u001b[0;34m,\u001b[0m \u001b[0mcatch\u001b[0m\u001b[0;34m)\u001b[0m\u001b[0;34m\u001b[0m\u001b[0;34m\u001b[0m\u001b[0m\n\u001b[0m\u001b[1;32m    164\u001b[0m         \u001b[0;32mexcept\u001b[0m \u001b[0mException\u001b[0m\u001b[0;34m:\u001b[0m\u001b[0;34m\u001b[0m\u001b[0;34m\u001b[0m\u001b[0m\n\u001b[1;32m    165\u001b[0m             \u001b[0;32mraise\u001b[0m\u001b[0;34m\u001b[0m\u001b[0;34m\u001b[0m\u001b[0m\n",
      "\u001b[0;32m~/anaconda3/envs/tabular-x/lib/python3.8/site-packages/optuna/study/_optimize.py\u001b[0m in \u001b[0;36m_run_trial\u001b[0;34m(study, func, catch)\u001b[0m\n\u001b[1;32m    211\u001b[0m \u001b[0;34m\u001b[0m\u001b[0m\n\u001b[1;32m    212\u001b[0m     \u001b[0;32mtry\u001b[0m\u001b[0;34m:\u001b[0m\u001b[0;34m\u001b[0m\u001b[0;34m\u001b[0m\u001b[0m\n\u001b[0;32m--> 213\u001b[0;31m         \u001b[0mvalue_or_values\u001b[0m \u001b[0;34m=\u001b[0m \u001b[0mfunc\u001b[0m\u001b[0;34m(\u001b[0m\u001b[0mtrial\u001b[0m\u001b[0;34m)\u001b[0m\u001b[0;34m\u001b[0m\u001b[0;34m\u001b[0m\u001b[0m\n\u001b[0m\u001b[1;32m    214\u001b[0m     \u001b[0;32mexcept\u001b[0m \u001b[0mexceptions\u001b[0m\u001b[0;34m.\u001b[0m\u001b[0mTrialPruned\u001b[0m \u001b[0;32mas\u001b[0m \u001b[0me\u001b[0m\u001b[0;34m:\u001b[0m\u001b[0;34m\u001b[0m\u001b[0;34m\u001b[0m\u001b[0m\n\u001b[1;32m    215\u001b[0m         \u001b[0;31m# TODO(mamu): Handle multi-objective cases.\u001b[0m\u001b[0;34m\u001b[0m\u001b[0;34m\u001b[0m\u001b[0;34m\u001b[0m\u001b[0m\n",
      "\u001b[0;32m<ipython-input-16-81da58f6ba04>\u001b[0m in \u001b[0;36mobjective\u001b[0;34m(trial, arch)\u001b[0m\n\u001b[1;32m     62\u001b[0m         \u001b[0mX_valid\u001b[0m \u001b[0;34m=\u001b[0m \u001b[0mscaler\u001b[0m\u001b[0;34m.\u001b[0m\u001b[0mtransform\u001b[0m\u001b[0;34m(\u001b[0m\u001b[0mX_valid\u001b[0m\u001b[0;34m)\u001b[0m\u001b[0;34m\u001b[0m\u001b[0;34m\u001b[0m\u001b[0m\n\u001b[1;32m     63\u001b[0m \u001b[0;34m\u001b[0m\u001b[0m\n\u001b[0;32m---> 64\u001b[0;31m         \u001b[0mmodel\u001b[0m\u001b[0;34m.\u001b[0m\u001b[0mfit\u001b[0m\u001b[0;34m(\u001b[0m\u001b[0mX_train\u001b[0m\u001b[0;34m,\u001b[0m \u001b[0my_train\u001b[0m\u001b[0;34m)\u001b[0m\u001b[0;34m\u001b[0m\u001b[0;34m\u001b[0m\u001b[0m\n\u001b[0m\u001b[1;32m     65\u001b[0m         \u001b[0my_valid_preds\u001b[0m \u001b[0;34m=\u001b[0m \u001b[0mmodel\u001b[0m\u001b[0;34m.\u001b[0m\u001b[0mpredict_proba\u001b[0m\u001b[0;34m(\u001b[0m\u001b[0mX_valid\u001b[0m\u001b[0;34m)\u001b[0m\u001b[0;34m[\u001b[0m\u001b[0;34m:\u001b[0m\u001b[0;34m,\u001b[0m\u001b[0;36m1\u001b[0m\u001b[0;34m]\u001b[0m\u001b[0;34m\u001b[0m\u001b[0;34m\u001b[0m\u001b[0m\n\u001b[1;32m     66\u001b[0m \u001b[0;34m\u001b[0m\u001b[0m\n",
      "\u001b[0;32m~/anaconda3/envs/tabular-x/lib/python3.8/site-packages/catboost/core.py\u001b[0m in \u001b[0;36mfit\u001b[0;34m(self, X, y, cat_features, text_features, embedding_features, sample_weight, baseline, use_best_model, eval_set, verbose, logging_level, plot, column_description, verbose_eval, metric_period, silent, early_stopping_rounds, save_snapshot, snapshot_file, snapshot_interval, init_model, callbacks, log_cout, log_cerr)\u001b[0m\n\u001b[1;32m   4714\u001b[0m             \u001b[0mCatBoostClassifier\u001b[0m\u001b[0;34m.\u001b[0m\u001b[0m_check_is_compatible_loss\u001b[0m\u001b[0;34m(\u001b[0m\u001b[0mparams\u001b[0m\u001b[0;34m[\u001b[0m\u001b[0;34m'loss_function'\u001b[0m\u001b[0;34m]\u001b[0m\u001b[0;34m)\u001b[0m\u001b[0;34m\u001b[0m\u001b[0;34m\u001b[0m\u001b[0m\n\u001b[1;32m   4715\u001b[0m \u001b[0;34m\u001b[0m\u001b[0m\n\u001b[0;32m-> 4716\u001b[0;31m         self._fit(X, y, cat_features, text_features, embedding_features, None, sample_weight, None, None, None, None, baseline, use_best_model,\n\u001b[0m\u001b[1;32m   4717\u001b[0m                   \u001b[0meval_set\u001b[0m\u001b[0;34m,\u001b[0m \u001b[0mverbose\u001b[0m\u001b[0;34m,\u001b[0m \u001b[0mlogging_level\u001b[0m\u001b[0;34m,\u001b[0m \u001b[0mplot\u001b[0m\u001b[0;34m,\u001b[0m \u001b[0mcolumn_description\u001b[0m\u001b[0;34m,\u001b[0m \u001b[0mverbose_eval\u001b[0m\u001b[0;34m,\u001b[0m \u001b[0mmetric_period\u001b[0m\u001b[0;34m,\u001b[0m\u001b[0;34m\u001b[0m\u001b[0;34m\u001b[0m\u001b[0m\n\u001b[1;32m   4718\u001b[0m                   silent, early_stopping_rounds, save_snapshot, snapshot_file, snapshot_interval, init_model, callbacks, log_cout, log_cerr)\n",
      "\u001b[0;32m~/anaconda3/envs/tabular-x/lib/python3.8/site-packages/catboost/core.py\u001b[0m in \u001b[0;36m_fit\u001b[0;34m(self, X, y, cat_features, text_features, embedding_features, pairs, sample_weight, group_id, group_weight, subgroup_id, pairs_weight, baseline, use_best_model, eval_set, verbose, logging_level, plot, column_description, verbose_eval, metric_period, silent, early_stopping_rounds, save_snapshot, snapshot_file, snapshot_interval, init_model, callbacks, log_cout, log_cerr)\u001b[0m\n\u001b[1;32m   2035\u001b[0m         \u001b[0;32mwith\u001b[0m \u001b[0mlog_fixup\u001b[0m\u001b[0;34m(\u001b[0m\u001b[0mlog_cout\u001b[0m\u001b[0;34m,\u001b[0m \u001b[0mlog_cerr\u001b[0m\u001b[0;34m)\u001b[0m\u001b[0;34m,\u001b[0m\u001b[0;31m \u001b[0m\u001b[0;31m\\\u001b[0m\u001b[0;34m\u001b[0m\u001b[0;34m\u001b[0m\u001b[0m\n\u001b[1;32m   2036\u001b[0m             \u001b[0mplot_wrapper\u001b[0m\u001b[0;34m(\u001b[0m\u001b[0mplot\u001b[0m\u001b[0;34m,\u001b[0m \u001b[0;34m[\u001b[0m\u001b[0m_get_train_dir\u001b[0m\u001b[0;34m(\u001b[0m\u001b[0mself\u001b[0m\u001b[0;34m.\u001b[0m\u001b[0mget_params\u001b[0m\u001b[0;34m(\u001b[0m\u001b[0;34m)\u001b[0m\u001b[0;34m)\u001b[0m\u001b[0;34m]\u001b[0m\u001b[0;34m)\u001b[0m\u001b[0;34m:\u001b[0m\u001b[0;34m\u001b[0m\u001b[0;34m\u001b[0m\u001b[0m\n\u001b[0;32m-> 2037\u001b[0;31m             self._train(\n\u001b[0m\u001b[1;32m   2038\u001b[0m                 \u001b[0mtrain_pool\u001b[0m\u001b[0;34m,\u001b[0m\u001b[0;34m\u001b[0m\u001b[0;34m\u001b[0m\u001b[0m\n\u001b[1;32m   2039\u001b[0m                 \u001b[0mtrain_params\u001b[0m\u001b[0;34m[\u001b[0m\u001b[0;34m\"eval_sets\"\u001b[0m\u001b[0;34m]\u001b[0m\u001b[0;34m,\u001b[0m\u001b[0;34m\u001b[0m\u001b[0;34m\u001b[0m\u001b[0m\n",
      "\u001b[0;32m~/anaconda3/envs/tabular-x/lib/python3.8/site-packages/catboost/core.py\u001b[0m in \u001b[0;36m_train\u001b[0;34m(self, train_pool, test_pool, params, allow_clear_pool, init_model)\u001b[0m\n\u001b[1;32m   1462\u001b[0m \u001b[0;34m\u001b[0m\u001b[0m\n\u001b[1;32m   1463\u001b[0m     \u001b[0;32mdef\u001b[0m \u001b[0m_train\u001b[0m\u001b[0;34m(\u001b[0m\u001b[0mself\u001b[0m\u001b[0;34m,\u001b[0m \u001b[0mtrain_pool\u001b[0m\u001b[0;34m,\u001b[0m \u001b[0mtest_pool\u001b[0m\u001b[0;34m,\u001b[0m \u001b[0mparams\u001b[0m\u001b[0;34m,\u001b[0m \u001b[0mallow_clear_pool\u001b[0m\u001b[0;34m,\u001b[0m \u001b[0minit_model\u001b[0m\u001b[0;34m)\u001b[0m\u001b[0;34m:\u001b[0m\u001b[0;34m\u001b[0m\u001b[0;34m\u001b[0m\u001b[0m\n\u001b[0;32m-> 1464\u001b[0;31m         \u001b[0mself\u001b[0m\u001b[0;34m.\u001b[0m\u001b[0m_object\u001b[0m\u001b[0;34m.\u001b[0m\u001b[0m_train\u001b[0m\u001b[0;34m(\u001b[0m\u001b[0mtrain_pool\u001b[0m\u001b[0;34m,\u001b[0m \u001b[0mtest_pool\u001b[0m\u001b[0;34m,\u001b[0m \u001b[0mparams\u001b[0m\u001b[0;34m,\u001b[0m \u001b[0mallow_clear_pool\u001b[0m\u001b[0;34m,\u001b[0m \u001b[0minit_model\u001b[0m\u001b[0;34m.\u001b[0m\u001b[0m_object\u001b[0m \u001b[0;32mif\u001b[0m \u001b[0minit_model\u001b[0m \u001b[0;32melse\u001b[0m \u001b[0;32mNone\u001b[0m\u001b[0;34m)\u001b[0m\u001b[0;34m\u001b[0m\u001b[0;34m\u001b[0m\u001b[0m\n\u001b[0m\u001b[1;32m   1465\u001b[0m         \u001b[0mself\u001b[0m\u001b[0;34m.\u001b[0m\u001b[0m_set_trained_model_attributes\u001b[0m\u001b[0;34m(\u001b[0m\u001b[0;34m)\u001b[0m\u001b[0;34m\u001b[0m\u001b[0;34m\u001b[0m\u001b[0m\n\u001b[1;32m   1466\u001b[0m \u001b[0;34m\u001b[0m\u001b[0m\n",
      "\u001b[0;32m_catboost.pyx\u001b[0m in \u001b[0;36m_catboost._CatBoost._train\u001b[0;34m()\u001b[0m\n",
      "\u001b[0;32m_catboost.pyx\u001b[0m in \u001b[0;36m_catboost._CatBoost._train\u001b[0;34m()\u001b[0m\n",
      "\u001b[0;31mKeyboardInterrupt\u001b[0m: "
     ]
    }
   ],
   "source": [
    "for x in range(200):\n",
    "    study.optimize(objective, n_trials = 1, callbacks = [wandbc]) #n_jobs = multiprocessing.cpu_count())\n",
    "    dump(study, filename=studypath/f\"optuna-{exmodel_config['arch']}-lv{exmodel_config['level']}-study--{datetime.now().strftime('%Y%m%d')}.joblib\")"
   ]
  },
  {
   "cell_type": "code",
   "execution_count": 20,
   "id": "f1c46d4d-de6e-4c32-8116-d5793597a486",
   "metadata": {},
   "outputs": [
    {
     "data": {
      "text/plain": [
       "['/media/sf/easystore/kaggle_data/tabular_playgrounds/nov2021/studies/optuna-catboost_lv1-thru_trial_65-20211127.joblib']"
      ]
     },
     "execution_count": 20,
     "metadata": {},
     "output_type": "execute_result"
    }
   ],
   "source": [
    "dump(study, filename=studypath/f\"optuna-{exmodel_config['arch']}_lv{exmodel_config['level']}-thru_trial_65-{datetime.now().strftime('%Y%m%d')}.joblib\")"
   ]
  },
  {
   "cell_type": "code",
   "execution_count": 21,
   "id": "ac04da72-52f1-42d1-8f26-14913a5c6e88",
   "metadata": {},
   "outputs": [
    {
     "data": {
      "text/plain": [
       "{'iterations': 17997,\n",
       " 'depth': 4,\n",
       " 'learning_rate': 0.05807421036756052,\n",
       " 'random_strength': 27,\n",
       " 'od_wait': 1664,\n",
       " 'reg_lambda': 57.67864249277457,\n",
       " 'border_count': 275,\n",
       " 'min_child_samples': 10,\n",
       " 'leaf_estimation_iterations': 2}"
      ]
     },
     "execution_count": 21,
     "metadata": {},
     "output_type": "execute_result"
    }
   ],
   "source": [
    "study.best_trial.params"
   ]
  },
  {
   "cell_type": "code",
   "execution_count": 22,
   "id": "f02e689e-b20c-48e5-a7d9-02467b4f3dbd",
   "metadata": {
    "id": "f02e689e-b20c-48e5-a7d9-02467b4f3dbd"
   },
   "outputs": [
    {
     "data": {
      "text/html": [
       "<br/>Waiting for W&B process to finish, PID 84373... <strong style=\"color:green\">(success).</strong>"
      ],
      "text/plain": [
       "<IPython.core.display.HTML object>"
      ]
     },
     "metadata": {},
     "output_type": "display_data"
    },
    {
     "data": {
      "application/vnd.jupyter.widget-view+json": {
       "model_id": "",
       "version_major": 2,
       "version_minor": 0
      },
      "text/plain": [
       "VBox(children=(Label(value=' 0.00MB of 0.00MB uploaded (0.00MB deduped)\\r'), FloatProgress(value=1.0, max=1.0)…"
      ]
     },
     "metadata": {},
     "output_type": "display_data"
    },
    {
     "data": {
      "text/html": [
       "<style>\n",
       "    table.wandb td:nth-child(1) { padding: 0 10px; text-align: right }\n",
       "    .wandb-row { display: flex; flex-direction: row; flex-wrap: wrap; width: 100% }\n",
       "    .wandb-col { display: flex; flex-direction: column; flex-basis: 100%; flex: 1; padding: 10px; }\n",
       "    </style>\n",
       "<div class=\"wandb-row\"><div class=\"wandb-col\">\n",
       "<h3>Run history:</h3><br/><table class=\"wandb\"><tr><td>border_count</td><td>▁▂█▆▃▃█▆▇▇▅▆▆▇▇█▇█▁▇▇▂▃█▄███▇▆███▇▆▇▆██▇</td></tr><tr><td>depth</td><td>█▁▅▃█▇▅▃▄▆▂▆▇▅▄▇▅▂▂▂▁▂▂▁▂▁▁▂▁▁▂▁▃▃▃▄▁▂▂▁</td></tr><tr><td>iterations</td><td>▄▆▅▆▅▁█▂▇▃▇▇▅▂▃▄▂▃▃▄▄▅▃▅▄▄▄▅▆▄▆▃▅▆▇▄▅▅██</td></tr><tr><td>leaf_estimation_iterations</td><td>▆▅████▁▃▆▃▅▆▅▁▁▃▃▃▅▃▅▃▃▅▃▃▃▁▃▃▁▃▃▃▁▃▁▃▃▅</td></tr><tr><td>learning_rate</td><td>▂▇▁▁▁▂▁▁▁▁▁▁▁▁▂▂▃▇▃▄█▂▂▂▂▂▂▁▆▂▁▂▅▃▅▄▂▅▄▃</td></tr><tr><td>min_child_samples</td><td>▇▃██▃▂▅▅▅▇▆▄▃▅▅▄▁▄▂▄▃▄▃▅▅▃▃▄▂▄▆▄▄▄▃▄▅▄▄▅</td></tr><tr><td>od_wait</td><td>▂▂▂▂▁▆█▅▆▄▆▄▄█▇▆▇▇▆▇▆▇█▆▆▇▇▇▇▇▁█▃▃▂▂▃▅▄▄</td></tr><tr><td>random_strength</td><td>▅▇▅▅▂▆▁▄█▃▇▁▆▃▂▃▄▂▄▂▂▄▅▄▁▂▂▂▂▅▁▂▃▄▄▃▁▂▂▁</td></tr><tr><td>reg_lambda</td><td>▂▂▁█▃▁▆█▇▅▇▃▃▃▄▅▅▆▆▅▆▇▄▇▆▅▄█▅▅▂▆▇▆▁█▇▃▂▂</td></tr><tr><td>value</td><td>▆▇▁█▅▇█▅▇█▆█▆▇████▇██▇▇█████████████████</td></tr></table><br/></div><div class=\"wandb-col\">\n",
       "<h3>Run summary:</h3><br/><table class=\"wandb\"><tr><td>border_count</td><td>253</td></tr><tr><td>depth</td><td>3</td></tr><tr><td>iterations</td><td>29040</td></tr><tr><td>leaf_estimation_iterations</td><td>3</td></tr><tr><td>learning_rate</td><td>0.15787</td></tr><tr><td>min_child_samples</td><td>11</td></tr><tr><td>od_wait</td><td>811</td></tr><tr><td>random_strength</td><td>7</td></tr><tr><td>reg_lambda</td><td>14.80218</td></tr><tr><td>value</td><td>0.99808</td></tr></table>\n",
       "</div></div>\n",
       "Synced 6 W&B file(s), 0 media file(s), 0 artifact file(s) and 0 other file(s)\n",
       "<br/>Synced <strong style=\"color:#cdcd00\">sweep_xgboost_20211126_190645</strong>: <a href=\"https://wandb.ai/hushifang/202111_Kaggle_tabular_playground/runs/21u2f06a\" target=\"_blank\">https://wandb.ai/hushifang/202111_Kaggle_tabular_playground/runs/21u2f06a</a><br/>\n",
       "Find logs at: <code>./wandb/run-20211126_190645-21u2f06a/logs</code><br/>\n"
      ],
      "text/plain": [
       "<IPython.core.display.HTML object>"
      ]
     },
     "metadata": {},
     "output_type": "display_data"
    }
   ],
   "source": [
    "wandb.log({'catboost_params': study.best_trial.params})\n",
    "wandb.finish()"
   ]
  }
 ],
 "metadata": {
  "accelerator": "GPU",
  "colab": {
   "name": "sweep_catboost_20210924.ipynb",
   "provenance": []
  },
  "kernelspec": {
   "display_name": "Python 3",
   "language": "python",
   "name": "python3"
  },
  "language_info": {
   "codemirror_mode": {
    "name": "ipython",
    "version": 3
   },
   "file_extension": ".py",
   "mimetype": "text/x-python",
   "name": "python",
   "nbconvert_exporter": "python",
   "pygments_lexer": "ipython3",
   "version": "3.8.12"
  }
 },
 "nbformat": 4,
 "nbformat_minor": 5
}
