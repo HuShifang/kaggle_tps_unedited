{
 "cells": [
  {
   "cell_type": "markdown",
   "id": "1d4e7f70-25a3-4d58-b98a-3a695e55ee53",
   "metadata": {
    "id": "1d4e7f70-25a3-4d58-b98a-3a695e55ee53"
   },
   "source": [
    "# Catboost Lv1 Hyperparameter Sweep 20211103\n",
    "Largely after https://www.kaggle.com/satorushibata/optimize-catboost-hyperparameter-with-optuna-gpu"
   ]
  },
  {
   "cell_type": "code",
   "execution_count": null,
   "id": "U_qtimPUchWD",
   "metadata": {
    "id": "U_qtimPUchWD"
   },
   "outputs": [],
   "source": []
  },
  {
   "cell_type": "markdown",
   "id": "1e124c3d-0e1f-4053-8e72-52569a4fe3e4",
   "metadata": {
    "id": "1e124c3d-0e1f-4053-8e72-52569a4fe3e4"
   },
   "source": [
    "# Setup"
   ]
  },
  {
   "cell_type": "code",
   "execution_count": 1,
   "id": "ffac7b61-9c4c-45a4-907f-726cb754e845",
   "metadata": {
    "id": "dae2ff1e-bd1f-4cc9-8357-5a88d1746ffb"
   },
   "outputs": [],
   "source": [
    "# two manual flags (ex-config)\n",
    "COLAB = False\n",
    "USE_GPU = True"
   ]
  },
  {
   "cell_type": "code",
   "execution_count": 2,
   "id": "0e620ddd-4396-4422-8fe9-21d4fca39043",
   "metadata": {
    "id": "16849bd2-428c-497b-ba3b-675002f8d041"
   },
   "outputs": [],
   "source": [
    "# basic imports\n",
    "from pathlib import Path\n",
    "import os\n",
    "import math\n",
    "from datetime import datetime\n",
    "import random\n",
    "import multiprocessing\n",
    "import pickle"
   ]
  },
  {
   "cell_type": "code",
   "execution_count": 3,
   "id": "ebe1dca4-ba3f-41dc-b04d-75bb6db99d0e",
   "metadata": {
    "colab": {
     "base_uri": "https://localhost:8080/"
    },
    "id": "12d2654b-3bc6-49b5-ade8-cc82112b60e5",
    "outputId": "6bd53922-c4d7-43ce-c04f-ac1079087966"
   },
   "outputs": [],
   "source": [
    "%matplotlib inline\n",
    "%config Completer.use_jedi = False\n",
    "os.environ['WANDB_NOTEBOOK_NAME'] = f\"sweep_xgboost_{datetime.now().strftime('%Y%m%d')}.ipynb\""
   ]
  },
  {
   "cell_type": "code",
   "execution_count": 4,
   "id": "984b029e-e71e-4df6-ab77-1a2bf91f571e",
   "metadata": {
    "colab": {
     "base_uri": "https://localhost:8080/"
    },
    "id": "416d6118-e543-4df4-9219-2d4a63743c3a",
    "outputId": "5483656e-2943-4d97-b5d4-65cfb9795430",
    "tags": []
   },
   "outputs": [],
   "source": [
    "# handle Google Colab-specific library installation/updating\n",
    "if COLAB:\n",
    "    # much of the below inspired by or cribbed from the May 2021 Kaggle Tabular Playground winner, at \n",
    "    # https://colab.research.google.com/gist/academicsuspect/0aac7bd6e506f5f70295bfc9a3dc2250/tabular-may-baseline.ipynb?authuser=1#scrollTo=LJoVKJb5wN0L\n",
    "    \n",
    "    # Kaggle API for downloading the datasets\n",
    "    !pip install --upgrade -q kaggle\n",
    "\n",
    "    # weights and biases\n",
    "    !pip install -qqqU wandb\n",
    "    \n",
    "    # Optuna for parameter search\n",
    "    !pip install -q optuna\n",
    "\n",
    "    # !pip install --upgrade xgboost\n",
    "\n",
    "    # upgrade sklearn\n",
    "    !pip install --upgrade scikit-learn\n",
    "\n",
    "    # !pip install category_encoders\n",
    "    # !pip install catboost\n",
    "#     !pip install --upgrade -q lightgbm\n",
    "\n",
    "    # lighgbm gpu compatible\n",
    "    # !git clone --recursive https://github.com/Microsoft/LightGBM\n",
    "    # ! cd LightGBM && rm -rf build && mkdir build && cd build && cmake -DUSE_GPU=1 ../../LightGBM && make -j4 && cd ../python-package && python3 setup.py install --precompile --gpu;\n",
    "    \n",
    "    # # this part is from https://github.com/rapidsai/gputreeshap/issues/24\n",
    "    # !pip install cmake --upgrade\n",
    "    # # !pip install sklearn --upgrade\n",
    "    # !git clone --recursive https://github.com/dmlc/xgboost\n",
    "    # %cd /content/xgboost\n",
    "    # !mkdir build\n",
    "    # %cd build\n",
    "    # !cmake .. -DUSE_CUDA=ON\n",
    "    # !make -j4\n",
    "    # %cd /content/xgboost/python-package\n",
    "    # !python setup.py install --use-cuda --use-nccl\n",
    "    # !/opt/bin/nvidia-smi\n",
    "    # !pip install shap\n",
    "    "
   ]
  },
  {
   "cell_type": "markdown",
   "id": "ab65cccf-b859-4805-abc6-b2af1ecc9f3f",
   "metadata": {
    "id": "d40df194-4474-4bcf-ac5a-98efe24b91fd"
   },
   "source": [
    "Now, non-stdlib imports"
   ]
  },
  {
   "cell_type": "code",
   "execution_count": 5,
   "id": "153c52d0-abc8-4134-9840-f86fa894e0e0",
   "metadata": {
    "id": "a01e85f7-d602-4dde-bef9-611683cd74c4"
   },
   "outputs": [],
   "source": [
    "import pandas as pd\n",
    "import numpy as np\n",
    "import matplotlib.pyplot as plt\n",
    "from tqdm.notebook import tqdm\n",
    "\n",
    "# general ML tooling\n",
    "from sklearn.model_selection import train_test_split, StratifiedKFold, KFold\n",
    "from sklearn.metrics import log_loss, roc_auc_score\n",
    "import wandb\n",
    "from optuna.integration.wandb import WeightsAndBiasesCallback\n",
    "# from wandb.xgboost import wandb_callback\n",
    "# from wandb.lightgbm import wandb_callback\n",
    "# from sklearn.impute import KNNImputer, StandardImputer\n",
    "# import timm\n",
    "\n",
    "import seaborn as sns\n",
    "# import xgboost\n",
    "from catboost import CatBoostClassifier\n",
    "# from xgboost import XGBClassifier\n",
    "# from lightgbm import LGBMClassifier\n",
    "# from sklearn.ensemble import RandomForestRegressor\n",
    "from sklearn.preprocessing import RobustScaler\n",
    "# from sklearn.feature_selection import SelectKBest, f_regression\n",
    "from joblib import dump, load\n",
    "# feature engineering tools\n",
    "# from sklearn.feature_selection import mutual_info_regression\n",
    "# import featuretools as ft\n",
    "\n",
    "\n",
    "from optuna.samplers import TPESampler\n",
    "import optuna\n",
    "# import catboost\n",
    "from sklearn.utils import resample\n",
    "import sklearn.metrics"
   ]
  },
  {
   "cell_type": "markdown",
   "id": "a4700dc9-6c5f-4fcd-859c-717cb882374f",
   "metadata": {
    "id": "5f6166c2-ca44-4b7c-a4dc-3db47c2624fe"
   },
   "source": [
    "Now, datapath setup"
   ]
  },
  {
   "cell_type": "code",
   "execution_count": 6,
   "id": "dbed59f1-d54c-4cc3-8579-a2153ffdb711",
   "metadata": {
    "id": "3c18a787-2193-43cb-87ee-51c6ae7b6351"
   },
   "outputs": [],
   "source": [
    "# # This is the code for reading the train.csv and converting it to a .feather file\n",
    "# df = pd.read_csv(datapath/'train.csv', index_col='id', low_memory=False)\n",
    "# df.index.name = None\n",
    "# df.to_feather(path='./dataset_df.feather')"
   ]
  },
  {
   "cell_type": "code",
   "execution_count": 7,
   "id": "fb708523-6cb4-436d-af97-25399dc4805d",
   "metadata": {},
   "outputs": [],
   "source": [
    "if COLAB:\n",
    "    # mount Google Drive\n",
    "    from google.colab import drive\n",
    "    drive.mount('/content/drive')\n",
    "    \n",
    "    # handling datapath\n",
    "    datapath = Path('/content/drive/MyDrive/kaggle/tabular_playgrounds/nov2021/')\n",
    "    \n",
    "else:\n",
    "    # if on local machine\n",
    "#     datapath = Path('/media/sf/easystore/kaggle_data/tabular_playgrounds/sep2021/')  \n",
    "    root = Path('/media/sf/easystore/kaggle_data/tabular_playgrounds/nov2021/')\n",
    "    datapath = root/'datasets'\n",
    "    # edapath = root/'EDA'\n",
    "    # modelpath = Path('/media/sf/easystore/kaggle_data/tabular_playgrounds/oct2021/models/')\n",
    "    predpath = root/'preds'\n",
    "    subpath = root/'submissions'\n",
    "    studypath = root/'studies'\n",
    "    \n",
    "    for pth in [datapath, predpath, subpath, studypath]:\n",
    "        pth.mkdir(exist_ok=True)\n",
    "    \n"
   ]
  },
  {
   "cell_type": "code",
   "execution_count": 8,
   "id": "32a2cfe4-4193-4852-9f1f-d799ed7282be",
   "metadata": {
    "id": "d1c652e6-5946-46aa-a13e-4c0ebe8a0e4f"
   },
   "outputs": [],
   "source": [
    "\n",
    "# n_trials = int(1000)\n",
    "SEED = 42"
   ]
  },
  {
   "cell_type": "code",
   "execution_count": 9,
   "id": "1e5e2629-0aa3-4049-8d57-d91e97208188",
   "metadata": {
    "id": "fbec2e77-2081-4815-ac6d-39f2a2616386"
   },
   "outputs": [],
   "source": [
    "# Function to seed everything\n",
    "def seed_everything(seed):\n",
    "    random.seed(seed)\n",
    "    np.random.seed(seed)\n",
    "    os.environ['PYTHONHASHSEED'] = str(seed)\n",
    "seed_everything(SEED)"
   ]
  },
  {
   "cell_type": "markdown",
   "id": "89795d09-4c94-45ba-9c23-d508e71b8f07",
   "metadata": {
    "id": "2f6e47b3-43bd-4d35-b463-9d76100c6ed5"
   },
   "source": [
    "## Ex-Model Config"
   ]
  },
  {
   "cell_type": "code",
   "execution_count": 10,
   "id": "791aa6e2-4aee-4004-9553-dc8366767bcf",
   "metadata": {
    "id": "fb288275-a858-4806-9dc0-0b316c334536"
   },
   "outputs": [],
   "source": [
    "# meta-config for preprocessing and cross-validation, but NOT for model parameters\n",
    "# in the sweep version, this includes both ex-model parameters and defaults for model parameters\n",
    "exmodel_config = {\n",
    "    # model config\n",
    "    \"arch\": 'catboost',\n",
    "    \"type\": 'sweep',\n",
    "    \"level\": 1,\n",
    "#     \"model\": XGBClassifier,\n",
    "#     \"n_estimators\": 100, \n",
    "#     \"max_depth\": 3,\n",
    "#     \"learning_rate\": 0.1,\n",
    "#     \"test_size\": 0.2,\n",
    "#     \"reg_lambda\": None, \n",
    "#     \"scaler\": \"sklearn.preprocessing.StandardScaler()\", # TODO: experiment with others (but imputation may be slow)\n",
    "#     \"scale_b4_impute\": False,\n",
    "#     \"imputer\": \"sklearn.impute.SimpleImputer(strategy='median', add_indicator=True)\",\n",
    "#     \"knn_imputer_n_neighbors\": None, # None if a different imputer is used\n",
    "#     \"feature_selector\": SelectKBest,\n",
    "#     \"k_best\": 80,\n",
    "#     \"feature_selection_scoring\": f_regression,\n",
    "    'random_state': SEED,\n",
    "    'tuner': \"Optuna\",\n",
    "#     'optuna_trials': 20,\n",
    "#     'subsample': 1,\n",
    "    'cross_val_strategy': KFold, # None for holdout, or the relevant sklearn class\n",
    "    'kfolds': 5, # if 1, that means just doing holdout\n",
    "    'test_size': 0.2,\n",
    "    # these are XGBoost default (my choice) params \n",
    "#     \"tree_method\": \"auto\", # set to 'gpu_hist' to try GPU if available\n",
    "#     \"booster\": 'gbtree', # dart may be marginally better, but will opt for this quicker approach as a default\n",
    "#     \"n_estimators\": 200, \n",
    "#     \"max_depth\": 3,\n",
    "#     \"learning_rate\": 0.1,\n",
    "#     \"n_jobs\": -1,\n",
    "#     \"verbosity\": 1,\n",
    "#     \"subsample\": 1,\n",
    "#     'features_created': False,\n",
    "#     'feature_creator': None,\n",
    "}\n"
   ]
  },
  {
   "cell_type": "markdown",
   "id": "3aa35567-d322-42de-8ac7-cbd0b37d5646",
   "metadata": {
    "id": "a52d9012-34f1-435a-ba16-4416e0d4a286"
   },
   "source": [
    "## Data Setup"
   ]
  },
  {
   "cell_type": "markdown",
   "id": "7f3ee1c2-f1fd-4053-8ec8-9bdf9d527479",
   "metadata": {
    "id": "c912a62f-970a-48b4-b428-d886f2612fc2"
   },
   "source": [
    "**TODO** Write some conditional logic here to automate it -- possibly as part of a sklearn.*pipeline"
   ]
  },
  {
   "cell_type": "code",
   "execution_count": 11,
   "id": "7465efda-e77f-49c6-ad6f-73b67e3b7901",
   "metadata": {},
   "outputs": [],
   "source": [
    "# train_source = datapath/'train.feather'\n",
    "# df = pd.read_feather(path=datapath/'train.feather')\n",
    "# y = np.array(df.target)\n",
    "# dump(y, filename=datapath/'y.joblib')\n",
    "# del df\n",
    "\n",
    "y = load(datapath/'y_orig.joblib')\n",
    "\n",
    "# df.index.name = 'id'\n",
    "# y_train = df.target\n",
    "# features = [x for x in df.columns if x != 'target']\n",
    "# X_train = df[features]\n",
    "# # X.index.name = 'id'\n",
    "# # y.index.name = 'id'\n",
    "# X = np.array(X_train)\n",
    "# y = np.array(y_train)\n",
    "\n",
    "# del df, X_train, y_train\n",
    "\n",
    "# load the Boruta-filtered green-zone 98 features (based on 200 iterations of the algo)\n",
    "# train_source = '/media/sf/easystore/kaggle_data/tabular_playgrounds/oct2021/alt_datasets/X_boruta_200iter_filtered_green.joblib'\n",
    "# X = load(train_source)\n",
    "\n",
    "train_source = datapath/'X_orig.feather'\n",
    "X = pd.read_feather(train_source)\n",
    "\n",
    "# exmodel_config['feature_count'] = len(X.columns)\n",
    "exmodel_config['feature_count'] = X.shape[1]\n",
    "exmodel_config['instance_count'] = X.shape[0]\n",
    "exmodel_config['scaler'] = str(RobustScaler())\n",
    "# exmodel_config['feature_generator'] = None\n",
    "# exmodel_config['feature_generator'] = \"Summary statistics\"\n",
    "\n",
    "exmodel_config['train_source'] = str(train_source)\n",
    "# test_source = datapath/'test.feather'\n",
    "# exmodel_config['test_source'] = str(test_source)\n",
    "# X_test = pd.read_feather(path=test_source)\n",
    "# X_test = X_test.iloc[:, 1:]\n",
    "# X_test = np.array(X_test)"
   ]
  },
  {
   "cell_type": "code",
   "execution_count": 12,
   "id": "089ba1de-97fd-4387-ae95-a72b9fb22fb5",
   "metadata": {},
   "outputs": [],
   "source": [
    "wandb_kwargs = {\n",
    "    # wandb config\n",
    "    'name': f\"{os.environ['WANDB_NOTEBOOK_NAME'][:-6]}_{datetime.now().strftime('%H%M%S')}\", # just removes the .ipynb extension, leaving the notebook filename's stem\n",
    "    'project': '202111_Kaggle_tabular_playground',\n",
    "    'tags': ['sweep'],\n",
    "    'notes': f\"Sweep for {exmodel_config['arch']} on GPU with {exmodel_config['tuner']}, using original dataset with {exmodel_config['scaler']}\",\n",
    "    'config': exmodel_config,\n",
    "}"
   ]
  },
  {
   "cell_type": "code",
   "execution_count": 13,
   "id": "8f3f2588-757d-4cc8-adc4-7e24fdbd0d68",
   "metadata": {},
   "outputs": [
    {
     "data": {
      "text/plain": [
       "((600000, 100), (600000,))"
      ]
     },
     "execution_count": 13,
     "metadata": {},
     "output_type": "execute_result"
    }
   ],
   "source": [
    "X.shape, y.shape"
   ]
  },
  {
   "cell_type": "code",
   "execution_count": 14,
   "id": "f1fb010a-6cc6-48ac-831d-c2d5211d443c",
   "metadata": {},
   "outputs": [
    {
     "data": {
      "text/plain": [
       "(pandas.core.frame.DataFrame, pandas.core.series.Series)"
      ]
     },
     "execution_count": 14,
     "metadata": {},
     "output_type": "execute_result"
    }
   ],
   "source": [
    "type(X), type(y)"
   ]
  },
  {
   "cell_type": "markdown",
   "id": "431d37db-558d-474d-9eca-ce2d38b7636f",
   "metadata": {
    "id": "431d37db-558d-474d-9eca-ce2d38b7636f"
   },
   "source": [
    "# Experiment setup"
   ]
  },
  {
   "cell_type": "code",
   "execution_count": 15,
   "id": "69ff4abf-560b-450e-a7a5-040878b66565",
   "metadata": {
    "id": "69ff4abf-560b-450e-a7a5-040878b66565"
   },
   "outputs": [],
   "source": [
    "# wandb_kwargs = {\n",
    "#     # wandb config:\n",
    "#     'name': f\"{os.environ['WANDB_NOTEBOOK_NAME'][:-6]}_{datetime.now().strftime('%H%M%S')}\", # just removes the .ipynb extension, leaving the notebook filename's stem\n",
    "#     'project': '202109_Kaggle_tabular_playground',\n",
    "#     'tags': ['sweep'],\n",
    "#     'notes': \"Sweep for CatBoost using Optuna\",\n",
    "#     'config': exmodel_config,\n",
    "# }"
   ]
  },
  {
   "cell_type": "code",
   "execution_count": 20,
   "id": "1d93b6f2-2d65-48a9-9862-510bd7d2b75b",
   "metadata": {
    "id": "1d93b6f2-2d65-48a9-9862-510bd7d2b75b"
   },
   "outputs": [],
   "source": [
    "# originally from https://www.kaggle.com/satorushibata/optimize-catboost-hyperparameter-with-optuna-gpu\n",
    "def objective(trial, arch=exmodel_config['arch']):\n",
    "    # split the (original Kaggle training) data into partitions\n",
    "    # if study.best_trial:\n",
    "    #     print(\"Dumping best params, which are:\")\n",
    "    #     print(str(study.best_trial.params))\n",
    "    #     dump(study.best_trial.params, filename=datapath/'optuna_catboost_best_20210920.joblib')\n",
    "       \n",
    "    # else:\n",
    "    #     print(\"No best study yet\")\n",
    "    # X_train, X_valid, y_train, y_valid = train_test_split(X, y, test_size=0.2, random_state=int(SEED), shuffle=True)\n",
    "    # # create wrappers for the training and validation partitions\n",
    "    # train_pool = catboost.Pool(X_train, y_train)\n",
    "    # valid_pool = catboost.Pool(X_valid, y_valid)\n",
    "    \n",
    "    # experimental parameters\n",
    "    params = {\n",
    "        'iterations' : trial.suggest_int('iterations', 2000, 30000),                         \n",
    "        'depth' : trial.suggest_int('depth', 3, 10),                                       \n",
    "        'learning_rate' : trial.suggest_loguniform('learning_rate', 0.001, 0.5),               \n",
    "        'random_strength': trial.suggest_int('random_strength', 0, 100), \n",
    "#         'objective': trial.suggest_categorical('objective', ['Logloss', 'CrossEntropy']),\n",
    "#         'bootstrap_type': trial.suggest_categorical('bootstrap_type', ['MVC', 'Bernoulli']),#, 'Poisson']),\n",
    "        'od_wait': trial.suggest_int('od_wait', 20, 2000),\n",
    "        'reg_lambda': trial.suggest_uniform('reg_lambda', 2, 70), # aka l2_leaf_reg\n",
    "        'border_count': trial.suggest_int('border_count', 50, 275),\n",
    "        'min_child_samples': trial.suggest_int('min_child_samples', 1, 20), # aka min_data_in_leaf\n",
    "        'leaf_estimation_iterations': trial.suggest_int('leaf_estimation_iterations', 1, 5),\n",
    "        # 'bagging_temperature' :trial.suggest_loguniform('bagging_temperature', 0.01, 100.00),\n",
    "#         'subsample': trial.suggest_uniform('subsample', 0.5, 1),\n",
    "#         'learning_rate' :trial.suggest_loguniform('learning_rate', 1e-3, 1e-1),\n",
    "        # 'od_type': trial.suggest_categorical('od_type', ['IncToDec', 'Iter']),\n",
    "#         'max_leaves': trial.suggest_int('max_leaves', 32, 128)\n",
    "    }\n",
    "    device = \"GPU\" #if USE_GPU else \"CPU\"\n",
    "    # instantiate the model, with some parameters locked in, and experimnental ones passed via splat \n",
    "    model = CatBoostClassifier(\n",
    "        # loss_function=\"Logloss\",\n",
    "        eval_metric=\"AUC\",\n",
    "        task_type=device,\n",
    "        objective='Logloss',\n",
    "#         l2_leaf_reg=50,\n",
    "        random_seed=SEED,\n",
    "        verbose=False,\n",
    "#         border_count=64,\n",
    "        **params\n",
    "    )        \n",
    "    \n",
    "    kfold = exmodel_config['cross_val_strategy'](n_splits=exmodel_config['kfolds'], shuffle=True, random_state=SEED)\n",
    "    # initialize lists for out-of-fold preds and ground truth\n",
    "    oof_preds, oof_y = [], []\n",
    "    for fold, (train_ids, valid_ids) in enumerate(kfold.split(X,y)):\n",
    "        print(f\"FOLD {fold}\")\n",
    "        print(\"---------------------------------------------------\")\n",
    "        y_train, y_valid = y[train_ids], y[valid_ids] # y will be an np.ndarray already; handling will be same regardless of model\n",
    "        if isinstance(X, np.ndarray):\n",
    "            X_train, X_valid = X[train_ids], X[valid_ids]\n",
    "        else:\n",
    "            X_train, X_valid = X.iloc[train_ids,:], X.iloc[valid_ids,:] # bc need pandas.DataFrames for ce\n",
    "        scaler = RobustScaler()\n",
    "        X_train = scaler.fit_transform(X_train)\n",
    "        X_valid = scaler.transform(X_valid)\n",
    "\n",
    "        model.fit(X_train, y_train)\n",
    "        y_valid_preds = model.predict_proba(X_valid)[:,1]\n",
    "\n",
    "        # add the fold-model's OOF preds and ground truths to the out-of-loop lists\n",
    "        oof_preds.extend(y_valid_preds)\n",
    "        oof_y.extend(y_valid)\n",
    "        fold_roc_auc = roc_auc_score(y_score=y_valid_preds, y_true=y_valid)\n",
    "        print(f\"Fold {fold} ROC AUC is: {fold_roc_auc}\")\n",
    "    \n",
    "    model_roc_auc = roc_auc_score(y_true=oof_y, y_score=oof_preds)\n",
    "    print(f\"Valid AUC score for {arch} model is {model_roc_auc}\")\n",
    "\n",
    "    return model_roc_auc"
   ]
  },
  {
   "cell_type": "code",
   "execution_count": 17,
   "id": "0e85f589-1507-4b75-80d9-8b062970102f",
   "metadata": {
    "colab": {
     "base_uri": "https://localhost:8080/",
     "height": 231
    },
    "id": "0e85f589-1507-4b75-80d9-8b062970102f",
    "outputId": "4e88b8c2-11ec-493d-8fdb-f97cd2f0243a",
    "tags": []
   },
   "outputs": [
    {
     "name": "stderr",
     "output_type": "stream",
     "text": [
      "<ipython-input-17-69ea9289a2cf>:1: ExperimentalWarning: WeightsAndBiasesCallback is experimental (supported from v2.9.0). The interface can change in the future.\n",
      "  wandbc = WeightsAndBiasesCallback(wandb_kwargs=wandb_kwargs)\n",
      "\u001b[34m\u001b[1mwandb\u001b[0m: \u001b[33mWARNING\u001b[0m WANDB_NOTEBOOK_NAME should be a path to a notebook file, couldn't find sweep_xgboost_20211103.ipynb\n",
      "\u001b[34m\u001b[1mwandb\u001b[0m: Currently logged in as: \u001b[33mhushifang\u001b[0m (use `wandb login --relogin` to force relogin)\n"
     ]
    },
    {
     "data": {
      "text/html": [
       "\n",
       "                    Syncing run <strong><a href=\"https://wandb.ai/hushifang/202111_Kaggle_tabular_playground/runs/3onvb47d\" target=\"_blank\">sweep_xgboost_20211103_154802</a></strong> to <a href=\"https://wandb.ai/hushifang/202111_Kaggle_tabular_playground\" target=\"_blank\">Weights & Biases</a> (<a href=\"https://docs.wandb.com/integrations/jupyter.html\" target=\"_blank\">docs</a>).<br/>\n",
       "\n",
       "                "
      ],
      "text/plain": [
       "<IPython.core.display.HTML object>"
      ]
     },
     "metadata": {},
     "output_type": "display_data"
    }
   ],
   "source": [
    "wandbc = WeightsAndBiasesCallback(wandb_kwargs=wandb_kwargs)"
   ]
  },
  {
   "cell_type": "code",
   "execution_count": 18,
   "id": "ab6749b1-dd7d-4789-b0e2-8491d78fe89b",
   "metadata": {
    "colab": {
     "base_uri": "https://localhost:8080/"
    },
    "id": "ab6749b1-dd7d-4789-b0e2-8491d78fe89b",
    "outputId": "05b7ce12-dc98-4d38-fd83-a0578ec37531",
    "tags": []
   },
   "outputs": [
    {
     "name": "stderr",
     "output_type": "stream",
     "text": [
      "\u001b[32m[I 2021-11-03 15:48:08,848]\u001b[0m A new study created in memory with name: catboost-lv1-RobustScaler()-orig_dataset-20211103\u001b[0m\n"
     ]
    }
   ],
   "source": [
    "study = optuna.create_study(direction = \"maximize\", \n",
    "                            sampler = TPESampler(seed=int(SEED)), \n",
    "                            study_name=f\"{exmodel_config['arch']}-lv{exmodel_config['level']}-{exmodel_config['scaler']}-orig_dataset-{datetime.now().strftime('%Y%m%d')}\")\n",
    "# setting n_jobs=1 bc wandb apparently requires this\n"
   ]
  },
  {
   "cell_type": "code",
   "execution_count": 21,
   "id": "uXQWM6Otmxma",
   "metadata": {
    "colab": {
     "base_uri": "https://localhost:8080/"
    },
    "id": "uXQWM6Otmxma",
    "outputId": "d4b74ae6-6552-4b2f-a4e0-d9999874ab06",
    "tags": []
   },
   "outputs": [
    {
     "name": "stdout",
     "output_type": "stream",
     "text": [
      "FOLD 0\n",
      "---------------------------------------------------\n",
      "Fold 0 ROC AUC is: 0.7074549952712735\n",
      "FOLD 1\n",
      "---------------------------------------------------\n",
      "Fold 1 ROC AUC is: 0.7070464024423961\n",
      "FOLD 2\n",
      "---------------------------------------------------\n",
      "Fold 2 ROC AUC is: 0.70505314885779\n",
      "FOLD 3\n",
      "---------------------------------------------------\n",
      "Fold 3 ROC AUC is: 0.7054408738500189\n",
      "FOLD 4\n",
      "---------------------------------------------------\n",
      "Fold 4 ROC AUC is: 0.7043855755526114\n"
     ]
    },
    {
     "name": "stderr",
     "output_type": "stream",
     "text": [
      "\u001b[32m[I 2021-11-03 18:02:22,965]\u001b[0m Trial 1 finished with value: 0.7058742939670087 and parameters: {'iterations': 21826, 'depth': 3, 'learning_rate': 0.41472250004816347, 'random_strength': 84, 'od_wait': 440, 'reg_lambda': 14.364097770082843, 'border_count': 91, 'min_child_samples': 7, 'leaf_estimation_iterations': 3}. Best is trial 1 with value: 0.7058742939670087.\u001b[0m\n"
     ]
    },
    {
     "name": "stdout",
     "output_type": "stream",
     "text": [
      "Valid AUC score for catboost model is 0.7058742939670087\n",
      "FOLD 0\n",
      "---------------------------------------------------\n",
      "Fold 0 ROC AUC is: 0.7483466209615757\n",
      "FOLD 1\n",
      "---------------------------------------------------\n",
      "Fold 1 ROC AUC is: 0.7488390878281969\n",
      "FOLD 2\n",
      "---------------------------------------------------\n",
      "Fold 2 ROC AUC is: 0.7467021911705791\n",
      "FOLD 3\n",
      "---------------------------------------------------\n",
      "Fold 3 ROC AUC is: 0.7472263659643393\n",
      "FOLD 4\n",
      "---------------------------------------------------\n",
      "Fold 4 ROC AUC is: 0.7449946013011932\n"
     ]
    },
    {
     "name": "stderr",
     "output_type": "stream",
     "text": [
      "\u001b[32m[I 2021-11-03 18:11:34,169]\u001b[0m Trial 2 finished with value: 0.7472172184981711 and parameters: {'iterations': 14094, 'depth': 5, 'learning_rate': 0.044809759182149515, 'random_strength': 14, 'od_wait': 598, 'reg_lambda': 26.912605343971038, 'border_count': 153, 'min_child_samples': 16, 'leaf_estimation_iterations': 1}. Best is trial 2 with value: 0.7472172184981711.\u001b[0m\n"
     ]
    },
    {
     "name": "stdout",
     "output_type": "stream",
     "text": [
      "Valid AUC score for catboost model is 0.7472172184981711\n",
      "FOLD 0\n",
      "---------------------------------------------------\n",
      "Fold 0 ROC AUC is: 0.7437772816440829\n",
      "FOLD 1\n",
      "---------------------------------------------------\n",
      "Fold 1 ROC AUC is: 0.744011041448424\n",
      "FOLD 2\n",
      "---------------------------------------------------\n",
      "Fold 2 ROC AUC is: 0.7416178554437498\n",
      "FOLD 3\n",
      "---------------------------------------------------\n",
      "Fold 3 ROC AUC is: 0.7420972182649239\n",
      "FOLD 4\n",
      "---------------------------------------------------\n",
      "Fold 4 ROC AUC is: 0.7396862067672051\n"
     ]
    },
    {
     "name": "stderr",
     "output_type": "stream",
     "text": [
      "\u001b[32m[I 2021-11-03 18:29:16,080]\u001b[0m Trial 3 finished with value: 0.7422302542795859 and parameters: {'iterations': 16399, 'depth': 7, 'learning_rate': 0.0013346527038305934, 'random_strength': 61, 'od_wait': 357, 'reg_lambda': 6.423508322999007, 'border_count': 264, 'min_child_samples': 20, 'leaf_estimation_iterations': 5}. Best is trial 2 with value: 0.7472172184981711.\u001b[0m\n"
     ]
    },
    {
     "name": "stdout",
     "output_type": "stream",
     "text": [
      "Valid AUC score for catboost model is 0.7422302542795859\n",
      "FOLD 0\n",
      "---------------------------------------------------\n",
      "Fold 0 ROC AUC is: 0.7475203714330587\n",
      "FOLD 1\n",
      "---------------------------------------------------\n",
      "Fold 1 ROC AUC is: 0.74817101870996\n",
      "FOLD 2\n",
      "---------------------------------------------------\n",
      "Fold 2 ROC AUC is: 0.745770871008139\n",
      "FOLD 3\n",
      "---------------------------------------------------\n",
      "Fold 3 ROC AUC is: 0.7465272281084103\n",
      "FOLD 4\n",
      "---------------------------------------------------\n",
      "Fold 4 ROC AUC is: 0.7443084163962329\n"
     ]
    },
    {
     "name": "stderr",
     "output_type": "stream",
     "text": [
      "\u001b[32m[I 2021-11-03 18:33:52,008]\u001b[0m Trial 4 finished with value: 0.7464556665355054 and parameters: {'iterations': 10529, 'depth': 3, 'learning_rate': 0.07026263205443048, 'random_strength': 44, 'od_wait': 261, 'reg_lambda': 35.672029887566374, 'border_count': 57, 'min_child_samples': 19, 'leaf_estimation_iterations': 2}. Best is trial 2 with value: 0.7472172184981711.\u001b[0m\n"
     ]
    },
    {
     "name": "stdout",
     "output_type": "stream",
     "text": [
      "Valid AUC score for catboost model is 0.7464556665355054\n",
      "FOLD 0\n",
      "---------------------------------------------------\n",
      "Fold 0 ROC AUC is: 0.7493534708164618\n",
      "FOLD 1\n",
      "---------------------------------------------------\n",
      "Fold 1 ROC AUC is: 0.7500462855602421\n",
      "FOLD 2\n",
      "---------------------------------------------------\n",
      "Fold 2 ROC AUC is: 0.7476986934289829\n",
      "FOLD 3\n",
      "---------------------------------------------------\n",
      "Fold 3 ROC AUC is: 0.7479275365813653\n",
      "FOLD 4\n",
      "---------------------------------------------------\n",
      "Fold 4 ROC AUC is: 0.7459614741951103\n",
      "Valid AUC score for catboost model is 0.7481913235817077\n"
     ]
    },
    {
     "name": "stderr",
     "output_type": "stream",
     "text": [
      "\u001b[32m[I 2021-11-03 18:48:49,454]\u001b[0m Trial 5 finished with value: 0.7481913235817077 and parameters: {'iterations': 20551, 'depth': 5, 'learning_rate': 0.02533074654001447, 'random_strength': 55, 'od_wait': 386, 'reg_lambda': 67.93175468798998, 'border_count': 225, 'min_child_samples': 19, 'leaf_estimation_iterations': 5}. Best is trial 5 with value: 0.7481913235817077.\u001b[0m\n"
     ]
    },
    {
     "name": "stdout",
     "output_type": "stream",
     "text": [
      "FOLD 0\n",
      "---------------------------------------------------\n",
      "Fold 0 ROC AUC is: 0.7476205785933059\n",
      "FOLD 1\n",
      "---------------------------------------------------\n",
      "Fold 1 ROC AUC is: 0.7481185261024499\n",
      "FOLD 2\n",
      "---------------------------------------------------\n",
      "Fold 2 ROC AUC is: 0.7458777381297681\n",
      "FOLD 3\n",
      "---------------------------------------------------\n",
      "Fold 3 ROC AUC is: 0.7460700493863434\n",
      "FOLD 4\n",
      "---------------------------------------------------\n",
      "Fold 4 ROC AUC is: 0.7438734692339253\n"
     ]
    },
    {
     "name": "stderr",
     "output_type": "stream",
     "text": [
      "\u001b[32m[I 2021-11-03 19:29:46,654]\u001b[0m Trial 6 finished with value: 0.7463068019941637 and parameters: {'iterations': 18741, 'depth': 10, 'learning_rate': 0.0017331598058558703, 'random_strength': 19, 'od_wait': 109, 'reg_lambda': 24.122462491901974, 'border_count': 137, 'min_child_samples': 6, 'leaf_estimation_iterations': 5}. Best is trial 5 with value: 0.7481913235817077.\u001b[0m\n"
     ]
    },
    {
     "name": "stdout",
     "output_type": "stream",
     "text": [
      "Valid AUC score for catboost model is 0.7463068019941637\n",
      "FOLD 0\n",
      "---------------------------------------------------\n",
      "Fold 0 ROC AUC is: 0.7502072873995542\n",
      "FOLD 1\n",
      "---------------------------------------------------\n",
      "Fold 1 ROC AUC is: 0.7504843786772106\n",
      "FOLD 2\n",
      "---------------------------------------------------\n",
      "Fold 2 ROC AUC is: 0.7483840170985883\n",
      "FOLD 3\n",
      "---------------------------------------------------\n",
      "Fold 3 ROC AUC is: 0.7486849144178964\n",
      "FOLD 4\n",
      "---------------------------------------------------\n",
      "Fold 4 ROC AUC is: 0.7465790934483335\n"
     ]
    },
    {
     "name": "stderr",
     "output_type": "stream",
     "text": [
      "\u001b[32m[I 2021-11-03 19:38:52,790]\u001b[0m Trial 7 finished with value: 0.7488643994057497 and parameters: {'iterations': 11989, 'depth': 5, 'learning_rate': 0.029155497059176992, 'random_strength': 14, 'od_wait': 1609, 'reg_lambda': 7.0694437702244155, 'border_count': 273, 'min_child_samples': 16, 'leaf_estimation_iterations': 1}. Best is trial 7 with value: 0.7488643994057497.\u001b[0m\n"
     ]
    },
    {
     "name": "stdout",
     "output_type": "stream",
     "text": [
      "Valid AUC score for catboost model is 0.7488643994057497\n",
      "FOLD 0\n",
      "---------------------------------------------------\n",
      "Fold 0 ROC AUC is: 0.7425266178339514\n",
      "FOLD 1\n",
      "---------------------------------------------------\n",
      "Fold 1 ROC AUC is: 0.7436390942343135\n",
      "FOLD 2\n",
      "---------------------------------------------------\n",
      "Fold 2 ROC AUC is: 0.7414172147947682\n",
      "FOLD 3\n",
      "---------------------------------------------------\n",
      "Fold 3 ROC AUC is: 0.7412092469877243\n",
      "FOLD 4\n",
      "---------------------------------------------------\n",
      "Fold 4 ROC AUC is: 0.7398673914831682\n"
     ]
    },
    {
     "name": "stderr",
     "output_type": "stream",
     "text": [
      "\u001b[32m[I 2021-11-03 19:42:22,740]\u001b[0m Trial 8 finished with value: 0.7417271925636948 and parameters: {'iterations': 2154, 'depth': 9, 'learning_rate': 0.08086987436021253, 'random_strength': 73, 'od_wait': 1547, 'reg_lambda': 7.035036317918145, 'border_count': 131, 'min_child_samples': 3, 'leaf_estimation_iterations': 5}. Best is trial 7 with value: 0.7488643994057497.\u001b[0m\n"
     ]
    },
    {
     "name": "stdout",
     "output_type": "stream",
     "text": [
      "Valid AUC score for catboost model is 0.7417271925636948\n",
      "FOLD 0\n",
      "---------------------------------------------------\n",
      "Fold 0 ROC AUC is: 0.7440144811176885\n",
      "FOLD 1\n",
      "---------------------------------------------------\n",
      "Fold 1 ROC AUC is: 0.7445047403853894\n",
      "FOLD 2\n",
      "---------------------------------------------------\n",
      "Fold 2 ROC AUC is: 0.7424138179013519\n",
      "FOLD 3\n",
      "---------------------------------------------------\n",
      "Fold 3 ROC AUC is: 0.7425640134999563\n",
      "FOLD 4\n",
      "---------------------------------------------------\n",
      "Fold 4 ROC AUC is: 0.7405274964879061\n"
     ]
    },
    {
     "name": "stderr",
     "output_type": "stream",
     "text": [
      "\u001b[32m[I 2021-11-03 19:56:15,632]\u001b[0m Trial 9 finished with value: 0.7427995380743808 and parameters: {'iterations': 19452, 'depth': 5, 'learning_rate': 0.0014843697010415793, 'random_strength': 31, 'od_wait': 664, 'reg_lambda': 51.61322012698836, 'border_count': 194, 'min_child_samples': 18, 'leaf_estimation_iterations': 3}. Best is trial 7 with value: 0.7488643994057497.\u001b[0m\n"
     ]
    },
    {
     "name": "stdout",
     "output_type": "stream",
     "text": [
      "Valid AUC score for catboost model is 0.7427995380743808\n",
      "FOLD 0\n",
      "---------------------------------------------------\n",
      "Fold 0 ROC AUC is: 0.7409835273654399\n",
      "FOLD 1\n",
      "---------------------------------------------------\n",
      "Fold 1 ROC AUC is: 0.7421030878117456\n",
      "FOLD 2\n",
      "---------------------------------------------------\n",
      "Fold 2 ROC AUC is: 0.7401222010901729\n",
      "FOLD 3\n",
      "---------------------------------------------------\n",
      "Fold 3 ROC AUC is: 0.7398455348820359\n",
      "FOLD 4\n",
      "---------------------------------------------------\n",
      "Fold 4 ROC AUC is: 0.7379811625190169\n"
     ]
    },
    {
     "name": "stderr",
     "output_type": "stream",
     "text": [
      "\u001b[32m[I 2021-11-03 20:02:08,791]\u001b[0m Trial 10 finished with value: 0.7402000266181481 and parameters: {'iterations': 5348, 'depth': 8, 'learning_rate': 0.11306704080979882, 'random_strength': 56, 'od_wait': 1547, 'reg_lambda': 35.57810055277857, 'border_count': 168, 'min_child_samples': 9, 'leaf_estimation_iterations': 1}. Best is trial 7 with value: 0.7488643994057497.\u001b[0m\n"
     ]
    },
    {
     "name": "stdout",
     "output_type": "stream",
     "text": [
      "Valid AUC score for catboost model is 0.7402000266181481\n",
      "FOLD 0\n",
      "---------------------------------------------------\n",
      "Fold 0 ROC AUC is: 0.750593470382935\n",
      "FOLD 1\n",
      "---------------------------------------------------\n",
      "Fold 1 ROC AUC is: 0.7511480018968726\n",
      "FOLD 2\n",
      "---------------------------------------------------\n",
      "Fold 2 ROC AUC is: 0.7487359091811364\n",
      "FOLD 3\n",
      "---------------------------------------------------\n",
      "Fold 3 ROC AUC is: 0.7491473643725793\n",
      "FOLD 4\n",
      "---------------------------------------------------\n",
      "Fold 4 ROC AUC is: 0.7471198148053391\n"
     ]
    },
    {
     "name": "stderr",
     "output_type": "stream",
     "text": [
      "\u001b[32m[I 2021-11-03 20:26:42,834]\u001b[0m Trial 11 finished with value: 0.7493427246477053 and parameters: {'iterations': 28464, 'depth': 6, 'learning_rate': 0.00713966506661863, 'random_strength': 1, 'od_wait': 1963, 'reg_lambda': 51.85748741950741, 'border_count': 269, 'min_child_samples': 13, 'leaf_estimation_iterations': 2}. Best is trial 11 with value: 0.7493427246477053.\u001b[0m\n"
     ]
    },
    {
     "name": "stdout",
     "output_type": "stream",
     "text": [
      "Valid AUC score for catboost model is 0.7493427246477053\n",
      "FOLD 0\n",
      "---------------------------------------------------\n",
      "Fold 0 ROC AUC is: 0.7504776331861809\n",
      "FOLD 1\n",
      "---------------------------------------------------\n",
      "Fold 1 ROC AUC is: 0.7510258653980677\n",
      "FOLD 2\n",
      "---------------------------------------------------\n",
      "Fold 2 ROC AUC is: 0.7487646792499354\n",
      "FOLD 3\n",
      "---------------------------------------------------\n",
      "Fold 3 ROC AUC is: 0.7490651307545724\n",
      "FOLD 4\n",
      "---------------------------------------------------\n",
      "Fold 4 ROC AUC is: 0.7470383261599449\n"
     ]
    },
    {
     "name": "stderr",
     "output_type": "stream",
     "text": [
      "\u001b[32m[I 2021-11-03 20:52:30,702]\u001b[0m Trial 12 finished with value: 0.7492694080326692 and parameters: {'iterations': 29883, 'depth': 6, 'learning_rate': 0.006046346120414774, 'random_strength': 2, 'od_wait': 1982, 'reg_lambda': 51.808901281273236, 'border_count': 268, 'min_child_samples': 13, 'leaf_estimation_iterations': 2}. Best is trial 11 with value: 0.7493427246477053.\u001b[0m\n"
     ]
    },
    {
     "name": "stdout",
     "output_type": "stream",
     "text": [
      "Valid AUC score for catboost model is 0.7492694080326692\n",
      "FOLD 0\n",
      "---------------------------------------------------\n",
      "Fold 0 ROC AUC is: 0.7506040315488142\n",
      "FOLD 1\n",
      "---------------------------------------------------\n",
      "Fold 1 ROC AUC is: 0.7510878607213654\n",
      "FOLD 2\n",
      "---------------------------------------------------\n",
      "Fold 2 ROC AUC is: 0.7488261527443711\n",
      "FOLD 3\n",
      "---------------------------------------------------\n",
      "Fold 3 ROC AUC is: 0.7491338354126374\n",
      "FOLD 4\n",
      "---------------------------------------------------\n",
      "Fold 4 ROC AUC is: 0.7471530923890959\n"
     ]
    },
    {
     "name": "stderr",
     "output_type": "stream",
     "text": [
      "\u001b[32m[I 2021-11-03 21:19:49,326]\u001b[0m Trial 13 finished with value: 0.7493558618902239 and parameters: {'iterations': 29077, 'depth': 7, 'learning_rate': 0.0061314337411850686, 'random_strength': 1, 'od_wait': 1995, 'reg_lambda': 52.18400807880995, 'border_count': 233, 'min_child_samples': 14, 'leaf_estimation_iterations': 2}. Best is trial 13 with value: 0.7493558618902239.\u001b[0m\n"
     ]
    },
    {
     "name": "stdout",
     "output_type": "stream",
     "text": [
      "Valid AUC score for catboost model is 0.7493558618902239\n",
      "FOLD 0\n",
      "---------------------------------------------------\n",
      "Fold 0 ROC AUC is: 0.750552542392182\n",
      "FOLD 1\n",
      "---------------------------------------------------\n",
      "Fold 1 ROC AUC is: 0.7510676954056097\n",
      "FOLD 2\n",
      "---------------------------------------------------\n",
      "Fold 2 ROC AUC is: 0.7487385715175242\n",
      "FOLD 3\n",
      "---------------------------------------------------\n",
      "Fold 3 ROC AUC is: 0.7491531956771336\n",
      "FOLD 4\n",
      "---------------------------------------------------\n",
      "Fold 4 ROC AUC is: 0.747221096594292\n",
      "Valid AUC score for catboost model is 0.7493411942599275\n"
     ]
    },
    {
     "name": "stderr",
     "output_type": "stream",
     "text": [
      "\u001b[32m[I 2021-11-03 21:47:39,169]\u001b[0m Trial 14 finished with value: 0.7493411942599275 and parameters: {'iterations': 29889, 'depth': 7, 'learning_rate': 0.007449148953369284, 'random_strength': 0, 'od_wait': 1973, 'reg_lambda': 52.75176016336278, 'border_count': 229, 'min_child_samples': 12, 'leaf_estimation_iterations': 2}. Best is trial 13 with value: 0.7493558618902239.\u001b[0m\n"
     ]
    },
    {
     "name": "stdout",
     "output_type": "stream",
     "text": [
      "FOLD 0\n",
      "---------------------------------------------------\n",
      "Fold 0 ROC AUC is: 0.7501342591546444\n",
      "FOLD 1\n",
      "---------------------------------------------------\n",
      "Fold 1 ROC AUC is: 0.7508408767896626\n",
      "FOLD 2\n",
      "---------------------------------------------------\n",
      "Fold 2 ROC AUC is: 0.7483554617836272\n",
      "FOLD 3\n",
      "---------------------------------------------------\n",
      "Fold 3 ROC AUC is: 0.7487363990863716\n",
      "FOLD 4\n",
      "---------------------------------------------------\n",
      "Fold 4 ROC AUC is: 0.7468756052843755\n"
     ]
    },
    {
     "name": "stderr",
     "output_type": "stream",
     "text": [
      "\u001b[32m[I 2021-11-03 22:18:22,498]\u001b[0m Trial 15 finished with value: 0.7489837746420205 and parameters: {'iterations': 24782, 'depth': 8, 'learning_rate': 0.010173280642559016, 'random_strength': 100, 'od_wait': 1154, 'reg_lambda': 63.22645499808852, 'border_count': 229, 'min_child_samples': 14, 'leaf_estimation_iterations': 4}. Best is trial 13 with value: 0.7493558618902239.\u001b[0m\n"
     ]
    },
    {
     "name": "stdout",
     "output_type": "stream",
     "text": [
      "Valid AUC score for catboost model is 0.7489837746420205\n",
      "FOLD 0\n",
      "---------------------------------------------------\n",
      "Fold 0 ROC AUC is: 0.7496620867985977\n",
      "FOLD 1\n",
      "---------------------------------------------------\n",
      "Fold 1 ROC AUC is: 0.749996015763111\n",
      "FOLD 2\n",
      "---------------------------------------------------\n",
      "Fold 2 ROC AUC is: 0.7478676252431935\n",
      "FOLD 3\n",
      "---------------------------------------------------\n",
      "Fold 3 ROC AUC is: 0.7482249770081579\n",
      "FOLD 4\n",
      "---------------------------------------------------\n",
      "Fold 4 ROC AUC is: 0.7460985088219904\n"
     ]
    },
    {
     "name": "stderr",
     "output_type": "stream",
     "text": [
      "\u001b[32m[I 2021-11-03 22:38:20,229]\u001b[0m Trial 16 finished with value: 0.7483647604288214 and parameters: {'iterations': 25648, 'depth': 6, 'learning_rate': 0.003573182378159536, 'random_strength': 37, 'od_wait': 1176, 'reg_lambda': 44.69086166219576, 'border_count': 200, 'min_child_samples': 10, 'leaf_estimation_iterations': 2}. Best is trial 13 with value: 0.7493558618902239.\u001b[0m\n"
     ]
    },
    {
     "name": "stdout",
     "output_type": "stream",
     "text": [
      "Valid AUC score for catboost model is 0.7483647604288214\n",
      "FOLD 0\n",
      "---------------------------------------------------\n",
      "Fold 0 ROC AUC is: 0.7489346641327355\n",
      "FOLD 1\n",
      "---------------------------------------------------\n",
      "Fold 1 ROC AUC is: 0.7496540243985106\n",
      "FOLD 2\n",
      "---------------------------------------------------\n",
      "Fold 2 ROC AUC is: 0.7475409938239086\n",
      "FOLD 3\n",
      "---------------------------------------------------\n",
      "Fold 3 ROC AUC is: 0.7474354225387172\n",
      "FOLD 4\n",
      "---------------------------------------------------\n"
     ]
    },
    {
     "name": "stderr",
     "output_type": "stream",
     "text": [
      "\u001b[32m[I 2021-11-03 23:11:19,982]\u001b[0m Trial 17 finished with value: 0.7478443242248795 and parameters: {'iterations': 26479, 'depth': 8, 'learning_rate': 0.014818503890570479, 'random_strength': 29, 'od_wait': 1685, 'reg_lambda': 59.46350107107074, 'border_count': 250, 'min_child_samples': 15, 'leaf_estimation_iterations': 3}. Best is trial 13 with value: 0.7493558618902239.\u001b[0m\n"
     ]
    },
    {
     "name": "stdout",
     "output_type": "stream",
     "text": [
      "Fold 4 ROC AUC is: 0.7456895215475815\n",
      "Valid AUC score for catboost model is 0.7478443242248795\n",
      "FOLD 0\n",
      "---------------------------------------------------\n",
      "Fold 0 ROC AUC is: 0.7486110154651041\n",
      "FOLD 1\n",
      "---------------------------------------------------\n",
      "Fold 1 ROC AUC is: 0.7489643797676072\n",
      "FOLD 2\n",
      "---------------------------------------------------\n",
      "Fold 2 ROC AUC is: 0.7469078922867738\n",
      "FOLD 3\n",
      "---------------------------------------------------\n",
      "Fold 3 ROC AUC is: 0.7471900699134244\n",
      "FOLD 4\n",
      "---------------------------------------------------\n",
      "Fold 4 ROC AUC is: 0.7449958192040307\n"
     ]
    },
    {
     "name": "stderr",
     "output_type": "stream",
     "text": [
      "\u001b[32m[I 2021-11-03 23:25:48,273]\u001b[0m Trial 18 finished with value: 0.7473278044534519 and parameters: {'iterations': 23175, 'depth': 4, 'learning_rate': 0.0035270626628435436, 'random_strength': 9, 'od_wait': 1810, 'reg_lambda': 43.01634038046516, 'border_count': 197, 'min_child_samples': 12, 'leaf_estimation_iterations': 4}. Best is trial 13 with value: 0.7493558618902239.\u001b[0m\n"
     ]
    },
    {
     "name": "stdout",
     "output_type": "stream",
     "text": [
      "Valid AUC score for catboost model is 0.7473278044534519\n",
      "FOLD 0\n",
      "---------------------------------------------------\n",
      "Fold 0 ROC AUC is: 0.7500154602082252\n",
      "FOLD 1\n",
      "---------------------------------------------------\n",
      "Fold 1 ROC AUC is: 0.7504451776478737\n",
      "FOLD 2\n",
      "---------------------------------------------------\n",
      "Fold 2 ROC AUC is: 0.7482669387514631\n",
      "FOLD 3\n",
      "---------------------------------------------------\n",
      "Fold 3 ROC AUC is: 0.7485565548752706\n",
      "FOLD 4\n",
      "---------------------------------------------------\n",
      "Fold 4 ROC AUC is: 0.7464554110258506\n"
     ]
    },
    {
     "name": "stderr",
     "output_type": "stream",
     "text": [
      "\u001b[32m[I 2021-11-03 23:52:31,290]\u001b[0m Trial 19 finished with value: 0.7487425610691648 and parameters: {'iterations': 28050, 'depth': 7, 'learning_rate': 0.003560847005574077, 'random_strength': 23, 'od_wait': 1409, 'reg_lambda': 44.16754797904158, 'border_count': 249, 'min_child_samples': 8, 'leaf_estimation_iterations': 2}. Best is trial 13 with value: 0.7493558618902239.\u001b[0m\n"
     ]
    },
    {
     "name": "stdout",
     "output_type": "stream",
     "text": [
      "Valid AUC score for catboost model is 0.7487425610691648\n",
      "FOLD 0\n",
      "---------------------------------------------------\n",
      "Fold 0 ROC AUC is: 0.7487606093842613\n",
      "FOLD 1\n",
      "---------------------------------------------------\n",
      "Fold 1 ROC AUC is: 0.7494064334376018\n",
      "FOLD 2\n",
      "---------------------------------------------------\n",
      "Fold 2 ROC AUC is: 0.7470838148523696\n",
      "FOLD 3\n",
      "---------------------------------------------------\n",
      "Fold 3 ROC AUC is: 0.7471977403430929\n",
      "FOLD 4\n",
      "---------------------------------------------------\n",
      "Fold 4 ROC AUC is: 0.7457604835564982\n"
     ]
    },
    {
     "name": "stderr",
     "output_type": "stream",
     "text": [
      "\u001b[32m[I 2021-11-04 00:32:06,615]\u001b[0m Trial 20 finished with value: 0.7476369358057622 and parameters: {'iterations': 23632, 'depth': 9, 'learning_rate': 0.014465418687880354, 'random_strength': 7, 'od_wait': 832, 'reg_lambda': 56.64261787493109, 'border_count': 215, 'min_child_samples': 4, 'leaf_estimation_iterations': 4}. Best is trial 13 with value: 0.7493558618902239.\u001b[0m\n"
     ]
    },
    {
     "name": "stdout",
     "output_type": "stream",
     "text": [
      "Valid AUC score for catboost model is 0.7476369358057622\n",
      "FOLD 0\n",
      "---------------------------------------------------\n",
      "Fold 0 ROC AUC is: 0.7166203446564803\n",
      "FOLD 1\n",
      "---------------------------------------------------\n",
      "Fold 1 ROC AUC is: 0.717710586243112\n",
      "FOLD 2\n",
      "---------------------------------------------------\n",
      "Fold 2 ROC AUC is: 0.7158429300831826\n",
      "FOLD 3\n",
      "---------------------------------------------------\n",
      "Fold 3 ROC AUC is: 0.716397064167353\n",
      "FOLD 4\n",
      "---------------------------------------------------\n",
      "Fold 4 ROC AUC is: 0.711982513139927\n"
     ]
    },
    {
     "name": "stderr",
     "output_type": "stream",
     "text": [
      "\u001b[32m[I 2021-11-04 00:53:25,453]\u001b[0m Trial 21 finished with value: 0.715706797548837 and parameters: {'iterations': 27698, 'depth': 6, 'learning_rate': 0.20854981842516815, 'random_strength': 39, 'od_wait': 1321, 'reg_lambda': 67.92238058258229, 'border_count': 245, 'min_child_samples': 1, 'leaf_estimation_iterations': 1}. Best is trial 13 with value: 0.7493558618902239.\u001b[0m\n"
     ]
    },
    {
     "name": "stdout",
     "output_type": "stream",
     "text": [
      "Valid AUC score for catboost model is 0.715706797548837\n",
      "FOLD 0\n",
      "---------------------------------------------------\n",
      "Fold 0 ROC AUC is: 0.7505531855864106\n",
      "FOLD 1\n",
      "---------------------------------------------------\n",
      "Fold 1 ROC AUC is: 0.7510606838710081\n",
      "FOLD 2\n",
      "---------------------------------------------------\n",
      "Fold 2 ROC AUC is: 0.7488766504563098\n",
      "FOLD 3\n",
      "---------------------------------------------------\n",
      "Fold 3 ROC AUC is: 0.7491288733864039\n",
      "FOLD 4\n",
      "---------------------------------------------------\n",
      "Fold 4 ROC AUC is: 0.7471967610398536\n"
     ]
    },
    {
     "name": "stderr",
     "output_type": "stream",
     "text": [
      "\u001b[32m[I 2021-11-04 01:21:02,407]\u001b[0m Trial 22 finished with value: 0.7493576264007167 and parameters: {'iterations': 29222, 'depth': 7, 'learning_rate': 0.0067277390824230605, 'random_strength': 1, 'od_wait': 1989, 'reg_lambda': 51.436909447809484, 'border_count': 239, 'min_child_samples': 11, 'leaf_estimation_iterations': 2}. Best is trial 22 with value: 0.7493576264007167.\u001b[0m\n"
     ]
    },
    {
     "name": "stdout",
     "output_type": "stream",
     "text": [
      "Valid AUC score for catboost model is 0.7493576264007167\n",
      "FOLD 0\n",
      "---------------------------------------------------\n",
      "Fold 0 ROC AUC is: 0.7503988184159168\n",
      "FOLD 1\n",
      "---------------------------------------------------\n",
      "Fold 1 ROC AUC is: 0.750929853380452\n",
      "FOLD 2\n",
      "---------------------------------------------------\n",
      "Fold 2 ROC AUC is: 0.7486617532640673\n",
      "FOLD 3\n",
      "---------------------------------------------------\n",
      "Fold 3 ROC AUC is: 0.749042910122678\n",
      "FOLD 4\n",
      "---------------------------------------------------\n",
      "Fold 4 ROC AUC is: 0.7469621597277261\n"
     ]
    },
    {
     "name": "stderr",
     "output_type": "stream",
     "text": [
      "\u001b[32m[I 2021-11-04 01:47:51,766]\u001b[0m Trial 23 finished with value: 0.7491936710901655 and parameters: {'iterations': 28055, 'depth': 7, 'learning_rate': 0.005210302849719533, 'random_strength': 21, 'od_wait': 1840, 'reg_lambda': 46.81411110705142, 'border_count': 248, 'min_child_samples': 11, 'leaf_estimation_iterations': 2}. Best is trial 22 with value: 0.7493576264007167.\u001b[0m\n"
     ]
    },
    {
     "name": "stdout",
     "output_type": "stream",
     "text": [
      "Valid AUC score for catboost model is 0.7491936710901655\n",
      "FOLD 0\n",
      "---------------------------------------------------\n",
      "Fold 0 ROC AUC is: 0.7504388998352598\n",
      "FOLD 1\n",
      "---------------------------------------------------\n",
      "Fold 1 ROC AUC is: 0.7511469531393198\n",
      "FOLD 2\n",
      "---------------------------------------------------\n",
      "Fold 2 ROC AUC is: 0.7486328829027256\n",
      "FOLD 3\n",
      "---------------------------------------------------\n",
      "Fold 3 ROC AUC is: 0.7489306345903984\n",
      "FOLD 4\n",
      "---------------------------------------------------\n",
      "Fold 4 ROC AUC is: 0.7470666001743573\n"
     ]
    },
    {
     "name": "stderr",
     "output_type": "stream",
     "text": [
      "\u001b[32m[I 2021-11-04 02:10:59,335]\u001b[0m Trial 24 finished with value: 0.7492378097451137 and parameters: {'iterations': 24549, 'depth': 6, 'learning_rate': 0.012373001977465284, 'random_strength': 1, 'od_wait': 1763, 'reg_lambda': 59.94314214761674, 'border_count': 275, 'min_child_samples': 14, 'leaf_estimation_iterations': 3}. Best is trial 22 with value: 0.7493576264007167.\u001b[0m\n"
     ]
    },
    {
     "name": "stdout",
     "output_type": "stream",
     "text": [
      "Valid AUC score for catboost model is 0.7492378097451137\n",
      "FOLD 0\n",
      "---------------------------------------------------\n",
      "Fold 0 ROC AUC is: 0.7495731331757274\n",
      "FOLD 1\n",
      "---------------------------------------------------\n",
      "Fold 1 ROC AUC is: 0.7499556579055755\n",
      "FOLD 2\n",
      "---------------------------------------------------\n",
      "Fold 2 ROC AUC is: 0.7476719675500139\n",
      "FOLD 3\n",
      "---------------------------------------------------\n",
      "Fold 3 ROC AUC is: 0.7480982771231505\n",
      "FOLD 4\n",
      "---------------------------------------------------\n",
      "Fold 4 ROC AUC is: 0.7459598406940418\n"
     ]
    },
    {
     "name": "stderr",
     "output_type": "stream",
     "text": [
      "\u001b[32m[I 2021-11-04 02:44:07,829]\u001b[0m Trial 25 finished with value: 0.7482457003714212 and parameters: {'iterations': 29724, 'depth': 8, 'learning_rate': 0.002407942025089624, 'random_strength': 10, 'od_wait': 1991, 'reg_lambda': 39.47588876741533, 'border_count': 168, 'min_child_samples': 17, 'leaf_estimation_iterations': 2}. Best is trial 22 with value: 0.7493576264007167.\u001b[0m\n"
     ]
    },
    {
     "name": "stdout",
     "output_type": "stream",
     "text": [
      "Valid AUC score for catboost model is 0.7482457003714212\n",
      "FOLD 0\n",
      "---------------------------------------------------\n",
      "Fold 0 ROC AUC is: 0.7504388359325934\n",
      "FOLD 1\n",
      "---------------------------------------------------\n",
      "Fold 1 ROC AUC is: 0.7511146241806661\n",
      "FOLD 2\n",
      "---------------------------------------------------\n",
      "Fold 2 ROC AUC is: 0.7485385404027214\n",
      "FOLD 3\n",
      "---------------------------------------------------\n",
      "Fold 3 ROC AUC is: 0.7488567009273637\n",
      "FOLD 4\n",
      "---------------------------------------------------\n",
      "Fold 4 ROC AUC is: 0.7470399104892975\n"
     ]
    },
    {
     "name": "stderr",
     "output_type": "stream",
     "text": [
      "\u001b[32m[I 2021-11-04 03:22:46,393]\u001b[0m Trial 26 finished with value: 0.749192516378888 and parameters: {'iterations': 26540, 'depth': 9, 'learning_rate': 0.008361055852758875, 'random_strength': 27, 'od_wait': 1850, 'reg_lambda': 31.818295603590375, 'border_count': 212, 'min_child_samples': 10, 'leaf_estimation_iterations': 1}. Best is trial 22 with value: 0.7493576264007167.\u001b[0m\n"
     ]
    },
    {
     "name": "stdout",
     "output_type": "stream",
     "text": [
      "Valid AUC score for catboost model is 0.749192516378888\n",
      "FOLD 0\n",
      "---------------------------------------------------\n",
      "Fold 0 ROC AUC is: 0.7500974495518171\n",
      "FOLD 1\n",
      "---------------------------------------------------\n",
      "Fold 1 ROC AUC is: 0.7506823610444257\n",
      "FOLD 2\n",
      "---------------------------------------------------\n",
      "Fold 2 ROC AUC is: 0.7482810038776552\n",
      "FOLD 3\n",
      "---------------------------------------------------\n",
      "Fold 3 ROC AUC is: 0.7488087394892056\n",
      "FOLD 4\n",
      "---------------------------------------------------\n",
      "Fold 4 ROC AUC is: 0.7465949292410897\n"
     ]
    },
    {
     "name": "stderr",
     "output_type": "stream",
     "text": [
      "\u001b[32m[I 2021-11-04 03:33:13,161]\u001b[0m Trial 27 finished with value: 0.748887956520402 and parameters: {'iterations': 17323, 'depth': 4, 'learning_rate': 0.019968196832403036, 'random_strength': 17, 'od_wait': 1444, 'reg_lambda': 49.292617609042, 'border_count': 185, 'min_child_samples': 12, 'leaf_estimation_iterations': 2}. Best is trial 22 with value: 0.7493576264007167.\u001b[0m\n"
     ]
    },
    {
     "name": "stdout",
     "output_type": "stream",
     "text": [
      "Valid AUC score for catboost model is 0.748887956520402\n",
      "FOLD 0\n",
      "---------------------------------------------------\n",
      "Fold 0 ROC AUC is: 0.7501307272820605\n",
      "FOLD 1\n",
      "---------------------------------------------------\n",
      "Fold 1 ROC AUC is: 0.7506243412762492\n",
      "FOLD 2\n",
      "---------------------------------------------------\n",
      "Fold 2 ROC AUC is: 0.7483823190708307\n",
      "FOLD 3\n",
      "---------------------------------------------------\n",
      "Fold 3 ROC AUC is: 0.7487964334641206\n",
      "FOLD 4\n",
      "---------------------------------------------------\n",
      "Fold 4 ROC AUC is: 0.746675050801661\n"
     ]
    },
    {
     "name": "stderr",
     "output_type": "stream",
     "text": [
      "\u001b[32m[I 2021-11-04 03:54:37,517]\u001b[0m Trial 28 finished with value: 0.7489156510550529 and parameters: {'iterations': 22202, 'depth': 7, 'learning_rate': 0.0051117088594181855, 'random_strength': 7, 'od_wait': 1658, 'reg_lambda': 56.516806834730964, 'border_count': 237, 'min_child_samples': 14, 'leaf_estimation_iterations': 3}. Best is trial 22 with value: 0.7493576264007167.\u001b[0m\n"
     ]
    },
    {
     "name": "stdout",
     "output_type": "stream",
     "text": [
      "Valid AUC score for catboost model is 0.7489156510550529\n",
      "FOLD 0\n",
      "---------------------------------------------------\n",
      "Fold 0 ROC AUC is: 0.7451633927122364\n",
      "FOLD 1\n",
      "---------------------------------------------------\n",
      "Fold 1 ROC AUC is: 0.7456404814730186\n",
      "FOLD 2\n",
      "---------------------------------------------------\n",
      "Fold 2 ROC AUC is: 0.7435424293307962\n",
      "FOLD 3\n",
      "---------------------------------------------------\n",
      "Fold 3 ROC AUC is: 0.7436362990068501\n",
      "FOLD 4\n",
      "---------------------------------------------------\n",
      "Fold 4 ROC AUC is: 0.7416112088794219\n"
     ]
    },
    {
     "name": "stderr",
     "output_type": "stream",
     "text": [
      "\u001b[32m[I 2021-11-04 04:18:08,698]\u001b[0m Trial 29 finished with value: 0.7439133643226651 and parameters: {'iterations': 27578, 'depth': 6, 'learning_rate': 0.001024003808305373, 'random_strength': 0, 'od_wait': 967, 'reg_lambda': 62.86910338022508, 'border_count': 256, 'min_child_samples': 9, 'leaf_estimation_iterations': 3}. Best is trial 22 with value: 0.7493576264007167.\u001b[0m\n"
     ]
    },
    {
     "name": "stdout",
     "output_type": "stream",
     "text": [
      "Valid AUC score for catboost model is 0.7439133643226651\n",
      "FOLD 0\n",
      "---------------------------------------------------\n",
      "Fold 0 ROC AUC is: 0.7473124696649355\n",
      "FOLD 1\n",
      "---------------------------------------------------\n",
      "Fold 1 ROC AUC is: 0.7477166422081727\n",
      "FOLD 2\n",
      "---------------------------------------------------\n",
      "Fold 2 ROC AUC is: 0.7458242110829685\n",
      "FOLD 3\n",
      "---------------------------------------------------\n",
      "Fold 3 ROC AUC is: 0.7461024157658471\n",
      "FOLD 4\n",
      "---------------------------------------------------\n",
      "Fold 4 ROC AUC is: 0.743903817628011\n",
      "Valid AUC score for catboost model is 0.7461662568881505\n"
     ]
    },
    {
     "name": "stderr",
     "output_type": "stream",
     "text": [
      "\u001b[32m[I 2021-11-04 04:30:00,376]\u001b[0m Trial 30 finished with value: 0.7461662568881505 and parameters: {'iterations': 21529, 'depth': 4, 'learning_rate': 0.0032096447206651393, 'random_strength': 86, 'od_wait': 1841, 'reg_lambda': 18.282011321504534, 'border_count': 89, 'min_child_samples': 7, 'leaf_estimation_iterations': 2}. Best is trial 22 with value: 0.7493576264007167.\u001b[0m\n"
     ]
    },
    {
     "name": "stdout",
     "output_type": "stream",
     "text": [
      "FOLD 0\n",
      "---------------------------------------------------\n",
      "Fold 0 ROC AUC is: 0.7422108905964045\n",
      "FOLD 1\n",
      "---------------------------------------------------\n",
      "Fold 1 ROC AUC is: 0.7427393811041203\n",
      "FOLD 2\n",
      "---------------------------------------------------\n",
      "Fold 2 ROC AUC is: 0.7405539127013526\n",
      "FOLD 3\n",
      "---------------------------------------------------\n",
      "Fold 3 ROC AUC is: 0.7406560384311585\n",
      "FOLD 4\n",
      "---------------------------------------------------\n"
     ]
    },
    {
     "name": "stderr",
     "output_type": "stream",
     "text": [
      "\u001b[32m[I 2021-11-04 04:38:54,811]\u001b[0m Trial 31 finished with value: 0.740964030723989 and parameters: {'iterations': 7821, 'depth': 8, 'learning_rate': 0.0022538665976319355, 'random_strength': 9, 'od_wait': 1261, 'reg_lambda': 40.220440006321915, 'border_count': 214, 'min_child_samples': 11, 'leaf_estimation_iterations': 1}. Best is trial 22 with value: 0.7493576264007167.\u001b[0m\n"
     ]
    },
    {
     "name": "stdout",
     "output_type": "stream",
     "text": [
      "Fold 4 ROC AUC is: 0.7386883673601755\n",
      "Valid AUC score for catboost model is 0.740964030723989\n",
      "FOLD 0\n",
      "---------------------------------------------------\n",
      "Fold 0 ROC AUC is: 0.7505694824333486\n",
      "FOLD 1\n",
      "---------------------------------------------------\n",
      "Fold 1 ROC AUC is: 0.7510565649625367\n",
      "FOLD 2\n",
      "---------------------------------------------------\n",
      "Fold 2 ROC AUC is: 0.7488104487657996\n",
      "FOLD 3\n",
      "---------------------------------------------------\n",
      "Fold 3 ROC AUC is: 0.7490930768440924\n",
      "FOLD 4\n",
      "---------------------------------------------------\n",
      "Fold 4 ROC AUC is: 0.747187674551257\n"
     ]
    },
    {
     "name": "stderr",
     "output_type": "stream",
     "text": [
      "\u001b[32m[I 2021-11-04 05:06:55,548]\u001b[0m Trial 32 finished with value: 0.7493380060103991 and parameters: {'iterations': 29907, 'depth': 7, 'learning_rate': 0.0074330757723281805, 'random_strength': 0, 'od_wait': 1979, 'reg_lambda': 53.78438043081934, 'border_count': 230, 'min_child_samples': 13, 'leaf_estimation_iterations': 2}. Best is trial 22 with value: 0.7493576264007167.\u001b[0m\n"
     ]
    },
    {
     "name": "stdout",
     "output_type": "stream",
     "text": [
      "Valid AUC score for catboost model is 0.7493380060103991\n",
      "FOLD 0\n",
      "---------------------------------------------------\n",
      "Fold 0 ROC AUC is: 0.7503875132007314\n",
      "FOLD 1\n",
      "---------------------------------------------------\n",
      "Fold 1 ROC AUC is: 0.750995346136553\n",
      "FOLD 2\n",
      "---------------------------------------------------\n",
      "Fold 2 ROC AUC is: 0.7486797056291968\n",
      "FOLD 3\n",
      "---------------------------------------------------\n",
      "Fold 3 ROC AUC is: 0.7490507694655002\n",
      "FOLD 4\n",
      "---------------------------------------------------\n",
      "Fold 4 ROC AUC is: 0.7471447712568672\n"
     ]
    },
    {
     "name": "stderr",
     "output_type": "stream",
     "text": [
      "\u001b[32m[I 2021-11-04 05:34:32,030]\u001b[0m Trial 33 finished with value: 0.7492461610183756 and parameters: {'iterations': 28500, 'depth': 7, 'learning_rate': 0.009458805424964424, 'random_strength': 14, 'od_wait': 1904, 'reg_lambda': 48.60185047437976, 'border_count': 234, 'min_child_samples': 12, 'leaf_estimation_iterations': 3}. Best is trial 22 with value: 0.7493576264007167.\u001b[0m\n"
     ]
    },
    {
     "name": "stdout",
     "output_type": "stream",
     "text": [
      "Valid AUC score for catboost model is 0.7492461610183756\n",
      "FOLD 0\n",
      "---------------------------------------------------\n",
      "Fold 0 ROC AUC is: 0.6978630853083767\n",
      "FOLD 1\n",
      "---------------------------------------------------\n",
      "Fold 1 ROC AUC is: 0.7000634084928458\n",
      "FOLD 2\n",
      "---------------------------------------------------\n",
      "Fold 2 ROC AUC is: 0.6980771207513234\n",
      "FOLD 3\n",
      "---------------------------------------------------\n",
      "Fold 3 ROC AUC is: 0.6989809771677339\n",
      "FOLD 4\n",
      "---------------------------------------------------\n",
      "Fold 4 ROC AUC is: 0.6982223682426484\n",
      "Valid AUC score for catboost model is 0.698638263380193\n"
     ]
    },
    {
     "name": "stderr",
     "output_type": "stream",
     "text": [
      "\u001b[32m[I 2021-11-04 06:02:31,338]\u001b[0m Trial 34 finished with value: 0.698638263380193 and parameters: {'iterations': 26367, 'depth': 7, 'learning_rate': 0.4457917418672969, 'random_strength': 4, 'od_wait': 1730, 'reg_lambda': 55.30341496637368, 'border_count': 262, 'min_child_samples': 16, 'leaf_estimation_iterations': 2}. Best is trial 22 with value: 0.7493576264007167.\u001b[0m\n"
     ]
    },
    {
     "name": "stdout",
     "output_type": "stream",
     "text": [
      "FOLD 0\n",
      "---------------------------------------------------\n",
      "Fold 0 ROC AUC is: 0.7500987342732478\n",
      "FOLD 1\n",
      "---------------------------------------------------\n",
      "Fold 1 ROC AUC is: 0.7505150768525964\n",
      "FOLD 2\n",
      "---------------------------------------------------\n",
      "Fold 2 ROC AUC is: 0.7482789121808315\n",
      "FOLD 3\n",
      "---------------------------------------------------\n",
      "Fold 3 ROC AUC is: 0.7486788855879711\n",
      "FOLD 4\n",
      "---------------------------------------------------\n",
      "Fold 4 ROC AUC is: 0.7466091720924978\n"
     ]
    },
    {
     "name": "stderr",
     "output_type": "stream",
     "text": [
      "\u001b[32m[I 2021-11-04 06:21:23,795]\u001b[0m Trial 35 finished with value: 0.7488305258450175 and parameters: {'iterations': 24889, 'depth': 6, 'learning_rate': 0.005728218716910268, 'random_strength': 14, 'od_wait': 1941, 'reg_lambda': 63.85253828641694, 'border_count': 219, 'min_child_samples': 15, 'leaf_estimation_iterations': 1}. Best is trial 22 with value: 0.7493576264007167.\u001b[0m\n"
     ]
    },
    {
     "name": "stdout",
     "output_type": "stream",
     "text": [
      "Valid AUC score for catboost model is 0.7488305258450175\n",
      "FOLD 0\n",
      "---------------------------------------------------\n",
      "Fold 0 ROC AUC is: 0.749651315309595\n",
      "FOLD 1\n",
      "---------------------------------------------------\n",
      "Fold 1 ROC AUC is: 0.7501103136673847\n",
      "FOLD 2\n",
      "---------------------------------------------------\n",
      "Fold 2 ROC AUC is: 0.7476224447038149\n",
      "FOLD 3\n",
      "---------------------------------------------------\n",
      "Fold 3 ROC AUC is: 0.7481301545509622\n",
      "FOLD 4\n",
      "---------------------------------------------------\n",
      "Fold 4 ROC AUC is: 0.7463018322001385\n"
     ]
    },
    {
     "name": "stderr",
     "output_type": "stream",
     "text": [
      "\u001b[32m[I 2021-11-04 06:41:14,278]\u001b[0m Trial 36 finished with value: 0.7483583015400832 and parameters: {'iterations': 29106, 'depth': 5, 'learning_rate': 0.018837232706241956, 'random_strength': 66, 'od_wait': 1727, 'reg_lambda': 29.87771456991246, 'border_count': 178, 'min_child_samples': 13, 'leaf_estimation_iterations': 2}. Best is trial 22 with value: 0.7493576264007167.\u001b[0m\n"
     ]
    },
    {
     "name": "stdout",
     "output_type": "stream",
     "text": [
      "Valid AUC score for catboost model is 0.7483583015400832\n",
      "FOLD 0\n",
      "---------------------------------------------------\n",
      "Fold 0 ROC AUC is: 0.744454505709335\n",
      "FOLD 1\n",
      "---------------------------------------------------\n",
      "Fold 1 ROC AUC is: 0.7459464255819883\n",
      "FOLD 2\n",
      "---------------------------------------------------\n",
      "Fold 2 ROC AUC is: 0.7434368710129575\n",
      "FOLD 3\n",
      "---------------------------------------------------\n",
      "Fold 3 ROC AUC is: 0.7435195070611292\n",
      "FOLD 4\n",
      "---------------------------------------------------\n",
      "Fold 4 ROC AUC is: 0.742189940528382\n",
      "Valid AUC score for catboost model is 0.743905484939804\n"
     ]
    },
    {
     "name": "stderr",
     "output_type": "stream",
     "text": [
      "\u001b[32m[I 2021-11-04 07:06:19,245]\u001b[0m Trial 37 finished with value: 0.743905484939804 and parameters: {'iterations': 26882, 'depth': 7, 'learning_rate': 0.029803098654300784, 'random_strength': 23, 'od_wait': 1502, 'reg_lambda': 69.93598979369024, 'border_count': 144, 'min_child_samples': 9, 'leaf_estimation_iterations': 3}. Best is trial 22 with value: 0.7493576264007167.\u001b[0m\n"
     ]
    },
    {
     "name": "stdout",
     "output_type": "stream",
     "text": [
      "FOLD 0\n",
      "---------------------------------------------------\n",
      "Fold 0 ROC AUC is: 0.7494429792811783\n",
      "FOLD 1\n",
      "---------------------------------------------------\n",
      "Fold 1 ROC AUC is: 0.7497664595426804\n",
      "FOLD 2\n",
      "---------------------------------------------------\n",
      "Fold 2 ROC AUC is: 0.7475237112796107\n",
      "FOLD 3\n",
      "---------------------------------------------------\n",
      "Fold 3 ROC AUC is: 0.7479356295653086\n",
      "FOLD 4\n",
      "---------------------------------------------------\n",
      "Fold 4 ROC AUC is: 0.7457894907017474\n"
     ]
    },
    {
     "name": "stderr",
     "output_type": "stream",
     "text": [
      "\u001b[32m[I 2021-11-04 07:18:52,274]\u001b[0m Trial 38 finished with value: 0.7480868439864539 and parameters: {'iterations': 12639, 'depth': 8, 'learning_rate': 0.006876343770127706, 'random_strength': 12, 'od_wait': 1862, 'reg_lambda': 39.08873339111095, 'border_count': 113, 'min_child_samples': 11, 'leaf_estimation_iterations': 2}. Best is trial 22 with value: 0.7493576264007167.\u001b[0m\n"
     ]
    },
    {
     "name": "stdout",
     "output_type": "stream",
     "text": [
      "Valid AUC score for catboost model is 0.7480868439864539\n",
      "FOLD 0\n",
      "---------------------------------------------------\n",
      "Fold 0 ROC AUC is: 0.7436473336272543\n",
      "FOLD 1\n",
      "---------------------------------------------------\n",
      "Fold 1 ROC AUC is: 0.7447222935408999\n",
      "FOLD 2\n",
      "---------------------------------------------------\n",
      "Fold 2 ROC AUC is: 0.7423134392349388\n",
      "FOLD 3\n",
      "---------------------------------------------------\n",
      "Fold 3 ROC AUC is: 0.74225142029354\n",
      "FOLD 4\n",
      "---------------------------------------------------\n",
      "Fold 4 ROC AUC is: 0.7410109308513173\n"
     ]
    },
    {
     "name": "stderr",
     "output_type": "stream",
     "text": [
      "\u001b[32m[I 2021-11-04 07:54:59,698]\u001b[0m Trial 39 finished with value: 0.7427841552296388 and parameters: {'iterations': 15019, 'depth': 10, 'learning_rate': 0.04444684024288489, 'random_strength': 45, 'od_wait': 1682, 'reg_lambda': 51.1001772870416, 'border_count': 258, 'min_child_samples': 6, 'leaf_estimation_iterations': 1}. Best is trial 22 with value: 0.7493576264007167.\u001b[0m\n"
     ]
    },
    {
     "name": "stdout",
     "output_type": "stream",
     "text": [
      "Valid AUC score for catboost model is 0.7427841552296388\n",
      "FOLD 0\n",
      "---------------------------------------------------\n",
      "Fold 0 ROC AUC is: 0.7481854431560404\n",
      "FOLD 1\n",
      "---------------------------------------------------\n",
      "Fold 1 ROC AUC is: 0.7485676013084426\n",
      "FOLD 2\n",
      "---------------------------------------------------\n",
      "Fold 2 ROC AUC is: 0.7464309315141132\n",
      "FOLD 3\n",
      "---------------------------------------------------\n",
      "Fold 3 ROC AUC is: 0.7467203156872149\n",
      "FOLD 4\n",
      "---------------------------------------------------\n"
     ]
    },
    {
     "name": "stderr",
     "output_type": "stream",
     "text": [
      "\u001b[32m[I 2021-11-04 08:13:21,851]\u001b[0m Trial 40 finished with value: 0.7468924369291556 and parameters: {'iterations': 23430, 'depth': 6, 'learning_rate': 0.0021976630220921153, 'random_strength': 6, 'od_wait': 80, 'reg_lambda': 59.674962377536495, 'border_count': 205, 'min_child_samples': 17, 'leaf_estimation_iterations': 2}. Best is trial 22 with value: 0.7493576264007167.\u001b[0m\n"
     ]
    },
    {
     "name": "stdout",
     "output_type": "stream",
     "text": [
      "Fold 4 ROC AUC is: 0.744587083344327\n",
      "Valid AUC score for catboost model is 0.7468924369291556\n",
      "FOLD 0\n",
      "---------------------------------------------------\n",
      "Fold 0 ROC AUC is: 0.7485974078090674\n",
      "FOLD 1\n",
      "---------------------------------------------------\n",
      "Fold 1 ROC AUC is: 0.7491785724538832\n",
      "FOLD 2\n",
      "---------------------------------------------------\n",
      "Fold 2 ROC AUC is: 0.7469928995235724\n",
      "FOLD 3\n",
      "---------------------------------------------------\n",
      "Fold 3 ROC AUC is: 0.7474449937680885\n",
      "FOLD 4\n",
      "---------------------------------------------------\n",
      "Fold 4 ROC AUC is: 0.7454316381225208\n"
     ]
    },
    {
     "name": "stderr",
     "output_type": "stream",
     "text": [
      "\u001b[32m[I 2021-11-04 08:23:51,449]\u001b[0m Trial 41 finished with value: 0.7475243544732996 and parameters: {'iterations': 20032, 'depth': 5, 'learning_rate': 0.01100194178318069, 'random_strength': 18, 'od_wait': 534, 'reg_lambda': 47.42592951228957, 'border_count': 50, 'min_child_samples': 16, 'leaf_estimation_iterations': 1}. Best is trial 22 with value: 0.7493576264007167.\u001b[0m\n"
     ]
    },
    {
     "name": "stdout",
     "output_type": "stream",
     "text": [
      "Valid AUC score for catboost model is 0.7475243544732996\n",
      "FOLD 0\n",
      "---------------------------------------------------\n",
      "Fold 0 ROC AUC is: 0.75060317469741\n",
      "FOLD 1\n",
      "---------------------------------------------------\n",
      "Fold 1 ROC AUC is: 0.750973955094089\n",
      "FOLD 2\n",
      "---------------------------------------------------\n",
      "Fold 2 ROC AUC is: 0.7487374077350837\n",
      "FOLD 3\n",
      "---------------------------------------------------\n",
      "Fold 3 ROC AUC is: 0.7491494335272397\n",
      "FOLD 4\n",
      "---------------------------------------------------\n",
      "Fold 4 ROC AUC is: 0.7472259207007639\n"
     ]
    },
    {
     "name": "stderr",
     "output_type": "stream",
     "text": [
      "\u001b[32m[I 2021-11-04 08:51:24,410]\u001b[0m Trial 42 finished with value: 0.7493338652565857 and parameters: {'iterations': 29758, 'depth': 7, 'learning_rate': 0.008050728333693837, 'random_strength': 1, 'od_wait': 1998, 'reg_lambda': 53.157263954533484, 'border_count': 232, 'min_child_samples': 13, 'leaf_estimation_iterations': 2}. Best is trial 22 with value: 0.7493576264007167.\u001b[0m\n"
     ]
    },
    {
     "name": "stdout",
     "output_type": "stream",
     "text": [
      "Valid AUC score for catboost model is 0.7493338652565857\n",
      "FOLD 0\n",
      "---------------------------------------------------\n",
      "Fold 0 ROC AUC is: 0.7503214670167115\n",
      "FOLD 1\n",
      "---------------------------------------------------\n",
      "Fold 1 ROC AUC is: 0.7507697235209415\n",
      "FOLD 2\n",
      "---------------------------------------------------\n",
      "Fold 2 ROC AUC is: 0.7485129758058249\n",
      "FOLD 3\n",
      "---------------------------------------------------\n",
      "Fold 3 ROC AUC is: 0.7489082894980733\n",
      "FOLD 4\n",
      "---------------------------------------------------\n",
      "Fold 4 ROC AUC is: 0.7467852260038293\n"
     ]
    },
    {
     "name": "stderr",
     "output_type": "stream",
     "text": [
      "\u001b[32m[I 2021-11-04 09:18:01,140]\u001b[0m Trial 43 finished with value: 0.7490537492853183 and parameters: {'iterations': 28799, 'depth': 7, 'learning_rate': 0.004503255621066456, 'random_strength': 5, 'od_wait': 1917, 'reg_lambda': 54.21097776054391, 'border_count': 237, 'min_child_samples': 13, 'leaf_estimation_iterations': 2}. Best is trial 22 with value: 0.7493576264007167.\u001b[0m\n"
     ]
    },
    {
     "name": "stdout",
     "output_type": "stream",
     "text": [
      "Valid AUC score for catboost model is 0.7490537492853183\n",
      "FOLD 0\n",
      "---------------------------------------------------\n",
      "Fold 0 ROC AUC is: 0.7504979253389525\n",
      "FOLD 1\n",
      "---------------------------------------------------\n",
      "Fold 1 ROC AUC is: 0.7510841899310218\n",
      "FOLD 2\n",
      "---------------------------------------------------\n",
      "Fold 2 ROC AUC is: 0.7487466785443561\n",
      "FOLD 3\n",
      "---------------------------------------------------\n",
      "Fold 3 ROC AUC is: 0.7490946181531761\n",
      "FOLD 4\n",
      "---------------------------------------------------\n",
      "Fold 4 ROC AUC is: 0.7471969966195995\n"
     ]
    },
    {
     "name": "stderr",
     "output_type": "stream",
     "text": [
      "\u001b[32m[I 2021-11-04 09:44:19,891]\u001b[0m Trial 44 finished with value: 0.7493188570215233 and parameters: {'iterations': 28722, 'depth': 7, 'learning_rate': 0.007583819650520586, 'random_strength': 0, 'od_wait': 1633, 'reg_lambda': 51.161973778356966, 'border_count': 221, 'min_child_samples': 12, 'leaf_estimation_iterations': 2}. Best is trial 22 with value: 0.7493576264007167.\u001b[0m\n"
     ]
    },
    {
     "name": "stdout",
     "output_type": "stream",
     "text": [
      "Valid AUC score for catboost model is 0.7493188570215233\n",
      "FOLD 0\n",
      "---------------------------------------------------\n",
      "Fold 0 ROC AUC is: 0.7497276703828812\n",
      "FOLD 1\n",
      "---------------------------------------------------\n",
      "Fold 1 ROC AUC is: 0.7506919854438707\n",
      "FOLD 2\n",
      "---------------------------------------------------\n",
      "Fold 2 ROC AUC is: 0.74822134759519\n",
      "FOLD 3\n",
      "---------------------------------------------------\n",
      "Fold 3 ROC AUC is: 0.74835228724934\n",
      "FOLD 4\n",
      "---------------------------------------------------\n",
      "Fold 4 ROC AUC is: 0.7465664035341656\n"
     ]
    },
    {
     "name": "stderr",
     "output_type": "stream",
     "text": [
      "\u001b[32m[I 2021-11-04 10:10:08,606]\u001b[0m Trial 45 finished with value: 0.7487070557060025 and parameters: {'iterations': 29820, 'depth': 6, 'learning_rate': 0.014518986184677889, 'random_strength': 14, 'od_wait': 1783, 'reg_lambda': 58.708815060203484, 'border_count': 268, 'min_child_samples': 15, 'leaf_estimation_iterations': 2}. Best is trial 22 with value: 0.7493576264007167.\u001b[0m\n"
     ]
    },
    {
     "name": "stdout",
     "output_type": "stream",
     "text": [
      "Valid AUC score for catboost model is 0.7487070557060025\n",
      "FOLD 0\n",
      "---------------------------------------------------\n"
     ]
    },
    {
     "ename": "KeyboardInterrupt",
     "evalue": "",
     "output_type": "error",
     "traceback": [
      "\u001b[0;31m---------------------------------------------------------------------------\u001b[0m",
      "\u001b[0;31mKeyboardInterrupt\u001b[0m                         Traceback (most recent call last)",
      "\u001b[0;32m<ipython-input-21-3cfec87ab936>\u001b[0m in \u001b[0;36m<module>\u001b[0;34m\u001b[0m\n\u001b[1;32m      1\u001b[0m \u001b[0;32mfor\u001b[0m \u001b[0mx\u001b[0m \u001b[0;32min\u001b[0m \u001b[0mrange\u001b[0m\u001b[0;34m(\u001b[0m\u001b[0;36m100\u001b[0m\u001b[0;34m)\u001b[0m\u001b[0;34m:\u001b[0m\u001b[0;34m\u001b[0m\u001b[0;34m\u001b[0m\u001b[0m\n\u001b[0;32m----> 2\u001b[0;31m     \u001b[0mstudy\u001b[0m\u001b[0;34m.\u001b[0m\u001b[0moptimize\u001b[0m\u001b[0;34m(\u001b[0m\u001b[0mobjective\u001b[0m\u001b[0;34m,\u001b[0m \u001b[0mn_trials\u001b[0m \u001b[0;34m=\u001b[0m \u001b[0;36m1\u001b[0m\u001b[0;34m,\u001b[0m \u001b[0mcallbacks\u001b[0m \u001b[0;34m=\u001b[0m \u001b[0;34m[\u001b[0m\u001b[0mwandbc\u001b[0m\u001b[0;34m]\u001b[0m\u001b[0;34m)\u001b[0m \u001b[0;31m#n_jobs = multiprocessing.cpu_count())\u001b[0m\u001b[0;34m\u001b[0m\u001b[0;34m\u001b[0m\u001b[0m\n\u001b[0m\u001b[1;32m      3\u001b[0m     \u001b[0mdump\u001b[0m\u001b[0;34m(\u001b[0m\u001b[0mstudy\u001b[0m\u001b[0;34m,\u001b[0m \u001b[0mfilename\u001b[0m\u001b[0;34m=\u001b[0m\u001b[0mstudypath\u001b[0m\u001b[0;34m/\u001b[0m\u001b[0;34mf\"optuna-{exmodel_config['arch']}-lv{exmodel_config['level']}-study-trial{x}-{datetime.now().strftime('%Y%m%d')}.joblib\"\u001b[0m\u001b[0;34m)\u001b[0m\u001b[0;34m\u001b[0m\u001b[0;34m\u001b[0m\u001b[0m\n",
      "\u001b[0;32m~/anaconda3/envs/tabular-x/lib/python3.8/site-packages/optuna/study/study.py\u001b[0m in \u001b[0;36moptimize\u001b[0;34m(self, func, n_trials, timeout, n_jobs, catch, callbacks, gc_after_trial, show_progress_bar)\u001b[0m\n\u001b[1;32m    398\u001b[0m             )\n\u001b[1;32m    399\u001b[0m \u001b[0;34m\u001b[0m\u001b[0m\n\u001b[0;32m--> 400\u001b[0;31m         _optimize(\n\u001b[0m\u001b[1;32m    401\u001b[0m             \u001b[0mstudy\u001b[0m\u001b[0;34m=\u001b[0m\u001b[0mself\u001b[0m\u001b[0;34m,\u001b[0m\u001b[0;34m\u001b[0m\u001b[0;34m\u001b[0m\u001b[0m\n\u001b[1;32m    402\u001b[0m             \u001b[0mfunc\u001b[0m\u001b[0;34m=\u001b[0m\u001b[0mfunc\u001b[0m\u001b[0;34m,\u001b[0m\u001b[0;34m\u001b[0m\u001b[0;34m\u001b[0m\u001b[0m\n",
      "\u001b[0;32m~/anaconda3/envs/tabular-x/lib/python3.8/site-packages/optuna/study/_optimize.py\u001b[0m in \u001b[0;36m_optimize\u001b[0;34m(study, func, n_trials, timeout, n_jobs, catch, callbacks, gc_after_trial, show_progress_bar)\u001b[0m\n\u001b[1;32m     64\u001b[0m     \u001b[0;32mtry\u001b[0m\u001b[0;34m:\u001b[0m\u001b[0;34m\u001b[0m\u001b[0;34m\u001b[0m\u001b[0m\n\u001b[1;32m     65\u001b[0m         \u001b[0;32mif\u001b[0m \u001b[0mn_jobs\u001b[0m \u001b[0;34m==\u001b[0m \u001b[0;36m1\u001b[0m\u001b[0;34m:\u001b[0m\u001b[0;34m\u001b[0m\u001b[0;34m\u001b[0m\u001b[0m\n\u001b[0;32m---> 66\u001b[0;31m             _optimize_sequential(\n\u001b[0m\u001b[1;32m     67\u001b[0m                 \u001b[0mstudy\u001b[0m\u001b[0;34m,\u001b[0m\u001b[0;34m\u001b[0m\u001b[0;34m\u001b[0m\u001b[0m\n\u001b[1;32m     68\u001b[0m                 \u001b[0mfunc\u001b[0m\u001b[0;34m,\u001b[0m\u001b[0;34m\u001b[0m\u001b[0;34m\u001b[0m\u001b[0m\n",
      "\u001b[0;32m~/anaconda3/envs/tabular-x/lib/python3.8/site-packages/optuna/study/_optimize.py\u001b[0m in \u001b[0;36m_optimize_sequential\u001b[0;34m(study, func, n_trials, timeout, catch, callbacks, gc_after_trial, reseed_sampler_rng, time_start, progress_bar)\u001b[0m\n\u001b[1;32m    161\u001b[0m \u001b[0;34m\u001b[0m\u001b[0m\n\u001b[1;32m    162\u001b[0m         \u001b[0;32mtry\u001b[0m\u001b[0;34m:\u001b[0m\u001b[0;34m\u001b[0m\u001b[0;34m\u001b[0m\u001b[0m\n\u001b[0;32m--> 163\u001b[0;31m             \u001b[0mtrial\u001b[0m \u001b[0;34m=\u001b[0m \u001b[0m_run_trial\u001b[0m\u001b[0;34m(\u001b[0m\u001b[0mstudy\u001b[0m\u001b[0;34m,\u001b[0m \u001b[0mfunc\u001b[0m\u001b[0;34m,\u001b[0m \u001b[0mcatch\u001b[0m\u001b[0;34m)\u001b[0m\u001b[0;34m\u001b[0m\u001b[0;34m\u001b[0m\u001b[0m\n\u001b[0m\u001b[1;32m    164\u001b[0m         \u001b[0;32mexcept\u001b[0m \u001b[0mException\u001b[0m\u001b[0;34m:\u001b[0m\u001b[0;34m\u001b[0m\u001b[0;34m\u001b[0m\u001b[0m\n\u001b[1;32m    165\u001b[0m             \u001b[0;32mraise\u001b[0m\u001b[0;34m\u001b[0m\u001b[0;34m\u001b[0m\u001b[0m\n",
      "\u001b[0;32m~/anaconda3/envs/tabular-x/lib/python3.8/site-packages/optuna/study/_optimize.py\u001b[0m in \u001b[0;36m_run_trial\u001b[0;34m(study, func, catch)\u001b[0m\n\u001b[1;32m    211\u001b[0m \u001b[0;34m\u001b[0m\u001b[0m\n\u001b[1;32m    212\u001b[0m     \u001b[0;32mtry\u001b[0m\u001b[0;34m:\u001b[0m\u001b[0;34m\u001b[0m\u001b[0;34m\u001b[0m\u001b[0m\n\u001b[0;32m--> 213\u001b[0;31m         \u001b[0mvalue_or_values\u001b[0m \u001b[0;34m=\u001b[0m \u001b[0mfunc\u001b[0m\u001b[0;34m(\u001b[0m\u001b[0mtrial\u001b[0m\u001b[0;34m)\u001b[0m\u001b[0;34m\u001b[0m\u001b[0;34m\u001b[0m\u001b[0m\n\u001b[0m\u001b[1;32m    214\u001b[0m     \u001b[0;32mexcept\u001b[0m \u001b[0mexceptions\u001b[0m\u001b[0;34m.\u001b[0m\u001b[0mTrialPruned\u001b[0m \u001b[0;32mas\u001b[0m \u001b[0me\u001b[0m\u001b[0;34m:\u001b[0m\u001b[0;34m\u001b[0m\u001b[0;34m\u001b[0m\u001b[0m\n\u001b[1;32m    215\u001b[0m         \u001b[0;31m# TODO(mamu): Handle multi-objective cases.\u001b[0m\u001b[0;34m\u001b[0m\u001b[0;34m\u001b[0m\u001b[0;34m\u001b[0m\u001b[0m\n",
      "\u001b[0;32m<ipython-input-20-81da58f6ba04>\u001b[0m in \u001b[0;36mobjective\u001b[0;34m(trial, arch)\u001b[0m\n\u001b[1;32m     62\u001b[0m         \u001b[0mX_valid\u001b[0m \u001b[0;34m=\u001b[0m \u001b[0mscaler\u001b[0m\u001b[0;34m.\u001b[0m\u001b[0mtransform\u001b[0m\u001b[0;34m(\u001b[0m\u001b[0mX_valid\u001b[0m\u001b[0;34m)\u001b[0m\u001b[0;34m\u001b[0m\u001b[0;34m\u001b[0m\u001b[0m\n\u001b[1;32m     63\u001b[0m \u001b[0;34m\u001b[0m\u001b[0m\n\u001b[0;32m---> 64\u001b[0;31m         \u001b[0mmodel\u001b[0m\u001b[0;34m.\u001b[0m\u001b[0mfit\u001b[0m\u001b[0;34m(\u001b[0m\u001b[0mX_train\u001b[0m\u001b[0;34m,\u001b[0m \u001b[0my_train\u001b[0m\u001b[0;34m)\u001b[0m\u001b[0;34m\u001b[0m\u001b[0;34m\u001b[0m\u001b[0m\n\u001b[0m\u001b[1;32m     65\u001b[0m         \u001b[0my_valid_preds\u001b[0m \u001b[0;34m=\u001b[0m \u001b[0mmodel\u001b[0m\u001b[0;34m.\u001b[0m\u001b[0mpredict_proba\u001b[0m\u001b[0;34m(\u001b[0m\u001b[0mX_valid\u001b[0m\u001b[0;34m)\u001b[0m\u001b[0;34m[\u001b[0m\u001b[0;34m:\u001b[0m\u001b[0;34m,\u001b[0m\u001b[0;36m1\u001b[0m\u001b[0;34m]\u001b[0m\u001b[0;34m\u001b[0m\u001b[0;34m\u001b[0m\u001b[0m\n\u001b[1;32m     66\u001b[0m \u001b[0;34m\u001b[0m\u001b[0m\n",
      "\u001b[0;32m~/anaconda3/envs/tabular-x/lib/python3.8/site-packages/catboost/core.py\u001b[0m in \u001b[0;36mfit\u001b[0;34m(self, X, y, cat_features, text_features, embedding_features, sample_weight, baseline, use_best_model, eval_set, verbose, logging_level, plot, column_description, verbose_eval, metric_period, silent, early_stopping_rounds, save_snapshot, snapshot_file, snapshot_interval, init_model, callbacks, log_cout, log_cerr)\u001b[0m\n\u001b[1;32m   4714\u001b[0m             \u001b[0mCatBoostClassifier\u001b[0m\u001b[0;34m.\u001b[0m\u001b[0m_check_is_compatible_loss\u001b[0m\u001b[0;34m(\u001b[0m\u001b[0mparams\u001b[0m\u001b[0;34m[\u001b[0m\u001b[0;34m'loss_function'\u001b[0m\u001b[0;34m]\u001b[0m\u001b[0;34m)\u001b[0m\u001b[0;34m\u001b[0m\u001b[0;34m\u001b[0m\u001b[0m\n\u001b[1;32m   4715\u001b[0m \u001b[0;34m\u001b[0m\u001b[0m\n\u001b[0;32m-> 4716\u001b[0;31m         self._fit(X, y, cat_features, text_features, embedding_features, None, sample_weight, None, None, None, None, baseline, use_best_model,\n\u001b[0m\u001b[1;32m   4717\u001b[0m                   \u001b[0meval_set\u001b[0m\u001b[0;34m,\u001b[0m \u001b[0mverbose\u001b[0m\u001b[0;34m,\u001b[0m \u001b[0mlogging_level\u001b[0m\u001b[0;34m,\u001b[0m \u001b[0mplot\u001b[0m\u001b[0;34m,\u001b[0m \u001b[0mcolumn_description\u001b[0m\u001b[0;34m,\u001b[0m \u001b[0mverbose_eval\u001b[0m\u001b[0;34m,\u001b[0m \u001b[0mmetric_period\u001b[0m\u001b[0;34m,\u001b[0m\u001b[0;34m\u001b[0m\u001b[0;34m\u001b[0m\u001b[0m\n\u001b[1;32m   4718\u001b[0m                   silent, early_stopping_rounds, save_snapshot, snapshot_file, snapshot_interval, init_model, callbacks, log_cout, log_cerr)\n",
      "\u001b[0;32m~/anaconda3/envs/tabular-x/lib/python3.8/site-packages/catboost/core.py\u001b[0m in \u001b[0;36m_fit\u001b[0;34m(self, X, y, cat_features, text_features, embedding_features, pairs, sample_weight, group_id, group_weight, subgroup_id, pairs_weight, baseline, use_best_model, eval_set, verbose, logging_level, plot, column_description, verbose_eval, metric_period, silent, early_stopping_rounds, save_snapshot, snapshot_file, snapshot_interval, init_model, callbacks, log_cout, log_cerr)\u001b[0m\n\u001b[1;32m   2035\u001b[0m         \u001b[0;32mwith\u001b[0m \u001b[0mlog_fixup\u001b[0m\u001b[0;34m(\u001b[0m\u001b[0mlog_cout\u001b[0m\u001b[0;34m,\u001b[0m \u001b[0mlog_cerr\u001b[0m\u001b[0;34m)\u001b[0m\u001b[0;34m,\u001b[0m\u001b[0;31m \u001b[0m\u001b[0;31m\\\u001b[0m\u001b[0;34m\u001b[0m\u001b[0;34m\u001b[0m\u001b[0m\n\u001b[1;32m   2036\u001b[0m             \u001b[0mplot_wrapper\u001b[0m\u001b[0;34m(\u001b[0m\u001b[0mplot\u001b[0m\u001b[0;34m,\u001b[0m \u001b[0;34m[\u001b[0m\u001b[0m_get_train_dir\u001b[0m\u001b[0;34m(\u001b[0m\u001b[0mself\u001b[0m\u001b[0;34m.\u001b[0m\u001b[0mget_params\u001b[0m\u001b[0;34m(\u001b[0m\u001b[0;34m)\u001b[0m\u001b[0;34m)\u001b[0m\u001b[0;34m]\u001b[0m\u001b[0;34m)\u001b[0m\u001b[0;34m:\u001b[0m\u001b[0;34m\u001b[0m\u001b[0;34m\u001b[0m\u001b[0m\n\u001b[0;32m-> 2037\u001b[0;31m             self._train(\n\u001b[0m\u001b[1;32m   2038\u001b[0m                 \u001b[0mtrain_pool\u001b[0m\u001b[0;34m,\u001b[0m\u001b[0;34m\u001b[0m\u001b[0;34m\u001b[0m\u001b[0m\n\u001b[1;32m   2039\u001b[0m                 \u001b[0mtrain_params\u001b[0m\u001b[0;34m[\u001b[0m\u001b[0;34m\"eval_sets\"\u001b[0m\u001b[0;34m]\u001b[0m\u001b[0;34m,\u001b[0m\u001b[0;34m\u001b[0m\u001b[0;34m\u001b[0m\u001b[0m\n",
      "\u001b[0;32m~/anaconda3/envs/tabular-x/lib/python3.8/site-packages/catboost/core.py\u001b[0m in \u001b[0;36m_train\u001b[0;34m(self, train_pool, test_pool, params, allow_clear_pool, init_model)\u001b[0m\n\u001b[1;32m   1462\u001b[0m \u001b[0;34m\u001b[0m\u001b[0m\n\u001b[1;32m   1463\u001b[0m     \u001b[0;32mdef\u001b[0m \u001b[0m_train\u001b[0m\u001b[0;34m(\u001b[0m\u001b[0mself\u001b[0m\u001b[0;34m,\u001b[0m \u001b[0mtrain_pool\u001b[0m\u001b[0;34m,\u001b[0m \u001b[0mtest_pool\u001b[0m\u001b[0;34m,\u001b[0m \u001b[0mparams\u001b[0m\u001b[0;34m,\u001b[0m \u001b[0mallow_clear_pool\u001b[0m\u001b[0;34m,\u001b[0m \u001b[0minit_model\u001b[0m\u001b[0;34m)\u001b[0m\u001b[0;34m:\u001b[0m\u001b[0;34m\u001b[0m\u001b[0;34m\u001b[0m\u001b[0m\n\u001b[0;32m-> 1464\u001b[0;31m         \u001b[0mself\u001b[0m\u001b[0;34m.\u001b[0m\u001b[0m_object\u001b[0m\u001b[0;34m.\u001b[0m\u001b[0m_train\u001b[0m\u001b[0;34m(\u001b[0m\u001b[0mtrain_pool\u001b[0m\u001b[0;34m,\u001b[0m \u001b[0mtest_pool\u001b[0m\u001b[0;34m,\u001b[0m \u001b[0mparams\u001b[0m\u001b[0;34m,\u001b[0m \u001b[0mallow_clear_pool\u001b[0m\u001b[0;34m,\u001b[0m \u001b[0minit_model\u001b[0m\u001b[0;34m.\u001b[0m\u001b[0m_object\u001b[0m \u001b[0;32mif\u001b[0m \u001b[0minit_model\u001b[0m \u001b[0;32melse\u001b[0m \u001b[0;32mNone\u001b[0m\u001b[0;34m)\u001b[0m\u001b[0;34m\u001b[0m\u001b[0;34m\u001b[0m\u001b[0m\n\u001b[0m\u001b[1;32m   1465\u001b[0m         \u001b[0mself\u001b[0m\u001b[0;34m.\u001b[0m\u001b[0m_set_trained_model_attributes\u001b[0m\u001b[0;34m(\u001b[0m\u001b[0;34m)\u001b[0m\u001b[0;34m\u001b[0m\u001b[0;34m\u001b[0m\u001b[0m\n\u001b[1;32m   1466\u001b[0m \u001b[0;34m\u001b[0m\u001b[0m\n",
      "\u001b[0;32m_catboost.pyx\u001b[0m in \u001b[0;36m_catboost._CatBoost._train\u001b[0;34m()\u001b[0m\n",
      "\u001b[0;32m_catboost.pyx\u001b[0m in \u001b[0;36m_catboost._CatBoost._train\u001b[0;34m()\u001b[0m\n",
      "\u001b[0;31mKeyboardInterrupt\u001b[0m: "
     ]
    }
   ],
   "source": [
    "for x in range(100):\n",
    "    study.optimize(objective, n_trials = 1, callbacks = [wandbc]) #n_jobs = multiprocessing.cpu_count())\n",
    "    dump(study, filename=studypath/f\"optuna-{exmodel_config['arch']}-lv{exmodel_config['level']}-study-trial{x}-{datetime.now().strftime('%Y%m%d')}.joblib\")"
   ]
  },
  {
   "cell_type": "code",
   "execution_count": 22,
   "id": "f1c46d4d-de6e-4c32-8116-d5793597a486",
   "metadata": {},
   "outputs": [
    {
     "data": {
      "text/plain": [
       "['/media/sf/easystore/kaggle_data/tabular_playgrounds/nov2021/studies/optuna-catboost_lv1-thru_trial_45-20211104.joblib']"
      ]
     },
     "execution_count": 22,
     "metadata": {},
     "output_type": "execute_result"
    }
   ],
   "source": [
    "dump(study, filename=studypath/f\"optuna-{exmodel_config['arch']}_lv{exmodel_config['level']}-thru_trial_45-{datetime.now().strftime('%Y%m%d')}.joblib\")"
   ]
  },
  {
   "cell_type": "code",
   "execution_count": 23,
   "id": "ac04da72-52f1-42d1-8f26-14913a5c6e88",
   "metadata": {},
   "outputs": [
    {
     "data": {
      "text/plain": [
       "{'iterations': 29222,\n",
       " 'depth': 7,\n",
       " 'learning_rate': 0.0067277390824230605,\n",
       " 'random_strength': 1,\n",
       " 'od_wait': 1989,\n",
       " 'reg_lambda': 51.436909447809484,\n",
       " 'border_count': 239,\n",
       " 'min_child_samples': 11,\n",
       " 'leaf_estimation_iterations': 2}"
      ]
     },
     "execution_count": 23,
     "metadata": {},
     "output_type": "execute_result"
    }
   ],
   "source": [
    "study.best_trial.params"
   ]
  },
  {
   "cell_type": "code",
   "execution_count": 24,
   "id": "f02e689e-b20c-48e5-a7d9-02467b4f3dbd",
   "metadata": {
    "id": "f02e689e-b20c-48e5-a7d9-02467b4f3dbd"
   },
   "outputs": [
    {
     "data": {
      "text/html": [
       "<br/>Waiting for W&B process to finish, PID 66325... <strong style=\"color:green\">(success).</strong>"
      ],
      "text/plain": [
       "<IPython.core.display.HTML object>"
      ]
     },
     "metadata": {},
     "output_type": "display_data"
    },
    {
     "data": {
      "application/vnd.jupyter.widget-view+json": {
       "model_id": "",
       "version_major": 2,
       "version_minor": 0
      },
      "text/plain": [
       "VBox(children=(Label(value=' 0.00MB of 0.00MB uploaded (0.00MB deduped)\\r'), FloatProgress(value=1.0, max=1.0)…"
      ]
     },
     "metadata": {},
     "output_type": "display_data"
    },
    {
     "data": {
      "text/html": [
       "<style>\n",
       "    table.wandb td:nth-child(1) { padding: 0 10px; text-align: right }\n",
       "    .wandb-row { display: flex; flex-direction: row; flex-wrap: wrap; width: 100% }\n",
       "    .wandb-col { display: flex; flex-direction: column; flex-basis: 100%; flex: 1; padding: 10px; }\n",
       "    </style>\n",
       "<div class=\"wandb-row\"><div class=\"wandb-col\">\n",
       "<h3>Run history:</h3><br/><table class=\"wandb\"><tr><td>border_count</td><td>▂▄█▁▆▄█▄▅██▇▇▇▆▇▇▆▇▇▇█▅▆▇▇▂▆▇▇█▆▄▃▇▆▁▇▇█</td></tr><tr><td>depth</td><td>▁▃▅▁▃█▃▇▆▄▄▅▅▆▄▆▅▇▄▅▅▄▆▇▅▄▂▆▅▅▅▄▅▆█▄▃▅▅▄</td></tr><tr><td>iterations</td><td>▆▄▅▃▆▅▃▁▂████▇▇▇█▆▇██▇█▇▆▇▆▂██▇▇▇▄▄▆▆███</td></tr><tr><td>leaf_estimation_iterations</td><td>▅▁█▃██▁█▁▃▃▃▃▆▃▅▃▆▁▃▃▅▃▁▅▅▃▁▃▅▃▁▅▃▁▃▁▃▃▃</td></tr><tr><td>learning_rate</td><td>█▂▁▂▁▁▁▂▃▁▁▁▁▁▁▁▁▁▄▁▁▁▁▁▁▁▁▁▁▁█▁▁▁▂▁▁▁▁▁</td></tr><tr><td>min_child_samples</td><td>▃▇███▃▇▂▄▅▅▆▅▆▄▆▄▂▁▅▅▆▇▄▆▄▃▅▅▅▇▆▄▅▃▇▇▅▅▆</td></tr><tr><td>od_wait</td><td>▂▃▂▂▂▁▇▆▆████▅▅▇▆▄▆█▇▇█▇▇▄▇▅██▇█▆█▇▁▃██▇</td></tr><tr><td>random_strength</td><td>▇▂▅▄▅▂▂▆▅▁▁▁▁█▄▃▃▁▄▁▂▁▂▃▁▁▇▂▁▂▁▂▃▂▄▁▂▁▁▂</td></tr><tr><td>reg_lambda</td><td>▂▃▁▄█▃▁▁▄▆▆▆▆▇▅▇▅▇█▆▅▇▅▄▇▇▂▅▆▆▆▇█▅▆▇▆▆▆▇</td></tr><tr><td>value</td><td>▂█▇████▇▇█████████▃██████▇█▇██▁█▇█▇█████</td></tr></table><br/></div><div class=\"wandb-col\">\n",
       "<h3>Run summary:</h3><br/><table class=\"wandb\"><tr><td>border_count</td><td>268</td></tr><tr><td>depth</td><td>6</td></tr><tr><td>iterations</td><td>29820</td></tr><tr><td>leaf_estimation_iterations</td><td>2</td></tr><tr><td>learning_rate</td><td>0.01452</td></tr><tr><td>min_child_samples</td><td>15</td></tr><tr><td>od_wait</td><td>1783</td></tr><tr><td>random_strength</td><td>14</td></tr><tr><td>reg_lambda</td><td>58.70882</td></tr><tr><td>value</td><td>0.74871</td></tr></table>\n",
       "</div></div>\n",
       "Synced 6 W&B file(s), 0 media file(s), 0 artifact file(s) and 0 other file(s)\n",
       "<br/>Synced <strong style=\"color:#cdcd00\">sweep_xgboost_20211103_154802</strong>: <a href=\"https://wandb.ai/hushifang/202111_Kaggle_tabular_playground/runs/3onvb47d\" target=\"_blank\">https://wandb.ai/hushifang/202111_Kaggle_tabular_playground/runs/3onvb47d</a><br/>\n",
       "Find logs at: <code>./wandb/run-20211103_154802-3onvb47d/logs</code><br/>\n"
      ],
      "text/plain": [
       "<IPython.core.display.HTML object>"
      ]
     },
     "metadata": {},
     "output_type": "display_data"
    }
   ],
   "source": [
    "wandb.log({'catboost_params': study.best_trial.params})\n",
    "wandb.finish()"
   ]
  }
 ],
 "metadata": {
  "accelerator": "GPU",
  "colab": {
   "name": "sweep_catboost_20210924.ipynb",
   "provenance": []
  },
  "kernelspec": {
   "display_name": "Python 3",
   "language": "python",
   "name": "python3"
  },
  "language_info": {
   "codemirror_mode": {
    "name": "ipython",
    "version": 3
   },
   "file_extension": ".py",
   "mimetype": "text/x-python",
   "name": "python",
   "nbconvert_exporter": "python",
   "pygments_lexer": "ipython3",
   "version": "3.8.12"
  }
 },
 "nbformat": 4,
 "nbformat_minor": 5
}
