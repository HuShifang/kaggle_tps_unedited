{
 "cells": [
  {
   "cell_type": "markdown",
   "id": "1d4e7f70-25a3-4d58-b98a-3a695e55ee53",
   "metadata": {},
   "source": [
    "# Catboost Hyperparameter Sweep 20210918\n",
    "Largely after https://www.kaggle.com/satorushibata/optimize-catboost-hyperparameter-with-optuna-gpu"
   ]
  },
  {
   "cell_type": "markdown",
   "id": "1e124c3d-0e1f-4053-8e72-52569a4fe3e4",
   "metadata": {},
   "source": [
    "# Setup"
   ]
  },
  {
   "cell_type": "code",
   "execution_count": 1,
   "id": "dae2ff1e-bd1f-4cc9-8357-5a88d1746ffb",
   "metadata": {},
   "outputs": [],
   "source": [
    "# two manual flags (ex-config)\n",
    "colab = False\n",
    "gpu_available = False"
   ]
  },
  {
   "cell_type": "code",
   "execution_count": 2,
   "id": "16849bd2-428c-497b-ba3b-675002f8d041",
   "metadata": {},
   "outputs": [],
   "source": [
    "# basic imports\n",
    "from pathlib import Path\n",
    "import os\n",
    "import math\n",
    "from datetime import datetime\n",
    "import random\n",
    "import multiprocessing\n",
    "import pickle"
   ]
  },
  {
   "cell_type": "code",
   "execution_count": 3,
   "id": "12d2654b-3bc6-49b5-ade8-cc82112b60e5",
   "metadata": {},
   "outputs": [],
   "source": [
    "%matplotlib inline\n",
    "%config Completer.use_jedi = False\n",
    "os.environ['WANDB_NOTEBOOK_NAME'] = f\"sweep_catboost_{datetime.now().strftime('%Y%m%d')}.ipynb\""
   ]
  },
  {
   "cell_type": "code",
   "execution_count": 4,
   "id": "416d6118-e543-4df4-9219-2d4a63743c3a",
   "metadata": {
    "tags": []
   },
   "outputs": [],
   "source": [
    "# handle Google Colab-specific library installation/updating\n",
    "if colab:\n",
    "    # much of the below inspired by or cribbed from the May 2021 Kaggle Tabular Playground winner, at \n",
    "    # https://colab.research.google.com/gist/academicsuspect/0aac7bd6e506f5f70295bfc9a3dc2250/tabular-may-baseline.ipynb?authuser=1#scrollTo=LJoVKJb5wN0L\n",
    "    \n",
    "    # Kaggle API for downloading the datasets\n",
    "    !pip install --upgrade -q kaggle\n",
    "\n",
    "    # weights and biases\n",
    "    !pip install -qqqU wandb\n",
    "    \n",
    "    # Optuna for parameter search\n",
    "    !pip install -q optuna\n",
    "\n",
    "    !pip install --upgrade xgboost\n",
    "\n",
    "    # upgrade sklearn\n",
    "    !pip install --upgrade scikit-learn\n",
    "\n",
    "    !pip install category_encoders\n",
    "    !pip install catboost\n",
    "\n",
    "    # lighgbm gpu compatible\n",
    "    !git clone --recursive https://github.com/Microsoft/LightGBM\n",
    "    ! cd LightGBM && rm -rf build && mkdir build && cd build && cmake -DUSE_GPU=1 ../../LightGBM && make -j4 && cd ../python-package && python3 setup.py install --precompile --gpu;\n",
    "    \n",
    "    # this part is from https://github.com/rapidsai/gputreeshap/issues/24\n",
    "    !pip install cmake --upgrade\n",
    "    # !pip install sklearn --upgrade\n",
    "    !git clone --recursive https://github.com/dmlc/xgboost\n",
    "    %cd /content/xgboost\n",
    "    !mkdir build\n",
    "    %cd build\n",
    "    !cmake .. -DUSE_CUDA=ON\n",
    "    !make -j4\n",
    "    %cd /content/xgboost/python-package\n",
    "    !python setup.py install --use-cuda --use-nccl\n",
    "    !/opt/bin/nvidia-smi\n",
    "    !pip install shap\n",
    "    "
   ]
  },
  {
   "cell_type": "markdown",
   "id": "d40df194-4474-4bcf-ac5a-98efe24b91fd",
   "metadata": {},
   "source": [
    "Now, non-stdlib imports"
   ]
  },
  {
   "cell_type": "code",
   "execution_count": 5,
   "id": "a01e85f7-d602-4dde-bef9-611683cd74c4",
   "metadata": {},
   "outputs": [],
   "source": [
    "import pandas as pd\n",
    "import numpy as np\n",
    "import matplotlib.pyplot as plt\n",
    "from tqdm.notebook import tqdm\n",
    "\n",
    "# general ML tooling\n",
    "from sklearn.model_selection import train_test_split, StratifiedKFold, KFold\n",
    "from sklearn.metrics import log_loss, roc_auc_score\n",
    "import wandb\n",
    "from optuna.integration.wandb import WeightsAndBiasesCallback\n",
    "# from wandb.xgboost import wandb_callback\n",
    "# from wandb.lightgbm import wandb_callback\n",
    "# from sklearn.impute import KNNImputer, StandardImputer\n",
    "# import timm\n",
    "\n",
    "import seaborn as sns\n",
    "\n",
    "from catboost import CatBoostClassifier\n",
    "# from xgboost import XGBClassifier\n",
    "# from lightgbm import LGBMClassifier\n",
    "# from sklearn.ensemble import RandomForestRegressor\n",
    "from sklearn.preprocessing import MaxAbsScaler, StandardScaler, MinMaxScaler, RobustScaler, PolynomialFeatures\n",
    "# from sklearn.feature_selection import SelectKBest, f_regression\n",
    "from joblib import dump, load\n",
    "# feature engineering tools\n",
    "# from sklearn.feature_selection import mutual_info_regression\n",
    "# import featuretools as ft\n",
    "\n",
    "\n",
    "from optuna.samplers import TPESampler\n",
    "import optuna\n",
    "import catboost\n",
    "from sklearn.utils import resample\n",
    "import sklearn.metrics"
   ]
  },
  {
   "cell_type": "markdown",
   "id": "5f6166c2-ca44-4b7c-a4dc-3db47c2624fe",
   "metadata": {},
   "source": [
    "Now, datapath setup"
   ]
  },
  {
   "cell_type": "code",
   "execution_count": 6,
   "id": "3c18a787-2193-43cb-87ee-51c6ae7b6351",
   "metadata": {},
   "outputs": [],
   "source": [
    "# # This is the code for reading the train.csv and converting it to a .feather file\n",
    "# df = pd.read_csv(datapath/'train.csv', index_col='id', low_memory=False)\n",
    "# df.index.name = None\n",
    "# df.to_feather(path='./dataset_df.feather')"
   ]
  },
  {
   "cell_type": "code",
   "execution_count": 7,
   "id": "0a41cd7e-accb-41c4-ad8b-0eaa3e2b0ad5",
   "metadata": {},
   "outputs": [],
   "source": [
    "if colab:\n",
    "    # mount Google Drive\n",
    "    from google.colab import drive\n",
    "    drive.mount('/content/drive')\n",
    "    \n",
    "    # handling datapath\n",
    "    datapath = Path('/content/drive/MyDrive/kaggle/tabular_playgrounds/sep2021/')\n",
    "    \n",
    "else:\n",
    "    # if on local machine\n",
    "    datapath = Path('/media/sf/easystore/kaggle_data/tabular_playgrounds/sep2021/')    \n",
    "    \n"
   ]
  },
  {
   "cell_type": "code",
   "execution_count": 8,
   "id": "d1c652e6-5946-46aa-a13e-4c0ebe8a0e4f",
   "metadata": {},
   "outputs": [],
   "source": [
    "\n",
    "n_trials = int(1000)\n",
    "SEED = 42"
   ]
  },
  {
   "cell_type": "code",
   "execution_count": 9,
   "id": "fbec2e77-2081-4815-ac6d-39f2a2616386",
   "metadata": {},
   "outputs": [],
   "source": [
    "# Function to seed everything\n",
    "def seed_everything(seed):\n",
    "    random.seed(seed)\n",
    "    np.random.seed(seed)\n",
    "    os.environ['PYTHONHASHSEED'] = str(seed)\n",
    "seed_everything(SEED)"
   ]
  },
  {
   "cell_type": "markdown",
   "id": "2f6e47b3-43bd-4d35-b463-9d76100c6ed5",
   "metadata": {},
   "source": [
    "## Ex-Model Config"
   ]
  },
  {
   "cell_type": "code",
   "execution_count": 10,
   "id": "fb288275-a858-4806-9dc0-0b316c334536",
   "metadata": {},
   "outputs": [],
   "source": [
    "# meta-config for preprocessing and cross-validation, but NOT for model parameters\n",
    "# in the sweep version, this includes both ex-model parameters and defaults for model parameters\n",
    "exmodel_config = {\n",
    "    # model config\n",
    "    \"library\": 'catboost',\n",
    "#     \"model\": XGBClassifier,\n",
    "#     \"n_estimators\": 100, \n",
    "#     \"max_depth\": 3,\n",
    "#     \"learning_rate\": 0.1,\n",
    "#     \"test_size\": 0.2,\n",
    "#     \"reg_lambda\": None, \n",
    "    \"scaler\": \"sklearn.preprocessing.StandardScaler()\", # TODO: experiment with others (but imputation may be slow)\n",
    "    \"scale_b4_impute\": False,\n",
    "    \"imputer\": \"sklearn.impute.SimpleImputer(strategy='median', add_indicator=True)\",\n",
    "    \"knn_imputer_n_neighbors\": None, # None if a different imputer is used\n",
    "#     \"feature_selector\": SelectKBest,\n",
    "#     \"k_best\": 80,\n",
    "#     \"feature_selection_scoring\": f_regression,\n",
    "    'random_state': SEED,\n",
    "    'optuna': True,\n",
    "    'optuna_trials': 1000,\n",
    "#     'subsample': 1,\n",
    "#     'cross_val_strategy': None, # None for holdout, or the relevant sklearn class\n",
    "#     'kfolds': 1, # if 1, that means just doing holdout\n",
    "#     'test_size': 0.2,\n",
    "    # these are XGBoost default (my choice) params \n",
    "#     \"tree_method\": \"auto\", # set to 'gpu_hist' to try GPU if available\n",
    "#     \"booster\": 'gbtree', # dart may be marginally better, but will opt for this quicker approach as a default\n",
    "#     \"n_estimators\": 200, \n",
    "#     \"max_depth\": 3,\n",
    "#     \"learning_rate\": 0.1,\n",
    "#     \"n_jobs\": -1,\n",
    "#     \"verbosity\": 1,\n",
    "#     \"subsample\": 1,\n",
    "#     'features_created': False,\n",
    "#     'feature_creator': None,\n",
    "}\n",
    "\n",
    "wandb_kwargs = {\n",
    "    # wandb config\n",
    "    'name': f\"{os.environ['WANDB_NOTEBOOK_NAME'][:-6]}_{datetime.now().strftime('%H%M%S')}\", # just removes the .ipynb extension, leaving the notebook filename's stem\n",
    "    'project': '202109_Kaggle_tabular_playground',\n",
    "    'tags': ['sweep'],\n",
    "    'notes': \"Sweep for CatBoost using Optuna\",\n",
    "    'config': exmodel_config,\n",
    "}"
   ]
  },
  {
   "cell_type": "markdown",
   "id": "a52d9012-34f1-435a-ba16-4416e0d4a286",
   "metadata": {},
   "source": [
    "## Data Setup"
   ]
  },
  {
   "cell_type": "markdown",
   "id": "c912a62f-970a-48b4-b428-d886f2612fc2",
   "metadata": {},
   "source": [
    "**TODO** Write some conditional logic here to automate it -- possibly as part of a sklearn.*pipeline"
   ]
  },
  {
   "cell_type": "code",
   "execution_count": 11,
   "id": "7f6625d6-7561-48a2-acb0-6efb3c371005",
   "metadata": {},
   "outputs": [],
   "source": [
    "X_source = 'X_NaNcounts_SummaryStats_imputed-Median-wIndicators-StandardScaled.feather'\n",
    "X_train = pd.read_feather(datapath/X_source) \n",
    "y_train = load(datapath/'y.joblib')    \n",
    "# X.index.name = 'id'\n",
    "# y.index.name = 'id'\n",
    "X = np.array(X_train)\n",
    "y = np.array(y_train)\n",
    "\n",
    "del X_train, y_train"
   ]
  },
  {
   "cell_type": "code",
   "execution_count": 12,
   "id": "8330d84d-3c72-4cca-b95a-739712014dd3",
   "metadata": {},
   "outputs": [],
   "source": [
    "exmodel_config['feature_count'] = X.shape[1]\n",
    "exmodel_config['feature_generator'] = \"Summary statistics\"\n",
    "exmodel_config['X_source'] = X_source"
   ]
  },
  {
   "cell_type": "markdown",
   "id": "431d37db-558d-474d-9eca-ce2d38b7636f",
   "metadata": {},
   "source": [
    "# Experiment setup"
   ]
  },
  {
   "cell_type": "code",
   "execution_count": 13,
   "id": "69ff4abf-560b-450e-a7a5-040878b66565",
   "metadata": {},
   "outputs": [],
   "source": [
    "# wandb_kwargs = {\n",
    "#     # wandb config:\n",
    "#     'name': f\"{os.environ['WANDB_NOTEBOOK_NAME'][:-6]}_{datetime.now().strftime('%H%M%S')}\", # just removes the .ipynb extension, leaving the notebook filename's stem\n",
    "#     'project': '202109_Kaggle_tabular_playground',\n",
    "#     'tags': ['sweep'],\n",
    "#     'notes': \"Sweep for CatBoost using Optuna\",\n",
    "#     'config': exmodel_config,\n",
    "# }"
   ]
  },
  {
   "cell_type": "code",
   "execution_count": 14,
   "id": "1d93b6f2-2d65-48a9-9862-510bd7d2b75b",
   "metadata": {},
   "outputs": [],
   "source": [
    "# originally from https://www.kaggle.com/satorushibata/optimize-catboost-hyperparameter-with-optuna-gpu\n",
    "def objective(trial):\n",
    "    # split the (original Kaggle training) data into partitions\n",
    "    train_x, test_x, train_y, test_y = train_test_split(X, y, test_size=0.33, random_state=int(SEED), shuffle=True)\n",
    "    # create wrappers for the training and validation partitions\n",
    "    train_pool = catboost.Pool(train_x, train_y)\n",
    "    test_pool = catboost.Pool(test_x, test_y)\n",
    "    \n",
    "    # experimental parameters\n",
    "    params = {\n",
    "        'iterations' : trial.suggest_int('iterations', 50, 4000),                         \n",
    "        'depth' : trial.suggest_int('depth', 3, 10),                                       \n",
    "        'learning_rate' : trial.suggest_loguniform('learning_rate', 0.001, 0.3),               \n",
    "        'random_strength' :trial.suggest_int('random_strength', 0, 100), \n",
    "        'l2_leaf_reg': trial.suggest_int('l2_leaf_reg', 2, 70),\n",
    "        'border_count': trial.suggest_int('border_count', 50, 275),\n",
    "        'bagging_temperature' :trial.suggest_loguniform('bagging_temperature', 0.01, 100.00),\n",
    "#         'learning_rate' :trial.suggest_loguniform('learning_rate', 1e-3, 1e-1),\n",
    "        'od_type': trial.suggest_categorical('od_type', ['IncToDec', 'Iter']),\n",
    "#         'max_leaves': trial.suggest_int('max_leaves', 32, 128)\n",
    "    }\n",
    "    # instantiate the model, with some parameters locked in, and experimnental ones passed via splat \n",
    "    model = CatBoostClassifier(\n",
    "        loss_function=\"Logloss\",\n",
    "        eval_metric=\"AUC\",\n",
    "#         task_type=\"GPU\",\n",
    "#         l2_leaf_reg=50,\n",
    "        random_seed=SEED,\n",
    "        verbose=False,\n",
    "#         border_count=64,\n",
    "        **params\n",
    "    )        \n",
    "#     wandb.init(wandb_kwargs)\n",
    "    # fit the model on the training set -- note the use of the catboost.Pool instance\n",
    "    model.fit(train_pool)\n",
    "    # generate predictions\n",
    "    preds = model.predict(test_pool)\n",
    "    # rounds to the nearest integer, and the nearest even in case of _.5s\n",
    "    pred_labels = np.rint(preds)\n",
    "    # calls sklearn.utils.resample... not entirely sure why\n",
    "    y_pred_boot = resample(pred_labels, n_samples = len(train_y))\n",
    "    # Evaluation\n",
    "    ROC_AUC_Score = roc_auc_score(train_y, y_pred_boot)\n",
    "    print('ROC AUC Score of CatBoost =', ROC_AUC_Score)\n",
    "    wandb.log({'valid_AUC': ROC_AUC_Score,\n",
    "               'catboost_params': str(model.get_all_params())\n",
    "              })\n",
    "#     wandb.finish()\n",
    "    return ROC_AUC_Score"
   ]
  },
  {
   "cell_type": "code",
   "execution_count": 15,
   "id": "0e85f589-1507-4b75-80d9-8b062970102f",
   "metadata": {
    "tags": []
   },
   "outputs": [
    {
     "name": "stderr",
     "output_type": "stream",
     "text": [
      "<ipython-input-15-69ea9289a2cf>:1: ExperimentalWarning: WeightsAndBiasesCallback is experimental (supported from v2.9.0). The interface can change in the future.\n",
      "  wandbc = WeightsAndBiasesCallback(wandb_kwargs=wandb_kwargs)\n",
      "\u001b[34m\u001b[1mwandb\u001b[0m: \u001b[33mWARNING\u001b[0m WANDB_NOTEBOOK_NAME should be a path to a notebook file, couldn't find sweep_catboost_20210919.ipynb\n",
      "\u001b[34m\u001b[1mwandb\u001b[0m: Currently logged in as: \u001b[33mhushifang\u001b[0m (use `wandb login --relogin` to force relogin)\n",
      "\u001b[34m\u001b[1mwandb\u001b[0m: wandb version 0.12.2 is available!  To upgrade, please run:\n",
      "\u001b[34m\u001b[1mwandb\u001b[0m:  $ pip install wandb --upgrade\n"
     ]
    },
    {
     "data": {
      "text/html": [
       "\n",
       "                Tracking run with wandb version 0.12.1<br/>\n",
       "                Syncing run <strong style=\"color:#cdcd00\">sweep_catboost_20210919_153747</strong> to <a href=\"https://wandb.ai\" target=\"_blank\">Weights & Biases</a> <a href=\"https://docs.wandb.com/integrations/jupyter.html\" target=\"_blank\">(Documentation)</a>.<br/>\n",
       "                Project page: <a href=\"https://wandb.ai/hushifang/202109_Kaggle_tabular_playground\" target=\"_blank\">https://wandb.ai/hushifang/202109_Kaggle_tabular_playground</a><br/>\n",
       "                Run page: <a href=\"https://wandb.ai/hushifang/202109_Kaggle_tabular_playground/runs/7k3p3p0f\" target=\"_blank\">https://wandb.ai/hushifang/202109_Kaggle_tabular_playground/runs/7k3p3p0f</a><br/>\n",
       "                Run data is saved locally in <code>/home/sf/Dropbox/code_cloud/python_code/kaggle/tabular_playgrounds/sep2021/wandb/run-20210919_153748-7k3p3p0f</code><br/><br/>\n",
       "            "
      ],
      "text/plain": [
       "<IPython.core.display.HTML object>"
      ]
     },
     "metadata": {},
     "output_type": "display_data"
    }
   ],
   "source": [
    "wandbc = WeightsAndBiasesCallback(wandb_kwargs=wandb_kwargs)"
   ]
  },
  {
   "cell_type": "code",
   "execution_count": 16,
   "id": "ab6749b1-dd7d-4789-b0e2-8491d78fe89b",
   "metadata": {
    "tags": []
   },
   "outputs": [
    {
     "name": "stderr",
     "output_type": "stream",
     "text": [
      "\u001b[32m[I 2021-09-19 15:37:54,499]\u001b[0m A new study created in memory with name: CatBoost_20210919\u001b[0m\n",
      "\u001b[32m[I 2021-09-19 15:45:22,247]\u001b[0m Trial 0 finished with value: 0.5005467813689807 and parameters: {'iterations': 1529, 'depth': 10, 'learning_rate': 0.06504856968981275, 'random_strength': 60, 'l2_leaf_reg': 12, 'border_count': 85, 'bagging_temperature': 0.017073967431528128, 'od_type': 'IncToDec'}. Best is trial 0 with value: 0.5005467813689807.\u001b[0m\n",
      "\u001b[34m\u001b[1mwandb\u001b[0m: \u001b[33mWARNING\u001b[0m Step must only increase in log calls.  Step 0 < 1; dropping {'iterations': 1529, 'depth': 10, 'learning_rate': 0.06504856968981275, 'random_strength': 60, 'l2_leaf_reg': 12, 'border_count': 85, 'bagging_temperature': 0.017073967431528128, 'od_type': 'IncToDec', 'value': 0.5005467813689807}.\n"
     ]
    },
    {
     "name": "stdout",
     "output_type": "stream",
     "text": [
      "ROC AUC Score of CatBoost = 0.5005467813689807\n"
     ]
    },
    {
     "name": "stderr",
     "output_type": "stream",
     "text": [
      "\u001b[32m[I 2021-09-19 15:48:18,656]\u001b[0m Trial 1 finished with value: 0.5009843470941473 and parameters: {'iterations': 2847, 'depth': 3, 'learning_rate': 0.2526878207508456, 'random_strength': 84, 'l2_leaf_reg': 16, 'border_count': 91, 'bagging_temperature': 0.05415244119402541, 'od_type': 'Iter'}. Best is trial 1 with value: 0.5009843470941473.\u001b[0m\n",
      "\u001b[34m\u001b[1mwandb\u001b[0m: \u001b[33mWARNING\u001b[0m Step must only increase in log calls.  Step 1 < 2; dropping {'iterations': 2847, 'depth': 3, 'learning_rate': 0.2526878207508456, 'random_strength': 84, 'l2_leaf_reg': 16, 'border_count': 91, 'bagging_temperature': 0.05415244119402541, 'od_type': 'Iter', 'value': 0.5009843470941473}.\n"
     ]
    },
    {
     "name": "stdout",
     "output_type": "stream",
     "text": [
      "ROC AUC Score of CatBoost = 0.5009843470941473\n"
     ]
    },
    {
     "name": "stderr",
     "output_type": "stream",
     "text": [
      "\u001b[32m[I 2021-09-19 15:50:52,882]\u001b[0m Trial 2 finished with value: 0.4993992183124174 and parameters: {'iterations': 1756, 'depth': 5, 'learning_rate': 0.032781876533976156, 'random_strength': 14, 'l2_leaf_reg': 22, 'border_count': 132, 'bagging_temperature': 0.6672367170464207, 'od_type': 'IncToDec'}. Best is trial 1 with value: 0.5009843470941473.\u001b[0m\n",
      "\u001b[34m\u001b[1mwandb\u001b[0m: \u001b[33mWARNING\u001b[0m Step must only increase in log calls.  Step 2 < 3; dropping {'iterations': 1756, 'depth': 5, 'learning_rate': 0.032781876533976156, 'random_strength': 14, 'l2_leaf_reg': 22, 'border_count': 132, 'bagging_temperature': 0.6672367170464207, 'od_type': 'IncToDec', 'value': 0.4993992183124174}.\n"
     ]
    },
    {
     "name": "stdout",
     "output_type": "stream",
     "text": [
      "ROC AUC Score of CatBoost = 0.4993992183124174\n"
     ]
    },
    {
     "name": "stderr",
     "output_type": "stream",
     "text": [
      "\u001b[32m[I 2021-09-19 15:54:32,082]\u001b[0m Trial 3 finished with value: 0.5007470290954383 and parameters: {'iterations': 2081, 'depth': 7, 'learning_rate': 0.0013033567475147442, 'random_strength': 61, 'l2_leaf_reg': 13, 'border_count': 64, 'bagging_temperature': 62.451395747430766, 'od_type': 'IncToDec'}. Best is trial 1 with value: 0.5009843470941473.\u001b[0m\n",
      "\u001b[34m\u001b[1mwandb\u001b[0m: \u001b[33mWARNING\u001b[0m Step must only increase in log calls.  Step 3 < 4; dropping {'iterations': 2081, 'depth': 7, 'learning_rate': 0.0013033567475147442, 'random_strength': 61, 'l2_leaf_reg': 13, 'border_count': 64, 'bagging_temperature': 62.451395747430766, 'od_type': 'IncToDec', 'value': 0.5007470290954383}.\n"
     ]
    },
    {
     "name": "stdout",
     "output_type": "stream",
     "text": [
      "ROC AUC Score of CatBoost = 0.5007470290954383\n"
     ]
    },
    {
     "name": "stderr",
     "output_type": "stream",
     "text": [
      "\u001b[32m[I 2021-09-19 15:56:11,698]\u001b[0m Trial 4 finished with value: 0.49966579092194646 and parameters: {'iterations': 1253, 'depth': 3, 'learning_rate': 0.04953682563497157, 'random_strength': 44, 'l2_leaf_reg': 10, 'border_count': 161, 'bagging_temperature': 0.013726318898045875, 'od_type': 'IncToDec'}. Best is trial 1 with value: 0.5009843470941473.\u001b[0m\n",
      "\u001b[34m\u001b[1mwandb\u001b[0m: \u001b[33mWARNING\u001b[0m Step must only increase in log calls.  Step 4 < 5; dropping {'iterations': 1253, 'depth': 3, 'learning_rate': 0.04953682563497157, 'random_strength': 44, 'l2_leaf_reg': 10, 'border_count': 161, 'bagging_temperature': 0.013726318898045875, 'od_type': 'IncToDec', 'value': 0.49966579092194646}.\n"
     ]
    },
    {
     "name": "stdout",
     "output_type": "stream",
     "text": [
      "ROC AUC Score of CatBoost = 0.49966579092194646\n"
     ]
    },
    {
     "name": "stderr",
     "output_type": "stream",
     "text": [
      "\u001b[32m[I 2021-09-19 16:00:14,472]\u001b[0m Trial 5 finished with value: 0.4998092315178022 and parameters: {'iterations': 2667, 'depth': 5, 'learning_rate': 0.01942099825171803, 'random_strength': 55, 'l2_leaf_reg': 14, 'border_count': 269, 'bagging_temperature': 12.60466458564947, 'od_type': 'IncToDec'}. Best is trial 1 with value: 0.5009843470941473.\u001b[0m\n",
      "\u001b[34m\u001b[1mwandb\u001b[0m: \u001b[33mWARNING\u001b[0m Step must only increase in log calls.  Step 5 < 6; dropping {'iterations': 2667, 'depth': 5, 'learning_rate': 0.01942099825171803, 'random_strength': 55, 'l2_leaf_reg': 14, 'border_count': 269, 'bagging_temperature': 12.60466458564947, 'od_type': 'IncToDec', 'value': 0.4998092315178022}.\n"
     ]
    },
    {
     "name": "stdout",
     "output_type": "stream",
     "text": [
      "ROC AUC Score of CatBoost = 0.4998092315178022\n"
     ]
    },
    {
     "name": "stderr",
     "output_type": "stream",
     "text": [
      "\u001b[32m[I 2021-09-19 16:12:25,074]\u001b[0m Trial 6 finished with value: 0.49976681971839676 and parameters: {'iterations': 2412, 'depth': 10, 'learning_rate': 0.0016565580440884786, 'random_strength': 19, 'l2_leaf_reg': 5, 'border_count': 123, 'bagging_temperature': 0.358681649862755, 'od_type': 'Iter'}. Best is trial 1 with value: 0.5009843470941473.\u001b[0m\n",
      "\u001b[34m\u001b[1mwandb\u001b[0m: \u001b[33mWARNING\u001b[0m Step must only increase in log calls.  Step 6 < 7; dropping {'iterations': 2412, 'depth': 10, 'learning_rate': 0.0016565580440884786, 'random_strength': 19, 'l2_leaf_reg': 5, 'border_count': 123, 'bagging_temperature': 0.358681649862755, 'od_type': 'Iter', 'value': 0.49976681971839676}.\n"
     ]
    },
    {
     "name": "stdout",
     "output_type": "stream",
     "text": [
      "ROC AUC Score of CatBoost = 0.49976681971839676\n"
     ]
    },
    {
     "name": "stderr",
     "output_type": "stream",
     "text": [
      "\u001b[32m[I 2021-09-19 16:14:40,521]\u001b[0m Trial 7 finished with value: 0.4999264860648174 and parameters: {'iterations': 1459, 'depth': 5, 'learning_rate': 0.022096526145513846, 'random_strength': 14, 'l2_leaf_reg': 57, 'border_count': 66, 'bagging_temperature': 88.62326508576255, 'od_type': 'IncToDec'}. Best is trial 1 with value: 0.5009843470941473.\u001b[0m\n",
      "\u001b[34m\u001b[1mwandb\u001b[0m: \u001b[33mWARNING\u001b[0m Step must only increase in log calls.  Step 7 < 8; dropping {'iterations': 1459, 'depth': 5, 'learning_rate': 0.022096526145513846, 'random_strength': 14, 'l2_leaf_reg': 57, 'border_count': 66, 'bagging_temperature': 88.62326508576255, 'od_type': 'IncToDec', 'value': 0.4999264860648174}.\n"
     ]
    },
    {
     "name": "stdout",
     "output_type": "stream",
     "text": [
      "ROC AUC Score of CatBoost = 0.4999264860648174\n"
     ]
    },
    {
     "name": "stderr",
     "output_type": "stream",
     "text": [
      "\u001b[32m[I 2021-09-19 16:15:31,559]\u001b[0m Trial 8 finished with value: 0.49982273292540574 and parameters: {'iterations': 71, 'depth': 9, 'learning_rate': 0.0563600475052774, 'random_strength': 73, 'l2_leaf_reg': 55, 'border_count': 66, 'bagging_temperature': 0.27155819552829413, 'od_type': 'Iter'}. Best is trial 1 with value: 0.5009843470941473.\u001b[0m\n",
      "\u001b[34m\u001b[1mwandb\u001b[0m: \u001b[33mWARNING\u001b[0m Step must only increase in log calls.  Step 8 < 9; dropping {'iterations': 71, 'depth': 9, 'learning_rate': 0.0563600475052774, 'random_strength': 73, 'l2_leaf_reg': 55, 'border_count': 66, 'bagging_temperature': 0.27155819552829413, 'od_type': 'Iter', 'value': 0.49982273292540574}.\n"
     ]
    },
    {
     "name": "stdout",
     "output_type": "stream",
     "text": [
      "ROC AUC Score of CatBoost = 0.49982273292540574\n"
     ]
    },
    {
     "name": "stderr",
     "output_type": "stream",
     "text": [
      "\u001b[32m[I 2021-09-19 16:18:58,423]\u001b[0m Trial 9 finished with value: 0.5002485693974883 and parameters: {'iterations': 2512, 'depth': 5, 'learning_rate': 0.0014369502768990666, 'random_strength': 31, 'l2_leaf_reg': 24, 'border_count': 214, 'bagging_temperature': 3.550012525851161, 'od_type': 'IncToDec'}. Best is trial 1 with value: 0.5009843470941473.\u001b[0m\n",
      "\u001b[34m\u001b[1mwandb\u001b[0m: \u001b[33mWARNING\u001b[0m Step must only increase in log calls.  Step 9 < 10; dropping {'iterations': 2512, 'depth': 5, 'learning_rate': 0.0014369502768990666, 'random_strength': 31, 'l2_leaf_reg': 24, 'border_count': 214, 'bagging_temperature': 3.550012525851161, 'od_type': 'IncToDec', 'value': 0.5002485693974883}.\n"
     ]
    },
    {
     "name": "stdout",
     "output_type": "stream",
     "text": [
      "ROC AUC Score of CatBoost = 0.5002485693974883\n"
     ]
    },
    {
     "name": "stderr",
     "output_type": "stream",
     "text": [
      "\u001b[32m[I 2021-09-19 16:22:44,983]\u001b[0m Trial 10 finished with value: 0.49975221986786916 and parameters: {'iterations': 3874, 'depth': 3, 'learning_rate': 0.2521511680920952, 'random_strength': 96, 'l2_leaf_reg': 41, 'border_count': 205, 'bagging_temperature': 0.10514141925502074, 'od_type': 'Iter'}. Best is trial 1 with value: 0.5009843470941473.\u001b[0m\n",
      "\u001b[34m\u001b[1mwandb\u001b[0m: \u001b[33mWARNING\u001b[0m Step must only increase in log calls.  Step 10 < 11; dropping {'iterations': 3874, 'depth': 3, 'learning_rate': 0.2521511680920952, 'random_strength': 96, 'l2_leaf_reg': 41, 'border_count': 205, 'bagging_temperature': 0.10514141925502074, 'od_type': 'Iter', 'value': 0.49975221986786916}.\n"
     ]
    },
    {
     "name": "stdout",
     "output_type": "stream",
     "text": [
      "ROC AUC Score of CatBoost = 0.49975221986786916\n"
     ]
    },
    {
     "name": "stderr",
     "output_type": "stream",
     "text": [
      "\u001b[32m[I 2021-09-19 16:28:30,667]\u001b[0m Trial 11 finished with value: 0.4987376289714254 and parameters: {'iterations': 3531, 'depth': 7, 'learning_rate': 0.0049599686014311535, 'random_strength': 87, 'l2_leaf_reg': 33, 'border_count': 101, 'bagging_temperature': 67.93187609282118, 'od_type': 'Iter'}. Best is trial 1 with value: 0.5009843470941473.\u001b[0m\n",
      "\u001b[34m\u001b[1mwandb\u001b[0m: \u001b[33mWARNING\u001b[0m Step must only increase in log calls.  Step 11 < 12; dropping {'iterations': 3531, 'depth': 7, 'learning_rate': 0.0049599686014311535, 'random_strength': 87, 'l2_leaf_reg': 33, 'border_count': 101, 'bagging_temperature': 67.93187609282118, 'od_type': 'Iter', 'value': 0.4987376289714254}.\n"
     ]
    },
    {
     "name": "stdout",
     "output_type": "stream",
     "text": [
      "ROC AUC Score of CatBoost = 0.4987376289714254\n"
     ]
    },
    {
     "name": "stderr",
     "output_type": "stream",
     "text": [
      "\u001b[32m[I 2021-09-19 16:33:40,202]\u001b[0m Trial 12 finished with value: 0.5002788237408671 and parameters: {'iterations': 3154, 'depth': 7, 'learning_rate': 0.004585315903842915, 'random_strength': 72, 'l2_leaf_reg': 27, 'border_count': 51, 'bagging_temperature': 3.2692915787437684, 'od_type': 'Iter'}. Best is trial 1 with value: 0.5009843470941473.\u001b[0m\n",
      "\u001b[34m\u001b[1mwandb\u001b[0m: \u001b[33mWARNING\u001b[0m Step must only increase in log calls.  Step 12 < 13; dropping {'iterations': 3154, 'depth': 7, 'learning_rate': 0.004585315903842915, 'random_strength': 72, 'l2_leaf_reg': 27, 'border_count': 51, 'bagging_temperature': 3.2692915787437684, 'od_type': 'Iter', 'value': 0.5002788237408671}.\n"
     ]
    },
    {
     "name": "stdout",
     "output_type": "stream",
     "text": [
      "ROC AUC Score of CatBoost = 0.5002788237408671\n"
     ]
    },
    {
     "name": "stderr",
     "output_type": "stream",
     "text": [
      "\u001b[32m[I 2021-09-19 16:35:21,157]\u001b[0m Trial 13 finished with value: 0.5001484169432124 and parameters: {'iterations': 574, 'depth': 8, 'learning_rate': 0.28668073609917777, 'random_strength': 78, 'l2_leaf_reg': 42, 'border_count': 108, 'bagging_temperature': 0.08662966790012887, 'od_type': 'Iter'}. Best is trial 1 with value: 0.5009843470941473.\u001b[0m\n",
      "\u001b[34m\u001b[1mwandb\u001b[0m: \u001b[33mWARNING\u001b[0m Step must only increase in log calls.  Step 13 < 14; dropping {'iterations': 574, 'depth': 8, 'learning_rate': 0.28668073609917777, 'random_strength': 78, 'l2_leaf_reg': 42, 'border_count': 108, 'bagging_temperature': 0.08662966790012887, 'od_type': 'Iter', 'value': 0.5001484169432124}.\n"
     ]
    },
    {
     "name": "stdout",
     "output_type": "stream",
     "text": [
      "ROC AUC Score of CatBoost = 0.5001484169432124\n"
     ]
    },
    {
     "name": "stderr",
     "output_type": "stream",
     "text": [
      "\u001b[32m[I 2021-09-19 16:39:48,276]\u001b[0m Trial 14 finished with value: 0.5006784359132352 and parameters: {'iterations': 3076, 'depth': 6, 'learning_rate': 0.007393532402809494, 'random_strength': 100, 'l2_leaf_reg': 2, 'border_count': 160, 'bagging_temperature': 17.07120343469247, 'od_type': 'IncToDec'}. Best is trial 1 with value: 0.5009843470941473.\u001b[0m\n",
      "\u001b[34m\u001b[1mwandb\u001b[0m: \u001b[33mWARNING\u001b[0m Step must only increase in log calls.  Step 14 < 15; dropping {'iterations': 3076, 'depth': 6, 'learning_rate': 0.007393532402809494, 'random_strength': 100, 'l2_leaf_reg': 2, 'border_count': 160, 'bagging_temperature': 17.07120343469247, 'od_type': 'IncToDec', 'value': 0.5006784359132352}.\n"
     ]
    },
    {
     "name": "stdout",
     "output_type": "stream",
     "text": [
      "ROC AUC Score of CatBoost = 0.5006784359132352\n"
     ]
    },
    {
     "name": "stderr",
     "output_type": "stream",
     "text": [
      "\u001b[32m[I 2021-09-19 16:44:16,360]\u001b[0m Trial 15 finished with value: 0.4998372228835724 and parameters: {'iterations': 2282, 'depth': 8, 'learning_rate': 0.12961597809366524, 'random_strength': 40, 'l2_leaf_reg': 20, 'border_count': 88, 'bagging_temperature': 0.059275674179272646, 'od_type': 'Iter'}. Best is trial 1 with value: 0.5009843470941473.\u001b[0m\n",
      "\u001b[34m\u001b[1mwandb\u001b[0m: \u001b[33mWARNING\u001b[0m Step must only increase in log calls.  Step 15 < 16; dropping {'iterations': 2282, 'depth': 8, 'learning_rate': 0.12961597809366524, 'random_strength': 40, 'l2_leaf_reg': 20, 'border_count': 88, 'bagging_temperature': 0.059275674179272646, 'od_type': 'Iter', 'value': 0.4998372228835724}.\n"
     ]
    },
    {
     "name": "stdout",
     "output_type": "stream",
     "text": [
      "ROC AUC Score of CatBoost = 0.4998372228835724\n"
     ]
    },
    {
     "name": "stderr",
     "output_type": "stream",
     "text": [
      "\u001b[32m[I 2021-09-19 16:46:48,888]\u001b[0m Trial 16 finished with value: 0.5002288632301473 and parameters: {'iterations': 1970, 'depth': 4, 'learning_rate': 0.009165547393971898, 'random_strength': 65, 'l2_leaf_reg': 68, 'border_count': 137, 'bagging_temperature': 2.1472832575087515, 'od_type': 'IncToDec'}. Best is trial 1 with value: 0.5009843470941473.\u001b[0m\n",
      "\u001b[34m\u001b[1mwandb\u001b[0m: \u001b[33mWARNING\u001b[0m Step must only increase in log calls.  Step 16 < 17; dropping {'iterations': 1970, 'depth': 4, 'learning_rate': 0.009165547393971898, 'random_strength': 65, 'l2_leaf_reg': 68, 'border_count': 137, 'bagging_temperature': 2.1472832575087515, 'od_type': 'IncToDec', 'value': 0.5002288632301473}.\n"
     ]
    },
    {
     "name": "stdout",
     "output_type": "stream",
     "text": [
      "ROC AUC Score of CatBoost = 0.5002288632301473\n"
     ]
    },
    {
     "name": "stderr",
     "output_type": "stream",
     "text": [
      "\u001b[32m[I 2021-09-19 16:51:22,441]\u001b[0m Trial 17 finished with value: 0.5004557008779583 and parameters: {'iterations': 3018, 'depth': 6, 'learning_rate': 0.0026425559784354494, 'random_strength': 86, 'l2_leaf_reg': 32, 'border_count': 209, 'bagging_temperature': 16.399717518370725, 'od_type': 'Iter'}. Best is trial 1 with value: 0.5009843470941473.\u001b[0m\n",
      "\u001b[34m\u001b[1mwandb\u001b[0m: \u001b[33mWARNING\u001b[0m Step must only increase in log calls.  Step 17 < 18; dropping {'iterations': 3018, 'depth': 6, 'learning_rate': 0.0026425559784354494, 'random_strength': 86, 'l2_leaf_reg': 32, 'border_count': 209, 'bagging_temperature': 16.399717518370725, 'od_type': 'Iter', 'value': 0.5004557008779583}.\n"
     ]
    },
    {
     "name": "stdout",
     "output_type": "stream",
     "text": [
      "ROC AUC Score of CatBoost = 0.5004557008779583\n"
     ]
    },
    {
     "name": "stderr",
     "output_type": "stream",
     "text": [
      "\u001b[32m[I 2021-09-19 16:53:35,930]\u001b[0m Trial 18 finished with value: 0.4998569732011028 and parameters: {'iterations': 928, 'depth': 8, 'learning_rate': 0.12654033908998122, 'random_strength': 50, 'l2_leaf_reg': 16, 'border_count': 68, 'bagging_temperature': 1.4540742199254997, 'od_type': 'IncToDec'}. Best is trial 1 with value: 0.5009843470941473.\u001b[0m\n",
      "\u001b[34m\u001b[1mwandb\u001b[0m: \u001b[33mWARNING\u001b[0m Step must only increase in log calls.  Step 18 < 19; dropping {'iterations': 928, 'depth': 8, 'learning_rate': 0.12654033908998122, 'random_strength': 50, 'l2_leaf_reg': 16, 'border_count': 68, 'bagging_temperature': 1.4540742199254997, 'od_type': 'IncToDec', 'value': 0.4998569732011028}.\n"
     ]
    },
    {
     "name": "stdout",
     "output_type": "stream",
     "text": [
      "ROC AUC Score of CatBoost = 0.4998569732011028\n"
     ]
    },
    {
     "name": "stderr",
     "output_type": "stream",
     "text": [
      "\u001b[32m[I 2021-09-19 16:57:53,344]\u001b[0m Trial 19 finished with value: 0.5003515749843189 and parameters: {'iterations': 3959, 'depth': 4, 'learning_rate': 0.011127183185955836, 'random_strength': 82, 'l2_leaf_reg': 6, 'border_count': 183, 'bagging_temperature': 0.02772641069574345, 'od_type': 'Iter'}. Best is trial 1 with value: 0.5009843470941473.\u001b[0m\n",
      "\u001b[34m\u001b[1mwandb\u001b[0m: \u001b[33mWARNING\u001b[0m Step must only increase in log calls.  Step 19 < 20; dropping {'iterations': 3959, 'depth': 4, 'learning_rate': 0.011127183185955836, 'random_strength': 82, 'l2_leaf_reg': 6, 'border_count': 183, 'bagging_temperature': 0.02772641069574345, 'od_type': 'Iter', 'value': 0.5003515749843189}.\n"
     ]
    },
    {
     "name": "stdout",
     "output_type": "stream",
     "text": [
      "ROC AUC Score of CatBoost = 0.5003515749843189\n"
     ]
    },
    {
     "name": "stderr",
     "output_type": "stream",
     "text": [
      "\u001b[32m[I 2021-09-19 17:01:37,534]\u001b[0m Trial 20 finished with value: 0.5001665915655841 and parameters: {'iterations': 2079, 'depth': 7, 'learning_rate': 0.0010724063933909898, 'random_strength': 68, 'l2_leaf_reg': 41, 'border_count': 113, 'bagging_temperature': 7.366170140788551, 'od_type': 'Iter'}. Best is trial 1 with value: 0.5009843470941473.\u001b[0m\n",
      "\u001b[34m\u001b[1mwandb\u001b[0m: \u001b[33mWARNING\u001b[0m Step must only increase in log calls.  Step 20 < 21; dropping {'iterations': 2079, 'depth': 7, 'learning_rate': 0.0010724063933909898, 'random_strength': 68, 'l2_leaf_reg': 41, 'border_count': 113, 'bagging_temperature': 7.366170140788551, 'od_type': 'Iter', 'value': 0.5001665915655841}.\n"
     ]
    },
    {
     "name": "stdout",
     "output_type": "stream",
     "text": [
      "ROC AUC Score of CatBoost = 0.5001665915655841\n"
     ]
    },
    {
     "name": "stderr",
     "output_type": "stream",
     "text": [
      "\u001b[32m[I 2021-09-19 17:06:13,404]\u001b[0m Trial 21 finished with value: 0.5008365497393407 and parameters: {'iterations': 3103, 'depth': 6, 'learning_rate': 0.00402955592904469, 'random_strength': 100, 'l2_leaf_reg': 3, 'border_count': 249, 'bagging_temperature': 34.07213671273327, 'od_type': 'IncToDec'}. Best is trial 1 with value: 0.5009843470941473.\u001b[0m\n",
      "\u001b[34m\u001b[1mwandb\u001b[0m: \u001b[33mWARNING\u001b[0m Step must only increase in log calls.  Step 21 < 22; dropping {'iterations': 3103, 'depth': 6, 'learning_rate': 0.00402955592904469, 'random_strength': 100, 'l2_leaf_reg': 3, 'border_count': 249, 'bagging_temperature': 34.07213671273327, 'od_type': 'IncToDec', 'value': 0.5008365497393407}.\n"
     ]
    },
    {
     "name": "stdout",
     "output_type": "stream",
     "text": [
      "ROC AUC Score of CatBoost = 0.5008365497393407\n"
     ]
    },
    {
     "name": "stderr",
     "output_type": "stream",
     "text": [
      "\u001b[32m[I 2021-09-19 17:09:32,348]\u001b[0m Trial 22 finished with value: 0.5007840780427549 and parameters: {'iterations': 2808, 'depth': 4, 'learning_rate': 0.002819834307525118, 'random_strength': 95, 'l2_leaf_reg': 9, 'border_count': 248, 'bagging_temperature': 48.04416134907295, 'od_type': 'IncToDec'}. Best is trial 1 with value: 0.5009843470941473.\u001b[0m\n",
      "\u001b[34m\u001b[1mwandb\u001b[0m: \u001b[33mWARNING\u001b[0m Step must only increase in log calls.  Step 22 < 23; dropping {'iterations': 2808, 'depth': 4, 'learning_rate': 0.002819834307525118, 'random_strength': 95, 'l2_leaf_reg': 9, 'border_count': 248, 'bagging_temperature': 48.04416134907295, 'od_type': 'IncToDec', 'value': 0.5007840780427549}.\n"
     ]
    },
    {
     "name": "stdout",
     "output_type": "stream",
     "text": [
      "ROC AUC Score of CatBoost = 0.5007840780427549\n"
     ]
    },
    {
     "name": "stderr",
     "output_type": "stream",
     "text": [
      "\u001b[32m[I 2021-09-19 17:13:47,344]\u001b[0m Trial 23 finished with value: 0.49920857644459227 and parameters: {'iterations': 3410, 'depth': 4, 'learning_rate': 0.0028194747919299263, 'random_strength': 96, 'l2_leaf_reg': 8, 'border_count': 269, 'bagging_temperature': 6.5860888318363395, 'od_type': 'IncToDec'}. Best is trial 1 with value: 0.5009843470941473.\u001b[0m\n",
      "\u001b[34m\u001b[1mwandb\u001b[0m: \u001b[33mWARNING\u001b[0m Step must only increase in log calls.  Step 23 < 24; dropping {'iterations': 3410, 'depth': 4, 'learning_rate': 0.0028194747919299263, 'random_strength': 96, 'l2_leaf_reg': 8, 'border_count': 269, 'bagging_temperature': 6.5860888318363395, 'od_type': 'IncToDec', 'value': 0.49920857644459227}.\n"
     ]
    },
    {
     "name": "stdout",
     "output_type": "stream",
     "text": [
      "ROC AUC Score of CatBoost = 0.49920857644459227\n"
     ]
    },
    {
     "name": "stderr",
     "output_type": "stream",
     "text": [
      "\u001b[32m[I 2021-09-19 17:16:41,221]\u001b[0m Trial 24 finished with value: 0.5007931726807455 and parameters: {'iterations': 2792, 'depth': 3, 'learning_rate': 0.002414346277206029, 'random_strength': 90, 'l2_leaf_reg': 3, 'border_count': 248, 'bagging_temperature': 36.15977153631609, 'od_type': 'IncToDec'}. Best is trial 1 with value: 0.5009843470941473.\u001b[0m\n",
      "\u001b[34m\u001b[1mwandb\u001b[0m: \u001b[33mWARNING\u001b[0m Step must only increase in log calls.  Step 24 < 25; dropping {'iterations': 2792, 'depth': 3, 'learning_rate': 0.002414346277206029, 'random_strength': 90, 'l2_leaf_reg': 3, 'border_count': 248, 'bagging_temperature': 36.15977153631609, 'od_type': 'IncToDec', 'value': 0.5007931726807455}.\n"
     ]
    },
    {
     "name": "stdout",
     "output_type": "stream",
     "text": [
      "ROC AUC Score of CatBoost = 0.5007931726807455\n"
     ]
    },
    {
     "name": "stderr",
     "output_type": "stream",
     "text": [
      "\u001b[32m[I 2021-09-19 17:20:00,722]\u001b[0m Trial 25 finished with value: 0.5006575605840096 and parameters: {'iterations': 3407, 'depth': 3, 'learning_rate': 0.005165205185789213, 'random_strength': 89, 'l2_leaf_reg': 2, 'border_count': 244, 'bagging_temperature': 29.394280606861912, 'od_type': 'IncToDec'}. Best is trial 1 with value: 0.5009843470941473.\u001b[0m\n",
      "\u001b[34m\u001b[1mwandb\u001b[0m: \u001b[33mWARNING\u001b[0m Step must only increase in log calls.  Step 25 < 26; dropping {'iterations': 3407, 'depth': 3, 'learning_rate': 0.005165205185789213, 'random_strength': 89, 'l2_leaf_reg': 2, 'border_count': 244, 'bagging_temperature': 29.394280606861912, 'od_type': 'IncToDec', 'value': 0.5006575605840096}.\n"
     ]
    },
    {
     "name": "stdout",
     "output_type": "stream",
     "text": [
      "ROC AUC Score of CatBoost = 0.5006575605840096\n"
     ]
    },
    {
     "name": "stderr",
     "output_type": "stream",
     "text": [
      "\u001b[32m[I 2021-09-19 17:22:52,784]\u001b[0m Trial 26 finished with value: 0.5012748913580819 and parameters: {'iterations': 2780, 'depth': 3, 'learning_rate': 0.01194101755725458, 'random_strength': 3, 'l2_leaf_reg': 20, 'border_count': 234, 'bagging_temperature': 35.61244771970673, 'od_type': 'IncToDec'}. Best is trial 26 with value: 0.5012748913580819.\u001b[0m\n",
      "\u001b[34m\u001b[1mwandb\u001b[0m: \u001b[33mWARNING\u001b[0m Step must only increase in log calls.  Step 26 < 27; dropping {'iterations': 2780, 'depth': 3, 'learning_rate': 0.01194101755725458, 'random_strength': 3, 'l2_leaf_reg': 20, 'border_count': 234, 'bagging_temperature': 35.61244771970673, 'od_type': 'IncToDec', 'value': 0.5012748913580819}.\n"
     ]
    },
    {
     "name": "stdout",
     "output_type": "stream",
     "text": [
      "ROC AUC Score of CatBoost = 0.5012748913580819\n"
     ]
    },
    {
     "name": "stderr",
     "output_type": "stream",
     "text": [
      "\u001b[32m[I 2021-09-19 17:26:57,613]\u001b[0m Trial 27 finished with value: 0.5001851087901241 and parameters: {'iterations': 3683, 'depth': 4, 'learning_rate': 0.010319592433552138, 'random_strength': 5, 'l2_leaf_reg': 18, 'border_count': 227, 'bagging_temperature': 0.6361226904953433, 'od_type': 'IncToDec'}. Best is trial 26 with value: 0.5012748913580819.\u001b[0m\n",
      "\u001b[34m\u001b[1mwandb\u001b[0m: \u001b[33mWARNING\u001b[0m Step must only increase in log calls.  Step 27 < 28; dropping {'iterations': 3683, 'depth': 4, 'learning_rate': 0.010319592433552138, 'random_strength': 5, 'l2_leaf_reg': 18, 'border_count': 227, 'bagging_temperature': 0.6361226904953433, 'od_type': 'IncToDec', 'value': 0.5001851087901241}.\n"
     ]
    },
    {
     "name": "stdout",
     "output_type": "stream",
     "text": [
      "ROC AUC Score of CatBoost = 0.5001851087901241\n"
     ]
    },
    {
     "name": "stderr",
     "output_type": "stream",
     "text": [
      "\u001b[32m[I 2021-09-19 17:31:32,475]\u001b[0m Trial 28 finished with value: 0.50040041056103 and parameters: {'iterations': 3106, 'depth': 6, 'learning_rate': 0.01351789583548794, 'random_strength': 0, 'l2_leaf_reg': 28, 'border_count': 190, 'bagging_temperature': 0.1467796001804576, 'od_type': 'Iter'}. Best is trial 26 with value: 0.5012748913580819.\u001b[0m\n",
      "\u001b[34m\u001b[1mwandb\u001b[0m: \u001b[33mWARNING\u001b[0m Step must only increase in log calls.  Step 28 < 29; dropping {'iterations': 3106, 'depth': 6, 'learning_rate': 0.01351789583548794, 'random_strength': 0, 'l2_leaf_reg': 28, 'border_count': 190, 'bagging_temperature': 0.1467796001804576, 'od_type': 'Iter', 'value': 0.50040041056103}.\n"
     ]
    },
    {
     "name": "stdout",
     "output_type": "stream",
     "text": [
      "ROC AUC Score of CatBoost = 0.50040041056103\n"
     ]
    },
    {
     "name": "stderr",
     "output_type": "stream",
     "text": [
      "\u001b[32m[I 2021-09-19 17:34:24,557]\u001b[0m Trial 29 finished with value: 0.49951263021494435 and parameters: {'iterations': 2810, 'depth': 3, 'learning_rate': 0.03484643354593277, 'random_strength': 24, 'l2_leaf_reg': 13, 'border_count': 237, 'bagging_temperature': 0.03931687767467015, 'od_type': 'IncToDec'}. Best is trial 26 with value: 0.5012748913580819.\u001b[0m\n",
      "\u001b[34m\u001b[1mwandb\u001b[0m: \u001b[33mWARNING\u001b[0m Step must only increase in log calls.  Step 29 < 30; dropping {'iterations': 2810, 'depth': 3, 'learning_rate': 0.03484643354593277, 'random_strength': 24, 'l2_leaf_reg': 13, 'border_count': 237, 'bagging_temperature': 0.03931687767467015, 'od_type': 'IncToDec', 'value': 0.49951263021494435}.\n"
     ]
    },
    {
     "name": "stdout",
     "output_type": "stream",
     "text": [
      "ROC AUC Score of CatBoost = 0.49951263021494435\n"
     ]
    },
    {
     "name": "stderr",
     "output_type": "stream",
     "text": [
      "\u001b[32m[I 2021-09-19 17:43:13,275]\u001b[0m Trial 30 finished with value: 0.5007783206502401 and parameters: {'iterations': 3341, 'depth': 9, 'learning_rate': 0.007108012336088955, 'random_strength': 36, 'l2_leaf_reg': 25, 'border_count': 181, 'bagging_temperature': 7.2908260599814705, 'od_type': 'IncToDec'}. Best is trial 26 with value: 0.5012748913580819.\u001b[0m\n",
      "\u001b[34m\u001b[1mwandb\u001b[0m: \u001b[33mWARNING\u001b[0m Step must only increase in log calls.  Step 30 < 31; dropping {'iterations': 3341, 'depth': 9, 'learning_rate': 0.007108012336088955, 'random_strength': 36, 'l2_leaf_reg': 25, 'border_count': 181, 'bagging_temperature': 7.2908260599814705, 'od_type': 'IncToDec', 'value': 0.5007783206502401}.\n"
     ]
    },
    {
     "name": "stdout",
     "output_type": "stream",
     "text": [
      "ROC AUC Score of CatBoost = 0.5007783206502401\n"
     ]
    },
    {
     "name": "stderr",
     "output_type": "stream",
     "text": [
      "\u001b[32m[I 2021-09-19 17:46:20,383]\u001b[0m Trial 31 finished with value: 0.500666766736066 and parameters: {'iterations': 2806, 'depth': 3, 'learning_rate': 0.0020841742259148153, 'random_strength': 91, 'l2_leaf_reg': 2, 'border_count': 258, 'bagging_temperature': 30.074381068615203, 'od_type': 'IncToDec'}. Best is trial 26 with value: 0.5012748913580819.\u001b[0m\n",
      "\u001b[34m\u001b[1mwandb\u001b[0m: \u001b[33mWARNING\u001b[0m Step must only increase in log calls.  Step 31 < 32; dropping {'iterations': 2806, 'depth': 3, 'learning_rate': 0.0020841742259148153, 'random_strength': 91, 'l2_leaf_reg': 2, 'border_count': 258, 'bagging_temperature': 30.074381068615203, 'od_type': 'IncToDec', 'value': 0.500666766736066}.\n"
     ]
    },
    {
     "name": "stdout",
     "output_type": "stream",
     "text": [
      "ROC AUC Score of CatBoost = 0.500666766736066\n"
     ]
    },
    {
     "name": "stderr",
     "output_type": "stream",
     "text": [
      "\u001b[32m[I 2021-09-19 17:49:05,388]\u001b[0m Trial 32 finished with value: 0.4996631530294551 and parameters: {'iterations': 2609, 'depth': 3, 'learning_rate': 0.0037013283979548525, 'random_strength': 80, 'l2_leaf_reg': 19, 'border_count': 226, 'bagging_temperature': 35.01707557774796, 'od_type': 'IncToDec'}. Best is trial 26 with value: 0.5012748913580819.\u001b[0m\n",
      "\u001b[34m\u001b[1mwandb\u001b[0m: \u001b[33mWARNING\u001b[0m Step must only increase in log calls.  Step 32 < 33; dropping {'iterations': 2609, 'depth': 3, 'learning_rate': 0.0037013283979548525, 'random_strength': 80, 'l2_leaf_reg': 19, 'border_count': 226, 'bagging_temperature': 35.01707557774796, 'od_type': 'IncToDec', 'value': 0.4996631530294551}.\n"
     ]
    },
    {
     "name": "stdout",
     "output_type": "stream",
     "text": [
      "ROC AUC Score of CatBoost = 0.4996631530294551\n"
     ]
    },
    {
     "name": "stderr",
     "output_type": "stream",
     "text": [
      "\u001b[32m[I 2021-09-19 17:51:52,632]\u001b[0m Trial 33 finished with value: 0.5003401816232348 and parameters: {'iterations': 2274, 'depth': 4, 'learning_rate': 0.028667290818542454, 'random_strength': 99, 'l2_leaf_reg': 11, 'border_count': 253, 'bagging_temperature': 21.621823069935214, 'od_type': 'IncToDec'}. Best is trial 26 with value: 0.5012748913580819.\u001b[0m\n",
      "\u001b[34m\u001b[1mwandb\u001b[0m: \u001b[33mWARNING\u001b[0m Step must only increase in log calls.  Step 33 < 34; dropping {'iterations': 2274, 'depth': 4, 'learning_rate': 0.028667290818542454, 'random_strength': 99, 'l2_leaf_reg': 11, 'border_count': 253, 'bagging_temperature': 21.621823069935214, 'od_type': 'IncToDec', 'value': 0.5003401816232348}.\n"
     ]
    },
    {
     "name": "stdout",
     "output_type": "stream",
     "text": [
      "ROC AUC Score of CatBoost = 0.5003401816232348\n"
     ]
    },
    {
     "name": "stderr",
     "output_type": "stream",
     "text": [
      "\u001b[32m[I 2021-09-19 17:53:51,938]\u001b[0m Trial 34 finished with value: 0.5005794749459922 and parameters: {'iterations': 1646, 'depth': 3, 'learning_rate': 0.08933116345688757, 'random_strength': 77, 'l2_leaf_reg': 6, 'border_count': 232, 'bagging_temperature': 93.92830965443855, 'od_type': 'IncToDec'}. Best is trial 26 with value: 0.5012748913580819.\u001b[0m\n",
      "\u001b[34m\u001b[1mwandb\u001b[0m: \u001b[33mWARNING\u001b[0m Step must only increase in log calls.  Step 34 < 35; dropping {'iterations': 1646, 'depth': 3, 'learning_rate': 0.08933116345688757, 'random_strength': 77, 'l2_leaf_reg': 6, 'border_count': 232, 'bagging_temperature': 93.92830965443855, 'od_type': 'IncToDec', 'value': 0.5005794749459922}.\n"
     ]
    },
    {
     "name": "stdout",
     "output_type": "stream",
     "text": [
      "ROC AUC Score of CatBoost = 0.5005794749459922\n"
     ]
    },
    {
     "name": "stderr",
     "output_type": "stream",
     "text": [
      "\u001b[32m[I 2021-09-19 17:57:44,787]\u001b[0m Trial 35 finished with value: 0.49955603295377193 and parameters: {'iterations': 2966, 'depth': 5, 'learning_rate': 0.006895030595339776, 'random_strength': 61, 'l2_leaf_reg': 15, 'border_count': 197, 'bagging_temperature': 0.010194130658979011, 'od_type': 'IncToDec'}. Best is trial 26 with value: 0.5012748913580819.\u001b[0m\n",
      "\u001b[34m\u001b[1mwandb\u001b[0m: \u001b[33mWARNING\u001b[0m Step must only increase in log calls.  Step 35 < 36; dropping {'iterations': 2966, 'depth': 5, 'learning_rate': 0.006895030595339776, 'random_strength': 61, 'l2_leaf_reg': 15, 'border_count': 197, 'bagging_temperature': 0.010194130658979011, 'od_type': 'IncToDec', 'value': 0.49955603295377193}.\n"
     ]
    },
    {
     "name": "stdout",
     "output_type": "stream",
     "text": [
      "ROC AUC Score of CatBoost = 0.49955603295377193\n"
     ]
    },
    {
     "name": "stderr",
     "output_type": "stream",
     "text": [
      "\u001b[32m[I 2021-09-19 18:02:16,558]\u001b[0m Trial 36 finished with value: 0.4999434540852832 and parameters: {'iterations': 3680, 'depth': 4, 'learning_rate': 0.016369699681954182, 'random_strength': 51, 'l2_leaf_reg': 11, 'border_count': 270, 'bagging_temperature': 9.554428154186533, 'od_type': 'IncToDec'}. Best is trial 26 with value: 0.5012748913580819.\u001b[0m\n",
      "\u001b[34m\u001b[1mwandb\u001b[0m: \u001b[33mWARNING\u001b[0m Step must only increase in log calls.  Step 36 < 37; dropping {'iterations': 3680, 'depth': 4, 'learning_rate': 0.016369699681954182, 'random_strength': 51, 'l2_leaf_reg': 11, 'border_count': 270, 'bagging_temperature': 9.554428154186533, 'od_type': 'IncToDec', 'value': 0.4999434540852832}.\n"
     ]
    },
    {
     "name": "stdout",
     "output_type": "stream",
     "text": [
      "ROC AUC Score of CatBoost = 0.4999434540852832\n"
     ]
    },
    {
     "name": "stderr",
     "output_type": "stream",
     "text": [
      "\u001b[32m[I 2021-09-19 18:04:51,725]\u001b[0m Trial 37 finished with value: 0.499661959459454 and parameters: {'iterations': 2369, 'depth': 3, 'learning_rate': 0.0018200098940018138, 'random_strength': 84, 'l2_leaf_reg': 22, 'border_count': 217, 'bagging_temperature': 43.1739766424333, 'od_type': 'IncToDec'}. Best is trial 26 with value: 0.5012748913580819.\u001b[0m\n",
      "\u001b[34m\u001b[1mwandb\u001b[0m: \u001b[33mWARNING\u001b[0m Step must only increase in log calls.  Step 37 < 38; dropping {'iterations': 2369, 'depth': 3, 'learning_rate': 0.0018200098940018138, 'random_strength': 84, 'l2_leaf_reg': 22, 'border_count': 217, 'bagging_temperature': 43.1739766424333, 'od_type': 'IncToDec', 'value': 0.499661959459454}.\n"
     ]
    },
    {
     "name": "stdout",
     "output_type": "stream",
     "text": [
      "ROC AUC Score of CatBoost = 0.499661959459454\n"
     ]
    },
    {
     "name": "stderr",
     "output_type": "stream",
     "text": [
      "\u001b[32m[I 2021-09-19 18:07:33,957]\u001b[0m Trial 38 finished with value: 0.5003015154913313 and parameters: {'iterations': 1877, 'depth': 5, 'learning_rate': 0.00394935866761927, 'random_strength': 92, 'l2_leaf_reg': 6, 'border_count': 140, 'bagging_temperature': 3.622516678735149, 'od_type': 'IncToDec'}. Best is trial 26 with value: 0.5012748913580819.\u001b[0m\n",
      "\u001b[34m\u001b[1mwandb\u001b[0m: \u001b[33mWARNING\u001b[0m Step must only increase in log calls.  Step 38 < 39; dropping {'iterations': 1877, 'depth': 5, 'learning_rate': 0.00394935866761927, 'random_strength': 92, 'l2_leaf_reg': 6, 'border_count': 140, 'bagging_temperature': 3.622516678735149, 'od_type': 'IncToDec', 'value': 0.5003015154913313}.\n"
     ]
    },
    {
     "name": "stdout",
     "output_type": "stream",
     "text": [
      "ROC AUC Score of CatBoost = 0.5003015154913313\n"
     ]
    },
    {
     "name": "stderr",
     "output_type": "stream",
     "text": [
      "\u001b[32m[I 2021-09-19 18:21:35,916]\u001b[0m Trial 39 finished with value: 0.500484134250585 and parameters: {'iterations': 2617, 'depth': 10, 'learning_rate': 0.030677667841094082, 'random_strength': 28, 'l2_leaf_reg': 16, 'border_count': 171, 'bagging_temperature': 0.5090552446648466, 'od_type': 'Iter'}. Best is trial 26 with value: 0.5012748913580819.\u001b[0m\n",
      "\u001b[34m\u001b[1mwandb\u001b[0m: \u001b[33mWARNING\u001b[0m Step must only increase in log calls.  Step 39 < 40; dropping {'iterations': 2617, 'depth': 10, 'learning_rate': 0.030677667841094082, 'random_strength': 28, 'l2_leaf_reg': 16, 'border_count': 171, 'bagging_temperature': 0.5090552446648466, 'od_type': 'Iter', 'value': 0.500484134250585}.\n"
     ]
    },
    {
     "name": "stdout",
     "output_type": "stream",
     "text": [
      "ROC AUC Score of CatBoost = 0.500484134250585\n"
     ]
    },
    {
     "name": "stderr",
     "output_type": "stream",
     "text": [
      "\u001b[32m[I 2021-09-19 18:26:18,618]\u001b[0m Trial 40 finished with value: 0.4999025519669624 and parameters: {'iterations': 3212, 'depth': 5, 'learning_rate': 0.046031366674884416, 'random_strength': 57, 'l2_leaf_reg': 31, 'border_count': 261, 'bagging_temperature': 0.9678684108142381, 'od_type': 'IncToDec'}. Best is trial 26 with value: 0.5012748913580819.\u001b[0m\n",
      "\u001b[34m\u001b[1mwandb\u001b[0m: \u001b[33mWARNING\u001b[0m Step must only increase in log calls.  Step 40 < 41; dropping {'iterations': 3212, 'depth': 5, 'learning_rate': 0.046031366674884416, 'random_strength': 57, 'l2_leaf_reg': 31, 'border_count': 261, 'bagging_temperature': 0.9678684108142381, 'od_type': 'IncToDec', 'value': 0.4999025519669624}.\n"
     ]
    },
    {
     "name": "stdout",
     "output_type": "stream",
     "text": [
      "ROC AUC Score of CatBoost = 0.4999025519669624\n"
     ]
    },
    {
     "name": "stderr",
     "output_type": "stream",
     "text": [
      "\u001b[32m[I 2021-09-19 18:29:39,276]\u001b[0m Trial 41 finished with value: 0.49930311946022676 and parameters: {'iterations': 2873, 'depth': 4, 'learning_rate': 0.002540977595511175, 'random_strength': 93, 'l2_leaf_reg': 9, 'border_count': 248, 'bagging_temperature': 40.25822660710938, 'od_type': 'IncToDec'}. Best is trial 26 with value: 0.5012748913580819.\u001b[0m\n",
      "\u001b[34m\u001b[1mwandb\u001b[0m: \u001b[33mWARNING\u001b[0m Step must only increase in log calls.  Step 41 < 42; dropping {'iterations': 2873, 'depth': 4, 'learning_rate': 0.002540977595511175, 'random_strength': 93, 'l2_leaf_reg': 9, 'border_count': 248, 'bagging_temperature': 40.25822660710938, 'od_type': 'IncToDec', 'value': 0.49930311946022676}.\n"
     ]
    },
    {
     "name": "stdout",
     "output_type": "stream",
     "text": [
      "ROC AUC Score of CatBoost = 0.49930311946022676\n"
     ]
    },
    {
     "name": "stderr",
     "output_type": "stream",
     "text": [
      "\u001b[32m[I 2021-09-19 18:32:26,134]\u001b[0m Trial 42 finished with value: 0.49929714763850075 and parameters: {'iterations': 2700, 'depth': 3, 'learning_rate': 0.003545518778914336, 'random_strength': 100, 'l2_leaf_reg': 11, 'border_count': 242, 'bagging_temperature': 57.71048644830176, 'od_type': 'IncToDec'}. Best is trial 26 with value: 0.5012748913580819.\u001b[0m\n",
      "\u001b[34m\u001b[1mwandb\u001b[0m: \u001b[33mWARNING\u001b[0m Step must only increase in log calls.  Step 42 < 43; dropping {'iterations': 2700, 'depth': 3, 'learning_rate': 0.003545518778914336, 'random_strength': 100, 'l2_leaf_reg': 11, 'border_count': 242, 'bagging_temperature': 57.71048644830176, 'od_type': 'IncToDec', 'value': 0.49929714763850075}.\n"
     ]
    },
    {
     "name": "stdout",
     "output_type": "stream",
     "text": [
      "ROC AUC Score of CatBoost = 0.49929714763850075\n"
     ]
    },
    {
     "name": "stderr",
     "output_type": "stream",
     "text": [
      "\u001b[32m[I 2021-09-19 18:35:04,922]\u001b[0m Trial 43 finished with value: 0.5007011039110627 and parameters: {'iterations': 2203, 'depth': 3, 'learning_rate': 0.0010140910628739916, 'random_strength': 73, 'l2_leaf_reg': 5, 'border_count': 275, 'bagging_temperature': 55.45554374982762, 'od_type': 'IncToDec'}. Best is trial 26 with value: 0.5012748913580819.\u001b[0m\n",
      "\u001b[34m\u001b[1mwandb\u001b[0m: \u001b[33mWARNING\u001b[0m Step must only increase in log calls.  Step 43 < 44; dropping {'iterations': 2203, 'depth': 3, 'learning_rate': 0.0010140910628739916, 'random_strength': 73, 'l2_leaf_reg': 5, 'border_count': 275, 'bagging_temperature': 55.45554374982762, 'od_type': 'IncToDec', 'value': 0.5007011039110627}.\n"
     ]
    },
    {
     "name": "stdout",
     "output_type": "stream",
     "text": [
      "ROC AUC Score of CatBoost = 0.5007011039110627\n"
     ]
    },
    {
     "name": "stderr",
     "output_type": "stream",
     "text": [
      "\u001b[32m[I 2021-09-19 18:38:03,548]\u001b[0m Trial 44 finished with value: 0.5006536070809352 and parameters: {'iterations': 2490, 'depth': 4, 'learning_rate': 0.0015134376674979491, 'random_strength': 94, 'l2_leaf_reg': 8, 'border_count': 226, 'bagging_temperature': 13.018582733750891, 'od_type': 'IncToDec'}. Best is trial 26 with value: 0.5012748913580819.\u001b[0m\n",
      "\u001b[34m\u001b[1mwandb\u001b[0m: \u001b[33mWARNING\u001b[0m Step must only increase in log calls.  Step 44 < 45; dropping {'iterations': 2490, 'depth': 4, 'learning_rate': 0.0015134376674979491, 'random_strength': 94, 'l2_leaf_reg': 8, 'border_count': 226, 'bagging_temperature': 13.018582733750891, 'od_type': 'IncToDec', 'value': 0.5006536070809352}.\n"
     ]
    },
    {
     "name": "stdout",
     "output_type": "stream",
     "text": [
      "ROC AUC Score of CatBoost = 0.5006536070809352\n"
     ]
    },
    {
     "name": "stderr",
     "output_type": "stream",
     "text": [
      "\u001b[32m[I 2021-09-19 18:41:35,897]\u001b[0m Trial 45 finished with value: 0.49992270816228745 and parameters: {'iterations': 3317, 'depth': 3, 'learning_rate': 0.2000017371144817, 'random_strength': 88, 'l2_leaf_reg': 14, 'border_count': 259, 'bagging_temperature': 23.61923989685893, 'od_type': 'IncToDec'}. Best is trial 26 with value: 0.5012748913580819.\u001b[0m\n",
      "\u001b[34m\u001b[1mwandb\u001b[0m: \u001b[33mWARNING\u001b[0m Step must only increase in log calls.  Step 45 < 46; dropping {'iterations': 3317, 'depth': 3, 'learning_rate': 0.2000017371144817, 'random_strength': 88, 'l2_leaf_reg': 14, 'border_count': 259, 'bagging_temperature': 23.61923989685893, 'od_type': 'IncToDec', 'value': 0.49992270816228745}.\n"
     ]
    },
    {
     "name": "stdout",
     "output_type": "stream",
     "text": [
      "ROC AUC Score of CatBoost = 0.49992270816228745\n"
     ]
    },
    {
     "name": "stderr",
     "output_type": "stream",
     "text": [
      "\u001b[32m[I 2021-09-19 18:44:46,013]\u001b[0m Trial 46 finished with value: 0.5001173687364086 and parameters: {'iterations': 2777, 'depth': 4, 'learning_rate': 0.021348905842271802, 'random_strength': 11, 'l2_leaf_reg': 4, 'border_count': 153, 'bagging_temperature': 73.40779308658354, 'od_type': 'Iter'}. Best is trial 26 with value: 0.5012748913580819.\u001b[0m\n",
      "\u001b[34m\u001b[1mwandb\u001b[0m: \u001b[33mWARNING\u001b[0m Step must only increase in log calls.  Step 46 < 47; dropping {'iterations': 2777, 'depth': 4, 'learning_rate': 0.021348905842271802, 'random_strength': 11, 'l2_leaf_reg': 4, 'border_count': 153, 'bagging_temperature': 73.40779308658354, 'od_type': 'Iter', 'value': 0.5001173687364086}.\n"
     ]
    },
    {
     "name": "stdout",
     "output_type": "stream",
     "text": [
      "ROC AUC Score of CatBoost = 0.5001173687364086\n"
     ]
    },
    {
     "name": "stderr",
     "output_type": "stream",
     "text": [
      "\u001b[32m[I 2021-09-19 18:50:02,398]\u001b[0m Trial 47 finished with value: 0.499188240832375 and parameters: {'iterations': 3602, 'depth': 6, 'learning_rate': 0.0021439397981857784, 'random_strength': 77, 'l2_leaf_reg': 22, 'border_count': 218, 'bagging_temperature': 0.2590091575274363, 'od_type': 'IncToDec'}. Best is trial 26 with value: 0.5012748913580819.\u001b[0m\n",
      "\u001b[34m\u001b[1mwandb\u001b[0m: \u001b[33mWARNING\u001b[0m Step must only increase in log calls.  Step 47 < 48; dropping {'iterations': 3602, 'depth': 6, 'learning_rate': 0.0021439397981857784, 'random_strength': 77, 'l2_leaf_reg': 22, 'border_count': 218, 'bagging_temperature': 0.2590091575274363, 'od_type': 'IncToDec', 'value': 0.499188240832375}.\n"
     ]
    },
    {
     "name": "stdout",
     "output_type": "stream",
     "text": [
      "ROC AUC Score of CatBoost = 0.499188240832375\n"
     ]
    },
    {
     "name": "stderr",
     "output_type": "stream",
     "text": [
      "\u001b[32m[I 2021-09-19 18:53:52,978]\u001b[0m Trial 48 finished with value: 0.5004925611151394 and parameters: {'iterations': 2940, 'depth': 5, 'learning_rate': 0.00313766919361107, 'random_strength': 96, 'l2_leaf_reg': 37, 'border_count': 89, 'bagging_temperature': 4.814353821070756, 'od_type': 'Iter'}. Best is trial 26 with value: 0.5012748913580819.\u001b[0m\n",
      "\u001b[34m\u001b[1mwandb\u001b[0m: \u001b[33mWARNING\u001b[0m Step must only increase in log calls.  Step 48 < 49; dropping {'iterations': 2940, 'depth': 5, 'learning_rate': 0.00313766919361107, 'random_strength': 96, 'l2_leaf_reg': 37, 'border_count': 89, 'bagging_temperature': 4.814353821070756, 'od_type': 'Iter', 'value': 0.5004925611151394}.\n"
     ]
    },
    {
     "name": "stdout",
     "output_type": "stream",
     "text": [
      "ROC AUC Score of CatBoost = 0.5004925611151394\n"
     ]
    },
    {
     "name": "stderr",
     "output_type": "stream",
     "text": [
      "\u001b[32m[I 2021-09-19 18:56:35,827]\u001b[0m Trial 49 finished with value: 0.4999602795510848 and parameters: {'iterations': 2576, 'depth': 3, 'learning_rate': 0.0056439793239716415, 'random_strength': 68, 'l2_leaf_reg': 9, 'border_count': 250, 'bagging_temperature': 98.813467329418, 'od_type': 'IncToDec'}. Best is trial 26 with value: 0.5012748913580819.\u001b[0m\n",
      "\u001b[34m\u001b[1mwandb\u001b[0m: \u001b[33mWARNING\u001b[0m Step must only increase in log calls.  Step 49 < 50; dropping {'iterations': 2576, 'depth': 3, 'learning_rate': 0.0056439793239716415, 'random_strength': 68, 'l2_leaf_reg': 9, 'border_count': 250, 'bagging_temperature': 98.813467329418, 'od_type': 'IncToDec', 'value': 0.4999602795510848}.\n"
     ]
    },
    {
     "name": "stdout",
     "output_type": "stream",
     "text": [
      "ROC AUC Score of CatBoost = 0.4999602795510848\n"
     ]
    },
    {
     "name": "stderr",
     "output_type": "stream",
     "text": [
      "\u001b[32m[I 2021-09-19 19:00:41,801]\u001b[0m Trial 50 finished with value: 0.5009201283299998 and parameters: {'iterations': 3174, 'depth': 5, 'learning_rate': 0.07958177427207076, 'random_strength': 84, 'l2_leaf_reg': 19, 'border_count': 202, 'bagging_temperature': 13.241585735499315, 'od_type': 'Iter'}. Best is trial 26 with value: 0.5012748913580819.\u001b[0m\n",
      "\u001b[34m\u001b[1mwandb\u001b[0m: \u001b[33mWARNING\u001b[0m Step must only increase in log calls.  Step 50 < 51; dropping {'iterations': 3174, 'depth': 5, 'learning_rate': 0.07958177427207076, 'random_strength': 84, 'l2_leaf_reg': 19, 'border_count': 202, 'bagging_temperature': 13.241585735499315, 'od_type': 'Iter', 'value': 0.5009201283299998}.\n"
     ]
    },
    {
     "name": "stdout",
     "output_type": "stream",
     "text": [
      "ROC AUC Score of CatBoost = 0.5009201283299998\n"
     ]
    },
    {
     "name": "stderr",
     "output_type": "stream",
     "text": [
      "\u001b[32m[I 2021-09-19 19:04:40,038]\u001b[0m Trial 51 finished with value: 0.49927678704037404 and parameters: {'iterations': 3024, 'depth': 5, 'learning_rate': 0.08605663709639597, 'random_strength': 84, 'l2_leaf_reg': 49, 'border_count': 206, 'bagging_temperature': 18.813876668748094, 'od_type': 'Iter'}. Best is trial 26 with value: 0.5012748913580819.\u001b[0m\n",
      "\u001b[34m\u001b[1mwandb\u001b[0m: \u001b[33mWARNING\u001b[0m Step must only increase in log calls.  Step 51 < 52; dropping {'iterations': 3024, 'depth': 5, 'learning_rate': 0.08605663709639597, 'random_strength': 84, 'l2_leaf_reg': 49, 'border_count': 206, 'bagging_temperature': 18.813876668748094, 'od_type': 'Iter', 'value': 0.49927678704037404}.\n"
     ]
    },
    {
     "name": "stdout",
     "output_type": "stream",
     "text": [
      "ROC AUC Score of CatBoost = 0.49927678704037404\n"
     ]
    },
    {
     "name": "stderr",
     "output_type": "stream",
     "text": [
      "\u001b[32m[I 2021-09-19 19:09:26,018]\u001b[0m Trial 52 finished with value: 0.5006068962484783 and parameters: {'iterations': 3245, 'depth': 6, 'learning_rate': 0.1808103632699139, 'random_strength': 89, 'l2_leaf_reg': 17, 'border_count': 236, 'bagging_temperature': 48.684779270702656, 'od_type': 'Iter'}. Best is trial 26 with value: 0.5012748913580819.\u001b[0m\n",
      "\u001b[34m\u001b[1mwandb\u001b[0m: \u001b[33mWARNING\u001b[0m Step must only increase in log calls.  Step 52 < 53; dropping {'iterations': 3245, 'depth': 6, 'learning_rate': 0.1808103632699139, 'random_strength': 89, 'l2_leaf_reg': 17, 'border_count': 236, 'bagging_temperature': 48.684779270702656, 'od_type': 'Iter', 'value': 0.5006068962484783}.\n"
     ]
    },
    {
     "name": "stdout",
     "output_type": "stream",
     "text": [
      "ROC AUC Score of CatBoost = 0.5006068962484783\n"
     ]
    },
    {
     "name": "stderr",
     "output_type": "stream",
     "text": [
      "\u001b[32m[I 2021-09-19 19:13:40,029]\u001b[0m Trial 53 finished with value: 0.5005241154152784 and parameters: {'iterations': 3813, 'depth': 4, 'learning_rate': 0.23338338360971153, 'random_strength': 82, 'l2_leaf_reg': 22, 'border_count': 198, 'bagging_temperature': 10.285953721065422, 'od_type': 'Iter'}. Best is trial 26 with value: 0.5012748913580819.\u001b[0m\n",
      "\u001b[34m\u001b[1mwandb\u001b[0m: \u001b[33mWARNING\u001b[0m Step must only increase in log calls.  Step 53 < 54; dropping {'iterations': 3813, 'depth': 4, 'learning_rate': 0.23338338360971153, 'random_strength': 82, 'l2_leaf_reg': 22, 'border_count': 198, 'bagging_temperature': 10.285953721065422, 'od_type': 'Iter', 'value': 0.5005241154152784}.\n"
     ]
    },
    {
     "name": "stdout",
     "output_type": "stream",
     "text": [
      "ROC AUC Score of CatBoost = 0.5005241154152784\n"
     ]
    },
    {
     "name": "stderr",
     "output_type": "stream",
     "text": [
      "\u001b[32m[I 2021-09-19 19:17:37,182]\u001b[0m Trial 54 finished with value: 0.4999285486890313 and parameters: {'iterations': 3161, 'depth': 4, 'learning_rate': 0.13642840601065315, 'random_strength': 98, 'l2_leaf_reg': 13, 'border_count': 262, 'bagging_temperature': 30.04149286626598, 'od_type': 'Iter'}. Best is trial 26 with value: 0.5012748913580819.\u001b[0m\n",
      "\u001b[34m\u001b[1mwandb\u001b[0m: \u001b[33mWARNING\u001b[0m Step must only increase in log calls.  Step 54 < 55; dropping {'iterations': 3161, 'depth': 4, 'learning_rate': 0.13642840601065315, 'random_strength': 98, 'l2_leaf_reg': 13, 'border_count': 262, 'bagging_temperature': 30.04149286626598, 'od_type': 'Iter', 'value': 0.4999285486890313}.\n"
     ]
    },
    {
     "name": "stdout",
     "output_type": "stream",
     "text": [
      "ROC AUC Score of CatBoost = 0.4999285486890313\n"
     ]
    },
    {
     "name": "stderr",
     "output_type": "stream",
     "text": [
      "\u001b[32m[I 2021-09-19 19:22:05,918]\u001b[0m Trial 55 finished with value: 0.5013894302775861 and parameters: {'iterations': 3493, 'depth': 5, 'learning_rate': 0.09397459954141321, 'random_strength': 43, 'l2_leaf_reg': 26, 'border_count': 239, 'bagging_temperature': 12.532400413798356, 'od_type': 'Iter'}. Best is trial 55 with value: 0.5013894302775861.\u001b[0m\n",
      "\u001b[34m\u001b[1mwandb\u001b[0m: \u001b[33mWARNING\u001b[0m Step must only increase in log calls.  Step 55 < 56; dropping {'iterations': 3493, 'depth': 5, 'learning_rate': 0.09397459954141321, 'random_strength': 43, 'l2_leaf_reg': 26, 'border_count': 239, 'bagging_temperature': 12.532400413798356, 'od_type': 'Iter', 'value': 0.5013894302775861}.\n"
     ]
    },
    {
     "name": "stdout",
     "output_type": "stream",
     "text": [
      "ROC AUC Score of CatBoost = 0.5013894302775861\n"
     ]
    },
    {
     "name": "stderr",
     "output_type": "stream",
     "text": [
      "\u001b[32m[I 2021-09-19 19:27:10,473]\u001b[0m Trial 56 finished with value: 0.4998840169667881 and parameters: {'iterations': 3496, 'depth': 6, 'learning_rate': 0.07521291218356786, 'random_strength': 43, 'l2_leaf_reg': 27, 'border_count': 219, 'bagging_temperature': 2.0493808821423847, 'od_type': 'Iter'}. Best is trial 55 with value: 0.5013894302775861.\u001b[0m\n",
      "\u001b[34m\u001b[1mwandb\u001b[0m: \u001b[33mWARNING\u001b[0m Step must only increase in log calls.  Step 56 < 57; dropping {'iterations': 3496, 'depth': 6, 'learning_rate': 0.07521291218356786, 'random_strength': 43, 'l2_leaf_reg': 27, 'border_count': 219, 'bagging_temperature': 2.0493808821423847, 'od_type': 'Iter', 'value': 0.4998840169667881}.\n"
     ]
    },
    {
     "name": "stdout",
     "output_type": "stream",
     "text": [
      "ROC AUC Score of CatBoost = 0.4998840169667881\n"
     ]
    },
    {
     "name": "stderr",
     "output_type": "stream",
     "text": [
      "\u001b[32m[I 2021-09-19 19:29:54,368]\u001b[0m Trial 57 finished with value: 0.5000139072611212 and parameters: {'iterations': 1370, 'depth': 7, 'learning_rate': 0.054825741037570694, 'random_strength': 18, 'l2_leaf_reg': 25, 'border_count': 238, 'bagging_temperature': 13.813631876932906, 'od_type': 'Iter'}. Best is trial 55 with value: 0.5013894302775861.\u001b[0m\n",
      "\u001b[34m\u001b[1mwandb\u001b[0m: \u001b[33mWARNING\u001b[0m Step must only increase in log calls.  Step 57 < 58; dropping {'iterations': 1370, 'depth': 7, 'learning_rate': 0.054825741037570694, 'random_strength': 18, 'l2_leaf_reg': 25, 'border_count': 238, 'bagging_temperature': 13.813631876932906, 'od_type': 'Iter', 'value': 0.5000139072611212}.\n"
     ]
    },
    {
     "name": "stdout",
     "output_type": "stream",
     "text": [
      "ROC AUC Score of CatBoost = 0.5000139072611212\n"
     ]
    },
    {
     "name": "stderr",
     "output_type": "stream",
     "text": [
      "\u001b[32m[I 2021-09-19 19:34:20,891]\u001b[0m Trial 58 finished with value: 0.49938833833262997 and parameters: {'iterations': 3488, 'depth': 5, 'learning_rate': 0.11217727785680177, 'random_strength': 35, 'l2_leaf_reg': 35, 'border_count': 210, 'bagging_temperature': 5.334053701606116, 'od_type': 'Iter'}. Best is trial 55 with value: 0.5013894302775861.\u001b[0m\n",
      "\u001b[34m\u001b[1mwandb\u001b[0m: \u001b[33mWARNING\u001b[0m Step must only increase in log calls.  Step 58 < 59; dropping {'iterations': 3488, 'depth': 5, 'learning_rate': 0.11217727785680177, 'random_strength': 35, 'l2_leaf_reg': 35, 'border_count': 210, 'bagging_temperature': 5.334053701606116, 'od_type': 'Iter', 'value': 0.49938833833262997}.\n"
     ]
    },
    {
     "name": "stdout",
     "output_type": "stream",
     "text": [
      "ROC AUC Score of CatBoost = 0.49938833833262997\n"
     ]
    },
    {
     "name": "stderr",
     "output_type": "stream",
     "text": [
      "\u001b[32m[I 2021-09-19 19:39:42,177]\u001b[0m Trial 59 finished with value: 0.4996214705068893 and parameters: {'iterations': 3762, 'depth': 6, 'learning_rate': 0.16541372320817133, 'random_strength': 73, 'l2_leaf_reg': 30, 'border_count': 55, 'bagging_temperature': 17.81102903204463, 'od_type': 'Iter'}. Best is trial 55 with value: 0.5013894302775861.\u001b[0m\n",
      "\u001b[34m\u001b[1mwandb\u001b[0m: \u001b[33mWARNING\u001b[0m Step must only increase in log calls.  Step 59 < 60; dropping {'iterations': 3762, 'depth': 6, 'learning_rate': 0.16541372320817133, 'random_strength': 73, 'l2_leaf_reg': 30, 'border_count': 55, 'bagging_temperature': 17.81102903204463, 'od_type': 'Iter', 'value': 0.4996214705068893}.\n"
     ]
    },
    {
     "name": "stdout",
     "output_type": "stream",
     "text": [
      "ROC AUC Score of CatBoost = 0.4996214705068893\n"
     ]
    },
    {
     "name": "stderr",
     "output_type": "stream",
     "text": [
      "\u001b[32m[I 2021-09-19 19:46:15,060]\u001b[0m Trial 60 finished with value: 0.5004452187548378 and parameters: {'iterations': 3984, 'depth': 7, 'learning_rate': 0.04049548618588177, 'random_strength': 66, 'l2_leaf_reg': 19, 'border_count': 230, 'bagging_temperature': 27.224264271773357, 'od_type': 'Iter'}. Best is trial 55 with value: 0.5013894302775861.\u001b[0m\n",
      "\u001b[34m\u001b[1mwandb\u001b[0m: \u001b[33mWARNING\u001b[0m Step must only increase in log calls.  Step 60 < 61; dropping {'iterations': 3984, 'depth': 7, 'learning_rate': 0.04049548618588177, 'random_strength': 66, 'l2_leaf_reg': 19, 'border_count': 230, 'bagging_temperature': 27.224264271773357, 'od_type': 'Iter', 'value': 0.5004452187548378}.\n"
     ]
    },
    {
     "name": "stdout",
     "output_type": "stream",
     "text": [
      "ROC AUC Score of CatBoost = 0.5004452187548378\n"
     ]
    },
    {
     "name": "stderr",
     "output_type": "stream",
     "text": [
      "\u001b[32m[I 2021-09-19 19:50:16,027]\u001b[0m Trial 61 finished with value: 0.5010192562600234 and parameters: {'iterations': 3082, 'depth': 5, 'learning_rate': 0.0624029004241536, 'random_strength': 86, 'l2_leaf_reg': 20, 'border_count': 247, 'bagging_temperature': 67.5167724485415, 'od_type': 'Iter'}. Best is trial 55 with value: 0.5013894302775861.\u001b[0m\n",
      "\u001b[34m\u001b[1mwandb\u001b[0m: \u001b[33mWARNING\u001b[0m Step must only increase in log calls.  Step 61 < 62; dropping {'iterations': 3082, 'depth': 5, 'learning_rate': 0.0624029004241536, 'random_strength': 86, 'l2_leaf_reg': 20, 'border_count': 247, 'bagging_temperature': 67.5167724485415, 'od_type': 'Iter', 'value': 0.5010192562600234}.\n"
     ]
    },
    {
     "name": "stdout",
     "output_type": "stream",
     "text": [
      "ROC AUC Score of CatBoost = 0.5010192562600234\n"
     ]
    },
    {
     "name": "stderr",
     "output_type": "stream",
     "text": [
      "\u001b[32m[I 2021-09-19 19:54:46,238]\u001b[0m Trial 62 finished with value: 0.4993778831618575 and parameters: {'iterations': 3112, 'depth': 6, 'learning_rate': 0.06801435649085165, 'random_strength': 47, 'l2_leaf_reg': 20, 'border_count': 126, 'bagging_temperature': 75.89144410392005, 'od_type': 'Iter'}. Best is trial 55 with value: 0.5013894302775861.\u001b[0m\n",
      "\u001b[34m\u001b[1mwandb\u001b[0m: \u001b[33mWARNING\u001b[0m Step must only increase in log calls.  Step 62 < 63; dropping {'iterations': 3112, 'depth': 6, 'learning_rate': 0.06801435649085165, 'random_strength': 47, 'l2_leaf_reg': 20, 'border_count': 126, 'bagging_temperature': 75.89144410392005, 'od_type': 'Iter', 'value': 0.4993778831618575}.\n"
     ]
    },
    {
     "name": "stdout",
     "output_type": "stream",
     "text": [
      "ROC AUC Score of CatBoost = 0.4993778831618575\n"
     ]
    },
    {
     "name": "stderr",
     "output_type": "stream",
     "text": [
      "\u001b[32m[I 2021-09-19 19:59:02,914]\u001b[0m Trial 63 finished with value: 0.500588292534625 and parameters: {'iterations': 3290, 'depth': 5, 'learning_rate': 0.1020994705045069, 'random_strength': 87, 'l2_leaf_reg': 24, 'border_count': 254, 'bagging_temperature': 9.532330475172301, 'od_type': 'Iter'}. Best is trial 55 with value: 0.5013894302775861.\u001b[0m\n",
      "\u001b[34m\u001b[1mwandb\u001b[0m: \u001b[33mWARNING\u001b[0m Step must only increase in log calls.  Step 63 < 64; dropping {'iterations': 3290, 'depth': 5, 'learning_rate': 0.1020994705045069, 'random_strength': 87, 'l2_leaf_reg': 24, 'border_count': 254, 'bagging_temperature': 9.532330475172301, 'od_type': 'Iter', 'value': 0.500588292534625}.\n"
     ]
    },
    {
     "name": "stdout",
     "output_type": "stream",
     "text": [
      "ROC AUC Score of CatBoost = 0.500588292534625\n"
     ]
    },
    {
     "name": "stderr",
     "output_type": "stream",
     "text": [
      "\u001b[32m[I 2021-09-19 20:02:56,851]\u001b[0m Trial 64 finished with value: 0.4996268082953823 and parameters: {'iterations': 2940, 'depth': 5, 'learning_rate': 0.27246202547865545, 'random_strength': 80, 'l2_leaf_reg': 28, 'border_count': 246, 'bagging_temperature': 34.667944596631216, 'od_type': 'Iter'}. Best is trial 55 with value: 0.5013894302775861.\u001b[0m\n",
      "\u001b[34m\u001b[1mwandb\u001b[0m: \u001b[33mWARNING\u001b[0m Step must only increase in log calls.  Step 64 < 65; dropping {'iterations': 2940, 'depth': 5, 'learning_rate': 0.27246202547865545, 'random_strength': 80, 'l2_leaf_reg': 28, 'border_count': 246, 'bagging_temperature': 34.667944596631216, 'od_type': 'Iter', 'value': 0.4996268082953823}.\n"
     ]
    },
    {
     "name": "stdout",
     "output_type": "stream",
     "text": [
      "ROC AUC Score of CatBoost = 0.4996268082953823\n"
     ]
    },
    {
     "name": "stderr",
     "output_type": "stream",
     "text": [
      "\u001b[32m[I 2021-09-19 20:04:14,436]\u001b[0m Trial 65 finished with value: 0.49944286254933373 and parameters: {'iterations': 325, 'depth': 8, 'learning_rate': 0.02569984664183605, 'random_strength': 92, 'l2_leaf_reg': 70, 'border_count': 224, 'bagging_temperature': 0.0197290619855415, 'od_type': 'Iter'}. Best is trial 55 with value: 0.5013894302775861.\u001b[0m\n",
      "\u001b[34m\u001b[1mwandb\u001b[0m: \u001b[33mWARNING\u001b[0m Step must only increase in log calls.  Step 65 < 66; dropping {'iterations': 325, 'depth': 8, 'learning_rate': 0.02569984664183605, 'random_strength': 92, 'l2_leaf_reg': 70, 'border_count': 224, 'bagging_temperature': 0.0197290619855415, 'od_type': 'Iter', 'value': 0.49944286254933373}.\n"
     ]
    },
    {
     "name": "stdout",
     "output_type": "stream",
     "text": [
      "ROC AUC Score of CatBoost = 0.49944286254933373\n"
     ]
    },
    {
     "name": "stderr",
     "output_type": "stream",
     "text": [
      "\u001b[32m[I 2021-09-19 20:09:57,407]\u001b[0m Trial 66 finished with value: 0.5006640432428004 and parameters: {'iterations': 3425, 'depth': 6, 'learning_rate': 0.1494443955339681, 'random_strength': 10, 'l2_leaf_reg': 17, 'border_count': 265, 'bagging_temperature': 20.491261508096585, 'od_type': 'Iter'}. Best is trial 55 with value: 0.5013894302775861.\u001b[0m\n",
      "\u001b[34m\u001b[1mwandb\u001b[0m: \u001b[33mWARNING\u001b[0m Step must only increase in log calls.  Step 66 < 67; dropping {'iterations': 3425, 'depth': 6, 'learning_rate': 0.1494443955339681, 'random_strength': 10, 'l2_leaf_reg': 17, 'border_count': 265, 'bagging_temperature': 20.491261508096585, 'od_type': 'Iter', 'value': 0.5006640432428004}.\n"
     ]
    },
    {
     "name": "stdout",
     "output_type": "stream",
     "text": [
      "ROC AUC Score of CatBoost = 0.5006640432428004\n"
     ]
    },
    {
     "name": "stderr",
     "output_type": "stream",
     "text": [
      "\u001b[32m[I 2021-09-19 20:12:55,724]\u001b[0m Trial 67 finished with value: 0.49977884391300265 and parameters: {'iterations': 2437, 'depth': 4, 'learning_rate': 0.06072404467894943, 'random_strength': 22, 'l2_leaf_reg': 34, 'border_count': 239, 'bagging_temperature': 0.17535223272015987, 'od_type': 'Iter'}. Best is trial 55 with value: 0.5013894302775861.\u001b[0m\n",
      "\u001b[34m\u001b[1mwandb\u001b[0m: \u001b[33mWARNING\u001b[0m Step must only increase in log calls.  Step 67 < 68; dropping {'iterations': 2437, 'depth': 4, 'learning_rate': 0.06072404467894943, 'random_strength': 22, 'l2_leaf_reg': 34, 'border_count': 239, 'bagging_temperature': 0.17535223272015987, 'od_type': 'Iter', 'value': 0.49977884391300265}.\n"
     ]
    },
    {
     "name": "stdout",
     "output_type": "stream",
     "text": [
      "ROC AUC Score of CatBoost = 0.49977884391300265\n"
     ]
    },
    {
     "name": "stderr",
     "output_type": "stream",
     "text": [
      "\u001b[32m[I 2021-09-19 20:16:32,773]\u001b[0m Trial 68 finished with value: 0.4997095368018921 and parameters: {'iterations': 2735, 'depth': 5, 'learning_rate': 0.016224694347634027, 'random_strength': 85, 'l2_leaf_reg': 21, 'border_count': 233, 'bagging_temperature': 62.92741020552367, 'od_type': 'Iter'}. Best is trial 55 with value: 0.5013894302775861.\u001b[0m\n",
      "\u001b[34m\u001b[1mwandb\u001b[0m: \u001b[33mWARNING\u001b[0m Step must only increase in log calls.  Step 68 < 69; dropping {'iterations': 2735, 'depth': 5, 'learning_rate': 0.016224694347634027, 'random_strength': 85, 'l2_leaf_reg': 21, 'border_count': 233, 'bagging_temperature': 62.92741020552367, 'od_type': 'Iter', 'value': 0.4997095368018921}.\n"
     ]
    },
    {
     "name": "stdout",
     "output_type": "stream",
     "text": [
      "ROC AUC Score of CatBoost = 0.4997095368018921\n"
     ]
    },
    {
     "name": "stderr",
     "output_type": "stream",
     "text": [
      "\u001b[32m[I 2021-09-19 20:20:03,020]\u001b[0m Trial 69 finished with value: 0.5006114988608154 and parameters: {'iterations': 3596, 'depth': 3, 'learning_rate': 0.036893661022684064, 'random_strength': 77, 'l2_leaf_reg': 24, 'border_count': 181, 'bagging_temperature': 14.249543890105095, 'od_type': 'Iter'}. Best is trial 55 with value: 0.5013894302775861.\u001b[0m\n",
      "\u001b[34m\u001b[1mwandb\u001b[0m: \u001b[33mWARNING\u001b[0m Step must only increase in log calls.  Step 69 < 70; dropping {'iterations': 3596, 'depth': 3, 'learning_rate': 0.036893661022684064, 'random_strength': 77, 'l2_leaf_reg': 24, 'border_count': 181, 'bagging_temperature': 14.249543890105095, 'od_type': 'Iter', 'value': 0.5006114988608154}.\n"
     ]
    },
    {
     "name": "stdout",
     "output_type": "stream",
     "text": [
      "ROC AUC Score of CatBoost = 0.5006114988608154\n"
     ]
    },
    {
     "name": "stderr",
     "output_type": "stream",
     "text": [
      "\u001b[32m[I 2021-09-19 20:24:00,215]\u001b[0m Trial 70 finished with value: 0.4999477876693902 and parameters: {'iterations': 3047, 'depth': 5, 'learning_rate': 0.046964670868741246, 'random_strength': 0, 'l2_leaf_reg': 39, 'border_count': 73, 'bagging_temperature': 36.08849385186022, 'od_type': 'Iter'}. Best is trial 55 with value: 0.5013894302775861.\u001b[0m\n",
      "\u001b[34m\u001b[1mwandb\u001b[0m: \u001b[33mWARNING\u001b[0m Step must only increase in log calls.  Step 70 < 71; dropping {'iterations': 3047, 'depth': 5, 'learning_rate': 0.046964670868741246, 'random_strength': 0, 'l2_leaf_reg': 39, 'border_count': 73, 'bagging_temperature': 36.08849385186022, 'od_type': 'Iter', 'value': 0.4999477876693902}.\n"
     ]
    },
    {
     "name": "stdout",
     "output_type": "stream",
     "text": [
      "ROC AUC Score of CatBoost = 0.4999477876693902\n"
     ]
    },
    {
     "name": "stderr",
     "output_type": "stream",
     "text": [
      "\u001b[32m[I 2021-09-19 20:26:59,065]\u001b[0m Trial 71 finished with value: 0.5005762597022552 and parameters: {'iterations': 2889, 'depth': 3, 'learning_rate': 0.0024171736712478038, 'random_strength': 89, 'l2_leaf_reg': 3, 'border_count': 253, 'bagging_temperature': 45.98327609516819, 'od_type': 'IncToDec'}. Best is trial 55 with value: 0.5013894302775861.\u001b[0m\n",
      "\u001b[34m\u001b[1mwandb\u001b[0m: \u001b[33mWARNING\u001b[0m Step must only increase in log calls.  Step 71 < 72; dropping {'iterations': 2889, 'depth': 3, 'learning_rate': 0.0024171736712478038, 'random_strength': 89, 'l2_leaf_reg': 3, 'border_count': 253, 'bagging_temperature': 45.98327609516819, 'od_type': 'IncToDec', 'value': 0.5005762597022552}.\n"
     ]
    },
    {
     "name": "stdout",
     "output_type": "stream",
     "text": [
      "ROC AUC Score of CatBoost = 0.5005762597022552\n"
     ]
    },
    {
     "name": "stderr",
     "output_type": "stream",
     "text": [
      "\u001b[32m[I 2021-09-19 20:30:38,315]\u001b[0m Trial 72 finished with value: 0.4988853490136325 and parameters: {'iterations': 3224, 'depth': 4, 'learning_rate': 0.0012727887954177139, 'random_strength': 95, 'l2_leaf_reg': 7, 'border_count': 244, 'bagging_temperature': 23.246553626311506, 'od_type': 'IncToDec'}. Best is trial 55 with value: 0.5013894302775861.\u001b[0m\n",
      "\u001b[34m\u001b[1mwandb\u001b[0m: \u001b[33mWARNING\u001b[0m Step must only increase in log calls.  Step 72 < 73; dropping {'iterations': 3224, 'depth': 4, 'learning_rate': 0.0012727887954177139, 'random_strength': 95, 'l2_leaf_reg': 7, 'border_count': 244, 'bagging_temperature': 23.246553626311506, 'od_type': 'IncToDec', 'value': 0.4988853490136325}.\n"
     ]
    },
    {
     "name": "stdout",
     "output_type": "stream",
     "text": [
      "ROC AUC Score of CatBoost = 0.4988853490136325\n"
     ]
    },
    {
     "name": "stderr",
     "output_type": "stream",
     "text": [
      "\u001b[32m[I 2021-09-19 20:34:06,804]\u001b[0m Trial 73 finished with value: 0.49982910260379887 and parameters: {'iterations': 2668, 'depth': 4, 'learning_rate': 0.001889362272955627, 'random_strength': 97, 'l2_leaf_reg': 15, 'border_count': 267, 'bagging_temperature': 67.92346725558016, 'od_type': 'IncToDec'}. Best is trial 55 with value: 0.5013894302775861.\u001b[0m\n",
      "\u001b[34m\u001b[1mwandb\u001b[0m: \u001b[33mWARNING\u001b[0m Step must only increase in log calls.  Step 73 < 74; dropping {'iterations': 2668, 'depth': 4, 'learning_rate': 0.001889362272955627, 'random_strength': 97, 'l2_leaf_reg': 15, 'border_count': 267, 'bagging_temperature': 67.92346725558016, 'od_type': 'IncToDec', 'value': 0.49982910260379887}.\n"
     ]
    },
    {
     "name": "stdout",
     "output_type": "stream",
     "text": [
      "ROC AUC Score of CatBoost = 0.49982910260379887\n"
     ]
    },
    {
     "name": "stderr",
     "output_type": "stream",
     "text": [
      "\u001b[32m[I 2021-09-19 20:37:00,183]\u001b[0m Trial 74 finished with value: 0.5007052302762337 and parameters: {'iterations': 2827, 'depth': 3, 'learning_rate': 0.004588348069854205, 'random_strength': 61, 'l2_leaf_reg': 12, 'border_count': 151, 'bagging_temperature': 46.96007143813441, 'od_type': 'IncToDec'}. Best is trial 55 with value: 0.5013894302775861.\u001b[0m\n",
      "\u001b[34m\u001b[1mwandb\u001b[0m: \u001b[33mWARNING\u001b[0m Step must only increase in log calls.  Step 74 < 75; dropping {'iterations': 2827, 'depth': 3, 'learning_rate': 0.004588348069854205, 'random_strength': 61, 'l2_leaf_reg': 12, 'border_count': 151, 'bagging_temperature': 46.96007143813441, 'od_type': 'IncToDec', 'value': 0.5007052302762337}.\n"
     ]
    },
    {
     "name": "stdout",
     "output_type": "stream",
     "text": [
      "ROC AUC Score of CatBoost = 0.5007052302762337\n"
     ]
    },
    {
     "name": "stderr",
     "output_type": "stream",
     "text": [
      "\u001b[32m[I 2021-09-19 20:39:22,806]\u001b[0m Trial 75 finished with value: 0.5011241276621186 and parameters: {'iterations': 2164, 'depth': 3, 'learning_rate': 0.008803436797197212, 'random_strength': 56, 'l2_leaf_reg': 10, 'border_count': 198, 'bagging_temperature': 0.09224993328810302, 'od_type': 'IncToDec'}. Best is trial 55 with value: 0.5013894302775861.\u001b[0m\n",
      "\u001b[34m\u001b[1mwandb\u001b[0m: \u001b[33mWARNING\u001b[0m Step must only increase in log calls.  Step 75 < 76; dropping {'iterations': 2164, 'depth': 3, 'learning_rate': 0.008803436797197212, 'random_strength': 56, 'l2_leaf_reg': 10, 'border_count': 198, 'bagging_temperature': 0.09224993328810302, 'od_type': 'IncToDec', 'value': 0.5011241276621186}.\n"
     ]
    },
    {
     "name": "stdout",
     "output_type": "stream",
     "text": [
      "ROC AUC Score of CatBoost = 0.5011241276621186\n"
     ]
    },
    {
     "name": "stderr",
     "output_type": "stream",
     "text": [
      "\u001b[32m[I 2021-09-19 20:41:42,961]\u001b[0m Trial 76 finished with value: 0.4995893065427905 and parameters: {'iterations': 2138, 'depth': 3, 'learning_rate': 0.013070915277723433, 'random_strength': 33, 'l2_leaf_reg': 18, 'border_count': 201, 'bagging_temperature': 0.06509286920000576, 'od_type': 'IncToDec'}. Best is trial 55 with value: 0.5013894302775861.\u001b[0m\n",
      "\u001b[34m\u001b[1mwandb\u001b[0m: \u001b[33mWARNING\u001b[0m Step must only increase in log calls.  Step 76 < 77; dropping {'iterations': 2138, 'depth': 3, 'learning_rate': 0.013070915277723433, 'random_strength': 33, 'l2_leaf_reg': 18, 'border_count': 201, 'bagging_temperature': 0.06509286920000576, 'od_type': 'IncToDec', 'value': 0.4995893065427905}.\n"
     ]
    },
    {
     "name": "stdout",
     "output_type": "stream",
     "text": [
      "ROC AUC Score of CatBoost = 0.4995893065427905\n"
     ]
    },
    {
     "name": "stderr",
     "output_type": "stream",
     "text": [
      "\u001b[32m[I 2021-09-19 20:43:09,384]\u001b[0m Trial 77 finished with value: 0.4995957600108919 and parameters: {'iterations': 940, 'depth': 3, 'learning_rate': 0.010508403536551242, 'random_strength': 55, 'l2_leaf_reg': 62, 'border_count': 189, 'bagging_temperature': 0.03832021375321174, 'od_type': 'IncToDec'}. Best is trial 55 with value: 0.5013894302775861.\u001b[0m\n",
      "\u001b[34m\u001b[1mwandb\u001b[0m: \u001b[33mWARNING\u001b[0m Step must only increase in log calls.  Step 77 < 78; dropping {'iterations': 940, 'depth': 3, 'learning_rate': 0.010508403536551242, 'random_strength': 55, 'l2_leaf_reg': 62, 'border_count': 189, 'bagging_temperature': 0.03832021375321174, 'od_type': 'IncToDec', 'value': 0.4995957600108919}.\n"
     ]
    },
    {
     "name": "stdout",
     "output_type": "stream",
     "text": [
      "ROC AUC Score of CatBoost = 0.4995957600108919\n"
     ]
    },
    {
     "name": "stderr",
     "output_type": "stream",
     "text": [
      "\u001b[32m[I 2021-09-19 20:46:45,753]\u001b[0m Trial 78 finished with value: 0.49968865750094593 and parameters: {'iterations': 1965, 'depth': 7, 'learning_rate': 0.00856635638028129, 'random_strength': 52, 'l2_leaf_reg': 4, 'border_count': 215, 'bagging_temperature': 0.09035129919194812, 'od_type': 'IncToDec'}. Best is trial 55 with value: 0.5013894302775861.\u001b[0m\n",
      "\u001b[34m\u001b[1mwandb\u001b[0m: \u001b[33mWARNING\u001b[0m Step must only increase in log calls.  Step 78 < 79; dropping {'iterations': 1965, 'depth': 7, 'learning_rate': 0.00856635638028129, 'random_strength': 52, 'l2_leaf_reg': 4, 'border_count': 215, 'bagging_temperature': 0.09035129919194812, 'od_type': 'IncToDec', 'value': 0.49968865750094593}.\n"
     ]
    },
    {
     "name": "stdout",
     "output_type": "stream",
     "text": [
      "ROC AUC Score of CatBoost = 0.49968865750094593\n"
     ]
    },
    {
     "name": "stderr",
     "output_type": "stream",
     "text": [
      "\u001b[32m[I 2021-09-19 20:49:16,987]\u001b[0m Trial 79 finished with value: 0.5001761474135542 and parameters: {'iterations': 2323, 'depth': 3, 'learning_rate': 0.005646243674275631, 'random_strength': 40, 'l2_leaf_reg': 10, 'border_count': 171, 'bagging_temperature': 0.05651439072659096, 'od_type': 'Iter'}. Best is trial 55 with value: 0.5013894302775861.\u001b[0m\n",
      "\u001b[34m\u001b[1mwandb\u001b[0m: \u001b[33mWARNING\u001b[0m Step must only increase in log calls.  Step 79 < 80; dropping {'iterations': 2323, 'depth': 3, 'learning_rate': 0.005646243674275631, 'random_strength': 40, 'l2_leaf_reg': 10, 'border_count': 171, 'bagging_temperature': 0.05651439072659096, 'od_type': 'Iter', 'value': 0.5001761474135542}.\n"
     ]
    },
    {
     "name": "stdout",
     "output_type": "stream",
     "text": [
      "ROC AUC Score of CatBoost = 0.5001761474135542\n"
     ]
    },
    {
     "name": "stderr",
     "output_type": "stream",
     "text": [
      "\u001b[32m[I 2021-09-19 20:51:22,868]\u001b[0m Trial 80 finished with value: 0.49988891058776963 and parameters: {'iterations': 1624, 'depth': 3, 'learning_rate': 0.013378843699132897, 'random_strength': 81, 'l2_leaf_reg': 14, 'border_count': 274, 'bagging_temperature': 0.020943942490699995, 'od_type': 'IncToDec'}. Best is trial 55 with value: 0.5013894302775861.\u001b[0m\n",
      "\u001b[34m\u001b[1mwandb\u001b[0m: \u001b[33mWARNING\u001b[0m Step must only increase in log calls.  Step 80 < 81; dropping {'iterations': 1624, 'depth': 3, 'learning_rate': 0.013378843699132897, 'random_strength': 81, 'l2_leaf_reg': 14, 'border_count': 274, 'bagging_temperature': 0.020943942490699995, 'od_type': 'IncToDec', 'value': 0.49988891058776963}.\n"
     ]
    },
    {
     "name": "stdout",
     "output_type": "stream",
     "text": [
      "ROC AUC Score of CatBoost = 0.49988891058776963\n"
     ]
    },
    {
     "name": "stderr",
     "output_type": "stream",
     "text": [
      "\u001b[32m[I 2021-09-19 20:55:17,382]\u001b[0m Trial 81 finished with value: 0.5005412033545147 and parameters: {'iterations': 3060, 'depth': 4, 'learning_rate': 0.008803559306227693, 'random_strength': 90, 'l2_leaf_reg': 7, 'border_count': 256, 'bagging_temperature': 83.86604606914453, 'od_type': 'IncToDec'}. Best is trial 55 with value: 0.5013894302775861.\u001b[0m\n",
      "\u001b[34m\u001b[1mwandb\u001b[0m: \u001b[33mWARNING\u001b[0m Step must only increase in log calls.  Step 81 < 82; dropping {'iterations': 3060, 'depth': 4, 'learning_rate': 0.008803559306227693, 'random_strength': 90, 'l2_leaf_reg': 7, 'border_count': 256, 'bagging_temperature': 83.86604606914453, 'od_type': 'IncToDec', 'value': 0.5005412033545147}.\n"
     ]
    },
    {
     "name": "stdout",
     "output_type": "stream",
     "text": [
      "ROC AUC Score of CatBoost = 0.5005412033545147\n"
     ]
    },
    {
     "name": "stderr",
     "output_type": "stream",
     "text": [
      "\u001b[32m[I 2021-09-19 20:58:22,117]\u001b[0m Trial 82 finished with value: 0.4999553647216982 and parameters: {'iterations': 2560, 'depth': 4, 'learning_rate': 0.003091010618453093, 'random_strength': 29, 'l2_leaf_reg': 12, 'border_count': 245, 'bagging_temperature': 26.92759807073714, 'od_type': 'IncToDec'}. Best is trial 55 with value: 0.5013894302775861.\u001b[0m\n",
      "\u001b[34m\u001b[1mwandb\u001b[0m: \u001b[33mWARNING\u001b[0m Step must only increase in log calls.  Step 82 < 83; dropping {'iterations': 2560, 'depth': 4, 'learning_rate': 0.003091010618453093, 'random_strength': 29, 'l2_leaf_reg': 12, 'border_count': 245, 'bagging_temperature': 26.92759807073714, 'od_type': 'IncToDec', 'value': 0.4999553647216982}.\n"
     ]
    },
    {
     "name": "stdout",
     "output_type": "stream",
     "text": [
      "ROC AUC Score of CatBoost = 0.4999553647216982\n"
     ]
    },
    {
     "name": "stderr",
     "output_type": "stream",
     "text": [
      "\u001b[32m[I 2021-09-19 21:01:31,198]\u001b[0m Trial 83 finished with value: 0.49982323173077936 and parameters: {'iterations': 3177, 'depth': 3, 'learning_rate': 0.006430042753972595, 'random_strength': 70, 'l2_leaf_reg': 2, 'border_count': 223, 'bagging_temperature': 0.03533243750492781, 'od_type': 'IncToDec'}. Best is trial 55 with value: 0.5013894302775861.\u001b[0m\n",
      "\u001b[34m\u001b[1mwandb\u001b[0m: \u001b[33mWARNING\u001b[0m Step must only increase in log calls.  Step 83 < 84; dropping {'iterations': 3177, 'depth': 3, 'learning_rate': 0.006430042753972595, 'random_strength': 70, 'l2_leaf_reg': 2, 'border_count': 223, 'bagging_temperature': 0.03533243750492781, 'od_type': 'IncToDec', 'value': 0.49982323173077936}.\n"
     ]
    },
    {
     "name": "stdout",
     "output_type": "stream",
     "text": [
      "ROC AUC Score of CatBoost = 0.49982323173077936\n"
     ]
    },
    {
     "ename": "KeyboardInterrupt",
     "evalue": "",
     "output_type": "error",
     "traceback": [
      "\u001b[0;31m---------------------------------------------------------------------------\u001b[0m",
      "\u001b[0;31mKeyboardInterrupt\u001b[0m                         Traceback (most recent call last)",
      "\u001b[0;32m<ipython-input-16-a66289fa59d3>\u001b[0m in \u001b[0;36m<module>\u001b[0;34m\u001b[0m\n\u001b[1;32m      1\u001b[0m \u001b[0mstudy\u001b[0m \u001b[0;34m=\u001b[0m \u001b[0moptuna\u001b[0m\u001b[0;34m.\u001b[0m\u001b[0mcreate_study\u001b[0m\u001b[0;34m(\u001b[0m\u001b[0mdirection\u001b[0m \u001b[0;34m=\u001b[0m \u001b[0;34m\"maximize\"\u001b[0m\u001b[0;34m,\u001b[0m \u001b[0msampler\u001b[0m \u001b[0;34m=\u001b[0m \u001b[0mTPESampler\u001b[0m\u001b[0;34m(\u001b[0m\u001b[0mseed\u001b[0m\u001b[0;34m=\u001b[0m\u001b[0mint\u001b[0m\u001b[0;34m(\u001b[0m\u001b[0mSEED\u001b[0m\u001b[0;34m)\u001b[0m\u001b[0;34m)\u001b[0m\u001b[0;34m,\u001b[0m \u001b[0mstudy_name\u001b[0m\u001b[0;34m=\u001b[0m\u001b[0;34m'CatBoost_20210919'\u001b[0m\u001b[0;34m)\u001b[0m\u001b[0;34m\u001b[0m\u001b[0;34m\u001b[0m\u001b[0m\n\u001b[1;32m      2\u001b[0m \u001b[0;31m# setting n_jobs=1 bc wandb apparently requires this\u001b[0m\u001b[0;34m\u001b[0m\u001b[0;34m\u001b[0m\u001b[0;34m\u001b[0m\u001b[0m\n\u001b[0;32m----> 3\u001b[0;31m \u001b[0mstudy\u001b[0m\u001b[0;34m.\u001b[0m\u001b[0moptimize\u001b[0m\u001b[0;34m(\u001b[0m\u001b[0mobjective\u001b[0m\u001b[0;34m,\u001b[0m \u001b[0mn_trials\u001b[0m \u001b[0;34m=\u001b[0m \u001b[0mn_trials\u001b[0m\u001b[0;34m,\u001b[0m \u001b[0mn_jobs\u001b[0m\u001b[0;34m=\u001b[0m\u001b[0;36m1\u001b[0m\u001b[0;34m,\u001b[0m \u001b[0mcallbacks\u001b[0m \u001b[0;34m=\u001b[0m \u001b[0;34m[\u001b[0m\u001b[0mwandbc\u001b[0m\u001b[0;34m]\u001b[0m\u001b[0;34m)\u001b[0m \u001b[0;31m#n_jobs = multiprocessing.cpu_count())\u001b[0m\u001b[0;34m\u001b[0m\u001b[0;34m\u001b[0m\u001b[0m\n\u001b[0m",
      "\u001b[0;32m~/anaconda3/envs/tabular/lib/python3.8/site-packages/optuna/study/study.py\u001b[0m in \u001b[0;36moptimize\u001b[0;34m(self, func, n_trials, timeout, n_jobs, catch, callbacks, gc_after_trial, show_progress_bar)\u001b[0m\n\u001b[1;32m    398\u001b[0m             )\n\u001b[1;32m    399\u001b[0m \u001b[0;34m\u001b[0m\u001b[0m\n\u001b[0;32m--> 400\u001b[0;31m         _optimize(\n\u001b[0m\u001b[1;32m    401\u001b[0m             \u001b[0mstudy\u001b[0m\u001b[0;34m=\u001b[0m\u001b[0mself\u001b[0m\u001b[0;34m,\u001b[0m\u001b[0;34m\u001b[0m\u001b[0;34m\u001b[0m\u001b[0m\n\u001b[1;32m    402\u001b[0m             \u001b[0mfunc\u001b[0m\u001b[0;34m=\u001b[0m\u001b[0mfunc\u001b[0m\u001b[0;34m,\u001b[0m\u001b[0;34m\u001b[0m\u001b[0;34m\u001b[0m\u001b[0m\n",
      "\u001b[0;32m~/anaconda3/envs/tabular/lib/python3.8/site-packages/optuna/study/_optimize.py\u001b[0m in \u001b[0;36m_optimize\u001b[0;34m(study, func, n_trials, timeout, n_jobs, catch, callbacks, gc_after_trial, show_progress_bar)\u001b[0m\n\u001b[1;32m     64\u001b[0m     \u001b[0;32mtry\u001b[0m\u001b[0;34m:\u001b[0m\u001b[0;34m\u001b[0m\u001b[0;34m\u001b[0m\u001b[0m\n\u001b[1;32m     65\u001b[0m         \u001b[0;32mif\u001b[0m \u001b[0mn_jobs\u001b[0m \u001b[0;34m==\u001b[0m \u001b[0;36m1\u001b[0m\u001b[0;34m:\u001b[0m\u001b[0;34m\u001b[0m\u001b[0;34m\u001b[0m\u001b[0m\n\u001b[0;32m---> 66\u001b[0;31m             _optimize_sequential(\n\u001b[0m\u001b[1;32m     67\u001b[0m                 \u001b[0mstudy\u001b[0m\u001b[0;34m,\u001b[0m\u001b[0;34m\u001b[0m\u001b[0;34m\u001b[0m\u001b[0m\n\u001b[1;32m     68\u001b[0m                 \u001b[0mfunc\u001b[0m\u001b[0;34m,\u001b[0m\u001b[0;34m\u001b[0m\u001b[0;34m\u001b[0m\u001b[0m\n",
      "\u001b[0;32m~/anaconda3/envs/tabular/lib/python3.8/site-packages/optuna/study/_optimize.py\u001b[0m in \u001b[0;36m_optimize_sequential\u001b[0;34m(study, func, n_trials, timeout, catch, callbacks, gc_after_trial, reseed_sampler_rng, time_start, progress_bar)\u001b[0m\n\u001b[1;32m    161\u001b[0m \u001b[0;34m\u001b[0m\u001b[0m\n\u001b[1;32m    162\u001b[0m         \u001b[0;32mtry\u001b[0m\u001b[0;34m:\u001b[0m\u001b[0;34m\u001b[0m\u001b[0;34m\u001b[0m\u001b[0m\n\u001b[0;32m--> 163\u001b[0;31m             \u001b[0mtrial\u001b[0m \u001b[0;34m=\u001b[0m \u001b[0m_run_trial\u001b[0m\u001b[0;34m(\u001b[0m\u001b[0mstudy\u001b[0m\u001b[0;34m,\u001b[0m \u001b[0mfunc\u001b[0m\u001b[0;34m,\u001b[0m \u001b[0mcatch\u001b[0m\u001b[0;34m)\u001b[0m\u001b[0;34m\u001b[0m\u001b[0;34m\u001b[0m\u001b[0m\n\u001b[0m\u001b[1;32m    164\u001b[0m         \u001b[0;32mexcept\u001b[0m \u001b[0mException\u001b[0m\u001b[0;34m:\u001b[0m\u001b[0;34m\u001b[0m\u001b[0;34m\u001b[0m\u001b[0m\n\u001b[1;32m    165\u001b[0m             \u001b[0;32mraise\u001b[0m\u001b[0;34m\u001b[0m\u001b[0;34m\u001b[0m\u001b[0m\n",
      "\u001b[0;32m~/anaconda3/envs/tabular/lib/python3.8/site-packages/optuna/study/_optimize.py\u001b[0m in \u001b[0;36m_run_trial\u001b[0;34m(study, func, catch)\u001b[0m\n\u001b[1;32m    211\u001b[0m \u001b[0;34m\u001b[0m\u001b[0m\n\u001b[1;32m    212\u001b[0m     \u001b[0;32mtry\u001b[0m\u001b[0;34m:\u001b[0m\u001b[0;34m\u001b[0m\u001b[0;34m\u001b[0m\u001b[0m\n\u001b[0;32m--> 213\u001b[0;31m         \u001b[0mvalue_or_values\u001b[0m \u001b[0;34m=\u001b[0m \u001b[0mfunc\u001b[0m\u001b[0;34m(\u001b[0m\u001b[0mtrial\u001b[0m\u001b[0;34m)\u001b[0m\u001b[0;34m\u001b[0m\u001b[0;34m\u001b[0m\u001b[0m\n\u001b[0m\u001b[1;32m    214\u001b[0m     \u001b[0;32mexcept\u001b[0m \u001b[0mexceptions\u001b[0m\u001b[0;34m.\u001b[0m\u001b[0mTrialPruned\u001b[0m \u001b[0;32mas\u001b[0m \u001b[0me\u001b[0m\u001b[0;34m:\u001b[0m\u001b[0;34m\u001b[0m\u001b[0;34m\u001b[0m\u001b[0m\n\u001b[1;32m    215\u001b[0m         \u001b[0;31m# TODO(mamu): Handle multi-objective cases.\u001b[0m\u001b[0;34m\u001b[0m\u001b[0;34m\u001b[0m\u001b[0;34m\u001b[0m\u001b[0m\n",
      "\u001b[0;32m<ipython-input-14-51ebf679a792>\u001b[0m in \u001b[0;36mobjective\u001b[0;34m(trial)\u001b[0m\n\u001b[1;32m     33\u001b[0m \u001b[0;31m#     wandb.init(wandb_kwargs)\u001b[0m\u001b[0;34m\u001b[0m\u001b[0;34m\u001b[0m\u001b[0;34m\u001b[0m\u001b[0m\n\u001b[1;32m     34\u001b[0m     \u001b[0;31m# fit the model on the training set -- note the use of the catboost.Pool instance\u001b[0m\u001b[0;34m\u001b[0m\u001b[0;34m\u001b[0m\u001b[0;34m\u001b[0m\u001b[0m\n\u001b[0;32m---> 35\u001b[0;31m     \u001b[0mmodel\u001b[0m\u001b[0;34m.\u001b[0m\u001b[0mfit\u001b[0m\u001b[0;34m(\u001b[0m\u001b[0mtrain_pool\u001b[0m\u001b[0;34m)\u001b[0m\u001b[0;34m\u001b[0m\u001b[0;34m\u001b[0m\u001b[0m\n\u001b[0m\u001b[1;32m     36\u001b[0m     \u001b[0;31m# generate predictions\u001b[0m\u001b[0;34m\u001b[0m\u001b[0;34m\u001b[0m\u001b[0;34m\u001b[0m\u001b[0m\n\u001b[1;32m     37\u001b[0m     \u001b[0mpreds\u001b[0m \u001b[0;34m=\u001b[0m \u001b[0mmodel\u001b[0m\u001b[0;34m.\u001b[0m\u001b[0mpredict\u001b[0m\u001b[0;34m(\u001b[0m\u001b[0mtest_pool\u001b[0m\u001b[0;34m)\u001b[0m\u001b[0;34m\u001b[0m\u001b[0;34m\u001b[0m\u001b[0m\n",
      "\u001b[0;32m~/anaconda3/envs/tabular/lib/python3.8/site-packages/catboost/core.py\u001b[0m in \u001b[0;36mfit\u001b[0;34m(self, X, y, cat_features, text_features, embedding_features, sample_weight, baseline, use_best_model, eval_set, verbose, logging_level, plot, column_description, verbose_eval, metric_period, silent, early_stopping_rounds, save_snapshot, snapshot_file, snapshot_interval, init_model, callbacks, log_cout, log_cerr)\u001b[0m\n\u001b[1;32m   4673\u001b[0m             \u001b[0mCatBoostClassifier\u001b[0m\u001b[0;34m.\u001b[0m\u001b[0m_check_is_compatible_loss\u001b[0m\u001b[0;34m(\u001b[0m\u001b[0mparams\u001b[0m\u001b[0;34m[\u001b[0m\u001b[0;34m'loss_function'\u001b[0m\u001b[0;34m]\u001b[0m\u001b[0;34m)\u001b[0m\u001b[0;34m\u001b[0m\u001b[0;34m\u001b[0m\u001b[0m\n\u001b[1;32m   4674\u001b[0m \u001b[0;34m\u001b[0m\u001b[0m\n\u001b[0;32m-> 4675\u001b[0;31m         self._fit(X, y, cat_features, text_features, embedding_features, None, sample_weight, None, None, None, None, baseline, use_best_model,\n\u001b[0m\u001b[1;32m   4676\u001b[0m                   \u001b[0meval_set\u001b[0m\u001b[0;34m,\u001b[0m \u001b[0mverbose\u001b[0m\u001b[0;34m,\u001b[0m \u001b[0mlogging_level\u001b[0m\u001b[0;34m,\u001b[0m \u001b[0mplot\u001b[0m\u001b[0;34m,\u001b[0m \u001b[0mcolumn_description\u001b[0m\u001b[0;34m,\u001b[0m \u001b[0mverbose_eval\u001b[0m\u001b[0;34m,\u001b[0m \u001b[0mmetric_period\u001b[0m\u001b[0;34m,\u001b[0m\u001b[0;34m\u001b[0m\u001b[0;34m\u001b[0m\u001b[0m\n\u001b[1;32m   4677\u001b[0m                   silent, early_stopping_rounds, save_snapshot, snapshot_file, snapshot_interval, init_model, callbacks, log_cout, log_cerr)\n",
      "\u001b[0;32m~/anaconda3/envs/tabular/lib/python3.8/site-packages/catboost/core.py\u001b[0m in \u001b[0;36m_fit\u001b[0;34m(self, X, y, cat_features, text_features, embedding_features, pairs, sample_weight, group_id, group_weight, subgroup_id, pairs_weight, baseline, use_best_model, eval_set, verbose, logging_level, plot, column_description, verbose_eval, metric_period, silent, early_stopping_rounds, save_snapshot, snapshot_file, snapshot_interval, init_model, callbacks, log_cout, log_cerr)\u001b[0m\n\u001b[1;32m   1995\u001b[0m         \u001b[0;32mwith\u001b[0m \u001b[0mlog_fixup\u001b[0m\u001b[0;34m(\u001b[0m\u001b[0mlog_cout\u001b[0m\u001b[0;34m,\u001b[0m \u001b[0mlog_cerr\u001b[0m\u001b[0;34m)\u001b[0m\u001b[0;34m,\u001b[0m\u001b[0;31m \u001b[0m\u001b[0;31m\\\u001b[0m\u001b[0;34m\u001b[0m\u001b[0;34m\u001b[0m\u001b[0m\n\u001b[1;32m   1996\u001b[0m             \u001b[0mplot_wrapper\u001b[0m\u001b[0;34m(\u001b[0m\u001b[0mplot\u001b[0m\u001b[0;34m,\u001b[0m \u001b[0;34m[\u001b[0m\u001b[0m_get_train_dir\u001b[0m\u001b[0;34m(\u001b[0m\u001b[0mself\u001b[0m\u001b[0;34m.\u001b[0m\u001b[0mget_params\u001b[0m\u001b[0;34m(\u001b[0m\u001b[0;34m)\u001b[0m\u001b[0;34m)\u001b[0m\u001b[0;34m]\u001b[0m\u001b[0;34m)\u001b[0m\u001b[0;34m:\u001b[0m\u001b[0;34m\u001b[0m\u001b[0;34m\u001b[0m\u001b[0m\n\u001b[0;32m-> 1997\u001b[0;31m             self._train(\n\u001b[0m\u001b[1;32m   1998\u001b[0m                 \u001b[0mtrain_pool\u001b[0m\u001b[0;34m,\u001b[0m\u001b[0;34m\u001b[0m\u001b[0;34m\u001b[0m\u001b[0m\n\u001b[1;32m   1999\u001b[0m                 \u001b[0mtrain_params\u001b[0m\u001b[0;34m[\u001b[0m\u001b[0;34m\"eval_sets\"\u001b[0m\u001b[0;34m]\u001b[0m\u001b[0;34m,\u001b[0m\u001b[0;34m\u001b[0m\u001b[0;34m\u001b[0m\u001b[0m\n",
      "\u001b[0;32m~/anaconda3/envs/tabular/lib/python3.8/site-packages/catboost/core.py\u001b[0m in \u001b[0;36m_train\u001b[0;34m(self, train_pool, test_pool, params, allow_clear_pool, init_model)\u001b[0m\n\u001b[1;32m   1426\u001b[0m \u001b[0;34m\u001b[0m\u001b[0m\n\u001b[1;32m   1427\u001b[0m     \u001b[0;32mdef\u001b[0m \u001b[0m_train\u001b[0m\u001b[0;34m(\u001b[0m\u001b[0mself\u001b[0m\u001b[0;34m,\u001b[0m \u001b[0mtrain_pool\u001b[0m\u001b[0;34m,\u001b[0m \u001b[0mtest_pool\u001b[0m\u001b[0;34m,\u001b[0m \u001b[0mparams\u001b[0m\u001b[0;34m,\u001b[0m \u001b[0mallow_clear_pool\u001b[0m\u001b[0;34m,\u001b[0m \u001b[0minit_model\u001b[0m\u001b[0;34m)\u001b[0m\u001b[0;34m:\u001b[0m\u001b[0;34m\u001b[0m\u001b[0;34m\u001b[0m\u001b[0m\n\u001b[0;32m-> 1428\u001b[0;31m         \u001b[0mself\u001b[0m\u001b[0;34m.\u001b[0m\u001b[0m_object\u001b[0m\u001b[0;34m.\u001b[0m\u001b[0m_train\u001b[0m\u001b[0;34m(\u001b[0m\u001b[0mtrain_pool\u001b[0m\u001b[0;34m,\u001b[0m \u001b[0mtest_pool\u001b[0m\u001b[0;34m,\u001b[0m \u001b[0mparams\u001b[0m\u001b[0;34m,\u001b[0m \u001b[0mallow_clear_pool\u001b[0m\u001b[0;34m,\u001b[0m \u001b[0minit_model\u001b[0m\u001b[0;34m.\u001b[0m\u001b[0m_object\u001b[0m \u001b[0;32mif\u001b[0m \u001b[0minit_model\u001b[0m \u001b[0;32melse\u001b[0m \u001b[0;32mNone\u001b[0m\u001b[0;34m)\u001b[0m\u001b[0;34m\u001b[0m\u001b[0;34m\u001b[0m\u001b[0m\n\u001b[0m\u001b[1;32m   1429\u001b[0m         \u001b[0mself\u001b[0m\u001b[0;34m.\u001b[0m\u001b[0m_set_trained_model_attributes\u001b[0m\u001b[0;34m(\u001b[0m\u001b[0;34m)\u001b[0m\u001b[0;34m\u001b[0m\u001b[0;34m\u001b[0m\u001b[0m\n\u001b[1;32m   1430\u001b[0m \u001b[0;34m\u001b[0m\u001b[0m\n",
      "\u001b[0;32m_catboost.pyx\u001b[0m in \u001b[0;36m_catboost._CatBoost._train\u001b[0;34m()\u001b[0m\n",
      "\u001b[0;32m_catboost.pyx\u001b[0m in \u001b[0;36m_catboost._CatBoost._train\u001b[0;34m()\u001b[0m\n",
      "\u001b[0;31mKeyboardInterrupt\u001b[0m: "
     ]
    }
   ],
   "source": [
    "study = optuna.create_study(direction = \"maximize\", sampler = TPESampler(seed=int(SEED)), study_name='CatBoost_20210919')\n",
    "# setting n_jobs=1 bc wandb apparently requires this\n",
    "study.optimize(objective, n_trials = n_trials, n_jobs=1, callbacks = [wandbc]) #n_jobs = multiprocessing.cpu_count())"
   ]
  },
  {
   "cell_type": "code",
   "execution_count": 17,
   "id": "27a746ff-c0e1-4218-8809-f102a58d2491",
   "metadata": {},
   "outputs": [
    {
     "data": {
      "text/plain": [
       "['optuna_catboost_best_20210919.joblib']"
      ]
     },
     "execution_count": 17,
     "metadata": {},
     "output_type": "execute_result"
    }
   ],
   "source": [
    "dump(study.best_trial.params, filename='optuna_catboost_best_20210919.joblib')\n",
    "# pickle.dump(study.best_trial.params, open('CatBoost_Hyperparameter.pickle', 'wb'))\n",
    "# print('CatBoost Hyperparameter:', study.best_trial.params)"
   ]
  },
  {
   "cell_type": "code",
   "execution_count": 18,
   "id": "f02e689e-b20c-48e5-a7d9-02467b4f3dbd",
   "metadata": {},
   "outputs": [
    {
     "data": {
      "text/plain": [
       "{'iterations': 3493,\n",
       " 'depth': 5,\n",
       " 'learning_rate': 0.09397459954141321,\n",
       " 'random_strength': 43,\n",
       " 'l2_leaf_reg': 26,\n",
       " 'border_count': 239,\n",
       " 'bagging_temperature': 12.532400413798356,\n",
       " 'od_type': 'Iter'}"
      ]
     },
     "execution_count": 18,
     "metadata": {},
     "output_type": "execute_result"
    }
   ],
   "source": [
    "study.best_trial.params"
   ]
  }
 ],
 "metadata": {
  "kernelspec": {
   "display_name": "Python 3",
   "language": "python",
   "name": "python3"
  },
  "language_info": {
   "codemirror_mode": {
    "name": "ipython",
    "version": 3
   },
   "file_extension": ".py",
   "mimetype": "text/x-python",
   "name": "python",
   "nbconvert_exporter": "python",
   "pygments_lexer": "ipython3",
   "version": "3.8.11"
  }
 },
 "nbformat": 4,
 "nbformat_minor": 5
}
