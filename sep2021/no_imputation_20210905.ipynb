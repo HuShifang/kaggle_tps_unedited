{
 "cells": [
  {
   "cell_type": "markdown",
   "id": "1d4e7f70-25a3-4d58-b98a-3a695e55ee53",
   "metadata": {},
   "source": [
    "# Baseline\n",
    "Setting up a more robust baseline notebook, suitable for use with all of the \"Big Three\" (XGBoost, CatBoost, LightGBM) libraries and on either Google Colab or the local machine."
   ]
  },
  {
   "cell_type": "markdown",
   "id": "1e124c3d-0e1f-4053-8e72-52569a4fe3e4",
   "metadata": {},
   "source": [
    "# Setup"
   ]
  },
  {
   "cell_type": "code",
   "execution_count": 1,
   "id": "dae2ff1e-bd1f-4cc9-8357-5a88d1746ffb",
   "metadata": {},
   "outputs": [],
   "source": [
    "# two manual flags (ex-config)\n",
    "colab = False\n",
    "gpu_available = False"
   ]
  },
  {
   "cell_type": "code",
   "execution_count": 2,
   "id": "16849bd2-428c-497b-ba3b-675002f8d041",
   "metadata": {},
   "outputs": [],
   "source": [
    "# basic imports\n",
    "from pathlib import Path\n",
    "import os\n",
    "import math\n",
    "from datetime import datetime"
   ]
  },
  {
   "cell_type": "code",
   "execution_count": 3,
   "id": "12d2654b-3bc6-49b5-ade8-cc82112b60e5",
   "metadata": {},
   "outputs": [],
   "source": [
    "%matplotlib inline\n",
    "%config Completer.use_jedi = False\n",
    "os.environ['WANDB_NOTEBOOK_NAME'] = f\"baseline_{datetime.now().strftime('%Y%m%d')}.ipynb\""
   ]
  },
  {
   "cell_type": "code",
   "execution_count": 4,
   "id": "416d6118-e543-4df4-9219-2d4a63743c3a",
   "metadata": {},
   "outputs": [],
   "source": [
    "# handle Google Colab-specific library installation/updating\n",
    "if colab:\n",
    "    # much of the below inspired by or cribbed from the May 2021 Kaggle Tabular Playground winner, at \n",
    "    # https://colab.research.google.com/gist/academicsuspect/0aac7bd6e506f5f70295bfc9a3dc2250/tabular-may-baseline.ipynb?authuser=1#scrollTo=LJoVKJb5wN0L\n",
    "    \n",
    "    # Kaggle API for downloading the datasets\n",
    "    !pip install --upgrade -q kaggle\n",
    "\n",
    "    # weights and biases\n",
    "    !pip install -qqqU wandb\n",
    "    \n",
    "    # Optuna for parameter search\n",
    "    !pip install -q optuna\n",
    "\n",
    "    !pip install --upgrade xgboost\n",
    "\n",
    "    # upgrade sklearn\n",
    "    !pip install --upgrade scikit-learn\n",
    "\n",
    "    !pip install category_encoders\n",
    "    !pip install catboost\n",
    "\n",
    "    # lighgbm gpu compatible\n",
    "    !git clone --recursive https://github.com/Microsoft/LightGBM\n",
    "    ! cd LightGBM && rm -rf build && mkdir build && cd build && cmake -DUSE_GPU=1 ../../LightGBM && make -j4 && cd ../python-package && python3 setup.py install --precompile --gpu;\n",
    "    \n",
    "    # this part is from https://github.com/rapidsai/gputreeshap/issues/24\n",
    "    !pip install cmake --upgrade\n",
    "    # !pip install sklearn --upgrade\n",
    "    !git clone --recursive https://github.com/dmlc/xgboost\n",
    "    %cd /content/xgboost\n",
    "    !mkdir build\n",
    "    %cd build\n",
    "    !cmake .. -DUSE_CUDA=ON\n",
    "    !make -j4\n",
    "    %cd /content/xgboost/python-package\n",
    "    !python setup.py install --use-cuda --use-nccl\n",
    "    !/opt/bin/nvidia-smi\n",
    "    !pip install shap\n",
    "    "
   ]
  },
  {
   "cell_type": "markdown",
   "id": "d40df194-4474-4bcf-ac5a-98efe24b91fd",
   "metadata": {},
   "source": [
    "Now, non-stdlib imports"
   ]
  },
  {
   "cell_type": "code",
   "execution_count": 5,
   "id": "a01e85f7-d602-4dde-bef9-611683cd74c4",
   "metadata": {},
   "outputs": [],
   "source": [
    "import pandas as pd\n",
    "import numpy as np\n",
    "import matplotlib.pyplot as plt\n",
    "from tqdm.notebook import tqdm\n",
    "\n",
    "# general ML tooling\n",
    "from sklearn.model_selection import train_test_split, StratifiedKFold, KFold\n",
    "from sklearn.metrics import log_loss, roc_auc_score\n",
    "import wandb\n",
    "from wandb.xgboost import wandb_callback\n",
    "from wandb.lightgbm import wandb_callback\n",
    "from sklearn.impute import KNNImputer\n",
    "# import timm\n",
    "\n",
    "import seaborn as sns\n",
    "\n",
    "from catboost import CatBoostClassifier\n",
    "from xgboost import XGBClassifier\n",
    "from lightgbm import LGBMClassifier\n",
    "# from sklearn.ensemble import RandomForestRegressor\n",
    "from sklearn.preprocessing import MaxAbsScaler, StandardScaler, MinMaxScaler, PolynomialFeatures\n",
    "# from sklearn.feature_selection import SelectKBest, f_regression\n",
    "from joblib import dump, load\n",
    "# feature engineering tools\n",
    "# from sklearn.feature_selection import mutual_info_regression\n",
    "# import featuretools as ft\n"
   ]
  },
  {
   "cell_type": "markdown",
   "id": "5f6166c2-ca44-4b7c-a4dc-3db47c2624fe",
   "metadata": {},
   "source": [
    "Now, datapath setup"
   ]
  },
  {
   "cell_type": "code",
   "execution_count": 6,
   "id": "3c18a787-2193-43cb-87ee-51c6ae7b6351",
   "metadata": {},
   "outputs": [],
   "source": [
    "# # This is the code for reading the train.csv and converting it to a .feather file\n",
    "# df = pd.read_csv(datapath/'train.csv', index_col='id', low_memory=False)\n",
    "# df.index.name = None\n",
    "# df.to_feather(path='./dataset_df.feather')"
   ]
  },
  {
   "cell_type": "code",
   "execution_count": 8,
   "id": "0a41cd7e-accb-41c4-ad8b-0eaa3e2b0ad5",
   "metadata": {},
   "outputs": [],
   "source": [
    "if colab:\n",
    "    # mount Google Drive\n",
    "    from google.colab import drive\n",
    "    drive.mount('/content/drive')\n",
    "    \n",
    "    # handling datapath\n",
    "    datapath = Path('/content/drive/MyDrive/kaggle/tabular_playgrounds/sep2021/')\n",
    "    \n",
    "else:\n",
    "    # if on local machine\n",
    "    datapath = Path('/media/sf/easystore/kaggle_data/tabular_playgrounds/sep2021/')    \n",
    "    \n",
    "# load the version of the dataset with imputations; X and y were stored separately, as feather and joblib respectively\n",
    "# X = pd.read_feather(datapath/'X_StandardScaled_KNNImputed_5NN.feather') \n",
    "# y = load(datapath/'y.joblib')    \n",
    "# X.index.name = 'id'\n",
    "# y.index.name = 'id'"
   ]
  },
  {
   "cell_type": "markdown",
   "id": "f4940261-a267-4f16-af3d-5bbc56958459",
   "metadata": {},
   "source": [
    "## Configuration"
   ]
  },
  {
   "cell_type": "markdown",
   "id": "2f6e47b3-43bd-4d35-b463-9d76100c6ed5",
   "metadata": {},
   "source": [
    "### Ex-Model Config"
   ]
  },
  {
   "cell_type": "code",
   "execution_count": 11,
   "id": "fb288275-a858-4806-9dc0-0b316c334536",
   "metadata": {},
   "outputs": [],
   "source": [
    "# meta-config for preprocessing and cross-validation, but NOT for model parameters\n",
    "exmodel_config = {\n",
    "    # model config\n",
    "#     \"model\": XGBClassifier,\n",
    "#     \"n_estimators\": 100, \n",
    "#     \"max_depth\": 3,\n",
    "#     \"learning_rate\": 0.1,\n",
    "#     \"test_size\": 0.2,\n",
    "#     \"reg_lambda\": None, \n",
    "    \"scaler\": None, # TODO: experiment with others (but imputation may be slow)\n",
    "    \"scale_b4_impute\": False,\n",
    "    \"imputer\": None,\n",
    "    \"knn_imputer_n_neighbors\": None, # None if a different imputer is used\n",
    "#     \"feature_selector\": SelectKBest,\n",
    "#     \"k_best\": 80,\n",
    "#     \"feature_selection_scoring\": f_regression,\n",
    "    'random_state': 42,\n",
    "#     'subsample': 1,\n",
    "    'cross_val_strategy': None, # None for holdout, or the relevant sklearn class\n",
    "    'kfolds': 1, # if 1, that means just doing holdout\n",
    "    'test_size': 0.2,\n",
    "#     'features_created': False,\n",
    "#     'feature_creator': None,\n",
    "}"
   ]
  },
  {
   "cell_type": "markdown",
   "id": "a52d9012-34f1-435a-ba16-4416e0d4a286",
   "metadata": {},
   "source": [
    "### Data "
   ]
  },
  {
   "cell_type": "code",
   "execution_count": 8,
   "id": "9716ae38-a859-44f1-bf4e-caf0c7a40782",
   "metadata": {},
   "outputs": [],
   "source": [
    "# # here's how to load the original, unaltered dataset and separate features from targets\n",
    "df = pd.read_feather(path=datapath/'dataset_df.feather') # this is the unaltered original dataset\n",
    "features = [x for x in df.columns if x != 'claim']\n",
    "X = df[features]\n",
    "y = df.claim\n",
    "\n",
    "# "
   ]
  },
  {
   "cell_type": "code",
   "execution_count": 9,
   "id": "59020939-0ca1-4e0d-9af3-9fb122646ad6",
   "metadata": {},
   "outputs": [
    {
     "data": {
      "text/html": [
       "<div>\n",
       "<style scoped>\n",
       "    .dataframe tbody tr th:only-of-type {\n",
       "        vertical-align: middle;\n",
       "    }\n",
       "\n",
       "    .dataframe tbody tr th {\n",
       "        vertical-align: top;\n",
       "    }\n",
       "\n",
       "    .dataframe thead th {\n",
       "        text-align: right;\n",
       "    }\n",
       "</style>\n",
       "<table border=\"1\" class=\"dataframe\">\n",
       "  <thead>\n",
       "    <tr style=\"text-align: right;\">\n",
       "      <th></th>\n",
       "      <th>f1</th>\n",
       "      <th>f2</th>\n",
       "      <th>f3</th>\n",
       "      <th>f4</th>\n",
       "      <th>f5</th>\n",
       "      <th>f6</th>\n",
       "      <th>f7</th>\n",
       "      <th>f8</th>\n",
       "      <th>f9</th>\n",
       "      <th>f10</th>\n",
       "      <th>...</th>\n",
       "      <th>f109</th>\n",
       "      <th>f110</th>\n",
       "      <th>f111</th>\n",
       "      <th>f112</th>\n",
       "      <th>f113</th>\n",
       "      <th>f114</th>\n",
       "      <th>f115</th>\n",
       "      <th>f116</th>\n",
       "      <th>f117</th>\n",
       "      <th>f118</th>\n",
       "    </tr>\n",
       "  </thead>\n",
       "  <tbody>\n",
       "    <tr>\n",
       "      <th>0</th>\n",
       "      <td>0.10859</td>\n",
       "      <td>0.004314</td>\n",
       "      <td>-37.566</td>\n",
       "      <td>0.017364</td>\n",
       "      <td>0.28915</td>\n",
       "      <td>-10.25100</td>\n",
       "      <td>135.12</td>\n",
       "      <td>168900.0</td>\n",
       "      <td>3.992400e+14</td>\n",
       "      <td>86.489</td>\n",
       "      <td>...</td>\n",
       "      <td>0.11093</td>\n",
       "      <td>-12.2280</td>\n",
       "      <td>1.7482</td>\n",
       "      <td>1.90960</td>\n",
       "      <td>-7.11570</td>\n",
       "      <td>4378.80</td>\n",
       "      <td>1.2096</td>\n",
       "      <td>8.613400e+14</td>\n",
       "      <td>140.1</td>\n",
       "      <td>1.01770</td>\n",
       "    </tr>\n",
       "    <tr>\n",
       "      <th>1</th>\n",
       "      <td>0.10090</td>\n",
       "      <td>0.299610</td>\n",
       "      <td>11822.000</td>\n",
       "      <td>0.276500</td>\n",
       "      <td>0.45970</td>\n",
       "      <td>-0.83733</td>\n",
       "      <td>1721.90</td>\n",
       "      <td>119810.0</td>\n",
       "      <td>3.874100e+15</td>\n",
       "      <td>9953.600</td>\n",
       "      <td>...</td>\n",
       "      <td>0.97673</td>\n",
       "      <td>-56.7580</td>\n",
       "      <td>4.1684</td>\n",
       "      <td>0.34808</td>\n",
       "      <td>4.14200</td>\n",
       "      <td>913.23</td>\n",
       "      <td>1.2464</td>\n",
       "      <td>7.575100e+15</td>\n",
       "      <td>1861.0</td>\n",
       "      <td>0.28359</td>\n",
       "    </tr>\n",
       "    <tr>\n",
       "      <th>2</th>\n",
       "      <td>0.17803</td>\n",
       "      <td>-0.006980</td>\n",
       "      <td>907.270</td>\n",
       "      <td>0.272140</td>\n",
       "      <td>0.45948</td>\n",
       "      <td>0.17327</td>\n",
       "      <td>2298.00</td>\n",
       "      <td>360650.0</td>\n",
       "      <td>1.224500e+13</td>\n",
       "      <td>15827.000</td>\n",
       "      <td>...</td>\n",
       "      <td>0.20102</td>\n",
       "      <td>-5.7688</td>\n",
       "      <td>1.2042</td>\n",
       "      <td>0.26290</td>\n",
       "      <td>8.13120</td>\n",
       "      <td>45119.00</td>\n",
       "      <td>1.1764</td>\n",
       "      <td>3.218100e+14</td>\n",
       "      <td>3838.2</td>\n",
       "      <td>0.40690</td>\n",
       "    </tr>\n",
       "    <tr>\n",
       "      <th>3</th>\n",
       "      <td>0.15236</td>\n",
       "      <td>0.007259</td>\n",
       "      <td>780.100</td>\n",
       "      <td>0.025179</td>\n",
       "      <td>0.51947</td>\n",
       "      <td>7.49140</td>\n",
       "      <td>112.51</td>\n",
       "      <td>259490.0</td>\n",
       "      <td>7.781400e+13</td>\n",
       "      <td>-36.837</td>\n",
       "      <td>...</td>\n",
       "      <td>-0.01182</td>\n",
       "      <td>-34.8580</td>\n",
       "      <td>2.0694</td>\n",
       "      <td>0.79631</td>\n",
       "      <td>-16.33600</td>\n",
       "      <td>4952.40</td>\n",
       "      <td>1.1784</td>\n",
       "      <td>4.533000e+12</td>\n",
       "      <td>4889.1</td>\n",
       "      <td>0.51486</td>\n",
       "    </tr>\n",
       "    <tr>\n",
       "      <th>4</th>\n",
       "      <td>0.11623</td>\n",
       "      <td>0.502900</td>\n",
       "      <td>-109.150</td>\n",
       "      <td>0.297910</td>\n",
       "      <td>0.34490</td>\n",
       "      <td>-0.40932</td>\n",
       "      <td>2538.90</td>\n",
       "      <td>65332.0</td>\n",
       "      <td>1.907200e+15</td>\n",
       "      <td>144.120</td>\n",
       "      <td>...</td>\n",
       "      <td>0.92739</td>\n",
       "      <td>-13.6410</td>\n",
       "      <td>1.5298</td>\n",
       "      <td>1.14640</td>\n",
       "      <td>-0.43124</td>\n",
       "      <td>3856.50</td>\n",
       "      <td>1.4830</td>\n",
       "      <td>-8.991300e+12</td>\n",
       "      <td>NaN</td>\n",
       "      <td>0.23049</td>\n",
       "    </tr>\n",
       "  </tbody>\n",
       "</table>\n",
       "<p>5 rows × 118 columns</p>\n",
       "</div>"
      ],
      "text/plain": [
       "        f1        f2         f3        f4       f5        f6       f7  \\\n",
       "0  0.10859  0.004314    -37.566  0.017364  0.28915 -10.25100   135.12   \n",
       "1  0.10090  0.299610  11822.000  0.276500  0.45970  -0.83733  1721.90   \n",
       "2  0.17803 -0.006980    907.270  0.272140  0.45948   0.17327  2298.00   \n",
       "3  0.15236  0.007259    780.100  0.025179  0.51947   7.49140   112.51   \n",
       "4  0.11623  0.502900   -109.150  0.297910  0.34490  -0.40932  2538.90   \n",
       "\n",
       "         f8            f9        f10  ...     f109     f110    f111     f112  \\\n",
       "0  168900.0  3.992400e+14     86.489  ...  0.11093 -12.2280  1.7482  1.90960   \n",
       "1  119810.0  3.874100e+15   9953.600  ...  0.97673 -56.7580  4.1684  0.34808   \n",
       "2  360650.0  1.224500e+13  15827.000  ...  0.20102  -5.7688  1.2042  0.26290   \n",
       "3  259490.0  7.781400e+13    -36.837  ... -0.01182 -34.8580  2.0694  0.79631   \n",
       "4   65332.0  1.907200e+15    144.120  ...  0.92739 -13.6410  1.5298  1.14640   \n",
       "\n",
       "       f113      f114    f115          f116    f117     f118  \n",
       "0  -7.11570   4378.80  1.2096  8.613400e+14   140.1  1.01770  \n",
       "1   4.14200    913.23  1.2464  7.575100e+15  1861.0  0.28359  \n",
       "2   8.13120  45119.00  1.1764  3.218100e+14  3838.2  0.40690  \n",
       "3 -16.33600   4952.40  1.1784  4.533000e+12  4889.1  0.51486  \n",
       "4  -0.43124   3856.50  1.4830 -8.991300e+12     NaN  0.23049  \n",
       "\n",
       "[5 rows x 118 columns]"
      ]
     },
     "execution_count": 9,
     "metadata": {},
     "output_type": "execute_result"
    }
   ],
   "source": [
    "X.head()"
   ]
  },
  {
   "cell_type": "code",
   "execution_count": 10,
   "id": "08bd3364-0f44-45fb-bdbb-0748fe2d68e4",
   "metadata": {},
   "outputs": [
    {
     "data": {
      "text/plain": [
       "0    1\n",
       "1    0\n",
       "2    1\n",
       "3    1\n",
       "4    1\n",
       "Name: claim, dtype: int64"
      ]
     },
     "execution_count": 10,
     "metadata": {},
     "output_type": "execute_result"
    }
   ],
   "source": [
    "y.head()"
   ]
  },
  {
   "cell_type": "markdown",
   "id": "df47647b-3652-4f7e-ae62-6972d25f1a74",
   "metadata": {},
   "source": [
    "### Model Config"
   ]
  },
  {
   "cell_type": "code",
   "execution_count": 12,
   "id": "1c7341ba-22c1-4887-bbda-ff2c7504bc18",
   "metadata": {},
   "outputs": [],
   "source": [
    "def model_configurator(library, gpu_available=True):#, config=universal_config):\n",
    "    \"\"\"\n",
    "    Function that provide task-specific or general preference arguments for the various models. \n",
    "    \n",
    "    At first, will rely largely on defaults for hyperparameters, but later this function \n",
    "    can be supplemented later with optimal values, as they're learned in sweeps.\n",
    "    .\n",
    "    \n",
    "    Rationale: creating a helper function will allow more experimentation later, and also\n",
    "    composite runs that cycle through a series of models.\n",
    "    \n",
    "    :param model: A model from [XGBClassifier, LGBMClassifier, CatBoostClassifier]\n",
    "    :return config: A dict that supplements default hyperparameter values with 1) \n",
    "                    task-appropriate ones, and perhaps later 2) optimal hyperparameter values.\n",
    "    \"\"\"\n",
    "    config = {}\n",
    "#     if library == 'xgboost':\n",
    "#         config['model'] = XGBClassifier()\n",
    "#     elif library == 'lightgbm':\n",
    "#         config['model'] = LGBMClassifier()\n",
    "#     elif library == 'catboost':\n",
    "#         config['model'] = CatBoostClassifier()\n",
    "#     else:\n",
    "#         print(\"Invalid library\")\n",
    "#         return None\n",
    "    \n",
    "    # library-specific config\n",
    "#     if config['model'] in [XGBClassfier, LGBMClassifier]:\n",
    "    if library in ['xgboost', 'lightgbm']:\n",
    "#         config['reg_alpha'] = None\n",
    "        config['n_jobs'] = -1\n",
    "        config['n_estimators'] = 300\n",
    "\n",
    "#     if config['model'] == XGBClassifier:\n",
    "    if library == 'xgboost':\n",
    "#         config['tree_method'] = 'auto'\n",
    "#         config['booster'] = 'gbtree' # or 'dart'\n",
    "#         config['model'] = XGBClassifier\n",
    "        config['verbosity'] = 1\n",
    "        config['objective'] = 'binary:logistic'\n",
    "#         config['eval_metric'] = ['auc', 'logloss', 'aucpr'],\n",
    "#         config['eval_metric'] = 'logloss',\n",
    "        config['tree_method'] = 'gpu_hist' if (gpu_available and colab) else 'auto' \n",
    "#         config['reg_alpha'] = \n",
    "\n",
    "#     if config['model'] == LGBMClassifier:\n",
    "    if library == 'lightgbm':\n",
    "#         config['model'] = LGBMClassifier\n",
    "        config['objective'] = 'binary'\n",
    "        config['eval_metric'] = ['auc', 'logloss']\n",
    "        config['boosting_type'] = 'gbdt' # or 'dart'\n",
    "        config['device_type'] = 'cuda' if (gpu_available and colab) else 'cpu' # 'gpu' also possible, 'cpu' is default\n",
    "\n",
    "#     if config['model'] == CatBoostClassifier:\n",
    "    if library == 'catboost':\n",
    "#         config['model'] = CatBoostClassifier\n",
    "        config['task_type'] = 'GPU' if gpu_available else 'CPU'\n",
    "        config['custom_metrics'] = ['Logloss', 'AUC'] # objective (loss fn) must be singular, defaults to Logloss\n",
    "        config['n_estimators'] = 1000 # logged as \"iterations\" otherwise\n",
    "\n",
    "    return config"
   ]
  },
  {
   "cell_type": "markdown",
   "id": "a4a5f215-b585-4f7b-afac-36e49ee28c8f",
   "metadata": {},
   "source": [
    "## Weights and Biases Run Config"
   ]
  },
  {
   "cell_type": "markdown",
   "id": "89a928e1-0a18-4c91-b9bb-a32846e39e5b",
   "metadata": {},
   "source": [
    "Below is the configuration for a Weights and Biases (`wandb`) run."
   ]
  },
  {
   "cell_type": "code",
   "execution_count": 15,
   "id": "e5402d98-7bcd-4e46-b85d-6b0129ca6e96",
   "metadata": {},
   "outputs": [],
   "source": [
    "config_run = {\n",
    "    # wandb config:\n",
    "    'name': f\"{os.environ['WANDB_NOTEBOOK_NAME'][:-6]}_{datetime.now().strftime('%H%M%S')}\", # just removes the .ipynb extension, leaving the notebook filename's stem\n",
    "    'tags': ['baseline'],\n",
    "    'notes': \"Initial runs of each model-type, with sane defaults.\",\n",
    "}"
   ]
  },
  {
   "cell_type": "markdown",
   "id": "dc31f8d1-d303-4420-b671-51fcbff98594",
   "metadata": {},
   "source": [
    "# Preprocessing\n",
    "Scaling has already occurred -- used `StandardScaler` as a precursor to using `KNNImputer(n_neighbors=5)`, on the premise that imputation would proceed more quickly if things were already scaled. I may try different permutations of this later: using `IterativeImputer` instead, before or after scaling, potentially with different scalers. "
   ]
  },
  {
   "cell_type": "markdown",
   "id": "8e77e37c-8f76-44b2-9e04-7fa02430ce96",
   "metadata": {},
   "source": [
    "# Feature Creation and Selection"
   ]
  },
  {
   "cell_type": "code",
   "execution_count": null,
   "id": "fb77f573-e284-49a7-96a8-bb33b5b44147",
   "metadata": {},
   "outputs": [],
   "source": [
    "# load all the polynomialfeatures generated with `PolynomialFeatures(degree=2, include_bias=True, interaction_only=False)`\n",
    "# X_np = np.load(datapath/'X_poly_unscaled.npy')\n",
    "# X = pd.DataFrame(X_np)"
   ]
  },
  {
   "cell_type": "code",
   "execution_count": null,
   "id": "e8e905f6-f5e4-4848-98e3-ddc846ab4c05",
   "metadata": {},
   "outputs": [],
   "source": [
    "# X.columns"
   ]
  },
  {
   "cell_type": "code",
   "execution_count": null,
   "id": "8f1e4c99-64d4-4506-b208-397ce736eaa7",
   "metadata": {},
   "outputs": [],
   "source": []
  },
  {
   "cell_type": "code",
   "execution_count": null,
   "id": "2728178c-5214-4c6c-ab86-5d63aeb2c846",
   "metadata": {},
   "outputs": [],
   "source": [
    "# generation polynomial features\n",
    "# poly = PolynomialFeatures(degree=2, include_bias=True, interaction_only=False)\n",
    "# X_poly = poly.fit_transform(X)"
   ]
  },
  {
   "cell_type": "code",
   "execution_count": null,
   "id": "0cbdaa47-cab5-441b-885d-d21b33c604cb",
   "metadata": {},
   "outputs": [],
   "source": [
    "# X_poly_names = poly.get_feature_names(X.columns)\n",
    "# # X_poly_names[100:150]\n",
    "# features = pd.read_csv('X_candidates_20210827.csv').columns"
   ]
  },
  {
   "cell_type": "code",
   "execution_count": null,
   "id": "34f6bd0c-1121-4430-966d-7a318d925d6d",
   "metadata": {},
   "outputs": [],
   "source": [
    "# checks = [feature in X_poly_names for feature in features]\n",
    "# checks"
   ]
  },
  {
   "cell_type": "code",
   "execution_count": null,
   "id": "a2c528d2-2148-409f-9489-254358a4e138",
   "metadata": {},
   "outputs": [],
   "source": [
    "# X = pd.DataFrame(X_poly, columns=X_poly_names)"
   ]
  },
  {
   "cell_type": "code",
   "execution_count": null,
   "id": "6f0682b3-1fef-4c54-9a33-99f659a2c1f1",
   "metadata": {},
   "outputs": [],
   "source": [
    "# X = X[features[1:]]"
   ]
  },
  {
   "cell_type": "markdown",
   "id": "638002ad-9266-44d6-8302-ebce2a6f7b06",
   "metadata": {},
   "source": [
    "# Training"
   ]
  },
  {
   "cell_type": "code",
   "execution_count": 16,
   "id": "24391812-dce3-4513-bd38-ee95694730e0",
   "metadata": {},
   "outputs": [],
   "source": [
    "def train(X_train, X_valid, y_train, y_valid, model_config, \n",
    "                                              random_state=42,\n",
    "                                              exmodel_config=exmodel_config, \n",
    "                                              config_run=config_run):#, scaler): # passed in via config dict for now\n",
    "    \"\"\"\n",
    "    Basic training function. Note that some of the options passed via the argument are\n",
    "    in fact hard-coded in, to avoid inconveniences.\n",
    "    :param X_train: the training set features\n",
    "    :param X_valid: the validation set features\n",
    "    :param y_train: the training set targets\n",
    "    :param y_valid: the validation set targets\n",
    "    :param random_state: for reproducibility\n",
    "    :param exmodel_config: dict containing configuration details including the library \n",
    "                            (thus model) used, preprocessing, and cross-validation\n",
    "    :param model_config: dict containing hyperparameter specifications for the model\n",
    "    :param config_run: dict containing wandb run configuration (name, etc)\n",
    "    \"\"\"\n",
    "    \n",
    "    \n",
    "    wandb.init(\n",
    "        project=\"202109_Kaggle_tabular_playground\",\n",
    "        save_code=True,\n",
    "        tags=config_run['tags'],\n",
    "        name=config_run['name'],\n",
    "        notes=config_run['notes'],\n",
    "        config=exmodel_config)   \n",
    "        \n",
    "    if exmodel_config['library'] == 'xgboost':\n",
    "        model = XGBClassifier(\n",
    "#             tree_method=config['tree_method'],\n",
    "#             booster=config['booster'],\n",
    "#             n_estimators=config['n_estimators'], \n",
    "#             max_depth=config['max_depth'],\n",
    "#             learning_rate=config['learning_rate'], \n",
    "#             subsample=config['subsample'],\n",
    "#             reg_alpha=config['reg_alpha'],\n",
    "#             reg_lambda=config['reg_lambda'],\n",
    "            random_state=random_state,\n",
    "            n_jobs=model_config['n_jobs'], \n",
    "            verbosity=model_config['verbosity'], \n",
    "            objective=model_config['objective'],\n",
    "#             eval_metric=model_config['eval_metric'],\n",
    "            tree_method=model_config['tree_method'],\n",
    "            n_estimators=model_config['n_estimators'],\n",
    "        )\n",
    "        \n",
    "        model.fit(X_train, y_train, callbacks=[wandb.xgboost.wandb_callback()],\n",
    "#                                     eval_metric=model_config['eval_metric'],\n",
    "                 )\n",
    "\n",
    "\n",
    "    elif exmodel_config['library'] == 'lightgbm':\n",
    "        model = LGBMClassifier(\n",
    "#             boosting_type=model_config['boosting_type'],\n",
    "#             max_depth=model_config['max_depth']\n",
    "            # TODO\n",
    "            random_state=random_state,\n",
    "            n_jobs=model_config['n_jobs'],\n",
    "            objective=model_config['objective'],\n",
    "            eval_metric=model_config['eval_metric'],\n",
    "            boosting_type=model_config['boosting_type'],\n",
    "            device_type=model_config['device_type'],\n",
    "            n_estimators=model_config['n_estimators'],\n",
    "\n",
    "        )\n",
    "        \n",
    "        model.fit(X_train, y_train, callbacks=[wandb.lightgbm.wandb_callback()],\n",
    "#                                     eval_metric=model_config['eval_metric'],\n",
    "                 )\n",
    "        \n",
    "    elif exmodel_config['library'] == 'catboost':\n",
    "        print(\"CatBoost, therefore no WandB callback.\")\n",
    "        model = CatBoostClassifier(\n",
    "#             n_estimators=config['n_estimators'],\n",
    "#             learning_rate=config['learning_rate'],\n",
    "#             max_depth=config['max_depth'],\n",
    "            task_type=model_config['task_type'],\n",
    "    #         n_jobs=config['n_jobs'],\n",
    "    #         verbosity=config['verbosity'],\n",
    "    #         subsample=config['subsample'],\n",
    "            n_estimators=model_config['n_estimators'],\n",
    "            random_state=random_state,\n",
    "            # objective='Logloss', # default, accepts only one\n",
    "#             custom_metrics=model_config['custom_metrics'],\n",
    "    #         bootstrap_type=config['bootstrap_type'],\n",
    "    #         device:config['device']\n",
    "        ) \n",
    "        model.fit(X_train, y_train)\n",
    "        y_train_pred = model.predict(X_train)\n",
    "        train_loss = log_loss(y_train, y_train_pred)\n",
    "        train_auc = roc_auc_score(y_train, y_train_pred)\n",
    "        wandb.log({'train_loss': train_loss, 'train_auc': train_auc})\n",
    "\n",
    "    if exmodel_config['library'] == 'catboost':\n",
    "        print(model.get_all_params())\n",
    "        wandb.log(model.get_all_params())\n",
    "    else:\n",
    "        wandb.log(model.get_params()) # logging model parameters, trying bare-invocation rather than params: model.get_params()\n",
    "    \n",
    "    y_pred = model.predict(X_valid)\n",
    "#     mse = mean_squared_error(y_valid, y_pred)\n",
    "#     rmse = math.sqrt(abs(mse))\n",
    "    valid_loss = log_loss(y_valid, y_pred)\n",
    "    valid_auc = roc_auc_score(y_valid, y_pred)\n",
    "    wandb.log({'valid_loss':valid_loss, 'valid_auc':valid_auc})\n",
    "    print(f\"Valid log-loss is {valid_loss}\\nValid AUC is {valid_auc}\")   \n",
    "#     wandb.finish()   \n",
    "    return model\n",
    "    "
   ]
  },
  {
   "cell_type": "code",
   "execution_count": 17,
   "id": "dfa66428-3fb9-410f-9ea5-50785a4bd177",
   "metadata": {},
   "outputs": [],
   "source": [
    "def cross_validation(model_config, X=X, y=y, start_fold=0, exmodel_config=exmodel_config, random_state=42):\n",
    "    \"\"\"\n",
    "    Function to handle model training process in the context of cross-validation -- via hold-out or via k-fold.\n",
    "    If exmodel_config['cross_val_strategy'] == None, then any kfolds= input is ignored; otherwise, the number specified is used.\n",
    "    \n",
    "    :param kfolds: int specifying number of k-folds to use in cross-validation\n",
    "    :param exmodel_config: dict containing general config including for cross-validation -- `kfold=1` implies hold-out\n",
    "    \"\"\"\n",
    "    if exmodel_config['kfolds'] == 1:\n",
    "        print(\"Proceeding with holdout\")\n",
    "        X_train, X_valid, y_train, y_valid = train_test_split(X, y, \n",
    "                                                      test_size=exmodel_config['test_size'], \n",
    "                                                      random_state=random_state,\n",
    "                                                     )\n",
    "        model = train(X_train, X_valid, y_train, y_valid, exmodel_config=exmodel_config, \n",
    "                                                    model_config=model_config,\n",
    "                                                    config_run=config_run)\n",
    "        wandb.finish()\n",
    "        \n",
    "    else:\n",
    "        kfold = config['kfold_strategy'](n_splits=kfolds, shuffle=True, random_state=random_state)\n",
    "        models = {}\n",
    "        model_path = Path(datapath/f\"models/{config_run['name']}_{exmodel_config['kfolds']}folds/\")\n",
    "        (model_path).mkdir(exist_ok=True)\n",
    "        for fold, (train_ids, valid_ids) in enumerate(kfold.split(X,y)):\n",
    "            if fold < start_fold:\n",
    "                continue\n",
    "            else:\n",
    "                print(f\"FOLD {fold}\")\n",
    "                print(\"---------------------------------------------------\")\n",
    "                X, y = X.to_numpy(), y.to_numpy()\n",
    "                X_train, X_valid = X[train_ids], X[valid_ids]\n",
    "                y_train, y_valid = y[train_ids], y[valid_ids]\n",
    "                model = train(X_train, X_valid, y_train, y_valid, exmodel_config=exmodel_config, \n",
    "                                                    model_config=model_config,\n",
    "                                                    config_run=config_run)\n",
    "                wandb.log({'fold': fold})\n",
    "                models[fold] = model\n",
    "                dump(model, Path(model_path/f\"{exmodel_config['library']}_fold{fold}_model.joblib\"))\n",
    "                wandb.finish()\n",
    "                \n",
    "        "
   ]
  },
  {
   "cell_type": "markdown",
   "id": "92835afb-3ff2-42c6-964c-cfeede2c5990",
   "metadata": {},
   "source": [
    "# Interface"
   ]
  },
  {
   "cell_type": "markdown",
   "id": "a0eca9ba-a778-476b-90ab-508d6a06a6a5",
   "metadata": {},
   "source": [
    "## Runs"
   ]
  },
  {
   "cell_type": "markdown",
   "id": "22edc7d8-76db-4e2e-8517-c7b5a24f8b26",
   "metadata": {
    "tags": []
   },
   "source": [
    "Here, let's do the initial baseline for each of the Big Three libraries, largely using their own defaults."
   ]
  },
  {
   "cell_type": "code",
   "execution_count": 18,
   "id": "314eca54-a032-44dc-b6cf-39eed84f77ac",
   "metadata": {
    "tags": []
   },
   "outputs": [
    {
     "name": "stdout",
     "output_type": "stream",
     "text": [
      "Proceeding with holdout\n"
     ]
    },
    {
     "name": "stderr",
     "output_type": "stream",
     "text": [
      "\u001b[34m\u001b[1mwandb\u001b[0m: Currently logged in as: \u001b[33mhushifang\u001b[0m (use `wandb login --relogin` to force relogin)\n"
     ]
    },
    {
     "data": {
      "text/html": [
       "\n",
       "                Tracking run with wandb version 0.12.1<br/>\n",
       "                Syncing run <strong style=\"color:#cdcd00\">baseline_20210905_122637</strong> to <a href=\"https://wandb.ai\" target=\"_blank\">Weights & Biases</a> <a href=\"https://docs.wandb.com/integrations/jupyter.html\" target=\"_blank\">(Documentation)</a>.<br/>\n",
       "                Project page: <a href=\"https://wandb.ai/hushifang/202109_Kaggle_tabular_playground\" target=\"_blank\">https://wandb.ai/hushifang/202109_Kaggle_tabular_playground</a><br/>\n",
       "                Run page: <a href=\"https://wandb.ai/hushifang/202109_Kaggle_tabular_playground/runs/36ioodnk\" target=\"_blank\">https://wandb.ai/hushifang/202109_Kaggle_tabular_playground/runs/36ioodnk</a><br/>\n",
       "                Run data is saved locally in <code>/home/sf/Dropbox/code_cloud/python_code/kaggle/tabular_playgrounds/sep2021/wandb/run-20210905_122649-36ioodnk</code><br/><br/>\n",
       "            "
      ],
      "text/plain": [
       "<IPython.core.display.HTML object>"
      ]
     },
     "metadata": {},
     "output_type": "display_data"
    },
    {
     "name": "stderr",
     "output_type": "stream",
     "text": [
      "/home/sf/anaconda3/envs/tabular/lib/python3.8/site-packages/xgboost/sklearn.py:1146: UserWarning: The use of label encoder in XGBClassifier is deprecated and will be removed in a future release. To remove this warning, do the following: 1) Pass option use_label_encoder=False when constructing XGBClassifier object; and 2) Encode your labels (y) as integers starting with 0, i.e. 0, 1, 2, ..., [num_class - 1].\n",
      "  warnings.warn(label_encoder_deprecation_msg, UserWarning)\n",
      "/home/sf/anaconda3/envs/tabular/lib/python3.8/site-packages/xgboost/training.py:17: UserWarning: Old style callback is deprecated.  See: https://xgboost.readthedocs.io/en/latest/python/callbacks.html\n",
      "  warnings.warn(f'Old style callback is deprecated.  See: {link}', UserWarning)\n",
      "/home/sf/anaconda3/envs/tabular/lib/python3.8/site-packages/xgboost/data.py:112: UserWarning: Use subset (sliced data) of np.ndarray is not recommended because it will generate extra copies and increase memory consumption\n",
      "  warnings.warn(\n"
     ]
    },
    {
     "name": "stdout",
     "output_type": "stream",
     "text": [
      "Valid log-loss is 9.146419597012132\n",
      "Valid AUC is 0.7350395710339351\n"
     ]
    },
    {
     "data": {
      "text/html": [
       "<br/>Waiting for W&B process to finish, PID 802862<br/>Program ended successfully."
      ],
      "text/plain": [
       "<IPython.core.display.HTML object>"
      ]
     },
     "metadata": {},
     "output_type": "display_data"
    },
    {
     "data": {
      "application/vnd.jupyter.widget-view+json": {
       "model_id": "",
       "version_major": 2,
       "version_minor": 0
      },
      "text/plain": [
       "VBox(children=(Label(value=' 0.22MB of 0.22MB uploaded (0.00MB deduped)\\r'), FloatProgress(value=1.0, max=1.0)…"
      ]
     },
     "metadata": {},
     "output_type": "display_data"
    },
    {
     "data": {
      "text/html": [
       "Find user logs for this run at: <code>/home/sf/Dropbox/code_cloud/python_code/kaggle/tabular_playgrounds/sep2021/wandb/run-20210905_122649-36ioodnk/logs/debug.log</code>"
      ],
      "text/plain": [
       "<IPython.core.display.HTML object>"
      ]
     },
     "metadata": {},
     "output_type": "display_data"
    },
    {
     "data": {
      "text/html": [
       "Find internal logs for this run at: <code>/home/sf/Dropbox/code_cloud/python_code/kaggle/tabular_playgrounds/sep2021/wandb/run-20210905_122649-36ioodnk/logs/debug-internal.log</code>"
      ],
      "text/plain": [
       "<IPython.core.display.HTML object>"
      ]
     },
     "metadata": {},
     "output_type": "display_data"
    },
    {
     "data": {
      "text/html": [
       "<h3>Run summary:</h3><br/><style>\n",
       "    table.wandb td:nth-child(1) { padding: 0 10px; text-align: right }\n",
       "    </style><table class=\"wandb\">\n",
       "<tr><td>objective</td><td>binary:logistic</td></tr><tr><td>use_label_encoder</td><td>True</td></tr><tr><td>base_score</td><td>0.5</td></tr><tr><td>booster</td><td>gbtree</td></tr><tr><td>colsample_bylevel</td><td>1</td></tr><tr><td>colsample_bynode</td><td>1</td></tr><tr><td>colsample_bytree</td><td>1</td></tr><tr><td>gamma</td><td>0</td></tr><tr><td>gpu_id</td><td>-1</td></tr><tr><td>importance_type</td><td>gain</td></tr><tr><td>learning_rate</td><td>0.3</td></tr><tr><td>max_delta_step</td><td>0</td></tr><tr><td>max_depth</td><td>6</td></tr><tr><td>min_child_weight</td><td>1</td></tr><tr><td>missing</td><td>nan</td></tr><tr><td>monotone_constraints</td><td>()</td></tr><tr><td>n_estimators</td><td>300</td></tr><tr><td>n_jobs</td><td>-1</td></tr><tr><td>num_parallel_tree</td><td>1</td></tr><tr><td>random_state</td><td>42</td></tr><tr><td>reg_alpha</td><td>0</td></tr><tr><td>reg_lambda</td><td>1</td></tr><tr><td>scale_pos_weight</td><td>1</td></tr><tr><td>subsample</td><td>1</td></tr><tr><td>tree_method</td><td>auto</td></tr><tr><td>validate_parameters</td><td>1</td></tr><tr><td>verbosity</td><td>1</td></tr><tr><td>_runtime</td><td>615</td></tr><tr><td>_timestamp</td><td>1630870624</td></tr><tr><td>_step</td><td>301</td></tr><tr><td>valid_loss</td><td>9.14642</td></tr><tr><td>valid_auc</td><td>0.73504</td></tr></table>"
      ],
      "text/plain": [
       "<IPython.core.display.HTML object>"
      ]
     },
     "metadata": {},
     "output_type": "display_data"
    },
    {
     "data": {
      "text/html": [
       "<h3>Run history:</h3><br/><style>\n",
       "    table.wandb td:nth-child(1) { padding: 0 10px; text-align: right }\n",
       "    </style><table class=\"wandb\">\n",
       "<tr><td>use_label_encoder</td><td>▁</td></tr><tr><td>base_score</td><td>▁</td></tr><tr><td>colsample_bylevel</td><td>▁</td></tr><tr><td>colsample_bynode</td><td>▁</td></tr><tr><td>colsample_bytree</td><td>▁</td></tr><tr><td>gamma</td><td>▁</td></tr><tr><td>gpu_id</td><td>▁</td></tr><tr><td>learning_rate</td><td>▁</td></tr><tr><td>max_delta_step</td><td>▁</td></tr><tr><td>max_depth</td><td>▁</td></tr><tr><td>min_child_weight</td><td>▁</td></tr><tr><td>missing</td><td></td></tr><tr><td>n_estimators</td><td>▁</td></tr><tr><td>n_jobs</td><td>▁</td></tr><tr><td>num_parallel_tree</td><td>▁</td></tr><tr><td>random_state</td><td>▁</td></tr><tr><td>reg_alpha</td><td>▁</td></tr><tr><td>reg_lambda</td><td>▁</td></tr><tr><td>scale_pos_weight</td><td>▁</td></tr><tr><td>subsample</td><td>▁</td></tr><tr><td>validate_parameters</td><td>▁</td></tr><tr><td>verbosity</td><td>▁</td></tr><tr><td>_runtime</td><td>▁▁</td></tr><tr><td>_timestamp</td><td>▁▁</td></tr><tr><td>_step</td><td>▁█</td></tr><tr><td>valid_loss</td><td>▁</td></tr><tr><td>valid_auc</td><td>▁</td></tr></table><br/>"
      ],
      "text/plain": [
       "<IPython.core.display.HTML object>"
      ]
     },
     "metadata": {},
     "output_type": "display_data"
    },
    {
     "data": {
      "text/html": [
       "Synced 6 W&B file(s), 0 media file(s), 2 artifact file(s) and 1 other file(s)"
      ],
      "text/plain": [
       "<IPython.core.display.HTML object>"
      ]
     },
     "metadata": {},
     "output_type": "display_data"
    },
    {
     "data": {
      "text/html": [
       "\n",
       "                    <br/>Synced <strong style=\"color:#cdcd00\">baseline_20210905_122637</strong>: <a href=\"https://wandb.ai/hushifang/202109_Kaggle_tabular_playground/runs/36ioodnk\" target=\"_blank\">https://wandb.ai/hushifang/202109_Kaggle_tabular_playground/runs/36ioodnk</a><br/>\n",
       "                "
      ],
      "text/plain": [
       "<IPython.core.display.HTML object>"
      ]
     },
     "metadata": {},
     "output_type": "display_data"
    },
    {
     "name": "stdout",
     "output_type": "stream",
     "text": [
      "Proceeding with holdout\n"
     ]
    },
    {
     "data": {
      "text/html": [
       "\n",
       "                Tracking run with wandb version 0.12.1<br/>\n",
       "                Syncing run <strong style=\"color:#cdcd00\">baseline_20210905_122637</strong> to <a href=\"https://wandb.ai\" target=\"_blank\">Weights & Biases</a> <a href=\"https://docs.wandb.com/integrations/jupyter.html\" target=\"_blank\">(Documentation)</a>.<br/>\n",
       "                Project page: <a href=\"https://wandb.ai/hushifang/202109_Kaggle_tabular_playground\" target=\"_blank\">https://wandb.ai/hushifang/202109_Kaggle_tabular_playground</a><br/>\n",
       "                Run page: <a href=\"https://wandb.ai/hushifang/202109_Kaggle_tabular_playground/runs/3pl0a4i6\" target=\"_blank\">https://wandb.ai/hushifang/202109_Kaggle_tabular_playground/runs/3pl0a4i6</a><br/>\n",
       "                Run data is saved locally in <code>/home/sf/Dropbox/code_cloud/python_code/kaggle/tabular_playgrounds/sep2021/wandb/run-20210905_123711-3pl0a4i6</code><br/><br/>\n",
       "            "
      ],
      "text/plain": [
       "<IPython.core.display.HTML object>"
      ]
     },
     "metadata": {},
     "output_type": "display_data"
    },
    {
     "name": "stdout",
     "output_type": "stream",
     "text": [
      "[LightGBM] [Warning] Unknown parameter: eval_metric\n",
      "Valid log-loss is 8.648491798463809\n",
      "Valid AUC is 0.7495649333825926\n"
     ]
    },
    {
     "data": {
      "text/html": [
       "<br/>Waiting for W&B process to finish, PID 804537<br/>Program ended successfully."
      ],
      "text/plain": [
       "<IPython.core.display.HTML object>"
      ]
     },
     "metadata": {},
     "output_type": "display_data"
    },
    {
     "data": {
      "application/vnd.jupyter.widget-view+json": {
       "model_id": "",
       "version_major": 2,
       "version_minor": 0
      },
      "text/plain": [
       "VBox(children=(Label(value=' 0.22MB of 0.22MB uploaded (0.00MB deduped)\\r'), FloatProgress(value=1.0, max=1.0)…"
      ]
     },
     "metadata": {},
     "output_type": "display_data"
    },
    {
     "data": {
      "text/html": [
       "Find user logs for this run at: <code>/home/sf/Dropbox/code_cloud/python_code/kaggle/tabular_playgrounds/sep2021/wandb/run-20210905_123711-3pl0a4i6/logs/debug.log</code>"
      ],
      "text/plain": [
       "<IPython.core.display.HTML object>"
      ]
     },
     "metadata": {},
     "output_type": "display_data"
    },
    {
     "data": {
      "text/html": [
       "Find internal logs for this run at: <code>/home/sf/Dropbox/code_cloud/python_code/kaggle/tabular_playgrounds/sep2021/wandb/run-20210905_123711-3pl0a4i6/logs/debug-internal.log</code>"
      ],
      "text/plain": [
       "<IPython.core.display.HTML object>"
      ]
     },
     "metadata": {},
     "output_type": "display_data"
    },
    {
     "data": {
      "text/html": [
       "<h3>Run summary:</h3><br/><style>\n",
       "    table.wandb td:nth-child(1) { padding: 0 10px; text-align: right }\n",
       "    </style><table class=\"wandb\">\n",
       "<tr><td>boosting_type</td><td>gbdt</td></tr><tr><td>colsample_bytree</td><td>1.0</td></tr><tr><td>importance_type</td><td>split</td></tr><tr><td>learning_rate</td><td>0.1</td></tr><tr><td>max_depth</td><td>-1</td></tr><tr><td>min_child_samples</td><td>20</td></tr><tr><td>min_child_weight</td><td>0.001</td></tr><tr><td>min_split_gain</td><td>0.0</td></tr><tr><td>n_estimators</td><td>300</td></tr><tr><td>n_jobs</td><td>-1</td></tr><tr><td>num_leaves</td><td>31</td></tr><tr><td>objective</td><td>binary</td></tr><tr><td>random_state</td><td>42</td></tr><tr><td>reg_alpha</td><td>0.0</td></tr><tr><td>reg_lambda</td><td>0.0</td></tr><tr><td>silent</td><td>True</td></tr><tr><td>subsample</td><td>1.0</td></tr><tr><td>subsample_for_bin</td><td>200000</td></tr><tr><td>subsample_freq</td><td>0</td></tr><tr><td>device_type</td><td>cpu</td></tr><tr><td>_runtime</td><td>68</td></tr><tr><td>_timestamp</td><td>1630870699</td></tr><tr><td>_step</td><td>301</td></tr><tr><td>valid_loss</td><td>8.64849</td></tr><tr><td>valid_auc</td><td>0.74956</td></tr></table>"
      ],
      "text/plain": [
       "<IPython.core.display.HTML object>"
      ]
     },
     "metadata": {},
     "output_type": "display_data"
    },
    {
     "data": {
      "text/html": [
       "<h3>Run history:</h3><br/><style>\n",
       "    table.wandb td:nth-child(1) { padding: 0 10px; text-align: right }\n",
       "    </style><table class=\"wandb\">\n",
       "<tr><td>colsample_bytree</td><td>▁</td></tr><tr><td>learning_rate</td><td>▁</td></tr><tr><td>max_depth</td><td>▁</td></tr><tr><td>min_child_samples</td><td>▁</td></tr><tr><td>min_child_weight</td><td>▁</td></tr><tr><td>min_split_gain</td><td>▁</td></tr><tr><td>n_estimators</td><td>▁</td></tr><tr><td>n_jobs</td><td>▁</td></tr><tr><td>num_leaves</td><td>▁</td></tr><tr><td>random_state</td><td>▁</td></tr><tr><td>reg_alpha</td><td>▁</td></tr><tr><td>reg_lambda</td><td>▁</td></tr><tr><td>silent</td><td>▁</td></tr><tr><td>subsample</td><td>▁</td></tr><tr><td>subsample_for_bin</td><td>▁</td></tr><tr><td>subsample_freq</td><td>▁</td></tr><tr><td>_runtime</td><td>▁▁</td></tr><tr><td>_timestamp</td><td>▁▁</td></tr><tr><td>_step</td><td>▁█</td></tr><tr><td>valid_loss</td><td>▁</td></tr><tr><td>valid_auc</td><td>▁</td></tr></table><br/>"
      ],
      "text/plain": [
       "<IPython.core.display.HTML object>"
      ]
     },
     "metadata": {},
     "output_type": "display_data"
    },
    {
     "data": {
      "text/html": [
       "Synced 6 W&B file(s), 0 media file(s), 2 artifact file(s) and 1 other file(s)"
      ],
      "text/plain": [
       "<IPython.core.display.HTML object>"
      ]
     },
     "metadata": {},
     "output_type": "display_data"
    },
    {
     "data": {
      "text/html": [
       "\n",
       "                    <br/>Synced <strong style=\"color:#cdcd00\">baseline_20210905_122637</strong>: <a href=\"https://wandb.ai/hushifang/202109_Kaggle_tabular_playground/runs/3pl0a4i6\" target=\"_blank\">https://wandb.ai/hushifang/202109_Kaggle_tabular_playground/runs/3pl0a4i6</a><br/>\n",
       "                "
      ],
      "text/plain": [
       "<IPython.core.display.HTML object>"
      ]
     },
     "metadata": {},
     "output_type": "display_data"
    }
   ],
   "source": [
    "for library in ['xgboost', 'lightgbm']:\n",
    "    exmodel_config['library'] = library\n",
    "    model_config = model_configurator(library)\n",
    "    cross_validation(model_config)"
   ]
  },
  {
   "cell_type": "code",
   "execution_count": 19,
   "id": "3bb7f7e8-31d2-419e-b3df-e9503d561040",
   "metadata": {
    "tags": []
   },
   "outputs": [
    {
     "name": "stdout",
     "output_type": "stream",
     "text": [
      "Proceeding with holdout\n"
     ]
    },
    {
     "data": {
      "text/html": [
       "\n",
       "                Tracking run with wandb version 0.12.1<br/>\n",
       "                Syncing run <strong style=\"color:#cdcd00\">baseline_20210905_122637</strong> to <a href=\"https://wandb.ai\" target=\"_blank\">Weights & Biases</a> <a href=\"https://docs.wandb.com/integrations/jupyter.html\" target=\"_blank\">(Documentation)</a>.<br/>\n",
       "                Project page: <a href=\"https://wandb.ai/hushifang/202109_Kaggle_tabular_playground\" target=\"_blank\">https://wandb.ai/hushifang/202109_Kaggle_tabular_playground</a><br/>\n",
       "                Run page: <a href=\"https://wandb.ai/hushifang/202109_Kaggle_tabular_playground/runs/2zlcutig\" target=\"_blank\">https://wandb.ai/hushifang/202109_Kaggle_tabular_playground/runs/2zlcutig</a><br/>\n",
       "                Run data is saved locally in <code>/home/sf/Dropbox/code_cloud/python_code/kaggle/tabular_playgrounds/sep2021/wandb/run-20210905_123825-2zlcutig</code><br/><br/>\n",
       "            "
      ],
      "text/plain": [
       "<IPython.core.display.HTML object>"
      ]
     },
     "metadata": {},
     "output_type": "display_data"
    },
    {
     "name": "stdout",
     "output_type": "stream",
     "text": [
      "CatBoost, therefore no WandB callback.\n",
      "Learning rate set to 0.023395\n",
      "0:\tlearn: 0.6925348\ttotal: 12.1ms\tremaining: 12.1s\n",
      "1:\tlearn: 0.6919313\ttotal: 22.1ms\tremaining: 11s\n",
      "2:\tlearn: 0.6913204\ttotal: 31.9ms\tremaining: 10.6s\n",
      "3:\tlearn: 0.6907180\ttotal: 41.5ms\tremaining: 10.3s\n",
      "4:\tlearn: 0.6901401\ttotal: 51.2ms\tremaining: 10.2s\n",
      "5:\tlearn: 0.6895602\ttotal: 61ms\tremaining: 10.1s\n",
      "6:\tlearn: 0.6889820\ttotal: 70.9ms\tremaining: 10.1s\n",
      "7:\tlearn: 0.6884069\ttotal: 80.6ms\tremaining: 9.99s\n",
      "8:\tlearn: 0.6878375\ttotal: 90.6ms\tremaining: 9.97s\n",
      "9:\tlearn: 0.6872611\ttotal: 100ms\tremaining: 9.94s\n",
      "10:\tlearn: 0.6866859\ttotal: 110ms\tremaining: 9.9s\n",
      "11:\tlearn: 0.6861257\ttotal: 120ms\tremaining: 9.91s\n",
      "12:\tlearn: 0.6855607\ttotal: 130ms\tremaining: 9.91s\n",
      "13:\tlearn: 0.6850009\ttotal: 141ms\tremaining: 9.96s\n",
      "14:\tlearn: 0.6844519\ttotal: 151ms\tremaining: 9.94s\n",
      "15:\tlearn: 0.6838970\ttotal: 161ms\tremaining: 9.9s\n",
      "16:\tlearn: 0.6833429\ttotal: 171ms\tremaining: 9.88s\n",
      "17:\tlearn: 0.6827973\ttotal: 181ms\tremaining: 9.85s\n",
      "18:\tlearn: 0.6822586\ttotal: 192ms\tremaining: 9.91s\n",
      "19:\tlearn: 0.6817161\ttotal: 203ms\tremaining: 9.94s\n",
      "20:\tlearn: 0.6811733\ttotal: 213ms\tremaining: 9.92s\n",
      "21:\tlearn: 0.6806479\ttotal: 222ms\tremaining: 9.87s\n",
      "22:\tlearn: 0.6801173\ttotal: 231ms\tremaining: 9.79s\n",
      "23:\tlearn: 0.6795930\ttotal: 239ms\tremaining: 9.72s\n",
      "24:\tlearn: 0.6790684\ttotal: 248ms\tremaining: 9.66s\n",
      "25:\tlearn: 0.6785435\ttotal: 257ms\tremaining: 9.63s\n",
      "26:\tlearn: 0.6780213\ttotal: 267ms\tremaining: 9.61s\n",
      "27:\tlearn: 0.6775091\ttotal: 276ms\tremaining: 9.58s\n",
      "28:\tlearn: 0.6769978\ttotal: 285ms\tremaining: 9.53s\n",
      "29:\tlearn: 0.6764838\ttotal: 294ms\tremaining: 9.5s\n",
      "30:\tlearn: 0.6759817\ttotal: 304ms\tremaining: 9.49s\n",
      "31:\tlearn: 0.6754659\ttotal: 312ms\tremaining: 9.45s\n",
      "32:\tlearn: 0.6749581\ttotal: 322ms\tremaining: 9.43s\n",
      "33:\tlearn: 0.6744611\ttotal: 332ms\tremaining: 9.42s\n",
      "34:\tlearn: 0.6739672\ttotal: 342ms\tremaining: 9.42s\n",
      "35:\tlearn: 0.6734710\ttotal: 351ms\tremaining: 9.41s\n",
      "36:\tlearn: 0.6729844\ttotal: 360ms\tremaining: 9.37s\n",
      "37:\tlearn: 0.6724915\ttotal: 371ms\tremaining: 9.39s\n",
      "38:\tlearn: 0.6719992\ttotal: 380ms\tremaining: 9.36s\n",
      "39:\tlearn: 0.6715141\ttotal: 389ms\tremaining: 9.34s\n",
      "40:\tlearn: 0.6710335\ttotal: 398ms\tremaining: 9.32s\n",
      "41:\tlearn: 0.6705580\ttotal: 407ms\tremaining: 9.29s\n",
      "42:\tlearn: 0.6700774\ttotal: 417ms\tremaining: 9.27s\n",
      "43:\tlearn: 0.6696032\ttotal: 425ms\tremaining: 9.24s\n",
      "44:\tlearn: 0.6691256\ttotal: 435ms\tremaining: 9.22s\n",
      "45:\tlearn: 0.6686538\ttotal: 444ms\tremaining: 9.21s\n",
      "46:\tlearn: 0.6681888\ttotal: 453ms\tremaining: 9.18s\n",
      "47:\tlearn: 0.6677204\ttotal: 462ms\tremaining: 9.16s\n",
      "48:\tlearn: 0.6672530\ttotal: 471ms\tremaining: 9.13s\n",
      "49:\tlearn: 0.6667868\ttotal: 480ms\tremaining: 9.12s\n",
      "50:\tlearn: 0.6663253\ttotal: 489ms\tremaining: 9.11s\n",
      "51:\tlearn: 0.6658690\ttotal: 498ms\tremaining: 9.09s\n",
      "52:\tlearn: 0.6654136\ttotal: 508ms\tremaining: 9.07s\n",
      "53:\tlearn: 0.6649633\ttotal: 518ms\tremaining: 9.07s\n",
      "54:\tlearn: 0.6645099\ttotal: 527ms\tremaining: 9.05s\n",
      "55:\tlearn: 0.6640610\ttotal: 535ms\tremaining: 9.03s\n",
      "56:\tlearn: 0.6636206\ttotal: 544ms\tremaining: 9s\n",
      "57:\tlearn: 0.6631813\ttotal: 554ms\tremaining: 9s\n",
      "58:\tlearn: 0.6627387\ttotal: 563ms\tremaining: 8.98s\n",
      "59:\tlearn: 0.6623087\ttotal: 572ms\tremaining: 8.96s\n",
      "60:\tlearn: 0.6618762\ttotal: 581ms\tremaining: 8.94s\n",
      "61:\tlearn: 0.6614418\ttotal: 590ms\tremaining: 8.92s\n",
      "62:\tlearn: 0.6610099\ttotal: 599ms\tremaining: 8.9s\n",
      "63:\tlearn: 0.6605797\ttotal: 608ms\tremaining: 8.89s\n",
      "64:\tlearn: 0.6601417\ttotal: 617ms\tremaining: 8.88s\n",
      "65:\tlearn: 0.6597230\ttotal: 626ms\tremaining: 8.87s\n",
      "66:\tlearn: 0.6593033\ttotal: 635ms\tremaining: 8.84s\n",
      "67:\tlearn: 0.6588857\ttotal: 644ms\tremaining: 8.82s\n",
      "68:\tlearn: 0.6584750\ttotal: 652ms\tremaining: 8.8s\n",
      "69:\tlearn: 0.6580546\ttotal: 661ms\tremaining: 8.78s\n",
      "70:\tlearn: 0.6576400\ttotal: 670ms\tremaining: 8.76s\n",
      "71:\tlearn: 0.6572260\ttotal: 678ms\tremaining: 8.74s\n",
      "72:\tlearn: 0.6568176\ttotal: 687ms\tremaining: 8.72s\n",
      "73:\tlearn: 0.6564123\ttotal: 696ms\tremaining: 8.7s\n",
      "74:\tlearn: 0.6559938\ttotal: 706ms\tremaining: 8.7s\n",
      "75:\tlearn: 0.6555944\ttotal: 714ms\tremaining: 8.68s\n",
      "76:\tlearn: 0.6551895\ttotal: 723ms\tremaining: 8.66s\n",
      "77:\tlearn: 0.6547967\ttotal: 731ms\tremaining: 8.64s\n",
      "78:\tlearn: 0.6543953\ttotal: 740ms\tremaining: 8.62s\n",
      "79:\tlearn: 0.6539925\ttotal: 749ms\tremaining: 8.61s\n",
      "80:\tlearn: 0.6535968\ttotal: 759ms\tremaining: 8.61s\n",
      "81:\tlearn: 0.6532004\ttotal: 768ms\tremaining: 8.6s\n",
      "82:\tlearn: 0.6528060\ttotal: 777ms\tremaining: 8.59s\n",
      "83:\tlearn: 0.6524151\ttotal: 787ms\tremaining: 8.58s\n",
      "84:\tlearn: 0.6520262\ttotal: 797ms\tremaining: 8.58s\n",
      "85:\tlearn: 0.6516383\ttotal: 805ms\tremaining: 8.56s\n",
      "86:\tlearn: 0.6512560\ttotal: 814ms\tremaining: 8.54s\n",
      "87:\tlearn: 0.6508787\ttotal: 822ms\tremaining: 8.52s\n",
      "88:\tlearn: 0.6505019\ttotal: 831ms\tremaining: 8.51s\n",
      "89:\tlearn: 0.6501224\ttotal: 839ms\tremaining: 8.49s\n",
      "90:\tlearn: 0.6497462\ttotal: 849ms\tremaining: 8.48s\n",
      "91:\tlearn: 0.6493711\ttotal: 857ms\tremaining: 8.46s\n",
      "92:\tlearn: 0.6490013\ttotal: 867ms\tremaining: 8.46s\n",
      "93:\tlearn: 0.6486307\ttotal: 878ms\tremaining: 8.46s\n",
      "94:\tlearn: 0.6482621\ttotal: 887ms\tremaining: 8.45s\n",
      "95:\tlearn: 0.6478919\ttotal: 896ms\tremaining: 8.44s\n",
      "96:\tlearn: 0.6475338\ttotal: 904ms\tremaining: 8.42s\n",
      "97:\tlearn: 0.6471722\ttotal: 913ms\tremaining: 8.41s\n",
      "98:\tlearn: 0.6468091\ttotal: 923ms\tremaining: 8.39s\n",
      "99:\tlearn: 0.6464466\ttotal: 931ms\tremaining: 8.38s\n",
      "100:\tlearn: 0.6460904\ttotal: 940ms\tremaining: 8.37s\n",
      "101:\tlearn: 0.6457401\ttotal: 949ms\tremaining: 8.35s\n",
      "102:\tlearn: 0.6453865\ttotal: 958ms\tremaining: 8.34s\n",
      "103:\tlearn: 0.6450327\ttotal: 967ms\tremaining: 8.33s\n",
      "104:\tlearn: 0.6446800\ttotal: 976ms\tremaining: 8.32s\n",
      "105:\tlearn: 0.6443370\ttotal: 984ms\tremaining: 8.3s\n",
      "106:\tlearn: 0.6439856\ttotal: 993ms\tremaining: 8.29s\n",
      "107:\tlearn: 0.6436431\ttotal: 1s\tremaining: 8.28s\n",
      "108:\tlearn: 0.6432949\ttotal: 1.01s\tremaining: 8.27s\n",
      "109:\tlearn: 0.6429524\ttotal: 1.02s\tremaining: 8.26s\n",
      "110:\tlearn: 0.6426140\ttotal: 1.03s\tremaining: 8.24s\n",
      "111:\tlearn: 0.6422746\ttotal: 1.04s\tremaining: 8.23s\n",
      "112:\tlearn: 0.6419458\ttotal: 1.05s\tremaining: 8.22s\n",
      "113:\tlearn: 0.6416148\ttotal: 1.05s\tremaining: 8.21s\n",
      "114:\tlearn: 0.6412876\ttotal: 1.06s\tremaining: 8.2s\n",
      "115:\tlearn: 0.6409496\ttotal: 1.07s\tremaining: 8.18s\n",
      "116:\tlearn: 0.6406202\ttotal: 1.08s\tremaining: 8.17s\n",
      "117:\tlearn: 0.6402935\ttotal: 1.09s\tremaining: 8.16s\n",
      "118:\tlearn: 0.6399635\ttotal: 1.1s\tremaining: 8.15s\n",
      "119:\tlearn: 0.6396392\ttotal: 1.11s\tremaining: 8.14s\n",
      "120:\tlearn: 0.6393181\ttotal: 1.12s\tremaining: 8.12s\n",
      "121:\tlearn: 0.6389916\ttotal: 1.13s\tremaining: 8.11s\n",
      "122:\tlearn: 0.6386703\ttotal: 1.14s\tremaining: 8.1s\n",
      "123:\tlearn: 0.6383484\ttotal: 1.15s\tremaining: 8.09s\n",
      "124:\tlearn: 0.6380288\ttotal: 1.15s\tremaining: 8.07s\n",
      "125:\tlearn: 0.6377109\ttotal: 1.16s\tremaining: 8.06s\n",
      "126:\tlearn: 0.6373991\ttotal: 1.17s\tremaining: 8.05s\n",
      "127:\tlearn: 0.6370905\ttotal: 1.18s\tremaining: 8.04s\n",
      "128:\tlearn: 0.6367818\ttotal: 1.19s\tremaining: 8.03s\n",
      "129:\tlearn: 0.6364689\ttotal: 1.2s\tremaining: 8.02s\n",
      "130:\tlearn: 0.6361649\ttotal: 1.21s\tremaining: 8.01s\n",
      "131:\tlearn: 0.6358592\ttotal: 1.22s\tremaining: 8s\n",
      "132:\tlearn: 0.6355550\ttotal: 1.22s\tremaining: 7.98s\n",
      "133:\tlearn: 0.6352535\ttotal: 1.23s\tremaining: 7.97s\n",
      "134:\tlearn: 0.6349489\ttotal: 1.24s\tremaining: 7.97s\n",
      "135:\tlearn: 0.6346479\ttotal: 1.25s\tremaining: 7.96s\n",
      "136:\tlearn: 0.6343487\ttotal: 1.26s\tremaining: 7.95s\n",
      "137:\tlearn: 0.6340503\ttotal: 1.27s\tremaining: 7.94s\n",
      "138:\tlearn: 0.6337549\ttotal: 1.28s\tremaining: 7.92s\n",
      "139:\tlearn: 0.6334580\ttotal: 1.29s\tremaining: 7.92s\n",
      "140:\tlearn: 0.6331555\ttotal: 1.3s\tremaining: 7.91s\n",
      "141:\tlearn: 0.6328608\ttotal: 1.31s\tremaining: 7.9s\n",
      "142:\tlearn: 0.6325674\ttotal: 1.32s\tremaining: 7.89s\n",
      "143:\tlearn: 0.6322772\ttotal: 1.32s\tremaining: 7.87s\n",
      "144:\tlearn: 0.6319874\ttotal: 1.33s\tremaining: 7.87s\n",
      "145:\tlearn: 0.6316990\ttotal: 1.34s\tremaining: 7.85s\n",
      "146:\tlearn: 0.6314158\ttotal: 1.35s\tremaining: 7.84s\n",
      "147:\tlearn: 0.6311344\ttotal: 1.36s\tremaining: 7.83s\n",
      "148:\tlearn: 0.6308518\ttotal: 1.37s\tremaining: 7.82s\n",
      "149:\tlearn: 0.6305724\ttotal: 1.38s\tremaining: 7.81s\n",
      "150:\tlearn: 0.6302884\ttotal: 1.39s\tremaining: 7.8s\n",
      "151:\tlearn: 0.6300125\ttotal: 1.4s\tremaining: 7.79s\n",
      "152:\tlearn: 0.6297373\ttotal: 1.41s\tremaining: 7.78s\n",
      "153:\tlearn: 0.6294563\ttotal: 1.42s\tremaining: 7.78s\n",
      "154:\tlearn: 0.6291776\ttotal: 1.43s\tremaining: 7.77s\n",
      "155:\tlearn: 0.6289062\ttotal: 1.43s\tremaining: 7.76s\n",
      "156:\tlearn: 0.6286360\ttotal: 1.44s\tremaining: 7.76s\n",
      "157:\tlearn: 0.6283665\ttotal: 1.45s\tremaining: 7.75s\n",
      "158:\tlearn: 0.6280953\ttotal: 1.46s\tremaining: 7.75s\n",
      "159:\tlearn: 0.6278250\ttotal: 1.47s\tremaining: 7.74s\n",
      "160:\tlearn: 0.6275639\ttotal: 1.48s\tremaining: 7.72s\n",
      "161:\tlearn: 0.6273037\ttotal: 1.49s\tremaining: 7.71s\n",
      "162:\tlearn: 0.6270370\ttotal: 1.5s\tremaining: 7.7s\n",
      "163:\tlearn: 0.6267727\ttotal: 1.51s\tremaining: 7.69s\n",
      "164:\tlearn: 0.6265037\ttotal: 1.52s\tremaining: 7.67s\n",
      "165:\tlearn: 0.6262441\ttotal: 1.52s\tremaining: 7.66s\n",
      "166:\tlearn: 0.6259848\ttotal: 1.53s\tremaining: 7.65s\n",
      "167:\tlearn: 0.6257253\ttotal: 1.54s\tremaining: 7.64s\n",
      "168:\tlearn: 0.6254722\ttotal: 1.55s\tremaining: 7.63s\n",
      "169:\tlearn: 0.6252173\ttotal: 1.56s\tremaining: 7.61s\n",
      "170:\tlearn: 0.6249601\ttotal: 1.57s\tremaining: 7.6s\n",
      "171:\tlearn: 0.6247077\ttotal: 1.58s\tremaining: 7.59s\n",
      "172:\tlearn: 0.6244574\ttotal: 1.58s\tremaining: 7.58s\n",
      "173:\tlearn: 0.6242037\ttotal: 1.59s\tremaining: 7.57s\n",
      "174:\tlearn: 0.6239551\ttotal: 1.6s\tremaining: 7.56s\n",
      "175:\tlearn: 0.6237108\ttotal: 1.61s\tremaining: 7.55s\n",
      "176:\tlearn: 0.6234631\ttotal: 1.62s\tremaining: 7.54s\n",
      "177:\tlearn: 0.6232222\ttotal: 1.63s\tremaining: 7.53s\n",
      "178:\tlearn: 0.6229725\ttotal: 1.64s\tremaining: 7.52s\n",
      "179:\tlearn: 0.6227293\ttotal: 1.65s\tremaining: 7.5s\n",
      "180:\tlearn: 0.6224922\ttotal: 1.66s\tremaining: 7.49s\n",
      "181:\tlearn: 0.6222483\ttotal: 1.66s\tremaining: 7.48s\n",
      "182:\tlearn: 0.6220116\ttotal: 1.67s\tremaining: 7.47s\n",
      "183:\tlearn: 0.6217720\ttotal: 1.68s\tremaining: 7.46s\n",
      "184:\tlearn: 0.6215313\ttotal: 1.69s\tremaining: 7.45s\n",
      "185:\tlearn: 0.6212938\ttotal: 1.7s\tremaining: 7.43s\n",
      "186:\tlearn: 0.6210537\ttotal: 1.71s\tremaining: 7.43s\n",
      "187:\tlearn: 0.6208158\ttotal: 1.72s\tremaining: 7.42s\n",
      "188:\tlearn: 0.6205812\ttotal: 1.73s\tremaining: 7.41s\n",
      "189:\tlearn: 0.6203488\ttotal: 1.74s\tremaining: 7.41s\n",
      "190:\tlearn: 0.6201219\ttotal: 1.75s\tremaining: 7.4s\n",
      "191:\tlearn: 0.6198956\ttotal: 1.76s\tremaining: 7.39s\n",
      "192:\tlearn: 0.6196642\ttotal: 1.76s\tremaining: 7.38s\n",
      "193:\tlearn: 0.6194335\ttotal: 1.77s\tremaining: 7.37s\n",
      "194:\tlearn: 0.6192066\ttotal: 1.78s\tremaining: 7.36s\n",
      "195:\tlearn: 0.6189823\ttotal: 1.79s\tremaining: 7.35s\n",
      "196:\tlearn: 0.6187568\ttotal: 1.8s\tremaining: 7.34s\n",
      "197:\tlearn: 0.6185322\ttotal: 1.81s\tremaining: 7.33s\n",
      "198:\tlearn: 0.6183109\ttotal: 1.82s\tremaining: 7.32s\n",
      "199:\tlearn: 0.6180887\ttotal: 1.83s\tremaining: 7.31s\n",
      "200:\tlearn: 0.6178685\ttotal: 1.84s\tremaining: 7.3s\n",
      "201:\tlearn: 0.6176487\ttotal: 1.85s\tremaining: 7.3s\n",
      "202:\tlearn: 0.6174304\ttotal: 1.85s\tremaining: 7.28s\n",
      "203:\tlearn: 0.6172141\ttotal: 1.86s\tremaining: 7.28s\n",
      "204:\tlearn: 0.6169978\ttotal: 1.88s\tremaining: 7.29s\n",
      "205:\tlearn: 0.6167822\ttotal: 1.9s\tremaining: 7.31s\n",
      "206:\tlearn: 0.6165630\ttotal: 1.91s\tremaining: 7.3s\n",
      "207:\tlearn: 0.6163553\ttotal: 1.92s\tremaining: 7.3s\n",
      "208:\tlearn: 0.6161459\ttotal: 1.93s\tremaining: 7.29s\n",
      "209:\tlearn: 0.6159375\ttotal: 1.94s\tremaining: 7.31s\n",
      "210:\tlearn: 0.6157242\ttotal: 1.96s\tremaining: 7.33s\n",
      "211:\tlearn: 0.6155137\ttotal: 1.98s\tremaining: 7.34s\n",
      "212:\tlearn: 0.6153054\ttotal: 1.99s\tremaining: 7.36s\n",
      "213:\tlearn: 0.6150984\ttotal: 2s\tremaining: 7.36s\n",
      "214:\tlearn: 0.6148912\ttotal: 2.01s\tremaining: 7.34s\n",
      "215:\tlearn: 0.6146846\ttotal: 2.02s\tremaining: 7.33s\n",
      "216:\tlearn: 0.6144787\ttotal: 2.04s\tremaining: 7.35s\n",
      "217:\tlearn: 0.6142754\ttotal: 2.05s\tremaining: 7.37s\n",
      "218:\tlearn: 0.6140698\ttotal: 2.07s\tremaining: 7.38s\n",
      "219:\tlearn: 0.6138677\ttotal: 2.09s\tremaining: 7.4s\n",
      "220:\tlearn: 0.6136674\ttotal: 2.1s\tremaining: 7.42s\n",
      "221:\tlearn: 0.6134668\ttotal: 2.12s\tremaining: 7.42s\n",
      "222:\tlearn: 0.6132677\ttotal: 2.13s\tremaining: 7.41s\n",
      "223:\tlearn: 0.6130665\ttotal: 2.14s\tremaining: 7.4s\n",
      "224:\tlearn: 0.6128706\ttotal: 2.15s\tremaining: 7.39s\n",
      "225:\tlearn: 0.6126725\ttotal: 2.15s\tremaining: 7.38s\n",
      "226:\tlearn: 0.6124783\ttotal: 2.16s\tremaining: 7.37s\n",
      "227:\tlearn: 0.6122823\ttotal: 2.17s\tremaining: 7.36s\n",
      "228:\tlearn: 0.6120868\ttotal: 2.18s\tremaining: 7.34s\n",
      "229:\tlearn: 0.6118926\ttotal: 2.19s\tremaining: 7.33s\n",
      "230:\tlearn: 0.6117004\ttotal: 2.2s\tremaining: 7.32s\n",
      "231:\tlearn: 0.6115086\ttotal: 2.21s\tremaining: 7.31s\n",
      "232:\tlearn: 0.6113197\ttotal: 2.22s\tremaining: 7.3s\n",
      "233:\tlearn: 0.6111368\ttotal: 2.23s\tremaining: 7.31s\n",
      "234:\tlearn: 0.6109487\ttotal: 2.24s\tremaining: 7.3s\n",
      "235:\tlearn: 0.6107600\ttotal: 2.25s\tremaining: 7.29s\n",
      "236:\tlearn: 0.6105695\ttotal: 2.26s\tremaining: 7.28s\n",
      "237:\tlearn: 0.6103842\ttotal: 2.27s\tremaining: 7.27s\n",
      "238:\tlearn: 0.6101936\ttotal: 2.28s\tremaining: 7.26s\n",
      "239:\tlearn: 0.6100072\ttotal: 2.29s\tremaining: 7.25s\n",
      "240:\tlearn: 0.6098247\ttotal: 2.3s\tremaining: 7.24s\n",
      "241:\tlearn: 0.6096389\ttotal: 2.31s\tremaining: 7.23s\n",
      "242:\tlearn: 0.6094563\ttotal: 2.32s\tremaining: 7.22s\n",
      "243:\tlearn: 0.6092772\ttotal: 2.33s\tremaining: 7.21s\n",
      "244:\tlearn: 0.6090970\ttotal: 2.34s\tremaining: 7.2s\n",
      "245:\tlearn: 0.6089163\ttotal: 2.35s\tremaining: 7.19s\n",
      "246:\tlearn: 0.6087381\ttotal: 2.35s\tremaining: 7.18s\n",
      "247:\tlearn: 0.6085573\ttotal: 2.36s\tremaining: 7.17s\n",
      "248:\tlearn: 0.6083816\ttotal: 2.37s\tremaining: 7.15s\n",
      "249:\tlearn: 0.6082060\ttotal: 2.38s\tremaining: 7.14s\n",
      "250:\tlearn: 0.6080292\ttotal: 2.39s\tremaining: 7.13s\n",
      "251:\tlearn: 0.6078550\ttotal: 2.4s\tremaining: 7.12s\n",
      "252:\tlearn: 0.6076783\ttotal: 2.42s\tremaining: 7.13s\n",
      "253:\tlearn: 0.6075078\ttotal: 2.43s\tremaining: 7.14s\n",
      "254:\tlearn: 0.6073336\ttotal: 2.44s\tremaining: 7.14s\n",
      "255:\tlearn: 0.6071612\ttotal: 2.46s\tremaining: 7.13s\n",
      "256:\tlearn: 0.6069916\ttotal: 2.47s\tremaining: 7.13s\n",
      "257:\tlearn: 0.6068199\ttotal: 2.48s\tremaining: 7.14s\n",
      "258:\tlearn: 0.6066480\ttotal: 2.49s\tremaining: 7.13s\n",
      "259:\tlearn: 0.6064777\ttotal: 2.5s\tremaining: 7.12s\n",
      "260:\tlearn: 0.6063091\ttotal: 2.51s\tremaining: 7.1s\n",
      "261:\tlearn: 0.6061430\ttotal: 2.52s\tremaining: 7.09s\n",
      "262:\tlearn: 0.6059737\ttotal: 2.52s\tremaining: 7.08s\n",
      "263:\tlearn: 0.6058089\ttotal: 2.53s\tremaining: 7.07s\n",
      "264:\tlearn: 0.6056477\ttotal: 2.55s\tremaining: 7.07s\n",
      "265:\tlearn: 0.6054833\ttotal: 2.56s\tremaining: 7.07s\n",
      "266:\tlearn: 0.6053212\ttotal: 2.57s\tremaining: 7.06s\n",
      "267:\tlearn: 0.6051619\ttotal: 2.58s\tremaining: 7.05s\n",
      "268:\tlearn: 0.6049985\ttotal: 2.59s\tremaining: 7.05s\n",
      "269:\tlearn: 0.6048354\ttotal: 2.61s\tremaining: 7.05s\n",
      "270:\tlearn: 0.6046726\ttotal: 2.62s\tremaining: 7.04s\n",
      "271:\tlearn: 0.6045134\ttotal: 2.63s\tremaining: 7.03s\n",
      "272:\tlearn: 0.6043526\ttotal: 2.63s\tremaining: 7.02s\n",
      "273:\tlearn: 0.6041957\ttotal: 2.65s\tremaining: 7.03s\n",
      "274:\tlearn: 0.6040363\ttotal: 2.66s\tremaining: 7.02s\n",
      "275:\tlearn: 0.6038808\ttotal: 2.68s\tremaining: 7.02s\n",
      "276:\tlearn: 0.6037248\ttotal: 2.69s\tremaining: 7.03s\n",
      "277:\tlearn: 0.6035762\ttotal: 2.71s\tremaining: 7.04s\n",
      "278:\tlearn: 0.6034206\ttotal: 2.72s\tremaining: 7.04s\n",
      "279:\tlearn: 0.6032672\ttotal: 2.74s\tremaining: 7.04s\n",
      "280:\tlearn: 0.6031148\ttotal: 2.75s\tremaining: 7.04s\n",
      "281:\tlearn: 0.6029626\ttotal: 2.77s\tremaining: 7.05s\n",
      "282:\tlearn: 0.6028125\ttotal: 2.79s\tremaining: 7.06s\n",
      "283:\tlearn: 0.6026609\ttotal: 2.8s\tremaining: 7.06s\n",
      "284:\tlearn: 0.6025120\ttotal: 2.82s\tremaining: 7.07s\n",
      "285:\tlearn: 0.6023686\ttotal: 2.83s\tremaining: 7.08s\n",
      "286:\tlearn: 0.6022198\ttotal: 2.85s\tremaining: 7.07s\n",
      "287:\tlearn: 0.6020726\ttotal: 2.86s\tremaining: 7.08s\n",
      "288:\tlearn: 0.6019216\ttotal: 2.88s\tremaining: 7.09s\n",
      "289:\tlearn: 0.6017709\ttotal: 2.89s\tremaining: 7.08s\n",
      "290:\tlearn: 0.6016228\ttotal: 2.91s\tremaining: 7.08s\n",
      "291:\tlearn: 0.6014760\ttotal: 2.92s\tremaining: 7.09s\n",
      "292:\tlearn: 0.6013312\ttotal: 2.94s\tremaining: 7.09s\n",
      "293:\tlearn: 0.6011840\ttotal: 2.95s\tremaining: 7.08s\n",
      "294:\tlearn: 0.6010351\ttotal: 2.96s\tremaining: 7.07s\n",
      "295:\tlearn: 0.6008899\ttotal: 2.97s\tremaining: 7.06s\n",
      "296:\tlearn: 0.6007449\ttotal: 2.98s\tremaining: 7.06s\n",
      "297:\tlearn: 0.6006045\ttotal: 3s\tremaining: 7.06s\n",
      "298:\tlearn: 0.6004610\ttotal: 3s\tremaining: 7.05s\n",
      "299:\tlearn: 0.6003197\ttotal: 3.02s\tremaining: 7.05s\n",
      "300:\tlearn: 0.6001864\ttotal: 3.04s\tremaining: 7.06s\n",
      "301:\tlearn: 0.6000454\ttotal: 3.05s\tremaining: 7.05s\n",
      "302:\tlearn: 0.5999041\ttotal: 3.06s\tremaining: 7.05s\n",
      "303:\tlearn: 0.5997650\ttotal: 3.08s\tremaining: 7.06s\n",
      "304:\tlearn: 0.5996270\ttotal: 3.1s\tremaining: 7.05s\n",
      "305:\tlearn: 0.5994848\ttotal: 3.11s\tremaining: 7.05s\n",
      "306:\tlearn: 0.5993502\ttotal: 3.12s\tremaining: 7.05s\n",
      "307:\tlearn: 0.5992175\ttotal: 3.13s\tremaining: 7.04s\n",
      "308:\tlearn: 0.5990800\ttotal: 3.15s\tremaining: 7.04s\n",
      "309:\tlearn: 0.5989436\ttotal: 3.17s\tremaining: 7.05s\n",
      "310:\tlearn: 0.5988109\ttotal: 3.18s\tremaining: 7.05s\n",
      "311:\tlearn: 0.5986760\ttotal: 3.2s\tremaining: 7.05s\n",
      "312:\tlearn: 0.5985436\ttotal: 3.21s\tremaining: 7.05s\n",
      "313:\tlearn: 0.5984085\ttotal: 3.23s\tremaining: 7.05s\n",
      "314:\tlearn: 0.5982778\ttotal: 3.24s\tremaining: 7.05s\n",
      "315:\tlearn: 0.5981444\ttotal: 3.26s\tremaining: 7.05s\n",
      "316:\tlearn: 0.5980133\ttotal: 3.27s\tremaining: 7.05s\n",
      "317:\tlearn: 0.5978815\ttotal: 3.29s\tremaining: 7.05s\n",
      "318:\tlearn: 0.5977512\ttotal: 3.3s\tremaining: 7.05s\n",
      "319:\tlearn: 0.5976236\ttotal: 3.32s\tremaining: 7.05s\n",
      "320:\tlearn: 0.5974966\ttotal: 3.33s\tremaining: 7.05s\n",
      "321:\tlearn: 0.5973695\ttotal: 3.35s\tremaining: 7.06s\n",
      "322:\tlearn: 0.5972400\ttotal: 3.37s\tremaining: 7.06s\n",
      "323:\tlearn: 0.5971106\ttotal: 3.38s\tremaining: 7.06s\n",
      "324:\tlearn: 0.5969894\ttotal: 3.39s\tremaining: 7.05s\n",
      "325:\tlearn: 0.5968611\ttotal: 3.41s\tremaining: 7.05s\n",
      "326:\tlearn: 0.5967353\ttotal: 3.42s\tremaining: 7.04s\n",
      "327:\tlearn: 0.5966082\ttotal: 3.43s\tremaining: 7.04s\n",
      "328:\tlearn: 0.5964884\ttotal: 3.45s\tremaining: 7.04s\n",
      "329:\tlearn: 0.5963660\ttotal: 3.46s\tremaining: 7.03s\n",
      "330:\tlearn: 0.5962427\ttotal: 3.48s\tremaining: 7.04s\n",
      "331:\tlearn: 0.5961194\ttotal: 3.5s\tremaining: 7.04s\n",
      "332:\tlearn: 0.5959966\ttotal: 3.51s\tremaining: 7.04s\n",
      "333:\tlearn: 0.5958764\ttotal: 3.52s\tremaining: 7.03s\n",
      "334:\tlearn: 0.5957521\ttotal: 3.53s\tremaining: 7.01s\n",
      "335:\tlearn: 0.5956293\ttotal: 3.55s\tremaining: 7.01s\n",
      "336:\tlearn: 0.5955100\ttotal: 3.56s\tremaining: 7.01s\n",
      "337:\tlearn: 0.5953883\ttotal: 3.58s\tremaining: 7.01s\n",
      "338:\tlearn: 0.5952681\ttotal: 3.6s\tremaining: 7.01s\n",
      "339:\tlearn: 0.5951518\ttotal: 3.61s\tremaining: 7s\n",
      "340:\tlearn: 0.5950294\ttotal: 3.62s\tremaining: 6.99s\n",
      "341:\tlearn: 0.5949109\ttotal: 3.63s\tremaining: 6.99s\n",
      "342:\tlearn: 0.5947936\ttotal: 3.65s\tremaining: 6.99s\n",
      "343:\tlearn: 0.5946821\ttotal: 3.66s\tremaining: 6.99s\n",
      "344:\tlearn: 0.5945653\ttotal: 3.68s\tremaining: 6.99s\n",
      "345:\tlearn: 0.5944517\ttotal: 3.69s\tremaining: 6.98s\n",
      "346:\tlearn: 0.5943377\ttotal: 3.71s\tremaining: 6.98s\n",
      "347:\tlearn: 0.5942236\ttotal: 3.73s\tremaining: 6.98s\n",
      "348:\tlearn: 0.5941117\ttotal: 3.74s\tremaining: 6.98s\n",
      "349:\tlearn: 0.5939939\ttotal: 3.75s\tremaining: 6.97s\n",
      "350:\tlearn: 0.5938831\ttotal: 3.76s\tremaining: 6.96s\n",
      "351:\tlearn: 0.5937715\ttotal: 3.78s\tremaining: 6.96s\n",
      "352:\tlearn: 0.5936632\ttotal: 3.79s\tremaining: 6.96s\n",
      "353:\tlearn: 0.5935507\ttotal: 3.81s\tremaining: 6.95s\n",
      "354:\tlearn: 0.5934373\ttotal: 3.83s\tremaining: 6.95s\n",
      "355:\tlearn: 0.5933267\ttotal: 3.84s\tremaining: 6.94s\n",
      "356:\tlearn: 0.5932145\ttotal: 3.85s\tremaining: 6.93s\n",
      "357:\tlearn: 0.5931105\ttotal: 3.86s\tremaining: 6.92s\n",
      "358:\tlearn: 0.5930004\ttotal: 3.87s\tremaining: 6.91s\n",
      "359:\tlearn: 0.5928910\ttotal: 3.89s\tremaining: 6.91s\n",
      "360:\tlearn: 0.5927855\ttotal: 3.9s\tremaining: 6.91s\n",
      "361:\tlearn: 0.5926779\ttotal: 3.92s\tremaining: 6.9s\n",
      "362:\tlearn: 0.5925735\ttotal: 3.92s\tremaining: 6.89s\n",
      "363:\tlearn: 0.5924686\ttotal: 3.94s\tremaining: 6.89s\n",
      "364:\tlearn: 0.5923619\ttotal: 3.95s\tremaining: 6.87s\n",
      "365:\tlearn: 0.5922556\ttotal: 3.96s\tremaining: 6.86s\n",
      "366:\tlearn: 0.5921529\ttotal: 3.97s\tremaining: 6.84s\n",
      "367:\tlearn: 0.5920496\ttotal: 3.98s\tremaining: 6.84s\n",
      "368:\tlearn: 0.5919404\ttotal: 4s\tremaining: 6.83s\n",
      "369:\tlearn: 0.5918389\ttotal: 4.01s\tremaining: 6.82s\n",
      "370:\tlearn: 0.5917368\ttotal: 4.02s\tremaining: 6.82s\n",
      "371:\tlearn: 0.5916336\ttotal: 4.04s\tremaining: 6.82s\n",
      "372:\tlearn: 0.5915315\ttotal: 4.05s\tremaining: 6.81s\n",
      "373:\tlearn: 0.5914299\ttotal: 4.06s\tremaining: 6.79s\n",
      "374:\tlearn: 0.5913300\ttotal: 4.07s\tremaining: 6.78s\n",
      "375:\tlearn: 0.5912278\ttotal: 4.09s\tremaining: 6.78s\n",
      "376:\tlearn: 0.5911274\ttotal: 4.1s\tremaining: 6.77s\n",
      "377:\tlearn: 0.5910268\ttotal: 4.11s\tremaining: 6.76s\n",
      "378:\tlearn: 0.5909288\ttotal: 4.12s\tremaining: 6.75s\n",
      "379:\tlearn: 0.5908274\ttotal: 4.13s\tremaining: 6.75s\n",
      "380:\tlearn: 0.5907268\ttotal: 4.15s\tremaining: 6.74s\n",
      "381:\tlearn: 0.5906283\ttotal: 4.16s\tremaining: 6.73s\n",
      "382:\tlearn: 0.5905281\ttotal: 4.18s\tremaining: 6.73s\n",
      "383:\tlearn: 0.5904279\ttotal: 4.19s\tremaining: 6.72s\n",
      "384:\tlearn: 0.5903322\ttotal: 4.2s\tremaining: 6.71s\n",
      "385:\tlearn: 0.5902358\ttotal: 4.21s\tremaining: 6.7s\n",
      "386:\tlearn: 0.5901415\ttotal: 4.23s\tremaining: 6.7s\n",
      "387:\tlearn: 0.5900425\ttotal: 4.24s\tremaining: 6.68s\n",
      "388:\tlearn: 0.5899460\ttotal: 4.25s\tremaining: 6.67s\n",
      "389:\tlearn: 0.5898495\ttotal: 4.26s\tremaining: 6.67s\n",
      "390:\tlearn: 0.5897547\ttotal: 4.28s\tremaining: 6.66s\n",
      "391:\tlearn: 0.5896618\ttotal: 4.29s\tremaining: 6.66s\n",
      "392:\tlearn: 0.5895674\ttotal: 4.31s\tremaining: 6.65s\n",
      "393:\tlearn: 0.5894714\ttotal: 4.32s\tremaining: 6.64s\n",
      "394:\tlearn: 0.5893754\ttotal: 4.33s\tremaining: 6.63s\n",
      "395:\tlearn: 0.5892799\ttotal: 4.34s\tremaining: 6.62s\n",
      "396:\tlearn: 0.5891868\ttotal: 4.35s\tremaining: 6.6s\n",
      "397:\tlearn: 0.5890932\ttotal: 4.36s\tremaining: 6.59s\n",
      "398:\tlearn: 0.5889970\ttotal: 4.37s\tremaining: 6.58s\n",
      "399:\tlearn: 0.5889056\ttotal: 4.38s\tremaining: 6.58s\n",
      "400:\tlearn: 0.5888140\ttotal: 4.39s\tremaining: 6.57s\n",
      "401:\tlearn: 0.5887214\ttotal: 4.4s\tremaining: 6.55s\n",
      "402:\tlearn: 0.5886295\ttotal: 4.41s\tremaining: 6.54s\n",
      "403:\tlearn: 0.5885381\ttotal: 4.42s\tremaining: 6.53s\n",
      "404:\tlearn: 0.5884450\ttotal: 4.44s\tremaining: 6.52s\n",
      "405:\tlearn: 0.5883557\ttotal: 4.45s\tremaining: 6.51s\n",
      "406:\tlearn: 0.5882692\ttotal: 4.46s\tremaining: 6.5s\n",
      "407:\tlearn: 0.5881801\ttotal: 4.47s\tremaining: 6.49s\n",
      "408:\tlearn: 0.5880892\ttotal: 4.48s\tremaining: 6.48s\n",
      "409:\tlearn: 0.5880025\ttotal: 4.49s\tremaining: 6.46s\n",
      "410:\tlearn: 0.5879198\ttotal: 4.51s\tremaining: 6.46s\n",
      "411:\tlearn: 0.5878315\ttotal: 4.52s\tremaining: 6.45s\n",
      "412:\tlearn: 0.5877448\ttotal: 4.53s\tremaining: 6.44s\n",
      "413:\tlearn: 0.5876558\ttotal: 4.54s\tremaining: 6.42s\n",
      "414:\tlearn: 0.5875679\ttotal: 4.55s\tremaining: 6.41s\n",
      "415:\tlearn: 0.5874814\ttotal: 4.56s\tremaining: 6.4s\n",
      "416:\tlearn: 0.5874003\ttotal: 4.57s\tremaining: 6.39s\n",
      "417:\tlearn: 0.5873155\ttotal: 4.58s\tremaining: 6.37s\n",
      "418:\tlearn: 0.5872299\ttotal: 4.59s\tremaining: 6.36s\n",
      "419:\tlearn: 0.5871434\ttotal: 4.6s\tremaining: 6.35s\n",
      "420:\tlearn: 0.5870568\ttotal: 4.61s\tremaining: 6.34s\n",
      "421:\tlearn: 0.5869766\ttotal: 4.62s\tremaining: 6.33s\n",
      "422:\tlearn: 0.5868924\ttotal: 4.63s\tremaining: 6.32s\n",
      "423:\tlearn: 0.5868091\ttotal: 4.64s\tremaining: 6.3s\n",
      "424:\tlearn: 0.5867265\ttotal: 4.65s\tremaining: 6.29s\n",
      "425:\tlearn: 0.5866418\ttotal: 4.67s\tremaining: 6.29s\n",
      "426:\tlearn: 0.5865578\ttotal: 4.68s\tremaining: 6.28s\n",
      "427:\tlearn: 0.5864789\ttotal: 4.7s\tremaining: 6.28s\n",
      "428:\tlearn: 0.5863967\ttotal: 4.71s\tremaining: 6.27s\n",
      "429:\tlearn: 0.5863144\ttotal: 4.72s\tremaining: 6.25s\n",
      "430:\tlearn: 0.5862331\ttotal: 4.73s\tremaining: 6.24s\n",
      "431:\tlearn: 0.5861560\ttotal: 4.74s\tremaining: 6.23s\n",
      "432:\tlearn: 0.5860730\ttotal: 4.75s\tremaining: 6.22s\n",
      "433:\tlearn: 0.5859922\ttotal: 4.76s\tremaining: 6.21s\n",
      "434:\tlearn: 0.5859103\ttotal: 4.77s\tremaining: 6.2s\n",
      "435:\tlearn: 0.5858322\ttotal: 4.78s\tremaining: 6.18s\n",
      "436:\tlearn: 0.5857554\ttotal: 4.79s\tremaining: 6.17s\n",
      "437:\tlearn: 0.5856730\ttotal: 4.8s\tremaining: 6.16s\n",
      "438:\tlearn: 0.5855963\ttotal: 4.81s\tremaining: 6.15s\n",
      "439:\tlearn: 0.5855182\ttotal: 4.82s\tremaining: 6.13s\n",
      "440:\tlearn: 0.5854425\ttotal: 4.83s\tremaining: 6.12s\n",
      "441:\tlearn: 0.5853671\ttotal: 4.84s\tremaining: 6.11s\n",
      "442:\tlearn: 0.5852918\ttotal: 4.85s\tremaining: 6.1s\n",
      "443:\tlearn: 0.5852143\ttotal: 4.86s\tremaining: 6.09s\n",
      "444:\tlearn: 0.5851367\ttotal: 4.87s\tremaining: 6.07s\n",
      "445:\tlearn: 0.5850581\ttotal: 4.88s\tremaining: 6.06s\n",
      "446:\tlearn: 0.5849827\ttotal: 4.89s\tremaining: 6.05s\n",
      "447:\tlearn: 0.5849058\ttotal: 4.9s\tremaining: 6.04s\n",
      "448:\tlearn: 0.5848343\ttotal: 4.91s\tremaining: 6.03s\n",
      "449:\tlearn: 0.5847570\ttotal: 4.93s\tremaining: 6.02s\n",
      "450:\tlearn: 0.5846809\ttotal: 4.94s\tremaining: 6.01s\n",
      "451:\tlearn: 0.5846113\ttotal: 4.95s\tremaining: 6s\n",
      "452:\tlearn: 0.5845367\ttotal: 4.96s\tremaining: 5.98s\n",
      "453:\tlearn: 0.5844628\ttotal: 4.97s\tremaining: 5.98s\n",
      "454:\tlearn: 0.5843939\ttotal: 4.98s\tremaining: 5.97s\n",
      "455:\tlearn: 0.5843187\ttotal: 4.99s\tremaining: 5.96s\n",
      "456:\tlearn: 0.5842457\ttotal: 5s\tremaining: 5.95s\n",
      "457:\tlearn: 0.5841720\ttotal: 5.01s\tremaining: 5.93s\n",
      "458:\tlearn: 0.5841018\ttotal: 5.02s\tremaining: 5.92s\n",
      "459:\tlearn: 0.5840363\ttotal: 5.03s\tremaining: 5.91s\n",
      "460:\tlearn: 0.5839650\ttotal: 5.04s\tremaining: 5.9s\n",
      "461:\tlearn: 0.5838966\ttotal: 5.05s\tremaining: 5.88s\n",
      "462:\tlearn: 0.5838263\ttotal: 5.06s\tremaining: 5.87s\n",
      "463:\tlearn: 0.5837570\ttotal: 5.08s\tremaining: 5.86s\n",
      "464:\tlearn: 0.5836842\ttotal: 5.09s\tremaining: 5.86s\n",
      "465:\tlearn: 0.5836133\ttotal: 5.1s\tremaining: 5.85s\n",
      "466:\tlearn: 0.5835461\ttotal: 5.11s\tremaining: 5.83s\n",
      "467:\tlearn: 0.5834789\ttotal: 5.12s\tremaining: 5.82s\n",
      "468:\tlearn: 0.5834095\ttotal: 5.13s\tremaining: 5.81s\n",
      "469:\tlearn: 0.5833452\ttotal: 5.14s\tremaining: 5.8s\n",
      "470:\tlearn: 0.5832803\ttotal: 5.15s\tremaining: 5.79s\n",
      "471:\tlearn: 0.5832101\ttotal: 5.16s\tremaining: 5.78s\n",
      "472:\tlearn: 0.5831421\ttotal: 5.17s\tremaining: 5.76s\n",
      "473:\tlearn: 0.5830723\ttotal: 5.18s\tremaining: 5.75s\n",
      "474:\tlearn: 0.5830073\ttotal: 5.19s\tremaining: 5.74s\n",
      "475:\tlearn: 0.5829387\ttotal: 5.2s\tremaining: 5.73s\n",
      "476:\tlearn: 0.5828720\ttotal: 5.21s\tremaining: 5.72s\n",
      "477:\tlearn: 0.5828114\ttotal: 5.22s\tremaining: 5.71s\n",
      "478:\tlearn: 0.5827417\ttotal: 5.23s\tremaining: 5.69s\n",
      "479:\tlearn: 0.5826744\ttotal: 5.24s\tremaining: 5.68s\n",
      "480:\tlearn: 0.5826049\ttotal: 5.26s\tremaining: 5.67s\n",
      "481:\tlearn: 0.5825367\ttotal: 5.27s\tremaining: 5.66s\n",
      "482:\tlearn: 0.5824687\ttotal: 5.28s\tremaining: 5.65s\n",
      "483:\tlearn: 0.5824036\ttotal: 5.3s\tremaining: 5.65s\n",
      "484:\tlearn: 0.5823359\ttotal: 5.31s\tremaining: 5.64s\n",
      "485:\tlearn: 0.5822744\ttotal: 5.33s\tremaining: 5.63s\n",
      "486:\tlearn: 0.5822069\ttotal: 5.34s\tremaining: 5.63s\n",
      "487:\tlearn: 0.5821444\ttotal: 5.36s\tremaining: 5.62s\n",
      "488:\tlearn: 0.5820835\ttotal: 5.37s\tremaining: 5.61s\n",
      "489:\tlearn: 0.5820170\ttotal: 5.38s\tremaining: 5.6s\n",
      "490:\tlearn: 0.5819517\ttotal: 5.39s\tremaining: 5.58s\n",
      "491:\tlearn: 0.5818854\ttotal: 5.4s\tremaining: 5.57s\n",
      "492:\tlearn: 0.5818247\ttotal: 5.41s\tremaining: 5.56s\n",
      "493:\tlearn: 0.5817601\ttotal: 5.41s\tremaining: 5.54s\n",
      "494:\tlearn: 0.5816995\ttotal: 5.42s\tremaining: 5.53s\n",
      "495:\tlearn: 0.5816389\ttotal: 5.43s\tremaining: 5.52s\n",
      "496:\tlearn: 0.5815744\ttotal: 5.44s\tremaining: 5.51s\n",
      "497:\tlearn: 0.5815153\ttotal: 5.45s\tremaining: 5.5s\n",
      "498:\tlearn: 0.5814513\ttotal: 5.46s\tremaining: 5.48s\n",
      "499:\tlearn: 0.5813873\ttotal: 5.47s\tremaining: 5.47s\n",
      "500:\tlearn: 0.5813246\ttotal: 5.48s\tremaining: 5.46s\n",
      "501:\tlearn: 0.5812614\ttotal: 5.49s\tremaining: 5.44s\n",
      "502:\tlearn: 0.5811994\ttotal: 5.49s\tremaining: 5.43s\n",
      "503:\tlearn: 0.5811372\ttotal: 5.5s\tremaining: 5.42s\n",
      "504:\tlearn: 0.5810792\ttotal: 5.51s\tremaining: 5.4s\n",
      "505:\tlearn: 0.5810182\ttotal: 5.52s\tremaining: 5.39s\n",
      "506:\tlearn: 0.5809548\ttotal: 5.53s\tremaining: 5.38s\n",
      "507:\tlearn: 0.5808973\ttotal: 5.54s\tremaining: 5.37s\n",
      "508:\tlearn: 0.5808381\ttotal: 5.55s\tremaining: 5.35s\n",
      "509:\tlearn: 0.5807768\ttotal: 5.56s\tremaining: 5.34s\n",
      "510:\tlearn: 0.5807165\ttotal: 5.57s\tremaining: 5.33s\n",
      "511:\tlearn: 0.5806557\ttotal: 5.58s\tremaining: 5.31s\n",
      "512:\tlearn: 0.5805948\ttotal: 5.58s\tremaining: 5.3s\n",
      "513:\tlearn: 0.5805378\ttotal: 5.59s\tremaining: 5.29s\n",
      "514:\tlearn: 0.5804779\ttotal: 5.6s\tremaining: 5.28s\n",
      "515:\tlearn: 0.5804226\ttotal: 5.61s\tremaining: 5.26s\n",
      "516:\tlearn: 0.5803629\ttotal: 5.62s\tremaining: 5.25s\n",
      "517:\tlearn: 0.5803026\ttotal: 5.63s\tremaining: 5.24s\n",
      "518:\tlearn: 0.5802464\ttotal: 5.64s\tremaining: 5.23s\n",
      "519:\tlearn: 0.5801891\ttotal: 5.65s\tremaining: 5.21s\n",
      "520:\tlearn: 0.5801342\ttotal: 5.66s\tremaining: 5.2s\n",
      "521:\tlearn: 0.5800821\ttotal: 5.67s\tremaining: 5.19s\n",
      "522:\tlearn: 0.5800278\ttotal: 5.68s\tremaining: 5.18s\n",
      "523:\tlearn: 0.5799708\ttotal: 5.68s\tremaining: 5.17s\n",
      "524:\tlearn: 0.5799103\ttotal: 5.7s\tremaining: 5.15s\n",
      "525:\tlearn: 0.5798535\ttotal: 5.7s\tremaining: 5.14s\n",
      "526:\tlearn: 0.5797951\ttotal: 5.71s\tremaining: 5.13s\n",
      "527:\tlearn: 0.5797376\ttotal: 5.72s\tremaining: 5.12s\n",
      "528:\tlearn: 0.5796803\ttotal: 5.73s\tremaining: 5.1s\n",
      "529:\tlearn: 0.5796245\ttotal: 5.74s\tremaining: 5.09s\n",
      "530:\tlearn: 0.5795705\ttotal: 5.75s\tremaining: 5.08s\n",
      "531:\tlearn: 0.5795129\ttotal: 5.76s\tremaining: 5.07s\n",
      "532:\tlearn: 0.5794587\ttotal: 5.77s\tremaining: 5.05s\n",
      "533:\tlearn: 0.5794065\ttotal: 5.78s\tremaining: 5.04s\n",
      "534:\tlearn: 0.5793484\ttotal: 5.79s\tremaining: 5.03s\n",
      "535:\tlearn: 0.5792917\ttotal: 5.79s\tremaining: 5.02s\n",
      "536:\tlearn: 0.5792408\ttotal: 5.81s\tremaining: 5s\n",
      "537:\tlearn: 0.5791840\ttotal: 5.81s\tremaining: 4.99s\n",
      "538:\tlearn: 0.5791287\ttotal: 5.82s\tremaining: 4.98s\n",
      "539:\tlearn: 0.5790763\ttotal: 5.83s\tremaining: 4.97s\n",
      "540:\tlearn: 0.5790261\ttotal: 5.84s\tremaining: 4.96s\n",
      "541:\tlearn: 0.5789757\ttotal: 5.85s\tremaining: 4.94s\n",
      "542:\tlearn: 0.5789222\ttotal: 5.86s\tremaining: 4.93s\n",
      "543:\tlearn: 0.5788697\ttotal: 5.87s\tremaining: 4.92s\n",
      "544:\tlearn: 0.5788201\ttotal: 5.88s\tremaining: 4.91s\n",
      "545:\tlearn: 0.5787633\ttotal: 5.88s\tremaining: 4.89s\n",
      "546:\tlearn: 0.5787099\ttotal: 5.89s\tremaining: 4.88s\n",
      "547:\tlearn: 0.5786550\ttotal: 5.9s\tremaining: 4.87s\n",
      "548:\tlearn: 0.5786057\ttotal: 5.91s\tremaining: 4.86s\n",
      "549:\tlearn: 0.5785562\ttotal: 5.92s\tremaining: 4.84s\n",
      "550:\tlearn: 0.5785020\ttotal: 5.93s\tremaining: 4.83s\n",
      "551:\tlearn: 0.5784479\ttotal: 5.94s\tremaining: 4.82s\n",
      "552:\tlearn: 0.5783954\ttotal: 5.95s\tremaining: 4.81s\n",
      "553:\tlearn: 0.5783481\ttotal: 5.96s\tremaining: 4.79s\n",
      "554:\tlearn: 0.5782948\ttotal: 5.96s\tremaining: 4.78s\n",
      "555:\tlearn: 0.5782449\ttotal: 5.97s\tremaining: 4.77s\n",
      "556:\tlearn: 0.5781965\ttotal: 5.98s\tremaining: 4.76s\n",
      "557:\tlearn: 0.5781436\ttotal: 5.99s\tremaining: 4.75s\n",
      "558:\tlearn: 0.5780908\ttotal: 6s\tremaining: 4.74s\n",
      "559:\tlearn: 0.5780372\ttotal: 6.01s\tremaining: 4.72s\n",
      "560:\tlearn: 0.5779856\ttotal: 6.02s\tremaining: 4.71s\n",
      "561:\tlearn: 0.5779363\ttotal: 6.03s\tremaining: 4.7s\n",
      "562:\tlearn: 0.5778879\ttotal: 6.04s\tremaining: 4.69s\n",
      "563:\tlearn: 0.5778456\ttotal: 6.05s\tremaining: 4.67s\n",
      "564:\tlearn: 0.5777952\ttotal: 6.06s\tremaining: 4.66s\n",
      "565:\tlearn: 0.5777453\ttotal: 6.07s\tremaining: 4.65s\n",
      "566:\tlearn: 0.5776988\ttotal: 6.07s\tremaining: 4.64s\n",
      "567:\tlearn: 0.5776491\ttotal: 6.08s\tremaining: 4.63s\n",
      "568:\tlearn: 0.5775992\ttotal: 6.09s\tremaining: 4.62s\n",
      "569:\tlearn: 0.5775492\ttotal: 6.1s\tremaining: 4.6s\n",
      "570:\tlearn: 0.5775027\ttotal: 6.11s\tremaining: 4.59s\n",
      "571:\tlearn: 0.5774545\ttotal: 6.12s\tremaining: 4.58s\n",
      "572:\tlearn: 0.5774056\ttotal: 6.13s\tremaining: 4.57s\n",
      "573:\tlearn: 0.5773596\ttotal: 6.14s\tremaining: 4.56s\n",
      "574:\tlearn: 0.5773202\ttotal: 6.15s\tremaining: 4.54s\n",
      "575:\tlearn: 0.5772735\ttotal: 6.16s\tremaining: 4.53s\n",
      "576:\tlearn: 0.5772245\ttotal: 6.17s\tremaining: 4.52s\n",
      "577:\tlearn: 0.5771863\ttotal: 6.18s\tremaining: 4.51s\n",
      "578:\tlearn: 0.5771397\ttotal: 6.19s\tremaining: 4.5s\n",
      "579:\tlearn: 0.5770923\ttotal: 6.2s\tremaining: 4.49s\n",
      "580:\tlearn: 0.5770443\ttotal: 6.21s\tremaining: 4.48s\n",
      "581:\tlearn: 0.5769968\ttotal: 6.22s\tremaining: 4.47s\n",
      "582:\tlearn: 0.5769470\ttotal: 6.23s\tremaining: 4.46s\n",
      "583:\tlearn: 0.5769039\ttotal: 6.24s\tremaining: 4.45s\n",
      "584:\tlearn: 0.5768642\ttotal: 6.25s\tremaining: 4.44s\n",
      "585:\tlearn: 0.5768175\ttotal: 6.26s\tremaining: 4.42s\n",
      "586:\tlearn: 0.5767697\ttotal: 6.27s\tremaining: 4.41s\n",
      "587:\tlearn: 0.5767241\ttotal: 6.28s\tremaining: 4.4s\n",
      "588:\tlearn: 0.5766804\ttotal: 6.29s\tremaining: 4.39s\n",
      "589:\tlearn: 0.5766384\ttotal: 6.3s\tremaining: 4.38s\n",
      "590:\tlearn: 0.5765911\ttotal: 6.31s\tremaining: 4.37s\n",
      "591:\tlearn: 0.5765420\ttotal: 6.32s\tremaining: 4.36s\n",
      "592:\tlearn: 0.5764960\ttotal: 6.33s\tremaining: 4.35s\n",
      "593:\tlearn: 0.5764544\ttotal: 6.34s\tremaining: 4.34s\n",
      "594:\tlearn: 0.5764087\ttotal: 6.35s\tremaining: 4.32s\n",
      "595:\tlearn: 0.5763700\ttotal: 6.36s\tremaining: 4.31s\n",
      "596:\tlearn: 0.5763320\ttotal: 6.37s\tremaining: 4.3s\n",
      "597:\tlearn: 0.5762981\ttotal: 6.38s\tremaining: 4.29s\n",
      "598:\tlearn: 0.5762579\ttotal: 6.4s\tremaining: 4.28s\n",
      "599:\tlearn: 0.5762149\ttotal: 6.41s\tremaining: 4.27s\n",
      "600:\tlearn: 0.5761759\ttotal: 6.42s\tremaining: 4.26s\n",
      "601:\tlearn: 0.5761362\ttotal: 6.42s\tremaining: 4.25s\n",
      "602:\tlearn: 0.5760948\ttotal: 6.43s\tremaining: 4.24s\n",
      "603:\tlearn: 0.5760493\ttotal: 6.45s\tremaining: 4.23s\n",
      "604:\tlearn: 0.5760087\ttotal: 6.46s\tremaining: 4.21s\n",
      "605:\tlearn: 0.5759643\ttotal: 6.46s\tremaining: 4.2s\n",
      "606:\tlearn: 0.5759181\ttotal: 6.47s\tremaining: 4.19s\n",
      "607:\tlearn: 0.5758754\ttotal: 6.49s\tremaining: 4.19s\n",
      "608:\tlearn: 0.5758307\ttotal: 6.51s\tremaining: 4.18s\n",
      "609:\tlearn: 0.5757871\ttotal: 6.53s\tremaining: 4.17s\n",
      "610:\tlearn: 0.5757542\ttotal: 6.54s\tremaining: 4.16s\n",
      "611:\tlearn: 0.5757155\ttotal: 6.55s\tremaining: 4.15s\n",
      "612:\tlearn: 0.5756766\ttotal: 6.56s\tremaining: 4.14s\n",
      "613:\tlearn: 0.5756363\ttotal: 6.57s\tremaining: 4.13s\n",
      "614:\tlearn: 0.5756009\ttotal: 6.59s\tremaining: 4.12s\n",
      "615:\tlearn: 0.5755580\ttotal: 6.6s\tremaining: 4.11s\n",
      "616:\tlearn: 0.5755187\ttotal: 6.61s\tremaining: 4.1s\n",
      "617:\tlearn: 0.5754851\ttotal: 6.63s\tremaining: 4.1s\n",
      "618:\tlearn: 0.5754416\ttotal: 6.64s\tremaining: 4.09s\n",
      "619:\tlearn: 0.5753982\ttotal: 6.66s\tremaining: 4.08s\n",
      "620:\tlearn: 0.5753564\ttotal: 6.67s\tremaining: 4.07s\n",
      "621:\tlearn: 0.5753155\ttotal: 6.68s\tremaining: 4.06s\n",
      "622:\tlearn: 0.5752740\ttotal: 6.69s\tremaining: 4.05s\n",
      "623:\tlearn: 0.5752345\ttotal: 6.71s\tremaining: 4.04s\n",
      "624:\tlearn: 0.5752019\ttotal: 6.72s\tremaining: 4.03s\n",
      "625:\tlearn: 0.5751692\ttotal: 6.73s\tremaining: 4.02s\n",
      "626:\tlearn: 0.5751295\ttotal: 6.75s\tremaining: 4.01s\n",
      "627:\tlearn: 0.5750922\ttotal: 6.76s\tremaining: 4s\n",
      "628:\tlearn: 0.5750505\ttotal: 6.77s\tremaining: 3.99s\n",
      "629:\tlearn: 0.5750130\ttotal: 6.79s\tremaining: 3.99s\n",
      "630:\tlearn: 0.5749752\ttotal: 6.8s\tremaining: 3.98s\n",
      "631:\tlearn: 0.5749352\ttotal: 6.81s\tremaining: 3.97s\n",
      "632:\tlearn: 0.5749021\ttotal: 6.82s\tremaining: 3.96s\n",
      "633:\tlearn: 0.5748599\ttotal: 6.83s\tremaining: 3.94s\n",
      "634:\tlearn: 0.5748218\ttotal: 6.84s\tremaining: 3.93s\n",
      "635:\tlearn: 0.5747805\ttotal: 6.85s\tremaining: 3.92s\n",
      "636:\tlearn: 0.5747451\ttotal: 6.86s\tremaining: 3.91s\n",
      "637:\tlearn: 0.5747100\ttotal: 6.87s\tremaining: 3.9s\n",
      "638:\tlearn: 0.5746711\ttotal: 6.88s\tremaining: 3.88s\n",
      "639:\tlearn: 0.5746387\ttotal: 6.89s\tremaining: 3.87s\n",
      "640:\tlearn: 0.5745974\ttotal: 6.9s\tremaining: 3.86s\n",
      "641:\tlearn: 0.5745626\ttotal: 6.91s\tremaining: 3.85s\n",
      "642:\tlearn: 0.5745235\ttotal: 6.91s\tremaining: 3.84s\n",
      "643:\tlearn: 0.5744826\ttotal: 6.92s\tremaining: 3.83s\n",
      "644:\tlearn: 0.5744425\ttotal: 6.93s\tremaining: 3.81s\n",
      "645:\tlearn: 0.5744024\ttotal: 6.94s\tremaining: 3.8s\n",
      "646:\tlearn: 0.5743657\ttotal: 6.95s\tremaining: 3.79s\n",
      "647:\tlearn: 0.5743325\ttotal: 6.96s\tremaining: 3.78s\n",
      "648:\tlearn: 0.5742978\ttotal: 6.97s\tremaining: 3.77s\n",
      "649:\tlearn: 0.5742657\ttotal: 6.98s\tremaining: 3.76s\n",
      "650:\tlearn: 0.5742325\ttotal: 6.99s\tremaining: 3.75s\n",
      "651:\tlearn: 0.5741956\ttotal: 7s\tremaining: 3.73s\n",
      "652:\tlearn: 0.5741608\ttotal: 7s\tremaining: 3.72s\n",
      "653:\tlearn: 0.5741289\ttotal: 7.01s\tremaining: 3.71s\n",
      "654:\tlearn: 0.5740993\ttotal: 7.03s\tremaining: 3.7s\n",
      "655:\tlearn: 0.5740655\ttotal: 7.04s\tremaining: 3.69s\n",
      "656:\tlearn: 0.5740367\ttotal: 7.04s\tremaining: 3.68s\n",
      "657:\tlearn: 0.5739980\ttotal: 7.05s\tremaining: 3.67s\n",
      "658:\tlearn: 0.5739645\ttotal: 7.06s\tremaining: 3.65s\n",
      "659:\tlearn: 0.5739261\ttotal: 7.07s\tremaining: 3.64s\n",
      "660:\tlearn: 0.5738889\ttotal: 7.08s\tremaining: 3.63s\n",
      "661:\tlearn: 0.5738586\ttotal: 7.09s\tremaining: 3.62s\n",
      "662:\tlearn: 0.5738197\ttotal: 7.1s\tremaining: 3.61s\n",
      "663:\tlearn: 0.5737833\ttotal: 7.11s\tremaining: 3.6s\n",
      "664:\tlearn: 0.5737481\ttotal: 7.12s\tremaining: 3.59s\n",
      "665:\tlearn: 0.5737100\ttotal: 7.13s\tremaining: 3.58s\n",
      "666:\tlearn: 0.5736730\ttotal: 7.14s\tremaining: 3.56s\n",
      "667:\tlearn: 0.5736400\ttotal: 7.16s\tremaining: 3.56s\n",
      "668:\tlearn: 0.5736062\ttotal: 7.17s\tremaining: 3.54s\n",
      "669:\tlearn: 0.5735678\ttotal: 7.17s\tremaining: 3.53s\n",
      "670:\tlearn: 0.5735295\ttotal: 7.18s\tremaining: 3.52s\n",
      "671:\tlearn: 0.5734939\ttotal: 7.19s\tremaining: 3.51s\n",
      "672:\tlearn: 0.5734623\ttotal: 7.2s\tremaining: 3.5s\n",
      "673:\tlearn: 0.5734252\ttotal: 7.21s\tremaining: 3.49s\n",
      "674:\tlearn: 0.5733906\ttotal: 7.22s\tremaining: 3.48s\n",
      "675:\tlearn: 0.5733574\ttotal: 7.23s\tremaining: 3.46s\n",
      "676:\tlearn: 0.5733204\ttotal: 7.24s\tremaining: 3.45s\n",
      "677:\tlearn: 0.5732861\ttotal: 7.25s\tremaining: 3.44s\n",
      "678:\tlearn: 0.5732567\ttotal: 7.26s\tremaining: 3.43s\n",
      "679:\tlearn: 0.5732273\ttotal: 7.27s\tremaining: 3.42s\n",
      "680:\tlearn: 0.5731944\ttotal: 7.28s\tremaining: 3.41s\n",
      "681:\tlearn: 0.5731606\ttotal: 7.29s\tremaining: 3.4s\n",
      "682:\tlearn: 0.5731302\ttotal: 7.29s\tremaining: 3.39s\n",
      "683:\tlearn: 0.5731007\ttotal: 7.3s\tremaining: 3.38s\n",
      "684:\tlearn: 0.5730709\ttotal: 7.31s\tremaining: 3.36s\n",
      "685:\tlearn: 0.5730355\ttotal: 7.32s\tremaining: 3.35s\n",
      "686:\tlearn: 0.5730050\ttotal: 7.33s\tremaining: 3.34s\n",
      "687:\tlearn: 0.5729754\ttotal: 7.34s\tremaining: 3.33s\n",
      "688:\tlearn: 0.5729440\ttotal: 7.35s\tremaining: 3.32s\n",
      "689:\tlearn: 0.5729076\ttotal: 7.36s\tremaining: 3.31s\n",
      "690:\tlearn: 0.5728753\ttotal: 7.37s\tremaining: 3.29s\n",
      "691:\tlearn: 0.5728437\ttotal: 7.38s\tremaining: 3.28s\n",
      "692:\tlearn: 0.5728097\ttotal: 7.39s\tremaining: 3.27s\n",
      "693:\tlearn: 0.5727794\ttotal: 7.4s\tremaining: 3.26s\n",
      "694:\tlearn: 0.5727509\ttotal: 7.41s\tremaining: 3.25s\n",
      "695:\tlearn: 0.5727206\ttotal: 7.42s\tremaining: 3.24s\n",
      "696:\tlearn: 0.5726952\ttotal: 7.42s\tremaining: 3.23s\n",
      "697:\tlearn: 0.5726652\ttotal: 7.43s\tremaining: 3.22s\n",
      "698:\tlearn: 0.5726302\ttotal: 7.44s\tremaining: 3.21s\n",
      "699:\tlearn: 0.5726057\ttotal: 7.45s\tremaining: 3.19s\n",
      "700:\tlearn: 0.5725733\ttotal: 7.46s\tremaining: 3.18s\n",
      "701:\tlearn: 0.5725383\ttotal: 7.47s\tremaining: 3.17s\n",
      "702:\tlearn: 0.5725049\ttotal: 7.48s\tremaining: 3.16s\n",
      "703:\tlearn: 0.5724709\ttotal: 7.49s\tremaining: 3.15s\n",
      "704:\tlearn: 0.5724396\ttotal: 7.5s\tremaining: 3.14s\n",
      "705:\tlearn: 0.5724098\ttotal: 7.51s\tremaining: 3.13s\n",
      "706:\tlearn: 0.5723764\ttotal: 7.52s\tremaining: 3.12s\n",
      "707:\tlearn: 0.5723425\ttotal: 7.53s\tremaining: 3.1s\n",
      "708:\tlearn: 0.5723073\ttotal: 7.54s\tremaining: 3.09s\n",
      "709:\tlearn: 0.5722719\ttotal: 7.55s\tremaining: 3.08s\n",
      "710:\tlearn: 0.5722377\ttotal: 7.55s\tremaining: 3.07s\n",
      "711:\tlearn: 0.5722034\ttotal: 7.56s\tremaining: 3.06s\n",
      "712:\tlearn: 0.5721763\ttotal: 7.57s\tremaining: 3.05s\n",
      "713:\tlearn: 0.5721534\ttotal: 7.58s\tremaining: 3.04s\n",
      "714:\tlearn: 0.5721268\ttotal: 7.59s\tremaining: 3.03s\n",
      "715:\tlearn: 0.5721032\ttotal: 7.61s\tremaining: 3.02s\n",
      "716:\tlearn: 0.5720777\ttotal: 7.62s\tremaining: 3.01s\n",
      "717:\tlearn: 0.5720439\ttotal: 7.63s\tremaining: 3s\n",
      "718:\tlearn: 0.5720207\ttotal: 7.64s\tremaining: 2.98s\n",
      "719:\tlearn: 0.5719963\ttotal: 7.65s\tremaining: 2.97s\n",
      "720:\tlearn: 0.5719712\ttotal: 7.66s\tremaining: 2.96s\n",
      "721:\tlearn: 0.5719456\ttotal: 7.67s\tremaining: 2.95s\n",
      "722:\tlearn: 0.5719187\ttotal: 7.68s\tremaining: 2.94s\n",
      "723:\tlearn: 0.5718864\ttotal: 7.69s\tremaining: 2.93s\n",
      "724:\tlearn: 0.5718564\ttotal: 7.7s\tremaining: 2.92s\n",
      "725:\tlearn: 0.5718287\ttotal: 7.71s\tremaining: 2.91s\n",
      "726:\tlearn: 0.5718043\ttotal: 7.71s\tremaining: 2.9s\n",
      "727:\tlearn: 0.5717711\ttotal: 7.72s\tremaining: 2.89s\n",
      "728:\tlearn: 0.5717408\ttotal: 7.73s\tremaining: 2.88s\n",
      "729:\tlearn: 0.5717202\ttotal: 7.74s\tremaining: 2.86s\n",
      "730:\tlearn: 0.5716888\ttotal: 7.75s\tremaining: 2.85s\n",
      "731:\tlearn: 0.5716568\ttotal: 7.76s\tremaining: 2.84s\n",
      "732:\tlearn: 0.5716288\ttotal: 7.77s\tremaining: 2.83s\n",
      "733:\tlearn: 0.5715995\ttotal: 7.78s\tremaining: 2.82s\n",
      "734:\tlearn: 0.5715665\ttotal: 7.79s\tremaining: 2.81s\n",
      "735:\tlearn: 0.5715415\ttotal: 7.8s\tremaining: 2.8s\n",
      "736:\tlearn: 0.5715132\ttotal: 7.81s\tremaining: 2.79s\n",
      "737:\tlearn: 0.5714880\ttotal: 7.82s\tremaining: 2.77s\n",
      "738:\tlearn: 0.5714568\ttotal: 7.83s\tremaining: 2.76s\n",
      "739:\tlearn: 0.5714287\ttotal: 7.83s\tremaining: 2.75s\n",
      "740:\tlearn: 0.5714039\ttotal: 7.84s\tremaining: 2.74s\n",
      "741:\tlearn: 0.5713763\ttotal: 7.85s\tremaining: 2.73s\n",
      "742:\tlearn: 0.5713434\ttotal: 7.86s\tremaining: 2.72s\n",
      "743:\tlearn: 0.5713173\ttotal: 7.87s\tremaining: 2.71s\n",
      "744:\tlearn: 0.5712897\ttotal: 7.88s\tremaining: 2.7s\n",
      "745:\tlearn: 0.5712624\ttotal: 7.89s\tremaining: 2.69s\n",
      "746:\tlearn: 0.5712361\ttotal: 7.9s\tremaining: 2.67s\n",
      "747:\tlearn: 0.5712076\ttotal: 7.91s\tremaining: 2.66s\n",
      "748:\tlearn: 0.5711780\ttotal: 7.91s\tremaining: 2.65s\n",
      "749:\tlearn: 0.5711500\ttotal: 7.92s\tremaining: 2.64s\n",
      "750:\tlearn: 0.5711228\ttotal: 7.93s\tremaining: 2.63s\n",
      "751:\tlearn: 0.5710989\ttotal: 7.94s\tremaining: 2.62s\n",
      "752:\tlearn: 0.5710734\ttotal: 7.95s\tremaining: 2.61s\n",
      "753:\tlearn: 0.5710459\ttotal: 7.96s\tremaining: 2.6s\n",
      "754:\tlearn: 0.5710220\ttotal: 7.97s\tremaining: 2.59s\n",
      "755:\tlearn: 0.5709920\ttotal: 7.98s\tremaining: 2.58s\n",
      "756:\tlearn: 0.5709634\ttotal: 7.99s\tremaining: 2.56s\n",
      "757:\tlearn: 0.5709366\ttotal: 8s\tremaining: 2.55s\n",
      "758:\tlearn: 0.5709135\ttotal: 8.01s\tremaining: 2.54s\n",
      "759:\tlearn: 0.5708846\ttotal: 8.02s\tremaining: 2.53s\n",
      "760:\tlearn: 0.5708587\ttotal: 8.03s\tremaining: 2.52s\n",
      "761:\tlearn: 0.5708334\ttotal: 8.04s\tremaining: 2.51s\n",
      "762:\tlearn: 0.5708073\ttotal: 8.04s\tremaining: 2.5s\n",
      "763:\tlearn: 0.5707859\ttotal: 8.05s\tremaining: 2.49s\n",
      "764:\tlearn: 0.5707592\ttotal: 8.06s\tremaining: 2.48s\n",
      "765:\tlearn: 0.5707357\ttotal: 8.07s\tremaining: 2.47s\n",
      "766:\tlearn: 0.5707155\ttotal: 8.09s\tremaining: 2.46s\n",
      "767:\tlearn: 0.5706897\ttotal: 8.09s\tremaining: 2.44s\n",
      "768:\tlearn: 0.5706723\ttotal: 8.11s\tremaining: 2.44s\n",
      "769:\tlearn: 0.5706490\ttotal: 8.12s\tremaining: 2.43s\n",
      "770:\tlearn: 0.5706201\ttotal: 8.13s\tremaining: 2.42s\n",
      "771:\tlearn: 0.5705938\ttotal: 8.14s\tremaining: 2.4s\n",
      "772:\tlearn: 0.5705648\ttotal: 8.15s\tremaining: 2.39s\n",
      "773:\tlearn: 0.5705363\ttotal: 8.16s\tremaining: 2.38s\n",
      "774:\tlearn: 0.5705134\ttotal: 8.17s\tremaining: 2.37s\n",
      "775:\tlearn: 0.5704852\ttotal: 8.18s\tremaining: 2.36s\n",
      "776:\tlearn: 0.5704627\ttotal: 8.19s\tremaining: 2.35s\n",
      "777:\tlearn: 0.5704405\ttotal: 8.2s\tremaining: 2.34s\n",
      "778:\tlearn: 0.5704207\ttotal: 8.21s\tremaining: 2.33s\n",
      "779:\tlearn: 0.5703972\ttotal: 8.22s\tremaining: 2.32s\n",
      "780:\tlearn: 0.5703746\ttotal: 8.23s\tremaining: 2.31s\n",
      "781:\tlearn: 0.5703475\ttotal: 8.24s\tremaining: 2.3s\n",
      "782:\tlearn: 0.5703219\ttotal: 8.25s\tremaining: 2.29s\n",
      "783:\tlearn: 0.5702937\ttotal: 8.26s\tremaining: 2.27s\n",
      "784:\tlearn: 0.5702689\ttotal: 8.26s\tremaining: 2.26s\n",
      "785:\tlearn: 0.5702468\ttotal: 8.27s\tremaining: 2.25s\n",
      "786:\tlearn: 0.5702168\ttotal: 8.28s\tremaining: 2.24s\n",
      "787:\tlearn: 0.5701881\ttotal: 8.29s\tremaining: 2.23s\n",
      "788:\tlearn: 0.5701601\ttotal: 8.3s\tremaining: 2.22s\n",
      "789:\tlearn: 0.5701415\ttotal: 8.31s\tremaining: 2.21s\n",
      "790:\tlearn: 0.5701187\ttotal: 8.32s\tremaining: 2.2s\n",
      "791:\tlearn: 0.5701005\ttotal: 8.33s\tremaining: 2.19s\n",
      "792:\tlearn: 0.5700761\ttotal: 8.34s\tremaining: 2.18s\n",
      "793:\tlearn: 0.5700499\ttotal: 8.35s\tremaining: 2.17s\n",
      "794:\tlearn: 0.5700240\ttotal: 8.36s\tremaining: 2.15s\n",
      "795:\tlearn: 0.5699964\ttotal: 8.37s\tremaining: 2.14s\n",
      "796:\tlearn: 0.5699705\ttotal: 8.38s\tremaining: 2.13s\n",
      "797:\tlearn: 0.5699434\ttotal: 8.38s\tremaining: 2.12s\n",
      "798:\tlearn: 0.5699225\ttotal: 8.39s\tremaining: 2.11s\n",
      "799:\tlearn: 0.5699022\ttotal: 8.4s\tremaining: 2.1s\n",
      "800:\tlearn: 0.5698810\ttotal: 8.41s\tremaining: 2.09s\n",
      "801:\tlearn: 0.5698600\ttotal: 8.42s\tremaining: 2.08s\n",
      "802:\tlearn: 0.5698354\ttotal: 8.43s\tremaining: 2.07s\n",
      "803:\tlearn: 0.5698124\ttotal: 8.44s\tremaining: 2.06s\n",
      "804:\tlearn: 0.5697895\ttotal: 8.45s\tremaining: 2.05s\n",
      "805:\tlearn: 0.5697669\ttotal: 8.46s\tremaining: 2.04s\n",
      "806:\tlearn: 0.5697451\ttotal: 8.47s\tremaining: 2.02s\n",
      "807:\tlearn: 0.5697169\ttotal: 8.48s\tremaining: 2.01s\n",
      "808:\tlearn: 0.5696908\ttotal: 8.49s\tremaining: 2s\n",
      "809:\tlearn: 0.5696674\ttotal: 8.5s\tremaining: 1.99s\n",
      "810:\tlearn: 0.5696423\ttotal: 8.51s\tremaining: 1.98s\n",
      "811:\tlearn: 0.5696151\ttotal: 8.52s\tremaining: 1.97s\n",
      "812:\tlearn: 0.5695908\ttotal: 8.53s\tremaining: 1.96s\n",
      "813:\tlearn: 0.5695650\ttotal: 8.53s\tremaining: 1.95s\n",
      "814:\tlearn: 0.5695471\ttotal: 8.54s\tremaining: 1.94s\n",
      "815:\tlearn: 0.5695307\ttotal: 8.56s\tremaining: 1.93s\n",
      "816:\tlearn: 0.5695135\ttotal: 8.57s\tremaining: 1.92s\n",
      "817:\tlearn: 0.5694876\ttotal: 8.58s\tremaining: 1.91s\n",
      "818:\tlearn: 0.5694668\ttotal: 8.59s\tremaining: 1.9s\n",
      "819:\tlearn: 0.5694498\ttotal: 8.6s\tremaining: 1.89s\n",
      "820:\tlearn: 0.5694257\ttotal: 8.61s\tremaining: 1.88s\n",
      "821:\tlearn: 0.5694067\ttotal: 8.62s\tremaining: 1.86s\n",
      "822:\tlearn: 0.5693798\ttotal: 8.63s\tremaining: 1.85s\n",
      "823:\tlearn: 0.5693560\ttotal: 8.63s\tremaining: 1.84s\n",
      "824:\tlearn: 0.5693333\ttotal: 8.64s\tremaining: 1.83s\n",
      "825:\tlearn: 0.5693154\ttotal: 8.66s\tremaining: 1.82s\n",
      "826:\tlearn: 0.5692910\ttotal: 8.66s\tremaining: 1.81s\n",
      "827:\tlearn: 0.5692657\ttotal: 8.67s\tremaining: 1.8s\n",
      "828:\tlearn: 0.5692460\ttotal: 8.68s\tremaining: 1.79s\n",
      "829:\tlearn: 0.5692213\ttotal: 8.69s\tremaining: 1.78s\n",
      "830:\tlearn: 0.5692015\ttotal: 8.7s\tremaining: 1.77s\n",
      "831:\tlearn: 0.5691793\ttotal: 8.71s\tremaining: 1.76s\n",
      "832:\tlearn: 0.5691546\ttotal: 8.72s\tremaining: 1.75s\n",
      "833:\tlearn: 0.5691390\ttotal: 8.73s\tremaining: 1.74s\n",
      "834:\tlearn: 0.5691174\ttotal: 8.74s\tremaining: 1.73s\n",
      "835:\tlearn: 0.5690953\ttotal: 8.75s\tremaining: 1.72s\n",
      "836:\tlearn: 0.5690711\ttotal: 8.76s\tremaining: 1.71s\n",
      "837:\tlearn: 0.5690479\ttotal: 8.77s\tremaining: 1.69s\n",
      "838:\tlearn: 0.5690278\ttotal: 8.78s\tremaining: 1.68s\n",
      "839:\tlearn: 0.5690073\ttotal: 8.79s\tremaining: 1.67s\n",
      "840:\tlearn: 0.5689872\ttotal: 8.79s\tremaining: 1.66s\n",
      "841:\tlearn: 0.5689622\ttotal: 8.8s\tremaining: 1.65s\n",
      "842:\tlearn: 0.5689397\ttotal: 8.81s\tremaining: 1.64s\n",
      "843:\tlearn: 0.5689156\ttotal: 8.82s\tremaining: 1.63s\n",
      "844:\tlearn: 0.5688954\ttotal: 8.83s\tremaining: 1.62s\n",
      "845:\tlearn: 0.5688712\ttotal: 8.84s\tremaining: 1.61s\n",
      "846:\tlearn: 0.5688496\ttotal: 8.85s\tremaining: 1.6s\n",
      "847:\tlearn: 0.5688294\ttotal: 8.86s\tremaining: 1.59s\n",
      "848:\tlearn: 0.5688090\ttotal: 8.87s\tremaining: 1.58s\n",
      "849:\tlearn: 0.5687858\ttotal: 8.88s\tremaining: 1.57s\n",
      "850:\tlearn: 0.5687625\ttotal: 8.88s\tremaining: 1.55s\n",
      "851:\tlearn: 0.5687434\ttotal: 8.89s\tremaining: 1.54s\n",
      "852:\tlearn: 0.5687221\ttotal: 8.9s\tremaining: 1.53s\n",
      "853:\tlearn: 0.5687011\ttotal: 8.91s\tremaining: 1.52s\n",
      "854:\tlearn: 0.5686846\ttotal: 8.92s\tremaining: 1.51s\n",
      "855:\tlearn: 0.5686672\ttotal: 8.93s\tremaining: 1.5s\n",
      "856:\tlearn: 0.5686503\ttotal: 8.94s\tremaining: 1.49s\n",
      "857:\tlearn: 0.5686278\ttotal: 8.95s\tremaining: 1.48s\n",
      "858:\tlearn: 0.5685999\ttotal: 8.96s\tremaining: 1.47s\n",
      "859:\tlearn: 0.5685845\ttotal: 8.97s\tremaining: 1.46s\n",
      "860:\tlearn: 0.5685612\ttotal: 8.98s\tremaining: 1.45s\n",
      "861:\tlearn: 0.5685423\ttotal: 8.99s\tremaining: 1.44s\n",
      "862:\tlearn: 0.5685248\ttotal: 9s\tremaining: 1.43s\n",
      "863:\tlearn: 0.5685061\ttotal: 9.01s\tremaining: 1.42s\n",
      "864:\tlearn: 0.5684886\ttotal: 9.02s\tremaining: 1.41s\n",
      "865:\tlearn: 0.5684706\ttotal: 9.03s\tremaining: 1.4s\n",
      "866:\tlearn: 0.5684522\ttotal: 9.04s\tremaining: 1.39s\n",
      "867:\tlearn: 0.5684302\ttotal: 9.05s\tremaining: 1.38s\n",
      "868:\tlearn: 0.5684144\ttotal: 9.06s\tremaining: 1.37s\n",
      "869:\tlearn: 0.5683895\ttotal: 9.08s\tremaining: 1.36s\n",
      "870:\tlearn: 0.5683749\ttotal: 9.09s\tremaining: 1.35s\n",
      "871:\tlearn: 0.5683567\ttotal: 9.1s\tremaining: 1.33s\n",
      "872:\tlearn: 0.5683419\ttotal: 9.11s\tremaining: 1.32s\n",
      "873:\tlearn: 0.5683224\ttotal: 9.12s\tremaining: 1.31s\n",
      "874:\tlearn: 0.5683019\ttotal: 9.13s\tremaining: 1.3s\n",
      "875:\tlearn: 0.5682853\ttotal: 9.14s\tremaining: 1.29s\n",
      "876:\tlearn: 0.5682656\ttotal: 9.15s\tremaining: 1.28s\n",
      "877:\tlearn: 0.5682444\ttotal: 9.16s\tremaining: 1.27s\n",
      "878:\tlearn: 0.5682264\ttotal: 9.17s\tremaining: 1.26s\n",
      "879:\tlearn: 0.5682045\ttotal: 9.18s\tremaining: 1.25s\n",
      "880:\tlearn: 0.5681864\ttotal: 9.19s\tremaining: 1.24s\n",
      "881:\tlearn: 0.5681678\ttotal: 9.2s\tremaining: 1.23s\n",
      "882:\tlearn: 0.5681496\ttotal: 9.21s\tremaining: 1.22s\n",
      "883:\tlearn: 0.5681320\ttotal: 9.21s\tremaining: 1.21s\n",
      "884:\tlearn: 0.5681140\ttotal: 9.22s\tremaining: 1.2s\n",
      "885:\tlearn: 0.5680914\ttotal: 9.23s\tremaining: 1.19s\n",
      "886:\tlearn: 0.5680686\ttotal: 9.24s\tremaining: 1.18s\n",
      "887:\tlearn: 0.5680442\ttotal: 9.25s\tremaining: 1.17s\n",
      "888:\tlearn: 0.5680296\ttotal: 9.26s\tremaining: 1.16s\n",
      "889:\tlearn: 0.5680096\ttotal: 9.27s\tremaining: 1.15s\n",
      "890:\tlearn: 0.5679889\ttotal: 9.28s\tremaining: 1.14s\n",
      "891:\tlearn: 0.5679749\ttotal: 9.29s\tremaining: 1.12s\n",
      "892:\tlearn: 0.5679552\ttotal: 9.3s\tremaining: 1.11s\n",
      "893:\tlearn: 0.5679405\ttotal: 9.31s\tremaining: 1.1s\n",
      "894:\tlearn: 0.5679268\ttotal: 9.32s\tremaining: 1.09s\n",
      "895:\tlearn: 0.5679053\ttotal: 9.33s\tremaining: 1.08s\n",
      "896:\tlearn: 0.5678871\ttotal: 9.34s\tremaining: 1.07s\n",
      "897:\tlearn: 0.5678699\ttotal: 9.35s\tremaining: 1.06s\n",
      "898:\tlearn: 0.5678483\ttotal: 9.36s\tremaining: 1.05s\n",
      "899:\tlearn: 0.5678301\ttotal: 9.36s\tremaining: 1.04s\n",
      "900:\tlearn: 0.5678120\ttotal: 9.37s\tremaining: 1.03s\n",
      "901:\tlearn: 0.5677937\ttotal: 9.38s\tremaining: 1.02s\n",
      "902:\tlearn: 0.5677810\ttotal: 9.39s\tremaining: 1.01s\n",
      "903:\tlearn: 0.5677652\ttotal: 9.4s\tremaining: 999ms\n",
      "904:\tlearn: 0.5677475\ttotal: 9.41s\tremaining: 988ms\n",
      "905:\tlearn: 0.5677274\ttotal: 9.42s\tremaining: 978ms\n",
      "906:\tlearn: 0.5677144\ttotal: 9.43s\tremaining: 967ms\n",
      "907:\tlearn: 0.5676991\ttotal: 9.44s\tremaining: 957ms\n",
      "908:\tlearn: 0.5676782\ttotal: 9.45s\tremaining: 946ms\n",
      "909:\tlearn: 0.5676576\ttotal: 9.46s\tremaining: 936ms\n",
      "910:\tlearn: 0.5676429\ttotal: 9.47s\tremaining: 925ms\n",
      "911:\tlearn: 0.5676261\ttotal: 9.48s\tremaining: 915ms\n",
      "912:\tlearn: 0.5676050\ttotal: 9.49s\tremaining: 905ms\n",
      "913:\tlearn: 0.5675919\ttotal: 9.5s\tremaining: 894ms\n",
      "914:\tlearn: 0.5675762\ttotal: 9.51s\tremaining: 884ms\n",
      "915:\tlearn: 0.5675618\ttotal: 9.53s\tremaining: 874ms\n",
      "916:\tlearn: 0.5675443\ttotal: 9.54s\tremaining: 863ms\n",
      "917:\tlearn: 0.5675298\ttotal: 9.54s\tremaining: 853ms\n",
      "918:\tlearn: 0.5675098\ttotal: 9.55s\tremaining: 842ms\n",
      "919:\tlearn: 0.5674917\ttotal: 9.56s\tremaining: 832ms\n",
      "920:\tlearn: 0.5674718\ttotal: 9.57s\tremaining: 821ms\n",
      "921:\tlearn: 0.5674510\ttotal: 9.58s\tremaining: 811ms\n",
      "922:\tlearn: 0.5674298\ttotal: 9.59s\tremaining: 800ms\n",
      "923:\tlearn: 0.5674156\ttotal: 9.6s\tremaining: 790ms\n",
      "924:\tlearn: 0.5673984\ttotal: 9.61s\tremaining: 779ms\n",
      "925:\tlearn: 0.5673795\ttotal: 9.62s\tremaining: 769ms\n",
      "926:\tlearn: 0.5673643\ttotal: 9.63s\tremaining: 759ms\n",
      "927:\tlearn: 0.5673513\ttotal: 9.64s\tremaining: 748ms\n",
      "928:\tlearn: 0.5673375\ttotal: 9.65s\tremaining: 738ms\n",
      "929:\tlearn: 0.5673168\ttotal: 9.66s\tremaining: 727ms\n",
      "930:\tlearn: 0.5673036\ttotal: 9.67s\tremaining: 717ms\n",
      "931:\tlearn: 0.5672862\ttotal: 9.68s\tremaining: 707ms\n",
      "932:\tlearn: 0.5672633\ttotal: 9.69s\tremaining: 696ms\n",
      "933:\tlearn: 0.5672454\ttotal: 9.7s\tremaining: 686ms\n",
      "934:\tlearn: 0.5672293\ttotal: 9.71s\tremaining: 675ms\n",
      "935:\tlearn: 0.5672098\ttotal: 9.72s\tremaining: 665ms\n",
      "936:\tlearn: 0.5671901\ttotal: 9.73s\tremaining: 654ms\n",
      "937:\tlearn: 0.5671777\ttotal: 9.74s\tremaining: 644ms\n",
      "938:\tlearn: 0.5671622\ttotal: 9.75s\tremaining: 633ms\n",
      "939:\tlearn: 0.5671496\ttotal: 9.76s\tremaining: 623ms\n",
      "940:\tlearn: 0.5671306\ttotal: 9.77s\tremaining: 612ms\n",
      "941:\tlearn: 0.5671143\ttotal: 9.78s\tremaining: 602ms\n",
      "942:\tlearn: 0.5670993\ttotal: 9.79s\tremaining: 591ms\n",
      "943:\tlearn: 0.5670862\ttotal: 9.79s\tremaining: 581ms\n",
      "944:\tlearn: 0.5670680\ttotal: 9.8s\tremaining: 571ms\n",
      "945:\tlearn: 0.5670490\ttotal: 9.81s\tremaining: 560ms\n",
      "946:\tlearn: 0.5670296\ttotal: 9.82s\tremaining: 550ms\n",
      "947:\tlearn: 0.5670161\ttotal: 9.83s\tremaining: 539ms\n",
      "948:\tlearn: 0.5670019\ttotal: 9.84s\tremaining: 529ms\n",
      "949:\tlearn: 0.5669904\ttotal: 9.85s\tremaining: 519ms\n",
      "950:\tlearn: 0.5669778\ttotal: 9.86s\tremaining: 508ms\n",
      "951:\tlearn: 0.5669648\ttotal: 9.87s\tremaining: 498ms\n",
      "952:\tlearn: 0.5669526\ttotal: 9.88s\tremaining: 487ms\n",
      "953:\tlearn: 0.5669330\ttotal: 9.89s\tremaining: 477ms\n",
      "954:\tlearn: 0.5669163\ttotal: 9.9s\tremaining: 466ms\n",
      "955:\tlearn: 0.5668956\ttotal: 9.91s\tremaining: 456ms\n",
      "956:\tlearn: 0.5668841\ttotal: 9.92s\tremaining: 446ms\n",
      "957:\tlearn: 0.5668624\ttotal: 9.93s\tremaining: 435ms\n",
      "958:\tlearn: 0.5668470\ttotal: 9.94s\tremaining: 425ms\n",
      "959:\tlearn: 0.5668262\ttotal: 9.95s\tremaining: 415ms\n",
      "960:\tlearn: 0.5668157\ttotal: 9.96s\tremaining: 404ms\n",
      "961:\tlearn: 0.5667979\ttotal: 9.97s\tremaining: 394ms\n",
      "962:\tlearn: 0.5667808\ttotal: 9.98s\tremaining: 383ms\n",
      "963:\tlearn: 0.5667652\ttotal: 9.99s\tremaining: 373ms\n",
      "964:\tlearn: 0.5667455\ttotal: 10s\tremaining: 363ms\n",
      "965:\tlearn: 0.5667341\ttotal: 10s\tremaining: 352ms\n",
      "966:\tlearn: 0.5667229\ttotal: 10s\tremaining: 342ms\n",
      "967:\tlearn: 0.5667079\ttotal: 10s\tremaining: 332ms\n",
      "968:\tlearn: 0.5666923\ttotal: 10s\tremaining: 321ms\n",
      "969:\tlearn: 0.5666704\ttotal: 10.1s\tremaining: 311ms\n",
      "970:\tlearn: 0.5666591\ttotal: 10.1s\tremaining: 301ms\n",
      "971:\tlearn: 0.5666475\ttotal: 10.1s\tremaining: 290ms\n",
      "972:\tlearn: 0.5666331\ttotal: 10.1s\tremaining: 280ms\n",
      "973:\tlearn: 0.5666188\ttotal: 10.1s\tremaining: 270ms\n",
      "974:\tlearn: 0.5666039\ttotal: 10.1s\tremaining: 259ms\n",
      "975:\tlearn: 0.5665921\ttotal: 10.1s\tremaining: 249ms\n",
      "976:\tlearn: 0.5665818\ttotal: 10.1s\tremaining: 239ms\n",
      "977:\tlearn: 0.5665659\ttotal: 10.1s\tremaining: 228ms\n",
      "978:\tlearn: 0.5665487\ttotal: 10.2s\tremaining: 218ms\n",
      "979:\tlearn: 0.5665308\ttotal: 10.2s\tremaining: 207ms\n",
      "980:\tlearn: 0.5665141\ttotal: 10.2s\tremaining: 197ms\n",
      "981:\tlearn: 0.5665001\ttotal: 10.2s\tremaining: 187ms\n",
      "982:\tlearn: 0.5664890\ttotal: 10.2s\tremaining: 176ms\n",
      "983:\tlearn: 0.5664759\ttotal: 10.2s\tremaining: 166ms\n",
      "984:\tlearn: 0.5664598\ttotal: 10.2s\tremaining: 156ms\n",
      "985:\tlearn: 0.5664431\ttotal: 10.2s\tremaining: 145ms\n",
      "986:\tlearn: 0.5664304\ttotal: 10.2s\tremaining: 135ms\n",
      "987:\tlearn: 0.5664118\ttotal: 10.2s\tremaining: 124ms\n",
      "988:\tlearn: 0.5663942\ttotal: 10.3s\tremaining: 114ms\n",
      "989:\tlearn: 0.5663804\ttotal: 10.3s\tremaining: 104ms\n",
      "990:\tlearn: 0.5663698\ttotal: 10.3s\tremaining: 93.3ms\n",
      "991:\tlearn: 0.5663555\ttotal: 10.3s\tremaining: 83ms\n",
      "992:\tlearn: 0.5663373\ttotal: 10.3s\tremaining: 72.6ms\n",
      "993:\tlearn: 0.5663233\ttotal: 10.3s\tremaining: 62.2ms\n",
      "994:\tlearn: 0.5663044\ttotal: 10.3s\tremaining: 51.8ms\n",
      "995:\tlearn: 0.5662908\ttotal: 10.3s\tremaining: 41.5ms\n",
      "996:\tlearn: 0.5662694\ttotal: 10.3s\tremaining: 31.1ms\n",
      "997:\tlearn: 0.5662577\ttotal: 10.3s\tremaining: 20.7ms\n",
      "998:\tlearn: 0.5662455\ttotal: 10.4s\tremaining: 10.4ms\n",
      "999:\tlearn: 0.5662257\ttotal: 10.4s\tremaining: 0us\n",
      "{'nan_mode': 'Min', 'gpu_ram_part': 0.95, 'eval_metric': 'Logloss', 'iterations': 1000, 'leaf_estimation_method': 'Newton', 'observations_to_bootstrap': 'TestOnly', 'grow_policy': 'SymmetricTree', 'boosting_type': 'Plain', 'feature_border_type': 'GreedyLogSum', 'bayesian_matrix_reg': 0.10000000149011612, 'devices': '-1', 'pinned_memory_bytes': '104857600', 'l2_leaf_reg': 3, 'random_strength': 1, 'rsm': 1, 'boost_from_average': False, 'gpu_cat_features_storage': 'GpuRam', 'fold_size_loss_normalization': False, 'model_size_reg': 0.5, 'pool_metainfo_options': {'tags': {}}, 'use_best_model': False, 'meta_l2_frequency': 0, 'class_names': [0, 1], 'random_seed': 42, 'depth': 6, 'border_count': 128, 'min_fold_size': 100, 'data_partition': 'DocParallel', 'bagging_temperature': 1, 'classes_count': 0, 'auto_class_weights': 'None', 'leaf_estimation_backtracking': 'AnyImprovement', 'best_model_min_trees': 1, 'min_data_in_leaf': 1, 'add_ridge_penalty_to_loss_function': False, 'loss_function': 'Logloss', 'learning_rate': 0.023395000025629997, 'meta_l2_exponent': 1, 'score_function': 'Cosine', 'task_type': 'GPU', 'leaf_estimation_iterations': 10, 'bootstrap_type': 'Bayesian', 'max_leaves': 64}\n",
      "Valid log-loss is 8.778831645154275\n",
      "Valid AUC is 0.745751952735699\n"
     ]
    },
    {
     "data": {
      "text/html": [
       "<br/>Waiting for W&B process to finish, PID 804798<br/>Program ended successfully."
      ],
      "text/plain": [
       "<IPython.core.display.HTML object>"
      ]
     },
     "metadata": {},
     "output_type": "display_data"
    },
    {
     "data": {
      "application/vnd.jupyter.widget-view+json": {
       "model_id": "",
       "version_major": 2,
       "version_minor": 0
      },
      "text/plain": [
       "VBox(children=(Label(value=' 0.22MB of 0.22MB uploaded (0.00MB deduped)\\r'), FloatProgress(value=1.0, max=1.0)…"
      ]
     },
     "metadata": {},
     "output_type": "display_data"
    },
    {
     "data": {
      "text/html": [
       "Find user logs for this run at: <code>/home/sf/Dropbox/code_cloud/python_code/kaggle/tabular_playgrounds/sep2021/wandb/run-20210905_123825-2zlcutig/logs/debug.log</code>"
      ],
      "text/plain": [
       "<IPython.core.display.HTML object>"
      ]
     },
     "metadata": {},
     "output_type": "display_data"
    },
    {
     "data": {
      "text/html": [
       "Find internal logs for this run at: <code>/home/sf/Dropbox/code_cloud/python_code/kaggle/tabular_playgrounds/sep2021/wandb/run-20210905_123825-2zlcutig/logs/debug-internal.log</code>"
      ],
      "text/plain": [
       "<IPython.core.display.HTML object>"
      ]
     },
     "metadata": {},
     "output_type": "display_data"
    },
    {
     "data": {
      "text/html": [
       "<h3>Run summary:</h3><br/><style>\n",
       "    table.wandb td:nth-child(1) { padding: 0 10px; text-align: right }\n",
       "    </style><table class=\"wandb\">\n",
       "<tr><td>train_loss</td><td>8.71714</td></tr><tr><td>train_auc</td><td>0.74756</td></tr><tr><td>_runtime</td><td>19</td></tr><tr><td>_timestamp</td><td>1630870724</td></tr><tr><td>_step</td><td>2</td></tr><tr><td>nan_mode</td><td>Min</td></tr><tr><td>gpu_ram_part</td><td>0.95</td></tr><tr><td>eval_metric</td><td>Logloss</td></tr><tr><td>iterations</td><td>1000</td></tr><tr><td>leaf_estimation_method</td><td>Newton</td></tr><tr><td>observations_to_bootstrap</td><td>TestOnly</td></tr><tr><td>grow_policy</td><td>SymmetricTree</td></tr><tr><td>boosting_type</td><td>Plain</td></tr><tr><td>feature_border_type</td><td>GreedyLogSum</td></tr><tr><td>bayesian_matrix_reg</td><td>0.1</td></tr><tr><td>devices</td><td>-1</td></tr><tr><td>pinned_memory_bytes</td><td>104857600</td></tr><tr><td>l2_leaf_reg</td><td>3</td></tr><tr><td>random_strength</td><td>1</td></tr><tr><td>rsm</td><td>1</td></tr><tr><td>boost_from_average</td><td>False</td></tr><tr><td>gpu_cat_features_storage</td><td>GpuRam</td></tr><tr><td>fold_size_loss_normalization</td><td>False</td></tr><tr><td>model_size_reg</td><td>0.5</td></tr><tr><td>use_best_model</td><td>False</td></tr><tr><td>meta_l2_frequency</td><td>0</td></tr><tr><td>random_seed</td><td>42</td></tr><tr><td>depth</td><td>6</td></tr><tr><td>border_count</td><td>128</td></tr><tr><td>min_fold_size</td><td>100</td></tr><tr><td>data_partition</td><td>DocParallel</td></tr><tr><td>bagging_temperature</td><td>1</td></tr><tr><td>classes_count</td><td>0</td></tr><tr><td>auto_class_weights</td><td>None</td></tr><tr><td>leaf_estimation_backtracking</td><td>AnyImprovement</td></tr><tr><td>best_model_min_trees</td><td>1</td></tr><tr><td>min_data_in_leaf</td><td>1</td></tr><tr><td>add_ridge_penalty_to_loss_function</td><td>False</td></tr><tr><td>loss_function</td><td>Logloss</td></tr><tr><td>learning_rate</td><td>0.0234</td></tr><tr><td>meta_l2_exponent</td><td>1</td></tr><tr><td>score_function</td><td>Cosine</td></tr><tr><td>task_type</td><td>GPU</td></tr><tr><td>leaf_estimation_iterations</td><td>10</td></tr><tr><td>bootstrap_type</td><td>Bayesian</td></tr><tr><td>max_leaves</td><td>64</td></tr><tr><td>valid_loss</td><td>8.77883</td></tr><tr><td>valid_auc</td><td>0.74575</td></tr></table>"
      ],
      "text/plain": [
       "<IPython.core.display.HTML object>"
      ]
     },
     "metadata": {},
     "output_type": "display_data"
    },
    {
     "data": {
      "text/html": [
       "<h3>Run history:</h3><br/><style>\n",
       "    table.wandb td:nth-child(1) { padding: 0 10px; text-align: right }\n",
       "    </style><table class=\"wandb\">\n",
       "<tr><td>train_loss</td><td>▁</td></tr><tr><td>train_auc</td><td>▁</td></tr><tr><td>_runtime</td><td>▁▁█</td></tr><tr><td>_timestamp</td><td>▁▁█</td></tr><tr><td>_step</td><td>▁▅█</td></tr><tr><td>gpu_ram_part</td><td>▁</td></tr><tr><td>iterations</td><td>▁</td></tr><tr><td>bayesian_matrix_reg</td><td>▁</td></tr><tr><td>l2_leaf_reg</td><td>▁</td></tr><tr><td>random_strength</td><td>▁</td></tr><tr><td>rsm</td><td>▁</td></tr><tr><td>boost_from_average</td><td>▁</td></tr><tr><td>fold_size_loss_normalization</td><td>▁</td></tr><tr><td>model_size_reg</td><td>▁</td></tr><tr><td>use_best_model</td><td>▁</td></tr><tr><td>meta_l2_frequency</td><td>▁</td></tr><tr><td>random_seed</td><td>▁</td></tr><tr><td>depth</td><td>▁</td></tr><tr><td>border_count</td><td>▁</td></tr><tr><td>min_fold_size</td><td>▁</td></tr><tr><td>bagging_temperature</td><td>▁</td></tr><tr><td>classes_count</td><td>▁</td></tr><tr><td>best_model_min_trees</td><td>▁</td></tr><tr><td>min_data_in_leaf</td><td>▁</td></tr><tr><td>add_ridge_penalty_to_loss_function</td><td>▁</td></tr><tr><td>learning_rate</td><td>▁</td></tr><tr><td>meta_l2_exponent</td><td>▁</td></tr><tr><td>leaf_estimation_iterations</td><td>▁</td></tr><tr><td>max_leaves</td><td>▁</td></tr><tr><td>valid_loss</td><td>▁</td></tr><tr><td>valid_auc</td><td>▁</td></tr></table><br/>"
      ],
      "text/plain": [
       "<IPython.core.display.HTML object>"
      ]
     },
     "metadata": {},
     "output_type": "display_data"
    },
    {
     "data": {
      "text/html": [
       "Synced 6 W&B file(s), 0 media file(s), 2 artifact file(s) and 1 other file(s)"
      ],
      "text/plain": [
       "<IPython.core.display.HTML object>"
      ]
     },
     "metadata": {},
     "output_type": "display_data"
    },
    {
     "data": {
      "text/html": [
       "\n",
       "                    <br/>Synced <strong style=\"color:#cdcd00\">baseline_20210905_122637</strong>: <a href=\"https://wandb.ai/hushifang/202109_Kaggle_tabular_playground/runs/2zlcutig\" target=\"_blank\">https://wandb.ai/hushifang/202109_Kaggle_tabular_playground/runs/2zlcutig</a><br/>\n",
       "                "
      ],
      "text/plain": [
       "<IPython.core.display.HTML object>"
      ]
     },
     "metadata": {},
     "output_type": "display_data"
    }
   ],
   "source": [
    "gpu_available = True\n",
    "exmodel_config['library'] = 'catboost'\n",
    "model_config = model_configurator('catboost')\n",
    "cross_validation(model_config)"
   ]
  },
  {
   "cell_type": "markdown",
   "id": "0ae0333a-b1cb-45bd-adc2-e6563ae31770",
   "metadata": {},
   "source": [
    "# K-fold Cross-validation"
   ]
  },
  {
   "cell_type": "code",
   "execution_count": null,
   "id": "c620e090-0d15-4e14-96a6-07322b99c6d6",
   "metadata": {},
   "outputs": [],
   "source": []
  },
  {
   "cell_type": "code",
   "execution_count": 15,
   "id": "8a17679c-152f-4aff-a1dd-d09ab727ec44",
   "metadata": {},
   "outputs": [],
   "source": [
    "# ACTUALLY probably better to save those as pickles or .npy files; I'll generate them later, regardless\n",
    "# results = {} # for storing k-fold models' predictions"
   ]
  },
  {
   "cell_type": "code",
   "execution_count": 16,
   "id": "dd996d02-2530-4a40-84ec-01f8cde635da",
   "metadata": {},
   "outputs": [],
   "source": [
    "kfold = KFold(n_splits=config['k_folds'], shuffle=True, random_state=config['random_state'])"
   ]
  },
  {
   "cell_type": "code",
   "execution_count": 18,
   "id": "5e75f832-d012-4021-9628-984209569b40",
   "metadata": {},
   "outputs": [],
   "source": [
    "models = {}"
   ]
  },
  {
   "cell_type": "code",
   "execution_count": 19,
   "id": "529afca9-85db-4499-a909-089fb2f10899",
   "metadata": {},
   "outputs": [],
   "source": [
    "model_path = Path(f\"./models/{config_run['name']}_{config['k_folds']}folds/\")\n",
    "(model_path).mkdir(exist_ok=True)"
   ]
  },
  {
   "cell_type": "code",
   "execution_count": 20,
   "id": "81b675b9-3eef-4546-a638-0418ce991653",
   "metadata": {
    "collapsed": true,
    "jupyter": {
     "outputs_hidden": true
    },
    "tags": []
   },
   "outputs": [
    {
     "name": "stderr",
     "output_type": "stream",
     "text": [
      "\u001b[34m\u001b[1mwandb\u001b[0m: \u001b[33mWARNING\u001b[0m WANDB_NOTEBOOK_NAME should be a path to a notebook file, couldn't find XGBoost_ensemble_20210831_no_feature_gen.ipynb\n"
     ]
    },
    {
     "name": "stdout",
     "output_type": "stream",
     "text": [
      "FOLD 0\n",
      "-----------------------------------------\n"
     ]
    },
    {
     "name": "stderr",
     "output_type": "stream",
     "text": [
      "\u001b[34m\u001b[1mwandb\u001b[0m: Currently logged in as: \u001b[33mhushifang\u001b[0m (use `wandb login --relogin` to force relogin)\n",
      "\u001b[34m\u001b[1mwandb\u001b[0m: wandb version 0.12.1 is available!  To upgrade, please run:\n",
      "\u001b[34m\u001b[1mwandb\u001b[0m:  $ pip install wandb --upgrade\n"
     ]
    },
    {
     "data": {
      "text/html": [
       "\n",
       "                Tracking run with wandb version 0.12.0<br/>\n",
       "                Syncing run <strong style=\"color:#cdcd00\">XGBoost_ensemble_20210831_no_feature_gen_094441</strong> to <a href=\"https://wandb.ai\" target=\"_blank\">Weights & Biases</a> <a href=\"https://docs.wandb.com/integrations/jupyter.html\" target=\"_blank\">(Documentation)</a>.<br/>\n",
       "                Project page: <a href=\"https://wandb.ai/hushifang/202108_Kaggle_tabular_playground\" target=\"_blank\">https://wandb.ai/hushifang/202108_Kaggle_tabular_playground</a><br/>\n",
       "                Run page: <a href=\"https://wandb.ai/hushifang/202108_Kaggle_tabular_playground/runs/8tgmhqf1\" target=\"_blank\">https://wandb.ai/hushifang/202108_Kaggle_tabular_playground/runs/8tgmhqf1</a><br/>\n",
       "                Run data is saved locally in <code>/home/sf/Dropbox/code_cloud/python_code/kaggle/tabular_playgrounds/aug2021/wandb/run-20210831_094442-8tgmhqf1</code><br/><br/>\n",
       "            "
      ],
      "text/plain": [
       "<IPython.core.display.HTML object>"
      ]
     },
     "metadata": {},
     "output_type": "display_data"
    },
    {
     "name": "stderr",
     "output_type": "stream",
     "text": [
      "/home/sf/anaconda3/envs/tabular/lib/python3.8/site-packages/xgboost/training.py:17: UserWarning: Old style callback is deprecated.  See: https://xgboost.readthedocs.io/en/latest/python/callbacks.html\n",
      "  warnings.warn(f'Old style callback is deprecated.  See: {link}', UserWarning)\n"
     ]
    },
    {
     "name": "stdout",
     "output_type": "stream",
     "text": [
      "MSE is 61.33193748555472\n",
      "RMSE is 7.83147096563313\n"
     ]
    },
    {
     "data": {
      "text/html": [
       "<br/>Waiting for W&B process to finish, PID 493223<br/>Program ended successfully."
      ],
      "text/plain": [
       "<IPython.core.display.HTML object>"
      ]
     },
     "metadata": {},
     "output_type": "display_data"
    },
    {
     "data": {
      "application/vnd.jupyter.widget-view+json": {
       "model_id": "",
       "version_major": 2,
       "version_minor": 0
      },
      "text/plain": [
       "VBox(children=(Label(value=' 0.00MB of 0.00MB uploaded (0.00MB deduped)\\r'), FloatProgress(value=1.0, max=1.0)…"
      ]
     },
     "metadata": {},
     "output_type": "display_data"
    },
    {
     "data": {
      "text/html": [
       "Find user logs for this run at: <code>/home/sf/Dropbox/code_cloud/python_code/kaggle/tabular_playgrounds/aug2021/wandb/run-20210831_094442-8tgmhqf1/logs/debug.log</code>"
      ],
      "text/plain": [
       "<IPython.core.display.HTML object>"
      ]
     },
     "metadata": {},
     "output_type": "display_data"
    },
    {
     "data": {
      "text/html": [
       "Find internal logs for this run at: <code>/home/sf/Dropbox/code_cloud/python_code/kaggle/tabular_playgrounds/aug2021/wandb/run-20210831_094442-8tgmhqf1/logs/debug-internal.log</code>"
      ],
      "text/plain": [
       "<IPython.core.display.HTML object>"
      ]
     },
     "metadata": {},
     "output_type": "display_data"
    },
    {
     "data": {
      "text/html": [
       "<h3>Run summary:</h3><br/><style>\n",
       "    table.wandb td:nth-child(1) { padding: 0 10px; text-align: right }\n",
       "    </style><table class=\"wandb\">\n",
       "<tr><td>mse</td><td>61.33194</td></tr><tr><td>rmse</td><td>7.83147</td></tr><tr><td>_runtime</td><td>1591</td></tr><tr><td>_timestamp</td><td>1630429873</td></tr><tr><td>_step</td><td>401</td></tr><tr><td>fold</td><td>0</td></tr></table>"
      ],
      "text/plain": [
       "<IPython.core.display.HTML object>"
      ]
     },
     "metadata": {},
     "output_type": "display_data"
    },
    {
     "data": {
      "text/html": [
       "<h3>Run history:</h3><br/><style>\n",
       "    table.wandb td:nth-child(1) { padding: 0 10px; text-align: right }\n",
       "    </style><table class=\"wandb\">\n",
       "<tr><td>mse</td><td>▁</td></tr><tr><td>rmse</td><td>▁</td></tr><tr><td>_runtime</td><td>▁▁</td></tr><tr><td>_timestamp</td><td>▁▁</td></tr><tr><td>_step</td><td>▁█</td></tr><tr><td>fold</td><td>▁</td></tr></table><br/>"
      ],
      "text/plain": [
       "<IPython.core.display.HTML object>"
      ]
     },
     "metadata": {},
     "output_type": "display_data"
    },
    {
     "data": {
      "text/html": [
       "Synced 6 W&B file(s), 0 media file(s), 0 artifact file(s) and 1 other file(s)"
      ],
      "text/plain": [
       "<IPython.core.display.HTML object>"
      ]
     },
     "metadata": {},
     "output_type": "display_data"
    },
    {
     "data": {
      "text/html": [
       "\n",
       "                    <br/>Synced <strong style=\"color:#cdcd00\">XGBoost_ensemble_20210831_no_feature_gen_094441</strong>: <a href=\"https://wandb.ai/hushifang/202108_Kaggle_tabular_playground/runs/8tgmhqf1\" target=\"_blank\">https://wandb.ai/hushifang/202108_Kaggle_tabular_playground/runs/8tgmhqf1</a><br/>\n",
       "                "
      ],
      "text/plain": [
       "<IPython.core.display.HTML object>"
      ]
     },
     "metadata": {},
     "output_type": "display_data"
    },
    {
     "name": "stdout",
     "output_type": "stream",
     "text": [
      "FOLD 1\n",
      "-----------------------------------------\n"
     ]
    },
    {
     "name": "stderr",
     "output_type": "stream",
     "text": [
      "\u001b[34m\u001b[1mwandb\u001b[0m: wandb version 0.12.1 is available!  To upgrade, please run:\n",
      "\u001b[34m\u001b[1mwandb\u001b[0m:  $ pip install wandb --upgrade\n"
     ]
    },
    {
     "data": {
      "text/html": [
       "\n",
       "                Tracking run with wandb version 0.12.0<br/>\n",
       "                Syncing run <strong style=\"color:#cdcd00\">XGBoost_ensemble_20210831_no_feature_gen_094441</strong> to <a href=\"https://wandb.ai\" target=\"_blank\">Weights & Biases</a> <a href=\"https://docs.wandb.com/integrations/jupyter.html\" target=\"_blank\">(Documentation)</a>.<br/>\n",
       "                Project page: <a href=\"https://wandb.ai/hushifang/202108_Kaggle_tabular_playground\" target=\"_blank\">https://wandb.ai/hushifang/202108_Kaggle_tabular_playground</a><br/>\n",
       "                Run page: <a href=\"https://wandb.ai/hushifang/202108_Kaggle_tabular_playground/runs/oi91peop\" target=\"_blank\">https://wandb.ai/hushifang/202108_Kaggle_tabular_playground/runs/oi91peop</a><br/>\n",
       "                Run data is saved locally in <code>/home/sf/Dropbox/code_cloud/python_code/kaggle/tabular_playgrounds/aug2021/wandb/run-20210831_101118-oi91peop</code><br/><br/>\n",
       "            "
      ],
      "text/plain": [
       "<IPython.core.display.HTML object>"
      ]
     },
     "metadata": {},
     "output_type": "display_data"
    },
    {
     "name": "stderr",
     "output_type": "stream",
     "text": [
      "/home/sf/anaconda3/envs/tabular/lib/python3.8/site-packages/xgboost/training.py:17: UserWarning: Old style callback is deprecated.  See: https://xgboost.readthedocs.io/en/latest/python/callbacks.html\n",
      "  warnings.warn(f'Old style callback is deprecated.  See: {link}', UserWarning)\n"
     ]
    },
    {
     "name": "stdout",
     "output_type": "stream",
     "text": [
      "MSE is 62.24235031226011\n",
      "RMSE is 7.889382124872651\n"
     ]
    },
    {
     "data": {
      "text/html": [
       "<br/>Waiting for W&B process to finish, PID 493899<br/>Program ended successfully."
      ],
      "text/plain": [
       "<IPython.core.display.HTML object>"
      ]
     },
     "metadata": {},
     "output_type": "display_data"
    },
    {
     "data": {
      "application/vnd.jupyter.widget-view+json": {
       "model_id": "",
       "version_major": 2,
       "version_minor": 0
      },
      "text/plain": [
       "VBox(children=(Label(value=' 0.00MB of 0.00MB uploaded (0.00MB deduped)\\r'), FloatProgress(value=1.0, max=1.0)…"
      ]
     },
     "metadata": {},
     "output_type": "display_data"
    },
    {
     "data": {
      "text/html": [
       "Find user logs for this run at: <code>/home/sf/Dropbox/code_cloud/python_code/kaggle/tabular_playgrounds/aug2021/wandb/run-20210831_101118-oi91peop/logs/debug.log</code>"
      ],
      "text/plain": [
       "<IPython.core.display.HTML object>"
      ]
     },
     "metadata": {},
     "output_type": "display_data"
    },
    {
     "data": {
      "text/html": [
       "Find internal logs for this run at: <code>/home/sf/Dropbox/code_cloud/python_code/kaggle/tabular_playgrounds/aug2021/wandb/run-20210831_101118-oi91peop/logs/debug-internal.log</code>"
      ],
      "text/plain": [
       "<IPython.core.display.HTML object>"
      ]
     },
     "metadata": {},
     "output_type": "display_data"
    },
    {
     "data": {
      "text/html": [
       "<h3>Run summary:</h3><br/><style>\n",
       "    table.wandb td:nth-child(1) { padding: 0 10px; text-align: right }\n",
       "    </style><table class=\"wandb\">\n",
       "<tr><td>mse</td><td>62.24235</td></tr><tr><td>rmse</td><td>7.88938</td></tr><tr><td>_runtime</td><td>1539</td></tr><tr><td>_timestamp</td><td>1630431417</td></tr><tr><td>_step</td><td>401</td></tr><tr><td>fold</td><td>1</td></tr></table>"
      ],
      "text/plain": [
       "<IPython.core.display.HTML object>"
      ]
     },
     "metadata": {},
     "output_type": "display_data"
    },
    {
     "data": {
      "text/html": [
       "<h3>Run history:</h3><br/><style>\n",
       "    table.wandb td:nth-child(1) { padding: 0 10px; text-align: right }\n",
       "    </style><table class=\"wandb\">\n",
       "<tr><td>mse</td><td>▁</td></tr><tr><td>rmse</td><td>▁</td></tr><tr><td>_runtime</td><td>▁▁</td></tr><tr><td>_timestamp</td><td>▁▁</td></tr><tr><td>_step</td><td>▁█</td></tr><tr><td>fold</td><td>▁</td></tr></table><br/>"
      ],
      "text/plain": [
       "<IPython.core.display.HTML object>"
      ]
     },
     "metadata": {},
     "output_type": "display_data"
    },
    {
     "data": {
      "text/html": [
       "Synced 6 W&B file(s), 0 media file(s), 0 artifact file(s) and 1 other file(s)"
      ],
      "text/plain": [
       "<IPython.core.display.HTML object>"
      ]
     },
     "metadata": {},
     "output_type": "display_data"
    },
    {
     "data": {
      "text/html": [
       "\n",
       "                    <br/>Synced <strong style=\"color:#cdcd00\">XGBoost_ensemble_20210831_no_feature_gen_094441</strong>: <a href=\"https://wandb.ai/hushifang/202108_Kaggle_tabular_playground/runs/oi91peop\" target=\"_blank\">https://wandb.ai/hushifang/202108_Kaggle_tabular_playground/runs/oi91peop</a><br/>\n",
       "                "
      ],
      "text/plain": [
       "<IPython.core.display.HTML object>"
      ]
     },
     "metadata": {},
     "output_type": "display_data"
    },
    {
     "name": "stdout",
     "output_type": "stream",
     "text": [
      "FOLD 2\n",
      "-----------------------------------------\n"
     ]
    },
    {
     "name": "stderr",
     "output_type": "stream",
     "text": [
      "\u001b[34m\u001b[1mwandb\u001b[0m: wandb version 0.12.1 is available!  To upgrade, please run:\n",
      "\u001b[34m\u001b[1mwandb\u001b[0m:  $ pip install wandb --upgrade\n"
     ]
    },
    {
     "data": {
      "text/html": [
       "\n",
       "                Tracking run with wandb version 0.12.0<br/>\n",
       "                Syncing run <strong style=\"color:#cdcd00\">XGBoost_ensemble_20210831_no_feature_gen_094441</strong> to <a href=\"https://wandb.ai\" target=\"_blank\">Weights & Biases</a> <a href=\"https://docs.wandb.com/integrations/jupyter.html\" target=\"_blank\">(Documentation)</a>.<br/>\n",
       "                Project page: <a href=\"https://wandb.ai/hushifang/202108_Kaggle_tabular_playground\" target=\"_blank\">https://wandb.ai/hushifang/202108_Kaggle_tabular_playground</a><br/>\n",
       "                Run page: <a href=\"https://wandb.ai/hushifang/202108_Kaggle_tabular_playground/runs/2597ytpa\" target=\"_blank\">https://wandb.ai/hushifang/202108_Kaggle_tabular_playground/runs/2597ytpa</a><br/>\n",
       "                Run data is saved locally in <code>/home/sf/Dropbox/code_cloud/python_code/kaggle/tabular_playgrounds/aug2021/wandb/run-20210831_103701-2597ytpa</code><br/><br/>\n",
       "            "
      ],
      "text/plain": [
       "<IPython.core.display.HTML object>"
      ]
     },
     "metadata": {},
     "output_type": "display_data"
    },
    {
     "name": "stderr",
     "output_type": "stream",
     "text": [
      "/home/sf/anaconda3/envs/tabular/lib/python3.8/site-packages/xgboost/training.py:17: UserWarning: Old style callback is deprecated.  See: https://xgboost.readthedocs.io/en/latest/python/callbacks.html\n",
      "  warnings.warn(f'Old style callback is deprecated.  See: {link}', UserWarning)\n"
     ]
    },
    {
     "name": "stdout",
     "output_type": "stream",
     "text": [
      "MSE is 61.81231376886642\n",
      "RMSE is 7.862080753138218\n"
     ]
    },
    {
     "data": {
      "text/html": [
       "<br/>Waiting for W&B process to finish, PID 494220<br/>Program ended successfully."
      ],
      "text/plain": [
       "<IPython.core.display.HTML object>"
      ]
     },
     "metadata": {},
     "output_type": "display_data"
    },
    {
     "data": {
      "application/vnd.jupyter.widget-view+json": {
       "model_id": "",
       "version_major": 2,
       "version_minor": 0
      },
      "text/plain": [
       "VBox(children=(Label(value=' 0.00MB of 0.00MB uploaded (0.00MB deduped)\\r'), FloatProgress(value=1.0, max=1.0)…"
      ]
     },
     "metadata": {},
     "output_type": "display_data"
    },
    {
     "data": {
      "text/html": [
       "Find user logs for this run at: <code>/home/sf/Dropbox/code_cloud/python_code/kaggle/tabular_playgrounds/aug2021/wandb/run-20210831_103701-2597ytpa/logs/debug.log</code>"
      ],
      "text/plain": [
       "<IPython.core.display.HTML object>"
      ]
     },
     "metadata": {},
     "output_type": "display_data"
    },
    {
     "data": {
      "text/html": [
       "Find internal logs for this run at: <code>/home/sf/Dropbox/code_cloud/python_code/kaggle/tabular_playgrounds/aug2021/wandb/run-20210831_103701-2597ytpa/logs/debug-internal.log</code>"
      ],
      "text/plain": [
       "<IPython.core.display.HTML object>"
      ]
     },
     "metadata": {},
     "output_type": "display_data"
    },
    {
     "data": {
      "text/html": [
       "<h3>Run summary:</h3><br/><style>\n",
       "    table.wandb td:nth-child(1) { padding: 0 10px; text-align: right }\n",
       "    </style><table class=\"wandb\">\n",
       "<tr><td>mse</td><td>61.81231</td></tr><tr><td>rmse</td><td>7.86208</td></tr><tr><td>_runtime</td><td>1551</td></tr><tr><td>_timestamp</td><td>1630432972</td></tr><tr><td>_step</td><td>401</td></tr><tr><td>fold</td><td>2</td></tr></table>"
      ],
      "text/plain": [
       "<IPython.core.display.HTML object>"
      ]
     },
     "metadata": {},
     "output_type": "display_data"
    },
    {
     "data": {
      "text/html": [
       "<h3>Run history:</h3><br/><style>\n",
       "    table.wandb td:nth-child(1) { padding: 0 10px; text-align: right }\n",
       "    </style><table class=\"wandb\">\n",
       "<tr><td>mse</td><td>▁</td></tr><tr><td>rmse</td><td>▁</td></tr><tr><td>_runtime</td><td>▁▁</td></tr><tr><td>_timestamp</td><td>▁▁</td></tr><tr><td>_step</td><td>▁█</td></tr><tr><td>fold</td><td>▁</td></tr></table><br/>"
      ],
      "text/plain": [
       "<IPython.core.display.HTML object>"
      ]
     },
     "metadata": {},
     "output_type": "display_data"
    },
    {
     "data": {
      "text/html": [
       "Synced 6 W&B file(s), 0 media file(s), 0 artifact file(s) and 1 other file(s)"
      ],
      "text/plain": [
       "<IPython.core.display.HTML object>"
      ]
     },
     "metadata": {},
     "output_type": "display_data"
    },
    {
     "data": {
      "text/html": [
       "\n",
       "                    <br/>Synced <strong style=\"color:#cdcd00\">XGBoost_ensemble_20210831_no_feature_gen_094441</strong>: <a href=\"https://wandb.ai/hushifang/202108_Kaggle_tabular_playground/runs/2597ytpa\" target=\"_blank\">https://wandb.ai/hushifang/202108_Kaggle_tabular_playground/runs/2597ytpa</a><br/>\n",
       "                "
      ],
      "text/plain": [
       "<IPython.core.display.HTML object>"
      ]
     },
     "metadata": {},
     "output_type": "display_data"
    },
    {
     "name": "stdout",
     "output_type": "stream",
     "text": [
      "FOLD 3\n",
      "-----------------------------------------\n"
     ]
    },
    {
     "name": "stderr",
     "output_type": "stream",
     "text": [
      "\u001b[34m\u001b[1mwandb\u001b[0m: wandb version 0.12.1 is available!  To upgrade, please run:\n",
      "\u001b[34m\u001b[1mwandb\u001b[0m:  $ pip install wandb --upgrade\n"
     ]
    },
    {
     "data": {
      "text/html": [
       "\n",
       "                Tracking run with wandb version 0.12.0<br/>\n",
       "                Syncing run <strong style=\"color:#cdcd00\">XGBoost_ensemble_20210831_no_feature_gen_094441</strong> to <a href=\"https://wandb.ai\" target=\"_blank\">Weights & Biases</a> <a href=\"https://docs.wandb.com/integrations/jupyter.html\" target=\"_blank\">(Documentation)</a>.<br/>\n",
       "                Project page: <a href=\"https://wandb.ai/hushifang/202108_Kaggle_tabular_playground\" target=\"_blank\">https://wandb.ai/hushifang/202108_Kaggle_tabular_playground</a><br/>\n",
       "                Run page: <a href=\"https://wandb.ai/hushifang/202108_Kaggle_tabular_playground/runs/e5ojrtx2\" target=\"_blank\">https://wandb.ai/hushifang/202108_Kaggle_tabular_playground/runs/e5ojrtx2</a><br/>\n",
       "                Run data is saved locally in <code>/home/sf/Dropbox/code_cloud/python_code/kaggle/tabular_playgrounds/aug2021/wandb/run-20210831_110256-e5ojrtx2</code><br/><br/>\n",
       "            "
      ],
      "text/plain": [
       "<IPython.core.display.HTML object>"
      ]
     },
     "metadata": {},
     "output_type": "display_data"
    },
    {
     "name": "stderr",
     "output_type": "stream",
     "text": [
      "/home/sf/anaconda3/envs/tabular/lib/python3.8/site-packages/xgboost/training.py:17: UserWarning: Old style callback is deprecated.  See: https://xgboost.readthedocs.io/en/latest/python/callbacks.html\n",
      "  warnings.warn(f'Old style callback is deprecated.  See: {link}', UserWarning)\n"
     ]
    },
    {
     "name": "stdout",
     "output_type": "stream",
     "text": [
      "MSE is 61.666720656537805\n",
      "RMSE is 7.852816097206008\n"
     ]
    },
    {
     "data": {
      "text/html": [
       "<br/>Waiting for W&B process to finish, PID 494521<br/>Program ended successfully."
      ],
      "text/plain": [
       "<IPython.core.display.HTML object>"
      ]
     },
     "metadata": {},
     "output_type": "display_data"
    },
    {
     "data": {
      "application/vnd.jupyter.widget-view+json": {
       "model_id": "",
       "version_major": 2,
       "version_minor": 0
      },
      "text/plain": [
       "VBox(children=(Label(value=' 0.00MB of 0.00MB uploaded (0.00MB deduped)\\r'), FloatProgress(value=1.0, max=1.0)…"
      ]
     },
     "metadata": {},
     "output_type": "display_data"
    },
    {
     "data": {
      "text/html": [
       "Find user logs for this run at: <code>/home/sf/Dropbox/code_cloud/python_code/kaggle/tabular_playgrounds/aug2021/wandb/run-20210831_110256-e5ojrtx2/logs/debug.log</code>"
      ],
      "text/plain": [
       "<IPython.core.display.HTML object>"
      ]
     },
     "metadata": {},
     "output_type": "display_data"
    },
    {
     "data": {
      "text/html": [
       "Find internal logs for this run at: <code>/home/sf/Dropbox/code_cloud/python_code/kaggle/tabular_playgrounds/aug2021/wandb/run-20210831_110256-e5ojrtx2/logs/debug-internal.log</code>"
      ],
      "text/plain": [
       "<IPython.core.display.HTML object>"
      ]
     },
     "metadata": {},
     "output_type": "display_data"
    },
    {
     "data": {
      "text/html": [
       "<h3>Run summary:</h3><br/><style>\n",
       "    table.wandb td:nth-child(1) { padding: 0 10px; text-align: right }\n",
       "    </style><table class=\"wandb\">\n",
       "<tr><td>mse</td><td>61.66672</td></tr><tr><td>rmse</td><td>7.85282</td></tr><tr><td>_runtime</td><td>1548</td></tr><tr><td>_timestamp</td><td>1630434524</td></tr><tr><td>_step</td><td>401</td></tr><tr><td>fold</td><td>3</td></tr></table>"
      ],
      "text/plain": [
       "<IPython.core.display.HTML object>"
      ]
     },
     "metadata": {},
     "output_type": "display_data"
    },
    {
     "data": {
      "text/html": [
       "<h3>Run history:</h3><br/><style>\n",
       "    table.wandb td:nth-child(1) { padding: 0 10px; text-align: right }\n",
       "    </style><table class=\"wandb\">\n",
       "<tr><td>mse</td><td>▁</td></tr><tr><td>rmse</td><td>▁</td></tr><tr><td>_runtime</td><td>▁▁</td></tr><tr><td>_timestamp</td><td>▁▁</td></tr><tr><td>_step</td><td>▁█</td></tr><tr><td>fold</td><td>▁</td></tr></table><br/>"
      ],
      "text/plain": [
       "<IPython.core.display.HTML object>"
      ]
     },
     "metadata": {},
     "output_type": "display_data"
    },
    {
     "data": {
      "text/html": [
       "Synced 6 W&B file(s), 0 media file(s), 0 artifact file(s) and 1 other file(s)"
      ],
      "text/plain": [
       "<IPython.core.display.HTML object>"
      ]
     },
     "metadata": {},
     "output_type": "display_data"
    },
    {
     "data": {
      "text/html": [
       "\n",
       "                    <br/>Synced <strong style=\"color:#cdcd00\">XGBoost_ensemble_20210831_no_feature_gen_094441</strong>: <a href=\"https://wandb.ai/hushifang/202108_Kaggle_tabular_playground/runs/e5ojrtx2\" target=\"_blank\">https://wandb.ai/hushifang/202108_Kaggle_tabular_playground/runs/e5ojrtx2</a><br/>\n",
       "                "
      ],
      "text/plain": [
       "<IPython.core.display.HTML object>"
      ]
     },
     "metadata": {},
     "output_type": "display_data"
    },
    {
     "name": "stdout",
     "output_type": "stream",
     "text": [
      "FOLD 4\n",
      "-----------------------------------------\n"
     ]
    },
    {
     "name": "stderr",
     "output_type": "stream",
     "text": [
      "\u001b[34m\u001b[1mwandb\u001b[0m: wandb version 0.12.1 is available!  To upgrade, please run:\n",
      "\u001b[34m\u001b[1mwandb\u001b[0m:  $ pip install wandb --upgrade\n"
     ]
    },
    {
     "data": {
      "text/html": [
       "\n",
       "                Tracking run with wandb version 0.12.0<br/>\n",
       "                Syncing run <strong style=\"color:#cdcd00\">XGBoost_ensemble_20210831_no_feature_gen_094441</strong> to <a href=\"https://wandb.ai\" target=\"_blank\">Weights & Biases</a> <a href=\"https://docs.wandb.com/integrations/jupyter.html\" target=\"_blank\">(Documentation)</a>.<br/>\n",
       "                Project page: <a href=\"https://wandb.ai/hushifang/202108_Kaggle_tabular_playground\" target=\"_blank\">https://wandb.ai/hushifang/202108_Kaggle_tabular_playground</a><br/>\n",
       "                Run page: <a href=\"https://wandb.ai/hushifang/202108_Kaggle_tabular_playground/runs/1xbs3nm8\" target=\"_blank\">https://wandb.ai/hushifang/202108_Kaggle_tabular_playground/runs/1xbs3nm8</a><br/>\n",
       "                Run data is saved locally in <code>/home/sf/Dropbox/code_cloud/python_code/kaggle/tabular_playgrounds/aug2021/wandb/run-20210831_112848-1xbs3nm8</code><br/><br/>\n",
       "            "
      ],
      "text/plain": [
       "<IPython.core.display.HTML object>"
      ]
     },
     "metadata": {},
     "output_type": "display_data"
    },
    {
     "name": "stderr",
     "output_type": "stream",
     "text": [
      "/home/sf/anaconda3/envs/tabular/lib/python3.8/site-packages/xgboost/training.py:17: UserWarning: Old style callback is deprecated.  See: https://xgboost.readthedocs.io/en/latest/python/callbacks.html\n",
      "  warnings.warn(f'Old style callback is deprecated.  See: {link}', UserWarning)\n"
     ]
    },
    {
     "name": "stdout",
     "output_type": "stream",
     "text": [
      "MSE is 61.61926325055153\n",
      "RMSE is 7.849793834907484\n"
     ]
    },
    {
     "data": {
      "text/html": [
       "<br/>Waiting for W&B process to finish, PID 494841<br/>Program ended successfully."
      ],
      "text/plain": [
       "<IPython.core.display.HTML object>"
      ]
     },
     "metadata": {},
     "output_type": "display_data"
    },
    {
     "data": {
      "application/vnd.jupyter.widget-view+json": {
       "model_id": "",
       "version_major": 2,
       "version_minor": 0
      },
      "text/plain": [
       "VBox(children=(Label(value=' 0.00MB of 0.00MB uploaded (0.00MB deduped)\\r'), FloatProgress(value=1.0, max=1.0)…"
      ]
     },
     "metadata": {},
     "output_type": "display_data"
    },
    {
     "data": {
      "text/html": [
       "Find user logs for this run at: <code>/home/sf/Dropbox/code_cloud/python_code/kaggle/tabular_playgrounds/aug2021/wandb/run-20210831_112848-1xbs3nm8/logs/debug.log</code>"
      ],
      "text/plain": [
       "<IPython.core.display.HTML object>"
      ]
     },
     "metadata": {},
     "output_type": "display_data"
    },
    {
     "data": {
      "text/html": [
       "Find internal logs for this run at: <code>/home/sf/Dropbox/code_cloud/python_code/kaggle/tabular_playgrounds/aug2021/wandb/run-20210831_112848-1xbs3nm8/logs/debug-internal.log</code>"
      ],
      "text/plain": [
       "<IPython.core.display.HTML object>"
      ]
     },
     "metadata": {},
     "output_type": "display_data"
    },
    {
     "data": {
      "text/html": [
       "<h3>Run summary:</h3><br/><style>\n",
       "    table.wandb td:nth-child(1) { padding: 0 10px; text-align: right }\n",
       "    </style><table class=\"wandb\">\n",
       "<tr><td>mse</td><td>61.61926</td></tr><tr><td>rmse</td><td>7.84979</td></tr><tr><td>_runtime</td><td>1533</td></tr><tr><td>_timestamp</td><td>1630436061</td></tr><tr><td>_step</td><td>401</td></tr><tr><td>fold</td><td>4</td></tr></table>"
      ],
      "text/plain": [
       "<IPython.core.display.HTML object>"
      ]
     },
     "metadata": {},
     "output_type": "display_data"
    },
    {
     "data": {
      "text/html": [
       "<h3>Run history:</h3><br/><style>\n",
       "    table.wandb td:nth-child(1) { padding: 0 10px; text-align: right }\n",
       "    </style><table class=\"wandb\">\n",
       "<tr><td>mse</td><td>▁</td></tr><tr><td>rmse</td><td>▁</td></tr><tr><td>_runtime</td><td>▁▁</td></tr><tr><td>_timestamp</td><td>▁▁</td></tr><tr><td>_step</td><td>▁█</td></tr><tr><td>fold</td><td>▁</td></tr></table><br/>"
      ],
      "text/plain": [
       "<IPython.core.display.HTML object>"
      ]
     },
     "metadata": {},
     "output_type": "display_data"
    },
    {
     "data": {
      "text/html": [
       "Synced 6 W&B file(s), 0 media file(s), 0 artifact file(s) and 1 other file(s)"
      ],
      "text/plain": [
       "<IPython.core.display.HTML object>"
      ]
     },
     "metadata": {},
     "output_type": "display_data"
    },
    {
     "data": {
      "text/html": [
       "\n",
       "                    <br/>Synced <strong style=\"color:#cdcd00\">XGBoost_ensemble_20210831_no_feature_gen_094441</strong>: <a href=\"https://wandb.ai/hushifang/202108_Kaggle_tabular_playground/runs/1xbs3nm8\" target=\"_blank\">https://wandb.ai/hushifang/202108_Kaggle_tabular_playground/runs/1xbs3nm8</a><br/>\n",
       "                "
      ],
      "text/plain": [
       "<IPython.core.display.HTML object>"
      ]
     },
     "metadata": {},
     "output_type": "display_data"
    }
   ],
   "source": [
    "for fold, (train_ids, valid_ids) in enumerate(kfold.split(X,y)):\n",
    "#     if fold == 0:\n",
    "#         continue\n",
    "#     else:\n",
    "    print(f\"FOLD {fold}\")\n",
    "    print(\"-----------------------------------------\")\n",
    "    X_train, X_valid = X_scaled[train_ids], X_scaled[valid_ids] # requires X to be a numpy.ndarray\n",
    "    y_train, y_valid = y[train_ids], y[valid_ids]\n",
    "    model = train(X_train, X_valid, y_train, y_valid, config)\n",
    "    wandb.log({'fold': fold})\n",
    "    models[fold] = model\n",
    "    dump(model, Path(model_path/f\"xgboost_fold{fold}_model.joblib\"))\n",
    "    wandb.finish()"
   ]
  },
  {
   "cell_type": "code",
   "execution_count": 21,
   "id": "a3e972a4-67b9-4fd8-96b1-6525e805f9b5",
   "metadata": {},
   "outputs": [],
   "source": [
    "\n",
    "#     dump(preds, f\"./preds/{config_rn['name']}/xgboost_fold{fold}_preds.joblib\")"
   ]
  },
  {
   "cell_type": "markdown",
   "id": "02baf90b-01bc-4945-b64c-5af0c6e309be",
   "metadata": {},
   "source": [
    "# Inference"
   ]
  },
  {
   "cell_type": "code",
   "execution_count": 22,
   "id": "4e394bc6-29fe-4033-a850-bf6d55883b84",
   "metadata": {},
   "outputs": [],
   "source": [
    "test_df = pd.read_csv(datapath/'test.csv', index_col='id', low_memory=False)"
   ]
  },
  {
   "cell_type": "code",
   "execution_count": 23,
   "id": "9e85f83d-b5a3-4c9e-b654-dfd743f2966e",
   "metadata": {},
   "outputs": [
    {
     "data": {
      "text/html": [
       "<div>\n",
       "<style scoped>\n",
       "    .dataframe tbody tr th:only-of-type {\n",
       "        vertical-align: middle;\n",
       "    }\n",
       "\n",
       "    .dataframe tbody tr th {\n",
       "        vertical-align: top;\n",
       "    }\n",
       "\n",
       "    .dataframe thead th {\n",
       "        text-align: right;\n",
       "    }\n",
       "</style>\n",
       "<table border=\"1\" class=\"dataframe\">\n",
       "  <thead>\n",
       "    <tr style=\"text-align: right;\">\n",
       "      <th></th>\n",
       "      <th>f0</th>\n",
       "      <th>f1</th>\n",
       "      <th>f2</th>\n",
       "      <th>f3</th>\n",
       "      <th>f4</th>\n",
       "      <th>f5</th>\n",
       "      <th>f6</th>\n",
       "      <th>f7</th>\n",
       "      <th>f8</th>\n",
       "      <th>f9</th>\n",
       "      <th>...</th>\n",
       "      <th>f90</th>\n",
       "      <th>f91</th>\n",
       "      <th>f92</th>\n",
       "      <th>f93</th>\n",
       "      <th>f94</th>\n",
       "      <th>f95</th>\n",
       "      <th>f96</th>\n",
       "      <th>f97</th>\n",
       "      <th>f98</th>\n",
       "      <th>f99</th>\n",
       "    </tr>\n",
       "    <tr>\n",
       "      <th>id</th>\n",
       "      <th></th>\n",
       "      <th></th>\n",
       "      <th></th>\n",
       "      <th></th>\n",
       "      <th></th>\n",
       "      <th></th>\n",
       "      <th></th>\n",
       "      <th></th>\n",
       "      <th></th>\n",
       "      <th></th>\n",
       "      <th></th>\n",
       "      <th></th>\n",
       "      <th></th>\n",
       "      <th></th>\n",
       "      <th></th>\n",
       "      <th></th>\n",
       "      <th></th>\n",
       "      <th></th>\n",
       "      <th></th>\n",
       "      <th></th>\n",
       "      <th></th>\n",
       "    </tr>\n",
       "  </thead>\n",
       "  <tbody>\n",
       "    <tr>\n",
       "      <th>250000</th>\n",
       "      <td>0.812665</td>\n",
       "      <td>15</td>\n",
       "      <td>-1.239120</td>\n",
       "      <td>-0.893251</td>\n",
       "      <td>295.5770</td>\n",
       "      <td>15.87120</td>\n",
       "      <td>23.04360</td>\n",
       "      <td>0.942256</td>\n",
       "      <td>29.898000</td>\n",
       "      <td>1.11394</td>\n",
       "      <td>...</td>\n",
       "      <td>0.446389</td>\n",
       "      <td>-422.332</td>\n",
       "      <td>-1.44630</td>\n",
       "      <td>1.69075</td>\n",
       "      <td>1.059300</td>\n",
       "      <td>-3.010570</td>\n",
       "      <td>1.94664</td>\n",
       "      <td>0.529470</td>\n",
       "      <td>1.386950</td>\n",
       "      <td>8.78767</td>\n",
       "    </tr>\n",
       "    <tr>\n",
       "      <th>250001</th>\n",
       "      <td>0.190344</td>\n",
       "      <td>131</td>\n",
       "      <td>-0.501361</td>\n",
       "      <td>0.801921</td>\n",
       "      <td>64.8866</td>\n",
       "      <td>3.09703</td>\n",
       "      <td>344.80500</td>\n",
       "      <td>0.807194</td>\n",
       "      <td>38.421900</td>\n",
       "      <td>1.09695</td>\n",
       "      <td>...</td>\n",
       "      <td>0.377179</td>\n",
       "      <td>10352.200</td>\n",
       "      <td>21.06270</td>\n",
       "      <td>1.84351</td>\n",
       "      <td>0.251895</td>\n",
       "      <td>4.440570</td>\n",
       "      <td>1.90309</td>\n",
       "      <td>0.248534</td>\n",
       "      <td>0.863881</td>\n",
       "      <td>11.79390</td>\n",
       "    </tr>\n",
       "    <tr>\n",
       "      <th>250002</th>\n",
       "      <td>0.919671</td>\n",
       "      <td>19</td>\n",
       "      <td>-0.057382</td>\n",
       "      <td>0.901419</td>\n",
       "      <td>11961.2000</td>\n",
       "      <td>16.39650</td>\n",
       "      <td>273.24000</td>\n",
       "      <td>-0.003300</td>\n",
       "      <td>37.940000</td>\n",
       "      <td>1.15222</td>\n",
       "      <td>...</td>\n",
       "      <td>0.990140</td>\n",
       "      <td>3224.020</td>\n",
       "      <td>-2.25287</td>\n",
       "      <td>1.55100</td>\n",
       "      <td>-0.559157</td>\n",
       "      <td>17.838600</td>\n",
       "      <td>1.83385</td>\n",
       "      <td>0.931796</td>\n",
       "      <td>2.336870</td>\n",
       "      <td>9.05400</td>\n",
       "    </tr>\n",
       "    <tr>\n",
       "      <th>250003</th>\n",
       "      <td>0.860985</td>\n",
       "      <td>19</td>\n",
       "      <td>-0.549509</td>\n",
       "      <td>0.471799</td>\n",
       "      <td>7501.6000</td>\n",
       "      <td>2.80698</td>\n",
       "      <td>71.08170</td>\n",
       "      <td>0.792136</td>\n",
       "      <td>0.395235</td>\n",
       "      <td>1.20157</td>\n",
       "      <td>...</td>\n",
       "      <td>1.396880</td>\n",
       "      <td>9689.760</td>\n",
       "      <td>14.77150</td>\n",
       "      <td>1.41390</td>\n",
       "      <td>0.329272</td>\n",
       "      <td>0.802437</td>\n",
       "      <td>2.23251</td>\n",
       "      <td>0.893348</td>\n",
       "      <td>1.359470</td>\n",
       "      <td>4.84833</td>\n",
       "    </tr>\n",
       "    <tr>\n",
       "      <th>250004</th>\n",
       "      <td>0.313229</td>\n",
       "      <td>89</td>\n",
       "      <td>0.588509</td>\n",
       "      <td>0.167705</td>\n",
       "      <td>2931.2600</td>\n",
       "      <td>4.34986</td>\n",
       "      <td>1.57187</td>\n",
       "      <td>1.118300</td>\n",
       "      <td>7.754630</td>\n",
       "      <td>1.16807</td>\n",
       "      <td>...</td>\n",
       "      <td>0.862502</td>\n",
       "      <td>2693.350</td>\n",
       "      <td>44.18050</td>\n",
       "      <td>1.58020</td>\n",
       "      <td>-0.191021</td>\n",
       "      <td>26.253000</td>\n",
       "      <td>2.68238</td>\n",
       "      <td>0.361923</td>\n",
       "      <td>1.532800</td>\n",
       "      <td>3.70660</td>\n",
       "    </tr>\n",
       "  </tbody>\n",
       "</table>\n",
       "<p>5 rows × 100 columns</p>\n",
       "</div>"
      ],
      "text/plain": [
       "              f0   f1        f2        f3          f4        f5         f6  \\\n",
       "id                                                                           \n",
       "250000  0.812665   15 -1.239120 -0.893251    295.5770  15.87120   23.04360   \n",
       "250001  0.190344  131 -0.501361  0.801921     64.8866   3.09703  344.80500   \n",
       "250002  0.919671   19 -0.057382  0.901419  11961.2000  16.39650  273.24000   \n",
       "250003  0.860985   19 -0.549509  0.471799   7501.6000   2.80698   71.08170   \n",
       "250004  0.313229   89  0.588509  0.167705   2931.2600   4.34986    1.57187   \n",
       "\n",
       "              f7         f8       f9  ...       f90        f91       f92  \\\n",
       "id                                    ...                                  \n",
       "250000  0.942256  29.898000  1.11394  ...  0.446389   -422.332  -1.44630   \n",
       "250001  0.807194  38.421900  1.09695  ...  0.377179  10352.200  21.06270   \n",
       "250002 -0.003300  37.940000  1.15222  ...  0.990140   3224.020  -2.25287   \n",
       "250003  0.792136   0.395235  1.20157  ...  1.396880   9689.760  14.77150   \n",
       "250004  1.118300   7.754630  1.16807  ...  0.862502   2693.350  44.18050   \n",
       "\n",
       "            f93       f94        f95      f96       f97       f98       f99  \n",
       "id                                                                           \n",
       "250000  1.69075  1.059300  -3.010570  1.94664  0.529470  1.386950   8.78767  \n",
       "250001  1.84351  0.251895   4.440570  1.90309  0.248534  0.863881  11.79390  \n",
       "250002  1.55100 -0.559157  17.838600  1.83385  0.931796  2.336870   9.05400  \n",
       "250003  1.41390  0.329272   0.802437  2.23251  0.893348  1.359470   4.84833  \n",
       "250004  1.58020 -0.191021  26.253000  2.68238  0.361923  1.532800   3.70660  \n",
       "\n",
       "[5 rows x 100 columns]"
      ]
     },
     "execution_count": 23,
     "metadata": {},
     "output_type": "execute_result"
    }
   ],
   "source": [
    "test_df.head()"
   ]
  },
  {
   "cell_type": "markdown",
   "id": "443ec520-259f-44d2-ad33-7b8c22621132",
   "metadata": {},
   "source": [
    "(Here's where encapsulating the transformations in a pipeline would come in handy. But I'll do it manually for now.)"
   ]
  },
  {
   "cell_type": "code",
   "execution_count": 24,
   "id": "b1ec74e4-ccb8-43b4-b910-3df1542aaec6",
   "metadata": {},
   "outputs": [],
   "source": [
    "features = [x for x in test_df.columns if x != 'loss']\n",
    "X_test = test_df[features] # this is just for naming consistency"
   ]
  },
  {
   "cell_type": "markdown",
   "id": "5725cd3e-f883-4d20-837a-9f557b2122a9",
   "metadata": {},
   "source": [
    "Now, let's get the features the model was trained on and subset the test set's features accordingly"
   ]
  },
  {
   "cell_type": "code",
   "execution_count": 25,
   "id": "7f66e579-7f01-46e5-a47c-580c8f5d678f",
   "metadata": {},
   "outputs": [],
   "source": [
    "# generation polynomial features\n",
    "# poly = PolynomialFeatures(degree=2, include_bias=True, interaction_only=False)\n",
    "# X_test_poly = poly.fit_transform(X_test)"
   ]
  },
  {
   "cell_type": "code",
   "execution_count": 26,
   "id": "f1817e3a-7d90-4bc2-8c47-e97806f7dcdd",
   "metadata": {},
   "outputs": [],
   "source": [
    "# X_test_poly_names = poly.get_feature_names(X_test.columns)\n",
    "# X_poly_names[100:150]\n",
    "# features = pd.read_csv('X_candidates_20210827.csv').columns"
   ]
  },
  {
   "cell_type": "code",
   "execution_count": 27,
   "id": "e0d6bc49-d478-4f59-84d2-5e23e3e236db",
   "metadata": {},
   "outputs": [],
   "source": [
    "# checks = [feature in X_test_poly_names for feature in features]\n",
    "# checks"
   ]
  },
  {
   "cell_type": "code",
   "execution_count": 28,
   "id": "aa68187e-271a-4df1-ae02-a2bb5d62c185",
   "metadata": {},
   "outputs": [],
   "source": [
    "# X_test_final = pd.DataFrame(X_test_poly, columns=X_test_poly_names)"
   ]
  },
  {
   "cell_type": "code",
   "execution_count": 29,
   "id": "1020ad9b-1b05-49b8-b89b-c90362c256d9",
   "metadata": {},
   "outputs": [],
   "source": [
    "# X_test_final = X_test_final[features[1:]]\n",
    "X_test_final = X_test"
   ]
  },
  {
   "cell_type": "markdown",
   "id": "9a6c226e-1ef7-4e03-91a1-06fbb73139f0",
   "metadata": {},
   "source": [
    "# Scaling\n",
    "Now, going to scale using `MaxAbsScaler`"
   ]
  },
  {
   "cell_type": "code",
   "execution_count": 30,
   "id": "21da840a-caa6-4d76-a542-c1315a593346",
   "metadata": {},
   "outputs": [],
   "source": [
    "scaler = config['scaler']()\n",
    "X_test_scaled = scaler.fit_transform(X_test_final)\n",
    "# X_scaled_df = pd.DataFrame(X_scaled, columns=X_poly_names)"
   ]
  },
  {
   "cell_type": "code",
   "execution_count": null,
   "id": "6ce3cbac-0995-4015-9940-fe3e8ec94724",
   "metadata": {},
   "outputs": [],
   "source": []
  },
  {
   "cell_type": "code",
   "execution_count": 31,
   "id": "8929a3a1-56ca-4f20-a44f-e3877c6dabfa",
   "metadata": {},
   "outputs": [],
   "source": [
    "# applying hold-out before scaling\n",
    "# X_train, X_valid, y_train, y_valid = train_test_split(X, y, \n",
    "#                                                       test_size=config['test_size'], \n",
    "#                                                       random_state=config['random_state']\n",
    "#                                                      )\n",
    "# # scaling (i.e. normalizing)\n",
    "# scaler = config['scaler']()\n",
    "# X_train_s = scaler.fit_transform(X_train)\n",
    "# X_test_s = scaler.fit_transform(X_test)\n",
    "\n",
    "# # selecting features\n",
    "# selector = config['feature_selector'](score_func=config[\"feature_selection_scoring\"], \n",
    "#                                       k=config['k_best'])\n",
    "# X_train_fs = selector.fit_transform(X_train_s, y_train)\n",
    "# X_test_fs = X_test_s[:, selector.get_support()]\n",
    "\n",
    "# model = XGBRegressor(\n",
    "#     tree_method=config['tree_method'],\n",
    "#     booster=config['booster'],\n",
    "#     n_estimators=config['n_estimators'], \n",
    "#     max_depth=config['max_depth'],\n",
    "#     learning_rate=config['learning_rate'], \n",
    "#     test_size=config['test_size'],\n",
    "#     subsample=config['subsample'],\n",
    "#     random_state=config['random_state'],\n",
    "#     n_jobs=config['n_jobs'], \n",
    "#     verbosity=config['verbosity'], \n",
    "# )\n",
    "# #     wandb.log({'params': model.get_params()}) # logging model parameters\n",
    "# model.fit(X_train_fs, y_train)#, callbacks=[wandb.xgboost.wandb_callback()])"
   ]
  },
  {
   "cell_type": "code",
   "execution_count": 32,
   "id": "b151abea-d9b0-48eb-969f-5c342fc13474",
   "metadata": {
    "tags": []
   },
   "outputs": [
    {
     "data": {
      "text/plain": [
       "{0: XGBRegressor(base_score=0.5, booster='dart', colsample_bylevel=1,\n",
       "              colsample_bynode=1, colsample_bytree=1, gamma=0, gpu_id=-1,\n",
       "              importance_type='gain', interaction_constraints='',\n",
       "              learning_rate=0.1522, max_delta_step=0, max_depth=3,\n",
       "              min_child_weight=1, missing=nan, monotone_constraints='()',\n",
       "              n_estimators=400, n_jobs=-1, num_parallel_tree=1, random_state=42,\n",
       "              reg_alpha=0, reg_lambda=1, scale_pos_weight=1, subsample=1,\n",
       "              tree_method='auto', validate_parameters=1, verbosity=1),\n",
       " 1: XGBRegressor(base_score=0.5, booster='dart', colsample_bylevel=1,\n",
       "              colsample_bynode=1, colsample_bytree=1, gamma=0, gpu_id=-1,\n",
       "              importance_type='gain', interaction_constraints='',\n",
       "              learning_rate=0.1522, max_delta_step=0, max_depth=3,\n",
       "              min_child_weight=1, missing=nan, monotone_constraints='()',\n",
       "              n_estimators=400, n_jobs=-1, num_parallel_tree=1, random_state=42,\n",
       "              reg_alpha=0, reg_lambda=1, scale_pos_weight=1, subsample=1,\n",
       "              tree_method='auto', validate_parameters=1, verbosity=1),\n",
       " 2: XGBRegressor(base_score=0.5, booster='dart', colsample_bylevel=1,\n",
       "              colsample_bynode=1, colsample_bytree=1, gamma=0, gpu_id=-1,\n",
       "              importance_type='gain', interaction_constraints='',\n",
       "              learning_rate=0.1522, max_delta_step=0, max_depth=3,\n",
       "              min_child_weight=1, missing=nan, monotone_constraints='()',\n",
       "              n_estimators=400, n_jobs=-1, num_parallel_tree=1, random_state=42,\n",
       "              reg_alpha=0, reg_lambda=1, scale_pos_weight=1, subsample=1,\n",
       "              tree_method='auto', validate_parameters=1, verbosity=1),\n",
       " 3: XGBRegressor(base_score=0.5, booster='dart', colsample_bylevel=1,\n",
       "              colsample_bynode=1, colsample_bytree=1, gamma=0, gpu_id=-1,\n",
       "              importance_type='gain', interaction_constraints='',\n",
       "              learning_rate=0.1522, max_delta_step=0, max_depth=3,\n",
       "              min_child_weight=1, missing=nan, monotone_constraints='()',\n",
       "              n_estimators=400, n_jobs=-1, num_parallel_tree=1, random_state=42,\n",
       "              reg_alpha=0, reg_lambda=1, scale_pos_weight=1, subsample=1,\n",
       "              tree_method='auto', validate_parameters=1, verbosity=1),\n",
       " 4: XGBRegressor(base_score=0.5, booster='dart', colsample_bylevel=1,\n",
       "              colsample_bynode=1, colsample_bytree=1, gamma=0, gpu_id=-1,\n",
       "              importance_type='gain', interaction_constraints='',\n",
       "              learning_rate=0.1522, max_delta_step=0, max_depth=3,\n",
       "              min_child_weight=1, missing=nan, monotone_constraints='()',\n",
       "              n_estimators=400, n_jobs=-1, num_parallel_tree=1, random_state=42,\n",
       "              reg_alpha=0, reg_lambda=1, scale_pos_weight=1, subsample=1,\n",
       "              tree_method='auto', validate_parameters=1, verbosity=1)}"
      ]
     },
     "execution_count": 32,
     "metadata": {},
     "output_type": "execute_result"
    }
   ],
   "source": [
    "models"
   ]
  },
  {
   "cell_type": "markdown",
   "id": "a348db7c-c494-4616-a08f-55016fac5351",
   "metadata": {},
   "source": [
    "Now, iterate over the dict containing the models trained on the 5 folds, and store the predictions in a new dict `preds`\n",
    "**OR**\n",
    "load from a directory."
   ]
  },
  {
   "cell_type": "code",
   "execution_count": 33,
   "id": "d608ff29-4ceb-43cb-a0bb-e1450c0b8c85",
   "metadata": {},
   "outputs": [],
   "source": [
    "# loaded_models = {}\n",
    "# saved_models_path = Path('/home/sf/Dropbox/code_cloud/python_code/kaggle/tabular_playgrounds/aug2021/models/inference_ensemble_20210828_204126_5folds/')\n",
    "# for fold in range(5):\n",
    "#     loaded_models[fold] = load(filename=Path(saved_models_path/f'xgboost_fold{fold}_model.joblib'))"
   ]
  },
  {
   "cell_type": "code",
   "execution_count": 34,
   "id": "285899b2-0b2e-4db3-9b1e-a0d8328b84f5",
   "metadata": {},
   "outputs": [],
   "source": [
    "# models = loaded_models"
   ]
  },
  {
   "cell_type": "code",
   "execution_count": 35,
   "id": "fa072384-5154-4d54-8ddf-5452e9323882",
   "metadata": {},
   "outputs": [
    {
     "name": "stderr",
     "output_type": "stream",
     "text": [
      "/home/sf/anaconda3/envs/tabular/lib/python3.8/site-packages/xgboost/data.py:112: UserWarning: Use subset (sliced data) of np.ndarray is not recommended because it will generate extra copies and increase memory consumption\n",
      "  warnings.warn(\n"
     ]
    }
   ],
   "source": [
    "preds = {}\n",
    "for fold in models.keys():\n",
    "    preds[fold] = models[fold].predict(X_test_scaled)"
   ]
  },
  {
   "cell_type": "code",
   "execution_count": 36,
   "id": "7a464a1c-9ca8-4a07-9cdb-18af399cf95a",
   "metadata": {
    "tags": []
   },
   "outputs": [],
   "source": [
    "sample_df = pd.read_csv(datapath/'sample_submission.csv')"
   ]
  },
  {
   "cell_type": "code",
   "execution_count": 37,
   "id": "8d6e6414-5f72-4a48-b5a1-a8d24486bbb2",
   "metadata": {},
   "outputs": [
    {
     "data": {
      "text/plain": [
       "numpy.ndarray"
      ]
     },
     "execution_count": 37,
     "metadata": {},
     "output_type": "execute_result"
    }
   ],
   "source": [
    "type(preds[0])"
   ]
  },
  {
   "cell_type": "code",
   "execution_count": 38,
   "id": "cc067fb9-ae8e-4b33-9d75-e5405043aae9",
   "metadata": {},
   "outputs": [],
   "source": [
    "final_preds = (preds[0] + preds[1] + preds[2] + preds[3] + preds[4]) / 5"
   ]
  },
  {
   "cell_type": "code",
   "execution_count": 39,
   "id": "2eca32f6-2267-4c98-9aa9-c4a31d69bbe8",
   "metadata": {},
   "outputs": [
    {
     "data": {
      "text/plain": [
       "array([8.00794  , 4.5326233, 7.85575  , 7.1244345, 7.444796 , 9.632734 ,\n",
       "       9.9424515, 6.1528835, 7.0564985, 7.6765313], dtype=float32)"
      ]
     },
     "execution_count": 39,
     "metadata": {},
     "output_type": "execute_result"
    }
   ],
   "source": [
    "final_preds[:10]"
   ]
  },
  {
   "cell_type": "code",
   "execution_count": 40,
   "id": "f9d2f4b8-2356-4916-a091-45793db784ab",
   "metadata": {},
   "outputs": [],
   "source": [
    "sample_df.loc[:, 'loss'] = final_preds"
   ]
  },
  {
   "cell_type": "code",
   "execution_count": 41,
   "id": "c957ce26-bbf5-4aee-bccd-988f2471db6f",
   "metadata": {},
   "outputs": [
    {
     "data": {
      "text/html": [
       "<div>\n",
       "<style scoped>\n",
       "    .dataframe tbody tr th:only-of-type {\n",
       "        vertical-align: middle;\n",
       "    }\n",
       "\n",
       "    .dataframe tbody tr th {\n",
       "        vertical-align: top;\n",
       "    }\n",
       "\n",
       "    .dataframe thead th {\n",
       "        text-align: right;\n",
       "    }\n",
       "</style>\n",
       "<table border=\"1\" class=\"dataframe\">\n",
       "  <thead>\n",
       "    <tr style=\"text-align: right;\">\n",
       "      <th></th>\n",
       "      <th>id</th>\n",
       "      <th>loss</th>\n",
       "    </tr>\n",
       "  </thead>\n",
       "  <tbody>\n",
       "    <tr>\n",
       "      <th>0</th>\n",
       "      <td>250000</td>\n",
       "      <td>8.007940</td>\n",
       "    </tr>\n",
       "    <tr>\n",
       "      <th>1</th>\n",
       "      <td>250001</td>\n",
       "      <td>4.532623</td>\n",
       "    </tr>\n",
       "    <tr>\n",
       "      <th>2</th>\n",
       "      <td>250002</td>\n",
       "      <td>7.855750</td>\n",
       "    </tr>\n",
       "    <tr>\n",
       "      <th>3</th>\n",
       "      <td>250003</td>\n",
       "      <td>7.124434</td>\n",
       "    </tr>\n",
       "    <tr>\n",
       "      <th>4</th>\n",
       "      <td>250004</td>\n",
       "      <td>7.444796</td>\n",
       "    </tr>\n",
       "  </tbody>\n",
       "</table>\n",
       "</div>"
      ],
      "text/plain": [
       "       id      loss\n",
       "0  250000  8.007940\n",
       "1  250001  4.532623\n",
       "2  250002  7.855750\n",
       "3  250003  7.124434\n",
       "4  250004  7.444796"
      ]
     },
     "execution_count": 41,
     "metadata": {},
     "output_type": "execute_result"
    }
   ],
   "source": [
    "sample_df.head()"
   ]
  },
  {
   "cell_type": "code",
   "execution_count": 42,
   "id": "f4cc6d50-92bc-4295-9acc-5d345eb96755",
   "metadata": {},
   "outputs": [],
   "source": [
    "sample_df.to_csv('XGBoost_ensemble_20210831_no_feature_gen.csv', index=False)"
   ]
  },
  {
   "cell_type": "markdown",
   "id": "14b13044-ddb7-4bfb-bdbc-71a42172efc1",
   "metadata": {},
   "source": [
    "# Ensembling with CatBoost"
   ]
  },
  {
   "cell_type": "code",
   "execution_count": 46,
   "id": "85c2ffdf-6f70-4fbd-880d-2145c5e13ba2",
   "metadata": {},
   "outputs": [],
   "source": [
    "catboost_models = {}\n",
    "saved_models_path = Path('/home/sf/Dropbox/code_cloud/python_code/kaggle/tabular_playgrounds/aug2021/models/CatBoost_ensemble_20210831_144245_5folds/')\n",
    "for fold in range(5):\n",
    "    catboost_models[fold] = load(filename=Path(saved_models_path/f'catboost_fold{fold}_model.joblib'))"
   ]
  },
  {
   "cell_type": "code",
   "execution_count": 47,
   "id": "22852978-0c80-413e-900d-363b6055661e",
   "metadata": {},
   "outputs": [
    {
     "data": {
      "text/plain": [
       "{0: <catboost.core.CatBoostRegressor at 0x7f1b154ecfa0>,\n",
       " 1: <catboost.core.CatBoostRegressor at 0x7f1b1548a880>,\n",
       " 2: <catboost.core.CatBoostRegressor at 0x7f1b154ec0a0>,\n",
       " 3: <catboost.core.CatBoostRegressor at 0x7f1b1548ac40>,\n",
       " 4: <catboost.core.CatBoostRegressor at 0x7f1b154ecdf0>}"
      ]
     },
     "execution_count": 47,
     "metadata": {},
     "output_type": "execute_result"
    }
   ],
   "source": [
    "catboost_models"
   ]
  },
  {
   "cell_type": "code",
   "execution_count": 48,
   "id": "fa291c7b-61c6-4ec4-928a-f01225ce68fe",
   "metadata": {},
   "outputs": [],
   "source": [
    "catboost_preds = {}\n",
    "for fold in catboost_models.keys():\n",
    "    catboost_preds[fold] = catboost_models[fold].predict(X_test_scaled)"
   ]
  },
  {
   "cell_type": "code",
   "execution_count": 50,
   "id": "7e8099a5-b1aa-4aa0-926e-0d493a0dffc6",
   "metadata": {},
   "outputs": [],
   "source": [
    "final_catboost_preds = (catboost_preds[0] + catboost_preds[1] + catboost_preds[2] + catboost_preds[3] + catboost_preds[4]) / 5"
   ]
  },
  {
   "cell_type": "code",
   "execution_count": 51,
   "id": "4b1883aa-4b27-4ae8-bf84-44eef2de90f7",
   "metadata": {},
   "outputs": [],
   "source": [
    "ensemble_preds = 0.6 * final_catboost_preds + 0.4 * final_preds"
   ]
  },
  {
   "cell_type": "code",
   "execution_count": 54,
   "id": "30feee22-238b-4807-93df-9c005d91491f",
   "metadata": {},
   "outputs": [
    {
     "data": {
      "text/plain": [
       "(array([8.40583658, 4.58774964, 8.32465697, 7.18375788, 7.13135284,\n",
       "        9.67367649, 9.96252577, 5.89393404, 7.22270917, 7.53612671]),\n",
       " array([8.67110053, 4.62450053, 8.6372614 , 7.22330665, 6.92239076,\n",
       "        9.70097104, 9.97590847, 5.72130089, 7.33351626, 7.44252341]),\n",
       " array([8.00794  , 4.5326233, 7.85575  , 7.1244345, 7.444796 , 9.632734 ,\n",
       "        9.9424515, 6.1528835, 7.0564985, 7.6765313], dtype=float32))"
      ]
     },
     "execution_count": 54,
     "metadata": {},
     "output_type": "execute_result"
    }
   ],
   "source": [
    "ensemble_preds[:10], final_catboost_preds[:10], final_preds[:10]"
   ]
  },
  {
   "cell_type": "code",
   "execution_count": 58,
   "id": "8f43e0f1-ada2-4299-9b96-10987b073f8b",
   "metadata": {},
   "outputs": [],
   "source": [
    "final_ensemble_preds = 0.65 * final_catboost_preds + 0.35 * final_preds"
   ]
  },
  {
   "cell_type": "code",
   "execution_count": 59,
   "id": "cdf4700f-a87a-472a-9228-726c9d76748a",
   "metadata": {},
   "outputs": [
    {
     "data": {
      "text/plain": [
       "(array([8.4389943 , 4.5923435 , 8.36373235, 7.18870129, 7.10523255,\n",
       "        9.67708804, 9.96419843, 5.87235472, 7.23656006, 7.52442615]),\n",
       " array([8.67110053, 4.62450053, 8.6372614 , 7.22330665, 6.92239076,\n",
       "        9.70097104, 9.97590847, 5.72130089, 7.33351626, 7.44252341]),\n",
       " array([8.00794  , 4.5326233, 7.85575  , 7.1244345, 7.444796 , 9.632734 ,\n",
       "        9.9424515, 6.1528835, 7.0564985, 7.6765313], dtype=float32))"
      ]
     },
     "execution_count": 59,
     "metadata": {},
     "output_type": "execute_result"
    }
   ],
   "source": [
    "final_ensemble_preds[:10], final_catboost_preds[:10], final_preds[:10]"
   ]
  },
  {
   "cell_type": "code",
   "execution_count": 60,
   "id": "3c04c606-ea73-4744-8b7a-b71deef61c4c",
   "metadata": {},
   "outputs": [],
   "source": [
    "sample_df.loc[:, 'loss'] = final_ensemble_preds"
   ]
  },
  {
   "cell_type": "code",
   "execution_count": 61,
   "id": "5f9f1b0b-9153-4607-b199-28b79d2db7ca",
   "metadata": {},
   "outputs": [
    {
     "data": {
      "text/html": [
       "<div>\n",
       "<style scoped>\n",
       "    .dataframe tbody tr th:only-of-type {\n",
       "        vertical-align: middle;\n",
       "    }\n",
       "\n",
       "    .dataframe tbody tr th {\n",
       "        vertical-align: top;\n",
       "    }\n",
       "\n",
       "    .dataframe thead th {\n",
       "        text-align: right;\n",
       "    }\n",
       "</style>\n",
       "<table border=\"1\" class=\"dataframe\">\n",
       "  <thead>\n",
       "    <tr style=\"text-align: right;\">\n",
       "      <th></th>\n",
       "      <th>id</th>\n",
       "      <th>loss</th>\n",
       "    </tr>\n",
       "  </thead>\n",
       "  <tbody>\n",
       "    <tr>\n",
       "      <th>0</th>\n",
       "      <td>250000</td>\n",
       "      <td>8.438994</td>\n",
       "    </tr>\n",
       "    <tr>\n",
       "      <th>1</th>\n",
       "      <td>250001</td>\n",
       "      <td>4.592343</td>\n",
       "    </tr>\n",
       "    <tr>\n",
       "      <th>2</th>\n",
       "      <td>250002</td>\n",
       "      <td>8.363732</td>\n",
       "    </tr>\n",
       "    <tr>\n",
       "      <th>3</th>\n",
       "      <td>250003</td>\n",
       "      <td>7.188701</td>\n",
       "    </tr>\n",
       "    <tr>\n",
       "      <th>4</th>\n",
       "      <td>250004</td>\n",
       "      <td>7.105233</td>\n",
       "    </tr>\n",
       "  </tbody>\n",
       "</table>\n",
       "</div>"
      ],
      "text/plain": [
       "       id      loss\n",
       "0  250000  8.438994\n",
       "1  250001  4.592343\n",
       "2  250002  8.363732\n",
       "3  250003  7.188701\n",
       "4  250004  7.105233"
      ]
     },
     "execution_count": 61,
     "metadata": {},
     "output_type": "execute_result"
    }
   ],
   "source": [
    "sample_df.head()"
   ]
  },
  {
   "cell_type": "code",
   "execution_count": 62,
   "id": "6c9f3ab0-a385-416c-9fd8-be27c4301874",
   "metadata": {},
   "outputs": [],
   "source": [
    "sample_df.to_csv('XGBoost0.35-Catboost0.65_ensemble_20210831_no_feature_gen.csv', index=False)"
   ]
  },
  {
   "cell_type": "markdown",
   "id": "f67df4d3-54f8-43fe-9f14-d3751986a58d",
   "metadata": {
    "tags": []
   },
   "source": [
    "# Experiment - fitting model on full training set"
   ]
  },
  {
   "cell_type": "code",
   "execution_count": 36,
   "id": "c8331118-e7a3-4578-8e43-cf93067c6b2f",
   "metadata": {},
   "outputs": [
    {
     "name": "stdout",
     "output_type": "stream",
     "text": [
      "[12:11:15] WARNING: ../src/learner.cc:573: \n",
      "Parameters: { \"test_size\" } might not be used.\n",
      "\n",
      "  This may not be accurate due to some parameters are only used in language bindings but\n",
      "  passed down to XGBoost core.  Or some parameters are not used but slip through this\n",
      "  verification. Please open an issue if you find above cases.\n",
      "\n",
      "\n"
     ]
    },
    {
     "data": {
      "text/plain": [
       "XGBRegressor(base_score=0.5, booster='dart', colsample_bylevel=1,\n",
       "             colsample_bynode=1, colsample_bytree=1, gamma=0, gpu_id=-1,\n",
       "             importance_type='gain', interaction_constraints='',\n",
       "             learning_rate=0.1522, max_delta_step=0, max_depth=3,\n",
       "             min_child_weight=1, missing=nan, monotone_constraints='()',\n",
       "             n_estimators=400, n_jobs=-1, num_parallel_tree=1, random_state=42,\n",
       "             reg_alpha=0, reg_lambda=1, scale_pos_weight=1, subsample=1,\n",
       "             test_size=0.2, tree_method='auto', validate_parameters=1,\n",
       "             verbosity=1)"
      ]
     },
     "execution_count": 36,
     "metadata": {},
     "output_type": "execute_result"
    }
   ],
   "source": [
    "# applying hold-out before scaling\n",
    "# X_train, X_valid, y_train, y_valid = train_test_split(X, y, \n",
    "#                                                       test_size=config['test_size'], \n",
    "#                                                       random_state=config['random_state']\n",
    "#                                                      )\n",
    "# scaling (i.e. normalizing)\n",
    "scaler = config['scaler']()\n",
    "X_s = scaler.fit_transform(X)\n",
    "X_test_s = scaler.fit_transform(X_test)\n",
    "\n",
    "# selecting features\n",
    "selector = config['feature_selector'](score_func=config[\"feature_selection_scoring\"], \n",
    "                                      k=config['k_best'])\n",
    "X_fs = selector.fit_transform(X_s, y)\n",
    "X_test_fs = X_test_s[:, selector.get_support()]\n",
    "\n",
    "model = XGBRegressor(\n",
    "    tree_method=config['tree_method'],\n",
    "    booster=config['booster'],\n",
    "    n_estimators=config['n_estimators'], \n",
    "    max_depth=config['max_depth'],\n",
    "    learning_rate=config['learning_rate'], \n",
    "    test_size=config['test_size'],\n",
    "    subsample=config['subsample'],\n",
    "    random_state=config['random_state'],\n",
    "    n_jobs=config['n_jobs'], \n",
    "    verbosity=config['verbosity'], \n",
    ")\n",
    "#     wandb.log({'params': model.get_params()}) # logging model parameters\n",
    "model.fit(X_fs, y)#, callbacks=[wandb.xgboost.wandb_callback()])"
   ]
  },
  {
   "cell_type": "code",
   "execution_count": 37,
   "id": "d90ba24b-75cd-4c2d-a2cf-fe7bf16b3d62",
   "metadata": {},
   "outputs": [
    {
     "name": "stderr",
     "output_type": "stream",
     "text": [
      "/home/sf/anaconda3/envs/tabular/lib/python3.8/site-packages/xgboost/data.py:112: UserWarning: Use subset (sliced data) of np.ndarray is not recommended because it will generate extra copies and increase memory consumption\n",
      "  warnings.warn(\n"
     ]
    }
   ],
   "source": [
    "y_test_preds = model.predict(X_test_fs)"
   ]
  },
  {
   "cell_type": "code",
   "execution_count": 38,
   "id": "7db93b42-8460-4793-bd0f-60ddb1d7e84a",
   "metadata": {
    "tags": []
   },
   "outputs": [],
   "source": [
    "sample_df = pd.read_csv(datapath/'sample_submission.csv')"
   ]
  },
  {
   "cell_type": "code",
   "execution_count": 39,
   "id": "6bfc7e54-043d-4abb-818e-503846c0f8a4",
   "metadata": {},
   "outputs": [],
   "source": [
    "sample_df.loc[:, 'loss'] = y_test_preds"
   ]
  },
  {
   "cell_type": "code",
   "execution_count": 40,
   "id": "50b58c49-59e9-4751-8373-98536c9a121d",
   "metadata": {},
   "outputs": [
    {
     "data": {
      "text/html": [
       "<div>\n",
       "<style scoped>\n",
       "    .dataframe tbody tr th:only-of-type {\n",
       "        vertical-align: middle;\n",
       "    }\n",
       "\n",
       "    .dataframe tbody tr th {\n",
       "        vertical-align: top;\n",
       "    }\n",
       "\n",
       "    .dataframe thead th {\n",
       "        text-align: right;\n",
       "    }\n",
       "</style>\n",
       "<table border=\"1\" class=\"dataframe\">\n",
       "  <thead>\n",
       "    <tr style=\"text-align: right;\">\n",
       "      <th></th>\n",
       "      <th>id</th>\n",
       "      <th>loss</th>\n",
       "    </tr>\n",
       "  </thead>\n",
       "  <tbody>\n",
       "    <tr>\n",
       "      <th>0</th>\n",
       "      <td>250000</td>\n",
       "      <td>8.027956</td>\n",
       "    </tr>\n",
       "    <tr>\n",
       "      <th>1</th>\n",
       "      <td>250001</td>\n",
       "      <td>4.305676</td>\n",
       "    </tr>\n",
       "    <tr>\n",
       "      <th>2</th>\n",
       "      <td>250002</td>\n",
       "      <td>7.300106</td>\n",
       "    </tr>\n",
       "    <tr>\n",
       "      <th>3</th>\n",
       "      <td>250003</td>\n",
       "      <td>6.988875</td>\n",
       "    </tr>\n",
       "    <tr>\n",
       "      <th>4</th>\n",
       "      <td>250004</td>\n",
       "      <td>7.316631</td>\n",
       "    </tr>\n",
       "  </tbody>\n",
       "</table>\n",
       "</div>"
      ],
      "text/plain": [
       "       id      loss\n",
       "0  250000  8.027956\n",
       "1  250001  4.305676\n",
       "2  250002  7.300106\n",
       "3  250003  6.988875\n",
       "4  250004  7.316631"
      ]
     },
     "execution_count": 40,
     "metadata": {},
     "output_type": "execute_result"
    }
   ],
   "source": [
    "sample_df.head()"
   ]
  },
  {
   "cell_type": "code",
   "execution_count": 41,
   "id": "41d0f44a-2ca7-486f-9197-48534a35043e",
   "metadata": {},
   "outputs": [],
   "source": [
    "sample_df.to_csv('202108241211_XGBoost_fullset.csv', index=False)"
   ]
  }
 ],
 "metadata": {
  "kernelspec": {
   "display_name": "Python 3",
   "language": "python",
   "name": "python3"
  },
  "language_info": {
   "codemirror_mode": {
    "name": "ipython",
    "version": 3
   },
   "file_extension": ".py",
   "mimetype": "text/x-python",
   "name": "python",
   "nbconvert_exporter": "python",
   "pygments_lexer": "ipython3",
   "version": "3.8.11"
  }
 },
 "nbformat": 4,
 "nbformat_minor": 5
}
