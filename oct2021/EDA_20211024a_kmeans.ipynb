{
 "cells": [
  {
   "cell_type": "markdown",
   "id": "1d4e7f70-25a3-4d58-b98a-3a695e55ee53",
   "metadata": {
    "id": "1d4e7f70-25a3-4d58-b98a-3a695e55ee53"
   },
   "source": [
    "# Dataset Sweep usign XGBoost on GPU\n",
    "Trying different variations on the dataset using PCA, other techniques"
   ]
  },
  {
   "cell_type": "code",
   "execution_count": null,
   "id": "U_qtimPUchWD",
   "metadata": {
    "id": "U_qtimPUchWD"
   },
   "outputs": [],
   "source": []
  },
  {
   "cell_type": "markdown",
   "id": "1e124c3d-0e1f-4053-8e72-52569a4fe3e4",
   "metadata": {
    "id": "1e124c3d-0e1f-4053-8e72-52569a4fe3e4"
   },
   "source": [
    "# Setup"
   ]
  },
  {
   "cell_type": "code",
   "execution_count": 1,
   "id": "dae2ff1e-bd1f-4cc9-8357-5a88d1746ffb",
   "metadata": {
    "id": "dae2ff1e-bd1f-4cc9-8357-5a88d1746ffb"
   },
   "outputs": [],
   "source": [
    "# two manual flags (ex-config)\n",
    "colab = False\n",
    "gpu_available = True"
   ]
  },
  {
   "cell_type": "code",
   "execution_count": 2,
   "id": "16849bd2-428c-497b-ba3b-675002f8d041",
   "metadata": {
    "id": "16849bd2-428c-497b-ba3b-675002f8d041"
   },
   "outputs": [],
   "source": [
    "# basic imports\n",
    "from pathlib import Path\n",
    "import os\n",
    "import math\n",
    "from datetime import datetime\n",
    "import random\n",
    "import multiprocessing\n",
    "import pickle"
   ]
  },
  {
   "cell_type": "code",
   "execution_count": 3,
   "id": "12d2654b-3bc6-49b5-ade8-cc82112b60e5",
   "metadata": {
    "colab": {
     "base_uri": "https://localhost:8080/"
    },
    "id": "12d2654b-3bc6-49b5-ade8-cc82112b60e5",
    "outputId": "6bd53922-c4d7-43ce-c04f-ac1079087966"
   },
   "outputs": [],
   "source": [
    "%matplotlib inline\n",
    "%config Completer.use_jedi = False\n",
    "os.environ['WANDB_NOTEBOOK_NAME'] = f\"sweep_xgboost_{datetime.now().strftime('%Y%m%d')}.ipynb\""
   ]
  },
  {
   "cell_type": "code",
   "execution_count": 4,
   "id": "416d6118-e543-4df4-9219-2d4a63743c3a",
   "metadata": {
    "colab": {
     "base_uri": "https://localhost:8080/"
    },
    "id": "416d6118-e543-4df4-9219-2d4a63743c3a",
    "outputId": "5483656e-2943-4d97-b5d4-65cfb9795430",
    "tags": []
   },
   "outputs": [],
   "source": [
    "# handle Google Colab-specific library installation/updating\n",
    "if colab:\n",
    "    # much of the below inspired by or cribbed from the May 2021 Kaggle Tabular Playground winner, at \n",
    "    # https://colab.research.google.com/gist/academicsuspect/0aac7bd6e506f5f70295bfc9a3dc2250/tabular-may-baseline.ipynb?authuser=1#scrollTo=LJoVKJb5wN0L\n",
    "    \n",
    "    # Kaggle API for downloading the datasets\n",
    "    !pip install --upgrade -q kaggle\n",
    "\n",
    "    # weights and biases\n",
    "    !pip install -qqqU wandb\n",
    "    \n",
    "    # Optuna for parameter search\n",
    "    !pip install -q optuna\n",
    "\n",
    "    # !pip install --upgrade xgboost\n",
    "\n",
    "    # upgrade sklearn\n",
    "    !pip install --upgrade scikit-learn\n",
    "\n",
    "    # !pip install category_encoders\n",
    "    # !pip install catboost\n",
    "#     !pip install --upgrade -q lightgbm\n",
    "\n",
    "    # lighgbm gpu compatible\n",
    "    # !git clone --recursive https://github.com/Microsoft/LightGBM\n",
    "    # ! cd LightGBM && rm -rf build && mkdir build && cd build && cmake -DUSE_GPU=1 ../../LightGBM && make -j4 && cd ../python-package && python3 setup.py install --precompile --gpu;\n",
    "    \n",
    "    # # this part is from https://github.com/rapidsai/gputreeshap/issues/24\n",
    "    # !pip install cmake --upgrade\n",
    "    # # !pip install sklearn --upgrade\n",
    "    # !git clone --recursive https://github.com/dmlc/xgboost\n",
    "    # %cd /content/xgboost\n",
    "    # !mkdir build\n",
    "    # %cd build\n",
    "    # !cmake .. -DUSE_CUDA=ON\n",
    "    # !make -j4\n",
    "    # %cd /content/xgboost/python-package\n",
    "    # !python setup.py install --use-cuda --use-nccl\n",
    "    # !/opt/bin/nvidia-smi\n",
    "    # !pip install shap\n",
    "    "
   ]
  },
  {
   "cell_type": "markdown",
   "id": "d40df194-4474-4bcf-ac5a-98efe24b91fd",
   "metadata": {
    "id": "d40df194-4474-4bcf-ac5a-98efe24b91fd"
   },
   "source": [
    "Now, non-stdlib imports"
   ]
  },
  {
   "cell_type": "code",
   "execution_count": 5,
   "id": "a01e85f7-d602-4dde-bef9-611683cd74c4",
   "metadata": {
    "id": "a01e85f7-d602-4dde-bef9-611683cd74c4"
   },
   "outputs": [],
   "source": [
    "import pandas as pd\n",
    "import numpy as np\n",
    "import matplotlib.pyplot as plt\n",
    "from tqdm.notebook import tqdm\n",
    "\n",
    "# general ML tooling\n",
    "from sklearn.model_selection import train_test_split, StratifiedKFold, KFold\n",
    "from sklearn.metrics import log_loss, roc_auc_score\n",
    "import wandb\n",
    "from optuna.integration.wandb import WeightsAndBiasesCallback\n",
    "# from wandb.xgboost import wandb_callback\n",
    "# from wandb.lightgbm import wandb_callback\n",
    "# from sklearn.impute import KNNImputer, StandardImputer\n",
    "# import timm\n",
    "\n",
    "import seaborn as sns\n",
    "\n",
    "from catboost import CatBoostClassifier\n",
    "from xgboost import XGBClassifier\n",
    "# from lightgbm import LGBMClassifier\n",
    "# from sklearn.ensemble import RandomForestRegressor\n",
    "from sklearn.preprocessing import MaxAbsScaler, StandardScaler, MinMaxScaler, RobustScaler, PolynomialFeatures\n",
    "# from sklearn.feature_selection import SelectKBest, f_regression\n",
    "from joblib import dump, load\n",
    "# feature engineering tools\n",
    "# from sklearn.feature_selection import mutual_info_regression\n",
    "# import featuretools as ft\n",
    "\n",
    "\n",
    "from optuna.samplers import TPESampler\n",
    "import optuna\n",
    "# import catboost\n",
    "from sklearn.utils import resample\n",
    "import sklearn.metrics"
   ]
  },
  {
   "cell_type": "code",
   "execution_count": 6,
   "id": "accfe297-1d47-41bd-9c84-a819d5e565f1",
   "metadata": {},
   "outputs": [],
   "source": [
    "from sklearn.decomposition import PCA, IncrementalPCA\n",
    "from sklearn.feature_selection import SelectKBest, f_regression, mutual_info_regression\n",
    "from sklearn.cluster import KMeans, MiniBatchKMeans"
   ]
  },
  {
   "cell_type": "code",
   "execution_count": 7,
   "id": "9987ab54-45db-40b2-abad-bfc5d6523fc0",
   "metadata": {},
   "outputs": [],
   "source": [
    "# from boruta import BorutaPy\n",
    "from BorutaShap import BorutaShap"
   ]
  },
  {
   "cell_type": "markdown",
   "id": "5f6166c2-ca44-4b7c-a4dc-3db47c2624fe",
   "metadata": {
    "id": "5f6166c2-ca44-4b7c-a4dc-3db47c2624fe"
   },
   "source": [
    "Now, datapath setup"
   ]
  },
  {
   "cell_type": "code",
   "execution_count": 8,
   "id": "3c18a787-2193-43cb-87ee-51c6ae7b6351",
   "metadata": {
    "id": "3c18a787-2193-43cb-87ee-51c6ae7b6351"
   },
   "outputs": [],
   "source": [
    "# # This is the code for reading the train.csv and converting it to a .feather file\n",
    "# df = pd.read_csv(datapath/'train.csv', index_col='id', low_memory=False)\n",
    "# df.index.name = None\n",
    "# df.to_feather(path='./dataset_df.feather')"
   ]
  },
  {
   "cell_type": "code",
   "execution_count": 9,
   "id": "67530ca9-6317-48be-bf6c-8621158b0020",
   "metadata": {
    "colab": {
     "base_uri": "https://localhost:8080/"
    },
    "id": "0a41cd7e-accb-41c4-ad8b-0eaa3e2b0ad5",
    "outputId": "76d62b41-4171-40fa-936c-4481a9fdab36"
   },
   "outputs": [],
   "source": [
    "if colab:\n",
    "    # mount Google Drive\n",
    "    from google.colab import drive\n",
    "    drive.mount('/content/drive')\n",
    "    \n",
    "    # handling datapath\n",
    "#     datapath = Path('/content/drive/MyDrive/kaggle/tabular_playgrounds/sep2021/')\n",
    "    \n",
    "else:\n",
    "    # if on local machine\n",
    "#     datapath = Path('/media/sf/easystore/kaggle_data/tabular_playgrounds/sep2021/')  \n",
    "    root = Path('/home/sf/code/kaggle/tabular_playgrounds/oct2021/')\n",
    "    datapath = root/'datasets'\n",
    "    edapath = root/'EDA'\n",
    "    modelpath = root/'models'\n",
    "    predpath = root/'preds'\n",
    "    subpath = root/'submissions'\n",
    "    studypath = root/'optuna_studies'\n",
    "    altdatapath = Path('/media/sf/easystore/kaggle_data/tabular_playgrounds/oct2021/alt_datasets/')\n",
    "    \n",
    "    for pth in [root, datapath, edapath, modelpath, predpath, subpath, altdatapath]:\n",
    "        pth.mkdir(exist_ok=True)"
   ]
  },
  {
   "cell_type": "code",
   "execution_count": 10,
   "id": "d1c652e6-5946-46aa-a13e-4c0ebe8a0e4f",
   "metadata": {
    "id": "d1c652e6-5946-46aa-a13e-4c0ebe8a0e4f"
   },
   "outputs": [],
   "source": [
    "\n",
    "# n_trials = int(1000)\n",
    "SEED = 42"
   ]
  },
  {
   "cell_type": "code",
   "execution_count": 11,
   "id": "fbec2e77-2081-4815-ac6d-39f2a2616386",
   "metadata": {
    "id": "fbec2e77-2081-4815-ac6d-39f2a2616386"
   },
   "outputs": [],
   "source": [
    "# Function to seed everything\n",
    "def seed_everything(seed):\n",
    "    random.seed(seed)\n",
    "    np.random.seed(seed)\n",
    "    os.environ['PYTHONHASHSEED'] = str(seed)\n",
    "seed_everything(SEED)"
   ]
  },
  {
   "cell_type": "markdown",
   "id": "2f6e47b3-43bd-4d35-b463-9d76100c6ed5",
   "metadata": {
    "id": "2f6e47b3-43bd-4d35-b463-9d76100c6ed5"
   },
   "source": [
    "## Ex-Model Config"
   ]
  },
  {
   "cell_type": "code",
   "execution_count": 12,
   "id": "93f08480-1725-4520-8995-92b76b8f2cea",
   "metadata": {
    "id": "fb288275-a858-4806-9dc0-0b316c334536"
   },
   "outputs": [],
   "source": [
    "# meta-config for preprocessing and cross-validation, but NOT for model parameters\n",
    "# in the sweep version, this includes both ex-model parameters and defaults for model parameters\n",
    "exmodel_config = {\n",
    "    # model config\n",
    "    \"library\": 'xgboost',\n",
    "#     \"model\": XGBClassifier,\n",
    "#     \"n_estimators\": 100, \n",
    "#     \"max_depth\": 3,\n",
    "#     \"learning_rate\": 0.1,\n",
    "#     \"test_size\": 0.2,\n",
    "#     \"reg_lambda\": None, \n",
    "#     \"scaler\": \"sklearn.preprocessing.StandardScaler()\", # TODO: experiment with others (but imputation may be slow)\n",
    "#     \"scale_b4_impute\": False,\n",
    "#     \"imputer\": \"sklearn.impute.SimpleImputer(strategy='median', add_indicator=True)\",\n",
    "#     \"knn_imputer_n_neighbors\": None, # None if a different imputer is used\n",
    "#     \"feature_selector\": SelectKBest,\n",
    "#     \"k_best\": 80,\n",
    "#     \"feature_selection_scoring\": f_regression,\n",
    "    'random_state': SEED,\n",
    "#     'optuna': True,\n",
    "#     'optuna_trials': 50,\n",
    "#     'subsample': 1,\n",
    "#     'cross_val_strategy': None, # None for holdout, or the relevant sklearn class\n",
    "#     'kfolds': 1, # if 1, that means just doing holdout\n",
    "#     'test_size': 0.2,\n",
    "    # these are XGBoost default (my choice) params \n",
    "#     \"tree_method\": \"auto\", # set to 'gpu_hist' to try GPU if available\n",
    "#     \"booster\": 'gbtree', # dart may be marginally better, but will opt for this quicker approach as a default\n",
    "#     \"n_estimators\": 200, \n",
    "#     \"max_depth\": 3,\n",
    "#     \"learning_rate\": 0.1,\n",
    "#     \"n_jobs\": -1,\n",
    "#     \"verbosity\": 1,\n",
    "#     \"subsample\": 1,\n",
    "#     'features_created': False,\n",
    "#     'feature_creator': None,\n",
    "}\n",
    "\n",
    "wandb_kwargs = {\n",
    "    # wandb config\n",
    "    'name': f\"{os.environ['WANDB_NOTEBOOK_NAME'][:-6]}_{datetime.now().strftime('%H%M%S')}\", # just removes the .ipynb extension, leaving the notebook filename's stem\n",
    "    'project': '202110_Kaggle_tabular_playground',\n",
    "    'tags': ['EDA'],\n",
    "    'notes': \"Exploring KMeans\",\n",
    "    'config': exmodel_config,\n",
    "}"
   ]
  },
  {
   "cell_type": "markdown",
   "id": "a52d9012-34f1-435a-ba16-4416e0d4a286",
   "metadata": {
    "id": "a52d9012-34f1-435a-ba16-4416e0d4a286"
   },
   "source": [
    "## Data Setup"
   ]
  },
  {
   "cell_type": "markdown",
   "id": "8252ca14-2718-49d9-89e2-91d55f72d706",
   "metadata": {
    "id": "c912a62f-970a-48b4-b428-d886f2612fc2"
   },
   "source": [
    "**TODO** Write some conditional logic here to automate it -- possibly as part of a sklearn.*pipeline"
   ]
  },
  {
   "cell_type": "code",
   "execution_count": 13,
   "id": "2bdd965b-a823-432d-a1ef-4c676bb2be7b",
   "metadata": {},
   "outputs": [],
   "source": [
    "# train_source = datapath/'train.feather'\n",
    "# train_source = altdatapath/'X_boruta_shap_200trials.feather'\n",
    "# df = pd.read_feather(path=train_source)"
   ]
  },
  {
   "cell_type": "code",
   "execution_count": 14,
   "id": "cff1e9b6-ad6c-4f52-943b-4e7c5eb34c2b",
   "metadata": {},
   "outputs": [],
   "source": [
    "# df = pd.read_feather(datapath/'train.feather')\n",
    "# X_orig = df.iloc[:,:-1]"
   ]
  },
  {
   "cell_type": "code",
   "execution_count": 15,
   "id": "0e1b4da3-35ca-413f-84e7-4d7dc65adeeb",
   "metadata": {},
   "outputs": [],
   "source": [
    "# X_orig.shape"
   ]
  },
  {
   "cell_type": "code",
   "execution_count": 16,
   "id": "aa405c53-3afb-491b-bdd1-fa0669a49945",
   "metadata": {},
   "outputs": [],
   "source": [
    "# X_orig.to_feather(path=altdatapath/'X_orig.feather')"
   ]
  },
  {
   "cell_type": "code",
   "execution_count": 17,
   "id": "e6c6ccf8-77d4-4ec9-9cec-7797a3edf99b",
   "metadata": {},
   "outputs": [],
   "source": [
    "# pca = load(altdatapath/'pca.joblib')"
   ]
  },
  {
   "cell_type": "code",
   "execution_count": 18,
   "id": "33822ce0-28ac-4869-a71c-eb8132d40166",
   "metadata": {},
   "outputs": [],
   "source": [
    "# pca"
   ]
  },
  {
   "cell_type": "code",
   "execution_count": 19,
   "id": "4648555d-63f0-419d-bae4-1fa574ab53f8",
   "metadata": {},
   "outputs": [],
   "source": [
    "# train_source = datapath/'train.feather'\n",
    "# train_source = altdatapath/'X_boruta_shap_200trials.feather'\n",
    "# train_source = altdatapath/'X_orig.feather'\n",
    "# X = pd.read_feather(train_source)\n",
    "y = load(datapath/'y.joblib')\n",
    "# df = pd.read_feather(path=train_source)\n",
    "# df.index.name = 'id'\n",
    "# y = df.target\n",
    "# features = [x for x in df.columns if x != 'target']\n",
    "# X = df[features]\n",
    "# X = df.iloc[:, :-1]\n",
    "# X.index.name = 'id'\n",
    "# y.index.name = 'id'\n",
    "# X = np.array(X_train)\n",
    "# y = np.array(y_train)\n",
    "\n",
    "# del df, X_train, y_train\n",
    "\n",
    "\n",
    "# exmodel_config['feature_count'] = len(X.columns)\n",
    "# exmodel_config['feature_count'] = X.shape[1]\n",
    "# exmodel_config['instance_count'] = X.shape[0]\n",
    "\n",
    "# exmodel_config['feature_generator'] = None\n",
    "# exmodel_config['feature_generator'] = \"Summary statistics\"\n",
    "\n",
    "# exmodel_config['train_source'] = str(train_source)\n",
    "# test_source = datapath/'test.feather'\n",
    "# exmodel_config['test_source'] = str(test_source)\n",
    "# X_test = pd.read_feather(path=test_source)\n",
    "# X_test = X_test.iloc[:, 1:]\n",
    "# X_test = np.array(X_test)"
   ]
  },
  {
   "cell_type": "code",
   "execution_count": 20,
   "id": "c9661645-0190-4dee-a0e9-8e271c91cce8",
   "metadata": {},
   "outputs": [],
   "source": [
    "# X_boruta = pd.read_feather(altdatapath/'X_boruta_shap_200trials.feather')"
   ]
  },
  {
   "cell_type": "code",
   "execution_count": 21,
   "id": "b1528f99-ea42-417b-b8ff-5bdc48cf2db2",
   "metadata": {},
   "outputs": [],
   "source": [
    "# X.shape"
   ]
  },
  {
   "cell_type": "code",
   "execution_count": 22,
   "id": "bcc62e3b-a330-4a6b-a044-2143f8b1f2e0",
   "metadata": {},
   "outputs": [],
   "source": [
    "# X_pca = pca.transform(X)"
   ]
  },
  {
   "cell_type": "code",
   "execution_count": 23,
   "id": "0326ff89-df34-458f-97f9-730388c93085",
   "metadata": {},
   "outputs": [],
   "source": [
    "# X_pca.shape"
   ]
  },
  {
   "cell_type": "code",
   "execution_count": 24,
   "id": "a8d06b71-025d-49fb-98ad-ff5c16bb5d23",
   "metadata": {},
   "outputs": [
    {
     "data": {
      "text/plain": [
       "numpy.ndarray"
      ]
     },
     "execution_count": 24,
     "metadata": {},
     "output_type": "execute_result"
    }
   ],
   "source": [
    "type(y)"
   ]
  },
  {
   "cell_type": "markdown",
   "id": "e0a598e3-0d59-4927-8d00-35801a220f16",
   "metadata": {},
   "source": [
    "## KMeans"
   ]
  },
  {
   "cell_type": "code",
   "execution_count": 25,
   "id": "b8581877-6442-44c4-b5a1-740bd586bef6",
   "metadata": {},
   "outputs": [],
   "source": [
    "df = pd.read_feather(datapath/'train.feather')"
   ]
  },
  {
   "cell_type": "code",
   "execution_count": 26,
   "id": "b17fd863-a14f-49ec-885e-4ad096f8d37a",
   "metadata": {},
   "outputs": [
    {
     "data": {
      "text/html": [
       "<div>\n",
       "<style scoped>\n",
       "    .dataframe tbody tr th:only-of-type {\n",
       "        vertical-align: middle;\n",
       "    }\n",
       "\n",
       "    .dataframe tbody tr th {\n",
       "        vertical-align: top;\n",
       "    }\n",
       "\n",
       "    .dataframe thead th {\n",
       "        text-align: right;\n",
       "    }\n",
       "</style>\n",
       "<table border=\"1\" class=\"dataframe\">\n",
       "  <thead>\n",
       "    <tr style=\"text-align: right;\">\n",
       "      <th></th>\n",
       "      <th>f0</th>\n",
       "      <th>f1</th>\n",
       "      <th>f2</th>\n",
       "      <th>f3</th>\n",
       "      <th>f4</th>\n",
       "      <th>f5</th>\n",
       "      <th>f6</th>\n",
       "      <th>f7</th>\n",
       "      <th>f8</th>\n",
       "      <th>f9</th>\n",
       "      <th>...</th>\n",
       "      <th>f276</th>\n",
       "      <th>f277</th>\n",
       "      <th>f278</th>\n",
       "      <th>f279</th>\n",
       "      <th>f280</th>\n",
       "      <th>f281</th>\n",
       "      <th>f282</th>\n",
       "      <th>f283</th>\n",
       "      <th>f284</th>\n",
       "      <th>target</th>\n",
       "    </tr>\n",
       "  </thead>\n",
       "  <tbody>\n",
       "    <tr>\n",
       "      <th>0</th>\n",
       "      <td>0.205979</td>\n",
       "      <td>0.410993</td>\n",
       "      <td>0.176775</td>\n",
       "      <td>0.223581</td>\n",
       "      <td>0.423543</td>\n",
       "      <td>0.476140</td>\n",
       "      <td>0.413590</td>\n",
       "      <td>0.612021</td>\n",
       "      <td>0.534873</td>\n",
       "      <td>0.147295</td>\n",
       "      <td>...</td>\n",
       "      <td>0</td>\n",
       "      <td>1</td>\n",
       "      <td>0</td>\n",
       "      <td>0</td>\n",
       "      <td>0</td>\n",
       "      <td>0</td>\n",
       "      <td>0</td>\n",
       "      <td>0</td>\n",
       "      <td>0</td>\n",
       "      <td>1</td>\n",
       "    </tr>\n",
       "    <tr>\n",
       "      <th>1</th>\n",
       "      <td>0.181004</td>\n",
       "      <td>0.473119</td>\n",
       "      <td>0.011734</td>\n",
       "      <td>0.213657</td>\n",
       "      <td>0.619678</td>\n",
       "      <td>0.441593</td>\n",
       "      <td>0.230407</td>\n",
       "      <td>0.686013</td>\n",
       "      <td>0.281971</td>\n",
       "      <td>0.238509</td>\n",
       "      <td>...</td>\n",
       "      <td>0</td>\n",
       "      <td>1</td>\n",
       "      <td>0</td>\n",
       "      <td>0</td>\n",
       "      <td>0</td>\n",
       "      <td>0</td>\n",
       "      <td>0</td>\n",
       "      <td>0</td>\n",
       "      <td>0</td>\n",
       "      <td>1</td>\n",
       "    </tr>\n",
       "    <tr>\n",
       "      <th>2</th>\n",
       "      <td>0.182583</td>\n",
       "      <td>0.307431</td>\n",
       "      <td>0.325950</td>\n",
       "      <td>0.207116</td>\n",
       "      <td>0.605699</td>\n",
       "      <td>0.309695</td>\n",
       "      <td>0.493337</td>\n",
       "      <td>0.751107</td>\n",
       "      <td>0.536272</td>\n",
       "      <td>0.286813</td>\n",
       "      <td>...</td>\n",
       "      <td>0</td>\n",
       "      <td>0</td>\n",
       "      <td>0</td>\n",
       "      <td>1</td>\n",
       "      <td>1</td>\n",
       "      <td>0</td>\n",
       "      <td>0</td>\n",
       "      <td>0</td>\n",
       "      <td>0</td>\n",
       "      <td>1</td>\n",
       "    </tr>\n",
       "    <tr>\n",
       "      <th>3</th>\n",
       "      <td>0.180240</td>\n",
       "      <td>0.494592</td>\n",
       "      <td>0.008367</td>\n",
       "      <td>0.223580</td>\n",
       "      <td>0.760618</td>\n",
       "      <td>0.439211</td>\n",
       "      <td>0.432055</td>\n",
       "      <td>0.776147</td>\n",
       "      <td>0.483958</td>\n",
       "      <td>0.260886</td>\n",
       "      <td>...</td>\n",
       "      <td>0</td>\n",
       "      <td>0</td>\n",
       "      <td>0</td>\n",
       "      <td>0</td>\n",
       "      <td>1</td>\n",
       "      <td>0</td>\n",
       "      <td>0</td>\n",
       "      <td>0</td>\n",
       "      <td>0</td>\n",
       "      <td>1</td>\n",
       "    </tr>\n",
       "    <tr>\n",
       "      <th>4</th>\n",
       "      <td>0.177172</td>\n",
       "      <td>0.495513</td>\n",
       "      <td>0.014263</td>\n",
       "      <td>0.548819</td>\n",
       "      <td>0.625396</td>\n",
       "      <td>0.562493</td>\n",
       "      <td>0.117158</td>\n",
       "      <td>0.561255</td>\n",
       "      <td>0.077115</td>\n",
       "      <td>0.158321</td>\n",
       "      <td>...</td>\n",
       "      <td>0</td>\n",
       "      <td>1</td>\n",
       "      <td>1</td>\n",
       "      <td>0</td>\n",
       "      <td>1</td>\n",
       "      <td>0</td>\n",
       "      <td>0</td>\n",
       "      <td>1</td>\n",
       "      <td>0</td>\n",
       "      <td>1</td>\n",
       "    </tr>\n",
       "  </tbody>\n",
       "</table>\n",
       "<p>5 rows × 286 columns</p>\n",
       "</div>"
      ],
      "text/plain": [
       "         f0        f1        f2        f3        f4        f5        f6  \\\n",
       "0  0.205979  0.410993  0.176775  0.223581  0.423543  0.476140  0.413590   \n",
       "1  0.181004  0.473119  0.011734  0.213657  0.619678  0.441593  0.230407   \n",
       "2  0.182583  0.307431  0.325950  0.207116  0.605699  0.309695  0.493337   \n",
       "3  0.180240  0.494592  0.008367  0.223580  0.760618  0.439211  0.432055   \n",
       "4  0.177172  0.495513  0.014263  0.548819  0.625396  0.562493  0.117158   \n",
       "\n",
       "         f7        f8        f9  ...  f276  f277  f278  f279  f280  f281  \\\n",
       "0  0.612021  0.534873  0.147295  ...     0     1     0     0     0     0   \n",
       "1  0.686013  0.281971  0.238509  ...     0     1     0     0     0     0   \n",
       "2  0.751107  0.536272  0.286813  ...     0     0     0     1     1     0   \n",
       "3  0.776147  0.483958  0.260886  ...     0     0     0     0     1     0   \n",
       "4  0.561255  0.077115  0.158321  ...     0     1     1     0     1     0   \n",
       "\n",
       "   f282  f283  f284  target  \n",
       "0     0     0     0       1  \n",
       "1     0     0     0       1  \n",
       "2     0     0     0       1  \n",
       "3     0     0     0       1  \n",
       "4     0     1     0       1  \n",
       "\n",
       "[5 rows x 286 columns]"
      ]
     },
     "execution_count": 26,
     "metadata": {},
     "output_type": "execute_result"
    }
   ],
   "source": [
    "df.head()"
   ]
  },
  {
   "cell_type": "code",
   "execution_count": 27,
   "id": "ece4f404-d8f2-4af8-bac0-e39622f27a33",
   "metadata": {},
   "outputs": [],
   "source": [
    "df_corr = df.corr()"
   ]
  },
  {
   "cell_type": "code",
   "execution_count": 28,
   "id": "20864c51-4ce9-4dd3-8c12-f4895d1b2d15",
   "metadata": {},
   "outputs": [
    {
     "data": {
      "text/plain": [
       "(286, 286)"
      ]
     },
     "execution_count": 28,
     "metadata": {},
     "output_type": "execute_result"
    }
   ],
   "source": [
    "df_corr.shape"
   ]
  },
  {
   "cell_type": "code",
   "execution_count": 29,
   "id": "e4c5e4f2-f540-4f55-9fc2-3e798f23b2c1",
   "metadata": {},
   "outputs": [
    {
     "data": {
      "text/html": [
       "<div>\n",
       "<style scoped>\n",
       "    .dataframe tbody tr th:only-of-type {\n",
       "        vertical-align: middle;\n",
       "    }\n",
       "\n",
       "    .dataframe tbody tr th {\n",
       "        vertical-align: top;\n",
       "    }\n",
       "\n",
       "    .dataframe thead th {\n",
       "        text-align: right;\n",
       "    }\n",
       "</style>\n",
       "<table border=\"1\" class=\"dataframe\">\n",
       "  <thead>\n",
       "    <tr style=\"text-align: right;\">\n",
       "      <th></th>\n",
       "      <th>f0</th>\n",
       "      <th>f1</th>\n",
       "      <th>f2</th>\n",
       "      <th>f3</th>\n",
       "      <th>f4</th>\n",
       "      <th>f5</th>\n",
       "      <th>f6</th>\n",
       "      <th>f7</th>\n",
       "      <th>f8</th>\n",
       "      <th>f9</th>\n",
       "      <th>...</th>\n",
       "      <th>f276</th>\n",
       "      <th>f277</th>\n",
       "      <th>f278</th>\n",
       "      <th>f279</th>\n",
       "      <th>f280</th>\n",
       "      <th>f281</th>\n",
       "      <th>f282</th>\n",
       "      <th>f283</th>\n",
       "      <th>f284</th>\n",
       "      <th>target</th>\n",
       "    </tr>\n",
       "  </thead>\n",
       "  <tbody>\n",
       "    <tr>\n",
       "      <th>f0</th>\n",
       "      <td>1.000000</td>\n",
       "      <td>-0.001394</td>\n",
       "      <td>0.002228</td>\n",
       "      <td>-0.006450</td>\n",
       "      <td>0.005437</td>\n",
       "      <td>-0.007128</td>\n",
       "      <td>-0.003869</td>\n",
       "      <td>0.000043</td>\n",
       "      <td>0.006060</td>\n",
       "      <td>0.003302</td>\n",
       "      <td>...</td>\n",
       "      <td>0.001481</td>\n",
       "      <td>0.001076</td>\n",
       "      <td>0.001809</td>\n",
       "      <td>0.000371</td>\n",
       "      <td>0.000534</td>\n",
       "      <td>-0.000224</td>\n",
       "      <td>0.001863</td>\n",
       "      <td>0.000382</td>\n",
       "      <td>0.003530</td>\n",
       "      <td>0.004067</td>\n",
       "    </tr>\n",
       "    <tr>\n",
       "      <th>f1</th>\n",
       "      <td>-0.001394</td>\n",
       "      <td>1.000000</td>\n",
       "      <td>0.001856</td>\n",
       "      <td>0.005209</td>\n",
       "      <td>-0.002631</td>\n",
       "      <td>-0.003103</td>\n",
       "      <td>0.006982</td>\n",
       "      <td>0.000650</td>\n",
       "      <td>0.004013</td>\n",
       "      <td>-0.005154</td>\n",
       "      <td>...</td>\n",
       "      <td>-0.001599</td>\n",
       "      <td>-0.001704</td>\n",
       "      <td>0.001096</td>\n",
       "      <td>-0.000160</td>\n",
       "      <td>-0.004458</td>\n",
       "      <td>0.002074</td>\n",
       "      <td>-0.001471</td>\n",
       "      <td>-0.003102</td>\n",
       "      <td>-0.000589</td>\n",
       "      <td>-0.029324</td>\n",
       "    </tr>\n",
       "    <tr>\n",
       "      <th>f2</th>\n",
       "      <td>0.002228</td>\n",
       "      <td>0.001856</td>\n",
       "      <td>1.000000</td>\n",
       "      <td>0.008163</td>\n",
       "      <td>-0.005837</td>\n",
       "      <td>0.001922</td>\n",
       "      <td>-0.000976</td>\n",
       "      <td>-0.002580</td>\n",
       "      <td>-0.002813</td>\n",
       "      <td>0.004317</td>\n",
       "      <td>...</td>\n",
       "      <td>0.001042</td>\n",
       "      <td>0.002569</td>\n",
       "      <td>0.002608</td>\n",
       "      <td>0.002077</td>\n",
       "      <td>-0.000907</td>\n",
       "      <td>0.001557</td>\n",
       "      <td>0.002067</td>\n",
       "      <td>0.002581</td>\n",
       "      <td>0.003950</td>\n",
       "      <td>-0.015663</td>\n",
       "    </tr>\n",
       "    <tr>\n",
       "      <th>f3</th>\n",
       "      <td>-0.006450</td>\n",
       "      <td>0.005209</td>\n",
       "      <td>0.008163</td>\n",
       "      <td>1.000000</td>\n",
       "      <td>0.009656</td>\n",
       "      <td>0.004251</td>\n",
       "      <td>-0.024096</td>\n",
       "      <td>0.008788</td>\n",
       "      <td>-0.006445</td>\n",
       "      <td>0.011000</td>\n",
       "      <td>...</td>\n",
       "      <td>-0.001411</td>\n",
       "      <td>-0.003336</td>\n",
       "      <td>0.002938</td>\n",
       "      <td>0.001219</td>\n",
       "      <td>0.002064</td>\n",
       "      <td>0.005564</td>\n",
       "      <td>-0.002430</td>\n",
       "      <td>0.002464</td>\n",
       "      <td>0.004908</td>\n",
       "      <td>0.036279</td>\n",
       "    </tr>\n",
       "    <tr>\n",
       "      <th>f4</th>\n",
       "      <td>0.005437</td>\n",
       "      <td>-0.002631</td>\n",
       "      <td>-0.005837</td>\n",
       "      <td>0.009656</td>\n",
       "      <td>1.000000</td>\n",
       "      <td>-0.002361</td>\n",
       "      <td>0.001605</td>\n",
       "      <td>0.001026</td>\n",
       "      <td>0.012946</td>\n",
       "      <td>-0.005513</td>\n",
       "      <td>...</td>\n",
       "      <td>0.000045</td>\n",
       "      <td>-0.000327</td>\n",
       "      <td>-0.000987</td>\n",
       "      <td>0.000348</td>\n",
       "      <td>0.000495</td>\n",
       "      <td>0.000289</td>\n",
       "      <td>0.002657</td>\n",
       "      <td>0.002152</td>\n",
       "      <td>-0.001884</td>\n",
       "      <td>0.019811</td>\n",
       "    </tr>\n",
       "  </tbody>\n",
       "</table>\n",
       "<p>5 rows × 286 columns</p>\n",
       "</div>"
      ],
      "text/plain": [
       "          f0        f1        f2        f3        f4        f5        f6  \\\n",
       "f0  1.000000 -0.001394  0.002228 -0.006450  0.005437 -0.007128 -0.003869   \n",
       "f1 -0.001394  1.000000  0.001856  0.005209 -0.002631 -0.003103  0.006982   \n",
       "f2  0.002228  0.001856  1.000000  0.008163 -0.005837  0.001922 -0.000976   \n",
       "f3 -0.006450  0.005209  0.008163  1.000000  0.009656  0.004251 -0.024096   \n",
       "f4  0.005437 -0.002631 -0.005837  0.009656  1.000000 -0.002361  0.001605   \n",
       "\n",
       "          f7        f8        f9  ...      f276      f277      f278      f279  \\\n",
       "f0  0.000043  0.006060  0.003302  ...  0.001481  0.001076  0.001809  0.000371   \n",
       "f1  0.000650  0.004013 -0.005154  ... -0.001599 -0.001704  0.001096 -0.000160   \n",
       "f2 -0.002580 -0.002813  0.004317  ...  0.001042  0.002569  0.002608  0.002077   \n",
       "f3  0.008788 -0.006445  0.011000  ... -0.001411 -0.003336  0.002938  0.001219   \n",
       "f4  0.001026  0.012946 -0.005513  ...  0.000045 -0.000327 -0.000987  0.000348   \n",
       "\n",
       "        f280      f281      f282      f283      f284    target  \n",
       "f0  0.000534 -0.000224  0.001863  0.000382  0.003530  0.004067  \n",
       "f1 -0.004458  0.002074 -0.001471 -0.003102 -0.000589 -0.029324  \n",
       "f2 -0.000907  0.001557  0.002067  0.002581  0.003950 -0.015663  \n",
       "f3  0.002064  0.005564 -0.002430  0.002464  0.004908  0.036279  \n",
       "f4  0.000495  0.000289  0.002657  0.002152 -0.001884  0.019811  \n",
       "\n",
       "[5 rows x 286 columns]"
      ]
     },
     "execution_count": 29,
     "metadata": {},
     "output_type": "execute_result"
    }
   ],
   "source": [
    "df_corr.head()"
   ]
  },
  {
   "cell_type": "code",
   "execution_count": 30,
   "id": "88ba38ed-baee-47b1-989b-dc0f08a4a8d1",
   "metadata": {},
   "outputs": [],
   "source": [
    "corr_target = df_corr.loc['target':'target']"
   ]
  },
  {
   "cell_type": "markdown",
   "id": "e3fc5b09-bc2f-4f96-9df0-ad45f727cf2d",
   "metadata": {},
   "source": [
    "- This pulls out the correlations with the `target`, which is what matters most, and puts it into a `DataFrame` (vs. `df_corr.loc['target']`, which would yield a `Series` only)."
   ]
  },
  {
   "cell_type": "code",
   "execution_count": 31,
   "id": "767b8981-5860-456a-be65-5dc7a05686c5",
   "metadata": {},
   "outputs": [
    {
     "data": {
      "text/html": [
       "<div>\n",
       "<style scoped>\n",
       "    .dataframe tbody tr th:only-of-type {\n",
       "        vertical-align: middle;\n",
       "    }\n",
       "\n",
       "    .dataframe tbody tr th {\n",
       "        vertical-align: top;\n",
       "    }\n",
       "\n",
       "    .dataframe thead th {\n",
       "        text-align: right;\n",
       "    }\n",
       "</style>\n",
       "<table border=\"1\" class=\"dataframe\">\n",
       "  <thead>\n",
       "    <tr style=\"text-align: right;\">\n",
       "      <th></th>\n",
       "      <th>f0</th>\n",
       "      <th>f1</th>\n",
       "      <th>f2</th>\n",
       "      <th>f3</th>\n",
       "      <th>f4</th>\n",
       "      <th>f5</th>\n",
       "      <th>f6</th>\n",
       "      <th>f7</th>\n",
       "      <th>f8</th>\n",
       "      <th>f9</th>\n",
       "      <th>...</th>\n",
       "      <th>f276</th>\n",
       "      <th>f277</th>\n",
       "      <th>f278</th>\n",
       "      <th>f279</th>\n",
       "      <th>f280</th>\n",
       "      <th>f281</th>\n",
       "      <th>f282</th>\n",
       "      <th>f283</th>\n",
       "      <th>f284</th>\n",
       "      <th>target</th>\n",
       "    </tr>\n",
       "  </thead>\n",
       "  <tbody>\n",
       "    <tr>\n",
       "      <th>target</th>\n",
       "      <td>0.004067</td>\n",
       "      <td>-0.029324</td>\n",
       "      <td>-0.015663</td>\n",
       "      <td>0.036279</td>\n",
       "      <td>0.019811</td>\n",
       "      <td>-0.012301</td>\n",
       "      <td>-0.012332</td>\n",
       "      <td>0.013528</td>\n",
       "      <td>-0.043557</td>\n",
       "      <td>-0.002662</td>\n",
       "      <td>...</td>\n",
       "      <td>-0.00329</td>\n",
       "      <td>-0.003869</td>\n",
       "      <td>-0.004477</td>\n",
       "      <td>-0.004503</td>\n",
       "      <td>-0.004319</td>\n",
       "      <td>-0.004587</td>\n",
       "      <td>-0.002426</td>\n",
       "      <td>-0.005901</td>\n",
       "      <td>-0.0037</td>\n",
       "      <td>1.0</td>\n",
       "    </tr>\n",
       "  </tbody>\n",
       "</table>\n",
       "<p>1 rows × 286 columns</p>\n",
       "</div>"
      ],
      "text/plain": [
       "              f0        f1        f2        f3        f4        f5        f6  \\\n",
       "target  0.004067 -0.029324 -0.015663  0.036279  0.019811 -0.012301 -0.012332   \n",
       "\n",
       "              f7        f8        f9  ...     f276      f277      f278  \\\n",
       "target  0.013528 -0.043557 -0.002662  ... -0.00329 -0.003869 -0.004477   \n",
       "\n",
       "            f279      f280      f281      f282      f283    f284  target  \n",
       "target -0.004503 -0.004319 -0.004587 -0.002426 -0.005901 -0.0037     1.0  \n",
       "\n",
       "[1 rows x 286 columns]"
      ]
     },
     "execution_count": 31,
     "metadata": {},
     "output_type": "execute_result"
    }
   ],
   "source": [
    "corr_target"
   ]
  },
  {
   "cell_type": "code",
   "execution_count": 32,
   "id": "22b431d9-31f3-4826-ab1a-832c86167fb2",
   "metadata": {},
   "outputs": [
    {
     "data": {
      "text/html": [
       "<div>\n",
       "<style scoped>\n",
       "    .dataframe tbody tr th:only-of-type {\n",
       "        vertical-align: middle;\n",
       "    }\n",
       "\n",
       "    .dataframe tbody tr th {\n",
       "        vertical-align: top;\n",
       "    }\n",
       "\n",
       "    .dataframe thead th {\n",
       "        text-align: right;\n",
       "    }\n",
       "</style>\n",
       "<table border=\"1\" class=\"dataframe\">\n",
       "  <thead>\n",
       "    <tr style=\"text-align: right;\">\n",
       "      <th></th>\n",
       "      <th>f0</th>\n",
       "      <th>f1</th>\n",
       "      <th>f2</th>\n",
       "      <th>f3</th>\n",
       "      <th>f4</th>\n",
       "      <th>f5</th>\n",
       "      <th>f6</th>\n",
       "      <th>f7</th>\n",
       "      <th>f8</th>\n",
       "      <th>f9</th>\n",
       "      <th>...</th>\n",
       "      <th>f275</th>\n",
       "      <th>f276</th>\n",
       "      <th>f277</th>\n",
       "      <th>f278</th>\n",
       "      <th>f279</th>\n",
       "      <th>f280</th>\n",
       "      <th>f281</th>\n",
       "      <th>f282</th>\n",
       "      <th>f283</th>\n",
       "      <th>f284</th>\n",
       "    </tr>\n",
       "  </thead>\n",
       "  <tbody>\n",
       "    <tr>\n",
       "      <th>target</th>\n",
       "      <td>0.004067</td>\n",
       "      <td>-0.029324</td>\n",
       "      <td>-0.015663</td>\n",
       "      <td>0.036279</td>\n",
       "      <td>0.019811</td>\n",
       "      <td>-0.012301</td>\n",
       "      <td>-0.012332</td>\n",
       "      <td>0.013528</td>\n",
       "      <td>-0.043557</td>\n",
       "      <td>-0.002662</td>\n",
       "      <td>...</td>\n",
       "      <td>-0.00442</td>\n",
       "      <td>-0.00329</td>\n",
       "      <td>-0.003869</td>\n",
       "      <td>-0.004477</td>\n",
       "      <td>-0.004503</td>\n",
       "      <td>-0.004319</td>\n",
       "      <td>-0.004587</td>\n",
       "      <td>-0.002426</td>\n",
       "      <td>-0.005901</td>\n",
       "      <td>-0.0037</td>\n",
       "    </tr>\n",
       "  </tbody>\n",
       "</table>\n",
       "<p>1 rows × 285 columns</p>\n",
       "</div>"
      ],
      "text/plain": [
       "              f0        f1        f2        f3        f4        f5        f6  \\\n",
       "target  0.004067 -0.029324 -0.015663  0.036279  0.019811 -0.012301 -0.012332   \n",
       "\n",
       "              f7        f8        f9  ...     f275     f276      f277  \\\n",
       "target  0.013528 -0.043557 -0.002662  ... -0.00442 -0.00329 -0.003869   \n",
       "\n",
       "            f278      f279      f280      f281      f282      f283    f284  \n",
       "target -0.004477 -0.004503 -0.004319 -0.004587 -0.002426 -0.005901 -0.0037  \n",
       "\n",
       "[1 rows x 285 columns]"
      ]
     },
     "execution_count": 32,
     "metadata": {},
     "output_type": "execute_result"
    }
   ],
   "source": [
    "corr_target = corr_target.drop(['target'], axis=1)\n",
    "corr_target"
   ]
  },
  {
   "cell_type": "markdown",
   "id": "b5630177-848d-46c0-ab90-bdb1b598a469",
   "metadata": {},
   "source": [
    "- No need to include the self-correlation here"
   ]
  },
  {
   "cell_type": "code",
   "execution_count": 33,
   "id": "472164f7-3ef6-484a-92a6-14f39e953479",
   "metadata": {},
   "outputs": [],
   "source": [
    "corr_target_abs = abs(corr_target)"
   ]
  },
  {
   "cell_type": "code",
   "execution_count": 34,
   "id": "cd6b940a-8d91-4222-b0e8-eff1b5da3963",
   "metadata": {},
   "outputs": [],
   "source": [
    "corr_sorted = corr_target_abs.sort_values(by='target', axis=1, ascending=False)"
   ]
  },
  {
   "cell_type": "code",
   "execution_count": 35,
   "id": "3397c741-29cc-4029-ad33-c6d2772ace78",
   "metadata": {},
   "outputs": [
    {
     "data": {
      "text/plain": [
       "['f22', 'f179', 'f69', 'f156', 'f58', 'f136', 'f214', 'f78']"
      ]
     },
     "execution_count": 35,
     "metadata": {},
     "output_type": "execute_result"
    }
   ],
   "source": [
    "useful_features = list(corr_sorted.columns[:8])\n",
    "useful_features"
   ]
  },
  {
   "cell_type": "code",
   "execution_count": 36,
   "id": "6305868e-63f6-4fd3-9487-885763539e51",
   "metadata": {},
   "outputs": [],
   "source": [
    "n_clusters = 12\n",
    "cd_feature = True # i.e. cluster distance rather than cluster number\n",
    "cluster_cols = [f\"cluster{i+1}\" for i in range(n_clusters)]"
   ]
  },
  {
   "cell_type": "code",
   "execution_count": 46,
   "id": "769527be-b8f0-461a-91d2-8fa808453000",
   "metadata": {},
   "outputs": [],
   "source": [
    "kmeans = KMeans(n_clusters=n_clusters, init=\"k-means++\", max_iter=1000, random_state=SEED,n_jobs=-1)"
   ]
  },
  {
   "cell_type": "code",
   "execution_count": 42,
   "id": "b55570b2-3004-4217-a21d-25dce6b5bb80",
   "metadata": {},
   "outputs": [],
   "source": [
    "test_df = pd.read_feather(datapath/'test.feather')"
   ]
  },
  {
   "cell_type": "code",
   "execution_count": 47,
   "id": "0e9827be-0d13-4c41-8d4d-5feaa97b84ae",
   "metadata": {},
   "outputs": [],
   "source": [
    "if cd_feature:\n",
    "    X_cd = kmeans.fit_transform(df[useful_features])\n",
    "    X_cd = pd.DataFrame(X_cd, columns=cluster_cols, index=df.index)\n",
    "    X_cd.to_feather(altdatapath/f'train-ONLY-KMeans_{n_clusters}cluster_kmeans++_maxiter1000_rs42.feather')\n",
    "    train = df.join(X_cd)\n",
    "    train.to_feather(altdatapath/f'train-WITH-KMeans_{n_clusters}cluster_kmeans++_maxiter1000_rs42.feather')\n",
    "    X_cd = kmeans.transform(test_df[useful_features])\n",
    "    X_cd = pd.DataFrame(X_cd, columns=cluster_cols, index=test_df.index)\n",
    "    X_cd.to_feather(altdatapath/f'test-ONLY-KMeans_{n_clusters}cluster_kmeans++_maxiter1000_rs42.feather')\n",
    "    test = test_df.join(X_cd)\n",
    "    test.to_feather(altdatapath/f'test-WITH-KMeans_{n_clusters}cluster_kmeans++_maxiter1000_rs42.feather')"
   ]
  },
  {
   "cell_type": "code",
   "execution_count": 48,
   "id": "c0820a32-c52d-499b-89aa-a3265c13132a",
   "metadata": {},
   "outputs": [
    {
     "data": {
      "text/html": [
       "<div>\n",
       "<style scoped>\n",
       "    .dataframe tbody tr th:only-of-type {\n",
       "        vertical-align: middle;\n",
       "    }\n",
       "\n",
       "    .dataframe tbody tr th {\n",
       "        vertical-align: top;\n",
       "    }\n",
       "\n",
       "    .dataframe thead th {\n",
       "        text-align: right;\n",
       "    }\n",
       "</style>\n",
       "<table border=\"1\" class=\"dataframe\">\n",
       "  <thead>\n",
       "    <tr style=\"text-align: right;\">\n",
       "      <th></th>\n",
       "      <th>f0</th>\n",
       "      <th>f1</th>\n",
       "      <th>f2</th>\n",
       "      <th>f3</th>\n",
       "      <th>f4</th>\n",
       "      <th>f5</th>\n",
       "      <th>f6</th>\n",
       "      <th>f7</th>\n",
       "      <th>f8</th>\n",
       "      <th>f9</th>\n",
       "      <th>...</th>\n",
       "      <th>cluster3</th>\n",
       "      <th>cluster4</th>\n",
       "      <th>cluster5</th>\n",
       "      <th>cluster6</th>\n",
       "      <th>cluster7</th>\n",
       "      <th>cluster8</th>\n",
       "      <th>cluster9</th>\n",
       "      <th>cluster10</th>\n",
       "      <th>cluster11</th>\n",
       "      <th>cluster12</th>\n",
       "    </tr>\n",
       "  </thead>\n",
       "  <tbody>\n",
       "    <tr>\n",
       "      <th>0</th>\n",
       "      <td>0.205979</td>\n",
       "      <td>0.410993</td>\n",
       "      <td>0.176775</td>\n",
       "      <td>0.223581</td>\n",
       "      <td>0.423543</td>\n",
       "      <td>0.476140</td>\n",
       "      <td>0.413590</td>\n",
       "      <td>0.612021</td>\n",
       "      <td>0.534873</td>\n",
       "      <td>0.147295</td>\n",
       "      <td>...</td>\n",
       "      <td>0.118063</td>\n",
       "      <td>1.120353</td>\n",
       "      <td>0.498104</td>\n",
       "      <td>1.065476</td>\n",
       "      <td>1.080335</td>\n",
       "      <td>0.404707</td>\n",
       "      <td>0.376228</td>\n",
       "      <td>1.007677</td>\n",
       "      <td>0.566420</td>\n",
       "      <td>0.273633</td>\n",
       "    </tr>\n",
       "    <tr>\n",
       "      <th>1</th>\n",
       "      <td>0.181004</td>\n",
       "      <td>0.473119</td>\n",
       "      <td>0.011734</td>\n",
       "      <td>0.213657</td>\n",
       "      <td>0.619678</td>\n",
       "      <td>0.441593</td>\n",
       "      <td>0.230407</td>\n",
       "      <td>0.686013</td>\n",
       "      <td>0.281971</td>\n",
       "      <td>0.238509</td>\n",
       "      <td>...</td>\n",
       "      <td>0.177302</td>\n",
       "      <td>1.121155</td>\n",
       "      <td>0.521874</td>\n",
       "      <td>1.024940</td>\n",
       "      <td>1.033481</td>\n",
       "      <td>0.257178</td>\n",
       "      <td>0.232656</td>\n",
       "      <td>1.015721</td>\n",
       "      <td>0.511074</td>\n",
       "      <td>0.270840</td>\n",
       "    </tr>\n",
       "    <tr>\n",
       "      <th>2</th>\n",
       "      <td>0.182583</td>\n",
       "      <td>0.307431</td>\n",
       "      <td>0.325950</td>\n",
       "      <td>0.207116</td>\n",
       "      <td>0.605699</td>\n",
       "      <td>0.309695</td>\n",
       "      <td>0.493337</td>\n",
       "      <td>0.751107</td>\n",
       "      <td>0.536272</td>\n",
       "      <td>0.286813</td>\n",
       "      <td>...</td>\n",
       "      <td>1.106350</td>\n",
       "      <td>0.137834</td>\n",
       "      <td>1.006925</td>\n",
       "      <td>0.584342</td>\n",
       "      <td>0.609170</td>\n",
       "      <td>1.173763</td>\n",
       "      <td>1.161392</td>\n",
       "      <td>0.470892</td>\n",
       "      <td>1.040839</td>\n",
       "      <td>1.122642</td>\n",
       "    </tr>\n",
       "    <tr>\n",
       "      <th>3</th>\n",
       "      <td>0.180240</td>\n",
       "      <td>0.494592</td>\n",
       "      <td>0.008367</td>\n",
       "      <td>0.223580</td>\n",
       "      <td>0.760618</td>\n",
       "      <td>0.439211</td>\n",
       "      <td>0.432055</td>\n",
       "      <td>0.776147</td>\n",
       "      <td>0.483958</td>\n",
       "      <td>0.260886</td>\n",
       "      <td>...</td>\n",
       "      <td>0.085023</td>\n",
       "      <td>1.122756</td>\n",
       "      <td>0.504192</td>\n",
       "      <td>1.036171</td>\n",
       "      <td>1.077985</td>\n",
       "      <td>0.398120</td>\n",
       "      <td>0.279080</td>\n",
       "      <td>1.005104</td>\n",
       "      <td>0.569666</td>\n",
       "      <td>0.281321</td>\n",
       "    </tr>\n",
       "    <tr>\n",
       "      <th>4</th>\n",
       "      <td>0.177172</td>\n",
       "      <td>0.495513</td>\n",
       "      <td>0.014263</td>\n",
       "      <td>0.548819</td>\n",
       "      <td>0.625396</td>\n",
       "      <td>0.562493</td>\n",
       "      <td>0.117158</td>\n",
       "      <td>0.561255</td>\n",
       "      <td>0.077115</td>\n",
       "      <td>0.158321</td>\n",
       "      <td>...</td>\n",
       "      <td>1.018883</td>\n",
       "      <td>0.519324</td>\n",
       "      <td>1.123513</td>\n",
       "      <td>0.384397</td>\n",
       "      <td>0.430975</td>\n",
       "      <td>1.087314</td>\n",
       "      <td>1.073945</td>\n",
       "      <td>0.200169</td>\n",
       "      <td>1.155846</td>\n",
       "      <td>1.048198</td>\n",
       "    </tr>\n",
       "  </tbody>\n",
       "</table>\n",
       "<p>5 rows × 298 columns</p>\n",
       "</div>"
      ],
      "text/plain": [
       "         f0        f1        f2        f3        f4        f5        f6  \\\n",
       "0  0.205979  0.410993  0.176775  0.223581  0.423543  0.476140  0.413590   \n",
       "1  0.181004  0.473119  0.011734  0.213657  0.619678  0.441593  0.230407   \n",
       "2  0.182583  0.307431  0.325950  0.207116  0.605699  0.309695  0.493337   \n",
       "3  0.180240  0.494592  0.008367  0.223580  0.760618  0.439211  0.432055   \n",
       "4  0.177172  0.495513  0.014263  0.548819  0.625396  0.562493  0.117158   \n",
       "\n",
       "         f7        f8        f9  ...  cluster3  cluster4  cluster5  cluster6  \\\n",
       "0  0.612021  0.534873  0.147295  ...  0.118063  1.120353  0.498104  1.065476   \n",
       "1  0.686013  0.281971  0.238509  ...  0.177302  1.121155  0.521874  1.024940   \n",
       "2  0.751107  0.536272  0.286813  ...  1.106350  0.137834  1.006925  0.584342   \n",
       "3  0.776147  0.483958  0.260886  ...  0.085023  1.122756  0.504192  1.036171   \n",
       "4  0.561255  0.077115  0.158321  ...  1.018883  0.519324  1.123513  0.384397   \n",
       "\n",
       "   cluster7  cluster8  cluster9  cluster10  cluster11  cluster12  \n",
       "0  1.080335  0.404707  0.376228   1.007677   0.566420   0.273633  \n",
       "1  1.033481  0.257178  0.232656   1.015721   0.511074   0.270840  \n",
       "2  0.609170  1.173763  1.161392   0.470892   1.040839   1.122642  \n",
       "3  1.077985  0.398120  0.279080   1.005104   0.569666   0.281321  \n",
       "4  0.430975  1.087314  1.073945   0.200169   1.155846   1.048198  \n",
       "\n",
       "[5 rows x 298 columns]"
      ]
     },
     "execution_count": 48,
     "metadata": {},
     "output_type": "execute_result"
    }
   ],
   "source": [
    "train.head()"
   ]
  },
  {
   "cell_type": "code",
   "execution_count": 42,
   "id": "9b5158e9-08c3-435b-a9ca-ed61ed4c6858",
   "metadata": {},
   "outputs": [
    {
     "data": {
      "text/html": [
       "<div>\n",
       "<style scoped>\n",
       "    .dataframe tbody tr th:only-of-type {\n",
       "        vertical-align: middle;\n",
       "    }\n",
       "\n",
       "    .dataframe tbody tr th {\n",
       "        vertical-align: top;\n",
       "    }\n",
       "\n",
       "    .dataframe thead th {\n",
       "        text-align: right;\n",
       "    }\n",
       "</style>\n",
       "<table border=\"1\" class=\"dataframe\">\n",
       "  <thead>\n",
       "    <tr style=\"text-align: right;\">\n",
       "      <th></th>\n",
       "      <th>f0</th>\n",
       "      <th>f1</th>\n",
       "      <th>f2</th>\n",
       "      <th>f3</th>\n",
       "      <th>f4</th>\n",
       "      <th>f5</th>\n",
       "      <th>f6</th>\n",
       "      <th>f7</th>\n",
       "      <th>f8</th>\n",
       "      <th>f9</th>\n",
       "      <th>...</th>\n",
       "      <th>cluster3</th>\n",
       "      <th>cluster4</th>\n",
       "      <th>cluster5</th>\n",
       "      <th>cluster6</th>\n",
       "      <th>cluster7</th>\n",
       "      <th>cluster8</th>\n",
       "      <th>cluster9</th>\n",
       "      <th>cluster10</th>\n",
       "      <th>cluster11</th>\n",
       "      <th>cluster12</th>\n",
       "    </tr>\n",
       "  </thead>\n",
       "  <tbody>\n",
       "    <tr>\n",
       "      <th>0</th>\n",
       "      <td>0.205979</td>\n",
       "      <td>0.410993</td>\n",
       "      <td>0.176775</td>\n",
       "      <td>0.223581</td>\n",
       "      <td>0.423543</td>\n",
       "      <td>0.476140</td>\n",
       "      <td>0.413590</td>\n",
       "      <td>0.612021</td>\n",
       "      <td>0.534873</td>\n",
       "      <td>0.147295</td>\n",
       "      <td>...</td>\n",
       "      <td>1.006856</td>\n",
       "      <td>1.120371</td>\n",
       "      <td>0.505164</td>\n",
       "      <td>0.273927</td>\n",
       "      <td>1.068043</td>\n",
       "      <td>0.376954</td>\n",
       "      <td>0.118066</td>\n",
       "      <td>0.410462</td>\n",
       "      <td>1.012058</td>\n",
       "      <td>1.036928</td>\n",
       "    </tr>\n",
       "    <tr>\n",
       "      <th>1</th>\n",
       "      <td>0.181004</td>\n",
       "      <td>0.473119</td>\n",
       "      <td>0.011734</td>\n",
       "      <td>0.213657</td>\n",
       "      <td>0.619678</td>\n",
       "      <td>0.441593</td>\n",
       "      <td>0.230407</td>\n",
       "      <td>0.686013</td>\n",
       "      <td>0.281971</td>\n",
       "      <td>0.238509</td>\n",
       "      <td>...</td>\n",
       "      <td>1.015795</td>\n",
       "      <td>1.121241</td>\n",
       "      <td>0.506705</td>\n",
       "      <td>0.270957</td>\n",
       "      <td>1.026489</td>\n",
       "      <td>0.232978</td>\n",
       "      <td>0.177303</td>\n",
       "      <td>0.262626</td>\n",
       "      <td>1.041144</td>\n",
       "      <td>1.036402</td>\n",
       "    </tr>\n",
       "    <tr>\n",
       "      <th>2</th>\n",
       "      <td>0.182583</td>\n",
       "      <td>0.307431</td>\n",
       "      <td>0.325950</td>\n",
       "      <td>0.207116</td>\n",
       "      <td>0.605699</td>\n",
       "      <td>0.309695</td>\n",
       "      <td>0.493337</td>\n",
       "      <td>0.751107</td>\n",
       "      <td>0.536272</td>\n",
       "      <td>0.286813</td>\n",
       "      <td>...</td>\n",
       "      <td>0.472956</td>\n",
       "      <td>0.137650</td>\n",
       "      <td>1.009546</td>\n",
       "      <td>1.122660</td>\n",
       "      <td>0.589676</td>\n",
       "      <td>1.161223</td>\n",
       "      <td>1.106344</td>\n",
       "      <td>1.171501</td>\n",
       "      <td>0.528632</td>\n",
       "      <td>0.510218</td>\n",
       "    </tr>\n",
       "    <tr>\n",
       "      <th>3</th>\n",
       "      <td>0.180240</td>\n",
       "      <td>0.494592</td>\n",
       "      <td>0.008367</td>\n",
       "      <td>0.223580</td>\n",
       "      <td>0.760618</td>\n",
       "      <td>0.439211</td>\n",
       "      <td>0.432055</td>\n",
       "      <td>0.776147</td>\n",
       "      <td>0.483958</td>\n",
       "      <td>0.260886</td>\n",
       "      <td>...</td>\n",
       "      <td>1.003634</td>\n",
       "      <td>1.122804</td>\n",
       "      <td>0.510653</td>\n",
       "      <td>0.281623</td>\n",
       "      <td>1.037806</td>\n",
       "      <td>0.279855</td>\n",
       "      <td>0.085024</td>\n",
       "      <td>0.404116</td>\n",
       "      <td>1.030548</td>\n",
       "      <td>1.039165</td>\n",
       "    </tr>\n",
       "    <tr>\n",
       "      <th>4</th>\n",
       "      <td>0.177172</td>\n",
       "      <td>0.495513</td>\n",
       "      <td>0.014263</td>\n",
       "      <td>0.548819</td>\n",
       "      <td>0.625396</td>\n",
       "      <td>0.562493</td>\n",
       "      <td>0.117158</td>\n",
       "      <td>0.561255</td>\n",
       "      <td>0.077115</td>\n",
       "      <td>0.158321</td>\n",
       "      <td>...</td>\n",
       "      <td>0.194657</td>\n",
       "      <td>0.519368</td>\n",
       "      <td>1.126789</td>\n",
       "      <td>1.048274</td>\n",
       "      <td>0.390756</td>\n",
       "      <td>1.074191</td>\n",
       "      <td>1.018884</td>\n",
       "      <td>1.089476</td>\n",
       "      <td>0.113174</td>\n",
       "      <td>0.314312</td>\n",
       "    </tr>\n",
       "  </tbody>\n",
       "</table>\n",
       "<p>5 rows × 298 columns</p>\n",
       "</div>"
      ],
      "text/plain": [
       "         f0        f1        f2        f3        f4        f5        f6  \\\n",
       "0  0.205979  0.410993  0.176775  0.223581  0.423543  0.476140  0.413590   \n",
       "1  0.181004  0.473119  0.011734  0.213657  0.619678  0.441593  0.230407   \n",
       "2  0.182583  0.307431  0.325950  0.207116  0.605699  0.309695  0.493337   \n",
       "3  0.180240  0.494592  0.008367  0.223580  0.760618  0.439211  0.432055   \n",
       "4  0.177172  0.495513  0.014263  0.548819  0.625396  0.562493  0.117158   \n",
       "\n",
       "         f7        f8        f9  ...  cluster3  cluster4  cluster5  cluster6  \\\n",
       "0  0.612021  0.534873  0.147295  ...  1.006856  1.120371  0.505164  0.273927   \n",
       "1  0.686013  0.281971  0.238509  ...  1.015795  1.121241  0.506705  0.270957   \n",
       "2  0.751107  0.536272  0.286813  ...  0.472956  0.137650  1.009546  1.122660   \n",
       "3  0.776147  0.483958  0.260886  ...  1.003634  1.122804  0.510653  0.281623   \n",
       "4  0.561255  0.077115  0.158321  ...  0.194657  0.519368  1.126789  1.048274   \n",
       "\n",
       "   cluster7  cluster8  cluster9  cluster10  cluster11  cluster12  \n",
       "0  1.068043  0.376954  0.118066   0.410462   1.012058   1.036928  \n",
       "1  1.026489  0.232978  0.177303   0.262626   1.041144   1.036402  \n",
       "2  0.589676  1.161223  1.106344   1.171501   0.528632   0.510218  \n",
       "3  1.037806  0.279855  0.085024   0.404116   1.030548   1.039165  \n",
       "4  0.390756  1.074191  1.018884   1.089476   0.113174   0.314312  \n",
       "\n",
       "[5 rows x 298 columns]"
      ]
     },
     "execution_count": 42,
     "metadata": {},
     "output_type": "execute_result"
    }
   ],
   "source": [
    "train.head()"
   ]
  },
  {
   "cell_type": "markdown",
   "id": "0107ef29-8a05-4763-aea7-8eb234c2eaab",
   "metadata": {},
   "source": [
    "- The above numbers generally track with the ones [here](https://www.kaggle.com/motchan/tps-oct-2021-kmeans), but with a few variations, because he left the `id` column in the table, and I didn't."
   ]
  },
  {
   "cell_type": "code",
   "execution_count": 43,
   "id": "8180e572-0bdc-465f-aa59-de5babaf19be",
   "metadata": {},
   "outputs": [
    {
     "data": {
      "text/plain": [
       "<AxesSubplot:ylabel='Density'>"
      ]
     },
     "execution_count": 43,
     "metadata": {},
     "output_type": "execute_result"
    },
    {
     "data": {
      "image/png": "[encoded data removed]",
      "text/plain": [
       "<Figure size 432x288 with 1 Axes>"
      ]
     },
     "metadata": {
      "needs_background": "light"
     },
     "output_type": "display_data"
    }
   ],
   "source": [
    "sns.kdeplot(data=train[cluster_cols])"
   ]
  },
  {
   "cell_type": "code",
   "execution_count": 44,
   "id": "7744566a-0cdf-4e37-8c7f-203cd2069117",
   "metadata": {},
   "outputs": [
    {
     "data": {
      "text/html": [
       "<div>\n",
       "<style scoped>\n",
       "    .dataframe tbody tr th:only-of-type {\n",
       "        vertical-align: middle;\n",
       "    }\n",
       "\n",
       "    .dataframe tbody tr th {\n",
       "        vertical-align: top;\n",
       "    }\n",
       "\n",
       "    .dataframe thead th {\n",
       "        text-align: right;\n",
       "    }\n",
       "</style>\n",
       "<table border=\"1\" class=\"dataframe\">\n",
       "  <thead>\n",
       "    <tr style=\"text-align: right;\">\n",
       "      <th></th>\n",
       "      <th>cluster1</th>\n",
       "      <th>cluster2</th>\n",
       "      <th>cluster3</th>\n",
       "      <th>cluster4</th>\n",
       "      <th>cluster5</th>\n",
       "      <th>cluster6</th>\n",
       "      <th>cluster7</th>\n",
       "      <th>cluster8</th>\n",
       "      <th>cluster9</th>\n",
       "      <th>cluster10</th>\n",
       "      <th>cluster11</th>\n",
       "      <th>cluster12</th>\n",
       "    </tr>\n",
       "  </thead>\n",
       "  <tbody>\n",
       "    <tr>\n",
       "      <th>cluster1</th>\n",
       "      <td>1.000000</td>\n",
       "      <td>-0.834818</td>\n",
       "      <td>-0.827085</td>\n",
       "      <td>0.883170</td>\n",
       "      <td>-0.902748</td>\n",
       "      <td>0.967413</td>\n",
       "      <td>0.956921</td>\n",
       "      <td>-0.859552</td>\n",
       "      <td>-0.859226</td>\n",
       "      <td>0.985605</td>\n",
       "      <td>-0.927443</td>\n",
       "      <td>-0.843773</td>\n",
       "    </tr>\n",
       "    <tr>\n",
       "      <th>cluster2</th>\n",
       "      <td>-0.834818</td>\n",
       "      <td>1.000000</td>\n",
       "      <td>0.982237</td>\n",
       "      <td>-0.909122</td>\n",
       "      <td>0.864781</td>\n",
       "      <td>-0.857575</td>\n",
       "      <td>-0.860419</td>\n",
       "      <td>0.950699</td>\n",
       "      <td>0.960619</td>\n",
       "      <td>-0.830518</td>\n",
       "      <td>0.861883</td>\n",
       "      <td>0.979839</td>\n",
       "    </tr>\n",
       "    <tr>\n",
       "      <th>cluster3</th>\n",
       "      <td>-0.827085</td>\n",
       "      <td>0.982237</td>\n",
       "      <td>1.000000</td>\n",
       "      <td>-0.892228</td>\n",
       "      <td>0.861461</td>\n",
       "      <td>-0.840468</td>\n",
       "      <td>-0.843665</td>\n",
       "      <td>0.950219</td>\n",
       "      <td>0.961465</td>\n",
       "      <td>-0.809768</td>\n",
       "      <td>0.855848</td>\n",
       "      <td>0.986456</td>\n",
       "    </tr>\n",
       "    <tr>\n",
       "      <th>cluster4</th>\n",
       "      <td>0.883170</td>\n",
       "      <td>-0.909122</td>\n",
       "      <td>-0.892228</td>\n",
       "      <td>1.000000</td>\n",
       "      <td>-0.819827</td>\n",
       "      <td>0.877304</td>\n",
       "      <td>0.871823</td>\n",
       "      <td>-0.921475</td>\n",
       "      <td>-0.920426</td>\n",
       "      <td>0.880446</td>\n",
       "      <td>-0.843821</td>\n",
       "      <td>-0.909280</td>\n",
       "    </tr>\n",
       "    <tr>\n",
       "      <th>cluster5</th>\n",
       "      <td>-0.902748</td>\n",
       "      <td>0.864781</td>\n",
       "      <td>0.861461</td>\n",
       "      <td>-0.819827</td>\n",
       "      <td>1.000000</td>\n",
       "      <td>-0.913318</td>\n",
       "      <td>-0.921709</td>\n",
       "      <td>0.838853</td>\n",
       "      <td>0.857794</td>\n",
       "      <td>-0.888421</td>\n",
       "      <td>0.983489</td>\n",
       "      <td>0.867239</td>\n",
       "    </tr>\n",
       "    <tr>\n",
       "      <th>cluster6</th>\n",
       "      <td>0.967413</td>\n",
       "      <td>-0.857575</td>\n",
       "      <td>-0.840468</td>\n",
       "      <td>0.877304</td>\n",
       "      <td>-0.913318</td>\n",
       "      <td>1.000000</td>\n",
       "      <td>0.947582</td>\n",
       "      <td>-0.870570</td>\n",
       "      <td>-0.842435</td>\n",
       "      <td>0.968453</td>\n",
       "      <td>-0.936778</td>\n",
       "      <td>-0.856282</td>\n",
       "    </tr>\n",
       "    <tr>\n",
       "      <th>cluster7</th>\n",
       "      <td>0.956921</td>\n",
       "      <td>-0.860419</td>\n",
       "      <td>-0.843665</td>\n",
       "      <td>0.871823</td>\n",
       "      <td>-0.921709</td>\n",
       "      <td>0.947582</td>\n",
       "      <td>1.000000</td>\n",
       "      <td>-0.833056</td>\n",
       "      <td>-0.872849</td>\n",
       "      <td>0.956731</td>\n",
       "      <td>-0.916789</td>\n",
       "      <td>-0.860250</td>\n",
       "    </tr>\n",
       "    <tr>\n",
       "      <th>cluster8</th>\n",
       "      <td>-0.859552</td>\n",
       "      <td>0.950699</td>\n",
       "      <td>0.950219</td>\n",
       "      <td>-0.921475</td>\n",
       "      <td>0.838853</td>\n",
       "      <td>-0.870570</td>\n",
       "      <td>-0.833056</td>\n",
       "      <td>1.000000</td>\n",
       "      <td>0.939392</td>\n",
       "      <td>-0.846012</td>\n",
       "      <td>0.880281</td>\n",
       "      <td>0.952604</td>\n",
       "    </tr>\n",
       "    <tr>\n",
       "      <th>cluster9</th>\n",
       "      <td>-0.859226</td>\n",
       "      <td>0.960619</td>\n",
       "      <td>0.961465</td>\n",
       "      <td>-0.920426</td>\n",
       "      <td>0.857794</td>\n",
       "      <td>-0.842435</td>\n",
       "      <td>-0.872849</td>\n",
       "      <td>0.939392</td>\n",
       "      <td>1.000000</td>\n",
       "      <td>-0.845674</td>\n",
       "      <td>0.857471</td>\n",
       "      <td>0.963912</td>\n",
       "    </tr>\n",
       "    <tr>\n",
       "      <th>cluster10</th>\n",
       "      <td>0.985605</td>\n",
       "      <td>-0.830518</td>\n",
       "      <td>-0.809768</td>\n",
       "      <td>0.880446</td>\n",
       "      <td>-0.888421</td>\n",
       "      <td>0.968453</td>\n",
       "      <td>0.956731</td>\n",
       "      <td>-0.846012</td>\n",
       "      <td>-0.845674</td>\n",
       "      <td>1.000000</td>\n",
       "      <td>-0.914063</td>\n",
       "      <td>-0.828154</td>\n",
       "    </tr>\n",
       "    <tr>\n",
       "      <th>cluster11</th>\n",
       "      <td>-0.927443</td>\n",
       "      <td>0.861883</td>\n",
       "      <td>0.855848</td>\n",
       "      <td>-0.843821</td>\n",
       "      <td>0.983489</td>\n",
       "      <td>-0.936778</td>\n",
       "      <td>-0.916789</td>\n",
       "      <td>0.880281</td>\n",
       "      <td>0.857471</td>\n",
       "      <td>-0.914063</td>\n",
       "      <td>1.000000</td>\n",
       "      <td>0.864448</td>\n",
       "    </tr>\n",
       "    <tr>\n",
       "      <th>cluster12</th>\n",
       "      <td>-0.843773</td>\n",
       "      <td>0.979839</td>\n",
       "      <td>0.986456</td>\n",
       "      <td>-0.909280</td>\n",
       "      <td>0.867239</td>\n",
       "      <td>-0.856282</td>\n",
       "      <td>-0.860250</td>\n",
       "      <td>0.952604</td>\n",
       "      <td>0.963912</td>\n",
       "      <td>-0.828154</td>\n",
       "      <td>0.864448</td>\n",
       "      <td>1.000000</td>\n",
       "    </tr>\n",
       "  </tbody>\n",
       "</table>\n",
       "</div>"
      ],
      "text/plain": [
       "           cluster1  cluster2  cluster3  cluster4  cluster5  cluster6  \\\n",
       "cluster1   1.000000 -0.834818 -0.827085  0.883170 -0.902748  0.967413   \n",
       "cluster2  -0.834818  1.000000  0.982237 -0.909122  0.864781 -0.857575   \n",
       "cluster3  -0.827085  0.982237  1.000000 -0.892228  0.861461 -0.840468   \n",
       "cluster4   0.883170 -0.909122 -0.892228  1.000000 -0.819827  0.877304   \n",
       "cluster5  -0.902748  0.864781  0.861461 -0.819827  1.000000 -0.913318   \n",
       "cluster6   0.967413 -0.857575 -0.840468  0.877304 -0.913318  1.000000   \n",
       "cluster7   0.956921 -0.860419 -0.843665  0.871823 -0.921709  0.947582   \n",
       "cluster8  -0.859552  0.950699  0.950219 -0.921475  0.838853 -0.870570   \n",
       "cluster9  -0.859226  0.960619  0.961465 -0.920426  0.857794 -0.842435   \n",
       "cluster10  0.985605 -0.830518 -0.809768  0.880446 -0.888421  0.968453   \n",
       "cluster11 -0.927443  0.861883  0.855848 -0.843821  0.983489 -0.936778   \n",
       "cluster12 -0.843773  0.979839  0.986456 -0.909280  0.867239 -0.856282   \n",
       "\n",
       "           cluster7  cluster8  cluster9  cluster10  cluster11  cluster12  \n",
       "cluster1   0.956921 -0.859552 -0.859226   0.985605  -0.927443  -0.843773  \n",
       "cluster2  -0.860419  0.950699  0.960619  -0.830518   0.861883   0.979839  \n",
       "cluster3  -0.843665  0.950219  0.961465  -0.809768   0.855848   0.986456  \n",
       "cluster4   0.871823 -0.921475 -0.920426   0.880446  -0.843821  -0.909280  \n",
       "cluster5  -0.921709  0.838853  0.857794  -0.888421   0.983489   0.867239  \n",
       "cluster6   0.947582 -0.870570 -0.842435   0.968453  -0.936778  -0.856282  \n",
       "cluster7   1.000000 -0.833056 -0.872849   0.956731  -0.916789  -0.860250  \n",
       "cluster8  -0.833056  1.000000  0.939392  -0.846012   0.880281   0.952604  \n",
       "cluster9  -0.872849  0.939392  1.000000  -0.845674   0.857471   0.963912  \n",
       "cluster10  0.956731 -0.846012 -0.845674   1.000000  -0.914063  -0.828154  \n",
       "cluster11 -0.916789  0.880281  0.857471  -0.914063   1.000000   0.864448  \n",
       "cluster12 -0.860250  0.952604  0.963912  -0.828154   0.864448   1.000000  "
      ]
     },
     "execution_count": 44,
     "metadata": {},
     "output_type": "execute_result"
    }
   ],
   "source": [
    "train[cluster_cols].corr()"
   ]
  },
  {
   "cell_type": "markdown",
   "id": "5daabb7d-d072-461b-b170-25f8b71204b8",
   "metadata": {},
   "source": [
    "- So this is suggesting that the following clusters are correlated:\n",
    "    - 1 & 3\n",
    "    - 4 & 6\n",
    "    - 5 & 8\n",
    "    - 7 & 2\n",
    "- In [mottchan](https://www.kaggle.com/motchan/tps-oct-2021-kmeans)'s notebook (which I'm following), he opts to add 8 new features on the basis of these: for each pair, there's one feature that divides the first by the second, adn another that multiplies the first by the second.\n",
    "- All of these features prove more important for predicting the final figure than even `f22`."
   ]
  },
  {
   "cell_type": "code",
   "execution_count": 59,
   "id": "5069f12c-75db-4e06-b13f-effe397318ee",
   "metadata": {},
   "outputs": [],
   "source": [
    "def add_synthetic_features(df):\n",
    "    df['new_f1'] = df['cluster1'] / df['cluster3']\n",
    "    df['new_f2'] = df['cluster8'] / df['cluster5']\n",
    "    df['new_f3'] = df['cluster7'] / df['cluster2']\n",
    "    df['new_f4'] = df['cluster4'] / df['cluster6']\n",
    "    df['new_f5'] = df['cluster1'] * df['cluster3']\n",
    "    df['new_f6'] = df['cluster8'] * df['cluster5']\n",
    "    df['new_f7'] = df['cluster7'] * df['cluster2']\n",
    "    df['new_f8'] = df['cluster4'] * df['cluster6']\n",
    "    return df"
   ]
  },
  {
   "cell_type": "code",
   "execution_count": 60,
   "id": "86d7e04c-7ab3-450c-bde1-8e860937a777",
   "metadata": {},
   "outputs": [],
   "source": [
    "train = add_synthetic_features(train)"
   ]
  },
  {
   "cell_type": "code",
   "execution_count": 61,
   "id": "0ec06a1e-dc64-480c-897a-4d4540acc733",
   "metadata": {},
   "outputs": [],
   "source": [
    "test = add_synthetic_features(test)"
   ]
  },
  {
   "cell_type": "code",
   "execution_count": 62,
   "id": "956e483e-a4d9-4ff2-b432-e0784b4ead43",
   "metadata": {},
   "outputs": [],
   "source": [
    "train.to_feather(altdatapath/'train-WITH-KMeans_8cluster_ninit50_maxiter1000_rs42-AND-synthetic.feather')\n",
    "test.to_feather(altdatapath/'test-WITH-KMeans_8cluster_ninit50_maxiter1000_rs42-AND-synthetic.feather')"
   ]
  },
  {
   "cell_type": "markdown",
   "id": "9f13be42-2209-4806-a137-2dfb41c4f362",
   "metadata": {},
   "source": [
    "# (old) ↓"
   ]
  },
  {
   "cell_type": "code",
   "execution_count": 20,
   "id": "d7fc3ade-47f5-455e-9eae-23f035f093aa",
   "metadata": {
    "tags": []
   },
   "outputs": [
    {
     "data": {
      "text/plain": [
       "[{'f265': 2},\n",
       " {'f255': 2},\n",
       " {'f22': 2},\n",
       " {'f117': 75104},\n",
       " {'f256': 2},\n",
       " {'f103': 76473},\n",
       " {'f260': 2},\n",
       " {'f252': 2},\n",
       " {'f247': 2},\n",
       " {'f274': 2},\n",
       " {'f243': 2},\n",
       " {'f108': 66767},\n",
       " {'f210': 65746},\n",
       " {'f43': 2},\n",
       " {'f258': 2},\n",
       " {'f266': 2},\n",
       " {'f269': 2},\n",
       " {'f245': 2},\n",
       " {'f99': 86896}]"
      ]
     },
     "execution_count": 20,
     "metadata": {},
     "output_type": "execute_result"
    }
   ],
   "source": [
    "low_cardinality_features = [{f: len(X[f].unique())} for f in X.columns if len(X[f].unique()) < 100000]\n",
    "low_cardinality_features"
   ]
  },
  {
   "cell_type": "code",
   "execution_count": 21,
   "id": "f477e01d-c7c3-41ce-be7e-1bbe25f14c62",
   "metadata": {
    "tags": []
   },
   "outputs": [
    {
     "data": {
      "text/plain": [
       "[{'f174': 542053},\n",
       " {'f72': 573057},\n",
       " {'f44': 241770},\n",
       " {'f53': 240013},\n",
       " {'f62': 332336},\n",
       " {'f16': 313228},\n",
       " {'f206': 431717},\n",
       " {'f74': 175223},\n",
       " {'f33': 324185},\n",
       " {'f143': 444524},\n",
       " {'f6': 421827},\n",
       " {'f169': 606385},\n",
       " {'f29': 132977},\n",
       " {'f208': 365225},\n",
       " {'f107': 147096},\n",
       " {'f71': 125690},\n",
       " {'f152': 399983},\n",
       " {'f90': 426170},\n",
       " {'f18': 163185},\n",
       " {'f56': 225538},\n",
       " {'f77': 322750},\n",
       " {'f4': 401939},\n",
       " {'f5': 241585},\n",
       " {'f87': 198478},\n",
       " {'f129': 183006},\n",
       " {'f7': 265619},\n",
       " {'f58': 482130},\n",
       " {'f187': 188558},\n",
       " {'f3': 244851},\n",
       " {'f225': 558377},\n",
       " {'f229': 358098},\n",
       " {'f20': 226437},\n",
       " {'f211': 223364},\n",
       " {'f70': 157423},\n",
       " {'f199': 302838},\n",
       " {'f61': 268732},\n",
       " {'f118': 189040},\n",
       " {'f144': 607935},\n",
       " {'f93': 410485},\n",
       " {'f130': 352035},\n",
       " {'f128': 177314},\n",
       " {'f27': 223306},\n",
       " {'f1': 374634},\n",
       " {'f85': 325589},\n",
       " {'f212': 216199},\n",
       " {'f80': 140510},\n",
       " {'f86': 365382},\n",
       " {'f76': 212732},\n",
       " {'f200': 420271},\n",
       " {'f64': 132128},\n",
       " {'f83': 202494},\n",
       " {'f127': 226315},\n",
       " {'f138': 497263},\n",
       " {'f11': 141980},\n",
       " {'f19': 161302},\n",
       " {'f82': 107320},\n",
       " {'f231': 325664},\n",
       " {'f239': 239593},\n",
       " {'f60': 245103},\n",
       " {'f119': 171081},\n",
       " {'f42': 171131},\n",
       " {'f2': 452401},\n",
       " {'f75': 116914},\n",
       " {'f79': 188230},\n",
       " {'f214': 460571},\n",
       " {'f73': 328802},\n",
       " {'f92': 386351},\n",
       " {'f40': 294067},\n",
       " {'f156': 152362},\n",
       " {'f157': 492134},\n",
       " {'f147': 251131},\n",
       " {'f226': 594319},\n",
       " {'f52': 120431},\n",
       " {'f98': 367956},\n",
       " {'f179': 497596},\n",
       " {'f173': 500033},\n",
       " {'f112': 305296},\n",
       " {'f140': 128487},\n",
       " {'f89': 324090},\n",
       " {'f141': 489019},\n",
       " {'f65': 307414},\n",
       " {'f195': 412007},\n",
       " {'f192': 490036},\n",
       " {'f14': 302868},\n",
       " {'f139': 436631},\n",
       " {'f78': 260647},\n",
       " {'f222': 355695},\n",
       " {'f184': 513613},\n",
       " {'f163': 453071},\n",
       " {'f114': 499970},\n",
       " {'f96': 146100},\n",
       " {'f154': 446224},\n",
       " {'f35': 123688},\n",
       " {'f133': 214341},\n",
       " {'f241': 244154},\n",
       " {'f55': 177793},\n",
       " {'f8': 428659},\n",
       " {'f17': 231233},\n",
       " {'f48': 182403},\n",
       " {'f191': 529250},\n",
       " {'f12': 246156},\n",
       " {'f63': 259988},\n",
       " {'f69': 214266},\n",
       " {'f26': 183403},\n",
       " {'f162': 445373},\n",
       " {'f213': 175959},\n",
       " {'f238': 179040},\n",
       " {'f150': 226675},\n",
       " {'f13': 257319},\n",
       " {'f136': 101424},\n",
       " {'f201': 199649},\n",
       " {'f113': 141591},\n",
       " {'f134': 195021},\n",
       " {'f95': 160801},\n",
       " {'f227': 553207},\n",
       " {'f125': 579880},\n",
       " {'f164': 125692}]"
      ]
     },
     "execution_count": 21,
     "metadata": {},
     "output_type": "execute_result"
    }
   ],
   "source": [
    "higher_cardinality_features = [{f: len(X[f].unique())} for f in X.columns if len(X[f].unique()) > 100000]\n",
    "higher_cardinality_features"
   ]
  },
  {
   "cell_type": "code",
   "execution_count": 22,
   "id": "017d3d8c-2b4e-45f2-aee4-ecf5ab4452e6",
   "metadata": {
    "tags": []
   },
   "outputs": [],
   "source": [
    "# for f in X.columns:\n",
    "#     pct_diff = (1000000 - X[f].nunique()) / 1000000\n",
    "#     if pct_diff >= 0.9:\n",
    "#         print(f\"for {f}: {pct_diff}\")\n",
    "    \n",
    "    "
   ]
  },
  {
   "cell_type": "code",
   "execution_count": 23,
   "id": "834c63e7-ebc6-41d7-ae9e-44e23823714e",
   "metadata": {
    "tags": []
   },
   "outputs": [],
   "source": [
    "# for f in X.columns:\n",
    "#     pct_diff = (1000000 - X[f].nunique()) / 1000000\n",
    "#     if pct_diff >= 0.8:\n",
    "#         print(f\"for {f}: {pct_diff}\")"
   ]
  },
  {
   "cell_type": "code",
   "execution_count": 24,
   "id": "ddc8a0af-0c2a-4889-8d7d-2ff810c3356b",
   "metadata": {},
   "outputs": [],
   "source": [
    "categoricals = [f for f in X.columns if ((1000000 - X[f].nunique()) / 1000000) >=0.9]"
   ]
  },
  {
   "cell_type": "code",
   "execution_count": 25,
   "id": "3a10ee18-1828-4956-92ba-1623697e19df",
   "metadata": {},
   "outputs": [],
   "source": [
    "import category_encoders as ce"
   ]
  },
  {
   "cell_type": "code",
   "execution_count": 26,
   "id": "1d193ee2-055a-4098-96cf-a2c10b850daf",
   "metadata": {},
   "outputs": [],
   "source": [
    "# encoder = ce.woe.WOEEncoder(cols=categoricals)"
   ]
  },
  {
   "cell_type": "code",
   "execution_count": 27,
   "id": "6fcbae3b-21a9-4c90-ac50-85f20faa3a55",
   "metadata": {},
   "outputs": [],
   "source": [
    "# encoder.fit(X,y)"
   ]
  },
  {
   "cell_type": "code",
   "execution_count": 28,
   "id": "fbcfd3b9-c288-4b63-8772-b758e4fc087c",
   "metadata": {},
   "outputs": [],
   "source": [
    "# X_woe = encoder.transform(X)"
   ]
  },
  {
   "cell_type": "code",
   "execution_count": 29,
   "id": "bb61bf31-b2c2-4a49-9783-57adbce550c1",
   "metadata": {},
   "outputs": [],
   "source": [
    "# type(X_woe)"
   ]
  },
  {
   "cell_type": "code",
   "execution_count": 30,
   "id": "16abc985-3a89-45d2-bf20-611a87e3ec49",
   "metadata": {},
   "outputs": [],
   "source": [
    "# X_woe.head()"
   ]
  },
  {
   "cell_type": "code",
   "execution_count": 31,
   "id": "c828b2c2-bbf0-4d7a-a2aa-0e103f894df1",
   "metadata": {},
   "outputs": [],
   "source": [
    "def baseline_test(X,y):\n",
    "    best_xgboost_params = {\n",
    "        'n_estimators': 3878,\n",
    "        'max_depth': 4,\n",
    "        'learning_rate': 0.024785857161974977,\n",
    "        'reg_alpha': 26.867682044658245,\n",
    "        'reg_lambda': 10.839759074147148,\n",
    "        'subsample': 0.8208581489835881,\n",
    "        'min_child_weight': 8.829122644339664,\n",
    "        'colsample_bytree': 0.906420714280384,\n",
    "        'gamma': 1.472322916021486\n",
    "    }\n",
    "\n",
    "    # instantiate the model, with some parameters locked in, and experimnental ones passed via splat \n",
    "    model = XGBClassifier(\n",
    "        objective='binary:logistic',\n",
    "        verbosity=1,\n",
    "        tree_method='gpu_hist',\n",
    "        booster='gbtree', # not bothering with dart for time reasons\n",
    "        random_state=SEED,\n",
    "        **best_xgboost_params\n",
    "    #         n_jobs=-1,\n",
    "    #         **params\n",
    "    )    \n",
    "    \n",
    "    X_train, X_valid, y_train, y_valid = train_test_split(X, y, test_size=0.2, random_state=int(SEED), shuffle=True)\n",
    "\n",
    "    model.fit(X_train, y_train)\n",
    "    \n",
    "    # generate predictions\n",
    "    preds = model.predict_proba(X_valid)[:,1]\n",
    "    # rounds to the nearest integer, and the nearest even in case of _.5s\n",
    "\n",
    "    # Evaluation\n",
    "    valid_auc = roc_auc_score(y_valid, preds)\n",
    "    print('ROC AUC Score of XGBoost =', valid_auc)\n",
    "    return valid_auc"
   ]
  },
  {
   "cell_type": "markdown",
   "id": "4813b42c-8375-40d4-9424-21a1d82351ea",
   "metadata": {},
   "source": [
    "The best parametece.sum_codingto present have been:\n",
    "\n",
    "```python\n",
    "best_xgboost_params = {\n",
    "        'n_estimators': 3878,\n",
    "        'max_depth': 4,\n",
    "        'learning_rate': 0.024785857161974977,\n",
    "        'reg_alpha': 26.867682044658245,\n",
    "        'reg_lambda': 10.839759074147148,\n",
    "        'subsample': 0.8208581489835881,\n",
    "        'min_child_weight': 8.829122644339664,\n",
    "        'colsample_bytree': 0.906420714280384,\n",
    "        'gamma': 1.472322916021486\n",
    "    }\n",
    "```\n",
    "\n",
    "These params get the following ROC_AUC scores on a 20% holdout for these dataset versions:\n",
    "\n",
    "| Version | Feature Count | category_encoder | Valid ROC-AUC |\n",
    "| ----- | ----- | ----- | ----- |\n",
    "| original | 285 | none | 0.8572984856383443 |\n",
    "| Boruta green-only | 98 | none | 0.8553163413048461 |\n",
    "| Boruta green-and-blue | 109 | none | 0.8558487581638441 |\n",
    "| Boruta with SHAP | 136 | none | 0.8566790062778752 |\n",
    "| Boruta with SHAP | 136 | woe | 0.8899772033406148 |\n",
    "| original | 285 | woe | 0.8903361849466815 |"
   ]
  },
  {
   "cell_type": "markdown",
   "id": "033696c5-e21b-4005-8d28-b741516738f2",
   "metadata": {},
   "source": [
    "So, Boruta with SHAP performs better than Boruta with green-only *and* Boruta with green and blue, landing 0.8566790062778752"
   ]
  },
  {
   "cell_type": "markdown",
   "id": "152b20a9-e2f5-4515-a018-38dda183557e",
   "metadata": {},
   "source": [
    "So, boruta with green only gets 0.8553163413048461, vs 0.8572984856383443 for the same model on the vanilla training set. Not bad.\n",
    "\n",
    "Let's try a more conservative take -- the green zone *plus* the blue zone (i.e. the take-it-or-leave-it features)."
   ]
  },
  {
   "cell_type": "code",
   "execution_count": 32,
   "id": "9fdefdf2-442e-49e5-911f-8567231125d1",
   "metadata": {},
   "outputs": [],
   "source": [
    "# baseline_test(X_woe, y)"
   ]
  },
  {
   "cell_type": "code",
   "execution_count": 33,
   "id": "6b0455ba-ac71-4d12-90f3-d7652021ceaf",
   "metadata": {},
   "outputs": [],
   "source": [
    "# X = pd.read_feather(datapath/'train.feather').iloc[:, :-1]"
   ]
  },
  {
   "cell_type": "code",
   "execution_count": 34,
   "id": "96ab90b2-cfe8-4979-8701-a31282b6eb5e",
   "metadata": {},
   "outputs": [
    {
     "data": {
      "text/plain": [
       "(1000000, 136)"
      ]
     },
     "execution_count": 34,
     "metadata": {},
     "output_type": "execute_result"
    }
   ],
   "source": [
    "X.shape"
   ]
  },
  {
   "cell_type": "code",
   "execution_count": 35,
   "id": "fad2ce44-ae26-4296-9fd3-16a58f8d3965",
   "metadata": {},
   "outputs": [],
   "source": [
    "# encoder.fit(X,y)"
   ]
  },
  {
   "cell_type": "code",
   "execution_count": 36,
   "id": "4f699676-cd46-48da-b7d4-6de4e987c363",
   "metadata": {},
   "outputs": [],
   "source": [
    "# X_woe_orig = encoder.transform(X)"
   ]
  },
  {
   "cell_type": "code",
   "execution_count": 37,
   "id": "15ba69ba-b56c-4100-8664-b98d5b49b1eb",
   "metadata": {
    "tags": []
   },
   "outputs": [],
   "source": [
    "# baseline_test(X_woe_orig,y)"
   ]
  },
  {
   "cell_type": "code",
   "execution_count": 38,
   "id": "d66676f6-c5ab-41a5-8610-febaa2b31fc6",
   "metadata": {},
   "outputs": [],
   "source": [
    "# X_woe.to_feather(path=altdatapath/'X_boruta_SHAP_woe.feather')"
   ]
  },
  {
   "cell_type": "code",
   "execution_count": 39,
   "id": "7ef3f1f8-f422-4f4d-8cd6-b5f2476fa7e6",
   "metadata": {},
   "outputs": [],
   "source": [
    "# X_woe_orig.to_feather(path=altdatapath/'X_orig_woe.feather')"
   ]
  },
  {
   "cell_type": "code",
   "execution_count": 40,
   "id": "8a7424fb-4012-416c-9bd4-f2433a3f6b08",
   "metadata": {},
   "outputs": [],
   "source": [
    "# del X_woe, X_woe_orig"
   ]
  },
  {
   "cell_type": "code",
   "execution_count": 41,
   "id": "d53c9c23-3fe3-434f-911a-ca0d8c54aecc",
   "metadata": {},
   "outputs": [],
   "source": [
    "encoders = [\n",
    "#     ce.SumEncoder(cols=categoricals),\n",
    "#     ce.BackwardDifferenceEncoder(cols=categoricals),\n",
    "    ce.CatBoostEncoder(cols=categoricals), # best yet, > 0.89\n",
    "    ce.CountEncoder(cols=categoricals), #  pretty weak, ~0.855\n",
    "#     ce.GLMMEncoder(cols=categoricals),\n",
    "#     ce.HelmertEncoder(cols=categoricals),\n",
    "#     ce.JamesSteinEncoder(cols=categoricals),\n",
    "#     ce.LeaveOneOutEncoder(cols=categoricals),\n",
    "#     ce.MEstimateEncoder(cols=categoricals),\n",
    "#     ce.OrdinalEncoder(cols=categoricals),\n",
    "#     ce.PolynomialEncoder(cols=categoricals),\n",
    "    ce.TargetEncoder(cols=categoricals),   \n",
    "]"
   ]
  },
  {
   "cell_type": "code",
   "execution_count": 42,
   "id": "2d613988-f901-49af-8836-84b52fb3dad1",
   "metadata": {},
   "outputs": [],
   "source": [
    "# train_source = altdatapath/'X_boruta_shap_200trials.feather'\n",
    "# del X \n",
    "# X = pd.read_feather(train_source)"
   ]
  },
  {
   "cell_type": "code",
   "execution_count": 43,
   "id": "5e9273fc-a668-4528-9191-73a88508c543",
   "metadata": {},
   "outputs": [
    {
     "name": "stdout",
     "output_type": "stream",
     "text": [
      "Testing CatBoostEncoder(cols=['f265', 'f255', 'f22', 'f117', 'f256', 'f103', 'f260',\n",
      "                      'f252', 'f247', 'f274', 'f243', 'f108', 'f210', 'f43',\n",
      "                      'f258', 'f266', 'f269', 'f245', 'f99'])\n",
      "[17:02:07] WARNING: ../src/learner.cc:1095: Starting in XGBoost 1.3.0, the default evaluation metric used with the objective 'binary:logistic' was changed from 'error' to 'logloss'. Explicitly set eval_metric if you'd like to restore the old behavior.\n",
      "ROC AUC Score of XGBoost = 0.8910374882085335\n",
      "Testing CountEncoder(cols=['f265', 'f255', 'f22', 'f117', 'f256', 'f103', 'f260',\n",
      "                   'f252', 'f247', 'f274', 'f243', 'f108', 'f210', 'f43',\n",
      "                   'f258', 'f266', 'f269', 'f245', 'f99'],\n",
      "             combine_min_nan_groups=True)\n",
      "[17:05:41] WARNING: ../src/learner.cc:1095: Starting in XGBoost 1.3.0, the default evaluation metric used with the objective 'binary:logistic' was changed from 'error' to 'logloss'. Explicitly set eval_metric if you'd like to restore the old behavior.\n",
      "ROC AUC Score of XGBoost = 0.8566317964270773\n",
      "Testing TargetEncoder(cols=['f265', 'f255', 'f22', 'f117', 'f256', 'f103', 'f260',\n",
      "                    'f252', 'f247', 'f274', 'f243', 'f108', 'f210', 'f43',\n",
      "                    'f258', 'f266', 'f269', 'f245', 'f99'])\n",
      "[17:09:13] WARNING: ../src/learner.cc:1095: Starting in XGBoost 1.3.0, the default evaluation metric used with the objective 'binary:logistic' was changed from 'error' to 'logloss'. Explicitly set eval_metric if you'd like to restore the old behavior.\n",
      "ROC AUC Score of XGBoost = 0.8911081124097271\n"
     ]
    }
   ],
   "source": [
    "for encoder in encoders:\n",
    "    print(f\"Testing {str(encoder)}\")\n",
    "    encoder.fit(X,y)\n",
    "    X_enc = encoder.transform(X)\n",
    "    baseline_test(X_enc,y)\n",
    "    del X_enc"
   ]
  },
  {
   "cell_type": "markdown",
   "id": "431d37db-558d-474d-9eca-ce2d38b7636f",
   "metadata": {
    "id": "431d37db-558d-474d-9eca-ce2d38b7636f"
   },
   "source": [
    "# Experiment setup"
   ]
  },
  {
   "cell_type": "code",
   "execution_count": 15,
   "id": "69ff4abf-560b-450e-a7a5-040878b66565",
   "metadata": {
    "id": "69ff4abf-560b-450e-a7a5-040878b66565"
   },
   "outputs": [],
   "source": [
    "# wandb_kwargs = {\n",
    "#     # wandb config:\n",
    "#     'name': f\"{os.environ['WANDB_NOTEBOOK_NAME'][:-6]}_{datetime.now().strftime('%H%M%S')}\", # just removes the .ipynb extension, leaving the notebook filename's stem\n",
    "#     'project': '202109_Kaggle_tabular_playground',\n",
    "#     'tags': ['sweep'],\n",
    "#     'notes': \"Sweep for CatBoost using Optuna\",\n",
    "#     'config': exmodel_config,\n",
    "# }"
   ]
  },
  {
   "cell_type": "code",
   "execution_count": 16,
   "id": "993947ab-fae6-4d7e-b73a-eb4e171ea61e",
   "metadata": {},
   "outputs": [
    {
     "data": {
      "text/plain": [
       "(1000000, 285)"
      ]
     },
     "execution_count": 16,
     "metadata": {},
     "output_type": "execute_result"
    }
   ],
   "source": [
    "X.shape"
   ]
  },
  {
   "cell_type": "code",
   "execution_count": 17,
   "id": "82cb1b5b-73c9-45d2-943a-5361328f07df",
   "metadata": {},
   "outputs": [],
   "source": [
    "# X_test.shape"
   ]
  },
  {
   "cell_type": "code",
   "execution_count": 18,
   "id": "2b055e2b-ebbb-4d36-b995-7a50d4adbc94",
   "metadata": {},
   "outputs": [],
   "source": [
    "# X_test.head()"
   ]
  },
  {
   "cell_type": "code",
   "execution_count": 19,
   "id": "0eca68f8-930e-4c4f-9d0f-767ebe561d51",
   "metadata": {},
   "outputs": [],
   "source": [
    "# feature_picker = XGBClassifier(\n",
    "#     verbosity = 1,\n",
    "#     tree_method = 'gpu_hist',\n",
    "#     booster = 'gbtree',\n",
    "#     random_state = SEED\n",
    "# )\n",
    "\n",
    "feature_picker = CatBoostClassifier(task_type='GPU', silent=True, random_state=SEED)"
   ]
  },
  {
   "cell_type": "code",
   "execution_count": 20,
   "id": "b6230e00-931d-4e25-b4a4-1f2305fdbb32",
   "metadata": {},
   "outputs": [],
   "source": [
    "boruta = BorutaShap(model=feature_picker,\n",
    "                    importance_measure='shap',\n",
    "                    classification=True)\n",
    "#     verbose=True,\n",
    "# #     random_state=SEED,\n",
    "#     estimator=feature_picker,\n",
    "#     n_estimators='auto',\n",
    "#     max_iter=200,\n",
    "# )"
   ]
  },
  {
   "cell_type": "code",
   "execution_count": 21,
   "id": "0b5ea27b-53a5-4c4c-a45a-2528c86349c3",
   "metadata": {
    "tags": []
   },
   "outputs": [
    {
     "data": {
      "application/vnd.jupyter.widget-view+json": {
       "model_id": "cbe31795217c42ef87dad7a193276d2d",
       "version_major": 2,
       "version_minor": 0
      },
      "text/plain": [
       "  0%|          | 0/200 [00:00<?, ?it/s]"
      ]
     },
     "metadata": {},
     "output_type": "display_data"
    },
    {
     "name": "stdout",
     "output_type": "stream",
     "text": [
      "136 attributes confirmed important: ['f174', 'f72', 'f265', 'f44', 'f53', 'f62', 'f16', 'f206', 'f74', 'f33', 'f143', 'f6', 'f169', 'f29', 'f255', 'f208', 'f107', 'f71', 'f152', 'f90', 'f22', 'f18', 'f56', 'f77', 'f4', 'f5', 'f87', 'f129', 'f117', 'f7', 'f58', 'f256', 'f187', 'f103', 'f3', 'f225', 'f229', 'f20', 'f211', 'f260', 'f70', 'f199', 'f61', 'f118', 'f144', 'f93', 'f130', 'f128', 'f27', 'f1', 'f85', 'f212', 'f252', 'f80', 'f86', 'f76', 'f200', 'f64', 'f83', 'f127', 'f138', 'f11', 'f19', 'f82', 'f231', 'f247', 'f239', 'f60', 'f119', 'f42', 'f2', 'f75', 'f79', 'f214', 'f73', 'f92', 'f40', 'f156', 'f157', 'f147', 'f226', 'f52', 'f98', 'f179', 'f274', 'f173', 'f112', 'f140', 'f89', 'f141', 'f65', 'f195', 'f192', 'f14', 'f139', 'f78', 'f222', 'f184', 'f163', 'f114', 'f96', 'f243', 'f108', 'f154', 'f35', 'f133', 'f241', 'f55', 'f210', 'f8', 'f17', 'f48', 'f191', 'f12', 'f63', 'f69', 'f26', 'f162', 'f43', 'f213', 'f238', 'f258', 'f150', 'f266', 'f13', 'f136', 'f201', 'f113', 'f134', 'f269', 'f245', 'f95', 'f227', 'f125', 'f99', 'f164']\n",
      "146 attributes confirmed unimportant: ['f68', 'f142', 'f185', 'f146', 'f31', 'f122', 'f167', 'f46', 'f158', 'f172', 'f41', 'f66', 'f30', 'f186', 'f47', 'f168', 'f45', 'f21', 'f280', 'f116', 'f34', 'f145', 'f115', 'f220', 'f10', 'f207', 'f190', 'f109', 'f230', 'f251', 'f49', 'f67', 'f250', 'f81', 'f151', 'f36', 'f59', 'f205', 'f166', 'f228', 'f105', 'f177', 'f137', 'f275', 'f123', 'f155', 'f215', 'f217', 'f233', 'f277', 'f171', 'f54', 'f279', 'f246', 'f111', 'f132', 'f153', 'f104', 'f23', 'f180', 'f194', 'f271', 'f268', 'f24', 'f131', 'f283', 'f160', 'f165', 'f202', 'f189', 'f224', 'f237', 'f278', 'f38', 'f124', 'f9', 'f176', 'f236', 'f94', 'f223', 'f254', 'f235', 'f135', 'f39', 'f204', 'f15', 'f282', 'f262', 'f37', 'f216', 'f0', 'f240', 'f32', 'f148', 'f219', 'f263', 'f244', 'f175', 'f25', 'f209', 'f276', 'f259', 'f270', 'f126', 'f221', 'f91', 'f28', 'f183', 'f196', 'f248', 'f170', 'f188', 'f88', 'f100', 'f50', 'f253', 'f84', 'f159', 'f281', 'f218', 'f242', 'f232', 'f102', 'f161', 'f149', 'f182', 'f284', 'f120', 'f51', 'f101', 'f234', 'f257', 'f272', 'f273', 'f267', 'f198', 'f264', 'f106', 'f178', 'f110', 'f203', 'f97', 'f197', 'f261', 'f121', 'f249']\n",
      "3 tentative attributes remains: ['f181', 'f57', 'f193']\n"
     ]
    }
   ],
   "source": [
    "boruta.fit(X=X, y=y, n_trials=200, sample=False, train_or_test='train', normalize=False, verbose=True, random_state=SEED, stratify=False)\n",
    "# boruta = load('/media/sf/easystore/kaggle_data/tabular_playgrounds/oct2021/alt_datasets/boruta_200iter.joblib')"
   ]
  },
  {
   "cell_type": "code",
   "execution_count": 22,
   "id": "e09f3111-5c8a-4e29-8f26-a90916a100c5",
   "metadata": {},
   "outputs": [
    {
     "data": {
      "image/png": "[encoded data removed]",
      "text/plain": [
       "<Figure size 864x576 with 1 Axes>"
      ]
     },
     "metadata": {
      "needs_background": "light"
     },
     "output_type": "display_data"
    }
   ],
   "source": [
    "boruta.plot(which_features='all')"
   ]
  },
  {
   "cell_type": "code",
   "execution_count": 23,
   "id": "731d3a0f-3b6f-4cd1-8d20-e89e9fc941c1",
   "metadata": {},
   "outputs": [],
   "source": [
    "X_boruta_shap = boruta.Subset()"
   ]
  },
  {
   "cell_type": "code",
   "execution_count": null,
   "id": "722eb36e-4d38-4f02-a924-d40779ff7e20",
   "metadata": {},
   "outputs": [],
   "source": []
  },
  {
   "cell_type": "code",
   "execution_count": null,
   "id": "f0cb568c-130f-490b-8032-a365774c7b1e",
   "metadata": {},
   "outputs": [],
   "source": [
    "# green_zone = X.columns[boruta.support_].to_list()\n",
    "# blue_zone = X.columns[boruta.support_weak_].to_list()"
   ]
  },
  {
   "cell_type": "code",
   "execution_count": null,
   "id": "ff3f9ae9-71fc-4c53-b611-a9e47cac9356",
   "metadata": {},
   "outputs": [],
   "source": [
    "# feature_ranks = boruta.ranking_"
   ]
  },
  {
   "cell_type": "code",
   "execution_count": null,
   "id": "6eae4c65-54e1-4663-8205-59891154d640",
   "metadata": {},
   "outputs": [],
   "source": [
    "# X_filtered = boruta.transform(np.array(X))"
   ]
  },
  {
   "cell_type": "code",
   "execution_count": 24,
   "id": "bc719a0a-2e9e-4954-a098-ecf70c5d3d50",
   "metadata": {},
   "outputs": [
    {
     "data": {
      "text/plain": [
       "['/media/sf/easystore/kaggle_data/tabular_playgrounds/oct2021/alt_datasets/boruta_shap.joblib']"
      ]
     },
     "execution_count": 24,
     "metadata": {},
     "output_type": "execute_result"
    }
   ],
   "source": [
    "dump(X_boruta_shap, filename=altdatapath/'X_boruta_shap_200trials.joblib')\n",
    "dump(boruta, filename=altdatapath/'boruta_shap.joblib')"
   ]
  },
  {
   "cell_type": "code",
   "execution_count": 25,
   "id": "46bb0214-7786-48c1-aba4-fda2357c3b66",
   "metadata": {},
   "outputs": [
    {
     "data": {
      "text/plain": [
       "pandas.core.frame.DataFrame"
      ]
     },
     "execution_count": 25,
     "metadata": {},
     "output_type": "execute_result"
    }
   ],
   "source": [
    "type(X_boruta_shap)"
   ]
  },
  {
   "cell_type": "code",
   "execution_count": 28,
   "id": "7afef0c9-08d4-4326-bf27-ee4908d1e5fa",
   "metadata": {},
   "outputs": [],
   "source": [
    "X_boruta_shap.index.name = None"
   ]
  },
  {
   "cell_type": "code",
   "execution_count": 29,
   "id": "2e6300f4-721e-4126-8f5d-6f6ff1172adc",
   "metadata": {},
   "outputs": [],
   "source": [
    "X_boruta_shap.to_feather(path=altdatapath/'X_boruta_shap_200trials.feather')"
   ]
  },
  {
   "cell_type": "code",
   "execution_count": 30,
   "id": "f6faff75-3cc9-4aea-9a6e-79ea36ac35db",
   "metadata": {},
   "outputs": [
    {
     "data": {
      "text/html": [
       "<div>\n",
       "<style scoped>\n",
       "    .dataframe tbody tr th:only-of-type {\n",
       "        vertical-align: middle;\n",
       "    }\n",
       "\n",
       "    .dataframe tbody tr th {\n",
       "        vertical-align: top;\n",
       "    }\n",
       "\n",
       "    .dataframe thead th {\n",
       "        text-align: right;\n",
       "    }\n",
       "</style>\n",
       "<table border=\"1\" class=\"dataframe\">\n",
       "  <thead>\n",
       "    <tr style=\"text-align: right;\">\n",
       "      <th></th>\n",
       "      <th>f174</th>\n",
       "      <th>f72</th>\n",
       "      <th>f265</th>\n",
       "      <th>f44</th>\n",
       "      <th>f53</th>\n",
       "      <th>f62</th>\n",
       "      <th>f16</th>\n",
       "      <th>f206</th>\n",
       "      <th>f74</th>\n",
       "      <th>f33</th>\n",
       "      <th>...</th>\n",
       "      <th>f201</th>\n",
       "      <th>f113</th>\n",
       "      <th>f134</th>\n",
       "      <th>f269</th>\n",
       "      <th>f245</th>\n",
       "      <th>f95</th>\n",
       "      <th>f227</th>\n",
       "      <th>f125</th>\n",
       "      <th>f99</th>\n",
       "      <th>f164</th>\n",
       "    </tr>\n",
       "  </thead>\n",
       "  <tbody>\n",
       "    <tr>\n",
       "      <th>0</th>\n",
       "      <td>0.010250</td>\n",
       "      <td>0.004855</td>\n",
       "      <td>0</td>\n",
       "      <td>0.193430</td>\n",
       "      <td>0.192042</td>\n",
       "      <td>0.519336</td>\n",
       "      <td>0.341702</td>\n",
       "      <td>0.011936</td>\n",
       "      <td>0.257688</td>\n",
       "      <td>0.034818</td>\n",
       "      <td>...</td>\n",
       "      <td>0.216079</td>\n",
       "      <td>0.087502</td>\n",
       "      <td>0.217984</td>\n",
       "      <td>1</td>\n",
       "      <td>1</td>\n",
       "      <td>0.559151</td>\n",
       "      <td>0.011277</td>\n",
       "      <td>0.003969</td>\n",
       "      <td>0.112203</td>\n",
       "      <td>0.407014</td>\n",
       "    </tr>\n",
       "    <tr>\n",
       "      <th>1</th>\n",
       "      <td>0.005768</td>\n",
       "      <td>0.004312</td>\n",
       "      <td>0</td>\n",
       "      <td>0.821982</td>\n",
       "      <td>0.224053</td>\n",
       "      <td>0.447242</td>\n",
       "      <td>0.459358</td>\n",
       "      <td>0.011285</td>\n",
       "      <td>0.415982</td>\n",
       "      <td>0.033018</td>\n",
       "      <td>...</td>\n",
       "      <td>0.240681</td>\n",
       "      <td>0.084309</td>\n",
       "      <td>0.222525</td>\n",
       "      <td>0</td>\n",
       "      <td>0</td>\n",
       "      <td>0.145737</td>\n",
       "      <td>0.011031</td>\n",
       "      <td>0.004784</td>\n",
       "      <td>0.111834</td>\n",
       "      <td>0.090468</td>\n",
       "    </tr>\n",
       "    <tr>\n",
       "      <th>2</th>\n",
       "      <td>0.012026</td>\n",
       "      <td>0.004507</td>\n",
       "      <td>0</td>\n",
       "      <td>0.162094</td>\n",
       "      <td>0.239486</td>\n",
       "      <td>0.749593</td>\n",
       "      <td>0.257763</td>\n",
       "      <td>0.009230</td>\n",
       "      <td>0.274105</td>\n",
       "      <td>0.035977</td>\n",
       "      <td>...</td>\n",
       "      <td>0.163251</td>\n",
       "      <td>0.085933</td>\n",
       "      <td>0.224012</td>\n",
       "      <td>0</td>\n",
       "      <td>1</td>\n",
       "      <td>0.144596</td>\n",
       "      <td>0.009546</td>\n",
       "      <td>0.003502</td>\n",
       "      <td>0.110486</td>\n",
       "      <td>0.090032</td>\n",
       "    </tr>\n",
       "    <tr>\n",
       "      <th>3</th>\n",
       "      <td>0.011034</td>\n",
       "      <td>0.002806</td>\n",
       "      <td>0</td>\n",
       "      <td>0.834834</td>\n",
       "      <td>0.175250</td>\n",
       "      <td>0.605277</td>\n",
       "      <td>0.335907</td>\n",
       "      <td>0.007412</td>\n",
       "      <td>0.260443</td>\n",
       "      <td>0.319312</td>\n",
       "      <td>...</td>\n",
       "      <td>0.163644</td>\n",
       "      <td>0.085584</td>\n",
       "      <td>0.248067</td>\n",
       "      <td>0</td>\n",
       "      <td>1</td>\n",
       "      <td>0.146811</td>\n",
       "      <td>0.006251</td>\n",
       "      <td>0.008915</td>\n",
       "      <td>0.361132</td>\n",
       "      <td>0.091527</td>\n",
       "    </tr>\n",
       "    <tr>\n",
       "      <th>4</th>\n",
       "      <td>0.008832</td>\n",
       "      <td>0.004219</td>\n",
       "      <td>1</td>\n",
       "      <td>0.844187</td>\n",
       "      <td>0.249345</td>\n",
       "      <td>0.415167</td>\n",
       "      <td>0.319548</td>\n",
       "      <td>0.013731</td>\n",
       "      <td>0.215576</td>\n",
       "      <td>0.034490</td>\n",
       "      <td>...</td>\n",
       "      <td>0.233770</td>\n",
       "      <td>0.083699</td>\n",
       "      <td>0.219750</td>\n",
       "      <td>0</td>\n",
       "      <td>1</td>\n",
       "      <td>0.148517</td>\n",
       "      <td>0.006527</td>\n",
       "      <td>0.005913</td>\n",
       "      <td>0.113454</td>\n",
       "      <td>0.092484</td>\n",
       "    </tr>\n",
       "  </tbody>\n",
       "</table>\n",
       "<p>5 rows × 136 columns</p>\n",
       "</div>"
      ],
      "text/plain": [
       "       f174       f72  f265       f44       f53       f62       f16      f206  \\\n",
       "0  0.010250  0.004855     0  0.193430  0.192042  0.519336  0.341702  0.011936   \n",
       "1  0.005768  0.004312     0  0.821982  0.224053  0.447242  0.459358  0.011285   \n",
       "2  0.012026  0.004507     0  0.162094  0.239486  0.749593  0.257763  0.009230   \n",
       "3  0.011034  0.002806     0  0.834834  0.175250  0.605277  0.335907  0.007412   \n",
       "4  0.008832  0.004219     1  0.844187  0.249345  0.415167  0.319548  0.013731   \n",
       "\n",
       "        f74       f33  ...      f201      f113      f134  f269  f245  \\\n",
       "0  0.257688  0.034818  ...  0.216079  0.087502  0.217984     1     1   \n",
       "1  0.415982  0.033018  ...  0.240681  0.084309  0.222525     0     0   \n",
       "2  0.274105  0.035977  ...  0.163251  0.085933  0.224012     0     1   \n",
       "3  0.260443  0.319312  ...  0.163644  0.085584  0.248067     0     1   \n",
       "4  0.215576  0.034490  ...  0.233770  0.083699  0.219750     0     1   \n",
       "\n",
       "        f95      f227      f125       f99      f164  \n",
       "0  0.559151  0.011277  0.003969  0.112203  0.407014  \n",
       "1  0.145737  0.011031  0.004784  0.111834  0.090468  \n",
       "2  0.144596  0.009546  0.003502  0.110486  0.090032  \n",
       "3  0.146811  0.006251  0.008915  0.361132  0.091527  \n",
       "4  0.148517  0.006527  0.005913  0.113454  0.092484  \n",
       "\n",
       "[5 rows x 136 columns]"
      ]
     },
     "execution_count": 30,
     "metadata": {},
     "output_type": "execute_result"
    }
   ],
   "source": [
    "X_boruta_shap.head()"
   ]
  },
  {
   "cell_type": "code",
   "execution_count": null,
   "id": "645beb05-411a-4f71-8ad3-3e355a502bfd",
   "metadata": {},
   "outputs": [],
   "source": [
    "# dump(boruta, '/media/sf/easystore/kaggle_data/tabular_playgrounds/oct2021/alt_datasets/boruta_200iter.joblib')"
   ]
  },
  {
   "cell_type": "code",
   "execution_count": null,
   "id": "0cf8c5ca-20b2-4b6c-8ac5-97054c6c1c9f",
   "metadata": {},
   "outputs": [],
   "source": [
    "# len(green_zone)"
   ]
  },
  {
   "cell_type": "code",
   "execution_count": null,
   "id": "d377b4a2-dcf7-4139-8d0f-6e8d98a658e6",
   "metadata": {},
   "outputs": [],
   "source": [
    "# len(blue_zone)"
   ]
  },
  {
   "cell_type": "code",
   "execution_count": null,
   "id": "54976834-33a4-48f5-9df8-27e42c786864",
   "metadata": {},
   "outputs": [],
   "source": [
    "# X_filtered.shape"
   ]
  },
  {
   "cell_type": "code",
   "execution_count": null,
   "id": "efed15bc-0223-41af-a506-b9395ff8907b",
   "metadata": {
    "tags": []
   },
   "outputs": [],
   "source": [
    "# feature_ranks"
   ]
  },
  {
   "cell_type": "code",
   "execution_count": null,
   "id": "0e0f79d4-336b-4d0b-88c3-39c7195b9fb0",
   "metadata": {},
   "outputs": [],
   "source": [
    "# type(X)"
   ]
  },
  {
   "cell_type": "code",
   "execution_count": null,
   "id": "5e3000f1-35e5-4bf7-8cac-ce351fc498dc",
   "metadata": {},
   "outputs": [],
   "source": [
    "# y_np = np.array(y)"
   ]
  },
  {
   "cell_type": "code",
   "execution_count": null,
   "id": "f4e3eb45-bc64-4375-a533-dba7760033d3",
   "metadata": {},
   "outputs": [],
   "source": [
    "# del y"
   ]
  },
  {
   "cell_type": "code",
   "execution_count": null,
   "id": "080b7113-4389-484b-85b0-1206d99861d1",
   "metadata": {},
   "outputs": [],
   "source": [
    "# type(X_filtered), type(y_np)"
   ]
  },
  {
   "cell_type": "code",
   "execution_count": 32,
   "id": "b68e1908-a301-4939-8b01-3635133e5909",
   "metadata": {},
   "outputs": [
    {
     "name": "stdout",
     "output_type": "stream",
     "text": [
      "[08:52:11] WARNING: ../src/learner.cc:1095: Starting in XGBoost 1.3.0, the default evaluation metric used with the objective 'binary:logistic' was changed from 'error' to 'logloss'. Explicitly set eval_metric if you'd like to restore the old behavior.\n"
     ]
    },
    {
     "data": {
      "text/plain": [
       "XGBClassifier(base_score=0.5, booster='gbtree', colsample_bylevel=1,\n",
       "              colsample_bynode=1, colsample_bytree=0.906420714280384,\n",
       "              gamma=1.472322916021486, gpu_id=0, importance_type='gain',\n",
       "              interaction_constraints='', learning_rate=0.024785857161974977,\n",
       "              max_delta_step=0, max_depth=4, min_child_weight=8.829122644339664,\n",
       "              missing=nan, monotone_constraints='()', n_estimators=3878,\n",
       "              n_jobs=16, num_parallel_tree=1, random_state=42,\n",
       "              reg_alpha=26.867682044658245, reg_lambda=10.839759074147148,\n",
       "              scale_pos_weight=1, subsample=0.8208581489835881,\n",
       "              tree_method='gpu_hist', validate_parameters=1, verbosity=1)"
      ]
     },
     "execution_count": 32,
     "metadata": {},
     "output_type": "execute_result"
    }
   ],
   "source": [
    "X_train, X_valid, y_train, y_valid = train_test_split(X_boruta_shap, np.array(y), test_size=0.2, random_state=int(SEED), shuffle=True)\n",
    "\n",
    "model.fit(X_train, y_train)"
   ]
  },
  {
   "cell_type": "code",
   "execution_count": 33,
   "id": "8ec43ce0-12e4-44c3-86a4-1b1125250a8c",
   "metadata": {},
   "outputs": [
    {
     "name": "stdout",
     "output_type": "stream",
     "text": [
      "ROC AUC Score of XGBoost = 0.8566790062778752\n"
     ]
    }
   ],
   "source": [
    "# generate predictions\n",
    "preds = model.predict_proba(X_valid)[:,1]\n",
    "# rounds to the nearest integer, and the nearest even in case of _.5s\n",
    "\n",
    "# Evaluation\n",
    "valid_auc = roc_auc_score(y_valid, preds)\n",
    "print('ROC AUC Score of XGBoost =', valid_auc) # was 0.7783978025549229 for pca_poly; 0.8572984856383443 for vanilla"
   ]
  },
  {
   "cell_type": "code",
   "execution_count": 43,
   "id": "1419c9e3-d0b9-40e2-b53c-de93779e1f07",
   "metadata": {},
   "outputs": [],
   "source": [
    "del X_train, X_valid "
   ]
  },
  {
   "cell_type": "code",
   "execution_count": 51,
   "id": "c3878f19-14e3-4b91-9fb5-78662b01e512",
   "metadata": {},
   "outputs": [],
   "source": [
    "X_boruta_blue_green = np.concatenate((X_filtered, np.array(X[blue_zone])), axis=1)"
   ]
  },
  {
   "cell_type": "code",
   "execution_count": 52,
   "id": "55114317-dd1e-4521-806c-0e63edfa4704",
   "metadata": {},
   "outputs": [
    {
     "data": {
      "text/plain": [
       "(1000000, 109)"
      ]
     },
     "execution_count": 52,
     "metadata": {},
     "output_type": "execute_result"
    }
   ],
   "source": [
    "X_boruta_blue_green.shape"
   ]
  },
  {
   "cell_type": "code",
   "execution_count": 53,
   "id": "5efbff7b-7bca-4d3d-83be-ca2465a9e14c",
   "metadata": {},
   "outputs": [
    {
     "name": "stderr",
     "output_type": "stream",
     "text": [
      "/home/sf/anaconda3/envs/tabular-x/lib/python3.8/site-packages/xgboost/sklearn.py:1146: UserWarning: The use of label encoder in XGBClassifier is deprecated and will be removed in a future release. To remove this warning, do the following: 1) Pass option use_label_encoder=False when constructing XGBClassifier object; and 2) Encode your labels (y) as integers starting with 0, i.e. 0, 1, 2, ..., [num_class - 1].\n",
      "  warnings.warn(label_encoder_deprecation_msg, UserWarning)\n"
     ]
    },
    {
     "name": "stdout",
     "output_type": "stream",
     "text": [
      "[20:52:35] WARNING: ../src/learner.cc:1095: Starting in XGBoost 1.3.0, the default evaluation metric used with the objective 'binary:logistic' was changed from 'error' to 'logloss'. Explicitly set eval_metric if you'd like to restore the old behavior.\n",
      "ROC AUC Score of XGBoost = 0.8558487581638441\n"
     ]
    }
   ],
   "source": [
    "X_train, X_valid, y_train, y_valid = train_test_split(X_boruta_blue_green, y_np, test_size=0.2, random_state=int(SEED), shuffle=True)\n",
    "\n",
    "model.fit(X_train, y_train)\n",
    "# generate predictions\n",
    "preds = model.predict_proba(X_valid)[:,1]\n",
    "# rounds to the nearest integer, and the nearest even in case of _.5s\n",
    "\n",
    "# Evaluation\n",
    "valid_auc = roc_auc_score(y_valid, preds)\n",
    "print('ROC AUC Score of XGBoost =', valid_auc) "
   ]
  },
  {
   "cell_type": "markdown",
   "id": "b754fe12-1939-4128-9825-78fb3f54f10a",
   "metadata": {},
   "source": [
    "So Boruta with green and blue gets 0.8558487581638441 -- a bit better than the green-zone only. Now, let's try adding polynomial features."
   ]
  },
  {
   "cell_type": "code",
   "execution_count": null,
   "id": "fe6adeaa-0713-40df-9a32-c7abec077807",
   "metadata": {},
   "outputs": [],
   "source": [
    "poly = PolynomialFeatures(degree=2, interaction_only=True, include_bias=False)\n",
    "X_boruta_blue_green_poly = poly.fit_transform(X_boruta_blue_green)"
   ]
  },
  {
   "cell_type": "code",
   "execution_count": null,
   "id": "3d46b765-584f-4b28-a80d-d76639da9588",
   "metadata": {},
   "outputs": [],
   "source": [
    "dump(X_boruta_blue_green, '/media/sf/easystore/kaggle_data/tabular_playgrounds/oct2021/alt_datasets/X_boruta_200iter_green+blue_109features.joblib')\n",
    "del X_boruta_blue_green"
   ]
  },
  {
   "cell_type": "code",
   "execution_count": null,
   "id": "37893d85-c063-4425-9665-cb5b969c62a9",
   "metadata": {},
   "outputs": [],
   "source": []
  },
  {
   "cell_type": "code",
   "execution_count": null,
   "id": "1c8da6f7-7573-4aae-b7c8-f90696304bc8",
   "metadata": {},
   "outputs": [],
   "source": []
  },
  {
   "cell_type": "code",
   "execution_count": 32,
   "id": "c16bd622-ec4b-4744-b552-2ec6b869d1c7",
   "metadata": {},
   "outputs": [],
   "source": [
    "del X_pca_poly"
   ]
  },
  {
   "cell_type": "code",
   "execution_count": 33,
   "id": "2f10abfc-2f98-4814-ac42-98fab0eab6ae",
   "metadata": {},
   "outputs": [],
   "source": [
    "train_source = datapath/'train.feather'\n",
    "df = pd.read_feather(path=train_source)\n",
    "df.index.name = 'id'\n",
    "y = df.target\n",
    "features = [x for x in df.columns if x != 'target']\n",
    "X = df[features]\n",
    "# X.index.name = 'id'\n",
    "# y.index.name = 'id'\n",
    "# X = np.array(X_train)\n",
    "# y = np.array(y_train)\n",
    "\n",
    "# del df, X_train, y_train\n",
    "\n",
    "\n",
    "# exmodel_config['feature_count'] = len(X.columns)\n",
    "# exmodel_config['feature_count'] = X.shape[1]\n",
    "# exmodel_config['instance_count'] = X.shape[0]\n",
    "\n",
    "# exmodel_config['feature_generator'] = None\n",
    "# exmodel_config['feature_generator'] = \"Summary statistics\"\n",
    "\n",
    "# exmodel_config['train_source'] = str(train_source)\n",
    "test_source = datapath/'test.feather'\n",
    "# exmodel_config['test_source'] = str(test_source)\n",
    "X_test = pd.read_feather(path=test_source)\n",
    "X_test = X_test.iloc[:, 1:]\n",
    "# X_test = np.array(X_test)"
   ]
  },
  {
   "cell_type": "code",
   "execution_count": 34,
   "id": "b81d1498-77b6-4a04-bc77-db6e40a705ea",
   "metadata": {},
   "outputs": [
    {
     "name": "stderr",
     "output_type": "stream",
     "text": [
      "/home/sf/anaconda3/envs/tabular-x/lib/python3.8/site-packages/xgboost/sklearn.py:1146: UserWarning: The use of label encoder in XGBClassifier is deprecated and will be removed in a future release. To remove this warning, do the following: 1) Pass option use_label_encoder=False when constructing XGBClassifier object; and 2) Encode your labels (y) as integers starting with 0, i.e. 0, 1, 2, ..., [num_class - 1].\n",
      "  warnings.warn(label_encoder_deprecation_msg, UserWarning)\n"
     ]
    },
    {
     "name": "stdout",
     "output_type": "stream",
     "text": [
      "[13:48:25] WARNING: ../src/learner.cc:1095: Starting in XGBoost 1.3.0, the default evaluation metric used with the objective 'binary:logistic' was changed from 'error' to 'logloss'. Explicitly set eval_metric if you'd like to restore the old behavior.\n"
     ]
    },
    {
     "data": {
      "text/plain": [
       "XGBClassifier(base_score=0.5, booster='gbtree', colsample_bylevel=1,\n",
       "              colsample_bynode=1, colsample_bytree=0.906420714280384,\n",
       "              gamma=1.472322916021486, gpu_id=0, importance_type='gain',\n",
       "              interaction_constraints='', learning_rate=0.024785857161974977,\n",
       "              max_delta_step=0, max_depth=4, min_child_weight=8.829122644339664,\n",
       "              missing=nan, monotone_constraints='()', n_estimators=3878,\n",
       "              n_jobs=16, num_parallel_tree=1, random_state=42,\n",
       "              reg_alpha=26.867682044658245, reg_lambda=10.839759074147148,\n",
       "              scale_pos_weight=1, subsample=0.8208581489835881,\n",
       "              tree_method='gpu_hist', validate_parameters=1, verbosity=1)"
      ]
     },
     "execution_count": 34,
     "metadata": {},
     "output_type": "execute_result"
    }
   ],
   "source": [
    "X_train, X_valid, y_train, y_valid = train_test_split(X, y_np, test_size=0.2, random_state=int(SEED), shuffle=True)\n",
    "\n",
    "model.fit(X_train, y_train)"
   ]
  },
  {
   "cell_type": "code",
   "execution_count": 35,
   "id": "bd3d5544-df0e-4af5-9096-3e3e821dcaef",
   "metadata": {},
   "outputs": [
    {
     "name": "stdout",
     "output_type": "stream",
     "text": [
      "ROC AUC Score of XGBoost = 0.8572984856383443\n"
     ]
    }
   ],
   "source": [
    "# generate predictions\n",
    "preds = model.predict_proba(X_valid)[:,1]\n",
    "# rounds to the nearest integer, and the nearest even in case of _.5s\n",
    "\n",
    "# Evaluation\n",
    "valid_auc = roc_auc_score(y_valid, preds)\n",
    "print('ROC AUC Score of XGBoost =', valid_auc)"
   ]
  },
  {
   "cell_type": "code",
   "execution_count": 14,
   "id": "1d93b6f2-2d65-48a9-9862-510bd7d2b75b",
   "metadata": {
    "id": "1d93b6f2-2d65-48a9-9862-510bd7d2b75b"
   },
   "outputs": [],
   "source": [
    "# originally from https://www.kaggle.com/satorushibata/optimize-catboost-hyperparameter-with-optuna-gpu\n",
    "def objective(trial):\n",
    "    # split the (original Kaggle training) data into partitions\n",
    "    # if study.best_trial:\n",
    "    #     print(\"Dumping best params, which are:\")\n",
    "    #     print(str(study.best_trial.params))\n",
    "    #     dump(study.best_trial.params, filename=datapath/'optuna_catboost_best_20210920.joblib')\n",
    "    \n",
    "#     pca_components = trial.suggest_int('pca_components', 50, 285)\n",
    "    pca = PCA(n_components=pca_components, random_state=42)\n",
    "    X_pca = pca.fit_transform(X)\n",
    "#     dump(pca60, edapath/'PCA_60.joblibg')\n",
    "    \n",
    "    # else:\n",
    "    #     print(\"No best study yet\")\n",
    "    X_train, X_valid, y_train, y_valid = train_test_split(X_pca, y, test_size=0.33, random_state=int(SEED), shuffle=True)\n",
    "    # create wrappers for the training and validation partitions\n",
    "    # train_pool = catboost.Pool(X_train, y_train)\n",
    "    # valid_pool = catboost.Pool(X_valid, y_valid)\n",
    "    \n",
    "    # experimental parameters\n",
    "#     params = {\n",
    "#         'n_estimators': trial.suggest_int('n_estimators', 900, 6000), # was 900-4500 for CPU\n",
    "#         'max_depth' : trial.suggest_int('depth', 3, 10),                                       \n",
    "#         'learning_rate' : trial.suggest_loguniform('learning_rate', 0.001, 0.4),               \n",
    "#         'reg_alpha': trial.suggest_loguniform('reg_alpha', 0.001, 30),\n",
    "#         'reg_lambda': trial.suggest_loguniform('reg_lambda', 0.001, 30),\n",
    "#         'subsample': trial.suggest_uniform('subsample', 0.5, 1),\n",
    "# #         'booster': trial.suggest_categorical('boosting_type', ['gbtree', 'dart']),\n",
    "#         'min_child_weight': trial.suggest_uniform('min_child_weight', 0.001, 10),\n",
    "#         'colsample_bytree': trial.suggest_uniform('colsample_bytree', 0.5, 1),\n",
    "#         'gamma': trial.suggest_uniform('gamma', 0.1, 30)\n",
    "#     }  \n",
    "\n",
    "    best_xgboost_params = {\n",
    "        'n_estimators': 3878,\n",
    "        'max_depth': 4,\n",
    "        'learning_rate': 0.024785857161974977,\n",
    "        'reg_alpha': 26.867682044658245,\n",
    "        'reg_lambda': 10.839759074147148,\n",
    "        'subsample': 0.8208581489835881,\n",
    "        'min_child_weight': 8.829122644339664,\n",
    "        'colsample_bytree': 0.906420714280384,\n",
    "        'gamma': 1.472322916021486\n",
    "    }\n",
    "\n",
    "    # instantiate the model, with some parameters locked in, and experimnental ones passed via splat \n",
    "    model = XGBClassifier(\n",
    "        objective='binary:logistic',\n",
    "        verbosity=1,\n",
    "        tree_method='gpu_hist',\n",
    "        booster='gbtree', # not bothering with dart for time reasons\n",
    "        random_state=SEED,\n",
    "        **best_xgboost_params\n",
    "#         n_jobs=-1,\n",
    "#         **params\n",
    "    )    \n",
    "\n",
    "    model.fit(X_train, y_train)\n",
    "    # generate predictions\n",
    "    preds = model.predict_proba(X_valid)[:,1]\n",
    "    # rounds to the nearest integer, and the nearest even in case of _.5s\n",
    "\n",
    "    # Evaluation\n",
    "    valid_auc = roc_auc_score(y_valid, preds)\n",
    "    print('ROC AUC Score of XGBoost =', valid_auc)\n",
    "    wandb.log({'valid_auc': valid_auc,\n",
    "              })\n",
    "\n",
    "    return valid_auc"
   ]
  },
  {
   "cell_type": "code",
   "execution_count": 15,
   "id": "0e85f589-1507-4b75-80d9-8b062970102f",
   "metadata": {
    "colab": {
     "base_uri": "https://localhost:8080/",
     "height": 285
    },
    "id": "0e85f589-1507-4b75-80d9-8b062970102f",
    "outputId": "6a01a1a1-8060-429d-9a47-670cbc0435d2",
    "tags": []
   },
   "outputs": [
    {
     "name": "stderr",
     "output_type": "stream",
     "text": [
      "<ipython-input-15-69ea9289a2cf>:1: ExperimentalWarning: WeightsAndBiasesCallback is experimental (supported from v2.9.0). The interface can change in the future.\n",
      "  wandbc = WeightsAndBiasesCallback(wandb_kwargs=wandb_kwargs)\n",
      "\u001b[34m\u001b[1mwandb\u001b[0m: \u001b[33mWARNING\u001b[0m WANDB_NOTEBOOK_NAME should be a path to a notebook file, couldn't find sweep_xgboost_20211010.ipynb\n",
      "\u001b[34m\u001b[1mwandb\u001b[0m: Currently logged in as: \u001b[33mhushifang\u001b[0m (use `wandb login --relogin` to force relogin)\n",
      "\u001b[34m\u001b[1mwandb\u001b[0m: wandb version 0.12.4 is available!  To upgrade, please run:\n",
      "\u001b[34m\u001b[1mwandb\u001b[0m:  $ pip install wandb --upgrade\n"
     ]
    },
    {
     "data": {
      "text/html": [
       "\n",
       "                    Syncing run <strong><a href=\"https://wandb.ai/hushifang/202110_Kaggle_tabular_playground/runs/2b286ehp\" target=\"_blank\">sweep_xgboost_20211010_115658</a></strong> to <a href=\"https://wandb.ai/hushifang/202110_Kaggle_tabular_playground\" target=\"_blank\">Weights & Biases</a> (<a href=\"https://docs.wandb.com/integrations/jupyter.html\" target=\"_blank\">docs</a>).<br/>\n",
       "\n",
       "                "
      ],
      "text/plain": [
       "<IPython.core.display.HTML object>"
      ]
     },
     "metadata": {},
     "output_type": "display_data"
    }
   ],
   "source": [
    "wandbc = WeightsAndBiasesCallback(wandb_kwargs=wandb_kwargs)"
   ]
  },
  {
   "cell_type": "code",
   "execution_count": 16,
   "id": "ab6749b1-dd7d-4789-b0e2-8491d78fe89b",
   "metadata": {
    "id": "ab6749b1-dd7d-4789-b0e2-8491d78fe89b",
    "tags": []
   },
   "outputs": [
    {
     "name": "stderr",
     "output_type": "stream",
     "text": [
      "\u001b[32m[I 2021-10-10 11:57:06,723]\u001b[0m A new study created in memory with name: pca_20211010\u001b[0m\n"
     ]
    }
   ],
   "source": [
    "study = optuna.create_study(direction = \"maximize\", \n",
    "                            sampler = TPESampler(seed=int(SEED)), \n",
    "                            study_name=f\"pca_{datetime.now().strftime('%Y%m%d')}\")\n",
    "\n",
    "# study = load(studypath/f\"optuna_xgboost_study_106trials_20211004.joblib\")\n"
   ]
  },
  {
   "cell_type": "code",
   "execution_count": 17,
   "id": "f02e3b84-ee16-48b9-94db-c738b408a380",
   "metadata": {},
   "outputs": [],
   "source": [
    "import torch"
   ]
  },
  {
   "cell_type": "code",
   "execution_count": 18,
   "id": "8a454cc8-f135-4d36-8b6c-a964f4b52288",
   "metadata": {},
   "outputs": [],
   "source": [
    "import xgboost"
   ]
  },
  {
   "cell_type": "code",
   "execution_count": 19,
   "id": "3860cbd2-1d08-4b2e-ac53-92b8a2ce016a",
   "metadata": {},
   "outputs": [
    {
     "data": {
      "text/plain": [
       "\u001b[0;31mInit signature:\u001b[0m \u001b[0mxgboost\u001b[0m\u001b[0;34m.\u001b[0m\u001b[0mcore\u001b[0m\u001b[0;34m.\u001b[0m\u001b[0mXGBoostError\u001b[0m\u001b[0;34m(\u001b[0m\u001b[0mself\u001b[0m\u001b[0;34m,\u001b[0m \u001b[0;34m/\u001b[0m\u001b[0;34m,\u001b[0m \u001b[0;34m*\u001b[0m\u001b[0margs\u001b[0m\u001b[0;34m,\u001b[0m \u001b[0;34m**\u001b[0m\u001b[0mkwargs\u001b[0m\u001b[0;34m)\u001b[0m\u001b[0;34m\u001b[0m\u001b[0;34m\u001b[0m\u001b[0m\n",
       "\u001b[0;31mDocstring:\u001b[0m      Error thrown by xgboost trainer.\n",
       "\u001b[0;31mFile:\u001b[0m           ~/anaconda3/envs/tabular-x/lib/python3.8/site-packages/xgboost/core.py\n",
       "\u001b[0;31mType:\u001b[0m           type\n",
       "\u001b[0;31mSubclasses:\u001b[0m     \n"
      ]
     },
     "metadata": {},
     "output_type": "display_data"
    }
   ],
   "source": [
    "xgboost.core.XGBoostError?"
   ]
  },
  {
   "cell_type": "code",
   "execution_count": 20,
   "id": "fe8ad6db-2722-4f04-bd51-4b795bec93c3",
   "metadata": {
    "colab": {
     "base_uri": "https://localhost:8080/"
    },
    "id": "F1cSVFH9gkW_",
    "outputId": "ccc874e6-7dd4-4e24-bec8-35ae48180b40",
    "tags": []
   },
   "outputs": [
    {
     "name": "stderr",
     "output_type": "stream",
     "text": [
      "/home/sf/anaconda3/envs/tabular-x/lib/python3.8/site-packages/optuna/progress_bar.py:47: ExperimentalWarning: Progress bar is experimental (supported from v1.2.0). The interface can change in the future.\n",
      "  self._init_valid()\n"
     ]
    },
    {
     "data": {
      "application/vnd.jupyter.widget-view+json": {
       "model_id": "526ed3ac943a45fa8dc339194d2cab12",
       "version_major": 2,
       "version_minor": 0
      },
      "text/plain": [
       "  0%|          | 0/1 [00:00<?, ?it/s]"
      ]
     },
     "metadata": {},
     "output_type": "display_data"
    },
    {
     "name": "stderr",
     "output_type": "stream",
     "text": [
      "/home/sf/anaconda3/envs/tabular-x/lib/python3.8/site-packages/xgboost/sklearn.py:1146: UserWarning: The use of label encoder in XGBClassifier is deprecated and will be removed in a future release. To remove this warning, do the following: 1) Pass option use_label_encoder=False when constructing XGBClassifier object; and 2) Encode your labels (y) as integers starting with 0, i.e. 0, 1, 2, ..., [num_class - 1].\n",
      "  warnings.warn(label_encoder_deprecation_msg, UserWarning)\n"
     ]
    },
    {
     "name": "stdout",
     "output_type": "stream",
     "text": [
      "[11:57:38] WARNING: ../src/learner.cc:1095: Starting in XGBoost 1.3.0, the default evaluation metric used with the objective 'binary:logistic' was changed from 'error' to 'logloss'. Explicitly set eval_metric if you'd like to restore the old behavior.\n"
     ]
    },
    {
     "name": "stderr",
     "output_type": "stream",
     "text": [
      "\u001b[34m\u001b[1mwandb\u001b[0m: \u001b[33mWARNING\u001b[0m Step must only increase in log calls.  Step 0 < 1; dropping {'pca_components': 138, 'value': 0.8283967087232865}.\n"
     ]
    },
    {
     "name": "stdout",
     "output_type": "stream",
     "text": [
      "ROC AUC Score of XGBoost = 0.8283967087232865\n",
      "\u001b[32m[I 2021-10-10 11:59:12,446]\u001b[0m Trial 0 finished with value: 0.8283967087232865 and parameters: {'pca_components': 138}. Best is trial 0 with value: 0.8283967087232865.\u001b[0m\n"
     ]
    },
    {
     "name": "stderr",
     "output_type": "stream",
     "text": [
      "/home/sf/anaconda3/envs/tabular-x/lib/python3.8/site-packages/optuna/progress_bar.py:47: ExperimentalWarning: Progress bar is experimental (supported from v1.2.0). The interface can change in the future.\n",
      "  self._init_valid()\n"
     ]
    },
    {
     "data": {
      "application/vnd.jupyter.widget-view+json": {
       "model_id": "0c995da28a1d44a78001aca7668f1bcd",
       "version_major": 2,
       "version_minor": 0
      },
      "text/plain": [
       "  0%|          | 0/1 [00:00<?, ?it/s]"
      ]
     },
     "metadata": {},
     "output_type": "display_data"
    },
    {
     "name": "stderr",
     "output_type": "stream",
     "text": [
      "/home/sf/anaconda3/envs/tabular-x/lib/python3.8/site-packages/xgboost/sklearn.py:1146: UserWarning: The use of label encoder in XGBClassifier is deprecated and will be removed in a future release. To remove this warning, do the following: 1) Pass option use_label_encoder=False when constructing XGBClassifier object; and 2) Encode your labels (y) as integers starting with 0, i.e. 0, 1, 2, ..., [num_class - 1].\n",
      "  warnings.warn(label_encoder_deprecation_msg, UserWarning)\n"
     ]
    },
    {
     "name": "stdout",
     "output_type": "stream",
     "text": [
      "[11:59:32] WARNING: ../src/learner.cc:1095: Starting in XGBoost 1.3.0, the default evaluation metric used with the objective 'binary:logistic' was changed from 'error' to 'logloss'. Explicitly set eval_metric if you'd like to restore the old behavior.\n"
     ]
    },
    {
     "name": "stderr",
     "output_type": "stream",
     "text": [
      "\u001b[34m\u001b[1mwandb\u001b[0m: \u001b[33mWARNING\u001b[0m Step must only increase in log calls.  Step 1 < 2; dropping {'pca_components': 274, 'value': 0.8472107426301871}.\n"
     ]
    },
    {
     "name": "stdout",
     "output_type": "stream",
     "text": [
      "ROC AUC Score of XGBoost = 0.8472107426301871\n",
      "\u001b[32m[I 2021-10-10 12:02:45,979]\u001b[0m Trial 1 finished with value: 0.8472107426301871 and parameters: {'pca_components': 274}. Best is trial 1 with value: 0.8472107426301871.\u001b[0m\n"
     ]
    },
    {
     "name": "stderr",
     "output_type": "stream",
     "text": [
      "/home/sf/anaconda3/envs/tabular-x/lib/python3.8/site-packages/optuna/progress_bar.py:47: ExperimentalWarning: Progress bar is experimental (supported from v1.2.0). The interface can change in the future.\n",
      "  self._init_valid()\n"
     ]
    },
    {
     "data": {
      "application/vnd.jupyter.widget-view+json": {
       "model_id": "8fccb3fa1d664c2c9182df86e0916f62",
       "version_major": 2,
       "version_minor": 0
      },
      "text/plain": [
       "  0%|          | 0/1 [00:00<?, ?it/s]"
      ]
     },
     "metadata": {},
     "output_type": "display_data"
    },
    {
     "name": "stderr",
     "output_type": "stream",
     "text": [
      "/home/sf/anaconda3/envs/tabular-x/lib/python3.8/site-packages/xgboost/sklearn.py:1146: UserWarning: The use of label encoder in XGBClassifier is deprecated and will be removed in a future release. To remove this warning, do the following: 1) Pass option use_label_encoder=False when constructing XGBClassifier object; and 2) Encode your labels (y) as integers starting with 0, i.e. 0, 1, 2, ..., [num_class - 1].\n",
      "  warnings.warn(label_encoder_deprecation_msg, UserWarning)\n"
     ]
    },
    {
     "name": "stdout",
     "output_type": "stream",
     "text": [
      "[12:03:31] WARNING: ../src/learner.cc:1095: Starting in XGBoost 1.3.0, the default evaluation metric used with the objective 'binary:logistic' was changed from 'error' to 'logloss'. Explicitly set eval_metric if you'd like to restore the old behavior.\n"
     ]
    },
    {
     "name": "stderr",
     "output_type": "stream",
     "text": [
      "\u001b[34m\u001b[1mwandb\u001b[0m: \u001b[33mWARNING\u001b[0m Step must only increase in log calls.  Step 2 < 3; dropping {'pca_components': 222, 'value': 0.8411313966895685}.\n"
     ]
    },
    {
     "name": "stdout",
     "output_type": "stream",
     "text": [
      "ROC AUC Score of XGBoost = 0.8411313966895685\n",
      "\u001b[32m[I 2021-10-10 12:06:07,082]\u001b[0m Trial 2 finished with value: 0.8411313966895685 and parameters: {'pca_components': 222}. Best is trial 1 with value: 0.8472107426301871.\u001b[0m\n"
     ]
    },
    {
     "name": "stderr",
     "output_type": "stream",
     "text": [
      "/home/sf/anaconda3/envs/tabular-x/lib/python3.8/site-packages/optuna/progress_bar.py:47: ExperimentalWarning: Progress bar is experimental (supported from v1.2.0). The interface can change in the future.\n",
      "  self._init_valid()\n"
     ]
    },
    {
     "data": {
      "application/vnd.jupyter.widget-view+json": {
       "model_id": "4cfa85acfc834a6eb8f4993b66a345d2",
       "version_major": 2,
       "version_minor": 0
      },
      "text/plain": [
       "  0%|          | 0/1 [00:00<?, ?it/s]"
      ]
     },
     "metadata": {},
     "output_type": "display_data"
    },
    {
     "name": "stderr",
     "output_type": "stream",
     "text": [
      "/home/sf/anaconda3/envs/tabular-x/lib/python3.8/site-packages/xgboost/sklearn.py:1146: UserWarning: The use of label encoder in XGBClassifier is deprecated and will be removed in a future release. To remove this warning, do the following: 1) Pass option use_label_encoder=False when constructing XGBClassifier object; and 2) Encode your labels (y) as integers starting with 0, i.e. 0, 1, 2, ..., [num_class - 1].\n",
      "  warnings.warn(label_encoder_deprecation_msg, UserWarning)\n"
     ]
    },
    {
     "name": "stdout",
     "output_type": "stream",
     "text": [
      "[12:06:46] WARNING: ../src/learner.cc:1095: Starting in XGBoost 1.3.0, the default evaluation metric used with the objective 'binary:logistic' was changed from 'error' to 'logloss'. Explicitly set eval_metric if you'd like to restore the old behavior.\n"
     ]
    },
    {
     "name": "stderr",
     "output_type": "stream",
     "text": [
      "\u001b[34m\u001b[1mwandb\u001b[0m: \u001b[33mWARNING\u001b[0m Step must only increase in log calls.  Step 3 < 4; dropping {'pca_components': 191, 'value': 0.8342598041011918}.\n"
     ]
    },
    {
     "name": "stdout",
     "output_type": "stream",
     "text": [
      "ROC AUC Score of XGBoost = 0.8342598041011918\n",
      "\u001b[32m[I 2021-10-10 12:09:03,422]\u001b[0m Trial 3 finished with value: 0.8342598041011918 and parameters: {'pca_components': 191}. Best is trial 1 with value: 0.8472107426301871.\u001b[0m\n"
     ]
    },
    {
     "name": "stderr",
     "output_type": "stream",
     "text": [
      "/home/sf/anaconda3/envs/tabular-x/lib/python3.8/site-packages/optuna/progress_bar.py:47: ExperimentalWarning: Progress bar is experimental (supported from v1.2.0). The interface can change in the future.\n",
      "  self._init_valid()\n"
     ]
    },
    {
     "data": {
      "application/vnd.jupyter.widget-view+json": {
       "model_id": "feeb5cbc6d8f498aaeafbcbd5baf86c8",
       "version_major": 2,
       "version_minor": 0
      },
      "text/plain": [
       "  0%|          | 0/1 [00:00<?, ?it/s]"
      ]
     },
     "metadata": {},
     "output_type": "display_data"
    },
    {
     "name": "stderr",
     "output_type": "stream",
     "text": [
      "/home/sf/anaconda3/envs/tabular-x/lib/python3.8/site-packages/xgboost/sklearn.py:1146: UserWarning: The use of label encoder in XGBClassifier is deprecated and will be removed in a future release. To remove this warning, do the following: 1) Pass option use_label_encoder=False when constructing XGBClassifier object; and 2) Encode your labels (y) as integers starting with 0, i.e. 0, 1, 2, ..., [num_class - 1].\n",
      "  warnings.warn(label_encoder_deprecation_msg, UserWarning)\n"
     ]
    },
    {
     "name": "stdout",
     "output_type": "stream",
     "text": [
      "[12:09:22] WARNING: ../src/learner.cc:1095: Starting in XGBoost 1.3.0, the default evaluation metric used with the objective 'binary:logistic' was changed from 'error' to 'logloss'. Explicitly set eval_metric if you'd like to restore the old behavior.\n"
     ]
    },
    {
     "name": "stderr",
     "output_type": "stream",
     "text": [
      "\u001b[34m\u001b[1mwandb\u001b[0m: \u001b[33mWARNING\u001b[0m Step must only increase in log calls.  Step 4 < 5; dropping {'pca_components': 86, 'value': 0.806690388517508}.\n"
     ]
    },
    {
     "name": "stdout",
     "output_type": "stream",
     "text": [
      "ROC AUC Score of XGBoost = 0.806690388517508\n",
      "\u001b[32m[I 2021-10-10 12:10:25,360]\u001b[0m Trial 4 finished with value: 0.806690388517508 and parameters: {'pca_components': 86}. Best is trial 1 with value: 0.8472107426301871.\u001b[0m\n"
     ]
    },
    {
     "name": "stderr",
     "output_type": "stream",
     "text": [
      "/home/sf/anaconda3/envs/tabular-x/lib/python3.8/site-packages/optuna/progress_bar.py:47: ExperimentalWarning: Progress bar is experimental (supported from v1.2.0). The interface can change in the future.\n",
      "  self._init_valid()\n"
     ]
    },
    {
     "data": {
      "application/vnd.jupyter.widget-view+json": {
       "model_id": "778ed1965573401a893b3bcf5d741830",
       "version_major": 2,
       "version_minor": 0
      },
      "text/plain": [
       "  0%|          | 0/1 [00:00<?, ?it/s]"
      ]
     },
     "metadata": {},
     "output_type": "display_data"
    },
    {
     "name": "stderr",
     "output_type": "stream",
     "text": [
      "/home/sf/anaconda3/envs/tabular-x/lib/python3.8/site-packages/xgboost/sklearn.py:1146: UserWarning: The use of label encoder in XGBClassifier is deprecated and will be removed in a future release. To remove this warning, do the following: 1) Pass option use_label_encoder=False when constructing XGBClassifier object; and 2) Encode your labels (y) as integers starting with 0, i.e. 0, 1, 2, ..., [num_class - 1].\n",
      "  warnings.warn(label_encoder_deprecation_msg, UserWarning)\n"
     ]
    },
    {
     "name": "stdout",
     "output_type": "stream",
     "text": [
      "[12:10:43] WARNING: ../src/learner.cc:1095: Starting in XGBoost 1.3.0, the default evaluation metric used with the objective 'binary:logistic' was changed from 'error' to 'logloss'. Explicitly set eval_metric if you'd like to restore the old behavior.\n"
     ]
    },
    {
     "name": "stderr",
     "output_type": "stream",
     "text": [
      "\u001b[34m\u001b[1mwandb\u001b[0m: \u001b[33mWARNING\u001b[0m Step must only increase in log calls.  Step 5 < 6; dropping {'pca_components': 86, 'value': 0.806690388517508}.\n"
     ]
    },
    {
     "name": "stdout",
     "output_type": "stream",
     "text": [
      "ROC AUC Score of XGBoost = 0.806690388517508\n",
      "\u001b[32m[I 2021-10-10 12:11:46,686]\u001b[0m Trial 5 finished with value: 0.806690388517508 and parameters: {'pca_components': 86}. Best is trial 1 with value: 0.8472107426301871.\u001b[0m\n"
     ]
    },
    {
     "name": "stderr",
     "output_type": "stream",
     "text": [
      "/home/sf/anaconda3/envs/tabular-x/lib/python3.8/site-packages/optuna/progress_bar.py:47: ExperimentalWarning: Progress bar is experimental (supported from v1.2.0). The interface can change in the future.\n",
      "  self._init_valid()\n"
     ]
    },
    {
     "data": {
      "application/vnd.jupyter.widget-view+json": {
       "model_id": "b5122220c3f24f86abb9c62111e5b1f6",
       "version_major": 2,
       "version_minor": 0
      },
      "text/plain": [
       "  0%|          | 0/1 [00:00<?, ?it/s]"
      ]
     },
     "metadata": {},
     "output_type": "display_data"
    },
    {
     "name": "stderr",
     "output_type": "stream",
     "text": [
      "/home/sf/anaconda3/envs/tabular-x/lib/python3.8/site-packages/xgboost/sklearn.py:1146: UserWarning: The use of label encoder in XGBClassifier is deprecated and will be removed in a future release. To remove this warning, do the following: 1) Pass option use_label_encoder=False when constructing XGBClassifier object; and 2) Encode your labels (y) as integers starting with 0, i.e. 0, 1, 2, ..., [num_class - 1].\n",
      "  warnings.warn(label_encoder_deprecation_msg, UserWarning)\n"
     ]
    },
    {
     "name": "stdout",
     "output_type": "stream",
     "text": [
      "[12:12:01] WARNING: ../src/learner.cc:1095: Starting in XGBoost 1.3.0, the default evaluation metric used with the objective 'binary:logistic' was changed from 'error' to 'logloss'. Explicitly set eval_metric if you'd like to restore the old behavior.\n"
     ]
    },
    {
     "name": "stderr",
     "output_type": "stream",
     "text": [
      "\u001b[34m\u001b[1mwandb\u001b[0m: \u001b[33mWARNING\u001b[0m Step must only increase in log calls.  Step 6 < 7; dropping {'pca_components': 63, 'value': 0.7904181686815366}.\n"
     ]
    },
    {
     "name": "stdout",
     "output_type": "stream",
     "text": [
      "ROC AUC Score of XGBoost = 0.7904181686815366\n",
      "\u001b[32m[I 2021-10-10 12:12:47,694]\u001b[0m Trial 6 finished with value: 0.7904181686815366 and parameters: {'pca_components': 63}. Best is trial 1 with value: 0.8472107426301871.\u001b[0m\n"
     ]
    },
    {
     "name": "stderr",
     "output_type": "stream",
     "text": [
      "/home/sf/anaconda3/envs/tabular-x/lib/python3.8/site-packages/optuna/progress_bar.py:47: ExperimentalWarning: Progress bar is experimental (supported from v1.2.0). The interface can change in the future.\n",
      "  self._init_valid()\n"
     ]
    },
    {
     "data": {
      "application/vnd.jupyter.widget-view+json": {
       "model_id": "add254087a4548f8943e78283019acf3",
       "version_major": 2,
       "version_minor": 0
      },
      "text/plain": [
       "  0%|          | 0/1 [00:00<?, ?it/s]"
      ]
     },
     "metadata": {},
     "output_type": "display_data"
    },
    {
     "name": "stderr",
     "output_type": "stream",
     "text": [
      "/home/sf/anaconda3/envs/tabular-x/lib/python3.8/site-packages/xgboost/sklearn.py:1146: UserWarning: The use of label encoder in XGBClassifier is deprecated and will be removed in a future release. To remove this warning, do the following: 1) Pass option use_label_encoder=False when constructing XGBClassifier object; and 2) Encode your labels (y) as integers starting with 0, i.e. 0, 1, 2, ..., [num_class - 1].\n",
      "  warnings.warn(label_encoder_deprecation_msg, UserWarning)\n"
     ]
    },
    {
     "name": "stdout",
     "output_type": "stream",
     "text": [
      "[12:13:06] WARNING: ../src/learner.cc:1095: Starting in XGBoost 1.3.0, the default evaluation metric used with the objective 'binary:logistic' was changed from 'error' to 'logloss'. Explicitly set eval_metric if you'd like to restore the old behavior.\n"
     ]
    },
    {
     "name": "stderr",
     "output_type": "stream",
     "text": [
      "\u001b[34m\u001b[1mwandb\u001b[0m: \u001b[33mWARNING\u001b[0m Step must only increase in log calls.  Step 7 < 8; dropping {'pca_components': 254, 'value': 0.8452885185751505}.\n"
     ]
    },
    {
     "name": "stdout",
     "output_type": "stream",
     "text": [
      "ROC AUC Score of XGBoost = 0.8452885185751505\n",
      "\u001b[32m[I 2021-10-10 12:15:43,607]\u001b[0m Trial 7 finished with value: 0.8452885185751505 and parameters: {'pca_components': 254}. Best is trial 1 with value: 0.8472107426301871.\u001b[0m\n"
     ]
    },
    {
     "name": "stderr",
     "output_type": "stream",
     "text": [
      "/home/sf/anaconda3/envs/tabular-x/lib/python3.8/site-packages/optuna/progress_bar.py:47: ExperimentalWarning: Progress bar is experimental (supported from v1.2.0). The interface can change in the future.\n",
      "  self._init_valid()\n"
     ]
    },
    {
     "data": {
      "application/vnd.jupyter.widget-view+json": {
       "model_id": "fa23627f1d4045d888d13dfda8f652fa",
       "version_major": 2,
       "version_minor": 0
      },
      "text/plain": [
       "  0%|          | 0/1 [00:00<?, ?it/s]"
      ]
     },
     "metadata": {},
     "output_type": "display_data"
    },
    {
     "name": "stderr",
     "output_type": "stream",
     "text": [
      "/home/sf/anaconda3/envs/tabular-x/lib/python3.8/site-packages/xgboost/sklearn.py:1146: UserWarning: The use of label encoder in XGBClassifier is deprecated and will be removed in a future release. To remove this warning, do the following: 1) Pass option use_label_encoder=False when constructing XGBClassifier object; and 2) Encode your labels (y) as integers starting with 0, i.e. 0, 1, 2, ..., [num_class - 1].\n",
      "  warnings.warn(label_encoder_deprecation_msg, UserWarning)\n"
     ]
    },
    {
     "name": "stdout",
     "output_type": "stream",
     "text": [
      "[12:16:22] WARNING: ../src/learner.cc:1095: Starting in XGBoost 1.3.0, the default evaluation metric used with the objective 'binary:logistic' was changed from 'error' to 'logloss'. Explicitly set eval_metric if you'd like to restore the old behavior.\n"
     ]
    },
    {
     "name": "stderr",
     "output_type": "stream",
     "text": [
      "\u001b[34m\u001b[1mwandb\u001b[0m: \u001b[33mWARNING\u001b[0m Step must only increase in log calls.  Step 8 < 9; dropping {'pca_components': 191, 'value': 0.8342598041011918}.\n"
     ]
    },
    {
     "name": "stdout",
     "output_type": "stream",
     "text": [
      "ROC AUC Score of XGBoost = 0.8342598041011918\n",
      "\u001b[32m[I 2021-10-10 12:18:38,689]\u001b[0m Trial 8 finished with value: 0.8342598041011918 and parameters: {'pca_components': 191}. Best is trial 1 with value: 0.8472107426301871.\u001b[0m\n"
     ]
    },
    {
     "name": "stderr",
     "output_type": "stream",
     "text": [
      "/home/sf/anaconda3/envs/tabular-x/lib/python3.8/site-packages/optuna/progress_bar.py:47: ExperimentalWarning: Progress bar is experimental (supported from v1.2.0). The interface can change in the future.\n",
      "  self._init_valid()\n"
     ]
    },
    {
     "data": {
      "application/vnd.jupyter.widget-view+json": {
       "model_id": "5422d08b044f46318acef3ee9a059d17",
       "version_major": 2,
       "version_minor": 0
      },
      "text/plain": [
       "  0%|          | 0/1 [00:00<?, ?it/s]"
      ]
     },
     "metadata": {},
     "output_type": "display_data"
    },
    {
     "name": "stderr",
     "output_type": "stream",
     "text": [
      "/home/sf/anaconda3/envs/tabular-x/lib/python3.8/site-packages/xgboost/sklearn.py:1146: UserWarning: The use of label encoder in XGBClassifier is deprecated and will be removed in a future release. To remove this warning, do the following: 1) Pass option use_label_encoder=False when constructing XGBClassifier object; and 2) Encode your labels (y) as integers starting with 0, i.e. 0, 1, 2, ..., [num_class - 1].\n",
      "  warnings.warn(label_encoder_deprecation_msg, UserWarning)\n"
     ]
    },
    {
     "name": "stdout",
     "output_type": "stream",
     "text": [
      "[12:19:25] WARNING: ../src/learner.cc:1095: Starting in XGBoost 1.3.0, the default evaluation metric used with the objective 'binary:logistic' was changed from 'error' to 'logloss'. Explicitly set eval_metric if you'd like to restore the old behavior.\n"
     ]
    },
    {
     "name": "stderr",
     "output_type": "stream",
     "text": [
      "\u001b[34m\u001b[1mwandb\u001b[0m: \u001b[33mWARNING\u001b[0m Step must only increase in log calls.  Step 9 < 10; dropping {'pca_components': 217, 'value': 0.8409412517853502}.\n"
     ]
    },
    {
     "name": "stdout",
     "output_type": "stream",
     "text": [
      "ROC AUC Score of XGBoost = 0.8409412517853502\n",
      "\u001b[32m[I 2021-10-10 12:21:58,921]\u001b[0m Trial 9 finished with value: 0.8409412517853502 and parameters: {'pca_components': 217}. Best is trial 1 with value: 0.8472107426301871.\u001b[0m\n"
     ]
    },
    {
     "name": "stderr",
     "output_type": "stream",
     "text": [
      "/home/sf/anaconda3/envs/tabular-x/lib/python3.8/site-packages/optuna/progress_bar.py:47: ExperimentalWarning: Progress bar is experimental (supported from v1.2.0). The interface can change in the future.\n",
      "  self._init_valid()\n"
     ]
    },
    {
     "data": {
      "application/vnd.jupyter.widget-view+json": {
       "model_id": "e5828e8c8e4c4e88ada0bcfd0a1e657c",
       "version_major": 2,
       "version_minor": 0
      },
      "text/plain": [
       "  0%|          | 0/1 [00:00<?, ?it/s]"
      ]
     },
     "metadata": {},
     "output_type": "display_data"
    },
    {
     "name": "stderr",
     "output_type": "stream",
     "text": [
      "/home/sf/anaconda3/envs/tabular-x/lib/python3.8/site-packages/xgboost/sklearn.py:1146: UserWarning: The use of label encoder in XGBClassifier is deprecated and will be removed in a future release. To remove this warning, do the following: 1) Pass option use_label_encoder=False when constructing XGBClassifier object; and 2) Encode your labels (y) as integers starting with 0, i.e. 0, 1, 2, ..., [num_class - 1].\n",
      "  warnings.warn(label_encoder_deprecation_msg, UserWarning)\n"
     ]
    },
    {
     "name": "stdout",
     "output_type": "stream",
     "text": [
      "[12:22:18] WARNING: ../src/learner.cc:1095: Starting in XGBoost 1.3.0, the default evaluation metric used with the objective 'binary:logistic' was changed from 'error' to 'logloss'. Explicitly set eval_metric if you'd like to restore the old behavior.\n"
     ]
    },
    {
     "name": "stderr",
     "output_type": "stream",
     "text": [
      "\u001b[34m\u001b[1mwandb\u001b[0m: \u001b[33mWARNING\u001b[0m Step must only increase in log calls.  Step 10 < 11; dropping {'pca_components': 281, 'value': 0.8474176983005992}.\n"
     ]
    },
    {
     "name": "stdout",
     "output_type": "stream",
     "text": [
      "ROC AUC Score of XGBoost = 0.8474176983005992\n",
      "\u001b[32m[I 2021-10-10 12:25:32,672]\u001b[0m Trial 10 finished with value: 0.8474176983005992 and parameters: {'pca_components': 281}. Best is trial 10 with value: 0.8474176983005992.\u001b[0m\n"
     ]
    },
    {
     "name": "stderr",
     "output_type": "stream",
     "text": [
      "/home/sf/anaconda3/envs/tabular-x/lib/python3.8/site-packages/optuna/progress_bar.py:47: ExperimentalWarning: Progress bar is experimental (supported from v1.2.0). The interface can change in the future.\n",
      "  self._init_valid()\n"
     ]
    },
    {
     "data": {
      "application/vnd.jupyter.widget-view+json": {
       "model_id": "077d792ab5b54f7e94cac11539cb2dbc",
       "version_major": 2,
       "version_minor": 0
      },
      "text/plain": [
       "  0%|          | 0/1 [00:00<?, ?it/s]"
      ]
     },
     "metadata": {},
     "output_type": "display_data"
    },
    {
     "name": "stderr",
     "output_type": "stream",
     "text": [
      "/home/sf/anaconda3/envs/tabular-x/lib/python3.8/site-packages/xgboost/sklearn.py:1146: UserWarning: The use of label encoder in XGBClassifier is deprecated and will be removed in a future release. To remove this warning, do the following: 1) Pass option use_label_encoder=False when constructing XGBClassifier object; and 2) Encode your labels (y) as integers starting with 0, i.e. 0, 1, 2, ..., [num_class - 1].\n",
      "  warnings.warn(label_encoder_deprecation_msg, UserWarning)\n"
     ]
    },
    {
     "name": "stdout",
     "output_type": "stream",
     "text": [
      "[12:25:52] WARNING: ../src/learner.cc:1095: Starting in XGBoost 1.3.0, the default evaluation metric used with the objective 'binary:logistic' was changed from 'error' to 'logloss'. Explicitly set eval_metric if you'd like to restore the old behavior.\n"
     ]
    },
    {
     "name": "stderr",
     "output_type": "stream",
     "text": [
      "\u001b[34m\u001b[1mwandb\u001b[0m: \u001b[33mWARNING\u001b[0m Step must only increase in log calls.  Step 11 < 12; dropping {'pca_components': 270, 'value': 0.8462401528718595}.\n"
     ]
    },
    {
     "name": "stdout",
     "output_type": "stream",
     "text": [
      "ROC AUC Score of XGBoost = 0.8462401528718595\n",
      "\u001b[32m[I 2021-10-10 12:29:05,642]\u001b[0m Trial 11 finished with value: 0.8462401528718595 and parameters: {'pca_components': 270}. Best is trial 10 with value: 0.8474176983005992.\u001b[0m\n"
     ]
    },
    {
     "name": "stderr",
     "output_type": "stream",
     "text": [
      "/home/sf/anaconda3/envs/tabular-x/lib/python3.8/site-packages/optuna/progress_bar.py:47: ExperimentalWarning: Progress bar is experimental (supported from v1.2.0). The interface can change in the future.\n",
      "  self._init_valid()\n"
     ]
    },
    {
     "data": {
      "application/vnd.jupyter.widget-view+json": {
       "model_id": "b1ede0e145554dab8b24e39e112f384c",
       "version_major": 2,
       "version_minor": 0
      },
      "text/plain": [
       "  0%|          | 0/1 [00:00<?, ?it/s]"
      ]
     },
     "metadata": {},
     "output_type": "display_data"
    },
    {
     "name": "stderr",
     "output_type": "stream",
     "text": [
      "/home/sf/anaconda3/envs/tabular-x/lib/python3.8/site-packages/xgboost/sklearn.py:1146: UserWarning: The use of label encoder in XGBClassifier is deprecated and will be removed in a future release. To remove this warning, do the following: 1) Pass option use_label_encoder=False when constructing XGBClassifier object; and 2) Encode your labels (y) as integers starting with 0, i.e. 0, 1, 2, ..., [num_class - 1].\n",
      "  warnings.warn(label_encoder_deprecation_msg, UserWarning)\n"
     ]
    },
    {
     "name": "stdout",
     "output_type": "stream",
     "text": [
      "[12:29:25] WARNING: ../src/learner.cc:1095: Starting in XGBoost 1.3.0, the default evaluation metric used with the objective 'binary:logistic' was changed from 'error' to 'logloss'. Explicitly set eval_metric if you'd like to restore the old behavior.\n"
     ]
    },
    {
     "name": "stderr",
     "output_type": "stream",
     "text": [
      "\u001b[34m\u001b[1mwandb\u001b[0m: \u001b[33mWARNING\u001b[0m Step must only increase in log calls.  Step 12 < 13; dropping {'pca_components': 278, 'value': 0.8472224222376469}.\n"
     ]
    },
    {
     "name": "stdout",
     "output_type": "stream",
     "text": [
      "ROC AUC Score of XGBoost = 0.8472224222376469\n",
      "\u001b[32m[I 2021-10-10 12:32:39,229]\u001b[0m Trial 12 finished with value: 0.8472224222376469 and parameters: {'pca_components': 278}. Best is trial 10 with value: 0.8474176983005992.\u001b[0m\n"
     ]
    },
    {
     "name": "stderr",
     "output_type": "stream",
     "text": [
      "/home/sf/anaconda3/envs/tabular-x/lib/python3.8/site-packages/optuna/progress_bar.py:47: ExperimentalWarning: Progress bar is experimental (supported from v1.2.0). The interface can change in the future.\n",
      "  self._init_valid()\n"
     ]
    },
    {
     "data": {
      "application/vnd.jupyter.widget-view+json": {
       "model_id": "945c03a5fab942cc8bc82dedea9ea5a6",
       "version_major": 2,
       "version_minor": 0
      },
      "text/plain": [
       "  0%|          | 0/1 [00:00<?, ?it/s]"
      ]
     },
     "metadata": {},
     "output_type": "display_data"
    },
    {
     "name": "stderr",
     "output_type": "stream",
     "text": [
      "/home/sf/anaconda3/envs/tabular-x/lib/python3.8/site-packages/xgboost/sklearn.py:1146: UserWarning: The use of label encoder in XGBClassifier is deprecated and will be removed in a future release. To remove this warning, do the following: 1) Pass option use_label_encoder=False when constructing XGBClassifier object; and 2) Encode your labels (y) as integers starting with 0, i.e. 0, 1, 2, ..., [num_class - 1].\n",
      "  warnings.warn(label_encoder_deprecation_msg, UserWarning)\n"
     ]
    },
    {
     "name": "stdout",
     "output_type": "stream",
     "text": [
      "[12:32:58] WARNING: ../src/learner.cc:1095: Starting in XGBoost 1.3.0, the default evaluation metric used with the objective 'binary:logistic' was changed from 'error' to 'logloss'. Explicitly set eval_metric if you'd like to restore the old behavior.\n"
     ]
    },
    {
     "name": "stderr",
     "output_type": "stream",
     "text": [
      "\u001b[34m\u001b[1mwandb\u001b[0m: \u001b[33mWARNING\u001b[0m Step must only increase in log calls.  Step 13 < 14; dropping {'pca_components': 239, 'value': 0.8446363408619656}.\n"
     ]
    },
    {
     "name": "stdout",
     "output_type": "stream",
     "text": [
      "ROC AUC Score of XGBoost = 0.8446363408619656\n",
      "\u001b[32m[I 2021-10-10 12:35:35,341]\u001b[0m Trial 13 finished with value: 0.8446363408619656 and parameters: {'pca_components': 239}. Best is trial 10 with value: 0.8474176983005992.\u001b[0m\n"
     ]
    },
    {
     "name": "stderr",
     "output_type": "stream",
     "text": [
      "/home/sf/anaconda3/envs/tabular-x/lib/python3.8/site-packages/optuna/progress_bar.py:47: ExperimentalWarning: Progress bar is experimental (supported from v1.2.0). The interface can change in the future.\n",
      "  self._init_valid()\n"
     ]
    },
    {
     "data": {
      "application/vnd.jupyter.widget-view+json": {
       "model_id": "8986b171a6b14e7db312199a0ada6e73",
       "version_major": 2,
       "version_minor": 0
      },
      "text/plain": [
       "  0%|          | 0/1 [00:00<?, ?it/s]"
      ]
     },
     "metadata": {},
     "output_type": "display_data"
    },
    {
     "name": "stderr",
     "output_type": "stream",
     "text": [
      "/home/sf/anaconda3/envs/tabular-x/lib/python3.8/site-packages/xgboost/sklearn.py:1146: UserWarning: The use of label encoder in XGBClassifier is deprecated and will be removed in a future release. To remove this warning, do the following: 1) Pass option use_label_encoder=False when constructing XGBClassifier object; and 2) Encode your labels (y) as integers starting with 0, i.e. 0, 1, 2, ..., [num_class - 1].\n",
      "  warnings.warn(label_encoder_deprecation_msg, UserWarning)\n"
     ]
    },
    {
     "name": "stdout",
     "output_type": "stream",
     "text": [
      "[12:35:54] WARNING: ../src/learner.cc:1095: Starting in XGBoost 1.3.0, the default evaluation metric used with the objective 'binary:logistic' was changed from 'error' to 'logloss'. Explicitly set eval_metric if you'd like to restore the old behavior.\n"
     ]
    },
    {
     "name": "stderr",
     "output_type": "stream",
     "text": [
      "\u001b[34m\u001b[1mwandb\u001b[0m: \u001b[33mWARNING\u001b[0m Step must only increase in log calls.  Step 14 < 15; dropping {'pca_components': 283, 'value': 0.8474194357944366}.\n"
     ]
    },
    {
     "name": "stdout",
     "output_type": "stream",
     "text": [
      "ROC AUC Score of XGBoost = 0.8474194357944366\n",
      "\u001b[32m[I 2021-10-10 12:39:09,826]\u001b[0m Trial 14 finished with value: 0.8474194357944366 and parameters: {'pca_components': 283}. Best is trial 14 with value: 0.8474194357944366.\u001b[0m\n"
     ]
    },
    {
     "name": "stderr",
     "output_type": "stream",
     "text": [
      "/home/sf/anaconda3/envs/tabular-x/lib/python3.8/site-packages/optuna/progress_bar.py:47: ExperimentalWarning: Progress bar is experimental (supported from v1.2.0). The interface can change in the future.\n",
      "  self._init_valid()\n"
     ]
    },
    {
     "data": {
      "application/vnd.jupyter.widget-view+json": {
       "model_id": "2dc5e682ca174a228a244baa13a8c099",
       "version_major": 2,
       "version_minor": 0
      },
      "text/plain": [
       "  0%|          | 0/1 [00:00<?, ?it/s]"
      ]
     },
     "metadata": {},
     "output_type": "display_data"
    },
    {
     "ename": "KeyboardInterrupt",
     "evalue": "",
     "output_type": "error",
     "traceback": [
      "\u001b[0;31m---------------------------------------------------------------------------\u001b[0m",
      "\u001b[0;31mKeyboardInterrupt\u001b[0m                         Traceback (most recent call last)",
      "\u001b[0;32m<ipython-input-20-31be9a9972d3>\u001b[0m in \u001b[0;36m<module>\u001b[0;34m\u001b[0m\n\u001b[1;32m      1\u001b[0m \u001b[0;32mfor\u001b[0m \u001b[0mx\u001b[0m \u001b[0;32min\u001b[0m \u001b[0mrange\u001b[0m\u001b[0;34m(\u001b[0m\u001b[0;36m1\u001b[0m\u001b[0;34m,\u001b[0m\u001b[0;36m200\u001b[0m\u001b[0;34m)\u001b[0m\u001b[0;34m:\u001b[0m\u001b[0;34m\u001b[0m\u001b[0;34m\u001b[0m\u001b[0m\n\u001b[0;32m----> 2\u001b[0;31m     \u001b[0mstudy\u001b[0m\u001b[0;34m.\u001b[0m\u001b[0moptimize\u001b[0m\u001b[0;34m(\u001b[0m\u001b[0mobjective\u001b[0m\u001b[0;34m,\u001b[0m \u001b[0mn_trials\u001b[0m \u001b[0;34m=\u001b[0m \u001b[0;36m1\u001b[0m\u001b[0;34m,\u001b[0m \u001b[0mcallbacks\u001b[0m \u001b[0;34m=\u001b[0m \u001b[0;34m[\u001b[0m\u001b[0mwandbc\u001b[0m\u001b[0;34m]\u001b[0m\u001b[0;34m,\u001b[0m \u001b[0mshow_progress_bar\u001b[0m\u001b[0;34m=\u001b[0m\u001b[0;32mTrue\u001b[0m\u001b[0;34m,\u001b[0m \u001b[0mcatch\u001b[0m\u001b[0;34m=\u001b[0m\u001b[0;34m(\u001b[0m\u001b[0mxgboost\u001b[0m\u001b[0;34m.\u001b[0m\u001b[0mcore\u001b[0m\u001b[0;34m.\u001b[0m\u001b[0mXGBoostError\u001b[0m\u001b[0;34m,\u001b[0m\u001b[0;34m)\u001b[0m\u001b[0;34m)\u001b[0m\u001b[0;34m\u001b[0m\u001b[0;34m\u001b[0m\u001b[0m\n\u001b[0m\u001b[1;32m      3\u001b[0m     \u001b[0mdump\u001b[0m\u001b[0;34m(\u001b[0m\u001b[0mstudy\u001b[0m\u001b[0;34m,\u001b[0m \u001b[0mfilename\u001b[0m\u001b[0;34m=\u001b[0m\u001b[0mdatapath\u001b[0m\u001b[0;34m/\u001b[0m\u001b[0;34mf\"optuna_dataset-pca_study_{x}trials_{datetime.now().strftime('%Y%m%d')}.joblib\"\u001b[0m\u001b[0;34m)\u001b[0m\u001b[0;34m\u001b[0m\u001b[0;34m\u001b[0m\u001b[0m\n\u001b[1;32m      4\u001b[0m \u001b[0;31m#     dump(study.best_trial.params, filename=datapath/f'optuna_lightgbm_study_best-thru-{x*5}trials_20210927.joblib')\u001b[0m\u001b[0;34m\u001b[0m\u001b[0;34m\u001b[0m\u001b[0;34m\u001b[0m\u001b[0m\n",
      "\u001b[0;32m~/anaconda3/envs/tabular-x/lib/python3.8/site-packages/optuna/study/study.py\u001b[0m in \u001b[0;36moptimize\u001b[0;34m(self, func, n_trials, timeout, n_jobs, catch, callbacks, gc_after_trial, show_progress_bar)\u001b[0m\n\u001b[1;32m    398\u001b[0m             )\n\u001b[1;32m    399\u001b[0m \u001b[0;34m\u001b[0m\u001b[0m\n\u001b[0;32m--> 400\u001b[0;31m         _optimize(\n\u001b[0m\u001b[1;32m    401\u001b[0m             \u001b[0mstudy\u001b[0m\u001b[0;34m=\u001b[0m\u001b[0mself\u001b[0m\u001b[0;34m,\u001b[0m\u001b[0;34m\u001b[0m\u001b[0;34m\u001b[0m\u001b[0m\n\u001b[1;32m    402\u001b[0m             \u001b[0mfunc\u001b[0m\u001b[0;34m=\u001b[0m\u001b[0mfunc\u001b[0m\u001b[0;34m,\u001b[0m\u001b[0;34m\u001b[0m\u001b[0;34m\u001b[0m\u001b[0m\n",
      "\u001b[0;32m~/anaconda3/envs/tabular-x/lib/python3.8/site-packages/optuna/study/_optimize.py\u001b[0m in \u001b[0;36m_optimize\u001b[0;34m(study, func, n_trials, timeout, n_jobs, catch, callbacks, gc_after_trial, show_progress_bar)\u001b[0m\n\u001b[1;32m     64\u001b[0m     \u001b[0;32mtry\u001b[0m\u001b[0;34m:\u001b[0m\u001b[0;34m\u001b[0m\u001b[0;34m\u001b[0m\u001b[0m\n\u001b[1;32m     65\u001b[0m         \u001b[0;32mif\u001b[0m \u001b[0mn_jobs\u001b[0m \u001b[0;34m==\u001b[0m \u001b[0;36m1\u001b[0m\u001b[0;34m:\u001b[0m\u001b[0;34m\u001b[0m\u001b[0;34m\u001b[0m\u001b[0m\n\u001b[0;32m---> 66\u001b[0;31m             _optimize_sequential(\n\u001b[0m\u001b[1;32m     67\u001b[0m                 \u001b[0mstudy\u001b[0m\u001b[0;34m,\u001b[0m\u001b[0;34m\u001b[0m\u001b[0;34m\u001b[0m\u001b[0m\n\u001b[1;32m     68\u001b[0m                 \u001b[0mfunc\u001b[0m\u001b[0;34m,\u001b[0m\u001b[0;34m\u001b[0m\u001b[0;34m\u001b[0m\u001b[0m\n",
      "\u001b[0;32m~/anaconda3/envs/tabular-x/lib/python3.8/site-packages/optuna/study/_optimize.py\u001b[0m in \u001b[0;36m_optimize_sequential\u001b[0;34m(study, func, n_trials, timeout, catch, callbacks, gc_after_trial, reseed_sampler_rng, time_start, progress_bar)\u001b[0m\n\u001b[1;32m    161\u001b[0m \u001b[0;34m\u001b[0m\u001b[0m\n\u001b[1;32m    162\u001b[0m         \u001b[0;32mtry\u001b[0m\u001b[0;34m:\u001b[0m\u001b[0;34m\u001b[0m\u001b[0;34m\u001b[0m\u001b[0m\n\u001b[0;32m--> 163\u001b[0;31m             \u001b[0mtrial\u001b[0m \u001b[0;34m=\u001b[0m \u001b[0m_run_trial\u001b[0m\u001b[0;34m(\u001b[0m\u001b[0mstudy\u001b[0m\u001b[0;34m,\u001b[0m \u001b[0mfunc\u001b[0m\u001b[0;34m,\u001b[0m \u001b[0mcatch\u001b[0m\u001b[0;34m)\u001b[0m\u001b[0;34m\u001b[0m\u001b[0;34m\u001b[0m\u001b[0m\n\u001b[0m\u001b[1;32m    164\u001b[0m         \u001b[0;32mexcept\u001b[0m \u001b[0mException\u001b[0m\u001b[0;34m:\u001b[0m\u001b[0;34m\u001b[0m\u001b[0;34m\u001b[0m\u001b[0m\n\u001b[1;32m    165\u001b[0m             \u001b[0;32mraise\u001b[0m\u001b[0;34m\u001b[0m\u001b[0;34m\u001b[0m\u001b[0m\n",
      "\u001b[0;32m~/anaconda3/envs/tabular-x/lib/python3.8/site-packages/optuna/study/_optimize.py\u001b[0m in \u001b[0;36m_run_trial\u001b[0;34m(study, func, catch)\u001b[0m\n\u001b[1;32m    211\u001b[0m \u001b[0;34m\u001b[0m\u001b[0m\n\u001b[1;32m    212\u001b[0m     \u001b[0;32mtry\u001b[0m\u001b[0;34m:\u001b[0m\u001b[0;34m\u001b[0m\u001b[0;34m\u001b[0m\u001b[0m\n\u001b[0;32m--> 213\u001b[0;31m         \u001b[0mvalue_or_values\u001b[0m \u001b[0;34m=\u001b[0m \u001b[0mfunc\u001b[0m\u001b[0;34m(\u001b[0m\u001b[0mtrial\u001b[0m\u001b[0;34m)\u001b[0m\u001b[0;34m\u001b[0m\u001b[0;34m\u001b[0m\u001b[0m\n\u001b[0m\u001b[1;32m    214\u001b[0m     \u001b[0;32mexcept\u001b[0m \u001b[0mexceptions\u001b[0m\u001b[0;34m.\u001b[0m\u001b[0mTrialPruned\u001b[0m \u001b[0;32mas\u001b[0m \u001b[0me\u001b[0m\u001b[0;34m:\u001b[0m\u001b[0;34m\u001b[0m\u001b[0;34m\u001b[0m\u001b[0m\n\u001b[1;32m    215\u001b[0m         \u001b[0;31m# TODO(mamu): Handle multi-objective cases.\u001b[0m\u001b[0;34m\u001b[0m\u001b[0;34m\u001b[0m\u001b[0;34m\u001b[0m\u001b[0m\n",
      "\u001b[0;32m<ipython-input-14-8e2748e41b07>\u001b[0m in \u001b[0;36mobjective\u001b[0;34m(trial)\u001b[0m\n\u001b[1;32m      9\u001b[0m     \u001b[0mpca_components\u001b[0m \u001b[0;34m=\u001b[0m \u001b[0mtrial\u001b[0m\u001b[0;34m.\u001b[0m\u001b[0msuggest_int\u001b[0m\u001b[0;34m(\u001b[0m\u001b[0;34m'pca_components'\u001b[0m\u001b[0;34m,\u001b[0m \u001b[0;36m50\u001b[0m\u001b[0;34m,\u001b[0m \u001b[0;36m285\u001b[0m\u001b[0;34m)\u001b[0m\u001b[0;34m\u001b[0m\u001b[0;34m\u001b[0m\u001b[0m\n\u001b[1;32m     10\u001b[0m     \u001b[0mpca\u001b[0m \u001b[0;34m=\u001b[0m \u001b[0mPCA\u001b[0m\u001b[0;34m(\u001b[0m\u001b[0mn_components\u001b[0m\u001b[0;34m=\u001b[0m\u001b[0mpca_components\u001b[0m\u001b[0;34m,\u001b[0m \u001b[0mrandom_state\u001b[0m\u001b[0;34m=\u001b[0m\u001b[0;36m42\u001b[0m\u001b[0;34m)\u001b[0m\u001b[0;34m\u001b[0m\u001b[0;34m\u001b[0m\u001b[0m\n\u001b[0;32m---> 11\u001b[0;31m     \u001b[0mX_pca\u001b[0m \u001b[0;34m=\u001b[0m \u001b[0mpca\u001b[0m\u001b[0;34m.\u001b[0m\u001b[0mfit_transform\u001b[0m\u001b[0;34m(\u001b[0m\u001b[0mX\u001b[0m\u001b[0;34m)\u001b[0m\u001b[0;34m\u001b[0m\u001b[0;34m\u001b[0m\u001b[0m\n\u001b[0m\u001b[1;32m     12\u001b[0m \u001b[0;31m#     dump(pca60, edapath/'PCA_60.joblibg')\u001b[0m\u001b[0;34m\u001b[0m\u001b[0;34m\u001b[0m\u001b[0;34m\u001b[0m\u001b[0m\n\u001b[1;32m     13\u001b[0m \u001b[0;34m\u001b[0m\u001b[0m\n",
      "\u001b[0;32m~/anaconda3/envs/tabular-x/lib/python3.8/site-packages/sklearn/decomposition/_pca.py\u001b[0m in \u001b[0;36mfit_transform\u001b[0;34m(self, X, y)\u001b[0m\n\u001b[1;32m    381\u001b[0m         \u001b[0mC\u001b[0m\u001b[0;34m-\u001b[0m\u001b[0mordered\u001b[0m \u001b[0marray\u001b[0m\u001b[0;34m,\u001b[0m \u001b[0muse\u001b[0m \u001b[0;34m'np.ascontiguousarray'\u001b[0m\u001b[0;34m.\u001b[0m\u001b[0;34m\u001b[0m\u001b[0;34m\u001b[0m\u001b[0m\n\u001b[1;32m    382\u001b[0m         \"\"\"\n\u001b[0;32m--> 383\u001b[0;31m         \u001b[0mU\u001b[0m\u001b[0;34m,\u001b[0m \u001b[0mS\u001b[0m\u001b[0;34m,\u001b[0m \u001b[0mVt\u001b[0m \u001b[0;34m=\u001b[0m \u001b[0mself\u001b[0m\u001b[0;34m.\u001b[0m\u001b[0m_fit\u001b[0m\u001b[0;34m(\u001b[0m\u001b[0mX\u001b[0m\u001b[0;34m)\u001b[0m\u001b[0;34m\u001b[0m\u001b[0;34m\u001b[0m\u001b[0m\n\u001b[0m\u001b[1;32m    384\u001b[0m         \u001b[0mU\u001b[0m \u001b[0;34m=\u001b[0m \u001b[0mU\u001b[0m\u001b[0;34m[\u001b[0m\u001b[0;34m:\u001b[0m\u001b[0;34m,\u001b[0m \u001b[0;34m:\u001b[0m\u001b[0mself\u001b[0m\u001b[0;34m.\u001b[0m\u001b[0mn_components_\u001b[0m\u001b[0;34m]\u001b[0m\u001b[0;34m\u001b[0m\u001b[0;34m\u001b[0m\u001b[0m\n\u001b[1;32m    385\u001b[0m \u001b[0;34m\u001b[0m\u001b[0m\n",
      "\u001b[0;32m~/anaconda3/envs/tabular-x/lib/python3.8/site-packages/sklearn/decomposition/_pca.py\u001b[0m in \u001b[0;36m_fit\u001b[0;34m(self, X)\u001b[0m\n\u001b[1;32m    430\u001b[0m             \u001b[0;32mreturn\u001b[0m \u001b[0mself\u001b[0m\u001b[0;34m.\u001b[0m\u001b[0m_fit_full\u001b[0m\u001b[0;34m(\u001b[0m\u001b[0mX\u001b[0m\u001b[0;34m,\u001b[0m \u001b[0mn_components\u001b[0m\u001b[0;34m)\u001b[0m\u001b[0;34m\u001b[0m\u001b[0;34m\u001b[0m\u001b[0m\n\u001b[1;32m    431\u001b[0m         \u001b[0;32melif\u001b[0m \u001b[0mself\u001b[0m\u001b[0;34m.\u001b[0m\u001b[0m_fit_svd_solver\u001b[0m \u001b[0;32min\u001b[0m \u001b[0;34m[\u001b[0m\u001b[0;34m'arpack'\u001b[0m\u001b[0;34m,\u001b[0m \u001b[0;34m'randomized'\u001b[0m\u001b[0;34m]\u001b[0m\u001b[0;34m:\u001b[0m\u001b[0;34m\u001b[0m\u001b[0;34m\u001b[0m\u001b[0m\n\u001b[0;32m--> 432\u001b[0;31m             \u001b[0;32mreturn\u001b[0m \u001b[0mself\u001b[0m\u001b[0;34m.\u001b[0m\u001b[0m_fit_truncated\u001b[0m\u001b[0;34m(\u001b[0m\u001b[0mX\u001b[0m\u001b[0;34m,\u001b[0m \u001b[0mn_components\u001b[0m\u001b[0;34m,\u001b[0m \u001b[0mself\u001b[0m\u001b[0;34m.\u001b[0m\u001b[0m_fit_svd_solver\u001b[0m\u001b[0;34m)\u001b[0m\u001b[0;34m\u001b[0m\u001b[0;34m\u001b[0m\u001b[0m\n\u001b[0m\u001b[1;32m    433\u001b[0m         \u001b[0;32melse\u001b[0m\u001b[0;34m:\u001b[0m\u001b[0;34m\u001b[0m\u001b[0;34m\u001b[0m\u001b[0m\n\u001b[1;32m    434\u001b[0m             raise ValueError(\"Unrecognized svd_solver='{0}'\"\n",
      "\u001b[0;32m~/anaconda3/envs/tabular-x/lib/python3.8/site-packages/sklearn/decomposition/_pca.py\u001b[0m in \u001b[0;36m_fit_truncated\u001b[0;34m(self, X, n_components, svd_solver)\u001b[0m\n\u001b[1;32m    546\u001b[0m         \u001b[0;32melif\u001b[0m \u001b[0msvd_solver\u001b[0m \u001b[0;34m==\u001b[0m \u001b[0;34m'randomized'\u001b[0m\u001b[0;34m:\u001b[0m\u001b[0;34m\u001b[0m\u001b[0;34m\u001b[0m\u001b[0m\n\u001b[1;32m    547\u001b[0m             \u001b[0;31m# sign flipping is done inside\u001b[0m\u001b[0;34m\u001b[0m\u001b[0;34m\u001b[0m\u001b[0;34m\u001b[0m\u001b[0m\n\u001b[0;32m--> 548\u001b[0;31m             U, S, Vt = randomized_svd(X, n_components=n_components,\n\u001b[0m\u001b[1;32m    549\u001b[0m                                       \u001b[0mn_iter\u001b[0m\u001b[0;34m=\u001b[0m\u001b[0mself\u001b[0m\u001b[0;34m.\u001b[0m\u001b[0miterated_power\u001b[0m\u001b[0;34m,\u001b[0m\u001b[0;34m\u001b[0m\u001b[0;34m\u001b[0m\u001b[0m\n\u001b[1;32m    550\u001b[0m                                       \u001b[0mflip_sign\u001b[0m\u001b[0;34m=\u001b[0m\u001b[0;32mTrue\u001b[0m\u001b[0;34m,\u001b[0m\u001b[0;34m\u001b[0m\u001b[0;34m\u001b[0m\u001b[0m\n",
      "\u001b[0;32m~/anaconda3/envs/tabular-x/lib/python3.8/site-packages/sklearn/utils/validation.py\u001b[0m in \u001b[0;36minner_f\u001b[0;34m(*args, **kwargs)\u001b[0m\n\u001b[1;32m     61\u001b[0m             \u001b[0mextra_args\u001b[0m \u001b[0;34m=\u001b[0m \u001b[0mlen\u001b[0m\u001b[0;34m(\u001b[0m\u001b[0margs\u001b[0m\u001b[0;34m)\u001b[0m \u001b[0;34m-\u001b[0m \u001b[0mlen\u001b[0m\u001b[0;34m(\u001b[0m\u001b[0mall_args\u001b[0m\u001b[0;34m)\u001b[0m\u001b[0;34m\u001b[0m\u001b[0;34m\u001b[0m\u001b[0m\n\u001b[1;32m     62\u001b[0m             \u001b[0;32mif\u001b[0m \u001b[0mextra_args\u001b[0m \u001b[0;34m<=\u001b[0m \u001b[0;36m0\u001b[0m\u001b[0;34m:\u001b[0m\u001b[0;34m\u001b[0m\u001b[0;34m\u001b[0m\u001b[0m\n\u001b[0;32m---> 63\u001b[0;31m                 \u001b[0;32mreturn\u001b[0m \u001b[0mf\u001b[0m\u001b[0;34m(\u001b[0m\u001b[0;34m*\u001b[0m\u001b[0margs\u001b[0m\u001b[0;34m,\u001b[0m \u001b[0;34m**\u001b[0m\u001b[0mkwargs\u001b[0m\u001b[0;34m)\u001b[0m\u001b[0;34m\u001b[0m\u001b[0;34m\u001b[0m\u001b[0m\n\u001b[0m\u001b[1;32m     64\u001b[0m \u001b[0;34m\u001b[0m\u001b[0m\n\u001b[1;32m     65\u001b[0m             \u001b[0;31m# extra_args > 0\u001b[0m\u001b[0;34m\u001b[0m\u001b[0;34m\u001b[0m\u001b[0;34m\u001b[0m\u001b[0m\n",
      "\u001b[0;32m~/anaconda3/envs/tabular-x/lib/python3.8/site-packages/sklearn/utils/extmath.py\u001b[0m in \u001b[0;36mrandomized_svd\u001b[0;34m(M, n_components, n_oversamples, n_iter, power_iteration_normalizer, transpose, flip_sign, random_state)\u001b[0m\n\u001b[1;32m    346\u001b[0m         \u001b[0mM\u001b[0m \u001b[0;34m=\u001b[0m \u001b[0mM\u001b[0m\u001b[0;34m.\u001b[0m\u001b[0mT\u001b[0m\u001b[0;34m\u001b[0m\u001b[0;34m\u001b[0m\u001b[0m\n\u001b[1;32m    347\u001b[0m \u001b[0;34m\u001b[0m\u001b[0m\n\u001b[0;32m--> 348\u001b[0;31m     Q = randomized_range_finder(\n\u001b[0m\u001b[1;32m    349\u001b[0m         \u001b[0mM\u001b[0m\u001b[0;34m,\u001b[0m \u001b[0msize\u001b[0m\u001b[0;34m=\u001b[0m\u001b[0mn_random\u001b[0m\u001b[0;34m,\u001b[0m \u001b[0mn_iter\u001b[0m\u001b[0;34m=\u001b[0m\u001b[0mn_iter\u001b[0m\u001b[0;34m,\u001b[0m\u001b[0;34m\u001b[0m\u001b[0;34m\u001b[0m\u001b[0m\n\u001b[1;32m    350\u001b[0m         \u001b[0mpower_iteration_normalizer\u001b[0m\u001b[0;34m=\u001b[0m\u001b[0mpower_iteration_normalizer\u001b[0m\u001b[0;34m,\u001b[0m\u001b[0;34m\u001b[0m\u001b[0;34m\u001b[0m\u001b[0m\n",
      "\u001b[0;32m~/anaconda3/envs/tabular-x/lib/python3.8/site-packages/sklearn/utils/validation.py\u001b[0m in \u001b[0;36minner_f\u001b[0;34m(*args, **kwargs)\u001b[0m\n\u001b[1;32m     61\u001b[0m             \u001b[0mextra_args\u001b[0m \u001b[0;34m=\u001b[0m \u001b[0mlen\u001b[0m\u001b[0;34m(\u001b[0m\u001b[0margs\u001b[0m\u001b[0;34m)\u001b[0m \u001b[0;34m-\u001b[0m \u001b[0mlen\u001b[0m\u001b[0;34m(\u001b[0m\u001b[0mall_args\u001b[0m\u001b[0;34m)\u001b[0m\u001b[0;34m\u001b[0m\u001b[0;34m\u001b[0m\u001b[0m\n\u001b[1;32m     62\u001b[0m             \u001b[0;32mif\u001b[0m \u001b[0mextra_args\u001b[0m \u001b[0;34m<=\u001b[0m \u001b[0;36m0\u001b[0m\u001b[0;34m:\u001b[0m\u001b[0;34m\u001b[0m\u001b[0;34m\u001b[0m\u001b[0m\n\u001b[0;32m---> 63\u001b[0;31m                 \u001b[0;32mreturn\u001b[0m \u001b[0mf\u001b[0m\u001b[0;34m(\u001b[0m\u001b[0;34m*\u001b[0m\u001b[0margs\u001b[0m\u001b[0;34m,\u001b[0m \u001b[0;34m**\u001b[0m\u001b[0mkwargs\u001b[0m\u001b[0;34m)\u001b[0m\u001b[0;34m\u001b[0m\u001b[0;34m\u001b[0m\u001b[0m\n\u001b[0m\u001b[1;32m     64\u001b[0m \u001b[0;34m\u001b[0m\u001b[0m\n\u001b[1;32m     65\u001b[0m             \u001b[0;31m# extra_args > 0\u001b[0m\u001b[0;34m\u001b[0m\u001b[0;34m\u001b[0m\u001b[0;34m\u001b[0m\u001b[0m\n",
      "\u001b[0;32m~/anaconda3/envs/tabular-x/lib/python3.8/site-packages/sklearn/utils/extmath.py\u001b[0m in \u001b[0;36mrandomized_range_finder\u001b[0;34m(A, size, n_iter, power_iteration_normalizer, random_state)\u001b[0m\n\u001b[1;32m    239\u001b[0m     \u001b[0;31m# Sample the range of A using by linear projection of Q\u001b[0m\u001b[0;34m\u001b[0m\u001b[0;34m\u001b[0m\u001b[0;34m\u001b[0m\u001b[0m\n\u001b[1;32m    240\u001b[0m     \u001b[0;31m# Extract an orthonormal basis\u001b[0m\u001b[0;34m\u001b[0m\u001b[0;34m\u001b[0m\u001b[0;34m\u001b[0m\u001b[0m\n\u001b[0;32m--> 241\u001b[0;31m     \u001b[0mQ\u001b[0m\u001b[0;34m,\u001b[0m \u001b[0m_\u001b[0m \u001b[0;34m=\u001b[0m \u001b[0mlinalg\u001b[0m\u001b[0;34m.\u001b[0m\u001b[0mqr\u001b[0m\u001b[0;34m(\u001b[0m\u001b[0msafe_sparse_dot\u001b[0m\u001b[0;34m(\u001b[0m\u001b[0mA\u001b[0m\u001b[0;34m,\u001b[0m \u001b[0mQ\u001b[0m\u001b[0;34m)\u001b[0m\u001b[0;34m,\u001b[0m \u001b[0mmode\u001b[0m\u001b[0;34m=\u001b[0m\u001b[0;34m'economic'\u001b[0m\u001b[0;34m)\u001b[0m\u001b[0;34m\u001b[0m\u001b[0;34m\u001b[0m\u001b[0m\n\u001b[0m\u001b[1;32m    242\u001b[0m     \u001b[0;32mreturn\u001b[0m \u001b[0mQ\u001b[0m\u001b[0;34m\u001b[0m\u001b[0;34m\u001b[0m\u001b[0m\n\u001b[1;32m    243\u001b[0m \u001b[0;34m\u001b[0m\u001b[0m\n",
      "\u001b[0;32m~/anaconda3/envs/tabular-x/lib/python3.8/site-packages/scipy/linalg/decomp_qr.py\u001b[0m in \u001b[0;36mqr\u001b[0;34m(a, overwrite_a, lwork, mode, pivoting, check_finite)\u001b[0m\n\u001b[1;32m    162\u001b[0m                       lwork=lwork, overwrite_a=1)\n\u001b[1;32m    163\u001b[0m     \u001b[0;32melif\u001b[0m \u001b[0mmode\u001b[0m \u001b[0;34m==\u001b[0m \u001b[0;34m'economic'\u001b[0m\u001b[0;34m:\u001b[0m\u001b[0;34m\u001b[0m\u001b[0;34m\u001b[0m\u001b[0m\n\u001b[0;32m--> 164\u001b[0;31m         Q, = safecall(gor_un_gqr, \"gorgqr/gungqr\", qr, tau, lwork=lwork,\n\u001b[0m\u001b[1;32m    165\u001b[0m                       overwrite_a=1)\n\u001b[1;32m    166\u001b[0m     \u001b[0;32melse\u001b[0m\u001b[0;34m:\u001b[0m\u001b[0;34m\u001b[0m\u001b[0;34m\u001b[0m\u001b[0m\n",
      "\u001b[0;32m~/anaconda3/envs/tabular-x/lib/python3.8/site-packages/scipy/linalg/decomp_qr.py\u001b[0m in \u001b[0;36msafecall\u001b[0;34m(f, name, *args, **kwargs)\u001b[0m\n\u001b[1;32m     17\u001b[0m         \u001b[0mret\u001b[0m \u001b[0;34m=\u001b[0m \u001b[0mf\u001b[0m\u001b[0;34m(\u001b[0m\u001b[0;34m*\u001b[0m\u001b[0margs\u001b[0m\u001b[0;34m,\u001b[0m \u001b[0;34m**\u001b[0m\u001b[0mkwargs\u001b[0m\u001b[0;34m)\u001b[0m\u001b[0;34m\u001b[0m\u001b[0;34m\u001b[0m\u001b[0m\n\u001b[1;32m     18\u001b[0m         \u001b[0mkwargs\u001b[0m\u001b[0;34m[\u001b[0m\u001b[0;34m'lwork'\u001b[0m\u001b[0;34m]\u001b[0m \u001b[0;34m=\u001b[0m \u001b[0mret\u001b[0m\u001b[0;34m[\u001b[0m\u001b[0;34m-\u001b[0m\u001b[0;36m2\u001b[0m\u001b[0;34m]\u001b[0m\u001b[0;34m[\u001b[0m\u001b[0;36m0\u001b[0m\u001b[0;34m]\u001b[0m\u001b[0;34m.\u001b[0m\u001b[0mreal\u001b[0m\u001b[0;34m.\u001b[0m\u001b[0mastype\u001b[0m\u001b[0;34m(\u001b[0m\u001b[0mnumpy\u001b[0m\u001b[0;34m.\u001b[0m\u001b[0mint_\u001b[0m\u001b[0;34m)\u001b[0m\u001b[0;34m\u001b[0m\u001b[0;34m\u001b[0m\u001b[0m\n\u001b[0;32m---> 19\u001b[0;31m     \u001b[0mret\u001b[0m \u001b[0;34m=\u001b[0m \u001b[0mf\u001b[0m\u001b[0;34m(\u001b[0m\u001b[0;34m*\u001b[0m\u001b[0margs\u001b[0m\u001b[0;34m,\u001b[0m \u001b[0;34m**\u001b[0m\u001b[0mkwargs\u001b[0m\u001b[0;34m)\u001b[0m\u001b[0;34m\u001b[0m\u001b[0;34m\u001b[0m\u001b[0m\n\u001b[0m\u001b[1;32m     20\u001b[0m     \u001b[0;32mif\u001b[0m \u001b[0mret\u001b[0m\u001b[0;34m[\u001b[0m\u001b[0;34m-\u001b[0m\u001b[0;36m1\u001b[0m\u001b[0;34m]\u001b[0m \u001b[0;34m<\u001b[0m \u001b[0;36m0\u001b[0m\u001b[0;34m:\u001b[0m\u001b[0;34m\u001b[0m\u001b[0;34m\u001b[0m\u001b[0m\n\u001b[1;32m     21\u001b[0m         raise ValueError(\"illegal value in %dth argument of internal %s\"\n",
      "\u001b[0;31mKeyboardInterrupt\u001b[0m: "
     ]
    }
   ],
   "source": [
    "for x in range(1,200):\n",
    "    study.optimize(objective, n_trials = 1, callbacks = [wandbc], show_progress_bar=True, catch=(xgboost.core.XGBoostError,)) \n",
    "    dump(study, filename=datapath/f\"optuna_dataset-pca_study_{x}trials_{datetime.now().strftime('%Y%m%d')}.joblib\")\n",
    "#     dump(study.best_trial.params, filename=datapath/f'optuna_lightgbm_study_best-thru-{x*5}trials_20210927.joblib')"
   ]
  },
  {
   "cell_type": "code",
   "execution_count": null,
   "id": "399d6fb3-b4b3-40bd-8ff9-e2919c234f7d",
   "metadata": {
    "id": "27a746ff-c0e1-4218-8809-f102a58d2491"
   },
   "outputs": [],
   "source": [
    "# dump(study, filename=datapath/f\"optuna_xgboost_100trials-complete_{datetime.now().strftime('%Y%m%d')}.joblib\")\n",
    "# dump(study.best_trial.params, filename=datapath/f\"optuna_lightgbm_all-500trials-best_{datetime.now().strftime('%Y%m%d')}.joblib\")\n",
    "# pickle.dump(study.best_trial.params, open('CatBoost_Hyperparameter.pickle', 'wb'))\n",
    "# print('CatBoost Hyperparameter:', study.best_trial.params)"
   ]
  },
  {
   "cell_type": "code",
   "execution_count": null,
   "id": "f02e689e-b20c-48e5-a7d9-02467b4f3dbd",
   "metadata": {
    "id": "f02e689e-b20c-48e5-a7d9-02467b4f3dbd"
   },
   "outputs": [],
   "source": [
    "study.best_trial.params"
   ]
  },
  {
   "cell_type": "code",
   "execution_count": null,
   "id": "ybeYZ3omaLWK",
   "metadata": {
    "id": "ybeYZ3omaLWK"
   },
   "outputs": [],
   "source": [
    "wandb.log({'xgboost_params': study.best_trial.params})\n",
    "wandb.finish()"
   ]
  },
  {
   "cell_type": "code",
   "execution_count": null,
   "id": "29e398cb-f0f4-4400-8fe7-9012b4bc33c1",
   "metadata": {},
   "outputs": [],
   "source": [
    "optuna.visualization.plot_parallel_coordinate(study)"
   ]
  }
 ],
 "metadata": {
  "colab": {
   "collapsed_sections": [],
   "name": "sweep_lightgbm_20210922.ipynb",
   "provenance": []
  },
  "kernelspec": {
   "display_name": "Python 3",
   "language": "python",
   "name": "python3"
  },
  "language_info": {
   "codemirror_mode": {
    "name": "ipython",
    "version": 3
   },
   "file_extension": ".py",
   "mimetype": "text/x-python",
   "name": "python",
   "nbconvert_exporter": "python",
   "pygments_lexer": "ipython3",
   "version": "3.8.12"
  }
 },
 "nbformat": 4,
 "nbformat_minor": 5
}
