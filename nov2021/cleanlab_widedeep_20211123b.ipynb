{
 "cells": [
  {
   "cell_type": "markdown",
   "id": "87e815d3-d755-4fa2-85a5-ea4df4948fcd",
   "metadata": {},
   "source": [
    "Header for notebooks -- customize as required."
   ]
  },
  {
   "cell_type": "code",
   "execution_count": 1,
   "id": "843e3531-f950-4701-9330-07960ae9a937",
   "metadata": {},
   "outputs": [],
   "source": [
    "# notebook configuration\n",
    "COLAB = False # will trigger manual installation of packages\n",
    "USE_GPU = True "
   ]
  },
  {
   "cell_type": "code",
   "execution_count": 2,
   "id": "6a61aa18-6ef3-41d1-bb75-08d1f766dbe1",
   "metadata": {},
   "outputs": [],
   "source": [
    "# basic imports\n",
    "from pathlib import Path\n",
    "import os\n",
    "import math\n",
    "from datetime import datetime\n",
    "import random"
   ]
  },
  {
   "cell_type": "code",
   "execution_count": 3,
   "id": "86d84988-5ddb-40d9-bc12-826012acb870",
   "metadata": {},
   "outputs": [],
   "source": [
    "%matplotlib inline\n",
    "%config Completer.use_jedi = False\n",
    "os.environ['WANDB_NOTEBOOK_NAME'] = f\"cleanlab_widedeep_{datetime.now().strftime('%Y%m%d')}.ipynb\""
   ]
  },
  {
   "cell_type": "markdown",
   "id": "7ddf1e65-6447-47b9-88f2-8d02bbc29af0",
   "metadata": {},
   "source": [
    "Now, non-stdlib imports"
   ]
  },
  {
   "cell_type": "code",
   "execution_count": 4,
   "id": "ee16c791-548b-4616-9c82-ea76001e4749",
   "metadata": {},
   "outputs": [
    {
     "data": {
      "text/html": [
       "<style type='text/css'>\n",
       ".datatable table.frame { margin-bottom: 0; }\n",
       ".datatable table.frame thead { border-bottom: none; }\n",
       ".datatable table.frame tr.coltypes td {  color: #FFFFFF;  line-height: 6px;  padding: 0 0.5em;}\n",
       ".datatable .bool    { background: #DDDD99; }\n",
       ".datatable .object  { background: #565656; }\n",
       ".datatable .int     { background: #5D9E5D; }\n",
       ".datatable .float   { background: #4040CC; }\n",
       ".datatable .str     { background: #CC4040; }\n",
       ".datatable .time    { background: #40CC40; }\n",
       ".datatable .row_index {  background: var(--jp-border-color3);  border-right: 1px solid var(--jp-border-color0);  color: var(--jp-ui-font-color3);  font-size: 9px;}\n",
       ".datatable .frame tbody td { text-align: left; }\n",
       ".datatable .frame tr.coltypes .row_index {  background: var(--jp-border-color0);}\n",
       ".datatable th:nth-child(2) { padding-left: 12px; }\n",
       ".datatable .hellipsis {  color: var(--jp-cell-editor-border-color);}\n",
       ".datatable .vellipsis {  background: var(--jp-layout-color0);  color: var(--jp-cell-editor-border-color);}\n",
       ".datatable .na {  color: var(--jp-cell-editor-border-color);  font-size: 80%;}\n",
       ".datatable .sp {  opacity: 0.25;}\n",
       ".datatable .footer { font-size: 9px; }\n",
       ".datatable .frame_dimensions {  background: var(--jp-border-color3);  border-top: 1px solid var(--jp-border-color0);  color: var(--jp-ui-font-color3);  display: inline-block;  opacity: 0.6;  padding: 1px 10px 1px 5px;}\n",
       "</style>\n"
      ],
      "text/plain": [
       "<IPython.core.display.HTML object>"
      ]
     },
     "metadata": {},
     "output_type": "display_data"
    }
   ],
   "source": [
    "import pandas as pd\n",
    "import numpy as np\n",
    "import matplotlib.pyplot as plt\n",
    "from tqdm.notebook import tqdm\n",
    "\n",
    "# general ML tooling\n",
    "from sklearn.model_selection import train_test_split, StratifiedKFold, KFold\n",
    "from sklearn.metrics import log_loss, roc_auc_score\n",
    "import wandb\n",
    "from wandb.xgboost import wandb_callback\n",
    "from wandb.lightgbm import wandb_callback\n",
    "from sklearn.impute import SimpleImputer #, KNNImputer\n",
    "\n",
    "import seaborn as sns\n",
    "\n",
    "from catboost import CatBoostClassifier\n",
    "from xgboost import XGBClassifier\n",
    "from lightgbm import LGBMClassifier\n",
    "# from sklearn.ensemble import StackingClassifier, RandomForestClassifier\n",
    "from sklearn.preprocessing import RobustScaler #StandardScaler #, MinMaxScaler, MaxAbsScaler, RobustScaler, PolynomialFeatures\n",
    "from sklearn.linear_model import LogisticRegression\n",
    "# from sklearn.feature_selection import SelectKBest, f_regression\n",
    "from joblib import dump, load\n",
    "# feature engineering tools\n",
    "# from sklearn.feature_selection import mutual_info_regression\n",
    "# import featuretools as ft\n",
    "\n",
    "# from BorutaShap import BorutaShap\n",
    "import optuna\n",
    "from optuna.integration.wandb import WeightsAndBiasesCallback\n",
    "from optuna.samplers import TPESampler\n",
    "from sklearn.utils import resample"
   ]
  },
  {
   "cell_type": "code",
   "execution_count": 5,
   "id": "957d1322-cdac-411a-9754-9deb360cea18",
   "metadata": {},
   "outputs": [],
   "source": [
    "from cleanlab.classification import LearningWithNoisyLabels"
   ]
  },
  {
   "cell_type": "code",
   "execution_count": 6,
   "id": "71c21f1f-d22d-486b-bb2e-e69db6c62eaa",
   "metadata": {},
   "outputs": [],
   "source": [
    "from gauss_rank_scaler import GaussRankScaler"
   ]
  },
  {
   "cell_type": "code",
   "execution_count": 7,
   "id": "5b139207-5ea6-464d-922e-e4d0a398062f",
   "metadata": {},
   "outputs": [],
   "source": [
    "from pytorch_widedeep import Trainer\n",
    "from pytorch_widedeep.preprocessing import WidePreprocessor, TabPreprocessor\n",
    "from pytorch_widedeep.models import Wide, TabMlp, WideDeep#, SAINT, TabTransformer, TabNet, TabFastFormer, TabResnet\n",
    "from pytorch_widedeep.metrics import Accuracy\n",
    "from torchmetrics import AUROC\n",
    "import torch\n",
    "from torch.optim import Adam, AdamW, Adagrad, SGD, RMSprop, LBFGS\n",
    "from torch.optim.lr_scheduler import ReduceLROnPlateau, CosineAnnealingWarmRestarts, CyclicLR, OneCycleLR, StepLR, CosineAnnealingLR\n",
    "from pytorch_widedeep.callbacks import EarlyStopping, LRHistory, ModelCheckpoint"
   ]
  },
  {
   "cell_type": "code",
   "execution_count": 8,
   "id": "55072fd2-dcc0-4169-a6f8-54d9b76ab432",
   "metadata": {},
   "outputs": [
    {
     "name": "stderr",
     "output_type": "stream",
     "text": [
      "/home/sf/anaconda3/envs/tabular-x/lib/python3.8/site-packages/ipykernel/ipkernel.py:287: DeprecationWarning: `should_run_async` will not call `transform_cell` automatically in the future. Please pass the result to `transformed_cell` argument and any exception that happen during thetransform in `preprocessing_exc_tuple` in IPython 7.17 and above.\n",
      "  and should_run_async(code)\n"
     ]
    }
   ],
   "source": [
    "# import category_encoders as ce"
   ]
  },
  {
   "cell_type": "markdown",
   "id": "d71932e1-2e32-4474-acbc-3cbe63ce993e",
   "metadata": {},
   "source": [
    "Now, datapath setup"
   ]
  },
  {
   "cell_type": "code",
   "execution_count": 9,
   "id": "880b9f33-b517-40ef-a3e6-049dcc52a4e9",
   "metadata": {},
   "outputs": [],
   "source": [
    "if COLAB:\n",
    "    # mount Google Drive\n",
    "    from google.colab import drive\n",
    "    drive.mount('/content/drive')\n",
    "    \n",
    "    # handling datapath\n",
    "    datapath = Path('/content/drive/MyDrive/kaggle/tabular_playgrounds/nov2021/')\n",
    "    \n",
    "else:\n",
    "    # if on local machine\n",
    "#     datapath = Path('/media/sf/easystore/kaggle_data/tabular_playgrounds/sep2021/')  \n",
    "    root = Path('/media/sf/easystore/kaggle_data/tabular_playgrounds/nov2021/')\n",
    "    datapath = root/'datasets'\n",
    "    # edapath = root/'EDA'\n",
    "    # modelpath = Path('/media/sf/easystore/kaggle_data/tabular_playgrounds/oct2021/models/')\n",
    "    predpath = root/'preds'\n",
    "    subpath = root/'submissions'\n",
    "    \n",
    "    for pth in [datapath, predpath, subpath]:\n",
    "        pth.mkdir(exist_ok=True)\n",
    "    \n"
   ]
  },
  {
   "cell_type": "markdown",
   "id": "58fe9e0d-1301-4ade-a63d-9f3d298c2255",
   "metadata": {},
   "source": [
    "## Helpers"
   ]
  },
  {
   "cell_type": "code",
   "execution_count": 10,
   "id": "1905a9de-cd7c-4a73-a39e-b42a8297785c",
   "metadata": {},
   "outputs": [],
   "source": [
    "SEED = 42\n",
    "\n",
    "# Function to seed everything\n",
    "def seed_everything(seed):\n",
    "    random.seed(seed)\n",
    "    np.random.seed(seed)\n",
    "    os.environ['PYTHONHASHSEED'] = str(seed)\n",
    "\n",
    "seed_everything(seed=SEED)"
   ]
  },
  {
   "cell_type": "code",
   "execution_count": 11,
   "id": "ba521a1a-8c41-4b9b-becd-36eb62739ba3",
   "metadata": {},
   "outputs": [],
   "source": [
    "def reduce_memory_usage(df, verbose=True):\n",
    "    numerics = [\"int8\", \"int16\", \"int32\", \"int64\", \"float16\", \"float32\", \"float64\"]\n",
    "    start_mem = df.memory_usage().sum() / 1024 ** 2\n",
    "    for col in df.columns:\n",
    "        col_type = df[col].dtypes\n",
    "        if col_type in numerics:\n",
    "            c_min = df[col].min()\n",
    "            c_max = df[col].max()\n",
    "            if str(col_type)[:3] == \"int\":\n",
    "                if c_min > np.iinfo(np.int8).min and c_max < np.iinfo(np.int8).max:\n",
    "                    df[col] = df[col].astype(np.int8)\n",
    "                elif c_min > np.iinfo(np.int16).min and c_max < np.iinfo(np.int16).max:\n",
    "                    df[col] = df[col].astype(np.int16)\n",
    "                elif c_min > np.iinfo(np.int32).min and c_max < np.iinfo(np.int32).max:\n",
    "                    df[col] = df[col].astype(np.int32)\n",
    "                elif c_min > np.iinfo(np.int64).min and c_max < np.iinfo(np.int64).max:\n",
    "                    df[col] = df[col].astype(np.int64)\n",
    "            else:\n",
    "                if (\n",
    "                    c_min > np.finfo(np.float16).min\n",
    "                    and c_max < np.finfo(np.float16).max\n",
    "                ):\n",
    "                    df[col] = df[col].astype(np.float16)\n",
    "                elif (\n",
    "                    c_min > np.finfo(np.float32).min\n",
    "                    and c_max < np.finfo(np.float32).max\n",
    "                ):\n",
    "                    df[col] = df[col].astype(np.float32)\n",
    "                else:\n",
    "                    df[col] = df[col].astype(np.float64)\n",
    "    end_mem = df.memory_usage().sum() / 1024 ** 2\n",
    "    if verbose:\n",
    "        print(\n",
    "            \"Mem. usage decreased to {:.2f} Mb ({:.1f}% reduction)\".format(\n",
    "                end_mem, 100 * (start_mem - end_mem) / start_mem\n",
    "            )\n",
    "        )\n",
    "    return df"
   ]
  },
  {
   "cell_type": "markdown",
   "id": "a6f63ee2-a167-4111-9b44-bf67c8240603",
   "metadata": {},
   "source": [
    "## Metadata"
   ]
  },
  {
   "cell_type": "code",
   "execution_count": 12,
   "id": "ad459104-e31a-4aa0-8a9a-bb279e2b9944",
   "metadata": {
    "tags": []
   },
   "outputs": [],
   "source": [
    "# dataset_params will initially include either trivial class instances or loaded, precomputed artifacts\n",
    "dataset_params = {\n",
    "    # 'train_source': str(datapath/'X-RobustScaled-pca_mle-umap_embedding_20211107-n_comp10-n_neighbors15-rs42.joblib'),\n",
    "    'train_source': str(datapath/'X_orig.feather'),\n",
    "    'target_source': str(datapath/'y_orig.joblib'),\n",
    "    # 'test_source': str(datapath/'X_test-RobustScaled-pca_mle-umap_embedding_20211107-n_comp10-n_neighbors15-rs42.joblib'),\n",
    "    'test_source': str(datapath/'X_test_orig-no_scaling.feather'),\n",
    "    # 'scaler': str(RobustScaler()),\n",
    "    # 'pca': str(load(datapath/'pca_mle-RobustScaled_orig_trainset.joblib')),\n",
    "    # 'umap': str(load(datapath/'umap_reducer-20211107-n_comp10-n_neighbors15-rs42-pca_mle-RobustScaled_orig_trainset.joblib')),\n",
    "}   \n",
    "\n",
    "# referring back to the already-entered attributes, specify how the pipeline was sequenced\n",
    "# dataset_params['preprocessing_pipeline'] = str([dataset_params['scaler'], dataset_params['pca'], dataset_params['umap']]) # ACTUALLY this is unwieldy\n",
    "# dataset_params['preprocessing_pipeline'] = '[scaler, pca, umap]' # more fragile, but also more readable\n",
    "\n",
    "# now, load the datasets and generate more metadata from them\n",
    "# X = load(dataset_params['train_source'])\n",
    "X = pd.read_feather(dataset_params['train_source'])\n",
    "y = load(dataset_params['target_source'])\n",
    "# X_test = load(dataset_params['test_source'])\n",
    "X_test = pd.read_feather(dataset_params['test_source'])\n",
    "\n",
    "dataset_params['feature_count'] = X.shape[1]\n",
    "dataset_params['instance_count'] = X.shape[0]\n",
    "    "
   ]
  },
  {
   "cell_type": "code",
   "execution_count": 13,
   "id": "aac6b1dd-5c9d-4f95-985c-4250d78d28aa",
   "metadata": {},
   "outputs": [
    {
     "name": "stderr",
     "output_type": "stream",
     "text": [
      "/home/sf/anaconda3/envs/tabular-x/lib/python3.8/site-packages/ipykernel/ipkernel.py:287: DeprecationWarning: `should_run_async` will not call `transform_cell` automatically in the future. Please pass the result to `transformed_cell` argument and any exception that happen during thetransform in `preprocessing_exc_tuple` in IPython 7.17 and above.\n",
      "  and should_run_async(code)\n"
     ]
    }
   ],
   "source": [
    "# meta-config for preprocessing and cross-validation, but NOT for model parameters\n",
    "# in the sweep version, this includes both ex-model parameters and defaults for model parameters\n",
    "exmodel_config = {\n",
    "    \"arch\": 'widedeep-TabMLP',\n",
    "    # \"type\": 'sweep',\n",
    "    # \"denoising\": \"cleanlab\",\n",
    "    \"level\": 1,\n",
    "    'random_state': SEED,\n",
    "    # 'tuner': \"Optuna\",\n",
    "    'cross_val_strategy': None, # None for holdout, or the relevant sklearn class\n",
    "    'kfolds': 1, # if 1, that means just doing holdout\n",
    "    'test_size': 0.2,\n",
    "    'scaler': str(GaussRankScaler()),\n",
    "    **dataset_params\n",
    "}\n",
    "\n",
    "wandb_config = {\n",
    "    # wandb config\n",
    "    'name': f\"{os.environ['WANDB_NOTEBOOK_NAME'][:-6]}_{datetime.now().strftime('%H%M%S')}\", # just removes the .ipynb extension, leaving the notebook filename's stem\n",
    "    'project': '202111_Kaggle_tabular_playground',\n",
    "    'tags': ['experiment'],\n",
    "    'notes': \"Testing to see if Cleanlab works with WideDeep models sans wrappers; also, comparing a baseline.\",\n",
    "    'config': exmodel_config,\n",
    "}"
   ]
  },
  {
   "cell_type": "markdown",
   "id": "356ce4d6-5c82-40c5-97ba-7c751e1abf6f",
   "metadata": {
    "tags": []
   },
   "source": [
    "# Noisy Run"
   ]
  },
  {
   "cell_type": "markdown",
   "id": "cb5febff-4b71-4c29-9946-9763f6e874c3",
   "metadata": {},
   "source": [
    "## Preprocessing Data\n",
    "Inspired a bit by Laurent Pourchot's Aug2021 Tabular Playground entry, I'm going to try to generate two versions of the dataset: a categorical one, using bins, and then (for now) a GaussRankScaled one. In the future, I might add further variations, e.g. with feature reduction via PCA and perhaps also UMAP and also denoising; I might also try other normalizations, e.g. Quantile."
   ]
  },
  {
   "cell_type": "markdown",
   "id": "fd31c999-0d5b-49aa-a642-47d2d1cc5331",
   "metadata": {},
   "source": [
    "## Binning (Generating wide cols)"
   ]
  },
  {
   "cell_type": "code",
   "execution_count": 14,
   "id": "44132c0b-d796-4b4b-95fc-60e3c88428d0",
   "metadata": {},
   "outputs": [],
   "source": [
    "# h/t Laurent Pourchot https://www.kaggle.com/pourchot/in-python-tabular-denoising-residual-network/\n",
    "\n",
    "# 100 bins for the bins head of the NN (i.e. percentiles):\n",
    "X_bins = np.zeros((X.shape[0],X.shape[1])) # he used all available data for the first tuple entry, but I'll start like this\n",
    "X_test_bins = np.zeros((X_test.shape[0], X_test.shape[1]))"
   ]
  },
  {
   "cell_type": "code",
   "execution_count": 15,
   "id": "cef457e2-d8dd-4256-86fa-7df0864042fa",
   "metadata": {
    "tags": []
   },
   "outputs": [
    {
     "data": {
      "text/plain": [
       "\u001b[0;31mSignature:\u001b[0m\n",
       "\u001b[0mpd\u001b[0m\u001b[0;34m.\u001b[0m\u001b[0mqcut\u001b[0m\u001b[0;34m(\u001b[0m\u001b[0;34m\u001b[0m\n",
       "\u001b[0;34m\u001b[0m    \u001b[0mx\u001b[0m\u001b[0;34m,\u001b[0m\u001b[0;34m\u001b[0m\n",
       "\u001b[0;34m\u001b[0m    \u001b[0mq\u001b[0m\u001b[0;34m,\u001b[0m\u001b[0;34m\u001b[0m\n",
       "\u001b[0;34m\u001b[0m    \u001b[0mlabels\u001b[0m\u001b[0;34m=\u001b[0m\u001b[0;32mNone\u001b[0m\u001b[0;34m,\u001b[0m\u001b[0;34m\u001b[0m\n",
       "\u001b[0;34m\u001b[0m    \u001b[0mretbins\u001b[0m\u001b[0;34m:\u001b[0m \u001b[0mbool\u001b[0m \u001b[0;34m=\u001b[0m \u001b[0;32mFalse\u001b[0m\u001b[0;34m,\u001b[0m\u001b[0;34m\u001b[0m\n",
       "\u001b[0;34m\u001b[0m    \u001b[0mprecision\u001b[0m\u001b[0;34m:\u001b[0m \u001b[0mint\u001b[0m \u001b[0;34m=\u001b[0m \u001b[0;36m3\u001b[0m\u001b[0;34m,\u001b[0m\u001b[0;34m\u001b[0m\n",
       "\u001b[0;34m\u001b[0m    \u001b[0mduplicates\u001b[0m\u001b[0;34m:\u001b[0m \u001b[0mstr\u001b[0m \u001b[0;34m=\u001b[0m \u001b[0;34m'raise'\u001b[0m\u001b[0;34m,\u001b[0m\u001b[0;34m\u001b[0m\n",
       "\u001b[0;34m\u001b[0m\u001b[0;34m)\u001b[0m\u001b[0;34m\u001b[0m\u001b[0;34m\u001b[0m\u001b[0m\n",
       "\u001b[0;31mDocstring:\u001b[0m\n",
       "Quantile-based discretization function.\n",
       "\n",
       "Discretize variable into equal-sized buckets based on rank or based\n",
       "on sample quantiles. For example 1000 values for 10 quantiles would\n",
       "produce a Categorical object indicating quantile membership for each data point.\n",
       "\n",
       "Parameters\n",
       "----------\n",
       "x : 1d ndarray or Series\n",
       "q : int or list-like of float\n",
       "    Number of quantiles. 10 for deciles, 4 for quartiles, etc. Alternately\n",
       "    array of quantiles, e.g. [0, .25, .5, .75, 1.] for quartiles.\n",
       "labels : array or False, default None\n",
       "    Used as labels for the resulting bins. Must be of the same length as\n",
       "    the resulting bins. If False, return only integer indicators of the\n",
       "    bins. If True, raises an error.\n",
       "retbins : bool, optional\n",
       "    Whether to return the (bins, labels) or not. Can be useful if bins\n",
       "    is given as a scalar.\n",
       "precision : int, optional\n",
       "    The precision at which to store and display the bins labels.\n",
       "duplicates : {default 'raise', 'drop'}, optional\n",
       "    If bin edges are not unique, raise ValueError or drop non-uniques.\n",
       "\n",
       "Returns\n",
       "-------\n",
       "out : Categorical or Series or array of integers if labels is False\n",
       "    The return type (Categorical or Series) depends on the input: a Series\n",
       "    of type category if input is a Series else Categorical. Bins are\n",
       "    represented as categories when categorical data is returned.\n",
       "bins : ndarray of floats\n",
       "    Returned only if `retbins` is True.\n",
       "\n",
       "Notes\n",
       "-----\n",
       "Out of bounds values will be NA in the resulting Categorical object\n",
       "\n",
       "Examples\n",
       "--------\n",
       ">>> pd.qcut(range(5), 4)\n",
       "... # doctest: +ELLIPSIS\n",
       "[(-0.001, 1.0], (-0.001, 1.0], (1.0, 2.0], (2.0, 3.0], (3.0, 4.0]]\n",
       "Categories (4, interval[float64]): [(-0.001, 1.0] < (1.0, 2.0] ...\n",
       "\n",
       ">>> pd.qcut(range(5), 3, labels=[\"good\", \"medium\", \"bad\"])\n",
       "... # doctest: +SKIP\n",
       "[good, good, medium, bad, bad]\n",
       "Categories (3, object): [good < medium < bad]\n",
       "\n",
       ">>> pd.qcut(range(5), 4, labels=False)\n",
       "array([0, 0, 1, 2, 3])\n",
       "\u001b[0;31mFile:\u001b[0m      ~/anaconda3/envs/tabular-x/lib/python3.8/site-packages/pandas/core/reshape/tile.py\n",
       "\u001b[0;31mType:\u001b[0m      function\n"
      ]
     },
     "metadata": {},
     "output_type": "display_data"
    }
   ],
   "source": [
    "pd.qcut?"
   ]
  },
  {
   "cell_type": "code",
   "execution_count": 16,
   "id": "d2ea6b5c-fa9a-4849-97b2-9a08f1d296b9",
   "metadata": {},
   "outputs": [],
   "source": [
    "for i in range(X.shape[1]): # assumes X is a pd.DataFrame\n",
    "    X_bins[:,i] = pd.qcut(X.iloc[:,i],X.shape[1],labels=False)#,duplicates = 'drop')\n",
    "    \n",
    "for i in range(X_test.shape[1]): # assumes X_test is a pd.DataFrame\n",
    "    X_test_bins[:,i] = pd.qcut(X_test.iloc[:,i],X_test.shape[1], labels=False)#,duplicates = 'drop')\n",
    "# blabeled = X_bins[:X.shape[0],:]\n",
    "# bunlabeled = X_ins[X.shape[0]:,:]"
   ]
  },
  {
   "cell_type": "code",
   "execution_count": 17,
   "id": "50b110fe-940c-4398-be5b-9189120a1321",
   "metadata": {},
   "outputs": [
    {
     "name": "stderr",
     "output_type": "stream",
     "text": [
      "/home/sf/anaconda3/envs/tabular-x/lib/python3.8/site-packages/ipykernel/ipkernel.py:287: DeprecationWarning: `should_run_async` will not call `transform_cell` automatically in the future. Please pass the result to `transformed_cell` argument and any exception that happen during thetransform in `preprocessing_exc_tuple` in IPython 7.17 and above.\n",
      "  and should_run_async(code)\n"
     ]
    },
    {
     "data": {
      "text/plain": [
       "False"
      ]
     },
     "execution_count": 17,
     "metadata": {},
     "output_type": "execute_result"
    }
   ],
   "source": [
    "np.isnan(X_test_bins).any()"
   ]
  },
  {
   "cell_type": "code",
   "execution_count": 18,
   "id": "ffb52aef-d92b-4e22-83fd-b2dc047a5bd7",
   "metadata": {},
   "outputs": [],
   "source": [
    "# X_bins = X_bins.astype(np.int8)\n",
    "# X_test_bins = X_test_bins.astype(np.int8)"
   ]
  },
  {
   "cell_type": "code",
   "execution_count": 19,
   "id": "f1099026-a478-4957-ba87-21e2190d1c2c",
   "metadata": {},
   "outputs": [],
   "source": [
    "X_bins = pd.DataFrame(X_bins, index=X.index, columns=[f'rkd_f{col}' for col in range(100)])\n",
    "X_test_bins = pd.DataFrame(X_test_bins, index=X_test.index, columns=[f'rkd_f{col}' for col in range(100)])"
   ]
  },
  {
   "cell_type": "markdown",
   "id": "5fffdd70-5f2a-4adf-9229-b6e79a06f144",
   "metadata": {},
   "source": [
    "## Normalizing (Preprocessing Deep Cols)"
   ]
  },
  {
   "cell_type": "code",
   "execution_count": 20,
   "id": "7c495188-ae42-4b59-9153-683703842b06",
   "metadata": {},
   "outputs": [
    {
     "data": {
      "text/plain": [
       "\u001b[0;31mInit signature:\u001b[0m\n",
       "\u001b[0mGaussRankScaler\u001b[0m\u001b[0;34m(\u001b[0m\u001b[0;34m\u001b[0m\n",
       "\u001b[0;34m\u001b[0m    \u001b[0mepsilon\u001b[0m\u001b[0;34m=\u001b[0m\u001b[0;36m0.0001\u001b[0m\u001b[0;34m,\u001b[0m\u001b[0;34m\u001b[0m\n",
       "\u001b[0;34m\u001b[0m    \u001b[0mcopy\u001b[0m\u001b[0;34m=\u001b[0m\u001b[0;32mTrue\u001b[0m\u001b[0;34m,\u001b[0m\u001b[0;34m\u001b[0m\n",
       "\u001b[0;34m\u001b[0m    \u001b[0mn_jobs\u001b[0m\u001b[0;34m=\u001b[0m\u001b[0;32mNone\u001b[0m\u001b[0;34m,\u001b[0m\u001b[0;34m\u001b[0m\n",
       "\u001b[0;34m\u001b[0m    \u001b[0minterp_kind\u001b[0m\u001b[0;34m=\u001b[0m\u001b[0;34m'linear'\u001b[0m\u001b[0;34m,\u001b[0m\u001b[0;34m\u001b[0m\n",
       "\u001b[0;34m\u001b[0m    \u001b[0minterp_copy\u001b[0m\u001b[0;34m=\u001b[0m\u001b[0;32mFalse\u001b[0m\u001b[0;34m,\u001b[0m\u001b[0;34m\u001b[0m\n",
       "\u001b[0;34m\u001b[0m\u001b[0;34m)\u001b[0m\u001b[0;34m\u001b[0m\u001b[0;34m\u001b[0m\u001b[0m\n",
       "\u001b[0;31mDocstring:\u001b[0m     \n",
       "Transform features by scaling each feature to a normal distribution.\n",
       "Parameters\n",
       "    ----------\n",
       "    epsilon : float, optional, default 1e-4\n",
       "        A small amount added to the lower bound or subtracted\n",
       "        from the upper bound. This value prevents infinite number\n",
       "        from occurring when applying the inverse error function.\n",
       "    copy : boolean, optional, default True\n",
       "        If False, try to avoid a copy and do inplace scaling instead.\n",
       "        This is not guaranteed to always work inplace; e.g. if the data is\n",
       "        not a NumPy array, a copy may still be returned.\n",
       "    n_jobs : int or None, optional, default None\n",
       "        Number of jobs to run in parallel.\n",
       "        ``None`` means 1 and ``-1`` means using all processors.\n",
       "    interp_kind : str or int, optional, default 'linear'\n",
       "       Specifies the kind of interpolation as a string\n",
       "        ('linear', 'nearest', 'zero', 'slinear', 'quadratic', 'cubic',\n",
       "        'previous', 'next', where 'zero', 'slinear', 'quadratic' and 'cubic'\n",
       "        refer to a spline interpolation of zeroth, first, second or third\n",
       "        order; 'previous' and 'next' simply return the previous or next value\n",
       "        of the point) or as an integer specifying the order of the spline\n",
       "        interpolator to use.\n",
       "    interp_copy : bool, optional, default False\n",
       "        If True, the interpolation function makes internal copies of x and y.\n",
       "        If False, references to `x` and `y` are used.\n",
       "    Attributes\n",
       "    ----------\n",
       "    interp_func_ : list\n",
       "        The interpolation function for each feature in the training set.\n",
       "    \n",
       "\u001b[0;31mFile:\u001b[0m           ~/Dropbox/code_cloud/python_code/kaggle/tabular_playgrounds/nov2021/gauss_rank_scaler.py\n",
       "\u001b[0;31mType:\u001b[0m           type\n",
       "\u001b[0;31mSubclasses:\u001b[0m     \n"
      ]
     },
     "metadata": {},
     "output_type": "display_data"
    }
   ],
   "source": [
    "?GaussRankScaler"
   ]
  },
  {
   "cell_type": "code",
   "execution_count": null,
   "id": "0635e740-9d6f-4831-8675-cd8474b29f04",
   "metadata": {},
   "outputs": [],
   "source": [
    "scaler = GaussRankScaler(n_jobs=-1, epsilon=0.005)\n",
    "X_gauss = scaler.fit_transform(X)\n",
    "X_test_gauss = scaler.transform(X_test)"
   ]
  },
  {
   "cell_type": "code",
   "execution_count": null,
   "id": "b0b1295b-2978-47c8-a7aa-0fa6b1deece1",
   "metadata": {},
   "outputs": [],
   "source": [
    "np.where(np.isnan(X_test_gauss))"
   ]
  },
  {
   "cell_type": "code",
   "execution_count": 20,
   "id": "d834554d-14a3-4fec-b8d8-847564eb42df",
   "metadata": {},
   "outputs": [
    {
     "name": "stderr",
     "output_type": "stream",
     "text": [
      "/home/sf/anaconda3/envs/tabular-x/lib/python3.8/site-packages/ipykernel/ipkernel.py:287: DeprecationWarning: `should_run_async` will not call `transform_cell` automatically in the future. Please pass the result to `transformed_cell` argument and any exception that happen during thetransform in `preprocessing_exc_tuple` in IPython 7.17 and above.\n",
      "  and should_run_async(code)\n"
     ]
    }
   ],
   "source": [
    "X_gauss = pd.DataFrame(X_gauss, columns=X.columns, index=X.index)\n",
    "X_test_gauss = pd.DataFrame(X_test_gauss, columns=X_test.columns, index=X_test.index)"
   ]
  },
  {
   "cell_type": "markdown",
   "id": "36717c69-40c0-4514-9a09-57255766c32a",
   "metadata": {},
   "source": [
    "## Preparing Data for WideDeep"
   ]
  },
  {
   "cell_type": "code",
   "execution_count": 21,
   "id": "c3c53650-a1e6-4de2-bea4-d61c9324c7d0",
   "metadata": {},
   "outputs": [],
   "source": [
    "X_pre = X_gauss.join(X_bins)\n",
    "X_test_pre = X_test_gauss.join(X_test_bins)"
   ]
  },
  {
   "cell_type": "code",
   "execution_count": 22,
   "id": "641faa72-4dbd-4556-b9d0-0f09c0bf358d",
   "metadata": {},
   "outputs": [],
   "source": [
    "cont_cols = X_pre.iloc[:,:100].columns\n",
    "wide_cols = X_pre.iloc[:, 100:].columns"
   ]
  },
  {
   "cell_type": "code",
   "execution_count": 26,
   "id": "db10d30c-ffdd-44b9-9ac8-251ee3c692c2",
   "metadata": {},
   "outputs": [
    {
     "data": {
      "text/plain": [
       "(array([], dtype=int64), array([], dtype=int64))"
      ]
     },
     "execution_count": 26,
     "metadata": {},
     "output_type": "execute_result"
    }
   ],
   "source": [
    "np.where(np.isnan(X_test_bins))"
   ]
  },
  {
   "cell_type": "code",
   "execution_count": 25,
   "id": "219a3cbc-d2d8-4117-8730-88f0334adbc7",
   "metadata": {},
   "outputs": [
    {
     "data": {
      "text/plain": [
       "(540000, 100)"
      ]
     },
     "execution_count": 25,
     "metadata": {},
     "output_type": "execute_result"
    }
   ],
   "source": [
    "X_test_gauss.shape"
   ]
  },
  {
   "cell_type": "code",
   "execution_count": 24,
   "id": "30f3dba4-f642-4bc2-9100-94feacd41497",
   "metadata": {},
   "outputs": [
    {
     "data": {
      "text/plain": [
       "(array([ 60187,  72708,  84460, 115714, 148146, 159870, 226322, 234164,\n",
       "        314815, 329817, 344893, 348131, 350202, 357178, 405041, 494088,\n",
       "        504259, 522269]),\n",
       " array([22, 22, 22, 67, 67, 67, 20, 20, 74, 95, 74, 95, 95, 67, 22, 80, 72,\n",
       "        20]))"
      ]
     },
     "execution_count": 24,
     "metadata": {},
     "output_type": "execute_result"
    }
   ],
   "source": [
    "np.where(np.isnan(X_test_gauss))"
   ]
  },
  {
   "cell_type": "code",
   "execution_count": 28,
   "id": "19c25e78-e9a9-4471-8b15-46a9eda39eb4",
   "metadata": {},
   "outputs": [
    {
     "data": {
      "text/plain": [
       "f20    0.625976\n",
       "f21   -0.610742\n",
       "f22         NaN\n",
       "f23   -0.643657\n",
       "Name: 60187, dtype: float64"
      ]
     },
     "execution_count": 28,
     "metadata": {},
     "output_type": "execute_result"
    }
   ],
   "source": [
    "X_test_gauss.iloc[60187,20:24]"
   ]
  },
  {
   "cell_type": "code",
   "execution_count": 29,
   "id": "7302e84d-34f4-4ed3-9f6d-f15c3e9bcf95",
   "metadata": {},
   "outputs": [
    {
     "data": {
      "text/plain": [
       "f20    0.094129\n",
       "f21    0.013104\n",
       "f22   -1.398120\n",
       "f23   -0.004802\n",
       "Name: 60187, dtype: float64"
      ]
     },
     "execution_count": 29,
     "metadata": {},
     "output_type": "execute_result"
    }
   ],
   "source": [
    "X_test.iloc[60187, 20:24]"
   ]
  },
  {
   "cell_type": "code",
   "execution_count": 30,
   "id": "73b30bf2-a255-4156-86cd-6afc216c94ae",
   "metadata": {},
   "outputs": [
    {
     "data": {
      "text/plain": [
       "-1.39812"
      ]
     },
     "execution_count": 30,
     "metadata": {},
     "output_type": "execute_result"
    }
   ],
   "source": [
    "X_test.iloc[:,22].min()"
   ]
  },
  {
   "cell_type": "code",
   "execution_count": 32,
   "id": "bf059b6e-4713-4110-813b-22278fdbd73c",
   "metadata": {},
   "outputs": [
    {
     "name": "stderr",
     "output_type": "stream",
     "text": [
      "/home/sf/anaconda3/envs/tabular-x/lib/python3.8/site-packages/ipykernel/ipkernel.py:287: DeprecationWarning: `should_run_async` will not call `transform_cell` automatically in the future. Please pass the result to `transformed_cell` argument and any exception that happen during thetransform in `preprocessing_exc_tuple` in IPython 7.17 and above.\n",
      "  and should_run_async(code)\n"
     ]
    },
    {
     "data": {
      "text/plain": [
       "-1.28285"
      ]
     },
     "execution_count": 32,
     "metadata": {},
     "output_type": "execute_result"
    }
   ],
   "source": [
    "X_test.iloc[84460,22]"
   ]
  },
  {
   "cell_type": "code",
   "execution_count": 35,
   "id": "e214b51a-ec16-4dc4-835e-4e231ef5f481",
   "metadata": {},
   "outputs": [
    {
     "data": {
      "text/plain": [
       "(array([ 60187,  72708,  84460, 115714, 148146, 159870, 226322, 234164,\n",
       "        314815, 329817, 344893, 348131, 350202, 357178, 405041, 494088,\n",
       "        504259, 522269]),\n",
       " array([22, 22, 22, 67, 67, 67, 20, 20, 74, 95, 74, 95, 95, 67, 22, 80, 72,\n",
       "        20]))"
      ]
     },
     "execution_count": 35,
     "metadata": {},
     "output_type": "execute_result"
    }
   ],
   "source": [
    "problems = np.where(np.isnan(X_test_pre))\n",
    "problems"
   ]
  },
  {
   "cell_type": "code",
   "execution_count": 36,
   "id": "150c60c8-5121-4930-9c41-194d3406921f",
   "metadata": {},
   "outputs": [
    {
     "name": "stdout",
     "output_type": "stream",
     "text": [
      "Value of X_test.iloc[60187,22] is -1.39812\n",
      "Value of X_test.iloc[72708,22] is -1.29427\n",
      "Value of X_test.iloc[84460,22] is -1.28285\n",
      "Value of X_test.iloc[115714,67] is -1.12259\n",
      "Value of X_test.iloc[148146,67] is -1.09674\n",
      "Value of X_test.iloc[159870,67] is -1.09655\n",
      "Value of X_test.iloc[226322,20] is -3.16541\n",
      "Value of X_test.iloc[234164,20] is -3.02364\n",
      "Value of X_test.iloc[314815,74] is -1.4098\n",
      "Value of X_test.iloc[329817,95] is -1.90749\n",
      "Value of X_test.iloc[344893,74] is -1.32339\n",
      "Value of X_test.iloc[348131,95] is -1.86755\n",
      "Value of X_test.iloc[350202,95] is -1.86068\n",
      "Value of X_test.iloc[357178,67] is -1.3979\n",
      "Value of X_test.iloc[405041,22] is -1.27897\n",
      "Value of X_test.iloc[494088,80] is -1.35998\n",
      "Value of X_test.iloc[504259,72] is -5.02689\n",
      "Value of X_test.iloc[522269,20] is -3.1095\n"
     ]
    }
   ],
   "source": [
    "for i in range(len(problems[0])):\n",
    "    print(f\"Value of X_test.iloc[{problems[0][i]},{problems[1][i]}] is {X_test.iloc[problems[0][i], problems[1][i]]}\")"
   ]
  },
  {
   "cell_type": "code",
   "execution_count": 40,
   "id": "fd19e876-5b21-4e74-a39b-bb2f03f75cbb",
   "metadata": {},
   "outputs": [
    {
     "name": "stderr",
     "output_type": "stream",
     "text": [
      "/home/sf/anaconda3/envs/tabular-x/lib/python3.8/site-packages/ipykernel/ipkernel.py:287: DeprecationWarning: `should_run_async` will not call `transform_cell` automatically in the future. Please pass the result to `transformed_cell` argument and any exception that happen during thetransform in `preprocessing_exc_tuple` in IPython 7.17 and above.\n",
      "  and should_run_async(code)\n"
     ]
    },
    {
     "data": {
      "text/plain": [
       "208"
      ]
     },
     "execution_count": 40,
     "metadata": {},
     "output_type": "execute_result"
    }
   ],
   "source": [
    "subzeros = np.where(X_test.iloc[:,22] < -1)\n",
    "len(subzeros[0])"
   ]
  },
  {
   "cell_type": "code",
   "execution_count": 44,
   "id": "5c57b276-a705-4830-8239-c5ee02ba3a4b",
   "metadata": {},
   "outputs": [
    {
     "data": {
      "text/plain": [
       "-1.4098"
      ]
     },
     "execution_count": 44,
     "metadata": {},
     "output_type": "execute_result"
    }
   ],
   "source": [
    "X_test.iloc[:,74].min()"
   ]
  },
  {
   "cell_type": "code",
   "execution_count": 22,
   "id": "f3d84d03-bbc6-4885-8e01-873d7db12511",
   "metadata": {},
   "outputs": [],
   "source": [
    "wide_preprocessor = WidePreprocessor(wide_cols=wide_cols)\n",
    "X_wide = wide_preprocessor.fit_transform(X_pre)\n",
    "X_test_wide = wide_preprocessor.transform(X_test_pre)"
   ]
  },
  {
   "cell_type": "code",
   "execution_count": 51,
   "id": "423a1a9c-71ce-46fa-8eab-785eb1f422aa",
   "metadata": {},
   "outputs": [
    {
     "name": "stderr",
     "output_type": "stream",
     "text": [
      "/home/sf/anaconda3/envs/tabular-x/lib/python3.8/site-packages/pytorch_widedeep/preprocessing/tab_preprocessor.py:179: UserWarning: Continuous columns will not be normalised\n",
      "  warnings.warn(\"Continuous columns will not be normalised\")\n"
     ]
    }
   ],
   "source": [
    "tab_preprocessor = TabPreprocessor(continuous_cols=cont_cols, scale=False, for_transformer=False,embed_cols=wide_cols, already_standard=True)\n",
    "X_tab = tab_preprocessor.fit_transform(X_pre)\n",
    "X_test_tab = tab_preprocessor.transform(X_test_pre)"
   ]
  },
  {
   "cell_type": "code",
   "execution_count": 24,
   "id": "592823da-f2b7-45d1-8d79-0dc3c246bcbd",
   "metadata": {},
   "outputs": [],
   "source": [
    "wide = Wide(wide_dim=np.unique(X_wide).shape[0], pred_dim=1)"
   ]
  },
  {
   "cell_type": "code",
   "execution_count": 25,
   "id": "61b8904e-d0a8-42c0-b295-c0805f90dbf8",
   "metadata": {},
   "outputs": [],
   "source": [
    "# deeptabular = TabMlp(continuous_cols=X_gauss.columns, column_idx=tab_preprocessor.column_idx)\n",
    "deeptabular = TabMlp(continuous_cols=cont_cols, column_idx=tab_preprocessor.column_idx)"
   ]
  },
  {
   "cell_type": "code",
   "execution_count": 26,
   "id": "06e533e1-6465-4f65-83fc-8edae1bfe8b5",
   "metadata": {},
   "outputs": [],
   "source": [
    "model = WideDeep(wide=wide, deeptabular=deeptabular)"
   ]
  },
  {
   "cell_type": "code",
   "execution_count": 27,
   "id": "d6ed610e-6758-45f3-aa1f-30481e73721b",
   "metadata": {},
   "outputs": [],
   "source": [
    "# del X_deep_train, X_deep_valid\n",
    "X_wide_train, X_wide_valid, y_train, y_valid = train_test_split(X_wide, y, test_size=0.2, random_state=42)\n",
    "X_tab_train, X_tab_valid, _, _ = train_test_split(X_tab, y, test_size=0.2, random_state=42)"
   ]
  },
  {
   "cell_type": "code",
   "execution_count": 28,
   "id": "03f57f09-b0a8-45d4-b784-6bc9fb18fa82",
   "metadata": {},
   "outputs": [],
   "source": [
    "y_train = np.array(y_train)\n",
    "y_valid = np.array(y_valid)"
   ]
  },
  {
   "cell_type": "code",
   "execution_count": null,
   "id": "fc62eab0-957c-4513-bc9e-4c56cb86fd0e",
   "metadata": {},
   "outputs": [],
   "source": []
  },
  {
   "cell_type": "code",
   "execution_count": 29,
   "id": "892d12b8-f459-4922-94d6-e597400f3ad2",
   "metadata": {},
   "outputs": [
    {
     "name": "stderr",
     "output_type": "stream",
     "text": [
      "epoch 1: 100%|██████████| 469/469 [00:06<00:00, 69.33it/s, loss=2.11, metrics={'acc': 0.5634}]\n",
      "epoch 2: 100%|██████████| 469/469 [00:06<00:00, 73.20it/s, loss=1.94, metrics={'acc': 0.5801}]\n",
      "epoch 3: 100%|██████████| 469/469 [00:06<00:00, 71.94it/s, loss=1.81, metrics={'acc': 0.584}] \n",
      "epoch 4: 100%|██████████| 469/469 [00:06<00:00, 74.80it/s, loss=1.69, metrics={'acc': 0.5878}]\n",
      "predict: 100%|██████████| 118/118 [00:01<00:00, 83.19it/s] \n"
     ]
    }
   ],
   "source": [
    "n_epochs = 4\n",
    "\n",
    "wide_opt = AdamW(model.wide.parameters(), lr=0.1)\n",
    "deep_opt = AdamW(model.deeptabular.parameters(), lr=0.1)\n",
    "\n",
    "wide_sch = OneCycleLR(optimizer=wide_opt, max_lr=0.01, steps_per_epoch=X_wide_train.shape[0], epochs=n_epochs)\n",
    "deep_sch = OneCycleLR(optimizer=deep_opt, max_lr=0.01, steps_per_epoch=X_tab_train.shape[0], epochs=n_epochs)\n",
    "\n",
    "optimizers = {'wide': wide_opt, 'deeptabular': deep_opt }\n",
    "lr_schedulers = {'wide': wide_sch, 'deeptabular': deep_sch }\n",
    "\n",
    "\n",
    "callbacks = [\n",
    "    LRHistory(n_epochs=n_epochs), \n",
    "]\n",
    "\n",
    "# trainer\n",
    "trainer = Trainer(model=model, \n",
    "                  objective='binary', \n",
    "                  metrics=[Accuracy], # with AUROC got TypeError: '>' not supported between instances of 'NoneType' and 'int' \n",
    "                  seed=42, \n",
    "                  optimizers=optimizers,\n",
    "                  callbacks=callbacks\n",
    "                 )\n",
    "\n",
    "#             print(f\"type(X_train_wide) is {type(X_train_wide)} and type(X_train_tab) is {type(X_train_tab)}\")\n",
    "trainer.fit( # this is where problem is beginning\n",
    "    X_wide=X_wide_train,\n",
    "    X_tab=X_tab_train,\n",
    "    target=y_train,\n",
    "    n_epochs=n_epochs,\n",
    "    batch_size=1024, # default value is 32\n",
    "#                 val_split=0.2, # no need for this\n",
    ")\n",
    "\n",
    "y_valid_preds = trainer.predict_proba(X_wide=X_wide_valid, X_tab=X_tab_valid, batch_size=1024)[:,1]\n",
    "           \n",
    "    "
   ]
  },
  {
   "cell_type": "code",
   "execution_count": 30,
   "id": "97f08ac1-3aae-47c4-924b-e743ae6be3f6",
   "metadata": {},
   "outputs": [
    {
     "name": "stderr",
     "output_type": "stream",
     "text": [
      "predict: 100%|██████████| 528/528 [00:03<00:00, 150.22it/s]\n"
     ]
    },
    {
     "data": {
      "text/plain": [
       "True"
      ]
     },
     "execution_count": 30,
     "metadata": {},
     "output_type": "execute_result"
    }
   ],
   "source": [
    "dirty_preds = trainer.predict_proba(X_wide=X_test_wide, X_tab=X_test_tab, batch_size=1024,)[:,1]\n",
    "np.isnan(dirty_preds).any()"
   ]
  },
  {
   "cell_type": "code",
   "execution_count": 31,
   "id": "0b7de42f-6e8e-45c2-b75d-76369ae64ff8",
   "metadata": {},
   "outputs": [
    {
     "data": {
      "text/plain": [
       "False"
      ]
     },
     "execution_count": 31,
     "metadata": {},
     "output_type": "execute_result"
    }
   ],
   "source": [
    "np.isnan(y_valid_preds).any()"
   ]
  },
  {
   "cell_type": "code",
   "execution_count": 32,
   "id": "32757d96-b426-4438-aca2-5e34dd3a4efa",
   "metadata": {},
   "outputs": [
    {
     "data": {
      "text/plain": [
       "False"
      ]
     },
     "execution_count": 32,
     "metadata": {},
     "output_type": "execute_result"
    }
   ],
   "source": [
    "np.isnan(X_test_wide).any()"
   ]
  },
  {
   "cell_type": "code",
   "execution_count": 33,
   "id": "a7872353-1661-45c4-b4a5-13d16d884e94",
   "metadata": {},
   "outputs": [
    {
     "data": {
      "text/plain": [
       "False"
      ]
     },
     "execution_count": 33,
     "metadata": {},
     "output_type": "execute_result"
    }
   ],
   "source": [
    "np.isnan(X_tab).any()"
   ]
  },
  {
   "cell_type": "code",
   "execution_count": 34,
   "id": "6aee9b60-b178-416d-a370-38ee69b477d2",
   "metadata": {},
   "outputs": [
    {
     "data": {
      "text/plain": [
       "True"
      ]
     },
     "execution_count": 34,
     "metadata": {},
     "output_type": "execute_result"
    }
   ],
   "source": [
    "np.isnan(X_test_tab).any()"
   ]
  },
  {
   "cell_type": "code",
   "execution_count": 35,
   "id": "9144157f-1a6b-404f-bab1-424b39186212",
   "metadata": {},
   "outputs": [
    {
     "data": {
      "text/plain": [
       "<AxesSubplot:>"
      ]
     },
     "execution_count": 35,
     "metadata": {},
     "output_type": "execute_result"
    },
    {
     "data": {
      "image/png": "[encoded data removed]",
      "text/plain": [
       "<Figure size 432x288 with 1 Axes>"
      ]
     },
     "metadata": {
      "needs_background": "light"
     },
     "output_type": "display_data"
    }
   ],
   "source": [
    "X_test.iloc[60187].hist()"
   ]
  },
  {
   "cell_type": "code",
   "execution_count": 36,
   "id": "ff9ae869-d589-4926-8c34-59242934e65d",
   "metadata": {},
   "outputs": [
    {
     "data": {
      "text/plain": [
       "<AxesSubplot:>"
      ]
     },
     "execution_count": 36,
     "metadata": {},
     "output_type": "execute_result"
    },
    {
     "data": {
      "image/png": "[encoded data removed]",
      "text/plain": [
       "<Figure size 432x288 with 1 Axes>"
      ]
     },
     "metadata": {
      "needs_background": "light"
     },
     "output_type": "display_data"
    }
   ],
   "source": [
    "X_test_gauss.iloc[60187].hist()"
   ]
  },
  {
   "cell_type": "code",
   "execution_count": 37,
   "id": "094b8702-4efd-4132-8f3a-b960c68c9093",
   "metadata": {},
   "outputs": [
    {
     "data": {
      "text/plain": [
       "<AxesSubplot:>"
      ]
     },
     "execution_count": 37,
     "metadata": {},
     "output_type": "execute_result"
    },
    {
     "data": {
      "image/png": "[encoded data removed]",
      "text/plain": [
       "<Figure size 432x288 with 1 Axes>"
      ]
     },
     "metadata": {
      "needs_background": "light"
     },
     "output_type": "display_data"
    }
   ],
   "source": [
    "X_test_tab_df = pd.DataFrame(X_test_tab)\n",
    "X_test_tab_df.iloc[60187].hist()"
   ]
  },
  {
   "cell_type": "code",
   "execution_count": 38,
   "id": "b83d18f8-6d66-4562-a806-0f993ab117d8",
   "metadata": {},
   "outputs": [
    {
     "data": {
      "text/plain": [
       "(-1.6916033346222619, -1.3556376794533695)"
      ]
     },
     "execution_count": 38,
     "metadata": {},
     "output_type": "execute_result"
    }
   ],
   "source": [
    "X_test_tab_df.iloc[60187].min(), X_test_tab_df.iloc[60188].min()"
   ]
  },
  {
   "cell_type": "code",
   "execution_count": 39,
   "id": "b77f0d66-c5fe-45c4-9957-40c259af9e10",
   "metadata": {},
   "outputs": [
    {
     "data": {
      "text/plain": [
       "-2.8367347150190154"
      ]
     },
     "execution_count": 39,
     "metadata": {},
     "output_type": "execute_result"
    }
   ],
   "source": [
    "X_test_tab_df.iloc[:60187].min().min()"
   ]
  },
  {
   "cell_type": "code",
   "execution_count": 40,
   "id": "8160c928-01be-47cc-8090-a3315b0d0471",
   "metadata": {},
   "outputs": [],
   "source": [
    "nan_rows = {}\n",
    "for i in range(X_test_tab.shape[0]):\n",
    "    if np.isnan(X_test_tab[i,:]).any():\n",
    "        nan_rows[i] = X_test_tab[i]"
   ]
  },
  {
   "cell_type": "code",
   "execution_count": 41,
   "id": "2d9b8236-5144-4ace-911d-b06dcedb9e68",
   "metadata": {
    "tags": []
   },
   "outputs": [
    {
     "data": {
      "text/plain": [
       "{60187: array([ 2.00000000e+01,  6.20000000e+01,  7.50000000e+01,  8.70000000e+01,\n",
       "         9.60000000e+01,  7.80000000e+01,  9.90000000e+01,  5.70000000e+01,\n",
       "         7.80000000e+01,  9.10000000e+01,  8.50000000e+01,  8.80000000e+01,\n",
       "         9.40000000e+01,  6.00000000e+00,  8.90000000e+01,  3.30000000e+01,\n",
       "         9.70000000e+01,  7.90000000e+01,  7.40000000e+01,  5.00000000e+00,\n",
       "         9.60000000e+01,  3.60000000e+01,  5.00000000e+01,  8.70000000e+01,\n",
       "         9.90000000e+01,  6.00000000e+01,  5.00000000e+01,  7.00000000e+00,\n",
       "         1.40000000e+01,  5.90000000e+01,  4.50000000e+01,  2.50000000e+01,\n",
       "         6.60000000e+01,  5.70000000e+01,  9.90000000e+01,  8.60000000e+01,\n",
       "         3.70000000e+01,  9.30000000e+01,  2.40000000e+01,  7.00000000e+00,\n",
       "         5.10000000e+01,  1.50000000e+01,  4.60000000e+01,  7.00000000e+01,\n",
       "         9.00000000e+00,  6.80000000e+01,  4.00000000e+01,  5.80000000e+01,\n",
       "         6.30000000e+01,  3.40000000e+01,  4.30000000e+01,  9.00000000e+01,\n",
       "         2.70000000e+01,  8.30000000e+01,  2.80000000e+01,  1.50000000e+01,\n",
       "         5.00000000e+00,  7.70000000e+01,  8.30000000e+01,  4.60000000e+01,\n",
       "         9.00000000e+00,  9.40000000e+01,  7.80000000e+01,  9.50000000e+01,\n",
       "         5.70000000e+01,  1.90000000e+01,  6.50000000e+01,  5.00000000e+01,\n",
       "         6.30000000e+01,  9.00000000e+01,  7.10000000e+01,  9.60000000e+01,\n",
       "         8.10000000e+01,  9.30000000e+01,  5.00000000e+01,  3.20000000e+01,\n",
       "         9.80000000e+01,  7.30000000e+01,  1.00000000e+01,  9.00000000e+00,\n",
       "         3.00000000e+00,  9.20000000e+01,  7.00000000e+00,  4.00000000e+01,\n",
       "         2.90000000e+01,  4.00000000e+01,  7.00000000e+00,  3.20000000e+01,\n",
       "         5.60000000e+01,  7.70000000e+01,  2.90000000e+01,  8.10000000e+01,\n",
       "         2.90000000e+01,  1.30000000e+01,  7.90000000e+01,  2.40000000e+01,\n",
       "         2.30000000e+01,  9.10000000e+01,  5.10000000e+01,  8.30000000e+01,\n",
       "        -1.25442462e+00, -2.58129085e-01, -1.69160333e+00, -1.14863716e+00,\n",
       "         9.34202387e-01,  8.75603230e-01,  8.50511920e-01, -2.38261412e-01,\n",
       "        -3.34706199e-01,  7.98798086e-03,  8.25276106e-01,  1.11280485e+00,\n",
       "        -6.94128414e-01, -1.08033569e+00, -1.37079947e+00, -2.03742628e-01,\n",
       "        -5.92944702e-01, -1.49743111e-01, -1.12234443e+00,  2.34827382e-01,\n",
       "         6.25976159e-01, -6.10741938e-01,             nan, -6.43657097e-01,\n",
       "        -7.45715922e-01,  2.84456687e-01,  2.61129811e-02,  2.07901850e+00,\n",
       "        -2.92540129e-01,  1.34239546e+00, -1.11241842e-01,  1.08518372e+00,\n",
       "         5.11174554e-01,  9.05546953e-01,  3.08981728e-01, -7.74110799e-02,\n",
       "        -3.91550160e-02,  1.07458358e+00, -6.37897054e-01, -2.13723542e-01,\n",
       "         8.57919591e-01, -2.28183380e-01,  6.16088460e-01,  4.40266902e-01,\n",
       "        -1.46993353e+00, -1.21517541e+00, -8.26074130e-01, -5.61825248e-02,\n",
       "        -5.07956472e-01, -6.95008004e-01,  2.97728885e-01,  7.94873327e-01,\n",
       "        -7.42809842e-01,  1.09416163e-01,  6.51503257e-01,  7.87284772e-01,\n",
       "         6.72241560e-01,  9.69663698e-02,  6.88450889e-01,  5.49928284e-02,\n",
       "        -8.07838295e-02, -6.46481996e-01, -5.04803667e-01,  1.68240631e-01,\n",
       "        -1.60714835e+00, -5.94033594e-01, -3.98736576e-01,  3.74489821e-01,\n",
       "         1.96752743e-01, -4.84419083e-01, -1.58606823e-01, -1.08196282e-01,\n",
       "        -3.72256740e-01, -5.64030498e-01, -1.12493024e-01, -8.46107330e-01,\n",
       "         4.24375976e-01, -2.17279170e-01,  4.27442504e-01,  3.36299842e-01,\n",
       "         4.68907642e-01, -5.52672612e-02, -6.65491017e-01,  5.09868272e-01,\n",
       "         8.42270388e-01, -8.74390443e-01, -8.50837621e-01, -1.63441759e+00,\n",
       "         1.14877833e-01,  2.97443203e-01,  3.09526975e-01, -8.50138706e-02,\n",
       "        -2.01986033e-01,  8.42076079e-02,  4.13367341e-01, -3.84635967e-01,\n",
       "        -4.42862003e-01, -2.59131589e-01,  4.59114271e-02,  5.05525476e-01]),\n",
       " 72708: array([ 4.30000000e+01,  9.00000000e+00,  8.90000000e+01,  9.20000000e+01,\n",
       "         9.90000000e+01,  6.60000000e+01,  3.80000000e+01,  3.70000000e+01,\n",
       "         6.70000000e+01,  9.80000000e+01,  5.90000000e+01,  5.20000000e+01,\n",
       "         6.60000000e+01,  1.00000000e+02,  1.00000000e+00,  4.60000000e+01,\n",
       "         6.70000000e+01,  8.20000000e+01,  2.90000000e+01,  4.00000000e+00,\n",
       "         2.60000000e+01,  4.50000000e+01,  5.00000000e+01,  4.10000000e+01,\n",
       "         7.00000000e+00,  7.40000000e+01,  4.00000000e+01,  6.10000000e+01,\n",
       "         6.90000000e+01,  3.70000000e+01,  7.10000000e+01,  2.90000000e+01,\n",
       "         8.10000000e+01,  5.10000000e+01,  5.60000000e+01,  5.20000000e+01,\n",
       "         8.20000000e+01,  4.50000000e+01,  2.80000000e+01,  4.20000000e+01,\n",
       "         1.50000000e+01,  7.60000000e+01,  3.50000000e+01,  1.40000000e+01,\n",
       "         1.80000000e+01,  2.00000000e+00,  4.10000000e+01,  9.80000000e+01,\n",
       "         6.40000000e+01,  6.40000000e+01,  8.80000000e+01,  6.60000000e+01,\n",
       "         5.30000000e+01,  8.00000000e+00,  6.30000000e+01,  2.80000000e+01,\n",
       "         4.80000000e+01,  9.30000000e+01,  1.70000000e+01,  5.20000000e+01,\n",
       "         2.40000000e+01,  3.90000000e+01,  9.00000000e+01,  5.60000000e+01,\n",
       "         8.00000000e+00,  3.10000000e+01,  2.10000000e+01,  7.70000000e+01,\n",
       "         1.50000000e+01,  9.30000000e+01,  9.80000000e+01,  3.50000000e+01,\n",
       "         8.00000000e+01,  9.20000000e+01,  7.70000000e+01,  9.80000000e+01,\n",
       "         3.10000000e+01,  4.90000000e+01,  3.00000000e+01,  5.70000000e+01,\n",
       "         1.90000000e+01,  3.60000000e+01,  4.00000000e+01,  2.30000000e+01,\n",
       "         4.40000000e+01,  4.20000000e+01,  3.00000000e+00,  1.30000000e+01,\n",
       "         7.10000000e+01,  5.30000000e+01,  8.10000000e+01,  4.10000000e+01,\n",
       "         7.00000000e+01,  8.10000000e+01,  5.80000000e+01,  1.40000000e+01,\n",
       "         4.20000000e+01,  1.40000000e+01,  7.00000000e+01,  1.70000000e+01,\n",
       "        -9.67054378e-02,  6.16214015e-01, -2.02558349e-01, -1.75579958e-01,\n",
       "         6.92282601e-01,  7.68794276e-01, -2.33835908e-01, -3.64842686e-01,\n",
       "        -2.15809692e-01, -1.48752720e-01,  2.82278618e-01,  1.95035402e+00,\n",
       "        -2.40269418e-01,  7.48922440e-01, -4.19062126e-01, -2.86704219e-01,\n",
       "        -7.34510200e-01,  2.07185751e-01,  3.27567251e-01, -1.46539136e-01,\n",
       "         1.73257067e+00,  1.03481374e+00,             nan,  9.26934520e-01,\n",
       "         1.08916885e+00, -6.35297830e-01, -5.71381744e-02,  1.33874619e+00,\n",
       "         5.80473388e-01,  3.87801802e-01, -1.32206782e+00,  2.05273733e-01,\n",
       "        -6.53363597e-01,  1.46870052e+00,  1.02980172e+00, -1.18028245e-01,\n",
       "         3.69183277e-01,  3.69652040e-01, -1.23825397e+00,  1.06327558e+00,\n",
       "         2.08566429e-01,  1.03116413e+00, -7.89261931e-01,  1.48770041e+00,\n",
       "        -2.02376442e-01, -5.05144234e-01,  6.55105242e-01, -1.82144096e-02,\n",
       "         8.72310984e-01, -1.37603304e-01, -3.89158177e-01, -7.00954556e-01,\n",
       "        -1.46508120e-02,  1.89644526e-01,  1.62738945e+00, -5.18643823e-01,\n",
       "        -4.57952292e-01,  6.19058975e-01,  7.77353448e-01, -4.21039636e-01,\n",
       "         8.37357961e-02,  6.63759153e-01, -7.69691353e-01, -5.22858669e-01,\n",
       "        -1.29053665e-01,  5.89407235e-01, -1.34153018e+00,  1.17412289e-01,\n",
       "         3.13139173e-01,  5.74743855e-01,  6.89147236e-01, -1.33158150e+00,\n",
       "        -6.16179989e-01, -9.08911284e-01, -5.28739247e-01, -4.49179628e-01,\n",
       "        -9.89583323e-01, -4.30278332e-01,  7.95261284e-01, -1.64040592e-01,\n",
       "        -7.02217740e-01,  4.58452865e-01,  7.00045124e-01,  1.21942247e-01,\n",
       "         3.83373711e-01, -5.52317483e-01, -1.18621220e-01,  1.59791638e+00,\n",
       "         1.64924913e-01,  1.03163481e+00,  9.04028640e-02, -4.87856887e-01,\n",
       "         4.32896957e-01,  1.50443783e-01, -1.19741983e+00,  6.78479591e-01,\n",
       "        -5.25613669e-01,  6.97260224e-01,  1.20466714e+00,  6.45220049e-01]),\n",
       " 84460: array([ 8.80000000e+01,  3.40000000e+01,  5.80000000e+01,  6.00000000e+01,\n",
       "         2.70000000e+01,  5.30000000e+01,  5.00000000e+01,  6.90000000e+01,\n",
       "         6.30000000e+01,  9.00000000e+00,  5.10000000e+01,  1.00000000e+01,\n",
       "         2.10000000e+01,  9.00000000e+00,  5.30000000e+01,  4.70000000e+01,\n",
       "         2.00000000e+01,  8.90000000e+01,  8.30000000e+01,  2.10000000e+01,\n",
       "         2.60000000e+01,  8.90000000e+01,  5.00000000e+01,  6.90000000e+01,\n",
       "         8.90000000e+01,  9.10000000e+01,  1.00000000e+00,  5.10000000e+01,\n",
       "         8.00000000e+01,  3.50000000e+01,  3.20000000e+01,  9.80000000e+01,\n",
       "         4.10000000e+01,  8.70000000e+01,  5.10000000e+01,  4.20000000e+01,\n",
       "         1.70000000e+01,  9.80000000e+01,  4.00000000e+00,  2.90000000e+01,\n",
       "         6.80000000e+01,  2.10000000e+01,  4.40000000e+01,  7.60000000e+01,\n",
       "         9.70000000e+01,  9.40000000e+01,  6.40000000e+01,  4.20000000e+01,\n",
       "         9.20000000e+01,  1.30000000e+01,  2.00000000e+01,  8.80000000e+01,\n",
       "         4.30000000e+01,  4.40000000e+01,  9.50000000e+01,  9.50000000e+01,\n",
       "         2.60000000e+01,  7.90000000e+01,  5.00000000e+00,  5.80000000e+01,\n",
       "         1.00000000e+00,  3.10000000e+01,  1.90000000e+01,  1.30000000e+01,\n",
       "         7.60000000e+01,  8.50000000e+01,  2.40000000e+01,  1.60000000e+01,\n",
       "         6.10000000e+01,  1.00000000e+02,  1.90000000e+01,  8.00000000e+00,\n",
       "         1.30000000e+01,  7.40000000e+01,  8.50000000e+01,  8.60000000e+01,\n",
       "         8.70000000e+01,  7.90000000e+01,  7.10000000e+01,  9.00000000e+01,\n",
       "         9.20000000e+01,  1.40000000e+01,  1.70000000e+01,  6.90000000e+01,\n",
       "         6.50000000e+01,  4.50000000e+01,  3.40000000e+01,  2.30000000e+01,\n",
       "         3.70000000e+01,  2.80000000e+01,  9.20000000e+01,  2.10000000e+01,\n",
       "         9.70000000e+01,  6.90000000e+01,  1.00000000e+01,  5.40000000e+01,\n",
       "         5.20000000e+01,  4.60000000e+01,  7.00000000e+00,  6.00000000e+01,\n",
       "         2.21631482e-01,  1.07451184e+00, -1.15338865e+00,  1.44245786e+00,\n",
       "        -3.46231673e-01,  7.34413506e-01,  1.26521254e+00, -3.89165198e-01,\n",
       "         6.77516051e-01,  5.07763541e-01, -1.37130322e+00,  8.04475954e-02,\n",
       "        -5.33865349e-01,  1.08225333e+00, -6.05004391e-01,  3.45035472e-01,\n",
       "        -5.58288407e-01, -2.81152605e-01, -1.02298001e-01,  1.15090694e+00,\n",
       "         1.97475878e+00, -4.99217852e-01,             nan,  7.76239138e-01,\n",
       "        -1.15658236e-01, -4.44242903e-01, -2.79212286e-01, -5.84920782e-01,\n",
       "        -7.57613609e-01,  1.89748624e-02,  2.21877298e-01, -6.75556691e-03,\n",
       "         1.20311960e-01, -2.48616342e-01,  7.69037438e-01,  6.99066394e-01,\n",
       "        -2.09012091e-01,  2.93877237e-01,  2.37867591e-01,  9.69972113e-01,\n",
       "        -1.50832686e-01,  7.16208947e-01,  6.51355505e-01, -3.39641077e-01,\n",
       "         6.42783815e-01, -3.15325580e-01,  5.52246077e-01,  8.29026012e-01,\n",
       "        -6.81117500e-01, -7.70841047e-02, -3.39581532e-01, -2.85200283e-01,\n",
       "         2.89518487e-01,  1.58043421e-01, -2.27676622e-02,  1.40909441e-02,\n",
       "         4.18004279e-01, -3.02705496e-01,  6.38209440e-02, -1.19531518e+00,\n",
       "        -4.36829311e-01,  8.45100788e-01,  4.14210717e-01, -2.89226618e-01,\n",
       "        -4.39834128e-01,  9.78968738e-01, -3.17640793e-01, -3.23023364e-01,\n",
       "         2.39310861e-01,  1.09900024e+00, -1.23772587e+00,  3.76864810e-01,\n",
       "         1.03590046e-01,  3.67970831e-01,  6.19453175e-01,  3.25274875e-01,\n",
       "         4.80349916e-01,  7.35399332e-01, -1.51090684e-01,  1.60260943e+00,\n",
       "         2.94372436e-02, -5.91731087e-01,  1.08779216e-01, -1.68823764e-01,\n",
       "        -6.92371122e-01, -2.68106062e-01,  1.27346700e-01, -9.14084089e-01,\n",
       "         1.46795082e+00,  2.86262834e-01,  3.76900377e-03, -4.56152175e-01,\n",
       "         3.04663930e-01,  1.13226495e+00, -8.03410549e-01,  6.13263266e-03,\n",
       "         1.03701332e+00, -7.08909500e-01, -1.86667010e-01, -8.21605265e-01]),\n",
       " 115714: array([ 1.00000000e+00,  6.50000000e+01,  8.60000000e+01,  4.60000000e+01,\n",
       "         3.00000000e+00,  8.00000000e+00,  3.40000000e+01,  8.30000000e+01,\n",
       "         8.20000000e+01,  5.00000000e+00,  9.80000000e+01,  9.10000000e+01,\n",
       "         1.00000000e+00,  7.00000000e+00,  1.00000000e+02,  4.90000000e+01,\n",
       "         5.50000000e+01,  9.80000000e+01,  2.60000000e+01,  1.00000000e+02,\n",
       "         1.90000000e+01,  3.90000000e+01,  1.80000000e+01,  4.90000000e+01,\n",
       "         2.20000000e+01,  2.40000000e+01,  5.80000000e+01,  1.60000000e+01,\n",
       "         3.50000000e+01,  3.50000000e+01,  2.00000000e+00,  6.00000000e+00,\n",
       "         2.90000000e+01,  9.10000000e+01,  1.50000000e+01,  6.80000000e+01,\n",
       "         8.90000000e+01,  1.40000000e+01,  1.40000000e+01,  8.30000000e+01,\n",
       "         8.10000000e+01,  1.20000000e+01,  1.70000000e+01,  5.10000000e+01,\n",
       "         6.60000000e+01,  8.10000000e+01,  3.70000000e+01,  5.50000000e+01,\n",
       "         8.50000000e+01,  9.70000000e+01,  6.00000000e+00,  9.50000000e+01,\n",
       "         4.20000000e+01,  1.30000000e+01,  1.10000000e+01,  6.80000000e+01,\n",
       "         9.40000000e+01,  8.50000000e+01,  3.10000000e+01,  1.90000000e+01,\n",
       "         9.30000000e+01,  4.30000000e+01,  1.00000000e+00,  4.30000000e+01,\n",
       "         6.70000000e+01,  2.00000000e+01,  6.10000000e+01,  5.60000000e+01,\n",
       "         1.00000000e+00,  3.40000000e+01,  1.80000000e+01,  8.90000000e+01,\n",
       "         5.50000000e+01,  5.80000000e+01,  6.50000000e+01,  9.20000000e+01,\n",
       "         9.60000000e+01,  5.30000000e+01,  8.80000000e+01,  2.80000000e+01,\n",
       "         4.00000000e+01,  4.40000000e+01,  3.60000000e+01,  9.60000000e+01,\n",
       "         6.00000000e+00,  1.90000000e+01,  3.90000000e+01,  1.70000000e+01,\n",
       "         7.60000000e+01,  9.70000000e+01,  5.70000000e+01,  8.70000000e+01,\n",
       "         3.00000000e+00,  1.70000000e+01,  8.50000000e+01,  8.80000000e+01,\n",
       "         6.00000000e+01,  9.50000000e+01,  2.50000000e+01,  2.30000000e+01,\n",
       "         1.42277658e-01,  7.05608544e-01,  5.22899435e-01,  9.19348785e-01,\n",
       "        -2.19942989e-01, -3.64705584e-01, -1.85108675e-01,  4.10724362e-01,\n",
       "         5.53844756e-01, -2.27009947e-01, -4.94656809e-01, -7.35789590e-01,\n",
       "         1.16139686e+00,  3.68856067e-01,  5.12180406e-01, -9.91381925e-03,\n",
       "         8.77989511e-01, -1.10376949e+00,  3.46925101e-01,  1.83573721e-01,\n",
       "         6.07959986e-01, -1.09820529e+00,  7.29047428e-01, -1.17490473e+00,\n",
       "         2.62204909e-02, -3.86828619e-01, -1.04989913e+00, -1.05695993e+00,\n",
       "        -5.25946881e-01,  8.54722411e-03, -4.58752054e-01,  4.60574390e-01,\n",
       "         9.19813839e-01,  2.13550521e+00,  7.80364106e-01,  1.28766173e-01,\n",
       "         1.91912118e-01, -5.63088465e-01, -4.93076060e-01,  1.11534084e-01,\n",
       "         6.19481560e-01, -2.81931092e-01,  6.92778683e-01,  4.86437295e-01,\n",
       "         1.83818559e-01,  1.96600073e-01, -7.89427490e-01,  6.21513524e-01,\n",
       "        -3.46038479e-01,  9.02506949e-01, -1.21591544e-01,  1.30180501e+00,\n",
       "         8.78824177e-02, -2.14779636e-01,  5.38424698e-01, -5.53091934e-01,\n",
       "         6.19275364e-01, -2.23466437e-01,  1.83022132e-02, -1.90541412e-01,\n",
       "        -2.98050414e-01, -6.16473499e-01, -2.30634704e-01, -6.48460440e-01,\n",
       "        -2.00508305e-01, -7.14773296e-01,  6.24027253e-01,             nan,\n",
       "         1.85080935e-01,  2.52903509e-01,  4.86960116e-01,  1.42146645e-01,\n",
       "         8.88756792e-01,  1.68205684e-01, -4.87861199e-01,  6.30753499e-01,\n",
       "         1.53639804e+00, -2.45145239e-01, -1.27934336e+00, -1.34824763e-01,\n",
       "         1.18960110e-01,  5.83917123e-01, -4.31691615e-01, -7.38457807e-01,\n",
       "         7.83716492e-01,  1.14482034e+00,  3.98227421e-01,  2.31037158e-01,\n",
       "        -7.88344185e-01, -8.65565753e-01,  4.12236125e-01, -7.15211856e-01,\n",
       "         2.46273624e-01,  2.27758093e-01, -6.87538128e-01,  5.82560719e-01,\n",
       "        -2.19812091e-01,  1.32032503e-01,  1.61646833e+00, -1.18629614e+00]),\n",
       " 148146: array([ 9.30000000e+01,  6.20000000e+01,  4.00000000e+00,  2.30000000e+01,\n",
       "         9.10000000e+01,  5.50000000e+01,  1.40000000e+01,  1.20000000e+01,\n",
       "         2.90000000e+01,  9.30000000e+01,  1.80000000e+01,  6.70000000e+01,\n",
       "         3.80000000e+01,  8.60000000e+01,  3.30000000e+01,  9.30000000e+01,\n",
       "         4.60000000e+01,  7.90000000e+01,  4.80000000e+01,  5.80000000e+01,\n",
       "         7.00000000e+01,  4.60000000e+01,  3.90000000e+01,  8.50000000e+01,\n",
       "         4.40000000e+01,  1.30000000e+01,  6.00000000e+00,  2.10000000e+01,\n",
       "         2.40000000e+01,  4.20000000e+01,  2.30000000e+01,  1.50000000e+01,\n",
       "         4.80000000e+01,  1.50000000e+01,  2.20000000e+01,  4.50000000e+01,\n",
       "         5.20000000e+01,  9.00000000e+00,  3.10000000e+01,  1.60000000e+01,\n",
       "         5.20000000e+01,  1.70000000e+01,  2.00000000e+00,  7.40000000e+01,\n",
       "         4.00000000e+01,  9.70000000e+01,  3.00000000e+00,  7.00000000e+01,\n",
       "         5.90000000e+01,  3.10000000e+01,  9.80000000e+01,  7.70000000e+01,\n",
       "         1.10000000e+01,  6.90000000e+01,  7.30000000e+01,  3.80000000e+01,\n",
       "         3.80000000e+01,  4.20000000e+01,  1.00000000e+02,  9.60000000e+01,\n",
       "         1.10000000e+01,  8.20000000e+01,  9.00000000e+01,  2.60000000e+01,\n",
       "         5.80000000e+01,  3.10000000e+01,  4.40000000e+01,  5.60000000e+01,\n",
       "         9.90000000e+01,  9.90000000e+01,  1.00000000e+01,  8.80000000e+01,\n",
       "         2.50000000e+01,  9.00000000e+00,  9.40000000e+01,  2.60000000e+01,\n",
       "         2.00000000e+00,  5.40000000e+01,  9.50000000e+01,  4.60000000e+01,\n",
       "         9.90000000e+01,  8.20000000e+01,  3.70000000e+01,  9.20000000e+01,\n",
       "         2.40000000e+01,  4.10000000e+01,  9.60000000e+01,  8.10000000e+01,\n",
       "         5.00000000e+01,  1.80000000e+01,  7.10000000e+01,  3.90000000e+01,\n",
       "         4.30000000e+01,  8.60000000e+01,  7.40000000e+01,  4.60000000e+01,\n",
       "         4.60000000e+01,  5.00000000e+00,  1.70000000e+01,  5.70000000e+01,\n",
       "         6.31673351e-02, -2.62154261e-01,  7.70053620e-01,  7.07958873e-01,\n",
       "         3.35021847e-01,  2.84710498e-01, -2.05321182e-01, -3.61909988e-01,\n",
       "        -6.75057088e-01, -4.07069707e-01,  8.99070985e-01, -5.10556870e-02,\n",
       "         1.06582525e+00,  6.28670320e-01,  8.26125850e-01, -4.99675628e-02,\n",
       "         5.19763057e-01, -1.41825640e-01, -4.74461916e-01,  7.07065825e-01,\n",
       "         8.79975681e-01, -5.17133735e-01, -7.03792076e-01,  2.73437164e-01,\n",
       "         4.76966638e-01, -1.83610398e-01, -7.65554550e-01, -4.28610398e-02,\n",
       "         8.98507090e-02, -1.29401167e-01,  1.06789381e+00,  1.66444808e-01,\n",
       "         3.49121945e-01,  6.59207417e-01,  1.36326055e+00,  1.09398577e+00,\n",
       "        -5.81039070e-01,  4.18653547e-01, -1.16961807e-01,  8.19267114e-01,\n",
       "         3.84219702e-01, -5.03816289e-01, -5.30638568e-01,  4.26274522e-01,\n",
       "         6.88153255e-01, -4.41703538e-01, -5.39496931e-01, -5.32124358e-02,\n",
       "         8.19147584e-01,  4.78153838e-01,  1.41071964e+00, -4.31252202e-02,\n",
       "        -5.38556988e-01, -9.80215607e-01,  2.74819456e-01,  4.20806661e-01,\n",
       "        -2.16903231e-01, -7.77478106e-02, -8.61442365e-01,  8.93425128e-01,\n",
       "         6.89396727e-01, -1.47636084e-01, -7.83678602e-01,  1.86510786e-02,\n",
       "        -2.92162095e-04,  5.88590671e-01,  2.38774227e-01,             nan,\n",
       "         9.67347911e-01,  4.39395444e-03, -3.56821542e-02,  1.88069519e-01,\n",
       "         9.81553731e-02, -5.09799142e-01, -1.06782159e+00,  2.54069087e-01,\n",
       "        -5.33622473e-01, -1.76193911e-01, -2.68012593e-02,  1.06700229e-01,\n",
       "        -7.60852943e-01,  8.05273325e-01,  2.15637673e-02, -2.88324276e-01,\n",
       "        -9.26169642e-02, -1.55056916e-01,  1.18029333e-01,  3.15444351e-01,\n",
       "        -6.18071479e-01,  1.51402431e-01,  5.16956514e-02,  2.57460355e-01,\n",
       "        -5.46271723e-01, -6.20620916e-01,  3.64889093e-01,  7.55676589e-01,\n",
       "        -7.27630874e-01, -3.09293275e-01,  3.06359933e-01, -4.16755955e-01]),\n",
       " 159870: array([ 5.00000000e+01,  5.90000000e+01,  7.40000000e+01,  5.00000000e+01,\n",
       "         9.70000000e+01,  5.80000000e+01,  8.80000000e+01,  4.60000000e+01,\n",
       "         4.30000000e+01,  9.40000000e+01,  6.30000000e+01,  8.50000000e+01,\n",
       "         1.80000000e+01,  9.70000000e+01,  7.60000000e+01,  7.40000000e+01,\n",
       "         1.40000000e+01,  5.10000000e+01,  3.00000000e+00,  6.10000000e+01,\n",
       "         9.70000000e+01,  3.00000000e+00,  5.00000000e+01,  2.50000000e+01,\n",
       "         2.70000000e+01,  1.00000000e+01,  3.70000000e+01,  2.50000000e+01,\n",
       "         7.20000000e+01,  9.40000000e+01,  8.50000000e+01,  2.80000000e+01,\n",
       "         8.70000000e+01,  6.00000000e+00,  3.30000000e+01,  5.00000000e+00,\n",
       "         5.00000000e+01,  1.00000000e+02,  9.60000000e+01,  6.00000000e+00,\n",
       "         1.20000000e+01,  1.90000000e+01,  5.40000000e+01,  7.00000000e+00,\n",
       "         1.00000000e+00,  5.20000000e+01,  9.50000000e+01,  8.50000000e+01,\n",
       "         1.70000000e+01,  7.90000000e+01,  7.50000000e+01,  8.30000000e+01,\n",
       "         1.50000000e+01,  5.70000000e+01,  8.20000000e+01,  4.90000000e+01,\n",
       "         2.90000000e+01,  6.80000000e+01,  4.90000000e+01,  7.60000000e+01,\n",
       "         1.70000000e+01,  3.80000000e+01,  3.60000000e+01,  2.70000000e+01,\n",
       "         2.70000000e+01,  3.40000000e+01,  3.30000000e+01,  5.60000000e+01,\n",
       "         6.40000000e+01,  2.00000000e+00,  1.90000000e+01,  5.80000000e+01,\n",
       "         6.30000000e+01,  4.00000000e+01,  4.80000000e+01,  3.30000000e+01,\n",
       "         4.70000000e+01,  4.40000000e+01,  6.20000000e+01,  8.70000000e+01,\n",
       "         5.00000000e+01,  1.50000000e+01,  7.80000000e+01,  8.70000000e+01,\n",
       "         3.80000000e+01,  7.90000000e+01,  8.40000000e+01,  2.00000000e+01,\n",
       "         8.00000000e+00,  9.50000000e+01,  8.00000000e+00,  2.90000000e+01,\n",
       "         5.80000000e+01,  1.40000000e+01,  8.20000000e+01,  5.50000000e+01,\n",
       "         4.00000000e+01,  6.20000000e+01,  2.20000000e+01,  9.40000000e+01,\n",
       "         2.30908235e-01,  1.16690985e+00,  1.43471316e-01,  4.83193775e-02,\n",
       "         1.20273948e+00, -8.66850891e-02, -1.75350342e-01, -4.27221316e-01,\n",
       "        -1.91619737e-01, -1.14319535e+00,  7.00718595e-01, -2.44736680e-01,\n",
       "        -7.80122809e-01,  1.75628926e+00, -6.55787622e-01,  1.69797483e-01,\n",
       "         4.79640235e-01,  2.86752601e-01, -1.79801435e-01, -8.84646852e-01,\n",
       "         1.35183390e+00,  9.19682838e-01, -1.73210330e+00,  9.45412815e-01,\n",
       "        -1.92196729e-02,  5.90024069e-01, -3.18693566e-01,  8.25943649e-01,\n",
       "        -1.57264380e-02,  3.80051680e-01,  2.83102072e-01,  3.29005671e-01,\n",
       "         5.89994093e-01, -3.57972834e-01, -2.02356878e-01, -1.56908460e-01,\n",
       "         4.93380075e-01,  8.64370384e-01,  5.36996902e-01, -4.40424719e-01,\n",
       "         9.76078925e-01, -5.75471948e-01, -6.84638895e-01,  6.49087540e-01,\n",
       "        -1.59118435e-01, -1.26092250e-01, -2.67962211e-01,  5.56484012e-01,\n",
       "         2.61944600e-01, -9.38157183e-04,  6.69818179e-01, -9.47763266e-02,\n",
       "         1.07282196e+00,  7.40738909e-01,  2.52368502e-01,  3.60597056e-01,\n",
       "         5.79655163e-01,  5.87677397e-01, -1.77690899e+00,  6.19565037e-02,\n",
       "         1.38058910e+00,  4.74736675e-01,  6.22779314e-01,  1.06809666e+00,\n",
       "        -1.44789346e-01, -3.01802080e-01,  5.07019954e-01,             nan,\n",
       "         6.03593207e-03, -7.36642027e-01, -1.22374440e+00, -1.93626737e-01,\n",
       "         1.57829766e+00,  6.56752309e-01, -2.79372756e-01, -3.53397587e-01,\n",
       "        -2.44565235e-01,  3.26012056e-01, -3.73710621e-01,  3.43931726e-02,\n",
       "         6.42144248e-01,  3.18612145e-01, -1.26207921e-02, -1.23212770e+00,\n",
       "        -4.26583153e-01, -1.15485981e+00, -4.50352609e-01,  1.23278498e+00,\n",
       "        -1.07799685e+00, -1.35295096e+00,  7.09885870e-01,  9.31430779e-01,\n",
       "         6.51002397e-01, -2.84255326e-01,  1.29320004e+00, -4.35976187e-01,\n",
       "        -6.58569442e-02, -5.03158644e-01, -1.07521024e+00,  1.25874639e+00]),\n",
       " 226322: array([ 3.70000000e+01,  1.70000000e+01,  8.00000000e+00,  4.90000000e+01,\n",
       "         9.70000000e+01,  2.00000000e+00,  5.50000000e+01,  6.60000000e+01,\n",
       "         2.00000000e+01,  6.00000000e+01,  6.00000000e+01,  8.70000000e+01,\n",
       "         6.40000000e+01,  8.40000000e+01,  8.60000000e+01,  6.70000000e+01,\n",
       "         2.50000000e+01,  9.10000000e+01,  3.50000000e+01,  8.70000000e+01,\n",
       "         8.10000000e+01,  8.00000000e+00,  9.00000000e+00,  8.20000000e+01,\n",
       "         7.90000000e+01,  8.80000000e+01,  6.10000000e+01,  2.00000000e+00,\n",
       "         7.00000000e+00,  3.00000000e+01,  1.00000000e+02,  9.50000000e+01,\n",
       "         7.70000000e+01,  9.00000000e+00,  4.10000000e+01,  4.60000000e+01,\n",
       "         3.70000000e+01,  2.40000000e+01,  3.00000000e+00,  6.80000000e+01,\n",
       "         2.60000000e+01,  2.20000000e+01,  9.30000000e+01,  5.50000000e+01,\n",
       "         9.20000000e+01,  2.30000000e+01,  7.20000000e+01,  9.10000000e+01,\n",
       "         4.60000000e+01,  6.20000000e+01,  2.10000000e+01,  3.60000000e+01,\n",
       "         4.40000000e+01,  8.90000000e+01,  3.90000000e+01,  6.80000000e+01,\n",
       "         7.60000000e+01,  9.50000000e+01,  9.00000000e+00,  2.40000000e+01,\n",
       "         8.80000000e+01,  5.00000000e+00,  2.30000000e+01,  5.70000000e+01,\n",
       "         5.00000000e+01,  9.40000000e+01,  2.60000000e+01,  9.20000000e+01,\n",
       "         5.10000000e+01,  6.70000000e+01,  6.60000000e+01,  1.50000000e+01,\n",
       "         6.00000000e+01,  9.00000000e+01,  2.60000000e+01,  2.80000000e+01,\n",
       "         9.30000000e+01,  1.00000000e+02,  1.60000000e+01,  2.40000000e+01,\n",
       "         1.00000000e+00,  5.00000000e+01,  2.00000000e+00,  8.70000000e+01,\n",
       "         2.00000000e+00,  3.90000000e+01,  5.50000000e+01,  8.70000000e+01,\n",
       "         6.30000000e+01,  6.30000000e+01,  2.90000000e+01,  5.60000000e+01,\n",
       "         5.20000000e+01,  2.60000000e+01,  5.90000000e+01,  6.90000000e+01,\n",
       "         6.20000000e+01,  6.50000000e+01,  3.70000000e+01,  9.00000000e+01,\n",
       "        -3.26634100e-01, -2.75267762e-01, -7.16282605e-01, -6.25884527e-01,\n",
       "         1.20453034e+00,  1.18401361e+00,  1.49908293e+00,  3.30367559e-01,\n",
       "        -2.95124105e-01, -1.00790032e+00, -2.65769978e-01, -9.36154076e-02,\n",
       "         7.59717634e-01, -1.31065937e-01, -2.18950758e-01,  1.10038862e+00,\n",
       "         3.15600777e-01, -2.41081947e-01,  1.18381215e-01,  9.16170569e-01,\n",
       "                    nan, -2.45067754e-01,  1.09282080e+00,  1.58524294e+00,\n",
       "        -1.34432023e-01, -5.98062430e-01,  8.86163283e-02, -1.76017034e+00,\n",
       "         3.34699010e-02,  4.19907269e-01, -3.04914140e-01, -2.62220378e-02,\n",
       "        -1.40125439e-02, -1.02646605e+00, -1.70292060e-01, -2.55986596e-01,\n",
       "        -2.89549906e-02,  1.20840209e+00,  3.22871166e-01,  8.92385844e-02,\n",
       "         2.47174241e-01,  3.57029887e-02, -2.97270928e-01,  5.49207859e-01,\n",
       "         5.58159391e-01, -1.05708919e+00, -1.25869348e-01,  9.85046795e-01,\n",
       "        -2.10934593e-02,  2.26219534e-01, -1.34110094e+00,  3.28348247e-01,\n",
       "         6.90331445e-02, -2.44407039e-01,  4.05212419e-01, -5.43297030e-01,\n",
       "        -8.26834420e-01,  2.46092973e-02,  9.47584379e-01, -9.24942501e-01,\n",
       "         7.84589793e-01,  2.38469288e-01,  6.54342225e-01,  3.30032397e-01,\n",
       "         7.27368412e-01,  3.19936505e-01, -7.97872190e-01,  3.42160685e-01,\n",
       "        -1.19905113e-01, -5.77326570e-02, -9.97100688e-01, -2.81404734e-01,\n",
       "        -1.88100185e-01,  1.70129328e+00, -6.17636591e-01, -1.23134694e+00,\n",
       "        -1.73317518e-02, -1.67038220e+00, -1.05107748e+00,  2.28246051e-02,\n",
       "         1.44619478e+00, -1.32011918e+00,  5.49141830e-03, -1.23198316e+00,\n",
       "         1.88746309e-01, -3.50945175e-01,  3.24802030e-02,  8.77810997e-01,\n",
       "         2.61601105e-01, -2.01818823e-01,  3.02420619e-01, -3.16212335e-01,\n",
       "        -7.74853538e-01, -5.70011873e-02, -2.42181023e-01, -3.00808561e-02,\n",
       "         1.93721027e-01, -9.48970624e-01,  3.18116026e-01, -2.73511779e-01]),\n",
       " 234164: array([ 6.30000000e+01,  8.60000000e+01,  2.50000000e+01,  7.60000000e+01,\n",
       "         7.40000000e+01,  9.60000000e+01,  9.00000000e+01,  5.20000000e+01,\n",
       "         9.40000000e+01,  6.50000000e+01,  8.30000000e+01,  8.40000000e+01,\n",
       "         6.90000000e+01,  1.70000000e+01,  8.50000000e+01,  1.90000000e+01,\n",
       "         5.10000000e+01,  8.30000000e+01,  5.30000000e+01,  5.00000000e+00,\n",
       "         8.10000000e+01,  4.70000000e+01,  3.30000000e+01,  7.60000000e+01,\n",
       "         4.90000000e+01,  4.70000000e+01,  1.90000000e+01,  7.70000000e+01,\n",
       "         6.20000000e+01,  1.60000000e+01,  1.00000000e+02,  8.80000000e+01,\n",
       "         4.90000000e+01,  5.50000000e+01,  8.00000000e+01,  6.50000000e+01,\n",
       "         8.00000000e+00,  9.50000000e+01,  1.20000000e+01,  7.80000000e+01,\n",
       "         7.90000000e+01,  9.10000000e+01,  9.50000000e+01,  6.00000000e+00,\n",
       "         4.00000000e+01,  8.40000000e+01,  4.40000000e+01,  6.30000000e+01,\n",
       "         2.00000000e+00,  2.60000000e+01,  3.20000000e+01,  2.60000000e+01,\n",
       "         3.00000000e+00,  6.60000000e+01,  6.60000000e+01,  7.60000000e+01,\n",
       "         7.40000000e+01,  8.10000000e+01,  8.90000000e+01,  1.90000000e+01,\n",
       "         8.00000000e+01,  7.10000000e+01,  1.10000000e+01,  5.80000000e+01,\n",
       "         6.70000000e+01,  1.50000000e+01,  6.30000000e+01,  6.80000000e+01,\n",
       "         5.90000000e+01,  3.00000000e+01,  8.20000000e+01,  4.10000000e+01,\n",
       "         6.10000000e+01,  3.00000000e+00,  9.40000000e+01,  9.30000000e+01,\n",
       "         3.70000000e+01,  5.80000000e+01,  2.10000000e+01,  2.10000000e+01,\n",
       "         8.00000000e+00,  3.90000000e+01,  2.80000000e+01,  4.70000000e+01,\n",
       "         6.20000000e+01,  6.60000000e+01,  4.60000000e+01,  1.00000000e+01,\n",
       "         9.90000000e+01,  6.90000000e+01,  1.10000000e+01,  1.60000000e+01,\n",
       "         1.70000000e+01,  5.50000000e+01,  5.90000000e+01,  8.70000000e+01,\n",
       "         7.20000000e+01,  9.60000000e+01,  2.70000000e+01,  6.70000000e+01,\n",
       "        -8.97622282e-02,  5.71569785e-02, -1.26644764e+00, -3.66326354e-01,\n",
       "         6.42534688e-01,  5.13646534e-01, -9.27327445e-01,  1.75400425e-01,\n",
       "         4.31013686e-01, -3.66765813e-01,  2.77139948e-02,  4.69353872e-01,\n",
       "        -1.18795565e+00, -1.55848627e-02,  7.92170379e-02,  5.29753546e-01,\n",
       "        -6.09541554e-01, -4.40885252e-01,  1.96515568e-01,  2.36576581e-01,\n",
       "                    nan,  2.66444906e-01,  4.29310410e-01,  7.10839492e-01,\n",
       "         3.06934349e-01,  3.06108026e-01, -1.34042472e+00,  2.76408209e-01,\n",
       "         1.48753453e+00,  7.97368812e-01, -3.13183788e-01,  6.87903970e-01,\n",
       "        -1.13759092e-01,  6.33442290e-01, -4.77641015e-03, -1.61090826e-02,\n",
       "         1.29854662e-01,  3.67350902e-01,  5.42513610e-01, -3.45280629e-01,\n",
       "        -4.69053134e-01,  7.79344519e-02, -6.60729568e-01, -1.24917012e+00,\n",
       "         6.71437003e-01,  4.20365646e-01,  7.69793747e-01, -8.66325179e-01,\n",
       "         1.96291211e+00, -1.20224028e+00, -9.50820124e-01, -1.05340058e+00,\n",
       "        -1.08057840e+00,  3.11173396e-01, -3.59970613e-01, -1.61908898e-01,\n",
       "         6.92127663e-01,  3.79467105e-01,  6.03200740e-01, -1.75812238e-01,\n",
       "         5.45369018e-02,  2.98983465e-01,  1.93083266e-01,  4.34461162e-01,\n",
       "        -2.00413663e-01,  7.64089498e-01,  4.11899332e-01,  5.55927291e-01,\n",
       "         5.21062420e-02, -4.04604659e-01, -3.61664456e-01,  8.24664852e-01,\n",
       "         7.00078166e-01,  8.93579662e-01, -1.06774947e+00, -1.89235558e-01,\n",
       "        -1.20719715e-01,  4.21112073e-01, -3.45395068e-01, -1.79046078e-01,\n",
       "         3.69206447e-01,  1.16589509e-01,  5.24977678e-01, -1.86660162e-01,\n",
       "         3.16224356e-02,  7.17232593e-03, -1.34299195e+00, -5.85285215e-01,\n",
       "         2.31381372e-01,  7.90874596e-01,  4.68038372e-01,  1.03315925e+00,\n",
       "        -6.94637192e-01,  1.67462736e+00, -2.27808281e-01, -1.06902651e-01,\n",
       "         4.82954687e-01,  6.34672218e-01,  4.46542216e-01, -5.08593185e-01]),\n",
       " 314815: array([ 9.40000000e+01,  6.60000000e+01,  1.60000000e+01,  5.90000000e+01,\n",
       "         7.90000000e+01,  4.70000000e+01,  7.30000000e+01,  1.90000000e+01,\n",
       "         8.10000000e+01,  3.60000000e+01,  6.30000000e+01,  2.70000000e+01,\n",
       "         9.50000000e+01,  3.00000000e+01,  8.60000000e+01,  1.70000000e+01,\n",
       "         4.50000000e+01,  9.10000000e+01,  1.30000000e+01,  2.40000000e+01,\n",
       "         5.80000000e+01,  9.30000000e+01,  8.30000000e+01,  7.10000000e+01,\n",
       "         5.40000000e+01,  9.70000000e+01,  1.00000000e+00,  7.20000000e+01,\n",
       "         9.80000000e+01,  5.10000000e+01,  2.40000000e+01,  5.80000000e+01,\n",
       "         1.40000000e+01,  8.10000000e+01,  7.60000000e+01,  1.30000000e+01,\n",
       "         3.80000000e+01,  7.00000000e+00,  8.20000000e+01,  4.80000000e+01,\n",
       "         9.10000000e+01,  3.10000000e+01,  4.60000000e+01,  4.80000000e+01,\n",
       "         6.50000000e+01,  4.60000000e+01,  6.70000000e+01,  7.30000000e+01,\n",
       "         4.20000000e+01,  5.00000000e+00,  5.20000000e+01,  1.00000000e+02,\n",
       "         5.40000000e+01,  5.00000000e+01,  2.60000000e+01,  2.30000000e+01,\n",
       "         5.40000000e+01,  3.30000000e+01,  7.20000000e+01,  7.90000000e+01,\n",
       "         4.00000000e+00,  2.30000000e+01,  6.00000000e+01,  1.60000000e+01,\n",
       "         6.60000000e+01,  5.50000000e+01,  9.60000000e+01,  1.20000000e+01,\n",
       "         7.80000000e+01,  5.30000000e+01,  3.60000000e+01,  3.00000000e+01,\n",
       "         5.40000000e+01,  6.10000000e+01,  3.10000000e+01,  7.30000000e+01,\n",
       "         1.30000000e+01,  1.60000000e+01,  7.80000000e+01,  4.70000000e+01,\n",
       "         1.30000000e+01,  5.60000000e+01,  5.00000000e+01,  9.10000000e+01,\n",
       "         4.20000000e+01,  4.00000000e+01,  4.00000000e+01,  5.50000000e+01,\n",
       "         7.40000000e+01,  6.00000000e+00,  1.90000000e+01,  7.00000000e+00,\n",
       "         5.40000000e+01,  8.30000000e+01,  9.80000000e+01,  6.30000000e+01,\n",
       "         9.40000000e+01,  5.50000000e+01,  6.60000000e+01,  3.60000000e+01,\n",
       "         6.61042231e-01, -6.65349148e-01,  1.83428593e-01, -2.80652914e-01,\n",
       "        -8.17676277e-01,  1.12183652e-01, -1.25414820e+00, -5.79617338e-01,\n",
       "         1.00469710e-01, -1.72038938e+00,  7.10900664e-01, -4.42867687e-01,\n",
       "        -5.22272178e-02, -7.68083933e-01, -2.16915829e-01, -1.08270126e-01,\n",
       "         6.72766651e-02, -2.31454997e-01, -9.24784756e-01,  6.55606300e-01,\n",
       "         1.11093028e+00, -6.51127402e-01, -4.39001042e-01, -1.73842723e-01,\n",
       "         3.27546975e-01, -1.58076404e+00, -2.81136893e-01,  4.20894158e-01,\n",
       "        -1.00931255e+00,  5.05480821e-01,  4.43909612e-01,  5.81154891e-01,\n",
       "         8.04826714e-01, -5.92816960e-02,  1.71551938e-01,  5.18109462e-03,\n",
       "        -1.03900397e+00, -6.36145080e-01,  4.57449064e-01, -3.97773000e-01,\n",
       "         3.36851014e-01, -1.91608051e-01,  6.23690914e-01,  4.01101797e-01,\n",
       "        -3.63424187e-01,  1.36200859e+00,  7.87781729e-01,  1.81198065e-01,\n",
       "        -3.57195071e-01,  3.93275035e-01, -4.43706502e-01, -8.41717373e-01,\n",
       "         3.77314198e-02,  9.22828882e-01, -6.84675155e-01,  3.71113700e-02,\n",
       "         5.10024380e-01,  1.02267064e+00,  1.13957196e+00, -8.72275180e-01,\n",
       "        -5.48269120e-01,  1.47611296e+00,  7.61777372e-01,  7.71147937e-01,\n",
       "        -3.16967614e-01, -8.86803183e-01,  5.83803748e-01,  7.74982901e-01,\n",
       "         1.45386478e+00, -6.24788182e-01, -2.42210441e-01,  1.04647807e-01,\n",
       "        -5.22467387e-01, -3.63116596e-01,             nan,  9.70503198e-02,\n",
       "        -1.06645148e+00,  6.14888845e-01,  7.53094424e-01, -9.44597348e-01,\n",
       "         1.34173792e+00, -1.16777933e+00,  1.34631548e+00, -4.50221495e-01,\n",
       "        -5.47580548e-02, -8.77316937e-01,  1.06874440e-01, -1.32243714e+00,\n",
       "         8.15500659e-01,  9.70667970e-01,  7.02038910e-01,  8.00021081e-01,\n",
       "         4.23878044e-01,  1.40542111e+00,  1.51291095e-01,  4.93799437e-01,\n",
       "        -1.63102190e-01,  1.05799470e+00, -1.00369971e+00,  6.02783045e-01]),\n",
       " 329817: array([ 5.80000000e+01,  2.60000000e+01,  2.80000000e+01,  1.30000000e+01,\n",
       "         7.30000000e+01,  1.10000000e+01,  7.20000000e+01,  8.60000000e+01,\n",
       "         8.60000000e+01,  6.40000000e+01,  6.20000000e+01,  7.90000000e+01,\n",
       "         9.80000000e+01,  2.00000000e+00,  8.40000000e+01,  4.00000000e+01,\n",
       "         8.30000000e+01,  2.50000000e+01,  8.80000000e+01,  4.10000000e+01,\n",
       "         8.70000000e+01,  1.90000000e+01,  8.90000000e+01,  7.00000000e+01,\n",
       "         6.00000000e+00,  7.60000000e+01,  1.00000000e+00,  5.30000000e+01,\n",
       "         3.20000000e+01,  6.30000000e+01,  3.00000000e+00,  6.60000000e+01,\n",
       "         3.60000000e+01,  3.00000000e+00,  4.50000000e+01,  5.90000000e+01,\n",
       "         4.30000000e+01,  1.30000000e+01,  2.00000000e+00,  1.70000000e+01,\n",
       "         2.00000000e+00,  2.10000000e+01,  4.30000000e+01,  7.60000000e+01,\n",
       "         9.90000000e+01,  8.00000000e+00,  2.30000000e+01,  7.30000000e+01,\n",
       "         5.70000000e+01,  2.10000000e+01,  3.00000000e+01,  1.10000000e+01,\n",
       "         9.80000000e+01,  4.00000000e+00,  1.40000000e+01,  3.30000000e+01,\n",
       "         7.60000000e+01,  3.60000000e+01,  3.30000000e+01,  1.00000000e+00,\n",
       "         5.00000000e+00,  1.80000000e+01,  7.90000000e+01,  5.80000000e+01,\n",
       "         4.60000000e+01,  2.00000000e+01,  7.50000000e+01,  9.90000000e+01,\n",
       "         5.10000000e+01,  2.50000000e+01,  3.00000000e+00,  8.10000000e+01,\n",
       "         5.80000000e+01,  4.80000000e+01,  4.10000000e+01,  5.10000000e+01,\n",
       "         2.50000000e+01,  3.00000000e+00,  6.00000000e+01,  6.20000000e+01,\n",
       "         1.50000000e+01,  2.90000000e+01,  8.50000000e+01,  4.10000000e+01,\n",
       "         3.20000000e+01,  7.40000000e+01,  3.70000000e+01,  8.00000000e+00,\n",
       "         8.90000000e+01,  4.60000000e+01,  5.80000000e+01,  4.50000000e+01,\n",
       "         8.40000000e+01,  9.10000000e+01,  4.30000000e+01,  4.20000000e+01,\n",
       "         2.70000000e+01,  3.30000000e+01,  7.60000000e+01,  3.90000000e+01,\n",
       "         1.34584354e-01, -5.11085740e-01, -6.33472232e-01, -2.05763610e-01,\n",
       "         8.17929759e-02, -3.81939276e-01, -1.11466462e+00, -2.15054302e-01,\n",
       "        -9.11000250e-02,  7.76828572e-01,  9.80231030e-01,  3.07251409e-01,\n",
       "        -6.19354102e-01,  6.01669159e-02, -5.65753692e-01,  2.05469293e-01,\n",
       "        -4.64375058e-02,  1.49545172e+00,  4.14842841e-01,  2.88851636e-01,\n",
       "         9.63453593e-01,  1.56355803e-01, -8.98604087e-01, -5.39323286e-01,\n",
       "         2.21540347e-01, -4.81124553e-01, -2.78982586e-01, -7.45708920e-01,\n",
       "         7.58118791e-01,  3.41786757e-01, -6.04413515e-01,  4.91221284e-01,\n",
       "         2.73755949e-01, -5.01479890e-01, -8.86509788e-01,  2.01975885e-02,\n",
       "         6.01142409e-01,  1.35017416e-01,  1.11488402e+00, -1.06116206e-01,\n",
       "         3.18643119e-02,  7.00109268e-01,  9.22760039e-01, -3.48419465e-01,\n",
       "        -2.80239040e-01,  3.16251400e-01, -1.29441215e+00,  1.79030708e-01,\n",
       "        -7.15878636e-01,  4.95160463e-01, -1.01235886e+00,  1.17682884e+00,\n",
       "        -3.26643338e-01, -4.20269331e-01,  1.82457262e-01,  3.00069646e-01,\n",
       "        -8.00628754e-01, -1.26222114e+00, -2.77885877e-01,  3.72249611e-02,\n",
       "         2.48498049e-01, -1.86104057e-01, -1.05698806e+00,  4.46534198e-01,\n",
       "        -9.49082352e-01, -6.93551789e-01,  2.58988953e-01, -7.78464074e-01,\n",
       "        -1.08400600e-01, -5.23556385e-01,  1.81391368e-02, -3.73656054e-01,\n",
       "         1.91398721e-01,  4.30723537e-01,  6.65516834e-01, -5.75534023e-01,\n",
       "         2.77406401e-01, -7.37546807e-01,  2.14669429e-01,  2.30938215e-01,\n",
       "        -8.39029747e-01, -2.69552562e-01,  9.55645295e-01, -2.45220932e-01,\n",
       "         2.30300807e-01, -6.65823318e-01,  2.18498513e-01,  7.43768989e-01,\n",
       "        -1.42698828e+00, -6.58311694e-02,  2.36481045e-01, -1.06474520e-01,\n",
       "        -5.59523992e-01, -5.95578377e-01, -1.46982822e-01,             nan,\n",
       "         4.77743210e-01,  6.00663667e-01,  1.02357237e+00,  5.48510267e-01]),\n",
       " 344893: array([ 4.80000000e+01,  4.10000000e+01,  8.30000000e+01,  4.40000000e+01,\n",
       "         8.60000000e+01,  5.10000000e+01,  5.10000000e+01,  5.80000000e+01,\n",
       "         5.90000000e+01,  1.10000000e+01,  3.70000000e+01,  2.00000000e+01,\n",
       "         8.70000000e+01,  9.40000000e+01,  8.50000000e+01,  3.00000000e+00,\n",
       "         7.30000000e+01,  4.50000000e+01,  5.50000000e+01,  4.10000000e+01,\n",
       "         7.20000000e+01,  1.00000000e+02,  2.20000000e+01,  8.80000000e+01,\n",
       "         3.10000000e+01,  1.10000000e+01,  2.30000000e+01,  9.20000000e+01,\n",
       "         4.30000000e+01,  1.00000000e+01,  9.50000000e+01,  9.00000000e+00,\n",
       "         3.90000000e+01,  9.00000000e+01,  1.20000000e+01,  6.80000000e+01,\n",
       "         5.00000000e+00,  5.50000000e+01,  5.00000000e+00,  1.00000000e+00,\n",
       "         2.80000000e+01,  4.30000000e+01,  1.50000000e+01,  7.50000000e+01,\n",
       "         2.70000000e+01,  6.70000000e+01,  9.90000000e+01,  1.60000000e+01,\n",
       "         5.80000000e+01,  2.90000000e+01,  5.50000000e+01,  3.10000000e+01,\n",
       "         2.10000000e+01,  9.10000000e+01,  9.20000000e+01,  7.10000000e+01,\n",
       "         3.00000000e+01,  8.70000000e+01,  5.50000000e+01,  1.10000000e+01,\n",
       "         5.30000000e+01,  3.20000000e+01,  8.00000000e+00,  6.70000000e+01,\n",
       "         9.50000000e+01,  7.40000000e+01,  6.30000000e+01,  2.70000000e+01,\n",
       "         1.40000000e+01,  3.00000000e+00,  3.60000000e+01,  1.20000000e+01,\n",
       "         2.80000000e+01,  8.20000000e+01,  3.10000000e+01,  1.90000000e+01,\n",
       "         6.00000000e+00,  5.50000000e+01,  8.10000000e+01,  3.50000000e+01,\n",
       "         8.30000000e+01,  3.00000000e+01,  7.00000000e+00,  4.10000000e+01,\n",
       "         1.50000000e+01,  6.20000000e+01,  1.80000000e+01,  7.00000000e+01,\n",
       "         4.80000000e+01,  7.90000000e+01,  8.70000000e+01,  3.80000000e+01,\n",
       "         8.30000000e+01,  4.70000000e+01,  8.80000000e+01,  6.60000000e+01,\n",
       "         9.30000000e+01,  9.80000000e+01,  1.00000000e+02,  2.90000000e+01,\n",
       "        -4.57293709e-01,  1.00039527e+00,  1.22792427e-01, -7.47200904e-01,\n",
       "        -6.79480432e-02,  1.09513499e+00,  2.16160032e-01, -3.03142513e-01,\n",
       "        -2.52235672e-01, -1.21049455e-01, -7.36675775e-01, -1.18983369e+00,\n",
       "         2.51363784e-01, -1.80703608e-01,  8.46155483e-02, -2.98370836e-01,\n",
       "        -6.61256408e-01,  4.56276195e-01, -7.91092203e-01,  2.96880397e-01,\n",
       "         1.80618242e-01,  2.02232725e-01, -1.19719195e+00, -2.17374018e-01,\n",
       "         5.98817784e-01, -3.60181080e-01,  1.74204719e-02,  4.73805085e-01,\n",
       "        -1.18210849e+00,  1.03066918e+00,  8.60762897e-01,  1.48225196e+00,\n",
       "        -1.20417279e+00,  8.39300666e-01,  1.09398161e+00,  1.30377719e-01,\n",
       "         1.52922697e-01, -1.01168342e+00,  6.19491051e-01, -1.39282280e+00,\n",
       "        -3.34898229e-01,  1.29443638e+00,  1.60261899e-01,  7.49111873e-01,\n",
       "        -1.83068261e-01,  4.40417783e-01, -7.53494071e-01,  2.87420937e-01,\n",
       "         3.05230908e-01, -1.59324606e-02, -1.96676419e-01,  1.05864037e-01,\n",
       "        -1.32739358e+00, -1.32606552e-01, -6.94024052e-02, -2.16637004e-01,\n",
       "        -8.73070211e-01, -1.29012233e-01,  2.96372436e-03,  3.66597587e-01,\n",
       "         5.97065397e-01,  6.05134938e-01,  3.04815479e-01,  5.70915095e-02,\n",
       "        -7.36116087e-01,  1.10606590e+00,  4.07520216e-01,  5.09317848e-02,\n",
       "         3.73228075e-01,  8.16591882e-01, -2.38002559e-01,  8.19289581e-02,\n",
       "         5.62734275e-02,  7.74101285e-02,             nan,  4.05707162e-01,\n",
       "         4.63962035e-01,  1.76370727e-01, -2.56135462e-01, -1.12878559e-01,\n",
       "        -1.56395748e+00, -9.84103058e-01, -6.62501857e-01, -2.36909548e-01,\n",
       "         7.78424218e-02,  3.84485831e-01,  4.70282642e-01,  5.87144566e-01,\n",
       "         3.28445220e-01, -3.88614442e-02, -3.07599307e-01, -3.71664204e-01,\n",
       "        -3.77958581e-01, -8.08729759e-01,  4.96321930e-02,  6.36403762e-01,\n",
       "         7.29500974e-01, -1.58258965e+00, -7.43968386e-01, -1.51265412e-01]),\n",
       " 348131: array([ 4.70000000e+01,  5.80000000e+01,  8.00000000e+00,  4.00000000e+01,\n",
       "         1.60000000e+01,  8.90000000e+01,  6.20000000e+01,  1.80000000e+01,\n",
       "         6.10000000e+01,  4.50000000e+01,  1.20000000e+01,  8.70000000e+01,\n",
       "         1.80000000e+01,  7.80000000e+01,  1.70000000e+01,  4.40000000e+01,\n",
       "         9.10000000e+01,  1.30000000e+01,  1.00000000e+01,  4.90000000e+01,\n",
       "         1.20000000e+01,  4.70000000e+01,  3.40000000e+01,  1.00000000e+01,\n",
       "         8.30000000e+01,  3.40000000e+01,  7.60000000e+01,  8.00000000e+00,\n",
       "         3.60000000e+01,  7.00000000e+00,  2.90000000e+01,  7.60000000e+01,\n",
       "         2.10000000e+01,  2.10000000e+01,  8.40000000e+01,  8.30000000e+01,\n",
       "         2.00000000e+01,  1.90000000e+01,  6.70000000e+01,  3.20000000e+01,\n",
       "         7.40000000e+01,  6.00000000e+00,  2.90000000e+01,  3.60000000e+01,\n",
       "         8.00000000e+00,  9.90000000e+01,  7.40000000e+01,  5.40000000e+01,\n",
       "         4.80000000e+01,  4.50000000e+01,  4.10000000e+01,  6.70000000e+01,\n",
       "         1.00000000e+00,  5.70000000e+01,  9.20000000e+01,  5.60000000e+01,\n",
       "         4.00000000e+01,  1.00000000e+02,  5.20000000e+01,  7.30000000e+01,\n",
       "         1.70000000e+01,  4.60000000e+01,  7.70000000e+01,  4.40000000e+01,\n",
       "         9.80000000e+01,  7.50000000e+01,  3.00000000e+01,  9.30000000e+01,\n",
       "         1.90000000e+01,  2.10000000e+01,  4.80000000e+01,  4.30000000e+01,\n",
       "         2.10000000e+01,  9.30000000e+01,  1.40000000e+01,  8.10000000e+01,\n",
       "         8.30000000e+01,  9.00000000e+01,  1.80000000e+01,  3.00000000e+00,\n",
       "         9.80000000e+01,  4.90000000e+01,  5.50000000e+01,  9.00000000e+00,\n",
       "         6.90000000e+01,  6.40000000e+01,  2.00000000e+00,  4.40000000e+01,\n",
       "         6.30000000e+01,  5.80000000e+01,  9.30000000e+01,  2.50000000e+01,\n",
       "         1.60000000e+01,  7.90000000e+01,  6.80000000e+01,  4.20000000e+01,\n",
       "         4.30000000e+01,  1.70000000e+01,  3.40000000e+01,  5.00000000e+00,\n",
       "         3.89979855e-01,  3.36515978e-01, -7.12063288e-01, -7.95498856e-01,\n",
       "        -1.47458156e-01, -1.58184234e-01,  7.95272507e-01,  7.86393947e-02,\n",
       "        -5.54316149e-01,  7.02905312e-01,  6.13157987e-01, -9.57286291e-02,\n",
       "        -7.65336536e-01,  8.95050250e-01,  7.55039972e-01, -4.12196151e-01,\n",
       "        -1.86075455e-01, -3.02308343e-01, -1.31489358e-01, -6.44836126e-01,\n",
       "         8.26892598e-01,  2.68637343e-01, -3.11448983e-01,  7.26084285e-01,\n",
       "        -2.26055562e-01,  6.18922293e-01, -9.82669576e-01, -9.61772420e-01,\n",
       "        -6.89746716e-01, -1.94837046e-01,  1.71236881e-01, -3.72700864e-01,\n",
       "         1.66492758e+00, -1.38332524e+00, -9.56189667e-02,  6.83757838e-02,\n",
       "         7.36051490e-01,  4.08795035e-01, -2.69902736e-01, -4.48471733e-01,\n",
       "        -1.65385016e-01, -1.23124662e+00, -4.29462582e-01,  8.30009769e-01,\n",
       "        -4.32833434e-01,  7.17807710e-01,  2.41286649e-01,  1.27423302e+00,\n",
       "        -5.86331288e-01, -4.14684559e-01,  1.79509677e-01, -4.22289834e-01,\n",
       "        -6.37028512e-01,  7.19984480e-01, -8.35846164e-02, -3.22301206e-01,\n",
       "        -1.42164483e-01,  1.05125450e+00, -9.03956085e-01, -2.78889994e-01,\n",
       "         1.41096839e+00,  4.16788309e-01, -8.16018276e-01,  9.74149869e-01,\n",
       "         9.23393756e-01,  1.50943404e-01,  2.08736495e-01, -4.91087873e-01,\n",
       "         5.74494921e-01, -2.01416199e-01,  8.67526624e-01,  1.55525768e+00,\n",
       "         3.80725638e-01, -5.71904194e-01,  8.31589154e-02, -1.16568599e+00,\n",
       "        -3.32442934e-01, -1.10991429e+00,  7.74305439e-01,  2.65515004e-01,\n",
       "        -3.69381092e-01,  9.10797146e-01,  2.13014511e+00,  1.99571942e-01,\n",
       "        -8.47684501e-01,  8.76951325e-02,  3.11239355e-01,  2.11931047e-01,\n",
       "         2.56240851e-01, -7.19503386e-01, -1.34442797e+00,  2.85755742e-01,\n",
       "        -1.25322718e-01,  4.86635208e-01,  1.84407584e-01,             nan,\n",
       "         6.97753283e-01,  9.36779873e-01,  3.55528200e-01,  2.50786660e-01]),\n",
       " 350202: array([ 5.70000000e+01,  5.60000000e+01,  7.20000000e+01,  6.00000000e+01,\n",
       "         3.00000000e+01,  3.90000000e+01,  5.90000000e+01,  5.90000000e+01,\n",
       "         6.70000000e+01,  1.80000000e+01,  5.50000000e+01,  8.40000000e+01,\n",
       "         5.00000000e+01,  3.20000000e+01,  1.00000000e+02,  9.90000000e+01,\n",
       "         1.00000000e+01,  2.00000000e+01,  9.70000000e+01,  4.30000000e+01,\n",
       "         7.20000000e+01,  1.20000000e+01,  1.60000000e+01,  2.00000000e+01,\n",
       "         5.70000000e+01,  2.00000000e+00,  2.80000000e+01,  6.40000000e+01,\n",
       "         9.30000000e+01,  1.70000000e+01,  6.70000000e+01,  6.10000000e+01,\n",
       "         2.10000000e+01,  1.70000000e+01,  2.20000000e+01,  1.80000000e+01,\n",
       "         1.70000000e+01,  9.70000000e+01,  1.00000000e+00,  8.80000000e+01,\n",
       "         4.40000000e+01,  8.60000000e+01,  2.50000000e+01,  6.90000000e+01,\n",
       "         7.00000000e+00,  1.60000000e+01,  2.20000000e+01,  4.40000000e+01,\n",
       "         6.30000000e+01,  6.20000000e+01,  7.10000000e+01,  8.50000000e+01,\n",
       "         1.70000000e+01,  7.10000000e+01,  5.10000000e+01,  9.90000000e+01,\n",
       "         9.00000000e+01,  7.00000000e+01,  4.20000000e+01,  3.20000000e+01,\n",
       "         1.20000000e+01,  9.10000000e+01,  1.30000000e+01,  5.70000000e+01,\n",
       "         4.40000000e+01,  8.00000000e+01,  2.10000000e+01,  1.40000000e+01,\n",
       "         1.10000000e+01,  9.30000000e+01,  8.90000000e+01,  7.10000000e+01,\n",
       "         1.00000000e+01,  8.50000000e+01,  2.70000000e+01,  8.50000000e+01,\n",
       "         1.50000000e+01,  3.30000000e+01,  4.10000000e+01,  8.00000000e+01,\n",
       "         8.20000000e+01,  3.40000000e+01,  1.00000000e+02,  3.00000000e+01,\n",
       "         4.70000000e+01,  4.00000000e+01,  8.50000000e+01,  3.20000000e+01,\n",
       "         7.90000000e+01,  9.40000000e+01,  9.60000000e+01,  7.80000000e+01,\n",
       "         8.30000000e+01,  8.40000000e+01,  9.60000000e+01,  4.20000000e+01,\n",
       "         1.50000000e+01,  3.30000000e+01,  6.00000000e+01,  8.20000000e+01,\n",
       "        -7.22777182e-01,  3.72061909e-01, -7.73009742e-01,  1.39939986e+00,\n",
       "         1.13418465e-02,  5.73436794e-01, -1.45810978e+00, -1.09845684e-01,\n",
       "        -2.09369401e-01,  7.89220869e-01,  4.46070912e-01,  4.79246674e-01,\n",
       "        -4.23366587e-01,  7.81390077e-01,  5.13314026e-01, -1.03030156e-01,\n",
       "        -2.84521577e-01,  9.14607682e-01,  4.49982147e-01, -5.41153713e-01,\n",
       "         1.83822526e-01,  2.52056333e-01, -6.52398961e-01, -4.32486619e-01,\n",
       "         7.78684930e-01,  9.41403437e-01,  8.66040106e-01, -1.22274761e+00,\n",
       "         4.05798465e-02, -5.07183150e-01,  5.67701447e-01, -1.92658883e+00,\n",
       "         1.55265215e+00, -1.73361717e-01,  1.38565101e+00,  8.84325807e-01,\n",
       "        -2.19297762e-01,  6.83031593e-01,  1.05022362e+00,  7.85858099e-01,\n",
       "         5.16124028e-01, -2.74641994e-01,  8.34697319e-01, -8.05101072e-02,\n",
       "        -3.52278720e-03, -3.39094620e-01,  5.68719125e-01, -1.48179042e-01,\n",
       "        -4.84755859e-01,  2.25626452e-01, -1.53083288e+00,  1.43592813e-01,\n",
       "         1.84051837e-01, -2.84287355e-01, -4.06188097e-01,  1.52112585e-01,\n",
       "         1.16016771e+00,  3.05381415e-01, -1.17441111e-01,  7.69480563e-01,\n",
       "         2.51885444e-02,  1.38725500e+00, -6.44422254e-01,  3.19204747e-01,\n",
       "        -3.42169190e-01,  4.42606772e-01, -1.36350014e+00,  1.95805698e-01,\n",
       "        -7.90730000e-01,  5.74893308e-01,  1.89887519e+00,  3.91672271e-01,\n",
       "         5.17969043e-01, -3.24280318e-01, -2.39094826e-01,  4.58842196e-01,\n",
       "         3.20940408e-02,  6.64683642e-01,  1.09305114e-01, -1.05210324e+00,\n",
       "        -3.53847144e-01, -7.22771081e-01,  1.21048379e+00, -3.61426605e-01,\n",
       "        -6.84394140e-01, -8.50681127e-01, -1.01001773e+00, -2.23065812e+00,\n",
       "        -6.66601642e-01, -1.14190598e+00, -7.46937919e-01,  5.30371725e-02,\n",
       "        -3.82455376e-01, -3.10376158e-01, -4.71725368e-01,             nan,\n",
       "         2.10113206e-01,  5.91264366e-01,  5.25239932e-01, -6.10245330e-01]),\n",
       " 357178: array([ 8.10000000e+01,  2.30000000e+01,  3.00000000e+01,  4.30000000e+01,\n",
       "         1.00000000e+00,  9.00000000e+00,  9.30000000e+01,  4.70000000e+01,\n",
       "         8.00000000e+01,  6.50000000e+01,  2.70000000e+01,  2.60000000e+01,\n",
       "         8.00000000e+00,  8.80000000e+01,  2.70000000e+01,  8.70000000e+01,\n",
       "         3.40000000e+01,  4.60000000e+01,  7.50000000e+01,  2.00000000e+00,\n",
       "         5.60000000e+01,  3.00000000e+00,  3.30000000e+01,  9.60000000e+01,\n",
       "         1.70000000e+01,  9.00000000e+00,  9.90000000e+01,  5.70000000e+01,\n",
       "         1.80000000e+01,  5.00000000e+00,  3.00000000e+01,  4.90000000e+01,\n",
       "         8.00000000e+01,  3.70000000e+01,  8.90000000e+01,  9.30000000e+01,\n",
       "         4.70000000e+01,  8.80000000e+01,  8.50000000e+01,  1.80000000e+01,\n",
       "         4.60000000e+01,  2.30000000e+01,  2.40000000e+01,  3.00000000e+01,\n",
       "         9.10000000e+01,  6.00000000e+00,  4.60000000e+01,  8.40000000e+01,\n",
       "         2.90000000e+01,  7.70000000e+01,  9.70000000e+01,  6.50000000e+01,\n",
       "         8.70000000e+01,  6.50000000e+01,  2.60000000e+01,  6.00000000e+01,\n",
       "         9.30000000e+01,  4.20000000e+01,  7.10000000e+01,  2.10000000e+01,\n",
       "         4.30000000e+01,  9.10000000e+01,  2.20000000e+01,  6.10000000e+01,\n",
       "         2.80000000e+01,  9.90000000e+01,  3.60000000e+01,  5.60000000e+01,\n",
       "         5.00000000e+00,  1.10000000e+01,  2.70000000e+01,  3.70000000e+01,\n",
       "         3.70000000e+01,  2.00000000e+01,  4.10000000e+01,  8.10000000e+01,\n",
       "         6.60000000e+01,  1.70000000e+01,  5.20000000e+01,  8.50000000e+01,\n",
       "         5.60000000e+01,  8.00000000e+00,  1.80000000e+01,  4.40000000e+01,\n",
       "         2.30000000e+01,  9.00000000e+01,  6.50000000e+01,  2.80000000e+01,\n",
       "         6.30000000e+01,  8.40000000e+01,  3.30000000e+01,  5.80000000e+01,\n",
       "         5.60000000e+01,  2.50000000e+01,  3.40000000e+01,  2.20000000e+01,\n",
       "         4.10000000e+01,  9.70000000e+01,  7.30000000e+01,  1.00000000e+01,\n",
       "        -2.65869016e-01,  2.38649154e-01,  5.74740609e-01, -4.70255860e-01,\n",
       "         3.83083191e-01, -8.51299567e-01,  8.90236983e-01,  1.67804768e-01,\n",
       "        -1.23233229e+00, -3.61134653e-01, -1.60440111e-01,  9.77077136e-01,\n",
       "         7.36598493e-01, -3.00353492e-01, -4.02002204e-01, -7.65253750e-01,\n",
       "        -4.68982203e-01, -6.31274865e-01,  3.78784472e-01,  1.61275711e-01,\n",
       "        -3.09700617e-01,  9.21314899e-01,  4.19094235e-01,  7.84404407e-01,\n",
       "         5.89409514e-01,  4.80699938e-01,  5.01059550e-01, -4.98434626e-01,\n",
       "         3.86264177e-01,  6.30031284e-01, -5.67761999e-01,  2.63017116e-01,\n",
       "        -7.37756830e-01, -9.41224354e-01, -1.27929196e-01,  2.02501439e-01,\n",
       "         4.72503883e-01, -3.63185696e-01, -1.73519807e-01, -5.75648108e-01,\n",
       "         4.38200639e-01, -1.09944219e-01,  9.58621629e-01,  3.53849038e-02,\n",
       "         4.42742337e-01,  5.64656061e-01,  1.46339584e+00, -3.57447104e-01,\n",
       "         5.46314017e-01,  1.11466389e+00,  1.77737425e+00,  9.82760125e-01,\n",
       "        -9.79819754e-02,  4.31282134e-01, -6.84474444e-01, -1.40986980e+00,\n",
       "         5.19845378e-01, -7.71854537e-02,  5.14371620e-01,  5.84534552e-01,\n",
       "        -5.16731418e-01,  1.43103065e+00,  4.96888888e-02,  1.12455597e-01,\n",
       "         4.29584589e-01,  2.58967644e-02,  7.80469672e-01,             nan,\n",
       "        -1.55434200e-01,  1.25378676e+00,  1.39997782e-02,  4.31752916e-01,\n",
       "        -6.65580479e-01, -4.72112577e-02,  6.63394703e-01, -1.13037299e+00,\n",
       "         1.17704646e+00,  8.51692298e-01,  8.77133678e-01,  1.22167669e-01,\n",
       "         1.00032216e+00,  4.00602716e-01, -5.19895378e-01,  7.13814505e-01,\n",
       "        -9.89198878e-01,  7.81277876e-01, -8.03692437e-01,  1.39807177e+00,\n",
       "         2.57320623e-01, -5.57901877e-01, -5.14272718e-01,  2.75106391e+00,\n",
       "         8.45321147e-01,  7.83504571e-01,  1.60039640e+00, -3.25627589e-01,\n",
       "         1.06428148e+00, -4.29907681e-01, -5.39682427e-02,  1.39633229e+00]),\n",
       " 405041: array([ 9.50000000e+01,  8.90000000e+01,  2.10000000e+01,  3.00000000e+00,\n",
       "         3.00000000e+01,  8.00000000e+00,  5.80000000e+01,  9.50000000e+01,\n",
       "         3.20000000e+01,  6.30000000e+01,  5.80000000e+01,  6.40000000e+01,\n",
       "         1.40000000e+01,  4.50000000e+01,  3.20000000e+01,  9.60000000e+01,\n",
       "         6.70000000e+01,  7.60000000e+01,  2.10000000e+01,  9.20000000e+01,\n",
       "         8.40000000e+01,  2.90000000e+01,  5.00000000e+01,  6.80000000e+01,\n",
       "         9.40000000e+01,  4.30000000e+01,  9.10000000e+01,  2.00000000e+00,\n",
       "         1.90000000e+01,  8.00000000e+01,  4.00000000e+00,  1.90000000e+01,\n",
       "         7.00000000e+01,  7.80000000e+01,  7.30000000e+01,  6.00000000e+01,\n",
       "         1.00000000e+02,  8.00000000e+00,  6.20000000e+01,  3.40000000e+01,\n",
       "         9.80000000e+01,  4.30000000e+01,  1.00000000e+01,  8.40000000e+01,\n",
       "         5.10000000e+01,  3.60000000e+01,  7.80000000e+01,  9.40000000e+01,\n",
       "         5.70000000e+01,  7.90000000e+01,  1.90000000e+01,  4.40000000e+01,\n",
       "         7.40000000e+01,  5.80000000e+01,  1.50000000e+01,  1.60000000e+01,\n",
       "         8.60000000e+01,  2.00000000e+01,  2.30000000e+01,  1.90000000e+01,\n",
       "         5.30000000e+01,  1.50000000e+01,  7.70000000e+01,  9.30000000e+01,\n",
       "         8.30000000e+01,  7.20000000e+01,  7.90000000e+01,  2.90000000e+01,\n",
       "         9.00000000e+01,  8.80000000e+01,  5.50000000e+01,  5.00000000e+01,\n",
       "         7.30000000e+01,  3.50000000e+01,  4.70000000e+01,  4.00000000e+00,\n",
       "         7.40000000e+01,  8.90000000e+01,  6.60000000e+01,  7.50000000e+01,\n",
       "         2.90000000e+01,  9.30000000e+01,  8.60000000e+01,  1.00000000e+02,\n",
       "         5.90000000e+01,  6.60000000e+01,  7.80000000e+01,  7.50000000e+01,\n",
       "         1.90000000e+01,  1.90000000e+01,  4.20000000e+01,  5.30000000e+01,\n",
       "         5.90000000e+01,  3.30000000e+01,  7.00000000e+00,  6.10000000e+01,\n",
       "         6.20000000e+01,  8.70000000e+01,  2.20000000e+01,  1.80000000e+01,\n",
       "         2.35721094e-01, -1.28173273e-01,  6.02863910e-01, -1.00881710e-01,\n",
       "         1.66561850e-02, -3.77581813e-01,  2.55789904e-02,  2.92099750e-01,\n",
       "        -1.17469511e-01,  1.80745847e+00,  2.67605681e-01,  1.21354754e+00,\n",
       "        -2.80762063e-02, -4.95851356e-01,  8.92060032e-01, -8.47506882e-02,\n",
       "        -7.36210070e-01,  4.11119600e-01,  4.80556741e-01, -1.42847332e+00,\n",
       "         2.13227342e-01, -1.13954326e+00,             nan, -9.86838077e-01,\n",
       "        -1.26835697e+00,  6.69421196e-01,  1.49355516e+00, -1.71831173e+00,\n",
       "        -1.39281473e+00,  4.82103446e-01,  5.38748421e-01,  5.17749965e-01,\n",
       "        -3.22471220e-01,  1.06021795e+00,  9.28588863e-01,  1.43409175e+00,\n",
       "         1.86190830e-01, -1.13492351e+00,  6.30598920e-01, -7.27872329e-03,\n",
       "        -1.08459366e+00,  1.30915671e+00,  4.55370743e-01, -5.17899962e-01,\n",
       "         8.18503508e-01, -3.60675491e-01,  1.08447856e-01, -4.07747476e-01,\n",
       "        -7.30207510e-01,  4.28940623e-03,  2.20883907e-02, -1.24973631e-01,\n",
       "         1.33642195e-01,  3.50020611e-01,  6.67585307e-03, -3.95728664e-01,\n",
       "        -6.19421752e-01, -7.02084124e-01, -7.86664431e-01, -1.87313429e-01,\n",
       "         5.98413895e-01,  1.48233666e-01, -8.20350837e-01,  5.31534594e-01,\n",
       "        -1.26722588e+00, -3.73690503e-01, -4.20519960e-01,  4.98483696e-01,\n",
       "         1.49223323e+00,  4.51248210e-01,  1.36322353e+00, -4.67812640e-01,\n",
       "         6.46205309e-02,  9.78424195e-02,  2.24625844e-01, -1.06957852e+00,\n",
       "        -7.21792302e-02, -8.38199062e-02, -5.26799927e-02,  5.05620112e-01,\n",
       "         1.75973140e-01,  1.24536758e-01, -1.46662712e-01,  7.52807087e-01,\n",
       "        -1.35925792e+00,  6.11581884e-03,  1.78751767e+00,  1.76438808e+00,\n",
       "         1.87547643e-01, -2.90064661e-01, -5.96017568e-02,  2.84221298e-02,\n",
       "        -7.27658730e-01, -6.84956722e-01, -1.79895761e-01,  3.52300934e-01,\n",
       "         1.92492636e-01,  4.19722860e-01, -1.06699778e+00,  4.18631856e-01]),\n",
       " 494088: array([ 9.80000000e+01,  9.80000000e+01,  3.10000000e+01,  1.40000000e+01,\n",
       "         7.30000000e+01,  4.70000000e+01,  9.00000000e+01,  7.90000000e+01,\n",
       "         7.90000000e+01,  2.70000000e+01,  8.30000000e+01,  2.60000000e+01,\n",
       "         4.60000000e+01,  4.00000000e+00,  8.60000000e+01,  8.40000000e+01,\n",
       "         7.70000000e+01,  9.60000000e+01,  2.60000000e+01,  7.00000000e+01,\n",
       "         5.80000000e+01,  6.80000000e+01,  2.50000000e+01,  2.00000000e+01,\n",
       "         2.50000000e+01,  2.70000000e+01,  6.70000000e+01,  6.70000000e+01,\n",
       "         7.50000000e+01,  7.00000000e+00,  8.90000000e+01,  3.00000000e+00,\n",
       "         7.20000000e+01,  8.00000000e+00,  1.10000000e+01,  5.30000000e+01,\n",
       "         1.00000000e+00,  4.80000000e+01,  1.00000000e+00,  2.00000000e+01,\n",
       "         3.00000000e+00,  3.70000000e+01,  9.00000000e+00,  8.60000000e+01,\n",
       "         5.40000000e+01,  4.80000000e+01,  6.70000000e+01,  8.00000000e+01,\n",
       "         8.20000000e+01,  6.20000000e+01,  7.50000000e+01,  3.90000000e+01,\n",
       "         7.00000000e+00,  9.00000000e+00,  5.60000000e+01,  9.90000000e+01,\n",
       "         7.60000000e+01,  5.50000000e+01,  9.40000000e+01,  9.40000000e+01,\n",
       "         4.50000000e+01,  5.90000000e+01,  6.90000000e+01,  3.80000000e+01,\n",
       "         2.40000000e+01,  4.00000000e+01,  3.10000000e+01,  1.20000000e+01,\n",
       "         6.50000000e+01,  5.60000000e+01,  7.50000000e+01,  2.80000000e+01,\n",
       "         9.40000000e+01,  8.10000000e+01,  9.00000000e+01,  5.30000000e+01,\n",
       "         8.60000000e+01,  4.90000000e+01,  2.30000000e+01,  5.00000000e+01,\n",
       "         1.00000000e+02,  7.30000000e+01,  6.10000000e+01,  6.00000000e+00,\n",
       "         3.60000000e+01,  8.70000000e+01,  5.20000000e+01,  8.80000000e+01,\n",
       "         2.10000000e+01,  1.30000000e+01,  4.50000000e+01,  2.60000000e+01,\n",
       "         1.00000000e+01,  2.80000000e+01,  7.60000000e+01,  1.30000000e+01,\n",
       "         7.70000000e+01,  7.40000000e+01,  9.30000000e+01,  9.10000000e+01,\n",
       "         7.73044637e-01,  5.79207549e-01,  3.14585812e-01,  4.22318626e-01,\n",
       "         9.20454678e-02,  1.03179892e-01, -9.39417954e-01,  5.27069483e-01,\n",
       "         3.17949374e-01,  2.02017542e-01,  2.55866213e-02,  9.85499736e-01,\n",
       "         8.92907078e-02,  1.39260592e-01, -2.26430235e-01,  2.31692791e-01,\n",
       "         9.66427205e-01, -1.31786261e+00,  3.41498974e-01, -5.95536564e-01,\n",
       "         1.05621457e+00,  4.21014541e-01, -2.71090422e-01, -4.20627949e-01,\n",
       "        -4.17964322e-02,  9.92505818e-01, -7.73454018e-02,  1.14741835e+00,\n",
       "         6.50430362e-01, -1.88543135e-01, -1.49132223e+00,  1.34322429e-01,\n",
       "         3.13484861e-01,  4.60873591e-01, -2.13727100e-01, -1.43642524e+00,\n",
       "         1.98391185e-02, -2.44054310e-01,  1.01345400e+00,  1.23682858e+00,\n",
       "         1.68123175e-01,  4.82045953e-01,  9.77933802e-01, -2.93406947e-01,\n",
       "        -5.48835911e-02,  2.95518396e-01,  7.87781729e-01, -8.10573770e-01,\n",
       "         1.59090303e-02,  2.30506082e-01,  6.88376975e-01,  5.23882996e-01,\n",
       "         1.34457370e+00, -1.29756959e+00,  3.22500639e-01,  1.56483582e-01,\n",
       "        -7.93136007e-01,  1.10074791e+00,  5.78781434e-01,  1.65326781e-01,\n",
       "        -6.50038624e-01, -4.55889047e-01,  2.00987089e-01,  9.89780677e-02,\n",
       "        -4.13185864e-01, -6.27368634e-01, -1.40407459e-01,  7.76161912e-01,\n",
       "        -9.35625032e-01, -1.31633949e-01, -6.41877437e-01,  2.13631572e-02,\n",
       "         1.02609233e+00,  2.82251277e-06,  3.43195527e-01,  1.02923742e+00,\n",
       "         6.69586581e-01, -4.33356010e-01,  9.52989716e-01, -3.07377473e-01,\n",
       "                    nan,  1.56489586e+00,  6.31021280e-01,  4.00038480e-01,\n",
       "         2.57566201e-01, -7.27192561e-01,  5.13681342e-01,  3.62315924e-01,\n",
       "         1.18393299e+00,  1.06164099e-01, -4.26708119e-02,  4.45770701e-01,\n",
       "        -4.10409940e-01,  4.16850582e-01,  2.61619860e-01, -6.42376968e-01,\n",
       "         5.06203815e-01, -2.07821275e-01,  7.92870520e-01, -1.16489322e-01]),\n",
       " 504259: array([ 3.70000000e+01,  3.10000000e+01,  9.70000000e+01,  8.00000000e+01,\n",
       "         5.90000000e+01,  1.40000000e+01,  9.10000000e+01,  2.40000000e+01,\n",
       "         3.00000000e+00,  9.10000000e+01,  6.80000000e+01,  7.00000000e+01,\n",
       "         6.00000000e+00,  9.80000000e+01,  1.80000000e+01,  9.80000000e+01,\n",
       "         9.20000000e+01,  1.60000000e+01,  4.40000000e+01,  6.30000000e+01,\n",
       "         9.60000000e+01,  4.80000000e+01,  9.70000000e+01,  8.40000000e+01,\n",
       "         4.10000000e+01,  2.00000000e+00,  5.40000000e+01,  4.60000000e+01,\n",
       "         7.10000000e+01,  8.30000000e+01,  5.90000000e+01,  1.80000000e+01,\n",
       "         1.40000000e+01,  3.90000000e+01,  8.70000000e+01,  1.00000000e+02,\n",
       "         3.00000000e+00,  4.20000000e+01,  3.50000000e+01,  4.70000000e+01,\n",
       "         2.30000000e+01,  2.00000000e+00,  7.70000000e+01,  1.20000000e+01,\n",
       "         7.90000000e+01,  1.80000000e+01,  2.00000000e+01,  8.70000000e+01,\n",
       "         4.80000000e+01,  3.70000000e+01,  1.00000000e+02,  7.80000000e+01,\n",
       "         2.20000000e+01,  7.80000000e+01,  8.90000000e+01,  1.70000000e+01,\n",
       "         7.40000000e+01,  5.30000000e+01,  7.70000000e+01,  3.80000000e+01,\n",
       "         4.00000000e+00,  9.60000000e+01,  7.50000000e+01,  2.40000000e+01,\n",
       "         8.80000000e+01,  4.90000000e+01,  9.80000000e+01,  6.50000000e+01,\n",
       "         3.40000000e+01,  4.40000000e+01,  7.30000000e+01,  2.30000000e+01,\n",
       "         3.80000000e+01,  5.00000000e+00,  5.00000000e+00,  1.90000000e+01,\n",
       "         4.20000000e+01,  8.70000000e+01,  7.00000000e+01,  5.10000000e+01,\n",
       "         9.90000000e+01,  7.00000000e+00,  8.30000000e+01,  9.00000000e+00,\n",
       "         6.10000000e+01,  4.20000000e+01,  4.60000000e+01,  9.70000000e+01,\n",
       "         1.10000000e+01,  4.70000000e+01,  6.40000000e+01,  1.00000000e+01,\n",
       "         7.40000000e+01,  6.60000000e+01,  1.80000000e+01,  1.10000000e+01,\n",
       "         3.30000000e+01,  2.40000000e+01,  2.70000000e+01,  1.00000000e+01,\n",
       "        -3.10445938e-01,  3.48097183e-01, -1.09061827e+00, -2.56784028e-01,\n",
       "         4.55882650e-01, -5.58814649e-01,  1.01059763e+00,  8.96742453e-01,\n",
       "        -1.54557536e-01,  5.30666094e-03,  4.25104184e-03,  1.01002614e+00,\n",
       "        -5.81994018e-01, -5.18145246e-01, -1.02399397e-01, -6.91625544e-01,\n",
       "        -9.97937908e-01,  3.71773896e-01, -7.41247358e-01, -6.38085409e-02,\n",
       "         6.34327052e-01,  4.80032679e-01,  1.28039389e+00,  6.39386375e-01,\n",
       "        -4.25006839e-01,  9.20256604e-01, -1.97290271e+00,  7.95434817e-01,\n",
       "        -1.42417668e-01, -5.79312486e-02, -1.21915489e+00, -1.72458060e-01,\n",
       "         8.27420895e-01,  9.96213391e-01,  1.23898545e-01,  1.29088771e+00,\n",
       "         9.73915708e-02, -4.35166305e-02, -2.17304096e-01, -2.83263916e-01,\n",
       "         6.33396580e-01, -1.43327012e-01,  7.29089417e-01, -7.97770490e-01,\n",
       "         3.97423912e-01, -4.04881125e-01,  6.82152704e-01, -9.92992140e-01,\n",
       "        -5.98266628e-01,  4.44712249e-01,  8.56158539e-01,  8.26313892e-02,\n",
       "        -6.34722177e-02,  2.39003896e-01,  5.23996470e-02, -4.19178208e-02,\n",
       "         6.95245593e-01,  2.81978803e-01, -6.84117728e-01, -6.33341034e-01,\n",
       "        -5.43743675e-01, -2.53267738e-01,  3.09204418e-02,  1.11913874e+00,\n",
       "        -1.62981002e-01,  8.03859686e-02,  4.93098433e-01,  5.27418733e-01,\n",
       "        -1.06648368e+00, -2.79864377e-01,  7.34103263e-01,  6.59218696e-02,\n",
       "                    nan, -1.72917153e+00,  1.55221430e+00,  3.96663261e-01,\n",
       "         4.43487249e-01,  3.67602622e-01,  4.47290448e-01,  1.61461619e-01,\n",
       "        -7.26661109e-01,  1.17401423e+00,  3.61154028e-01,  1.89831121e-01,\n",
       "        -5.41367336e-01, -5.33583126e-01, -1.38526528e+00,  1.02347271e+00,\n",
       "         5.64788897e-01,  9.48027092e-01, -1.24010800e+00, -1.95912136e-01,\n",
       "        -8.96324875e-01,  2.65829659e-01,  7.36201277e-01,  7.42567808e-01,\n",
       "         5.85901193e-01,  8.46539098e-01,  4.41028376e-01,  1.37320346e+00]),\n",
       " 522269: array([ 6.90000000e+01,  2.30000000e+01,  9.70000000e+01,  7.80000000e+01,\n",
       "         5.70000000e+01,  6.40000000e+01,  8.70000000e+01,  7.40000000e+01,\n",
       "         1.20000000e+01,  4.30000000e+01,  4.70000000e+01,  8.00000000e+00,\n",
       "         5.50000000e+01,  9.60000000e+01,  7.40000000e+01,  7.70000000e+01,\n",
       "         2.80000000e+01,  8.80000000e+01,  4.20000000e+01,  5.10000000e+01,\n",
       "         8.10000000e+01,  6.20000000e+01,  4.00000000e+01,  2.60000000e+01,\n",
       "         2.20000000e+01,  9.50000000e+01,  3.40000000e+01,  1.00000000e+02,\n",
       "         5.70000000e+01,  5.40000000e+01,  8.80000000e+01,  9.60000000e+01,\n",
       "         6.30000000e+01,  8.00000000e+00,  3.90000000e+01,  8.00000000e+00,\n",
       "         5.90000000e+01,  6.00000000e+01,  5.80000000e+01,  4.50000000e+01,\n",
       "         3.40000000e+01,  3.10000000e+01,  9.00000000e+00,  7.30000000e+01,\n",
       "         7.00000000e+00,  3.70000000e+01,  6.70000000e+01,  2.80000000e+01,\n",
       "         8.80000000e+01,  4.70000000e+01,  9.10000000e+01,  5.40000000e+01,\n",
       "         5.00000000e+00,  8.20000000e+01,  7.40000000e+01,  1.50000000e+01,\n",
       "         6.70000000e+01,  6.20000000e+01,  5.10000000e+01,  2.60000000e+01,\n",
       "         5.10000000e+01,  5.00000000e+01,  8.90000000e+01,  3.00000000e+01,\n",
       "         6.30000000e+01,  2.10000000e+01,  4.70000000e+01,  2.40000000e+01,\n",
       "         1.00000000e+02,  3.00000000e+00,  9.30000000e+01,  7.40000000e+01,\n",
       "         6.30000000e+01,  2.70000000e+01,  3.80000000e+01,  8.60000000e+01,\n",
       "         3.70000000e+01,  2.90000000e+01,  4.50000000e+01,  3.20000000e+01,\n",
       "         4.20000000e+01,  5.60000000e+01,  3.50000000e+01,  9.10000000e+01,\n",
       "         1.90000000e+01,  4.20000000e+01,  1.00000000e+02,  8.30000000e+01,\n",
       "         5.50000000e+01,  8.40000000e+01,  5.50000000e+01,  4.00000000e+00,\n",
       "         6.80000000e+01,  2.70000000e+01,  5.30000000e+01,  7.00000000e+01,\n",
       "         4.80000000e+01,  4.60000000e+01,  5.20000000e+01,  9.30000000e+01,\n",
       "         7.95170026e-01,  2.35805522e-01, -1.08296673e+00,  4.73139528e-01,\n",
       "         1.48867137e-01,  4.89933204e-02,  9.57492957e-01,  9.47963494e-01,\n",
       "         2.93831676e-02, -5.57213138e-01, -1.54410877e+00,  4.31755077e-01,\n",
       "         4.35112866e-01,  1.02923455e+00,  6.07434641e-01,  5.76052396e-01,\n",
       "         1.39848623e-02, -6.92860082e-01,  6.22412615e-01,  6.92585681e-01,\n",
       "                    nan, -5.39505850e-01, -6.15747794e-01,  8.79146966e-01,\n",
       "         1.76003639e-02,  5.61451997e-01,  8.88653675e-01,  9.47051058e-01,\n",
       "         1.91380680e-01, -1.28789767e+00, -7.30561892e-01, -9.69144494e-01,\n",
       "         6.11219356e-01,  4.56893554e-01,  1.39515685e-01, -9.61066888e-01,\n",
       "         5.61347163e-02,  2.36127904e-01, -4.15530300e-02,  3.46091200e-01,\n",
       "         1.05741530e+00, -1.79077848e-01,  9.97817721e-01,  2.02112246e-01,\n",
       "         7.56472927e-05,  5.87797589e-01,  7.78265305e-01,  4.78671480e-01,\n",
       "        -7.33313646e-01,  5.53964394e-01,  2.67693851e-01,  4.18387958e-01,\n",
       "         9.95985342e-02, -3.37341501e-02, -3.20864714e-01,  7.85546424e-01,\n",
       "        -3.75271030e-01,  4.77990535e-01,  2.59530853e-01,  1.37256665e-01,\n",
       "         9.13789577e-01,  8.71025037e-02, -1.29088183e+00,  7.73857118e-02,\n",
       "        -5.63601380e-02, -1.25719751e+00, -1.50572307e-01, -2.38597220e-01,\n",
       "         1.33309996e+00,  8.29824287e-01,  3.63082385e-01,  4.98226247e-01,\n",
       "         1.50102801e+00,  1.01531506e+00,  4.59198592e-01,  3.22907667e-01,\n",
       "        -1.13530923e-01, -2.76595751e-01, -4.77014485e-01,  8.47964929e-01,\n",
       "        -7.91842144e-01, -1.12901432e+00,  8.07248001e-01, -4.45011929e-01,\n",
       "        -1.10985286e+00, -5.49511108e-01, -9.38059859e-01,  4.01577419e-01,\n",
       "        -1.43807215e-01, -5.38929750e-01,  8.90648277e-01, -3.09608016e-02,\n",
       "         1.66267446e+00, -8.32402036e-01,  6.62045857e-01, -8.28998586e-01,\n",
       "         2.84385455e-01, -6.86103081e-01,  3.61058549e-02,  9.23373375e-01])}"
      ]
     },
     "execution_count": 41,
     "metadata": {},
     "output_type": "execute_result"
    }
   ],
   "source": [
    "nan_rows"
   ]
  },
  {
   "cell_type": "code",
   "execution_count": 42,
   "id": "ceea6601-ad6b-4780-88a7-3d0a28cf0a2c",
   "metadata": {},
   "outputs": [
    {
     "data": {
      "text/html": [
       "<div>\n",
       "<style scoped>\n",
       "    .dataframe tbody tr th:only-of-type {\n",
       "        vertical-align: middle;\n",
       "    }\n",
       "\n",
       "    .dataframe tbody tr th {\n",
       "        vertical-align: top;\n",
       "    }\n",
       "\n",
       "    .dataframe thead th {\n",
       "        text-align: right;\n",
       "    }\n",
       "</style>\n",
       "<table border=\"1\" class=\"dataframe\">\n",
       "  <thead>\n",
       "    <tr style=\"text-align: right;\">\n",
       "      <th></th>\n",
       "      <th>f0</th>\n",
       "      <th>f1</th>\n",
       "      <th>f2</th>\n",
       "      <th>f3</th>\n",
       "      <th>f4</th>\n",
       "      <th>f5</th>\n",
       "      <th>f6</th>\n",
       "      <th>f7</th>\n",
       "      <th>f8</th>\n",
       "      <th>f9</th>\n",
       "      <th>...</th>\n",
       "      <th>f90</th>\n",
       "      <th>f91</th>\n",
       "      <th>f92</th>\n",
       "      <th>f93</th>\n",
       "      <th>f94</th>\n",
       "      <th>f95</th>\n",
       "      <th>f96</th>\n",
       "      <th>f97</th>\n",
       "      <th>f98</th>\n",
       "      <th>f99</th>\n",
       "    </tr>\n",
       "  </thead>\n",
       "  <tbody>\n",
       "    <tr>\n",
       "      <th>0</th>\n",
       "      <td>-0.619456</td>\n",
       "      <td>1.034341</td>\n",
       "      <td>0.645473</td>\n",
       "      <td>-0.052261</td>\n",
       "      <td>0.978103</td>\n",
       "      <td>0.522698</td>\n",
       "      <td>-0.798766</td>\n",
       "      <td>-0.277188</td>\n",
       "      <td>1.022354</td>\n",
       "      <td>0.045579</td>\n",
       "      <td>...</td>\n",
       "      <td>0.758619</td>\n",
       "      <td>-0.363401</td>\n",
       "      <td>0.490163</td>\n",
       "      <td>0.613421</td>\n",
       "      <td>-0.180887</td>\n",
       "      <td>-0.600123</td>\n",
       "      <td>-0.869643</td>\n",
       "      <td>-0.141218</td>\n",
       "      <td>0.594689</td>\n",
       "      <td>-0.482751</td>\n",
       "    </tr>\n",
       "    <tr>\n",
       "      <th>1</th>\n",
       "      <td>-0.567866</td>\n",
       "      <td>-0.696955</td>\n",
       "      <td>-1.432455</td>\n",
       "      <td>0.168759</td>\n",
       "      <td>-0.323556</td>\n",
       "      <td>-0.348300</td>\n",
       "      <td>1.067404</td>\n",
       "      <td>0.049692</td>\n",
       "      <td>0.825306</td>\n",
       "      <td>0.135438</td>\n",
       "      <td>...</td>\n",
       "      <td>-1.114748</td>\n",
       "      <td>0.129868</td>\n",
       "      <td>0.494850</td>\n",
       "      <td>-0.243438</td>\n",
       "      <td>0.619959</td>\n",
       "      <td>-0.678709</td>\n",
       "      <td>-1.463564</td>\n",
       "      <td>0.435769</td>\n",
       "      <td>-0.050832</td>\n",
       "      <td>0.600260</td>\n",
       "    </tr>\n",
       "    <tr>\n",
       "      <th>2</th>\n",
       "      <td>1.206383</td>\n",
       "      <td>0.061464</td>\n",
       "      <td>-1.530707</td>\n",
       "      <td>0.342272</td>\n",
       "      <td>0.997053</td>\n",
       "      <td>0.710229</td>\n",
       "      <td>-0.247613</td>\n",
       "      <td>0.883862</td>\n",
       "      <td>-0.103971</td>\n",
       "      <td>-0.586893</td>\n",
       "      <td>...</td>\n",
       "      <td>-0.939646</td>\n",
       "      <td>-0.047713</td>\n",
       "      <td>-0.602895</td>\n",
       "      <td>0.569476</td>\n",
       "      <td>0.622574</td>\n",
       "      <td>1.163285</td>\n",
       "      <td>0.591371</td>\n",
       "      <td>0.298905</td>\n",
       "      <td>0.506683</td>\n",
       "      <td>0.127049</td>\n",
       "    </tr>\n",
       "    <tr>\n",
       "      <th>3</th>\n",
       "      <td>0.184687</td>\n",
       "      <td>0.248307</td>\n",
       "      <td>0.181383</td>\n",
       "      <td>-0.740751</td>\n",
       "      <td>0.010582</td>\n",
       "      <td>-0.029469</td>\n",
       "      <td>-0.255650</td>\n",
       "      <td>-0.730853</td>\n",
       "      <td>-0.240765</td>\n",
       "      <td>-1.070235</td>\n",
       "      <td>...</td>\n",
       "      <td>0.002933</td>\n",
       "      <td>-0.867166</td>\n",
       "      <td>-0.131024</td>\n",
       "      <td>1.286736</td>\n",
       "      <td>-0.532227</td>\n",
       "      <td>-0.493061</td>\n",
       "      <td>0.108958</td>\n",
       "      <td>-1.577487</td>\n",
       "      <td>0.001990</td>\n",
       "      <td>-0.494960</td>\n",
       "    </tr>\n",
       "    <tr>\n",
       "      <th>4</th>\n",
       "      <td>0.157196</td>\n",
       "      <td>1.299613</td>\n",
       "      <td>-0.026028</td>\n",
       "      <td>-1.526828</td>\n",
       "      <td>0.250719</td>\n",
       "      <td>-0.760238</td>\n",
       "      <td>-0.698085</td>\n",
       "      <td>1.238770</td>\n",
       "      <td>-1.372741</td>\n",
       "      <td>-0.269681</td>\n",
       "      <td>...</td>\n",
       "      <td>0.119485</td>\n",
       "      <td>0.140863</td>\n",
       "      <td>0.543735</td>\n",
       "      <td>-0.193285</td>\n",
       "      <td>0.442053</td>\n",
       "      <td>0.001422</td>\n",
       "      <td>-0.368938</td>\n",
       "      <td>0.393910</td>\n",
       "      <td>0.641184</td>\n",
       "      <td>-1.435955</td>\n",
       "    </tr>\n",
       "    <tr>\n",
       "      <th>...</th>\n",
       "      <td>...</td>\n",
       "      <td>...</td>\n",
       "      <td>...</td>\n",
       "      <td>...</td>\n",
       "      <td>...</td>\n",
       "      <td>...</td>\n",
       "      <td>...</td>\n",
       "      <td>...</td>\n",
       "      <td>...</td>\n",
       "      <td>...</td>\n",
       "      <td>...</td>\n",
       "      <td>...</td>\n",
       "      <td>...</td>\n",
       "      <td>...</td>\n",
       "      <td>...</td>\n",
       "      <td>...</td>\n",
       "      <td>...</td>\n",
       "      <td>...</td>\n",
       "      <td>...</td>\n",
       "      <td>...</td>\n",
       "      <td>...</td>\n",
       "    </tr>\n",
       "    <tr>\n",
       "      <th>539995</th>\n",
       "      <td>0.507008</td>\n",
       "      <td>-0.207350</td>\n",
       "      <td>-0.502140</td>\n",
       "      <td>0.143403</td>\n",
       "      <td>1.900548</td>\n",
       "      <td>1.163096</td>\n",
       "      <td>0.079889</td>\n",
       "      <td>-0.553810</td>\n",
       "      <td>0.959593</td>\n",
       "      <td>-0.315222</td>\n",
       "      <td>...</td>\n",
       "      <td>0.447478</td>\n",
       "      <td>0.107727</td>\n",
       "      <td>0.532786</td>\n",
       "      <td>-0.139661</td>\n",
       "      <td>0.610087</td>\n",
       "      <td>-0.404615</td>\n",
       "      <td>0.259662</td>\n",
       "      <td>-0.354882</td>\n",
       "      <td>0.075677</td>\n",
       "      <td>-0.277749</td>\n",
       "    </tr>\n",
       "    <tr>\n",
       "      <th>539996</th>\n",
       "      <td>-0.104095</td>\n",
       "      <td>0.039292</td>\n",
       "      <td>-1.646022</td>\n",
       "      <td>0.081841</td>\n",
       "      <td>1.265921</td>\n",
       "      <td>0.668651</td>\n",
       "      <td>-0.134541</td>\n",
       "      <td>-0.042641</td>\n",
       "      <td>0.212338</td>\n",
       "      <td>-0.387411</td>\n",
       "      <td>...</td>\n",
       "      <td>0.373597</td>\n",
       "      <td>0.615707</td>\n",
       "      <td>0.651895</td>\n",
       "      <td>0.253837</td>\n",
       "      <td>0.300526</td>\n",
       "      <td>-1.166199</td>\n",
       "      <td>0.810811</td>\n",
       "      <td>0.127410</td>\n",
       "      <td>-0.376520</td>\n",
       "      <td>0.290122</td>\n",
       "    </tr>\n",
       "    <tr>\n",
       "      <th>539997</th>\n",
       "      <td>0.456958</td>\n",
       "      <td>0.086246</td>\n",
       "      <td>-1.131546</td>\n",
       "      <td>-0.510218</td>\n",
       "      <td>-0.135827</td>\n",
       "      <td>-0.519311</td>\n",
       "      <td>-0.134625</td>\n",
       "      <td>-0.268035</td>\n",
       "      <td>-0.079109</td>\n",
       "      <td>0.548425</td>\n",
       "      <td>...</td>\n",
       "      <td>0.143556</td>\n",
       "      <td>0.449236</td>\n",
       "      <td>0.328486</td>\n",
       "      <td>0.274952</td>\n",
       "      <td>0.575756</td>\n",
       "      <td>0.730754</td>\n",
       "      <td>-0.677356</td>\n",
       "      <td>-2.516733</td>\n",
       "      <td>1.074364</td>\n",
       "      <td>0.615870</td>\n",
       "    </tr>\n",
       "    <tr>\n",
       "      <th>539998</th>\n",
       "      <td>1.407662</td>\n",
       "      <td>0.358961</td>\n",
       "      <td>-0.485754</td>\n",
       "      <td>-1.199317</td>\n",
       "      <td>-0.324590</td>\n",
       "      <td>-0.046943</td>\n",
       "      <td>0.009755</td>\n",
       "      <td>0.045260</td>\n",
       "      <td>0.353344</td>\n",
       "      <td>0.463247</td>\n",
       "      <td>...</td>\n",
       "      <td>-0.967161</td>\n",
       "      <td>-0.940818</td>\n",
       "      <td>0.394077</td>\n",
       "      <td>-0.087183</td>\n",
       "      <td>-0.420167</td>\n",
       "      <td>0.279124</td>\n",
       "      <td>-1.404330</td>\n",
       "      <td>-0.784474</td>\n",
       "      <td>0.023141</td>\n",
       "      <td>0.324843</td>\n",
       "    </tr>\n",
       "    <tr>\n",
       "      <th>539999</th>\n",
       "      <td>0.554393</td>\n",
       "      <td>0.125147</td>\n",
       "      <td>0.473817</td>\n",
       "      <td>0.849644</td>\n",
       "      <td>0.135994</td>\n",
       "      <td>1.390444</td>\n",
       "      <td>-0.556667</td>\n",
       "      <td>-0.530726</td>\n",
       "      <td>1.348011</td>\n",
       "      <td>0.677881</td>\n",
       "      <td>...</td>\n",
       "      <td>-0.287420</td>\n",
       "      <td>-0.040029</td>\n",
       "      <td>0.234687</td>\n",
       "      <td>1.088028</td>\n",
       "      <td>0.716780</td>\n",
       "      <td>-0.007671</td>\n",
       "      <td>-0.355156</td>\n",
       "      <td>-0.880579</td>\n",
       "      <td>0.199633</td>\n",
       "      <td>0.523092</td>\n",
       "    </tr>\n",
       "  </tbody>\n",
       "</table>\n",
       "<p>540000 rows × 100 columns</p>\n",
       "</div>"
      ],
      "text/plain": [
       "              f0        f1        f2        f3        f4        f5        f6  \\\n",
       "0      -0.619456  1.034341  0.645473 -0.052261  0.978103  0.522698 -0.798766   \n",
       "1      -0.567866 -0.696955 -1.432455  0.168759 -0.323556 -0.348300  1.067404   \n",
       "2       1.206383  0.061464 -1.530707  0.342272  0.997053  0.710229 -0.247613   \n",
       "3       0.184687  0.248307  0.181383 -0.740751  0.010582 -0.029469 -0.255650   \n",
       "4       0.157196  1.299613 -0.026028 -1.526828  0.250719 -0.760238 -0.698085   \n",
       "...          ...       ...       ...       ...       ...       ...       ...   \n",
       "539995  0.507008 -0.207350 -0.502140  0.143403  1.900548  1.163096  0.079889   \n",
       "539996 -0.104095  0.039292 -1.646022  0.081841  1.265921  0.668651 -0.134541   \n",
       "539997  0.456958  0.086246 -1.131546 -0.510218 -0.135827 -0.519311 -0.134625   \n",
       "539998  1.407662  0.358961 -0.485754 -1.199317 -0.324590 -0.046943  0.009755   \n",
       "539999  0.554393  0.125147  0.473817  0.849644  0.135994  1.390444 -0.556667   \n",
       "\n",
       "              f7        f8        f9  ...       f90       f91       f92  \\\n",
       "0      -0.277188  1.022354  0.045579  ...  0.758619 -0.363401  0.490163   \n",
       "1       0.049692  0.825306  0.135438  ... -1.114748  0.129868  0.494850   \n",
       "2       0.883862 -0.103971 -0.586893  ... -0.939646 -0.047713 -0.602895   \n",
       "3      -0.730853 -0.240765 -1.070235  ...  0.002933 -0.867166 -0.131024   \n",
       "4       1.238770 -1.372741 -0.269681  ...  0.119485  0.140863  0.543735   \n",
       "...          ...       ...       ...  ...       ...       ...       ...   \n",
       "539995 -0.553810  0.959593 -0.315222  ...  0.447478  0.107727  0.532786   \n",
       "539996 -0.042641  0.212338 -0.387411  ...  0.373597  0.615707  0.651895   \n",
       "539997 -0.268035 -0.079109  0.548425  ...  0.143556  0.449236  0.328486   \n",
       "539998  0.045260  0.353344  0.463247  ... -0.967161 -0.940818  0.394077   \n",
       "539999 -0.530726  1.348011  0.677881  ... -0.287420 -0.040029  0.234687   \n",
       "\n",
       "             f93       f94       f95       f96       f97       f98       f99  \n",
       "0       0.613421 -0.180887 -0.600123 -0.869643 -0.141218  0.594689 -0.482751  \n",
       "1      -0.243438  0.619959 -0.678709 -1.463564  0.435769 -0.050832  0.600260  \n",
       "2       0.569476  0.622574  1.163285  0.591371  0.298905  0.506683  0.127049  \n",
       "3       1.286736 -0.532227 -0.493061  0.108958 -1.577487  0.001990 -0.494960  \n",
       "4      -0.193285  0.442053  0.001422 -0.368938  0.393910  0.641184 -1.435955  \n",
       "...          ...       ...       ...       ...       ...       ...       ...  \n",
       "539995 -0.139661  0.610087 -0.404615  0.259662 -0.354882  0.075677 -0.277749  \n",
       "539996  0.253837  0.300526 -1.166199  0.810811  0.127410 -0.376520  0.290122  \n",
       "539997  0.274952  0.575756  0.730754 -0.677356 -2.516733  1.074364  0.615870  \n",
       "539998 -0.087183 -0.420167  0.279124 -1.404330 -0.784474  0.023141  0.324843  \n",
       "539999  1.088028  0.716780 -0.007671 -0.355156 -0.880579  0.199633  0.523092  \n",
       "\n",
       "[540000 rows x 100 columns]"
      ]
     },
     "execution_count": 42,
     "metadata": {},
     "output_type": "execute_result"
    }
   ],
   "source": [
    "X_test_gauss"
   ]
  },
  {
   "cell_type": "code",
   "execution_count": 43,
   "id": "f61d6b1b-11af-42af-b1aa-1c25ca0ff300",
   "metadata": {},
   "outputs": [
    {
     "name": "stderr",
     "output_type": "stream",
     "text": [
      "/home/sf/anaconda3/envs/tabular-x/lib/python3.8/site-packages/ipykernel/ipkernel.py:287: DeprecationWarning: `should_run_async` will not call `transform_cell` automatically in the future. Please pass the result to `transformed_cell` argument and any exception that happen during thetransform in `preprocessing_exc_tuple` in IPython 7.17 and above.\n",
      "  and should_run_async(code)\n"
     ]
    },
    {
     "data": {
      "text/html": [
       "<div>\n",
       "<style scoped>\n",
       "    .dataframe tbody tr th:only-of-type {\n",
       "        vertical-align: middle;\n",
       "    }\n",
       "\n",
       "    .dataframe tbody tr th {\n",
       "        vertical-align: top;\n",
       "    }\n",
       "\n",
       "    .dataframe thead th {\n",
       "        text-align: right;\n",
       "    }\n",
       "</style>\n",
       "<table border=\"1\" class=\"dataframe\">\n",
       "  <thead>\n",
       "    <tr style=\"text-align: right;\">\n",
       "      <th></th>\n",
       "      <th>f0</th>\n",
       "      <th>f1</th>\n",
       "      <th>f2</th>\n",
       "      <th>f3</th>\n",
       "      <th>f4</th>\n",
       "      <th>f5</th>\n",
       "      <th>f6</th>\n",
       "      <th>f7</th>\n",
       "      <th>f8</th>\n",
       "      <th>f9</th>\n",
       "      <th>...</th>\n",
       "      <th>rkd_f90</th>\n",
       "      <th>rkd_f91</th>\n",
       "      <th>rkd_f92</th>\n",
       "      <th>rkd_f93</th>\n",
       "      <th>rkd_f94</th>\n",
       "      <th>rkd_f95</th>\n",
       "      <th>rkd_f96</th>\n",
       "      <th>rkd_f97</th>\n",
       "      <th>rkd_f98</th>\n",
       "      <th>rkd_f99</th>\n",
       "    </tr>\n",
       "  </thead>\n",
       "  <tbody>\n",
       "    <tr>\n",
       "      <th>0</th>\n",
       "      <td>-0.619456</td>\n",
       "      <td>1.034341</td>\n",
       "      <td>0.645473</td>\n",
       "      <td>-0.052261</td>\n",
       "      <td>0.978103</td>\n",
       "      <td>0.522698</td>\n",
       "      <td>-0.798766</td>\n",
       "      <td>-0.277188</td>\n",
       "      <td>1.022354</td>\n",
       "      <td>0.045579</td>\n",
       "      <td>...</td>\n",
       "      <td>84.0</td>\n",
       "      <td>18.0</td>\n",
       "      <td>74.0</td>\n",
       "      <td>76.0</td>\n",
       "      <td>33.0</td>\n",
       "      <td>19.0</td>\n",
       "      <td>8.0</td>\n",
       "      <td>35.0</td>\n",
       "      <td>80.0</td>\n",
       "      <td>19.0</td>\n",
       "    </tr>\n",
       "    <tr>\n",
       "      <th>1</th>\n",
       "      <td>-0.567866</td>\n",
       "      <td>-0.696955</td>\n",
       "      <td>-1.432455</td>\n",
       "      <td>0.168759</td>\n",
       "      <td>-0.323556</td>\n",
       "      <td>-0.348300</td>\n",
       "      <td>1.067404</td>\n",
       "      <td>0.049692</td>\n",
       "      <td>0.825306</td>\n",
       "      <td>0.135438</td>\n",
       "      <td>...</td>\n",
       "      <td>3.0</td>\n",
       "      <td>50.0</td>\n",
       "      <td>75.0</td>\n",
       "      <td>34.0</td>\n",
       "      <td>80.0</td>\n",
       "      <td>16.0</td>\n",
       "      <td>1.0</td>\n",
       "      <td>70.0</td>\n",
       "      <td>40.0</td>\n",
       "      <td>78.0</td>\n",
       "    </tr>\n",
       "    <tr>\n",
       "      <th>2</th>\n",
       "      <td>1.206383</td>\n",
       "      <td>0.061464</td>\n",
       "      <td>-1.530707</td>\n",
       "      <td>0.342272</td>\n",
       "      <td>0.997053</td>\n",
       "      <td>0.710229</td>\n",
       "      <td>-0.247613</td>\n",
       "      <td>0.883862</td>\n",
       "      <td>-0.103971</td>\n",
       "      <td>-0.586893</td>\n",
       "      <td>...</td>\n",
       "      <td>6.0</td>\n",
       "      <td>39.0</td>\n",
       "      <td>16.0</td>\n",
       "      <td>75.0</td>\n",
       "      <td>80.0</td>\n",
       "      <td>96.0</td>\n",
       "      <td>81.0</td>\n",
       "      <td>61.0</td>\n",
       "      <td>72.0</td>\n",
       "      <td>51.0</td>\n",
       "    </tr>\n",
       "    <tr>\n",
       "      <th>3</th>\n",
       "      <td>0.184687</td>\n",
       "      <td>0.248307</td>\n",
       "      <td>0.181383</td>\n",
       "      <td>-0.740751</td>\n",
       "      <td>0.010582</td>\n",
       "      <td>-0.029469</td>\n",
       "      <td>-0.255650</td>\n",
       "      <td>-0.730853</td>\n",
       "      <td>-0.240765</td>\n",
       "      <td>-1.070235</td>\n",
       "      <td>...</td>\n",
       "      <td>42.0</td>\n",
       "      <td>5.0</td>\n",
       "      <td>38.0</td>\n",
       "      <td>96.0</td>\n",
       "      <td>17.0</td>\n",
       "      <td>23.0</td>\n",
       "      <td>53.0</td>\n",
       "      <td>0.0</td>\n",
       "      <td>43.0</td>\n",
       "      <td>19.0</td>\n",
       "    </tr>\n",
       "    <tr>\n",
       "      <th>4</th>\n",
       "      <td>0.157196</td>\n",
       "      <td>1.299613</td>\n",
       "      <td>-0.026028</td>\n",
       "      <td>-1.526828</td>\n",
       "      <td>0.250719</td>\n",
       "      <td>-0.760238</td>\n",
       "      <td>-0.698085</td>\n",
       "      <td>1.238770</td>\n",
       "      <td>-1.372741</td>\n",
       "      <td>-0.269681</td>\n",
       "      <td>...</td>\n",
       "      <td>49.0</td>\n",
       "      <td>51.0</td>\n",
       "      <td>79.0</td>\n",
       "      <td>37.0</td>\n",
       "      <td>66.0</td>\n",
       "      <td>49.0</td>\n",
       "      <td>24.0</td>\n",
       "      <td>67.0</td>\n",
       "      <td>83.0</td>\n",
       "      <td>1.0</td>\n",
       "    </tr>\n",
       "    <tr>\n",
       "      <th>...</th>\n",
       "      <td>...</td>\n",
       "      <td>...</td>\n",
       "      <td>...</td>\n",
       "      <td>...</td>\n",
       "      <td>...</td>\n",
       "      <td>...</td>\n",
       "      <td>...</td>\n",
       "      <td>...</td>\n",
       "      <td>...</td>\n",
       "      <td>...</td>\n",
       "      <td>...</td>\n",
       "      <td>...</td>\n",
       "      <td>...</td>\n",
       "      <td>...</td>\n",
       "      <td>...</td>\n",
       "      <td>...</td>\n",
       "      <td>...</td>\n",
       "      <td>...</td>\n",
       "      <td>...</td>\n",
       "      <td>...</td>\n",
       "      <td>...</td>\n",
       "    </tr>\n",
       "    <tr>\n",
       "      <th>539995</th>\n",
       "      <td>0.507008</td>\n",
       "      <td>-0.207350</td>\n",
       "      <td>-0.502140</td>\n",
       "      <td>0.143403</td>\n",
       "      <td>1.900548</td>\n",
       "      <td>1.163096</td>\n",
       "      <td>0.079889</td>\n",
       "      <td>-0.553810</td>\n",
       "      <td>0.959593</td>\n",
       "      <td>-0.315222</td>\n",
       "      <td>...</td>\n",
       "      <td>67.0</td>\n",
       "      <td>49.0</td>\n",
       "      <td>78.0</td>\n",
       "      <td>40.0</td>\n",
       "      <td>79.0</td>\n",
       "      <td>27.0</td>\n",
       "      <td>63.0</td>\n",
       "      <td>22.0</td>\n",
       "      <td>47.0</td>\n",
       "      <td>29.0</td>\n",
       "    </tr>\n",
       "    <tr>\n",
       "      <th>539996</th>\n",
       "      <td>-0.104095</td>\n",
       "      <td>0.039292</td>\n",
       "      <td>-1.646022</td>\n",
       "      <td>0.081841</td>\n",
       "      <td>1.265921</td>\n",
       "      <td>0.668651</td>\n",
       "      <td>-0.134541</td>\n",
       "      <td>-0.042641</td>\n",
       "      <td>0.212338</td>\n",
       "      <td>-0.387411</td>\n",
       "      <td>...</td>\n",
       "      <td>63.0</td>\n",
       "      <td>78.0</td>\n",
       "      <td>85.0</td>\n",
       "      <td>61.0</td>\n",
       "      <td>59.0</td>\n",
       "      <td>5.0</td>\n",
       "      <td>89.0</td>\n",
       "      <td>51.0</td>\n",
       "      <td>24.0</td>\n",
       "      <td>60.0</td>\n",
       "    </tr>\n",
       "    <tr>\n",
       "      <th>539997</th>\n",
       "      <td>0.456958</td>\n",
       "      <td>0.086246</td>\n",
       "      <td>-1.131546</td>\n",
       "      <td>-0.510218</td>\n",
       "      <td>-0.135827</td>\n",
       "      <td>-0.519311</td>\n",
       "      <td>-0.134625</td>\n",
       "      <td>-0.268035</td>\n",
       "      <td>-0.079109</td>\n",
       "      <td>0.548425</td>\n",
       "      <td>...</td>\n",
       "      <td>50.0</td>\n",
       "      <td>69.0</td>\n",
       "      <td>62.0</td>\n",
       "      <td>62.0</td>\n",
       "      <td>76.0</td>\n",
       "      <td>88.0</td>\n",
       "      <td>13.0</td>\n",
       "      <td>0.0</td>\n",
       "      <td>94.0</td>\n",
       "      <td>79.0</td>\n",
       "    </tr>\n",
       "    <tr>\n",
       "      <th>539998</th>\n",
       "      <td>1.407662</td>\n",
       "      <td>0.358961</td>\n",
       "      <td>-0.485754</td>\n",
       "      <td>-1.199317</td>\n",
       "      <td>-0.324590</td>\n",
       "      <td>-0.046943</td>\n",
       "      <td>0.009755</td>\n",
       "      <td>0.045260</td>\n",
       "      <td>0.353344</td>\n",
       "      <td>0.463247</td>\n",
       "      <td>...</td>\n",
       "      <td>5.0</td>\n",
       "      <td>4.0</td>\n",
       "      <td>65.0</td>\n",
       "      <td>43.0</td>\n",
       "      <td>21.0</td>\n",
       "      <td>65.0</td>\n",
       "      <td>1.0</td>\n",
       "      <td>8.0</td>\n",
       "      <td>44.0</td>\n",
       "      <td>62.0</td>\n",
       "    </tr>\n",
       "    <tr>\n",
       "      <th>539999</th>\n",
       "      <td>0.554393</td>\n",
       "      <td>0.125147</td>\n",
       "      <td>0.473817</td>\n",
       "      <td>0.849644</td>\n",
       "      <td>0.135994</td>\n",
       "      <td>1.390444</td>\n",
       "      <td>-0.556667</td>\n",
       "      <td>-0.530726</td>\n",
       "      <td>1.348011</td>\n",
       "      <td>0.677881</td>\n",
       "      <td>...</td>\n",
       "      <td>26.0</td>\n",
       "      <td>39.0</td>\n",
       "      <td>58.0</td>\n",
       "      <td>92.0</td>\n",
       "      <td>87.0</td>\n",
       "      <td>49.0</td>\n",
       "      <td>25.0</td>\n",
       "      <td>6.0</td>\n",
       "      <td>54.0</td>\n",
       "      <td>72.0</td>\n",
       "    </tr>\n",
       "  </tbody>\n",
       "</table>\n",
       "<p>540000 rows × 200 columns</p>\n",
       "</div>"
      ],
      "text/plain": [
       "              f0        f1        f2        f3        f4        f5        f6  \\\n",
       "0      -0.619456  1.034341  0.645473 -0.052261  0.978103  0.522698 -0.798766   \n",
       "1      -0.567866 -0.696955 -1.432455  0.168759 -0.323556 -0.348300  1.067404   \n",
       "2       1.206383  0.061464 -1.530707  0.342272  0.997053  0.710229 -0.247613   \n",
       "3       0.184687  0.248307  0.181383 -0.740751  0.010582 -0.029469 -0.255650   \n",
       "4       0.157196  1.299613 -0.026028 -1.526828  0.250719 -0.760238 -0.698085   \n",
       "...          ...       ...       ...       ...       ...       ...       ...   \n",
       "539995  0.507008 -0.207350 -0.502140  0.143403  1.900548  1.163096  0.079889   \n",
       "539996 -0.104095  0.039292 -1.646022  0.081841  1.265921  0.668651 -0.134541   \n",
       "539997  0.456958  0.086246 -1.131546 -0.510218 -0.135827 -0.519311 -0.134625   \n",
       "539998  1.407662  0.358961 -0.485754 -1.199317 -0.324590 -0.046943  0.009755   \n",
       "539999  0.554393  0.125147  0.473817  0.849644  0.135994  1.390444 -0.556667   \n",
       "\n",
       "              f7        f8        f9  ...  rkd_f90  rkd_f91  rkd_f92  rkd_f93  \\\n",
       "0      -0.277188  1.022354  0.045579  ...     84.0     18.0     74.0     76.0   \n",
       "1       0.049692  0.825306  0.135438  ...      3.0     50.0     75.0     34.0   \n",
       "2       0.883862 -0.103971 -0.586893  ...      6.0     39.0     16.0     75.0   \n",
       "3      -0.730853 -0.240765 -1.070235  ...     42.0      5.0     38.0     96.0   \n",
       "4       1.238770 -1.372741 -0.269681  ...     49.0     51.0     79.0     37.0   \n",
       "...          ...       ...       ...  ...      ...      ...      ...      ...   \n",
       "539995 -0.553810  0.959593 -0.315222  ...     67.0     49.0     78.0     40.0   \n",
       "539996 -0.042641  0.212338 -0.387411  ...     63.0     78.0     85.0     61.0   \n",
       "539997 -0.268035 -0.079109  0.548425  ...     50.0     69.0     62.0     62.0   \n",
       "539998  0.045260  0.353344  0.463247  ...      5.0      4.0     65.0     43.0   \n",
       "539999 -0.530726  1.348011  0.677881  ...     26.0     39.0     58.0     92.0   \n",
       "\n",
       "        rkd_f94  rkd_f95  rkd_f96  rkd_f97  rkd_f98  rkd_f99  \n",
       "0          33.0     19.0      8.0     35.0     80.0     19.0  \n",
       "1          80.0     16.0      1.0     70.0     40.0     78.0  \n",
       "2          80.0     96.0     81.0     61.0     72.0     51.0  \n",
       "3          17.0     23.0     53.0      0.0     43.0     19.0  \n",
       "4          66.0     49.0     24.0     67.0     83.0      1.0  \n",
       "...         ...      ...      ...      ...      ...      ...  \n",
       "539995     79.0     27.0     63.0     22.0     47.0     29.0  \n",
       "539996     59.0      5.0     89.0     51.0     24.0     60.0  \n",
       "539997     76.0     88.0     13.0      0.0     94.0     79.0  \n",
       "539998     21.0     65.0      1.0      8.0     44.0     62.0  \n",
       "539999     87.0     49.0     25.0      6.0     54.0     72.0  \n",
       "\n",
       "[540000 rows x 200 columns]"
      ]
     },
     "execution_count": 43,
     "metadata": {},
     "output_type": "execute_result"
    }
   ],
   "source": [
    "X_test_pre"
   ]
  },
  {
   "cell_type": "code",
   "execution_count": 44,
   "id": "a1e6eee0-ada3-4482-a87b-1e597f305f56",
   "metadata": {},
   "outputs": [
    {
     "name": "stderr",
     "output_type": "stream",
     "text": [
      "/home/sf/anaconda3/envs/tabular-x/lib/python3.8/site-packages/ipykernel/ipkernel.py:287: DeprecationWarning: `should_run_async` will not call `transform_cell` automatically in the future. Please pass the result to `transformed_cell` argument and any exception that happen during thetransform in `preprocessing_exc_tuple` in IPython 7.17 and above.\n",
      "  and should_run_async(code)\n"
     ]
    },
    {
     "data": {
      "text/plain": [
       "<AxesSubplot:>"
      ]
     },
     "execution_count": 44,
     "metadata": {},
     "output_type": "execute_result"
    },
    {
     "data": {
      "image/png": "[encoded data removed]",
      "text/plain": [
       "<Figure size 432x288 with 1 Axes>"
      ]
     },
     "metadata": {
      "needs_background": "light"
     },
     "output_type": "display_data"
    }
   ],
   "source": [
    "X_test_pre.iloc[:, 122].hist()"
   ]
  },
  {
   "cell_type": "markdown",
   "id": "88dae377-b2dd-4521-8724-47c79b7f7252",
   "metadata": {},
   "source": [
    "- Nothing much out of the ordinary here"
   ]
  },
  {
   "cell_type": "code",
   "execution_count": 45,
   "id": "05470580-c36a-46c0-884a-4f03b687958c",
   "metadata": {},
   "outputs": [
    {
     "data": {
      "text/plain": [
       "(array([ 60187,  72708,  84460, 405041]),)"
      ]
     },
     "execution_count": 45,
     "metadata": {},
     "output_type": "execute_result"
    }
   ],
   "source": [
    "np.where(np.isnan(X_test_tab[:,122]))"
   ]
  },
  {
   "cell_type": "code",
   "execution_count": 46,
   "id": "f19017ff-ad5c-4a7b-af94-7417b9f86753",
   "metadata": {},
   "outputs": [
    {
     "data": {
      "text/html": [
       "<div>\n",
       "<style scoped>\n",
       "    .dataframe tbody tr th:only-of-type {\n",
       "        vertical-align: middle;\n",
       "    }\n",
       "\n",
       "    .dataframe tbody tr th {\n",
       "        vertical-align: top;\n",
       "    }\n",
       "\n",
       "    .dataframe thead th {\n",
       "        text-align: right;\n",
       "    }\n",
       "</style>\n",
       "<table border=\"1\" class=\"dataframe\">\n",
       "  <thead>\n",
       "    <tr style=\"text-align: right;\">\n",
       "      <th></th>\n",
       "      <th>0</th>\n",
       "      <th>1</th>\n",
       "      <th>2</th>\n",
       "      <th>3</th>\n",
       "      <th>4</th>\n",
       "      <th>5</th>\n",
       "      <th>6</th>\n",
       "      <th>7</th>\n",
       "      <th>8</th>\n",
       "      <th>9</th>\n",
       "      <th>...</th>\n",
       "      <th>90</th>\n",
       "      <th>91</th>\n",
       "      <th>92</th>\n",
       "      <th>93</th>\n",
       "      <th>94</th>\n",
       "      <th>95</th>\n",
       "      <th>96</th>\n",
       "      <th>97</th>\n",
       "      <th>98</th>\n",
       "      <th>99</th>\n",
       "    </tr>\n",
       "  </thead>\n",
       "  <tbody>\n",
       "    <tr>\n",
       "      <th>0</th>\n",
       "      <td>71.0</td>\n",
       "      <td>100.0</td>\n",
       "      <td>15.0</td>\n",
       "      <td>6.0</td>\n",
       "      <td>77.0</td>\n",
       "      <td>52.0</td>\n",
       "      <td>31.0</td>\n",
       "      <td>78.0</td>\n",
       "      <td>18.0</td>\n",
       "      <td>28.0</td>\n",
       "      <td>...</td>\n",
       "      <td>73.0</td>\n",
       "      <td>38.0</td>\n",
       "      <td>66.0</td>\n",
       "      <td>77.0</td>\n",
       "      <td>7.0</td>\n",
       "      <td>97.0</td>\n",
       "      <td>69.0</td>\n",
       "      <td>42.0</td>\n",
       "      <td>58.0</td>\n",
       "      <td>27.0</td>\n",
       "    </tr>\n",
       "    <tr>\n",
       "      <th>1</th>\n",
       "      <td>9.0</td>\n",
       "      <td>66.0</td>\n",
       "      <td>19.0</td>\n",
       "      <td>86.0</td>\n",
       "      <td>5.0</td>\n",
       "      <td>100.0</td>\n",
       "      <td>8.0</td>\n",
       "      <td>62.0</td>\n",
       "      <td>16.0</td>\n",
       "      <td>8.0</td>\n",
       "      <td>...</td>\n",
       "      <td>40.0</td>\n",
       "      <td>76.0</td>\n",
       "      <td>19.0</td>\n",
       "      <td>34.0</td>\n",
       "      <td>89.0</td>\n",
       "      <td>84.0</td>\n",
       "      <td>37.0</td>\n",
       "      <td>29.0</td>\n",
       "      <td>73.0</td>\n",
       "      <td>20.0</td>\n",
       "    </tr>\n",
       "    <tr>\n",
       "      <th>2</th>\n",
       "      <td>51.0</td>\n",
       "      <td>14.0</td>\n",
       "      <td>22.0</td>\n",
       "      <td>12.0</td>\n",
       "      <td>84.0</td>\n",
       "      <td>94.0</td>\n",
       "      <td>39.0</td>\n",
       "      <td>24.0</td>\n",
       "      <td>31.0</td>\n",
       "      <td>62.0</td>\n",
       "      <td>...</td>\n",
       "      <td>4.0</td>\n",
       "      <td>88.0</td>\n",
       "      <td>95.0</td>\n",
       "      <td>56.0</td>\n",
       "      <td>89.0</td>\n",
       "      <td>10.0</td>\n",
       "      <td>33.0</td>\n",
       "      <td>100.0</td>\n",
       "      <td>82.0</td>\n",
       "      <td>42.0</td>\n",
       "    </tr>\n",
       "    <tr>\n",
       "      <th>3</th>\n",
       "      <td>2.0</td>\n",
       "      <td>61.0</td>\n",
       "      <td>16.0</td>\n",
       "      <td>44.0</td>\n",
       "      <td>30.0</td>\n",
       "      <td>19.0</td>\n",
       "      <td>79.0</td>\n",
       "      <td>16.0</td>\n",
       "      <td>98.0</td>\n",
       "      <td>12.0</td>\n",
       "      <td>...</td>\n",
       "      <td>92.0</td>\n",
       "      <td>98.0</td>\n",
       "      <td>16.0</td>\n",
       "      <td>36.0</td>\n",
       "      <td>73.0</td>\n",
       "      <td>30.0</td>\n",
       "      <td>49.0</td>\n",
       "      <td>98.0</td>\n",
       "      <td>96.0</td>\n",
       "      <td>27.0</td>\n",
       "    </tr>\n",
       "    <tr>\n",
       "      <th>4</th>\n",
       "      <td>64.0</td>\n",
       "      <td>63.0</td>\n",
       "      <td>9.0</td>\n",
       "      <td>39.0</td>\n",
       "      <td>78.0</td>\n",
       "      <td>38.0</td>\n",
       "      <td>46.0</td>\n",
       "      <td>77.0</td>\n",
       "      <td>41.0</td>\n",
       "      <td>57.0</td>\n",
       "      <td>...</td>\n",
       "      <td>44.0</td>\n",
       "      <td>79.0</td>\n",
       "      <td>61.0</td>\n",
       "      <td>93.0</td>\n",
       "      <td>22.0</td>\n",
       "      <td>8.0</td>\n",
       "      <td>59.0</td>\n",
       "      <td>58.0</td>\n",
       "      <td>78.0</td>\n",
       "      <td>92.0</td>\n",
       "    </tr>\n",
       "    <tr>\n",
       "      <th>...</th>\n",
       "      <td>...</td>\n",
       "      <td>...</td>\n",
       "      <td>...</td>\n",
       "      <td>...</td>\n",
       "      <td>...</td>\n",
       "      <td>...</td>\n",
       "      <td>...</td>\n",
       "      <td>...</td>\n",
       "      <td>...</td>\n",
       "      <td>...</td>\n",
       "      <td>...</td>\n",
       "      <td>...</td>\n",
       "      <td>...</td>\n",
       "      <td>...</td>\n",
       "      <td>...</td>\n",
       "      <td>...</td>\n",
       "      <td>...</td>\n",
       "      <td>...</td>\n",
       "      <td>...</td>\n",
       "      <td>...</td>\n",
       "      <td>...</td>\n",
       "    </tr>\n",
       "    <tr>\n",
       "      <th>539995</th>\n",
       "      <td>54.0</td>\n",
       "      <td>75.0</td>\n",
       "      <td>93.0</td>\n",
       "      <td>75.0</td>\n",
       "      <td>87.0</td>\n",
       "      <td>2.0</td>\n",
       "      <td>4.0</td>\n",
       "      <td>19.0</td>\n",
       "      <td>13.0</td>\n",
       "      <td>66.0</td>\n",
       "      <td>...</td>\n",
       "      <td>47.0</td>\n",
       "      <td>89.0</td>\n",
       "      <td>87.0</td>\n",
       "      <td>35.0</td>\n",
       "      <td>5.0</td>\n",
       "      <td>29.0</td>\n",
       "      <td>63.0</td>\n",
       "      <td>76.0</td>\n",
       "      <td>92.0</td>\n",
       "      <td>90.0</td>\n",
       "    </tr>\n",
       "    <tr>\n",
       "      <th>539996</th>\n",
       "      <td>43.0</td>\n",
       "      <td>40.0</td>\n",
       "      <td>22.0</td>\n",
       "      <td>47.0</td>\n",
       "      <td>98.0</td>\n",
       "      <td>33.0</td>\n",
       "      <td>70.0</td>\n",
       "      <td>48.0</td>\n",
       "      <td>83.0</td>\n",
       "      <td>42.0</td>\n",
       "      <td>...</td>\n",
       "      <td>37.0</td>\n",
       "      <td>80.0</td>\n",
       "      <td>58.0</td>\n",
       "      <td>80.0</td>\n",
       "      <td>78.0</td>\n",
       "      <td>85.0</td>\n",
       "      <td>99.0</td>\n",
       "      <td>95.0</td>\n",
       "      <td>53.0</td>\n",
       "      <td>69.0</td>\n",
       "    </tr>\n",
       "    <tr>\n",
       "      <th>539997</th>\n",
       "      <td>68.0</td>\n",
       "      <td>13.0</td>\n",
       "      <td>97.0</td>\n",
       "      <td>64.0</td>\n",
       "      <td>42.0</td>\n",
       "      <td>79.0</td>\n",
       "      <td>70.0</td>\n",
       "      <td>91.0</td>\n",
       "      <td>60.0</td>\n",
       "      <td>37.0</td>\n",
       "      <td>...</td>\n",
       "      <td>49.0</td>\n",
       "      <td>26.0</td>\n",
       "      <td>32.0</td>\n",
       "      <td>66.0</td>\n",
       "      <td>3.0</td>\n",
       "      <td>11.0</td>\n",
       "      <td>95.0</td>\n",
       "      <td>98.0</td>\n",
       "      <td>14.0</td>\n",
       "      <td>36.0</td>\n",
       "    </tr>\n",
       "    <tr>\n",
       "      <th>539998</th>\n",
       "      <td>97.0</td>\n",
       "      <td>31.0</td>\n",
       "      <td>93.0</td>\n",
       "      <td>87.0</td>\n",
       "      <td>5.0</td>\n",
       "      <td>31.0</td>\n",
       "      <td>28.0</td>\n",
       "      <td>94.0</td>\n",
       "      <td>53.0</td>\n",
       "      <td>56.0</td>\n",
       "      <td>...</td>\n",
       "      <td>84.0</td>\n",
       "      <td>72.0</td>\n",
       "      <td>6.0</td>\n",
       "      <td>53.0</td>\n",
       "      <td>91.0</td>\n",
       "      <td>20.0</td>\n",
       "      <td>37.0</td>\n",
       "      <td>25.0</td>\n",
       "      <td>35.0</td>\n",
       "      <td>73.0</td>\n",
       "    </tr>\n",
       "    <tr>\n",
       "      <th>539999</th>\n",
       "      <td>10.0</td>\n",
       "      <td>54.0</td>\n",
       "      <td>24.0</td>\n",
       "      <td>21.0</td>\n",
       "      <td>29.0</td>\n",
       "      <td>99.0</td>\n",
       "      <td>76.0</td>\n",
       "      <td>33.0</td>\n",
       "      <td>57.0</td>\n",
       "      <td>4.0</td>\n",
       "      <td>...</td>\n",
       "      <td>20.0</td>\n",
       "      <td>88.0</td>\n",
       "      <td>3.0</td>\n",
       "      <td>45.0</td>\n",
       "      <td>2.0</td>\n",
       "      <td>8.0</td>\n",
       "      <td>100.0</td>\n",
       "      <td>68.0</td>\n",
       "      <td>11.0</td>\n",
       "      <td>81.0</td>\n",
       "    </tr>\n",
       "  </tbody>\n",
       "</table>\n",
       "<p>540000 rows × 100 columns</p>\n",
       "</div>"
      ],
      "text/plain": [
       "          0      1     2     3     4      5     6     7     8     9   ...  \\\n",
       "0       71.0  100.0  15.0   6.0  77.0   52.0  31.0  78.0  18.0  28.0  ...   \n",
       "1        9.0   66.0  19.0  86.0   5.0  100.0   8.0  62.0  16.0   8.0  ...   \n",
       "2       51.0   14.0  22.0  12.0  84.0   94.0  39.0  24.0  31.0  62.0  ...   \n",
       "3        2.0   61.0  16.0  44.0  30.0   19.0  79.0  16.0  98.0  12.0  ...   \n",
       "4       64.0   63.0   9.0  39.0  78.0   38.0  46.0  77.0  41.0  57.0  ...   \n",
       "...      ...    ...   ...   ...   ...    ...   ...   ...   ...   ...  ...   \n",
       "539995  54.0   75.0  93.0  75.0  87.0    2.0   4.0  19.0  13.0  66.0  ...   \n",
       "539996  43.0   40.0  22.0  47.0  98.0   33.0  70.0  48.0  83.0  42.0  ...   \n",
       "539997  68.0   13.0  97.0  64.0  42.0   79.0  70.0  91.0  60.0  37.0  ...   \n",
       "539998  97.0   31.0  93.0  87.0   5.0   31.0  28.0  94.0  53.0  56.0  ...   \n",
       "539999  10.0   54.0  24.0  21.0  29.0   99.0  76.0  33.0  57.0   4.0  ...   \n",
       "\n",
       "          90    91    92    93    94    95     96     97    98    99  \n",
       "0       73.0  38.0  66.0  77.0   7.0  97.0   69.0   42.0  58.0  27.0  \n",
       "1       40.0  76.0  19.0  34.0  89.0  84.0   37.0   29.0  73.0  20.0  \n",
       "2        4.0  88.0  95.0  56.0  89.0  10.0   33.0  100.0  82.0  42.0  \n",
       "3       92.0  98.0  16.0  36.0  73.0  30.0   49.0   98.0  96.0  27.0  \n",
       "4       44.0  79.0  61.0  93.0  22.0   8.0   59.0   58.0  78.0  92.0  \n",
       "...      ...   ...   ...   ...   ...   ...    ...    ...   ...   ...  \n",
       "539995  47.0  89.0  87.0  35.0   5.0  29.0   63.0   76.0  92.0  90.0  \n",
       "539996  37.0  80.0  58.0  80.0  78.0  85.0   99.0   95.0  53.0  69.0  \n",
       "539997  49.0  26.0  32.0  66.0   3.0  11.0   95.0   98.0  14.0  36.0  \n",
       "539998  84.0  72.0   6.0  53.0  91.0  20.0   37.0   25.0  35.0  73.0  \n",
       "539999  20.0  88.0   3.0  45.0   2.0   8.0  100.0   68.0  11.0  81.0  \n",
       "\n",
       "[540000 rows x 100 columns]"
      ]
     },
     "execution_count": 46,
     "metadata": {},
     "output_type": "execute_result"
    }
   ],
   "source": [
    "X_test_tab_df.iloc[:,:100]"
   ]
  },
  {
   "cell_type": "code",
   "execution_count": 47,
   "id": "62a2de98-547c-459e-9aec-c78c803db8bc",
   "metadata": {},
   "outputs": [
    {
     "name": "stderr",
     "output_type": "stream",
     "text": [
      "/home/sf/anaconda3/envs/tabular-x/lib/python3.8/site-packages/ipykernel/ipkernel.py:287: DeprecationWarning: `should_run_async` will not call `transform_cell` automatically in the future. Please pass the result to `transformed_cell` argument and any exception that happen during thetransform in `preprocessing_exc_tuple` in IPython 7.17 and above.\n",
      "  and should_run_async(code)\n"
     ]
    }
   ],
   "source": [
    "X_test_tab_df.index = X_test_pre.index\n",
    "X_test_tab_df.columns = X_test_pre.columns"
   ]
  },
  {
   "cell_type": "code",
   "execution_count": 48,
   "id": "a43beeee-7b9e-4f8b-9616-4db3c93ac9e3",
   "metadata": {},
   "outputs": [
    {
     "data": {
      "text/html": [
       "<div>\n",
       "<style scoped>\n",
       "    .dataframe tbody tr th:only-of-type {\n",
       "        vertical-align: middle;\n",
       "    }\n",
       "\n",
       "    .dataframe tbody tr th {\n",
       "        vertical-align: top;\n",
       "    }\n",
       "\n",
       "    .dataframe thead tr th {\n",
       "        text-align: left;\n",
       "    }\n",
       "</style>\n",
       "<table border=\"1\" class=\"dataframe\">\n",
       "  <thead>\n",
       "    <tr>\n",
       "      <th></th>\n",
       "      <th colspan=\"2\" halign=\"left\">f0</th>\n",
       "      <th colspan=\"2\" halign=\"left\">f1</th>\n",
       "      <th colspan=\"2\" halign=\"left\">f2</th>\n",
       "      <th colspan=\"2\" halign=\"left\">f3</th>\n",
       "      <th colspan=\"2\" halign=\"left\">f4</th>\n",
       "      <th>...</th>\n",
       "      <th colspan=\"2\" halign=\"left\">rkd_f95</th>\n",
       "      <th colspan=\"2\" halign=\"left\">rkd_f96</th>\n",
       "      <th colspan=\"2\" halign=\"left\">rkd_f97</th>\n",
       "      <th colspan=\"2\" halign=\"left\">rkd_f98</th>\n",
       "      <th colspan=\"2\" halign=\"left\">rkd_f99</th>\n",
       "    </tr>\n",
       "    <tr>\n",
       "      <th></th>\n",
       "      <th>self</th>\n",
       "      <th>other</th>\n",
       "      <th>self</th>\n",
       "      <th>other</th>\n",
       "      <th>self</th>\n",
       "      <th>other</th>\n",
       "      <th>self</th>\n",
       "      <th>other</th>\n",
       "      <th>self</th>\n",
       "      <th>other</th>\n",
       "      <th>...</th>\n",
       "      <th>self</th>\n",
       "      <th>other</th>\n",
       "      <th>self</th>\n",
       "      <th>other</th>\n",
       "      <th>self</th>\n",
       "      <th>other</th>\n",
       "      <th>self</th>\n",
       "      <th>other</th>\n",
       "      <th>self</th>\n",
       "      <th>other</th>\n",
       "    </tr>\n",
       "  </thead>\n",
       "  <tbody>\n",
       "    <tr>\n",
       "      <th>0</th>\n",
       "      <td>71.0</td>\n",
       "      <td>-0.619456</td>\n",
       "      <td>100.0</td>\n",
       "      <td>1.034341</td>\n",
       "      <td>15.0</td>\n",
       "      <td>0.645473</td>\n",
       "      <td>6.0</td>\n",
       "      <td>-0.052261</td>\n",
       "      <td>77.0</td>\n",
       "      <td>0.978103</td>\n",
       "      <td>...</td>\n",
       "      <td>-0.600123</td>\n",
       "      <td>19.0</td>\n",
       "      <td>-0.869643</td>\n",
       "      <td>8.0</td>\n",
       "      <td>-0.141218</td>\n",
       "      <td>35.0</td>\n",
       "      <td>0.594689</td>\n",
       "      <td>80.0</td>\n",
       "      <td>-0.482751</td>\n",
       "      <td>19.0</td>\n",
       "    </tr>\n",
       "    <tr>\n",
       "      <th>1</th>\n",
       "      <td>9.0</td>\n",
       "      <td>-0.567866</td>\n",
       "      <td>66.0</td>\n",
       "      <td>-0.696955</td>\n",
       "      <td>19.0</td>\n",
       "      <td>-1.432455</td>\n",
       "      <td>86.0</td>\n",
       "      <td>0.168759</td>\n",
       "      <td>5.0</td>\n",
       "      <td>-0.323556</td>\n",
       "      <td>...</td>\n",
       "      <td>-0.678709</td>\n",
       "      <td>16.0</td>\n",
       "      <td>-1.463564</td>\n",
       "      <td>1.0</td>\n",
       "      <td>0.435769</td>\n",
       "      <td>70.0</td>\n",
       "      <td>-0.050832</td>\n",
       "      <td>40.0</td>\n",
       "      <td>0.600260</td>\n",
       "      <td>78.0</td>\n",
       "    </tr>\n",
       "    <tr>\n",
       "      <th>2</th>\n",
       "      <td>51.0</td>\n",
       "      <td>1.206383</td>\n",
       "      <td>14.0</td>\n",
       "      <td>0.061464</td>\n",
       "      <td>22.0</td>\n",
       "      <td>-1.530707</td>\n",
       "      <td>12.0</td>\n",
       "      <td>0.342272</td>\n",
       "      <td>84.0</td>\n",
       "      <td>0.997053</td>\n",
       "      <td>...</td>\n",
       "      <td>1.163285</td>\n",
       "      <td>96.0</td>\n",
       "      <td>0.591371</td>\n",
       "      <td>81.0</td>\n",
       "      <td>0.298905</td>\n",
       "      <td>61.0</td>\n",
       "      <td>0.506683</td>\n",
       "      <td>72.0</td>\n",
       "      <td>0.127049</td>\n",
       "      <td>51.0</td>\n",
       "    </tr>\n",
       "    <tr>\n",
       "      <th>3</th>\n",
       "      <td>2.0</td>\n",
       "      <td>0.184687</td>\n",
       "      <td>61.0</td>\n",
       "      <td>0.248307</td>\n",
       "      <td>16.0</td>\n",
       "      <td>0.181383</td>\n",
       "      <td>44.0</td>\n",
       "      <td>-0.740751</td>\n",
       "      <td>30.0</td>\n",
       "      <td>0.010582</td>\n",
       "      <td>...</td>\n",
       "      <td>-0.493061</td>\n",
       "      <td>23.0</td>\n",
       "      <td>0.108958</td>\n",
       "      <td>53.0</td>\n",
       "      <td>-1.577487</td>\n",
       "      <td>0.0</td>\n",
       "      <td>0.001990</td>\n",
       "      <td>43.0</td>\n",
       "      <td>-0.494960</td>\n",
       "      <td>19.0</td>\n",
       "    </tr>\n",
       "    <tr>\n",
       "      <th>4</th>\n",
       "      <td>64.0</td>\n",
       "      <td>0.157196</td>\n",
       "      <td>63.0</td>\n",
       "      <td>1.299613</td>\n",
       "      <td>9.0</td>\n",
       "      <td>-0.026028</td>\n",
       "      <td>39.0</td>\n",
       "      <td>-1.526828</td>\n",
       "      <td>78.0</td>\n",
       "      <td>0.250719</td>\n",
       "      <td>...</td>\n",
       "      <td>0.001422</td>\n",
       "      <td>49.0</td>\n",
       "      <td>-0.368938</td>\n",
       "      <td>24.0</td>\n",
       "      <td>0.393910</td>\n",
       "      <td>67.0</td>\n",
       "      <td>0.641184</td>\n",
       "      <td>83.0</td>\n",
       "      <td>-1.435955</td>\n",
       "      <td>1.0</td>\n",
       "    </tr>\n",
       "    <tr>\n",
       "      <th>...</th>\n",
       "      <td>...</td>\n",
       "      <td>...</td>\n",
       "      <td>...</td>\n",
       "      <td>...</td>\n",
       "      <td>...</td>\n",
       "      <td>...</td>\n",
       "      <td>...</td>\n",
       "      <td>...</td>\n",
       "      <td>...</td>\n",
       "      <td>...</td>\n",
       "      <td>...</td>\n",
       "      <td>...</td>\n",
       "      <td>...</td>\n",
       "      <td>...</td>\n",
       "      <td>...</td>\n",
       "      <td>...</td>\n",
       "      <td>...</td>\n",
       "      <td>...</td>\n",
       "      <td>...</td>\n",
       "      <td>...</td>\n",
       "      <td>...</td>\n",
       "    </tr>\n",
       "    <tr>\n",
       "      <th>539995</th>\n",
       "      <td>54.0</td>\n",
       "      <td>0.507008</td>\n",
       "      <td>75.0</td>\n",
       "      <td>-0.207350</td>\n",
       "      <td>93.0</td>\n",
       "      <td>-0.502140</td>\n",
       "      <td>75.0</td>\n",
       "      <td>0.143403</td>\n",
       "      <td>87.0</td>\n",
       "      <td>1.900548</td>\n",
       "      <td>...</td>\n",
       "      <td>-0.404615</td>\n",
       "      <td>27.0</td>\n",
       "      <td>0.259662</td>\n",
       "      <td>63.0</td>\n",
       "      <td>-0.354882</td>\n",
       "      <td>22.0</td>\n",
       "      <td>0.075677</td>\n",
       "      <td>47.0</td>\n",
       "      <td>-0.277749</td>\n",
       "      <td>29.0</td>\n",
       "    </tr>\n",
       "    <tr>\n",
       "      <th>539996</th>\n",
       "      <td>43.0</td>\n",
       "      <td>-0.104095</td>\n",
       "      <td>40.0</td>\n",
       "      <td>0.039292</td>\n",
       "      <td>22.0</td>\n",
       "      <td>-1.646022</td>\n",
       "      <td>47.0</td>\n",
       "      <td>0.081841</td>\n",
       "      <td>98.0</td>\n",
       "      <td>1.265921</td>\n",
       "      <td>...</td>\n",
       "      <td>-1.166199</td>\n",
       "      <td>5.0</td>\n",
       "      <td>0.810811</td>\n",
       "      <td>89.0</td>\n",
       "      <td>0.127410</td>\n",
       "      <td>51.0</td>\n",
       "      <td>-0.376520</td>\n",
       "      <td>24.0</td>\n",
       "      <td>0.290122</td>\n",
       "      <td>60.0</td>\n",
       "    </tr>\n",
       "    <tr>\n",
       "      <th>539997</th>\n",
       "      <td>68.0</td>\n",
       "      <td>0.456958</td>\n",
       "      <td>13.0</td>\n",
       "      <td>0.086246</td>\n",
       "      <td>97.0</td>\n",
       "      <td>-1.131546</td>\n",
       "      <td>64.0</td>\n",
       "      <td>-0.510218</td>\n",
       "      <td>42.0</td>\n",
       "      <td>-0.135827</td>\n",
       "      <td>...</td>\n",
       "      <td>0.730754</td>\n",
       "      <td>88.0</td>\n",
       "      <td>-0.677356</td>\n",
       "      <td>13.0</td>\n",
       "      <td>-2.516733</td>\n",
       "      <td>0.0</td>\n",
       "      <td>1.074364</td>\n",
       "      <td>94.0</td>\n",
       "      <td>0.615870</td>\n",
       "      <td>79.0</td>\n",
       "    </tr>\n",
       "    <tr>\n",
       "      <th>539998</th>\n",
       "      <td>97.0</td>\n",
       "      <td>1.407662</td>\n",
       "      <td>31.0</td>\n",
       "      <td>0.358961</td>\n",
       "      <td>93.0</td>\n",
       "      <td>-0.485754</td>\n",
       "      <td>87.0</td>\n",
       "      <td>-1.199317</td>\n",
       "      <td>5.0</td>\n",
       "      <td>-0.324590</td>\n",
       "      <td>...</td>\n",
       "      <td>0.279124</td>\n",
       "      <td>65.0</td>\n",
       "      <td>-1.404330</td>\n",
       "      <td>1.0</td>\n",
       "      <td>-0.784474</td>\n",
       "      <td>8.0</td>\n",
       "      <td>0.023141</td>\n",
       "      <td>44.0</td>\n",
       "      <td>0.324843</td>\n",
       "      <td>62.0</td>\n",
       "    </tr>\n",
       "    <tr>\n",
       "      <th>539999</th>\n",
       "      <td>10.0</td>\n",
       "      <td>0.554393</td>\n",
       "      <td>54.0</td>\n",
       "      <td>0.125147</td>\n",
       "      <td>24.0</td>\n",
       "      <td>0.473817</td>\n",
       "      <td>21.0</td>\n",
       "      <td>0.849644</td>\n",
       "      <td>29.0</td>\n",
       "      <td>0.135994</td>\n",
       "      <td>...</td>\n",
       "      <td>-0.007671</td>\n",
       "      <td>49.0</td>\n",
       "      <td>-0.355156</td>\n",
       "      <td>25.0</td>\n",
       "      <td>-0.880579</td>\n",
       "      <td>6.0</td>\n",
       "      <td>0.199633</td>\n",
       "      <td>54.0</td>\n",
       "      <td>0.523092</td>\n",
       "      <td>72.0</td>\n",
       "    </tr>\n",
       "  </tbody>\n",
       "</table>\n",
       "<p>540000 rows × 400 columns</p>\n",
       "</div>"
      ],
      "text/plain": [
       "          f0               f1              f2              f3              f4  \\\n",
       "        self     other   self     other  self     other  self     other  self   \n",
       "0       71.0 -0.619456  100.0  1.034341  15.0  0.645473   6.0 -0.052261  77.0   \n",
       "1        9.0 -0.567866   66.0 -0.696955  19.0 -1.432455  86.0  0.168759   5.0   \n",
       "2       51.0  1.206383   14.0  0.061464  22.0 -1.530707  12.0  0.342272  84.0   \n",
       "3        2.0  0.184687   61.0  0.248307  16.0  0.181383  44.0 -0.740751  30.0   \n",
       "4       64.0  0.157196   63.0  1.299613   9.0 -0.026028  39.0 -1.526828  78.0   \n",
       "...      ...       ...    ...       ...   ...       ...   ...       ...   ...   \n",
       "539995  54.0  0.507008   75.0 -0.207350  93.0 -0.502140  75.0  0.143403  87.0   \n",
       "539996  43.0 -0.104095   40.0  0.039292  22.0 -1.646022  47.0  0.081841  98.0   \n",
       "539997  68.0  0.456958   13.0  0.086246  97.0 -1.131546  64.0 -0.510218  42.0   \n",
       "539998  97.0  1.407662   31.0  0.358961  93.0 -0.485754  87.0 -1.199317   5.0   \n",
       "539999  10.0  0.554393   54.0  0.125147  24.0  0.473817  21.0  0.849644  29.0   \n",
       "\n",
       "                  ...   rkd_f95         rkd_f96         rkd_f97        \\\n",
       "           other  ...      self other      self other      self other   \n",
       "0       0.978103  ... -0.600123  19.0 -0.869643   8.0 -0.141218  35.0   \n",
       "1      -0.323556  ... -0.678709  16.0 -1.463564   1.0  0.435769  70.0   \n",
       "2       0.997053  ...  1.163285  96.0  0.591371  81.0  0.298905  61.0   \n",
       "3       0.010582  ... -0.493061  23.0  0.108958  53.0 -1.577487   0.0   \n",
       "4       0.250719  ...  0.001422  49.0 -0.368938  24.0  0.393910  67.0   \n",
       "...          ...  ...       ...   ...       ...   ...       ...   ...   \n",
       "539995  1.900548  ... -0.404615  27.0  0.259662  63.0 -0.354882  22.0   \n",
       "539996  1.265921  ... -1.166199   5.0  0.810811  89.0  0.127410  51.0   \n",
       "539997 -0.135827  ...  0.730754  88.0 -0.677356  13.0 -2.516733   0.0   \n",
       "539998 -0.324590  ...  0.279124  65.0 -1.404330   1.0 -0.784474   8.0   \n",
       "539999  0.135994  ... -0.007671  49.0 -0.355156  25.0 -0.880579   6.0   \n",
       "\n",
       "         rkd_f98         rkd_f99        \n",
       "            self other      self other  \n",
       "0       0.594689  80.0 -0.482751  19.0  \n",
       "1      -0.050832  40.0  0.600260  78.0  \n",
       "2       0.506683  72.0  0.127049  51.0  \n",
       "3       0.001990  43.0 -0.494960  19.0  \n",
       "4       0.641184  83.0 -1.435955   1.0  \n",
       "...          ...   ...       ...   ...  \n",
       "539995  0.075677  47.0 -0.277749  29.0  \n",
       "539996 -0.376520  24.0  0.290122  60.0  \n",
       "539997  1.074364  94.0  0.615870  79.0  \n",
       "539998  0.023141  44.0  0.324843  62.0  \n",
       "539999  0.199633  54.0  0.523092  72.0  \n",
       "\n",
       "[540000 rows x 400 columns]"
      ]
     },
     "execution_count": 48,
     "metadata": {},
     "output_type": "execute_result"
    }
   ],
   "source": [
    "X_test_tab_df.compare(X_test_pre)"
   ]
  },
  {
   "cell_type": "code",
   "execution_count": 49,
   "id": "e769b635-3227-4043-a0ca-2c4a131c7a23",
   "metadata": {},
   "outputs": [
    {
     "name": "stderr",
     "output_type": "stream",
     "text": [
      "/home/sf/anaconda3/envs/tabular-x/lib/python3.8/site-packages/ipykernel/ipkernel.py:287: DeprecationWarning: `should_run_async` will not call `transform_cell` automatically in the future. Please pass the result to `transformed_cell` argument and any exception that happen during thetransform in `preprocessing_exc_tuple` in IPython 7.17 and above.\n",
      "  and should_run_async(code)\n"
     ]
    }
   ],
   "source": [
    "X_test_tab_reordered = X_test_tab_df.iloc[:, 100:].join(X_test_tab_df.iloc[:, :100])"
   ]
  },
  {
   "cell_type": "code",
   "execution_count": 50,
   "id": "0e700db8-a1ec-47dd-a408-36971951112c",
   "metadata": {},
   "outputs": [],
   "source": [
    "X_test_tab_reordered.columns = X_test_pre.columns"
   ]
  },
  {
   "cell_type": "code",
   "execution_count": 87,
   "id": "9a8aaaeb-0e59-4a2c-bf8c-b91d3f5ec281",
   "metadata": {},
   "outputs": [
    {
     "name": "stderr",
     "output_type": "stream",
     "text": [
      "/home/sf/anaconda3/envs/tabular-x/lib/python3.8/site-packages/ipykernel/ipkernel.py:287: DeprecationWarning: `should_run_async` will not call `transform_cell` automatically in the future. Please pass the result to `transformed_cell` argument and any exception that happen during thetransform in `preprocessing_exc_tuple` in IPython 7.17 and above.\n",
      "  and should_run_async(code)\n"
     ]
    },
    {
     "data": {
      "text/html": [
       "<div>\n",
       "<style scoped>\n",
       "    .dataframe tbody tr th:only-of-type {\n",
       "        vertical-align: middle;\n",
       "    }\n",
       "\n",
       "    .dataframe tbody tr th {\n",
       "        vertical-align: top;\n",
       "    }\n",
       "\n",
       "    .dataframe thead tr th {\n",
       "        text-align: left;\n",
       "    }\n",
       "</style>\n",
       "<table border=\"1\" class=\"dataframe\">\n",
       "  <thead>\n",
       "    <tr>\n",
       "      <th></th>\n",
       "      <th colspan=\"2\" halign=\"left\">f0</th>\n",
       "      <th colspan=\"2\" halign=\"left\">f1</th>\n",
       "      <th colspan=\"2\" halign=\"left\">f2</th>\n",
       "      <th colspan=\"2\" halign=\"left\">f3</th>\n",
       "      <th colspan=\"2\" halign=\"left\">f4</th>\n",
       "      <th>...</th>\n",
       "      <th colspan=\"2\" halign=\"left\">rkd_f95</th>\n",
       "      <th colspan=\"2\" halign=\"left\">rkd_f96</th>\n",
       "      <th colspan=\"2\" halign=\"left\">rkd_f97</th>\n",
       "      <th colspan=\"2\" halign=\"left\">rkd_f98</th>\n",
       "      <th colspan=\"2\" halign=\"left\">rkd_f99</th>\n",
       "    </tr>\n",
       "    <tr>\n",
       "      <th></th>\n",
       "      <th>self</th>\n",
       "      <th>other</th>\n",
       "      <th>self</th>\n",
       "      <th>other</th>\n",
       "      <th>self</th>\n",
       "      <th>other</th>\n",
       "      <th>self</th>\n",
       "      <th>other</th>\n",
       "      <th>self</th>\n",
       "      <th>other</th>\n",
       "      <th>...</th>\n",
       "      <th>self</th>\n",
       "      <th>other</th>\n",
       "      <th>self</th>\n",
       "      <th>other</th>\n",
       "      <th>self</th>\n",
       "      <th>other</th>\n",
       "      <th>self</th>\n",
       "      <th>other</th>\n",
       "      <th>self</th>\n",
       "      <th>other</th>\n",
       "    </tr>\n",
       "  </thead>\n",
       "  <tbody>\n",
       "    <tr>\n",
       "      <th>0</th>\n",
       "      <td>-0.944192</td>\n",
       "      <td>-0.619456</td>\n",
       "      <td>1.494019</td>\n",
       "      <td>1.034341</td>\n",
       "      <td>0.942166</td>\n",
       "      <td>0.645473</td>\n",
       "      <td>-0.177913</td>\n",
       "      <td>-0.052261</td>\n",
       "      <td>1.384562</td>\n",
       "      <td>0.978103</td>\n",
       "      <td>...</td>\n",
       "      <td>97.0</td>\n",
       "      <td>19.0</td>\n",
       "      <td>69.0</td>\n",
       "      <td>8.0</td>\n",
       "      <td>42.0</td>\n",
       "      <td>35.0</td>\n",
       "      <td>58.0</td>\n",
       "      <td>80.0</td>\n",
       "      <td>27.0</td>\n",
       "      <td>19.0</td>\n",
       "    </tr>\n",
       "    <tr>\n",
       "      <th>1</th>\n",
       "      <td>-0.869091</td>\n",
       "      <td>-0.567866</td>\n",
       "      <td>-1.198756</td>\n",
       "      <td>-0.696955</td>\n",
       "      <td>-2.210408</td>\n",
       "      <td>-1.432455</td>\n",
       "      <td>0.168864</td>\n",
       "      <td>0.168759</td>\n",
       "      <td>-0.529212</td>\n",
       "      <td>-0.323556</td>\n",
       "      <td>...</td>\n",
       "      <td>84.0</td>\n",
       "      <td>16.0</td>\n",
       "      <td>37.0</td>\n",
       "      <td>1.0</td>\n",
       "      <td>29.0</td>\n",
       "      <td>70.0</td>\n",
       "      <td>73.0</td>\n",
       "      <td>40.0</td>\n",
       "      <td>20.0</td>\n",
       "      <td>78.0</td>\n",
       "    </tr>\n",
       "    <tr>\n",
       "      <th>2</th>\n",
       "      <td>1.713748</td>\n",
       "      <td>1.206383</td>\n",
       "      <td>-0.019148</td>\n",
       "      <td>0.061464</td>\n",
       "      <td>-2.359474</td>\n",
       "      <td>-1.530707</td>\n",
       "      <td>0.441106</td>\n",
       "      <td>0.342272</td>\n",
       "      <td>1.412423</td>\n",
       "      <td>0.997053</td>\n",
       "      <td>...</td>\n",
       "      <td>10.0</td>\n",
       "      <td>96.0</td>\n",
       "      <td>33.0</td>\n",
       "      <td>81.0</td>\n",
       "      <td>100.0</td>\n",
       "      <td>61.0</td>\n",
       "      <td>82.0</td>\n",
       "      <td>72.0</td>\n",
       "      <td>42.0</td>\n",
       "      <td>51.0</td>\n",
       "    </tr>\n",
       "    <tr>\n",
       "      <th>3</th>\n",
       "      <td>0.226428</td>\n",
       "      <td>0.184687</td>\n",
       "      <td>0.271459</td>\n",
       "      <td>0.248307</td>\n",
       "      <td>0.238061</td>\n",
       "      <td>0.181383</td>\n",
       "      <td>-1.258147</td>\n",
       "      <td>-0.740751</td>\n",
       "      <td>-0.037943</td>\n",
       "      <td>0.010582</td>\n",
       "      <td>...</td>\n",
       "      <td>30.0</td>\n",
       "      <td>23.0</td>\n",
       "      <td>49.0</td>\n",
       "      <td>53.0</td>\n",
       "      <td>98.0</td>\n",
       "      <td>0.0</td>\n",
       "      <td>96.0</td>\n",
       "      <td>43.0</td>\n",
       "      <td>27.0</td>\n",
       "      <td>19.0</td>\n",
       "    </tr>\n",
       "    <tr>\n",
       "      <th>4</th>\n",
       "      <td>0.186409</td>\n",
       "      <td>0.157196</td>\n",
       "      <td>1.906609</td>\n",
       "      <td>1.299613</td>\n",
       "      <td>-0.076616</td>\n",
       "      <td>-0.026028</td>\n",
       "      <td>-2.491493</td>\n",
       "      <td>-1.526828</td>\n",
       "      <td>0.315120</td>\n",
       "      <td>0.250719</td>\n",
       "      <td>...</td>\n",
       "      <td>8.0</td>\n",
       "      <td>49.0</td>\n",
       "      <td>59.0</td>\n",
       "      <td>24.0</td>\n",
       "      <td>58.0</td>\n",
       "      <td>67.0</td>\n",
       "      <td>78.0</td>\n",
       "      <td>83.0</td>\n",
       "      <td>92.0</td>\n",
       "      <td>1.0</td>\n",
       "    </tr>\n",
       "    <tr>\n",
       "      <th>...</th>\n",
       "      <td>...</td>\n",
       "      <td>...</td>\n",
       "      <td>...</td>\n",
       "      <td>...</td>\n",
       "      <td>...</td>\n",
       "      <td>...</td>\n",
       "      <td>...</td>\n",
       "      <td>...</td>\n",
       "      <td>...</td>\n",
       "      <td>...</td>\n",
       "      <td>...</td>\n",
       "      <td>...</td>\n",
       "      <td>...</td>\n",
       "      <td>...</td>\n",
       "      <td>...</td>\n",
       "      <td>...</td>\n",
       "      <td>...</td>\n",
       "      <td>...</td>\n",
       "      <td>...</td>\n",
       "      <td>...</td>\n",
       "      <td>...</td>\n",
       "    </tr>\n",
       "    <tr>\n",
       "      <th>539995</th>\n",
       "      <td>0.695642</td>\n",
       "      <td>0.507008</td>\n",
       "      <td>-0.437247</td>\n",
       "      <td>-0.207350</td>\n",
       "      <td>-0.798960</td>\n",
       "      <td>-0.502140</td>\n",
       "      <td>0.129081</td>\n",
       "      <td>0.143403</td>\n",
       "      <td>2.740795</td>\n",
       "      <td>1.900548</td>\n",
       "      <td>...</td>\n",
       "      <td>29.0</td>\n",
       "      <td>27.0</td>\n",
       "      <td>NaN</td>\n",
       "      <td>NaN</td>\n",
       "      <td>76.0</td>\n",
       "      <td>22.0</td>\n",
       "      <td>92.0</td>\n",
       "      <td>47.0</td>\n",
       "      <td>90.0</td>\n",
       "      <td>29.0</td>\n",
       "    </tr>\n",
       "    <tr>\n",
       "      <th>539996</th>\n",
       "      <td>-0.193963</td>\n",
       "      <td>-0.104095</td>\n",
       "      <td>-0.053632</td>\n",
       "      <td>0.039292</td>\n",
       "      <td>-2.534425</td>\n",
       "      <td>-1.646022</td>\n",
       "      <td>0.032492</td>\n",
       "      <td>0.081841</td>\n",
       "      <td>1.807729</td>\n",
       "      <td>1.265921</td>\n",
       "      <td>...</td>\n",
       "      <td>85.0</td>\n",
       "      <td>5.0</td>\n",
       "      <td>99.0</td>\n",
       "      <td>89.0</td>\n",
       "      <td>95.0</td>\n",
       "      <td>51.0</td>\n",
       "      <td>53.0</td>\n",
       "      <td>24.0</td>\n",
       "      <td>69.0</td>\n",
       "      <td>60.0</td>\n",
       "    </tr>\n",
       "    <tr>\n",
       "      <th>539997</th>\n",
       "      <td>0.622783</td>\n",
       "      <td>0.456958</td>\n",
       "      <td>0.019397</td>\n",
       "      <td>0.086246</td>\n",
       "      <td>-1.753877</td>\n",
       "      <td>-1.131546</td>\n",
       "      <td>-0.896443</td>\n",
       "      <td>-0.510218</td>\n",
       "      <td>-0.253203</td>\n",
       "      <td>-0.135827</td>\n",
       "      <td>...</td>\n",
       "      <td>11.0</td>\n",
       "      <td>88.0</td>\n",
       "      <td>95.0</td>\n",
       "      <td>13.0</td>\n",
       "      <td>98.0</td>\n",
       "      <td>0.0</td>\n",
       "      <td>14.0</td>\n",
       "      <td>94.0</td>\n",
       "      <td>36.0</td>\n",
       "      <td>79.0</td>\n",
       "    </tr>\n",
       "    <tr>\n",
       "      <th>539998</th>\n",
       "      <td>2.006757</td>\n",
       "      <td>1.407662</td>\n",
       "      <td>0.443565</td>\n",
       "      <td>0.358961</td>\n",
       "      <td>-0.774099</td>\n",
       "      <td>-0.485754</td>\n",
       "      <td>-1.977632</td>\n",
       "      <td>-1.199317</td>\n",
       "      <td>-0.530732</td>\n",
       "      <td>-0.324590</td>\n",
       "      <td>...</td>\n",
       "      <td>20.0</td>\n",
       "      <td>65.0</td>\n",
       "      <td>37.0</td>\n",
       "      <td>1.0</td>\n",
       "      <td>25.0</td>\n",
       "      <td>8.0</td>\n",
       "      <td>35.0</td>\n",
       "      <td>44.0</td>\n",
       "      <td>73.0</td>\n",
       "      <td>62.0</td>\n",
       "    </tr>\n",
       "    <tr>\n",
       "      <th>539999</th>\n",
       "      <td>0.764622</td>\n",
       "      <td>0.554393</td>\n",
       "      <td>0.079902</td>\n",
       "      <td>0.125147</td>\n",
       "      <td>0.681734</td>\n",
       "      <td>0.473817</td>\n",
       "      <td>1.237167</td>\n",
       "      <td>0.849644</td>\n",
       "      <td>0.146444</td>\n",
       "      <td>0.135994</td>\n",
       "      <td>...</td>\n",
       "      <td>8.0</td>\n",
       "      <td>49.0</td>\n",
       "      <td>100.0</td>\n",
       "      <td>25.0</td>\n",
       "      <td>68.0</td>\n",
       "      <td>6.0</td>\n",
       "      <td>11.0</td>\n",
       "      <td>54.0</td>\n",
       "      <td>81.0</td>\n",
       "      <td>72.0</td>\n",
       "    </tr>\n",
       "  </tbody>\n",
       "</table>\n",
       "<p>540000 rows × 400 columns</p>\n",
       "</div>"
      ],
      "text/plain": [
       "              f0                  f1                  f2                  f3  \\\n",
       "            self     other      self     other      self     other      self   \n",
       "0      -0.944192 -0.619456  1.494019  1.034341  0.942166  0.645473 -0.177913   \n",
       "1      -0.869091 -0.567866 -1.198756 -0.696955 -2.210408 -1.432455  0.168864   \n",
       "2       1.713748  1.206383 -0.019148  0.061464 -2.359474 -1.530707  0.441106   \n",
       "3       0.226428  0.184687  0.271459  0.248307  0.238061  0.181383 -1.258147   \n",
       "4       0.186409  0.157196  1.906609  1.299613 -0.076616 -0.026028 -2.491493   \n",
       "...          ...       ...       ...       ...       ...       ...       ...   \n",
       "539995  0.695642  0.507008 -0.437247 -0.207350 -0.798960 -0.502140  0.129081   \n",
       "539996 -0.193963 -0.104095 -0.053632  0.039292 -2.534425 -1.646022  0.032492   \n",
       "539997  0.622783  0.456958  0.019397  0.086246 -1.753877 -1.131546 -0.896443   \n",
       "539998  2.006757  1.407662  0.443565  0.358961 -0.774099 -0.485754 -1.977632   \n",
       "539999  0.764622  0.554393  0.079902  0.125147  0.681734  0.473817  1.237167   \n",
       "\n",
       "                        f4            ... rkd_f95       rkd_f96       rkd_f97  \\\n",
       "           other      self     other  ...    self other    self other    self   \n",
       "0      -0.052261  1.384562  0.978103  ...    97.0  19.0    69.0   8.0    42.0   \n",
       "1       0.168759 -0.529212 -0.323556  ...    84.0  16.0    37.0   1.0    29.0   \n",
       "2       0.342272  1.412423  0.997053  ...    10.0  96.0    33.0  81.0   100.0   \n",
       "3      -0.740751 -0.037943  0.010582  ...    30.0  23.0    49.0  53.0    98.0   \n",
       "4      -1.526828  0.315120  0.250719  ...     8.0  49.0    59.0  24.0    58.0   \n",
       "...          ...       ...       ...  ...     ...   ...     ...   ...     ...   \n",
       "539995  0.143403  2.740795  1.900548  ...    29.0  27.0     NaN   NaN    76.0   \n",
       "539996  0.081841  1.807729  1.265921  ...    85.0   5.0    99.0  89.0    95.0   \n",
       "539997 -0.510218 -0.253203 -0.135827  ...    11.0  88.0    95.0  13.0    98.0   \n",
       "539998 -1.199317 -0.530732 -0.324590  ...    20.0  65.0    37.0   1.0    25.0   \n",
       "539999  0.849644  0.146444  0.135994  ...     8.0  49.0   100.0  25.0    68.0   \n",
       "\n",
       "             rkd_f98       rkd_f99        \n",
       "       other    self other    self other  \n",
       "0       35.0    58.0  80.0    27.0  19.0  \n",
       "1       70.0    73.0  40.0    20.0  78.0  \n",
       "2       61.0    82.0  72.0    42.0  51.0  \n",
       "3        0.0    96.0  43.0    27.0  19.0  \n",
       "4       67.0    78.0  83.0    92.0   1.0  \n",
       "...      ...     ...   ...     ...   ...  \n",
       "539995  22.0    92.0  47.0    90.0  29.0  \n",
       "539996  51.0    53.0  24.0    69.0  60.0  \n",
       "539997   0.0    14.0  94.0    36.0  79.0  \n",
       "539998   8.0    35.0  44.0    73.0  62.0  \n",
       "539999   6.0    11.0  54.0    81.0  72.0  \n",
       "\n",
       "[540000 rows x 400 columns]"
      ]
     },
     "execution_count": 87,
     "metadata": {},
     "output_type": "execute_result"
    }
   ],
   "source": [
    "X_test_tab_reordered.compare(X_test_pre)"
   ]
  },
  {
   "cell_type": "code",
   "execution_count": 52,
   "id": "a27fe491-0bd5-4e44-822c-14f9ee7132ac",
   "metadata": {},
   "outputs": [
    {
     "data": {
      "text/plain": [
       "(array([ 60187,  72708,  84460, 115714, 148146, 159870, 226322, 234164,\n",
       "        314815, 329817, 344893, 348131, 350202, 357178, 405041, 494088,\n",
       "        504259, 522269]),\n",
       " array([22, 22, 22, 67, 67, 67, 20, 20, 74, 95, 74, 95, 95, 67, 22, 80, 72,\n",
       "        20]))"
      ]
     },
     "execution_count": 52,
     "metadata": {},
     "output_type": "execute_result"
    }
   ],
   "source": [
    "np.where(np.isnan(X_test_pre))"
   ]
  },
  {
   "cell_type": "code",
   "execution_count": 68,
   "id": "c5b37c30-835a-439d-ad34-9336428a23d9",
   "metadata": {},
   "outputs": [],
   "source": [
    "col122 = pd.Series(X_test_tab[:, 122])"
   ]
  },
  {
   "cell_type": "code",
   "execution_count": 69,
   "id": "890e1de1-5e43-4dd5-80a5-4c00eaf731b2",
   "metadata": {},
   "outputs": [
    {
     "data": {
      "text/plain": [
       "<AxesSubplot:>"
      ]
     },
     "execution_count": 69,
     "metadata": {},
     "output_type": "execute_result"
    },
    {
     "data": {
      "image/png": "[encoded data removed]",
      "text/plain": [
       "<Figure size 432x288 with 1 Axes>"
      ]
     },
     "metadata": {
      "needs_background": "light"
     },
     "output_type": "display_data"
    }
   ],
   "source": [
    "col122.hist()"
   ]
  },
  {
   "cell_type": "code",
   "execution_count": 71,
   "id": "cf828467-5b0f-4d4c-8abc-49f9d99a546e",
   "metadata": {},
   "outputs": [
    {
     "data": {
      "text/plain": [
       "377808"
      ]
     },
     "execution_count": 71,
     "metadata": {},
     "output_type": "execute_result"
    }
   ],
   "source": [
    "len(col122.unique())"
   ]
  },
  {
   "cell_type": "code",
   "execution_count": 72,
   "id": "a2e4b74b-9851-4445-a9f9-ac780cae9dc6",
   "metadata": {},
   "outputs": [
    {
     "data": {
      "text/plain": [
       "-4.995806994750132"
      ]
     },
     "execution_count": 72,
     "metadata": {},
     "output_type": "execute_result"
    }
   ],
   "source": [
    "min(col122.unique())"
   ]
  },
  {
   "cell_type": "code",
   "execution_count": 73,
   "id": "9bf78158-5a0e-4698-ada5-96c1053b4708",
   "metadata": {},
   "outputs": [
    {
     "data": {
      "text/plain": [
       "4.1986239759478385"
      ]
     },
     "execution_count": 73,
     "metadata": {},
     "output_type": "execute_result"
    }
   ],
   "source": [
    "max(col122.unique())"
   ]
  },
  {
   "cell_type": "code",
   "execution_count": 56,
   "id": "f56b704e-11d2-491a-a507-34d33cd2fae3",
   "metadata": {},
   "outputs": [
    {
     "name": "stdout",
     "output_type": "stream",
     "text": [
      "Row 60187 has nan at (array([122]),)\n",
      "Row 72708 has nan at (array([122]),)\n",
      "Row 84460 has nan at (array([122]),)\n",
      "Row 115714 has nan at (array([167]),)\n",
      "Row 148146 has nan at (array([167]),)\n",
      "Row 159870 has nan at (array([167]),)\n",
      "Row 226322 has nan at (array([120]),)\n",
      "Row 234164 has nan at (array([120]),)\n",
      "Row 314815 has nan at (array([174]),)\n",
      "Row 329817 has nan at (array([195]),)\n",
      "Row 344893 has nan at (array([174]),)\n",
      "Row 348131 has nan at (array([195]),)\n",
      "Row 350202 has nan at (array([195]),)\n",
      "Row 357178 has nan at (array([167]),)\n",
      "Row 405041 has nan at (array([122]),)\n",
      "Row 494088 has nan at (array([180]),)\n",
      "Row 504259 has nan at (array([172]),)\n",
      "Row 522269 has nan at (array([120]),)\n"
     ]
    }
   ],
   "source": [
    "problem_cols = []\n",
    "for row in nan_rows.keys():\n",
    "    col = np.where(np.isnan(nan_rows[row]))\n",
    "    print(f\"Row {row} has nan at {col}\")\n",
    "    if col not in problem_cols:\n",
    "        problem_cols.append(col) "
   ]
  },
  {
   "cell_type": "code",
   "execution_count": 57,
   "id": "4ee4cdde-fdc9-4817-807b-7c79842d220e",
   "metadata": {},
   "outputs": [
    {
     "data": {
      "text/plain": [
       "[(array([122]),),\n",
       " (array([167]),),\n",
       " (array([120]),),\n",
       " (array([174]),),\n",
       " (array([195]),),\n",
       " (array([180]),),\n",
       " (array([172]),)]"
      ]
     },
     "execution_count": 57,
     "metadata": {},
     "output_type": "execute_result"
    }
   ],
   "source": [
    "problem_cols"
   ]
  },
  {
   "cell_type": "code",
   "execution_count": 36,
   "id": "8c666656-e808-4db9-aadf-8374f3daefd3",
   "metadata": {},
   "outputs": [
    {
     "data": {
      "text/plain": [
       "18"
      ]
     },
     "execution_count": 36,
     "metadata": {},
     "output_type": "execute_result"
    }
   ],
   "source": [
    "len(nan_rows.keys())"
   ]
  },
  {
   "cell_type": "code",
   "execution_count": 30,
   "id": "67f42a01-bcd4-4697-9bf6-1ca0cba17010",
   "metadata": {},
   "outputs": [
    {
     "name": "stderr",
     "output_type": "stream",
     "text": [
      "predict: 100%|██████████| 528/528 [00:02<00:00, 211.57it/s]\n"
     ]
    },
    {
     "data": {
      "text/plain": [
       "['/media/sf/easystore/kaggle_data/tabular_playgrounds/nov2021/preds/cleanlab_widedeep_20211123-TabMLP-dirtydata-holdout-baseline_preds.joblib']"
      ]
     },
     "execution_count": 30,
     "metadata": {},
     "output_type": "execute_result"
    }
   ],
   "source": [
    "dump(dirty_preds, predpath/'cleanlab_widedeep_20211123-TabMLP-dirtydata-holdout-baseline_preds.joblib')"
   ]
  },
  {
   "cell_type": "code",
   "execution_count": 31,
   "id": "253a8323-f198-4135-80bd-16c9232914fe",
   "metadata": {
    "tags": []
   },
   "outputs": [],
   "source": [
    "sample_df = pd.read_csv(datapath/'sample_submission.csv')"
   ]
  },
  {
   "cell_type": "code",
   "execution_count": 32,
   "id": "5e1562f5-75ad-4f3a-a865-eac345b18b86",
   "metadata": {},
   "outputs": [
    {
     "data": {
      "text/html": [
       "<div>\n",
       "<style scoped>\n",
       "    .dataframe tbody tr th:only-of-type {\n",
       "        vertical-align: middle;\n",
       "    }\n",
       "\n",
       "    .dataframe tbody tr th {\n",
       "        vertical-align: top;\n",
       "    }\n",
       "\n",
       "    .dataframe thead th {\n",
       "        text-align: right;\n",
       "    }\n",
       "</style>\n",
       "<table border=\"1\" class=\"dataframe\">\n",
       "  <thead>\n",
       "    <tr style=\"text-align: right;\">\n",
       "      <th></th>\n",
       "      <th>id</th>\n",
       "      <th>target</th>\n",
       "    </tr>\n",
       "  </thead>\n",
       "  <tbody>\n",
       "    <tr>\n",
       "      <th>0</th>\n",
       "      <td>600000</td>\n",
       "      <td>0.5</td>\n",
       "    </tr>\n",
       "    <tr>\n",
       "      <th>1</th>\n",
       "      <td>600001</td>\n",
       "      <td>0.5</td>\n",
       "    </tr>\n",
       "    <tr>\n",
       "      <th>2</th>\n",
       "      <td>600002</td>\n",
       "      <td>0.5</td>\n",
       "    </tr>\n",
       "    <tr>\n",
       "      <th>3</th>\n",
       "      <td>600003</td>\n",
       "      <td>0.5</td>\n",
       "    </tr>\n",
       "    <tr>\n",
       "      <th>4</th>\n",
       "      <td>600004</td>\n",
       "      <td>0.5</td>\n",
       "    </tr>\n",
       "  </tbody>\n",
       "</table>\n",
       "</div>"
      ],
      "text/plain": [
       "       id  target\n",
       "0  600000     0.5\n",
       "1  600001     0.5\n",
       "2  600002     0.5\n",
       "3  600003     0.5\n",
       "4  600004     0.5"
      ]
     },
     "execution_count": 32,
     "metadata": {},
     "output_type": "execute_result"
    }
   ],
   "source": [
    "sample_df.head()"
   ]
  },
  {
   "cell_type": "code",
   "execution_count": 33,
   "id": "6e31e289-f25a-42ce-84c5-bc9ca127d0c9",
   "metadata": {},
   "outputs": [
    {
     "name": "stderr",
     "output_type": "stream",
     "text": [
      "/home/sf/anaconda3/envs/tabular-x/lib/python3.8/site-packages/ipykernel/ipkernel.py:287: DeprecationWarning: `should_run_async` will not call `transform_cell` automatically in the future. Please pass the result to `transformed_cell` argument and any exception that happen during thetransform in `preprocessing_exc_tuple` in IPython 7.17 and above.\n",
      "  and should_run_async(code)\n"
     ]
    }
   ],
   "source": [
    "sample_df.loc[:, 'target'] = dirty_preds"
   ]
  },
  {
   "cell_type": "code",
   "execution_count": 34,
   "id": "c179f9af-05e7-4773-bb41-d0e2172bc5fb",
   "metadata": {},
   "outputs": [
    {
     "data": {
      "text/html": [
       "<div>\n",
       "<style scoped>\n",
       "    .dataframe tbody tr th:only-of-type {\n",
       "        vertical-align: middle;\n",
       "    }\n",
       "\n",
       "    .dataframe tbody tr th {\n",
       "        vertical-align: top;\n",
       "    }\n",
       "\n",
       "    .dataframe thead th {\n",
       "        text-align: right;\n",
       "    }\n",
       "</style>\n",
       "<table border=\"1\" class=\"dataframe\">\n",
       "  <thead>\n",
       "    <tr style=\"text-align: right;\">\n",
       "      <th></th>\n",
       "      <th>id</th>\n",
       "      <th>target</th>\n",
       "    </tr>\n",
       "  </thead>\n",
       "  <tbody>\n",
       "    <tr>\n",
       "      <th>0</th>\n",
       "      <td>600000</td>\n",
       "      <td>0.807969</td>\n",
       "    </tr>\n",
       "    <tr>\n",
       "      <th>1</th>\n",
       "      <td>600001</td>\n",
       "      <td>0.581973</td>\n",
       "    </tr>\n",
       "    <tr>\n",
       "      <th>2</th>\n",
       "      <td>600002</td>\n",
       "      <td>0.713237</td>\n",
       "    </tr>\n",
       "    <tr>\n",
       "      <th>3</th>\n",
       "      <td>600003</td>\n",
       "      <td>0.279203</td>\n",
       "    </tr>\n",
       "    <tr>\n",
       "      <th>4</th>\n",
       "      <td>600004</td>\n",
       "      <td>0.586826</td>\n",
       "    </tr>\n",
       "  </tbody>\n",
       "</table>\n",
       "</div>"
      ],
      "text/plain": [
       "       id    target\n",
       "0  600000  0.807969\n",
       "1  600001  0.581973\n",
       "2  600002  0.713237\n",
       "3  600003  0.279203\n",
       "4  600004  0.586826"
      ]
     },
     "execution_count": 34,
     "metadata": {},
     "output_type": "execute_result"
    }
   ],
   "source": [
    "sample_df.head()"
   ]
  },
  {
   "cell_type": "code",
   "execution_count": 35,
   "id": "b85bf9b3-b202-4df6-8c69-3ff3abb16430",
   "metadata": {},
   "outputs": [
    {
     "name": "stderr",
     "output_type": "stream",
     "text": [
      "/home/sf/anaconda3/envs/tabular-x/lib/python3.8/site-packages/ipykernel/ipkernel.py:287: DeprecationWarning: `should_run_async` will not call `transform_cell` automatically in the future. Please pass the result to `transformed_cell` argument and any exception that happen during thetransform in `preprocessing_exc_tuple` in IPython 7.17 and above.\n",
      "  and should_run_async(code)\n"
     ]
    }
   ],
   "source": [
    "sample_df.to_csv(subpath/f\"{wandb_config['name']}-TabMLP-dirtydata-holdout-baseline_preds.csv\", index=False)\n",
    "# sample_df.to_csv(subpath/f\"{wandb_config['name']}_3level-X_orig+KMeans8+synth-GBM-stack_ensemble_preds.csv\", index=False)"
   ]
  },
  {
   "cell_type": "code",
   "execution_count": 41,
   "id": "963f7ece-9b7d-448e-987e-6ee9ee1b18eb",
   "metadata": {},
   "outputs": [
    {
     "data": {
      "text/plain": [
       "(540000,)"
      ]
     },
     "execution_count": 41,
     "metadata": {},
     "output_type": "execute_result"
    }
   ],
   "source": [
    "dirty_preds.shape"
   ]
  },
  {
   "cell_type": "code",
   "execution_count": 42,
   "id": "ccd5ce47-7627-4587-a0b5-52a0fee34701",
   "metadata": {},
   "outputs": [
    {
     "data": {
      "text/plain": [
       "(540000, 2)"
      ]
     },
     "execution_count": 42,
     "metadata": {},
     "output_type": "execute_result"
    }
   ],
   "source": [
    "sample_df.shape"
   ]
  },
  {
   "cell_type": "code",
   "execution_count": 43,
   "id": "cd0d2396-1a31-4737-8fd0-0381729f436e",
   "metadata": {},
   "outputs": [],
   "source": [
    "dirty_preds_float64 = dirty_preds.astype(np.float64)"
   ]
  },
  {
   "cell_type": "code",
   "execution_count": 44,
   "id": "3a757680-3474-4fed-bbea-d1ea0f076e4c",
   "metadata": {},
   "outputs": [],
   "source": [
    "sample_df.loc[:, 'target'] = dirty_preds"
   ]
  },
  {
   "cell_type": "code",
   "execution_count": 45,
   "id": "98abb20b-309e-4085-a0c6-c8b2f9bd7394",
   "metadata": {},
   "outputs": [
    {
     "data": {
      "text/html": [
       "<div>\n",
       "<style scoped>\n",
       "    .dataframe tbody tr th:only-of-type {\n",
       "        vertical-align: middle;\n",
       "    }\n",
       "\n",
       "    .dataframe tbody tr th {\n",
       "        vertical-align: top;\n",
       "    }\n",
       "\n",
       "    .dataframe thead th {\n",
       "        text-align: right;\n",
       "    }\n",
       "</style>\n",
       "<table border=\"1\" class=\"dataframe\">\n",
       "  <thead>\n",
       "    <tr style=\"text-align: right;\">\n",
       "      <th></th>\n",
       "      <th>id</th>\n",
       "      <th>target</th>\n",
       "    </tr>\n",
       "  </thead>\n",
       "  <tbody>\n",
       "    <tr>\n",
       "      <th>0</th>\n",
       "      <td>600000</td>\n",
       "      <td>0.781741</td>\n",
       "    </tr>\n",
       "    <tr>\n",
       "      <th>1</th>\n",
       "      <td>600001</td>\n",
       "      <td>0.547938</td>\n",
       "    </tr>\n",
       "    <tr>\n",
       "      <th>2</th>\n",
       "      <td>600002</td>\n",
       "      <td>0.714756</td>\n",
       "    </tr>\n",
       "    <tr>\n",
       "      <th>3</th>\n",
       "      <td>600003</td>\n",
       "      <td>0.340266</td>\n",
       "    </tr>\n",
       "    <tr>\n",
       "      <th>4</th>\n",
       "      <td>600004</td>\n",
       "      <td>0.561223</td>\n",
       "    </tr>\n",
       "  </tbody>\n",
       "</table>\n",
       "</div>"
      ],
      "text/plain": [
       "       id    target\n",
       "0  600000  0.781741\n",
       "1  600001  0.547938\n",
       "2  600002  0.714756\n",
       "3  600003  0.340266\n",
       "4  600004  0.561223"
      ]
     },
     "execution_count": 45,
     "metadata": {},
     "output_type": "execute_result"
    }
   ],
   "source": [
    "sample_df.head()"
   ]
  },
  {
   "cell_type": "code",
   "execution_count": 46,
   "id": "7dabbf0b-f062-4112-a8ce-2e8e13d86cb2",
   "metadata": {},
   "outputs": [
    {
     "name": "stderr",
     "output_type": "stream",
     "text": [
      "/home/sf/anaconda3/envs/tabular-x/lib/python3.8/site-packages/ipykernel/ipkernel.py:287: DeprecationWarning: `should_run_async` will not call `transform_cell` automatically in the future. Please pass the result to `transformed_cell` argument and any exception that happen during thetransform in `preprocessing_exc_tuple` in IPython 7.17 and above.\n",
      "  and should_run_async(code)\n"
     ]
    }
   ],
   "source": [
    "sample_df.to_csv(subpath/f\"{wandb_config['name']}-TabMLP-dirtydata-holdout-baseline_preds_floatified.csv\", index=False)\n"
   ]
  },
  {
   "cell_type": "code",
   "execution_count": null,
   "id": "8b3ef2e4-ef67-49dc-99ef-f3d50b13371f",
   "metadata": {},
   "outputs": [],
   "source": []
  },
  {
   "cell_type": "code",
   "execution_count": 15,
   "id": "cc1d702b-f01a-4900-88b5-65df54a89eea",
   "metadata": {
    "collapsed": true,
    "jupyter": {
     "outputs_hidden": true
    },
    "tags": []
   },
   "outputs": [
    {
     "name": "stdout",
     "output_type": "stream",
     "text": [
      "Problem at: <ipython-input-15-696801d16add> 1 <module>\n"
     ]
    },
    {
     "ename": "KeyboardInterrupt",
     "evalue": "",
     "output_type": "error",
     "traceback": [
      "\u001b[0;31m---------------------------------------------------------------------------\u001b[0m",
      "\u001b[0;31mKeyboardInterrupt\u001b[0m                         Traceback (most recent call last)",
      "\u001b[0;32m<ipython-input-15-696801d16add>\u001b[0m in \u001b[0;36m<module>\u001b[0;34m\u001b[0m\n\u001b[0;32m----> 1\u001b[0;31m wandb.init(\n\u001b[0m\u001b[1;32m      2\u001b[0m     \u001b[0mproject\u001b[0m\u001b[0;34m=\u001b[0m\u001b[0;34m\"202111_Kaggle_tabular_playground\"\u001b[0m\u001b[0;34m,\u001b[0m\u001b[0;34m\u001b[0m\u001b[0;34m\u001b[0m\u001b[0m\n\u001b[1;32m      3\u001b[0m     \u001b[0msave_code\u001b[0m\u001b[0;34m=\u001b[0m\u001b[0;32mTrue\u001b[0m\u001b[0;34m,\u001b[0m\u001b[0;34m\u001b[0m\u001b[0;34m\u001b[0m\u001b[0m\n\u001b[1;32m      4\u001b[0m     \u001b[0mtags\u001b[0m\u001b[0;34m=\u001b[0m\u001b[0mwandb_config\u001b[0m\u001b[0;34m[\u001b[0m\u001b[0;34m'tags'\u001b[0m\u001b[0;34m]\u001b[0m\u001b[0;34m,\u001b[0m\u001b[0;34m\u001b[0m\u001b[0;34m\u001b[0m\u001b[0m\n\u001b[1;32m      5\u001b[0m     \u001b[0mname\u001b[0m\u001b[0;34m=\u001b[0m\u001b[0mwandb_config\u001b[0m\u001b[0;34m[\u001b[0m\u001b[0;34m'name'\u001b[0m\u001b[0;34m]\u001b[0m\u001b[0;34m,\u001b[0m\u001b[0;34m\u001b[0m\u001b[0;34m\u001b[0m\u001b[0m\n",
      "\u001b[0;32m~/anaconda3/envs/tabular-x/lib/python3.8/site-packages/wandb/sdk/wandb_init.py\u001b[0m in \u001b[0;36minit\u001b[0;34m(job_type, dir, config, project, entity, reinit, tags, group, name, notes, magic, config_exclude_keys, config_include_keys, anonymous, mode, allow_val_change, resume, force, tensorboard, sync_tensorboard, monitor_gym, save_code, id, settings)\u001b[0m\n\u001b[1;32m    890\u001b[0m         \u001b[0;32massert\u001b[0m \u001b[0mlogger\u001b[0m\u001b[0;34m\u001b[0m\u001b[0;34m\u001b[0m\u001b[0m\n\u001b[1;32m    891\u001b[0m         \u001b[0mlogger\u001b[0m\u001b[0;34m.\u001b[0m\u001b[0mwarning\u001b[0m\u001b[0;34m(\u001b[0m\u001b[0;34m\"interrupted\"\u001b[0m\u001b[0;34m,\u001b[0m \u001b[0mexc_info\u001b[0m\u001b[0;34m=\u001b[0m\u001b[0me\u001b[0m\u001b[0;34m)\u001b[0m\u001b[0;34m\u001b[0m\u001b[0;34m\u001b[0m\u001b[0m\n\u001b[0;32m--> 892\u001b[0;31m         \u001b[0;32mraise\u001b[0m \u001b[0me\u001b[0m\u001b[0;34m\u001b[0m\u001b[0;34m\u001b[0m\u001b[0m\n\u001b[0m\u001b[1;32m    893\u001b[0m     \u001b[0;32mexcept\u001b[0m \u001b[0mException\u001b[0m \u001b[0;32mas\u001b[0m \u001b[0me\u001b[0m\u001b[0;34m:\u001b[0m\u001b[0;34m\u001b[0m\u001b[0;34m\u001b[0m\u001b[0m\n\u001b[1;32m    894\u001b[0m         \u001b[0merror_seen\u001b[0m \u001b[0;34m=\u001b[0m \u001b[0me\u001b[0m\u001b[0;34m\u001b[0m\u001b[0;34m\u001b[0m\u001b[0m\n",
      "\u001b[0;32m~/anaconda3/envs/tabular-x/lib/python3.8/site-packages/wandb/sdk/wandb_init.py\u001b[0m in \u001b[0;36minit\u001b[0;34m(job_type, dir, config, project, entity, reinit, tags, group, name, notes, magic, config_exclude_keys, config_include_keys, anonymous, mode, allow_val_change, resume, force, tensorboard, sync_tensorboard, monitor_gym, save_code, id, settings)\u001b[0m\n\u001b[1;32m    868\u001b[0m         \u001b[0mexcept_exit\u001b[0m \u001b[0;34m=\u001b[0m \u001b[0mwi\u001b[0m\u001b[0;34m.\u001b[0m\u001b[0msettings\u001b[0m\u001b[0;34m.\u001b[0m\u001b[0m_except_exit\u001b[0m\u001b[0;34m\u001b[0m\u001b[0;34m\u001b[0m\u001b[0m\n\u001b[1;32m    869\u001b[0m         \u001b[0;32mtry\u001b[0m\u001b[0;34m:\u001b[0m\u001b[0;34m\u001b[0m\u001b[0;34m\u001b[0m\u001b[0m\n\u001b[0;32m--> 870\u001b[0;31m             \u001b[0mrun\u001b[0m \u001b[0;34m=\u001b[0m \u001b[0mwi\u001b[0m\u001b[0;34m.\u001b[0m\u001b[0minit\u001b[0m\u001b[0;34m(\u001b[0m\u001b[0;34m)\u001b[0m\u001b[0;34m\u001b[0m\u001b[0;34m\u001b[0m\u001b[0m\n\u001b[0m\u001b[1;32m    871\u001b[0m             \u001b[0mexcept_exit\u001b[0m \u001b[0;34m=\u001b[0m \u001b[0mwi\u001b[0m\u001b[0;34m.\u001b[0m\u001b[0msettings\u001b[0m\u001b[0;34m.\u001b[0m\u001b[0m_except_exit\u001b[0m\u001b[0;34m\u001b[0m\u001b[0;34m\u001b[0m\u001b[0m\n\u001b[1;32m    872\u001b[0m         \u001b[0;32mexcept\u001b[0m \u001b[0;34m(\u001b[0m\u001b[0mKeyboardInterrupt\u001b[0m\u001b[0;34m,\u001b[0m \u001b[0mException\u001b[0m\u001b[0;34m)\u001b[0m \u001b[0;32mas\u001b[0m \u001b[0me\u001b[0m\u001b[0;34m:\u001b[0m\u001b[0;34m\u001b[0m\u001b[0;34m\u001b[0m\u001b[0m\n",
      "\u001b[0;32m~/anaconda3/envs/tabular-x/lib/python3.8/site-packages/wandb/sdk/wandb_init.py\u001b[0m in \u001b[0;36minit\u001b[0;34m(self)\u001b[0m\n\u001b[1;32m    547\u001b[0m         \u001b[0;32mif\u001b[0m \u001b[0;32mnot\u001b[0m \u001b[0ms\u001b[0m\u001b[0;34m.\u001b[0m\u001b[0m_offline\u001b[0m\u001b[0;34m:\u001b[0m\u001b[0;34m\u001b[0m\u001b[0;34m\u001b[0m\u001b[0m\n\u001b[1;32m    548\u001b[0m             \u001b[0mlogger\u001b[0m\u001b[0;34m.\u001b[0m\u001b[0minfo\u001b[0m\u001b[0;34m(\u001b[0m\u001b[0;34m\"communicating run to backend with 30 second timeout\"\u001b[0m\u001b[0;34m)\u001b[0m\u001b[0;34m\u001b[0m\u001b[0;34m\u001b[0m\u001b[0m\n\u001b[0;32m--> 549\u001b[0;31m             \u001b[0mret\u001b[0m \u001b[0;34m=\u001b[0m \u001b[0mbackend\u001b[0m\u001b[0;34m.\u001b[0m\u001b[0minterface\u001b[0m\u001b[0;34m.\u001b[0m\u001b[0mcommunicate_run\u001b[0m\u001b[0;34m(\u001b[0m\u001b[0mrun\u001b[0m\u001b[0;34m,\u001b[0m \u001b[0mtimeout\u001b[0m\u001b[0;34m=\u001b[0m\u001b[0;36m30\u001b[0m\u001b[0;34m)\u001b[0m\u001b[0;34m\u001b[0m\u001b[0;34m\u001b[0m\u001b[0m\n\u001b[0m\u001b[1;32m    550\u001b[0m \u001b[0;34m\u001b[0m\u001b[0m\n\u001b[1;32m    551\u001b[0m             \u001b[0merror_message\u001b[0m\u001b[0;34m:\u001b[0m \u001b[0mOptional\u001b[0m\u001b[0;34m[\u001b[0m\u001b[0mstr\u001b[0m\u001b[0;34m]\u001b[0m \u001b[0;34m=\u001b[0m \u001b[0;32mNone\u001b[0m\u001b[0;34m\u001b[0m\u001b[0;34m\u001b[0m\u001b[0m\n",
      "\u001b[0;32m~/anaconda3/envs/tabular-x/lib/python3.8/site-packages/wandb/sdk/interface/interface.py\u001b[0m in \u001b[0;36mcommunicate_run\u001b[0;34m(self, run_obj, timeout)\u001b[0m\n\u001b[1;32m    203\u001b[0m     ) -> Optional[pb.RunUpdateResult]:\n\u001b[1;32m    204\u001b[0m         \u001b[0mrun\u001b[0m \u001b[0;34m=\u001b[0m \u001b[0mself\u001b[0m\u001b[0;34m.\u001b[0m\u001b[0m_make_run\u001b[0m\u001b[0;34m(\u001b[0m\u001b[0mrun_obj\u001b[0m\u001b[0;34m)\u001b[0m\u001b[0;34m\u001b[0m\u001b[0;34m\u001b[0m\u001b[0m\n\u001b[0;32m--> 205\u001b[0;31m         \u001b[0;32mreturn\u001b[0m \u001b[0mself\u001b[0m\u001b[0;34m.\u001b[0m\u001b[0m_communicate_run\u001b[0m\u001b[0;34m(\u001b[0m\u001b[0mrun\u001b[0m\u001b[0;34m,\u001b[0m \u001b[0mtimeout\u001b[0m\u001b[0;34m=\u001b[0m\u001b[0mtimeout\u001b[0m\u001b[0;34m)\u001b[0m\u001b[0;34m\u001b[0m\u001b[0;34m\u001b[0m\u001b[0m\n\u001b[0m\u001b[1;32m    206\u001b[0m \u001b[0;34m\u001b[0m\u001b[0m\n\u001b[1;32m    207\u001b[0m     \u001b[0;34m@\u001b[0m\u001b[0mabstractmethod\u001b[0m\u001b[0;34m\u001b[0m\u001b[0;34m\u001b[0m\u001b[0m\n",
      "\u001b[0;32m~/anaconda3/envs/tabular-x/lib/python3.8/site-packages/wandb/sdk/interface/interface_queue.py\u001b[0m in \u001b[0;36m_communicate_run\u001b[0;34m(self, run, timeout)\u001b[0m\n\u001b[1;32m    332\u001b[0m \u001b[0;34m\u001b[0m\u001b[0m\n\u001b[1;32m    333\u001b[0m         \u001b[0mreq\u001b[0m \u001b[0;34m=\u001b[0m \u001b[0mself\u001b[0m\u001b[0;34m.\u001b[0m\u001b[0m_make_record\u001b[0m\u001b[0;34m(\u001b[0m\u001b[0mrun\u001b[0m\u001b[0;34m=\u001b[0m\u001b[0mrun\u001b[0m\u001b[0;34m)\u001b[0m\u001b[0;34m\u001b[0m\u001b[0;34m\u001b[0m\u001b[0m\n\u001b[0;32m--> 334\u001b[0;31m         \u001b[0mresp\u001b[0m \u001b[0;34m=\u001b[0m \u001b[0mself\u001b[0m\u001b[0;34m.\u001b[0m\u001b[0m_communicate\u001b[0m\u001b[0;34m(\u001b[0m\u001b[0mreq\u001b[0m\u001b[0;34m,\u001b[0m \u001b[0mtimeout\u001b[0m\u001b[0;34m=\u001b[0m\u001b[0mtimeout\u001b[0m\u001b[0;34m)\u001b[0m\u001b[0;34m\u001b[0m\u001b[0;34m\u001b[0m\u001b[0m\n\u001b[0m\u001b[1;32m    335\u001b[0m         \u001b[0;32mif\u001b[0m \u001b[0mresp\u001b[0m \u001b[0;32mis\u001b[0m \u001b[0;32mNone\u001b[0m\u001b[0;34m:\u001b[0m\u001b[0;34m\u001b[0m\u001b[0;34m\u001b[0m\u001b[0m\n\u001b[1;32m    336\u001b[0m             \u001b[0mlogger\u001b[0m\u001b[0;34m.\u001b[0m\u001b[0minfo\u001b[0m\u001b[0;34m(\u001b[0m\u001b[0;34m\"couldn't get run from backend\"\u001b[0m\u001b[0;34m)\u001b[0m\u001b[0;34m\u001b[0m\u001b[0;34m\u001b[0m\u001b[0m\n",
      "\u001b[0;32m~/anaconda3/envs/tabular-x/lib/python3.8/site-packages/wandb/sdk/interface/interface_queue.py\u001b[0m in \u001b[0;36m_communicate\u001b[0;34m(self, rec, timeout, local)\u001b[0m\n\u001b[1;32m    230\u001b[0m         \u001b[0mself\u001b[0m\u001b[0;34m,\u001b[0m \u001b[0mrec\u001b[0m\u001b[0;34m:\u001b[0m \u001b[0mpb\u001b[0m\u001b[0;34m.\u001b[0m\u001b[0mRecord\u001b[0m\u001b[0;34m,\u001b[0m \u001b[0mtimeout\u001b[0m\u001b[0;34m:\u001b[0m \u001b[0mOptional\u001b[0m\u001b[0;34m[\u001b[0m\u001b[0mint\u001b[0m\u001b[0;34m]\u001b[0m \u001b[0;34m=\u001b[0m \u001b[0;36m5\u001b[0m\u001b[0;34m,\u001b[0m \u001b[0mlocal\u001b[0m\u001b[0;34m:\u001b[0m \u001b[0mbool\u001b[0m \u001b[0;34m=\u001b[0m \u001b[0;32mNone\u001b[0m\u001b[0;34m\u001b[0m\u001b[0;34m\u001b[0m\u001b[0m\n\u001b[1;32m    231\u001b[0m     ) -> Optional[pb.Result]:\n\u001b[0;32m--> 232\u001b[0;31m         \u001b[0;32mreturn\u001b[0m \u001b[0mself\u001b[0m\u001b[0;34m.\u001b[0m\u001b[0m_communicate_async\u001b[0m\u001b[0;34m(\u001b[0m\u001b[0mrec\u001b[0m\u001b[0;34m,\u001b[0m \u001b[0mlocal\u001b[0m\u001b[0;34m=\u001b[0m\u001b[0mlocal\u001b[0m\u001b[0;34m)\u001b[0m\u001b[0;34m.\u001b[0m\u001b[0mget\u001b[0m\u001b[0;34m(\u001b[0m\u001b[0mtimeout\u001b[0m\u001b[0;34m=\u001b[0m\u001b[0mtimeout\u001b[0m\u001b[0;34m)\u001b[0m\u001b[0;34m\u001b[0m\u001b[0;34m\u001b[0m\u001b[0m\n\u001b[0m\u001b[1;32m    233\u001b[0m \u001b[0;34m\u001b[0m\u001b[0m\n\u001b[1;32m    234\u001b[0m     \u001b[0;32mdef\u001b[0m \u001b[0m_communicate_async\u001b[0m\u001b[0;34m(\u001b[0m\u001b[0mself\u001b[0m\u001b[0;34m,\u001b[0m \u001b[0mrec\u001b[0m\u001b[0;34m:\u001b[0m \u001b[0mpb\u001b[0m\u001b[0;34m.\u001b[0m\u001b[0mRecord\u001b[0m\u001b[0;34m,\u001b[0m \u001b[0mlocal\u001b[0m\u001b[0;34m:\u001b[0m \u001b[0mbool\u001b[0m \u001b[0;34m=\u001b[0m \u001b[0;32mNone\u001b[0m\u001b[0;34m)\u001b[0m \u001b[0;34m->\u001b[0m \u001b[0mMessageFuture\u001b[0m\u001b[0;34m:\u001b[0m\u001b[0;34m\u001b[0m\u001b[0;34m\u001b[0m\u001b[0m\n",
      "\u001b[0;32m~/anaconda3/envs/tabular-x/lib/python3.8/site-packages/wandb/sdk/interface/router.py\u001b[0m in \u001b[0;36mget\u001b[0;34m(self, timeout)\u001b[0m\n\u001b[1;32m     30\u001b[0m \u001b[0;34m\u001b[0m\u001b[0m\n\u001b[1;32m     31\u001b[0m     \u001b[0;32mdef\u001b[0m \u001b[0mget\u001b[0m\u001b[0;34m(\u001b[0m\u001b[0mself\u001b[0m\u001b[0;34m,\u001b[0m \u001b[0mtimeout\u001b[0m\u001b[0;34m:\u001b[0m \u001b[0mint\u001b[0m \u001b[0;34m=\u001b[0m \u001b[0;32mNone\u001b[0m\u001b[0;34m)\u001b[0m \u001b[0;34m->\u001b[0m \u001b[0mOptional\u001b[0m\u001b[0;34m[\u001b[0m\u001b[0mpb\u001b[0m\u001b[0;34m.\u001b[0m\u001b[0mResult\u001b[0m\u001b[0;34m]\u001b[0m\u001b[0;34m:\u001b[0m\u001b[0;34m\u001b[0m\u001b[0;34m\u001b[0m\u001b[0m\n\u001b[0;32m---> 32\u001b[0;31m         \u001b[0mis_set\u001b[0m \u001b[0;34m=\u001b[0m \u001b[0mself\u001b[0m\u001b[0;34m.\u001b[0m\u001b[0m_object_ready\u001b[0m\u001b[0;34m.\u001b[0m\u001b[0mwait\u001b[0m\u001b[0;34m(\u001b[0m\u001b[0mtimeout\u001b[0m\u001b[0;34m)\u001b[0m\u001b[0;34m\u001b[0m\u001b[0;34m\u001b[0m\u001b[0m\n\u001b[0m\u001b[1;32m     33\u001b[0m         \u001b[0;32mif\u001b[0m \u001b[0mis_set\u001b[0m \u001b[0;32mand\u001b[0m \u001b[0mself\u001b[0m\u001b[0;34m.\u001b[0m\u001b[0m_object\u001b[0m\u001b[0;34m:\u001b[0m\u001b[0;34m\u001b[0m\u001b[0;34m\u001b[0m\u001b[0m\n\u001b[1;32m     34\u001b[0m             \u001b[0;32mreturn\u001b[0m \u001b[0mself\u001b[0m\u001b[0;34m.\u001b[0m\u001b[0m_object\u001b[0m\u001b[0;34m\u001b[0m\u001b[0;34m\u001b[0m\u001b[0m\n",
      "\u001b[0;32m~/anaconda3/envs/tabular-x/lib/python3.8/threading.py\u001b[0m in \u001b[0;36mwait\u001b[0;34m(self, timeout)\u001b[0m\n\u001b[1;32m    556\u001b[0m             \u001b[0msignaled\u001b[0m \u001b[0;34m=\u001b[0m \u001b[0mself\u001b[0m\u001b[0;34m.\u001b[0m\u001b[0m_flag\u001b[0m\u001b[0;34m\u001b[0m\u001b[0;34m\u001b[0m\u001b[0m\n\u001b[1;32m    557\u001b[0m             \u001b[0;32mif\u001b[0m \u001b[0;32mnot\u001b[0m \u001b[0msignaled\u001b[0m\u001b[0;34m:\u001b[0m\u001b[0;34m\u001b[0m\u001b[0;34m\u001b[0m\u001b[0m\n\u001b[0;32m--> 558\u001b[0;31m                 \u001b[0msignaled\u001b[0m \u001b[0;34m=\u001b[0m \u001b[0mself\u001b[0m\u001b[0;34m.\u001b[0m\u001b[0m_cond\u001b[0m\u001b[0;34m.\u001b[0m\u001b[0mwait\u001b[0m\u001b[0;34m(\u001b[0m\u001b[0mtimeout\u001b[0m\u001b[0;34m)\u001b[0m\u001b[0;34m\u001b[0m\u001b[0;34m\u001b[0m\u001b[0m\n\u001b[0m\u001b[1;32m    559\u001b[0m             \u001b[0;32mreturn\u001b[0m \u001b[0msignaled\u001b[0m\u001b[0;34m\u001b[0m\u001b[0;34m\u001b[0m\u001b[0m\n\u001b[1;32m    560\u001b[0m \u001b[0;34m\u001b[0m\u001b[0m\n",
      "\u001b[0;32m~/anaconda3/envs/tabular-x/lib/python3.8/threading.py\u001b[0m in \u001b[0;36mwait\u001b[0;34m(self, timeout)\u001b[0m\n\u001b[1;32m    304\u001b[0m             \u001b[0;32melse\u001b[0m\u001b[0;34m:\u001b[0m\u001b[0;34m\u001b[0m\u001b[0;34m\u001b[0m\u001b[0m\n\u001b[1;32m    305\u001b[0m                 \u001b[0;32mif\u001b[0m \u001b[0mtimeout\u001b[0m \u001b[0;34m>\u001b[0m \u001b[0;36m0\u001b[0m\u001b[0;34m:\u001b[0m\u001b[0;34m\u001b[0m\u001b[0;34m\u001b[0m\u001b[0m\n\u001b[0;32m--> 306\u001b[0;31m                     \u001b[0mgotit\u001b[0m \u001b[0;34m=\u001b[0m \u001b[0mwaiter\u001b[0m\u001b[0;34m.\u001b[0m\u001b[0macquire\u001b[0m\u001b[0;34m(\u001b[0m\u001b[0;32mTrue\u001b[0m\u001b[0;34m,\u001b[0m \u001b[0mtimeout\u001b[0m\u001b[0;34m)\u001b[0m\u001b[0;34m\u001b[0m\u001b[0;34m\u001b[0m\u001b[0m\n\u001b[0m\u001b[1;32m    307\u001b[0m                 \u001b[0;32melse\u001b[0m\u001b[0;34m:\u001b[0m\u001b[0;34m\u001b[0m\u001b[0;34m\u001b[0m\u001b[0m\n\u001b[1;32m    308\u001b[0m                     \u001b[0mgotit\u001b[0m \u001b[0;34m=\u001b[0m \u001b[0mwaiter\u001b[0m\u001b[0;34m.\u001b[0m\u001b[0macquire\u001b[0m\u001b[0;34m(\u001b[0m\u001b[0;32mFalse\u001b[0m\u001b[0;34m)\u001b[0m\u001b[0;34m\u001b[0m\u001b[0;34m\u001b[0m\u001b[0m\n",
      "\u001b[0;31mKeyboardInterrupt\u001b[0m: "
     ]
    }
   ],
   "source": [
    "wandb.init(\n",
    "    project=\"202111_Kaggle_tabular_playground\",\n",
    "    save_code=True,\n",
    "    tags=wandb_config['tags'],\n",
    "    name=wandb_config['name'],\n",
    "    notes=wandb_config['notes'],\n",
    "    config=exmodel_config\n",
    ") "
   ]
  },
  {
   "cell_type": "code",
   "execution_count": 30,
   "id": "8d09ad8f-5eb4-4094-8960-f53fe0e6bbb4",
   "metadata": {},
   "outputs": [
    {
     "data": {
      "text/html": [
       "<br/>Waiting for W&B process to finish, PID 330749... <strong style=\"color:green\">(success).</strong>"
      ],
      "text/plain": [
       "<IPython.core.display.HTML object>"
      ]
     },
     "metadata": {},
     "output_type": "display_data"
    },
    {
     "data": {
      "application/vnd.jupyter.widget-view+json": {
       "model_id": "",
       "version_major": 2,
       "version_minor": 0
      },
      "text/plain": [
       "VBox(children=(Label(value=' 0.06MB of 0.06MB uploaded (0.02MB deduped)\\r'), FloatProgress(value=1.0, max=1.0)…"
      ]
     },
     "metadata": {},
     "output_type": "display_data"
    },
    {
     "data": {
      "text/html": [
       "<style>\n",
       "    table.wandb td:nth-child(1) { padding: 0 10px; text-align: right }\n",
       "    .wandb-row { display: flex; flex-direction: row; flex-wrap: wrap; width: 100% }\n",
       "    .wandb-col { display: flex; flex-direction: column; flex-basis: 100%; flex: 1; padding: 10px; }\n",
       "    </style>\n",
       "<div class=\"wandb-row\"><div class=\"wandb-col\">\n",
       "<h3>Run history:</h3><br/><table class=\"wandb\"><tr><td>model_seed</td><td>▁</td></tr><tr><td>overall_valid_auc</td><td>▁</td></tr></table><br/></div><div class=\"wandb-col\">\n",
       "<h3>Run summary:</h3><br/><table class=\"wandb\"><tr><td>model_params</td><td>{'boosting_type': 'g...</td></tr><tr><td>model_seed</td><td>42</td></tr><tr><td>overall_valid_auc</td><td>0.73222</td></tr></table>\n",
       "</div></div>\n",
       "Synced 5 W&B file(s), 0 media file(s), 3 artifact file(s) and 1 other file(s)\n",
       "<br/>Synced <strong style=\"color:#cdcd00\">cleanlab_20211122_145249</strong>: <a href=\"https://wandb.ai/hushifang/202111_Kaggle_tabular_playground/runs/3sw3r26n\" target=\"_blank\">https://wandb.ai/hushifang/202111_Kaggle_tabular_playground/runs/3sw3r26n</a><br/>\n",
       "Find logs at: <code>./wandb/run-20211122_145250-3sw3r26n/logs</code><br/>\n"
      ],
      "text/plain": [
       "<IPython.core.display.HTML object>"
      ]
     },
     "metadata": {},
     "output_type": "display_data"
    }
   ],
   "source": [
    "\n",
    "\n",
    "wandb.log({'overall_valid_auc': valid_auc,\n",
    "           'model_params': str(lgb_model.get_params()),\n",
    "           'model_seed': 42,\n",
    "          })\n",
    "wandb.finish()\n"
   ]
  },
  {
   "cell_type": "markdown",
   "id": "aa743d4f-d9d6-453e-bb42-2b9659caa09d",
   "metadata": {},
   "source": [
    "## Clean Run"
   ]
  },
  {
   "cell_type": "code",
   "execution_count": 31,
   "id": "c9bae97a-57ec-4ed7-84ab-31aad0b52bfa",
   "metadata": {},
   "outputs": [
    {
     "name": "stderr",
     "output_type": "stream",
     "text": [
      "\u001b[34m\u001b[1mwandb\u001b[0m: wandb version 0.12.7 is available!  To upgrade, please run:\n",
      "\u001b[34m\u001b[1mwandb\u001b[0m:  $ pip install wandb --upgrade\n"
     ]
    },
    {
     "data": {
      "text/html": [
       "\n",
       "                    Syncing run <strong><a href=\"https://wandb.ai/hushifang/202111_Kaggle_tabular_playground/runs/16vn06qn\" target=\"_blank\">cleanlab_20211122_150040</a></strong> to <a href=\"https://wandb.ai/hushifang/202111_Kaggle_tabular_playground\" target=\"_blank\">Weights & Biases</a> (<a href=\"https://docs.wandb.com/integrations/jupyter.html\" target=\"_blank\">docs</a>).<br/>\n",
       "\n",
       "                "
      ],
      "text/plain": [
       "<IPython.core.display.HTML object>"
      ]
     },
     "metadata": {},
     "output_type": "display_data"
    },
    {
     "data": {
      "text/html": [
       "<button onClick=\"this.nextSibling.style.display='block';this.style.display='none';\">Display W&B run</button><iframe src=\"https://wandb.ai/hushifang/202111_Kaggle_tabular_playground/runs/16vn06qn?jupyter=true\" style=\"border:none;width:100%;height:420px;display:none;\"></iframe>"
      ],
      "text/plain": [
       "<wandb.sdk.wandb_run.Run at 0x7f73450cf130>"
      ]
     },
     "execution_count": 31,
     "metadata": {},
     "output_type": "execute_result"
    }
   ],
   "source": [
    "exmodel_config['denoising'] = 'cleanlab'\n",
    "\n",
    "wandb_config = {\n",
    "    # wandb config\n",
    "    'name': f\"{os.environ['WANDB_NOTEBOOK_NAME'][:-6]}_{datetime.now().strftime('%H%M%S')}\", # just removes the .ipynb extension, leaving the notebook filename's stem\n",
    "    'project': '202111_Kaggle_tabular_playground',\n",
    "    'tags': ['experiment'],\n",
    "    'notes': \"Going to try CleanLab with the 'best' params from the previous sweep, but wanting to see what the actual LB score is, and how it compares to the noisy one. Using a default LGBMClassfier with holdout on robust-scaled original dataset.\",\n",
    "    'config': exmodel_config,\n",
    "}\n",
    "\n",
    "wandb.init(\n",
    "    project=\"202111_Kaggle_tabular_playground\",\n",
    "    save_code=True,\n",
    "    tags=wandb_config['tags'],\n",
    "    name=wandb_config['name'],\n",
    "    notes=wandb_config['notes'],\n",
    "    config=exmodel_config\n",
    ") "
   ]
  },
  {
   "cell_type": "code",
   "execution_count": 32,
   "id": "82ea6e18-16a1-4a98-9d79-b7c0931ea263",
   "metadata": {},
   "outputs": [],
   "source": [
    "rp_params = {\n",
    "    # 'prune_method': trial.suggest_categorical('prune_method', ['prune_by_noise_rate', 'prune_by_class', 'both']),\n",
    "    # 'converge_latent_estimates': trial.suggest_categorical('converge_latent_estimates', [True, False]),\n",
    "    # 'pulearning': trial.suggest_categorical('pulearning', [0,1,None])\n",
    "    'prune_method': 'both',\n",
    "    'converge_latent_estimates': True,\n",
    "    'pulearning': 1,\n",
    "}"
   ]
  },
  {
   "cell_type": "code",
   "execution_count": 33,
   "id": "d57d0368-3acb-4b6c-a0a5-44e1661265c2",
   "metadata": {},
   "outputs": [],
   "source": [
    "lgb_model = LGBMClassifier(\n",
    "        objective='binary',\n",
    "        random_state=42,\n",
    "        #                     device_type='cpu',\n",
    "        #                     n_jobs=-1,\n",
    "        #                 eval_metric='auc',\n",
    "        device_type='gpu',\n",
    "        max_bin=63, # 15 might be even better for GPU perf, but depends on dataset -- see https://lightgbm.readthedocs.io/en/latest/GPU-Performance.html\n",
    "        gpu_use_dp=False, # forces use of single precision rather than double for better perf, esp on consumer Nvidia chips\n",
    "    )"
   ]
  },
  {
   "cell_type": "code",
   "execution_count": 34,
   "id": "a3d8e3de-4992-406d-9470-648b48a2725c",
   "metadata": {},
   "outputs": [],
   "source": [
    "X_train, X_valid, y_train, y_valid = train_test_split(X, y, test_size=0.2, random_state=42)"
   ]
  },
  {
   "cell_type": "code",
   "execution_count": 35,
   "id": "b2b8ae6b-529b-4fdf-b9e8-881edf2a7ae8",
   "metadata": {},
   "outputs": [],
   "source": [
    "scaler = RobustScaler()"
   ]
  },
  {
   "cell_type": "code",
   "execution_count": 36,
   "id": "ae65f62b-94b8-46ca-b30f-acdbca4d222e",
   "metadata": {},
   "outputs": [
    {
     "data": {
      "text/plain": [
       "array([[-0.27296268,  0.01579322, -0.19031588, ...,  0.50363337,\n",
       "         0.17720313, -0.58369832],\n",
       "       [-0.18106382,  0.2410393 ,  5.30773161, ...,  0.24955035,\n",
       "        -0.48450355, -0.62285755],\n",
       "       [ 6.07300903, -0.85078822,  0.17280319, ..., -0.62764574,\n",
       "        -0.67894852,  0.73726127],\n",
       "       ...,\n",
       "       [ 4.18856991, -0.68824246,  0.21225385, ...,  0.88726112,\n",
       "         6.19955807, -0.09918299],\n",
       "       [-0.300117  ,  0.13080398, -0.54802214, ..., -0.3979886 ,\n",
       "        -0.01474   ,  0.22398866],\n",
       "       [-0.29279129,  0.62179137,  0.07317624, ...,  0.14508993,\n",
       "        12.038684  ,  0.6437292 ]])"
      ]
     },
     "execution_count": 36,
     "metadata": {},
     "output_type": "execute_result"
    }
   ],
   "source": [
    "scaler.fit_transform(X_train)"
   ]
  },
  {
   "cell_type": "code",
   "execution_count": 37,
   "id": "f76d719d-2198-46d6-a2f8-e30b99892221",
   "metadata": {},
   "outputs": [
    {
     "data": {
      "text/plain": [
       "array([[ 1.27745959, -0.79095855,  3.57879036, ...,  0.40431588,\n",
       "         0.30027418,  0.45467042],\n",
       "       [-0.35032922, -0.36662758, -0.83368479, ...,  0.48734142,\n",
       "        -0.59656634,  9.97028335],\n",
       "       [ 2.07990909,  0.20997962, -0.0127639 , ..., -0.80240405,\n",
       "        -0.22697866,  0.23615553],\n",
       "       ...,\n",
       "       [ 0.80633635,  0.39936366,  0.49845399, ...,  0.68680344,\n",
       "        -1.04204429,  0.24502101],\n",
       "       [-0.06863608, -0.27843164, -0.36283929, ...,  0.18702425,\n",
       "         0.57010813, -0.05371796],\n",
       "       [-0.3620719 , -0.30144763, -0.06982129, ..., -0.73907299,\n",
       "        -1.0792864 ,  0.24365673]])"
      ]
     },
     "execution_count": 37,
     "metadata": {},
     "output_type": "execute_result"
    }
   ],
   "source": [
    "scaler.transform(X_valid)"
   ]
  },
  {
   "cell_type": "code",
   "execution_count": 39,
   "id": "c26a7ae5-ca5b-41ef-af17-943b04998612",
   "metadata": {},
   "outputs": [],
   "source": [
    "X_train = np.array(X_train)\n",
    "X_valid = np.array(X_valid)\n",
    "y_train = np.array(y_train)\n",
    "y_valid = np.array(y_valid)"
   ]
  },
  {
   "cell_type": "code",
   "execution_count": 40,
   "id": "f56bc7d2-223f-4e36-902a-d5e877f68af5",
   "metadata": {},
   "outputs": [
    {
     "data": {
      "text/plain": [
       "LGBMClassifier(device_type='gpu', gpu_use_dp=False, max_bin=63,\n",
       "               objective='binary', random_state=42)"
      ]
     },
     "execution_count": 40,
     "metadata": {},
     "output_type": "execute_result"
    }
   ],
   "source": [
    "rp = LearningWithNoisyLabels(clf=lgb_model, **rp_params)\n",
    "rp.fit(X_train, y_train)"
   ]
  },
  {
   "cell_type": "code",
   "execution_count": 41,
   "id": "98e318a7-ba89-4150-aa16-4e25f256cc10",
   "metadata": {},
   "outputs": [
    {
     "data": {
      "text/plain": [
       "0.7242336321944994"
      ]
     },
     "execution_count": 41,
     "metadata": {},
     "output_type": "execute_result"
    }
   ],
   "source": [
    "preds = rp.predict_proba(X_valid)[:,1]\n",
    "valid_auc = roc_auc_score(y_true=y_valid, y_score=preds)\n",
    "valid_auc"
   ]
  },
  {
   "cell_type": "code",
   "execution_count": 42,
   "id": "8b6da3dd-9e49-4a38-90fb-5fae870a0ce6",
   "metadata": {},
   "outputs": [
    {
     "data": {
      "text/plain": [
       "{'clf__boosting_type': 'gbdt',\n",
       " 'clf__class_weight': None,\n",
       " 'clf__colsample_bytree': 1.0,\n",
       " 'clf__importance_type': 'split',\n",
       " 'clf__learning_rate': 0.1,\n",
       " 'clf__max_depth': -1,\n",
       " 'clf__min_child_samples': 20,\n",
       " 'clf__min_child_weight': 0.001,\n",
       " 'clf__min_split_gain': 0.0,\n",
       " 'clf__n_estimators': 100,\n",
       " 'clf__n_jobs': -1,\n",
       " 'clf__num_leaves': 31,\n",
       " 'clf__objective': 'binary',\n",
       " 'clf__random_state': 42,\n",
       " 'clf__reg_alpha': 0.0,\n",
       " 'clf__reg_lambda': 0.0,\n",
       " 'clf__silent': 'warn',\n",
       " 'clf__subsample': 1.0,\n",
       " 'clf__subsample_for_bin': 200000,\n",
       " 'clf__subsample_freq': 0,\n",
       " 'clf__device_type': 'gpu',\n",
       " 'clf__max_bin': 63,\n",
       " 'clf__gpu_use_dp': False,\n",
       " 'clf': LGBMClassifier(device_type='gpu', gpu_use_dp=False, max_bin=63,\n",
       "                objective='binary', random_state=42),\n",
       " 'converge_latent_estimates': True,\n",
       " 'cv_n_folds': 5,\n",
       " 'n_jobs': 16,\n",
       " 'prune_method': 'both',\n",
       " 'pulearning': 1,\n",
       " 'seed': None}"
      ]
     },
     "execution_count": 42,
     "metadata": {},
     "output_type": "execute_result"
    }
   ],
   "source": [
    "rp.get_params()"
   ]
  },
  {
   "cell_type": "code",
   "execution_count": 43,
   "id": "8905b40c-f3c9-49c4-891a-51c8c7b1b1a1",
   "metadata": {},
   "outputs": [
    {
     "data": {
      "text/html": [
       "<br/>Waiting for W&B process to finish, PID 332071... <strong style=\"color:green\">(success).</strong>"
      ],
      "text/plain": [
       "<IPython.core.display.HTML object>"
      ]
     },
     "metadata": {},
     "output_type": "display_data"
    },
    {
     "data": {
      "application/vnd.jupyter.widget-view+json": {
       "model_id": "",
       "version_major": 2,
       "version_minor": 0
      },
      "text/plain": [
       "VBox(children=(Label(value=' 0.09MB of 0.09MB uploaded (0.04MB deduped)\\r'), FloatProgress(value=1.0, max=1.0)…"
      ]
     },
     "metadata": {},
     "output_type": "display_data"
    },
    {
     "data": {
      "text/html": [
       "<style>\n",
       "    table.wandb td:nth-child(1) { padding: 0 10px; text-align: right }\n",
       "    .wandb-row { display: flex; flex-direction: row; flex-wrap: wrap; width: 100% }\n",
       "    .wandb-col { display: flex; flex-direction: column; flex-basis: 100%; flex: 1; padding: 10px; }\n",
       "    </style>\n",
       "<div class=\"wandb-row\"><div class=\"wandb-col\">\n",
       "<h3>Run history:</h3><br/><table class=\"wandb\"><tr><td>model_seed</td><td>▁</td></tr><tr><td>overall_valid_auc</td><td>▁</td></tr></table><br/></div><div class=\"wandb-col\">\n",
       "<h3>Run summary:</h3><br/><table class=\"wandb\"><tr><td>cleanlab_params</td><td>{'clf__boosting_type...</td></tr><tr><td>model_params</td><td>{'boosting_type': 'g...</td></tr><tr><td>model_seed</td><td>42</td></tr><tr><td>overall_valid_auc</td><td>0.72423</td></tr></table>\n",
       "</div></div>\n",
       "Synced 5 W&B file(s), 0 media file(s), 3 artifact file(s) and 1 other file(s)\n",
       "<br/>Synced <strong style=\"color:#cdcd00\">cleanlab_20211122_150040</strong>: <a href=\"https://wandb.ai/hushifang/202111_Kaggle_tabular_playground/runs/16vn06qn\" target=\"_blank\">https://wandb.ai/hushifang/202111_Kaggle_tabular_playground/runs/16vn06qn</a><br/>\n",
       "Find logs at: <code>./wandb/run-20211122_150040-16vn06qn/logs</code><br/>\n"
      ],
      "text/plain": [
       "<IPython.core.display.HTML object>"
      ]
     },
     "metadata": {},
     "output_type": "display_data"
    }
   ],
   "source": [
    "wandb.log({'overall_valid_auc': valid_auc,\n",
    "           'model_params': str(lgb_model.get_params()),\n",
    "           'model_seed': 42,\n",
    "           'cleanlab_params': str(rp.get_params())\n",
    "          })\n",
    "wandb.finish()\n"
   ]
  },
  {
   "cell_type": "code",
   "execution_count": 44,
   "id": "2bcbf1ec-1d14-4511-9d4e-244db30272b6",
   "metadata": {},
   "outputs": [
    {
     "data": {
      "text/plain": [
       "['/media/sf/easystore/kaggle_data/tabular_playgrounds/nov2021/preds/cleanlab_lgbm_20211122.joblib']"
      ]
     },
     "execution_count": 44,
     "metadata": {},
     "output_type": "execute_result"
    }
   ],
   "source": [
    "dump(preds, predpath/'cleanlab_lgbm_20211122.joblib')"
   ]
  },
  {
   "cell_type": "markdown",
   "id": "1a369599-a3df-4206-89b1-b05553ad7f02",
   "metadata": {},
   "source": [
    "## Submission"
   ]
  },
  {
   "cell_type": "code",
   "execution_count": 59,
   "id": "77cb7e71-aae5-466d-8272-c5f71fbc02a3",
   "metadata": {},
   "outputs": [],
   "source": [
    "X_test = pd.read_feather(dataset_params['test_source'])"
   ]
  },
  {
   "cell_type": "code",
   "execution_count": 60,
   "id": "42ff29c1-b032-43be-952e-a5504e53dee7",
   "metadata": {},
   "outputs": [],
   "source": [
    "scaler = RobustScaler()"
   ]
  },
  {
   "cell_type": "code",
   "execution_count": 61,
   "id": "2f0621aa-1840-4a69-a73c-923c38dbc52a",
   "metadata": {},
   "outputs": [
    {
     "data": {
      "text/plain": [
       "RobustScaler()"
      ]
     },
     "execution_count": 61,
     "metadata": {},
     "output_type": "execute_result"
    }
   ],
   "source": [
    "scaler.fit(X)"
   ]
  },
  {
   "cell_type": "code",
   "execution_count": 62,
   "id": "9f35f742-1029-4ba4-9367-7752a8a18c42",
   "metadata": {},
   "outputs": [
    {
     "data": {
      "text/plain": [
       "array([[-2.54904070e-01,  8.92660373e-01,  1.74689787e+00, ...,\n",
       "        -3.14632989e-01,  7.56057179e-01, -5.35039504e-01],\n",
       "       [-2.40419666e-01, -7.73033673e-01, -9.03498547e-01, ...,\n",
       "         4.04404276e-01, -1.09484041e-01,  7.09297297e-01],\n",
       "       [ 3.67480353e+00, -3.04606091e-02, -9.53230106e-01, ...,\n",
       "         2.60323086e-01,  5.22578209e-01,  7.16351788e-02],\n",
       "       ...,\n",
       "       [ 7.74437122e-01,  4.76283375e-03, -7.63896086e-01, ...,\n",
       "        -1.52318988e+00,  7.39754091e+00,  7.52089854e-01],\n",
       "       [ 4.71329335e+00,  3.45526482e-01, -4.12767694e-01, ...,\n",
       "        -9.01228907e-01, -3.59849849e-02,  2.78337176e-01],\n",
       "       [ 1.01900951e+00,  5.92913219e-02,  9.90131581e-01, ...,\n",
       "        -9.60166650e-01,  1.45144893e-01,  5.01730920e-01]])"
      ]
     },
     "execution_count": 62,
     "metadata": {},
     "output_type": "execute_result"
    }
   ],
   "source": [
    "scaler.transform(X_test)"
   ]
  },
  {
   "cell_type": "code",
   "execution_count": 63,
   "id": "b1bb7c3d-8902-4348-aa47-a60d0e6e63cd",
   "metadata": {},
   "outputs": [],
   "source": [
    "dirty_preds = rp.predict_proba(X_test)[:,1]\n",
    "clean_preds = lgb_model.predict_proba(X_test)[:,1]"
   ]
  },
  {
   "cell_type": "code",
   "execution_count": 64,
   "id": "edfbe152-d6ba-4af1-bf37-6aac29852460",
   "metadata": {
    "tags": []
   },
   "outputs": [],
   "source": [
    "sample_df = pd.read_csv(datapath/'sample_submission.csv')"
   ]
  },
  {
   "cell_type": "code",
   "execution_count": 65,
   "id": "b99dd91d-cc7b-49d5-a262-6d3f80e82279",
   "metadata": {},
   "outputs": [
    {
     "data": {
      "text/html": [
       "<div>\n",
       "<style scoped>\n",
       "    .dataframe tbody tr th:only-of-type {\n",
       "        vertical-align: middle;\n",
       "    }\n",
       "\n",
       "    .dataframe tbody tr th {\n",
       "        vertical-align: top;\n",
       "    }\n",
       "\n",
       "    .dataframe thead th {\n",
       "        text-align: right;\n",
       "    }\n",
       "</style>\n",
       "<table border=\"1\" class=\"dataframe\">\n",
       "  <thead>\n",
       "    <tr style=\"text-align: right;\">\n",
       "      <th></th>\n",
       "      <th>id</th>\n",
       "      <th>target</th>\n",
       "    </tr>\n",
       "  </thead>\n",
       "  <tbody>\n",
       "    <tr>\n",
       "      <th>0</th>\n",
       "      <td>600000</td>\n",
       "      <td>0.5</td>\n",
       "    </tr>\n",
       "    <tr>\n",
       "      <th>1</th>\n",
       "      <td>600001</td>\n",
       "      <td>0.5</td>\n",
       "    </tr>\n",
       "    <tr>\n",
       "      <th>2</th>\n",
       "      <td>600002</td>\n",
       "      <td>0.5</td>\n",
       "    </tr>\n",
       "    <tr>\n",
       "      <th>3</th>\n",
       "      <td>600003</td>\n",
       "      <td>0.5</td>\n",
       "    </tr>\n",
       "    <tr>\n",
       "      <th>4</th>\n",
       "      <td>600004</td>\n",
       "      <td>0.5</td>\n",
       "    </tr>\n",
       "  </tbody>\n",
       "</table>\n",
       "</div>"
      ],
      "text/plain": [
       "       id  target\n",
       "0  600000     0.5\n",
       "1  600001     0.5\n",
       "2  600002     0.5\n",
       "3  600003     0.5\n",
       "4  600004     0.5"
      ]
     },
     "execution_count": 65,
     "metadata": {},
     "output_type": "execute_result"
    }
   ],
   "source": [
    "sample_df.head()"
   ]
  },
  {
   "cell_type": "code",
   "execution_count": 67,
   "id": "6de390d5-0fb7-42c3-8667-b73df65920e7",
   "metadata": {},
   "outputs": [
    {
     "data": {
      "text/plain": [
       "(540000,)"
      ]
     },
     "execution_count": 67,
     "metadata": {},
     "output_type": "execute_result"
    }
   ],
   "source": [
    "dirty_preds.shape"
   ]
  },
  {
   "cell_type": "code",
   "execution_count": 69,
   "id": "d8a7cfad-81ca-40ec-a0b1-2ec5ff4d1a8d",
   "metadata": {},
   "outputs": [
    {
     "data": {
      "text/plain": [
       "(540000,)"
      ]
     },
     "execution_count": 69,
     "metadata": {},
     "output_type": "execute_result"
    }
   ],
   "source": [
    "clean_preds.shape"
   ]
  },
  {
   "cell_type": "code",
   "execution_count": 68,
   "id": "1ac838fd-e9a6-49fc-aa4d-7f2ae2d2c4b9",
   "metadata": {},
   "outputs": [
    {
     "data": {
      "text/plain": [
       "(540000, 2)"
      ]
     },
     "execution_count": 68,
     "metadata": {},
     "output_type": "execute_result"
    }
   ],
   "source": [
    "sample_df.shape"
   ]
  },
  {
   "cell_type": "code",
   "execution_count": 70,
   "id": "344a6439-1eed-4ed5-99c9-8d55a4bcc02f",
   "metadata": {},
   "outputs": [],
   "source": [
    "sample_df.loc[:, 'target'] = dirty_preds"
   ]
  },
  {
   "cell_type": "code",
   "execution_count": 71,
   "id": "932dd2da-0087-4fbd-856d-87b7b821d65f",
   "metadata": {},
   "outputs": [
    {
     "data": {
      "text/html": [
       "<div>\n",
       "<style scoped>\n",
       "    .dataframe tbody tr th:only-of-type {\n",
       "        vertical-align: middle;\n",
       "    }\n",
       "\n",
       "    .dataframe tbody tr th {\n",
       "        vertical-align: top;\n",
       "    }\n",
       "\n",
       "    .dataframe thead th {\n",
       "        text-align: right;\n",
       "    }\n",
       "</style>\n",
       "<table border=\"1\" class=\"dataframe\">\n",
       "  <thead>\n",
       "    <tr style=\"text-align: right;\">\n",
       "      <th></th>\n",
       "      <th>id</th>\n",
       "      <th>target</th>\n",
       "    </tr>\n",
       "  </thead>\n",
       "  <tbody>\n",
       "    <tr>\n",
       "      <th>0</th>\n",
       "      <td>600000</td>\n",
       "      <td>0.866322</td>\n",
       "    </tr>\n",
       "    <tr>\n",
       "      <th>1</th>\n",
       "      <td>600001</td>\n",
       "      <td>0.948761</td>\n",
       "    </tr>\n",
       "    <tr>\n",
       "      <th>2</th>\n",
       "      <td>600002</td>\n",
       "      <td>0.976896</td>\n",
       "    </tr>\n",
       "    <tr>\n",
       "      <th>3</th>\n",
       "      <td>600003</td>\n",
       "      <td>0.810975</td>\n",
       "    </tr>\n",
       "    <tr>\n",
       "      <th>4</th>\n",
       "      <td>600004</td>\n",
       "      <td>0.665766</td>\n",
       "    </tr>\n",
       "  </tbody>\n",
       "</table>\n",
       "</div>"
      ],
      "text/plain": [
       "       id    target\n",
       "0  600000  0.866322\n",
       "1  600001  0.948761\n",
       "2  600002  0.976896\n",
       "3  600003  0.810975\n",
       "4  600004  0.665766"
      ]
     },
     "execution_count": 71,
     "metadata": {},
     "output_type": "execute_result"
    }
   ],
   "source": [
    "sample_df.head()"
   ]
  },
  {
   "cell_type": "code",
   "execution_count": null,
   "id": "ca8f76a9-54bf-41de-a76c-8113e72ad3f9",
   "metadata": {},
   "outputs": [],
   "source": [
    "# submission_path = datapath/'submissions'\n",
    "# submission_path.mkdir(exist_ok=True)"
   ]
  },
  {
   "cell_type": "code",
   "execution_count": 72,
   "id": "d8eae3ee-6dfd-43a3-9ed2-e5798193e4a1",
   "metadata": {},
   "outputs": [],
   "source": [
    "sample_df.to_csv(subpath/f\"{wandb_config['name']}_basic_LGBM_preds.csv\", index=False)\n",
    "# sample_df.to_csv(subpath/f\"{wandb_config['name']}_3level-X_orig+KMeans8+synth-GBM-stack_ensemble_preds.csv\", index=False)"
   ]
  },
  {
   "cell_type": "code",
   "execution_count": 73,
   "id": "0f130574-29d6-402d-b461-6ee3975db800",
   "metadata": {},
   "outputs": [],
   "source": [
    "sample_df.loc[:, 'target'] = clean_preds"
   ]
  },
  {
   "cell_type": "code",
   "execution_count": 74,
   "id": "333aebf9-4804-4378-8f1c-2af72b22e5d6",
   "metadata": {},
   "outputs": [
    {
     "data": {
      "text/html": [
       "<div>\n",
       "<style scoped>\n",
       "    .dataframe tbody tr th:only-of-type {\n",
       "        vertical-align: middle;\n",
       "    }\n",
       "\n",
       "    .dataframe tbody tr th {\n",
       "        vertical-align: top;\n",
       "    }\n",
       "\n",
       "    .dataframe thead th {\n",
       "        text-align: right;\n",
       "    }\n",
       "</style>\n",
       "<table border=\"1\" class=\"dataframe\">\n",
       "  <thead>\n",
       "    <tr style=\"text-align: right;\">\n",
       "      <th></th>\n",
       "      <th>id</th>\n",
       "      <th>target</th>\n",
       "    </tr>\n",
       "  </thead>\n",
       "  <tbody>\n",
       "    <tr>\n",
       "      <th>0</th>\n",
       "      <td>600000</td>\n",
       "      <td>0.647848</td>\n",
       "    </tr>\n",
       "    <tr>\n",
       "      <th>1</th>\n",
       "      <td>600001</td>\n",
       "      <td>0.632269</td>\n",
       "    </tr>\n",
       "    <tr>\n",
       "      <th>2</th>\n",
       "      <td>600002</td>\n",
       "      <td>0.797033</td>\n",
       "    </tr>\n",
       "    <tr>\n",
       "      <th>3</th>\n",
       "      <td>600003</td>\n",
       "      <td>0.556056</td>\n",
       "    </tr>\n",
       "    <tr>\n",
       "      <th>4</th>\n",
       "      <td>600004</td>\n",
       "      <td>0.410237</td>\n",
       "    </tr>\n",
       "  </tbody>\n",
       "</table>\n",
       "</div>"
      ],
      "text/plain": [
       "       id    target\n",
       "0  600000  0.647848\n",
       "1  600001  0.632269\n",
       "2  600002  0.797033\n",
       "3  600003  0.556056\n",
       "4  600004  0.410237"
      ]
     },
     "execution_count": 74,
     "metadata": {},
     "output_type": "execute_result"
    }
   ],
   "source": [
    "sample_df.head()"
   ]
  },
  {
   "cell_type": "code",
   "execution_count": 75,
   "id": "9e87363c-9d65-46ea-a938-2fcaeb7695dc",
   "metadata": {},
   "outputs": [],
   "source": [
    "sample_df.to_csv(subpath/f\"{wandb_config['name']}_cleanlab_basic_LGBM_preds.csv\", index=False)\n"
   ]
  },
  {
   "cell_type": "markdown",
   "id": "286efee9-2fdb-413d-bb51-f1c5e62e78ad",
   "metadata": {},
   "source": [
    "# CONCLUSION\n",
    "Actually, Cleanlab works: LB score with cleaning is 0.72402 compared to 0.71712 with the dirty one."
   ]
  },
  {
   "cell_type": "code",
   "execution_count": 19,
   "id": "f155602d-6895-403b-8b3b-31b4f6f3987b",
   "metadata": {},
   "outputs": [],
   "source": [
    "def cross_validate_model(arch:str, X, y, X_test, params:dict={}, start_fold=0, \n",
    "                         exmodel_config=exmodel_config, wandb_config=wandb_config, \n",
    "                         random_state=42, shuffle_kfolds=True, wandb_tracked=True, encode_cats=False):\n",
    "    \"\"\"\n",
    "    Function to handle model training process in the context of cross-validation -- via hold-out or via k-fold.\n",
    "    If exmodel_config['cross_val_strategy'] == None, then any kfolds= input is ignored; otherwise, the number specified is used.\n",
    "    \n",
    "    :param kfolds: int specifying number of k-folds to use in cross-validation\n",
    "    :param exmodel_config: dict containing general config including for cross-validation -- `kfold=1` implies hold-out\n",
    "    \"\"\"\n",
    "#     if exmodel_config['kfolds'] == 1:\n",
    "#         print(\"Proceeding with holdout\")\n",
    "#     X_train, X_valid, y_train, y_valid = train_test_split(X, y, \n",
    "#                                                           test_size=0.2, \n",
    "#                                                           random_state=SEED)                 \n",
    "    \n",
    "    # prepare for k-fold cross-validation; random-state here is notebook-wide, not per-model\n",
    "    # shuffle on the initial sets, but not subsequently -- performing the same operation twice means a very different dataset\n",
    "    if shuffle_kfolds:\n",
    "        kfold = exmodel_config['cross_val_strategy'](n_splits=exmodel_config['kfolds'], shuffle=True, random_state=SEED)\n",
    "    else:\n",
    "        kfold = exmodel_config['cross_val_strategy'](n_splits=exmodel_config['kfolds'], shuffle=False)\n",
    "    \n",
    "    if wandb_tracked:\n",
    "        exmodel_config['arch'] = arch\n",
    "        exmodel_config[f'{arch}_params'] = str(params)\n",
    "        wandb.init(\n",
    "            project=\"202111_Kaggle_tabular_playground\",\n",
    "            save_code=True,\n",
    "            tags=wandb_config['tags'],\n",
    "            name=wandb_config['name'],\n",
    "            notes=wandb_config['notes'],\n",
    "            config=exmodel_config\n",
    "    )   \n",
    "    \n",
    "    # setup for serialization\n",
    "    # runpath = Path(modelpath/f\"{wandb_config['name']}_{arch}_{exmodel_config['kfolds']}folds/\")\n",
    "    # (runpath).mkdir(exist_ok=True)\n",
    "    \n",
    "    \n",
    "    # initialize lists for out-of-fold preds and ground truth\n",
    "    oof_preds, oof_y = [], []\n",
    "    \n",
    "    # initialize a numpy.ndarray containing the fold-model's preds for test set\n",
    "    test_preds = np.zeros((X_test.shape[0]))\n",
    "    \n",
    "    # if using deep learning with pytorch-widedeep, do data preprocessing now, before splits\n",
    "    if 'widedeep' in arch:\n",
    "        # NOTE THAT ENCODING NOT DEPLOYED FOR THIS YET\n",
    "        # preprocessing first\n",
    "        wide_cols = [f for f in X.columns if X[f].nunique() == 2] #list(X_train.columns) if X_train.iloc[:,f].nunique() == 2] # binary indicator vars are wide\n",
    "        cont_cols = [f for f in X.columns if X[f].nunique() > 2] #list(X_train.columns) if X_train.iloc[:,f].nunique() > 2] # others are cont\n",
    "\n",
    "        # wide part\n",
    "        # wide_preprocessor = WidePreprocessor(wide_cols=wide_cols)\n",
    "        # X_wide = wide_preprocessor.fit_transform(X)\n",
    "#         print(f\"X_wide.shape = {X_wide.shape}\")\n",
    "#         X_wide = np.array(X_train[wide_cols])\n",
    "        \n",
    "\n",
    "        # deep part\n",
    "        tab_preprocessor = TabPreprocessor(continuous_cols=cont_cols)#, embed_cols=embed_cols, )\n",
    "        X_tab = tab_preprocessor.fit_transform(X)   \n",
    "#         print(f\"X_tab.shape = {X_tab.shape}\")\n",
    "        \n",
    "        # transforming the test set\n",
    "        X_test_wide = wide_preprocessor.transform(X_test)\n",
    "        X_test_tab = tab_preprocessor.transform(X_test)\n",
    "        \n",
    "        # at this point, X_wide, X_tab, X_test_wide, and X_test_tab will all be np.ndarrays\n",
    "    \n",
    "#     else: # if using a GBM, simply convert the pd.DataFrames to np.ndarrays\n",
    "#         X = np.array(X) # CAN YOU USE CATEGORY_ENCODERS ON NP.NDARRAYS?\n",
    "#         X_test = np.array(X_test)\n",
    "    \n",
    "    for fold, (train_ids, valid_ids) in enumerate(kfold.split(X,y)):\n",
    "#         print(f\"type(train_ids) = {type(train_ids)} and train_ids.shape = {train_ids.shape}\")\n",
    "#         print(f\"type(valid_ids) = {type(valid_ids)} and train_ids.shape = {valid_ids.shape}\")\n",
    "        if fold < start_fold: # skip folds that are already trained\n",
    "            continue\n",
    "        else:\n",
    "            print(f\"FOLD {fold}\")\n",
    "            print(\"---------------------------------------------------\")\n",
    "            y_train, y_valid = y[train_ids], y[valid_ids] # y will be an np.ndarray already; handling will be same regardless of model\n",
    "            if 'widedeep' in arch: # handle wide and deep tabs in parallel\n",
    "                X_train_wide, X_valid_wide = X_wide[train_ids, :], X_wide[valid_ids, :]\n",
    "                X_train_tab, X_valid_tab = X_tab[train_ids, :], X_tab[valid_ids, :]\n",
    "#                 print(f\"X_train_wide.shape = {X_train_wide.shape}\")\n",
    "#                 print(f\"X_train_tab.shape = {X_train_tab.shape}\")\n",
    "#                 print(f\"X_test_wide.shape = {X_test_wide.shape}\")\n",
    "#                 print(f\"X_test_tab.shape = {X_test_tab.shape}\")\n",
    "            else: # handle datasets for GBMs\n",
    "                if isinstance(X, np.ndarray):\n",
    "                    X_train, X_valid = X[train_ids], X[valid_ids]\n",
    "                else:\n",
    "                    X_train, X_valid = X.iloc[train_ids,:], X.iloc[valid_ids,:] # bc need pandas.DataFrames for ce\n",
    "                # if encode_cats:\n",
    "                #     encoder = ce.WOEEncoder(cols=categoricals)\n",
    "                #     encoder.fit(X_train,y_train)\n",
    "                #     X_train = encoder.transform(X_train)\n",
    "                #     X_valid = encoder.transform(X_valid)\n",
    "                # # exmodel_config['feature_count'] = len(X.columns)\n",
    "                #     wandb.log({\n",
    "                #         'feature_count': X_train.shape[1],\n",
    "                #         'instance_count': X_train.shape[0],\n",
    "                #         'encoder': str(encoder)\n",
    "                #     })\n",
    "#                 exmodel_config['instance_count'] = X_train.shape[0]\n",
    "#                 exmodel_config['encoder'] = str(encoder)\n",
    "#                     X_test = encoder.transform(X_test)\n",
    "#                 y_train, y_valid = y[train_ids], y[valid_ids]\n",
    "            \n",
    "        # scaling\n",
    "        scaler = RobustScaler()\n",
    "        X_train = scaler.fit_transform(X_train)\n",
    "        X_valid = scaler.transform(X_valid)\n",
    "    \n",
    "        # define models\n",
    "        if arch == 'xgboost':\n",
    "            model = XGBClassifier(\n",
    "                booster='gbtree',\n",
    "                tree_method='gpu_hist',\n",
    "                random_state=random_state,\n",
    "                n_jobs=-1, \n",
    "                verbosity=1, \n",
    "                objective='binary:logistic',\n",
    "                **params)\n",
    "            if wandb_tracked:\n",
    "                model.fit(X_train, y_train, callbacks=[wandb.xgboost.wandb_callback()])\n",
    "            else:\n",
    "                model.fit(X_train, y_train)\n",
    "            y_valid_preds = model.predict_proba(X_valid)[:,1]\n",
    "            \n",
    "            # add the fold-model's OOF preds and ground truths to the out-of-loop lists\n",
    "            oof_preds.extend(y_valid_preds)\n",
    "            oof_y.extend(y_valid)\n",
    "            \n",
    "            # add the fold's predictions to the model's test-set predictions (will divide later)\n",
    "            test_preds += model.predict_proba(X_test)[:,1]\n",
    "\n",
    "\n",
    "        elif arch == 'lightgbm':\n",
    "            try:\n",
    "                model = LGBMClassifier(\n",
    "                    objective='binary',\n",
    "                    random_state=random_state,\n",
    "#                     device_type='cpu',\n",
    "#                     n_jobs=-1,\n",
    "    #                 eval_metric='auc',\n",
    "                    device_type='gpu',\n",
    "                    max_bin=63, # 15 might be even better for GPU perf, but depends on dataset -- see https://lightgbm.readthedocs.io/en/latest/GPU-Performance.html\n",
    "                    gpu_use_dp=False, # forces use of single precision rather than double for better perf, esp on consumer Nvidia chips\n",
    "                    **params)\n",
    "                \n",
    "                if wandb_tracked:\n",
    "                    model.fit(X_train, y_train, callbacks=[wandb.lightgbm.wandb_callback()],)\n",
    "                else:\n",
    "                    model.fit(X_train, y_train)\n",
    "            except LightGBMError:\n",
    "                model = LGBMClassifier(\n",
    "                    objective='binary',\n",
    "                    random_state=random_state,\n",
    "                    device_type='cpu',\n",
    "                    n_jobs=-1,\n",
    "    #                 eval_metric='auc',\n",
    "    #                 device_type='gpu',\n",
    "    #                 max_bin=63, # 15 might be even better for GPU perf, but depends on dataset -- see https://lightgbm.readthedocs.io/en/latest/GPU-Performance.html\n",
    "    #                 gpu_use_dp=False, # forces use of single precision rather than double for better perf, esp on consumer Nvidia chips\n",
    "                    **params)\n",
    "                \n",
    "                if wandb_tracked:\n",
    "                    model.fit(X_train, y_train, callbacks=[wandb.lightgbm.wandb_callback()],)\n",
    "                else:\n",
    "                    model.fit(X_train, y_train)\n",
    "            y_valid_preds = model.predict_proba(X_valid)[:,1]\n",
    "            \n",
    "            # add the fold-model's OOF preds and ground truths to the out-of-loop lists\n",
    "            oof_preds.extend(y_valid_preds)\n",
    "            oof_y.extend(y_valid)\n",
    "            \n",
    "            # add the fold's predictions to the model's test-set predictions (will divide later)\n",
    "            test_preds += model.predict_proba(X_test)[:,1]\n",
    "\n",
    "            \n",
    "        elif arch == 'catboost':\n",
    "            model = CatBoostClassifier(\n",
    "                task_type='GPU',\n",
    "                silent=True,\n",
    "                random_state=random_state,\n",
    "                **params) \n",
    "        \n",
    "            model.fit(X_train, y_train)\n",
    "            y_valid_preds = model.predict_proba(X_valid)[:,1]\n",
    "            \n",
    "            # add the fold-model's OOF preds and ground truths to the out-of-loop lists\n",
    "            oof_preds.extend(y_valid_preds)\n",
    "            oof_y.extend(y_valid)\n",
    "            \n",
    "            # add the fold's predictions to the model's test-set predictions (will divide later)\n",
    "            test_preds += model.predict_proba(X_test)[:,1]\n",
    "            \n",
    "        elif 'widedeep' in arch: # only coding for TabMlp right now\n",
    "#             X_train = pd.DataFrame(X_train, columns=[f\"f{x}\" for x in range(X_train.shape[1])])\n",
    "#             X_valid = pd.DataFrame(X_valid, columns=[f\"f{x}\" for x in range(X_valid.shape[1])])\n",
    "#             X_test = pd.DataFrame(X_test, columns=[f\"f{x}\" for x in range(X_test.shape[1])])\n",
    "            \n",
    "            wide = Wide(wide_dim=np.unique(X_wide).shape[0], pred_dim=1)\n",
    "            deeptabular = TabMlp(\n",
    "                mlp_hidden_dims=[64,32],\n",
    "                column_idx=tab_preprocessor.column_idx,\n",
    "            #     embed_input=tab_preprocessor.embeddings_input,\n",
    "                continuous_cols=cont_cols,\n",
    "            )\n",
    "            \n",
    "            # model instantiation and training\n",
    "            model = WideDeep(wide=wide, deeptabular=deeptabular)\n",
    "            \n",
    "            \n",
    "            n_epochs = 300\n",
    "\n",
    "            # pytorch hyperparams\n",
    "            wide_opt = AdamW(model.wide.parameters(), lr=0.1)\n",
    "            deep_opt = AdamW(model.deeptabular.parameters(), lr=0.1)\n",
    "            \n",
    "            wide_sch = OneCycleLR(optimizer=wide_opt, max_lr=0.01, steps_per_epoch=X_train_wide.shape[0], epochs=n_epochs)\n",
    "            deep_sch = OneCycleLR(optimizer=deep_opt, max_lr=0.01, steps_per_epoch=X_train_tab.shape[0], epochs=n_epochs)\n",
    "            \n",
    "            optimizers = {'wide': wide_opt, 'deeptabular': deep_opt }\n",
    "            lr_schedulers = {'wide': wide_sch, 'deeptabular': deep_sch }\n",
    "            \n",
    "            \n",
    "            callbacks = [\n",
    "                LRHistory(n_epochs=n_epochs), \n",
    "            ]\n",
    "            \n",
    "            # trainer\n",
    "            trainer = Trainer(model=model, \n",
    "                              objective='binary', \n",
    "                              metrics=[Accuracy], # with AUROC got TypeError: '>' not supported between instances of 'NoneType' and 'int' \n",
    "                              seed=random_state, \n",
    "                              optimizers=optimizers,\n",
    "                              callbacks=callbacks\n",
    "                             )\n",
    "            \n",
    "#             print(f\"type(X_train_wide) is {type(X_train_wide)} and type(X_train_tab) is {type(X_train_tab)}\")\n",
    "            trainer.fit( # this is where problem is beginning\n",
    "                X_wide=X_train_wide,\n",
    "                X_tab=X_train_tab,\n",
    "                target=y_train,\n",
    "                n_epochs=n_epochs,\n",
    "                batch_size=1024, # default value is 32\n",
    "#                 val_split=0.2, # no need for this\n",
    "            )\n",
    "            \n",
    "            y_valid_preds = trainer.predict_proba(X_wide=X_valid_wide, X_tab=X_valid_tab, batch_size=1024)[:,1]\n",
    "            \n",
    "            # add the fold-model's OOF preds and ground truths to the out-of-loop lists\n",
    "            oof_preds.extend(y_valid_preds)\n",
    "            oof_y.extend(y_valid)\n",
    "            \n",
    "            \n",
    "            # test set inference\n",
    "            fold_test_preds = trainer.predict_proba(X_wide=X_test_wide, X_tab=X_test_tab, batch_size=1024)[:,1]\n",
    "            test_preds += fold_test_preds\n",
    "            \n",
    "\n",
    "        \n",
    "        \n",
    "       \n",
    "        \n",
    "        \n",
    "\n",
    "#         valid_loss = log_loss(y_valid, y_pred)\n",
    "        # give the valid AUC score, for edification\n",
    "        fold_valid_auc = roc_auc_score(y_valid, y_valid_preds)\n",
    "        if wandb_tracked:\n",
    "            wandb.log({f'fold{fold}_valid_roc_auc': fold_valid_auc})\n",
    "        print(f\"Valid AUC for fold {fold} is {fold_valid_auc}\")   \n",
    "        # dump(model, Path(runpath/f\"{arch}_fold{fold}_rs{random_state}_model.joblib\"))\n",
    "\n",
    "    model_valid_auc = roc_auc_score(oof_y, oof_preds)\n",
    "    print(f\"Valid AUC score for {arch} model is {model_valid_auc}\")\n",
    "    if wandb_tracked:\n",
    "        wandb.log({'overall_valid_auc': model_valid_auc,\n",
    "                   'model_params': str(model.parameters()) if 'widedeep' in arch else str(model.get_params()),\n",
    "                   'model_seed': random_state,\n",
    "                  })\n",
    "        wandb.finish()\n",
    "    \n",
    "    # finalize test preds\n",
    "    test_preds /= exmodel_config['kfolds']\n",
    "    \n",
    "    # save OOF preds and test-set preds\n",
    "#     if 'widedeep' in arch:\n",
    "#         dump(oof_preds, Path(predpath/f\"{wandb_config['name']}_{arch}_{exmodel_config['kfolds']}folds_{n_epochs}epochs-per-fold_rs{random_state}_oof_preds.joblib\"))\n",
    "#         dump(test_preds, Path(predpath/f\"{wandb_config['name']}_{arch}_{exmodel_config['kfolds']}folds_{n_epochs}epochs-per-fold_rs{random_state}_test_preds.joblib\"))\n",
    "    \n",
    "#     else:\n",
    "#         dump(oof_preds, Path(predpath/f\"{wandb_config['name']}_{arch}_{exmodel_config['kfolds']}folds_rs{random_state}_oof_preds.joblib\"))\n",
    "#         dump(test_preds, Path(predpath/f\"{wandb_config['name']}_{arch}_{exmodel_config['kfolds']}folds_rs{random_state}_test_preds.joblib\"))\n",
    "    \n",
    "    if not (datapath/f\"{exmodel_config['kfolds']}folds_rs{SEED}_oof_y.joblib\").is_file():\n",
    "        dump(oof_y, predpath/f\"{exmodel_config['kfolds']}folds_rs{SEED}_oof_y.joblib\")\n",
    "    \n",
    "#     if wandb_tracked:\n",
    "# #         if 'widedeep' in arch:\n",
    "#         wandb.log({'model_valid_auc': model_valid_auc,\n",
    "# #                    'oof_preds': oof_preds,\n",
    "# #                    'test_preds': test_preds,\n",
    "#                    'model_params': str(model.parameters()) if 'widedeep' in arch else str(model.get_params()), \n",
    "#         #                    'model_params': str(model.get_params()),\n",
    "#         })\n",
    "# #         wandb.log({'model_valid_auc': model_valid_auc,\n",
    "# #                    'oof_preds': oof_preds,\n",
    "# #                    'test_preds': test_preds,\n",
    "# # #                    'model_params': str(model.get_params()),\n",
    "# #                   })\n",
    "#         wandb.finish()\n",
    "    return oof_preds, test_preds\n",
    "        "
   ]
  }
 ],
 "metadata": {
  "kernelspec": {
   "display_name": "Python 3",
   "language": "python",
   "name": "python3"
  },
  "language_info": {
   "codemirror_mode": {
    "name": "ipython",
    "version": 3
   },
   "file_extension": ".py",
   "mimetype": "text/x-python",
   "name": "python",
   "nbconvert_exporter": "python",
   "pygments_lexer": "ipython3",
   "version": "3.8.12"
  }
 },
 "nbformat": 4,
 "nbformat_minor": 5
}
