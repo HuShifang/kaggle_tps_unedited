{
 "cells": [
  {
   "cell_type": "code",
   "execution_count": 1,
   "id": "bd695e26-caee-4d35-8046-db0856189001",
   "metadata": {},
   "outputs": [],
   "source": [
    "from sklearn.preprocessing import normalize\n",
    "from sklearn.preprocessing import MinMaxScaler"
   ]
  },
  {
   "cell_type": "code",
   "execution_count": 3,
   "id": "318dc76f-6658-4b61-a0c6-fc55821cadd1",
   "metadata": {},
   "outputs": [],
   "source": [
    "import pandas as pd\n",
    "import numpy as np"
   ]
  },
  {
   "cell_type": "code",
   "execution_count": 4,
   "id": "0a1859b4-13a3-4563-8990-d81cead896ca",
   "metadata": {},
   "outputs": [],
   "source": [
    "x = np.array([[-232, 0, 0.2, 4], \n",
    "              [84, 33332, -323, 0],\n",
    "              [0.4, -7, 0, -100000]])"
   ]
  },
  {
   "cell_type": "code",
   "execution_count": 5,
   "id": "686371b1-942d-4bd1-b64d-31d6b333f379",
   "metadata": {},
   "outputs": [
    {
     "data": {
      "text/plain": [
       "array([[-2.3200e+02,  0.0000e+00,  2.0000e-01,  4.0000e+00],\n",
       "       [ 8.4000e+01,  3.3332e+04, -3.2300e+02,  0.0000e+00],\n",
       "       [ 4.0000e-01, -7.0000e+00,  0.0000e+00, -1.0000e+05]])"
      ]
     },
     "execution_count": 5,
     "metadata": {},
     "output_type": "execute_result"
    }
   ],
   "source": [
    "x"
   ]
  },
  {
   "cell_type": "code",
   "execution_count": 6,
   "id": "6ced6f8e-9a10-4fb3-86e4-058df6bf39a4",
   "metadata": {},
   "outputs": [],
   "source": [
    "x_normalize = normalize(x)"
   ]
  },
  {
   "cell_type": "code",
   "execution_count": 7,
   "id": "9b700db2-e221-41e4-b011-af3a52abe882",
   "metadata": {},
   "outputs": [
    {
     "data": {
      "text/plain": [
       "array([[-9.99851029e-01,  0.00000000e+00,  8.61940542e-04,\n",
       "         1.72388108e-02],\n",
       "       [ 2.51997449e-03,  9.99949877e-01, -9.68990190e-03,\n",
       "         0.00000000e+00],\n",
       "       [ 3.99999999e-06, -6.99999998e-05,  0.00000000e+00,\n",
       "        -9.99999998e-01]])"
      ]
     },
     "execution_count": 7,
     "metadata": {},
     "output_type": "execute_result"
    }
   ],
   "source": [
    "x_normalize"
   ]
  },
  {
   "cell_type": "code",
   "execution_count": 8,
   "id": "1046dbb1-9134-4b79-9767-0f4bf5af3e10",
   "metadata": {},
   "outputs": [],
   "source": [
    "scaler = MinMaxScaler()\n",
    "x_minmax = scaler.fit_transform(x)"
   ]
  },
  {
   "cell_type": "code",
   "execution_count": 9,
   "id": "5648ce80-01c1-479f-8b3d-821686fbc08c",
   "metadata": {},
   "outputs": [
    {
     "data": {
      "text/plain": [
       "array([[0.00000000e+00, 2.09964306e-04, 1.00000000e+00, 1.00000000e+00],\n",
       "       [1.00000000e+00, 1.00000000e+00, 0.00000000e+00, 9.99960002e-01],\n",
       "       [7.35443038e-01, 0.00000000e+00, 9.99381188e-01, 0.00000000e+00]])"
      ]
     },
     "execution_count": 9,
     "metadata": {},
     "output_type": "execute_result"
    }
   ],
   "source": [
    "x_minmax"
   ]
  }
 ],
 "metadata": {
  "kernelspec": {
   "display_name": "Python 3",
   "language": "python",
   "name": "python3"
  },
  "language_info": {
   "codemirror_mode": {
    "name": "ipython",
    "version": 3
   },
   "file_extension": ".py",
   "mimetype": "text/x-python",
   "name": "python",
   "nbconvert_exporter": "python",
   "pygments_lexer": "ipython3",
   "version": "3.8.12"
  }
 },
 "nbformat": 4,
 "nbformat_minor": 5
}
