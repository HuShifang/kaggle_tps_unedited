{
 "cells": [
  {
   "cell_type": "code",
   "execution_count": 1,
   "id": "19c78cb1-1291-47d4-9f9a-9d2af6b54f19",
   "metadata": {},
   "outputs": [],
   "source": [
    "# notebook configuration\n",
    "# if '/sf/' in pwd:\n",
    "#     COLAB, SAGE = False, False\n",
    "# elif 'google.colab' in str(get_ipython()):\n",
    "#     COLAB, SAGE = True, False # do colab-specific installs later\n",
    "# else:\n",
    "#     COLAB, SAGE = False, True\n",
    "    \n",
    "CONTEXT = 'local' # or 'colab', 'sage', 'kaggle'\n",
    "USE_GPU = True \n",
    "%config Completer.use_jedi = False"
   ]
  },
  {
   "cell_type": "markdown",
   "id": "f4a15638-e3d0-45e9-b9e3-5e8f55e157c1",
   "metadata": {
    "tags": []
   },
   "source": [
    "## Imports"
   ]
  },
  {
   "cell_type": "code",
   "execution_count": 2,
   "id": "f276c432-ba35-498e-90ed-e7d883b8dcdb",
   "metadata": {},
   "outputs": [],
   "source": [
    "# basic imports\n",
    "from pathlib import Path\n",
    "import os\n",
    "import math\n",
    "from datetime import datetime\n",
    "import random\n",
    "\n",
    "import pandas as pd\n",
    "import numpy as np\n",
    "\n",
    "import matplotlib.pyplot as plt\n",
    "import seaborn as sns\n",
    "%matplotlib inline\n",
    "\n",
    "import warnings\n",
    "warnings.filterwarnings(\"ignore\")\n",
    "\n",
    "import requests # for telegram notifications\n",
    "from tqdm.notebook import tqdm\n",
    "\n",
    "from joblib import dump, load"
   ]
  },
  {
   "cell_type": "markdown",
   "id": "4f9a460f-f4b9-4d8b-81ae-50d1ef00cfc0",
   "metadata": {},
   "source": [
    "Now, non-stdlib imports"
   ]
  },
  {
   "cell_type": "code",
   "execution_count": 3,
   "id": "72dc8495-b782-4bed-8227-62877b7b38c2",
   "metadata": {},
   "outputs": [
    {
     "data": {
      "text/html": [
       "<style type='text/css'>\n",
       ".datatable table.frame { margin-bottom: 0; }\n",
       ".datatable table.frame thead { border-bottom: none; }\n",
       ".datatable table.frame tr.coltypes td {  color: #FFFFFF;  line-height: 6px;  padding: 0 0.5em;}\n",
       ".datatable .bool    { background: #DDDD99; }\n",
       ".datatable .object  { background: #565656; }\n",
       ".datatable .int     { background: #5D9E5D; }\n",
       ".datatable .float   { background: #4040CC; }\n",
       ".datatable .str     { background: #CC4040; }\n",
       ".datatable .time    { background: #40CC40; }\n",
       ".datatable .row_index {  background: var(--jp-border-color3);  border-right: 1px solid var(--jp-border-color0);  color: var(--jp-ui-font-color3);  font-size: 9px;}\n",
       ".datatable .frame tbody td { text-align: left; }\n",
       ".datatable .frame tr.coltypes .row_index {  background: var(--jp-border-color0);}\n",
       ".datatable th:nth-child(2) { padding-left: 12px; }\n",
       ".datatable .hellipsis {  color: var(--jp-cell-editor-border-color);}\n",
       ".datatable .vellipsis {  background: var(--jp-layout-color0);  color: var(--jp-cell-editor-border-color);}\n",
       ".datatable .na {  color: var(--jp-cell-editor-border-color);  font-size: 80%;}\n",
       ".datatable .sp {  opacity: 0.25;}\n",
       ".datatable .footer { font-size: 9px; }\n",
       ".datatable .frame_dimensions {  background: var(--jp-border-color3);  border-top: 1px solid var(--jp-border-color0);  color: var(--jp-ui-font-color3);  display: inline-block;  opacity: 0.6;  padding: 1px 10px 1px 5px;}\n",
       "</style>\n"
      ],
      "text/plain": [
       "<IPython.core.display.HTML object>"
      ]
     },
     "metadata": {},
     "output_type": "display_data"
    }
   ],
   "source": [
    "# model selection\n",
    "from sklearn.model_selection import train_test_split, StratifiedKFold, KFold\n",
    "\n",
    "# metrics\n",
    "# from sklearn.metrics import accuracy_score#, log_loss, roc_auc_score\n",
    "\n",
    "# eda\n",
    "import missingno\n",
    "# import doubtlab \n",
    "\n",
    "# data cleaning\n",
    "# from sklearn.impute import SimpleImputer #, KNNImputer\n",
    "# import cleanlab\n",
    "\n",
    "# normalization\n",
    "# from sklearn.preprocessing import RobustScaler, StandardScaler, MinMaxScaler, MaxAbsScaler, RobustScaler, QuantileTransformer\n",
    "# from gauss_rank_scaler import GaussRankScaler\n",
    "\n",
    "# feature generation\n",
    "# from sklearn.preprocessing import PolynomialFeatures\n",
    "# import category_encoders as ce\n",
    "\n",
    "# models\n",
    "from catboost import CatBoostClassifier\n",
    "from xgboost import XGBClassifier\n",
    "from lightgbm import LGBMClassifier\n",
    "# from sklearn.linear_model import LogisticRegression\n",
    "# from sklearn.ensemble import StackingClassifier, RandomForestClassifier\n",
    "\n",
    "# feature reduction\n",
    "# from sklearn.decomposition import PCA\n",
    "# from umap import UMAP\n",
    "\n",
    "# clustering\n",
    "# from sklearn.cluster import DBSCAN, KMeans\n",
    "# import hdbscan\n",
    "\n",
    "# feature selection\n",
    "# from sklearn.feature_selection import SelectKBest, f_regression, mutual_info_regression\n",
    "# import featuretools as ft\n",
    "# from BorutaShap import BorutaShap\n",
    "# from boruta import BorutaPy\n",
    "\n",
    "# tracking \n",
    "import wandb\n",
    "from wandb.xgboost import wandb_callback\n",
    "from wandb.lightgbm import wandb_callback\n",
    "os.environ['WANDB_NOTEBOOK_NAME'] = f\"nb_{datetime.now().strftime('%Y%m%d')}.ipynb\""
   ]
  },
  {
   "cell_type": "code",
   "execution_count": 4,
   "id": "228f6f63-ea0d-445e-9f59-e91ed102ddbf",
   "metadata": {},
   "outputs": [],
   "source": [
    "# deep learning\n",
    "import torch\n",
    "from torch.optim import Adam, AdamW, Adagrad, SGD, RMSprop, LBFGS\n",
    "from torch.optim.lr_scheduler import ReduceLROnPlateau, CosineAnnealingWarmRestarts, CyclicLR, OneCycleLR, StepLR, CosineAnnealingLR\n",
    "\n",
    "# widedeep\n",
    "# from pytorch_widedeep import Trainer\n",
    "# from pytorch_widedeep.preprocessing import WidePreprocessor, TabPreprocessor\n",
    "# from pytorch_widedeep.models import Wide, TabMlp, WideDeep, SAINT#, TabTransformer, TabNet, TabFastFormer, TabResnet\n",
    "# from pytorch_widedeep.metrics import Accuracy\n",
    "# from pytorch_widedeep.callbacks import EarlyStopping, LRHistory, ModelCheckpoint"
   ]
  },
  {
   "cell_type": "code",
   "execution_count": 5,
   "id": "df26ef51-ca0a-4177-b29c-4118d8421b8b",
   "metadata": {},
   "outputs": [],
   "source": [
    "# time series\n",
    "import tsfresh\n",
    "\n",
    "import darts\n",
    "from darts import TimeSeries"
   ]
  },
  {
   "cell_type": "code",
   "execution_count": 6,
   "id": "35799f38-d6d3-4971-bb6c-5660e982bbeb",
   "metadata": {},
   "outputs": [],
   "source": [
    "from darts.models import ExponentialSmoothing, AutoARIMA, ARIMA, Prophet, RandomForest, RegressionEnsembleModel, RegressionModel, TFTModel, TCNModel, TransformerModel, NBEATSModel"
   ]
  },
  {
   "cell_type": "markdown",
   "id": "2147eba6-b71b-4401-b77d-80f940322852",
   "metadata": {},
   "source": [
    "## Routing"
   ]
  },
  {
   "cell_type": "markdown",
   "id": "c333e2f0-4399-46f1-8f11-56d9c33eee17",
   "metadata": {},
   "source": [
    "Now, datapath setup"
   ]
  },
  {
   "cell_type": "code",
   "execution_count": 7,
   "id": "2fd053ac-066b-4ebb-9097-7dfd55c877eb",
   "metadata": {},
   "outputs": [],
   "source": [
    "if CONTEXT == 'colab':\n",
    "    # mount Google Drive\n",
    "    from google.colab import drive\n",
    "    drive.mount('/content/drive')\n",
    "    \n",
    "    # handling datapath\n",
    "    # datapath = Path('/content/drive/MyDrive/kaggle/tabular_playgrounds/dec2021/')\n",
    "    root = Path('') # TODO\n",
    "\n",
    "elif CONTEXT == 'sage':\n",
    "    root = Path('') # TODO\n",
    "    \n",
    "elif CONTEXT == 'kaggle':\n",
    "    root = Path('') # TODO\n",
    "    \n",
    "else: # if on local machine\n",
    "    root = Path('/media/sf/easystore/kaggle_data/tabular_playgrounds/jan2022/')\n",
    "    datapath = root/'datasets'\n",
    "    # edapath = root/'EDA'\n",
    "    # modelpath = Path('/media/sf/easystore/kaggle_data/tabular_playgrounds/oct2021/models/')\n",
    "    predpath = root/'preds'\n",
    "    subpath = root/'submissions'\n",
    "    studypath = root/'studies'\n",
    "    \n",
    "    for pth in [datapath, predpath, subpath, studypath]:\n",
    "        pth.mkdir(exist_ok=True)"
   ]
  },
  {
   "cell_type": "markdown",
   "id": "9049feb1-95cb-41fa-b325-70e02b88a7ff",
   "metadata": {},
   "source": [
    "## Helpers"
   ]
  },
  {
   "cell_type": "code",
   "execution_count": 8,
   "id": "80f10a88-e1da-4bfa-bb5f-90b98799b1c1",
   "metadata": {},
   "outputs": [],
   "source": [
    "SEED = 42\n",
    "\n",
    "# Function to seed everything but the models\n",
    "def seed_everything(seed, pytorch=True, reproducible=True):\n",
    "    random.seed(seed)\n",
    "    np.random.seed(seed)\n",
    "    os.environ['PYTHONHASHSEED'] = str(seed)\n",
    "    if pytorch:\n",
    "        torch.manual_seed(seed) # set torch CPU seed\n",
    "        if torch.cuda.is_available():\n",
    "            torch.cuda.manual_seed_all(seed) # set torch GPU(s) seed(s)\n",
    "        if reproducible and torch.backends.cudnn.is_available():\n",
    "            torch.backends.cudnn.deterministic = True\n",
    "            torch.backends.cudnn.benchmark = False\n",
    "\n",
    "seed_everything(seed=SEED)"
   ]
  },
  {
   "cell_type": "code",
   "execution_count": 9,
   "id": "0b1b7290-d45b-416b-ba66-030388a8105b",
   "metadata": {},
   "outputs": [],
   "source": [
    "def reduce_memory_usage(df, verbose=True):\n",
    "    \"\"\"\n",
    "    Function to reduce memory usage by downcasting datatypes in a Pandas DataFrame when possible.\n",
    "    \n",
    "    h/t to Bryan Arnold (https://www.kaggle.com/puremath86/label-correction-experiments-tps-nov-21)\n",
    "    \"\"\"\n",
    "    \n",
    "    numerics = [\"int8\", \"int16\", \"int32\", \"int64\", \"float16\", \"float32\", \"float64\"]\n",
    "    start_mem = df.memory_usage().sum() / 1024 ** 2\n",
    "    for col in df.columns:\n",
    "        col_type = df[col].dtypes\n",
    "        if col_type in numerics:\n",
    "            c_min = df[col].min()\n",
    "            c_max = df[col].max()\n",
    "            if str(col_type)[:3] == \"int\":\n",
    "                if c_min > np.iinfo(np.int8).min and c_max < np.iinfo(np.int8).max:\n",
    "                    df[col] = df[col].astype(np.int8)\n",
    "                elif c_min > np.iinfo(np.int16).min and c_max < np.iinfo(np.int16).max:\n",
    "                    df[col] = df[col].astype(np.int16)\n",
    "                elif c_min > np.iinfo(np.int32).min and c_max < np.iinfo(np.int32).max:\n",
    "                    df[col] = df[col].astype(np.int32)\n",
    "                elif c_min > np.iinfo(np.int64).min and c_max < np.iinfo(np.int64).max:\n",
    "                    df[col] = df[col].astype(np.int64)\n",
    "            else:\n",
    "                if (\n",
    "                    c_min > np.finfo(np.float16).min\n",
    "                    and c_max < np.finfo(np.float16).max\n",
    "                ):\n",
    "                    df[col] = df[col].astype(np.float16)\n",
    "                elif (\n",
    "                    c_min > np.finfo(np.float32).min\n",
    "                    and c_max < np.finfo(np.float32).max\n",
    "                ):\n",
    "                    df[col] = df[col].astype(np.float32)\n",
    "                else:\n",
    "                    df[col] = df[col].astype(np.float64)\n",
    "    end_mem = df.memory_usage().sum() / 1024 ** 2\n",
    "    if verbose:\n",
    "        print(\n",
    "            \"Mem. usage decreased to {:.2f} Mb ({:.1f}% reduction)\".format(\n",
    "                end_mem, 100 * (start_mem - end_mem) / start_mem\n",
    "            )\n",
    "        )\n",
    "    return df"
   ]
  },
  {
   "cell_type": "code",
   "execution_count": 10,
   "id": "9196d9c4-fa0e-49f8-b248-b133de771aa6",
   "metadata": {},
   "outputs": [],
   "source": [
    "tg_api_token = 'your_api_token' # for Galileo (jupyter_watcher_bot) on Telegram\n",
    "tg_chat_id = 'your_chat_id'\n",
    "\n",
    "import requests\n",
    "\n",
    "def send_tg_message(text='Cell execution completed.'):  \n",
    "    \"\"\"\n",
    "    h/t Ivan Dembicki Jr. for the base version \n",
    "    (https://medium.com/@ivan.dembicki.jr/notifications-in-jupyter-notebook-with-telegram-f2e892c55173)\n",
    "    \"\"\"\n",
    "    requests.post('https://api.telegram.org/' +  'bot{}/sendMessage'.format(tg_api_token),\n",
    "                  params=dict(chat_id=tg_chat_id, text=text))"
   ]
  },
  {
   "cell_type": "code",
   "execution_count": 11,
   "id": "335c9afe-ec2b-4859-98be-572390c1381e",
   "metadata": {},
   "outputs": [],
   "source": [
    "def SMAPE(y_true, y_pred):\n",
    "    '''\n",
    "    h/t Jean-François Puget (@CPMP) -- see https://www.kaggle.com/c/web-traffic-time-series-forecasting/discussion/36414\n",
    "    '''\n",
    "    denominator = (y_true + np.abs(y_pred)) / 200.0\n",
    "    diff = np.abs(y_true - y_pred) / denominator\n",
    "    diff[denominator == 0] = 0.0\n",
    "    return np.mean(diff)"
   ]
  },
  {
   "cell_type": "markdown",
   "id": "587877ab-d9cb-457b-b9b0-8090df69f9a0",
   "metadata": {},
   "source": [
    "# EDA (Comp)"
   ]
  },
  {
   "cell_type": "code",
   "execution_count": 12,
   "id": "04f9870b-61cd-4c08-941c-57c58b2dd5bb",
   "metadata": {},
   "outputs": [],
   "source": [
    "prophet_preds = pd.read_csv(subpath/'LB12.96585__20220121_prophet_baseline_preds.csv')['num_sold']\n",
    "neural_preds = pd.read_csv(subpath/'LB9.97748__20220121_neuralprophet_baseline_preds.csv')['num_sold']"
   ]
  },
  {
   "cell_type": "code",
   "execution_count": 13,
   "id": "2c07ee74-cd5f-4461-8434-99119c796455",
   "metadata": {},
   "outputs": [],
   "source": [
    "df = pd.DataFrame({\n",
    "    'prophet': prophet_preds,\n",
    "    'neural_preds': neural_preds\n",
    "})"
   ]
  },
  {
   "cell_type": "code",
   "execution_count": 14,
   "id": "23bdeea5-481e-43c5-86b3-82a24c57dbd1",
   "metadata": {},
   "outputs": [
    {
     "data": {
      "text/html": [
       "<div>\n",
       "<style scoped>\n",
       "    .dataframe tbody tr th:only-of-type {\n",
       "        vertical-align: middle;\n",
       "    }\n",
       "\n",
       "    .dataframe tbody tr th {\n",
       "        vertical-align: top;\n",
       "    }\n",
       "\n",
       "    .dataframe thead th {\n",
       "        text-align: right;\n",
       "    }\n",
       "</style>\n",
       "<table border=\"1\" class=\"dataframe\">\n",
       "  <thead>\n",
       "    <tr style=\"text-align: right;\">\n",
       "      <th></th>\n",
       "      <th>prophet</th>\n",
       "      <th>neural_preds</th>\n",
       "    </tr>\n",
       "  </thead>\n",
       "  <tbody>\n",
       "    <tr>\n",
       "      <th>prophet</th>\n",
       "      <td>1.000000</td>\n",
       "      <td>0.991902</td>\n",
       "    </tr>\n",
       "    <tr>\n",
       "      <th>neural_preds</th>\n",
       "      <td>0.991902</td>\n",
       "      <td>1.000000</td>\n",
       "    </tr>\n",
       "  </tbody>\n",
       "</table>\n",
       "</div>"
      ],
      "text/plain": [
       "               prophet  neural_preds\n",
       "prophet       1.000000      0.991902\n",
       "neural_preds  0.991902      1.000000"
      ]
     },
     "execution_count": 14,
     "metadata": {},
     "output_type": "execute_result"
    }
   ],
   "source": [
    "df.corr()"
   ]
  },
  {
   "cell_type": "markdown",
   "id": "ffb23338-aa69-41cd-b706-f5f92ad51897",
   "metadata": {},
   "source": [
    "So these predictions are pretty highly correlated. How do they compare with the ridge regression preds?"
   ]
  },
  {
   "cell_type": "code",
   "execution_count": 15,
   "id": "ac671704-3da6-49c8-b912-c5a415b37630",
   "metadata": {},
   "outputs": [],
   "source": [
    "ridge_preds = pd.read_csv(subpath/'LB19.29136__20220120_ridge_baseline_rounded_preds.csv')['num_sold']"
   ]
  },
  {
   "cell_type": "code",
   "execution_count": 16,
   "id": "bc3c9838-e3d7-46d1-af1f-d04576a1cec3",
   "metadata": {},
   "outputs": [],
   "source": [
    "df['ridge'] = ridge_preds"
   ]
  },
  {
   "cell_type": "code",
   "execution_count": 17,
   "id": "b0fe015a-9356-4685-8a0e-9290e8e863fb",
   "metadata": {},
   "outputs": [
    {
     "data": {
      "text/html": [
       "<div>\n",
       "<style scoped>\n",
       "    .dataframe tbody tr th:only-of-type {\n",
       "        vertical-align: middle;\n",
       "    }\n",
       "\n",
       "    .dataframe tbody tr th {\n",
       "        vertical-align: top;\n",
       "    }\n",
       "\n",
       "    .dataframe thead th {\n",
       "        text-align: right;\n",
       "    }\n",
       "</style>\n",
       "<table border=\"1\" class=\"dataframe\">\n",
       "  <thead>\n",
       "    <tr style=\"text-align: right;\">\n",
       "      <th></th>\n",
       "      <th>prophet</th>\n",
       "      <th>neural_preds</th>\n",
       "      <th>ridge</th>\n",
       "    </tr>\n",
       "  </thead>\n",
       "  <tbody>\n",
       "    <tr>\n",
       "      <th>0</th>\n",
       "      <td>412.359844</td>\n",
       "      <td>399.074371</td>\n",
       "      <td>331</td>\n",
       "    </tr>\n",
       "    <tr>\n",
       "      <th>1</th>\n",
       "      <td>647.046273</td>\n",
       "      <td>580.306213</td>\n",
       "      <td>530</td>\n",
       "    </tr>\n",
       "    <tr>\n",
       "      <th>2</th>\n",
       "      <td>174.315373</td>\n",
       "      <td>175.331146</td>\n",
       "      <td>154</td>\n",
       "    </tr>\n",
       "    <tr>\n",
       "      <th>3</th>\n",
       "      <td>715.824645</td>\n",
       "      <td>680.846680</td>\n",
       "      <td>580</td>\n",
       "    </tr>\n",
       "    <tr>\n",
       "      <th>4</th>\n",
       "      <td>1112.556479</td>\n",
       "      <td>1002.552185</td>\n",
       "      <td>929</td>\n",
       "    </tr>\n",
       "    <tr>\n",
       "      <th>...</th>\n",
       "      <td>...</td>\n",
       "      <td>...</td>\n",
       "      <td>...</td>\n",
       "    </tr>\n",
       "    <tr>\n",
       "      <th>6565</th>\n",
       "      <td>887.296786</td>\n",
       "      <td>698.816772</td>\n",
       "      <td>616</td>\n",
       "    </tr>\n",
       "    <tr>\n",
       "      <th>6566</th>\n",
       "      <td>257.187475</td>\n",
       "      <td>239.840546</td>\n",
       "      <td>179</td>\n",
       "    </tr>\n",
       "    <tr>\n",
       "      <th>6567</th>\n",
       "      <td>1041.756321</td>\n",
       "      <td>751.112549</td>\n",
       "      <td>676</td>\n",
       "    </tr>\n",
       "    <tr>\n",
       "      <th>6568</th>\n",
       "      <td>1541.823842</td>\n",
       "      <td>1036.387329</td>\n",
       "      <td>1079</td>\n",
       "    </tr>\n",
       "    <tr>\n",
       "      <th>6569</th>\n",
       "      <td>450.192605</td>\n",
       "      <td>396.822388</td>\n",
       "      <td>314</td>\n",
       "    </tr>\n",
       "  </tbody>\n",
       "</table>\n",
       "<p>6570 rows × 3 columns</p>\n",
       "</div>"
      ],
      "text/plain": [
       "          prophet  neural_preds  ridge\n",
       "0      412.359844    399.074371    331\n",
       "1      647.046273    580.306213    530\n",
       "2      174.315373    175.331146    154\n",
       "3      715.824645    680.846680    580\n",
       "4     1112.556479   1002.552185    929\n",
       "...           ...           ...    ...\n",
       "6565   887.296786    698.816772    616\n",
       "6566   257.187475    239.840546    179\n",
       "6567  1041.756321    751.112549    676\n",
       "6568  1541.823842   1036.387329   1079\n",
       "6569   450.192605    396.822388    314\n",
       "\n",
       "[6570 rows x 3 columns]"
      ]
     },
     "execution_count": 17,
     "metadata": {},
     "output_type": "execute_result"
    }
   ],
   "source": [
    "df"
   ]
  },
  {
   "cell_type": "code",
   "execution_count": 18,
   "id": "22342178-64b4-4ce2-8952-9c790404c9bf",
   "metadata": {},
   "outputs": [
    {
     "data": {
      "text/html": [
       "<div>\n",
       "<style scoped>\n",
       "    .dataframe tbody tr th:only-of-type {\n",
       "        vertical-align: middle;\n",
       "    }\n",
       "\n",
       "    .dataframe tbody tr th {\n",
       "        vertical-align: top;\n",
       "    }\n",
       "\n",
       "    .dataframe thead th {\n",
       "        text-align: right;\n",
       "    }\n",
       "</style>\n",
       "<table border=\"1\" class=\"dataframe\">\n",
       "  <thead>\n",
       "    <tr style=\"text-align: right;\">\n",
       "      <th></th>\n",
       "      <th>prophet</th>\n",
       "      <th>neural_preds</th>\n",
       "      <th>ridge</th>\n",
       "    </tr>\n",
       "  </thead>\n",
       "  <tbody>\n",
       "    <tr>\n",
       "      <th>prophet</th>\n",
       "      <td>1.000000</td>\n",
       "      <td>0.991902</td>\n",
       "      <td>0.954771</td>\n",
       "    </tr>\n",
       "    <tr>\n",
       "      <th>neural_preds</th>\n",
       "      <td>0.991902</td>\n",
       "      <td>1.000000</td>\n",
       "      <td>0.945984</td>\n",
       "    </tr>\n",
       "    <tr>\n",
       "      <th>ridge</th>\n",
       "      <td>0.954771</td>\n",
       "      <td>0.945984</td>\n",
       "      <td>1.000000</td>\n",
       "    </tr>\n",
       "  </tbody>\n",
       "</table>\n",
       "</div>"
      ],
      "text/plain": [
       "               prophet  neural_preds     ridge\n",
       "prophet       1.000000      0.991902  0.954771\n",
       "neural_preds  0.991902      1.000000  0.945984\n",
       "ridge         0.954771      0.945984  1.000000"
      ]
     },
     "execution_count": 18,
     "metadata": {},
     "output_type": "execute_result"
    }
   ],
   "source": [
    "df.corr()"
   ]
  },
  {
   "cell_type": "markdown",
   "id": "c12bc906-3946-456a-add9-8a19f9409cbb",
   "metadata": {},
   "source": [
    "So the ridge regression is closer to prophet than neural prophet, but not particularly close to either -- and the prophets are quite close to one another."
   ]
  },
  {
   "cell_type": "code",
   "execution_count": 19,
   "id": "4f83ca80-ba37-4c86-ad0d-8a411ef32ed4",
   "metadata": {},
   "outputs": [],
   "source": [
    "neural_trainset = load(predpath/'20220121_neuralprophet_baseline_trainset.joblib')"
   ]
  },
  {
   "cell_type": "code",
   "execution_count": 20,
   "id": "93de51ea-f488-45c5-a8c9-a482d03a53de",
   "metadata": {},
   "outputs": [],
   "source": [
    "prophet_trainset = load(predpath/'20220121_prophet_baseline_trainset.joblib')"
   ]
  },
  {
   "cell_type": "code",
   "execution_count": 21,
   "id": "51a3ea36-648a-4f53-87b5-68cfbcd38986",
   "metadata": {},
   "outputs": [
    {
     "data": {
      "text/html": [
       "<div>\n",
       "<style scoped>\n",
       "    .dataframe tbody tr th:only-of-type {\n",
       "        vertical-align: middle;\n",
       "    }\n",
       "\n",
       "    .dataframe tbody tr th {\n",
       "        vertical-align: top;\n",
       "    }\n",
       "\n",
       "    .dataframe thead th {\n",
       "        text-align: right;\n",
       "    }\n",
       "</style>\n",
       "<table border=\"1\" class=\"dataframe\">\n",
       "  <thead>\n",
       "    <tr style=\"text-align: right;\">\n",
       "      <th></th>\n",
       "      <th>row_id</th>\n",
       "      <th>date</th>\n",
       "      <th>country</th>\n",
       "      <th>store</th>\n",
       "      <th>product</th>\n",
       "      <th>num_sold</th>\n",
       "      <th>prophet_forecast</th>\n",
       "    </tr>\n",
       "  </thead>\n",
       "  <tbody>\n",
       "    <tr>\n",
       "      <th>0</th>\n",
       "      <td>0</td>\n",
       "      <td>2015-01-01</td>\n",
       "      <td>Finland</td>\n",
       "      <td>KaggleMart</td>\n",
       "      <td>Kaggle Mug</td>\n",
       "      <td>329</td>\n",
       "      <td>337.860291</td>\n",
       "    </tr>\n",
       "    <tr>\n",
       "      <th>1</th>\n",
       "      <td>1</td>\n",
       "      <td>2015-01-01</td>\n",
       "      <td>Finland</td>\n",
       "      <td>KaggleMart</td>\n",
       "      <td>Kaggle Hat</td>\n",
       "      <td>520</td>\n",
       "      <td>471.527588</td>\n",
       "    </tr>\n",
       "    <tr>\n",
       "      <th>2</th>\n",
       "      <td>2</td>\n",
       "      <td>2015-01-01</td>\n",
       "      <td>Finland</td>\n",
       "      <td>KaggleMart</td>\n",
       "      <td>Kaggle Sticker</td>\n",
       "      <td>146</td>\n",
       "      <td>146.239853</td>\n",
       "    </tr>\n",
       "    <tr>\n",
       "      <th>3</th>\n",
       "      <td>3</td>\n",
       "      <td>2015-01-01</td>\n",
       "      <td>Finland</td>\n",
       "      <td>KaggleRama</td>\n",
       "      <td>Kaggle Mug</td>\n",
       "      <td>572</td>\n",
       "      <td>571.667114</td>\n",
       "    </tr>\n",
       "    <tr>\n",
       "      <th>4</th>\n",
       "      <td>4</td>\n",
       "      <td>2015-01-01</td>\n",
       "      <td>Finland</td>\n",
       "      <td>KaggleRama</td>\n",
       "      <td>Kaggle Hat</td>\n",
       "      <td>911</td>\n",
       "      <td>800.308228</td>\n",
       "    </tr>\n",
       "    <tr>\n",
       "      <th>...</th>\n",
       "      <td>...</td>\n",
       "      <td>...</td>\n",
       "      <td>...</td>\n",
       "      <td>...</td>\n",
       "      <td>...</td>\n",
       "      <td>...</td>\n",
       "      <td>...</td>\n",
       "    </tr>\n",
       "    <tr>\n",
       "      <th>26293</th>\n",
       "      <td>26293</td>\n",
       "      <td>2018-12-31</td>\n",
       "      <td>Sweden</td>\n",
       "      <td>KaggleMart</td>\n",
       "      <td>Kaggle Hat</td>\n",
       "      <td>823</td>\n",
       "      <td>688.424316</td>\n",
       "    </tr>\n",
       "    <tr>\n",
       "      <th>26294</th>\n",
       "      <td>26294</td>\n",
       "      <td>2018-12-31</td>\n",
       "      <td>Sweden</td>\n",
       "      <td>KaggleMart</td>\n",
       "      <td>Kaggle Sticker</td>\n",
       "      <td>250</td>\n",
       "      <td>234.144318</td>\n",
       "    </tr>\n",
       "    <tr>\n",
       "      <th>26295</th>\n",
       "      <td>26295</td>\n",
       "      <td>2018-12-31</td>\n",
       "      <td>Sweden</td>\n",
       "      <td>KaggleRama</td>\n",
       "      <td>Kaggle Mug</td>\n",
       "      <td>1004</td>\n",
       "      <td>734.039551</td>\n",
       "    </tr>\n",
       "    <tr>\n",
       "      <th>26296</th>\n",
       "      <td>26296</td>\n",
       "      <td>2018-12-31</td>\n",
       "      <td>Sweden</td>\n",
       "      <td>KaggleRama</td>\n",
       "      <td>Kaggle Hat</td>\n",
       "      <td>1441</td>\n",
       "      <td>1014.238037</td>\n",
       "    </tr>\n",
       "    <tr>\n",
       "      <th>26297</th>\n",
       "      <td>26297</td>\n",
       "      <td>2018-12-31</td>\n",
       "      <td>Sweden</td>\n",
       "      <td>KaggleRama</td>\n",
       "      <td>Kaggle Sticker</td>\n",
       "      <td>388</td>\n",
       "      <td>388.148193</td>\n",
       "    </tr>\n",
       "  </tbody>\n",
       "</table>\n",
       "<p>26298 rows × 7 columns</p>\n",
       "</div>"
      ],
      "text/plain": [
       "       row_id       date  country       store         product  num_sold  \\\n",
       "0           0 2015-01-01  Finland  KaggleMart      Kaggle Mug       329   \n",
       "1           1 2015-01-01  Finland  KaggleMart      Kaggle Hat       520   \n",
       "2           2 2015-01-01  Finland  KaggleMart  Kaggle Sticker       146   \n",
       "3           3 2015-01-01  Finland  KaggleRama      Kaggle Mug       572   \n",
       "4           4 2015-01-01  Finland  KaggleRama      Kaggle Hat       911   \n",
       "...       ...        ...      ...         ...             ...       ...   \n",
       "26293   26293 2018-12-31   Sweden  KaggleMart      Kaggle Hat       823   \n",
       "26294   26294 2018-12-31   Sweden  KaggleMart  Kaggle Sticker       250   \n",
       "26295   26295 2018-12-31   Sweden  KaggleRama      Kaggle Mug      1004   \n",
       "26296   26296 2018-12-31   Sweden  KaggleRama      Kaggle Hat      1441   \n",
       "26297   26297 2018-12-31   Sweden  KaggleRama  Kaggle Sticker       388   \n",
       "\n",
       "       prophet_forecast  \n",
       "0            337.860291  \n",
       "1            471.527588  \n",
       "2            146.239853  \n",
       "3            571.667114  \n",
       "4            800.308228  \n",
       "...                 ...  \n",
       "26293        688.424316  \n",
       "26294        234.144318  \n",
       "26295        734.039551  \n",
       "26296       1014.238037  \n",
       "26297        388.148193  \n",
       "\n",
       "[26298 rows x 7 columns]"
      ]
     },
     "execution_count": 21,
     "metadata": {},
     "output_type": "execute_result"
    }
   ],
   "source": [
    "neural_trainset"
   ]
  },
  {
   "cell_type": "code",
   "execution_count": 22,
   "id": "3073b5d5-1492-4c90-981c-5799b6588844",
   "metadata": {},
   "outputs": [],
   "source": [
    "neural_tv_preds = neural_trainset['prophet_forecast']"
   ]
  },
  {
   "cell_type": "code",
   "execution_count": 23,
   "id": "031f4951-3dc9-473e-af99-e7a869c2b6b5",
   "metadata": {},
   "outputs": [],
   "source": [
    "prophet_tv_preds = prophet_trainset['prophet_forecast']"
   ]
  },
  {
   "cell_type": "code",
   "execution_count": 24,
   "id": "d5e538e4-b8d5-439d-a6ba-70fccd9c198e",
   "metadata": {},
   "outputs": [],
   "source": [
    "train_length = len(neural_trainset[neural_trainset['date'] <= '2017-12-31'])"
   ]
  },
  {
   "cell_type": "code",
   "execution_count": 25,
   "id": "d9cff64c-eb83-44e8-b687-c7fc3d4f0b97",
   "metadata": {},
   "outputs": [],
   "source": [
    "neural_train_preds = neural_tv_preds[:train_length]\n",
    "neural_valid_preds = neural_tv_preds[train_length:]\n",
    "\n",
    "prophet_train_preds = prophet_tv_preds[:train_length]\n",
    "prophet_valid_preds = prophet_tv_preds[train_length:]\n"
   ]
  },
  {
   "cell_type": "markdown",
   "id": "f67b5abb-8834-4135-9eb7-54997443c271",
   "metadata": {},
   "source": [
    "Let's just compare the 2017 preds"
   ]
  },
  {
   "cell_type": "code",
   "execution_count": 26,
   "id": "605a7fb9-b666-435b-9902-b1c176612eee",
   "metadata": {},
   "outputs": [],
   "source": [
    "valid_preds = pd.DataFrame({\n",
    "    'neural_prophet': neural_valid_preds,\n",
    "    'prophet': prophet_valid_preds\n",
    "})"
   ]
  },
  {
   "cell_type": "code",
   "execution_count": 27,
   "id": "4c6cc0d9-2c14-4a5a-895c-c42dd1f4c8e3",
   "metadata": {},
   "outputs": [
    {
     "data": {
      "text/html": [
       "<div>\n",
       "<style scoped>\n",
       "    .dataframe tbody tr th:only-of-type {\n",
       "        vertical-align: middle;\n",
       "    }\n",
       "\n",
       "    .dataframe tbody tr th {\n",
       "        vertical-align: top;\n",
       "    }\n",
       "\n",
       "    .dataframe thead th {\n",
       "        text-align: right;\n",
       "    }\n",
       "</style>\n",
       "<table border=\"1\" class=\"dataframe\">\n",
       "  <thead>\n",
       "    <tr style=\"text-align: right;\">\n",
       "      <th></th>\n",
       "      <th>neural_prophet</th>\n",
       "      <th>prophet</th>\n",
       "    </tr>\n",
       "  </thead>\n",
       "  <tbody>\n",
       "    <tr>\n",
       "      <th>neural_prophet</th>\n",
       "      <td>1.000000</td>\n",
       "      <td>0.990744</td>\n",
       "    </tr>\n",
       "    <tr>\n",
       "      <th>prophet</th>\n",
       "      <td>0.990744</td>\n",
       "      <td>1.000000</td>\n",
       "    </tr>\n",
       "  </tbody>\n",
       "</table>\n",
       "</div>"
      ],
      "text/plain": [
       "                neural_prophet   prophet\n",
       "neural_prophet        1.000000  0.990744\n",
       "prophet               0.990744  1.000000"
      ]
     },
     "execution_count": 27,
     "metadata": {},
     "output_type": "execute_result"
    }
   ],
   "source": [
    "valid_preds.corr()"
   ]
  },
  {
   "cell_type": "code",
   "execution_count": 28,
   "id": "11626ea8-4a00-478a-9ee2-ab24fa2d6083",
   "metadata": {},
   "outputs": [
    {
     "data": {
      "text/plain": [
       "6570"
      ]
     },
     "execution_count": 28,
     "metadata": {},
     "output_type": "execute_result"
    }
   ],
   "source": [
    "len(valid_preds)"
   ]
  },
  {
   "cell_type": "code",
   "execution_count": 29,
   "id": "be133b9f-b61c-49ef-bd64-8b990e8c2c3d",
   "metadata": {},
   "outputs": [
    {
     "data": {
      "text/plain": [
       "19728"
      ]
     },
     "execution_count": 29,
     "metadata": {},
     "output_type": "execute_result"
    }
   ],
   "source": [
    "len(neural_train_preds)"
   ]
  },
  {
   "cell_type": "code",
   "execution_count": 30,
   "id": "acad0217-150f-4085-9d35-5f0b5f1c02db",
   "metadata": {},
   "outputs": [],
   "source": [
    "ridge_tv_preds = load(predpath/'20210121_ridge_baseline_trainset_preds.joblib')"
   ]
  },
  {
   "cell_type": "code",
   "execution_count": 31,
   "id": "99b9ff3b-0798-4a74-be96-8f62583cfe59",
   "metadata": {},
   "outputs": [],
   "source": [
    "ridge_test_preds = load(predpath/'20220121_ridge_testset_preds.joblib')"
   ]
  },
  {
   "cell_type": "code",
   "execution_count": 32,
   "id": "6e98078d-b823-49e3-94da-84159ea7053b",
   "metadata": {},
   "outputs": [],
   "source": [
    "ridge_train_preds = ridge_tv_preds[:train_length]\n",
    "ridge_valid_preds = ridge_tv_preds[train_length:]"
   ]
  },
  {
   "cell_type": "code",
   "execution_count": 33,
   "id": "360a4ae0-d620-49c9-998c-bae9d81b7b5f",
   "metadata": {},
   "outputs": [
    {
     "data": {
      "text/plain": [
       "0         308.651912\n",
       "1         494.692864\n",
       "2         143.351443\n",
       "3         540.723239\n",
       "4         866.645945\n",
       "            ...     \n",
       "19723    1013.981953\n",
       "19724     294.985221\n",
       "19725    1112.818982\n",
       "19726    1776.233984\n",
       "19727     516.737771\n",
       "Name: gdp, Length: 19728, dtype: float64"
      ]
     },
     "execution_count": 33,
     "metadata": {},
     "output_type": "execute_result"
    }
   ],
   "source": [
    "ridge_train_preds"
   ]
  },
  {
   "cell_type": "code",
   "execution_count": 34,
   "id": "c9f95c77-9fd6-47ed-83bc-a10678390d8f",
   "metadata": {},
   "outputs": [
    {
     "data": {
      "text/plain": [
       "0        337.860291\n",
       "1        471.527588\n",
       "2        146.239853\n",
       "3        571.667114\n",
       "4        800.308228\n",
       "            ...    \n",
       "19723    561.964417\n",
       "19724    272.907135\n",
       "19725    617.660156\n",
       "19726    856.848389\n",
       "19727    358.198273\n",
       "Name: prophet_forecast, Length: 19728, dtype: float64"
      ]
     },
     "execution_count": 34,
     "metadata": {},
     "output_type": "execute_result"
    }
   ],
   "source": [
    "neural_train_preds"
   ]
  },
  {
   "cell_type": "code",
   "execution_count": 35,
   "id": "cf1b9e75-9359-4a64-a0c6-7954d2b4997d",
   "metadata": {},
   "outputs": [],
   "source": [
    "valid_preds['ridge'] = ridge_valid_preds\n",
    "# train_preds['ridge'] = ridge_train_preds"
   ]
  },
  {
   "cell_type": "code",
   "execution_count": 36,
   "id": "91450845-4cd0-4b7e-8d2d-e1a113c5046b",
   "metadata": {},
   "outputs": [
    {
     "data": {
      "text/html": [
       "<div>\n",
       "<style scoped>\n",
       "    .dataframe tbody tr th:only-of-type {\n",
       "        vertical-align: middle;\n",
       "    }\n",
       "\n",
       "    .dataframe tbody tr th {\n",
       "        vertical-align: top;\n",
       "    }\n",
       "\n",
       "    .dataframe thead th {\n",
       "        text-align: right;\n",
       "    }\n",
       "</style>\n",
       "<table border=\"1\" class=\"dataframe\">\n",
       "  <thead>\n",
       "    <tr style=\"text-align: right;\">\n",
       "      <th></th>\n",
       "      <th>neural_prophet</th>\n",
       "      <th>prophet</th>\n",
       "      <th>ridge</th>\n",
       "    </tr>\n",
       "  </thead>\n",
       "  <tbody>\n",
       "    <tr>\n",
       "      <th>neural_prophet</th>\n",
       "      <td>1.000000</td>\n",
       "      <td>0.990744</td>\n",
       "      <td>0.962412</td>\n",
       "    </tr>\n",
       "    <tr>\n",
       "      <th>prophet</th>\n",
       "      <td>0.990744</td>\n",
       "      <td>1.000000</td>\n",
       "      <td>0.971083</td>\n",
       "    </tr>\n",
       "    <tr>\n",
       "      <th>ridge</th>\n",
       "      <td>0.962412</td>\n",
       "      <td>0.971083</td>\n",
       "      <td>1.000000</td>\n",
       "    </tr>\n",
       "  </tbody>\n",
       "</table>\n",
       "</div>"
      ],
      "text/plain": [
       "                neural_prophet   prophet     ridge\n",
       "neural_prophet        1.000000  0.990744  0.962412\n",
       "prophet               0.990744  1.000000  0.971083\n",
       "ridge                 0.962412  0.971083  1.000000"
      ]
     },
     "execution_count": 36,
     "metadata": {},
     "output_type": "execute_result"
    }
   ],
   "source": [
    "valid_preds.corr()"
   ]
  },
  {
   "cell_type": "code",
   "execution_count": 37,
   "id": "c387f155-bf6c-4840-b734-6a709d36d837",
   "metadata": {},
   "outputs": [
    {
     "data": {
      "text/html": [
       "<div>\n",
       "<style scoped>\n",
       "    .dataframe tbody tr th:only-of-type {\n",
       "        vertical-align: middle;\n",
       "    }\n",
       "\n",
       "    .dataframe tbody tr th {\n",
       "        vertical-align: top;\n",
       "    }\n",
       "\n",
       "    .dataframe thead th {\n",
       "        text-align: right;\n",
       "    }\n",
       "</style>\n",
       "<table border=\"1\" class=\"dataframe\">\n",
       "  <thead>\n",
       "    <tr style=\"text-align: right;\">\n",
       "      <th></th>\n",
       "      <th>neural_prophet</th>\n",
       "      <th>prophet</th>\n",
       "      <th>ridge</th>\n",
       "    </tr>\n",
       "  </thead>\n",
       "  <tbody>\n",
       "    <tr>\n",
       "      <th>19728</th>\n",
       "      <td>381.928375</td>\n",
       "      <td>383.365770</td>\n",
       "      <td>406.806125</td>\n",
       "    </tr>\n",
       "    <tr>\n",
       "      <th>19729</th>\n",
       "      <td>556.387573</td>\n",
       "      <td>602.594228</td>\n",
       "      <td>652.009851</td>\n",
       "    </tr>\n",
       "    <tr>\n",
       "      <th>19730</th>\n",
       "      <td>168.243637</td>\n",
       "      <td>161.735807</td>\n",
       "      <td>188.938551</td>\n",
       "    </tr>\n",
       "    <tr>\n",
       "      <th>19731</th>\n",
       "      <td>653.829590</td>\n",
       "      <td>656.201669</td>\n",
       "      <td>712.678319</td>\n",
       "    </tr>\n",
       "    <tr>\n",
       "      <th>19732</th>\n",
       "      <td>956.518311</td>\n",
       "      <td>1044.903702</td>\n",
       "      <td>1142.247513</td>\n",
       "    </tr>\n",
       "    <tr>\n",
       "      <th>...</th>\n",
       "      <td>...</td>\n",
       "      <td>...</td>\n",
       "      <td>...</td>\n",
       "    </tr>\n",
       "    <tr>\n",
       "      <th>26293</th>\n",
       "      <td>688.424316</td>\n",
       "      <td>898.322121</td>\n",
       "      <td>799.877938</td>\n",
       "    </tr>\n",
       "    <tr>\n",
       "      <th>26294</th>\n",
       "      <td>234.144318</td>\n",
       "      <td>253.512355</td>\n",
       "      <td>232.698589</td>\n",
       "    </tr>\n",
       "    <tr>\n",
       "      <th>26295</th>\n",
       "      <td>734.039551</td>\n",
       "      <td>1039.635205</td>\n",
       "      <td>877.845360</td>\n",
       "    </tr>\n",
       "    <tr>\n",
       "      <th>26296</th>\n",
       "      <td>1014.238037</td>\n",
       "      <td>1526.908216</td>\n",
       "      <td>1401.179156</td>\n",
       "    </tr>\n",
       "    <tr>\n",
       "      <th>26297</th>\n",
       "      <td>388.148193</td>\n",
       "      <td>463.705207</td>\n",
       "      <td>407.627711</td>\n",
       "    </tr>\n",
       "  </tbody>\n",
       "</table>\n",
       "<p>6570 rows × 3 columns</p>\n",
       "</div>"
      ],
      "text/plain": [
       "       neural_prophet      prophet        ridge\n",
       "19728      381.928375   383.365770   406.806125\n",
       "19729      556.387573   602.594228   652.009851\n",
       "19730      168.243637   161.735807   188.938551\n",
       "19731      653.829590   656.201669   712.678319\n",
       "19732      956.518311  1044.903702  1142.247513\n",
       "...               ...          ...          ...\n",
       "26293      688.424316   898.322121   799.877938\n",
       "26294      234.144318   253.512355   232.698589\n",
       "26295      734.039551  1039.635205   877.845360\n",
       "26296     1014.238037  1526.908216  1401.179156\n",
       "26297      388.148193   463.705207   407.627711\n",
       "\n",
       "[6570 rows x 3 columns]"
      ]
     },
     "execution_count": 37,
     "metadata": {},
     "output_type": "execute_result"
    }
   ],
   "source": [
    "valid_preds"
   ]
  },
  {
   "cell_type": "code",
   "execution_count": 39,
   "id": "26e3f457-e942-4f92-9562-b293569c69bf",
   "metadata": {},
   "outputs": [],
   "source": [
    "tv_df = pd.read_csv(datapath/'train.csv')\n",
    "test_df = pd.read_csv(datapath/'test.csv')\n",
    "# orig_train_df = train_df.copy()\n",
    "# orig_test_df = test_df.copy()"
   ]
  },
  {
   "cell_type": "code",
   "execution_count": 40,
   "id": "4853c962-571b-4595-9368-59a3fbb0d908",
   "metadata": {},
   "outputs": [],
   "source": [
    "train_df = tv_df[:len(neural_train_preds)]\n",
    "valid_df = tv_df[len(neural_train_preds):]"
   ]
  },
  {
   "cell_type": "code",
   "execution_count": 41,
   "id": "437c0cb0-d469-4278-9d1f-d27531076701",
   "metadata": {},
   "outputs": [
    {
     "data": {
      "text/plain": [
       "6570"
      ]
     },
     "execution_count": 41,
     "metadata": {},
     "output_type": "execute_result"
    }
   ],
   "source": [
    "len(valid_df)"
   ]
  },
  {
   "cell_type": "code",
   "execution_count": 42,
   "id": "4deaf1c9-b5cd-4824-b849-12cbf00260d6",
   "metadata": {},
   "outputs": [],
   "source": [
    "valid_preds['num_sold'] = valid_df['num_sold']"
   ]
  },
  {
   "cell_type": "code",
   "execution_count": 43,
   "id": "f9ec45ea-a17a-4c70-ac2c-dedcb907dbea",
   "metadata": {},
   "outputs": [
    {
     "data": {
      "text/html": [
       "<div>\n",
       "<style scoped>\n",
       "    .dataframe tbody tr th:only-of-type {\n",
       "        vertical-align: middle;\n",
       "    }\n",
       "\n",
       "    .dataframe tbody tr th {\n",
       "        vertical-align: top;\n",
       "    }\n",
       "\n",
       "    .dataframe thead th {\n",
       "        text-align: right;\n",
       "    }\n",
       "</style>\n",
       "<table border=\"1\" class=\"dataframe\">\n",
       "  <thead>\n",
       "    <tr style=\"text-align: right;\">\n",
       "      <th></th>\n",
       "      <th>neural_prophet</th>\n",
       "      <th>prophet</th>\n",
       "      <th>ridge</th>\n",
       "      <th>num_sold</th>\n",
       "    </tr>\n",
       "  </thead>\n",
       "  <tbody>\n",
       "    <tr>\n",
       "      <th>19728</th>\n",
       "      <td>381.928375</td>\n",
       "      <td>383.365770</td>\n",
       "      <td>406.806125</td>\n",
       "      <td>405</td>\n",
       "    </tr>\n",
       "    <tr>\n",
       "      <th>19729</th>\n",
       "      <td>556.387573</td>\n",
       "      <td>602.594228</td>\n",
       "      <td>652.009851</td>\n",
       "      <td>621</td>\n",
       "    </tr>\n",
       "    <tr>\n",
       "      <th>19730</th>\n",
       "      <td>168.243637</td>\n",
       "      <td>161.735807</td>\n",
       "      <td>188.938551</td>\n",
       "      <td>176</td>\n",
       "    </tr>\n",
       "    <tr>\n",
       "      <th>19731</th>\n",
       "      <td>653.829590</td>\n",
       "      <td>656.201669</td>\n",
       "      <td>712.678319</td>\n",
       "      <td>714</td>\n",
       "    </tr>\n",
       "    <tr>\n",
       "      <th>19732</th>\n",
       "      <td>956.518311</td>\n",
       "      <td>1044.903702</td>\n",
       "      <td>1142.247513</td>\n",
       "      <td>1043</td>\n",
       "    </tr>\n",
       "    <tr>\n",
       "      <th>...</th>\n",
       "      <td>...</td>\n",
       "      <td>...</td>\n",
       "      <td>...</td>\n",
       "      <td>...</td>\n",
       "    </tr>\n",
       "    <tr>\n",
       "      <th>26293</th>\n",
       "      <td>688.424316</td>\n",
       "      <td>898.322121</td>\n",
       "      <td>799.877938</td>\n",
       "      <td>823</td>\n",
       "    </tr>\n",
       "    <tr>\n",
       "      <th>26294</th>\n",
       "      <td>234.144318</td>\n",
       "      <td>253.512355</td>\n",
       "      <td>232.698589</td>\n",
       "      <td>250</td>\n",
       "    </tr>\n",
       "    <tr>\n",
       "      <th>26295</th>\n",
       "      <td>734.039551</td>\n",
       "      <td>1039.635205</td>\n",
       "      <td>877.845360</td>\n",
       "      <td>1004</td>\n",
       "    </tr>\n",
       "    <tr>\n",
       "      <th>26296</th>\n",
       "      <td>1014.238037</td>\n",
       "      <td>1526.908216</td>\n",
       "      <td>1401.179156</td>\n",
       "      <td>1441</td>\n",
       "    </tr>\n",
       "    <tr>\n",
       "      <th>26297</th>\n",
       "      <td>388.148193</td>\n",
       "      <td>463.705207</td>\n",
       "      <td>407.627711</td>\n",
       "      <td>388</td>\n",
       "    </tr>\n",
       "  </tbody>\n",
       "</table>\n",
       "<p>6570 rows × 4 columns</p>\n",
       "</div>"
      ],
      "text/plain": [
       "       neural_prophet      prophet        ridge  num_sold\n",
       "19728      381.928375   383.365770   406.806125       405\n",
       "19729      556.387573   602.594228   652.009851       621\n",
       "19730      168.243637   161.735807   188.938551       176\n",
       "19731      653.829590   656.201669   712.678319       714\n",
       "19732      956.518311  1044.903702  1142.247513      1043\n",
       "...               ...          ...          ...       ...\n",
       "26293      688.424316   898.322121   799.877938       823\n",
       "26294      234.144318   253.512355   232.698589       250\n",
       "26295      734.039551  1039.635205   877.845360      1004\n",
       "26296     1014.238037  1526.908216  1401.179156      1441\n",
       "26297      388.148193   463.705207   407.627711       388\n",
       "\n",
       "[6570 rows x 4 columns]"
      ]
     },
     "execution_count": 43,
     "metadata": {},
     "output_type": "execute_result"
    }
   ],
   "source": [
    "valid_preds"
   ]
  },
  {
   "cell_type": "code",
   "execution_count": 44,
   "id": "7b2ecca2-9ac0-42e2-b70d-af5038726836",
   "metadata": {},
   "outputs": [
    {
     "data": {
      "text/html": [
       "<div>\n",
       "<style scoped>\n",
       "    .dataframe tbody tr th:only-of-type {\n",
       "        vertical-align: middle;\n",
       "    }\n",
       "\n",
       "    .dataframe tbody tr th {\n",
       "        vertical-align: top;\n",
       "    }\n",
       "\n",
       "    .dataframe thead th {\n",
       "        text-align: right;\n",
       "    }\n",
       "</style>\n",
       "<table border=\"1\" class=\"dataframe\">\n",
       "  <thead>\n",
       "    <tr style=\"text-align: right;\">\n",
       "      <th></th>\n",
       "      <th>neural_prophet</th>\n",
       "      <th>prophet</th>\n",
       "      <th>ridge</th>\n",
       "      <th>num_sold</th>\n",
       "    </tr>\n",
       "  </thead>\n",
       "  <tbody>\n",
       "    <tr>\n",
       "      <th>neural_prophet</th>\n",
       "      <td>1.000000</td>\n",
       "      <td>0.990744</td>\n",
       "      <td>0.962412</td>\n",
       "      <td>0.964181</td>\n",
       "    </tr>\n",
       "    <tr>\n",
       "      <th>prophet</th>\n",
       "      <td>0.990744</td>\n",
       "      <td>1.000000</td>\n",
       "      <td>0.971083</td>\n",
       "      <td>0.972938</td>\n",
       "    </tr>\n",
       "    <tr>\n",
       "      <th>ridge</th>\n",
       "      <td>0.962412</td>\n",
       "      <td>0.971083</td>\n",
       "      <td>1.000000</td>\n",
       "      <td>0.991946</td>\n",
       "    </tr>\n",
       "    <tr>\n",
       "      <th>num_sold</th>\n",
       "      <td>0.964181</td>\n",
       "      <td>0.972938</td>\n",
       "      <td>0.991946</td>\n",
       "      <td>1.000000</td>\n",
       "    </tr>\n",
       "  </tbody>\n",
       "</table>\n",
       "</div>"
      ],
      "text/plain": [
       "                neural_prophet   prophet     ridge  num_sold\n",
       "neural_prophet        1.000000  0.990744  0.962412  0.964181\n",
       "prophet               0.990744  1.000000  0.971083  0.972938\n",
       "ridge                 0.962412  0.971083  1.000000  0.991946\n",
       "num_sold              0.964181  0.972938  0.991946  1.000000"
      ]
     },
     "execution_count": 44,
     "metadata": {},
     "output_type": "execute_result"
    }
   ],
   "source": [
    "valid_preds.corr()"
   ]
  },
  {
   "cell_type": "code",
   "execution_count": 45,
   "id": "b8f462d8-8d84-48f3-8507-9e3e862e7f1a",
   "metadata": {},
   "outputs": [],
   "source": [
    "from sklearn.linear_model import LogisticRegression"
   ]
  },
  {
   "cell_type": "code",
   "execution_count": 46,
   "id": "2f502762-5198-48a6-ae24-83d809898426",
   "metadata": {},
   "outputs": [],
   "source": [
    "logistic_model = LogisticRegression(random_state=42)"
   ]
  },
  {
   "cell_type": "code",
   "execution_count": 47,
   "id": "dec52836-aa12-42a2-8c71-a04eaeacaccf",
   "metadata": {},
   "outputs": [],
   "source": [
    "X = valid_preds.drop(columns='num_sold')\n",
    "y = valid_preds['num_sold']"
   ]
  },
  {
   "cell_type": "code",
   "execution_count": 48,
   "id": "ea389b75-e4fb-4074-8b62-187740ee2715",
   "metadata": {},
   "outputs": [
    {
     "data": {
      "text/plain": [
       "LogisticRegression(random_state=42)"
      ]
     },
     "execution_count": 48,
     "metadata": {},
     "output_type": "execute_result"
    }
   ],
   "source": [
    "logistic_model.fit(X,y)"
   ]
  },
  {
   "cell_type": "code",
   "execution_count": 50,
   "id": "121e0a5c-17e1-4630-9ecb-694fc06cecfa",
   "metadata": {},
   "outputs": [],
   "source": [
    "neural_test_preds = load(predpath/'20220121_neuralprophet_baseline_testset.joblib')\n",
    "prophet_test_preds = load(predpath/'20220121_prophet_baseline_testset.joblib')\n",
    "ridge_test_preds = load(predpath/'20220121_ridge_testset_preds.joblib')"
   ]
  },
  {
   "cell_type": "code",
   "execution_count": 51,
   "id": "387cbe1b-7e5e-4d14-9001-2ed430c23723",
   "metadata": {},
   "outputs": [
    {
     "name": "stdout",
     "output_type": "stream",
     "text": [
      "6570\n",
      "6570\n",
      "6570\n"
     ]
    }
   ],
   "source": [
    "for preds in [neural_test_preds, prophet_test_preds, ridge_test_preds]:\n",
    "    print(len(preds))"
   ]
  },
  {
   "cell_type": "code",
   "execution_count": null,
   "id": "6b32b198-617d-4ce5-aa93-19509b71051b",
   "metadata": {},
   "outputs": [],
   "source": []
  },
  {
   "cell_type": "code",
   "execution_count": 56,
   "id": "e6d1d0a6-c2aa-4c84-a686-fd9cbeb5e3e1",
   "metadata": {},
   "outputs": [
    {
     "data": {
      "text/plain": [
       "0        330.860660\n",
       "1        530.288008\n",
       "2        153.666157\n",
       "3        579.630455\n",
       "4        929.004612\n",
       "           ...     \n",
       "6565     615.873484\n",
       "6566     179.168451\n",
       "6567     675.905229\n",
       "6568    1078.850969\n",
       "6569     313.856761\n",
       "Name: num_sold, Length: 6570, dtype: float64"
      ]
     },
     "execution_count": 56,
     "metadata": {},
     "output_type": "execute_result"
    }
   ],
   "source": [
    "ridge_test_preds"
   ]
  },
  {
   "cell_type": "code",
   "execution_count": 58,
   "id": "9aee2444-4e16-42e7-96c9-3b75e4ce37d0",
   "metadata": {},
   "outputs": [],
   "source": [
    "test_preds = pd.DataFrame({\n",
    "    'neuralprophet': neural_test_preds['neuralprophet_forecast'],\n",
    "    'prophet': prophet_test_preds['prophet_forecast'],\n",
    "    'ridge': ridge_test_preds\n",
    "})"
   ]
  },
  {
   "cell_type": "code",
   "execution_count": 59,
   "id": "f66892ee-c82d-4f61-80cf-daf3339b0b2e",
   "metadata": {},
   "outputs": [
    {
     "data": {
      "text/html": [
       "<div>\n",
       "<style scoped>\n",
       "    .dataframe tbody tr th:only-of-type {\n",
       "        vertical-align: middle;\n",
       "    }\n",
       "\n",
       "    .dataframe tbody tr th {\n",
       "        vertical-align: top;\n",
       "    }\n",
       "\n",
       "    .dataframe thead th {\n",
       "        text-align: right;\n",
       "    }\n",
       "</style>\n",
       "<table border=\"1\" class=\"dataframe\">\n",
       "  <thead>\n",
       "    <tr style=\"text-align: right;\">\n",
       "      <th></th>\n",
       "      <th>neuralprophet</th>\n",
       "      <th>prophet</th>\n",
       "      <th>ridge</th>\n",
       "    </tr>\n",
       "  </thead>\n",
       "  <tbody>\n",
       "    <tr>\n",
       "      <th>0</th>\n",
       "      <td>399.074371</td>\n",
       "      <td>402.296576</td>\n",
       "      <td>330.860660</td>\n",
       "    </tr>\n",
       "    <tr>\n",
       "      <th>1</th>\n",
       "      <td>580.306213</td>\n",
       "      <td>631.642099</td>\n",
       "      <td>530.288008</td>\n",
       "    </tr>\n",
       "    <tr>\n",
       "      <th>2</th>\n",
       "      <td>175.331146</td>\n",
       "      <td>169.992094</td>\n",
       "      <td>153.666157</td>\n",
       "    </tr>\n",
       "    <tr>\n",
       "      <th>3</th>\n",
       "      <td>680.846680</td>\n",
       "      <td>684.559821</td>\n",
       "      <td>579.630455</td>\n",
       "    </tr>\n",
       "    <tr>\n",
       "      <th>4</th>\n",
       "      <td>1002.552185</td>\n",
       "      <td>1092.875362</td>\n",
       "      <td>929.004612</td>\n",
       "    </tr>\n",
       "    <tr>\n",
       "      <th>...</th>\n",
       "      <td>...</td>\n",
       "      <td>...</td>\n",
       "      <td>...</td>\n",
       "    </tr>\n",
       "    <tr>\n",
       "      <th>6565</th>\n",
       "      <td>698.816772</td>\n",
       "      <td>917.085861</td>\n",
       "      <td>615.873484</td>\n",
       "    </tr>\n",
       "    <tr>\n",
       "      <th>6566</th>\n",
       "      <td>239.840546</td>\n",
       "      <td>261.569590</td>\n",
       "      <td>179.168451</td>\n",
       "    </tr>\n",
       "    <tr>\n",
       "      <th>6567</th>\n",
       "      <td>751.112549</td>\n",
       "      <td>1065.400121</td>\n",
       "      <td>675.905229</td>\n",
       "    </tr>\n",
       "    <tr>\n",
       "      <th>6568</th>\n",
       "      <td>1036.387329</td>\n",
       "      <td>1568.407214</td>\n",
       "      <td>1078.850969</td>\n",
       "    </tr>\n",
       "    <tr>\n",
       "      <th>6569</th>\n",
       "      <td>396.822388</td>\n",
       "      <td>476.122783</td>\n",
       "      <td>313.856761</td>\n",
       "    </tr>\n",
       "  </tbody>\n",
       "</table>\n",
       "<p>6570 rows × 3 columns</p>\n",
       "</div>"
      ],
      "text/plain": [
       "      neuralprophet      prophet        ridge\n",
       "0        399.074371   402.296576   330.860660\n",
       "1        580.306213   631.642099   530.288008\n",
       "2        175.331146   169.992094   153.666157\n",
       "3        680.846680   684.559821   579.630455\n",
       "4       1002.552185  1092.875362   929.004612\n",
       "...             ...          ...          ...\n",
       "6565     698.816772   917.085861   615.873484\n",
       "6566     239.840546   261.569590   179.168451\n",
       "6567     751.112549  1065.400121   675.905229\n",
       "6568    1036.387329  1568.407214  1078.850969\n",
       "6569     396.822388   476.122783   313.856761\n",
       "\n",
       "[6570 rows x 3 columns]"
      ]
     },
     "execution_count": 59,
     "metadata": {},
     "output_type": "execute_result"
    }
   ],
   "source": [
    "test_preds"
   ]
  },
  {
   "cell_type": "code",
   "execution_count": 60,
   "id": "6ad532a0-a64d-4105-887d-e0d220839b8d",
   "metadata": {},
   "outputs": [],
   "source": [
    "X_test = test_preds"
   ]
  },
  {
   "cell_type": "code",
   "execution_count": 61,
   "id": "096d652b-d554-47e6-860b-c1d966142dcd",
   "metadata": {},
   "outputs": [],
   "source": [
    "test_preds['ensemble_pred'] = logistic_model.predict(X_test)"
   ]
  },
  {
   "cell_type": "code",
   "execution_count": 66,
   "id": "832f362e-fc58-435d-ab43-0c6ff50d0189",
   "metadata": {},
   "outputs": [
    {
     "data": {
      "text/plain": [
       "array([494])"
      ]
     },
     "execution_count": 66,
     "metadata": {},
     "output_type": "execute_result"
    }
   ],
   "source": [
    "logistic_model.predict(X.iloc[:1])"
   ]
  },
  {
   "cell_type": "code",
   "execution_count": 62,
   "id": "c48cf084-0566-4c6a-bf71-169a6d0d9c02",
   "metadata": {},
   "outputs": [
    {
     "data": {
      "text/html": [
       "<div>\n",
       "<style scoped>\n",
       "    .dataframe tbody tr th:only-of-type {\n",
       "        vertical-align: middle;\n",
       "    }\n",
       "\n",
       "    .dataframe tbody tr th {\n",
       "        vertical-align: top;\n",
       "    }\n",
       "\n",
       "    .dataframe thead th {\n",
       "        text-align: right;\n",
       "    }\n",
       "</style>\n",
       "<table border=\"1\" class=\"dataframe\">\n",
       "  <thead>\n",
       "    <tr style=\"text-align: right;\">\n",
       "      <th></th>\n",
       "      <th>neuralprophet</th>\n",
       "      <th>prophet</th>\n",
       "      <th>ridge</th>\n",
       "      <th>ensemble_pred</th>\n",
       "    </tr>\n",
       "  </thead>\n",
       "  <tbody>\n",
       "    <tr>\n",
       "      <th>0</th>\n",
       "      <td>399.074371</td>\n",
       "      <td>402.296576</td>\n",
       "      <td>330.860660</td>\n",
       "      <td>419</td>\n",
       "    </tr>\n",
       "    <tr>\n",
       "      <th>1</th>\n",
       "      <td>580.306213</td>\n",
       "      <td>631.642099</td>\n",
       "      <td>530.288008</td>\n",
       "      <td>419</td>\n",
       "    </tr>\n",
       "    <tr>\n",
       "      <th>2</th>\n",
       "      <td>175.331146</td>\n",
       "      <td>169.992094</td>\n",
       "      <td>153.666157</td>\n",
       "      <td>419</td>\n",
       "    </tr>\n",
       "    <tr>\n",
       "      <th>3</th>\n",
       "      <td>680.846680</td>\n",
       "      <td>684.559821</td>\n",
       "      <td>579.630455</td>\n",
       "      <td>419</td>\n",
       "    </tr>\n",
       "    <tr>\n",
       "      <th>4</th>\n",
       "      <td>1002.552185</td>\n",
       "      <td>1092.875362</td>\n",
       "      <td>929.004612</td>\n",
       "      <td>419</td>\n",
       "    </tr>\n",
       "    <tr>\n",
       "      <th>...</th>\n",
       "      <td>...</td>\n",
       "      <td>...</td>\n",
       "      <td>...</td>\n",
       "      <td>...</td>\n",
       "    </tr>\n",
       "    <tr>\n",
       "      <th>6565</th>\n",
       "      <td>698.816772</td>\n",
       "      <td>917.085861</td>\n",
       "      <td>615.873484</td>\n",
       "      <td>1251</td>\n",
       "    </tr>\n",
       "    <tr>\n",
       "      <th>6566</th>\n",
       "      <td>239.840546</td>\n",
       "      <td>261.569590</td>\n",
       "      <td>179.168451</td>\n",
       "      <td>419</td>\n",
       "    </tr>\n",
       "    <tr>\n",
       "      <th>6567</th>\n",
       "      <td>751.112549</td>\n",
       "      <td>1065.400121</td>\n",
       "      <td>675.905229</td>\n",
       "      <td>1251</td>\n",
       "    </tr>\n",
       "    <tr>\n",
       "      <th>6568</th>\n",
       "      <td>1036.387329</td>\n",
       "      <td>1568.407214</td>\n",
       "      <td>1078.850969</td>\n",
       "      <td>1251</td>\n",
       "    </tr>\n",
       "    <tr>\n",
       "      <th>6569</th>\n",
       "      <td>396.822388</td>\n",
       "      <td>476.122783</td>\n",
       "      <td>313.856761</td>\n",
       "      <td>838</td>\n",
       "    </tr>\n",
       "  </tbody>\n",
       "</table>\n",
       "<p>6570 rows × 4 columns</p>\n",
       "</div>"
      ],
      "text/plain": [
       "      neuralprophet      prophet        ridge  ensemble_pred\n",
       "0        399.074371   402.296576   330.860660            419\n",
       "1        580.306213   631.642099   530.288008            419\n",
       "2        175.331146   169.992094   153.666157            419\n",
       "3        680.846680   684.559821   579.630455            419\n",
       "4       1002.552185  1092.875362   929.004612            419\n",
       "...             ...          ...          ...            ...\n",
       "6565     698.816772   917.085861   615.873484           1251\n",
       "6566     239.840546   261.569590   179.168451            419\n",
       "6567     751.112549  1065.400121   675.905229           1251\n",
       "6568    1036.387329  1568.407214  1078.850969           1251\n",
       "6569     396.822388   476.122783   313.856761            838\n",
       "\n",
       "[6570 rows x 4 columns]"
      ]
     },
     "execution_count": 62,
     "metadata": {},
     "output_type": "execute_result"
    }
   ],
   "source": [
    "test_preds"
   ]
  },
  {
   "cell_type": "code",
   "execution_count": 67,
   "id": "3228e0dd-a9d2-4225-910f-e92a488262cf",
   "metadata": {},
   "outputs": [],
   "source": [
    "from sklearn.linear_model import LinearRegression"
   ]
  },
  {
   "cell_type": "code",
   "execution_count": 68,
   "id": "70ab90b2-44de-49cc-8a68-cc73a5559770",
   "metadata": {},
   "outputs": [],
   "source": [
    "linear_model = LinearRegression()"
   ]
  },
  {
   "cell_type": "code",
   "execution_count": 70,
   "id": "876cd1a0-908c-4cee-a2bd-3966aa903915",
   "metadata": {},
   "outputs": [
    {
     "data": {
      "text/plain": [
       "LinearRegression()"
      ]
     },
     "execution_count": 70,
     "metadata": {},
     "output_type": "execute_result"
    }
   ],
   "source": [
    "linear_model.fit(X,y)"
   ]
  },
  {
   "cell_type": "code",
   "execution_count": 73,
   "id": "72dfc729-ec99-4969-9090-6cb3590d91d5",
   "metadata": {},
   "outputs": [],
   "source": [
    "X_test = test_preds.drop(columns=['ensemble_pred'])"
   ]
  },
  {
   "cell_type": "code",
   "execution_count": 74,
   "id": "7276b734-49bf-4185-9798-edb2e3810efa",
   "metadata": {},
   "outputs": [
    {
     "data": {
      "text/html": [
       "<div>\n",
       "<style scoped>\n",
       "    .dataframe tbody tr th:only-of-type {\n",
       "        vertical-align: middle;\n",
       "    }\n",
       "\n",
       "    .dataframe tbody tr th {\n",
       "        vertical-align: top;\n",
       "    }\n",
       "\n",
       "    .dataframe thead th {\n",
       "        text-align: right;\n",
       "    }\n",
       "</style>\n",
       "<table border=\"1\" class=\"dataframe\">\n",
       "  <thead>\n",
       "    <tr style=\"text-align: right;\">\n",
       "      <th></th>\n",
       "      <th>neuralprophet</th>\n",
       "      <th>prophet</th>\n",
       "      <th>ridge</th>\n",
       "    </tr>\n",
       "  </thead>\n",
       "  <tbody>\n",
       "    <tr>\n",
       "      <th>0</th>\n",
       "      <td>399.074371</td>\n",
       "      <td>402.296576</td>\n",
       "      <td>330.860660</td>\n",
       "    </tr>\n",
       "    <tr>\n",
       "      <th>1</th>\n",
       "      <td>580.306213</td>\n",
       "      <td>631.642099</td>\n",
       "      <td>530.288008</td>\n",
       "    </tr>\n",
       "    <tr>\n",
       "      <th>2</th>\n",
       "      <td>175.331146</td>\n",
       "      <td>169.992094</td>\n",
       "      <td>153.666157</td>\n",
       "    </tr>\n",
       "    <tr>\n",
       "      <th>3</th>\n",
       "      <td>680.846680</td>\n",
       "      <td>684.559821</td>\n",
       "      <td>579.630455</td>\n",
       "    </tr>\n",
       "    <tr>\n",
       "      <th>4</th>\n",
       "      <td>1002.552185</td>\n",
       "      <td>1092.875362</td>\n",
       "      <td>929.004612</td>\n",
       "    </tr>\n",
       "    <tr>\n",
       "      <th>...</th>\n",
       "      <td>...</td>\n",
       "      <td>...</td>\n",
       "      <td>...</td>\n",
       "    </tr>\n",
       "    <tr>\n",
       "      <th>6565</th>\n",
       "      <td>698.816772</td>\n",
       "      <td>917.085861</td>\n",
       "      <td>615.873484</td>\n",
       "    </tr>\n",
       "    <tr>\n",
       "      <th>6566</th>\n",
       "      <td>239.840546</td>\n",
       "      <td>261.569590</td>\n",
       "      <td>179.168451</td>\n",
       "    </tr>\n",
       "    <tr>\n",
       "      <th>6567</th>\n",
       "      <td>751.112549</td>\n",
       "      <td>1065.400121</td>\n",
       "      <td>675.905229</td>\n",
       "    </tr>\n",
       "    <tr>\n",
       "      <th>6568</th>\n",
       "      <td>1036.387329</td>\n",
       "      <td>1568.407214</td>\n",
       "      <td>1078.850969</td>\n",
       "    </tr>\n",
       "    <tr>\n",
       "      <th>6569</th>\n",
       "      <td>396.822388</td>\n",
       "      <td>476.122783</td>\n",
       "      <td>313.856761</td>\n",
       "    </tr>\n",
       "  </tbody>\n",
       "</table>\n",
       "<p>6570 rows × 3 columns</p>\n",
       "</div>"
      ],
      "text/plain": [
       "      neuralprophet      prophet        ridge\n",
       "0        399.074371   402.296576   330.860660\n",
       "1        580.306213   631.642099   530.288008\n",
       "2        175.331146   169.992094   153.666157\n",
       "3        680.846680   684.559821   579.630455\n",
       "4       1002.552185  1092.875362   929.004612\n",
       "...             ...          ...          ...\n",
       "6565     698.816772   917.085861   615.873484\n",
       "6566     239.840546   261.569590   179.168451\n",
       "6567     751.112549  1065.400121   675.905229\n",
       "6568    1036.387329  1568.407214  1078.850969\n",
       "6569     396.822388   476.122783   313.856761\n",
       "\n",
       "[6570 rows x 3 columns]"
      ]
     },
     "execution_count": 74,
     "metadata": {},
     "output_type": "execute_result"
    }
   ],
   "source": [
    "X_test"
   ]
  },
  {
   "cell_type": "code",
   "execution_count": 75,
   "id": "f80c69f5-e0a9-46f3-b3dd-1158cad6e716",
   "metadata": {},
   "outputs": [
    {
     "data": {
      "text/html": [
       "<div>\n",
       "<style scoped>\n",
       "    .dataframe tbody tr th:only-of-type {\n",
       "        vertical-align: middle;\n",
       "    }\n",
       "\n",
       "    .dataframe tbody tr th {\n",
       "        vertical-align: top;\n",
       "    }\n",
       "\n",
       "    .dataframe thead th {\n",
       "        text-align: right;\n",
       "    }\n",
       "</style>\n",
       "<table border=\"1\" class=\"dataframe\">\n",
       "  <thead>\n",
       "    <tr style=\"text-align: right;\">\n",
       "      <th></th>\n",
       "      <th>neuralprophet</th>\n",
       "      <th>prophet</th>\n",
       "      <th>ridge</th>\n",
       "      <th>ensemble_pred</th>\n",
       "    </tr>\n",
       "  </thead>\n",
       "  <tbody>\n",
       "    <tr>\n",
       "      <th>0</th>\n",
       "      <td>399.074371</td>\n",
       "      <td>402.296576</td>\n",
       "      <td>330.860660</td>\n",
       "      <td>419</td>\n",
       "    </tr>\n",
       "    <tr>\n",
       "      <th>1</th>\n",
       "      <td>580.306213</td>\n",
       "      <td>631.642099</td>\n",
       "      <td>530.288008</td>\n",
       "      <td>419</td>\n",
       "    </tr>\n",
       "    <tr>\n",
       "      <th>2</th>\n",
       "      <td>175.331146</td>\n",
       "      <td>169.992094</td>\n",
       "      <td>153.666157</td>\n",
       "      <td>419</td>\n",
       "    </tr>\n",
       "    <tr>\n",
       "      <th>3</th>\n",
       "      <td>680.846680</td>\n",
       "      <td>684.559821</td>\n",
       "      <td>579.630455</td>\n",
       "      <td>419</td>\n",
       "    </tr>\n",
       "    <tr>\n",
       "      <th>4</th>\n",
       "      <td>1002.552185</td>\n",
       "      <td>1092.875362</td>\n",
       "      <td>929.004612</td>\n",
       "      <td>419</td>\n",
       "    </tr>\n",
       "    <tr>\n",
       "      <th>...</th>\n",
       "      <td>...</td>\n",
       "      <td>...</td>\n",
       "      <td>...</td>\n",
       "      <td>...</td>\n",
       "    </tr>\n",
       "    <tr>\n",
       "      <th>6565</th>\n",
       "      <td>698.816772</td>\n",
       "      <td>917.085861</td>\n",
       "      <td>615.873484</td>\n",
       "      <td>1251</td>\n",
       "    </tr>\n",
       "    <tr>\n",
       "      <th>6566</th>\n",
       "      <td>239.840546</td>\n",
       "      <td>261.569590</td>\n",
       "      <td>179.168451</td>\n",
       "      <td>419</td>\n",
       "    </tr>\n",
       "    <tr>\n",
       "      <th>6567</th>\n",
       "      <td>751.112549</td>\n",
       "      <td>1065.400121</td>\n",
       "      <td>675.905229</td>\n",
       "      <td>1251</td>\n",
       "    </tr>\n",
       "    <tr>\n",
       "      <th>6568</th>\n",
       "      <td>1036.387329</td>\n",
       "      <td>1568.407214</td>\n",
       "      <td>1078.850969</td>\n",
       "      <td>1251</td>\n",
       "    </tr>\n",
       "    <tr>\n",
       "      <th>6569</th>\n",
       "      <td>396.822388</td>\n",
       "      <td>476.122783</td>\n",
       "      <td>313.856761</td>\n",
       "      <td>838</td>\n",
       "    </tr>\n",
       "  </tbody>\n",
       "</table>\n",
       "<p>6570 rows × 4 columns</p>\n",
       "</div>"
      ],
      "text/plain": [
       "      neuralprophet      prophet        ridge  ensemble_pred\n",
       "0        399.074371   402.296576   330.860660            419\n",
       "1        580.306213   631.642099   530.288008            419\n",
       "2        175.331146   169.992094   153.666157            419\n",
       "3        680.846680   684.559821   579.630455            419\n",
       "4       1002.552185  1092.875362   929.004612            419\n",
       "...             ...          ...          ...            ...\n",
       "6565     698.816772   917.085861   615.873484           1251\n",
       "6566     239.840546   261.569590   179.168451            419\n",
       "6567     751.112549  1065.400121   675.905229           1251\n",
       "6568    1036.387329  1568.407214  1078.850969           1251\n",
       "6569     396.822388   476.122783   313.856761            838\n",
       "\n",
       "[6570 rows x 4 columns]"
      ]
     },
     "execution_count": 75,
     "metadata": {},
     "output_type": "execute_result"
    }
   ],
   "source": [
    "test_preds"
   ]
  },
  {
   "cell_type": "code",
   "execution_count": 76,
   "id": "827a7116-8d0d-496a-8863-73af6f7208c5",
   "metadata": {},
   "outputs": [],
   "source": [
    "test_preds['ensemble_pred'] = linear_model.predict(X_test)"
   ]
  },
  {
   "cell_type": "code",
   "execution_count": 77,
   "id": "b5969c84-0923-49eb-b6cc-891446686b85",
   "metadata": {},
   "outputs": [
    {
     "data": {
      "text/html": [
       "<div>\n",
       "<style scoped>\n",
       "    .dataframe tbody tr th:only-of-type {\n",
       "        vertical-align: middle;\n",
       "    }\n",
       "\n",
       "    .dataframe tbody tr th {\n",
       "        vertical-align: top;\n",
       "    }\n",
       "\n",
       "    .dataframe thead th {\n",
       "        text-align: right;\n",
       "    }\n",
       "</style>\n",
       "<table border=\"1\" class=\"dataframe\">\n",
       "  <thead>\n",
       "    <tr style=\"text-align: right;\">\n",
       "      <th></th>\n",
       "      <th>neuralprophet</th>\n",
       "      <th>prophet</th>\n",
       "      <th>ridge</th>\n",
       "      <th>ensemble_pred</th>\n",
       "    </tr>\n",
       "  </thead>\n",
       "  <tbody>\n",
       "    <tr>\n",
       "      <th>0</th>\n",
       "      <td>399.074371</td>\n",
       "      <td>402.296576</td>\n",
       "      <td>330.860660</td>\n",
       "      <td>334.164204</td>\n",
       "    </tr>\n",
       "    <tr>\n",
       "      <th>1</th>\n",
       "      <td>580.306213</td>\n",
       "      <td>631.642099</td>\n",
       "      <td>530.288008</td>\n",
       "      <td>534.607104</td>\n",
       "    </tr>\n",
       "    <tr>\n",
       "      <th>2</th>\n",
       "      <td>175.331146</td>\n",
       "      <td>169.992094</td>\n",
       "      <td>153.666157</td>\n",
       "      <td>150.855704</td>\n",
       "    </tr>\n",
       "    <tr>\n",
       "      <th>3</th>\n",
       "      <td>680.846680</td>\n",
       "      <td>684.559821</td>\n",
       "      <td>579.630455</td>\n",
       "      <td>583.451106</td>\n",
       "    </tr>\n",
       "    <tr>\n",
       "      <th>4</th>\n",
       "      <td>1002.552185</td>\n",
       "      <td>1092.875362</td>\n",
       "      <td>929.004612</td>\n",
       "      <td>935.805020</td>\n",
       "    </tr>\n",
       "    <tr>\n",
       "      <th>...</th>\n",
       "      <td>...</td>\n",
       "      <td>...</td>\n",
       "      <td>...</td>\n",
       "      <td>...</td>\n",
       "    </tr>\n",
       "    <tr>\n",
       "      <th>6565</th>\n",
       "      <td>698.816772</td>\n",
       "      <td>917.085861</td>\n",
       "      <td>615.873484</td>\n",
       "      <td>655.087035</td>\n",
       "    </tr>\n",
       "    <tr>\n",
       "      <th>6566</th>\n",
       "      <td>239.840546</td>\n",
       "      <td>261.569590</td>\n",
       "      <td>179.168451</td>\n",
       "      <td>187.935553</td>\n",
       "    </tr>\n",
       "    <tr>\n",
       "      <th>6567</th>\n",
       "      <td>751.112549</td>\n",
       "      <td>1065.400121</td>\n",
       "      <td>675.905229</td>\n",
       "      <td>730.046753</td>\n",
       "    </tr>\n",
       "    <tr>\n",
       "      <th>6568</th>\n",
       "      <td>1036.387329</td>\n",
       "      <td>1568.407214</td>\n",
       "      <td>1078.850969</td>\n",
       "      <td>1142.413468</td>\n",
       "    </tr>\n",
       "    <tr>\n",
       "      <th>6569</th>\n",
       "      <td>396.822388</td>\n",
       "      <td>476.122783</td>\n",
       "      <td>313.856761</td>\n",
       "      <td>334.285011</td>\n",
       "    </tr>\n",
       "  </tbody>\n",
       "</table>\n",
       "<p>6570 rows × 4 columns</p>\n",
       "</div>"
      ],
      "text/plain": [
       "      neuralprophet      prophet        ridge  ensemble_pred\n",
       "0        399.074371   402.296576   330.860660     334.164204\n",
       "1        580.306213   631.642099   530.288008     534.607104\n",
       "2        175.331146   169.992094   153.666157     150.855704\n",
       "3        680.846680   684.559821   579.630455     583.451106\n",
       "4       1002.552185  1092.875362   929.004612     935.805020\n",
       "...             ...          ...          ...            ...\n",
       "6565     698.816772   917.085861   615.873484     655.087035\n",
       "6566     239.840546   261.569590   179.168451     187.935553\n",
       "6567     751.112549  1065.400121   675.905229     730.046753\n",
       "6568    1036.387329  1568.407214  1078.850969    1142.413468\n",
       "6569     396.822388   476.122783   313.856761     334.285011\n",
       "\n",
       "[6570 rows x 4 columns]"
      ]
     },
     "execution_count": 77,
     "metadata": {},
     "output_type": "execute_result"
    }
   ],
   "source": [
    "test_preds"
   ]
  },
  {
   "cell_type": "code",
   "execution_count": 78,
   "id": "ec6e288a-2549-40c4-9e51-142e2ce99263",
   "metadata": {
    "tags": []
   },
   "outputs": [],
   "source": [
    "sample_df = pd.read_csv(datapath/'sample_submission.csv')"
   ]
  },
  {
   "cell_type": "code",
   "execution_count": 79,
   "id": "ad9ed7d1-55fe-4c6f-81b2-a0749796bbff",
   "metadata": {},
   "outputs": [],
   "source": [
    "sample_df.loc[:, 'num_sold'] = test_preds['ensemble_pred']"
   ]
  },
  {
   "cell_type": "code",
   "execution_count": 80,
   "id": "82d334d3-a4ba-47c3-a592-4023af1c98c4",
   "metadata": {},
   "outputs": [
    {
     "data": {
      "text/html": [
       "<div>\n",
       "<style scoped>\n",
       "    .dataframe tbody tr th:only-of-type {\n",
       "        vertical-align: middle;\n",
       "    }\n",
       "\n",
       "    .dataframe tbody tr th {\n",
       "        vertical-align: top;\n",
       "    }\n",
       "\n",
       "    .dataframe thead th {\n",
       "        text-align: right;\n",
       "    }\n",
       "</style>\n",
       "<table border=\"1\" class=\"dataframe\">\n",
       "  <thead>\n",
       "    <tr style=\"text-align: right;\">\n",
       "      <th></th>\n",
       "      <th>row_id</th>\n",
       "      <th>num_sold</th>\n",
       "    </tr>\n",
       "  </thead>\n",
       "  <tbody>\n",
       "    <tr>\n",
       "      <th>0</th>\n",
       "      <td>26298</td>\n",
       "      <td>334.164204</td>\n",
       "    </tr>\n",
       "    <tr>\n",
       "      <th>1</th>\n",
       "      <td>26299</td>\n",
       "      <td>534.607104</td>\n",
       "    </tr>\n",
       "    <tr>\n",
       "      <th>2</th>\n",
       "      <td>26300</td>\n",
       "      <td>150.855704</td>\n",
       "    </tr>\n",
       "    <tr>\n",
       "      <th>3</th>\n",
       "      <td>26301</td>\n",
       "      <td>583.451106</td>\n",
       "    </tr>\n",
       "    <tr>\n",
       "      <th>4</th>\n",
       "      <td>26302</td>\n",
       "      <td>935.805020</td>\n",
       "    </tr>\n",
       "  </tbody>\n",
       "</table>\n",
       "</div>"
      ],
      "text/plain": [
       "   row_id    num_sold\n",
       "0   26298  334.164204\n",
       "1   26299  534.607104\n",
       "2   26300  150.855704\n",
       "3   26301  583.451106\n",
       "4   26302  935.805020"
      ]
     },
     "execution_count": 80,
     "metadata": {},
     "output_type": "execute_result"
    }
   ],
   "source": [
    "sample_df.head()"
   ]
  },
  {
   "cell_type": "code",
   "execution_count": 81,
   "id": "d7d898c5-3b60-4665-b0d1-1bf6a88222a2",
   "metadata": {},
   "outputs": [],
   "source": [
    "sample_df.to_csv(subpath/f\"20220121_prophet+neuralprophet+ridge_linear_ensemble_preds.csv\", index=False)\n",
    "# sample_df.to_csv(subpath/f\"{wandb_config['name']}_3level-X_orig+KMeans8+synth-GBM-stack_ensemble_preds.csv\", index=False)"
   ]
  },
  {
   "cell_type": "code",
   "execution_count": null,
   "id": "08afcb6b-30dc-4993-9c7e-25702837a3b9",
   "metadata": {},
   "outputs": [],
   "source": []
  }
 ],
 "metadata": {
  "kernelspec": {
   "display_name": "Python 3",
   "language": "python",
   "name": "python3"
  },
  "language_info": {
   "codemirror_mode": {
    "name": "ipython",
    "version": 3
   },
   "file_extension": ".py",
   "mimetype": "text/x-python",
   "name": "python",
   "nbconvert_exporter": "python",
   "pygments_lexer": "ipython3",
   "version": "3.8.12"
  }
 },
 "nbformat": 4,
 "nbformat_minor": 5
}
