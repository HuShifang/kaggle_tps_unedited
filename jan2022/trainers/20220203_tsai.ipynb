{
 "cells": [
  {
   "cell_type": "markdown",
   "id": "8aa68fe7-8591-4ea3-a5cf-d2547c9b5c49",
   "metadata": {},
   "source": [
    "# tsai\n",
    "Trying fastai-based library for some quick & dirty NN implementations, for variety."
   ]
  },
  {
   "cell_type": "code",
   "execution_count": 1,
   "id": "853e0cad-277b-4672-8932-00043098c50a",
   "metadata": {},
   "outputs": [],
   "source": [
    "# notebook configuration\n",
    "# if '/sf/' in pwd:\n",
    "#     COLAB, SAGE = False, False\n",
    "# elif 'google.colab' in str(get_ipython()):\n",
    "#     COLAB, SAGE = True, False # do colab-specific installs later\n",
    "# else:\n",
    "#     COLAB, SAGE = False, True\n",
    "    \n",
    "CONTEXT = 'local' # or 'colab', 'sage', 'kaggle'\n",
    "USE_GPU = True \n",
    "%config Completer.use_jedi = False"
   ]
  },
  {
   "cell_type": "markdown",
   "id": "3139e8f0-6387-4fb5-a095-f6bbbb67ce28",
   "metadata": {
    "tags": []
   },
   "source": [
    "## Imports"
   ]
  },
  {
   "cell_type": "code",
   "execution_count": 2,
   "id": "9f92b26f-9097-4dfc-b570-9501aab4e175",
   "metadata": {},
   "outputs": [],
   "source": [
    "# basic imports\n",
    "from pathlib import Path\n",
    "import os\n",
    "import math\n",
    "from datetime import datetime\n",
    "import random\n",
    "\n",
    "import pandas as pd\n",
    "import numpy as np\n",
    "\n",
    "import matplotlib.pyplot as plt\n",
    "import seaborn as sns\n",
    "%matplotlib inline\n",
    "\n",
    "import warnings\n",
    "warnings.filterwarnings(\"ignore\")\n",
    "\n",
    "import requests # for telegram notifications\n",
    "from tqdm.notebook import tqdm\n",
    "\n",
    "from joblib import dump, load\n",
    "\n",
    "import datetime as dt"
   ]
  },
  {
   "cell_type": "markdown",
   "id": "9392bc7f-da5d-4ff0-866f-184ee342ad49",
   "metadata": {},
   "source": [
    "Now, non-stdlib imports"
   ]
  },
  {
   "cell_type": "code",
   "execution_count": 3,
   "id": "3602ce7e-5d45-406e-85f4-587a749a5a35",
   "metadata": {},
   "outputs": [
    {
     "data": {
      "text/html": [
       "<style type='text/css'>\n",
       ".datatable table.frame { margin-bottom: 0; }\n",
       ".datatable table.frame thead { border-bottom: none; }\n",
       ".datatable table.frame tr.coltypes td {  color: #FFFFFF;  line-height: 6px;  padding: 0 0.5em;}\n",
       ".datatable .bool    { background: #DDDD99; }\n",
       ".datatable .object  { background: #565656; }\n",
       ".datatable .int     { background: #5D9E5D; }\n",
       ".datatable .float   { background: #4040CC; }\n",
       ".datatable .str     { background: #CC4040; }\n",
       ".datatable .time    { background: #40CC40; }\n",
       ".datatable .row_index {  background: var(--jp-border-color3);  border-right: 1px solid var(--jp-border-color0);  color: var(--jp-ui-font-color3);  font-size: 9px;}\n",
       ".datatable .frame tbody td { text-align: left; }\n",
       ".datatable .frame tr.coltypes .row_index {  background: var(--jp-border-color0);}\n",
       ".datatable th:nth-child(2) { padding-left: 12px; }\n",
       ".datatable .hellipsis {  color: var(--jp-cell-editor-border-color);}\n",
       ".datatable .vellipsis {  background: var(--jp-layout-color0);  color: var(--jp-cell-editor-border-color);}\n",
       ".datatable .na {  color: var(--jp-cell-editor-border-color);  font-size: 80%;}\n",
       ".datatable .sp {  opacity: 0.25;}\n",
       ".datatable .footer { font-size: 9px; }\n",
       ".datatable .frame_dimensions {  background: var(--jp-border-color3);  border-top: 1px solid var(--jp-border-color0);  color: var(--jp-ui-font-color3);  display: inline-block;  opacity: 0.6;  padding: 1px 10px 1px 5px;}\n",
       "</style>\n"
      ],
      "text/plain": [
       "<IPython.core.display.HTML object>"
      ]
     },
     "metadata": {},
     "output_type": "display_data"
    }
   ],
   "source": [
    "# model selection\n",
    "from sklearn.model_selection import train_test_split, StratifiedKFold, KFold\n",
    "\n",
    "# metrics\n",
    "from sklearn.metrics import accuracy_score, mean_absolute_error, mean_squared_error\n",
    "\n",
    "# normalization\n",
    "# from sklearn.preprocessing import RobustScaler, StandardScaler, MinMaxScaler, MaxAbsScaler, RobustScaler, QuantileTransformer\n",
    "# from gauss_rank_scaler import GaussRankScaler\n",
    "\n",
    "# feature generation\n",
    "# import category_encoders as ce\n",
    "\n",
    "# models\n",
    "from catboost import CatBoostRegressor\n",
    "from xgboost import XGBRegressor\n",
    "from lightgbm import LGBMRegressor\n",
    "# from sklearn.ensemble import StackingClassifier, RandomForestClassifier\n",
    "import torch\n",
    "from torch.optim import Adam, AdamW, Adagrad, SGD, RMSprop, LBFGS\n",
    "from torch.optim.lr_scheduler import ReduceLROnPlateau, CosineAnnealingWarmRestarts, CyclicLR, OneCycleLR, StepLR, CosineAnnealingLR\n",
    "# from pytorch_widedeep import Trainer\n",
    "# from pytorch_widedeep.preprocessing import WidePreprocessor, TabPreprocessor\n",
    "# from pytorch_widedeep.models import Wide, TabMlp, WideDeep, SAINT#, TabTransformer, TabNet, TabFastFormer, TabResnet\n",
    "# from pytorch_widedeep.metrics import Accuracy\n",
    "# from pytorch_widedeep.callbacks import EarlyStopping, LRHistory, ModelCheckpoint\n",
    "\n",
    "# feature reduction\n",
    "# from sklearn.decomposition import PCA\n",
    "# from umap import UMAP\n",
    "\n",
    "# clustering\n",
    "# from sklearn.cluster import DBSCAN, KMeans\n",
    "# import hdbscan\n",
    "\n",
    "# feature selection\n",
    "# from sklearn.feature_selection import SelectKBest, f_regression, mutual_info_regression\n",
    "# import featuretools as ft\n",
    "# from BorutaShap import BorutaShap\n",
    "# from boruta import BorutaPy\n",
    "\n",
    "# tracking \n",
    "import wandb\n",
    "from wandb.xgboost import wandb_callback\n",
    "from wandb.lightgbm import wandb_callback\n",
    "os.environ['WANDB_NOTEBOOK_NAME'] = f\"nb_{datetime.now().strftime('%Y%m%d')}.ipynb\""
   ]
  },
  {
   "cell_type": "code",
   "execution_count": 4,
   "id": "250d37f7-8c08-468c-b29e-e7df26bd1762",
   "metadata": {},
   "outputs": [],
   "source": [
    "# # time series\n",
    "# import tsfresh\n",
    "\n",
    "# import darts\n",
    "# from darts import TimeSeries\n",
    "# from darts.models import ExponentialSmoothing, AutoARIMA, ARIMA, Prophet, RandomForest, RegressionEnsembleModel, RegressionModel, TFTModel, TCNModel, TransformerModel, NBEATSModel\n",
    "import holidays\n",
    "import dateutil.easter as easter\n",
    "from prophet import Prophet\n",
    "from neuralprophet import NeuralProphet\n",
    "\n",
    "from tsai.all import *"
   ]
  },
  {
   "cell_type": "markdown",
   "id": "465787a5-af5f-4871-9e53-a5854f4774fd",
   "metadata": {},
   "source": [
    "## Routing"
   ]
  },
  {
   "cell_type": "markdown",
   "id": "fadb8882-dc8a-482e-a1fa-2c264932b220",
   "metadata": {},
   "source": [
    "Now, datapath setup"
   ]
  },
  {
   "cell_type": "code",
   "execution_count": 5,
   "id": "ac5deced-4235-46ee-a06e-d0e7a5a08064",
   "metadata": {},
   "outputs": [],
   "source": [
    "if CONTEXT == 'colab':\n",
    "    # mount Google Drive\n",
    "    from google.colab import drive\n",
    "    drive.mount('/content/drive')\n",
    "    \n",
    "    # handling datapath\n",
    "    # datapath = Path('/content/drive/MyDrive/kaggle/tabular_playgrounds/dec2021/')\n",
    "    root = Path('') # TODO\n",
    "\n",
    "elif CONTEXT == 'sage':\n",
    "    root = Path('') # TODO\n",
    "    \n",
    "elif CONTEXT == 'kaggle':\n",
    "    root = Path('') # TODO\n",
    "    \n",
    "else: # if on local machine\n",
    "    root = Path('/media/sf/easystore/kaggle_data/tabular_playgrounds/jan2022/')\n",
    "    datapath = root/'datasets'\n",
    "    # edapath = root/'EDA'\n",
    "    modelpath = root/'models'\n",
    "    predpath = root/'preds'\n",
    "    subpath = root/'submissions'\n",
    "    studypath = root/'studies'\n",
    "    \n",
    "    for pth in [datapath, predpath, subpath, studypath, modelpath]:\n",
    "        pth.mkdir(exist_ok=True)"
   ]
  },
  {
   "cell_type": "markdown",
   "id": "d449a96a-d63e-4add-9577-987bf9911616",
   "metadata": {},
   "source": [
    "## Helpers"
   ]
  },
  {
   "cell_type": "code",
   "execution_count": 6,
   "id": "ddbb71d9-e4ea-4a2e-a3b5-686442df3d65",
   "metadata": {},
   "outputs": [],
   "source": [
    "SEED = 42\n",
    "\n",
    "# Function to seed everything but the models\n",
    "def seed_everything(seed, pytorch=True, reproducible=True):\n",
    "    random.seed(seed)\n",
    "    np.random.seed(seed)\n",
    "    os.environ['PYTHONHASHSEED'] = str(seed)\n",
    "    if pytorch:\n",
    "        torch.manual_seed(seed) # set torch CPU seed\n",
    "        if torch.cuda.is_available():\n",
    "            torch.cuda.manual_seed_all(seed) # set torch GPU(s) seed(s)\n",
    "        if reproducible and torch.backends.cudnn.is_available():\n",
    "            torch.backends.cudnn.deterministic = True\n",
    "            torch.backends.cudnn.benchmark = False\n",
    "\n",
    "seed_everything(seed=SEED)"
   ]
  },
  {
   "cell_type": "code",
   "execution_count": 7,
   "id": "3a439da1-41c5-4094-8c90-74a0997b9952",
   "metadata": {},
   "outputs": [],
   "source": [
    "def reduce_memory_usage(df, verbose=True):\n",
    "    \"\"\"\n",
    "    Function to reduce memory usage by downcasting datatypes in a Pandas DataFrame when possible.\n",
    "    \n",
    "    h/t to Bryan Arnold (https://www.kaggle.com/puremath86/label-correction-experiments-tps-nov-21)\n",
    "    \"\"\"\n",
    "    \n",
    "    numerics = [\"int8\", \"int16\", \"int32\", \"int64\", \"float16\", \"float32\", \"float64\"]\n",
    "    start_mem = df.memory_usage().sum() / 1024 ** 2\n",
    "    for col in df.columns:\n",
    "        col_type = df[col].dtypes\n",
    "        if col_type in numerics:\n",
    "            c_min = df[col].min()\n",
    "            c_max = df[col].max()\n",
    "            if str(col_type)[:3] == \"int\":\n",
    "                if c_min > np.iinfo(np.int8).min and c_max < np.iinfo(np.int8).max:\n",
    "                    df[col] = df[col].astype(np.int8)\n",
    "                elif c_min > np.iinfo(np.int16).min and c_max < np.iinfo(np.int16).max:\n",
    "                    df[col] = df[col].astype(np.int16)\n",
    "                elif c_min > np.iinfo(np.int32).min and c_max < np.iinfo(np.int32).max:\n",
    "                    df[col] = df[col].astype(np.int32)\n",
    "                elif c_min > np.iinfo(np.int64).min and c_max < np.iinfo(np.int64).max:\n",
    "                    df[col] = df[col].astype(np.int64)\n",
    "            else:\n",
    "                if (\n",
    "                    c_min > np.finfo(np.float16).min\n",
    "                    and c_max < np.finfo(np.float16).max\n",
    "                ):\n",
    "                    df[col] = df[col].astype(np.float16)\n",
    "                elif (\n",
    "                    c_min > np.finfo(np.float32).min\n",
    "                    and c_max < np.finfo(np.float32).max\n",
    "                ):\n",
    "                    df[col] = df[col].astype(np.float32)\n",
    "                else:\n",
    "                    df[col] = df[col].astype(np.float64)\n",
    "    end_mem = df.memory_usage().sum() / 1024 ** 2\n",
    "    if verbose:\n",
    "        print(\n",
    "            \"Mem. usage decreased to {:.2f} Mb ({:.1f}% reduction)\".format(\n",
    "                end_mem, 100 * (start_mem - end_mem) / start_mem\n",
    "            )\n",
    "        )\n",
    "    return df"
   ]
  },
  {
   "cell_type": "code",
   "execution_count": 8,
   "id": "ffc37fac-1397-4afb-b935-2c35cc58cc1c",
   "metadata": {},
   "outputs": [],
   "source": [
    "tg_api_token = 'your_api_token' # for Galileo (jupyter_watcher_bot) on Telegram\n",
    "tg_chat_id = 'your_chat_id'\n",
    "\n",
    "import requests\n",
    "\n",
    "def send_tg_message(text='Cell execution completed.'):  \n",
    "    \"\"\"\n",
    "    h/t Ivan Dembicki Jr. for the base version \n",
    "    (https://medium.com/@ivan.dembicki.jr/notifications-in-jupyter-notebook-with-telegram-f2e892c55173)\n",
    "    \"\"\"\n",
    "    requests.post('https://api.telegram.org/' +  'bot{}/sendMessage'.format(tg_api_token),\n",
    "                  params=dict(chat_id=tg_chat_id, text=text))"
   ]
  },
  {
   "cell_type": "code",
   "execution_count": 9,
   "id": "a663de45-2da6-4db3-9f38-bc80baac37d0",
   "metadata": {},
   "outputs": [],
   "source": [
    "def SMAPE(y_true, y_pred):\n",
    "    '''\n",
    "    h/t Jean-François Puget (@CPMP) -- see https://www.kaggle.com/c/web-traffic-time-series-forecasting/discussion/36414\n",
    "    '''\n",
    "    denominator = (y_true + np.abs(y_pred)) / 200.0\n",
    "    diff = np.abs(y_true - y_pred) / denominator\n",
    "    diff[denominator == 0] = 0.0\n",
    "    return np.mean(diff)"
   ]
  },
  {
   "cell_type": "code",
   "execution_count": 10,
   "id": "372674e6-6280-4ab0-a5b6-f19b4444448e",
   "metadata": {},
   "outputs": [],
   "source": [
    "# https://www.kaggle.com/c/ventilator-pressure-prediction/discussion/282735\n",
    "def better_than_median(inputs, axis):\n",
    "    \"\"\"Compute the mean of the predictions if there are no outliers,\n",
    "    or the median if there are outliers.\n",
    "\n",
    "    Parameter: inputs = ndarray of shape (n_samples, n_folds)\"\"\"\n",
    "    spread = inputs.max(axis=axis) - inputs.min(axis=axis) \n",
    "    spread_lim = 0.45\n",
    "    print(f\"Inliers:  {(spread < spread_lim).sum():7} -> compute mean\")\n",
    "    print(f\"Outliers: {(spread >= spread_lim).sum():7} -> compute median\")\n",
    "    print(f\"Total:    {len(inputs):7}\")\n",
    "    return np.where(spread < spread_lim,\n",
    "                    np.mean(inputs, axis=axis),\n",
    "                    np.median(inputs, axis=axis))"
   ]
  },
  {
   "cell_type": "code",
   "execution_count": 11,
   "id": "a9f50d0f-6057-444e-ab5c-72fd91f72fac",
   "metadata": {},
   "outputs": [],
   "source": [
    "# https://www.kaggle.com/teckmengwong/tps2201-hybrid-time-series\n",
    "def plot_periodogram(ts, detrend='linear', ax=None):\n",
    "    from scipy.signal import periodogram\n",
    "    fs = pd.Timedelta(\"1Y\") / pd.Timedelta(\"1D\")\n",
    "    freqencies, spectrum = periodogram(\n",
    "        ts,\n",
    "        fs=fs,\n",
    "        detrend=detrend,\n",
    "        window=\"boxcar\",\n",
    "        scaling='spectrum',\n",
    "    )\n",
    "    if ax is None:\n",
    "        _, ax = plt.subplots()\n",
    "    ax.step(freqencies, spectrum, color=\"purple\")\n",
    "    ax.set_xscale(\"log\")\n",
    "    ax.set_xticks([1, 2, 4, 6, 12, 26, 52, 104])\n",
    "    ax.set_xticklabels(\n",
    "        [\n",
    "            \"Annual (1)\",\n",
    "            \"Semiannual (2)\",\n",
    "            \"Quarterly (4)\",\n",
    "            \"Bimonthly (6)\",\n",
    "            \"Monthly (12)\",\n",
    "            \"Biweekly (26)\",\n",
    "            \"Weekly (52)\",\n",
    "            \"Semiweekly (104)\",\n",
    "        ],\n",
    "        rotation=30,\n",
    "    )\n",
    "    ax.ticklabel_format(axis=\"y\", style=\"sci\", scilimits=(0, 0))\n",
    "    ax.set_ylabel(\"Variance\")\n",
    "    ax.set_title(\"Periodogram\")\n",
    "    return ax"
   ]
  },
  {
   "cell_type": "code",
   "execution_count": 12,
   "id": "81fb6805-b4d5-41fc-a842-376c08fb1ad8",
   "metadata": {},
   "outputs": [],
   "source": [
    "# https://www.kaggle.com/teckmengwong/tps2201-hybrid-time-series\n",
    "def fourier_features(index, freq, order):\n",
    "    time = np.arange(len(index), dtype=np.float32)\n",
    "    k = 2 * np.pi * (1 / freq) * time\n",
    "    features = {}\n",
    "    for i in range(1, order + 1):\n",
    "        features.update({\n",
    "            f\"sin_{freq}_{i}\": np.sin(i * k),\n",
    "            f\"cos_{freq}_{i}\": np.cos(i * k),\n",
    "        })\n",
    "    return pd.DataFrame(features, index=index)"
   ]
  },
  {
   "cell_type": "markdown",
   "id": "8da19663-3814-44d6-ab45-2929d022e370",
   "metadata": {
    "tags": []
   },
   "source": [
    "## Dataset Setup"
   ]
  },
  {
   "cell_type": "markdown",
   "id": "6eac483f-9be5-4ba7-bf3d-f7fb9a215355",
   "metadata": {},
   "source": [
    "### Original Data Loading"
   ]
  },
  {
   "cell_type": "code",
   "execution_count": 13,
   "id": "a02a3fe1-e98f-49fb-baa7-2fedc384160f",
   "metadata": {
    "tags": []
   },
   "outputs": [],
   "source": [
    "# dataset_params will initially include either trivial class instances or loaded, precomputed artifacts\n",
    "dataset_params = {\n",
    "    'train_source': str(datapath/'train.csv'),\n",
    "    'target_source': str(datapath/'train.csv'),\n",
    "    'test_source': str(datapath/'test.csv'),\n",
    "    # 'scaler': str(RobustScaler()),\n",
    "    # 'pca': str(load(datapath/'pca_mle-RobustScaled_orig_trainset.joblib')),\n",
    "    # 'umap': str(load(datapath/'umap_reducer-20211107-n_comp10-n_neighbors15-rs42-pca_mle-RobustScaled_orig_trainset.joblib')),\n",
    "}   \n",
    "\n",
    "# referring back to the already-entered attributes, specify how the pipeline was sequenced\n",
    "# dataset_params['preprocessing_pipeline'] = str([dataset_params['scaler'], dataset_params['pca'], dataset_params['umap']]) # ACTUALLY this is unwieldy\n",
    "# dataset_params['preprocessing_pipeline'] = '[scaler, pca, umap]' # more fragile, but also more readable\n",
    "\n",
    "# now, load the datasets and generate more metadata from them\n",
    "train_df = pd.read_csv(datapath/'train.csv')\n",
    "test_df = pd.read_csv(datapath/'test.csv')\n",
    "orig_train_df = train_df.copy()\n",
    "orig_test_df = test_df.copy()"
   ]
  },
  {
   "cell_type": "markdown",
   "id": "6e0abf4a-32dd-435a-9551-172f1c110b64",
   "metadata": {},
   "source": [
    "Since the dates are natively `Object` dtype (i.e. strings), we have to convert them:"
   ]
  },
  {
   "cell_type": "code",
   "execution_count": 14,
   "id": "acd956b7-823b-4f3d-ae43-81d73349508a",
   "metadata": {},
   "outputs": [],
   "source": [
    "# https://www.kaggle.com/ambrosm/tpsjan22-03-linear-model\n",
    "for df in [train_df, test_df]:\n",
    "    df['date'] = pd.to_datetime(df.date)\n",
    "\n",
    "# for convenience later\n",
    "countries = ['Sweden', 'Finland', 'Norway']\n",
    "stores = ['KaggleMart', 'KaggleRama']\n",
    "products = ['Kaggle Mug', 'Kaggle Hat', 'Kaggle Sticker']"
   ]
  },
  {
   "cell_type": "markdown",
   "id": "a34ae630-74dd-40fe-87dc-179f1c4ae6ea",
   "metadata": {},
   "source": [
    "Provisionally, I'm going to concatenate together the `train_df` and `test_df` for preprocessing, to avoid having to constantly apply transforms twice (since I don't anticipate doing any transforms that might allow data leakage to occur)."
   ]
  },
  {
   "cell_type": "code",
   "execution_count": 15,
   "id": "5a88789a-e9dc-479a-bdc5-3404e0b82385",
   "metadata": {},
   "outputs": [
    {
     "name": "stdout",
     "output_type": "stream",
     "text": [
      "True\n"
     ]
    }
   ],
   "source": [
    "all_df = pd.concat([train_df, test_df], axis=0)\n",
    "# all_df.columns\n",
    "print(len(all_df) == len(train_df) + len(test_df))\n",
    "del train_df, test_df"
   ]
  },
  {
   "cell_type": "markdown",
   "id": "ef83e050-8476-4b03-9141-76547a5b2ab8",
   "metadata": {},
   "source": [
    "### GDP Data\n",
    "Here's data from Carl McBride Ellis ([notebook](https://www.kaggle.com/carlmcbrideellis/gdp-of-finland-norway-and-sweden-2015-2019) and [dataset](https://www.kaggle.com/carlmcbrideellis/gdp-20152019-finland-norway-and-sweden) for doing GDP comparisons. They're frequently used in other entries. I've created a function to add them on."
   ]
  },
  {
   "cell_type": "code",
   "execution_count": 16,
   "id": "56ecb693-a4f9-4834-8733-1124a1b2110b",
   "metadata": {},
   "outputs": [],
   "source": [
    "def add_gdp_data(df):\n",
    "    gdp_df = pd.read_csv(datapath/'GDP_data_2015_to_2019_Finland_Norway_Sweden.csv')\n",
    "    gdp_df.set_index('year', inplace=True)\n",
    "    def get_gdp(row):\n",
    "        country = 'GDP_' + row.country\n",
    "        return gdp_df.loc[row.date.year, country]\n",
    "\n",
    "    df['gdp'] = np.log1p(df.apply(get_gdp, axis=1))\n",
    "    return df"
   ]
  },
  {
   "cell_type": "markdown",
   "id": "27ea0d4e-1a00-4598-9d66-f7e5d09f034a",
   "metadata": {},
   "source": [
    "I'll also define here (but perhaps move later) the GDP exponent, which will be used to transform the targets before inference (dividing num_sold by the $GDP^{1.212}$ and then taking the logarithm (after @ambrosm)"
   ]
  },
  {
   "cell_type": "code",
   "execution_count": 17,
   "id": "e21a8d45-49c0-41d7-9dd0-641bee6ba01d",
   "metadata": {},
   "outputs": [],
   "source": [
    "gdp_exponent = 1.2121103201489674 # see https://www.kaggle.com/ambrosm/tpsjan22-03-linear-model for an explanation"
   ]
  },
  {
   "cell_type": "code",
   "execution_count": 18,
   "id": "351cea17-4e3d-4b0f-ac9b-ed2bc261fa35",
   "metadata": {},
   "outputs": [],
   "source": [
    "all_df = add_gdp_data(all_df)"
   ]
  },
  {
   "cell_type": "code",
   "execution_count": 19,
   "id": "2ce44724-6d3e-4a11-9dd7-d30a6d1197b5",
   "metadata": {},
   "outputs": [
    {
     "data": {
      "text/html": [
       "<div>\n",
       "<style scoped>\n",
       "    .dataframe tbody tr th:only-of-type {\n",
       "        vertical-align: middle;\n",
       "    }\n",
       "\n",
       "    .dataframe tbody tr th {\n",
       "        vertical-align: top;\n",
       "    }\n",
       "\n",
       "    .dataframe thead th {\n",
       "        text-align: right;\n",
       "    }\n",
       "</style>\n",
       "<table border=\"1\" class=\"dataframe\">\n",
       "  <thead>\n",
       "    <tr style=\"text-align: right;\">\n",
       "      <th></th>\n",
       "      <th>row_id</th>\n",
       "      <th>date</th>\n",
       "      <th>country</th>\n",
       "      <th>store</th>\n",
       "      <th>product</th>\n",
       "      <th>num_sold</th>\n",
       "      <th>gdp</th>\n",
       "    </tr>\n",
       "  </thead>\n",
       "  <tbody>\n",
       "    <tr>\n",
       "      <th>0</th>\n",
       "      <td>0</td>\n",
       "      <td>2015-01-01</td>\n",
       "      <td>Finland</td>\n",
       "      <td>KaggleMart</td>\n",
       "      <td>Kaggle Mug</td>\n",
       "      <td>329.0</td>\n",
       "      <td>5.461456</td>\n",
       "    </tr>\n",
       "    <tr>\n",
       "      <th>1</th>\n",
       "      <td>1</td>\n",
       "      <td>2015-01-01</td>\n",
       "      <td>Finland</td>\n",
       "      <td>KaggleMart</td>\n",
       "      <td>Kaggle Hat</td>\n",
       "      <td>520.0</td>\n",
       "      <td>5.461456</td>\n",
       "    </tr>\n",
       "    <tr>\n",
       "      <th>2</th>\n",
       "      <td>2</td>\n",
       "      <td>2015-01-01</td>\n",
       "      <td>Finland</td>\n",
       "      <td>KaggleMart</td>\n",
       "      <td>Kaggle Sticker</td>\n",
       "      <td>146.0</td>\n",
       "      <td>5.461456</td>\n",
       "    </tr>\n",
       "    <tr>\n",
       "      <th>3</th>\n",
       "      <td>3</td>\n",
       "      <td>2015-01-01</td>\n",
       "      <td>Finland</td>\n",
       "      <td>KaggleRama</td>\n",
       "      <td>Kaggle Mug</td>\n",
       "      <td>572.0</td>\n",
       "      <td>5.461456</td>\n",
       "    </tr>\n",
       "    <tr>\n",
       "      <th>4</th>\n",
       "      <td>4</td>\n",
       "      <td>2015-01-01</td>\n",
       "      <td>Finland</td>\n",
       "      <td>KaggleRama</td>\n",
       "      <td>Kaggle Hat</td>\n",
       "      <td>911.0</td>\n",
       "      <td>5.461456</td>\n",
       "    </tr>\n",
       "    <tr>\n",
       "      <th>...</th>\n",
       "      <td>...</td>\n",
       "      <td>...</td>\n",
       "      <td>...</td>\n",
       "      <td>...</td>\n",
       "      <td>...</td>\n",
       "      <td>...</td>\n",
       "      <td>...</td>\n",
       "    </tr>\n",
       "    <tr>\n",
       "      <th>6565</th>\n",
       "      <td>32863</td>\n",
       "      <td>2019-12-31</td>\n",
       "      <td>Sweden</td>\n",
       "      <td>KaggleMart</td>\n",
       "      <td>Kaggle Hat</td>\n",
       "      <td>NaN</td>\n",
       "      <td>6.282042</td>\n",
       "    </tr>\n",
       "    <tr>\n",
       "      <th>6566</th>\n",
       "      <td>32864</td>\n",
       "      <td>2019-12-31</td>\n",
       "      <td>Sweden</td>\n",
       "      <td>KaggleMart</td>\n",
       "      <td>Kaggle Sticker</td>\n",
       "      <td>NaN</td>\n",
       "      <td>6.282042</td>\n",
       "    </tr>\n",
       "    <tr>\n",
       "      <th>6567</th>\n",
       "      <td>32865</td>\n",
       "      <td>2019-12-31</td>\n",
       "      <td>Sweden</td>\n",
       "      <td>KaggleRama</td>\n",
       "      <td>Kaggle Mug</td>\n",
       "      <td>NaN</td>\n",
       "      <td>6.282042</td>\n",
       "    </tr>\n",
       "    <tr>\n",
       "      <th>6568</th>\n",
       "      <td>32866</td>\n",
       "      <td>2019-12-31</td>\n",
       "      <td>Sweden</td>\n",
       "      <td>KaggleRama</td>\n",
       "      <td>Kaggle Hat</td>\n",
       "      <td>NaN</td>\n",
       "      <td>6.282042</td>\n",
       "    </tr>\n",
       "    <tr>\n",
       "      <th>6569</th>\n",
       "      <td>32867</td>\n",
       "      <td>2019-12-31</td>\n",
       "      <td>Sweden</td>\n",
       "      <td>KaggleRama</td>\n",
       "      <td>Kaggle Sticker</td>\n",
       "      <td>NaN</td>\n",
       "      <td>6.282042</td>\n",
       "    </tr>\n",
       "  </tbody>\n",
       "</table>\n",
       "<p>32868 rows × 7 columns</p>\n",
       "</div>"
      ],
      "text/plain": [
       "      row_id       date  country       store         product  num_sold  \\\n",
       "0          0 2015-01-01  Finland  KaggleMart      Kaggle Mug     329.0   \n",
       "1          1 2015-01-01  Finland  KaggleMart      Kaggle Hat     520.0   \n",
       "2          2 2015-01-01  Finland  KaggleMart  Kaggle Sticker     146.0   \n",
       "3          3 2015-01-01  Finland  KaggleRama      Kaggle Mug     572.0   \n",
       "4          4 2015-01-01  Finland  KaggleRama      Kaggle Hat     911.0   \n",
       "...      ...        ...      ...         ...             ...       ...   \n",
       "6565   32863 2019-12-31   Sweden  KaggleMart      Kaggle Hat       NaN   \n",
       "6566   32864 2019-12-31   Sweden  KaggleMart  Kaggle Sticker       NaN   \n",
       "6567   32865 2019-12-31   Sweden  KaggleRama      Kaggle Mug       NaN   \n",
       "6568   32866 2019-12-31   Sweden  KaggleRama      Kaggle Hat       NaN   \n",
       "6569   32867 2019-12-31   Sweden  KaggleRama  Kaggle Sticker       NaN   \n",
       "\n",
       "           gdp  \n",
       "0     5.461456  \n",
       "1     5.461456  \n",
       "2     5.461456  \n",
       "3     5.461456  \n",
       "4     5.461456  \n",
       "...        ...  \n",
       "6565  6.282042  \n",
       "6566  6.282042  \n",
       "6567  6.282042  \n",
       "6568  6.282042  \n",
       "6569  6.282042  \n",
       "\n",
       "[32868 rows x 7 columns]"
      ]
     },
     "execution_count": 19,
     "metadata": {},
     "output_type": "execute_result"
    }
   ],
   "source": [
    "all_df"
   ]
  },
  {
   "cell_type": "markdown",
   "id": "5bac430c-1f44-4cab-9f60-591938496422",
   "metadata": {},
   "source": [
    "## Feature Engineering"
   ]
  },
  {
   "cell_type": "markdown",
   "id": "a001db50-b826-438e-b2a4-2e978348fb28",
   "metadata": {},
   "source": [
    "### Time Features"
   ]
  },
  {
   "cell_type": "markdown",
   "id": "cdcaf542-5bd7-4c06-8e6b-d07255b27976",
   "metadata": {},
   "source": [
    "The goal of this function is to create features that will capture seasonalities -- but **not** trends. The trends will (hopefully) be captured by the deployment of linear forecasting algorithms on raw time series data (consisting exclusively of dates and targets); we want to have seasonalities that the residual models can learn, however -- holidays, weekly patterns, climactic season patterns, etc."
   ]
  },
  {
   "cell_type": "markdown",
   "id": "6bc192ce-81e6-4a63-a284-4d454e66cb6a",
   "metadata": {},
   "source": [
    "The cell below will generate the `holidays` library's entries for the three countries. I may want to follow the template of @teckmengwong's code below, and add more holidays -- then, do some feature importance checking, and perhaps whittle down the features accordingly."
   ]
  },
  {
   "cell_type": "code",
   "execution_count": 20,
   "id": "77b86a61-63ec-42c9-bbdd-6d762df291b4",
   "metadata": {
    "tags": []
   },
   "outputs": [],
   "source": [
    "for c in [holidays.Finland, holidays.Sweden, holidays.Norway]:\n",
    "#     print(c)\n",
    "    for h in c(years = [2019], observed=True).items():\n",
    "#         print(h)\n",
    "        pass"
   ]
  },
  {
   "cell_type": "markdown",
   "id": "803a1b6e-1d18-4d03-8484-da80e51746a3",
   "metadata": {},
   "source": [
    "Here are the new FE techniques and helper techniques proposed by Teck Meng Wong (added as alt on 20220129, from [here](https://www.kaggle.com/teckmengwong/tps2201-hybrid-time-series#Data/Feature-Engineering))."
   ]
  },
  {
   "cell_type": "code",
   "execution_count": 21,
   "id": "51b12695-6f92-4524-b9e3-0fd64900282d",
   "metadata": {},
   "outputs": [],
   "source": [
    "from math import ceil, floor, sqrt\n",
    "# from https://www.kaggle.com/fergusfindley/ensembling-and-rounding-techniques-comparison\n",
    "def geometric_round(arr):\n",
    "    result_array = arr\n",
    "    result_array = np.where(result_array < np.sqrt(np.floor(arr)*np.ceil(arr)), np.floor(arr), result_array)\n",
    "    result_array = np.where(result_array >= np.sqrt(np.floor(arr)*np.ceil(arr)), np.ceil(arr), result_array)\n",
    "\n",
    "    return result_array"
   ]
  },
  {
   "cell_type": "code",
   "execution_count": 22,
   "id": "e4a4d157-dbd0-4e6f-8a98-14a2ed464978",
   "metadata": {},
   "outputs": [],
   "source": [
    "DATE = \"date\"\n",
    "YEAR = \"year\"\n",
    "QUARTER = \"quarter\"\n",
    "MONTH = \"month\"\n",
    "WEEK = \"week\"\n",
    "DAY = \"day\"\n",
    "DAYOFYEAR = \"dayofyear\"\n",
    "WEEKOFYEAR = \"weekofyear\"\n",
    "DAYOFMONTH = \"dayofMonth\"\n",
    "DAYOFWEEK = \"dayofweek\"\n",
    "WEEKDAY = \"weekday\""
   ]
  },
  {
   "cell_type": "code",
   "execution_count": 23,
   "id": "114c7650-509f-4deb-a4af-0eb1ade65fc6",
   "metadata": {},
   "outputs": [],
   "source": [
    "from sklearn.preprocessing import SplineTransformer\n",
    "\n",
    "\n",
    "def periodic_spline_transformer(period, n_splines=None, degree=3):\n",
    "    if n_splines is None:\n",
    "        n_splines = period\n",
    "    n_knots = n_splines + 1  # periodic and include_bias is True\n",
    "    return SplineTransformer(\n",
    "        degree=degree,\n",
    "        n_knots=n_knots,\n",
    "        knots=np.linspace(0, period, n_knots).reshape(n_knots, 1),\n",
    "        extrapolation=\"periodic\",\n",
    "        include_bias=True,\n",
    "    )"
   ]
  },
  {
   "cell_type": "code",
   "execution_count": 24,
   "id": "3272bde0-c9aa-4a9d-bba2-405b762bac88",
   "metadata": {},
   "outputs": [
    {
     "data": {
      "image/png": "[encoded data removed]",
      "text/plain": [
       "<Figure size 432x288 with 1 Axes>"
      ]
     },
     "metadata": {
      "needs_background": "light"
     },
     "output_type": "display_data"
    }
   ],
   "source": [
    "\n",
    "year_df = pd.DataFrame(\n",
    "    np.linspace(0, 365, 1000).reshape(-1, 1),\n",
    "    columns=[DAYOFYEAR],\n",
    ")\n",
    "splines = periodic_spline_transformer(365, n_splines=12, degree=2).fit_transform(year_df)\n",
    "splines_df = pd.DataFrame(\n",
    "    splines,\n",
    "    columns=[f\"spline_{i}\" for i in range(splines.shape[1])],\n",
    ")\n",
    "pd.concat([year_df, splines_df], axis=\"columns\").plot(x=DAYOFYEAR, cmap=plt.cm.tab20b)\n",
    "_ = plt.title(f\"Periodic spline-based encoding for the {DAYOFYEAR} feature\")"
   ]
  },
  {
   "cell_type": "code",
   "execution_count": 25,
   "id": "0a91ecc4-7810-4d21-a455-beb78a322e91",
   "metadata": {},
   "outputs": [],
   "source": [
    "# https://www.kaggle.com/samuelcortinhas/tps-jan-22-quick-eda-hybrid-model/notebook\n",
    "def unofficial_holiday(df):\n",
    "    countries = {'Finland': 1, 'Norway': 2, 'Sweden': 3}\n",
    "    stores = {'KaggleMart': 1, 'KaggleRama': 2}\n",
    "    products = {'Kaggle Mug': 1,'Kaggle Hat': 2, 'Kaggle Sticker': 3}\n",
    "    \n",
    "    # load holiday info.\n",
    "#     hol_path = '../input/public-and-unofficial-holidays-nor-fin-swe-201519/holidays.csv'\n",
    "    hol_path = datapath/'holidays.csv'\n",
    "    holiday = pd.read_csv(hol_path)\n",
    "    \n",
    "    fin_holiday = holiday.loc[holiday.country == 'Finland']\n",
    "    swe_holiday = holiday.loc[holiday.country == 'Sweden']\n",
    "    nor_holiday = holiday.loc[holiday.country == 'Norway']\n",
    "    df['fin holiday'] = df.date.isin(fin_holiday.date).astype(int)\n",
    "    df['swe holiday'] = df.date.isin(swe_holiday.date).astype(int)\n",
    "    df['nor holiday'] = df.date.isin(nor_holiday.date).astype(int)\n",
    "    df['holiday'] = np.zeros(df.shape[0]).astype(int)\n",
    "    df.loc[df.country == 'Finland', 'holiday'] = df.loc[df.country == 'Finland', 'fin holiday']\n",
    "    df.loc[df.country == 'Sweden', 'holiday'] = df.loc[df.country == 'Sweden', 'swe holiday']\n",
    "    df.loc[df.country == 'Norway', 'holiday'] = df.loc[df.country == 'Norway', 'nor holiday']\n",
    "    df.drop(['fin holiday', 'swe holiday', 'nor holiday'], axis=1, inplace=True)\n",
    "    return df"
   ]
  },
  {
   "cell_type": "code",
   "execution_count": 26,
   "id": "1405a5ee-2f98-47c4-b9c5-d8815bfa3253",
   "metadata": {},
   "outputs": [],
   "source": [
    "# BUID calendar columns\n",
    "MONTH_COLUMNS = []\n",
    "WEEKOFYEAR_COLUMNS = []\n",
    "DAYOFYEAR_COLUMNS = []\n",
    "WEEKDAY_COLUMNS = []\n",
    "\n",
    "for x in [MONTH,WEEKOFYEAR,DAYOFYEAR,WEEKDAY]:\n",
    "    for y in [f'mug_{x}', f'hat_{x}', f'stick_{x}']:\n",
    "        if x == MONTH:\n",
    "            MONTH_COLUMNS.append(y)\n",
    "        if x == WEEKOFYEAR:\n",
    "            WEEKOFYEAR_COLUMNS.append(y)\n",
    "        if x == DAYOFYEAR:\n",
    "            DAYOFYEAR_COLUMNS.append(y)\n",
    "        if x == WEEKDAY:\n",
    "            WEEKDAY_COLUMNS.append(y)\n"
   ]
  },
  {
   "cell_type": "code",
   "execution_count": 27,
   "id": "a61e0d2f-aecb-448f-abb4-20f3862656ac",
   "metadata": {},
   "outputs": [],
   "source": [
    "def fourier_features(index, freq, order):\n",
    "    time = np.arange(len(index), dtype=np.float32)\n",
    "    k = 2 * np.pi * (1 / freq) * time\n",
    "    features = {}\n",
    "    for i in range(1, order + 1):\n",
    "        features.update({\n",
    "            f\"sin_{freq}_{i}\": np.sin(i * k),\n",
    "            f\"cos_{freq}_{i}\": np.cos(i * k),\n",
    "        })\n",
    "    return pd.DataFrame(features, index=index)\n",
    "\n",
    "def get_basic_ts_features(df):\n",
    "#     gdp_df = pd.read_csv('../input/gdp-20152019-finland-norway-and-sweden/GDP_data_2015_to_2019_Finland_Norway_Sweden.csv')\n",
    "    gdp_df = pd.read_csv(datapath/'GDP_data_2015_to_2019_Finland_Norway_Sweden.csv')\n",
    "    gdp_df.set_index('year', inplace=True)\n",
    "#     gdp_exponent = 1.2121103201489674 # see https://www.kaggle.com/ambrosm/tpsjan22-03-linear-model for an explanation\n",
    "    def get_gdp(row):\n",
    "        country = 'GDP_' + row.country\n",
    "        return gdp_df.loc[row.date.year, country] #**gdp_exponent\n",
    "\n",
    "    # Apply GDP log\n",
    "    df['gdp'] = np.log1p(df.apply(get_gdp, axis=1))\n",
    "    \n",
    "#     # Split GDP by country (for linear model)\n",
    "#     df['fin_gdp']=np.where(df['country'] == 'Finland', df['gdp'], 0)\n",
    "#     df['nor_gdp']=np.where(df['country'] == 'Norway', df['gdp'], 0)\n",
    "#     df['swe_gdp']=np.where(df['country'] == 'Sweden', df['gdp'], 0)\n",
    "    \n",
    "#     # Drop column\n",
    "#     df=df.drop(['gdp'],axis=1)\n",
    "    \n",
    "    # one-hot encoding should be used. linear model should not learn this as numeric value\n",
    "#     df[YEAR] = df[DATE].dt.year\n",
    "#     df[MONTH] = df[DATE].dt.month\n",
    "#     df[WEEKOFYEAR] = df[DATE].dt.isocalendar().week\n",
    "#     df[DAYOFYEAR] = df[DATE].dt.dayofyear\n",
    "#     df[WEEKDAY] = df[DATE].dt.weekday\n",
    "#     df[DAY] = df[DATE].dt.day # day in month\n",
    "#     df[DAYOFMONTH] = df[DATE].dt.days_in_month\n",
    "#     df[DAYOFWEEK] = df[DATE].dt.dayofweek\n",
    "#     df[MONTH] = df[DATE].dt.month # Min SMAPE: 4.005319478790032\n",
    "#     df[QUARTER] = df.date.dt.quarter\n",
    "\n",
    "    df['wd0'] = df[DATE].dt.weekday == 0 # + Monday\n",
    "    df['wd1'] = df[DATE].dt.weekday == 1 # Tuesday\n",
    "    df['wd2'] = df[DATE].dt.weekday == 2\n",
    "    df['wd3'] = df[DATE].dt.weekday == 3\n",
    "    df['wd4'] = df[DATE].dt.weekday == 4 # + Friday\n",
    "    df['wd56'] = df[DATE].dt.weekday >= 5 # + Weekend\n",
    "\n",
    "#     df[f'mug_wd4'] = np.where(df['product'] == 'Kaggle Mug', df[f'wd4'], False)\n",
    "#     df[f'mug_wd56'] = np.where(df['product'] == 'Kaggle Mug', df[f'wd56'], False)\n",
    "#     df[f'hat_wd4'] = np.where(df['product'] == 'Kaggle Hat', df[f'wd4'], False)\n",
    "#     df[f'hat_wd56'] = np.where(df['product'] == 'Kaggle Hat', df[f'wd56'], False)\n",
    "#     df[f'stick_wd4'] = np.where(df['product'] == 'Kaggle Sticker', df[f'wd4'], False)\n",
    "#     df[f'stick_wd56'] = np.where(df['product'] == 'Kaggle Sticker', df[f'wd56'], False)\n",
    "#     df = df.drop(columns=[f'wd4', f'wd56'])\n",
    "    # 4 seasons\n",
    "#     df['season'] = ((df[DATE].dt.month % 12 + 3) // 3).map({1:'DJF', 2: 'MAM', 3:'JJA', 4:'SON'})\n",
    "\n",
    "    return df\n",
    "\n",
    "def feature_splines(df):\n",
    "    # one-hot encoding should be used. linear model should not learn this as numeric value\n",
    "#     df[MONTH] = df[DATE].dt.month\n",
    "#     df[WEEKOFYEAR] = df[DATE].dt.isocalendar().week\n",
    "    df[WEEKDAY] = df[DATE].dt.weekday\n",
    "#     df[DAYOFYEAR] = df[DATE].dt.dayofyear\n",
    "    \n",
    "    dayofyear_splines = periodic_spline_transformer(365, n_splines=9, degree=2).fit_transform(df[DATE].dt.dayofyear.values.reshape(-1, 1))\n",
    "    splines_df = pd.DataFrame(\n",
    "        dayofyear_splines,\n",
    "        columns=[f\"spline_{i}\" for i in range(dayofyear_splines.shape[1])],\n",
    "    )\n",
    "    for i in range(dayofyear_splines.shape[1]):\n",
    "        df[f'mug_{DAYOFYEAR}{i}'] = np.where(df['product'] == 'Kaggle Mug', splines_df[f\"spline_{i}\"], 0.)\n",
    "        df[f'hat_{DAYOFYEAR}{i}'] = np.where(df['product'] == 'Kaggle Hat', splines_df[f\"spline_{i}\"], 0.)\n",
    "        df[f'stick_{DAYOFYEAR}{i}'] = np.where(df['product'] == 'Kaggle Sticker', splines_df[f\"spline_{i}\"], 0.)\n",
    "#         df[f'fin_{DAYOFYEAR}{i}'] = np.where(df['country'] == 'Finland', splines_df[f\"spline_{i}\"], 0.)\n",
    "#         df[f'nor_{DAYOFYEAR}{i}'] = np.where(df['country'] == 'Norway', splines_df[f\"spline_{i}\"], 0.)\n",
    "#         df[f'swe_{DAYOFYEAR}{i}'] = np.where(df['country'] == 'Sweden', splines_df[f\"spline_{i}\"], 0.)\n",
    "\n",
    "#     weekofyear_splines = periodic_spline_transformer(52, n_splines=2, degree=2).fit_transform(df[DATE].dt.isocalendar().week.values.astype(np.float64).reshape(-1,1))\n",
    "#     splines_df = pd.DataFrame(\n",
    "#         weekofyear_splines,\n",
    "#         columns=[f\"spline_{i}\" for i in range(weekofyear_splines.shape[1])],\n",
    "#     )\n",
    "#     for i in range(weekofyear_splines.shape[1]):\n",
    "#         df[f'weekofyear_{WEEKOFYEAR}{i}'] = splines_df[f\"spline_{i}\"]\n",
    "#         df[f'hat_{WEEKOFYEAR}{i}'] = np.where(df['product'] == 'Kaggle Hat', splines_df[f\"spline_{i}\"], 0)\n",
    "#         df[f'stick_{WEEKOFYEAR}{i}'] = np.where(df['product'] == 'Kaggle Sticker', splines_df[f\"spline_{i}\"], 0)\n",
    "#     df[f'mug_{MONTH}'] = np.where(df['product'] == 'Kaggle Mug', df[MONTH], 0)\n",
    "#     df[f'mug_{WEEKOFYEAR}'] = np.where(df['product'] == 'Kaggle Mug', df[WEEKOFYEAR], 0)\n",
    "#     df[f'mug_{DAYOFYEAR}'] = np.where(df['product'] == 'Kaggle Mug', df[DAYOFYEAR], 0)\n",
    "#     df[f'mug_{WEEKDAY}'] = np.where(df['product'] == 'Kaggle Mug', df[WEEKDAY], 0)\n",
    "#     df[f'hat_{MONTH}'] = np.where(df['product'] == 'Kaggle Hat', df[MONTH], 0)\n",
    "#     df[f'hat_{WEEKOFYEAR}'] = np.where(df['product'] == 'Kaggle Hat', df[WEEKOFYEAR], 0)\n",
    "#     df[f'hat_{DAYOFYEAR}'] = np.where(df['product'] == 'Kaggle Hat', df[DAYOFYEAR], 0)\n",
    "#     df[f'hat_{WEEKDAY}'] = np.where(df['product'] == 'Kaggle Hat', df[WEEKDAY], 0)\n",
    "#     df[f'stick_{MONTH}'] = np.where(df['product'] == 'Kaggle Sticker', df[MONTH], 0)\n",
    "#     df[f'stick_{WEEKOFYEAR}'] = np.where(df['product'] == 'Kaggle Sticker', df[WEEKOFYEAR], 0)\n",
    "#     df[f'stick_{DAYOFYEAR}'] = np.where(df['product'] == 'Kaggle Sticker', df[DAYOFYEAR], 0)\n",
    "#     df[f'stick_{WEEKDAY}'] = np.where(df['product'] == 'Kaggle Sticker', df[WEEKDAY], 0)\n",
    "\n",
    "#     df = df.drop(columns=[DAYOFYEAR]) #MONTH, WEEKOFYEAR, WEEKDAY\n",
    "\n",
    "    return df\n",
    "\n",
    "def feature_periodic(df):\n",
    "    # 21 days cyclic for lunar\n",
    "    # 21 4.244872419046287 31 4.23870 37 4.2359085545955875 47 4.24590382934362 39 4.236812122257115 \n",
    "    # 35 4.2358561209794665 33 4.237682217183017 36 4.230652791910613 3 4.241000488616227 4.23833321067532\n",
    "    #[7, 14, 21, 28, 30, 31, 91] range(1, 32, 4) range(1,3,1)[1,2,4]\n",
    "    # Long term periodic\n",
    "    dayofyear = df.date.dt.dayofyear\n",
    "    j=-36\n",
    "    for k in [2]:\n",
    "        df = pd.concat([df,\n",
    "                        pd.DataFrame({\n",
    "                            f\"sin{k}\": np.sin((dayofyear+j) / 365 * 1 * math.pi * k),\n",
    "                            f\"cos{k}\": np.cos((dayofyear+j) / 365 * 1 * math.pi * k),\n",
    "                                     })], axis=1)\n",
    "        # Products\n",
    "        df[f'mug_sin{k}'] = np.where(df['product'] == 'Kaggle Mug', df[f'sin{k}'], 0)\n",
    "        df[f'mug_cos{k}'] = np.where(df['product'] == 'Kaggle Mug', df[f'cos{k}'], 0)\n",
    "        df[f'hat_sin{k}'] = np.where(df['product'] == 'Kaggle Hat', df[f'sin{k}'], 0)\n",
    "        df[f'hat_cos{k}'] = np.where(df['product'] == 'Kaggle Hat', df[f'cos{k}'], 0)\n",
    "        df[f'stick_sin{k}'] = np.where(df['product'] == 'Kaggle Sticker', df[f'sin{k}'], 0)\n",
    "        df[f'stick_cos{k}'] = np.where(df['product'] == 'Kaggle Sticker', df[f'cos{k}'], 0)\n",
    "        df = df.drop(columns=[f'sin{k}', f'cos{k}'])\n",
    "\n",
    "    # Short term Periodic\n",
    "    weekday = df.date.dt.weekday\n",
    "    df[f'weekly_sin'] = np.sin((1 / 7) * 2 * math.pi*(weekday+1)) #+\n",
    "    df[f'weekly_cos'] = np.cos((1 / 7) * 2 * math.pi*(weekday+1)) #+\n",
    "    df[f'semiweekly_sin'] = np.sin((1 / 7) * 4 * math.pi*(dayofyear-1.5)) #+ ⁅sin(1/7 𝜋⋅4(𝑥−2))⁆\n",
    "    df[f'semiweekly_cos'] = np.cos((1 / 7) * 4 * math.pi*(dayofyear-1.5)) #+ ⁅cos(1/7 𝜋⋅4𝑥)⁆\n",
    "    \n",
    "    df[f'fin_weekly_sin'] = np.where(df['country'] == 'Finland', df[f'weekly_sin'], 0)\n",
    "    df[f'fin_weekly_cos'] = np.where(df['country'] == 'Finland', df[f'weekly_cos'], 0)\n",
    "    df[f'nor_weekly_sin'] = np.where(df['country'] == 'Norway', df[f'weekly_sin'], 0)\n",
    "    df[f'nor_weekly_cos'] = np.where(df['country'] == 'Norway', df[f'weekly_cos'], 0)\n",
    "    df[f'swe_weekly_sin'] = np.where(df['country'] == 'Sweden', df[f'weekly_sin'], 0)\n",
    "    df[f'swe_weekly_cos'] = np.where(df['country'] == 'Sweden', df[f'weekly_cos'], 0)\n",
    "    \n",
    "    df[f'mug_weekly_sin'] = np.where(df['product'] == 'Kaggle Mug', df[f'weekly_sin'], 0)\n",
    "    df[f'mug_weekly_cos'] = np.where(df['product'] == 'Kaggle Mug', df[f'weekly_cos'], 0)\n",
    "    df[f'hat_weekly_sin'] = np.where(df['product'] == 'Kaggle Hat', df[f'weekly_sin'], 0)\n",
    "    df[f'hat_weekly_cos'] = np.where(df['product'] == 'Kaggle Hat', df[f'weekly_cos'], 0)\n",
    "    df[f'stick_weekly_sin'] = np.where(df['product'] == 'Kaggle Sticker', df[f'weekly_sin'], 0)\n",
    "    df[f'stick_weekly_cos'] = np.where(df['product'] == 'Kaggle Sticker', df[f'weekly_cos'], 0)\n",
    "    \n",
    "    df[f'mug_semiweekly_sin'] = np.where(df['product'] == 'Kaggle Mug', df[f'semiweekly_sin'], 0)\n",
    "    df[f'mug_semiweekly_cos'] = np.where(df['product'] == 'Kaggle Mug', df[f'semiweekly_cos'], 0)\n",
    "    df[f'hat_semiweekly_sin'] = np.where(df['product'] == 'Kaggle Hat', df[f'semiweekly_sin'], 0)\n",
    "    df[f'hat_semiweekly_cos'] = np.where(df['product'] == 'Kaggle Hat', df[f'semiweekly_cos'], 0)\n",
    "    df[f'stick_semiweekly_sin'] = np.where(df['product'] == 'Kaggle Sticker', df[f'semiweekly_sin'], 0)\n",
    "    df[f'stick_semiweekly_cos'] = np.where(df['product'] == 'Kaggle Sticker', df[f'semiweekly_cos'], 0)\n",
    "    \n",
    "    df = df.drop(columns=['weekly_sin', 'weekly_cos', 'semiweekly_sin', 'semiweekly_cos'])\n",
    "    \n",
    "#     df[f'semiannual_sin'] = np.sin(dayofyear / 182.5 * 2 * math.pi)\n",
    "#     df[f'semiannual_cos'] = np.cos(dayofyear / 182.5 * 2 * math.pi)\n",
    "    \n",
    "    return df\n",
    "\n",
    "def feature_holiday(df):\n",
    "# Dec Jan\n",
    "    # End of year\n",
    "    df = pd.concat([df,\n",
    "                        pd.DataFrame({f\"f-dec{d}\":\n",
    "                                      (df.date.dt.month == 12) & (df.date.dt.day == d) & (df.country == 'Finland')\n",
    "                                      for d in range(24, 32)}),\n",
    "                        pd.DataFrame({f\"n-dec{d}\":\n",
    "                                      (df.date.dt.month == 12) & (df.date.dt.day == d) & (df.country == 'Norway')\n",
    "                                      for d in range(24, 32)}),\n",
    "                        pd.DataFrame({f\"s-dec{d}\":\n",
    "                                      (df.date.dt.month == 12) & (df.date.dt.day == d) & (df.country == 'Sweden')\n",
    "                                      for d in range(24, 32)}),\n",
    "                        pd.DataFrame({f\"f-jan{d}\":\n",
    "                                      (df.date.dt.month == 1) & (df.date.dt.day == d) & (df.country == 'Finland')\n",
    "                                      for d in range(1, 14)}),\n",
    "                        pd.DataFrame({f\"n-jan{d}\":\n",
    "                                      (df.date.dt.month == 1) & (df.date.dt.day == d) & (df.country == 'Norway')\n",
    "                                      for d in range(1, 10)}),\n",
    "                        pd.DataFrame({f\"s-jan{d}\":\n",
    "                                      (df.date.dt.month == 1) & (df.date.dt.day == d) & (df.country == 'Sweden')\n",
    "                                      for d in range(1, 15)})\n",
    "                       ], axis=1)\n",
    "        \n",
    "    # May\n",
    "    df = pd.concat([df,\n",
    "                        pd.DataFrame({f\"may{d}\":\n",
    "                                      (df.date.dt.month == 5) & (df.date.dt.day == d) \n",
    "                                      for d in list(range(1, 10))}),\n",
    "                        pd.DataFrame({f\"may{d}\":\n",
    "                                      (df.date.dt.month == 5) & (df.date.dt.day == d) & \n",
    "                                      (df.country == 'Norway')\n",
    "                                      for d in list(range(18, 28))})\n",
    "                        ], axis=1)\n",
    "    \n",
    "    # June and July 8, 14\n",
    "    df = pd.concat([df,\n",
    "                        pd.DataFrame({f\"june{d}\":\n",
    "                                      (df.date.dt.month == 6) & (df.date.dt.day == d) & \n",
    "                                      (df.country == 'Sweden')\n",
    "                                      for d in list(range(8, 14))}),\n",
    "                       ], axis=1)\n",
    "    # Last Wednesday of June\n",
    "    wed_june_date = df.date.dt.year.map({2015: pd.Timestamp(('2015-06-24')),\n",
    "                                         2016: pd.Timestamp(('2016-06-29')),\n",
    "                                         2017: pd.Timestamp(('2017-06-28')),\n",
    "                                         2018: pd.Timestamp(('2018-06-27')),\n",
    "                                         2019: pd.Timestamp(('2019-06-26'))})\n",
    "    df = pd.concat([df, pd.DataFrame({f\"wed_june{d}\": \n",
    "                                      (df.date - wed_june_date == np.timedelta64(d, \"D\")) & \n",
    "                                      (df.country != 'Norway')\n",
    "                                      for d in list(range(-4, 6))})], axis=1)\n",
    "\n",
    "    # First Sunday of November\n",
    "    sun_nov_date = df.date.dt.year.map({2015: pd.Timestamp(('2015-11-1')),\n",
    "                                         2016: pd.Timestamp(('2016-11-6')),\n",
    "                                         2017: pd.Timestamp(('2017-11-5')),\n",
    "                                         2018: pd.Timestamp(('2018-11-4')),\n",
    "                                         2019: pd.Timestamp(('2019-11-3'))})\n",
    "    df = pd.concat([df, pd.DataFrame({f\"sun_nov{d}\":\n",
    "                                      (df.date - sun_nov_date == np.timedelta64(d, \"D\")) & (df.country == 'Norway')\n",
    "                                      for d in list(range(0, 9))})], axis=1)\n",
    "    # First half of December (Independence Day of Finland, 6th of December)\n",
    "    df = pd.concat([df, pd.DataFrame({f\"dec{d}\":\n",
    "                                      (df.date.dt.month == 12) & (df.date.dt.day == d) & (df.country == 'Finland')\n",
    "                                      for d in list(range(6, 14))})], axis=1)\n",
    "    # Easter April\n",
    "    easter_date = df.date.apply(lambda date: pd.Timestamp(easter.easter(date.year)))\n",
    "    df = pd.concat([df, pd.DataFrame({f\"easter{d}\":\n",
    "                                      (df.date - easter_date == np.timedelta64(d, \"D\"))\n",
    "                                      for d in list(range(-2, 11)) + list(range(40, 48)) + list(range(50, 59))})], axis=1)\n",
    "    return df"
   ]
  },
  {
   "cell_type": "code",
   "execution_count": 28,
   "id": "118c76c6-85fd-42ce-99d5-32f0aa5a7c97",
   "metadata": {},
   "outputs": [],
   "source": [
    "def temporal_engineering(df):\n",
    "    df = get_basic_ts_features(df)\n",
    "    df = feature_splines(df)\n",
    "    df = feature_periodic(df)\n",
    "    df = feature_holiday(df)\n",
    "    df = unofficial_holiday(df)\n",
    "    return df.copy()"
   ]
  },
  {
   "cell_type": "code",
   "execution_count": 29,
   "id": "782e4912-fd39-4f15-a440-47ed10fd80e8",
   "metadata": {},
   "outputs": [],
   "source": [
    "# # Old feature engineering function\n",
    "\n",
    "# def temporal_engineering(df):\n",
    "#     '''\n",
    "#     Function inspired by / borrowing from @teckmengwong and @ambrosm to create time features that will\n",
    "#     capture seasonality.\n",
    "#     '''\n",
    "    \n",
    "# #     df[YEAR] = df[DATE].dt.year\n",
    "#     df['month'] = df['date'].dt.month\n",
    "# #     df['week'] = df['date'].dt.week # not used by Teck Meng Wong\n",
    "# #     df['day'] = df['date'].dt.day # not used by Teck Meng Wong\n",
    "# #     df['day_of_year'] = df['date'].dt.dayofyear # not used by Teck Meng Wong\n",
    "# #     df['day_of_month'] = df['date'].dt.days_in_month # not used by Teck Meng Wong\n",
    "# #     df['day_of_week'] = df['date'].dt.dayofweek # not used by Teck Meng Wong\n",
    "# #    df['weekday'] = df['date'].dt.weekday # not used by Teck Meng Wong\n",
    "#     # Teck Meng Wong mapped the integers to first-letters in triplets\n",
    "#     # I'm leaving it as integers, where winter=1, spring=2, summer=3, fall=4\n",
    "#     df['season'] = ((df['date'].dt.month % 12 + 3) // 3) #.map({1:'DJF', 2: 'MAM', 3:'JJA', 4:'SON'})\n",
    "# #     df['month'] = df['month'].apply(lambda x: calendar.month_abbr[x])\n",
    "\n",
    "#     df['wd4'] = df['date'].dt.weekday == 4\n",
    "#     df['wd56'] = df['date'].dt.weekday >= 5\n",
    "# #     df['wd6'] = df['date'].dt.weekday >= 6\n",
    "# #     df.loc[(df.date.dt.year != 2016) & (df.date.dt.month >=3), 'day_of_year'] += 1 # fix for leap years\n",
    "    \n",
    "#     # 21 days cyclic for lunar\n",
    "#     dayofyear = df.date.dt.dayofyear # for convenience\n",
    "    \n",
    "#     # here he's creating Fourier features\n",
    "#     for k in range(1, 32, 4):\n",
    "#         df[f'sin{k}'] = np.sin(dayofyear / 365 * 2 * math.pi * k)\n",
    "#         df[f'cos{k}'] = np.cos(dayofyear / 365 * 2 * math.pi * k)\n",
    "#         df[f'finland_sin{k}'] = np.where(df['country'] == 'Finland', df[f'sin{k}'], 0)\n",
    "#         df[f'finland_cos{k}'] = np.where(df['country'] == 'Finland', df[f'cos{k}'], 0)\n",
    "#         df[f'norway_sin{k}'] = np.where(df['country'] == 'Norway', df[f'sin{k}'], 0)\n",
    "#         df[f'norway_cos{k}'] = np.where(df['country'] == 'Norway', df[f'cos{k}'], 0)\n",
    "#         df[f'store_sin{k}'] = np.where(df['store'] == 'KaggleMart', df[f'sin{k}'], 0)\n",
    "#         df[f'store_cos{k}'] = np.where(df['store'] == 'KaggleMart', df[f'cos{k}'], 0)\n",
    "#         df[f'mug_sin{k}'] = np.where(df['product'] == 'Kaggle Mug', df[f'sin{k}'], 0)\n",
    "#         df[f'mug_cos{k}'] = np.where(df['product'] == 'Kaggle Mug', df[f'cos{k}'], 0)\n",
    "#         df[f'sticker_sin{k}'] = np.where(df['product'] == 'Kaggle Sticker', df[f'sin{k}'], 0)\n",
    "#         df[f'sticker_cos{k}'] = np.where(df['product'] == 'Kaggle Sticker', df[f'cos{k}'], 0)\n",
    "    \n",
    "# #     df[f'semiweekly_sin'] = np.sin(dayofyear / 365 * 2 * math.pi * 14)\n",
    "# #     df[f'semiweekly_cos'] = np.cos(dayofyear / 365 * 2 * math.pi * 14)\n",
    "# #     df[f'lunar_sin'] = np.sin(dayofyear / 365 * 2 * math.pi * 21)\n",
    "# #     df[f'lunar_cos'] = np.cos(dayofyear / 365 * 2 * math.pi * 21)\n",
    "#     df[f'season_sin'] = np.sin(dayofyear / 365 * 2 * math.pi * 91.5)\n",
    "#     df[f'season_cos'] = np.cos(dayofyear / 365 * 2 * math.pi * 91.5)\n",
    "# #     df = pd.concat([df, pd.DataFrame({f'fin{ptr[1]}':\n",
    "# #                                       (df.date == pd.Timestamp(ptr[0])) & (df.country == 'Finland')\n",
    "# #                                       for ptr in holidays.Finland(years = [2015,2016,2017,2018,2019]).items()})], axis=1)\n",
    "# #     df = pd.concat([df, pd.DataFrame({f'nor{ptr[1]}':\n",
    "# #                                       (df.date == pd.Timestamp(ptr[0])) & (df.country == 'Norway')\n",
    "# #                                       for ptr in holidays.Norway(years = [2015,2016,2017,2018,2019]).items()})], axis=1)\n",
    "# #     df = pd.concat([df, pd.DataFrame({f'swe{ptr[1]}':\n",
    "# #                                       (df.date == pd.Timestamp(ptr[0])) & (df.country == 'Sweden')\n",
    "# #                                       for ptr in holidays.Sweden(years = [2015,2016,2017,2018,2019]).items()})], axis=1)\n",
    "\n",
    "#     # End of year\n",
    "#     # Dec - teckmengwong\n",
    "#     for d in range(24, 32):\n",
    "#         df[f\"dec{d}\"] = (df.date.dt.month == 12) & (df.date.dt.day == d)\n",
    "#     # I'm unsure of the logic of only doing this for Norway\n",
    "#     for d in range(24, 32):\n",
    "#         df[f\"n-dec{d}\"] = (df.date.dt.month == 12) & (df.date.dt.day == d) & (df.country == 'Norway')\n",
    "    \n",
    "#     # not sure why he's using different date ranges for each country here\n",
    "#     # Jan - teckmengwong\n",
    "#     for d in range(1, 14):\n",
    "#         df[f\"f-jan{d}\"] = (df.date.dt.month == 1) & (df.date.dt.day == d) & (df.country == 'Finland')\n",
    "#     for d in range(1, 10):\n",
    "#         df[f\"n-jan{d}\"] = (df.date.dt.month == 1) & (df.date.dt.day == d) & (df.country == 'Norway')\n",
    "#     for d in range(1, 15):\n",
    "#         df[f\"s-jan{d}\"] = (df.date.dt.month == 1) & (df.date.dt.day == d) & (df.country == 'Sweden')\n",
    "    \n",
    "    \n",
    "#     # May - tekcmengwong\n",
    "#     for d in list(range(1, 10)): # May Day and after, I guess\n",
    "#         df[f\"may{d}\"] = (df.date.dt.month == 5) & (df.date.dt.day == d)\n",
    "#     for d in list(range(19, 26)):\n",
    "#         df[f\"may{d}\"] = (df.date.dt.month == 5) & (df.date.dt.day == d) & (df.country == 'Norway')\n",
    "#     # June \n",
    "#     for d in list(range(8, 14)):\n",
    "#         df[f\"june{d}\"] = (df.date.dt.month == 6) & (df.date.dt.day == d) & (df.country == 'Sweden')\n",
    "    \n",
    "#     #Swedish Rock Concert - teckmengwong\n",
    "#     #Jun 3, 2015 – Jun 6, 2015\n",
    "#     #Jun 8, 2016 – Jun 11, 2016\n",
    "#     #Jun 7, 2017 – Jun 10, 2017\n",
    "#     #Jun 6, 2018 – Jun 10, 2018\n",
    "#     #Jun 5, 2019 – Jun 8, 2019\n",
    "#     swed_rock_fest  = df.date.dt.year.map({2015: pd.Timestamp(('2015-06-6')),\n",
    "#                                          2016: pd.Timestamp(('2016-06-11')),\n",
    "#                                          2017: pd.Timestamp(('2017-06-10')),\n",
    "#                                          2018: pd.Timestamp(('2018-06-10')),\n",
    "#                                          2019: pd.Timestamp(('2019-06-8'))})\n",
    "\n",
    "#     df = pd.concat([df, pd.DataFrame({f\"swed_rock_fest{d}\":\n",
    "#                                       (df.date - swed_rock_fest == np.timedelta64(d, \"D\")) & (df.country == 'Sweden')\n",
    "#                                       for d in list(range(-3, 3))})], axis=1)\n",
    "\n",
    "    \n",
    "#     # Last Wednesday of June - teckmengwong\n",
    "#     wed_june_date = df.date.dt.year.map({2015: pd.Timestamp(('2015-06-24')),\n",
    "#                                          2016: pd.Timestamp(('2016-06-29')),\n",
    "#                                          2017: pd.Timestamp(('2017-06-28')),\n",
    "#                                          2018: pd.Timestamp(('2018-06-27')),\n",
    "#                                          2019: pd.Timestamp(('2019-06-26'))})\n",
    "#     for d in list(range(-4, 6)):\n",
    "#         df[f\"wed_june{d}\"] = (df.date - wed_june_date == np.timedelta64(d, \"D\")) & (df.country != 'Norway')\n",
    "        \n",
    "#     # First Sunday of November - teckmengwong\n",
    "#     sun_nov_date = df.date.dt.year.map({2015: pd.Timestamp(('2015-11-1')),\n",
    "#                                          2016: pd.Timestamp(('2016-11-6')),\n",
    "#                                          2017: pd.Timestamp(('2017-11-5')),\n",
    "#                                          2018: pd.Timestamp(('2018-11-4')),\n",
    "#                                          2019: pd.Timestamp(('2019-11-3'))})\n",
    "#     df = pd.concat([df, pd.DataFrame({f\"sun_nov{d}\":\n",
    "#                                       (df.date - sun_nov_date == np.timedelta64(d, \"D\")) & (df.country == 'Norway')\n",
    "#                                       for d in list(range(0, 9))})], axis=1)\n",
    "    \n",
    "#     # First half of December (Independence Day of Finland, 6th of December) -teckmengwong\n",
    "#     df = pd.concat([df, pd.DataFrame({f\"dec{d}\":\n",
    "#                                       (df.date.dt.month == 12) & (df.date.dt.day == d) & (df.country == 'Finland')\n",
    "#                                       for d in list(range(6, 14))})], axis=1)\n",
    "    \n",
    "#     # Easter -teckmengwong\n",
    "#     easter_date = df.date.apply(lambda date: pd.Timestamp(easter.easter(date.year)))\n",
    "#     df = pd.concat([df, pd.DataFrame({f\"easter{d}\":\n",
    "#                                       (df.date - easter_date == np.timedelta64(d, \"D\"))\n",
    "#                                       for d in list(range(-2, 11)) + list(range(40, 48)) + list(range(50, 59))})], axis=1)\n",
    "    \n",
    "#     return df"
   ]
  },
  {
   "cell_type": "code",
   "execution_count": 30,
   "id": "b0fb99a9-079a-4248-9d21-958813626510",
   "metadata": {},
   "outputs": [],
   "source": [
    "temporal_all_df = temporal_engineering(all_df)"
   ]
  },
  {
   "cell_type": "code",
   "execution_count": 31,
   "id": "4e43b0b9-6388-4237-a7f4-7ae8db65d604",
   "metadata": {},
   "outputs": [
    {
     "data": {
      "text/html": [
       "<div>\n",
       "<style scoped>\n",
       "    .dataframe tbody tr th:only-of-type {\n",
       "        vertical-align: middle;\n",
       "    }\n",
       "\n",
       "    .dataframe tbody tr th {\n",
       "        vertical-align: top;\n",
       "    }\n",
       "\n",
       "    .dataframe thead th {\n",
       "        text-align: right;\n",
       "    }\n",
       "</style>\n",
       "<table border=\"1\" class=\"dataframe\">\n",
       "  <thead>\n",
       "    <tr style=\"text-align: right;\">\n",
       "      <th></th>\n",
       "      <th>row_id</th>\n",
       "      <th>date</th>\n",
       "      <th>country</th>\n",
       "      <th>store</th>\n",
       "      <th>product</th>\n",
       "      <th>num_sold</th>\n",
       "      <th>gdp</th>\n",
       "      <th>wd0</th>\n",
       "      <th>wd1</th>\n",
       "      <th>wd2</th>\n",
       "      <th>...</th>\n",
       "      <th>easter50</th>\n",
       "      <th>easter51</th>\n",
       "      <th>easter52</th>\n",
       "      <th>easter53</th>\n",
       "      <th>easter54</th>\n",
       "      <th>easter55</th>\n",
       "      <th>easter56</th>\n",
       "      <th>easter57</th>\n",
       "      <th>easter58</th>\n",
       "      <th>holiday</th>\n",
       "    </tr>\n",
       "  </thead>\n",
       "  <tbody>\n",
       "    <tr>\n",
       "      <th>0</th>\n",
       "      <td>0</td>\n",
       "      <td>2015-01-01</td>\n",
       "      <td>Finland</td>\n",
       "      <td>KaggleMart</td>\n",
       "      <td>Kaggle Mug</td>\n",
       "      <td>329.0</td>\n",
       "      <td>5.461456</td>\n",
       "      <td>False</td>\n",
       "      <td>False</td>\n",
       "      <td>False</td>\n",
       "      <td>...</td>\n",
       "      <td>False</td>\n",
       "      <td>False</td>\n",
       "      <td>False</td>\n",
       "      <td>False</td>\n",
       "      <td>False</td>\n",
       "      <td>False</td>\n",
       "      <td>False</td>\n",
       "      <td>False</td>\n",
       "      <td>False</td>\n",
       "      <td>1</td>\n",
       "    </tr>\n",
       "    <tr>\n",
       "      <th>1</th>\n",
       "      <td>1</td>\n",
       "      <td>2015-01-01</td>\n",
       "      <td>Finland</td>\n",
       "      <td>KaggleMart</td>\n",
       "      <td>Kaggle Hat</td>\n",
       "      <td>520.0</td>\n",
       "      <td>5.461456</td>\n",
       "      <td>False</td>\n",
       "      <td>False</td>\n",
       "      <td>False</td>\n",
       "      <td>...</td>\n",
       "      <td>False</td>\n",
       "      <td>False</td>\n",
       "      <td>False</td>\n",
       "      <td>False</td>\n",
       "      <td>False</td>\n",
       "      <td>False</td>\n",
       "      <td>False</td>\n",
       "      <td>False</td>\n",
       "      <td>False</td>\n",
       "      <td>1</td>\n",
       "    </tr>\n",
       "    <tr>\n",
       "      <th>2</th>\n",
       "      <td>2</td>\n",
       "      <td>2015-01-01</td>\n",
       "      <td>Finland</td>\n",
       "      <td>KaggleMart</td>\n",
       "      <td>Kaggle Sticker</td>\n",
       "      <td>146.0</td>\n",
       "      <td>5.461456</td>\n",
       "      <td>False</td>\n",
       "      <td>False</td>\n",
       "      <td>False</td>\n",
       "      <td>...</td>\n",
       "      <td>False</td>\n",
       "      <td>False</td>\n",
       "      <td>False</td>\n",
       "      <td>False</td>\n",
       "      <td>False</td>\n",
       "      <td>False</td>\n",
       "      <td>False</td>\n",
       "      <td>False</td>\n",
       "      <td>False</td>\n",
       "      <td>1</td>\n",
       "    </tr>\n",
       "    <tr>\n",
       "      <th>3</th>\n",
       "      <td>3</td>\n",
       "      <td>2015-01-01</td>\n",
       "      <td>Finland</td>\n",
       "      <td>KaggleRama</td>\n",
       "      <td>Kaggle Mug</td>\n",
       "      <td>572.0</td>\n",
       "      <td>5.461456</td>\n",
       "      <td>False</td>\n",
       "      <td>False</td>\n",
       "      <td>False</td>\n",
       "      <td>...</td>\n",
       "      <td>False</td>\n",
       "      <td>False</td>\n",
       "      <td>False</td>\n",
       "      <td>False</td>\n",
       "      <td>False</td>\n",
       "      <td>False</td>\n",
       "      <td>False</td>\n",
       "      <td>False</td>\n",
       "      <td>False</td>\n",
       "      <td>1</td>\n",
       "    </tr>\n",
       "    <tr>\n",
       "      <th>4</th>\n",
       "      <td>4</td>\n",
       "      <td>2015-01-01</td>\n",
       "      <td>Finland</td>\n",
       "      <td>KaggleRama</td>\n",
       "      <td>Kaggle Hat</td>\n",
       "      <td>911.0</td>\n",
       "      <td>5.461456</td>\n",
       "      <td>False</td>\n",
       "      <td>False</td>\n",
       "      <td>False</td>\n",
       "      <td>...</td>\n",
       "      <td>False</td>\n",
       "      <td>False</td>\n",
       "      <td>False</td>\n",
       "      <td>False</td>\n",
       "      <td>False</td>\n",
       "      <td>False</td>\n",
       "      <td>False</td>\n",
       "      <td>False</td>\n",
       "      <td>False</td>\n",
       "      <td>1</td>\n",
       "    </tr>\n",
       "    <tr>\n",
       "      <th>...</th>\n",
       "      <td>...</td>\n",
       "      <td>...</td>\n",
       "      <td>...</td>\n",
       "      <td>...</td>\n",
       "      <td>...</td>\n",
       "      <td>...</td>\n",
       "      <td>...</td>\n",
       "      <td>...</td>\n",
       "      <td>...</td>\n",
       "      <td>...</td>\n",
       "      <td>...</td>\n",
       "      <td>...</td>\n",
       "      <td>...</td>\n",
       "      <td>...</td>\n",
       "      <td>...</td>\n",
       "      <td>...</td>\n",
       "      <td>...</td>\n",
       "      <td>...</td>\n",
       "      <td>...</td>\n",
       "      <td>...</td>\n",
       "      <td>...</td>\n",
       "    </tr>\n",
       "    <tr>\n",
       "      <th>6565</th>\n",
       "      <td>32863</td>\n",
       "      <td>2019-12-31</td>\n",
       "      <td>Sweden</td>\n",
       "      <td>KaggleMart</td>\n",
       "      <td>Kaggle Hat</td>\n",
       "      <td>NaN</td>\n",
       "      <td>6.282042</td>\n",
       "      <td>False</td>\n",
       "      <td>True</td>\n",
       "      <td>False</td>\n",
       "      <td>...</td>\n",
       "      <td>False</td>\n",
       "      <td>False</td>\n",
       "      <td>False</td>\n",
       "      <td>False</td>\n",
       "      <td>False</td>\n",
       "      <td>False</td>\n",
       "      <td>False</td>\n",
       "      <td>False</td>\n",
       "      <td>False</td>\n",
       "      <td>0</td>\n",
       "    </tr>\n",
       "    <tr>\n",
       "      <th>6566</th>\n",
       "      <td>32864</td>\n",
       "      <td>2019-12-31</td>\n",
       "      <td>Sweden</td>\n",
       "      <td>KaggleMart</td>\n",
       "      <td>Kaggle Sticker</td>\n",
       "      <td>NaN</td>\n",
       "      <td>6.282042</td>\n",
       "      <td>False</td>\n",
       "      <td>True</td>\n",
       "      <td>False</td>\n",
       "      <td>...</td>\n",
       "      <td>False</td>\n",
       "      <td>False</td>\n",
       "      <td>False</td>\n",
       "      <td>False</td>\n",
       "      <td>False</td>\n",
       "      <td>False</td>\n",
       "      <td>False</td>\n",
       "      <td>False</td>\n",
       "      <td>False</td>\n",
       "      <td>0</td>\n",
       "    </tr>\n",
       "    <tr>\n",
       "      <th>6567</th>\n",
       "      <td>32865</td>\n",
       "      <td>2019-12-31</td>\n",
       "      <td>Sweden</td>\n",
       "      <td>KaggleRama</td>\n",
       "      <td>Kaggle Mug</td>\n",
       "      <td>NaN</td>\n",
       "      <td>6.282042</td>\n",
       "      <td>False</td>\n",
       "      <td>True</td>\n",
       "      <td>False</td>\n",
       "      <td>...</td>\n",
       "      <td>False</td>\n",
       "      <td>False</td>\n",
       "      <td>False</td>\n",
       "      <td>False</td>\n",
       "      <td>False</td>\n",
       "      <td>False</td>\n",
       "      <td>False</td>\n",
       "      <td>False</td>\n",
       "      <td>False</td>\n",
       "      <td>0</td>\n",
       "    </tr>\n",
       "    <tr>\n",
       "      <th>6568</th>\n",
       "      <td>32866</td>\n",
       "      <td>2019-12-31</td>\n",
       "      <td>Sweden</td>\n",
       "      <td>KaggleRama</td>\n",
       "      <td>Kaggle Hat</td>\n",
       "      <td>NaN</td>\n",
       "      <td>6.282042</td>\n",
       "      <td>False</td>\n",
       "      <td>True</td>\n",
       "      <td>False</td>\n",
       "      <td>...</td>\n",
       "      <td>False</td>\n",
       "      <td>False</td>\n",
       "      <td>False</td>\n",
       "      <td>False</td>\n",
       "      <td>False</td>\n",
       "      <td>False</td>\n",
       "      <td>False</td>\n",
       "      <td>False</td>\n",
       "      <td>False</td>\n",
       "      <td>0</td>\n",
       "    </tr>\n",
       "    <tr>\n",
       "      <th>6569</th>\n",
       "      <td>32867</td>\n",
       "      <td>2019-12-31</td>\n",
       "      <td>Sweden</td>\n",
       "      <td>KaggleRama</td>\n",
       "      <td>Kaggle Sticker</td>\n",
       "      <td>NaN</td>\n",
       "      <td>6.282042</td>\n",
       "      <td>False</td>\n",
       "      <td>True</td>\n",
       "      <td>False</td>\n",
       "      <td>...</td>\n",
       "      <td>False</td>\n",
       "      <td>False</td>\n",
       "      <td>False</td>\n",
       "      <td>False</td>\n",
       "      <td>False</td>\n",
       "      <td>False</td>\n",
       "      <td>False</td>\n",
       "      <td>False</td>\n",
       "      <td>False</td>\n",
       "      <td>0</td>\n",
       "    </tr>\n",
       "  </tbody>\n",
       "</table>\n",
       "<p>32868 rows × 208 columns</p>\n",
       "</div>"
      ],
      "text/plain": [
       "      row_id       date  country       store         product  num_sold  \\\n",
       "0          0 2015-01-01  Finland  KaggleMart      Kaggle Mug     329.0   \n",
       "1          1 2015-01-01  Finland  KaggleMart      Kaggle Hat     520.0   \n",
       "2          2 2015-01-01  Finland  KaggleMart  Kaggle Sticker     146.0   \n",
       "3          3 2015-01-01  Finland  KaggleRama      Kaggle Mug     572.0   \n",
       "4          4 2015-01-01  Finland  KaggleRama      Kaggle Hat     911.0   \n",
       "...      ...        ...      ...         ...             ...       ...   \n",
       "6565   32863 2019-12-31   Sweden  KaggleMart      Kaggle Hat       NaN   \n",
       "6566   32864 2019-12-31   Sweden  KaggleMart  Kaggle Sticker       NaN   \n",
       "6567   32865 2019-12-31   Sweden  KaggleRama      Kaggle Mug       NaN   \n",
       "6568   32866 2019-12-31   Sweden  KaggleRama      Kaggle Hat       NaN   \n",
       "6569   32867 2019-12-31   Sweden  KaggleRama  Kaggle Sticker       NaN   \n",
       "\n",
       "           gdp    wd0    wd1    wd2  ...  easter50  easter51  easter52  \\\n",
       "0     5.461456  False  False  False  ...     False     False     False   \n",
       "1     5.461456  False  False  False  ...     False     False     False   \n",
       "2     5.461456  False  False  False  ...     False     False     False   \n",
       "3     5.461456  False  False  False  ...     False     False     False   \n",
       "4     5.461456  False  False  False  ...     False     False     False   \n",
       "...        ...    ...    ...    ...  ...       ...       ...       ...   \n",
       "6565  6.282042  False   True  False  ...     False     False     False   \n",
       "6566  6.282042  False   True  False  ...     False     False     False   \n",
       "6567  6.282042  False   True  False  ...     False     False     False   \n",
       "6568  6.282042  False   True  False  ...     False     False     False   \n",
       "6569  6.282042  False   True  False  ...     False     False     False   \n",
       "\n",
       "      easter53  easter54  easter55  easter56  easter57  easter58  holiday  \n",
       "0        False     False     False     False     False     False        1  \n",
       "1        False     False     False     False     False     False        1  \n",
       "2        False     False     False     False     False     False        1  \n",
       "3        False     False     False     False     False     False        1  \n",
       "4        False     False     False     False     False     False        1  \n",
       "...        ...       ...       ...       ...       ...       ...      ...  \n",
       "6565     False     False     False     False     False     False        0  \n",
       "6566     False     False     False     False     False     False        0  \n",
       "6567     False     False     False     False     False     False        0  \n",
       "6568     False     False     False     False     False     False        0  \n",
       "6569     False     False     False     False     False     False        0  \n",
       "\n",
       "[32868 rows x 208 columns]"
      ]
     },
     "execution_count": 31,
     "metadata": {},
     "output_type": "execute_result"
    }
   ],
   "source": [
    "temporal_all_df"
   ]
  },
  {
   "cell_type": "markdown",
   "id": "7e4077ce-11b3-4536-947b-cb464653dde3",
   "metadata": {},
   "source": [
    "At this point, the `temporal_all_df` DataFrame contains all the time features for both the training and testing sets.\n",
    "* **Todo**: consider not only adding in holidays from `holidays`, but also borrowing ideas from the AmbrosM Linear notebook too (which creates fewer features, populating them instead with temporal distances from the selected holidays)."
   ]
  },
  {
   "cell_type": "markdown",
   "id": "f9d96649-8a40-44d4-a449-2cd1ec31121f",
   "metadata": {},
   "source": [
    "### Target Transformation\n",
    "Now, I'll do the target transformation proposed by @AmbrosM. (I'll do it to the non-encoded DataFrame too, for testing with Prophet and NeuralProphet later.)"
   ]
  },
  {
   "cell_type": "code",
   "execution_count": 32,
   "id": "aa4deae1-898f-4bcb-a35c-60b55eeb9f56",
   "metadata": {},
   "outputs": [],
   "source": [
    "for df in [temporal_all_df]:\n",
    "    df['target'] = np.log(df['num_sold'] / df['gdp']**gdp_exponent)"
   ]
  },
  {
   "cell_type": "code",
   "execution_count": 33,
   "id": "f60614b6-d87b-4630-960c-f469ac4b000e",
   "metadata": {},
   "outputs": [],
   "source": [
    "# encoded_all_df['target'] = np.log(encoded_all_df['num_sold'] / (encoded_all_df['gdp']**gdp_exponent))"
   ]
  },
  {
   "cell_type": "code",
   "execution_count": 34,
   "id": "85f623aa-d9bb-4cf4-8975-5598721a32aa",
   "metadata": {},
   "outputs": [
    {
     "data": {
      "text/html": [
       "<div>\n",
       "<style scoped>\n",
       "    .dataframe tbody tr th:only-of-type {\n",
       "        vertical-align: middle;\n",
       "    }\n",
       "\n",
       "    .dataframe tbody tr th {\n",
       "        vertical-align: top;\n",
       "    }\n",
       "\n",
       "    .dataframe thead th {\n",
       "        text-align: right;\n",
       "    }\n",
       "</style>\n",
       "<table border=\"1\" class=\"dataframe\">\n",
       "  <thead>\n",
       "    <tr style=\"text-align: right;\">\n",
       "      <th></th>\n",
       "      <th>row_id</th>\n",
       "      <th>date</th>\n",
       "      <th>country</th>\n",
       "      <th>store</th>\n",
       "      <th>product</th>\n",
       "      <th>num_sold</th>\n",
       "      <th>gdp</th>\n",
       "      <th>wd0</th>\n",
       "      <th>wd1</th>\n",
       "      <th>wd2</th>\n",
       "      <th>...</th>\n",
       "      <th>easter51</th>\n",
       "      <th>easter52</th>\n",
       "      <th>easter53</th>\n",
       "      <th>easter54</th>\n",
       "      <th>easter55</th>\n",
       "      <th>easter56</th>\n",
       "      <th>easter57</th>\n",
       "      <th>easter58</th>\n",
       "      <th>holiday</th>\n",
       "      <th>target</th>\n",
       "    </tr>\n",
       "  </thead>\n",
       "  <tbody>\n",
       "    <tr>\n",
       "      <th>0</th>\n",
       "      <td>0</td>\n",
       "      <td>2015-01-01</td>\n",
       "      <td>Finland</td>\n",
       "      <td>KaggleMart</td>\n",
       "      <td>Kaggle Mug</td>\n",
       "      <td>329.0</td>\n",
       "      <td>5.461456</td>\n",
       "      <td>False</td>\n",
       "      <td>False</td>\n",
       "      <td>False</td>\n",
       "      <td>...</td>\n",
       "      <td>False</td>\n",
       "      <td>False</td>\n",
       "      <td>False</td>\n",
       "      <td>False</td>\n",
       "      <td>False</td>\n",
       "      <td>False</td>\n",
       "      <td>False</td>\n",
       "      <td>False</td>\n",
       "      <td>1</td>\n",
       "      <td>3.738239</td>\n",
       "    </tr>\n",
       "    <tr>\n",
       "      <th>1</th>\n",
       "      <td>1</td>\n",
       "      <td>2015-01-01</td>\n",
       "      <td>Finland</td>\n",
       "      <td>KaggleMart</td>\n",
       "      <td>Kaggle Hat</td>\n",
       "      <td>520.0</td>\n",
       "      <td>5.461456</td>\n",
       "      <td>False</td>\n",
       "      <td>False</td>\n",
       "      <td>False</td>\n",
       "      <td>...</td>\n",
       "      <td>False</td>\n",
       "      <td>False</td>\n",
       "      <td>False</td>\n",
       "      <td>False</td>\n",
       "      <td>False</td>\n",
       "      <td>False</td>\n",
       "      <td>False</td>\n",
       "      <td>False</td>\n",
       "      <td>1</td>\n",
       "      <td>4.196010</td>\n",
       "    </tr>\n",
       "    <tr>\n",
       "      <th>2</th>\n",
       "      <td>2</td>\n",
       "      <td>2015-01-01</td>\n",
       "      <td>Finland</td>\n",
       "      <td>KaggleMart</td>\n",
       "      <td>Kaggle Sticker</td>\n",
       "      <td>146.0</td>\n",
       "      <td>5.461456</td>\n",
       "      <td>False</td>\n",
       "      <td>False</td>\n",
       "      <td>False</td>\n",
       "      <td>...</td>\n",
       "      <td>False</td>\n",
       "      <td>False</td>\n",
       "      <td>False</td>\n",
       "      <td>False</td>\n",
       "      <td>False</td>\n",
       "      <td>False</td>\n",
       "      <td>False</td>\n",
       "      <td>False</td>\n",
       "      <td>1</td>\n",
       "      <td>2.925788</td>\n",
       "    </tr>\n",
       "    <tr>\n",
       "      <th>3</th>\n",
       "      <td>3</td>\n",
       "      <td>2015-01-01</td>\n",
       "      <td>Finland</td>\n",
       "      <td>KaggleRama</td>\n",
       "      <td>Kaggle Mug</td>\n",
       "      <td>572.0</td>\n",
       "      <td>5.461456</td>\n",
       "      <td>False</td>\n",
       "      <td>False</td>\n",
       "      <td>False</td>\n",
       "      <td>...</td>\n",
       "      <td>False</td>\n",
       "      <td>False</td>\n",
       "      <td>False</td>\n",
       "      <td>False</td>\n",
       "      <td>False</td>\n",
       "      <td>False</td>\n",
       "      <td>False</td>\n",
       "      <td>False</td>\n",
       "      <td>1</td>\n",
       "      <td>4.291321</td>\n",
       "    </tr>\n",
       "    <tr>\n",
       "      <th>4</th>\n",
       "      <td>4</td>\n",
       "      <td>2015-01-01</td>\n",
       "      <td>Finland</td>\n",
       "      <td>KaggleRama</td>\n",
       "      <td>Kaggle Hat</td>\n",
       "      <td>911.0</td>\n",
       "      <td>5.461456</td>\n",
       "      <td>False</td>\n",
       "      <td>False</td>\n",
       "      <td>False</td>\n",
       "      <td>...</td>\n",
       "      <td>False</td>\n",
       "      <td>False</td>\n",
       "      <td>False</td>\n",
       "      <td>False</td>\n",
       "      <td>False</td>\n",
       "      <td>False</td>\n",
       "      <td>False</td>\n",
       "      <td>False</td>\n",
       "      <td>1</td>\n",
       "      <td>4.756724</td>\n",
       "    </tr>\n",
       "    <tr>\n",
       "      <th>...</th>\n",
       "      <td>...</td>\n",
       "      <td>...</td>\n",
       "      <td>...</td>\n",
       "      <td>...</td>\n",
       "      <td>...</td>\n",
       "      <td>...</td>\n",
       "      <td>...</td>\n",
       "      <td>...</td>\n",
       "      <td>...</td>\n",
       "      <td>...</td>\n",
       "      <td>...</td>\n",
       "      <td>...</td>\n",
       "      <td>...</td>\n",
       "      <td>...</td>\n",
       "      <td>...</td>\n",
       "      <td>...</td>\n",
       "      <td>...</td>\n",
       "      <td>...</td>\n",
       "      <td>...</td>\n",
       "      <td>...</td>\n",
       "      <td>...</td>\n",
       "    </tr>\n",
       "    <tr>\n",
       "      <th>6565</th>\n",
       "      <td>32863</td>\n",
       "      <td>2019-12-31</td>\n",
       "      <td>Sweden</td>\n",
       "      <td>KaggleMart</td>\n",
       "      <td>Kaggle Hat</td>\n",
       "      <td>NaN</td>\n",
       "      <td>6.282042</td>\n",
       "      <td>False</td>\n",
       "      <td>True</td>\n",
       "      <td>False</td>\n",
       "      <td>...</td>\n",
       "      <td>False</td>\n",
       "      <td>False</td>\n",
       "      <td>False</td>\n",
       "      <td>False</td>\n",
       "      <td>False</td>\n",
       "      <td>False</td>\n",
       "      <td>False</td>\n",
       "      <td>False</td>\n",
       "      <td>0</td>\n",
       "      <td>NaN</td>\n",
       "    </tr>\n",
       "    <tr>\n",
       "      <th>6566</th>\n",
       "      <td>32864</td>\n",
       "      <td>2019-12-31</td>\n",
       "      <td>Sweden</td>\n",
       "      <td>KaggleMart</td>\n",
       "      <td>Kaggle Sticker</td>\n",
       "      <td>NaN</td>\n",
       "      <td>6.282042</td>\n",
       "      <td>False</td>\n",
       "      <td>True</td>\n",
       "      <td>False</td>\n",
       "      <td>...</td>\n",
       "      <td>False</td>\n",
       "      <td>False</td>\n",
       "      <td>False</td>\n",
       "      <td>False</td>\n",
       "      <td>False</td>\n",
       "      <td>False</td>\n",
       "      <td>False</td>\n",
       "      <td>False</td>\n",
       "      <td>0</td>\n",
       "      <td>NaN</td>\n",
       "    </tr>\n",
       "    <tr>\n",
       "      <th>6567</th>\n",
       "      <td>32865</td>\n",
       "      <td>2019-12-31</td>\n",
       "      <td>Sweden</td>\n",
       "      <td>KaggleRama</td>\n",
       "      <td>Kaggle Mug</td>\n",
       "      <td>NaN</td>\n",
       "      <td>6.282042</td>\n",
       "      <td>False</td>\n",
       "      <td>True</td>\n",
       "      <td>False</td>\n",
       "      <td>...</td>\n",
       "      <td>False</td>\n",
       "      <td>False</td>\n",
       "      <td>False</td>\n",
       "      <td>False</td>\n",
       "      <td>False</td>\n",
       "      <td>False</td>\n",
       "      <td>False</td>\n",
       "      <td>False</td>\n",
       "      <td>0</td>\n",
       "      <td>NaN</td>\n",
       "    </tr>\n",
       "    <tr>\n",
       "      <th>6568</th>\n",
       "      <td>32866</td>\n",
       "      <td>2019-12-31</td>\n",
       "      <td>Sweden</td>\n",
       "      <td>KaggleRama</td>\n",
       "      <td>Kaggle Hat</td>\n",
       "      <td>NaN</td>\n",
       "      <td>6.282042</td>\n",
       "      <td>False</td>\n",
       "      <td>True</td>\n",
       "      <td>False</td>\n",
       "      <td>...</td>\n",
       "      <td>False</td>\n",
       "      <td>False</td>\n",
       "      <td>False</td>\n",
       "      <td>False</td>\n",
       "      <td>False</td>\n",
       "      <td>False</td>\n",
       "      <td>False</td>\n",
       "      <td>False</td>\n",
       "      <td>0</td>\n",
       "      <td>NaN</td>\n",
       "    </tr>\n",
       "    <tr>\n",
       "      <th>6569</th>\n",
       "      <td>32867</td>\n",
       "      <td>2019-12-31</td>\n",
       "      <td>Sweden</td>\n",
       "      <td>KaggleRama</td>\n",
       "      <td>Kaggle Sticker</td>\n",
       "      <td>NaN</td>\n",
       "      <td>6.282042</td>\n",
       "      <td>False</td>\n",
       "      <td>True</td>\n",
       "      <td>False</td>\n",
       "      <td>...</td>\n",
       "      <td>False</td>\n",
       "      <td>False</td>\n",
       "      <td>False</td>\n",
       "      <td>False</td>\n",
       "      <td>False</td>\n",
       "      <td>False</td>\n",
       "      <td>False</td>\n",
       "      <td>False</td>\n",
       "      <td>0</td>\n",
       "      <td>NaN</td>\n",
       "    </tr>\n",
       "  </tbody>\n",
       "</table>\n",
       "<p>32868 rows × 209 columns</p>\n",
       "</div>"
      ],
      "text/plain": [
       "      row_id       date  country       store         product  num_sold  \\\n",
       "0          0 2015-01-01  Finland  KaggleMart      Kaggle Mug     329.0   \n",
       "1          1 2015-01-01  Finland  KaggleMart      Kaggle Hat     520.0   \n",
       "2          2 2015-01-01  Finland  KaggleMart  Kaggle Sticker     146.0   \n",
       "3          3 2015-01-01  Finland  KaggleRama      Kaggle Mug     572.0   \n",
       "4          4 2015-01-01  Finland  KaggleRama      Kaggle Hat     911.0   \n",
       "...      ...        ...      ...         ...             ...       ...   \n",
       "6565   32863 2019-12-31   Sweden  KaggleMart      Kaggle Hat       NaN   \n",
       "6566   32864 2019-12-31   Sweden  KaggleMart  Kaggle Sticker       NaN   \n",
       "6567   32865 2019-12-31   Sweden  KaggleRama      Kaggle Mug       NaN   \n",
       "6568   32866 2019-12-31   Sweden  KaggleRama      Kaggle Hat       NaN   \n",
       "6569   32867 2019-12-31   Sweden  KaggleRama  Kaggle Sticker       NaN   \n",
       "\n",
       "           gdp    wd0    wd1    wd2  ...  easter51  easter52  easter53  \\\n",
       "0     5.461456  False  False  False  ...     False     False     False   \n",
       "1     5.461456  False  False  False  ...     False     False     False   \n",
       "2     5.461456  False  False  False  ...     False     False     False   \n",
       "3     5.461456  False  False  False  ...     False     False     False   \n",
       "4     5.461456  False  False  False  ...     False     False     False   \n",
       "...        ...    ...    ...    ...  ...       ...       ...       ...   \n",
       "6565  6.282042  False   True  False  ...     False     False     False   \n",
       "6566  6.282042  False   True  False  ...     False     False     False   \n",
       "6567  6.282042  False   True  False  ...     False     False     False   \n",
       "6568  6.282042  False   True  False  ...     False     False     False   \n",
       "6569  6.282042  False   True  False  ...     False     False     False   \n",
       "\n",
       "      easter54  easter55  easter56  easter57  easter58  holiday    target  \n",
       "0        False     False     False     False     False        1  3.738239  \n",
       "1        False     False     False     False     False        1  4.196010  \n",
       "2        False     False     False     False     False        1  2.925788  \n",
       "3        False     False     False     False     False        1  4.291321  \n",
       "4        False     False     False     False     False        1  4.756724  \n",
       "...        ...       ...       ...       ...       ...      ...       ...  \n",
       "6565     False     False     False     False     False        0       NaN  \n",
       "6566     False     False     False     False     False        0       NaN  \n",
       "6567     False     False     False     False     False        0       NaN  \n",
       "6568     False     False     False     False     False        0       NaN  \n",
       "6569     False     False     False     False     False        0       NaN  \n",
       "\n",
       "[32868 rows x 209 columns]"
      ]
     },
     "execution_count": 34,
     "metadata": {},
     "output_type": "execute_result"
    }
   ],
   "source": [
    "temporal_all_df"
   ]
  },
  {
   "cell_type": "markdown",
   "id": "f0eadb9e-0f04-4243-80b7-3f710e5542e2",
   "metadata": {},
   "source": [
    "### Label Encoding"
   ]
  },
  {
   "cell_type": "markdown",
   "id": "8474675c-3b84-4aed-a5f7-319a312d9954",
   "metadata": {},
   "source": [
    "I'm going to encapsulate this in a function so that it can be invoked just-in-time, in the hopes of avoiding confusions with DataFrames."
   ]
  },
  {
   "cell_type": "code",
   "execution_count": 35,
   "id": "10cec107-6ed6-4013-bd86-83287b73e92c",
   "metadata": {},
   "outputs": [],
   "source": [
    "def label_encoder(df):\n",
    "    from sklearn.preprocessing import LabelEncoder\n",
    "    features = ['country', 'product', 'store']\n",
    "    le_dict = {feature: LabelEncoder().fit(orig_train_df[feature]) for feature in features}\n",
    "    enc_df = df.copy()\n",
    "    for feature in features:\n",
    "        enc_df[feature] = le_dict[feature].transform(df[feature])\n",
    "    return le_dict, enc_df"
   ]
  },
  {
   "cell_type": "code",
   "execution_count": 36,
   "id": "d057ff46-10a1-4a74-a049-49b1705d02c3",
   "metadata": {},
   "outputs": [],
   "source": [
    "# for key in le_dict.keys():\n",
    "#     print(f\"Values for key {key} are {le_dict[key].inverse_transform(range(len(le_dict[key].values())))}\")#\"\n",
    "# print(le_dict['country'].inverse_transform([0,1,2]))\n",
    "# print(le_dict['product'].inverse_transform([0,1,2]))\n",
    "# print(le_dict['store'].inverse_transform([0,1]))"
   ]
  },
  {
   "cell_type": "markdown",
   "id": "65156ef4-a429-46b2-8ff0-f98ca651611a",
   "metadata": {},
   "source": [
    "```\n",
    "['Finland' 'Norway' 'Sweden']\n",
    "['Kaggle Hat' 'Kaggle Mug' 'Kaggle Sticker']\n",
    "['KaggleMart' 'KaggleRama']\n",
    "```"
   ]
  },
  {
   "cell_type": "markdown",
   "id": "de7ca0e8-1ee8-462d-945b-c00f9958409b",
   "metadata": {},
   "source": [
    "Now, we'll do the encoding."
   ]
  },
  {
   "cell_type": "markdown",
   "id": "ec72b123-f8a8-4f90-820e-0da7772fe4a2",
   "metadata": {},
   "source": [
    "At this point, the `encoded_all_df` can be used -- perhaps with a call to `LabelEncoder.inverse_transform` -- to recover the \"original\" data when necessary (e.g. for feeding it into Prophet and NeuralProphet)"
   ]
  },
  {
   "cell_type": "code",
   "execution_count": 37,
   "id": "9f57733c-7b91-4925-85dd-7b967cb56dd5",
   "metadata": {},
   "outputs": [],
   "source": [
    "# encoded_all_df = label_encoder(temporal_all_df)"
   ]
  },
  {
   "cell_type": "markdown",
   "id": "2a2f4e48-b234-4cf5-8421-f2af145426e9",
   "metadata": {},
   "source": [
    "### Pseudolabeling"
   ]
  },
  {
   "cell_type": "markdown",
   "id": "76ca8eb6-a11a-4a33-9ac2-e10c1df48845",
   "metadata": {},
   "source": [
    "I'm not going to try this right now, but I may return to it later -- I note that Teck Meng Wong had some good results with it."
   ]
  },
  {
   "cell_type": "code",
   "execution_count": 38,
   "id": "11ce23a5-1c47-4a1d-9c6b-0684f90c5a2f",
   "metadata": {},
   "outputs": [],
   "source": [
    "# # here's teck meng wong's implementation -- see the notebook for the constants\n",
    "# df_pseudolabels = pd.read_csv(PSEUDO_DIR, index_col=ID)\n",
    "# df_pseudolabels[DATE] = pd.to_datetime(test_df[DATE])\n",
    "# df_pseudolabels.to_csv(\"pseudo_labels_v0.csv\", index=True)\n",
    "# # if PSEUDO_LABEL:\n",
    "#     # df_pseudolabels = df_pseudolabels.set_index([DATE]).sort_index()\n",
    "# test_df[column_y] = df_pseudolabels[column_y].astype(np.float64)\n",
    "# train_df = pd.concat([train_df, test_df], axis=0)"
   ]
  },
  {
   "cell_type": "markdown",
   "id": "61061e99-d56e-4290-ba18-c89e1a21fdf3",
   "metadata": {},
   "source": [
    "### Data Splitting, Modification"
   ]
  },
  {
   "cell_type": "markdown",
   "id": "2268dbc9-cf56-49d8-886e-ba34eb1b4499",
   "metadata": {},
   "source": [
    "Now that the preprocessing is done, I'm going to split the data back into the train and test sets; then, I'll create a view on the dataframes that omits the year. The year-less dataframes will be suitable for residual learning."
   ]
  },
  {
   "cell_type": "code",
   "execution_count": 39,
   "id": "447607ba-81cf-4125-9a1d-2d551da05fd8",
   "metadata": {},
   "outputs": [],
   "source": [
    "# all_df = encoded_all_df.drop(columns=['num_sold', 'row_id'])\n",
    "all_df = temporal_all_df.drop(columns=['row_id']) # writing over the previous version of `all_df`"
   ]
  },
  {
   "cell_type": "code",
   "execution_count": 40,
   "id": "6f3b3b51-4cfa-46f5-a32e-3e5c7497d153",
   "metadata": {},
   "outputs": [],
   "source": [
    "tv_df = all_df[:len(orig_train_df)] # training and validation sets -- still not encoded\n",
    "test_df = all_df[len(orig_train_df):] # still not encoded\n"
   ]
  },
  {
   "cell_type": "code",
   "execution_count": 41,
   "id": "3120d77c-00bb-4345-b897-4d5d1105fb13",
   "metadata": {},
   "outputs": [],
   "source": [
    "# train_df = encoded_all_df.iloc[np.where(encoded_all_df['date'] < '2019-01-01'), :]\n",
    "# test_df = encoded_all_df[[np.where(encoded_all_df['date'] > '2018-12-31')]]\n",
    "\n",
    "# encoded_tv_df = encoded_all_df.drop(columns=['row_id'])[:len(orig_train_df)]\n",
    "# encoded_test_df = encoded_all_df.drop(columns=['row_id'])[len(orig_train_df):]\n",
    "\n",
    "# valid_df = tv_df[tv_df['date'] > '2017-12-31']\n",
    "# train_df = tv_df[tv_df['date'] <= '2017-12-31']\n",
    "\n",
    "# train_and_valid_residual_df = train_and_valid_df.drop(columns=['date'])\n",
    "# test_residual_df = test_df.drop(columns=['date'])\n",
    "\n",
    "# len(valid_df) + len(train_df) == len(tv_df)\n",
    "\n",
    "# encoded_tv_df"
   ]
  },
  {
   "cell_type": "markdown",
   "id": "ff59f277-f5c5-4e78-ae1e-74c6cb485017",
   "metadata": {},
   "source": [
    "# Training"
   ]
  },
  {
   "cell_type": "markdown",
   "id": "8faed153-18af-4f8d-8008-0e1133c7934d",
   "metadata": {},
   "source": [
    "### Forecasting Models Prep\n",
    "First, we'll set up functions to handle the training of forecasting models which will discern trends, and which may -- or may not -- yield insights concerning seasonality. While the Scikit-Learn models will be able to share a single trainer function, the Prophet and NeuralProphet models have subtly different expectations of their data, and as such will require separate handling."
   ]
  },
  {
   "cell_type": "code",
   "execution_count": 42,
   "id": "c2943f6c-0ea8-4686-8915-ea0e3148898a",
   "metadata": {},
   "outputs": [],
   "source": [
    "from sklearn.linear_model import Ridge, HuberRegressor, LinearRegression, Lasso\n",
    "from sklearn.neural_network import MLPRegressor\n",
    "from prophet import Prophet\n",
    "from neuralprophet import NeuralProphet\n",
    "# earth? wouldn't install via pip on my machine at first"
   ]
  },
  {
   "cell_type": "code",
   "execution_count": 43,
   "id": "1be7ac75-d9e8-4cb4-849e-351d651b4959",
   "metadata": {},
   "outputs": [],
   "source": [
    "import torch\n",
    "import torch.nn as nn\n",
    "from torch.nn.utils import weight_norm\n",
    "from skorch import NeuralNetRegressor\n",
    "import torch.optim as optim"
   ]
  },
  {
   "cell_type": "markdown",
   "id": "48cc7c88-1d32-4731-b159-34d35aef250c",
   "metadata": {},
   "source": [
    "#### (Preprepared Preds)"
   ]
  },
  {
   "cell_type": "markdown",
   "id": "fbb719de-dd9d-4a44-8a46-59ce92091555",
   "metadata": {},
   "source": [
    "The next cell contains code to import already-existing predictions -- but I think it's better to centralize the code that produces them here, and will comment out the import code for now."
   ]
  },
  {
   "cell_type": "code",
   "execution_count": 44,
   "id": "6d07e728-55cd-4526-bd02-14fedb302f24",
   "metadata": {},
   "outputs": [],
   "source": [
    "# prophet_trainset = load(predpath/'20220121_prophet_baseline_trainset.joblib')\n",
    "\n",
    "# neural_trainset = load(predpath/'20220121_neuralprophet_baseline_trainset.joblib')\n",
    "# neural_test_preds = load(predpath/'20220121_neuralprophet_baseline_testset.joblib')\n",
    "\n",
    "# ridge_tv_preds = load(predpath/'20210121_ridge_baseline_trainset_preds.joblib')\n",
    "# ridge_test_preds = load(predpath/'20220121_ridge_testset_preds.joblib')"
   ]
  },
  {
   "cell_type": "markdown",
   "id": "7cbb101a-dc0a-4aef-8846-a49bf40221e8",
   "metadata": {},
   "source": [
    "And this cell would handle the parsing"
   ]
  },
  {
   "cell_type": "code",
   "execution_count": 45,
   "id": "c5d9d647-4838-4336-9958-898c0a55eb48",
   "metadata": {},
   "outputs": [],
   "source": [
    "# neural_tv_preds = neural_trainset['prophet_forecast']\n",
    "# prophet_tv_preds = prophet_trainset['prophet_forecast']\n",
    "\n",
    "# neural_train_preds = neural_tv_preds[:train_length]\n",
    "# neural_valid_preds = neural_tv_preds[train_length:]\n",
    "\n",
    "# prophet_train_preds = prophet_tv_preds[:train_length]\n",
    "# prophet_valid_preds = prophet_tv_preds[train_length:]\n",
    "\n",
    "# train_length = len(neural_trainset[neural_trainset['date'] <= '2017-12-31'])\n",
    "\n",
    "# ridge_train_preds = ridge_tv_preds[:train_length]\n",
    "# ridge_valid_preds = ridge_tv_preds[train_length:]"
   ]
  },
  {
   "cell_type": "markdown",
   "id": "837ce80e-1d5b-4f07-8381-8fe6339bbb1d",
   "metadata": {},
   "source": [
    "#### Scikit-Learn Linear Models Prep"
   ]
  },
  {
   "cell_type": "markdown",
   "id": "20f765ff-e4f9-487d-b271-b852add5c0c6",
   "metadata": {},
   "source": [
    "Linear models from Scikit-Learn seemingly require that datetime data be converted to numerics."
   ]
  },
  {
   "cell_type": "code",
   "execution_count": null,
   "id": "80df2215-385f-44c7-a18d-1368f81ff6f8",
   "metadata": {},
   "outputs": [],
   "source": []
  },
  {
   "cell_type": "code",
   "execution_count": 46,
   "id": "70752c1d-06cd-4b7c-b2e0-5f097bd1563e",
   "metadata": {},
   "outputs": [],
   "source": [
    "# train_linear_df = train_df.copy()\n",
    "# valid_linear_df = valid_df.copy()\n",
    "# test_linear_df = test_df.copy()\n",
    "# tv_linear_df = tv_df.copy()\n",
    "\n"
   ]
  },
  {
   "cell_type": "markdown",
   "id": "ba467720-1d42-496b-b3da-5de3bb8a49ce",
   "metadata": {},
   "source": [
    "### Forecasters"
   ]
  },
  {
   "cell_type": "markdown",
   "id": "43861d3a-3563-44c3-beda-b5845e37a2b2",
   "metadata": {},
   "source": [
    "#### Hyperparameters\n",
    "I'll hard-code them for now, but in the future may Optuna them. May want to create a dict of all the kwargs to be used for all the models, with the model names as keys"
   ]
  },
  {
   "cell_type": "code",
   "execution_count": 47,
   "id": "cb09c068-f227-4f7b-bdf3-1ea5250c4c87",
   "metadata": {},
   "outputs": [],
   "source": [
    "prophet_kwargs = {\n",
    "    'growth':'linear',\n",
    "#     'holidays':holidays_train, # will add this in-function\n",
    "    'n_changepoints':10,\n",
    "    'changepoint_range':0.4,\n",
    "    'yearly_seasonality':True,\n",
    "    'weekly_seasonality':True,\n",
    "    'daily_seasonality':False,\n",
    "    'seasonality_mode':'additive',\n",
    "    'seasonality_prior_scale':25,\n",
    "    'holidays_prior_scale':100,\n",
    "    'changepoint_prior_scale':0.01,\n",
    "    'interval_width':0.5,\n",
    "    'uncertainty_samples':False\n",
    "}\n",
    "\n",
    "neuralprophet_kwargs = {\n",
    "    'growth':'linear',\n",
    "    'n_changepoints':10,\n",
    "    'changepoints_range':0.4,\n",
    "    'trend_reg':1,\n",
    "    'trend_reg_threshold':False,\n",
    "    'yearly_seasonality':True,\n",
    "    'weekly_seasonality':True,\n",
    "    'daily_seasonality':False,\n",
    "    'seasonality_mode':'additive',\n",
    "    'seasonality_reg':1,\n",
    "    'n_forecasts':365,\n",
    "    'normalize':'off'\n",
    "}\n",
    "\n",
    "# for pytorch / skorch\n",
    "device = 'cuda' if torch.cuda.is_available() else 'cpu'\n",
    "\n",
    "tcn_kwargs = {\n",
    "#     'module': estimator, # will be handled at-call\n",
    "#     'criterion': nn.MSELoss, # consider enhancement here\n",
    "#     \"lr\": 0.01, # default is 0.01\n",
    "#     'optimizer':Adam,\n",
    "#     'max_epochs':10, # default is 10\n",
    "#     'device': 'cpu'#device,\n",
    "    \n",
    "}\n",
    "\n",
    "tcn_skorch_kwargs = {\n",
    "    'module__num_inputs':1,\n",
    "    'module__num_channels':[10] * 11,\n",
    "    'module__output_sz':1, #2 * samples_per_hour,\n",
    "    'module__kernel_size':5,\n",
    "    'module__dropout':0.0,\n",
    "    'max_epochs':60, # 60,\n",
    "    'batch_size':256,\n",
    "    'lr':2e-3,\n",
    "    'optimizer':torch.optim.Adam,\n",
    "    'train_split':None,\n",
    "}\n",
    "\n",
    "mlp_skorch_kwargs = {\n",
    "    'module__n_inputs': tv_df.shape[1],\n",
    "    'module__hidden_units': 200, \n",
    "    'module__dropout': 0.2,\n",
    "    'max_epochs':25, # 60,\n",
    "    'batch_size':256,\n",
    "    'lr':2e-3,\n",
    "    'optimizer':torch.optim.Adam,\n",
    "    'train_split':None,\n",
    "}\n",
    "\n",
    "\n",
    "# model_params['hyperparams'] = str(neuralprophet_kwargs)\n",
    "# model_params['holiday_source'] = 'Prophet builtin for each country'"
   ]
  },
  {
   "cell_type": "code",
   "execution_count": 48,
   "id": "9e2eed0b-6f99-4ab0-8856-7de608f31e28",
   "metadata": {},
   "outputs": [
    {
     "data": {
      "text/plain": [
       "(26298, 208)"
      ]
     },
     "execution_count": 48,
     "metadata": {},
     "output_type": "execute_result"
    }
   ],
   "source": [
    "tv_df.shape"
   ]
  },
  {
   "cell_type": "code",
   "execution_count": 49,
   "id": "6ee65f32-a819-4d1e-95f8-b723186618de",
   "metadata": {},
   "outputs": [
    {
     "data": {
      "text/plain": [
       "{'n_estimators': 4207,\n",
       " 'learning_rate': 0.05378597302351865,\n",
       " 'reg_alpha': 0.0067949392113948815,\n",
       " 'reg_lambda': 0.04865823628931899,\n",
       " 'subsample': 0.212875760245356,\n",
       " 'min_child_weight': 6.997692447967251,\n",
       " 'colsample_bytree': 0.9824893256584818,\n",
       " 'gamma': 0.10395228539921328,\n",
       " 'max_depth': 5}"
      ]
     },
     "execution_count": 49,
     "metadata": {},
     "output_type": "execute_result"
    }
   ],
   "source": [
    "best_xgboost_params = load(studypath/'optuna_xgboost_study-20220126213551.joblib').best_trial.params\n",
    "best_xgboost_params['max_depth'] = best_xgboost_params['depth']\n",
    "del best_xgboost_params['depth']\n",
    "best_xgboost_params"
   ]
  },
  {
   "cell_type": "code",
   "execution_count": 50,
   "id": "d31271cf-143b-4757-8846-332755b60bb9",
   "metadata": {},
   "outputs": [
    {
     "data": {
      "text/plain": [
       "{'iterations': 10529,\n",
       " 'learning_rate': 0.07026263205443048,\n",
       " 'random_strength': 44,\n",
       " 'od_wait': 261,\n",
       " 'reg_lambda': 35.672029887566374,\n",
       " 'border_count': 57,\n",
       " 'min_child_samples': 19,\n",
       " 'leaf_estimation_iterations': 2,\n",
       " 'max_depth': 3}"
      ]
     },
     "execution_count": 50,
     "metadata": {},
     "output_type": "execute_result"
    }
   ],
   "source": [
    "best_catboost_params = load(studypath/'optuna_catboost_study-20220127082356.joblib').best_trial.params\n",
    "best_catboost_params['max_depth'] = best_catboost_params['depth']\n",
    "del best_catboost_params['depth']\n",
    "best_catboost_params"
   ]
  },
  {
   "cell_type": "code",
   "execution_count": 51,
   "id": "2e01a025-a733-47ec-91a8-cad11f790c82",
   "metadata": {},
   "outputs": [
    {
     "data": {
      "text/plain": [
       "{'n_estimators': 6078,\n",
       " 'learning_rate': 0.03612108919426432,\n",
       " 'reg_alpha': 0.008631524966022684,\n",
       " 'reg_lambda': 0.19537138720003774,\n",
       " 'subsample': 0.9601129223632775,\n",
       " 'min_child_samples': 24,\n",
       " 'num_leaves': 235,\n",
       " 'colsample_bytree': 0.920126987868937,\n",
       " 'max_depth': 3}"
      ]
     },
     "execution_count": 51,
     "metadata": {},
     "output_type": "execute_result"
    }
   ],
   "source": [
    "best_lightgbm_params = load(studypath/'optuna_lightgbm_study-20220127171126.joblib').best_trial.params\n",
    "best_lightgbm_params['max_depth'] = best_lightgbm_params['depth']\n",
    "del best_lightgbm_params['depth']\n",
    "best_lightgbm_params\n"
   ]
  },
  {
   "cell_type": "code",
   "execution_count": 52,
   "id": "613b0aa9-021e-4a6f-ac7b-c984ec272d35",
   "metadata": {},
   "outputs": [],
   "source": [
    "xgboost_params = {\n",
    "    # universal\n",
    "#     'tree_method': 'gpu_hist',\n",
    "#     'predictor': 'gpu_predictor',\n",
    "#     'eval_metric': ['mae', 'mape', 'rmse'],\n",
    "#     'sampling_method': 'gradient_based',\n",
    "#     'grow_policy': 'lossguide',\n",
    "    \n",
    "    # best of 500 trials on Optuna\n",
    "    **best_xgboost_params\n",
    "}\n",
    "\n",
    "\n",
    "lightgbm_params = {\n",
    "    # universal\n",
    "    'objective': 'mse',\n",
    "#     'random_state': 42,\n",
    "    'device_type': 'cpu',\n",
    "    'n_jobs': -1,\n",
    "#                 eval_metric='auc',\n",
    "#     'device_type': 'gpu',\n",
    "#     'max_bin': 63, # 15 might be even better for GPU perf, but depends on dataset -- see https://lightgbm.readthedocs.io/en/latest/GPU-Performance.html\n",
    "#     'gpu_use_dp': False,\n",
    "#     'max_depth': 0,\n",
    "#     'learning_rate': 0.1,\n",
    "#     'subsample': .15,\n",
    "#     'n_estimators': 1500,\n",
    "    **best_lightgbm_params\n",
    "}\n",
    "\n",
    "catboost_params = {\n",
    "    # universal\n",
    "#     'task_type':'GPU',\n",
    "#     'silent':True,\n",
    "#     'random_state':42,\n",
    "    \n",
    "    # from trial 4 (of 5) via Optuna\n",
    "    **best_catboost_params\n",
    "}\n",
    "                "
   ]
  },
  {
   "cell_type": "code",
   "execution_count": null,
   "id": "489a1217-bc47-416d-b73e-95aceae3f973",
   "metadata": {},
   "outputs": [],
   "source": []
  },
  {
   "cell_type": "markdown",
   "id": "b011357f-a7bd-4317-8a57-d06434cce590",
   "metadata": {},
   "source": [
    "#### Temporal Convolutional Network\n",
    "\n",
    "Implementation from https://www.kaggle.com/ceshine/pytorch-temporal-convolutional-networks."
   ]
  },
  {
   "cell_type": "markdown",
   "id": "984bcdd6-241e-4a58-93ed-5f1b6537ceec",
   "metadata": {},
   "source": [
    "Going to use the [original implementation](https://github.com/locuslab/TCN/blob/master/TCN/tcn.py) (via the discussion [here](https://www.ethanrosenthal.com/2019/02/18/time-series-for-scikit-learn-people-part3/)):"
   ]
  },
  {
   "cell_type": "code",
   "execution_count": 53,
   "id": "2a868a59-9181-4b1a-8456-f545ae191d05",
   "metadata": {},
   "outputs": [],
   "source": [
    "class MLP(nn.Module):\n",
    "    def __init__(self, n_inputs, hidden_units, dropout=0.2):\n",
    "        super(MLP, self).__init__()\n",
    "        self.dense0 = nn.Linear(n_inputs, hidden_units)\n",
    "        self.relu0 = nn.ReLU()\n",
    "        self.dropout0 = nn.Dropout(p=dropout)\n",
    "        \n",
    "        self.dense1 = nn.Linear(hidden_units, hidden_units // 2)\n",
    "        self.relu1 = nn.ReLU()\n",
    "        self.dropout1 = nn.Dropout(p=dropout)\n",
    "        \n",
    "        self.dense2 = nn.Linear(hidden_units // 2, (hidden_units // 2) // 2)\n",
    "        self.relu2 = nn.ReLU()\n",
    "        self.dropout2 = nn.Dropout(p=dropout)\n",
    "        \n",
    "        self.dense3 = nn.Linear((hidden_units // 2) // 2, ((hidden_units // 2) // 2) // 2)\n",
    "        self.relu3 = nn.ReLU()\n",
    "        self.dropout3 = nn.Dropout(p=dropout)\n",
    "        \n",
    "        self.head = nn.Linear(((hidden_units // 2) // 2) // 2, 1)\n",
    "        \n",
    "    def forward(self, x):\n",
    "        x = self.dropout0(self.relu0(self.dense0(x)))\n",
    "        x = self.dropout1(self.relu1(self.dense1(x)))\n",
    "        x = self.dropout2(self.relu2(self.dense2(x)))\n",
    "        x = self.dropout3(self.relu3(self.dense3(x)))\n",
    "        x = self.head(x)\n",
    "        return x"
   ]
  },
  {
   "cell_type": "code",
   "execution_count": 54,
   "id": "7b0cde14-0da1-4b88-8188-9798cc893805",
   "metadata": {
    "tags": []
   },
   "outputs": [],
   "source": [
    "class Chomp1d(nn.Module):\n",
    "    def __init__(self, chomp_size):\n",
    "        super(Chomp1d, self).__init__()\n",
    "        self.chomp_size = chomp_size\n",
    "\n",
    "    def forward(self, x):\n",
    "        return x[:, :, :-self.chomp_size].contiguous()\n",
    "\n",
    "\n",
    "class TemporalBlock(nn.Module):\n",
    "    def __init__(self, n_inputs, n_outputs, kernel_size, stride, dilation, padding, dropout=0.2):\n",
    "        super(TemporalBlock, self).__init__()\n",
    "        self.conv1 = weight_norm(nn.Conv1d(n_inputs, n_outputs, kernel_size,\n",
    "                                           stride=stride, padding=padding, dilation=dilation))\n",
    "        self.chomp1 = Chomp1d(padding)\n",
    "        self.relu1 = nn.ReLU()\n",
    "        self.dropout1 = nn.Dropout(dropout)\n",
    "\n",
    "        self.conv2 = weight_norm(nn.Conv1d(n_outputs, n_outputs, kernel_size,\n",
    "                                           stride=stride, padding=padding, dilation=dilation))\n",
    "        self.chomp2 = Chomp1d(padding)\n",
    "        self.relu2 = nn.ReLU()\n",
    "        self.dropout2 = nn.Dropout(dropout)\n",
    "\n",
    "        self.net = nn.Sequential(self.conv1, self.chomp1, self.relu1, self.dropout1,\n",
    "                                 self.conv2, self.chomp2, self.relu2, self.dropout2)\n",
    "        self.downsample = nn.Conv1d(n_inputs, n_outputs, 1) if n_inputs != n_outputs else None\n",
    "        self.relu = nn.ReLU()\n",
    "        self.init_weights()\n",
    "\n",
    "    def init_weights(self):\n",
    "        self.conv1.weight.data.normal_(0, 0.01)\n",
    "        self.conv2.weight.data.normal_(0, 0.01)\n",
    "        if self.downsample is not None:\n",
    "            self.downsample.weight.data.normal_(0, 0.01)\n",
    "\n",
    "    def forward(self, x):\n",
    "        out = self.net(x)\n",
    "        res = x if self.downsample is None else self.downsample(x)\n",
    "        return self.relu(out + res)\n",
    "\n",
    "\n",
    "class TemporalConvNet(nn.Module):\n",
    "    def __init__(self, num_inputs, num_channels, output_sz,\n",
    "                 kernel_size=2, dropout=0.2):\n",
    "        super(TemporalConvNet, self).__init__()\n",
    "        layers = []\n",
    "        num_levels = len(num_channels)\n",
    "        for i in range(num_levels):\n",
    "            dilation_size = 2 ** i\n",
    "            in_channels = num_inputs if i == 0 else num_channels[i-1]\n",
    "            out_channels = num_channels[i]\n",
    "            layers += [TemporalBlock(in_channels, out_channels, kernel_size, stride=1,\n",
    "                                     dilation=dilation_size,\n",
    "                                     padding=(kernel_size-1) * dilation_size,\n",
    "                                     dropout=dropout)]\n",
    "\n",
    "        self.network = nn.Sequential(*layers)\n",
    "        self.linear = nn.Linear(num_channels[-1], output_sz)\n",
    "        self.last_activation = nn.ReLU()\n",
    "        self.output_sz = output_sz\n",
    "        # self.float()\n",
    "\n",
    "    def forward(self, x):\n",
    "        batch_sz = x.shape[0]\n",
    "        out = self.network(x.unsqueeze(1))\n",
    "        out = out.transpose(1, 2)\n",
    "        out = self.linear(out).mean(dim=1)\n",
    "        out = out.to(dtype=torch.float32) # my addition\n",
    "        return out"
   ]
  },
  {
   "cell_type": "markdown",
   "id": "65016b8f-c72f-4ba7-bc12-0d5d642107af",
   "metadata": {},
   "source": [
    "#### Trainers"
   ]
  },
  {
   "cell_type": "markdown",
   "id": "86e5ffca-0447-4184-ac30-5a2c1eaa07c9",
   "metadata": {},
   "source": [
    "##### NeuralProphet\n",
    "I'm leaving the folds as they are. ~~Label encoding shouldn't matter -- the values are just being iterated over anyway.~~ It does matter because the Prophets use the strings to identify countries' holidays to add. Not sure about doing the target transform -- if you try it, just have the trainer call pass `target='target'`."
   ]
  },
  {
   "cell_type": "code",
   "execution_count": 55,
   "id": "e7142a2b-316b-49c7-b6ad-732d79681d31",
   "metadata": {},
   "outputs": [],
   "source": [
    "prophet_folds = [\n",
    "    ('2015-01-01', '2018-01-01'),\n",
    "    ('2018-01-01', '2019-01-01'),\n",
    "]"
   ]
  },
  {
   "cell_type": "code",
   "execution_count": 56,
   "id": "8cfd9ca4-04db-4176-b787-317eb91f544d",
   "metadata": {},
   "outputs": [],
   "source": [
    "# prophet_tv_df = tv_df_encoded.copy() # encoded_tv_df.copy()\n",
    "# prophet_test_df = test_df_encoded.copy() # encoded_test_df.copy()"
   ]
  },
  {
   "cell_type": "code",
   "execution_count": 57,
   "id": "6d618ce1-5b3f-470f-8c46-878f30aa7a8c",
   "metadata": {},
   "outputs": [],
   "source": [
    "# for feature in ['country', 'product', 'store']:\n",
    "#     prophet_tv_df[feature] = orig_train_df[feature]\n",
    "#     prophet_test_df[feature] = orig_test_df[feature]\n"
   ]
  },
  {
   "cell_type": "code",
   "execution_count": 58,
   "id": "3a9c69c6-7581-4401-9c83-16c1d4ece031",
   "metadata": {},
   "outputs": [],
   "source": [
    "# prophet_tv_df.head()"
   ]
  },
  {
   "cell_type": "code",
   "execution_count": 59,
   "id": "308e48c6-ca35-425d-acdb-493ed48e2dcf",
   "metadata": {},
   "outputs": [],
   "source": [
    "# countries_enc = le_dict['country'].transform(countries)\n",
    "# stores_enc = le_dict['store'].transform(stores)\n",
    "# products_enc = le_dict['product'].transform(products)\n",
    "\n",
    "# countries, countries_enc"
   ]
  },
  {
   "cell_type": "markdown",
   "id": "d17cdb83-a789-4a40-a45e-550eda42f4f7",
   "metadata": {},
   "source": [
    "##### Skorch"
   ]
  },
  {
   "cell_type": "code",
   "execution_count": 60,
   "id": "6b9af474-5d20-4906-bde3-5cfaa214daff",
   "metadata": {
    "jupyter": {
     "source_hidden": true
    },
    "tags": []
   },
   "outputs": [],
   "source": [
    "# def skorch_trainer(model=TemporalConvNet, model_kwargs={}, tv_df=tv_df, test_df=test_df, #X=X, y=y, X_valid=X_valid, y_valid=y_valid, X_test=X_test, \n",
    "#                 countries=countries, stores=stores, products=products, random_seed=SEED,\n",
    "#                 target='target', wandb_tracked=False, forecasting=True):\n",
    "    \n",
    "#     # preprocessing\n",
    "    \n",
    "#     if USE_GPU and torch.cuda.is_available():\n",
    "#         device = 'cuda' \n",
    "#     else:\n",
    "#         device = 'cpu'\n",
    "    \n",
    "#     # start by creating working copies of dataframes to avoid mutation\n",
    "#     working_tv_df = tv_df.copy()\n",
    "#     working_test_df = test_df.copy()\n",
    "    \n",
    "#     # apply label encoding (which Scikit-Learn models require, but *Prophets don't)\n",
    "#     le_dict, working_tv_df = label_encoder(working_tv_df) # should leave broader scope's tv_df alone\n",
    "#     _, working_test_df = label_encoder(working_test_df) # should leave broader scope's test_df alone\n",
    "# #     del df_train, df_test\n",
    "    \n",
    "#     # encode the lists of countries, stores, and products\n",
    "#     countries = le_dict['country'].transform(countries)\n",
    "#     stores = le_dict['store'].transform(stores)\n",
    "#     products = le_dict['product'].transform(products)\n",
    "    \n",
    "#     if wandb_tracked:\n",
    "# #         exmodel_config['arch'] = arch\n",
    "# #         exmodel_config[f'{arch}_params'] = str(model_params)\n",
    "#         wandb.init(\n",
    "#             project=\"202201_Kaggle_tabular_playground\",\n",
    "#             save_code=True,\n",
    "#             tags=wandb_config['tags'],\n",
    "#             name=wandb_config['name'],\n",
    "#             notes=wandb_config['notes'],\n",
    "#             config=exmodel_config\n",
    "#     )\n",
    "    \n",
    "#     if forecasting: # if not, implement GroupKFold\n",
    "#         train_df = working_tv_df[working_tv_df['date'] < '2018-01-01']\n",
    "#         valid_df = working_tv_df[working_tv_df['date'] >= '2018-01-01']\n",
    "    \n",
    "#     # convert the dates to ordinals\n",
    "#     train_df['date'] = train_df['date'].map(dt.datetime.toordinal)\n",
    "#     valid_df['date'] = valid_df['date'].map(dt.datetime.toordinal)\n",
    "#     working_test_df['date'] = working_test_df['date'].map(dt.datetime.toordinal)\n",
    "    \n",
    "#     # typecast to np.float32\n",
    "#     train_df = train_df.astype(np.float32)\n",
    "#     valid_df = valid_df.astype(np.float32)\n",
    "#     working_test_df = working_test_df.astype(np.float32)\n",
    "    \n",
    "#     # clean up features\n",
    "#     X = train_df.drop(columns=['num_sold', 'target'])\n",
    "#     y = train_df[target]\n",
    "    \n",
    "#     X_valid = valid_df.drop(columns=['num_sold', 'target'])\n",
    "#     y_valid = valid_df[target]\n",
    "    \n",
    "#     X_test = working_test_df.drop(columns=['num_sold', 'target'])\n",
    "    \n",
    "#     # tensorify\n",
    "#     X = torch.tensor(X.values, dtype=torch.float32)\n",
    "#     X_valid = torch.tensor(X_valid.values, dtype=torch.float32)\n",
    "#     X_test = torch.tensor(X_test.values, dtype=torch.float32)\n",
    "#     y = torch.tensor(np.array(y).reshape(-1,1), dtype=torch.float32)\n",
    "#     y_valid = torch.tensor(np.array(y_valid).reshape(-1,1), dtype=torch.float32)\n",
    "    \n",
    "#     print(X.shape, y.shape)\n",
    "#     print(X.dtype, y.dtype)\n",
    "    \n",
    "#     model = NeuralNetRegressor(\n",
    "#         module=model,\n",
    "#         module__num_inputs=1,\n",
    "#         module__num_channels=[10] * 11,\n",
    "#         module__output_sz=1, #2 * samples_per_hour,\n",
    "#         module__kernel_size=5,\n",
    "#         module__dropout=0.0,\n",
    "#         max_epochs=3, # 60,\n",
    "#         batch_size=256,\n",
    "#         lr=2e-3,\n",
    "#         optimizer=torch.optim.Adam,\n",
    "#         device=device,\n",
    "#     #     iterator_train__shuffle=True,\n",
    "#     #     callbacks=[GradientNormClipping(gradient_clip_value=1,\n",
    "#     #                                     gradient_clip_norm_type=2)],\n",
    "#         train_split=None,\n",
    "#     )\n",
    "    \n",
    "#     model.fit(X,y)\n",
    "    \n",
    "#     y_valid_preds = model.predict(X_valid)\n",
    "# #     tv_preds = model.predict()\n",
    "#     test_preds = model.predict(X_test)\n",
    "    \n",
    "# #     print(f\"SMAPE on validation set (2018) is: {SMAPE(y_pred=y_valid_preds, y_true=y_valid)}\")\n",
    "    \n",
    "#     return model, y_valid_preds, test_preds"
   ]
  },
  {
   "cell_type": "code",
   "execution_count": 61,
   "id": "0b250930-2bc7-48e7-b401-ddce2a74e95d",
   "metadata": {},
   "outputs": [],
   "source": [
    "from skorch.callbacks import Checkpoint"
   ]
  },
  {
   "cell_type": "code",
   "execution_count": 62,
   "id": "9ae685b4-143a-418a-b042-79d3bb7a1553",
   "metadata": {
    "tags": []
   },
   "outputs": [],
   "source": [
    "def skorch_trainer(model, model_kwargs={}, tv_df=tv_df, test_df=test_df, folds=prophet_folds,#X=X, y=y, X_valid=X_valid, y_valid=y_valid, X_test=X_test, \n",
    "                countries=countries, stores=stores, products=products, random_seed=SEED,\n",
    "                target='target', wandb_tracked=False, forecasting=True):\n",
    "    \n",
    "    # preprocessing\n",
    "    \n",
    "    if USE_GPU and torch.cuda.is_available():\n",
    "        device = 'cuda' \n",
    "    else:\n",
    "        device = 'cpu'\n",
    "    \n",
    "    # start by creating working copies of dataframes to avoid mutation\n",
    "#     working_tv_df = tv_df.copy()\n",
    "#     working_test_df = test_df.copy()\n",
    "    \n",
    "    # apply label encoding (which Scikit-Learn models require, but *Prophets don't)\n",
    "    le_dict, tv_df = label_encoder(tv_df) # should leave broader scope's tv_df alone\n",
    "    _, test_df = label_encoder(test_df) # should leave broader scope's test_df alone\n",
    "#     del df_train, df_test\n",
    "    \n",
    "    # encode the lists of countries, stores, and products\n",
    "    countries = le_dict['country'].transform(countries)\n",
    "    stores = le_dict['store'].transform(stores)\n",
    "    products = le_dict['product'].transform(products)\n",
    "    \n",
    "#     y_tv = tv_df['num_sold']\n",
    "    tv_preds = pd.Series(0, index=tv_df.index)\n",
    "    test_preds = pd.Series(0, index=test_df.index)\n",
    "    \n",
    "    if wandb_tracked:\n",
    "#         exmodel_config['arch'] = arch\n",
    "#         exmodel_config[f'{arch}_params'] = str(model_params)\n",
    "        wandb.init(\n",
    "            project=\"202201_Kaggle_tabular_playground\",\n",
    "            save_code=True,\n",
    "            tags=wandb_config['tags'],\n",
    "            name=wandb_config['name'],\n",
    "            notes=wandb_config['notes'],\n",
    "            config=exmodel_config\n",
    "    )\n",
    "    # handling each combination of country, store, and product separately\n",
    "    for country in countries:\n",
    "        for store in stores:\n",
    "            for product in products:\n",
    "                print(f\"Training {le_dict['country'].inverse_transform([country])}, {le_dict['store'].inverse_transform([store])}, {le_dict['product'].inverse_transform([product])}\")\n",
    "                for fold, (start, end) in enumerate(folds):\n",
    "                    # Skip iteration if it's the last fold\n",
    "                    if fold == len(folds) - 1:\n",
    "                        continue\n",
    "\n",
    "                    # put only those rows in that are in the training window and have the correct country, store, and product\n",
    "                    train_idx = (tv_df['date'] >= start) &\\\n",
    "                                (tv_df['date'] < end) &\\\n",
    "                                (tv_df['country'] == country) &\\\n",
    "                                (tv_df['store'] == store) &\\\n",
    "                                (tv_df['product'] == product)\n",
    "\n",
    "#                     print(train_idx)\n",
    "\n",
    "                    # redefine the training set in the local (holdout) sense\n",
    "                    train = tv_df.loc[train_idx, :].reset_index(drop=True)\n",
    "#                         print(train.shape)\n",
    "\n",
    "                    val_idx = (tv_df['date'] >= folds[fold + 1][0]) &\\\n",
    "                              (tv_df['date'] < folds[fold + 1][1]) &\\\n",
    "                              (tv_df['country'] == country) &\\\n",
    "                              (tv_df['store'] == store) &\\\n",
    "                              (tv_df['product'] == product)\n",
    "\n",
    "                    val = tv_df.loc[val_idx, :].reset_index(drop=True)\n",
    "\n",
    "                    test_idx = (test_df['country'] == country) &\\\n",
    "                               (test_df['store'] == store) &\\\n",
    "                               (test_df['product'] == product)\n",
    "                    test = test_df.loc[test_idx, :].reset_index(drop=True)\n",
    "                    \n",
    "                    y = train[target]\n",
    "                    y_valid = val[target]\n",
    "                    \n",
    "                    # with the training and validation sets sorted out, make them integers for model fitting\n",
    "                    for df in [train, val, test]:\n",
    "                        df['date'] = df['date'].map(dt.datetime.toordinal)\n",
    "                        df = df.drop(columns=['num_sold', 'target'], inplace=True)\n",
    "#                         df = df.astype(np.float32)\n",
    "                    \n",
    "#                     print(train.columns)\n",
    "#                     print(train.dtypes)\n",
    "#                     train_df = train_df.astype(np.float32)\n",
    "                    X, X_valid, X_test = train.astype(np.float32), val.astype(np.float32), test.astype(np.float32)\n",
    "#                         for feature in ['num_sold', 'target', 'model_forecast']:\n",
    "#                             if feature in df.columns:\n",
    "#                                 df = df.drop(columns=feature)\n",
    "#                     if 'model_forecast' in train.columns:\n",
    "#                         X = train.drop(columns=['num_sold', 'target', 'model_forecast'])\n",
    "#                         X_valid = val.drop(columns=['num_sold', 'target', 'model_forecast'])\n",
    "#                         X_test = test.drop(columns=['num_sold', 'target', 'model_forecast'])\n",
    "#                     else:\n",
    "#                         X = train.drop(columns=['num_sold', 'target'])\n",
    "#                         X_valid = val.drop(columns=['num_sold', 'target'])\n",
    "#                         X_test = test.drop(columns=['num_sold', 'target'])\n",
    "\n",
    "                    \n",
    "                    \n",
    "#                     X = train_df.drop(columns=['num_sold', 'target'])\n",
    "#                     y = train_df[target]\n",
    "\n",
    "#                     X_valid = valid_df.drop(columns=['num_sold', 'target'])\n",
    "#                     y_valid = valid_df[target]\n",
    "\n",
    "#                     X_test = working_test_df.drop(columns=['num_sold', 'target'])\n",
    "\n",
    "                    # tensorify\n",
    "#                     print(X.dtypes)\n",
    "#                     print(type(X.values))\n",
    "                    X = torch.tensor(X.values, dtype=torch.float32)\n",
    "                    X_valid = torch.tensor(X_valid.values, dtype=torch.float32)\n",
    "                    X_test = torch.tensor(X_test.values, dtype=torch.float32)\n",
    "                    y = torch.tensor(np.array(y).reshape(-1,1), dtype=torch.float32)\n",
    "                    y_valid = torch.tensor(np.array(y_valid).reshape(-1,1), dtype=torch.float32)\n",
    "\n",
    "#                     print(X.shape, y.shape)\n",
    "#                     print(X.dtype, y.dtype)\n",
    "\n",
    "                    net = NeuralNetRegressor(\n",
    "                        module=model,\n",
    "                        device=device,\n",
    "                        **model_kwargs\n",
    "                    #     iterator_train__shuffle=True,\n",
    "#                         callbacks=[Checkpoint(dirname=modelpath/'20220128-TCN-country{country}-store{store}-product{product}/')],\n",
    "                    #     callbacks=[GradientNormClipping(gradient_clip_value=1,\n",
    "                    #                                     gradient_clip_norm_type=2)],\n",
    "                        \n",
    "                    )\n",
    "\n",
    "                    net.fit(X,y)\n",
    "                    \n",
    "                    net.save_params(f_params=modelpath/f'20220128-TCN-country{country}-store{store}-product{product}-model_params.pkl')\n",
    "            \n",
    "                    y_train_preds = np.squeeze(net.predict(X))\n",
    "                    y_valid_preds = np.squeeze(net.predict(X_valid))\n",
    "                    fold_test_preds = np.squeeze(net.predict(X_test))\n",
    "#                     print(f\"Shape of fold test preds is {fold_test_preds.shape}\")\n",
    "\n",
    "                    tv_preds[train_idx] = y_train_preds\n",
    "                    tv_preds[val_idx] = y_valid_preds\n",
    "                    test_preds[test_idx] = fold_test_preds\n",
    "            \n",
    "                    print(f\"Valid SMAPE for {le_dict['country'].inverse_transform([country])}, {le_dict['store'].inverse_transform([store])}, {le_dict['product'].inverse_transform([product])} is {SMAPE(y_true=tv_df.loc[val_idx, 'num_sold'], y_pred=y_valid_preds)}\")\n",
    "                    \n",
    "    # reverse the dependent variable transform if appropriate\n",
    "    if target == 'target':\n",
    "#             model_tv_preds = np.multiply(np.exp(model_tv_preds), tv_df['gdp']**gdp_exponent)\n",
    "#         tv_df['model_forecast'] = np.exp(tv_df['model_forecast']) * tv_df['gdp']**gdp_exponent\n",
    "        tv_preds = np.exp(tv_preds) * tv_df['gdp']**gdp_exponent\n",
    "        test_preds = np.exp(test_preds) * test_df['gdp']**gdp_exponent\n",
    "        \n",
    "    return tv_preds, test_preds\n"
   ]
  },
  {
   "cell_type": "markdown",
   "id": "0a7a1836-4b75-40c1-90e6-08878c6953d3",
   "metadata": {},
   "source": [
    "##### GBMs"
   ]
  },
  {
   "cell_type": "code",
   "execution_count": 63,
   "id": "a09550a2-eee0-4fde-a083-c7c644133e47",
   "metadata": {},
   "outputs": [],
   "source": [
    "from sklearn.model_selection import GroupKFold"
   ]
  },
  {
   "cell_type": "code",
   "execution_count": 64,
   "id": "eb330ff5-a835-4e03-bd2b-efbc21169df0",
   "metadata": {
    "jupyter": {
     "source_hidden": true
    },
    "tags": []
   },
   "outputs": [],
   "source": [
    "def gbm_trainer(arch:str, model_kwargs={}, tv_df=tv_df, test_df=test_df,  #X=X, y=y, X_valid=X_valid, y_valid=y_valid, X_test=X_test, \n",
    "                countries=countries, stores=stores, products=products, random_seed=SEED,\n",
    "                target='target', wandb_tracked=False):\n",
    "    \n",
    "    # create local versions of the dataframes, to avoid mutation\n",
    "    X = tv_df.copy()\n",
    "    X_test = test_df.copy()\n",
    "    \n",
    "    # apply label encoding (which Scikit-Learn models require, but *Prophets don't)\n",
    "    le_dict, X = label_encoder(X) # should leave broader scope's tv_df alone\n",
    "    _, X_test = label_encoder(X_test) # should leave broader scope's test_df alone\n",
    "#     del df_train, df_test\n",
    "    \n",
    "    # encode the lists of countries, stores, and products\n",
    "    countries = le_dict['country'].transform(countries)\n",
    "    stores = le_dict['store'].transform(stores)\n",
    "    products = le_dict['product'].transform(products)\n",
    "    \n",
    "#     train_smape = 0\n",
    "#     val_smape = 0\n",
    "    \n",
    "    if wandb_tracked:\n",
    "#         exmodel_config['arch'] = arch\n",
    "#         exmodel_config[f'{arch}_params'] = str(model_params)\n",
    "        wandb.init(\n",
    "            project=\"202201_Kaggle_tabular_playground\",\n",
    "            save_code=True,\n",
    "            tags=wandb_config['tags'],\n",
    "            name=wandb_config['name'],\n",
    "            notes=wandb_config['notes'],\n",
    "            config=exmodel_config\n",
    "        )\n",
    "    \n",
    "    # drop whichever version of the dependent variable is not being used\n",
    "#     for df in [tv_df, test_df]:\n",
    "    y = X[target]\n",
    "#     for df in [X, X_test]:\n",
    "#         df = df.drop(columns=['num_sold', 'target'])\n",
    "    X = X.drop(columns=['num_sold', 'target'])\n",
    "    X_test = X_test.drop(columns=['num_sold', 'target'])\n",
    "#     X = X.drop(columns)\n",
    "#     if target == 'num_sold': \n",
    "#         y = X['num_sold']\n",
    "#         X = X.drop(columns=['target'])\n",
    "#         X_test = X_test.drop(columns=['target'])\n",
    "#     else:\n",
    "#         X = X.drop(columns=['num_sold'])\n",
    "#         X_test = X_test.drop(columns=['num_sold'])\n",
    "    \n",
    "    kfold = GroupKFold(n_splits=4)\n",
    "    oof_preds = pd.Series(0, index=tv_df.index)\n",
    "#     oof_preds, oof_y = [], []\n",
    "#     test_preds = np.zeros((X_test.shape[0]))\n",
    "    test_preds = pd.Series(0, index=test_df.index)\n",
    "    \n",
    "    for fold, (train_ids, valid_ids) in enumerate(kfold.split(tv_df, groups=tv_df.date.dt.year)):\n",
    "        print(f\"FOLD {fold}\")\n",
    "        print(\"------------------------------\")\n",
    "        \n",
    "        # remove dates \n",
    "#         for df in [X, X_test]:\n",
    "#             df = df.drop(columns=['date'])\n",
    "        if 'date' in X.columns:\n",
    "            X = X.drop(columns=['date'])\n",
    "            X_test = X_test.drop(columns=['date'])#, 'num_sold'])\n",
    "        \n",
    "        y_train, y_valid = y[train_ids], y[valid_ids]\n",
    "        X_train, X_valid = X.iloc[train_ids,:], X.iloc[valid_ids,:]\n",
    "        \n",
    "        if arch == 'xgboost':\n",
    "            model = XGBRegressor(\n",
    "                tree_method= 'gpu_hist',\n",
    "                predictor= 'gpu_predictor',\n",
    "                eval_metric= ['mae', 'mape'],\n",
    "                sampling_method= 'gradient_based',\n",
    "                grow_policy= 'lossguide',\n",
    "                seed=random_seed,\n",
    "                objective='reg:squarederror',\n",
    "                **model_kwargs)\n",
    "            if wandb_tracked:\n",
    "                model.fit(X_train, y_train, callbacks=[wandb.xgboost.wandb_callback()])\n",
    "            else:\n",
    "                model.fit(X_train, y_train)\n",
    "        elif arch == 'lightgbm':\n",
    "            model = LGBMRegressor(\n",
    "                random_state=random_seed,\n",
    "                **model_kwargs)\n",
    "            if wandb_tracked:\n",
    "                model.fit(X_train, y_train, callbacks=[wandb.lightgbm.wandb_callback()])\n",
    "            else:\n",
    "                model.fit(X_train, y_train)\n",
    "        \n",
    "        elif arch == 'catboost':\n",
    "            model = CatBoostRegressor(\n",
    "                task_type='GPU',\n",
    "                silent=True,\n",
    "                random_state=random_seed,\n",
    "                **model_kwargs)\n",
    "            model.fit(X_train, y_train)\n",
    "        \n",
    "        y_valid_preds = model.predict(X_valid)\n",
    "        \n",
    "        oof_preds[valid_ids] = y_valid_preds\n",
    "#         oof_preds.extend(y_valid_preds)\n",
    "#         oof_y.extend(y_valid)\n",
    "        \n",
    "        if arch == 'catboost':\n",
    "            test_preds += model.predict(X_test).flatten()\n",
    "        else:\n",
    "            test_preds += model.predict(X_test)\n",
    "        \n",
    "#         fold_smape = SMAPE(y_true=y_valid, y_pred=y_valid_preds)\n",
    "#         print(f\"FOLD {fold} OOF SMAPE: {fold_smape}\")\n",
    "    test_preds /= 4 # taking the average of the test preds\n",
    "    \n",
    "    if target == 'target':\n",
    "        oof_preds = np.exp(oof_preds) * tv_df['gdp']**gdp_exponent\n",
    "        test_preds = np.exp(test_preds) * test_df['gdp']**gdp_exponent\n",
    "        \n",
    "    smape = SMAPE(y_pred=oof_preds, y_true=tv_df['num_sold'])\n",
    "#     print(\"Lengths of oof_preds and tv_df[target] are same? \", len(oof_preds) == len(tv_df[target]))\n",
    "#     print(oof_preds[:10])\n",
    "#     print(tv_df[target][:10])\n",
    "    print(f\"SMAPE: {smape}\")\n",
    "    if wandb_tracked:\n",
    "        wandb.log({\n",
    "            'arch': arch,\n",
    "            'SMAPE': smape,\n",
    "            'model_params': str(model_kwargs),\n",
    "            'model_seed': random_state\n",
    "        })\n",
    "        wandb.finish()\n",
    "    return oof_preds, test_preds"
   ]
  },
  {
   "cell_type": "markdown",
   "id": "a23a60ac-1593-4e94-be1e-732628d68de3",
   "metadata": {},
   "source": [
    "# TSAI"
   ]
  },
  {
   "cell_type": "markdown",
   "id": "db18992b-d3a4-4fbc-bcf1-1a473f9e11d6",
   "metadata": {},
   "source": [
    "## Deployment"
   ]
  },
  {
   "cell_type": "markdown",
   "id": "ff4e420d-9394-494f-bf49-d2a02999c263",
   "metadata": {},
   "source": []
  },
  {
   "cell_type": "code",
   "execution_count": 65,
   "id": "2f53816d-d63b-4ec1-a3aa-9ec6ce9425e5",
   "metadata": {},
   "outputs": [],
   "source": [
    "scaler = RobustScaler()"
   ]
  },
  {
   "cell_type": "code",
   "execution_count": 66,
   "id": "0dadb92e-e82d-4c05-a670-2dcb29173b16",
   "metadata": {},
   "outputs": [],
   "source": [
    "X = tv_df.drop(columns=['target', 'num_sold'])\n",
    "_, X = label_encoder(X)\n",
    "X['date'] = X['date'].map(dt.datetime.toordinal)\n",
    "X = scaler.fit_transform(X)\n",
    "X = X.astype(np.float32)\n",
    "X = np.array(X)\n",
    "y = tv_df['num_sold']"
   ]
  },
  {
   "cell_type": "code",
   "execution_count": 67,
   "id": "3dd6aecb-74c9-434e-b385-049c03735024",
   "metadata": {},
   "outputs": [
    {
     "data": {
      "text/plain": [
       "((26298, 206), (26298,))"
      ]
     },
     "execution_count": 67,
     "metadata": {},
     "output_type": "execute_result"
    }
   ],
   "source": [
    "X.shape, y.shape"
   ]
  },
  {
   "cell_type": "markdown",
   "id": "9c580864-3311-4a14-bdc9-f25732ed079c",
   "metadata": {},
   "source": [
    "- X needs to be three-dimensional. I'll add in the timestep dimension, with the value of 1 (since these are isolated points in time, and one to a sample)."
   ]
  },
  {
   "cell_type": "code",
   "execution_count": 68,
   "id": "9f2cc082-62c5-4b43-9691-0632275a6c5a",
   "metadata": {},
   "outputs": [],
   "source": [
    "X = np.expand_dims(X, axis=2)"
   ]
  },
  {
   "cell_type": "code",
   "execution_count": 69,
   "id": "b1907f5a-01a7-4555-aaab-48b40ee2948d",
   "metadata": {},
   "outputs": [
    {
     "data": {
      "text/plain": [
       "(26298, 206, 1)"
      ]
     },
     "execution_count": 69,
     "metadata": {},
     "output_type": "execute_result"
    }
   ],
   "source": [
    "X.shape"
   ]
  },
  {
   "cell_type": "code",
   "execution_count": 70,
   "id": "b598c9a8-45ba-4c6f-8be1-ab1172efb75e",
   "metadata": {},
   "outputs": [
    {
     "data": {
      "image/png": "[encoded data removed]",
      "text/plain": [
       "<Figure size 1152x36 with 1 Axes>"
      ]
     },
     "metadata": {
      "needs_background": "light"
     },
     "output_type": "display_data"
    }
   ],
   "source": [
    "splits = get_splits(X, n_splits=1, valid_size=0.25, check_splits=True, random_state=42, shuffle=False)"
   ]
  },
  {
   "cell_type": "code",
   "execution_count": 71,
   "id": "d6a961a6-17cb-4e06-a9f6-19e94eadb70f",
   "metadata": {},
   "outputs": [
    {
     "data": {
      "text/plain": [
       "((#19724) [0,1,2,3,4,5,6,7,8,9...],\n",
       " (#6574) [19724,19725,19726,19727,19728,19729,19730,19731,19732,19733...])"
      ]
     },
     "execution_count": 71,
     "metadata": {},
     "output_type": "execute_result"
    }
   ],
   "source": [
    "splits"
   ]
  },
  {
   "cell_type": "code",
   "execution_count": 72,
   "id": "e94a9c7c-ec4a-4c1f-9e1a-13a87b7c0a3b",
   "metadata": {},
   "outputs": [],
   "source": [
    "tfms = [None, [TSRegression()]]"
   ]
  },
  {
   "cell_type": "code",
   "execution_count": 73,
   "id": "d66ce153-9610-42f0-b192-a2a5ad5442e6",
   "metadata": {},
   "outputs": [],
   "source": [
    "dsets = TSDatasets(X,y, tfms=tfms, splits=splits, inplace=True)"
   ]
  },
  {
   "cell_type": "code",
   "execution_count": 74,
   "id": "1bf298b2-547b-40a9-afc8-c44ef7290bad",
   "metadata": {},
   "outputs": [],
   "source": [
    "dls = TSDataLoaders.from_dsets(dsets.train, dsets.valid, bs=[128,128], batch_tfms=[TSStandardize()], num_workers=0, device='cuda')"
   ]
  },
  {
   "cell_type": "code",
   "execution_count": 75,
   "id": "00a2d2f4-e86c-4c38-9071-d728d09f584b",
   "metadata": {},
   "outputs": [
    {
     "data": {
      "image/png": "[encoded data removed]",
      "text/plain": [
       "<Figure size 1296x864 with 9 Axes>"
      ]
     },
     "metadata": {
      "needs_background": "light"
     },
     "output_type": "display_data"
    }
   ],
   "source": [
    "dls.show_batch()"
   ]
  },
  {
   "cell_type": "markdown",
   "id": "9c762b82-e2ab-456a-bc6d-16c5427cebaf",
   "metadata": {},
   "source": [
    "- This isn't very interesting because we have a single value for each item in the batch -- i.e. the sales on that date. If we had, say, daily samples with hourly sales figures, then we'd have nice line plots of the sales per hour for each day."
   ]
  },
  {
   "cell_type": "code",
   "execution_count": 76,
   "id": "7a9c4d37-b39a-41d4-b5ba-77de7033ac95",
   "metadata": {},
   "outputs": [
    {
     "data": {
      "text/plain": [
       "206"
      ]
     },
     "execution_count": 76,
     "metadata": {},
     "output_type": "execute_result"
    }
   ],
   "source": [
    "dls.vars"
   ]
  },
  {
   "cell_type": "code",
   "execution_count": 77,
   "id": "5502cb5b-8976-4dd0-a6fd-cfd6c9606c82",
   "metadata": {},
   "outputs": [
    {
     "data": {
      "text/plain": [
       "1"
      ]
     },
     "execution_count": 77,
     "metadata": {},
     "output_type": "execute_result"
    }
   ],
   "source": [
    "dls.c"
   ]
  },
  {
   "cell_type": "markdown",
   "id": "a937f33e-87e0-40f1-9b5a-3f24d1893a96",
   "metadata": {},
   "source": [
    "As expected, we have 206 features and just the one class (i.e. a integer representing sales)"
   ]
  },
  {
   "cell_type": "code",
   "execution_count": 78,
   "id": "937b3c01-f577-4788-9ff5-d8ecabd1bef3",
   "metadata": {},
   "outputs": [],
   "source": [
    "model = TCN(c_in=206, c_out=1,)\n",
    "# model = "
   ]
  },
  {
   "cell_type": "code",
   "execution_count": 79,
   "id": "1212315b-d040-4d22-9b80-a1d6cc6f8ed5",
   "metadata": {},
   "outputs": [],
   "source": [
    "learn = Learner(dls, model, metrics=mae)"
   ]
  },
  {
   "cell_type": "markdown",
   "id": "80013994-dc56-4d00-8ddd-0f8a9d9d1904",
   "metadata": {},
   "source": [
    "- Metrics can be found [here](https://docs.fast.ai/metrics.html)."
   ]
  },
  {
   "cell_type": "code",
   "execution_count": 80,
   "id": "43e556e3-0147-4667-8d32-d47ebbab6059",
   "metadata": {},
   "outputs": [],
   "source": [
    "run_name = 'TCN_20220203a'"
   ]
  },
  {
   "cell_type": "code",
   "execution_count": 81,
   "id": "ec77fe72-47b0-43cf-8412-3cfddb56f4e7",
   "metadata": {},
   "outputs": [
    {
     "data": {
      "text/plain": [
       "Path('/media/sf/easystore/kaggle_data/tabular_playgrounds/jan2022/models/TCN_20220203a_stage0.pth')"
      ]
     },
     "execution_count": 81,
     "metadata": {},
     "output_type": "execute_result"
    }
   ],
   "source": [
    "learn.save(modelpath/f'{run_name}_stage0')"
   ]
  },
  {
   "cell_type": "code",
   "execution_count": 82,
   "id": "b063b76f-9876-4481-bf34-03aa977b8c03",
   "metadata": {},
   "outputs": [
    {
     "data": {
      "text/plain": [
       "<fastai.learner.Learner at 0x7f4b5c037fa0>"
      ]
     },
     "execution_count": 82,
     "metadata": {},
     "output_type": "execute_result"
    }
   ],
   "source": [
    "learn.load(modelpath/f'{run_name}_stage0')"
   ]
  },
  {
   "cell_type": "code",
   "execution_count": 83,
   "id": "90ea1b28-28c6-4465-b0b1-dc00f4c0bf5a",
   "metadata": {},
   "outputs": [
    {
     "data": {
      "text/plain": [
       "(#19724) [(TSTensor(vars:206, len:1, device=cpu), tensor(329.)), (TSTensor(vars:206, len:1, device=cpu), tensor(520.)), (TSTensor(vars:206, len:1, device=cpu), tensor(146.)), (TSTensor(vars:206, len:1, device=cpu), tensor(572.)), (TSTensor(vars:206, len:1, device=cpu), tensor(911.)), (TSTensor(vars:206, len:1, device=cpu), tensor(283.)), (TSTensor(vars:206, len:1, device=cpu), tensor(526.)), (TSTensor(vars:206, len:1, device=cpu), tensor(906.)), (TSTensor(vars:206, len:1, device=cpu), tensor(250.)), (TSTensor(vars:206, len:1, device=cpu), tensor(1005.))] ...]"
      ]
     },
     "execution_count": 83,
     "metadata": {},
     "output_type": "execute_result"
    }
   ],
   "source": [
    "dls.train.dataset"
   ]
  },
  {
   "cell_type": "code",
   "execution_count": 84,
   "id": "902343c3-09ef-464c-80fe-3e663f92987a",
   "metadata": {},
   "outputs": [
    {
     "data": {
      "text/plain": [
       "(#6574) [(TSTensor(vars:206, len:1, device=cpu), tensor(290.)), (TSTensor(vars:206, len:1, device=cpu), tensor(1188.)), (TSTensor(vars:206, len:1, device=cpu), tensor(1781.)), (TSTensor(vars:206, len:1, device=cpu), tensor(530.)), (TSTensor(vars:206, len:1, device=cpu), tensor(405.)), (TSTensor(vars:206, len:1, device=cpu), tensor(621.)), (TSTensor(vars:206, len:1, device=cpu), tensor(176.)), (TSTensor(vars:206, len:1, device=cpu), tensor(714.)), (TSTensor(vars:206, len:1, device=cpu), tensor(1043.)), (TSTensor(vars:206, len:1, device=cpu), tensor(315.))] ...]"
      ]
     },
     "execution_count": 84,
     "metadata": {},
     "output_type": "execute_result"
    }
   ],
   "source": [
    "dls.valid.dataset"
   ]
  },
  {
   "cell_type": "code",
   "execution_count": 85,
   "id": "b789260c-ad21-40e6-96e5-3812318f685d",
   "metadata": {},
   "outputs": [
    {
     "data": {
      "text/plain": [
       "'cuda'"
      ]
     },
     "execution_count": 85,
     "metadata": {},
     "output_type": "execute_result"
    }
   ],
   "source": [
    "dls.device"
   ]
  },
  {
   "cell_type": "code",
   "execution_count": 86,
   "id": "fd48161e-b53a-49cc-bf4b-cd356fa1da2f",
   "metadata": {
    "tags": []
   },
   "outputs": [
    {
     "data": {
      "text/html": [],
      "text/plain": [
       "<IPython.core.display.HTML object>"
      ]
     },
     "metadata": {},
     "output_type": "display_data"
    },
    {
     "data": {
      "image/png": "[encoded data removed]",
      "text/plain": [
       "<Figure size 432x288 with 1 Axes>"
      ]
     },
     "metadata": {
      "needs_background": "light"
     },
     "output_type": "display_data"
    }
   ],
   "source": [
    "\n",
    "valley = learn.lr_find()"
   ]
  },
  {
   "cell_type": "code",
   "execution_count": 87,
   "id": "7ba2103a-da9d-410b-b778-e6ccef6a4eff",
   "metadata": {},
   "outputs": [],
   "source": [
    "# lr_options = learn.lr_find(suggest_funcs=(minimum, steep, valley, slide))\n",
    "# lr_options"
   ]
  },
  {
   "cell_type": "code",
   "execution_count": 88,
   "id": "073afc1c-8980-4cd1-8b91-fd85be73b8ae",
   "metadata": {},
   "outputs": [
    {
     "data": {
      "text/html": [
       "<table border=\"1\" class=\"dataframe\">\n",
       "  <thead>\n",
       "    <tr style=\"text-align: left;\">\n",
       "      <th>epoch</th>\n",
       "      <th>train_loss</th>\n",
       "      <th>valid_loss</th>\n",
       "      <th>mae</th>\n",
       "      <th>time</th>\n",
       "    </tr>\n",
       "  </thead>\n",
       "  <tbody>\n",
       "    <tr>\n",
       "      <td>0</td>\n",
       "      <td>17576.576172</td>\n",
       "      <td>8597.246094</td>\n",
       "      <td>57.443905</td>\n",
       "      <td>02:02</td>\n",
       "    </tr>\n",
       "    <tr>\n",
       "      <td>1</td>\n",
       "      <td>3674.320312</td>\n",
       "      <td>3448.026367</td>\n",
       "      <td>38.715008</td>\n",
       "      <td>02:03</td>\n",
       "    </tr>\n",
       "    <tr>\n",
       "      <td>2</td>\n",
       "      <td>1905.003906</td>\n",
       "      <td>2215.975586</td>\n",
       "      <td>32.276566</td>\n",
       "      <td>02:03</td>\n",
       "    </tr>\n",
       "    <tr>\n",
       "      <td>3</td>\n",
       "      <td>1270.206055</td>\n",
       "      <td>2969.929199</td>\n",
       "      <td>34.449421</td>\n",
       "      <td>02:03</td>\n",
       "    </tr>\n",
       "    <tr>\n",
       "      <td>4</td>\n",
       "      <td>681.121887</td>\n",
       "      <td>1539.395630</td>\n",
       "      <td>24.926777</td>\n",
       "      <td>02:03</td>\n",
       "    </tr>\n",
       "  </tbody>\n",
       "</table>"
      ],
      "text/plain": [
       "<IPython.core.display.HTML object>"
      ]
     },
     "metadata": {},
     "output_type": "display_data"
    }
   ],
   "source": [
    "learn.fit_one_cycle(5, lr_max=valley)"
   ]
  },
  {
   "cell_type": "code",
   "execution_count": 89,
   "id": "b43f6ef7-b880-4cb0-a148-f72f706c95f4",
   "metadata": {},
   "outputs": [
    {
     "data": {
      "text/plain": [
       "Path('/media/sf/easystore/kaggle_data/tabular_playgrounds/jan2022/models/TCN_20220203a_stage1.pth')"
      ]
     },
     "execution_count": 89,
     "metadata": {},
     "output_type": "execute_result"
    }
   ],
   "source": [
    "learn.save(modelpath/f'{run_name}_stage1')"
   ]
  },
  {
   "cell_type": "code",
   "execution_count": 90,
   "id": "c4f0066d-b90c-4d57-b651-166af1eab3e0",
   "metadata": {},
   "outputs": [],
   "source": [
    "# learn.fit_one_cycle(4, lr_max=valley)"
   ]
  },
  {
   "cell_type": "code",
   "execution_count": 91,
   "id": "03d58c5a-ddea-43c7-807a-be2a037302f0",
   "metadata": {},
   "outputs": [
    {
     "data": {
      "image/png": "[encoded data removed]",
      "text/plain": [
       "<Figure size 1296x288 with 3 Axes>"
      ]
     },
     "metadata": {
      "needs_background": "light"
     },
     "output_type": "display_data"
    }
   ],
   "source": [
    "learn.recorder.plot_metrics()"
   ]
  },
  {
   "cell_type": "code",
   "execution_count": 92,
   "id": "f1a4a5fd-3215-4fb7-a2b8-fda4ae6cb5d9",
   "metadata": {},
   "outputs": [],
   "source": [
    "learn.save_all(path=modelpath/f'tsai_exports/{run_name}', dls_fname='dls', model_fname='tcn', learner_fname='learner')"
   ]
  },
  {
   "cell_type": "code",
   "execution_count": 93,
   "id": "f71213b4-587c-4264-8d44-e7a1128f3a74",
   "metadata": {},
   "outputs": [
    {
     "data": {
      "text/plain": [
       "(#6574) [(TSTensor(vars:206, len:1, device=cpu), tensor(290.)), (TSTensor(vars:206, len:1, device=cpu), tensor(1188.)), (TSTensor(vars:206, len:1, device=cpu), tensor(1781.)), (TSTensor(vars:206, len:1, device=cpu), tensor(530.)), (TSTensor(vars:206, len:1, device=cpu), tensor(405.)), (TSTensor(vars:206, len:1, device=cpu), tensor(621.)), (TSTensor(vars:206, len:1, device=cpu), tensor(176.)), (TSTensor(vars:206, len:1, device=cpu), tensor(714.)), (TSTensor(vars:206, len:1, device=cpu), tensor(1043.)), (TSTensor(vars:206, len:1, device=cpu), tensor(315.))] ...]"
      ]
     },
     "execution_count": 93,
     "metadata": {},
     "output_type": "execute_result"
    }
   ],
   "source": [
    "dls.valid.dataset"
   ]
  },
  {
   "cell_type": "code",
   "execution_count": 94,
   "id": "a5826c8e-532c-4db4-bc5a-836488f6dd24",
   "metadata": {},
   "outputs": [
    {
     "data": {
      "text/html": [],
      "text/plain": [
       "<IPython.core.display.HTML object>"
      ]
     },
     "metadata": {},
     "output_type": "display_data"
    }
   ],
   "source": [
    "results = learn.get_preds(dl=dls.valid, with_decoded=True)"
   ]
  },
  {
   "cell_type": "code",
   "execution_count": 95,
   "id": "1dd1c71b-29d1-4a4e-b0cf-c8d4d97e07e9",
   "metadata": {},
   "outputs": [],
   "source": [
    "valid_preds, valid_targets, _ = results"
   ]
  },
  {
   "cell_type": "code",
   "execution_count": 96,
   "id": "f2289879-bff5-4501-b947-46fae2740512",
   "metadata": {},
   "outputs": [
    {
     "data": {
      "text/html": [],
      "text/plain": [
       "<IPython.core.display.HTML object>"
      ]
     },
     "metadata": {},
     "output_type": "display_data"
    },
    {
     "data": {
      "image/png": "[encoded data removed]",
      "text/plain": [
       "<Figure size 1296x864 with 9 Axes>"
      ]
     },
     "metadata": {
      "needs_background": "light"
     },
     "output_type": "display_data"
    }
   ],
   "source": [
    "learn.show_results()"
   ]
  },
  {
   "cell_type": "markdown",
   "id": "66274491-b199-45ab-9ff0-5e732ab6868b",
   "metadata": {},
   "source": [
    "- These plots aren't so interesting when you only have a single timestep for each sample..."
   ]
  },
  {
   "cell_type": "markdown",
   "id": "60431423-7ea2-4961-a0b7-4b7509e644fb",
   "metadata": {},
   "source": [
    "### Test Set Inference"
   ]
  },
  {
   "cell_type": "code",
   "execution_count": 97,
   "id": "bd21f1ba-afaa-4819-a74d-d206e73bc49f",
   "metadata": {},
   "outputs": [
    {
     "data": {
      "text/plain": [
       "(6570, 206, 1)"
      ]
     },
     "execution_count": 97,
     "metadata": {},
     "output_type": "execute_result"
    }
   ],
   "source": [
    "X_test = test_df.drop(columns=['target', 'num_sold'])\n",
    "_, X_test = label_encoder(X_test)\n",
    "X_test['date'] = X_test['date'].map(dt.datetime.toordinal)\n",
    "X_test = X_test.astype(np.float32)\n",
    "X_test = scaler.transform(X_test)\n",
    "X_test = np.array(X_test)\n",
    "X_test = np.expand_dims(X_test, axis=2)\n",
    "X_test.shape"
   ]
  },
  {
   "cell_type": "code",
   "execution_count": 98,
   "id": "b05c2862-2988-4dad-a135-b198bdb07918",
   "metadata": {},
   "outputs": [],
   "source": [
    "test_ds = dls.valid.dataset.add_test(X_test)"
   ]
  },
  {
   "cell_type": "code",
   "execution_count": 99,
   "id": "566bd47d-17ef-44f5-8e28-8ab6d05dde61",
   "metadata": {},
   "outputs": [],
   "source": [
    "test_dl = dls.valid.new(test_ds)"
   ]
  },
  {
   "cell_type": "code",
   "execution_count": 100,
   "id": "ff8257cc-9cc0-40f5-ae39-a54c7b389aff",
   "metadata": {},
   "outputs": [
    {
     "data": {
      "text/plain": [
       "(TSTensor(samples:128, vars:206, len:1, device=cuda:0),)"
      ]
     },
     "execution_count": 100,
     "metadata": {},
     "output_type": "execute_result"
    }
   ],
   "source": [
    "next(iter(test_dl))"
   ]
  },
  {
   "cell_type": "code",
   "execution_count": 101,
   "id": "296fedf8-b2d7-4d93-aea2-5dd9d86981ca",
   "metadata": {},
   "outputs": [
    {
     "data": {
      "text/html": [],
      "text/plain": [
       "<IPython.core.display.HTML object>"
      ]
     },
     "metadata": {},
     "output_type": "display_data"
    }
   ],
   "source": [
    "test_preds, _, _ = learn.get_preds(dl=test_dl, with_decoded=True)"
   ]
  },
  {
   "cell_type": "code",
   "execution_count": 102,
   "id": "f1b7dac3-6a0f-42d1-aff8-a095712ee318",
   "metadata": {},
   "outputs": [
    {
     "data": {
      "text/plain": [
       "tensor([[ 380.5389],\n",
       "        [ 595.6557],\n",
       "        [ 153.3768],\n",
       "        ...,\n",
       "        [1013.4371],\n",
       "        [1498.8495],\n",
       "        [ 480.4615]])"
      ]
     },
     "execution_count": 102,
     "metadata": {},
     "output_type": "execute_result"
    }
   ],
   "source": [
    "test_preds"
   ]
  },
  {
   "cell_type": "markdown",
   "id": "ecaa9b63-2e58-461c-a0b3-3accf1e5eda1",
   "metadata": {},
   "source": [
    "### Trainer"
   ]
  },
  {
   "cell_type": "code",
   "execution_count": 327,
   "id": "2ae02e97-9456-4d1a-9e95-8d89485b0db1",
   "metadata": {},
   "outputs": [],
   "source": [
    "def tsai_trainer(arch:str, model_kwargs={}, tv_df=tv_df, test_df=test_df, \n",
    "                 countries=countries, stores=stores, products=products,\n",
    "                 target='target', wandb_tracked=False, \n",
    "                 tfms = [None, [TSRegression()]],\n",
    "                 batch_tfms = TSStandardize(by_sample=True, by_var=True),\n",
    "                 num_epochs=30,\n",
    "                \n",
    "                ):\n",
    "    \n",
    "    models = {\n",
    "        'TCN': TCN,\n",
    "        'TST': TST,\n",
    "        'InceptionTime': InceptionTime,\n",
    "        'TSTPlus': TSTPlus\n",
    "    }\n",
    "    \n",
    "    \n",
    "    \n",
    "    X = tv_df.copy()#drop(columns=['target','num_sold'])\n",
    "#     y = tv_df[target]\n",
    "    X_test = test_df.copy()#drop(columns=['target', 'num_sold'])\n",
    "    \n",
    "#     if USE_GPU and torch.cuda.is_available():\n",
    "#         device = 'cuda' \n",
    "#     else:\n",
    "#         device = 'cpu'\n",
    "    \n",
    "    # apply label encoding (which Scikit-Learn models require, but *Prophets don't)\n",
    "    le_dict, X = label_encoder(X) # should leave broader scope's tv_df alone\n",
    "    _, X_test = label_encoder(X_test) # should leave broader scope's test_df alone\n",
    "    \n",
    "    # encode the lists of countries, stores, and products\n",
    "    countries = le_dict['country'].transform(countries)\n",
    "    stores = le_dict['store'].transform(stores)\n",
    "    products = le_dict['product'].transform(products)\n",
    "    \n",
    "#     y_tv = tv_df['num_sold']\n",
    "    tv_preds = pd.Series(0, index=tv_df.index)\n",
    "    test_preds = pd.Series(0, index=test_df.index)\n",
    "    \n",
    "    for country in countries:\n",
    "        for store in stores:\n",
    "            for product in products:\n",
    "                print(f\"Training {le_dict['country'].inverse_transform([country])}, {le_dict['store'].inverse_transform([store])}, {le_dict['product'].inverse_transform([product])}\")\n",
    "                \n",
    "                # X contains both the training and validation data\n",
    "                \n",
    "                model = models[arch]\n",
    "                train_idx = (X['date'] < '2018-01-01') &\\\n",
    "                            (X['country'] == country) &\\\n",
    "                            (X['store'] == store) &\\\n",
    "                            (X['product'] == product)\n",
    "                \n",
    "                train = X.loc[train_idx,:].reset_index(drop=True)\n",
    "                \n",
    "                val_idx = (X['date'] >= '2018-01-01') &\\\n",
    "                          (X['country'] == country) &\\\n",
    "                          (X['store'] == store) &\\\n",
    "                          (X['product'] == product)\n",
    "                \n",
    "                val = X.loc[val_idx, :].reset_index(drop=True)\n",
    "                \n",
    "                # don't need to split train and validation yet\n",
    "#                 tv_idx = (X['country'] == country) &\\\n",
    "#                          (X['store'] == store) &\\\n",
    "#                          (X['product'] == product)\n",
    "#                 tv = X.loc[tv_idx,:].reset_index(drop=True)\n",
    "                           \n",
    "                test_idx = (X_test['country'] == country) &\\\n",
    "                           (X_test['store'] == store) &\\\n",
    "                           (X_test['product'] == product)\n",
    "                \n",
    "                test = X_test.loc[test_idx, :].reset_index(drop=True)\n",
    "                print(f\"Length of X_test is {len(X_test)} and of test is {len(test)}\")\n",
    "                \n",
    "                tv = pd.concat([train, val], axis=0)\n",
    "#                 print('date' in tv.columns)\n",
    "#                 print(type(train), type(val))\n",
    "                           \n",
    "                y = tv[target]\n",
    "                y_train = train[target]\n",
    "                y_valid = val[target]\n",
    "                           \n",
    "                X_local = X.copy()\n",
    "\n",
    "                # with the training and validation sets sorted out, make them integers for model fitting\n",
    "#                 for df in [tv, test]:\n",
    "                print(f\"tv.shape is {tv.shape}, train.shape is {train.shape}, val.shape is {val.shape}\")\n",
    "                print(type(tv['date']), type(train['date']), type(val['date']), type(test['date']))\n",
    "                for df in [tv, train, val, test]:\n",
    "#                     print(type(df['date']))\n",
    "                    df['date'] = df['date'].map(dt.datetime.toordinal)\n",
    "                    df = df.drop(columns=['num_sold', 'target'], inplace=True)\n",
    "                \n",
    "                print(f\"After mods test has shape {test.shape}\")\n",
    "        \n",
    "                # MAYBE DON'T NEED TO PRE-SORT OUT VALIDATION ABOVE\n",
    "                           \n",
    "                # converting dates to integers\n",
    "#                 tv['date'] = tv['date'].map(dt.datetime.toordinal)\n",
    "#                 test['date'] = test['date'].map(dt.datetime.toordinal)\n",
    "                \n",
    "                # 736695 is the int code for '2018-01-01'; note these are conditions, not lists\n",
    "                combo_train_idx = tv['date'] < 736695\n",
    "                combo_val_idx = tv['date'] >= 736695\n",
    "                                \n",
    "#                 cutoff = len(tv[combo_train_idx]) # should be broadly consistent across combos, but just in case\n",
    "                \n",
    "#                 tv = pd.concat\n",
    "#                 cutoff = len(tv[combo_train_idx])\n",
    "                cutoff = len(train)\n",
    "                print(f\"Cutoff is {cutoff}\")\n",
    "    \n",
    "                # type casting\n",
    "                X_local = tv.astype(np.float32)\n",
    "                X_test_local = test.astype(np.float32)\n",
    "\n",
    "                # converting to np\n",
    "                X_local = np.array(X_local)\n",
    "                X_test_local = np.array(X_test_local)\n",
    "\n",
    "                # converting to 3d shape\n",
    "                X_3d = to3d(X_local)\n",
    "                X_test_3d = to3d(X_test_local)\n",
    "                \n",
    "                print(f\"X_test_3d is shape {X_test_3d.shape}\")\n",
    "                \n",
    "                del X_local, X_test_local\n",
    "                \n",
    "                # pseudo-manually setting 2018 to be validation set\n",
    "#                 splits = L(x for x in range(19728)), L(x for x in range(19728, 26298)) \n",
    "                splits = L(x for x in range(cutoff)), L(x for x in range(cutoff, len(tv))) \n",
    "#                 splits = L(list(combo_train_idx)), L(list(combo_val_idx))\n",
    "\n",
    "            \n",
    "                dsets = TSDatasets(X_3d, y, splits=splits, inplace=True,) #tfms=tfms)\n",
    "                testset = TSDataset(X=X_test_3d)#, inplace=True) # no tfms param allowed\n",
    "                \n",
    "                trainloader = TSDataLoader(\n",
    "                    dataset=dsets.train, \n",
    "                    bs=128, # 128\n",
    "                    shuffle=False, \n",
    "                    num_workers=8,\n",
    "                    batch_tfms=batch_tfms,\n",
    "                    pin_memory=True,\n",
    "                    device='cuda',\n",
    "                )\n",
    "\n",
    "                validloader = TSDataLoader(\n",
    "                    dataset=dsets.valid, \n",
    "                    bs=8, # 128\n",
    "                    shuffle=False, \n",
    "                    num_workers=8,\n",
    "                    batch_tfms=batch_tfms,\n",
    "                    pin_memory=True,\n",
    "                    device='cuda',\n",
    "                )\n",
    "                \n",
    "                testloader = TSDataLoader(\n",
    "                    dataset=testset,\n",
    "                    bs=365, #8, # 128\n",
    "                    shuffle=False,\n",
    "                    num_workers=8,\n",
    "                    batch_tfms=batch_tfms,\n",
    "                    pin_memory=True,\n",
    "                    device='cuda'\n",
    "                )\n",
    "\n",
    "                dls = TSDataLoaders(trainloader, validloader, device='cuda')\n",
    "                learner = ts_learner(dls, model, metrics=[mae, rmse], cbs=[ShowGraph(), SaveModel(fname=modelpath/f\"20220130_tsai_{arch}_{le_dict['country'].inverse_transform([country])}_{le_dict['store'].inverse_transform([store])}_{le_dict['product'].inverse_transform([product])}.pth\", monitor='valid_loss', with_opt=True)],)\n",
    "                \n",
    "#                 lr = learner.lr_find().valley\n",
    "                lr = 3e-3\n",
    "                \n",
    "                learner.fit_one_cycle(num_epochs, lr)\n",
    "                \n",
    "                combo_train_preds = learner.get_X_preds(X_3d[combo_train_idx])\n",
    "#                 _, _, combo_train_preds = learner.get_X_preds(dsets.train)\n",
    "                combo_valid_preds = learner.get_X_preds(X_3d[combo_val_idx])\n",
    "#                 _, _, combo_valid_preds = learner.get_X_preds(dsets.valid)\n",
    "#                 combo_test_preds = learner.get_X_preds(X_test_3d[test_idx])\n",
    "                combo_test_preds = learner.get_X_preds(X_test_3d)\n",
    "#                 _, _, combo_test_preds = learner.get_X_preds(testset)\n",
    "                \n",
    "#                 combo_train_preds = \n",
    "#                 combo_train_preds = np.exp(combo_train_preds) * tv_df['gdp']\n",
    "            \n",
    "                return combo_train_preds, combo_valid_preds, combo_test_preds, X_test_3d #, tv_preds, combo_train_idx\n",
    "    \n",
    "                tv_preds[combo_train_idx] = np.array(combo_train_preds).flatten()\n",
    "                tv_preds[combo_val_idx] = np.array(combo_valid_preds).flatten()\n",
    "#                 test_preds[test_idx] = np.array(combo_test_preds).flatten()\n",
    "#                 print(f\"Valid SMAPE is {SMAPE(y_pred=tv_preds[combo_valid_idx], y_true=tv_df.loc[combo_valid_idx]['num_sold'])}\n",
    "            \n",
    "    if target == 'target':\n",
    "        tv_preds = np.exp(tv_preds) * tv_df['gdp']**gdp_exponent\n",
    "#         test_preds = np.exp(test_preds) * test_df['gdp']**gdp_exponent\n",
    "\n",
    "    valid_smape = SMAPE(y_true=tv_preds[19728:], y_pred=tv_preds[19728:])\n",
    "    print(f\"Valid SMAPE is: {smape}\")\n",
    "    \n",
    "    return tv_preds#, test_preds"
   ]
  },
  {
   "cell_type": "code",
   "execution_count": 222,
   "id": "09a6ce15-e69c-44d3-bca3-4b8acdaed03c",
   "metadata": {},
   "outputs": [
    {
     "data": {
      "text/plain": [
       "19728"
      ]
     },
     "execution_count": 222,
     "metadata": {},
     "output_type": "execute_result"
    }
   ],
   "source": [
    "cutoff = len(tv_df[tv_df['date'] < '2018-01-01'])\n",
    "cutoff"
   ]
  },
  {
   "cell_type": "code",
   "execution_count": 224,
   "id": "2c7fb399-3a28-4ead-96b3-4b9e2de7518b",
   "metadata": {},
   "outputs": [
    {
     "data": {
      "text/html": [
       "<div>\n",
       "<style scoped>\n",
       "    .dataframe tbody tr th:only-of-type {\n",
       "        vertical-align: middle;\n",
       "    }\n",
       "\n",
       "    .dataframe tbody tr th {\n",
       "        vertical-align: top;\n",
       "    }\n",
       "\n",
       "    .dataframe thead th {\n",
       "        text-align: right;\n",
       "    }\n",
       "</style>\n",
       "<table border=\"1\" class=\"dataframe\">\n",
       "  <thead>\n",
       "    <tr style=\"text-align: right;\">\n",
       "      <th></th>\n",
       "      <th>date</th>\n",
       "      <th>country</th>\n",
       "      <th>store</th>\n",
       "      <th>product</th>\n",
       "      <th>num_sold</th>\n",
       "      <th>gdp</th>\n",
       "      <th>wd0</th>\n",
       "      <th>wd1</th>\n",
       "      <th>wd2</th>\n",
       "      <th>wd3</th>\n",
       "      <th>...</th>\n",
       "      <th>easter51</th>\n",
       "      <th>easter52</th>\n",
       "      <th>easter53</th>\n",
       "      <th>easter54</th>\n",
       "      <th>easter55</th>\n",
       "      <th>easter56</th>\n",
       "      <th>easter57</th>\n",
       "      <th>easter58</th>\n",
       "      <th>holiday</th>\n",
       "      <th>target</th>\n",
       "    </tr>\n",
       "  </thead>\n",
       "  <tbody>\n",
       "    <tr>\n",
       "      <th>19728</th>\n",
       "      <td>2018-01-01</td>\n",
       "      <td>Finland</td>\n",
       "      <td>KaggleMart</td>\n",
       "      <td>Kaggle Mug</td>\n",
       "      <td>405.0</td>\n",
       "      <td>5.622500</td>\n",
       "      <td>True</td>\n",
       "      <td>False</td>\n",
       "      <td>False</td>\n",
       "      <td>False</td>\n",
       "      <td>...</td>\n",
       "      <td>False</td>\n",
       "      <td>False</td>\n",
       "      <td>False</td>\n",
       "      <td>False</td>\n",
       "      <td>False</td>\n",
       "      <td>False</td>\n",
       "      <td>False</td>\n",
       "      <td>False</td>\n",
       "      <td>1</td>\n",
       "      <td>3.910844</td>\n",
       "    </tr>\n",
       "    <tr>\n",
       "      <th>19729</th>\n",
       "      <td>2018-01-01</td>\n",
       "      <td>Finland</td>\n",
       "      <td>KaggleMart</td>\n",
       "      <td>Kaggle Hat</td>\n",
       "      <td>621.0</td>\n",
       "      <td>5.622500</td>\n",
       "      <td>True</td>\n",
       "      <td>False</td>\n",
       "      <td>False</td>\n",
       "      <td>False</td>\n",
       "      <td>...</td>\n",
       "      <td>False</td>\n",
       "      <td>False</td>\n",
       "      <td>False</td>\n",
       "      <td>False</td>\n",
       "      <td>False</td>\n",
       "      <td>False</td>\n",
       "      <td>False</td>\n",
       "      <td>False</td>\n",
       "      <td>1</td>\n",
       "      <td>4.338288</td>\n",
       "    </tr>\n",
       "    <tr>\n",
       "      <th>19730</th>\n",
       "      <td>2018-01-01</td>\n",
       "      <td>Finland</td>\n",
       "      <td>KaggleMart</td>\n",
       "      <td>Kaggle Sticker</td>\n",
       "      <td>176.0</td>\n",
       "      <td>5.622500</td>\n",
       "      <td>True</td>\n",
       "      <td>False</td>\n",
       "      <td>False</td>\n",
       "      <td>False</td>\n",
       "      <td>...</td>\n",
       "      <td>False</td>\n",
       "      <td>False</td>\n",
       "      <td>False</td>\n",
       "      <td>False</td>\n",
       "      <td>False</td>\n",
       "      <td>False</td>\n",
       "      <td>False</td>\n",
       "      <td>False</td>\n",
       "      <td>1</td>\n",
       "      <td>3.077440</td>\n",
       "    </tr>\n",
       "    <tr>\n",
       "      <th>19731</th>\n",
       "      <td>2018-01-01</td>\n",
       "      <td>Finland</td>\n",
       "      <td>KaggleRama</td>\n",
       "      <td>Kaggle Mug</td>\n",
       "      <td>714.0</td>\n",
       "      <td>5.622500</td>\n",
       "      <td>True</td>\n",
       "      <td>False</td>\n",
       "      <td>False</td>\n",
       "      <td>False</td>\n",
       "      <td>...</td>\n",
       "      <td>False</td>\n",
       "      <td>False</td>\n",
       "      <td>False</td>\n",
       "      <td>False</td>\n",
       "      <td>False</td>\n",
       "      <td>False</td>\n",
       "      <td>False</td>\n",
       "      <td>False</td>\n",
       "      <td>1</td>\n",
       "      <td>4.477839</td>\n",
       "    </tr>\n",
       "    <tr>\n",
       "      <th>19732</th>\n",
       "      <td>2018-01-01</td>\n",
       "      <td>Finland</td>\n",
       "      <td>KaggleRama</td>\n",
       "      <td>Kaggle Hat</td>\n",
       "      <td>1043.0</td>\n",
       "      <td>5.622500</td>\n",
       "      <td>True</td>\n",
       "      <td>False</td>\n",
       "      <td>False</td>\n",
       "      <td>False</td>\n",
       "      <td>...</td>\n",
       "      <td>False</td>\n",
       "      <td>False</td>\n",
       "      <td>False</td>\n",
       "      <td>False</td>\n",
       "      <td>False</td>\n",
       "      <td>False</td>\n",
       "      <td>False</td>\n",
       "      <td>False</td>\n",
       "      <td>1</td>\n",
       "      <td>4.856813</td>\n",
       "    </tr>\n",
       "    <tr>\n",
       "      <th>...</th>\n",
       "      <td>...</td>\n",
       "      <td>...</td>\n",
       "      <td>...</td>\n",
       "      <td>...</td>\n",
       "      <td>...</td>\n",
       "      <td>...</td>\n",
       "      <td>...</td>\n",
       "      <td>...</td>\n",
       "      <td>...</td>\n",
       "      <td>...</td>\n",
       "      <td>...</td>\n",
       "      <td>...</td>\n",
       "      <td>...</td>\n",
       "      <td>...</td>\n",
       "      <td>...</td>\n",
       "      <td>...</td>\n",
       "      <td>...</td>\n",
       "      <td>...</td>\n",
       "      <td>...</td>\n",
       "      <td>...</td>\n",
       "      <td>...</td>\n",
       "    </tr>\n",
       "    <tr>\n",
       "      <th>26293</th>\n",
       "      <td>2018-12-31</td>\n",
       "      <td>Sweden</td>\n",
       "      <td>KaggleMart</td>\n",
       "      <td>Kaggle Hat</td>\n",
       "      <td>823.0</td>\n",
       "      <td>6.321586</td>\n",
       "      <td>True</td>\n",
       "      <td>False</td>\n",
       "      <td>False</td>\n",
       "      <td>False</td>\n",
       "      <td>...</td>\n",
       "      <td>False</td>\n",
       "      <td>False</td>\n",
       "      <td>False</td>\n",
       "      <td>False</td>\n",
       "      <td>False</td>\n",
       "      <td>False</td>\n",
       "      <td>False</td>\n",
       "      <td>False</td>\n",
       "      <td>1</td>\n",
       "      <td>4.477861</td>\n",
       "    </tr>\n",
       "    <tr>\n",
       "      <th>26294</th>\n",
       "      <td>2018-12-31</td>\n",
       "      <td>Sweden</td>\n",
       "      <td>KaggleMart</td>\n",
       "      <td>Kaggle Sticker</td>\n",
       "      <td>250.0</td>\n",
       "      <td>6.321586</td>\n",
       "      <td>True</td>\n",
       "      <td>False</td>\n",
       "      <td>False</td>\n",
       "      <td>False</td>\n",
       "      <td>...</td>\n",
       "      <td>False</td>\n",
       "      <td>False</td>\n",
       "      <td>False</td>\n",
       "      <td>False</td>\n",
       "      <td>False</td>\n",
       "      <td>False</td>\n",
       "      <td>False</td>\n",
       "      <td>False</td>\n",
       "      <td>1</td>\n",
       "      <td>3.286366</td>\n",
       "    </tr>\n",
       "    <tr>\n",
       "      <th>26295</th>\n",
       "      <td>2018-12-31</td>\n",
       "      <td>Sweden</td>\n",
       "      <td>KaggleRama</td>\n",
       "      <td>Kaggle Mug</td>\n",
       "      <td>1004.0</td>\n",
       "      <td>6.321586</td>\n",
       "      <td>True</td>\n",
       "      <td>False</td>\n",
       "      <td>False</td>\n",
       "      <td>False</td>\n",
       "      <td>...</td>\n",
       "      <td>False</td>\n",
       "      <td>False</td>\n",
       "      <td>False</td>\n",
       "      <td>False</td>\n",
       "      <td>False</td>\n",
       "      <td>False</td>\n",
       "      <td>False</td>\n",
       "      <td>False</td>\n",
       "      <td>1</td>\n",
       "      <td>4.676652</td>\n",
       "    </tr>\n",
       "    <tr>\n",
       "      <th>26296</th>\n",
       "      <td>2018-12-31</td>\n",
       "      <td>Sweden</td>\n",
       "      <td>KaggleRama</td>\n",
       "      <td>Kaggle Hat</td>\n",
       "      <td>1441.0</td>\n",
       "      <td>6.321586</td>\n",
       "      <td>True</td>\n",
       "      <td>False</td>\n",
       "      <td>False</td>\n",
       "      <td>False</td>\n",
       "      <td>...</td>\n",
       "      <td>False</td>\n",
       "      <td>False</td>\n",
       "      <td>False</td>\n",
       "      <td>False</td>\n",
       "      <td>False</td>\n",
       "      <td>False</td>\n",
       "      <td>False</td>\n",
       "      <td>False</td>\n",
       "      <td>1</td>\n",
       "      <td>5.037997</td>\n",
       "    </tr>\n",
       "    <tr>\n",
       "      <th>26297</th>\n",
       "      <td>2018-12-31</td>\n",
       "      <td>Sweden</td>\n",
       "      <td>KaggleRama</td>\n",
       "      <td>Kaggle Sticker</td>\n",
       "      <td>388.0</td>\n",
       "      <td>6.321586</td>\n",
       "      <td>True</td>\n",
       "      <td>False</td>\n",
       "      <td>False</td>\n",
       "      <td>False</td>\n",
       "      <td>...</td>\n",
       "      <td>False</td>\n",
       "      <td>False</td>\n",
       "      <td>False</td>\n",
       "      <td>False</td>\n",
       "      <td>False</td>\n",
       "      <td>False</td>\n",
       "      <td>False</td>\n",
       "      <td>False</td>\n",
       "      <td>1</td>\n",
       "      <td>3.725910</td>\n",
       "    </tr>\n",
       "  </tbody>\n",
       "</table>\n",
       "<p>6570 rows × 208 columns</p>\n",
       "</div>"
      ],
      "text/plain": [
       "            date  country       store         product  num_sold       gdp  \\\n",
       "19728 2018-01-01  Finland  KaggleMart      Kaggle Mug     405.0  5.622500   \n",
       "19729 2018-01-01  Finland  KaggleMart      Kaggle Hat     621.0  5.622500   \n",
       "19730 2018-01-01  Finland  KaggleMart  Kaggle Sticker     176.0  5.622500   \n",
       "19731 2018-01-01  Finland  KaggleRama      Kaggle Mug     714.0  5.622500   \n",
       "19732 2018-01-01  Finland  KaggleRama      Kaggle Hat    1043.0  5.622500   \n",
       "...          ...      ...         ...             ...       ...       ...   \n",
       "26293 2018-12-31   Sweden  KaggleMart      Kaggle Hat     823.0  6.321586   \n",
       "26294 2018-12-31   Sweden  KaggleMart  Kaggle Sticker     250.0  6.321586   \n",
       "26295 2018-12-31   Sweden  KaggleRama      Kaggle Mug    1004.0  6.321586   \n",
       "26296 2018-12-31   Sweden  KaggleRama      Kaggle Hat    1441.0  6.321586   \n",
       "26297 2018-12-31   Sweden  KaggleRama  Kaggle Sticker     388.0  6.321586   \n",
       "\n",
       "        wd0    wd1    wd2    wd3  ...  easter51  easter52  easter53  easter54  \\\n",
       "19728  True  False  False  False  ...     False     False     False     False   \n",
       "19729  True  False  False  False  ...     False     False     False     False   \n",
       "19730  True  False  False  False  ...     False     False     False     False   \n",
       "19731  True  False  False  False  ...     False     False     False     False   \n",
       "19732  True  False  False  False  ...     False     False     False     False   \n",
       "...     ...    ...    ...    ...  ...       ...       ...       ...       ...   \n",
       "26293  True  False  False  False  ...     False     False     False     False   \n",
       "26294  True  False  False  False  ...     False     False     False     False   \n",
       "26295  True  False  False  False  ...     False     False     False     False   \n",
       "26296  True  False  False  False  ...     False     False     False     False   \n",
       "26297  True  False  False  False  ...     False     False     False     False   \n",
       "\n",
       "       easter55  easter56  easter57  easter58  holiday    target  \n",
       "19728     False     False     False     False        1  3.910844  \n",
       "19729     False     False     False     False        1  4.338288  \n",
       "19730     False     False     False     False        1  3.077440  \n",
       "19731     False     False     False     False        1  4.477839  \n",
       "19732     False     False     False     False        1  4.856813  \n",
       "...         ...       ...       ...       ...      ...       ...  \n",
       "26293     False     False     False     False        1  4.477861  \n",
       "26294     False     False     False     False        1  3.286366  \n",
       "26295     False     False     False     False        1  4.676652  \n",
       "26296     False     False     False     False        1  5.037997  \n",
       "26297     False     False     False     False        1  3.725910  \n",
       "\n",
       "[6570 rows x 208 columns]"
      ]
     },
     "execution_count": 224,
     "metadata": {},
     "output_type": "execute_result"
    }
   ],
   "source": [
    "tv_df.iloc[cutoff:len(tv_df),:]"
   ]
  },
  {
   "cell_type": "code",
   "execution_count": 228,
   "id": "e6874f78-65e6-4ec1-9116-5cc3f021fe31",
   "metadata": {},
   "outputs": [
    {
     "data": {
      "text/html": [
       "<div>\n",
       "<style scoped>\n",
       "    .dataframe tbody tr th:only-of-type {\n",
       "        vertical-align: middle;\n",
       "    }\n",
       "\n",
       "    .dataframe tbody tr th {\n",
       "        vertical-align: top;\n",
       "    }\n",
       "\n",
       "    .dataframe thead th {\n",
       "        text-align: right;\n",
       "    }\n",
       "</style>\n",
       "<table border=\"1\" class=\"dataframe\">\n",
       "  <thead>\n",
       "    <tr style=\"text-align: right;\">\n",
       "      <th></th>\n",
       "      <th>date</th>\n",
       "      <th>country</th>\n",
       "      <th>store</th>\n",
       "      <th>product</th>\n",
       "      <th>num_sold</th>\n",
       "      <th>gdp</th>\n",
       "      <th>wd0</th>\n",
       "      <th>wd1</th>\n",
       "      <th>wd2</th>\n",
       "      <th>wd3</th>\n",
       "      <th>...</th>\n",
       "      <th>easter51</th>\n",
       "      <th>easter52</th>\n",
       "      <th>easter53</th>\n",
       "      <th>easter54</th>\n",
       "      <th>easter55</th>\n",
       "      <th>easter56</th>\n",
       "      <th>easter57</th>\n",
       "      <th>easter58</th>\n",
       "      <th>holiday</th>\n",
       "      <th>target</th>\n",
       "    </tr>\n",
       "  </thead>\n",
       "  <tbody>\n",
       "    <tr>\n",
       "      <th>26296</th>\n",
       "      <td>2018-12-31</td>\n",
       "      <td>Sweden</td>\n",
       "      <td>KaggleRama</td>\n",
       "      <td>Kaggle Hat</td>\n",
       "      <td>1441.0</td>\n",
       "      <td>6.321586</td>\n",
       "      <td>True</td>\n",
       "      <td>False</td>\n",
       "      <td>False</td>\n",
       "      <td>False</td>\n",
       "      <td>...</td>\n",
       "      <td>False</td>\n",
       "      <td>False</td>\n",
       "      <td>False</td>\n",
       "      <td>False</td>\n",
       "      <td>False</td>\n",
       "      <td>False</td>\n",
       "      <td>False</td>\n",
       "      <td>False</td>\n",
       "      <td>1</td>\n",
       "      <td>5.037997</td>\n",
       "    </tr>\n",
       "    <tr>\n",
       "      <th>26297</th>\n",
       "      <td>2018-12-31</td>\n",
       "      <td>Sweden</td>\n",
       "      <td>KaggleRama</td>\n",
       "      <td>Kaggle Sticker</td>\n",
       "      <td>388.0</td>\n",
       "      <td>6.321586</td>\n",
       "      <td>True</td>\n",
       "      <td>False</td>\n",
       "      <td>False</td>\n",
       "      <td>False</td>\n",
       "      <td>...</td>\n",
       "      <td>False</td>\n",
       "      <td>False</td>\n",
       "      <td>False</td>\n",
       "      <td>False</td>\n",
       "      <td>False</td>\n",
       "      <td>False</td>\n",
       "      <td>False</td>\n",
       "      <td>False</td>\n",
       "      <td>1</td>\n",
       "      <td>3.725910</td>\n",
       "    </tr>\n",
       "  </tbody>\n",
       "</table>\n",
       "<p>2 rows × 208 columns</p>\n",
       "</div>"
      ],
      "text/plain": [
       "            date country       store         product  num_sold       gdp  \\\n",
       "26296 2018-12-31  Sweden  KaggleRama      Kaggle Hat    1441.0  6.321586   \n",
       "26297 2018-12-31  Sweden  KaggleRama  Kaggle Sticker     388.0  6.321586   \n",
       "\n",
       "        wd0    wd1    wd2    wd3  ...  easter51  easter52  easter53  easter54  \\\n",
       "26296  True  False  False  False  ...     False     False     False     False   \n",
       "26297  True  False  False  False  ...     False     False     False     False   \n",
       "\n",
       "       easter55  easter56  easter57  easter58  holiday    target  \n",
       "26296     False     False     False     False        1  5.037997  \n",
       "26297     False     False     False     False        1  3.725910  \n",
       "\n",
       "[2 rows x 208 columns]"
      ]
     },
     "execution_count": 228,
     "metadata": {},
     "output_type": "execute_result"
    }
   ],
   "source": [
    "tv_df.iloc[-2:len(tv_df),:]"
   ]
  },
  {
   "cell_type": "code",
   "execution_count": 276,
   "id": "254ff1ee-be3d-4ab7-bcb1-fe8dc6edfa2a",
   "metadata": {},
   "outputs": [
    {
     "data": {
      "text/plain": [
       "pandas.core.series.Series"
      ]
     },
     "execution_count": 276,
     "metadata": {},
     "output_type": "execute_result"
    }
   ],
   "source": [
    "type(tv_df['date'])"
   ]
  },
  {
   "cell_type": "code",
   "execution_count": 332,
   "id": "b538f1fb-e750-45ee-8925-6e5b17d2883b",
   "metadata": {},
   "outputs": [
    {
     "name": "stdout",
     "output_type": "stream",
     "text": [
      "Training ['Sweden'], ['KaggleRama'], ['Kaggle Mug']\n",
      "Length of X_test is 6570 and of test is 365\n",
      "tv.shape is (1461, 208), train.shape is (1096, 208), val.shape is (365, 208)\n",
      "<class 'pandas.core.series.Series'> <class 'pandas.core.series.Series'> <class 'pandas.core.series.Series'> <class 'pandas.core.series.Series'>\n",
      "After mods test has shape (365, 206)\n",
      "Cutoff is 1096\n",
      "X_test_3d is shape (365, 1, 206)\n"
     ]
    },
    {
     "data": {
      "text/html": [
       "<table border=\"1\" class=\"dataframe\">\n",
       "  <thead>\n",
       "    <tr style=\"text-align: left;\">\n",
       "      <th>epoch</th>\n",
       "      <th>train_loss</th>\n",
       "      <th>valid_loss</th>\n",
       "      <th>mae</th>\n",
       "      <th>_rmse</th>\n",
       "      <th>time</th>\n",
       "    </tr>\n",
       "  </thead>\n",
       "  <tbody>\n",
       "    <tr>\n",
       "      <td>0</td>\n",
       "      <td>10206.973633</td>\n",
       "      <td>5231.862305</td>\n",
       "      <td>72.331429</td>\n",
       "      <td>72.331619</td>\n",
       "      <td>00:08</td>\n",
       "    </tr>\n",
       "    <tr>\n",
       "      <td>1</td>\n",
       "      <td>5353.058594</td>\n",
       "      <td>403.934326</td>\n",
       "      <td>20.097410</td>\n",
       "      <td>20.098120</td>\n",
       "      <td>00:08</td>\n",
       "    </tr>\n",
       "    <tr>\n",
       "      <td>2</td>\n",
       "      <td>3310.162598</td>\n",
       "      <td>15.745441</td>\n",
       "      <td>3.964481</td>\n",
       "      <td>3.968053</td>\n",
       "      <td>00:14</td>\n",
       "    </tr>\n",
       "    <tr>\n",
       "      <td>3</td>\n",
       "      <td>2281.682617</td>\n",
       "      <td>35.666649</td>\n",
       "      <td>5.969786</td>\n",
       "      <td>5.972156</td>\n",
       "      <td>00:09</td>\n",
       "    </tr>\n",
       "  </tbody>\n",
       "</table>"
      ],
      "text/plain": [
       "<IPython.core.display.HTML object>"
      ]
     },
     "metadata": {},
     "output_type": "display_data"
    },
    {
     "data": {
      "image/png": "[encoded data removed]",
      "text/plain": [
       "<Figure size 432x288 with 1 Axes>"
      ]
     },
     "metadata": {},
     "output_type": "display_data"
    },
    {
     "data": {
      "image/png": "[encoded data removed]",
      "text/plain": [
       "<Figure size 1296x288 with 3 Axes>"
      ]
     },
     "metadata": {
      "needs_background": "light"
     },
     "output_type": "display_data"
    },
    {
     "data": {
      "text/html": [],
      "text/plain": [
       "<IPython.core.display.HTML object>"
      ]
     },
     "metadata": {},
     "output_type": "display_data"
    },
    {
     "data": {
      "text/html": [],
      "text/plain": [
       "<IPython.core.display.HTML object>"
      ]
     },
     "metadata": {},
     "output_type": "display_data"
    },
    {
     "data": {
      "text/html": [],
      "text/plain": [
       "<IPython.core.display.HTML object>"
      ]
     },
     "metadata": {},
     "output_type": "display_data"
    },
    {
     "name": "stdout",
     "output_type": "stream",
     "text": [
      "CPU times: user 45.9 s, sys: 5.02 s, total: 51 s\n",
      "Wall time: 51.4 s\n"
     ]
    }
   ],
   "source": [
    "%%time\n",
    "combo_train_preds, combo_valid_preds, combo_test_preds, X_test_3d = tsai_trainer(arch='TCN', num_epochs=4, countries=['Sweden', 'Finland'], stores=['KaggleRama'], products=['Kaggle Mug'])"
   ]
  },
  {
   "cell_type": "code",
   "execution_count": 335,
   "id": "b6aa845b-7891-4acc-8dcb-46e4fd2f666c",
   "metadata": {},
   "outputs": [
    {
     "data": {
      "text/plain": [
       "1088"
      ]
     },
     "execution_count": 335,
     "metadata": {},
     "output_type": "execute_result"
    }
   ],
   "source": [
    "len(combo_train_preds[0])"
   ]
  },
  {
   "cell_type": "code",
   "execution_count": 333,
   "id": "e408c749-a4aa-40ab-a97a-eb44a7500edf",
   "metadata": {},
   "outputs": [
    {
     "data": {
      "text/plain": [
       "(365, 1, 206)"
      ]
     },
     "execution_count": 333,
     "metadata": {},
     "output_type": "execute_result"
    }
   ],
   "source": [
    "X_test_3d.shape"
   ]
  },
  {
   "cell_type": "code",
   "execution_count": 334,
   "id": "15494205-ec45-4bb3-a220-672c40bbe7c5",
   "metadata": {},
   "outputs": [
    {
     "data": {
      "text/plain": [
       "320"
      ]
     },
     "execution_count": 334,
     "metadata": {},
     "output_type": "execute_result"
    }
   ],
   "source": [
    "len(combo_test_preds[0])"
   ]
  },
  {
   "cell_type": "code",
   "execution_count": 331,
   "id": "2a29f974-16fe-4b05-8e50-2fedc9ee49e6",
   "metadata": {},
   "outputs": [
    {
     "data": {
      "text/plain": [
       "tensor([[21.5673],\n",
       "        [21.5673],\n",
       "        [21.5673],\n",
       "        [21.5674],\n",
       "        [21.5674],\n",
       "        [21.5674],\n",
       "        [21.5674],\n",
       "        [21.5674],\n",
       "        [21.5675],\n",
       "        [21.5676],\n",
       "        [21.5676],\n",
       "        [21.5676],\n",
       "        [21.5676],\n",
       "        [21.5676],\n",
       "        [21.5676],\n",
       "        [21.5677],\n",
       "        [21.5678],\n",
       "        [21.5678],\n",
       "        [21.5678],\n",
       "        [21.5678],\n",
       "        [21.5679],\n",
       "        [21.5678],\n",
       "        [21.5679],\n",
       "        [21.5680],\n",
       "        [21.5680],\n",
       "        [21.5680],\n",
       "        [21.5680],\n",
       "        [21.5681],\n",
       "        [21.5680],\n",
       "        [21.5681],\n",
       "        [21.5682],\n",
       "        [21.5682],\n",
       "        [21.5682],\n",
       "        [21.5682],\n",
       "        [21.5683],\n",
       "        [21.5682],\n",
       "        [21.5683],\n",
       "        [21.5684],\n",
       "        [21.5684],\n",
       "        [21.5684],\n",
       "        [21.5684],\n",
       "        [21.5685],\n",
       "        [21.5684],\n",
       "        [21.5685],\n",
       "        [21.5686],\n",
       "        [21.5686],\n",
       "        [21.5686],\n",
       "        [21.5686],\n",
       "        [21.5687],\n",
       "        [21.5686],\n",
       "        [21.5687],\n",
       "        [21.5688],\n",
       "        [21.5688],\n",
       "        [21.5688],\n",
       "        [21.5688],\n",
       "        [21.5689],\n",
       "        [21.5688],\n",
       "        [21.5689],\n",
       "        [21.5690],\n",
       "        [21.5690],\n",
       "        [21.5690],\n",
       "        [21.5690],\n",
       "        [21.5691],\n",
       "        [21.5691],\n",
       "        [21.5691],\n",
       "        [21.5692],\n",
       "        [21.5692],\n",
       "        [21.5692],\n",
       "        [21.5692],\n",
       "        [21.5693],\n",
       "        [21.5693],\n",
       "        [21.5693],\n",
       "        [21.5694],\n",
       "        [21.5695],\n",
       "        [21.5694],\n",
       "        [21.5694],\n",
       "        [21.5695],\n",
       "        [21.5695],\n",
       "        [21.5695],\n",
       "        [21.5696],\n",
       "        [21.5697],\n",
       "        [21.5696],\n",
       "        [21.5696],\n",
       "        [21.5697],\n",
       "        [21.5697],\n",
       "        [21.5697],\n",
       "        [21.5698],\n",
       "        [21.5699],\n",
       "        [21.5698],\n",
       "        [21.5698],\n",
       "        [21.5699],\n",
       "        [21.5699],\n",
       "        [21.5699],\n",
       "        [21.5700],\n",
       "        [21.5701],\n",
       "        [21.5701],\n",
       "        [21.5700],\n",
       "        [21.5701],\n",
       "        [21.5701],\n",
       "        [21.5701],\n",
       "        [21.5702],\n",
       "        [21.5703],\n",
       "        [21.5703],\n",
       "        [21.5702],\n",
       "        [21.5703],\n",
       "        [21.5703],\n",
       "        [21.5704],\n",
       "        [21.5704],\n",
       "        [21.5705],\n",
       "        [21.5705],\n",
       "        [21.5704],\n",
       "        [21.5705],\n",
       "        [21.5705],\n",
       "        [21.5706],\n",
       "        [21.5706],\n",
       "        [21.5707],\n",
       "        [21.5707],\n",
       "        [21.5706],\n",
       "        [21.5707],\n",
       "        [21.5707],\n",
       "        [21.5707],\n",
       "        [21.5708],\n",
       "        [21.5709],\n",
       "        [21.5709],\n",
       "        [21.5708],\n",
       "        [21.5709],\n",
       "        [21.5709],\n",
       "        [21.5710],\n",
       "        [21.5710],\n",
       "        [21.5711],\n",
       "        [21.5711],\n",
       "        [21.5711],\n",
       "        [21.5711],\n",
       "        [21.5711],\n",
       "        [21.5712],\n",
       "        [21.5713],\n",
       "        [21.5713],\n",
       "        [21.5713],\n",
       "        [21.5713],\n",
       "        [21.5714],\n",
       "        [21.5713],\n",
       "        [21.5714],\n",
       "        [21.5715],\n",
       "        [21.5715],\n",
       "        [21.5715],\n",
       "        [21.5715],\n",
       "        [21.5716],\n",
       "        [21.5715],\n",
       "        [21.5716],\n",
       "        [21.5717],\n",
       "        [21.5717],\n",
       "        [21.5717],\n",
       "        [21.5717],\n",
       "        [21.5718],\n",
       "        [21.5718],\n",
       "        [21.5718],\n",
       "        [21.5719],\n",
       "        [21.5720],\n",
       "        [21.5719],\n",
       "        [21.5719],\n",
       "        [21.5720],\n",
       "        [21.5720],\n",
       "        [21.5720],\n",
       "        [21.5721],\n",
       "        [21.5722],\n",
       "        [21.5721],\n",
       "        [21.5721],\n",
       "        [21.5722],\n",
       "        [21.5722],\n",
       "        [21.5722],\n",
       "        [21.5723],\n",
       "        [21.5724],\n",
       "        [21.5723],\n",
       "        [21.5723],\n",
       "        [21.5724],\n",
       "        [21.5724],\n",
       "        [21.5724],\n",
       "        [21.5725],\n",
       "        [21.5726],\n",
       "        [21.5726],\n",
       "        [21.5725],\n",
       "        [21.5726],\n",
       "        [21.5726],\n",
       "        [21.5726],\n",
       "        [21.5727],\n",
       "        [21.5728],\n",
       "        [21.5728],\n",
       "        [21.5727],\n",
       "        [21.5728],\n",
       "        [21.5728],\n",
       "        [21.5729],\n",
       "        [21.5729],\n",
       "        [21.5730],\n",
       "        [21.5730],\n",
       "        [21.5730],\n",
       "        [21.5730],\n",
       "        [21.5730],\n",
       "        [21.5730],\n",
       "        [21.5731],\n",
       "        [21.5732],\n",
       "        [21.5732],\n",
       "        [21.5732],\n",
       "        [21.5732],\n",
       "        [21.5732],\n",
       "        [21.5733],\n",
       "        [21.5733],\n",
       "        [21.5734],\n",
       "        [21.5734],\n",
       "        [21.5734],\n",
       "        [21.5735],\n",
       "        [21.5734],\n",
       "        [21.5735],\n",
       "        [21.5736],\n",
       "        [21.5736],\n",
       "        [21.5736],\n",
       "        [21.5736],\n",
       "        [21.5737],\n",
       "        [21.5736],\n",
       "        [21.5737],\n",
       "        [21.5738],\n",
       "        [21.5738],\n",
       "        [21.5738],\n",
       "        [21.5738],\n",
       "        [21.5739],\n",
       "        [21.5738],\n",
       "        [21.5739],\n",
       "        [21.5740],\n",
       "        [21.5740],\n",
       "        [21.5740],\n",
       "        [21.5740],\n",
       "        [21.5741],\n",
       "        [21.5741],\n",
       "        [21.5741],\n",
       "        [21.5742],\n",
       "        [21.5742],\n",
       "        [21.5742],\n",
       "        [21.5742],\n",
       "        [21.5743],\n",
       "        [21.5743],\n",
       "        [21.5743],\n",
       "        [21.5744],\n",
       "        [21.5745],\n",
       "        [21.5744],\n",
       "        [21.5744],\n",
       "        [21.5745],\n",
       "        [21.5745],\n",
       "        [21.5745],\n",
       "        [21.5746],\n",
       "        [21.5747],\n",
       "        [21.5746],\n",
       "        [21.5746],\n",
       "        [21.5747],\n",
       "        [21.5747],\n",
       "        [21.5747],\n",
       "        [21.5748],\n",
       "        [21.5749],\n",
       "        [21.5749],\n",
       "        [21.5748],\n",
       "        [21.5749],\n",
       "        [21.5749],\n",
       "        [21.5749],\n",
       "        [21.5750],\n",
       "        [21.5751],\n",
       "        [21.5751],\n",
       "        [21.5750],\n",
       "        [21.5751],\n",
       "        [21.5751],\n",
       "        [21.5751],\n",
       "        [21.5752],\n",
       "        [21.5753],\n",
       "        [21.5753],\n",
       "        [21.5752],\n",
       "        [21.5753],\n",
       "        [21.5753],\n",
       "        [21.5754],\n",
       "        [21.5754],\n",
       "        [21.5755],\n",
       "        [21.5755],\n",
       "        [21.5754],\n",
       "        [21.5755],\n",
       "        [21.5755],\n",
       "        [21.5756],\n",
       "        [21.5756],\n",
       "        [21.5757],\n",
       "        [21.5757],\n",
       "        [21.5757],\n",
       "        [21.5757],\n",
       "        [21.5757],\n",
       "        [21.5758],\n",
       "        [21.5758],\n",
       "        [21.5759],\n",
       "        [21.5759],\n",
       "        [21.5758],\n",
       "        [21.5759],\n",
       "        [21.5759],\n",
       "        [21.5760],\n",
       "        [21.5760],\n",
       "        [21.5761],\n",
       "        [21.5761],\n",
       "        [21.5761],\n",
       "        [21.5761],\n",
       "        [21.5761],\n",
       "        [21.5762],\n",
       "        [21.5762],\n",
       "        [21.5763],\n",
       "        [21.5763],\n",
       "        [21.5763],\n",
       "        [21.5763],\n",
       "        [21.5763],\n",
       "        [21.5764],\n",
       "        [21.5764],\n",
       "        [21.5765],\n",
       "        [21.5765],\n",
       "        [21.5765],\n",
       "        [21.5765],\n",
       "        [21.5765],\n",
       "        [21.5766],\n",
       "        [21.5766],\n",
       "        [21.5767],\n",
       "        [21.5767]])"
      ]
     },
     "execution_count": 331,
     "metadata": {},
     "output_type": "execute_result"
    }
   ],
   "source": [
    "combo_test_preds[2]"
   ]
  },
  {
   "cell_type": "code",
   "execution_count": 322,
   "id": "5944061e-5f7d-4ef5-8eb0-201d22a629eb",
   "metadata": {},
   "outputs": [
    {
     "data": {
      "text/plain": [
       "1088"
      ]
     },
     "execution_count": 322,
     "metadata": {},
     "output_type": "execute_result"
    }
   ],
   "source": [
    "len(combo_train_preds[0])"
   ]
  },
  {
   "cell_type": "code",
   "execution_count": null,
   "id": "ba5e4c3f-7d4c-4eb3-a110-ef6dae13dd57",
   "metadata": {},
   "outputs": [],
   "source": [
    "tv_preds"
   ]
  },
  {
   "cell_type": "code",
   "execution_count": 262,
   "id": "5723b589-a8d6-4d52-a661-d83922fee7a6",
   "metadata": {},
   "outputs": [
    {
     "data": {
      "text/plain": [
       "0        True\n",
       "1        True\n",
       "2        True\n",
       "3        True\n",
       "4        True\n",
       "        ...  \n",
       "1456    False\n",
       "1457    False\n",
       "1458    False\n",
       "1459    False\n",
       "1460    False\n",
       "Name: date, Length: 1461, dtype: bool"
      ]
     },
     "execution_count": 262,
     "metadata": {},
     "output_type": "execute_result"
    }
   ],
   "source": [
    "combo_train_idx"
   ]
  },
  {
   "cell_type": "code",
   "execution_count": 260,
   "id": "5d585b35-79b7-4af2-8ee7-0cc043bb8ccf",
   "metadata": {},
   "outputs": [
    {
     "data": {
      "text/plain": [
       "tensor([[23.1787],\n",
       "        [23.1787],\n",
       "        [23.1788],\n",
       "        ...,\n",
       "        [23.2128],\n",
       "        [23.2128],\n",
       "        [23.2129]])"
      ]
     },
     "execution_count": 260,
     "metadata": {},
     "output_type": "execute_result"
    }
   ],
   "source": [
    "train_preds"
   ]
  },
  {
   "cell_type": "code",
   "execution_count": 254,
   "id": "0c31f419-0404-45d6-8834-0be8e0bc54ef",
   "metadata": {},
   "outputs": [],
   "source": [
    "train_2 = np.array(train_preds).flatten()"
   ]
  },
  {
   "cell_type": "code",
   "execution_count": 257,
   "id": "a40d5ce8-1dcf-4b1b-a6cc-f32ab21e6afc",
   "metadata": {},
   "outputs": [
    {
     "data": {
      "text/plain": [
       "numpy.ndarray"
      ]
     },
     "execution_count": 257,
     "metadata": {},
     "output_type": "execute_result"
    }
   ],
   "source": [
    "type(train_2)"
   ]
  },
  {
   "cell_type": "code",
   "execution_count": null,
   "id": "e3cf6514-c44f-447f-8edd-d8a67c523052",
   "metadata": {},
   "outputs": [],
   "source": []
  },
  {
   "cell_type": "code",
   "execution_count": 234,
   "id": "8b168bf8-57c4-4f84-a8b8-5afdb5509a6b",
   "metadata": {},
   "outputs": [
    {
     "name": "stdout",
     "output_type": "stream",
     "text": [
      "Training ['Sweden'], ['KaggleRama'], ['Kaggle Mug']\n",
      "Cutoff is 1461\n"
     ]
    },
    {
     "data": {
      "text/html": [
       "\n",
       "    <div>\n",
       "        <style>\n",
       "            /* Turns off some styling */\n",
       "            progress {\n",
       "                /* gets rid of default border in Firefox and Opera. */\n",
       "                border: none;\n",
       "                /* Needs to be in here for Safari polyfill so background images work as expected. */\n",
       "                background-size: auto;\n",
       "            }\n",
       "            .progress-bar-interrupted, .progress-bar-interrupted::-webkit-progress-bar {\n",
       "                background: #F44336;\n",
       "            }\n",
       "        </style>\n",
       "      <progress value='0' class='' max='30' style='width:300px; height:20px; vertical-align: middle;'></progress>\n",
       "      0.00% [0/30 00:00<00:00]\n",
       "    </div>\n",
       "    \n",
       "<table border=\"1\" class=\"dataframe\">\n",
       "  <thead>\n",
       "    <tr style=\"text-align: left;\">\n",
       "      <th>epoch</th>\n",
       "      <th>train_loss</th>\n",
       "      <th>valid_loss</th>\n",
       "      <th>mae</th>\n",
       "      <th>_rmse</th>\n",
       "      <th>time</th>\n",
       "    </tr>\n",
       "  </thead>\n",
       "  <tbody>\n",
       "  </tbody>\n",
       "</table><p>\n",
       "\n",
       "    <div>\n",
       "        <style>\n",
       "            /* Turns off some styling */\n",
       "            progress {\n",
       "                /* gets rid of default border in Firefox and Opera. */\n",
       "                border: none;\n",
       "                /* Needs to be in here for Safari polyfill so background images work as expected. */\n",
       "                background-size: auto;\n",
       "            }\n",
       "            .progress-bar-interrupted, .progress-bar-interrupted::-webkit-progress-bar {\n",
       "                background: #F44336;\n",
       "            }\n",
       "        </style>\n",
       "      <progress value='11' class='' max='11' style='width:300px; height:20px; vertical-align: middle;'></progress>\n",
       "      100.00% [11/11 00:07<00:00 2097.6470]\n",
       "    </div>\n",
       "    "
      ],
      "text/plain": [
       "<IPython.core.display.HTML object>"
      ]
     },
     "metadata": {},
     "output_type": "display_data"
    },
    {
     "ename": "ZeroDivisionError",
     "evalue": "integer division or modulo by zero",
     "output_type": "error",
     "traceback": [
      "\u001b[0;31m---------------------------------------------------------------------------\u001b[0m",
      "\u001b[0;31mZeroDivisionError\u001b[0m                         Traceback (most recent call last)",
      "\u001b[0;32m<ipython-input-234-eecf3d8de8a4>\u001b[0m in \u001b[0;36m<module>\u001b[0;34m\u001b[0m\n\u001b[0;32m----> 1\u001b[0;31m \u001b[0mquick_tv\u001b[0m\u001b[0;34m,\u001b[0m \u001b[0mquick_test\u001b[0m \u001b[0;34m=\u001b[0m \u001b[0mtsai_trainer\u001b[0m\u001b[0;34m(\u001b[0m\u001b[0march\u001b[0m\u001b[0;34m=\u001b[0m\u001b[0;34m'TCN'\u001b[0m\u001b[0;34m,\u001b[0m \u001b[0mcountries\u001b[0m\u001b[0;34m=\u001b[0m\u001b[0;34m[\u001b[0m\u001b[0;34m'Sweden'\u001b[0m\u001b[0;34m,\u001b[0m \u001b[0;34m'Finland'\u001b[0m\u001b[0;34m]\u001b[0m\u001b[0;34m,\u001b[0m \u001b[0mstores\u001b[0m\u001b[0;34m=\u001b[0m\u001b[0;34m[\u001b[0m\u001b[0;34m'KaggleRama'\u001b[0m\u001b[0;34m]\u001b[0m\u001b[0;34m,\u001b[0m \u001b[0mproducts\u001b[0m\u001b[0;34m=\u001b[0m\u001b[0;34m[\u001b[0m\u001b[0;34m'Kaggle Mug'\u001b[0m\u001b[0;34m]\u001b[0m\u001b[0;34m)\u001b[0m\u001b[0;34m\u001b[0m\u001b[0;34m\u001b[0m\u001b[0m\n\u001b[0m",
      "\u001b[0;32m<ipython-input-233-611b8efbfb17>\u001b[0m in \u001b[0;36mtsai_trainer\u001b[0;34m(arch, model_kwargs, tv_df, test_df, countries, stores, products, target, wandb_tracked, tfms, batch_tfms, num_epochs)\u001b[0m\n\u001b[1;32m    150\u001b[0m                 \u001b[0mlr\u001b[0m \u001b[0;34m=\u001b[0m \u001b[0;36m3e-3\u001b[0m\u001b[0;34m\u001b[0m\u001b[0;34m\u001b[0m\u001b[0m\n\u001b[1;32m    151\u001b[0m \u001b[0;34m\u001b[0m\u001b[0m\n\u001b[0;32m--> 152\u001b[0;31m                 \u001b[0mlearner\u001b[0m\u001b[0;34m.\u001b[0m\u001b[0mfit_one_cycle\u001b[0m\u001b[0;34m(\u001b[0m\u001b[0mnum_epochs\u001b[0m\u001b[0;34m,\u001b[0m \u001b[0mlr\u001b[0m\u001b[0;34m)\u001b[0m\u001b[0;34m\u001b[0m\u001b[0;34m\u001b[0m\u001b[0m\n\u001b[0m\u001b[1;32m    153\u001b[0m \u001b[0;34m\u001b[0m\u001b[0m\n\u001b[1;32m    154\u001b[0m                 \u001b[0m_\u001b[0m\u001b[0;34m,\u001b[0m \u001b[0m_\u001b[0m\u001b[0;34m,\u001b[0m \u001b[0mcombo_train_preds\u001b[0m \u001b[0;34m=\u001b[0m \u001b[0mlearner\u001b[0m\u001b[0;34m.\u001b[0m\u001b[0mget_X_preds\u001b[0m\u001b[0;34m(\u001b[0m\u001b[0mX_3d\u001b[0m\u001b[0;34m[\u001b[0m\u001b[0mcombo_train_idx\u001b[0m\u001b[0;34m]\u001b[0m\u001b[0;34m)\u001b[0m\u001b[0;34m\u001b[0m\u001b[0;34m\u001b[0m\u001b[0m\n",
      "\u001b[0;32m~/anaconda3/envs/time/lib/python3.8/site-packages/fastai/callback/schedule.py\u001b[0m in \u001b[0;36mfit_one_cycle\u001b[0;34m(self, n_epoch, lr_max, div, div_final, pct_start, wd, moms, cbs, reset_opt)\u001b[0m\n\u001b[1;32m    114\u001b[0m     scheds = {'lr': combined_cos(pct_start, lr_max/div, lr_max, lr_max/div_final),\n\u001b[1;32m    115\u001b[0m               'mom': combined_cos(pct_start, *(self.moms if moms is None else moms))}\n\u001b[0;32m--> 116\u001b[0;31m     \u001b[0mself\u001b[0m\u001b[0;34m.\u001b[0m\u001b[0mfit\u001b[0m\u001b[0;34m(\u001b[0m\u001b[0mn_epoch\u001b[0m\u001b[0;34m,\u001b[0m \u001b[0mcbs\u001b[0m\u001b[0;34m=\u001b[0m\u001b[0mParamScheduler\u001b[0m\u001b[0;34m(\u001b[0m\u001b[0mscheds\u001b[0m\u001b[0;34m)\u001b[0m\u001b[0;34m+\u001b[0m\u001b[0mL\u001b[0m\u001b[0;34m(\u001b[0m\u001b[0mcbs\u001b[0m\u001b[0;34m)\u001b[0m\u001b[0;34m,\u001b[0m \u001b[0mreset_opt\u001b[0m\u001b[0;34m=\u001b[0m\u001b[0mreset_opt\u001b[0m\u001b[0;34m,\u001b[0m \u001b[0mwd\u001b[0m\u001b[0;34m=\u001b[0m\u001b[0mwd\u001b[0m\u001b[0;34m)\u001b[0m\u001b[0;34m\u001b[0m\u001b[0;34m\u001b[0m\u001b[0m\n\u001b[0m\u001b[1;32m    117\u001b[0m \u001b[0;34m\u001b[0m\u001b[0m\n\u001b[1;32m    118\u001b[0m \u001b[0;31m# Cell\u001b[0m\u001b[0;34m\u001b[0m\u001b[0;34m\u001b[0m\u001b[0;34m\u001b[0m\u001b[0m\n",
      "\u001b[0;32m~/anaconda3/envs/time/lib/python3.8/site-packages/fastai/learner.py\u001b[0m in \u001b[0;36mfit\u001b[0;34m(self, n_epoch, lr, wd, cbs, reset_opt)\u001b[0m\n\u001b[1;32m    219\u001b[0m             \u001b[0mself\u001b[0m\u001b[0;34m.\u001b[0m\u001b[0mopt\u001b[0m\u001b[0;34m.\u001b[0m\u001b[0mset_hypers\u001b[0m\u001b[0;34m(\u001b[0m\u001b[0mlr\u001b[0m\u001b[0;34m=\u001b[0m\u001b[0mself\u001b[0m\u001b[0;34m.\u001b[0m\u001b[0mlr\u001b[0m \u001b[0;32mif\u001b[0m \u001b[0mlr\u001b[0m \u001b[0;32mis\u001b[0m \u001b[0;32mNone\u001b[0m \u001b[0;32melse\u001b[0m \u001b[0mlr\u001b[0m\u001b[0;34m)\u001b[0m\u001b[0;34m\u001b[0m\u001b[0;34m\u001b[0m\u001b[0m\n\u001b[1;32m    220\u001b[0m             \u001b[0mself\u001b[0m\u001b[0;34m.\u001b[0m\u001b[0mn_epoch\u001b[0m \u001b[0;34m=\u001b[0m \u001b[0mn_epoch\u001b[0m\u001b[0;34m\u001b[0m\u001b[0;34m\u001b[0m\u001b[0m\n\u001b[0;32m--> 221\u001b[0;31m             \u001b[0mself\u001b[0m\u001b[0;34m.\u001b[0m\u001b[0m_with_events\u001b[0m\u001b[0;34m(\u001b[0m\u001b[0mself\u001b[0m\u001b[0;34m.\u001b[0m\u001b[0m_do_fit\u001b[0m\u001b[0;34m,\u001b[0m \u001b[0;34m'fit'\u001b[0m\u001b[0;34m,\u001b[0m \u001b[0mCancelFitException\u001b[0m\u001b[0;34m,\u001b[0m \u001b[0mself\u001b[0m\u001b[0;34m.\u001b[0m\u001b[0m_end_cleanup\u001b[0m\u001b[0;34m)\u001b[0m\u001b[0;34m\u001b[0m\u001b[0;34m\u001b[0m\u001b[0m\n\u001b[0m\u001b[1;32m    222\u001b[0m \u001b[0;34m\u001b[0m\u001b[0m\n\u001b[1;32m    223\u001b[0m     \u001b[0;32mdef\u001b[0m \u001b[0m_end_cleanup\u001b[0m\u001b[0;34m(\u001b[0m\u001b[0mself\u001b[0m\u001b[0;34m)\u001b[0m\u001b[0;34m:\u001b[0m \u001b[0mself\u001b[0m\u001b[0;34m.\u001b[0m\u001b[0mdl\u001b[0m\u001b[0;34m,\u001b[0m\u001b[0mself\u001b[0m\u001b[0;34m.\u001b[0m\u001b[0mxb\u001b[0m\u001b[0;34m,\u001b[0m\u001b[0mself\u001b[0m\u001b[0;34m.\u001b[0m\u001b[0myb\u001b[0m\u001b[0;34m,\u001b[0m\u001b[0mself\u001b[0m\u001b[0;34m.\u001b[0m\u001b[0mpred\u001b[0m\u001b[0;34m,\u001b[0m\u001b[0mself\u001b[0m\u001b[0;34m.\u001b[0m\u001b[0mloss\u001b[0m \u001b[0;34m=\u001b[0m \u001b[0;32mNone\u001b[0m\u001b[0;34m,\u001b[0m\u001b[0;34m(\u001b[0m\u001b[0;32mNone\u001b[0m\u001b[0;34m,\u001b[0m\u001b[0;34m)\u001b[0m\u001b[0;34m,\u001b[0m\u001b[0;34m(\u001b[0m\u001b[0;32mNone\u001b[0m\u001b[0;34m,\u001b[0m\u001b[0;34m)\u001b[0m\u001b[0;34m,\u001b[0m\u001b[0;32mNone\u001b[0m\u001b[0;34m,\u001b[0m\u001b[0;32mNone\u001b[0m\u001b[0;34m\u001b[0m\u001b[0;34m\u001b[0m\u001b[0m\n",
      "\u001b[0;32m~/anaconda3/envs/time/lib/python3.8/site-packages/fastai/learner.py\u001b[0m in \u001b[0;36m_with_events\u001b[0;34m(self, f, event_type, ex, final)\u001b[0m\n\u001b[1;32m    161\u001b[0m \u001b[0;34m\u001b[0m\u001b[0m\n\u001b[1;32m    162\u001b[0m     \u001b[0;32mdef\u001b[0m \u001b[0m_with_events\u001b[0m\u001b[0;34m(\u001b[0m\u001b[0mself\u001b[0m\u001b[0;34m,\u001b[0m \u001b[0mf\u001b[0m\u001b[0;34m,\u001b[0m \u001b[0mevent_type\u001b[0m\u001b[0;34m,\u001b[0m \u001b[0mex\u001b[0m\u001b[0;34m,\u001b[0m \u001b[0mfinal\u001b[0m\u001b[0;34m=\u001b[0m\u001b[0mnoop\u001b[0m\u001b[0;34m)\u001b[0m\u001b[0;34m:\u001b[0m\u001b[0;34m\u001b[0m\u001b[0;34m\u001b[0m\u001b[0m\n\u001b[0;32m--> 163\u001b[0;31m         \u001b[0;32mtry\u001b[0m\u001b[0;34m:\u001b[0m \u001b[0mself\u001b[0m\u001b[0;34m(\u001b[0m\u001b[0;34mf'before_{event_type}'\u001b[0m\u001b[0;34m)\u001b[0m\u001b[0;34m;\u001b[0m  \u001b[0mf\u001b[0m\u001b[0;34m(\u001b[0m\u001b[0;34m)\u001b[0m\u001b[0;34m\u001b[0m\u001b[0;34m\u001b[0m\u001b[0m\n\u001b[0m\u001b[1;32m    164\u001b[0m         \u001b[0;32mexcept\u001b[0m \u001b[0mex\u001b[0m\u001b[0;34m:\u001b[0m \u001b[0mself\u001b[0m\u001b[0;34m(\u001b[0m\u001b[0;34mf'after_cancel_{event_type}'\u001b[0m\u001b[0;34m)\u001b[0m\u001b[0;34m\u001b[0m\u001b[0;34m\u001b[0m\u001b[0m\n\u001b[1;32m    165\u001b[0m         \u001b[0mself\u001b[0m\u001b[0;34m(\u001b[0m\u001b[0;34mf'after_{event_type}'\u001b[0m\u001b[0;34m)\u001b[0m\u001b[0;34m;\u001b[0m  \u001b[0mfinal\u001b[0m\u001b[0;34m(\u001b[0m\u001b[0;34m)\u001b[0m\u001b[0;34m\u001b[0m\u001b[0;34m\u001b[0m\u001b[0m\n",
      "\u001b[0;32m~/anaconda3/envs/time/lib/python3.8/site-packages/fastai/learner.py\u001b[0m in \u001b[0;36m_do_fit\u001b[0;34m(self)\u001b[0m\n\u001b[1;32m    210\u001b[0m         \u001b[0;32mfor\u001b[0m \u001b[0mepoch\u001b[0m \u001b[0;32min\u001b[0m \u001b[0mrange\u001b[0m\u001b[0;34m(\u001b[0m\u001b[0mself\u001b[0m\u001b[0;34m.\u001b[0m\u001b[0mn_epoch\u001b[0m\u001b[0;34m)\u001b[0m\u001b[0;34m:\u001b[0m\u001b[0;34m\u001b[0m\u001b[0;34m\u001b[0m\u001b[0m\n\u001b[1;32m    211\u001b[0m             \u001b[0mself\u001b[0m\u001b[0;34m.\u001b[0m\u001b[0mepoch\u001b[0m\u001b[0;34m=\u001b[0m\u001b[0mepoch\u001b[0m\u001b[0;34m\u001b[0m\u001b[0;34m\u001b[0m\u001b[0m\n\u001b[0;32m--> 212\u001b[0;31m             \u001b[0mself\u001b[0m\u001b[0;34m.\u001b[0m\u001b[0m_with_events\u001b[0m\u001b[0;34m(\u001b[0m\u001b[0mself\u001b[0m\u001b[0;34m.\u001b[0m\u001b[0m_do_epoch\u001b[0m\u001b[0;34m,\u001b[0m \u001b[0;34m'epoch'\u001b[0m\u001b[0;34m,\u001b[0m \u001b[0mCancelEpochException\u001b[0m\u001b[0;34m)\u001b[0m\u001b[0;34m\u001b[0m\u001b[0;34m\u001b[0m\u001b[0m\n\u001b[0m\u001b[1;32m    213\u001b[0m \u001b[0;34m\u001b[0m\u001b[0m\n\u001b[1;32m    214\u001b[0m     \u001b[0;32mdef\u001b[0m \u001b[0mfit\u001b[0m\u001b[0;34m(\u001b[0m\u001b[0mself\u001b[0m\u001b[0;34m,\u001b[0m \u001b[0mn_epoch\u001b[0m\u001b[0;34m,\u001b[0m \u001b[0mlr\u001b[0m\u001b[0;34m=\u001b[0m\u001b[0;32mNone\u001b[0m\u001b[0;34m,\u001b[0m \u001b[0mwd\u001b[0m\u001b[0;34m=\u001b[0m\u001b[0;32mNone\u001b[0m\u001b[0;34m,\u001b[0m \u001b[0mcbs\u001b[0m\u001b[0;34m=\u001b[0m\u001b[0;32mNone\u001b[0m\u001b[0;34m,\u001b[0m \u001b[0mreset_opt\u001b[0m\u001b[0;34m=\u001b[0m\u001b[0;32mFalse\u001b[0m\u001b[0;34m)\u001b[0m\u001b[0;34m:\u001b[0m\u001b[0;34m\u001b[0m\u001b[0;34m\u001b[0m\u001b[0m\n",
      "\u001b[0;32m~/anaconda3/envs/time/lib/python3.8/site-packages/fastai/learner.py\u001b[0m in \u001b[0;36m_with_events\u001b[0;34m(self, f, event_type, ex, final)\u001b[0m\n\u001b[1;32m    161\u001b[0m \u001b[0;34m\u001b[0m\u001b[0m\n\u001b[1;32m    162\u001b[0m     \u001b[0;32mdef\u001b[0m \u001b[0m_with_events\u001b[0m\u001b[0;34m(\u001b[0m\u001b[0mself\u001b[0m\u001b[0;34m,\u001b[0m \u001b[0mf\u001b[0m\u001b[0;34m,\u001b[0m \u001b[0mevent_type\u001b[0m\u001b[0;34m,\u001b[0m \u001b[0mex\u001b[0m\u001b[0;34m,\u001b[0m \u001b[0mfinal\u001b[0m\u001b[0;34m=\u001b[0m\u001b[0mnoop\u001b[0m\u001b[0;34m)\u001b[0m\u001b[0;34m:\u001b[0m\u001b[0;34m\u001b[0m\u001b[0;34m\u001b[0m\u001b[0m\n\u001b[0;32m--> 163\u001b[0;31m         \u001b[0;32mtry\u001b[0m\u001b[0;34m:\u001b[0m \u001b[0mself\u001b[0m\u001b[0;34m(\u001b[0m\u001b[0;34mf'before_{event_type}'\u001b[0m\u001b[0;34m)\u001b[0m\u001b[0;34m;\u001b[0m  \u001b[0mf\u001b[0m\u001b[0;34m(\u001b[0m\u001b[0;34m)\u001b[0m\u001b[0;34m\u001b[0m\u001b[0;34m\u001b[0m\u001b[0m\n\u001b[0m\u001b[1;32m    164\u001b[0m         \u001b[0;32mexcept\u001b[0m \u001b[0mex\u001b[0m\u001b[0;34m:\u001b[0m \u001b[0mself\u001b[0m\u001b[0;34m(\u001b[0m\u001b[0;34mf'after_cancel_{event_type}'\u001b[0m\u001b[0;34m)\u001b[0m\u001b[0;34m\u001b[0m\u001b[0;34m\u001b[0m\u001b[0m\n\u001b[1;32m    165\u001b[0m         \u001b[0mself\u001b[0m\u001b[0;34m(\u001b[0m\u001b[0;34mf'after_{event_type}'\u001b[0m\u001b[0;34m)\u001b[0m\u001b[0;34m;\u001b[0m  \u001b[0mfinal\u001b[0m\u001b[0;34m(\u001b[0m\u001b[0;34m)\u001b[0m\u001b[0;34m\u001b[0m\u001b[0;34m\u001b[0m\u001b[0m\n",
      "\u001b[0;32m~/anaconda3/envs/time/lib/python3.8/site-packages/fastai/learner.py\u001b[0m in \u001b[0;36m_do_epoch\u001b[0;34m(self)\u001b[0m\n\u001b[1;32m    205\u001b[0m     \u001b[0;32mdef\u001b[0m \u001b[0m_do_epoch\u001b[0m\u001b[0;34m(\u001b[0m\u001b[0mself\u001b[0m\u001b[0;34m)\u001b[0m\u001b[0;34m:\u001b[0m\u001b[0;34m\u001b[0m\u001b[0;34m\u001b[0m\u001b[0m\n\u001b[1;32m    206\u001b[0m         \u001b[0mself\u001b[0m\u001b[0;34m.\u001b[0m\u001b[0m_do_epoch_train\u001b[0m\u001b[0;34m(\u001b[0m\u001b[0;34m)\u001b[0m\u001b[0;34m\u001b[0m\u001b[0;34m\u001b[0m\u001b[0m\n\u001b[0;32m--> 207\u001b[0;31m         \u001b[0mself\u001b[0m\u001b[0;34m.\u001b[0m\u001b[0m_do_epoch_validate\u001b[0m\u001b[0;34m(\u001b[0m\u001b[0;34m)\u001b[0m\u001b[0;34m\u001b[0m\u001b[0;34m\u001b[0m\u001b[0m\n\u001b[0m\u001b[1;32m    208\u001b[0m \u001b[0;34m\u001b[0m\u001b[0m\n\u001b[1;32m    209\u001b[0m     \u001b[0;32mdef\u001b[0m \u001b[0m_do_fit\u001b[0m\u001b[0;34m(\u001b[0m\u001b[0mself\u001b[0m\u001b[0;34m)\u001b[0m\u001b[0;34m:\u001b[0m\u001b[0;34m\u001b[0m\u001b[0;34m\u001b[0m\u001b[0m\n",
      "\u001b[0;32m~/anaconda3/envs/time/lib/python3.8/site-packages/fastai/learner.py\u001b[0m in \u001b[0;36m_do_epoch_validate\u001b[0;34m(self, ds_idx, dl)\u001b[0m\n\u001b[1;32m    201\u001b[0m         \u001b[0;32mif\u001b[0m \u001b[0mdl\u001b[0m \u001b[0;32mis\u001b[0m \u001b[0;32mNone\u001b[0m\u001b[0;34m:\u001b[0m \u001b[0mdl\u001b[0m \u001b[0;34m=\u001b[0m \u001b[0mself\u001b[0m\u001b[0;34m.\u001b[0m\u001b[0mdls\u001b[0m\u001b[0;34m[\u001b[0m\u001b[0mds_idx\u001b[0m\u001b[0;34m]\u001b[0m\u001b[0;34m\u001b[0m\u001b[0;34m\u001b[0m\u001b[0m\n\u001b[1;32m    202\u001b[0m         \u001b[0mself\u001b[0m\u001b[0;34m.\u001b[0m\u001b[0mdl\u001b[0m \u001b[0;34m=\u001b[0m \u001b[0mdl\u001b[0m\u001b[0;34m\u001b[0m\u001b[0;34m\u001b[0m\u001b[0m\n\u001b[0;32m--> 203\u001b[0;31m         \u001b[0;32mwith\u001b[0m \u001b[0mtorch\u001b[0m\u001b[0;34m.\u001b[0m\u001b[0mno_grad\u001b[0m\u001b[0;34m(\u001b[0m\u001b[0;34m)\u001b[0m\u001b[0;34m:\u001b[0m \u001b[0mself\u001b[0m\u001b[0;34m.\u001b[0m\u001b[0m_with_events\u001b[0m\u001b[0;34m(\u001b[0m\u001b[0mself\u001b[0m\u001b[0;34m.\u001b[0m\u001b[0mall_batches\u001b[0m\u001b[0;34m,\u001b[0m \u001b[0;34m'validate'\u001b[0m\u001b[0;34m,\u001b[0m \u001b[0mCancelValidException\u001b[0m\u001b[0;34m)\u001b[0m\u001b[0;34m\u001b[0m\u001b[0;34m\u001b[0m\u001b[0m\n\u001b[0m\u001b[1;32m    204\u001b[0m \u001b[0;34m\u001b[0m\u001b[0m\n\u001b[1;32m    205\u001b[0m     \u001b[0;32mdef\u001b[0m \u001b[0m_do_epoch\u001b[0m\u001b[0;34m(\u001b[0m\u001b[0mself\u001b[0m\u001b[0;34m)\u001b[0m\u001b[0;34m:\u001b[0m\u001b[0;34m\u001b[0m\u001b[0;34m\u001b[0m\u001b[0m\n",
      "\u001b[0;32m~/anaconda3/envs/time/lib/python3.8/site-packages/fastai/learner.py\u001b[0m in \u001b[0;36m_with_events\u001b[0;34m(self, f, event_type, ex, final)\u001b[0m\n\u001b[1;32m    161\u001b[0m \u001b[0;34m\u001b[0m\u001b[0m\n\u001b[1;32m    162\u001b[0m     \u001b[0;32mdef\u001b[0m \u001b[0m_with_events\u001b[0m\u001b[0;34m(\u001b[0m\u001b[0mself\u001b[0m\u001b[0;34m,\u001b[0m \u001b[0mf\u001b[0m\u001b[0;34m,\u001b[0m \u001b[0mevent_type\u001b[0m\u001b[0;34m,\u001b[0m \u001b[0mex\u001b[0m\u001b[0;34m,\u001b[0m \u001b[0mfinal\u001b[0m\u001b[0;34m=\u001b[0m\u001b[0mnoop\u001b[0m\u001b[0;34m)\u001b[0m\u001b[0;34m:\u001b[0m\u001b[0;34m\u001b[0m\u001b[0;34m\u001b[0m\u001b[0m\n\u001b[0;32m--> 163\u001b[0;31m         \u001b[0;32mtry\u001b[0m\u001b[0;34m:\u001b[0m \u001b[0mself\u001b[0m\u001b[0;34m(\u001b[0m\u001b[0;34mf'before_{event_type}'\u001b[0m\u001b[0;34m)\u001b[0m\u001b[0;34m;\u001b[0m  \u001b[0mf\u001b[0m\u001b[0;34m(\u001b[0m\u001b[0;34m)\u001b[0m\u001b[0;34m\u001b[0m\u001b[0;34m\u001b[0m\u001b[0m\n\u001b[0m\u001b[1;32m    164\u001b[0m         \u001b[0;32mexcept\u001b[0m \u001b[0mex\u001b[0m\u001b[0;34m:\u001b[0m \u001b[0mself\u001b[0m\u001b[0;34m(\u001b[0m\u001b[0;34mf'after_cancel_{event_type}'\u001b[0m\u001b[0;34m)\u001b[0m\u001b[0;34m\u001b[0m\u001b[0;34m\u001b[0m\u001b[0m\n\u001b[1;32m    165\u001b[0m         \u001b[0mself\u001b[0m\u001b[0;34m(\u001b[0m\u001b[0;34mf'after_{event_type}'\u001b[0m\u001b[0;34m)\u001b[0m\u001b[0;34m;\u001b[0m  \u001b[0mfinal\u001b[0m\u001b[0;34m(\u001b[0m\u001b[0;34m)\u001b[0m\u001b[0;34m\u001b[0m\u001b[0;34m\u001b[0m\u001b[0m\n",
      "\u001b[0;32m~/anaconda3/envs/time/lib/python3.8/site-packages/fastai/learner.py\u001b[0m in \u001b[0;36m__call__\u001b[0;34m(self, event_name)\u001b[0m\n\u001b[1;32m    139\u001b[0m \u001b[0;34m\u001b[0m\u001b[0m\n\u001b[1;32m    140\u001b[0m     \u001b[0;32mdef\u001b[0m \u001b[0mordered_cbs\u001b[0m\u001b[0;34m(\u001b[0m\u001b[0mself\u001b[0m\u001b[0;34m,\u001b[0m \u001b[0mevent\u001b[0m\u001b[0;34m)\u001b[0m\u001b[0;34m:\u001b[0m \u001b[0;32mreturn\u001b[0m \u001b[0;34m[\u001b[0m\u001b[0mcb\u001b[0m \u001b[0;32mfor\u001b[0m \u001b[0mcb\u001b[0m \u001b[0;32min\u001b[0m \u001b[0mself\u001b[0m\u001b[0;34m.\u001b[0m\u001b[0mcbs\u001b[0m\u001b[0;34m.\u001b[0m\u001b[0msorted\u001b[0m\u001b[0;34m(\u001b[0m\u001b[0;34m'order'\u001b[0m\u001b[0;34m)\u001b[0m \u001b[0;32mif\u001b[0m \u001b[0mhasattr\u001b[0m\u001b[0;34m(\u001b[0m\u001b[0mcb\u001b[0m\u001b[0;34m,\u001b[0m \u001b[0mevent\u001b[0m\u001b[0;34m)\u001b[0m\u001b[0;34m]\u001b[0m\u001b[0;34m\u001b[0m\u001b[0;34m\u001b[0m\u001b[0m\n\u001b[0;32m--> 141\u001b[0;31m     \u001b[0;32mdef\u001b[0m \u001b[0m__call__\u001b[0m\u001b[0;34m(\u001b[0m\u001b[0mself\u001b[0m\u001b[0;34m,\u001b[0m \u001b[0mevent_name\u001b[0m\u001b[0;34m)\u001b[0m\u001b[0;34m:\u001b[0m \u001b[0mL\u001b[0m\u001b[0;34m(\u001b[0m\u001b[0mevent_name\u001b[0m\u001b[0;34m)\u001b[0m\u001b[0;34m.\u001b[0m\u001b[0mmap\u001b[0m\u001b[0;34m(\u001b[0m\u001b[0mself\u001b[0m\u001b[0;34m.\u001b[0m\u001b[0m_call_one\u001b[0m\u001b[0;34m)\u001b[0m\u001b[0;34m\u001b[0m\u001b[0;34m\u001b[0m\u001b[0m\n\u001b[0m\u001b[1;32m    142\u001b[0m \u001b[0;34m\u001b[0m\u001b[0m\n\u001b[1;32m    143\u001b[0m     \u001b[0;32mdef\u001b[0m \u001b[0m_call_one\u001b[0m\u001b[0;34m(\u001b[0m\u001b[0mself\u001b[0m\u001b[0;34m,\u001b[0m \u001b[0mevent_name\u001b[0m\u001b[0;34m)\u001b[0m\u001b[0;34m:\u001b[0m\u001b[0;34m\u001b[0m\u001b[0;34m\u001b[0m\u001b[0m\n",
      "\u001b[0;32m~/anaconda3/envs/time/lib/python3.8/site-packages/fastcore/foundation.py\u001b[0m in \u001b[0;36mmap\u001b[0;34m(self, f, gen, *args, **kwargs)\u001b[0m\n\u001b[1;32m    153\u001b[0m     \u001b[0;32mdef\u001b[0m \u001b[0mrange\u001b[0m\u001b[0;34m(\u001b[0m\u001b[0mcls\u001b[0m\u001b[0;34m,\u001b[0m \u001b[0ma\u001b[0m\u001b[0;34m,\u001b[0m \u001b[0mb\u001b[0m\u001b[0;34m=\u001b[0m\u001b[0;32mNone\u001b[0m\u001b[0;34m,\u001b[0m \u001b[0mstep\u001b[0m\u001b[0;34m=\u001b[0m\u001b[0;32mNone\u001b[0m\u001b[0;34m)\u001b[0m\u001b[0;34m:\u001b[0m \u001b[0;32mreturn\u001b[0m \u001b[0mcls\u001b[0m\u001b[0;34m(\u001b[0m\u001b[0mrange_of\u001b[0m\u001b[0;34m(\u001b[0m\u001b[0ma\u001b[0m\u001b[0;34m,\u001b[0m \u001b[0mb\u001b[0m\u001b[0;34m=\u001b[0m\u001b[0mb\u001b[0m\u001b[0;34m,\u001b[0m \u001b[0mstep\u001b[0m\u001b[0;34m=\u001b[0m\u001b[0mstep\u001b[0m\u001b[0;34m)\u001b[0m\u001b[0;34m)\u001b[0m\u001b[0;34m\u001b[0m\u001b[0;34m\u001b[0m\u001b[0m\n\u001b[1;32m    154\u001b[0m \u001b[0;34m\u001b[0m\u001b[0m\n\u001b[0;32m--> 155\u001b[0;31m     \u001b[0;32mdef\u001b[0m \u001b[0mmap\u001b[0m\u001b[0;34m(\u001b[0m\u001b[0mself\u001b[0m\u001b[0;34m,\u001b[0m \u001b[0mf\u001b[0m\u001b[0;34m,\u001b[0m \u001b[0;34m*\u001b[0m\u001b[0margs\u001b[0m\u001b[0;34m,\u001b[0m \u001b[0mgen\u001b[0m\u001b[0;34m=\u001b[0m\u001b[0;32mFalse\u001b[0m\u001b[0;34m,\u001b[0m \u001b[0;34m**\u001b[0m\u001b[0mkwargs\u001b[0m\u001b[0;34m)\u001b[0m\u001b[0;34m:\u001b[0m \u001b[0;32mreturn\u001b[0m \u001b[0mself\u001b[0m\u001b[0;34m.\u001b[0m\u001b[0m_new\u001b[0m\u001b[0;34m(\u001b[0m\u001b[0mmap_ex\u001b[0m\u001b[0;34m(\u001b[0m\u001b[0mself\u001b[0m\u001b[0;34m,\u001b[0m \u001b[0mf\u001b[0m\u001b[0;34m,\u001b[0m \u001b[0;34m*\u001b[0m\u001b[0margs\u001b[0m\u001b[0;34m,\u001b[0m \u001b[0mgen\u001b[0m\u001b[0;34m=\u001b[0m\u001b[0mgen\u001b[0m\u001b[0;34m,\u001b[0m \u001b[0;34m**\u001b[0m\u001b[0mkwargs\u001b[0m\u001b[0;34m)\u001b[0m\u001b[0;34m)\u001b[0m\u001b[0;34m\u001b[0m\u001b[0;34m\u001b[0m\u001b[0m\n\u001b[0m\u001b[1;32m    156\u001b[0m     \u001b[0;32mdef\u001b[0m \u001b[0margwhere\u001b[0m\u001b[0;34m(\u001b[0m\u001b[0mself\u001b[0m\u001b[0;34m,\u001b[0m \u001b[0mf\u001b[0m\u001b[0;34m,\u001b[0m \u001b[0mnegate\u001b[0m\u001b[0;34m=\u001b[0m\u001b[0;32mFalse\u001b[0m\u001b[0;34m,\u001b[0m \u001b[0;34m**\u001b[0m\u001b[0mkwargs\u001b[0m\u001b[0;34m)\u001b[0m\u001b[0;34m:\u001b[0m \u001b[0;32mreturn\u001b[0m \u001b[0mself\u001b[0m\u001b[0;34m.\u001b[0m\u001b[0m_new\u001b[0m\u001b[0;34m(\u001b[0m\u001b[0margwhere\u001b[0m\u001b[0;34m(\u001b[0m\u001b[0mself\u001b[0m\u001b[0;34m,\u001b[0m \u001b[0mf\u001b[0m\u001b[0;34m,\u001b[0m \u001b[0mnegate\u001b[0m\u001b[0;34m,\u001b[0m \u001b[0;34m**\u001b[0m\u001b[0mkwargs\u001b[0m\u001b[0;34m)\u001b[0m\u001b[0;34m)\u001b[0m\u001b[0;34m\u001b[0m\u001b[0;34m\u001b[0m\u001b[0m\n\u001b[1;32m    157\u001b[0m     \u001b[0;32mdef\u001b[0m \u001b[0margfirst\u001b[0m\u001b[0;34m(\u001b[0m\u001b[0mself\u001b[0m\u001b[0;34m,\u001b[0m \u001b[0mf\u001b[0m\u001b[0;34m,\u001b[0m \u001b[0mnegate\u001b[0m\u001b[0;34m=\u001b[0m\u001b[0;32mFalse\u001b[0m\u001b[0;34m)\u001b[0m\u001b[0;34m:\u001b[0m \u001b[0;32mreturn\u001b[0m \u001b[0mfirst\u001b[0m\u001b[0;34m(\u001b[0m\u001b[0mi\u001b[0m \u001b[0;32mfor\u001b[0m \u001b[0mi\u001b[0m\u001b[0;34m,\u001b[0m\u001b[0mo\u001b[0m \u001b[0;32min\u001b[0m \u001b[0mself\u001b[0m\u001b[0;34m.\u001b[0m\u001b[0menumerate\u001b[0m\u001b[0;34m(\u001b[0m\u001b[0;34m)\u001b[0m \u001b[0;32mif\u001b[0m \u001b[0mf\u001b[0m\u001b[0;34m(\u001b[0m\u001b[0mo\u001b[0m\u001b[0;34m)\u001b[0m\u001b[0;34m)\u001b[0m\u001b[0;34m\u001b[0m\u001b[0;34m\u001b[0m\u001b[0m\n",
      "\u001b[0;32m~/anaconda3/envs/time/lib/python3.8/site-packages/fastcore/basics.py\u001b[0m in \u001b[0;36mmap_ex\u001b[0;34m(iterable, f, gen, *args, **kwargs)\u001b[0m\n\u001b[1;32m    696\u001b[0m     \u001b[0mres\u001b[0m \u001b[0;34m=\u001b[0m \u001b[0mmap\u001b[0m\u001b[0;34m(\u001b[0m\u001b[0mg\u001b[0m\u001b[0;34m,\u001b[0m \u001b[0miterable\u001b[0m\u001b[0;34m)\u001b[0m\u001b[0;34m\u001b[0m\u001b[0;34m\u001b[0m\u001b[0m\n\u001b[1;32m    697\u001b[0m     \u001b[0;32mif\u001b[0m \u001b[0mgen\u001b[0m\u001b[0;34m:\u001b[0m \u001b[0;32mreturn\u001b[0m \u001b[0mres\u001b[0m\u001b[0;34m\u001b[0m\u001b[0;34m\u001b[0m\u001b[0m\n\u001b[0;32m--> 698\u001b[0;31m     \u001b[0;32mreturn\u001b[0m \u001b[0mlist\u001b[0m\u001b[0;34m(\u001b[0m\u001b[0mres\u001b[0m\u001b[0;34m)\u001b[0m\u001b[0;34m\u001b[0m\u001b[0;34m\u001b[0m\u001b[0m\n\u001b[0m\u001b[1;32m    699\u001b[0m \u001b[0;34m\u001b[0m\u001b[0m\n\u001b[1;32m    700\u001b[0m \u001b[0;31m# Cell\u001b[0m\u001b[0;34m\u001b[0m\u001b[0;34m\u001b[0m\u001b[0;34m\u001b[0m\u001b[0m\n",
      "\u001b[0;32m~/anaconda3/envs/time/lib/python3.8/site-packages/fastcore/basics.py\u001b[0m in \u001b[0;36m__call__\u001b[0;34m(self, *args, **kwargs)\u001b[0m\n\u001b[1;32m    681\u001b[0m             \u001b[0;32mif\u001b[0m \u001b[0misinstance\u001b[0m\u001b[0;34m(\u001b[0m\u001b[0mv\u001b[0m\u001b[0;34m,\u001b[0m\u001b[0m_Arg\u001b[0m\u001b[0;34m)\u001b[0m\u001b[0;34m:\u001b[0m \u001b[0mkwargs\u001b[0m\u001b[0;34m[\u001b[0m\u001b[0mk\u001b[0m\u001b[0;34m]\u001b[0m \u001b[0;34m=\u001b[0m \u001b[0margs\u001b[0m\u001b[0;34m.\u001b[0m\u001b[0mpop\u001b[0m\u001b[0;34m(\u001b[0m\u001b[0mv\u001b[0m\u001b[0;34m.\u001b[0m\u001b[0mi\u001b[0m\u001b[0;34m)\u001b[0m\u001b[0;34m\u001b[0m\u001b[0;34m\u001b[0m\u001b[0m\n\u001b[1;32m    682\u001b[0m         \u001b[0mfargs\u001b[0m \u001b[0;34m=\u001b[0m \u001b[0;34m[\u001b[0m\u001b[0margs\u001b[0m\u001b[0;34m[\u001b[0m\u001b[0mx\u001b[0m\u001b[0;34m.\u001b[0m\u001b[0mi\u001b[0m\u001b[0;34m]\u001b[0m \u001b[0;32mif\u001b[0m \u001b[0misinstance\u001b[0m\u001b[0;34m(\u001b[0m\u001b[0mx\u001b[0m\u001b[0;34m,\u001b[0m \u001b[0m_Arg\u001b[0m\u001b[0;34m)\u001b[0m \u001b[0;32melse\u001b[0m \u001b[0mx\u001b[0m \u001b[0;32mfor\u001b[0m \u001b[0mx\u001b[0m \u001b[0;32min\u001b[0m \u001b[0mself\u001b[0m\u001b[0;34m.\u001b[0m\u001b[0mpargs\u001b[0m\u001b[0;34m]\u001b[0m \u001b[0;34m+\u001b[0m \u001b[0margs\u001b[0m\u001b[0;34m[\u001b[0m\u001b[0mself\u001b[0m\u001b[0;34m.\u001b[0m\u001b[0mmaxi\u001b[0m\u001b[0;34m+\u001b[0m\u001b[0;36m1\u001b[0m\u001b[0;34m:\u001b[0m\u001b[0;34m]\u001b[0m\u001b[0;34m\u001b[0m\u001b[0;34m\u001b[0m\u001b[0m\n\u001b[0;32m--> 683\u001b[0;31m         \u001b[0;32mreturn\u001b[0m \u001b[0mself\u001b[0m\u001b[0;34m.\u001b[0m\u001b[0mfunc\u001b[0m\u001b[0;34m(\u001b[0m\u001b[0;34m*\u001b[0m\u001b[0mfargs\u001b[0m\u001b[0;34m,\u001b[0m \u001b[0;34m**\u001b[0m\u001b[0mkwargs\u001b[0m\u001b[0;34m)\u001b[0m\u001b[0;34m\u001b[0m\u001b[0;34m\u001b[0m\u001b[0m\n\u001b[0m\u001b[1;32m    684\u001b[0m \u001b[0;34m\u001b[0m\u001b[0m\n\u001b[1;32m    685\u001b[0m \u001b[0;31m# Cell\u001b[0m\u001b[0;34m\u001b[0m\u001b[0;34m\u001b[0m\u001b[0;34m\u001b[0m\u001b[0m\n",
      "\u001b[0;32m~/anaconda3/envs/time/lib/python3.8/site-packages/fastai/learner.py\u001b[0m in \u001b[0;36m_call_one\u001b[0;34m(self, event_name)\u001b[0m\n\u001b[1;32m    143\u001b[0m     \u001b[0;32mdef\u001b[0m \u001b[0m_call_one\u001b[0m\u001b[0;34m(\u001b[0m\u001b[0mself\u001b[0m\u001b[0;34m,\u001b[0m \u001b[0mevent_name\u001b[0m\u001b[0;34m)\u001b[0m\u001b[0;34m:\u001b[0m\u001b[0;34m\u001b[0m\u001b[0;34m\u001b[0m\u001b[0m\n\u001b[1;32m    144\u001b[0m         \u001b[0;32mif\u001b[0m \u001b[0;32mnot\u001b[0m \u001b[0mhasattr\u001b[0m\u001b[0;34m(\u001b[0m\u001b[0mevent\u001b[0m\u001b[0;34m,\u001b[0m \u001b[0mevent_name\u001b[0m\u001b[0;34m)\u001b[0m\u001b[0;34m:\u001b[0m \u001b[0;32mraise\u001b[0m \u001b[0mException\u001b[0m\u001b[0;34m(\u001b[0m\u001b[0;34mf'missing {event_name}'\u001b[0m\u001b[0;34m)\u001b[0m\u001b[0;34m\u001b[0m\u001b[0;34m\u001b[0m\u001b[0m\n\u001b[0;32m--> 145\u001b[0;31m         \u001b[0;32mfor\u001b[0m \u001b[0mcb\u001b[0m \u001b[0;32min\u001b[0m \u001b[0mself\u001b[0m\u001b[0;34m.\u001b[0m\u001b[0mcbs\u001b[0m\u001b[0;34m.\u001b[0m\u001b[0msorted\u001b[0m\u001b[0;34m(\u001b[0m\u001b[0;34m'order'\u001b[0m\u001b[0;34m)\u001b[0m\u001b[0;34m:\u001b[0m \u001b[0mcb\u001b[0m\u001b[0;34m(\u001b[0m\u001b[0mevent_name\u001b[0m\u001b[0;34m)\u001b[0m\u001b[0;34m\u001b[0m\u001b[0;34m\u001b[0m\u001b[0m\n\u001b[0m\u001b[1;32m    146\u001b[0m \u001b[0;34m\u001b[0m\u001b[0m\n\u001b[1;32m    147\u001b[0m     \u001b[0;32mdef\u001b[0m \u001b[0m_bn_bias_state\u001b[0m\u001b[0;34m(\u001b[0m\u001b[0mself\u001b[0m\u001b[0;34m,\u001b[0m \u001b[0mwith_bias\u001b[0m\u001b[0;34m)\u001b[0m\u001b[0;34m:\u001b[0m \u001b[0;32mreturn\u001b[0m \u001b[0mnorm_bias_params\u001b[0m\u001b[0;34m(\u001b[0m\u001b[0mself\u001b[0m\u001b[0;34m.\u001b[0m\u001b[0mmodel\u001b[0m\u001b[0;34m,\u001b[0m \u001b[0mwith_bias\u001b[0m\u001b[0;34m)\u001b[0m\u001b[0;34m.\u001b[0m\u001b[0mmap\u001b[0m\u001b[0;34m(\u001b[0m\u001b[0mself\u001b[0m\u001b[0;34m.\u001b[0m\u001b[0mopt\u001b[0m\u001b[0;34m.\u001b[0m\u001b[0mstate\u001b[0m\u001b[0;34m)\u001b[0m\u001b[0;34m\u001b[0m\u001b[0;34m\u001b[0m\u001b[0m\n",
      "\u001b[0;32m~/anaconda3/envs/time/lib/python3.8/site-packages/fastai/callback/core.py\u001b[0m in \u001b[0;36m__call__\u001b[0;34m(self, event_name)\u001b[0m\n\u001b[1;32m     43\u001b[0m                (self.run_valid and not getattr(self, 'training', False)))\n\u001b[1;32m     44\u001b[0m         \u001b[0mres\u001b[0m \u001b[0;34m=\u001b[0m \u001b[0;32mNone\u001b[0m\u001b[0;34m\u001b[0m\u001b[0;34m\u001b[0m\u001b[0m\n\u001b[0;32m---> 45\u001b[0;31m         \u001b[0;32mif\u001b[0m \u001b[0mself\u001b[0m\u001b[0;34m.\u001b[0m\u001b[0mrun\u001b[0m \u001b[0;32mand\u001b[0m \u001b[0m_run\u001b[0m\u001b[0;34m:\u001b[0m \u001b[0mres\u001b[0m \u001b[0;34m=\u001b[0m \u001b[0mgetattr\u001b[0m\u001b[0;34m(\u001b[0m\u001b[0mself\u001b[0m\u001b[0;34m,\u001b[0m \u001b[0mevent_name\u001b[0m\u001b[0;34m,\u001b[0m \u001b[0mnoop\u001b[0m\u001b[0;34m)\u001b[0m\u001b[0;34m(\u001b[0m\u001b[0;34m)\u001b[0m\u001b[0;34m\u001b[0m\u001b[0;34m\u001b[0m\u001b[0m\n\u001b[0m\u001b[1;32m     46\u001b[0m         \u001b[0;32mif\u001b[0m \u001b[0mevent_name\u001b[0m\u001b[0;34m==\u001b[0m\u001b[0;34m'after_fit'\u001b[0m\u001b[0;34m:\u001b[0m \u001b[0mself\u001b[0m\u001b[0;34m.\u001b[0m\u001b[0mrun\u001b[0m\u001b[0;34m=\u001b[0m\u001b[0;32mTrue\u001b[0m \u001b[0;31m#Reset self.run to True at each end of fit\u001b[0m\u001b[0;34m\u001b[0m\u001b[0;34m\u001b[0m\u001b[0m\n\u001b[1;32m     47\u001b[0m         \u001b[0;32mreturn\u001b[0m \u001b[0mres\u001b[0m\u001b[0;34m\u001b[0m\u001b[0;34m\u001b[0m\u001b[0m\n",
      "\u001b[0;32m~/anaconda3/envs/time/lib/python3.8/site-packages/fastai/callback/progress.py\u001b[0m in \u001b[0;36mbefore_validate\u001b[0;34m(self)\u001b[0m\n\u001b[1;32m     24\u001b[0m \u001b[0;34m\u001b[0m\u001b[0m\n\u001b[1;32m     25\u001b[0m     \u001b[0;32mdef\u001b[0m \u001b[0mbefore_train\u001b[0m\u001b[0;34m(\u001b[0m\u001b[0mself\u001b[0m\u001b[0;34m)\u001b[0m\u001b[0;34m:\u001b[0m    \u001b[0mself\u001b[0m\u001b[0;34m.\u001b[0m\u001b[0m_launch_pbar\u001b[0m\u001b[0;34m(\u001b[0m\u001b[0;34m)\u001b[0m\u001b[0;34m\u001b[0m\u001b[0;34m\u001b[0m\u001b[0m\n\u001b[0;32m---> 26\u001b[0;31m     \u001b[0;32mdef\u001b[0m \u001b[0mbefore_validate\u001b[0m\u001b[0;34m(\u001b[0m\u001b[0mself\u001b[0m\u001b[0;34m)\u001b[0m\u001b[0;34m:\u001b[0m \u001b[0mself\u001b[0m\u001b[0;34m.\u001b[0m\u001b[0m_launch_pbar\u001b[0m\u001b[0;34m(\u001b[0m\u001b[0;34m)\u001b[0m\u001b[0;34m\u001b[0m\u001b[0;34m\u001b[0m\u001b[0m\n\u001b[0m\u001b[1;32m     27\u001b[0m     \u001b[0;32mdef\u001b[0m \u001b[0mafter_train\u001b[0m\u001b[0;34m(\u001b[0m\u001b[0mself\u001b[0m\u001b[0;34m)\u001b[0m\u001b[0;34m:\u001b[0m     \u001b[0mself\u001b[0m\u001b[0;34m.\u001b[0m\u001b[0mpbar\u001b[0m\u001b[0;34m.\u001b[0m\u001b[0mon_iter_end\u001b[0m\u001b[0;34m(\u001b[0m\u001b[0;34m)\u001b[0m\u001b[0;34m\u001b[0m\u001b[0;34m\u001b[0m\u001b[0m\n\u001b[1;32m     28\u001b[0m     \u001b[0;32mdef\u001b[0m \u001b[0mafter_validate\u001b[0m\u001b[0;34m(\u001b[0m\u001b[0mself\u001b[0m\u001b[0;34m)\u001b[0m\u001b[0;34m:\u001b[0m  \u001b[0mself\u001b[0m\u001b[0;34m.\u001b[0m\u001b[0mpbar\u001b[0m\u001b[0;34m.\u001b[0m\u001b[0mon_iter_end\u001b[0m\u001b[0;34m(\u001b[0m\u001b[0;34m)\u001b[0m\u001b[0;34m\u001b[0m\u001b[0;34m\u001b[0m\u001b[0m\n",
      "\u001b[0;32m~/anaconda3/envs/time/lib/python3.8/site-packages/fastai/callback/progress.py\u001b[0m in \u001b[0;36m_launch_pbar\u001b[0;34m(self)\u001b[0m\n\u001b[1;32m     32\u001b[0m \u001b[0;34m\u001b[0m\u001b[0m\n\u001b[1;32m     33\u001b[0m     \u001b[0;32mdef\u001b[0m \u001b[0m_launch_pbar\u001b[0m\u001b[0;34m(\u001b[0m\u001b[0mself\u001b[0m\u001b[0;34m)\u001b[0m\u001b[0;34m:\u001b[0m\u001b[0;34m\u001b[0m\u001b[0;34m\u001b[0m\u001b[0m\n\u001b[0;32m---> 34\u001b[0;31m         \u001b[0mself\u001b[0m\u001b[0;34m.\u001b[0m\u001b[0mpbar\u001b[0m \u001b[0;34m=\u001b[0m \u001b[0mprogress_bar\u001b[0m\u001b[0;34m(\u001b[0m\u001b[0mself\u001b[0m\u001b[0;34m.\u001b[0m\u001b[0mdl\u001b[0m\u001b[0;34m,\u001b[0m \u001b[0mparent\u001b[0m\u001b[0;34m=\u001b[0m\u001b[0mgetattr\u001b[0m\u001b[0;34m(\u001b[0m\u001b[0mself\u001b[0m\u001b[0;34m,\u001b[0m \u001b[0;34m'mbar'\u001b[0m\u001b[0;34m,\u001b[0m \u001b[0;32mNone\u001b[0m\u001b[0;34m)\u001b[0m\u001b[0;34m,\u001b[0m \u001b[0mleave\u001b[0m\u001b[0;34m=\u001b[0m\u001b[0;32mFalse\u001b[0m\u001b[0;34m)\u001b[0m\u001b[0;34m\u001b[0m\u001b[0;34m\u001b[0m\u001b[0m\n\u001b[0m\u001b[1;32m     35\u001b[0m         \u001b[0mself\u001b[0m\u001b[0;34m.\u001b[0m\u001b[0mpbar\u001b[0m\u001b[0;34m.\u001b[0m\u001b[0mupdate\u001b[0m\u001b[0;34m(\u001b[0m\u001b[0;36m0\u001b[0m\u001b[0;34m)\u001b[0m\u001b[0;34m\u001b[0m\u001b[0;34m\u001b[0m\u001b[0m\n\u001b[1;32m     36\u001b[0m \u001b[0;34m\u001b[0m\u001b[0m\n",
      "\u001b[0;32m~/anaconda3/envs/time/lib/python3.8/site-packages/fastprogress/fastprogress.py\u001b[0m in \u001b[0;36m__init__\u001b[0;34m(self, gen, total, display, leave, parent, master, comment)\u001b[0m\n\u001b[1;32m     17\u001b[0m     \u001b[0;32mdef\u001b[0m \u001b[0m__init__\u001b[0m\u001b[0;34m(\u001b[0m\u001b[0mself\u001b[0m\u001b[0;34m,\u001b[0m \u001b[0mgen\u001b[0m\u001b[0;34m,\u001b[0m \u001b[0mtotal\u001b[0m\u001b[0;34m=\u001b[0m\u001b[0;32mNone\u001b[0m\u001b[0;34m,\u001b[0m \u001b[0mdisplay\u001b[0m\u001b[0;34m=\u001b[0m\u001b[0;32mTrue\u001b[0m\u001b[0;34m,\u001b[0m \u001b[0mleave\u001b[0m\u001b[0;34m=\u001b[0m\u001b[0;32mTrue\u001b[0m\u001b[0;34m,\u001b[0m \u001b[0mparent\u001b[0m\u001b[0;34m=\u001b[0m\u001b[0;32mNone\u001b[0m\u001b[0;34m,\u001b[0m \u001b[0mmaster\u001b[0m\u001b[0;34m=\u001b[0m\u001b[0;32mNone\u001b[0m\u001b[0;34m,\u001b[0m \u001b[0mcomment\u001b[0m\u001b[0;34m=\u001b[0m\u001b[0;34m''\u001b[0m\u001b[0;34m)\u001b[0m\u001b[0;34m:\u001b[0m\u001b[0;34m\u001b[0m\u001b[0;34m\u001b[0m\u001b[0m\n\u001b[1;32m     18\u001b[0m         \u001b[0mself\u001b[0m\u001b[0;34m.\u001b[0m\u001b[0mgen\u001b[0m\u001b[0;34m,\u001b[0m\u001b[0mself\u001b[0m\u001b[0;34m.\u001b[0m\u001b[0mparent\u001b[0m\u001b[0;34m,\u001b[0m\u001b[0mself\u001b[0m\u001b[0;34m.\u001b[0m\u001b[0mmaster\u001b[0m\u001b[0;34m,\u001b[0m\u001b[0mself\u001b[0m\u001b[0;34m.\u001b[0m\u001b[0mcomment\u001b[0m \u001b[0;34m=\u001b[0m \u001b[0mgen\u001b[0m\u001b[0;34m,\u001b[0m\u001b[0mparent\u001b[0m\u001b[0;34m,\u001b[0m\u001b[0mmaster\u001b[0m\u001b[0;34m,\u001b[0m\u001b[0mcomment\u001b[0m\u001b[0;34m\u001b[0m\u001b[0;34m\u001b[0m\u001b[0m\n\u001b[0;32m---> 19\u001b[0;31m         \u001b[0mself\u001b[0m\u001b[0;34m.\u001b[0m\u001b[0mtotal\u001b[0m \u001b[0;34m=\u001b[0m \u001b[0mlen\u001b[0m\u001b[0;34m(\u001b[0m\u001b[0mgen\u001b[0m\u001b[0;34m)\u001b[0m \u001b[0;32mif\u001b[0m \u001b[0mtotal\u001b[0m \u001b[0;32mis\u001b[0m \u001b[0;32mNone\u001b[0m \u001b[0;32melse\u001b[0m \u001b[0mtotal\u001b[0m\u001b[0;34m\u001b[0m\u001b[0;34m\u001b[0m\u001b[0m\n\u001b[0m\u001b[1;32m     20\u001b[0m         \u001b[0mself\u001b[0m\u001b[0;34m.\u001b[0m\u001b[0mlast_v\u001b[0m \u001b[0;34m=\u001b[0m \u001b[0;36m0\u001b[0m\u001b[0;34m\u001b[0m\u001b[0;34m\u001b[0m\u001b[0m\n\u001b[1;32m     21\u001b[0m         \u001b[0;32mif\u001b[0m \u001b[0mparent\u001b[0m \u001b[0;32mis\u001b[0m \u001b[0;32mNone\u001b[0m\u001b[0;34m:\u001b[0m \u001b[0mself\u001b[0m\u001b[0;34m.\u001b[0m\u001b[0mleave\u001b[0m\u001b[0;34m,\u001b[0m\u001b[0mself\u001b[0m\u001b[0;34m.\u001b[0m\u001b[0mdisplay\u001b[0m \u001b[0;34m=\u001b[0m \u001b[0mleave\u001b[0m\u001b[0;34m,\u001b[0m\u001b[0mdisplay\u001b[0m\u001b[0;34m\u001b[0m\u001b[0;34m\u001b[0m\u001b[0m\n",
      "\u001b[0;32m~/anaconda3/envs/time/lib/python3.8/site-packages/fastai/data/load.py\u001b[0m in \u001b[0;36m__len__\u001b[0;34m(self)\u001b[0m\n\u001b[1;32m     92\u001b[0m         \u001b[0;32mif\u001b[0m \u001b[0mself\u001b[0m\u001b[0;34m.\u001b[0m\u001b[0mn\u001b[0m \u001b[0;32mis\u001b[0m \u001b[0;32mNone\u001b[0m\u001b[0;34m:\u001b[0m \u001b[0;32mraise\u001b[0m \u001b[0mTypeError\u001b[0m\u001b[0;34m\u001b[0m\u001b[0;34m\u001b[0m\u001b[0m\n\u001b[1;32m     93\u001b[0m         \u001b[0;32mif\u001b[0m \u001b[0mself\u001b[0m\u001b[0;34m.\u001b[0m\u001b[0mbs\u001b[0m \u001b[0;32mis\u001b[0m \u001b[0;32mNone\u001b[0m\u001b[0;34m:\u001b[0m \u001b[0;32mreturn\u001b[0m \u001b[0mself\u001b[0m\u001b[0;34m.\u001b[0m\u001b[0mn\u001b[0m\u001b[0;34m\u001b[0m\u001b[0;34m\u001b[0m\u001b[0m\n\u001b[0;32m---> 94\u001b[0;31m         \u001b[0;32mreturn\u001b[0m \u001b[0mself\u001b[0m\u001b[0;34m.\u001b[0m\u001b[0mn\u001b[0m\u001b[0;34m//\u001b[0m\u001b[0mself\u001b[0m\u001b[0;34m.\u001b[0m\u001b[0mbs\u001b[0m \u001b[0;34m+\u001b[0m \u001b[0;34m(\u001b[0m\u001b[0;36m0\u001b[0m \u001b[0;32mif\u001b[0m \u001b[0mself\u001b[0m\u001b[0;34m.\u001b[0m\u001b[0mdrop_last\u001b[0m \u001b[0;32mor\u001b[0m \u001b[0mself\u001b[0m\u001b[0;34m.\u001b[0m\u001b[0mn\u001b[0m\u001b[0;34m%\u001b[0m\u001b[0mself\u001b[0m\u001b[0;34m.\u001b[0m\u001b[0mbs\u001b[0m\u001b[0;34m==\u001b[0m\u001b[0;36m0\u001b[0m \u001b[0;32melse\u001b[0m \u001b[0;36m1\u001b[0m\u001b[0;34m)\u001b[0m\u001b[0;34m\u001b[0m\u001b[0;34m\u001b[0m\u001b[0m\n\u001b[0m\u001b[1;32m     95\u001b[0m \u001b[0;34m\u001b[0m\u001b[0m\n\u001b[1;32m     96\u001b[0m     \u001b[0;32mdef\u001b[0m \u001b[0mget_idxs\u001b[0m\u001b[0;34m(\u001b[0m\u001b[0mself\u001b[0m\u001b[0;34m)\u001b[0m\u001b[0;34m:\u001b[0m\u001b[0;34m\u001b[0m\u001b[0;34m\u001b[0m\u001b[0m\n",
      "\u001b[0;31mZeroDivisionError\u001b[0m: integer division or modulo by zero"
     ]
    }
   ],
   "source": [
    "quick_tv, quick_test = tsai_trainer(arch='TCN', countries=['Sweden', 'Finland'], stores=['KaggleRama'], products=['Kaggle Mug'])"
   ]
  },
  {
   "cell_type": "code",
   "execution_count": 300,
   "id": "22ff336a-9f12-43f6-8402-01b50f93e070",
   "metadata": {},
   "outputs": [],
   "source": [
    "all_df = pd.concat([tv_df, test_df], axis=0)"
   ]
  },
  {
   "cell_type": "code",
   "execution_count": 301,
   "id": "39253475-1cb2-4500-90d6-4371e68cc182",
   "metadata": {},
   "outputs": [
    {
     "data": {
      "text/plain": [
       "(32868, 208)"
      ]
     },
     "execution_count": 301,
     "metadata": {},
     "output_type": "execute_result"
    }
   ],
   "source": [
    "all_df.shape"
   ]
  },
  {
   "cell_type": "code",
   "execution_count": 304,
   "id": "d3494483-ac82-4ae5-a837-3909df7681a2",
   "metadata": {},
   "outputs": [
    {
     "ename": "TypeError",
     "evalue": "'<' not supported between instances of 'float' and 'Timestamp'",
     "output_type": "error",
     "traceback": [
      "\u001b[0;31m---------------------------------------------------------------------------\u001b[0m",
      "\u001b[0;31mTypeError\u001b[0m                                 Traceback (most recent call last)",
      "\u001b[0;32m<ipython-input-304-097720224df6>\u001b[0m in \u001b[0;36m<module>\u001b[0;34m\u001b[0m\n\u001b[1;32m      1\u001b[0m \u001b[0msplitter\u001b[0m \u001b[0;34m=\u001b[0m \u001b[0mTrainValidTestSplitter\u001b[0m\u001b[0;34m(\u001b[0m\u001b[0mn_splits\u001b[0m\u001b[0;34m=\u001b[0m\u001b[0;36m2\u001b[0m\u001b[0;34m,\u001b[0m \u001b[0mvalid_size\u001b[0m\u001b[0;34m=\u001b[0m\u001b[0mlen\u001b[0m\u001b[0;34m(\u001b[0m\u001b[0mtv_df\u001b[0m\u001b[0;34m[\u001b[0m\u001b[0mtv_df\u001b[0m\u001b[0;34m[\u001b[0m\u001b[0;34m'date'\u001b[0m\u001b[0;34m]\u001b[0m \u001b[0;34m>=\u001b[0m \u001b[0;34m'2018-01-01'\u001b[0m\u001b[0;34m]\u001b[0m\u001b[0;34m)\u001b[0m\u001b[0;34m,\u001b[0m \u001b[0mtest_size\u001b[0m\u001b[0;34m=\u001b[0m\u001b[0mlen\u001b[0m\u001b[0;34m(\u001b[0m\u001b[0mtest_df\u001b[0m\u001b[0;34m)\u001b[0m\u001b[0;34m)\u001b[0m\u001b[0;34m\u001b[0m\u001b[0;34m\u001b[0m\u001b[0m\n\u001b[0;32m----> 2\u001b[0;31m \u001b[0msplit\u001b[0m \u001b[0;34m=\u001b[0m \u001b[0msplitter\u001b[0m\u001b[0;34m(\u001b[0m\u001b[0mall_df\u001b[0m\u001b[0;34m)\u001b[0m\u001b[0;34m\u001b[0m\u001b[0;34m\u001b[0m\u001b[0m\n\u001b[0m\u001b[1;32m      3\u001b[0m \u001b[0;31m# splits = get_splits(o=all_df, stratify=False, shuffle=False)\u001b[0m\u001b[0;34m\u001b[0m\u001b[0;34m\u001b[0m\u001b[0;34m\u001b[0m\u001b[0m\n",
      "\u001b[0;32m~/anaconda3/envs/time/lib/python3.8/site-packages/tsai/data/validation.py\u001b[0m in \u001b[0;36m_inner\u001b[0;34m(o, **kwargs)\u001b[0m\n\u001b[1;32m     67\u001b[0m     \u001b[0;32mdef\u001b[0m \u001b[0m_inner\u001b[0m\u001b[0;34m(\u001b[0m\u001b[0mo\u001b[0m\u001b[0;34m,\u001b[0m \u001b[0;34m**\u001b[0m\u001b[0mkwargs\u001b[0m\u001b[0;34m)\u001b[0m\u001b[0;34m:\u001b[0m\u001b[0;34m\u001b[0m\u001b[0;34m\u001b[0m\u001b[0m\n\u001b[1;32m     68\u001b[0m         \u001b[0;32mif\u001b[0m \u001b[0mstratify\u001b[0m\u001b[0;34m:\u001b[0m\u001b[0;34m\u001b[0m\u001b[0;34m\u001b[0m\u001b[0m\n\u001b[0;32m---> 69\u001b[0;31m             \u001b[0m_\u001b[0m\u001b[0;34m,\u001b[0m \u001b[0munique_counts\u001b[0m \u001b[0;34m=\u001b[0m \u001b[0mnp\u001b[0m\u001b[0;34m.\u001b[0m\u001b[0munique\u001b[0m\u001b[0;34m(\u001b[0m\u001b[0mo\u001b[0m\u001b[0;34m,\u001b[0m \u001b[0mreturn_counts\u001b[0m\u001b[0;34m=\u001b[0m\u001b[0;32mTrue\u001b[0m\u001b[0;34m)\u001b[0m\u001b[0;34m\u001b[0m\u001b[0;34m\u001b[0m\u001b[0m\n\u001b[0m\u001b[1;32m     70\u001b[0m             \u001b[0;32mif\u001b[0m \u001b[0mnp\u001b[0m\u001b[0;34m.\u001b[0m\u001b[0mmin\u001b[0m\u001b[0;34m(\u001b[0m\u001b[0munique_counts\u001b[0m\u001b[0;34m)\u001b[0m \u001b[0;34m>=\u001b[0m \u001b[0;36m2\u001b[0m \u001b[0;32mand\u001b[0m \u001b[0mnp\u001b[0m\u001b[0;34m.\u001b[0m\u001b[0mmin\u001b[0m\u001b[0;34m(\u001b[0m\u001b[0munique_counts\u001b[0m\u001b[0;34m)\u001b[0m \u001b[0;34m>=\u001b[0m \u001b[0mn_splits\u001b[0m\u001b[0;34m:\u001b[0m \u001b[0mstratify_\u001b[0m \u001b[0;34m=\u001b[0m \u001b[0mstratify\u001b[0m\u001b[0;34m\u001b[0m\u001b[0;34m\u001b[0m\u001b[0m\n\u001b[1;32m     71\u001b[0m             \u001b[0;32melif\u001b[0m \u001b[0mnp\u001b[0m\u001b[0;34m.\u001b[0m\u001b[0mmin\u001b[0m\u001b[0;34m(\u001b[0m\u001b[0munique_counts\u001b[0m\u001b[0;34m)\u001b[0m \u001b[0;34m<\u001b[0m \u001b[0mn_splits\u001b[0m\u001b[0;34m:\u001b[0m\u001b[0;34m\u001b[0m\u001b[0;34m\u001b[0m\u001b[0m\n",
      "\u001b[0;32m<__array_function__ internals>\u001b[0m in \u001b[0;36munique\u001b[0;34m(*args, **kwargs)\u001b[0m\n",
      "\u001b[0;32m~/anaconda3/envs/time/lib/python3.8/site-packages/numpy/lib/arraysetops.py\u001b[0m in \u001b[0;36munique\u001b[0;34m(ar, return_index, return_inverse, return_counts, axis)\u001b[0m\n\u001b[1;32m    261\u001b[0m     \u001b[0mar\u001b[0m \u001b[0;34m=\u001b[0m \u001b[0mnp\u001b[0m\u001b[0;34m.\u001b[0m\u001b[0masanyarray\u001b[0m\u001b[0;34m(\u001b[0m\u001b[0mar\u001b[0m\u001b[0;34m)\u001b[0m\u001b[0;34m\u001b[0m\u001b[0;34m\u001b[0m\u001b[0m\n\u001b[1;32m    262\u001b[0m     \u001b[0;32mif\u001b[0m \u001b[0maxis\u001b[0m \u001b[0;32mis\u001b[0m \u001b[0;32mNone\u001b[0m\u001b[0;34m:\u001b[0m\u001b[0;34m\u001b[0m\u001b[0;34m\u001b[0m\u001b[0m\n\u001b[0;32m--> 263\u001b[0;31m         \u001b[0mret\u001b[0m \u001b[0;34m=\u001b[0m \u001b[0m_unique1d\u001b[0m\u001b[0;34m(\u001b[0m\u001b[0mar\u001b[0m\u001b[0;34m,\u001b[0m \u001b[0mreturn_index\u001b[0m\u001b[0;34m,\u001b[0m \u001b[0mreturn_inverse\u001b[0m\u001b[0;34m,\u001b[0m \u001b[0mreturn_counts\u001b[0m\u001b[0;34m)\u001b[0m\u001b[0;34m\u001b[0m\u001b[0;34m\u001b[0m\u001b[0m\n\u001b[0m\u001b[1;32m    264\u001b[0m         \u001b[0;32mreturn\u001b[0m \u001b[0m_unpack_tuple\u001b[0m\u001b[0;34m(\u001b[0m\u001b[0mret\u001b[0m\u001b[0;34m)\u001b[0m\u001b[0;34m\u001b[0m\u001b[0;34m\u001b[0m\u001b[0m\n\u001b[1;32m    265\u001b[0m \u001b[0;34m\u001b[0m\u001b[0m\n",
      "\u001b[0;32m~/anaconda3/envs/time/lib/python3.8/site-packages/numpy/lib/arraysetops.py\u001b[0m in \u001b[0;36m_unique1d\u001b[0;34m(ar, return_index, return_inverse, return_counts)\u001b[0m\n\u001b[1;32m    309\u001b[0m         \u001b[0maux\u001b[0m \u001b[0;34m=\u001b[0m \u001b[0mar\u001b[0m\u001b[0;34m[\u001b[0m\u001b[0mperm\u001b[0m\u001b[0;34m]\u001b[0m\u001b[0;34m\u001b[0m\u001b[0;34m\u001b[0m\u001b[0m\n\u001b[1;32m    310\u001b[0m     \u001b[0;32melse\u001b[0m\u001b[0;34m:\u001b[0m\u001b[0;34m\u001b[0m\u001b[0;34m\u001b[0m\u001b[0m\n\u001b[0;32m--> 311\u001b[0;31m         \u001b[0mar\u001b[0m\u001b[0;34m.\u001b[0m\u001b[0msort\u001b[0m\u001b[0;34m(\u001b[0m\u001b[0;34m)\u001b[0m\u001b[0;34m\u001b[0m\u001b[0;34m\u001b[0m\u001b[0m\n\u001b[0m\u001b[1;32m    312\u001b[0m         \u001b[0maux\u001b[0m \u001b[0;34m=\u001b[0m \u001b[0mar\u001b[0m\u001b[0;34m\u001b[0m\u001b[0;34m\u001b[0m\u001b[0m\n\u001b[1;32m    313\u001b[0m     \u001b[0mmask\u001b[0m \u001b[0;34m=\u001b[0m \u001b[0mnp\u001b[0m\u001b[0;34m.\u001b[0m\u001b[0mempty\u001b[0m\u001b[0;34m(\u001b[0m\u001b[0maux\u001b[0m\u001b[0;34m.\u001b[0m\u001b[0mshape\u001b[0m\u001b[0;34m,\u001b[0m \u001b[0mdtype\u001b[0m\u001b[0;34m=\u001b[0m\u001b[0mnp\u001b[0m\u001b[0;34m.\u001b[0m\u001b[0mbool_\u001b[0m\u001b[0;34m)\u001b[0m\u001b[0;34m\u001b[0m\u001b[0;34m\u001b[0m\u001b[0m\n",
      "\u001b[0;31mTypeError\u001b[0m: '<' not supported between instances of 'float' and 'Timestamp'"
     ]
    }
   ],
   "source": [
    "splitter = TrainValidTestSplitter(n_splits=2, valid_size=len(tv_df[tv_df['date'] >= '2018-01-01']), test_size=len(test_df))\n",
    "split = splitter(all_df)\n",
    "# splits = get_splits(o=all_df, stratify=False, shuffle=False)"
   ]
  },
  {
   "cell_type": "code",
   "execution_count": 201,
   "id": "57f41776-4dd4-4102-8e4d-18418040101c",
   "metadata": {},
   "outputs": [
    {
     "name": "stdout",
     "output_type": "stream",
     "text": [
      "Training ['Sweden'], ['KaggleRama'], ['Kaggle Mug']\n"
     ]
    },
    {
     "ename": "ValueError",
     "evalue": "can only convert an array of size 1 to a Python scalar",
     "output_type": "error",
     "traceback": [
      "\u001b[0;31m---------------------------------------------------------------------------\u001b[0m",
      "\u001b[0;31mValueError\u001b[0m                                Traceback (most recent call last)",
      "\u001b[0;32m<ipython-input-201-eecf3d8de8a4>\u001b[0m in \u001b[0;36m<module>\u001b[0;34m\u001b[0m\n\u001b[0;32m----> 1\u001b[0;31m \u001b[0mquick_tv\u001b[0m\u001b[0;34m,\u001b[0m \u001b[0mquick_test\u001b[0m \u001b[0;34m=\u001b[0m \u001b[0mtsai_trainer\u001b[0m\u001b[0;34m(\u001b[0m\u001b[0march\u001b[0m\u001b[0;34m=\u001b[0m\u001b[0;34m'TCN'\u001b[0m\u001b[0;34m,\u001b[0m \u001b[0mcountries\u001b[0m\u001b[0;34m=\u001b[0m\u001b[0;34m[\u001b[0m\u001b[0;34m'Sweden'\u001b[0m\u001b[0;34m,\u001b[0m \u001b[0;34m'Finland'\u001b[0m\u001b[0;34m]\u001b[0m\u001b[0;34m,\u001b[0m \u001b[0mstores\u001b[0m\u001b[0;34m=\u001b[0m\u001b[0;34m[\u001b[0m\u001b[0;34m'KaggleRama'\u001b[0m\u001b[0;34m]\u001b[0m\u001b[0;34m,\u001b[0m \u001b[0mproducts\u001b[0m\u001b[0;34m=\u001b[0m\u001b[0;34m[\u001b[0m\u001b[0;34m'Kaggle Mug'\u001b[0m\u001b[0;34m]\u001b[0m\u001b[0;34m)\u001b[0m\u001b[0;34m\u001b[0m\u001b[0;34m\u001b[0m\u001b[0m\n\u001b[0m",
      "\u001b[0;32m<ipython-input-200-56ba7347eea1>\u001b[0m in \u001b[0;36mtsai_trainer\u001b[0;34m(arch, model_kwargs, tv_df, test_df, countries, stores, products, target, wandb_tracked, tfms, batch_tfms, num_epochs)\u001b[0m\n\u001b[1;32m    107\u001b[0m \u001b[0;34m\u001b[0m\u001b[0m\n\u001b[1;32m    108\u001b[0m \u001b[0;34m\u001b[0m\u001b[0m\n\u001b[0;32m--> 109\u001b[0;31m                 \u001b[0mdsets\u001b[0m \u001b[0;34m=\u001b[0m \u001b[0mTSDatasets\u001b[0m\u001b[0;34m(\u001b[0m\u001b[0mX_3d\u001b[0m\u001b[0;34m,\u001b[0m \u001b[0my\u001b[0m\u001b[0;34m,\u001b[0m \u001b[0mtfms\u001b[0m\u001b[0;34m=\u001b[0m\u001b[0mtfms\u001b[0m\u001b[0;34m,\u001b[0m \u001b[0msplits\u001b[0m\u001b[0;34m=\u001b[0m\u001b[0msplits\u001b[0m\u001b[0;34m,\u001b[0m \u001b[0minplace\u001b[0m\u001b[0;34m=\u001b[0m\u001b[0;32mTrue\u001b[0m\u001b[0;34m)\u001b[0m\u001b[0;34m\u001b[0m\u001b[0;34m\u001b[0m\u001b[0m\n\u001b[0m\u001b[1;32m    110\u001b[0m                 \u001b[0mtestset\u001b[0m \u001b[0;34m=\u001b[0m \u001b[0mTSDataset\u001b[0m\u001b[0;34m(\u001b[0m\u001b[0mX\u001b[0m\u001b[0;34m=\u001b[0m\u001b[0mX_test_3d\u001b[0m\u001b[0;34m,\u001b[0m \u001b[0mtfms\u001b[0m\u001b[0;34m=\u001b[0m\u001b[0mtfms\u001b[0m\u001b[0;34m,\u001b[0m \u001b[0minplace\u001b[0m\u001b[0;34m=\u001b[0m\u001b[0;32mTrue\u001b[0m\u001b[0;34m)\u001b[0m\u001b[0;34m\u001b[0m\u001b[0;34m\u001b[0m\u001b[0m\n\u001b[1;32m    111\u001b[0m \u001b[0;34m\u001b[0m\u001b[0m\n",
      "\u001b[0;32m~/anaconda3/envs/time/lib/python3.8/site-packages/tsai/data/core.py\u001b[0m in \u001b[0;36m__init__\u001b[0;34m(self, X, y, items, sel_vars, sel_steps, tfms, tls, n_inp, dl_type, inplace, **kwargs)\u001b[0m\n\u001b[1;32m    369\u001b[0m                 \u001b[0mlts\u001b[0m \u001b[0;34m=\u001b[0m \u001b[0;34m[\u001b[0m\u001b[0mNoTfmLists\u001b[0m \u001b[0;32mif\u001b[0m \u001b[0;34m(\u001b[0m\u001b[0mt\u001b[0m \u001b[0;32mis\u001b[0m \u001b[0;32mNone\u001b[0m \u001b[0;32mand\u001b[0m \u001b[0;32mnot\u001b[0m \u001b[0minplace\u001b[0m\u001b[0;34m)\u001b[0m \u001b[0;32melse\u001b[0m \u001b[0mTSTfmdLists\u001b[0m \u001b[0;32mif\u001b[0m \u001b[0mgetattr\u001b[0m\u001b[0;34m(\u001b[0m\u001b[0mt\u001b[0m\u001b[0;34m,\u001b[0m \u001b[0;34m'vectorized'\u001b[0m\u001b[0;34m,\u001b[0m \u001b[0;32mNone\u001b[0m\u001b[0;34m)\u001b[0m \u001b[0;32melse\u001b[0m \u001b[0mTfmdLists\u001b[0m \u001b[0;32mfor\u001b[0m \u001b[0mt\u001b[0m \u001b[0;32min\u001b[0m \u001b[0mself\u001b[0m\u001b[0;34m.\u001b[0m\u001b[0mtfms\u001b[0m\u001b[0;34m]\u001b[0m\u001b[0;34m\u001b[0m\u001b[0;34m\u001b[0m\u001b[0m\n\u001b[1;32m    370\u001b[0m \u001b[0;34m\u001b[0m\u001b[0m\n\u001b[0;32m--> 371\u001b[0;31m             \u001b[0mself\u001b[0m\u001b[0;34m.\u001b[0m\u001b[0mtls\u001b[0m \u001b[0;34m=\u001b[0m \u001b[0mL\u001b[0m\u001b[0;34m(\u001b[0m\u001b[0mlt\u001b[0m\u001b[0;34m(\u001b[0m\u001b[0mitem\u001b[0m\u001b[0;34m,\u001b[0m \u001b[0mt\u001b[0m\u001b[0;34m,\u001b[0m \u001b[0;34m**\u001b[0m\u001b[0mkwargs\u001b[0m\u001b[0;34m)\u001b[0m \u001b[0;32mfor\u001b[0m \u001b[0mlt\u001b[0m\u001b[0;34m,\u001b[0m\u001b[0mitem\u001b[0m\u001b[0;34m,\u001b[0m\u001b[0mt\u001b[0m \u001b[0;32min\u001b[0m \u001b[0mzip\u001b[0m\u001b[0;34m(\u001b[0m\u001b[0mlts\u001b[0m\u001b[0;34m,\u001b[0m \u001b[0mitems\u001b[0m\u001b[0;34m,\u001b[0m \u001b[0mself\u001b[0m\u001b[0;34m.\u001b[0m\u001b[0mtfms\u001b[0m\u001b[0;34m)\u001b[0m\u001b[0;34m)\u001b[0m\u001b[0;34m\u001b[0m\u001b[0;34m\u001b[0m\u001b[0m\n\u001b[0m\u001b[1;32m    372\u001b[0m             \u001b[0;32mif\u001b[0m \u001b[0mlen\u001b[0m\u001b[0;34m(\u001b[0m\u001b[0mself\u001b[0m\u001b[0;34m.\u001b[0m\u001b[0mtls\u001b[0m\u001b[0;34m)\u001b[0m \u001b[0;34m>\u001b[0m \u001b[0;36m0\u001b[0m \u001b[0;32mand\u001b[0m \u001b[0mlen\u001b[0m\u001b[0;34m(\u001b[0m\u001b[0mself\u001b[0m\u001b[0;34m.\u001b[0m\u001b[0mtls\u001b[0m\u001b[0;34m[\u001b[0m\u001b[0;36m0\u001b[0m\u001b[0;34m]\u001b[0m\u001b[0;34m)\u001b[0m \u001b[0;34m>\u001b[0m \u001b[0;36m0\u001b[0m\u001b[0;34m:\u001b[0m\u001b[0;34m\u001b[0m\u001b[0;34m\u001b[0m\u001b[0m\n\u001b[1;32m    373\u001b[0m                 \u001b[0mself\u001b[0m\u001b[0;34m.\u001b[0m\u001b[0mtyps\u001b[0m \u001b[0;34m=\u001b[0m \u001b[0;34m[\u001b[0m\u001b[0mtype\u001b[0m\u001b[0;34m(\u001b[0m\u001b[0mtl\u001b[0m\u001b[0;34m[\u001b[0m\u001b[0;36m0\u001b[0m\u001b[0;34m]\u001b[0m\u001b[0;34m)\u001b[0m \u001b[0;32mif\u001b[0m \u001b[0misinstance\u001b[0m\u001b[0;34m(\u001b[0m\u001b[0mtl\u001b[0m\u001b[0;34m[\u001b[0m\u001b[0;36m0\u001b[0m\u001b[0;34m]\u001b[0m\u001b[0;34m,\u001b[0m \u001b[0mtorch\u001b[0m\u001b[0;34m.\u001b[0m\u001b[0mTensor\u001b[0m\u001b[0;34m)\u001b[0m \u001b[0;32melse\u001b[0m \u001b[0mself\u001b[0m\u001b[0;34m.\u001b[0m\u001b[0mtyps\u001b[0m\u001b[0;34m[\u001b[0m\u001b[0mi\u001b[0m\u001b[0;34m]\u001b[0m \u001b[0;32mfor\u001b[0m \u001b[0mi\u001b[0m\u001b[0;34m,\u001b[0m\u001b[0mtl\u001b[0m \u001b[0;32min\u001b[0m \u001b[0menumerate\u001b[0m\u001b[0;34m(\u001b[0m\u001b[0mself\u001b[0m\u001b[0;34m.\u001b[0m\u001b[0mtls\u001b[0m\u001b[0;34m)\u001b[0m\u001b[0;34m]\u001b[0m\u001b[0;34m\u001b[0m\u001b[0;34m\u001b[0m\u001b[0m\n",
      "\u001b[0;32m~/anaconda3/envs/time/lib/python3.8/site-packages/fastcore/foundation.py\u001b[0m in \u001b[0;36m__call__\u001b[0;34m(cls, x, *args, **kwargs)\u001b[0m\n\u001b[1;32m     95\u001b[0m     \u001b[0;32mdef\u001b[0m \u001b[0m__call__\u001b[0m\u001b[0;34m(\u001b[0m\u001b[0mcls\u001b[0m\u001b[0;34m,\u001b[0m \u001b[0mx\u001b[0m\u001b[0;34m=\u001b[0m\u001b[0;32mNone\u001b[0m\u001b[0;34m,\u001b[0m \u001b[0;34m*\u001b[0m\u001b[0margs\u001b[0m\u001b[0;34m,\u001b[0m \u001b[0;34m**\u001b[0m\u001b[0mkwargs\u001b[0m\u001b[0;34m)\u001b[0m\u001b[0;34m:\u001b[0m\u001b[0;34m\u001b[0m\u001b[0;34m\u001b[0m\u001b[0m\n\u001b[1;32m     96\u001b[0m         \u001b[0;32mif\u001b[0m \u001b[0;32mnot\u001b[0m \u001b[0margs\u001b[0m \u001b[0;32mand\u001b[0m \u001b[0;32mnot\u001b[0m \u001b[0mkwargs\u001b[0m \u001b[0;32mand\u001b[0m \u001b[0mx\u001b[0m \u001b[0;32mis\u001b[0m \u001b[0;32mnot\u001b[0m \u001b[0;32mNone\u001b[0m \u001b[0;32mand\u001b[0m \u001b[0misinstance\u001b[0m\u001b[0;34m(\u001b[0m\u001b[0mx\u001b[0m\u001b[0;34m,\u001b[0m\u001b[0mcls\u001b[0m\u001b[0;34m)\u001b[0m\u001b[0;34m:\u001b[0m \u001b[0;32mreturn\u001b[0m \u001b[0mx\u001b[0m\u001b[0;34m\u001b[0m\u001b[0;34m\u001b[0m\u001b[0m\n\u001b[0;32m---> 97\u001b[0;31m         \u001b[0;32mreturn\u001b[0m \u001b[0msuper\u001b[0m\u001b[0;34m(\u001b[0m\u001b[0;34m)\u001b[0m\u001b[0;34m.\u001b[0m\u001b[0m__call__\u001b[0m\u001b[0;34m(\u001b[0m\u001b[0mx\u001b[0m\u001b[0;34m,\u001b[0m \u001b[0;34m*\u001b[0m\u001b[0margs\u001b[0m\u001b[0;34m,\u001b[0m \u001b[0;34m**\u001b[0m\u001b[0mkwargs\u001b[0m\u001b[0;34m)\u001b[0m\u001b[0;34m\u001b[0m\u001b[0;34m\u001b[0m\u001b[0m\n\u001b[0m\u001b[1;32m     98\u001b[0m \u001b[0;34m\u001b[0m\u001b[0m\n\u001b[1;32m     99\u001b[0m \u001b[0;31m# Cell\u001b[0m\u001b[0;34m\u001b[0m\u001b[0;34m\u001b[0m\u001b[0;34m\u001b[0m\u001b[0m\n",
      "\u001b[0;32m~/anaconda3/envs/time/lib/python3.8/site-packages/fastcore/foundation.py\u001b[0m in \u001b[0;36m__init__\u001b[0;34m(self, items, use_list, match, *rest)\u001b[0m\n\u001b[1;32m    103\u001b[0m     \u001b[0;32mdef\u001b[0m \u001b[0m__init__\u001b[0m\u001b[0;34m(\u001b[0m\u001b[0mself\u001b[0m\u001b[0;34m,\u001b[0m \u001b[0mitems\u001b[0m\u001b[0;34m=\u001b[0m\u001b[0;32mNone\u001b[0m\u001b[0;34m,\u001b[0m \u001b[0;34m*\u001b[0m\u001b[0mrest\u001b[0m\u001b[0;34m,\u001b[0m \u001b[0muse_list\u001b[0m\u001b[0;34m=\u001b[0m\u001b[0;32mFalse\u001b[0m\u001b[0;34m,\u001b[0m \u001b[0mmatch\u001b[0m\u001b[0;34m=\u001b[0m\u001b[0;32mNone\u001b[0m\u001b[0;34m)\u001b[0m\u001b[0;34m:\u001b[0m\u001b[0;34m\u001b[0m\u001b[0;34m\u001b[0m\u001b[0m\n\u001b[1;32m    104\u001b[0m         \u001b[0;32mif\u001b[0m \u001b[0;34m(\u001b[0m\u001b[0muse_list\u001b[0m \u001b[0;32mis\u001b[0m \u001b[0;32mnot\u001b[0m \u001b[0;32mNone\u001b[0m\u001b[0;34m)\u001b[0m \u001b[0;32mor\u001b[0m \u001b[0;32mnot\u001b[0m \u001b[0mis_array\u001b[0m\u001b[0;34m(\u001b[0m\u001b[0mitems\u001b[0m\u001b[0;34m)\u001b[0m\u001b[0;34m:\u001b[0m\u001b[0;34m\u001b[0m\u001b[0;34m\u001b[0m\u001b[0m\n\u001b[0;32m--> 105\u001b[0;31m             \u001b[0mitems\u001b[0m \u001b[0;34m=\u001b[0m \u001b[0mlistify\u001b[0m\u001b[0;34m(\u001b[0m\u001b[0mitems\u001b[0m\u001b[0;34m,\u001b[0m \u001b[0;34m*\u001b[0m\u001b[0mrest\u001b[0m\u001b[0;34m,\u001b[0m \u001b[0muse_list\u001b[0m\u001b[0;34m=\u001b[0m\u001b[0muse_list\u001b[0m\u001b[0;34m,\u001b[0m \u001b[0mmatch\u001b[0m\u001b[0;34m=\u001b[0m\u001b[0mmatch\u001b[0m\u001b[0;34m)\u001b[0m\u001b[0;34m\u001b[0m\u001b[0;34m\u001b[0m\u001b[0m\n\u001b[0m\u001b[1;32m    106\u001b[0m         \u001b[0msuper\u001b[0m\u001b[0;34m(\u001b[0m\u001b[0;34m)\u001b[0m\u001b[0;34m.\u001b[0m\u001b[0m__init__\u001b[0m\u001b[0;34m(\u001b[0m\u001b[0mitems\u001b[0m\u001b[0;34m)\u001b[0m\u001b[0;34m\u001b[0m\u001b[0;34m\u001b[0m\u001b[0m\n\u001b[1;32m    107\u001b[0m \u001b[0;34m\u001b[0m\u001b[0m\n",
      "\u001b[0;32m~/anaconda3/envs/time/lib/python3.8/site-packages/fastcore/basics.py\u001b[0m in \u001b[0;36mlistify\u001b[0;34m(o, use_list, match, *rest)\u001b[0m\n\u001b[1;32m     55\u001b[0m     \u001b[0;32melif\u001b[0m \u001b[0misinstance\u001b[0m\u001b[0;34m(\u001b[0m\u001b[0mo\u001b[0m\u001b[0;34m,\u001b[0m \u001b[0mlist\u001b[0m\u001b[0;34m)\u001b[0m\u001b[0;34m:\u001b[0m \u001b[0mres\u001b[0m \u001b[0;34m=\u001b[0m \u001b[0mo\u001b[0m\u001b[0;34m\u001b[0m\u001b[0;34m\u001b[0m\u001b[0m\n\u001b[1;32m     56\u001b[0m     \u001b[0;32melif\u001b[0m \u001b[0misinstance\u001b[0m\u001b[0;34m(\u001b[0m\u001b[0mo\u001b[0m\u001b[0;34m,\u001b[0m \u001b[0mstr\u001b[0m\u001b[0;34m)\u001b[0m \u001b[0;32mor\u001b[0m \u001b[0mis_array\u001b[0m\u001b[0;34m(\u001b[0m\u001b[0mo\u001b[0m\u001b[0;34m)\u001b[0m\u001b[0;34m:\u001b[0m \u001b[0mres\u001b[0m \u001b[0;34m=\u001b[0m \u001b[0;34m[\u001b[0m\u001b[0mo\u001b[0m\u001b[0;34m]\u001b[0m\u001b[0;34m\u001b[0m\u001b[0;34m\u001b[0m\u001b[0m\n\u001b[0;32m---> 57\u001b[0;31m     \u001b[0;32melif\u001b[0m \u001b[0mis_iter\u001b[0m\u001b[0;34m(\u001b[0m\u001b[0mo\u001b[0m\u001b[0;34m)\u001b[0m\u001b[0;34m:\u001b[0m \u001b[0mres\u001b[0m \u001b[0;34m=\u001b[0m \u001b[0mlist\u001b[0m\u001b[0;34m(\u001b[0m\u001b[0mo\u001b[0m\u001b[0;34m)\u001b[0m\u001b[0;34m\u001b[0m\u001b[0;34m\u001b[0m\u001b[0m\n\u001b[0m\u001b[1;32m     58\u001b[0m     \u001b[0;32melse\u001b[0m\u001b[0;34m:\u001b[0m \u001b[0mres\u001b[0m \u001b[0;34m=\u001b[0m \u001b[0;34m[\u001b[0m\u001b[0mo\u001b[0m\u001b[0;34m]\u001b[0m\u001b[0;34m\u001b[0m\u001b[0;34m\u001b[0m\u001b[0m\n\u001b[1;32m     59\u001b[0m     \u001b[0;32mif\u001b[0m \u001b[0mmatch\u001b[0m \u001b[0;32mis\u001b[0m \u001b[0;32mnot\u001b[0m \u001b[0;32mNone\u001b[0m\u001b[0;34m:\u001b[0m\u001b[0;34m\u001b[0m\u001b[0;34m\u001b[0m\u001b[0m\n",
      "\u001b[0;32m~/anaconda3/envs/time/lib/python3.8/site-packages/tsai/data/core.py\u001b[0m in \u001b[0;36m<genexpr>\u001b[0;34m(.0)\u001b[0m\n\u001b[1;32m    369\u001b[0m                 \u001b[0mlts\u001b[0m \u001b[0;34m=\u001b[0m \u001b[0;34m[\u001b[0m\u001b[0mNoTfmLists\u001b[0m \u001b[0;32mif\u001b[0m \u001b[0;34m(\u001b[0m\u001b[0mt\u001b[0m \u001b[0;32mis\u001b[0m \u001b[0;32mNone\u001b[0m \u001b[0;32mand\u001b[0m \u001b[0;32mnot\u001b[0m \u001b[0minplace\u001b[0m\u001b[0;34m)\u001b[0m \u001b[0;32melse\u001b[0m \u001b[0mTSTfmdLists\u001b[0m \u001b[0;32mif\u001b[0m \u001b[0mgetattr\u001b[0m\u001b[0;34m(\u001b[0m\u001b[0mt\u001b[0m\u001b[0;34m,\u001b[0m \u001b[0;34m'vectorized'\u001b[0m\u001b[0;34m,\u001b[0m \u001b[0;32mNone\u001b[0m\u001b[0;34m)\u001b[0m \u001b[0;32melse\u001b[0m \u001b[0mTfmdLists\u001b[0m \u001b[0;32mfor\u001b[0m \u001b[0mt\u001b[0m \u001b[0;32min\u001b[0m \u001b[0mself\u001b[0m\u001b[0;34m.\u001b[0m\u001b[0mtfms\u001b[0m\u001b[0;34m]\u001b[0m\u001b[0;34m\u001b[0m\u001b[0;34m\u001b[0m\u001b[0m\n\u001b[1;32m    370\u001b[0m \u001b[0;34m\u001b[0m\u001b[0m\n\u001b[0;32m--> 371\u001b[0;31m             \u001b[0mself\u001b[0m\u001b[0;34m.\u001b[0m\u001b[0mtls\u001b[0m \u001b[0;34m=\u001b[0m \u001b[0mL\u001b[0m\u001b[0;34m(\u001b[0m\u001b[0mlt\u001b[0m\u001b[0;34m(\u001b[0m\u001b[0mitem\u001b[0m\u001b[0;34m,\u001b[0m \u001b[0mt\u001b[0m\u001b[0;34m,\u001b[0m \u001b[0;34m**\u001b[0m\u001b[0mkwargs\u001b[0m\u001b[0;34m)\u001b[0m \u001b[0;32mfor\u001b[0m \u001b[0mlt\u001b[0m\u001b[0;34m,\u001b[0m\u001b[0mitem\u001b[0m\u001b[0;34m,\u001b[0m\u001b[0mt\u001b[0m \u001b[0;32min\u001b[0m \u001b[0mzip\u001b[0m\u001b[0;34m(\u001b[0m\u001b[0mlts\u001b[0m\u001b[0;34m,\u001b[0m \u001b[0mitems\u001b[0m\u001b[0;34m,\u001b[0m \u001b[0mself\u001b[0m\u001b[0;34m.\u001b[0m\u001b[0mtfms\u001b[0m\u001b[0;34m)\u001b[0m\u001b[0;34m)\u001b[0m\u001b[0;34m\u001b[0m\u001b[0;34m\u001b[0m\u001b[0m\n\u001b[0m\u001b[1;32m    372\u001b[0m             \u001b[0;32mif\u001b[0m \u001b[0mlen\u001b[0m\u001b[0;34m(\u001b[0m\u001b[0mself\u001b[0m\u001b[0;34m.\u001b[0m\u001b[0mtls\u001b[0m\u001b[0;34m)\u001b[0m \u001b[0;34m>\u001b[0m \u001b[0;36m0\u001b[0m \u001b[0;32mand\u001b[0m \u001b[0mlen\u001b[0m\u001b[0;34m(\u001b[0m\u001b[0mself\u001b[0m\u001b[0;34m.\u001b[0m\u001b[0mtls\u001b[0m\u001b[0;34m[\u001b[0m\u001b[0;36m0\u001b[0m\u001b[0;34m]\u001b[0m\u001b[0;34m)\u001b[0m \u001b[0;34m>\u001b[0m \u001b[0;36m0\u001b[0m\u001b[0;34m:\u001b[0m\u001b[0;34m\u001b[0m\u001b[0;34m\u001b[0m\u001b[0m\n\u001b[1;32m    373\u001b[0m                 \u001b[0mself\u001b[0m\u001b[0;34m.\u001b[0m\u001b[0mtyps\u001b[0m \u001b[0;34m=\u001b[0m \u001b[0;34m[\u001b[0m\u001b[0mtype\u001b[0m\u001b[0;34m(\u001b[0m\u001b[0mtl\u001b[0m\u001b[0;34m[\u001b[0m\u001b[0;36m0\u001b[0m\u001b[0;34m]\u001b[0m\u001b[0;34m)\u001b[0m \u001b[0;32mif\u001b[0m \u001b[0misinstance\u001b[0m\u001b[0;34m(\u001b[0m\u001b[0mtl\u001b[0m\u001b[0;34m[\u001b[0m\u001b[0;36m0\u001b[0m\u001b[0;34m]\u001b[0m\u001b[0;34m,\u001b[0m \u001b[0mtorch\u001b[0m\u001b[0;34m.\u001b[0m\u001b[0mTensor\u001b[0m\u001b[0;34m)\u001b[0m \u001b[0;32melse\u001b[0m \u001b[0mself\u001b[0m\u001b[0;34m.\u001b[0m\u001b[0mtyps\u001b[0m\u001b[0;34m[\u001b[0m\u001b[0mi\u001b[0m\u001b[0;34m]\u001b[0m \u001b[0;32mfor\u001b[0m \u001b[0mi\u001b[0m\u001b[0;34m,\u001b[0m\u001b[0mtl\u001b[0m \u001b[0;32min\u001b[0m \u001b[0menumerate\u001b[0m\u001b[0;34m(\u001b[0m\u001b[0mself\u001b[0m\u001b[0;34m.\u001b[0m\u001b[0mtls\u001b[0m\u001b[0;34m)\u001b[0m\u001b[0;34m]\u001b[0m\u001b[0;34m\u001b[0m\u001b[0;34m\u001b[0m\u001b[0m\n",
      "\u001b[0;32m~/anaconda3/envs/time/lib/python3.8/site-packages/fastcore/foundation.py\u001b[0m in \u001b[0;36m__call__\u001b[0;34m(cls, x, *args, **kwargs)\u001b[0m\n\u001b[1;32m     95\u001b[0m     \u001b[0;32mdef\u001b[0m \u001b[0m__call__\u001b[0m\u001b[0;34m(\u001b[0m\u001b[0mcls\u001b[0m\u001b[0;34m,\u001b[0m \u001b[0mx\u001b[0m\u001b[0;34m=\u001b[0m\u001b[0;32mNone\u001b[0m\u001b[0;34m,\u001b[0m \u001b[0;34m*\u001b[0m\u001b[0margs\u001b[0m\u001b[0;34m,\u001b[0m \u001b[0;34m**\u001b[0m\u001b[0mkwargs\u001b[0m\u001b[0;34m)\u001b[0m\u001b[0;34m:\u001b[0m\u001b[0;34m\u001b[0m\u001b[0;34m\u001b[0m\u001b[0m\n\u001b[1;32m     96\u001b[0m         \u001b[0;32mif\u001b[0m \u001b[0;32mnot\u001b[0m \u001b[0margs\u001b[0m \u001b[0;32mand\u001b[0m \u001b[0;32mnot\u001b[0m \u001b[0mkwargs\u001b[0m \u001b[0;32mand\u001b[0m \u001b[0mx\u001b[0m \u001b[0;32mis\u001b[0m \u001b[0;32mnot\u001b[0m \u001b[0;32mNone\u001b[0m \u001b[0;32mand\u001b[0m \u001b[0misinstance\u001b[0m\u001b[0;34m(\u001b[0m\u001b[0mx\u001b[0m\u001b[0;34m,\u001b[0m\u001b[0mcls\u001b[0m\u001b[0;34m)\u001b[0m\u001b[0;34m:\u001b[0m \u001b[0;32mreturn\u001b[0m \u001b[0mx\u001b[0m\u001b[0;34m\u001b[0m\u001b[0;34m\u001b[0m\u001b[0m\n\u001b[0;32m---> 97\u001b[0;31m         \u001b[0;32mreturn\u001b[0m \u001b[0msuper\u001b[0m\u001b[0;34m(\u001b[0m\u001b[0;34m)\u001b[0m\u001b[0;34m.\u001b[0m\u001b[0m__call__\u001b[0m\u001b[0;34m(\u001b[0m\u001b[0mx\u001b[0m\u001b[0;34m,\u001b[0m \u001b[0;34m*\u001b[0m\u001b[0margs\u001b[0m\u001b[0;34m,\u001b[0m \u001b[0;34m**\u001b[0m\u001b[0mkwargs\u001b[0m\u001b[0;34m)\u001b[0m\u001b[0;34m\u001b[0m\u001b[0;34m\u001b[0m\u001b[0m\n\u001b[0m\u001b[1;32m     98\u001b[0m \u001b[0;34m\u001b[0m\u001b[0m\n\u001b[1;32m     99\u001b[0m \u001b[0;31m# Cell\u001b[0m\u001b[0;34m\u001b[0m\u001b[0;34m\u001b[0m\u001b[0;34m\u001b[0m\u001b[0m\n",
      "\u001b[0;32m~/anaconda3/envs/time/lib/python3.8/site-packages/fastai/data/core.py\u001b[0m in \u001b[0;36m__init__\u001b[0;34m(self, items, tfms, use_list, do_setup, split_idx, train_setup, splits, types, verbose, dl_type)\u001b[0m\n\u001b[1;32m    245\u001b[0m         \u001b[0msuper\u001b[0m\u001b[0;34m(\u001b[0m\u001b[0;34m)\u001b[0m\u001b[0;34m.\u001b[0m\u001b[0m__init__\u001b[0m\u001b[0;34m(\u001b[0m\u001b[0mitems\u001b[0m\u001b[0;34m,\u001b[0m \u001b[0muse_list\u001b[0m\u001b[0;34m=\u001b[0m\u001b[0muse_list\u001b[0m\u001b[0;34m)\u001b[0m\u001b[0;34m\u001b[0m\u001b[0;34m\u001b[0m\u001b[0m\n\u001b[1;32m    246\u001b[0m         \u001b[0;32mif\u001b[0m \u001b[0mdl_type\u001b[0m \u001b[0;32mis\u001b[0m \u001b[0;32mnot\u001b[0m \u001b[0;32mNone\u001b[0m\u001b[0;34m:\u001b[0m \u001b[0mself\u001b[0m\u001b[0;34m.\u001b[0m\u001b[0m_dl_type\u001b[0m \u001b[0;34m=\u001b[0m \u001b[0mdl_type\u001b[0m\u001b[0;34m\u001b[0m\u001b[0;34m\u001b[0m\u001b[0m\n\u001b[0;32m--> 247\u001b[0;31m         \u001b[0mself\u001b[0m\u001b[0;34m.\u001b[0m\u001b[0msplits\u001b[0m \u001b[0;34m=\u001b[0m \u001b[0mL\u001b[0m\u001b[0;34m(\u001b[0m\u001b[0;34m[\u001b[0m\u001b[0mslice\u001b[0m\u001b[0;34m(\u001b[0m\u001b[0;32mNone\u001b[0m\u001b[0;34m)\u001b[0m\u001b[0;34m,\u001b[0m\u001b[0;34m[\u001b[0m\u001b[0;34m]\u001b[0m\u001b[0;34m]\u001b[0m \u001b[0;32mif\u001b[0m \u001b[0msplits\u001b[0m \u001b[0;32mis\u001b[0m \u001b[0;32mNone\u001b[0m \u001b[0;32melse\u001b[0m \u001b[0msplits\u001b[0m\u001b[0;34m)\u001b[0m\u001b[0;34m.\u001b[0m\u001b[0mmap\u001b[0m\u001b[0;34m(\u001b[0m\u001b[0mmask2idxs\u001b[0m\u001b[0;34m)\u001b[0m\u001b[0;34m\u001b[0m\u001b[0;34m\u001b[0m\u001b[0m\n\u001b[0m\u001b[1;32m    248\u001b[0m         \u001b[0;32mif\u001b[0m \u001b[0misinstance\u001b[0m\u001b[0;34m(\u001b[0m\u001b[0mtfms\u001b[0m\u001b[0;34m,\u001b[0m\u001b[0mTfmdLists\u001b[0m\u001b[0;34m)\u001b[0m\u001b[0;34m:\u001b[0m \u001b[0mtfms\u001b[0m \u001b[0;34m=\u001b[0m \u001b[0mtfms\u001b[0m\u001b[0;34m.\u001b[0m\u001b[0mtfms\u001b[0m\u001b[0;34m\u001b[0m\u001b[0;34m\u001b[0m\u001b[0m\n\u001b[1;32m    249\u001b[0m         \u001b[0;32mif\u001b[0m \u001b[0misinstance\u001b[0m\u001b[0;34m(\u001b[0m\u001b[0mtfms\u001b[0m\u001b[0;34m,\u001b[0m\u001b[0mPipeline\u001b[0m\u001b[0;34m)\u001b[0m\u001b[0;34m:\u001b[0m \u001b[0mdo_setup\u001b[0m\u001b[0;34m=\u001b[0m\u001b[0;32mFalse\u001b[0m\u001b[0;34m\u001b[0m\u001b[0;34m\u001b[0m\u001b[0m\n",
      "\u001b[0;32m~/anaconda3/envs/time/lib/python3.8/site-packages/fastcore/foundation.py\u001b[0m in \u001b[0;36mmap\u001b[0;34m(self, f, gen, *args, **kwargs)\u001b[0m\n\u001b[1;32m    153\u001b[0m     \u001b[0;32mdef\u001b[0m \u001b[0mrange\u001b[0m\u001b[0;34m(\u001b[0m\u001b[0mcls\u001b[0m\u001b[0;34m,\u001b[0m \u001b[0ma\u001b[0m\u001b[0;34m,\u001b[0m \u001b[0mb\u001b[0m\u001b[0;34m=\u001b[0m\u001b[0;32mNone\u001b[0m\u001b[0;34m,\u001b[0m \u001b[0mstep\u001b[0m\u001b[0;34m=\u001b[0m\u001b[0;32mNone\u001b[0m\u001b[0;34m)\u001b[0m\u001b[0;34m:\u001b[0m \u001b[0;32mreturn\u001b[0m \u001b[0mcls\u001b[0m\u001b[0;34m(\u001b[0m\u001b[0mrange_of\u001b[0m\u001b[0;34m(\u001b[0m\u001b[0ma\u001b[0m\u001b[0;34m,\u001b[0m \u001b[0mb\u001b[0m\u001b[0;34m=\u001b[0m\u001b[0mb\u001b[0m\u001b[0;34m,\u001b[0m \u001b[0mstep\u001b[0m\u001b[0;34m=\u001b[0m\u001b[0mstep\u001b[0m\u001b[0;34m)\u001b[0m\u001b[0;34m)\u001b[0m\u001b[0;34m\u001b[0m\u001b[0;34m\u001b[0m\u001b[0m\n\u001b[1;32m    154\u001b[0m \u001b[0;34m\u001b[0m\u001b[0m\n\u001b[0;32m--> 155\u001b[0;31m     \u001b[0;32mdef\u001b[0m \u001b[0mmap\u001b[0m\u001b[0;34m(\u001b[0m\u001b[0mself\u001b[0m\u001b[0;34m,\u001b[0m \u001b[0mf\u001b[0m\u001b[0;34m,\u001b[0m \u001b[0;34m*\u001b[0m\u001b[0margs\u001b[0m\u001b[0;34m,\u001b[0m \u001b[0mgen\u001b[0m\u001b[0;34m=\u001b[0m\u001b[0;32mFalse\u001b[0m\u001b[0;34m,\u001b[0m \u001b[0;34m**\u001b[0m\u001b[0mkwargs\u001b[0m\u001b[0;34m)\u001b[0m\u001b[0;34m:\u001b[0m \u001b[0;32mreturn\u001b[0m \u001b[0mself\u001b[0m\u001b[0;34m.\u001b[0m\u001b[0m_new\u001b[0m\u001b[0;34m(\u001b[0m\u001b[0mmap_ex\u001b[0m\u001b[0;34m(\u001b[0m\u001b[0mself\u001b[0m\u001b[0;34m,\u001b[0m \u001b[0mf\u001b[0m\u001b[0;34m,\u001b[0m \u001b[0;34m*\u001b[0m\u001b[0margs\u001b[0m\u001b[0;34m,\u001b[0m \u001b[0mgen\u001b[0m\u001b[0;34m=\u001b[0m\u001b[0mgen\u001b[0m\u001b[0;34m,\u001b[0m \u001b[0;34m**\u001b[0m\u001b[0mkwargs\u001b[0m\u001b[0;34m)\u001b[0m\u001b[0;34m)\u001b[0m\u001b[0;34m\u001b[0m\u001b[0;34m\u001b[0m\u001b[0m\n\u001b[0m\u001b[1;32m    156\u001b[0m     \u001b[0;32mdef\u001b[0m \u001b[0margwhere\u001b[0m\u001b[0;34m(\u001b[0m\u001b[0mself\u001b[0m\u001b[0;34m,\u001b[0m \u001b[0mf\u001b[0m\u001b[0;34m,\u001b[0m \u001b[0mnegate\u001b[0m\u001b[0;34m=\u001b[0m\u001b[0;32mFalse\u001b[0m\u001b[0;34m,\u001b[0m \u001b[0;34m**\u001b[0m\u001b[0mkwargs\u001b[0m\u001b[0;34m)\u001b[0m\u001b[0;34m:\u001b[0m \u001b[0;32mreturn\u001b[0m \u001b[0mself\u001b[0m\u001b[0;34m.\u001b[0m\u001b[0m_new\u001b[0m\u001b[0;34m(\u001b[0m\u001b[0margwhere\u001b[0m\u001b[0;34m(\u001b[0m\u001b[0mself\u001b[0m\u001b[0;34m,\u001b[0m \u001b[0mf\u001b[0m\u001b[0;34m,\u001b[0m \u001b[0mnegate\u001b[0m\u001b[0;34m,\u001b[0m \u001b[0;34m**\u001b[0m\u001b[0mkwargs\u001b[0m\u001b[0;34m)\u001b[0m\u001b[0;34m)\u001b[0m\u001b[0;34m\u001b[0m\u001b[0;34m\u001b[0m\u001b[0m\n\u001b[1;32m    157\u001b[0m     \u001b[0;32mdef\u001b[0m \u001b[0margfirst\u001b[0m\u001b[0;34m(\u001b[0m\u001b[0mself\u001b[0m\u001b[0;34m,\u001b[0m \u001b[0mf\u001b[0m\u001b[0;34m,\u001b[0m \u001b[0mnegate\u001b[0m\u001b[0;34m=\u001b[0m\u001b[0;32mFalse\u001b[0m\u001b[0;34m)\u001b[0m\u001b[0;34m:\u001b[0m \u001b[0;32mreturn\u001b[0m \u001b[0mfirst\u001b[0m\u001b[0;34m(\u001b[0m\u001b[0mi\u001b[0m \u001b[0;32mfor\u001b[0m \u001b[0mi\u001b[0m\u001b[0;34m,\u001b[0m\u001b[0mo\u001b[0m \u001b[0;32min\u001b[0m \u001b[0mself\u001b[0m\u001b[0;34m.\u001b[0m\u001b[0menumerate\u001b[0m\u001b[0;34m(\u001b[0m\u001b[0;34m)\u001b[0m \u001b[0;32mif\u001b[0m \u001b[0mf\u001b[0m\u001b[0;34m(\u001b[0m\u001b[0mo\u001b[0m\u001b[0;34m)\u001b[0m\u001b[0;34m)\u001b[0m\u001b[0;34m\u001b[0m\u001b[0;34m\u001b[0m\u001b[0m\n",
      "\u001b[0;32m~/anaconda3/envs/time/lib/python3.8/site-packages/fastcore/basics.py\u001b[0m in \u001b[0;36mmap_ex\u001b[0;34m(iterable, f, gen, *args, **kwargs)\u001b[0m\n\u001b[1;32m    696\u001b[0m     \u001b[0mres\u001b[0m \u001b[0;34m=\u001b[0m \u001b[0mmap\u001b[0m\u001b[0;34m(\u001b[0m\u001b[0mg\u001b[0m\u001b[0;34m,\u001b[0m \u001b[0miterable\u001b[0m\u001b[0;34m)\u001b[0m\u001b[0;34m\u001b[0m\u001b[0;34m\u001b[0m\u001b[0m\n\u001b[1;32m    697\u001b[0m     \u001b[0;32mif\u001b[0m \u001b[0mgen\u001b[0m\u001b[0;34m:\u001b[0m \u001b[0;32mreturn\u001b[0m \u001b[0mres\u001b[0m\u001b[0;34m\u001b[0m\u001b[0;34m\u001b[0m\u001b[0m\n\u001b[0;32m--> 698\u001b[0;31m     \u001b[0;32mreturn\u001b[0m \u001b[0mlist\u001b[0m\u001b[0;34m(\u001b[0m\u001b[0mres\u001b[0m\u001b[0;34m)\u001b[0m\u001b[0;34m\u001b[0m\u001b[0;34m\u001b[0m\u001b[0m\n\u001b[0m\u001b[1;32m    699\u001b[0m \u001b[0;34m\u001b[0m\u001b[0m\n\u001b[1;32m    700\u001b[0m \u001b[0;31m# Cell\u001b[0m\u001b[0;34m\u001b[0m\u001b[0;34m\u001b[0m\u001b[0;34m\u001b[0m\u001b[0m\n",
      "\u001b[0;32m~/anaconda3/envs/time/lib/python3.8/site-packages/fastcore/basics.py\u001b[0m in \u001b[0;36m__call__\u001b[0;34m(self, *args, **kwargs)\u001b[0m\n\u001b[1;32m    681\u001b[0m             \u001b[0;32mif\u001b[0m \u001b[0misinstance\u001b[0m\u001b[0;34m(\u001b[0m\u001b[0mv\u001b[0m\u001b[0;34m,\u001b[0m\u001b[0m_Arg\u001b[0m\u001b[0;34m)\u001b[0m\u001b[0;34m:\u001b[0m \u001b[0mkwargs\u001b[0m\u001b[0;34m[\u001b[0m\u001b[0mk\u001b[0m\u001b[0;34m]\u001b[0m \u001b[0;34m=\u001b[0m \u001b[0margs\u001b[0m\u001b[0;34m.\u001b[0m\u001b[0mpop\u001b[0m\u001b[0;34m(\u001b[0m\u001b[0mv\u001b[0m\u001b[0;34m.\u001b[0m\u001b[0mi\u001b[0m\u001b[0;34m)\u001b[0m\u001b[0;34m\u001b[0m\u001b[0;34m\u001b[0m\u001b[0m\n\u001b[1;32m    682\u001b[0m         \u001b[0mfargs\u001b[0m \u001b[0;34m=\u001b[0m \u001b[0;34m[\u001b[0m\u001b[0margs\u001b[0m\u001b[0;34m[\u001b[0m\u001b[0mx\u001b[0m\u001b[0;34m.\u001b[0m\u001b[0mi\u001b[0m\u001b[0;34m]\u001b[0m \u001b[0;32mif\u001b[0m \u001b[0misinstance\u001b[0m\u001b[0;34m(\u001b[0m\u001b[0mx\u001b[0m\u001b[0;34m,\u001b[0m \u001b[0m_Arg\u001b[0m\u001b[0;34m)\u001b[0m \u001b[0;32melse\u001b[0m \u001b[0mx\u001b[0m \u001b[0;32mfor\u001b[0m \u001b[0mx\u001b[0m \u001b[0;32min\u001b[0m \u001b[0mself\u001b[0m\u001b[0;34m.\u001b[0m\u001b[0mpargs\u001b[0m\u001b[0;34m]\u001b[0m \u001b[0;34m+\u001b[0m \u001b[0margs\u001b[0m\u001b[0;34m[\u001b[0m\u001b[0mself\u001b[0m\u001b[0;34m.\u001b[0m\u001b[0mmaxi\u001b[0m\u001b[0;34m+\u001b[0m\u001b[0;36m1\u001b[0m\u001b[0;34m:\u001b[0m\u001b[0;34m]\u001b[0m\u001b[0;34m\u001b[0m\u001b[0;34m\u001b[0m\u001b[0m\n\u001b[0;32m--> 683\u001b[0;31m         \u001b[0;32mreturn\u001b[0m \u001b[0mself\u001b[0m\u001b[0;34m.\u001b[0m\u001b[0mfunc\u001b[0m\u001b[0;34m(\u001b[0m\u001b[0;34m*\u001b[0m\u001b[0mfargs\u001b[0m\u001b[0;34m,\u001b[0m \u001b[0;34m**\u001b[0m\u001b[0mkwargs\u001b[0m\u001b[0;34m)\u001b[0m\u001b[0;34m\u001b[0m\u001b[0;34m\u001b[0m\u001b[0m\n\u001b[0m\u001b[1;32m    684\u001b[0m \u001b[0;34m\u001b[0m\u001b[0m\n\u001b[1;32m    685\u001b[0m \u001b[0;31m# Cell\u001b[0m\u001b[0;34m\u001b[0m\u001b[0;34m\u001b[0m\u001b[0;34m\u001b[0m\u001b[0m\n",
      "\u001b[0;32m~/anaconda3/envs/time/lib/python3.8/site-packages/fastcore/foundation.py\u001b[0m in \u001b[0;36mmask2idxs\u001b[0;34m(mask)\u001b[0m\n\u001b[1;32m     60\u001b[0m     \u001b[0;32mif\u001b[0m \u001b[0mlen\u001b[0m\u001b[0;34m(\u001b[0m\u001b[0mmask\u001b[0m\u001b[0;34m)\u001b[0m\u001b[0;34m==\u001b[0m\u001b[0;36m0\u001b[0m\u001b[0;34m:\u001b[0m \u001b[0;32mreturn\u001b[0m \u001b[0;34m[\u001b[0m\u001b[0;34m]\u001b[0m\u001b[0;34m\u001b[0m\u001b[0;34m\u001b[0m\u001b[0m\n\u001b[1;32m     61\u001b[0m     \u001b[0mit\u001b[0m \u001b[0;34m=\u001b[0m \u001b[0mmask\u001b[0m\u001b[0;34m[\u001b[0m\u001b[0;36m0\u001b[0m\u001b[0;34m]\u001b[0m\u001b[0;34m\u001b[0m\u001b[0;34m\u001b[0m\u001b[0m\n\u001b[0;32m---> 62\u001b[0;31m     \u001b[0;32mif\u001b[0m \u001b[0mhasattr\u001b[0m\u001b[0;34m(\u001b[0m\u001b[0mit\u001b[0m\u001b[0;34m,\u001b[0m\u001b[0;34m'item'\u001b[0m\u001b[0;34m)\u001b[0m\u001b[0;34m:\u001b[0m \u001b[0mit\u001b[0m \u001b[0;34m=\u001b[0m \u001b[0mit\u001b[0m\u001b[0;34m.\u001b[0m\u001b[0mitem\u001b[0m\u001b[0;34m(\u001b[0m\u001b[0;34m)\u001b[0m\u001b[0;34m\u001b[0m\u001b[0;34m\u001b[0m\u001b[0m\n\u001b[0m\u001b[1;32m     63\u001b[0m     \u001b[0;32mif\u001b[0m \u001b[0mis_bool\u001b[0m\u001b[0;34m(\u001b[0m\u001b[0mit\u001b[0m\u001b[0;34m)\u001b[0m\u001b[0;34m:\u001b[0m \u001b[0;32mreturn\u001b[0m \u001b[0;34m[\u001b[0m\u001b[0mi\u001b[0m \u001b[0;32mfor\u001b[0m \u001b[0mi\u001b[0m\u001b[0;34m,\u001b[0m\u001b[0mm\u001b[0m \u001b[0;32min\u001b[0m \u001b[0menumerate\u001b[0m\u001b[0;34m(\u001b[0m\u001b[0mmask\u001b[0m\u001b[0;34m)\u001b[0m \u001b[0;32mif\u001b[0m \u001b[0mm\u001b[0m\u001b[0;34m]\u001b[0m\u001b[0;34m\u001b[0m\u001b[0;34m\u001b[0m\u001b[0m\n\u001b[1;32m     64\u001b[0m     \u001b[0;32mreturn\u001b[0m \u001b[0;34m[\u001b[0m\u001b[0mint\u001b[0m\u001b[0;34m(\u001b[0m\u001b[0mi\u001b[0m\u001b[0;34m)\u001b[0m \u001b[0;32mfor\u001b[0m \u001b[0mi\u001b[0m \u001b[0;32min\u001b[0m \u001b[0mmask\u001b[0m\u001b[0;34m]\u001b[0m\u001b[0;34m\u001b[0m\u001b[0;34m\u001b[0m\u001b[0m\n",
      "\u001b[0;32m~/anaconda3/envs/time/lib/python3.8/site-packages/pandas/core/base.py\u001b[0m in \u001b[0;36mitem\u001b[0;34m(self)\u001b[0m\n\u001b[1;32m    418\u001b[0m         \u001b[0;32mif\u001b[0m \u001b[0mlen\u001b[0m\u001b[0;34m(\u001b[0m\u001b[0mself\u001b[0m\u001b[0;34m)\u001b[0m \u001b[0;34m==\u001b[0m \u001b[0;36m1\u001b[0m\u001b[0;34m:\u001b[0m\u001b[0;34m\u001b[0m\u001b[0;34m\u001b[0m\u001b[0m\n\u001b[1;32m    419\u001b[0m             \u001b[0;32mreturn\u001b[0m \u001b[0mnext\u001b[0m\u001b[0;34m(\u001b[0m\u001b[0miter\u001b[0m\u001b[0;34m(\u001b[0m\u001b[0mself\u001b[0m\u001b[0;34m)\u001b[0m\u001b[0;34m)\u001b[0m\u001b[0;34m\u001b[0m\u001b[0;34m\u001b[0m\u001b[0m\n\u001b[0;32m--> 420\u001b[0;31m         \u001b[0;32mraise\u001b[0m \u001b[0mValueError\u001b[0m\u001b[0;34m(\u001b[0m\u001b[0;34m\"can only convert an array of size 1 to a Python scalar\"\u001b[0m\u001b[0;34m)\u001b[0m\u001b[0;34m\u001b[0m\u001b[0;34m\u001b[0m\u001b[0m\n\u001b[0m\u001b[1;32m    421\u001b[0m \u001b[0;34m\u001b[0m\u001b[0m\n\u001b[1;32m    422\u001b[0m     \u001b[0;34m@\u001b[0m\u001b[0mproperty\u001b[0m\u001b[0;34m\u001b[0m\u001b[0;34m\u001b[0m\u001b[0m\n",
      "\u001b[0;31mValueError\u001b[0m: can only convert an array of size 1 to a Python scalar"
     ]
    }
   ],
   "source": [
    "quick_tv, quick_test = tsai_trainer(arch='TCN', countries=['Sweden', 'Finland'], stores=['KaggleRama'], products=['Kaggle Mug'])"
   ]
  },
  {
   "cell_type": "code",
   "execution_count": 207,
   "id": "6909df37-1c0a-458b-ab71-3f7e79343ed5",
   "metadata": {},
   "outputs": [
    {
     "data": {
      "text/plain": [
       "((#19728) [0,1,2,3,4,5,6,7,8,9...],\n",
       " (#6570) [19728,19729,19730,19731,19732,19733,19734,19735,19736,19737...])"
      ]
     },
     "execution_count": 207,
     "metadata": {},
     "output_type": "execute_result"
    }
   ],
   "source": [
    "splits = L(x for x in range(19728)), L(x for x in range(19728, 26298)) \n",
    "splits\n",
    "# splits = L(combo_train_idx), L(combo_val_idx)"
   ]
  },
  {
   "cell_type": "code",
   "execution_count": 210,
   "id": "a4eff931-15c9-4831-bfd0-b80054ea4127",
   "metadata": {},
   "outputs": [],
   "source": [
    "combo_train_idx = np.array([1,3,5])\n",
    "combo_val_idx = np.array([0,2,4])\n",
    "splits = L(list(combo_train_idx)), L(list(combo_val_idx))"
   ]
  },
  {
   "cell_type": "code",
   "execution_count": 211,
   "id": "2dbccb2a-49bc-49c5-b3dd-53020f4d0fc8",
   "metadata": {},
   "outputs": [
    {
     "data": {
      "text/plain": [
       "((#3) [1,3,5], (#3) [0,2,4])"
      ]
     },
     "execution_count": 211,
     "metadata": {},
     "output_type": "execute_result"
    }
   ],
   "source": [
    "splits"
   ]
  },
  {
   "cell_type": "code",
   "execution_count": 134,
   "id": "70fcf88d-c346-4bd6-95a6-2eb424072bda",
   "metadata": {},
   "outputs": [
    {
     "data": {
      "text/plain": [
       "0       2015-01-01\n",
       "1       2015-01-01\n",
       "2       2015-01-01\n",
       "3       2015-01-01\n",
       "4       2015-01-01\n",
       "           ...    \n",
       "26293   2018-12-31\n",
       "26294   2018-12-31\n",
       "26295   2018-12-31\n",
       "26296   2018-12-31\n",
       "26297   2018-12-31\n",
       "Name: date, Length: 26298, dtype: datetime64[ns]"
      ]
     },
     "execution_count": 134,
     "metadata": {},
     "output_type": "execute_result"
    }
   ],
   "source": [
    "tv_df['date']"
   ]
  },
  {
   "cell_type": "code",
   "execution_count": 135,
   "id": "50b7b5ec-d2e1-4043-a327-6dfcdd6f96b8",
   "metadata": {},
   "outputs": [],
   "source": [
    "int_dates = tv_df['date'].map(dt.datetime.toordinal)"
   ]
  },
  {
   "cell_type": "code",
   "execution_count": 138,
   "id": "b27b2728-ddbd-4558-b037-d12556679704",
   "metadata": {},
   "outputs": [
    {
     "data": {
      "text/plain": [
       "6570"
      ]
     },
     "execution_count": 138,
     "metadata": {},
     "output_type": "execute_result"
    }
   ],
   "source": [
    "len(int_dates[int_dates >= 736695])"
   ]
  },
  {
   "cell_type": "code",
   "execution_count": 137,
   "id": "3eb4664c-d086-4c39-9144-5f4f9a35aef3",
   "metadata": {},
   "outputs": [
    {
     "data": {
      "text/plain": [
       "19726    736694\n",
       "19727    736694\n",
       "19728    736695\n",
       "19729    736695\n",
       "19730    736695\n",
       "19731    736695\n",
       "19732    736695\n",
       "19733    736695\n",
       "19734    736695\n",
       "19735    736695\n",
       "19736    736695\n",
       "19737    736695\n",
       "19738    736695\n",
       "19739    736695\n",
       "19740    736695\n",
       "19741    736695\n",
       "19742    736695\n",
       "19743    736695\n",
       "19744    736695\n",
       "19745    736695\n",
       "19746    736696\n",
       "19747    736696\n",
       "19748    736696\n",
       "19749    736696\n",
       "19750    736696\n",
       "19751    736696\n",
       "19752    736696\n",
       "19753    736696\n",
       "19754    736696\n",
       "19755    736696\n",
       "Name: date, dtype: int64"
      ]
     },
     "execution_count": 137,
     "metadata": {},
     "output_type": "execute_result"
    }
   ],
   "source": [
    "int_dates[19726:19756]"
   ]
  },
  {
   "cell_type": "code",
   "execution_count": 131,
   "id": "7b557ad4-886b-425c-bdcf-de2a14e350c0",
   "metadata": {},
   "outputs": [],
   "source": [
    "test_dates = np.array(['2017-12-30', '2017-12-31', '2018-01-01', '2018-01-02', '2018-04-19'])"
   ]
  },
  {
   "cell_type": "code",
   "execution_count": 132,
   "id": "9a1ad75b-d5c5-4503-ace0-8f9975f0f855",
   "metadata": {},
   "outputs": [
    {
     "data": {
      "text/plain": [
       "array(['2017-12-30', '2017-12-31', '2018-01-01', '2018-01-02',\n",
       "       '2018-04-19'], dtype='<U10')"
      ]
     },
     "execution_count": 132,
     "metadata": {},
     "output_type": "execute_result"
    }
   ],
   "source": [
    "test_dates"
   ]
  },
  {
   "cell_type": "code",
   "execution_count": 192,
   "id": "344f5eb3-c500-4368-ad19-e35564dbb892",
   "metadata": {},
   "outputs": [],
   "source": [
    "first_and_third = L(test_dates[test_dates == '2018-01-01'])"
   ]
  },
  {
   "cell_type": "code",
   "execution_count": 193,
   "id": "4b5bd051-9c5b-4ec4-8ecf-8c06d3856729",
   "metadata": {},
   "outputs": [
    {
     "data": {
      "text/plain": [
       "(#1) [array(['2018-01-01'], dtype='<U10')]"
      ]
     },
     "execution_count": 193,
     "metadata": {},
     "output_type": "execute_result"
    }
   ],
   "source": [
    "Ltest"
   ]
  },
  {
   "cell_type": "code",
   "execution_count": 133,
   "id": "aa662af8-0ab8-4954-9a68-48fcd791c8d1",
   "metadata": {},
   "outputs": [
    {
     "ename": "AttributeError",
     "evalue": "'numpy.ndarray' object has no attribute 'map'",
     "output_type": "error",
     "traceback": [
      "\u001b[0;31m---------------------------------------------------------------------------\u001b[0m",
      "\u001b[0;31mAttributeError\u001b[0m                            Traceback (most recent call last)",
      "\u001b[0;32m<ipython-input-133-7744e01a4db1>\u001b[0m in \u001b[0;36m<module>\u001b[0;34m\u001b[0m\n\u001b[0;32m----> 1\u001b[0;31m \u001b[0mint_dates\u001b[0m \u001b[0;34m=\u001b[0m \u001b[0mtest_dates\u001b[0m\u001b[0;34m.\u001b[0m\u001b[0mmap\u001b[0m\u001b[0;34m(\u001b[0m\u001b[0mdatetime\u001b[0m\u001b[0;34m.\u001b[0m\u001b[0mdt\u001b[0m\u001b[0;34m.\u001b[0m\u001b[0mtoordinal\u001b[0m\u001b[0;34m)\u001b[0m\u001b[0;34m\u001b[0m\u001b[0;34m\u001b[0m\u001b[0m\n\u001b[0m",
      "\u001b[0;31mAttributeError\u001b[0m: 'numpy.ndarray' object has no attribute 'map'"
     ]
    }
   ],
   "source": [
    "int_dates = test_dates.map(datetime.dt.toordinal)"
   ]
  },
  {
   "cell_type": "code",
   "execution_count": 126,
   "id": "af30c21a-f79a-4ea6-bae2-929ee6a2da38",
   "metadata": {},
   "outputs": [
    {
     "data": {
      "text/plain": [
       "'<function Module.type at 0x7f2ed07d25e0>'"
      ]
     },
     "execution_count": 126,
     "metadata": {},
     "output_type": "execute_result"
    }
   ],
   "source": [
    "str(TCN.type)"
   ]
  },
  {
   "cell_type": "markdown",
   "id": "d33dc0fb-c850-457f-968e-0ecd605cfda1",
   "metadata": {},
   "source": [
    "## Experiments"
   ]
  },
  {
   "cell_type": "code",
   "execution_count": 65,
   "id": "3efebcd1-c71b-4f4c-9d19-8e025903cef3",
   "metadata": {},
   "outputs": [],
   "source": [
    "# tv_np = np.array(tv_df)"
   ]
  },
  {
   "cell_type": "code",
   "execution_count": 66,
   "id": "0ad39960-fe98-4ff7-a53e-8fdfbda6cc87",
   "metadata": {},
   "outputs": [
    {
     "data": {
      "text/plain": [
       "\u001b[0;31mInit signature:\u001b[0m \u001b[0mTSRegression\u001b[0m\u001b[0;34m(\u001b[0m\u001b[0mself\u001b[0m\u001b[0;34m,\u001b[0m \u001b[0menc\u001b[0m\u001b[0;34m=\u001b[0m\u001b[0;32mNone\u001b[0m\u001b[0;34m,\u001b[0m \u001b[0mdec\u001b[0m\u001b[0;34m=\u001b[0m\u001b[0;32mNone\u001b[0m\u001b[0;34m,\u001b[0m \u001b[0msplit_idx\u001b[0m\u001b[0;34m=\u001b[0m\u001b[0;32mNone\u001b[0m\u001b[0;34m,\u001b[0m \u001b[0morder\u001b[0m\u001b[0;34m=\u001b[0m\u001b[0;32mNone\u001b[0m\u001b[0;34m)\u001b[0m\u001b[0;34m\u001b[0m\u001b[0;34m\u001b[0m\u001b[0m\n",
       "\u001b[0;31mDocstring:\u001b[0m      Transforms an object dtype to float (vectorized)\n",
       "\u001b[0;31mFile:\u001b[0m           ~/anaconda3/envs/time/lib/python3.8/site-packages/tsai/data/core.py\n",
       "\u001b[0;31mType:\u001b[0m           _TfmMeta\n",
       "\u001b[0;31mSubclasses:\u001b[0m     \n"
      ]
     },
     "metadata": {},
     "output_type": "display_data"
    }
   ],
   "source": [
    "?TSRegression"
   ]
  },
  {
   "cell_type": "code",
   "execution_count": 67,
   "id": "8814e34a-87b6-4a5b-9fc8-15c659fb481f",
   "metadata": {},
   "outputs": [],
   "source": [
    "# splits = L(x for x in range(100)), L(x for x in range(37))"
   ]
  },
  {
   "cell_type": "code",
   "execution_count": 68,
   "id": "eb4f3752-260c-4d86-a863-bba8e43a996b",
   "metadata": {},
   "outputs": [],
   "source": [
    "X = tv_df.drop(columns=['target', 'num_sold'])\n",
    "y = tv_df['target']"
   ]
  },
  {
   "cell_type": "code",
   "execution_count": 69,
   "id": "ec740dfe-5477-474c-9fe7-5e5c78cbfff7",
   "metadata": {},
   "outputs": [],
   "source": [
    "le_dict, X_enc = label_encoder(X)"
   ]
  },
  {
   "cell_type": "code",
   "execution_count": 70,
   "id": "3d36b7d0-bfa9-472d-b72b-251fbf0a3f1e",
   "metadata": {},
   "outputs": [],
   "source": [
    "X_enc['date'] = X_enc['date'].map(dt.datetime.toordinal)\n",
    "# X = np.array(X)"
   ]
  },
  {
   "cell_type": "code",
   "execution_count": 71,
   "id": "2fb2d139-1855-4294-8227-cc4b5d466ef2",
   "metadata": {},
   "outputs": [],
   "source": [
    "X_enc = X_enc.astype(np.float32)\n",
    "X_enc_np = np.array(X_enc)\n"
   ]
  },
  {
   "cell_type": "code",
   "execution_count": 72,
   "id": "9de52ffc-4e14-438e-b274-47a60c9521c2",
   "metadata": {},
   "outputs": [],
   "source": [
    "y = np.array(y)"
   ]
  },
  {
   "cell_type": "code",
   "execution_count": 73,
   "id": "a786488a-c9c9-4c71-b970-7c06300a5b2f",
   "metadata": {},
   "outputs": [
    {
     "data": {
      "text/plain": [
       "((26298, 206), (26298,))"
      ]
     },
     "execution_count": 73,
     "metadata": {},
     "output_type": "execute_result"
    }
   ],
   "source": [
    "X.shape, y.shape"
   ]
  },
  {
   "cell_type": "code",
   "execution_count": 83,
   "id": "8873704f-ca62-4927-9033-d467427f87ff",
   "metadata": {},
   "outputs": [
    {
     "data": {
      "text/plain": [
       "(26298, 1, 206)"
      ]
     },
     "execution_count": 83,
     "metadata": {},
     "output_type": "execute_result"
    }
   ],
   "source": [
    "X_3d = to3d(X_enc_np)\n",
    "X_3d.shape"
   ]
  },
  {
   "cell_type": "code",
   "execution_count": 84,
   "id": "986c42e6-73ee-4f64-89dc-239ca3a992f0",
   "metadata": {},
   "outputs": [
    {
     "data": {
      "text/plain": [
       "((#19728) [0,1,2,3,4,5,6,7,8,9...],\n",
       " (#6570) [19728,19729,19730,19731,19732,19733,19734,19735,19736,19737...])"
      ]
     },
     "execution_count": 84,
     "metadata": {},
     "output_type": "execute_result"
    }
   ],
   "source": [
    "# splits = TrainValidTestSplitter(valid_size=0.25, shuffle=False)(y)\n",
    "splits = L(x for x in range(19728)), L(x for x in range(19728, 26298)) # manually setting 2018 to be validation set\n",
    "splits"
   ]
  },
  {
   "cell_type": "code",
   "execution_count": 85,
   "id": "ef8f7fcd-8386-4b49-ad20-0c453a4dcad0",
   "metadata": {},
   "outputs": [],
   "source": [
    "# tv_df_ts = tv_df.drop(columns=['num_sold'])"
   ]
  },
  {
   "cell_type": "code",
   "execution_count": 86,
   "id": "3d88db02-9358-43f3-8c08-bfd9e40da4aa",
   "metadata": {},
   "outputs": [],
   "source": [
    "# tv_df_ts['date'] = tv_df_ts['date'].map(dt.datetime.toordinal)"
   ]
  },
  {
   "cell_type": "code",
   "execution_count": 87,
   "id": "2f78a27b-ac0f-4351-985d-ddcd6133fc7d",
   "metadata": {},
   "outputs": [],
   "source": [
    "# feature_columns = [col for col in tv_df_ts.columns if col not in ['date', 'target']]"
   ]
  },
  {
   "cell_type": "code",
   "execution_count": 88,
   "id": "622a59ab-5df0-4f48-83f2-088072ea6c52",
   "metadata": {},
   "outputs": [],
   "source": [
    "# X, y = df2Xy(\n",
    "#     df=tv_df_ts, \n",
    "#     sample_col=['date'], \n",
    "#     feat_col=feature_columns, \n",
    "#     target_col=['target'],\n",
    "#     data_cols=feature_columns.extend(['date', 'target']),\n",
    "#     steps_in_rows=True, # not the default (which is columns)\n",
    "# #     to3d=False, # default\n",
    "# #     splits=splits,\n",
    "# )"
   ]
  },
  {
   "cell_type": "code",
   "execution_count": 89,
   "id": "4ffa0b39-e573-4b35-a6d6-abb7ffc80359",
   "metadata": {},
   "outputs": [],
   "source": [
    "tfms = [None, [TSRegression()]]"
   ]
  },
  {
   "cell_type": "code",
   "execution_count": 90,
   "id": "dad64ef0-cfd1-4648-9add-53bf6e0429bd",
   "metadata": {},
   "outputs": [],
   "source": [
    "batch_tfms = TSStandardize(by_sample=True, by_var=True)"
   ]
  },
  {
   "cell_type": "code",
   "execution_count": 91,
   "id": "9063d144-255f-43fa-adaf-05d3adea8f07",
   "metadata": {},
   "outputs": [
    {
     "data": {
      "text/plain": [
       "(#26298) [(TSTensor(vars:1, len:206, device=cpu), tensor(3.7382)), (TSTensor(vars:1, len:206, device=cpu), tensor(4.1960)), (TSTensor(vars:1, len:206, device=cpu), tensor(2.9258)), (TSTensor(vars:1, len:206, device=cpu), tensor(4.2913)), (TSTensor(vars:1, len:206, device=cpu), tensor(4.7567)), (TSTensor(vars:1, len:206, device=cpu), tensor(3.5876)), (TSTensor(vars:1, len:206, device=cpu), tensor(4.1020)), (TSTensor(vars:1, len:206, device=cpu), tensor(4.6458)), (TSTensor(vars:1, len:206, device=cpu), tensor(3.3582)), (TSTensor(vars:1, len:206, device=cpu), tensor(4.7495))] ...]"
      ]
     },
     "execution_count": 91,
     "metadata": {},
     "output_type": "execute_result"
    }
   ],
   "source": [
    "dsets = TSDatasets(X_3d, y, tfms=tfms, splits=splits, inplace=True)\n",
    "dsets"
   ]
  },
  {
   "cell_type": "code",
   "execution_count": 117,
   "id": "f831d140-e546-4f75-9f4b-1cccfada7607",
   "metadata": {},
   "outputs": [
    {
     "data": {
      "text/plain": [
       "(#2) [<bound method L.val2idx of TfmdLists: [[[7.36695e+05 0.00000e+00 0.00000e+00 ... 0.00000e+00 0.00000e+00\n",
       "   1.00000e+00]]\n",
       "\n",
       " [[7.36695e+05 0.00000e+00 0.00000e+00 ... 0.00000e+00 0.00000e+00\n",
       "   1.00000e+00]]\n",
       "\n",
       " [[7.36695e+05 0.00000e+00 0.00000e+00 ... 0.00000e+00 0.00000e+00\n",
       "   1.00000e+00]]\n",
       "\n",
       " ...\n",
       "\n",
       " [[7.37059e+05 2.00000e+00 1.00000e+00 ... 0.00000e+00 0.00000e+00\n",
       "   1.00000e+00]]\n",
       "\n",
       " [[7.37059e+05 2.00000e+00 1.00000e+00 ... 0.00000e+00 0.00000e+00\n",
       "   1.00000e+00]]\n",
       "\n",
       " [[7.37059e+05 2.00000e+00 1.00000e+00 ... 0.00000e+00 0.00000e+00\n",
       "   1.00000e+00]]]\n",
       "tfms - []>,<bound method L.val2idx of TSTfmdLists: [3.91084354 4.33828756 3.07744047 ... 4.67665202 5.03799732 3.72591006]\n",
       "tfms - [ToFloat:\n",
       "encodes: (Tensor,object) -> encodes\n",
       "(object,object) -> encodes\n",
       "decodes: (object,object) -> decodes\n",
       "]>]"
      ]
     },
     "execution_count": 117,
     "metadata": {},
     "output_type": "execute_result"
    }
   ],
   "source": []
  },
  {
   "cell_type": "code",
   "execution_count": 92,
   "id": "71108356-1771-4ced-809a-598f467ed6c8",
   "metadata": {},
   "outputs": [
    {
     "data": {
      "text/plain": [
       "(#19728) [(TSTensor(vars:1, len:206, device=cpu), tensor(3.7382)), (TSTensor(vars:1, len:206, device=cpu), tensor(4.1960)), (TSTensor(vars:1, len:206, device=cpu), tensor(2.9258)), (TSTensor(vars:1, len:206, device=cpu), tensor(4.2913)), (TSTensor(vars:1, len:206, device=cpu), tensor(4.7567)), (TSTensor(vars:1, len:206, device=cpu), tensor(3.5876)), (TSTensor(vars:1, len:206, device=cpu), tensor(4.1020)), (TSTensor(vars:1, len:206, device=cpu), tensor(4.6458)), (TSTensor(vars:1, len:206, device=cpu), tensor(3.3582)), (TSTensor(vars:1, len:206, device=cpu), tensor(4.7495))] ...]"
      ]
     },
     "execution_count": 92,
     "metadata": {},
     "output_type": "execute_result"
    }
   ],
   "source": [
    "dsets.train"
   ]
  },
  {
   "cell_type": "code",
   "execution_count": 93,
   "id": "fb256048-df72-434d-ad22-43e1a3ff657f",
   "metadata": {},
   "outputs": [],
   "source": [
    "trainloader = TSDataLoader(\n",
    "    dataset=dsets.train, \n",
    "    bs=128, \n",
    "    shuffle=False, \n",
    "    num_workers=8,\n",
    "    batch_tfms=batch_tfms,\n",
    "    pin_memory=True,\n",
    "    device='cuda',\n",
    ")"
   ]
  },
  {
   "cell_type": "code",
   "execution_count": 95,
   "id": "8b868172-1562-4a1c-bf4b-27e8e8d72614",
   "metadata": {},
   "outputs": [],
   "source": [
    "validloader = TSDataLoader(\n",
    "    dataset=dsets.valid, \n",
    "    bs=128, \n",
    "    shuffle=False, \n",
    "    num_workers=8,\n",
    "    batch_tfms=batch_tfms,\n",
    "    pin_memory=True,\n",
    "    device='cuda',\n",
    ")"
   ]
  },
  {
   "cell_type": "code",
   "execution_count": 96,
   "id": "268b9604-b27a-433f-b11f-9c70e1e9db38",
   "metadata": {},
   "outputs": [],
   "source": [
    "dls = TSDataLoaders(trainloader, validloader, device='cuda')"
   ]
  },
  {
   "cell_type": "code",
   "execution_count": 97,
   "id": "52eeb589-4cff-47eb-98a8-43299127c95e",
   "metadata": {},
   "outputs": [
    {
     "data": {
      "text/plain": [
       "[TSTensor(samples:128, vars:1, len:206, device=cuda:0),\n",
       " tensor([3.7382, 4.1960, 2.9258, 4.2913, 4.7567, 3.5876, 4.1020, 4.6458, 3.3582,\n",
       "         4.7495, 5.1236, 3.8156, 3.8700, 4.2194, 2.9480, 4.3428, 4.8691, 3.5640,\n",
       "         3.7042, 4.1427, 2.7864, 4.2411, 4.6193, 3.4596, 4.1246, 4.5761, 3.3048,\n",
       "         4.6921, 5.1133, 3.8650, 3.7339, 4.1324, 2.8267, 4.2648, 4.6769, 3.4634,\n",
       "         3.8283, 4.2244, 2.8909, 4.3035, 4.6791, 3.5219, 4.2567, 4.6719, 3.3741,\n",
       "         4.7731, 5.2337, 3.9482, 3.8235, 4.2289, 2.9365, 4.3817, 4.8454, 3.5484,\n",
       "         3.7473, 4.2411, 2.7705, 4.3087, 4.7141, 3.4434, 4.2151, 4.6268, 3.3780,\n",
       "         4.7005, 5.1763, 3.9570, 3.7896, 4.3300, 2.9131, 4.2709, 4.7971, 3.4870,\n",
       "         3.4352, 3.8771, 2.5672, 3.9896, 4.4465, 3.1733, 3.9121, 4.3455, 3.0517,\n",
       "         4.4420, 4.8631, 3.5733, 3.4803, 3.8745, 2.6274, 4.0216, 4.4628, 3.2082,\n",
       "         3.3494, 3.9058, 2.5373, 3.9510, 4.3974, 3.0661, 3.8332, 4.3632, 3.0352,\n",
       "         4.3603, 4.8676, 3.5603, 3.3284, 3.8018, 2.4928, 3.9381, 4.5320, 3.1111,\n",
       "         3.3759, 3.7770, 2.4530, 3.8171, 4.2983, 3.0955, 3.7529, 4.0593, 2.8407,\n",
       "         4.3183, 4.7016, 3.4051, 3.3284, 3.8115, 2.5624, 3.8745, 4.3185, 3.1208,\n",
       "         3.2652, 3.8143], device='cuda:0')]"
      ]
     },
     "execution_count": 97,
     "metadata": {},
     "output_type": "execute_result"
    }
   ],
   "source": [
    "dls.one_batch()"
   ]
  },
  {
   "cell_type": "code",
   "execution_count": 104,
   "id": "5ac4a086-bd12-4c02-88a5-84550e071704",
   "metadata": {},
   "outputs": [],
   "source": [
    "learner = ts_learner(dls, TCN, metrics=[mae, rmse], cbs=[ShowGraph(), SaveModel(monitor='valid_loss', with_opt=True)],)"
   ]
  },
  {
   "cell_type": "code",
   "execution_count": 111,
   "id": "91b0d061-b350-4b79-8f0c-3023ccaf8d83",
   "metadata": {},
   "outputs": [
    {
     "data": {
      "text/plain": [
       "\u001b[0;31mSignature:\u001b[0m\n",
       "\u001b[0mlearner\u001b[0m\u001b[0;34m.\u001b[0m\u001b[0mlr_find\u001b[0m\u001b[0;34m(\u001b[0m\u001b[0;34m\u001b[0m\n",
       "\u001b[0;34m\u001b[0m    \u001b[0mstart_lr\u001b[0m\u001b[0;34m=\u001b[0m\u001b[0;36m1e-07\u001b[0m\u001b[0;34m,\u001b[0m\u001b[0;34m\u001b[0m\n",
       "\u001b[0;34m\u001b[0m    \u001b[0mend_lr\u001b[0m\u001b[0;34m=\u001b[0m\u001b[0;36m10\u001b[0m\u001b[0;34m,\u001b[0m\u001b[0;34m\u001b[0m\n",
       "\u001b[0;34m\u001b[0m    \u001b[0mnum_it\u001b[0m\u001b[0;34m=\u001b[0m\u001b[0;36m100\u001b[0m\u001b[0;34m,\u001b[0m\u001b[0;34m\u001b[0m\n",
       "\u001b[0;34m\u001b[0m    \u001b[0mstop_div\u001b[0m\u001b[0;34m=\u001b[0m\u001b[0;32mTrue\u001b[0m\u001b[0;34m,\u001b[0m\u001b[0;34m\u001b[0m\n",
       "\u001b[0;34m\u001b[0m    \u001b[0mshow_plot\u001b[0m\u001b[0;34m=\u001b[0m\u001b[0;32mTrue\u001b[0m\u001b[0;34m,\u001b[0m\u001b[0;34m\u001b[0m\n",
       "\u001b[0;34m\u001b[0m    \u001b[0msuggest_funcs\u001b[0m\u001b[0;34m=\u001b[0m\u001b[0;34m<\u001b[0m\u001b[0mfunction\u001b[0m \u001b[0mvalley\u001b[0m \u001b[0mat\u001b[0m \u001b[0;36m0x7f2db8e3ed30\u001b[0m\u001b[0;34m>\u001b[0m\u001b[0;34m,\u001b[0m\u001b[0;34m\u001b[0m\n",
       "\u001b[0;34m\u001b[0m\u001b[0;34m)\u001b[0m\u001b[0;34m\u001b[0m\u001b[0;34m\u001b[0m\u001b[0m\n",
       "\u001b[0;31mDocstring:\u001b[0m Launch a mock training to find a good learning rate and return suggestions based on `suggest_funcs` as a named tuple\n",
       "\u001b[0;31mFile:\u001b[0m      ~/anaconda3/envs/time/lib/python3.8/site-packages/fastai/callback/schedule.py\n",
       "\u001b[0;31mType:\u001b[0m      method\n"
      ]
     },
     "metadata": {},
     "output_type": "display_data"
    }
   ],
   "source": [
    "?learner.lr_find"
   ]
  },
  {
   "cell_type": "code",
   "execution_count": 122,
   "id": "334d0081-50ba-4fb4-be70-0c2efb784048",
   "metadata": {},
   "outputs": [
    {
     "data": {
      "text/html": [],
      "text/plain": [
       "<IPython.core.display.HTML object>"
      ]
     },
     "metadata": {},
     "output_type": "display_data"
    },
    {
     "data": {
      "image/png": "[encoded data removed]",
      "text/plain": [
       "<Figure size 432x288 with 1 Axes>"
      ]
     },
     "metadata": {
      "needs_background": "light"
     },
     "output_type": "display_data"
    }
   ],
   "source": [
    "lr = learner.lr_find().valley"
   ]
  },
  {
   "cell_type": "code",
   "execution_count": 123,
   "id": "7a159c2c-b2a9-42e4-bd59-c9b4f09cc510",
   "metadata": {},
   "outputs": [
    {
     "data": {
      "text/plain": [
       "3.630780702224001e-05"
      ]
     },
     "execution_count": 123,
     "metadata": {},
     "output_type": "execute_result"
    }
   ],
   "source": [
    "lr"
   ]
  },
  {
   "cell_type": "code",
   "execution_count": 120,
   "id": "6c809c6d-d83a-44e0-8923-00615aea09b2",
   "metadata": {},
   "outputs": [
    {
     "data": {
      "text/plain": [
       "fastai.callback.schedule.SuggestedLRs"
      ]
     },
     "execution_count": 120,
     "metadata": {},
     "output_type": "execute_result"
    }
   ],
   "source": [
    "type(val)"
   ]
  },
  {
   "cell_type": "code",
   "execution_count": 121,
   "id": "84fbdbb3-cd40-4218-a346-a17812821856",
   "metadata": {},
   "outputs": [
    {
     "data": {
      "text/plain": [
       "3.630780702224001e-05"
      ]
     },
     "execution_count": 121,
     "metadata": {},
     "output_type": "execute_result"
    }
   ],
   "source": [
    "val.valley"
   ]
  },
  {
   "cell_type": "code",
   "execution_count": 106,
   "id": "c1aa5fe0-1c29-4161-9a17-dd467cfcf1cf",
   "metadata": {},
   "outputs": [],
   "source": [
    "lr_valley = 0.033113110810518265"
   ]
  },
  {
   "cell_type": "code",
   "execution_count": 108,
   "id": "157736f4-1d4a-4195-9398-2ebc65e4dd6c",
   "metadata": {},
   "outputs": [
    {
     "data": {
      "text/html": [
       "<table border=\"1\" class=\"dataframe\">\n",
       "  <thead>\n",
       "    <tr style=\"text-align: left;\">\n",
       "      <th>epoch</th>\n",
       "      <th>train_loss</th>\n",
       "      <th>valid_loss</th>\n",
       "      <th>mae</th>\n",
       "      <th>_rmse</th>\n",
       "      <th>time</th>\n",
       "    </tr>\n",
       "  </thead>\n",
       "  <tbody>\n",
       "    <tr>\n",
       "      <td>0</td>\n",
       "      <td>1.219497</td>\n",
       "      <td>0.410227</td>\n",
       "      <td>0.529370</td>\n",
       "      <td>0.640490</td>\n",
       "      <td>02:19</td>\n",
       "    </tr>\n",
       "    <tr>\n",
       "      <td>1</td>\n",
       "      <td>0.438830</td>\n",
       "      <td>0.408546</td>\n",
       "      <td>0.528690</td>\n",
       "      <td>0.639176</td>\n",
       "      <td>02:16</td>\n",
       "    </tr>\n",
       "  </tbody>\n",
       "</table>"
      ],
      "text/plain": [
       "<IPython.core.display.HTML object>"
      ]
     },
     "metadata": {},
     "output_type": "display_data"
    },
    {
     "data": {
      "image/png": "[encoded data removed]",
      "text/plain": [
       "<Figure size 432x288 with 1 Axes>"
      ]
     },
     "metadata": {},
     "output_type": "display_data"
    },
    {
     "data": {
      "image/png": "[encoded data removed]",
      "text/plain": [
       "<Figure size 1296x288 with 3 Axes>"
      ]
     },
     "metadata": {
      "needs_background": "light"
     },
     "output_type": "display_data"
    }
   ],
   "source": [
    "learner.fit_one_cycle(2, valley)"
   ]
  },
  {
   "cell_type": "code",
   "execution_count": 118,
   "id": "6f202e00-ca69-4f5e-983b-2a63e8152cc4",
   "metadata": {},
   "outputs": [
    {
     "data": {
      "text/html": [],
      "text/plain": [
       "<IPython.core.display.HTML object>"
      ]
     },
     "metadata": {},
     "output_type": "display_data"
    }
   ],
   "source": [
    "preds = learner.get_X_preds(X_3d[19728:])"
   ]
  },
  {
   "cell_type": "code",
   "execution_count": 127,
   "id": "5f4e3967-57e5-4d8a-80ec-4bc17efac98b",
   "metadata": {},
   "outputs": [
    {
     "data": {
      "text/plain": [
       "tuple"
      ]
     },
     "execution_count": 127,
     "metadata": {},
     "output_type": "execute_result"
    }
   ],
   "source": [
    "type(preds)"
   ]
  },
  {
   "cell_type": "code",
   "execution_count": 129,
   "id": "ee960946-e280-4828-bb50-c790043869b7",
   "metadata": {},
   "outputs": [
    {
     "data": {
      "text/plain": [
       "torch.Tensor"
      ]
     },
     "execution_count": 129,
     "metadata": {},
     "output_type": "execute_result"
    }
   ],
   "source": [
    "type(preds[0])"
   ]
  },
  {
   "cell_type": "code",
   "execution_count": 146,
   "id": "f42fa54a-216f-463d-808b-609f57f0427f",
   "metadata": {},
   "outputs": [
    {
     "data": {
      "text/plain": [
       "torch.Size([6528, 1])"
      ]
     },
     "execution_count": 146,
     "metadata": {},
     "output_type": "execute_result"
    }
   ],
   "source": [
    "preds[0].shape"
   ]
  },
  {
   "cell_type": "code",
   "execution_count": 130,
   "id": "dd3234d9-acb7-43bb-8dfe-e6183d7e2012",
   "metadata": {},
   "outputs": [
    {
     "data": {
      "text/plain": [
       "6528"
      ]
     },
     "execution_count": 130,
     "metadata": {},
     "output_type": "execute_result"
    }
   ],
   "source": [
    "len(preds[0])"
   ]
  },
  {
   "cell_type": "code",
   "execution_count": 152,
   "id": "03cfc5fb-ad20-4455-bcf8-982d3f223910",
   "metadata": {},
   "outputs": [
    {
     "data": {
      "text/plain": [
       "\u001b[0;31mSignature:\u001b[0m\n",
       "\u001b[0mlearner\u001b[0m\u001b[0;34m.\u001b[0m\u001b[0mget_X_preds\u001b[0m\u001b[0;34m(\u001b[0m\u001b[0;34m\u001b[0m\n",
       "\u001b[0;34m\u001b[0m    \u001b[0mX\u001b[0m\u001b[0;34m,\u001b[0m\u001b[0;34m\u001b[0m\n",
       "\u001b[0;34m\u001b[0m    \u001b[0my\u001b[0m\u001b[0;34m=\u001b[0m\u001b[0;32mNone\u001b[0m\u001b[0;34m,\u001b[0m\u001b[0;34m\u001b[0m\n",
       "\u001b[0;34m\u001b[0m    \u001b[0mbs\u001b[0m\u001b[0;34m=\u001b[0m\u001b[0;36m64\u001b[0m\u001b[0;34m,\u001b[0m\u001b[0;34m\u001b[0m\n",
       "\u001b[0;34m\u001b[0m    \u001b[0mwith_input\u001b[0m\u001b[0;34m=\u001b[0m\u001b[0;32mFalse\u001b[0m\u001b[0;34m,\u001b[0m\u001b[0;34m\u001b[0m\n",
       "\u001b[0;34m\u001b[0m    \u001b[0mwith_decoded\u001b[0m\u001b[0;34m=\u001b[0m\u001b[0;32mTrue\u001b[0m\u001b[0;34m,\u001b[0m\u001b[0;34m\u001b[0m\n",
       "\u001b[0;34m\u001b[0m    \u001b[0mwith_loss\u001b[0m\u001b[0;34m=\u001b[0m\u001b[0;32mFalse\u001b[0m\u001b[0;34m,\u001b[0m\u001b[0;34m\u001b[0m\n",
       "\u001b[0;34m\u001b[0m\u001b[0;34m)\u001b[0m\u001b[0;34m\u001b[0m\u001b[0;34m\u001b[0m\u001b[0m\n",
       "\u001b[0;31mDocstring:\u001b[0m <no docstring>\n",
       "\u001b[0;31mFile:\u001b[0m      ~/anaconda3/envs/time/lib/python3.8/site-packages/tsai/inference.py\n",
       "\u001b[0;31mType:\u001b[0m      method\n"
      ]
     },
     "metadata": {},
     "output_type": "display_data"
    }
   ],
   "source": [
    "learner.get_X_preds?"
   ]
  },
  {
   "cell_type": "code",
   "execution_count": 139,
   "id": "1d7e3227-9d58-485f-8400-d259fa2103f2",
   "metadata": {},
   "outputs": [],
   "source": [
    "dummy_ser = pd.Series(0, index=tv_df.index)"
   ]
  },
  {
   "cell_type": "code",
   "execution_count": 140,
   "id": "83e32f79-add8-4b37-8698-6009d6aae76b",
   "metadata": {},
   "outputs": [
    {
     "data": {
      "text/plain": [
       "0        0\n",
       "1        0\n",
       "2        0\n",
       "3        0\n",
       "4        0\n",
       "        ..\n",
       "26293    0\n",
       "26294    0\n",
       "26295    0\n",
       "26296    0\n",
       "26297    0\n",
       "Length: 26298, dtype: int64"
      ]
     },
     "execution_count": 140,
     "metadata": {},
     "output_type": "execute_result"
    }
   ],
   "source": [
    "dummy_ser"
   ]
  },
  {
   "cell_type": "code",
   "execution_count": 153,
   "id": "3fa6c8fb-c15d-4e2f-980d-54692c5a0f21",
   "metadata": {},
   "outputs": [],
   "source": [
    "preds_x, target_x, preds1_x = preds"
   ]
  },
  {
   "cell_type": "code",
   "execution_count": 155,
   "id": "97bc45b8-cda3-4d29-8453-6a706c044101",
   "metadata": {},
   "outputs": [],
   "source": [
    "target_x"
   ]
  },
  {
   "cell_type": "code",
   "execution_count": 156,
   "id": "9831c08b-1afd-4d06-b6a5-9e4ae620db1e",
   "metadata": {
    "collapsed": true,
    "jupyter": {
     "outputs_hidden": true
    },
    "tags": []
   },
   "outputs": [
    {
     "data": {
      "text/plain": [
       "([3.661761999130249],\n",
       " [3.661771535873413],\n",
       " [3.661754846572876],\n",
       " [3.6617562770843506],\n",
       " [3.6617653369903564],\n",
       " [3.6617493629455566],\n",
       " [3.6617531776428223],\n",
       " [3.661761522293091],\n",
       " [3.6617448329925537],\n",
       " [3.6617472171783447],\n",
       " [3.6617555618286133],\n",
       " [3.661738872528076],\n",
       " [3.6617467403411865],\n",
       " [3.6617555618286133],\n",
       " [3.6617379188537598],\n",
       " [3.661740303039551],\n",
       " [3.661750078201294],\n",
       " [3.6617324352264404],\n",
       " [3.661771297454834],\n",
       " [3.661778688430786],\n",
       " [3.6617636680603027],\n",
       " [3.6617650985717773],\n",
       " [3.6617729663848877],\n",
       " [3.661757707595825],\n",
       " [3.6617624759674072],\n",
       " [3.6617696285247803],\n",
       " [3.6617541313171387],\n",
       " [3.6617558002471924],\n",
       " [3.661763906478882],\n",
       " [3.661747932434082],\n",
       " [3.661755084991455],\n",
       " [3.6617629528045654],\n",
       " [3.6617469787597656],\n",
       " [3.6617493629455566],\n",
       " [3.661756992340088],\n",
       " [3.661741018295288],\n",
       " [3.661799669265747],\n",
       " [3.661808967590332],\n",
       " [3.661792039871216],\n",
       " [3.6617939472198486],\n",
       " [3.6618027687072754],\n",
       " [3.6617865562438965],\n",
       " [3.6617908477783203],\n",
       " [3.6618001461029053],\n",
       " [3.661782741546631],\n",
       " [3.6617846488952637],\n",
       " [3.6617934703826904],\n",
       " [3.6617767810821533],\n",
       " [3.661783456802368],\n",
       " [3.661792516708374],\n",
       " [3.6617746353149414],\n",
       " [3.6617774963378906],\n",
       " [3.6617863178253174],\n",
       " [3.661769390106201],\n",
       " [3.661820411682129],\n",
       " [3.661830425262451],\n",
       " [3.6618123054504395],\n",
       " [3.6618146896362305],\n",
       " [3.6618247032165527],\n",
       " [3.66180682182312],\n",
       " [3.661811113357544],\n",
       " [3.661820888519287],\n",
       " [3.6618027687072754],\n",
       " [3.6618051528930664],\n",
       " [3.6618146896362305],\n",
       " [3.6617963314056396],\n",
       " [3.661802053451538],\n",
       " [3.6618120670318604],\n",
       " [3.661794900894165],\n",
       " [3.6617958545684814],\n",
       " [3.661806344985962],\n",
       " [3.661787986755371],\n",
       " [3.6617982387542725],\n",
       " [3.6618053913116455],\n",
       " [3.661790132522583],\n",
       " [3.6617915630340576],\n",
       " [3.6617989540100098],\n",
       " [3.6617841720581055],\n",
       " [3.6617887020111084],\n",
       " [3.6617958545684814],\n",
       " [3.661781072616577],\n",
       " [3.6617825031280518],\n",
       " [3.661790132522583],\n",
       " [3.6617748737335205],\n",
       " [3.6617727279663086],\n",
       " [3.6617801189422607],\n",
       " [3.661764621734619],\n",
       " [3.661766529083252],\n",
       " [3.661773920059204],\n",
       " [3.6617581844329834],\n",
       " [3.66178035736084],\n",
       " [3.661787748336792],\n",
       " [3.6617727279663086],\n",
       " [3.661773920059204],\n",
       " [3.661780595779419],\n",
       " [3.661766290664673],\n",
       " [3.6617791652679443],\n",
       " [3.6617863178253174],\n",
       " [3.661771059036255],\n",
       " [3.661773204803467],\n",
       " [3.6617798805236816],\n",
       " [3.661764621734619],\n",
       " [3.6617627143859863],\n",
       " [3.6617696285247803],\n",
       " [3.6617541313171387],\n",
       " [3.661756753921509],\n",
       " [3.6617636680603027],\n",
       " [3.6617484092712402],\n",
       " [3.661787748336792],\n",
       " [3.6617960929870605],\n",
       " [3.661778450012207],\n",
       " [3.661780834197998],\n",
       " [3.661790132522583],\n",
       " [3.6617722511291504],\n",
       " [3.661778211593628],\n",
       " [3.661787509918213],\n",
       " [3.6617696285247803],\n",
       " [3.6617720127105713],\n",
       " [3.6617815494537354],\n",
       " [3.6617636680603027],\n",
       " [3.661770820617676],\n",
       " [3.6617801189422607],\n",
       " [3.66176176071167],\n",
       " [3.661764621734619],\n",
       " [3.661774158477783],\n",
       " [3.6617558002471924],\n",
       " [3.6618053913116455],\n",
       " [3.6618144512176514],\n",
       " [3.6617982387542725],\n",
       " [3.661799907684326],\n",
       " [3.6618080139160156],\n",
       " [3.661792278289795],\n",
       " [3.6617963314056396],\n",
       " [3.6618053913116455],\n",
       " [3.6617884635925293],\n",
       " [3.661790370941162],\n",
       " [3.661799192428589],\n",
       " [3.6617822647094727],\n",
       " [3.6617894172668457],\n",
       " [3.6617984771728516],\n",
       " [3.6617813110351562],\n",
       " [3.6617836952209473],\n",
       " [3.661792516708374],\n",
       " [3.6617743968963623],\n",
       " [3.661806106567383],\n",
       " [3.661813735961914],\n",
       " [3.6617984771728516],\n",
       " [3.661799669265747],\n",
       " [3.6618082523345947],\n",
       " [3.661792278289795],\n",
       " [3.6617960929870605],\n",
       " [3.66180419921875],\n",
       " [3.66178822517395],\n",
       " [3.6617908477783203],\n",
       " [3.6617980003356934],\n",
       " [3.6617822647094727],\n",
       " [3.661790370941162],\n",
       " [3.6617989540100098],\n",
       " [3.6617822647094727],\n",
       " [3.6617844104766846],\n",
       " [3.661792755126953],\n",
       " [3.6617772579193115],\n",
       " [3.661834239959717],\n",
       " [3.6618435382843018],\n",
       " [3.6618261337280273],\n",
       " [3.66182804107666],\n",
       " [3.661837339401245],\n",
       " [3.66182017326355],\n",
       " [3.6618332862854004],\n",
       " [3.6618425846099854],\n",
       " [3.661825180053711],\n",
       " [3.661827564239502],\n",
       " [3.661836624145508],\n",
       " [3.6618194580078125],\n",
       " [3.661817789077759],\n",
       " [3.661827564239502],\n",
       " [3.6618101596832275],\n",
       " [3.6618120670318604],\n",
       " [3.6618216037750244],\n",
       " [3.661803960800171],\n",
       " [3.661856174468994],\n",
       " [3.661865711212158],\n",
       " [3.661846876144409],\n",
       " [3.6618494987487793],\n",
       " [3.661858558654785],\n",
       " [3.6618404388427734],\n",
       " [3.661853313446045],\n",
       " [3.6618640422821045],\n",
       " [3.6618456840515137],\n",
       " [3.6618478298187256],\n",
       " [3.661858081817627],\n",
       " [3.661839723587036],\n",
       " [3.6618378162384033],\n",
       " [3.6618475914001465],\n",
       " [3.661830425262451],\n",
       " [3.6618316173553467],\n",
       " [3.661841869354248],\n",
       " [3.6618239879608154],\n",
       " [3.661832809448242],\n",
       " [3.6618404388427734],\n",
       " [3.6618258953094482],\n",
       " [3.6618266105651855],\n",
       " [3.6618340015411377],\n",
       " [3.6618192195892334],\n",
       " [3.661831855773926],\n",
       " [3.6618399620056152],\n",
       " [3.6618244647979736],\n",
       " [3.661824941635132],\n",
       " [3.6618330478668213],\n",
       " [3.661818027496338],\n",
       " [3.6618151664733887],\n",
       " [3.6618237495422363],\n",
       " [3.6618082523345947],\n",
       " [3.6618094444274902],\n",
       " [3.6618175506591797],\n",
       " [3.661802291870117],\n",
       " [3.66182279586792],\n",
       " [3.6618306636810303],\n",
       " [3.6618154048919678],\n",
       " [3.6618173122406006],\n",
       " [3.6618242263793945],\n",
       " [3.661808490753174],\n",
       " [3.6618216037750244],\n",
       " [3.6618289947509766],\n",
       " [3.661813974380493],\n",
       " [3.661815643310547],\n",
       " [3.661822557449341],\n",
       " [3.66180682182312],\n",
       " [3.6618058681488037],\n",
       " [3.661813259124756],\n",
       " [3.6617984771728516],\n",
       " [3.661799907684326],\n",
       " [3.6618072986602783],\n",
       " [3.661792516708374],\n",
       " [3.6618294715881348],\n",
       " [3.661839008331299],\n",
       " [3.6618213653564453],\n",
       " [3.661823272705078],\n",
       " [3.661832571029663],\n",
       " [3.6618151664733887],\n",
       " [3.661820411682129],\n",
       " [3.661830186843872],\n",
       " [3.6618120670318604],\n",
       " [3.6618149280548096],\n",
       " [3.661824941635132],\n",
       " [3.661806583404541],\n",
       " [3.6618049144744873],\n",
       " [3.6618142127990723],\n",
       " [3.6617963314056396],\n",
       " [3.661799192428589],\n",
       " [3.661808729171753],\n",
       " [3.6617908477783203],\n",
       " [3.661848306655884],\n",
       " [3.6618573665618896],\n",
       " [3.6618406772613525],\n",
       " [3.661842107772827],\n",
       " [3.661850929260254],\n",
       " [3.661834478378296],\n",
       " [3.6618387699127197],\n",
       " [3.6618475914001465],\n",
       " [3.6618309020996094],\n",
       " [3.661832571029663],\n",
       " [3.66184139251709],\n",
       " [3.6618247032165527],\n",
       " [3.661832094192505],\n",
       " [3.6618409156799316],\n",
       " [3.6618237495422363],\n",
       " [3.661825656890869],\n",
       " [3.661834955215454],\n",
       " [3.661817789077759],\n",
       " [3.661849021911621],\n",
       " [3.6618564128875732],\n",
       " [3.6618409156799316],\n",
       " [3.6618423461914062],\n",
       " [3.6618499755859375],\n",
       " [3.661835193634033],\n",
       " [3.661839485168457],\n",
       " [3.6618475914001465],\n",
       " [3.6618313789367676],\n",
       " [3.6618335247039795],\n",
       " [3.66184139251709],\n",
       " [3.6618258953094482],\n",
       " [3.661832809448242],\n",
       " [3.6618409156799316],\n",
       " [3.6618239879608154],\n",
       " [3.6618263721466064],\n",
       " [3.661834955215454],\n",
       " [3.661818504333496],\n",
       " [3.6618776321411133],\n",
       " [3.661886692047119],\n",
       " [3.661869525909424],\n",
       " [3.6618716716766357],\n",
       " [3.6618809700012207],\n",
       " [3.6618638038635254],\n",
       " [3.6618690490722656],\n",
       " [3.6618781089782715],\n",
       " [3.661860704421997],\n",
       " [3.661862850189209],\n",
       " [3.6618714332580566],\n",
       " [3.6618549823760986],\n",
       " [3.661860704421997],\n",
       " [3.661869764328003],\n",
       " [3.6618528366088867],\n",
       " [3.6618549823760986],\n",
       " [3.6618645191192627],\n",
       " [3.661846399307251],\n",
       " [3.661898612976074],\n",
       " [3.6619067192077637],\n",
       " [3.6618897914886475],\n",
       " [3.6618921756744385],\n",
       " [3.661900281906128],\n",
       " [3.6618831157684326],\n",
       " [3.661888360977173],\n",
       " [3.6618990898132324],\n",
       " [3.6618802547454834],\n",
       " [3.6618828773498535],\n",
       " [3.6618924140930176],\n",
       " [3.661874294281006],\n",
       " [3.6618802547454834],\n",
       " [3.6618897914886475],\n",
       " [3.661872386932373],\n",
       " [3.661874532699585],\n",
       " [3.661883592605591],\n",
       " [3.6618661880493164],\n",
       " [3.6618757247924805],\n",
       " [3.6618831157684326],\n",
       " [3.6618685722351074],\n",
       " [3.661869525909424],\n",
       " [3.661877155303955],\n",
       " [3.661862850189209],\n",
       " [3.6618669033050537],\n",
       " [3.661874294281006],\n",
       " [3.6618590354919434],\n",
       " [3.661860704421997],\n",
       " [3.661868095397949],\n",
       " [3.661853075027466],\n",
       " [3.661857843399048],\n",
       " [3.6618661880493164],\n",
       " [3.661850929260254],\n",
       " [3.6618525981903076],\n",
       " [3.6618599891662598],\n",
       " [3.661844491958618],\n",
       " [3.661865472793579],\n",
       " [3.661872148513794],\n",
       " [3.6618576049804688],\n",
       " [3.6618597507476807],\n",
       " [3.6618664264678955],\n",
       " [3.661851406097412],\n",
       " [3.6618566513061523],\n",
       " [3.6618638038635254],\n",
       " [3.661848545074463],\n",
       " [3.6618504524230957],\n",
       " [3.661857843399048],\n",
       " [3.6618423461914062],\n",
       " [3.661848783493042],\n",
       " [3.6618552207946777],\n",
       " [3.6618399620056152],\n",
       " [3.6618423461914062],\n",
       " [3.6618494987487793],\n",
       " [3.661834239959717],\n",
       " [3.661864757537842],\n",
       " [3.6618738174438477],\n",
       " [3.6618564128875732],\n",
       " [3.6618592739105225],\n",
       " [3.661868095397949],\n",
       " [3.6618504524230957],\n",
       " [3.6618549823760986],\n",
       " [3.661865234375],\n",
       " [3.6618471145629883],\n",
       " [3.6618492603302],\n",
       " [3.6618590354919434],\n",
       " [3.6618409156799316],\n",
       " [3.661848306655884],\n",
       " [3.6618576049804688],\n",
       " [3.661839485168457],\n",
       " [3.6618425846099854],\n",
       " [3.6618518829345703],\n",
       " [3.6618332862854004],\n",
       " [3.6618831157684326],\n",
       " [3.6618916988372803],\n",
       " [3.6618754863739014],\n",
       " [3.661876678466797],\n",
       " [3.661885976791382],\n",
       " [3.661869525909424],\n",
       " [3.6618735790252686],\n",
       " [3.6618828773498535],\n",
       " [3.661865711212158],\n",
       " [3.66186785697937],\n",
       " [3.6618764400482178],\n",
       " [3.6618599891662598],\n",
       " [3.6618666648864746],\n",
       " [3.6618762016296387],\n",
       " [3.6618587970733643],\n",
       " [3.661860704421997],\n",
       " [3.6618704795837402],\n",
       " [3.6618528366088867],\n",
       " [3.661884069442749],\n",
       " [3.661891460418701],\n",
       " [3.6618757247924805],\n",
       " [3.6618778705596924],\n",
       " [3.6618857383728027],\n",
       " [3.661870241165161],\n",
       " [3.661874532699585],\n",
       " [3.6618824005126953],\n",
       " [3.6618661880493164],\n",
       " [3.6618685722351074],\n",
       " [3.6618762016296387],\n",
       " [3.661860227584839],\n",
       " [3.661867141723633],\n",
       " [3.6618757247924805],\n",
       " [3.6618597507476807],\n",
       " [3.6618618965148926],\n",
       " [3.661869764328003],\n",
       " [3.6618542671203613],\n",
       " [3.661912441253662],\n",
       " [3.6619207859039307],\n",
       " [3.6619045734405518],\n",
       " [3.6619062423706055],\n",
       " [3.6619153022766113],\n",
       " [3.6618988513946533],\n",
       " [3.661903142929077],\n",
       " [3.661911964416504],\n",
       " [3.661895275115967],\n",
       " [3.6618971824645996],\n",
       " [3.6619062423706055],\n",
       " [3.6618897914886475],\n",
       " [3.661895990371704],\n",
       " [3.6619062423706055],\n",
       " [3.6618876457214355],\n",
       " [3.6618900299072266],\n",
       " [3.6618993282318115],\n",
       " [3.6618809700012207],\n",
       " [3.661933660507202],\n",
       " [3.661942481994629],\n",
       " [3.6619248390197754],\n",
       " [3.6619274616241455],\n",
       " [3.661935806274414],\n",
       " [3.6619181632995605],\n",
       " [3.661924123764038],\n",
       " [3.6619338989257812],\n",
       " [3.6619162559509277],\n",
       " [3.6619181632995605],\n",
       " [3.6619279384613037],\n",
       " [3.661909580230713],\n",
       " [3.6619155406951904],\n",
       " [3.6619253158569336],\n",
       " [3.6619081497192383],\n",
       " [3.661909341812134],\n",
       " [3.661919355392456],\n",
       " [3.6619014739990234],\n",
       " [3.6619105339050293],\n",
       " [3.6619181632995605],\n",
       " [3.6619033813476562],\n",
       " [3.6619043350219727],\n",
       " [3.661912202835083],\n",
       " [3.6618969440460205],\n",
       " [3.6619014739990234],\n",
       " [3.661909341812134],\n",
       " [3.6618943214416504],\n",
       " [3.661895513534546],\n",
       " [3.661903142929077],\n",
       " [3.661888360977173],\n",
       " [3.6618926525115967],\n",
       " [3.6619014739990234],\n",
       " [3.6618847846984863],\n",
       " [3.66188645362854],\n",
       " [3.661895275115967],\n",
       " [3.661879062652588],\n",
       " [3.6619012355804443],\n",
       " [3.661907911300659],\n",
       " [3.661892890930176],\n",
       " [3.6618947982788086],\n",
       " [3.6619012355804443],\n",
       " [3.661886215209961],\n",
       " [3.661891460418701],\n",
       " [3.661898612976074],\n",
       " [3.66188383102417],\n",
       " [3.6618852615356445],\n",
       " [3.6618924140930176],\n",
       " [3.661877155303955],\n",
       " [3.6618831157684326],\n",
       " [3.6618905067443848],\n",
       " [3.661875009536743],\n",
       " [3.661877393722534],\n",
       " [3.6618847846984863],\n",
       " [3.6618688106536865],\n",
       " [3.661900043487549],\n",
       " [3.6619091033935547],\n",
       " [3.6618916988372803],\n",
       " [3.661893844604492],\n",
       " [3.661903142929077],\n",
       " [3.6618857383728027],\n",
       " [3.661890983581543],\n",
       " [3.661900520324707],\n",
       " [3.661881923675537],\n",
       " [3.6618847846984863],\n",
       " [3.661893844604492],\n",
       " [3.6618759632110596],\n",
       " [3.6618833541870117],\n",
       " [3.661892890930176],\n",
       " [3.6618752479553223],\n",
       " [3.6618776321411133],\n",
       " [3.6618869304656982],\n",
       " [3.6618690490722656],\n",
       " [3.6619179248809814],\n",
       " [3.6619274616241455],\n",
       " [3.6619105339050293],\n",
       " [3.661911964416504],\n",
       " [3.661921262741089],\n",
       " [3.661905527114868],\n",
       " [3.661909580230713],\n",
       " [3.6619184017181396],\n",
       " [3.6619009971618652],\n",
       " [3.6619036197662354],\n",
       " [3.661911964416504],\n",
       " [3.6618950366973877],\n",
       " [3.6619021892547607],\n",
       " [3.6619114875793457],\n",
       " [3.6618940830230713],\n",
       " [3.6618964672088623],\n",
       " [3.6619057655334473],\n",
       " [3.6618878841400146],\n",
       " [3.661919593811035],\n",
       " [3.661926746368408],\n",
       " [3.661911725997925],\n",
       " [3.6619133949279785],\n",
       " [3.6619205474853516],\n",
       " [3.66190505027771],\n",
       " [3.661910057067871],\n",
       " [3.6619174480438232],\n",
       " [3.6619019508361816],\n",
       " [3.6619038581848145],\n",
       " [3.661911725997925],\n",
       " [3.661896228790283],\n",
       " [3.661903142929077],\n",
       " [3.6619114875793457],\n",
       " [3.6618945598602295],\n",
       " [3.6618969440460205],\n",
       " [3.661905288696289],\n",
       " [3.661888837814331],\n",
       " [3.661947727203369],\n",
       " [3.661956787109375],\n",
       " [3.661940097808838],\n",
       " [3.6619412899017334],\n",
       " [3.6619503498077393],\n",
       " [3.661933183670044],\n",
       " [3.6619386672973633],\n",
       " [3.661947727203369],\n",
       " [3.6619298458099365],\n",
       " [3.6619327068328857],\n",
       " [3.6619412899017334],\n",
       " [3.6619246006011963],\n",
       " [3.661931037902832],\n",
       " [3.661940336227417],\n",
       " [3.6619231700897217],\n",
       " [3.6619250774383545],\n",
       " [3.6619341373443604],\n",
       " [3.661916732788086],\n",
       " [3.66196870803833],\n",
       " [3.661978006362915],\n",
       " [3.6619603633880615],\n",
       " [3.6619627475738525],\n",
       " [3.6619713306427],\n",
       " [3.6619534492492676],\n",
       " [3.661959648132324],\n",
       " [3.6619691848754883],\n",
       " [3.6619513034820557],\n",
       " [3.6619532108306885],\n",
       " [3.6619632244110107],\n",
       " [3.661945343017578],\n",
       " [3.6619510650634766],\n",
       " [3.6619608402252197],\n",
       " [3.6619434356689453],\n",
       " [3.661944627761841],\n",
       " [3.661954641342163],\n",
       " [3.6619372367858887],\n",
       " [3.6619462966918945],\n",
       " [3.661953926086426],\n",
       " [3.6619389057159424],\n",
       " [3.661940574645996],\n",
       " [3.66194748878479],\n",
       " [3.661933422088623],\n",
       " [3.6619372367858887],\n",
       " [3.661944627761841],\n",
       " [3.6619296073913574],\n",
       " [3.661931276321411],\n",
       " [3.661938428878784],\n",
       " [3.661923408508301],\n",
       " [3.661928176879883],\n",
       " [3.661935806274414],\n",
       " [3.6619205474853516],\n",
       " [3.6619224548339844],\n",
       " [3.6619298458099365],\n",
       " [3.661914587020874],\n",
       " [3.661936044692993],\n",
       " [3.661942481994629],\n",
       " [3.661928176879883],\n",
       " [3.6619300842285156],\n",
       " [3.6619362831115723],\n",
       " [3.661921739578247],\n",
       " [3.6619272232055664],\n",
       " [3.6619338989257812],\n",
       " [3.661919355392456],\n",
       " [3.6619210243225098],\n",
       " [3.6619277000427246],\n",
       " [3.6619133949279785],\n",
       " [3.661918878555298],\n",
       " [3.6619255542755127],\n",
       " [3.6619105339050293],\n",
       " [3.661912441253662],\n",
       " [3.661919593811035],\n",
       " [3.6619040966033936],\n",
       " [3.661936044692993],\n",
       " [3.661944627761841],\n",
       " [3.661926507949829],\n",
       " [3.6619298458099365],\n",
       " [3.661938190460205],\n",
       " [3.6619205474853516],\n",
       " [3.661926031112671],\n",
       " [3.661935567855835],\n",
       " [3.661917209625244],\n",
       " [3.6619198322296143],\n",
       " [3.6619293689727783],\n",
       " [3.6619114875793457],\n",
       " [3.6619186401367188],\n",
       " [3.661928176879883],\n",
       " [3.66191029548645],\n",
       " [3.6619129180908203],\n",
       " [3.6619222164154053],\n",
       " [3.6619045734405518],\n",
       " [3.6619536876678467],\n",
       " [3.6619625091552734],\n",
       " [3.6619458198547363],\n",
       " [3.661947250366211],\n",
       " [3.661956548690796],\n",
       " [3.661940097808838],\n",
       " [3.6619441509246826],\n",
       " [3.6619534492492676],\n",
       " [3.6619362831115723],\n",
       " [3.6619386672973633],\n",
       " [3.66194748878479],\n",
       " [3.661931037902832],\n",
       " [3.6619374752044678],\n",
       " [3.6619465351104736],\n",
       " [3.6619293689727783],\n",
       " [3.661931276321411],\n",
       " [3.661940813064575],\n",
       " [3.66192364692688],\n",
       " [3.661954402923584],\n",
       " [3.6619608402252197],\n",
       " [3.6619460582733154],\n",
       " [3.6619479656219482],\n",
       " [3.6619553565979004],\n",
       " [3.661940336227417],\n",
       " [3.6619458198547363],\n",
       " [3.6619536876678467],\n",
       " [3.661937713623047],\n",
       " [3.661939859390259],\n",
       " [3.661947250366211],\n",
       " [3.6619317531585693],\n",
       " [3.661938428878784],\n",
       " [3.6619458198547363],\n",
       " [3.6619300842285156],\n",
       " [3.6619324684143066],\n",
       " [3.661940336227417],\n",
       " [3.661924362182617],\n",
       " [3.661983013153076],\n",
       " [3.661991834640503],\n",
       " [3.661975145339966],\n",
       " [3.6619763374328613],\n",
       " [3.661985397338867],\n",
       " [3.661968469619751],\n",
       " [3.6619744300842285],\n",
       " [3.661982774734497],\n",
       " [3.66196608543396],\n",
       " [3.6619679927825928],\n",
       " [3.6619765758514404],\n",
       " [3.661959409713745],\n",
       " [3.6619668006896973],\n",
       " [3.6619763374328613],\n",
       " [3.6619584560394287],\n",
       " [3.6619606018066406],\n",
       " [3.6619694232940674],\n",
       " [3.661951780319214],\n",
       " [3.6620032787323],\n",
       " [3.662012815475464],\n",
       " [3.6619949340820312],\n",
       " [3.6619973182678223],\n",
       " [3.6620066165924072],\n",
       " [3.6619887351989746],\n",
       " [3.6619937419891357],\n",
       " [3.662003993988037],\n",
       " [3.6619865894317627],\n",
       " [3.661987781524658],\n",
       " [3.6619982719421387],\n",
       " [3.661980152130127],\n",
       " [3.6619861125946045],\n",
       " [3.6619954109191895],\n",
       " [3.6619784832000732],\n",
       " [3.6619794368743896],\n",
       " [3.661989450454712],\n",
       " [3.661972761154175],\n",
       " [3.6619815826416016],\n",
       " [3.6619887351989746],\n",
       " [3.6619741916656494],\n",
       " [3.661975145339966],\n",
       " [3.661982774734497],\n",
       " [3.6619672775268555],\n",
       " [3.6619722843170166],\n",
       " [3.6619796752929688],\n",
       " [3.661964178085327],\n",
       " [3.66196608543396],\n",
       " [3.661973714828491],\n",
       " [3.661958694458008],\n",
       " [3.661963701248169],\n",
       " [3.6619718074798584],\n",
       " [3.6619558334350586],\n",
       " [3.6619575023651123],\n",
       " [3.6619656085968018],\n",
       " [3.6619503498077393],\n",
       " [3.6619718074798584],\n",
       " [3.6619787216186523],\n",
       " [3.661963701248169],\n",
       " [3.6619656085968018],\n",
       " [3.6619725227355957],\n",
       " [3.6619577407836914],\n",
       " [3.6619620323181152],\n",
       " [3.6619694232940674],\n",
       " [3.6619551181793213],\n",
       " [3.661956310272217],\n",
       " [3.661963701248169],\n",
       " [3.6619482040405273],\n",
       " [3.661954402923584],\n",
       " [3.661961793899536],\n",
       " [3.6619467735290527],\n",
       " [3.6619484424591064],\n",
       " [3.6619555950164795],\n",
       " [3.6619396209716797],\n",
       " [3.661970376968384],\n",
       " [3.661979913711548],\n",
       " [3.6619620323181152],\n",
       " [3.6619648933410645],\n",
       " [3.661973714828491],\n",
       " [3.661956310272217],\n",
       " [3.6619532108306885],\n",
       " [3.6619632244110107],\n",
       " [3.6619443893432617],\n",
       " [3.661947011947632],\n",
       " [3.6619560718536377],\n",
       " [3.661938428878784],\n",
       " [3.6619534492492676],\n",
       " [3.6619632244110107],\n",
       " [3.661945104598999],\n",
       " [3.661947727203369],\n",
       " [3.661957263946533],\n",
       " [3.6619391441345215],\n",
       " [3.6619884967803955],\n",
       " [3.6619977951049805],\n",
       " [3.6619813442230225],\n",
       " [3.6619834899902344],\n",
       " [3.661992073059082],\n",
       " [3.661975860595703],\n",
       " [3.6619794368743896],\n",
       " [3.6619887351989746],\n",
       " [3.6619715690612793],\n",
       " [3.661973476409912],\n",
       " [3.661982297897339],\n",
       " [3.661965847015381],\n",
       " [3.6619720458984375],\n",
       " [3.6619818210601807],\n",
       " [3.6619644165039062],\n",
       " [3.661966562271118],\n",
       " [3.661975860595703],\n",
       " [3.6619579792022705],\n",
       " [3.66198992729187],\n",
       " [3.6619975566864014],\n",
       " [3.6619818210601807],\n",
       " [3.6619832515716553],\n",
       " [3.661991596221924],\n",
       " [3.661975383758545],\n",
       " [3.661980390548706],\n",
       " [3.6619884967803955],\n",
       " [3.6619722843170166],\n",
       " [3.6619749069213867],\n",
       " [3.661982297897339],\n",
       " [3.6619668006896973],\n",
       " [3.661973237991333],\n",
       " [3.6619815826416016],\n",
       " [3.6619656085968018],\n",
       " [3.6619670391082764],\n",
       " [3.661975145339966],\n",
       " [3.661958932876587],\n",
       " [3.662010669708252],\n",
       " [3.6620187759399414],\n",
       " [3.6620023250579834],\n",
       " [3.662004232406616],\n",
       " [3.662013053894043],\n",
       " [3.661996364593506],\n",
       " [3.662001848220825],\n",
       " [3.6620101928710938],\n",
       " [3.6619935035705566],\n",
       " [3.6619954109191895],\n",
       " [3.6620047092437744],\n",
       " [3.661986827850342],\n",
       " [3.661993980407715],\n",
       " [3.6620030403137207],\n",
       " [3.661984920501709],\n",
       " [3.661987543106079],\n",
       " [3.661996841430664],\n",
       " [3.6619787216186523],\n",
       " [3.662039041519165],\n",
       " [3.662048101425171],\n",
       " [3.6620302200317383],\n",
       " [3.6620326042175293],\n",
       " [3.6620419025421143],\n",
       " [3.6620242595672607],\n",
       " [3.662029504776001],\n",
       " [3.6620397567749023],\n",
       " [3.6620216369628906],\n",
       " [3.6620233058929443],\n",
       " [3.662033796310425],\n",
       " [3.662014961242676],\n",
       " [3.6620209217071533],\n",
       " [3.6620306968688965],\n",
       " [3.662013053894043],\n",
       " [3.662015676498413],\n",
       " [3.662024974822998],\n",
       " [3.6620070934295654],\n",
       " [3.6620168685913086],\n",
       " [3.6620242595672607],\n",
       " [3.662008762359619],\n",
       " [3.662010431289673],\n",
       " [3.662018299102783],\n",
       " [3.6620030403137207],\n",
       " [3.6620075702667236],\n",
       " [3.662015199661255],\n",
       " [3.661999464035034],\n",
       " [3.662001132965088],\n",
       " [3.6620090007781982],\n",
       " [3.6619937419891357],\n",
       " [3.661999225616455],\n",
       " [3.6620070934295654],\n",
       " [3.6619913578033447],\n",
       " [3.6619932651519775],\n",
       " [3.662000894546509],\n",
       " [3.661985397338867],\n",
       " [3.662006378173828],\n",
       " [3.6620137691497803],\n",
       " [3.661999464035034],\n",
       " [3.6620004177093506],\n",
       " [3.6620070934295654],\n",
       " [3.6619932651519775],\n",
       " [3.6619975566864014],\n",
       " [3.6620044708251953],\n",
       " [3.661989212036133],\n",
       " [3.6619911193847656],\n",
       " [3.6619980335235596],\n",
       " [3.6619832515716553],\n",
       " [3.661989450454712],\n",
       " [3.661996603012085],\n",
       " [3.6619813442230225],\n",
       " [3.6619834899902344],\n",
       " [3.6619906425476074],\n",
       " [3.661975145339966],\n",
       " [3.662006378173828],\n",
       " [3.662015438079834],\n",
       " [3.6619977951049805],\n",
       " [3.6620001792907715],\n",
       " [3.66200852394104],\n",
       " [3.6619911193847656],\n",
       " [3.661996841430664],\n",
       " [3.6620066165924072],\n",
       " [3.6619880199432373],\n",
       " [3.6619911193847656],\n",
       " [3.6620004177093506],\n",
       " [3.6619815826416016],\n",
       " [3.661989688873291],\n",
       " [3.661998748779297],\n",
       " [3.661980390548706],\n",
       " [3.6619832515716553],\n",
       " [3.6619927883148193],\n",
       " [3.6619744300842285],\n",
       " [3.66202449798584],\n",
       " [3.6620335578918457],\n",
       " [3.6620166301727295],\n",
       " [3.662018299102783],\n",
       " [3.66202712059021],\n",
       " [3.66201114654541],\n",
       " [3.662015199661255],\n",
       " [3.66202449798584],\n",
       " [3.6620073318481445],\n",
       " [3.6620094776153564],\n",
       " [3.6620187759399414],\n",
       " [3.662001609802246],\n",
       " [3.6620078086853027],\n",
       " [3.6620171070098877],\n",
       " [3.6620001792907715],\n",
       " [3.6620020866394043],\n",
       " [3.6620116233825684],\n",
       " [3.661993980407715],\n",
       " [3.662024974822998],\n",
       " [3.662032127380371],\n",
       " [3.6620171070098877],\n",
       " [3.6620192527770996],\n",
       " [3.6620261669158936],\n",
       " [3.662010908126831],\n",
       " [3.662015676498413],\n",
       " [3.6620237827301025],\n",
       " [3.6620073318481445],\n",
       " [3.6620099544525146],\n",
       " [3.662017345428467],\n",
       " [3.662001609802246],\n",
       " [3.662008762359619],\n",
       " [3.6620163917541504],\n",
       " [3.6620004177093506],\n",
       " [3.6620030403137207],\n",
       " [3.662010669708252],\n",
       " [3.661994457244873],\n",
       " [3.662053346633911],\n",
       " [3.662061929702759],\n",
       " [3.6620452404022217],\n",
       " [3.6620469093322754],\n",
       " [3.6620564460754395],\n",
       " [3.662039041519165],\n",
       " [3.6620445251464844],\n",
       " [3.6620535850524902],\n",
       " [3.6620359420776367],\n",
       " [3.662038803100586],\n",
       " [3.6620469093322754],\n",
       " [3.662029981613159],\n",
       " [3.662036895751953],\n",
       " [3.662046432495117],\n",
       " [3.6620285511016846],\n",
       " [3.6620309352874756],\n",
       " [3.6620407104492188],\n",
       " [3.6620230674743652],\n",
       " [3.662074327468872],\n",
       " [3.6620841026306152],\n",
       " [3.6620657444000244],\n",
       " [3.66206955909729],\n",
       " [3.6620774269104004],\n",
       " [3.662060022354126],\n",
       " [3.662064552307129],\n",
       " [3.6620752811431885],\n",
       " [3.6620566844940186],\n",
       " [3.6620583534240723],\n",
       " [3.662069082260132],\n",
       " [3.662050247192383],\n",
       " [3.6620569229125977],\n",
       " [3.66206693649292],\n",
       " [3.6620495319366455],\n",
       " [3.662050724029541],\n",
       " [3.6620607376098633],\n",
       " [3.662043571472168],\n",
       " [3.6620521545410156],\n",
       " [3.662060022354126],\n",
       " [3.6620442867279053],\n",
       " [3.66204571723938],\n",
       " [3.6620535850524902],\n",
       " [3.6620383262634277],\n",
       " [3.662043333053589],\n",
       " [3.662050485610962],\n",
       " [3.6620354652404785],\n",
       " [3.662036895751953],\n",
       " [3.6620442867279053],\n",
       " [3.66202974319458],\n",
       " [3.662034511566162],\n",
       " [3.6620419025421143],\n",
       " [3.66202712059021],\n",
       " [3.6620280742645264],\n",
       " [3.6620359420776367],\n",
       " [3.6620209217071533],\n",
       " [3.6620423793792725],\n",
       " [3.6620495319366455],\n",
       " [3.6620354652404785],\n",
       " [3.662036418914795],\n",
       " [3.6620430946350098],\n",
       " [3.6620287895202637],\n",
       " [3.6620326042175293],\n",
       " [3.662040948867798],\n",
       " [3.662024974822998],\n",
       " [3.66202712059021],\n",
       " [3.662034511566162],\n",
       " [3.6620192527770996],\n",
       " [3.66202449798584],\n",
       " [3.662032127380371],\n",
       " [3.6620163917541504],\n",
       " [3.6620187759399414],\n",
       " [3.6620254516601562],\n",
       " [3.662010431289673],\n",
       " [3.662041187286377],\n",
       " [3.662050485610962],\n",
       " [3.6620330810546875],\n",
       " [3.6620349884033203],\n",
       " [3.662044048309326],\n",
       " [3.6620266437530518],\n",
       " [3.662031888961792],\n",
       " [3.662041187286377],\n",
       " [3.6620235443115234],\n",
       " [3.6620256900787354],\n",
       " ...)"
      ]
     },
     "execution_count": 156,
     "metadata": {},
     "output_type": "execute_result"
    }
   ],
   "source": [
    "preds1_x"
   ]
  },
  {
   "cell_type": "code",
   "execution_count": 157,
   "id": "dbb04a1f-a56d-4261-9013-4125f4d93d3d",
   "metadata": {},
   "outputs": [
    {
     "data": {
      "text/plain": [
       "6528"
      ]
     },
     "execution_count": 157,
     "metadata": {},
     "output_type": "execute_result"
    }
   ],
   "source": [
    "len(preds1_x)"
   ]
  },
  {
   "cell_type": "code",
   "execution_count": 163,
   "id": "d7cd4537-ad2b-404c-8810-5a2dbbcf055b",
   "metadata": {},
   "outputs": [],
   "source": [
    "dummy_ser = pd.Series([0]*6528)"
   ]
  },
  {
   "cell_type": "code",
   "execution_count": 169,
   "id": "fad3220e-717c-457d-9c10-03126d45e21a",
   "metadata": {},
   "outputs": [
    {
     "data": {
      "text/plain": [
       "list"
      ]
     },
     "execution_count": 169,
     "metadata": {},
     "output_type": "execute_result"
    }
   ],
   "source": [
    "type(preds1_x[0])"
   ]
  },
  {
   "cell_type": "code",
   "execution_count": 179,
   "id": "d13b2c2b-16d3-4307-abd8-16cc7208d8c1",
   "metadata": {},
   "outputs": [],
   "source": [
    "preds1_x_np = np.array(preds1_x)"
   ]
  },
  {
   "cell_type": "code",
   "execution_count": 180,
   "id": "2b692a91-34e7-48d3-9961-f9e32431e028",
   "metadata": {},
   "outputs": [
    {
     "data": {
      "text/plain": [
       "(6528, 1)"
      ]
     },
     "execution_count": 180,
     "metadata": {},
     "output_type": "execute_result"
    }
   ],
   "source": [
    "preds1_x_np.shape"
   ]
  },
  {
   "cell_type": "code",
   "execution_count": 184,
   "id": "33f568ca-de3a-4ba8-b512-761ae698ce05",
   "metadata": {},
   "outputs": [],
   "source": [
    "preds1_x_np_flat = preds1_x_np.flatten()"
   ]
  },
  {
   "cell_type": "code",
   "execution_count": 185,
   "id": "ca8769c1-b601-4b7b-92a4-66cc2bfcc313",
   "metadata": {},
   "outputs": [
    {
     "data": {
      "text/plain": [
       "(6528,)"
      ]
     },
     "execution_count": 185,
     "metadata": {},
     "output_type": "execute_result"
    }
   ],
   "source": [
    "preds1_x_np_flat.shape"
   ]
  },
  {
   "cell_type": "code",
   "execution_count": 186,
   "id": "c28d3e22-d5e7-4b51-9ca1-9eaced6d5720",
   "metadata": {},
   "outputs": [
    {
     "data": {
      "text/plain": [
       "array([3.661762  , 3.66177154, 3.66175485, 3.66175628, 3.66176534])"
      ]
     },
     "execution_count": 186,
     "metadata": {},
     "output_type": "execute_result"
    }
   ],
   "source": [
    "preds1_x_np_flat[:5]"
   ]
  },
  {
   "cell_type": "code",
   "execution_count": 187,
   "id": "54c09d88-d4f6-4f9d-a657-25a2c8a8ba06",
   "metadata": {},
   "outputs": [],
   "source": [
    "dummy_ser[:5] = preds1_x_np_flat[:5]"
   ]
  },
  {
   "cell_type": "code",
   "execution_count": 189,
   "id": "54d4076e-08f6-4950-860a-857ea004fd55",
   "metadata": {},
   "outputs": [
    {
     "data": {
      "text/plain": [
       "0    3.661762\n",
       "1    3.661772\n",
       "2    3.661755\n",
       "3    3.661756\n",
       "4    3.661765\n",
       "5    0.000000\n",
       "6    0.000000\n",
       "dtype: float64"
      ]
     },
     "execution_count": 189,
     "metadata": {},
     "output_type": "execute_result"
    }
   ],
   "source": [
    "dummy_ser[:7]"
   ]
  },
  {
   "cell_type": "code",
   "execution_count": 158,
   "id": "96b8e441-61f9-49d9-967d-60ad70d51813",
   "metadata": {},
   "outputs": [
    {
     "data": {
      "text/plain": [
       "6570"
      ]
     },
     "execution_count": 158,
     "metadata": {},
     "output_type": "execute_result"
    }
   ],
   "source": [
    "len(tv_df[tv_df['date'] >= '2018-01-01'])"
   ]
  },
  {
   "cell_type": "markdown",
   "id": "e24b56af-479a-48bf-8727-978127cae2da",
   "metadata": {},
   "source": [
    "---------------"
   ]
  },
  {
   "cell_type": "code",
   "execution_count": 116,
   "id": "b8de90ef-d5e5-4f1f-800a-bdf6ebd8fd87",
   "metadata": {},
   "outputs": [],
   "source": [
    "le_dict, tv_df_ts_enc = label_encoder(tv_df_ts)"
   ]
  },
  {
   "cell_type": "code",
   "execution_count": 120,
   "id": "5fc8ea2c-bb67-4823-ad43-21f953040f0f",
   "metadata": {},
   "outputs": [
    {
     "data": {
      "text/plain": [
       "213"
      ]
     },
     "execution_count": 120,
     "metadata": {},
     "output_type": "execute_result"
    }
   ],
   "source": [
    "len(feature_columns)"
   ]
  },
  {
   "cell_type": "code",
   "execution_count": 125,
   "id": "e062fbba-6f2d-4aab-9367-1ba0f12dc7d2",
   "metadata": {},
   "outputs": [],
   "source": [
    "X, y = df2Xy(\n",
    "    df=tv_df_ts_enc, \n",
    "    sample_col=['date'], \n",
    "#     feat_col=feature_columns, \n",
    "    target_col=['target'],\n",
    "    data_cols=feature_columns.extend(['date', 'target']),\n",
    "    steps_in_rows=True, # not the default (which is columns)\n",
    "#     to3d=False, # default\n",
    "#     splits=splits,\n",
    ")"
   ]
  },
  {
   "cell_type": "code",
   "execution_count": 126,
   "id": "29ef325c-5a85-41e1-a072-5179db429a52",
   "metadata": {},
   "outputs": [
    {
     "data": {
      "text/plain": [
       "(1461, 205, 18)"
      ]
     },
     "execution_count": 126,
     "metadata": {},
     "output_type": "execute_result"
    }
   ],
   "source": [
    "X.shape"
   ]
  },
  {
   "cell_type": "code",
   "execution_count": 113,
   "id": "2d389bdd-369d-4261-b048-89a2320598e6",
   "metadata": {},
   "outputs": [
    {
     "data": {
      "text/plain": [
       "(1461, 18)"
      ]
     },
     "execution_count": 113,
     "metadata": {},
     "output_type": "execute_result"
    }
   ],
   "source": [
    "y.shape"
   ]
  },
  {
   "cell_type": "code",
   "execution_count": 79,
   "id": "a56a1fa1-832f-46a8-9f0e-bcea50b661b5",
   "metadata": {},
   "outputs": [],
   "source": [
    "tfms = [None, [TSRegression()]]"
   ]
  },
  {
   "cell_type": "code",
   "execution_count": 80,
   "id": "91204cc2-6bea-49a8-963e-c7e1e5265777",
   "metadata": {},
   "outputs": [],
   "source": [
    "batch_tfms = TSStandardize(by_sample=True, by_var=True)"
   ]
  },
  {
   "cell_type": "code",
   "execution_count": 81,
   "id": "c74d9eab-9b28-438e-843c-639e13ffcdd2",
   "metadata": {},
   "outputs": [],
   "source": [
    "# X['date'] = X['date'].map(dt.datetime.toordinal)\n",
    "# X = np.array(X)"
   ]
  },
  {
   "cell_type": "code",
   "execution_count": null,
   "id": "061ce160-3ee9-41dd-bc01-c282c9f29544",
   "metadata": {},
   "outputs": [],
   "source": []
  },
  {
   "cell_type": "code",
   "execution_count": 152,
   "id": "6812754b-40c7-44a1-bef1-4d9c36a157e3",
   "metadata": {},
   "outputs": [
    {
     "data": {
      "text/plain": [
       "(TSTensor(samples:100, vars:24, len:144, device=cuda:0),\n",
       " tensor([19.3800, 12.6800,  5.3400, 12.7200, 13.2500, 26.2800, 13.1000, 14.0600,\n",
       "         10.9200, 10.4600, 20.7400, 21.3100, 21.4900, 10.2500, 11.4000, 10.8000,\n",
       "         11.6400, 23.4200, 11.2300, 13.5600, 14.8200, 16.5300, 19.9400, 12.7800,\n",
       "         11.4900,  9.6300, 11.5300, 12.9700, 23.0100, 11.8300, 13.3700, 12.2400,\n",
       "         14.8000, 19.0100, 12.9800, 12.0700, 10.6100, 17.3000,  8.6200,  9.6000,\n",
       "         10.2600,  9.8200, 14.6100,  5.3800, 14.6200, 19.6200, 19.2200, 16.2500,\n",
       "         16.2200,  9.1700, 15.8900, 10.8200, 18.1800, 12.0300, 11.5400, 13.2100,\n",
       "         10.5100,  7.0300, 11.6300, 16.4100, 21.6900, 21.9100, 21.7400, 17.0000,\n",
       "         22.1000, 12.6800, 10.5100, 14.9900, 10.3100, 12.5400, 16.0500, 18.5600,\n",
       "         16.7700, 11.3200, 15.6800, 16.0200, 11.9300, 20.4400, 10.8900, 22.7400,\n",
       "         10.6200, 11.9200, 17.5300, 10.1700, 11.0600, 10.6300,  9.9900, 10.1100,\n",
       "         13.2900, 14.2800, 14.7100, 13.6900, 13.8700, 17.6600,  8.7500, 17.3700,\n",
       "         20.6500, 11.4200, 10.6800, 12.4400], device='cuda:0'))"
      ]
     },
     "execution_count": 152,
     "metadata": {},
     "output_type": "execute_result"
    }
   ],
   "source": [
    "tfms  = [None, [TSRegression()]]\n",
    "batch_tfms = TSStandardize(by_sample=True, by_var=True)\n",
    "dls = get_ts_dls(X, y, splits=splits, tfms=tfms, batch_tfms=batch_tfms, bs=128)\n",
    "dls.one_batch()"
   ]
  },
  {
   "cell_type": "code",
   "execution_count": 155,
   "id": "fa026e28-f947-4db7-b434-87eabca5801c",
   "metadata": {},
   "outputs": [
    {
     "data": {
      "text/plain": [
       "(#2) [[0, 1, 2, 3, 4, 5, 6, 7, 8, 9, 10, 11, 12, 13, 14, 15, 16, 17, 18, 19, 20, 21, 22, 23, 24, 25, 26, 27, 28, 29, 30, 31, 32, 33, 34, 35, 36, 37, 38, 39, 40, 41, 42, 43, 44, 45, 46, 47, 48, 49, 50, 51, 52, 53, 54, 55, 56, 57, 58, 59, 60, 61, 62, 63, 64, 65, 66, 67, 68, 69, 70, 71, 72, 73, 74, 75, 76, 77, 78, 79, 80, 81, 82, 83, 84, 85, 86, 87, 88, 89, 90, 91, 92, 93, 94, 95, 96, 97, 98, 99],[0, 1, 2, 3, 4, 5, 6, 7, 8, 9, 10, 11, 12, 13, 14, 15, 16, 17, 18, 19, 20, 21, 22, 23, 24, 25, 26, 27, 28, 29, 30, 31, 32, 33, 34, 35, 36]]"
      ]
     },
     "execution_count": 155,
     "metadata": {},
     "output_type": "execute_result"
    }
   ],
   "source": [
    "dls.splits"
   ]
  },
  {
   "cell_type": "code",
   "execution_count": 79,
   "id": "9aa00b8f-9042-4970-8212-d35b68a8022b",
   "metadata": {},
   "outputs": [
    {
     "data": {
      "text/plain": [
       "\u001b[0;31mType:\u001b[0m        tuple\n",
       "\u001b[0;31mString form:\u001b[0m ([0, 1, 2, 3, 4, 5, 6, 7, 8, 9, 10, 11, 12, 13, 14, 15, 16, 17, 18, 19, 20, 21, 22, 23, 24, 25, 2 <...> , 118, 119, 120, 121, 122, 123, 124, 125, 126, 127, 128, 129, 130, 131, 132, 133, 134, 135, 136])\n",
       "\u001b[0;31mLength:\u001b[0m      2\n",
       "\u001b[0;31mDocstring:\u001b[0m  \n",
       "Built-in immutable sequence.\n",
       "\n",
       "If no argument is given, the constructor returns an empty tuple.\n",
       "If iterable is specified the tuple is initialized from iterable's items.\n",
       "\n",
       "If the argument is a tuple, the return value is the same object.\n"
      ]
     },
     "metadata": {},
     "output_type": "display_data"
    }
   ],
   "source": [
    "?splits"
   ]
  },
  {
   "cell_type": "code",
   "execution_count": 80,
   "id": "2f049799-435b-4532-8ac9-1a3a049c422e",
   "metadata": {},
   "outputs": [
    {
     "data": {
      "text/plain": [
       "(#95) [0,1,2,3,4,5,6,7,8,9...]"
      ]
     },
     "execution_count": 80,
     "metadata": {},
     "output_type": "execute_result"
    }
   ],
   "source": [
    "splits[0]"
   ]
  },
  {
   "cell_type": "code",
   "execution_count": 81,
   "id": "cac2172b-b245-4e97-af92-afdc408ec1fe",
   "metadata": {},
   "outputs": [
    {
     "data": {
      "text/plain": [
       "tuple"
      ]
     },
     "execution_count": 81,
     "metadata": {},
     "output_type": "execute_result"
    }
   ],
   "source": [
    "type(splits)"
   ]
  },
  {
   "cell_type": "code",
   "execution_count": 85,
   "id": "de77c15f-529d-443f-8858-fd5e5741be2c",
   "metadata": {},
   "outputs": [
    {
     "data": {
      "text/plain": [
       "\u001b[0;31mInit signature:\u001b[0m \u001b[0mL\u001b[0m\u001b[0;34m(\u001b[0m\u001b[0mitems\u001b[0m\u001b[0;34m=\u001b[0m\u001b[0;32mNone\u001b[0m\u001b[0;34m,\u001b[0m \u001b[0;34m*\u001b[0m\u001b[0mrest\u001b[0m\u001b[0;34m,\u001b[0m \u001b[0muse_list\u001b[0m\u001b[0;34m=\u001b[0m\u001b[0;32mFalse\u001b[0m\u001b[0;34m,\u001b[0m \u001b[0mmatch\u001b[0m\u001b[0;34m=\u001b[0m\u001b[0;32mNone\u001b[0m\u001b[0;34m)\u001b[0m\u001b[0;34m\u001b[0m\u001b[0;34m\u001b[0m\u001b[0m\n",
       "\u001b[0;31mDocstring:\u001b[0m      Behaves like a list of `items` but can also index with list of indices or masks\n",
       "\u001b[0;31mFile:\u001b[0m           ~/anaconda3/envs/time/lib/python3.8/site-packages/fastcore/foundation.py\n",
       "\u001b[0;31mType:\u001b[0m           _L_Meta\n",
       "\u001b[0;31mSubclasses:\u001b[0m     TfmdLists, MultiCategory, LabeledBBox\n"
      ]
     },
     "metadata": {},
     "output_type": "display_data"
    }
   ],
   "source": [
    "L?"
   ]
  },
  {
   "cell_type": "code",
   "execution_count": 82,
   "id": "40f11067-3499-41be-b927-52f4fa2c120d",
   "metadata": {},
   "outputs": [
    {
     "data": {
      "text/plain": [
       "26298"
      ]
     },
     "execution_count": 82,
     "metadata": {},
     "output_type": "execute_result"
    }
   ],
   "source": [
    "len(tv_df)"
   ]
  },
  {
   "cell_type": "code",
   "execution_count": 84,
   "id": "83e88cf6-c3cd-446e-882a-81d55b276f92",
   "metadata": {},
   "outputs": [
    {
     "data": {
      "text/plain": [
       "(19728, 6570)"
      ]
     },
     "execution_count": 84,
     "metadata": {},
     "output_type": "execute_result"
    }
   ],
   "source": [
    "len(tv_df[tv_df['date'] < '2018-01-01']), len(tv_df[tv_df['date'] >= '2018-01-01'])"
   ]
  },
  {
   "cell_type": "code",
   "execution_count": 86,
   "id": "d4572541-6df6-4e9c-ae61-207f93e0dbd3",
   "metadata": {},
   "outputs": [],
   "source": [
    "train_val_split = L(len(tv_df[tv_df['date'] < '2018-01-01']), len(tv_df[tv_df['date'] >= '2018-01-01']))"
   ]
  },
  {
   "cell_type": "code",
   "execution_count": 87,
   "id": "048ca4b5-1b4a-4b02-bbc5-d558a214abbf",
   "metadata": {},
   "outputs": [
    {
     "data": {
      "text/plain": [
       "19728"
      ]
     },
     "execution_count": 87,
     "metadata": {},
     "output_type": "execute_result"
    }
   ],
   "source": [
    "train_val_split[0]"
   ]
  },
  {
   "cell_type": "code",
   "execution_count": 90,
   "id": "add83675-62f7-440a-94eb-30ad37c14f53",
   "metadata": {},
   "outputs": [
    {
     "data": {
      "text/plain": [
       "19728"
      ]
     },
     "execution_count": 90,
     "metadata": {},
     "output_type": "execute_result"
    }
   ],
   "source": [
    "len(tuple(x for x in range(19728)))"
   ]
  },
  {
   "cell_type": "code",
   "execution_count": 93,
   "id": "04186296-5856-4857-a573-473a267ef708",
   "metadata": {},
   "outputs": [],
   "source": [
    "train_val_split = L(tuple(x for x in range(19728)), tuple(x for x in range(19728, 26298)))"
   ]
  },
  {
   "cell_type": "code",
   "execution_count": 96,
   "id": "2e91ae76-4cb5-4465-a0c4-bcd24676d2b2",
   "metadata": {},
   "outputs": [],
   "source": [
    "train_val_split = L(x for x in range(19728)), L(x for x in range(19728, 26298))"
   ]
  },
  {
   "cell_type": "code",
   "execution_count": 97,
   "id": "027d62e7-dd51-44f5-bbca-8e60fca19d3d",
   "metadata": {},
   "outputs": [
    {
     "data": {
      "text/plain": [
       "((#19728) [0,1,2,3,4,5,6,7,8,9...],\n",
       " (#6570) [19728,19729,19730,19731,19732,19733,19734,19735,19736,19737...])"
      ]
     },
     "execution_count": 97,
     "metadata": {},
     "output_type": "execute_result"
    }
   ],
   "source": [
    "train_val_split"
   ]
  },
  {
   "cell_type": "code",
   "execution_count": 98,
   "id": "5718d126-7b68-4b65-b598-3ca7e2413a2d",
   "metadata": {},
   "outputs": [
    {
     "data": {
      "text/plain": [
       "((#95) [0,1,2,3,4,5,6,7,8,9...], (#42) [95,96,97,98,99,100,101,102,103,104...])"
      ]
     },
     "execution_count": 98,
     "metadata": {},
     "output_type": "execute_result"
    }
   ],
   "source": [
    "splits"
   ]
  },
  {
   "cell_type": "code",
   "execution_count": 99,
   "id": "455332e4-8352-4205-851a-b611e074c536",
   "metadata": {},
   "outputs": [
    {
     "data": {
      "text/plain": [
       "True"
      ]
     },
     "execution_count": 99,
     "metadata": {},
     "output_type": "execute_result"
    }
   ],
   "source": [
    "'target' in tv_df.columns"
   ]
  },
  {
   "cell_type": "code",
   "execution_count": 108,
   "id": "ceb08095-4b78-4202-ae00-636ed64f5342",
   "metadata": {},
   "outputs": [],
   "source": [
    "X = tv_df.drop(columns=['target', 'num_sold'])\n",
    "y = tv_df['target']"
   ]
  },
  {
   "cell_type": "code",
   "execution_count": 101,
   "id": "1d702761-ac89-49ba-b097-63e580d9fef5",
   "metadata": {},
   "outputs": [],
   "source": [
    "tfms = [None, [TSRegression()]]"
   ]
  },
  {
   "cell_type": "code",
   "execution_count": 102,
   "id": "0f3d5e69-4cca-4e31-97ce-216fd1ff865e",
   "metadata": {},
   "outputs": [],
   "source": [
    "batch_tfms = TSStandardize(by_sample=True, by_var=True)"
   ]
  },
  {
   "cell_type": "code",
   "execution_count": 110,
   "id": "7e2befcc-9152-4d54-9953-24f0350bd274",
   "metadata": {},
   "outputs": [
    {
     "data": {
      "text/plain": [
       "date          int64\n",
       "country      object\n",
       "store        object\n",
       "product      object\n",
       "gdp         float64\n",
       "             ...   \n",
       "easter55       bool\n",
       "easter56       bool\n",
       "easter57       bool\n",
       "easter58       bool\n",
       "holiday       int64\n",
       "Length: 206, dtype: object"
      ]
     },
     "execution_count": 110,
     "metadata": {},
     "output_type": "execute_result"
    }
   ],
   "source": [
    "X.dtypes"
   ]
  },
  {
   "cell_type": "code",
   "execution_count": 111,
   "id": "f2ff40b1-d076-4945-8791-6575c5c2e611",
   "metadata": {},
   "outputs": [],
   "source": [
    "le_dict, X = label_encoder(X)"
   ]
  },
  {
   "cell_type": "code",
   "execution_count": 112,
   "id": "5949e610-f13f-4170-815d-dcab94b9a391",
   "metadata": {},
   "outputs": [
    {
     "data": {
      "text/plain": [
       "date          int64\n",
       "country       int64\n",
       "store         int64\n",
       "product       int64\n",
       "gdp         float64\n",
       "             ...   \n",
       "easter55       bool\n",
       "easter56       bool\n",
       "easter57       bool\n",
       "easter58       bool\n",
       "holiday       int64\n",
       "Length: 206, dtype: object"
      ]
     },
     "execution_count": 112,
     "metadata": {},
     "output_type": "execute_result"
    }
   ],
   "source": [
    "X.dtypes"
   ]
  },
  {
   "cell_type": "code",
   "execution_count": 116,
   "id": "e6642def-01ad-4dd7-bc60-5d2adf0af60d",
   "metadata": {},
   "outputs": [],
   "source": [
    "X_np = np.array(X).astype(np.float32)"
   ]
  },
  {
   "cell_type": "code",
   "execution_count": 120,
   "id": "8ca4c046-e676-4313-ab75-298f206af1f3",
   "metadata": {},
   "outputs": [
    {
     "data": {
      "text/plain": [
       "(26298,)"
      ]
     },
     "execution_count": 120,
     "metadata": {},
     "output_type": "execute_result"
    }
   ],
   "source": [
    "y.shape"
   ]
  },
  {
   "cell_type": "code",
   "execution_count": 123,
   "id": "bf74432c-b542-432c-81cd-4fe4b1a32eea",
   "metadata": {},
   "outputs": [
    {
     "data": {
      "text/plain": [
       "((26298, 206), (26298,))"
      ]
     },
     "execution_count": 123,
     "metadata": {},
     "output_type": "execute_result"
    }
   ],
   "source": [
    "X_np.shape, y.shape"
   ]
  },
  {
   "cell_type": "code",
   "execution_count": 124,
   "id": "ff591150-40a3-4a84-bffe-b06503f5fdf4",
   "metadata": {},
   "outputs": [],
   "source": [
    "y_np = np.array(y)"
   ]
  },
  {
   "cell_type": "code",
   "execution_count": 126,
   "id": "e01727bd-43a1-4f31-8dba-5d5920bede70",
   "metadata": {},
   "outputs": [
    {
     "data": {
      "text/plain": [
       "(26298,)"
      ]
     },
     "execution_count": 126,
     "metadata": {},
     "output_type": "execute_result"
    }
   ],
   "source": [
    "y_np.shape"
   ]
  },
  {
   "cell_type": "code",
   "execution_count": 137,
   "id": "fa10fdb9-9852-46b3-b916-4d694eac8f70",
   "metadata": {},
   "outputs": [],
   "source": [
    "dls = get_ts_dls(X_np,y_np,train_val_split, tfms=tfms, batch_tfms=batch_tfms, bs=128)"
   ]
  },
  {
   "cell_type": "code",
   "execution_count": 138,
   "id": "422541a1-d208-43b3-bc2c-d732ff2f5c33",
   "metadata": {},
   "outputs": [
    {
     "ename": "IndexError",
     "evalue": "Dimension out of range (expected to be in range of [-2, 1], but got 2)",
     "output_type": "error",
     "traceback": [
      "\u001b[0;31m---------------------------------------------------------------------------\u001b[0m",
      "\u001b[0;31mIndexError\u001b[0m                                Traceback (most recent call last)",
      "\u001b[0;32m<ipython-input-138-ccb93b9fbe07>\u001b[0m in \u001b[0;36m<module>\u001b[0;34m\u001b[0m\n\u001b[0;32m----> 1\u001b[0;31m \u001b[0mdls\u001b[0m\u001b[0;34m.\u001b[0m\u001b[0mone_batch\u001b[0m\u001b[0;34m(\u001b[0m\u001b[0;34m)\u001b[0m\u001b[0;34m\u001b[0m\u001b[0;34m\u001b[0m\u001b[0m\n\u001b[0m",
      "\u001b[0;32m~/anaconda3/envs/time/lib/python3.8/site-packages/fastai/data/load.py\u001b[0m in \u001b[0;36mone_batch\u001b[0;34m(self)\u001b[0m\n\u001b[1;32m    146\u001b[0m     \u001b[0;32mdef\u001b[0m \u001b[0mone_batch\u001b[0m\u001b[0;34m(\u001b[0m\u001b[0mself\u001b[0m\u001b[0;34m)\u001b[0m\u001b[0;34m:\u001b[0m\u001b[0;34m\u001b[0m\u001b[0;34m\u001b[0m\u001b[0m\n\u001b[1;32m    147\u001b[0m         \u001b[0;32mif\u001b[0m \u001b[0mself\u001b[0m\u001b[0;34m.\u001b[0m\u001b[0mn\u001b[0m \u001b[0;32mis\u001b[0m \u001b[0;32mnot\u001b[0m \u001b[0;32mNone\u001b[0m \u001b[0;32mand\u001b[0m \u001b[0mlen\u001b[0m\u001b[0;34m(\u001b[0m\u001b[0mself\u001b[0m\u001b[0;34m)\u001b[0m\u001b[0;34m==\u001b[0m\u001b[0;36m0\u001b[0m\u001b[0;34m:\u001b[0m \u001b[0;32mraise\u001b[0m \u001b[0mValueError\u001b[0m\u001b[0;34m(\u001b[0m\u001b[0;34mf'This DataLoader does not contain any batches'\u001b[0m\u001b[0;34m)\u001b[0m\u001b[0;34m\u001b[0m\u001b[0;34m\u001b[0m\u001b[0m\n\u001b[0;32m--> 148\u001b[0;31m         \u001b[0;32mwith\u001b[0m \u001b[0mself\u001b[0m\u001b[0;34m.\u001b[0m\u001b[0mfake_l\u001b[0m\u001b[0;34m.\u001b[0m\u001b[0mno_multiproc\u001b[0m\u001b[0;34m(\u001b[0m\u001b[0;34m)\u001b[0m\u001b[0;34m:\u001b[0m \u001b[0mres\u001b[0m \u001b[0;34m=\u001b[0m \u001b[0mfirst\u001b[0m\u001b[0;34m(\u001b[0m\u001b[0mself\u001b[0m\u001b[0;34m)\u001b[0m\u001b[0;34m\u001b[0m\u001b[0;34m\u001b[0m\u001b[0m\n\u001b[0m\u001b[1;32m    149\u001b[0m         \u001b[0;32mif\u001b[0m \u001b[0mhasattr\u001b[0m\u001b[0;34m(\u001b[0m\u001b[0mself\u001b[0m\u001b[0;34m,\u001b[0m \u001b[0;34m'it'\u001b[0m\u001b[0;34m)\u001b[0m\u001b[0;34m:\u001b[0m \u001b[0mdelattr\u001b[0m\u001b[0;34m(\u001b[0m\u001b[0mself\u001b[0m\u001b[0;34m,\u001b[0m \u001b[0;34m'it'\u001b[0m\u001b[0;34m)\u001b[0m\u001b[0;34m\u001b[0m\u001b[0;34m\u001b[0m\u001b[0m\n\u001b[1;32m    150\u001b[0m         \u001b[0;32mreturn\u001b[0m \u001b[0mres\u001b[0m\u001b[0;34m\u001b[0m\u001b[0;34m\u001b[0m\u001b[0m\n",
      "\u001b[0;32m~/anaconda3/envs/time/lib/python3.8/site-packages/fastcore/basics.py\u001b[0m in \u001b[0;36mfirst\u001b[0;34m(x, f, negate, **kwargs)\u001b[0m\n\u001b[1;32m    553\u001b[0m     \u001b[0mx\u001b[0m \u001b[0;34m=\u001b[0m \u001b[0miter\u001b[0m\u001b[0;34m(\u001b[0m\u001b[0mx\u001b[0m\u001b[0;34m)\u001b[0m\u001b[0;34m\u001b[0m\u001b[0;34m\u001b[0m\u001b[0m\n\u001b[1;32m    554\u001b[0m     \u001b[0;32mif\u001b[0m \u001b[0mf\u001b[0m\u001b[0;34m:\u001b[0m \u001b[0mx\u001b[0m \u001b[0;34m=\u001b[0m \u001b[0mfilter_ex\u001b[0m\u001b[0;34m(\u001b[0m\u001b[0mx\u001b[0m\u001b[0;34m,\u001b[0m \u001b[0mf\u001b[0m\u001b[0;34m=\u001b[0m\u001b[0mf\u001b[0m\u001b[0;34m,\u001b[0m \u001b[0mnegate\u001b[0m\u001b[0;34m=\u001b[0m\u001b[0mnegate\u001b[0m\u001b[0;34m,\u001b[0m \u001b[0mgen\u001b[0m\u001b[0;34m=\u001b[0m\u001b[0;32mTrue\u001b[0m\u001b[0;34m,\u001b[0m \u001b[0;34m**\u001b[0m\u001b[0mkwargs\u001b[0m\u001b[0;34m)\u001b[0m\u001b[0;34m\u001b[0m\u001b[0;34m\u001b[0m\u001b[0m\n\u001b[0;32m--> 555\u001b[0;31m     \u001b[0;32mreturn\u001b[0m \u001b[0mnext\u001b[0m\u001b[0;34m(\u001b[0m\u001b[0mx\u001b[0m\u001b[0;34m,\u001b[0m \u001b[0;32mNone\u001b[0m\u001b[0;34m)\u001b[0m\u001b[0;34m\u001b[0m\u001b[0;34m\u001b[0m\u001b[0m\n\u001b[0m\u001b[1;32m    556\u001b[0m \u001b[0;34m\u001b[0m\u001b[0m\n\u001b[1;32m    557\u001b[0m \u001b[0;31m# Cell\u001b[0m\u001b[0;34m\u001b[0m\u001b[0;34m\u001b[0m\u001b[0;34m\u001b[0m\u001b[0m\n",
      "\u001b[0;32m~/anaconda3/envs/time/lib/python3.8/site-packages/fastai/data/load.py\u001b[0m in \u001b[0;36m__iter__\u001b[0;34m(self)\u001b[0m\n\u001b[1;32m    109\u001b[0m         \u001b[0;32mfor\u001b[0m \u001b[0mb\u001b[0m \u001b[0;32min\u001b[0m \u001b[0m_loaders\u001b[0m\u001b[0;34m[\u001b[0m\u001b[0mself\u001b[0m\u001b[0;34m.\u001b[0m\u001b[0mfake_l\u001b[0m\u001b[0;34m.\u001b[0m\u001b[0mnum_workers\u001b[0m\u001b[0;34m==\u001b[0m\u001b[0;36m0\u001b[0m\u001b[0;34m]\u001b[0m\u001b[0;34m(\u001b[0m\u001b[0mself\u001b[0m\u001b[0;34m.\u001b[0m\u001b[0mfake_l\u001b[0m\u001b[0;34m)\u001b[0m\u001b[0;34m:\u001b[0m\u001b[0;34m\u001b[0m\u001b[0;34m\u001b[0m\u001b[0m\n\u001b[1;32m    110\u001b[0m             \u001b[0;32mif\u001b[0m \u001b[0mself\u001b[0m\u001b[0;34m.\u001b[0m\u001b[0mdevice\u001b[0m \u001b[0;32mis\u001b[0m \u001b[0;32mnot\u001b[0m \u001b[0;32mNone\u001b[0m\u001b[0;34m:\u001b[0m \u001b[0mb\u001b[0m \u001b[0;34m=\u001b[0m \u001b[0mto_device\u001b[0m\u001b[0;34m(\u001b[0m\u001b[0mb\u001b[0m\u001b[0;34m,\u001b[0m \u001b[0mself\u001b[0m\u001b[0;34m.\u001b[0m\u001b[0mdevice\u001b[0m\u001b[0;34m)\u001b[0m\u001b[0;34m\u001b[0m\u001b[0;34m\u001b[0m\u001b[0m\n\u001b[0;32m--> 111\u001b[0;31m             \u001b[0;32myield\u001b[0m \u001b[0mself\u001b[0m\u001b[0;34m.\u001b[0m\u001b[0mafter_batch\u001b[0m\u001b[0;34m(\u001b[0m\u001b[0mb\u001b[0m\u001b[0;34m)\u001b[0m\u001b[0;34m\u001b[0m\u001b[0;34m\u001b[0m\u001b[0m\n\u001b[0m\u001b[1;32m    112\u001b[0m         \u001b[0mself\u001b[0m\u001b[0;34m.\u001b[0m\u001b[0mafter_iter\u001b[0m\u001b[0;34m(\u001b[0m\u001b[0;34m)\u001b[0m\u001b[0;34m\u001b[0m\u001b[0;34m\u001b[0m\u001b[0m\n\u001b[1;32m    113\u001b[0m         \u001b[0;32mif\u001b[0m \u001b[0mhasattr\u001b[0m\u001b[0;34m(\u001b[0m\u001b[0mself\u001b[0m\u001b[0;34m,\u001b[0m \u001b[0;34m'it'\u001b[0m\u001b[0;34m)\u001b[0m\u001b[0;34m:\u001b[0m \u001b[0;32mdel\u001b[0m\u001b[0;34m(\u001b[0m\u001b[0mself\u001b[0m\u001b[0;34m.\u001b[0m\u001b[0mit\u001b[0m\u001b[0;34m)\u001b[0m\u001b[0;34m\u001b[0m\u001b[0;34m\u001b[0m\u001b[0m\n",
      "\u001b[0;32m~/anaconda3/envs/time/lib/python3.8/site-packages/fastcore/transform.py\u001b[0m in \u001b[0;36m__call__\u001b[0;34m(self, o)\u001b[0m\n\u001b[1;32m    198\u001b[0m         \u001b[0mself\u001b[0m\u001b[0;34m.\u001b[0m\u001b[0mfs\u001b[0m \u001b[0;34m=\u001b[0m \u001b[0mself\u001b[0m\u001b[0;34m.\u001b[0m\u001b[0mfs\u001b[0m\u001b[0;34m.\u001b[0m\u001b[0msorted\u001b[0m\u001b[0;34m(\u001b[0m\u001b[0mkey\u001b[0m\u001b[0;34m=\u001b[0m\u001b[0;34m'order'\u001b[0m\u001b[0;34m)\u001b[0m\u001b[0;34m\u001b[0m\u001b[0;34m\u001b[0m\u001b[0m\n\u001b[1;32m    199\u001b[0m \u001b[0;34m\u001b[0m\u001b[0m\n\u001b[0;32m--> 200\u001b[0;31m     \u001b[0;32mdef\u001b[0m \u001b[0m__call__\u001b[0m\u001b[0;34m(\u001b[0m\u001b[0mself\u001b[0m\u001b[0;34m,\u001b[0m \u001b[0mo\u001b[0m\u001b[0;34m)\u001b[0m\u001b[0;34m:\u001b[0m \u001b[0;32mreturn\u001b[0m \u001b[0mcompose_tfms\u001b[0m\u001b[0;34m(\u001b[0m\u001b[0mo\u001b[0m\u001b[0;34m,\u001b[0m \u001b[0mtfms\u001b[0m\u001b[0;34m=\u001b[0m\u001b[0mself\u001b[0m\u001b[0;34m.\u001b[0m\u001b[0mfs\u001b[0m\u001b[0;34m,\u001b[0m \u001b[0msplit_idx\u001b[0m\u001b[0;34m=\u001b[0m\u001b[0mself\u001b[0m\u001b[0;34m.\u001b[0m\u001b[0msplit_idx\u001b[0m\u001b[0;34m)\u001b[0m\u001b[0;34m\u001b[0m\u001b[0;34m\u001b[0m\u001b[0m\n\u001b[0m\u001b[1;32m    201\u001b[0m     \u001b[0;32mdef\u001b[0m \u001b[0m__repr__\u001b[0m\u001b[0;34m(\u001b[0m\u001b[0mself\u001b[0m\u001b[0;34m)\u001b[0m\u001b[0;34m:\u001b[0m \u001b[0;32mreturn\u001b[0m \u001b[0;34mf\"Pipeline: {' -> '.join([f.name for f in self.fs if f.name != 'noop'])}\"\u001b[0m\u001b[0;34m\u001b[0m\u001b[0;34m\u001b[0m\u001b[0m\n\u001b[1;32m    202\u001b[0m     \u001b[0;32mdef\u001b[0m \u001b[0m__getitem__\u001b[0m\u001b[0;34m(\u001b[0m\u001b[0mself\u001b[0m\u001b[0;34m,\u001b[0m\u001b[0mi\u001b[0m\u001b[0;34m)\u001b[0m\u001b[0;34m:\u001b[0m \u001b[0;32mreturn\u001b[0m \u001b[0mself\u001b[0m\u001b[0;34m.\u001b[0m\u001b[0mfs\u001b[0m\u001b[0;34m[\u001b[0m\u001b[0mi\u001b[0m\u001b[0;34m]\u001b[0m\u001b[0;34m\u001b[0m\u001b[0;34m\u001b[0m\u001b[0m\n",
      "\u001b[0;32m~/anaconda3/envs/time/lib/python3.8/site-packages/fastcore/transform.py\u001b[0m in \u001b[0;36mcompose_tfms\u001b[0;34m(x, tfms, is_enc, reverse, **kwargs)\u001b[0m\n\u001b[1;32m    148\u001b[0m     \u001b[0;32mfor\u001b[0m \u001b[0mf\u001b[0m \u001b[0;32min\u001b[0m \u001b[0mtfms\u001b[0m\u001b[0;34m:\u001b[0m\u001b[0;34m\u001b[0m\u001b[0;34m\u001b[0m\u001b[0m\n\u001b[1;32m    149\u001b[0m         \u001b[0;32mif\u001b[0m \u001b[0;32mnot\u001b[0m \u001b[0mis_enc\u001b[0m\u001b[0;34m:\u001b[0m \u001b[0mf\u001b[0m \u001b[0;34m=\u001b[0m \u001b[0mf\u001b[0m\u001b[0;34m.\u001b[0m\u001b[0mdecode\u001b[0m\u001b[0;34m\u001b[0m\u001b[0;34m\u001b[0m\u001b[0m\n\u001b[0;32m--> 150\u001b[0;31m         \u001b[0mx\u001b[0m \u001b[0;34m=\u001b[0m \u001b[0mf\u001b[0m\u001b[0;34m(\u001b[0m\u001b[0mx\u001b[0m\u001b[0;34m,\u001b[0m \u001b[0;34m**\u001b[0m\u001b[0mkwargs\u001b[0m\u001b[0;34m)\u001b[0m\u001b[0;34m\u001b[0m\u001b[0;34m\u001b[0m\u001b[0m\n\u001b[0m\u001b[1;32m    151\u001b[0m     \u001b[0;32mreturn\u001b[0m \u001b[0mx\u001b[0m\u001b[0;34m\u001b[0m\u001b[0;34m\u001b[0m\u001b[0m\n\u001b[1;32m    152\u001b[0m \u001b[0;34m\u001b[0m\u001b[0m\n",
      "\u001b[0;32m~/anaconda3/envs/time/lib/python3.8/site-packages/fastcore/transform.py\u001b[0m in \u001b[0;36m__call__\u001b[0;34m(self, x, **kwargs)\u001b[0m\n\u001b[1;32m     71\u001b[0m     \u001b[0;34m@\u001b[0m\u001b[0mproperty\u001b[0m\u001b[0;34m\u001b[0m\u001b[0;34m\u001b[0m\u001b[0m\n\u001b[1;32m     72\u001b[0m     \u001b[0;32mdef\u001b[0m \u001b[0mname\u001b[0m\u001b[0;34m(\u001b[0m\u001b[0mself\u001b[0m\u001b[0;34m)\u001b[0m\u001b[0;34m:\u001b[0m \u001b[0;32mreturn\u001b[0m \u001b[0mgetattr\u001b[0m\u001b[0;34m(\u001b[0m\u001b[0mself\u001b[0m\u001b[0;34m,\u001b[0m \u001b[0;34m'_name'\u001b[0m\u001b[0;34m,\u001b[0m \u001b[0m_get_name\u001b[0m\u001b[0;34m(\u001b[0m\u001b[0mself\u001b[0m\u001b[0;34m)\u001b[0m\u001b[0;34m)\u001b[0m\u001b[0;34m\u001b[0m\u001b[0;34m\u001b[0m\u001b[0m\n\u001b[0;32m---> 73\u001b[0;31m     \u001b[0;32mdef\u001b[0m \u001b[0m__call__\u001b[0m\u001b[0;34m(\u001b[0m\u001b[0mself\u001b[0m\u001b[0;34m,\u001b[0m \u001b[0mx\u001b[0m\u001b[0;34m,\u001b[0m \u001b[0;34m**\u001b[0m\u001b[0mkwargs\u001b[0m\u001b[0;34m)\u001b[0m\u001b[0;34m:\u001b[0m \u001b[0;32mreturn\u001b[0m \u001b[0mself\u001b[0m\u001b[0;34m.\u001b[0m\u001b[0m_call\u001b[0m\u001b[0;34m(\u001b[0m\u001b[0;34m'encodes'\u001b[0m\u001b[0;34m,\u001b[0m \u001b[0mx\u001b[0m\u001b[0;34m,\u001b[0m \u001b[0;34m**\u001b[0m\u001b[0mkwargs\u001b[0m\u001b[0;34m)\u001b[0m\u001b[0;34m\u001b[0m\u001b[0;34m\u001b[0m\u001b[0m\n\u001b[0m\u001b[1;32m     74\u001b[0m     \u001b[0;32mdef\u001b[0m \u001b[0mdecode\u001b[0m  \u001b[0;34m(\u001b[0m\u001b[0mself\u001b[0m\u001b[0;34m,\u001b[0m \u001b[0mx\u001b[0m\u001b[0;34m,\u001b[0m \u001b[0;34m**\u001b[0m\u001b[0mkwargs\u001b[0m\u001b[0;34m)\u001b[0m\u001b[0;34m:\u001b[0m \u001b[0;32mreturn\u001b[0m \u001b[0mself\u001b[0m\u001b[0;34m.\u001b[0m\u001b[0m_call\u001b[0m\u001b[0;34m(\u001b[0m\u001b[0;34m'decodes'\u001b[0m\u001b[0;34m,\u001b[0m \u001b[0mx\u001b[0m\u001b[0;34m,\u001b[0m \u001b[0;34m**\u001b[0m\u001b[0mkwargs\u001b[0m\u001b[0;34m)\u001b[0m\u001b[0;34m\u001b[0m\u001b[0;34m\u001b[0m\u001b[0m\n\u001b[1;32m     75\u001b[0m     \u001b[0;32mdef\u001b[0m \u001b[0m__repr__\u001b[0m\u001b[0;34m(\u001b[0m\u001b[0mself\u001b[0m\u001b[0;34m)\u001b[0m\u001b[0;34m:\u001b[0m \u001b[0;32mreturn\u001b[0m \u001b[0;34mf'{self.name}:\\nencodes: {self.encodes}decodes: {self.decodes}'\u001b[0m\u001b[0;34m\u001b[0m\u001b[0;34m\u001b[0m\u001b[0m\n",
      "\u001b[0;32m~/anaconda3/envs/time/lib/python3.8/site-packages/fastcore/transform.py\u001b[0m in \u001b[0;36m_call\u001b[0;34m(self, fn, x, split_idx, **kwargs)\u001b[0m\n\u001b[1;32m     81\u001b[0m     \u001b[0;32mdef\u001b[0m \u001b[0m_call\u001b[0m\u001b[0;34m(\u001b[0m\u001b[0mself\u001b[0m\u001b[0;34m,\u001b[0m \u001b[0mfn\u001b[0m\u001b[0;34m,\u001b[0m \u001b[0mx\u001b[0m\u001b[0;34m,\u001b[0m \u001b[0msplit_idx\u001b[0m\u001b[0;34m=\u001b[0m\u001b[0;32mNone\u001b[0m\u001b[0;34m,\u001b[0m \u001b[0;34m**\u001b[0m\u001b[0mkwargs\u001b[0m\u001b[0;34m)\u001b[0m\u001b[0;34m:\u001b[0m\u001b[0;34m\u001b[0m\u001b[0;34m\u001b[0m\u001b[0m\n\u001b[1;32m     82\u001b[0m         \u001b[0;32mif\u001b[0m \u001b[0msplit_idx\u001b[0m\u001b[0;34m!=\u001b[0m\u001b[0mself\u001b[0m\u001b[0;34m.\u001b[0m\u001b[0msplit_idx\u001b[0m \u001b[0;32mand\u001b[0m \u001b[0mself\u001b[0m\u001b[0;34m.\u001b[0m\u001b[0msplit_idx\u001b[0m \u001b[0;32mis\u001b[0m \u001b[0;32mnot\u001b[0m \u001b[0;32mNone\u001b[0m\u001b[0;34m:\u001b[0m \u001b[0;32mreturn\u001b[0m \u001b[0mx\u001b[0m\u001b[0;34m\u001b[0m\u001b[0;34m\u001b[0m\u001b[0m\n\u001b[0;32m---> 83\u001b[0;31m         \u001b[0;32mreturn\u001b[0m \u001b[0mself\u001b[0m\u001b[0;34m.\u001b[0m\u001b[0m_do_call\u001b[0m\u001b[0;34m(\u001b[0m\u001b[0mgetattr\u001b[0m\u001b[0;34m(\u001b[0m\u001b[0mself\u001b[0m\u001b[0;34m,\u001b[0m \u001b[0mfn\u001b[0m\u001b[0;34m)\u001b[0m\u001b[0;34m,\u001b[0m \u001b[0mx\u001b[0m\u001b[0;34m,\u001b[0m \u001b[0;34m**\u001b[0m\u001b[0mkwargs\u001b[0m\u001b[0;34m)\u001b[0m\u001b[0;34m\u001b[0m\u001b[0;34m\u001b[0m\u001b[0m\n\u001b[0m\u001b[1;32m     84\u001b[0m \u001b[0;34m\u001b[0m\u001b[0m\n\u001b[1;32m     85\u001b[0m     \u001b[0;32mdef\u001b[0m \u001b[0m_do_call\u001b[0m\u001b[0;34m(\u001b[0m\u001b[0mself\u001b[0m\u001b[0;34m,\u001b[0m \u001b[0mf\u001b[0m\u001b[0;34m,\u001b[0m \u001b[0mx\u001b[0m\u001b[0;34m,\u001b[0m \u001b[0;34m**\u001b[0m\u001b[0mkwargs\u001b[0m\u001b[0;34m)\u001b[0m\u001b[0;34m:\u001b[0m\u001b[0;34m\u001b[0m\u001b[0;34m\u001b[0m\u001b[0m\n",
      "\u001b[0;32m~/anaconda3/envs/time/lib/python3.8/site-packages/fastcore/transform.py\u001b[0m in \u001b[0;36m_do_call\u001b[0;34m(self, f, x, **kwargs)\u001b[0m\n\u001b[1;32m     88\u001b[0m             \u001b[0mret\u001b[0m \u001b[0;34m=\u001b[0m \u001b[0mf\u001b[0m\u001b[0;34m.\u001b[0m\u001b[0mreturns\u001b[0m\u001b[0;34m(\u001b[0m\u001b[0mx\u001b[0m\u001b[0;34m)\u001b[0m \u001b[0;32mif\u001b[0m \u001b[0mhasattr\u001b[0m\u001b[0;34m(\u001b[0m\u001b[0mf\u001b[0m\u001b[0;34m,\u001b[0m\u001b[0;34m'returns'\u001b[0m\u001b[0;34m)\u001b[0m \u001b[0;32melse\u001b[0m \u001b[0;32mNone\u001b[0m\u001b[0;34m\u001b[0m\u001b[0;34m\u001b[0m\u001b[0m\n\u001b[1;32m     89\u001b[0m             \u001b[0;32mreturn\u001b[0m \u001b[0mretain_type\u001b[0m\u001b[0;34m(\u001b[0m\u001b[0mf\u001b[0m\u001b[0;34m(\u001b[0m\u001b[0mx\u001b[0m\u001b[0;34m,\u001b[0m \u001b[0;34m**\u001b[0m\u001b[0mkwargs\u001b[0m\u001b[0;34m)\u001b[0m\u001b[0;34m,\u001b[0m \u001b[0mx\u001b[0m\u001b[0;34m,\u001b[0m \u001b[0mret\u001b[0m\u001b[0;34m)\u001b[0m\u001b[0;34m\u001b[0m\u001b[0;34m\u001b[0m\u001b[0m\n\u001b[0;32m---> 90\u001b[0;31m         \u001b[0mres\u001b[0m \u001b[0;34m=\u001b[0m \u001b[0mtuple\u001b[0m\u001b[0;34m(\u001b[0m\u001b[0mself\u001b[0m\u001b[0;34m.\u001b[0m\u001b[0m_do_call\u001b[0m\u001b[0;34m(\u001b[0m\u001b[0mf\u001b[0m\u001b[0;34m,\u001b[0m \u001b[0mx_\u001b[0m\u001b[0;34m,\u001b[0m \u001b[0;34m**\u001b[0m\u001b[0mkwargs\u001b[0m\u001b[0;34m)\u001b[0m \u001b[0;32mfor\u001b[0m \u001b[0mx_\u001b[0m \u001b[0;32min\u001b[0m \u001b[0mx\u001b[0m\u001b[0;34m)\u001b[0m\u001b[0;34m\u001b[0m\u001b[0;34m\u001b[0m\u001b[0m\n\u001b[0m\u001b[1;32m     91\u001b[0m         \u001b[0;32mreturn\u001b[0m \u001b[0mretain_type\u001b[0m\u001b[0;34m(\u001b[0m\u001b[0mres\u001b[0m\u001b[0;34m,\u001b[0m \u001b[0mx\u001b[0m\u001b[0;34m)\u001b[0m\u001b[0;34m\u001b[0m\u001b[0;34m\u001b[0m\u001b[0m\n\u001b[1;32m     92\u001b[0m \u001b[0;34m\u001b[0m\u001b[0m\n",
      "\u001b[0;32m~/anaconda3/envs/time/lib/python3.8/site-packages/fastcore/transform.py\u001b[0m in \u001b[0;36m<genexpr>\u001b[0;34m(.0)\u001b[0m\n\u001b[1;32m     88\u001b[0m             \u001b[0mret\u001b[0m \u001b[0;34m=\u001b[0m \u001b[0mf\u001b[0m\u001b[0;34m.\u001b[0m\u001b[0mreturns\u001b[0m\u001b[0;34m(\u001b[0m\u001b[0mx\u001b[0m\u001b[0;34m)\u001b[0m \u001b[0;32mif\u001b[0m \u001b[0mhasattr\u001b[0m\u001b[0;34m(\u001b[0m\u001b[0mf\u001b[0m\u001b[0;34m,\u001b[0m\u001b[0;34m'returns'\u001b[0m\u001b[0;34m)\u001b[0m \u001b[0;32melse\u001b[0m \u001b[0;32mNone\u001b[0m\u001b[0;34m\u001b[0m\u001b[0;34m\u001b[0m\u001b[0m\n\u001b[1;32m     89\u001b[0m             \u001b[0;32mreturn\u001b[0m \u001b[0mretain_type\u001b[0m\u001b[0;34m(\u001b[0m\u001b[0mf\u001b[0m\u001b[0;34m(\u001b[0m\u001b[0mx\u001b[0m\u001b[0;34m,\u001b[0m \u001b[0;34m**\u001b[0m\u001b[0mkwargs\u001b[0m\u001b[0;34m)\u001b[0m\u001b[0;34m,\u001b[0m \u001b[0mx\u001b[0m\u001b[0;34m,\u001b[0m \u001b[0mret\u001b[0m\u001b[0;34m)\u001b[0m\u001b[0;34m\u001b[0m\u001b[0;34m\u001b[0m\u001b[0m\n\u001b[0;32m---> 90\u001b[0;31m         \u001b[0mres\u001b[0m \u001b[0;34m=\u001b[0m \u001b[0mtuple\u001b[0m\u001b[0;34m(\u001b[0m\u001b[0mself\u001b[0m\u001b[0;34m.\u001b[0m\u001b[0m_do_call\u001b[0m\u001b[0;34m(\u001b[0m\u001b[0mf\u001b[0m\u001b[0;34m,\u001b[0m \u001b[0mx_\u001b[0m\u001b[0;34m,\u001b[0m \u001b[0;34m**\u001b[0m\u001b[0mkwargs\u001b[0m\u001b[0;34m)\u001b[0m \u001b[0;32mfor\u001b[0m \u001b[0mx_\u001b[0m \u001b[0;32min\u001b[0m \u001b[0mx\u001b[0m\u001b[0;34m)\u001b[0m\u001b[0;34m\u001b[0m\u001b[0;34m\u001b[0m\u001b[0m\n\u001b[0m\u001b[1;32m     91\u001b[0m         \u001b[0;32mreturn\u001b[0m \u001b[0mretain_type\u001b[0m\u001b[0;34m(\u001b[0m\u001b[0mres\u001b[0m\u001b[0;34m,\u001b[0m \u001b[0mx\u001b[0m\u001b[0;34m)\u001b[0m\u001b[0;34m\u001b[0m\u001b[0;34m\u001b[0m\u001b[0m\n\u001b[1;32m     92\u001b[0m \u001b[0;34m\u001b[0m\u001b[0m\n",
      "\u001b[0;32m~/anaconda3/envs/time/lib/python3.8/site-packages/fastcore/transform.py\u001b[0m in \u001b[0;36m_do_call\u001b[0;34m(self, f, x, **kwargs)\u001b[0m\n\u001b[1;32m     87\u001b[0m             \u001b[0;32mif\u001b[0m \u001b[0mf\u001b[0m \u001b[0;32mis\u001b[0m \u001b[0;32mNone\u001b[0m\u001b[0;34m:\u001b[0m \u001b[0;32mreturn\u001b[0m \u001b[0mx\u001b[0m\u001b[0;34m\u001b[0m\u001b[0;34m\u001b[0m\u001b[0m\n\u001b[1;32m     88\u001b[0m             \u001b[0mret\u001b[0m \u001b[0;34m=\u001b[0m \u001b[0mf\u001b[0m\u001b[0;34m.\u001b[0m\u001b[0mreturns\u001b[0m\u001b[0;34m(\u001b[0m\u001b[0mx\u001b[0m\u001b[0;34m)\u001b[0m \u001b[0;32mif\u001b[0m \u001b[0mhasattr\u001b[0m\u001b[0;34m(\u001b[0m\u001b[0mf\u001b[0m\u001b[0;34m,\u001b[0m\u001b[0;34m'returns'\u001b[0m\u001b[0;34m)\u001b[0m \u001b[0;32melse\u001b[0m \u001b[0;32mNone\u001b[0m\u001b[0;34m\u001b[0m\u001b[0;34m\u001b[0m\u001b[0m\n\u001b[0;32m---> 89\u001b[0;31m             \u001b[0;32mreturn\u001b[0m \u001b[0mretain_type\u001b[0m\u001b[0;34m(\u001b[0m\u001b[0mf\u001b[0m\u001b[0;34m(\u001b[0m\u001b[0mx\u001b[0m\u001b[0;34m,\u001b[0m \u001b[0;34m**\u001b[0m\u001b[0mkwargs\u001b[0m\u001b[0;34m)\u001b[0m\u001b[0;34m,\u001b[0m \u001b[0mx\u001b[0m\u001b[0;34m,\u001b[0m \u001b[0mret\u001b[0m\u001b[0;34m)\u001b[0m\u001b[0;34m\u001b[0m\u001b[0;34m\u001b[0m\u001b[0m\n\u001b[0m\u001b[1;32m     90\u001b[0m         \u001b[0mres\u001b[0m \u001b[0;34m=\u001b[0m \u001b[0mtuple\u001b[0m\u001b[0;34m(\u001b[0m\u001b[0mself\u001b[0m\u001b[0;34m.\u001b[0m\u001b[0m_do_call\u001b[0m\u001b[0;34m(\u001b[0m\u001b[0mf\u001b[0m\u001b[0;34m,\u001b[0m \u001b[0mx_\u001b[0m\u001b[0;34m,\u001b[0m \u001b[0;34m**\u001b[0m\u001b[0mkwargs\u001b[0m\u001b[0;34m)\u001b[0m \u001b[0;32mfor\u001b[0m \u001b[0mx_\u001b[0m \u001b[0;32min\u001b[0m \u001b[0mx\u001b[0m\u001b[0;34m)\u001b[0m\u001b[0;34m\u001b[0m\u001b[0;34m\u001b[0m\u001b[0m\n\u001b[1;32m     91\u001b[0m         \u001b[0;32mreturn\u001b[0m \u001b[0mretain_type\u001b[0m\u001b[0;34m(\u001b[0m\u001b[0mres\u001b[0m\u001b[0;34m,\u001b[0m \u001b[0mx\u001b[0m\u001b[0;34m)\u001b[0m\u001b[0;34m\u001b[0m\u001b[0;34m\u001b[0m\u001b[0m\n",
      "\u001b[0;32m~/anaconda3/envs/time/lib/python3.8/site-packages/fastcore/dispatch.py\u001b[0m in \u001b[0;36m__call__\u001b[0;34m(self, *args, **kwargs)\u001b[0m\n\u001b[1;32m    116\u001b[0m         \u001b[0;32melif\u001b[0m \u001b[0mself\u001b[0m\u001b[0;34m.\u001b[0m\u001b[0minst\u001b[0m \u001b[0;32mis\u001b[0m \u001b[0;32mnot\u001b[0m \u001b[0;32mNone\u001b[0m\u001b[0;34m:\u001b[0m \u001b[0mf\u001b[0m \u001b[0;34m=\u001b[0m \u001b[0mMethodType\u001b[0m\u001b[0;34m(\u001b[0m\u001b[0mf\u001b[0m\u001b[0;34m,\u001b[0m \u001b[0mself\u001b[0m\u001b[0;34m.\u001b[0m\u001b[0minst\u001b[0m\u001b[0;34m)\u001b[0m\u001b[0;34m\u001b[0m\u001b[0;34m\u001b[0m\u001b[0m\n\u001b[1;32m    117\u001b[0m         \u001b[0;32melif\u001b[0m \u001b[0mself\u001b[0m\u001b[0;34m.\u001b[0m\u001b[0mowner\u001b[0m \u001b[0;32mis\u001b[0m \u001b[0;32mnot\u001b[0m \u001b[0;32mNone\u001b[0m\u001b[0;34m:\u001b[0m \u001b[0mf\u001b[0m \u001b[0;34m=\u001b[0m \u001b[0mMethodType\u001b[0m\u001b[0;34m(\u001b[0m\u001b[0mf\u001b[0m\u001b[0;34m,\u001b[0m \u001b[0mself\u001b[0m\u001b[0;34m.\u001b[0m\u001b[0mowner\u001b[0m\u001b[0;34m)\u001b[0m\u001b[0;34m\u001b[0m\u001b[0;34m\u001b[0m\u001b[0m\n\u001b[0;32m--> 118\u001b[0;31m         \u001b[0;32mreturn\u001b[0m \u001b[0mf\u001b[0m\u001b[0;34m(\u001b[0m\u001b[0;34m*\u001b[0m\u001b[0margs\u001b[0m\u001b[0;34m,\u001b[0m \u001b[0;34m**\u001b[0m\u001b[0mkwargs\u001b[0m\u001b[0;34m)\u001b[0m\u001b[0;34m\u001b[0m\u001b[0;34m\u001b[0m\u001b[0m\n\u001b[0m\u001b[1;32m    119\u001b[0m \u001b[0;34m\u001b[0m\u001b[0m\n\u001b[1;32m    120\u001b[0m     \u001b[0;32mdef\u001b[0m \u001b[0m__get__\u001b[0m\u001b[0;34m(\u001b[0m\u001b[0mself\u001b[0m\u001b[0;34m,\u001b[0m \u001b[0minst\u001b[0m\u001b[0;34m,\u001b[0m \u001b[0mowner\u001b[0m\u001b[0;34m)\u001b[0m\u001b[0;34m:\u001b[0m\u001b[0;34m\u001b[0m\u001b[0;34m\u001b[0m\u001b[0m\n",
      "\u001b[0;32m~/anaconda3/envs/time/lib/python3.8/site-packages/tsai/data/preprocessing.py\u001b[0m in \u001b[0;36mencodes\u001b[0;34m(self, o)\u001b[0m\n\u001b[1;32m    153\u001b[0m                     \u001b[0mstd\u001b[0m\u001b[0;34m[\u001b[0m\u001b[0;34m:\u001b[0m\u001b[0;34m,\u001b[0m \u001b[0mv\u001b[0m\u001b[0;34m]\u001b[0m \u001b[0;34m=\u001b[0m \u001b[0mtorch\u001b[0m\u001b[0;34m.\u001b[0m\u001b[0mclamp_min\u001b[0m\u001b[0;34m(\u001b[0m\u001b[0mtorch_nanstd\u001b[0m\u001b[0;34m(\u001b[0m\u001b[0mo\u001b[0m\u001b[0;34m[\u001b[0m\u001b[0;34m:\u001b[0m\u001b[0;34m,\u001b[0m \u001b[0mv\u001b[0m\u001b[0;34m]\u001b[0m\u001b[0;34m,\u001b[0m \u001b[0mdim\u001b[0m\u001b[0;34m=\u001b[0m\u001b[0mself\u001b[0m\u001b[0;34m.\u001b[0m\u001b[0maxes\u001b[0m \u001b[0;32mif\u001b[0m \u001b[0mlen\u001b[0m\u001b[0;34m(\u001b[0m\u001b[0mv\u001b[0m\u001b[0;34m)\u001b[0m \u001b[0;34m==\u001b[0m \u001b[0;36m1\u001b[0m \u001b[0;32melse\u001b[0m \u001b[0mself\u001b[0m\u001b[0;34m.\u001b[0m\u001b[0mlist_axes\u001b[0m\u001b[0;34m,\u001b[0m \u001b[0mkeepdim\u001b[0m\u001b[0;34m=\u001b[0m\u001b[0;32mTrue\u001b[0m\u001b[0;34m)\u001b[0m\u001b[0;34m,\u001b[0m \u001b[0mself\u001b[0m\u001b[0;34m.\u001b[0m\u001b[0meps\u001b[0m\u001b[0;34m)\u001b[0m\u001b[0;34m\u001b[0m\u001b[0;34m\u001b[0m\u001b[0m\n\u001b[1;32m    154\u001b[0m             \u001b[0;32melse\u001b[0m\u001b[0;34m:\u001b[0m\u001b[0;34m\u001b[0m\u001b[0;34m\u001b[0m\u001b[0m\n\u001b[0;32m--> 155\u001b[0;31m                 \u001b[0mmean\u001b[0m \u001b[0;34m=\u001b[0m \u001b[0mtorch_nanmean\u001b[0m\u001b[0;34m(\u001b[0m\u001b[0mo\u001b[0m\u001b[0;34m,\u001b[0m \u001b[0mdim\u001b[0m\u001b[0;34m=\u001b[0m\u001b[0mself\u001b[0m\u001b[0;34m.\u001b[0m\u001b[0maxes\u001b[0m\u001b[0;34m,\u001b[0m \u001b[0mkeepdim\u001b[0m\u001b[0;34m=\u001b[0m\u001b[0mself\u001b[0m\u001b[0;34m.\u001b[0m\u001b[0maxes\u001b[0m\u001b[0;34m!=\u001b[0m\u001b[0;34m(\u001b[0m\u001b[0;34m)\u001b[0m\u001b[0;34m)\u001b[0m\u001b[0;34m\u001b[0m\u001b[0;34m\u001b[0m\u001b[0m\n\u001b[0m\u001b[1;32m    156\u001b[0m                 \u001b[0mstd\u001b[0m \u001b[0;34m=\u001b[0m \u001b[0mtorch\u001b[0m\u001b[0;34m.\u001b[0m\u001b[0mclamp_min\u001b[0m\u001b[0;34m(\u001b[0m\u001b[0mtorch_nanstd\u001b[0m\u001b[0;34m(\u001b[0m\u001b[0mo\u001b[0m\u001b[0;34m,\u001b[0m \u001b[0mdim\u001b[0m\u001b[0;34m=\u001b[0m\u001b[0mself\u001b[0m\u001b[0;34m.\u001b[0m\u001b[0maxes\u001b[0m\u001b[0;34m,\u001b[0m \u001b[0mkeepdim\u001b[0m\u001b[0;34m=\u001b[0m\u001b[0mself\u001b[0m\u001b[0;34m.\u001b[0m\u001b[0maxes\u001b[0m\u001b[0;34m!=\u001b[0m\u001b[0;34m(\u001b[0m\u001b[0;34m)\u001b[0m\u001b[0;34m)\u001b[0m\u001b[0;34m,\u001b[0m \u001b[0mself\u001b[0m\u001b[0;34m.\u001b[0m\u001b[0meps\u001b[0m\u001b[0;34m)\u001b[0m\u001b[0;34m\u001b[0m\u001b[0;34m\u001b[0m\u001b[0m\n\u001b[1;32m    157\u001b[0m             \u001b[0mself\u001b[0m\u001b[0;34m.\u001b[0m\u001b[0mmean\u001b[0m\u001b[0;34m,\u001b[0m \u001b[0mself\u001b[0m\u001b[0;34m.\u001b[0m\u001b[0mstd\u001b[0m \u001b[0;34m=\u001b[0m \u001b[0mmean\u001b[0m\u001b[0;34m,\u001b[0m \u001b[0mstd\u001b[0m\u001b[0;34m\u001b[0m\u001b[0;34m\u001b[0m\u001b[0m\n",
      "\u001b[0;32m~/anaconda3/envs/time/lib/python3.8/site-packages/tsai/utils.py\u001b[0m in \u001b[0;36mtorch_nanmean\u001b[0;34m(o, dim, keepdim)\u001b[0m\n\u001b[1;32m    624\u001b[0m         \u001b[0;32mreturn\u001b[0m \u001b[0moutput\u001b[0m\u001b[0;34m\u001b[0m\u001b[0;34m\u001b[0m\u001b[0m\n\u001b[1;32m    625\u001b[0m     \u001b[0;32melse\u001b[0m\u001b[0;34m:\u001b[0m\u001b[0;34m\u001b[0m\u001b[0;34m\u001b[0m\u001b[0m\n\u001b[0;32m--> 626\u001b[0;31m         \u001b[0;32mreturn\u001b[0m \u001b[0mtorch\u001b[0m\u001b[0;34m.\u001b[0m\u001b[0mmean\u001b[0m\u001b[0;34m(\u001b[0m\u001b[0mo\u001b[0m\u001b[0;34m,\u001b[0m \u001b[0mdim\u001b[0m\u001b[0;34m=\u001b[0m\u001b[0mdim\u001b[0m\u001b[0;34m,\u001b[0m \u001b[0mkeepdim\u001b[0m\u001b[0;34m=\u001b[0m\u001b[0mkeepdim\u001b[0m\u001b[0;34m)\u001b[0m \u001b[0;32mif\u001b[0m \u001b[0mdim\u001b[0m \u001b[0;32mis\u001b[0m \u001b[0;32mnot\u001b[0m \u001b[0;32mNone\u001b[0m \u001b[0;32melse\u001b[0m \u001b[0mtorch\u001b[0m\u001b[0;34m.\u001b[0m\u001b[0mmean\u001b[0m\u001b[0;34m(\u001b[0m\u001b[0mo\u001b[0m\u001b[0;34m)\u001b[0m\u001b[0;34m\u001b[0m\u001b[0;34m\u001b[0m\u001b[0m\n\u001b[0m\u001b[1;32m    627\u001b[0m \u001b[0;34m\u001b[0m\u001b[0m\n\u001b[1;32m    628\u001b[0m \u001b[0;34m\u001b[0m\u001b[0m\n",
      "\u001b[0;32m~/anaconda3/envs/time/lib/python3.8/site-packages/fastai/torch_core.py\u001b[0m in \u001b[0;36m__torch_function__\u001b[0;34m(self, func, types, args, kwargs)\u001b[0m\n\u001b[1;32m    338\u001b[0m         \u001b[0mconvert\u001b[0m\u001b[0;34m=\u001b[0m\u001b[0;32mFalse\u001b[0m\u001b[0;34m\u001b[0m\u001b[0;34m\u001b[0m\u001b[0m\n\u001b[1;32m    339\u001b[0m         \u001b[0;32mif\u001b[0m \u001b[0m_torch_handled\u001b[0m\u001b[0;34m(\u001b[0m\u001b[0margs\u001b[0m\u001b[0;34m,\u001b[0m \u001b[0mself\u001b[0m\u001b[0;34m.\u001b[0m\u001b[0m_opt\u001b[0m\u001b[0;34m,\u001b[0m \u001b[0mfunc\u001b[0m\u001b[0;34m)\u001b[0m\u001b[0;34m:\u001b[0m \u001b[0mconvert\u001b[0m\u001b[0;34m,\u001b[0m\u001b[0mtypes\u001b[0m \u001b[0;34m=\u001b[0m \u001b[0mtype\u001b[0m\u001b[0;34m(\u001b[0m\u001b[0mself\u001b[0m\u001b[0;34m)\u001b[0m\u001b[0;34m,\u001b[0m\u001b[0;34m(\u001b[0m\u001b[0mtorch\u001b[0m\u001b[0;34m.\u001b[0m\u001b[0mTensor\u001b[0m\u001b[0;34m,\u001b[0m\u001b[0;34m)\u001b[0m\u001b[0;34m\u001b[0m\u001b[0;34m\u001b[0m\u001b[0m\n\u001b[0;32m--> 340\u001b[0;31m         \u001b[0mres\u001b[0m \u001b[0;34m=\u001b[0m \u001b[0msuper\u001b[0m\u001b[0;34m(\u001b[0m\u001b[0;34m)\u001b[0m\u001b[0;34m.\u001b[0m\u001b[0m__torch_function__\u001b[0m\u001b[0;34m(\u001b[0m\u001b[0mfunc\u001b[0m\u001b[0;34m,\u001b[0m \u001b[0mtypes\u001b[0m\u001b[0;34m,\u001b[0m \u001b[0margs\u001b[0m\u001b[0;34m=\u001b[0m\u001b[0margs\u001b[0m\u001b[0;34m,\u001b[0m \u001b[0mkwargs\u001b[0m\u001b[0;34m=\u001b[0m\u001b[0mkwargs\u001b[0m\u001b[0;34m)\u001b[0m\u001b[0;34m\u001b[0m\u001b[0;34m\u001b[0m\u001b[0m\n\u001b[0m\u001b[1;32m    341\u001b[0m         \u001b[0;32mif\u001b[0m \u001b[0mconvert\u001b[0m\u001b[0;34m:\u001b[0m \u001b[0mres\u001b[0m \u001b[0;34m=\u001b[0m \u001b[0mconvert\u001b[0m\u001b[0;34m(\u001b[0m\u001b[0mres\u001b[0m\u001b[0;34m)\u001b[0m\u001b[0;34m\u001b[0m\u001b[0;34m\u001b[0m\u001b[0m\n\u001b[1;32m    342\u001b[0m         \u001b[0;32mif\u001b[0m \u001b[0misinstance\u001b[0m\u001b[0;34m(\u001b[0m\u001b[0mres\u001b[0m\u001b[0;34m,\u001b[0m \u001b[0mTensorBase\u001b[0m\u001b[0;34m)\u001b[0m\u001b[0;34m:\u001b[0m \u001b[0mres\u001b[0m\u001b[0;34m.\u001b[0m\u001b[0mset_meta\u001b[0m\u001b[0;34m(\u001b[0m\u001b[0mself\u001b[0m\u001b[0;34m,\u001b[0m \u001b[0mas_copy\u001b[0m\u001b[0;34m=\u001b[0m\u001b[0;32mTrue\u001b[0m\u001b[0;34m)\u001b[0m\u001b[0;34m\u001b[0m\u001b[0;34m\u001b[0m\u001b[0m\n",
      "\u001b[0;32m~/anaconda3/envs/time/lib/python3.8/site-packages/torch/tensor.py\u001b[0m in \u001b[0;36m__torch_function__\u001b[0;34m(cls, func, types, args, kwargs)\u001b[0m\n\u001b[1;32m    960\u001b[0m \u001b[0;34m\u001b[0m\u001b[0m\n\u001b[1;32m    961\u001b[0m         \u001b[0;32mwith\u001b[0m \u001b[0m_C\u001b[0m\u001b[0;34m.\u001b[0m\u001b[0mDisableTorchFunction\u001b[0m\u001b[0;34m(\u001b[0m\u001b[0;34m)\u001b[0m\u001b[0;34m:\u001b[0m\u001b[0;34m\u001b[0m\u001b[0;34m\u001b[0m\u001b[0m\n\u001b[0;32m--> 962\u001b[0;31m             \u001b[0mret\u001b[0m \u001b[0;34m=\u001b[0m \u001b[0mfunc\u001b[0m\u001b[0;34m(\u001b[0m\u001b[0;34m*\u001b[0m\u001b[0margs\u001b[0m\u001b[0;34m,\u001b[0m \u001b[0;34m**\u001b[0m\u001b[0mkwargs\u001b[0m\u001b[0;34m)\u001b[0m\u001b[0;34m\u001b[0m\u001b[0;34m\u001b[0m\u001b[0m\n\u001b[0m\u001b[1;32m    963\u001b[0m             \u001b[0;32mreturn\u001b[0m \u001b[0m_convert\u001b[0m\u001b[0;34m(\u001b[0m\u001b[0mret\u001b[0m\u001b[0;34m,\u001b[0m \u001b[0mcls\u001b[0m\u001b[0;34m)\u001b[0m\u001b[0;34m\u001b[0m\u001b[0;34m\u001b[0m\u001b[0m\n\u001b[1;32m    964\u001b[0m \u001b[0;34m\u001b[0m\u001b[0m\n",
      "\u001b[0;31mIndexError\u001b[0m: Dimension out of range (expected to be in range of [-2, 1], but got 2)"
     ]
    }
   ],
   "source": [
    "dls.one_batch()"
   ]
  },
  {
   "cell_type": "code",
   "execution_count": 157,
   "id": "14f39926-9034-4792-bfeb-4a65e47c7722",
   "metadata": {},
   "outputs": [
    {
     "data": {
      "text/plain": [
       "(26298, 206, 1)"
      ]
     },
     "execution_count": 157,
     "metadata": {},
     "output_type": "execute_result"
    }
   ],
   "source": [
    "X_unsq = np.expand_dims(X_np, 2)\n",
    "X_unsq.shape"
   ]
  },
  {
   "cell_type": "code",
   "execution_count": 141,
   "id": "f548c48e-9bef-4c5d-978d-d14c66bdd52c",
   "metadata": {},
   "outputs": [],
   "source": [
    "# y_unsq = np.expand_dims(y_np, 1)"
   ]
  },
  {
   "cell_type": "code",
   "execution_count": 142,
   "id": "22afd8d5-c7ed-41d5-86ff-ad0f448b33c4",
   "metadata": {},
   "outputs": [
    {
     "data": {
      "text/plain": [
       "((1, 26298, 206), (26298, 1))"
      ]
     },
     "execution_count": 142,
     "metadata": {},
     "output_type": "execute_result"
    }
   ],
   "source": [
    "# X_unsq.shape, y_unsq.shape"
   ]
  },
  {
   "cell_type": "code",
   "execution_count": 158,
   "id": "f9304357-2226-4860-bde4-4556d7cf4897",
   "metadata": {},
   "outputs": [],
   "source": [
    "dls = get_ts_dls(X_unsq,y_np, tfms=tfms, batch_tfms=batch_tfms, bs=128)"
   ]
  },
  {
   "cell_type": "code",
   "execution_count": 159,
   "id": "cea590ce-d56a-4040-a5f7-96c40cf0a4e5",
   "metadata": {},
   "outputs": [
    {
     "data": {
      "text/plain": [
       "(TSTensor(samples:128, vars:206, len:1, device=cuda:0),\n",
       " tensor([2.9595, 3.7042, 3.3461, 4.2701, 3.1183, 3.3932, 2.8767, 4.8233, 4.6589,\n",
       "         3.8086, 2.4372, 3.3502, 4.5083, 2.8339, 4.3680, 3.0955, 2.5866, 3.4393,\n",
       "         3.9723, 3.4462, 3.8307, 3.7382, 3.7088, 3.5947, 3.6180, 3.4556, 3.4036,\n",
       "         2.6335, 2.9528, 3.3175, 3.6721, 2.8325, 4.1445, 3.5332, 4.1634, 3.6832,\n",
       "         5.3126, 4.0645, 2.3791, 3.1071, 3.7742, 2.8791, 4.0545, 2.8893, 2.7804,\n",
       "         4.5783, 3.9507, 4.3750, 3.1071, 4.3790, 2.3539, 2.3309, 2.5712, 3.8645,\n",
       "         4.6326, 3.6023, 3.1238, 2.8709, 4.3029, 2.6845, 3.0179, 3.4068, 3.5413,\n",
       "         2.9063, 3.8620, 3.5019, 3.9052, 2.8564, 4.0007, 3.8298, 3.5792, 4.2536,\n",
       "         3.1729, 4.0350, 3.8527, 2.3908, 3.7606, 2.9301, 3.0595, 3.7383, 2.6826,\n",
       "         4.0744, 3.7738, 3.9684, 3.1708, 3.9350, 3.9120, 4.4649, 4.8602, 4.5856,\n",
       "         3.0378, 2.9404, 4.3253, 3.2564, 3.6393, 3.8426, 3.0720, 3.0832, 2.9178,\n",
       "         3.5923, 3.4002, 3.6384, 3.6621, 3.5405, 2.4881, 4.4622, 4.9978, 3.7252,\n",
       "         4.5805, 4.8496, 2.9592, 3.1721, 3.1402, 3.5385, 3.7830, 4.1969, 4.5109,\n",
       "         5.0232, 2.8486, 3.6639, 4.9826, 3.4174, 4.2070, 3.2682, 3.6865, 3.1055,\n",
       "         4.0724, 3.7956], device='cuda:0'))"
      ]
     },
     "execution_count": 159,
     "metadata": {},
     "output_type": "execute_result"
    }
   ],
   "source": [
    "dls.one_batch()"
   ]
  },
  {
   "cell_type": "code",
   "execution_count": 160,
   "id": "e23dedd9-7b9f-4409-b86f-b2658269c1a4",
   "metadata": {},
   "outputs": [
    {
     "data": {
      "text/plain": [
       "1"
      ]
     },
     "execution_count": 160,
     "metadata": {},
     "output_type": "execute_result"
    }
   ],
   "source": [
    "dls.c"
   ]
  },
  {
   "cell_type": "code",
   "execution_count": 161,
   "id": "15e4f835-4524-4145-af02-c69a7eff407b",
   "metadata": {},
   "outputs": [
    {
     "data": {
      "image/png": "[encoded data removed]",
      "text/plain": [
       "<Figure size 1296x864 with 9 Axes>"
      ]
     },
     "metadata": {
      "needs_background": "light"
     },
     "output_type": "display_data"
    }
   ],
   "source": [
    "dls.show_batch()"
   ]
  },
  {
   "cell_type": "code",
   "execution_count": 173,
   "id": "802211dd-933b-4ae9-a575-f23397a92b3f",
   "metadata": {},
   "outputs": [
    {
     "data": {
      "text/plain": [
       "FlattenedLoss of MSELoss()"
      ]
     },
     "execution_count": 173,
     "metadata": {},
     "output_type": "execute_result"
    }
   ],
   "source": [
    "dls.loss_func\n"
   ]
  }
 ],
 "metadata": {
  "kernelspec": {
   "display_name": "Python 3",
   "language": "python",
   "name": "python3"
  },
  "language_info": {
   "codemirror_mode": {
    "name": "ipython",
    "version": 3
   },
   "file_extension": ".py",
   "mimetype": "text/x-python",
   "name": "python",
   "nbconvert_exporter": "python",
   "pygments_lexer": "ipython3",
   "version": "3.8.12"
  }
 },
 "nbformat": 4,
 "nbformat_minor": 5
}
