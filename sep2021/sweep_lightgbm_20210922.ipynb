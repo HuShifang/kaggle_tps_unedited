{
 "cells": [
  {
   "cell_type": "markdown",
   "id": "1d4e7f70-25a3-4d58-b98a-3a695e55ee53",
   "metadata": {
    "id": "1d4e7f70-25a3-4d58-b98a-3a695e55ee53"
   },
   "source": [
    "# LightGBM Hyperparameter Sweep 20210922\n",
    "Integrating some enhancements introduced in the XGBoost version, and implementing the frequent-serialization approach."
   ]
  },
  {
   "cell_type": "code",
   "execution_count": null,
   "id": "U_qtimPUchWD",
   "metadata": {
    "id": "U_qtimPUchWD"
   },
   "outputs": [],
   "source": []
  },
  {
   "cell_type": "markdown",
   "id": "1e124c3d-0e1f-4053-8e72-52569a4fe3e4",
   "metadata": {
    "id": "1e124c3d-0e1f-4053-8e72-52569a4fe3e4"
   },
   "source": [
    "# Setup"
   ]
  },
  {
   "cell_type": "code",
   "execution_count": 1,
   "id": "dae2ff1e-bd1f-4cc9-8357-5a88d1746ffb",
   "metadata": {
    "id": "dae2ff1e-bd1f-4cc9-8357-5a88d1746ffb"
   },
   "outputs": [],
   "source": [
    "# two manual flags (ex-config)\n",
    "colab = False\n",
    "gpu_available = False"
   ]
  },
  {
   "cell_type": "code",
   "execution_count": 2,
   "id": "16849bd2-428c-497b-ba3b-675002f8d041",
   "metadata": {
    "id": "16849bd2-428c-497b-ba3b-675002f8d041"
   },
   "outputs": [],
   "source": [
    "# basic imports\n",
    "from pathlib import Path\n",
    "import os\n",
    "import math\n",
    "from datetime import datetime\n",
    "import random\n",
    "import multiprocessing\n",
    "import pickle"
   ]
  },
  {
   "cell_type": "code",
   "execution_count": 3,
   "id": "12d2654b-3bc6-49b5-ade8-cc82112b60e5",
   "metadata": {
    "colab": {
     "base_uri": "https://localhost:8080/"
    },
    "id": "12d2654b-3bc6-49b5-ade8-cc82112b60e5",
    "outputId": "6bd53922-c4d7-43ce-c04f-ac1079087966"
   },
   "outputs": [],
   "source": [
    "%matplotlib inline\n",
    "%config Completer.use_jedi = False\n",
    "os.environ['WANDB_NOTEBOOK_NAME'] = f\"sweep_lightgbm_{datetime.now().strftime('%Y%m%d')}.ipynb\""
   ]
  },
  {
   "cell_type": "code",
   "execution_count": 4,
   "id": "416d6118-e543-4df4-9219-2d4a63743c3a",
   "metadata": {
    "colab": {
     "base_uri": "https://localhost:8080/"
    },
    "id": "416d6118-e543-4df4-9219-2d4a63743c3a",
    "outputId": "5483656e-2943-4d97-b5d4-65cfb9795430",
    "tags": []
   },
   "outputs": [],
   "source": [
    "# handle Google Colab-specific library installation/updating\n",
    "if colab:\n",
    "    # much of the below inspired by or cribbed from the May 2021 Kaggle Tabular Playground winner, at \n",
    "    # https://colab.research.google.com/gist/academicsuspect/0aac7bd6e506f5f70295bfc9a3dc2250/tabular-may-baseline.ipynb?authuser=1#scrollTo=LJoVKJb5wN0L\n",
    "    \n",
    "    # Kaggle API for downloading the datasets\n",
    "    !pip install --upgrade -q kaggle\n",
    "\n",
    "    # weights and biases\n",
    "    !pip install -qqqU wandb\n",
    "    \n",
    "    # Optuna for parameter search\n",
    "    !pip install -q optuna\n",
    "\n",
    "    # !pip install --upgrade xgboost\n",
    "\n",
    "    # upgrade sklearn\n",
    "    !pip install --upgrade scikit-learn\n",
    "\n",
    "    # !pip install category_encoders\n",
    "    # !pip install catboost\n",
    "    !pip install --upgrade -q lightgbm\n",
    "\n",
    "    # lighgbm gpu compatible\n",
    "    # !git clone --recursive https://github.com/Microsoft/LightGBM\n",
    "    # ! cd LightGBM && rm -rf build && mkdir build && cd build && cmake -DUSE_GPU=1 ../../LightGBM && make -j4 && cd ../python-package && python3 setup.py install --precompile --gpu;\n",
    "    \n",
    "    # # this part is from https://github.com/rapidsai/gputreeshap/issues/24\n",
    "    # !pip install cmake --upgrade\n",
    "    # # !pip install sklearn --upgrade\n",
    "    # !git clone --recursive https://github.com/dmlc/xgboost\n",
    "    # %cd /content/xgboost\n",
    "    # !mkdir build\n",
    "    # %cd build\n",
    "    # !cmake .. -DUSE_CUDA=ON\n",
    "    # !make -j4\n",
    "    # %cd /content/xgboost/python-package\n",
    "    # !python setup.py install --use-cuda --use-nccl\n",
    "    # !/opt/bin/nvidia-smi\n",
    "    # !pip install shap\n",
    "    "
   ]
  },
  {
   "cell_type": "markdown",
   "id": "d40df194-4474-4bcf-ac5a-98efe24b91fd",
   "metadata": {
    "id": "d40df194-4474-4bcf-ac5a-98efe24b91fd"
   },
   "source": [
    "Now, non-stdlib imports"
   ]
  },
  {
   "cell_type": "code",
   "execution_count": 5,
   "id": "a01e85f7-d602-4dde-bef9-611683cd74c4",
   "metadata": {
    "id": "a01e85f7-d602-4dde-bef9-611683cd74c4"
   },
   "outputs": [
    {
     "data": {
      "text/html": [
       "<style type='text/css'>\n",
       ".datatable table.frame { margin-bottom: 0; }\n",
       ".datatable table.frame thead { border-bottom: none; }\n",
       ".datatable table.frame tr.coltypes td {  color: #FFFFFF;  line-height: 6px;  padding: 0 0.5em;}\n",
       ".datatable .bool    { background: #DDDD99; }\n",
       ".datatable .object  { background: #565656; }\n",
       ".datatable .int     { background: #5D9E5D; }\n",
       ".datatable .float   { background: #4040CC; }\n",
       ".datatable .str     { background: #CC4040; }\n",
       ".datatable .time    { background: #40CC40; }\n",
       ".datatable .row_index {  background: var(--jp-border-color3);  border-right: 1px solid var(--jp-border-color0);  color: var(--jp-ui-font-color3);  font-size: 9px;}\n",
       ".datatable .frame tbody td { text-align: left; }\n",
       ".datatable .frame tr.coltypes .row_index {  background: var(--jp-border-color0);}\n",
       ".datatable th:nth-child(2) { padding-left: 12px; }\n",
       ".datatable .hellipsis {  color: var(--jp-cell-editor-border-color);}\n",
       ".datatable .vellipsis {  background: var(--jp-layout-color0);  color: var(--jp-cell-editor-border-color);}\n",
       ".datatable .na {  color: var(--jp-cell-editor-border-color);  font-size: 80%;}\n",
       ".datatable .sp {  opacity: 0.25;}\n",
       ".datatable .footer { font-size: 9px; }\n",
       ".datatable .frame_dimensions {  background: var(--jp-border-color3);  border-top: 1px solid var(--jp-border-color0);  color: var(--jp-ui-font-color3);  display: inline-block;  opacity: 0.6;  padding: 1px 10px 1px 5px;}\n",
       "</style>\n"
      ],
      "text/plain": [
       "<IPython.core.display.HTML object>"
      ]
     },
     "metadata": {},
     "output_type": "display_data"
    }
   ],
   "source": [
    "import pandas as pd\n",
    "import numpy as np\n",
    "import matplotlib.pyplot as plt\n",
    "from tqdm.notebook import tqdm\n",
    "\n",
    "# general ML tooling\n",
    "from sklearn.model_selection import train_test_split, StratifiedKFold, KFold\n",
    "from sklearn.metrics import log_loss, roc_auc_score\n",
    "import wandb\n",
    "from optuna.integration.wandb import WeightsAndBiasesCallback\n",
    "# from wandb.xgboost import wandb_callback\n",
    "# from wandb.lightgbm import wandb_callback\n",
    "# from sklearn.impute import KNNImputer, StandardImputer\n",
    "# import timm\n",
    "\n",
    "import seaborn as sns\n",
    "\n",
    "# from catboost import CatBoostClassifier\n",
    "# from xgboost import XGBClassifier\n",
    "from lightgbm import LGBMClassifier\n",
    "# from sklearn.ensemble import RandomForestRegressor\n",
    "from sklearn.preprocessing import MaxAbsScaler, StandardScaler, MinMaxScaler, RobustScaler, PolynomialFeatures\n",
    "# from sklearn.feature_selection import SelectKBest, f_regression\n",
    "from joblib import dump, load\n",
    "# feature engineering tools\n",
    "# from sklearn.feature_selection import mutual_info_regression\n",
    "# import featuretools as ft\n",
    "\n",
    "\n",
    "from optuna.samplers import TPESampler\n",
    "import optuna\n",
    "# import catboost\n",
    "from sklearn.utils import resample\n",
    "import sklearn.metrics"
   ]
  },
  {
   "cell_type": "markdown",
   "id": "5f6166c2-ca44-4b7c-a4dc-3db47c2624fe",
   "metadata": {
    "id": "5f6166c2-ca44-4b7c-a4dc-3db47c2624fe"
   },
   "source": [
    "Now, datapath setup"
   ]
  },
  {
   "cell_type": "code",
   "execution_count": 6,
   "id": "3c18a787-2193-43cb-87ee-51c6ae7b6351",
   "metadata": {
    "id": "3c18a787-2193-43cb-87ee-51c6ae7b6351"
   },
   "outputs": [],
   "source": [
    "# # This is the code for reading the train.csv and converting it to a .feather file\n",
    "# df = pd.read_csv(datapath/'train.csv', index_col='id', low_memory=False)\n",
    "# df.index.name = None\n",
    "# df.to_feather(path='./dataset_df.feather')"
   ]
  },
  {
   "cell_type": "code",
   "execution_count": 7,
   "id": "0a41cd7e-accb-41c4-ad8b-0eaa3e2b0ad5",
   "metadata": {
    "colab": {
     "base_uri": "https://localhost:8080/"
    },
    "id": "0a41cd7e-accb-41c4-ad8b-0eaa3e2b0ad5",
    "outputId": "76d62b41-4171-40fa-936c-4481a9fdab36"
   },
   "outputs": [],
   "source": [
    "if colab:\n",
    "    # mount Google Drive\n",
    "    from google.colab import drive\n",
    "    drive.mount('/content/drive')\n",
    "    \n",
    "    # handling datapath\n",
    "    datapath = Path('/content/drive/MyDrive/kaggle/tabular_playgrounds/sep2021/')\n",
    "    \n",
    "else:\n",
    "    # if on local machine\n",
    "    datapath = Path('/media/sf/easystore/kaggle_data/tabular_playgrounds/sep2021/')    \n",
    "    \n"
   ]
  },
  {
   "cell_type": "code",
   "execution_count": 8,
   "id": "d1c652e6-5946-46aa-a13e-4c0ebe8a0e4f",
   "metadata": {
    "id": "d1c652e6-5946-46aa-a13e-4c0ebe8a0e4f"
   },
   "outputs": [],
   "source": [
    "\n",
    "# n_trials = int(1000)\n",
    "SEED = 42"
   ]
  },
  {
   "cell_type": "code",
   "execution_count": 9,
   "id": "fbec2e77-2081-4815-ac6d-39f2a2616386",
   "metadata": {
    "id": "fbec2e77-2081-4815-ac6d-39f2a2616386"
   },
   "outputs": [],
   "source": [
    "# Function to seed everything\n",
    "def seed_everything(seed):\n",
    "    random.seed(seed)\n",
    "    np.random.seed(seed)\n",
    "    os.environ['PYTHONHASHSEED'] = str(seed)\n",
    "seed_everything(SEED)"
   ]
  },
  {
   "cell_type": "markdown",
   "id": "2f6e47b3-43bd-4d35-b463-9d76100c6ed5",
   "metadata": {
    "id": "2f6e47b3-43bd-4d35-b463-9d76100c6ed5"
   },
   "source": [
    "## Ex-Model Config"
   ]
  },
  {
   "cell_type": "code",
   "execution_count": 10,
   "id": "fb288275-a858-4806-9dc0-0b316c334536",
   "metadata": {
    "id": "fb288275-a858-4806-9dc0-0b316c334536"
   },
   "outputs": [],
   "source": [
    "# meta-config for preprocessing and cross-validation, but NOT for model parameters\n",
    "# in the sweep version, this includes both ex-model parameters and defaults for model parameters\n",
    "exmodel_config = {\n",
    "    # model config\n",
    "    \"library\": 'lightgbm',\n",
    "#     \"model\": XGBClassifier,\n",
    "#     \"n_estimators\": 100, \n",
    "#     \"max_depth\": 3,\n",
    "#     \"learning_rate\": 0.1,\n",
    "#     \"test_size\": 0.2,\n",
    "#     \"reg_lambda\": None, \n",
    "    \"scaler\": \"sklearn.preprocessing.StandardScaler()\", # TODO: experiment with others (but imputation may be slow)\n",
    "    \"scale_b4_impute\": False,\n",
    "    \"imputer\": \"sklearn.impute.SimpleImputer(strategy='median', add_indicator=True)\",\n",
    "    \"knn_imputer_n_neighbors\": None, # None if a different imputer is used\n",
    "#     \"feature_selector\": SelectKBest,\n",
    "#     \"k_best\": 80,\n",
    "#     \"feature_selection_scoring\": f_regression,\n",
    "    'random_state': SEED,\n",
    "    'optuna': True,\n",
    "    'optuna_trials': 100,\n",
    "#     'subsample': 1,\n",
    "#     'cross_val_strategy': None, # None for holdout, or the relevant sklearn class\n",
    "#     'kfolds': 1, # if 1, that means just doing holdout\n",
    "#     'test_size': 0.2,\n",
    "    # these are XGBoost default (my choice) params \n",
    "#     \"tree_method\": \"auto\", # set to 'gpu_hist' to try GPU if available\n",
    "#     \"booster\": 'gbtree', # dart may be marginally better, but will opt for this quicker approach as a default\n",
    "#     \"n_estimators\": 200, \n",
    "#     \"max_depth\": 3,\n",
    "#     \"learning_rate\": 0.1,\n",
    "#     \"n_jobs\": -1,\n",
    "#     \"verbosity\": 1,\n",
    "#     \"subsample\": 1,\n",
    "#     'features_created': False,\n",
    "#     'feature_creator': None,\n",
    "}\n",
    "\n",
    "wandb_kwargs = {\n",
    "    # wandb config\n",
    "    'name': f\"{os.environ['WANDB_NOTEBOOK_NAME'][:-6]}_{datetime.now().strftime('%H%M%S')}\", # just removes the .ipynb extension, leaving the notebook filename's stem\n",
    "    'project': '202109_Kaggle_tabular_playground',\n",
    "    'tags': ['sweep'],\n",
    "    'notes': \"Integrating some enhancements introduced in the XGBoost version, and implementing the frequent-serialization approach.\",\n",
    "    'config': exmodel_config,\n",
    "}"
   ]
  },
  {
   "cell_type": "markdown",
   "id": "a52d9012-34f1-435a-ba16-4416e0d4a286",
   "metadata": {
    "id": "a52d9012-34f1-435a-ba16-4416e0d4a286"
   },
   "source": [
    "## Data Setup"
   ]
  },
  {
   "cell_type": "markdown",
   "id": "c912a62f-970a-48b4-b428-d886f2612fc2",
   "metadata": {
    "id": "c912a62f-970a-48b4-b428-d886f2612fc2"
   },
   "source": [
    "**TODO** Write some conditional logic here to automate it -- possibly as part of a sklearn.*pipeline"
   ]
  },
  {
   "cell_type": "code",
   "execution_count": 11,
   "id": "7f6625d6-7561-48a2-acb0-6efb3c371005",
   "metadata": {
    "id": "7f6625d6-7561-48a2-acb0-6efb3c371005"
   },
   "outputs": [],
   "source": [
    "X_source = 'X_NaNcounts_SummaryStats_imputed-Median-wIndicators-StandardScaled.feather'\n",
    "X_train = pd.read_feather(datapath/X_source) \n",
    "y_train = load(datapath/'y.joblib')    \n",
    "# X.index.name = 'id'\n",
    "# y.index.name = 'id'\n",
    "X = np.array(X_train)\n",
    "y = np.array(y_train)\n",
    "\n",
    "del X_train, y_train"
   ]
  },
  {
   "cell_type": "code",
   "execution_count": 12,
   "id": "8330d84d-3c72-4cca-b95a-739712014dd3",
   "metadata": {
    "id": "8330d84d-3c72-4cca-b95a-739712014dd3"
   },
   "outputs": [],
   "source": [
    "exmodel_config['feature_count'] = X.shape[1]\n",
    "exmodel_config['feature_generator'] = \"Summary statistics\"\n",
    "exmodel_config['X_source'] = X_source"
   ]
  },
  {
   "cell_type": "markdown",
   "id": "431d37db-558d-474d-9eca-ce2d38b7636f",
   "metadata": {
    "id": "431d37db-558d-474d-9eca-ce2d38b7636f"
   },
   "source": [
    "# Experiment setup"
   ]
  },
  {
   "cell_type": "code",
   "execution_count": 13,
   "id": "69ff4abf-560b-450e-a7a5-040878b66565",
   "metadata": {
    "id": "69ff4abf-560b-450e-a7a5-040878b66565"
   },
   "outputs": [],
   "source": [
    "# wandb_kwargs = {\n",
    "#     # wandb config:\n",
    "#     'name': f\"{os.environ['WANDB_NOTEBOOK_NAME'][:-6]}_{datetime.now().strftime('%H%M%S')}\", # just removes the .ipynb extension, leaving the notebook filename's stem\n",
    "#     'project': '202109_Kaggle_tabular_playground',\n",
    "#     'tags': ['sweep'],\n",
    "#     'notes': \"Sweep for CatBoost using Optuna\",\n",
    "#     'config': exmodel_config,\n",
    "# }"
   ]
  },
  {
   "cell_type": "code",
   "execution_count": 14,
   "id": "1d93b6f2-2d65-48a9-9862-510bd7d2b75b",
   "metadata": {
    "id": "1d93b6f2-2d65-48a9-9862-510bd7d2b75b"
   },
   "outputs": [],
   "source": [
    "# originally from https://www.kaggle.com/satorushibata/optimize-catboost-hyperparameter-with-optuna-gpu\n",
    "def objective(trial):\n",
    "    # split the (original Kaggle training) data into partitions\n",
    "    # if study.best_trial:\n",
    "    #     print(\"Dumping best params, which are:\")\n",
    "    #     print(str(study.best_trial.params))\n",
    "    #     dump(study.best_trial.params, filename=datapath/'optuna_catboost_best_20210920.joblib')\n",
    "       \n",
    "    # else:\n",
    "    #     print(\"No best study yet\")\n",
    "    X_train, X_valid, y_train, y_valid = train_test_split(X, y, test_size=0.33, random_state=int(SEED), shuffle=True)\n",
    "    # create wrappers for the training and validation partitions\n",
    "    # train_pool = catboost.Pool(X_train, y_train)\n",
    "    # valid_pool = catboost.Pool(X_valid, y_valid)\n",
    "    \n",
    "    # experimental parameters\n",
    "    params = {\n",
    "        'n_estimators': trial.suggest_int('n_estimators', 900, 4500),\n",
    "        'max_depth' : trial.suggest_int('depth', 3, 12),                                       \n",
    "        'learning_rate' : trial.suggest_loguniform('learning_rate', 0.001, 0.4),               \n",
    "        'reg_alpha': trial.suggest_loguniform('reg_alpha', 0.001, 30),\n",
    "        'reg_lambda': trial.suggest_loguniform('reg_lambda', 0.001, 20),\n",
    "        'subsample': trial.suggest_uniform('subsample', 0.5, 1),\n",
    "        'boosting_type': trial.suggest_categorical('boosting_type', ['gbdt', 'dart', 'goss']),\n",
    "        'min_child_weight': trial.suggest_uniform('min_child_weight', 0.001, 10),\n",
    "        'colsample_bytree': trial.suggest_uniform('colsample_bytree', 0.5, 1),\n",
    "        'gamma': trial.suggest_uniform('gamma, 0.1')\n",
    "    }  \n",
    "\n",
    "    # instantiate the model, with some parameters locked in, and experimnental ones passed via splat \n",
    "    model = LGBMClassifier(\n",
    "        objective='binary',\n",
    "        random_state=SEED,\n",
    "        n_jobs=-1,\n",
    "        eval_metric='auc',\n",
    "        device_type='cpu',\n",
    "#         max_bin=63,\n",
    "        **params\n",
    "    )       \n",
    "\n",
    "    model.fit(X_train, y_train)\n",
    "    # generate predictions\n",
    "    preds = model.predict_proba(X_valid)[:,1]\n",
    "    # rounds to the nearest integer, and the nearest even in case of _.5s\n",
    "\n",
    "    # Evaluation\n",
    "    valid_auc = roc_auc_score(y_valid, preds)\n",
    "    print('ROC AUC Score of XGBoost =', valid_auc)\n",
    "    wandb.log({'valid_auc': valid_auc,\n",
    "              })\n",
    "\n",
    "    return valid_auc"
   ]
  },
  {
   "cell_type": "code",
   "execution_count": 15,
   "id": "0e85f589-1507-4b75-80d9-8b062970102f",
   "metadata": {
    "colab": {
     "base_uri": "https://localhost:8080/",
     "height": 285
    },
    "id": "0e85f589-1507-4b75-80d9-8b062970102f",
    "outputId": "6a01a1a1-8060-429d-9a47-670cbc0435d2",
    "tags": []
   },
   "outputs": [
    {
     "name": "stderr",
     "output_type": "stream",
     "text": [
      "<ipython-input-15-69ea9289a2cf>:1: ExperimentalWarning: WeightsAndBiasesCallback is experimental (supported from v2.9.0). The interface can change in the future.\n",
      "  wandbc = WeightsAndBiasesCallback(wandb_kwargs=wandb_kwargs)\n",
      "\u001b[34m\u001b[1mwandb\u001b[0m: Currently logged in as: \u001b[33mhushifang\u001b[0m (use `wandb login --relogin` to force relogin)\n"
     ]
    },
    {
     "data": {
      "text/html": [
       "\n",
       "                Tracking run with wandb version 0.12.2<br/>\n",
       "                Syncing run <strong style=\"color:#cdcd00\">sweep_lightgbm_20210922_173526</strong> to <a href=\"https://wandb.ai\" target=\"_blank\">Weights & Biases</a> <a href=\"https://docs.wandb.com/integrations/jupyter.html\" target=\"_blank\">(Documentation)</a>.<br/>\n",
       "                Project page: <a href=\"https://wandb.ai/hushifang/202109_Kaggle_tabular_playground\" target=\"_blank\">https://wandb.ai/hushifang/202109_Kaggle_tabular_playground</a><br/>\n",
       "                Run page: <a href=\"https://wandb.ai/hushifang/202109_Kaggle_tabular_playground/runs/2zqag9oa\" target=\"_blank\">https://wandb.ai/hushifang/202109_Kaggle_tabular_playground/runs/2zqag9oa</a><br/>\n",
       "                Run data is saved locally in <code>/home/sf/Dropbox/code_cloud/python_code/kaggle/tabular_playgrounds/sep2021/wandb/run-20210922_173527-2zqag9oa</code><br/><br/>\n",
       "            "
      ],
      "text/plain": [
       "<IPython.core.display.HTML object>"
      ]
     },
     "metadata": {},
     "output_type": "display_data"
    }
   ],
   "source": [
    "wandbc = WeightsAndBiasesCallback(wandb_kwargs=wandb_kwargs)"
   ]
  },
  {
   "cell_type": "code",
   "execution_count": 16,
   "id": "ab6749b1-dd7d-4789-b0e2-8491d78fe89b",
   "metadata": {
    "id": "ab6749b1-dd7d-4789-b0e2-8491d78fe89b",
    "tags": []
   },
   "outputs": [
    {
     "name": "stderr",
     "output_type": "stream",
     "text": [
      "\u001b[32m[I 2021-09-22 17:35:33,631]\u001b[0m A new study created in memory with name: lightgbm_20210922\u001b[0m\n"
     ]
    }
   ],
   "source": [
    "study = optuna.create_study(direction = \"maximize\", \n",
    "                            sampler = TPESampler(seed=int(SEED)), \n",
    "                            study_name='lightgbm_20210922')\n",
    "\n",
    "# study = load(datapath/f'optuna_lightgbm_study_5trials_20210922.joblib')\n"
   ]
  },
  {
   "cell_type": "code",
   "execution_count": 17,
   "id": "F1cSVFH9gkW_",
   "metadata": {
    "colab": {
     "base_uri": "https://localhost:8080/"
    },
    "id": "F1cSVFH9gkW_",
    "outputId": "ccc874e6-7dd4-4e24-bec8-35ae48180b40"
   },
   "outputs": [
    {
     "name": "stdout",
     "output_type": "stream",
     "text": [
      "[LightGBM] [Warning] Unknown parameter: eval_metric\n"
     ]
    },
    {
     "name": "stderr",
     "output_type": "stream",
     "text": [
      "\u001b[32m[I 2021-09-22 17:36:53,399]\u001b[0m Trial 0 finished with value: 0.8110698135224661 and parameters: {'n_estimators': 481, 'depth': 7, 'learning_rate': 0.0802956743641955, 'reg_alpha': 0.16383993835282307, 'reg_lambda': 0.003980219000423727, 'subsample': 0.5779972601681014, 'boosting_type': 'dart'}. Best is trial 0 with value: 0.8110698135224661.\u001b[0m\n",
      "\u001b[34m\u001b[1mwandb\u001b[0m: \u001b[33mWARNING\u001b[0m Step must only increase in log calls.  Step 0 < 1; dropping {'n_estimators': 481, 'depth': 7, 'learning_rate': 0.0802956743641955, 'reg_alpha': 0.16383993835282307, 'reg_lambda': 0.003980219000423727, 'subsample': 0.5779972601681014, 'boosting_type': 'dart', 'value': 0.8110698135224661}.\n"
     ]
    },
    {
     "name": "stdout",
     "output_type": "stream",
     "text": [
      "ROC AUC Score of XGBoost = 0.8110698135224661\n",
      "[LightGBM] [Warning] Unknown parameter: eval_metric\n"
     ]
    },
    {
     "name": "stderr",
     "output_type": "stream",
     "text": [
      "\u001b[32m[I 2021-09-22 17:37:17,779]\u001b[0m Trial 1 finished with value: 0.8097289264045557 and parameters: {'n_estimators': 864, 'depth': 2, 'learning_rate': 0.3340131933082065, 'reg_alpha': 1.1999975480350795, 'reg_lambda': 0.006553370144699885, 'subsample': 0.5909124836035503, 'boosting_type': 'goss'}. Best is trial 0 with value: 0.8110698135224661.\u001b[0m\n",
      "\u001b[34m\u001b[1mwandb\u001b[0m: \u001b[33mWARNING\u001b[0m Step must only increase in log calls.  Step 1 < 2; dropping {'n_estimators': 864, 'depth': 2, 'learning_rate': 0.3340131933082065, 'reg_alpha': 1.1999975480350795, 'reg_lambda': 0.006553370144699885, 'subsample': 0.5909124836035503, 'boosting_type': 'goss', 'value': 0.8097289264045557}.\n"
     ]
    },
    {
     "name": "stdout",
     "output_type": "stream",
     "text": [
      "ROC AUC Score of XGBoost = 0.8097289264045557\n",
      "[LightGBM] [Warning] Unknown parameter: eval_metric\n"
     ]
    },
    {
     "name": "stderr",
     "output_type": "stream",
     "text": [
      "\u001b[32m[I 2021-09-22 17:38:31,314]\u001b[0m Trial 2 finished with value: 0.8062463460699822 and parameters: {'n_estimators': 547, 'depth': 3, 'learning_rate': 0.03909110418963917, 'reg_alpha': 0.003280829084730048, 'reg_lambda': 0.013283876076903943, 'subsample': 0.6831809216468459, 'boosting_type': 'dart'}. Best is trial 0 with value: 0.8110698135224661.\u001b[0m\n",
      "\u001b[34m\u001b[1mwandb\u001b[0m: \u001b[33mWARNING\u001b[0m Step must only increase in log calls.  Step 2 < 3; dropping {'n_estimators': 547, 'depth': 3, 'learning_rate': 0.03909110418963917, 'reg_alpha': 0.003280829084730048, 'reg_lambda': 0.013283876076903943, 'subsample': 0.6831809216468459, 'boosting_type': 'dart', 'value': 0.8062463460699822}.\n"
     ]
    },
    {
     "name": "stdout",
     "output_type": "stream",
     "text": [
      "ROC AUC Score of XGBoost = 0.8062463460699822\n",
      "[LightGBM] [Warning] Unknown parameter: eval_metric\n"
     ]
    },
    {
     "name": "stderr",
     "output_type": "stream",
     "text": [
      "\u001b[32m[I 2021-09-22 17:40:43,414]\u001b[0m Trial 3 finished with value: 0.8027989643739164 and parameters: {'n_estimators': 641, 'depth': 5, 'learning_rate': 0.001320890329148899, 'reg_alpha': 0.1767218232266506, 'reg_lambda': 0.004525660523469902, 'subsample': 0.5325257964926398, 'boosting_type': 'dart'}. Best is trial 0 with value: 0.8110698135224661.\u001b[0m\n",
      "\u001b[34m\u001b[1mwandb\u001b[0m: \u001b[33mWARNING\u001b[0m Step must only increase in log calls.  Step 3 < 4; dropping {'n_estimators': 641, 'depth': 5, 'learning_rate': 0.001320890329148899, 'reg_alpha': 0.1767218232266506, 'reg_lambda': 0.004525660523469902, 'subsample': 0.5325257964926398, 'boosting_type': 'dart', 'value': 0.8027989643739164}.\n"
     ]
    },
    {
     "name": "stdout",
     "output_type": "stream",
     "text": [
      "ROC AUC Score of XGBoost = 0.8027989643739164\n",
      "[LightGBM] [Warning] Unknown parameter: eval_metric\n"
     ]
    },
    {
     "name": "stderr",
     "output_type": "stream",
     "text": [
      "\u001b[32m[I 2021-09-22 17:41:10,559]\u001b[0m Trial 4 finished with value: 0.8039941748701799 and parameters: {'n_estimators': 400, 'depth': 2, 'learning_rate': 0.06031361827702156, 'reg_alpha': 0.042472797953697176, 'reg_lambda': 0.0029461101315029904, 'subsample': 0.7475884550556351, 'boosting_type': 'dart'}. Best is trial 0 with value: 0.8110698135224661.\u001b[0m\n",
      "\u001b[34m\u001b[1mwandb\u001b[0m: \u001b[33mWARNING\u001b[0m Step must only increase in log calls.  Step 4 < 5; dropping {'n_estimators': 400, 'depth': 2, 'learning_rate': 0.06031361827702156, 'reg_alpha': 0.042472797953697176, 'reg_lambda': 0.0029461101315029904, 'subsample': 0.7475884550556351, 'boosting_type': 'dart', 'value': 0.8039941748701799}.\n"
     ]
    },
    {
     "name": "stdout",
     "output_type": "stream",
     "text": [
      "ROC AUC Score of XGBoost = 0.8039941748701799\n",
      "5 trials complete\n",
      "[LightGBM] [Warning] Unknown parameter: eval_metric\n"
     ]
    },
    {
     "name": "stderr",
     "output_type": "stream",
     "text": [
      "\u001b[32m[I 2021-09-22 17:42:30,162]\u001b[0m Trial 5 finished with value: 0.8062332633552896 and parameters: {'n_estimators': 812, 'depth': 3, 'learning_rate': 0.022555278332923135, 'reg_alpha': 0.105260377776104, 'reg_lambda': 0.005137874651887402, 'subsample': 0.9847923138822793, 'boosting_type': 'dart'}. Best is trial 0 with value: 0.8110698135224661.\u001b[0m\n",
      "\u001b[34m\u001b[1mwandb\u001b[0m: \u001b[33mWARNING\u001b[0m Step must only increase in log calls.  Step 5 < 6; dropping {'n_estimators': 812, 'depth': 3, 'learning_rate': 0.022555278332923135, 'reg_alpha': 0.105260377776104, 'reg_lambda': 0.005137874651887402, 'subsample': 0.9847923138822793, 'boosting_type': 'dart', 'value': 0.8062332633552896}.\n"
     ]
    },
    {
     "name": "stdout",
     "output_type": "stream",
     "text": [
      "ROC AUC Score of XGBoost = 0.8062332633552896\n",
      "[LightGBM] [Warning] Unknown parameter: eval_metric\n"
     ]
    },
    {
     "name": "stderr",
     "output_type": "stream",
     "text": [
      "\u001b[32m[I 2021-09-22 17:43:38,791]\u001b[0m Trial 6 finished with value: 0.8062123077383926 and parameters: {'n_estimators': 738, 'depth': 7, 'learning_rate': 0.0016992716001270592, 'reg_alpha': 0.005308046630775945, 'reg_lambda': 0.0014924622670120962, 'subsample': 0.6626651653816322, 'boosting_type': 'goss'}. Best is trial 0 with value: 0.8110698135224661.\u001b[0m\n",
      "\u001b[34m\u001b[1mwandb\u001b[0m: \u001b[33mWARNING\u001b[0m Step must only increase in log calls.  Step 6 < 7; dropping {'n_estimators': 738, 'depth': 7, 'learning_rate': 0.0016992716001270592, 'reg_alpha': 0.005308046630775945, 'reg_lambda': 0.0014924622670120962, 'subsample': 0.6626651653816322, 'boosting_type': 'goss', 'value': 0.8062123077383926}.\n"
     ]
    },
    {
     "name": "stdout",
     "output_type": "stream",
     "text": [
      "ROC AUC Score of XGBoost = 0.8062123077383926\n",
      "[LightGBM] [Warning] Unknown parameter: eval_metric\n"
     ]
    },
    {
     "name": "stderr",
     "output_type": "stream",
     "text": [
      "\u001b[32m[I 2021-09-22 17:43:58,867]\u001b[0m Trial 7 finished with value: 0.8104307785502984 and parameters: {'n_estimators': 460, 'depth': 3, 'learning_rate': 0.02583019979554534, 'reg_alpha': 0.0033210428646429763, 'reg_lambda': 1.214859455961431, 'subsample': 0.5372753218398854, 'boosting_type': 'gbdt'}. Best is trial 0 with value: 0.8110698135224661.\u001b[0m\n",
      "\u001b[34m\u001b[1mwandb\u001b[0m: \u001b[33mWARNING\u001b[0m Step must only increase in log calls.  Step 7 < 8; dropping {'n_estimators': 460, 'depth': 3, 'learning_rate': 0.02583019979554534, 'reg_alpha': 0.0033210428646429763, 'reg_lambda': 1.214859455961431, 'subsample': 0.5372753218398854, 'boosting_type': 'gbdt', 'value': 0.8104307785502984}.\n"
     ]
    },
    {
     "name": "stdout",
     "output_type": "stream",
     "text": [
      "ROC AUC Score of XGBoost = 0.8104307785502984\n",
      "[LightGBM] [Warning] Unknown parameter: eval_metric\n"
     ]
    },
    {
     "name": "stderr",
     "output_type": "stream",
     "text": [
      "\u001b[32m[I 2021-09-22 17:44:05,613]\u001b[0m Trial 8 finished with value: 0.8074746841773945 and parameters: {'n_estimators': 56, 'depth': 6, 'learning_rate': 0.06906932535689181, 'reg_alpha': 0.4972509797814939, 'reg_lambda': 0.9238683693902564, 'subsample': 0.5370223258670452, 'boosting_type': 'goss'}. Best is trial 0 with value: 0.8110698135224661.\u001b[0m\n",
      "\u001b[34m\u001b[1mwandb\u001b[0m: \u001b[33mWARNING\u001b[0m Step must only increase in log calls.  Step 8 < 9; dropping {'n_estimators': 56, 'depth': 6, 'learning_rate': 0.06906932535689181, 'reg_alpha': 0.4972509797814939, 'reg_lambda': 0.9238683693902564, 'subsample': 0.5370223258670452, 'boosting_type': 'goss', 'value': 0.8074746841773945}.\n"
     ]
    },
    {
     "name": "stdout",
     "output_type": "stream",
     "text": [
      "ROC AUC Score of XGBoost = 0.8074746841773945\n",
      "[LightGBM] [Warning] Unknown parameter: eval_metric\n"
     ]
    },
    {
     "name": "stderr",
     "output_type": "stream",
     "text": [
      "\u001b[32m[I 2021-09-22 17:45:21,097]\u001b[0m Trial 9 finished with value: 0.8007986275310459 and parameters: {'n_estimators': 767, 'depth': 3, 'learning_rate': 0.0014634660109900137, 'reg_alpha': 0.014135601061558619, 'reg_lambda': 0.017797612801031513, 'subsample': 0.864803089169032, 'boosting_type': 'dart'}. Best is trial 0 with value: 0.8110698135224661.\u001b[0m\n",
      "\u001b[34m\u001b[1mwandb\u001b[0m: \u001b[33mWARNING\u001b[0m Step must only increase in log calls.  Step 9 < 10; dropping {'n_estimators': 767, 'depth': 3, 'learning_rate': 0.0014634660109900137, 'reg_alpha': 0.014135601061558619, 'reg_lambda': 0.017797612801031513, 'subsample': 0.864803089169032, 'boosting_type': 'dart', 'value': 0.8007986275310459}.\n"
     ]
    },
    {
     "name": "stdout",
     "output_type": "stream",
     "text": [
      "ROC AUC Score of XGBoost = 0.8007986275310459\n",
      "10 trials complete\n",
      "[LightGBM] [Warning] Unknown parameter: eval_metric\n"
     ]
    },
    {
     "name": "stderr",
     "output_type": "stream",
     "text": [
      "\u001b[32m[I 2021-09-22 17:47:10,848]\u001b[0m Trial 10 finished with value: 0.8115380767032412 and parameters: {'n_estimators': 1137, 'depth': 7, 'learning_rate': 0.006318860929586818, 'reg_alpha': 2.808755979988626, 'reg_lambda': 0.10106562307598052, 'subsample': 0.8451235367845727, 'boosting_type': 'gbdt'}. Best is trial 10 with value: 0.8115380767032412.\u001b[0m\n",
      "\u001b[34m\u001b[1mwandb\u001b[0m: \u001b[33mWARNING\u001b[0m Step must only increase in log calls.  Step 10 < 11; dropping {'n_estimators': 1137, 'depth': 7, 'learning_rate': 0.006318860929586818, 'reg_alpha': 2.808755979988626, 'reg_lambda': 0.10106562307598052, 'subsample': 0.8451235367845727, 'boosting_type': 'gbdt', 'value': 0.8115380767032412}.\n"
     ]
    },
    {
     "name": "stdout",
     "output_type": "stream",
     "text": [
      "ROC AUC Score of XGBoost = 0.8115380767032412\n",
      "[LightGBM] [Warning] Unknown parameter: eval_metric\n"
     ]
    },
    {
     "name": "stderr",
     "output_type": "stream",
     "text": [
      "\u001b[32m[I 2021-09-22 17:48:47,350]\u001b[0m Trial 11 finished with value: 0.8117971320953377 and parameters: {'n_estimators': 1160, 'depth': 7, 'learning_rate': 0.006826917554258264, 'reg_alpha': 4.740201838244602, 'reg_lambda': 0.14046960061088504, 'subsample': 0.8296195031912666, 'boosting_type': 'gbdt'}. Best is trial 11 with value: 0.8117971320953377.\u001b[0m\n",
      "\u001b[34m\u001b[1mwandb\u001b[0m: \u001b[33mWARNING\u001b[0m Step must only increase in log calls.  Step 11 < 12; dropping {'n_estimators': 1160, 'depth': 7, 'learning_rate': 0.006826917554258264, 'reg_alpha': 4.740201838244602, 'reg_lambda': 0.14046960061088504, 'subsample': 0.8296195031912666, 'boosting_type': 'gbdt', 'value': 0.8117971320953377}.\n"
     ]
    },
    {
     "name": "stdout",
     "output_type": "stream",
     "text": [
      "ROC AUC Score of XGBoost = 0.8117971320953377\n",
      "[LightGBM] [Warning] Unknown parameter: eval_metric\n"
     ]
    },
    {
     "name": "stderr",
     "output_type": "stream",
     "text": [
      "\u001b[32m[I 2021-09-22 17:50:30,373]\u001b[0m Trial 12 finished with value: 0.811402901787898 and parameters: {'n_estimators': 1194, 'depth': 6, 'learning_rate': 0.006549389064828291, 'reg_alpha': 4.957630199170798, 'reg_lambda': 0.15323189606130638, 'subsample': 0.8641942934776353, 'boosting_type': 'gbdt'}. Best is trial 11 with value: 0.8117971320953377.\u001b[0m\n",
      "\u001b[34m\u001b[1mwandb\u001b[0m: \u001b[33mWARNING\u001b[0m Step must only increase in log calls.  Step 12 < 13; dropping {'n_estimators': 1194, 'depth': 6, 'learning_rate': 0.006549389064828291, 'reg_alpha': 4.957630199170798, 'reg_lambda': 0.15323189606130638, 'subsample': 0.8641942934776353, 'boosting_type': 'gbdt', 'value': 0.811402901787898}.\n"
     ]
    },
    {
     "name": "stdout",
     "output_type": "stream",
     "text": [
      "ROC AUC Score of XGBoost = 0.811402901787898\n",
      "[LightGBM] [Warning] Unknown parameter: eval_metric\n"
     ]
    },
    {
     "name": "stderr",
     "output_type": "stream",
     "text": [
      "\u001b[32m[I 2021-09-22 17:52:13,717]\u001b[0m Trial 13 finished with value: 0.8119509856063114 and parameters: {'n_estimators': 1199, 'depth': 6, 'learning_rate': 0.007666752189606724, 'reg_alpha': 4.651888113535894, 'reg_lambda': 0.19388703357505158, 'subsample': 0.8616838811976578, 'boosting_type': 'gbdt'}. Best is trial 13 with value: 0.8119509856063114.\u001b[0m\n",
      "\u001b[34m\u001b[1mwandb\u001b[0m: \u001b[33mWARNING\u001b[0m Step must only increase in log calls.  Step 13 < 14; dropping {'n_estimators': 1199, 'depth': 6, 'learning_rate': 0.007666752189606724, 'reg_alpha': 4.651888113535894, 'reg_lambda': 0.19388703357505158, 'subsample': 0.8616838811976578, 'boosting_type': 'gbdt', 'value': 0.8119509856063114}.\n"
     ]
    },
    {
     "name": "stdout",
     "output_type": "stream",
     "text": [
      "ROC AUC Score of XGBoost = 0.8119509856063114\n",
      "[LightGBM] [Warning] Unknown parameter: eval_metric\n"
     ]
    },
    {
     "name": "stderr",
     "output_type": "stream",
     "text": [
      "\u001b[32m[I 2021-09-22 17:53:33,551]\u001b[0m Trial 14 finished with value: 0.810216581553955 and parameters: {'n_estimators': 1024, 'depth': 5, 'learning_rate': 0.006516342453633245, 'reg_alpha': 1.1492335914788725, 'reg_lambda': 0.28064561731773063, 'subsample': 0.9772091754397457, 'boosting_type': 'gbdt'}. Best is trial 13 with value: 0.8119509856063114.\u001b[0m\n",
      "\u001b[34m\u001b[1mwandb\u001b[0m: \u001b[33mWARNING\u001b[0m Step must only increase in log calls.  Step 14 < 15; dropping {'n_estimators': 1024, 'depth': 5, 'learning_rate': 0.006516342453633245, 'reg_alpha': 1.1492335914788725, 'reg_lambda': 0.28064561731773063, 'subsample': 0.9772091754397457, 'boosting_type': 'gbdt', 'value': 0.810216581553955}.\n"
     ]
    },
    {
     "name": "stdout",
     "output_type": "stream",
     "text": [
      "ROC AUC Score of XGBoost = 0.810216581553955\n",
      "15 trials complete\n",
      "[LightGBM] [Warning] Unknown parameter: eval_metric\n"
     ]
    },
    {
     "name": "stderr",
     "output_type": "stream",
     "text": [
      "\u001b[32m[I 2021-09-22 17:55:21,098]\u001b[0m Trial 15 finished with value: 0.8084775439196384 and parameters: {'n_estimators': 988, 'depth': 6, 'learning_rate': 0.0035966491452255616, 'reg_alpha': 0.7820434669778742, 'reg_lambda': 6.757452064456593, 'subsample': 0.7975861846562473, 'boosting_type': 'gbdt'}. Best is trial 13 with value: 0.8119509856063114.\u001b[0m\n",
      "\u001b[34m\u001b[1mwandb\u001b[0m: \u001b[33mWARNING\u001b[0m Step must only increase in log calls.  Step 15 < 16; dropping {'n_estimators': 988, 'depth': 6, 'learning_rate': 0.0035966491452255616, 'reg_alpha': 0.7820434669778742, 'reg_lambda': 6.757452064456593, 'subsample': 0.7975861846562473, 'boosting_type': 'gbdt', 'value': 0.8084775439196384}.\n"
     ]
    },
    {
     "name": "stdout",
     "output_type": "stream",
     "text": [
      "ROC AUC Score of XGBoost = 0.8084775439196384\n",
      "[LightGBM] [Warning] Unknown parameter: eval_metric\n"
     ]
    },
    {
     "name": "stderr",
     "output_type": "stream",
     "text": [
      "\u001b[32m[I 2021-09-22 17:57:00,172]\u001b[0m Trial 16 finished with value: 0.8123638373066427 and parameters: {'n_estimators': 1025, 'depth': 6, 'learning_rate': 0.010313566086300137, 'reg_alpha': 4.694006104710628, 'reg_lambda': 0.029403962311001553, 'subsample': 0.8973226820560445, 'boosting_type': 'gbdt'}. Best is trial 16 with value: 0.8123638373066427.\u001b[0m\n",
      "\u001b[34m\u001b[1mwandb\u001b[0m: \u001b[33mWARNING\u001b[0m Step must only increase in log calls.  Step 16 < 17; dropping {'n_estimators': 1025, 'depth': 6, 'learning_rate': 0.010313566086300137, 'reg_alpha': 4.694006104710628, 'reg_lambda': 0.029403962311001553, 'subsample': 0.8973226820560445, 'boosting_type': 'gbdt', 'value': 0.8123638373066427}.\n"
     ]
    },
    {
     "name": "stdout",
     "output_type": "stream",
     "text": [
      "ROC AUC Score of XGBoost = 0.8123638373066427\n",
      "[LightGBM] [Warning] Unknown parameter: eval_metric\n"
     ]
    },
    {
     "name": "stderr",
     "output_type": "stream",
     "text": [
      "\u001b[32m[I 2021-09-22 17:58:08,797]\u001b[0m Trial 17 finished with value: 0.8128783227421723 and parameters: {'n_estimators': 987, 'depth': 5, 'learning_rate': 0.015607954311244916, 'reg_alpha': 0.0011412280505389357, 'reg_lambda': 0.026489981626919245, 'subsample': 0.9213448247189541, 'boosting_type': 'gbdt'}. Best is trial 17 with value: 0.8128783227421723.\u001b[0m\n",
      "\u001b[34m\u001b[1mwandb\u001b[0m: \u001b[33mWARNING\u001b[0m Step must only increase in log calls.  Step 17 < 18; dropping {'n_estimators': 987, 'depth': 5, 'learning_rate': 0.015607954311244916, 'reg_alpha': 0.0011412280505389357, 'reg_lambda': 0.026489981626919245, 'subsample': 0.9213448247189541, 'boosting_type': 'gbdt', 'value': 0.8128783227421723}.\n"
     ]
    },
    {
     "name": "stdout",
     "output_type": "stream",
     "text": [
      "ROC AUC Score of XGBoost = 0.8128783227421723\n",
      "[LightGBM] [Warning] Unknown parameter: eval_metric\n"
     ]
    },
    {
     "name": "stderr",
     "output_type": "stream",
     "text": [
      "\u001b[32m[I 2021-09-22 17:59:00,149]\u001b[0m Trial 18 finished with value: 0.8115696402858331 and parameters: {'n_estimators': 939, 'depth': 4, 'learning_rate': 0.012506773592481405, 'reg_alpha': 0.0012010676857084701, 'reg_lambda': 0.038667136023705063, 'subsample': 0.9262827456591065, 'boosting_type': 'gbdt'}. Best is trial 17 with value: 0.8128783227421723.\u001b[0m\n",
      "\u001b[34m\u001b[1mwandb\u001b[0m: \u001b[33mWARNING\u001b[0m Step must only increase in log calls.  Step 18 < 19; dropping {'n_estimators': 939, 'depth': 4, 'learning_rate': 0.012506773592481405, 'reg_alpha': 0.0012010676857084701, 'reg_lambda': 0.038667136023705063, 'subsample': 0.9262827456591065, 'boosting_type': 'gbdt', 'value': 0.8115696402858331}.\n"
     ]
    },
    {
     "name": "stdout",
     "output_type": "stream",
     "text": [
      "ROC AUC Score of XGBoost = 0.8115696402858331\n",
      "[LightGBM] [Warning] Unknown parameter: eval_metric\n"
     ]
    },
    {
     "name": "stderr",
     "output_type": "stream",
     "text": [
      "\u001b[32m[I 2021-09-22 17:59:22,091]\u001b[0m Trial 19 finished with value: 0.8106121127533503 and parameters: {'n_estimators': 295, 'depth': 5, 'learning_rate': 0.26585404157794157, 'reg_alpha': 0.030666222201743847, 'reg_lambda': 0.04073274634304744, 'subsample': 0.9312590561333169, 'boosting_type': 'gbdt'}. Best is trial 17 with value: 0.8128783227421723.\u001b[0m\n",
      "\u001b[34m\u001b[1mwandb\u001b[0m: \u001b[33mWARNING\u001b[0m Step must only increase in log calls.  Step 19 < 20; dropping {'n_estimators': 295, 'depth': 5, 'learning_rate': 0.26585404157794157, 'reg_alpha': 0.030666222201743847, 'reg_lambda': 0.04073274634304744, 'subsample': 0.9312590561333169, 'boosting_type': 'gbdt', 'value': 0.8106121127533503}.\n"
     ]
    },
    {
     "name": "stdout",
     "output_type": "stream",
     "text": [
      "ROC AUC Score of XGBoost = 0.8106121127533503\n",
      "20 trials complete\n",
      "[LightGBM] [Warning] Unknown parameter: eval_metric\n"
     ]
    },
    {
     "name": "stderr",
     "output_type": "stream",
     "text": [
      "\u001b[32m[I 2021-09-22 18:00:19,008]\u001b[0m Trial 20 finished with value: 0.8125233280694645 and parameters: {'n_estimators': 1063, 'depth': 4, 'learning_rate': 0.015296894973082379, 'reg_alpha': 0.011390965292668878, 'reg_lambda': 0.03261099221144412, 'subsample': 0.9349466406208279, 'boosting_type': 'gbdt'}. Best is trial 17 with value: 0.8128783227421723.\u001b[0m\n",
      "\u001b[34m\u001b[1mwandb\u001b[0m: \u001b[33mWARNING\u001b[0m Step must only increase in log calls.  Step 20 < 21; dropping {'n_estimators': 1063, 'depth': 4, 'learning_rate': 0.015296894973082379, 'reg_alpha': 0.011390965292668878, 'reg_lambda': 0.03261099221144412, 'subsample': 0.9349466406208279, 'boosting_type': 'gbdt', 'value': 0.8125233280694645}.\n"
     ]
    },
    {
     "name": "stdout",
     "output_type": "stream",
     "text": [
      "ROC AUC Score of XGBoost = 0.8125233280694645\n",
      "[LightGBM] [Warning] Unknown parameter: eval_metric\n"
     ]
    },
    {
     "name": "stderr",
     "output_type": "stream",
     "text": [
      "\u001b[32m[I 2021-09-22 18:01:11,800]\u001b[0m Trial 21 finished with value: 0.8121460284116853 and parameters: {'n_estimators': 1051, 'depth': 4, 'learning_rate': 0.013719465685050607, 'reg_alpha': 0.001134778730313057, 'reg_lambda': 0.03578455616109343, 'subsample': 0.9123161127609906, 'boosting_type': 'gbdt'}. Best is trial 17 with value: 0.8128783227421723.\u001b[0m\n",
      "\u001b[34m\u001b[1mwandb\u001b[0m: \u001b[33mWARNING\u001b[0m Step must only increase in log calls.  Step 21 < 22; dropping {'n_estimators': 1051, 'depth': 4, 'learning_rate': 0.013719465685050607, 'reg_alpha': 0.001134778730313057, 'reg_lambda': 0.03578455616109343, 'subsample': 0.9123161127609906, 'boosting_type': 'gbdt', 'value': 0.8121460284116853}.\n"
     ]
    },
    {
     "name": "stdout",
     "output_type": "stream",
     "text": [
      "ROC AUC Score of XGBoost = 0.8121460284116853\n",
      "[LightGBM] [Warning] Unknown parameter: eval_metric\n"
     ]
    },
    {
     "name": "stderr",
     "output_type": "stream",
     "text": [
      "\u001b[32m[I 2021-09-22 18:02:05,027]\u001b[0m Trial 22 finished with value: 0.8065226069570886 and parameters: {'n_estimators': 925, 'depth': 4, 'learning_rate': 0.003240158539727898, 'reg_alpha': 0.010537716492814151, 'reg_lambda': 0.014058269256513994, 'subsample': 0.945354006118084, 'boosting_type': 'gbdt'}. Best is trial 17 with value: 0.8128783227421723.\u001b[0m\n",
      "\u001b[34m\u001b[1mwandb\u001b[0m: \u001b[33mWARNING\u001b[0m Step must only increase in log calls.  Step 22 < 23; dropping {'n_estimators': 925, 'depth': 4, 'learning_rate': 0.003240158539727898, 'reg_alpha': 0.010537716492814151, 'reg_lambda': 0.014058269256513994, 'subsample': 0.945354006118084, 'boosting_type': 'gbdt', 'value': 0.8065226069570886}.\n"
     ]
    },
    {
     "name": "stdout",
     "output_type": "stream",
     "text": [
      "ROC AUC Score of XGBoost = 0.8065226069570886\n",
      "[LightGBM] [Warning] Unknown parameter: eval_metric\n"
     ]
    },
    {
     "name": "stderr",
     "output_type": "stream",
     "text": [
      "\u001b[32m[I 2021-09-22 18:03:12,174]\u001b[0m Trial 23 finished with value: 0.812856144972149 and parameters: {'n_estimators': 1087, 'depth': 5, 'learning_rate': 0.013750994655919727, 'reg_alpha': 0.020313604808365915, 'reg_lambda': 0.06549605790754351, 'subsample': 0.8982861642566999, 'boosting_type': 'gbdt'}. Best is trial 17 with value: 0.8128783227421723.\u001b[0m\n",
      "\u001b[34m\u001b[1mwandb\u001b[0m: \u001b[33mWARNING\u001b[0m Step must only increase in log calls.  Step 23 < 24; dropping {'n_estimators': 1087, 'depth': 5, 'learning_rate': 0.013750994655919727, 'reg_alpha': 0.020313604808365915, 'reg_lambda': 0.06549605790754351, 'subsample': 0.8982861642566999, 'boosting_type': 'gbdt', 'value': 0.812856144972149}.\n"
     ]
    },
    {
     "name": "stdout",
     "output_type": "stream",
     "text": [
      "ROC AUC Score of XGBoost = 0.812856144972149\n",
      "[LightGBM] [Warning] Unknown parameter: eval_metric\n"
     ]
    },
    {
     "name": "stderr",
     "output_type": "stream",
     "text": [
      "\u001b[32m[I 2021-09-22 18:04:26,046]\u001b[0m Trial 24 finished with value: 0.8135683025375404 and parameters: {'n_estimators': 1085, 'depth': 5, 'learning_rate': 0.01815177122941688, 'reg_alpha': 0.01363340554222975, 'reg_lambda': 0.5123324365409381, 'subsample': 0.7655641104582239, 'boosting_type': 'gbdt'}. Best is trial 24 with value: 0.8135683025375404.\u001b[0m\n",
      "\u001b[34m\u001b[1mwandb\u001b[0m: \u001b[33mWARNING\u001b[0m Step must only increase in log calls.  Step 24 < 25; dropping {'n_estimators': 1085, 'depth': 5, 'learning_rate': 0.01815177122941688, 'reg_alpha': 0.01363340554222975, 'reg_lambda': 0.5123324365409381, 'subsample': 0.7655641104582239, 'boosting_type': 'gbdt', 'value': 0.8135683025375404}.\n"
     ]
    },
    {
     "name": "stdout",
     "output_type": "stream",
     "text": [
      "ROC AUC Score of XGBoost = 0.8135683025375404\n",
      "25 trials complete\n",
      "[LightGBM] [Warning] Unknown parameter: eval_metric\n"
     ]
    },
    {
     "name": "stderr",
     "output_type": "stream",
     "text": [
      "\u001b[32m[I 2021-09-22 18:05:00,904]\u001b[0m Trial 25 finished with value: 0.8038792799869734 and parameters: {'n_estimators': 889, 'depth': 5, 'learning_rate': 0.1375245723346771, 'reg_alpha': 0.032983491291674966, 'reg_lambda': 0.30339407634567644, 'subsample': 0.7961869793164602, 'boosting_type': 'goss'}. Best is trial 24 with value: 0.8135683025375404.\u001b[0m\n",
      "\u001b[34m\u001b[1mwandb\u001b[0m: \u001b[33mWARNING\u001b[0m Step must only increase in log calls.  Step 25 < 26; dropping {'n_estimators': 889, 'depth': 5, 'learning_rate': 0.1375245723346771, 'reg_alpha': 0.032983491291674966, 'reg_lambda': 0.30339407634567644, 'subsample': 0.7961869793164602, 'boosting_type': 'goss', 'value': 0.8038792799869734}.\n"
     ]
    },
    {
     "name": "stdout",
     "output_type": "stream",
     "text": [
      "ROC AUC Score of XGBoost = 0.8038792799869734\n",
      "[LightGBM] [Warning] Unknown parameter: eval_metric\n"
     ]
    },
    {
     "name": "stderr",
     "output_type": "stream",
     "text": [
      "\u001b[32m[I 2021-09-22 18:05:45,136]\u001b[0m Trial 26 finished with value: 0.8137834075322907 and parameters: {'n_estimators': 659, 'depth': 5, 'learning_rate': 0.03322697216423159, 'reg_alpha': 0.0023856591628768843, 'reg_lambda': 0.8619554656790713, 'subsample': 0.7069538448219251, 'boosting_type': 'gbdt'}. Best is trial 26 with value: 0.8137834075322907.\u001b[0m\n",
      "\u001b[34m\u001b[1mwandb\u001b[0m: \u001b[33mWARNING\u001b[0m Step must only increase in log calls.  Step 26 < 27; dropping {'n_estimators': 659, 'depth': 5, 'learning_rate': 0.03322697216423159, 'reg_alpha': 0.0023856591628768843, 'reg_lambda': 0.8619554656790713, 'subsample': 0.7069538448219251, 'boosting_type': 'gbdt', 'value': 0.8137834075322907}.\n"
     ]
    },
    {
     "name": "stdout",
     "output_type": "stream",
     "text": [
      "ROC AUC Score of XGBoost = 0.8137834075322907\n",
      "[LightGBM] [Warning] Unknown parameter: eval_metric\n"
     ]
    },
    {
     "name": "stderr",
     "output_type": "stream",
     "text": [
      "\u001b[32m[I 2021-09-22 18:06:31,923]\u001b[0m Trial 27 finished with value: 0.8137268370258859 and parameters: {'n_estimators': 690, 'depth': 5, 'learning_rate': 0.03464742943328992, 'reg_alpha': 0.0022993465148887808, 'reg_lambda': 0.6695478320872544, 'subsample': 0.7279069419259765, 'boosting_type': 'gbdt'}. Best is trial 26 with value: 0.8137834075322907.\u001b[0m\n",
      "\u001b[34m\u001b[1mwandb\u001b[0m: \u001b[33mWARNING\u001b[0m Step must only increase in log calls.  Step 27 < 28; dropping {'n_estimators': 690, 'depth': 5, 'learning_rate': 0.03464742943328992, 'reg_alpha': 0.0022993465148887808, 'reg_lambda': 0.6695478320872544, 'subsample': 0.7279069419259765, 'boosting_type': 'gbdt', 'value': 0.8137268370258859}.\n"
     ]
    },
    {
     "name": "stdout",
     "output_type": "stream",
     "text": [
      "ROC AUC Score of XGBoost = 0.8137268370258859\n",
      "[LightGBM] [Warning] Unknown parameter: eval_metric\n"
     ]
    },
    {
     "name": "stderr",
     "output_type": "stream",
     "text": [
      "\u001b[32m[I 2021-09-22 18:07:08,552]\u001b[0m Trial 28 finished with value: 0.8134043409943947 and parameters: {'n_estimators': 682, 'depth': 4, 'learning_rate': 0.03645000621414232, 'reg_alpha': 0.005714214639136311, 'reg_lambda': 0.8269261777699977, 'subsample': 0.7066065253950672, 'boosting_type': 'gbdt'}. Best is trial 26 with value: 0.8137834075322907.\u001b[0m\n",
      "\u001b[34m\u001b[1mwandb\u001b[0m: \u001b[33mWARNING\u001b[0m Step must only increase in log calls.  Step 28 < 29; dropping {'n_estimators': 682, 'depth': 4, 'learning_rate': 0.03645000621414232, 'reg_alpha': 0.005714214639136311, 'reg_lambda': 0.8269261777699977, 'subsample': 0.7066065253950672, 'boosting_type': 'gbdt', 'value': 0.8134043409943947}.\n"
     ]
    },
    {
     "name": "stdout",
     "output_type": "stream",
     "text": [
      "ROC AUC Score of XGBoost = 0.8134043409943947\n",
      "[LightGBM] [Warning] Unknown parameter: eval_metric\n"
     ]
    },
    {
     "name": "stderr",
     "output_type": "stream",
     "text": [
      "\u001b[32m[I 2021-09-22 18:07:33,614]\u001b[0m Trial 29 finished with value: 0.8092411149783951 and parameters: {'n_estimators': 579, 'depth': 6, 'learning_rate': 0.10413163103686011, 'reg_alpha': 0.0020895055947885805, 'reg_lambda': 3.126083354221346, 'subsample': 0.6218052502314834, 'boosting_type': 'goss'}. Best is trial 26 with value: 0.8137834075322907.\u001b[0m\n",
      "\u001b[34m\u001b[1mwandb\u001b[0m: \u001b[33mWARNING\u001b[0m Step must only increase in log calls.  Step 29 < 30; dropping {'n_estimators': 579, 'depth': 6, 'learning_rate': 0.10413163103686011, 'reg_alpha': 0.0020895055947885805, 'reg_lambda': 3.126083354221346, 'subsample': 0.6218052502314834, 'boosting_type': 'goss', 'value': 0.8092411149783951}.\n"
     ]
    },
    {
     "name": "stdout",
     "output_type": "stream",
     "text": [
      "ROC AUC Score of XGBoost = 0.8092411149783951\n",
      "30 trials complete\n",
      "[LightGBM] [Warning] Unknown parameter: eval_metric\n"
     ]
    },
    {
     "name": "stderr",
     "output_type": "stream",
     "text": [
      "\u001b[32m[I 2021-09-22 18:08:08,945]\u001b[0m Trial 30 finished with value: 0.8127428811475808 and parameters: {'n_estimators': 326, 'depth': 5, 'learning_rate': 0.049276207672871886, 'reg_alpha': 0.004967305934146923, 'reg_lambda': 0.489963281638061, 'subsample': 0.7395413851559044, 'boosting_type': 'gbdt'}. Best is trial 26 with value: 0.8137834075322907.\u001b[0m\n",
      "\u001b[34m\u001b[1mwandb\u001b[0m: \u001b[33mWARNING\u001b[0m Step must only increase in log calls.  Step 30 < 31; dropping {'n_estimators': 326, 'depth': 5, 'learning_rate': 0.049276207672871886, 'reg_alpha': 0.004967305934146923, 'reg_lambda': 0.489963281638061, 'subsample': 0.7395413851559044, 'boosting_type': 'gbdt', 'value': 0.8127428811475808}.\n"
     ]
    },
    {
     "name": "stdout",
     "output_type": "stream",
     "text": [
      "ROC AUC Score of XGBoost = 0.8127428811475808\n",
      "[LightGBM] [Warning] Unknown parameter: eval_metric\n"
     ]
    },
    {
     "name": "stderr",
     "output_type": "stream",
     "text": [
      "\u001b[32m[I 2021-09-22 18:09:01,373]\u001b[0m Trial 31 finished with value: 0.813455824780279 and parameters: {'n_estimators': 736, 'depth': 4, 'learning_rate': 0.03320584846505921, 'reg_alpha': 0.005636742013390637, 'reg_lambda': 1.1291730416753074, 'subsample': 0.7039491058822755, 'boosting_type': 'gbdt'}. Best is trial 26 with value: 0.8137834075322907.\u001b[0m\n",
      "\u001b[34m\u001b[1mwandb\u001b[0m: \u001b[33mWARNING\u001b[0m Step must only increase in log calls.  Step 31 < 32; dropping {'n_estimators': 736, 'depth': 4, 'learning_rate': 0.03320584846505921, 'reg_alpha': 0.005636742013390637, 'reg_lambda': 1.1291730416753074, 'subsample': 0.7039491058822755, 'boosting_type': 'gbdt', 'value': 0.813455824780279}.\n"
     ]
    },
    {
     "name": "stdout",
     "output_type": "stream",
     "text": [
      "ROC AUC Score of XGBoost = 0.813455824780279\n",
      "[LightGBM] [Warning] Unknown parameter: eval_metric\n"
     ]
    },
    {
     "name": "stderr",
     "output_type": "stream",
     "text": [
      "\u001b[32m[I 2021-09-22 18:09:50,075]\u001b[0m Trial 32 finished with value: 0.812501250174062 and parameters: {'n_estimators': 683, 'depth': 4, 'learning_rate': 0.02396594406875456, 'reg_alpha': 0.0028816085830867303, 'reg_lambda': 2.1565352072335666, 'subsample': 0.7203987815043843, 'boosting_type': 'gbdt'}. Best is trial 26 with value: 0.8137834075322907.\u001b[0m\n",
      "\u001b[34m\u001b[1mwandb\u001b[0m: \u001b[33mWARNING\u001b[0m Step must only increase in log calls.  Step 32 < 33; dropping {'n_estimators': 683, 'depth': 4, 'learning_rate': 0.02396594406875456, 'reg_alpha': 0.0028816085830867303, 'reg_lambda': 2.1565352072335666, 'subsample': 0.7203987815043843, 'boosting_type': 'gbdt', 'value': 0.812501250174062}.\n"
     ]
    },
    {
     "name": "stdout",
     "output_type": "stream",
     "text": [
      "ROC AUC Score of XGBoost = 0.812501250174062\n",
      "[LightGBM] [Warning] Unknown parameter: eval_metric\n"
     ]
    },
    {
     "name": "stderr",
     "output_type": "stream",
     "text": [
      "\u001b[32m[I 2021-09-22 18:10:37,050]\u001b[0m Trial 33 finished with value: 0.8131531108889269 and parameters: {'n_estimators': 529, 'depth': 5, 'learning_rate': 0.032618493444185104, 'reg_alpha': 0.0020269918326526887, 'reg_lambda': 0.5404639233673946, 'subsample': 0.6538905406582723, 'boosting_type': 'gbdt'}. Best is trial 26 with value: 0.8137834075322907.\u001b[0m\n",
      "\u001b[34m\u001b[1mwandb\u001b[0m: \u001b[33mWARNING\u001b[0m Step must only increase in log calls.  Step 33 < 34; dropping {'n_estimators': 529, 'depth': 5, 'learning_rate': 0.032618493444185104, 'reg_alpha': 0.0020269918326526887, 'reg_lambda': 0.5404639233673946, 'subsample': 0.6538905406582723, 'boosting_type': 'gbdt', 'value': 0.8131531108889269}.\n"
     ]
    },
    {
     "name": "stdout",
     "output_type": "stream",
     "text": [
      "ROC AUC Score of XGBoost = 0.8131531108889269\n",
      "[LightGBM] [Warning] Unknown parameter: eval_metric\n"
     ]
    },
    {
     "name": "stderr",
     "output_type": "stream",
     "text": [
      "\u001b[32m[I 2021-09-22 18:11:18,629]\u001b[0m Trial 34 finished with value: 0.8137940819476331 and parameters: {'n_estimators': 820, 'depth': 4, 'learning_rate': 0.15062735114478162, 'reg_alpha': 0.00803045718316231, 'reg_lambda': 1.9608770932932025, 'subsample': 0.7807941713604475, 'boosting_type': 'gbdt'}. Best is trial 34 with value: 0.8137940819476331.\u001b[0m\n",
      "\u001b[34m\u001b[1mwandb\u001b[0m: \u001b[33mWARNING\u001b[0m Step must only increase in log calls.  Step 34 < 35; dropping {'n_estimators': 820, 'depth': 4, 'learning_rate': 0.15062735114478162, 'reg_alpha': 0.00803045718316231, 'reg_lambda': 1.9608770932932025, 'subsample': 0.7807941713604475, 'boosting_type': 'gbdt', 'value': 0.8137940819476331}.\n"
     ]
    },
    {
     "name": "stdout",
     "output_type": "stream",
     "text": [
      "ROC AUC Score of XGBoost = 0.8137940819476331\n",
      "35 trials complete\n",
      "[LightGBM] [Warning] Unknown parameter: eval_metric\n"
     ]
    },
    {
     "name": "stderr",
     "output_type": "stream",
     "text": [
      "\u001b[32m[I 2021-09-22 18:13:48,055]\u001b[0m Trial 35 finished with value: 0.8129632842207672 and parameters: {'n_estimators': 867, 'depth': 5, 'learning_rate': 0.1371026438765792, 'reg_alpha': 0.009060039386071956, 'reg_lambda': 2.325960553917755, 'subsample': 0.7798995027479152, 'boosting_type': 'dart'}. Best is trial 34 with value: 0.8137940819476331.\u001b[0m\n",
      "\u001b[34m\u001b[1mwandb\u001b[0m: \u001b[33mWARNING\u001b[0m Step must only increase in log calls.  Step 35 < 36; dropping {'n_estimators': 867, 'depth': 5, 'learning_rate': 0.1371026438765792, 'reg_alpha': 0.009060039386071956, 'reg_lambda': 2.325960553917755, 'subsample': 0.7798995027479152, 'boosting_type': 'dart', 'value': 0.8129632842207672}.\n"
     ]
    },
    {
     "name": "stdout",
     "output_type": "stream",
     "text": [
      "ROC AUC Score of XGBoost = 0.8129632842207672\n",
      "[LightGBM] [Warning] Unknown parameter: eval_metric\n"
     ]
    },
    {
     "name": "stderr",
     "output_type": "stream",
     "text": [
      "\u001b[32m[I 2021-09-22 18:14:19,039]\u001b[0m Trial 36 finished with value: 0.813859167576074 and parameters: {'n_estimators': 815, 'depth': 3, 'learning_rate': 0.24708280034940783, 'reg_alpha': 0.06148224103139454, 'reg_lambda': 4.0326695773671855, 'subsample': 0.7649936650044321, 'boosting_type': 'gbdt'}. Best is trial 36 with value: 0.813859167576074.\u001b[0m\n",
      "\u001b[34m\u001b[1mwandb\u001b[0m: \u001b[33mWARNING\u001b[0m Step must only increase in log calls.  Step 36 < 37; dropping {'n_estimators': 815, 'depth': 3, 'learning_rate': 0.24708280034940783, 'reg_alpha': 0.06148224103139454, 'reg_lambda': 4.0326695773671855, 'subsample': 0.7649936650044321, 'boosting_type': 'gbdt', 'value': 0.813859167576074}.\n"
     ]
    },
    {
     "name": "stdout",
     "output_type": "stream",
     "text": [
      "ROC AUC Score of XGBoost = 0.813859167576074\n",
      "[LightGBM] [Warning] Unknown parameter: eval_metric\n"
     ]
    },
    {
     "name": "stderr",
     "output_type": "stream",
     "text": [
      "\u001b[32m[I 2021-09-22 18:14:43,809]\u001b[0m Trial 37 finished with value: 0.8109759141259452 and parameters: {'n_estimators': 798, 'depth': 2, 'learning_rate': 0.27497793425060796, 'reg_alpha': 0.21130128069281584, 'reg_lambda': 6.070260006023605, 'subsample': 0.6048015988570616, 'boosting_type': 'goss'}. Best is trial 36 with value: 0.813859167576074.\u001b[0m\n",
      "\u001b[34m\u001b[1mwandb\u001b[0m: \u001b[33mWARNING\u001b[0m Step must only increase in log calls.  Step 37 < 38; dropping {'n_estimators': 798, 'depth': 2, 'learning_rate': 0.27497793425060796, 'reg_alpha': 0.21130128069281584, 'reg_lambda': 6.070260006023605, 'subsample': 0.6048015988570616, 'boosting_type': 'goss', 'value': 0.8109759141259452}.\n"
     ]
    },
    {
     "name": "stdout",
     "output_type": "stream",
     "text": [
      "ROC AUC Score of XGBoost = 0.8109759141259452\n",
      "[LightGBM] [Warning] Unknown parameter: eval_metric\n"
     ]
    },
    {
     "name": "stderr",
     "output_type": "stream",
     "text": [
      "\u001b[32m[I 2021-09-22 18:15:38,717]\u001b[0m Trial 38 finished with value: 0.8133218096114352 and parameters: {'n_estimators': 615, 'depth': 3, 'learning_rate': 0.3530674854948722, 'reg_alpha': 0.06567138930628409, 'reg_lambda': 3.8301737374318474, 'subsample': 0.681205669544325, 'boosting_type': 'dart'}. Best is trial 36 with value: 0.813859167576074.\u001b[0m\n",
      "\u001b[34m\u001b[1mwandb\u001b[0m: \u001b[33mWARNING\u001b[0m Step must only increase in log calls.  Step 38 < 39; dropping {'n_estimators': 615, 'depth': 3, 'learning_rate': 0.3530674854948722, 'reg_alpha': 0.06567138930628409, 'reg_lambda': 3.8301737374318474, 'subsample': 0.681205669544325, 'boosting_type': 'dart', 'value': 0.8133218096114352}.\n"
     ]
    },
    {
     "name": "stdout",
     "output_type": "stream",
     "text": [
      "ROC AUC Score of XGBoost = 0.8133218096114352\n",
      "[LightGBM] [Warning] Unknown parameter: eval_metric\n"
     ]
    },
    {
     "name": "stderr",
     "output_type": "stream",
     "text": [
      "\u001b[32m[I 2021-09-22 18:16:10,947]\u001b[0m Trial 39 finished with value: 0.8144799570361878 and parameters: {'n_estimators': 832, 'depth': 3, 'learning_rate': 0.19713106649728065, 'reg_alpha': 0.0018987144197536103, 'reg_lambda': 1.7800055195288995, 'subsample': 0.8131841892756045, 'boosting_type': 'gbdt'}. Best is trial 39 with value: 0.8144799570361878.\u001b[0m\n",
      "\u001b[34m\u001b[1mwandb\u001b[0m: \u001b[33mWARNING\u001b[0m Step must only increase in log calls.  Step 39 < 40; dropping {'n_estimators': 832, 'depth': 3, 'learning_rate': 0.19713106649728065, 'reg_alpha': 0.0018987144197536103, 'reg_lambda': 1.7800055195288995, 'subsample': 0.8131841892756045, 'boosting_type': 'gbdt', 'value': 0.8144799570361878}.\n"
     ]
    },
    {
     "name": "stdout",
     "output_type": "stream",
     "text": [
      "ROC AUC Score of XGBoost = 0.8144799570361878\n",
      "40 trials complete\n",
      "[LightGBM] [Warning] Unknown parameter: eval_metric\n"
     ]
    },
    {
     "name": "stderr",
     "output_type": "stream",
     "text": [
      "\u001b[32m[I 2021-09-22 18:17:09,356]\u001b[0m Trial 40 finished with value: 0.8116163103551701 and parameters: {'n_estimators': 815, 'depth': 2, 'learning_rate': 0.2051852055587038, 'reg_alpha': 0.28343683586273416, 'reg_lambda': 2.1594907392018676, 'subsample': 0.8212687608148057, 'boosting_type': 'dart'}. Best is trial 39 with value: 0.8144799570361878.\u001b[0m\n",
      "\u001b[34m\u001b[1mwandb\u001b[0m: \u001b[33mWARNING\u001b[0m Step must only increase in log calls.  Step 40 < 41; dropping {'n_estimators': 815, 'depth': 2, 'learning_rate': 0.2051852055587038, 'reg_alpha': 0.28343683586273416, 'reg_lambda': 2.1594907392018676, 'subsample': 0.8212687608148057, 'boosting_type': 'dart', 'value': 0.8116163103551701}.\n"
     ]
    },
    {
     "name": "stdout",
     "output_type": "stream",
     "text": [
      "ROC AUC Score of XGBoost = 0.8116163103551701\n",
      "[LightGBM] [Warning] Unknown parameter: eval_metric\n"
     ]
    },
    {
     "name": "stderr",
     "output_type": "stream",
     "text": [
      "\u001b[32m[I 2021-09-22 18:17:35,763]\u001b[0m Trial 41 finished with value: 0.8144273893204502 and parameters: {'n_estimators': 692, 'depth': 3, 'learning_rate': 0.08822600040694197, 'reg_alpha': 0.002281107630624599, 'reg_lambda': 1.6733185502627452, 'subsample': 0.7498468113931638, 'boosting_type': 'gbdt'}. Best is trial 39 with value: 0.8144799570361878.\u001b[0m\n",
      "\u001b[34m\u001b[1mwandb\u001b[0m: \u001b[33mWARNING\u001b[0m Step must only increase in log calls.  Step 41 < 42; dropping {'n_estimators': 692, 'depth': 3, 'learning_rate': 0.08822600040694197, 'reg_alpha': 0.002281107630624599, 'reg_lambda': 1.6733185502627452, 'subsample': 0.7498468113931638, 'boosting_type': 'gbdt', 'value': 0.8144273893204502}.\n"
     ]
    },
    {
     "name": "stdout",
     "output_type": "stream",
     "text": [
      "ROC AUC Score of XGBoost = 0.8144273893204502\n",
      "[LightGBM] [Warning] Unknown parameter: eval_metric\n"
     ]
    },
    {
     "name": "stderr",
     "output_type": "stream",
     "text": [
      "\u001b[32m[I 2021-09-22 18:18:01,940]\u001b[0m Trial 42 finished with value: 0.8143268549666502 and parameters: {'n_estimators': 624, 'depth': 3, 'learning_rate': 0.091757456590631, 'reg_alpha': 0.003639300676934364, 'reg_lambda': 1.5673847326537826, 'subsample': 0.7697796456255446, 'boosting_type': 'gbdt'}. Best is trial 39 with value: 0.8144799570361878.\u001b[0m\n",
      "\u001b[34m\u001b[1mwandb\u001b[0m: \u001b[33mWARNING\u001b[0m Step must only increase in log calls.  Step 42 < 43; dropping {'n_estimators': 624, 'depth': 3, 'learning_rate': 0.091757456590631, 'reg_alpha': 0.003639300676934364, 'reg_lambda': 1.5673847326537826, 'subsample': 0.7697796456255446, 'boosting_type': 'gbdt', 'value': 0.8143268549666502}.\n"
     ]
    },
    {
     "name": "stdout",
     "output_type": "stream",
     "text": [
      "ROC AUC Score of XGBoost = 0.8143268549666502\n",
      "[LightGBM] [Warning] Unknown parameter: eval_metric\n"
     ]
    },
    {
     "name": "stderr",
     "output_type": "stream",
     "text": [
      "\u001b[32m[I 2021-09-22 18:18:23,100]\u001b[0m Trial 43 finished with value: 0.8143394589436561 and parameters: {'n_estimators': 488, 'depth': 3, 'learning_rate': 0.168875542149052, 'reg_alpha': 0.003976777987181225, 'reg_lambda': 1.4606892751166403, 'subsample': 0.763423562191461, 'boosting_type': 'gbdt'}. Best is trial 39 with value: 0.8144799570361878.\u001b[0m\n",
      "\u001b[34m\u001b[1mwandb\u001b[0m: \u001b[33mWARNING\u001b[0m Step must only increase in log calls.  Step 43 < 44; dropping {'n_estimators': 488, 'depth': 3, 'learning_rate': 0.168875542149052, 'reg_alpha': 0.003976777987181225, 'reg_lambda': 1.4606892751166403, 'subsample': 0.763423562191461, 'boosting_type': 'gbdt', 'value': 0.8143394589436561}.\n"
     ]
    },
    {
     "name": "stdout",
     "output_type": "stream",
     "text": [
      "ROC AUC Score of XGBoost = 0.8143394589436561\n",
      "[LightGBM] [Warning] Unknown parameter: eval_metric\n"
     ]
    },
    {
     "name": "stderr",
     "output_type": "stream",
     "text": [
      "\u001b[32m[I 2021-09-22 18:18:43,116]\u001b[0m Trial 44 finished with value: 0.8139768498218463 and parameters: {'n_estimators': 492, 'depth': 3, 'learning_rate': 0.09367975493664947, 'reg_alpha': 0.004249882230270333, 'reg_lambda': 3.8607332673477166, 'subsample': 0.8166275884299544, 'boosting_type': 'gbdt'}. Best is trial 39 with value: 0.8144799570361878.\u001b[0m\n",
      "\u001b[34m\u001b[1mwandb\u001b[0m: \u001b[33mWARNING\u001b[0m Step must only increase in log calls.  Step 44 < 45; dropping {'n_estimators': 492, 'depth': 3, 'learning_rate': 0.09367975493664947, 'reg_alpha': 0.004249882230270333, 'reg_lambda': 3.8607332673477166, 'subsample': 0.8166275884299544, 'boosting_type': 'gbdt', 'value': 0.8139768498218463}.\n"
     ]
    },
    {
     "name": "stdout",
     "output_type": "stream",
     "text": [
      "ROC AUC Score of XGBoost = 0.8139768498218463\n",
      "45 trials complete\n",
      "[LightGBM] [Warning] Unknown parameter: eval_metric\n"
     ]
    },
    {
     "name": "stderr",
     "output_type": "stream",
     "text": [
      "\u001b[32m[I 2021-09-22 18:19:02,286]\u001b[0m Trial 45 finished with value: 0.8138154294573311 and parameters: {'n_estimators': 432, 'depth': 3, 'learning_rate': 0.10103646940880737, 'reg_alpha': 0.0037854698455161056, 'reg_lambda': 1.2302230271117334, 'subsample': 0.8126915829188991, 'boosting_type': 'gbdt'}. Best is trial 39 with value: 0.8144799570361878.\u001b[0m\n",
      "\u001b[34m\u001b[1mwandb\u001b[0m: \u001b[33mWARNING\u001b[0m Step must only increase in log calls.  Step 45 < 46; dropping {'n_estimators': 432, 'depth': 3, 'learning_rate': 0.10103646940880737, 'reg_alpha': 0.0037854698455161056, 'reg_lambda': 1.2302230271117334, 'subsample': 0.8126915829188991, 'boosting_type': 'gbdt', 'value': 0.8138154294573311}.\n"
     ]
    },
    {
     "name": "stdout",
     "output_type": "stream",
     "text": [
      "ROC AUC Score of XGBoost = 0.8138154294573311\n",
      "[LightGBM] [Warning] Unknown parameter: eval_metric\n"
     ]
    },
    {
     "name": "stderr",
     "output_type": "stream",
     "text": [
      "\u001b[32m[I 2021-09-22 18:19:29,736]\u001b[0m Trial 46 finished with value: 0.8133371150468238 and parameters: {'n_estimators': 525, 'depth': 2, 'learning_rate': 0.08660310237974043, 'reg_alpha': 0.0014349856931451003, 'reg_lambda': 1.6586289073831255, 'subsample': 0.8416649927169343, 'boosting_type': 'goss'}. Best is trial 39 with value: 0.8144799570361878.\u001b[0m\n",
      "\u001b[34m\u001b[1mwandb\u001b[0m: \u001b[33mWARNING\u001b[0m Step must only increase in log calls.  Step 46 < 47; dropping {'n_estimators': 525, 'depth': 2, 'learning_rate': 0.08660310237974043, 'reg_alpha': 0.0014349856931451003, 'reg_lambda': 1.6586289073831255, 'subsample': 0.8416649927169343, 'boosting_type': 'goss', 'value': 0.8133371150468238}.\n"
     ]
    },
    {
     "name": "stdout",
     "output_type": "stream",
     "text": [
      "ROC AUC Score of XGBoost = 0.8133371150468238\n",
      "[LightGBM] [Warning] Unknown parameter: eval_metric\n"
     ]
    },
    {
     "name": "stderr",
     "output_type": "stream",
     "text": [
      "\u001b[32m[I 2021-09-22 18:19:46,407]\u001b[0m Trial 47 finished with value: 0.812209802019856 and parameters: {'n_estimators': 376, 'depth': 3, 'learning_rate': 0.05430884001315024, 'reg_alpha': 0.004128823073515542, 'reg_lambda': 4.814060228345178, 'subsample': 0.7556790738235926, 'boosting_type': 'gbdt'}. Best is trial 39 with value: 0.8144799570361878.\u001b[0m\n",
      "\u001b[34m\u001b[1mwandb\u001b[0m: \u001b[33mWARNING\u001b[0m Step must only increase in log calls.  Step 47 < 48; dropping {'n_estimators': 376, 'depth': 3, 'learning_rate': 0.05430884001315024, 'reg_alpha': 0.004128823073515542, 'reg_lambda': 4.814060228345178, 'subsample': 0.7556790738235926, 'boosting_type': 'gbdt', 'value': 0.812209802019856}.\n"
     ]
    },
    {
     "name": "stdout",
     "output_type": "stream",
     "text": [
      "ROC AUC Score of XGBoost = 0.812209802019856\n",
      "[LightGBM] [Warning] Unknown parameter: eval_metric\n"
     ]
    },
    {
     "name": "stderr",
     "output_type": "stream",
     "text": [
      "\u001b[32m[I 2021-09-22 18:19:59,033]\u001b[0m Trial 48 finished with value: 0.8135739519985103 and parameters: {'n_estimators': 232, 'depth': 3, 'learning_rate': 0.17687890607748719, 'reg_alpha': 0.0067306475642116255, 'reg_lambda': 1.356695838448415, 'subsample': 0.7985195968789253, 'boosting_type': 'gbdt'}. Best is trial 39 with value: 0.8144799570361878.\u001b[0m\n",
      "\u001b[34m\u001b[1mwandb\u001b[0m: \u001b[33mWARNING\u001b[0m Step must only increase in log calls.  Step 48 < 49; dropping {'n_estimators': 232, 'depth': 3, 'learning_rate': 0.17687890607748719, 'reg_alpha': 0.0067306475642116255, 'reg_lambda': 1.356695838448415, 'subsample': 0.7985195968789253, 'boosting_type': 'gbdt', 'value': 0.8135739519985103}.\n"
     ]
    },
    {
     "name": "stdout",
     "output_type": "stream",
     "text": [
      "ROC AUC Score of XGBoost = 0.8135739519985103\n",
      "[LightGBM] [Warning] Unknown parameter: eval_metric\n"
     ]
    },
    {
     "name": "stderr",
     "output_type": "stream",
     "text": [
      "\u001b[32m[I 2021-09-22 18:20:34,042]\u001b[0m Trial 49 finished with value: 0.8062880096587494 and parameters: {'n_estimators': 494, 'depth': 2, 'learning_rate': 0.08150733447722591, 'reg_alpha': 0.0017519714658467706, 'reg_lambda': 3.2927671145257906, 'subsample': 0.7401472789339005, 'boosting_type': 'dart'}. Best is trial 39 with value: 0.8144799570361878.\u001b[0m\n",
      "\u001b[34m\u001b[1mwandb\u001b[0m: \u001b[33mWARNING\u001b[0m Step must only increase in log calls.  Step 49 < 50; dropping {'n_estimators': 494, 'depth': 2, 'learning_rate': 0.08150733447722591, 'reg_alpha': 0.0017519714658467706, 'reg_lambda': 3.2927671145257906, 'subsample': 0.7401472789339005, 'boosting_type': 'dart', 'value': 0.8062880096587494}.\n"
     ]
    },
    {
     "name": "stdout",
     "output_type": "stream",
     "text": [
      "ROC AUC Score of XGBoost = 0.8062880096587494\n",
      "50 trials complete\n",
      "[LightGBM] [Warning] Unknown parameter: eval_metric\n"
     ]
    },
    {
     "name": "stderr",
     "output_type": "stream",
     "text": [
      "\u001b[32m[I 2021-09-22 18:20:58,595]\u001b[0m Trial 50 finished with value: 0.8136703523836338 and parameters: {'n_estimators': 595, 'depth': 3, 'learning_rate': 0.06587586744183034, 'reg_alpha': 0.003270491330103576, 'reg_lambda': 0.3751491628190726, 'subsample': 0.8317430963998255, 'boosting_type': 'gbdt'}. Best is trial 39 with value: 0.8144799570361878.\u001b[0m\n",
      "\u001b[34m\u001b[1mwandb\u001b[0m: \u001b[33mWARNING\u001b[0m Step must only increase in log calls.  Step 50 < 51; dropping {'n_estimators': 595, 'depth': 3, 'learning_rate': 0.06587586744183034, 'reg_alpha': 0.003270491330103576, 'reg_lambda': 0.3751491628190726, 'subsample': 0.8317430963998255, 'boosting_type': 'gbdt', 'value': 0.8136703523836338}.\n"
     ]
    },
    {
     "name": "stdout",
     "output_type": "stream",
     "text": [
      "ROC AUC Score of XGBoost = 0.8136703523836338\n",
      "[LightGBM] [Warning] Unknown parameter: eval_metric\n"
     ]
    },
    {
     "name": "stderr",
     "output_type": "stream",
     "text": [
      "\u001b[32m[I 2021-09-22 18:21:27,684]\u001b[0m Trial 51 finished with value: 0.8137891031877746 and parameters: {'n_estimators': 736, 'depth': 3, 'learning_rate': 0.24220322612437883, 'reg_alpha': 0.01921940469086249, 'reg_lambda': 4.428507502156781, 'subsample': 0.7720159056356755, 'boosting_type': 'gbdt'}. Best is trial 39 with value: 0.8144799570361878.\u001b[0m\n",
      "\u001b[34m\u001b[1mwandb\u001b[0m: \u001b[33mWARNING\u001b[0m Step must only increase in log calls.  Step 51 < 52; dropping {'n_estimators': 736, 'depth': 3, 'learning_rate': 0.24220322612437883, 'reg_alpha': 0.01921940469086249, 'reg_lambda': 4.428507502156781, 'subsample': 0.7720159056356755, 'boosting_type': 'gbdt', 'value': 0.8137891031877746}.\n"
     ]
    },
    {
     "name": "stdout",
     "output_type": "stream",
     "text": [
      "ROC AUC Score of XGBoost = 0.8137891031877746\n",
      "[LightGBM] [Warning] Unknown parameter: eval_metric\n"
     ]
    },
    {
     "name": "stderr",
     "output_type": "stream",
     "text": [
      "\u001b[32m[I 2021-09-22 18:21:46,020]\u001b[0m Trial 52 finished with value: 0.8128351503661215 and parameters: {'n_estimators': 455, 'depth': 3, 'learning_rate': 0.37953004464042234, 'reg_alpha': 0.12574745290551897, 'reg_lambda': 6.542495827107001, 'subsample': 0.5046415888966249, 'boosting_type': 'gbdt'}. Best is trial 39 with value: 0.8144799570361878.\u001b[0m\n",
      "\u001b[34m\u001b[1mwandb\u001b[0m: \u001b[33mWARNING\u001b[0m Step must only increase in log calls.  Step 52 < 53; dropping {'n_estimators': 455, 'depth': 3, 'learning_rate': 0.37953004464042234, 'reg_alpha': 0.12574745290551897, 'reg_lambda': 6.542495827107001, 'subsample': 0.5046415888966249, 'boosting_type': 'gbdt', 'value': 0.8128351503661215}.\n"
     ]
    },
    {
     "name": "stdout",
     "output_type": "stream",
     "text": [
      "ROC AUC Score of XGBoost = 0.8128351503661215\n",
      "[LightGBM] [Warning] Unknown parameter: eval_metric\n"
     ]
    },
    {
     "name": "stderr",
     "output_type": "stream",
     "text": [
      "\u001b[32m[I 2021-09-22 18:22:06,445]\u001b[0m Trial 53 finished with value: 0.8132689407907285 and parameters: {'n_estimators': 577, 'depth': 2, 'learning_rate': 0.10600557174919614, 'reg_alpha': 0.0028491108240177184, 'reg_lambda': 2.7490780575993767, 'subsample': 0.8631110930268537, 'boosting_type': 'gbdt'}. Best is trial 39 with value: 0.8144799570361878.\u001b[0m\n",
      "\u001b[34m\u001b[1mwandb\u001b[0m: \u001b[33mWARNING\u001b[0m Step must only increase in log calls.  Step 53 < 54; dropping {'n_estimators': 577, 'depth': 2, 'learning_rate': 0.10600557174919614, 'reg_alpha': 0.0028491108240177184, 'reg_lambda': 2.7490780575993767, 'subsample': 0.8631110930268537, 'boosting_type': 'gbdt', 'value': 0.8132689407907285}.\n"
     ]
    },
    {
     "name": "stdout",
     "output_type": "stream",
     "text": [
      "ROC AUC Score of XGBoost = 0.8132689407907285\n",
      "[LightGBM] [Warning] Unknown parameter: eval_metric\n"
     ]
    },
    {
     "name": "stderr",
     "output_type": "stream",
     "text": [
      "\u001b[32m[I 2021-09-22 18:22:33,057]\u001b[0m Trial 54 finished with value: 0.8144184880298901 and parameters: {'n_estimators': 633, 'depth': 3, 'learning_rate': 0.19597417429012234, 'reg_alpha': 0.05652663365776879, 'reg_lambda': 1.576306843279936, 'subsample': 0.80681905754631, 'boosting_type': 'gbdt'}. Best is trial 39 with value: 0.8144799570361878.\u001b[0m\n",
      "\u001b[34m\u001b[1mwandb\u001b[0m: \u001b[33mWARNING\u001b[0m Step must only increase in log calls.  Step 54 < 55; dropping {'n_estimators': 633, 'depth': 3, 'learning_rate': 0.19597417429012234, 'reg_alpha': 0.05652663365776879, 'reg_lambda': 1.576306843279936, 'subsample': 0.80681905754631, 'boosting_type': 'gbdt', 'value': 0.8144184880298901}.\n"
     ]
    },
    {
     "name": "stdout",
     "output_type": "stream",
     "text": [
      "ROC AUC Score of XGBoost = 0.8144184880298901\n",
      "55 trials complete\n",
      "[LightGBM] [Warning] Unknown parameter: eval_metric\n"
     ]
    },
    {
     "name": "stderr",
     "output_type": "stream",
     "text": [
      "\u001b[32m[I 2021-09-22 18:22:57,651]\u001b[0m Trial 55 finished with value: 0.8148271719763025 and parameters: {'n_estimators': 631, 'depth': 3, 'learning_rate': 0.18098296903219221, 'reg_alpha': 0.004255665551747621, 'reg_lambda': 1.418887185492004, 'subsample': 0.8050912438988772, 'boosting_type': 'gbdt'}. Best is trial 55 with value: 0.8148271719763025.\u001b[0m\n",
      "\u001b[34m\u001b[1mwandb\u001b[0m: \u001b[33mWARNING\u001b[0m Step must only increase in log calls.  Step 55 < 56; dropping {'n_estimators': 631, 'depth': 3, 'learning_rate': 0.18098296903219221, 'reg_alpha': 0.004255665551747621, 'reg_lambda': 1.418887185492004, 'subsample': 0.8050912438988772, 'boosting_type': 'gbdt', 'value': 0.8148271719763025}.\n"
     ]
    },
    {
     "name": "stdout",
     "output_type": "stream",
     "text": [
      "ROC AUC Score of XGBoost = 0.8148271719763025\n",
      "[LightGBM] [Warning] Unknown parameter: eval_metric\n"
     ]
    },
    {
     "name": "stderr",
     "output_type": "stream",
     "text": [
      "\u001b[32m[I 2021-09-22 18:23:23,692]\u001b[0m Trial 56 finished with value: 0.8144462881206056 and parameters: {'n_estimators': 623, 'depth': 3, 'learning_rate': 0.1945093925527552, 'reg_alpha': 0.0014729023596033953, 'reg_lambda': 0.0010952801222906027, 'subsample': 0.7978524413288389, 'boosting_type': 'gbdt'}. Best is trial 55 with value: 0.8148271719763025.\u001b[0m\n",
      "\u001b[34m\u001b[1mwandb\u001b[0m: \u001b[33mWARNING\u001b[0m Step must only increase in log calls.  Step 56 < 57; dropping {'n_estimators': 623, 'depth': 3, 'learning_rate': 0.1945093925527552, 'reg_alpha': 0.0014729023596033953, 'reg_lambda': 0.0010952801222906027, 'subsample': 0.7978524413288389, 'boosting_type': 'gbdt', 'value': 0.8144462881206056}.\n"
     ]
    },
    {
     "name": "stdout",
     "output_type": "stream",
     "text": [
      "ROC AUC Score of XGBoost = 0.8144462881206056\n",
      "[LightGBM] [Warning] Unknown parameter: eval_metric\n"
     ]
    },
    {
     "name": "stderr",
     "output_type": "stream",
     "text": [
      "\u001b[32m[I 2021-09-22 18:23:49,206]\u001b[0m Trial 57 finished with value: 0.8147962228528012 and parameters: {'n_estimators': 714, 'depth': 2, 'learning_rate': 0.1885746722098857, 'reg_alpha': 0.00154839955060978, 'reg_lambda': 0.0015297222686638603, 'subsample': 0.845692190064516, 'boosting_type': 'gbdt'}. Best is trial 55 with value: 0.8148271719763025.\u001b[0m\n",
      "\u001b[34m\u001b[1mwandb\u001b[0m: \u001b[33mWARNING\u001b[0m Step must only increase in log calls.  Step 57 < 58; dropping {'n_estimators': 714, 'depth': 2, 'learning_rate': 0.1885746722098857, 'reg_alpha': 0.00154839955060978, 'reg_lambda': 0.0015297222686638603, 'subsample': 0.845692190064516, 'boosting_type': 'gbdt', 'value': 0.8147962228528012}.\n"
     ]
    },
    {
     "name": "stdout",
     "output_type": "stream",
     "text": [
      "ROC AUC Score of XGBoost = 0.8147962228528012\n",
      "[LightGBM] [Warning] Unknown parameter: eval_metric\n"
     ]
    },
    {
     "name": "stderr",
     "output_type": "stream",
     "text": [
      "\u001b[32m[I 2021-09-22 18:24:12,194]\u001b[0m Trial 58 finished with value: 0.81486812701568 and parameters: {'n_estimators': 745, 'depth': 2, 'learning_rate': 0.21183454816267047, 'reg_alpha': 0.001663298288148217, 'reg_lambda': 0.0010141901197677475, 'subsample': 0.8860293273551599, 'boosting_type': 'gbdt'}. Best is trial 58 with value: 0.81486812701568.\u001b[0m\n",
      "\u001b[34m\u001b[1mwandb\u001b[0m: \u001b[33mWARNING\u001b[0m Step must only increase in log calls.  Step 58 < 59; dropping {'n_estimators': 745, 'depth': 2, 'learning_rate': 0.21183454816267047, 'reg_alpha': 0.001663298288148217, 'reg_lambda': 0.0010141901197677475, 'subsample': 0.8860293273551599, 'boosting_type': 'gbdt', 'value': 0.81486812701568}.\n"
     ]
    },
    {
     "name": "stdout",
     "output_type": "stream",
     "text": [
      "ROC AUC Score of XGBoost = 0.81486812701568\n",
      "[LightGBM] [Warning] Unknown parameter: eval_metric\n"
     ]
    },
    {
     "name": "stderr",
     "output_type": "stream",
     "text": [
      "\u001b[32m[I 2021-09-22 18:24:35,639]\u001b[0m Trial 59 finished with value: 0.8106593549301349 and parameters: {'n_estimators': 757, 'depth': 2, 'learning_rate': 0.30108377514882506, 'reg_alpha': 0.0010429821324319656, 'reg_lambda': 0.0014673791085982333, 'subsample': 0.8810828766406335, 'boosting_type': 'goss'}. Best is trial 58 with value: 0.81486812701568.\u001b[0m\n",
      "\u001b[34m\u001b[1mwandb\u001b[0m: \u001b[33mWARNING\u001b[0m Step must only increase in log calls.  Step 59 < 60; dropping {'n_estimators': 757, 'depth': 2, 'learning_rate': 0.30108377514882506, 'reg_alpha': 0.0010429821324319656, 'reg_lambda': 0.0014673791085982333, 'subsample': 0.8810828766406335, 'boosting_type': 'goss', 'value': 0.8106593549301349}.\n"
     ]
    },
    {
     "name": "stdout",
     "output_type": "stream",
     "text": [
      "ROC AUC Score of XGBoost = 0.8106593549301349\n",
      "60 trials complete\n",
      "[LightGBM] [Warning] Unknown parameter: eval_metric\n"
     ]
    },
    {
     "name": "stderr",
     "output_type": "stream",
     "text": [
      "\u001b[32m[I 2021-09-22 18:24:58,868]\u001b[0m Trial 60 finished with value: 0.8141829677419432 and parameters: {'n_estimators': 727, 'depth': 2, 'learning_rate': 0.12194238029671536, 'reg_alpha': 0.0015554160098609955, 'reg_lambda': 0.0022499284352585133, 'subsample': 0.8531729081680033, 'boosting_type': 'gbdt'}. Best is trial 58 with value: 0.81486812701568.\u001b[0m\n",
      "\u001b[34m\u001b[1mwandb\u001b[0m: \u001b[33mWARNING\u001b[0m Step must only increase in log calls.  Step 60 < 61; dropping {'n_estimators': 727, 'depth': 2, 'learning_rate': 0.12194238029671536, 'reg_alpha': 0.0015554160098609955, 'reg_lambda': 0.0022499284352585133, 'subsample': 0.8531729081680033, 'boosting_type': 'gbdt', 'value': 0.8141829677419432}.\n"
     ]
    },
    {
     "name": "stdout",
     "output_type": "stream",
     "text": [
      "ROC AUC Score of XGBoost = 0.8141829677419432\n",
      "[LightGBM] [Warning] Unknown parameter: eval_metric\n"
     ]
    },
    {
     "name": "stderr",
     "output_type": "stream",
     "text": [
      "\u001b[32m[I 2021-09-22 18:25:19,057]\u001b[0m Trial 61 finished with value: 0.8144934163322416 and parameters: {'n_estimators': 639, 'depth': 2, 'learning_rate': 0.1897558740985445, 'reg_alpha': 0.0015713334933290751, 'reg_lambda': 0.0010384416590338507, 'subsample': 0.8807439680617836, 'boosting_type': 'gbdt'}. Best is trial 58 with value: 0.81486812701568.\u001b[0m\n",
      "\u001b[34m\u001b[1mwandb\u001b[0m: \u001b[33mWARNING\u001b[0m Step must only increase in log calls.  Step 61 < 62; dropping {'n_estimators': 639, 'depth': 2, 'learning_rate': 0.1897558740985445, 'reg_alpha': 0.0015713334933290751, 'reg_lambda': 0.0010384416590338507, 'subsample': 0.8807439680617836, 'boosting_type': 'gbdt', 'value': 0.8144934163322416}.\n"
     ]
    },
    {
     "name": "stdout",
     "output_type": "stream",
     "text": [
      "ROC AUC Score of XGBoost = 0.8144934163322416\n",
      "[LightGBM] [Warning] Unknown parameter: eval_metric\n"
     ]
    },
    {
     "name": "stderr",
     "output_type": "stream",
     "text": [
      "\u001b[32m[I 2021-09-22 18:25:40,097]\u001b[0m Trial 62 finished with value: 0.8148453029227595 and parameters: {'n_estimators': 707, 'depth': 2, 'learning_rate': 0.21925609119054357, 'reg_alpha': 0.0014903414316196806, 'reg_lambda': 0.0011689939202914187, 'subsample': 0.8731502365967743, 'boosting_type': 'gbdt'}. Best is trial 58 with value: 0.81486812701568.\u001b[0m\n",
      "\u001b[34m\u001b[1mwandb\u001b[0m: \u001b[33mWARNING\u001b[0m Step must only increase in log calls.  Step 62 < 63; dropping {'n_estimators': 707, 'depth': 2, 'learning_rate': 0.21925609119054357, 'reg_alpha': 0.0014903414316196806, 'reg_lambda': 0.0011689939202914187, 'subsample': 0.8731502365967743, 'boosting_type': 'gbdt', 'value': 0.8148453029227595}.\n"
     ]
    },
    {
     "name": "stdout",
     "output_type": "stream",
     "text": [
      "ROC AUC Score of XGBoost = 0.8148453029227595\n",
      "[LightGBM] [Warning] Unknown parameter: eval_metric\n"
     ]
    },
    {
     "name": "stderr",
     "output_type": "stream",
     "text": [
      "\u001b[32m[I 2021-09-22 18:26:04,967]\u001b[0m Trial 63 finished with value: 0.8149331965520978 and parameters: {'n_estimators': 784, 'depth': 2, 'learning_rate': 0.2131236406580669, 'reg_alpha': 0.0013449875731859546, 'reg_lambda': 0.0021044825173128306, 'subsample': 0.8788570939452897, 'boosting_type': 'gbdt'}. Best is trial 63 with value: 0.8149331965520978.\u001b[0m\n",
      "\u001b[34m\u001b[1mwandb\u001b[0m: \u001b[33mWARNING\u001b[0m Step must only increase in log calls.  Step 63 < 64; dropping {'n_estimators': 784, 'depth': 2, 'learning_rate': 0.2131236406580669, 'reg_alpha': 0.0013449875731859546, 'reg_lambda': 0.0021044825173128306, 'subsample': 0.8788570939452897, 'boosting_type': 'gbdt', 'value': 0.8149331965520978}.\n"
     ]
    },
    {
     "name": "stdout",
     "output_type": "stream",
     "text": [
      "ROC AUC Score of XGBoost = 0.8149331965520978\n",
      "[LightGBM] [Warning] Unknown parameter: eval_metric\n"
     ]
    },
    {
     "name": "stderr",
     "output_type": "stream",
     "text": [
      "\u001b[32m[I 2021-09-22 18:26:30,968]\u001b[0m Trial 64 finished with value: 0.8150591644684722 and parameters: {'n_estimators': 772, 'depth': 2, 'learning_rate': 0.22353861610483552, 'reg_alpha': 0.0013011386048658053, 'reg_lambda': 0.005408298121072274, 'subsample': 0.9592085868212449, 'boosting_type': 'gbdt'}. Best is trial 64 with value: 0.8150591644684722.\u001b[0m\n",
      "\u001b[34m\u001b[1mwandb\u001b[0m: \u001b[33mWARNING\u001b[0m Step must only increase in log calls.  Step 64 < 65; dropping {'n_estimators': 772, 'depth': 2, 'learning_rate': 0.22353861610483552, 'reg_alpha': 0.0013011386048658053, 'reg_lambda': 0.005408298121072274, 'subsample': 0.9592085868212449, 'boosting_type': 'gbdt', 'value': 0.8150591644684722}.\n"
     ]
    },
    {
     "name": "stdout",
     "output_type": "stream",
     "text": [
      "ROC AUC Score of XGBoost = 0.8150591644684722\n",
      "65 trials complete\n",
      "[LightGBM] [Warning] Unknown parameter: eval_metric\n"
     ]
    },
    {
     "name": "stderr",
     "output_type": "stream",
     "text": [
      "\u001b[32m[I 2021-09-22 18:26:53,461]\u001b[0m Trial 65 finished with value: 0.8148293241843152 and parameters: {'n_estimators': 780, 'depth': 2, 'learning_rate': 0.22404616786618378, 'reg_alpha': 0.0013336139516995952, 'reg_lambda': 0.006206337909103677, 'subsample': 0.9682297420512823, 'boosting_type': 'gbdt'}. Best is trial 64 with value: 0.8150591644684722.\u001b[0m\n",
      "\u001b[34m\u001b[1mwandb\u001b[0m: \u001b[33mWARNING\u001b[0m Step must only increase in log calls.  Step 65 < 66; dropping {'n_estimators': 780, 'depth': 2, 'learning_rate': 0.22404616786618378, 'reg_alpha': 0.0013336139516995952, 'reg_lambda': 0.006206337909103677, 'subsample': 0.9682297420512823, 'boosting_type': 'gbdt', 'value': 0.8148293241843152}.\n"
     ]
    },
    {
     "name": "stdout",
     "output_type": "stream",
     "text": [
      "ROC AUC Score of XGBoost = 0.8148293241843152\n",
      "[LightGBM] [Warning] Unknown parameter: eval_metric\n"
     ]
    },
    {
     "name": "stderr",
     "output_type": "stream",
     "text": [
      "\u001b[32m[I 2021-09-22 18:27:17,575]\u001b[0m Trial 66 finished with value: 0.8146775629565817 and parameters: {'n_estimators': 769, 'depth': 2, 'learning_rate': 0.310251866555707, 'reg_alpha': 0.001027223477730864, 'reg_lambda': 0.007809237149111704, 'subsample': 0.9619767504148269, 'boosting_type': 'gbdt'}. Best is trial 64 with value: 0.8150591644684722.\u001b[0m\n",
      "\u001b[34m\u001b[1mwandb\u001b[0m: \u001b[33mWARNING\u001b[0m Step must only increase in log calls.  Step 66 < 67; dropping {'n_estimators': 769, 'depth': 2, 'learning_rate': 0.310251866555707, 'reg_alpha': 0.001027223477730864, 'reg_lambda': 0.007809237149111704, 'subsample': 0.9619767504148269, 'boosting_type': 'gbdt', 'value': 0.8146775629565817}.\n"
     ]
    },
    {
     "name": "stdout",
     "output_type": "stream",
     "text": [
      "ROC AUC Score of XGBoost = 0.8146775629565817\n",
      "[LightGBM] [Warning] Unknown parameter: eval_metric\n"
     ]
    },
    {
     "name": "stderr",
     "output_type": "stream",
     "text": [
      "\u001b[32m[I 2021-09-22 18:27:43,863]\u001b[0m Trial 67 finished with value: 0.8142340107585084 and parameters: {'n_estimators': 897, 'depth': 2, 'learning_rate': 0.39730804718909707, 'reg_alpha': 0.0013966784725062322, 'reg_lambda': 0.0035985377428295203, 'subsample': 0.9914960797309056, 'boosting_type': 'gbdt'}. Best is trial 64 with value: 0.8150591644684722.\u001b[0m\n",
      "\u001b[34m\u001b[1mwandb\u001b[0m: \u001b[33mWARNING\u001b[0m Step must only increase in log calls.  Step 67 < 68; dropping {'n_estimators': 897, 'depth': 2, 'learning_rate': 0.39730804718909707, 'reg_alpha': 0.0013966784725062322, 'reg_lambda': 0.0035985377428295203, 'subsample': 0.9914960797309056, 'boosting_type': 'gbdt', 'value': 0.8142340107585084}.\n"
     ]
    },
    {
     "name": "stdout",
     "output_type": "stream",
     "text": [
      "ROC AUC Score of XGBoost = 0.8142340107585084\n",
      "[LightGBM] [Warning] Unknown parameter: eval_metric\n"
     ]
    },
    {
     "name": "stderr",
     "output_type": "stream",
     "text": [
      "\u001b[32m[I 2021-09-22 18:28:07,167]\u001b[0m Trial 68 finished with value: 0.8149405154603879 and parameters: {'n_estimators': 769, 'depth': 2, 'learning_rate': 0.24117458021039864, 'reg_alpha': 0.0027436581060610245, 'reg_lambda': 0.002257394943859084, 'subsample': 0.9086843388906668, 'boosting_type': 'gbdt'}. Best is trial 64 with value: 0.8150591644684722.\u001b[0m\n",
      "\u001b[34m\u001b[1mwandb\u001b[0m: \u001b[33mWARNING\u001b[0m Step must only increase in log calls.  Step 68 < 69; dropping {'n_estimators': 769, 'depth': 2, 'learning_rate': 0.24117458021039864, 'reg_alpha': 0.0027436581060610245, 'reg_lambda': 0.002257394943859084, 'subsample': 0.9086843388906668, 'boosting_type': 'gbdt', 'value': 0.8149405154603879}.\n"
     ]
    },
    {
     "name": "stdout",
     "output_type": "stream",
     "text": [
      "ROC AUC Score of XGBoost = 0.8149405154603879\n",
      "[LightGBM] [Warning] Unknown parameter: eval_metric\n"
     ]
    },
    {
     "name": "stderr",
     "output_type": "stream",
     "text": [
      "\u001b[32m[I 2021-09-22 18:28:31,477]\u001b[0m Trial 69 finished with value: 0.8149183385710226 and parameters: {'n_estimators': 784, 'depth': 2, 'learning_rate': 0.24373198175588903, 'reg_alpha': 0.0028874040594037546, 'reg_lambda': 0.005924517762260648, 'subsample': 0.9534535338461633, 'boosting_type': 'gbdt'}. Best is trial 64 with value: 0.8150591644684722.\u001b[0m\n",
      "\u001b[34m\u001b[1mwandb\u001b[0m: \u001b[33mWARNING\u001b[0m Step must only increase in log calls.  Step 69 < 70; dropping {'n_estimators': 784, 'depth': 2, 'learning_rate': 0.24373198175588903, 'reg_alpha': 0.0028874040594037546, 'reg_lambda': 0.005924517762260648, 'subsample': 0.9534535338461633, 'boosting_type': 'gbdt', 'value': 0.8149183385710226}.\n"
     ]
    },
    {
     "name": "stdout",
     "output_type": "stream",
     "text": [
      "ROC AUC Score of XGBoost = 0.8149183385710226\n",
      "70 trials complete\n",
      "[LightGBM] [Warning] Unknown parameter: eval_metric\n"
     ]
    },
    {
     "name": "stderr",
     "output_type": "stream",
     "text": [
      "\u001b[32m[I 2021-09-22 18:30:11,624]\u001b[0m Trial 70 finished with value: 0.8126016864145571 and parameters: {'n_estimators': 942, 'depth': 2, 'learning_rate': 0.23051611392257979, 'reg_alpha': 0.0027628640234333337, 'reg_lambda': 0.006674123035394976, 'subsample': 0.9591183589662741, 'boosting_type': 'dart'}. Best is trial 64 with value: 0.8150591644684722.\u001b[0m\n",
      "\u001b[34m\u001b[1mwandb\u001b[0m: \u001b[33mWARNING\u001b[0m Step must only increase in log calls.  Step 70 < 71; dropping {'n_estimators': 942, 'depth': 2, 'learning_rate': 0.23051611392257979, 'reg_alpha': 0.0027628640234333337, 'reg_lambda': 0.006674123035394976, 'subsample': 0.9591183589662741, 'boosting_type': 'dart', 'value': 0.8126016864145571}.\n"
     ]
    },
    {
     "name": "stdout",
     "output_type": "stream",
     "text": [
      "ROC AUC Score of XGBoost = 0.8126016864145571\n",
      "[LightGBM] [Warning] Unknown parameter: eval_metric\n"
     ]
    },
    {
     "name": "stderr",
     "output_type": "stream",
     "text": [
      "\u001b[32m[I 2021-09-22 18:30:45,367]\u001b[0m Trial 71 finished with value: 0.8145987245328002 and parameters: {'n_estimators': 769, 'depth': 2, 'learning_rate': 0.14783710422554264, 'reg_alpha': 0.002556536227498344, 'reg_lambda': 0.0024837897206028514, 'subsample': 0.9068580862161013, 'boosting_type': 'gbdt'}. Best is trial 64 with value: 0.8150591644684722.\u001b[0m\n",
      "\u001b[34m\u001b[1mwandb\u001b[0m: \u001b[33mWARNING\u001b[0m Step must only increase in log calls.  Step 71 < 72; dropping {'n_estimators': 769, 'depth': 2, 'learning_rate': 0.14783710422554264, 'reg_alpha': 0.002556536227498344, 'reg_lambda': 0.0024837897206028514, 'subsample': 0.9068580862161013, 'boosting_type': 'gbdt', 'value': 0.8145987245328002}.\n"
     ]
    },
    {
     "name": "stdout",
     "output_type": "stream",
     "text": [
      "ROC AUC Score of XGBoost = 0.8145987245328002\n",
      "[LightGBM] [Warning] Unknown parameter: eval_metric\n"
     ]
    },
    {
     "name": "stderr",
     "output_type": "stream",
     "text": [
      "\u001b[32m[I 2021-09-22 18:31:19,288]\u001b[0m Trial 72 finished with value: 0.8147518370101141 and parameters: {'n_estimators': 843, 'depth': 2, 'learning_rate': 0.30731684506371787, 'reg_alpha': 0.0012742672043484342, 'reg_lambda': 0.004882307243715385, 'subsample': 0.976600442678776, 'boosting_type': 'gbdt'}. Best is trial 64 with value: 0.8150591644684722.\u001b[0m\n",
      "\u001b[34m\u001b[1mwandb\u001b[0m: \u001b[33mWARNING\u001b[0m Step must only increase in log calls.  Step 72 < 73; dropping {'n_estimators': 843, 'depth': 2, 'learning_rate': 0.30731684506371787, 'reg_alpha': 0.0012742672043484342, 'reg_lambda': 0.004882307243715385, 'subsample': 0.976600442678776, 'boosting_type': 'gbdt', 'value': 0.8147518370101141}.\n"
     ]
    },
    {
     "name": "stdout",
     "output_type": "stream",
     "text": [
      "ROC AUC Score of XGBoost = 0.8147518370101141\n",
      "[LightGBM] [Warning] Unknown parameter: eval_metric\n"
     ]
    },
    {
     "name": "stderr",
     "output_type": "stream",
     "text": [
      "\u001b[32m[I 2021-09-22 18:31:43,722]\u001b[0m Trial 73 finished with value: 0.814381847494075 and parameters: {'n_estimators': 776, 'depth': 2, 'learning_rate': 0.12263733113296173, 'reg_alpha': 0.0010322221941541515, 'reg_lambda': 0.009847457124796632, 'subsample': 0.9446212125681522, 'boosting_type': 'gbdt'}. Best is trial 64 with value: 0.8150591644684722.\u001b[0m\n",
      "\u001b[34m\u001b[1mwandb\u001b[0m: \u001b[33mWARNING\u001b[0m Step must only increase in log calls.  Step 73 < 74; dropping {'n_estimators': 776, 'depth': 2, 'learning_rate': 0.12263733113296173, 'reg_alpha': 0.0010322221941541515, 'reg_lambda': 0.009847457124796632, 'subsample': 0.9446212125681522, 'boosting_type': 'gbdt', 'value': 0.814381847494075}.\n"
     ]
    },
    {
     "name": "stdout",
     "output_type": "stream",
     "text": [
      "ROC AUC Score of XGBoost = 0.814381847494075\n",
      "[LightGBM] [Warning] Unknown parameter: eval_metric\n"
     ]
    },
    {
     "name": "stderr",
     "output_type": "stream",
     "text": [
      "\u001b[32m[I 2021-09-22 18:32:08,720]\u001b[0m Trial 74 finished with value: 0.814903095422171 and parameters: {'n_estimators': 869, 'depth': 2, 'learning_rate': 0.24850623181129408, 'reg_alpha': 0.002124634364963939, 'reg_lambda': 0.0035076338960155435, 'subsample': 0.8832294643704984, 'boosting_type': 'gbdt'}. Best is trial 64 with value: 0.8150591644684722.\u001b[0m\n",
      "\u001b[34m\u001b[1mwandb\u001b[0m: \u001b[33mWARNING\u001b[0m Step must only increase in log calls.  Step 74 < 75; dropping {'n_estimators': 869, 'depth': 2, 'learning_rate': 0.24850623181129408, 'reg_alpha': 0.002124634364963939, 'reg_lambda': 0.0035076338960155435, 'subsample': 0.8832294643704984, 'boosting_type': 'gbdt', 'value': 0.814903095422171}.\n"
     ]
    },
    {
     "name": "stdout",
     "output_type": "stream",
     "text": [
      "ROC AUC Score of XGBoost = 0.814903095422171\n",
      "75 trials complete\n",
      "[LightGBM] [Warning] Unknown parameter: eval_metric\n"
     ]
    },
    {
     "name": "stderr",
     "output_type": "stream",
     "text": [
      "\u001b[32m[I 2021-09-22 18:32:33,774]\u001b[0m Trial 75 finished with value: 0.8151078812670138 and parameters: {'n_estimators': 877, 'depth': 2, 'learning_rate': 0.23270792309957622, 'reg_alpha': 0.0020674995996328733, 'reg_lambda': 0.0037241981694278122, 'subsample': 0.8842286596463845, 'boosting_type': 'gbdt'}. Best is trial 75 with value: 0.8151078812670138.\u001b[0m\n",
      "\u001b[34m\u001b[1mwandb\u001b[0m: \u001b[33mWARNING\u001b[0m Step must only increase in log calls.  Step 75 < 76; dropping {'n_estimators': 877, 'depth': 2, 'learning_rate': 0.23270792309957622, 'reg_alpha': 0.0020674995996328733, 'reg_lambda': 0.0037241981694278122, 'subsample': 0.8842286596463845, 'boosting_type': 'gbdt', 'value': 0.8151078812670138}.\n"
     ]
    },
    {
     "name": "stdout",
     "output_type": "stream",
     "text": [
      "ROC AUC Score of XGBoost = 0.8151078812670138\n",
      "[LightGBM] [Warning] Unknown parameter: eval_metric\n"
     ]
    },
    {
     "name": "stderr",
     "output_type": "stream",
     "text": [
      "\u001b[32m[I 2021-09-22 18:33:03,325]\u001b[0m Trial 76 finished with value: 0.8149897347943968 and parameters: {'n_estimators': 970, 'depth': 2, 'learning_rate': 0.27151597312723014, 'reg_alpha': 0.001967272063478838, 'reg_lambda': 0.003114104593554269, 'subsample': 0.8922622292775846, 'boosting_type': 'gbdt'}. Best is trial 75 with value: 0.8151078812670138.\u001b[0m\n",
      "\u001b[34m\u001b[1mwandb\u001b[0m: \u001b[33mWARNING\u001b[0m Step must only increase in log calls.  Step 76 < 77; dropping {'n_estimators': 970, 'depth': 2, 'learning_rate': 0.27151597312723014, 'reg_alpha': 0.001967272063478838, 'reg_lambda': 0.003114104593554269, 'subsample': 0.8922622292775846, 'boosting_type': 'gbdt', 'value': 0.8149897347943968}.\n"
     ]
    },
    {
     "name": "stdout",
     "output_type": "stream",
     "text": [
      "ROC AUC Score of XGBoost = 0.8149897347943968\n",
      "[LightGBM] [Warning] Unknown parameter: eval_metric\n"
     ]
    },
    {
     "name": "stderr",
     "output_type": "stream",
     "text": [
      "\u001b[32m[I 2021-09-22 18:33:31,088]\u001b[0m Trial 77 finished with value: 0.8150455342046806 and parameters: {'n_estimators': 996, 'depth': 2, 'learning_rate': 0.27054519834500496, 'reg_alpha': 0.0019325221936659681, 'reg_lambda': 0.0035784057465704628, 'subsample': 0.891223695226551, 'boosting_type': 'gbdt'}. Best is trial 75 with value: 0.8151078812670138.\u001b[0m\n",
      "\u001b[34m\u001b[1mwandb\u001b[0m: \u001b[33mWARNING\u001b[0m Step must only increase in log calls.  Step 77 < 78; dropping {'n_estimators': 996, 'depth': 2, 'learning_rate': 0.27054519834500496, 'reg_alpha': 0.0019325221936659681, 'reg_lambda': 0.0035784057465704628, 'subsample': 0.891223695226551, 'boosting_type': 'gbdt', 'value': 0.8150455342046806}.\n"
     ]
    },
    {
     "name": "stdout",
     "output_type": "stream",
     "text": [
      "ROC AUC Score of XGBoost = 0.8150455342046806\n",
      "[LightGBM] [Warning] Unknown parameter: eval_metric\n"
     ]
    },
    {
     "name": "stderr",
     "output_type": "stream",
     "text": [
      "\u001b[32m[I 2021-09-22 18:34:00,664]\u001b[0m Trial 78 finished with value: 0.8109057031080921 and parameters: {'n_estimators': 1004, 'depth': 2, 'learning_rate': 0.2711637111720676, 'reg_alpha': 0.0021089267213515654, 'reg_lambda': 0.0034758093013116833, 'subsample': 0.9262424619750369, 'boosting_type': 'goss'}. Best is trial 75 with value: 0.8151078812670138.\u001b[0m\n",
      "\u001b[34m\u001b[1mwandb\u001b[0m: \u001b[33mWARNING\u001b[0m Step must only increase in log calls.  Step 78 < 79; dropping {'n_estimators': 1004, 'depth': 2, 'learning_rate': 0.2711637111720676, 'reg_alpha': 0.0021089267213515654, 'reg_lambda': 0.0034758093013116833, 'subsample': 0.9262424619750369, 'boosting_type': 'goss', 'value': 0.8109057031080921}.\n"
     ]
    },
    {
     "name": "stdout",
     "output_type": "stream",
     "text": [
      "ROC AUC Score of XGBoost = 0.8109057031080921\n",
      "[LightGBM] [Warning] Unknown parameter: eval_metric\n"
     ]
    },
    {
     "name": "stderr",
     "output_type": "stream",
     "text": [
      "\u001b[32m[I 2021-09-22 18:34:27,392]\u001b[0m Trial 79 finished with value: 0.8144774624924005 and parameters: {'n_estimators': 967, 'depth': 2, 'learning_rate': 0.3571326175026684, 'reg_alpha': 0.006327991811102876, 'reg_lambda': 0.00215409948885006, 'subsample': 0.9117626406649189, 'boosting_type': 'gbdt'}. Best is trial 75 with value: 0.8151078812670138.\u001b[0m\n",
      "\u001b[34m\u001b[1mwandb\u001b[0m: \u001b[33mWARNING\u001b[0m Step must only increase in log calls.  Step 79 < 80; dropping {'n_estimators': 967, 'depth': 2, 'learning_rate': 0.3571326175026684, 'reg_alpha': 0.006327991811102876, 'reg_lambda': 0.00215409948885006, 'subsample': 0.9117626406649189, 'boosting_type': 'gbdt', 'value': 0.8144774624924005}.\n"
     ]
    },
    {
     "name": "stdout",
     "output_type": "stream",
     "text": [
      "ROC AUC Score of XGBoost = 0.8144774624924005\n",
      "80 trials complete\n",
      "[LightGBM] [Warning] Unknown parameter: eval_metric\n"
     ]
    },
    {
     "name": "stderr",
     "output_type": "stream",
     "text": [
      "\u001b[32m[I 2021-09-22 18:34:51,839]\u001b[0m Trial 80 finished with value: 0.8151196200776146 and parameters: {'n_estimators': 854, 'depth': 2, 'learning_rate': 0.27013247329503853, 'reg_alpha': 2.5708689780645066, 'reg_lambda': 0.002891982789108513, 'subsample': 0.8954319732090787, 'boosting_type': 'gbdt'}. Best is trial 80 with value: 0.8151196200776146.\u001b[0m\n",
      "\u001b[34m\u001b[1mwandb\u001b[0m: \u001b[33mWARNING\u001b[0m Step must only increase in log calls.  Step 80 < 81; dropping {'n_estimators': 854, 'depth': 2, 'learning_rate': 0.27013247329503853, 'reg_alpha': 2.5708689780645066, 'reg_lambda': 0.002891982789108513, 'subsample': 0.8954319732090787, 'boosting_type': 'gbdt', 'value': 0.8151196200776146}.\n"
     ]
    },
    {
     "name": "stdout",
     "output_type": "stream",
     "text": [
      "ROC AUC Score of XGBoost = 0.8151196200776146\n",
      "[LightGBM] [Warning] Unknown parameter: eval_metric\n"
     ]
    },
    {
     "name": "stderr",
     "output_type": "stream",
     "text": [
      "\u001b[32m[I 2021-09-22 18:35:19,726]\u001b[0m Trial 81 finished with value: 0.8149834353277781 and parameters: {'n_estimators': 885, 'depth': 2, 'learning_rate': 0.2650194626511286, 'reg_alpha': 0.8619851314678434, 'reg_lambda': 0.002860755639146642, 'subsample': 0.9444509208278627, 'boosting_type': 'gbdt'}. Best is trial 80 with value: 0.8151196200776146.\u001b[0m\n",
      "\u001b[34m\u001b[1mwandb\u001b[0m: \u001b[33mWARNING\u001b[0m Step must only increase in log calls.  Step 81 < 82; dropping {'n_estimators': 885, 'depth': 2, 'learning_rate': 0.2650194626511286, 'reg_alpha': 0.8619851314678434, 'reg_lambda': 0.002860755639146642, 'subsample': 0.9444509208278627, 'boosting_type': 'gbdt', 'value': 0.8149834353277781}.\n"
     ]
    },
    {
     "name": "stdout",
     "output_type": "stream",
     "text": [
      "ROC AUC Score of XGBoost = 0.8149834353277781\n",
      "[LightGBM] [Warning] Unknown parameter: eval_metric\n"
     ]
    },
    {
     "name": "stderr",
     "output_type": "stream",
     "text": [
      "\u001b[32m[I 2021-09-22 18:35:45,384]\u001b[0m Trial 82 finished with value: 0.8148700513334255 and parameters: {'n_estimators': 905, 'depth': 2, 'learning_rate': 0.3070775168283863, 'reg_alpha': 2.3451709849875177, 'reg_lambda': 0.002696218360718187, 'subsample': 0.9387849080612404, 'boosting_type': 'gbdt'}. Best is trial 80 with value: 0.8151196200776146.\u001b[0m\n",
      "\u001b[34m\u001b[1mwandb\u001b[0m: \u001b[33mWARNING\u001b[0m Step must only increase in log calls.  Step 82 < 83; dropping {'n_estimators': 905, 'depth': 2, 'learning_rate': 0.3070775168283863, 'reg_alpha': 2.3451709849875177, 'reg_lambda': 0.002696218360718187, 'subsample': 0.9387849080612404, 'boosting_type': 'gbdt', 'value': 0.8148700513334255}.\n"
     ]
    },
    {
     "name": "stdout",
     "output_type": "stream",
     "text": [
      "ROC AUC Score of XGBoost = 0.8148700513334255\n",
      "[LightGBM] [Warning] Unknown parameter: eval_metric\n"
     ]
    },
    {
     "name": "stderr",
     "output_type": "stream",
     "text": [
      "\u001b[32m[I 2021-09-22 18:36:14,198]\u001b[0m Trial 83 finished with value: 0.8148139987339725 and parameters: {'n_estimators': 930, 'depth': 2, 'learning_rate': 0.15118371306727793, 'reg_alpha': 1.9900786237210846, 'reg_lambda': 0.004485825304062202, 'subsample': 0.8963905139538643, 'boosting_type': 'gbdt'}. Best is trial 80 with value: 0.8151196200776146.\u001b[0m\n",
      "\u001b[34m\u001b[1mwandb\u001b[0m: \u001b[33mWARNING\u001b[0m Step must only increase in log calls.  Step 83 < 84; dropping {'n_estimators': 930, 'depth': 2, 'learning_rate': 0.15118371306727793, 'reg_alpha': 1.9900786237210846, 'reg_lambda': 0.004485825304062202, 'subsample': 0.8963905139538643, 'boosting_type': 'gbdt', 'value': 0.8148139987339725}.\n"
     ]
    },
    {
     "name": "stdout",
     "output_type": "stream",
     "text": [
      "ROC AUC Score of XGBoost = 0.8148139987339725\n",
      "[LightGBM] [Warning] Unknown parameter: eval_metric\n"
     ]
    },
    {
     "name": "stderr",
     "output_type": "stream",
     "text": [
      "\u001b[32m[I 2021-09-22 18:36:39,626]\u001b[0m Trial 84 finished with value: 0.815048652614587 and parameters: {'n_estimators': 851, 'depth': 2, 'learning_rate': 0.2714447940704225, 'reg_alpha': 0.8194570132647577, 'reg_lambda': 0.001905301173692149, 'subsample': 0.9560376222879367, 'boosting_type': 'gbdt'}. Best is trial 80 with value: 0.8151196200776146.\u001b[0m\n",
      "\u001b[34m\u001b[1mwandb\u001b[0m: \u001b[33mWARNING\u001b[0m Step must only increase in log calls.  Step 84 < 85; dropping {'n_estimators': 851, 'depth': 2, 'learning_rate': 0.2714447940704225, 'reg_alpha': 0.8194570132647577, 'reg_lambda': 0.001905301173692149, 'subsample': 0.9560376222879367, 'boosting_type': 'gbdt', 'value': 0.815048652614587}.\n"
     ]
    },
    {
     "name": "stdout",
     "output_type": "stream",
     "text": [
      "ROC AUC Score of XGBoost = 0.815048652614587\n",
      "85 trials complete\n",
      "[LightGBM] [Warning] Unknown parameter: eval_metric\n"
     ]
    },
    {
     "name": "stderr",
     "output_type": "stream",
     "text": [
      "\u001b[32m[I 2021-09-22 18:37:04,420]\u001b[0m Trial 85 finished with value: 0.8147529537644921 and parameters: {'n_estimators': 862, 'depth': 2, 'learning_rate': 0.3289503827205307, 'reg_alpha': 1.351612856861209, 'reg_lambda': 0.0015454432170479814, 'subsample': 0.916983562134448, 'boosting_type': 'gbdt'}. Best is trial 80 with value: 0.8151196200776146.\u001b[0m\n",
      "\u001b[34m\u001b[1mwandb\u001b[0m: \u001b[33mWARNING\u001b[0m Step must only increase in log calls.  Step 85 < 86; dropping {'n_estimators': 862, 'depth': 2, 'learning_rate': 0.3289503827205307, 'reg_alpha': 1.351612856861209, 'reg_lambda': 0.0015454432170479814, 'subsample': 0.916983562134448, 'boosting_type': 'gbdt', 'value': 0.8147529537644921}.\n"
     ]
    },
    {
     "name": "stdout",
     "output_type": "stream",
     "text": [
      "ROC AUC Score of XGBoost = 0.8147529537644921\n",
      "[LightGBM] [Warning] Unknown parameter: eval_metric\n"
     ]
    },
    {
     "name": "stderr",
     "output_type": "stream",
     "text": [
      "\u001b[32m[I 2021-09-22 18:37:32,882]\u001b[0m Trial 86 finished with value: 0.8151685915864619 and parameters: {'n_estimators': 973, 'depth': 2, 'learning_rate': 0.28001724825754093, 'reg_alpha': 0.8418707988395002, 'reg_lambda': 0.0018255033588936004, 'subsample': 0.9979000089357704, 'boosting_type': 'gbdt'}. Best is trial 86 with value: 0.8151685915864619.\u001b[0m\n",
      "\u001b[34m\u001b[1mwandb\u001b[0m: \u001b[33mWARNING\u001b[0m Step must only increase in log calls.  Step 86 < 87; dropping {'n_estimators': 973, 'depth': 2, 'learning_rate': 0.28001724825754093, 'reg_alpha': 0.8418707988395002, 'reg_lambda': 0.0018255033588936004, 'subsample': 0.9979000089357704, 'boosting_type': 'gbdt', 'value': 0.8151685915864619}.\n"
     ]
    },
    {
     "name": "stdout",
     "output_type": "stream",
     "text": [
      "ROC AUC Score of XGBoost = 0.8151685915864619\n",
      "[LightGBM] [Warning] Unknown parameter: eval_metric\n"
     ]
    },
    {
     "name": "stderr",
     "output_type": "stream",
     "text": [
      "\u001b[32m[I 2021-09-22 18:39:10,832]\u001b[0m Trial 87 finished with value: 0.805581807022557 and parameters: {'n_estimators': 961, 'depth': 7, 'learning_rate': 0.0010007185769004, 'reg_alpha': 0.5914262163865954, 'reg_lambda': 0.00179007804217038, 'subsample': 0.997921105346072, 'boosting_type': 'gbdt'}. Best is trial 86 with value: 0.8151685915864619.\u001b[0m\n",
      "\u001b[34m\u001b[1mwandb\u001b[0m: \u001b[33mWARNING\u001b[0m Step must only increase in log calls.  Step 87 < 88; dropping {'n_estimators': 961, 'depth': 7, 'learning_rate': 0.0010007185769004, 'reg_alpha': 0.5914262163865954, 'reg_lambda': 0.00179007804217038, 'subsample': 0.997921105346072, 'boosting_type': 'gbdt', 'value': 0.805581807022557}.\n"
     ]
    },
    {
     "name": "stdout",
     "output_type": "stream",
     "text": [
      "ROC AUC Score of XGBoost = 0.805581807022557\n",
      "[LightGBM] [Warning] Unknown parameter: eval_metric\n"
     ]
    },
    {
     "name": "stderr",
     "output_type": "stream",
     "text": [
      "\u001b[32m[I 2021-09-22 18:40:27,493]\u001b[0m Trial 88 finished with value: 0.8115533072026418 and parameters: {'n_estimators': 1030, 'depth': 2, 'learning_rate': 0.16140039558390892, 'reg_alpha': 1.0423699355660663, 'reg_lambda': 0.0030066704592810792, 'subsample': 0.9771647018060428, 'boosting_type': 'dart'}. Best is trial 86 with value: 0.8151685915864619.\u001b[0m\n",
      "\u001b[34m\u001b[1mwandb\u001b[0m: \u001b[33mWARNING\u001b[0m Step must only increase in log calls.  Step 88 < 89; dropping {'n_estimators': 1030, 'depth': 2, 'learning_rate': 0.16140039558390892, 'reg_alpha': 1.0423699355660663, 'reg_lambda': 0.0030066704592810792, 'subsample': 0.9771647018060428, 'boosting_type': 'dart', 'value': 0.8115533072026418}.\n"
     ]
    },
    {
     "name": "stdout",
     "output_type": "stream",
     "text": [
      "ROC AUC Score of XGBoost = 0.8115533072026418\n",
      "[LightGBM] [Warning] Unknown parameter: eval_metric\n"
     ]
    },
    {
     "name": "stderr",
     "output_type": "stream",
     "text": [
      "\u001b[32m[I 2021-09-22 18:40:59,433]\u001b[0m Trial 89 finished with value: 0.8149217448359987 and parameters: {'n_estimators': 1118, 'depth': 2, 'learning_rate': 0.2724250086718005, 'reg_alpha': 0.36379868374753166, 'reg_lambda': 0.009486409276094985, 'subsample': 0.9010022033815125, 'boosting_type': 'gbdt'}. Best is trial 86 with value: 0.8151685915864619.\u001b[0m\n",
      "\u001b[34m\u001b[1mwandb\u001b[0m: \u001b[33mWARNING\u001b[0m Step must only increase in log calls.  Step 89 < 90; dropping {'n_estimators': 1118, 'depth': 2, 'learning_rate': 0.2724250086718005, 'reg_alpha': 0.36379868374753166, 'reg_lambda': 0.009486409276094985, 'subsample': 0.9010022033815125, 'boosting_type': 'gbdt', 'value': 0.8149217448359987}.\n"
     ]
    },
    {
     "name": "stdout",
     "output_type": "stream",
     "text": [
      "ROC AUC Score of XGBoost = 0.8149217448359987\n",
      "90 trials complete\n",
      "[LightGBM] [Warning] Unknown parameter: eval_metric\n"
     ]
    },
    {
     "name": "stderr",
     "output_type": "stream",
     "text": [
      "\u001b[32m[I 2021-09-22 18:41:27,451]\u001b[0m Trial 90 finished with value: 0.8145737665655649 and parameters: {'n_estimators': 999, 'depth': 2, 'learning_rate': 0.11969899215879806, 'reg_alpha': 0.7811248427355968, 'reg_lambda': 0.004240898629101326, 'subsample': 0.9321277513624061, 'boosting_type': 'gbdt'}. Best is trial 86 with value: 0.8151685915864619.\u001b[0m\n",
      "\u001b[34m\u001b[1mwandb\u001b[0m: \u001b[33mWARNING\u001b[0m Step must only increase in log calls.  Step 90 < 91; dropping {'n_estimators': 999, 'depth': 2, 'learning_rate': 0.11969899215879806, 'reg_alpha': 0.7811248427355968, 'reg_lambda': 0.004240898629101326, 'subsample': 0.9321277513624061, 'boosting_type': 'gbdt', 'value': 0.8145737665655649}.\n"
     ]
    },
    {
     "name": "stdout",
     "output_type": "stream",
     "text": [
      "ROC AUC Score of XGBoost = 0.8145737665655649\n",
      "[LightGBM] [Warning] Unknown parameter: eval_metric\n"
     ]
    },
    {
     "name": "stderr",
     "output_type": "stream",
     "text": [
      "\u001b[32m[I 2021-09-22 18:41:54,852]\u001b[0m Trial 91 finished with value: 0.814817115742832 and parameters: {'n_estimators': 898, 'depth': 2, 'learning_rate': 0.36300847544370063, 'reg_alpha': 3.4855996646301035, 'reg_lambda': 0.0018794454166782691, 'subsample': 0.952036256207415, 'boosting_type': 'gbdt'}. Best is trial 86 with value: 0.8151685915864619.\u001b[0m\n",
      "\u001b[34m\u001b[1mwandb\u001b[0m: \u001b[33mWARNING\u001b[0m Step must only increase in log calls.  Step 91 < 92; dropping {'n_estimators': 898, 'depth': 2, 'learning_rate': 0.36300847544370063, 'reg_alpha': 3.4855996646301035, 'reg_lambda': 0.0018794454166782691, 'subsample': 0.952036256207415, 'boosting_type': 'gbdt', 'value': 0.814817115742832}.\n"
     ]
    },
    {
     "name": "stdout",
     "output_type": "stream",
     "text": [
      "ROC AUC Score of XGBoost = 0.814817115742832\n",
      "[LightGBM] [Warning] Unknown parameter: eval_metric\n"
     ]
    },
    {
     "name": "stderr",
     "output_type": "stream",
     "text": [
      "\u001b[32m[I 2021-09-22 18:42:19,200]\u001b[0m Trial 92 finished with value: 0.8151072375060308 and parameters: {'n_estimators': 841, 'depth': 2, 'learning_rate': 0.2729754439358216, 'reg_alpha': 1.5602659196902713, 'reg_lambda': 0.0029029472444959824, 'subsample': 0.9246656452109662, 'boosting_type': 'gbdt'}. Best is trial 86 with value: 0.8151685915864619.\u001b[0m\n",
      "\u001b[34m\u001b[1mwandb\u001b[0m: \u001b[33mWARNING\u001b[0m Step must only increase in log calls.  Step 92 < 93; dropping {'n_estimators': 841, 'depth': 2, 'learning_rate': 0.2729754439358216, 'reg_alpha': 1.5602659196902713, 'reg_lambda': 0.0029029472444959824, 'subsample': 0.9246656452109662, 'boosting_type': 'gbdt', 'value': 0.8151072375060308}.\n"
     ]
    },
    {
     "name": "stdout",
     "output_type": "stream",
     "text": [
      "ROC AUC Score of XGBoost = 0.8151072375060308\n",
      "[LightGBM] [Warning] Unknown parameter: eval_metric\n"
     ]
    },
    {
     "name": "stderr",
     "output_type": "stream",
     "text": [
      "\u001b[32m[I 2021-09-22 18:42:51,664]\u001b[0m Trial 93 finished with value: 0.8139351094757302 and parameters: {'n_estimators': 1050, 'depth': 2, 'learning_rate': 0.39943290758069644, 'reg_alpha': 0.8394581169828692, 'reg_lambda': 0.002953168787536274, 'subsample': 0.983242578045602, 'boosting_type': 'gbdt'}. Best is trial 86 with value: 0.8151685915864619.\u001b[0m\n",
      "\u001b[34m\u001b[1mwandb\u001b[0m: \u001b[33mWARNING\u001b[0m Step must only increase in log calls.  Step 93 < 94; dropping {'n_estimators': 1050, 'depth': 2, 'learning_rate': 0.39943290758069644, 'reg_alpha': 0.8394581169828692, 'reg_lambda': 0.002953168787536274, 'subsample': 0.983242578045602, 'boosting_type': 'gbdt', 'value': 0.8139351094757302}.\n"
     ]
    },
    {
     "name": "stdout",
     "output_type": "stream",
     "text": [
      "ROC AUC Score of XGBoost = 0.8139351094757302\n",
      "[LightGBM] [Warning] Unknown parameter: eval_metric\n"
     ]
    },
    {
     "name": "stderr",
     "output_type": "stream",
     "text": [
      "\u001b[32m[I 2021-09-22 18:43:16,244]\u001b[0m Trial 94 finished with value: 0.8148885910653048 and parameters: {'n_estimators': 843, 'depth': 2, 'learning_rate': 0.2782815271705515, 'reg_alpha': 2.0046090975035673, 'reg_lambda': 0.019782717246740786, 'subsample': 0.9224438345453025, 'boosting_type': 'gbdt'}. Best is trial 86 with value: 0.8151685915864619.\u001b[0m\n",
      "\u001b[34m\u001b[1mwandb\u001b[0m: \u001b[33mWARNING\u001b[0m Step must only increase in log calls.  Step 94 < 95; dropping {'n_estimators': 843, 'depth': 2, 'learning_rate': 0.2782815271705515, 'reg_alpha': 2.0046090975035673, 'reg_lambda': 0.019782717246740786, 'subsample': 0.9224438345453025, 'boosting_type': 'gbdt', 'value': 0.8148885910653048}.\n"
     ]
    },
    {
     "name": "stdout",
     "output_type": "stream",
     "text": [
      "ROC AUC Score of XGBoost = 0.8148885910653048\n",
      "95 trials complete\n"
     ]
    }
   ],
   "source": [
    "\n",
    "for x in range(1,20):\n",
    "    study.optimize(objective, n_trials = 5, callbacks = [wandbc]) #n_jobs = multiprocessing.cpu_count())\n",
    "    print(f\"{x*5} trials complete\")\n",
    "    dump(study, filename=datapath/f'optuna_lightgbm_study_{x*5}trials_20210922.joblib')\n",
    "    dump(study.best_trial.params, filename=datapath/f'optuna_lightgbm_study_best-thru-{x*5}trials_20210922.joblib')"
   ]
  },
  {
   "cell_type": "code",
   "execution_count": 18,
   "id": "27a746ff-c0e1-4218-8809-f102a58d2491",
   "metadata": {
    "id": "27a746ff-c0e1-4218-8809-f102a58d2491"
   },
   "outputs": [
    {
     "data": {
      "text/plain": [
       "['/media/sf/easystore/kaggle_data/tabular_playgrounds/sep2021/optuna_lightgbm_all-100trials-best_20210922.joblib']"
      ]
     },
     "execution_count": 18,
     "metadata": {},
     "output_type": "execute_result"
    }
   ],
   "source": [
    "dump(study, filename=datapath/'optuna_lightgbm_100trials-complete_20210922.joblib')\n",
    "dump(study.best_trial.params, filename=datapath/'optuna_lightgbm_all-100trials-best_20210922.joblib')\n",
    "# pickle.dump(study.best_trial.params, open('CatBoost_Hyperparameter.pickle', 'wb'))\n",
    "# print('CatBoost Hyperparameter:', study.best_trial.params)"
   ]
  },
  {
   "cell_type": "code",
   "execution_count": 19,
   "id": "f02e689e-b20c-48e5-a7d9-02467b4f3dbd",
   "metadata": {
    "id": "f02e689e-b20c-48e5-a7d9-02467b4f3dbd"
   },
   "outputs": [
    {
     "data": {
      "text/plain": [
       "{'n_estimators': 973,\n",
       " 'depth': 2,\n",
       " 'learning_rate': 0.28001724825754093,\n",
       " 'reg_alpha': 0.8418707988395002,\n",
       " 'reg_lambda': 0.0018255033588936004,\n",
       " 'subsample': 0.9979000089357704,\n",
       " 'boosting_type': 'gbdt'}"
      ]
     },
     "execution_count": 19,
     "metadata": {},
     "output_type": "execute_result"
    }
   ],
   "source": [
    "study.best_trial.params"
   ]
  },
  {
   "cell_type": "code",
   "execution_count": null,
   "id": "ybeYZ3omaLWK",
   "metadata": {
    "id": "ybeYZ3omaLWK"
   },
   "outputs": [],
   "source": []
  }
 ],
 "metadata": {
  "colab": {
   "collapsed_sections": [],
   "name": "sweep_lightgbm_20210922.ipynb",
   "provenance": []
  },
  "kernelspec": {
   "display_name": "Python 3",
   "language": "python",
   "name": "python3"
  },
  "language_info": {
   "codemirror_mode": {
    "name": "ipython",
    "version": 3
   },
   "file_extension": ".py",
   "mimetype": "text/x-python",
   "name": "python",
   "nbconvert_exporter": "python",
   "pygments_lexer": "ipython3",
   "version": "3.8.11"
  }
 },
 "nbformat": 4,
 "nbformat_minor": 5
}
