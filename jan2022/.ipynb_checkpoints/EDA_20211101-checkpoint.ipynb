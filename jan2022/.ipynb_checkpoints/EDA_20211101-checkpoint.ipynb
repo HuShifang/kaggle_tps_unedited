{
 "cells": [
  {
   "cell_type": "markdown",
   "id": "1d4e7f70-25a3-4d58-b98a-3a695e55ee53",
   "metadata": {},
   "source": [
    "# EDA\n",
    "Notebook is intended for preliminary EDA -- getting to know the dataset. Using code from `../aug2021/20210823_XGBRegressor_feature_selection.ipynb` as a starting point."
   ]
  },
  {
   "cell_type": "code",
   "execution_count": 1,
   "id": "2a4fcc94-0c10-4258-849e-6d239754462b",
   "metadata": {},
   "outputs": [],
   "source": [
    "COLAB = False\n",
    "USE_GPU = True"
   ]
  },
  {
   "cell_type": "code",
   "execution_count": 2,
   "id": "a01e85f7-d602-4dde-bef9-611683cd74c4",
   "metadata": {
    "tags": []
   },
   "outputs": [],
   "source": [
    "import pandas as pd\n",
    "import numpy as np\n",
    "import matplotlib.pyplot as plt\n",
    "# from tqdm.notebook import tqdm\n",
    "\n",
    "# general ML tooling\n",
    "from sklearn.model_selection import train_test_split, StratifiedKFold, KFold\n",
    "from sklearn.metrics import roc_auc_score\n",
    "import wandb\n",
    "from wandb.xgboost import wandb_callback\n",
    "# import timm\n",
    "from pathlib import Path\n",
    "import os\n",
    "import math\n",
    "import seaborn as sns\n",
    "from datetime import datetime\n",
    "\n",
    "# from catboost import CatBoostClassifier\n",
    "from xgboost import XGBClassifier\n",
    "# from sklearn.ensemble import RandomForestRegressor\n",
    "from sklearn.preprocessing import MaxAbsScaler, StandardScaler, MinMaxScaler, PolynomialFeatures\n",
    "from sklearn.feature_selection import SelectKBest, f_regression, mutual_info_regression\n",
    "from joblib import dump, load\n",
    "from sklearn.impute import SimpleImputer, KNNImputer\n",
    "# feature engineering tools\n",
    "# from sklearn.feature_selection import mutual_info_regression\n",
    "# import featuretools as ft\n",
    "import missingno as msno\n",
    "from sklearn.decomposition import PCA, IncrementalPCA"
   ]
  },
  {
   "cell_type": "code",
   "execution_count": 3,
   "id": "c7827296-9c74-4b2e-b7e3-fac198991c89",
   "metadata": {},
   "outputs": [],
   "source": [
    "%matplotlib inline\n",
    "%config Completer.use_jedi = False\n",
    "os.environ['WANDB_NOTEBOOK_NAME'] = f\"EDA_{datetime.now().strftime('%Y%m%d')}.ipynb\"\n",
    "# config = {\n",
    "#     # model config\n",
    "#     \"model\":None,\n",
    "#     \"tree_method\": \"auto\", # set to 'gpu_hist' to try GPU if available\n",
    "#     \"booster\": 'dart', # dart may be marginally better, but will opt for this quicker approach as a default\n",
    "#     \"n_estimators\": 400, \n",
    "#     \"max_depth\": 3,\n",
    "#     \"learning_rate\": 0.1522,\n",
    "#     \"test_size\": 0.2,\n",
    "#     \"scaler\": MaxAbsScaler,\n",
    "# #     \"task_type\": \"GPU\", # for CatBoost only\n",
    "# #     \"reg_alpha\": 2.8,\n",
    "# #     \"reg_lambda\": 3.987,\n",
    "# #     \"feature_selector\": SelectKBest,\n",
    "# #     \"k_best\": 80,\n",
    "# #     \"feature_selection_scoring\": f_regression,\n",
    "#     'random_state': 42,\n",
    "#     'subsample': 1,\n",
    "#     'n_jobs': -1,\n",
    "#     'verbosity': 1,\n",
    "#     'k_folds': 5,\n",
    "#     'features_created': False,\n",
    "#     'feature_creator': None,\n",
    "# }\n",
    "\n",
    "# config_run = {\n",
    "#     # wandb config:\n",
    "#     'name': f\"{os.environ['WANDB_NOTEBOOK_NAME'][:-6]}_{datetime.now().strftime('%H%M%S')}\", # just removes the .ipynb extension, leaving the notebook filename's stem\n",
    "#     'tags': ['XGBoost', 'kfold', 'scaling'],\n",
    "#     'notes': \"A straight-up replication of previous best mdoel -- a 400 estimator Dart-boosted one -- with k-fold ensembling. No feature generation or selection.\",\n",
    "# }"
   ]
  },
  {
   "cell_type": "code",
   "execution_count": 4,
   "id": "880b9f33-b517-40ef-a3e6-049dcc52a4e9",
   "metadata": {},
   "outputs": [],
   "source": [
    "if COLAB:\n",
    "    # mount Google Drive\n",
    "    from google.colab import drive\n",
    "    drive.mount('/content/drive')\n",
    "    \n",
    "    # handling datapath\n",
    "    datapath = Path('/content/drive/MyDrive/kaggle/tabular_playgrounds/nov2021/')\n",
    "    \n",
    "else:\n",
    "    # if on local machine\n",
    "#     datapath = Path('/media/sf/easystore/kaggle_data/tabular_playgrounds/sep2021/')  \n",
    "    root = Path('/media/sf/easystore/kaggle_data/tabular_playgrounds/nov2021/')\n",
    "    datapath = root/'datasets'\n",
    "    # edapath = root/'EDA'\n",
    "    # modelpath = Path('/media/sf/easystore/kaggle_data/tabular_playgrounds/oct2021/models/')\n",
    "    predpath = root/'preds'\n",
    "    subpath = root/'submissions'\n",
    "    \n",
    "    for pth in [datapath, predpath, subpath]:\n",
    "        pth.mkdir(exist_ok=True)\n",
    "    \n"
   ]
  },
  {
   "cell_type": "markdown",
   "id": "79b0f21d-e2f8-4d9e-8b88-f1ffd64e9349",
   "metadata": {},
   "source": [
    "# Dataloading"
   ]
  },
  {
   "cell_type": "code",
   "execution_count": 5,
   "id": "ef6f4972-9cc9-489e-bcee-01f3dd88188e",
   "metadata": {},
   "outputs": [],
   "source": [
    "df = pd.read_csv(datapath/'train.csv', index_col='id', low_memory=False)\n",
    "# df.index.name = None"
   ]
  },
  {
   "cell_type": "code",
   "execution_count": 6,
   "id": "4b6a771f-ee76-4f70-8147-667a60512246",
   "metadata": {},
   "outputs": [
    {
     "data": {
      "text/plain": [
       "'id'"
      ]
     },
     "execution_count": 6,
     "metadata": {},
     "output_type": "execute_result"
    }
   ],
   "source": [
    "df.index.name"
   ]
  },
  {
   "cell_type": "code",
   "execution_count": 7,
   "id": "167f0119-bf0e-4c82-8797-5eb2e71788a9",
   "metadata": {
    "tags": []
   },
   "outputs": [
    {
     "name": "stdout",
     "output_type": "stream",
     "text": [
      "<class 'pandas.core.frame.DataFrame'>\n",
      "Int64Index: 600000 entries, 0 to 599999\n",
      "Data columns (total 101 columns):\n",
      " #    Column  Non-Null Count   Dtype  \n",
      "---   ------  --------------   -----  \n",
      " 0    f0      600000 non-null  float64\n",
      " 1    f1      600000 non-null  float64\n",
      " 2    f2      600000 non-null  float64\n",
      " 3    f3      600000 non-null  float64\n",
      " 4    f4      600000 non-null  float64\n",
      " 5    f5      600000 non-null  float64\n",
      " 6    f6      600000 non-null  float64\n",
      " 7    f7      600000 non-null  float64\n",
      " 8    f8      600000 non-null  float64\n",
      " 9    f9      600000 non-null  float64\n",
      " 10   f10     600000 non-null  float64\n",
      " 11   f11     600000 non-null  float64\n",
      " 12   f12     600000 non-null  float64\n",
      " 13   f13     600000 non-null  float64\n",
      " 14   f14     600000 non-null  float64\n",
      " 15   f15     600000 non-null  float64\n",
      " 16   f16     600000 non-null  float64\n",
      " 17   f17     600000 non-null  float64\n",
      " 18   f18     600000 non-null  float64\n",
      " 19   f19     600000 non-null  float64\n",
      " 20   f20     600000 non-null  float64\n",
      " 21   f21     600000 non-null  float64\n",
      " 22   f22     600000 non-null  float64\n",
      " 23   f23     600000 non-null  float64\n",
      " 24   f24     600000 non-null  float64\n",
      " 25   f25     600000 non-null  float64\n",
      " 26   f26     600000 non-null  float64\n",
      " 27   f27     600000 non-null  float64\n",
      " 28   f28     600000 non-null  float64\n",
      " 29   f29     600000 non-null  float64\n",
      " 30   f30     600000 non-null  float64\n",
      " 31   f31     600000 non-null  float64\n",
      " 32   f32     600000 non-null  float64\n",
      " 33   f33     600000 non-null  float64\n",
      " 34   f34     600000 non-null  float64\n",
      " 35   f35     600000 non-null  float64\n",
      " 36   f36     600000 non-null  float64\n",
      " 37   f37     600000 non-null  float64\n",
      " 38   f38     600000 non-null  float64\n",
      " 39   f39     600000 non-null  float64\n",
      " 40   f40     600000 non-null  float64\n",
      " 41   f41     600000 non-null  float64\n",
      " 42   f42     600000 non-null  float64\n",
      " 43   f43     600000 non-null  float64\n",
      " 44   f44     600000 non-null  float64\n",
      " 45   f45     600000 non-null  float64\n",
      " 46   f46     600000 non-null  float64\n",
      " 47   f47     600000 non-null  float64\n",
      " 48   f48     600000 non-null  float64\n",
      " 49   f49     600000 non-null  float64\n",
      " 50   f50     600000 non-null  float64\n",
      " 51   f51     600000 non-null  float64\n",
      " 52   f52     600000 non-null  float64\n",
      " 53   f53     600000 non-null  float64\n",
      " 54   f54     600000 non-null  float64\n",
      " 55   f55     600000 non-null  float64\n",
      " 56   f56     600000 non-null  float64\n",
      " 57   f57     600000 non-null  float64\n",
      " 58   f58     600000 non-null  float64\n",
      " 59   f59     600000 non-null  float64\n",
      " 60   f60     600000 non-null  float64\n",
      " 61   f61     600000 non-null  float64\n",
      " 62   f62     600000 non-null  float64\n",
      " 63   f63     600000 non-null  float64\n",
      " 64   f64     600000 non-null  float64\n",
      " 65   f65     600000 non-null  float64\n",
      " 66   f66     600000 non-null  float64\n",
      " 67   f67     600000 non-null  float64\n",
      " 68   f68     600000 non-null  float64\n",
      " 69   f69     600000 non-null  float64\n",
      " 70   f70     600000 non-null  float64\n",
      " 71   f71     600000 non-null  float64\n",
      " 72   f72     600000 non-null  float64\n",
      " 73   f73     600000 non-null  float64\n",
      " 74   f74     600000 non-null  float64\n",
      " 75   f75     600000 non-null  float64\n",
      " 76   f76     600000 non-null  float64\n",
      " 77   f77     600000 non-null  float64\n",
      " 78   f78     600000 non-null  float64\n",
      " 79   f79     600000 non-null  float64\n",
      " 80   f80     600000 non-null  float64\n",
      " 81   f81     600000 non-null  float64\n",
      " 82   f82     600000 non-null  float64\n",
      " 83   f83     600000 non-null  float64\n",
      " 84   f84     600000 non-null  float64\n",
      " 85   f85     600000 non-null  float64\n",
      " 86   f86     600000 non-null  float64\n",
      " 87   f87     600000 non-null  float64\n",
      " 88   f88     600000 non-null  float64\n",
      " 89   f89     600000 non-null  float64\n",
      " 90   f90     600000 non-null  float64\n",
      " 91   f91     600000 non-null  float64\n",
      " 92   f92     600000 non-null  float64\n",
      " 93   f93     600000 non-null  float64\n",
      " 94   f94     600000 non-null  float64\n",
      " 95   f95     600000 non-null  float64\n",
      " 96   f96     600000 non-null  float64\n",
      " 97   f97     600000 non-null  float64\n",
      " 98   f98     600000 non-null  float64\n",
      " 99   f99     600000 non-null  float64\n",
      " 100  target  600000 non-null  int64  \n",
      "dtypes: float64(100), int64(1)\n",
      "memory usage: 466.9 MB\n"
     ]
    }
   ],
   "source": [
    "df.info(verbose=True, show_counts=True, memory_usage=True)"
   ]
  },
  {
   "cell_type": "markdown",
   "id": "1d7812d4-3fe5-41d9-964f-a14ef237f172",
   "metadata": {},
   "source": [
    "It appears that there is no missing data. The targets are integers, but everything else is `float64`. There are a total of 600k instances and the data is about 500 MB(so not a huge dataset). "
   ]
  },
  {
   "cell_type": "code",
   "execution_count": 8,
   "id": "06cd68a0-8bec-467c-93e3-81fa45a91f05",
   "metadata": {},
   "outputs": [
    {
     "data": {
      "text/html": [
       "<div>\n",
       "<style scoped>\n",
       "    .dataframe tbody tr th:only-of-type {\n",
       "        vertical-align: middle;\n",
       "    }\n",
       "\n",
       "    .dataframe tbody tr th {\n",
       "        vertical-align: top;\n",
       "    }\n",
       "\n",
       "    .dataframe thead th {\n",
       "        text-align: right;\n",
       "    }\n",
       "</style>\n",
       "<table border=\"1\" class=\"dataframe\">\n",
       "  <thead>\n",
       "    <tr style=\"text-align: right;\">\n",
       "      <th></th>\n",
       "      <th>f0</th>\n",
       "      <th>f1</th>\n",
       "      <th>f2</th>\n",
       "      <th>f3</th>\n",
       "      <th>f4</th>\n",
       "      <th>f5</th>\n",
       "      <th>f6</th>\n",
       "      <th>f7</th>\n",
       "      <th>f8</th>\n",
       "      <th>f9</th>\n",
       "      <th>...</th>\n",
       "      <th>f90</th>\n",
       "      <th>f91</th>\n",
       "      <th>f92</th>\n",
       "      <th>f93</th>\n",
       "      <th>f94</th>\n",
       "      <th>f95</th>\n",
       "      <th>f96</th>\n",
       "      <th>f97</th>\n",
       "      <th>f98</th>\n",
       "      <th>f99</th>\n",
       "    </tr>\n",
       "    <tr>\n",
       "      <th>id</th>\n",
       "      <th></th>\n",
       "      <th></th>\n",
       "      <th></th>\n",
       "      <th></th>\n",
       "      <th></th>\n",
       "      <th></th>\n",
       "      <th></th>\n",
       "      <th></th>\n",
       "      <th></th>\n",
       "      <th></th>\n",
       "      <th></th>\n",
       "      <th></th>\n",
       "      <th></th>\n",
       "      <th></th>\n",
       "      <th></th>\n",
       "      <th></th>\n",
       "      <th></th>\n",
       "      <th></th>\n",
       "      <th></th>\n",
       "      <th></th>\n",
       "      <th></th>\n",
       "    </tr>\n",
       "  </thead>\n",
       "  <tbody>\n",
       "    <tr>\n",
       "      <th>0</th>\n",
       "      <td>0.106643</td>\n",
       "      <td>3.59437</td>\n",
       "      <td>132.8040</td>\n",
       "      <td>3.18428</td>\n",
       "      <td>0.081971</td>\n",
       "      <td>1.18859</td>\n",
       "      <td>3.73238</td>\n",
       "      <td>2.266270</td>\n",
       "      <td>2.09959</td>\n",
       "      <td>0.012330</td>\n",
       "      <td>...</td>\n",
       "      <td>0.010739</td>\n",
       "      <td>1.09862</td>\n",
       "      <td>0.013331</td>\n",
       "      <td>-0.011715</td>\n",
       "      <td>0.052759</td>\n",
       "      <td>0.065400</td>\n",
       "      <td>4.211250</td>\n",
       "      <td>1.97877</td>\n",
       "      <td>0.085974</td>\n",
       "      <td>0.240496</td>\n",
       "    </tr>\n",
       "    <tr>\n",
       "      <th>1</th>\n",
       "      <td>0.125021</td>\n",
       "      <td>1.67336</td>\n",
       "      <td>76.5336</td>\n",
       "      <td>3.37825</td>\n",
       "      <td>0.099400</td>\n",
       "      <td>5.09366</td>\n",
       "      <td>1.27562</td>\n",
       "      <td>-0.471318</td>\n",
       "      <td>4.54594</td>\n",
       "      <td>0.037706</td>\n",
       "      <td>...</td>\n",
       "      <td>0.135838</td>\n",
       "      <td>3.46017</td>\n",
       "      <td>0.017054</td>\n",
       "      <td>0.124863</td>\n",
       "      <td>0.154064</td>\n",
       "      <td>0.606848</td>\n",
       "      <td>-0.267928</td>\n",
       "      <td>2.57786</td>\n",
       "      <td>-0.020877</td>\n",
       "      <td>0.024719</td>\n",
       "    </tr>\n",
       "    <tr>\n",
       "      <th>2</th>\n",
       "      <td>0.036330</td>\n",
       "      <td>1.49747</td>\n",
       "      <td>233.5460</td>\n",
       "      <td>2.19435</td>\n",
       "      <td>0.026914</td>\n",
       "      <td>3.12694</td>\n",
       "      <td>5.05687</td>\n",
       "      <td>3.849460</td>\n",
       "      <td>1.80187</td>\n",
       "      <td>0.056995</td>\n",
       "      <td>...</td>\n",
       "      <td>0.117310</td>\n",
       "      <td>4.88300</td>\n",
       "      <td>0.085222</td>\n",
       "      <td>0.032396</td>\n",
       "      <td>0.116092</td>\n",
       "      <td>-0.001688</td>\n",
       "      <td>-0.520069</td>\n",
       "      <td>2.14112</td>\n",
       "      <td>0.124464</td>\n",
       "      <td>0.148209</td>\n",
       "    </tr>\n",
       "    <tr>\n",
       "      <th>3</th>\n",
       "      <td>-0.014077</td>\n",
       "      <td>0.24600</td>\n",
       "      <td>779.9670</td>\n",
       "      <td>1.89064</td>\n",
       "      <td>0.006948</td>\n",
       "      <td>1.53112</td>\n",
       "      <td>2.69800</td>\n",
       "      <td>4.517330</td>\n",
       "      <td>4.50332</td>\n",
       "      <td>0.123494</td>\n",
       "      <td>...</td>\n",
       "      <td>-0.015347</td>\n",
       "      <td>3.47439</td>\n",
       "      <td>-0.017103</td>\n",
       "      <td>-0.008100</td>\n",
       "      <td>0.062013</td>\n",
       "      <td>0.041193</td>\n",
       "      <td>0.511657</td>\n",
       "      <td>1.96860</td>\n",
       "      <td>0.040017</td>\n",
       "      <td>0.044873</td>\n",
       "    </tr>\n",
       "    <tr>\n",
       "      <th>4</th>\n",
       "      <td>-0.003259</td>\n",
       "      <td>3.71542</td>\n",
       "      <td>156.1280</td>\n",
       "      <td>2.14772</td>\n",
       "      <td>0.018284</td>\n",
       "      <td>2.09859</td>\n",
       "      <td>4.15492</td>\n",
       "      <td>-0.038236</td>\n",
       "      <td>3.37145</td>\n",
       "      <td>0.034166</td>\n",
       "      <td>...</td>\n",
       "      <td>0.013781</td>\n",
       "      <td>1.91059</td>\n",
       "      <td>-0.042943</td>\n",
       "      <td>0.105616</td>\n",
       "      <td>0.125072</td>\n",
       "      <td>0.037509</td>\n",
       "      <td>1.043790</td>\n",
       "      <td>1.07481</td>\n",
       "      <td>-0.012819</td>\n",
       "      <td>0.072798</td>\n",
       "    </tr>\n",
       "  </tbody>\n",
       "</table>\n",
       "<p>5 rows × 100 columns</p>\n",
       "</div>"
      ],
      "text/plain": [
       "          f0       f1        f2       f3        f4       f5       f6  \\\n",
       "id                                                                     \n",
       "0   0.106643  3.59437  132.8040  3.18428  0.081971  1.18859  3.73238   \n",
       "1   0.125021  1.67336   76.5336  3.37825  0.099400  5.09366  1.27562   \n",
       "2   0.036330  1.49747  233.5460  2.19435  0.026914  3.12694  5.05687   \n",
       "3  -0.014077  0.24600  779.9670  1.89064  0.006948  1.53112  2.69800   \n",
       "4  -0.003259  3.71542  156.1280  2.14772  0.018284  2.09859  4.15492   \n",
       "\n",
       "          f7       f8        f9  ...       f90      f91       f92       f93  \\\n",
       "id                               ...                                          \n",
       "0   2.266270  2.09959  0.012330  ...  0.010739  1.09862  0.013331 -0.011715   \n",
       "1  -0.471318  4.54594  0.037706  ...  0.135838  3.46017  0.017054  0.124863   \n",
       "2   3.849460  1.80187  0.056995  ...  0.117310  4.88300  0.085222  0.032396   \n",
       "3   4.517330  4.50332  0.123494  ... -0.015347  3.47439 -0.017103 -0.008100   \n",
       "4  -0.038236  3.37145  0.034166  ...  0.013781  1.91059 -0.042943  0.105616   \n",
       "\n",
       "         f94       f95       f96      f97       f98       f99  \n",
       "id                                                             \n",
       "0   0.052759  0.065400  4.211250  1.97877  0.085974  0.240496  \n",
       "1   0.154064  0.606848 -0.267928  2.57786 -0.020877  0.024719  \n",
       "2   0.116092 -0.001688 -0.520069  2.14112  0.124464  0.148209  \n",
       "3   0.062013  0.041193  0.511657  1.96860  0.040017  0.044873  \n",
       "4   0.125072  0.037509  1.043790  1.07481 -0.012819  0.072798  \n",
       "\n",
       "[5 rows x 100 columns]"
      ]
     },
     "execution_count": 8,
     "metadata": {},
     "output_type": "execute_result"
    }
   ],
   "source": [
    "X = df.drop(labels='target', axis=1)\n",
    "X.head()"
   ]
  },
  {
   "cell_type": "code",
   "execution_count": 9,
   "id": "941702dc-4985-4cbd-9516-ffeb18db1e76",
   "metadata": {},
   "outputs": [
    {
     "data": {
      "text/plain": [
       "id\n",
       "0    0\n",
       "1    0\n",
       "2    0\n",
       "3    0\n",
       "4    1\n",
       "Name: target, dtype: int64"
      ]
     },
     "execution_count": 9,
     "metadata": {},
     "output_type": "execute_result"
    }
   ],
   "source": [
    "y = df.target\n",
    "y.head()"
   ]
  },
  {
   "cell_type": "code",
   "execution_count": 10,
   "id": "0e86d6aa-d05f-4120-8757-b3a136d91da2",
   "metadata": {},
   "outputs": [],
   "source": [
    "X.index.name = None\n",
    "X.to_feather(path=datapath/'X_orig.feather')"
   ]
  },
  {
   "cell_type": "code",
   "execution_count": 11,
   "id": "2ccad832-87cf-4200-9954-68a13823e8bf",
   "metadata": {},
   "outputs": [
    {
     "data": {
      "text/plain": [
       "['/media/sf/easystore/kaggle_data/tabular_playgrounds/nov2021/datasets/y_orig.joblib']"
      ]
     },
     "execution_count": 11,
     "metadata": {},
     "output_type": "execute_result"
    }
   ],
   "source": [
    "dump(value=y, filename=datapath/'y_orig.joblib')"
   ]
  },
  {
   "cell_type": "code",
   "execution_count": 12,
   "id": "e1780401-aedb-43cf-b27f-79f584b4db91",
   "metadata": {},
   "outputs": [],
   "source": [
    "df.index.name = None\n",
    "df.to_feather(path=datapath/'train.feather')"
   ]
  },
  {
   "cell_type": "code",
   "execution_count": 13,
   "id": "74276dcd-d954-494d-81d1-add0a68cd617",
   "metadata": {},
   "outputs": [],
   "source": [
    "df_test = pd.read_csv(datapath/'test.csv', low_memory=False)\n",
    "df_test.index.name = None\n",
    "df_test.to_feather(path=datapath/'test.feather')"
   ]
  },
  {
   "cell_type": "code",
   "execution_count": 14,
   "id": "41b5532f-0fef-49af-aa4b-d8b7cc801d8f",
   "metadata": {},
   "outputs": [],
   "source": [
    "# # load unaltered dataset\n",
    "# df = pd.read_feather(path=datapath/'train.feather')\n",
    "# df.index.name = 'id'"
   ]
  },
  {
   "cell_type": "code",
   "execution_count": 15,
   "id": "37767d96-92c3-4197-9d3a-b4f0564920c8",
   "metadata": {},
   "outputs": [],
   "source": [
    "# del df"
   ]
  },
  {
   "cell_type": "markdown",
   "id": "b1f92688-61c6-474e-86d7-495f3580e7ab",
   "metadata": {
    "tags": []
   },
   "source": [
    "# Exploring Distributions"
   ]
  },
  {
   "cell_type": "code",
   "execution_count": 16,
   "id": "257b3e80-c2ab-46c5-940b-7a93fa97c22d",
   "metadata": {},
   "outputs": [
    {
     "data": {
      "text/html": [
       "<div>\n",
       "<style scoped>\n",
       "    .dataframe tbody tr th:only-of-type {\n",
       "        vertical-align: middle;\n",
       "    }\n",
       "\n",
       "    .dataframe tbody tr th {\n",
       "        vertical-align: top;\n",
       "    }\n",
       "\n",
       "    .dataframe thead th {\n",
       "        text-align: right;\n",
       "    }\n",
       "</style>\n",
       "<table border=\"1\" class=\"dataframe\">\n",
       "  <thead>\n",
       "    <tr style=\"text-align: right;\">\n",
       "      <th></th>\n",
       "      <th>f0</th>\n",
       "      <th>f1</th>\n",
       "      <th>f2</th>\n",
       "      <th>f3</th>\n",
       "      <th>f4</th>\n",
       "      <th>f5</th>\n",
       "      <th>f6</th>\n",
       "      <th>f7</th>\n",
       "      <th>f8</th>\n",
       "      <th>f9</th>\n",
       "      <th>...</th>\n",
       "      <th>f90</th>\n",
       "      <th>f91</th>\n",
       "      <th>f92</th>\n",
       "      <th>f93</th>\n",
       "      <th>f94</th>\n",
       "      <th>f95</th>\n",
       "      <th>f96</th>\n",
       "      <th>f97</th>\n",
       "      <th>f98</th>\n",
       "      <th>f99</th>\n",
       "    </tr>\n",
       "  </thead>\n",
       "  <tbody>\n",
       "    <tr>\n",
       "      <th>count</th>\n",
       "      <td>600000.000000</td>\n",
       "      <td>600000.000000</td>\n",
       "      <td>600000.000000</td>\n",
       "      <td>600000.000000</td>\n",
       "      <td>600000.000000</td>\n",
       "      <td>600000.000000</td>\n",
       "      <td>600000.000000</td>\n",
       "      <td>600000.000000</td>\n",
       "      <td>600000.000000</td>\n",
       "      <td>600000.000000</td>\n",
       "      <td>...</td>\n",
       "      <td>600000.000000</td>\n",
       "      <td>600000.000000</td>\n",
       "      <td>600000.000000</td>\n",
       "      <td>600000.000000</td>\n",
       "      <td>600000.000000</td>\n",
       "      <td>600000.000000</td>\n",
       "      <td>600000.000000</td>\n",
       "      <td>600000.000000</td>\n",
       "      <td>600000.000000</td>\n",
       "      <td>600000.000000</td>\n",
       "    </tr>\n",
       "    <tr>\n",
       "      <th>mean</th>\n",
       "      <td>0.306508</td>\n",
       "      <td>2.497590</td>\n",
       "      <td>306.644536</td>\n",
       "      <td>2.647901</td>\n",
       "      <td>0.177850</td>\n",
       "      <td>2.556832</td>\n",
       "      <td>2.699650</td>\n",
       "      <td>2.571593</td>\n",
       "      <td>2.538273</td>\n",
       "      <td>0.134370</td>\n",
       "      <td>...</td>\n",
       "      <td>0.071252</td>\n",
       "      <td>2.444471</td>\n",
       "      <td>0.155260</td>\n",
       "      <td>0.059407</td>\n",
       "      <td>0.144932</td>\n",
       "      <td>0.106419</td>\n",
       "      <td>2.547853</td>\n",
       "      <td>2.590159</td>\n",
       "      <td>0.158881</td>\n",
       "      <td>0.123048</td>\n",
       "    </tr>\n",
       "    <tr>\n",
       "      <th>std</th>\n",
       "      <td>0.522450</td>\n",
       "      <td>1.554018</td>\n",
       "      <td>551.743893</td>\n",
       "      <td>1.544529</td>\n",
       "      <td>0.417488</td>\n",
       "      <td>1.562527</td>\n",
       "      <td>1.564000</td>\n",
       "      <td>1.549361</td>\n",
       "      <td>1.532988</td>\n",
       "      <td>0.421892</td>\n",
       "      <td>...</td>\n",
       "      <td>0.112654</td>\n",
       "      <td>1.542509</td>\n",
       "      <td>0.548397</td>\n",
       "      <td>0.119426</td>\n",
       "      <td>0.462015</td>\n",
       "      <td>0.209128</td>\n",
       "      <td>1.558427</td>\n",
       "      <td>1.525091</td>\n",
       "      <td>0.436190</td>\n",
       "      <td>0.264896</td>\n",
       "    </tr>\n",
       "    <tr>\n",
       "      <th>min</th>\n",
       "      <td>-3.797450</td>\n",
       "      <td>-1.223960</td>\n",
       "      <td>-1842.530000</td>\n",
       "      <td>-1.368560</td>\n",
       "      <td>-3.206210</td>\n",
       "      <td>-1.169770</td>\n",
       "      <td>-1.059310</td>\n",
       "      <td>-1.281970</td>\n",
       "      <td>-1.242020</td>\n",
       "      <td>-2.577840</td>\n",
       "      <td>...</td>\n",
       "      <td>-3.676990</td>\n",
       "      <td>-1.217700</td>\n",
       "      <td>-9.761770</td>\n",
       "      <td>-4.666240</td>\n",
       "      <td>-3.101500</td>\n",
       "      <td>-1.276540</td>\n",
       "      <td>-1.584740</td>\n",
       "      <td>-1.254730</td>\n",
       "      <td>-3.993500</td>\n",
       "      <td>-2.783380</td>\n",
       "    </tr>\n",
       "    <tr>\n",
       "      <th>25%</th>\n",
       "      <td>0.026222</td>\n",
       "      <td>1.186237</td>\n",
       "      <td>43.573400</td>\n",
       "      <td>1.442028</td>\n",
       "      <td>0.019709</td>\n",
       "      <td>1.261038</td>\n",
       "      <td>1.385820</td>\n",
       "      <td>1.333848</td>\n",
       "      <td>1.292163</td>\n",
       "      <td>0.019563</td>\n",
       "      <td>...</td>\n",
       "      <td>0.020496</td>\n",
       "      <td>1.214177</td>\n",
       "      <td>0.018904</td>\n",
       "      <td>0.024483</td>\n",
       "      <td>0.017055</td>\n",
       "      <td>0.025461</td>\n",
       "      <td>1.247888</td>\n",
       "      <td>1.348078</td>\n",
       "      <td>0.013536</td>\n",
       "      <td>0.018105</td>\n",
       "    </tr>\n",
       "    <tr>\n",
       "      <th>50%</th>\n",
       "      <td>0.097788</td>\n",
       "      <td>2.516500</td>\n",
       "      <td>133.626000</td>\n",
       "      <td>2.634130</td>\n",
       "      <td>0.061586</td>\n",
       "      <td>2.590425</td>\n",
       "      <td>2.801255</td>\n",
       "      <td>2.557985</td>\n",
       "      <td>2.475880</td>\n",
       "      <td>0.058752</td>\n",
       "      <td>...</td>\n",
       "      <td>0.054546</td>\n",
       "      <td>2.386845</td>\n",
       "      <td>0.068906</td>\n",
       "      <td>0.056649</td>\n",
       "      <td>0.063439</td>\n",
       "      <td>0.062151</td>\n",
       "      <td>2.601940</td>\n",
       "      <td>2.682090</td>\n",
       "      <td>0.058058</td>\n",
       "      <td>0.058471</td>\n",
       "    </tr>\n",
       "    <tr>\n",
       "      <th>75%</th>\n",
       "      <td>0.397184</td>\n",
       "      <td>3.787630</td>\n",
       "      <td>302.262250</td>\n",
       "      <td>3.907640</td>\n",
       "      <td>0.112712</td>\n",
       "      <td>3.813662</td>\n",
       "      <td>3.996913</td>\n",
       "      <td>3.823450</td>\n",
       "      <td>3.804360</td>\n",
       "      <td>0.101046</td>\n",
       "      <td>...</td>\n",
       "      <td>0.091619</td>\n",
       "      <td>3.693872</td>\n",
       "      <td>0.125165</td>\n",
       "      <td>0.088162</td>\n",
       "      <td>0.113114</td>\n",
       "      <td>0.102016</td>\n",
       "      <td>3.820665</td>\n",
       "      <td>3.839520</td>\n",
       "      <td>0.110718</td>\n",
       "      <td>0.104872</td>\n",
       "    </tr>\n",
       "    <tr>\n",
       "      <th>max</th>\n",
       "      <td>8.781500</td>\n",
       "      <td>6.226720</td>\n",
       "      <td>6119.280000</td>\n",
       "      <td>6.521150</td>\n",
       "      <td>8.265470</td>\n",
       "      <td>6.515070</td>\n",
       "      <td>6.586780</td>\n",
       "      <td>6.258770</td>\n",
       "      <td>6.389670</td>\n",
       "      <td>7.078460</td>\n",
       "      <td>...</td>\n",
       "      <td>6.482940</td>\n",
       "      <td>6.573890</td>\n",
       "      <td>18.412800</td>\n",
       "      <td>10.211800</td>\n",
       "      <td>8.623270</td>\n",
       "      <td>3.657220</td>\n",
       "      <td>6.254360</td>\n",
       "      <td>6.145300</td>\n",
       "      <td>10.767000</td>\n",
       "      <td>5.988110</td>\n",
       "    </tr>\n",
       "  </tbody>\n",
       "</table>\n",
       "<p>8 rows × 100 columns</p>\n",
       "</div>"
      ],
      "text/plain": [
       "                  f0             f1             f2             f3  \\\n",
       "count  600000.000000  600000.000000  600000.000000  600000.000000   \n",
       "mean        0.306508       2.497590     306.644536       2.647901   \n",
       "std         0.522450       1.554018     551.743893       1.544529   \n",
       "min        -3.797450      -1.223960   -1842.530000      -1.368560   \n",
       "25%         0.026222       1.186237      43.573400       1.442028   \n",
       "50%         0.097788       2.516500     133.626000       2.634130   \n",
       "75%         0.397184       3.787630     302.262250       3.907640   \n",
       "max         8.781500       6.226720    6119.280000       6.521150   \n",
       "\n",
       "                  f4             f5             f6             f7  \\\n",
       "count  600000.000000  600000.000000  600000.000000  600000.000000   \n",
       "mean        0.177850       2.556832       2.699650       2.571593   \n",
       "std         0.417488       1.562527       1.564000       1.549361   \n",
       "min        -3.206210      -1.169770      -1.059310      -1.281970   \n",
       "25%         0.019709       1.261038       1.385820       1.333848   \n",
       "50%         0.061586       2.590425       2.801255       2.557985   \n",
       "75%         0.112712       3.813662       3.996913       3.823450   \n",
       "max         8.265470       6.515070       6.586780       6.258770   \n",
       "\n",
       "                  f8             f9  ...            f90            f91  \\\n",
       "count  600000.000000  600000.000000  ...  600000.000000  600000.000000   \n",
       "mean        2.538273       0.134370  ...       0.071252       2.444471   \n",
       "std         1.532988       0.421892  ...       0.112654       1.542509   \n",
       "min        -1.242020      -2.577840  ...      -3.676990      -1.217700   \n",
       "25%         1.292163       0.019563  ...       0.020496       1.214177   \n",
       "50%         2.475880       0.058752  ...       0.054546       2.386845   \n",
       "75%         3.804360       0.101046  ...       0.091619       3.693872   \n",
       "max         6.389670       7.078460  ...       6.482940       6.573890   \n",
       "\n",
       "                 f92            f93            f94            f95  \\\n",
       "count  600000.000000  600000.000000  600000.000000  600000.000000   \n",
       "mean        0.155260       0.059407       0.144932       0.106419   \n",
       "std         0.548397       0.119426       0.462015       0.209128   \n",
       "min        -9.761770      -4.666240      -3.101500      -1.276540   \n",
       "25%         0.018904       0.024483       0.017055       0.025461   \n",
       "50%         0.068906       0.056649       0.063439       0.062151   \n",
       "75%         0.125165       0.088162       0.113114       0.102016   \n",
       "max        18.412800      10.211800       8.623270       3.657220   \n",
       "\n",
       "                 f96            f97            f98            f99  \n",
       "count  600000.000000  600000.000000  600000.000000  600000.000000  \n",
       "mean        2.547853       2.590159       0.158881       0.123048  \n",
       "std         1.558427       1.525091       0.436190       0.264896  \n",
       "min        -1.584740      -1.254730      -3.993500      -2.783380  \n",
       "25%         1.247888       1.348078       0.013536       0.018105  \n",
       "50%         2.601940       2.682090       0.058058       0.058471  \n",
       "75%         3.820665       3.839520       0.110718       0.104872  \n",
       "max         6.254360       6.145300      10.767000       5.988110  \n",
       "\n",
       "[8 rows x 100 columns]"
      ]
     },
     "execution_count": 16,
     "metadata": {},
     "output_type": "execute_result"
    }
   ],
   "source": [
    "X.describe()"
   ]
  },
  {
   "cell_type": "markdown",
   "id": "6f0cf09f-fd67-421e-a2fe-4bce299520f5",
   "metadata": {},
   "source": [
    "So regularization / scaling / normalization may be required for this dataset."
   ]
  },
  {
   "cell_type": "code",
   "execution_count": 17,
   "id": "68e5d2b5-2b7c-48c4-8516-3e9492e16bdb",
   "metadata": {},
   "outputs": [
    {
     "data": {
      "text/plain": [
       "(66.43947014500003, -16.743552199100005)"
      ]
     },
     "execution_count": 17,
     "metadata": {},
     "output_type": "execute_result"
    }
   ],
   "source": [
    "X.mean(axis=1).max(), X.mean(axis=1).min()"
   ]
  },
  {
   "cell_type": "code",
   "execution_count": 18,
   "id": "03ef7baa-fa13-4e67-81f5-f5adcce955c3",
   "metadata": {},
   "outputs": [
    {
     "data": {
      "text/plain": [
       "f73      0.050814\n",
       "f33      0.054776\n",
       "f89      0.056866\n",
       "f27      0.057945\n",
       "f93      0.059407\n",
       "          ...    \n",
       "f6       2.699650\n",
       "f11      2.759273\n",
       "f44      3.227368\n",
       "f35     55.698848\n",
       "f2     306.644536\n",
       "Length: 100, dtype: float64"
      ]
     },
     "execution_count": 18,
     "metadata": {},
     "output_type": "execute_result"
    }
   ],
   "source": [
    "means = X.mean(axis=0).sort_values()\n",
    "means"
   ]
  },
  {
   "cell_type": "markdown",
   "id": "ce08eaa4-4e0c-472f-8fa5-b5d5e102a459",
   "metadata": {},
   "source": [
    "Note that it's `f2` that's a huge outlier wrt mean; `f35` is also an outlier. Otherwise, the means are in the 0 to 3ish range"
   ]
  },
  {
   "cell_type": "code",
   "execution_count": 19,
   "id": "4eaffb33-c193-4b81-9b69-9e3679567076",
   "metadata": {},
   "outputs": [
    {
     "data": {
      "text/plain": [
       "f2    -1842.530000\n",
       "f35    -397.004000\n",
       "f44     -42.443200\n",
       "f76     -18.456000\n",
       "f16     -18.169600\n",
       "          ...     \n",
       "f6       -1.059310\n",
       "f12      -0.678145\n",
       "f73      -0.659289\n",
       "f53      -0.653369\n",
       "f21      -0.151519\n",
       "Length: 100, dtype: float64"
      ]
     },
     "execution_count": 19,
     "metadata": {},
     "output_type": "execute_result"
    }
   ],
   "source": [
    "mins = X.min(axis=0).sort_values()\n",
    "mins"
   ]
  },
  {
   "cell_type": "code",
   "execution_count": 20,
   "id": "e6d7bd4a-a45e-4916-aa9b-e7f3650c635c",
   "metadata": {},
   "outputs": [
    {
     "data": {
      "text/plain": [
       "f21       0.526576\n",
       "f73       1.704140\n",
       "f53       2.332980\n",
       "f12       2.361230\n",
       "f78       3.476110\n",
       "          ...     \n",
       "f16      41.469200\n",
       "f84      45.224700\n",
       "f44     131.565000\n",
       "f35    1464.470000\n",
       "f2     6119.280000\n",
       "Length: 100, dtype: float64"
      ]
     },
     "execution_count": 20,
     "metadata": {},
     "output_type": "execute_result"
    }
   ],
   "source": [
    "maxs = X.max(axis=0).sort_values()\n",
    "maxs"
   ]
  },
  {
   "cell_type": "code",
   "execution_count": 21,
   "id": "79f1086d-c1a2-4bf2-92dc-45fa8002dc80",
   "metadata": {},
   "outputs": [
    {
     "data": {
      "text/plain": [
       "f73      0.049142\n",
       "f21      0.054796\n",
       "f33      0.109661\n",
       "f90      0.112654\n",
       "f27      0.114129\n",
       "          ...    \n",
       "f36      1.785712\n",
       "f84      2.364291\n",
       "f44      5.414258\n",
       "f35    130.132892\n",
       "f2     551.743893\n",
       "Length: 100, dtype: float64"
      ]
     },
     "execution_count": 21,
     "metadata": {},
     "output_type": "execute_result"
    }
   ],
   "source": [
    "stds = X.std(axis=0).sort_values()\n",
    "stds"
   ]
  },
  {
   "cell_type": "markdown",
   "id": "6d44a05d-ba46-4e3d-9de2-9ec727eb1d41",
   "metadata": {},
   "source": [
    "It seems that `f44` is also a feature of interest."
   ]
  },
  {
   "cell_type": "code",
   "execution_count": 22,
   "id": "b292a557-7d78-4007-961b-d62ffb4a9d65",
   "metadata": {},
   "outputs": [
    {
     "data": {
      "text/html": [
       "<div>\n",
       "<style scoped>\n",
       "    .dataframe tbody tr th:only-of-type {\n",
       "        vertical-align: middle;\n",
       "    }\n",
       "\n",
       "    .dataframe tbody tr th {\n",
       "        vertical-align: top;\n",
       "    }\n",
       "\n",
       "    .dataframe thead th {\n",
       "        text-align: right;\n",
       "    }\n",
       "</style>\n",
       "<table border=\"1\" class=\"dataframe\">\n",
       "  <thead>\n",
       "    <tr style=\"text-align: right;\">\n",
       "      <th></th>\n",
       "      <th>f2</th>\n",
       "      <th>f35</th>\n",
       "      <th>f44</th>\n",
       "    </tr>\n",
       "  </thead>\n",
       "  <tbody>\n",
       "    <tr>\n",
       "      <th>count</th>\n",
       "      <td>600000.000000</td>\n",
       "      <td>600000.000000</td>\n",
       "      <td>600000.000000</td>\n",
       "    </tr>\n",
       "    <tr>\n",
       "      <th>mean</th>\n",
       "      <td>306.644536</td>\n",
       "      <td>55.698848</td>\n",
       "      <td>3.227368</td>\n",
       "    </tr>\n",
       "    <tr>\n",
       "      <th>std</th>\n",
       "      <td>551.743893</td>\n",
       "      <td>130.132892</td>\n",
       "      <td>5.414258</td>\n",
       "    </tr>\n",
       "    <tr>\n",
       "      <th>min</th>\n",
       "      <td>-1842.530000</td>\n",
       "      <td>-397.004000</td>\n",
       "      <td>-42.443200</td>\n",
       "    </tr>\n",
       "    <tr>\n",
       "      <th>25%</th>\n",
       "      <td>43.573400</td>\n",
       "      <td>6.671687</td>\n",
       "      <td>1.010547</td>\n",
       "    </tr>\n",
       "    <tr>\n",
       "      <th>50%</th>\n",
       "      <td>133.626000</td>\n",
       "      <td>21.222700</td>\n",
       "      <td>2.556800</td>\n",
       "    </tr>\n",
       "    <tr>\n",
       "      <th>75%</th>\n",
       "      <td>302.262250</td>\n",
       "      <td>48.320200</td>\n",
       "      <td>4.214082</td>\n",
       "    </tr>\n",
       "    <tr>\n",
       "      <th>max</th>\n",
       "      <td>6119.280000</td>\n",
       "      <td>1464.470000</td>\n",
       "      <td>131.565000</td>\n",
       "    </tr>\n",
       "  </tbody>\n",
       "</table>\n",
       "</div>"
      ],
      "text/plain": [
       "                  f2            f35            f44\n",
       "count  600000.000000  600000.000000  600000.000000\n",
       "mean      306.644536      55.698848       3.227368\n",
       "std       551.743893     130.132892       5.414258\n",
       "min     -1842.530000    -397.004000     -42.443200\n",
       "25%        43.573400       6.671687       1.010547\n",
       "50%       133.626000      21.222700       2.556800\n",
       "75%       302.262250      48.320200       4.214082\n",
       "max      6119.280000    1464.470000     131.565000"
      ]
     },
     "execution_count": 22,
     "metadata": {},
     "output_type": "execute_result"
    }
   ],
   "source": [
    "X.describe().loc[:,['f2', 'f35', 'f44']]"
   ]
  },
  {
   "cell_type": "markdown",
   "id": "830a2583-038a-4c4d-9a26-ae2561a55255",
   "metadata": {},
   "source": [
    "## TODO - Viz"
   ]
  },
  {
   "cell_type": "markdown",
   "id": "ce94170b-382d-462c-8f4f-56b0dd07d15c",
   "metadata": {},
   "source": [
    "# Checking for High-Cardinality Categoricals"
   ]
  },
  {
   "cell_type": "markdown",
   "id": "3325cac2-31bb-44b7-8c32-44131ff5991c",
   "metadata": {},
   "source": [
    "Let's just check to see if we have any possible lurking, high-cardinality categoricals."
   ]
  },
  {
   "cell_type": "code",
   "execution_count": 23,
   "id": "2f7ab0ff-f8f3-4e12-95fd-db19ff8ea472",
   "metadata": {},
   "outputs": [
    {
     "data": {
      "text/plain": [
       "600000"
      ]
     },
     "execution_count": 23,
     "metadata": {},
     "output_type": "execute_result"
    }
   ],
   "source": [
    "len(X)"
   ]
  },
  {
   "cell_type": "code",
   "execution_count": 24,
   "id": "ce35c57c-81de-4259-86ee-78f30b3ec0b1",
   "metadata": {},
   "outputs": [],
   "source": [
    "possible_categoricals = [f for f in X.columns if ((len(X) - X[f].nunique()) / len(X)) >= 0.9]"
   ]
  },
  {
   "cell_type": "code",
   "execution_count": 25,
   "id": "f0364725-9292-4af1-8134-9bd5c4de3d88",
   "metadata": {},
   "outputs": [
    {
     "data": {
      "text/plain": [
       "[]"
      ]
     },
     "execution_count": 25,
     "metadata": {},
     "output_type": "execute_result"
    }
   ],
   "source": [
    "possible_categoricals"
   ]
  },
  {
   "cell_type": "markdown",
   "id": "b86ba677-6a11-47fa-9164-a4d5ce8ff96f",
   "metadata": {},
   "source": [
    "It would appear no."
   ]
  },
  {
   "cell_type": "code",
   "execution_count": 26,
   "id": "0718ea39-b2d5-4710-9f2f-c72ad56d4575",
   "metadata": {},
   "outputs": [
    {
     "data": {
      "text/plain": [
       "f14    390511\n",
       "f11    395261\n",
       "f55    397458\n",
       "f3     398271\n",
       "f15    399560\n",
       "        ...  \n",
       "f56    509895\n",
       "f88    510289\n",
       "f63    511206\n",
       "f39    514374\n",
       "f0     516483\n",
       "Length: 100, dtype: int64"
      ]
     },
     "execution_count": 26,
     "metadata": {},
     "output_type": "execute_result"
    }
   ],
   "source": [
    "cardinalities = pd.Series([len(X[f].unique()) for f in X.columns], index=X.columns).sort_values()\n",
    "cardinalities"
   ]
  },
  {
   "cell_type": "markdown",
   "id": "e65dce64-6c13-481b-b1ce-f658bc840c2d",
   "metadata": {},
   "source": [
    "So the lowest cardinality feature still has 390k+ values for the 600k instances. I'd say everything is genuinely continuous here."
   ]
  },
  {
   "cell_type": "markdown",
   "id": "f6d75a0f-3a63-4a07-ae5b-f1a34f1ae16e",
   "metadata": {
    "tags": []
   },
   "source": [
    "# Correlations\n",
    "Let's see how well the features correlate with the target value."
   ]
  },
  {
   "cell_type": "code",
   "execution_count": 27,
   "id": "ec87303d-82f3-4999-9142-b9cadf9a7fb1",
   "metadata": {},
   "outputs": [],
   "source": [
    "df_corr = df.corr()"
   ]
  },
  {
   "cell_type": "code",
   "execution_count": 28,
   "id": "9ea5aded-f46d-4d5f-b71f-31ec18b75d3d",
   "metadata": {},
   "outputs": [
    {
     "data": {
      "text/plain": [
       "(101, 101)"
      ]
     },
     "execution_count": 28,
     "metadata": {},
     "output_type": "execute_result"
    }
   ],
   "source": [
    "df_corr.shape"
   ]
  },
  {
   "cell_type": "code",
   "execution_count": 29,
   "id": "8a117a1c-74e3-461c-b950-68025efda41e",
   "metadata": {},
   "outputs": [
    {
     "data": {
      "text/html": [
       "<div>\n",
       "<style scoped>\n",
       "    .dataframe tbody tr th:only-of-type {\n",
       "        vertical-align: middle;\n",
       "    }\n",
       "\n",
       "    .dataframe tbody tr th {\n",
       "        vertical-align: top;\n",
       "    }\n",
       "\n",
       "    .dataframe thead th {\n",
       "        text-align: right;\n",
       "    }\n",
       "</style>\n",
       "<table border=\"1\" class=\"dataframe\">\n",
       "  <thead>\n",
       "    <tr style=\"text-align: right;\">\n",
       "      <th></th>\n",
       "      <th>f0</th>\n",
       "      <th>f1</th>\n",
       "      <th>f2</th>\n",
       "      <th>f3</th>\n",
       "      <th>f4</th>\n",
       "      <th>f5</th>\n",
       "      <th>f6</th>\n",
       "      <th>f7</th>\n",
       "      <th>f8</th>\n",
       "      <th>f9</th>\n",
       "      <th>...</th>\n",
       "      <th>f91</th>\n",
       "      <th>f92</th>\n",
       "      <th>f93</th>\n",
       "      <th>f94</th>\n",
       "      <th>f95</th>\n",
       "      <th>f96</th>\n",
       "      <th>f97</th>\n",
       "      <th>f98</th>\n",
       "      <th>f99</th>\n",
       "      <th>target</th>\n",
       "    </tr>\n",
       "  </thead>\n",
       "  <tbody>\n",
       "    <tr>\n",
       "      <th>f0</th>\n",
       "      <td>1.000000</td>\n",
       "      <td>0.005288</td>\n",
       "      <td>-0.002627</td>\n",
       "      <td>-0.003714</td>\n",
       "      <td>0.013101</td>\n",
       "      <td>-0.002081</td>\n",
       "      <td>-0.004594</td>\n",
       "      <td>-0.003715</td>\n",
       "      <td>-0.007836</td>\n",
       "      <td>0.005646</td>\n",
       "      <td>...</td>\n",
       "      <td>-0.002431</td>\n",
       "      <td>-0.003203</td>\n",
       "      <td>0.000666</td>\n",
       "      <td>-0.005514</td>\n",
       "      <td>-0.001556</td>\n",
       "      <td>-0.014159</td>\n",
       "      <td>-0.016717</td>\n",
       "      <td>0.000539</td>\n",
       "      <td>0.008145</td>\n",
       "      <td>0.001653</td>\n",
       "    </tr>\n",
       "    <tr>\n",
       "      <th>f1</th>\n",
       "      <td>0.005288</td>\n",
       "      <td>1.000000</td>\n",
       "      <td>0.009679</td>\n",
       "      <td>-0.014078</td>\n",
       "      <td>-0.001013</td>\n",
       "      <td>0.008854</td>\n",
       "      <td>0.004880</td>\n",
       "      <td>-0.002326</td>\n",
       "      <td>0.020885</td>\n",
       "      <td>0.008804</td>\n",
       "      <td>...</td>\n",
       "      <td>-0.002975</td>\n",
       "      <td>-0.007733</td>\n",
       "      <td>0.006767</td>\n",
       "      <td>-0.009169</td>\n",
       "      <td>0.003269</td>\n",
       "      <td>0.012188</td>\n",
       "      <td>0.002068</td>\n",
       "      <td>0.002157</td>\n",
       "      <td>0.002548</td>\n",
       "      <td>-0.025762</td>\n",
       "    </tr>\n",
       "    <tr>\n",
       "      <th>f2</th>\n",
       "      <td>-0.002627</td>\n",
       "      <td>0.009679</td>\n",
       "      <td>1.000000</td>\n",
       "      <td>-0.002295</td>\n",
       "      <td>-0.015797</td>\n",
       "      <td>0.011925</td>\n",
       "      <td>-0.000030</td>\n",
       "      <td>-0.004807</td>\n",
       "      <td>0.006432</td>\n",
       "      <td>0.008650</td>\n",
       "      <td>...</td>\n",
       "      <td>0.001939</td>\n",
       "      <td>0.000458</td>\n",
       "      <td>0.005432</td>\n",
       "      <td>0.002372</td>\n",
       "      <td>0.002854</td>\n",
       "      <td>0.002000</td>\n",
       "      <td>-0.001779</td>\n",
       "      <td>-0.001412</td>\n",
       "      <td>-0.001729</td>\n",
       "      <td>-0.023432</td>\n",
       "    </tr>\n",
       "    <tr>\n",
       "      <th>f3</th>\n",
       "      <td>-0.003714</td>\n",
       "      <td>-0.014078</td>\n",
       "      <td>-0.002295</td>\n",
       "      <td>1.000000</td>\n",
       "      <td>-0.010610</td>\n",
       "      <td>-0.021345</td>\n",
       "      <td>0.000324</td>\n",
       "      <td>0.000108</td>\n",
       "      <td>-0.003198</td>\n",
       "      <td>0.000145</td>\n",
       "      <td>...</td>\n",
       "      <td>0.011295</td>\n",
       "      <td>-0.004317</td>\n",
       "      <td>-0.000742</td>\n",
       "      <td>0.005074</td>\n",
       "      <td>0.020866</td>\n",
       "      <td>-0.007060</td>\n",
       "      <td>0.009756</td>\n",
       "      <td>-0.010952</td>\n",
       "      <td>0.000703</td>\n",
       "      <td>-0.041314</td>\n",
       "    </tr>\n",
       "    <tr>\n",
       "      <th>f4</th>\n",
       "      <td>0.013101</td>\n",
       "      <td>-0.001013</td>\n",
       "      <td>-0.015797</td>\n",
       "      <td>-0.010610</td>\n",
       "      <td>1.000000</td>\n",
       "      <td>0.000774</td>\n",
       "      <td>-0.004948</td>\n",
       "      <td>-0.001994</td>\n",
       "      <td>0.000292</td>\n",
       "      <td>-0.000414</td>\n",
       "      <td>...</td>\n",
       "      <td>-0.003535</td>\n",
       "      <td>-0.000355</td>\n",
       "      <td>0.008593</td>\n",
       "      <td>-0.009358</td>\n",
       "      <td>-0.004059</td>\n",
       "      <td>-0.002618</td>\n",
       "      <td>-0.011757</td>\n",
       "      <td>0.012426</td>\n",
       "      <td>0.002732</td>\n",
       "      <td>0.031278</td>\n",
       "    </tr>\n",
       "  </tbody>\n",
       "</table>\n",
       "<p>5 rows × 101 columns</p>\n",
       "</div>"
      ],
      "text/plain": [
       "          f0        f1        f2        f3        f4        f5        f6  \\\n",
       "f0  1.000000  0.005288 -0.002627 -0.003714  0.013101 -0.002081 -0.004594   \n",
       "f1  0.005288  1.000000  0.009679 -0.014078 -0.001013  0.008854  0.004880   \n",
       "f2 -0.002627  0.009679  1.000000 -0.002295 -0.015797  0.011925 -0.000030   \n",
       "f3 -0.003714 -0.014078 -0.002295  1.000000 -0.010610 -0.021345  0.000324   \n",
       "f4  0.013101 -0.001013 -0.015797 -0.010610  1.000000  0.000774 -0.004948   \n",
       "\n",
       "          f7        f8        f9  ...       f91       f92       f93       f94  \\\n",
       "f0 -0.003715 -0.007836  0.005646  ... -0.002431 -0.003203  0.000666 -0.005514   \n",
       "f1 -0.002326  0.020885  0.008804  ... -0.002975 -0.007733  0.006767 -0.009169   \n",
       "f2 -0.004807  0.006432  0.008650  ...  0.001939  0.000458  0.005432  0.002372   \n",
       "f3  0.000108 -0.003198  0.000145  ...  0.011295 -0.004317 -0.000742  0.005074   \n",
       "f4 -0.001994  0.000292 -0.000414  ... -0.003535 -0.000355  0.008593 -0.009358   \n",
       "\n",
       "         f95       f96       f97       f98       f99    target  \n",
       "f0 -0.001556 -0.014159 -0.016717  0.000539  0.008145  0.001653  \n",
       "f1  0.003269  0.012188  0.002068  0.002157  0.002548 -0.025762  \n",
       "f2  0.002854  0.002000 -0.001779 -0.001412 -0.001729 -0.023432  \n",
       "f3  0.020866 -0.007060  0.009756 -0.010952  0.000703 -0.041314  \n",
       "f4 -0.004059 -0.002618 -0.011757  0.012426  0.002732  0.031278  \n",
       "\n",
       "[5 rows x 101 columns]"
      ]
     },
     "execution_count": 29,
     "metadata": {},
     "output_type": "execute_result"
    }
   ],
   "source": [
    "df_corr.head()"
   ]
  },
  {
   "cell_type": "code",
   "execution_count": 30,
   "id": "2fa7e93f-c4a6-4a2b-9714-50c2727fe358",
   "metadata": {},
   "outputs": [],
   "source": [
    "corr_target = df_corr.loc['target':'target']"
   ]
  },
  {
   "cell_type": "markdown",
   "id": "168cd580-ee6f-439e-9be9-106bec424ae2",
   "metadata": {},
   "source": [
    "- This pulls out the correlations with the `target`, which is what matters most, and puts it into a `DataFrame` (vs. `df_corr.loc['target']`, which would yield a `Series` only)."
   ]
  },
  {
   "cell_type": "code",
   "execution_count": 31,
   "id": "530646cd-2410-4143-b732-ca3d7f17e568",
   "metadata": {},
   "outputs": [
    {
     "data": {
      "text/html": [
       "<div>\n",
       "<style scoped>\n",
       "    .dataframe tbody tr th:only-of-type {\n",
       "        vertical-align: middle;\n",
       "    }\n",
       "\n",
       "    .dataframe tbody tr th {\n",
       "        vertical-align: top;\n",
       "    }\n",
       "\n",
       "    .dataframe thead th {\n",
       "        text-align: right;\n",
       "    }\n",
       "</style>\n",
       "<table border=\"1\" class=\"dataframe\">\n",
       "  <thead>\n",
       "    <tr style=\"text-align: right;\">\n",
       "      <th></th>\n",
       "      <th>f0</th>\n",
       "      <th>f1</th>\n",
       "      <th>f2</th>\n",
       "      <th>f3</th>\n",
       "      <th>f4</th>\n",
       "      <th>f5</th>\n",
       "      <th>f6</th>\n",
       "      <th>f7</th>\n",
       "      <th>f8</th>\n",
       "      <th>f9</th>\n",
       "      <th>...</th>\n",
       "      <th>f91</th>\n",
       "      <th>f92</th>\n",
       "      <th>f93</th>\n",
       "      <th>f94</th>\n",
       "      <th>f95</th>\n",
       "      <th>f96</th>\n",
       "      <th>f97</th>\n",
       "      <th>f98</th>\n",
       "      <th>f99</th>\n",
       "      <th>target</th>\n",
       "    </tr>\n",
       "  </thead>\n",
       "  <tbody>\n",
       "    <tr>\n",
       "      <th>target</th>\n",
       "      <td>0.001653</td>\n",
       "      <td>-0.025762</td>\n",
       "      <td>-0.023432</td>\n",
       "      <td>-0.041314</td>\n",
       "      <td>0.031278</td>\n",
       "      <td>-0.029062</td>\n",
       "      <td>0.008199</td>\n",
       "      <td>0.012367</td>\n",
       "      <td>0.105724</td>\n",
       "      <td>-0.029916</td>\n",
       "      <td>...</td>\n",
       "      <td>-0.10612</td>\n",
       "      <td>-0.004139</td>\n",
       "      <td>-0.006059</td>\n",
       "      <td>-0.032312</td>\n",
       "      <td>0.03019</td>\n",
       "      <td>0.059307</td>\n",
       "      <td>-0.080727</td>\n",
       "      <td>0.04716</td>\n",
       "      <td>-0.011223</td>\n",
       "      <td>1.0</td>\n",
       "    </tr>\n",
       "  </tbody>\n",
       "</table>\n",
       "<p>1 rows × 101 columns</p>\n",
       "</div>"
      ],
      "text/plain": [
       "              f0        f1        f2        f3        f4        f5        f6  \\\n",
       "target  0.001653 -0.025762 -0.023432 -0.041314  0.031278 -0.029062  0.008199   \n",
       "\n",
       "              f7        f8        f9  ...      f91       f92       f93  \\\n",
       "target  0.012367  0.105724 -0.029916  ... -0.10612 -0.004139 -0.006059   \n",
       "\n",
       "             f94      f95       f96       f97      f98       f99  target  \n",
       "target -0.032312  0.03019  0.059307 -0.080727  0.04716 -0.011223     1.0  \n",
       "\n",
       "[1 rows x 101 columns]"
      ]
     },
     "execution_count": 31,
     "metadata": {},
     "output_type": "execute_result"
    }
   ],
   "source": [
    "corr_target"
   ]
  },
  {
   "cell_type": "code",
   "execution_count": 32,
   "id": "f68175b9-9adf-4da6-b5f1-9870423952e7",
   "metadata": {},
   "outputs": [
    {
     "data": {
      "text/html": [
       "<div>\n",
       "<style scoped>\n",
       "    .dataframe tbody tr th:only-of-type {\n",
       "        vertical-align: middle;\n",
       "    }\n",
       "\n",
       "    .dataframe tbody tr th {\n",
       "        vertical-align: top;\n",
       "    }\n",
       "\n",
       "    .dataframe thead th {\n",
       "        text-align: right;\n",
       "    }\n",
       "</style>\n",
       "<table border=\"1\" class=\"dataframe\">\n",
       "  <thead>\n",
       "    <tr style=\"text-align: right;\">\n",
       "      <th></th>\n",
       "      <th>f0</th>\n",
       "      <th>f1</th>\n",
       "      <th>f2</th>\n",
       "      <th>f3</th>\n",
       "      <th>f4</th>\n",
       "      <th>f5</th>\n",
       "      <th>f6</th>\n",
       "      <th>f7</th>\n",
       "      <th>f8</th>\n",
       "      <th>f9</th>\n",
       "      <th>...</th>\n",
       "      <th>f90</th>\n",
       "      <th>f91</th>\n",
       "      <th>f92</th>\n",
       "      <th>f93</th>\n",
       "      <th>f94</th>\n",
       "      <th>f95</th>\n",
       "      <th>f96</th>\n",
       "      <th>f97</th>\n",
       "      <th>f98</th>\n",
       "      <th>f99</th>\n",
       "    </tr>\n",
       "  </thead>\n",
       "  <tbody>\n",
       "    <tr>\n",
       "      <th>target</th>\n",
       "      <td>0.001653</td>\n",
       "      <td>-0.025762</td>\n",
       "      <td>-0.023432</td>\n",
       "      <td>-0.041314</td>\n",
       "      <td>0.031278</td>\n",
       "      <td>-0.029062</td>\n",
       "      <td>0.008199</td>\n",
       "      <td>0.012367</td>\n",
       "      <td>0.105724</td>\n",
       "      <td>-0.029916</td>\n",
       "      <td>...</td>\n",
       "      <td>-0.019541</td>\n",
       "      <td>-0.10612</td>\n",
       "      <td>-0.004139</td>\n",
       "      <td>-0.006059</td>\n",
       "      <td>-0.032312</td>\n",
       "      <td>0.03019</td>\n",
       "      <td>0.059307</td>\n",
       "      <td>-0.080727</td>\n",
       "      <td>0.04716</td>\n",
       "      <td>-0.011223</td>\n",
       "    </tr>\n",
       "  </tbody>\n",
       "</table>\n",
       "<p>1 rows × 100 columns</p>\n",
       "</div>"
      ],
      "text/plain": [
       "              f0        f1        f2        f3        f4        f5        f6  \\\n",
       "target  0.001653 -0.025762 -0.023432 -0.041314  0.031278 -0.029062  0.008199   \n",
       "\n",
       "              f7        f8        f9  ...       f90      f91       f92  \\\n",
       "target  0.012367  0.105724 -0.029916  ... -0.019541 -0.10612 -0.004139   \n",
       "\n",
       "             f93       f94      f95       f96       f97      f98       f99  \n",
       "target -0.006059 -0.032312  0.03019  0.059307 -0.080727  0.04716 -0.011223  \n",
       "\n",
       "[1 rows x 100 columns]"
      ]
     },
     "execution_count": 32,
     "metadata": {},
     "output_type": "execute_result"
    }
   ],
   "source": [
    "corr_target = corr_target.drop(['target'], axis=1)\n",
    "corr_target"
   ]
  },
  {
   "cell_type": "markdown",
   "id": "aa9d15e4-9221-4c4f-b319-19174ea92465",
   "metadata": {},
   "source": [
    "- No need to include the self-correlation here"
   ]
  },
  {
   "cell_type": "code",
   "execution_count": 33,
   "id": "c21c6357-3cf0-40ff-8380-01cfacac6200",
   "metadata": {},
   "outputs": [],
   "source": [
    "corr_target_abs = abs(corr_target)"
   ]
  },
  {
   "cell_type": "code",
   "execution_count": 34,
   "id": "0a06a859-af68-4797-9429-59729a578e51",
   "metadata": {},
   "outputs": [],
   "source": [
    "corr_sorted = corr_target_abs.sort_values(by='target', axis=1, ascending=False)"
   ]
  },
  {
   "cell_type": "code",
   "execution_count": 35,
   "id": "60166880-12dd-45b0-9f05-e7a44845b7a0",
   "metadata": {},
   "outputs": [
    {
     "data": {
      "text/html": [
       "<div>\n",
       "<style scoped>\n",
       "    .dataframe tbody tr th:only-of-type {\n",
       "        vertical-align: middle;\n",
       "    }\n",
       "\n",
       "    .dataframe tbody tr th {\n",
       "        vertical-align: top;\n",
       "    }\n",
       "\n",
       "    .dataframe thead th {\n",
       "        text-align: right;\n",
       "    }\n",
       "</style>\n",
       "<table border=\"1\" class=\"dataframe\">\n",
       "  <thead>\n",
       "    <tr style=\"text-align: right;\">\n",
       "      <th></th>\n",
       "      <th>f34</th>\n",
       "      <th>f55</th>\n",
       "      <th>f43</th>\n",
       "      <th>f71</th>\n",
       "      <th>f80</th>\n",
       "      <th>f91</th>\n",
       "      <th>f8</th>\n",
       "      <th>f27</th>\n",
       "      <th>f97</th>\n",
       "      <th>f50</th>\n",
       "      <th>...</th>\n",
       "      <th>f92</th>\n",
       "      <th>f13</th>\n",
       "      <th>f39</th>\n",
       "      <th>f63</th>\n",
       "      <th>f46</th>\n",
       "      <th>f0</th>\n",
       "      <th>f72</th>\n",
       "      <th>f38</th>\n",
       "      <th>f52</th>\n",
       "      <th>f65</th>\n",
       "    </tr>\n",
       "  </thead>\n",
       "  <tbody>\n",
       "    <tr>\n",
       "      <th>target</th>\n",
       "      <td>0.13527</td>\n",
       "      <td>0.113889</td>\n",
       "      <td>0.109418</td>\n",
       "      <td>0.107687</td>\n",
       "      <td>0.106964</td>\n",
       "      <td>0.10612</td>\n",
       "      <td>0.105724</td>\n",
       "      <td>0.101346</td>\n",
       "      <td>0.080727</td>\n",
       "      <td>0.0803</td>\n",
       "      <td>...</td>\n",
       "      <td>0.004139</td>\n",
       "      <td>0.00376</td>\n",
       "      <td>0.002913</td>\n",
       "      <td>0.00287</td>\n",
       "      <td>0.002154</td>\n",
       "      <td>0.001653</td>\n",
       "      <td>0.001339</td>\n",
       "      <td>0.000519</td>\n",
       "      <td>0.00038</td>\n",
       "      <td>0.000084</td>\n",
       "    </tr>\n",
       "  </tbody>\n",
       "</table>\n",
       "<p>1 rows × 100 columns</p>\n",
       "</div>"
      ],
      "text/plain": [
       "            f34       f55       f43       f71       f80      f91        f8  \\\n",
       "target  0.13527  0.113889  0.109418  0.107687  0.106964  0.10612  0.105724   \n",
       "\n",
       "             f27       f97     f50  ...       f92      f13       f39      f63  \\\n",
       "target  0.101346  0.080727  0.0803  ...  0.004139  0.00376  0.002913  0.00287   \n",
       "\n",
       "             f46        f0       f72       f38      f52       f65  \n",
       "target  0.002154  0.001653  0.001339  0.000519  0.00038  0.000084  \n",
       "\n",
       "[1 rows x 100 columns]"
      ]
     },
     "execution_count": 35,
     "metadata": {},
     "output_type": "execute_result"
    }
   ],
   "source": [
    "corr_sorted"
   ]
  },
  {
   "cell_type": "code",
   "execution_count": 41,
   "id": "486659ee-dbfc-4bee-819a-2915b6c8c23b",
   "metadata": {},
   "outputs": [],
   "source": [
    "corr2 = corr_sorted.copy()"
   ]
  },
  {
   "cell_type": "code",
   "execution_count": 47,
   "id": "9bae0317-4d2e-4473-8398-fdaeec188406",
   "metadata": {},
   "outputs": [],
   "source": [
    "corr2 = pd.Series(corr_sorted.iloc[0].T)"
   ]
  },
  {
   "cell_type": "code",
   "execution_count": 48,
   "id": "bcf37df1-bf01-4727-8946-bc3efbc45ffb",
   "metadata": {},
   "outputs": [
    {
     "data": {
      "text/plain": [
       "f34    0.135270\n",
       "f55    0.113889\n",
       "f43    0.109418\n",
       "f71    0.107687\n",
       "f80    0.106964\n",
       "         ...   \n",
       "f0     0.001653\n",
       "f72    0.001339\n",
       "f38    0.000519\n",
       "f52    0.000380\n",
       "f65    0.000084\n",
       "Name: target, Length: 100, dtype: float64"
      ]
     },
     "execution_count": 48,
     "metadata": {},
     "output_type": "execute_result"
    }
   ],
   "source": [
    "corr2"
   ]
  },
  {
   "cell_type": "code",
   "execution_count": 49,
   "id": "b2cb82cb-d995-41ce-bc54-c3067c21921d",
   "metadata": {},
   "outputs": [
    {
     "data": {
      "text/plain": [
       "['/media/sf/easystore/kaggle_data/tabular_playgrounds/nov2021/datasets/feature_correlations_with_target.joblib']"
      ]
     },
     "execution_count": 49,
     "metadata": {},
     "output_type": "execute_result"
    }
   ],
   "source": [
    "dump(corr2, datapath/'feature_correlations_with_target.joblib')"
   ]
  },
  {
   "cell_type": "code",
   "execution_count": 42,
   "id": "09531a2d-db48-4ed0-b5cd-5d4f7ce9f92f",
   "metadata": {},
   "outputs": [
    {
     "data": {
      "text/plain": [
       "['f34', 'f55', 'f43', 'f71', 'f80', 'f91', 'f8', 'f27']"
      ]
     },
     "execution_count": 42,
     "metadata": {},
     "output_type": "execute_result"
    }
   ],
   "source": [
    "useful_features = list(corr_sorted.columns[:8])\n",
    "useful_features"
   ]
  },
  {
   "cell_type": "markdown",
   "id": "956a4952-5991-4170-8b26-86fe4b030868",
   "metadata": {},
   "source": [
    "So it looks like the most-predictive feature is `f34`, but that there are a few others -- 8 in all -- that are better than 10% correlated with the target value. These would be excellent candidates for generating features based on K-means."
   ]
  },
  {
   "cell_type": "markdown",
   "id": "ecde4da0-e69e-47eb-9222-24a408e4db1b",
   "metadata": {
    "tags": []
   },
   "source": [
    "# PCA"
   ]
  },
  {
   "cell_type": "code",
   "execution_count": 45,
   "id": "cb294489-4ea8-4c86-a7ce-7d04eee0f413",
   "metadata": {
    "tags": []
   },
   "outputs": [
    {
     "data": {
      "text/plain": [
       "['/media/sf/easystore/kaggle_data/tabular_playgrounds/nov2021/datasets/PCA_mle.joblib']"
      ]
     },
     "execution_count": 45,
     "metadata": {},
     "output_type": "execute_result"
    }
   ],
   "source": [
    "pca = PCA(n_components='mle', random_state=42)\n",
    "pca.fit(X)\n",
    "dump(pca, datapath/'PCA_mle.joblib')\n",
    "# pca = load(edapath/'PCA_mle.joblib')"
   ]
  },
  {
   "cell_type": "code",
   "execution_count": 46,
   "id": "25c552e2-e9e6-4c7a-8792-27342e26b43d",
   "metadata": {
    "tags": []
   },
   "outputs": [
    {
     "name": "stdout",
     "output_type": "stream",
     "text": [
      "[9.46842553e-01 5.26715976e-02 9.12013783e-05 1.73970223e-05\n",
      " 1.00226527e-05 8.78769705e-06 8.46171605e-06 8.37826700e-06\n",
      " 8.29322879e-06 8.22541545e-06 8.13114843e-06 8.07920462e-06\n",
      " 8.04820561e-06 7.92218688e-06 7.89849320e-06 7.87001318e-06\n",
      " 7.81538201e-06 7.77282584e-06 7.76530286e-06 7.70424840e-06\n",
      " 7.68100364e-06 7.60081220e-06 7.59191316e-06 7.56782801e-06\n",
      " 7.52487605e-06 7.45310628e-06 7.44119882e-06 7.39615483e-06\n",
      " 7.34385372e-06 7.28196062e-06 7.24619601e-06 7.22387337e-06\n",
      " 7.20503656e-06 7.19153269e-06 7.11555909e-06 7.10766942e-06\n",
      " 7.05021837e-06 7.03172727e-06 6.99012984e-06 6.94258827e-06\n",
      " 6.91706414e-06 6.87050766e-06 6.83185315e-06 6.81164332e-06\n",
      " 6.74118109e-06 6.72206138e-06 6.59193385e-06 6.56646414e-06\n",
      " 5.61091781e-06 5.48081977e-06 4.51637667e-06 3.06582334e-06\n",
      " 2.81016773e-06 2.25529937e-06 1.72247960e-06 1.28003835e-06\n",
      " 1.21166016e-06 1.19679982e-06 1.10710040e-06 1.08174379e-06\n",
      " 1.03935195e-06 9.81774819e-07 9.31749269e-07 8.46439329e-07\n",
      " 6.63141138e-07 6.03746324e-07 5.93094646e-07 5.79568135e-07\n",
      " 5.52715861e-07 5.41935073e-07 5.31875564e-07 5.25978759e-07\n",
      " 4.92878448e-07 4.84598257e-07 4.43218024e-07 4.14729234e-07\n",
      " 3.93631327e-07 3.63967062e-07 3.63084234e-07 3.54937635e-07\n",
      " 3.45235462e-07 2.95894113e-07 2.95097341e-07 2.72827879e-07\n",
      " 2.70355139e-07 2.66442081e-07 2.17703575e-07 1.86890903e-07\n",
      " 1.44419061e-07 1.38417141e-07 1.34527118e-07 1.25905385e-07\n",
      " 7.12589736e-08 5.13481077e-08 4.43157995e-08 3.98903957e-08\n",
      " 3.92678504e-08 3.72264837e-08 9.23708723e-09]\n"
     ]
    }
   ],
   "source": [
    "print(pca.explained_variance_ratio_)"
   ]
  },
  {
   "cell_type": "code",
   "execution_count": 47,
   "id": "c2bcd01e-4e69-4d0d-9664-999f07b037c3",
   "metadata": {
    "tags": []
   },
   "outputs": [
    {
     "name": "stdout",
     "output_type": "stream",
     "text": [
      "[4.27378645e+05 1.00800382e+05 4.19444626e+03 1.83194063e+03\n",
      " 1.39048169e+03 1.30200146e+03 1.27762428e+03 1.27130874e+03\n",
      " 1.26484048e+03 1.25965860e+03 1.25241967e+03 1.24841287e+03\n",
      " 1.24601556e+03 1.23622202e+03 1.23437199e+03 1.23214456e+03\n",
      " 1.22786053e+03 1.22451301e+03 1.22392029e+03 1.21909927e+03\n",
      " 1.21725879e+03 1.21088789e+03 1.21017882e+03 1.20825767e+03\n",
      " 1.20482400e+03 1.19906463e+03 1.19810640e+03 1.19447463e+03\n",
      " 1.19024384e+03 1.18521761e+03 1.18230349e+03 1.18048099e+03\n",
      " 1.17894088e+03 1.17783556e+03 1.17159753e+03 1.17094782e+03\n",
      " 1.16620586e+03 1.16467551e+03 1.16122548e+03 1.15726985e+03\n",
      " 1.15514056e+03 1.15124657e+03 1.14800346e+03 1.14630420e+03\n",
      " 1.14035988e+03 1.13874156e+03 1.12766566e+03 1.12548503e+03\n",
      " 1.04037735e+03 1.02824521e+03 9.33402611e+02 7.69037463e+02\n",
      " 7.36275001e+02 6.59592992e+02 5.76435842e+02 4.96918796e+02\n",
      " 4.83464230e+02 4.80490373e+02 4.62133485e+02 4.56810565e+02\n",
      " 4.47770267e+02 4.35190973e+02 4.23958614e+02 4.04084183e+02\n",
      " 3.57665392e+02 3.41272413e+02 3.38248544e+02 3.34369137e+02\n",
      " 3.26531360e+02 3.23331162e+02 3.20316236e+02 3.18535644e+02\n",
      " 3.08349926e+02 3.05748868e+02 2.92403550e+02 2.82850049e+02\n",
      " 2.75561640e+02 2.64975045e+02 2.64653492e+02 2.61667605e+02\n",
      " 2.58066501e+02 2.38914273e+02 2.38592387e+02 2.29413150e+02\n",
      " 2.28371155e+02 2.26712435e+02 2.04930554e+02 1.89875100e+02\n",
      " 1.66911474e+02 1.63406328e+02 1.61093810e+02 1.55846153e+02\n",
      " 1.17244834e+02 9.95259096e+01 9.24598593e+01 8.77219154e+01\n",
      " 8.70347122e+01 8.47422404e+01 4.22125372e+01]\n"
     ]
    }
   ],
   "source": [
    "print(pca.singular_values_)"
   ]
  },
  {
   "cell_type": "code",
   "execution_count": 48,
   "id": "a35d218f-23c8-4fc3-a067-1c00451c2467",
   "metadata": {},
   "outputs": [
    {
     "data": {
      "text/plain": [
       "<AxesSubplot:>"
      ]
     },
     "execution_count": 48,
     "metadata": {},
     "output_type": "execute_result"
    },
    {
     "data": {
      "image/png": "[encoded data removed]",
      "text/plain": [
       "<Figure size 432x288 with 1 Axes>"
      ]
     },
     "metadata": {
      "needs_background": "light"
     },
     "output_type": "display_data"
    }
   ],
   "source": [
    "sns.lineplot(data=np.cumsum(pca.explained_variance_ratio_)) "
   ]
  },
  {
   "cell_type": "markdown",
   "id": "d44c5f80-7289-4f76-8d93-c86347f85dc0",
   "metadata": {},
   "source": [
    "That's striking."
   ]
  },
  {
   "cell_type": "code",
   "execution_count": 49,
   "id": "d58a1598-6d43-4249-87f7-7885cf833648",
   "metadata": {},
   "outputs": [
    {
     "data": {
      "text/plain": [
       "(600000, 99)"
      ]
     },
     "execution_count": 49,
     "metadata": {},
     "output_type": "execute_result"
    }
   ],
   "source": [
    "X_pca = pca.transform(X)\n",
    "X_pca.shape"
   ]
  },
  {
   "cell_type": "code",
   "execution_count": 50,
   "id": "849c27ab-e3ed-4691-83c0-9506685ba521",
   "metadata": {},
   "outputs": [],
   "source": [
    "X_pca_df = pd.DataFrame(X_pca, index=X.index)"
   ]
  },
  {
   "cell_type": "code",
   "execution_count": 51,
   "id": "3cd84eef-b564-408f-b640-a91c3567ff2c",
   "metadata": {},
   "outputs": [
    {
     "data": {
      "text/html": [
       "<div>\n",
       "<style scoped>\n",
       "    .dataframe tbody tr th:only-of-type {\n",
       "        vertical-align: middle;\n",
       "    }\n",
       "\n",
       "    .dataframe tbody tr th {\n",
       "        vertical-align: top;\n",
       "    }\n",
       "\n",
       "    .dataframe thead th {\n",
       "        text-align: right;\n",
       "    }\n",
       "</style>\n",
       "<table border=\"1\" class=\"dataframe\">\n",
       "  <thead>\n",
       "    <tr style=\"text-align: right;\">\n",
       "      <th></th>\n",
       "      <th>0</th>\n",
       "      <th>1</th>\n",
       "      <th>2</th>\n",
       "      <th>3</th>\n",
       "      <th>4</th>\n",
       "      <th>5</th>\n",
       "      <th>6</th>\n",
       "      <th>7</th>\n",
       "      <th>8</th>\n",
       "      <th>9</th>\n",
       "      <th>...</th>\n",
       "      <th>89</th>\n",
       "      <th>90</th>\n",
       "      <th>91</th>\n",
       "      <th>92</th>\n",
       "      <th>93</th>\n",
       "      <th>94</th>\n",
       "      <th>95</th>\n",
       "      <th>96</th>\n",
       "      <th>97</th>\n",
       "      <th>98</th>\n",
       "    </tr>\n",
       "  </thead>\n",
       "  <tbody>\n",
       "    <tr>\n",
       "      <th>0</th>\n",
       "      <td>-173.851416</td>\n",
       "      <td>-44.369534</td>\n",
       "      <td>-1.776503</td>\n",
       "      <td>-0.597948</td>\n",
       "      <td>-0.558690</td>\n",
       "      <td>-2.156565</td>\n",
       "      <td>-0.948887</td>\n",
       "      <td>0.890881</td>\n",
       "      <td>0.992477</td>\n",
       "      <td>-1.994035</td>\n",
       "      <td>...</td>\n",
       "      <td>0.416584</td>\n",
       "      <td>-0.200033</td>\n",
       "      <td>0.463107</td>\n",
       "      <td>-0.055373</td>\n",
       "      <td>0.011302</td>\n",
       "      <td>-0.063499</td>\n",
       "      <td>-0.026181</td>\n",
       "      <td>-0.064579</td>\n",
       "      <td>-0.016873</td>\n",
       "      <td>0.161109</td>\n",
       "    </tr>\n",
       "    <tr>\n",
       "      <th>1</th>\n",
       "      <td>-230.118000</td>\n",
       "      <td>-31.160981</td>\n",
       "      <td>-0.754399</td>\n",
       "      <td>-0.256558</td>\n",
       "      <td>-0.110512</td>\n",
       "      <td>-1.987241</td>\n",
       "      <td>3.852656</td>\n",
       "      <td>3.308621</td>\n",
       "      <td>0.813857</td>\n",
       "      <td>1.077126</td>\n",
       "      <td>...</td>\n",
       "      <td>0.091470</td>\n",
       "      <td>0.465212</td>\n",
       "      <td>-0.024415</td>\n",
       "      <td>-0.057103</td>\n",
       "      <td>0.022771</td>\n",
       "      <td>0.085542</td>\n",
       "      <td>-0.209299</td>\n",
       "      <td>0.009338</td>\n",
       "      <td>0.090590</td>\n",
       "      <td>-0.061669</td>\n",
       "    </tr>\n",
       "    <tr>\n",
       "      <th>2</th>\n",
       "      <td>-73.105058</td>\n",
       "      <td>-21.939138</td>\n",
       "      <td>14.071957</td>\n",
       "      <td>-0.531127</td>\n",
       "      <td>-0.155727</td>\n",
       "      <td>-1.439406</td>\n",
       "      <td>1.721179</td>\n",
       "      <td>0.999267</td>\n",
       "      <td>-0.335982</td>\n",
       "      <td>-0.449358</td>\n",
       "      <td>...</td>\n",
       "      <td>-0.046919</td>\n",
       "      <td>-0.101325</td>\n",
       "      <td>-0.012466</td>\n",
       "      <td>-0.073762</td>\n",
       "      <td>-0.033475</td>\n",
       "      <td>-0.024945</td>\n",
       "      <td>0.052486</td>\n",
       "      <td>0.050650</td>\n",
       "      <td>-0.062635</td>\n",
       "      <td>0.031162</td>\n",
       "    </tr>\n",
       "    <tr>\n",
       "      <th>3</th>\n",
       "      <td>473.308341</td>\n",
       "      <td>-30.415661</td>\n",
       "      <td>68.216760</td>\n",
       "      <td>-0.838599</td>\n",
       "      <td>-1.505867</td>\n",
       "      <td>0.481923</td>\n",
       "      <td>2.142149</td>\n",
       "      <td>2.416112</td>\n",
       "      <td>-0.486816</td>\n",
       "      <td>1.076303</td>\n",
       "      <td>...</td>\n",
       "      <td>-0.093940</td>\n",
       "      <td>-0.038726</td>\n",
       "      <td>-0.112225</td>\n",
       "      <td>-0.091444</td>\n",
       "      <td>-0.000191</td>\n",
       "      <td>-0.045204</td>\n",
       "      <td>-0.127067</td>\n",
       "      <td>-0.112911</td>\n",
       "      <td>0.017363</td>\n",
       "      <td>-0.006578</td>\n",
       "    </tr>\n",
       "    <tr>\n",
       "      <th>4</th>\n",
       "      <td>-150.526308</td>\n",
       "      <td>-40.099136</td>\n",
       "      <td>-0.024382</td>\n",
       "      <td>-0.484390</td>\n",
       "      <td>-0.087701</td>\n",
       "      <td>1.965803</td>\n",
       "      <td>2.625629</td>\n",
       "      <td>-1.018576</td>\n",
       "      <td>-1.673838</td>\n",
       "      <td>-0.417505</td>\n",
       "      <td>...</td>\n",
       "      <td>-0.094311</td>\n",
       "      <td>-0.052336</td>\n",
       "      <td>-0.051593</td>\n",
       "      <td>-0.014662</td>\n",
       "      <td>0.068363</td>\n",
       "      <td>0.052254</td>\n",
       "      <td>-0.060241</td>\n",
       "      <td>-0.068225</td>\n",
       "      <td>-0.014627</td>\n",
       "      <td>0.054425</td>\n",
       "    </tr>\n",
       "  </tbody>\n",
       "</table>\n",
       "<p>5 rows × 99 columns</p>\n",
       "</div>"
      ],
      "text/plain": [
       "           0          1          2         3         4         5         6   \\\n",
       "0 -173.851416 -44.369534  -1.776503 -0.597948 -0.558690 -2.156565 -0.948887   \n",
       "1 -230.118000 -31.160981  -0.754399 -0.256558 -0.110512 -1.987241  3.852656   \n",
       "2  -73.105058 -21.939138  14.071957 -0.531127 -0.155727 -1.439406  1.721179   \n",
       "3  473.308341 -30.415661  68.216760 -0.838599 -1.505867  0.481923  2.142149   \n",
       "4 -150.526308 -40.099136  -0.024382 -0.484390 -0.087701  1.965803  2.625629   \n",
       "\n",
       "         7         8         9   ...        89        90        91        92  \\\n",
       "0  0.890881  0.992477 -1.994035  ...  0.416584 -0.200033  0.463107 -0.055373   \n",
       "1  3.308621  0.813857  1.077126  ...  0.091470  0.465212 -0.024415 -0.057103   \n",
       "2  0.999267 -0.335982 -0.449358  ... -0.046919 -0.101325 -0.012466 -0.073762   \n",
       "3  2.416112 -0.486816  1.076303  ... -0.093940 -0.038726 -0.112225 -0.091444   \n",
       "4 -1.018576 -1.673838 -0.417505  ... -0.094311 -0.052336 -0.051593 -0.014662   \n",
       "\n",
       "         93        94        95        96        97        98  \n",
       "0  0.011302 -0.063499 -0.026181 -0.064579 -0.016873  0.161109  \n",
       "1  0.022771  0.085542 -0.209299  0.009338  0.090590 -0.061669  \n",
       "2 -0.033475 -0.024945  0.052486  0.050650 -0.062635  0.031162  \n",
       "3 -0.000191 -0.045204 -0.127067 -0.112911  0.017363 -0.006578  \n",
       "4  0.068363  0.052254 -0.060241 -0.068225 -0.014627  0.054425  \n",
       "\n",
       "[5 rows x 99 columns]"
      ]
     },
     "execution_count": 51,
     "metadata": {},
     "output_type": "execute_result"
    }
   ],
   "source": [
    "X_pca_df.head()"
   ]
  },
  {
   "cell_type": "code",
   "execution_count": 52,
   "id": "e1ff8298-0be5-4a41-93ff-0f53eaf596ad",
   "metadata": {},
   "outputs": [
    {
     "data": {
      "text/html": [
       "<div>\n",
       "<style scoped>\n",
       "    .dataframe tbody tr th:only-of-type {\n",
       "        vertical-align: middle;\n",
       "    }\n",
       "\n",
       "    .dataframe tbody tr th {\n",
       "        vertical-align: top;\n",
       "    }\n",
       "\n",
       "    .dataframe thead th {\n",
       "        text-align: right;\n",
       "    }\n",
       "</style>\n",
       "<table border=\"1\" class=\"dataframe\">\n",
       "  <thead>\n",
       "    <tr style=\"text-align: right;\">\n",
       "      <th></th>\n",
       "      <th>f0</th>\n",
       "      <th>f1</th>\n",
       "      <th>f2</th>\n",
       "      <th>f3</th>\n",
       "      <th>f4</th>\n",
       "      <th>f5</th>\n",
       "      <th>f6</th>\n",
       "      <th>f7</th>\n",
       "      <th>f8</th>\n",
       "      <th>f9</th>\n",
       "      <th>...</th>\n",
       "      <th>f90</th>\n",
       "      <th>f91</th>\n",
       "      <th>f92</th>\n",
       "      <th>f93</th>\n",
       "      <th>f94</th>\n",
       "      <th>f95</th>\n",
       "      <th>f96</th>\n",
       "      <th>f97</th>\n",
       "      <th>f98</th>\n",
       "      <th>f99</th>\n",
       "    </tr>\n",
       "  </thead>\n",
       "  <tbody>\n",
       "    <tr>\n",
       "      <th>0</th>\n",
       "      <td>0.106643</td>\n",
       "      <td>3.59437</td>\n",
       "      <td>132.8040</td>\n",
       "      <td>3.18428</td>\n",
       "      <td>0.081971</td>\n",
       "      <td>1.18859</td>\n",
       "      <td>3.73238</td>\n",
       "      <td>2.266270</td>\n",
       "      <td>2.09959</td>\n",
       "      <td>0.012330</td>\n",
       "      <td>...</td>\n",
       "      <td>0.010739</td>\n",
       "      <td>1.09862</td>\n",
       "      <td>0.013331</td>\n",
       "      <td>-0.011715</td>\n",
       "      <td>0.052759</td>\n",
       "      <td>0.065400</td>\n",
       "      <td>4.211250</td>\n",
       "      <td>1.97877</td>\n",
       "      <td>0.085974</td>\n",
       "      <td>0.240496</td>\n",
       "    </tr>\n",
       "    <tr>\n",
       "      <th>1</th>\n",
       "      <td>0.125021</td>\n",
       "      <td>1.67336</td>\n",
       "      <td>76.5336</td>\n",
       "      <td>3.37825</td>\n",
       "      <td>0.099400</td>\n",
       "      <td>5.09366</td>\n",
       "      <td>1.27562</td>\n",
       "      <td>-0.471318</td>\n",
       "      <td>4.54594</td>\n",
       "      <td>0.037706</td>\n",
       "      <td>...</td>\n",
       "      <td>0.135838</td>\n",
       "      <td>3.46017</td>\n",
       "      <td>0.017054</td>\n",
       "      <td>0.124863</td>\n",
       "      <td>0.154064</td>\n",
       "      <td>0.606848</td>\n",
       "      <td>-0.267928</td>\n",
       "      <td>2.57786</td>\n",
       "      <td>-0.020877</td>\n",
       "      <td>0.024719</td>\n",
       "    </tr>\n",
       "    <tr>\n",
       "      <th>2</th>\n",
       "      <td>0.036330</td>\n",
       "      <td>1.49747</td>\n",
       "      <td>233.5460</td>\n",
       "      <td>2.19435</td>\n",
       "      <td>0.026914</td>\n",
       "      <td>3.12694</td>\n",
       "      <td>5.05687</td>\n",
       "      <td>3.849460</td>\n",
       "      <td>1.80187</td>\n",
       "      <td>0.056995</td>\n",
       "      <td>...</td>\n",
       "      <td>0.117310</td>\n",
       "      <td>4.88300</td>\n",
       "      <td>0.085222</td>\n",
       "      <td>0.032396</td>\n",
       "      <td>0.116092</td>\n",
       "      <td>-0.001688</td>\n",
       "      <td>-0.520069</td>\n",
       "      <td>2.14112</td>\n",
       "      <td>0.124464</td>\n",
       "      <td>0.148209</td>\n",
       "    </tr>\n",
       "    <tr>\n",
       "      <th>3</th>\n",
       "      <td>-0.014077</td>\n",
       "      <td>0.24600</td>\n",
       "      <td>779.9670</td>\n",
       "      <td>1.89064</td>\n",
       "      <td>0.006948</td>\n",
       "      <td>1.53112</td>\n",
       "      <td>2.69800</td>\n",
       "      <td>4.517330</td>\n",
       "      <td>4.50332</td>\n",
       "      <td>0.123494</td>\n",
       "      <td>...</td>\n",
       "      <td>-0.015347</td>\n",
       "      <td>3.47439</td>\n",
       "      <td>-0.017103</td>\n",
       "      <td>-0.008100</td>\n",
       "      <td>0.062013</td>\n",
       "      <td>0.041193</td>\n",
       "      <td>0.511657</td>\n",
       "      <td>1.96860</td>\n",
       "      <td>0.040017</td>\n",
       "      <td>0.044873</td>\n",
       "    </tr>\n",
       "    <tr>\n",
       "      <th>4</th>\n",
       "      <td>-0.003259</td>\n",
       "      <td>3.71542</td>\n",
       "      <td>156.1280</td>\n",
       "      <td>2.14772</td>\n",
       "      <td>0.018284</td>\n",
       "      <td>2.09859</td>\n",
       "      <td>4.15492</td>\n",
       "      <td>-0.038236</td>\n",
       "      <td>3.37145</td>\n",
       "      <td>0.034166</td>\n",
       "      <td>...</td>\n",
       "      <td>0.013781</td>\n",
       "      <td>1.91059</td>\n",
       "      <td>-0.042943</td>\n",
       "      <td>0.105616</td>\n",
       "      <td>0.125072</td>\n",
       "      <td>0.037509</td>\n",
       "      <td>1.043790</td>\n",
       "      <td>1.07481</td>\n",
       "      <td>-0.012819</td>\n",
       "      <td>0.072798</td>\n",
       "    </tr>\n",
       "  </tbody>\n",
       "</table>\n",
       "<p>5 rows × 100 columns</p>\n",
       "</div>"
      ],
      "text/plain": [
       "         f0       f1        f2       f3        f4       f5       f6        f7  \\\n",
       "0  0.106643  3.59437  132.8040  3.18428  0.081971  1.18859  3.73238  2.266270   \n",
       "1  0.125021  1.67336   76.5336  3.37825  0.099400  5.09366  1.27562 -0.471318   \n",
       "2  0.036330  1.49747  233.5460  2.19435  0.026914  3.12694  5.05687  3.849460   \n",
       "3 -0.014077  0.24600  779.9670  1.89064  0.006948  1.53112  2.69800  4.517330   \n",
       "4 -0.003259  3.71542  156.1280  2.14772  0.018284  2.09859  4.15492 -0.038236   \n",
       "\n",
       "        f8        f9  ...       f90      f91       f92       f93       f94  \\\n",
       "0  2.09959  0.012330  ...  0.010739  1.09862  0.013331 -0.011715  0.052759   \n",
       "1  4.54594  0.037706  ...  0.135838  3.46017  0.017054  0.124863  0.154064   \n",
       "2  1.80187  0.056995  ...  0.117310  4.88300  0.085222  0.032396  0.116092   \n",
       "3  4.50332  0.123494  ... -0.015347  3.47439 -0.017103 -0.008100  0.062013   \n",
       "4  3.37145  0.034166  ...  0.013781  1.91059 -0.042943  0.105616  0.125072   \n",
       "\n",
       "        f95       f96      f97       f98       f99  \n",
       "0  0.065400  4.211250  1.97877  0.085974  0.240496  \n",
       "1  0.606848 -0.267928  2.57786 -0.020877  0.024719  \n",
       "2 -0.001688 -0.520069  2.14112  0.124464  0.148209  \n",
       "3  0.041193  0.511657  1.96860  0.040017  0.044873  \n",
       "4  0.037509  1.043790  1.07481 -0.012819  0.072798  \n",
       "\n",
       "[5 rows x 100 columns]"
      ]
     },
     "execution_count": 52,
     "metadata": {},
     "output_type": "execute_result"
    }
   ],
   "source": [
    "X.head()"
   ]
  },
  {
   "cell_type": "markdown",
   "id": "bf945aab-7ea7-45ec-97de-12487448b010",
   "metadata": {},
   "source": [
    "I'm not entirely certain how to interpret this, but my tentative conclusion is that PCA may not help all that much here... But it's also possible that the result will be quite different after regularization."
   ]
  },
  {
   "cell_type": "markdown",
   "id": "8f2f193e-3c3f-48c7-908c-73fbe167e94d",
   "metadata": {},
   "source": [
    "# Conclusions"
   ]
  },
  {
   "cell_type": "markdown",
   "id": "3c3c191f-cfd9-4d0e-94e4-f28084d89b84",
   "metadata": {},
   "source": [
    "Pending more rigorous statistical interpretation of the distributions of the features, I think we can rule out categorical encoding and imputation as plausible techniques. I may want to apply regularization of some kind, on account of the outliers. Feature selection and feature generation look like strong possible tactics -- perhaps some K-Means clustering for the latter. "
   ]
  }
 ],
 "metadata": {
  "kernelspec": {
   "display_name": "Python 3",
   "language": "python",
   "name": "python3"
  },
  "language_info": {
   "codemirror_mode": {
    "name": "ipython",
    "version": 3
   },
   "file_extension": ".py",
   "mimetype": "text/x-python",
   "name": "python",
   "nbconvert_exporter": "python",
   "pygments_lexer": "ipython3",
   "version": "3.8.12"
  }
 },
 "nbformat": 4,
 "nbformat_minor": 5
}
