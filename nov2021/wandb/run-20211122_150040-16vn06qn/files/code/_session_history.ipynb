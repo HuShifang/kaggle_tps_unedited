{
 "cells": [
  {
   "cell_type": "code",
   "execution_count": 1,
   "id": "981f8f1e",
   "metadata": {},
   "outputs": [],
   "source": [
    "# notebook configuration\n",
    "COLAB = False # will trigger manual installation of packages\n",
    "USE_GPU = True "
   ]
  },
  {
   "cell_type": "code",
   "execution_count": 2,
   "id": "7a0b40d8",
   "metadata": {},
   "outputs": [],
   "source": [
    "# basic imports\n",
    "from pathlib import Path\n",
    "import os\n",
    "import math\n",
    "from datetime import datetime\n",
    "import random"
   ]
  },
  {
   "cell_type": "code",
   "execution_count": 3,
   "id": "ed37e6da",
   "metadata": {},
   "outputs": [],
   "source": [
    "%matplotlib inline\n",
    "%config Completer.use_jedi = False\n",
    "os.environ['WANDB_NOTEBOOK_NAME'] = f\"cleanlab_{datetime.now().strftime('%Y%m%d')}.ipynb\""
   ]
  },
  {
   "cell_type": "code",
   "execution_count": 4,
   "id": "772569d3",
   "metadata": {},
   "outputs": [],
   "source": [
    "import pandas as pd\n",
    "import numpy as np\n",
    "import matplotlib.pyplot as plt\n",
    "from tqdm.notebook import tqdm\n",
    "\n",
    "# general ML tooling\n",
    "from sklearn.model_selection import train_test_split, StratifiedKFold, KFold\n",
    "from sklearn.metrics import log_loss, roc_auc_score\n",
    "import wandb\n",
    "from wandb.xgboost import wandb_callback\n",
    "from wandb.lightgbm import wandb_callback\n",
    "from sklearn.impute import SimpleImputer #, KNNImputer\n",
    "\n",
    "import seaborn as sns\n",
    "\n",
    "from catboost import CatBoostClassifier\n",
    "from xgboost import XGBClassifier\n",
    "from lightgbm import LGBMClassifier\n",
    "# from sklearn.ensemble import StackingClassifier, RandomForestClassifier\n",
    "from sklearn.preprocessing import RobustScaler #StandardScaler #, MinMaxScaler, MaxAbsScaler, RobustScaler, PolynomialFeatures\n",
    "from sklearn.linear_model import LogisticRegression\n",
    "# from sklearn.feature_selection import SelectKBest, f_regression\n",
    "from joblib import dump, load\n",
    "# feature engineering tools\n",
    "# from sklearn.feature_selection import mutual_info_regression\n",
    "# import featuretools as ft\n",
    "\n",
    "# from BorutaShap import BorutaShap\n",
    "import optuna\n",
    "from optuna.integration.wandb import WeightsAndBiasesCallback\n",
    "from optuna.samplers import TPESampler\n",
    "from sklearn.utils import resample"
   ]
  },
  {
   "cell_type": "code",
   "execution_count": 5,
   "id": "9207e62b",
   "metadata": {},
   "outputs": [],
   "source": [
    "from cleanlab.classification import LearningWithNoisyLabels"
   ]
  },
  {
   "cell_type": "code",
   "execution_count": 6,
   "id": "80c61bad",
   "metadata": {},
   "outputs": [],
   "source": [
    "# from pytorch_widedeep import Trainer\n",
    "# from pytorch_widedeep.preprocessing import WidePreprocessor, TabPreprocessor\n",
    "# from pytorch_widedeep.models import Wide, TabMlp, WideDeep#, SAINT, TabTransformer, TabNet, TabFastFormer, TabResnet\n",
    "# from pytorch_widedeep.metrics import Accuracy\n",
    "# from torchmetrics import AUROC\n",
    "# import torch\n",
    "# from torch.optim import Adam, AdamW, Adagrad, SGD, RMSprop, LBFGS\n",
    "# from torch.optim.lr_scheduler import ReduceLROnPlateau, CosineAnnealingWarmRestarts, CyclicLR, OneCycleLR, StepLR, CosineAnnealingLR\n",
    "# from pytorch_widedeep.callbacks import EarlyStopping, LRHistory, ModelCheckpoint"
   ]
  },
  {
   "cell_type": "code",
   "execution_count": 7,
   "id": "dcd9eac4",
   "metadata": {},
   "outputs": [],
   "source": [
    "# import category_encoders as ce"
   ]
  },
  {
   "cell_type": "code",
   "execution_count": 8,
   "id": "e5f5276a",
   "metadata": {},
   "outputs": [],
   "source": [
    "if COLAB:\n",
    "    # mount Google Drive\n",
    "    from google.colab import drive\n",
    "    drive.mount('/content/drive')\n",
    "    \n",
    "    # handling datapath\n",
    "    datapath = Path('/content/drive/MyDrive/kaggle/tabular_playgrounds/nov2021/')\n",
    "    \n",
    "else:\n",
    "    # if on local machine\n",
    "#     datapath = Path('/media/sf/easystore/kaggle_data/tabular_playgrounds/sep2021/')  \n",
    "    root = Path('/media/sf/easystore/kaggle_data/tabular_playgrounds/nov2021/')\n",
    "    datapath = root/'datasets'\n",
    "    # edapath = root/'EDA'\n",
    "    # modelpath = Path('/media/sf/easystore/kaggle_data/tabular_playgrounds/oct2021/models/')\n",
    "    predpath = root/'preds'\n",
    "    subpath = root/'submissions'\n",
    "    \n",
    "    for pth in [datapath, predpath, subpath]:\n",
    "        pth.mkdir(exist_ok=True)\n",
    "    "
   ]
  },
  {
   "cell_type": "code",
   "execution_count": 9,
   "id": "001e70d0",
   "metadata": {},
   "outputs": [],
   "source": [
    "SEED = 42\n",
    "\n",
    "# Function to seed everything\n",
    "def seed_everything(seed):\n",
    "    random.seed(seed)\n",
    "    np.random.seed(seed)\n",
    "    os.environ['PYTHONHASHSEED'] = str(seed)\n",
    "\n",
    "seed_everything(seed=SEED)"
   ]
  },
  {
   "cell_type": "code",
   "execution_count": 10,
   "id": "651b985a",
   "metadata": {},
   "outputs": [],
   "source": [
    "def reduce_memory_usage(df, verbose=True):\n",
    "    numerics = [\"int8\", \"int16\", \"int32\", \"int64\", \"float16\", \"float32\", \"float64\"]\n",
    "    start_mem = df.memory_usage().sum() / 1024 ** 2\n",
    "    for col in df.columns:\n",
    "        col_type = df[col].dtypes\n",
    "        if col_type in numerics:\n",
    "            c_min = df[col].min()\n",
    "            c_max = df[col].max()\n",
    "            if str(col_type)[:3] == \"int\":\n",
    "                if c_min > np.iinfo(np.int8).min and c_max < np.iinfo(np.int8).max:\n",
    "                    df[col] = df[col].astype(np.int8)\n",
    "                elif c_min > np.iinfo(np.int16).min and c_max < np.iinfo(np.int16).max:\n",
    "                    df[col] = df[col].astype(np.int16)\n",
    "                elif c_min > np.iinfo(np.int32).min and c_max < np.iinfo(np.int32).max:\n",
    "                    df[col] = df[col].astype(np.int32)\n",
    "                elif c_min > np.iinfo(np.int64).min and c_max < np.iinfo(np.int64).max:\n",
    "                    df[col] = df[col].astype(np.int64)\n",
    "            else:\n",
    "                if (\n",
    "                    c_min > np.finfo(np.float16).min\n",
    "                    and c_max < np.finfo(np.float16).max\n",
    "                ):\n",
    "                    df[col] = df[col].astype(np.float16)\n",
    "                elif (\n",
    "                    c_min > np.finfo(np.float32).min\n",
    "                    and c_max < np.finfo(np.float32).max\n",
    "                ):\n",
    "                    df[col] = df[col].astype(np.float32)\n",
    "                else:\n",
    "                    df[col] = df[col].astype(np.float64)\n",
    "    end_mem = df.memory_usage().sum() / 1024 ** 2\n",
    "    if verbose:\n",
    "        print(\n",
    "            \"Mem. usage decreased to {:.2f} Mb ({:.1f}% reduction)\".format(\n",
    "                end_mem, 100 * (start_mem - end_mem) / start_mem\n",
    "            )\n",
    "        )\n",
    "    return df"
   ]
  },
  {
   "cell_type": "code",
   "execution_count": 11,
   "id": "08f25958",
   "metadata": {},
   "outputs": [],
   "source": [
    "# dataset_params will initially include either trivial class instances or loaded, precomputed artifacts\n",
    "dataset_params = {\n",
    "    # 'train_source': str(datapath/'X-RobustScaled-pca_mle-umap_embedding_20211107-n_comp10-n_neighbors15-rs42.joblib'),\n",
    "    'train_source': str(datapath/'X_orig.feather'),\n",
    "    'target_source': str(datapath/'y_orig.joblib'),\n",
    "    # 'test_source': str(datapath/'X_test-RobustScaled-pca_mle-umap_embedding_20211107-n_comp10-n_neighbors15-rs42.joblib'),\n",
    "    'test_source': str(datapath/'X_test_orig-no_scaling.feather'),\n",
    "    # 'scaler': str(RobustScaler()),\n",
    "    # 'pca': str(load(datapath/'pca_mle-RobustScaled_orig_trainset.joblib')),\n",
    "    # 'umap': str(load(datapath/'umap_reducer-20211107-n_comp10-n_neighbors15-rs42-pca_mle-RobustScaled_orig_trainset.joblib')),\n",
    "}   \n",
    "\n",
    "# referring back to the already-entered attributes, specify how the pipeline was sequenced\n",
    "# dataset_params['preprocessing_pipeline'] = str([dataset_params['scaler'], dataset_params['pca'], dataset_params['umap']]) # ACTUALLY this is unwieldy\n",
    "# dataset_params['preprocessing_pipeline'] = '[scaler, pca, umap]' # more fragile, but also more readable\n",
    "\n",
    "# now, load the datasets and generate more metadata from them\n",
    "# X = load(dataset_params['train_source'])\n",
    "X = pd.read_feather(dataset_params['train_source'])\n",
    "y = load(dataset_params['target_source'])\n",
    "# X_test = load(dataset_params['test_source'])\n",
    "# X_test = pd.read_feather(dataset_params['test_source'])\n",
    "\n",
    "dataset_params['feature_count'] = X.shape[1]\n",
    "dataset_params['instance_count'] = X.shape[0]\n",
    "    "
   ]
  },
  {
   "cell_type": "code",
   "execution_count": 12,
   "id": "95ec95f9",
   "metadata": {},
   "outputs": [],
   "source": [
    "scaler = RobustScaler()"
   ]
  },
  {
   "cell_type": "code",
   "execution_count": 13,
   "id": "fa4316f2",
   "metadata": {},
   "outputs": [],
   "source": [
    "# meta-config for preprocessing and cross-validation, but NOT for model parameters\n",
    "# in the sweep version, this includes both ex-model parameters and defaults for model parameters\n",
    "exmodel_config = {\n",
    "    \"arch\": 'lightgbm',\n",
    "    # \"type\": 'sweep',\n",
    "    # \"denoising\": \"cleanlab\",\n",
    "    \"level\": 1,\n",
    "    'random_state': SEED,\n",
    "    # 'tuner': \"Optuna\",\n",
    "    'cross_val_strategy': None, # None for holdout, or the relevant sklearn class\n",
    "    'kfolds': 1, # if 1, that means just doing holdout\n",
    "    'test_size': 0.2,\n",
    "    'scaler': str(RobustScaler()),\n",
    "    **dataset_params\n",
    "}\n",
    "\n",
    "wandb_kwargs = {\n",
    "    # wandb config\n",
    "    'name': f\"{os.environ['WANDB_NOTEBOOK_NAME'][:-6]}_{datetime.now().strftime('%H%M%S')}\", # just removes the .ipynb extension, leaving the notebook filename's stem\n",
    "    'project': '202111_Kaggle_tabular_playground',\n",
    "    'tags': ['experiment'],\n",
    "    'notes': \"Going to try CleanLab with the 'best' params from the previous sweep, but wanting to see what the actual LB score is, and how it compares to the noisy one. Using a default LGBMClassfier with holdout on robust-scaled original dataset.\",\n",
    "    'config': exmodel_config,\n",
    "}"
   ]
  },
  {
   "cell_type": "code",
   "execution_count": 14,
   "id": "267eaf0e",
   "metadata": {},
   "outputs": [],
   "source": [
    "wandb.init(\n",
    "    project=\"202111_Kaggle_tabular_playground\",\n",
    "    save_code=True,\n",
    "    tags=wandb_config['tags'],\n",
    "    name=wandb_config['name'],\n",
    "    notes=wandb_config['notes'],\n",
    "    config=exmodel_config\n",
    ") "
   ]
  },
  {
   "cell_type": "code",
   "execution_count": 15,
   "id": "ed4b4941",
   "metadata": {},
   "outputs": [],
   "source": [
    "# meta-config for preprocessing and cross-validation, but NOT for model parameters\n",
    "# in the sweep version, this includes both ex-model parameters and defaults for model parameters\n",
    "exmodel_config = {\n",
    "    \"arch\": 'lightgbm',\n",
    "    # \"type\": 'sweep',\n",
    "    # \"denoising\": \"cleanlab\",\n",
    "    \"level\": 1,\n",
    "    'random_state': SEED,\n",
    "    # 'tuner': \"Optuna\",\n",
    "    'cross_val_strategy': None, # None for holdout, or the relevant sklearn class\n",
    "    'kfolds': 1, # if 1, that means just doing holdout\n",
    "    'test_size': 0.2,\n",
    "    'scaler': str(RobustScaler()),\n",
    "    **dataset_params\n",
    "}\n",
    "\n",
    "wandb_config = {\n",
    "    # wandb config\n",
    "    'name': f\"{os.environ['WANDB_NOTEBOOK_NAME'][:-6]}_{datetime.now().strftime('%H%M%S')}\", # just removes the .ipynb extension, leaving the notebook filename's stem\n",
    "    'project': '202111_Kaggle_tabular_playground',\n",
    "    'tags': ['experiment'],\n",
    "    'notes': \"Going to try CleanLab with the 'best' params from the previous sweep, but wanting to see what the actual LB score is, and how it compares to the noisy one. Using a default LGBMClassfier with holdout on robust-scaled original dataset.\",\n",
    "    'config': exmodel_config,\n",
    "}"
   ]
  },
  {
   "cell_type": "code",
   "execution_count": 16,
   "id": "0a550949",
   "metadata": {},
   "outputs": [
    {
     "name": "stdout",
     "output_type": "stream",
     "text": [
      "<wandb.sdk.wandb_run.Run at 0x7f735419d760>"
     ]
    }
   ],
   "source": [
    "wandb.init(\n",
    "    project=\"202111_Kaggle_tabular_playground\",\n",
    "    save_code=True,\n",
    "    tags=wandb_config['tags'],\n",
    "    name=wandb_config['name'],\n",
    "    notes=wandb_config['notes'],\n",
    "    config=exmodel_config\n",
    ") "
   ]
  },
  {
   "cell_type": "code",
   "execution_count": 17,
   "id": "b54d84be",
   "metadata": {},
   "outputs": [],
   "source": [
    "lgb_model = LGBMClassifier(\n",
    "        objective='binary',\n",
    "        random_state=42,\n",
    "        #                     device_type='cpu',\n",
    "        #                     n_jobs=-1,\n",
    "        #                 eval_metric='auc',\n",
    "        device_type='gpu',\n",
    "        max_bin=63, # 15 might be even better for GPU perf, but depends on dataset -- see https://lightgbm.readthedocs.io/en/latest/GPU-Performance.html\n",
    "        gpu_use_dp=False, # forces use of single precision rather than double for better perf, esp on consumer Nvidia chips\n",
    "    )"
   ]
  },
  {
   "cell_type": "code",
   "execution_count": 18,
   "id": "fe499d26",
   "metadata": {},
   "outputs": [],
   "source": [
    "X_train, X_valid, y_train, y_valid = train_test_split(X, y, test_size=0.2, random_state=42)"
   ]
  },
  {
   "cell_type": "code",
   "execution_count": 19,
   "id": "281bef90",
   "metadata": {},
   "outputs": [],
   "source": [
    "scaler = RobustScaler()"
   ]
  },
  {
   "cell_type": "code",
   "execution_count": 20,
   "id": "deb08c22",
   "metadata": {},
   "outputs": [
    {
     "name": "stdout",
     "output_type": "stream",
     "text": [
      "array([[-0.27296268,  0.01579322, -0.19031588, ...,  0.50363337,\n",
      "         0.17720313, -0.58369832],\n",
      "       [-0.18106382,  0.2410393 ,  5.30773161, ...,  0.24955035,\n",
      "        -0.48450355, -0.62285755],\n",
      "       [ 6.07300903, -0.85078822,  0.17280319, ..., -0.62764574,\n",
      "        -0.67894852,  0.73726127],\n",
      "       ...,\n",
      "       [ 4.18856991, -0.68824246,  0.21225385, ...,  0.88726112,\n",
      "         6.19955807, -0.09918299],\n",
      "       [-0.300117  ,  0.13080398, -0.54802214, ..., -0.3979886 ,\n",
      "        -0.01474   ,  0.22398866],\n",
      "       [-0.29279129,  0.62179137,  0.07317624, ...,  0.14508993,\n",
      "        12.038684  ,  0.6437292 ]])"
     ]
    }
   ],
   "source": [
    "scaler.fit_transform(X_train,y_train)"
   ]
  },
  {
   "cell_type": "code",
   "execution_count": 21,
   "id": "bb053161",
   "metadata": {},
   "outputs": [],
   "source": [
    "scaler.transform(X_valid, y_valid)"
   ]
  },
  {
   "cell_type": "code",
   "execution_count": 22,
   "id": "c768575b",
   "metadata": {},
   "outputs": [
    {
     "name": "stdout",
     "output_type": "stream",
     "text": [
      "array([[ 1.27745959, -0.79095855,  3.57879036, ...,  0.40431588,\n",
      "         0.30027418,  0.45467042],\n",
      "       [-0.35032922, -0.36662758, -0.83368479, ...,  0.48734142,\n",
      "        -0.59656634,  9.97028335],\n",
      "       [ 2.07990909,  0.20997962, -0.0127639 , ..., -0.80240405,\n",
      "        -0.22697866,  0.23615553],\n",
      "       ...,\n",
      "       [ 0.80633635,  0.39936366,  0.49845399, ...,  0.68680344,\n",
      "        -1.04204429,  0.24502101],\n",
      "       [-0.06863608, -0.27843164, -0.36283929, ...,  0.18702425,\n",
      "         0.57010813, -0.05371796],\n",
      "       [-0.3620719 , -0.30144763, -0.06982129, ..., -0.73907299,\n",
      "        -1.0792864 ,  0.24365673]])"
     ]
    }
   ],
   "source": [
    "scaler.transform(X_valid)"
   ]
  },
  {
   "cell_type": "code",
   "execution_count": 23,
   "id": "f77fb6a1",
   "metadata": {},
   "outputs": [],
   "source": [
    "X_train, X_valid, y_train, y_valid = train_test_split(X, y, test_size=0.2, random_state=42)"
   ]
  },
  {
   "cell_type": "code",
   "execution_count": 24,
   "id": "1a78a793",
   "metadata": {},
   "outputs": [],
   "source": [
    "scaler = RobustScaler()"
   ]
  },
  {
   "cell_type": "code",
   "execution_count": 25,
   "id": "8c91ba30",
   "metadata": {},
   "outputs": [
    {
     "name": "stdout",
     "output_type": "stream",
     "text": [
      "array([[-0.27296268,  0.01579322, -0.19031588, ...,  0.50363337,\n",
      "         0.17720313, -0.58369832],\n",
      "       [-0.18106382,  0.2410393 ,  5.30773161, ...,  0.24955035,\n",
      "        -0.48450355, -0.62285755],\n",
      "       [ 6.07300903, -0.85078822,  0.17280319, ..., -0.62764574,\n",
      "        -0.67894852,  0.73726127],\n",
      "       ...,\n",
      "       [ 4.18856991, -0.68824246,  0.21225385, ...,  0.88726112,\n",
      "         6.19955807, -0.09918299],\n",
      "       [-0.300117  ,  0.13080398, -0.54802214, ..., -0.3979886 ,\n",
      "        -0.01474   ,  0.22398866],\n",
      "       [-0.29279129,  0.62179137,  0.07317624, ...,  0.14508993,\n",
      "        12.038684  ,  0.6437292 ]])"
     ]
    }
   ],
   "source": [
    "scaler.fit_transform(X_train)"
   ]
  },
  {
   "cell_type": "code",
   "execution_count": 26,
   "id": "5c00beb5",
   "metadata": {},
   "outputs": [
    {
     "name": "stdout",
     "output_type": "stream",
     "text": [
      "array([[ 1.27745959, -0.79095855,  3.57879036, ...,  0.40431588,\n",
      "         0.30027418,  0.45467042],\n",
      "       [-0.35032922, -0.36662758, -0.83368479, ...,  0.48734142,\n",
      "        -0.59656634,  9.97028335],\n",
      "       [ 2.07990909,  0.20997962, -0.0127639 , ..., -0.80240405,\n",
      "        -0.22697866,  0.23615553],\n",
      "       ...,\n",
      "       [ 0.80633635,  0.39936366,  0.49845399, ...,  0.68680344,\n",
      "        -1.04204429,  0.24502101],\n",
      "       [-0.06863608, -0.27843164, -0.36283929, ...,  0.18702425,\n",
      "         0.57010813, -0.05371796],\n",
      "       [-0.3620719 , -0.30144763, -0.06982129, ..., -0.73907299,\n",
      "        -1.0792864 ,  0.24365673]])"
     ]
    }
   ],
   "source": [
    "scaler.transform(X_valid)"
   ]
  },
  {
   "cell_type": "code",
   "execution_count": 27,
   "id": "4e01ffbc",
   "metadata": {},
   "outputs": [
    {
     "name": "stdout",
     "output_type": "stream",
     "text": [
      "LGBMClassifier(device_type='gpu', gpu_use_dp=False, max_bin=63,\n",
      "               objective='binary', random_state=42)"
     ]
    }
   ],
   "source": [
    "lgb_model.fit(X_train, y_train)"
   ]
  },
  {
   "cell_type": "code",
   "execution_count": 28,
   "id": "640cc129",
   "metadata": {},
   "outputs": [
    {
     "name": "stdout",
     "output_type": "stream",
     "text": [
      "0.7322242958171294"
     ]
    }
   ],
   "source": [
    "preds = lgb_model.predict_proba(X_valid)[:,1]\n",
    "valid_auc = roc_auc_score(y_true=y_valid, y_score=preds)\n",
    "valid_auc"
   ]
  },
  {
   "cell_type": "code",
   "execution_count": 29,
   "id": "a5cdba46",
   "metadata": {},
   "outputs": [],
   "source": [
    "wandb.log({'overall_valid_auc': valid_auc,\n",
    "           'model_params': str(model.get_params()),\n",
    "           'model_seed': 42,\n",
    "          })\n",
    "wandb.finish()"
   ]
  },
  {
   "cell_type": "code",
   "execution_count": 30,
   "id": "54287890",
   "metadata": {},
   "outputs": [],
   "source": [
    "wandb.log({'overall_valid_auc': valid_auc,\n",
    "           'model_params': str(lgb_model.get_params()),\n",
    "           'model_seed': 42,\n",
    "          })\n",
    "wandb.finish()"
   ]
  },
  {
   "cell_type": "code",
   "execution_count": 31,
   "id": "66e69ecd",
   "metadata": {},
   "outputs": [
    {
     "name": "stdout",
     "output_type": "stream",
     "text": [
      "<wandb.sdk.wandb_run.Run at 0x7f73450cf130>"
     ]
    },
    {
     "data": {
      "text/html": [
       "\n",
       "                    Syncing run <strong><a href=\"https://wandb.ai/hushifang/202111_Kaggle_tabular_playground/runs/16vn06qn\" target=\"_blank\">cleanlab_20211122_150040</a></strong> to <a href=\"https://wandb.ai/hushifang/202111_Kaggle_tabular_playground\" target=\"_blank\">Weights & Biases</a> (<a href=\"https://docs.wandb.com/integrations/jupyter.html\" target=\"_blank\">docs</a>).<br/>\n",
       "\n",
       "                "
      ],
      "text/plain": [
       "<IPython.core.display.HTML object>"
      ]
     },
     "metadata": {},
     "output_type": "display_data"
    }
   ],
   "source": [
    "exmodel_config['denoising'] = 'cleanlab'\n",
    "\n",
    "wandb_config = {\n",
    "    # wandb config\n",
    "    'name': f\"{os.environ['WANDB_NOTEBOOK_NAME'][:-6]}_{datetime.now().strftime('%H%M%S')}\", # just removes the .ipynb extension, leaving the notebook filename's stem\n",
    "    'project': '202111_Kaggle_tabular_playground',\n",
    "    'tags': ['experiment'],\n",
    "    'notes': \"Going to try CleanLab with the 'best' params from the previous sweep, but wanting to see what the actual LB score is, and how it compares to the noisy one. Using a default LGBMClassfier with holdout on robust-scaled original dataset.\",\n",
    "    'config': exmodel_config,\n",
    "}\n",
    "\n",
    "wandb.init(\n",
    "    project=\"202111_Kaggle_tabular_playground\",\n",
    "    save_code=True,\n",
    "    tags=wandb_config['tags'],\n",
    "    name=wandb_config['name'],\n",
    "    notes=wandb_config['notes'],\n",
    "    config=exmodel_config\n",
    ") "
   ]
  },
  {
   "cell_type": "code",
   "execution_count": 32,
   "id": "1f9943ad",
   "metadata": {},
   "outputs": [],
   "source": [
    "rp_params = {\n",
    "    # 'prune_method': trial.suggest_categorical('prune_method', ['prune_by_noise_rate', 'prune_by_class', 'both']),\n",
    "    # 'converge_latent_estimates': trial.suggest_categorical('converge_latent_estimates', [True, False]),\n",
    "    # 'pulearning': trial.suggest_categorical('pulearning', [0,1,None])\n",
    "    'prune_method': 'both',\n",
    "    'converge_latent_estimates': True,\n",
    "    'pulearning': 1,\n",
    "}"
   ]
  },
  {
   "cell_type": "code",
   "execution_count": 33,
   "id": "2ec4387a",
   "metadata": {},
   "outputs": [],
   "source": [
    "lgb_model = LGBMClassifier(\n",
    "        objective='binary',\n",
    "        random_state=42,\n",
    "        #                     device_type='cpu',\n",
    "        #                     n_jobs=-1,\n",
    "        #                 eval_metric='auc',\n",
    "        device_type='gpu',\n",
    "        max_bin=63, # 15 might be even better for GPU perf, but depends on dataset -- see https://lightgbm.readthedocs.io/en/latest/GPU-Performance.html\n",
    "        gpu_use_dp=False, # forces use of single precision rather than double for better perf, esp on consumer Nvidia chips\n",
    "    )"
   ]
  },
  {
   "cell_type": "code",
   "execution_count": 34,
   "id": "377fb4a3",
   "metadata": {},
   "outputs": [],
   "source": [
    "X_train, X_valid, y_train, y_valid = train_test_split(X, y, test_size=0.2, random_state=42)"
   ]
  },
  {
   "cell_type": "code",
   "execution_count": 35,
   "id": "0b10255b",
   "metadata": {},
   "outputs": [],
   "source": [
    "scaler = RobustScaler()"
   ]
  },
  {
   "cell_type": "code",
   "execution_count": 36,
   "id": "0313a6ff",
   "metadata": {},
   "outputs": [
    {
     "name": "stdout",
     "output_type": "stream",
     "text": [
      "array([[-0.27296268,  0.01579322, -0.19031588, ...,  0.50363337,\n",
      "         0.17720313, -0.58369832],\n",
      "       [-0.18106382,  0.2410393 ,  5.30773161, ...,  0.24955035,\n",
      "        -0.48450355, -0.62285755],\n",
      "       [ 6.07300903, -0.85078822,  0.17280319, ..., -0.62764574,\n",
      "        -0.67894852,  0.73726127],\n",
      "       ...,\n",
      "       [ 4.18856991, -0.68824246,  0.21225385, ...,  0.88726112,\n",
      "         6.19955807, -0.09918299],\n",
      "       [-0.300117  ,  0.13080398, -0.54802214, ..., -0.3979886 ,\n",
      "        -0.01474   ,  0.22398866],\n",
      "       [-0.29279129,  0.62179137,  0.07317624, ...,  0.14508993,\n",
      "        12.038684  ,  0.6437292 ]])"
     ]
    }
   ],
   "source": [
    "scaler.fit_transform(X_train)"
   ]
  },
  {
   "cell_type": "code",
   "execution_count": 37,
   "id": "47fb9e64",
   "metadata": {},
   "outputs": [
    {
     "name": "stdout",
     "output_type": "stream",
     "text": [
      "array([[ 1.27745959, -0.79095855,  3.57879036, ...,  0.40431588,\n",
      "         0.30027418,  0.45467042],\n",
      "       [-0.35032922, -0.36662758, -0.83368479, ...,  0.48734142,\n",
      "        -0.59656634,  9.97028335],\n",
      "       [ 2.07990909,  0.20997962, -0.0127639 , ..., -0.80240405,\n",
      "        -0.22697866,  0.23615553],\n",
      "       ...,\n",
      "       [ 0.80633635,  0.39936366,  0.49845399, ...,  0.68680344,\n",
      "        -1.04204429,  0.24502101],\n",
      "       [-0.06863608, -0.27843164, -0.36283929, ...,  0.18702425,\n",
      "         0.57010813, -0.05371796],\n",
      "       [-0.3620719 , -0.30144763, -0.06982129, ..., -0.73907299,\n",
      "        -1.0792864 ,  0.24365673]])"
     ]
    }
   ],
   "source": [
    "scaler.transform(X_valid)"
   ]
  },
  {
   "cell_type": "code",
   "execution_count": 38,
   "id": "d938328d",
   "metadata": {},
   "outputs": [],
   "source": [
    "rp = LearningWithNoisyLabels(clf=lgb_model, **rp_params)\n",
    "rp.fit(X_train, y_train)"
   ]
  },
  {
   "cell_type": "code",
   "execution_count": 39,
   "id": "dea7e3af",
   "metadata": {},
   "outputs": [],
   "source": [
    "X_train = np.array(X_train)\n",
    "X_valid = np.array(X_valid)\n",
    "y_train = np.array(y_train)\n",
    "y_valid = np.array(y_valid)"
   ]
  },
  {
   "cell_type": "code",
   "execution_count": 40,
   "id": "ea241343",
   "metadata": {},
   "outputs": [
    {
     "name": "stdout",
     "output_type": "stream",
     "text": [
      "LGBMClassifier(device_type='gpu', gpu_use_dp=False, max_bin=63,\n",
      "               objective='binary', random_state=42)"
     ]
    }
   ],
   "source": [
    "rp = LearningWithNoisyLabels(clf=lgb_model, **rp_params)\n",
    "rp.fit(X_train, y_train)"
   ]
  },
  {
   "cell_type": "code",
   "execution_count": 41,
   "id": "dc79cad0",
   "metadata": {},
   "outputs": [
    {
     "name": "stdout",
     "output_type": "stream",
     "text": [
      "0.7242336321944994"
     ]
    }
   ],
   "source": [
    "preds = rp.predict_proba(X_valid)[:,1]\n",
    "valid_auc = roc_auc_score(y_true=y_valid, y_score=preds)\n",
    "valid_auc"
   ]
  },
  {
   "cell_type": "code",
   "execution_count": 42,
   "id": "8ae3f1ab",
   "metadata": {},
   "outputs": [
    {
     "name": "stdout",
     "output_type": "stream",
     "text": [
      "{'clf__boosting_type': 'gbdt',\n",
      " 'clf__class_weight': None,\n",
      " 'clf__colsample_bytree': 1.0,\n",
      " 'clf__importance_type': 'split',\n",
      " 'clf__learning_rate': 0.1,\n",
      " 'clf__max_depth': -1,\n",
      " 'clf__min_child_samples': 20,\n",
      " 'clf__min_child_weight': 0.001,\n",
      " 'clf__min_split_gain': 0.0,\n",
      " 'clf__n_estimators': 100,\n",
      " 'clf__n_jobs': -1,\n",
      " 'clf__num_leaves': 31,\n",
      " 'clf__objective': 'binary',\n",
      " 'clf__random_state': 42,\n",
      " 'clf__reg_alpha': 0.0,\n",
      " 'clf__reg_lambda': 0.0,\n",
      " 'clf__silent': 'warn',\n",
      " 'clf__subsample': 1.0,\n",
      " 'clf__subsample_for_bin': 200000,\n",
      " 'clf__subsample_freq': 0,\n",
      " 'clf__device_type': 'gpu',\n",
      " 'clf__max_bin': 63,\n",
      " 'clf__gpu_use_dp': False,\n",
      " 'clf': LGBMClassifier(device_type='gpu', gpu_use_dp=False, max_bin=63,\n",
      "                objective='binary', random_state=42),\n",
      " 'converge_latent_estimates': True,\n",
      " 'cv_n_folds': 5,\n",
      " 'n_jobs': 16,\n",
      " 'prune_method': 'both',\n",
      " 'pulearning': 1,\n",
      " 'seed': None}"
     ]
    }
   ],
   "source": [
    "rp.get_params()"
   ]
  },
  {
   "cell_type": "code",
   "execution_count": 43,
   "id": "7931b8b6",
   "metadata": {},
   "outputs": [],
   "source": [
    "wandb.log({'overall_valid_auc': valid_auc,\n",
    "           'model_params': str(lgb_model.get_params()),\n",
    "           'model_seed': 42,\n",
    "           'cleanlab_params': str(rp.get_params())\n",
    "          })\n",
    "wandb.finish()"
   ]
  }
 ],
 "metadata": {
  "kernelspec": {
   "display_name": "Python 3",
   "language": "python",
   "name": "python3"
  },
  "language_info": {
   "codemirror_mode": {
    "name": "ipython",
    "version": 3
   },
   "file_extension": ".py",
   "mimetype": "text/x-python",
   "name": "python",
   "nbconvert_exporter": "python",
   "pygments_lexer": "ipython3",
   "version": "3.8.12"
  }
 },
 "nbformat": 4,
 "nbformat_minor": 5
}
