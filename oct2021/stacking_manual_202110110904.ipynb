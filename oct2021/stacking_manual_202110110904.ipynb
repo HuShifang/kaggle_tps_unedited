{
 "cells": [
  {
   "cell_type": "markdown",
   "id": "1d4e7f70-25a3-4d58-b98a-3a695e55ee53",
   "metadata": {},
   "source": [
    "# Baseline\n",
    "Setting up a more robust baseline notebook, suitable for use with all of the \"Big Three\" (XGBoost, CatBoost, LightGBM) libraries and on either Google Colab or the local machine."
   ]
  },
  {
   "cell_type": "markdown",
   "id": "1e124c3d-0e1f-4053-8e72-52569a4fe3e4",
   "metadata": {},
   "source": [
    "# Setup"
   ]
  },
  {
   "cell_type": "code",
   "execution_count": 1,
   "id": "dae2ff1e-bd1f-4cc9-8357-5a88d1746ffb",
   "metadata": {},
   "outputs": [],
   "source": [
    "# two manual flags (ex-config)\n",
    "COLAB = False\n",
    "USE_GPU = True\n",
    "# libraries = ['xgboost', 'lightgbm', 'catboost']\n",
    "libraries = ['xgboost', 'lightgbm', 'catboost']"
   ]
  },
  {
   "cell_type": "code",
   "execution_count": 2,
   "id": "16849bd2-428c-497b-ba3b-675002f8d041",
   "metadata": {},
   "outputs": [],
   "source": [
    "# basic imports\n",
    "from pathlib import Path\n",
    "import os\n",
    "import math\n",
    "from datetime import datetime\n",
    "import random"
   ]
  },
  {
   "cell_type": "code",
   "execution_count": 3,
   "id": "12d2654b-3bc6-49b5-ade8-cc82112b60e5",
   "metadata": {},
   "outputs": [],
   "source": [
    "%matplotlib inline\n",
    "%config Completer.use_jedi = False\n",
    "os.environ['WANDB_NOTEBOOK_NAME'] = f\"stacking_manual_{datetime.now().strftime('%Y%m%d')}.ipynb\""
   ]
  },
  {
   "cell_type": "code",
   "execution_count": 4,
   "id": "416d6118-e543-4df4-9219-2d4a63743c3a",
   "metadata": {},
   "outputs": [],
   "source": [
    "# handle Google Colab-specific library installation/updating\n",
    "if COLAB:\n",
    "    # much of the below inspired by or cribbed from the May 2021 Kaggle Tabular Playground winner, at \n",
    "    # https://colab.research.google.com/gist/academicsuspect/0aac7bd6e506f5f70295bfc9a3dc2250/tabular-may-baseline.ipynb?authuser=1#scrollTo=LJoVKJb5wN0L\n",
    "    \n",
    "    # Kaggle API for downloading the datasets\n",
    "#     !pip install --upgrade -q kaggle\n",
    "\n",
    "    # weights and biases\n",
    "    !pip install -qqqU wandb\n",
    "    \n",
    "    # Optuna for parameter search\n",
    "    !pip install -q optuna\n",
    "\n",
    "    # upgrade sklearn\n",
    "    !pip install --upgrade scikit-learn\n",
    "\n",
    "#     !pip install category_encoders\n",
    "    \n",
    "    if 'catboost' in libraries:\n",
    "        !pip install catboost\n",
    "    \n",
    "    if 'xgboost' in libraries:\n",
    "        if USE_GPU: \n",
    "            # this part is from https://github.com/rapidsai/gputreeshap/issues/24\n",
    "            !pip install cmake --upgrade\n",
    "            # !pip install sklearn --upgrade\n",
    "            !git clone --recursive https://github.com/dmlc/xgboost\n",
    "            %cd /content/xgboost\n",
    "            !mkdir build\n",
    "            %cd build\n",
    "            !cmake .. -DUSE_CUDA=ON\n",
    "            !make -j4\n",
    "            %cd /content/xgboost/python-package\n",
    "            !python setup.py install --use-cuda --use-nccl\n",
    "            !/opt/bin/nvidia-smi\n",
    "            !pip install shap\n",
    "        else:\n",
    "            !pip install --upgrade xgboost\n",
    "    if 'lightgbm' in libraries:\n",
    "        if USE_GPU:\n",
    "            # lighgbm gpu compatible\n",
    "            !git clone --recursive https://github.com/Microsoft/LightGBM\n",
    "            ! cd LightGBM && rm -rf build && mkdir build && cd build && cmake -DUSE_GPU=1 ../../LightGBM && make -j4 && cd ../python-package && python3 setup.py install --precompile --gpu;\n",
    "        else:\n",
    "            !pip install --upgrade lightgbm\n",
    "        \n",
    "\n",
    "        "
   ]
  },
  {
   "cell_type": "markdown",
   "id": "d40df194-4474-4bcf-ac5a-98efe24b91fd",
   "metadata": {},
   "source": [
    "Now, non-stdlib imports"
   ]
  },
  {
   "cell_type": "code",
   "execution_count": 5,
   "id": "a01e85f7-d602-4dde-bef9-611683cd74c4",
   "metadata": {},
   "outputs": [
    {
     "data": {
      "text/html": [
       "<style type='text/css'>\n",
       ".datatable table.frame { margin-bottom: 0; }\n",
       ".datatable table.frame thead { border-bottom: none; }\n",
       ".datatable table.frame tr.coltypes td {  color: #FFFFFF;  line-height: 6px;  padding: 0 0.5em;}\n",
       ".datatable .bool    { background: #DDDD99; }\n",
       ".datatable .object  { background: #565656; }\n",
       ".datatable .int     { background: #5D9E5D; }\n",
       ".datatable .float   { background: #4040CC; }\n",
       ".datatable .str     { background: #CC4040; }\n",
       ".datatable .time    { background: #40CC40; }\n",
       ".datatable .row_index {  background: var(--jp-border-color3);  border-right: 1px solid var(--jp-border-color0);  color: var(--jp-ui-font-color3);  font-size: 9px;}\n",
       ".datatable .frame tbody td { text-align: left; }\n",
       ".datatable .frame tr.coltypes .row_index {  background: var(--jp-border-color0);}\n",
       ".datatable th:nth-child(2) { padding-left: 12px; }\n",
       ".datatable .hellipsis {  color: var(--jp-cell-editor-border-color);}\n",
       ".datatable .vellipsis {  background: var(--jp-layout-color0);  color: var(--jp-cell-editor-border-color);}\n",
       ".datatable .na {  color: var(--jp-cell-editor-border-color);  font-size: 80%;}\n",
       ".datatable .sp {  opacity: 0.25;}\n",
       ".datatable .footer { font-size: 9px; }\n",
       ".datatable .frame_dimensions {  background: var(--jp-border-color3);  border-top: 1px solid var(--jp-border-color0);  color: var(--jp-ui-font-color3);  display: inline-block;  opacity: 0.6;  padding: 1px 10px 1px 5px;}\n",
       "</style>\n"
      ],
      "text/plain": [
       "<IPython.core.display.HTML object>"
      ]
     },
     "metadata": {},
     "output_type": "display_data"
    }
   ],
   "source": [
    "import pandas as pd\n",
    "import numpy as np\n",
    "import matplotlib.pyplot as plt\n",
    "from tqdm.notebook import tqdm\n",
    "\n",
    "# general ML tooling\n",
    "from sklearn.model_selection import train_test_split, StratifiedKFold, KFold\n",
    "from sklearn.metrics import log_loss, roc_auc_score\n",
    "import wandb\n",
    "from wandb.xgboost import wandb_callback\n",
    "from wandb.lightgbm import wandb_callback\n",
    "from sklearn.impute import SimpleImputer #, KNNImputer\n",
    "# import timm\n",
    "\n",
    "import seaborn as sns\n",
    "\n",
    "from catboost import CatBoostClassifier\n",
    "from xgboost import XGBClassifier\n",
    "from lightgbm import LGBMClassifier\n",
    "# from sklearn.ensemble import StackingClassifier, RandomForestClassifier\n",
    "from sklearn.preprocessing import StandardScaler #, MinMaxScaler, MaxAbsScaler, RobustScaler, PolynomialFeatures\n",
    "from sklearn.linear_model import LogisticRegression\n",
    "# from sklearn.feature_selection import SelectKBest, f_regression\n",
    "from joblib import dump, load\n",
    "# feature engineering tools\n",
    "# from sklearn.feature_selection import mutual_info_regression\n",
    "# import featuretools as ft\n"
   ]
  },
  {
   "cell_type": "code",
   "execution_count": 6,
   "id": "80fee2dc-9908-499b-a6ba-c7cfeaa286fd",
   "metadata": {},
   "outputs": [],
   "source": [
    "from pytorch_widedeep import Trainer\n",
    "from pytorch_widedeep.preprocessing import WidePreprocessor, TabPreprocessor\n",
    "from pytorch_widedeep.models import Wide, TabMlp, WideDeep, SAINT, TabTransformer, TabNet, TabFastFormer, TabResnet\n",
    "from pytorch_widedeep.metrics import Accuracy\n",
    "from torchmetrics import AUROC\n",
    "import torch\n",
    "from torch.optim import Adam, AdamW, Adagrad, SGD, RMSprop, LBFGS\n",
    "from torch.optim.lr_scheduler import ReduceLROnPlateau, CosineAnnealingWarmRestarts, CyclicLR, OneCycleLR, StepLR, CosineAnnealingLR\n",
    "from pytorch_widedeep.callbacks import EarlyStopping, LRHistory, ModelCheckpoint"
   ]
  },
  {
   "cell_type": "code",
   "execution_count": null,
   "id": "fcc50eeb-5833-4421-af80-57f081b849b1",
   "metadata": {},
   "outputs": [],
   "source": []
  },
  {
   "cell_type": "markdown",
   "id": "5f6166c2-ca44-4b7c-a4dc-3db47c2624fe",
   "metadata": {},
   "source": [
    "Now, datapath setup"
   ]
  },
  {
   "cell_type": "code",
   "execution_count": 7,
   "id": "3c18a787-2193-43cb-87ee-51c6ae7b6351",
   "metadata": {},
   "outputs": [
    {
     "name": "stderr",
     "output_type": "stream",
     "text": [
      "/home/sf/anaconda3/envs/tabular-x/lib/python3.8/site-packages/ipykernel/ipkernel.py:287: DeprecationWarning: `should_run_async` will not call `transform_cell` automatically in the future. Please pass the result to `transformed_cell` argument and any exception that happen during thetransform in `preprocessing_exc_tuple` in IPython 7.17 and above.\n",
      "  and should_run_async(code)\n"
     ]
    }
   ],
   "source": [
    "# # This is the code for reading the train.csv and converting it to a .feather file\n",
    "# df = pd.read_csv(datapath/'train.csv', index_col='id', low_memory=False)\n",
    "# df.index.name = None\n",
    "# df.to_feather(path='./dataset_df.feather')"
   ]
  },
  {
   "cell_type": "code",
   "execution_count": 8,
   "id": "0a41cd7e-accb-41c4-ad8b-0eaa3e2b0ad5",
   "metadata": {},
   "outputs": [],
   "source": [
    "if COLAB:\n",
    "    # mount Google Drive\n",
    "    from google.colab import drive\n",
    "    drive.mount('/content/drive')\n",
    "    \n",
    "    # handling datapath\n",
    "    datapath = Path('/content/drive/MyDrive/kaggle/tabular_playgrounds/oct2021/')\n",
    "    \n",
    "else:\n",
    "    # if on local machine\n",
    "#     datapath = Path('/media/sf/easystore/kaggle_data/tabular_playgrounds/sep2021/')  \n",
    "    root = Path('/home/sf/code/kaggle/tabular_playgrounds/oct2021/')\n",
    "    datapath = root/'datasets'\n",
    "    edapath = root/'EDA'\n",
    "    modelpath = Path('/media/sf/easystore/kaggle_data/tabular_playgrounds/oct2021/models/')\n",
    "    predpath = root/'preds'\n",
    "    subpath = root/'submissions'\n",
    "    \n",
    "    for pth in [root, datapath, edapath, modelpath, predpath, subpath]:\n",
    "        pth.mkdir(exist_ok=True)\n",
    "    \n"
   ]
  },
  {
   "cell_type": "code",
   "execution_count": 9,
   "id": "fad41f0c-4a5c-470a-bda3-98152c30bc6b",
   "metadata": {},
   "outputs": [],
   "source": [
    "SEED = 42\n",
    "\n",
    "# Function to seed everything\n",
    "def seed_everything(seed):\n",
    "    random.seed(seed)\n",
    "    np.random.seed(seed)\n",
    "    os.environ['PYTHONHASHSEED'] = str(seed)\n",
    "\n",
    "seed_everything(seed=SEED)"
   ]
  },
  {
   "cell_type": "markdown",
   "id": "2f6e47b3-43bd-4d35-b463-9d76100c6ed5",
   "metadata": {},
   "source": [
    "## Ex-Model Config"
   ]
  },
  {
   "cell_type": "code",
   "execution_count": 10,
   "id": "fb288275-a858-4806-9dc0-0b316c334536",
   "metadata": {},
   "outputs": [],
   "source": [
    "# meta-config for preprocessing and cross-validation, but NOT for model parameters\n",
    "exmodel_config = {\n",
    "#     \"feature_selector\": SelectKBest,\n",
    "#     \"k_best\": 80,\n",
    "#     \"feature_selection_scoring\": f_regression,\n",
    "#     'random_state': SEED,\n",
    "#     'feature_generation': ['NaN_counts', 'SummaryStats', 'NaN_OneHots'],\n",
    "#     'subsample': 1,\n",
    "    'cross_val_strategy': KFold, # None for holdout, or the relevant sklearn class\n",
    "    'kfolds': 5, # if 1, that means just doing holdout\n",
    "    'test_size': 0.2,\n",
    "#     'features_created': False,\n",
    "#     'feature_creator': None,\n",
    "}"
   ]
  },
  {
   "cell_type": "markdown",
   "id": "a52d9012-34f1-435a-ba16-4416e0d4a286",
   "metadata": {},
   "source": [
    "## Data Setup"
   ]
  },
  {
   "cell_type": "markdown",
   "id": "c912a62f-970a-48b4-b428-d886f2612fc2",
   "metadata": {},
   "source": [
    "**TODO** Write some conditional logic here to automate it -- possibly as part of a sklearn.*pipeline"
   ]
  },
  {
   "cell_type": "code",
   "execution_count": 11,
   "id": "61b8603b-68c3-40da-8406-53e143758905",
   "metadata": {},
   "outputs": [],
   "source": [
    "# if exmodel_config['scaler']:\n",
    "#     scaler = exmodel_config['scaler']()\n",
    "#     scaler.fit_transform()"
   ]
  },
  {
   "cell_type": "code",
   "execution_count": 12,
   "id": "a431150a-fcb2-4bb3-a0f9-d35df9406c75",
   "metadata": {},
   "outputs": [],
   "source": [
    "train_source = datapath/'train.feather'\n",
    "df = pd.read_feather(path=train_source)\n",
    "# df.index.name = 'id'\n",
    "y = np.array(df.target)\n",
    "features = [x for x in df.columns if x != 'target']\n",
    "X = df[features] # passing X as a pd.DataFrame to the trainer below, rather than as an np.ndarray\n",
    "# X_train = df[features]\n",
    "# X.index.name = 'id'\n",
    "# y.index.name = 'id'"
   ]
  },
  {
   "cell_type": "code",
   "execution_count": 13,
   "id": "c36dd6ed-c07d-43c8-8afa-6ea682219471",
   "metadata": {},
   "outputs": [
    {
     "name": "stderr",
     "output_type": "stream",
     "text": [
      "/home/sf/anaconda3/envs/tabular-x/lib/python3.8/site-packages/ipykernel/ipkernel.py:287: DeprecationWarning: `should_run_async` will not call `transform_cell` automatically in the future. Please pass the result to `transformed_cell` argument and any exception that happen during thetransform in `preprocessing_exc_tuple` in IPython 7.17 and above.\n",
      "  and should_run_async(code)\n"
     ]
    },
    {
     "data": {
      "text/plain": [
       "(1000000, 285)"
      ]
     },
     "execution_count": 13,
     "metadata": {},
     "output_type": "execute_result"
    }
   ],
   "source": [
    "X.shape"
   ]
  },
  {
   "cell_type": "code",
   "execution_count": 14,
   "id": "bde1f7e7-d604-4dbc-a32a-df7335410023",
   "metadata": {},
   "outputs": [],
   "source": [
    "# X_train.columns"
   ]
  },
  {
   "cell_type": "code",
   "execution_count": 15,
   "id": "6c692aa8-5a70-4693-b8a8-34c118bd4e97",
   "metadata": {},
   "outputs": [],
   "source": [
    "# wide_cols = [f for f in X_train.columns if X_train[f].nunique() == 2]"
   ]
  },
  {
   "cell_type": "code",
   "execution_count": 16,
   "id": "03d14116-5f65-42b2-ba19-069053487f66",
   "metadata": {
    "tags": []
   },
   "outputs": [],
   "source": [
    "# wide_cols"
   ]
  },
  {
   "cell_type": "code",
   "execution_count": 17,
   "id": "e0a8ec05-b6d2-465b-97be-f5fcb5472570",
   "metadata": {},
   "outputs": [],
   "source": [
    "# X_train.shape"
   ]
  },
  {
   "cell_type": "code",
   "execution_count": 18,
   "id": "8f4ff0c7-cef9-4fc6-9b22-cc2eff8e8df0",
   "metadata": {},
   "outputs": [],
   "source": [
    "# X = np.array(X_train)\n",
    "# y = np.array(y_train)\n",
    "\n",
    "# del df, X_train, y_train\n",
    "\n",
    "\n",
    "# exmodel_config['feature_count'] = len(X.columns)\n",
    "exmodel_config['feature_count'] = X.shape[1]\n",
    "exmodel_config['instance_count'] = X.shape[0]\n",
    "\n",
    "# exmodel_config['feature_generator'] = None\n",
    "# exmodel_config['feature_generator'] = \"Summary statistics\"\n",
    "\n",
    "exmodel_config['train_source'] = str(train_source)"
   ]
  },
  {
   "cell_type": "code",
   "execution_count": 19,
   "id": "73a16bc8-0075-4eeb-9e8f-3744db0d04fb",
   "metadata": {},
   "outputs": [],
   "source": [
    "# X_df = pd.DataFrame(X)"
   ]
  },
  {
   "cell_type": "code",
   "execution_count": 20,
   "id": "c946a618-8d4b-43b3-bcb9-fb841624bf20",
   "metadata": {},
   "outputs": [],
   "source": [
    "# print(X_df.iloc[:,0])"
   ]
  },
  {
   "cell_type": "code",
   "execution_count": 21,
   "id": "bde4c44c-eb9e-48a9-929c-f5b9d70eb070",
   "metadata": {},
   "outputs": [],
   "source": [
    "# print(X_df.iloc[:, list(X_df.columns)[0]])"
   ]
  },
  {
   "cell_type": "code",
   "execution_count": 22,
   "id": "9897e600-60ec-4896-97d3-e029f0eee460",
   "metadata": {},
   "outputs": [],
   "source": [
    "test_source = datapath/'test.feather'\n",
    "exmodel_config['test_source'] = str(test_source)\n",
    "X_test = pd.read_feather(path=test_source)\n",
    "X_test = X_test.iloc[:, 1:]"
   ]
  },
  {
   "cell_type": "code",
   "execution_count": 23,
   "id": "785d11ff-6ff7-48c4-95ea-a5616eff6aeb",
   "metadata": {},
   "outputs": [],
   "source": [
    "# X_test = np.array(X_test)"
   ]
  },
  {
   "cell_type": "markdown",
   "id": "a4a5f215-b585-4f7b-afac-36e49ee28c8f",
   "metadata": {},
   "source": [
    "## Weights and Biases Run Config"
   ]
  },
  {
   "cell_type": "markdown",
   "id": "89a928e1-0a18-4c91-b9bb-a32846e39e5b",
   "metadata": {},
   "source": [
    "Below is the configuration for a Weights and Biases (`wandb`) run."
   ]
  },
  {
   "cell_type": "code",
   "execution_count": 24,
   "id": "e5402d98-7bcd-4e46-b85d-6b0129ca6e96",
   "metadata": {},
   "outputs": [],
   "source": [
    "# wandb config:\n",
    "wandb_config = {\n",
    "    'name': f\"{os.environ['WANDB_NOTEBOOK_NAME'][:-6]}_{datetime.now().strftime('%H%M%S')}\", # just removes the .ipynb extension, leaving the notebook filename's stem\n",
    "    'tags': ['baseline', 'deep_learning'],\n",
    "    'notes': \"Trying wide-deep\",\n",
    "}"
   ]
  },
  {
   "cell_type": "markdown",
   "id": "638002ad-9266-44d6-8302-ebce2a6f7b06",
   "metadata": {},
   "source": [
    "# Training"
   ]
  },
  {
   "cell_type": "markdown",
   "id": "862e9478-2380-4c4d-8641-5daa72049b6c",
   "metadata": {},
   "source": [
    "# Hyperparameters"
   ]
  },
  {
   "cell_type": "code",
   "execution_count": 25,
   "id": "bc156663-c689-4dfe-a80b-5efaaae1afab",
   "metadata": {},
   "outputs": [],
   "source": [
    "# optuna 20211004, thru 106 trials on unaltered original dataset\n",
    "best_xgboost_params = {\n",
    "    'n_estimators': 3878,\n",
    "    'max_depth': 4,\n",
    "    'learning_rate': 0.024785857161974977,\n",
    "    'reg_alpha': 26.867682044658245,\n",
    "    'reg_lambda': 10.839759074147148,\n",
    "    'subsample': 0.8208581489835881,\n",
    "    'min_child_weight': 8.829122644339664,\n",
    "    'colsample_bytree': 0.906420714280384,\n",
    "    'gamma': 1.472322916021486\n",
    "}\n",
    "\n",
    "# best as of 20211005, thru 65 trials on unaltered original dataset\n",
    "best_lightgbm_params = {\n",
    "    'n_estimators': 6631,\n",
    "    'max_depth': 10,\n",
    "    'learning_rate': 0.004677044539666842,\n",
    "    'reg_alpha': 19.334971246299116,\n",
    "    'reg_lambda': 0.024384251140153856,\n",
    "    'subsample': 0.5082183652689569,\n",
    "    'boosting_type': 'gbdt',\n",
    "    'min_child_samples': 9,\n",
    "    'num_leaves': 233,\n",
    "    'colsample_bytree': 0.5008014086989773\n",
    "}\n",
    "\n",
    "# catboost 20211001 on colab with 100 trials on GPU, unaltered original dataset\n",
    "best_catboost_params = {\n",
    "    'iterations': 29338,\n",
    "    'max_depth': 9,\n",
    "    'learning_rate': 0.004769831650275205,\n",
    "    'random_strength': 7,\n",
    "    'od_wait': 1968,\n",
    "    'reg_lambda': 28.435563240493586,\n",
    "    'border_count': 162,\n",
    "    'min_child_samples': 14,\n",
    "    'leaf_estimation_iterations': 1\n",
    "}"
   ]
  },
  {
   "cell_type": "code",
   "execution_count": 26,
   "id": "dfa66428-3fb9-410f-9ea5-50785a4bd177",
   "metadata": {},
   "outputs": [],
   "source": [
    "def cross_validate_model(library:str, params:dict={}, X=X, y=y, X_test=X_test, start_fold=0, \n",
    "                         exmodel_config=exmodel_config, wandb_config=wandb_config, \n",
    "                         random_state=42, shuffle_kfolds=True, wandb_tracked=True):\n",
    "    \"\"\"\n",
    "    Function to handle model training process in the context of cross-validation -- via hold-out or via k-fold.\n",
    "    If exmodel_config['cross_val_strategy'] == None, then any kfolds= input is ignored; otherwise, the number specified is used.\n",
    "    \n",
    "    :param kfolds: int specifying number of k-folds to use in cross-validation\n",
    "    :param exmodel_config: dict containing general config including for cross-validation -- `kfold=1` implies hold-out\n",
    "    \"\"\"\n",
    "#     if exmodel_config['kfolds'] == 1:\n",
    "#         print(\"Proceeding with holdout\")\n",
    "#     X_train, X_valid, y_train, y_valid = train_test_split(X, y, \n",
    "#                                                           test_size=0.2, \n",
    "#                                                           random_state=SEED)                 \n",
    "    \n",
    "    # prepare for k-fold cross-validation; random-state here is notebook-wide, not per-model\n",
    "    # shuffle on the initial sets, but not subsequently -- performing the same operation twice means a very different dataset\n",
    "    if shuffle_kfolds:\n",
    "        kfold = exmodel_config['cross_val_strategy'](n_splits=exmodel_config['kfolds'], shuffle=True, random_state=SEED)\n",
    "    else:\n",
    "        kfold = exmodel_config['cross_val_strategy'](n_splits=exmodel_config['kfolds'], shuffle=False)\n",
    "    \n",
    "    if wandb_tracked:\n",
    "        exmodel_config['library'] = library\n",
    "        exmodel_config[f'{library}_params'] = str(params)\n",
    "        wandb.init(\n",
    "            project=\"202110_Kaggle_tabular_playground\",\n",
    "            save_code=True,\n",
    "            tags=wandb_config['tags'],\n",
    "            name=wandb_config['name'],\n",
    "            notes=wandb_config['notes'],\n",
    "            config=exmodel_config\n",
    "    )   \n",
    "    \n",
    "    # setup for serialization\n",
    "    runpath = Path(modelpath/f\"{wandb_config['name']}_{library}_{exmodel_config['kfolds']}folds/\")\n",
    "    (runpath).mkdir(exist_ok=True)\n",
    "    \n",
    "    \n",
    "    # initialize lists for out-of-fold preds and ground truth\n",
    "    oof_preds, oof_y = [], []\n",
    "    \n",
    "    # initialize a numpy.ndarray containing the fold-model's preds for test set\n",
    "    test_preds = np.zeros((X_test.shape[0]))\n",
    "    \n",
    "    # if using deep learning with pytorch-widedeep, do data preprocessing now, before splits\n",
    "    if 'widedeep' in library:\n",
    "        # preprocessing first\n",
    "        wide_cols = [f for f in X.columns if X[f].nunique() == 2] #list(X_train.columns) if X_train.iloc[:,f].nunique() == 2] # binary indicator vars are wide\n",
    "        cont_cols = [f for f in X.columns if X[f].nunique() > 2] #list(X_train.columns) if X_train.iloc[:,f].nunique() > 2] # others are cont\n",
    "\n",
    "        # wide part\n",
    "        wide_preprocessor = WidePreprocessor(wide_cols=wide_cols)\n",
    "        X_wide = wide_preprocessor.fit_transform(X)\n",
    "#         print(f\"X_wide.shape = {X_wide.shape}\")\n",
    "#         X_wide = np.array(X_train[wide_cols])\n",
    "        \n",
    "\n",
    "        # deep part\n",
    "        tab_preprocessor = TabPreprocessor(continuous_cols=cont_cols)#, embed_cols=embed_cols, )\n",
    "        X_tab = tab_preprocessor.fit_transform(X)   \n",
    "#         print(f\"X_tab.shape = {X_tab.shape}\")\n",
    "        \n",
    "        # transforming the test set\n",
    "        X_test_wide = wide_preprocessor.transform(X_test)\n",
    "        X_test_tab = tab_preprocessor.transform(X_test)\n",
    "        \n",
    "        n_epochs = 500\n",
    "        \n",
    "        # at this point, X_wide, X_tab, X_test_wide, and X_test_tab will all be np.ndarrays\n",
    "    \n",
    "    else: # if using a GBM, simply convert the pd.DataFrames to np.ndarrays\n",
    "        X = np.array(X)\n",
    "        X_test = np.array(X_test)\n",
    "    \n",
    "    for fold, (train_ids, valid_ids) in enumerate(kfold.split(X,y)):\n",
    "#         print(f\"type(train_ids) = {type(train_ids)} and train_ids.shape = {train_ids.shape}\")\n",
    "#         print(f\"type(valid_ids) = {type(valid_ids)} and train_ids.shape = {valid_ids.shape}\")\n",
    "        if fold < start_fold: # skip folds that are already trained\n",
    "            continue\n",
    "        else:\n",
    "            print(f\"FOLD {fold}\")\n",
    "            print(\"---------------------------------------------------\")\n",
    "            y_train, y_valid = y[train_ids], y[valid_ids] # y will be an np.ndarray already; handling will be same regardless of model\n",
    "            if 'widedeep' in library: # handle wide and deep tabs in parallel\n",
    "                X_train_wide, X_valid_wide = X_wide[train_ids, :], X_wide[valid_ids, :]\n",
    "                X_train_tab, X_valid_tab = X_tab[train_ids, :], X_tab[valid_ids, :]\n",
    "#                 print(f\"X_train_wide.shape = {X_train_wide.shape}\")\n",
    "#                 print(f\"X_train_tab.shape = {X_train_tab.shape}\")\n",
    "#                 print(f\"X_test_wide.shape = {X_test_wide.shape}\")\n",
    "#                 print(f\"X_test_tab.shape = {X_test_tab.shape}\")\n",
    "            else: # handle datasets for GBMs\n",
    "                X_train, X_valid = X[train_ids], X[valid_ids]\n",
    "#                 y_train, y_valid = y[train_ids], y[valid_ids]\n",
    "            \n",
    "        # define models\n",
    "        if library == 'xgboost':\n",
    "            model = XGBClassifier(\n",
    "                booster='gbtree',\n",
    "                tree_method='gpu_hist',\n",
    "                random_state=random_state,\n",
    "                n_jobs=-1, \n",
    "                verbosity=1, \n",
    "                objective='binary:logistic',\n",
    "                **params)\n",
    "            if wandb_tracked:\n",
    "                model.fit(X_train, y_train, callbacks=[wandb.xgboost.wandb_callback()])\n",
    "            else:\n",
    "                model.fit(X_train, y_train)\n",
    "            y_valid_preds = model.predict_proba(X_valid)[:,1]\n",
    "            \n",
    "            # add the fold-model's OOF preds and ground truths to the out-of-loop lists\n",
    "            oof_preds.extend(y_valid_preds)\n",
    "            oof_y.extend(y_valid)\n",
    "            \n",
    "            # add the fold's predictions to the model's test-set predictions (will divide later)\n",
    "            test_preds += model.predict_proba(X_test)[:,1]\n",
    "\n",
    "\n",
    "        elif library == 'lightgbm':\n",
    "            model = LGBMClassifier(\n",
    "                objective='binary',\n",
    "                random_state=random_state,\n",
    "#                 device_type='cpu',\n",
    "#                 n_jobs=-1,\n",
    "#                 eval_metric='auc',\n",
    "                device_type='gpu',\n",
    "                max_bin=63, # 15 might be even better for GPU perf, but depends on dataset -- see https://lightgbm.readthedocs.io/en/latest/GPU-Performance.html\n",
    "                gpu_use_dp=True, # forces use of single precision rather than double for better perf, esp on consumer Nvidia chips\n",
    "                **params)\n",
    "            if wandb_tracked:\n",
    "                model.fit(X_train, y_train, callbacks=[wandb.lightgbm.wandb_callback()],)\n",
    "            else:\n",
    "                model.fit(X_train, y_train)\n",
    "            y_valid_preds = model.predict_proba(X_valid)[:,1]\n",
    "            \n",
    "            # add the fold-model's OOF preds and ground truths to the out-of-loop lists\n",
    "            oof_preds.extend(y_valid_preds)\n",
    "            oof_y.extend(y_valid)\n",
    "            \n",
    "            # add the fold's predictions to the model's test-set predictions (will divide later)\n",
    "            test_preds += model.predict_proba(X_test)[:,1]\n",
    "\n",
    "            \n",
    "        elif library == 'catboost':\n",
    "            model = CatBoostClassifier(\n",
    "                task_type='GPU',\n",
    "                silent=True,\n",
    "                random_state=random_state,\n",
    "                **params) \n",
    "        \n",
    "            model.fit(X_train, y_train)\n",
    "            y_valid_preds = model.predict_proba(X_valid)[:,1]\n",
    "            \n",
    "            # add the fold-model's OOF preds and ground truths to the out-of-loop lists\n",
    "            oof_preds.extend(y_valid_preds)\n",
    "            oof_y.extend(y_valid)\n",
    "            \n",
    "            # add the fold's predictions to the model's test-set predictions (will divide later)\n",
    "            test_preds += model.predict_proba(X_test)[:,1]\n",
    "            \n",
    "        elif 'widedeep' in library: # only coding for TabMlp right now\n",
    "#             X_train = pd.DataFrame(X_train, columns=[f\"f{x}\" for x in range(X_train.shape[1])])\n",
    "#             X_valid = pd.DataFrame(X_valid, columns=[f\"f{x}\" for x in range(X_valid.shape[1])])\n",
    "#             X_test = pd.DataFrame(X_test, columns=[f\"f{x}\" for x in range(X_test.shape[1])])\n",
    "            \n",
    "            wide = Wide(wide_dim=np.unique(X_wide).shape[0], pred_dim=1)\n",
    "        \n",
    "        \n",
    "        \n",
    "            deeptabular = TabMlp(\n",
    "                mlp_hidden_dims=[64,32],\n",
    "                column_idx=tab_preprocessor.column_idx,\n",
    "            #     embed_input=tab_preprocessor.embeddings_input,\n",
    "                continuous_cols=cont_cols,\n",
    "            )\n",
    "            \n",
    "            # model instantiation and training\n",
    "            model = WideDeep(wide=wide, deeptabular=deeptabular)\n",
    "            \n",
    "            # pytorch hyperparams\n",
    "            wide_opt = AdamW(model.wide.parameters(), lr=0.1)\n",
    "            deep_opt = AdamW(model.deeptabular.parameters(), lr=0.1)\n",
    "            \n",
    "#             wide_sch = ReduceLROnPlateau(wide_opt)\n",
    "#             deep_sch = ReduceLROnPlateau(deep_opt)\n",
    "\n",
    "            wide_sch = OneCycleLR(optimizer=wide_opt, max_lr=0.01, steps_per_epoch=X_train_wide.shape[0], epochs=n_epochs)\n",
    "            deep_sch = OneCycleLR(optimizer=deep_opt, max_lr=0.01, steps_per_epoch=X_train_tab.shape[0], epochs=n_epochs)\n",
    "            \n",
    "            optimizers = {'wide': wide_opt, 'deeptabular': deep_opt }\n",
    "            lr_schedulers = {'wide': wide_sch, 'deeptabular': deep_sch }\n",
    "            \n",
    "            \n",
    "            callbacks = [\n",
    "                LRHistory(n_epochs=n_epochs), \n",
    "#                 EarlyStopping, \n",
    "#                 ModelCheckpoint(\n",
    "#                     filepath='',\n",
    "#                     save_best_only=True\n",
    "#                 )\n",
    "            ]\n",
    "            \n",
    "            trainer = Trainer(model=model, \n",
    "                              objective='binary', \n",
    "                              metrics=[Accuracy], # with AUROC got TypeError: '>' not supported between instances of 'NoneType' and 'int' \n",
    "                              seed=random_state, \n",
    "#                               lr_schedulers=lr_schedulers,\n",
    "                              optimizers=optimizers,\n",
    "                              callbacks=callbacks\n",
    "                             )\n",
    "            \n",
    "#             print(f\"type(X_train_wide) is {type(X_train_wide)} and type(X_train_tab) is {type(X_train_tab)}\")\n",
    "            trainer.fit( # this is where problem is beginning\n",
    "                X_wide=X_train_wide,\n",
    "                X_tab=X_train_tab,\n",
    "                target=y_train,\n",
    "                n_epochs=n_epochs,\n",
    "                batch_size=1024, # default value is 32\n",
    "#                 val_split=0.2, # no need for this\n",
    "            )\n",
    "            \n",
    "            # validation set preprocessing\n",
    "#             X_valid_wide = np.array(X_valid[wide_cols]) # wide_preprocessor.transform(X_valid)\n",
    "#             X_tab_valid = tab_preprocessor.transform(X_valid)\n",
    "#             print(f\"X_valid_wide: {X_valid_wide[:10]}\")\n",
    "#             print(f\"X_valid_tab: {X_valid_tab[:10]}\")\n",
    "            y_valid_preds = trainer.predict_proba(X_wide=X_valid_wide, X_tab=X_valid_tab, batch_size=1024)[:,1]\n",
    "            \n",
    "            # add the fold-model's OOF preds and ground truths to the out-of-loop lists\n",
    "            oof_preds.extend(y_valid_preds)\n",
    "            oof_y.extend(y_valid)\n",
    "            \n",
    "            # test set preprocessing\n",
    "#             X_test_wide = np.array(X_test[wide_cols]) # wide_preprocessor.transform(X_test)\n",
    "#             X_tab_test = tab_preprocessor.transform(X_test)\n",
    "#             print(f\"X_test_wide: {X_test_wide[:10]}\")\n",
    "#             print(f\"X_test_tab: {X_test_tab[:10]}\")\n",
    "            \n",
    "            # test set inference\n",
    "            fold_test_preds = trainer.predict_proba(X_wide=X_test_wide, X_tab=X_test_tab, batch_size=1024)[:,1]\n",
    "            test_preds += fold_test_preds\n",
    "#             print(f\"fold_test_preds: {fold_test_preds[:10]}\")\n",
    "#             print(f\"test_preds_so_far: {test_preds[:10]}\")\n",
    "            \n",
    "        # take the training set predictions, if desired\n",
    "#         y_train_pred = model.predict_proba(X_train)[:,1]\n",
    "#         train_loss = log_loss(y_train, y_train_pred)\n",
    "#         train_auc = roc_auc_score(y_train, y_train_pred)\n",
    "#         wandb.log({'train_loss': train_loss, 'train_auc': train_auc})\n",
    "\n",
    "        # log the parameters, if desired\n",
    "#         if exmodel_config['library'] == 'catboost':\n",
    "#             print(model.get_all_params())\n",
    "#             wandb.log(model.get_all_params())\n",
    "#         else:\n",
    "#             wandb.log(model.get_params()) # logging model parameters, trying bare-invocation rather than params: model.get_params()\n",
    "\n",
    "        \n",
    "        \n",
    "       \n",
    "        \n",
    "        \n",
    "\n",
    "#         valid_loss = log_loss(y_valid, y_pred)\n",
    "        # give the valid AUC score, for edification\n",
    "        fold_valid_auc = roc_auc_score(y_valid, y_valid_preds)\n",
    "        print(f\"Valid AUC for fold {fold} is {fold_valid_auc}\")   \n",
    "        dump(model, Path(runpath/f\"{library}_fold{fold}_rs{random_state}_model.joblib\"))\n",
    "\n",
    "    model_valid_auc = roc_auc_score(oof_y, oof_preds)\n",
    "    print(f\"Valid AUC score for {library} model is {model_valid_auc}\")\n",
    "    \n",
    "    # finalize test preds\n",
    "    test_preds /= exmodel_config['kfolds']\n",
    "    \n",
    "    # save OOF preds and test-set preds\n",
    "    if 'widedeep' in library:\n",
    "        dump(oof_preds, Path(predpath/f\"{wandb_config['name']}_{library}_{exmodel_config['kfolds']}folds_{n_epochs}epochs_model-rs{random_state}_oof_preds.joblib\"))\n",
    "        dump(test_preds, Path(predpath/f\"{wandb_config['name']}_{library}_{exmodel_config['kfolds']}folds_{n_epochs}epochs_model-rs{random_state}_test_preds.joblib\"))\n",
    "        dump(oof_y, predpath/f\"{exmodel_config['kfolds']}folds_{n_epochs}epochs_seed-rs{SEED}_oof_y.joblib\")\n",
    "    else:\n",
    "        dump(oof_preds, Path(predpath/f\"{wandb_config['name']}_{library}_{exmodel_config['kfolds']}folds_model-rs{random_state}_oof_preds.joblib\"))\n",
    "        dump(test_preds, Path(predpath/f\"{wandb_config['name']}_{library}_{exmodel_config['kfolds']}folds_model-rs{random_state}_test_preds.joblib\"))\n",
    "        dump(oof_y, predpath/f\"{exmodel_config['kfolds']}folds_seed-rs{SEED}_oof_y.joblib\")\n",
    "    \n",
    "    \n",
    "    if wandb_tracked:\n",
    "#         if 'widedeep' in library:\n",
    "        wandb.log({'model_valid_auc': model_valid_auc,\n",
    "                   'oof_preds': oof_preds,\n",
    "                   'test_preds': test_preds,\n",
    "                   'model_params': str(model.parameters()) if 'widedeep' in library else str(model.get_params()), \n",
    "        #                    'model_params': str(model.get_params()),\n",
    "        })\n",
    "#         wandb.log({'model_valid_auc': model_valid_auc,\n",
    "#                    'oof_preds': oof_preds,\n",
    "#                    'test_preds': test_preds,\n",
    "# #                    'model_params': str(model.get_params()),\n",
    "#                   })\n",
    "        wandb.finish()\n",
    "    return oof_preds, test_preds\n",
    "        "
   ]
  },
  {
   "cell_type": "code",
   "execution_count": null,
   "id": "096d8438-1639-47ab-9264-aefb21e51872",
   "metadata": {
    "tags": []
   },
   "outputs": [],
   "source": [
    "# oof_lv1_lgb1983, test_lv1_lgb1983 = cross_validate_model(library='lightgbm', wandb_tracked=True, random_state=1983)"
   ]
  },
  {
   "cell_type": "code",
   "execution_count": null,
   "id": "56b93f37-272a-4e06-b1e2-12b45d3148a6",
   "metadata": {
    "tags": []
   },
   "outputs": [],
   "source": [
    "# oof_lv1_cat1983, test_lv1_cat1983 = cross_validate_model(library='catboost', wandb_tracked=True, random_state=1983)"
   ]
  },
  {
   "cell_type": "code",
   "execution_count": null,
   "id": "cc332027-f1ab-45c0-8793-45b9bfd76cf5",
   "metadata": {
    "tags": []
   },
   "outputs": [],
   "source": [
    "# oof_lv1_xgb1983, test_lv1_xgb1983 = cross_validate_model(library='xgboost', wandb_tracked=True, random_state=1983)"
   ]
  },
  {
   "cell_type": "code",
   "execution_count": null,
   "id": "346b3ddf-ffd7-4cd1-a4dd-807f7159718f",
   "metadata": {
    "collapsed": true,
    "jupyter": {
     "outputs_hidden": true
    },
    "tags": []
   },
   "outputs": [],
   "source": [
    "# oof_lv1_tabmlp1983, test_lv1_tabmlp1983 = cross_validate_model(library='widedeep-TabMLP', wandb_tracked=False, random_state=1983)"
   ]
  },
  {
   "cell_type": "code",
   "execution_count": null,
   "id": "092c29d7-b45a-46b8-8bf4-48a68dae9989",
   "metadata": {},
   "outputs": [],
   "source": [
    "# widedeep_oof_preds = load(predpath/f\"{wandb_config['name']}_widedeep-TabMLP_{exmodel_config['kfolds']}folds_rs{42}_oof_preds.joblib\")"
   ]
  },
  {
   "cell_type": "code",
   "execution_count": null,
   "id": "d36ac953-029a-4b3b-a082-ed52b365e4cf",
   "metadata": {},
   "outputs": [],
   "source": [
    "# widedeep_test_preds = load(predpath/f\"{wandb_config['name']}_widedeep-TabMLP_{exmodel_config['kfolds']}folds_rs{42}_test_preds.joblib\")"
   ]
  },
  {
   "cell_type": "code",
   "execution_count": null,
   "id": "dce05953-e4c4-452c-a626-440ac6813c16",
   "metadata": {},
   "outputs": [
    {
     "name": "stderr",
     "output_type": "stream",
     "text": [
      "\u001b[34m\u001b[1mwandb\u001b[0m: \u001b[33mWARNING\u001b[0m WANDB_NOTEBOOK_NAME should be a path to a notebook file, couldn't find stacking_manual_20211012.ipynb\n",
      "\u001b[34m\u001b[1mwandb\u001b[0m: Currently logged in as: \u001b[33mhushifang\u001b[0m (use `wandb login --relogin` to force relogin)\n",
      "\u001b[34m\u001b[1mwandb\u001b[0m: wandb version 0.12.4 is available!  To upgrade, please run:\n",
      "\u001b[34m\u001b[1mwandb\u001b[0m:  $ pip install wandb --upgrade\n"
     ]
    },
    {
     "data": {
      "text/html": [
       "\n",
       "                    Syncing run <strong><a href=\"https://wandb.ai/hushifang/202110_Kaggle_tabular_playground/runs/2iwnx1b4\" target=\"_blank\">stacking_manual_20211012_194716</a></strong> to <a href=\"https://wandb.ai/hushifang/202110_Kaggle_tabular_playground\" target=\"_blank\">Weights & Biases</a> (<a href=\"https://docs.wandb.com/integrations/jupyter.html\" target=\"_blank\">docs</a>).<br/>\n",
       "\n",
       "                "
      ],
      "text/plain": [
       "<IPython.core.display.HTML object>"
      ]
     },
     "metadata": {},
     "output_type": "display_data"
    },
    {
     "name": "stdout",
     "output_type": "stream",
     "text": [
      "FOLD 0\n",
      "---------------------------------------------------\n"
     ]
    },
    {
     "name": "stderr",
     "output_type": "stream",
     "text": [
      "epoch 1: 100%|██████████| 782/782 [00:10<00:00, 74.41it/s, loss=0.948, metrics={'acc': 0.5859}]\n",
      "epoch 2: 100%|██████████| 782/782 [00:09<00:00, 78.72it/s, loss=0.688, metrics={'acc': 0.6534}]\n",
      "epoch 3: 100%|██████████| 782/782 [00:10<00:00, 76.81it/s, loss=0.556, metrics={'acc': 0.7197}]\n",
      "epoch 4: 100%|██████████| 782/782 [00:10<00:00, 77.17it/s, loss=0.508, metrics={'acc': 0.7524}]\n",
      "epoch 5: 100%|██████████| 782/782 [00:10<00:00, 76.32it/s, loss=0.495, metrics={'acc': 0.7602}]\n",
      "epoch 6: 100%|██████████| 782/782 [00:09<00:00, 79.76it/s, loss=0.492, metrics={'acc': 0.7614}]\n",
      "epoch 7: 100%|██████████| 782/782 [00:10<00:00, 76.78it/s, loss=0.491, metrics={'acc': 0.7622}]\n",
      "epoch 8: 100%|██████████| 782/782 [00:10<00:00, 77.66it/s, loss=0.49, metrics={'acc': 0.7622}] \n",
      "epoch 9: 100%|██████████| 782/782 [00:10<00:00, 77.38it/s, loss=0.489, metrics={'acc': 0.7629}]\n",
      "epoch 10: 100%|██████████| 782/782 [00:09<00:00, 79.10it/s, loss=0.488, metrics={'acc': 0.763}] \n",
      "epoch 11: 100%|██████████| 782/782 [00:09<00:00, 78.65it/s, loss=0.488, metrics={'acc': 0.763}] \n",
      "epoch 12: 100%|██████████| 782/782 [00:10<00:00, 77.56it/s, loss=0.488, metrics={'acc': 0.7631}]\n",
      "epoch 13: 100%|██████████| 782/782 [00:10<00:00, 76.69it/s, loss=0.487, metrics={'acc': 0.7635}]\n",
      "epoch 14: 100%|██████████| 782/782 [00:10<00:00, 77.32it/s, loss=0.486, metrics={'acc': 0.7637}]\n",
      "epoch 15: 100%|██████████| 782/782 [00:09<00:00, 79.34it/s, loss=0.486, metrics={'acc': 0.7642}]\n",
      "epoch 16: 100%|██████████| 782/782 [00:10<00:00, 76.87it/s, loss=0.486, metrics={'acc': 0.7642}]\n",
      "epoch 17: 100%|██████████| 782/782 [00:10<00:00, 76.97it/s, loss=0.485, metrics={'acc': 0.7646}]\n",
      "epoch 18: 100%|██████████| 782/782 [00:10<00:00, 76.00it/s, loss=0.485, metrics={'acc': 0.7642}]\n",
      "epoch 19: 100%|██████████| 782/782 [00:09<00:00, 78.68it/s, loss=0.485, metrics={'acc': 0.7642}]\n",
      "epoch 20: 100%|██████████| 782/782 [00:09<00:00, 78.56it/s, loss=0.484, metrics={'acc': 0.7649}]\n",
      "epoch 21: 100%|██████████| 782/782 [00:09<00:00, 78.55it/s, loss=0.484, metrics={'acc': 0.7655}]\n",
      "epoch 22: 100%|██████████| 782/782 [00:10<00:00, 76.60it/s, loss=0.484, metrics={'acc': 0.765}] \n",
      "epoch 23: 100%|██████████| 782/782 [00:09<00:00, 79.87it/s, loss=0.484, metrics={'acc': 0.7649}]\n",
      "epoch 24: 100%|██████████| 782/782 [00:09<00:00, 79.73it/s, loss=0.484, metrics={'acc': 0.7653}]\n",
      "epoch 25: 100%|██████████| 782/782 [00:10<00:00, 77.46it/s, loss=0.483, metrics={'acc': 0.7652}]\n",
      "epoch 26: 100%|██████████| 782/782 [00:10<00:00, 77.95it/s, loss=0.483, metrics={'acc': 0.7654}]\n",
      "epoch 27: 100%|██████████| 782/782 [00:10<00:00, 74.21it/s, loss=0.483, metrics={'acc': 0.7655}]\n",
      "epoch 28: 100%|██████████| 782/782 [00:10<00:00, 76.37it/s, loss=0.483, metrics={'acc': 0.7656}]\n",
      "epoch 29: 100%|██████████| 782/782 [00:10<00:00, 77.31it/s, loss=0.482, metrics={'acc': 0.7658}]\n",
      "epoch 30: 100%|██████████| 782/782 [00:10<00:00, 76.81it/s, loss=0.483, metrics={'acc': 0.7661}]\n",
      "epoch 31: 100%|██████████| 782/782 [00:09<00:00, 79.44it/s, loss=0.482, metrics={'acc': 0.7659}]\n",
      "epoch 32: 100%|██████████| 782/782 [00:10<00:00, 76.25it/s, loss=0.482, metrics={'acc': 0.7654}]\n",
      "epoch 33: 100%|██████████| 782/782 [00:10<00:00, 75.37it/s, loss=0.482, metrics={'acc': 0.766}] \n",
      "epoch 34: 100%|██████████| 782/782 [00:10<00:00, 76.52it/s, loss=0.482, metrics={'acc': 0.7657}]\n",
      "epoch 35: 100%|██████████| 782/782 [00:10<00:00, 75.54it/s, loss=0.482, metrics={'acc': 0.7658}]\n",
      "epoch 36: 100%|██████████| 782/782 [00:09<00:00, 78.25it/s, loss=0.482, metrics={'acc': 0.7658}]\n",
      "epoch 37: 100%|██████████| 782/782 [00:09<00:00, 80.30it/s, loss=0.482, metrics={'acc': 0.7657}]\n",
      "epoch 38: 100%|██████████| 782/782 [00:10<00:00, 75.74it/s, loss=0.482, metrics={'acc': 0.7661}]\n",
      "epoch 39: 100%|██████████| 782/782 [00:10<00:00, 76.74it/s, loss=0.481, metrics={'acc': 0.7663}]\n",
      "epoch 40: 100%|██████████| 782/782 [00:10<00:00, 73.47it/s, loss=0.482, metrics={'acc': 0.7662}]\n",
      "epoch 41: 100%|██████████| 782/782 [00:10<00:00, 74.98it/s, loss=0.482, metrics={'acc': 0.766}] \n",
      "epoch 42: 100%|██████████| 782/782 [00:10<00:00, 75.47it/s, loss=0.481, metrics={'acc': 0.766}] \n",
      "epoch 43: 100%|██████████| 782/782 [00:10<00:00, 73.26it/s, loss=0.481, metrics={'acc': 0.7663}]\n",
      "epoch 44: 100%|██████████| 782/782 [00:10<00:00, 75.33it/s, loss=0.481, metrics={'acc': 0.7662}]\n",
      "epoch 45: 100%|██████████| 782/782 [00:10<00:00, 75.34it/s, loss=0.481, metrics={'acc': 0.7662}]\n",
      "epoch 46: 100%|██████████| 782/782 [00:10<00:00, 75.70it/s, loss=0.481, metrics={'acc': 0.7664}]\n",
      "epoch 47: 100%|██████████| 782/782 [00:10<00:00, 76.87it/s, loss=0.481, metrics={'acc': 0.7664}]\n",
      "epoch 48: 100%|██████████| 782/782 [00:10<00:00, 74.13it/s, loss=0.481, metrics={'acc': 0.7666}]\n",
      "epoch 49: 100%|██████████| 782/782 [00:10<00:00, 75.52it/s, loss=0.481, metrics={'acc': 0.7658}]\n",
      "epoch 50: 100%|██████████| 782/782 [00:10<00:00, 76.40it/s, loss=0.481, metrics={'acc': 0.7662}]\n",
      "epoch 51: 100%|██████████| 782/782 [00:09<00:00, 78.57it/s, loss=0.481, metrics={'acc': 0.7665}]\n",
      "epoch 52: 100%|██████████| 782/782 [00:10<00:00, 74.68it/s, loss=0.481, metrics={'acc': 0.7663}]\n",
      "epoch 53: 100%|██████████| 782/782 [00:10<00:00, 74.54it/s, loss=0.48, metrics={'acc': 0.7668}] \n",
      "epoch 54: 100%|██████████| 782/782 [00:10<00:00, 75.45it/s, loss=0.481, metrics={'acc': 0.7665}]\n",
      "epoch 55: 100%|██████████| 782/782 [00:10<00:00, 73.97it/s, loss=0.481, metrics={'acc': 0.7664}]\n",
      "epoch 56: 100%|██████████| 782/782 [00:10<00:00, 73.43it/s, loss=0.48, metrics={'acc': 0.7667}] \n",
      "epoch 57: 100%|██████████| 782/782 [00:10<00:00, 77.15it/s, loss=0.48, metrics={'acc': 0.7666}] \n",
      "epoch 58: 100%|██████████| 782/782 [00:10<00:00, 77.94it/s, loss=0.48, metrics={'acc': 0.7667}] \n",
      "epoch 59: 100%|██████████| 782/782 [00:10<00:00, 74.31it/s, loss=0.48, metrics={'acc': 0.7664}] \n",
      "epoch 60: 100%|██████████| 782/782 [00:10<00:00, 76.45it/s, loss=0.48, metrics={'acc': 0.7668}] \n",
      "epoch 61: 100%|██████████| 782/782 [00:10<00:00, 75.91it/s, loss=0.48, metrics={'acc': 0.7666}] \n",
      "epoch 62: 100%|██████████| 782/782 [00:10<00:00, 75.18it/s, loss=0.48, metrics={'acc': 0.7667}] \n",
      "epoch 63: 100%|██████████| 782/782 [00:10<00:00, 75.30it/s, loss=0.48, metrics={'acc': 0.7669}] \n",
      "epoch 64: 100%|██████████| 782/782 [00:10<00:00, 75.32it/s, loss=0.48, metrics={'acc': 0.7672}] \n",
      "epoch 65: 100%|██████████| 782/782 [00:10<00:00, 76.14it/s, loss=0.48, metrics={'acc': 0.7669}] \n",
      "epoch 66: 100%|██████████| 782/782 [00:10<00:00, 75.94it/s, loss=0.48, metrics={'acc': 0.7667}] \n",
      "epoch 67: 100%|██████████| 782/782 [00:10<00:00, 78.12it/s, loss=0.48, metrics={'acc': 0.7667}] \n",
      "epoch 68: 100%|██████████| 782/782 [00:10<00:00, 77.78it/s, loss=0.48, metrics={'acc': 0.7665}] \n",
      "epoch 69: 100%|██████████| 782/782 [00:10<00:00, 75.05it/s, loss=0.48, metrics={'acc': 0.7668}] \n",
      "epoch 70: 100%|██████████| 782/782 [00:10<00:00, 75.41it/s, loss=0.48, metrics={'acc': 0.767}]  \n",
      "epoch 71: 100%|██████████| 782/782 [00:10<00:00, 77.13it/s, loss=0.48, metrics={'acc': 0.7671}] \n",
      "epoch 72: 100%|██████████| 782/782 [00:10<00:00, 75.51it/s, loss=0.48, metrics={'acc': 0.7668}] \n",
      "epoch 73: 100%|██████████| 782/782 [00:10<00:00, 77.20it/s, loss=0.48, metrics={'acc': 0.767}]  \n",
      "epoch 74: 100%|██████████| 782/782 [00:10<00:00, 75.23it/s, loss=0.479, metrics={'acc': 0.767}] \n",
      "epoch 75: 100%|██████████| 782/782 [00:10<00:00, 77.03it/s, loss=0.48, metrics={'acc': 0.767}]  \n",
      "epoch 76: 100%|██████████| 782/782 [00:10<00:00, 74.45it/s, loss=0.479, metrics={'acc': 0.767}] \n",
      "epoch 77: 100%|██████████| 782/782 [00:10<00:00, 74.91it/s, loss=0.479, metrics={'acc': 0.7672}]\n",
      "epoch 78: 100%|██████████| 782/782 [00:10<00:00, 74.76it/s, loss=0.479, metrics={'acc': 0.7668}]\n",
      "epoch 79: 100%|██████████| 782/782 [00:10<00:00, 76.54it/s, loss=0.479, metrics={'acc': 0.7671}]\n",
      "epoch 80: 100%|██████████| 782/782 [00:10<00:00, 74.27it/s, loss=0.48, metrics={'acc': 0.7671}] \n",
      "epoch 81: 100%|██████████| 782/782 [00:10<00:00, 74.19it/s, loss=0.479, metrics={'acc': 0.7671}]\n",
      "epoch 82: 100%|██████████| 782/782 [00:10<00:00, 75.61it/s, loss=0.479, metrics={'acc': 0.767}] \n",
      "epoch 83: 100%|██████████| 782/782 [00:10<00:00, 75.58it/s, loss=0.479, metrics={'acc': 0.767}] \n",
      "epoch 84: 100%|██████████| 782/782 [00:10<00:00, 74.43it/s, loss=0.479, metrics={'acc': 0.7669}]\n",
      "epoch 85: 100%|██████████| 782/782 [00:10<00:00, 76.71it/s, loss=0.479, metrics={'acc': 0.7671}]\n",
      "epoch 86: 100%|██████████| 782/782 [00:10<00:00, 72.99it/s, loss=0.479, metrics={'acc': 0.7666}]\n",
      "epoch 87: 100%|██████████| 782/782 [00:10<00:00, 73.83it/s, loss=0.479, metrics={'acc': 0.767}] \n",
      "epoch 88: 100%|██████████| 782/782 [00:10<00:00, 74.41it/s, loss=0.479, metrics={'acc': 0.7672}]\n",
      "epoch 89: 100%|██████████| 782/782 [00:10<00:00, 74.88it/s, loss=0.479, metrics={'acc': 0.7671}]\n",
      "epoch 90: 100%|██████████| 782/782 [00:10<00:00, 75.90it/s, loss=0.479, metrics={'acc': 0.7668}]\n",
      "epoch 91: 100%|██████████| 782/782 [00:10<00:00, 75.60it/s, loss=0.479, metrics={'acc': 0.7674}]\n",
      "epoch 92: 100%|██████████| 782/782 [00:10<00:00, 73.87it/s, loss=0.479, metrics={'acc': 0.7672}]\n",
      "epoch 93: 100%|██████████| 782/782 [00:10<00:00, 74.58it/s, loss=0.479, metrics={'acc': 0.767}] \n",
      "epoch 94: 100%|██████████| 782/782 [00:10<00:00, 74.93it/s, loss=0.479, metrics={'acc': 0.7671}]\n",
      "epoch 95: 100%|██████████| 782/782 [00:10<00:00, 74.46it/s, loss=0.479, metrics={'acc': 0.7667}]\n",
      "epoch 96: 100%|██████████| 782/782 [00:10<00:00, 74.67it/s, loss=0.479, metrics={'acc': 0.7672}]\n",
      "epoch 97: 100%|██████████| 782/782 [00:10<00:00, 76.03it/s, loss=0.479, metrics={'acc': 0.7673}]\n",
      "epoch 98: 100%|██████████| 782/782 [00:10<00:00, 75.06it/s, loss=0.479, metrics={'acc': 0.7672}]\n",
      "epoch 99: 100%|██████████| 782/782 [00:10<00:00, 73.25it/s, loss=0.479, metrics={'acc': 0.7673}]\n",
      "epoch 100: 100%|██████████| 782/782 [00:10<00:00, 74.68it/s, loss=0.479, metrics={'acc': 0.7667}]\n",
      "epoch 101: 100%|██████████| 782/782 [00:10<00:00, 76.23it/s, loss=0.479, metrics={'acc': 0.7671}]\n",
      "epoch 102: 100%|██████████| 782/782 [00:10<00:00, 76.33it/s, loss=0.479, metrics={'acc': 0.7672}]\n",
      "epoch 103: 100%|██████████| 782/782 [00:10<00:00, 74.76it/s, loss=0.479, metrics={'acc': 0.7671}]\n",
      "epoch 104: 100%|██████████| 782/782 [00:10<00:00, 75.09it/s, loss=0.479, metrics={'acc': 0.7671}]\n",
      "epoch 105: 100%|██████████| 782/782 [00:10<00:00, 73.97it/s, loss=0.479, metrics={'acc': 0.7671}]\n",
      "epoch 106: 100%|██████████| 782/782 [00:10<00:00, 75.19it/s, loss=0.479, metrics={'acc': 0.7674}]\n",
      "epoch 107: 100%|██████████| 782/782 [00:10<00:00, 76.05it/s, loss=0.479, metrics={'acc': 0.7673}]\n",
      "epoch 108: 100%|██████████| 782/782 [00:10<00:00, 75.43it/s, loss=0.479, metrics={'acc': 0.7673}]\n",
      "epoch 109: 100%|██████████| 782/782 [00:10<00:00, 75.69it/s, loss=0.479, metrics={'acc': 0.7671}]\n",
      "epoch 110: 100%|██████████| 782/782 [00:10<00:00, 74.18it/s, loss=0.478, metrics={'acc': 0.7672}]\n",
      "epoch 111: 100%|██████████| 782/782 [00:10<00:00, 73.94it/s, loss=0.479, metrics={'acc': 0.7672}]\n",
      "epoch 112: 100%|██████████| 782/782 [00:10<00:00, 76.92it/s, loss=0.479, metrics={'acc': 0.7671}]\n",
      "epoch 113: 100%|██████████| 782/782 [00:10<00:00, 73.95it/s, loss=0.479, metrics={'acc': 0.7672}]\n",
      "epoch 114: 100%|██████████| 782/782 [00:10<00:00, 73.97it/s, loss=0.479, metrics={'acc': 0.7672}]\n",
      "epoch 115: 100%|██████████| 782/782 [00:10<00:00, 75.25it/s, loss=0.479, metrics={'acc': 0.7669}]\n",
      "epoch 116: 100%|██████████| 782/782 [00:10<00:00, 75.10it/s, loss=0.479, metrics={'acc': 0.7669}]\n",
      "epoch 117: 100%|██████████| 782/782 [00:10<00:00, 74.28it/s, loss=0.479, metrics={'acc': 0.7676}]\n",
      "epoch 118: 100%|██████████| 782/782 [00:10<00:00, 75.06it/s, loss=0.479, metrics={'acc': 0.7673}]\n",
      "epoch 119: 100%|██████████| 782/782 [00:10<00:00, 74.05it/s, loss=0.479, metrics={'acc': 0.7677}]\n",
      "epoch 120: 100%|██████████| 782/782 [00:10<00:00, 75.75it/s, loss=0.478, metrics={'acc': 0.7672}]\n",
      "epoch 121: 100%|██████████| 782/782 [00:10<00:00, 74.91it/s, loss=0.479, metrics={'acc': 0.7673}]\n",
      "epoch 122: 100%|██████████| 782/782 [00:10<00:00, 74.59it/s, loss=0.479, metrics={'acc': 0.7673}]\n",
      "epoch 123: 100%|██████████| 782/782 [00:10<00:00, 74.71it/s, loss=0.478, metrics={'acc': 0.7673}]\n",
      "epoch 124: 100%|██████████| 782/782 [00:10<00:00, 74.74it/s, loss=0.479, metrics={'acc': 0.7675}]\n",
      "epoch 125: 100%|██████████| 782/782 [00:10<00:00, 76.67it/s, loss=0.479, metrics={'acc': 0.7674}]\n",
      "epoch 126: 100%|██████████| 782/782 [00:10<00:00, 75.75it/s, loss=0.478, metrics={'acc': 0.7678}]\n",
      "epoch 127: 100%|██████████| 782/782 [00:10<00:00, 76.80it/s, loss=0.479, metrics={'acc': 0.7675}]\n",
      "epoch 128: 100%|██████████| 782/782 [00:10<00:00, 74.60it/s, loss=0.478, metrics={'acc': 0.7678}]\n",
      "epoch 129: 100%|██████████| 782/782 [00:10<00:00, 74.92it/s, loss=0.479, metrics={'acc': 0.7672}]\n",
      "epoch 130: 100%|██████████| 782/782 [00:10<00:00, 72.77it/s, loss=0.478, metrics={'acc': 0.7675}]\n",
      "epoch 131: 100%|██████████| 782/782 [00:10<00:00, 74.73it/s, loss=0.478, metrics={'acc': 0.7674}]\n",
      "epoch 132: 100%|██████████| 782/782 [00:10<00:00, 74.69it/s, loss=0.478, metrics={'acc': 0.7676}]\n",
      "epoch 133: 100%|██████████| 782/782 [00:10<00:00, 74.76it/s, loss=0.478, metrics={'acc': 0.7673}]\n",
      "epoch 134: 100%|██████████| 782/782 [00:10<00:00, 73.59it/s, loss=0.478, metrics={'acc': 0.7674}]\n",
      "epoch 135: 100%|██████████| 782/782 [00:10<00:00, 73.27it/s, loss=0.479, metrics={'acc': 0.7675}]\n",
      "epoch 136: 100%|██████████| 782/782 [00:10<00:00, 73.77it/s, loss=0.478, metrics={'acc': 0.7674}]\n",
      "epoch 137: 100%|██████████| 782/782 [00:10<00:00, 73.65it/s, loss=0.478, metrics={'acc': 0.768}] \n",
      "epoch 138: 100%|██████████| 782/782 [00:10<00:00, 73.69it/s, loss=0.478, metrics={'acc': 0.7673}]\n",
      "epoch 139: 100%|██████████| 782/782 [00:10<00:00, 76.58it/s, loss=0.479, metrics={'acc': 0.7671}]\n",
      "epoch 140: 100%|██████████| 782/782 [00:10<00:00, 77.17it/s, loss=0.478, metrics={'acc': 0.7671}]\n",
      "epoch 141: 100%|██████████| 782/782 [00:10<00:00, 74.86it/s, loss=0.478, metrics={'acc': 0.7677}]\n",
      "epoch 142: 100%|██████████| 782/782 [00:10<00:00, 74.36it/s, loss=0.478, metrics={'acc': 0.7673}]\n",
      "epoch 143: 100%|██████████| 782/782 [00:10<00:00, 75.32it/s, loss=0.478, metrics={'acc': 0.7676}]\n",
      "epoch 144: 100%|██████████| 782/782 [00:10<00:00, 75.85it/s, loss=0.478, metrics={'acc': 0.7676}]\n",
      "epoch 145: 100%|██████████| 782/782 [00:10<00:00, 75.17it/s, loss=0.478, metrics={'acc': 0.7677}]\n",
      "epoch 146: 100%|██████████| 782/782 [00:10<00:00, 77.64it/s, loss=0.478, metrics={'acc': 0.7672}]\n",
      "epoch 147: 100%|██████████| 782/782 [00:10<00:00, 74.96it/s, loss=0.478, metrics={'acc': 0.7675}]\n",
      "epoch 148: 100%|██████████| 782/782 [00:10<00:00, 74.31it/s, loss=0.478, metrics={'acc': 0.7677}]\n",
      "epoch 149: 100%|██████████| 782/782 [00:10<00:00, 77.02it/s, loss=0.478, metrics={'acc': 0.7671}]\n",
      "epoch 150: 100%|██████████| 782/782 [00:10<00:00, 72.48it/s, loss=0.478, metrics={'acc': 0.7677}]\n",
      "epoch 151: 100%|██████████| 782/782 [00:10<00:00, 74.97it/s, loss=0.478, metrics={'acc': 0.7677}]\n",
      "epoch 152: 100%|██████████| 782/782 [00:10<00:00, 77.18it/s, loss=0.478, metrics={'acc': 0.7681}]\n",
      "epoch 153: 100%|██████████| 782/782 [00:10<00:00, 77.01it/s, loss=0.478, metrics={'acc': 0.7677}]\n",
      "epoch 154: 100%|██████████| 782/782 [00:10<00:00, 74.49it/s, loss=0.478, metrics={'acc': 0.7676}]\n",
      "epoch 155: 100%|██████████| 782/782 [00:10<00:00, 75.95it/s, loss=0.478, metrics={'acc': 0.7672}]\n",
      "epoch 156: 100%|██████████| 782/782 [00:10<00:00, 72.88it/s, loss=0.478, metrics={'acc': 0.7677}]\n",
      "epoch 157: 100%|██████████| 782/782 [00:10<00:00, 74.28it/s, loss=0.478, metrics={'acc': 0.7676}]\n",
      "epoch 158: 100%|██████████| 782/782 [00:10<00:00, 75.12it/s, loss=0.478, metrics={'acc': 0.7677}]\n",
      "epoch 159: 100%|██████████| 782/782 [00:10<00:00, 73.87it/s, loss=0.478, metrics={'acc': 0.768}] \n",
      "epoch 160: 100%|██████████| 782/782 [00:10<00:00, 73.74it/s, loss=0.478, metrics={'acc': 0.7675}]\n",
      "epoch 161: 100%|██████████| 782/782 [00:10<00:00, 75.15it/s, loss=0.478, metrics={'acc': 0.7674}]\n",
      "epoch 162: 100%|██████████| 782/782 [00:10<00:00, 74.37it/s, loss=0.478, metrics={'acc': 0.7676}]\n",
      "epoch 163: 100%|██████████| 782/782 [00:10<00:00, 73.71it/s, loss=0.478, metrics={'acc': 0.7671}]\n",
      "epoch 164: 100%|██████████| 782/782 [00:10<00:00, 76.37it/s, loss=0.478, metrics={'acc': 0.7675}]\n",
      "epoch 165: 100%|██████████| 782/782 [00:10<00:00, 74.65it/s, loss=0.478, metrics={'acc': 0.7678}]\n",
      "epoch 166: 100%|██████████| 782/782 [00:10<00:00, 74.97it/s, loss=0.478, metrics={'acc': 0.7676}]\n",
      "epoch 167: 100%|██████████| 782/782 [00:10<00:00, 74.95it/s, loss=0.478, metrics={'acc': 0.768}] \n",
      "epoch 168: 100%|██████████| 782/782 [00:10<00:00, 73.33it/s, loss=0.478, metrics={'acc': 0.7675}]\n",
      "epoch 169: 100%|██████████| 782/782 [00:10<00:00, 76.46it/s, loss=0.478, metrics={'acc': 0.7679}]\n",
      "epoch 170: 100%|██████████| 782/782 [00:10<00:00, 77.92it/s, loss=0.478, metrics={'acc': 0.7678}]\n",
      "epoch 171: 100%|██████████| 782/782 [00:10<00:00, 78.05it/s, loss=0.478, metrics={'acc': 0.7676}]\n",
      "epoch 172: 100%|██████████| 782/782 [00:10<00:00, 74.85it/s, loss=0.478, metrics={'acc': 0.7679}]\n",
      "epoch 173: 100%|██████████| 782/782 [00:10<00:00, 73.93it/s, loss=0.478, metrics={'acc': 0.7682}]\n",
      "epoch 174: 100%|██████████| 782/782 [00:10<00:00, 75.19it/s, loss=0.478, metrics={'acc': 0.7675}]\n",
      "epoch 175: 100%|██████████| 782/782 [00:10<00:00, 73.40it/s, loss=0.478, metrics={'acc': 0.7678}]\n",
      "epoch 176: 100%|██████████| 782/782 [00:10<00:00, 74.47it/s, loss=0.478, metrics={'acc': 0.7678}]\n",
      "epoch 177: 100%|██████████| 782/782 [00:10<00:00, 74.45it/s, loss=0.478, metrics={'acc': 0.7673}]\n",
      "epoch 178: 100%|██████████| 782/782 [00:10<00:00, 76.18it/s, loss=0.478, metrics={'acc': 0.7679}]\n",
      "epoch 179: 100%|██████████| 782/782 [00:10<00:00, 74.44it/s, loss=0.478, metrics={'acc': 0.7674}]\n",
      "epoch 180: 100%|██████████| 782/782 [00:10<00:00, 75.30it/s, loss=0.478, metrics={'acc': 0.7681}]\n",
      "epoch 181: 100%|██████████| 782/782 [00:10<00:00, 73.38it/s, loss=0.478, metrics={'acc': 0.7678}]\n",
      "epoch 182: 100%|██████████| 782/782 [00:10<00:00, 77.61it/s, loss=0.478, metrics={'acc': 0.7681}]\n",
      "epoch 183: 100%|██████████| 782/782 [00:10<00:00, 76.38it/s, loss=0.477, metrics={'acc': 0.7677}]\n",
      "epoch 184: 100%|██████████| 782/782 [00:10<00:00, 73.58it/s, loss=0.478, metrics={'acc': 0.7676}]\n",
      "epoch 185: 100%|██████████| 782/782 [00:10<00:00, 76.06it/s, loss=0.478, metrics={'acc': 0.7677}]\n",
      "epoch 186: 100%|██████████| 782/782 [00:10<00:00, 73.74it/s, loss=0.478, metrics={'acc': 0.7675}]\n",
      "epoch 187: 100%|██████████| 782/782 [00:10<00:00, 77.50it/s, loss=0.478, metrics={'acc': 0.7679}]\n",
      "epoch 188: 100%|██████████| 782/782 [00:10<00:00, 76.13it/s, loss=0.478, metrics={'acc': 0.7679}]\n",
      "epoch 189: 100%|██████████| 782/782 [00:10<00:00, 75.68it/s, loss=0.478, metrics={'acc': 0.768}] \n",
      "epoch 190: 100%|██████████| 782/782 [00:10<00:00, 73.19it/s, loss=0.478, metrics={'acc': 0.7678}]\n",
      "epoch 191: 100%|██████████| 782/782 [00:10<00:00, 73.88it/s, loss=0.478, metrics={'acc': 0.7676}]\n",
      "epoch 192: 100%|██████████| 782/782 [00:10<00:00, 72.86it/s, loss=0.478, metrics={'acc': 0.7677}]\n",
      "epoch 193: 100%|██████████| 782/782 [00:10<00:00, 74.00it/s, loss=0.477, metrics={'acc': 0.7677}]\n",
      "epoch 194: 100%|██████████| 782/782 [00:10<00:00, 76.51it/s, loss=0.478, metrics={'acc': 0.7679}]\n",
      "epoch 195: 100%|██████████| 782/782 [00:10<00:00, 75.29it/s, loss=0.478, metrics={'acc': 0.7677}]\n",
      "epoch 196: 100%|██████████| 782/782 [00:10<00:00, 78.17it/s, loss=0.478, metrics={'acc': 0.7675}]\n",
      "epoch 197: 100%|██████████| 782/782 [00:10<00:00, 75.80it/s, loss=0.478, metrics={'acc': 0.7682}]\n",
      "epoch 198: 100%|██████████| 782/782 [00:09<00:00, 79.19it/s, loss=0.478, metrics={'acc': 0.7679}]\n",
      "epoch 199: 100%|██████████| 782/782 [00:10<00:00, 73.02it/s, loss=0.478, metrics={'acc': 0.7678}]\n",
      "epoch 200: 100%|██████████| 782/782 [00:10<00:00, 75.50it/s, loss=0.478, metrics={'acc': 0.7675}]\n",
      "epoch 201: 100%|██████████| 782/782 [00:10<00:00, 75.20it/s, loss=0.478, metrics={'acc': 0.7676}]\n",
      "epoch 202: 100%|██████████| 782/782 [00:10<00:00, 75.38it/s, loss=0.477, metrics={'acc': 0.7679}]\n",
      "epoch 203: 100%|██████████| 782/782 [00:10<00:00, 75.53it/s, loss=0.478, metrics={'acc': 0.7681}]\n",
      "epoch 204: 100%|██████████| 782/782 [00:10<00:00, 74.57it/s, loss=0.478, metrics={'acc': 0.7678}]\n",
      "epoch 205: 100%|██████████| 782/782 [00:10<00:00, 74.96it/s, loss=0.478, metrics={'acc': 0.7679}]\n",
      "epoch 206: 100%|██████████| 782/782 [00:10<00:00, 74.57it/s, loss=0.478, metrics={'acc': 0.7683}]\n",
      "epoch 207: 100%|██████████| 782/782 [00:10<00:00, 74.68it/s, loss=0.477, metrics={'acc': 0.7678}]\n",
      "epoch 208: 100%|██████████| 782/782 [00:09<00:00, 78.47it/s, loss=0.478, metrics={'acc': 0.7678}]\n",
      "epoch 209: 100%|██████████| 782/782 [00:09<00:00, 79.35it/s, loss=0.478, metrics={'acc': 0.7681}]\n",
      "epoch 210: 100%|██████████| 782/782 [00:10<00:00, 75.24it/s, loss=0.478, metrics={'acc': 0.7676}]\n",
      "epoch 211: 100%|██████████| 782/782 [00:10<00:00, 74.50it/s, loss=0.478, metrics={'acc': 0.7677}]\n",
      "epoch 212: 100%|██████████| 782/782 [00:10<00:00, 73.24it/s, loss=0.477, metrics={'acc': 0.768}] \n",
      "epoch 213: 100%|██████████| 782/782 [00:10<00:00, 74.42it/s, loss=0.477, metrics={'acc': 0.7677}]\n",
      "epoch 214: 100%|██████████| 782/782 [00:10<00:00, 76.86it/s, loss=0.477, metrics={'acc': 0.7681}]\n",
      "epoch 215: 100%|██████████| 782/782 [00:10<00:00, 73.15it/s, loss=0.477, metrics={'acc': 0.7682}]\n",
      "epoch 216: 100%|██████████| 782/782 [00:10<00:00, 74.30it/s, loss=0.478, metrics={'acc': 0.7675}]\n",
      "epoch 217: 100%|██████████| 782/782 [00:10<00:00, 75.55it/s, loss=0.477, metrics={'acc': 0.7679}]\n",
      "epoch 218: 100%|██████████| 782/782 [00:10<00:00, 74.53it/s, loss=0.478, metrics={'acc': 0.7677}]\n",
      "epoch 219: 100%|██████████| 782/782 [00:10<00:00, 74.00it/s, loss=0.478, metrics={'acc': 0.7676}]\n",
      "epoch 220: 100%|██████████| 782/782 [00:10<00:00, 77.68it/s, loss=0.477, metrics={'acc': 0.7675}]\n",
      "epoch 221:  81%|████████▏ | 636/782 [00:08<00:01, 83.70it/s, loss=0.477, metrics={'acc': 0.7677}]"
     ]
    }
   ],
   "source": [
    "oof_lv1_tabmlp42, test_lv1_tabmlp42 = cross_validate_model(library='widedeep-TabMLP', wandb_tracked=True, random_state=42)"
   ]
  },
  {
   "cell_type": "code",
   "execution_count": null,
   "id": "a0cc90e9-2660-49d0-9023-cadadcfd082f",
   "metadata": {},
   "outputs": [],
   "source": [
    "dump(oof_lv1_tabmlp42, predpath/f\"{wandb_config['name']}_widedeep-TabMLP_{exmodel_config['kfolds']}folds_rs{42}_500epochs_oof_preds.joblib\")\n",
    "dump(test_lv1_tabmlp42, predpath/f\"{wandb_config['name']}_widedeep-TabMLP_{exmodel_config['kfolds']}folds_rs{42}_500epochs_test_preds.joblib\")"
   ]
  },
  {
   "cell_type": "code",
   "execution_count": null,
   "id": "bf2186a4-ff6b-4050-bd39-0b1621f99ec8",
   "metadata": {},
   "outputs": [],
   "source": [
    "oof_lv1_tabmlp1983, test_lv1_tabmlp1983 = cross_validate_model(library='widedeep-TabMLP', wandb_tracked=True, random_state=1983)"
   ]
  },
  {
   "cell_type": "code",
   "execution_count": 33,
   "id": "88fd90d9-f5dd-4e12-a0e8-dca40cef0b66",
   "metadata": {},
   "outputs": [
    {
     "data": {
      "text/plain": [
       "['/home/sf/code/kaggle/tabular_playgrounds/oct2021/preds/stacking_manual_20211012_194716_widedeep-TabMLP_5folds_rs1983_500epochs_test_preds.joblib']"
      ]
     },
     "execution_count": 33,
     "metadata": {},
     "output_type": "execute_result"
    }
   ],
   "source": [
    "dump(oof_lv1_tabmlp1983, predpath/f\"{wandb_config['name']}_widedeep-TabMLP_{exmodel_config['kfolds']}folds_rs{1983}_500epochs_oof_preds.joblib\")\n",
    "dump(test_lv1_tabmlp1983, predpath/f\"{wandb_config['name']}_widedeep-TabMLP_{exmodel_config['kfolds']}folds_rs{1983}_500epochs_test_preds.joblib\")"
   ]
  },
  {
   "cell_type": "code",
   "execution_count": null,
   "id": "e71ea50a-e4fc-42b7-a37f-6fbb927c870a",
   "metadata": {},
   "outputs": [],
   "source": []
  },
  {
   "cell_type": "code",
   "execution_count": null,
   "id": "84e4f6fb-323f-46c1-a534-1351685387e6",
   "metadata": {},
   "outputs": [],
   "source": [
    "# widedeep_oof_preds[:10]"
   ]
  },
  {
   "cell_type": "code",
   "execution_count": 33,
   "id": "710be0bd-92ce-4f3b-9e2c-3a98e0040336",
   "metadata": {},
   "outputs": [],
   "source": [
    "# widedeep_test_preds[:10]"
   ]
  },
  {
   "cell_type": "markdown",
   "id": "e23c3564-37f1-4c16-b91f-753667ecb3b0",
   "metadata": {},
   "source": [
    "# Single Submission"
   ]
  },
  {
   "cell_type": "code",
   "execution_count": 39,
   "id": "8217efa1-6b59-4c60-bbc7-5bd50c0fee6e",
   "metadata": {
    "tags": []
   },
   "outputs": [],
   "source": [
    "sample_df = pd.read_csv(datapath/'sample_submission.csv.zip')"
   ]
  },
  {
   "cell_type": "code",
   "execution_count": 40,
   "id": "c64589fc-0149-4905-b4e0-f110ef9007a4",
   "metadata": {},
   "outputs": [],
   "source": [
    "sample_df.loc[:, 'target'] = test_lv1_tabmlp1983"
   ]
  },
  {
   "cell_type": "code",
   "execution_count": 41,
   "id": "67e447e4-c7a2-4680-8845-57dc5b687407",
   "metadata": {
    "collapsed": true,
    "jupyter": {
     "outputs_hidden": true
    },
    "tags": []
   },
   "outputs": [
    {
     "data": {
      "text/html": [
       "<div>\n",
       "<style scoped>\n",
       "    .dataframe tbody tr th:only-of-type {\n",
       "        vertical-align: middle;\n",
       "    }\n",
       "\n",
       "    .dataframe tbody tr th {\n",
       "        vertical-align: top;\n",
       "    }\n",
       "\n",
       "    .dataframe thead th {\n",
       "        text-align: right;\n",
       "    }\n",
       "</style>\n",
       "<table border=\"1\" class=\"dataframe\">\n",
       "  <thead>\n",
       "    <tr style=\"text-align: right;\">\n",
       "      <th></th>\n",
       "      <th>id</th>\n",
       "      <th>target</th>\n",
       "    </tr>\n",
       "  </thead>\n",
       "  <tbody>\n",
       "    <tr>\n",
       "      <th>0</th>\n",
       "      <td>1000000</td>\n",
       "      <td>0.613051</td>\n",
       "    </tr>\n",
       "    <tr>\n",
       "      <th>1</th>\n",
       "      <td>1000001</td>\n",
       "      <td>0.300757</td>\n",
       "    </tr>\n",
       "    <tr>\n",
       "      <th>2</th>\n",
       "      <td>1000002</td>\n",
       "      <td>0.861658</td>\n",
       "    </tr>\n",
       "    <tr>\n",
       "      <th>3</th>\n",
       "      <td>1000003</td>\n",
       "      <td>0.831054</td>\n",
       "    </tr>\n",
       "    <tr>\n",
       "      <th>4</th>\n",
       "      <td>1000004</td>\n",
       "      <td>0.271750</td>\n",
       "    </tr>\n",
       "    <tr>\n",
       "      <th>5</th>\n",
       "      <td>1000005</td>\n",
       "      <td>0.180083</td>\n",
       "    </tr>\n",
       "    <tr>\n",
       "      <th>6</th>\n",
       "      <td>1000006</td>\n",
       "      <td>0.053755</td>\n",
       "    </tr>\n",
       "    <tr>\n",
       "      <th>7</th>\n",
       "      <td>1000007</td>\n",
       "      <td>0.297473</td>\n",
       "    </tr>\n",
       "    <tr>\n",
       "      <th>8</th>\n",
       "      <td>1000008</td>\n",
       "      <td>0.900432</td>\n",
       "    </tr>\n",
       "    <tr>\n",
       "      <th>9</th>\n",
       "      <td>1000009</td>\n",
       "      <td>0.903095</td>\n",
       "    </tr>\n",
       "    <tr>\n",
       "      <th>10</th>\n",
       "      <td>1000010</td>\n",
       "      <td>0.882805</td>\n",
       "    </tr>\n",
       "    <tr>\n",
       "      <th>11</th>\n",
       "      <td>1000011</td>\n",
       "      <td>0.597530</td>\n",
       "    </tr>\n",
       "    <tr>\n",
       "      <th>12</th>\n",
       "      <td>1000012</td>\n",
       "      <td>0.180833</td>\n",
       "    </tr>\n",
       "    <tr>\n",
       "      <th>13</th>\n",
       "      <td>1000013</td>\n",
       "      <td>0.373474</td>\n",
       "    </tr>\n",
       "    <tr>\n",
       "      <th>14</th>\n",
       "      <td>1000014</td>\n",
       "      <td>0.390265</td>\n",
       "    </tr>\n",
       "    <tr>\n",
       "      <th>15</th>\n",
       "      <td>1000015</td>\n",
       "      <td>0.147321</td>\n",
       "    </tr>\n",
       "    <tr>\n",
       "      <th>16</th>\n",
       "      <td>1000016</td>\n",
       "      <td>0.280467</td>\n",
       "    </tr>\n",
       "    <tr>\n",
       "      <th>17</th>\n",
       "      <td>1000017</td>\n",
       "      <td>0.482063</td>\n",
       "    </tr>\n",
       "    <tr>\n",
       "      <th>18</th>\n",
       "      <td>1000018</td>\n",
       "      <td>0.097201</td>\n",
       "    </tr>\n",
       "    <tr>\n",
       "      <th>19</th>\n",
       "      <td>1000019</td>\n",
       "      <td>0.905349</td>\n",
       "    </tr>\n",
       "  </tbody>\n",
       "</table>\n",
       "</div>"
      ],
      "text/plain": [
       "         id    target\n",
       "0   1000000  0.613051\n",
       "1   1000001  0.300757\n",
       "2   1000002  0.861658\n",
       "3   1000003  0.831054\n",
       "4   1000004  0.271750\n",
       "5   1000005  0.180083\n",
       "6   1000006  0.053755\n",
       "7   1000007  0.297473\n",
       "8   1000008  0.900432\n",
       "9   1000009  0.903095\n",
       "10  1000010  0.882805\n",
       "11  1000011  0.597530\n",
       "12  1000012  0.180833\n",
       "13  1000013  0.373474\n",
       "14  1000014  0.390265\n",
       "15  1000015  0.147321\n",
       "16  1000016  0.280467\n",
       "17  1000017  0.482063\n",
       "18  1000018  0.097201\n",
       "19  1000019  0.905349"
      ]
     },
     "execution_count": 41,
     "metadata": {},
     "output_type": "execute_result"
    }
   ],
   "source": [
    "sample_df.iloc[:20] # rs1983"
   ]
  },
  {
   "cell_type": "code",
   "execution_count": 37,
   "id": "dd20a8cd-72a0-47b9-989d-cb65be178967",
   "metadata": {
    "collapsed": true,
    "jupyter": {
     "outputs_hidden": true
    },
    "tags": []
   },
   "outputs": [
    {
     "data": {
      "text/html": [
       "<div>\n",
       "<style scoped>\n",
       "    .dataframe tbody tr th:only-of-type {\n",
       "        vertical-align: middle;\n",
       "    }\n",
       "\n",
       "    .dataframe tbody tr th {\n",
       "        vertical-align: top;\n",
       "    }\n",
       "\n",
       "    .dataframe thead th {\n",
       "        text-align: right;\n",
       "    }\n",
       "</style>\n",
       "<table border=\"1\" class=\"dataframe\">\n",
       "  <thead>\n",
       "    <tr style=\"text-align: right;\">\n",
       "      <th></th>\n",
       "      <th>id</th>\n",
       "      <th>target</th>\n",
       "    </tr>\n",
       "  </thead>\n",
       "  <tbody>\n",
       "    <tr>\n",
       "      <th>0</th>\n",
       "      <td>1000000</td>\n",
       "      <td>0.658592</td>\n",
       "    </tr>\n",
       "    <tr>\n",
       "      <th>1</th>\n",
       "      <td>1000001</td>\n",
       "      <td>0.331519</td>\n",
       "    </tr>\n",
       "    <tr>\n",
       "      <th>2</th>\n",
       "      <td>1000002</td>\n",
       "      <td>0.846932</td>\n",
       "    </tr>\n",
       "    <tr>\n",
       "      <th>3</th>\n",
       "      <td>1000003</td>\n",
       "      <td>0.837291</td>\n",
       "    </tr>\n",
       "    <tr>\n",
       "      <th>4</th>\n",
       "      <td>1000004</td>\n",
       "      <td>0.222636</td>\n",
       "    </tr>\n",
       "    <tr>\n",
       "      <th>5</th>\n",
       "      <td>1000005</td>\n",
       "      <td>0.212883</td>\n",
       "    </tr>\n",
       "    <tr>\n",
       "      <th>6</th>\n",
       "      <td>1000006</td>\n",
       "      <td>0.049120</td>\n",
       "    </tr>\n",
       "    <tr>\n",
       "      <th>7</th>\n",
       "      <td>1000007</td>\n",
       "      <td>0.347424</td>\n",
       "    </tr>\n",
       "    <tr>\n",
       "      <th>8</th>\n",
       "      <td>1000008</td>\n",
       "      <td>0.906956</td>\n",
       "    </tr>\n",
       "    <tr>\n",
       "      <th>9</th>\n",
       "      <td>1000009</td>\n",
       "      <td>0.894582</td>\n",
       "    </tr>\n",
       "    <tr>\n",
       "      <th>10</th>\n",
       "      <td>1000010</td>\n",
       "      <td>0.837311</td>\n",
       "    </tr>\n",
       "    <tr>\n",
       "      <th>11</th>\n",
       "      <td>1000011</td>\n",
       "      <td>0.589359</td>\n",
       "    </tr>\n",
       "    <tr>\n",
       "      <th>12</th>\n",
       "      <td>1000012</td>\n",
       "      <td>0.219161</td>\n",
       "    </tr>\n",
       "    <tr>\n",
       "      <th>13</th>\n",
       "      <td>1000013</td>\n",
       "      <td>0.327381</td>\n",
       "    </tr>\n",
       "    <tr>\n",
       "      <th>14</th>\n",
       "      <td>1000014</td>\n",
       "      <td>0.376792</td>\n",
       "    </tr>\n",
       "    <tr>\n",
       "      <th>15</th>\n",
       "      <td>1000015</td>\n",
       "      <td>0.172313</td>\n",
       "    </tr>\n",
       "    <tr>\n",
       "      <th>16</th>\n",
       "      <td>1000016</td>\n",
       "      <td>0.295174</td>\n",
       "    </tr>\n",
       "    <tr>\n",
       "      <th>17</th>\n",
       "      <td>1000017</td>\n",
       "      <td>0.502299</td>\n",
       "    </tr>\n",
       "    <tr>\n",
       "      <th>18</th>\n",
       "      <td>1000018</td>\n",
       "      <td>0.110021</td>\n",
       "    </tr>\n",
       "    <tr>\n",
       "      <th>19</th>\n",
       "      <td>1000019</td>\n",
       "      <td>0.916443</td>\n",
       "    </tr>\n",
       "  </tbody>\n",
       "</table>\n",
       "</div>"
      ],
      "text/plain": [
       "         id    target\n",
       "0   1000000  0.658592\n",
       "1   1000001  0.331519\n",
       "2   1000002  0.846932\n",
       "3   1000003  0.837291\n",
       "4   1000004  0.222636\n",
       "5   1000005  0.212883\n",
       "6   1000006  0.049120\n",
       "7   1000007  0.347424\n",
       "8   1000008  0.906956\n",
       "9   1000009  0.894582\n",
       "10  1000010  0.837311\n",
       "11  1000011  0.589359\n",
       "12  1000012  0.219161\n",
       "13  1000013  0.327381\n",
       "14  1000014  0.376792\n",
       "15  1000015  0.172313\n",
       "16  1000016  0.295174\n",
       "17  1000017  0.502299\n",
       "18  1000018  0.110021\n",
       "19  1000019  0.916443"
      ]
     },
     "execution_count": 37,
     "metadata": {},
     "output_type": "execute_result"
    }
   ],
   "source": [
    "sample_df.iloc[:20] # rs42"
   ]
  },
  {
   "cell_type": "code",
   "execution_count": 37,
   "id": "ee4537d0-13b6-46a2-96ac-4ef6ab855007",
   "metadata": {},
   "outputs": [],
   "source": [
    "# submission_path = datapath/'submissions'\n",
    "# submission_path.mkdir(exist_ok=True)"
   ]
  },
  {
   "cell_type": "code",
   "execution_count": 42,
   "id": "51a8672e-ebc6-4105-94a6-5f6806aea28d",
   "metadata": {},
   "outputs": [
    {
     "name": "stderr",
     "output_type": "stream",
     "text": [
      "/home/sf/anaconda3/envs/tabular-x/lib/python3.8/site-packages/ipykernel/ipkernel.py:287: DeprecationWarning: `should_run_async` will not call `transform_cell` automatically in the future. Please pass the result to `transformed_cell` argument and any exception that happen during thetransform in `preprocessing_exc_tuple` in IPython 7.17 and above.\n",
      "  and should_run_async(code)\n"
     ]
    }
   ],
   "source": [
    "sample_df.to_csv(subpath/f\"{wandb_config['name']}_widedeep-TabMLP-500epochs-64x32_{exmodel_config['kfolds']}folds_rs{1983}_baseline_preds.csv\", index=False)"
   ]
  },
  {
   "cell_type": "code",
   "execution_count": 39,
   "id": "dd1e0734-4e26-4944-896b-65c177181cbf",
   "metadata": {},
   "outputs": [],
   "source": [
    "# str(blender.estimators[2][1].get_all_params())\n",
    "# blender.estimators[2][1]"
   ]
  },
  {
   "cell_type": "code",
   "execution_count": 40,
   "id": "765cbb49-a7b4-4564-b26d-3484431935be",
   "metadata": {},
   "outputs": [],
   "source": [
    "# wandb.log({'leaderboard_auc': 0.81725,\n",
    "# #            'catboost_params': str(best_catboost_params),\n",
    "#           })"
   ]
  },
  {
   "cell_type": "code",
   "execution_count": 41,
   "id": "df020199-86b3-4f67-8088-0646f028b8d9",
   "metadata": {
    "tags": []
   },
   "outputs": [],
   "source": [
    "# wandb.finish()"
   ]
  },
  {
   "cell_type": "code",
   "execution_count": 42,
   "id": "8441c1fc-8432-4d24-a65f-eceaae4919d8",
   "metadata": {},
   "outputs": [],
   "source": [
    "# oof_y_pd = pd.Series(oof_y)"
   ]
  },
  {
   "cell_type": "markdown",
   "id": "994802dc-6ec1-4588-9ee6-b18e7ef01047",
   "metadata": {
    "tags": []
   },
   "source": [
    "# Predictions"
   ]
  },
  {
   "cell_type": "markdown",
   "id": "e98533af-f9b2-435d-a41f-f2f5e1d8ea82",
   "metadata": {},
   "source": [
    "Loading predictions from previous model runs for ensembling."
   ]
  },
  {
   "cell_type": "code",
   "execution_count": 32,
   "id": "2ab051d1-4dad-4499-88e6-ece9639d035a",
   "metadata": {},
   "outputs": [],
   "source": [
    "# oof_lv1_xgb42 = load(predpath/'stacking_manual_20211005_205933_xgboost_5folds_rs42_oof_preds.joblib')\n",
    "# test_lv1_xgb42 = load(predpath/'stacking_manual_20211005_205933_xgboost_5folds_rs42_test_preds.joblib')\n",
    "oof_lv1_xgb1983 = load(predpath/'stacking_manual_20211005_205933_xgboost_5folds_rs1983_oof_preds.joblib')\n",
    "test_lv1_xgb1983 = load(predpath/'stacking_manual_20211005_205933_xgboost_5folds_rs1983_test_preds.joblib')\n",
    "\n",
    "# oof_lv1_lgb42 = load(predpath/'stacking_manual_20211005_205933_lightgbm_5folds_rs42_oof_preds.joblib')\n",
    "# test_lv1_lgb42 = load(predpath/'stacking_manual_20211005_205933_lightgbm_5folds_rs42_test_preds.joblib')\n",
    "oof_lv1_lgb1983 = load(predpath/'stacking_manual_20211005_205933_lightgbm_5folds_rs1983_oof_preds.joblib')\n",
    "test_lv1_lgb1983 = load(predpath/'stacking_manual_20211005_205933_lightgbm_5folds_rs1983_test_preds.joblib')\n",
    "\n",
    "oof_lv1_cat42 = load(predpath/'stacking_manual_20211007_090049_catboost_5folds_rs42_oof_preds.joblib')\n",
    "test_lv1_cat42 = load(predpath/'stacking_manual_20211007_090049_catboost_5folds_rs42_test_preds.joblib')\n",
    "oof_lv1_cat1983 = load(predpath/'validAUC_0.856970844007867_stacking_manual_20211005_205933_catboost_5folds_rs1983_oof_preds.joblib')\n",
    "test_lv1_cat1983 = load(predpath/'stacking_manual_20211005_205933_catboost_5folds_rs1983_test_preds.joblib')\n",
    "\n",
    "oof_lv1_tabmlp42 = load(predpath/'stacking_manual_20211008_205340_widedeep-TabMLP_5folds_30epochs_rs42_oof_preds.joblib')\n",
    "test_lv1_tabmlp42 = load(predpath/'stacking_manual_20211008_205340_widedeep-TabMLP_5folds_30epochs_rs42_test_preds.joblib')\n"
   ]
  },
  {
   "cell_type": "markdown",
   "id": "bfe960b2-6e42-4384-a7de-d2a2464c2ea2",
   "metadata": {},
   "source": [
    "## Level One"
   ]
  },
  {
   "cell_type": "code",
   "execution_count": 33,
   "id": "5cb4c8f6-4712-45a9-9a42-84864ab265bb",
   "metadata": {
    "tags": []
   },
   "outputs": [],
   "source": [
    "oof_lv1, test_lv1 = pd.DataFrame(), pd.DataFrame() # initialize dataframes"
   ]
  },
  {
   "cell_type": "markdown",
   "id": "2f4f3a89-af13-4f7d-a613-690498292674",
   "metadata": {},
   "source": [
    "### Generating"
   ]
  },
  {
   "cell_type": "code",
   "execution_count": 47,
   "id": "64e1dcfc-e8f5-429c-99de-ae56bf5d51c6",
   "metadata": {},
   "outputs": [
    {
     "data": {
      "text/plain": [
       "((1000000, 285), (500000, 286))"
      ]
     },
     "execution_count": 47,
     "metadata": {},
     "output_type": "execute_result"
    }
   ],
   "source": [
    "X.shape, X_test.shape"
   ]
  },
  {
   "cell_type": "code",
   "execution_count": 48,
   "id": "e68b511e-5e22-4512-b320-ef8b0dafd49b",
   "metadata": {},
   "outputs": [
    {
     "data": {
      "text/html": [
       "<div>\n",
       "<style scoped>\n",
       "    .dataframe tbody tr th:only-of-type {\n",
       "        vertical-align: middle;\n",
       "    }\n",
       "\n",
       "    .dataframe tbody tr th {\n",
       "        vertical-align: top;\n",
       "    }\n",
       "\n",
       "    .dataframe thead th {\n",
       "        text-align: right;\n",
       "    }\n",
       "</style>\n",
       "<table border=\"1\" class=\"dataframe\">\n",
       "  <thead>\n",
       "    <tr style=\"text-align: right;\">\n",
       "      <th></th>\n",
       "      <th>id</th>\n",
       "      <th>f0</th>\n",
       "      <th>f1</th>\n",
       "      <th>f2</th>\n",
       "      <th>f3</th>\n",
       "      <th>f4</th>\n",
       "      <th>f5</th>\n",
       "      <th>f6</th>\n",
       "      <th>f7</th>\n",
       "      <th>f8</th>\n",
       "      <th>...</th>\n",
       "      <th>f275</th>\n",
       "      <th>f276</th>\n",
       "      <th>f277</th>\n",
       "      <th>f278</th>\n",
       "      <th>f279</th>\n",
       "      <th>f280</th>\n",
       "      <th>f281</th>\n",
       "      <th>f282</th>\n",
       "      <th>f283</th>\n",
       "      <th>f284</th>\n",
       "    </tr>\n",
       "  </thead>\n",
       "  <tbody>\n",
       "    <tr>\n",
       "      <th>0</th>\n",
       "      <td>1000000</td>\n",
       "      <td>0.178216</td>\n",
       "      <td>0.435617</td>\n",
       "      <td>0.010230</td>\n",
       "      <td>0.202074</td>\n",
       "      <td>0.390170</td>\n",
       "      <td>0.324221</td>\n",
       "      <td>0.221722</td>\n",
       "      <td>0.738894</td>\n",
       "      <td>0.582588</td>\n",
       "      <td>...</td>\n",
       "      <td>1</td>\n",
       "      <td>0</td>\n",
       "      <td>0</td>\n",
       "      <td>0</td>\n",
       "      <td>0</td>\n",
       "      <td>0</td>\n",
       "      <td>1</td>\n",
       "      <td>1</td>\n",
       "      <td>1</td>\n",
       "      <td>0</td>\n",
       "    </tr>\n",
       "    <tr>\n",
       "      <th>1</th>\n",
       "      <td>1000001</td>\n",
       "      <td>0.181250</td>\n",
       "      <td>0.476455</td>\n",
       "      <td>0.022413</td>\n",
       "      <td>0.283146</td>\n",
       "      <td>0.598020</td>\n",
       "      <td>0.349508</td>\n",
       "      <td>0.283467</td>\n",
       "      <td>0.721575</td>\n",
       "      <td>0.268990</td>\n",
       "      <td>...</td>\n",
       "      <td>0</td>\n",
       "      <td>0</td>\n",
       "      <td>0</td>\n",
       "      <td>0</td>\n",
       "      <td>0</td>\n",
       "      <td>0</td>\n",
       "      <td>0</td>\n",
       "      <td>0</td>\n",
       "      <td>0</td>\n",
       "      <td>0</td>\n",
       "    </tr>\n",
       "    <tr>\n",
       "      <th>2</th>\n",
       "      <td>1000002</td>\n",
       "      <td>0.159721</td>\n",
       "      <td>0.451202</td>\n",
       "      <td>0.259649</td>\n",
       "      <td>0.365274</td>\n",
       "      <td>0.594634</td>\n",
       "      <td>0.413502</td>\n",
       "      <td>0.249318</td>\n",
       "      <td>0.642339</td>\n",
       "      <td>0.411104</td>\n",
       "      <td>...</td>\n",
       "      <td>0</td>\n",
       "      <td>0</td>\n",
       "      <td>0</td>\n",
       "      <td>0</td>\n",
       "      <td>0</td>\n",
       "      <td>0</td>\n",
       "      <td>1</td>\n",
       "      <td>0</td>\n",
       "      <td>0</td>\n",
       "      <td>0</td>\n",
       "    </tr>\n",
       "    <tr>\n",
       "      <th>3</th>\n",
       "      <td>1000003</td>\n",
       "      <td>0.182424</td>\n",
       "      <td>0.520976</td>\n",
       "      <td>0.095344</td>\n",
       "      <td>0.327742</td>\n",
       "      <td>0.741830</td>\n",
       "      <td>0.358711</td>\n",
       "      <td>0.270077</td>\n",
       "      <td>0.601662</td>\n",
       "      <td>0.297742</td>\n",
       "      <td>...</td>\n",
       "      <td>0</td>\n",
       "      <td>0</td>\n",
       "      <td>0</td>\n",
       "      <td>0</td>\n",
       "      <td>0</td>\n",
       "      <td>1</td>\n",
       "      <td>1</td>\n",
       "      <td>0</td>\n",
       "      <td>0</td>\n",
       "      <td>0</td>\n",
       "    </tr>\n",
       "    <tr>\n",
       "      <th>4</th>\n",
       "      <td>1000004</td>\n",
       "      <td>0.229329</td>\n",
       "      <td>0.336513</td>\n",
       "      <td>0.023511</td>\n",
       "      <td>0.300913</td>\n",
       "      <td>0.668738</td>\n",
       "      <td>0.481586</td>\n",
       "      <td>0.545660</td>\n",
       "      <td>0.667849</td>\n",
       "      <td>0.546045</td>\n",
       "      <td>...</td>\n",
       "      <td>0</td>\n",
       "      <td>0</td>\n",
       "      <td>0</td>\n",
       "      <td>0</td>\n",
       "      <td>1</td>\n",
       "      <td>0</td>\n",
       "      <td>0</td>\n",
       "      <td>1</td>\n",
       "      <td>0</td>\n",
       "      <td>0</td>\n",
       "    </tr>\n",
       "  </tbody>\n",
       "</table>\n",
       "<p>5 rows × 286 columns</p>\n",
       "</div>"
      ],
      "text/plain": [
       "        id        f0        f1        f2        f3        f4        f5  \\\n",
       "0  1000000  0.178216  0.435617  0.010230  0.202074  0.390170  0.324221   \n",
       "1  1000001  0.181250  0.476455  0.022413  0.283146  0.598020  0.349508   \n",
       "2  1000002  0.159721  0.451202  0.259649  0.365274  0.594634  0.413502   \n",
       "3  1000003  0.182424  0.520976  0.095344  0.327742  0.741830  0.358711   \n",
       "4  1000004  0.229329  0.336513  0.023511  0.300913  0.668738  0.481586   \n",
       "\n",
       "         f6        f7        f8  ...  f275  f276  f277  f278  f279  f280  \\\n",
       "0  0.221722  0.738894  0.582588  ...     1     0     0     0     0     0   \n",
       "1  0.283467  0.721575  0.268990  ...     0     0     0     0     0     0   \n",
       "2  0.249318  0.642339  0.411104  ...     0     0     0     0     0     0   \n",
       "3  0.270077  0.601662  0.297742  ...     0     0     0     0     0     1   \n",
       "4  0.545660  0.667849  0.546045  ...     0     0     0     0     1     0   \n",
       "\n",
       "   f281  f282  f283  f284  \n",
       "0     1     1     1     0  \n",
       "1     0     0     0     0  \n",
       "2     1     0     0     0  \n",
       "3     1     0     0     0  \n",
       "4     0     1     0     0  \n",
       "\n",
       "[5 rows x 286 columns]"
      ]
     },
     "execution_count": 48,
     "metadata": {},
     "output_type": "execute_result"
    }
   ],
   "source": [
    "X_test.head()"
   ]
  },
  {
   "cell_type": "code",
   "execution_count": 55,
   "id": "032ca5db-2dd1-4530-8847-1619f85fbf15",
   "metadata": {
    "tags": []
   },
   "outputs": [
    {
     "data": {
      "text/html": [
       "Finishing last run (ID:3so02gpt) before initializing another..."
      ],
      "text/plain": [
       "<IPython.core.display.HTML object>"
      ]
     },
     "metadata": {},
     "output_type": "display_data"
    },
    {
     "data": {
      "text/html": [
       "<br/>Waiting for W&B process to finish, PID 232520... <strong style=\"color:green\">(success).</strong>"
      ],
      "text/plain": [
       "<IPython.core.display.HTML object>"
      ]
     },
     "metadata": {},
     "output_type": "display_data"
    },
    {
     "data": {
      "application/vnd.jupyter.widget-view+json": {
       "model_id": "",
       "version_major": 2,
       "version_minor": 0
      },
      "text/plain": [
       "VBox(children=(Label(value=' 0.00MB of 0.00MB uploaded (0.00MB deduped)\\r'), FloatProgress(value=1.0, max=1.0)…"
      ]
     },
     "metadata": {},
     "output_type": "display_data"
    },
    {
     "data": {
      "text/html": [
       "<style>\n",
       "    table.wandb td:nth-child(1) { padding: 0 10px; text-align: right }\n",
       "    .wandb-row { display: flex; flex-direction: row; flex-wrap: wrap; width: 100% }\n",
       "    .wandb-col { display: flex; flex-direction: column; flex-basis: 100%; flex: 1; padding: 10px; }\n",
       "    </style>\n",
       "<div class=\"wandb-row\"><div class=\"wandb-col\">\n",
       "</div><div class=\"wandb-col\">\n",
       "</div></div>\n",
       "Synced 6 W&B file(s), 0 media file(s), 0 artifact file(s) and 0 other file(s)\n",
       "<br/>Synced <strong style=\"color:#cdcd00\">stacking_manual_20211011_092728</strong>: <a href=\"https://wandb.ai/hushifang/202110_Kaggle_tabular_playground/runs/3so02gpt\" target=\"_blank\">https://wandb.ai/hushifang/202110_Kaggle_tabular_playground/runs/3so02gpt</a><br/>\n",
       "Find logs at: <code>./wandb/run-20211011_141800-3so02gpt/logs</code><br/>\n"
      ],
      "text/plain": [
       "<IPython.core.display.HTML object>"
      ]
     },
     "metadata": {},
     "output_type": "display_data"
    },
    {
     "data": {
      "text/html": [
       "Successfully finished last run (ID:3so02gpt). Initializing new run:<br/>"
      ],
      "text/plain": [
       "<IPython.core.display.HTML object>"
      ]
     },
     "metadata": {},
     "output_type": "display_data"
    },
    {
     "name": "stderr",
     "output_type": "stream",
     "text": [
      "\u001b[34m\u001b[1mwandb\u001b[0m: wandb version 0.12.4 is available!  To upgrade, please run:\n",
      "\u001b[34m\u001b[1mwandb\u001b[0m:  $ pip install wandb --upgrade\n"
     ]
    },
    {
     "data": {
      "text/html": [
       "\n",
       "                    Syncing run <strong><a href=\"https://wandb.ai/hushifang/202110_Kaggle_tabular_playground/runs/3496gxbl\" target=\"_blank\">stacking_manual_20211011_092728</a></strong> to <a href=\"https://wandb.ai/hushifang/202110_Kaggle_tabular_playground\" target=\"_blank\">Weights & Biases</a> (<a href=\"https://docs.wandb.com/integrations/jupyter.html\" target=\"_blank\">docs</a>).<br/>\n",
       "\n",
       "                "
      ],
      "text/plain": [
       "<IPython.core.display.HTML object>"
      ]
     },
     "metadata": {},
     "output_type": "display_data"
    },
    {
     "name": "stdout",
     "output_type": "stream",
     "text": [
      "FOLD 0\n",
      "---------------------------------------------------\n",
      "Valid AUC for fold 0 is 0.8569902133831346\n",
      "FOLD 1\n",
      "---------------------------------------------------\n",
      "Valid AUC for fold 1 is 0.8557177152217484\n",
      "FOLD 2\n",
      "---------------------------------------------------\n",
      "Valid AUC for fold 2 is 0.8566120475807572\n",
      "FOLD 3\n",
      "---------------------------------------------------\n",
      "Valid AUC for fold 3 is 0.8556486832608683\n",
      "FOLD 4\n",
      "---------------------------------------------------\n",
      "Valid AUC for fold 4 is 0.8562722350166698\n",
      "Valid AUC score for lightgbm model is 0.85624566920555\n"
     ]
    },
    {
     "name": "stderr",
     "output_type": "stream",
     "text": [
      "\u001b[34m\u001b[1mwandb\u001b[0m: \u001b[33mWARNING\u001b[0m Serializing object of type ndarray that is 4000104 bytes\n"
     ]
    },
    {
     "data": {
      "text/html": [
       "<br/>Waiting for W&B process to finish, PID 238588... <strong style=\"color:green\">(success).</strong>"
      ],
      "text/plain": [
       "<IPython.core.display.HTML object>"
      ]
     },
     "metadata": {},
     "output_type": "display_data"
    },
    {
     "data": {
      "application/vnd.jupyter.widget-view+json": {
       "model_id": "",
       "version_major": 2,
       "version_minor": 0
      },
      "text/plain": [
       "VBox(children=(Label(value=' 0.00MB of 0.00MB uploaded (0.00MB deduped)\\r'), FloatProgress(value=1.0, max=1.0)…"
      ]
     },
     "metadata": {},
     "output_type": "display_data"
    },
    {
     "data": {
      "text/html": [
       "<style>\n",
       "    table.wandb td:nth-child(1) { padding: 0 10px; text-align: right }\n",
       "    .wandb-row { display: flex; flex-direction: row; flex-wrap: wrap; width: 100% }\n",
       "    .wandb-col { display: flex; flex-direction: column; flex-basis: 100%; flex: 1; padding: 10px; }\n",
       "    </style>\n",
       "<div class=\"wandb-row\"><div class=\"wandb-col\">\n",
       "<h3>Run history:</h3><br/><table class=\"wandb\"><tr><td>model_valid_auc</td><td>▁</td></tr></table><br/></div><div class=\"wandb-col\">\n",
       "<h3>Run summary:</h3><br/><table class=\"wandb\"><tr><td>model_params</td><td>{'boosting_type': 'g...</td></tr><tr><td>model_valid_auc</td><td>0.85625</td></tr></table>\n",
       "</div></div>\n",
       "Synced 6 W&B file(s), 0 media file(s), 0 artifact file(s) and 1 other file(s)\n",
       "<br/>Synced <strong style=\"color:#cdcd00\">stacking_manual_20211011_092728</strong>: <a href=\"https://wandb.ai/hushifang/202110_Kaggle_tabular_playground/runs/3496gxbl\" target=\"_blank\">https://wandb.ai/hushifang/202110_Kaggle_tabular_playground/runs/3496gxbl</a><br/>\n",
       "Find logs at: <code>./wandb/run-20211011_193750-3496gxbl/logs</code><br/>\n"
      ],
      "text/plain": [
       "<IPython.core.display.HTML object>"
      ]
     },
     "metadata": {},
     "output_type": "display_data"
    }
   ],
   "source": [
    "oof_lv1_lgb42, test_lv1_lgb42 = cross_validate_model(library='lightgbm', X=X, y=y, X_test=X_test, \n",
    "                                         wandb_config=wandb_config,\n",
    "                                         random_state=42,\n",
    "                                         params=best_lightgbm_params,\n",
    "                                         exmodel_config=exmodel_config, \n",
    "                                         wandb_tracked=True\n",
    "                                        )\n",
    "oof_lv1['lgb42'] = oof_lv1_lgb42\n",
    "test_lv1['lgb42'] = test_lv1_lgb42"
   ]
  },
  {
   "cell_type": "code",
   "execution_count": 57,
   "id": "625ed13e-4c95-430a-b0e2-e8d8376f5f2f",
   "metadata": {},
   "outputs": [
    {
     "data": {
      "text/plain": [
       "['/home/sf/code/kaggle/tabular_playgrounds/oct2021/preds/stacking_manual_20211011_092728_lightgbm_5folds_model-rs42_test_preds.joblib']"
      ]
     },
     "execution_count": 57,
     "metadata": {},
     "output_type": "execute_result"
    }
   ],
   "source": [
    "dump(oof_lv1_lgb42, Path(predpath/f\"{wandb_config['name']}_lightgbm_{exmodel_config['kfolds']}folds_model-rs{42}_oof_preds.joblib\"))\n",
    "dump(test_lv1_lgb42, Path(predpath/f\"{wandb_config['name']}_lightgbm_{exmodel_config['kfolds']}folds_model-rs{42}_test_preds.joblib\"))"
   ]
  },
  {
   "cell_type": "code",
   "execution_count": 35,
   "id": "cfb3c21b-9340-490a-a44d-90b21ac8de04",
   "metadata": {
    "tags": []
   },
   "outputs": [],
   "source": [
    "# oof_lv1_lgb1983, test_lv1_lgb1983 = cross_validate_model(library='lightgbm', X=X, y=y, X_test=X_test, \n",
    "#                                                  wandb_config=wandb_config,\n",
    "#                                                  random_state=1983,\n",
    "#                                                  params=best_lightgbm_params,\n",
    "#                                                  exmodel_config=exmodel_config, \n",
    "#                                                  wandb_tracked=True\n",
    "#                                                 )\n",
    "oof_lv1['lgb1983'] = oof_lv1_lgb1983\n",
    "test_lv1['lgb1983'] = test_lv1_lgb1983"
   ]
  },
  {
   "cell_type": "code",
   "execution_count": 58,
   "id": "f80900ce-57d8-45f3-bd23-2a85f223855b",
   "metadata": {
    "tags": []
   },
   "outputs": [
    {
     "name": "stderr",
     "output_type": "stream",
     "text": [
      "\u001b[34m\u001b[1mwandb\u001b[0m: wandb version 0.12.4 is available!  To upgrade, please run:\n",
      "\u001b[34m\u001b[1mwandb\u001b[0m:  $ pip install wandb --upgrade\n"
     ]
    },
    {
     "data": {
      "text/html": [
       "\n",
       "                    Syncing run <strong><a href=\"https://wandb.ai/hushifang/202110_Kaggle_tabular_playground/runs/14orvjna\" target=\"_blank\">stacking_manual_20211011_092728</a></strong> to <a href=\"https://wandb.ai/hushifang/202110_Kaggle_tabular_playground\" target=\"_blank\">Weights & Biases</a> (<a href=\"https://docs.wandb.com/integrations/jupyter.html\" target=\"_blank\">docs</a>).<br/>\n",
       "\n",
       "                "
      ],
      "text/plain": [
       "<IPython.core.display.HTML object>"
      ]
     },
     "metadata": {},
     "output_type": "display_data"
    },
    {
     "name": "stdout",
     "output_type": "stream",
     "text": [
      "FOLD 0\n",
      "---------------------------------------------------\n"
     ]
    },
    {
     "name": "stderr",
     "output_type": "stream",
     "text": [
      "/home/sf/anaconda3/envs/tabular-x/lib/python3.8/site-packages/xgboost/sklearn.py:1146: UserWarning: The use of label encoder in XGBClassifier is deprecated and will be removed in a future release. To remove this warning, do the following: 1) Pass option use_label_encoder=False when constructing XGBClassifier object; and 2) Encode your labels (y) as integers starting with 0, i.e. 0, 1, 2, ..., [num_class - 1].\n",
      "  warnings.warn(label_encoder_deprecation_msg, UserWarning)\n",
      "/home/sf/anaconda3/envs/tabular-x/lib/python3.8/site-packages/xgboost/training.py:17: UserWarning: Old style callback is deprecated.  See: https://xgboost.readthedocs.io/en/latest/python/callbacks.html\n",
      "  warnings.warn(f'Old style callback is deprecated.  See: {link}', UserWarning)\n"
     ]
    },
    {
     "name": "stdout",
     "output_type": "stream",
     "text": [
      "Valid AUC for fold 0 is 0.8572554115376164\n",
      "FOLD 1\n",
      "---------------------------------------------------\n"
     ]
    },
    {
     "name": "stderr",
     "output_type": "stream",
     "text": [
      "/home/sf/anaconda3/envs/tabular-x/lib/python3.8/site-packages/xgboost/sklearn.py:1146: UserWarning: The use of label encoder in XGBClassifier is deprecated and will be removed in a future release. To remove this warning, do the following: 1) Pass option use_label_encoder=False when constructing XGBClassifier object; and 2) Encode your labels (y) as integers starting with 0, i.e. 0, 1, 2, ..., [num_class - 1].\n",
      "  warnings.warn(label_encoder_deprecation_msg, UserWarning)\n",
      "/home/sf/anaconda3/envs/tabular-x/lib/python3.8/site-packages/xgboost/training.py:17: UserWarning: Old style callback is deprecated.  See: https://xgboost.readthedocs.io/en/latest/python/callbacks.html\n",
      "  warnings.warn(f'Old style callback is deprecated.  See: {link}', UserWarning)\n"
     ]
    },
    {
     "name": "stdout",
     "output_type": "stream",
     "text": [
      "Valid AUC for fold 1 is 0.8561654493709842\n",
      "FOLD 2\n",
      "---------------------------------------------------\n"
     ]
    },
    {
     "name": "stderr",
     "output_type": "stream",
     "text": [
      "/home/sf/anaconda3/envs/tabular-x/lib/python3.8/site-packages/xgboost/sklearn.py:1146: UserWarning: The use of label encoder in XGBClassifier is deprecated and will be removed in a future release. To remove this warning, do the following: 1) Pass option use_label_encoder=False when constructing XGBClassifier object; and 2) Encode your labels (y) as integers starting with 0, i.e. 0, 1, 2, ..., [num_class - 1].\n",
      "  warnings.warn(label_encoder_deprecation_msg, UserWarning)\n",
      "/home/sf/anaconda3/envs/tabular-x/lib/python3.8/site-packages/xgboost/training.py:17: UserWarning: Old style callback is deprecated.  See: https://xgboost.readthedocs.io/en/latest/python/callbacks.html\n",
      "  warnings.warn(f'Old style callback is deprecated.  See: {link}', UserWarning)\n"
     ]
    },
    {
     "name": "stdout",
     "output_type": "stream",
     "text": [
      "Valid AUC for fold 2 is 0.8572168508119474\n",
      "FOLD 3\n",
      "---------------------------------------------------\n"
     ]
    },
    {
     "name": "stderr",
     "output_type": "stream",
     "text": [
      "/home/sf/anaconda3/envs/tabular-x/lib/python3.8/site-packages/xgboost/sklearn.py:1146: UserWarning: The use of label encoder in XGBClassifier is deprecated and will be removed in a future release. To remove this warning, do the following: 1) Pass option use_label_encoder=False when constructing XGBClassifier object; and 2) Encode your labels (y) as integers starting with 0, i.e. 0, 1, 2, ..., [num_class - 1].\n",
      "  warnings.warn(label_encoder_deprecation_msg, UserWarning)\n",
      "/home/sf/anaconda3/envs/tabular-x/lib/python3.8/site-packages/xgboost/training.py:17: UserWarning: Old style callback is deprecated.  See: https://xgboost.readthedocs.io/en/latest/python/callbacks.html\n",
      "  warnings.warn(f'Old style callback is deprecated.  See: {link}', UserWarning)\n"
     ]
    },
    {
     "name": "stdout",
     "output_type": "stream",
     "text": [
      "Valid AUC for fold 3 is 0.8560833380957398\n",
      "FOLD 4\n",
      "---------------------------------------------------\n"
     ]
    },
    {
     "name": "stderr",
     "output_type": "stream",
     "text": [
      "/home/sf/anaconda3/envs/tabular-x/lib/python3.8/site-packages/xgboost/sklearn.py:1146: UserWarning: The use of label encoder in XGBClassifier is deprecated and will be removed in a future release. To remove this warning, do the following: 1) Pass option use_label_encoder=False when constructing XGBClassifier object; and 2) Encode your labels (y) as integers starting with 0, i.e. 0, 1, 2, ..., [num_class - 1].\n",
      "  warnings.warn(label_encoder_deprecation_msg, UserWarning)\n",
      "/home/sf/anaconda3/envs/tabular-x/lib/python3.8/site-packages/xgboost/training.py:17: UserWarning: Old style callback is deprecated.  See: https://xgboost.readthedocs.io/en/latest/python/callbacks.html\n",
      "  warnings.warn(f'Old style callback is deprecated.  See: {link}', UserWarning)\n"
     ]
    },
    {
     "name": "stdout",
     "output_type": "stream",
     "text": [
      "Valid AUC for fold 4 is 0.8567086183230934\n",
      "Valid AUC score for xgboost model is 0.8566841128860819\n"
     ]
    },
    {
     "name": "stderr",
     "output_type": "stream",
     "text": [
      "\u001b[34m\u001b[1mwandb\u001b[0m: \u001b[33mWARNING\u001b[0m Serializing object of type ndarray that is 4000104 bytes\n"
     ]
    },
    {
     "data": {
      "text/html": [
       "<br/>Waiting for W&B process to finish, PID 240136... <strong style=\"color:green\">(success).</strong>"
      ],
      "text/plain": [
       "<IPython.core.display.HTML object>"
      ]
     },
     "metadata": {},
     "output_type": "display_data"
    },
    {
     "data": {
      "application/vnd.jupyter.widget-view+json": {
       "model_id": "",
       "version_major": 2,
       "version_minor": 0
      },
      "text/plain": [
       "VBox(children=(Label(value=' 0.00MB of 0.00MB uploaded (0.00MB deduped)\\r'), FloatProgress(value=1.0, max=1.0)…"
      ]
     },
     "metadata": {},
     "output_type": "display_data"
    },
    {
     "data": {
      "text/html": [
       "<style>\n",
       "    table.wandb td:nth-child(1) { padding: 0 10px; text-align: right }\n",
       "    .wandb-row { display: flex; flex-direction: row; flex-wrap: wrap; width: 100% }\n",
       "    .wandb-col { display: flex; flex-direction: column; flex-basis: 100%; flex: 1; padding: 10px; }\n",
       "    </style>\n",
       "<div class=\"wandb-row\"><div class=\"wandb-col\">\n",
       "<h3>Run history:</h3><br/><table class=\"wandb\"><tr><td>model_valid_auc</td><td>▁</td></tr></table><br/></div><div class=\"wandb-col\">\n",
       "<h3>Run summary:</h3><br/><table class=\"wandb\"><tr><td>model_params</td><td>{'objective': 'binar...</td></tr><tr><td>model_valid_auc</td><td>0.85668</td></tr></table>\n",
       "</div></div>\n",
       "Synced 6 W&B file(s), 0 media file(s), 0 artifact file(s) and 1 other file(s)\n",
       "<br/>Synced <strong style=\"color:#cdcd00\">stacking_manual_20211011_092728</strong>: <a href=\"https://wandb.ai/hushifang/202110_Kaggle_tabular_playground/runs/14orvjna\" target=\"_blank\">https://wandb.ai/hushifang/202110_Kaggle_tabular_playground/runs/14orvjna</a><br/>\n",
       "Find logs at: <code>./wandb/run-20211011_211101-14orvjna/logs</code><br/>\n"
      ],
      "text/plain": [
       "<IPython.core.display.HTML object>"
      ]
     },
     "metadata": {},
     "output_type": "display_data"
    }
   ],
   "source": [
    "oof_lv1_xgb42, test_lv1_xgb42 = cross_validate_model(library='xgboost', X=X, y=y, X_test=X_test, \n",
    "                                         wandb_config=wandb_config,\n",
    "                                         random_state=42,\n",
    "                                         params=best_xgboost_params,\n",
    "                                         exmodel_config=exmodel_config, \n",
    "                                         wandb_tracked=True\n",
    "                                        )\n",
    "\n",
    "oof_lv1['xgb42'] = oof_lv1_xgb42\n",
    "test_lv1['xgb42'] = test_lv1_xgb42"
   ]
  },
  {
   "cell_type": "code",
   "execution_count": 59,
   "id": "89a8e22c-165b-4453-854d-d2fa72dfd60a",
   "metadata": {},
   "outputs": [
    {
     "name": "stderr",
     "output_type": "stream",
     "text": [
      "/home/sf/anaconda3/envs/tabular-x/lib/python3.8/site-packages/ipykernel/ipkernel.py:287: DeprecationWarning: `should_run_async` will not call `transform_cell` automatically in the future. Please pass the result to `transformed_cell` argument and any exception that happen during thetransform in `preprocessing_exc_tuple` in IPython 7.17 and above.\n",
      "  and should_run_async(code)\n"
     ]
    },
    {
     "data": {
      "text/plain": [
       "['/home/sf/code/kaggle/tabular_playgrounds/oct2021/preds/stacking_manual_20211011_092728_xgboost_5folds_model-rs42_test_preds.joblib']"
      ]
     },
     "execution_count": 59,
     "metadata": {},
     "output_type": "execute_result"
    }
   ],
   "source": [
    "dump(oof_lv1_xgb42, Path(predpath/f\"{wandb_config['name']}_xgboost_{exmodel_config['kfolds']}folds_model-rs{42}_oof_preds.joblib\"))\n",
    "dump(test_lv1_xgb42, Path(predpath/f\"{wandb_config['name']}_xgboost_{exmodel_config['kfolds']}folds_model-rs{42}_test_preds.joblib\"))"
   ]
  },
  {
   "cell_type": "code",
   "execution_count": 37,
   "id": "db292889-5a30-45f5-8b7a-436cdeb27771",
   "metadata": {
    "tags": []
   },
   "outputs": [],
   "source": [
    "# oof_lv1_xgb1983, test_lv1_xgb1983 = cross_validate_model(library='xgboost', X=X, y=y, X_test=X_test, \n",
    "#                                                  wandb_config=wandb_config,\n",
    "#                                                  random_state=1983,\n",
    "#                                                  params=best_xgboost_params,\n",
    "#                                                  exmodel_config=exmodel_config, \n",
    "#                                                  wandb_tracked=True\n",
    "#                                                 )\n",
    "oof_lv1['xgb1983'] = oof_lv1_xgb1983\n",
    "test_lv1['xgb1983'] = test_lv1_xgb1983"
   ]
  },
  {
   "cell_type": "code",
   "execution_count": 38,
   "id": "07b56f4c-c0eb-46a2-a39f-5f161be4ce52",
   "metadata": {
    "tags": []
   },
   "outputs": [],
   "source": [
    "# oof_lv1_cat42, test_lv1_cat42 = cross_validate_model(library='catboost', X=X, y=y, X_test=X_test, \n",
    "#                                          wandb_config=wandb_config,\n",
    "#                                          random_state=42,\n",
    "#                                          params=best_catboost_params,\n",
    "#                                          exmodel_config=exmodel_config, \n",
    "#                                          wandb_tracked=True\n",
    "#                                         )\n",
    "oof_lv1['cat42'] = oof_lv1_cat42\n",
    "test_lv1['cat42'] = test_lv1_cat42"
   ]
  },
  {
   "cell_type": "code",
   "execution_count": 39,
   "id": "b4d41632-6d00-4714-81f3-d73e9d219b43",
   "metadata": {
    "tags": []
   },
   "outputs": [],
   "source": [
    "# oof_lv1_cat1983, test_lv1_cat1983 = cross_validate_model(library='catboost', X=X, y=y, X_test=X_test, \n",
    "#                                                  wandb_config=wandb_config,\n",
    "#                                                  random_state=1983,\n",
    "#                                                  params=best_catboost_params,\n",
    "#                                                  exmodel_config=exmodel_config, \n",
    "#                                                  wandb_tracked=False\n",
    "#                                                 )\n",
    "\n",
    "oof_lv1['cat1983'] = oof_lv1_cat1983\n",
    "test_lv1['cat1983'] = test_lv1_cat1983"
   ]
  },
  {
   "cell_type": "code",
   "execution_count": 42,
   "id": "b01fa87a-1d0c-4059-87ea-22bbdf066a29",
   "metadata": {},
   "outputs": [
    {
     "name": "stderr",
     "output_type": "stream",
     "text": [
      "/home/sf/anaconda3/envs/tabular-x/lib/python3.8/site-packages/ipykernel/ipkernel.py:287: DeprecationWarning: `should_run_async` will not call `transform_cell` automatically in the future. Please pass the result to `transformed_cell` argument and any exception that happen during thetransform in `preprocessing_exc_tuple` in IPython 7.17 and above.\n",
      "  and should_run_async(code)\n"
     ]
    }
   ],
   "source": [
    "oof_lv1['tabmlp42'] = oof_lv1_tabmlp42\n",
    "test_lv1['tabmlp42'] = test_lv1_tabmlp42\n",
    "\n",
    "oof_lv1_tabmlp1983 = load(predpath/'stacking_manual_20211011_092728_widedeep-TabMLP_5folds_30epochs_model-rs1983_oof_preds.joblib')\n",
    "test_lv1_tabmlp1983 = load(predpath/'stacking_manual_20211011_092728_widedeep-TabMLP_5folds_30epochs_model-rs1983_test_preds.joblib')\n",
    "\n",
    "oof_lv1['tabmlp1983'] = oof_lv1_tabmlp1983\n",
    "test_lv1['tabmlp1983'] = test_lv1_tabmlp1983"
   ]
  },
  {
   "cell_type": "code",
   "execution_count": 36,
   "id": "1f13c7fb-002c-4570-aeff-f75d934823e2",
   "metadata": {},
   "outputs": [],
   "source": [
    "# this cell just for after-the-fact error corrections\n",
    "\n",
    "# oof_lv1 = pd.DataFrame()\n",
    "# test_lv1 = pd.DataFrame()\n",
    "\n",
    "# oof_lv1['lgb1983'] = oof_lv1_lgb1983\n",
    "# test_lv1['lgb1983'] = test_lv1_lgb1983\n",
    "# oof_lv1['lgb42'] = oof_lv1_lgb42\n",
    "# test_lv1['lgb42'] = test_lv1_lgb42\n",
    "# oof_lv1['cat1983'] = oof_lv1_cat1983\n",
    "# test_lv1['cat1983'] = test_lv1_cat1983\n",
    "# oof_lv1['cat42'] = oof_lv1_cat42\n",
    "# test_lv1['cat42'] = test_lv1_cat42\n",
    "# oof_lv1['xgb1983'] = oof_lv1_xgb1983\n",
    "# test_lv1['xgb1983'] = test_lv1_xgb1983\n",
    "# oof_lv1['xgb42'] = oof_lv1_xgb42\n",
    "# test_lv1['xgb42'] = test_lv1_xgb42\n",
    "\n"
   ]
  },
  {
   "cell_type": "markdown",
   "id": "128ea342-3882-498f-a970-108d71d72ded",
   "metadata": {},
   "source": [
    "### Loading Sets of Predictions"
   ]
  },
  {
   "cell_type": "code",
   "execution_count": 37,
   "id": "2128656e-dafe-43ec-bbe9-c30734573f81",
   "metadata": {},
   "outputs": [],
   "source": [
    "# oof_lv1, test_lv1 = pd.DataFrame(), pd.DataFrame()\n",
    "# preds_path = Path('/media/sf/easystore/kaggle_data/tabular_playgrounds/sep2021/preds/')"
   ]
  },
  {
   "cell_type": "code",
   "execution_count": 38,
   "id": "184ef71b-afd2-4a31-848d-f9ca2525ffeb",
   "metadata": {},
   "outputs": [],
   "source": [
    "# oof_lv1['xgb42'] = load(predpath/'stacking_manual_20211005_085253_xgboost_5folds_rs42_oof_preds.joblib')\n",
    "# test_lv1['xgb42'] = load(preds_path/'stacking_manual_20210925_212129_xgboost_5folds_rs42_test_preds.joblib')"
   ]
  },
  {
   "cell_type": "code",
   "execution_count": 39,
   "id": "4f493f20-3a8a-40e4-81d7-6107753ac744",
   "metadata": {},
   "outputs": [],
   "source": [
    "# oof_lv_xgb42_y = load(predpath/'stacking_manual_20211005_085253_xgboost_5folds_rs42_oof_y.joblib')"
   ]
  },
  {
   "cell_type": "code",
   "execution_count": 40,
   "id": "9ed26a0f-9eac-4f43-8160-1c81f06cf981",
   "metadata": {},
   "outputs": [],
   "source": [
    "# roc_auc_score(y_true=oof_lv_xgb42_y, y_score=oof_lv1['xgb42'])"
   ]
  },
  {
   "cell_type": "code",
   "execution_count": 41,
   "id": "0681cec6-4290-429a-991f-0a3305893075",
   "metadata": {},
   "outputs": [],
   "source": [
    "# oof_lv1['xgb1983'] = load(preds_path/'validAUC_0.8146252172737458_stacking_manual_20210926_211701_xgboost_5folds_rs1983_oof_preds.joblib')\n",
    "# test_lv1['xgb1983'] = load(preds_path/'stacking_manual_20210926_211701_xgboost_5folds_rs1983_test_preds.joblib')"
   ]
  },
  {
   "cell_type": "code",
   "execution_count": 42,
   "id": "7f59039c-2dc1-49f2-9fc5-311977ac1706",
   "metadata": {},
   "outputs": [],
   "source": [
    "# oof_lv1['lgb42'] = load(preds_path/'validAUC_0.8156810521798477_stacking_manual_20210925_212129_lightgbm_5folds_rs42_oof_preds.joblib')\n",
    "# test_lv1['lgb42'] = load(preds_path/'stacking_manual_20210925_212129_lightgbm_5folds_rs42_test_preds.joblib')"
   ]
  },
  {
   "cell_type": "code",
   "execution_count": 43,
   "id": "58c301c0-35dd-48f2-8719-47c8247c205d",
   "metadata": {},
   "outputs": [],
   "source": [
    "# oof_lv1['lgb1983'] = load(preds_path/'validAUC_0.8156503194185875_stacking_manual_20210925_212129_lightgbm_5folds_rs1983_oof_preds.joblib')\n",
    "# test_lv1['lgb1983'] = load(preds_path/'stacking_manual_20210925_212129_lightgbm_5folds_rs1983_test_preds.joblib')"
   ]
  },
  {
   "cell_type": "code",
   "execution_count": 44,
   "id": "a24b9355-740d-47b9-87ea-e8de0b1e7556",
   "metadata": {},
   "outputs": [],
   "source": [
    "# oof_lv1['cat42'] = load(preds_path/'validAUC_0.8116727090290558_stacking_manual_20210925_212129_catboost_5folds_rs42_oof_preds.joblib')\n",
    "# test_lv1['cat42'] = load(preds_path/'stacking_manual_20210925_212129_catboost_5folds_rs42_test_preds.joblib')"
   ]
  },
  {
   "cell_type": "code",
   "execution_count": 45,
   "id": "c1542a39-c5d1-4785-a3c8-1a990d535d51",
   "metadata": {},
   "outputs": [],
   "source": [
    "# oof_lv1['cat1983'] = load(predpath/'stacking_manual_20211005_085253_catboost_5folds_rs1983_oof_preds.joblib')\n",
    "# oof_cat1983_y = load(predpath/'stacking_manual_20211005_085253_catboost_5folds_rs1983_oof_y.joblib')\n",
    "# roc_auc_score(y_true=oof_cat1983_y, y_score=oof_lv1['cat1983'])\n",
    "# test_lv1['cat1983'] = load(preds_path/'stacking_manual_20210925_212129_catboost_5folds_rs1983_test_preds.joblib')"
   ]
  },
  {
   "cell_type": "code",
   "execution_count": 46,
   "id": "6f3c927d-bf2f-45b5-8852-1c1fb44d690e",
   "metadata": {},
   "outputs": [],
   "source": [
    "# oof_cat42_y = load(predpath/'stacking_manual_20211005_085253_catboost_5folds_rs42_oof_y.joblib')"
   ]
  },
  {
   "cell_type": "code",
   "execution_count": 47,
   "id": "753b2247-a987-4cb1-8f7f-11b74e1fe6ac",
   "metadata": {},
   "outputs": [],
   "source": [
    "# oof_cat42_y == oof_lv_xgb42_y"
   ]
  },
  {
   "cell_type": "code",
   "execution_count": 48,
   "id": "85efac1b-596c-489d-a606-50a55c5d67c2",
   "metadata": {},
   "outputs": [],
   "source": [
    "# oof_lv1.iloc[:20, :]"
   ]
  },
  {
   "cell_type": "code",
   "execution_count": 49,
   "id": "41eec67d-7891-4ac0-884d-d098577bdf03",
   "metadata": {
    "tags": []
   },
   "outputs": [],
   "source": [
    "# oof_y_pd.iloc[:20]"
   ]
  },
  {
   "cell_type": "markdown",
   "id": "79a7c3a6-2707-4177-abf8-95992f572852",
   "metadata": {},
   "source": [
    "- Why is it that the random seed seems far more important than the model type in making a prediction???"
   ]
  },
  {
   "cell_type": "markdown",
   "id": "a964b810-db49-49c0-9deb-999a189e4939",
   "metadata": {},
   "source": [
    "### Serialization"
   ]
  },
  {
   "cell_type": "code",
   "execution_count": 60,
   "id": "6290a8eb-07f1-4917-8073-8bcced8bde39",
   "metadata": {},
   "outputs": [
    {
     "data": {
      "text/html": [
       "<div>\n",
       "<style scoped>\n",
       "    .dataframe tbody tr th:only-of-type {\n",
       "        vertical-align: middle;\n",
       "    }\n",
       "\n",
       "    .dataframe tbody tr th {\n",
       "        vertical-align: top;\n",
       "    }\n",
       "\n",
       "    .dataframe thead th {\n",
       "        text-align: right;\n",
       "    }\n",
       "</style>\n",
       "<table border=\"1\" class=\"dataframe\">\n",
       "  <thead>\n",
       "    <tr style=\"text-align: right;\">\n",
       "      <th></th>\n",
       "      <th>lgb42</th>\n",
       "      <th>lgb1983</th>\n",
       "      <th>xgb42</th>\n",
       "      <th>xgb1983</th>\n",
       "      <th>cat42</th>\n",
       "      <th>cat1983</th>\n",
       "      <th>tabmlp42</th>\n",
       "      <th>tabmlp1983</th>\n",
       "    </tr>\n",
       "  </thead>\n",
       "  <tbody>\n",
       "    <tr>\n",
       "      <th>0</th>\n",
       "      <td>0.589611</td>\n",
       "      <td>0.651299</td>\n",
       "      <td>0.627152</td>\n",
       "      <td>0.666962</td>\n",
       "      <td>0.617215</td>\n",
       "      <td>0.637863</td>\n",
       "      <td>0.517801</td>\n",
       "      <td>0.523073</td>\n",
       "    </tr>\n",
       "    <tr>\n",
       "      <th>1</th>\n",
       "      <td>0.977506</td>\n",
       "      <td>0.979994</td>\n",
       "      <td>0.975591</td>\n",
       "      <td>0.976313</td>\n",
       "      <td>0.998443</td>\n",
       "      <td>0.978872</td>\n",
       "      <td>0.966934</td>\n",
       "      <td>0.969927</td>\n",
       "    </tr>\n",
       "    <tr>\n",
       "      <th>2</th>\n",
       "      <td>0.712757</td>\n",
       "      <td>0.727006</td>\n",
       "      <td>0.674095</td>\n",
       "      <td>0.670068</td>\n",
       "      <td>0.692972</td>\n",
       "      <td>0.695742</td>\n",
       "      <td>0.764769</td>\n",
       "      <td>0.683457</td>\n",
       "    </tr>\n",
       "    <tr>\n",
       "      <th>3</th>\n",
       "      <td>0.284891</td>\n",
       "      <td>0.307745</td>\n",
       "      <td>0.294775</td>\n",
       "      <td>0.321891</td>\n",
       "      <td>0.289597</td>\n",
       "      <td>0.281502</td>\n",
       "      <td>0.197155</td>\n",
       "      <td>0.326599</td>\n",
       "    </tr>\n",
       "    <tr>\n",
       "      <th>4</th>\n",
       "      <td>0.081467</td>\n",
       "      <td>0.085114</td>\n",
       "      <td>0.069561</td>\n",
       "      <td>0.071851</td>\n",
       "      <td>0.025563</td>\n",
       "      <td>0.061077</td>\n",
       "      <td>0.071227</td>\n",
       "      <td>0.035203</td>\n",
       "    </tr>\n",
       "  </tbody>\n",
       "</table>\n",
       "</div>"
      ],
      "text/plain": [
       "      lgb42   lgb1983     xgb42   xgb1983     cat42   cat1983  tabmlp42  \\\n",
       "0  0.589611  0.651299  0.627152  0.666962  0.617215  0.637863  0.517801   \n",
       "1  0.977506  0.979994  0.975591  0.976313  0.998443  0.978872  0.966934   \n",
       "2  0.712757  0.727006  0.674095  0.670068  0.692972  0.695742  0.764769   \n",
       "3  0.284891  0.307745  0.294775  0.321891  0.289597  0.281502  0.197155   \n",
       "4  0.081467  0.085114  0.069561  0.071851  0.025563  0.061077  0.071227   \n",
       "\n",
       "   tabmlp1983  \n",
       "0    0.523073  \n",
       "1    0.969927  \n",
       "2    0.683457  \n",
       "3    0.326599  \n",
       "4    0.035203  "
      ]
     },
     "execution_count": 60,
     "metadata": {},
     "output_type": "execute_result"
    }
   ],
   "source": [
    "oof_lv1.head()"
   ]
  },
  {
   "cell_type": "code",
   "execution_count": 61,
   "id": "fade7952-fc06-4fcf-a77a-543664972b8e",
   "metadata": {},
   "outputs": [
    {
     "name": "stderr",
     "output_type": "stream",
     "text": [
      "/home/sf/anaconda3/envs/tabular-x/lib/python3.8/site-packages/ipykernel/ipkernel.py:287: DeprecationWarning: `should_run_async` will not call `transform_cell` automatically in the future. Please pass the result to `transformed_cell` argument and any exception that happen during thetransform in `preprocessing_exc_tuple` in IPython 7.17 and above.\n",
      "  and should_run_async(code)\n"
     ]
    },
    {
     "data": {
      "text/html": [
       "<div>\n",
       "<style scoped>\n",
       "    .dataframe tbody tr th:only-of-type {\n",
       "        vertical-align: middle;\n",
       "    }\n",
       "\n",
       "    .dataframe tbody tr th {\n",
       "        vertical-align: top;\n",
       "    }\n",
       "\n",
       "    .dataframe thead th {\n",
       "        text-align: right;\n",
       "    }\n",
       "</style>\n",
       "<table border=\"1\" class=\"dataframe\">\n",
       "  <thead>\n",
       "    <tr style=\"text-align: right;\">\n",
       "      <th></th>\n",
       "      <th>lgb42</th>\n",
       "      <th>lgb1983</th>\n",
       "      <th>xgb42</th>\n",
       "      <th>xgb1983</th>\n",
       "      <th>cat42</th>\n",
       "      <th>cat1983</th>\n",
       "      <th>tabmlp42</th>\n",
       "      <th>tabmlp1983</th>\n",
       "    </tr>\n",
       "  </thead>\n",
       "  <tbody>\n",
       "    <tr>\n",
       "      <th>0</th>\n",
       "      <td>0.705919</td>\n",
       "      <td>0.716279</td>\n",
       "      <td>0.742503</td>\n",
       "      <td>0.744670</td>\n",
       "      <td>0.697371</td>\n",
       "      <td>0.742959</td>\n",
       "      <td>0.675174</td>\n",
       "      <td>0.667623</td>\n",
       "    </tr>\n",
       "    <tr>\n",
       "      <th>1</th>\n",
       "      <td>0.229481</td>\n",
       "      <td>0.227226</td>\n",
       "      <td>0.263515</td>\n",
       "      <td>0.255078</td>\n",
       "      <td>0.281691</td>\n",
       "      <td>0.236283</td>\n",
       "      <td>0.280769</td>\n",
       "      <td>0.241168</td>\n",
       "    </tr>\n",
       "    <tr>\n",
       "      <th>2</th>\n",
       "      <td>0.910173</td>\n",
       "      <td>0.907678</td>\n",
       "      <td>0.909820</td>\n",
       "      <td>0.903481</td>\n",
       "      <td>0.923829</td>\n",
       "      <td>0.908473</td>\n",
       "      <td>0.850372</td>\n",
       "      <td>0.862173</td>\n",
       "    </tr>\n",
       "    <tr>\n",
       "      <th>3</th>\n",
       "      <td>0.792741</td>\n",
       "      <td>0.812557</td>\n",
       "      <td>0.861400</td>\n",
       "      <td>0.860360</td>\n",
       "      <td>0.827925</td>\n",
       "      <td>0.844619</td>\n",
       "      <td>0.793903</td>\n",
       "      <td>0.827527</td>\n",
       "    </tr>\n",
       "    <tr>\n",
       "      <th>4</th>\n",
       "      <td>0.291263</td>\n",
       "      <td>0.282562</td>\n",
       "      <td>0.261821</td>\n",
       "      <td>0.262067</td>\n",
       "      <td>0.299697</td>\n",
       "      <td>0.267734</td>\n",
       "      <td>0.275253</td>\n",
       "      <td>0.271981</td>\n",
       "    </tr>\n",
       "  </tbody>\n",
       "</table>\n",
       "</div>"
      ],
      "text/plain": [
       "      lgb42   lgb1983     xgb42   xgb1983     cat42   cat1983  tabmlp42  \\\n",
       "0  0.705919  0.716279  0.742503  0.744670  0.697371  0.742959  0.675174   \n",
       "1  0.229481  0.227226  0.263515  0.255078  0.281691  0.236283  0.280769   \n",
       "2  0.910173  0.907678  0.909820  0.903481  0.923829  0.908473  0.850372   \n",
       "3  0.792741  0.812557  0.861400  0.860360  0.827925  0.844619  0.793903   \n",
       "4  0.291263  0.282562  0.261821  0.262067  0.299697  0.267734  0.275253   \n",
       "\n",
       "   tabmlp1983  \n",
       "0    0.667623  \n",
       "1    0.241168  \n",
       "2    0.862173  \n",
       "3    0.827527  \n",
       "4    0.271981  "
      ]
     },
     "execution_count": 61,
     "metadata": {},
     "output_type": "execute_result"
    }
   ],
   "source": [
    "test_lv1.head()"
   ]
  },
  {
   "cell_type": "code",
   "execution_count": 52,
   "id": "4dc05052-1105-4a9a-8fbe-c3a3b59b2426",
   "metadata": {},
   "outputs": [],
   "source": [
    "# oof_lv1.to_csv('oof_lv1.csv', index=False)\n",
    "# test_lv1.to_csv('test_lv1.csv', index=False)"
   ]
  },
  {
   "cell_type": "code",
   "execution_count": 62,
   "id": "877cd565-c4ed-436e-b230-1bd4487354da",
   "metadata": {},
   "outputs": [
    {
     "name": "stderr",
     "output_type": "stream",
     "text": [
      "/home/sf/anaconda3/envs/tabular-x/lib/python3.8/site-packages/ipykernel/ipkernel.py:287: DeprecationWarning: `should_run_async` will not call `transform_cell` automatically in the future. Please pass the result to `transformed_cell` argument and any exception that happen during thetransform in `preprocessing_exc_tuple` in IPython 7.17 and above.\n",
      "  and should_run_async(code)\n"
     ]
    }
   ],
   "source": [
    "oof_lv1.to_feather(predpath/f\"{wandb_config['name']}_oof_lv1.feather\")\n",
    "test_lv1.to_feather(predpath/f\"{wandb_config['name']}_test_lv1.feather\")"
   ]
  },
  {
   "cell_type": "markdown",
   "id": "70bc7cef-5989-400f-8524-cf59233d3e4b",
   "metadata": {},
   "source": [
    "### Lv1 Finalization"
   ]
  },
  {
   "cell_type": "code",
   "execution_count": 63,
   "id": "dd5828bc-e0d1-4b26-b1ed-33b26116f367",
   "metadata": {},
   "outputs": [],
   "source": [
    "# oof_lv1 = pd.read_feather(predpath/f\"stacking_manual_20211005_205933_oof_lv1.feather\")#, columns=[str(x) for x in range()])\n",
    "# test_lv1 = pd.read_feather(predpath/f\"stacking_manual_20211005_205933_test_lv1.feather\")\n",
    "oof_y = load(predpath/f\"{exmodel_config['kfolds']}folds_rs{SEED}_oof_y.joblib\")"
   ]
  },
  {
   "cell_type": "code",
   "execution_count": 67,
   "id": "c862664a-b97b-4f47-ac4f-a594747d6c7e",
   "metadata": {},
   "outputs": [
    {
     "ename": "NameError",
     "evalue": "name 'oof_lv1_lgb42' is not defined",
     "output_type": "error",
     "traceback": [
      "\u001b[0;31m---------------------------------------------------------------------------\u001b[0m",
      "\u001b[0;31mNameError\u001b[0m                                 Traceback (most recent call last)",
      "\u001b[0;32m<ipython-input-67-3a463bc86383>\u001b[0m in \u001b[0;36m<module>\u001b[0;34m\u001b[0m\n\u001b[0;32m----> 1\u001b[0;31m \u001b[0;32mdel\u001b[0m \u001b[0moof_lv1_lgb42\u001b[0m\u001b[0;34m,\u001b[0m \u001b[0moof_lv1_lgb1983\u001b[0m\u001b[0;34m,\u001b[0m \u001b[0moof_lv1_cat42\u001b[0m\u001b[0;34m,\u001b[0m \u001b[0moof_lv1_cat1983\u001b[0m\u001b[0;34m,\u001b[0m \u001b[0mtest_lv1_xgb42\u001b[0m\u001b[0;34m,\u001b[0m \u001b[0mtest_lv1_xgb1983\u001b[0m\u001b[0;34m,\u001b[0m \u001b[0mtest_lv1_lgb42\u001b[0m\u001b[0;34m,\u001b[0m \u001b[0mtest_lv1_lgb1983\u001b[0m\u001b[0;34m\u001b[0m\u001b[0;34m\u001b[0m\u001b[0m\n\u001b[0m",
      "\u001b[0;31mNameError\u001b[0m: name 'oof_lv1_lgb42' is not defined"
     ]
    }
   ],
   "source": [
    "# del oof_lv1_lgb42, oof_lv1_lgb1983, oof_lv1_cat42, oof_lv1_cat1983, test_lv1_xgb42, test_lv1_xgb1983, test_lv1_lgb42, test_lv1_lgb1983"
   ]
  },
  {
   "cell_type": "code",
   "execution_count": 68,
   "id": "3098e778-eb53-4a65-baaf-5cd0ffb7bfa6",
   "metadata": {},
   "outputs": [],
   "source": [
    "# oof_lv1['target'] = oof_y"
   ]
  },
  {
   "cell_type": "code",
   "execution_count": 69,
   "id": "638ed3d3-0b02-468f-827e-bfcb263f6949",
   "metadata": {
    "tags": []
   },
   "outputs": [],
   "source": [
    "# oof_lv1.iloc[:30,:]"
   ]
  },
  {
   "cell_type": "code",
   "execution_count": 70,
   "id": "8757335c-defe-4f2d-839e-66340b4bde3c",
   "metadata": {},
   "outputs": [],
   "source": [
    "# roc_auc_score(y_score=oof_lv1['lgb1983'], y_true=oof_y) # 0.5002913418201236 from original, bad version"
   ]
  },
  {
   "cell_type": "markdown",
   "id": "dffc8387-6ae7-4ab2-8ee3-f2cf8aa6f8c4",
   "metadata": {},
   "source": [
    "**SO THERE'S SOMETHING WRONG WITH THE TARGET**"
   ]
  },
  {
   "cell_type": "code",
   "execution_count": 72,
   "id": "f427ba83-b376-4961-b3ff-ea09a256914d",
   "metadata": {},
   "outputs": [],
   "source": [
    "# def regenerate_targets(X=X_train, y=y_train):\n",
    "#     kfold = exmodel_config['cross_val_strategy'](n_splits=exmodel_config['kfolds'], shuffle=True, random_state=SEED)\n",
    "#     oof_y = []\n",
    "#     for fold, (train_ids, valid_ids) in enumerate(kfold.split(X,y)):\n",
    "# #         X_train, X_valid = X[train_ids], X[valid_ids]\n",
    "#         y_train, y_valid = y[train_ids], y[valid_ids]\n",
    "#         oof_y.extend(y_valid)\n",
    "#     return oof_y"
   ]
  },
  {
   "cell_type": "code",
   "execution_count": 73,
   "id": "bb6c938a-6a8d-48b5-9879-516b93b47447",
   "metadata": {},
   "outputs": [],
   "source": [
    "# oof_y_restored = regenerate_targets()"
   ]
  },
  {
   "cell_type": "code",
   "execution_count": 74,
   "id": "8de778c2-2c16-422d-b65d-437eb30f6b3f",
   "metadata": {},
   "outputs": [],
   "source": [
    "# oof_y[:20]"
   ]
  },
  {
   "cell_type": "code",
   "execution_count": 75,
   "id": "40452124-f33d-491a-ba74-79e8210c5760",
   "metadata": {},
   "outputs": [],
   "source": [
    "# oof_y_restored[:20]"
   ]
  },
  {
   "cell_type": "code",
   "execution_count": 76,
   "id": "a931314f-e2bf-44f2-a1c4-8e10d7fd6f28",
   "metadata": {},
   "outputs": [],
   "source": [
    "# roc_auc_score(y_score=oof_lv1['lgb1983'], y_true=oof_y_restored) # 0.8564776078917813 from fixed version, via `regenerate_targets`"
   ]
  },
  {
   "cell_type": "markdown",
   "id": "743826bf-29a1-47d0-9977-5be8e5e8f1cb",
   "metadata": {},
   "source": [
    "There we go"
   ]
  },
  {
   "cell_type": "code",
   "execution_count": 77,
   "id": "7f50a5de-5fba-43de-afa6-d450a0938d75",
   "metadata": {},
   "outputs": [],
   "source": [
    "# dump(oof_y_restored, predpath/f\"{exmodel_config['kfolds']}folds_rs{SEED}_oof_y.joblib\")"
   ]
  },
  {
   "cell_type": "code",
   "execution_count": 78,
   "id": "c2ae0b11-b95d-43d5-b4dc-5dd6f54e1290",
   "metadata": {},
   "outputs": [],
   "source": [
    "# oof_lv1.index.name = 'id'\n",
    "# test_lv1.index.name = 'id'\n",
    "# oof_y.index.name = 'id'\n",
    "oof_lv1 = np.array(oof_lv1)\n",
    "test_lv1 = np.array(test_lv1)\n",
    "oof_y = np.array(oof_y)"
   ]
  },
  {
   "cell_type": "markdown",
   "id": "368e3ba4-981d-4a86-b181-66a43aed8285",
   "metadata": {},
   "source": [
    "## Level Two"
   ]
  },
  {
   "cell_type": "code",
   "execution_count": 79,
   "id": "5ea5ac76-c5ab-4ae7-8e56-2eaf2f52f4d7",
   "metadata": {},
   "outputs": [],
   "source": [
    "oof_lv2, test_lv2 = pd.DataFrame(), pd.DataFrame()"
   ]
  },
  {
   "cell_type": "code",
   "execution_count": 80,
   "id": "aa61d2f0-a14f-4192-8d75-29899946b686",
   "metadata": {
    "tags": []
   },
   "outputs": [
    {
     "name": "stdout",
     "output_type": "stream",
     "text": [
      "FOLD 0\n",
      "---------------------------------------------------\n",
      "[21:50:55] WARNING: ../src/learner.cc:1095: Starting in XGBoost 1.3.0, the default evaluation metric used with the objective 'binary:logistic' was changed from 'error' to 'logloss'. Explicitly set eval_metric if you'd like to restore the old behavior.\n"
     ]
    },
    {
     "name": "stderr",
     "output_type": "stream",
     "text": [
      "/home/sf/anaconda3/envs/tabular-x/lib/python3.8/site-packages/xgboost/sklearn.py:1146: UserWarning: The use of label encoder in XGBClassifier is deprecated and will be removed in a future release. To remove this warning, do the following: 1) Pass option use_label_encoder=False when constructing XGBClassifier object; and 2) Encode your labels (y) as integers starting with 0, i.e. 0, 1, 2, ..., [num_class - 1].\n",
      "  warnings.warn(label_encoder_deprecation_msg, UserWarning)\n"
     ]
    },
    {
     "name": "stdout",
     "output_type": "stream",
     "text": [
      "Valid AUC for fold 0 is 0.8577202863454728\n",
      "FOLD 1\n",
      "---------------------------------------------------\n"
     ]
    },
    {
     "name": "stderr",
     "output_type": "stream",
     "text": [
      "/home/sf/anaconda3/envs/tabular-x/lib/python3.8/site-packages/xgboost/sklearn.py:1146: UserWarning: The use of label encoder in XGBClassifier is deprecated and will be removed in a future release. To remove this warning, do the following: 1) Pass option use_label_encoder=False when constructing XGBClassifier object; and 2) Encode your labels (y) as integers starting with 0, i.e. 0, 1, 2, ..., [num_class - 1].\n",
      "  warnings.warn(label_encoder_deprecation_msg, UserWarning)\n"
     ]
    },
    {
     "name": "stdout",
     "output_type": "stream",
     "text": [
      "[21:51:03] WARNING: ../src/learner.cc:1095: Starting in XGBoost 1.3.0, the default evaluation metric used with the objective 'binary:logistic' was changed from 'error' to 'logloss'. Explicitly set eval_metric if you'd like to restore the old behavior.\n",
      "Valid AUC for fold 1 is 0.8564854813369533\n",
      "FOLD 2\n",
      "---------------------------------------------------\n"
     ]
    },
    {
     "name": "stderr",
     "output_type": "stream",
     "text": [
      "/home/sf/anaconda3/envs/tabular-x/lib/python3.8/site-packages/xgboost/sklearn.py:1146: UserWarning: The use of label encoder in XGBClassifier is deprecated and will be removed in a future release. To remove this warning, do the following: 1) Pass option use_label_encoder=False when constructing XGBClassifier object; and 2) Encode your labels (y) as integers starting with 0, i.e. 0, 1, 2, ..., [num_class - 1].\n",
      "  warnings.warn(label_encoder_deprecation_msg, UserWarning)\n"
     ]
    },
    {
     "name": "stdout",
     "output_type": "stream",
     "text": [
      "[21:51:12] WARNING: ../src/learner.cc:1095: Starting in XGBoost 1.3.0, the default evaluation metric used with the objective 'binary:logistic' was changed from 'error' to 'logloss'. Explicitly set eval_metric if you'd like to restore the old behavior.\n",
      "Valid AUC for fold 2 is 0.8575762043587294\n",
      "FOLD 3\n",
      "---------------------------------------------------\n"
     ]
    },
    {
     "name": "stderr",
     "output_type": "stream",
     "text": [
      "/home/sf/anaconda3/envs/tabular-x/lib/python3.8/site-packages/xgboost/sklearn.py:1146: UserWarning: The use of label encoder in XGBClassifier is deprecated and will be removed in a future release. To remove this warning, do the following: 1) Pass option use_label_encoder=False when constructing XGBClassifier object; and 2) Encode your labels (y) as integers starting with 0, i.e. 0, 1, 2, ..., [num_class - 1].\n",
      "  warnings.warn(label_encoder_deprecation_msg, UserWarning)\n"
     ]
    },
    {
     "name": "stdout",
     "output_type": "stream",
     "text": [
      "[21:51:21] WARNING: ../src/learner.cc:1095: Starting in XGBoost 1.3.0, the default evaluation metric used with the objective 'binary:logistic' was changed from 'error' to 'logloss'. Explicitly set eval_metric if you'd like to restore the old behavior.\n",
      "Valid AUC for fold 3 is 0.8564854476368184\n",
      "FOLD 4\n",
      "---------------------------------------------------\n"
     ]
    },
    {
     "name": "stderr",
     "output_type": "stream",
     "text": [
      "/home/sf/anaconda3/envs/tabular-x/lib/python3.8/site-packages/xgboost/sklearn.py:1146: UserWarning: The use of label encoder in XGBClassifier is deprecated and will be removed in a future release. To remove this warning, do the following: 1) Pass option use_label_encoder=False when constructing XGBClassifier object; and 2) Encode your labels (y) as integers starting with 0, i.e. 0, 1, 2, ..., [num_class - 1].\n",
      "  warnings.warn(label_encoder_deprecation_msg, UserWarning)\n"
     ]
    },
    {
     "name": "stdout",
     "output_type": "stream",
     "text": [
      "[21:51:29] WARNING: ../src/learner.cc:1095: Starting in XGBoost 1.3.0, the default evaluation metric used with the objective 'binary:logistic' was changed from 'error' to 'logloss'. Explicitly set eval_metric if you'd like to restore the old behavior.\n",
      "Valid AUC for fold 4 is 0.8570768676417139\n",
      "Valid AUC score for xgboost model is 0.8570391151841034\n"
     ]
    },
    {
     "data": {
      "text/plain": [
       "['/home/sf/code/kaggle/tabular_playgrounds/oct2021/preds/stacking_manual_20211011_092728_test_lv2_xgboost42_preds.joblib']"
      ]
     },
     "execution_count": 80,
     "metadata": {},
     "output_type": "execute_result"
    }
   ],
   "source": [
    "oof_lv2_xgb42, test_lv2_xgb42 = cross_validate_model(library='xgboost', X=oof_lv1, y=oof_y, X_test=test_lv1, \n",
    "                                         wandb_config=wandb_config,\n",
    "                                         random_state=42,\n",
    "                                         params=best_xgboost_params,\n",
    "                                         exmodel_config=exmodel_config, \n",
    "                                         shuffle_kfolds=False,\n",
    "                                         wandb_tracked=False\n",
    "                                        )\n",
    "\n",
    "dump(oof_lv2_xgb42, predpath/f\"{wandb_config['name']}_oof_lv2_xgboost42_preds.joblib\")\n",
    "dump(test_lv2_xgb42, predpath/f\"{wandb_config['name']}_test_lv2_xgboost42_preds.joblib\")\n",
    "\n"
   ]
  },
  {
   "cell_type": "code",
   "execution_count": 81,
   "id": "00db765d-db36-4c90-858b-bc8708cf9331",
   "metadata": {},
   "outputs": [
    {
     "name": "stderr",
     "output_type": "stream",
     "text": [
      "/home/sf/anaconda3/envs/tabular-x/lib/python3.8/site-packages/ipykernel/ipkernel.py:287: DeprecationWarning: `should_run_async` will not call `transform_cell` automatically in the future. Please pass the result to `transformed_cell` argument and any exception that happen during thetransform in `preprocessing_exc_tuple` in IPython 7.17 and above.\n",
      "  and should_run_async(code)\n"
     ]
    }
   ],
   "source": [
    "# oof_xgb_f0_rs1983 = load('/media/sf/easystore/kaggle_data/tabular_playgrounds/sep2021/models/stacking_manual_20210926_211701_xgboost_5folds/xgboost_fold0_model.joblib')\n",
    "# oof_xgb_f0_rs42 = load('/media/sf/easystore/kaggle_data/tabular_playgrounds/sep2021/models/stacking_manual_20210925_212129_xgboost_5folds/xgboost_fold0_model.joblib')"
   ]
  },
  {
   "cell_type": "code",
   "execution_count": 82,
   "id": "bf9ac76c-cafa-4831-b856-37663b4ec276",
   "metadata": {
    "tags": []
   },
   "outputs": [
    {
     "name": "stdout",
     "output_type": "stream",
     "text": [
      "FOLD 0\n",
      "---------------------------------------------------\n",
      "Valid AUC for fold 0 is 0.8573228581387562\n",
      "FOLD 1\n",
      "---------------------------------------------------\n",
      "Valid AUC for fold 1 is 0.8559621775783263\n",
      "FOLD 2\n",
      "---------------------------------------------------\n",
      "Valid AUC for fold 2 is 0.8571996944525527\n",
      "FOLD 3\n",
      "---------------------------------------------------\n",
      "Valid AUC for fold 3 is 0.8560668401235401\n",
      "FOLD 4\n",
      "---------------------------------------------------\n",
      "Valid AUC for fold 4 is 0.8565969696863505\n",
      "Valid AUC score for catboost model is 0.856613188427349\n"
     ]
    }
   ],
   "source": [
    "oof_lv2_cat42, test_lv2_cat42 = cross_validate_model(library='catboost', X=oof_lv1, y=oof_y, X_test=test_lv1, \n",
    "                                         wandb_config=wandb_config,\n",
    "                                         random_state=42,\n",
    "                                         params=best_catboost_params,\n",
    "                                         exmodel_config=exmodel_config, \n",
    "                                         shuffle_kfolds=False,\n",
    "                                         wandb_tracked=False\n",
    "                                        )"
   ]
  },
  {
   "cell_type": "code",
   "execution_count": 83,
   "id": "4b9ca079-d826-4991-8377-3bd3988b3fdd",
   "metadata": {},
   "outputs": [
    {
     "name": "stderr",
     "output_type": "stream",
     "text": [
      "/home/sf/anaconda3/envs/tabular-x/lib/python3.8/site-packages/ipykernel/ipkernel.py:287: DeprecationWarning: `should_run_async` will not call `transform_cell` automatically in the future. Please pass the result to `transformed_cell` argument and any exception that happen during thetransform in `preprocessing_exc_tuple` in IPython 7.17 and above.\n",
      "  and should_run_async(code)\n"
     ]
    },
    {
     "data": {
      "text/plain": [
       "['/home/sf/code/kaggle/tabular_playgrounds/oct2021/preds/stacking_manual_20211011_092728_test_lv2_catboost42_preds.joblib']"
      ]
     },
     "execution_count": 83,
     "metadata": {},
     "output_type": "execute_result"
    }
   ],
   "source": [
    "dump(oof_lv2_cat42, predpath/f\"{wandb_config['name']}_oof_lv2_catboost42_preds.joblib\")\n",
    "dump(test_lv2_cat42, predpath/f\"{wandb_config['name']}_test_lv2_catboost42_preds.joblib\")"
   ]
  },
  {
   "cell_type": "code",
   "execution_count": 84,
   "id": "cf17be39-6ef1-4387-b1d2-e1ffa677093f",
   "metadata": {
    "tags": []
   },
   "outputs": [
    {
     "name": "stdout",
     "output_type": "stream",
     "text": [
      "FOLD 0\n",
      "---------------------------------------------------\n",
      "Valid AUC for fold 0 is 0.8573649549394676\n",
      "FOLD 1\n",
      "---------------------------------------------------\n",
      "Valid AUC for fold 1 is 0.8560835095975796\n",
      "FOLD 2\n",
      "---------------------------------------------------\n",
      "Valid AUC for fold 2 is 0.8572661930389673\n",
      "FOLD 3\n",
      "---------------------------------------------------\n",
      "Valid AUC for fold 3 is 0.856140245272314\n",
      "FOLD 4\n",
      "---------------------------------------------------\n",
      "Valid AUC for fold 4 is 0.856681672252205\n",
      "Valid AUC score for lightgbm model is 0.8566881890659169\n"
     ]
    }
   ],
   "source": [
    "\n",
    "oof_lv2_lgb42, test_lv2_lgb42 = cross_validate_model(library='lightgbm', X=oof_lv1, y=oof_y, X_test=test_lv1, \n",
    "                                         wandb_config=wandb_config,\n",
    "                                         random_state=42,\n",
    "                                         params=best_lightgbm_params,\n",
    "                                         exmodel_config=exmodel_config,\n",
    "                                         shuffle_kfolds=False,\n",
    "                                         wandb_tracked=False\n",
    "                                        )"
   ]
  },
  {
   "cell_type": "code",
   "execution_count": 85,
   "id": "9a7ef2ec-4539-4aaa-8a87-ce76eb8be564",
   "metadata": {},
   "outputs": [
    {
     "name": "stderr",
     "output_type": "stream",
     "text": [
      "/home/sf/anaconda3/envs/tabular-x/lib/python3.8/site-packages/ipykernel/ipkernel.py:287: DeprecationWarning: `should_run_async` will not call `transform_cell` automatically in the future. Please pass the result to `transformed_cell` argument and any exception that happen during thetransform in `preprocessing_exc_tuple` in IPython 7.17 and above.\n",
      "  and should_run_async(code)\n"
     ]
    },
    {
     "data": {
      "text/plain": [
       "['/home/sf/code/kaggle/tabular_playgrounds/oct2021/preds/stacking_manual_20211011_092728_test_lv2_lightgbm42_preds.joblib']"
      ]
     },
     "execution_count": 85,
     "metadata": {},
     "output_type": "execute_result"
    }
   ],
   "source": [
    "dump(oof_lv2_lgb42, predpath/f\"{wandb_config['name']}_oof_lv2_lightgbm42_preds.joblib\")\n",
    "dump(test_lv2_lgb42, predpath/f\"{wandb_config['name']}_test_lv2_lightgbm42_preds.joblib\")"
   ]
  },
  {
   "cell_type": "code",
   "execution_count": 86,
   "id": "37f14d99-2917-4624-8e58-78818820750a",
   "metadata": {},
   "outputs": [],
   "source": [
    "oof_lv2['xgboost'] = oof_lv2_xgb42\n",
    "oof_lv2['catboost'] = oof_lv2_cat42\n",
    "oof_lv2['lightgbm'] = oof_lv2_lgb42\n",
    "\n",
    "test_lv2['xgboost'] = test_lv2_xgb42\n",
    "test_lv2['catboost'] = test_lv2_cat42\n",
    "test_lv2['lightgbm'] = test_lv2_lgb42"
   ]
  },
  {
   "cell_type": "code",
   "execution_count": 87,
   "id": "4bf889a0-175d-4564-a80c-4a3476aeffc4",
   "metadata": {},
   "outputs": [
    {
     "data": {
      "text/html": [
       "<div>\n",
       "<style scoped>\n",
       "    .dataframe tbody tr th:only-of-type {\n",
       "        vertical-align: middle;\n",
       "    }\n",
       "\n",
       "    .dataframe tbody tr th {\n",
       "        vertical-align: top;\n",
       "    }\n",
       "\n",
       "    .dataframe thead th {\n",
       "        text-align: right;\n",
       "    }\n",
       "</style>\n",
       "<table border=\"1\" class=\"dataframe\">\n",
       "  <thead>\n",
       "    <tr style=\"text-align: right;\">\n",
       "      <th></th>\n",
       "      <th>xgboost</th>\n",
       "      <th>catboost</th>\n",
       "      <th>lightgbm</th>\n",
       "    </tr>\n",
       "  </thead>\n",
       "  <tbody>\n",
       "    <tr>\n",
       "      <th>0</th>\n",
       "      <td>0.591556</td>\n",
       "      <td>0.633439</td>\n",
       "      <td>0.596115</td>\n",
       "    </tr>\n",
       "    <tr>\n",
       "      <th>1</th>\n",
       "      <td>0.999080</td>\n",
       "      <td>0.998620</td>\n",
       "      <td>0.999482</td>\n",
       "    </tr>\n",
       "    <tr>\n",
       "      <th>2</th>\n",
       "      <td>0.672347</td>\n",
       "      <td>0.667398</td>\n",
       "      <td>0.666400</td>\n",
       "    </tr>\n",
       "    <tr>\n",
       "      <th>3</th>\n",
       "      <td>0.323725</td>\n",
       "      <td>0.313328</td>\n",
       "      <td>0.326222</td>\n",
       "    </tr>\n",
       "    <tr>\n",
       "      <th>4</th>\n",
       "      <td>0.026130</td>\n",
       "      <td>0.026472</td>\n",
       "      <td>0.036818</td>\n",
       "    </tr>\n",
       "  </tbody>\n",
       "</table>\n",
       "</div>"
      ],
      "text/plain": [
       "    xgboost  catboost  lightgbm\n",
       "0  0.591556  0.633439  0.596115\n",
       "1  0.999080  0.998620  0.999482\n",
       "2  0.672347  0.667398  0.666400\n",
       "3  0.323725  0.313328  0.326222\n",
       "4  0.026130  0.026472  0.036818"
      ]
     },
     "execution_count": 87,
     "metadata": {},
     "output_type": "execute_result"
    }
   ],
   "source": [
    "oof_lv2.head()"
   ]
  },
  {
   "cell_type": "code",
   "execution_count": 88,
   "id": "b970e9c3-b3de-42b5-8d8b-c17832ecd339",
   "metadata": {},
   "outputs": [
    {
     "name": "stderr",
     "output_type": "stream",
     "text": [
      "/home/sf/anaconda3/envs/tabular-x/lib/python3.8/site-packages/ipykernel/ipkernel.py:287: DeprecationWarning: `should_run_async` will not call `transform_cell` automatically in the future. Please pass the result to `transformed_cell` argument and any exception that happen during thetransform in `preprocessing_exc_tuple` in IPython 7.17 and above.\n",
      "  and should_run_async(code)\n"
     ]
    }
   ],
   "source": [
    "# oof_lv1_df = pd.read_feather(predpath/f\"{wandb_config['name']}_oof_lv1.feather)"
   ]
  },
  {
   "cell_type": "code",
   "execution_count": 89,
   "id": "22f4d4e2-9174-4006-a5f7-47f42a2f5757",
   "metadata": {},
   "outputs": [],
   "source": [
    "oof_lv1 = pd.DataFrame(oof_lv1)"
   ]
  },
  {
   "cell_type": "code",
   "execution_count": 90,
   "id": "7debcf3f-872c-42fb-9945-3b6b54eb9c76",
   "metadata": {},
   "outputs": [
    {
     "data": {
      "text/html": [
       "<div>\n",
       "<style scoped>\n",
       "    .dataframe tbody tr th:only-of-type {\n",
       "        vertical-align: middle;\n",
       "    }\n",
       "\n",
       "    .dataframe tbody tr th {\n",
       "        vertical-align: top;\n",
       "    }\n",
       "\n",
       "    .dataframe thead th {\n",
       "        text-align: right;\n",
       "    }\n",
       "</style>\n",
       "<table border=\"1\" class=\"dataframe\">\n",
       "  <thead>\n",
       "    <tr style=\"text-align: right;\">\n",
       "      <th></th>\n",
       "      <th>0</th>\n",
       "      <th>1</th>\n",
       "      <th>2</th>\n",
       "      <th>3</th>\n",
       "      <th>4</th>\n",
       "      <th>5</th>\n",
       "      <th>6</th>\n",
       "      <th>7</th>\n",
       "    </tr>\n",
       "  </thead>\n",
       "  <tbody>\n",
       "    <tr>\n",
       "      <th>0</th>\n",
       "      <td>0.589611</td>\n",
       "      <td>0.651299</td>\n",
       "      <td>0.627152</td>\n",
       "      <td>0.666962</td>\n",
       "      <td>0.617215</td>\n",
       "      <td>0.637863</td>\n",
       "      <td>0.517801</td>\n",
       "      <td>0.523073</td>\n",
       "    </tr>\n",
       "    <tr>\n",
       "      <th>1</th>\n",
       "      <td>0.977506</td>\n",
       "      <td>0.979994</td>\n",
       "      <td>0.975591</td>\n",
       "      <td>0.976313</td>\n",
       "      <td>0.998443</td>\n",
       "      <td>0.978872</td>\n",
       "      <td>0.966934</td>\n",
       "      <td>0.969927</td>\n",
       "    </tr>\n",
       "    <tr>\n",
       "      <th>2</th>\n",
       "      <td>0.712757</td>\n",
       "      <td>0.727006</td>\n",
       "      <td>0.674095</td>\n",
       "      <td>0.670068</td>\n",
       "      <td>0.692972</td>\n",
       "      <td>0.695742</td>\n",
       "      <td>0.764769</td>\n",
       "      <td>0.683457</td>\n",
       "    </tr>\n",
       "    <tr>\n",
       "      <th>3</th>\n",
       "      <td>0.284891</td>\n",
       "      <td>0.307745</td>\n",
       "      <td>0.294775</td>\n",
       "      <td>0.321891</td>\n",
       "      <td>0.289597</td>\n",
       "      <td>0.281502</td>\n",
       "      <td>0.197155</td>\n",
       "      <td>0.326599</td>\n",
       "    </tr>\n",
       "    <tr>\n",
       "      <th>4</th>\n",
       "      <td>0.081467</td>\n",
       "      <td>0.085114</td>\n",
       "      <td>0.069561</td>\n",
       "      <td>0.071851</td>\n",
       "      <td>0.025563</td>\n",
       "      <td>0.061077</td>\n",
       "      <td>0.071227</td>\n",
       "      <td>0.035203</td>\n",
       "    </tr>\n",
       "  </tbody>\n",
       "</table>\n",
       "</div>"
      ],
      "text/plain": [
       "          0         1         2         3         4         5         6  \\\n",
       "0  0.589611  0.651299  0.627152  0.666962  0.617215  0.637863  0.517801   \n",
       "1  0.977506  0.979994  0.975591  0.976313  0.998443  0.978872  0.966934   \n",
       "2  0.712757  0.727006  0.674095  0.670068  0.692972  0.695742  0.764769   \n",
       "3  0.284891  0.307745  0.294775  0.321891  0.289597  0.281502  0.197155   \n",
       "4  0.081467  0.085114  0.069561  0.071851  0.025563  0.061077  0.071227   \n",
       "\n",
       "          7  \n",
       "0  0.523073  \n",
       "1  0.969927  \n",
       "2  0.683457  \n",
       "3  0.326599  \n",
       "4  0.035203  "
      ]
     },
     "execution_count": 90,
     "metadata": {},
     "output_type": "execute_result"
    }
   ],
   "source": [
    "oof_lv1.head()"
   ]
  },
  {
   "cell_type": "code",
   "execution_count": 91,
   "id": "4a241171-9b43-4205-9156-320687251c8f",
   "metadata": {},
   "outputs": [
    {
     "name": "stderr",
     "output_type": "stream",
     "text": [
      "/home/sf/anaconda3/envs/tabular-x/lib/python3.8/site-packages/ipykernel/ipkernel.py:287: DeprecationWarning: `should_run_async` will not call `transform_cell` automatically in the future. Please pass the result to `transformed_cell` argument and any exception that happen during thetransform in `preprocessing_exc_tuple` in IPython 7.17 and above.\n",
      "  and should_run_async(code)\n"
     ]
    }
   ],
   "source": [
    "oof_lv2_full = oof_lv2.join(oof_lv1)"
   ]
  },
  {
   "cell_type": "code",
   "execution_count": 92,
   "id": "9dbae0dc-79e9-421b-a9ea-a37cb5b17b96",
   "metadata": {},
   "outputs": [
    {
     "data": {
      "text/html": [
       "<div>\n",
       "<style scoped>\n",
       "    .dataframe tbody tr th:only-of-type {\n",
       "        vertical-align: middle;\n",
       "    }\n",
       "\n",
       "    .dataframe tbody tr th {\n",
       "        vertical-align: top;\n",
       "    }\n",
       "\n",
       "    .dataframe thead th {\n",
       "        text-align: right;\n",
       "    }\n",
       "</style>\n",
       "<table border=\"1\" class=\"dataframe\">\n",
       "  <thead>\n",
       "    <tr style=\"text-align: right;\">\n",
       "      <th></th>\n",
       "      <th>xgboost</th>\n",
       "      <th>catboost</th>\n",
       "      <th>lightgbm</th>\n",
       "      <th>0</th>\n",
       "      <th>1</th>\n",
       "      <th>2</th>\n",
       "      <th>3</th>\n",
       "      <th>4</th>\n",
       "      <th>5</th>\n",
       "      <th>6</th>\n",
       "      <th>7</th>\n",
       "    </tr>\n",
       "  </thead>\n",
       "  <tbody>\n",
       "    <tr>\n",
       "      <th>0</th>\n",
       "      <td>0.591556</td>\n",
       "      <td>0.633439</td>\n",
       "      <td>0.596115</td>\n",
       "      <td>0.589611</td>\n",
       "      <td>0.651299</td>\n",
       "      <td>0.627152</td>\n",
       "      <td>0.666962</td>\n",
       "      <td>0.617215</td>\n",
       "      <td>0.637863</td>\n",
       "      <td>0.517801</td>\n",
       "      <td>0.523073</td>\n",
       "    </tr>\n",
       "    <tr>\n",
       "      <th>1</th>\n",
       "      <td>0.999080</td>\n",
       "      <td>0.998620</td>\n",
       "      <td>0.999482</td>\n",
       "      <td>0.977506</td>\n",
       "      <td>0.979994</td>\n",
       "      <td>0.975591</td>\n",
       "      <td>0.976313</td>\n",
       "      <td>0.998443</td>\n",
       "      <td>0.978872</td>\n",
       "      <td>0.966934</td>\n",
       "      <td>0.969927</td>\n",
       "    </tr>\n",
       "    <tr>\n",
       "      <th>2</th>\n",
       "      <td>0.672347</td>\n",
       "      <td>0.667398</td>\n",
       "      <td>0.666400</td>\n",
       "      <td>0.712757</td>\n",
       "      <td>0.727006</td>\n",
       "      <td>0.674095</td>\n",
       "      <td>0.670068</td>\n",
       "      <td>0.692972</td>\n",
       "      <td>0.695742</td>\n",
       "      <td>0.764769</td>\n",
       "      <td>0.683457</td>\n",
       "    </tr>\n",
       "    <tr>\n",
       "      <th>3</th>\n",
       "      <td>0.323725</td>\n",
       "      <td>0.313328</td>\n",
       "      <td>0.326222</td>\n",
       "      <td>0.284891</td>\n",
       "      <td>0.307745</td>\n",
       "      <td>0.294775</td>\n",
       "      <td>0.321891</td>\n",
       "      <td>0.289597</td>\n",
       "      <td>0.281502</td>\n",
       "      <td>0.197155</td>\n",
       "      <td>0.326599</td>\n",
       "    </tr>\n",
       "    <tr>\n",
       "      <th>4</th>\n",
       "      <td>0.026130</td>\n",
       "      <td>0.026472</td>\n",
       "      <td>0.036818</td>\n",
       "      <td>0.081467</td>\n",
       "      <td>0.085114</td>\n",
       "      <td>0.069561</td>\n",
       "      <td>0.071851</td>\n",
       "      <td>0.025563</td>\n",
       "      <td>0.061077</td>\n",
       "      <td>0.071227</td>\n",
       "      <td>0.035203</td>\n",
       "    </tr>\n",
       "  </tbody>\n",
       "</table>\n",
       "</div>"
      ],
      "text/plain": [
       "    xgboost  catboost  lightgbm         0         1         2         3  \\\n",
       "0  0.591556  0.633439  0.596115  0.589611  0.651299  0.627152  0.666962   \n",
       "1  0.999080  0.998620  0.999482  0.977506  0.979994  0.975591  0.976313   \n",
       "2  0.672347  0.667398  0.666400  0.712757  0.727006  0.674095  0.670068   \n",
       "3  0.323725  0.313328  0.326222  0.284891  0.307745  0.294775  0.321891   \n",
       "4  0.026130  0.026472  0.036818  0.081467  0.085114  0.069561  0.071851   \n",
       "\n",
       "          4         5         6         7  \n",
       "0  0.617215  0.637863  0.517801  0.523073  \n",
       "1  0.998443  0.978872  0.966934  0.969927  \n",
       "2  0.692972  0.695742  0.764769  0.683457  \n",
       "3  0.289597  0.281502  0.197155  0.326599  \n",
       "4  0.025563  0.061077  0.071227  0.035203  "
      ]
     },
     "execution_count": 92,
     "metadata": {},
     "output_type": "execute_result"
    }
   ],
   "source": [
    "oof_lv2_full.head()"
   ]
  },
  {
   "cell_type": "code",
   "execution_count": 93,
   "id": "6e641d5b-2750-4e33-90c6-8d8481ca09cf",
   "metadata": {},
   "outputs": [
    {
     "name": "stderr",
     "output_type": "stream",
     "text": [
      "/home/sf/anaconda3/envs/tabular-x/lib/python3.8/site-packages/ipykernel/ipkernel.py:287: DeprecationWarning: `should_run_async` will not call `transform_cell` automatically in the future. Please pass the result to `transformed_cell` argument and any exception that happen during thetransform in `preprocessing_exc_tuple` in IPython 7.17 and above.\n",
      "  and should_run_async(code)\n"
     ]
    }
   ],
   "source": [
    "test_lv1 = pd.DataFrame(test_lv1)"
   ]
  },
  {
   "cell_type": "code",
   "execution_count": 94,
   "id": "10359662-c105-477e-8c5b-8b82a4d51648",
   "metadata": {},
   "outputs": [
    {
     "data": {
      "text/html": [
       "<div>\n",
       "<style scoped>\n",
       "    .dataframe tbody tr th:only-of-type {\n",
       "        vertical-align: middle;\n",
       "    }\n",
       "\n",
       "    .dataframe tbody tr th {\n",
       "        vertical-align: top;\n",
       "    }\n",
       "\n",
       "    .dataframe thead th {\n",
       "        text-align: right;\n",
       "    }\n",
       "</style>\n",
       "<table border=\"1\" class=\"dataframe\">\n",
       "  <thead>\n",
       "    <tr style=\"text-align: right;\">\n",
       "      <th></th>\n",
       "      <th>0</th>\n",
       "      <th>1</th>\n",
       "      <th>2</th>\n",
       "      <th>3</th>\n",
       "      <th>4</th>\n",
       "      <th>5</th>\n",
       "      <th>6</th>\n",
       "      <th>7</th>\n",
       "    </tr>\n",
       "  </thead>\n",
       "  <tbody>\n",
       "    <tr>\n",
       "      <th>0</th>\n",
       "      <td>0.705919</td>\n",
       "      <td>0.716279</td>\n",
       "      <td>0.742503</td>\n",
       "      <td>0.744670</td>\n",
       "      <td>0.697371</td>\n",
       "      <td>0.742959</td>\n",
       "      <td>0.675174</td>\n",
       "      <td>0.667623</td>\n",
       "    </tr>\n",
       "    <tr>\n",
       "      <th>1</th>\n",
       "      <td>0.229481</td>\n",
       "      <td>0.227226</td>\n",
       "      <td>0.263515</td>\n",
       "      <td>0.255078</td>\n",
       "      <td>0.281691</td>\n",
       "      <td>0.236283</td>\n",
       "      <td>0.280769</td>\n",
       "      <td>0.241168</td>\n",
       "    </tr>\n",
       "    <tr>\n",
       "      <th>2</th>\n",
       "      <td>0.910173</td>\n",
       "      <td>0.907678</td>\n",
       "      <td>0.909820</td>\n",
       "      <td>0.903481</td>\n",
       "      <td>0.923829</td>\n",
       "      <td>0.908473</td>\n",
       "      <td>0.850372</td>\n",
       "      <td>0.862173</td>\n",
       "    </tr>\n",
       "    <tr>\n",
       "      <th>3</th>\n",
       "      <td>0.792741</td>\n",
       "      <td>0.812557</td>\n",
       "      <td>0.861400</td>\n",
       "      <td>0.860360</td>\n",
       "      <td>0.827925</td>\n",
       "      <td>0.844619</td>\n",
       "      <td>0.793903</td>\n",
       "      <td>0.827527</td>\n",
       "    </tr>\n",
       "    <tr>\n",
       "      <th>4</th>\n",
       "      <td>0.291263</td>\n",
       "      <td>0.282562</td>\n",
       "      <td>0.261821</td>\n",
       "      <td>0.262067</td>\n",
       "      <td>0.299697</td>\n",
       "      <td>0.267734</td>\n",
       "      <td>0.275253</td>\n",
       "      <td>0.271981</td>\n",
       "    </tr>\n",
       "  </tbody>\n",
       "</table>\n",
       "</div>"
      ],
      "text/plain": [
       "          0         1         2         3         4         5         6  \\\n",
       "0  0.705919  0.716279  0.742503  0.744670  0.697371  0.742959  0.675174   \n",
       "1  0.229481  0.227226  0.263515  0.255078  0.281691  0.236283  0.280769   \n",
       "2  0.910173  0.907678  0.909820  0.903481  0.923829  0.908473  0.850372   \n",
       "3  0.792741  0.812557  0.861400  0.860360  0.827925  0.844619  0.793903   \n",
       "4  0.291263  0.282562  0.261821  0.262067  0.299697  0.267734  0.275253   \n",
       "\n",
       "          7  \n",
       "0  0.667623  \n",
       "1  0.241168  \n",
       "2  0.862173  \n",
       "3  0.827527  \n",
       "4  0.271981  "
      ]
     },
     "execution_count": 94,
     "metadata": {},
     "output_type": "execute_result"
    }
   ],
   "source": [
    "test_lv1.head()"
   ]
  },
  {
   "cell_type": "code",
   "execution_count": 95,
   "id": "5a7a3d8c-4684-4f40-84f7-940a6a485d1a",
   "metadata": {},
   "outputs": [
    {
     "name": "stderr",
     "output_type": "stream",
     "text": [
      "/home/sf/anaconda3/envs/tabular-x/lib/python3.8/site-packages/ipykernel/ipkernel.py:287: DeprecationWarning: `should_run_async` will not call `transform_cell` automatically in the future. Please pass the result to `transformed_cell` argument and any exception that happen during thetransform in `preprocessing_exc_tuple` in IPython 7.17 and above.\n",
      "  and should_run_async(code)\n"
     ]
    }
   ],
   "source": [
    "test_lv2_full = test_lv2.join(test_lv1)"
   ]
  },
  {
   "cell_type": "code",
   "execution_count": 96,
   "id": "6116488d-bda5-43b0-bb4f-f6cfd2c96156",
   "metadata": {},
   "outputs": [
    {
     "data": {
      "text/html": [
       "<div>\n",
       "<style scoped>\n",
       "    .dataframe tbody tr th:only-of-type {\n",
       "        vertical-align: middle;\n",
       "    }\n",
       "\n",
       "    .dataframe tbody tr th {\n",
       "        vertical-align: top;\n",
       "    }\n",
       "\n",
       "    .dataframe thead th {\n",
       "        text-align: right;\n",
       "    }\n",
       "</style>\n",
       "<table border=\"1\" class=\"dataframe\">\n",
       "  <thead>\n",
       "    <tr style=\"text-align: right;\">\n",
       "      <th></th>\n",
       "      <th>xgboost</th>\n",
       "      <th>catboost</th>\n",
       "      <th>lightgbm</th>\n",
       "      <th>0</th>\n",
       "      <th>1</th>\n",
       "      <th>2</th>\n",
       "      <th>3</th>\n",
       "      <th>4</th>\n",
       "      <th>5</th>\n",
       "      <th>6</th>\n",
       "      <th>7</th>\n",
       "    </tr>\n",
       "  </thead>\n",
       "  <tbody>\n",
       "    <tr>\n",
       "      <th>0</th>\n",
       "      <td>0.700139</td>\n",
       "      <td>0.701442</td>\n",
       "      <td>0.690154</td>\n",
       "      <td>0.705919</td>\n",
       "      <td>0.716279</td>\n",
       "      <td>0.742503</td>\n",
       "      <td>0.744670</td>\n",
       "      <td>0.697371</td>\n",
       "      <td>0.742959</td>\n",
       "      <td>0.675174</td>\n",
       "      <td>0.667623</td>\n",
       "    </tr>\n",
       "    <tr>\n",
       "      <th>1</th>\n",
       "      <td>0.267479</td>\n",
       "      <td>0.289907</td>\n",
       "      <td>0.293804</td>\n",
       "      <td>0.229481</td>\n",
       "      <td>0.227226</td>\n",
       "      <td>0.263515</td>\n",
       "      <td>0.255078</td>\n",
       "      <td>0.281691</td>\n",
       "      <td>0.236283</td>\n",
       "      <td>0.280769</td>\n",
       "      <td>0.241168</td>\n",
       "    </tr>\n",
       "    <tr>\n",
       "      <th>2</th>\n",
       "      <td>0.917104</td>\n",
       "      <td>0.913674</td>\n",
       "      <td>0.916517</td>\n",
       "      <td>0.910173</td>\n",
       "      <td>0.907678</td>\n",
       "      <td>0.909820</td>\n",
       "      <td>0.903481</td>\n",
       "      <td>0.923829</td>\n",
       "      <td>0.908473</td>\n",
       "      <td>0.850372</td>\n",
       "      <td>0.862173</td>\n",
       "    </tr>\n",
       "    <tr>\n",
       "      <th>3</th>\n",
       "      <td>0.814998</td>\n",
       "      <td>0.815807</td>\n",
       "      <td>0.811139</td>\n",
       "      <td>0.792741</td>\n",
       "      <td>0.812557</td>\n",
       "      <td>0.861400</td>\n",
       "      <td>0.860360</td>\n",
       "      <td>0.827925</td>\n",
       "      <td>0.844619</td>\n",
       "      <td>0.793903</td>\n",
       "      <td>0.827527</td>\n",
       "    </tr>\n",
       "    <tr>\n",
       "      <th>4</th>\n",
       "      <td>0.301881</td>\n",
       "      <td>0.304549</td>\n",
       "      <td>0.302501</td>\n",
       "      <td>0.291263</td>\n",
       "      <td>0.282562</td>\n",
       "      <td>0.261821</td>\n",
       "      <td>0.262067</td>\n",
       "      <td>0.299697</td>\n",
       "      <td>0.267734</td>\n",
       "      <td>0.275253</td>\n",
       "      <td>0.271981</td>\n",
       "    </tr>\n",
       "  </tbody>\n",
       "</table>\n",
       "</div>"
      ],
      "text/plain": [
       "    xgboost  catboost  lightgbm         0         1         2         3  \\\n",
       "0  0.700139  0.701442  0.690154  0.705919  0.716279  0.742503  0.744670   \n",
       "1  0.267479  0.289907  0.293804  0.229481  0.227226  0.263515  0.255078   \n",
       "2  0.917104  0.913674  0.916517  0.910173  0.907678  0.909820  0.903481   \n",
       "3  0.814998  0.815807  0.811139  0.792741  0.812557  0.861400  0.860360   \n",
       "4  0.301881  0.304549  0.302501  0.291263  0.282562  0.261821  0.262067   \n",
       "\n",
       "          4         5         6         7  \n",
       "0  0.697371  0.742959  0.675174  0.667623  \n",
       "1  0.281691  0.236283  0.280769  0.241168  \n",
       "2  0.923829  0.908473  0.850372  0.862173  \n",
       "3  0.827925  0.844619  0.793903  0.827527  \n",
       "4  0.299697  0.267734  0.275253  0.271981  "
      ]
     },
     "execution_count": 96,
     "metadata": {},
     "output_type": "execute_result"
    }
   ],
   "source": [
    "test_lv2_full.head()"
   ]
  },
  {
   "cell_type": "code",
   "execution_count": 97,
   "id": "90b20494-95d6-4240-8a0d-b54de622b347",
   "metadata": {},
   "outputs": [
    {
     "name": "stderr",
     "output_type": "stream",
     "text": [
      "/home/sf/anaconda3/envs/tabular-x/lib/python3.8/site-packages/ipykernel/ipkernel.py:287: DeprecationWarning: `should_run_async` will not call `transform_cell` automatically in the future. Please pass the result to `transformed_cell` argument and any exception that happen during thetransform in `preprocessing_exc_tuple` in IPython 7.17 and above.\n",
      "  and should_run_async(code)\n"
     ]
    },
    {
     "data": {
      "text/html": [
       "<div>\n",
       "<style scoped>\n",
       "    .dataframe tbody tr th:only-of-type {\n",
       "        vertical-align: middle;\n",
       "    }\n",
       "\n",
       "    .dataframe tbody tr th {\n",
       "        vertical-align: top;\n",
       "    }\n",
       "\n",
       "    .dataframe thead th {\n",
       "        text-align: right;\n",
       "    }\n",
       "</style>\n",
       "<table border=\"1\" class=\"dataframe\">\n",
       "  <thead>\n",
       "    <tr style=\"text-align: right;\">\n",
       "      <th></th>\n",
       "      <th>xgboost</th>\n",
       "      <th>catboost</th>\n",
       "      <th>lightgbm</th>\n",
       "      <th>0</th>\n",
       "      <th>1</th>\n",
       "      <th>2</th>\n",
       "      <th>3</th>\n",
       "      <th>4</th>\n",
       "      <th>5</th>\n",
       "      <th>6</th>\n",
       "      <th>7</th>\n",
       "    </tr>\n",
       "  </thead>\n",
       "  <tbody>\n",
       "    <tr>\n",
       "      <th>0</th>\n",
       "      <td>0.591556</td>\n",
       "      <td>0.633439</td>\n",
       "      <td>0.596115</td>\n",
       "      <td>0.589611</td>\n",
       "      <td>0.651299</td>\n",
       "      <td>0.627152</td>\n",
       "      <td>0.666962</td>\n",
       "      <td>0.617215</td>\n",
       "      <td>0.637863</td>\n",
       "      <td>0.517801</td>\n",
       "      <td>0.523073</td>\n",
       "    </tr>\n",
       "    <tr>\n",
       "      <th>1</th>\n",
       "      <td>0.999080</td>\n",
       "      <td>0.998620</td>\n",
       "      <td>0.999482</td>\n",
       "      <td>0.977506</td>\n",
       "      <td>0.979994</td>\n",
       "      <td>0.975591</td>\n",
       "      <td>0.976313</td>\n",
       "      <td>0.998443</td>\n",
       "      <td>0.978872</td>\n",
       "      <td>0.966934</td>\n",
       "      <td>0.969927</td>\n",
       "    </tr>\n",
       "    <tr>\n",
       "      <th>2</th>\n",
       "      <td>0.672347</td>\n",
       "      <td>0.667398</td>\n",
       "      <td>0.666400</td>\n",
       "      <td>0.712757</td>\n",
       "      <td>0.727006</td>\n",
       "      <td>0.674095</td>\n",
       "      <td>0.670068</td>\n",
       "      <td>0.692972</td>\n",
       "      <td>0.695742</td>\n",
       "      <td>0.764769</td>\n",
       "      <td>0.683457</td>\n",
       "    </tr>\n",
       "    <tr>\n",
       "      <th>3</th>\n",
       "      <td>0.323725</td>\n",
       "      <td>0.313328</td>\n",
       "      <td>0.326222</td>\n",
       "      <td>0.284891</td>\n",
       "      <td>0.307745</td>\n",
       "      <td>0.294775</td>\n",
       "      <td>0.321891</td>\n",
       "      <td>0.289597</td>\n",
       "      <td>0.281502</td>\n",
       "      <td>0.197155</td>\n",
       "      <td>0.326599</td>\n",
       "    </tr>\n",
       "    <tr>\n",
       "      <th>4</th>\n",
       "      <td>0.026130</td>\n",
       "      <td>0.026472</td>\n",
       "      <td>0.036818</td>\n",
       "      <td>0.081467</td>\n",
       "      <td>0.085114</td>\n",
       "      <td>0.069561</td>\n",
       "      <td>0.071851</td>\n",
       "      <td>0.025563</td>\n",
       "      <td>0.061077</td>\n",
       "      <td>0.071227</td>\n",
       "      <td>0.035203</td>\n",
       "    </tr>\n",
       "  </tbody>\n",
       "</table>\n",
       "</div>"
      ],
      "text/plain": [
       "    xgboost  catboost  lightgbm         0         1         2         3  \\\n",
       "0  0.591556  0.633439  0.596115  0.589611  0.651299  0.627152  0.666962   \n",
       "1  0.999080  0.998620  0.999482  0.977506  0.979994  0.975591  0.976313   \n",
       "2  0.672347  0.667398  0.666400  0.712757  0.727006  0.674095  0.670068   \n",
       "3  0.323725  0.313328  0.326222  0.284891  0.307745  0.294775  0.321891   \n",
       "4  0.026130  0.026472  0.036818  0.081467  0.085114  0.069561  0.071851   \n",
       "\n",
       "          4         5         6         7  \n",
       "0  0.617215  0.637863  0.517801  0.523073  \n",
       "1  0.998443  0.978872  0.966934  0.969927  \n",
       "2  0.692972  0.695742  0.764769  0.683457  \n",
       "3  0.289597  0.281502  0.197155  0.326599  \n",
       "4  0.025563  0.061077  0.071227  0.035203  "
      ]
     },
     "execution_count": 97,
     "metadata": {},
     "output_type": "execute_result"
    }
   ],
   "source": [
    "oof_lv2_full.head()"
   ]
  },
  {
   "cell_type": "code",
   "execution_count": 98,
   "id": "83f55d89-4ae1-4397-83ad-388e3d8e697a",
   "metadata": {},
   "outputs": [
    {
     "name": "stderr",
     "output_type": "stream",
     "text": [
      "/home/sf/anaconda3/envs/tabular-x/lib/python3.8/site-packages/ipykernel/ipkernel.py:287: DeprecationWarning: `should_run_async` will not call `transform_cell` automatically in the future. Please pass the result to `transformed_cell` argument and any exception that happen during thetransform in `preprocessing_exc_tuple` in IPython 7.17 and above.\n",
      "  and should_run_async(code)\n"
     ]
    }
   ],
   "source": [
    "oof_lv2_np = oof_lv2_full.to_numpy()\n",
    "test_lv2_np = test_lv2_full.to_numpy()"
   ]
  },
  {
   "cell_type": "code",
   "execution_count": 99,
   "id": "0f5029bd-96d5-4c86-a4f5-1da358456a8a",
   "metadata": {},
   "outputs": [
    {
     "data": {
      "text/plain": [
       "numpy.ndarray"
      ]
     },
     "execution_count": 99,
     "metadata": {},
     "output_type": "execute_result"
    }
   ],
   "source": [
    "type(oof_y)"
   ]
  },
  {
   "cell_type": "code",
   "execution_count": 100,
   "id": "411948c7-bc26-4722-962d-23f56857a961",
   "metadata": {},
   "outputs": [],
   "source": [
    "oof_y_np = oof_y"
   ]
  },
  {
   "cell_type": "markdown",
   "id": "113c6aac-1344-4ee0-b2a2-1580d6c5356d",
   "metadata": {},
   "source": [
    "## Level Three (Logistic Regression)"
   ]
  },
  {
   "cell_type": "code",
   "execution_count": 101,
   "id": "de1db0b1-26d9-440b-864b-63df8aa6fb3b",
   "metadata": {},
   "outputs": [],
   "source": [
    "from sklearn import model_selection"
   ]
  },
  {
   "cell_type": "code",
   "execution_count": 102,
   "id": "18fa300d-2e9b-4fcd-8553-cf3885228bd4",
   "metadata": {},
   "outputs": [],
   "source": [
    "# kfolds = model_selection.StratifiedKFold(n_splits=5, shuffle=False) # no random_state if shuffle == False"
   ]
  },
  {
   "cell_type": "code",
   "execution_count": 103,
   "id": "9ad51e38-ca0f-4e6c-9879-7993a8bd40ea",
   "metadata": {},
   "outputs": [],
   "source": [
    "oof_preds, oof_y = [], []"
   ]
  },
  {
   "cell_type": "code",
   "execution_count": 104,
   "id": "e820c69a-13f3-4ace-a26f-d6e1fb097ef8",
   "metadata": {},
   "outputs": [],
   "source": [
    "test_preds = np.zeros((X_test.shape[0]))"
   ]
  },
  {
   "cell_type": "code",
   "execution_count": 105,
   "id": "8ec5b2ec-8f29-471a-ab7d-d6be861a803c",
   "metadata": {},
   "outputs": [],
   "source": [
    "X = oof_lv2_np\n",
    "y = oof_y_np\n",
    "X_test = test_lv2_np"
   ]
  },
  {
   "cell_type": "code",
   "execution_count": 106,
   "id": "1f6d220b-7f9f-49ea-b3bf-7d477751121c",
   "metadata": {},
   "outputs": [
    {
     "data": {
      "text/plain": [
       "array([[0.59155649, 0.63343854, 0.59611475, 0.58961118, 0.651299  ,\n",
       "        0.62715232, 0.66696191, 0.61721529, 0.63786275, 0.51780111,\n",
       "        0.52307266],\n",
       "       [0.9990803 , 0.99862045, 0.99948165, 0.97750649, 0.97999374,\n",
       "        0.9755913 , 0.97631311, 0.9984426 , 0.9788715 , 0.96693379,\n",
       "        0.96992701],\n",
       "       [0.67234731, 0.66739816, 0.66639993, 0.71275723, 0.72700594,\n",
       "        0.6740948 , 0.67006797, 0.6929717 , 0.69574226, 0.7647689 ,\n",
       "        0.68345737],\n",
       "       [0.32372525, 0.31332825, 0.32622165, 0.28489091, 0.30774478,\n",
       "        0.29477474, 0.32189095, 0.28959721, 0.28150182, 0.19715466,\n",
       "        0.32659888],\n",
       "       [0.02613011, 0.02647234, 0.03681793, 0.0814668 , 0.08511447,\n",
       "        0.06956097, 0.0718514 , 0.02556273, 0.06107668, 0.07122669,\n",
       "        0.03520279],\n",
       "       [0.97676998, 0.97671638, 0.97270592, 0.93597717, 0.9323953 ,\n",
       "        0.93387043, 0.9304139 , 0.97475635, 0.93508565, 0.91050041,\n",
       "        0.92516482],\n",
       "       [0.81803101, 0.81964988, 0.82615617, 0.85558287, 0.86189195,\n",
       "        0.83574039, 0.84129363, 0.8344056 , 0.83106644, 0.91057217,\n",
       "        0.90811867],\n",
       "       [0.17977063, 0.18089711, 0.18845434, 0.17983008, 0.17739634,\n",
       "        0.15861823, 0.16667581, 0.16064921, 0.15259177, 0.26014459,\n",
       "        0.162356  ],\n",
       "       [0.68336296, 0.67480905, 0.69980929, 0.70412209, 0.6938801 ,\n",
       "        0.75263572, 0.71489632, 0.67818252, 0.73708065, 0.65107149,\n",
       "        0.68939137],\n",
       "       [0.81192243, 0.8144734 , 0.83914095, 0.83854542, 0.80910743,\n",
       "        0.85481358, 0.8621344 , 0.82501989, 0.83840721, 0.90428579,\n",
       "        0.89050037]])"
      ]
     },
     "execution_count": 106,
     "metadata": {},
     "output_type": "execute_result"
    }
   ],
   "source": [
    "X[:10]"
   ]
  },
  {
   "cell_type": "code",
   "execution_count": 107,
   "id": "c581a349-a22b-4383-b109-ec87ec9eed8d",
   "metadata": {},
   "outputs": [],
   "source": [
    "library = 'sklearn (LogisticRegressor(max_iter=1000))'\n",
    "# exmodel_config['library'] = library\n",
    "# wandb.init(\n",
    "#     project=\"202110_Kaggle_tabular_playground\",\n",
    "#     save_code=True,\n",
    "#     tags=wandb_config['tags'],\n",
    "#     name=wandb_config['name'],\n",
    "#     notes=wandb_config['notes'],\n",
    "#     config=exmodel_config\n",
    "# )   \n",
    "\n",
    "# prepare for k-fold cross-validation\n",
    "# kfold = exmodel_config['cross_val_strategy'](n_splits=exmodel_config['kfolds'], shuffle=True, random_state=SEED)\n",
    "kfold = exmodel_config['cross_val_strategy'](n_splits=exmodel_config['kfolds'], shuffle=False)\n",
    "\n",
    "# setup for serialization\n",
    "# model_path = Path(datapath/f\"models/{wandb_config['name']}_{library}_{exmodel_config['kfolds']}folds/\")\n",
    "# (model_path).mkdir(exist_ok=True)"
   ]
  },
  {
   "cell_type": "code",
   "execution_count": null,
   "id": "2eefeecc-3536-482b-9f9c-8a286e3c6c9e",
   "metadata": {},
   "outputs": [],
   "source": []
  },
  {
   "cell_type": "code",
   "execution_count": 108,
   "id": "d405ab94-9fe2-4d95-b966-ad02de6f6f85",
   "metadata": {},
   "outputs": [
    {
     "name": "stdout",
     "output_type": "stream",
     "text": [
      "FOLD 0\n",
      "---------------------\n",
      "ROC AUC of fold 0 is 0.8566223260769172\n",
      "FOLD 1\n",
      "---------------------\n",
      "ROC AUC of fold 1 is 0.8551355383715116\n",
      "FOLD 2\n",
      "---------------------\n",
      "ROC AUC of fold 2 is 0.8561968791534109\n",
      "FOLD 3\n",
      "---------------------\n",
      "ROC AUC of fold 3 is 0.8553880969102232\n",
      "FOLD 4\n",
      "---------------------\n",
      "ROC AUC of fold 4 is 0.8558941728129841\n",
      "Overall ROC_AUC is 0.855782905682136\n"
     ]
    },
    {
     "data": {
      "text/plain": [
       "['/home/sf/code/kaggle/tabular_playgrounds/oct2021/preds/test_lv3_preds.joblib']"
      ]
     },
     "execution_count": 108,
     "metadata": {},
     "output_type": "execute_result"
    }
   ],
   "source": [
    "for fold, (train_idx, valid_idx) in enumerate(kfold.split(X,y)):\n",
    "    X_train, X_valid = X[train_idx], X[valid_idx]\n",
    "    y_train, y_valid = y[train_idx], y[valid_idx]\n",
    "    \n",
    "    print(f\"FOLD {fold}\")\n",
    "    print(\"---------------------\")\n",
    "    \n",
    "    model = LogisticRegression(max_iter=1000)\n",
    "    \n",
    "    model.fit(X_train, y_train)\n",
    "    preds = model.predict_proba(X_valid)[:,1]\n",
    "    \n",
    "    oof_preds.extend(preds)\n",
    "    oof_y.extend(y_valid)\n",
    "    \n",
    "    test_preds += model.predict_proba(X_test)[:,1]\n",
    "    \n",
    "    valid_auc = roc_auc_score(y_valid, preds)\n",
    "    print(f\"ROC AUC of fold {fold} is {valid_auc}\")\n",
    "    \n",
    "#     dump(preds, /'lv_3)\n",
    "\n",
    "valid_auc_total = roc_auc_score(oof_y, oof_preds)\n",
    "print(f\"Overall ROC_AUC is {valid_auc_total}\")\n",
    "\n",
    "dump(oof_preds, predpath/'oof_lv3_preds.joblib')\n",
    "dump(oof_y, predpath/'oof_lv3_y.joblib')\n",
    "\n",
    "test_preds /= 5\n",
    "\n",
    "dump(test_preds, predpath/'test_lv3_preds.joblib')"
   ]
  },
  {
   "cell_type": "code",
   "execution_count": 109,
   "id": "9a99cf5b-3477-47f4-9391-73e2ff93c7d1",
   "metadata": {},
   "outputs": [
    {
     "name": "stderr",
     "output_type": "stream",
     "text": [
      "/home/sf/anaconda3/envs/tabular-x/lib/python3.8/site-packages/ipykernel/ipkernel.py:287: DeprecationWarning: `should_run_async` will not call `transform_cell` automatically in the future. Please pass the result to `transformed_cell` argument and any exception that happen during thetransform in `preprocessing_exc_tuple` in IPython 7.17 and above.\n",
      "  and should_run_async(code)\n"
     ]
    }
   ],
   "source": [
    "# X_test_imputed_scaled = pd.read_feather(path=datapath/'X_test_NaNcounts_imputed-Median-wIndicators_StandardScaled.feather')\n",
    "# X_test_imputed_scaled = pd.read_feather(path=datapath/'X_test_NaNcounts_SummaryStats_imputed-Median-wIndicators-StandardScaled.feather')"
   ]
  },
  {
   "cell_type": "markdown",
   "id": "a57f347f-872f-4011-9f13-78fad542f36a",
   "metadata": {},
   "source": [
    "## Prediction Generation"
   ]
  },
  {
   "cell_type": "code",
   "execution_count": 110,
   "id": "0773d286-257d-4776-add5-0f724944befe",
   "metadata": {},
   "outputs": [],
   "source": [
    "# preds_path = Path(datapath/\"preds/\")\n",
    "\n",
    "# blender_preds = blender.predict_proba(X_test_imputed_scaled)[:,1]\n",
    "# dump(blender_preds, preds_path/f\"{config_run['name']}_stack.joblib\")"
   ]
  },
  {
   "cell_type": "markdown",
   "id": "97f63005-4b50-40e9-9af4-d858b9b73576",
   "metadata": {},
   "source": [
    "# Ensemble Submission"
   ]
  },
  {
   "cell_type": "code",
   "execution_count": 111,
   "id": "1193a028-ea7f-4635-8c36-5cd517894784",
   "metadata": {
    "tags": []
   },
   "outputs": [],
   "source": [
    "sample_df = pd.read_csv(datapath/'sample_submission.csv.zip')"
   ]
  },
  {
   "cell_type": "code",
   "execution_count": 112,
   "id": "cecede81-21ca-414d-8e1a-57baa3e5be82",
   "metadata": {},
   "outputs": [],
   "source": [
    "sample_df.loc[:, 'target'] = test_preds"
   ]
  },
  {
   "cell_type": "code",
   "execution_count": 113,
   "id": "f5c9fc8c-45ab-4ea6-b40b-15149ad43751",
   "metadata": {},
   "outputs": [
    {
     "data": {
      "text/html": [
       "<div>\n",
       "<style scoped>\n",
       "    .dataframe tbody tr th:only-of-type {\n",
       "        vertical-align: middle;\n",
       "    }\n",
       "\n",
       "    .dataframe tbody tr th {\n",
       "        vertical-align: top;\n",
       "    }\n",
       "\n",
       "    .dataframe thead th {\n",
       "        text-align: right;\n",
       "    }\n",
       "</style>\n",
       "<table border=\"1\" class=\"dataframe\">\n",
       "  <thead>\n",
       "    <tr style=\"text-align: right;\">\n",
       "      <th></th>\n",
       "      <th>id</th>\n",
       "      <th>target</th>\n",
       "    </tr>\n",
       "  </thead>\n",
       "  <tbody>\n",
       "    <tr>\n",
       "      <th>0</th>\n",
       "      <td>1000000</td>\n",
       "      <td>0.714215</td>\n",
       "    </tr>\n",
       "    <tr>\n",
       "      <th>1</th>\n",
       "      <td>1000001</td>\n",
       "      <td>0.265864</td>\n",
       "    </tr>\n",
       "    <tr>\n",
       "      <th>2</th>\n",
       "      <td>1000002</td>\n",
       "      <td>0.935361</td>\n",
       "    </tr>\n",
       "    <tr>\n",
       "      <th>3</th>\n",
       "      <td>1000003</td>\n",
       "      <td>0.844627</td>\n",
       "    </tr>\n",
       "    <tr>\n",
       "      <th>4</th>\n",
       "      <td>1000004</td>\n",
       "      <td>0.317418</td>\n",
       "    </tr>\n",
       "  </tbody>\n",
       "</table>\n",
       "</div>"
      ],
      "text/plain": [
       "        id    target\n",
       "0  1000000  0.714215\n",
       "1  1000001  0.265864\n",
       "2  1000002  0.935361\n",
       "3  1000003  0.844627\n",
       "4  1000004  0.317418"
      ]
     },
     "execution_count": 113,
     "metadata": {},
     "output_type": "execute_result"
    }
   ],
   "source": [
    "sample_df.head()"
   ]
  },
  {
   "cell_type": "code",
   "execution_count": 114,
   "id": "32d80568-780e-4798-a26b-e2907825f6ad",
   "metadata": {},
   "outputs": [
    {
     "name": "stderr",
     "output_type": "stream",
     "text": [
      "/home/sf/anaconda3/envs/tabular-x/lib/python3.8/site-packages/ipykernel/ipkernel.py:287: DeprecationWarning: `should_run_async` will not call `transform_cell` automatically in the future. Please pass the result to `transformed_cell` argument and any exception that happen during thetransform in `preprocessing_exc_tuple` in IPython 7.17 and above.\n",
      "  and should_run_async(code)\n"
     ]
    }
   ],
   "source": [
    "# submission_path = datapath/'submissions'\n",
    "# submission_path.mkdir(exist_ok=True)"
   ]
  },
  {
   "cell_type": "code",
   "execution_count": 115,
   "id": "3d5e653c-a3de-4e25-a22f-4d7d0e1d49ee",
   "metadata": {},
   "outputs": [],
   "source": [
    "sample_df.to_csv(subpath/f\"{wandb_config['name']}_3level-GBM-ensemble_{exmodel_config['kfolds']}folds_rs{42}_preds.csv\", index=False)"
   ]
  },
  {
   "cell_type": "code",
   "execution_count": 116,
   "id": "0e5c8dfd-4282-45fb-bd1b-cebccbaea68f",
   "metadata": {},
   "outputs": [],
   "source": [
    "# wandb.log({'leaderboard_auc': ,\n",
    "# #            'catboost_params': str(best_catboost_params),\n",
    "#           })"
   ]
  },
  {
   "cell_type": "code",
   "execution_count": 117,
   "id": "b9a1cda7-ee10-4db7-9d99-2748be655a3c",
   "metadata": {
    "tags": []
   },
   "outputs": [],
   "source": [
    "# wandb.finish()"
   ]
  },
  {
   "cell_type": "markdown",
   "id": "188650a9-6b22-45c6-9ff7-996fe917b5b4",
   "metadata": {},
   "source": [
    "# Power Averaging"
   ]
  },
  {
   "cell_type": "code",
   "execution_count": 118,
   "id": "261029fd-fd23-4785-9144-990ba07180a3",
   "metadata": {},
   "outputs": [],
   "source": [
    "stack_sub = sample_df.copy()"
   ]
  },
  {
   "cell_type": "code",
   "execution_count": 119,
   "id": "957d4313-541c-4abf-a06d-38363f8cb0b0",
   "metadata": {},
   "outputs": [],
   "source": [
    "stack_preds = stack_sub.iloc[:,1]"
   ]
  },
  {
   "cell_type": "code",
   "execution_count": 120,
   "id": "bf9d39f1-1bc2-49b8-bb6f-53784be6a869",
   "metadata": {},
   "outputs": [],
   "source": [
    "cat1983_preds = load(predpath/'stacking_manual_20211005_205933_catboost_5folds_rs1983_test_preds.joblib')"
   ]
  },
  {
   "cell_type": "code",
   "execution_count": 121,
   "id": "4b302164-b933-47fe-b245-d0e00d5693fc",
   "metadata": {},
   "outputs": [],
   "source": [
    "# cat_preds[:10]"
   ]
  },
  {
   "cell_type": "code",
   "execution_count": 122,
   "id": "85d27110-7a50-410d-9958-605702d297cc",
   "metadata": {},
   "outputs": [],
   "source": [
    "# stack_sub.iloc[:10,1]"
   ]
  },
  {
   "cell_type": "code",
   "execution_count": 123,
   "id": "1f9c0782-89d2-49d6-8aca-88b2e45305ef",
   "metadata": {},
   "outputs": [],
   "source": [
    "lgb1983_preds = load(predpath/'stacking_manual_20211005_205933_lightgbm_5folds_rs1983_test_preds.joblib')"
   ]
  },
  {
   "cell_type": "code",
   "execution_count": 124,
   "id": "d832d4b8-d36b-433f-ba35-4c4997e566a5",
   "metadata": {},
   "outputs": [
    {
     "data": {
      "text/plain": [
       "array([0.71627935, 0.22722624, 0.90767775, 0.81255748, 0.28256192,\n",
       "       0.19362319, 0.02520114, 0.32767655, 0.95997145, 0.83308257])"
      ]
     },
     "execution_count": 124,
     "metadata": {},
     "output_type": "execute_result"
    }
   ],
   "source": [
    "lgb1983_preds[:10]"
   ]
  },
  {
   "cell_type": "markdown",
   "id": "9d3476e9-6947-432d-858c-fd6afcac7433",
   "metadata": {},
   "source": [
    "## 4th power"
   ]
  },
  {
   "cell_type": "code",
   "execution_count": 125,
   "id": "d70f1361-c7fc-49b2-86e5-844487bca686",
   "metadata": {},
   "outputs": [],
   "source": [
    "power4_avg = (stack_preds**4 + cat1983_preds**4 + lgb1983_preds**4) / 3"
   ]
  },
  {
   "cell_type": "code",
   "execution_count": 126,
   "id": "28966015-2491-428d-8a74-6f8e5e19330b",
   "metadata": {},
   "outputs": [
    {
     "data": {
      "text/plain": [
       "0     0.276041\n",
       "1     0.003593\n",
       "2     0.708461\n",
       "3     0.484591\n",
       "4     0.007221\n",
       "5     0.002113\n",
       "6     0.000001\n",
       "7     0.011919\n",
       "8     0.867742\n",
       "9     0.510930\n",
       "10    0.670985\n",
       "11    0.111903\n",
       "12    0.000256\n",
       "13    0.021074\n",
       "14    0.026674\n",
       "15    0.005284\n",
       "16    0.007638\n",
       "17    0.063980\n",
       "18    0.000042\n",
       "19    0.850564\n",
       "Name: target, dtype: float64"
      ]
     },
     "execution_count": 126,
     "metadata": {},
     "output_type": "execute_result"
    }
   ],
   "source": [
    "power4_avg[:20]"
   ]
  },
  {
   "cell_type": "code",
   "execution_count": null,
   "id": "196f353c-ea30-4360-aebb-23d4d89d39d1",
   "metadata": {},
   "outputs": [],
   "source": []
  },
  {
   "cell_type": "code",
   "execution_count": 127,
   "id": "a99a1c7f-3350-4610-9cb4-e8f1c4d8d89a",
   "metadata": {
    "tags": []
   },
   "outputs": [],
   "source": [
    "sample_df = pd.read_csv(datapath/'sample_submission.csv.zip')"
   ]
  },
  {
   "cell_type": "code",
   "execution_count": 128,
   "id": "7d6a835c-7077-425d-acdf-8af36a864605",
   "metadata": {},
   "outputs": [],
   "source": [
    "sample_df.loc[:, 'target'] = power4_avg"
   ]
  },
  {
   "cell_type": "code",
   "execution_count": 129,
   "id": "43f4b808-d9fe-490c-a078-71e695f94fdb",
   "metadata": {},
   "outputs": [
    {
     "data": {
      "text/html": [
       "<div>\n",
       "<style scoped>\n",
       "    .dataframe tbody tr th:only-of-type {\n",
       "        vertical-align: middle;\n",
       "    }\n",
       "\n",
       "    .dataframe tbody tr th {\n",
       "        vertical-align: top;\n",
       "    }\n",
       "\n",
       "    .dataframe thead th {\n",
       "        text-align: right;\n",
       "    }\n",
       "</style>\n",
       "<table border=\"1\" class=\"dataframe\">\n",
       "  <thead>\n",
       "    <tr style=\"text-align: right;\">\n",
       "      <th></th>\n",
       "      <th>id</th>\n",
       "      <th>target</th>\n",
       "    </tr>\n",
       "  </thead>\n",
       "  <tbody>\n",
       "    <tr>\n",
       "      <th>0</th>\n",
       "      <td>1000000</td>\n",
       "      <td>0.276041</td>\n",
       "    </tr>\n",
       "    <tr>\n",
       "      <th>1</th>\n",
       "      <td>1000001</td>\n",
       "      <td>0.003593</td>\n",
       "    </tr>\n",
       "    <tr>\n",
       "      <th>2</th>\n",
       "      <td>1000002</td>\n",
       "      <td>0.708461</td>\n",
       "    </tr>\n",
       "    <tr>\n",
       "      <th>3</th>\n",
       "      <td>1000003</td>\n",
       "      <td>0.484591</td>\n",
       "    </tr>\n",
       "    <tr>\n",
       "      <th>4</th>\n",
       "      <td>1000004</td>\n",
       "      <td>0.007221</td>\n",
       "    </tr>\n",
       "  </tbody>\n",
       "</table>\n",
       "</div>"
      ],
      "text/plain": [
       "        id    target\n",
       "0  1000000  0.276041\n",
       "1  1000001  0.003593\n",
       "2  1000002  0.708461\n",
       "3  1000003  0.484591\n",
       "4  1000004  0.007221"
      ]
     },
     "execution_count": 129,
     "metadata": {},
     "output_type": "execute_result"
    }
   ],
   "source": [
    "sample_df.head()"
   ]
  },
  {
   "cell_type": "code",
   "execution_count": 130,
   "id": "24018d55-37f4-4586-b853-9840b1e7564d",
   "metadata": {},
   "outputs": [
    {
     "name": "stderr",
     "output_type": "stream",
     "text": [
      "/home/sf/anaconda3/envs/tabular-x/lib/python3.8/site-packages/ipykernel/ipkernel.py:287: DeprecationWarning: `should_run_async` will not call `transform_cell` automatically in the future. Please pass the result to `transformed_cell` argument and any exception that happen during thetransform in `preprocessing_exc_tuple` in IPython 7.17 and above.\n",
      "  and should_run_async(code)\n"
     ]
    }
   ],
   "source": [
    "# submission_path = datapath/'submissions'\n",
    "# submission_path.mkdir(exist_ok=True)"
   ]
  },
  {
   "cell_type": "code",
   "execution_count": 131,
   "id": "dd27df16-b3e8-4fd8-b4ca-d8d3533de81a",
   "metadata": {},
   "outputs": [],
   "source": [
    "sample_df.to_csv(subpath/f\"{wandb_config['name']}_3level-GBM-stack_cat1983_lgb1983_pow-avg4_ensemble_preds.csv\", index=False)"
   ]
  },
  {
   "cell_type": "markdown",
   "id": "17525245-b188-4b5a-a2a8-279ca4427405",
   "metadata": {},
   "source": [
    "## 4th power with DL"
   ]
  },
  {
   "cell_type": "code",
   "execution_count": 156,
   "id": "53a1d75c-0cda-4026-bcb4-62dc3284fce9",
   "metadata": {},
   "outputs": [
    {
     "data": {
      "text/plain": [
       "(list, numpy.ndarray)"
      ]
     },
     "execution_count": 156,
     "metadata": {},
     "output_type": "execute_result"
    }
   ],
   "source": [
    "type(oof_lv1_tabmlp1983), type(cat1983_preds)"
   ]
  },
  {
   "cell_type": "code",
   "execution_count": 157,
   "id": "f9e9519a-3adb-4ef6-b3ef-d1f3a5925035",
   "metadata": {},
   "outputs": [
    {
     "data": {
      "text/plain": [
       "(500000,)"
      ]
     },
     "execution_count": 157,
     "metadata": {},
     "output_type": "execute_result"
    }
   ],
   "source": [
    "cat1983_preds.shape"
   ]
  },
  {
   "cell_type": "code",
   "execution_count": 158,
   "id": "1822e2ba-dc7a-438f-8c84-99ab03f7a478",
   "metadata": {},
   "outputs": [],
   "source": [
    "tabmlp1983_preds = np.array(oof_lv1_tabmlp1983)"
   ]
  },
  {
   "cell_type": "code",
   "execution_count": 160,
   "id": "b062dc7c-425e-4175-8c2e-b9d6d39ae34e",
   "metadata": {},
   "outputs": [],
   "source": [
    "del tabmlp1983_preds"
   ]
  },
  {
   "cell_type": "code",
   "execution_count": 161,
   "id": "090179ef-065a-4bb4-abf1-a6e04be8da9e",
   "metadata": {},
   "outputs": [
    {
     "data": {
      "text/plain": [
       "0     0.256697\n",
       "1     0.003540\n",
       "2     0.669486\n",
       "3     0.480682\n",
       "4     0.006784\n",
       "5     0.002043\n",
       "6     0.000002\n",
       "7     0.011605\n",
       "8     0.806730\n",
       "9     0.539848\n",
       "10    0.633282\n",
       "11    0.115899\n",
       "12    0.000384\n",
       "13    0.018725\n",
       "14    0.023493\n",
       "15    0.004069\n",
       "16    0.007619\n",
       "17    0.059981\n",
       "18    0.000093\n",
       "19    0.813301\n",
       "Name: target, dtype: float64"
      ]
     },
     "execution_count": 161,
     "metadata": {},
     "output_type": "execute_result"
    }
   ],
   "source": [
    "power4_avg_dl = (stack_preds**4 + cat1983_preds**4 + lgb1983_preds**4 + np.array(test_lv1_tabmlp1983)**4) / 4\n",
    "power4_avg_dl[:20]"
   ]
  },
  {
   "cell_type": "code",
   "execution_count": 162,
   "id": "634cdef6-ecaa-415b-8fee-45324dd36074",
   "metadata": {
    "tags": []
   },
   "outputs": [],
   "source": [
    "sample_df = pd.read_csv(datapath/'sample_submission.csv.zip')"
   ]
  },
  {
   "cell_type": "code",
   "execution_count": 163,
   "id": "cb327e49-5347-42d9-b80a-0a9d20e4fa6a",
   "metadata": {},
   "outputs": [
    {
     "name": "stderr",
     "output_type": "stream",
     "text": [
      "/home/sf/anaconda3/envs/tabular-x/lib/python3.8/site-packages/ipykernel/ipkernel.py:287: DeprecationWarning: `should_run_async` will not call `transform_cell` automatically in the future. Please pass the result to `transformed_cell` argument and any exception that happen during thetransform in `preprocessing_exc_tuple` in IPython 7.17 and above.\n",
      "  and should_run_async(code)\n"
     ]
    }
   ],
   "source": [
    "sample_df.loc[:, 'target'] = power4_avg_dl"
   ]
  },
  {
   "cell_type": "code",
   "execution_count": 164,
   "id": "f543315d-4e08-4296-92ae-4be67d45c33a",
   "metadata": {},
   "outputs": [
    {
     "data": {
      "text/html": [
       "<div>\n",
       "<style scoped>\n",
       "    .dataframe tbody tr th:only-of-type {\n",
       "        vertical-align: middle;\n",
       "    }\n",
       "\n",
       "    .dataframe tbody tr th {\n",
       "        vertical-align: top;\n",
       "    }\n",
       "\n",
       "    .dataframe thead th {\n",
       "        text-align: right;\n",
       "    }\n",
       "</style>\n",
       "<table border=\"1\" class=\"dataframe\">\n",
       "  <thead>\n",
       "    <tr style=\"text-align: right;\">\n",
       "      <th></th>\n",
       "      <th>id</th>\n",
       "      <th>target</th>\n",
       "    </tr>\n",
       "  </thead>\n",
       "  <tbody>\n",
       "    <tr>\n",
       "      <th>0</th>\n",
       "      <td>1000000</td>\n",
       "      <td>0.256697</td>\n",
       "    </tr>\n",
       "    <tr>\n",
       "      <th>1</th>\n",
       "      <td>1000001</td>\n",
       "      <td>0.003540</td>\n",
       "    </tr>\n",
       "    <tr>\n",
       "      <th>2</th>\n",
       "      <td>1000002</td>\n",
       "      <td>0.669486</td>\n",
       "    </tr>\n",
       "    <tr>\n",
       "      <th>3</th>\n",
       "      <td>1000003</td>\n",
       "      <td>0.480682</td>\n",
       "    </tr>\n",
       "    <tr>\n",
       "      <th>4</th>\n",
       "      <td>1000004</td>\n",
       "      <td>0.006784</td>\n",
       "    </tr>\n",
       "  </tbody>\n",
       "</table>\n",
       "</div>"
      ],
      "text/plain": [
       "        id    target\n",
       "0  1000000  0.256697\n",
       "1  1000001  0.003540\n",
       "2  1000002  0.669486\n",
       "3  1000003  0.480682\n",
       "4  1000004  0.006784"
      ]
     },
     "execution_count": 164,
     "metadata": {},
     "output_type": "execute_result"
    }
   ],
   "source": [
    "sample_df.head()"
   ]
  },
  {
   "cell_type": "code",
   "execution_count": 130,
   "id": "647b6909-1a2d-48cc-809a-9b3e6386b19d",
   "metadata": {},
   "outputs": [
    {
     "name": "stderr",
     "output_type": "stream",
     "text": [
      "/home/sf/anaconda3/envs/tabular-x/lib/python3.8/site-packages/ipykernel/ipkernel.py:287: DeprecationWarning: `should_run_async` will not call `transform_cell` automatically in the future. Please pass the result to `transformed_cell` argument and any exception that happen during thetransform in `preprocessing_exc_tuple` in IPython 7.17 and above.\n",
      "  and should_run_async(code)\n"
     ]
    }
   ],
   "source": [
    "# submission_path = datapath/'submissions'\n",
    "# submission_path.mkdir(exist_ok=True)"
   ]
  },
  {
   "cell_type": "code",
   "execution_count": 165,
   "id": "fd77f8ff-35ba-458b-8311-1cccdee7bd2f",
   "metadata": {},
   "outputs": [
    {
     "name": "stderr",
     "output_type": "stream",
     "text": [
      "/home/sf/anaconda3/envs/tabular-x/lib/python3.8/site-packages/ipykernel/ipkernel.py:287: DeprecationWarning: `should_run_async` will not call `transform_cell` automatically in the future. Please pass the result to `transformed_cell` argument and any exception that happen during thetransform in `preprocessing_exc_tuple` in IPython 7.17 and above.\n",
      "  and should_run_async(code)\n"
     ]
    }
   ],
   "source": [
    "sample_df.to_csv(subpath/f\"{wandb_config['name']}_3level-GBM-stack+TabMLP-at-lv1_cat1983_lgb1983_TabMLP1983_pow-avg4_ensemble_preds.csv\", index=False)"
   ]
  },
  {
   "cell_type": "markdown",
   "id": "8152f70e-867f-4042-98a2-c955ab265892",
   "metadata": {},
   "source": [
    "## 6th power"
   ]
  },
  {
   "cell_type": "code",
   "execution_count": 132,
   "id": "5c026f46-3f2a-4570-a856-3615945af291",
   "metadata": {},
   "outputs": [],
   "source": [
    "power6_avg = (stack_preds**6 + cat1983_preds**6 + lgb1983_preds**6) / 3"
   ]
  },
  {
   "cell_type": "code",
   "execution_count": 133,
   "id": "49a2de33-5e52-45c4-98ea-f4da676dbe61",
   "metadata": {},
   "outputs": [
    {
     "data": {
      "text/plain": [
       "0     1.453223e-01\n",
       "1     2.216024e-04\n",
       "2     5.970323e-01\n",
       "3     3.379802e-01\n",
       "4     6.333571e-04\n",
       "5     1.000517e-04\n",
       "6     1.893294e-09\n",
       "7     1.307097e-03\n",
       "8     8.083981e-01\n",
       "9     3.654518e-01\n",
       "10    5.509207e-01\n",
       "11    3.779948e-02\n",
       "12    4.286530e-06\n",
       "13    3.088500e-03\n",
       "14    4.443441e-03\n",
       "15    3.922523e-04\n",
       "16    6.697587e-04\n",
       "17    1.627795e-02\n",
       "18    3.187391e-07\n",
       "19    7.846978e-01\n",
       "Name: target, dtype: float64"
      ]
     },
     "execution_count": 133,
     "metadata": {},
     "output_type": "execute_result"
    }
   ],
   "source": [
    "power6_avg[:20]"
   ]
  },
  {
   "cell_type": "code",
   "execution_count": null,
   "id": "88965733-2a5b-498e-bb57-fbba89929a63",
   "metadata": {},
   "outputs": [],
   "source": []
  },
  {
   "cell_type": "code",
   "execution_count": 134,
   "id": "13a5d894-77a5-4412-9f69-395581b18048",
   "metadata": {
    "tags": []
   },
   "outputs": [],
   "source": [
    "sample_df = pd.read_csv(datapath/'sample_submission.csv.zip')"
   ]
  },
  {
   "cell_type": "code",
   "execution_count": 135,
   "id": "db5d6475-8c93-48e7-998c-01aef9c38136",
   "metadata": {},
   "outputs": [],
   "source": [
    "sample_df.loc[:, 'target'] = power6_avg"
   ]
  },
  {
   "cell_type": "code",
   "execution_count": 136,
   "id": "5584579e-c04f-482e-8a1b-cfa53a6ce468",
   "metadata": {},
   "outputs": [
    {
     "data": {
      "text/html": [
       "<div>\n",
       "<style scoped>\n",
       "    .dataframe tbody tr th:only-of-type {\n",
       "        vertical-align: middle;\n",
       "    }\n",
       "\n",
       "    .dataframe tbody tr th {\n",
       "        vertical-align: top;\n",
       "    }\n",
       "\n",
       "    .dataframe thead th {\n",
       "        text-align: right;\n",
       "    }\n",
       "</style>\n",
       "<table border=\"1\" class=\"dataframe\">\n",
       "  <thead>\n",
       "    <tr style=\"text-align: right;\">\n",
       "      <th></th>\n",
       "      <th>id</th>\n",
       "      <th>target</th>\n",
       "    </tr>\n",
       "  </thead>\n",
       "  <tbody>\n",
       "    <tr>\n",
       "      <th>0</th>\n",
       "      <td>1000000</td>\n",
       "      <td>0.145322</td>\n",
       "    </tr>\n",
       "    <tr>\n",
       "      <th>1</th>\n",
       "      <td>1000001</td>\n",
       "      <td>0.000222</td>\n",
       "    </tr>\n",
       "    <tr>\n",
       "      <th>2</th>\n",
       "      <td>1000002</td>\n",
       "      <td>0.597032</td>\n",
       "    </tr>\n",
       "    <tr>\n",
       "      <th>3</th>\n",
       "      <td>1000003</td>\n",
       "      <td>0.337980</td>\n",
       "    </tr>\n",
       "    <tr>\n",
       "      <th>4</th>\n",
       "      <td>1000004</td>\n",
       "      <td>0.000633</td>\n",
       "    </tr>\n",
       "  </tbody>\n",
       "</table>\n",
       "</div>"
      ],
      "text/plain": [
       "        id    target\n",
       "0  1000000  0.145322\n",
       "1  1000001  0.000222\n",
       "2  1000002  0.597032\n",
       "3  1000003  0.337980\n",
       "4  1000004  0.000633"
      ]
     },
     "execution_count": 136,
     "metadata": {},
     "output_type": "execute_result"
    }
   ],
   "source": [
    "sample_df.head()"
   ]
  },
  {
   "cell_type": "code",
   "execution_count": 137,
   "id": "91341fd2-7ddb-443f-b653-b203f5adead8",
   "metadata": {},
   "outputs": [
    {
     "name": "stderr",
     "output_type": "stream",
     "text": [
      "/home/sf/anaconda3/envs/tabular-x/lib/python3.8/site-packages/ipykernel/ipkernel.py:287: DeprecationWarning: `should_run_async` will not call `transform_cell` automatically in the future. Please pass the result to `transformed_cell` argument and any exception that happen during thetransform in `preprocessing_exc_tuple` in IPython 7.17 and above.\n",
      "  and should_run_async(code)\n"
     ]
    }
   ],
   "source": [
    "# submission_path = datapath/'submissions'\n",
    "# submission_path.mkdir(exist_ok=True)"
   ]
  },
  {
   "cell_type": "code",
   "execution_count": 138,
   "id": "7970d847-5cf8-48fe-bcbd-57def1a70309",
   "metadata": {},
   "outputs": [],
   "source": [
    "sample_df.to_csv(subpath/f\"{wandb_config['name']}_3level-GBM-stack_cat1983_lgb1983_pow-avg6_ensemble_preds.csv\", index=False)"
   ]
  },
  {
   "cell_type": "markdown",
   "id": "2f544286-a2ae-46fb-b358-d1c0d8af81a8",
   "metadata": {},
   "source": [
    "## 5th power"
   ]
  },
  {
   "cell_type": "code",
   "execution_count": 139,
   "id": "c75f75b6-6c95-49b0-9df8-f2924176a00e",
   "metadata": {},
   "outputs": [],
   "source": [
    "power5_avg = (stack_preds**5 + cat1983_preds**5 + lgb1983_preds**5) / 3"
   ]
  },
  {
   "cell_type": "code",
   "execution_count": 140,
   "id": "e7c0a842-b42a-4b42-b2dc-24b5871aaa09",
   "metadata": {},
   "outputs": [],
   "source": [
    "# power5_avg[:20]"
   ]
  },
  {
   "cell_type": "code",
   "execution_count": null,
   "id": "18dd42c5-9de0-4c28-9b42-71b965a9f148",
   "metadata": {},
   "outputs": [],
   "source": []
  },
  {
   "cell_type": "code",
   "execution_count": 141,
   "id": "915c7ee4-20e2-44b2-8b95-afe3e2386cc6",
   "metadata": {
    "tags": []
   },
   "outputs": [],
   "source": [
    "sample_df = pd.read_csv(datapath/'sample_submission.csv.zip')"
   ]
  },
  {
   "cell_type": "code",
   "execution_count": 142,
   "id": "891b19c3-7249-4c27-be92-3250990f7d0c",
   "metadata": {},
   "outputs": [],
   "source": [
    "sample_df.loc[:, 'target'] = power5_avg"
   ]
  },
  {
   "cell_type": "code",
   "execution_count": 143,
   "id": "72b0f742-5076-4c5d-be11-9aaa0e4fc45e",
   "metadata": {},
   "outputs": [
    {
     "data": {
      "text/html": [
       "<div>\n",
       "<style scoped>\n",
       "    .dataframe tbody tr th:only-of-type {\n",
       "        vertical-align: middle;\n",
       "    }\n",
       "\n",
       "    .dataframe tbody tr th {\n",
       "        vertical-align: top;\n",
       "    }\n",
       "\n",
       "    .dataframe thead th {\n",
       "        text-align: right;\n",
       "    }\n",
       "</style>\n",
       "<table border=\"1\" class=\"dataframe\">\n",
       "  <thead>\n",
       "    <tr style=\"text-align: right;\">\n",
       "      <th></th>\n",
       "      <th>id</th>\n",
       "      <th>target</th>\n",
       "    </tr>\n",
       "  </thead>\n",
       "  <tbody>\n",
       "    <tr>\n",
       "      <th>0</th>\n",
       "      <td>1000000</td>\n",
       "      <td>0.200253</td>\n",
       "    </tr>\n",
       "    <tr>\n",
       "      <th>1</th>\n",
       "      <td>1000001</td>\n",
       "      <td>0.000890</td>\n",
       "    </tr>\n",
       "    <tr>\n",
       "      <th>2</th>\n",
       "      <td>1000002</td>\n",
       "      <td>0.650299</td>\n",
       "    </tr>\n",
       "    <tr>\n",
       "      <th>3</th>\n",
       "      <td>1000003</td>\n",
       "      <td>0.404638</td>\n",
       "    </tr>\n",
       "    <tr>\n",
       "      <th>4</th>\n",
       "      <td>1000004</td>\n",
       "      <td>0.002133</td>\n",
       "    </tr>\n",
       "  </tbody>\n",
       "</table>\n",
       "</div>"
      ],
      "text/plain": [
       "        id    target\n",
       "0  1000000  0.200253\n",
       "1  1000001  0.000890\n",
       "2  1000002  0.650299\n",
       "3  1000003  0.404638\n",
       "4  1000004  0.002133"
      ]
     },
     "execution_count": 143,
     "metadata": {},
     "output_type": "execute_result"
    }
   ],
   "source": [
    "sample_df.head()"
   ]
  },
  {
   "cell_type": "code",
   "execution_count": 144,
   "id": "4fec99b0-4581-4c1b-91af-f9fbc988406c",
   "metadata": {},
   "outputs": [
    {
     "name": "stderr",
     "output_type": "stream",
     "text": [
      "/home/sf/anaconda3/envs/tabular-x/lib/python3.8/site-packages/ipykernel/ipkernel.py:287: DeprecationWarning: `should_run_async` will not call `transform_cell` automatically in the future. Please pass the result to `transformed_cell` argument and any exception that happen during thetransform in `preprocessing_exc_tuple` in IPython 7.17 and above.\n",
      "  and should_run_async(code)\n"
     ]
    }
   ],
   "source": [
    "# submission_path = datapath/'submissions'\n",
    "# submission_path.mkdir(exist_ok=True)"
   ]
  },
  {
   "cell_type": "code",
   "execution_count": 145,
   "id": "c478bab0-280f-493b-8ad6-4db7eb259ecd",
   "metadata": {},
   "outputs": [],
   "source": [
    "sample_df.to_csv(subpath/f\"{wandb_config['name']}_3level-GBM-stack_cat1983_lgb1983_pow-avg5_ensemble_preds.csv\", index=False)"
   ]
  },
  {
   "cell_type": "markdown",
   "id": "733a7092-551c-453e-a529-f225caf84334",
   "metadata": {},
   "source": [
    "## 3rd power"
   ]
  },
  {
   "cell_type": "code",
   "execution_count": 146,
   "id": "aae6f07f-0d59-4972-ac21-d0d4aec233bb",
   "metadata": {},
   "outputs": [],
   "source": [
    "power3_avg = (stack_preds**3 + cat1983_preds**3 + lgb1983_preds**3) / 3"
   ]
  },
  {
   "cell_type": "code",
   "execution_count": 147,
   "id": "70dcbcc7-d5d5-4233-b091-14c474e4dc8d",
   "metadata": {},
   "outputs": [],
   "source": [
    "# power5_avg[:20]"
   ]
  },
  {
   "cell_type": "code",
   "execution_count": null,
   "id": "08039950-9ee8-4347-a3ce-603f3d2127e3",
   "metadata": {},
   "outputs": [],
   "source": []
  },
  {
   "cell_type": "code",
   "execution_count": 148,
   "id": "0676ca5a-9491-4797-9e41-cb31ef96967d",
   "metadata": {
    "tags": []
   },
   "outputs": [],
   "source": [
    "sample_df = pd.read_csv(datapath/'sample_submission.csv.zip')"
   ]
  },
  {
   "cell_type": "code",
   "execution_count": 149,
   "id": "1d2872c8-9db5-4564-93c9-788e05e563b5",
   "metadata": {},
   "outputs": [],
   "source": [
    "sample_df.loc[:, 'target'] = power3_avg"
   ]
  },
  {
   "cell_type": "code",
   "execution_count": 150,
   "id": "2063b49a-13f5-49f1-ace5-35429ff51f54",
   "metadata": {},
   "outputs": [
    {
     "data": {
      "text/html": [
       "<div>\n",
       "<style scoped>\n",
       "    .dataframe tbody tr th:only-of-type {\n",
       "        vertical-align: middle;\n",
       "    }\n",
       "\n",
       "    .dataframe tbody tr th {\n",
       "        vertical-align: top;\n",
       "    }\n",
       "\n",
       "    .dataframe thead th {\n",
       "        text-align: right;\n",
       "    }\n",
       "</style>\n",
       "<table border=\"1\" class=\"dataframe\">\n",
       "  <thead>\n",
       "    <tr style=\"text-align: right;\">\n",
       "      <th></th>\n",
       "      <th>id</th>\n",
       "      <th>target</th>\n",
       "    </tr>\n",
       "  </thead>\n",
       "  <tbody>\n",
       "    <tr>\n",
       "      <th>0</th>\n",
       "      <td>1000000</td>\n",
       "      <td>0.380640</td>\n",
       "    </tr>\n",
       "    <tr>\n",
       "      <th>1</th>\n",
       "      <td>1000001</td>\n",
       "      <td>0.014572</td>\n",
       "    </tr>\n",
       "    <tr>\n",
       "      <th>2</th>\n",
       "      <td>1000002</td>\n",
       "      <td>0.771982</td>\n",
       "    </tr>\n",
       "    <tr>\n",
       "      <th>3</th>\n",
       "      <td>1000003</td>\n",
       "      <td>0.580526</td>\n",
       "    </tr>\n",
       "    <tr>\n",
       "      <th>4</th>\n",
       "      <td>1000004</td>\n",
       "      <td>0.024578</td>\n",
       "    </tr>\n",
       "  </tbody>\n",
       "</table>\n",
       "</div>"
      ],
      "text/plain": [
       "        id    target\n",
       "0  1000000  0.380640\n",
       "1  1000001  0.014572\n",
       "2  1000002  0.771982\n",
       "3  1000003  0.580526\n",
       "4  1000004  0.024578"
      ]
     },
     "execution_count": 150,
     "metadata": {},
     "output_type": "execute_result"
    }
   ],
   "source": [
    "sample_df.head()"
   ]
  },
  {
   "cell_type": "code",
   "execution_count": 151,
   "id": "5bdcfc39-c682-452a-95da-c35fe2a7b689",
   "metadata": {},
   "outputs": [
    {
     "name": "stderr",
     "output_type": "stream",
     "text": [
      "/home/sf/anaconda3/envs/tabular-x/lib/python3.8/site-packages/ipykernel/ipkernel.py:287: DeprecationWarning: `should_run_async` will not call `transform_cell` automatically in the future. Please pass the result to `transformed_cell` argument and any exception that happen during thetransform in `preprocessing_exc_tuple` in IPython 7.17 and above.\n",
      "  and should_run_async(code)\n"
     ]
    }
   ],
   "source": [
    "# submission_path = datapath/'submissions'\n",
    "# submission_path.mkdir(exist_ok=True)"
   ]
  },
  {
   "cell_type": "code",
   "execution_count": 152,
   "id": "a3c73b0e-0ceb-4c7b-96bc-857b6f499966",
   "metadata": {},
   "outputs": [],
   "source": [
    "sample_df.to_csv(subpath/f\"{wandb_config['name']}_3level-GBM-stack_cat1983_lgb1983_pow-avg3_ensemble_preds.csv\", index=False)"
   ]
  }
 ],
 "metadata": {
  "kernelspec": {
   "display_name": "Python 3",
   "language": "python",
   "name": "python3"
  },
  "language_info": {
   "codemirror_mode": {
    "name": "ipython",
    "version": 3
   },
   "file_extension": ".py",
   "mimetype": "text/x-python",
   "name": "python",
   "nbconvert_exporter": "python",
   "pygments_lexer": "ipython3",
   "version": "3.8.11"
  }
 },
 "nbformat": 4,
 "nbformat_minor": 5
}
