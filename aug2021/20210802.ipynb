{
 "cells": [
  {
   "cell_type": "code",
   "execution_count": 1,
   "id": "7bbf2c81-8a11-4dca-ab60-c572c24b966b",
   "metadata": {},
   "outputs": [],
   "source": [
    "import pandas as pd\n",
    "import numpy as np\n",
    "import matplotlib.pyplot as plt\n",
    "from tqdm.notebook import tqdm\n",
    "\n",
    "# general ML tooling\n",
    "from sklearn.model_selection import train_test_split, StratifiedKFold#, KFold\n",
    "# from sklearn.metrics import roc_auc_score\n",
    "# from fastai.vision.all import *\n",
    "import wandb\n",
    "# import timm"
   ]
  },
  {
   "cell_type": "code",
   "execution_count": null,
   "id": "e2820be4-b66f-47de-b45d-034e7a3c386e",
   "metadata": {},
   "outputs": [],
   "source": [
    "# approach = ''"
   ]
  },
  {
   "cell_type": "code",
   "execution_count": 2,
   "id": "e0c30816-4c7a-459a-89e4-0100765d46a2",
   "metadata": {},
   "outputs": [],
   "source": [
    "# import torch\n",
    "# import torch.nn as nn\n",
    "# import torch.nn.functional as F\n",
    "# from torchinfo import summary\n",
    "# # from fastai.callback.wandb import *\n",
    "# from torch.cuda.amp import autocast, GradScaler"
   ]
  },
  {
   "cell_type": "code",
   "execution_count": 3,
   "id": "37a3015f-528d-4bee-bdef-1f75761f94fc",
   "metadata": {},
   "outputs": [],
   "source": [
    "# from fastai.vision.all import *\n",
    "from fastai.tabular.all import *\n",
    "# from fastai.callback.wandb import WandbCallback"
   ]
  },
  {
   "cell_type": "code",
   "execution_count": 2,
   "id": "7c90f041-d4c5-4631-8159-5045062a94ab",
   "metadata": {},
   "outputs": [],
   "source": [
    "# import xgboost as xgb\n",
    "from xgboost import XGBClassifier\n",
    "from sklearn.ensemble import RandomForestClassifier\n",
    "from sklearn.tree import DecisionTreeClassifier"
   ]
  },
  {
   "cell_type": "code",
   "execution_count": 4,
   "id": "0b4f90b2-8ab5-45af-8972-4a8c982c62d8",
   "metadata": {},
   "outputs": [],
   "source": [
    "set_seed(42, reproducible=True)"
   ]
  },
  {
   "cell_type": "code",
   "execution_count": 5,
   "id": "22250722-7ee4-46a8-8c49-96fd2f0e48b0",
   "metadata": {},
   "outputs": [],
   "source": [
    "datapath = Path('/media/sf/easystore/kaggle_data/tabular_playgrounds/202108_august/')"
   ]
  },
  {
   "cell_type": "code",
   "execution_count": 6,
   "id": "2e67f82a-d3a6-461c-829e-db493fd92c5f",
   "metadata": {},
   "outputs": [],
   "source": [
    "df = pd.read_csv(datapath/'train.csv', index_col='id', low_memory=False)"
   ]
  },
  {
   "cell_type": "code",
   "execution_count": 7,
   "id": "b58528c9-c949-44fb-9301-93209ff29807",
   "metadata": {},
   "outputs": [
    {
     "data": {
      "text/plain": [
       "False"
      ]
     },
     "execution_count": 7,
     "metadata": {},
     "output_type": "execute_result"
    }
   ],
   "source": [
    "df.isnull().sum().any()"
   ]
  },
  {
   "cell_type": "code",
   "execution_count": 8,
   "id": "0c269090-a68d-4e36-bf7b-afc97a90e78c",
   "metadata": {
    "collapsed": true,
    "jupyter": {
     "outputs_hidden": true
    },
    "tags": []
   },
   "outputs": [
    {
     "name": "stdout",
     "output_type": "stream",
     "text": [
      "<class 'pandas.core.frame.DataFrame'>\n",
      "Int64Index: 250000 entries, 0 to 249999\n",
      "Data columns (total 101 columns):\n",
      " #    Column  Non-Null Count   Dtype  \n",
      "---   ------  --------------   -----  \n",
      " 0    f0      250000 non-null  float64\n",
      " 1    f1      250000 non-null  int64  \n",
      " 2    f2      250000 non-null  float64\n",
      " 3    f3      250000 non-null  float64\n",
      " 4    f4      250000 non-null  float64\n",
      " 5    f5      250000 non-null  float64\n",
      " 6    f6      250000 non-null  float64\n",
      " 7    f7      250000 non-null  float64\n",
      " 8    f8      250000 non-null  float64\n",
      " 9    f9      250000 non-null  float64\n",
      " 10   f10     250000 non-null  float64\n",
      " 11   f11     250000 non-null  float64\n",
      " 12   f12     250000 non-null  float64\n",
      " 13   f13     250000 non-null  float64\n",
      " 14   f14     250000 non-null  float64\n",
      " 15   f15     250000 non-null  float64\n",
      " 16   f16     250000 non-null  int64  \n",
      " 17   f17     250000 non-null  float64\n",
      " 18   f18     250000 non-null  float64\n",
      " 19   f19     250000 non-null  float64\n",
      " 20   f20     250000 non-null  float64\n",
      " 21   f21     250000 non-null  float64\n",
      " 22   f22     250000 non-null  float64\n",
      " 23   f23     250000 non-null  float64\n",
      " 24   f24     250000 non-null  float64\n",
      " 25   f25     250000 non-null  float64\n",
      " 26   f26     250000 non-null  float64\n",
      " 27   f27     250000 non-null  int64  \n",
      " 28   f28     250000 non-null  float64\n",
      " 29   f29     250000 non-null  float64\n",
      " 30   f30     250000 non-null  float64\n",
      " 31   f31     250000 non-null  float64\n",
      " 32   f32     250000 non-null  float64\n",
      " 33   f33     250000 non-null  float64\n",
      " 34   f34     250000 non-null  float64\n",
      " 35   f35     250000 non-null  float64\n",
      " 36   f36     250000 non-null  float64\n",
      " 37   f37     250000 non-null  float64\n",
      " 38   f38     250000 non-null  float64\n",
      " 39   f39     250000 non-null  float64\n",
      " 40   f40     250000 non-null  float64\n",
      " 41   f41     250000 non-null  float64\n",
      " 42   f42     250000 non-null  float64\n",
      " 43   f43     250000 non-null  float64\n",
      " 44   f44     250000 non-null  float64\n",
      " 45   f45     250000 non-null  float64\n",
      " 46   f46     250000 non-null  float64\n",
      " 47   f47     250000 non-null  float64\n",
      " 48   f48     250000 non-null  float64\n",
      " 49   f49     250000 non-null  float64\n",
      " 50   f50     250000 non-null  float64\n",
      " 51   f51     250000 non-null  float64\n",
      " 52   f52     250000 non-null  float64\n",
      " 53   f53     250000 non-null  float64\n",
      " 54   f54     250000 non-null  float64\n",
      " 55   f55     250000 non-null  int64  \n",
      " 56   f56     250000 non-null  float64\n",
      " 57   f57     250000 non-null  float64\n",
      " 58   f58     250000 non-null  float64\n",
      " 59   f59     250000 non-null  float64\n",
      " 60   f60     250000 non-null  float64\n",
      " 61   f61     250000 non-null  float64\n",
      " 62   f62     250000 non-null  float64\n",
      " 63   f63     250000 non-null  float64\n",
      " 64   f64     250000 non-null  float64\n",
      " 65   f65     250000 non-null  float64\n",
      " 66   f66     250000 non-null  float64\n",
      " 67   f67     250000 non-null  float64\n",
      " 68   f68     250000 non-null  float64\n",
      " 69   f69     250000 non-null  float64\n",
      " 70   f70     250000 non-null  float64\n",
      " 71   f71     250000 non-null  float64\n",
      " 72   f72     250000 non-null  float64\n",
      " 73   f73     250000 non-null  float64\n",
      " 74   f74     250000 non-null  float64\n",
      " 75   f75     250000 non-null  float64\n",
      " 76   f76     250000 non-null  float64\n",
      " 77   f77     250000 non-null  float64\n",
      " 78   f78     250000 non-null  float64\n",
      " 79   f79     250000 non-null  float64\n",
      " 80   f80     250000 non-null  float64\n",
      " 81   f81     250000 non-null  float64\n",
      " 82   f82     250000 non-null  float64\n",
      " 83   f83     250000 non-null  float64\n",
      " 84   f84     250000 non-null  float64\n",
      " 85   f85     250000 non-null  float64\n",
      " 86   f86     250000 non-null  int64  \n",
      " 87   f87     250000 non-null  float64\n",
      " 88   f88     250000 non-null  float64\n",
      " 89   f89     250000 non-null  float64\n",
      " 90   f90     250000 non-null  float64\n",
      " 91   f91     250000 non-null  float64\n",
      " 92   f92     250000 non-null  float64\n",
      " 93   f93     250000 non-null  float64\n",
      " 94   f94     250000 non-null  float64\n",
      " 95   f95     250000 non-null  float64\n",
      " 96   f96     250000 non-null  float64\n",
      " 97   f97     250000 non-null  float64\n",
      " 98   f98     250000 non-null  float64\n",
      " 99   f99     250000 non-null  float64\n",
      " 100  loss    250000 non-null  int64  \n",
      "dtypes: float64(95), int64(6)\n",
      "memory usage: 194.5 MB\n"
     ]
    },
    {
     "name": "stderr",
     "output_type": "stream",
     "text": [
      "<ipython-input-8-6ac79f7ef903>:1: FutureWarning: null_counts is deprecated. Use show_counts instead\n",
      "  df.info(verbose=True, null_counts=True)\n"
     ]
    }
   ],
   "source": [
    "df.info(verbose=True, null_counts=True)"
   ]
  },
  {
   "cell_type": "markdown",
   "id": "c74e1611-88e7-4a34-81f3-cd3b3098af8d",
   "metadata": {},
   "source": [
    "So no NaNs."
   ]
  },
  {
   "cell_type": "code",
   "execution_count": 36,
   "id": "e4c96d49-1099-4eff-ba1b-65e595e7d0f1",
   "metadata": {},
   "outputs": [
    {
     "data": {
      "text/html": [
       "<div>\n",
       "<style scoped>\n",
       "    .dataframe tbody tr th:only-of-type {\n",
       "        vertical-align: middle;\n",
       "    }\n",
       "\n",
       "    .dataframe tbody tr th {\n",
       "        vertical-align: top;\n",
       "    }\n",
       "\n",
       "    .dataframe thead th {\n",
       "        text-align: right;\n",
       "    }\n",
       "</style>\n",
       "<table border=\"1\" class=\"dataframe\">\n",
       "  <thead>\n",
       "    <tr style=\"text-align: right;\">\n",
       "      <th></th>\n",
       "      <th>f0</th>\n",
       "      <th>f1</th>\n",
       "      <th>f2</th>\n",
       "      <th>f3</th>\n",
       "      <th>f4</th>\n",
       "      <th>f5</th>\n",
       "      <th>f6</th>\n",
       "      <th>f7</th>\n",
       "      <th>f8</th>\n",
       "      <th>f9</th>\n",
       "      <th>...</th>\n",
       "      <th>f91</th>\n",
       "      <th>f92</th>\n",
       "      <th>f93</th>\n",
       "      <th>f94</th>\n",
       "      <th>f95</th>\n",
       "      <th>f96</th>\n",
       "      <th>f97</th>\n",
       "      <th>f98</th>\n",
       "      <th>f99</th>\n",
       "      <th>loss</th>\n",
       "    </tr>\n",
       "  </thead>\n",
       "  <tbody>\n",
       "    <tr>\n",
       "      <th>count</th>\n",
       "      <td>250000.000000</td>\n",
       "      <td>250000.000000</td>\n",
       "      <td>250000.000000</td>\n",
       "      <td>250000.000000</td>\n",
       "      <td>250000.000000</td>\n",
       "      <td>250000.000000</td>\n",
       "      <td>250000.000000</td>\n",
       "      <td>250000.000000</td>\n",
       "      <td>250000.000000</td>\n",
       "      <td>250000.000000</td>\n",
       "      <td>...</td>\n",
       "      <td>250000.000000</td>\n",
       "      <td>250000.000000</td>\n",
       "      <td>250000.000000</td>\n",
       "      <td>250000.000000</td>\n",
       "      <td>250000.000000</td>\n",
       "      <td>250000.000000</td>\n",
       "      <td>250000.000000</td>\n",
       "      <td>250000.000000</td>\n",
       "      <td>250000.000000</td>\n",
       "      <td>250000.000000</td>\n",
       "    </tr>\n",
       "    <tr>\n",
       "      <th>mean</th>\n",
       "      <td>0.511213</td>\n",
       "      <td>51.378476</td>\n",
       "      <td>0.107155</td>\n",
       "      <td>0.050010</td>\n",
       "      <td>3595.133426</td>\n",
       "      <td>8.205953</td>\n",
       "      <td>164.508753</td>\n",
       "      <td>0.375533</td>\n",
       "      <td>16.669745</td>\n",
       "      <td>1.190382</td>\n",
       "      <td>...</td>\n",
       "      <td>4856.812768</td>\n",
       "      <td>22.579100</td>\n",
       "      <td>2.030554</td>\n",
       "      <td>0.079692</td>\n",
       "      <td>1.555097</td>\n",
       "      <td>2.417556</td>\n",
       "      <td>0.537484</td>\n",
       "      <td>1.576900</td>\n",
       "      <td>8.048805</td>\n",
       "      <td>6.813920</td>\n",
       "    </tr>\n",
       "    <tr>\n",
       "      <th>std</th>\n",
       "      <td>0.307884</td>\n",
       "      <td>42.396636</td>\n",
       "      <td>1.322200</td>\n",
       "      <td>0.792368</td>\n",
       "      <td>6072.401061</td>\n",
       "      <td>5.475723</td>\n",
       "      <td>183.335563</td>\n",
       "      <td>0.813597</td>\n",
       "      <td>99.758709</td>\n",
       "      <td>0.099700</td>\n",
       "      <td>...</td>\n",
       "      <td>8501.609009</td>\n",
       "      <td>14.849390</td>\n",
       "      <td>0.900211</td>\n",
       "      <td>0.587780</td>\n",
       "      <td>9.253785</td>\n",
       "      <td>0.892563</td>\n",
       "      <td>0.226589</td>\n",
       "      <td>0.646306</td>\n",
       "      <td>5.647368</td>\n",
       "      <td>7.940179</td>\n",
       "    </tr>\n",
       "    <tr>\n",
       "      <th>min</th>\n",
       "      <td>-0.069273</td>\n",
       "      <td>-17.000000</td>\n",
       "      <td>-7.895580</td>\n",
       "      <td>-1.475560</td>\n",
       "      <td>-7589.280000</td>\n",
       "      <td>-3.291050</td>\n",
       "      <td>-40.967200</td>\n",
       "      <td>-4.143080</td>\n",
       "      <td>-502.813000</td>\n",
       "      <td>0.934037</td>\n",
       "      <td>...</td>\n",
       "      <td>-12695.700000</td>\n",
       "      <td>-4.059170</td>\n",
       "      <td>0.057800</td>\n",
       "      <td>-1.998800</td>\n",
       "      <td>-24.686300</td>\n",
       "      <td>-1.131980</td>\n",
       "      <td>0.005249</td>\n",
       "      <td>-0.646967</td>\n",
       "      <td>-0.842397</td>\n",
       "      <td>0.000000</td>\n",
       "    </tr>\n",
       "    <tr>\n",
       "      <th>25%</th>\n",
       "      <td>0.251287</td>\n",
       "      <td>18.000000</td>\n",
       "      <td>-0.611172</td>\n",
       "      <td>-0.719418</td>\n",
       "      <td>163.864750</td>\n",
       "      <td>4.110127</td>\n",
       "      <td>27.894900</td>\n",
       "      <td>-0.026245</td>\n",
       "      <td>-17.392025</td>\n",
       "      <td>1.132640</td>\n",
       "      <td>...</td>\n",
       "      <td>73.203100</td>\n",
       "      <td>11.525450</td>\n",
       "      <td>1.471650</td>\n",
       "      <td>-0.408975</td>\n",
       "      <td>-4.004925</td>\n",
       "      <td>1.906718</td>\n",
       "      <td>0.359646</td>\n",
       "      <td>1.215810</td>\n",
       "      <td>3.732800</td>\n",
       "      <td>1.000000</td>\n",
       "    </tr>\n",
       "    <tr>\n",
       "      <th>50%</th>\n",
       "      <td>0.514962</td>\n",
       "      <td>41.000000</td>\n",
       "      <td>0.253815</td>\n",
       "      <td>0.004099</td>\n",
       "      <td>943.000500</td>\n",
       "      <td>7.472445</td>\n",
       "      <td>91.005250</td>\n",
       "      <td>0.619862</td>\n",
       "      <td>8.714945</td>\n",
       "      <td>1.170370</td>\n",
       "      <td>...</td>\n",
       "      <td>1060.025000</td>\n",
       "      <td>19.993200</td>\n",
       "      <td>1.660830</td>\n",
       "      <td>0.215710</td>\n",
       "      <td>0.759942</td>\n",
       "      <td>2.340430</td>\n",
       "      <td>0.531348</td>\n",
       "      <td>1.451285</td>\n",
       "      <td>7.182205</td>\n",
       "      <td>4.000000</td>\n",
       "    </tr>\n",
       "    <tr>\n",
       "      <th>75%</th>\n",
       "      <td>0.777322</td>\n",
       "      <td>75.000000</td>\n",
       "      <td>0.759249</td>\n",
       "      <td>0.765456</td>\n",
       "      <td>4115.355000</td>\n",
       "      <td>11.030950</td>\n",
       "      <td>240.843750</td>\n",
       "      <td>0.933855</td>\n",
       "      <td>55.407625</td>\n",
       "      <td>1.218880</td>\n",
       "      <td>...</td>\n",
       "      <td>5572.982500</td>\n",
       "      <td>32.271625</td>\n",
       "      <td>2.320085</td>\n",
       "      <td>0.503134</td>\n",
       "      <td>6.202503</td>\n",
       "      <td>2.910020</td>\n",
       "      <td>0.709807</td>\n",
       "      <td>1.901632</td>\n",
       "      <td>10.998550</td>\n",
       "      <td>10.000000</td>\n",
       "    </tr>\n",
       "    <tr>\n",
       "      <th>max</th>\n",
       "      <td>1.072070</td>\n",
       "      <td>273.000000</td>\n",
       "      <td>9.768590</td>\n",
       "      <td>1.680190</td>\n",
       "      <td>37847.500000</td>\n",
       "      <td>35.078000</td>\n",
       "      <td>947.143000</td>\n",
       "      <td>4.010380</td>\n",
       "      <td>465.956000</td>\n",
       "      <td>1.712450</td>\n",
       "      <td>...</td>\n",
       "      <td>54334.600000</td>\n",
       "      <td>79.912400</td>\n",
       "      <td>5.403020</td>\n",
       "      <td>1.944190</td>\n",
       "      <td>42.890400</td>\n",
       "      <td>5.576040</td>\n",
       "      <td>1.105400</td>\n",
       "      <td>4.492620</td>\n",
       "      <td>34.019200</td>\n",
       "      <td>42.000000</td>\n",
       "    </tr>\n",
       "  </tbody>\n",
       "</table>\n",
       "<p>8 rows × 101 columns</p>\n",
       "</div>"
      ],
      "text/plain": [
       "                  f0             f1             f2             f3  \\\n",
       "count  250000.000000  250000.000000  250000.000000  250000.000000   \n",
       "mean        0.511213      51.378476       0.107155       0.050010   \n",
       "std         0.307884      42.396636       1.322200       0.792368   \n",
       "min        -0.069273     -17.000000      -7.895580      -1.475560   \n",
       "25%         0.251287      18.000000      -0.611172      -0.719418   \n",
       "50%         0.514962      41.000000       0.253815       0.004099   \n",
       "75%         0.777322      75.000000       0.759249       0.765456   \n",
       "max         1.072070     273.000000       9.768590       1.680190   \n",
       "\n",
       "                  f4             f5             f6             f7  \\\n",
       "count  250000.000000  250000.000000  250000.000000  250000.000000   \n",
       "mean     3595.133426       8.205953     164.508753       0.375533   \n",
       "std      6072.401061       5.475723     183.335563       0.813597   \n",
       "min     -7589.280000      -3.291050     -40.967200      -4.143080   \n",
       "25%       163.864750       4.110127      27.894900      -0.026245   \n",
       "50%       943.000500       7.472445      91.005250       0.619862   \n",
       "75%      4115.355000      11.030950     240.843750       0.933855   \n",
       "max     37847.500000      35.078000     947.143000       4.010380   \n",
       "\n",
       "                  f8             f9  ...            f91            f92  \\\n",
       "count  250000.000000  250000.000000  ...  250000.000000  250000.000000   \n",
       "mean       16.669745       1.190382  ...    4856.812768      22.579100   \n",
       "std        99.758709       0.099700  ...    8501.609009      14.849390   \n",
       "min      -502.813000       0.934037  ...  -12695.700000      -4.059170   \n",
       "25%       -17.392025       1.132640  ...      73.203100      11.525450   \n",
       "50%         8.714945       1.170370  ...    1060.025000      19.993200   \n",
       "75%        55.407625       1.218880  ...    5572.982500      32.271625   \n",
       "max       465.956000       1.712450  ...   54334.600000      79.912400   \n",
       "\n",
       "                 f93            f94            f95            f96  \\\n",
       "count  250000.000000  250000.000000  250000.000000  250000.000000   \n",
       "mean        2.030554       0.079692       1.555097       2.417556   \n",
       "std         0.900211       0.587780       9.253785       0.892563   \n",
       "min         0.057800      -1.998800     -24.686300      -1.131980   \n",
       "25%         1.471650      -0.408975      -4.004925       1.906718   \n",
       "50%         1.660830       0.215710       0.759942       2.340430   \n",
       "75%         2.320085       0.503134       6.202503       2.910020   \n",
       "max         5.403020       1.944190      42.890400       5.576040   \n",
       "\n",
       "                 f97            f98            f99           loss  \n",
       "count  250000.000000  250000.000000  250000.000000  250000.000000  \n",
       "mean        0.537484       1.576900       8.048805       6.813920  \n",
       "std         0.226589       0.646306       5.647368       7.940179  \n",
       "min         0.005249      -0.646967      -0.842397       0.000000  \n",
       "25%         0.359646       1.215810       3.732800       1.000000  \n",
       "50%         0.531348       1.451285       7.182205       4.000000  \n",
       "75%         0.709807       1.901632      10.998550      10.000000  \n",
       "max         1.105400       4.492620      34.019200      42.000000  \n",
       "\n",
       "[8 rows x 101 columns]"
      ]
     },
     "execution_count": 36,
     "metadata": {},
     "output_type": "execute_result"
    }
   ],
   "source": [
    "# df.describe()"
   ]
  },
  {
   "cell_type": "code",
   "execution_count": 9,
   "id": "8c7a8dd5-cc22-43f2-9eac-13503cc62b66",
   "metadata": {},
   "outputs": [],
   "source": [
    "y = df.loss"
   ]
  },
  {
   "cell_type": "code",
   "execution_count": 10,
   "id": "72e9ce7d-f4f8-4ac4-90fe-a994a463c309",
   "metadata": {},
   "outputs": [],
   "source": [
    "features = [x for x in df.columns if x != 'loss']"
   ]
  },
  {
   "cell_type": "code",
   "execution_count": 11,
   "id": "56229c7f-211d-4095-9b9a-8d081a35e570",
   "metadata": {},
   "outputs": [],
   "source": [
    "X = df[features]"
   ]
  },
  {
   "cell_type": "code",
   "execution_count": 12,
   "id": "9a936bce-3b1d-4aeb-8551-7265ba833632",
   "metadata": {},
   "outputs": [
    {
     "data": {
      "text/plain": [
       "250000"
      ]
     },
     "execution_count": 12,
     "metadata": {},
     "output_type": "execute_result"
    }
   ],
   "source": [
    "len(X)"
   ]
  },
  {
   "cell_type": "code",
   "execution_count": 13,
   "id": "fb5fb870-cc6c-4521-a1e5-fbf0acc5d3ab",
   "metadata": {},
   "outputs": [
    {
     "data": {
      "text/html": [
       "<div>\n",
       "<style scoped>\n",
       "    .dataframe tbody tr th:only-of-type {\n",
       "        vertical-align: middle;\n",
       "    }\n",
       "\n",
       "    .dataframe tbody tr th {\n",
       "        vertical-align: top;\n",
       "    }\n",
       "\n",
       "    .dataframe thead th {\n",
       "        text-align: right;\n",
       "    }\n",
       "</style>\n",
       "<table border=\"1\" class=\"dataframe\">\n",
       "  <thead>\n",
       "    <tr style=\"text-align: right;\">\n",
       "      <th></th>\n",
       "      <th>f0</th>\n",
       "      <th>f1</th>\n",
       "      <th>f2</th>\n",
       "      <th>f3</th>\n",
       "      <th>f4</th>\n",
       "      <th>f5</th>\n",
       "      <th>f6</th>\n",
       "      <th>f7</th>\n",
       "      <th>f8</th>\n",
       "      <th>f9</th>\n",
       "      <th>...</th>\n",
       "      <th>f91</th>\n",
       "      <th>f92</th>\n",
       "      <th>f93</th>\n",
       "      <th>f94</th>\n",
       "      <th>f95</th>\n",
       "      <th>f96</th>\n",
       "      <th>f97</th>\n",
       "      <th>f98</th>\n",
       "      <th>f99</th>\n",
       "      <th>loss</th>\n",
       "    </tr>\n",
       "    <tr>\n",
       "      <th>id</th>\n",
       "      <th></th>\n",
       "      <th></th>\n",
       "      <th></th>\n",
       "      <th></th>\n",
       "      <th></th>\n",
       "      <th></th>\n",
       "      <th></th>\n",
       "      <th></th>\n",
       "      <th></th>\n",
       "      <th></th>\n",
       "      <th></th>\n",
       "      <th></th>\n",
       "      <th></th>\n",
       "      <th></th>\n",
       "      <th></th>\n",
       "      <th></th>\n",
       "      <th></th>\n",
       "      <th></th>\n",
       "      <th></th>\n",
       "      <th></th>\n",
       "      <th></th>\n",
       "    </tr>\n",
       "  </thead>\n",
       "  <tbody>\n",
       "    <tr>\n",
       "      <th>0</th>\n",
       "      <td>-0.002350</td>\n",
       "      <td>59</td>\n",
       "      <td>0.766739</td>\n",
       "      <td>-1.350460</td>\n",
       "      <td>42.2727</td>\n",
       "      <td>16.68570</td>\n",
       "      <td>30.3599</td>\n",
       "      <td>1.267300</td>\n",
       "      <td>0.392007</td>\n",
       "      <td>1.09101</td>\n",
       "      <td>...</td>\n",
       "      <td>-42.43990</td>\n",
       "      <td>26.854000</td>\n",
       "      <td>1.45751</td>\n",
       "      <td>0.696161</td>\n",
       "      <td>0.941764</td>\n",
       "      <td>1.828470</td>\n",
       "      <td>0.924090</td>\n",
       "      <td>2.29658</td>\n",
       "      <td>10.48980</td>\n",
       "      <td>15</td>\n",
       "    </tr>\n",
       "    <tr>\n",
       "      <th>1</th>\n",
       "      <td>0.784462</td>\n",
       "      <td>145</td>\n",
       "      <td>-0.463845</td>\n",
       "      <td>-0.530421</td>\n",
       "      <td>27324.9000</td>\n",
       "      <td>3.47545</td>\n",
       "      <td>160.4980</td>\n",
       "      <td>0.828007</td>\n",
       "      <td>3.735860</td>\n",
       "      <td>1.28138</td>\n",
       "      <td>...</td>\n",
       "      <td>-184.13200</td>\n",
       "      <td>7.901370</td>\n",
       "      <td>1.70644</td>\n",
       "      <td>-0.494699</td>\n",
       "      <td>-2.058300</td>\n",
       "      <td>0.819184</td>\n",
       "      <td>0.439152</td>\n",
       "      <td>2.36470</td>\n",
       "      <td>1.14383</td>\n",
       "      <td>3</td>\n",
       "    </tr>\n",
       "    <tr>\n",
       "      <th>2</th>\n",
       "      <td>0.317816</td>\n",
       "      <td>19</td>\n",
       "      <td>-0.432571</td>\n",
       "      <td>-0.382644</td>\n",
       "      <td>1383.2600</td>\n",
       "      <td>19.71290</td>\n",
       "      <td>31.1026</td>\n",
       "      <td>-0.515354</td>\n",
       "      <td>34.430800</td>\n",
       "      <td>1.24210</td>\n",
       "      <td>...</td>\n",
       "      <td>7.43721</td>\n",
       "      <td>37.218100</td>\n",
       "      <td>3.25339</td>\n",
       "      <td>0.337934</td>\n",
       "      <td>0.615037</td>\n",
       "      <td>2.216760</td>\n",
       "      <td>0.745268</td>\n",
       "      <td>1.69679</td>\n",
       "      <td>12.30550</td>\n",
       "      <td>6</td>\n",
       "    </tr>\n",
       "    <tr>\n",
       "      <th>3</th>\n",
       "      <td>0.210753</td>\n",
       "      <td>17</td>\n",
       "      <td>-0.616454</td>\n",
       "      <td>0.946362</td>\n",
       "      <td>-119.2530</td>\n",
       "      <td>4.08235</td>\n",
       "      <td>185.2570</td>\n",
       "      <td>1.383310</td>\n",
       "      <td>-47.521400</td>\n",
       "      <td>1.09130</td>\n",
       "      <td>...</td>\n",
       "      <td>9.66778</td>\n",
       "      <td>0.626942</td>\n",
       "      <td>1.49425</td>\n",
       "      <td>0.517513</td>\n",
       "      <td>-10.222100</td>\n",
       "      <td>2.627310</td>\n",
       "      <td>0.617270</td>\n",
       "      <td>1.45645</td>\n",
       "      <td>10.02880</td>\n",
       "      <td>2</td>\n",
       "    </tr>\n",
       "    <tr>\n",
       "      <th>4</th>\n",
       "      <td>0.439671</td>\n",
       "      <td>20</td>\n",
       "      <td>0.968126</td>\n",
       "      <td>-0.092546</td>\n",
       "      <td>74.3020</td>\n",
       "      <td>12.30650</td>\n",
       "      <td>72.1860</td>\n",
       "      <td>-0.233964</td>\n",
       "      <td>24.399100</td>\n",
       "      <td>1.10151</td>\n",
       "      <td>...</td>\n",
       "      <td>290.65700</td>\n",
       "      <td>15.604300</td>\n",
       "      <td>1.73557</td>\n",
       "      <td>-0.476668</td>\n",
       "      <td>1.390190</td>\n",
       "      <td>2.195740</td>\n",
       "      <td>0.826987</td>\n",
       "      <td>1.78485</td>\n",
       "      <td>7.07197</td>\n",
       "      <td>1</td>\n",
       "    </tr>\n",
       "  </tbody>\n",
       "</table>\n",
       "<p>5 rows × 101 columns</p>\n",
       "</div>"
      ],
      "text/plain": [
       "          f0   f1        f2        f3          f4        f5        f6  \\\n",
       "id                                                                      \n",
       "0  -0.002350   59  0.766739 -1.350460     42.2727  16.68570   30.3599   \n",
       "1   0.784462  145 -0.463845 -0.530421  27324.9000   3.47545  160.4980   \n",
       "2   0.317816   19 -0.432571 -0.382644   1383.2600  19.71290   31.1026   \n",
       "3   0.210753   17 -0.616454  0.946362   -119.2530   4.08235  185.2570   \n",
       "4   0.439671   20  0.968126 -0.092546     74.3020  12.30650   72.1860   \n",
       "\n",
       "          f7         f8       f9  ...        f91        f92      f93  \\\n",
       "id                                ...                                  \n",
       "0   1.267300   0.392007  1.09101  ...  -42.43990  26.854000  1.45751   \n",
       "1   0.828007   3.735860  1.28138  ... -184.13200   7.901370  1.70644   \n",
       "2  -0.515354  34.430800  1.24210  ...    7.43721  37.218100  3.25339   \n",
       "3   1.383310 -47.521400  1.09130  ...    9.66778   0.626942  1.49425   \n",
       "4  -0.233964  24.399100  1.10151  ...  290.65700  15.604300  1.73557   \n",
       "\n",
       "         f94        f95       f96       f97      f98       f99  loss  \n",
       "id                                                                    \n",
       "0   0.696161   0.941764  1.828470  0.924090  2.29658  10.48980    15  \n",
       "1  -0.494699  -2.058300  0.819184  0.439152  2.36470   1.14383     3  \n",
       "2   0.337934   0.615037  2.216760  0.745268  1.69679  12.30550     6  \n",
       "3   0.517513 -10.222100  2.627310  0.617270  1.45645  10.02880     2  \n",
       "4  -0.476668   1.390190  2.195740  0.826987  1.78485   7.07197     1  \n",
       "\n",
       "[5 rows x 101 columns]"
      ]
     },
     "execution_count": 13,
     "metadata": {},
     "output_type": "execute_result"
    }
   ],
   "source": [
    "df.head()"
   ]
  },
  {
   "cell_type": "code",
   "execution_count": 14,
   "id": "b9156956-967a-4a91-b4f7-9928295721e7",
   "metadata": {},
   "outputs": [
    {
     "data": {
      "text/plain": [
       "(250000, 43)"
      ]
     },
     "execution_count": 14,
     "metadata": {},
     "output_type": "execute_result"
    }
   ],
   "source": [
    "len(y), len(y.value_counts())"
   ]
  },
  {
   "cell_type": "markdown",
   "id": "b35ba01d-1d1a-44b0-96ba-7c982fa8fb78",
   "metadata": {},
   "source": [
    "So, it seems that we're actually looking at a classification problem here -- not a regression one."
   ]
  },
  {
   "cell_type": "markdown",
   "id": "2e9b9de1-fd82-4677-8e5e-60ae1c6da779",
   "metadata": {},
   "source": [
    "# Decision Tree (baseline)"
   ]
  },
  {
   "cell_type": "code",
   "execution_count": 15,
   "id": "228e2c93-bd95-403c-9a8c-bb84f13e9014",
   "metadata": {},
   "outputs": [],
   "source": [
    "X_train, X_valid, y_train, y_valid = train_test_split(X, y, test_size=0.2, random_state=42)"
   ]
  },
  {
   "cell_type": "markdown",
   "id": "1ef2dea9-e3ef-496a-a7f8-b9945da7ab5c",
   "metadata": {},
   "source": [
    "Now, let it overfit:"
   ]
  },
  {
   "cell_type": "code",
   "execution_count": 16,
   "id": "ebd4dede-4e31-4f32-b2ff-b1d299dbef3e",
   "metadata": {},
   "outputs": [],
   "source": [
    "model = DecisionTreeClassifier(random_state=42)"
   ]
  },
  {
   "cell_type": "code",
   "execution_count": 17,
   "id": "f425faf4-5cfd-4a0a-b8b1-f3852a0fb06a",
   "metadata": {},
   "outputs": [
    {
     "data": {
      "text/plain": [
       "DecisionTreeClassifier(random_state=42)"
      ]
     },
     "execution_count": 17,
     "metadata": {},
     "output_type": "execute_result"
    }
   ],
   "source": [
    "model.fit(X_train, y_train)"
   ]
  },
  {
   "cell_type": "code",
   "execution_count": 18,
   "id": "badd955f-3f08-41a1-bd94-d481b3b96017",
   "metadata": {},
   "outputs": [],
   "source": [
    "y_pred = model.predict(X_valid)"
   ]
  },
  {
   "cell_type": "code",
   "execution_count": 19,
   "id": "21c9659f-fd97-48b9-a542-40095b8419b8",
   "metadata": {},
   "outputs": [],
   "source": [
    "from sklearn.model_selection import cross_val_score"
   ]
  },
  {
   "cell_type": "code",
   "execution_count": 20,
   "id": "2a21dda4-fefb-480a-88fc-32144da387f6",
   "metadata": {},
   "outputs": [
    {
     "name": "stderr",
     "output_type": "stream",
     "text": [
      "/home/sf/anaconda3/envs/tabular/lib/python3.8/site-packages/sklearn/model_selection/_split.py:666: UserWarning: The least populated class in y has only 3 members, which is less than n_splits=5.\n",
      "  warnings.warn((\"The least populated class in y has only %d\"\n"
     ]
    },
    {
     "data": {
      "text/plain": [
       "array([0.09832, 0.09872, 0.09842, 0.09776, 0.09964])"
      ]
     },
     "execution_count": 20,
     "metadata": {},
     "output_type": "execute_result"
    }
   ],
   "source": [
    "cross_val_score(model, X, y, cv=5)"
   ]
  },
  {
   "cell_type": "code",
   "execution_count": 26,
   "id": "1a207a2b-aac8-4f1b-8afc-8f164e362f66",
   "metadata": {},
   "outputs": [
    {
     "data": {
      "text/html": [
       "<div>\n",
       "<style scoped>\n",
       "    .dataframe tbody tr th:only-of-type {\n",
       "        vertical-align: middle;\n",
       "    }\n",
       "\n",
       "    .dataframe tbody tr th {\n",
       "        vertical-align: top;\n",
       "    }\n",
       "\n",
       "    .dataframe thead th {\n",
       "        text-align: right;\n",
       "    }\n",
       "</style>\n",
       "<table border=\"1\" class=\"dataframe\">\n",
       "  <thead>\n",
       "    <tr style=\"text-align: right;\">\n",
       "      <th></th>\n",
       "      <th>f0</th>\n",
       "      <th>f1</th>\n",
       "      <th>f2</th>\n",
       "      <th>f3</th>\n",
       "      <th>f4</th>\n",
       "      <th>f5</th>\n",
       "      <th>f6</th>\n",
       "      <th>f7</th>\n",
       "      <th>f8</th>\n",
       "      <th>f9</th>\n",
       "      <th>...</th>\n",
       "      <th>f91</th>\n",
       "      <th>f92</th>\n",
       "      <th>f93</th>\n",
       "      <th>f94</th>\n",
       "      <th>f95</th>\n",
       "      <th>f96</th>\n",
       "      <th>f97</th>\n",
       "      <th>f98</th>\n",
       "      <th>f99</th>\n",
       "      <th>loss</th>\n",
       "    </tr>\n",
       "    <tr>\n",
       "      <th>id</th>\n",
       "      <th></th>\n",
       "      <th></th>\n",
       "      <th></th>\n",
       "      <th></th>\n",
       "      <th></th>\n",
       "      <th></th>\n",
       "      <th></th>\n",
       "      <th></th>\n",
       "      <th></th>\n",
       "      <th></th>\n",
       "      <th></th>\n",
       "      <th></th>\n",
       "      <th></th>\n",
       "      <th></th>\n",
       "      <th></th>\n",
       "      <th></th>\n",
       "      <th></th>\n",
       "      <th></th>\n",
       "      <th></th>\n",
       "      <th></th>\n",
       "      <th></th>\n",
       "    </tr>\n",
       "  </thead>\n",
       "  <tbody>\n",
       "    <tr>\n",
       "      <th>75381</th>\n",
       "      <td>0.660780</td>\n",
       "      <td>11</td>\n",
       "      <td>1.025300</td>\n",
       "      <td>-0.899833</td>\n",
       "      <td>135.097</td>\n",
       "      <td>26.59640</td>\n",
       "      <td>-3.57996</td>\n",
       "      <td>1.115800</td>\n",
       "      <td>28.70010</td>\n",
       "      <td>1.11695</td>\n",
       "      <td>...</td>\n",
       "      <td>831.0820</td>\n",
       "      <td>6.12317</td>\n",
       "      <td>1.54644</td>\n",
       "      <td>-0.847670</td>\n",
       "      <td>-6.23057</td>\n",
       "      <td>1.89005</td>\n",
       "      <td>0.334040</td>\n",
       "      <td>1.53859</td>\n",
       "      <td>29.42350</td>\n",
       "      <td>10</td>\n",
       "    </tr>\n",
       "    <tr>\n",
       "      <th>65569</th>\n",
       "      <td>0.632091</td>\n",
       "      <td>123</td>\n",
       "      <td>-0.740867</td>\n",
       "      <td>0.969644</td>\n",
       "      <td>405.789</td>\n",
       "      <td>3.45397</td>\n",
       "      <td>162.87600</td>\n",
       "      <td>-0.008684</td>\n",
       "      <td>-3.55616</td>\n",
       "      <td>1.21623</td>\n",
       "      <td>...</td>\n",
       "      <td>13801.7000</td>\n",
       "      <td>16.05840</td>\n",
       "      <td>4.20007</td>\n",
       "      <td>1.327930</td>\n",
       "      <td>-1.09445</td>\n",
       "      <td>2.08871</td>\n",
       "      <td>0.221534</td>\n",
       "      <td>1.41467</td>\n",
       "      <td>2.37455</td>\n",
       "      <td>4</td>\n",
       "    </tr>\n",
       "    <tr>\n",
       "      <th>163473</th>\n",
       "      <td>0.728140</td>\n",
       "      <td>16</td>\n",
       "      <td>6.831980</td>\n",
       "      <td>0.194010</td>\n",
       "      <td>7190.240</td>\n",
       "      <td>2.21486</td>\n",
       "      <td>22.96890</td>\n",
       "      <td>2.050900</td>\n",
       "      <td>-43.12080</td>\n",
       "      <td>1.55845</td>\n",
       "      <td>...</td>\n",
       "      <td>770.4300</td>\n",
       "      <td>9.87490</td>\n",
       "      <td>1.10869</td>\n",
       "      <td>-0.665988</td>\n",
       "      <td>11.21250</td>\n",
       "      <td>1.91561</td>\n",
       "      <td>0.566240</td>\n",
       "      <td>1.51815</td>\n",
       "      <td>8.72715</td>\n",
       "      <td>3</td>\n",
       "    </tr>\n",
       "    <tr>\n",
       "      <th>90518</th>\n",
       "      <td>0.549641</td>\n",
       "      <td>125</td>\n",
       "      <td>0.825102</td>\n",
       "      <td>-0.403810</td>\n",
       "      <td>-317.322</td>\n",
       "      <td>4.94806</td>\n",
       "      <td>180.60300</td>\n",
       "      <td>0.563666</td>\n",
       "      <td>-14.81110</td>\n",
       "      <td>1.17739</td>\n",
       "      <td>...</td>\n",
       "      <td>715.5700</td>\n",
       "      <td>8.32496</td>\n",
       "      <td>3.94989</td>\n",
       "      <td>-0.658169</td>\n",
       "      <td>-3.44205</td>\n",
       "      <td>1.61060</td>\n",
       "      <td>0.778453</td>\n",
       "      <td>1.81879</td>\n",
       "      <td>10.21320</td>\n",
       "      <td>7</td>\n",
       "    </tr>\n",
       "    <tr>\n",
       "      <th>138866</th>\n",
       "      <td>0.097337</td>\n",
       "      <td>72</td>\n",
       "      <td>0.891514</td>\n",
       "      <td>0.974637</td>\n",
       "      <td>2514.030</td>\n",
       "      <td>12.08510</td>\n",
       "      <td>530.23800</td>\n",
       "      <td>-0.937181</td>\n",
       "      <td>-6.19168</td>\n",
       "      <td>1.54768</td>\n",
       "      <td>...</td>\n",
       "      <td>-75.2506</td>\n",
       "      <td>13.24720</td>\n",
       "      <td>1.74937</td>\n",
       "      <td>0.509452</td>\n",
       "      <td>-1.65423</td>\n",
       "      <td>2.80576</td>\n",
       "      <td>0.565295</td>\n",
       "      <td>2.10123</td>\n",
       "      <td>12.99470</td>\n",
       "      <td>0</td>\n",
       "    </tr>\n",
       "  </tbody>\n",
       "</table>\n",
       "<p>5 rows × 101 columns</p>\n",
       "</div>"
      ],
      "text/plain": [
       "              f0   f1        f2        f3        f4        f5         f6  \\\n",
       "id                                                                         \n",
       "75381   0.660780   11  1.025300 -0.899833   135.097  26.59640   -3.57996   \n",
       "65569   0.632091  123 -0.740867  0.969644   405.789   3.45397  162.87600   \n",
       "163473  0.728140   16  6.831980  0.194010  7190.240   2.21486   22.96890   \n",
       "90518   0.549641  125  0.825102 -0.403810  -317.322   4.94806  180.60300   \n",
       "138866  0.097337   72  0.891514  0.974637  2514.030  12.08510  530.23800   \n",
       "\n",
       "              f7        f8       f9  ...         f91       f92      f93  \\\n",
       "id                                   ...                                  \n",
       "75381   1.115800  28.70010  1.11695  ...    831.0820   6.12317  1.54644   \n",
       "65569  -0.008684  -3.55616  1.21623  ...  13801.7000  16.05840  4.20007   \n",
       "163473  2.050900 -43.12080  1.55845  ...    770.4300   9.87490  1.10869   \n",
       "90518   0.563666 -14.81110  1.17739  ...    715.5700   8.32496  3.94989   \n",
       "138866 -0.937181  -6.19168  1.54768  ...    -75.2506  13.24720  1.74937   \n",
       "\n",
       "             f94       f95      f96       f97      f98       f99  loss  \n",
       "id                                                                      \n",
       "75381  -0.847670  -6.23057  1.89005  0.334040  1.53859  29.42350    10  \n",
       "65569   1.327930  -1.09445  2.08871  0.221534  1.41467   2.37455     4  \n",
       "163473 -0.665988  11.21250  1.91561  0.566240  1.51815   8.72715     3  \n",
       "90518  -0.658169  -3.44205  1.61060  0.778453  1.81879  10.21320     7  \n",
       "138866  0.509452  -1.65423  2.80576  0.565295  2.10123  12.99470     0  \n",
       "\n",
       "[5 rows x 101 columns]"
      ]
     },
     "execution_count": 26,
     "metadata": {},
     "output_type": "execute_result"
    }
   ],
   "source": [
    "training = X_train.join(y_train)\n",
    "training.head()"
   ]
  },
  {
   "cell_type": "code",
   "execution_count": 28,
   "id": "fe458e09-451b-4380-a92f-72c6716b4e26",
   "metadata": {},
   "outputs": [
    {
     "data": {
      "text/plain": [
       "array([10,  4,  3,  7,  0])"
      ]
     },
     "execution_count": 28,
     "metadata": {},
     "output_type": "execute_result"
    }
   ],
   "source": [
    "y_train_pred = model.predict(X_train)\n",
    "y_train_pred[:5]"
   ]
  },
  {
   "cell_type": "markdown",
   "id": "8ad24680-1180-4225-88af-0e0e9e88fffb",
   "metadata": {},
   "source": [
    "So indeed, some crazy overfitting happening. Let's try a more plausible set of hyperparameters."
   ]
  },
  {
   "cell_type": "code",
   "execution_count": 29,
   "id": "fcdb5685-197d-4b4f-a5c8-33faa6d74d20",
   "metadata": {},
   "outputs": [],
   "source": [
    "model = DecisionTreeClassifier(min_samples_leaf=4, random_state=42)"
   ]
  },
  {
   "cell_type": "code",
   "execution_count": 30,
   "id": "b09fbadf-d19b-43b6-9ba9-cb4e87e52e5a",
   "metadata": {},
   "outputs": [
    {
     "data": {
      "text/plain": [
       "DecisionTreeClassifier(min_samples_leaf=2, random_state=42)"
      ]
     },
     "execution_count": 30,
     "metadata": {},
     "output_type": "execute_result"
    }
   ],
   "source": [
    "model.fit(X_train, y_train)"
   ]
  },
  {
   "cell_type": "code",
   "execution_count": 31,
   "id": "348e501e-ddbb-4ef5-9cd3-0fac88cb1818",
   "metadata": {},
   "outputs": [],
   "source": [
    "y_pred = model.predict(X_valid)"
   ]
  },
  {
   "cell_type": "code",
   "execution_count": 32,
   "id": "a6527da9-9a64-48ff-a24c-670ffa87a685",
   "metadata": {},
   "outputs": [
    {
     "name": "stderr",
     "output_type": "stream",
     "text": [
      "/home/sf/anaconda3/envs/tabular/lib/python3.8/site-packages/sklearn/model_selection/_split.py:666: UserWarning: The least populated class in y has only 3 members, which is less than n_splits=5.\n",
      "  warnings.warn((\"The least populated class in y has only %d\"\n"
     ]
    },
    {
     "data": {
      "text/plain": [
       "array([0.11166, 0.11182, 0.11214, 0.11112, 0.1112 ])"
      ]
     },
     "execution_count": 32,
     "metadata": {},
     "output_type": "execute_result"
    }
   ],
   "source": [
    "cross_val_score(model, X, y, cv=5)"
   ]
  },
  {
   "cell_type": "code",
   "execution_count": 33,
   "id": "18c9dccd-da44-434f-90e4-4aaa6815431e",
   "metadata": {},
   "outputs": [
    {
     "data": {
      "text/plain": [
       "(id\n",
       " 38683      0\n",
       " 64939      7\n",
       " 3954      34\n",
       " 120374     1\n",
       " 172861     6\n",
       " 149303    22\n",
       " 111626     5\n",
       " 164553     3\n",
       " 55779      0\n",
       " 141990     0\n",
       " 176728     4\n",
       " 22049      0\n",
       " 77431      7\n",
       " 111499    20\n",
       " 228764     0\n",
       " Name: loss, dtype: int64,\n",
       " array([ 2,  2,  1,  6,  0,  2,  0,  3, 10,  0,  0,  5, 12,  1, 10]))"
      ]
     },
     "execution_count": 33,
     "metadata": {},
     "output_type": "execute_result"
    }
   ],
   "source": [
    "y_valid[:15], y_pred[:15]"
   ]
  },
  {
   "cell_type": "markdown",
   "id": "8a3896f5-28f8-450a-9fa4-0fdfe5b3b46d",
   "metadata": {},
   "source": [
    "That performs rather worse."
   ]
  },
  {
   "cell_type": "code",
   "execution_count": 34,
   "id": "80c4e184-3108-488a-a3e1-ea6cc754ff22",
   "metadata": {},
   "outputs": [],
   "source": [
    "%config Completer.use_jedi = False"
   ]
  },
  {
   "cell_type": "code",
   "execution_count": 36,
   "id": "329f8d47-d698-4295-9320-4220743946f6",
   "metadata": {},
   "outputs": [
    {
     "data": {
      "text/plain": [
       "62"
      ]
     },
     "execution_count": 36,
     "metadata": {},
     "output_type": "execute_result"
    }
   ],
   "source": [
    "model.get_depth()"
   ]
  },
  {
   "cell_type": "markdown",
   "id": "36159e89-23f2-4704-a83b-f9fbc345268f",
   "metadata": {},
   "source": [
    "Let's try running it one more time, now with a specified max depth of 20."
   ]
  },
  {
   "cell_type": "code",
   "execution_count": 37,
   "id": "c66e28a6-6717-4b2c-b315-916818d291ad",
   "metadata": {},
   "outputs": [],
   "source": [
    "model = DecisionTreeClassifier(max_depth=20, random_state=42)"
   ]
  },
  {
   "cell_type": "code",
   "execution_count": 38,
   "id": "b2a994a3-7bcb-4f2d-afc9-ed344b4557a8",
   "metadata": {},
   "outputs": [
    {
     "data": {
      "text/plain": [
       "DecisionTreeClassifier(max_depth=20, random_state=42)"
      ]
     },
     "execution_count": 38,
     "metadata": {},
     "output_type": "execute_result"
    }
   ],
   "source": [
    "model.fit(X_train, y_train)"
   ]
  },
  {
   "cell_type": "code",
   "execution_count": 39,
   "id": "1141e7ce-c66b-4e09-80c5-cf726b27721c",
   "metadata": {},
   "outputs": [],
   "source": [
    "y_pred = model.predict(X_valid)"
   ]
  },
  {
   "cell_type": "code",
   "execution_count": 40,
   "id": "6a44b2d7-62f2-472c-94ee-6a2228926544",
   "metadata": {},
   "outputs": [
    {
     "name": "stderr",
     "output_type": "stream",
     "text": [
      "/home/sf/anaconda3/envs/tabular/lib/python3.8/site-packages/sklearn/model_selection/_split.py:666: UserWarning: The least populated class in y has only 3 members, which is less than n_splits=5.\n",
      "  warnings.warn((\"The least populated class in y has only %d\"\n"
     ]
    },
    {
     "data": {
      "text/plain": [
       "array([0.2112 , 0.2125 , 0.20882, 0.21512, 0.21638])"
      ]
     },
     "execution_count": 40,
     "metadata": {},
     "output_type": "execute_result"
    }
   ],
   "source": [
    "cross_val_score(model, X, y, cv=5)"
   ]
  },
  {
   "cell_type": "code",
   "execution_count": 41,
   "id": "55442c30-fab9-4809-b348-5298c6c85097",
   "metadata": {},
   "outputs": [],
   "source": [
    "model = RandomForestClassifier(random_state=42, n_estimators=100, min_samples_leaf=2)"
   ]
  },
  {
   "cell_type": "code",
   "execution_count": 42,
   "id": "7ade899b-f128-4a1c-812d-65712638062d",
   "metadata": {},
   "outputs": [
    {
     "data": {
      "text/plain": [
       "RandomForestClassifier(min_samples_leaf=2, random_state=42)"
      ]
     },
     "execution_count": 42,
     "metadata": {},
     "output_type": "execute_result"
    }
   ],
   "source": [
    "model.fit(X_train, y_train)"
   ]
  },
  {
   "cell_type": "code",
   "execution_count": 43,
   "id": "7ef6b896-ccf9-47da-9e74-ea166d252873",
   "metadata": {},
   "outputs": [],
   "source": [
    "y_pred = model.predict(X_valid)"
   ]
  },
  {
   "cell_type": "code",
   "execution_count": 44,
   "id": "233975a1-b5a6-406a-95d5-81d744c1c113",
   "metadata": {},
   "outputs": [
    {
     "name": "stderr",
     "output_type": "stream",
     "text": [
      "/home/sf/anaconda3/envs/tabular/lib/python3.8/site-packages/sklearn/model_selection/_split.py:666: UserWarning: The least populated class in y has only 3 members, which is less than n_splits=5.\n",
      "  warnings.warn((\"The least populated class in y has only %d\"\n"
     ]
    },
    {
     "data": {
      "text/plain": [
       "array([0.2441 , 0.24364, 0.24354, 0.24366, 0.24368])"
      ]
     },
     "execution_count": 44,
     "metadata": {},
     "output_type": "execute_result"
    }
   ],
   "source": [
    "cross_val_score(model, X, y, cv=5)"
   ]
  },
  {
   "cell_type": "code",
   "execution_count": 46,
   "id": "34edd142-f8bd-424d-9dae-79797ba4b0c5",
   "metadata": {},
   "outputs": [
    {
     "data": {
      "text/plain": [
       "\u001b[0;31mSignature:\u001b[0m \u001b[0mmodel\u001b[0m\u001b[0;34m.\u001b[0m\u001b[0mscore\u001b[0m\u001b[0;34m(\u001b[0m\u001b[0mX\u001b[0m\u001b[0;34m,\u001b[0m \u001b[0my\u001b[0m\u001b[0;34m,\u001b[0m \u001b[0msample_weight\u001b[0m\u001b[0;34m=\u001b[0m\u001b[0;32mNone\u001b[0m\u001b[0;34m)\u001b[0m\u001b[0;34m\u001b[0m\u001b[0;34m\u001b[0m\u001b[0m\n",
       "\u001b[0;31mDocstring:\u001b[0m\n",
       "Return the mean accuracy on the given test data and labels.\n",
       "\n",
       "In multi-label classification, this is the subset accuracy\n",
       "which is a harsh metric since you require for each sample that\n",
       "each label set be correctly predicted.\n",
       "\n",
       "Parameters\n",
       "----------\n",
       "X : array-like of shape (n_samples, n_features)\n",
       "    Test samples.\n",
       "\n",
       "y : array-like of shape (n_samples,) or (n_samples, n_outputs)\n",
       "    True labels for `X`.\n",
       "\n",
       "sample_weight : array-like of shape (n_samples,), default=None\n",
       "    Sample weights.\n",
       "\n",
       "Returns\n",
       "-------\n",
       "score : float\n",
       "    Mean accuracy of ``self.predict(X)`` wrt. `y`.\n",
       "\u001b[0;31mFile:\u001b[0m      ~/anaconda3/envs/tabular/lib/python3.8/site-packages/sklearn/base.py\n",
       "\u001b[0;31mType:\u001b[0m      method\n"
      ]
     },
     "metadata": {},
     "output_type": "display_data"
    }
   ],
   "source": [
    "model.score?"
   ]
  },
  {
   "cell_type": "markdown",
   "id": "42b8ff91-ebca-4b3f-bcfc-c1ec55155b48",
   "metadata": {},
   "source": [
    "So, the default score for the `RandomForestClassifier` is accuracy -- meaning that the `RandomForestClassifier` with these hyperparameters gets about 25% accuracy. Not exactly great (but better than the horrifically overfit `DecisionTreeClassifier`, and about 4% better than the `DecisionTreeClassifier` with saner hyperparameters."
   ]
  },
  {
   "cell_type": "markdown",
   "id": "9d8b0aba-df29-4295-b820-63c82c271982",
   "metadata": {},
   "source": [
    "Note that the metric being used for the task is RMSE -- so maybe consider a regressor?"
   ]
  },
  {
   "cell_type": "code",
   "execution_count": 48,
   "id": "e3d9a944-935d-42ee-9fd2-7789138bc7af",
   "metadata": {},
   "outputs": [],
   "source": [
    "from sklearn.ensemble import RandomForestRegressor"
   ]
  },
  {
   "cell_type": "code",
   "execution_count": 49,
   "id": "c6109797-e8c6-4dd3-a529-1ce6ffb1353b",
   "metadata": {
    "collapsed": true,
    "jupyter": {
     "outputs_hidden": true
    },
    "tags": []
   },
   "outputs": [
    {
     "data": {
      "text/plain": [
       "\u001b[0;31mInit signature:\u001b[0m\n",
       "\u001b[0mRandomForestRegressor\u001b[0m\u001b[0;34m(\u001b[0m\u001b[0;34m\u001b[0m\n",
       "\u001b[0;34m\u001b[0m    \u001b[0mn_estimators\u001b[0m\u001b[0;34m=\u001b[0m\u001b[0;36m100\u001b[0m\u001b[0;34m,\u001b[0m\u001b[0;34m\u001b[0m\n",
       "\u001b[0;34m\u001b[0m    \u001b[0;34m*\u001b[0m\u001b[0;34m,\u001b[0m\u001b[0;34m\u001b[0m\n",
       "\u001b[0;34m\u001b[0m    \u001b[0mcriterion\u001b[0m\u001b[0;34m=\u001b[0m\u001b[0;34m'mse'\u001b[0m\u001b[0;34m,\u001b[0m\u001b[0;34m\u001b[0m\n",
       "\u001b[0;34m\u001b[0m    \u001b[0mmax_depth\u001b[0m\u001b[0;34m=\u001b[0m\u001b[0;32mNone\u001b[0m\u001b[0;34m,\u001b[0m\u001b[0;34m\u001b[0m\n",
       "\u001b[0;34m\u001b[0m    \u001b[0mmin_samples_split\u001b[0m\u001b[0;34m=\u001b[0m\u001b[0;36m2\u001b[0m\u001b[0;34m,\u001b[0m\u001b[0;34m\u001b[0m\n",
       "\u001b[0;34m\u001b[0m    \u001b[0mmin_samples_leaf\u001b[0m\u001b[0;34m=\u001b[0m\u001b[0;36m1\u001b[0m\u001b[0;34m,\u001b[0m\u001b[0;34m\u001b[0m\n",
       "\u001b[0;34m\u001b[0m    \u001b[0mmin_weight_fraction_leaf\u001b[0m\u001b[0;34m=\u001b[0m\u001b[0;36m0.0\u001b[0m\u001b[0;34m,\u001b[0m\u001b[0;34m\u001b[0m\n",
       "\u001b[0;34m\u001b[0m    \u001b[0mmax_features\u001b[0m\u001b[0;34m=\u001b[0m\u001b[0;34m'auto'\u001b[0m\u001b[0;34m,\u001b[0m\u001b[0;34m\u001b[0m\n",
       "\u001b[0;34m\u001b[0m    \u001b[0mmax_leaf_nodes\u001b[0m\u001b[0;34m=\u001b[0m\u001b[0;32mNone\u001b[0m\u001b[0;34m,\u001b[0m\u001b[0;34m\u001b[0m\n",
       "\u001b[0;34m\u001b[0m    \u001b[0mmin_impurity_decrease\u001b[0m\u001b[0;34m=\u001b[0m\u001b[0;36m0.0\u001b[0m\u001b[0;34m,\u001b[0m\u001b[0;34m\u001b[0m\n",
       "\u001b[0;34m\u001b[0m    \u001b[0mmin_impurity_split\u001b[0m\u001b[0;34m=\u001b[0m\u001b[0;32mNone\u001b[0m\u001b[0;34m,\u001b[0m\u001b[0;34m\u001b[0m\n",
       "\u001b[0;34m\u001b[0m    \u001b[0mbootstrap\u001b[0m\u001b[0;34m=\u001b[0m\u001b[0;32mTrue\u001b[0m\u001b[0;34m,\u001b[0m\u001b[0;34m\u001b[0m\n",
       "\u001b[0;34m\u001b[0m    \u001b[0moob_score\u001b[0m\u001b[0;34m=\u001b[0m\u001b[0;32mFalse\u001b[0m\u001b[0;34m,\u001b[0m\u001b[0;34m\u001b[0m\n",
       "\u001b[0;34m\u001b[0m    \u001b[0mn_jobs\u001b[0m\u001b[0;34m=\u001b[0m\u001b[0;32mNone\u001b[0m\u001b[0;34m,\u001b[0m\u001b[0;34m\u001b[0m\n",
       "\u001b[0;34m\u001b[0m    \u001b[0mrandom_state\u001b[0m\u001b[0;34m=\u001b[0m\u001b[0;32mNone\u001b[0m\u001b[0;34m,\u001b[0m\u001b[0;34m\u001b[0m\n",
       "\u001b[0;34m\u001b[0m    \u001b[0mverbose\u001b[0m\u001b[0;34m=\u001b[0m\u001b[0;36m0\u001b[0m\u001b[0;34m,\u001b[0m\u001b[0;34m\u001b[0m\n",
       "\u001b[0;34m\u001b[0m    \u001b[0mwarm_start\u001b[0m\u001b[0;34m=\u001b[0m\u001b[0;32mFalse\u001b[0m\u001b[0;34m,\u001b[0m\u001b[0;34m\u001b[0m\n",
       "\u001b[0;34m\u001b[0m    \u001b[0mccp_alpha\u001b[0m\u001b[0;34m=\u001b[0m\u001b[0;36m0.0\u001b[0m\u001b[0;34m,\u001b[0m\u001b[0;34m\u001b[0m\n",
       "\u001b[0;34m\u001b[0m    \u001b[0mmax_samples\u001b[0m\u001b[0;34m=\u001b[0m\u001b[0;32mNone\u001b[0m\u001b[0;34m,\u001b[0m\u001b[0;34m\u001b[0m\n",
       "\u001b[0;34m\u001b[0m\u001b[0;34m)\u001b[0m\u001b[0;34m\u001b[0m\u001b[0;34m\u001b[0m\u001b[0m\n",
       "\u001b[0;31mDocstring:\u001b[0m     \n",
       "A random forest regressor.\n",
       "\n",
       "A random forest is a meta estimator that fits a number of classifying\n",
       "decision trees on various sub-samples of the dataset and uses averaging\n",
       "to improve the predictive accuracy and control over-fitting.\n",
       "The sub-sample size is controlled with the `max_samples` parameter if\n",
       "`bootstrap=True` (default), otherwise the whole dataset is used to build\n",
       "each tree.\n",
       "\n",
       "Read more in the :ref:`User Guide <forest>`.\n",
       "\n",
       "Parameters\n",
       "----------\n",
       "n_estimators : int, default=100\n",
       "    The number of trees in the forest.\n",
       "\n",
       "    .. versionchanged:: 0.22\n",
       "       The default value of ``n_estimators`` changed from 10 to 100\n",
       "       in 0.22.\n",
       "\n",
       "criterion : {\"mse\", \"mae\"}, default=\"mse\"\n",
       "    The function to measure the quality of a split. Supported criteria\n",
       "    are \"mse\" for the mean squared error, which is equal to variance\n",
       "    reduction as feature selection criterion, and \"mae\" for the mean\n",
       "    absolute error.\n",
       "\n",
       "    .. versionadded:: 0.18\n",
       "       Mean Absolute Error (MAE) criterion.\n",
       "\n",
       "max_depth : int, default=None\n",
       "    The maximum depth of the tree. If None, then nodes are expanded until\n",
       "    all leaves are pure or until all leaves contain less than\n",
       "    min_samples_split samples.\n",
       "\n",
       "min_samples_split : int or float, default=2\n",
       "    The minimum number of samples required to split an internal node:\n",
       "\n",
       "    - If int, then consider `min_samples_split` as the minimum number.\n",
       "    - If float, then `min_samples_split` is a fraction and\n",
       "      `ceil(min_samples_split * n_samples)` are the minimum\n",
       "      number of samples for each split.\n",
       "\n",
       "    .. versionchanged:: 0.18\n",
       "       Added float values for fractions.\n",
       "\n",
       "min_samples_leaf : int or float, default=1\n",
       "    The minimum number of samples required to be at a leaf node.\n",
       "    A split point at any depth will only be considered if it leaves at\n",
       "    least ``min_samples_leaf`` training samples in each of the left and\n",
       "    right branches.  This may have the effect of smoothing the model,\n",
       "    especially in regression.\n",
       "\n",
       "    - If int, then consider `min_samples_leaf` as the minimum number.\n",
       "    - If float, then `min_samples_leaf` is a fraction and\n",
       "      `ceil(min_samples_leaf * n_samples)` are the minimum\n",
       "      number of samples for each node.\n",
       "\n",
       "    .. versionchanged:: 0.18\n",
       "       Added float values for fractions.\n",
       "\n",
       "min_weight_fraction_leaf : float, default=0.0\n",
       "    The minimum weighted fraction of the sum total of weights (of all\n",
       "    the input samples) required to be at a leaf node. Samples have\n",
       "    equal weight when sample_weight is not provided.\n",
       "\n",
       "max_features : {\"auto\", \"sqrt\", \"log2\"}, int or float, default=\"auto\"\n",
       "    The number of features to consider when looking for the best split:\n",
       "\n",
       "    - If int, then consider `max_features` features at each split.\n",
       "    - If float, then `max_features` is a fraction and\n",
       "      `round(max_features * n_features)` features are considered at each\n",
       "      split.\n",
       "    - If \"auto\", then `max_features=n_features`.\n",
       "    - If \"sqrt\", then `max_features=sqrt(n_features)`.\n",
       "    - If \"log2\", then `max_features=log2(n_features)`.\n",
       "    - If None, then `max_features=n_features`.\n",
       "\n",
       "    Note: the search for a split does not stop until at least one\n",
       "    valid partition of the node samples is found, even if it requires to\n",
       "    effectively inspect more than ``max_features`` features.\n",
       "\n",
       "max_leaf_nodes : int, default=None\n",
       "    Grow trees with ``max_leaf_nodes`` in best-first fashion.\n",
       "    Best nodes are defined as relative reduction in impurity.\n",
       "    If None then unlimited number of leaf nodes.\n",
       "\n",
       "min_impurity_decrease : float, default=0.0\n",
       "    A node will be split if this split induces a decrease of the impurity\n",
       "    greater than or equal to this value.\n",
       "\n",
       "    The weighted impurity decrease equation is the following::\n",
       "\n",
       "        N_t / N * (impurity - N_t_R / N_t * right_impurity\n",
       "                            - N_t_L / N_t * left_impurity)\n",
       "\n",
       "    where ``N`` is the total number of samples, ``N_t`` is the number of\n",
       "    samples at the current node, ``N_t_L`` is the number of samples in the\n",
       "    left child, and ``N_t_R`` is the number of samples in the right child.\n",
       "\n",
       "    ``N``, ``N_t``, ``N_t_R`` and ``N_t_L`` all refer to the weighted sum,\n",
       "    if ``sample_weight`` is passed.\n",
       "\n",
       "    .. versionadded:: 0.19\n",
       "\n",
       "min_impurity_split : float, default=None\n",
       "    Threshold for early stopping in tree growth. A node will split\n",
       "    if its impurity is above the threshold, otherwise it is a leaf.\n",
       "\n",
       "    .. deprecated:: 0.19\n",
       "       ``min_impurity_split`` has been deprecated in favor of\n",
       "       ``min_impurity_decrease`` in 0.19. The default value of\n",
       "       ``min_impurity_split`` has changed from 1e-7 to 0 in 0.23 and it\n",
       "       will be removed in 1.0 (renaming of 0.25).\n",
       "       Use ``min_impurity_decrease`` instead.\n",
       "\n",
       "bootstrap : bool, default=True\n",
       "    Whether bootstrap samples are used when building trees. If False, the\n",
       "    whole dataset is used to build each tree.\n",
       "\n",
       "oob_score : bool, default=False\n",
       "    Whether to use out-of-bag samples to estimate the generalization score.\n",
       "    Only available if bootstrap=True.\n",
       "\n",
       "n_jobs : int, default=None\n",
       "    The number of jobs to run in parallel. :meth:`fit`, :meth:`predict`,\n",
       "    :meth:`decision_path` and :meth:`apply` are all parallelized over the\n",
       "    trees. ``None`` means 1 unless in a :obj:`joblib.parallel_backend`\n",
       "    context. ``-1`` means using all processors. See :term:`Glossary\n",
       "    <n_jobs>` for more details.\n",
       "\n",
       "random_state : int, RandomState instance or None, default=None\n",
       "    Controls both the randomness of the bootstrapping of the samples used\n",
       "    when building trees (if ``bootstrap=True``) and the sampling of the\n",
       "    features to consider when looking for the best split at each node\n",
       "    (if ``max_features < n_features``).\n",
       "    See :term:`Glossary <random_state>` for details.\n",
       "\n",
       "verbose : int, default=0\n",
       "    Controls the verbosity when fitting and predicting.\n",
       "\n",
       "warm_start : bool, default=False\n",
       "    When set to ``True``, reuse the solution of the previous call to fit\n",
       "    and add more estimators to the ensemble, otherwise, just fit a whole\n",
       "    new forest. See :term:`the Glossary <warm_start>`.\n",
       "\n",
       "ccp_alpha : non-negative float, default=0.0\n",
       "    Complexity parameter used for Minimal Cost-Complexity Pruning. The\n",
       "    subtree with the largest cost complexity that is smaller than\n",
       "    ``ccp_alpha`` will be chosen. By default, no pruning is performed. See\n",
       "    :ref:`minimal_cost_complexity_pruning` for details.\n",
       "\n",
       "    .. versionadded:: 0.22\n",
       "\n",
       "max_samples : int or float, default=None\n",
       "    If bootstrap is True, the number of samples to draw from X\n",
       "    to train each base estimator.\n",
       "\n",
       "    - If None (default), then draw `X.shape[0]` samples.\n",
       "    - If int, then draw `max_samples` samples.\n",
       "    - If float, then draw `max_samples * X.shape[0]` samples. Thus,\n",
       "      `max_samples` should be in the interval `(0, 1)`.\n",
       "\n",
       "    .. versionadded:: 0.22\n",
       "\n",
       "Attributes\n",
       "----------\n",
       "base_estimator_ : DecisionTreeRegressor\n",
       "    The child estimator template used to create the collection of fitted\n",
       "    sub-estimators.\n",
       "\n",
       "estimators_ : list of DecisionTreeRegressor\n",
       "    The collection of fitted sub-estimators.\n",
       "\n",
       "feature_importances_ : ndarray of shape (n_features,)\n",
       "    The impurity-based feature importances.\n",
       "    The higher, the more important the feature.\n",
       "    The importance of a feature is computed as the (normalized)\n",
       "    total reduction of the criterion brought by that feature.  It is also\n",
       "    known as the Gini importance.\n",
       "\n",
       "    Warning: impurity-based feature importances can be misleading for\n",
       "    high cardinality features (many unique values). See\n",
       "    :func:`sklearn.inspection.permutation_importance` as an alternative.\n",
       "\n",
       "n_features_ : int\n",
       "    The number of features when ``fit`` is performed.\n",
       "\n",
       "n_outputs_ : int\n",
       "    The number of outputs when ``fit`` is performed.\n",
       "\n",
       "oob_score_ : float\n",
       "    Score of the training dataset obtained using an out-of-bag estimate.\n",
       "    This attribute exists only when ``oob_score`` is True.\n",
       "\n",
       "oob_prediction_ : ndarray of shape (n_samples,)\n",
       "    Prediction computed with out-of-bag estimate on the training set.\n",
       "    This attribute exists only when ``oob_score`` is True.\n",
       "\n",
       "See Also\n",
       "--------\n",
       "DecisionTreeRegressor, ExtraTreesRegressor\n",
       "\n",
       "Notes\n",
       "-----\n",
       "The default values for the parameters controlling the size of the trees\n",
       "(e.g. ``max_depth``, ``min_samples_leaf``, etc.) lead to fully grown and\n",
       "unpruned trees which can potentially be very large on some data sets. To\n",
       "reduce memory consumption, the complexity and size of the trees should be\n",
       "controlled by setting those parameter values.\n",
       "\n",
       "The features are always randomly permuted at each split. Therefore,\n",
       "the best found split may vary, even with the same training data,\n",
       "``max_features=n_features`` and ``bootstrap=False``, if the improvement\n",
       "of the criterion is identical for several splits enumerated during the\n",
       "search of the best split. To obtain a deterministic behaviour during\n",
       "fitting, ``random_state`` has to be fixed.\n",
       "\n",
       "The default value ``max_features=\"auto\"`` uses ``n_features``\n",
       "rather than ``n_features / 3``. The latter was originally suggested in\n",
       "[1], whereas the former was more recently justified empirically in [2].\n",
       "\n",
       "References\n",
       "----------\n",
       ".. [1] L. Breiman, \"Random Forests\", Machine Learning, 45(1), 5-32, 2001.\n",
       "\n",
       ".. [2] P. Geurts, D. Ernst., and L. Wehenkel, \"Extremely randomized\n",
       "       trees\", Machine Learning, 63(1), 3-42, 2006.\n",
       "\n",
       "Examples\n",
       "--------\n",
       ">>> from sklearn.ensemble import RandomForestRegressor\n",
       ">>> from sklearn.datasets import make_regression\n",
       ">>> X, y = make_regression(n_features=4, n_informative=2,\n",
       "...                        random_state=0, shuffle=False)\n",
       ">>> regr = RandomForestRegressor(max_depth=2, random_state=0)\n",
       ">>> regr.fit(X, y)\n",
       "RandomForestRegressor(...)\n",
       ">>> print(regr.predict([[0, 0, 0, 0]]))\n",
       "[-8.32987858]\n",
       "\u001b[0;31mFile:\u001b[0m           ~/anaconda3/envs/tabular/lib/python3.8/site-packages/sklearn/ensemble/_forest.py\n",
       "\u001b[0;31mType:\u001b[0m           ABCMeta\n",
       "\u001b[0;31mSubclasses:\u001b[0m     \n"
      ]
     },
     "metadata": {},
     "output_type": "display_data"
    }
   ],
   "source": [
    "?RandomForestRegressor"
   ]
  },
  {
   "cell_type": "code",
   "execution_count": 50,
   "id": "a4f2dd57-ee66-4f0c-a9e2-1e7a3161f805",
   "metadata": {},
   "outputs": [],
   "source": [
    "model = RandomForestRegressor(random_state=42, n_estimators=100)"
   ]
  },
  {
   "cell_type": "code",
   "execution_count": 51,
   "id": "5239615f-39b5-4ac7-bb83-21cedaa623dc",
   "metadata": {},
   "outputs": [
    {
     "data": {
      "text/plain": [
       "RandomForestRegressor(random_state=42)"
      ]
     },
     "execution_count": 51,
     "metadata": {},
     "output_type": "execute_result"
    }
   ],
   "source": [
    "model.fit(X_train, y_train)"
   ]
  },
  {
   "cell_type": "code",
   "execution_count": 52,
   "id": "8bba2580-90f8-4982-b17a-220137255ab9",
   "metadata": {},
   "outputs": [],
   "source": [
    "y_pred = model.predict(X_valid)"
   ]
  },
  {
   "cell_type": "code",
   "execution_count": 54,
   "id": "c598cee4-5b8b-410d-bba3-d14b0d743aba",
   "metadata": {},
   "outputs": [],
   "source": [
    "scores = cross_val_score(model, X, y, cv=5)"
   ]
  },
  {
   "cell_type": "code",
   "execution_count": 55,
   "id": "a15ad05e-fa76-4894-a52f-545f0b79190d",
   "metadata": {},
   "outputs": [
    {
     "data": {
      "text/plain": [
       "array([-0.01167757, -0.01353459, -0.01139984, -0.01034689, -0.00996452])"
      ]
     },
     "execution_count": 55,
     "metadata": {},
     "output_type": "execute_result"
    }
   ],
   "source": [
    "scores"
   ]
  },
  {
   "cell_type": "code",
   "execution_count": 57,
   "id": "b9178f21-d235-4f90-a725-09eb1b97c38b",
   "metadata": {},
   "outputs": [],
   "source": [
    "rmses = [math.sqrt(abs(score)) for score in scores]"
   ]
  },
  {
   "cell_type": "code",
   "execution_count": 58,
   "id": "a76781fb-89ae-4915-aa2b-1a4ca7a138b9",
   "metadata": {},
   "outputs": [
    {
     "data": {
      "text/plain": [
       "[0.10806282456243882,\n",
       " 0.11633824882282971,\n",
       " 0.10677005441820361,\n",
       " 0.10171965394414972,\n",
       " 0.09982244295873825]"
      ]
     },
     "execution_count": 58,
     "metadata": {},
     "output_type": "execute_result"
    }
   ],
   "source": [
    "rmses"
   ]
  },
  {
   "cell_type": "markdown",
   "id": "9cffba91-ba1b-4471-8c72-adaec6eaa4ec",
   "metadata": {},
   "source": [
    "Let's give that a submit..."
   ]
  },
  {
   "cell_type": "code",
   "execution_count": 59,
   "id": "324ace2e-55eb-4835-bafd-443fb2d821e3",
   "metadata": {},
   "outputs": [],
   "source": [
    "test_df = pd.read_csv(datapath/'test.csv', index_col='id', low_memory=False)"
   ]
  },
  {
   "cell_type": "code",
   "execution_count": 60,
   "id": "8f851ea9-813e-4ab2-adc4-7b728690e6b4",
   "metadata": {},
   "outputs": [
    {
     "data": {
      "text/html": [
       "<div>\n",
       "<style scoped>\n",
       "    .dataframe tbody tr th:only-of-type {\n",
       "        vertical-align: middle;\n",
       "    }\n",
       "\n",
       "    .dataframe tbody tr th {\n",
       "        vertical-align: top;\n",
       "    }\n",
       "\n",
       "    .dataframe thead th {\n",
       "        text-align: right;\n",
       "    }\n",
       "</style>\n",
       "<table border=\"1\" class=\"dataframe\">\n",
       "  <thead>\n",
       "    <tr style=\"text-align: right;\">\n",
       "      <th></th>\n",
       "      <th>f0</th>\n",
       "      <th>f1</th>\n",
       "      <th>f2</th>\n",
       "      <th>f3</th>\n",
       "      <th>f4</th>\n",
       "      <th>f5</th>\n",
       "      <th>f6</th>\n",
       "      <th>f7</th>\n",
       "      <th>f8</th>\n",
       "      <th>f9</th>\n",
       "      <th>...</th>\n",
       "      <th>f90</th>\n",
       "      <th>f91</th>\n",
       "      <th>f92</th>\n",
       "      <th>f93</th>\n",
       "      <th>f94</th>\n",
       "      <th>f95</th>\n",
       "      <th>f96</th>\n",
       "      <th>f97</th>\n",
       "      <th>f98</th>\n",
       "      <th>f99</th>\n",
       "    </tr>\n",
       "    <tr>\n",
       "      <th>id</th>\n",
       "      <th></th>\n",
       "      <th></th>\n",
       "      <th></th>\n",
       "      <th></th>\n",
       "      <th></th>\n",
       "      <th></th>\n",
       "      <th></th>\n",
       "      <th></th>\n",
       "      <th></th>\n",
       "      <th></th>\n",
       "      <th></th>\n",
       "      <th></th>\n",
       "      <th></th>\n",
       "      <th></th>\n",
       "      <th></th>\n",
       "      <th></th>\n",
       "      <th></th>\n",
       "      <th></th>\n",
       "      <th></th>\n",
       "      <th></th>\n",
       "      <th></th>\n",
       "    </tr>\n",
       "  </thead>\n",
       "  <tbody>\n",
       "    <tr>\n",
       "      <th>250000</th>\n",
       "      <td>0.812665</td>\n",
       "      <td>15</td>\n",
       "      <td>-1.239120</td>\n",
       "      <td>-0.893251</td>\n",
       "      <td>295.5770</td>\n",
       "      <td>15.87120</td>\n",
       "      <td>23.04360</td>\n",
       "      <td>0.942256</td>\n",
       "      <td>29.898000</td>\n",
       "      <td>1.11394</td>\n",
       "      <td>...</td>\n",
       "      <td>0.446389</td>\n",
       "      <td>-422.332</td>\n",
       "      <td>-1.44630</td>\n",
       "      <td>1.69075</td>\n",
       "      <td>1.059300</td>\n",
       "      <td>-3.010570</td>\n",
       "      <td>1.94664</td>\n",
       "      <td>0.529470</td>\n",
       "      <td>1.386950</td>\n",
       "      <td>8.78767</td>\n",
       "    </tr>\n",
       "    <tr>\n",
       "      <th>250001</th>\n",
       "      <td>0.190344</td>\n",
       "      <td>131</td>\n",
       "      <td>-0.501361</td>\n",
       "      <td>0.801921</td>\n",
       "      <td>64.8866</td>\n",
       "      <td>3.09703</td>\n",
       "      <td>344.80500</td>\n",
       "      <td>0.807194</td>\n",
       "      <td>38.421900</td>\n",
       "      <td>1.09695</td>\n",
       "      <td>...</td>\n",
       "      <td>0.377179</td>\n",
       "      <td>10352.200</td>\n",
       "      <td>21.06270</td>\n",
       "      <td>1.84351</td>\n",
       "      <td>0.251895</td>\n",
       "      <td>4.440570</td>\n",
       "      <td>1.90309</td>\n",
       "      <td>0.248534</td>\n",
       "      <td>0.863881</td>\n",
       "      <td>11.79390</td>\n",
       "    </tr>\n",
       "    <tr>\n",
       "      <th>250002</th>\n",
       "      <td>0.919671</td>\n",
       "      <td>19</td>\n",
       "      <td>-0.057382</td>\n",
       "      <td>0.901419</td>\n",
       "      <td>11961.2000</td>\n",
       "      <td>16.39650</td>\n",
       "      <td>273.24000</td>\n",
       "      <td>-0.003300</td>\n",
       "      <td>37.940000</td>\n",
       "      <td>1.15222</td>\n",
       "      <td>...</td>\n",
       "      <td>0.990140</td>\n",
       "      <td>3224.020</td>\n",
       "      <td>-2.25287</td>\n",
       "      <td>1.55100</td>\n",
       "      <td>-0.559157</td>\n",
       "      <td>17.838600</td>\n",
       "      <td>1.83385</td>\n",
       "      <td>0.931796</td>\n",
       "      <td>2.336870</td>\n",
       "      <td>9.05400</td>\n",
       "    </tr>\n",
       "    <tr>\n",
       "      <th>250003</th>\n",
       "      <td>0.860985</td>\n",
       "      <td>19</td>\n",
       "      <td>-0.549509</td>\n",
       "      <td>0.471799</td>\n",
       "      <td>7501.6000</td>\n",
       "      <td>2.80698</td>\n",
       "      <td>71.08170</td>\n",
       "      <td>0.792136</td>\n",
       "      <td>0.395235</td>\n",
       "      <td>1.20157</td>\n",
       "      <td>...</td>\n",
       "      <td>1.396880</td>\n",
       "      <td>9689.760</td>\n",
       "      <td>14.77150</td>\n",
       "      <td>1.41390</td>\n",
       "      <td>0.329272</td>\n",
       "      <td>0.802437</td>\n",
       "      <td>2.23251</td>\n",
       "      <td>0.893348</td>\n",
       "      <td>1.359470</td>\n",
       "      <td>4.84833</td>\n",
       "    </tr>\n",
       "    <tr>\n",
       "      <th>250004</th>\n",
       "      <td>0.313229</td>\n",
       "      <td>89</td>\n",
       "      <td>0.588509</td>\n",
       "      <td>0.167705</td>\n",
       "      <td>2931.2600</td>\n",
       "      <td>4.34986</td>\n",
       "      <td>1.57187</td>\n",
       "      <td>1.118300</td>\n",
       "      <td>7.754630</td>\n",
       "      <td>1.16807</td>\n",
       "      <td>...</td>\n",
       "      <td>0.862502</td>\n",
       "      <td>2693.350</td>\n",
       "      <td>44.18050</td>\n",
       "      <td>1.58020</td>\n",
       "      <td>-0.191021</td>\n",
       "      <td>26.253000</td>\n",
       "      <td>2.68238</td>\n",
       "      <td>0.361923</td>\n",
       "      <td>1.532800</td>\n",
       "      <td>3.70660</td>\n",
       "    </tr>\n",
       "  </tbody>\n",
       "</table>\n",
       "<p>5 rows × 100 columns</p>\n",
       "</div>"
      ],
      "text/plain": [
       "              f0   f1        f2        f3          f4        f5         f6  \\\n",
       "id                                                                           \n",
       "250000  0.812665   15 -1.239120 -0.893251    295.5770  15.87120   23.04360   \n",
       "250001  0.190344  131 -0.501361  0.801921     64.8866   3.09703  344.80500   \n",
       "250002  0.919671   19 -0.057382  0.901419  11961.2000  16.39650  273.24000   \n",
       "250003  0.860985   19 -0.549509  0.471799   7501.6000   2.80698   71.08170   \n",
       "250004  0.313229   89  0.588509  0.167705   2931.2600   4.34986    1.57187   \n",
       "\n",
       "              f7         f8       f9  ...       f90        f91       f92  \\\n",
       "id                                    ...                                  \n",
       "250000  0.942256  29.898000  1.11394  ...  0.446389   -422.332  -1.44630   \n",
       "250001  0.807194  38.421900  1.09695  ...  0.377179  10352.200  21.06270   \n",
       "250002 -0.003300  37.940000  1.15222  ...  0.990140   3224.020  -2.25287   \n",
       "250003  0.792136   0.395235  1.20157  ...  1.396880   9689.760  14.77150   \n",
       "250004  1.118300   7.754630  1.16807  ...  0.862502   2693.350  44.18050   \n",
       "\n",
       "            f93       f94        f95      f96       f97       f98       f99  \n",
       "id                                                                           \n",
       "250000  1.69075  1.059300  -3.010570  1.94664  0.529470  1.386950   8.78767  \n",
       "250001  1.84351  0.251895   4.440570  1.90309  0.248534  0.863881  11.79390  \n",
       "250002  1.55100 -0.559157  17.838600  1.83385  0.931796  2.336870   9.05400  \n",
       "250003  1.41390  0.329272   0.802437  2.23251  0.893348  1.359470   4.84833  \n",
       "250004  1.58020 -0.191021  26.253000  2.68238  0.361923  1.532800   3.70660  \n",
       "\n",
       "[5 rows x 100 columns]"
      ]
     },
     "execution_count": 60,
     "metadata": {},
     "output_type": "execute_result"
    }
   ],
   "source": [
    "test_df.head()"
   ]
  },
  {
   "cell_type": "code",
   "execution_count": 62,
   "id": "366ea40b-5a0e-494a-acef-a1cdbe729016",
   "metadata": {},
   "outputs": [],
   "source": [
    "X_test = test_df[features] # this is just for naming consistency"
   ]
  },
  {
   "cell_type": "code",
   "execution_count": null,
   "id": "168ef04e-7b98-49c7-a4b5-4e5fff0dfae5",
   "metadata": {},
   "outputs": [],
   "source": []
  },
  {
   "cell_type": "code",
   "execution_count": 68,
   "id": "641f8a5c-73be-4edf-b4d2-0ac91f520e86",
   "metadata": {},
   "outputs": [],
   "source": [
    "y_test_preds = model.predict(X_test)"
   ]
  },
  {
   "cell_type": "code",
   "execution_count": 70,
   "id": "2cfc840d-e493-4b08-b5d8-68b6b39e8e5e",
   "metadata": {},
   "outputs": [
    {
     "data": {
      "text/plain": [
       "array([ 6.86,  8.42,  6.61,  5.18,  8.86, 11.54,  8.29,  7.55,  5.35,\n",
       "        8.58,  7.89,  7.71,  3.07,  4.82, 10.54])"
      ]
     },
     "execution_count": 70,
     "metadata": {},
     "output_type": "execute_result"
    }
   ],
   "source": [
    "y_test_preds[:15]"
   ]
  },
  {
   "cell_type": "code",
   "execution_count": 72,
   "id": "fc2a3f08-2efa-46f7-9357-433f8aa21e0e",
   "metadata": {},
   "outputs": [],
   "source": [
    "test_df['loss'] = y_test_preds"
   ]
  },
  {
   "cell_type": "code",
   "execution_count": 74,
   "id": "9c87e462-6fe0-48ee-b778-f04b2f358a69",
   "metadata": {},
   "outputs": [],
   "source": [
    "sample_df = pd.read_csv(datapath/'sample_submission.csv')"
   ]
  },
  {
   "cell_type": "code",
   "execution_count": 78,
   "id": "298ea7ec-be54-4d6d-ad15-35e4c9c1edd6",
   "metadata": {},
   "outputs": [],
   "source": [
    "sample_df.loc[:, 'loss'] = y_test_preds"
   ]
  },
  {
   "cell_type": "code",
   "execution_count": 79,
   "id": "78c4456c-ae2a-4f4e-9c4c-8db65d985b40",
   "metadata": {},
   "outputs": [
    {
     "data": {
      "text/html": [
       "<div>\n",
       "<style scoped>\n",
       "    .dataframe tbody tr th:only-of-type {\n",
       "        vertical-align: middle;\n",
       "    }\n",
       "\n",
       "    .dataframe tbody tr th {\n",
       "        vertical-align: top;\n",
       "    }\n",
       "\n",
       "    .dataframe thead th {\n",
       "        text-align: right;\n",
       "    }\n",
       "</style>\n",
       "<table border=\"1\" class=\"dataframe\">\n",
       "  <thead>\n",
       "    <tr style=\"text-align: right;\">\n",
       "      <th></th>\n",
       "      <th>id</th>\n",
       "      <th>loss</th>\n",
       "    </tr>\n",
       "  </thead>\n",
       "  <tbody>\n",
       "    <tr>\n",
       "      <th>0</th>\n",
       "      <td>250000</td>\n",
       "      <td>6.86</td>\n",
       "    </tr>\n",
       "    <tr>\n",
       "      <th>1</th>\n",
       "      <td>250001</td>\n",
       "      <td>8.42</td>\n",
       "    </tr>\n",
       "    <tr>\n",
       "      <th>2</th>\n",
       "      <td>250002</td>\n",
       "      <td>6.61</td>\n",
       "    </tr>\n",
       "    <tr>\n",
       "      <th>3</th>\n",
       "      <td>250003</td>\n",
       "      <td>5.18</td>\n",
       "    </tr>\n",
       "    <tr>\n",
       "      <th>4</th>\n",
       "      <td>250004</td>\n",
       "      <td>8.86</td>\n",
       "    </tr>\n",
       "  </tbody>\n",
       "</table>\n",
       "</div>"
      ],
      "text/plain": [
       "       id  loss\n",
       "0  250000  6.86\n",
       "1  250001  8.42\n",
       "2  250002  6.61\n",
       "3  250003  5.18\n",
       "4  250004  8.86"
      ]
     },
     "execution_count": 79,
     "metadata": {},
     "output_type": "execute_result"
    }
   ],
   "source": [
    "sample_df.head()"
   ]
  },
  {
   "cell_type": "code",
   "execution_count": 80,
   "id": "6faf72a6-b7a0-40d0-bbb6-0b07276c4096",
   "metadata": {},
   "outputs": [],
   "source": [
    "sample_df.to_csv('20210806_RandomForest_100estimators.csv', index=False)"
   ]
  }
 ],
 "metadata": {
  "kernelspec": {
   "display_name": "Python 3",
   "language": "python",
   "name": "python3"
  },
  "language_info": {
   "codemirror_mode": {
    "name": "ipython",
    "version": 3
   },
   "file_extension": ".py",
   "mimetype": "text/x-python",
   "name": "python",
   "nbconvert_exporter": "python",
   "pygments_lexer": "ipython3",
   "version": "3.8.10"
  }
 },
 "nbformat": 4,
 "nbformat_minor": 5
}
