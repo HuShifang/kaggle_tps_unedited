{
 "cells": [
  {
   "cell_type": "code",
   "execution_count": 1,
   "id": "2ca3c0bc",
   "metadata": {},
   "outputs": [],
   "source": [
    "import pandas as pd\n",
    "import numpy as np\n",
    "import matplotlib.pyplot as plt\n",
    "from tqdm.notebook import tqdm\n",
    "\n",
    "# general ML tooling\n",
    "from sklearn.model_selection import train_test_split, StratifiedKFold, KFold\n",
    "from sklearn.metrics import mean_squared_error\n",
    "import wandb\n",
    "from wandb.xgboost import wandb_callback\n",
    "# import timm\n",
    "from pathlib import Path\n",
    "import os\n",
    "import math\n",
    "import seaborn as sns\n",
    "\n",
    "from xgboost import XGBRegressor\n",
    "# from sklearn.ensemble import RandomForestRegressor\n",
    "from sklearn.preprocessing import MaxAbsScaler\n",
    "from sklearn.feature_selection import SelectKBest, f_regression\n",
    "from joblib import dump, load\n",
    "# feature engineering tools\n",
    "# from sklearn.feature_selection import mutual_info_regression\n",
    "# import featuretools as ft"
   ]
  },
  {
   "cell_type": "code",
   "execution_count": 2,
   "id": "a2e4a24c",
   "metadata": {},
   "outputs": [],
   "source": [
    "%matplotlib inline\n",
    "%config Completer.use_jedi = False\n",
    "os.environ['WANDB_NOTEBOOK_NAME'] = 'inference_ensemble_20210826a.ipynb'\n",
    "config_run = {\n",
    "    'name': os.environ['WANDB_NOTEBOOK_NAME'][:-6], # just removes the .ipynb extension, leaving the notebook filename's stem\n",
    "    'tags': ['XGBoost', 'kfold', 'scaling'],\n",
    "    'notes': \n",
    "        \"\"\"Trying k-fold sans feature selection on a lower number of estimators, just to see what happens.\"\"\",\n",
    "}"
   ]
  },
  {
   "cell_type": "code",
   "execution_count": 3,
   "id": "791ad068",
   "metadata": {},
   "outputs": [],
   "source": [
    "datapath = Path('/media/sf/easystore/kaggle_data/tabular_playgrounds/202108_august/')"
   ]
  },
  {
   "cell_type": "code",
   "execution_count": 4,
   "id": "cc5a23ba",
   "metadata": {},
   "outputs": [],
   "source": [
    "# df = pd.read_csv(datapath/'train.csv', index_col='id', low_memory=False)\n",
    "# df.index.name = None\n",
    "# df.to_feather(path='./dataset_df.feather')\n",
    "df = pd.read_feather(path='dataset_df.feather')\n",
    "df.index.name = 'id'"
   ]
  },
  {
   "cell_type": "code",
   "execution_count": 5,
   "id": "abd59910",
   "metadata": {},
   "outputs": [],
   "source": [
    "# def create_folds(data):\n",
    "#     # placeholder value for the new column\n",
    "#     data['kfold'] = -1 \n",
    "\n",
    "#     # randomize the rows of the data\n",
    "#     data = data.sample(frac=1).reset_index(drop=True)\n",
    "\n",
    "#     # calculate number of bins by Sturge's rule (with floor)\n",
    "#     num_bins = np.floor(1 + np.log2(len(data)))\n",
    "    \n",
    "#     # bin targets\n",
    "#     data.loc[:, \"bins\"] = pd.cut(\n",
    "#         data['loss'], bins=num_bins, labels=False\n",
    "#     )\n",
    "    \n",
    "#     # initialize kfold class\n",
    "#     kfold = StratifiedKFold(n_splits=5)\n",
    "    \n",
    "#     # fill the new kfold column, using bins\n",
    "#     for f, (t_, v_) in enumerate(kfold.split(X=data, y=data.bins.values)):\n",
    "#         data.loc[v_, 'kfold'] = f\n",
    "\n",
    "#     # drop the bins column\n",
    "#     data = data.drop(\"bins\", axis=1)\n",
    "    \n",
    "#     # return dataframe with folds\n",
    "#     return data"
   ]
  },
  {
   "cell_type": "code",
   "execution_count": 6,
   "id": "cbd8a29a",
   "metadata": {},
   "outputs": [],
   "source": [
    "# df = pd.read_csv(datapath/'train.csv', index_col='id', low_memory=False)\n",
    "\n",
    "# df_folds = create_folds(df)\n",
    "\n",
    "# # save a new csv with a kfold column\n",
    "# df_folds.to_csv(datapath/\"train_folds.csv\", index=False)\n",
    "\n",
    "# # save a feather\n",
    "# df_folds.to_feather(path='./dataset_df_kfold.feather')"
   ]
  },
  {
   "cell_type": "code",
   "execution_count": 7,
   "id": "9414ce52",
   "metadata": {},
   "outputs": [],
   "source": [
    "# df = pd.read_feather(path='dataset_df_kfold.feather')\n",
    "# df.index.name = 'id'"
   ]
  },
  {
   "cell_type": "code",
   "execution_count": 8,
   "id": "f273bd3b",
   "metadata": {},
   "outputs": [],
   "source": [
    "y = df.loss"
   ]
  },
  {
   "cell_type": "code",
   "execution_count": 9,
   "id": "3e25b235",
   "metadata": {},
   "outputs": [],
   "source": [
    "features = [x for x in df.columns if x != 'loss']"
   ]
  },
  {
   "cell_type": "code",
   "execution_count": 10,
   "id": "aa858c27",
   "metadata": {},
   "outputs": [],
   "source": [
    "X = df[features]"
   ]
  },
  {
   "cell_type": "code",
   "execution_count": 11,
   "id": "d7481259",
   "metadata": {},
   "outputs": [],
   "source": [
    "config = {\n",
    "    \"model\":XGBRegressor,\n",
    "    \"tree_method\": \"auto\", # set to 'gpu_hist' to try GPU if available\n",
    "    \"booster\": 'gbtree', # dart may be marginally better, but will opt for this quicker approach as a default\n",
    "    \"n_estimators\": 1000, \n",
    "    \"max_depth\": 3,\n",
    "    \"learning_rate\": 0.1522,\n",
    "    \"test_size\": 0.2,\n",
    "    \"scaler\": MaxAbsScaler,\n",
    "#     \"feature_selector\": SelectKBest,\n",
    "#     \"k_best\": 80,\n",
    "#     \"feature_selection_scoring\": f_regression,\n",
    "    'random_state': 42,\n",
    "    'subsample': 1,\n",
    "    'n_jobs': -1,\n",
    "    'verbosity': 1,\n",
    "    'k_folds': 5,\n",
    "}"
   ]
  },
  {
   "cell_type": "code",
   "execution_count": 12,
   "id": "b0bf6d50",
   "metadata": {},
   "outputs": [],
   "source": [
    "scaler = config['scaler']()\n",
    "X = scaler.fit_transform(X)"
   ]
  },
  {
   "cell_type": "code",
   "execution_count": 13,
   "id": "41e0dfe6",
   "metadata": {},
   "outputs": [],
   "source": [
    "# ACTUALLY probably better to save those as pickles or .npy files; I'll generate them later, regardless\n",
    "# results = {} # for storing k-fold models' predictions"
   ]
  },
  {
   "cell_type": "code",
   "execution_count": 14,
   "id": "c302c5f0",
   "metadata": {},
   "outputs": [],
   "source": [
    "kfold = KFold(n_splits=config['k_folds'], shuffle=True, random_state=config['random_state'])"
   ]
  },
  {
   "cell_type": "code",
   "execution_count": 15,
   "id": "00a8f111",
   "metadata": {},
   "outputs": [],
   "source": [
    "def train(X_train, X_valid, y_train, y_valid, config):#, scaler): # passed in via config dict for now\n",
    "    \"\"\"\n",
    "    Basic training function. Note that some of the options passed via the argument are\n",
    "    in fact hard-coded in, to avoid inconveniences.\n",
    "    :param config: dict with things to be logged in WandB, some to be used in function\n",
    "    \"\"\"\n",
    "    \n",
    "    \n",
    "    wandb.init(\n",
    "        project=\"202108_Kaggle_tabular_playground\",\n",
    "        save_code=True,\n",
    "        tags=config_run['tags'],\n",
    "        name=config_run['name'],\n",
    "        notes=config_run['notes'],\n",
    "        config=config)   \n",
    "        \n",
    "    # applying hold-out before scaling\n",
    "#     X_train, X_valid, y_train, y_valid = train_test_split(X, y, \n",
    "#                                                           test_size=config['test_size'], \n",
    "#                                                           random_state=config['random_state']\n",
    "#                                                          )\n",
    "    \n",
    "    # strictly speaking should do the below, but doing beforehand faster and fine in this context\n",
    "    # scaling (i.e. normalizing)\n",
    "#     scaler = config['scaler']()\n",
    "#     X_train_s = scaler.fit_transform(X_train)\n",
    "#     X_valid_s = scaler.fit_transform(X_valid)\n",
    "    \n",
    "    # selecting features\n",
    "#     selector = config['feature_selector'](score_func=config[\"feature_selection_scoring\"], \n",
    "#                                           k=config['k_best'])\n",
    "#     X_train_fs = selector.fit_transform(X_train_s, y_train)\n",
    "#     X_valid_fs = X_valid_s[:, selector.get_support()] # ensures same features are used in validation\n",
    "\n",
    "    # split the dataset\n",
    "    model = XGBRegressor(\n",
    "        tree_method=config['tree_method'],\n",
    "        booster=config['booster'],\n",
    "        n_estimators=config['n_estimators'], \n",
    "        max_depth=config['max_depth'],\n",
    "        learning_rate=config['learning_rate'], \n",
    "#         test_size=config['test_size'],\n",
    "        subsample=config['subsample'],\n",
    "        random_state=config['random_state'],\n",
    "        n_jobs=config['n_jobs'], \n",
    "        verbosity=config['verbosity'], \n",
    "    )\n",
    "#     wandb.log({'params': model.get_params()}) # logging model parameters\n",
    "    model.fit(X_train, y_train, callbacks=[wandb.xgboost.wandb_callback()])\n",
    "    y_preds = model.predict(X_valid)\n",
    "    mse = mean_squared_error(y_valid, y_preds)\n",
    "    rmse = math.sqrt(abs(mse))\n",
    "    wandb.log({'mse':mse, 'rmse':rmse})\n",
    "    print(f\"MSE is {mse}\\nRMSE is {rmse}\")   \n",
    "    wandb.finish()   \n",
    "    return model\n",
    "    "
   ]
  },
  {
   "cell_type": "code",
   "execution_count": 16,
   "id": "a35d9913",
   "metadata": {},
   "outputs": [],
   "source": [
    "models = {}"
   ]
  },
  {
   "cell_type": "code",
   "execution_count": 17,
   "id": "c537a125",
   "metadata": {},
   "outputs": [],
   "source": [
    "model_path = Path(f\"./models/{config_run['name']}_{config['k_folds']}folds/\")\n",
    "(model_path).mkdir(exist_ok=True)"
   ]
  },
  {
   "cell_type": "code",
   "execution_count": 18,
   "id": "4ea99354",
   "metadata": {},
   "outputs": [],
   "source": [
    "model_path = Path(f\"./models/{config_run['name']}_{config['k_folds']}folds/\")\n",
    "(model_path).mkdir(exist_ok=True)"
   ]
  },
  {
   "cell_type": "code",
   "execution_count": 19,
   "id": "94e022b9",
   "metadata": {},
   "outputs": [
    {
     "data": {
      "text/html": [
       "\n",
       "                Tracking run with wandb version 0.12.0<br/>\n",
       "                Syncing run <strong style=\"color:#cdcd00\">inference_ensemble_20210826a</strong> to <a href=\"https://wandb.ai\" target=\"_blank\">Weights & Biases</a> <a href=\"https://docs.wandb.com/integrations/jupyter.html\" target=\"_blank\">(Documentation)</a>.<br/>\n",
       "                Project page: <a href=\"https://wandb.ai/hushifang/202108_Kaggle_tabular_playground\" target=\"_blank\">https://wandb.ai/hushifang/202108_Kaggle_tabular_playground</a><br/>\n",
       "                Run page: <a href=\"https://wandb.ai/hushifang/202108_Kaggle_tabular_playground/runs/u3k2dpar\" target=\"_blank\">https://wandb.ai/hushifang/202108_Kaggle_tabular_playground/runs/u3k2dpar</a><br/>\n",
       "                Run data is saved locally in <code>/home/sf/Dropbox/code_cloud/python_code/kaggle/tabular_playgrounds/aug2021/wandb/run-20210826_191816-u3k2dpar</code><br/><br/>\n",
       "            "
      ],
      "text/plain": [
       "<IPython.core.display.HTML object>"
      ]
     },
     "metadata": {},
     "output_type": "display_data"
    }
   ],
   "source": [
    "for fold, (train_ids, valid_ids) in enumerate(kfold.split(X,y)):\n",
    "#     if fold == 0:\n",
    "#         continue\n",
    "#     else:\n",
    "    print(f\"FOLD {fold}\")\n",
    "    print(\"-----------------------------------------\")\n",
    "    X_train, X_valid = X[train_ids], X[valid_ids]\n",
    "    y_train, y_valid = y[train_ids], y[valid_ids]\n",
    "    model = train(X_train, X_valid, y_train, y_valid, config)\n",
    "    models[fold] = model\n",
    "    dump(model, Path(model_path/f\"xgboost_fold{fold}_model.joblib\"))\n",
    "    wandb.finish()"
   ]
  }
 ],
 "metadata": {
  "kernelspec": {
   "display_name": "Python 3",
   "language": "python",
   "name": "python3"
  },
  "language_info": {
   "codemirror_mode": {
    "name": "ipython",
    "version": 3
   },
   "file_extension": ".py",
   "mimetype": "text/x-python",
   "name": "python",
   "nbconvert_exporter": "python",
   "pygments_lexer": "ipython3",
   "version": "3.8.11"
  }
 },
 "nbformat": 4,
 "nbformat_minor": 5
}
