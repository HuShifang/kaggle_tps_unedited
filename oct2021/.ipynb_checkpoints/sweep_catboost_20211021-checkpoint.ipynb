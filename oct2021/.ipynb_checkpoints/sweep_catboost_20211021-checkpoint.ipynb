{
 "cells": [
  {
   "cell_type": "markdown",
   "id": "1d4e7f70-25a3-4d58-b98a-3a695e55ee53",
   "metadata": {
    "id": "1d4e7f70-25a3-4d58-b98a-3a695e55ee53"
   },
   "source": [
    "# Catboost Hyperparameter Sweep 20211021\n",
    "Largely after https://www.kaggle.com/satorushibata/optimize-catboost-hyperparameter-with-optuna-gpu"
   ]
  },
  {
   "cell_type": "code",
   "execution_count": null,
   "id": "U_qtimPUchWD",
   "metadata": {
    "id": "U_qtimPUchWD"
   },
   "outputs": [],
   "source": []
  },
  {
   "cell_type": "markdown",
   "id": "1e124c3d-0e1f-4053-8e72-52569a4fe3e4",
   "metadata": {
    "id": "1e124c3d-0e1f-4053-8e72-52569a4fe3e4"
   },
   "source": [
    "# Setup"
   ]
  },
  {
   "cell_type": "code",
   "execution_count": 1,
   "id": "0e393b43-9823-4b4e-a36c-7a38baa33c81",
   "metadata": {
    "id": "dae2ff1e-bd1f-4cc9-8357-5a88d1746ffb"
   },
   "outputs": [],
   "source": [
    "# two manual flags (ex-config)\n",
    "COLAB = False\n",
    "USE_GPU = True"
   ]
  },
  {
   "cell_type": "code",
   "execution_count": 2,
   "id": "39cf06aa-f088-42ad-b55c-5c03b84b83af",
   "metadata": {
    "id": "16849bd2-428c-497b-ba3b-675002f8d041"
   },
   "outputs": [],
   "source": [
    "# basic imports\n",
    "from pathlib import Path\n",
    "import os\n",
    "import math\n",
    "from datetime import datetime\n",
    "import random\n",
    "import multiprocessing\n",
    "import pickle"
   ]
  },
  {
   "cell_type": "code",
   "execution_count": 3,
   "id": "9539f3ef-8f88-4853-bdef-6498aaf6c99d",
   "metadata": {
    "colab": {
     "base_uri": "https://localhost:8080/"
    },
    "id": "12d2654b-3bc6-49b5-ade8-cc82112b60e5",
    "outputId": "5cfd01f9-0d81-4b22-8a8a-9c0664deda13"
   },
   "outputs": [],
   "source": [
    "%matplotlib inline\n",
    "%config Completer.use_jedi = False\n",
    "os.environ['WANDB_NOTEBOOK_NAME'] = f\"sweep_catboost_{datetime.now().strftime('%Y%m%d')}.ipynb\""
   ]
  },
  {
   "cell_type": "code",
   "execution_count": 4,
   "id": "53453c9c-f6ca-4b02-aab7-f0aacd8a09de",
   "metadata": {
    "colab": {
     "base_uri": "https://localhost:8080/"
    },
    "id": "416d6118-e543-4df4-9219-2d4a63743c3a",
    "outputId": "a4e091f0-e2be-46e8-d4da-6d6a0a7a11a6",
    "tags": []
   },
   "outputs": [],
   "source": [
    "# handle Google Colab-specific library installation/updating\n",
    "if COLAB:\n",
    "    # much of the below inspired by or cribbed from the May 2021 Kaggle Tabular Playground winner, at \n",
    "    # https://colab.research.google.com/gist/academicsuspect/0aac7bd6e506f5f70295bfc9a3dc2250/tabular-may-baseline.ipynb?authuser=1#scrollTo=LJoVKJb5wN0L\n",
    "    \n",
    "    # Kaggle API for downloading the datasets\n",
    "    # !pip install --upgrade -q kaggle\n",
    "\n",
    "    # weights and biases\n",
    "    !pip install -qqqU wandb\n",
    "    \n",
    "    # Optuna for parameter search\n",
    "    !pip install -q optuna\n",
    "\n",
    "    # !pip install --upgrade xgboost\n",
    "\n",
    "    # upgrade sklearn\n",
    "    !pip install --upgrade scikit-learn\n",
    "\n",
    "    # !pip install category_encoders\n",
    "    !pip install catboost\n",
    "\n",
    "    # lighgbm gpu compatible\n",
    "    # !git clone --recursive https://github.com/Microsoft/LightGBM\n",
    "    # ! cd LightGBM && rm -rf build && mkdir build && cd build && cmake -DUSE_GPU=1 ../../LightGBM && make -j4 && cd ../python-package && python3 setup.py install --precompile --gpu;\n",
    "    \n",
    "    # # this part is from https://github.com/rapidsai/gputreeshap/issues/24\n",
    "    # !pip install cmake --upgrade\n",
    "    # # !pip install sklearn --upgrade\n",
    "    # !git clone --recursive https://github.com/dmlc/xgboost\n",
    "    # %cd /content/xgboost\n",
    "    # !mkdir build\n",
    "    # %cd build\n",
    "    # !cmake .. -DUSE_CUDA=ON\n",
    "    # !make -j4\n",
    "    # %cd /content/xgboost/python-package\n",
    "    # !python setup.py install --use-cuda --use-nccl\n",
    "    # !/opt/bin/nvidia-smi\n",
    "    # !pip install shap\n",
    "    "
   ]
  },
  {
   "cell_type": "markdown",
   "id": "b1100602-a065-403c-8a54-34e572035119",
   "metadata": {
    "id": "d40df194-4474-4bcf-ac5a-98efe24b91fd"
   },
   "source": [
    "Now, non-stdlib imports"
   ]
  },
  {
   "cell_type": "code",
   "execution_count": 5,
   "id": "12edb918-01fa-4486-858b-13c15166a680",
   "metadata": {
    "id": "a01e85f7-d602-4dde-bef9-611683cd74c4"
   },
   "outputs": [],
   "source": [
    "import pandas as pd\n",
    "import numpy as np\n",
    "import matplotlib.pyplot as plt\n",
    "from tqdm.notebook import tqdm\n",
    "\n",
    "# general ML tooling\n",
    "from sklearn.model_selection import train_test_split, StratifiedKFold, KFold\n",
    "from sklearn.metrics import log_loss, roc_auc_score\n",
    "import wandb\n",
    "from optuna.integration.wandb import WeightsAndBiasesCallback\n",
    "# from wandb.xgboost import wandb_callback\n",
    "# from wandb.lightgbm import wandb_callback\n",
    "# from sklearn.impute import KNNImputer, StandardImputer\n",
    "# import timm\n",
    "\n",
    "import seaborn as sns\n",
    "\n",
    "from catboost import CatBoostClassifier\n",
    "# from xgboost import XGBClassifier\n",
    "# from lightgbm import LGBMClassifier\n",
    "# from sklearn.ensemble import RandomForestRegressor\n",
    "from sklearn.preprocessing import MaxAbsScaler, StandardScaler, MinMaxScaler, RobustScaler, PolynomialFeatures\n",
    "# from sklearn.feature_selection import SelectKBest, f_regression\n",
    "from joblib import dump, load\n",
    "# feature engineering tools\n",
    "# from sklearn.feature_selection import mutual_info_regression\n",
    "# import featuretools as ft\n",
    "\n",
    "\n",
    "from optuna.samplers import TPESampler\n",
    "import optuna\n",
    "import catboost\n",
    "from sklearn.utils import resample\n",
    "import sklearn.metrics"
   ]
  },
  {
   "cell_type": "markdown",
   "id": "62ca379a-c8a2-40e2-bfe5-7601ab6ff9be",
   "metadata": {
    "id": "5f6166c2-ca44-4b7c-a4dc-3db47c2624fe"
   },
   "source": [
    "Now, datapath setup"
   ]
  },
  {
   "cell_type": "code",
   "execution_count": 6,
   "id": "3993b4ce-6a9e-4ba8-9e0f-123b91bcf0e0",
   "metadata": {
    "id": "3c18a787-2193-43cb-87ee-51c6ae7b6351"
   },
   "outputs": [],
   "source": [
    "# # This is the code for reading the train.csv and converting it to a .feather file\n",
    "# df = pd.read_csv(datapath/'train.csv', index_col='id', low_memory=False)\n",
    "# df.index.name = None\n",
    "# df.to_feather(path='./dataset_df.feather')"
   ]
  },
  {
   "cell_type": "code",
   "execution_count": 7,
   "id": "2fad4494-2148-47b4-af11-dd34e994b94a",
   "metadata": {},
   "outputs": [],
   "source": [
    "if COLAB:\n",
    "    # mount Google Drive\n",
    "    from google.colab import drive\n",
    "    drive.mount('/content/drive')\n",
    "    \n",
    "    # handling datapath\n",
    "    datapath = Path('/content/drive/MyDrive/kaggle/tabular_playgrounds/oct2021/')\n",
    "    \n",
    "else:\n",
    "    # if on local machine\n",
    "#     datapath = Path('/media/sf/easystore/kaggle_data/tabular_playgrounds/sep2021/')  \n",
    "    root = Path('/home/sf/code/kaggle/tabular_playgrounds/oct2021/')\n",
    "    datapath = root/'datasets'\n",
    "    edapath = root/'EDA'\n",
    "    modelpath = root/'models'\n",
    "    predpath = root/'preds'\n",
    "    subpath = root/'submissions'\n",
    "    \n",
    "    for pth in [root, datapath, edapath, modelpath, predpath, subpath]:\n",
    "        pth.mkdir(exist_ok=True)\n",
    "    \n"
   ]
  },
  {
   "cell_type": "code",
   "execution_count": 8,
   "id": "36793507-e495-408d-9195-c46329c8eb67",
   "metadata": {
    "id": "d1c652e6-5946-46aa-a13e-4c0ebe8a0e4f"
   },
   "outputs": [],
   "source": [
    "\n",
    "# n_trials = int(1000)\n",
    "SEED = 42"
   ]
  },
  {
   "cell_type": "code",
   "execution_count": 9,
   "id": "b72063e6-550a-4e9e-8f4d-763e3b1528ec",
   "metadata": {
    "id": "fbec2e77-2081-4815-ac6d-39f2a2616386"
   },
   "outputs": [],
   "source": [
    "# Function to seed everything\n",
    "def seed_everything(seed):\n",
    "    random.seed(seed)\n",
    "    np.random.seed(seed)\n",
    "    os.environ['PYTHONHASHSEED'] = str(seed)\n",
    "seed_everything(SEED)"
   ]
  },
  {
   "cell_type": "markdown",
   "id": "2f6e47b3-43bd-4d35-b463-9d76100c6ed5",
   "metadata": {
    "id": "2f6e47b3-43bd-4d35-b463-9d76100c6ed5"
   },
   "source": [
    "## Ex-Model Config"
   ]
  },
  {
   "cell_type": "code",
   "execution_count": 10,
   "id": "5a4d4f47-1fa7-4a61-a509-169e250f7dbe",
   "metadata": {},
   "outputs": [],
   "source": [
    "# meta-config for preprocessing and cross-validation, but NOT for model parameters\n",
    "exmodel_config = {\n",
    "#     \"feature_selector\": SelectKBest,\n",
    "#     \"k_best\": 80,\n",
    "#     \"feature_selection_scoring\": f_regression,\n",
    "#     'random_state': SEED,\n",
    "#     'feature_generation': ['NaN_counts', 'SummaryStats', 'NaN_OneHots'],\n",
    "#     'subsample': 1,\n",
    "#     'cross_val_strategy': KFold, # None for holdout, or the relevant sklearn class\n",
    "#     'kfolds': 5, # if 1, that means just doing holdout\n",
    "    'test_size': 0.2,\n",
    "#     'features_created': False,\n",
    "#     'feature_creator': None,\n",
    "}"
   ]
  },
  {
   "cell_type": "markdown",
   "id": "65a41649-c29f-4255-af22-77d12652bf46",
   "metadata": {},
   "source": [
    "# WandB Config"
   ]
  },
  {
   "cell_type": "code",
   "execution_count": 11,
   "id": "700cde1f-3b24-433a-bed0-a9341ccc7544",
   "metadata": {},
   "outputs": [],
   "source": [
    "wandb_kwargs = {\n",
    "    # wandb config\n",
    "    'name': f\"{os.environ['WANDB_NOTEBOOK_NAME'][:-6]}_{datetime.now().strftime('%H%M%S')}\", # just removes the .ipynb extension, leaving the notebook filename's stem\n",
    "    'project': '202110_Kaggle_tabular_playground',\n",
    "    'tags': ['sweep'],\n",
    "    'notes': \"Sweep for CatBoost lv2 on X_orig with KMeans 8-clusters and synth, using Optuna\",\n",
    "    'config': exmodel_config,\n",
    "}"
   ]
  },
  {
   "cell_type": "markdown",
   "id": "a52d9012-34f1-435a-ba16-4416e0d4a286",
   "metadata": {
    "id": "a52d9012-34f1-435a-ba16-4416e0d4a286"
   },
   "source": [
    "## Data Setup"
   ]
  },
  {
   "cell_type": "code",
   "execution_count": 12,
   "id": "404ccdce-e776-4ec6-a400-c0d939623f34",
   "metadata": {},
   "outputs": [],
   "source": [
    "# train_source = datapath/'train.feather'\n",
    "# df = pd.read_feather(path=datapath/'train.feather')\n",
    "# y = np.array(df.target)\n",
    "# dump(y, filename=datapath/'y.joblib')\n",
    "# del df\n",
    "\n",
    "# y = load(datapath/'y.joblib')\n",
    "y = load(predpath/'5folds_rs42_oof_y.joblib')\n",
    "y = pd.Series(y)\n",
    "\n",
    "# df.index.name = 'id'\n",
    "# y_train = df.target\n",
    "# features = [x for x in df.columns if x != 'target']\n",
    "# X_train = df[features]\n",
    "# # X.index.name = 'id'\n",
    "# # y.index.name = 'id'\n",
    "# X = np.array(X_train)\n",
    "# y = np.array(y_train)\n",
    "\n",
    "# del df, X_train, y_train\n",
    "\n",
    "# load the Boruta-filtered green-zone 98 features (based on 200 iterations of the algo)\n",
    "# train_source = '/media/sf/easystore/kaggle_data/tabular_playgrounds/oct2021/alt_datasets/X_boruta_200iter_filtered_green.joblib'\n",
    "# X = load(train_source)\n",
    "\n",
    "# train_source = altdatapath/'train-WITH-KMeans_8cluster_ninit50_maxiter1000_rs42-AND-synthetic.feather' #'X_boruta_shap_200trials.feather'\n",
    "train_source = predpath/'stacking_manual_20211020_104938_X_orig+KMeans8+synth_oof_lv1.feather'\n",
    "exmodel_config['train_source'] = str(train_source)\n",
    "X = pd.read_feather(path=train_source)\n",
    "if 'target' in X.columns:\n",
    "    X = X.drop(['target'], axis=1)\n",
    "\n",
    "# exmodel_config['feature_count'] = len(X.columns)\n",
    "exmodel_config['feature_count'] = X.shape[1]\n",
    "exmodel_config['instance_count'] = X.shape[0]\n",
    "\n",
    "# exmodel_config['feature_generator'] = None\n",
    "# exmodel_config['feature_generator'] = \"Summary statistics\"\n",
    "\n",
    "# exmodel_config['train_source'] = str(train_source)\n",
    "# test_source = datapath/'test.feather'\n",
    "# exmodel_config['test_source'] = str(test_source)\n",
    "# X_test = pd.read_feather(path=test_source)\n",
    "# X_test = X_test.iloc[:, 1:]\n",
    "# X_test = np.array(X_test)"
   ]
  },
  {
   "cell_type": "markdown",
   "id": "431d37db-558d-474d-9eca-ce2d38b7636f",
   "metadata": {
    "id": "431d37db-558d-474d-9eca-ce2d38b7636f"
   },
   "source": [
    "# Experiment setup"
   ]
  },
  {
   "cell_type": "code",
   "execution_count": 13,
   "id": "69ff4abf-560b-450e-a7a5-040878b66565",
   "metadata": {
    "id": "69ff4abf-560b-450e-a7a5-040878b66565"
   },
   "outputs": [],
   "source": [
    "# wandb_kwargs = {\n",
    "#     # wandb config:\n",
    "#     'name': f\"{os.environ['WANDB_NOTEBOOK_NAME'][:-6]}_{datetime.now().strftime('%H%M%S')}\", # just removes the .ipynb extension, leaving the notebook filename's stem\n",
    "#     'project': '202109_Kaggle_tabular_playground',\n",
    "#     'tags': ['sweep'],\n",
    "#     'notes': \"Sweep for CatBoost using Optuna\",\n",
    "#     'config': exmodel_config,\n",
    "# }"
   ]
  },
  {
   "cell_type": "markdown",
   "id": "PYhQgC47h1hq",
   "metadata": {
    "id": "PYhQgC47h1hq"
   },
   "source": [
    "A basis for the experimental ranges, taken from [here](https://www.kaggle.com/vishwas21/tps-sep-21-3-level-custom-stacking):\n",
    "\n",
    "```python\n",
    "catb_params = {\n",
    "    'iterations': 15585, \n",
    "    'objective': 'CrossEntropy', \n",
    "    'bootstrap_type': 'Bernoulli', \n",
    "    'od_wait': 1144, \n",
    "    'learning_rate': 0.023575206684596582, \n",
    "    'reg_lambda': 36.30433203563295, \n",
    "    'random_strength': 43.75597655616195, \n",
    "    'depth': 7, \n",
    "    'min_data_in_leaf': 11, \n",
    "    'leaf_estimation_iterations': 1, \n",
    "    'subsample': 0.8227911142845009,\n",
    "    'task_type' : 'GPU',\n",
    "    'devices' : '0',\n",
    "    'verbose' : 0\n",
    "}\n",
    "```"
   ]
  },
  {
   "cell_type": "code",
   "execution_count": 14,
   "id": "1d93b6f2-2d65-48a9-9862-510bd7d2b75b",
   "metadata": {
    "id": "1d93b6f2-2d65-48a9-9862-510bd7d2b75b"
   },
   "outputs": [],
   "source": [
    "# originally from https://www.kaggle.com/satorushibata/optimize-catboost-hyperparameter-with-optuna-gpu\n",
    "def objective(trial):\n",
    "    # split the (original Kaggle training) data into partitions\n",
    "    # if study.best_trial:\n",
    "    #     print(\"Dumping best params, which are:\")\n",
    "    #     print(str(study.best_trial.params))\n",
    "    #     dump(study.best_trial.params, filename=datapath/'optuna_catboost_best_20210920.joblib')\n",
    "       \n",
    "    # else:\n",
    "    #     print(\"No best study yet\")\n",
    "    X_train, X_valid, y_train, y_valid = train_test_split(X, y, test_size=0.2, random_state=int(SEED), shuffle=True)\n",
    "    # create wrappers for the training and validation partitions\n",
    "    train_pool = catboost.Pool(X_train, y_train)\n",
    "    valid_pool = catboost.Pool(X_valid, y_valid)\n",
    "    \n",
    "    # experimental parameters\n",
    "    params = {\n",
    "        'iterations' : trial.suggest_int('iterations', 2000, 30000),                         \n",
    "        'depth' : trial.suggest_int('depth', 3, 10),                                       \n",
    "        'learning_rate' : trial.suggest_loguniform('learning_rate', 0.001, 0.5),               \n",
    "        'random_strength': trial.suggest_int('random_strength', 0, 100), \n",
    "#         'objective': trial.suggest_categorical('objective', ['Logloss', 'CrossEntropy']),\n",
    "#         'bootstrap_type': trial.suggest_categorical('bootstrap_type', ['MVC', 'Bernoulli']),#, 'Poisson']),\n",
    "        'od_wait': trial.suggest_int('od_wait', 20, 2000),\n",
    "        'reg_lambda': trial.suggest_uniform('reg_lambda', 2, 70), # aka l2_leaf_reg\n",
    "        'border_count': trial.suggest_int('border_count', 50, 275),\n",
    "        'min_child_samples': trial.suggest_int('min_child_samples', 1, 20), # aka min_data_in_leaf\n",
    "        'leaf_estimation_iterations': trial.suggest_int('leaf_estimation_iterations', 1, 5),\n",
    "        # 'bagging_temperature' :trial.suggest_loguniform('bagging_temperature', 0.01, 100.00),\n",
    "#         'subsample': trial.suggest_uniform('subsample', 0.5, 1),\n",
    "#         'learning_rate' :trial.suggest_loguniform('learning_rate', 1e-3, 1e-1),\n",
    "        # 'od_type': trial.suggest_categorical('od_type', ['IncToDec', 'Iter']),\n",
    "#         'max_leaves': trial.suggest_int('max_leaves', 32, 128)\n",
    "    }\n",
    "    device = \"GPU\" if USE_GPU else \"CPU\"\n",
    "    # instantiate the model, with some parameters locked in, and experimnental ones passed via splat \n",
    "    model = CatBoostClassifier(\n",
    "        # loss_function=\"Logloss\",\n",
    "        eval_metric=\"AUC\",\n",
    "        task_type=device,\n",
    "        objective='Logloss',\n",
    "#         l2_leaf_reg=50,\n",
    "        random_seed=SEED,\n",
    "        verbose=False,\n",
    "#         border_count=64,\n",
    "        **params\n",
    "    )        \n",
    "#     wandb.init(wandb_kwargs)\n",
    "    # fit the model on the training set -- note the use of the catboost.Pool instance\n",
    "    model.fit(train_pool)\n",
    "    # generate predictions\n",
    "    preds = model.predict_proba(valid_pool)[:,1]\n",
    "    # rounds to the nearest integer, and the nearest even in case of _.5s\n",
    "    # pred_labels = np.rint(preds)\n",
    "    # calls sklearn.utils.resample... not entirely sure why\n",
    "    # y_pred_boot = resample(pred_labels, n_samples = len(train_y))\n",
    "    # Evaluation\n",
    "    # ROC_AUC_Score = roc_auc_score(train_y, y_pred_boot)\n",
    "    valid_auc = roc_auc_score(y_valid, preds)\n",
    "    \n",
    "    print('ROC AUC Score of CatBoost =', valid_auc)\n",
    "    wandb.log({'valid_AUC': valid_auc,\n",
    "            #    'catboost_params': str(model.get_all_params())\n",
    "              })\n",
    "#     wandb.finish()\n",
    "    return valid_auc"
   ]
  },
  {
   "cell_type": "code",
   "execution_count": 15,
   "id": "0e85f589-1507-4b75-80d9-8b062970102f",
   "metadata": {
    "colab": {
     "base_uri": "https://localhost:8080/",
     "height": 231
    },
    "id": "0e85f589-1507-4b75-80d9-8b062970102f",
    "outputId": "4e88b8c2-11ec-493d-8fdb-f97cd2f0243a",
    "tags": []
   },
   "outputs": [
    {
     "name": "stderr",
     "output_type": "stream",
     "text": [
      "<ipython-input-15-69ea9289a2cf>:1: ExperimentalWarning: WeightsAndBiasesCallback is experimental (supported from v2.9.0). The interface can change in the future.\n",
      "  wandbc = WeightsAndBiasesCallback(wandb_kwargs=wandb_kwargs)\n",
      "\u001b[34m\u001b[1mwandb\u001b[0m: Currently logged in as: \u001b[33mhushifang\u001b[0m (use `wandb login --relogin` to force relogin)\n",
      "\u001b[34m\u001b[1mwandb\u001b[0m: wandb version 0.12.5 is available!  To upgrade, please run:\n",
      "\u001b[34m\u001b[1mwandb\u001b[0m:  $ pip install wandb --upgrade\n"
     ]
    },
    {
     "data": {
      "text/html": [
       "\n",
       "                    Syncing run <strong><a href=\"https://wandb.ai/hushifang/202110_Kaggle_tabular_playground/runs/jn0jdnqn\" target=\"_blank\">sweep_catboost_20211021_150418</a></strong> to <a href=\"https://wandb.ai/hushifang/202110_Kaggle_tabular_playground\" target=\"_blank\">Weights & Biases</a> (<a href=\"https://docs.wandb.com/integrations/jupyter.html\" target=\"_blank\">docs</a>).<br/>\n",
       "\n",
       "                "
      ],
      "text/plain": [
       "<IPython.core.display.HTML object>"
      ]
     },
     "metadata": {},
     "output_type": "display_data"
    }
   ],
   "source": [
    "wandbc = WeightsAndBiasesCallback(wandb_kwargs=wandb_kwargs)"
   ]
  },
  {
   "cell_type": "code",
   "execution_count": 16,
   "id": "ab6749b1-dd7d-4789-b0e2-8491d78fe89b",
   "metadata": {
    "colab": {
     "base_uri": "https://localhost:8080/"
    },
    "id": "ab6749b1-dd7d-4789-b0e2-8491d78fe89b",
    "outputId": "05b7ce12-dc98-4d38-fd83-a0578ec37531",
    "tags": []
   },
   "outputs": [
    {
     "name": "stderr",
     "output_type": "stream",
     "text": [
      "\u001b[32m[I 2021-10-21 15:04:29,479]\u001b[0m A new study created in memory with name: CatBoost_lv2_20211021\u001b[0m\n"
     ]
    }
   ],
   "source": [
    "study = optuna.create_study(direction = \"maximize\", sampler = TPESampler(seed=int(SEED)), study_name='CatBoost_lv2_20211021')\n",
    "# setting n_jobs=1 bc wandb apparently requires this\n"
   ]
  },
  {
   "cell_type": "code",
   "execution_count": 17,
   "id": "uXQWM6Otmxma",
   "metadata": {
    "colab": {
     "base_uri": "https://localhost:8080/"
    },
    "id": "uXQWM6Otmxma",
    "outputId": "d4b74ae6-6552-4b2f-a4e0-d9999874ab06",
    "tags": []
   },
   "outputs": [
    {
     "name": "stderr",
     "output_type": "stream",
     "text": [
      "\u001b[32m[I 2021-10-21 15:07:44,984]\u001b[0m Trial 0 finished with value: 0.8424986224444081 and parameters: {'iterations': 12487, 'depth': 10, 'learning_rate': 0.09454306819536169, 'random_strength': 60, 'od_wait': 329, 'reg_lambda': 12.60762738286178, 'border_count': 63, 'min_child_samples': 18, 'leaf_estimation_iterations': 4}. Best is trial 0 with value: 0.8424986224444081.\u001b[0m\n",
      "\u001b[34m\u001b[1mwandb\u001b[0m: \u001b[33mWARNING\u001b[0m Step must only increase in log calls.  Step 0 < 1; dropping {'iterations': 12487, 'depth': 10, 'learning_rate': 0.09454306819536169, 'random_strength': 60, 'od_wait': 329, 'reg_lambda': 12.60762738286178, 'border_count': 63, 'min_child_samples': 18, 'leaf_estimation_iterations': 4, 'value': 0.8424986224444081}.\n"
     ]
    },
    {
     "name": "stdout",
     "output_type": "stream",
     "text": [
      "ROC AUC Score of CatBoost = 0.8424986224444081\n"
     ]
    },
    {
     "name": "stderr",
     "output_type": "stream",
     "text": [
      "\u001b[32m[I 2021-10-21 15:10:03,533]\u001b[0m Trial 1 finished with value: 0.8535448089511177 and parameters: {'iterations': 21826, 'depth': 3, 'learning_rate': 0.41472250004816347, 'random_strength': 84, 'od_wait': 440, 'reg_lambda': 14.364097770082843, 'border_count': 91, 'min_child_samples': 7, 'leaf_estimation_iterations': 3}. Best is trial 1 with value: 0.8535448089511177.\u001b[0m\n",
      "\u001b[34m\u001b[1mwandb\u001b[0m: \u001b[33mWARNING\u001b[0m Step must only increase in log calls.  Step 1 < 2; dropping {'iterations': 21826, 'depth': 3, 'learning_rate': 0.41472250004816347, 'random_strength': 84, 'od_wait': 440, 'reg_lambda': 14.364097770082843, 'border_count': 91, 'min_child_samples': 7, 'leaf_estimation_iterations': 3, 'value': 0.8535448089511177}.\n"
     ]
    },
    {
     "name": "stdout",
     "output_type": "stream",
     "text": [
      "ROC AUC Score of CatBoost = 0.8535448089511177\n"
     ]
    },
    {
     "name": "stderr",
     "output_type": "stream",
     "text": [
      "\u001b[32m[I 2021-10-21 15:11:43,086]\u001b[0m Trial 2 finished with value: 0.855637886238501 and parameters: {'iterations': 14094, 'depth': 5, 'learning_rate': 0.044809759182149515, 'random_strength': 14, 'od_wait': 598, 'reg_lambda': 26.912605343971038, 'border_count': 153, 'min_child_samples': 16, 'leaf_estimation_iterations': 1}. Best is trial 2 with value: 0.855637886238501.\u001b[0m\n",
      "\u001b[34m\u001b[1mwandb\u001b[0m: \u001b[33mWARNING\u001b[0m Step must only increase in log calls.  Step 2 < 3; dropping {'iterations': 14094, 'depth': 5, 'learning_rate': 0.044809759182149515, 'random_strength': 14, 'od_wait': 598, 'reg_lambda': 26.912605343971038, 'border_count': 153, 'min_child_samples': 16, 'leaf_estimation_iterations': 1, 'value': 0.855637886238501}.\n"
     ]
    },
    {
     "name": "stdout",
     "output_type": "stream",
     "text": [
      "ROC AUC Score of CatBoost = 0.855637886238501\n"
     ]
    },
    {
     "name": "stderr",
     "output_type": "stream",
     "text": [
      "\u001b[32m[I 2021-10-21 15:14:28,955]\u001b[0m Trial 3 finished with value: 0.8566329001134951 and parameters: {'iterations': 16399, 'depth': 7, 'learning_rate': 0.0013346527038305934, 'random_strength': 61, 'od_wait': 357, 'reg_lambda': 6.423508322999007, 'border_count': 264, 'min_child_samples': 20, 'leaf_estimation_iterations': 5}. Best is trial 3 with value: 0.8566329001134951.\u001b[0m\n",
      "\u001b[34m\u001b[1mwandb\u001b[0m: \u001b[33mWARNING\u001b[0m Step must only increase in log calls.  Step 3 < 4; dropping {'iterations': 16399, 'depth': 7, 'learning_rate': 0.0013346527038305934, 'random_strength': 61, 'od_wait': 357, 'reg_lambda': 6.423508322999007, 'border_count': 264, 'min_child_samples': 20, 'leaf_estimation_iterations': 5, 'value': 0.8566329001134951}.\n"
     ]
    },
    {
     "name": "stdout",
     "output_type": "stream",
     "text": [
      "ROC AUC Score of CatBoost = 0.8566329001134951\n"
     ]
    },
    {
     "name": "stderr",
     "output_type": "stream",
     "text": [
      "\u001b[32m[I 2021-10-21 15:15:34,111]\u001b[0m Trial 4 finished with value: 0.8563051244493616 and parameters: {'iterations': 10529, 'depth': 3, 'learning_rate': 0.07026263205443048, 'random_strength': 44, 'od_wait': 261, 'reg_lambda': 35.672029887566374, 'border_count': 57, 'min_child_samples': 19, 'leaf_estimation_iterations': 2}. Best is trial 3 with value: 0.8566329001134951.\u001b[0m\n",
      "\u001b[34m\u001b[1mwandb\u001b[0m: \u001b[33mWARNING\u001b[0m Step must only increase in log calls.  Step 4 < 5; dropping {'iterations': 10529, 'depth': 3, 'learning_rate': 0.07026263205443048, 'random_strength': 44, 'od_wait': 261, 'reg_lambda': 35.672029887566374, 'border_count': 57, 'min_child_samples': 19, 'leaf_estimation_iterations': 2, 'value': 0.8563051244493616}.\n"
     ]
    },
    {
     "name": "stdout",
     "output_type": "stream",
     "text": [
      "ROC AUC Score of CatBoost = 0.8563051244493616\n"
     ]
    },
    {
     "name": "stderr",
     "output_type": "stream",
     "text": [
      "\u001b[32m[I 2021-10-21 15:18:21,290]\u001b[0m Trial 5 finished with value: 0.8556056532986065 and parameters: {'iterations': 20551, 'depth': 5, 'learning_rate': 0.02533074654001447, 'random_strength': 55, 'od_wait': 386, 'reg_lambda': 67.93175468798998, 'border_count': 225, 'min_child_samples': 19, 'leaf_estimation_iterations': 5}. Best is trial 3 with value: 0.8566329001134951.\u001b[0m\n",
      "\u001b[34m\u001b[1mwandb\u001b[0m: \u001b[33mWARNING\u001b[0m Step must only increase in log calls.  Step 5 < 6; dropping {'iterations': 20551, 'depth': 5, 'learning_rate': 0.02533074654001447, 'random_strength': 55, 'od_wait': 386, 'reg_lambda': 67.93175468798998, 'border_count': 225, 'min_child_samples': 19, 'leaf_estimation_iterations': 5, 'value': 0.8556056532986065}.\n"
     ]
    },
    {
     "name": "stdout",
     "output_type": "stream",
     "text": [
      "ROC AUC Score of CatBoost = 0.8556056532986065\n"
     ]
    },
    {
     "name": "stderr",
     "output_type": "stream",
     "text": [
      "\u001b[32m[I 2021-10-21 15:23:42,292]\u001b[0m Trial 6 finished with value: 0.8564912122183418 and parameters: {'iterations': 18741, 'depth': 10, 'learning_rate': 0.0017331598058558703, 'random_strength': 19, 'od_wait': 109, 'reg_lambda': 24.122462491901974, 'border_count': 137, 'min_child_samples': 6, 'leaf_estimation_iterations': 5}. Best is trial 3 with value: 0.8566329001134951.\u001b[0m\n",
      "\u001b[34m\u001b[1mwandb\u001b[0m: \u001b[33mWARNING\u001b[0m Step must only increase in log calls.  Step 6 < 7; dropping {'iterations': 18741, 'depth': 10, 'learning_rate': 0.0017331598058558703, 'random_strength': 19, 'od_wait': 109, 'reg_lambda': 24.122462491901974, 'border_count': 137, 'min_child_samples': 6, 'leaf_estimation_iterations': 5, 'value': 0.8564912122183418}.\n"
     ]
    },
    {
     "name": "stdout",
     "output_type": "stream",
     "text": [
      "ROC AUC Score of CatBoost = 0.8564912122183418\n"
     ]
    },
    {
     "name": "stderr",
     "output_type": "stream",
     "text": [
      "\u001b[32m[I 2021-10-21 15:25:08,942]\u001b[0m Trial 7 finished with value: 0.8560105647778642 and parameters: {'iterations': 11989, 'depth': 5, 'learning_rate': 0.029155497059176992, 'random_strength': 14, 'od_wait': 1609, 'reg_lambda': 7.0694437702244155, 'border_count': 273, 'min_child_samples': 16, 'leaf_estimation_iterations': 1}. Best is trial 3 with value: 0.8566329001134951.\u001b[0m\n",
      "\u001b[34m\u001b[1mwandb\u001b[0m: \u001b[33mWARNING\u001b[0m Step must only increase in log calls.  Step 7 < 8; dropping {'iterations': 11989, 'depth': 5, 'learning_rate': 0.029155497059176992, 'random_strength': 14, 'od_wait': 1609, 'reg_lambda': 7.0694437702244155, 'border_count': 273, 'min_child_samples': 16, 'leaf_estimation_iterations': 1, 'value': 0.8560105647778642}.\n"
     ]
    },
    {
     "name": "stdout",
     "output_type": "stream",
     "text": [
      "ROC AUC Score of CatBoost = 0.8560105647778642\n"
     ]
    },
    {
     "name": "stderr",
     "output_type": "stream",
     "text": [
      "\u001b[32m[I 2021-10-21 15:25:38,215]\u001b[0m Trial 8 finished with value: 0.8545855345035971 and parameters: {'iterations': 2154, 'depth': 9, 'learning_rate': 0.08086987436021253, 'random_strength': 73, 'od_wait': 1547, 'reg_lambda': 7.035036317918145, 'border_count': 131, 'min_child_samples': 3, 'leaf_estimation_iterations': 5}. Best is trial 3 with value: 0.8566329001134951.\u001b[0m\n",
      "\u001b[34m\u001b[1mwandb\u001b[0m: \u001b[33mWARNING\u001b[0m Step must only increase in log calls.  Step 8 < 9; dropping {'iterations': 2154, 'depth': 9, 'learning_rate': 0.08086987436021253, 'random_strength': 73, 'od_wait': 1547, 'reg_lambda': 7.035036317918145, 'border_count': 131, 'min_child_samples': 3, 'leaf_estimation_iterations': 5, 'value': 0.8545855345035971}.\n"
     ]
    },
    {
     "name": "stdout",
     "output_type": "stream",
     "text": [
      "ROC AUC Score of CatBoost = 0.8545855345035971\n"
     ]
    },
    {
     "name": "stderr",
     "output_type": "stream",
     "text": [
      "\u001b[32m[I 2021-10-21 15:28:09,176]\u001b[0m Trial 9 finished with value: 0.8566476432546122 and parameters: {'iterations': 19452, 'depth': 5, 'learning_rate': 0.0014843697010415793, 'random_strength': 31, 'od_wait': 664, 'reg_lambda': 51.61322012698836, 'border_count': 194, 'min_child_samples': 18, 'leaf_estimation_iterations': 3}. Best is trial 9 with value: 0.8566476432546122.\u001b[0m\n",
      "\u001b[34m\u001b[1mwandb\u001b[0m: \u001b[33mWARNING\u001b[0m Step must only increase in log calls.  Step 9 < 10; dropping {'iterations': 19452, 'depth': 5, 'learning_rate': 0.0014843697010415793, 'random_strength': 31, 'od_wait': 664, 'reg_lambda': 51.61322012698836, 'border_count': 194, 'min_child_samples': 18, 'leaf_estimation_iterations': 3, 'value': 0.8566476432546122}.\n"
     ]
    },
    {
     "name": "stdout",
     "output_type": "stream",
     "text": [
      "ROC AUC Score of CatBoost = 0.8566476432546122\n"
     ]
    },
    {
     "name": "stderr",
     "output_type": "stream",
     "text": [
      "\u001b[32m[I 2021-10-21 15:32:37,461]\u001b[0m Trial 10 finished with value: 0.8561593831929037 and parameters: {'iterations': 28808, 'depth': 7, 'learning_rate': 0.004833642456218512, 'random_strength': 35, 'od_wait': 1015, 'reg_lambda': 59.9343266060903, 'border_count': 197, 'min_child_samples': 13, 'leaf_estimation_iterations': 3}. Best is trial 9 with value: 0.8566476432546122.\u001b[0m\n",
      "\u001b[34m\u001b[1mwandb\u001b[0m: \u001b[33mWARNING\u001b[0m Step must only increase in log calls.  Step 10 < 11; dropping {'iterations': 28808, 'depth': 7, 'learning_rate': 0.004833642456218512, 'random_strength': 35, 'od_wait': 1015, 'reg_lambda': 59.9343266060903, 'border_count': 197, 'min_child_samples': 13, 'leaf_estimation_iterations': 3, 'value': 0.8561593831929037}.\n"
     ]
    },
    {
     "name": "stdout",
     "output_type": "stream",
     "text": [
      "ROC AUC Score of CatBoost = 0.8561593831929037\n"
     ]
    },
    {
     "name": "stderr",
     "output_type": "stream",
     "text": [
      "\u001b[32m[I 2021-10-21 15:36:49,287]\u001b[0m Trial 11 finished with value: 0.8566357520214488 and parameters: {'iterations': 25654, 'depth': 7, 'learning_rate': 0.0010335457074107561, 'random_strength': 34, 'od_wait': 880, 'reg_lambda': 51.64577001700147, 'border_count': 266, 'min_child_samples': 12, 'leaf_estimation_iterations': 4}. Best is trial 9 with value: 0.8566476432546122.\u001b[0m\n",
      "\u001b[34m\u001b[1mwandb\u001b[0m: \u001b[33mWARNING\u001b[0m Step must only increase in log calls.  Step 11 < 12; dropping {'iterations': 25654, 'depth': 7, 'learning_rate': 0.0010335457074107561, 'random_strength': 34, 'od_wait': 880, 'reg_lambda': 51.64577001700147, 'border_count': 266, 'min_child_samples': 12, 'leaf_estimation_iterations': 4, 'value': 0.8566357520214488}.\n"
     ]
    },
    {
     "name": "stdout",
     "output_type": "stream",
     "text": [
      "ROC AUC Score of CatBoost = 0.8566357520214488\n"
     ]
    },
    {
     "name": "stderr",
     "output_type": "stream",
     "text": [
      "\u001b[32m[I 2021-10-21 15:41:40,584]\u001b[0m Trial 12 finished with value: 0.8558542473919105 and parameters: {'iterations': 26817, 'depth': 8, 'learning_rate': 0.005687903197191066, 'random_strength': 32, 'od_wait': 948, 'reg_lambda': 51.07840315278863, 'border_count': 208, 'min_child_samples': 11, 'leaf_estimation_iterations': 4}. Best is trial 9 with value: 0.8566476432546122.\u001b[0m\n",
      "\u001b[34m\u001b[1mwandb\u001b[0m: \u001b[33mWARNING\u001b[0m Step must only increase in log calls.  Step 12 < 13; dropping {'iterations': 26817, 'depth': 8, 'learning_rate': 0.005687903197191066, 'random_strength': 32, 'od_wait': 948, 'reg_lambda': 51.07840315278863, 'border_count': 208, 'min_child_samples': 11, 'leaf_estimation_iterations': 4, 'value': 0.8558542473919105}.\n"
     ]
    },
    {
     "name": "stdout",
     "output_type": "stream",
     "text": [
      "ROC AUC Score of CatBoost = 0.8558542473919105\n"
     ]
    },
    {
     "name": "stderr",
     "output_type": "stream",
     "text": [
      "\u001b[32m[I 2021-10-21 15:45:19,315]\u001b[0m Trial 13 finished with value: 0.8563900018860763 and parameters: {'iterations': 25646, 'depth': 6, 'learning_rate': 0.0041973016594734625, 'random_strength': 0, 'od_wait': 895, 'reg_lambda': 46.87130506520654, 'border_count': 240, 'min_child_samples': 13, 'leaf_estimation_iterations': 4}. Best is trial 9 with value: 0.8566476432546122.\u001b[0m\n",
      "\u001b[34m\u001b[1mwandb\u001b[0m: \u001b[33mWARNING\u001b[0m Step must only increase in log calls.  Step 13 < 14; dropping {'iterations': 25646, 'depth': 6, 'learning_rate': 0.0041973016594734625, 'random_strength': 0, 'od_wait': 895, 'reg_lambda': 46.87130506520654, 'border_count': 240, 'min_child_samples': 13, 'leaf_estimation_iterations': 4, 'value': 0.8563900018860763}.\n"
     ]
    },
    {
     "name": "stdout",
     "output_type": "stream",
     "text": [
      "ROC AUC Score of CatBoost = 0.8563900018860763\n"
     ]
    },
    {
     "name": "stderr",
     "output_type": "stream",
     "text": [
      "\u001b[32m[I 2021-10-21 15:48:35,263]\u001b[0m Trial 14 finished with value: 0.8566459459498786 and parameters: {'iterations': 23840, 'depth': 6, 'learning_rate': 0.001089261101010539, 'random_strength': 100, 'od_wait': 1270, 'reg_lambda': 46.79412262015873, 'border_count': 186, 'min_child_samples': 8, 'leaf_estimation_iterations': 2}. Best is trial 9 with value: 0.8566476432546122.\u001b[0m\n",
      "\u001b[34m\u001b[1mwandb\u001b[0m: \u001b[33mWARNING\u001b[0m Step must only increase in log calls.  Step 14 < 15; dropping {'iterations': 23840, 'depth': 6, 'learning_rate': 0.001089261101010539, 'random_strength': 100, 'od_wait': 1270, 'reg_lambda': 46.79412262015873, 'border_count': 186, 'min_child_samples': 8, 'leaf_estimation_iterations': 2, 'value': 0.8566459459498786}.\n"
     ]
    },
    {
     "name": "stdout",
     "output_type": "stream",
     "text": [
      "ROC AUC Score of CatBoost = 0.8566459459498786\n"
     ]
    },
    {
     "name": "stderr",
     "output_type": "stream",
     "text": [
      "\u001b[32m[I 2021-10-21 15:51:14,845]\u001b[0m Trial 15 finished with value: 0.8566169347189693 and parameters: {'iterations': 22978, 'depth': 4, 'learning_rate': 0.0028176014557848173, 'random_strength': 94, 'od_wait': 1288, 'reg_lambda': 40.7453486181828, 'border_count': 180, 'min_child_samples': 7, 'leaf_estimation_iterations': 2}. Best is trial 9 with value: 0.8566476432546122.\u001b[0m\n",
      "\u001b[34m\u001b[1mwandb\u001b[0m: \u001b[33mWARNING\u001b[0m Step must only increase in log calls.  Step 15 < 16; dropping {'iterations': 22978, 'depth': 4, 'learning_rate': 0.0028176014557848173, 'random_strength': 94, 'od_wait': 1288, 'reg_lambda': 40.7453486181828, 'border_count': 180, 'min_child_samples': 7, 'leaf_estimation_iterations': 2, 'value': 0.8566169347189693}.\n"
     ]
    },
    {
     "name": "stdout",
     "output_type": "stream",
     "text": [
      "ROC AUC Score of CatBoost = 0.8566169347189693\n"
     ]
    },
    {
     "name": "stderr",
     "output_type": "stream",
     "text": [
      "\u001b[32m[I 2021-10-21 15:53:40,995]\u001b[0m Trial 16 finished with value: 0.8560259537207824 and parameters: {'iterations': 17838, 'depth': 6, 'learning_rate': 0.013536575527162706, 'random_strength': 98, 'od_wait': 1266, 'reg_lambda': 60.45619151329748, 'border_count': 172, 'min_child_samples': 1, 'leaf_estimation_iterations': 2}. Best is trial 9 with value: 0.8566476432546122.\u001b[0m\n",
      "\u001b[34m\u001b[1mwandb\u001b[0m: \u001b[33mWARNING\u001b[0m Step must only increase in log calls.  Step 16 < 17; dropping {'iterations': 17838, 'depth': 6, 'learning_rate': 0.013536575527162706, 'random_strength': 98, 'od_wait': 1266, 'reg_lambda': 60.45619151329748, 'border_count': 172, 'min_child_samples': 1, 'leaf_estimation_iterations': 2, 'value': 0.8560259537207824}.\n"
     ]
    },
    {
     "name": "stdout",
     "output_type": "stream",
     "text": [
      "ROC AUC Score of CatBoost = 0.8560259537207824\n"
     ]
    },
    {
     "name": "stderr",
     "output_type": "stream",
     "text": [
      "\u001b[32m[I 2021-10-21 15:54:35,572]\u001b[0m Trial 17 finished with value: 0.8565810423688689 and parameters: {'iterations': 7972, 'depth': 4, 'learning_rate': 0.014513670529256385, 'random_strength': 72, 'od_wait': 669, 'reg_lambda': 35.82021796674692, 'border_count': 112, 'min_child_samples': 10, 'leaf_estimation_iterations': 2}. Best is trial 9 with value: 0.8566476432546122.\u001b[0m\n",
      "\u001b[34m\u001b[1mwandb\u001b[0m: \u001b[33mWARNING\u001b[0m Step must only increase in log calls.  Step 17 < 18; dropping {'iterations': 7972, 'depth': 4, 'learning_rate': 0.014513670529256385, 'random_strength': 72, 'od_wait': 669, 'reg_lambda': 35.82021796674692, 'border_count': 112, 'min_child_samples': 10, 'leaf_estimation_iterations': 2, 'value': 0.8565810423688689}.\n"
     ]
    },
    {
     "name": "stdout",
     "output_type": "stream",
     "text": [
      "ROC AUC Score of CatBoost = 0.8565810423688689\n"
     ]
    },
    {
     "name": "stderr",
     "output_type": "stream",
     "text": [
      "\u001b[32m[I 2021-10-21 15:59:48,672]\u001b[0m Trial 18 finished with value: 0.8552545275693519 and parameters: {'iterations': 29943, 'depth': 8, 'learning_rate': 0.009232695807036867, 'random_strength': 46, 'od_wait': 1306, 'reg_lambda': 58.226977145676955, 'border_count': 193, 'min_child_samples': 5, 'leaf_estimation_iterations': 3}. Best is trial 9 with value: 0.8566476432546122.\u001b[0m\n",
      "\u001b[34m\u001b[1mwandb\u001b[0m: \u001b[33mWARNING\u001b[0m Step must only increase in log calls.  Step 18 < 19; dropping {'iterations': 29943, 'depth': 8, 'learning_rate': 0.009232695807036867, 'random_strength': 46, 'od_wait': 1306, 'reg_lambda': 58.226977145676955, 'border_count': 193, 'min_child_samples': 5, 'leaf_estimation_iterations': 3, 'value': 0.8552545275693519}.\n"
     ]
    },
    {
     "name": "stdout",
     "output_type": "stream",
     "text": [
      "ROC AUC Score of CatBoost = 0.8552545275693519\n"
     ]
    },
    {
     "name": "stderr",
     "output_type": "stream",
     "text": [
      "\u001b[32m[I 2021-10-21 16:02:25,451]\u001b[0m Trial 19 finished with value: 0.8566482740063713 and parameters: {'iterations': 23930, 'depth': 4, 'learning_rate': 0.0022783220631975016, 'random_strength': 76, 'od_wait': 1899, 'reg_lambda': 69.71169466673052, 'border_count': 227, 'min_child_samples': 9, 'leaf_estimation_iterations': 1}. Best is trial 19 with value: 0.8566482740063713.\u001b[0m\n",
      "\u001b[34m\u001b[1mwandb\u001b[0m: \u001b[33mWARNING\u001b[0m Step must only increase in log calls.  Step 19 < 20; dropping {'iterations': 23930, 'depth': 4, 'learning_rate': 0.0022783220631975016, 'random_strength': 76, 'od_wait': 1899, 'reg_lambda': 69.71169466673052, 'border_count': 227, 'min_child_samples': 9, 'leaf_estimation_iterations': 1, 'value': 0.8566482740063713}.\n"
     ]
    },
    {
     "name": "stdout",
     "output_type": "stream",
     "text": [
      "ROC AUC Score of CatBoost = 0.8566482740063713\n"
     ]
    },
    {
     "name": "stderr",
     "output_type": "stream",
     "text": [
      "\u001b[32m[I 2021-10-21 16:04:34,162]\u001b[0m Trial 20 finished with value: 0.8566494831097435 and parameters: {'iterations': 19598, 'depth': 4, 'learning_rate': 0.0024972038311184856, 'random_strength': 73, 'od_wait': 1997, 'reg_lambda': 67.92178641266494, 'border_count': 233, 'min_child_samples': 15, 'leaf_estimation_iterations': 1}. Best is trial 20 with value: 0.8566494831097435.\u001b[0m\n",
      "\u001b[34m\u001b[1mwandb\u001b[0m: \u001b[33mWARNING\u001b[0m Step must only increase in log calls.  Step 20 < 21; dropping {'iterations': 19598, 'depth': 4, 'learning_rate': 0.0024972038311184856, 'random_strength': 73, 'od_wait': 1997, 'reg_lambda': 67.92178641266494, 'border_count': 233, 'min_child_samples': 15, 'leaf_estimation_iterations': 1, 'value': 0.8566494831097435}.\n"
     ]
    },
    {
     "name": "stdout",
     "output_type": "stream",
     "text": [
      "ROC AUC Score of CatBoost = 0.8566494831097435\n"
     ]
    },
    {
     "name": "stderr",
     "output_type": "stream",
     "text": [
      "\u001b[32m[I 2021-10-21 16:06:42,825]\u001b[0m Trial 21 finished with value: 0.856650179261685 and parameters: {'iterations': 19636, 'depth': 4, 'learning_rate': 0.0026011083293397803, 'random_strength': 74, 'od_wait': 1974, 'reg_lambda': 69.31667208618305, 'border_count': 224, 'min_child_samples': 15, 'leaf_estimation_iterations': 1}. Best is trial 21 with value: 0.856650179261685.\u001b[0m\n",
      "\u001b[34m\u001b[1mwandb\u001b[0m: \u001b[33mWARNING\u001b[0m Step must only increase in log calls.  Step 21 < 22; dropping {'iterations': 19636, 'depth': 4, 'learning_rate': 0.0026011083293397803, 'random_strength': 74, 'od_wait': 1974, 'reg_lambda': 69.31667208618305, 'border_count': 224, 'min_child_samples': 15, 'leaf_estimation_iterations': 1, 'value': 0.856650179261685}.\n"
     ]
    },
    {
     "name": "stdout",
     "output_type": "stream",
     "text": [
      "ROC AUC Score of CatBoost = 0.856650179261685\n"
     ]
    },
    {
     "name": "stderr",
     "output_type": "stream",
     "text": [
      "\u001b[32m[I 2021-10-21 16:08:22,072]\u001b[0m Trial 22 finished with value: 0.8566545336738289 and parameters: {'iterations': 15130, 'depth': 4, 'learning_rate': 0.002737903265157216, 'random_strength': 75, 'od_wait': 1988, 'reg_lambda': 69.5823484889206, 'border_count': 237, 'min_child_samples': 15, 'leaf_estimation_iterations': 1}. Best is trial 22 with value: 0.8566545336738289.\u001b[0m\n",
      "\u001b[34m\u001b[1mwandb\u001b[0m: \u001b[33mWARNING\u001b[0m Step must only increase in log calls.  Step 22 < 23; dropping {'iterations': 15130, 'depth': 4, 'learning_rate': 0.002737903265157216, 'random_strength': 75, 'od_wait': 1988, 'reg_lambda': 69.5823484889206, 'border_count': 237, 'min_child_samples': 15, 'leaf_estimation_iterations': 1, 'value': 0.8566545336738289}.\n"
     ]
    },
    {
     "name": "stdout",
     "output_type": "stream",
     "text": [
      "ROC AUC Score of CatBoost = 0.8566545336738289\n"
     ]
    },
    {
     "name": "stderr",
     "output_type": "stream",
     "text": [
      "\u001b[32m[I 2021-10-21 16:10:06,009]\u001b[0m Trial 23 finished with value: 0.8566518223162672 and parameters: {'iterations': 17274, 'depth': 3, 'learning_rate': 0.0031412336464230403, 'random_strength': 86, 'od_wait': 1980, 'reg_lambda': 65.00257452732262, 'border_count': 243, 'min_child_samples': 15, 'leaf_estimation_iterations': 1}. Best is trial 22 with value: 0.8566545336738289.\u001b[0m\n",
      "\u001b[34m\u001b[1mwandb\u001b[0m: \u001b[33mWARNING\u001b[0m Step must only increase in log calls.  Step 23 < 24; dropping {'iterations': 17274, 'depth': 3, 'learning_rate': 0.0031412336464230403, 'random_strength': 86, 'od_wait': 1980, 'reg_lambda': 65.00257452732262, 'border_count': 243, 'min_child_samples': 15, 'leaf_estimation_iterations': 1, 'value': 0.8566518223162672}.\n"
     ]
    },
    {
     "name": "stdout",
     "output_type": "stream",
     "text": [
      "ROC AUC Score of CatBoost = 0.8566518223162672\n"
     ]
    },
    {
     "name": "stderr",
     "output_type": "stream",
     "text": [
      "\u001b[32m[I 2021-10-21 16:11:41,186]\u001b[0m Trial 24 finished with value: 0.8566193829257971 and parameters: {'iterations': 15781, 'depth': 3, 'learning_rate': 0.006938600165361626, 'random_strength': 86, 'od_wait': 1764, 'reg_lambda': 63.09293210290534, 'border_count': 249, 'min_child_samples': 15, 'leaf_estimation_iterations': 1}. Best is trial 22 with value: 0.8566545336738289.\u001b[0m\n",
      "\u001b[34m\u001b[1mwandb\u001b[0m: \u001b[33mWARNING\u001b[0m Step must only increase in log calls.  Step 24 < 25; dropping {'iterations': 15781, 'depth': 3, 'learning_rate': 0.006938600165361626, 'random_strength': 86, 'od_wait': 1764, 'reg_lambda': 63.09293210290534, 'border_count': 249, 'min_child_samples': 15, 'leaf_estimation_iterations': 1, 'value': 0.8566193829257971}.\n"
     ]
    },
    {
     "name": "stdout",
     "output_type": "stream",
     "text": [
      "ROC AUC Score of CatBoost = 0.8566193829257971\n"
     ]
    },
    {
     "name": "stderr",
     "output_type": "stream",
     "text": [
      "\u001b[32m[I 2021-10-21 16:12:26,337]\u001b[0m Trial 25 finished with value: 0.8566467608521514 and parameters: {'iterations': 7454, 'depth': 3, 'learning_rate': 0.003009737428341562, 'random_strength': 84, 'od_wait': 1756, 'reg_lambda': 62.18187531704804, 'border_count': 213, 'min_child_samples': 15, 'leaf_estimation_iterations': 1}. Best is trial 22 with value: 0.8566545336738289.\u001b[0m\n",
      "\u001b[34m\u001b[1mwandb\u001b[0m: \u001b[33mWARNING\u001b[0m Step must only increase in log calls.  Step 25 < 26; dropping {'iterations': 7454, 'depth': 3, 'learning_rate': 0.003009737428341562, 'random_strength': 84, 'od_wait': 1756, 'reg_lambda': 62.18187531704804, 'border_count': 213, 'min_child_samples': 15, 'leaf_estimation_iterations': 1, 'value': 0.8566467608521514}.\n"
     ]
    },
    {
     "name": "stdout",
     "output_type": "stream",
     "text": [
      "ROC AUC Score of CatBoost = 0.8566467608521514\n"
     ]
    },
    {
     "name": "stderr",
     "output_type": "stream",
     "text": [
      "\u001b[32m[I 2021-10-21 16:14:11,650]\u001b[0m Trial 26 finished with value: 0.8565274046692788 and parameters: {'iterations': 15735, 'depth': 4, 'learning_rate': 0.011114688428283406, 'random_strength': 65, 'od_wait': 1544, 'reg_lambda': 66.12266407313476, 'border_count': 258, 'min_child_samples': 13, 'leaf_estimation_iterations': 1}. Best is trial 22 with value: 0.8566545336738289.\u001b[0m\n",
      "\u001b[34m\u001b[1mwandb\u001b[0m: \u001b[33mWARNING\u001b[0m Step must only increase in log calls.  Step 26 < 27; dropping {'iterations': 15735, 'depth': 4, 'learning_rate': 0.011114688428283406, 'random_strength': 65, 'od_wait': 1544, 'reg_lambda': 66.12266407313476, 'border_count': 258, 'min_child_samples': 13, 'leaf_estimation_iterations': 1, 'value': 0.8565274046692788}.\n"
     ]
    },
    {
     "name": "stdout",
     "output_type": "stream",
     "text": [
      "ROC AUC Score of CatBoost = 0.8565274046692788\n"
     ]
    },
    {
     "name": "stderr",
     "output_type": "stream",
     "text": [
      "\u001b[32m[I 2021-10-21 16:15:42,623]\u001b[0m Trial 27 finished with value: 0.8566493721094339 and parameters: {'iterations': 14108, 'depth': 3, 'learning_rate': 0.0038071589075223296, 'random_strength': 89, 'od_wait': 1825, 'reg_lambda': 56.0815994603424, 'border_count': 246, 'min_child_samples': 17, 'leaf_estimation_iterations': 2}. Best is trial 22 with value: 0.8566545336738289.\u001b[0m\n",
      "\u001b[34m\u001b[1mwandb\u001b[0m: \u001b[33mWARNING\u001b[0m Step must only increase in log calls.  Step 27 < 28; dropping {'iterations': 14108, 'depth': 3, 'learning_rate': 0.0038071589075223296, 'random_strength': 89, 'od_wait': 1825, 'reg_lambda': 56.0815994603424, 'border_count': 246, 'min_child_samples': 17, 'leaf_estimation_iterations': 2, 'value': 0.8566493721094339}.\n"
     ]
    },
    {
     "name": "stdout",
     "output_type": "stream",
     "text": [
      "ROC AUC Score of CatBoost = 0.8566493721094339\n"
     ]
    },
    {
     "name": "stderr",
     "output_type": "stream",
     "text": [
      "\u001b[32m[I 2021-10-21 16:16:44,430]\u001b[0m Trial 28 finished with value: 0.8566075519928018 and parameters: {'iterations': 9407, 'depth': 4, 'learning_rate': 0.00843340930889187, 'random_strength': 77, 'od_wait': 1960, 'reg_lambda': 56.600720894647026, 'border_count': 215, 'min_child_samples': 14, 'leaf_estimation_iterations': 1}. Best is trial 22 with value: 0.8566545336738289.\u001b[0m\n",
      "\u001b[34m\u001b[1mwandb\u001b[0m: \u001b[33mWARNING\u001b[0m Step must only increase in log calls.  Step 28 < 29; dropping {'iterations': 9407, 'depth': 4, 'learning_rate': 0.00843340930889187, 'random_strength': 77, 'od_wait': 1960, 'reg_lambda': 56.600720894647026, 'border_count': 215, 'min_child_samples': 14, 'leaf_estimation_iterations': 1, 'value': 0.8566075519928018}.\n"
     ]
    },
    {
     "name": "stdout",
     "output_type": "stream",
     "text": [
      "ROC AUC Score of CatBoost = 0.8566075519928018\n"
     ]
    },
    {
     "name": "stderr",
     "output_type": "stream",
     "text": [
      "\u001b[32m[I 2021-10-21 16:18:52,577]\u001b[0m Trial 29 finished with value: 0.8528241797413548 and parameters: {'iterations': 17291, 'depth': 5, 'learning_rate': 0.1571286524883743, 'random_strength': 64, 'od_wait': 1696, 'reg_lambda': 64.68007286676225, 'border_count': 154, 'min_child_samples': 17, 'leaf_estimation_iterations': 2}. Best is trial 22 with value: 0.8566545336738289.\u001b[0m\n",
      "\u001b[34m\u001b[1mwandb\u001b[0m: \u001b[33mWARNING\u001b[0m Step must only increase in log calls.  Step 29 < 30; dropping {'iterations': 17291, 'depth': 5, 'learning_rate': 0.1571286524883743, 'random_strength': 64, 'od_wait': 1696, 'reg_lambda': 64.68007286676225, 'border_count': 154, 'min_child_samples': 17, 'leaf_estimation_iterations': 2, 'value': 0.8528241797413548}.\n"
     ]
    },
    {
     "name": "stdout",
     "output_type": "stream",
     "text": [
      "ROC AUC Score of CatBoost = 0.8528241797413548\n"
     ]
    },
    {
     "name": "stderr",
     "output_type": "stream",
     "text": [
      "\u001b[32m[I 2021-10-21 16:20:12,484]\u001b[0m Trial 30 finished with value: 0.8566493240592999 and parameters: {'iterations': 13580, 'depth': 3, 'learning_rate': 0.0019259102825141194, 'random_strength': 57, 'od_wait': 1395, 'reg_lambda': 69.4460333945085, 'border_count': 77, 'min_child_samples': 12, 'leaf_estimation_iterations': 1}. Best is trial 22 with value: 0.8566545336738289.\u001b[0m\n",
      "\u001b[34m\u001b[1mwandb\u001b[0m: \u001b[33mWARNING\u001b[0m Step must only increase in log calls.  Step 30 < 31; dropping {'iterations': 13580, 'depth': 3, 'learning_rate': 0.0019259102825141194, 'random_strength': 57, 'od_wait': 1395, 'reg_lambda': 69.4460333945085, 'border_count': 77, 'min_child_samples': 12, 'leaf_estimation_iterations': 1, 'value': 0.8566493240592999}.\n"
     ]
    },
    {
     "name": "stdout",
     "output_type": "stream",
     "text": [
      "ROC AUC Score of CatBoost = 0.8566493240592999\n"
     ]
    },
    {
     "name": "stderr",
     "output_type": "stream",
     "text": [
      "\u001b[32m[I 2021-10-21 16:22:30,038]\u001b[0m Trial 31 finished with value: 0.8566391042307977 and parameters: {'iterations': 21031, 'depth': 4, 'learning_rate': 0.003037800220666817, 'random_strength': 69, 'od_wait': 1976, 'reg_lambda': 69.88328385928823, 'border_count': 233, 'min_child_samples': 14, 'leaf_estimation_iterations': 1}. Best is trial 22 with value: 0.8566545336738289.\u001b[0m\n",
      "\u001b[34m\u001b[1mwandb\u001b[0m: \u001b[33mWARNING\u001b[0m Step must only increase in log calls.  Step 31 < 32; dropping {'iterations': 21031, 'depth': 4, 'learning_rate': 0.003037800220666817, 'random_strength': 69, 'od_wait': 1976, 'reg_lambda': 69.88328385928823, 'border_count': 233, 'min_child_samples': 14, 'leaf_estimation_iterations': 1, 'value': 0.8566391042307977}.\n"
     ]
    },
    {
     "name": "stdout",
     "output_type": "stream",
     "text": [
      "ROC AUC Score of CatBoost = 0.8566391042307977\n"
     ]
    },
    {
     "name": "stderr",
     "output_type": "stream",
     "text": [
      "\u001b[32m[I 2021-10-21 16:24:35,755]\u001b[0m Trial 32 finished with value: 0.8566560195279729 and parameters: {'iterations': 19202, 'depth': 4, 'learning_rate': 0.0025107067426720746, 'random_strength': 82, 'od_wait': 1861, 'reg_lambda': 65.00432347093462, 'border_count': 252, 'min_child_samples': 15, 'leaf_estimation_iterations': 1}. Best is trial 32 with value: 0.8566560195279729.\u001b[0m\n",
      "\u001b[34m\u001b[1mwandb\u001b[0m: \u001b[33mWARNING\u001b[0m Step must only increase in log calls.  Step 32 < 33; dropping {'iterations': 19202, 'depth': 4, 'learning_rate': 0.0025107067426720746, 'random_strength': 82, 'od_wait': 1861, 'reg_lambda': 65.00432347093462, 'border_count': 252, 'min_child_samples': 15, 'leaf_estimation_iterations': 1, 'value': 0.8566560195279729}.\n"
     ]
    },
    {
     "name": "stdout",
     "output_type": "stream",
     "text": [
      "ROC AUC Score of CatBoost = 0.8566560195279729\n"
     ]
    },
    {
     "name": "stderr",
     "output_type": "stream",
     "text": [
      "\u001b[32m[I 2021-10-21 16:26:46,168]\u001b[0m Trial 33 finished with value: 0.8534028299051524 and parameters: {'iterations': 22166, 'depth': 3, 'learning_rate': 0.4457917418672969, 'random_strength': 81, 'od_wait': 1683, 'reg_lambda': 63.726371160308815, 'border_count': 253, 'min_child_samples': 17, 'leaf_estimation_iterations': 1}. Best is trial 32 with value: 0.8566560195279729.\u001b[0m\n",
      "\u001b[34m\u001b[1mwandb\u001b[0m: \u001b[33mWARNING\u001b[0m Step must only increase in log calls.  Step 33 < 34; dropping {'iterations': 22166, 'depth': 3, 'learning_rate': 0.4457917418672969, 'random_strength': 81, 'od_wait': 1683, 'reg_lambda': 63.726371160308815, 'border_count': 253, 'min_child_samples': 17, 'leaf_estimation_iterations': 1, 'value': 0.8534028299051524}.\n"
     ]
    },
    {
     "name": "stdout",
     "output_type": "stream",
     "text": [
      "ROC AUC Score of CatBoost = 0.8534028299051524\n"
     ]
    },
    {
     "name": "stderr",
     "output_type": "stream",
     "text": [
      "\u001b[32m[I 2021-10-21 16:28:42,330]\u001b[0m Trial 34 finished with value: 0.8565603119110539 and parameters: {'iterations': 15169, 'depth': 5, 'learning_rate': 0.005728218716910268, 'random_strength': 90, 'od_wait': 1848, 'reg_lambda': 55.70464945162843, 'border_count': 273, 'min_child_samples': 16, 'leaf_estimation_iterations': 2}. Best is trial 32 with value: 0.8566560195279729.\u001b[0m\n",
      "\u001b[34m\u001b[1mwandb\u001b[0m: \u001b[33mWARNING\u001b[0m Step must only increase in log calls.  Step 34 < 35; dropping {'iterations': 15169, 'depth': 5, 'learning_rate': 0.005728218716910268, 'random_strength': 90, 'od_wait': 1848, 'reg_lambda': 55.70464945162843, 'border_count': 273, 'min_child_samples': 16, 'leaf_estimation_iterations': 2, 'value': 0.8565603119110539}.\n"
     ]
    },
    {
     "name": "stdout",
     "output_type": "stream",
     "text": [
      "ROC AUC Score of CatBoost = 0.8565603119110539\n"
     ]
    },
    {
     "name": "stderr",
     "output_type": "stream",
     "text": [
      "\u001b[32m[I 2021-10-21 16:29:54,464]\u001b[0m Trial 35 finished with value: 0.856652666268621 and parameters: {'iterations': 11992, 'depth': 3, 'learning_rate': 0.001652554531681498, 'random_strength': 80, 'od_wait': 1883, 'reg_lambda': 21.120856411526468, 'border_count': 221, 'min_child_samples': 20, 'leaf_estimation_iterations': 1}. Best is trial 32 with value: 0.8566560195279729.\u001b[0m\n",
      "\u001b[34m\u001b[1mwandb\u001b[0m: \u001b[33mWARNING\u001b[0m Step must only increase in log calls.  Step 35 < 36; dropping {'iterations': 11992, 'depth': 3, 'learning_rate': 0.001652554531681498, 'random_strength': 80, 'od_wait': 1883, 'reg_lambda': 21.120856411526468, 'border_count': 221, 'min_child_samples': 20, 'leaf_estimation_iterations': 1, 'value': 0.856652666268621}.\n"
     ]
    },
    {
     "name": "stdout",
     "output_type": "stream",
     "text": [
      "ROC AUC Score of CatBoost = 0.856652666268621\n"
     ]
    },
    {
     "name": "stderr",
     "output_type": "stream",
     "text": [
      "\u001b[32m[I 2021-10-21 16:31:00,842]\u001b[0m Trial 36 finished with value: 0.8566511914645079 and parameters: {'iterations': 11022, 'depth': 3, 'learning_rate': 0.001482104674397505, 'random_strength': 81, 'od_wait': 1493, 'reg_lambda': 24.45381030138578, 'border_count': 242, 'min_child_samples': 20, 'leaf_estimation_iterations': 1}. Best is trial 32 with value: 0.8566560195279729.\u001b[0m\n",
      "\u001b[34m\u001b[1mwandb\u001b[0m: \u001b[33mWARNING\u001b[0m Step must only increase in log calls.  Step 36 < 37; dropping {'iterations': 11022, 'depth': 3, 'learning_rate': 0.001482104674397505, 'random_strength': 81, 'od_wait': 1493, 'reg_lambda': 24.45381030138578, 'border_count': 242, 'min_child_samples': 20, 'leaf_estimation_iterations': 1, 'value': 0.8566511914645079}.\n"
     ]
    },
    {
     "name": "stdout",
     "output_type": "stream",
     "text": [
      "ROC AUC Score of CatBoost = 0.8566511914645079\n"
     ]
    },
    {
     "name": "stderr",
     "output_type": "stream",
     "text": [
      "\u001b[32m[I 2021-10-21 16:32:26,584]\u001b[0m Trial 37 finished with value: 0.8566302511561075 and parameters: {'iterations': 13157, 'depth': 3, 'learning_rate': 0.004133698464622521, 'random_strength': 93, 'od_wait': 1859, 'reg_lambda': 13.92180550886204, 'border_count': 258, 'min_child_samples': 18, 'leaf_estimation_iterations': 2}. Best is trial 32 with value: 0.8566560195279729.\u001b[0m\n",
      "\u001b[34m\u001b[1mwandb\u001b[0m: \u001b[33mWARNING\u001b[0m Step must only increase in log calls.  Step 37 < 38; dropping {'iterations': 13157, 'depth': 3, 'learning_rate': 0.004133698464622521, 'random_strength': 93, 'od_wait': 1859, 'reg_lambda': 13.92180550886204, 'border_count': 258, 'min_child_samples': 18, 'leaf_estimation_iterations': 2, 'value': 0.8566302511561075}.\n"
     ]
    },
    {
     "name": "stdout",
     "output_type": "stream",
     "text": [
      "ROC AUC Score of CatBoost = 0.8566302511561075\n"
     ]
    },
    {
     "name": "stderr",
     "output_type": "stream",
     "text": [
      "\u001b[32m[I 2021-10-21 16:33:02,344]\u001b[0m Trial 38 finished with value: 0.8543066303757614 and parameters: {'iterations': 5046, 'depth': 5, 'learning_rate': 0.2556434023660361, 'random_strength': 67, 'od_wait': 1662, 'reg_lambda': 19.49047279182539, 'border_count': 206, 'min_child_samples': 20, 'leaf_estimation_iterations': 1}. Best is trial 32 with value: 0.8566560195279729.\u001b[0m\n",
      "\u001b[34m\u001b[1mwandb\u001b[0m: \u001b[33mWARNING\u001b[0m Step must only increase in log calls.  Step 38 < 39; dropping {'iterations': 5046, 'depth': 5, 'learning_rate': 0.2556434023660361, 'random_strength': 67, 'od_wait': 1662, 'reg_lambda': 19.49047279182539, 'border_count': 206, 'min_child_samples': 20, 'leaf_estimation_iterations': 1, 'value': 0.8543066303757614}.\n"
     ]
    },
    {
     "name": "stdout",
     "output_type": "stream",
     "text": [
      "ROC AUC Score of CatBoost = 0.8543066303757614\n"
     ]
    },
    {
     "name": "stderr",
     "output_type": "stream",
     "text": [
      "\u001b[32m[I 2021-10-21 16:34:53,009]\u001b[0m Trial 39 finished with value: 0.8561815928048442 and parameters: {'iterations': 17355, 'depth': 3, 'learning_rate': 0.04144886700703065, 'random_strength': 53, 'od_wait': 1127, 'reg_lambda': 30.0638760832763, 'border_count': 220, 'min_child_samples': 19, 'leaf_estimation_iterations': 2}. Best is trial 32 with value: 0.8566560195279729.\u001b[0m\n",
      "\u001b[34m\u001b[1mwandb\u001b[0m: \u001b[33mWARNING\u001b[0m Step must only increase in log calls.  Step 39 < 40; dropping {'iterations': 17355, 'depth': 3, 'learning_rate': 0.04144886700703065, 'random_strength': 53, 'od_wait': 1127, 'reg_lambda': 30.0638760832763, 'border_count': 220, 'min_child_samples': 19, 'leaf_estimation_iterations': 2, 'value': 0.8561815928048442}.\n"
     ]
    },
    {
     "name": "stdout",
     "output_type": "stream",
     "text": [
      "ROC AUC Score of CatBoost = 0.8561815928048442\n"
     ]
    },
    {
     "name": "stderr",
     "output_type": "stream",
     "text": [
      "\u001b[32m[I 2021-10-21 16:36:09,110]\u001b[0m Trial 40 finished with value: 0.8566566425297103 and parameters: {'iterations': 11560, 'depth': 4, 'learning_rate': 0.0017437060252282598, 'random_strength': 61, 'od_wait': 1438, 'reg_lambda': 17.423985733598993, 'border_count': 237, 'min_child_samples': 11, 'leaf_estimation_iterations': 1}. Best is trial 40 with value: 0.8566566425297103.\u001b[0m\n",
      "\u001b[34m\u001b[1mwandb\u001b[0m: \u001b[33mWARNING\u001b[0m Step must only increase in log calls.  Step 40 < 41; dropping {'iterations': 11560, 'depth': 4, 'learning_rate': 0.0017437060252282598, 'random_strength': 61, 'od_wait': 1438, 'reg_lambda': 17.423985733598993, 'border_count': 237, 'min_child_samples': 11, 'leaf_estimation_iterations': 1, 'value': 0.8566566425297103}.\n"
     ]
    },
    {
     "name": "stdout",
     "output_type": "stream",
     "text": [
      "ROC AUC Score of CatBoost = 0.8566566425297103\n"
     ]
    },
    {
     "name": "stderr",
     "output_type": "stream",
     "text": [
      "\u001b[32m[I 2021-10-21 16:37:25,161]\u001b[0m Trial 41 finished with value: 0.856659348137256 and parameters: {'iterations': 11590, 'depth': 4, 'learning_rate': 0.0019004295837277215, 'random_strength': 60, 'od_wait': 1780, 'reg_lambda': 19.406839648582707, 'border_count': 236, 'min_child_samples': 10, 'leaf_estimation_iterations': 1}. Best is trial 41 with value: 0.856659348137256.\u001b[0m\n",
      "\u001b[34m\u001b[1mwandb\u001b[0m: \u001b[33mWARNING\u001b[0m Step must only increase in log calls.  Step 41 < 42; dropping {'iterations': 11590, 'depth': 4, 'learning_rate': 0.0019004295837277215, 'random_strength': 60, 'od_wait': 1780, 'reg_lambda': 19.406839648582707, 'border_count': 236, 'min_child_samples': 10, 'leaf_estimation_iterations': 1, 'value': 0.856659348137256}.\n"
     ]
    },
    {
     "name": "stdout",
     "output_type": "stream",
     "text": [
      "ROC AUC Score of CatBoost = 0.856659348137256\n"
     ]
    },
    {
     "name": "stderr",
     "output_type": "stream",
     "text": [
      "\u001b[32m[I 2021-10-21 16:38:50,292]\u001b[0m Trial 42 finished with value: 0.8566612953926867 and parameters: {'iterations': 11912, 'depth': 5, 'learning_rate': 0.0017954649567666848, 'random_strength': 58, 'od_wait': 1421, 'reg_lambda': 17.9733673955109, 'border_count': 233, 'min_child_samples': 10, 'leaf_estimation_iterations': 1}. Best is trial 42 with value: 0.8566612953926867.\u001b[0m\n",
      "\u001b[34m\u001b[1mwandb\u001b[0m: \u001b[33mWARNING\u001b[0m Step must only increase in log calls.  Step 42 < 43; dropping {'iterations': 11912, 'depth': 5, 'learning_rate': 0.0017954649567666848, 'random_strength': 58, 'od_wait': 1421, 'reg_lambda': 17.9733673955109, 'border_count': 233, 'min_child_samples': 10, 'leaf_estimation_iterations': 1, 'value': 0.8566612953926867}.\n"
     ]
    },
    {
     "name": "stdout",
     "output_type": "stream",
     "text": [
      "ROC AUC Score of CatBoost = 0.8566612953926867\n"
     ]
    },
    {
     "name": "stderr",
     "output_type": "stream",
     "text": [
      "\u001b[32m[I 2021-10-21 16:39:50,184]\u001b[0m Trial 43 finished with value: 0.8566423017897153 and parameters: {'iterations': 8305, 'depth': 5, 'learning_rate': 0.001108971807947717, 'random_strength': 62, 'od_wait': 1443, 'reg_lambda': 10.966763842511266, 'border_count': 234, 'min_child_samples': 10, 'leaf_estimation_iterations': 1}. Best is trial 42 with value: 0.8566612953926867.\u001b[0m\n",
      "\u001b[34m\u001b[1mwandb\u001b[0m: \u001b[33mWARNING\u001b[0m Step must only increase in log calls.  Step 43 < 44; dropping {'iterations': 8305, 'depth': 5, 'learning_rate': 0.001108971807947717, 'random_strength': 62, 'od_wait': 1443, 'reg_lambda': 10.966763842511266, 'border_count': 234, 'min_child_samples': 10, 'leaf_estimation_iterations': 1, 'value': 0.8566423017897153}.\n"
     ]
    },
    {
     "name": "stdout",
     "output_type": "stream",
     "text": [
      "ROC AUC Score of CatBoost = 0.8566423017897153\n"
     ]
    },
    {
     "name": "stderr",
     "output_type": "stream",
     "text": [
      "\u001b[32m[I 2021-10-21 16:41:00,360]\u001b[0m Trial 44 finished with value: 0.856601128024886 and parameters: {'iterations': 9612, 'depth': 5, 'learning_rate': 0.0018989274987515985, 'random_strength': 49, 'od_wait': 1589, 'reg_lambda': 17.94705946604258, 'border_count': 260, 'min_child_samples': 11, 'leaf_estimation_iterations': 1}. Best is trial 42 with value: 0.8566612953926867.\u001b[0m\n",
      "\u001b[34m\u001b[1mwandb\u001b[0m: \u001b[33mWARNING\u001b[0m Step must only increase in log calls.  Step 44 < 45; dropping {'iterations': 9612, 'depth': 5, 'learning_rate': 0.0018989274987515985, 'random_strength': 49, 'od_wait': 1589, 'reg_lambda': 17.94705946604258, 'border_count': 260, 'min_child_samples': 11, 'leaf_estimation_iterations': 1, 'value': 0.856601128024886}.\n"
     ]
    },
    {
     "name": "stdout",
     "output_type": "stream",
     "text": [
      "ROC AUC Score of CatBoost = 0.856601128024886\n"
     ]
    },
    {
     "name": "stderr",
     "output_type": "stream",
     "text": [
      "\u001b[32m[I 2021-10-21 16:42:56,605]\u001b[0m Trial 45 finished with value: 0.8566519020664898 and parameters: {'iterations': 14544, 'depth': 6, 'learning_rate': 0.001387161120242817, 'random_strength': 39, 'od_wait': 1132, 'reg_lambda': 29.579097213760342, 'border_count': 273, 'min_child_samples': 9, 'leaf_estimation_iterations': 1}. Best is trial 42 with value: 0.8566612953926867.\u001b[0m\n",
      "\u001b[34m\u001b[1mwandb\u001b[0m: \u001b[33mWARNING\u001b[0m Step must only increase in log calls.  Step 45 < 46; dropping {'iterations': 14544, 'depth': 6, 'learning_rate': 0.001387161120242817, 'random_strength': 39, 'od_wait': 1132, 'reg_lambda': 29.579097213760342, 'border_count': 273, 'min_child_samples': 9, 'leaf_estimation_iterations': 1, 'value': 0.8566519020664898}.\n"
     ]
    },
    {
     "name": "stdout",
     "output_type": "stream",
     "text": [
      "ROC AUC Score of CatBoost = 0.8566519020664898\n"
     ]
    },
    {
     "name": "stderr",
     "output_type": "stream",
     "text": [
      "\u001b[32m[I 2021-10-21 16:43:37,438]\u001b[0m Trial 46 finished with value: 0.8566441456948581 and parameters: {'iterations': 5823, 'depth': 4, 'learning_rate': 0.0021106078077304954, 'random_strength': 60, 'od_wait': 1753, 'reg_lambda': 12.321971216322087, 'border_count': 203, 'min_child_samples': 12, 'leaf_estimation_iterations': 2}. Best is trial 42 with value: 0.8566612953926867.\u001b[0m\n",
      "\u001b[34m\u001b[1mwandb\u001b[0m: \u001b[33mWARNING\u001b[0m Step must only increase in log calls.  Step 46 < 47; dropping {'iterations': 5823, 'depth': 4, 'learning_rate': 0.0021106078077304954, 'random_strength': 60, 'od_wait': 1753, 'reg_lambda': 12.321971216322087, 'border_count': 203, 'min_child_samples': 12, 'leaf_estimation_iterations': 2, 'value': 0.8566441456948581}.\n"
     ]
    },
    {
     "name": "stdout",
     "output_type": "stream",
     "text": [
      "ROC AUC Score of CatBoost = 0.8566441456948581\n"
     ]
    },
    {
     "name": "stderr",
     "output_type": "stream",
     "text": [
      "\u001b[32m[I 2021-10-21 16:44:59,328]\u001b[0m Trial 47 finished with value: 0.8566234632871768 and parameters: {'iterations': 11202, 'depth': 4, 'learning_rate': 0.004846687125957024, 'random_strength': 56, 'od_wait': 1396, 'reg_lambda': 3.585624222769466, 'border_count': 265, 'min_child_samples': 8, 'leaf_estimation_iterations': 3}. Best is trial 42 with value: 0.8566612953926867.\u001b[0m\n",
      "\u001b[34m\u001b[1mwandb\u001b[0m: \u001b[33mWARNING\u001b[0m Step must only increase in log calls.  Step 47 < 48; dropping {'iterations': 11202, 'depth': 4, 'learning_rate': 0.004846687125957024, 'random_strength': 56, 'od_wait': 1396, 'reg_lambda': 3.585624222769466, 'border_count': 265, 'min_child_samples': 8, 'leaf_estimation_iterations': 3, 'value': 0.8566234632871768}.\n"
     ]
    },
    {
     "name": "stdout",
     "output_type": "stream",
     "text": [
      "ROC AUC Score of CatBoost = 0.8566234632871768\n"
     ]
    },
    {
     "name": "stderr",
     "output_type": "stream",
     "text": [
      "\u001b[32m[I 2021-10-21 16:46:33,837]\u001b[0m Trial 48 finished with value: 0.8566556538769531 and parameters: {'iterations': 13169, 'depth': 5, 'learning_rate': 0.0012074855682849828, 'random_strength': 51, 'od_wait': 1623, 'reg_lambda': 9.976495540221471, 'border_count': 235, 'min_child_samples': 5, 'leaf_estimation_iterations': 1}. Best is trial 42 with value: 0.8566612953926867.\u001b[0m\n",
      "\u001b[34m\u001b[1mwandb\u001b[0m: \u001b[33mWARNING\u001b[0m Step must only increase in log calls.  Step 48 < 49; dropping {'iterations': 13169, 'depth': 5, 'learning_rate': 0.0012074855682849828, 'random_strength': 51, 'od_wait': 1623, 'reg_lambda': 9.976495540221471, 'border_count': 235, 'min_child_samples': 5, 'leaf_estimation_iterations': 1, 'value': 0.8566556538769531}.\n"
     ]
    },
    {
     "name": "stdout",
     "output_type": "stream",
     "text": [
      "ROC AUC Score of CatBoost = 0.8566556538769531\n"
     ]
    },
    {
     "name": "stderr",
     "output_type": "stream",
     "text": [
      "\u001b[32m[I 2021-10-21 16:48:08,683]\u001b[0m Trial 49 finished with value: 0.8566584837348453 and parameters: {'iterations': 12516, 'depth': 5, 'learning_rate': 0.0010100641748676368, 'random_strength': 40, 'od_wait': 1614, 'reg_lambda': 9.447425672226558, 'border_count': 250, 'min_child_samples': 5, 'leaf_estimation_iterations': 2}. Best is trial 42 with value: 0.8566612953926867.\u001b[0m\n",
      "\u001b[34m\u001b[1mwandb\u001b[0m: \u001b[33mWARNING\u001b[0m Step must only increase in log calls.  Step 49 < 50; dropping {'iterations': 12516, 'depth': 5, 'learning_rate': 0.0010100641748676368, 'random_strength': 40, 'od_wait': 1614, 'reg_lambda': 9.447425672226558, 'border_count': 250, 'min_child_samples': 5, 'leaf_estimation_iterations': 2, 'value': 0.8566584837348453}.\n"
     ]
    },
    {
     "name": "stdout",
     "output_type": "stream",
     "text": [
      "ROC AUC Score of CatBoost = 0.8566584837348453\n"
     ]
    },
    {
     "name": "stderr",
     "output_type": "stream",
     "text": [
      "\u001b[32m[I 2021-10-21 16:49:30,763]\u001b[0m Trial 50 finished with value: 0.8566578792331594 and parameters: {'iterations': 9665, 'depth': 6, 'learning_rate': 0.001558106352940338, 'random_strength': 42, 'od_wait': 1484, 'reg_lambda': 17.307468680794376, 'border_count': 252, 'min_child_samples': 3, 'leaf_estimation_iterations': 3}. Best is trial 42 with value: 0.8566612953926867.\u001b[0m\n",
      "\u001b[34m\u001b[1mwandb\u001b[0m: \u001b[33mWARNING\u001b[0m Step must only increase in log calls.  Step 50 < 51; dropping {'iterations': 9665, 'depth': 6, 'learning_rate': 0.001558106352940338, 'random_strength': 42, 'od_wait': 1484, 'reg_lambda': 17.307468680794376, 'border_count': 252, 'min_child_samples': 3, 'leaf_estimation_iterations': 3, 'value': 0.8566578792331594}.\n"
     ]
    },
    {
     "name": "stdout",
     "output_type": "stream",
     "text": [
      "ROC AUC Score of CatBoost = 0.8566578792331594\n"
     ]
    },
    {
     "name": "stderr",
     "output_type": "stream",
     "text": [
      "\u001b[32m[I 2021-10-21 16:50:54,170]\u001b[0m Trial 51 finished with value: 0.856658191034029 and parameters: {'iterations': 9812, 'depth': 6, 'learning_rate': 0.001009470571160845, 'random_strength': 28, 'od_wait': 1508, 'reg_lambda': 17.337592433388892, 'border_count': 250, 'min_child_samples': 2, 'leaf_estimation_iterations': 3}. Best is trial 42 with value: 0.8566612953926867.\u001b[0m\n",
      "\u001b[34m\u001b[1mwandb\u001b[0m: \u001b[33mWARNING\u001b[0m Step must only increase in log calls.  Step 51 < 52; dropping {'iterations': 9812, 'depth': 6, 'learning_rate': 0.001009470571160845, 'random_strength': 28, 'od_wait': 1508, 'reg_lambda': 17.337592433388892, 'border_count': 250, 'min_child_samples': 2, 'leaf_estimation_iterations': 3, 'value': 0.856658191034029}.\n"
     ]
    },
    {
     "name": "stdout",
     "output_type": "stream",
     "text": [
      "ROC AUC Score of CatBoost = 0.856658191034029\n"
     ]
    },
    {
     "name": "stderr",
     "output_type": "stream",
     "text": [
      "\u001b[32m[I 2021-10-21 16:52:19,542]\u001b[0m Trial 52 finished with value: 0.8566594464375301 and parameters: {'iterations': 10020, 'depth': 6, 'learning_rate': 0.0010430969426937068, 'random_strength': 27, 'od_wait': 1494, 'reg_lambda': 15.50083940134467, 'border_count': 249, 'min_child_samples': 2, 'leaf_estimation_iterations': 3}. Best is trial 42 with value: 0.8566612953926867.\u001b[0m\n",
      "\u001b[34m\u001b[1mwandb\u001b[0m: \u001b[33mWARNING\u001b[0m Step must only increase in log calls.  Step 52 < 53; dropping {'iterations': 10020, 'depth': 6, 'learning_rate': 0.0010430969426937068, 'random_strength': 27, 'od_wait': 1494, 'reg_lambda': 15.50083940134467, 'border_count': 249, 'min_child_samples': 2, 'leaf_estimation_iterations': 3, 'value': 0.8566594464375301}.\n"
     ]
    },
    {
     "name": "stdout",
     "output_type": "stream",
     "text": [
      "ROC AUC Score of CatBoost = 0.8566594464375301\n"
     ]
    },
    {
     "name": "stderr",
     "output_type": "stream",
     "text": [
      "\u001b[32m[I 2021-10-21 16:53:47,230]\u001b[0m Trial 53 finished with value: 0.8565848024293554 and parameters: {'iterations': 10134, 'depth': 6, 'learning_rate': 0.001027070527988235, 'random_strength': 23, 'od_wait': 1537, 'reg_lambda': 16.718679146451645, 'border_count': 262, 'min_child_samples': 1, 'leaf_estimation_iterations': 3}. Best is trial 42 with value: 0.8566612953926867.\u001b[0m\n",
      "\u001b[34m\u001b[1mwandb\u001b[0m: \u001b[33mWARNING\u001b[0m Step must only increase in log calls.  Step 53 < 54; dropping {'iterations': 10134, 'depth': 6, 'learning_rate': 0.001027070527988235, 'random_strength': 23, 'od_wait': 1537, 'reg_lambda': 16.718679146451645, 'border_count': 262, 'min_child_samples': 1, 'leaf_estimation_iterations': 3, 'value': 0.8565848024293554}.\n"
     ]
    },
    {
     "name": "stdout",
     "output_type": "stream",
     "text": [
      "ROC AUC Score of CatBoost = 0.8565848024293554\n"
     ]
    },
    {
     "name": "stderr",
     "output_type": "stream",
     "text": [
      "\u001b[32m[I 2021-10-21 16:54:44,373]\u001b[0m Trial 54 finished with value: 0.8566574064318407 and parameters: {'iterations': 6038, 'depth': 7, 'learning_rate': 0.0013470345540506903, 'random_strength': 28, 'od_wait': 1361, 'reg_lambda': 22.408157781766835, 'border_count': 248, 'min_child_samples': 3, 'leaf_estimation_iterations': 3}. Best is trial 42 with value: 0.8566612953926867.\u001b[0m\n",
      "\u001b[34m\u001b[1mwandb\u001b[0m: \u001b[33mWARNING\u001b[0m Step must only increase in log calls.  Step 54 < 55; dropping {'iterations': 6038, 'depth': 7, 'learning_rate': 0.0013470345540506903, 'random_strength': 28, 'od_wait': 1361, 'reg_lambda': 22.408157781766835, 'border_count': 248, 'min_child_samples': 3, 'leaf_estimation_iterations': 3, 'value': 0.8566574064318407}.\n"
     ]
    },
    {
     "name": "stdout",
     "output_type": "stream",
     "text": [
      "ROC AUC Score of CatBoost = 0.8566574064318407\n"
     ]
    },
    {
     "name": "stderr",
     "output_type": "stream",
     "text": [
      "\u001b[32m[I 2021-10-21 16:56:01,771]\u001b[0m Trial 55 finished with value: 0.8566385850793499 and parameters: {'iterations': 8903, 'depth': 6, 'learning_rate': 0.0013858996055000827, 'random_strength': 39, 'od_wait': 1196, 'reg_lambda': 2.0853030758789712, 'border_count': 275, 'min_child_samples': 3, 'leaf_estimation_iterations': 3}. Best is trial 42 with value: 0.8566612953926867.\u001b[0m\n",
      "\u001b[34m\u001b[1mwandb\u001b[0m: \u001b[33mWARNING\u001b[0m Step must only increase in log calls.  Step 55 < 56; dropping {'iterations': 8903, 'depth': 6, 'learning_rate': 0.0013858996055000827, 'random_strength': 39, 'od_wait': 1196, 'reg_lambda': 2.0853030758789712, 'border_count': 275, 'min_child_samples': 3, 'leaf_estimation_iterations': 3, 'value': 0.8566385850793499}.\n"
     ]
    },
    {
     "name": "stdout",
     "output_type": "stream",
     "text": [
      "ROC AUC Score of CatBoost = 0.8566385850793499\n"
     ]
    },
    {
     "name": "stderr",
     "output_type": "stream",
     "text": [
      "\u001b[32m[I 2021-10-21 16:57:11,419]\u001b[0m Trial 56 finished with value: 0.8566557863773225 and parameters: {'iterations': 7171, 'depth': 7, 'learning_rate': 0.0010339659684793967, 'random_strength': 17, 'od_wait': 1463, 'reg_lambda': 7.312669620524021, 'border_count': 134, 'min_child_samples': 2, 'leaf_estimation_iterations': 4}. Best is trial 42 with value: 0.8566612953926867.\u001b[0m\n",
      "\u001b[34m\u001b[1mwandb\u001b[0m: \u001b[33mWARNING\u001b[0m Step must only increase in log calls.  Step 56 < 57; dropping {'iterations': 7171, 'depth': 7, 'learning_rate': 0.0010339659684793967, 'random_strength': 17, 'od_wait': 1463, 'reg_lambda': 7.312669620524021, 'border_count': 134, 'min_child_samples': 2, 'leaf_estimation_iterations': 4, 'value': 0.8566557863773225}.\n"
     ]
    },
    {
     "name": "stdout",
     "output_type": "stream",
     "text": [
      "ROC AUC Score of CatBoost = 0.8566557863773225\n"
     ]
    },
    {
     "name": "stderr",
     "output_type": "stream",
     "text": [
      "\u001b[32m[I 2021-10-21 16:57:45,003]\u001b[0m Trial 57 finished with value: 0.8566497794605699 and parameters: {'iterations': 3887, 'depth': 6, 'learning_rate': 0.0016314916232553793, 'random_strength': 9, 'od_wait': 152, 'reg_lambda': 14.844785732989294, 'border_count': 229, 'min_child_samples': 4, 'leaf_estimation_iterations': 3}. Best is trial 42 with value: 0.8566612953926867.\u001b[0m\n",
      "\u001b[34m\u001b[1mwandb\u001b[0m: \u001b[33mWARNING\u001b[0m Step must only increase in log calls.  Step 57 < 58; dropping {'iterations': 3887, 'depth': 6, 'learning_rate': 0.0016314916232553793, 'random_strength': 9, 'od_wait': 152, 'reg_lambda': 14.844785732989294, 'border_count': 229, 'min_child_samples': 4, 'leaf_estimation_iterations': 3, 'value': 0.8566497794605699}.\n"
     ]
    },
    {
     "name": "stdout",
     "output_type": "stream",
     "text": [
      "ROC AUC Score of CatBoost = 0.8566497794605699\n"
     ]
    },
    {
     "name": "stderr",
     "output_type": "stream",
     "text": [
      "\u001b[32m[I 2021-10-21 16:59:37,482]\u001b[0m Trial 58 finished with value: 0.8566308407577519 and parameters: {'iterations': 12259, 'depth': 7, 'learning_rate': 0.002139807306382553, 'random_strength': 27, 'od_wait': 1566, 'reg_lambda': 25.507301309604294, 'border_count': 122, 'min_child_samples': 2, 'leaf_estimation_iterations': 3}. Best is trial 42 with value: 0.8566612953926867.\u001b[0m\n",
      "\u001b[34m\u001b[1mwandb\u001b[0m: \u001b[33mWARNING\u001b[0m Step must only increase in log calls.  Step 58 < 59; dropping {'iterations': 12259, 'depth': 7, 'learning_rate': 0.002139807306382553, 'random_strength': 27, 'od_wait': 1566, 'reg_lambda': 25.507301309604294, 'border_count': 122, 'min_child_samples': 2, 'leaf_estimation_iterations': 3, 'value': 0.8566308407577519}.\n"
     ]
    },
    {
     "name": "stdout",
     "output_type": "stream",
     "text": [
      "ROC AUC Score of CatBoost = 0.8566308407577519\n"
     ]
    },
    {
     "name": "stderr",
     "output_type": "stream",
     "text": [
      "\u001b[32m[I 2021-10-21 17:01:09,727]\u001b[0m Trial 59 finished with value: 0.8565908975463542 and parameters: {'iterations': 10405, 'depth': 6, 'learning_rate': 0.001292707127978302, 'random_strength': 43, 'od_wait': 1219, 'reg_lambda': 28.604789489421655, 'border_count': 267, 'min_child_samples': 6, 'leaf_estimation_iterations': 4}. Best is trial 42 with value: 0.8566612953926867.\u001b[0m\n",
      "\u001b[34m\u001b[1mwandb\u001b[0m: \u001b[33mWARNING\u001b[0m Step must only increase in log calls.  Step 59 < 60; dropping {'iterations': 10405, 'depth': 6, 'learning_rate': 0.001292707127978302, 'random_strength': 43, 'od_wait': 1219, 'reg_lambda': 28.604789489421655, 'border_count': 267, 'min_child_samples': 6, 'leaf_estimation_iterations': 4, 'value': 0.8565908975463542}.\n"
     ]
    },
    {
     "name": "stdout",
     "output_type": "stream",
     "text": [
      "ROC AUC Score of CatBoost = 0.8565908975463542\n"
     ]
    },
    {
     "name": "stderr",
     "output_type": "stream",
     "text": [
      "\u001b[32m[I 2021-10-21 17:02:42,831]\u001b[0m Trial 60 finished with value: 0.8552823327468978 and parameters: {'iterations': 8905, 'depth': 8, 'learning_rate': 0.023153490046554565, 'random_strength': 37, 'od_wait': 1318, 'reg_lambda': 9.170270690922795, 'border_count': 254, 'min_child_samples': 4, 'leaf_estimation_iterations': 3}. Best is trial 42 with value: 0.8566612953926867.\u001b[0m\n",
      "\u001b[34m\u001b[1mwandb\u001b[0m: \u001b[33mWARNING\u001b[0m Step must only increase in log calls.  Step 60 < 61; dropping {'iterations': 8905, 'depth': 8, 'learning_rate': 0.023153490046554565, 'random_strength': 37, 'od_wait': 1318, 'reg_lambda': 9.170270690922795, 'border_count': 254, 'min_child_samples': 4, 'leaf_estimation_iterations': 3, 'value': 0.8552823327468978}.\n"
     ]
    },
    {
     "name": "stdout",
     "output_type": "stream",
     "text": [
      "ROC AUC Score of CatBoost = 0.8552823327468978\n"
     ]
    },
    {
     "name": "stderr",
     "output_type": "stream",
     "text": [
      "\u001b[32m[I 2021-10-21 17:03:49,366]\u001b[0m Trial 61 finished with value: 0.856660935491683 and parameters: {'iterations': 7065, 'depth': 7, 'learning_rate': 0.0013076941398356054, 'random_strength': 25, 'od_wait': 1384, 'reg_lambda': 21.896926432624404, 'border_count': 245, 'min_child_samples': 2, 'leaf_estimation_iterations': 3}. Best is trial 42 with value: 0.8566612953926867.\u001b[0m\n",
      "\u001b[34m\u001b[1mwandb\u001b[0m: \u001b[33mWARNING\u001b[0m Step must only increase in log calls.  Step 61 < 62; dropping {'iterations': 7065, 'depth': 7, 'learning_rate': 0.0013076941398356054, 'random_strength': 25, 'od_wait': 1384, 'reg_lambda': 21.896926432624404, 'border_count': 245, 'min_child_samples': 2, 'leaf_estimation_iterations': 3, 'value': 0.856660935491683}.\n"
     ]
    },
    {
     "name": "stdout",
     "output_type": "stream",
     "text": [
      "ROC AUC Score of CatBoost = 0.856660935491683\n"
     ]
    },
    {
     "name": "stderr",
     "output_type": "stream",
     "text": [
      "\u001b[32m[I 2021-10-21 17:05:06,198]\u001b[0m Trial 62 finished with value: 0.8566579871834605 and parameters: {'iterations': 7252, 'depth': 8, 'learning_rate': 0.0017521714490630746, 'random_strength': 22, 'od_wait': 1486, 'reg_lambda': 21.447930097846044, 'border_count': 241, 'min_child_samples': 2, 'leaf_estimation_iterations': 3}. Best is trial 42 with value: 0.8566612953926867.\u001b[0m\n",
      "\u001b[34m\u001b[1mwandb\u001b[0m: \u001b[33mWARNING\u001b[0m Step must only increase in log calls.  Step 62 < 63; dropping {'iterations': 7252, 'depth': 8, 'learning_rate': 0.0017521714490630746, 'random_strength': 22, 'od_wait': 1486, 'reg_lambda': 21.447930097846044, 'border_count': 241, 'min_child_samples': 2, 'leaf_estimation_iterations': 3, 'value': 0.8566579871834605}.\n"
     ]
    },
    {
     "name": "stdout",
     "output_type": "stream",
     "text": [
      "ROC AUC Score of CatBoost = 0.8566579871834605\n"
     ]
    },
    {
     "name": "stderr",
     "output_type": "stream",
     "text": [
      "\u001b[32m[I 2021-10-21 17:06:18,657]\u001b[0m Trial 63 finished with value: 0.8566487673077471 and parameters: {'iterations': 6782, 'depth': 8, 'learning_rate': 0.001007652656139211, 'random_strength': 23, 'od_wait': 534, 'reg_lambda': 31.833283011299496, 'border_count': 214, 'min_child_samples': 2, 'leaf_estimation_iterations': 3}. Best is trial 42 with value: 0.8566612953926867.\u001b[0m\n",
      "\u001b[34m\u001b[1mwandb\u001b[0m: \u001b[33mWARNING\u001b[0m Step must only increase in log calls.  Step 63 < 64; dropping {'iterations': 6782, 'depth': 8, 'learning_rate': 0.001007652656139211, 'random_strength': 23, 'od_wait': 534, 'reg_lambda': 31.833283011299496, 'border_count': 214, 'min_child_samples': 2, 'leaf_estimation_iterations': 3, 'value': 0.8566487673077471}.\n"
     ]
    },
    {
     "name": "stdout",
     "output_type": "stream",
     "text": [
      "ROC AUC Score of CatBoost = 0.8566487673077471\n"
     ]
    },
    {
     "name": "stderr",
     "output_type": "stream",
     "text": [
      "\u001b[32m[I 2021-10-21 17:06:50,696]\u001b[0m Trial 64 finished with value: 0.8566606367908499 and parameters: {'iterations': 2556, 'depth': 9, 'learning_rate': 0.003600256361585779, 'random_strength': 9, 'od_wait': 801, 'reg_lambda': 20.077691467475496, 'border_count': 243, 'min_child_samples': 1, 'leaf_estimation_iterations': 3}. Best is trial 42 with value: 0.8566612953926867.\u001b[0m\n",
      "\u001b[34m\u001b[1mwandb\u001b[0m: \u001b[33mWARNING\u001b[0m Step must only increase in log calls.  Step 64 < 65; dropping {'iterations': 2556, 'depth': 9, 'learning_rate': 0.003600256361585779, 'random_strength': 9, 'od_wait': 801, 'reg_lambda': 20.077691467475496, 'border_count': 243, 'min_child_samples': 1, 'leaf_estimation_iterations': 3, 'value': 0.8566606367908499}.\n"
     ]
    },
    {
     "name": "stdout",
     "output_type": "stream",
     "text": [
      "ROC AUC Score of CatBoost = 0.8566606367908499\n"
     ]
    },
    {
     "name": "stderr",
     "output_type": "stream",
     "text": [
      "\u001b[32m[I 2021-10-21 17:07:40,357]\u001b[0m Trial 65 finished with value: 0.8566526174184848 and parameters: {'iterations': 3024, 'depth': 10, 'learning_rate': 0.0035229788753344386, 'random_strength': 9, 'od_wait': 713, 'reg_lambda': 15.197104592008532, 'border_count': 226, 'min_child_samples': 1, 'leaf_estimation_iterations': 4}. Best is trial 42 with value: 0.8566612953926867.\u001b[0m\n",
      "\u001b[34m\u001b[1mwandb\u001b[0m: \u001b[33mWARNING\u001b[0m Step must only increase in log calls.  Step 65 < 66; dropping {'iterations': 3024, 'depth': 10, 'learning_rate': 0.0035229788753344386, 'random_strength': 9, 'od_wait': 713, 'reg_lambda': 15.197104592008532, 'border_count': 226, 'min_child_samples': 1, 'leaf_estimation_iterations': 4, 'value': 0.8566526174184848}.\n"
     ]
    },
    {
     "name": "stdout",
     "output_type": "stream",
     "text": [
      "ROC AUC Score of CatBoost = 0.8566526174184848\n"
     ]
    },
    {
     "name": "stderr",
     "output_type": "stream",
     "text": [
      "\u001b[32m[I 2021-10-21 17:08:13,012]\u001b[0m Trial 66 finished with value: 0.8566803508958305 and parameters: {'iterations': 4272, 'depth': 5, 'learning_rate': 0.0022216135349845613, 'random_strength': 2, 'od_wait': 751, 'reg_lambda': 19.70745674441431, 'border_count': 244, 'min_child_samples': 4, 'leaf_estimation_iterations': 2}. Best is trial 66 with value: 0.8566803508958305.\u001b[0m\n",
      "\u001b[34m\u001b[1mwandb\u001b[0m: \u001b[33mWARNING\u001b[0m Step must only increase in log calls.  Step 66 < 67; dropping {'iterations': 4272, 'depth': 5, 'learning_rate': 0.0022216135349845613, 'random_strength': 2, 'od_wait': 751, 'reg_lambda': 19.70745674441431, 'border_count': 244, 'min_child_samples': 4, 'leaf_estimation_iterations': 2, 'value': 0.8566803508958305}.\n"
     ]
    },
    {
     "name": "stdout",
     "output_type": "stream",
     "text": [
      "ROC AUC Score of CatBoost = 0.8566803508958305\n"
     ]
    },
    {
     "name": "stderr",
     "output_type": "stream",
     "text": [
      "\u001b[32m[I 2021-10-21 17:08:42,568]\u001b[0m Trial 67 finished with value: 0.856641875638527 and parameters: {'iterations': 2132, 'depth': 9, 'learning_rate': 0.0023132711754235103, 'random_strength': 8, 'od_wait': 794, 'reg_lambda': 19.56907478023375, 'border_count': 179, 'min_child_samples': 4, 'leaf_estimation_iterations': 5}. Best is trial 66 with value: 0.8566803508958305.\u001b[0m\n",
      "\u001b[34m\u001b[1mwandb\u001b[0m: \u001b[33mWARNING\u001b[0m Step must only increase in log calls.  Step 67 < 68; dropping {'iterations': 2132, 'depth': 9, 'learning_rate': 0.0023132711754235103, 'random_strength': 8, 'od_wait': 794, 'reg_lambda': 19.56907478023375, 'border_count': 179, 'min_child_samples': 4, 'leaf_estimation_iterations': 5, 'value': 0.856641875638527}.\n"
     ]
    },
    {
     "name": "stdout",
     "output_type": "stream",
     "text": [
      "ROC AUC Score of CatBoost = 0.856641875638527\n"
     ]
    },
    {
     "name": "stderr",
     "output_type": "stream",
     "text": [
      "\u001b[32m[I 2021-10-21 17:09:15,408]\u001b[0m Trial 68 finished with value: 0.8566691775646693 and parameters: {'iterations': 4315, 'depth': 5, 'learning_rate': 0.003201851446231572, 'random_strength': 3, 'od_wait': 1027, 'reg_lambda': 26.884248551438525, 'border_count': 197, 'min_child_samples': 6, 'leaf_estimation_iterations': 2}. Best is trial 66 with value: 0.8566803508958305.\u001b[0m\n",
      "\u001b[34m\u001b[1mwandb\u001b[0m: \u001b[33mWARNING\u001b[0m Step must only increase in log calls.  Step 68 < 69; dropping {'iterations': 4315, 'depth': 5, 'learning_rate': 0.003201851446231572, 'random_strength': 3, 'od_wait': 1027, 'reg_lambda': 26.884248551438525, 'border_count': 197, 'min_child_samples': 6, 'leaf_estimation_iterations': 2, 'value': 0.8566691775646693}.\n"
     ]
    },
    {
     "name": "stdout",
     "output_type": "stream",
     "text": [
      "ROC AUC Score of CatBoost = 0.8566691775646693\n"
     ]
    },
    {
     "name": "stderr",
     "output_type": "stream",
     "text": [
      "\u001b[32m[I 2021-10-21 17:10:08,906]\u001b[0m Trial 69 finished with value: 0.8562431407764953 and parameters: {'iterations': 4562, 'depth': 9, 'learning_rate': 0.017956679813943617, 'random_strength': 3, 'od_wait': 912, 'reg_lambda': 38.45045649706553, 'border_count': 216, 'min_child_samples': 7, 'leaf_estimation_iterations': 2}. Best is trial 66 with value: 0.8566803508958305.\u001b[0m\n",
      "\u001b[34m\u001b[1mwandb\u001b[0m: \u001b[33mWARNING\u001b[0m Step must only increase in log calls.  Step 69 < 70; dropping {'iterations': 4562, 'depth': 9, 'learning_rate': 0.017956679813943617, 'random_strength': 3, 'od_wait': 912, 'reg_lambda': 38.45045649706553, 'border_count': 216, 'min_child_samples': 7, 'leaf_estimation_iterations': 2, 'value': 0.8562431407764953}.\n"
     ]
    },
    {
     "name": "stdout",
     "output_type": "stream",
     "text": [
      "ROC AUC Score of CatBoost = 0.8562431407764953\n"
     ]
    },
    {
     "name": "stderr",
     "output_type": "stream",
     "text": [
      "\u001b[32m[I 2021-10-21 17:10:34,598]\u001b[0m Trial 70 finished with value: 0.8566601465394826 and parameters: {'iterations': 3189, 'depth': 5, 'learning_rate': 0.0059980581874739215, 'random_strength': 2, 'od_wait': 814, 'reg_lambda': 26.443278913803198, 'border_count': 199, 'min_child_samples': 1, 'leaf_estimation_iterations': 4}. Best is trial 66 with value: 0.8566803508958305.\u001b[0m\n",
      "\u001b[34m\u001b[1mwandb\u001b[0m: \u001b[33mWARNING\u001b[0m Step must only increase in log calls.  Step 70 < 71; dropping {'iterations': 3189, 'depth': 5, 'learning_rate': 0.0059980581874739215, 'random_strength': 2, 'od_wait': 814, 'reg_lambda': 26.443278913803198, 'border_count': 199, 'min_child_samples': 1, 'leaf_estimation_iterations': 4, 'value': 0.8566601465394826}.\n"
     ]
    },
    {
     "name": "stdout",
     "output_type": "stream",
     "text": [
      "ROC AUC Score of CatBoost = 0.8566601465394826\n"
     ]
    },
    {
     "name": "stderr",
     "output_type": "stream",
     "text": [
      "\u001b[32m[I 2021-10-21 17:10:59,854]\u001b[0m Trial 71 finished with value: 0.8566759968336876 and parameters: {'iterations': 3147, 'depth': 5, 'learning_rate': 0.004848338921244153, 'random_strength': 1, 'od_wait': 996, 'reg_lambda': 26.67109938625794, 'border_count': 160, 'min_child_samples': 1, 'leaf_estimation_iterations': 4}. Best is trial 66 with value: 0.8566803508958305.\u001b[0m\n",
      "\u001b[34m\u001b[1mwandb\u001b[0m: \u001b[33mWARNING\u001b[0m Step must only increase in log calls.  Step 71 < 72; dropping {'iterations': 3147, 'depth': 5, 'learning_rate': 0.004848338921244153, 'random_strength': 1, 'od_wait': 996, 'reg_lambda': 26.67109938625794, 'border_count': 160, 'min_child_samples': 1, 'leaf_estimation_iterations': 4, 'value': 0.8566759968336876}.\n"
     ]
    },
    {
     "name": "stdout",
     "output_type": "stream",
     "text": [
      "ROC AUC Score of CatBoost = 0.8566759968336876\n"
     ]
    },
    {
     "name": "stderr",
     "output_type": "stream",
     "text": [
      "\u001b[32m[I 2021-10-21 17:11:26,818]\u001b[0m Trial 72 finished with value: 0.8566615501933974 and parameters: {'iterations': 3360, 'depth': 5, 'learning_rate': 0.006428214613218672, 'random_strength': 2, 'od_wait': 1032, 'reg_lambda': 26.282655392790147, 'border_count': 163, 'min_child_samples': 1, 'leaf_estimation_iterations': 4}. Best is trial 66 with value: 0.8566803508958305.\u001b[0m\n",
      "\u001b[34m\u001b[1mwandb\u001b[0m: \u001b[33mWARNING\u001b[0m Step must only increase in log calls.  Step 72 < 73; dropping {'iterations': 3360, 'depth': 5, 'learning_rate': 0.006428214613218672, 'random_strength': 2, 'od_wait': 1032, 'reg_lambda': 26.282655392790147, 'border_count': 163, 'min_child_samples': 1, 'leaf_estimation_iterations': 4, 'value': 0.8566615501933974}.\n"
     ]
    },
    {
     "name": "stdout",
     "output_type": "stream",
     "text": [
      "ROC AUC Score of CatBoost = 0.8566615501933974\n"
     ]
    },
    {
     "name": "stderr",
     "output_type": "stream",
     "text": [
      "\u001b[32m[I 2021-10-21 17:11:49,590]\u001b[0m Trial 73 finished with value: 0.8566633626984523 and parameters: {'iterations': 2826, 'depth': 5, 'learning_rate': 0.008082492338334388, 'random_strength': 1, 'od_wait': 1017, 'reg_lambda': 32.71487429328728, 'border_count': 146, 'min_child_samples': 1, 'leaf_estimation_iterations': 4}. Best is trial 66 with value: 0.8566803508958305.\u001b[0m\n",
      "\u001b[34m\u001b[1mwandb\u001b[0m: \u001b[33mWARNING\u001b[0m Step must only increase in log calls.  Step 73 < 74; dropping {'iterations': 2826, 'depth': 5, 'learning_rate': 0.008082492338334388, 'random_strength': 1, 'od_wait': 1017, 'reg_lambda': 32.71487429328728, 'border_count': 146, 'min_child_samples': 1, 'leaf_estimation_iterations': 4, 'value': 0.8566633626984523}.\n"
     ]
    },
    {
     "name": "stdout",
     "output_type": "stream",
     "text": [
      "ROC AUC Score of CatBoost = 0.8566633626984523\n"
     ]
    },
    {
     "name": "stderr",
     "output_type": "stream",
     "text": [
      "\u001b[32m[I 2021-10-21 17:12:14,688]\u001b[0m Trial 74 finished with value: 0.8566557644272614 and parameters: {'iterations': 3125, 'depth': 5, 'learning_rate': 0.007712076328399289, 'random_strength': 5, 'od_wait': 996, 'reg_lambda': 33.73189352384673, 'border_count': 147, 'min_child_samples': 1, 'leaf_estimation_iterations': 4}. Best is trial 66 with value: 0.8566803508958305.\u001b[0m\n",
      "\u001b[34m\u001b[1mwandb\u001b[0m: \u001b[33mWARNING\u001b[0m Step must only increase in log calls.  Step 74 < 75; dropping {'iterations': 3125, 'depth': 5, 'learning_rate': 0.007712076328399289, 'random_strength': 5, 'od_wait': 996, 'reg_lambda': 33.73189352384673, 'border_count': 147, 'min_child_samples': 1, 'leaf_estimation_iterations': 4, 'value': 0.8566557644272614}.\n"
     ]
    },
    {
     "name": "stdout",
     "output_type": "stream",
     "text": [
      "ROC AUC Score of CatBoost = 0.8566557644272614\n"
     ]
    },
    {
     "name": "stderr",
     "output_type": "stream",
     "text": [
      "\u001b[32m[I 2021-10-21 17:12:51,818]\u001b[0m Trial 75 finished with value: 0.8566532450202351 and parameters: {'iterations': 4642, 'depth': 5, 'learning_rate': 0.004971426982602406, 'random_strength': 12, 'od_wait': 1061, 'reg_lambda': 23.623417087930754, 'border_count': 144, 'min_child_samples': 3, 'leaf_estimation_iterations': 4}. Best is trial 66 with value: 0.8566803508958305.\u001b[0m\n",
      "\u001b[34m\u001b[1mwandb\u001b[0m: \u001b[33mWARNING\u001b[0m Step must only increase in log calls.  Step 75 < 76; dropping {'iterations': 4642, 'depth': 5, 'learning_rate': 0.004971426982602406, 'random_strength': 12, 'od_wait': 1061, 'reg_lambda': 23.623417087930754, 'border_count': 144, 'min_child_samples': 3, 'leaf_estimation_iterations': 4, 'value': 0.8566532450202351}.\n"
     ]
    },
    {
     "name": "stdout",
     "output_type": "stream",
     "text": [
      "ROC AUC Score of CatBoost = 0.8566532450202351\n"
     ]
    },
    {
     "name": "stderr",
     "output_type": "stream",
     "text": [
      "\u001b[32m[I 2021-10-21 17:13:52,595]\u001b[0m Trial 76 finished with value: 0.8564205388712408 and parameters: {'iterations': 3751, 'depth': 10, 'learning_rate': 0.011066905551041659, 'random_strength': 5, 'od_wait': 832, 'reg_lambda': 26.909822496195446, 'border_count': 163, 'min_child_samples': 1, 'leaf_estimation_iterations': 4}. Best is trial 66 with value: 0.8566803508958305.\u001b[0m\n",
      "\u001b[34m\u001b[1mwandb\u001b[0m: \u001b[33mWARNING\u001b[0m Step must only increase in log calls.  Step 76 < 77; dropping {'iterations': 3751, 'depth': 10, 'learning_rate': 0.011066905551041659, 'random_strength': 5, 'od_wait': 832, 'reg_lambda': 26.909822496195446, 'border_count': 163, 'min_child_samples': 1, 'leaf_estimation_iterations': 4, 'value': 0.8564205388712408}.\n"
     ]
    },
    {
     "name": "stdout",
     "output_type": "stream",
     "text": [
      "ROC AUC Score of CatBoost = 0.8564205388712408\n"
     ]
    },
    {
     "name": "stderr",
     "output_type": "stream",
     "text": [
      "\u001b[32m[I 2021-10-21 17:14:37,951]\u001b[0m Trial 77 finished with value: 0.8566748225304126 and parameters: {'iterations': 5624, 'depth': 5, 'learning_rate': 0.0036244247533116208, 'random_strength': 0, 'od_wait': 743, 'reg_lambda': 32.395137714828955, 'border_count': 164, 'min_child_samples': 4, 'leaf_estimation_iterations': 5}. Best is trial 66 with value: 0.8566803508958305.\u001b[0m\n",
      "\u001b[34m\u001b[1mwandb\u001b[0m: \u001b[33mWARNING\u001b[0m Step must only increase in log calls.  Step 77 < 78; dropping {'iterations': 5624, 'depth': 5, 'learning_rate': 0.0036244247533116208, 'random_strength': 0, 'od_wait': 743, 'reg_lambda': 32.395137714828955, 'border_count': 164, 'min_child_samples': 4, 'leaf_estimation_iterations': 5, 'value': 0.8566748225304126}.\n"
     ]
    },
    {
     "name": "stdout",
     "output_type": "stream",
     "text": [
      "ROC AUC Score of CatBoost = 0.8566748225304126\n"
     ]
    },
    {
     "name": "stderr",
     "output_type": "stream",
     "text": [
      "\u001b[32m[I 2021-10-21 17:15:22,528]\u001b[0m Trial 78 finished with value: 0.8566392511812075 and parameters: {'iterations': 5438, 'depth': 5, 'learning_rate': 0.006563991728456015, 'random_strength': 1, 'od_wait': 550, 'reg_lambda': 37.822457676598376, 'border_count': 164, 'min_child_samples': 6, 'leaf_estimation_iterations': 5}. Best is trial 66 with value: 0.8566803508958305.\u001b[0m\n",
      "\u001b[34m\u001b[1mwandb\u001b[0m: \u001b[33mWARNING\u001b[0m Step must only increase in log calls.  Step 78 < 79; dropping {'iterations': 5438, 'depth': 5, 'learning_rate': 0.006563991728456015, 'random_strength': 1, 'od_wait': 550, 'reg_lambda': 37.822457676598376, 'border_count': 164, 'min_child_samples': 6, 'leaf_estimation_iterations': 5, 'value': 0.8566392511812075}.\n"
     ]
    },
    {
     "name": "stdout",
     "output_type": "stream",
     "text": [
      "ROC AUC Score of CatBoost = 0.8566392511812075\n"
     ]
    },
    {
     "name": "stderr",
     "output_type": "stream",
     "text": [
      "\u001b[32m[I 2021-10-21 17:15:56,369]\u001b[0m Trial 79 finished with value: 0.8566527583188777 and parameters: {'iterations': 4107, 'depth': 5, 'learning_rate': 0.004162399053074028, 'random_strength': 12, 'od_wait': 981, 'reg_lambda': 31.661935576210794, 'border_count': 189, 'min_child_samples': 4, 'leaf_estimation_iterations': 5}. Best is trial 66 with value: 0.8566803508958305.\u001b[0m\n",
      "\u001b[34m\u001b[1mwandb\u001b[0m: \u001b[33mWARNING\u001b[0m Step must only increase in log calls.  Step 79 < 80; dropping {'iterations': 4107, 'depth': 5, 'learning_rate': 0.004162399053074028, 'random_strength': 12, 'od_wait': 981, 'reg_lambda': 31.661935576210794, 'border_count': 189, 'min_child_samples': 4, 'leaf_estimation_iterations': 5, 'value': 0.8566527583188777}.\n"
     ]
    },
    {
     "name": "stdout",
     "output_type": "stream",
     "text": [
      "ROC AUC Score of CatBoost = 0.8566527583188777\n"
     ]
    },
    {
     "name": "stderr",
     "output_type": "stream",
     "text": [
      "\u001b[32m[I 2021-10-21 17:16:44,679]\u001b[0m Trial 80 finished with value: 0.8565733288473569 and parameters: {'iterations': 6001, 'depth': 5, 'learning_rate': 0.009714541987325338, 'random_strength': 0, 'od_wait': 1040, 'reg_lambda': 28.299550213535557, 'border_count': 172, 'min_child_samples': 6, 'leaf_estimation_iterations': 5}. Best is trial 66 with value: 0.8566803508958305.\u001b[0m\n",
      "\u001b[34m\u001b[1mwandb\u001b[0m: \u001b[33mWARNING\u001b[0m Step must only increase in log calls.  Step 80 < 81; dropping {'iterations': 6001, 'depth': 5, 'learning_rate': 0.009714541987325338, 'random_strength': 0, 'od_wait': 1040, 'reg_lambda': 28.299550213535557, 'border_count': 172, 'min_child_samples': 6, 'leaf_estimation_iterations': 5, 'value': 0.8565733288473569}.\n"
     ]
    },
    {
     "name": "stdout",
     "output_type": "stream",
     "text": [
      "ROC AUC Score of CatBoost = 0.8565733288473569\n"
     ]
    },
    {
     "name": "stderr",
     "output_type": "stream",
     "text": [
      "\u001b[32m[I 2021-10-21 17:17:03,464]\u001b[0m Trial 81 finished with value: 0.8566464866513867 and parameters: {'iterations': 2299, 'depth': 5, 'learning_rate': 0.0034013492138576535, 'random_strength': 6, 'od_wait': 746, 'reg_lambda': 33.601553722120336, 'border_count': 122, 'min_child_samples': 3, 'leaf_estimation_iterations': 5}. Best is trial 66 with value: 0.8566803508958305.\u001b[0m\n",
      "\u001b[34m\u001b[1mwandb\u001b[0m: \u001b[33mWARNING\u001b[0m Step must only increase in log calls.  Step 81 < 82; dropping {'iterations': 2299, 'depth': 5, 'learning_rate': 0.0034013492138576535, 'random_strength': 6, 'od_wait': 746, 'reg_lambda': 33.601553722120336, 'border_count': 122, 'min_child_samples': 3, 'leaf_estimation_iterations': 5, 'value': 0.8566464866513867}.\n"
     ]
    },
    {
     "name": "stdout",
     "output_type": "stream",
     "text": [
      "ROC AUC Score of CatBoost = 0.8566464866513867\n"
     ]
    },
    {
     "name": "stderr",
     "output_type": "stream",
     "text": [
      "\u001b[32m[I 2021-10-21 17:17:38,480]\u001b[0m Trial 82 finished with value: 0.8566516191157005 and parameters: {'iterations': 2671, 'depth': 9, 'learning_rate': 0.0027975875293359815, 'random_strength': 15, 'od_wait': 642, 'reg_lambda': 23.79308662762515, 'border_count': 154, 'min_child_samples': 1, 'leaf_estimation_iterations': 4}. Best is trial 66 with value: 0.8566803508958305.\u001b[0m\n",
      "\u001b[34m\u001b[1mwandb\u001b[0m: \u001b[33mWARNING\u001b[0m Step must only increase in log calls.  Step 82 < 83; dropping {'iterations': 2671, 'depth': 9, 'learning_rate': 0.0027975875293359815, 'random_strength': 15, 'od_wait': 642, 'reg_lambda': 23.79308662762515, 'border_count': 154, 'min_child_samples': 1, 'leaf_estimation_iterations': 4, 'value': 0.8566516191157005}.\n"
     ]
    },
    {
     "name": "stdout",
     "output_type": "stream",
     "text": [
      "ROC AUC Score of CatBoost = 0.8566516191157005\n"
     ]
    },
    {
     "name": "stderr",
     "output_type": "stream",
     "text": [
      "\u001b[32m[I 2021-10-21 17:18:18,681]\u001b[0m Trial 83 finished with value: 0.856655313926005 and parameters: {'iterations': 5033, 'depth': 5, 'learning_rate': 0.004212849638958401, 'random_strength': 4, 'od_wait': 865, 'reg_lambda': 41.11622449282312, 'border_count': 169, 'min_child_samples': 2, 'leaf_estimation_iterations': 4}. Best is trial 66 with value: 0.8566803508958305.\u001b[0m\n",
      "\u001b[34m\u001b[1mwandb\u001b[0m: \u001b[33mWARNING\u001b[0m Step must only increase in log calls.  Step 83 < 84; dropping {'iterations': 5033, 'depth': 5, 'learning_rate': 0.004212849638958401, 'random_strength': 4, 'od_wait': 865, 'reg_lambda': 41.11622449282312, 'border_count': 169, 'min_child_samples': 2, 'leaf_estimation_iterations': 4, 'value': 0.856655313926005}.\n"
     ]
    },
    {
     "name": "stdout",
     "output_type": "stream",
     "text": [
      "ROC AUC Score of CatBoost = 0.856655313926005\n"
     ]
    },
    {
     "name": "stderr",
     "output_type": "stream",
     "text": [
      "\u001b[32m[I 2021-10-21 17:18:48,491]\u001b[0m Trial 84 finished with value: 0.8566542445730227 and parameters: {'iterations': 3716, 'depth': 5, 'learning_rate': 0.005052366230542597, 'random_strength': 11, 'od_wait': 942, 'reg_lambda': 25.32431344851939, 'border_count': 181, 'min_child_samples': 5, 'leaf_estimation_iterations': 4}. Best is trial 66 with value: 0.8566803508958305.\u001b[0m\n",
      "\u001b[34m\u001b[1mwandb\u001b[0m: \u001b[33mWARNING\u001b[0m Step must only increase in log calls.  Step 84 < 85; dropping {'iterations': 3716, 'depth': 5, 'learning_rate': 0.005052366230542597, 'random_strength': 11, 'od_wait': 942, 'reg_lambda': 25.32431344851939, 'border_count': 181, 'min_child_samples': 5, 'leaf_estimation_iterations': 4, 'value': 0.8566542445730227}.\n"
     ]
    },
    {
     "name": "stdout",
     "output_type": "stream",
     "text": [
      "ROC AUC Score of CatBoost = 0.8566542445730227\n"
     ]
    },
    {
     "name": "stderr",
     "output_type": "stream",
     "text": [
      "\u001b[32m[I 2021-10-21 17:19:37,239]\u001b[0m Trial 85 finished with value: 0.8566149756135054 and parameters: {'iterations': 6455, 'depth': 5, 'learning_rate': 0.007301639256658639, 'random_strength': 7, 'od_wait': 1094, 'reg_lambda': 22.646040291721086, 'border_count': 143, 'min_child_samples': 3, 'leaf_estimation_iterations': 2}. Best is trial 66 with value: 0.8566803508958305.\u001b[0m\n",
      "\u001b[34m\u001b[1mwandb\u001b[0m: \u001b[33mWARNING\u001b[0m Step must only increase in log calls.  Step 85 < 86; dropping {'iterations': 6455, 'depth': 5, 'learning_rate': 0.007301639256658639, 'random_strength': 7, 'od_wait': 1094, 'reg_lambda': 22.646040291721086, 'border_count': 143, 'min_child_samples': 3, 'leaf_estimation_iterations': 2, 'value': 0.8566149756135054}.\n"
     ]
    },
    {
     "name": "stdout",
     "output_type": "stream",
     "text": [
      "ROC AUC Score of CatBoost = 0.8566149756135054\n"
     ]
    },
    {
     "name": "stderr",
     "output_type": "stream",
     "text": [
      "\u001b[32m[I 2021-10-21 17:19:55,306]\u001b[0m Trial 86 finished with value: 0.856663467298744 and parameters: {'iterations': 2039, 'depth': 6, 'learning_rate': 0.0033030869595056553, 'random_strength': 2, 'od_wait': 750, 'reg_lambda': 20.54020884084476, 'border_count': 157, 'min_child_samples': 8, 'leaf_estimation_iterations': 4}. Best is trial 66 with value: 0.8566803508958305.\u001b[0m\n",
      "\u001b[34m\u001b[1mwandb\u001b[0m: \u001b[33mWARNING\u001b[0m Step must only increase in log calls.  Step 86 < 87; dropping {'iterations': 2039, 'depth': 6, 'learning_rate': 0.0033030869595056553, 'random_strength': 2, 'od_wait': 750, 'reg_lambda': 20.54020884084476, 'border_count': 157, 'min_child_samples': 8, 'leaf_estimation_iterations': 4, 'value': 0.856663467298744}.\n"
     ]
    },
    {
     "name": "stdout",
     "output_type": "stream",
     "text": [
      "ROC AUC Score of CatBoost = 0.856663467298744\n"
     ]
    },
    {
     "name": "stderr",
     "output_type": "stream",
     "text": [
      "\u001b[32m[I 2021-10-21 17:20:33,555]\u001b[0m Trial 87 finished with value: 0.8566671451590012 and parameters: {'iterations': 4380, 'depth': 6, 'learning_rate': 0.0025467690064248484, 'random_strength': 2, 'od_wait': 436, 'reg_lambda': 31.17827756266539, 'border_count': 150, 'min_child_samples': 8, 'leaf_estimation_iterations': 4}. Best is trial 66 with value: 0.8566803508958305.\u001b[0m\n",
      "\u001b[34m\u001b[1mwandb\u001b[0m: \u001b[33mWARNING\u001b[0m Step must only increase in log calls.  Step 87 < 88; dropping {'iterations': 4380, 'depth': 6, 'learning_rate': 0.0025467690064248484, 'random_strength': 2, 'od_wait': 436, 'reg_lambda': 31.17827756266539, 'border_count': 150, 'min_child_samples': 8, 'leaf_estimation_iterations': 4, 'value': 0.8566671451590012}.\n"
     ]
    },
    {
     "name": "stdout",
     "output_type": "stream",
     "text": [
      "ROC AUC Score of CatBoost = 0.8566671451590012\n"
     ]
    },
    {
     "name": "stderr",
     "output_type": "stream",
     "text": [
      "\u001b[32m[I 2021-10-21 17:20:51,043]\u001b[0m Trial 88 finished with value: 0.8567014488546707 and parameters: {'iterations': 2000, 'depth': 6, 'learning_rate': 0.002984126581340097, 'random_strength': 0, 'od_wait': 334, 'reg_lambda': 33.469738674488084, 'border_count': 158, 'min_child_samples': 8, 'leaf_estimation_iterations': 4}. Best is trial 88 with value: 0.8567014488546707.\u001b[0m\n",
      "\u001b[34m\u001b[1mwandb\u001b[0m: \u001b[33mWARNING\u001b[0m Step must only increase in log calls.  Step 88 < 89; dropping {'iterations': 2000, 'depth': 6, 'learning_rate': 0.002984126581340097, 'random_strength': 0, 'od_wait': 334, 'reg_lambda': 33.469738674488084, 'border_count': 158, 'min_child_samples': 8, 'leaf_estimation_iterations': 4, 'value': 0.8567014488546707}.\n"
     ]
    },
    {
     "name": "stdout",
     "output_type": "stream",
     "text": [
      "ROC AUC Score of CatBoost = 0.8567014488546707\n"
     ]
    },
    {
     "name": "stderr",
     "output_type": "stream",
     "text": [
      "\u001b[32m[I 2021-10-21 17:21:31,029]\u001b[0m Trial 89 finished with value: 0.85668491160855 and parameters: {'iterations': 4663, 'depth': 6, 'learning_rate': 0.003018567759362505, 'random_strength': 0, 'od_wait': 306, 'reg_lambda': 31.368563997902374, 'border_count': 152, 'min_child_samples': 8, 'leaf_estimation_iterations': 4}. Best is trial 88 with value: 0.8567014488546707.\u001b[0m\n",
      "\u001b[34m\u001b[1mwandb\u001b[0m: \u001b[33mWARNING\u001b[0m Step must only increase in log calls.  Step 89 < 90; dropping {'iterations': 4663, 'depth': 6, 'learning_rate': 0.003018567759362505, 'random_strength': 0, 'od_wait': 306, 'reg_lambda': 31.368563997902374, 'border_count': 152, 'min_child_samples': 8, 'leaf_estimation_iterations': 4, 'value': 0.85668491160855}.\n"
     ]
    },
    {
     "name": "stdout",
     "output_type": "stream",
     "text": [
      "ROC AUC Score of CatBoost = 0.85668491160855\n"
     ]
    },
    {
     "name": "stderr",
     "output_type": "stream",
     "text": [
      "\u001b[32m[I 2021-10-21 17:22:08,694]\u001b[0m Trial 90 finished with value: 0.8566858840112619 and parameters: {'iterations': 4352, 'depth': 6, 'learning_rate': 0.0030945625789158024, 'random_strength': 0, 'od_wait': 294, 'reg_lambda': 34.94790753518347, 'border_count': 150, 'min_child_samples': 8, 'leaf_estimation_iterations': 4}. Best is trial 88 with value: 0.8567014488546707.\u001b[0m\n",
      "\u001b[34m\u001b[1mwandb\u001b[0m: \u001b[33mWARNING\u001b[0m Step must only increase in log calls.  Step 90 < 91; dropping {'iterations': 4352, 'depth': 6, 'learning_rate': 0.0030945625789158024, 'random_strength': 0, 'od_wait': 294, 'reg_lambda': 34.94790753518347, 'border_count': 150, 'min_child_samples': 8, 'leaf_estimation_iterations': 4, 'value': 0.8566858840112619}.\n"
     ]
    },
    {
     "name": "stdout",
     "output_type": "stream",
     "text": [
      "ROC AUC Score of CatBoost = 0.8566858840112619\n"
     ]
    },
    {
     "name": "stderr",
     "output_type": "stream",
     "text": [
      "\u001b[32m[I 2021-10-21 17:22:46,266]\u001b[0m Trial 91 finished with value: 0.856688255217875 and parameters: {'iterations': 4364, 'depth': 6, 'learning_rate': 0.0029554744965187324, 'random_strength': 0, 'od_wait': 275, 'reg_lambda': 34.467571813329414, 'border_count': 150, 'min_child_samples': 8, 'leaf_estimation_iterations': 4}. Best is trial 88 with value: 0.8567014488546707.\u001b[0m\n",
      "\u001b[34m\u001b[1mwandb\u001b[0m: \u001b[33mWARNING\u001b[0m Step must only increase in log calls.  Step 91 < 92; dropping {'iterations': 4364, 'depth': 6, 'learning_rate': 0.0029554744965187324, 'random_strength': 0, 'od_wait': 275, 'reg_lambda': 34.467571813329414, 'border_count': 150, 'min_child_samples': 8, 'leaf_estimation_iterations': 4, 'value': 0.856688255217875}.\n"
     ]
    },
    {
     "name": "stdout",
     "output_type": "stream",
     "text": [
      "ROC AUC Score of CatBoost = 0.856688255217875\n"
     ]
    },
    {
     "name": "stderr",
     "output_type": "stream",
     "text": [
      "\u001b[32m[I 2021-10-21 17:23:28,551]\u001b[0m Trial 92 finished with value: 0.8566590646364654 and parameters: {'iterations': 4850, 'depth': 6, 'learning_rate': 0.0031101379995707584, 'random_strength': 4, 'od_wait': 299, 'reg_lambda': 36.69329719491255, 'border_count': 154, 'min_child_samples': 8, 'leaf_estimation_iterations': 4}. Best is trial 88 with value: 0.8567014488546707.\u001b[0m\n",
      "\u001b[34m\u001b[1mwandb\u001b[0m: \u001b[33mWARNING\u001b[0m Step must only increase in log calls.  Step 92 < 93; dropping {'iterations': 4850, 'depth': 6, 'learning_rate': 0.0031101379995707584, 'random_strength': 4, 'od_wait': 299, 'reg_lambda': 36.69329719491255, 'border_count': 154, 'min_child_samples': 8, 'leaf_estimation_iterations': 4, 'value': 0.8566590646364654}.\n"
     ]
    },
    {
     "name": "stdout",
     "output_type": "stream",
     "text": [
      "ROC AUC Score of CatBoost = 0.8566590646364654\n"
     ]
    },
    {
     "name": "stderr",
     "output_type": "stream",
     "text": [
      "\u001b[32m[I 2021-10-21 17:23:46,335]\u001b[0m Trial 93 finished with value: 0.8567001278509866 and parameters: {'iterations': 2026, 'depth': 6, 'learning_rate': 0.0024811477104864955, 'random_strength': 0, 'od_wait': 429, 'reg_lambda': 41.86339450321174, 'border_count': 158, 'min_child_samples': 9, 'leaf_estimation_iterations': 4}. Best is trial 88 with value: 0.8567014488546707.\u001b[0m\n",
      "\u001b[34m\u001b[1mwandb\u001b[0m: \u001b[33mWARNING\u001b[0m Step must only increase in log calls.  Step 93 < 94; dropping {'iterations': 2026, 'depth': 6, 'learning_rate': 0.0024811477104864955, 'random_strength': 0, 'od_wait': 429, 'reg_lambda': 41.86339450321174, 'border_count': 158, 'min_child_samples': 9, 'leaf_estimation_iterations': 4, 'value': 0.8567001278509866}.\n"
     ]
    },
    {
     "name": "stdout",
     "output_type": "stream",
     "text": [
      "ROC AUC Score of CatBoost = 0.8567001278509866\n"
     ]
    },
    {
     "name": "stderr",
     "output_type": "stream",
     "text": [
      "\u001b[32m[I 2021-10-21 17:24:21,559]\u001b[0m Trial 94 finished with value: 0.8566591283366429 and parameters: {'iterations': 4020, 'depth': 6, 'learning_rate': 0.002532384503431911, 'random_strength': 6, 'od_wait': 415, 'reg_lambda': 42.27113903972913, 'border_count': 138, 'min_child_samples': 9, 'leaf_estimation_iterations': 4}. Best is trial 88 with value: 0.8567014488546707.\u001b[0m\n",
      "\u001b[34m\u001b[1mwandb\u001b[0m: \u001b[33mWARNING\u001b[0m Step must only increase in log calls.  Step 94 < 95; dropping {'iterations': 4020, 'depth': 6, 'learning_rate': 0.002532384503431911, 'random_strength': 6, 'od_wait': 415, 'reg_lambda': 42.27113903972913, 'border_count': 138, 'min_child_samples': 9, 'leaf_estimation_iterations': 4, 'value': 0.8566591283366429}.\n"
     ]
    },
    {
     "name": "stdout",
     "output_type": "stream",
     "text": [
      "ROC AUC Score of CatBoost = 0.8566591283366429\n"
     ]
    },
    {
     "name": "stderr",
     "output_type": "stream",
     "text": [
      "\u001b[32m[I 2021-10-21 17:24:59,891]\u001b[0m Trial 95 finished with value: 0.8566939147836589 and parameters: {'iterations': 4438, 'depth': 6, 'learning_rate': 0.0022744432057085996, 'random_strength': 0, 'od_wait': 216, 'reg_lambda': 35.656598225031, 'border_count': 129, 'min_child_samples': 7, 'leaf_estimation_iterations': 4}. Best is trial 88 with value: 0.8567014488546707.\u001b[0m\n",
      "\u001b[34m\u001b[1mwandb\u001b[0m: \u001b[33mWARNING\u001b[0m Step must only increase in log calls.  Step 95 < 96; dropping {'iterations': 4438, 'depth': 6, 'learning_rate': 0.0022744432057085996, 'random_strength': 0, 'od_wait': 216, 'reg_lambda': 35.656598225031, 'border_count': 129, 'min_child_samples': 7, 'leaf_estimation_iterations': 4, 'value': 0.8566939147836589}.\n"
     ]
    },
    {
     "name": "stdout",
     "output_type": "stream",
     "text": [
      "ROC AUC Score of CatBoost = 0.8566939147836589\n"
     ]
    },
    {
     "name": "stderr",
     "output_type": "stream",
     "text": [
      "\u001b[32m[I 2021-10-21 17:25:45,936]\u001b[0m Trial 96 finished with value: 0.8566923731293594 and parameters: {'iterations': 5457, 'depth': 6, 'learning_rate': 0.002187934882375293, 'random_strength': 0, 'od_wait': 213, 'reg_lambda': 43.828819000263124, 'border_count': 106, 'min_child_samples': 7, 'leaf_estimation_iterations': 4}. Best is trial 88 with value: 0.8567014488546707.\u001b[0m\n",
      "\u001b[34m\u001b[1mwandb\u001b[0m: \u001b[33mWARNING\u001b[0m Step must only increase in log calls.  Step 96 < 97; dropping {'iterations': 5457, 'depth': 6, 'learning_rate': 0.002187934882375293, 'random_strength': 0, 'od_wait': 213, 'reg_lambda': 43.828819000263124, 'border_count': 106, 'min_child_samples': 7, 'leaf_estimation_iterations': 4, 'value': 0.8566923731293594}.\n"
     ]
    },
    {
     "name": "stdout",
     "output_type": "stream",
     "text": [
      "ROC AUC Score of CatBoost = 0.8566923731293594\n"
     ]
    },
    {
     "name": "stderr",
     "output_type": "stream",
     "text": [
      "\u001b[32m[I 2021-10-21 17:26:35,360]\u001b[0m Trial 97 finished with value: 0.8566811885481668 and parameters: {'iterations': 5276, 'depth': 7, 'learning_rate': 0.0021513149217416475, 'random_strength': 0, 'od_wait': 211, 'reg_lambda': 49.2197187890695, 'border_count': 101, 'min_child_samples': 7, 'leaf_estimation_iterations': 4}. Best is trial 88 with value: 0.8567014488546707.\u001b[0m\n",
      "\u001b[34m\u001b[1mwandb\u001b[0m: \u001b[33mWARNING\u001b[0m Step must only increase in log calls.  Step 97 < 98; dropping {'iterations': 5276, 'depth': 7, 'learning_rate': 0.0021513149217416475, 'random_strength': 0, 'od_wait': 211, 'reg_lambda': 49.2197187890695, 'border_count': 101, 'min_child_samples': 7, 'leaf_estimation_iterations': 4, 'value': 0.8566811885481668}.\n"
     ]
    },
    {
     "name": "stdout",
     "output_type": "stream",
     "text": [
      "ROC AUC Score of CatBoost = 0.8566811885481668\n"
     ]
    },
    {
     "name": "stderr",
     "output_type": "stream",
     "text": [
      "\u001b[32m[I 2021-10-21 17:27:24,242]\u001b[0m Trial 98 finished with value: 0.8566895874215903 and parameters: {'iterations': 5230, 'depth': 7, 'learning_rate': 0.0020058986656578833, 'random_strength': 0, 'od_wait': 183, 'reg_lambda': 44.258478769990646, 'border_count': 107, 'min_child_samples': 7, 'leaf_estimation_iterations': 4}. Best is trial 88 with value: 0.8567014488546707.\u001b[0m\n",
      "\u001b[34m\u001b[1mwandb\u001b[0m: \u001b[33mWARNING\u001b[0m Step must only increase in log calls.  Step 98 < 99; dropping {'iterations': 5230, 'depth': 7, 'learning_rate': 0.0020058986656578833, 'random_strength': 0, 'od_wait': 183, 'reg_lambda': 44.258478769990646, 'border_count': 107, 'min_child_samples': 7, 'leaf_estimation_iterations': 4, 'value': 0.8566895874215903}.\n"
     ]
    },
    {
     "name": "stdout",
     "output_type": "stream",
     "text": [
      "ROC AUC Score of CatBoost = 0.8566895874215903\n"
     ]
    },
    {
     "name": "stderr",
     "output_type": "stream",
     "text": [
      "\u001b[32m[I 2021-10-21 17:28:39,373]\u001b[0m Trial 99 finished with value: 0.8566584256346833 and parameters: {'iterations': 7963, 'depth': 7, 'learning_rate': 0.001908760024016461, 'random_strength': 11, 'od_wait': 208, 'reg_lambda': 45.519971812430654, 'border_count': 101, 'min_child_samples': 7, 'leaf_estimation_iterations': 4}. Best is trial 88 with value: 0.8567014488546707.\u001b[0m\n",
      "\u001b[34m\u001b[1mwandb\u001b[0m: \u001b[33mWARNING\u001b[0m Step must only increase in log calls.  Step 99 < 100; dropping {'iterations': 7963, 'depth': 7, 'learning_rate': 0.001908760024016461, 'random_strength': 11, 'od_wait': 208, 'reg_lambda': 45.519971812430654, 'border_count': 101, 'min_child_samples': 7, 'leaf_estimation_iterations': 4, 'value': 0.8566584256346833}.\n"
     ]
    },
    {
     "name": "stdout",
     "output_type": "stream",
     "text": [
      "ROC AUC Score of CatBoost = 0.8566584256346833\n"
     ]
    }
   ],
   "source": [
    "for x in range(100):\n",
    "    study.optimize(objective, n_trials = 1, callbacks = [wandbc]) #n_jobs = multiprocessing.cpu_count())\n",
    "    dump(study, filename=datapath/f'optuna_catboost_study_lv2_X_orig+KMeans8+synth_thru_trial{x}_20211021.joblib')"
   ]
  },
  {
   "cell_type": "code",
   "execution_count": 18,
   "id": "27a746ff-c0e1-4218-8809-f102a58d2491",
   "metadata": {
    "id": "27a746ff-c0e1-4218-8809-f102a58d2491"
   },
   "outputs": [],
   "source": [
    "# dump(study.best_trial.params, filename=datapath/'optuna_catboost_best_20211001.joblib')\n",
    "# pickle.dump(study.best_trial.params, open('CatBoost_Hyperparameter.pickle', 'wb'))\n",
    "# print('CatBoost Hyperparameter:', study.best_trial.params)"
   ]
  },
  {
   "cell_type": "code",
   "execution_count": 20,
   "id": "ac04da72-52f1-42d1-8f26-14913a5c6e88",
   "metadata": {},
   "outputs": [
    {
     "data": {
      "text/plain": [
       "{'iterations': 2000,\n",
       " 'depth': 6,\n",
       " 'learning_rate': 0.002984126581340097,\n",
       " 'random_strength': 0,\n",
       " 'od_wait': 334,\n",
       " 'reg_lambda': 33.469738674488084,\n",
       " 'border_count': 158,\n",
       " 'min_child_samples': 8,\n",
       " 'leaf_estimation_iterations': 4}"
      ]
     },
     "execution_count": 20,
     "metadata": {},
     "output_type": "execute_result"
    }
   ],
   "source": [
    "study.best_trial.params"
   ]
  },
  {
   "cell_type": "code",
   "execution_count": 21,
   "id": "f02e689e-b20c-48e5-a7d9-02467b4f3dbd",
   "metadata": {
    "id": "f02e689e-b20c-48e5-a7d9-02467b4f3dbd"
   },
   "outputs": [
    {
     "data": {
      "text/html": [
       "<br/>Waiting for W&B process to finish, PID 291120... <strong style=\"color:green\">(success).</strong>"
      ],
      "text/plain": [
       "<IPython.core.display.HTML object>"
      ]
     },
     "metadata": {},
     "output_type": "display_data"
    },
    {
     "data": {
      "application/vnd.jupyter.widget-view+json": {
       "model_id": "",
       "version_major": 2,
       "version_minor": 0
      },
      "text/plain": [
       "VBox(children=(Label(value=' 0.00MB of 0.00MB uploaded (0.00MB deduped)\\r'), FloatProgress(value=1.0, max=1.0)…"
      ]
     },
     "metadata": {},
     "output_type": "display_data"
    },
    {
     "data": {
      "text/html": [
       "<style>\n",
       "    table.wandb td:nth-child(1) { padding: 0 10px; text-align: right }\n",
       "    .wandb-row { display: flex; flex-direction: row; flex-wrap: wrap; width: 100% }\n",
       "    .wandb-col { display: flex; flex-direction: column; flex-basis: 100%; flex: 1; padding: 10px; }\n",
       "    </style>\n",
       "<div class=\"wandb-row\"><div class=\"wandb-col\">\n",
       "<h3>Run history:</h3><br/><table class=\"wandb\"><tr><td>valid_AUC</td><td>▁▇▇██████████▆█▇████████▇███████████████</td></tr></table><br/></div><div class=\"wandb-col\">\n",
       "<h3>Run summary:</h3><br/><table class=\"wandb\"><tr><td>valid_AUC</td><td>0.85666</td></tr></table>\n",
       "</div></div>\n",
       "Synced 6 W&B file(s), 0 media file(s), 0 artifact file(s) and 0 other file(s)\n",
       "<br/>Synced <strong style=\"color:#cdcd00\">sweep_catboost_20211021_150418</strong>: <a href=\"https://wandb.ai/hushifang/202110_Kaggle_tabular_playground/runs/jn0jdnqn\" target=\"_blank\">https://wandb.ai/hushifang/202110_Kaggle_tabular_playground/runs/jn0jdnqn</a><br/>\n",
       "Find logs at: <code>./wandb/run-20211021_150423-jn0jdnqn/logs</code><br/>\n"
      ],
      "text/plain": [
       "<IPython.core.display.HTML object>"
      ]
     },
     "metadata": {},
     "output_type": "display_data"
    }
   ],
   "source": [
    "wandb.log({'catboost_params': study.best_trial.params})\n",
    "wandb.finish()"
   ]
  }
 ],
 "metadata": {
  "accelerator": "GPU",
  "colab": {
   "name": "sweep_catboost_20210924.ipynb",
   "provenance": []
  },
  "kernelspec": {
   "display_name": "Python 3",
   "language": "python",
   "name": "python3"
  },
  "language_info": {
   "codemirror_mode": {
    "name": "ipython",
    "version": 3
   },
   "file_extension": ".py",
   "mimetype": "text/x-python",
   "name": "python",
   "nbconvert_exporter": "python",
   "pygments_lexer": "ipython3",
   "version": "3.8.11"
  }
 },
 "nbformat": 4,
 "nbformat_minor": 5
}
