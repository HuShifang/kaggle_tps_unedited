{
 "cells": [
  {
   "cell_type": "markdown",
   "id": "1d4e7f70-25a3-4d58-b98a-3a695e55ee53",
   "metadata": {
    "id": "1d4e7f70-25a3-4d58-b98a-3a695e55ee53"
   },
   "source": [
    "# XGBoost 20210926 GPU sweep\n",
    "Trying after building GPU version locally"
   ]
  },
  {
   "cell_type": "code",
   "execution_count": null,
   "id": "U_qtimPUchWD",
   "metadata": {
    "id": "U_qtimPUchWD"
   },
   "outputs": [],
   "source": []
  },
  {
   "cell_type": "markdown",
   "id": "1e124c3d-0e1f-4053-8e72-52569a4fe3e4",
   "metadata": {
    "id": "1e124c3d-0e1f-4053-8e72-52569a4fe3e4"
   },
   "source": [
    "# Setup"
   ]
  },
  {
   "cell_type": "code",
   "execution_count": 1,
   "id": "dae2ff1e-bd1f-4cc9-8357-5a88d1746ffb",
   "metadata": {
    "id": "dae2ff1e-bd1f-4cc9-8357-5a88d1746ffb"
   },
   "outputs": [],
   "source": [
    "# two manual flags (ex-config)\n",
    "colab = False\n",
    "gpu_available = True"
   ]
  },
  {
   "cell_type": "code",
   "execution_count": 2,
   "id": "16849bd2-428c-497b-ba3b-675002f8d041",
   "metadata": {
    "id": "16849bd2-428c-497b-ba3b-675002f8d041"
   },
   "outputs": [],
   "source": [
    "# basic imports\n",
    "from pathlib import Path\n",
    "import os\n",
    "import math\n",
    "from datetime import datetime\n",
    "import random\n",
    "import multiprocessing\n",
    "import pickle"
   ]
  },
  {
   "cell_type": "code",
   "execution_count": 3,
   "id": "12d2654b-3bc6-49b5-ade8-cc82112b60e5",
   "metadata": {
    "colab": {
     "base_uri": "https://localhost:8080/"
    },
    "id": "12d2654b-3bc6-49b5-ade8-cc82112b60e5",
    "outputId": "6bd53922-c4d7-43ce-c04f-ac1079087966"
   },
   "outputs": [],
   "source": [
    "%matplotlib inline\n",
    "%config Completer.use_jedi = False\n",
    "os.environ['WANDB_NOTEBOOK_NAME'] = f\"sweep_xgboost_{datetime.now().strftime('%Y%m%d')}.ipynb\""
   ]
  },
  {
   "cell_type": "code",
   "execution_count": 4,
   "id": "416d6118-e543-4df4-9219-2d4a63743c3a",
   "metadata": {
    "colab": {
     "base_uri": "https://localhost:8080/"
    },
    "id": "416d6118-e543-4df4-9219-2d4a63743c3a",
    "outputId": "5483656e-2943-4d97-b5d4-65cfb9795430",
    "tags": []
   },
   "outputs": [],
   "source": [
    "# handle Google Colab-specific library installation/updating\n",
    "if colab:\n",
    "    # much of the below inspired by or cribbed from the May 2021 Kaggle Tabular Playground winner, at \n",
    "    # https://colab.research.google.com/gist/academicsuspect/0aac7bd6e506f5f70295bfc9a3dc2250/tabular-may-baseline.ipynb?authuser=1#scrollTo=LJoVKJb5wN0L\n",
    "    \n",
    "    # Kaggle API for downloading the datasets\n",
    "    !pip install --upgrade -q kaggle\n",
    "\n",
    "    # weights and biases\n",
    "    !pip install -qqqU wandb\n",
    "    \n",
    "    # Optuna for parameter search\n",
    "    !pip install -q optuna\n",
    "\n",
    "    # !pip install --upgrade xgboost\n",
    "\n",
    "    # upgrade sklearn\n",
    "    !pip install --upgrade scikit-learn\n",
    "\n",
    "    # !pip install category_encoders\n",
    "    # !pip install catboost\n",
    "#     !pip install --upgrade -q lightgbm\n",
    "\n",
    "    # lighgbm gpu compatible\n",
    "    # !git clone --recursive https://github.com/Microsoft/LightGBM\n",
    "    # ! cd LightGBM && rm -rf build && mkdir build && cd build && cmake -DUSE_GPU=1 ../../LightGBM && make -j4 && cd ../python-package && python3 setup.py install --precompile --gpu;\n",
    "    \n",
    "    # # this part is from https://github.com/rapidsai/gputreeshap/issues/24\n",
    "    # !pip install cmake --upgrade\n",
    "    # # !pip install sklearn --upgrade\n",
    "    # !git clone --recursive https://github.com/dmlc/xgboost\n",
    "    # %cd /content/xgboost\n",
    "    # !mkdir build\n",
    "    # %cd build\n",
    "    # !cmake .. -DUSE_CUDA=ON\n",
    "    # !make -j4\n",
    "    # %cd /content/xgboost/python-package\n",
    "    # !python setup.py install --use-cuda --use-nccl\n",
    "    # !/opt/bin/nvidia-smi\n",
    "    # !pip install shap\n",
    "    "
   ]
  },
  {
   "cell_type": "markdown",
   "id": "d40df194-4474-4bcf-ac5a-98efe24b91fd",
   "metadata": {
    "id": "d40df194-4474-4bcf-ac5a-98efe24b91fd"
   },
   "source": [
    "Now, non-stdlib imports"
   ]
  },
  {
   "cell_type": "code",
   "execution_count": 5,
   "id": "a01e85f7-d602-4dde-bef9-611683cd74c4",
   "metadata": {
    "id": "a01e85f7-d602-4dde-bef9-611683cd74c4"
   },
   "outputs": [],
   "source": [
    "import pandas as pd\n",
    "import numpy as np\n",
    "import matplotlib.pyplot as plt\n",
    "from tqdm.notebook import tqdm\n",
    "\n",
    "# general ML tooling\n",
    "from sklearn.model_selection import train_test_split, StratifiedKFold, KFold\n",
    "from sklearn.metrics import log_loss, roc_auc_score\n",
    "import wandb\n",
    "from optuna.integration.wandb import WeightsAndBiasesCallback\n",
    "# from wandb.xgboost import wandb_callback\n",
    "# from wandb.lightgbm import wandb_callback\n",
    "# from sklearn.impute import KNNImputer, StandardImputer\n",
    "# import timm\n",
    "\n",
    "import seaborn as sns\n",
    "\n",
    "# from catboost import CatBoostClassifier\n",
    "from xgboost import XGBClassifier\n",
    "# from lightgbm import LGBMClassifier\n",
    "# from sklearn.ensemble import RandomForestRegressor\n",
    "from sklearn.preprocessing import MaxAbsScaler, StandardScaler, MinMaxScaler, RobustScaler, PolynomialFeatures\n",
    "# from sklearn.feature_selection import SelectKBest, f_regression\n",
    "from joblib import dump, load\n",
    "# feature engineering tools\n",
    "# from sklearn.feature_selection import mutual_info_regression\n",
    "# import featuretools as ft\n",
    "\n",
    "\n",
    "from optuna.samplers import TPESampler\n",
    "import optuna\n",
    "# import catboost\n",
    "from sklearn.utils import resample\n",
    "import sklearn.metrics"
   ]
  },
  {
   "cell_type": "markdown",
   "id": "5f6166c2-ca44-4b7c-a4dc-3db47c2624fe",
   "metadata": {
    "id": "5f6166c2-ca44-4b7c-a4dc-3db47c2624fe"
   },
   "source": [
    "Now, datapath setup"
   ]
  },
  {
   "cell_type": "code",
   "execution_count": 6,
   "id": "3c18a787-2193-43cb-87ee-51c6ae7b6351",
   "metadata": {
    "id": "3c18a787-2193-43cb-87ee-51c6ae7b6351"
   },
   "outputs": [],
   "source": [
    "# # This is the code for reading the train.csv and converting it to a .feather file\n",
    "# df = pd.read_csv(datapath/'train.csv', index_col='id', low_memory=False)\n",
    "# df.index.name = None\n",
    "# df.to_feather(path='./dataset_df.feather')"
   ]
  },
  {
   "cell_type": "code",
   "execution_count": 7,
   "id": "67530ca9-6317-48be-bf6c-8621158b0020",
   "metadata": {
    "colab": {
     "base_uri": "https://localhost:8080/"
    },
    "id": "0a41cd7e-accb-41c4-ad8b-0eaa3e2b0ad5",
    "outputId": "76d62b41-4171-40fa-936c-4481a9fdab36"
   },
   "outputs": [],
   "source": [
    "if colab:\n",
    "    # mount Google Drive\n",
    "    from google.colab import drive\n",
    "    drive.mount('/content/drive')\n",
    "    \n",
    "    # handling datapath\n",
    "#     datapath = Path('/content/drive/MyDrive/kaggle/tabular_playgrounds/sep2021/')\n",
    "    \n",
    "else:\n",
    "    # if on local machine\n",
    "#     datapath = Path('/media/sf/easystore/kaggle_data/tabular_playgrounds/sep2021/')  \n",
    "    root = Path('/home/sf/code/kaggle/tabular_playgrounds/oct2021/')\n",
    "    datapath = root/'datasets'\n",
    "    edapath = root/'EDA'\n",
    "    modelpath = root/'models'\n",
    "    predpath = root/'preds'\n",
    "    subpath = root/'submissions'\n",
    "    studypath = root/'optuna_studies'\n",
    "    \n",
    "    for pth in [root, datapath, edapath, modelpath, predpath, subpath]:\n",
    "        pth.mkdir(exist_ok=True)"
   ]
  },
  {
   "cell_type": "code",
   "execution_count": 8,
   "id": "d1c652e6-5946-46aa-a13e-4c0ebe8a0e4f",
   "metadata": {
    "id": "d1c652e6-5946-46aa-a13e-4c0ebe8a0e4f"
   },
   "outputs": [],
   "source": [
    "\n",
    "# n_trials = int(1000)\n",
    "SEED = 42"
   ]
  },
  {
   "cell_type": "code",
   "execution_count": 9,
   "id": "fbec2e77-2081-4815-ac6d-39f2a2616386",
   "metadata": {
    "id": "fbec2e77-2081-4815-ac6d-39f2a2616386"
   },
   "outputs": [],
   "source": [
    "# Function to seed everything\n",
    "def seed_everything(seed):\n",
    "    random.seed(seed)\n",
    "    np.random.seed(seed)\n",
    "    os.environ['PYTHONHASHSEED'] = str(seed)\n",
    "seed_everything(SEED)"
   ]
  },
  {
   "cell_type": "markdown",
   "id": "2f6e47b3-43bd-4d35-b463-9d76100c6ed5",
   "metadata": {
    "id": "2f6e47b3-43bd-4d35-b463-9d76100c6ed5"
   },
   "source": [
    "## Ex-Model Config"
   ]
  },
  {
   "cell_type": "code",
   "execution_count": 10,
   "id": "93f08480-1725-4520-8995-92b76b8f2cea",
   "metadata": {
    "id": "fb288275-a858-4806-9dc0-0b316c334536"
   },
   "outputs": [],
   "source": [
    "# meta-config for preprocessing and cross-validation, but NOT for model parameters\n",
    "# in the sweep version, this includes both ex-model parameters and defaults for model parameters\n",
    "exmodel_config = {\n",
    "    # model config\n",
    "    \"library\": 'xgboost',\n",
    "#     \"model\": XGBClassifier,\n",
    "#     \"n_estimators\": 100, \n",
    "#     \"max_depth\": 3,\n",
    "#     \"learning_rate\": 0.1,\n",
    "#     \"test_size\": 0.2,\n",
    "#     \"reg_lambda\": None, \n",
    "#     \"scaler\": \"sklearn.preprocessing.StandardScaler()\", # TODO: experiment with others (but imputation may be slow)\n",
    "#     \"scale_b4_impute\": False,\n",
    "#     \"imputer\": \"sklearn.impute.SimpleImputer(strategy='median', add_indicator=True)\",\n",
    "#     \"knn_imputer_n_neighbors\": None, # None if a different imputer is used\n",
    "#     \"feature_selector\": SelectKBest,\n",
    "#     \"k_best\": 80,\n",
    "#     \"feature_selection_scoring\": f_regression,\n",
    "    'random_state': SEED,\n",
    "    'optuna': True,\n",
    "    'optuna_trials': 50,\n",
    "#     'subsample': 1,\n",
    "#     'cross_val_strategy': None, # None for holdout, or the relevant sklearn class\n",
    "#     'kfolds': 1, # if 1, that means just doing holdout\n",
    "#     'test_size': 0.2,\n",
    "    # these are XGBoost default (my choice) params \n",
    "#     \"tree_method\": \"auto\", # set to 'gpu_hist' to try GPU if available\n",
    "#     \"booster\": 'gbtree', # dart may be marginally better, but will opt for this quicker approach as a default\n",
    "#     \"n_estimators\": 200, \n",
    "#     \"max_depth\": 3,\n",
    "#     \"learning_rate\": 0.1,\n",
    "#     \"n_jobs\": -1,\n",
    "#     \"verbosity\": 1,\n",
    "#     \"subsample\": 1,\n",
    "#     'features_created': False,\n",
    "#     'feature_creator': None,\n",
    "}\n",
    "\n",
    "wandb_kwargs = {\n",
    "    # wandb config\n",
    "    'name': f\"{os.environ['WANDB_NOTEBOOK_NAME'][:-6]}_{datetime.now().strftime('%H%M%S')}\", # just removes the .ipynb extension, leaving the notebook filename's stem\n",
    "    'project': '202110_Kaggle_tabular_playground',\n",
    "    'tags': ['sweep'],\n",
    "    'notes': \"Sweep for XGBoost on GPU with Optuna\",\n",
    "    'config': exmodel_config,\n",
    "}"
   ]
  },
  {
   "cell_type": "markdown",
   "id": "a52d9012-34f1-435a-ba16-4416e0d4a286",
   "metadata": {
    "id": "a52d9012-34f1-435a-ba16-4416e0d4a286"
   },
   "source": [
    "## Data Setup"
   ]
  },
  {
   "cell_type": "markdown",
   "id": "8252ca14-2718-49d9-89e2-91d55f72d706",
   "metadata": {
    "id": "c912a62f-970a-48b4-b428-d886f2612fc2"
   },
   "source": [
    "**TODO** Write some conditional logic here to automate it -- possibly as part of a sklearn.*pipeline"
   ]
  },
  {
   "cell_type": "code",
   "execution_count": 11,
   "id": "6919aac1-15d6-4b41-9871-f547602a91c8",
   "metadata": {},
   "outputs": [],
   "source": [
    "train_source = datapath/'train.feather'\n",
    "df = pd.read_feather(path=train_source)\n",
    "df.index.name = 'id'\n",
    "y_train = df.target\n",
    "features = [x for x in df.columns if x != 'target']\n",
    "X_train = df[features]\n",
    "# X.index.name = 'id'\n",
    "# y.index.name = 'id'\n",
    "X = np.array(X_train)\n",
    "y = np.array(y_train)\n",
    "\n",
    "# del df, X_train, y_train\n",
    "\n",
    "\n",
    "# exmodel_config['feature_count'] = len(X.columns)\n",
    "exmodel_config['feature_count'] = X.shape[1]\n",
    "exmodel_config['instance_count'] = X.shape[0]\n",
    "\n",
    "# exmodel_config['feature_generator'] = None\n",
    "# exmodel_config['feature_generator'] = \"Summary statistics\"\n",
    "\n",
    "exmodel_config['train_source'] = str(train_source)\n",
    "test_source = datapath/'test.feather'\n",
    "exmodel_config['test_source'] = str(test_source)\n",
    "X_test = pd.read_feather(path=test_source)\n",
    "# X_test = X_test.iloc[:, 1:]\n",
    "X_test = np.array(X_test)"
   ]
  },
  {
   "cell_type": "markdown",
   "id": "431d37db-558d-474d-9eca-ce2d38b7636f",
   "metadata": {
    "id": "431d37db-558d-474d-9eca-ce2d38b7636f"
   },
   "source": [
    "# Experiment setup"
   ]
  },
  {
   "cell_type": "code",
   "execution_count": 12,
   "id": "69ff4abf-560b-450e-a7a5-040878b66565",
   "metadata": {
    "id": "69ff4abf-560b-450e-a7a5-040878b66565"
   },
   "outputs": [],
   "source": [
    "# wandb_kwargs = {\n",
    "#     # wandb config:\n",
    "#     'name': f\"{os.environ['WANDB_NOTEBOOK_NAME'][:-6]}_{datetime.now().strftime('%H%M%S')}\", # just removes the .ipynb extension, leaving the notebook filename's stem\n",
    "#     'project': '202109_Kaggle_tabular_playground',\n",
    "#     'tags': ['sweep'],\n",
    "#     'notes': \"Sweep for CatBoost using Optuna\",\n",
    "#     'config': exmodel_config,\n",
    "# }"
   ]
  },
  {
   "cell_type": "code",
   "execution_count": 25,
   "id": "1d93b6f2-2d65-48a9-9862-510bd7d2b75b",
   "metadata": {
    "id": "1d93b6f2-2d65-48a9-9862-510bd7d2b75b"
   },
   "outputs": [],
   "source": [
    "# originally from https://www.kaggle.com/satorushibata/optimize-catboost-hyperparameter-with-optuna-gpu\n",
    "def objective(trial):\n",
    "    # split the (original Kaggle training) data into partitions\n",
    "    # if study.best_trial:\n",
    "    #     print(\"Dumping best params, which are:\")\n",
    "    #     print(str(study.best_trial.params))\n",
    "    #     dump(study.best_trial.params, filename=datapath/'optuna_catboost_best_20210920.joblib')\n",
    "       \n",
    "    # else:\n",
    "    #     print(\"No best study yet\")\n",
    "    X_train, X_valid, y_train, y_valid = train_test_split(X, y, test_size=0.33, random_state=int(SEED), shuffle=True)\n",
    "    # create wrappers for the training and validation partitions\n",
    "    # train_pool = catboost.Pool(X_train, y_train)\n",
    "    # valid_pool = catboost.Pool(X_valid, y_valid)\n",
    "    \n",
    "    # experimental parameters\n",
    "    params = {\n",
    "        'n_estimators': trial.suggest_int('n_estimators', 900, 6000), # was 900-4500 for CPU\n",
    "        'max_depth' : trial.suggest_int('depth', 3, 10),                                       \n",
    "        'learning_rate' : trial.suggest_loguniform('learning_rate', 0.001, 0.4),               \n",
    "        'reg_alpha': trial.suggest_loguniform('reg_alpha', 0.001, 30),\n",
    "        'reg_lambda': trial.suggest_loguniform('reg_lambda', 0.001, 30),\n",
    "        'subsample': trial.suggest_uniform('subsample', 0.5, 1),\n",
    "#         'booster': trial.suggest_categorical('boosting_type', ['gbtree', 'dart']),\n",
    "        'min_child_weight': trial.suggest_uniform('min_child_weight', 0.001, 10),\n",
    "        'colsample_bytree': trial.suggest_uniform('colsample_bytree', 0.5, 1),\n",
    "        'gamma': trial.suggest_uniform('gamma', 0.1, 30)\n",
    "    }  \n",
    "\n",
    "    # instantiate the model, with some parameters locked in, and experimnental ones passed via splat \n",
    "    model = XGBClassifier(\n",
    "        objective='binary:logistic',\n",
    "        verbosity=1,\n",
    "        tree_method='gpu_hist',\n",
    "        booster='gbtree', # not bothering with dart for time reasons\n",
    "        random_state=SEED,\n",
    "#         n_jobs=-1,\n",
    "        **params\n",
    "    )    \n",
    "\n",
    "    model.fit(X_train, y_train)\n",
    "    # generate predictions\n",
    "    preds = model.predict_proba(X_valid)[:,1]\n",
    "    # rounds to the nearest integer, and the nearest even in case of _.5s\n",
    "\n",
    "    # Evaluation\n",
    "    valid_auc = roc_auc_score(y_valid, preds)\n",
    "    print('ROC AUC Score of XGBoost =', valid_auc)\n",
    "    wandb.log({'valid_auc': valid_auc,\n",
    "              })\n",
    "\n",
    "    return valid_auc"
   ]
  },
  {
   "cell_type": "code",
   "execution_count": 26,
   "id": "0e85f589-1507-4b75-80d9-8b062970102f",
   "metadata": {
    "colab": {
     "base_uri": "https://localhost:8080/",
     "height": 285
    },
    "id": "0e85f589-1507-4b75-80d9-8b062970102f",
    "outputId": "6a01a1a1-8060-429d-9a47-670cbc0435d2",
    "tags": []
   },
   "outputs": [
    {
     "name": "stderr",
     "output_type": "stream",
     "text": [
      "<ipython-input-26-69ea9289a2cf>:1: ExperimentalWarning:\n",
      "\n",
      "WeightsAndBiasesCallback is experimental (supported from v2.9.0). The interface can change in the future.\n",
      "\n"
     ]
    },
    {
     "data": {
      "text/html": [
       "\n",
       "                    Syncing run <strong><a href=\"https://wandb.ai/hushifang/202110_Kaggle_tabular_playground/runs/2qgovrzi\" target=\"_blank\">sweep_xgboost_20211003_105251</a></strong> to <a href=\"https://wandb.ai/hushifang/202110_Kaggle_tabular_playground\" target=\"_blank\">Weights & Biases</a> (<a href=\"https://docs.wandb.com/integrations/jupyter.html\" target=\"_blank\">docs</a>).<br/>\n",
       "\n",
       "                "
      ],
      "text/plain": [
       "<IPython.core.display.HTML object>"
      ]
     },
     "metadata": {},
     "output_type": "display_data"
    }
   ],
   "source": [
    "wandbc = WeightsAndBiasesCallback(wandb_kwargs=wandb_kwargs)"
   ]
  },
  {
   "cell_type": "code",
   "execution_count": 27,
   "id": "ab6749b1-dd7d-4789-b0e2-8491d78fe89b",
   "metadata": {
    "id": "ab6749b1-dd7d-4789-b0e2-8491d78fe89b",
    "tags": []
   },
   "outputs": [],
   "source": [
    "# study = optuna.create_study(direction = \"maximize\", \n",
    "#                             sampler = TPESampler(seed=int(SEED)), \n",
    "#                             study_name=f\"xgboost_{datetime.now().strftime('%Y%m%d')}\")\n",
    "\n",
    "study = load(studypath/f\"optuna_xgboost_study_106trials_20211004.joblib\")\n"
   ]
  },
  {
   "cell_type": "code",
   "execution_count": 16,
   "id": "f02e3b84-ee16-48b9-94db-c738b408a380",
   "metadata": {},
   "outputs": [],
   "source": [
    "import torch"
   ]
  },
  {
   "cell_type": "code",
   "execution_count": 23,
   "id": "8a454cc8-f135-4d36-8b6c-a964f4b52288",
   "metadata": {},
   "outputs": [],
   "source": [
    "import xgboost"
   ]
  },
  {
   "cell_type": "code",
   "execution_count": 24,
   "id": "3860cbd2-1d08-4b2e-ac53-92b8a2ce016a",
   "metadata": {},
   "outputs": [
    {
     "data": {
      "text/plain": [
       "\u001b[0;31mInit signature:\u001b[0m \u001b[0mxgboost\u001b[0m\u001b[0;34m.\u001b[0m\u001b[0mcore\u001b[0m\u001b[0;34m.\u001b[0m\u001b[0mXGBoostError\u001b[0m\u001b[0;34m(\u001b[0m\u001b[0mself\u001b[0m\u001b[0;34m,\u001b[0m \u001b[0;34m/\u001b[0m\u001b[0;34m,\u001b[0m \u001b[0;34m*\u001b[0m\u001b[0margs\u001b[0m\u001b[0;34m,\u001b[0m \u001b[0;34m**\u001b[0m\u001b[0mkwargs\u001b[0m\u001b[0;34m)\u001b[0m\u001b[0;34m\u001b[0m\u001b[0;34m\u001b[0m\u001b[0m\n",
       "\u001b[0;31mDocstring:\u001b[0m      Error thrown by xgboost trainer.\n",
       "\u001b[0;31mFile:\u001b[0m           ~/anaconda3/envs/tabular-x/lib/python3.8/site-packages/xgboost/core.py\n",
       "\u001b[0;31mType:\u001b[0m           type\n",
       "\u001b[0;31mSubclasses:\u001b[0m     \n"
      ]
     },
     "metadata": {},
     "output_type": "display_data"
    }
   ],
   "source": [
    "xgboost.core.XGBoostError?"
   ]
  },
  {
   "cell_type": "code",
   "execution_count": 29,
   "id": "c341a341-2f06-4d61-a0cd-3f0751e88861",
   "metadata": {
    "collapsed": true,
    "jupyter": {
     "outputs_hidden": true
    },
    "tags": []
   },
   "outputs": [
    {
     "data": {
      "text/plain": [
       "\u001b[0;31mSignature:\u001b[0m\n",
       "\u001b[0mstudy\u001b[0m\u001b[0;34m.\u001b[0m\u001b[0moptimize\u001b[0m\u001b[0;34m(\u001b[0m\u001b[0;34m\u001b[0m\n",
       "\u001b[0;34m\u001b[0m    \u001b[0mfunc\u001b[0m\u001b[0;34m:\u001b[0m \u001b[0mCallable\u001b[0m\u001b[0;34m[\u001b[0m\u001b[0;34m[\u001b[0m\u001b[0moptuna\u001b[0m\u001b[0;34m.\u001b[0m\u001b[0mtrial\u001b[0m\u001b[0;34m.\u001b[0m\u001b[0m_trial\u001b[0m\u001b[0;34m.\u001b[0m\u001b[0mTrial\u001b[0m\u001b[0;34m]\u001b[0m\u001b[0;34m,\u001b[0m \u001b[0mUnion\u001b[0m\u001b[0;34m[\u001b[0m\u001b[0mfloat\u001b[0m\u001b[0;34m,\u001b[0m \u001b[0mSequence\u001b[0m\u001b[0;34m[\u001b[0m\u001b[0mfloat\u001b[0m\u001b[0;34m]\u001b[0m\u001b[0;34m]\u001b[0m\u001b[0;34m]\u001b[0m\u001b[0;34m,\u001b[0m\u001b[0;34m\u001b[0m\n",
       "\u001b[0;34m\u001b[0m    \u001b[0mn_trials\u001b[0m\u001b[0;34m:\u001b[0m \u001b[0mUnion\u001b[0m\u001b[0;34m[\u001b[0m\u001b[0mint\u001b[0m\u001b[0;34m,\u001b[0m \u001b[0mNoneType\u001b[0m\u001b[0;34m]\u001b[0m \u001b[0;34m=\u001b[0m \u001b[0;32mNone\u001b[0m\u001b[0;34m,\u001b[0m\u001b[0;34m\u001b[0m\n",
       "\u001b[0;34m\u001b[0m    \u001b[0mtimeout\u001b[0m\u001b[0;34m:\u001b[0m \u001b[0mUnion\u001b[0m\u001b[0;34m[\u001b[0m\u001b[0mfloat\u001b[0m\u001b[0;34m,\u001b[0m \u001b[0mNoneType\u001b[0m\u001b[0;34m]\u001b[0m \u001b[0;34m=\u001b[0m \u001b[0;32mNone\u001b[0m\u001b[0;34m,\u001b[0m\u001b[0;34m\u001b[0m\n",
       "\u001b[0;34m\u001b[0m    \u001b[0mn_jobs\u001b[0m\u001b[0;34m:\u001b[0m \u001b[0mint\u001b[0m \u001b[0;34m=\u001b[0m \u001b[0;36m1\u001b[0m\u001b[0;34m,\u001b[0m\u001b[0;34m\u001b[0m\n",
       "\u001b[0;34m\u001b[0m    \u001b[0mcatch\u001b[0m\u001b[0;34m:\u001b[0m \u001b[0mTuple\u001b[0m\u001b[0;34m[\u001b[0m\u001b[0mType\u001b[0m\u001b[0;34m[\u001b[0m\u001b[0mException\u001b[0m\u001b[0;34m]\u001b[0m\u001b[0;34m,\u001b[0m \u001b[0;34m...\u001b[0m\u001b[0;34m]\u001b[0m \u001b[0;34m=\u001b[0m \u001b[0;34m(\u001b[0m\u001b[0;34m)\u001b[0m\u001b[0;34m,\u001b[0m\u001b[0;34m\u001b[0m\n",
       "\u001b[0;34m\u001b[0m    \u001b[0mcallbacks\u001b[0m\u001b[0;34m:\u001b[0m \u001b[0mUnion\u001b[0m\u001b[0;34m[\u001b[0m\u001b[0mList\u001b[0m\u001b[0;34m[\u001b[0m\u001b[0mCallable\u001b[0m\u001b[0;34m[\u001b[0m\u001b[0;34m[\u001b[0m\u001b[0mForwardRef\u001b[0m\u001b[0;34m(\u001b[0m\u001b[0;34m'Study'\u001b[0m\u001b[0;34m)\u001b[0m\u001b[0;34m,\u001b[0m \u001b[0moptuna\u001b[0m\u001b[0;34m.\u001b[0m\u001b[0mtrial\u001b[0m\u001b[0;34m.\u001b[0m\u001b[0m_frozen\u001b[0m\u001b[0;34m.\u001b[0m\u001b[0mFrozenTrial\u001b[0m\u001b[0;34m]\u001b[0m\u001b[0;34m,\u001b[0m \u001b[0mNoneType\u001b[0m\u001b[0;34m]\u001b[0m\u001b[0;34m]\u001b[0m\u001b[0;34m,\u001b[0m \u001b[0mNoneType\u001b[0m\u001b[0;34m]\u001b[0m \u001b[0;34m=\u001b[0m \u001b[0;32mNone\u001b[0m\u001b[0;34m,\u001b[0m\u001b[0;34m\u001b[0m\n",
       "\u001b[0;34m\u001b[0m    \u001b[0mgc_after_trial\u001b[0m\u001b[0;34m:\u001b[0m \u001b[0mbool\u001b[0m \u001b[0;34m=\u001b[0m \u001b[0;32mFalse\u001b[0m\u001b[0;34m,\u001b[0m\u001b[0;34m\u001b[0m\n",
       "\u001b[0;34m\u001b[0m    \u001b[0mshow_progress_bar\u001b[0m\u001b[0;34m:\u001b[0m \u001b[0mbool\u001b[0m \u001b[0;34m=\u001b[0m \u001b[0;32mFalse\u001b[0m\u001b[0;34m,\u001b[0m\u001b[0;34m\u001b[0m\n",
       "\u001b[0;34m\u001b[0m\u001b[0;34m)\u001b[0m \u001b[0;34m->\u001b[0m \u001b[0;32mNone\u001b[0m\u001b[0;34m\u001b[0m\u001b[0;34m\u001b[0m\u001b[0m\n",
       "\u001b[0;31mDocstring:\u001b[0m\n",
       "Optimize an objective function.\n",
       "\n",
       "Optimization is done by choosing a suitable set of hyperparameter values from a given\n",
       "range. Uses a sampler which implements the task of value suggestion based on a specified\n",
       "distribution. The sampler is specified in :func:`~optuna.study.create_study` and the\n",
       "default choice for the sampler is TPE.\n",
       "See also :class:`~optuna.samplers.TPESampler` for more details on 'TPE'.\n",
       "\n",
       "Example:\n",
       "\n",
       "    .. testcode::\n",
       "\n",
       "        import optuna\n",
       "\n",
       "\n",
       "        def objective(trial):\n",
       "            x = trial.suggest_float(\"x\", -1, 1)\n",
       "            return x ** 2\n",
       "\n",
       "\n",
       "        study = optuna.create_study()\n",
       "        study.optimize(objective, n_trials=3)\n",
       "\n",
       "Args:\n",
       "    func:\n",
       "        A callable that implements objective function.\n",
       "    n_trials:\n",
       "        The number of trials. If this argument is set to :obj:`None`, there is no\n",
       "        limitation on the number of trials. If :obj:`timeout` is also set to :obj:`None`,\n",
       "        the study continues to create trials until it receives a termination signal such\n",
       "        as Ctrl+C or SIGTERM.\n",
       "    timeout:\n",
       "        Stop study after the given number of second(s). If this argument is set to\n",
       "        :obj:`None`, the study is executed without time limitation. If :obj:`n_trials` is\n",
       "        also set to :obj:`None`, the study continues to create trials until it receives a\n",
       "        termination signal such as Ctrl+C or SIGTERM.\n",
       "    n_jobs:\n",
       "        The number of parallel jobs. If this argument is set to :obj:`-1`, the number is\n",
       "        set to CPU count.\n",
       "\n",
       "        .. note::\n",
       "            ``n_jobs`` allows parallelization using :obj:`threading` and may suffer from\n",
       "            `Python's GIL <https://wiki.python.org/moin/GlobalInterpreterLock>`_.\n",
       "            It is recommended to use :ref:`process-based parallelization<distributed>`\n",
       "            if ``func`` is CPU bound.\n",
       "\n",
       "        .. warning::\n",
       "            Deprecated in v2.7.0. This feature will be removed in the future.\n",
       "            It is recommended to use :ref:`process-based parallelization<distributed>`.\n",
       "            The removal of this feature is currently scheduled for v4.0.0, but this\n",
       "            schedule is subject to change.\n",
       "            See https://github.com/optuna/optuna/releases/tag/v2.7.0.\n",
       "\n",
       "    catch:\n",
       "        A study continues to run even when a trial raises one of the exceptions specified\n",
       "        in this argument. Default is an empty tuple, i.e. the study will stop for any\n",
       "        exception except for :class:`~optuna.exceptions.TrialPruned`.\n",
       "    callbacks:\n",
       "        List of callback functions that are invoked at the end of each trial. Each function\n",
       "        must accept two parameters with the following types in this order:\n",
       "        :class:`~optuna.study.Study` and :class:`~optuna.FrozenTrial`.\n",
       "    gc_after_trial:\n",
       "        Flag to determine whether to automatically run garbage collection after each trial.\n",
       "        Set to :obj:`True` to run the garbage collection, :obj:`False` otherwise.\n",
       "        When it runs, it runs a full collection by internally calling :func:`gc.collect`.\n",
       "        If you see an increase in memory consumption over several trials, try setting this\n",
       "        flag to :obj:`True`.\n",
       "\n",
       "        .. seealso::\n",
       "\n",
       "            :ref:`out-of-memory-gc-collect`\n",
       "\n",
       "    show_progress_bar:\n",
       "        Flag to show progress bars or not. To disable progress bar, set this ``False``.\n",
       "        Currently, progress bar is experimental feature and disabled\n",
       "        when ``n_jobs`` :math:`\\ne 1`.\n",
       "\n",
       "Raises:\n",
       "    RuntimeError:\n",
       "        If nested invocation of this method occurs.\n",
       "\u001b[0;31mFile:\u001b[0m      ~/anaconda3/envs/tabular-x/lib/python3.8/site-packages/optuna/study/study.py\n",
       "\u001b[0;31mType:\u001b[0m      method\n"
      ]
     },
     "metadata": {},
     "output_type": "display_data"
    }
   ],
   "source": [
    "study.optimize?"
   ]
  },
  {
   "cell_type": "raw",
   "id": "75e918c7-8009-4e15-b3a2-a6eb64ed00e5",
   "metadata": {
    "colab": {
     "base_uri": "https://localhost:8080/"
    },
    "id": "F1cSVFH9gkW_",
    "outputId": "ccc874e6-7dd4-4e24-bec8-35ae48180b40",
    "tags": []
   },
   "source": [
    "for x in range(1,75):\n",
    "    study.optimize(objective, n_trials = 1, callbacks = [wandbc], show_progress_bar=True, catch=(xgboost.core.XGBoostError,)) \n",
    "    dump(study, filename=datapath/f\"optuna_xgboost_study_{x+32}trials_{datetime.now().strftime('%Y%m%d')}.joblib\")\n",
    "#     dump(study.best_trial.params, filename=datapath/f'optuna_lightgbm_study_best-thru-{x*5}trials_20210927.joblib')"
   ]
  },
  {
   "cell_type": "code",
   "execution_count": null,
   "id": "399d6fb3-b4b3-40bd-8ff9-e2919c234f7d",
   "metadata": {
    "id": "27a746ff-c0e1-4218-8809-f102a58d2491"
   },
   "outputs": [],
   "source": [
    "# dump(study, filename=datapath/f\"optuna_xgboost_100trials-complete_{datetime.now().strftime('%Y%m%d')}.joblib\")\n",
    "# dump(study.best_trial.params, filename=datapath/f\"optuna_lightgbm_all-500trials-best_{datetime.now().strftime('%Y%m%d')}.joblib\")\n",
    "# pickle.dump(study.best_trial.params, open('CatBoost_Hyperparameter.pickle', 'wb'))\n",
    "# print('CatBoost Hyperparameter:', study.best_trial.params)"
   ]
  },
  {
   "cell_type": "code",
   "execution_count": 31,
   "id": "f02e689e-b20c-48e5-a7d9-02467b4f3dbd",
   "metadata": {
    "id": "f02e689e-b20c-48e5-a7d9-02467b4f3dbd"
   },
   "outputs": [
    {
     "data": {
      "text/plain": [
       "{'n_estimators': 3878,\n",
       " 'depth': 4,\n",
       " 'learning_rate': 0.024785857161974977,\n",
       " 'reg_alpha': 26.867682044658245,\n",
       " 'reg_lambda': 10.839759074147148,\n",
       " 'subsample': 0.8208581489835881,\n",
       " 'min_child_weight': 8.829122644339664,\n",
       " 'colsample_bytree': 0.906420714280384,\n",
       " 'gamma': 1.472322916021486}"
      ]
     },
     "execution_count": 31,
     "metadata": {},
     "output_type": "execute_result"
    }
   ],
   "source": [
    "study.best_trial.params"
   ]
  },
  {
   "cell_type": "code",
   "execution_count": 32,
   "id": "ybeYZ3omaLWK",
   "metadata": {
    "id": "ybeYZ3omaLWK"
   },
   "outputs": [
    {
     "data": {
      "text/html": [
       "<br/>Waiting for W&B process to finish, PID 38513... <strong style=\"color:green\">(success).</strong>"
      ],
      "text/plain": [
       "<IPython.core.display.HTML object>"
      ]
     },
     "metadata": {},
     "output_type": "display_data"
    },
    {
     "data": {
      "application/vnd.jupyter.widget-view+json": {
       "model_id": "",
       "version_major": 2,
       "version_minor": 0
      },
      "text/plain": [
       "VBox(children=(Label(value=' 0.00MB of 0.00MB uploaded (0.00MB deduped)\\r'), FloatProgress(value=1.0, max=1.0)…"
      ]
     },
     "metadata": {},
     "output_type": "display_data"
    },
    {
     "data": {
      "text/html": [
       "<style>\n",
       "    table.wandb td:nth-child(1) { padding: 0 10px; text-align: right }\n",
       "    .wandb-row { display: flex; flex-direction: row; flex-wrap: wrap; width: 100% }\n",
       "    .wandb-col { display: flex; flex-direction: column; flex-basis: 100%; flex: 1; padding: 10px; }\n",
       "    </style>\n",
       "<div class=\"wandb-row\"><div class=\"wandb-col\">\n",
       "<h3>Run history:</h3><br/><table class=\"wandb\"><tr><td>colsample_bytree</td><td>▄▅▅▄▃▂▅▄▁▄▆▇██▇▇▇███▇▇▇▇▇▇▇█▇▇▇██▇█▆▇█▇▇</td></tr><tr><td>depth</td><td>▂▂▃▁▃███▃▅▃▃▃▃▅▂▃▃▂▂▁▂▁▂▂▁▁▂▂▂▁▂▂▂▂▂▂▂▂▂</td></tr><tr><td>gamma</td><td>▅▅▆▃▇▅▆▅█▄▁▁▁▁▂▂▁▁▂▂▂▁▂▂▂▂▁▂▂▂▃▃▁▂▂▁▂▂▁▂</td></tr><tr><td>learning_rate</td><td>▃▄▁▂▁▁▃▂█▂▃▃▃▅▂▃▃▄▃▇▆▄▄▆▅█▅▇▃▄▅▆▃▃▄▂▄▃▃▄</td></tr><tr><td>min_child_weight</td><td>▂▂▂▅▂▃▇▂▄▁▅▅▆▆▇▆▅▅▇▇▆▇▇▇▇▇▇▇▇▇█▇▇▇▇▇█▇█▇</td></tr><tr><td>n_estimators</td><td>▄▄▃▇▄██▆▅▂▆▆▆▅▅▅▆▆▅▅▁▅▅▅▅▆▄▄▅▆▅▅▆▆▅▅▅▅▆▅</td></tr><tr><td>reg_alpha</td><td>▁▁▁▁▁▁▁▁▁▁▁▁▁▁▁▁▁▁▁▁▄▇█▅▆▂▆▆▂▄█▄▄▅▂▃▂▁█▁</td></tr><tr><td>reg_lambda</td><td>▁▁▁▁▁▁▁▁▁▁▃▄▄▄█▅▂▄▆▆▂▄▂▂▁▃▅▂▁▁▂▃▂▃▆▃▅▇▅▅</td></tr><tr><td>subsample</td><td>▅▄▃▁▂▃▅▆▄▁▅▅▅▆▆▅▅▇▇▇▆▅▅▆▆█▆▅▆▆▆█▆▆▅▆▆▆▇▆</td></tr><tr><td>valid_auc</td><td>██▅▇▁███▇▅███████▇█▇▆██████████████▇████</td></tr><tr><td>value</td><td>██▅▇▁███▇▅███████▇█▇▆██████████████▇████</td></tr></table><br/></div><div class=\"wandb-col\">\n",
       "<h3>Run summary:</h3><br/><table class=\"wandb\"><tr><td>colsample_bytree</td><td>0.89913</td></tr><tr><td>depth</td><td>4</td></tr><tr><td>gamma</td><td>2.4563</td></tr><tr><td>learning_rate</td><td>0.02676</td></tr><tr><td>min_child_weight</td><td>8.47111</td></tr><tr><td>n_estimators</td><td>4035</td></tr><tr><td>reg_alpha</td><td>1.06688</td></tr><tr><td>reg_lambda</td><td>13.98101</td></tr><tr><td>subsample</td><td>0.8353</td></tr><tr><td>valid_auc</td><td>0.85636</td></tr><tr><td>value</td><td>0.85636</td></tr></table>\n",
       "</div></div>\n",
       "Synced 6 W&B file(s), 0 media file(s), 0 artifact file(s) and 0 other file(s)\n",
       "<br/>Synced <strong style=\"color:#cdcd00\">sweep_xgboost_20211003_105251</strong>: <a href=\"https://wandb.ai/hushifang/202110_Kaggle_tabular_playground/runs/2qgovrzi\" target=\"_blank\">https://wandb.ai/hushifang/202110_Kaggle_tabular_playground/runs/2qgovrzi</a><br/>\n",
       "Find logs at: <code>./wandb/run-20211004_102309-2qgovrzi/logs</code><br/>\n"
      ],
      "text/plain": [
       "<IPython.core.display.HTML object>"
      ]
     },
     "metadata": {},
     "output_type": "display_data"
    }
   ],
   "source": [
    "wandb.log({'xgboost_params': study.best_trial.params})\n",
    "wandb.finish()"
   ]
  },
  {
   "cell_type": "code",
   "execution_count": 33,
   "id": "29e398cb-f0f4-4400-8fe7-9012b4bc33c1",
   "metadata": {},
   "outputs": [
    {
     "data": {
      "application/vnd.plotly.v1+json": {
       "config": {
        "plotlyServerURL": "https://plot.ly"
       },
       "data": [
        {
         "dimensions": [
          {
           "label": "Objective Value",
           "range": [
            0.8340316723871697,
            0.8565513787184509
           ],
           "values": [
            0.8466374343474291,
            0.8557390445916007,
            0.8558059003079794,
            0.8549629580727184,
            0.8536266559811778,
            0.8486620922096804,
            0.8372280573529738,
            0.8340316723871697,
            0.8508612443083975,
            0.8553220469521865,
            0.8514760908261685,
            0.8562344950750442,
            0.8560199085989543,
            0.8560244379728065,
            0.8560259834912608,
            0.855829008245066,
            0.8558102126374351,
            0.8553474756738562,
            0.8559041384989841,
            0.8544831038030891,
            0.8558055414629581,
            0.856133476078468,
            0.8561973740920318,
            0.8545998923661667,
            0.8558780988096436,
            0.8559648954294401,
            0.8548320993100375,
            0.8549875093605511,
            0.856342122520688,
            0.8552883190280071,
            0.8398280932434851,
            0.856173885381424,
            0.8561954422720175,
            0.8562153516784694,
            0.8556898889210504,
            0.8511669881821333,
            0.8560296470015898,
            0.8543193658263021,
            0.8551832835897966,
            0.8455649719421114,
            0.8562431127183048,
            0.8560074533029576,
            0.8559254225689219,
            0.8558960821628728,
            0.8483290433134019,
            0.8560366519267474,
            0.8556525740342694,
            0.856050992926793,
            0.8518158005317764,
            0.8344458763283767,
            0.856358418811956,
            0.8563377488318376,
            0.8563675231981205,
            0.8563587776937085,
            0.8563932461730749,
            0.856358978649859,
            0.8557931740646159,
            0.8549681837774464,
            0.8562691472101869,
            0.8562928907615497,
            0.8562352449966756,
            0.8564022562152671,
            0.8563329998607738,
            0.8557341961158371,
            0.8560837466672727,
            0.8564007396042319,
            0.8564330659226234,
            0.8555813373562713,
            0.8563843192718527,
            0.8538147654835239,
            0.8556556881750748,
            0.8565513787184509,
            0.8564319824270055,
            0.8560324914622532,
            0.8564014415917057,
            0.8561646067793902,
            0.8563698132754577,
            0.8563529383399353,
            0.856055415725198,
            0.8563268550139822,
            0.8563613207568774,
            0.8563947166130477,
            0.8562279592802015,
            0.8564099045049748,
            0.8563186087594324,
            0.856177133903161,
            0.856369390959,
            0.8564187442982623,
            0.8563238509748147,
            0.8556415152384301,
            0.8561223438570494,
            0.8564399649702259,
            0.8562816375660713,
            0.8564440084459907,
            0.8559062511097446,
            0.8563990633044992,
            0.8564691301319334,
            0.8555691901428393,
            0.8550392710331047,
            0.8563966452374516,
            0.855998890884989,
            0.8563846929562606,
            0.8561454795077927,
            0.8563374970948651,
            0.856284250032758,
            0.8563586584092817
           ]
          },
          {
           "label": "boosting_type",
           "range": [
            0,
            1
           ],
           "ticktext": [
            "dart",
            "gbtree"
           ],
           "tickvals": [
            0,
            1
           ],
           "values": [
            0,
            1,
            1,
            1,
            1,
            0,
            0,
            0,
            1,
            0,
            1,
            1,
            1,
            1,
            1,
            1,
            1,
            1,
            1,
            1,
            1,
            1,
            1,
            1,
            1,
            1,
            1,
            0,
            1,
            0,
            1,
            1
           ]
          },
          {
           "label": "colsample_bytree",
           "range": [
            0.5024008555944218,
            0.9998374860539728
           ],
           "values": [
            0.8540362888980227,
            0.8059264473611898,
            0.5852620618436457,
            0.5171942605576092,
            0.9474136752138245,
            0.6404672548436904,
            0.8645035840204937,
            0.864803089169032,
            0.7137705091792748,
            0.6143990827458112,
            0.5183967551313369,
            0.7615446919120884,
            0.7169912856401497,
            0.731057379200564,
            0.7889513246948714,
            0.7830972249607675,
            0.9966121888714187,
            0.689469351539377,
            0.8053016956980024,
            0.6690891271127065,
            0.9312404495902854,
            0.774168265892344,
            0.7759997072580538,
            0.7603761290878762,
            0.8336024522042269,
            0.8991243860465401,
            0.7589999114617614,
            0.6800402676827382,
            0.7621153365021868,
            0.8355858462731746,
            0.8924968757322083,
            0.7476876979164911,
            0.7368326432793232,
            0.8176934113982076,
            0.8458760637592395,
            0.8132140291724352,
            0.813791249732147,
            0.7131572775517909,
            0.8826104202213442,
            0.6446660647040973,
            0.5782950924982238,
            0.5621062696983861,
            0.5817147621039088,
            0.7953480719667241,
            0.7665578811393164,
            0.7031066473559647,
            0.5024008555944218,
            0.6396540818611671,
            0.7351161778755556,
            0.5453297349263679,
            0.8635012454953812,
            0.8714984269661147,
            0.9193360020448446,
            0.9698942964980198,
            0.9914210877839796,
            0.9951848977241132,
            0.9853526997860473,
            0.9606841329056053,
            0.9218556959479369,
            0.963352907564663,
            0.9153495909129736,
            0.9439122481475339,
            0.9447776386964706,
            0.9832096752854125,
            0.9681830744038181,
            0.9980192401722248,
            0.9451968891413521,
            0.9984300840393021,
            0.9460798430529082,
            0.9424469991859148,
            0.9819050779236904,
            0.906420714280384,
            0.9062246605416865,
            0.9106151933872851,
            0.9358992624775478,
            0.9344714437967213,
            0.9524458204781692,
            0.8924548166109834,
            0.931141000076453,
            0.9539284528451903,
            0.9041605571749745,
            0.9516661688675921,
            0.9761307898176694,
            0.9342279480865366,
            0.9288936978842286,
            0.8813402430504654,
            0.9376273909094136,
            0.9619954080332924,
            0.9587429660247568,
            0.9073218337333567,
            0.9712022910273183,
            0.9899445855743132,
            0.89502119590407,
            0.9264931809768645,
            0.9293579279363321,
            0.9753799794674011,
            0.9238787037667755,
            0.8787423667437946,
            0.8574655554055401,
            0.9136838050458493,
            0.9223369580703672,
            0.963608715834726,
            0.9998374860539728,
            0.9450320582299078,
            0.9858330507615761,
            0.8991310433980011
           ]
          },
          {
           "label": "depth",
           "range": [
            3,
            10
           ],
           "values": [
            10,
            9,
            5,
            10,
            8,
            3,
            9,
            5,
            6,
            3,
            5,
            7,
            7,
            7,
            7,
            8,
            6,
            8,
            7,
            4,
            6,
            7,
            7,
            8,
            9,
            6,
            7,
            8,
            5,
            5,
            4,
            6,
            4,
            4,
            4,
            5,
            4,
            3,
            10,
            5,
            9,
            9,
            10,
            9,
            3,
            9,
            5,
            8,
            6,
            10,
            5,
            5,
            5,
            5,
            5,
            5,
            5,
            5,
            6,
            5,
            4,
            5,
            5,
            5,
            6,
            4,
            4,
            4,
            4,
            3,
            4,
            4,
            4,
            3,
            4,
            4,
            4,
            4,
            3,
            4,
            3,
            4,
            4,
            4,
            4,
            3,
            4,
            3,
            3,
            3,
            4,
            4,
            4,
            4,
            3,
            4,
            4,
            4,
            3,
            4,
            3,
            4,
            4,
            4,
            4,
            4
           ]
          },
          {
           "label": "gamma",
           "range": [
            0.19993672528592066,
            28.989286789157635
           ],
           "values": [
            0.7154763794444932,
            4.27086643349605,
            2.045042630259857,
            27.288680022155585,
            17.977209366451447,
            16.32661288643163,
            23.16098336590978,
            19.162968393520874,
            0.8600318896484461,
            2.4016993038809105,
            9.816443289328578,
            8.284881753712686,
            9.372782184161135,
            10.886186434202674,
            10.610497578183036,
            6.457647851616201,
            13.011981542590487,
            6.951752029053317,
            14.241476350114667,
            21.2032954944189,
            6.437142803294837,
            12.161563654809155,
            12.045601020480355,
            12.977195446068992,
            16.24882259465899,
            8.901442290676115,
            12.067408808255328,
            4.941691138876938,
            7.924697183143053,
            8.178598677082038,
            4.751562402424755,
            11.786544081495432,
            14.104044491148827,
            15.132207821693502,
            16.003004733594615,
            18.339521805833126,
            3.231800324549976,
            7.55156108499314,
            28.989286789157635,
            22.451580996692105,
            15.06729167069877,
            15.110468939876249,
            19.562605109531056,
            17.463030632219795,
            10.03826374037798,
            14.018729964945198,
            25.406227628043162,
            17.338000355424136,
            10.76740799995206,
            5.514128357293474,
            0.2275428930454222,
            1.9733141865374189,
            0.19993672528592066,
            1.073441918679896,
            0.7593119822403946,
            0.2626559815486085,
            0.22075355989045264,
            1.8596539108395218,
            3.5044105665571967,
            1.2322958331147977,
            3.179630471899186,
            1.7747560732457153,
            0.25826237594584317,
            1.1086258535734832,
            2.6360383762503785,
            4.196701817707858,
            4.076972898601413,
            3.67730465840618,
            5.753715241192608,
            4.355269226980947,
            5.756655157397377,
            1.472322916021486,
            2.35228635433434,
            2.3538106067882993,
            4.099868216783808,
            4.055690034917491,
            5.571212092355974,
            6.7968969044681735,
            2.5923152224220436,
            4.58345456626113,
            1.6928108327305926,
            5.6144337701025,
            5.064041976949963,
            6.127688962730751,
            3.1419357628700837,
            6.269503363885141,
            4.11458155213521,
            2.855479915178445,
            9.050805783420586,
            2.7565783569608895,
            7.014196546595687,
            1.4158100864408194,
            1.806112177070693,
            4.010311677204869,
            3.754197540433826,
            2.3241471136989253,
            2.988270964846946,
            1.389683568636391,
            3.1085942239890474,
            4.821397987898969,
            1.8987468548285409,
            3.907660538565329,
            2.9465616981795257,
            0.9045378704346724,
            4.752056745398084,
            2.456295781045295
           ]
          },
          {
           "label": "learning_rate",
           "range": [
            -2.934990958247767,
            -0.4772062739111871
           ],
           "ticktext": [
            "0.00116",
            "0.01",
            "0.1",
            "0.333"
           ],
           "tickvals": [
            -2.934990958247767,
            -2,
            -1,
            -0.4772062739111871
           ],
           "values": [
            -1.0953078501180944,
            -2.4474808955098974,
            -1.8132785408232757,
            -0.8965016033705335,
            -2.1889090800539575,
            -2.4900408347132097,
            -2.8060147527531214,
            -2.698501755976862,
            -2.6888085974509086,
            -1.3440219307859427,
            -0.4772062739111871,
            -2.0064911108161825,
            -1.7931786974481372,
            -1.8552803454677826,
            -2.02211884673757,
            -2.188539516020559,
            -1.4491351576408822,
            -2.1944694667750624,
            -1.442589325219651,
            -2.0817706321862497,
            -1.5685803019349147,
            -1.9212421236821053,
            -1.9611405174300318,
            -2.388639414246062,
            -1.908281310154772,
            -1.6505492165250035,
            -1.1491735386084436,
            -2.3795657292162677,
            -1.9594033849114418,
            -1.1998154870780764,
            -2.934990958247767,
            -1.932083623742196,
            -1.6887277101095592,
            -1.659059387727599,
            -0.9171982070792294,
            -2.265265640083894,
            -1.5396163140807266,
            -2.0547200874792195,
            -1.7419396874567319,
            -2.5755892147162136,
            -2.0953745866718294,
            -2.298880926891394,
            -2.08822537117255,
            -1.793412271758439,
            -2.4943573177817897,
            -2.0068490913286827,
            -1.2860127883495411,
            -1.6210381805830056,
            -2.170236807712742,
            -0.5367283201794306,
            -1.8477744927621926,
            -1.836778589365864,
            -1.745180956071293,
            -1.8301275605895988,
            -1.8578731241798847,
            -1.8349755647213652,
            -1.5158427004315103,
            -1.4040305727814935,
            -1.871562343236843,
            -1.7431189958495448,
            -1.7619819417061624,
            -1.8570795634733956,
            -1.8476816263283558,
            -1.5623601802602478,
            -1.9711570910250786,
            -1.6872831820994953,
            -1.613725037065688,
            -1.3125051657719895,
            -1.472545061408713,
            -1.4057109378292814,
            -1.0273725699907434,
            -1.6057960574213737,
            -1.627497363632497,
            -1.6132249872307285,
            -1.4989771639676979,
            -1.4078684570092657,
            -1.4922574798273889,
            -1.668244424944583,
            -1.2691347179184786,
            -1.5795109214372183,
            -1.4735078642081505,
            -1.501989393739111,
            -1.3544565873794006,
            -1.6684239792372306,
            -1.6793959563254222,
            -1.2121071176562355,
            -1.6098878361528601,
            -1.5271181759236023,
            -1.5450429469958824,
            -1.7024063757175008,
            -1.37227187088123,
            -1.6917105002246953,
            -1.5335265703082834,
            -1.7076165182022065,
            -1.711527311661453,
            -1.646575736018377,
            -1.6059182149811622,
            -1.9015384062132759,
            -1.7855468631603342,
            -1.6278990062350716,
            -1.5890727155324786,
            -1.699889972572633,
            -1.7947336635375373,
            -1.734561684664734,
            -1.4255874095174663,
            -1.5725467101181012
           ]
          },
          {
           "label": "min_child_weight",
           "range": [
            0.03392859735244336,
            9.96782160401735
           ],
           "values": [
            6.011549002420345,
            2.913000172840221,
            6.075840974162483,
            4.952273924202591,
            9.395049916700327,
            3.5681765136091994,
            7.068866581132324,
            3.2525080369454438,
            5.227805560990559,
            7.555755834291944,
            0.5805898227971129,
            1.4406385155681678,
            0.1916371869198199,
            0.0707407926650453,
            1.6424244244024626,
            1.5480879810114838,
            1.9316249676923922,
            1.7054423240425987,
            4.258030524733062,
            2.380799051125835,
            1.229939728098651,
            0.2883434488090604,
            0.8273282004450664,
            0.8712819787818595,
            0.03392859735244336,
            2.7552902653955123,
            0.9118813898108533,
            2.234027454560814,
            3.720131482782967,
            3.684965132080414,
            4.245125043796416,
            1.1022742718401026,
            2.6570106583041646,
            2.5951912787344598,
            4.35732666674642,
            3.1442797926832586,
            5.530792581662228,
            6.393923272991792,
            3.477446627910647,
            2.3875755577152855,
            4.051589482395663,
            3.9079801427953282,
            3.0173882472423896,
            9.348986590255144,
            5.200381669623544,
            2.0144477444593623,
            4.5976374208666915,
            0.6255107048349214,
            1.3052892722913523,
            4.6881687517153114,
            5.985685987087704,
            6.417263117838369,
            6.788785001996106,
            7.524417735298012,
            7.645455642183239,
            7.7773105702055005,
            7.751770401533424,
            8.138994487501494,
            8.565872229618165,
            7.0992662146172245,
            7.127889448663641,
            6.549801067539346,
            5.797610003200026,
            6.656831247386088,
            7.445535319193586,
            8.66997831276011,
            8.502260561072873,
            8.836532708170116,
            8.071509837934347,
            8.108051335227486,
            9.774989823380597,
            8.829122644339664,
            8.94475097424538,
            8.894775151603874,
            8.348870602404345,
            8.605946565788422,
            9.10169144941552,
            9.904921456146935,
            8.230664469765959,
            9.474634902941043,
            8.243697874302109,
            9.199086613598812,
            8.649869516844669,
            9.208603156801868,
            9.22128290469086,
            8.424684902090178,
            8.976697647451342,
            9.562965222256228,
            9.79941906780815,
            9.584928489553324,
            9.251436563038231,
            8.785170981571474,
            9.539730807961389,
            8.769657196481948,
            8.730307369657602,
            8.41329609256094,
            8.962923644909678,
            8.973621731401261,
            9.400548515731478,
            9.96782160401735,
            7.867648956942141,
            8.409919425714781,
            8.978884184725953,
            9.64313080318281,
            8.71895391776848,
            8.471105931073726
           ]
          },
          {
           "label": "n_estimators",
           "range": [
            1071,
            5966
           ],
           "values": [
            2810,
            5847,
            2390,
            5740,
            2220,
            5602,
            1618,
            1277,
            5425,
            1450,
            3520,
            4179,
            4051,
            4195,
            4498,
            4865,
            4645,
            3517,
            4972,
            4133,
            3040,
            4169,
            4541,
            3790,
            5129,
            4404,
            3087,
            3823,
            4651,
            5218,
            4604,
            3864,
            3322,
            3143,
            2507,
            2648,
            2097,
            4820,
            5966,
            2844,
            5570,
            5603,
            5255,
            5726,
            5433,
            4443,
            3619,
            3273,
            1820,
            4747,
            4256,
            4383,
            4313,
            4306,
            4312,
            4297,
            4026,
            4303,
            3968,
            4996,
            3665,
            4339,
            4262,
            4656,
            4964,
            3984,
            4090,
            4033,
            3777,
            1071,
            3757,
            3878,
            3495,
            3406,
            3589,
            3516,
            3932,
            3640,
            4140,
            3803,
            3224,
            3907,
            2981,
            3895,
            3423,
            4134,
            4512,
            3903,
            3936,
            3573,
            3674,
            4112,
            3902,
            4067,
            4087,
            3403,
            3702,
            3716,
            3344,
            3558,
            3158,
            4026,
            3823,
            4189,
            4423,
            4035
           ]
          },
          {
           "label": "reg_alpha",
           "range": [
            -2.9740382059674504,
            1.4732946177171689
           ],
           "ticktext": [
            "0.00106",
            "0.01",
            "0.1",
            "1",
            "10",
            "29.7"
           ],
           "tickvals": [
            -2.9740382059674504,
            -2,
            -1,
            0,
            1,
            1.4732946177171689
           ],
           "values": [
            -0.319733376083192,
            -2.185947574678384,
            0.5153279854476062,
            -1.6362072195536328,
            -0.6715924084848277,
            -2.797511943525283,
            1.418412479859352,
            0.864218693008977,
            0.19328339669407435,
            -1.5925901555749258,
            0.2947924033633787,
            -2.7109941223706935,
            -1.3099123113652893,
            -2.875769287350453,
            -2.6904966393865006,
            -2.304063602780617,
            -2.2321743704543993,
            -1.1498183035339775,
            -2.939864765815686,
            -1.9558247392186645,
            -2.67133990108486,
            -2.486927661796558,
            -2.517519042996593,
            -1.8657907904276028,
            -2.4040271372979514,
            -1.0582477334931588,
            -2.477003465564606,
            -1.821157777789935,
            -2.0897764179932805,
            -0.3630012776157598,
            -2.0190433129184413,
            -2.524818288842333,
            -2.9740382059674504,
            -2.948529149223541,
            -2.1440863105489214,
            -1.5857139562344817,
            -2.647186990853836,
            -2.1922217421128782,
            -0.7189267073060213,
            -2.8178043265101227,
            -1.7092527007689506,
            -1.423927521446107,
            -1.740469177302392,
            -2.0130374556256845,
            -2.636914817805933,
            -2.3146042405535794,
            -2.9610709849425425,
            -1.519415688421394,
            -0.4310780448496057,
            -0.9738212560647208,
            -2.1598862133912804,
            -2.7395138357253876,
            -2.1254386971434713,
            -2.0860838942085067,
            -2.0904921195667274,
            -2.106539188761615,
            -1.2825841413003487,
            -2.1012137895761316,
            -1.8896542810831,
            0.9545136249963181,
            -2.2379444814825784,
            -2.376557647852112,
            -2.34315760384398,
            -2.053006445378961,
            -1.9225428234957298,
            -0.09944626472450466,
            0.9806860712244636,
            -0.06867962845079065,
            1.2712745203219131,
            1.1095550349693404,
            0.5288671985374475,
            1.4292302001645636,
            1.430786774809709,
            1.446083427235361,
            1.259131019802113,
            1.202603485392058,
            1.2831653409050527,
            0.6348246910065218,
            0.8028117314217703,
            1.0131258624232466,
            1.3068930454123173,
            1.2510990364455736,
            1.3588748771549848,
            1.144706017235684,
            0.7581212759721245,
            0.2604781137067044,
            1.1166904081161246,
            1.4602046486857294,
            1.4506504109679303,
            0.9230298276865767,
            1.1362781612475632,
            1.0295107461982953,
            1.0518593758992567,
            1.2282513022336639,
            1.3874457738184347,
            0.694790716746126,
            0.40996228659545,
            0.8487410356241111,
            1.1833167418574404,
            0.49400169645642816,
            1.0033957385230932,
            -0.5927047541260266,
            -0.12317461629628113,
            1.4732946177171689,
            1.3354124376228478,
            0.028115314453037162
           ]
          },
          {
           "label": "reg_lambda",
           "range": [
            -2.9787779095512397,
            1.4504315767529254
           ],
           "ticktext": [
            "0.00105",
            "0.01",
            "0.1",
            "1",
            "10",
            "28.2"
           ],
           "tickvals": [
            -2.9787779095512397,
            -2,
            -1,
            0,
            1,
            1.4504315767529254
           ],
           "values": [
            -2.3014856287427023,
            -2.17887577072375,
            -2.1060362658885436,
            -2.5627101023886167,
            -0.5523117881784785,
            -1.543456661334811,
            0.4574334704641471,
            -0.20941870835338852,
            0.40612691143564345,
            -0.7230673490590398,
            -1.5153081776294504,
            -1.7760219659301784,
            -1.5160399798580426,
            -1.2527685233371058,
            -1.0723670014134496,
            -2.9787779095512397,
            -0.1680127277486899,
            -1.0568307456638801,
            1.4380682041734238,
            -1.763860238620506,
            -0.9723215277889551,
            -1.1844041183311504,
            -1.9770219851383688,
            -2.7578743211268733,
            -1.8862248515592197,
            -2.48459227010337,
            -1.8960953906190219,
            -0.362152629796882,
            -1.359467443013048,
            -2.1437434794180485,
            -1.6462348041684467,
            -1.218648109012783,
            -1.391242609917177,
            -2.1962558483522256,
            -2.2912272918420173,
            -1.9932241104100046,
            -2.5296909684124795,
            -2.277189851007113,
            -2.7491604689315357,
            -2.0756845906114365,
            -0.7893447698876531,
            -0.7676925662178997,
            -1.6610449247667658,
            -0.8034847674993661,
            0.1065867471687519,
            -1.4204414368975398,
            -0.5464993007397064,
            -1.7655232741243592,
            -2.421660909044363,
            -1.3329510634899637,
            0.9151466495044602,
            0.5589834553176183,
            1.019485256513924,
            1.0744254711611747,
            1.0749542505464942,
            1.1054367269018164,
            1.123787726998939,
            0.872966281169514,
            1.434286701723215,
            0.8534124796107252,
            1.2171630002659726,
            0.6345719785881385,
            0.7300217055329711,
            1.0897522551640104,
            0.25116612449872533,
            1.2835066759899,
            1.2830022785155586,
            1.3288015713950136,
            0.6311072058703752,
            0.682990134817393,
            1.2846130441070722,
            1.035019629625687,
            0.39131206621581394,
            0.3937082668678347,
            0.989212169493341,
            0.6864798189480581,
            0.0614046611655539,
            0.4696363025635091,
            0.9184508061320759,
            1.4504315767529254,
            1.2114177406128437,
            0.13181251513140801,
            0.5907310351227326,
            0.2975649448060197,
            0.22297763834019363,
            0.7662225202287148,
            -0.1578505815097807,
            0.9806676053105434,
            0.3339951380743249,
            -0.044082542438348395,
            0.9773293623334858,
            0.5029781968105227,
            0.5186501120863302,
            0.8179325329331314,
            0.8196876951175441,
            1.32673026006784,
            1.1938198034407526,
            0.9516304058067613,
            0.8010744912501718,
            1.2017394643052028,
            0.3799397184855491,
            1.3507588362766603,
            1.0186480912144578,
            1.2107319781908938,
            0.6290831905244951,
            1.1455385280560506
           ]
          },
          {
           "label": "subsample",
           "range": [
            0.5118477057529162,
            0.9987959698708622
           ],
           "values": [
            0.5779972601681014,
            0.6521211214797689,
            0.7571172192068059,
            0.8421165132560784,
            0.5924272277627636,
            0.6943386448447411,
            0.5993578407670862,
            0.6654490124263246,
            0.7806385987847482,
            0.9537832369630466,
            0.8939212978268535,
            0.7661639435719141,
            0.7944345507846611,
            0.8300293426300561,
            0.8791118085065369,
            0.9138936297287705,
            0.5118477057529162,
            0.9703623862305226,
            0.8530637796401912,
            0.7045005355351618,
            0.9164688743823115,
            0.8199311977632362,
            0.7290112884159593,
            0.7320643870680359,
            0.8079216095439857,
            0.7504046691362499,
            0.7143396091085404,
            0.6500482028046816,
            0.77579697362929,
            0.7625523920901263,
            0.5472987942580847,
            0.8157816993054277,
            0.7855810039989015,
            0.7793594041560021,
            0.6720879410879068,
            0.7337334076179063,
            0.8587330337093805,
            0.6280650870220936,
            0.7620139356809517,
            0.68564853627477,
            0.7739907958211499,
            0.7313824403176843,
            0.772709418901021,
            0.7955973860806917,
            0.7211893672527615,
            0.8387452452934983,
            0.7454908080312836,
            0.694756433239219,
            0.6356025594348519,
            0.8729700567993683,
            0.7981199300476487,
            0.7823516724368915,
            0.7991366851021952,
            0.8097361351301514,
            0.8028072336839023,
            0.800812353716465,
            0.8329118455409369,
            0.8091958127170588,
            0.8528576018343283,
            0.9046396280112332,
            0.8003434217714979,
            0.824279412834861,
            0.8294229721882768,
            0.8894507870055169,
            0.9387044066538397,
            0.8704013410400124,
            0.8536289067182917,
            0.8713806198697803,
            0.8237935031624529,
            0.849118734772576,
            0.9987959698708622,
            0.8208581489835881,
            0.8264791106029691,
            0.8231389559391223,
            0.8649859474215851,
            0.8681068576395824,
            0.8391328572271656,
            0.886057825743406,
            0.9209180082425972,
            0.9025409805451621,
            0.8596650392966794,
            0.8411122553333763,
            0.8213231103753058,
            0.8476143055056101,
            0.8490540974566929,
            0.8818097640291866,
            0.8635580210925641,
            0.8407825525942959,
            0.8466573172613704,
            0.8944172970983253,
            0.935076030717621,
            0.8418969798944129,
            0.879066524491328,
            0.8337712253643584,
            0.8621471221948072,
            0.8154698159235814,
            0.833997226776349,
            0.834219467840233,
            0.7879727134068891,
            0.8553868348897669,
            0.8288712173989748,
            0.8443016262120105,
            0.8155178243575105,
            0.8742653854606268,
            0.9056138930586665,
            0.8352962591648485
           ]
          }
         ],
         "labelangle": 30,
         "labelside": "bottom",
         "line": {
          "color": [
           0.8466374343474291,
           0.8557390445916007,
           0.8558059003079794,
           0.8549629580727184,
           0.8536266559811778,
           0.8486620922096804,
           0.8372280573529738,
           0.8340316723871697,
           0.8508612443083975,
           0.8553220469521865,
           0.8514760908261685,
           0.8562344950750442,
           0.8560199085989543,
           0.8560244379728065,
           0.8560259834912608,
           0.855829008245066,
           0.8558102126374351,
           0.8553474756738562,
           0.8559041384989841,
           0.8544831038030891,
           0.8558055414629581,
           0.856133476078468,
           0.8561973740920318,
           0.8545998923661667,
           0.8558780988096436,
           0.8559648954294401,
           0.8548320993100375,
           0.8549875093605511,
           0.856342122520688,
           0.8552883190280071,
           0.8398280932434851,
           0.856173885381424,
           0.8561954422720175,
           0.8562153516784694,
           0.8556898889210504,
           0.8511669881821333,
           0.8560296470015898,
           0.8543193658263021,
           0.8551832835897966,
           0.8455649719421114,
           0.8562431127183048,
           0.8560074533029576,
           0.8559254225689219,
           0.8558960821628728,
           0.8483290433134019,
           0.8560366519267474,
           0.8556525740342694,
           0.856050992926793,
           0.8518158005317764,
           0.8344458763283767,
           0.856358418811956,
           0.8563377488318376,
           0.8563675231981205,
           0.8563587776937085,
           0.8563932461730749,
           0.856358978649859,
           0.8557931740646159,
           0.8549681837774464,
           0.8562691472101869,
           0.8562928907615497,
           0.8562352449966756,
           0.8564022562152671,
           0.8563329998607738,
           0.8557341961158371,
           0.8560837466672727,
           0.8564007396042319,
           0.8564330659226234,
           0.8555813373562713,
           0.8563843192718527,
           0.8538147654835239,
           0.8556556881750748,
           0.8565513787184509,
           0.8564319824270055,
           0.8560324914622532,
           0.8564014415917057,
           0.8561646067793902,
           0.8563698132754577,
           0.8563529383399353,
           0.856055415725198,
           0.8563268550139822,
           0.8563613207568774,
           0.8563947166130477,
           0.8562279592802015,
           0.8564099045049748,
           0.8563186087594324,
           0.856177133903161,
           0.856369390959,
           0.8564187442982623,
           0.8563238509748147,
           0.8556415152384301,
           0.8561223438570494,
           0.8564399649702259,
           0.8562816375660713,
           0.8564440084459907,
           0.8559062511097446,
           0.8563990633044992,
           0.8564691301319334,
           0.8555691901428393,
           0.8550392710331047,
           0.8563966452374516,
           0.855998890884989,
           0.8563846929562606,
           0.8561454795077927,
           0.8563374970948651,
           0.856284250032758,
           0.8563586584092817
          ],
          "colorbar": {
           "title": {
            "text": "Objective Value"
           }
          },
          "colorscale": [
           [
            0,
            "rgb(247,251,255)"
           ],
           [
            0.125,
            "rgb(222,235,247)"
           ],
           [
            0.25,
            "rgb(198,219,239)"
           ],
           [
            0.375,
            "rgb(158,202,225)"
           ],
           [
            0.5,
            "rgb(107,174,214)"
           ],
           [
            0.625,
            "rgb(66,146,198)"
           ],
           [
            0.75,
            "rgb(33,113,181)"
           ],
           [
            0.875,
            "rgb(8,81,156)"
           ],
           [
            1,
            "rgb(8,48,107)"
           ]
          ],
          "reversescale": false,
          "showscale": true
         },
         "type": "parcoords"
        }
       ],
       "layout": {
        "autosize": true,
        "template": {
         "data": {
          "bar": [
           {
            "error_x": {
             "color": "#2a3f5f"
            },
            "error_y": {
             "color": "#2a3f5f"
            },
            "marker": {
             "line": {
              "color": "#E5ECF6",
              "width": 0.5
             },
             "pattern": {
              "fillmode": "overlay",
              "size": 10,
              "solidity": 0.2
             }
            },
            "type": "bar"
           }
          ],
          "barpolar": [
           {
            "marker": {
             "line": {
              "color": "#E5ECF6",
              "width": 0.5
             },
             "pattern": {
              "fillmode": "overlay",
              "size": 10,
              "solidity": 0.2
             }
            },
            "type": "barpolar"
           }
          ],
          "carpet": [
           {
            "aaxis": {
             "endlinecolor": "#2a3f5f",
             "gridcolor": "white",
             "linecolor": "white",
             "minorgridcolor": "white",
             "startlinecolor": "#2a3f5f"
            },
            "baxis": {
             "endlinecolor": "#2a3f5f",
             "gridcolor": "white",
             "linecolor": "white",
             "minorgridcolor": "white",
             "startlinecolor": "#2a3f5f"
            },
            "type": "carpet"
           }
          ],
          "choropleth": [
           {
            "colorbar": {
             "outlinewidth": 0,
             "ticks": ""
            },
            "type": "choropleth"
           }
          ],
          "contour": [
           {
            "colorbar": {
             "outlinewidth": 0,
             "ticks": ""
            },
            "colorscale": [
             [
              0,
              "#0d0887"
             ],
             [
              0.1111111111111111,
              "#46039f"
             ],
             [
              0.2222222222222222,
              "#7201a8"
             ],
             [
              0.3333333333333333,
              "#9c179e"
             ],
             [
              0.4444444444444444,
              "#bd3786"
             ],
             [
              0.5555555555555556,
              "#d8576b"
             ],
             [
              0.6666666666666666,
              "#ed7953"
             ],
             [
              0.7777777777777778,
              "#fb9f3a"
             ],
             [
              0.8888888888888888,
              "#fdca26"
             ],
             [
              1,
              "#f0f921"
             ]
            ],
            "type": "contour"
           }
          ],
          "contourcarpet": [
           {
            "colorbar": {
             "outlinewidth": 0,
             "ticks": ""
            },
            "type": "contourcarpet"
           }
          ],
          "heatmap": [
           {
            "colorbar": {
             "outlinewidth": 0,
             "ticks": ""
            },
            "colorscale": [
             [
              0,
              "#0d0887"
             ],
             [
              0.1111111111111111,
              "#46039f"
             ],
             [
              0.2222222222222222,
              "#7201a8"
             ],
             [
              0.3333333333333333,
              "#9c179e"
             ],
             [
              0.4444444444444444,
              "#bd3786"
             ],
             [
              0.5555555555555556,
              "#d8576b"
             ],
             [
              0.6666666666666666,
              "#ed7953"
             ],
             [
              0.7777777777777778,
              "#fb9f3a"
             ],
             [
              0.8888888888888888,
              "#fdca26"
             ],
             [
              1,
              "#f0f921"
             ]
            ],
            "type": "heatmap"
           }
          ],
          "heatmapgl": [
           {
            "colorbar": {
             "outlinewidth": 0,
             "ticks": ""
            },
            "colorscale": [
             [
              0,
              "#0d0887"
             ],
             [
              0.1111111111111111,
              "#46039f"
             ],
             [
              0.2222222222222222,
              "#7201a8"
             ],
             [
              0.3333333333333333,
              "#9c179e"
             ],
             [
              0.4444444444444444,
              "#bd3786"
             ],
             [
              0.5555555555555556,
              "#d8576b"
             ],
             [
              0.6666666666666666,
              "#ed7953"
             ],
             [
              0.7777777777777778,
              "#fb9f3a"
             ],
             [
              0.8888888888888888,
              "#fdca26"
             ],
             [
              1,
              "#f0f921"
             ]
            ],
            "type": "heatmapgl"
           }
          ],
          "histogram": [
           {
            "marker": {
             "pattern": {
              "fillmode": "overlay",
              "size": 10,
              "solidity": 0.2
             }
            },
            "type": "histogram"
           }
          ],
          "histogram2d": [
           {
            "colorbar": {
             "outlinewidth": 0,
             "ticks": ""
            },
            "colorscale": [
             [
              0,
              "#0d0887"
             ],
             [
              0.1111111111111111,
              "#46039f"
             ],
             [
              0.2222222222222222,
              "#7201a8"
             ],
             [
              0.3333333333333333,
              "#9c179e"
             ],
             [
              0.4444444444444444,
              "#bd3786"
             ],
             [
              0.5555555555555556,
              "#d8576b"
             ],
             [
              0.6666666666666666,
              "#ed7953"
             ],
             [
              0.7777777777777778,
              "#fb9f3a"
             ],
             [
              0.8888888888888888,
              "#fdca26"
             ],
             [
              1,
              "#f0f921"
             ]
            ],
            "type": "histogram2d"
           }
          ],
          "histogram2dcontour": [
           {
            "colorbar": {
             "outlinewidth": 0,
             "ticks": ""
            },
            "colorscale": [
             [
              0,
              "#0d0887"
             ],
             [
              0.1111111111111111,
              "#46039f"
             ],
             [
              0.2222222222222222,
              "#7201a8"
             ],
             [
              0.3333333333333333,
              "#9c179e"
             ],
             [
              0.4444444444444444,
              "#bd3786"
             ],
             [
              0.5555555555555556,
              "#d8576b"
             ],
             [
              0.6666666666666666,
              "#ed7953"
             ],
             [
              0.7777777777777778,
              "#fb9f3a"
             ],
             [
              0.8888888888888888,
              "#fdca26"
             ],
             [
              1,
              "#f0f921"
             ]
            ],
            "type": "histogram2dcontour"
           }
          ],
          "mesh3d": [
           {
            "colorbar": {
             "outlinewidth": 0,
             "ticks": ""
            },
            "type": "mesh3d"
           }
          ],
          "parcoords": [
           {
            "line": {
             "colorbar": {
              "outlinewidth": 0,
              "ticks": ""
             }
            },
            "type": "parcoords"
           }
          ],
          "pie": [
           {
            "automargin": true,
            "type": "pie"
           }
          ],
          "scatter": [
           {
            "marker": {
             "colorbar": {
              "outlinewidth": 0,
              "ticks": ""
             }
            },
            "type": "scatter"
           }
          ],
          "scatter3d": [
           {
            "line": {
             "colorbar": {
              "outlinewidth": 0,
              "ticks": ""
             }
            },
            "marker": {
             "colorbar": {
              "outlinewidth": 0,
              "ticks": ""
             }
            },
            "type": "scatter3d"
           }
          ],
          "scattercarpet": [
           {
            "marker": {
             "colorbar": {
              "outlinewidth": 0,
              "ticks": ""
             }
            },
            "type": "scattercarpet"
           }
          ],
          "scattergeo": [
           {
            "marker": {
             "colorbar": {
              "outlinewidth": 0,
              "ticks": ""
             }
            },
            "type": "scattergeo"
           }
          ],
          "scattergl": [
           {
            "marker": {
             "colorbar": {
              "outlinewidth": 0,
              "ticks": ""
             }
            },
            "type": "scattergl"
           }
          ],
          "scattermapbox": [
           {
            "marker": {
             "colorbar": {
              "outlinewidth": 0,
              "ticks": ""
             }
            },
            "type": "scattermapbox"
           }
          ],
          "scatterpolar": [
           {
            "marker": {
             "colorbar": {
              "outlinewidth": 0,
              "ticks": ""
             }
            },
            "type": "scatterpolar"
           }
          ],
          "scatterpolargl": [
           {
            "marker": {
             "colorbar": {
              "outlinewidth": 0,
              "ticks": ""
             }
            },
            "type": "scatterpolargl"
           }
          ],
          "scatterternary": [
           {
            "marker": {
             "colorbar": {
              "outlinewidth": 0,
              "ticks": ""
             }
            },
            "type": "scatterternary"
           }
          ],
          "surface": [
           {
            "colorbar": {
             "outlinewidth": 0,
             "ticks": ""
            },
            "colorscale": [
             [
              0,
              "#0d0887"
             ],
             [
              0.1111111111111111,
              "#46039f"
             ],
             [
              0.2222222222222222,
              "#7201a8"
             ],
             [
              0.3333333333333333,
              "#9c179e"
             ],
             [
              0.4444444444444444,
              "#bd3786"
             ],
             [
              0.5555555555555556,
              "#d8576b"
             ],
             [
              0.6666666666666666,
              "#ed7953"
             ],
             [
              0.7777777777777778,
              "#fb9f3a"
             ],
             [
              0.8888888888888888,
              "#fdca26"
             ],
             [
              1,
              "#f0f921"
             ]
            ],
            "type": "surface"
           }
          ],
          "table": [
           {
            "cells": {
             "fill": {
              "color": "#EBF0F8"
             },
             "line": {
              "color": "white"
             }
            },
            "header": {
             "fill": {
              "color": "#C8D4E3"
             },
             "line": {
              "color": "white"
             }
            },
            "type": "table"
           }
          ]
         },
         "layout": {
          "annotationdefaults": {
           "arrowcolor": "#2a3f5f",
           "arrowhead": 0,
           "arrowwidth": 1
          },
          "autotypenumbers": "strict",
          "coloraxis": {
           "colorbar": {
            "outlinewidth": 0,
            "ticks": ""
           }
          },
          "colorscale": {
           "diverging": [
            [
             0,
             "#8e0152"
            ],
            [
             0.1,
             "#c51b7d"
            ],
            [
             0.2,
             "#de77ae"
            ],
            [
             0.3,
             "#f1b6da"
            ],
            [
             0.4,
             "#fde0ef"
            ],
            [
             0.5,
             "#f7f7f7"
            ],
            [
             0.6,
             "#e6f5d0"
            ],
            [
             0.7,
             "#b8e186"
            ],
            [
             0.8,
             "#7fbc41"
            ],
            [
             0.9,
             "#4d9221"
            ],
            [
             1,
             "#276419"
            ]
           ],
           "sequential": [
            [
             0,
             "#0d0887"
            ],
            [
             0.1111111111111111,
             "#46039f"
            ],
            [
             0.2222222222222222,
             "#7201a8"
            ],
            [
             0.3333333333333333,
             "#9c179e"
            ],
            [
             0.4444444444444444,
             "#bd3786"
            ],
            [
             0.5555555555555556,
             "#d8576b"
            ],
            [
             0.6666666666666666,
             "#ed7953"
            ],
            [
             0.7777777777777778,
             "#fb9f3a"
            ],
            [
             0.8888888888888888,
             "#fdca26"
            ],
            [
             1,
             "#f0f921"
            ]
           ],
           "sequentialminus": [
            [
             0,
             "#0d0887"
            ],
            [
             0.1111111111111111,
             "#46039f"
            ],
            [
             0.2222222222222222,
             "#7201a8"
            ],
            [
             0.3333333333333333,
             "#9c179e"
            ],
            [
             0.4444444444444444,
             "#bd3786"
            ],
            [
             0.5555555555555556,
             "#d8576b"
            ],
            [
             0.6666666666666666,
             "#ed7953"
            ],
            [
             0.7777777777777778,
             "#fb9f3a"
            ],
            [
             0.8888888888888888,
             "#fdca26"
            ],
            [
             1,
             "#f0f921"
            ]
           ]
          },
          "colorway": [
           "#636efa",
           "#EF553B",
           "#00cc96",
           "#ab63fa",
           "#FFA15A",
           "#19d3f3",
           "#FF6692",
           "#B6E880",
           "#FF97FF",
           "#FECB52"
          ],
          "font": {
           "color": "#2a3f5f"
          },
          "geo": {
           "bgcolor": "white",
           "lakecolor": "white",
           "landcolor": "#E5ECF6",
           "showlakes": true,
           "showland": true,
           "subunitcolor": "white"
          },
          "hoverlabel": {
           "align": "left"
          },
          "hovermode": "closest",
          "mapbox": {
           "style": "light"
          },
          "paper_bgcolor": "white",
          "plot_bgcolor": "#E5ECF6",
          "polar": {
           "angularaxis": {
            "gridcolor": "white",
            "linecolor": "white",
            "ticks": ""
           },
           "bgcolor": "#E5ECF6",
           "radialaxis": {
            "gridcolor": "white",
            "linecolor": "white",
            "ticks": ""
           }
          },
          "scene": {
           "xaxis": {
            "backgroundcolor": "#E5ECF6",
            "gridcolor": "white",
            "gridwidth": 2,
            "linecolor": "white",
            "showbackground": true,
            "ticks": "",
            "zerolinecolor": "white"
           },
           "yaxis": {
            "backgroundcolor": "#E5ECF6",
            "gridcolor": "white",
            "gridwidth": 2,
            "linecolor": "white",
            "showbackground": true,
            "ticks": "",
            "zerolinecolor": "white"
           },
           "zaxis": {
            "backgroundcolor": "#E5ECF6",
            "gridcolor": "white",
            "gridwidth": 2,
            "linecolor": "white",
            "showbackground": true,
            "ticks": "",
            "zerolinecolor": "white"
           }
          },
          "shapedefaults": {
           "line": {
            "color": "#2a3f5f"
           }
          },
          "ternary": {
           "aaxis": {
            "gridcolor": "white",
            "linecolor": "white",
            "ticks": ""
           },
           "baxis": {
            "gridcolor": "white",
            "linecolor": "white",
            "ticks": ""
           },
           "bgcolor": "#E5ECF6",
           "caxis": {
            "gridcolor": "white",
            "linecolor": "white",
            "ticks": ""
           }
          },
          "title": {
           "x": 0.05
          },
          "xaxis": {
           "automargin": true,
           "gridcolor": "white",
           "linecolor": "white",
           "ticks": "",
           "title": {
            "standoff": 15
           },
           "zerolinecolor": "white",
           "zerolinewidth": 2
          },
          "yaxis": {
           "automargin": true,
           "gridcolor": "white",
           "linecolor": "white",
           "ticks": "",
           "title": {
            "standoff": 15
           },
           "zerolinecolor": "white",
           "zerolinewidth": 2
          }
         }
        },
        "title": {
         "text": "Parallel Coordinate Plot"
        }
       }
      },
      "image/png": "[encoded data removed]",
      "text/html": [
       "<div>                            <div id=\"0cd52d8f-9a62-4973-a1a7-be5301a0fff6\" class=\"plotly-graph-div\" style=\"height:525px; width:100%;\"></div>            <script type=\"text/javascript\">                require([\"plotly\"], function(Plotly) {                    window.PLOTLYENV=window.PLOTLYENV || {};                                    if (document.getElementById(\"0cd52d8f-9a62-4973-a1a7-be5301a0fff6\")) {                    Plotly.newPlot(                        \"0cd52d8f-9a62-4973-a1a7-be5301a0fff6\",                        [{\"dimensions\":[{\"label\":\"Objective Value\",\"range\":[0.8340316723871697,0.8565513787184509],\"values\":[0.8466374343474291,0.8557390445916007,0.8558059003079794,0.8549629580727184,0.8536266559811778,0.8486620922096804,0.8372280573529738,0.8340316723871697,0.8508612443083975,0.8553220469521865,0.8514760908261685,0.8562344950750442,0.8560199085989543,0.8560244379728065,0.8560259834912608,0.855829008245066,0.8558102126374351,0.8553474756738562,0.8559041384989841,0.8544831038030891,0.8558055414629581,0.856133476078468,0.8561973740920318,0.8545998923661667,0.8558780988096436,0.8559648954294401,0.8548320993100375,0.8549875093605511,0.856342122520688,0.8552883190280071,0.8398280932434851,0.856173885381424,0.8561954422720175,0.8562153516784694,0.8556898889210504,0.8511669881821333,0.8560296470015898,0.8543193658263021,0.8551832835897966,0.8455649719421114,0.8562431127183048,0.8560074533029576,0.8559254225689219,0.8558960821628728,0.8483290433134019,0.8560366519267474,0.8556525740342694,0.856050992926793,0.8518158005317764,0.8344458763283767,0.856358418811956,0.8563377488318376,0.8563675231981205,0.8563587776937085,0.8563932461730749,0.856358978649859,0.8557931740646159,0.8549681837774464,0.8562691472101869,0.8562928907615497,0.8562352449966756,0.8564022562152671,0.8563329998607738,0.8557341961158371,0.8560837466672727,0.8564007396042319,0.8564330659226234,0.8555813373562713,0.8563843192718527,0.8538147654835239,0.8556556881750748,0.8565513787184509,0.8564319824270055,0.8560324914622532,0.8564014415917057,0.8561646067793902,0.8563698132754577,0.8563529383399353,0.856055415725198,0.8563268550139822,0.8563613207568774,0.8563947166130477,0.8562279592802015,0.8564099045049748,0.8563186087594324,0.856177133903161,0.856369390959,0.8564187442982623,0.8563238509748147,0.8556415152384301,0.8561223438570494,0.8564399649702259,0.8562816375660713,0.8564440084459907,0.8559062511097446,0.8563990633044992,0.8564691301319334,0.8555691901428393,0.8550392710331047,0.8563966452374516,0.855998890884989,0.8563846929562606,0.8561454795077927,0.8563374970948651,0.856284250032758,0.8563586584092817]},{\"label\":\"boosting_type\",\"range\":[0,1],\"ticktext\":[\"dart\",\"gbtree\"],\"tickvals\":[0,1],\"values\":[0,1,1,1,1,0,0,0,1,0,1,1,1,1,1,1,1,1,1,1,1,1,1,1,1,1,1,0,1,0,1,1]},{\"label\":\"colsample_bytree\",\"range\":[0.5024008555944218,0.9998374860539728],\"values\":[0.8540362888980227,0.8059264473611898,0.5852620618436457,0.5171942605576092,0.9474136752138245,0.6404672548436904,0.8645035840204937,0.864803089169032,0.7137705091792748,0.6143990827458112,0.5183967551313369,0.7615446919120884,0.7169912856401497,0.731057379200564,0.7889513246948714,0.7830972249607675,0.9966121888714187,0.689469351539377,0.8053016956980024,0.6690891271127065,0.9312404495902854,0.774168265892344,0.7759997072580538,0.7603761290878762,0.8336024522042269,0.8991243860465401,0.7589999114617614,0.6800402676827382,0.7621153365021868,0.8355858462731746,0.8924968757322083,0.7476876979164911,0.7368326432793232,0.8176934113982076,0.8458760637592395,0.8132140291724352,0.813791249732147,0.7131572775517909,0.8826104202213442,0.6446660647040973,0.5782950924982238,0.5621062696983861,0.5817147621039088,0.7953480719667241,0.7665578811393164,0.7031066473559647,0.5024008555944218,0.6396540818611671,0.7351161778755556,0.5453297349263679,0.8635012454953812,0.8714984269661147,0.9193360020448446,0.9698942964980198,0.9914210877839796,0.9951848977241132,0.9853526997860473,0.9606841329056053,0.9218556959479369,0.963352907564663,0.9153495909129736,0.9439122481475339,0.9447776386964706,0.9832096752854125,0.9681830744038181,0.9980192401722248,0.9451968891413521,0.9984300840393021,0.9460798430529082,0.9424469991859148,0.9819050779236904,0.906420714280384,0.9062246605416865,0.9106151933872851,0.9358992624775478,0.9344714437967213,0.9524458204781692,0.8924548166109834,0.931141000076453,0.9539284528451903,0.9041605571749745,0.9516661688675921,0.9761307898176694,0.9342279480865366,0.9288936978842286,0.8813402430504654,0.9376273909094136,0.9619954080332924,0.9587429660247568,0.9073218337333567,0.9712022910273183,0.9899445855743132,0.89502119590407,0.9264931809768645,0.9293579279363321,0.9753799794674011,0.9238787037667755,0.8787423667437946,0.8574655554055401,0.9136838050458493,0.9223369580703672,0.963608715834726,0.9998374860539728,0.9450320582299078,0.9858330507615761,0.8991310433980011]},{\"label\":\"depth\",\"range\":[3,10],\"values\":[10,9,5,10,8,3,9,5,6,3,5,7,7,7,7,8,6,8,7,4,6,7,7,8,9,6,7,8,5,5,4,6,4,4,4,5,4,3,10,5,9,9,10,9,3,9,5,8,6,10,5,5,5,5,5,5,5,5,6,5,4,5,5,5,6,4,4,4,4,3,4,4,4,3,4,4,4,4,3,4,3,4,4,4,4,3,4,3,3,3,4,4,4,4,3,4,4,4,3,4,3,4,4,4,4,4]},{\"label\":\"gamma\",\"range\":[0.19993672528592066,28.989286789157635],\"values\":[0.7154763794444932,4.27086643349605,2.045042630259857,27.288680022155585,17.977209366451447,16.32661288643163,23.16098336590978,19.162968393520874,0.8600318896484461,2.4016993038809105,9.816443289328578,8.284881753712686,9.372782184161135,10.886186434202674,10.610497578183036,6.457647851616201,13.011981542590487,6.951752029053317,14.241476350114667,21.2032954944189,6.437142803294837,12.161563654809155,12.045601020480355,12.977195446068992,16.24882259465899,8.901442290676115,12.067408808255328,4.941691138876938,7.924697183143053,8.178598677082038,4.751562402424755,11.786544081495432,14.104044491148827,15.132207821693502,16.003004733594615,18.339521805833126,3.231800324549976,7.55156108499314,28.989286789157635,22.451580996692105,15.06729167069877,15.110468939876249,19.562605109531056,17.463030632219795,10.03826374037798,14.018729964945198,25.406227628043162,17.338000355424136,10.76740799995206,5.514128357293474,0.2275428930454222,1.9733141865374189,0.19993672528592066,1.073441918679896,0.7593119822403946,0.2626559815486085,0.22075355989045264,1.8596539108395218,3.5044105665571967,1.2322958331147977,3.179630471899186,1.7747560732457153,0.25826237594584317,1.1086258535734832,2.6360383762503785,4.196701817707858,4.076972898601413,3.67730465840618,5.753715241192608,4.355269226980947,5.756655157397377,1.472322916021486,2.35228635433434,2.3538106067882993,4.099868216783808,4.055690034917491,5.571212092355974,6.7968969044681735,2.5923152224220436,4.58345456626113,1.6928108327305926,5.6144337701025,5.064041976949963,6.127688962730751,3.1419357628700837,6.269503363885141,4.11458155213521,2.855479915178445,9.050805783420586,2.7565783569608895,7.014196546595687,1.4158100864408194,1.806112177070693,4.010311677204869,3.754197540433826,2.3241471136989253,2.988270964846946,1.389683568636391,3.1085942239890474,4.821397987898969,1.8987468548285409,3.907660538565329,2.9465616981795257,0.9045378704346724,4.752056745398084,2.456295781045295]},{\"label\":\"learning_rate\",\"range\":[-2.934990958247767,-0.4772062739111871],\"ticktext\":[\"0.00116\",\"0.01\",\"0.1\",\"0.333\"],\"tickvals\":[-2.934990958247767,-2,-1,-0.4772062739111871],\"values\":[-1.0953078501180944,-2.4474808955098974,-1.8132785408232757,-0.8965016033705335,-2.1889090800539575,-2.4900408347132097,-2.8060147527531214,-2.698501755976862,-2.6888085974509086,-1.3440219307859427,-0.4772062739111871,-2.0064911108161825,-1.7931786974481372,-1.8552803454677826,-2.02211884673757,-2.188539516020559,-1.4491351576408822,-2.1944694667750624,-1.442589325219651,-2.0817706321862497,-1.5685803019349147,-1.9212421236821053,-1.9611405174300318,-2.388639414246062,-1.908281310154772,-1.6505492165250035,-1.1491735386084436,-2.3795657292162677,-1.9594033849114418,-1.1998154870780764,-2.934990958247767,-1.932083623742196,-1.6887277101095592,-1.659059387727599,-0.9171982070792294,-2.265265640083894,-1.5396163140807266,-2.0547200874792195,-1.7419396874567319,-2.5755892147162136,-2.0953745866718294,-2.298880926891394,-2.08822537117255,-1.793412271758439,-2.4943573177817897,-2.0068490913286827,-1.2860127883495411,-1.6210381805830056,-2.170236807712742,-0.5367283201794306,-1.8477744927621926,-1.836778589365864,-1.745180956071293,-1.8301275605895988,-1.8578731241798847,-1.8349755647213652,-1.5158427004315103,-1.4040305727814935,-1.871562343236843,-1.7431189958495448,-1.7619819417061624,-1.8570795634733956,-1.8476816263283558,-1.5623601802602478,-1.9711570910250786,-1.6872831820994953,-1.613725037065688,-1.3125051657719895,-1.472545061408713,-1.4057109378292814,-1.0273725699907434,-1.6057960574213737,-1.627497363632497,-1.6132249872307285,-1.4989771639676979,-1.4078684570092657,-1.4922574798273889,-1.668244424944583,-1.2691347179184786,-1.5795109214372183,-1.4735078642081505,-1.501989393739111,-1.3544565873794006,-1.6684239792372306,-1.6793959563254222,-1.2121071176562355,-1.6098878361528601,-1.5271181759236023,-1.5450429469958824,-1.7024063757175008,-1.37227187088123,-1.6917105002246953,-1.5335265703082834,-1.7076165182022065,-1.711527311661453,-1.646575736018377,-1.6059182149811622,-1.9015384062132759,-1.7855468631603342,-1.6278990062350716,-1.5890727155324786,-1.699889972572633,-1.7947336635375373,-1.734561684664734,-1.4255874095174663,-1.5725467101181012]},{\"label\":\"min_child_weight\",\"range\":[0.03392859735244336,9.96782160401735],\"values\":[6.011549002420345,2.913000172840221,6.075840974162483,4.952273924202591,9.395049916700327,3.5681765136091994,7.068866581132324,3.2525080369454438,5.227805560990559,7.555755834291944,0.5805898227971129,1.4406385155681678,0.1916371869198199,0.0707407926650453,1.6424244244024626,1.5480879810114838,1.9316249676923922,1.7054423240425987,4.258030524733062,2.380799051125835,1.229939728098651,0.2883434488090604,0.8273282004450664,0.8712819787818595,0.03392859735244336,2.7552902653955123,0.9118813898108533,2.234027454560814,3.720131482782967,3.684965132080414,4.245125043796416,1.1022742718401026,2.6570106583041646,2.5951912787344598,4.35732666674642,3.1442797926832586,5.530792581662228,6.393923272991792,3.477446627910647,2.3875755577152855,4.051589482395663,3.9079801427953282,3.0173882472423896,9.348986590255144,5.200381669623544,2.0144477444593623,4.5976374208666915,0.6255107048349214,1.3052892722913523,4.6881687517153114,5.985685987087704,6.417263117838369,6.788785001996106,7.524417735298012,7.645455642183239,7.7773105702055005,7.751770401533424,8.138994487501494,8.565872229618165,7.0992662146172245,7.127889448663641,6.549801067539346,5.797610003200026,6.656831247386088,7.445535319193586,8.66997831276011,8.502260561072873,8.836532708170116,8.071509837934347,8.108051335227486,9.774989823380597,8.829122644339664,8.94475097424538,8.894775151603874,8.348870602404345,8.605946565788422,9.10169144941552,9.904921456146935,8.230664469765959,9.474634902941043,8.243697874302109,9.199086613598812,8.649869516844669,9.208603156801868,9.22128290469086,8.424684902090178,8.976697647451342,9.562965222256228,9.79941906780815,9.584928489553324,9.251436563038231,8.785170981571474,9.539730807961389,8.769657196481948,8.730307369657602,8.41329609256094,8.962923644909678,8.973621731401261,9.400548515731478,9.96782160401735,7.867648956942141,8.409919425714781,8.978884184725953,9.64313080318281,8.71895391776848,8.471105931073726]},{\"label\":\"n_estimators\",\"range\":[1071,5966],\"values\":[2810,5847,2390,5740,2220,5602,1618,1277,5425,1450,3520,4179,4051,4195,4498,4865,4645,3517,4972,4133,3040,4169,4541,3790,5129,4404,3087,3823,4651,5218,4604,3864,3322,3143,2507,2648,2097,4820,5966,2844,5570,5603,5255,5726,5433,4443,3619,3273,1820,4747,4256,4383,4313,4306,4312,4297,4026,4303,3968,4996,3665,4339,4262,4656,4964,3984,4090,4033,3777,1071,3757,3878,3495,3406,3589,3516,3932,3640,4140,3803,3224,3907,2981,3895,3423,4134,4512,3903,3936,3573,3674,4112,3902,4067,4087,3403,3702,3716,3344,3558,3158,4026,3823,4189,4423,4035]},{\"label\":\"reg_alpha\",\"range\":[-2.9740382059674504,1.4732946177171689],\"ticktext\":[\"0.00106\",\"0.01\",\"0.1\",\"1\",\"10\",\"29.7\"],\"tickvals\":[-2.9740382059674504,-2,-1,0,1,1.4732946177171689],\"values\":[-0.319733376083192,-2.185947574678384,0.5153279854476062,-1.6362072195536328,-0.6715924084848277,-2.797511943525283,1.418412479859352,0.864218693008977,0.19328339669407435,-1.5925901555749258,0.2947924033633787,-2.7109941223706935,-1.3099123113652893,-2.875769287350453,-2.6904966393865006,-2.304063602780617,-2.2321743704543993,-1.1498183035339775,-2.939864765815686,-1.9558247392186645,-2.67133990108486,-2.486927661796558,-2.517519042996593,-1.8657907904276028,-2.4040271372979514,-1.0582477334931588,-2.477003465564606,-1.821157777789935,-2.0897764179932805,-0.3630012776157598,-2.0190433129184413,-2.524818288842333,-2.9740382059674504,-2.948529149223541,-2.1440863105489214,-1.5857139562344817,-2.647186990853836,-2.1922217421128782,-0.7189267073060213,-2.8178043265101227,-1.7092527007689506,-1.423927521446107,-1.740469177302392,-2.0130374556256845,-2.636914817805933,-2.3146042405535794,-2.9610709849425425,-1.519415688421394,-0.4310780448496057,-0.9738212560647208,-2.1598862133912804,-2.7395138357253876,-2.1254386971434713,-2.0860838942085067,-2.0904921195667274,-2.106539188761615,-1.2825841413003487,-2.1012137895761316,-1.8896542810831,0.9545136249963181,-2.2379444814825784,-2.376557647852112,-2.34315760384398,-2.053006445378961,-1.9225428234957298,-0.09944626472450466,0.9806860712244636,-0.06867962845079065,1.2712745203219131,1.1095550349693404,0.5288671985374475,1.4292302001645636,1.430786774809709,1.446083427235361,1.259131019802113,1.202603485392058,1.2831653409050527,0.6348246910065218,0.8028117314217703,1.0131258624232466,1.3068930454123173,1.2510990364455736,1.3588748771549848,1.144706017235684,0.7581212759721245,0.2604781137067044,1.1166904081161246,1.4602046486857294,1.4506504109679303,0.9230298276865767,1.1362781612475632,1.0295107461982953,1.0518593758992567,1.2282513022336639,1.3874457738184347,0.694790716746126,0.40996228659545,0.8487410356241111,1.1833167418574404,0.49400169645642816,1.0033957385230932,-0.5927047541260266,-0.12317461629628113,1.4732946177171689,1.3354124376228478,0.028115314453037162]},{\"label\":\"reg_lambda\",\"range\":[-2.9787779095512397,1.4504315767529254],\"ticktext\":[\"0.00105\",\"0.01\",\"0.1\",\"1\",\"10\",\"28.2\"],\"tickvals\":[-2.9787779095512397,-2,-1,0,1,1.4504315767529254],\"values\":[-2.3014856287427023,-2.17887577072375,-2.1060362658885436,-2.5627101023886167,-0.5523117881784785,-1.543456661334811,0.4574334704641471,-0.20941870835338852,0.40612691143564345,-0.7230673490590398,-1.5153081776294504,-1.7760219659301784,-1.5160399798580426,-1.2527685233371058,-1.0723670014134496,-2.9787779095512397,-0.1680127277486899,-1.0568307456638801,1.4380682041734238,-1.763860238620506,-0.9723215277889551,-1.1844041183311504,-1.9770219851383688,-2.7578743211268733,-1.8862248515592197,-2.48459227010337,-1.8960953906190219,-0.362152629796882,-1.359467443013048,-2.1437434794180485,-1.6462348041684467,-1.218648109012783,-1.391242609917177,-2.1962558483522256,-2.2912272918420173,-1.9932241104100046,-2.5296909684124795,-2.277189851007113,-2.7491604689315357,-2.0756845906114365,-0.7893447698876531,-0.7676925662178997,-1.6610449247667658,-0.8034847674993661,0.1065867471687519,-1.4204414368975398,-0.5464993007397064,-1.7655232741243592,-2.421660909044363,-1.3329510634899637,0.9151466495044602,0.5589834553176183,1.019485256513924,1.0744254711611747,1.0749542505464942,1.1054367269018164,1.123787726998939,0.872966281169514,1.434286701723215,0.8534124796107252,1.2171630002659726,0.6345719785881385,0.7300217055329711,1.0897522551640104,0.25116612449872533,1.2835066759899,1.2830022785155586,1.3288015713950136,0.6311072058703752,0.682990134817393,1.2846130441070722,1.035019629625687,0.39131206621581394,0.3937082668678347,0.989212169493341,0.6864798189480581,0.0614046611655539,0.4696363025635091,0.9184508061320759,1.4504315767529254,1.2114177406128437,0.13181251513140801,0.5907310351227326,0.2975649448060197,0.22297763834019363,0.7662225202287148,-0.1578505815097807,0.9806676053105434,0.3339951380743249,-0.044082542438348395,0.9773293623334858,0.5029781968105227,0.5186501120863302,0.8179325329331314,0.8196876951175441,1.32673026006784,1.1938198034407526,0.9516304058067613,0.8010744912501718,1.2017394643052028,0.3799397184855491,1.3507588362766603,1.0186480912144578,1.2107319781908938,0.6290831905244951,1.1455385280560506]},{\"label\":\"subsample\",\"range\":[0.5118477057529162,0.9987959698708622],\"values\":[0.5779972601681014,0.6521211214797689,0.7571172192068059,0.8421165132560784,0.5924272277627636,0.6943386448447411,0.5993578407670862,0.6654490124263246,0.7806385987847482,0.9537832369630466,0.8939212978268535,0.7661639435719141,0.7944345507846611,0.8300293426300561,0.8791118085065369,0.9138936297287705,0.5118477057529162,0.9703623862305226,0.8530637796401912,0.7045005355351618,0.9164688743823115,0.8199311977632362,0.7290112884159593,0.7320643870680359,0.8079216095439857,0.7504046691362499,0.7143396091085404,0.6500482028046816,0.77579697362929,0.7625523920901263,0.5472987942580847,0.8157816993054277,0.7855810039989015,0.7793594041560021,0.6720879410879068,0.7337334076179063,0.8587330337093805,0.6280650870220936,0.7620139356809517,0.68564853627477,0.7739907958211499,0.7313824403176843,0.772709418901021,0.7955973860806917,0.7211893672527615,0.8387452452934983,0.7454908080312836,0.694756433239219,0.6356025594348519,0.8729700567993683,0.7981199300476487,0.7823516724368915,0.7991366851021952,0.8097361351301514,0.8028072336839023,0.800812353716465,0.8329118455409369,0.8091958127170588,0.8528576018343283,0.9046396280112332,0.8003434217714979,0.824279412834861,0.8294229721882768,0.8894507870055169,0.9387044066538397,0.8704013410400124,0.8536289067182917,0.8713806198697803,0.8237935031624529,0.849118734772576,0.9987959698708622,0.8208581489835881,0.8264791106029691,0.8231389559391223,0.8649859474215851,0.8681068576395824,0.8391328572271656,0.886057825743406,0.9209180082425972,0.9025409805451621,0.8596650392966794,0.8411122553333763,0.8213231103753058,0.8476143055056101,0.8490540974566929,0.8818097640291866,0.8635580210925641,0.8407825525942959,0.8466573172613704,0.8944172970983253,0.935076030717621,0.8418969798944129,0.879066524491328,0.8337712253643584,0.8621471221948072,0.8154698159235814,0.833997226776349,0.834219467840233,0.7879727134068891,0.8553868348897669,0.8288712173989748,0.8443016262120105,0.8155178243575105,0.8742653854606268,0.9056138930586665,0.8352962591648485]}],\"labelangle\":30,\"labelside\":\"bottom\",\"line\":{\"color\":[0.8466374343474291,0.8557390445916007,0.8558059003079794,0.8549629580727184,0.8536266559811778,0.8486620922096804,0.8372280573529738,0.8340316723871697,0.8508612443083975,0.8553220469521865,0.8514760908261685,0.8562344950750442,0.8560199085989543,0.8560244379728065,0.8560259834912608,0.855829008245066,0.8558102126374351,0.8553474756738562,0.8559041384989841,0.8544831038030891,0.8558055414629581,0.856133476078468,0.8561973740920318,0.8545998923661667,0.8558780988096436,0.8559648954294401,0.8548320993100375,0.8549875093605511,0.856342122520688,0.8552883190280071,0.8398280932434851,0.856173885381424,0.8561954422720175,0.8562153516784694,0.8556898889210504,0.8511669881821333,0.8560296470015898,0.8543193658263021,0.8551832835897966,0.8455649719421114,0.8562431127183048,0.8560074533029576,0.8559254225689219,0.8558960821628728,0.8483290433134019,0.8560366519267474,0.8556525740342694,0.856050992926793,0.8518158005317764,0.8344458763283767,0.856358418811956,0.8563377488318376,0.8563675231981205,0.8563587776937085,0.8563932461730749,0.856358978649859,0.8557931740646159,0.8549681837774464,0.8562691472101869,0.8562928907615497,0.8562352449966756,0.8564022562152671,0.8563329998607738,0.8557341961158371,0.8560837466672727,0.8564007396042319,0.8564330659226234,0.8555813373562713,0.8563843192718527,0.8538147654835239,0.8556556881750748,0.8565513787184509,0.8564319824270055,0.8560324914622532,0.8564014415917057,0.8561646067793902,0.8563698132754577,0.8563529383399353,0.856055415725198,0.8563268550139822,0.8563613207568774,0.8563947166130477,0.8562279592802015,0.8564099045049748,0.8563186087594324,0.856177133903161,0.856369390959,0.8564187442982623,0.8563238509748147,0.8556415152384301,0.8561223438570494,0.8564399649702259,0.8562816375660713,0.8564440084459907,0.8559062511097446,0.8563990633044992,0.8564691301319334,0.8555691901428393,0.8550392710331047,0.8563966452374516,0.855998890884989,0.8563846929562606,0.8561454795077927,0.8563374970948651,0.856284250032758,0.8563586584092817],\"colorbar\":{\"title\":{\"text\":\"Objective Value\"}},\"colorscale\":[[0.0,\"rgb(247,251,255)\"],[0.125,\"rgb(222,235,247)\"],[0.25,\"rgb(198,219,239)\"],[0.375,\"rgb(158,202,225)\"],[0.5,\"rgb(107,174,214)\"],[0.625,\"rgb(66,146,198)\"],[0.75,\"rgb(33,113,181)\"],[0.875,\"rgb(8,81,156)\"],[1.0,\"rgb(8,48,107)\"]],\"reversescale\":false,\"showscale\":true},\"type\":\"parcoords\"}],                        {\"template\":{\"data\":{\"bar\":[{\"error_x\":{\"color\":\"#2a3f5f\"},\"error_y\":{\"color\":\"#2a3f5f\"},\"marker\":{\"line\":{\"color\":\"#E5ECF6\",\"width\":0.5},\"pattern\":{\"fillmode\":\"overlay\",\"size\":10,\"solidity\":0.2}},\"type\":\"bar\"}],\"barpolar\":[{\"marker\":{\"line\":{\"color\":\"#E5ECF6\",\"width\":0.5},\"pattern\":{\"fillmode\":\"overlay\",\"size\":10,\"solidity\":0.2}},\"type\":\"barpolar\"}],\"carpet\":[{\"aaxis\":{\"endlinecolor\":\"#2a3f5f\",\"gridcolor\":\"white\",\"linecolor\":\"white\",\"minorgridcolor\":\"white\",\"startlinecolor\":\"#2a3f5f\"},\"baxis\":{\"endlinecolor\":\"#2a3f5f\",\"gridcolor\":\"white\",\"linecolor\":\"white\",\"minorgridcolor\":\"white\",\"startlinecolor\":\"#2a3f5f\"},\"type\":\"carpet\"}],\"choropleth\":[{\"colorbar\":{\"outlinewidth\":0,\"ticks\":\"\"},\"type\":\"choropleth\"}],\"contour\":[{\"colorbar\":{\"outlinewidth\":0,\"ticks\":\"\"},\"colorscale\":[[0.0,\"#0d0887\"],[0.1111111111111111,\"#46039f\"],[0.2222222222222222,\"#7201a8\"],[0.3333333333333333,\"#9c179e\"],[0.4444444444444444,\"#bd3786\"],[0.5555555555555556,\"#d8576b\"],[0.6666666666666666,\"#ed7953\"],[0.7777777777777778,\"#fb9f3a\"],[0.8888888888888888,\"#fdca26\"],[1.0,\"#f0f921\"]],\"type\":\"contour\"}],\"contourcarpet\":[{\"colorbar\":{\"outlinewidth\":0,\"ticks\":\"\"},\"type\":\"contourcarpet\"}],\"heatmap\":[{\"colorbar\":{\"outlinewidth\":0,\"ticks\":\"\"},\"colorscale\":[[0.0,\"#0d0887\"],[0.1111111111111111,\"#46039f\"],[0.2222222222222222,\"#7201a8\"],[0.3333333333333333,\"#9c179e\"],[0.4444444444444444,\"#bd3786\"],[0.5555555555555556,\"#d8576b\"],[0.6666666666666666,\"#ed7953\"],[0.7777777777777778,\"#fb9f3a\"],[0.8888888888888888,\"#fdca26\"],[1.0,\"#f0f921\"]],\"type\":\"heatmap\"}],\"heatmapgl\":[{\"colorbar\":{\"outlinewidth\":0,\"ticks\":\"\"},\"colorscale\":[[0.0,\"#0d0887\"],[0.1111111111111111,\"#46039f\"],[0.2222222222222222,\"#7201a8\"],[0.3333333333333333,\"#9c179e\"],[0.4444444444444444,\"#bd3786\"],[0.5555555555555556,\"#d8576b\"],[0.6666666666666666,\"#ed7953\"],[0.7777777777777778,\"#fb9f3a\"],[0.8888888888888888,\"#fdca26\"],[1.0,\"#f0f921\"]],\"type\":\"heatmapgl\"}],\"histogram\":[{\"marker\":{\"pattern\":{\"fillmode\":\"overlay\",\"size\":10,\"solidity\":0.2}},\"type\":\"histogram\"}],\"histogram2d\":[{\"colorbar\":{\"outlinewidth\":0,\"ticks\":\"\"},\"colorscale\":[[0.0,\"#0d0887\"],[0.1111111111111111,\"#46039f\"],[0.2222222222222222,\"#7201a8\"],[0.3333333333333333,\"#9c179e\"],[0.4444444444444444,\"#bd3786\"],[0.5555555555555556,\"#d8576b\"],[0.6666666666666666,\"#ed7953\"],[0.7777777777777778,\"#fb9f3a\"],[0.8888888888888888,\"#fdca26\"],[1.0,\"#f0f921\"]],\"type\":\"histogram2d\"}],\"histogram2dcontour\":[{\"colorbar\":{\"outlinewidth\":0,\"ticks\":\"\"},\"colorscale\":[[0.0,\"#0d0887\"],[0.1111111111111111,\"#46039f\"],[0.2222222222222222,\"#7201a8\"],[0.3333333333333333,\"#9c179e\"],[0.4444444444444444,\"#bd3786\"],[0.5555555555555556,\"#d8576b\"],[0.6666666666666666,\"#ed7953\"],[0.7777777777777778,\"#fb9f3a\"],[0.8888888888888888,\"#fdca26\"],[1.0,\"#f0f921\"]],\"type\":\"histogram2dcontour\"}],\"mesh3d\":[{\"colorbar\":{\"outlinewidth\":0,\"ticks\":\"\"},\"type\":\"mesh3d\"}],\"parcoords\":[{\"line\":{\"colorbar\":{\"outlinewidth\":0,\"ticks\":\"\"}},\"type\":\"parcoords\"}],\"pie\":[{\"automargin\":true,\"type\":\"pie\"}],\"scatter\":[{\"marker\":{\"colorbar\":{\"outlinewidth\":0,\"ticks\":\"\"}},\"type\":\"scatter\"}],\"scatter3d\":[{\"line\":{\"colorbar\":{\"outlinewidth\":0,\"ticks\":\"\"}},\"marker\":{\"colorbar\":{\"outlinewidth\":0,\"ticks\":\"\"}},\"type\":\"scatter3d\"}],\"scattercarpet\":[{\"marker\":{\"colorbar\":{\"outlinewidth\":0,\"ticks\":\"\"}},\"type\":\"scattercarpet\"}],\"scattergeo\":[{\"marker\":{\"colorbar\":{\"outlinewidth\":0,\"ticks\":\"\"}},\"type\":\"scattergeo\"}],\"scattergl\":[{\"marker\":{\"colorbar\":{\"outlinewidth\":0,\"ticks\":\"\"}},\"type\":\"scattergl\"}],\"scattermapbox\":[{\"marker\":{\"colorbar\":{\"outlinewidth\":0,\"ticks\":\"\"}},\"type\":\"scattermapbox\"}],\"scatterpolar\":[{\"marker\":{\"colorbar\":{\"outlinewidth\":0,\"ticks\":\"\"}},\"type\":\"scatterpolar\"}],\"scatterpolargl\":[{\"marker\":{\"colorbar\":{\"outlinewidth\":0,\"ticks\":\"\"}},\"type\":\"scatterpolargl\"}],\"scatterternary\":[{\"marker\":{\"colorbar\":{\"outlinewidth\":0,\"ticks\":\"\"}},\"type\":\"scatterternary\"}],\"surface\":[{\"colorbar\":{\"outlinewidth\":0,\"ticks\":\"\"},\"colorscale\":[[0.0,\"#0d0887\"],[0.1111111111111111,\"#46039f\"],[0.2222222222222222,\"#7201a8\"],[0.3333333333333333,\"#9c179e\"],[0.4444444444444444,\"#bd3786\"],[0.5555555555555556,\"#d8576b\"],[0.6666666666666666,\"#ed7953\"],[0.7777777777777778,\"#fb9f3a\"],[0.8888888888888888,\"#fdca26\"],[1.0,\"#f0f921\"]],\"type\":\"surface\"}],\"table\":[{\"cells\":{\"fill\":{\"color\":\"#EBF0F8\"},\"line\":{\"color\":\"white\"}},\"header\":{\"fill\":{\"color\":\"#C8D4E3\"},\"line\":{\"color\":\"white\"}},\"type\":\"table\"}]},\"layout\":{\"annotationdefaults\":{\"arrowcolor\":\"#2a3f5f\",\"arrowhead\":0,\"arrowwidth\":1},\"autotypenumbers\":\"strict\",\"coloraxis\":{\"colorbar\":{\"outlinewidth\":0,\"ticks\":\"\"}},\"colorscale\":{\"diverging\":[[0,\"#8e0152\"],[0.1,\"#c51b7d\"],[0.2,\"#de77ae\"],[0.3,\"#f1b6da\"],[0.4,\"#fde0ef\"],[0.5,\"#f7f7f7\"],[0.6,\"#e6f5d0\"],[0.7,\"#b8e186\"],[0.8,\"#7fbc41\"],[0.9,\"#4d9221\"],[1,\"#276419\"]],\"sequential\":[[0.0,\"#0d0887\"],[0.1111111111111111,\"#46039f\"],[0.2222222222222222,\"#7201a8\"],[0.3333333333333333,\"#9c179e\"],[0.4444444444444444,\"#bd3786\"],[0.5555555555555556,\"#d8576b\"],[0.6666666666666666,\"#ed7953\"],[0.7777777777777778,\"#fb9f3a\"],[0.8888888888888888,\"#fdca26\"],[1.0,\"#f0f921\"]],\"sequentialminus\":[[0.0,\"#0d0887\"],[0.1111111111111111,\"#46039f\"],[0.2222222222222222,\"#7201a8\"],[0.3333333333333333,\"#9c179e\"],[0.4444444444444444,\"#bd3786\"],[0.5555555555555556,\"#d8576b\"],[0.6666666666666666,\"#ed7953\"],[0.7777777777777778,\"#fb9f3a\"],[0.8888888888888888,\"#fdca26\"],[1.0,\"#f0f921\"]]},\"colorway\":[\"#636efa\",\"#EF553B\",\"#00cc96\",\"#ab63fa\",\"#FFA15A\",\"#19d3f3\",\"#FF6692\",\"#B6E880\",\"#FF97FF\",\"#FECB52\"],\"font\":{\"color\":\"#2a3f5f\"},\"geo\":{\"bgcolor\":\"white\",\"lakecolor\":\"white\",\"landcolor\":\"#E5ECF6\",\"showlakes\":true,\"showland\":true,\"subunitcolor\":\"white\"},\"hoverlabel\":{\"align\":\"left\"},\"hovermode\":\"closest\",\"mapbox\":{\"style\":\"light\"},\"paper_bgcolor\":\"white\",\"plot_bgcolor\":\"#E5ECF6\",\"polar\":{\"angularaxis\":{\"gridcolor\":\"white\",\"linecolor\":\"white\",\"ticks\":\"\"},\"bgcolor\":\"#E5ECF6\",\"radialaxis\":{\"gridcolor\":\"white\",\"linecolor\":\"white\",\"ticks\":\"\"}},\"scene\":{\"xaxis\":{\"backgroundcolor\":\"#E5ECF6\",\"gridcolor\":\"white\",\"gridwidth\":2,\"linecolor\":\"white\",\"showbackground\":true,\"ticks\":\"\",\"zerolinecolor\":\"white\"},\"yaxis\":{\"backgroundcolor\":\"#E5ECF6\",\"gridcolor\":\"white\",\"gridwidth\":2,\"linecolor\":\"white\",\"showbackground\":true,\"ticks\":\"\",\"zerolinecolor\":\"white\"},\"zaxis\":{\"backgroundcolor\":\"#E5ECF6\",\"gridcolor\":\"white\",\"gridwidth\":2,\"linecolor\":\"white\",\"showbackground\":true,\"ticks\":\"\",\"zerolinecolor\":\"white\"}},\"shapedefaults\":{\"line\":{\"color\":\"#2a3f5f\"}},\"ternary\":{\"aaxis\":{\"gridcolor\":\"white\",\"linecolor\":\"white\",\"ticks\":\"\"},\"baxis\":{\"gridcolor\":\"white\",\"linecolor\":\"white\",\"ticks\":\"\"},\"bgcolor\":\"#E5ECF6\",\"caxis\":{\"gridcolor\":\"white\",\"linecolor\":\"white\",\"ticks\":\"\"}},\"title\":{\"x\":0.05},\"xaxis\":{\"automargin\":true,\"gridcolor\":\"white\",\"linecolor\":\"white\",\"ticks\":\"\",\"title\":{\"standoff\":15},\"zerolinecolor\":\"white\",\"zerolinewidth\":2},\"yaxis\":{\"automargin\":true,\"gridcolor\":\"white\",\"linecolor\":\"white\",\"ticks\":\"\",\"title\":{\"standoff\":15},\"zerolinecolor\":\"white\",\"zerolinewidth\":2}}},\"title\":{\"text\":\"Parallel Coordinate Plot\"}},                        {\"responsive\": true}                    ).then(function(){\n",
       "                            \n",
       "var gd = document.getElementById('0cd52d8f-9a62-4973-a1a7-be5301a0fff6');\n",
       "var x = new MutationObserver(function (mutations, observer) {{\n",
       "        var display = window.getComputedStyle(gd).display;\n",
       "        if (!display || display === 'none') {{\n",
       "            console.log([gd, 'removed!']);\n",
       "            Plotly.purge(gd);\n",
       "            observer.disconnect();\n",
       "        }}\n",
       "}});\n",
       "\n",
       "// Listen for the removal of the full notebook cells\n",
       "var notebookContainer = gd.closest('#notebook-container');\n",
       "if (notebookContainer) {{\n",
       "    x.observe(notebookContainer, {childList: true});\n",
       "}}\n",
       "\n",
       "// Listen for the clearing of the current output cell\n",
       "var outputEl = gd.closest('.output');\n",
       "if (outputEl) {{\n",
       "    x.observe(outputEl, {childList: true});\n",
       "}}\n",
       "\n",
       "                        })                };                });            </script>        </div>"
      ]
     },
     "metadata": {},
     "output_type": "display_data"
    }
   ],
   "source": [
    "optuna.visualization.plot_parallel_coordinate(study)"
   ]
  }
 ],
 "metadata": {
  "colab": {
   "collapsed_sections": [],
   "name": "sweep_lightgbm_20210922.ipynb",
   "provenance": []
  },
  "kernelspec": {
   "display_name": "Python 3",
   "language": "python",
   "name": "python3"
  },
  "language_info": {
   "codemirror_mode": {
    "name": "ipython",
    "version": 3
   },
   "file_extension": ".py",
   "mimetype": "text/x-python",
   "name": "python",
   "nbconvert_exporter": "python",
   "pygments_lexer": "ipython3",
   "version": "3.8.11"
  }
 },
 "nbformat": 4,
 "nbformat_minor": 5
}
