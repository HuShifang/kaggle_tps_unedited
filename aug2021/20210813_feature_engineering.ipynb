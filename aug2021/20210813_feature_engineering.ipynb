{
 "cells": [
  {
   "cell_type": "markdown",
   "id": "71ca8f59-4b0d-40bc-a259-8441239412dd",
   "metadata": {},
   "source": [
    "Goal is to play around with feature engineering techniques, as discussed in Kaggle tutorial and also using `featuretools`"
   ]
  },
  {
   "cell_type": "code",
   "execution_count": 1,
   "id": "69b32d29-13ad-499f-af5e-0e64c527b15f",
   "metadata": {},
   "outputs": [],
   "source": [
    "import pandas as pd\n",
    "import numpy as np\n",
    "import matplotlib.pyplot as plt\n",
    "from tqdm.notebook import tqdm\n",
    "\n",
    "# general ML tooling\n",
    "from sklearn.model_selection import train_test_split, StratifiedKFold#, KFold\n",
    "from sklearn.metrics import mean_squared_error\n",
    "import wandb\n",
    "from wandb.xgboost import wandb_callback\n",
    "# import timm\n",
    "from pathlib import Path\n",
    "import os\n",
    "import math\n",
    "\n",
    "# feature engineering tools\n",
    "from sklearn.feature_selection import mutual_info_regression\n",
    "import featuretools as ft"
   ]
  },
  {
   "cell_type": "code",
   "execution_count": 2,
   "id": "f49a27b3-b6c8-4627-96e8-d69232272893",
   "metadata": {},
   "outputs": [],
   "source": [
    "%config Completer.use_jedi = False"
   ]
  },
  {
   "cell_type": "markdown",
   "id": "adedeced-85fe-4524-b172-305c22d93b36",
   "metadata": {},
   "source": [
    "# Featuretools Demo\n",
    "From [here](https://featuretools.alteryx.com/en/stable/)."
   ]
  },
  {
   "cell_type": "code",
   "execution_count": 3,
   "id": "5d64eb4c-2ec5-4bcf-b1a4-53c90b9ee8e6",
   "metadata": {},
   "outputs": [],
   "source": [
    "data = ft.demo.load_mock_customer()"
   ]
  },
  {
   "cell_type": "code",
   "execution_count": 4,
   "id": "fc814cba-20a0-42ba-85af-8d836064b6c7",
   "metadata": {},
   "outputs": [],
   "source": [
    "customers_df = data[\"customers\"]"
   ]
  },
  {
   "cell_type": "code",
   "execution_count": 5,
   "id": "956b958c-7d8d-487d-963e-6a2e3b5d4439",
   "metadata": {},
   "outputs": [
    {
     "data": {
      "text/html": [
       "<div>\n",
       "<style scoped>\n",
       "    .dataframe tbody tr th:only-of-type {\n",
       "        vertical-align: middle;\n",
       "    }\n",
       "\n",
       "    .dataframe tbody tr th {\n",
       "        vertical-align: top;\n",
       "    }\n",
       "\n",
       "    .dataframe thead th {\n",
       "        text-align: right;\n",
       "    }\n",
       "</style>\n",
       "<table border=\"1\" class=\"dataframe\">\n",
       "  <thead>\n",
       "    <tr style=\"text-align: right;\">\n",
       "      <th></th>\n",
       "      <th>customer_id</th>\n",
       "      <th>zip_code</th>\n",
       "      <th>join_date</th>\n",
       "      <th>date_of_birth</th>\n",
       "    </tr>\n",
       "  </thead>\n",
       "  <tbody>\n",
       "    <tr>\n",
       "      <th>0</th>\n",
       "      <td>1</td>\n",
       "      <td>60091</td>\n",
       "      <td>2011-04-17 10:48:33</td>\n",
       "      <td>1994-07-18</td>\n",
       "    </tr>\n",
       "    <tr>\n",
       "      <th>1</th>\n",
       "      <td>2</td>\n",
       "      <td>13244</td>\n",
       "      <td>2012-04-15 23:31:04</td>\n",
       "      <td>1986-08-18</td>\n",
       "    </tr>\n",
       "    <tr>\n",
       "      <th>2</th>\n",
       "      <td>3</td>\n",
       "      <td>13244</td>\n",
       "      <td>2011-08-13 15:42:34</td>\n",
       "      <td>2003-11-21</td>\n",
       "    </tr>\n",
       "    <tr>\n",
       "      <th>3</th>\n",
       "      <td>4</td>\n",
       "      <td>60091</td>\n",
       "      <td>2011-04-08 20:08:14</td>\n",
       "      <td>2006-08-15</td>\n",
       "    </tr>\n",
       "    <tr>\n",
       "      <th>4</th>\n",
       "      <td>5</td>\n",
       "      <td>60091</td>\n",
       "      <td>2010-07-17 05:27:50</td>\n",
       "      <td>1984-07-28</td>\n",
       "    </tr>\n",
       "  </tbody>\n",
       "</table>\n",
       "</div>"
      ],
      "text/plain": [
       "   customer_id zip_code           join_date date_of_birth\n",
       "0            1    60091 2011-04-17 10:48:33    1994-07-18\n",
       "1            2    13244 2012-04-15 23:31:04    1986-08-18\n",
       "2            3    13244 2011-08-13 15:42:34    2003-11-21\n",
       "3            4    60091 2011-04-08 20:08:14    2006-08-15\n",
       "4            5    60091 2010-07-17 05:27:50    1984-07-28"
      ]
     },
     "execution_count": 5,
     "metadata": {},
     "output_type": "execute_result"
    }
   ],
   "source": [
    "customers_df"
   ]
  },
  {
   "cell_type": "code",
   "execution_count": 6,
   "id": "c8678a8a-e06d-4a44-9b98-5148272acf72",
   "metadata": {},
   "outputs": [
    {
     "data": {
      "text/plain": [
       "pandas.core.frame.DataFrame"
      ]
     },
     "execution_count": 6,
     "metadata": {},
     "output_type": "execute_result"
    }
   ],
   "source": [
    "type(customers_df)"
   ]
  },
  {
   "cell_type": "code",
   "execution_count": 7,
   "id": "ee771629-a624-4648-9af4-c176cd43e1ef",
   "metadata": {},
   "outputs": [
    {
     "data": {
      "text/plain": [
       "dict"
      ]
     },
     "execution_count": 7,
     "metadata": {},
     "output_type": "execute_result"
    }
   ],
   "source": [
    "type(data)"
   ]
  }
 ],
 "metadata": {
  "kernelspec": {
   "display_name": "Python 3",
   "language": "python",
   "name": "python3"
  },
  "language_info": {
   "codemirror_mode": {
    "name": "ipython",
    "version": 3
   },
   "file_extension": ".py",
   "mimetype": "text/x-python",
   "name": "python",
   "nbconvert_exporter": "python",
   "pygments_lexer": "ipython3",
   "version": "3.8.10"
  }
 },
 "nbformat": 4,
 "nbformat_minor": 5
}
