{
 "cells": [
  {
   "cell_type": "markdown",
   "id": "1d4e7f70-25a3-4d58-b98a-3a695e55ee53",
   "metadata": {
    "id": "1d4e7f70-25a3-4d58-b98a-3a695e55ee53"
   },
   "source": [
    "# Catboost Hyperparameter Sweep 20210920\n",
    "Largely after https://www.kaggle.com/satorushibata/optimize-catboost-hyperparameter-with-optuna-gpu"
   ]
  },
  {
   "cell_type": "code",
   "execution_count": null,
   "id": "U_qtimPUchWD",
   "metadata": {
    "id": "U_qtimPUchWD"
   },
   "outputs": [],
   "source": []
  },
  {
   "cell_type": "markdown",
   "id": "1e124c3d-0e1f-4053-8e72-52569a4fe3e4",
   "metadata": {
    "id": "1e124c3d-0e1f-4053-8e72-52569a4fe3e4"
   },
   "source": [
    "# Setup"
   ]
  },
  {
   "cell_type": "code",
   "execution_count": 1,
   "id": "dae2ff1e-bd1f-4cc9-8357-5a88d1746ffb",
   "metadata": {
    "id": "dae2ff1e-bd1f-4cc9-8357-5a88d1746ffb"
   },
   "outputs": [],
   "source": [
    "# two manual flags (ex-config)\n",
    "COLAB = False\n",
    "USE_GPU = True"
   ]
  },
  {
   "cell_type": "code",
   "execution_count": 2,
   "id": "16849bd2-428c-497b-ba3b-675002f8d041",
   "metadata": {
    "id": "16849bd2-428c-497b-ba3b-675002f8d041"
   },
   "outputs": [],
   "source": [
    "# basic imports\n",
    "from pathlib import Path\n",
    "import os\n",
    "import math\n",
    "from datetime import datetime\n",
    "import random\n",
    "import multiprocessing\n",
    "import pickle"
   ]
  },
  {
   "cell_type": "code",
   "execution_count": 3,
   "id": "12d2654b-3bc6-49b5-ade8-cc82112b60e5",
   "metadata": {
    "colab": {
     "base_uri": "https://localhost:8080/"
    },
    "id": "12d2654b-3bc6-49b5-ade8-cc82112b60e5",
    "outputId": "5cfd01f9-0d81-4b22-8a8a-9c0664deda13"
   },
   "outputs": [],
   "source": [
    "%matplotlib inline\n",
    "%config Completer.use_jedi = False\n",
    "os.environ['WANDB_NOTEBOOK_NAME'] = f\"sweep_catboost_{datetime.now().strftime('%Y%m%d')}.ipynb\""
   ]
  },
  {
   "cell_type": "code",
   "execution_count": 4,
   "id": "416d6118-e543-4df4-9219-2d4a63743c3a",
   "metadata": {
    "colab": {
     "base_uri": "https://localhost:8080/"
    },
    "id": "416d6118-e543-4df4-9219-2d4a63743c3a",
    "outputId": "a4e091f0-e2be-46e8-d4da-6d6a0a7a11a6",
    "tags": []
   },
   "outputs": [],
   "source": [
    "# handle Google Colab-specific library installation/updating\n",
    "if COLAB:\n",
    "    # much of the below inspired by or cribbed from the May 2021 Kaggle Tabular Playground winner, at \n",
    "    # https://colab.research.google.com/gist/academicsuspect/0aac7bd6e506f5f70295bfc9a3dc2250/tabular-may-baseline.ipynb?authuser=1#scrollTo=LJoVKJb5wN0L\n",
    "    \n",
    "    # Kaggle API for downloading the datasets\n",
    "    # !pip install --upgrade -q kaggle\n",
    "\n",
    "    # weights and biases\n",
    "    !pip install -qqqU wandb\n",
    "    \n",
    "    # Optuna for parameter search\n",
    "    !pip install -q optuna\n",
    "\n",
    "    # !pip install --upgrade xgboost\n",
    "\n",
    "    # upgrade sklearn\n",
    "    !pip install --upgrade scikit-learn\n",
    "\n",
    "    # !pip install category_encoders\n",
    "    !pip install catboost\n",
    "\n",
    "    # lighgbm gpu compatible\n",
    "    # !git clone --recursive https://github.com/Microsoft/LightGBM\n",
    "    # ! cd LightGBM && rm -rf build && mkdir build && cd build && cmake -DUSE_GPU=1 ../../LightGBM && make -j4 && cd ../python-package && python3 setup.py install --precompile --gpu;\n",
    "    \n",
    "    # # this part is from https://github.com/rapidsai/gputreeshap/issues/24\n",
    "    # !pip install cmake --upgrade\n",
    "    # # !pip install sklearn --upgrade\n",
    "    # !git clone --recursive https://github.com/dmlc/xgboost\n",
    "    # %cd /content/xgboost\n",
    "    # !mkdir build\n",
    "    # %cd build\n",
    "    # !cmake .. -DUSE_CUDA=ON\n",
    "    # !make -j4\n",
    "    # %cd /content/xgboost/python-package\n",
    "    # !python setup.py install --use-cuda --use-nccl\n",
    "    # !/opt/bin/nvidia-smi\n",
    "    # !pip install shap\n",
    "    "
   ]
  },
  {
   "cell_type": "markdown",
   "id": "d40df194-4474-4bcf-ac5a-98efe24b91fd",
   "metadata": {
    "id": "d40df194-4474-4bcf-ac5a-98efe24b91fd"
   },
   "source": [
    "Now, non-stdlib imports"
   ]
  },
  {
   "cell_type": "code",
   "execution_count": 5,
   "id": "a01e85f7-d602-4dde-bef9-611683cd74c4",
   "metadata": {
    "id": "a01e85f7-d602-4dde-bef9-611683cd74c4"
   },
   "outputs": [],
   "source": [
    "import pandas as pd\n",
    "import numpy as np\n",
    "import matplotlib.pyplot as plt\n",
    "from tqdm.notebook import tqdm\n",
    "\n",
    "# general ML tooling\n",
    "from sklearn.model_selection import train_test_split, StratifiedKFold, KFold\n",
    "from sklearn.metrics import log_loss, roc_auc_score\n",
    "import wandb\n",
    "from optuna.integration.wandb import WeightsAndBiasesCallback\n",
    "# from wandb.xgboost import wandb_callback\n",
    "# from wandb.lightgbm import wandb_callback\n",
    "# from sklearn.impute import KNNImputer, StandardImputer\n",
    "# import timm\n",
    "\n",
    "import seaborn as sns\n",
    "\n",
    "from catboost import CatBoostClassifier\n",
    "# from xgboost import XGBClassifier\n",
    "# from lightgbm import LGBMClassifier\n",
    "# from sklearn.ensemble import RandomForestRegressor\n",
    "from sklearn.preprocessing import MaxAbsScaler, StandardScaler, MinMaxScaler, RobustScaler, PolynomialFeatures\n",
    "# from sklearn.feature_selection import SelectKBest, f_regression\n",
    "from joblib import dump, load\n",
    "# feature engineering tools\n",
    "# from sklearn.feature_selection import mutual_info_regression\n",
    "# import featuretools as ft\n",
    "\n",
    "\n",
    "from optuna.samplers import TPESampler\n",
    "import optuna\n",
    "import catboost\n",
    "from sklearn.utils import resample\n",
    "import sklearn.metrics"
   ]
  },
  {
   "cell_type": "markdown",
   "id": "5f6166c2-ca44-4b7c-a4dc-3db47c2624fe",
   "metadata": {
    "id": "5f6166c2-ca44-4b7c-a4dc-3db47c2624fe"
   },
   "source": [
    "Now, datapath setup"
   ]
  },
  {
   "cell_type": "code",
   "execution_count": 6,
   "id": "3c18a787-2193-43cb-87ee-51c6ae7b6351",
   "metadata": {
    "id": "3c18a787-2193-43cb-87ee-51c6ae7b6351"
   },
   "outputs": [],
   "source": [
    "# # This is the code for reading the train.csv and converting it to a .feather file\n",
    "# df = pd.read_csv(datapath/'train.csv', index_col='id', low_memory=False)\n",
    "# df.index.name = None\n",
    "# df.to_feather(path='./dataset_df.feather')"
   ]
  },
  {
   "cell_type": "code",
   "execution_count": 7,
   "id": "6d8daf5d-cfe2-408a-be3f-68ec31e6ad39",
   "metadata": {},
   "outputs": [],
   "source": [
    "if COLAB:\n",
    "    # mount Google Drive\n",
    "    from google.colab import drive\n",
    "    drive.mount('/content/drive')\n",
    "    \n",
    "    # handling datapath\n",
    "    datapath = Path('/content/drive/MyDrive/kaggle/tabular_playgrounds/oct2021/')\n",
    "    \n",
    "else:\n",
    "    # if on local machine\n",
    "#     datapath = Path('/media/sf/easystore/kaggle_data/tabular_playgrounds/sep2021/')  \n",
    "    root = Path('/home/sf/code/kaggle/tabular_playgrounds/oct2021/')\n",
    "    datapath = root/'datasets'\n",
    "    edapath = root/'EDA'\n",
    "    modelpath = root/'models'\n",
    "    predpath = root/'preds'\n",
    "    subpath = root/'submissions'\n",
    "    \n",
    "    for pth in [root, datapath, edapath, modelpath, predpath, subpath]:\n",
    "        pth.mkdir(exist_ok=True)\n",
    "    \n"
   ]
  },
  {
   "cell_type": "code",
   "execution_count": 8,
   "id": "d1c652e6-5946-46aa-a13e-4c0ebe8a0e4f",
   "metadata": {
    "id": "d1c652e6-5946-46aa-a13e-4c0ebe8a0e4f"
   },
   "outputs": [],
   "source": [
    "\n",
    "# n_trials = int(1000)\n",
    "SEED = 42"
   ]
  },
  {
   "cell_type": "code",
   "execution_count": 9,
   "id": "fbec2e77-2081-4815-ac6d-39f2a2616386",
   "metadata": {
    "id": "fbec2e77-2081-4815-ac6d-39f2a2616386"
   },
   "outputs": [],
   "source": [
    "# Function to seed everything\n",
    "def seed_everything(seed):\n",
    "    random.seed(seed)\n",
    "    np.random.seed(seed)\n",
    "    os.environ['PYTHONHASHSEED'] = str(seed)\n",
    "seed_everything(SEED)"
   ]
  },
  {
   "cell_type": "markdown",
   "id": "2f6e47b3-43bd-4d35-b463-9d76100c6ed5",
   "metadata": {
    "id": "2f6e47b3-43bd-4d35-b463-9d76100c6ed5"
   },
   "source": [
    "## Ex-Model Config"
   ]
  },
  {
   "cell_type": "code",
   "execution_count": 10,
   "id": "5a4d4f47-1fa7-4a61-a509-169e250f7dbe",
   "metadata": {},
   "outputs": [],
   "source": [
    "# meta-config for preprocessing and cross-validation, but NOT for model parameters\n",
    "exmodel_config = {\n",
    "#     \"feature_selector\": SelectKBest,\n",
    "#     \"k_best\": 80,\n",
    "#     \"feature_selection_scoring\": f_regression,\n",
    "#     'random_state': SEED,\n",
    "#     'feature_generation': ['NaN_counts', 'SummaryStats', 'NaN_OneHots'],\n",
    "#     'subsample': 1,\n",
    "    'cross_val_strategy': KFold, # None for holdout, or the relevant sklearn class\n",
    "    'kfolds': 5, # if 1, that means just doing holdout\n",
    "    'test_size': 0.2,\n",
    "#     'features_created': False,\n",
    "#     'feature_creator': None,\n",
    "}"
   ]
  },
  {
   "cell_type": "markdown",
   "id": "65a41649-c29f-4255-af22-77d12652bf46",
   "metadata": {},
   "source": [
    "# WandB Config"
   ]
  },
  {
   "cell_type": "code",
   "execution_count": 11,
   "id": "700cde1f-3b24-433a-bed0-a9341ccc7544",
   "metadata": {},
   "outputs": [],
   "source": [
    "wandb_kwargs = {\n",
    "    # wandb config\n",
    "    'name': f\"{os.environ['WANDB_NOTEBOOK_NAME'][:-6]}_{datetime.now().strftime('%H%M%S')}\", # just removes the .ipynb extension, leaving the notebook filename's stem\n",
    "    'project': '202110_Kaggle_tabular_playground',\n",
    "    'tags': ['sweep'],\n",
    "    'notes': \"Sweep for CatBoost using Optuna\",\n",
    "    'config': exmodel_config,\n",
    "}"
   ]
  },
  {
   "cell_type": "markdown",
   "id": "a52d9012-34f1-435a-ba16-4416e0d4a286",
   "metadata": {
    "id": "a52d9012-34f1-435a-ba16-4416e0d4a286"
   },
   "source": [
    "## Data Setup"
   ]
  },
  {
   "cell_type": "code",
   "execution_count": 12,
   "id": "dee8bdeb-0c72-40ee-822d-a503360563c4",
   "metadata": {},
   "outputs": [],
   "source": [
    "train_source = datapath/'train.feather'\n",
    "df = pd.read_feather(path=train_source)\n",
    "df.index.name = 'id'\n",
    "y_train = df.target\n",
    "features = [x for x in df.columns if x != 'target']\n",
    "X_train = df[features]\n",
    "# X.index.name = 'id'\n",
    "# y.index.name = 'id'\n",
    "X = np.array(X_train)\n",
    "y = np.array(y_train)\n",
    "\n",
    "# del df, X_train, y_train\n",
    "\n",
    "\n",
    "# exmodel_config['feature_count'] = len(X.columns)\n",
    "exmodel_config['feature_count'] = X.shape[1]\n",
    "exmodel_config['instance_count'] = X.shape[0]\n",
    "\n",
    "# exmodel_config['feature_generator'] = None\n",
    "# exmodel_config['feature_generator'] = \"Summary statistics\"\n",
    "\n",
    "exmodel_config['train_source'] = str(train_source)"
   ]
  },
  {
   "cell_type": "code",
   "execution_count": 13,
   "id": "ab214258-067f-4b37-8960-ae0362f8409d",
   "metadata": {},
   "outputs": [],
   "source": [
    "test_source = datapath/'test.feather'\n",
    "exmodel_config['test_source'] = str(test_source)\n",
    "X_test = pd.read_feather(path=test_source)\n",
    "# X_test = X_test.iloc[:, 1:]"
   ]
  },
  {
   "cell_type": "code",
   "execution_count": 14,
   "id": "fd7f6a7c-a559-4935-8ba9-58e65277b969",
   "metadata": {},
   "outputs": [],
   "source": [
    "X_test = np.array(X_test)"
   ]
  },
  {
   "cell_type": "markdown",
   "id": "431d37db-558d-474d-9eca-ce2d38b7636f",
   "metadata": {
    "id": "431d37db-558d-474d-9eca-ce2d38b7636f"
   },
   "source": [
    "# Experiment setup"
   ]
  },
  {
   "cell_type": "code",
   "execution_count": 15,
   "id": "69ff4abf-560b-450e-a7a5-040878b66565",
   "metadata": {
    "id": "69ff4abf-560b-450e-a7a5-040878b66565"
   },
   "outputs": [],
   "source": [
    "# wandb_kwargs = {\n",
    "#     # wandb config:\n",
    "#     'name': f\"{os.environ['WANDB_NOTEBOOK_NAME'][:-6]}_{datetime.now().strftime('%H%M%S')}\", # just removes the .ipynb extension, leaving the notebook filename's stem\n",
    "#     'project': '202109_Kaggle_tabular_playground',\n",
    "#     'tags': ['sweep'],\n",
    "#     'notes': \"Sweep for CatBoost using Optuna\",\n",
    "#     'config': exmodel_config,\n",
    "# }"
   ]
  },
  {
   "cell_type": "markdown",
   "id": "PYhQgC47h1hq",
   "metadata": {
    "id": "PYhQgC47h1hq"
   },
   "source": [
    "A basis for the experimental ranges, taken from [here](https://www.kaggle.com/vishwas21/tps-sep-21-3-level-custom-stacking):\n",
    "\n",
    "```python\n",
    "catb_params = {\n",
    "    'iterations': 15585, \n",
    "    'objective': 'CrossEntropy', \n",
    "    'bootstrap_type': 'Bernoulli', \n",
    "    'od_wait': 1144, \n",
    "    'learning_rate': 0.023575206684596582, \n",
    "    'reg_lambda': 36.30433203563295, \n",
    "    'random_strength': 43.75597655616195, \n",
    "    'depth': 7, \n",
    "    'min_data_in_leaf': 11, \n",
    "    'leaf_estimation_iterations': 1, \n",
    "    'subsample': 0.8227911142845009,\n",
    "    'task_type' : 'GPU',\n",
    "    'devices' : '0',\n",
    "    'verbose' : 0\n",
    "}\n",
    "```"
   ]
  },
  {
   "cell_type": "code",
   "execution_count": 16,
   "id": "1d93b6f2-2d65-48a9-9862-510bd7d2b75b",
   "metadata": {
    "id": "1d93b6f2-2d65-48a9-9862-510bd7d2b75b"
   },
   "outputs": [],
   "source": [
    "# originally from https://www.kaggle.com/satorushibata/optimize-catboost-hyperparameter-with-optuna-gpu\n",
    "def objective(trial):\n",
    "    # split the (original Kaggle training) data into partitions\n",
    "    # if study.best_trial:\n",
    "    #     print(\"Dumping best params, which are:\")\n",
    "    #     print(str(study.best_trial.params))\n",
    "    #     dump(study.best_trial.params, filename=datapath/'optuna_catboost_best_20210920.joblib')\n",
    "       \n",
    "    # else:\n",
    "    #     print(\"No best study yet\")\n",
    "    X_train, X_valid, y_train, y_valid = train_test_split(X, y, test_size=0.33, random_state=int(SEED), shuffle=True)\n",
    "    # create wrappers for the training and validation partitions\n",
    "    train_pool = catboost.Pool(X_train, y_train)\n",
    "    valid_pool = catboost.Pool(X_valid, y_valid)\n",
    "    \n",
    "    # experimental parameters\n",
    "    params = {\n",
    "        'iterations' : trial.suggest_int('iterations', 2000, 30000),                         \n",
    "        'depth' : trial.suggest_int('depth', 3, 10),                                       \n",
    "        'learning_rate' : trial.suggest_loguniform('learning_rate', 0.001, 0.5),               \n",
    "        'random_strength': trial.suggest_int('random_strength', 0, 100), \n",
    "#         'objective': trial.suggest_categorical('objective', ['Logloss', 'CrossEntropy']),\n",
    "#         'bootstrap_type': trial.suggest_categorical('bootstrap_type', ['MVC', 'Bernoulli']),#, 'Poisson']),\n",
    "        'od_wait': trial.suggest_int('od_wait', 20, 2000),\n",
    "        'reg_lambda': trial.suggest_uniform('reg_lambda', 2, 70), # aka l2_leaf_reg\n",
    "        'border_count': trial.suggest_int('border_count', 50, 275),\n",
    "        'min_child_samples': trial.suggest_int('min_child_samples', 1, 20), # aka min_data_in_leaf\n",
    "        'leaf_estimation_iterations': trial.suggest_int('leaf_estimation_iterations', 1, 5),\n",
    "        # 'bagging_temperature' :trial.suggest_loguniform('bagging_temperature', 0.01, 100.00),\n",
    "#         'subsample': trial.suggest_uniform('subsample', 0.5, 1),\n",
    "#         'learning_rate' :trial.suggest_loguniform('learning_rate', 1e-3, 1e-1),\n",
    "        # 'od_type': trial.suggest_categorical('od_type', ['IncToDec', 'Iter']),\n",
    "#         'max_leaves': trial.suggest_int('max_leaves', 32, 128)\n",
    "    }\n",
    "    device = \"GPU\" if USE_GPU else \"CPU\"\n",
    "    # instantiate the model, with some parameters locked in, and experimnental ones passed via splat \n",
    "    model = CatBoostClassifier(\n",
    "        # loss_function=\"Logloss\",\n",
    "        eval_metric=\"AUC\",\n",
    "        task_type=device,\n",
    "        objective='Logloss',\n",
    "#         l2_leaf_reg=50,\n",
    "        random_seed=SEED,\n",
    "        verbose=False,\n",
    "#         border_count=64,\n",
    "        **params\n",
    "    )        \n",
    "#     wandb.init(wandb_kwargs)\n",
    "    # fit the model on the training set -- note the use of the catboost.Pool instance\n",
    "    model.fit(train_pool)\n",
    "    # generate predictions\n",
    "    preds = model.predict_proba(valid_pool)[:,1]\n",
    "    # rounds to the nearest integer, and the nearest even in case of _.5s\n",
    "    # pred_labels = np.rint(preds)\n",
    "    # calls sklearn.utils.resample... not entirely sure why\n",
    "    # y_pred_boot = resample(pred_labels, n_samples = len(train_y))\n",
    "    # Evaluation\n",
    "    # ROC_AUC_Score = roc_auc_score(train_y, y_pred_boot)\n",
    "    valid_auc = roc_auc_score(y_valid, preds)\n",
    "    \n",
    "    print('ROC AUC Score of CatBoost =', valid_auc)\n",
    "    wandb.log({'valid_AUC': valid_auc,\n",
    "            #    'catboost_params': str(model.get_all_params())\n",
    "              })\n",
    "#     wandb.finish()\n",
    "    return valid_auc"
   ]
  },
  {
   "cell_type": "code",
   "execution_count": 17,
   "id": "0e85f589-1507-4b75-80d9-8b062970102f",
   "metadata": {
    "colab": {
     "base_uri": "https://localhost:8080/",
     "height": 231
    },
    "id": "0e85f589-1507-4b75-80d9-8b062970102f",
    "outputId": "4e88b8c2-11ec-493d-8fdb-f97cd2f0243a",
    "tags": []
   },
   "outputs": [
    {
     "name": "stderr",
     "output_type": "stream",
     "text": [
      "<ipython-input-17-69ea9289a2cf>:1: ExperimentalWarning: WeightsAndBiasesCallback is experimental (supported from v2.9.0). The interface can change in the future.\n",
      "  wandbc = WeightsAndBiasesCallback(wandb_kwargs=wandb_kwargs)\n",
      "\u001b[34m\u001b[1mwandb\u001b[0m: Currently logged in as: \u001b[33mhushifang\u001b[0m (use `wandb login --relogin` to force relogin)\n",
      "\u001b[34m\u001b[1mwandb\u001b[0m: wandb version 0.12.3 is available!  To upgrade, please run:\n",
      "\u001b[34m\u001b[1mwandb\u001b[0m:  $ pip install wandb --upgrade\n"
     ]
    },
    {
     "data": {
      "text/html": [
       "\n",
       "                Tracking run with wandb version 0.12.2<br/>\n",
       "                Syncing run <strong style=\"color:#cdcd00\">sweep_catboost_20211001_134532</strong> to <a href=\"https://wandb.ai\" target=\"_blank\">Weights & Biases</a> <a href=\"https://docs.wandb.com/integrations/jupyter.html\" target=\"_blank\">(Documentation)</a>.<br/>\n",
       "                Project page: <a href=\"https://wandb.ai/hushifang/202110_Kaggle_tabular_playground\" target=\"_blank\">https://wandb.ai/hushifang/202110_Kaggle_tabular_playground</a><br/>\n",
       "                Run page: <a href=\"https://wandb.ai/hushifang/202110_Kaggle_tabular_playground/runs/2xgm4oz4\" target=\"_blank\">https://wandb.ai/hushifang/202110_Kaggle_tabular_playground/runs/2xgm4oz4</a><br/>\n",
       "                Run data is saved locally in <code>/home/sf/Dropbox/code_cloud/python_code/kaggle/tabular_playgrounds/oct2021/wandb/run-20211001_134536-2xgm4oz4</code><br/><br/>\n",
       "            "
      ],
      "text/plain": [
       "<IPython.core.display.HTML object>"
      ]
     },
     "metadata": {},
     "output_type": "display_data"
    }
   ],
   "source": [
    "wandbc = WeightsAndBiasesCallback(wandb_kwargs=wandb_kwargs)"
   ]
  },
  {
   "cell_type": "code",
   "execution_count": 18,
   "id": "ab6749b1-dd7d-4789-b0e2-8491d78fe89b",
   "metadata": {
    "colab": {
     "base_uri": "https://localhost:8080/"
    },
    "id": "ab6749b1-dd7d-4789-b0e2-8491d78fe89b",
    "outputId": "05b7ce12-dc98-4d38-fd83-a0578ec37531",
    "tags": []
   },
   "outputs": [
    {
     "name": "stderr",
     "output_type": "stream",
     "text": [
      "\u001b[32m[I 2021-10-01 13:45:41,774]\u001b[0m A new study created in memory with name: CatBoost_20211001\u001b[0m\n"
     ]
    }
   ],
   "source": [
    "study = optuna.create_study(direction = \"maximize\", sampler = TPESampler(seed=int(SEED)), study_name='CatBoost_20211001')\n",
    "# setting n_jobs=1 bc wandb apparently requires this\n"
   ]
  },
  {
   "cell_type": "code",
   "execution_count": 19,
   "id": "uXQWM6Otmxma",
   "metadata": {
    "colab": {
     "base_uri": "https://localhost:8080/"
    },
    "id": "uXQWM6Otmxma",
    "outputId": "d4b74ae6-6552-4b2f-a4e0-d9999874ab06",
    "tags": []
   },
   "outputs": [
    {
     "name": "stderr",
     "output_type": "stream",
     "text": [
      "\u001b[32m[I 2021-10-01 13:54:35,114]\u001b[0m Trial 0 finished with value: 0.8503879890111978 and parameters: {'iterations': 12487, 'depth': 10, 'learning_rate': 0.09454306819536169, 'random_strength': 60, 'od_wait': 329, 'reg_lambda': 12.60762738286178, 'border_count': 63, 'min_child_samples': 18, 'leaf_estimation_iterations': 4}. Best is trial 0 with value: 0.8503879890111978.\u001b[0m\n",
      "\u001b[34m\u001b[1mwandb\u001b[0m: \u001b[33mWARNING\u001b[0m Step must only increase in log calls.  Step 0 < 1; dropping {'iterations': 12487, 'depth': 10, 'learning_rate': 0.09454306819536169, 'random_strength': 60, 'od_wait': 329, 'reg_lambda': 12.60762738286178, 'border_count': 63, 'min_child_samples': 18, 'leaf_estimation_iterations': 4, 'value': 0.8503879890111978}.\n"
     ]
    },
    {
     "name": "stdout",
     "output_type": "stream",
     "text": [
      "ROC AUC Score of CatBoost = 0.8503879890111978\n"
     ]
    },
    {
     "name": "stderr",
     "output_type": "stream",
     "text": [
      "\u001b[32m[I 2021-10-01 13:59:02,805]\u001b[0m Trial 1 finished with value: 0.8350362294833469 and parameters: {'iterations': 21826, 'depth': 3, 'learning_rate': 0.41472250004816347, 'random_strength': 84, 'od_wait': 440, 'reg_lambda': 14.364097770082843, 'border_count': 91, 'min_child_samples': 7, 'leaf_estimation_iterations': 3}. Best is trial 0 with value: 0.8503879890111978.\u001b[0m\n",
      "\u001b[34m\u001b[1mwandb\u001b[0m: \u001b[33mWARNING\u001b[0m Step must only increase in log calls.  Step 1 < 2; dropping {'iterations': 21826, 'depth': 3, 'learning_rate': 0.41472250004816347, 'random_strength': 84, 'od_wait': 440, 'reg_lambda': 14.364097770082843, 'border_count': 91, 'min_child_samples': 7, 'leaf_estimation_iterations': 3, 'value': 0.8350362294833469}.\n"
     ]
    },
    {
     "name": "stdout",
     "output_type": "stream",
     "text": [
      "ROC AUC Score of CatBoost = 0.8350362294833469\n"
     ]
    },
    {
     "name": "stderr",
     "output_type": "stream",
     "text": [
      "\u001b[32m[I 2021-10-01 14:03:16,570]\u001b[0m Trial 2 finished with value: 0.8558281969273086 and parameters: {'iterations': 14094, 'depth': 5, 'learning_rate': 0.044809759182149515, 'random_strength': 14, 'od_wait': 598, 'reg_lambda': 26.912605343971038, 'border_count': 153, 'min_child_samples': 16, 'leaf_estimation_iterations': 1}. Best is trial 2 with value: 0.8558281969273086.\u001b[0m\n",
      "\u001b[34m\u001b[1mwandb\u001b[0m: \u001b[33mWARNING\u001b[0m Step must only increase in log calls.  Step 2 < 3; dropping {'iterations': 14094, 'depth': 5, 'learning_rate': 0.044809759182149515, 'random_strength': 14, 'od_wait': 598, 'reg_lambda': 26.912605343971038, 'border_count': 153, 'min_child_samples': 16, 'leaf_estimation_iterations': 1, 'value': 0.8558281969273086}.\n"
     ]
    },
    {
     "name": "stdout",
     "output_type": "stream",
     "text": [
      "ROC AUC Score of CatBoost = 0.8558281969273086\n"
     ]
    },
    {
     "name": "stderr",
     "output_type": "stream",
     "text": [
      "\u001b[32m[I 2021-10-01 14:11:18,083]\u001b[0m Trial 3 finished with value: 0.8514935747458795 and parameters: {'iterations': 16399, 'depth': 7, 'learning_rate': 0.0013346527038305934, 'random_strength': 61, 'od_wait': 357, 'reg_lambda': 6.423508322999007, 'border_count': 264, 'min_child_samples': 20, 'leaf_estimation_iterations': 5}. Best is trial 2 with value: 0.8558281969273086.\u001b[0m\n",
      "\u001b[34m\u001b[1mwandb\u001b[0m: \u001b[33mWARNING\u001b[0m Step must only increase in log calls.  Step 3 < 4; dropping {'iterations': 16399, 'depth': 7, 'learning_rate': 0.0013346527038305934, 'random_strength': 61, 'od_wait': 357, 'reg_lambda': 6.423508322999007, 'border_count': 264, 'min_child_samples': 20, 'leaf_estimation_iterations': 5, 'value': 0.8514935747458795}.\n"
     ]
    },
    {
     "name": "stdout",
     "output_type": "stream",
     "text": [
      "ROC AUC Score of CatBoost = 0.8514935747458795\n"
     ]
    },
    {
     "name": "stderr",
     "output_type": "stream",
     "text": [
      "\u001b[32m[I 2021-10-01 14:13:37,949]\u001b[0m Trial 4 finished with value: 0.8557852848001642 and parameters: {'iterations': 10529, 'depth': 3, 'learning_rate': 0.07026263205443048, 'random_strength': 44, 'od_wait': 261, 'reg_lambda': 35.672029887566374, 'border_count': 57, 'min_child_samples': 19, 'leaf_estimation_iterations': 2}. Best is trial 2 with value: 0.8558281969273086.\u001b[0m\n",
      "\u001b[34m\u001b[1mwandb\u001b[0m: \u001b[33mWARNING\u001b[0m Step must only increase in log calls.  Step 4 < 5; dropping {'iterations': 10529, 'depth': 3, 'learning_rate': 0.07026263205443048, 'random_strength': 44, 'od_wait': 261, 'reg_lambda': 35.672029887566374, 'border_count': 57, 'min_child_samples': 19, 'leaf_estimation_iterations': 2, 'value': 0.8557852848001642}.\n"
     ]
    },
    {
     "name": "stdout",
     "output_type": "stream",
     "text": [
      "ROC AUC Score of CatBoost = 0.8557852848001642\n"
     ]
    },
    {
     "name": "stderr",
     "output_type": "stream",
     "text": [
      "\u001b[32m[I 2021-10-01 14:19:51,282]\u001b[0m Trial 5 finished with value: 0.8561731245873707 and parameters: {'iterations': 20551, 'depth': 5, 'learning_rate': 0.02533074654001447, 'random_strength': 55, 'od_wait': 386, 'reg_lambda': 67.93175468798998, 'border_count': 225, 'min_child_samples': 19, 'leaf_estimation_iterations': 5}. Best is trial 5 with value: 0.8561731245873707.\u001b[0m\n",
      "\u001b[34m\u001b[1mwandb\u001b[0m: \u001b[33mWARNING\u001b[0m Step must only increase in log calls.  Step 5 < 6; dropping {'iterations': 20551, 'depth': 5, 'learning_rate': 0.02533074654001447, 'random_strength': 55, 'od_wait': 386, 'reg_lambda': 67.93175468798998, 'border_count': 225, 'min_child_samples': 19, 'leaf_estimation_iterations': 5, 'value': 0.8561731245873707}.\n"
     ]
    },
    {
     "name": "stdout",
     "output_type": "stream",
     "text": [
      "ROC AUC Score of CatBoost = 0.8561731245873707\n"
     ]
    },
    {
     "name": "stderr",
     "output_type": "stream",
     "text": [
      "\u001b[32m[I 2021-10-01 14:37:26,649]\u001b[0m Trial 6 finished with value: 0.8554605248951348 and parameters: {'iterations': 18741, 'depth': 10, 'learning_rate': 0.0017331598058558703, 'random_strength': 19, 'od_wait': 109, 'reg_lambda': 24.122462491901974, 'border_count': 137, 'min_child_samples': 6, 'leaf_estimation_iterations': 5}. Best is trial 5 with value: 0.8561731245873707.\u001b[0m\n",
      "\u001b[34m\u001b[1mwandb\u001b[0m: \u001b[33mWARNING\u001b[0m Step must only increase in log calls.  Step 6 < 7; dropping {'iterations': 18741, 'depth': 10, 'learning_rate': 0.0017331598058558703, 'random_strength': 19, 'od_wait': 109, 'reg_lambda': 24.122462491901974, 'border_count': 137, 'min_child_samples': 6, 'leaf_estimation_iterations': 5, 'value': 0.8554605248951348}.\n"
     ]
    },
    {
     "name": "stdout",
     "output_type": "stream",
     "text": [
      "ROC AUC Score of CatBoost = 0.8554605248951348\n"
     ]
    },
    {
     "name": "stderr",
     "output_type": "stream",
     "text": [
      "\u001b[32m[I 2021-10-01 14:41:58,200]\u001b[0m Trial 7 finished with value: 0.8563858934773392 and parameters: {'iterations': 11989, 'depth': 5, 'learning_rate': 0.029155497059176992, 'random_strength': 14, 'od_wait': 1609, 'reg_lambda': 7.0694437702244155, 'border_count': 273, 'min_child_samples': 16, 'leaf_estimation_iterations': 1}. Best is trial 7 with value: 0.8563858934773392.\u001b[0m\n",
      "\u001b[34m\u001b[1mwandb\u001b[0m: \u001b[33mWARNING\u001b[0m Step must only increase in log calls.  Step 7 < 8; dropping {'iterations': 11989, 'depth': 5, 'learning_rate': 0.029155497059176992, 'random_strength': 14, 'od_wait': 1609, 'reg_lambda': 7.0694437702244155, 'border_count': 273, 'min_child_samples': 16, 'leaf_estimation_iterations': 1, 'value': 0.8563858934773392}.\n"
     ]
    },
    {
     "name": "stdout",
     "output_type": "stream",
     "text": [
      "ROC AUC Score of CatBoost = 0.8563858934773392\n"
     ]
    },
    {
     "name": "stderr",
     "output_type": "stream",
     "text": [
      "\u001b[32m[I 2021-10-01 14:44:07,722]\u001b[0m Trial 8 finished with value: 0.8538640650667404 and parameters: {'iterations': 2154, 'depth': 9, 'learning_rate': 0.08086987436021253, 'random_strength': 73, 'od_wait': 1547, 'reg_lambda': 7.035036317918145, 'border_count': 131, 'min_child_samples': 3, 'leaf_estimation_iterations': 5}. Best is trial 7 with value: 0.8563858934773392.\u001b[0m\n",
      "\u001b[34m\u001b[1mwandb\u001b[0m: \u001b[33mWARNING\u001b[0m Step must only increase in log calls.  Step 8 < 9; dropping {'iterations': 2154, 'depth': 9, 'learning_rate': 0.08086987436021253, 'random_strength': 73, 'od_wait': 1547, 'reg_lambda': 7.035036317918145, 'border_count': 131, 'min_child_samples': 3, 'leaf_estimation_iterations': 5, 'value': 0.8538640650667404}.\n"
     ]
    },
    {
     "name": "stdout",
     "output_type": "stream",
     "text": [
      "ROC AUC Score of CatBoost = 0.8538640650667404\n"
     ]
    },
    {
     "name": "stderr",
     "output_type": "stream",
     "text": [
      "\u001b[32m[I 2021-10-01 14:50:22,987]\u001b[0m Trial 9 finished with value: 0.8528552143188999 and parameters: {'iterations': 19452, 'depth': 5, 'learning_rate': 0.0014843697010415793, 'random_strength': 31, 'od_wait': 664, 'reg_lambda': 51.61322012698836, 'border_count': 194, 'min_child_samples': 18, 'leaf_estimation_iterations': 3}. Best is trial 7 with value: 0.8563858934773392.\u001b[0m\n",
      "\u001b[34m\u001b[1mwandb\u001b[0m: \u001b[33mWARNING\u001b[0m Step must only increase in log calls.  Step 9 < 10; dropping {'iterations': 19452, 'depth': 5, 'learning_rate': 0.0014843697010415793, 'random_strength': 31, 'od_wait': 664, 'reg_lambda': 51.61322012698836, 'border_count': 194, 'min_child_samples': 18, 'leaf_estimation_iterations': 3, 'value': 0.8528552143188999}.\n"
     ]
    },
    {
     "name": "stdout",
     "output_type": "stream",
     "text": [
      "ROC AUC Score of CatBoost = 0.8528552143188999\n"
     ]
    },
    {
     "name": "stderr",
     "output_type": "stream",
     "text": [
      "\u001b[32m[I 2021-10-01 15:03:24,498]\u001b[0m Trial 10 finished with value: 0.8568015691257441 and parameters: {'iterations': 28464, 'depth': 7, 'learning_rate': 0.00713966506661863, 'random_strength': 1, 'od_wait': 1963, 'reg_lambda': 48.936801002701884, 'border_count': 269, 'min_child_samples': 13, 'leaf_estimation_iterations': 1}. Best is trial 10 with value: 0.8568015691257441.\u001b[0m\n",
      "\u001b[34m\u001b[1mwandb\u001b[0m: \u001b[33mWARNING\u001b[0m Step must only increase in log calls.  Step 10 < 11; dropping {'iterations': 28464, 'depth': 7, 'learning_rate': 0.00713966506661863, 'random_strength': 1, 'od_wait': 1963, 'reg_lambda': 48.936801002701884, 'border_count': 269, 'min_child_samples': 13, 'leaf_estimation_iterations': 1, 'value': 0.8568015691257441}.\n"
     ]
    },
    {
     "name": "stdout",
     "output_type": "stream",
     "text": [
      "ROC AUC Score of CatBoost = 0.8568015691257441\n"
     ]
    },
    {
     "name": "stderr",
     "output_type": "stream",
     "text": [
      "\u001b[32m[I 2021-10-01 15:16:49,829]\u001b[0m Trial 11 finished with value: 0.8567982934045868 and parameters: {'iterations': 29883, 'depth': 7, 'learning_rate': 0.006046346120414774, 'random_strength': 2, 'od_wait': 1982, 'reg_lambda': 49.78354782754391, 'border_count': 268, 'min_child_samples': 13, 'leaf_estimation_iterations': 1}. Best is trial 10 with value: 0.8568015691257441.\u001b[0m\n",
      "\u001b[34m\u001b[1mwandb\u001b[0m: \u001b[33mWARNING\u001b[0m Step must only increase in log calls.  Step 11 < 12; dropping {'iterations': 29883, 'depth': 7, 'learning_rate': 0.006046346120414774, 'random_strength': 2, 'od_wait': 1982, 'reg_lambda': 49.78354782754391, 'border_count': 268, 'min_child_samples': 13, 'leaf_estimation_iterations': 1, 'value': 0.8567982934045868}.\n"
     ]
    },
    {
     "name": "stdout",
     "output_type": "stream",
     "text": [
      "ROC AUC Score of CatBoost = 0.8567982934045868\n"
     ]
    },
    {
     "name": "stderr",
     "output_type": "stream",
     "text": [
      "\u001b[32m[I 2021-10-01 15:28:29,545]\u001b[0m Trial 12 finished with value: 0.8567901836797411 and parameters: {'iterations': 29077, 'depth': 7, 'learning_rate': 0.0061314337411850686, 'random_strength': 1, 'od_wait': 1995, 'reg_lambda': 50.80672676035931, 'border_count': 233, 'min_child_samples': 11, 'leaf_estimation_iterations': 2}. Best is trial 10 with value: 0.8568015691257441.\u001b[0m\n",
      "\u001b[34m\u001b[1mwandb\u001b[0m: \u001b[33mWARNING\u001b[0m Step must only increase in log calls.  Step 12 < 13; dropping {'iterations': 29077, 'depth': 7, 'learning_rate': 0.0061314337411850686, 'random_strength': 1, 'od_wait': 1995, 'reg_lambda': 50.80672676035931, 'border_count': 233, 'min_child_samples': 11, 'leaf_estimation_iterations': 2, 'value': 0.8567901836797411}.\n"
     ]
    },
    {
     "name": "stdout",
     "output_type": "stream",
     "text": [
      "ROC AUC Score of CatBoost = 0.8567901836797411\n"
     ]
    },
    {
     "name": "stderr",
     "output_type": "stream",
     "text": [
      "\u001b[32m[I 2021-10-01 15:43:03,804]\u001b[0m Trial 13 finished with value: 0.8568002154357481 and parameters: {'iterations': 29889, 'depth': 8, 'learning_rate': 0.007373636842895207, 'random_strength': 0, 'od_wait': 1972, 'reg_lambda': 50.76670653242783, 'border_count': 228, 'min_child_samples': 12, 'leaf_estimation_iterations': 1}. Best is trial 10 with value: 0.8568015691257441.\u001b[0m\n",
      "\u001b[34m\u001b[1mwandb\u001b[0m: \u001b[33mWARNING\u001b[0m Step must only increase in log calls.  Step 13 < 14; dropping {'iterations': 29889, 'depth': 8, 'learning_rate': 0.007373636842895207, 'random_strength': 0, 'od_wait': 1972, 'reg_lambda': 50.76670653242783, 'border_count': 228, 'min_child_samples': 12, 'leaf_estimation_iterations': 1, 'value': 0.8568002154357481}.\n"
     ]
    },
    {
     "name": "stdout",
     "output_type": "stream",
     "text": [
      "ROC AUC Score of CatBoost = 0.8568002154357481\n"
     ]
    },
    {
     "name": "stderr",
     "output_type": "stream",
     "text": [
      "\u001b[32m[I 2021-10-01 15:55:36,005]\u001b[0m Trial 14 finished with value: 0.856602656990636 and parameters: {'iterations': 25106, 'depth': 8, 'learning_rate': 0.010173280642559016, 'random_strength': 100, 'od_wait': 1276, 'reg_lambda': 63.22645499808852, 'border_count': 204, 'min_child_samples': 12, 'leaf_estimation_iterations': 2}. Best is trial 10 with value: 0.8568015691257441.\u001b[0m\n",
      "\u001b[34m\u001b[1mwandb\u001b[0m: \u001b[33mWARNING\u001b[0m Step must only increase in log calls.  Step 14 < 15; dropping {'iterations': 25106, 'depth': 8, 'learning_rate': 0.010173280642559016, 'random_strength': 100, 'od_wait': 1276, 'reg_lambda': 63.22645499808852, 'border_count': 204, 'min_child_samples': 12, 'leaf_estimation_iterations': 2, 'value': 0.856602656990636}.\n"
     ]
    },
    {
     "name": "stdout",
     "output_type": "stream",
     "text": [
      "ROC AUC Score of CatBoost = 0.856602656990636\n"
     ]
    },
    {
     "name": "stderr",
     "output_type": "stream",
     "text": [
      "\u001b[32m[I 2021-10-01 16:08:35,868]\u001b[0m Trial 15 finished with value: 0.8566478251086054 and parameters: {'iterations': 25648, 'depth': 8, 'learning_rate': 0.003683423465663499, 'random_strength': 37, 'od_wait': 1719, 'reg_lambda': 42.354455483140484, 'border_count': 237, 'min_child_samples': 8, 'leaf_estimation_iterations': 1}. Best is trial 10 with value: 0.8568015691257441.\u001b[0m\n",
      "\u001b[34m\u001b[1mwandb\u001b[0m: \u001b[33mWARNING\u001b[0m Step must only increase in log calls.  Step 15 < 16; dropping {'iterations': 25648, 'depth': 8, 'learning_rate': 0.003683423465663499, 'random_strength': 37, 'od_wait': 1719, 'reg_lambda': 42.354455483140484, 'border_count': 237, 'min_child_samples': 8, 'leaf_estimation_iterations': 1, 'value': 0.8566478251086054}.\n"
     ]
    },
    {
     "name": "stdout",
     "output_type": "stream",
     "text": [
      "ROC AUC Score of CatBoost = 0.8566478251086054\n"
     ]
    },
    {
     "name": "stderr",
     "output_type": "stream",
     "text": [
      "\u001b[32m[I 2021-10-01 16:20:53,052]\u001b[0m Trial 16 finished with value: 0.8562484583135234 and parameters: {'iterations': 25030, 'depth': 8, 'learning_rate': 0.014818503890570479, 'random_strength': 28, 'od_wait': 1134, 'reg_lambda': 58.72663689008889, 'border_count': 184, 'min_child_samples': 14, 'leaf_estimation_iterations': 2}. Best is trial 10 with value: 0.8568015691257441.\u001b[0m\n",
      "\u001b[34m\u001b[1mwandb\u001b[0m: \u001b[33mWARNING\u001b[0m Step must only increase in log calls.  Step 16 < 17; dropping {'iterations': 25030, 'depth': 8, 'learning_rate': 0.014818503890570479, 'random_strength': 28, 'od_wait': 1134, 'reg_lambda': 58.72663689008889, 'border_count': 184, 'min_child_samples': 14, 'leaf_estimation_iterations': 2, 'value': 0.8562484583135234}.\n"
     ]
    },
    {
     "name": "stdout",
     "output_type": "stream",
     "text": [
      "ROC AUC Score of CatBoost = 0.8562484583135234\n"
     ]
    },
    {
     "name": "stderr",
     "output_type": "stream",
     "text": [
      "\u001b[32m[I 2021-10-01 16:30:07,540]\u001b[0m Trial 17 finished with value: 0.8565277052317667 and parameters: {'iterations': 27339, 'depth': 6, 'learning_rate': 0.0035270626628435436, 'random_strength': 6, 'od_wait': 1374, 'reg_lambda': 38.72646136772439, 'border_count': 244, 'min_child_samples': 10, 'leaf_estimation_iterations': 1}. Best is trial 10 with value: 0.8568015691257441.\u001b[0m\n",
      "\u001b[34m\u001b[1mwandb\u001b[0m: \u001b[33mWARNING\u001b[0m Step must only increase in log calls.  Step 17 < 18; dropping {'iterations': 27339, 'depth': 6, 'learning_rate': 0.0035270626628435436, 'random_strength': 6, 'od_wait': 1374, 'reg_lambda': 38.72646136772439, 'border_count': 244, 'min_child_samples': 10, 'leaf_estimation_iterations': 1, 'value': 0.8565277052317667}.\n"
     ]
    },
    {
     "name": "stdout",
     "output_type": "stream",
     "text": [
      "ROC AUC Score of CatBoost = 0.8565277052317667\n"
     ]
    },
    {
     "name": "stderr",
     "output_type": "stream",
     "text": [
      "\u001b[32m[I 2021-10-01 16:36:12,459]\u001b[0m Trial 18 finished with value: 0.8565196774541286 and parameters: {'iterations': 7728, 'depth': 9, 'learning_rate': 0.010411200658390664, 'random_strength': 15, 'od_wait': 1787, 'reg_lambda': 57.53921476897525, 'border_count': 213, 'min_child_samples': 9, 'leaf_estimation_iterations': 4}. Best is trial 10 with value: 0.8568015691257441.\u001b[0m\n",
      "\u001b[34m\u001b[1mwandb\u001b[0m: \u001b[33mWARNING\u001b[0m Step must only increase in log calls.  Step 18 < 19; dropping {'iterations': 7728, 'depth': 9, 'learning_rate': 0.010411200658390664, 'random_strength': 15, 'od_wait': 1787, 'reg_lambda': 57.53921476897525, 'border_count': 213, 'min_child_samples': 9, 'leaf_estimation_iterations': 4, 'value': 0.8565196774541286}.\n"
     ]
    },
    {
     "name": "stdout",
     "output_type": "stream",
     "text": [
      "ROC AUC Score of CatBoost = 0.8565196774541286\n"
     ]
    },
    {
     "name": "stderr",
     "output_type": "stream",
     "text": [
      "\u001b[32m[I 2021-10-01 16:43:56,688]\u001b[0m Trial 19 finished with value: 0.8382786487428582 and parameters: {'iterations': 23350, 'depth': 6, 'learning_rate': 0.2364537831368379, 'random_strength': 25, 'od_wait': 832, 'reg_lambda': 43.394077384868545, 'border_count': 174, 'min_child_samples': 4, 'leaf_estimation_iterations': 2}. Best is trial 10 with value: 0.8568015691257441.\u001b[0m\n",
      "\u001b[34m\u001b[1mwandb\u001b[0m: \u001b[33mWARNING\u001b[0m Step must only increase in log calls.  Step 19 < 20; dropping {'iterations': 23350, 'depth': 6, 'learning_rate': 0.2364537831368379, 'random_strength': 25, 'od_wait': 832, 'reg_lambda': 43.394077384868545, 'border_count': 174, 'min_child_samples': 4, 'leaf_estimation_iterations': 2, 'value': 0.8382786487428582}.\n"
     ]
    },
    {
     "name": "stdout",
     "output_type": "stream",
     "text": [
      "ROC AUC Score of CatBoost = 0.8382786487428582\n"
     ]
    },
    {
     "name": "stderr",
     "output_type": "stream",
     "text": [
      "\u001b[32m[I 2021-10-01 17:04:04,505]\u001b[0m Trial 20 finished with value: 0.8566645384086791 and parameters: {'iterations': 27874, 'depth': 9, 'learning_rate': 0.0032771236487244668, 'random_strength': 38, 'od_wait': 1019, 'reg_lambda': 29.812072832782007, 'border_count': 250, 'min_child_samples': 1, 'leaf_estimation_iterations': 3}. Best is trial 10 with value: 0.8568015691257441.\u001b[0m\n",
      "\u001b[34m\u001b[1mwandb\u001b[0m: \u001b[33mWARNING\u001b[0m Step must only increase in log calls.  Step 20 < 21; dropping {'iterations': 27874, 'depth': 9, 'learning_rate': 0.0032771236487244668, 'random_strength': 38, 'od_wait': 1019, 'reg_lambda': 29.812072832782007, 'border_count': 250, 'min_child_samples': 1, 'leaf_estimation_iterations': 3, 'value': 0.8566645384086791}.\n"
     ]
    },
    {
     "name": "stdout",
     "output_type": "stream",
     "text": [
      "ROC AUC Score of CatBoost = 0.8566645384086791\n"
     ]
    },
    {
     "name": "stderr",
     "output_type": "stream",
     "text": [
      "\u001b[32m[I 2021-10-01 17:18:57,000]\u001b[0m Trial 21 finished with value: 0.8568339026067109 and parameters: {'iterations': 29222, 'depth': 7, 'learning_rate': 0.0067277390824230605, 'random_strength': 1, 'od_wait': 1989, 'reg_lambda': 49.494242875792196, 'border_count': 274, 'min_child_samples': 13, 'leaf_estimation_iterations': 1}. Best is trial 21 with value: 0.8568339026067109.\u001b[0m\n",
      "\u001b[34m\u001b[1mwandb\u001b[0m: \u001b[33mWARNING\u001b[0m Step must only increase in log calls.  Step 21 < 22; dropping {'iterations': 29222, 'depth': 7, 'learning_rate': 0.0067277390824230605, 'random_strength': 1, 'od_wait': 1989, 'reg_lambda': 49.494242875792196, 'border_count': 274, 'min_child_samples': 13, 'leaf_estimation_iterations': 1, 'value': 0.8568339026067109}.\n"
     ]
    },
    {
     "name": "stdout",
     "output_type": "stream",
     "text": [
      "ROC AUC Score of CatBoost = 0.8568339026067109\n"
     ]
    },
    {
     "name": "stderr",
     "output_type": "stream",
     "text": [
      "\u001b[32m[I 2021-10-01 17:33:53,197]\u001b[0m Trial 22 finished with value: 0.8568318017315546 and parameters: {'iterations': 29590, 'depth': 8, 'learning_rate': 0.0067883172070418545, 'random_strength': 7, 'od_wait': 1834, 'reg_lambda': 45.490528036476675, 'border_count': 248, 'min_child_samples': 15, 'leaf_estimation_iterations': 1}. Best is trial 21 with value: 0.8568339026067109.\u001b[0m\n",
      "\u001b[34m\u001b[1mwandb\u001b[0m: \u001b[33mWARNING\u001b[0m Step must only increase in log calls.  Step 22 < 23; dropping {'iterations': 29590, 'depth': 8, 'learning_rate': 0.0067883172070418545, 'random_strength': 7, 'od_wait': 1834, 'reg_lambda': 45.490528036476675, 'border_count': 248, 'min_child_samples': 15, 'leaf_estimation_iterations': 1, 'value': 0.8568318017315546}.\n"
     ]
    },
    {
     "name": "stdout",
     "output_type": "stream",
     "text": [
      "ROC AUC Score of CatBoost = 0.8568318017315546\n"
     ]
    },
    {
     "name": "stderr",
     "output_type": "stream",
     "text": [
      "\u001b[32m[I 2021-10-01 17:42:37,062]\u001b[0m Trial 23 finished with value: 0.856595974711946 and parameters: {'iterations': 26881, 'depth': 6, 'learning_rate': 0.013426570664965543, 'random_strength': 7, 'od_wait': 1798, 'reg_lambda': 44.608820530509405, 'border_count': 255, 'min_child_samples': 15, 'leaf_estimation_iterations': 1}. Best is trial 21 with value: 0.8568339026067109.\u001b[0m\n",
      "\u001b[34m\u001b[1mwandb\u001b[0m: \u001b[33mWARNING\u001b[0m Step must only increase in log calls.  Step 23 < 24; dropping {'iterations': 26881, 'depth': 6, 'learning_rate': 0.013426570664965543, 'random_strength': 7, 'od_wait': 1798, 'reg_lambda': 44.608820530509405, 'border_count': 255, 'min_child_samples': 15, 'leaf_estimation_iterations': 1, 'value': 0.856595974711946}.\n"
     ]
    },
    {
     "name": "stdout",
     "output_type": "stream",
     "text": [
      "ROC AUC Score of CatBoost = 0.856595974711946\n"
     ]
    },
    {
     "name": "stderr",
     "output_type": "stream",
     "text": [
      "\u001b[32m[I 2021-10-01 17:53:38,063]\u001b[0m Trial 24 finished with value: 0.855973956399379 and parameters: {'iterations': 23050, 'depth': 7, 'learning_rate': 0.002407942025089624, 'random_strength': 22, 'od_wait': 1477, 'reg_lambda': 36.56824472136941, 'border_count': 268, 'min_child_samples': 14, 'leaf_estimation_iterations': 2}. Best is trial 21 with value: 0.8568339026067109.\u001b[0m\n",
      "\u001b[34m\u001b[1mwandb\u001b[0m: \u001b[33mWARNING\u001b[0m Step must only increase in log calls.  Step 24 < 25; dropping {'iterations': 23050, 'depth': 7, 'learning_rate': 0.002407942025089624, 'random_strength': 22, 'od_wait': 1477, 'reg_lambda': 36.56824472136941, 'border_count': 268, 'min_child_samples': 14, 'leaf_estimation_iterations': 2, 'value': 0.855973956399379}.\n"
     ]
    },
    {
     "name": "stdout",
     "output_type": "stream",
     "text": [
      "ROC AUC Score of CatBoost = 0.855973956399379\n"
     ]
    },
    {
     "name": "stderr",
     "output_type": "stream",
     "text": [
      "\u001b[32m[I 2021-10-01 18:00:12,160]\u001b[0m Trial 25 finished with value: 0.8564339754043933 and parameters: {'iterations': 27255, 'depth': 4, 'learning_rate': 0.01843109093951236, 'random_strength': 10, 'od_wait': 1817, 'reg_lambda': 57.88671572091426, 'border_count': 248, 'min_child_samples': 16, 'leaf_estimation_iterations': 1}. Best is trial 21 with value: 0.8568339026067109.\u001b[0m\n",
      "\u001b[34m\u001b[1mwandb\u001b[0m: \u001b[33mWARNING\u001b[0m Step must only increase in log calls.  Step 25 < 26; dropping {'iterations': 27255, 'depth': 4, 'learning_rate': 0.01843109093951236, 'random_strength': 10, 'od_wait': 1817, 'reg_lambda': 57.88671572091426, 'border_count': 248, 'min_child_samples': 16, 'leaf_estimation_iterations': 1, 'value': 0.8564339754043933}.\n"
     ]
    },
    {
     "name": "stdout",
     "output_type": "stream",
     "text": [
      "ROC AUC Score of CatBoost = 0.8564339754043933\n"
     ]
    },
    {
     "name": "stderr",
     "output_type": "stream",
     "text": [
      "\u001b[32m[I 2021-10-01 18:16:42,887]\u001b[0m Trial 26 finished with value: 0.8567699070535644 and parameters: {'iterations': 24569, 'depth': 8, 'learning_rate': 0.005718030171937098, 'random_strength': 9, 'od_wait': 1692, 'reg_lambda': 45.43785168247553, 'border_count': 274, 'min_child_samples': 11, 'leaf_estimation_iterations': 2}. Best is trial 21 with value: 0.8568339026067109.\u001b[0m\n",
      "\u001b[34m\u001b[1mwandb\u001b[0m: \u001b[33mWARNING\u001b[0m Step must only increase in log calls.  Step 26 < 27; dropping {'iterations': 24569, 'depth': 8, 'learning_rate': 0.005718030171937098, 'random_strength': 9, 'od_wait': 1692, 'reg_lambda': 45.43785168247553, 'border_count': 274, 'min_child_samples': 11, 'leaf_estimation_iterations': 2, 'value': 0.8567699070535644}.\n"
     ]
    },
    {
     "name": "stdout",
     "output_type": "stream",
     "text": [
      "ROC AUC Score of CatBoost = 0.8567699070535644\n"
     ]
    },
    {
     "name": "stderr",
     "output_type": "stream",
     "text": [
      "\u001b[32m[I 2021-10-01 18:22:42,698]\u001b[0m Trial 27 finished with value: 0.8562945331767917 and parameters: {'iterations': 17135, 'depth': 6, 'learning_rate': 0.004570138554933165, 'random_strength': 21, 'od_wait': 1856, 'reg_lambda': 32.11005401617689, 'border_count': 212, 'min_child_samples': 13, 'leaf_estimation_iterations': 1}. Best is trial 21 with value: 0.8568339026067109.\u001b[0m\n",
      "\u001b[34m\u001b[1mwandb\u001b[0m: \u001b[33mWARNING\u001b[0m Step must only increase in log calls.  Step 27 < 28; dropping {'iterations': 17135, 'depth': 6, 'learning_rate': 0.004570138554933165, 'random_strength': 21, 'od_wait': 1856, 'reg_lambda': 32.11005401617689, 'border_count': 212, 'min_child_samples': 13, 'leaf_estimation_iterations': 1, 'value': 0.8562945331767917}.\n"
     ]
    },
    {
     "name": "stdout",
     "output_type": "stream",
     "text": [
      "ROC AUC Score of CatBoost = 0.8562945331767917\n"
     ]
    },
    {
     "name": "stderr",
     "output_type": "stream",
     "text": [
      "\u001b[32m[I 2021-10-01 18:38:54,090]\u001b[0m Trial 28 finished with value: 0.8546352037153528 and parameters: {'iterations': 21943, 'depth': 9, 'learning_rate': 0.001024003808305373, 'random_strength': 0, 'od_wait': 1432, 'reg_lambda': 68.1795679031093, 'border_count': 251, 'min_child_samples': 17, 'leaf_estimation_iterations': 3}. Best is trial 21 with value: 0.8568339026067109.\u001b[0m\n",
      "\u001b[34m\u001b[1mwandb\u001b[0m: \u001b[33mWARNING\u001b[0m Step must only increase in log calls.  Step 28 < 29; dropping {'iterations': 21943, 'depth': 9, 'learning_rate': 0.001024003808305373, 'random_strength': 0, 'od_wait': 1432, 'reg_lambda': 68.1795679031093, 'border_count': 251, 'min_child_samples': 17, 'leaf_estimation_iterations': 3, 'value': 0.8546352037153528}.\n"
     ]
    },
    {
     "name": "stdout",
     "output_type": "stream",
     "text": [
      "ROC AUC Score of CatBoost = 0.8546352037153528\n"
     ]
    },
    {
     "name": "stderr",
     "output_type": "stream",
     "text": [
      "\u001b[32m[I 2021-10-01 18:59:52,422]\u001b[0m Trial 29 finished with value: 0.8562627167970287 and parameters: {'iterations': 28412, 'depth': 10, 'learning_rate': 0.008775053326341388, 'random_strength': 30, 'od_wait': 1592, 'reg_lambda': 54.62775546007359, 'border_count': 75, 'min_child_samples': 10, 'leaf_estimation_iterations': 4}. Best is trial 21 with value: 0.8568339026067109.\u001b[0m\n",
      "\u001b[34m\u001b[1mwandb\u001b[0m: \u001b[33mWARNING\u001b[0m Step must only increase in log calls.  Step 29 < 30; dropping {'iterations': 28412, 'depth': 10, 'learning_rate': 0.008775053326341388, 'random_strength': 30, 'od_wait': 1592, 'reg_lambda': 54.62775546007359, 'border_count': 75, 'min_child_samples': 10, 'leaf_estimation_iterations': 4, 'value': 0.8562627167970287}.\n"
     ]
    },
    {
     "name": "stdout",
     "output_type": "stream",
     "text": [
      "ROC AUC Score of CatBoost = 0.8562627167970287\n"
     ]
    },
    {
     "name": "stderr",
     "output_type": "stream",
     "text": [
      "\u001b[32m[I 2021-10-01 19:08:49,354]\u001b[0m Trial 30 finished with value: 0.8561441853957306 and parameters: {'iterations': 26227, 'depth': 7, 'learning_rate': 0.0024172778459931594, 'random_strength': 65, 'od_wait': 1315, 'reg_lambda': 21.276635914840575, 'border_count': 114, 'min_child_samples': 15, 'leaf_estimation_iterations': 1}. Best is trial 21 with value: 0.8568339026067109.\u001b[0m\n",
      "\u001b[34m\u001b[1mwandb\u001b[0m: \u001b[33mWARNING\u001b[0m Step must only increase in log calls.  Step 30 < 31; dropping {'iterations': 26227, 'depth': 7, 'learning_rate': 0.0024172778459931594, 'random_strength': 65, 'od_wait': 1315, 'reg_lambda': 21.276635914840575, 'border_count': 114, 'min_child_samples': 15, 'leaf_estimation_iterations': 1, 'value': 0.8561441853957306}.\n"
     ]
    },
    {
     "name": "stdout",
     "output_type": "stream",
     "text": [
      "ROC AUC Score of CatBoost = 0.8561441853957306\n"
     ]
    },
    {
     "name": "stderr",
     "output_type": "stream",
     "text": [
      "\u001b[32m[I 2021-10-01 19:23:32,347]\u001b[0m Trial 31 finished with value: 0.8567951368025658 and parameters: {'iterations': 29913, 'depth': 8, 'learning_rate': 0.0074330757723281805, 'random_strength': 0, 'od_wait': 1931, 'reg_lambda': 47.41053899662083, 'border_count': 227, 'min_child_samples': 12, 'leaf_estimation_iterations': 1}. Best is trial 21 with value: 0.8568339026067109.\u001b[0m\n",
      "\u001b[34m\u001b[1mwandb\u001b[0m: \u001b[33mWARNING\u001b[0m Step must only increase in log calls.  Step 31 < 32; dropping {'iterations': 29913, 'depth': 8, 'learning_rate': 0.0074330757723281805, 'random_strength': 0, 'od_wait': 1931, 'reg_lambda': 47.41053899662083, 'border_count': 227, 'min_child_samples': 12, 'leaf_estimation_iterations': 1, 'value': 0.8567951368025658}.\n"
     ]
    },
    {
     "name": "stdout",
     "output_type": "stream",
     "text": [
      "ROC AUC Score of CatBoost = 0.8567951368025658\n"
     ]
    },
    {
     "name": "stderr",
     "output_type": "stream",
     "text": [
      "\u001b[32m[I 2021-10-01 19:40:32,479]\u001b[0m Trial 32 finished with value: 0.8565948288468264 and parameters: {'iterations': 29934, 'depth': 8, 'learning_rate': 0.011768249359587325, 'random_strength': 8, 'od_wait': 1898, 'reg_lambda': 54.038539639048125, 'border_count': 259, 'min_child_samples': 13, 'leaf_estimation_iterations': 1}. Best is trial 21 with value: 0.8568339026067109.\u001b[0m\n",
      "\u001b[34m\u001b[1mwandb\u001b[0m: \u001b[33mWARNING\u001b[0m Step must only increase in log calls.  Step 32 < 33; dropping {'iterations': 29934, 'depth': 8, 'learning_rate': 0.011768249359587325, 'random_strength': 8, 'od_wait': 1898, 'reg_lambda': 54.038539639048125, 'border_count': 259, 'min_child_samples': 13, 'leaf_estimation_iterations': 1, 'value': 0.8565948288468264}.\n"
     ]
    },
    {
     "name": "stdout",
     "output_type": "stream",
     "text": [
      "ROC AUC Score of CatBoost = 0.8565948288468264\n"
     ]
    },
    {
     "name": "stderr",
     "output_type": "stream",
     "text": [
      "\u001b[32m[I 2021-10-01 19:51:14,570]\u001b[0m Trial 33 finished with value: 0.8545875161339818 and parameters: {'iterations': 27748, 'depth': 7, 'learning_rate': 0.04083177509483011, 'random_strength': 15, 'od_wait': 1675, 'reg_lambda': 40.081654773913755, 'border_count': 215, 'min_child_samples': 14, 'leaf_estimation_iterations': 1}. Best is trial 21 with value: 0.8568339026067109.\u001b[0m\n",
      "\u001b[34m\u001b[1mwandb\u001b[0m: \u001b[33mWARNING\u001b[0m Step must only increase in log calls.  Step 33 < 34; dropping {'iterations': 27748, 'depth': 7, 'learning_rate': 0.04083177509483011, 'random_strength': 15, 'od_wait': 1675, 'reg_lambda': 40.081654773913755, 'border_count': 215, 'min_child_samples': 14, 'leaf_estimation_iterations': 1, 'value': 0.8545875161339818}.\n"
     ]
    },
    {
     "name": "stdout",
     "output_type": "stream",
     "text": [
      "ROC AUC Score of CatBoost = 0.8545875161339818\n"
     ]
    },
    {
     "name": "stderr",
     "output_type": "stream",
     "text": [
      "\u001b[32m[I 2021-10-01 20:07:50,770]\u001b[0m Trial 34 finished with value: 0.8560453034728642 and parameters: {'iterations': 23732, 'depth': 9, 'learning_rate': 0.019024586043004044, 'random_strength': 6, 'od_wait': 1911, 'reg_lambda': 62.38334239261065, 'border_count': 233, 'min_child_samples': 12, 'leaf_estimation_iterations': 2}. Best is trial 21 with value: 0.8568339026067109.\u001b[0m\n",
      "\u001b[34m\u001b[1mwandb\u001b[0m: \u001b[33mWARNING\u001b[0m Step must only increase in log calls.  Step 34 < 35; dropping {'iterations': 23732, 'depth': 9, 'learning_rate': 0.019024586043004044, 'random_strength': 6, 'od_wait': 1911, 'reg_lambda': 62.38334239261065, 'border_count': 233, 'min_child_samples': 12, 'leaf_estimation_iterations': 2, 'value': 0.8560453034728642}.\n"
     ]
    },
    {
     "name": "stdout",
     "output_type": "stream",
     "text": [
      "ROC AUC Score of CatBoost = 0.8560453034728642\n"
     ]
    },
    {
     "name": "stderr",
     "output_type": "stream",
     "text": [
      "\u001b[32m[I 2021-10-01 20:19:47,955]\u001b[0m Trial 35 finished with value: 0.8566791179224812 and parameters: {'iterations': 26349, 'depth': 7, 'learning_rate': 0.004714244025876847, 'random_strength': 15, 'od_wait': 1750, 'reg_lambda': 48.61522312281915, 'border_count': 257, 'min_child_samples': 17, 'leaf_estimation_iterations': 1}. Best is trial 21 with value: 0.8568339026067109.\u001b[0m\n",
      "\u001b[34m\u001b[1mwandb\u001b[0m: \u001b[33mWARNING\u001b[0m Step must only increase in log calls.  Step 35 < 36; dropping {'iterations': 26349, 'depth': 7, 'learning_rate': 0.004714244025876847, 'random_strength': 15, 'od_wait': 1750, 'reg_lambda': 48.61522312281915, 'border_count': 257, 'min_child_samples': 17, 'leaf_estimation_iterations': 1, 'value': 0.8566791179224812}.\n"
     ]
    },
    {
     "name": "stdout",
     "output_type": "stream",
     "text": [
      "ROC AUC Score of CatBoost = 0.8566791179224812\n"
     ]
    },
    {
     "name": "stderr",
     "output_type": "stream",
     "text": [
      "\u001b[32m[I 2021-10-01 20:34:38,148]\u001b[0m Trial 36 finished with value: 0.8564815713415319 and parameters: {'iterations': 28344, 'depth': 8, 'learning_rate': 0.002531461344189372, 'random_strength': 47, 'od_wait': 1994, 'reg_lambda': 33.19366378755108, 'border_count': 240, 'min_child_samples': 9, 'leaf_estimation_iterations': 2}. Best is trial 21 with value: 0.8568339026067109.\u001b[0m\n",
      "\u001b[34m\u001b[1mwandb\u001b[0m: \u001b[33mWARNING\u001b[0m Step must only increase in log calls.  Step 36 < 37; dropping {'iterations': 28344, 'depth': 8, 'learning_rate': 0.002531461344189372, 'random_strength': 47, 'od_wait': 1994, 'reg_lambda': 33.19366378755108, 'border_count': 240, 'min_child_samples': 9, 'leaf_estimation_iterations': 2, 'value': 0.8564815713415319}.\n"
     ]
    },
    {
     "name": "stdout",
     "output_type": "stream",
     "text": [
      "ROC AUC Score of CatBoost = 0.8564815713415319\n"
     ]
    },
    {
     "name": "stderr",
     "output_type": "stream",
     "text": [
      "\u001b[32m[I 2021-10-01 20:42:05,077]\u001b[0m Trial 37 finished with value: 0.8566548264708409 and parameters: {'iterations': 21981, 'depth': 6, 'learning_rate': 0.007282392148741761, 'random_strength': 10, 'od_wait': 1852, 'reg_lambda': 64.52974092679368, 'border_count': 156, 'min_child_samples': 15, 'leaf_estimation_iterations': 2}. Best is trial 21 with value: 0.8568339026067109.\u001b[0m\n",
      "\u001b[34m\u001b[1mwandb\u001b[0m: \u001b[33mWARNING\u001b[0m Step must only increase in log calls.  Step 37 < 38; dropping {'iterations': 21981, 'depth': 6, 'learning_rate': 0.007282392148741761, 'random_strength': 10, 'od_wait': 1852, 'reg_lambda': 64.52974092679368, 'border_count': 156, 'min_child_samples': 15, 'leaf_estimation_iterations': 2, 'value': 0.8566548264708409}.\n"
     ]
    },
    {
     "name": "stdout",
     "output_type": "stream",
     "text": [
      "ROC AUC Score of CatBoost = 0.8566548264708409\n"
     ]
    },
    {
     "name": "stderr",
     "output_type": "stream",
     "text": [
      "\u001b[32m[I 2021-10-01 21:01:58,542]\u001b[0m Trial 38 finished with value: 0.8546687437413077 and parameters: {'iterations': 14759, 'depth': 10, 'learning_rate': 0.04444684024288489, 'random_strength': 19, 'od_wait': 1556, 'reg_lambda': 41.125280754866026, 'border_count': 275, 'min_child_samples': 7, 'leaf_estimation_iterations': 1}. Best is trial 21 with value: 0.8568339026067109.\u001b[0m\n",
      "\u001b[34m\u001b[1mwandb\u001b[0m: \u001b[33mWARNING\u001b[0m Step must only increase in log calls.  Step 38 < 39; dropping {'iterations': 14759, 'depth': 10, 'learning_rate': 0.04444684024288489, 'random_strength': 19, 'od_wait': 1556, 'reg_lambda': 41.125280754866026, 'border_count': 275, 'min_child_samples': 7, 'leaf_estimation_iterations': 1, 'value': 0.8546687437413077}.\n"
     ]
    },
    {
     "name": "stdout",
     "output_type": "stream",
     "text": [
      "ROC AUC Score of CatBoost = 0.8546687437413077\n"
     ]
    },
    {
     "name": "stderr",
     "output_type": "stream",
     "text": [
      "\u001b[32m[I 2021-10-01 21:04:52,822]\u001b[0m Trial 39 finished with value: 0.8565663810078503 and parameters: {'iterations': 5600, 'depth': 7, 'learning_rate': 0.035034927157534326, 'random_strength': 3, 'od_wait': 1212, 'reg_lambda': 53.87054663042665, 'border_count': 224, 'min_child_samples': 20, 'leaf_estimation_iterations': 1}. Best is trial 21 with value: 0.8568339026067109.\u001b[0m\n",
      "\u001b[34m\u001b[1mwandb\u001b[0m: \u001b[33mWARNING\u001b[0m Step must only increase in log calls.  Step 39 < 40; dropping {'iterations': 5600, 'depth': 7, 'learning_rate': 0.035034927157534326, 'random_strength': 3, 'od_wait': 1212, 'reg_lambda': 53.87054663042665, 'border_count': 224, 'min_child_samples': 20, 'leaf_estimation_iterations': 1, 'value': 0.8565663810078503}.\n"
     ]
    },
    {
     "name": "stdout",
     "output_type": "stream",
     "text": [
      "ROC AUC Score of CatBoost = 0.8565663810078503\n"
     ]
    },
    {
     "name": "stderr",
     "output_type": "stream",
     "text": [
      "\u001b[32m[I 2021-10-01 21:09:58,779]\u001b[0m Trial 40 finished with value: 0.828946324088579 and parameters: {'iterations': 20288, 'depth': 4, 'learning_rate': 0.4921266312937148, 'random_strength': 12, 'od_wait': 1642, 'reg_lambda': 46.79143235246644, 'border_count': 197, 'min_child_samples': 11, 'leaf_estimation_iterations': 1}. Best is trial 21 with value: 0.8568339026067109.\u001b[0m\n",
      "\u001b[34m\u001b[1mwandb\u001b[0m: \u001b[33mWARNING\u001b[0m Step must only increase in log calls.  Step 40 < 41; dropping {'iterations': 20288, 'depth': 4, 'learning_rate': 0.4921266312937148, 'random_strength': 12, 'od_wait': 1642, 'reg_lambda': 46.79143235246644, 'border_count': 197, 'min_child_samples': 11, 'leaf_estimation_iterations': 1, 'value': 0.828946324088579}.\n"
     ]
    },
    {
     "name": "stdout",
     "output_type": "stream",
     "text": [
      "ROC AUC Score of CatBoost = 0.828946324088579\n"
     ]
    },
    {
     "name": "stderr",
     "output_type": "stream",
     "text": [
      "\u001b[32m[I 2021-10-01 21:23:28,128]\u001b[0m Trial 41 finished with value: 0.8567594990236029 and parameters: {'iterations': 29795, 'depth': 7, 'learning_rate': 0.0050139709426829885, 'random_strength': 4, 'od_wait': 2000, 'reg_lambda': 50.13664000087952, 'border_count': 263, 'min_child_samples': 13, 'leaf_estimation_iterations': 1}. Best is trial 21 with value: 0.8568339026067109.\u001b[0m\n",
      "\u001b[34m\u001b[1mwandb\u001b[0m: \u001b[33mWARNING\u001b[0m Step must only increase in log calls.  Step 41 < 42; dropping {'iterations': 29795, 'depth': 7, 'learning_rate': 0.0050139709426829885, 'random_strength': 4, 'od_wait': 2000, 'reg_lambda': 50.13664000087952, 'border_count': 263, 'min_child_samples': 13, 'leaf_estimation_iterations': 1, 'value': 0.8567594990236029}.\n"
     ]
    },
    {
     "name": "stdout",
     "output_type": "stream",
     "text": [
      "ROC AUC Score of CatBoost = 0.8567594990236029\n"
     ]
    },
    {
     "name": "stderr",
     "output_type": "stream",
     "text": [
      "\u001b[32m[I 2021-10-01 21:40:32,339]\u001b[0m Trial 42 finished with value: 0.8568008226752069 and parameters: {'iterations': 28815, 'depth': 8, 'learning_rate': 0.00735236252954025, 'random_strength': 1, 'od_wait': 1914, 'reg_lambda': 52.03027422746395, 'border_count': 264, 'min_child_samples': 13, 'leaf_estimation_iterations': 1}. Best is trial 21 with value: 0.8568339026067109.\u001b[0m\n",
      "\u001b[34m\u001b[1mwandb\u001b[0m: \u001b[33mWARNING\u001b[0m Step must only increase in log calls.  Step 42 < 43; dropping {'iterations': 28815, 'depth': 8, 'learning_rate': 0.00735236252954025, 'random_strength': 1, 'od_wait': 1914, 'reg_lambda': 52.03027422746395, 'border_count': 264, 'min_child_samples': 13, 'leaf_estimation_iterations': 1, 'value': 0.8568008226752069}.\n"
     ]
    },
    {
     "name": "stdout",
     "output_type": "stream",
     "text": [
      "ROC AUC Score of CatBoost = 0.8568008226752069\n"
     ]
    },
    {
     "name": "stderr",
     "output_type": "stream",
     "text": [
      "\u001b[32m[I 2021-10-01 21:57:09,202]\u001b[0m Trial 43 finished with value: 0.8558139307302608 and parameters: {'iterations': 28580, 'depth': 8, 'learning_rate': 0.023219154304296594, 'random_strength': 0, 'od_wait': 1823, 'reg_lambda': 60.064913615706956, 'border_count': 263, 'min_child_samples': 17, 'leaf_estimation_iterations': 1}. Best is trial 21 with value: 0.8568339026067109.\u001b[0m\n",
      "\u001b[34m\u001b[1mwandb\u001b[0m: \u001b[33mWARNING\u001b[0m Step must only increase in log calls.  Step 43 < 44; dropping {'iterations': 28580, 'depth': 8, 'learning_rate': 0.023219154304296594, 'random_strength': 0, 'od_wait': 1823, 'reg_lambda': 60.064913615706956, 'border_count': 263, 'min_child_samples': 17, 'leaf_estimation_iterations': 1, 'value': 0.8558139307302608}.\n"
     ]
    },
    {
     "name": "stdout",
     "output_type": "stream",
     "text": [
      "ROC AUC Score of CatBoost = 0.8558139307302608\n"
     ]
    },
    {
     "name": "stderr",
     "output_type": "stream",
     "text": [
      "\u001b[32m[I 2021-10-01 22:15:46,747]\u001b[0m Trial 44 finished with value: 0.8567139531624328 and parameters: {'iterations': 26246, 'depth': 9, 'learning_rate': 0.00835927814954476, 'random_strength': 77, 'od_wait': 1896, 'reg_lambda': 53.73944748604297, 'border_count': 244, 'min_child_samples': 12, 'leaf_estimation_iterations': 2}. Best is trial 21 with value: 0.8568339026067109.\u001b[0m\n",
      "\u001b[34m\u001b[1mwandb\u001b[0m: \u001b[33mWARNING\u001b[0m Step must only increase in log calls.  Step 44 < 45; dropping {'iterations': 26246, 'depth': 9, 'learning_rate': 0.00835927814954476, 'random_strength': 77, 'od_wait': 1896, 'reg_lambda': 53.73944748604297, 'border_count': 244, 'min_child_samples': 12, 'leaf_estimation_iterations': 2, 'value': 0.8567139531624328}.\n"
     ]
    },
    {
     "name": "stdout",
     "output_type": "stream",
     "text": [
      "ROC AUC Score of CatBoost = 0.8567139531624328\n"
     ]
    },
    {
     "name": "stderr",
     "output_type": "stream",
     "text": [
      "\u001b[32m[I 2021-10-01 22:29:46,686]\u001b[0m Trial 45 finished with value: 0.8564159261922026 and parameters: {'iterations': 28700, 'depth': 8, 'learning_rate': 0.015209128705159305, 'random_strength': 55, 'od_wait': 62, 'reg_lambda': 52.566861151765295, 'border_count': 221, 'min_child_samples': 14, 'leaf_estimation_iterations': 1}. Best is trial 21 with value: 0.8568339026067109.\u001b[0m\n",
      "\u001b[34m\u001b[1mwandb\u001b[0m: \u001b[33mWARNING\u001b[0m Step must only increase in log calls.  Step 45 < 46; dropping {'iterations': 28700, 'depth': 8, 'learning_rate': 0.015209128705159305, 'random_strength': 55, 'od_wait': 62, 'reg_lambda': 52.566861151765295, 'border_count': 221, 'min_child_samples': 14, 'leaf_estimation_iterations': 1, 'value': 0.8564159261922026}.\n"
     ]
    },
    {
     "name": "stdout",
     "output_type": "stream",
     "text": [
      "ROC AUC Score of CatBoost = 0.8564159261922026\n"
     ]
    },
    {
     "name": "stderr",
     "output_type": "stream",
     "text": [
      "\u001b[32m[I 2021-10-01 22:50:42,161]\u001b[0m Trial 46 finished with value: 0.8566798432526042 and parameters: {'iterations': 24274, 'depth': 9, 'learning_rate': 0.003943544072334438, 'random_strength': 18, 'od_wait': 1741, 'reg_lambda': 56.45924485344273, 'border_count': 264, 'min_child_samples': 16, 'leaf_estimation_iterations': 1}. Best is trial 21 with value: 0.8568339026067109.\u001b[0m\n",
      "\u001b[34m\u001b[1mwandb\u001b[0m: \u001b[33mWARNING\u001b[0m Step must only increase in log calls.  Step 46 < 47; dropping {'iterations': 24274, 'depth': 9, 'learning_rate': 0.003943544072334438, 'random_strength': 18, 'od_wait': 1741, 'reg_lambda': 56.45924485344273, 'border_count': 264, 'min_child_samples': 16, 'leaf_estimation_iterations': 1, 'value': 0.8566798432526042}.\n"
     ]
    },
    {
     "name": "stdout",
     "output_type": "stream",
     "text": [
      "ROC AUC Score of CatBoost = 0.8566798432526042\n"
     ]
    },
    {
     "name": "stderr",
     "output_type": "stream",
     "text": [
      "\u001b[32m[I 2021-10-01 23:01:04,786]\u001b[0m Trial 47 finished with value: 0.8452943961476906 and parameters: {'iterations': 25748, 'depth': 7, 'learning_rate': 0.13619400350016778, 'random_strength': 94, 'od_wait': 233, 'reg_lambda': 37.45941704792121, 'border_count': 235, 'min_child_samples': 15, 'leaf_estimation_iterations': 2}. Best is trial 21 with value: 0.8568339026067109.\u001b[0m\n",
      "\u001b[34m\u001b[1mwandb\u001b[0m: \u001b[33mWARNING\u001b[0m Step must only increase in log calls.  Step 47 < 48; dropping {'iterations': 25748, 'depth': 7, 'learning_rate': 0.13619400350016778, 'random_strength': 94, 'od_wait': 233, 'reg_lambda': 37.45941704792121, 'border_count': 235, 'min_child_samples': 15, 'leaf_estimation_iterations': 2, 'value': 0.8452943961476906}.\n"
     ]
    },
    {
     "name": "stdout",
     "output_type": "stream",
     "text": [
      "ROC AUC Score of CatBoost = 0.8452943961476906\n"
     ]
    },
    {
     "name": "stderr",
     "output_type": "stream",
     "text": [
      "\u001b[32m[I 2021-10-01 23:16:09,165]\u001b[0m Trial 48 finished with value: 0.8561575360687335 and parameters: {'iterations': 28981, 'depth': 8, 'learning_rate': 0.0018223708329489345, 'random_strength': 4, 'od_wait': 607, 'reg_lambda': 48.547313132151736, 'border_count': 254, 'min_child_samples': 9, 'leaf_estimation_iterations': 1}. Best is trial 21 with value: 0.8568339026067109.\u001b[0m\n",
      "\u001b[34m\u001b[1mwandb\u001b[0m: \u001b[33mWARNING\u001b[0m Step must only increase in log calls.  Step 48 < 49; dropping {'iterations': 28981, 'depth': 8, 'learning_rate': 0.0018223708329489345, 'random_strength': 4, 'od_wait': 607, 'reg_lambda': 48.547313132151736, 'border_count': 254, 'min_child_samples': 9, 'leaf_estimation_iterations': 1, 'value': 0.8561575360687335}.\n"
     ]
    },
    {
     "name": "stdout",
     "output_type": "stream",
     "text": [
      "ROC AUC Score of CatBoost = 0.8561575360687335\n"
     ]
    },
    {
     "name": "stderr",
     "output_type": "stream",
     "text": [
      "\u001b[32m[I 2021-10-01 23:34:34,497]\u001b[0m Trial 49 finished with value: 0.85674028954768 and parameters: {'iterations': 27254, 'depth': 8, 'learning_rate': 0.006522075462170888, 'random_strength': 34, 'od_wait': 1487, 'reg_lambda': 43.64060315413794, 'border_count': 274, 'min_child_samples': 10, 'leaf_estimation_iterations': 2}. Best is trial 21 with value: 0.8568339026067109.\u001b[0m\n",
      "\u001b[34m\u001b[1mwandb\u001b[0m: \u001b[33mWARNING\u001b[0m Step must only increase in log calls.  Step 49 < 50; dropping {'iterations': 27254, 'depth': 8, 'learning_rate': 0.006522075462170888, 'random_strength': 34, 'od_wait': 1487, 'reg_lambda': 43.64060315413794, 'border_count': 274, 'min_child_samples': 10, 'leaf_estimation_iterations': 2, 'value': 0.85674028954768}.\n"
     ]
    },
    {
     "name": "stdout",
     "output_type": "stream",
     "text": [
      "ROC AUC Score of CatBoost = 0.85674028954768\n"
     ]
    },
    {
     "name": "stderr",
     "output_type": "stream",
     "text": [
      "\u001b[32m[I 2021-10-01 23:39:57,324]\u001b[0m Trial 50 finished with value: 0.8566816386714733 and parameters: {'iterations': 12906, 'depth': 7, 'learning_rate': 0.010958760019709834, 'random_strength': 13, 'od_wait': 1944, 'reg_lambda': 12.981968759583019, 'border_count': 178, 'min_child_samples': 18, 'leaf_estimation_iterations': 1}. Best is trial 21 with value: 0.8568339026067109.\u001b[0m\n",
      "\u001b[34m\u001b[1mwandb\u001b[0m: \u001b[33mWARNING\u001b[0m Step must only increase in log calls.  Step 50 < 51; dropping {'iterations': 12906, 'depth': 7, 'learning_rate': 0.010958760019709834, 'random_strength': 13, 'od_wait': 1944, 'reg_lambda': 12.981968759583019, 'border_count': 178, 'min_child_samples': 18, 'leaf_estimation_iterations': 1, 'value': 0.8566816386714733}.\n"
     ]
    },
    {
     "name": "stdout",
     "output_type": "stream",
     "text": [
      "ROC AUC Score of CatBoost = 0.8566816386714733\n"
     ]
    },
    {
     "name": "stderr",
     "output_type": "stream",
     "text": [
      "\u001b[32m[I 2021-10-01 23:53:29,012]\u001b[0m Trial 51 finished with value: 0.8567842107531218 and parameters: {'iterations': 29941, 'depth': 7, 'learning_rate': 0.005782153722119923, 'random_strength': 5, 'od_wait': 1988, 'reg_lambda': 50.64822291955926, 'border_count': 265, 'min_child_samples': 13, 'leaf_estimation_iterations': 1}. Best is trial 21 with value: 0.8568339026067109.\u001b[0m\n",
      "\u001b[34m\u001b[1mwandb\u001b[0m: \u001b[33mWARNING\u001b[0m Step must only increase in log calls.  Step 51 < 52; dropping {'iterations': 29941, 'depth': 7, 'learning_rate': 0.005782153722119923, 'random_strength': 5, 'od_wait': 1988, 'reg_lambda': 50.64822291955926, 'border_count': 265, 'min_child_samples': 13, 'leaf_estimation_iterations': 1, 'value': 0.8567842107531218}.\n"
     ]
    },
    {
     "name": "stdout",
     "output_type": "stream",
     "text": [
      "ROC AUC Score of CatBoost = 0.8567842107531218\n"
     ]
    },
    {
     "name": "stderr",
     "output_type": "stream",
     "text": [
      "\u001b[32m[I 2021-10-02 00:03:03,872]\u001b[0m Trial 52 finished with value: 0.8564906595108914 and parameters: {'iterations': 28622, 'depth': 6, 'learning_rate': 0.0030836437104838554, 'random_strength': 0, 'od_wait': 1760, 'reg_lambda': 46.171615066098546, 'border_count': 245, 'min_child_samples': 12, 'leaf_estimation_iterations': 1}. Best is trial 21 with value: 0.8568339026067109.\u001b[0m\n",
      "\u001b[34m\u001b[1mwandb\u001b[0m: \u001b[33mWARNING\u001b[0m Step must only increase in log calls.  Step 52 < 53; dropping {'iterations': 28622, 'depth': 6, 'learning_rate': 0.0030836437104838554, 'random_strength': 0, 'od_wait': 1760, 'reg_lambda': 46.171615066098546, 'border_count': 245, 'min_child_samples': 12, 'leaf_estimation_iterations': 1, 'value': 0.8564906595108914}.\n"
     ]
    },
    {
     "name": "stdout",
     "output_type": "stream",
     "text": [
      "ROC AUC Score of CatBoost = 0.8564906595108914\n"
     ]
    },
    {
     "name": "stderr",
     "output_type": "stream",
     "text": [
      "\u001b[32m[I 2021-10-02 00:18:33,725]\u001b[0m Trial 53 finished with value: 0.8566932099036595 and parameters: {'iterations': 27235, 'depth': 8, 'learning_rate': 0.00966235677439897, 'random_strength': 10, 'od_wait': 1872, 'reg_lambda': 50.218847028112954, 'border_count': 257, 'min_child_samples': 14, 'leaf_estimation_iterations': 1}. Best is trial 21 with value: 0.8568339026067109.\u001b[0m\n",
      "\u001b[34m\u001b[1mwandb\u001b[0m: \u001b[33mWARNING\u001b[0m Step must only increase in log calls.  Step 53 < 54; dropping {'iterations': 27235, 'depth': 8, 'learning_rate': 0.00966235677439897, 'random_strength': 10, 'od_wait': 1872, 'reg_lambda': 50.218847028112954, 'border_count': 257, 'min_child_samples': 14, 'leaf_estimation_iterations': 1, 'value': 0.8566932099036595}.\n"
     ]
    },
    {
     "name": "stdout",
     "output_type": "stream",
     "text": [
      "ROC AUC Score of CatBoost = 0.8566932099036595\n"
     ]
    },
    {
     "name": "stderr",
     "output_type": "stream",
     "text": [
      "\u001b[32m[I 2021-10-02 00:30:03,467]\u001b[0m Trial 54 finished with value: 0.8564520486387593 and parameters: {'iterations': 25248, 'depth': 7, 'learning_rate': 0.017027684877270938, 'random_strength': 4, 'od_wait': 746, 'reg_lambda': 60.96347762328183, 'border_count': 269, 'min_child_samples': 11, 'leaf_estimation_iterations': 1}. Best is trial 21 with value: 0.8568339026067109.\u001b[0m\n",
      "\u001b[34m\u001b[1mwandb\u001b[0m: \u001b[33mWARNING\u001b[0m Step must only increase in log calls.  Step 54 < 55; dropping {'iterations': 25248, 'depth': 7, 'learning_rate': 0.017027684877270938, 'random_strength': 4, 'od_wait': 746, 'reg_lambda': 60.96347762328183, 'border_count': 269, 'min_child_samples': 11, 'leaf_estimation_iterations': 1, 'value': 0.8564520486387593}.\n"
     ]
    },
    {
     "name": "stdout",
     "output_type": "stream",
     "text": [
      "ROC AUC Score of CatBoost = 0.8564520486387593\n"
     ]
    },
    {
     "name": "stderr",
     "output_type": "stream",
     "text": [
      "\u001b[32m[I 2021-10-02 00:40:00,006]\u001b[0m Trial 55 finished with value: 0.8564018872508126 and parameters: {'iterations': 29233, 'depth': 6, 'learning_rate': 0.012487457074870584, 'random_strength': 8, 'od_wait': 1669, 'reg_lambda': 42.8064216124383, 'border_count': 234, 'min_child_samples': 13, 'leaf_estimation_iterations': 4}. Best is trial 21 with value: 0.8568339026067109.\u001b[0m\n",
      "\u001b[34m\u001b[1mwandb\u001b[0m: \u001b[33mWARNING\u001b[0m Step must only increase in log calls.  Step 55 < 56; dropping {'iterations': 29233, 'depth': 6, 'learning_rate': 0.012487457074870584, 'random_strength': 8, 'od_wait': 1669, 'reg_lambda': 42.8064216124383, 'border_count': 234, 'min_child_samples': 13, 'leaf_estimation_iterations': 4, 'value': 0.8564018872508126}.\n"
     ]
    },
    {
     "name": "stdout",
     "output_type": "stream",
     "text": [
      "ROC AUC Score of CatBoost = 0.8564018872508126\n"
     ]
    },
    {
     "name": "stderr",
     "output_type": "stream",
     "text": [
      "\u001b[32m[I 2021-10-02 00:52:46,488]\u001b[0m Trial 56 finished with value: 0.8567261837923184 and parameters: {'iterations': 27859, 'depth': 8, 'learning_rate': 0.0043946502776283, 'random_strength': 26, 'od_wait': 1931, 'reg_lambda': 55.723196958004436, 'border_count': 135, 'min_child_samples': 15, 'leaf_estimation_iterations': 1}. Best is trial 21 with value: 0.8568339026067109.\u001b[0m\n",
      "\u001b[34m\u001b[1mwandb\u001b[0m: \u001b[33mWARNING\u001b[0m Step must only increase in log calls.  Step 56 < 57; dropping {'iterations': 27859, 'depth': 8, 'learning_rate': 0.0043946502776283, 'random_strength': 26, 'od_wait': 1931, 'reg_lambda': 55.723196958004436, 'border_count': 135, 'min_child_samples': 15, 'leaf_estimation_iterations': 1, 'value': 0.8567261837923184}.\n"
     ]
    },
    {
     "name": "stdout",
     "output_type": "stream",
     "text": [
      "ROC AUC Score of CatBoost = 0.8567261837923184\n"
     ]
    },
    {
     "name": "stderr",
     "output_type": "stream",
     "text": [
      "\u001b[32m[I 2021-10-02 01:00:50,521]\u001b[0m Trial 57 finished with value: 0.8565957658585973 and parameters: {'iterations': 26667, 'depth': 5, 'learning_rate': 0.006430307432897754, 'random_strength': 18, 'od_wait': 1794, 'reg_lambda': 2.9599909278861105, 'border_count': 248, 'min_child_samples': 16, 'leaf_estimation_iterations': 5}. Best is trial 21 with value: 0.8568339026067109.\u001b[0m\n",
      "\u001b[34m\u001b[1mwandb\u001b[0m: \u001b[33mWARNING\u001b[0m Step must only increase in log calls.  Step 57 < 58; dropping {'iterations': 26667, 'depth': 5, 'learning_rate': 0.006430307432897754, 'random_strength': 18, 'od_wait': 1794, 'reg_lambda': 2.9599909278861105, 'border_count': 248, 'min_child_samples': 16, 'leaf_estimation_iterations': 5, 'value': 0.8565957658585973}.\n"
     ]
    },
    {
     "name": "stdout",
     "output_type": "stream",
     "text": [
      "ROC AUC Score of CatBoost = 0.8565957658585973\n"
     ]
    },
    {
     "name": "stderr",
     "output_type": "stream",
     "text": [
      "\u001b[32m[I 2021-10-02 01:04:41,493]\u001b[0m Trial 58 finished with value: 0.8563388189756805 and parameters: {'iterations': 9409, 'depth': 7, 'learning_rate': 0.027900517822537614, 'random_strength': 23, 'od_wait': 1851, 'reg_lambda': 39.64237356976249, 'border_count': 122, 'min_child_samples': 14, 'leaf_estimation_iterations': 2}. Best is trial 21 with value: 0.8568339026067109.\u001b[0m\n",
      "\u001b[34m\u001b[1mwandb\u001b[0m: \u001b[33mWARNING\u001b[0m Step must only increase in log calls.  Step 58 < 59; dropping {'iterations': 9409, 'depth': 7, 'learning_rate': 0.027900517822537614, 'random_strength': 23, 'od_wait': 1851, 'reg_lambda': 39.64237356976249, 'border_count': 122, 'min_child_samples': 14, 'leaf_estimation_iterations': 2, 'value': 0.8563388189756805}.\n"
     ]
    },
    {
     "name": "stdout",
     "output_type": "stream",
     "text": [
      "ROC AUC Score of CatBoost = 0.8563388189756805\n"
     ]
    },
    {
     "name": "stderr",
     "output_type": "stream",
     "text": [
      "\u001b[32m[I 2021-10-02 01:25:43,517]\u001b[0m Trial 59 finished with value: 0.8565452829995794 and parameters: {'iterations': 22877, 'depth': 9, 'learning_rate': 0.0030558583959852787, 'random_strength': 3, 'od_wait': 1730, 'reg_lambda': 51.770517273024375, 'border_count': 268, 'min_child_samples': 12, 'leaf_estimation_iterations': 3}. Best is trial 21 with value: 0.8568339026067109.\u001b[0m\n",
      "\u001b[34m\u001b[1mwandb\u001b[0m: \u001b[33mWARNING\u001b[0m Step must only increase in log calls.  Step 59 < 60; dropping {'iterations': 22877, 'depth': 9, 'learning_rate': 0.0030558583959852787, 'random_strength': 3, 'od_wait': 1730, 'reg_lambda': 51.770517273024375, 'border_count': 268, 'min_child_samples': 12, 'leaf_estimation_iterations': 3, 'value': 0.8565452829995794}.\n"
     ]
    },
    {
     "name": "stdout",
     "output_type": "stream",
     "text": [
      "ROC AUC Score of CatBoost = 0.8565452829995794\n"
     ]
    },
    {
     "name": "stderr",
     "output_type": "stream",
     "text": [
      "\u001b[32m[I 2021-10-02 01:32:49,933]\u001b[0m Trial 60 finished with value: 0.8564458858487983 and parameters: {'iterations': 29194, 'depth': 6, 'learning_rate': 0.0081492870807736, 'random_strength': 42, 'od_wait': 2000, 'reg_lambda': 65.67449955734675, 'border_count': 51, 'min_child_samples': 11, 'leaf_estimation_iterations': 1}. Best is trial 21 with value: 0.8568339026067109.\u001b[0m\n",
      "\u001b[34m\u001b[1mwandb\u001b[0m: \u001b[33mWARNING\u001b[0m Step must only increase in log calls.  Step 60 < 61; dropping {'iterations': 29194, 'depth': 6, 'learning_rate': 0.0081492870807736, 'random_strength': 42, 'od_wait': 2000, 'reg_lambda': 65.67449955734675, 'border_count': 51, 'min_child_samples': 11, 'leaf_estimation_iterations': 1, 'value': 0.8564458858487983}.\n"
     ]
    },
    {
     "name": "stdout",
     "output_type": "stream",
     "text": [
      "ROC AUC Score of CatBoost = 0.8564458858487983\n"
     ]
    },
    {
     "name": "stderr",
     "output_type": "stream",
     "text": [
      "\u001b[32m[I 2021-10-02 01:47:28,377]\u001b[0m Trial 61 finished with value: 0.8568158680135202 and parameters: {'iterations': 29684, 'depth': 8, 'learning_rate': 0.007565185795012987, 'random_strength': 0, 'od_wait': 1929, 'reg_lambda': 47.185578827215174, 'border_count': 230, 'min_child_samples': 13, 'leaf_estimation_iterations': 1}. Best is trial 21 with value: 0.8568339026067109.\u001b[0m\n",
      "\u001b[34m\u001b[1mwandb\u001b[0m: \u001b[33mWARNING\u001b[0m Step must only increase in log calls.  Step 61 < 62; dropping {'iterations': 29684, 'depth': 8, 'learning_rate': 0.007565185795012987, 'random_strength': 0, 'od_wait': 1929, 'reg_lambda': 47.185578827215174, 'border_count': 230, 'min_child_samples': 13, 'leaf_estimation_iterations': 1, 'value': 0.8568158680135202}.\n"
     ]
    },
    {
     "name": "stdout",
     "output_type": "stream",
     "text": [
      "ROC AUC Score of CatBoost = 0.8568158680135202\n"
     ]
    },
    {
     "name": "stderr",
     "output_type": "stream",
     "text": [
      "\u001b[32m[I 2021-10-02 02:01:05,717]\u001b[0m Trial 62 finished with value: 0.856778034299171 and parameters: {'iterations': 28203, 'depth': 8, 'learning_rate': 0.009330260167925227, 'random_strength': 7, 'od_wait': 1938, 'reg_lambda': 44.80090265318389, 'border_count': 203, 'min_child_samples': 14, 'leaf_estimation_iterations': 1}. Best is trial 21 with value: 0.8568339026067109.\u001b[0m\n",
      "\u001b[34m\u001b[1mwandb\u001b[0m: \u001b[33mWARNING\u001b[0m Step must only increase in log calls.  Step 62 < 63; dropping {'iterations': 28203, 'depth': 8, 'learning_rate': 0.009330260167925227, 'random_strength': 7, 'od_wait': 1938, 'reg_lambda': 44.80090265318389, 'border_count': 203, 'min_child_samples': 14, 'leaf_estimation_iterations': 1, 'value': 0.856778034299171}.\n"
     ]
    },
    {
     "name": "stdout",
     "output_type": "stream",
     "text": [
      "ROC AUC Score of CatBoost = 0.856778034299171\n"
     ]
    },
    {
     "name": "stderr",
     "output_type": "stream",
     "text": [
      "\u001b[32m[I 2021-10-02 02:10:41,391]\u001b[0m Trial 63 finished with value: 0.8566893040595336 and parameters: {'iterations': 18303, 'depth': 8, 'learning_rate': 0.005513044642263303, 'random_strength': 0, 'od_wait': 1833, 'reg_lambda': 48.48056443699659, 'border_count': 241, 'min_child_samples': 13, 'leaf_estimation_iterations': 1}. Best is trial 21 with value: 0.8568339026067109.\u001b[0m\n",
      "\u001b[34m\u001b[1mwandb\u001b[0m: \u001b[33mWARNING\u001b[0m Step must only increase in log calls.  Step 63 < 64; dropping {'iterations': 18303, 'depth': 8, 'learning_rate': 0.005513044642263303, 'random_strength': 0, 'od_wait': 1833, 'reg_lambda': 48.48056443699659, 'border_count': 241, 'min_child_samples': 13, 'leaf_estimation_iterations': 1, 'value': 0.8566893040595336}.\n"
     ]
    },
    {
     "name": "stdout",
     "output_type": "stream",
     "text": [
      "ROC AUC Score of CatBoost = 0.8566893040595336\n"
     ]
    },
    {
     "name": "stderr",
     "output_type": "stream",
     "text": [
      "\u001b[32m[I 2021-10-02 02:22:48,768]\u001b[0m Trial 64 finished with value: 0.8564853434475215 and parameters: {'iterations': 29975, 'depth': 7, 'learning_rate': 0.013372723308796866, 'random_strength': 12, 'od_wait': 493, 'reg_lambda': 41.492580618193415, 'border_count': 256, 'min_child_samples': 13, 'leaf_estimation_iterations': 1}. Best is trial 21 with value: 0.8568339026067109.\u001b[0m\n",
      "\u001b[34m\u001b[1mwandb\u001b[0m: \u001b[33mWARNING\u001b[0m Step must only increase in log calls.  Step 64 < 65; dropping {'iterations': 29975, 'depth': 7, 'learning_rate': 0.013372723308796866, 'random_strength': 12, 'od_wait': 493, 'reg_lambda': 41.492580618193415, 'border_count': 256, 'min_child_samples': 13, 'leaf_estimation_iterations': 1, 'value': 0.8564853434475215}.\n"
     ]
    },
    {
     "name": "stdout",
     "output_type": "stream",
     "text": [
      "ROC AUC Score of CatBoost = 0.8564853434475215\n"
     ]
    },
    {
     "name": "stderr",
     "output_type": "stream",
     "text": [
      "\u001b[32m[I 2021-10-02 02:41:28,144]\u001b[0m Trial 65 finished with value: 0.8567555081468526 and parameters: {'iterations': 27573, 'depth': 9, 'learning_rate': 0.003635268839206973, 'random_strength': 4, 'od_wait': 881, 'reg_lambda': 35.033121269151074, 'border_count': 228, 'min_child_samples': 10, 'leaf_estimation_iterations': 1}. Best is trial 21 with value: 0.8568339026067109.\u001b[0m\n",
      "\u001b[34m\u001b[1mwandb\u001b[0m: \u001b[33mWARNING\u001b[0m Step must only increase in log calls.  Step 65 < 66; dropping {'iterations': 27573, 'depth': 9, 'learning_rate': 0.003635268839206973, 'random_strength': 4, 'od_wait': 881, 'reg_lambda': 35.033121269151074, 'border_count': 228, 'min_child_samples': 10, 'leaf_estimation_iterations': 1, 'value': 0.8567555081468526}.\n"
     ]
    },
    {
     "name": "stdout",
     "output_type": "stream",
     "text": [
      "ROC AUC Score of CatBoost = 0.8567555081468526\n"
     ]
    },
    {
     "name": "stderr",
     "output_type": "stream",
     "text": [
      "\u001b[32m[I 2021-10-02 02:54:53,989]\u001b[0m Trial 66 finished with value: 0.8567923032143244 and parameters: {'iterations': 25602, 'depth': 8, 'learning_rate': 0.007372163077670938, 'random_strength': 9, 'od_wait': 1601, 'reg_lambda': 58.384686578809635, 'border_count': 249, 'min_child_samples': 12, 'leaf_estimation_iterations': 2}. Best is trial 21 with value: 0.8568339026067109.\u001b[0m\n",
      "\u001b[34m\u001b[1mwandb\u001b[0m: \u001b[33mWARNING\u001b[0m Step must only increase in log calls.  Step 66 < 67; dropping {'iterations': 25602, 'depth': 8, 'learning_rate': 0.007372163077670938, 'random_strength': 9, 'od_wait': 1601, 'reg_lambda': 58.384686578809635, 'border_count': 249, 'min_child_samples': 12, 'leaf_estimation_iterations': 2, 'value': 0.8567923032143244}.\n"
     ]
    },
    {
     "name": "stdout",
     "output_type": "stream",
     "text": [
      "ROC AUC Score of CatBoost = 0.8567923032143244\n"
     ]
    },
    {
     "name": "stderr",
     "output_type": "stream",
     "text": [
      "\u001b[32m[I 2021-10-02 03:06:42,732]\u001b[0m Trial 67 finished with value: 0.856091787006966 and parameters: {'iterations': 29426, 'depth': 7, 'learning_rate': 0.001950951939676628, 'random_strength': 16, 'od_wait': 1935, 'reg_lambda': 45.91578283723363, 'border_count': 216, 'min_child_samples': 15, 'leaf_estimation_iterations': 1}. Best is trial 21 with value: 0.8568339026067109.\u001b[0m\n",
      "\u001b[34m\u001b[1mwandb\u001b[0m: \u001b[33mWARNING\u001b[0m Step must only increase in log calls.  Step 67 < 68; dropping {'iterations': 29426, 'depth': 7, 'learning_rate': 0.001950951939676628, 'random_strength': 16, 'od_wait': 1935, 'reg_lambda': 45.91578283723363, 'border_count': 216, 'min_child_samples': 15, 'leaf_estimation_iterations': 1, 'value': 0.856091787006966}.\n"
     ]
    },
    {
     "name": "stdout",
     "output_type": "stream",
     "text": [
      "ROC AUC Score of CatBoost = 0.856091787006966\n"
     ]
    },
    {
     "name": "stderr",
     "output_type": "stream",
     "text": [
      "\u001b[32m[I 2021-10-02 03:17:38,585]\u001b[0m Trial 68 finished with value: 0.8565748071348672 and parameters: {'iterations': 26741, 'depth': 8, 'learning_rate': 0.004311423354010905, 'random_strength': 2, 'od_wait': 1790, 'reg_lambda': 52.16668598309101, 'border_count': 95, 'min_child_samples': 16, 'leaf_estimation_iterations': 1}. Best is trial 21 with value: 0.8568339026067109.\u001b[0m\n",
      "\u001b[34m\u001b[1mwandb\u001b[0m: \u001b[33mWARNING\u001b[0m Step must only increase in log calls.  Step 68 < 69; dropping {'iterations': 26741, 'depth': 8, 'learning_rate': 0.004311423354010905, 'random_strength': 2, 'od_wait': 1790, 'reg_lambda': 52.16668598309101, 'border_count': 95, 'min_child_samples': 16, 'leaf_estimation_iterations': 1, 'value': 0.8565748071348672}.\n"
     ]
    },
    {
     "name": "stdout",
     "output_type": "stream",
     "text": [
      "ROC AUC Score of CatBoost = 0.8565748071348672\n"
     ]
    },
    {
     "name": "stderr",
     "output_type": "stream",
     "text": [
      "\u001b[32m[I 2021-10-02 03:30:07,216]\u001b[0m Trial 69 finished with value: 0.8566812945372797 and parameters: {'iterations': 24710, 'depth': 7, 'learning_rate': 0.010309190981189292, 'random_strength': 12, 'od_wait': 1883, 'reg_lambda': 17.329672430285733, 'border_count': 275, 'min_child_samples': 11, 'leaf_estimation_iterations': 1}. Best is trial 21 with value: 0.8568339026067109.\u001b[0m\n",
      "\u001b[34m\u001b[1mwandb\u001b[0m: \u001b[33mWARNING\u001b[0m Step must only increase in log calls.  Step 69 < 70; dropping {'iterations': 24710, 'depth': 7, 'learning_rate': 0.010309190981189292, 'random_strength': 12, 'od_wait': 1883, 'reg_lambda': 17.329672430285733, 'border_count': 275, 'min_child_samples': 11, 'leaf_estimation_iterations': 1, 'value': 0.8566812945372797}.\n"
     ]
    },
    {
     "name": "stdout",
     "output_type": "stream",
     "text": [
      "ROC AUC Score of CatBoost = 0.8566812945372797\n"
     ]
    },
    {
     "name": "stderr",
     "output_type": "stream",
     "text": [
      "\u001b[32m[I 2021-10-02 03:46:41,541]\u001b[0m Trial 70 finished with value: 0.8557361179449773 and parameters: {'iterations': 28017, 'depth': 8, 'learning_rate': 0.020953275032792065, 'random_strength': 8, 'od_wait': 1707, 'reg_lambda': 55.8552076107309, 'border_count': 261, 'min_child_samples': 14, 'leaf_estimation_iterations': 2}. Best is trial 21 with value: 0.8568339026067109.\u001b[0m\n",
      "\u001b[34m\u001b[1mwandb\u001b[0m: \u001b[33mWARNING\u001b[0m Step must only increase in log calls.  Step 70 < 71; dropping {'iterations': 28017, 'depth': 8, 'learning_rate': 0.020953275032792065, 'random_strength': 8, 'od_wait': 1707, 'reg_lambda': 55.8552076107309, 'border_count': 261, 'min_child_samples': 14, 'leaf_estimation_iterations': 2, 'value': 0.8557361179449773}.\n"
     ]
    },
    {
     "name": "stdout",
     "output_type": "stream",
     "text": [
      "ROC AUC Score of CatBoost = 0.8557361179449773\n"
     ]
    },
    {
     "name": "stderr",
     "output_type": "stream",
     "text": [
      "\u001b[32m[I 2021-10-02 04:06:40,487]\u001b[0m Trial 71 finished with value: 0.8567307848837511 and parameters: {'iterations': 29945, 'depth': 9, 'learning_rate': 0.00731574370972708, 'random_strength': 0, 'od_wait': 1942, 'reg_lambda': 49.293039861844356, 'border_count': 230, 'min_child_samples': 12, 'leaf_estimation_iterations': 1}. Best is trial 21 with value: 0.8568339026067109.\u001b[0m\n",
      "\u001b[34m\u001b[1mwandb\u001b[0m: \u001b[33mWARNING\u001b[0m Step must only increase in log calls.  Step 71 < 72; dropping {'iterations': 29945, 'depth': 9, 'learning_rate': 0.00731574370972708, 'random_strength': 0, 'od_wait': 1942, 'reg_lambda': 49.293039861844356, 'border_count': 230, 'min_child_samples': 12, 'leaf_estimation_iterations': 1, 'value': 0.8567307848837511}.\n"
     ]
    },
    {
     "name": "stdout",
     "output_type": "stream",
     "text": [
      "ROC AUC Score of CatBoost = 0.8567307848837511\n"
     ]
    },
    {
     "name": "stderr",
     "output_type": "stream",
     "text": [
      "\u001b[32m[I 2021-10-02 04:21:02,283]\u001b[0m Trial 72 finished with value: 0.8568333078925761 and parameters: {'iterations': 28978, 'depth': 8, 'learning_rate': 0.005286863488261767, 'random_strength': 6, 'od_wait': 1873, 'reg_lambda': 47.25269685408242, 'border_count': 224, 'min_child_samples': 13, 'leaf_estimation_iterations': 1}. Best is trial 21 with value: 0.8568339026067109.\u001b[0m\n",
      "\u001b[34m\u001b[1mwandb\u001b[0m: \u001b[33mWARNING\u001b[0m Step must only increase in log calls.  Step 72 < 73; dropping {'iterations': 28978, 'depth': 8, 'learning_rate': 0.005286863488261767, 'random_strength': 6, 'od_wait': 1873, 'reg_lambda': 47.25269685408242, 'border_count': 224, 'min_child_samples': 13, 'leaf_estimation_iterations': 1, 'value': 0.8568333078925761}.\n"
     ]
    },
    {
     "name": "stdout",
     "output_type": "stream",
     "text": [
      "ROC AUC Score of CatBoost = 0.8568333078925761\n"
     ]
    },
    {
     "name": "stderr",
     "output_type": "stream",
     "text": [
      "\u001b[32m[I 2021-10-02 04:39:52,768]\u001b[0m Trial 73 finished with value: 0.8521079015912658 and parameters: {'iterations': 28922, 'depth': 9, 'learning_rate': 0.06293912160945743, 'random_strength': 6, 'od_wait': 1862, 'reg_lambda': 46.571217773417594, 'border_count': 208, 'min_child_samples': 13, 'leaf_estimation_iterations': 1}. Best is trial 21 with value: 0.8568339026067109.\u001b[0m\n",
      "\u001b[34m\u001b[1mwandb\u001b[0m: \u001b[33mWARNING\u001b[0m Step must only increase in log calls.  Step 73 < 74; dropping {'iterations': 28922, 'depth': 9, 'learning_rate': 0.06293912160945743, 'random_strength': 6, 'od_wait': 1862, 'reg_lambda': 46.571217773417594, 'border_count': 208, 'min_child_samples': 13, 'leaf_estimation_iterations': 1, 'value': 0.8521079015912658}.\n"
     ]
    },
    {
     "name": "stdout",
     "output_type": "stream",
     "text": [
      "ROC AUC Score of CatBoost = 0.8521079015912658\n"
     ]
    },
    {
     "name": "stderr",
     "output_type": "stream",
     "text": [
      "\u001b[32m[I 2021-10-02 04:53:14,327]\u001b[0m Trial 74 finished with value: 0.8568099099262875 and parameters: {'iterations': 27577, 'depth': 8, 'learning_rate': 0.005047156110261068, 'random_strength': 3, 'od_wait': 1801, 'reg_lambda': 43.776035158374725, 'border_count': 191, 'min_child_samples': 14, 'leaf_estimation_iterations': 1}. Best is trial 21 with value: 0.8568339026067109.\u001b[0m\n",
      "\u001b[34m\u001b[1mwandb\u001b[0m: \u001b[33mWARNING\u001b[0m Step must only increase in log calls.  Step 74 < 75; dropping {'iterations': 27577, 'depth': 8, 'learning_rate': 0.005047156110261068, 'random_strength': 3, 'od_wait': 1801, 'reg_lambda': 43.776035158374725, 'border_count': 191, 'min_child_samples': 14, 'leaf_estimation_iterations': 1, 'value': 0.8568099099262875}.\n"
     ]
    },
    {
     "name": "stdout",
     "output_type": "stream",
     "text": [
      "ROC AUC Score of CatBoost = 0.8568099099262875\n"
     ]
    },
    {
     "name": "stderr",
     "output_type": "stream",
     "text": [
      "\u001b[32m[I 2021-10-02 05:06:03,065]\u001b[0m Trial 75 finished with value: 0.8568048069770804 and parameters: {'iterations': 27756, 'depth': 8, 'learning_rate': 0.005459256579413883, 'random_strength': 3, 'od_wait': 1792, 'reg_lambda': 43.94205281494608, 'border_count': 146, 'min_child_samples': 15, 'leaf_estimation_iterations': 1}. Best is trial 21 with value: 0.8568339026067109.\u001b[0m\n",
      "\u001b[34m\u001b[1mwandb\u001b[0m: \u001b[33mWARNING\u001b[0m Step must only increase in log calls.  Step 75 < 76; dropping {'iterations': 27756, 'depth': 8, 'learning_rate': 0.005459256579413883, 'random_strength': 3, 'od_wait': 1792, 'reg_lambda': 43.94205281494608, 'border_count': 146, 'min_child_samples': 15, 'leaf_estimation_iterations': 1, 'value': 0.8568048069770804}.\n"
     ]
    },
    {
     "name": "stdout",
     "output_type": "stream",
     "text": [
      "ROC AUC Score of CatBoost = 0.8568048069770804\n"
     ]
    },
    {
     "name": "stderr",
     "output_type": "stream",
     "text": [
      "\u001b[32m[I 2021-10-02 05:18:09,383]\u001b[0m Trial 76 finished with value: 0.8568041937871745 and parameters: {'iterations': 26039, 'depth': 8, 'learning_rate': 0.005477293070834302, 'random_strength': 11, 'od_wait': 1644, 'reg_lambda': 38.25244773518084, 'border_count': 147, 'min_child_samples': 17, 'leaf_estimation_iterations': 1}. Best is trial 21 with value: 0.8568339026067109.\u001b[0m\n",
      "\u001b[34m\u001b[1mwandb\u001b[0m: \u001b[33mWARNING\u001b[0m Step must only increase in log calls.  Step 76 < 77; dropping {'iterations': 26039, 'depth': 8, 'learning_rate': 0.005477293070834302, 'random_strength': 11, 'od_wait': 1644, 'reg_lambda': 38.25244773518084, 'border_count': 147, 'min_child_samples': 17, 'leaf_estimation_iterations': 1, 'value': 0.8568041937871745}.\n"
     ]
    },
    {
     "name": "stdout",
     "output_type": "stream",
     "text": [
      "ROC AUC Score of CatBoost = 0.8568041937871745\n"
     ]
    },
    {
     "name": "stderr",
     "output_type": "stream",
     "text": [
      "\u001b[32m[I 2021-10-02 05:34:27,330]\u001b[0m Trial 77 finished with value: 0.8565166522761811 and parameters: {'iterations': 26037, 'depth': 9, 'learning_rate': 0.002742268874464508, 'random_strength': 11, 'od_wait': 1504, 'reg_lambda': 37.99416904164059, 'border_count': 165, 'min_child_samples': 17, 'leaf_estimation_iterations': 1}. Best is trial 21 with value: 0.8568339026067109.\u001b[0m\n",
      "\u001b[34m\u001b[1mwandb\u001b[0m: \u001b[33mWARNING\u001b[0m Step must only increase in log calls.  Step 77 < 78; dropping {'iterations': 26037, 'depth': 9, 'learning_rate': 0.002742268874464508, 'random_strength': 11, 'od_wait': 1504, 'reg_lambda': 37.99416904164059, 'border_count': 165, 'min_child_samples': 17, 'leaf_estimation_iterations': 1, 'value': 0.8565166522761811}.\n"
     ]
    },
    {
     "name": "stdout",
     "output_type": "stream",
     "text": [
      "ROC AUC Score of CatBoost = 0.8565166522761811\n"
     ]
    },
    {
     "name": "stderr",
     "output_type": "stream",
     "text": [
      "\u001b[32m[I 2021-10-02 05:46:53,833]\u001b[0m Trial 78 finished with value: 0.8568065071153329 and parameters: {'iterations': 26949, 'depth': 8, 'learning_rate': 0.005125132563833761, 'random_strength': 6, 'od_wait': 1614, 'reg_lambda': 34.941591343201246, 'border_count': 141, 'min_child_samples': 18, 'leaf_estimation_iterations': 1}. Best is trial 21 with value: 0.8568339026067109.\u001b[0m\n",
      "\u001b[34m\u001b[1mwandb\u001b[0m: \u001b[33mWARNING\u001b[0m Step must only increase in log calls.  Step 78 < 79; dropping {'iterations': 26949, 'depth': 8, 'learning_rate': 0.005125132563833761, 'random_strength': 6, 'od_wait': 1614, 'reg_lambda': 34.941591343201246, 'border_count': 141, 'min_child_samples': 18, 'leaf_estimation_iterations': 1, 'value': 0.8568065071153329}.\n"
     ]
    },
    {
     "name": "stdout",
     "output_type": "stream",
     "text": [
      "ROC AUC Score of CatBoost = 0.8568065071153329\n"
     ]
    },
    {
     "name": "stderr",
     "output_type": "stream",
     "text": [
      "\u001b[32m[I 2021-10-02 05:59:35,468]\u001b[0m Trial 79 finished with value: 0.8567702708389261 and parameters: {'iterations': 27051, 'depth': 8, 'learning_rate': 0.004663403970187703, 'random_strength': 16, 'od_wait': 1641, 'reg_lambda': 35.30986897720578, 'border_count': 156, 'min_child_samples': 19, 'leaf_estimation_iterations': 1}. Best is trial 21 with value: 0.8568339026067109.\u001b[0m\n",
      "\u001b[34m\u001b[1mwandb\u001b[0m: \u001b[33mWARNING\u001b[0m Step must only increase in log calls.  Step 79 < 80; dropping {'iterations': 27051, 'depth': 8, 'learning_rate': 0.004663403970187703, 'random_strength': 16, 'od_wait': 1641, 'reg_lambda': 35.30986897720578, 'border_count': 156, 'min_child_samples': 19, 'leaf_estimation_iterations': 1, 'value': 0.8567702708389261}.\n"
     ]
    },
    {
     "name": "stdout",
     "output_type": "stream",
     "text": [
      "ROC AUC Score of CatBoost = 0.8567702708389261\n"
     ]
    },
    {
     "name": "stderr",
     "output_type": "stream",
     "text": [
      "\u001b[32m[I 2021-10-02 06:11:22,220]\u001b[0m Trial 80 finished with value: 0.8553731857745406 and parameters: {'iterations': 24607, 'depth': 8, 'learning_rate': 0.0014331884163905214, 'random_strength': 6, 'od_wait': 1552, 'reg_lambda': 27.90614867390301, 'border_count': 146, 'min_child_samples': 19, 'leaf_estimation_iterations': 1}. Best is trial 21 with value: 0.8568339026067109.\u001b[0m\n",
      "\u001b[34m\u001b[1mwandb\u001b[0m: \u001b[33mWARNING\u001b[0m Step must only increase in log calls.  Step 80 < 81; dropping {'iterations': 24607, 'depth': 8, 'learning_rate': 0.0014331884163905214, 'random_strength': 6, 'od_wait': 1552, 'reg_lambda': 27.90614867390301, 'border_count': 146, 'min_child_samples': 19, 'leaf_estimation_iterations': 1, 'value': 0.8553731857745406}.\n"
     ]
    },
    {
     "name": "stdout",
     "output_type": "stream",
     "text": [
      "ROC AUC Score of CatBoost = 0.8553731857745406\n"
     ]
    },
    {
     "name": "stderr",
     "output_type": "stream",
     "text": [
      "\u001b[32m[I 2021-10-02 06:24:02,318]\u001b[0m Trial 81 finished with value: 0.8567977211331879 and parameters: {'iterations': 27900, 'depth': 8, 'learning_rate': 0.005325563513137433, 'random_strength': 3, 'od_wait': 1752, 'reg_lambda': 32.81611982948981, 'border_count': 147, 'min_child_samples': 18, 'leaf_estimation_iterations': 1}. Best is trial 21 with value: 0.8568339026067109.\u001b[0m\n",
      "\u001b[34m\u001b[1mwandb\u001b[0m: \u001b[33mWARNING\u001b[0m Step must only increase in log calls.  Step 81 < 82; dropping {'iterations': 27900, 'depth': 8, 'learning_rate': 0.005325563513137433, 'random_strength': 3, 'od_wait': 1752, 'reg_lambda': 32.81611982948981, 'border_count': 147, 'min_child_samples': 18, 'leaf_estimation_iterations': 1, 'value': 0.8567977211331879}.\n"
     ]
    },
    {
     "name": "stdout",
     "output_type": "stream",
     "text": [
      "ROC AUC Score of CatBoost = 0.8567977211331879\n"
     ]
    },
    {
     "name": "stderr",
     "output_type": "stream",
     "text": [
      "\u001b[32m[I 2021-10-02 06:36:22,055]\u001b[0m Trial 82 finished with value: 0.8567112626787723 and parameters: {'iterations': 26451, 'depth': 8, 'learning_rate': 0.003931438946431401, 'random_strength': 7, 'od_wait': 1375, 'reg_lambda': 39.945906229701905, 'border_count': 169, 'min_child_samples': 15, 'leaf_estimation_iterations': 1}. Best is trial 21 with value: 0.8568339026067109.\u001b[0m\n",
      "\u001b[34m\u001b[1mwandb\u001b[0m: \u001b[33mWARNING\u001b[0m Step must only increase in log calls.  Step 82 < 83; dropping {'iterations': 26451, 'depth': 8, 'learning_rate': 0.003931438946431401, 'random_strength': 7, 'od_wait': 1375, 'reg_lambda': 39.945906229701905, 'border_count': 169, 'min_child_samples': 15, 'leaf_estimation_iterations': 1, 'value': 0.8567112626787723}.\n"
     ]
    },
    {
     "name": "stdout",
     "output_type": "stream",
     "text": [
      "ROC AUC Score of CatBoost = 0.8567112626787723\n"
     ]
    },
    {
     "name": "stderr",
     "output_type": "stream",
     "text": [
      "\u001b[32m[I 2021-10-02 06:49:10,645]\u001b[0m Trial 83 finished with value: 0.856227386163986 and parameters: {'iterations': 27689, 'depth': 8, 'learning_rate': 0.002165614166195013, 'random_strength': 14, 'od_wait': 1679, 'reg_lambda': 44.035584055553144, 'border_count': 144, 'min_child_samples': 17, 'leaf_estimation_iterations': 1}. Best is trial 21 with value: 0.8568339026067109.\u001b[0m\n",
      "\u001b[34m\u001b[1mwandb\u001b[0m: \u001b[33mWARNING\u001b[0m Step must only increase in log calls.  Step 83 < 84; dropping {'iterations': 27689, 'depth': 8, 'learning_rate': 0.002165614166195013, 'random_strength': 14, 'od_wait': 1679, 'reg_lambda': 44.035584055553144, 'border_count': 144, 'min_child_samples': 17, 'leaf_estimation_iterations': 1, 'value': 0.856227386163986}.\n"
     ]
    },
    {
     "name": "stdout",
     "output_type": "stream",
     "text": [
      "ROC AUC Score of CatBoost = 0.856227386163986\n"
     ]
    },
    {
     "name": "stderr",
     "output_type": "stream",
     "text": [
      "\u001b[32m[I 2021-10-02 07:01:57,924]\u001b[0m Trial 84 finished with value: 0.856768462417228 and parameters: {'iterations': 23610, 'depth': 9, 'learning_rate': 0.00633656705473789, 'random_strength': 10, 'od_wait': 1805, 'reg_lambda': 42.21526206090696, 'border_count': 128, 'min_child_samples': 20, 'leaf_estimation_iterations': 1}. Best is trial 21 with value: 0.8568339026067109.\u001b[0m\n",
      "\u001b[34m\u001b[1mwandb\u001b[0m: \u001b[33mWARNING\u001b[0m Step must only increase in log calls.  Step 84 < 85; dropping {'iterations': 23610, 'depth': 9, 'learning_rate': 0.00633656705473789, 'random_strength': 10, 'od_wait': 1805, 'reg_lambda': 42.21526206090696, 'border_count': 128, 'min_child_samples': 20, 'leaf_estimation_iterations': 1, 'value': 0.856768462417228}.\n"
     ]
    },
    {
     "name": "stdout",
     "output_type": "stream",
     "text": [
      "ROC AUC Score of CatBoost = 0.856768462417228\n"
     ]
    },
    {
     "name": "stderr",
     "output_type": "stream",
     "text": [
      "\u001b[32m[I 2021-10-02 07:12:56,498]\u001b[0m Trial 85 finished with value: 0.8566288046512074 and parameters: {'iterations': 28448, 'depth': 7, 'learning_rate': 0.0034539920256579154, 'random_strength': 2, 'od_wait': 1631, 'reg_lambda': 36.26818970679969, 'border_count': 190, 'min_child_samples': 16, 'leaf_estimation_iterations': 1}. Best is trial 21 with value: 0.8568339026067109.\u001b[0m\n",
      "\u001b[34m\u001b[1mwandb\u001b[0m: \u001b[33mWARNING\u001b[0m Step must only increase in log calls.  Step 85 < 86; dropping {'iterations': 28448, 'depth': 7, 'learning_rate': 0.0034539920256579154, 'random_strength': 2, 'od_wait': 1631, 'reg_lambda': 36.26818970679969, 'border_count': 190, 'min_child_samples': 16, 'leaf_estimation_iterations': 1, 'value': 0.8566288046512074}.\n"
     ]
    },
    {
     "name": "stdout",
     "output_type": "stream",
     "text": [
      "ROC AUC Score of CatBoost = 0.8566288046512074\n"
     ]
    },
    {
     "name": "stderr",
     "output_type": "stream",
     "text": [
      "\u001b[32m[I 2021-10-02 07:18:34,602]\u001b[0m Trial 86 finished with value: 0.8561379547265946 and parameters: {'iterations': 29237, 'depth': 3, 'learning_rate': 0.005386187003572468, 'random_strength': 5, 'od_wait': 1129, 'reg_lambda': 47.999398474274905, 'border_count': 122, 'min_child_samples': 18, 'leaf_estimation_iterations': 1}. Best is trial 21 with value: 0.8568339026067109.\u001b[0m\n",
      "\u001b[34m\u001b[1mwandb\u001b[0m: \u001b[33mWARNING\u001b[0m Step must only increase in log calls.  Step 86 < 87; dropping {'iterations': 29237, 'depth': 3, 'learning_rate': 0.005386187003572468, 'random_strength': 5, 'od_wait': 1129, 'reg_lambda': 47.999398474274905, 'border_count': 122, 'min_child_samples': 18, 'leaf_estimation_iterations': 1, 'value': 0.8561379547265946}.\n"
     ]
    },
    {
     "name": "stdout",
     "output_type": "stream",
     "text": [
      "ROC AUC Score of CatBoost = 0.8561379547265946\n"
     ]
    },
    {
     "name": "stderr",
     "output_type": "stream",
     "text": [
      "\u001b[32m[I 2021-10-02 07:21:09,849]\u001b[0m Trial 87 finished with value: 0.8551824020237047 and parameters: {'iterations': 3908, 'depth': 8, 'learning_rate': 0.00879850206777315, 'random_strength': 9, 'od_wait': 1719, 'reg_lambda': 39.114544383842244, 'border_count': 152, 'min_child_samples': 15, 'leaf_estimation_iterations': 1}. Best is trial 21 with value: 0.8568339026067109.\u001b[0m\n",
      "\u001b[34m\u001b[1mwandb\u001b[0m: \u001b[33mWARNING\u001b[0m Step must only increase in log calls.  Step 87 < 88; dropping {'iterations': 3908, 'depth': 8, 'learning_rate': 0.00879850206777315, 'random_strength': 9, 'od_wait': 1719, 'reg_lambda': 39.114544383842244, 'border_count': 152, 'min_child_samples': 15, 'leaf_estimation_iterations': 1, 'value': 0.8551824020237047}.\n"
     ]
    },
    {
     "name": "stdout",
     "output_type": "stream",
     "text": [
      "ROC AUC Score of CatBoost = 0.8551824020237047\n"
     ]
    },
    {
     "name": "stderr",
     "output_type": "stream",
     "text": [
      "\u001b[32m[I 2021-10-02 07:29:52,295]\u001b[0m Trial 88 finished with value: 0.8562816384843501 and parameters: {'iterations': 25525, 'depth': 7, 'learning_rate': 0.002858637666763266, 'random_strength': 69, 'od_wait': 1774, 'reg_lambda': 30.853817711912598, 'border_count': 110, 'min_child_samples': 17, 'leaf_estimation_iterations': 1}. Best is trial 21 with value: 0.8568339026067109.\u001b[0m\n",
      "\u001b[34m\u001b[1mwandb\u001b[0m: \u001b[33mWARNING\u001b[0m Step must only increase in log calls.  Step 88 < 89; dropping {'iterations': 25525, 'depth': 7, 'learning_rate': 0.002858637666763266, 'random_strength': 69, 'od_wait': 1774, 'reg_lambda': 30.853817711912598, 'border_count': 110, 'min_child_samples': 17, 'leaf_estimation_iterations': 1, 'value': 0.8562816384843501}.\n"
     ]
    },
    {
     "name": "stdout",
     "output_type": "stream",
     "text": [
      "ROC AUC Score of CatBoost = 0.8562816384843501\n"
     ]
    },
    {
     "name": "stderr",
     "output_type": "stream",
     "text": [
      "\u001b[32m[I 2021-10-02 07:42:15,182]\u001b[0m Trial 89 finished with value: 0.8567631937370483 and parameters: {'iterations': 27084, 'depth': 8, 'learning_rate': 0.004183995142785317, 'random_strength': 3, 'od_wait': 1826, 'reg_lambda': 41.2064546162869, 'border_count': 141, 'min_child_samples': 16, 'leaf_estimation_iterations': 1}. Best is trial 21 with value: 0.8568339026067109.\u001b[0m\n",
      "\u001b[34m\u001b[1mwandb\u001b[0m: \u001b[33mWARNING\u001b[0m Step must only increase in log calls.  Step 89 < 90; dropping {'iterations': 27084, 'depth': 8, 'learning_rate': 0.004183995142785317, 'random_strength': 3, 'od_wait': 1826, 'reg_lambda': 41.2064546162869, 'border_count': 141, 'min_child_samples': 16, 'leaf_estimation_iterations': 1, 'value': 0.8567631937370483}.\n"
     ]
    },
    {
     "name": "stdout",
     "output_type": "stream",
     "text": [
      "ROC AUC Score of CatBoost = 0.8567631937370483\n"
     ]
    },
    {
     "name": "stderr",
     "output_type": "stream",
     "text": [
      "\u001b[32m[I 2021-10-02 07:50:37,492]\u001b[0m Trial 90 finished with value: 0.8566822084818848 and parameters: {'iterations': 21084, 'depth': 7, 'learning_rate': 0.006279951392489939, 'random_strength': 20, 'od_wait': 1889, 'reg_lambda': 44.64970584607126, 'border_count': 182, 'min_child_samples': 14, 'leaf_estimation_iterations': 2}. Best is trial 21 with value: 0.8568339026067109.\u001b[0m\n",
      "\u001b[34m\u001b[1mwandb\u001b[0m: \u001b[33mWARNING\u001b[0m Step must only increase in log calls.  Step 90 < 91; dropping {'iterations': 21084, 'depth': 7, 'learning_rate': 0.006279951392489939, 'random_strength': 20, 'od_wait': 1889, 'reg_lambda': 44.64970584607126, 'border_count': 182, 'min_child_samples': 14, 'leaf_estimation_iterations': 2, 'value': 0.8566822084818848}.\n"
     ]
    },
    {
     "name": "stdout",
     "output_type": "stream",
     "text": [
      "ROC AUC Score of CatBoost = 0.8566822084818848\n"
     ]
    },
    {
     "name": "stderr",
     "output_type": "stream",
     "text": [
      "\u001b[32m[I 2021-10-02 08:03:51,517]\u001b[0m Trial 91 finished with value: 0.8568094244138773 and parameters: {'iterations': 28622, 'depth': 8, 'learning_rate': 0.004940318769313171, 'random_strength': 2, 'od_wait': 1964, 'reg_lambda': 47.75618063517469, 'border_count': 161, 'min_child_samples': 13, 'leaf_estimation_iterations': 1}. Best is trial 21 with value: 0.8568339026067109.\u001b[0m\n",
      "\u001b[34m\u001b[1mwandb\u001b[0m: \u001b[33mWARNING\u001b[0m Step must only increase in log calls.  Step 91 < 92; dropping {'iterations': 28622, 'depth': 8, 'learning_rate': 0.004940318769313171, 'random_strength': 2, 'od_wait': 1964, 'reg_lambda': 47.75618063517469, 'border_count': 161, 'min_child_samples': 13, 'leaf_estimation_iterations': 1, 'value': 0.8568094244138773}.\n"
     ]
    },
    {
     "name": "stdout",
     "output_type": "stream",
     "text": [
      "ROC AUC Score of CatBoost = 0.8568094244138773\n"
     ]
    },
    {
     "name": "stderr",
     "output_type": "stream",
     "text": [
      "\u001b[32m[I 2021-10-02 08:16:58,227]\u001b[0m Trial 92 finished with value: 0.8568198064014496 and parameters: {'iterations': 28332, 'depth': 8, 'learning_rate': 0.0049032718435225225, 'random_strength': 6, 'od_wait': 1971, 'reg_lambda': 43.15484550505178, 'border_count': 160, 'min_child_samples': 14, 'leaf_estimation_iterations': 1}. Best is trial 21 with value: 0.8568339026067109.\u001b[0m\n",
      "\u001b[34m\u001b[1mwandb\u001b[0m: \u001b[33mWARNING\u001b[0m Step must only increase in log calls.  Step 92 < 93; dropping {'iterations': 28332, 'depth': 8, 'learning_rate': 0.0049032718435225225, 'random_strength': 6, 'od_wait': 1971, 'reg_lambda': 43.15484550505178, 'border_count': 160, 'min_child_samples': 14, 'leaf_estimation_iterations': 1, 'value': 0.8568198064014496}.\n"
     ]
    },
    {
     "name": "stdout",
     "output_type": "stream",
     "text": [
      "ROC AUC Score of CatBoost = 0.8568198064014496\n"
     ]
    },
    {
     "name": "stderr",
     "output_type": "stream",
     "text": [
      "\u001b[32m[I 2021-10-02 08:29:56,851]\u001b[0m Trial 93 finished with value: 0.8568074130525463 and parameters: {'iterations': 28221, 'depth': 8, 'learning_rate': 0.004940364248081953, 'random_strength': 7, 'od_wait': 1889, 'reg_lambda': 34.040036925176835, 'border_count': 158, 'min_child_samples': 14, 'leaf_estimation_iterations': 1}. Best is trial 21 with value: 0.8568339026067109.\u001b[0m\n",
      "\u001b[34m\u001b[1mwandb\u001b[0m: \u001b[33mWARNING\u001b[0m Step must only increase in log calls.  Step 93 < 94; dropping {'iterations': 28221, 'depth': 8, 'learning_rate': 0.004940364248081953, 'random_strength': 7, 'od_wait': 1889, 'reg_lambda': 34.040036925176835, 'border_count': 158, 'min_child_samples': 14, 'leaf_estimation_iterations': 1, 'value': 0.8568074130525463}.\n"
     ]
    },
    {
     "name": "stdout",
     "output_type": "stream",
     "text": [
      "ROC AUC Score of CatBoost = 0.8568074130525463\n"
     ]
    },
    {
     "name": "stderr",
     "output_type": "stream",
     "text": [
      "\u001b[32m[I 2021-10-02 08:43:30,874]\u001b[0m Trial 94 finished with value: 0.8568141765070894 and parameters: {'iterations': 29322, 'depth': 8, 'learning_rate': 0.004757880225263845, 'random_strength': 5, 'od_wait': 1892, 'reg_lambda': 34.434106922987574, 'border_count': 161, 'min_child_samples': 14, 'leaf_estimation_iterations': 1}. Best is trial 21 with value: 0.8568339026067109.\u001b[0m\n",
      "\u001b[34m\u001b[1mwandb\u001b[0m: \u001b[33mWARNING\u001b[0m Step must only increase in log calls.  Step 94 < 95; dropping {'iterations': 29322, 'depth': 8, 'learning_rate': 0.004757880225263845, 'random_strength': 5, 'od_wait': 1892, 'reg_lambda': 34.434106922987574, 'border_count': 161, 'min_child_samples': 14, 'leaf_estimation_iterations': 1, 'value': 0.8568141765070894}.\n"
     ]
    },
    {
     "name": "stdout",
     "output_type": "stream",
     "text": [
      "ROC AUC Score of CatBoost = 0.8568141765070894\n"
     ]
    },
    {
     "name": "stderr",
     "output_type": "stream",
     "text": [
      "\u001b[32m[I 2021-10-02 09:01:10,757]\u001b[0m Trial 95 finished with value: 0.8568423435731147 and parameters: {'iterations': 29338, 'depth': 9, 'learning_rate': 0.004769831650275205, 'random_strength': 7, 'od_wait': 1968, 'reg_lambda': 28.435563240493586, 'border_count': 162, 'min_child_samples': 14, 'leaf_estimation_iterations': 1}. Best is trial 95 with value: 0.8568423435731147.\u001b[0m\n",
      "\u001b[34m\u001b[1mwandb\u001b[0m: \u001b[33mWARNING\u001b[0m Step must only increase in log calls.  Step 95 < 96; dropping {'iterations': 29338, 'depth': 9, 'learning_rate': 0.004769831650275205, 'random_strength': 7, 'od_wait': 1968, 'reg_lambda': 28.435563240493586, 'border_count': 162, 'min_child_samples': 14, 'leaf_estimation_iterations': 1, 'value': 0.8568423435731147}.\n"
     ]
    },
    {
     "name": "stdout",
     "output_type": "stream",
     "text": [
      "ROC AUC Score of CatBoost = 0.8568423435731147\n"
     ]
    },
    {
     "name": "stderr",
     "output_type": "stream",
     "text": [
      "\u001b[32m[I 2021-10-02 09:25:56,919]\u001b[0m Trial 96 finished with value: 0.8567869295932342 and parameters: {'iterations': 29265, 'depth': 10, 'learning_rate': 0.004559223871337423, 'random_strength': 14, 'od_wait': 1963, 'reg_lambda': 28.595736662871456, 'border_count': 161, 'min_child_samples': 14, 'leaf_estimation_iterations': 1}. Best is trial 95 with value: 0.8568423435731147.\u001b[0m\n",
      "\u001b[34m\u001b[1mwandb\u001b[0m: \u001b[33mWARNING\u001b[0m Step must only increase in log calls.  Step 96 < 97; dropping {'iterations': 29265, 'depth': 10, 'learning_rate': 0.004559223871337423, 'random_strength': 14, 'od_wait': 1963, 'reg_lambda': 28.595736662871456, 'border_count': 161, 'min_child_samples': 14, 'leaf_estimation_iterations': 1, 'value': 0.8567869295932342}.\n"
     ]
    },
    {
     "name": "stdout",
     "output_type": "stream",
     "text": [
      "ROC AUC Score of CatBoost = 0.8567869295932342\n"
     ]
    },
    {
     "name": "stderr",
     "output_type": "stream",
     "text": [
      "\u001b[32m[I 2021-10-02 09:43:23,922]\u001b[0m Trial 97 finished with value: 0.856718294380942 and parameters: {'iterations': 28431, 'depth': 9, 'learning_rate': 0.0038129464530147214, 'random_strength': 55, 'od_wait': 1899, 'reg_lambda': 20.60663725898789, 'border_count': 172, 'min_child_samples': 13, 'leaf_estimation_iterations': 1}. Best is trial 95 with value: 0.8568423435731147.\u001b[0m\n",
      "\u001b[34m\u001b[1mwandb\u001b[0m: \u001b[33mWARNING\u001b[0m Step must only increase in log calls.  Step 97 < 98; dropping {'iterations': 28431, 'depth': 9, 'learning_rate': 0.0038129464530147214, 'random_strength': 55, 'od_wait': 1899, 'reg_lambda': 20.60663725898789, 'border_count': 172, 'min_child_samples': 13, 'leaf_estimation_iterations': 1, 'value': 0.856718294380942}.\n"
     ]
    },
    {
     "name": "stdout",
     "output_type": "stream",
     "text": [
      "ROC AUC Score of CatBoost = 0.856718294380942\n"
     ]
    },
    {
     "name": "stderr",
     "output_type": "stream",
     "text": [
      "\u001b[32m[I 2021-10-02 10:02:07,842]\u001b[0m Trial 98 finished with value: 0.8567280151709886 and parameters: {'iterations': 29555, 'depth': 9, 'learning_rate': 0.003505819774785112, 'random_strength': 8, 'od_wait': 1973, 'reg_lambda': 24.717646416657928, 'border_count': 161, 'min_child_samples': 14, 'leaf_estimation_iterations': 3}. Best is trial 95 with value: 0.8568423435731147.\u001b[0m\n",
      "\u001b[34m\u001b[1mwandb\u001b[0m: \u001b[33mWARNING\u001b[0m Step must only increase in log calls.  Step 98 < 99; dropping {'iterations': 29555, 'depth': 9, 'learning_rate': 0.003505819774785112, 'random_strength': 8, 'od_wait': 1973, 'reg_lambda': 24.717646416657928, 'border_count': 161, 'min_child_samples': 14, 'leaf_estimation_iterations': 3, 'value': 0.8567280151709886}.\n"
     ]
    },
    {
     "name": "stdout",
     "output_type": "stream",
     "text": [
      "ROC AUC Score of CatBoost = 0.8567280151709886\n"
     ]
    },
    {
     "name": "stderr",
     "output_type": "stream",
     "text": [
      "\u001b[32m[I 2021-10-02 10:19:58,331]\u001b[0m Trial 99 finished with value: 0.8567797303969964 and parameters: {'iterations': 28771, 'depth': 9, 'learning_rate': 0.007947948720605974, 'random_strength': 5, 'od_wait': 1845, 'reg_lambda': 46.52812648470962, 'border_count': 176, 'min_child_samples': 14, 'leaf_estimation_iterations': 1}. Best is trial 95 with value: 0.8568423435731147.\u001b[0m\n",
      "\u001b[34m\u001b[1mwandb\u001b[0m: \u001b[33mWARNING\u001b[0m Step must only increase in log calls.  Step 99 < 100; dropping {'iterations': 28771, 'depth': 9, 'learning_rate': 0.007947948720605974, 'random_strength': 5, 'od_wait': 1845, 'reg_lambda': 46.52812648470962, 'border_count': 176, 'min_child_samples': 14, 'leaf_estimation_iterations': 1, 'value': 0.8567797303969964}.\n"
     ]
    },
    {
     "name": "stdout",
     "output_type": "stream",
     "text": [
      "ROC AUC Score of CatBoost = 0.8567797303969964\n"
     ]
    }
   ],
   "source": [
    "for x in range(100):\n",
    "    study.optimize(objective, n_trials = 1, callbacks = [wandbc]) #n_jobs = multiprocessing.cpu_count())\n",
    "    dump(study, filename=datapath/f'optuna_catboost_study_thru_trial{x}_20211001.joblib')"
   ]
  },
  {
   "cell_type": "code",
   "execution_count": 20,
   "id": "27a746ff-c0e1-4218-8809-f102a58d2491",
   "metadata": {
    "id": "27a746ff-c0e1-4218-8809-f102a58d2491"
   },
   "outputs": [
    {
     "data": {
      "text/plain": [
       "['/home/sf/code/kaggle/tabular_playgrounds/oct2021/datasets/optuna_catboost_best_20211001.joblib']"
      ]
     },
     "execution_count": 20,
     "metadata": {},
     "output_type": "execute_result"
    }
   ],
   "source": [
    "dump(study.best_trial.params, filename=datapath/'optuna_catboost_best_20211001.joblib')\n",
    "# pickle.dump(study.best_trial.params, open('CatBoost_Hyperparameter.pickle', 'wb'))\n",
    "# print('CatBoost Hyperparameter:', study.best_trial.params)"
   ]
  },
  {
   "cell_type": "code",
   "execution_count": 21,
   "id": "f02e689e-b20c-48e5-a7d9-02467b4f3dbd",
   "metadata": {
    "id": "f02e689e-b20c-48e5-a7d9-02467b4f3dbd"
   },
   "outputs": [
    {
     "data": {
      "text/html": [
       "<br/>Waiting for W&B process to finish, PID 4479<br/>Program ended successfully."
      ],
      "text/plain": [
       "<IPython.core.display.HTML object>"
      ]
     },
     "metadata": {},
     "output_type": "display_data"
    },
    {
     "data": {
      "application/vnd.jupyter.widget-view+json": {
       "model_id": "",
       "version_major": 2,
       "version_minor": 0
      },
      "text/plain": [
       "VBox(children=(Label(value=' 0.00MB of 0.00MB uploaded (0.00MB deduped)\\r'), FloatProgress(value=1.0, max=1.0)…"
      ]
     },
     "metadata": {},
     "output_type": "display_data"
    },
    {
     "data": {
      "text/html": [
       "Find user logs for this run at: <code>/home/sf/Dropbox/code_cloud/python_code/kaggle/tabular_playgrounds/oct2021/wandb/run-20211001_134536-2xgm4oz4/logs/debug.log</code>"
      ],
      "text/plain": [
       "<IPython.core.display.HTML object>"
      ]
     },
     "metadata": {},
     "output_type": "display_data"
    },
    {
     "data": {
      "text/html": [
       "Find internal logs for this run at: <code>/home/sf/Dropbox/code_cloud/python_code/kaggle/tabular_playgrounds/oct2021/wandb/run-20211001_134536-2xgm4oz4/logs/debug-internal.log</code>"
      ],
      "text/plain": [
       "<IPython.core.display.HTML object>"
      ]
     },
     "metadata": {},
     "output_type": "display_data"
    },
    {
     "data": {
      "text/html": [
       "<h3>Run summary:</h3><br/><style>\n",
       "    table.wandb td:nth-child(1) { padding: 0 10px; text-align: right }\n",
       "    </style><table class=\"wandb\">\n",
       "<tr><td>valid_AUC</td><td>0.85678</td></tr></table>"
      ],
      "text/plain": [
       "<IPython.core.display.HTML object>"
      ]
     },
     "metadata": {},
     "output_type": "display_data"
    },
    {
     "data": {
      "text/html": [
       "<h3>Run history:</h3><br/><style>\n",
       "    table.wandb td:nth-child(1) { padding: 0 10px; text-align: right }\n",
       "    </style><table class=\"wandb\">\n",
       "<tr><td>valid_AUC</td><td>▆████████████▇█▇▁████████████▇██████████</td></tr></table><br/>"
      ],
      "text/plain": [
       "<IPython.core.display.HTML object>"
      ]
     },
     "metadata": {},
     "output_type": "display_data"
    },
    {
     "data": {
      "text/html": [
       "Synced 6 W&B file(s), 0 media file(s), 0 artifact file(s) and 0 other file(s)"
      ],
      "text/plain": [
       "<IPython.core.display.HTML object>"
      ]
     },
     "metadata": {},
     "output_type": "display_data"
    },
    {
     "data": {
      "text/html": [
       "\n",
       "                    <br/>Synced <strong style=\"color:#cdcd00\">sweep_catboost_20211001_134532</strong>: <a href=\"https://wandb.ai/hushifang/202110_Kaggle_tabular_playground/runs/2xgm4oz4\" target=\"_blank\">https://wandb.ai/hushifang/202110_Kaggle_tabular_playground/runs/2xgm4oz4</a><br/>\n",
       "                "
      ],
      "text/plain": [
       "<IPython.core.display.HTML object>"
      ]
     },
     "metadata": {},
     "output_type": "display_data"
    }
   ],
   "source": [
    "wandb.log({'catboost_params': study.best_trial.params})\n",
    "wandb.finish()"
   ]
  },
  {
   "cell_type": "code",
   "execution_count": 22,
   "id": "7a0ea613-d900-4a88-a071-98e171f4007b",
   "metadata": {},
   "outputs": [
    {
     "data": {
      "text/plain": [
       "{'iterations': 29338,\n",
       " 'depth': 9,\n",
       " 'learning_rate': 0.004769831650275205,\n",
       " 'random_strength': 7,\n",
       " 'od_wait': 1968,\n",
       " 'reg_lambda': 28.435563240493586,\n",
       " 'border_count': 162,\n",
       " 'min_child_samples': 14,\n",
       " 'leaf_estimation_iterations': 1}"
      ]
     },
     "execution_count": 22,
     "metadata": {},
     "output_type": "execute_result"
    }
   ],
   "source": [
    "study.best_trial.params"
   ]
  }
 ],
 "metadata": {
  "accelerator": "GPU",
  "colab": {
   "name": "sweep_catboost_20210924.ipynb",
   "provenance": []
  },
  "kernelspec": {
   "display_name": "Python 3",
   "language": "python",
   "name": "python3"
  },
  "language_info": {
   "codemirror_mode": {
    "name": "ipython",
    "version": 3
   },
   "file_extension": ".py",
   "mimetype": "text/x-python",
   "name": "python",
   "nbconvert_exporter": "python",
   "pygments_lexer": "ipython3",
   "version": "3.8.11"
  }
 },
 "nbformat": 4,
 "nbformat_minor": 5
}
