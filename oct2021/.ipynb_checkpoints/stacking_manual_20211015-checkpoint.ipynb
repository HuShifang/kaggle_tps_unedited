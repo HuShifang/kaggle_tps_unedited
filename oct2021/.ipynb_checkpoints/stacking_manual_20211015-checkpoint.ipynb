{
 "cells": [
  {
   "cell_type": "markdown",
   "id": "1d4e7f70-25a3-4d58-b98a-3a695e55ee53",
   "metadata": {},
   "source": [
    "# Baseline\n",
    "Setting up a more robust baseline notebook, suitable for use with all of the \"Big Three\" (XGBoost, CatBoost, LightGBM) libraries and on either Google Colab or the local machine."
   ]
  },
  {
   "cell_type": "markdown",
   "id": "1e124c3d-0e1f-4053-8e72-52569a4fe3e4",
   "metadata": {},
   "source": [
    "# Setup"
   ]
  },
  {
   "cell_type": "code",
   "execution_count": 1,
   "id": "dae2ff1e-bd1f-4cc9-8357-5a88d1746ffb",
   "metadata": {},
   "outputs": [],
   "source": [
    "# two manual flags (ex-config)\n",
    "COLAB = False\n",
    "USE_GPU = True\n",
    "libraries = ['xgboost', 'lightgbm', 'catboost', 'widedeep-SAINT']"
   ]
  },
  {
   "cell_type": "code",
   "execution_count": 2,
   "id": "16849bd2-428c-497b-ba3b-675002f8d041",
   "metadata": {},
   "outputs": [],
   "source": [
    "# basic imports\n",
    "from pathlib import Path\n",
    "import os\n",
    "import math\n",
    "from datetime import datetime\n",
    "import random"
   ]
  },
  {
   "cell_type": "code",
   "execution_count": 3,
   "id": "12d2654b-3bc6-49b5-ade8-cc82112b60e5",
   "metadata": {},
   "outputs": [],
   "source": [
    "%matplotlib inline\n",
    "%config Completer.use_jedi = False\n",
    "os.environ['WANDB_NOTEBOOK_NAME'] = f\"stacking_manual_{datetime.now().strftime('%Y%m%d')}.ipynb\""
   ]
  },
  {
   "cell_type": "code",
   "execution_count": 4,
   "id": "416d6118-e543-4df4-9219-2d4a63743c3a",
   "metadata": {},
   "outputs": [],
   "source": [
    "# handle Google Colab-specific library installation/updating\n",
    "if COLAB:\n",
    "    # much of the below inspired by or cribbed from the May 2021 Kaggle Tabular Playground winner, at \n",
    "    # https://colab.research.google.com/gist/academicsuspect/0aac7bd6e506f5f70295bfc9a3dc2250/tabular-may-baseline.ipynb?authuser=1#scrollTo=LJoVKJb5wN0L\n",
    "    \n",
    "    # Kaggle API for downloading the datasets\n",
    "#     !pip install --upgrade -q kaggle\n",
    "\n",
    "    # weights and biases\n",
    "    !pip install -qqqU wandb\n",
    "    \n",
    "    # Optuna for parameter search\n",
    "    !pip install -q optuna\n",
    "\n",
    "    # upgrade sklearn\n",
    "    !pip install --upgrade scikit-learn\n",
    "\n",
    "#     !pip install category_encoders\n",
    "    \n",
    "    if 'catboost' in libraries:\n",
    "        !pip install catboost\n",
    "    \n",
    "    if 'xgboost' in libraries:\n",
    "        if USE_GPU: \n",
    "            # this part is from https://github.com/rapidsai/gputreeshap/issues/24\n",
    "            !pip install cmake --upgrade\n",
    "            # !pip install sklearn --upgrade\n",
    "            !git clone --recursive https://github.com/dmlc/xgboost\n",
    "            %cd /content/xgboost\n",
    "            !mkdir build\n",
    "            %cd build\n",
    "            !cmake .. -DUSE_CUDA=ON\n",
    "            !make -j4\n",
    "            %cd /content/xgboost/python-package\n",
    "            !python setup.py install --use-cuda --use-nccl\n",
    "            !/opt/bin/nvidia-smi\n",
    "            !pip install shap\n",
    "        else:\n",
    "            !pip install --upgrade xgboost\n",
    "    if 'lightgbm' in libraries:\n",
    "        if USE_GPU:\n",
    "            # lighgbm gpu compatible\n",
    "            !git clone --recursive https://github.com/Microsoft/LightGBM\n",
    "            ! cd LightGBM && rm -rf build && mkdir build && cd build && cmake -DUSE_GPU=1 ../../LightGBM && make -j4 && cd ../python-package && python3 setup.py install --precompile --gpu;\n",
    "        else:\n",
    "            !pip install --upgrade lightgbm\n",
    "        \n",
    "\n",
    "        "
   ]
  },
  {
   "cell_type": "markdown",
   "id": "d40df194-4474-4bcf-ac5a-98efe24b91fd",
   "metadata": {},
   "source": [
    "Now, non-stdlib imports"
   ]
  },
  {
   "cell_type": "code",
   "execution_count": 5,
   "id": "a01e85f7-d602-4dde-bef9-611683cd74c4",
   "metadata": {},
   "outputs": [
    {
     "data": {
      "text/html": [
       "<style type='text/css'>\n",
       ".datatable table.frame { margin-bottom: 0; }\n",
       ".datatable table.frame thead { border-bottom: none; }\n",
       ".datatable table.frame tr.coltypes td {  color: #FFFFFF;  line-height: 6px;  padding: 0 0.5em;}\n",
       ".datatable .bool    { background: #DDDD99; }\n",
       ".datatable .object  { background: #565656; }\n",
       ".datatable .int     { background: #5D9E5D; }\n",
       ".datatable .float   { background: #4040CC; }\n",
       ".datatable .str     { background: #CC4040; }\n",
       ".datatable .time    { background: #40CC40; }\n",
       ".datatable .row_index {  background: var(--jp-border-color3);  border-right: 1px solid var(--jp-border-color0);  color: var(--jp-ui-font-color3);  font-size: 9px;}\n",
       ".datatable .frame tbody td { text-align: left; }\n",
       ".datatable .frame tr.coltypes .row_index {  background: var(--jp-border-color0);}\n",
       ".datatable th:nth-child(2) { padding-left: 12px; }\n",
       ".datatable .hellipsis {  color: var(--jp-cell-editor-border-color);}\n",
       ".datatable .vellipsis {  background: var(--jp-layout-color0);  color: var(--jp-cell-editor-border-color);}\n",
       ".datatable .na {  color: var(--jp-cell-editor-border-color);  font-size: 80%;}\n",
       ".datatable .sp {  opacity: 0.25;}\n",
       ".datatable .footer { font-size: 9px; }\n",
       ".datatable .frame_dimensions {  background: var(--jp-border-color3);  border-top: 1px solid var(--jp-border-color0);  color: var(--jp-ui-font-color3);  display: inline-block;  opacity: 0.6;  padding: 1px 10px 1px 5px;}\n",
       "</style>\n"
      ],
      "text/plain": [
       "<IPython.core.display.HTML object>"
      ]
     },
     "metadata": {},
     "output_type": "display_data"
    }
   ],
   "source": [
    "import pandas as pd\n",
    "import numpy as np\n",
    "import matplotlib.pyplot as plt\n",
    "from tqdm.notebook import tqdm\n",
    "\n",
    "# general ML tooling\n",
    "from sklearn.model_selection import train_test_split, StratifiedKFold, KFold\n",
    "from sklearn.metrics import log_loss, roc_auc_score\n",
    "import wandb\n",
    "from wandb.xgboost import wandb_callback\n",
    "from wandb.lightgbm import wandb_callback\n",
    "from sklearn.impute import SimpleImputer #, KNNImputer\n",
    "# import timm\n",
    "\n",
    "import seaborn as sns\n",
    "\n",
    "from catboost import CatBoostClassifier\n",
    "from xgboost import XGBClassifier\n",
    "from lightgbm import LGBMClassifier\n",
    "# from sklearn.ensemble import StackingClassifier, RandomForestClassifier\n",
    "from sklearn.preprocessing import StandardScaler #, MinMaxScaler, MaxAbsScaler, RobustScaler, PolynomialFeatures\n",
    "from sklearn.linear_model import LogisticRegression\n",
    "# from sklearn.feature_selection import SelectKBest, f_regression\n",
    "from joblib import dump, load\n",
    "# feature engineering tools\n",
    "# from sklearn.feature_selection import mutual_info_regression\n",
    "# import featuretools as ft\n"
   ]
  },
  {
   "cell_type": "code",
   "execution_count": 6,
   "id": "80fee2dc-9908-499b-a6ba-c7cfeaa286fd",
   "metadata": {},
   "outputs": [],
   "source": [
    "from pytorch_widedeep import Trainer\n",
    "from pytorch_widedeep.preprocessing import WidePreprocessor, TabPreprocessor\n",
    "from pytorch_widedeep.models import Wide, TabMlp, WideDeep, SAINT, TabTransformer, TabNet, TabFastFormer, TabResnet\n",
    "from pytorch_widedeep.metrics import Accuracy\n",
    "from torchmetrics import AUROC\n",
    "import torch\n",
    "from torch.optim import Adam, AdamW, Adagrad, SGD, RMSprop, LBFGS\n",
    "from torch.optim.lr_scheduler import ReduceLROnPlateau, CosineAnnealingWarmRestarts, CyclicLR, OneCycleLR, StepLR, CosineAnnealingLR\n",
    "from pytorch_widedeep.callbacks import EarlyStopping, LRHistory, ModelCheckpoint"
   ]
  },
  {
   "cell_type": "code",
   "execution_count": 7,
   "id": "fcc50eeb-5833-4421-af80-57f081b849b1",
   "metadata": {},
   "outputs": [
    {
     "name": "stderr",
     "output_type": "stream",
     "text": [
      "/home/sf/anaconda3/envs/tabular-x/lib/python3.8/site-packages/ipykernel/ipkernel.py:287: DeprecationWarning: `should_run_async` will not call `transform_cell` automatically in the future. Please pass the result to `transformed_cell` argument and any exception that happen during thetransform in `preprocessing_exc_tuple` in IPython 7.17 and above.\n",
      "  and should_run_async(code)\n",
      "/home/sf/anaconda3/envs/tabular-x/lib/python3.8/site-packages/patsy/constraint.py:13: DeprecationWarning: Using or importing the ABCs from 'collections' instead of from 'collections.abc' is deprecated since Python 3.3, and in 3.10 it will stop working\n",
      "  from collections import Mapping\n"
     ]
    }
   ],
   "source": [
    "import category_encoders as ce"
   ]
  },
  {
   "cell_type": "markdown",
   "id": "5f6166c2-ca44-4b7c-a4dc-3db47c2624fe",
   "metadata": {},
   "source": [
    "Now, datapath setup"
   ]
  },
  {
   "cell_type": "code",
   "execution_count": 8,
   "id": "3c18a787-2193-43cb-87ee-51c6ae7b6351",
   "metadata": {},
   "outputs": [
    {
     "name": "stderr",
     "output_type": "stream",
     "text": [
      "/home/sf/anaconda3/envs/tabular-x/lib/python3.8/site-packages/ipykernel/ipkernel.py:287: DeprecationWarning: `should_run_async` will not call `transform_cell` automatically in the future. Please pass the result to `transformed_cell` argument and any exception that happen during thetransform in `preprocessing_exc_tuple` in IPython 7.17 and above.\n",
      "  and should_run_async(code)\n"
     ]
    }
   ],
   "source": [
    "# # This is the code for reading the train.csv and converting it to a .feather file\n",
    "# df = pd.read_csv(datapath/'train.csv', index_col='id', low_memory=False)\n",
    "# df.index.name = None\n",
    "# df.to_feather(path='./dataset_df.feather')"
   ]
  },
  {
   "cell_type": "code",
   "execution_count": 9,
   "id": "0a41cd7e-accb-41c4-ad8b-0eaa3e2b0ad5",
   "metadata": {},
   "outputs": [],
   "source": [
    "if COLAB:\n",
    "    # mount Google Drive\n",
    "    from google.colab import drive\n",
    "    drive.mount('/content/drive')\n",
    "    \n",
    "    # handling datapath\n",
    "    datapath = Path('/content/drive/MyDrive/kaggle/tabular_playgrounds/oct2021/')\n",
    "    \n",
    "else:\n",
    "    # if on local machine\n",
    "#     datapath = Path('/media/sf/easystore/kaggle_data/tabular_playgrounds/sep2021/')  \n",
    "    root = Path('/home/sf/code/kaggle/tabular_playgrounds/oct2021/')\n",
    "    datapath = root/'datasets'\n",
    "    edapath = root/'EDA'\n",
    "    modelpath = Path('/media/sf/easystore/kaggle_data/tabular_playgrounds/oct2021/models/')\n",
    "    predpath = root/'preds'\n",
    "    subpath = root/'submissions'\n",
    "    altdatapath = Path('/media/sf/easystore/kaggle_data/tabular_playgrounds/oct2021/alt_datasets/')\n",
    "    \n",
    "    for pth in [root, datapath, edapath, modelpath, predpath, subpath]:\n",
    "        pth.mkdir(exist_ok=True)\n",
    "    \n"
   ]
  },
  {
   "cell_type": "code",
   "execution_count": 10,
   "id": "fad41f0c-4a5c-470a-bda3-98152c30bc6b",
   "metadata": {},
   "outputs": [],
   "source": [
    "SEED = 42\n",
    "\n",
    "# Function to seed everything\n",
    "def seed_everything(seed):\n",
    "    random.seed(seed)\n",
    "    np.random.seed(seed)\n",
    "    os.environ['PYTHONHASHSEED'] = str(seed)\n",
    "\n",
    "seed_everything(seed=SEED)"
   ]
  },
  {
   "cell_type": "markdown",
   "id": "2f6e47b3-43bd-4d35-b463-9d76100c6ed5",
   "metadata": {},
   "source": [
    "## Ex-Model Config"
   ]
  },
  {
   "cell_type": "code",
   "execution_count": 11,
   "id": "fb288275-a858-4806-9dc0-0b316c334536",
   "metadata": {},
   "outputs": [],
   "source": [
    "# meta-config for preprocessing and cross-validation, but NOT for model parameters\n",
    "exmodel_config = {\n",
    "#     \"feature_selector\": SelectKBest,\n",
    "#     \"k_best\": 80,\n",
    "#     \"feature_selection_scoring\": f_regression,\n",
    "#     'random_state': SEED,\n",
    "#     'feature_generation': ['NaN_counts', 'SummaryStats', 'NaN_OneHots'],\n",
    "#     'subsample': 1,\n",
    "    'cross_val_strategy': KFold, # None for holdout, or the relevant sklearn class\n",
    "    'kfolds': 5, # if 1, that means just doing holdout\n",
    "    'test_size': 0.2,\n",
    "#     'features_created': False,\n",
    "#     'feature_creator': None,\n",
    "}"
   ]
  },
  {
   "cell_type": "markdown",
   "id": "a52d9012-34f1-435a-ba16-4416e0d4a286",
   "metadata": {},
   "source": [
    "## Data Setup"
   ]
  },
  {
   "cell_type": "markdown",
   "id": "c912a62f-970a-48b4-b428-d886f2612fc2",
   "metadata": {},
   "source": [
    "**TODO** Write some conditional logic here to automate it -- possibly as part of a sklearn.*pipeline"
   ]
  },
  {
   "cell_type": "code",
   "execution_count": 12,
   "id": "61b8603b-68c3-40da-8406-53e143758905",
   "metadata": {},
   "outputs": [],
   "source": [
    "# if exmodel_config['scaler']:\n",
    "#     scaler = exmodel_config['scaler']()\n",
    "#     scaler.fit_transform()"
   ]
  },
  {
   "cell_type": "code",
   "execution_count": 15,
   "id": "a431150a-fcb2-4bb3-a0f9-d35df9406c75",
   "metadata": {},
   "outputs": [],
   "source": [
    "train_source = altdatapath/'X_orig.feather'\n",
    "X = pd.read_feather(path=train_source)\n",
    "# df.index.name = 'id'\n",
    "# y = np.array(df.target)\n",
    "y = load(datapath/'y.joblib')\n",
    "# features = [x for x in df.columns if x != 'target']\n",
    "# X = df[features] # passing X as a pd.DataFrame to the trainer below, rather than as an np.ndarray\n",
    "# X_train = df[features]\n",
    "# X.index.name = 'id'\n",
    "# y.index.name = 'id'\n"
   ]
  },
  {
   "cell_type": "code",
   "execution_count": 17,
   "id": "764fa08c-4902-410b-83f9-364b84405684",
   "metadata": {},
   "outputs": [],
   "source": [
    "categoricals = [f for f in X.columns if ((1000000 - X[f].nunique()) / 1000000) >=0.9]"
   ]
  },
  {
   "cell_type": "code",
   "execution_count": 18,
   "id": "f37cc996-d499-4d5f-9901-61bc352fea7e",
   "metadata": {},
   "outputs": [],
   "source": [
    "encoder = ce.JamesSteinEncoder(cols=categoricals)\n",
    "encoder.fit(X,y)\n",
    "X_enc = encoder.transform(X)"
   ]
  },
  {
   "cell_type": "code",
   "execution_count": null,
   "id": "bde1f7e7-d604-4dbc-a32a-df7335410023",
   "metadata": {},
   "outputs": [],
   "source": [
    "# X_train.columns"
   ]
  },
  {
   "cell_type": "code",
   "execution_count": null,
   "id": "6c692aa8-5a70-4693-b8a8-34c118bd4e97",
   "metadata": {},
   "outputs": [],
   "source": [
    "# wide_cols = [f for f in X_train.columns if X_train[f].nunique() == 2]"
   ]
  },
  {
   "cell_type": "code",
   "execution_count": null,
   "id": "03d14116-5f65-42b2-ba19-069053487f66",
   "metadata": {
    "tags": []
   },
   "outputs": [],
   "source": [
    "# wide_cols"
   ]
  },
  {
   "cell_type": "code",
   "execution_count": null,
   "id": "e0a8ec05-b6d2-465b-97be-f5fcb5472570",
   "metadata": {},
   "outputs": [],
   "source": [
    "# X_train.shape"
   ]
  },
  {
   "cell_type": "code",
   "execution_count": 19,
   "id": "8f4ff0c7-cef9-4fc6-9b22-cc2eff8e8df0",
   "metadata": {},
   "outputs": [],
   "source": [
    "# X = np.array(X_train)\n",
    "# y = np.array(y_train)\n",
    "\n",
    "# del df, X_train, y_train\n",
    "\n",
    "\n",
    "# exmodel_config['feature_count'] = len(X.columns)\n",
    "exmodel_config['feature_count'] = X_enc.shape[1]\n",
    "exmodel_config['instance_count'] = X_enc.shape[0]\n",
    "exmodel_config['encoder'] = str(encoder)\n",
    "# exmodel_config['feature_generator'] = None\n",
    "# exmodel_config['feature_generator'] = \"Summary statistics\"\n",
    "\n",
    "exmodel_config['train_source'] = str(train_source)"
   ]
  },
  {
   "cell_type": "code",
   "execution_count": null,
   "id": "73a16bc8-0075-4eeb-9e8f-3744db0d04fb",
   "metadata": {},
   "outputs": [],
   "source": [
    "# X_df = pd.DataFrame(X)"
   ]
  },
  {
   "cell_type": "code",
   "execution_count": null,
   "id": "c946a618-8d4b-43b3-bcb9-fb841624bf20",
   "metadata": {},
   "outputs": [],
   "source": [
    "# print(X_df.iloc[:,0])"
   ]
  },
  {
   "cell_type": "code",
   "execution_count": null,
   "id": "bde4c44c-eb9e-48a9-929c-f5b9d70eb070",
   "metadata": {},
   "outputs": [],
   "source": [
    "# print(X_df.iloc[:, list(X_df.columns)[0]])"
   ]
  },
  {
   "cell_type": "code",
   "execution_count": 20,
   "id": "9897e600-60ec-4896-97d3-e029f0eee460",
   "metadata": {},
   "outputs": [],
   "source": [
    "test_source = datapath/'test.feather'\n",
    "exmodel_config['test_source'] = str(test_source)\n",
    "X_test = pd.read_feather(path=test_source)\n",
    "# X_test = X_test.iloc[:, 1:]"
   ]
  },
  {
   "cell_type": "code",
   "execution_count": 21,
   "id": "dac8ccb0-74b6-40d0-9503-763a3c1519b3",
   "metadata": {},
   "outputs": [
    {
     "data": {
      "text/plain": [
       "(500000, 286)"
      ]
     },
     "execution_count": 21,
     "metadata": {},
     "output_type": "execute_result"
    }
   ],
   "source": [
    "X_test.shape"
   ]
  },
  {
   "cell_type": "code",
   "execution_count": 23,
   "id": "b096bdec-fd23-4a45-a6af-88ab3a7e88cb",
   "metadata": {
    "collapsed": true,
    "jupyter": {
     "outputs_hidden": true
    },
    "tags": []
   },
   "outputs": [
    {
     "data": {
      "text/html": [
       "<div>\n",
       "<style scoped>\n",
       "    .dataframe tbody tr th:only-of-type {\n",
       "        vertical-align: middle;\n",
       "    }\n",
       "\n",
       "    .dataframe tbody tr th {\n",
       "        vertical-align: top;\n",
       "    }\n",
       "\n",
       "    .dataframe thead th {\n",
       "        text-align: right;\n",
       "    }\n",
       "</style>\n",
       "<table border=\"1\" class=\"dataframe\">\n",
       "  <thead>\n",
       "    <tr style=\"text-align: right;\">\n",
       "      <th></th>\n",
       "      <th>id</th>\n",
       "      <th>f0</th>\n",
       "      <th>f1</th>\n",
       "      <th>f2</th>\n",
       "      <th>f3</th>\n",
       "      <th>f4</th>\n",
       "      <th>f5</th>\n",
       "      <th>f6</th>\n",
       "      <th>f7</th>\n",
       "      <th>f8</th>\n",
       "      <th>...</th>\n",
       "      <th>f275</th>\n",
       "      <th>f276</th>\n",
       "      <th>f277</th>\n",
       "      <th>f278</th>\n",
       "      <th>f279</th>\n",
       "      <th>f280</th>\n",
       "      <th>f281</th>\n",
       "      <th>f282</th>\n",
       "      <th>f283</th>\n",
       "      <th>f284</th>\n",
       "    </tr>\n",
       "  </thead>\n",
       "  <tbody>\n",
       "    <tr>\n",
       "      <th>0</th>\n",
       "      <td>1000000</td>\n",
       "      <td>0.178216</td>\n",
       "      <td>0.435617</td>\n",
       "      <td>0.010230</td>\n",
       "      <td>0.202074</td>\n",
       "      <td>0.390170</td>\n",
       "      <td>0.324221</td>\n",
       "      <td>0.221722</td>\n",
       "      <td>0.738894</td>\n",
       "      <td>0.582588</td>\n",
       "      <td>...</td>\n",
       "      <td>1</td>\n",
       "      <td>0</td>\n",
       "      <td>0</td>\n",
       "      <td>0</td>\n",
       "      <td>0</td>\n",
       "      <td>0</td>\n",
       "      <td>1</td>\n",
       "      <td>1</td>\n",
       "      <td>1</td>\n",
       "      <td>0</td>\n",
       "    </tr>\n",
       "    <tr>\n",
       "      <th>1</th>\n",
       "      <td>1000001</td>\n",
       "      <td>0.181250</td>\n",
       "      <td>0.476455</td>\n",
       "      <td>0.022413</td>\n",
       "      <td>0.283146</td>\n",
       "      <td>0.598020</td>\n",
       "      <td>0.349508</td>\n",
       "      <td>0.283467</td>\n",
       "      <td>0.721575</td>\n",
       "      <td>0.268990</td>\n",
       "      <td>...</td>\n",
       "      <td>0</td>\n",
       "      <td>0</td>\n",
       "      <td>0</td>\n",
       "      <td>0</td>\n",
       "      <td>0</td>\n",
       "      <td>0</td>\n",
       "      <td>0</td>\n",
       "      <td>0</td>\n",
       "      <td>0</td>\n",
       "      <td>0</td>\n",
       "    </tr>\n",
       "    <tr>\n",
       "      <th>2</th>\n",
       "      <td>1000002</td>\n",
       "      <td>0.159721</td>\n",
       "      <td>0.451202</td>\n",
       "      <td>0.259649</td>\n",
       "      <td>0.365274</td>\n",
       "      <td>0.594634</td>\n",
       "      <td>0.413502</td>\n",
       "      <td>0.249318</td>\n",
       "      <td>0.642339</td>\n",
       "      <td>0.411104</td>\n",
       "      <td>...</td>\n",
       "      <td>0</td>\n",
       "      <td>0</td>\n",
       "      <td>0</td>\n",
       "      <td>0</td>\n",
       "      <td>0</td>\n",
       "      <td>0</td>\n",
       "      <td>1</td>\n",
       "      <td>0</td>\n",
       "      <td>0</td>\n",
       "      <td>0</td>\n",
       "    </tr>\n",
       "    <tr>\n",
       "      <th>3</th>\n",
       "      <td>1000003</td>\n",
       "      <td>0.182424</td>\n",
       "      <td>0.520976</td>\n",
       "      <td>0.095344</td>\n",
       "      <td>0.327742</td>\n",
       "      <td>0.741830</td>\n",
       "      <td>0.358711</td>\n",
       "      <td>0.270077</td>\n",
       "      <td>0.601662</td>\n",
       "      <td>0.297742</td>\n",
       "      <td>...</td>\n",
       "      <td>0</td>\n",
       "      <td>0</td>\n",
       "      <td>0</td>\n",
       "      <td>0</td>\n",
       "      <td>0</td>\n",
       "      <td>1</td>\n",
       "      <td>1</td>\n",
       "      <td>0</td>\n",
       "      <td>0</td>\n",
       "      <td>0</td>\n",
       "    </tr>\n",
       "    <tr>\n",
       "      <th>4</th>\n",
       "      <td>1000004</td>\n",
       "      <td>0.229329</td>\n",
       "      <td>0.336513</td>\n",
       "      <td>0.023511</td>\n",
       "      <td>0.300913</td>\n",
       "      <td>0.668738</td>\n",
       "      <td>0.481586</td>\n",
       "      <td>0.545660</td>\n",
       "      <td>0.667849</td>\n",
       "      <td>0.546045</td>\n",
       "      <td>...</td>\n",
       "      <td>0</td>\n",
       "      <td>0</td>\n",
       "      <td>0</td>\n",
       "      <td>0</td>\n",
       "      <td>1</td>\n",
       "      <td>0</td>\n",
       "      <td>0</td>\n",
       "      <td>1</td>\n",
       "      <td>0</td>\n",
       "      <td>0</td>\n",
       "    </tr>\n",
       "  </tbody>\n",
       "</table>\n",
       "<p>5 rows × 286 columns</p>\n",
       "</div>"
      ],
      "text/plain": [
       "        id        f0        f1        f2        f3        f4        f5  \\\n",
       "0  1000000  0.178216  0.435617  0.010230  0.202074  0.390170  0.324221   \n",
       "1  1000001  0.181250  0.476455  0.022413  0.283146  0.598020  0.349508   \n",
       "2  1000002  0.159721  0.451202  0.259649  0.365274  0.594634  0.413502   \n",
       "3  1000003  0.182424  0.520976  0.095344  0.327742  0.741830  0.358711   \n",
       "4  1000004  0.229329  0.336513  0.023511  0.300913  0.668738  0.481586   \n",
       "\n",
       "         f6        f7        f8  ...  f275  f276  f277  f278  f279  f280  \\\n",
       "0  0.221722  0.738894  0.582588  ...     1     0     0     0     0     0   \n",
       "1  0.283467  0.721575  0.268990  ...     0     0     0     0     0     0   \n",
       "2  0.249318  0.642339  0.411104  ...     0     0     0     0     0     0   \n",
       "3  0.270077  0.601662  0.297742  ...     0     0     0     0     0     1   \n",
       "4  0.545660  0.667849  0.546045  ...     0     0     0     0     1     0   \n",
       "\n",
       "   f281  f282  f283  f284  \n",
       "0     1     1     1     0  \n",
       "1     0     0     0     0  \n",
       "2     1     0     0     0  \n",
       "3     1     0     0     0  \n",
       "4     0     1     0     0  \n",
       "\n",
       "[5 rows x 286 columns]"
      ]
     },
     "execution_count": 23,
     "metadata": {},
     "output_type": "execute_result"
    }
   ],
   "source": [
    "X_test.head()"
   ]
  },
  {
   "cell_type": "code",
   "execution_count": 24,
   "id": "c8b19df9-e593-4eca-870d-896e462eac42",
   "metadata": {},
   "outputs": [
    {
     "name": "stderr",
     "output_type": "stream",
     "text": [
      "/home/sf/anaconda3/envs/tabular-x/lib/python3.8/site-packages/ipykernel/ipkernel.py:287: DeprecationWarning: `should_run_async` will not call `transform_cell` automatically in the future. Please pass the result to `transformed_cell` argument and any exception that happen during thetransform in `preprocessing_exc_tuple` in IPython 7.17 and above.\n",
      "  and should_run_async(code)\n"
     ]
    }
   ],
   "source": [
    "X_test_enc = encoder.transform(X_test.iloc[:, 1:])"
   ]
  },
  {
   "cell_type": "code",
   "execution_count": 26,
   "id": "204dac0e-a445-4b5b-91a6-3f484c0d95fc",
   "metadata": {},
   "outputs": [
    {
     "data": {
      "text/plain": [
       "(500000, 285)"
      ]
     },
     "execution_count": 26,
     "metadata": {},
     "output_type": "execute_result"
    }
   ],
   "source": [
    "X_test_enc.shape"
   ]
  },
  {
   "cell_type": "code",
   "execution_count": 29,
   "id": "b072f224-db7c-4cab-aec0-f6846261b129",
   "metadata": {},
   "outputs": [
    {
     "name": "stderr",
     "output_type": "stream",
     "text": [
      "/home/sf/anaconda3/envs/tabular-x/lib/python3.8/site-packages/ipykernel/ipkernel.py:287: DeprecationWarning: `should_run_async` will not call `transform_cell` automatically in the future. Please pass the result to `transformed_cell` argument and any exception that happen during thetransform in `preprocessing_exc_tuple` in IPython 7.17 and above.\n",
      "  and should_run_async(code)\n"
     ]
    },
    {
     "data": {
      "text/html": [
       "<div>\n",
       "<style scoped>\n",
       "    .dataframe tbody tr th:only-of-type {\n",
       "        vertical-align: middle;\n",
       "    }\n",
       "\n",
       "    .dataframe tbody tr th {\n",
       "        vertical-align: top;\n",
       "    }\n",
       "\n",
       "    .dataframe thead th {\n",
       "        text-align: right;\n",
       "    }\n",
       "</style>\n",
       "<table border=\"1\" class=\"dataframe\">\n",
       "  <thead>\n",
       "    <tr style=\"text-align: right;\">\n",
       "      <th></th>\n",
       "      <th>f0</th>\n",
       "      <th>f1</th>\n",
       "      <th>f2</th>\n",
       "      <th>f3</th>\n",
       "      <th>f4</th>\n",
       "      <th>f5</th>\n",
       "      <th>f6</th>\n",
       "      <th>f7</th>\n",
       "      <th>f8</th>\n",
       "      <th>f9</th>\n",
       "      <th>...</th>\n",
       "      <th>f275</th>\n",
       "      <th>f276</th>\n",
       "      <th>f277</th>\n",
       "      <th>f278</th>\n",
       "      <th>f279</th>\n",
       "      <th>f280</th>\n",
       "      <th>f281</th>\n",
       "      <th>f282</th>\n",
       "      <th>f283</th>\n",
       "      <th>f284</th>\n",
       "    </tr>\n",
       "  </thead>\n",
       "  <tbody>\n",
       "    <tr>\n",
       "      <th>0</th>\n",
       "      <td>0.178216</td>\n",
       "      <td>0.435617</td>\n",
       "      <td>0.010230</td>\n",
       "      <td>0.202074</td>\n",
       "      <td>0.390170</td>\n",
       "      <td>0.324221</td>\n",
       "      <td>0.221722</td>\n",
       "      <td>0.738894</td>\n",
       "      <td>0.582588</td>\n",
       "      <td>0.343770</td>\n",
       "      <td>...</td>\n",
       "      <td>0.496605</td>\n",
       "      <td>0.501435</td>\n",
       "      <td>0.501256</td>\n",
       "      <td>0.501406</td>\n",
       "      <td>0.501358</td>\n",
       "      <td>0.501353</td>\n",
       "      <td>0.495889</td>\n",
       "      <td>0.497664</td>\n",
       "      <td>0.494266</td>\n",
       "      <td>0.501276</td>\n",
       "    </tr>\n",
       "    <tr>\n",
       "      <th>1</th>\n",
       "      <td>0.181250</td>\n",
       "      <td>0.476455</td>\n",
       "      <td>0.022413</td>\n",
       "      <td>0.283146</td>\n",
       "      <td>0.598020</td>\n",
       "      <td>0.349508</td>\n",
       "      <td>0.283467</td>\n",
       "      <td>0.721575</td>\n",
       "      <td>0.268990</td>\n",
       "      <td>0.208373</td>\n",
       "      <td>...</td>\n",
       "      <td>0.501743</td>\n",
       "      <td>0.501435</td>\n",
       "      <td>0.501256</td>\n",
       "      <td>0.501406</td>\n",
       "      <td>0.501358</td>\n",
       "      <td>0.501353</td>\n",
       "      <td>0.501629</td>\n",
       "      <td>0.501007</td>\n",
       "      <td>0.501885</td>\n",
       "      <td>0.501276</td>\n",
       "    </tr>\n",
       "    <tr>\n",
       "      <th>2</th>\n",
       "      <td>0.159721</td>\n",
       "      <td>0.451202</td>\n",
       "      <td>0.259649</td>\n",
       "      <td>0.365274</td>\n",
       "      <td>0.594634</td>\n",
       "      <td>0.413502</td>\n",
       "      <td>0.249318</td>\n",
       "      <td>0.642339</td>\n",
       "      <td>0.411104</td>\n",
       "      <td>0.246891</td>\n",
       "      <td>...</td>\n",
       "      <td>0.501743</td>\n",
       "      <td>0.501435</td>\n",
       "      <td>0.501256</td>\n",
       "      <td>0.501406</td>\n",
       "      <td>0.501358</td>\n",
       "      <td>0.501353</td>\n",
       "      <td>0.495889</td>\n",
       "      <td>0.501007</td>\n",
       "      <td>0.501885</td>\n",
       "      <td>0.501276</td>\n",
       "    </tr>\n",
       "    <tr>\n",
       "      <th>3</th>\n",
       "      <td>0.182424</td>\n",
       "      <td>0.520976</td>\n",
       "      <td>0.095344</td>\n",
       "      <td>0.327742</td>\n",
       "      <td>0.741830</td>\n",
       "      <td>0.358711</td>\n",
       "      <td>0.270077</td>\n",
       "      <td>0.601662</td>\n",
       "      <td>0.297742</td>\n",
       "      <td>0.252829</td>\n",
       "      <td>...</td>\n",
       "      <td>0.501743</td>\n",
       "      <td>0.501435</td>\n",
       "      <td>0.501256</td>\n",
       "      <td>0.501406</td>\n",
       "      <td>0.501358</td>\n",
       "      <td>0.495115</td>\n",
       "      <td>0.495889</td>\n",
       "      <td>0.501007</td>\n",
       "      <td>0.501885</td>\n",
       "      <td>0.501276</td>\n",
       "    </tr>\n",
       "    <tr>\n",
       "      <th>4</th>\n",
       "      <td>0.229329</td>\n",
       "      <td>0.336513</td>\n",
       "      <td>0.023511</td>\n",
       "      <td>0.300913</td>\n",
       "      <td>0.668738</td>\n",
       "      <td>0.481586</td>\n",
       "      <td>0.545660</td>\n",
       "      <td>0.667849</td>\n",
       "      <td>0.546045</td>\n",
       "      <td>0.202731</td>\n",
       "      <td>...</td>\n",
       "      <td>0.501743</td>\n",
       "      <td>0.501435</td>\n",
       "      <td>0.501256</td>\n",
       "      <td>0.501406</td>\n",
       "      <td>0.494677</td>\n",
       "      <td>0.501353</td>\n",
       "      <td>0.501629</td>\n",
       "      <td>0.497664</td>\n",
       "      <td>0.501885</td>\n",
       "      <td>0.501276</td>\n",
       "    </tr>\n",
       "  </tbody>\n",
       "</table>\n",
       "<p>5 rows × 285 columns</p>\n",
       "</div>"
      ],
      "text/plain": [
       "         f0        f1        f2        f3        f4        f5        f6  \\\n",
       "0  0.178216  0.435617  0.010230  0.202074  0.390170  0.324221  0.221722   \n",
       "1  0.181250  0.476455  0.022413  0.283146  0.598020  0.349508  0.283467   \n",
       "2  0.159721  0.451202  0.259649  0.365274  0.594634  0.413502  0.249318   \n",
       "3  0.182424  0.520976  0.095344  0.327742  0.741830  0.358711  0.270077   \n",
       "4  0.229329  0.336513  0.023511  0.300913  0.668738  0.481586  0.545660   \n",
       "\n",
       "         f7        f8        f9  ...      f275      f276      f277      f278  \\\n",
       "0  0.738894  0.582588  0.343770  ...  0.496605  0.501435  0.501256  0.501406   \n",
       "1  0.721575  0.268990  0.208373  ...  0.501743  0.501435  0.501256  0.501406   \n",
       "2  0.642339  0.411104  0.246891  ...  0.501743  0.501435  0.501256  0.501406   \n",
       "3  0.601662  0.297742  0.252829  ...  0.501743  0.501435  0.501256  0.501406   \n",
       "4  0.667849  0.546045  0.202731  ...  0.501743  0.501435  0.501256  0.501406   \n",
       "\n",
       "       f279      f280      f281      f282      f283      f284  \n",
       "0  0.501358  0.501353  0.495889  0.497664  0.494266  0.501276  \n",
       "1  0.501358  0.501353  0.501629  0.501007  0.501885  0.501276  \n",
       "2  0.501358  0.501353  0.495889  0.501007  0.501885  0.501276  \n",
       "3  0.501358  0.495115  0.495889  0.501007  0.501885  0.501276  \n",
       "4  0.494677  0.501353  0.501629  0.497664  0.501885  0.501276  \n",
       "\n",
       "[5 rows x 285 columns]"
      ]
     },
     "execution_count": 29,
     "metadata": {},
     "output_type": "execute_result"
    }
   ],
   "source": [
    "X_test_enc.head()"
   ]
  },
  {
   "cell_type": "code",
   "execution_count": 22,
   "id": "785d11ff-6ff7-48c4-95ea-a5616eff6aeb",
   "metadata": {},
   "outputs": [],
   "source": [
    "# X_test = np.array(X_test)"
   ]
  },
  {
   "cell_type": "markdown",
   "id": "a4a5f215-b585-4f7b-afac-36e49ee28c8f",
   "metadata": {},
   "source": [
    "## Weights and Biases Run Config"
   ]
  },
  {
   "cell_type": "markdown",
   "id": "89a928e1-0a18-4c91-b9bb-a32846e39e5b",
   "metadata": {},
   "source": [
    "Below is the configuration for a Weights and Biases (`wandb`) run."
   ]
  },
  {
   "cell_type": "code",
   "execution_count": 30,
   "id": "e5402d98-7bcd-4e46-b85d-6b0129ca6e96",
   "metadata": {},
   "outputs": [
    {
     "name": "stderr",
     "output_type": "stream",
     "text": [
      "/home/sf/anaconda3/envs/tabular-x/lib/python3.8/site-packages/ipykernel/ipkernel.py:287: DeprecationWarning: `should_run_async` will not call `transform_cell` automatically in the future. Please pass the result to `transformed_cell` argument and any exception that happen during thetransform in `preprocessing_exc_tuple` in IPython 7.17 and above.\n",
      "  and should_run_async(code)\n"
     ]
    }
   ],
   "source": [
    "# wandb config:\n",
    "wandb_config = {\n",
    "    'name': f\"{os.environ['WANDB_NOTEBOOK_NAME'][:-6]}_{datetime.now().strftime('%H%M%S')}\", # just removes the .ipynb extension, leaving the notebook filename's stem\n",
    "    'tags': ['category-encoder', 'stacking'],\n",
    "    'notes': \"Trying the GBM ensemble stack with JamesSteinEncoder from category_encoders, on original dataset\",\n",
    "}"
   ]
  },
  {
   "cell_type": "markdown",
   "id": "638002ad-9266-44d6-8302-ebce2a6f7b06",
   "metadata": {},
   "source": [
    "# Training"
   ]
  },
  {
   "cell_type": "markdown",
   "id": "862e9478-2380-4c4d-8641-5daa72049b6c",
   "metadata": {},
   "source": [
    "# Hyperparameters"
   ]
  },
  {
   "cell_type": "code",
   "execution_count": 31,
   "id": "bc156663-c689-4dfe-a80b-5efaaae1afab",
   "metadata": {},
   "outputs": [],
   "source": [
    "# optuna 20211004, thru 106 trials on unaltered original dataset\n",
    "best_xgboost_params = {\n",
    "    'n_estimators': 3878,\n",
    "    'max_depth': 4,\n",
    "    'learning_rate': 0.024785857161974977,\n",
    "    'reg_alpha': 26.867682044658245,\n",
    "    'reg_lambda': 10.839759074147148,\n",
    "    'subsample': 0.8208581489835881,\n",
    "    'min_child_weight': 8.829122644339664,\n",
    "    'colsample_bytree': 0.906420714280384,\n",
    "    'gamma': 1.472322916021486\n",
    "}\n",
    "\n",
    "# best as of 20211005, thru 65 trials on unaltered original dataset\n",
    "best_lightgbm_params = {\n",
    "    'n_estimators': 6631,\n",
    "    'max_depth': 10,\n",
    "    'learning_rate': 0.004677044539666842,\n",
    "    'reg_alpha': 19.334971246299116,\n",
    "    'reg_lambda': 0.024384251140153856,\n",
    "    'subsample': 0.5082183652689569,\n",
    "    'boosting_type': 'gbdt',\n",
    "    'min_child_samples': 9,\n",
    "    'num_leaves': 233,\n",
    "    'colsample_bytree': 0.5008014086989773\n",
    "}\n",
    "\n",
    "# catboost 20211001 on colab with 100 trials on GPU, unaltered original dataset\n",
    "best_catboost_params = {\n",
    "    'iterations': 29338,\n",
    "    'max_depth': 9,\n",
    "    'learning_rate': 0.004769831650275205,\n",
    "    'random_strength': 7,\n",
    "    'od_wait': 1968,\n",
    "    'reg_lambda': 28.435563240493586,\n",
    "    'border_count': 162,\n",
    "    'min_child_samples': 14,\n",
    "    'leaf_estimation_iterations': 1\n",
    "}\n",
    "\n",
    "# initial, non-default guess -- need to get optuna working (20211010)\n",
    "# basic_widedeep_tabmlp_params = {\n",
    "    \n",
    "# }\n",
    "\n",
    "# basic_widedeep_trainer_params = {\n",
    "#     optimizers=AdamW()\n",
    "# }"
   ]
  },
  {
   "cell_type": "code",
   "execution_count": 37,
   "id": "dfa66428-3fb9-410f-9ea5-50785a4bd177",
   "metadata": {},
   "outputs": [
    {
     "name": "stderr",
     "output_type": "stream",
     "text": [
      "/home/sf/anaconda3/envs/tabular-x/lib/python3.8/site-packages/ipykernel/ipkernel.py:287: DeprecationWarning: `should_run_async` will not call `transform_cell` automatically in the future. Please pass the result to `transformed_cell` argument and any exception that happen during thetransform in `preprocessing_exc_tuple` in IPython 7.17 and above.\n",
      "  and should_run_async(code)\n"
     ]
    }
   ],
   "source": [
    "def cross_validate_model(library:str, params:dict={}, X=X, y=y, X_test=X_test, start_fold=0, \n",
    "                         exmodel_config=exmodel_config, wandb_config=wandb_config, \n",
    "                         random_state=42, shuffle_kfolds=True, wandb_tracked=True):\n",
    "    \"\"\"\n",
    "    Function to handle model training process in the context of cross-validation -- via hold-out or via k-fold.\n",
    "    If exmodel_config['cross_val_strategy'] == None, then any kfolds= input is ignored; otherwise, the number specified is used.\n",
    "    \n",
    "    :param kfolds: int specifying number of k-folds to use in cross-validation\n",
    "    :param exmodel_config: dict containing general config including for cross-validation -- `kfold=1` implies hold-out\n",
    "    \"\"\"\n",
    "#     if exmodel_config['kfolds'] == 1:\n",
    "#         print(\"Proceeding with holdout\")\n",
    "#     X_train, X_valid, y_train, y_valid = train_test_split(X, y, \n",
    "#                                                           test_size=0.2, \n",
    "#                                                           random_state=SEED)                 \n",
    "    \n",
    "    # prepare for k-fold cross-validation; random-state here is notebook-wide, not per-model\n",
    "    # shuffle on the initial sets, but not subsequently -- performing the same operation twice means a very different dataset\n",
    "    if shuffle_kfolds:\n",
    "        kfold = exmodel_config['cross_val_strategy'](n_splits=exmodel_config['kfolds'], shuffle=True, random_state=SEED)\n",
    "    else:\n",
    "        kfold = exmodel_config['cross_val_strategy'](n_splits=exmodel_config['kfolds'], shuffle=False)\n",
    "    \n",
    "    if wandb_tracked:\n",
    "        exmodel_config['library'] = library\n",
    "        exmodel_config[f'{library}_params'] = str(params)\n",
    "        wandb.init(\n",
    "            project=\"202110_Kaggle_tabular_playground\",\n",
    "            save_code=True,\n",
    "            tags=wandb_config['tags'],\n",
    "            name=wandb_config['name'],\n",
    "            notes=wandb_config['notes'],\n",
    "            config=exmodel_config\n",
    "    )   \n",
    "    \n",
    "    # setup for serialization\n",
    "    runpath = Path(modelpath/f\"{wandb_config['name']}_{library}_{exmodel_config['kfolds']}folds/\")\n",
    "    (runpath).mkdir(exist_ok=True)\n",
    "    \n",
    "    \n",
    "    # initialize lists for out-of-fold preds and ground truth\n",
    "    oof_preds, oof_y = [], []\n",
    "    \n",
    "    # initialize a numpy.ndarray containing the fold-model's preds for test set\n",
    "    test_preds = np.zeros((X_test.shape[0]))\n",
    "    \n",
    "    # if using deep learning with pytorch-widedeep, do data preprocessing now, before splits\n",
    "    if 'widedeep' in library:\n",
    "        # preprocessing first\n",
    "        wide_cols = [f for f in X.columns if X[f].nunique() == 2] #list(X_train.columns) if X_train.iloc[:,f].nunique() == 2] # binary indicator vars are wide\n",
    "        cont_cols = [f for f in X.columns if X[f].nunique() > 2] #list(X_train.columns) if X_train.iloc[:,f].nunique() > 2] # others are cont\n",
    "\n",
    "        # wide part\n",
    "        wide_preprocessor = WidePreprocessor(wide_cols=wide_cols)\n",
    "        X_wide = wide_preprocessor.fit_transform(X)\n",
    "#         print(f\"X_wide.shape = {X_wide.shape}\")\n",
    "#         X_wide = np.array(X_train[wide_cols])\n",
    "        \n",
    "\n",
    "        # deep part\n",
    "        tab_preprocessor = TabPreprocessor(continuous_cols=cont_cols)#, embed_cols=embed_cols, )\n",
    "        X_tab = tab_preprocessor.fit_transform(X)   \n",
    "#         print(f\"X_tab.shape = {X_tab.shape}\")\n",
    "        \n",
    "        # transforming the test set\n",
    "        X_test_wide = wide_preprocessor.transform(X_test)\n",
    "        X_test_tab = tab_preprocessor.transform(X_test)\n",
    "        \n",
    "        # at this point, X_wide, X_tab, X_test_wide, and X_test_tab will all be np.ndarrays\n",
    "    \n",
    "    else: # if using a GBM, simply convert the pd.DataFrames to np.ndarrays\n",
    "        X = np.array(X)\n",
    "        X_test = np.array(X_test)\n",
    "    \n",
    "    for fold, (train_ids, valid_ids) in enumerate(kfold.split(X,y)):\n",
    "#         print(f\"type(train_ids) = {type(train_ids)} and train_ids.shape = {train_ids.shape}\")\n",
    "#         print(f\"type(valid_ids) = {type(valid_ids)} and train_ids.shape = {valid_ids.shape}\")\n",
    "        if fold < start_fold: # skip folds that are already trained\n",
    "            continue\n",
    "        else:\n",
    "            print(f\"FOLD {fold}\")\n",
    "            print(\"---------------------------------------------------\")\n",
    "            y_train, y_valid = y[train_ids], y[valid_ids] # y will be an np.ndarray already; handling will be same regardless of model\n",
    "            if 'widedeep' in library: # handle wide and deep tabs in parallel\n",
    "                X_train_wide, X_valid_wide = X_wide[train_ids, :], X_wide[valid_ids, :]\n",
    "                X_train_tab, X_valid_tab = X_tab[train_ids, :], X_tab[valid_ids, :]\n",
    "#                 print(f\"X_train_wide.shape = {X_train_wide.shape}\")\n",
    "#                 print(f\"X_train_tab.shape = {X_train_tab.shape}\")\n",
    "#                 print(f\"X_test_wide.shape = {X_test_wide.shape}\")\n",
    "#                 print(f\"X_test_tab.shape = {X_test_tab.shape}\")\n",
    "            else: # handle datasets for GBMs\n",
    "                X_train, X_valid = X[train_ids], X[valid_ids]\n",
    "#                 y_train, y_valid = y[train_ids], y[valid_ids]\n",
    "            \n",
    "        # define models\n",
    "        if library == 'xgboost':\n",
    "            model = XGBClassifier(\n",
    "                booster='gbtree',\n",
    "                tree_method='gpu_hist',\n",
    "                random_state=random_state,\n",
    "                n_jobs=-1, \n",
    "                verbosity=1, \n",
    "                objective='binary:logistic',\n",
    "                **params)\n",
    "            if wandb_tracked:\n",
    "                model.fit(X_train, y_train, callbacks=[wandb.xgboost.wandb_callback()])\n",
    "            else:\n",
    "                model.fit(X_train, y_train)\n",
    "            y_valid_preds = model.predict_proba(X_valid)[:,1]\n",
    "            \n",
    "            # add the fold-model's OOF preds and ground truths to the out-of-loop lists\n",
    "            oof_preds.extend(y_valid_preds)\n",
    "            oof_y.extend(y_valid)\n",
    "            \n",
    "            # add the fold's predictions to the model's test-set predictions (will divide later)\n",
    "            test_preds += model.predict_proba(X_test)[:,1]\n",
    "\n",
    "\n",
    "        elif library == 'lightgbm':\n",
    "            model = LGBMClassifier(\n",
    "                objective='binary',\n",
    "                random_state=random_state,\n",
    "                device_type='cpu',\n",
    "                n_jobs=-1,\n",
    "#                 eval_metric='auc',\n",
    "#                 device_type='gpu',\n",
    "#                 max_bin=63, # 15 might be even better for GPU perf, but depends on dataset -- see https://lightgbm.readthedocs.io/en/latest/GPU-Performance.html\n",
    "#                 gpu_use_dp=False, # forces use of single precision rather than double for better perf, esp on consumer Nvidia chips\n",
    "                **params)\n",
    "            if wandb_tracked:\n",
    "                model.fit(X_train, y_train, callbacks=[wandb.lightgbm.wandb_callback()],)\n",
    "            else:\n",
    "                model.fit(X_train, y_train)\n",
    "            y_valid_preds = model.predict_proba(X_valid)[:,1]\n",
    "            \n",
    "            # add the fold-model's OOF preds and ground truths to the out-of-loop lists\n",
    "            oof_preds.extend(y_valid_preds)\n",
    "            oof_y.extend(y_valid)\n",
    "            \n",
    "            # add the fold's predictions to the model's test-set predictions (will divide later)\n",
    "            test_preds += model.predict_proba(X_test)[:,1]\n",
    "\n",
    "            \n",
    "        elif library == 'catboost':\n",
    "            model = CatBoostClassifier(\n",
    "                task_type='GPU',\n",
    "                silent=True,\n",
    "                random_state=random_state,\n",
    "                **params) \n",
    "        \n",
    "            model.fit(X_train, y_train)\n",
    "            y_valid_preds = model.predict_proba(X_valid)[:,1]\n",
    "            \n",
    "            # add the fold-model's OOF preds and ground truths to the out-of-loop lists\n",
    "            oof_preds.extend(y_valid_preds)\n",
    "            oof_y.extend(y_valid)\n",
    "            \n",
    "            # add the fold's predictions to the model's test-set predictions (will divide later)\n",
    "            test_preds += model.predict_proba(X_test)[:,1]\n",
    "            \n",
    "        elif 'widedeep' in library: # only coding for TabMlp right now\n",
    "#             X_train = pd.DataFrame(X_train, columns=[f\"f{x}\" for x in range(X_train.shape[1])])\n",
    "#             X_valid = pd.DataFrame(X_valid, columns=[f\"f{x}\" for x in range(X_valid.shape[1])])\n",
    "#             X_test = pd.DataFrame(X_test, columns=[f\"f{x}\" for x in range(X_test.shape[1])])\n",
    "            \n",
    "            wide = Wide(wide_dim=np.unique(X_wide).shape[0], pred_dim=1)\n",
    "#             deeptabular = TabMlp(\n",
    "#                 mlp_hidden_dims=[64,32],\n",
    "#                 column_idx=tab_preprocessor.column_idx,\n",
    "#             #     embed_input=tab_preprocessor.embeddings_input,\n",
    "#                 continuous_cols=cont_cols,\n",
    "#             )\n",
    "            deeptabular = SAINT(\n",
    "                column_idx=tab_preprocessor.column_idx,\n",
    "                continuous_cols=cont_cols,\n",
    "            )\n",
    "            \n",
    "            # model instantiation and training\n",
    "            model = WideDeep(wide=wide, deeptabular=deeptabular)\n",
    "            \n",
    "            \n",
    "            n_epochs = 30\n",
    "\n",
    "            # pytorch hyperparams\n",
    "            wide_opt = AdamW(model.wide.parameters(), lr=0.1)\n",
    "            deep_opt = AdamW(model.deeptabular.parameters(), lr=0.1)\n",
    "            \n",
    "#             wide_sch = ReduceLROnPlateau(wide_opt)\n",
    "#             deep_sch = ReduceLROnPlateau(deep_opt)\n",
    "\n",
    "            wide_sch = OneCycleLR(optimizer=wide_opt, max_lr=0.01, steps_per_epoch=X_train_wide.shape[0], epochs=n_epochs)\n",
    "            deep_sch = OneCycleLR(optimizer=deep_opt, max_lr=0.01, steps_per_epoch=X_train_tab.shape[0], epochs=n_epochs)\n",
    "            \n",
    "            optimizers = {'wide': wide_opt, 'deeptabular': deep_opt }\n",
    "            lr_schedulers = {'wide': wide_sch, 'deeptabular': deep_sch }\n",
    "            \n",
    "            \n",
    "            callbacks = [\n",
    "                LRHistory(n_epochs=n_epochs), \n",
    "#                 EarlyStopping, \n",
    "#                 ModelCheckpoint(\n",
    "#                     filepath='',\n",
    "#                     save_best_only=True\n",
    "#                 )\n",
    "            ]\n",
    "            \n",
    "            # trainer\n",
    "            trainer = Trainer(model=model, \n",
    "                              objective='binary', \n",
    "                              metrics=[Accuracy], # with AUROC got TypeError: '>' not supported between instances of 'NoneType' and 'int' \n",
    "                              seed=random_state, \n",
    "#                               lr_schedulers=lr_schedulers,\n",
    "                              optimizers=optimizers,\n",
    "                              callbacks=callbacks\n",
    "                             )\n",
    "            \n",
    "#             print(f\"type(X_train_wide) is {type(X_train_wide)} and type(X_train_tab) is {type(X_train_tab)}\")\n",
    "            trainer.fit( # this is where problem is beginning\n",
    "                X_wide=X_train_wide,\n",
    "                X_tab=X_train_tab,\n",
    "                target=y_train,\n",
    "                n_epochs=n_epochs,\n",
    "                batch_size=1024, # default value is 32\n",
    "#                 val_split=0.2, # no need for this\n",
    "            )\n",
    "            \n",
    "            # validation set preprocessing\n",
    "#             X_valid_wide = np.array(X_valid[wide_cols]) # wide_preprocessor.transform(X_valid)\n",
    "#             X_tab_valid = tab_preprocessor.transform(X_valid)\n",
    "#             print(f\"X_valid_wide: {X_valid_wide[:10]}\")\n",
    "#             print(f\"X_valid_tab: {X_valid_tab[:10]}\")\n",
    "            y_valid_preds = trainer.predict_proba(X_wide=X_valid_wide, X_tab=X_valid_tab, batch_size=1024)[:,1]\n",
    "            \n",
    "            # add the fold-model's OOF preds and ground truths to the out-of-loop lists\n",
    "            oof_preds.extend(y_valid_preds)\n",
    "            oof_y.extend(y_valid)\n",
    "            \n",
    "            # test set preprocessing\n",
    "#             X_test_wide = np.array(X_test[wide_cols]) # wide_preprocessor.transform(X_test)\n",
    "#             X_tab_test = tab_preprocessor.transform(X_test)\n",
    "#             print(f\"X_test_wide: {X_test_wide[:10]}\")\n",
    "#             print(f\"X_test_tab: {X_test_tab[:10]}\")\n",
    "            \n",
    "            # test set inference\n",
    "            fold_test_preds = trainer.predict_proba(X_wide=X_test_wide, X_tab=X_test_tab, batch_size=1024)[:,1]\n",
    "            test_preds += fold_test_preds\n",
    "#             print(f\"fold_test_preds: {fold_test_preds[:10]}\")\n",
    "#             print(f\"test_preds_so_far: {test_preds[:10]}\")\n",
    "            \n",
    "        # take the training set predictions, if desired\n",
    "#         y_train_pred = model.predict_proba(X_train)[:,1]\n",
    "#         train_loss = log_loss(y_train, y_train_pred)\n",
    "#         train_auc = roc_auc_score(y_train, y_train_pred)\n",
    "#         wandb.log({'train_loss': train_loss, 'train_auc': train_auc})\n",
    "\n",
    "        # log the parameters, if desired\n",
    "#         if exmodel_config['library'] == 'catboost':\n",
    "#             print(model.get_all_params())\n",
    "#             wandb.log(model.get_all_params())\n",
    "#         else:\n",
    "#             wandb.log(model.get_params()) # logging model parameters, trying bare-invocation rather than params: model.get_params()\n",
    "\n",
    "        \n",
    "        \n",
    "       \n",
    "        \n",
    "        \n",
    "\n",
    "#         valid_loss = log_loss(y_valid, y_pred)\n",
    "        # give the valid AUC score, for edification\n",
    "        fold_valid_auc = roc_auc_score(y_valid, y_valid_preds)\n",
    "        print(f\"Valid AUC for fold {fold} is {fold_valid_auc}\")   \n",
    "        dump(model, Path(runpath/f\"{library}_fold{fold}_rs{random_state}_model.joblib\"))\n",
    "\n",
    "    model_valid_auc = roc_auc_score(oof_y, oof_preds)\n",
    "    print(f\"Valid AUC score for {library} model is {model_valid_auc}\")\n",
    "    \n",
    "    # finalize test preds\n",
    "    test_preds /= exmodel_config['kfolds']\n",
    "    \n",
    "    # save OOF preds and test-set preds\n",
    "    dump(oof_preds, Path(predpath/f\"{wandb_config['name']}_{library}_{exmodel_config['kfolds']}folds_rs{random_state}_oof_preds.joblib\"))\n",
    "    dump(test_preds, Path(predpath/f\"{wandb_config['name']}_{library}_{exmodel_config['kfolds']}folds_rs{random_state}_test_preds.joblib\"))\n",
    "    dump(oof_y, predpath/f\"{exmodel_config['kfolds']}folds_rs{SEED}_oof_y.joblib\")\n",
    "    \n",
    "    if wandb_tracked:\n",
    "#         if 'widedeep' in library:\n",
    "        wandb.log({'model_valid_auc': model_valid_auc,\n",
    "                   'oof_preds': oof_preds,\n",
    "                   'test_preds': test_preds,\n",
    "                   'model_params': str(model.parameters()) if 'widedeep' in library else str(model.get_params()), \n",
    "        #                    'model_params': str(model.get_params()),\n",
    "        })\n",
    "#         wandb.log({'model_valid_auc': model_valid_auc,\n",
    "#                    'oof_preds': oof_preds,\n",
    "#                    'test_preds': test_preds,\n",
    "# #                    'model_params': str(model.get_params()),\n",
    "#                   })\n",
    "        wandb.finish()\n",
    "    return oof_preds, test_preds\n",
    "        "
   ]
  },
  {
   "cell_type": "code",
   "execution_count": 26,
   "id": "096d8438-1639-47ab-9264-aefb21e51872",
   "metadata": {
    "tags": []
   },
   "outputs": [],
   "source": [
    "# _, lightgbm_preds = cross_validate_model(library='lightgbm')"
   ]
  },
  {
   "cell_type": "code",
   "execution_count": 27,
   "id": "56b93f37-272a-4e06-b1e2-12b45d3148a6",
   "metadata": {
    "tags": []
   },
   "outputs": [],
   "source": [
    "# _, catboost_preds = cross_validate_model(library='catboost')"
   ]
  },
  {
   "cell_type": "code",
   "execution_count": 28,
   "id": "cc332027-f1ab-45c0-8793-45b9bfd76cf5",
   "metadata": {
    "tags": []
   },
   "outputs": [],
   "source": [
    "# xgboost_oof_preds, xgboost_test_preds = cross_validate_model(library='xgboost')"
   ]
  },
  {
   "cell_type": "code",
   "execution_count": 33,
   "id": "346b3ddf-ffd7-4cd1-a4dd-807f7159718f",
   "metadata": {
    "tags": []
   },
   "outputs": [],
   "source": [
    "# widedeep_oof_preds, widedeep_test_preds = cross_validate_model(library='widedeep-SAINT', wandb_tracked=True)"
   ]
  },
  {
   "cell_type": "code",
   "execution_count": null,
   "id": "092c29d7-b45a-46b8-8bf4-48a68dae9989",
   "metadata": {},
   "outputs": [],
   "source": [
    "# widedeep_oof_preds = load(predpath/f\"{wandb_config['name']}_widedeep-TabMLP_{exmodel_config['kfolds']}folds_rs{42}_oof_preds.joblib\")"
   ]
  },
  {
   "cell_type": "code",
   "execution_count": null,
   "id": "d36ac953-029a-4b3b-a082-ed52b365e4cf",
   "metadata": {},
   "outputs": [],
   "source": [
    "# widedeep_test_preds = load(predpath/f\"{wandb_config['name']}_widedeep-TabMLP_{exmodel_config['kfolds']}folds_rs{42}_test_preds.joblib\")"
   ]
  },
  {
   "cell_type": "code",
   "execution_count": null,
   "id": "84e4f6fb-323f-46c1-a534-1351685387e6",
   "metadata": {},
   "outputs": [],
   "source": [
    "# widedeep_oof_preds[:10]"
   ]
  },
  {
   "cell_type": "code",
   "execution_count": null,
   "id": "710be0bd-92ce-4f3b-9e2c-3a98e0040336",
   "metadata": {},
   "outputs": [],
   "source": [
    "# widedeep_test_preds[:10]"
   ]
  },
  {
   "cell_type": "markdown",
   "id": "e23c3564-37f1-4c16-b91f-753667ecb3b0",
   "metadata": {},
   "source": [
    "# Single Submission"
   ]
  },
  {
   "cell_type": "code",
   "execution_count": null,
   "id": "8217efa1-6b59-4c60-bbc7-5bd50c0fee6e",
   "metadata": {
    "tags": []
   },
   "outputs": [],
   "source": [
    "# sample_df = pd.read_csv(datapath/'sample_submission.csv.zip')"
   ]
  },
  {
   "cell_type": "code",
   "execution_count": null,
   "id": "c64589fc-0149-4905-b4e0-f110ef9007a4",
   "metadata": {},
   "outputs": [],
   "source": [
    "# sample_df.loc[:, 'target'] = widedeep_test_preds"
   ]
  },
  {
   "cell_type": "code",
   "execution_count": null,
   "id": "dd20a8cd-72a0-47b9-989d-cb65be178967",
   "metadata": {
    "tags": []
   },
   "outputs": [],
   "source": [
    "# sample_df.iloc[:20]"
   ]
  },
  {
   "cell_type": "code",
   "execution_count": null,
   "id": "ee4537d0-13b6-46a2-96ac-4ef6ab855007",
   "metadata": {},
   "outputs": [],
   "source": [
    "# submission_path = datapath/'submissions'\n",
    "# submission_path.mkdir(exist_ok=True)"
   ]
  },
  {
   "cell_type": "code",
   "execution_count": 47,
   "id": "51a8672e-ebc6-4105-94a6-5f6806aea28d",
   "metadata": {},
   "outputs": [],
   "source": [
    "# sample_df.to_csv(subpath/f\"{wandb_config['name']}_widedeep-TabMLP-upto50epochs-64x32_{exmodel_config['kfolds']}folds_rs{42}_baseline_preds.csv\", index=False)"
   ]
  },
  {
   "cell_type": "code",
   "execution_count": 25,
   "id": "dd1e0734-4e26-4944-896b-65c177181cbf",
   "metadata": {},
   "outputs": [],
   "source": [
    "# str(blender.estimators[2][1].get_all_params())\n",
    "# blender.estimators[2][1]"
   ]
  },
  {
   "cell_type": "code",
   "execution_count": 26,
   "id": "765cbb49-a7b4-4564-b26d-3484431935be",
   "metadata": {},
   "outputs": [],
   "source": [
    "# wandb.log({'leaderboard_auc': 0.81725,\n",
    "# #            'catboost_params': str(best_catboost_params),\n",
    "#           })"
   ]
  },
  {
   "cell_type": "code",
   "execution_count": 27,
   "id": "df020199-86b3-4f67-8088-0646f028b8d9",
   "metadata": {
    "tags": []
   },
   "outputs": [],
   "source": [
    "# wandb.finish()"
   ]
  },
  {
   "cell_type": "code",
   "execution_count": 28,
   "id": "8441c1fc-8432-4d24-a65f-eceaae4919d8",
   "metadata": {},
   "outputs": [],
   "source": [
    "# oof_y_pd = pd.Series(oof_y)"
   ]
  },
  {
   "cell_type": "markdown",
   "id": "994802dc-6ec1-4588-9ee6-b18e7ef01047",
   "metadata": {},
   "source": [
    "# Predictions"
   ]
  },
  {
   "cell_type": "markdown",
   "id": "bfe960b2-6e42-4384-a7de-d2a2464c2ea2",
   "metadata": {},
   "source": [
    "## Level One"
   ]
  },
  {
   "cell_type": "code",
   "execution_count": 34,
   "id": "5cb4c8f6-4712-45a9-9a42-84864ab265bb",
   "metadata": {
    "tags": []
   },
   "outputs": [],
   "source": [
    "oof_lv1, test_lv1 = pd.DataFrame(), pd.DataFrame() # initialize dataframes"
   ]
  },
  {
   "cell_type": "markdown",
   "id": "2f4f3a89-af13-4f7d-a613-690498292674",
   "metadata": {},
   "source": [
    "### Generating"
   ]
  },
  {
   "cell_type": "code",
   "execution_count": null,
   "id": "032ca5db-2dd1-4530-8847-1619f85fbf15",
   "metadata": {
    "tags": []
   },
   "outputs": [
    {
     "data": {
      "text/html": [
       "Finishing last run (ID:fnrl9pqn) before initializing another..."
      ],
      "text/plain": [
       "<IPython.core.display.HTML object>"
      ]
     },
     "metadata": {},
     "output_type": "display_data"
    },
    {
     "data": {
      "text/html": [
       "<br/>Waiting for W&B process to finish, PID 60395... <strong style=\"color:green\">(success).</strong>"
      ],
      "text/plain": [
       "<IPython.core.display.HTML object>"
      ]
     },
     "metadata": {},
     "output_type": "display_data"
    },
    {
     "data": {
      "application/vnd.jupyter.widget-view+json": {
       "model_id": "",
       "version_major": 2,
       "version_minor": 0
      },
      "text/plain": [
       "VBox(children=(Label(value=' 0.22MB of 0.22MB uploaded (0.15MB deduped)\\r'), FloatProgress(value=1.0, max=1.0)…"
      ]
     },
     "metadata": {},
     "output_type": "display_data"
    },
    {
     "data": {
      "text/html": [
       "<style>\n",
       "    table.wandb td:nth-child(1) { padding: 0 10px; text-align: right }\n",
       "    .wandb-row { display: flex; flex-direction: row; flex-wrap: wrap; width: 100% }\n",
       "    .wandb-col { display: flex; flex-direction: column; flex-basis: 100%; flex: 1; padding: 10px; }\n",
       "    </style>\n",
       "<div class=\"wandb-row\"><div class=\"wandb-col\">\n",
       "</div><div class=\"wandb-col\">\n",
       "</div></div>\n",
       "Synced 6 W&B file(s), 0 media file(s), 2 artifact file(s) and 1 other file(s)\n",
       "<br/>Synced <strong style=\"color:#cdcd00\">stacking_manual_20211015_213227</strong>: <a href=\"https://wandb.ai/hushifang/202110_Kaggle_tabular_playground/runs/fnrl9pqn\" target=\"_blank\">https://wandb.ai/hushifang/202110_Kaggle_tabular_playground/runs/fnrl9pqn</a><br/>\n",
       "Find logs at: <code>./wandb/run-20211015_213438-fnrl9pqn/logs</code><br/>\n"
      ],
      "text/plain": [
       "<IPython.core.display.HTML object>"
      ]
     },
     "metadata": {},
     "output_type": "display_data"
    },
    {
     "data": {
      "text/html": [
       "Successfully finished last run (ID:fnrl9pqn). Initializing new run:<br/>"
      ],
      "text/plain": [
       "<IPython.core.display.HTML object>"
      ]
     },
     "metadata": {},
     "output_type": "display_data"
    },
    {
     "name": "stderr",
     "output_type": "stream",
     "text": [
      "\u001b[34m\u001b[1mwandb\u001b[0m: wandb version 0.12.4 is available!  To upgrade, please run:\n",
      "\u001b[34m\u001b[1mwandb\u001b[0m:  $ pip install wandb --upgrade\n"
     ]
    },
    {
     "data": {
      "text/html": [
       "\n",
       "                    Syncing run <strong><a href=\"https://wandb.ai/hushifang/202110_Kaggle_tabular_playground/runs/12u0yx74\" target=\"_blank\">stacking_manual_20211015_213227</a></strong> to <a href=\"https://wandb.ai/hushifang/202110_Kaggle_tabular_playground\" target=\"_blank\">Weights & Biases</a> (<a href=\"https://docs.wandb.com/integrations/jupyter.html\" target=\"_blank\">docs</a>).<br/>\n",
       "\n",
       "                "
      ],
      "text/plain": [
       "<IPython.core.display.HTML object>"
      ]
     },
     "metadata": {},
     "output_type": "display_data"
    },
    {
     "name": "stdout",
     "output_type": "stream",
     "text": [
      "FOLD 0\n",
      "---------------------------------------------------\n"
     ]
    }
   ],
   "source": [
    "oof_lv1_lgb42, test_lv1_lgb42 = cross_validate_model(library='lightgbm', X=X_enc, y=y, X_test=X_test_enc, \n",
    "                                         wandb_config=wandb_config,\n",
    "                                         random_state=42,\n",
    "                                         params=best_lightgbm_params,\n",
    "                                         exmodel_config=exmodel_config, \n",
    "                                         wandb_tracked=True\n",
    "                                        )\n",
    "oof_lv1['lgb42'] = oof_lv1_lgb42\n",
    "test_lv1['lgb42'] = test_lv1_lgb42"
   ]
  },
  {
   "cell_type": "code",
   "execution_count": null,
   "id": "cfb3c21b-9340-490a-a44d-90b21ac8de04",
   "metadata": {
    "tags": []
   },
   "outputs": [],
   "source": [
    "oof_lv1_lgb1983, test_lv1_lgb1983 = cross_validate_model(library='lightgbm', X=X_enc, y=y, X_test=X_test_enc, \n",
    "                                                 wandb_config=wandb_config,\n",
    "                                                 random_state=1983,\n",
    "                                                 params=best_lightgbm_params,\n",
    "                                                 exmodel_config=exmodel_config, \n",
    "                                                 wandb_tracked=True\n",
    "                                                )\n",
    "oof_lv1['lgb1983'] = oof_lv1_lgb1983\n",
    "test_lv1['lgb1983'] = test_lv1_lgb1983"
   ]
  },
  {
   "cell_type": "code",
   "execution_count": null,
   "id": "f80900ce-57d8-45f3-bd23-2a85f223855b",
   "metadata": {
    "tags": []
   },
   "outputs": [],
   "source": [
    "oof_lv1_xgb42, test_lv1_xgb42 = cross_validate_model(library='xgboost', X=X_enc, y=y, X_test=X_test_enc, \n",
    "                                         wandb_config=wandb_config,\n",
    "                                         random_state=42,\n",
    "                                         params=best_xgboost_params,\n",
    "                                         exmodel_config=exmodel_config, \n",
    "                                         wandb_tracked=True\n",
    "                                        )\n",
    "\n",
    "oof_lv1['xgb42'] = oof_lv1_xgb42\n",
    "test_lv1['xgb42'] = test_lv1_xgb42"
   ]
  },
  {
   "cell_type": "code",
   "execution_count": null,
   "id": "db292889-5a30-45f5-8b7a-436cdeb27771",
   "metadata": {
    "tags": []
   },
   "outputs": [],
   "source": [
    "oof_lv1_xgb1983, test_lv1_xgb1983 = cross_validate_model(library='xgboost', X=X_enc, y=y, X_test=X_test_enc, \n",
    "                                                 wandb_config=wandb_config,\n",
    "                                                 random_state=1983,\n",
    "                                                 params=best_xgboost_params,\n",
    "                                                 exmodel_config=exmodel_config, \n",
    "                                                 wandb_tracked=True\n",
    "                                                )\n",
    "oof_lv1['xgb1983'] = oof_lv1_xgb1983\n",
    "test_lv1['xgb1983'] = test_lv1_xgb1983"
   ]
  },
  {
   "cell_type": "code",
   "execution_count": null,
   "id": "07b56f4c-c0eb-46a2-a39f-5f161be4ce52",
   "metadata": {
    "tags": []
   },
   "outputs": [],
   "source": [
    "oof_lv1_cat42, test_lv1_cat42 = cross_validate_model(library='catboost', X=X_enc, y=y, X_test=X_test_enc, \n",
    "                                         wandb_config=wandb_config,\n",
    "                                         random_state=42,\n",
    "                                         params=best_catboost_params,\n",
    "                                         exmodel_config=exmodel_config, \n",
    "                                         wandb_tracked=True\n",
    "                                        )\n",
    "oof_lv1['cat42'] = oof_lv1_cat42\n",
    "test_lv1['cat42'] = test_lv1_cat42"
   ]
  },
  {
   "cell_type": "code",
   "execution_count": null,
   "id": "b4d41632-6d00-4714-81f3-d73e9d219b43",
   "metadata": {
    "tags": []
   },
   "outputs": [],
   "source": [
    "oof_lv1_cat1983, test_lv1_cat1983 = cross_validate_model(library='catboost', X=X_enc, y=y, X_test=X_test_enc, \n",
    "                                                 wandb_config=wandb_config,\n",
    "                                                 random_state=1983,\n",
    "                                                 params=best_catboost_params,\n",
    "                                                 exmodel_config=exmodel_config, \n",
    "                                                 wandb_tracked=False\n",
    "                                                )\n",
    "\n",
    "oof_lv1['cat1983'] = oof_lv1_cat1983\n",
    "test_lv1['cat1983'] = test_lv1_cat1983"
   ]
  },
  {
   "cell_type": "code",
   "execution_count": 36,
   "id": "1f13c7fb-002c-4570-aeff-f75d934823e2",
   "metadata": {},
   "outputs": [],
   "source": [
    "# this cell just for after-the-fact error corrections\n",
    "\n",
    "# oof_lv1 = pd.DataFrame()\n",
    "# test_lv1 = pd.DataFrame()\n",
    "\n",
    "# oof_lv1['lgb1983'] = oof_lv1_lgb1983\n",
    "# test_lv1['lgb1983'] = test_lv1_lgb1983\n",
    "# oof_lv1['lgb42'] = oof_lv1_lgb42\n",
    "# test_lv1['lgb42'] = test_lv1_lgb42\n",
    "# oof_lv1['cat1983'] = oof_lv1_cat1983\n",
    "# test_lv1['cat1983'] = test_lv1_cat1983\n",
    "# oof_lv1['cat42'] = oof_lv1_cat42\n",
    "# test_lv1['cat42'] = test_lv1_cat42\n",
    "# oof_lv1['xgb1983'] = oof_lv1_xgb1983\n",
    "# test_lv1['xgb1983'] = test_lv1_xgb1983\n",
    "# oof_lv1['xgb42'] = oof_lv1_xgb42\n",
    "# test_lv1['xgb42'] = test_lv1_xgb42\n",
    "\n"
   ]
  },
  {
   "cell_type": "markdown",
   "id": "128ea342-3882-498f-a970-108d71d72ded",
   "metadata": {},
   "source": [
    "### Loading Sets of Predictions"
   ]
  },
  {
   "cell_type": "code",
   "execution_count": 37,
   "id": "2128656e-dafe-43ec-bbe9-c30734573f81",
   "metadata": {},
   "outputs": [],
   "source": [
    "# oof_lv1, test_lv1 = pd.DataFrame(), pd.DataFrame()\n",
    "# preds_path = Path('/media/sf/easystore/kaggle_data/tabular_playgrounds/sep2021/preds/')"
   ]
  },
  {
   "cell_type": "code",
   "execution_count": 38,
   "id": "184ef71b-afd2-4a31-848d-f9ca2525ffeb",
   "metadata": {},
   "outputs": [],
   "source": [
    "# oof_lv1['xgb42'] = load(predpath/'stacking_manual_20211005_085253_xgboost_5folds_rs42_oof_preds.joblib')\n",
    "# test_lv1['xgb42'] = load(preds_path/'stacking_manual_20210925_212129_xgboost_5folds_rs42_test_preds.joblib')"
   ]
  },
  {
   "cell_type": "code",
   "execution_count": 39,
   "id": "4f493f20-3a8a-40e4-81d7-6107753ac744",
   "metadata": {},
   "outputs": [],
   "source": [
    "# oof_lv_xgb42_y = load(predpath/'stacking_manual_20211005_085253_xgboost_5folds_rs42_oof_y.joblib')"
   ]
  },
  {
   "cell_type": "code",
   "execution_count": 40,
   "id": "9ed26a0f-9eac-4f43-8160-1c81f06cf981",
   "metadata": {},
   "outputs": [],
   "source": [
    "# roc_auc_score(y_true=oof_lv_xgb42_y, y_score=oof_lv1['xgb42'])"
   ]
  },
  {
   "cell_type": "code",
   "execution_count": 41,
   "id": "0681cec6-4290-429a-991f-0a3305893075",
   "metadata": {},
   "outputs": [],
   "source": [
    "# oof_lv1['xgb1983'] = load(preds_path/'validAUC_0.8146252172737458_stacking_manual_20210926_211701_xgboost_5folds_rs1983_oof_preds.joblib')\n",
    "# test_lv1['xgb1983'] = load(preds_path/'stacking_manual_20210926_211701_xgboost_5folds_rs1983_test_preds.joblib')"
   ]
  },
  {
   "cell_type": "code",
   "execution_count": 42,
   "id": "7f59039c-2dc1-49f2-9fc5-311977ac1706",
   "metadata": {},
   "outputs": [],
   "source": [
    "# oof_lv1['lgb42'] = load(preds_path/'validAUC_0.8156810521798477_stacking_manual_20210925_212129_lightgbm_5folds_rs42_oof_preds.joblib')\n",
    "# test_lv1['lgb42'] = load(preds_path/'stacking_manual_20210925_212129_lightgbm_5folds_rs42_test_preds.joblib')"
   ]
  },
  {
   "cell_type": "code",
   "execution_count": 43,
   "id": "58c301c0-35dd-48f2-8719-47c8247c205d",
   "metadata": {},
   "outputs": [],
   "source": [
    "# oof_lv1['lgb1983'] = load(preds_path/'validAUC_0.8156503194185875_stacking_manual_20210925_212129_lightgbm_5folds_rs1983_oof_preds.joblib')\n",
    "# test_lv1['lgb1983'] = load(preds_path/'stacking_manual_20210925_212129_lightgbm_5folds_rs1983_test_preds.joblib')"
   ]
  },
  {
   "cell_type": "code",
   "execution_count": 44,
   "id": "a24b9355-740d-47b9-87ea-e8de0b1e7556",
   "metadata": {},
   "outputs": [],
   "source": [
    "# oof_lv1['cat42'] = load(preds_path/'validAUC_0.8116727090290558_stacking_manual_20210925_212129_catboost_5folds_rs42_oof_preds.joblib')\n",
    "# test_lv1['cat42'] = load(preds_path/'stacking_manual_20210925_212129_catboost_5folds_rs42_test_preds.joblib')"
   ]
  },
  {
   "cell_type": "code",
   "execution_count": 45,
   "id": "c1542a39-c5d1-4785-a3c8-1a990d535d51",
   "metadata": {},
   "outputs": [],
   "source": [
    "# oof_lv1['cat1983'] = load(predpath/'stacking_manual_20211005_085253_catboost_5folds_rs1983_oof_preds.joblib')\n",
    "# oof_cat1983_y = load(predpath/'stacking_manual_20211005_085253_catboost_5folds_rs1983_oof_y.joblib')\n",
    "# roc_auc_score(y_true=oof_cat1983_y, y_score=oof_lv1['cat1983'])\n",
    "# test_lv1['cat1983'] = load(preds_path/'stacking_manual_20210925_212129_catboost_5folds_rs1983_test_preds.joblib')"
   ]
  },
  {
   "cell_type": "code",
   "execution_count": 46,
   "id": "6f3c927d-bf2f-45b5-8852-1c1fb44d690e",
   "metadata": {},
   "outputs": [],
   "source": [
    "# oof_cat42_y = load(predpath/'stacking_manual_20211005_085253_catboost_5folds_rs42_oof_y.joblib')"
   ]
  },
  {
   "cell_type": "code",
   "execution_count": 47,
   "id": "753b2247-a987-4cb1-8f7f-11b74e1fe6ac",
   "metadata": {},
   "outputs": [],
   "source": [
    "# oof_cat42_y == oof_lv_xgb42_y"
   ]
  },
  {
   "cell_type": "code",
   "execution_count": 48,
   "id": "85efac1b-596c-489d-a606-50a55c5d67c2",
   "metadata": {},
   "outputs": [],
   "source": [
    "# oof_lv1.iloc[:20, :]"
   ]
  },
  {
   "cell_type": "code",
   "execution_count": 49,
   "id": "41eec67d-7891-4ac0-884d-d098577bdf03",
   "metadata": {
    "tags": []
   },
   "outputs": [],
   "source": [
    "# oof_y_pd.iloc[:20]"
   ]
  },
  {
   "cell_type": "markdown",
   "id": "79a7c3a6-2707-4177-abf8-95992f572852",
   "metadata": {},
   "source": [
    "- Why is it that the random seed seems far more important than the model type in making a prediction???"
   ]
  },
  {
   "cell_type": "markdown",
   "id": "a964b810-db49-49c0-9deb-999a189e4939",
   "metadata": {},
   "source": [
    "### Serialization"
   ]
  },
  {
   "cell_type": "code",
   "execution_count": 50,
   "id": "6290a8eb-07f1-4917-8073-8bcced8bde39",
   "metadata": {},
   "outputs": [],
   "source": [
    "# oof_lv1.head()"
   ]
  },
  {
   "cell_type": "code",
   "execution_count": 51,
   "id": "fade7952-fc06-4fcf-a77a-543664972b8e",
   "metadata": {},
   "outputs": [],
   "source": [
    "# test_lv1.head()"
   ]
  },
  {
   "cell_type": "code",
   "execution_count": 52,
   "id": "4dc05052-1105-4a9a-8fbe-c3a3b59b2426",
   "metadata": {},
   "outputs": [],
   "source": [
    "# oof_lv1.to_csv('oof_lv1.csv', index=False)\n",
    "# test_lv1.to_csv('test_lv1.csv', index=False)"
   ]
  },
  {
   "cell_type": "code",
   "execution_count": null,
   "id": "877cd565-c4ed-436e-b230-1bd4487354da",
   "metadata": {},
   "outputs": [],
   "source": [
    "oof_lv1.to_feather(predpath/f\"{wandb_config['name']}_X_orig_JamesSteinEncoder_oof_lv1.feather\")\n",
    "test_lv1.to_feather(predpath/f\"{wandb_config['name']}_X_orig_JamesSteinEncoder_test_lv1.feather\")"
   ]
  },
  {
   "cell_type": "markdown",
   "id": "70bc7cef-5989-400f-8524-cf59233d3e4b",
   "metadata": {},
   "source": [
    "### Lv1 Finalization"
   ]
  },
  {
   "cell_type": "code",
   "execution_count": null,
   "id": "dd5828bc-e0d1-4b26-b1ed-33b26116f367",
   "metadata": {},
   "outputs": [],
   "source": [
    "# oof_lv1 = pd.read_feather(predpath/f\"stacking_manual_20211005_205933_oof_lv1.feather\")#, columns=[str(x) for x in range()])\n",
    "# test_lv1 = pd.read_feather(predpath/f\"stacking_manual_20211005_205933_test_lv1.feather\")\n",
    "oof_y = load(predpath/f\"{exmodel_config['kfolds']}folds_rs{SEED}_oof_y.joblib\")"
   ]
  },
  {
   "cell_type": "code",
   "execution_count": null,
   "id": "9be05e3d-c7a7-41a5-9362-320d71d0f926",
   "metadata": {},
   "outputs": [],
   "source": [
    "oof_lv1.head()"
   ]
  },
  {
   "cell_type": "code",
   "execution_count": null,
   "id": "5ba900b5-8b5b-4620-852c-6fb2808a8209",
   "metadata": {},
   "outputs": [],
   "source": [
    "test_lv1.head()"
   ]
  },
  {
   "cell_type": "code",
   "execution_count": 57,
   "id": "3098e778-eb53-4a65-baaf-5cd0ffb7bfa6",
   "metadata": {},
   "outputs": [],
   "source": [
    "# oof_lv1['target'] = oof_y"
   ]
  },
  {
   "cell_type": "code",
   "execution_count": 58,
   "id": "638ed3d3-0b02-468f-827e-bfcb263f6949",
   "metadata": {
    "tags": []
   },
   "outputs": [],
   "source": [
    "# oof_lv1.iloc[:30,:]"
   ]
  },
  {
   "cell_type": "code",
   "execution_count": 59,
   "id": "8757335c-defe-4f2d-839e-66340b4bde3c",
   "metadata": {},
   "outputs": [],
   "source": [
    "# roc_auc_score(y_score=oof_lv1['lgb1983'], y_true=oof_y) # 0.5002913418201236 from original, bad version"
   ]
  },
  {
   "cell_type": "markdown",
   "id": "dffc8387-6ae7-4ab2-8ee3-f2cf8aa6f8c4",
   "metadata": {},
   "source": [
    "**SO THERE'S SOMETHING WRONG WITH THE TARGET**"
   ]
  },
  {
   "cell_type": "code",
   "execution_count": 60,
   "id": "f427ba83-b376-4961-b3ff-ea09a256914d",
   "metadata": {},
   "outputs": [],
   "source": [
    "# def regenerate_targets(X=X_train, y=y_train):\n",
    "#     kfold = exmodel_config['cross_val_strategy'](n_splits=exmodel_config['kfolds'], shuffle=True, random_state=SEED)\n",
    "#     oof_y = []\n",
    "#     for fold, (train_ids, valid_ids) in enumerate(kfold.split(X,y)):\n",
    "# #         X_train, X_valid = X[train_ids], X[valid_ids]\n",
    "#         y_train, y_valid = y[train_ids], y[valid_ids]\n",
    "#         oof_y.extend(y_valid)\n",
    "#     return oof_y"
   ]
  },
  {
   "cell_type": "code",
   "execution_count": 61,
   "id": "bb6c938a-6a8d-48b5-9879-516b93b47447",
   "metadata": {},
   "outputs": [],
   "source": [
    "# oof_y_restored = regenerate_targets()"
   ]
  },
  {
   "cell_type": "code",
   "execution_count": 62,
   "id": "8de778c2-2c16-422d-b65d-437eb30f6b3f",
   "metadata": {},
   "outputs": [],
   "source": [
    "# oof_y[:20]"
   ]
  },
  {
   "cell_type": "code",
   "execution_count": 63,
   "id": "40452124-f33d-491a-ba74-79e8210c5760",
   "metadata": {},
   "outputs": [],
   "source": [
    "# oof_y_restored[:20]"
   ]
  },
  {
   "cell_type": "code",
   "execution_count": 64,
   "id": "a931314f-e2bf-44f2-a1c4-8e10d7fd6f28",
   "metadata": {},
   "outputs": [],
   "source": [
    "# roc_auc_score(y_score=oof_lv1['lgb1983'], y_true=oof_y_restored) # 0.8564776078917813 from fixed version, via `regenerate_targets`"
   ]
  },
  {
   "cell_type": "markdown",
   "id": "743826bf-29a1-47d0-9977-5be8e5e8f1cb",
   "metadata": {},
   "source": [
    "There we go"
   ]
  },
  {
   "cell_type": "code",
   "execution_count": 65,
   "id": "7f50a5de-5fba-43de-afa6-d450a0938d75",
   "metadata": {},
   "outputs": [],
   "source": [
    "# dump(oof_y_restored, predpath/f\"{exmodel_config['kfolds']}folds_rs{SEED}_oof_y.joblib\")"
   ]
  },
  {
   "cell_type": "code",
   "execution_count": null,
   "id": "c2ae0b11-b95d-43d5-b4dc-5dd6f54e1290",
   "metadata": {},
   "outputs": [],
   "source": [
    "# oof_lv1.index.name = 'id'\n",
    "# test_lv1.index.name = 'id'\n",
    "# oof_y.index.name = 'id'\n",
    "oof_lv1 = np.array(oof_lv1)\n",
    "test_lv1 = np.array(test_lv1)\n",
    "oof_y = np.array(oof_y)"
   ]
  },
  {
   "cell_type": "markdown",
   "id": "368e3ba4-981d-4a86-b181-66a43aed8285",
   "metadata": {},
   "source": [
    "## Level Two"
   ]
  },
  {
   "cell_type": "code",
   "execution_count": null,
   "id": "5ea5ac76-c5ab-4ae7-8e56-2eaf2f52f4d7",
   "metadata": {},
   "outputs": [],
   "source": [
    "oof_lv2, test_lv2 = pd.DataFrame(), pd.DataFrame()"
   ]
  },
  {
   "cell_type": "code",
   "execution_count": null,
   "id": "aa61d2f0-a14f-4192-8d75-29899946b686",
   "metadata": {
    "tags": []
   },
   "outputs": [],
   "source": [
    "oof_lv2_xgb42, test_lv2_xgb42 = cross_validate_model(library='xgboost', X=oof_lv1, y=oof_y, X_test=test_lv1, \n",
    "                                         wandb_config=wandb_config,\n",
    "                                         random_state=42,\n",
    "                                         params=best_xgboost_params,\n",
    "                                         exmodel_config=exmodel_config, \n",
    "                                         shuffle_kfolds=False,\n",
    "                                         wandb_tracked=False\n",
    "                                        )\n",
    "\n",
    "dump(oof_lv2_xgb42, predpath/f\"{wandb_config['name']}_oof_lv2_xgboost42_preds.joblib\")\n",
    "dump(test_lv2_xgb42, predpath/f\"{wandb_config['name']}_test_lv2_xgboost42_preds.joblib\")\n",
    "\n"
   ]
  },
  {
   "cell_type": "code",
   "execution_count": 86,
   "id": "00db765d-db36-4c90-858b-bc8708cf9331",
   "metadata": {},
   "outputs": [],
   "source": [
    "# oof_xgb_f0_rs1983 = load('/media/sf/easystore/kaggle_data/tabular_playgrounds/sep2021/models/stacking_manual_20210926_211701_xgboost_5folds/xgboost_fold0_model.joblib')\n",
    "# oof_xgb_f0_rs42 = load('/media/sf/easystore/kaggle_data/tabular_playgrounds/sep2021/models/stacking_manual_20210925_212129_xgboost_5folds/xgboost_fold0_model.joblib')"
   ]
  },
  {
   "cell_type": "code",
   "execution_count": null,
   "id": "bf9ac76c-cafa-4831-b856-37663b4ec276",
   "metadata": {
    "tags": []
   },
   "outputs": [],
   "source": [
    "oof_lv2_cat42, test_lv2_cat42 = cross_validate_model(library='catboost', X=oof_lv1, y=oof_y, X_test=test_lv1, \n",
    "                                         wandb_config=wandb_config,\n",
    "                                         random_state=42,\n",
    "                                         params=best_catboost_params,\n",
    "                                         exmodel_config=exmodel_config, \n",
    "                                         shuffle_kfolds=False,\n",
    "                                         wandb_tracked=False\n",
    "                                        )"
   ]
  },
  {
   "cell_type": "code",
   "execution_count": null,
   "id": "4b9ca079-d826-4991-8377-3bd3988b3fdd",
   "metadata": {},
   "outputs": [],
   "source": [
    "dump(oof_lv2_cat42, predpath/f\"{wandb_config['name']}_oof_lv2_catboost42_preds.joblib\")\n",
    "dump(test_lv2_cat42, predpath/f\"{wandb_config['name']}_test_lv2_catboost42_preds.joblib\")"
   ]
  },
  {
   "cell_type": "code",
   "execution_count": null,
   "id": "cf17be39-6ef1-4387-b1d2-e1ffa677093f",
   "metadata": {
    "tags": []
   },
   "outputs": [],
   "source": [
    "\n",
    "oof_lv2_lgb42, test_lv2_lgb42 = cross_validate_model(library='lightgbm', X=oof_lv1, y=oof_y, X_test=test_lv1, \n",
    "                                         wandb_config=wandb_config,\n",
    "                                         random_state=42,\n",
    "                                         params=best_lightgbm_params,\n",
    "                                         exmodel_config=exmodel_config,\n",
    "                                         shuffle_kfolds=False,\n",
    "                                         wandb_tracked=False\n",
    "                                        )"
   ]
  },
  {
   "cell_type": "code",
   "execution_count": null,
   "id": "9a7ef2ec-4539-4aaa-8a87-ce76eb8be564",
   "metadata": {},
   "outputs": [],
   "source": [
    "dump(oof_lv2_lgb42, predpath/f\"{wandb_config['name']}_oof_lv2_lightgbm42_preds.joblib\")\n",
    "dump(test_lv2_lgb42, predpath/f\"{wandb_config['name']}_test_lv2_lightgbm42_preds.joblib\")"
   ]
  },
  {
   "cell_type": "code",
   "execution_count": null,
   "id": "37f14d99-2917-4624-8e58-78818820750a",
   "metadata": {},
   "outputs": [],
   "source": [
    "oof_lv2['xgboost'] = oof_lv2_xgb42\n",
    "oof_lv2['catboost'] = oof_lv2_cat42\n",
    "oof_lv2['lightgbm'] = oof_lv2_lgb42\n",
    "\n",
    "test_lv2['xgboost'] = test_lv2_xgb42\n",
    "test_lv2['catboost'] = test_lv2_cat42\n",
    "test_lv2['lightgbm'] = test_lv2_lgb42"
   ]
  },
  {
   "cell_type": "code",
   "execution_count": null,
   "id": "4bf889a0-175d-4564-a80c-4a3476aeffc4",
   "metadata": {},
   "outputs": [],
   "source": [
    "oof_lv2.head()"
   ]
  },
  {
   "cell_type": "code",
   "execution_count": 94,
   "id": "b970e9c3-b3de-42b5-8d8b-c17832ecd339",
   "metadata": {},
   "outputs": [],
   "source": [
    "# oof_lv1_df = pd.read_feather(predpath/f\"{wandb_config['name']}_oof_lv1.feather)"
   ]
  },
  {
   "cell_type": "code",
   "execution_count": null,
   "id": "22f4d4e2-9174-4006-a5f7-47f42a2f5757",
   "metadata": {},
   "outputs": [],
   "source": [
    "oof_lv1 = pd.DataFrame(oof_lv1)"
   ]
  },
  {
   "cell_type": "code",
   "execution_count": null,
   "id": "7debcf3f-872c-42fb-9945-3b6b54eb9c76",
   "metadata": {},
   "outputs": [],
   "source": [
    "oof_lv1.head()"
   ]
  },
  {
   "cell_type": "code",
   "execution_count": null,
   "id": "4a241171-9b43-4205-9156-320687251c8f",
   "metadata": {},
   "outputs": [],
   "source": [
    "oof_lv2_full = oof_lv2.join(oof_lv1)"
   ]
  },
  {
   "cell_type": "code",
   "execution_count": null,
   "id": "9dbae0dc-79e9-421b-a9ea-a37cb5b17b96",
   "metadata": {},
   "outputs": [],
   "source": [
    "oof_lv2_full.head()"
   ]
  },
  {
   "cell_type": "code",
   "execution_count": null,
   "id": "6e641d5b-2750-4e33-90c6-8d8481ca09cf",
   "metadata": {},
   "outputs": [],
   "source": [
    "test_lv1 = pd.DataFrame(test_lv1)"
   ]
  },
  {
   "cell_type": "code",
   "execution_count": null,
   "id": "10359662-c105-477e-8c5b-8b82a4d51648",
   "metadata": {},
   "outputs": [],
   "source": [
    "test_lv1.head()"
   ]
  },
  {
   "cell_type": "code",
   "execution_count": null,
   "id": "5a7a3d8c-4684-4f40-84f7-940a6a485d1a",
   "metadata": {},
   "outputs": [],
   "source": [
    "test_lv2_full = test_lv2.join(test_lv1)"
   ]
  },
  {
   "cell_type": "code",
   "execution_count": null,
   "id": "6116488d-bda5-43b0-bb4f-f6cfd2c96156",
   "metadata": {},
   "outputs": [],
   "source": [
    "test_lv2_full.head()"
   ]
  },
  {
   "cell_type": "code",
   "execution_count": null,
   "id": "90b20494-95d6-4240-8a0d-b54de622b347",
   "metadata": {},
   "outputs": [],
   "source": [
    "oof_lv2_full.head()"
   ]
  },
  {
   "cell_type": "code",
   "execution_count": null,
   "id": "83f55d89-4ae1-4397-83ad-388e3d8e697a",
   "metadata": {},
   "outputs": [],
   "source": [
    "oof_lv2_np = oof_lv2_full.to_numpy()\n",
    "test_lv2_np = test_lv2_full.to_numpy()"
   ]
  },
  {
   "cell_type": "code",
   "execution_count": null,
   "id": "0f5029bd-96d5-4c86-a4f5-1da358456a8a",
   "metadata": {},
   "outputs": [],
   "source": [
    "type(oof_y)"
   ]
  },
  {
   "cell_type": "code",
   "execution_count": null,
   "id": "411948c7-bc26-4722-962d-23f56857a961",
   "metadata": {},
   "outputs": [],
   "source": [
    "oof_y_np = oof_y"
   ]
  },
  {
   "cell_type": "markdown",
   "id": "113c6aac-1344-4ee0-b2a2-1580d6c5356d",
   "metadata": {},
   "source": [
    "## Level Three (Logistic Regression)"
   ]
  },
  {
   "cell_type": "code",
   "execution_count": null,
   "id": "de1db0b1-26d9-440b-864b-63df8aa6fb3b",
   "metadata": {},
   "outputs": [],
   "source": [
    "from sklearn import model_selection"
   ]
  },
  {
   "cell_type": "code",
   "execution_count": null,
   "id": "18fa300d-2e9b-4fcd-8553-cf3885228bd4",
   "metadata": {},
   "outputs": [],
   "source": [
    "# kfolds = model_selection.StratifiedKFold(n_splits=5, shuffle=False) # no random_state if shuffle == False"
   ]
  },
  {
   "cell_type": "code",
   "execution_count": null,
   "id": "9ad51e38-ca0f-4e6c-9879-7993a8bd40ea",
   "metadata": {},
   "outputs": [],
   "source": [
    "oof_preds, oof_y = [], []"
   ]
  },
  {
   "cell_type": "code",
   "execution_count": null,
   "id": "e820c69a-13f3-4ace-a26f-d6e1fb097ef8",
   "metadata": {},
   "outputs": [],
   "source": [
    "test_preds = np.zeros((X_test.shape[0]))"
   ]
  },
  {
   "cell_type": "code",
   "execution_count": null,
   "id": "8ec5b2ec-8f29-471a-ab7d-d6be861a803c",
   "metadata": {},
   "outputs": [],
   "source": [
    "X = oof_lv2_np\n",
    "y = oof_y_np\n",
    "X_test = test_lv2_np"
   ]
  },
  {
   "cell_type": "code",
   "execution_count": null,
   "id": "1f6d220b-7f9f-49ea-b3bf-7d477751121c",
   "metadata": {},
   "outputs": [],
   "source": [
    "X[:10]"
   ]
  },
  {
   "cell_type": "code",
   "execution_count": null,
   "id": "c581a349-a22b-4383-b109-ec87ec9eed8d",
   "metadata": {},
   "outputs": [],
   "source": [
    "library = 'sklearn (LogisticRegressor(max_iter=1000))'\n",
    "# exmodel_config['library'] = library\n",
    "# wandb.init(\n",
    "#     project=\"202110_Kaggle_tabular_playground\",\n",
    "#     save_code=True,\n",
    "#     tags=wandb_config['tags'],\n",
    "#     name=wandb_config['name'],\n",
    "#     notes=wandb_config['notes'],\n",
    "#     config=exmodel_config\n",
    "# )   \n",
    "\n",
    "# prepare for k-fold cross-validation\n",
    "# kfold = exmodel_config['cross_val_strategy'](n_splits=exmodel_config['kfolds'], shuffle=True, random_state=SEED)\n",
    "kfold = exmodel_config['cross_val_strategy'](n_splits=exmodel_config['kfolds'], shuffle=False)\n",
    "\n",
    "# setup for serialization\n",
    "# model_path = Path(datapath/f\"models/{wandb_config['name']}_{library}_{exmodel_config['kfolds']}folds/\")\n",
    "# (model_path).mkdir(exist_ok=True)"
   ]
  },
  {
   "cell_type": "code",
   "execution_count": null,
   "id": "2eefeecc-3536-482b-9f9c-8a286e3c6c9e",
   "metadata": {},
   "outputs": [],
   "source": []
  },
  {
   "cell_type": "code",
   "execution_count": null,
   "id": "d405ab94-9fe2-4d95-b966-ad02de6f6f85",
   "metadata": {},
   "outputs": [],
   "source": [
    "for fold, (train_idx, valid_idx) in enumerate(kfold.split(X,y)):\n",
    "    X_train, X_valid = X[train_idx], X[valid_idx]\n",
    "    y_train, y_valid = y[train_idx], y[valid_idx]\n",
    "    \n",
    "    print(f\"FOLD {fold}\")\n",
    "    print(\"---------------------\")\n",
    "    \n",
    "    model = LogisticRegression(max_iter=1000)\n",
    "    \n",
    "    model.fit(X_train, y_train)\n",
    "    preds = model.predict_proba(X_valid)[:,1]\n",
    "    \n",
    "    oof_preds.extend(preds)\n",
    "    oof_y.extend(y_valid)\n",
    "    \n",
    "    test_preds += model.predict_proba(X_test)[:,1]\n",
    "    \n",
    "    valid_auc = roc_auc_score(y_valid, preds)\n",
    "    print(f\"ROC AUC of fold {fold} is {valid_auc}\")\n",
    "    \n",
    "#     dump(preds, /'lv_3)\n",
    "\n",
    "valid_auc_total = roc_auc_score(oof_y, oof_preds)\n",
    "print(f\"Overall ROC_AUC is {valid_auc_total}\")\n",
    "\n",
    "dump(oof_preds, predpath/'oof_lv3_preds.joblib')\n",
    "dump(oof_y, predpath/'oof_lv3_y.joblib')\n",
    "\n",
    "test_preds /= 5\n",
    "\n",
    "dump(test_preds, predpath/'test_lv3_preds.joblib')"
   ]
  },
  {
   "cell_type": "code",
   "execution_count": null,
   "id": "9a99cf5b-3477-47f4-9391-73e2ff93c7d1",
   "metadata": {},
   "outputs": [],
   "source": [
    "# X_test_imputed_scaled = pd.read_feather(path=datapath/'X_test_NaNcounts_imputed-Median-wIndicators_StandardScaled.feather')\n",
    "# X_test_imputed_scaled = pd.read_feather(path=datapath/'X_test_NaNcounts_SummaryStats_imputed-Median-wIndicators-StandardScaled.feather')"
   ]
  },
  {
   "cell_type": "markdown",
   "id": "a57f347f-872f-4011-9f13-78fad542f36a",
   "metadata": {},
   "source": [
    "## Prediction Generation"
   ]
  },
  {
   "cell_type": "code",
   "execution_count": null,
   "id": "0773d286-257d-4776-add5-0f724944befe",
   "metadata": {},
   "outputs": [],
   "source": [
    "# preds_path = Path(datapath/\"preds/\")\n",
    "\n",
    "# blender_preds = blender.predict_proba(X_test_imputed_scaled)[:,1]\n",
    "# dump(blender_preds, preds_path/f\"{config_run['name']}_stack.joblib\")"
   ]
  },
  {
   "cell_type": "markdown",
   "id": "97f63005-4b50-40e9-9af4-d858b9b73576",
   "metadata": {},
   "source": [
    "# Ensemble Submission"
   ]
  },
  {
   "cell_type": "code",
   "execution_count": null,
   "id": "1193a028-ea7f-4635-8c36-5cd517894784",
   "metadata": {
    "tags": []
   },
   "outputs": [],
   "source": [
    "sample_df = pd.read_csv(datapath/'sample_submission.csv.zip')"
   ]
  },
  {
   "cell_type": "code",
   "execution_count": null,
   "id": "cecede81-21ca-414d-8e1a-57baa3e5be82",
   "metadata": {},
   "outputs": [],
   "source": [
    "sample_df.loc[:, 'target'] = test_preds"
   ]
  },
  {
   "cell_type": "code",
   "execution_count": null,
   "id": "f5c9fc8c-45ab-4ea6-b40b-15149ad43751",
   "metadata": {},
   "outputs": [],
   "source": [
    "sample_df.head()"
   ]
  },
  {
   "cell_type": "code",
   "execution_count": null,
   "id": "32d80568-780e-4798-a26b-e2907825f6ad",
   "metadata": {},
   "outputs": [],
   "source": [
    "# submission_path = datapath/'submissions'\n",
    "# submission_path.mkdir(exist_ok=True)"
   ]
  },
  {
   "cell_type": "code",
   "execution_count": null,
   "id": "3d5e653c-a3de-4e25-a22f-4d7d0e1d49ee",
   "metadata": {},
   "outputs": [],
   "source": [
    "sample_df.to_csv(subpath/f\"{wandb_config['name']}_3level-GBM-ensemble_X_orig_JamesSteinEncoded_{exmodel_config['kfolds']}folds_rs{42}_preds.csv\", index=False)"
   ]
  },
  {
   "cell_type": "code",
   "execution_count": 56,
   "id": "0e5c8dfd-4282-45fb-bd1b-cebccbaea68f",
   "metadata": {},
   "outputs": [],
   "source": [
    "# wandb.log({'leaderboard_auc': ,\n",
    "# #            'catboost_params': str(best_catboost_params),\n",
    "#           })"
   ]
  },
  {
   "cell_type": "code",
   "execution_count": 57,
   "id": "b9a1cda7-ee10-4db7-9d99-2748be655a3c",
   "metadata": {
    "collapsed": true,
    "jupyter": {
     "outputs_hidden": true
    },
    "tags": []
   },
   "outputs": [
    {
     "data": {
      "text/html": [
       "<br/>Waiting for W&B process to finish, PID 2477425<br/>Program ended successfully."
      ],
      "text/plain": [
       "<IPython.core.display.HTML object>"
      ]
     },
     "metadata": {},
     "output_type": "display_data"
    },
    {
     "data": {
      "application/vnd.jupyter.widget-view+json": {
       "model_id": "",
       "version_major": 2,
       "version_minor": 0
      },
      "text/plain": [
       "VBox(children=(Label(value=' 0.23MB of 0.23MB uploaded (0.06MB deduped)\\r'), FloatProgress(value=1.0, max=1.0)…"
      ]
     },
     "metadata": {},
     "output_type": "display_data"
    },
    {
     "data": {
      "text/html": [
       "Find user logs for this run at: <code>/home/sf/Dropbox/code_cloud/python_code/kaggle/tabular_playgrounds/sep2021/wandb/run-20210922_213427-2nalm78k/logs/debug.log</code>"
      ],
      "text/plain": [
       "<IPython.core.display.HTML object>"
      ]
     },
     "metadata": {},
     "output_type": "display_data"
    },
    {
     "data": {
      "text/html": [
       "Find internal logs for this run at: <code>/home/sf/Dropbox/code_cloud/python_code/kaggle/tabular_playgrounds/sep2021/wandb/run-20210922_213427-2nalm78k/logs/debug-internal.log</code>"
      ],
      "text/plain": [
       "<IPython.core.display.HTML object>"
      ]
     },
     "metadata": {},
     "output_type": "display_data"
    },
    {
     "data": {
      "text/html": [
       "<h3>Run summary:</h3><br/><style>\n",
       "    table.wandb td:nth-child(1) { padding: 0 10px; text-align: right }\n",
       "    </style><table class=\"wandb\">\n",
       "<tr><td>blender-cv</td><td>5</td></tr><tr><td>blender-final_estimator</td><td>LogisticRegression(m...</td></tr><tr><td>blender-stack_mdethod</td><td>predict_proba</td></tr><tr><td>leaderboard_auc</td><td>0.81725</td></tr><tr><td>lightgbm_params</td><td>{'boosting_type': 'g...</td></tr><tr><td>test_set</td><td>/media/sf/easystore/...</td></tr><tr><td>train_auc</td><td>0.8414</td></tr><tr><td>train_loss</td><td>0.494</td></tr><tr><td>xgboost_params</td><td>{'objective': 'binar...</td></tr></table>"
      ],
      "text/plain": [
       "<IPython.core.display.HTML object>"
      ]
     },
     "metadata": {},
     "output_type": "display_data"
    },
    {
     "data": {
      "text/html": [
       "<h3>Run history:</h3><br/><style>\n",
       "    table.wandb td:nth-child(1) { padding: 0 10px; text-align: right }\n",
       "    </style><table class=\"wandb\">\n",
       "<tr><td>blender-cv</td><td>▁</td></tr><tr><td>leaderboard_auc</td><td>▁</td></tr><tr><td>train_auc</td><td>▁</td></tr><tr><td>train_loss</td><td>▁</td></tr></table><br/>"
      ],
      "text/plain": [
       "<IPython.core.display.HTML object>"
      ]
     },
     "metadata": {},
     "output_type": "display_data"
    },
    {
     "data": {
      "text/html": [
       "Synced 6 W&B file(s), 0 media file(s), 4 artifact file(s) and 1 other file(s)"
      ],
      "text/plain": [
       "<IPython.core.display.HTML object>"
      ]
     },
     "metadata": {},
     "output_type": "display_data"
    },
    {
     "data": {
      "text/html": [
       "\n",
       "                    <br/>Synced <strong style=\"color:#cdcd00\">stacking_off-shelf_20210922_213426</strong>: <a href=\"https://wandb.ai/hushifang/202109_Kaggle_tabular_playground/runs/2nalm78k\" target=\"_blank\">https://wandb.ai/hushifang/202109_Kaggle_tabular_playground/runs/2nalm78k</a><br/>\n",
       "                "
      ],
      "text/plain": [
       "<IPython.core.display.HTML object>"
      ]
     },
     "metadata": {},
     "output_type": "display_data"
    }
   ],
   "source": [
    "# wandb.finish()"
   ]
  },
  {
   "cell_type": "markdown",
   "id": "188650a9-6b22-45c6-9ff7-996fe917b5b4",
   "metadata": {},
   "source": [
    "# Power Averaging"
   ]
  },
  {
   "cell_type": "code",
   "execution_count": 103,
   "id": "261029fd-fd23-4785-9144-990ba07180a3",
   "metadata": {},
   "outputs": [],
   "source": [
    "stack_sub = sample_df.copy()"
   ]
  },
  {
   "cell_type": "code",
   "execution_count": 111,
   "id": "957d4313-541c-4abf-a06d-38363f8cb0b0",
   "metadata": {},
   "outputs": [],
   "source": [
    "stack_preds = stack_sub.iloc[:,1]"
   ]
  },
  {
   "cell_type": "code",
   "execution_count": 113,
   "id": "bf9d39f1-1bc2-49b8-bb6f-53784be6a869",
   "metadata": {},
   "outputs": [],
   "source": [
    "cat1983_preds = load(predpath/'stacking_manual_20211005_205933_catboost_5folds_rs1983_test_preds.joblib')"
   ]
  },
  {
   "cell_type": "code",
   "execution_count": 108,
   "id": "4b302164-b933-47fe-b245-d0e00d5693fc",
   "metadata": {},
   "outputs": [
    {
     "data": {
      "text/plain": [
       "array([0.74295914, 0.23628303, 0.90847273, 0.84461925, 0.26773447,\n",
       "       0.21324814, 0.03378722, 0.32052802, 0.96664006, 0.85420206])"
      ]
     },
     "execution_count": 108,
     "metadata": {},
     "output_type": "execute_result"
    }
   ],
   "source": [
    "# cat_preds[:10]"
   ]
  },
  {
   "cell_type": "code",
   "execution_count": 109,
   "id": "85d27110-7a50-410d-9958-605702d297cc",
   "metadata": {},
   "outputs": [
    {
     "data": {
      "text/plain": [
       "0    0.690655\n",
       "1    0.273361\n",
       "2    0.942998\n",
       "3    0.829685\n",
       "4    0.311115\n",
       "5    0.233266\n",
       "6    0.037680\n",
       "7    0.369001\n",
       "8    0.969728\n",
       "9    0.849232\n",
       "Name: target, dtype: float64"
      ]
     },
     "execution_count": 109,
     "metadata": {},
     "output_type": "execute_result"
    }
   ],
   "source": [
    "# stack_sub.iloc[:10,1]"
   ]
  },
  {
   "cell_type": "code",
   "execution_count": 115,
   "id": "1f9c0782-89d2-49d6-8aca-88b2e45305ef",
   "metadata": {},
   "outputs": [],
   "source": [
    "lgb1983_preds = load(predpath/'stacking_manual_20211005_205933_lightgbm_5folds_rs1983_test_preds.joblib')"
   ]
  },
  {
   "cell_type": "code",
   "execution_count": 116,
   "id": "d832d4b8-d36b-433f-ba35-4c4997e566a5",
   "metadata": {},
   "outputs": [
    {
     "data": {
      "text/plain": [
       "array([0.71627935, 0.22722624, 0.90767775, 0.81255748, 0.28256192,\n",
       "       0.19362319, 0.02520114, 0.32767655, 0.95997145, 0.83308257])"
      ]
     },
     "execution_count": 116,
     "metadata": {},
     "output_type": "execute_result"
    }
   ],
   "source": [
    "lgb1983_preds[:10]"
   ]
  },
  {
   "cell_type": "markdown",
   "id": "9d3476e9-6947-432d-858c-fd6afcac7433",
   "metadata": {},
   "source": [
    "## 4th power"
   ]
  },
  {
   "cell_type": "code",
   "execution_count": 117,
   "id": "d70f1361-c7fc-49b2-86e5-844487bca686",
   "metadata": {},
   "outputs": [],
   "source": [
    "power4_avg = (stack_preds**4 + cat1983_preds**4 + lgb1983_preds**4) / 3"
   ]
  },
  {
   "cell_type": "code",
   "execution_count": 118,
   "id": "28966015-2491-428d-8a74-6f8e5e19330b",
   "metadata": {},
   "outputs": [
    {
     "data": {
      "text/plain": [
       "0     0.265150\n",
       "1     0.003789\n",
       "2     0.716897\n",
       "3     0.472902\n",
       "4     0.006961\n",
       "5     0.002145\n",
       "6     0.000001\n",
       "7     0.013541\n",
       "8     0.868878\n",
       "9     0.511401\n",
       "10    0.666890\n",
       "11    0.115626\n",
       "12    0.000255\n",
       "13    0.021710\n",
       "14    0.029448\n",
       "15    0.004709\n",
       "16    0.008607\n",
       "17    0.065592\n",
       "18    0.000042\n",
       "19    0.852541\n",
       "Name: target, dtype: float64"
      ]
     },
     "execution_count": 118,
     "metadata": {},
     "output_type": "execute_result"
    }
   ],
   "source": [
    "power4_avg[:20]"
   ]
  },
  {
   "cell_type": "code",
   "execution_count": null,
   "id": "196f353c-ea30-4360-aebb-23d4d89d39d1",
   "metadata": {},
   "outputs": [],
   "source": []
  },
  {
   "cell_type": "code",
   "execution_count": 119,
   "id": "a99a1c7f-3350-4610-9cb4-e8f1c4d8d89a",
   "metadata": {
    "tags": []
   },
   "outputs": [],
   "source": [
    "sample_df = pd.read_csv(datapath/'sample_submission.csv.zip')"
   ]
  },
  {
   "cell_type": "code",
   "execution_count": 120,
   "id": "7d6a835c-7077-425d-acdf-8af36a864605",
   "metadata": {},
   "outputs": [],
   "source": [
    "sample_df.loc[:, 'target'] = power4_avg"
   ]
  },
  {
   "cell_type": "code",
   "execution_count": 121,
   "id": "43f4b808-d9fe-490c-a078-71e695f94fdb",
   "metadata": {},
   "outputs": [
    {
     "data": {
      "text/html": [
       "<div>\n",
       "<style scoped>\n",
       "    .dataframe tbody tr th:only-of-type {\n",
       "        vertical-align: middle;\n",
       "    }\n",
       "\n",
       "    .dataframe tbody tr th {\n",
       "        vertical-align: top;\n",
       "    }\n",
       "\n",
       "    .dataframe thead th {\n",
       "        text-align: right;\n",
       "    }\n",
       "</style>\n",
       "<table border=\"1\" class=\"dataframe\">\n",
       "  <thead>\n",
       "    <tr style=\"text-align: right;\">\n",
       "      <th></th>\n",
       "      <th>id</th>\n",
       "      <th>target</th>\n",
       "    </tr>\n",
       "  </thead>\n",
       "  <tbody>\n",
       "    <tr>\n",
       "      <th>0</th>\n",
       "      <td>1000000</td>\n",
       "      <td>0.265150</td>\n",
       "    </tr>\n",
       "    <tr>\n",
       "      <th>1</th>\n",
       "      <td>1000001</td>\n",
       "      <td>0.003789</td>\n",
       "    </tr>\n",
       "    <tr>\n",
       "      <th>2</th>\n",
       "      <td>1000002</td>\n",
       "      <td>0.716897</td>\n",
       "    </tr>\n",
       "    <tr>\n",
       "      <th>3</th>\n",
       "      <td>1000003</td>\n",
       "      <td>0.472902</td>\n",
       "    </tr>\n",
       "    <tr>\n",
       "      <th>4</th>\n",
       "      <td>1000004</td>\n",
       "      <td>0.006961</td>\n",
       "    </tr>\n",
       "  </tbody>\n",
       "</table>\n",
       "</div>"
      ],
      "text/plain": [
       "        id    target\n",
       "0  1000000  0.265150\n",
       "1  1000001  0.003789\n",
       "2  1000002  0.716897\n",
       "3  1000003  0.472902\n",
       "4  1000004  0.006961"
      ]
     },
     "execution_count": 121,
     "metadata": {},
     "output_type": "execute_result"
    }
   ],
   "source": [
    "sample_df.head()"
   ]
  },
  {
   "cell_type": "code",
   "execution_count": null,
   "id": "24018d55-37f4-4586-b853-9840b1e7564d",
   "metadata": {},
   "outputs": [],
   "source": [
    "# submission_path = datapath/'submissions'\n",
    "# submission_path.mkdir(exist_ok=True)"
   ]
  },
  {
   "cell_type": "code",
   "execution_count": 122,
   "id": "dd27df16-b3e8-4fd8-b4ca-d8d3533de81a",
   "metadata": {},
   "outputs": [],
   "source": [
    "sample_df.to_csv(subpath/f\"{wandb_config['name']}_3level-GBM-stack_cat1983_lgb1983_pow-avg4_ensemble_preds.csv\", index=False)"
   ]
  },
  {
   "cell_type": "markdown",
   "id": "8152f70e-867f-4042-98a2-c955ab265892",
   "metadata": {},
   "source": [
    "## 6th power"
   ]
  },
  {
   "cell_type": "code",
   "execution_count": 123,
   "id": "5c026f46-3f2a-4570-a856-3615945af291",
   "metadata": {},
   "outputs": [],
   "source": [
    "power6_avg = (stack_preds**6 + cat1983_preds**6 + lgb1983_preds**6) / 3"
   ]
  },
  {
   "cell_type": "code",
   "execution_count": 124,
   "id": "49a2de33-5e52-45c4-98ea-f4da676dbe61",
   "metadata": {},
   "outputs": [
    {
     "data": {
      "text/plain": [
       "0     1.372567e-01\n",
       "1     2.429774e-04\n",
       "2     6.081943e-01\n",
       "3     3.256891e-01\n",
       "4     5.947037e-04\n",
       "5     1.026115e-04\n",
       "6     1.535337e-09\n",
       "7     1.615576e-03\n",
       "8     8.099990e-01\n",
       "9     3.659600e-01\n",
       "10    5.456658e-01\n",
       "11    3.959378e-02\n",
       "12    4.262004e-06\n",
       "13    3.244684e-03\n",
       "14    5.252903e-03\n",
       "15    3.274883e-04\n",
       "16    8.155606e-04\n",
       "17    1.693755e-02\n",
       "18    3.179565e-07\n",
       "19    7.874945e-01\n",
       "Name: target, dtype: float64"
      ]
     },
     "execution_count": 124,
     "metadata": {},
     "output_type": "execute_result"
    }
   ],
   "source": [
    "power6_avg[:20]"
   ]
  },
  {
   "cell_type": "code",
   "execution_count": null,
   "id": "88965733-2a5b-498e-bb57-fbba89929a63",
   "metadata": {},
   "outputs": [],
   "source": []
  },
  {
   "cell_type": "code",
   "execution_count": 125,
   "id": "13a5d894-77a5-4412-9f69-395581b18048",
   "metadata": {
    "tags": []
   },
   "outputs": [],
   "source": [
    "sample_df = pd.read_csv(datapath/'sample_submission.csv.zip')"
   ]
  },
  {
   "cell_type": "code",
   "execution_count": 126,
   "id": "db5d6475-8c93-48e7-998c-01aef9c38136",
   "metadata": {},
   "outputs": [],
   "source": [
    "sample_df.loc[:, 'target'] = power6_avg"
   ]
  },
  {
   "cell_type": "code",
   "execution_count": 127,
   "id": "5584579e-c04f-482e-8a1b-cfa53a6ce468",
   "metadata": {},
   "outputs": [
    {
     "data": {
      "text/html": [
       "<div>\n",
       "<style scoped>\n",
       "    .dataframe tbody tr th:only-of-type {\n",
       "        vertical-align: middle;\n",
       "    }\n",
       "\n",
       "    .dataframe tbody tr th {\n",
       "        vertical-align: top;\n",
       "    }\n",
       "\n",
       "    .dataframe thead th {\n",
       "        text-align: right;\n",
       "    }\n",
       "</style>\n",
       "<table border=\"1\" class=\"dataframe\">\n",
       "  <thead>\n",
       "    <tr style=\"text-align: right;\">\n",
       "      <th></th>\n",
       "      <th>id</th>\n",
       "      <th>target</th>\n",
       "    </tr>\n",
       "  </thead>\n",
       "  <tbody>\n",
       "    <tr>\n",
       "      <th>0</th>\n",
       "      <td>1000000</td>\n",
       "      <td>0.137257</td>\n",
       "    </tr>\n",
       "    <tr>\n",
       "      <th>1</th>\n",
       "      <td>1000001</td>\n",
       "      <td>0.000243</td>\n",
       "    </tr>\n",
       "    <tr>\n",
       "      <th>2</th>\n",
       "      <td>1000002</td>\n",
       "      <td>0.608194</td>\n",
       "    </tr>\n",
       "    <tr>\n",
       "      <th>3</th>\n",
       "      <td>1000003</td>\n",
       "      <td>0.325689</td>\n",
       "    </tr>\n",
       "    <tr>\n",
       "      <th>4</th>\n",
       "      <td>1000004</td>\n",
       "      <td>0.000595</td>\n",
       "    </tr>\n",
       "  </tbody>\n",
       "</table>\n",
       "</div>"
      ],
      "text/plain": [
       "        id    target\n",
       "0  1000000  0.137257\n",
       "1  1000001  0.000243\n",
       "2  1000002  0.608194\n",
       "3  1000003  0.325689\n",
       "4  1000004  0.000595"
      ]
     },
     "execution_count": 127,
     "metadata": {},
     "output_type": "execute_result"
    }
   ],
   "source": [
    "sample_df.head()"
   ]
  },
  {
   "cell_type": "code",
   "execution_count": 128,
   "id": "91341fd2-7ddb-443f-b653-b203f5adead8",
   "metadata": {},
   "outputs": [],
   "source": [
    "# submission_path = datapath/'submissions'\n",
    "# submission_path.mkdir(exist_ok=True)"
   ]
  },
  {
   "cell_type": "code",
   "execution_count": 129,
   "id": "7970d847-5cf8-48fe-bcbd-57def1a70309",
   "metadata": {},
   "outputs": [],
   "source": [
    "sample_df.to_csv(subpath/f\"{wandb_config['name']}_3level-GBM-stack_cat1983_lgb1983_pow-avg6_ensemble_preds.csv\", index=False)"
   ]
  },
  {
   "cell_type": "markdown",
   "id": "2f544286-a2ae-46fb-b358-d1c0d8af81a8",
   "metadata": {},
   "source": [
    "## 5th power"
   ]
  },
  {
   "cell_type": "code",
   "execution_count": 130,
   "id": "c75f75b6-6c95-49b0-9df8-f2924176a00e",
   "metadata": {},
   "outputs": [],
   "source": [
    "power5_avg = (stack_preds**5 + cat1983_preds**5 + lgb1983_preds**5) / 3"
   ]
  },
  {
   "cell_type": "code",
   "execution_count": 131,
   "id": "e7c0a842-b42a-4b42-b2dc-24b5871aaa09",
   "metadata": {},
   "outputs": [],
   "source": [
    "# power5_avg[:20]"
   ]
  },
  {
   "cell_type": "code",
   "execution_count": null,
   "id": "18dd42c5-9de0-4c28-9b42-71b965a9f148",
   "metadata": {},
   "outputs": [],
   "source": []
  },
  {
   "cell_type": "code",
   "execution_count": 132,
   "id": "915c7ee4-20e2-44b2-8b95-afe3e2386cc6",
   "metadata": {
    "tags": []
   },
   "outputs": [],
   "source": [
    "sample_df = pd.read_csv(datapath/'sample_submission.csv.zip')"
   ]
  },
  {
   "cell_type": "code",
   "execution_count": 133,
   "id": "891b19c3-7249-4c27-be92-3250990f7d0c",
   "metadata": {},
   "outputs": [],
   "source": [
    "sample_df.loc[:, 'target'] = power5_avg"
   ]
  },
  {
   "cell_type": "code",
   "execution_count": 134,
   "id": "72b0f742-5076-4c5d-be11-9aaa0e4fc45e",
   "metadata": {},
   "outputs": [
    {
     "data": {
      "text/html": [
       "<div>\n",
       "<style scoped>\n",
       "    .dataframe tbody tr th:only-of-type {\n",
       "        vertical-align: middle;\n",
       "    }\n",
       "\n",
       "    .dataframe tbody tr th {\n",
       "        vertical-align: top;\n",
       "    }\n",
       "\n",
       "    .dataframe thead th {\n",
       "        text-align: right;\n",
       "    }\n",
       "</style>\n",
       "<table border=\"1\" class=\"dataframe\">\n",
       "  <thead>\n",
       "    <tr style=\"text-align: right;\">\n",
       "      <th></th>\n",
       "      <th>id</th>\n",
       "      <th>target</th>\n",
       "    </tr>\n",
       "  </thead>\n",
       "  <tbody>\n",
       "    <tr>\n",
       "      <th>0</th>\n",
       "      <td>1000000</td>\n",
       "      <td>0.190688</td>\n",
       "    </tr>\n",
       "    <tr>\n",
       "      <th>1</th>\n",
       "      <td>1000001</td>\n",
       "      <td>0.000956</td>\n",
       "    </tr>\n",
       "    <tr>\n",
       "      <th>2</th>\n",
       "      <td>1000002</td>\n",
       "      <td>0.660202</td>\n",
       "    </tr>\n",
       "    <tr>\n",
       "      <th>3</th>\n",
       "      <td>1000003</td>\n",
       "      <td>0.392404</td>\n",
       "    </tr>\n",
       "    <tr>\n",
       "      <th>4</th>\n",
       "      <td>1000004</td>\n",
       "      <td>0.002031</td>\n",
       "    </tr>\n",
       "  </tbody>\n",
       "</table>\n",
       "</div>"
      ],
      "text/plain": [
       "        id    target\n",
       "0  1000000  0.190688\n",
       "1  1000001  0.000956\n",
       "2  1000002  0.660202\n",
       "3  1000003  0.392404\n",
       "4  1000004  0.002031"
      ]
     },
     "execution_count": 134,
     "metadata": {},
     "output_type": "execute_result"
    }
   ],
   "source": [
    "sample_df.head()"
   ]
  },
  {
   "cell_type": "code",
   "execution_count": 128,
   "id": "4fec99b0-4581-4c1b-91af-f9fbc988406c",
   "metadata": {},
   "outputs": [],
   "source": [
    "# submission_path = datapath/'submissions'\n",
    "# submission_path.mkdir(exist_ok=True)"
   ]
  },
  {
   "cell_type": "code",
   "execution_count": 135,
   "id": "c478bab0-280f-493b-8ad6-4db7eb259ecd",
   "metadata": {},
   "outputs": [],
   "source": [
    "sample_df.to_csv(subpath/f\"{wandb_config['name']}_3level-GBM-stack_cat1983_lgb1983_pow-avg5_ensemble_preds.csv\", index=False)"
   ]
  },
  {
   "cell_type": "markdown",
   "id": "733a7092-551c-453e-a529-f225caf84334",
   "metadata": {},
   "source": [
    "## 3rd power"
   ]
  },
  {
   "cell_type": "code",
   "execution_count": 136,
   "id": "aae6f07f-0d59-4972-ac21-d0d4aec233bb",
   "metadata": {},
   "outputs": [],
   "source": [
    "power3_avg = (stack_preds**3 + cat1983_preds**3 + lgb1983_preds**3) / 3"
   ]
  },
  {
   "cell_type": "code",
   "execution_count": 131,
   "id": "70dcbcc7-d5d5-4233-b091-14c474e4dc8d",
   "metadata": {},
   "outputs": [],
   "source": [
    "# power5_avg[:20]"
   ]
  },
  {
   "cell_type": "code",
   "execution_count": null,
   "id": "08039950-9ee8-4347-a3ce-603f3d2127e3",
   "metadata": {},
   "outputs": [],
   "source": []
  },
  {
   "cell_type": "code",
   "execution_count": 137,
   "id": "0676ca5a-9491-4797-9e41-cb31ef96967d",
   "metadata": {
    "tags": []
   },
   "outputs": [],
   "source": [
    "sample_df = pd.read_csv(datapath/'sample_submission.csv.zip')"
   ]
  },
  {
   "cell_type": "code",
   "execution_count": 138,
   "id": "1d2872c8-9db5-4564-93c9-788e05e563b5",
   "metadata": {},
   "outputs": [],
   "source": [
    "sample_df.loc[:, 'target'] = power3_avg"
   ]
  },
  {
   "cell_type": "code",
   "execution_count": 139,
   "id": "2063b49a-13f5-49f1-ace5-35429ff51f54",
   "metadata": {},
   "outputs": [
    {
     "data": {
      "text/html": [
       "<div>\n",
       "<style scoped>\n",
       "    .dataframe tbody tr th:only-of-type {\n",
       "        vertical-align: middle;\n",
       "    }\n",
       "\n",
       "    .dataframe tbody tr th {\n",
       "        vertical-align: top;\n",
       "    }\n",
       "\n",
       "    .dataframe thead th {\n",
       "        text-align: right;\n",
       "    }\n",
       "</style>\n",
       "<table border=\"1\" class=\"dataframe\">\n",
       "  <thead>\n",
       "    <tr style=\"text-align: right;\">\n",
       "      <th></th>\n",
       "      <th>id</th>\n",
       "      <th>target</th>\n",
       "    </tr>\n",
       "  </thead>\n",
       "  <tbody>\n",
       "    <tr>\n",
       "      <th>0</th>\n",
       "      <td>1000000</td>\n",
       "      <td>0.369014</td>\n",
       "    </tr>\n",
       "    <tr>\n",
       "      <th>1</th>\n",
       "      <td>1000001</td>\n",
       "      <td>0.015117</td>\n",
       "    </tr>\n",
       "    <tr>\n",
       "      <th>2</th>\n",
       "      <td>1000002</td>\n",
       "      <td>0.778719</td>\n",
       "    </tr>\n",
       "    <tr>\n",
       "      <th>3</th>\n",
       "      <td>1000003</td>\n",
       "      <td>0.570054</td>\n",
       "    </tr>\n",
       "    <tr>\n",
       "      <th>4</th>\n",
       "      <td>1000004</td>\n",
       "      <td>0.023955</td>\n",
       "    </tr>\n",
       "  </tbody>\n",
       "</table>\n",
       "</div>"
      ],
      "text/plain": [
       "        id    target\n",
       "0  1000000  0.369014\n",
       "1  1000001  0.015117\n",
       "2  1000002  0.778719\n",
       "3  1000003  0.570054\n",
       "4  1000004  0.023955"
      ]
     },
     "execution_count": 139,
     "metadata": {},
     "output_type": "execute_result"
    }
   ],
   "source": [
    "sample_df.head()"
   ]
  },
  {
   "cell_type": "code",
   "execution_count": 128,
   "id": "5bdcfc39-c682-452a-95da-c35fe2a7b689",
   "metadata": {},
   "outputs": [],
   "source": [
    "# submission_path = datapath/'submissions'\n",
    "# submission_path.mkdir(exist_ok=True)"
   ]
  },
  {
   "cell_type": "code",
   "execution_count": 140,
   "id": "a3c73b0e-0ceb-4c7b-96bc-857b6f499966",
   "metadata": {},
   "outputs": [],
   "source": [
    "sample_df.to_csv(subpath/f\"{wandb_config['name']}_3level-GBM-stack_cat1983_lgb1983_pow-avg3_ensemble_preds.csv\", index=False)"
   ]
  }
 ],
 "metadata": {
  "kernelspec": {
   "display_name": "Python 3",
   "language": "python",
   "name": "python3"
  },
  "language_info": {
   "codemirror_mode": {
    "name": "ipython",
    "version": 3
   },
   "file_extension": ".py",
   "mimetype": "text/x-python",
   "name": "python",
   "nbconvert_exporter": "python",
   "pygments_lexer": "ipython3",
   "version": "3.8.11"
  }
 },
 "nbformat": 4,
 "nbformat_minor": 5
}
