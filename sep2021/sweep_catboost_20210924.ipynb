{
 "cells": [
  {
   "cell_type": "markdown",
   "id": "1d4e7f70-25a3-4d58-b98a-3a695e55ee53",
   "metadata": {
    "id": "1d4e7f70-25a3-4d58-b98a-3a695e55ee53"
   },
   "source": [
    "# Catboost Hyperparameter Sweep 20210920\n",
    "Largely after https://www.kaggle.com/satorushibata/optimize-catboost-hyperparameter-with-optuna-gpu"
   ]
  },
  {
   "cell_type": "code",
   "execution_count": null,
   "id": "U_qtimPUchWD",
   "metadata": {
    "id": "U_qtimPUchWD"
   },
   "outputs": [],
   "source": []
  },
  {
   "cell_type": "markdown",
   "id": "1e124c3d-0e1f-4053-8e72-52569a4fe3e4",
   "metadata": {
    "id": "1e124c3d-0e1f-4053-8e72-52569a4fe3e4"
   },
   "source": [
    "# Setup"
   ]
  },
  {
   "cell_type": "code",
   "execution_count": 1,
   "id": "dae2ff1e-bd1f-4cc9-8357-5a88d1746ffb",
   "metadata": {
    "id": "dae2ff1e-bd1f-4cc9-8357-5a88d1746ffb"
   },
   "outputs": [],
   "source": [
    "# two manual flags (ex-config)\n",
    "colab = False\n",
    "gpu_available = False"
   ]
  },
  {
   "cell_type": "code",
   "execution_count": 2,
   "id": "16849bd2-428c-497b-ba3b-675002f8d041",
   "metadata": {
    "id": "16849bd2-428c-497b-ba3b-675002f8d041"
   },
   "outputs": [],
   "source": [
    "# basic imports\n",
    "from pathlib import Path\n",
    "import os\n",
    "import math\n",
    "from datetime import datetime\n",
    "import random\n",
    "import multiprocessing\n",
    "import pickle"
   ]
  },
  {
   "cell_type": "code",
   "execution_count": 3,
   "id": "12d2654b-3bc6-49b5-ade8-cc82112b60e5",
   "metadata": {
    "colab": {
     "base_uri": "https://localhost:8080/"
    },
    "id": "12d2654b-3bc6-49b5-ade8-cc82112b60e5",
    "outputId": "5cfd01f9-0d81-4b22-8a8a-9c0664deda13"
   },
   "outputs": [],
   "source": [
    "%matplotlib inline\n",
    "%config Completer.use_jedi = False\n",
    "os.environ['WANDB_NOTEBOOK_NAME'] = f\"sweep_catboost_{datetime.now().strftime('%Y%m%d')}.ipynb\""
   ]
  },
  {
   "cell_type": "code",
   "execution_count": 4,
   "id": "416d6118-e543-4df4-9219-2d4a63743c3a",
   "metadata": {
    "colab": {
     "base_uri": "https://localhost:8080/"
    },
    "id": "416d6118-e543-4df4-9219-2d4a63743c3a",
    "outputId": "a4e091f0-e2be-46e8-d4da-6d6a0a7a11a6",
    "tags": []
   },
   "outputs": [],
   "source": [
    "# handle Google Colab-specific library installation/updating\n",
    "if colab:\n",
    "    # much of the below inspired by or cribbed from the May 2021 Kaggle Tabular Playground winner, at \n",
    "    # https://colab.research.google.com/gist/academicsuspect/0aac7bd6e506f5f70295bfc9a3dc2250/tabular-may-baseline.ipynb?authuser=1#scrollTo=LJoVKJb5wN0L\n",
    "    \n",
    "    # Kaggle API for downloading the datasets\n",
    "    # !pip install --upgrade -q kaggle\n",
    "\n",
    "    # weights and biases\n",
    "    !pip install -qqqU wandb\n",
    "    \n",
    "    # Optuna for parameter search\n",
    "    !pip install -q optuna\n",
    "\n",
    "    # !pip install --upgrade xgboost\n",
    "\n",
    "    # upgrade sklearn\n",
    "    !pip install --upgrade scikit-learn\n",
    "\n",
    "    # !pip install category_encoders\n",
    "    !pip install catboost\n",
    "\n",
    "    # lighgbm gpu compatible\n",
    "    # !git clone --recursive https://github.com/Microsoft/LightGBM\n",
    "    # ! cd LightGBM && rm -rf build && mkdir build && cd build && cmake -DUSE_GPU=1 ../../LightGBM && make -j4 && cd ../python-package && python3 setup.py install --precompile --gpu;\n",
    "    \n",
    "    # # this part is from https://github.com/rapidsai/gputreeshap/issues/24\n",
    "    # !pip install cmake --upgrade\n",
    "    # # !pip install sklearn --upgrade\n",
    "    # !git clone --recursive https://github.com/dmlc/xgboost\n",
    "    # %cd /content/xgboost\n",
    "    # !mkdir build\n",
    "    # %cd build\n",
    "    # !cmake .. -DUSE_CUDA=ON\n",
    "    # !make -j4\n",
    "    # %cd /content/xgboost/python-package\n",
    "    # !python setup.py install --use-cuda --use-nccl\n",
    "    # !/opt/bin/nvidia-smi\n",
    "    # !pip install shap\n",
    "    "
   ]
  },
  {
   "cell_type": "markdown",
   "id": "d40df194-4474-4bcf-ac5a-98efe24b91fd",
   "metadata": {
    "id": "d40df194-4474-4bcf-ac5a-98efe24b91fd"
   },
   "source": [
    "Now, non-stdlib imports"
   ]
  },
  {
   "cell_type": "code",
   "execution_count": 5,
   "id": "a01e85f7-d602-4dde-bef9-611683cd74c4",
   "metadata": {
    "id": "a01e85f7-d602-4dde-bef9-611683cd74c4"
   },
   "outputs": [],
   "source": [
    "import pandas as pd\n",
    "import numpy as np\n",
    "import matplotlib.pyplot as plt\n",
    "from tqdm.notebook import tqdm\n",
    "\n",
    "# general ML tooling\n",
    "from sklearn.model_selection import train_test_split, StratifiedKFold, KFold\n",
    "from sklearn.metrics import log_loss, roc_auc_score\n",
    "import wandb\n",
    "from optuna.integration.wandb import WeightsAndBiasesCallback\n",
    "# from wandb.xgboost import wandb_callback\n",
    "# from wandb.lightgbm import wandb_callback\n",
    "# from sklearn.impute import KNNImputer, StandardImputer\n",
    "# import timm\n",
    "\n",
    "import seaborn as sns\n",
    "\n",
    "from catboost import CatBoostClassifier\n",
    "# from xgboost import XGBClassifier\n",
    "# from lightgbm import LGBMClassifier\n",
    "# from sklearn.ensemble import RandomForestRegressor\n",
    "from sklearn.preprocessing import MaxAbsScaler, StandardScaler, MinMaxScaler, RobustScaler, PolynomialFeatures\n",
    "# from sklearn.feature_selection import SelectKBest, f_regression\n",
    "from joblib import dump, load\n",
    "# feature engineering tools\n",
    "# from sklearn.feature_selection import mutual_info_regression\n",
    "# import featuretools as ft\n",
    "\n",
    "\n",
    "from optuna.samplers import TPESampler\n",
    "import optuna\n",
    "import catboost\n",
    "from sklearn.utils import resample\n",
    "import sklearn.metrics"
   ]
  },
  {
   "cell_type": "markdown",
   "id": "5f6166c2-ca44-4b7c-a4dc-3db47c2624fe",
   "metadata": {
    "id": "5f6166c2-ca44-4b7c-a4dc-3db47c2624fe"
   },
   "source": [
    "Now, datapath setup"
   ]
  },
  {
   "cell_type": "code",
   "execution_count": 6,
   "id": "3c18a787-2193-43cb-87ee-51c6ae7b6351",
   "metadata": {
    "id": "3c18a787-2193-43cb-87ee-51c6ae7b6351"
   },
   "outputs": [],
   "source": [
    "# # This is the code for reading the train.csv and converting it to a .feather file\n",
    "# df = pd.read_csv(datapath/'train.csv', index_col='id', low_memory=False)\n",
    "# df.index.name = None\n",
    "# df.to_feather(path='./dataset_df.feather')"
   ]
  },
  {
   "cell_type": "code",
   "execution_count": 7,
   "id": "0a41cd7e-accb-41c4-ad8b-0eaa3e2b0ad5",
   "metadata": {
    "colab": {
     "base_uri": "https://localhost:8080/"
    },
    "id": "0a41cd7e-accb-41c4-ad8b-0eaa3e2b0ad5",
    "outputId": "c8b388a4-0c17-4ba8-e83f-7e36280fc7e3"
   },
   "outputs": [],
   "source": [
    "if colab:\n",
    "    # mount Google Drive\n",
    "    from google.colab import drive\n",
    "    drive.mount('/content/drive')\n",
    "    \n",
    "    # handling datapath\n",
    "    datapath = Path('/content/drive/MyDrive/kaggle/tabular_playgrounds/sep2021/')\n",
    "    \n",
    "else:\n",
    "    # if on local machine\n",
    "    datapath = Path('/media/sf/easystore/kaggle_data/tabular_playgrounds/sep2021/')    \n",
    "    \n"
   ]
  },
  {
   "cell_type": "code",
   "execution_count": 8,
   "id": "d1c652e6-5946-46aa-a13e-4c0ebe8a0e4f",
   "metadata": {
    "id": "d1c652e6-5946-46aa-a13e-4c0ebe8a0e4f"
   },
   "outputs": [],
   "source": [
    "\n",
    "# n_trials = int(1000)\n",
    "SEED = 42"
   ]
  },
  {
   "cell_type": "code",
   "execution_count": 9,
   "id": "fbec2e77-2081-4815-ac6d-39f2a2616386",
   "metadata": {
    "id": "fbec2e77-2081-4815-ac6d-39f2a2616386"
   },
   "outputs": [],
   "source": [
    "# Function to seed everything\n",
    "def seed_everything(seed):\n",
    "    random.seed(seed)\n",
    "    np.random.seed(seed)\n",
    "    os.environ['PYTHONHASHSEED'] = str(seed)\n",
    "seed_everything(SEED)"
   ]
  },
  {
   "cell_type": "markdown",
   "id": "2f6e47b3-43bd-4d35-b463-9d76100c6ed5",
   "metadata": {
    "id": "2f6e47b3-43bd-4d35-b463-9d76100c6ed5"
   },
   "source": [
    "## Ex-Model Config"
   ]
  },
  {
   "cell_type": "code",
   "execution_count": 10,
   "id": "fb288275-a858-4806-9dc0-0b316c334536",
   "metadata": {
    "id": "fb288275-a858-4806-9dc0-0b316c334536"
   },
   "outputs": [],
   "source": [
    "# meta-config for preprocessing and cross-validation, but NOT for model parameters\n",
    "# in the sweep version, this includes both ex-model parameters and defaults for model parameters\n",
    "exmodel_config = {\n",
    "    # model config\n",
    "    \"library\": 'catboost',\n",
    "#     \"model\": XGBClassifier,\n",
    "#     \"n_estimators\": 100, \n",
    "#     \"max_depth\": 3,\n",
    "#     \"learning_rate\": 0.1,\n",
    "#     \"test_size\": 0.2,\n",
    "#     \"reg_lambda\": None, \n",
    "    \"scaler\": \"sklearn.preprocessing.StandardScaler()\", # TODO: experiment with others (but imputation may be slow)\n",
    "    \"scale_b4_impute\": False,\n",
    "    \"imputer\": \"sklearn.impute.SimpleImputer(strategy='median', add_indicator=True)\",\n",
    "    \"knn_imputer_n_neighbors\": None, # None if a different imputer is used\n",
    "#     \"feature_selector\": SelectKBest,\n",
    "#     \"k_best\": 80,\n",
    "#     \"feature_selection_scoring\": f_regression,\n",
    "    'random_state': SEED,\n",
    "    'optuna': True,\n",
    "    'optuna_trials': 100,\n",
    "#     'subsample': 1,\n",
    "#     'cross_val_strategy': None, # None for holdout, or the relevant sklearn class\n",
    "#     'kfolds': 1, # if 1, that means just doing holdout\n",
    "#     'test_size': 0.2,\n",
    "    # these are XGBoost default (my choice) params \n",
    "#     \"tree_method\": \"auto\", # set to 'gpu_hist' to try GPU if available\n",
    "#     \"booster\": 'gbtree', # dart may be marginally better, but will opt for this quicker approach as a default\n",
    "#     \"n_estimators\": 200, \n",
    "#     \"max_depth\": 3,\n",
    "#     \"learning_rate\": 0.1,\n",
    "#     \"n_jobs\": -1,\n",
    "#     \"verbosity\": 1,\n",
    "#     \"subsample\": 1,\n",
    "#     'features_created': False,\n",
    "#     'feature_creator': None,\n",
    "}\n",
    "\n",
    "wandb_kwargs = {\n",
    "    # wandb config\n",
    "    'name': f\"{os.environ['WANDB_NOTEBOOK_NAME'][:-6]}_{datetime.now().strftime('%H%M%S')}\", # just removes the .ipynb extension, leaving the notebook filename's stem\n",
    "    'project': '202109_Kaggle_tabular_playground',\n",
    "    'tags': ['sweep'],\n",
    "    'notes': \"Sweep for CatBoost using Optuna\",\n",
    "    'config': exmodel_config,\n",
    "}"
   ]
  },
  {
   "cell_type": "markdown",
   "id": "a52d9012-34f1-435a-ba16-4416e0d4a286",
   "metadata": {
    "id": "a52d9012-34f1-435a-ba16-4416e0d4a286"
   },
   "source": [
    "## Data Setup"
   ]
  },
  {
   "cell_type": "markdown",
   "id": "c912a62f-970a-48b4-b428-d886f2612fc2",
   "metadata": {
    "id": "c912a62f-970a-48b4-b428-d886f2612fc2"
   },
   "source": [
    "**TODO** Write some conditional logic here to automate it -- possibly as part of a sklearn.*pipeline"
   ]
  },
  {
   "cell_type": "code",
   "execution_count": 11,
   "id": "7f6625d6-7561-48a2-acb0-6efb3c371005",
   "metadata": {
    "id": "7f6625d6-7561-48a2-acb0-6efb3c371005"
   },
   "outputs": [],
   "source": [
    "X_source = 'X_NaNcounts_SummaryStats_imputed-Median-wIndicators-StandardScaled.feather'\n",
    "X_train = pd.read_feather(datapath/X_source) \n",
    "y_train = load(datapath/'y.joblib')    \n",
    "# X.index.name = 'id'\n",
    "# y.index.name = 'id'\n",
    "X = np.array(X_train)[:50000]\n",
    "y = np.array(y_train)[:50000]\n",
    "\n",
    "del X_train, y_train"
   ]
  },
  {
   "cell_type": "code",
   "execution_count": 12,
   "id": "8330d84d-3c72-4cca-b95a-739712014dd3",
   "metadata": {
    "id": "8330d84d-3c72-4cca-b95a-739712014dd3"
   },
   "outputs": [],
   "source": [
    "exmodel_config['feature_count'] = X.shape[1]\n",
    "exmodel_config['feature_generator'] = \"Summary statistics\"\n",
    "exmodel_config['instance_count'] = X.shape[0]\n",
    "exmodel_config['X_source'] = X_source"
   ]
  },
  {
   "cell_type": "markdown",
   "id": "431d37db-558d-474d-9eca-ce2d38b7636f",
   "metadata": {
    "id": "431d37db-558d-474d-9eca-ce2d38b7636f"
   },
   "source": [
    "# Experiment setup"
   ]
  },
  {
   "cell_type": "code",
   "execution_count": 13,
   "id": "69ff4abf-560b-450e-a7a5-040878b66565",
   "metadata": {
    "id": "69ff4abf-560b-450e-a7a5-040878b66565"
   },
   "outputs": [],
   "source": [
    "# wandb_kwargs = {\n",
    "#     # wandb config:\n",
    "#     'name': f\"{os.environ['WANDB_NOTEBOOK_NAME'][:-6]}_{datetime.now().strftime('%H%M%S')}\", # just removes the .ipynb extension, leaving the notebook filename's stem\n",
    "#     'project': '202109_Kaggle_tabular_playground',\n",
    "#     'tags': ['sweep'],\n",
    "#     'notes': \"Sweep for CatBoost using Optuna\",\n",
    "#     'config': exmodel_config,\n",
    "# }"
   ]
  },
  {
   "cell_type": "markdown",
   "id": "PYhQgC47h1hq",
   "metadata": {
    "id": "PYhQgC47h1hq"
   },
   "source": [
    "A basis for the experimental ranges, taken from [here](https://www.kaggle.com/vishwas21/tps-sep-21-3-level-custom-stacking):\n",
    "\n",
    "```python\n",
    "catb_params = {\n",
    "    'iterations': 15585, \n",
    "    'objective': 'CrossEntropy', \n",
    "    'bootstrap_type': 'Bernoulli', \n",
    "    'od_wait': 1144, \n",
    "    'learning_rate': 0.023575206684596582, \n",
    "    'reg_lambda': 36.30433203563295, \n",
    "    'random_strength': 43.75597655616195, \n",
    "    'depth': 7, \n",
    "    'min_data_in_leaf': 11, \n",
    "    'leaf_estimation_iterations': 1, \n",
    "    'subsample': 0.8227911142845009,\n",
    "    'task_type' : 'GPU',\n",
    "    'devices' : '0',\n",
    "    'verbose' : 0\n",
    "}\n",
    "```"
   ]
  },
  {
   "cell_type": "code",
   "execution_count": 14,
   "id": "1d93b6f2-2d65-48a9-9862-510bd7d2b75b",
   "metadata": {
    "id": "1d93b6f2-2d65-48a9-9862-510bd7d2b75b"
   },
   "outputs": [],
   "source": [
    "# originally from https://www.kaggle.com/satorushibata/optimize-catboost-hyperparameter-with-optuna-gpu\n",
    "def objective(trial):\n",
    "    # split the (original Kaggle training) data into partitions\n",
    "    # if study.best_trial:\n",
    "    #     print(\"Dumping best params, which are:\")\n",
    "    #     print(str(study.best_trial.params))\n",
    "    #     dump(study.best_trial.params, filename=datapath/'optuna_catboost_best_20210920.joblib')\n",
    "       \n",
    "    # else:\n",
    "    #     print(\"No best study yet\")\n",
    "    X_train, X_valid, y_train, y_valid = train_test_split(X, y, test_size=0.33, random_state=int(SEED), shuffle=True)\n",
    "    # create wrappers for the training and validation partitions\n",
    "    train_pool = catboost.Pool(X_train, y_train)\n",
    "    valid_pool = catboost.Pool(X_valid, y_valid)\n",
    "    \n",
    "    # experimental parameters\n",
    "    params = {\n",
    "        'iterations' : trial.suggest_int('iterations', 2000, 30000),                         \n",
    "        'depth' : trial.suggest_int('depth', 3, 10),                                       \n",
    "        'learning_rate' : trial.suggest_loguniform('learning_rate', 0.001, 0.5),               \n",
    "        'random_strength' :trial.suggest_int('random_strength', 0, 100), \n",
    "#         'objective': trial.suggest_categorical('objective', ['Logloss', 'CrossEntropy']),\n",
    "#         'bootstrap_type': trial.suggest_categorical('bootstrap_type', ['MVC', 'Bernoulli']),#, 'Poisson']),\n",
    "        'od_wait': trial.suggest_int('od_wait', 20, 2000),\n",
    "        'reg_lambda': trial.suggest_uniform('reg_lambda', 2, 70), # aka l2_leaf_reg\n",
    "        'border_count': trial.suggest_int('border_count', 50, 275),\n",
    "        'min_child_samples': trial.suggest_int('min_child_samples', 1, 20), # aka min_data_in_leaf\n",
    "        'leaf_estimation_iterations': trial.suggest_int('leaf_estimation_iterations', 1, 5),\n",
    "        # 'bagging_temperature' :trial.suggest_loguniform('bagging_temperature', 0.01, 100.00),\n",
    "        'subsample': trial.suggest_uniform('subsample', 0.5, 1),\n",
    "#         'learning_rate' :trial.suggest_loguniform('learning_rate', 1e-3, 1e-1),\n",
    "        # 'od_type': trial.suggest_categorical('od_type', ['IncToDec', 'Iter']),\n",
    "#         'max_leaves': trial.suggest_int('max_leaves', 32, 128)\n",
    "    }\n",
    "    device = \"GPU\" if gpu_available else \"CPU\"\n",
    "    # instantiate the model, with some parameters locked in, and experimnental ones passed via splat \n",
    "    model = CatBoostClassifier(\n",
    "        # loss_function=\"Logloss\",\n",
    "        eval_metric=\"AUC\",\n",
    "        task_type=device,\n",
    "        objective='Logloss',\n",
    "#         l2_leaf_reg=50,\n",
    "        random_seed=SEED,\n",
    "        verbose=False,\n",
    "#         border_count=64,\n",
    "        **params\n",
    "    )        \n",
    "#     wandb.init(wandb_kwargs)\n",
    "    # fit the model on the training set -- note the use of the catboost.Pool instance\n",
    "    model.fit(train_pool)\n",
    "    # generate predictions\n",
    "    preds = model.predict_proba(valid_pool)[:,1]\n",
    "    # rounds to the nearest integer, and the nearest even in case of _.5s\n",
    "    # pred_labels = np.rint(preds)\n",
    "    # calls sklearn.utils.resample... not entirely sure why\n",
    "    # y_pred_boot = resample(pred_labels, n_samples = len(train_y))\n",
    "    # Evaluation\n",
    "    # ROC_AUC_Score = roc_auc_score(train_y, y_pred_boot)\n",
    "    valid_auc = roc_auc_score(y_valid, preds)\n",
    "    \n",
    "    print('ROC AUC Score of CatBoost =', valid_auc)\n",
    "    wandb.log({'valid_AUC': valid_auc,\n",
    "            #    'catboost_params': str(model.get_all_params())\n",
    "              })\n",
    "#     wandb.finish()\n",
    "    return valid_auc"
   ]
  },
  {
   "cell_type": "code",
   "execution_count": 15,
   "id": "0e85f589-1507-4b75-80d9-8b062970102f",
   "metadata": {
    "colab": {
     "base_uri": "https://localhost:8080/",
     "height": 231
    },
    "id": "0e85f589-1507-4b75-80d9-8b062970102f",
    "outputId": "4e88b8c2-11ec-493d-8fdb-f97cd2f0243a",
    "tags": []
   },
   "outputs": [
    {
     "name": "stderr",
     "output_type": "stream",
     "text": [
      "<ipython-input-15-69ea9289a2cf>:1: ExperimentalWarning: WeightsAndBiasesCallback is experimental (supported from v2.9.0). The interface can change in the future.\n",
      "  wandbc = WeightsAndBiasesCallback(wandb_kwargs=wandb_kwargs)\n",
      "\u001b[34m\u001b[1mwandb\u001b[0m: Currently logged in as: \u001b[33mhushifang\u001b[0m (use `wandb login --relogin` to force relogin)\n"
     ]
    },
    {
     "data": {
      "text/html": [
       "\n",
       "                Tracking run with wandb version 0.12.2<br/>\n",
       "                Syncing run <strong style=\"color:#cdcd00\">sweep_catboost_20210924_223104</strong> to <a href=\"https://wandb.ai\" target=\"_blank\">Weights & Biases</a> <a href=\"https://docs.wandb.com/integrations/jupyter.html\" target=\"_blank\">(Documentation)</a>.<br/>\n",
       "                Project page: <a href=\"https://wandb.ai/hushifang/202109_Kaggle_tabular_playground\" target=\"_blank\">https://wandb.ai/hushifang/202109_Kaggle_tabular_playground</a><br/>\n",
       "                Run page: <a href=\"https://wandb.ai/hushifang/202109_Kaggle_tabular_playground/runs/272li27b\" target=\"_blank\">https://wandb.ai/hushifang/202109_Kaggle_tabular_playground/runs/272li27b</a><br/>\n",
       "                Run data is saved locally in <code>/home/sf/Dropbox/code_cloud/python_code/kaggle/tabular_playgrounds/sep2021/wandb/run-20210924_223107-272li27b</code><br/><br/>\n",
       "            "
      ],
      "text/plain": [
       "<IPython.core.display.HTML object>"
      ]
     },
     "metadata": {},
     "output_type": "display_data"
    }
   ],
   "source": [
    "wandbc = WeightsAndBiasesCallback(wandb_kwargs=wandb_kwargs)"
   ]
  },
  {
   "cell_type": "code",
   "execution_count": 16,
   "id": "ab6749b1-dd7d-4789-b0e2-8491d78fe89b",
   "metadata": {
    "colab": {
     "base_uri": "https://localhost:8080/"
    },
    "id": "ab6749b1-dd7d-4789-b0e2-8491d78fe89b",
    "outputId": "05b7ce12-dc98-4d38-fd83-a0578ec37531",
    "tags": []
   },
   "outputs": [
    {
     "name": "stderr",
     "output_type": "stream",
     "text": [
      "\u001b[32m[I 2021-09-24 22:31:13,738]\u001b[0m A new study created in memory with name: CatBoost_20210924\u001b[0m\n"
     ]
    }
   ],
   "source": [
    "study = optuna.create_study(direction = \"maximize\", sampler = TPESampler(seed=int(SEED)), study_name='CatBoost_20210924')\n",
    "# setting n_jobs=1 bc wandb apparently requires this\n"
   ]
  },
  {
   "cell_type": "code",
   "execution_count": 17,
   "id": "uXQWM6Otmxma",
   "metadata": {
    "colab": {
     "base_uri": "https://localhost:8080/"
    },
    "id": "uXQWM6Otmxma",
    "outputId": "d4b74ae6-6552-4b2f-a4e0-d9999874ab06"
   },
   "outputs": [
    {
     "name": "stderr",
     "output_type": "stream",
     "text": [
      "\u001b[32m[I 2021-09-24 22:39:23,592]\u001b[0m Trial 0 finished with value: 0.796746455020556 and parameters: {'iterations': 12487, 'depth': 10, 'learning_rate': 0.09454306819536169, 'random_strength': 60, 'od_wait': 329, 'reg_lambda': 12.60762738286178, 'border_count': 63, 'min_child_samples': 18, 'leaf_estimation_iterations': 4, 'subsample': 0.8540362888980227}. Best is trial 0 with value: 0.796746455020556.\u001b[0m\n",
      "\u001b[34m\u001b[1mwandb\u001b[0m: \u001b[33mWARNING\u001b[0m Step must only increase in log calls.  Step 0 < 1; dropping {'iterations': 12487, 'depth': 10, 'learning_rate': 0.09454306819536169, 'random_strength': 60, 'od_wait': 329, 'reg_lambda': 12.60762738286178, 'border_count': 63, 'min_child_samples': 18, 'leaf_estimation_iterations': 4, 'subsample': 0.8540362888980227, 'value': 0.796746455020556}.\n"
     ]
    },
    {
     "name": "stdout",
     "output_type": "stream",
     "text": [
      "ROC AUC Score of CatBoost = 0.796746455020556\n"
     ]
    },
    {
     "name": "stderr",
     "output_type": "stream",
     "text": [
      "\u001b[32m[I 2021-09-24 22:41:28,077]\u001b[0m Trial 1 finished with value: 0.7931660095091524 and parameters: {'iterations': 2576, 'depth': 10, 'learning_rate': 0.1764971584817571, 'random_strength': 21, 'od_wait': 380, 'reg_lambda': 14.471506670033499, 'border_count': 118, 'min_child_samples': 11, 'leaf_estimation_iterations': 3, 'subsample': 0.645614570099021}. Best is trial 0 with value: 0.796746455020556.\u001b[0m\n",
      "\u001b[34m\u001b[1mwandb\u001b[0m: \u001b[33mWARNING\u001b[0m Step must only increase in log calls.  Step 1 < 2; dropping {'iterations': 2576, 'depth': 10, 'learning_rate': 0.1764971584817571, 'random_strength': 21, 'od_wait': 380, 'reg_lambda': 14.471506670033499, 'border_count': 118, 'min_child_samples': 11, 'leaf_estimation_iterations': 3, 'subsample': 0.645614570099021, 'value': 0.7931660095091524}.\n"
     ]
    },
    {
     "name": "stdout",
     "output_type": "stream",
     "text": [
      "ROC AUC Score of CatBoost = 0.7931660095091524\n"
     ]
    },
    {
     "name": "stderr",
     "output_type": "stream",
     "text": [
      "\u001b[32m[I 2021-09-24 22:42:50,426]\u001b[0m Trial 2 finished with value: 0.8011908546666167 and parameters: {'iterations': 19132, 'depth': 4, 'learning_rate': 0.00614454378558747, 'random_strength': 37, 'od_wait': 923, 'reg_lambda': 55.391965374724926, 'border_count': 95, 'min_child_samples': 11, 'leaf_estimation_iterations': 3, 'subsample': 0.5232252063599989}. Best is trial 2 with value: 0.8011908546666167.\u001b[0m\n",
      "\u001b[34m\u001b[1mwandb\u001b[0m: \u001b[33mWARNING\u001b[0m Step must only increase in log calls.  Step 2 < 3; dropping {'iterations': 19132, 'depth': 4, 'learning_rate': 0.00614454378558747, 'random_strength': 37, 'od_wait': 923, 'reg_lambda': 55.391965374724926, 'border_count': 95, 'min_child_samples': 11, 'leaf_estimation_iterations': 3, 'subsample': 0.5232252063599989, 'value': 0.8011908546666167}.\n"
     ]
    },
    {
     "name": "stdout",
     "output_type": "stream",
     "text": [
      "ROC AUC Score of CatBoost = 0.8011908546666167\n"
     ]
    },
    {
     "name": "stderr",
     "output_type": "stream",
     "text": [
      "\u001b[32m[I 2021-09-24 22:44:25,708]\u001b[0m Trial 3 finished with value: 0.8009918920492696 and parameters: {'iterations': 19011, 'depth': 4, 'learning_rate': 0.0014982086432155466, 'random_strength': 95, 'od_wait': 1932, 'reg_lambda': 56.97101967191936, 'border_count': 118, 'min_child_samples': 2, 'leaf_estimation_iterations': 4, 'subsample': 0.7200762468698007}. Best is trial 2 with value: 0.8011908546666167.\u001b[0m\n",
      "\u001b[34m\u001b[1mwandb\u001b[0m: \u001b[33mWARNING\u001b[0m Step must only increase in log calls.  Step 3 < 4; dropping {'iterations': 19011, 'depth': 4, 'learning_rate': 0.0014982086432155466, 'random_strength': 95, 'od_wait': 1932, 'reg_lambda': 56.97101967191936, 'border_count': 118, 'min_child_samples': 2, 'leaf_estimation_iterations': 4, 'subsample': 0.7200762468698007, 'value': 0.8009918920492696}.\n"
     ]
    },
    {
     "name": "stdout",
     "output_type": "stream",
     "text": [
      "ROC AUC Score of CatBoost = 0.8009918920492696\n"
     ]
    },
    {
     "name": "stderr",
     "output_type": "stream",
     "text": [
      "\u001b[32m[I 2021-09-24 22:45:08,806]\u001b[0m Trial 4 finished with value: 0.7936064279045709 and parameters: {'iterations': 5417, 'depth': 6, 'learning_rate': 0.0012382649697023553, 'random_strength': 91, 'od_wait': 532, 'reg_lambda': 47.05151533607077, 'border_count': 120, 'min_child_samples': 11, 'leaf_estimation_iterations': 3, 'subsample': 0.5924272277627636}. Best is trial 2 with value: 0.8011908546666167.\u001b[0m\n",
      "\u001b[34m\u001b[1mwandb\u001b[0m: \u001b[33mWARNING\u001b[0m Step must only increase in log calls.  Step 4 < 5; dropping {'iterations': 5417, 'depth': 6, 'learning_rate': 0.0012382649697023553, 'random_strength': 91, 'od_wait': 532, 'reg_lambda': 47.05151533607077, 'border_count': 120, 'min_child_samples': 11, 'leaf_estimation_iterations': 3, 'subsample': 0.5924272277627636, 'value': 0.7936064279045709}.\n"
     ]
    },
    {
     "name": "stdout",
     "output_type": "stream",
     "text": [
      "ROC AUC Score of CatBoost = 0.7936064279045709\n"
     ]
    },
    {
     "name": "stderr",
     "output_type": "stream",
     "text": [
      "\u001b[32m[I 2021-09-24 22:57:46,611]\u001b[0m Trial 5 finished with value: 0.7926002862469782 and parameters: {'iterations': 29149, 'depth': 9, 'learning_rate': 0.34330447331061875, 'random_strength': 90, 'od_wait': 1204, 'reg_lambda': 64.68744798157195, 'border_count': 69, 'min_child_samples': 4, 'leaf_estimation_iterations': 1, 'subsample': 0.6626651653816322}. Best is trial 2 with value: 0.8011908546666167.\u001b[0m\n",
      "\u001b[34m\u001b[1mwandb\u001b[0m: \u001b[33mWARNING\u001b[0m Step must only increase in log calls.  Step 5 < 6; dropping {'iterations': 29149, 'depth': 9, 'learning_rate': 0.34330447331061875, 'random_strength': 90, 'od_wait': 1204, 'reg_lambda': 64.68744798157195, 'border_count': 69, 'min_child_samples': 4, 'leaf_estimation_iterations': 1, 'subsample': 0.6626651653816322, 'value': 0.7926002862469782}.\n"
     ]
    },
    {
     "name": "stdout",
     "output_type": "stream",
     "text": [
      "ROC AUC Score of CatBoost = 0.7926002862469782\n"
     ]
    },
    {
     "name": "stderr",
     "output_type": "stream",
     "text": [
      "\u001b[32m[I 2021-09-24 22:58:55,384]\u001b[0m Trial 6 finished with value: 0.789489557665739 and parameters: {'iterations': 12883, 'depth': 5, 'learning_rate': 0.17247957710046016, 'random_strength': 36, 'od_wait': 576, 'reg_lambda': 38.90333365476089, 'border_count': 81, 'min_child_samples': 17, 'leaf_estimation_iterations': 1, 'subsample': 0.9934434683002586}. Best is trial 2 with value: 0.8011908546666167.\u001b[0m\n",
      "\u001b[34m\u001b[1mwandb\u001b[0m: \u001b[33mWARNING\u001b[0m Step must only increase in log calls.  Step 6 < 7; dropping {'iterations': 12883, 'depth': 5, 'learning_rate': 0.17247957710046016, 'random_strength': 36, 'od_wait': 576, 'reg_lambda': 38.90333365476089, 'border_count': 81, 'min_child_samples': 17, 'leaf_estimation_iterations': 1, 'subsample': 0.9934434683002586, 'value': 0.789489557665739}.\n"
     ]
    },
    {
     "name": "stdout",
     "output_type": "stream",
     "text": [
      "ROC AUC Score of CatBoost = 0.789489557665739\n"
     ]
    },
    {
     "name": "stderr",
     "output_type": "stream",
     "text": [
      "\u001b[32m[I 2021-09-24 23:00:46,080]\u001b[0m Trial 7 finished with value: 0.8004372181843515 and parameters: {'iterations': 23623, 'depth': 4, 'learning_rate': 0.001034913443546759, 'random_strength': 82, 'od_wait': 1420, 'reg_lambda': 51.572487426787134, 'border_count': 224, 'min_child_samples': 2, 'leaf_estimation_iterations': 2, 'subsample': 0.5579345297625649}. Best is trial 2 with value: 0.8011908546666167.\u001b[0m\n",
      "\u001b[34m\u001b[1mwandb\u001b[0m: \u001b[33mWARNING\u001b[0m Step must only increase in log calls.  Step 7 < 8; dropping {'iterations': 23623, 'depth': 4, 'learning_rate': 0.001034913443546759, 'random_strength': 82, 'od_wait': 1420, 'reg_lambda': 51.572487426787134, 'border_count': 224, 'min_child_samples': 2, 'leaf_estimation_iterations': 2, 'subsample': 0.5579345297625649, 'value': 0.8004372181843515}.\n"
     ]
    },
    {
     "name": "stdout",
     "output_type": "stream",
     "text": [
      "ROC AUC Score of CatBoost = 0.8004372181843515\n"
     ]
    },
    {
     "name": "stderr",
     "output_type": "stream",
     "text": [
      "\u001b[32m[I 2021-09-24 23:08:11,893]\u001b[0m Trial 8 finished with value: 0.7974969177397794 and parameters: {'iterations': 26167, 'depth': 7, 'learning_rate': 0.007817787178411377, 'random_strength': 6, 'od_wait': 636, 'reg_lambda': 24.1124658978188, 'border_count': 214, 'min_child_samples': 13, 'leaf_estimation_iterations': 5, 'subsample': 0.7361074625809747}. Best is trial 2 with value: 0.8011908546666167.\u001b[0m\n",
      "\u001b[34m\u001b[1mwandb\u001b[0m: \u001b[33mWARNING\u001b[0m Step must only increase in log calls.  Step 8 < 9; dropping {'iterations': 26167, 'depth': 7, 'learning_rate': 0.007817787178411377, 'random_strength': 6, 'od_wait': 636, 'reg_lambda': 24.1124658978188, 'border_count': 214, 'min_child_samples': 13, 'leaf_estimation_iterations': 5, 'subsample': 0.7361074625809747, 'value': 0.7974969177397794}.\n"
     ]
    },
    {
     "name": "stdout",
     "output_type": "stream",
     "text": [
      "ROC AUC Score of CatBoost = 0.7974969177397794\n"
     ]
    },
    {
     "name": "stderr",
     "output_type": "stream",
     "text": [
      "\u001b[32m[I 2021-09-24 23:10:11,835]\u001b[0m Trial 9 finished with value: 0.7960635082327046 and parameters: {'iterations': 5348, 'depth': 8, 'learning_rate': 0.11306704080979882, 'random_strength': 56, 'od_wait': 1547, 'reg_lambda': 35.57810055277857, 'border_count': 168, 'min_child_samples': 9, 'leaf_estimation_iterations': 1, 'subsample': 0.5539457134966522}. Best is trial 2 with value: 0.8011908546666167.\u001b[0m\n",
      "\u001b[34m\u001b[1mwandb\u001b[0m: \u001b[33mWARNING\u001b[0m Step must only increase in log calls.  Step 9 < 10; dropping {'iterations': 5348, 'depth': 8, 'learning_rate': 0.11306704080979882, 'random_strength': 56, 'od_wait': 1547, 'reg_lambda': 35.57810055277857, 'border_count': 168, 'min_child_samples': 9, 'leaf_estimation_iterations': 1, 'subsample': 0.5539457134966522, 'value': 0.7960635082327046}.\n"
     ]
    },
    {
     "name": "stdout",
     "output_type": "stream",
     "text": [
      "ROC AUC Score of CatBoost = 0.7960635082327046\n"
     ]
    },
    {
     "name": "stderr",
     "output_type": "stream",
     "text": [
      "\u001b[32m[I 2021-09-24 23:11:38,086]\u001b[0m Trial 10 finished with value: 0.7990221312815035 and parameters: {'iterations': 18488, 'depth': 3, 'learning_rate': 0.01447090063101403, 'random_strength': 35, 'od_wait': 941, 'reg_lambda': 63.72120607921123, 'border_count': 266, 'min_child_samples': 7, 'leaf_estimation_iterations': 5, 'subsample': 0.5061555847824689}. Best is trial 2 with value: 0.8011908546666167.\u001b[0m\n",
      "\u001b[34m\u001b[1mwandb\u001b[0m: \u001b[33mWARNING\u001b[0m Step must only increase in log calls.  Step 10 < 11; dropping {'iterations': 18488, 'depth': 3, 'learning_rate': 0.01447090063101403, 'random_strength': 35, 'od_wait': 941, 'reg_lambda': 63.72120607921123, 'border_count': 266, 'min_child_samples': 7, 'leaf_estimation_iterations': 5, 'subsample': 0.5061555847824689, 'value': 0.7990221312815035}.\n"
     ]
    },
    {
     "name": "stdout",
     "output_type": "stream",
     "text": [
      "ROC AUC Score of CatBoost = 0.7990221312815035\n"
     ]
    },
    {
     "name": "stderr",
     "output_type": "stream",
     "text": [
      "\u001b[32m[I 2021-09-24 23:13:04,286]\u001b[0m Trial 11 finished with value: 0.8007232682718278 and parameters: {'iterations': 20114, 'depth': 3, 'learning_rate': 0.003394265348321034, 'random_strength': 69, 'od_wait': 1917, 'reg_lambda': 55.08428790698785, 'border_count': 127, 'min_child_samples': 6, 'leaf_estimation_iterations': 4, 'subsample': 0.8229282203516206}. Best is trial 2 with value: 0.8011908546666167.\u001b[0m\n",
      "\u001b[34m\u001b[1mwandb\u001b[0m: \u001b[33mWARNING\u001b[0m Step must only increase in log calls.  Step 11 < 12; dropping {'iterations': 20114, 'depth': 3, 'learning_rate': 0.003394265348321034, 'random_strength': 69, 'od_wait': 1917, 'reg_lambda': 55.08428790698785, 'border_count': 127, 'min_child_samples': 6, 'leaf_estimation_iterations': 4, 'subsample': 0.8229282203516206, 'value': 0.8007232682718278}.\n"
     ]
    },
    {
     "name": "stdout",
     "output_type": "stream",
     "text": [
      "ROC AUC Score of CatBoost = 0.8007232682718278\n"
     ]
    },
    {
     "name": "stderr",
     "output_type": "stream",
     "text": [
      "\u001b[32m[I 2021-09-24 23:14:39,956]\u001b[0m Trial 12 finished with value: 0.8012664960191094 and parameters: {'iterations': 14546, 'depth': 5, 'learning_rate': 0.004430806128944988, 'random_strength': 38, 'od_wait': 1969, 'reg_lambda': 69.29878296793736, 'border_count': 158, 'min_child_samples': 1, 'leaf_estimation_iterations': 4, 'subsample': 0.7291183615717421}. Best is trial 12 with value: 0.8012664960191094.\u001b[0m\n",
      "\u001b[34m\u001b[1mwandb\u001b[0m: \u001b[33mWARNING\u001b[0m Step must only increase in log calls.  Step 12 < 13; dropping {'iterations': 14546, 'depth': 5, 'learning_rate': 0.004430806128944988, 'random_strength': 38, 'od_wait': 1969, 'reg_lambda': 69.29878296793736, 'border_count': 158, 'min_child_samples': 1, 'leaf_estimation_iterations': 4, 'subsample': 0.7291183615717421, 'value': 0.8012664960191094}.\n"
     ]
    },
    {
     "name": "stdout",
     "output_type": "stream",
     "text": [
      "ROC AUC Score of CatBoost = 0.8012664960191094\n"
     ]
    },
    {
     "name": "stderr",
     "output_type": "stream",
     "text": [
      "\u001b[32m[I 2021-09-24 23:16:36,539]\u001b[0m Trial 13 finished with value: 0.7957726093405815 and parameters: {'iterations': 13187, 'depth': 6, 'learning_rate': 0.03750702295563708, 'random_strength': 37, 'od_wait': 953, 'reg_lambda': 69.92725611659199, 'border_count': 169, 'min_child_samples': 14, 'leaf_estimation_iterations': 2, 'subsample': 0.8318096923844268}. Best is trial 12 with value: 0.8012664960191094.\u001b[0m\n",
      "\u001b[34m\u001b[1mwandb\u001b[0m: \u001b[33mWARNING\u001b[0m Step must only increase in log calls.  Step 13 < 14; dropping {'iterations': 13187, 'depth': 6, 'learning_rate': 0.03750702295563708, 'random_strength': 37, 'od_wait': 953, 'reg_lambda': 69.92725611659199, 'border_count': 169, 'min_child_samples': 14, 'leaf_estimation_iterations': 2, 'subsample': 0.8318096923844268, 'value': 0.7957726093405815}.\n"
     ]
    },
    {
     "name": "stdout",
     "output_type": "stream",
     "text": [
      "ROC AUC Score of CatBoost = 0.7957726093405815\n"
     ]
    },
    {
     "name": "stderr",
     "output_type": "stream",
     "text": [
      "\u001b[32m[I 2021-09-24 23:17:45,438]\u001b[0m Trial 14 finished with value: 0.800093158761281 and parameters: {'iterations': 9738, 'depth': 5, 'learning_rate': 0.005441877708574827, 'random_strength': 16, 'od_wait': 1645, 'reg_lambda': 42.462780927205685, 'border_count': 199, 'min_child_samples': 20, 'leaf_estimation_iterations': 3, 'subsample': 0.9350717652849703}. Best is trial 12 with value: 0.8012664960191094.\u001b[0m\n",
      "\u001b[34m\u001b[1mwandb\u001b[0m: \u001b[33mWARNING\u001b[0m Step must only increase in log calls.  Step 14 < 15; dropping {'iterations': 9738, 'depth': 5, 'learning_rate': 0.005441877708574827, 'random_strength': 16, 'od_wait': 1645, 'reg_lambda': 42.462780927205685, 'border_count': 199, 'min_child_samples': 20, 'leaf_estimation_iterations': 3, 'subsample': 0.9350717652849703, 'value': 0.800093158761281}.\n"
     ]
    },
    {
     "name": "stdout",
     "output_type": "stream",
     "text": [
      "ROC AUC Score of CatBoost = 0.800093158761281\n"
     ]
    },
    {
     "name": "stderr",
     "output_type": "stream",
     "text": [
      "\u001b[32m[I 2021-09-24 23:19:26,897]\u001b[0m Trial 15 finished with value: 0.7966805994374416 and parameters: {'iterations': 15948, 'depth': 5, 'learning_rate': 0.023166052283651716, 'random_strength': 48, 'od_wait': 29, 'reg_lambda': 30.357001974777567, 'border_count': 149, 'min_child_samples': 8, 'leaf_estimation_iterations': 4, 'subsample': 0.650479990035253}. Best is trial 12 with value: 0.8012664960191094.\u001b[0m\n",
      "\u001b[34m\u001b[1mwandb\u001b[0m: \u001b[33mWARNING\u001b[0m Step must only increase in log calls.  Step 15 < 16; dropping {'iterations': 15948, 'depth': 5, 'learning_rate': 0.023166052283651716, 'random_strength': 48, 'od_wait': 29, 'reg_lambda': 30.357001974777567, 'border_count': 149, 'min_child_samples': 8, 'leaf_estimation_iterations': 4, 'subsample': 0.650479990035253, 'value': 0.7966805994374416}.\n"
     ]
    },
    {
     "name": "stdout",
     "output_type": "stream",
     "text": [
      "ROC AUC Score of CatBoost = 0.7966805994374416\n"
     ]
    },
    {
     "name": "stderr",
     "output_type": "stream",
     "text": [
      "\u001b[32m[I 2021-09-24 23:21:07,280]\u001b[0m Trial 16 finished with value: 0.8009283433216995 and parameters: {'iterations': 22561, 'depth': 4, 'learning_rate': 0.0030826851351803577, 'random_strength': 25, 'od_wait': 1215, 'reg_lambda': 62.30019522373529, 'border_count': 92, 'min_child_samples': 14, 'leaf_estimation_iterations': 2, 'subsample': 0.8021045833014702}. Best is trial 12 with value: 0.8012664960191094.\u001b[0m\n",
      "\u001b[34m\u001b[1mwandb\u001b[0m: \u001b[33mWARNING\u001b[0m Step must only increase in log calls.  Step 16 < 17; dropping {'iterations': 22561, 'depth': 4, 'learning_rate': 0.0030826851351803577, 'random_strength': 25, 'od_wait': 1215, 'reg_lambda': 62.30019522373529, 'border_count': 92, 'min_child_samples': 14, 'leaf_estimation_iterations': 2, 'subsample': 0.8021045833014702, 'value': 0.8009283433216995}.\n"
     ]
    },
    {
     "name": "stdout",
     "output_type": "stream",
     "text": [
      "ROC AUC Score of CatBoost = 0.8009283433216995\n"
     ]
    },
    {
     "name": "stderr",
     "output_type": "stream",
     "text": [
      "\u001b[32m[I 2021-09-24 23:25:18,527]\u001b[0m Trial 17 finished with value: 0.798372567778979 and parameters: {'iterations': 15630, 'depth': 7, 'learning_rate': 0.010761924992964996, 'random_strength': 43, 'od_wait': 824, 'reg_lambda': 3.009280406188438, 'border_count': 186, 'min_child_samples': 5, 'leaf_estimation_iterations': 5, 'subsample': 0.9078649186547713}. Best is trial 12 with value: 0.8012664960191094.\u001b[0m\n",
      "\u001b[34m\u001b[1mwandb\u001b[0m: \u001b[33mWARNING\u001b[0m Step must only increase in log calls.  Step 17 < 18; dropping {'iterations': 15630, 'depth': 7, 'learning_rate': 0.010761924992964996, 'random_strength': 43, 'od_wait': 824, 'reg_lambda': 3.009280406188438, 'border_count': 186, 'min_child_samples': 5, 'leaf_estimation_iterations': 5, 'subsample': 0.9078649186547713, 'value': 0.798372567778979}.\n"
     ]
    },
    {
     "name": "stdout",
     "output_type": "stream",
     "text": [
      "ROC AUC Score of CatBoost = 0.798372567778979\n"
     ]
    },
    {
     "name": "stderr",
     "output_type": "stream",
     "text": [
      "\u001b[32m[I 2021-09-24 23:25:52,622]\u001b[0m Trial 18 finished with value: 0.7995985806872904 and parameters: {'iterations': 8881, 'depth': 3, 'learning_rate': 0.0029437792541016157, 'random_strength': 69, 'od_wait': 1189, 'reg_lambda': 69.23626136363288, 'border_count': 51, 'min_child_samples': 1, 'leaf_estimation_iterations': 3, 'subsample': 0.701304464175209}. Best is trial 12 with value: 0.8012664960191094.\u001b[0m\n",
      "\u001b[34m\u001b[1mwandb\u001b[0m: \u001b[33mWARNING\u001b[0m Step must only increase in log calls.  Step 18 < 19; dropping {'iterations': 8881, 'depth': 3, 'learning_rate': 0.0029437792541016157, 'random_strength': 69, 'od_wait': 1189, 'reg_lambda': 69.23626136363288, 'border_count': 51, 'min_child_samples': 1, 'leaf_estimation_iterations': 3, 'subsample': 0.701304464175209, 'value': 0.7995985806872904}.\n"
     ]
    },
    {
     "name": "stdout",
     "output_type": "stream",
     "text": [
      "ROC AUC Score of CatBoost = 0.7995985806872904\n"
     ]
    },
    {
     "name": "stderr",
     "output_type": "stream",
     "text": [
      "\u001b[32m[I 2021-09-24 23:27:54,785]\u001b[0m Trial 19 finished with value: 0.795345150477583 and parameters: {'iterations': 21432, 'depth': 5, 'learning_rate': 0.0309507136560741, 'random_strength': 1, 'od_wait': 1761, 'reg_lambda': 48.580735780964254, 'border_count': 98, 'min_child_samples': 9, 'leaf_estimation_iterations': 4, 'subsample': 0.500325122160351}. Best is trial 12 with value: 0.8012664960191094.\u001b[0m\n",
      "\u001b[34m\u001b[1mwandb\u001b[0m: \u001b[33mWARNING\u001b[0m Step must only increase in log calls.  Step 19 < 20; dropping {'iterations': 21432, 'depth': 5, 'learning_rate': 0.0309507136560741, 'random_strength': 1, 'od_wait': 1761, 'reg_lambda': 48.580735780964254, 'border_count': 98, 'min_child_samples': 9, 'leaf_estimation_iterations': 4, 'subsample': 0.500325122160351, 'value': 0.795345150477583}.\n"
     ]
    },
    {
     "name": "stdout",
     "output_type": "stream",
     "text": [
      "ROC AUC Score of CatBoost = 0.795345150477583\n"
     ]
    },
    {
     "name": "stderr",
     "output_type": "stream",
     "text": [
      "\u001b[32m[I 2021-09-24 23:31:12,114]\u001b[0m Trial 20 finished with value: 0.8009824589202291 and parameters: {'iterations': 25244, 'depth': 6, 'learning_rate': 0.005141694205109304, 'random_strength': 25, 'od_wait': 1412, 'reg_lambda': 57.85958636140434, 'border_count': 141, 'min_child_samples': 16, 'leaf_estimation_iterations': 2, 'subsample': 0.6003009199537893}. Best is trial 12 with value: 0.8012664960191094.\u001b[0m\n",
      "\u001b[34m\u001b[1mwandb\u001b[0m: \u001b[33mWARNING\u001b[0m Step must only increase in log calls.  Step 20 < 21; dropping {'iterations': 25244, 'depth': 6, 'learning_rate': 0.005141694205109304, 'random_strength': 25, 'od_wait': 1412, 'reg_lambda': 57.85958636140434, 'border_count': 141, 'min_child_samples': 16, 'leaf_estimation_iterations': 2, 'subsample': 0.6003009199537893, 'value': 0.8009824589202291}.\n"
     ]
    },
    {
     "name": "stdout",
     "output_type": "stream",
     "text": [
      "ROC AUC Score of CatBoost = 0.8009824589202291\n"
     ]
    },
    {
     "name": "stderr",
     "output_type": "stream",
     "text": [
      "\u001b[32m[I 2021-09-24 23:32:43,711]\u001b[0m Trial 21 finished with value: 0.8011377088290164 and parameters: {'iterations': 18309, 'depth': 4, 'learning_rate': 0.0018459847158217185, 'random_strength': 72, 'od_wait': 1962, 'reg_lambda': 57.87419125631784, 'border_count': 102, 'min_child_samples': 3, 'leaf_estimation_iterations': 4, 'subsample': 0.7629826059052672}. Best is trial 12 with value: 0.8012664960191094.\u001b[0m\n",
      "\u001b[34m\u001b[1mwandb\u001b[0m: \u001b[33mWARNING\u001b[0m Step must only increase in log calls.  Step 21 < 22; dropping {'iterations': 18309, 'depth': 4, 'learning_rate': 0.0018459847158217185, 'random_strength': 72, 'od_wait': 1962, 'reg_lambda': 57.87419125631784, 'border_count': 102, 'min_child_samples': 3, 'leaf_estimation_iterations': 4, 'subsample': 0.7629826059052672, 'value': 0.8011377088290164}.\n"
     ]
    },
    {
     "name": "stdout",
     "output_type": "stream",
     "text": [
      "ROC AUC Score of CatBoost = 0.8011377088290164\n"
     ]
    },
    {
     "name": "stderr",
     "output_type": "stream",
     "text": [
      "\u001b[32m[I 2021-09-24 23:34:06,846]\u001b[0m Trial 22 finished with value: 0.8013564046119419 and parameters: {'iterations': 16487, 'depth': 4, 'learning_rate': 0.0017683635369628336, 'random_strength': 73, 'od_wait': 1763, 'reg_lambda': 60.444029814722434, 'border_count': 98, 'min_child_samples': 4, 'leaf_estimation_iterations': 4, 'subsample': 0.7707401764084454}. Best is trial 22 with value: 0.8013564046119419.\u001b[0m\n",
      "\u001b[34m\u001b[1mwandb\u001b[0m: \u001b[33mWARNING\u001b[0m Step must only increase in log calls.  Step 22 < 23; dropping {'iterations': 16487, 'depth': 4, 'learning_rate': 0.0017683635369628336, 'random_strength': 73, 'od_wait': 1763, 'reg_lambda': 60.444029814722434, 'border_count': 98, 'min_child_samples': 4, 'leaf_estimation_iterations': 4, 'subsample': 0.7707401764084454, 'value': 0.8013564046119419}.\n"
     ]
    },
    {
     "name": "stdout",
     "output_type": "stream",
     "text": [
      "ROC AUC Score of CatBoost = 0.8013564046119419\n"
     ]
    },
    {
     "name": "stderr",
     "output_type": "stream",
     "text": [
      "\u001b[32m[I 2021-09-24 23:35:25,616]\u001b[0m Trial 23 finished with value: 0.801226412567361 and parameters: {'iterations': 15882, 'depth': 4, 'learning_rate': 0.0021651579331591255, 'random_strength': 59, 'od_wait': 1732, 'reg_lambda': 63.503674010224785, 'border_count': 143, 'min_child_samples': 4, 'leaf_estimation_iterations': 3, 'subsample': 0.7783979456908585}. Best is trial 22 with value: 0.8013564046119419.\u001b[0m\n",
      "\u001b[34m\u001b[1mwandb\u001b[0m: \u001b[33mWARNING\u001b[0m Step must only increase in log calls.  Step 23 < 24; dropping {'iterations': 15882, 'depth': 4, 'learning_rate': 0.0021651579331591255, 'random_strength': 59, 'od_wait': 1732, 'reg_lambda': 63.503674010224785, 'border_count': 143, 'min_child_samples': 4, 'leaf_estimation_iterations': 3, 'subsample': 0.7783979456908585, 'value': 0.801226412567361}.\n"
     ]
    },
    {
     "name": "stdout",
     "output_type": "stream",
     "text": [
      "ROC AUC Score of CatBoost = 0.801226412567361\n"
     ]
    },
    {
     "name": "stderr",
     "output_type": "stream",
     "text": [
      "\u001b[32m[I 2021-09-24 23:37:12,113]\u001b[0m Trial 24 finished with value: 0.8012467481601835 and parameters: {'iterations': 15385, 'depth': 5, 'learning_rate': 0.002214910680648351, 'random_strength': 58, 'od_wait': 1723, 'reg_lambda': 63.9566839945209, 'border_count': 148, 'min_child_samples': 4, 'leaf_estimation_iterations': 5, 'subsample': 0.7775392747682852}. Best is trial 22 with value: 0.8013564046119419.\u001b[0m\n",
      "\u001b[34m\u001b[1mwandb\u001b[0m: \u001b[33mWARNING\u001b[0m Step must only increase in log calls.  Step 24 < 25; dropping {'iterations': 15385, 'depth': 5, 'learning_rate': 0.002214910680648351, 'random_strength': 58, 'od_wait': 1723, 'reg_lambda': 63.9566839945209, 'border_count': 148, 'min_child_samples': 4, 'leaf_estimation_iterations': 5, 'subsample': 0.7775392747682852, 'value': 0.8012467481601835}.\n"
     ]
    },
    {
     "name": "stdout",
     "output_type": "stream",
     "text": [
      "ROC AUC Score of CatBoost = 0.8012467481601835\n"
     ]
    },
    {
     "name": "stderr",
     "output_type": "stream",
     "text": [
      "\u001b[32m[I 2021-09-24 23:38:28,373]\u001b[0m Trial 25 finished with value: 0.8006637014414071 and parameters: {'iterations': 10166, 'depth': 5, 'learning_rate': 0.004002767325177712, 'random_strength': 79, 'od_wait': 1821, 'reg_lambda': 68.37752377563328, 'border_count': 187, 'min_child_samples': 1, 'leaf_estimation_iterations': 5, 'subsample': 0.8850877426893133}. Best is trial 22 with value: 0.8013564046119419.\u001b[0m\n",
      "\u001b[34m\u001b[1mwandb\u001b[0m: \u001b[33mWARNING\u001b[0m Step must only increase in log calls.  Step 25 < 26; dropping {'iterations': 10166, 'depth': 5, 'learning_rate': 0.004002767325177712, 'random_strength': 79, 'od_wait': 1821, 'reg_lambda': 68.37752377563328, 'border_count': 187, 'min_child_samples': 1, 'leaf_estimation_iterations': 5, 'subsample': 0.8850877426893133, 'value': 0.8006637014414071}.\n"
     ]
    },
    {
     "name": "stdout",
     "output_type": "stream",
     "text": [
      "ROC AUC Score of CatBoost = 0.8006637014414071\n"
     ]
    },
    {
     "name": "stderr",
     "output_type": "stream",
     "text": [
      "\u001b[32m[I 2021-09-24 23:40:38,374]\u001b[0m Trial 26 finished with value: 0.8017969993275296 and parameters: {'iterations': 14007, 'depth': 6, 'learning_rate': 0.0021742175981735935, 'random_strength': 54, 'od_wait': 1555, 'reg_lambda': 46.10145335732686, 'border_count': 153, 'min_child_samples': 6, 'leaf_estimation_iterations': 5, 'subsample': 0.686436866078153}. Best is trial 26 with value: 0.8017969993275296.\u001b[0m\n",
      "\u001b[34m\u001b[1mwandb\u001b[0m: \u001b[33mWARNING\u001b[0m Step must only increase in log calls.  Step 26 < 27; dropping {'iterations': 14007, 'depth': 6, 'learning_rate': 0.0021742175981735935, 'random_strength': 54, 'od_wait': 1555, 'reg_lambda': 46.10145335732686, 'border_count': 153, 'min_child_samples': 6, 'leaf_estimation_iterations': 5, 'subsample': 0.686436866078153, 'value': 0.8017969993275296}.\n"
     ]
    },
    {
     "name": "stdout",
     "output_type": "stream",
     "text": [
      "ROC AUC Score of CatBoost = 0.8017969993275296\n"
     ]
    },
    {
     "name": "stderr",
     "output_type": "stream",
     "text": [
      "\u001b[32m[I 2021-09-24 23:43:54,963]\u001b[0m Trial 27 finished with value: 0.7991930442986351 and parameters: {'iterations': 11047, 'depth': 7, 'learning_rate': 0.011266614155253082, 'random_strength': 50, 'od_wait': 1518, 'reg_lambda': 46.089963497215166, 'border_count': 233, 'min_child_samples': 6, 'leaf_estimation_iterations': 5, 'subsample': 0.6908511879984681}. Best is trial 26 with value: 0.8017969993275296.\u001b[0m\n",
      "\u001b[34m\u001b[1mwandb\u001b[0m: \u001b[33mWARNING\u001b[0m Step must only increase in log calls.  Step 27 < 28; dropping {'iterations': 11047, 'depth': 7, 'learning_rate': 0.011266614155253082, 'random_strength': 50, 'od_wait': 1518, 'reg_lambda': 46.089963497215166, 'border_count': 233, 'min_child_samples': 6, 'leaf_estimation_iterations': 5, 'subsample': 0.6908511879984681, 'value': 0.7991930442986351}.\n"
     ]
    },
    {
     "name": "stdout",
     "output_type": "stream",
     "text": [
      "ROC AUC Score of CatBoost = 0.7991930442986351\n"
     ]
    },
    {
     "name": "stderr",
     "output_type": "stream",
     "text": [
      "\u001b[32m[I 2021-09-24 23:49:34,792]\u001b[0m Trial 28 finished with value: 0.7972681570138745 and parameters: {'iterations': 13964, 'depth': 8, 'learning_rate': 0.0010466124360712268, 'random_strength': 78, 'od_wait': 1319, 'reg_lambda': 52.779828537318984, 'border_count': 167, 'min_child_samples': 3, 'leaf_estimation_iterations': 4, 'subsample': 0.7399820572567133}. Best is trial 26 with value: 0.8017969993275296.\u001b[0m\n",
      "\u001b[34m\u001b[1mwandb\u001b[0m: \u001b[33mWARNING\u001b[0m Step must only increase in log calls.  Step 28 < 29; dropping {'iterations': 13964, 'depth': 8, 'learning_rate': 0.0010466124360712268, 'random_strength': 78, 'od_wait': 1319, 'reg_lambda': 52.779828537318984, 'border_count': 167, 'min_child_samples': 3, 'leaf_estimation_iterations': 4, 'subsample': 0.7399820572567133, 'value': 0.7972681570138745}.\n"
     ]
    },
    {
     "name": "stdout",
     "output_type": "stream",
     "text": [
      "ROC AUC Score of CatBoost = 0.7972681570138745\n"
     ]
    },
    {
     "name": "stderr",
     "output_type": "stream",
     "text": [
      "\u001b[32m[I 2021-09-24 23:51:02,247]\u001b[0m Trial 29 finished with value: 0.79526223591812 and parameters: {'iterations': 7953, 'depth': 6, 'learning_rate': 0.049702156774442785, 'random_strength': 46, 'od_wait': 1997, 'reg_lambda': 33.42553513463829, 'border_count': 249, 'min_child_samples': 6, 'leaf_estimation_iterations': 4, 'subsample': 0.6145203230726353}. Best is trial 26 with value: 0.8017969993275296.\u001b[0m\n",
      "\u001b[34m\u001b[1mwandb\u001b[0m: \u001b[33mWARNING\u001b[0m Step must only increase in log calls.  Step 29 < 30; dropping {'iterations': 7953, 'depth': 6, 'learning_rate': 0.049702156774442785, 'random_strength': 46, 'od_wait': 1997, 'reg_lambda': 33.42553513463829, 'border_count': 249, 'min_child_samples': 6, 'leaf_estimation_iterations': 4, 'subsample': 0.6145203230726353, 'value': 0.79526223591812}.\n"
     ]
    },
    {
     "name": "stdout",
     "output_type": "stream",
     "text": [
      "ROC AUC Score of CatBoost = 0.79526223591812\n"
     ]
    },
    {
     "name": "stderr",
     "output_type": "stream",
     "text": [
      "\u001b[32m[I 2021-09-24 23:56:09,944]\u001b[0m Trial 30 finished with value: 0.8011097180021908 and parameters: {'iterations': 11572, 'depth': 8, 'learning_rate': 0.0019677054631832714, 'random_strength': 63, 'od_wait': 1593, 'reg_lambda': 40.771998370288806, 'border_count': 185, 'min_child_samples': 1, 'leaf_estimation_iterations': 5, 'subsample': 0.6967451233483243}. Best is trial 26 with value: 0.8017969993275296.\u001b[0m\n",
      "\u001b[34m\u001b[1mwandb\u001b[0m: \u001b[33mWARNING\u001b[0m Step must only increase in log calls.  Step 30 < 31; dropping {'iterations': 11572, 'depth': 8, 'learning_rate': 0.0019677054631832714, 'random_strength': 63, 'od_wait': 1593, 'reg_lambda': 40.771998370288806, 'border_count': 185, 'min_child_samples': 1, 'leaf_estimation_iterations': 5, 'subsample': 0.6967451233483243, 'value': 0.8011097180021908}.\n"
     ]
    },
    {
     "name": "stdout",
     "output_type": "stream",
     "text": [
      "ROC AUC Score of CatBoost = 0.8011097180021908\n"
     ]
    },
    {
     "name": "stderr",
     "output_type": "stream",
     "text": [
      "\u001b[32m[I 2021-09-24 23:58:10,215]\u001b[0m Trial 31 finished with value: 0.8010391458545563 and parameters: {'iterations': 17255, 'depth': 5, 'learning_rate': 0.0020389153268892467, 'random_strength': 57, 'od_wait': 1807, 'reg_lambda': 60.52131466431321, 'border_count': 150, 'min_child_samples': 4, 'leaf_estimation_iterations': 5, 'subsample': 0.7863716560575621}. Best is trial 26 with value: 0.8017969993275296.\u001b[0m\n",
      "\u001b[34m\u001b[1mwandb\u001b[0m: \u001b[33mWARNING\u001b[0m Step must only increase in log calls.  Step 31 < 32; dropping {'iterations': 17255, 'depth': 5, 'learning_rate': 0.0020389153268892467, 'random_strength': 57, 'od_wait': 1807, 'reg_lambda': 60.52131466431321, 'border_count': 150, 'min_child_samples': 4, 'leaf_estimation_iterations': 5, 'subsample': 0.7863716560575621, 'value': 0.8010391458545563}.\n"
     ]
    },
    {
     "name": "stdout",
     "output_type": "stream",
     "text": [
      "ROC AUC Score of CatBoost = 0.8010391458545563\n"
     ]
    },
    {
     "name": "stderr",
     "output_type": "stream",
     "text": [
      "\u001b[32m[I 2021-09-25 00:00:21,549]\u001b[0m Trial 32 finished with value: 0.8011937198693626 and parameters: {'iterations': 14259, 'depth': 6, 'learning_rate': 0.0026821303990825934, 'random_strength': 64, 'od_wait': 1685, 'reg_lambda': 65.93947035334408, 'border_count': 131, 'min_child_samples': 3, 'leaf_estimation_iterations': 5, 'subsample': 0.8479434027188816}. Best is trial 26 with value: 0.8017969993275296.\u001b[0m\n",
      "\u001b[34m\u001b[1mwandb\u001b[0m: \u001b[33mWARNING\u001b[0m Step must only increase in log calls.  Step 32 < 33; dropping {'iterations': 14259, 'depth': 6, 'learning_rate': 0.0026821303990825934, 'random_strength': 64, 'od_wait': 1685, 'reg_lambda': 65.93947035334408, 'border_count': 131, 'min_child_samples': 3, 'leaf_estimation_iterations': 5, 'subsample': 0.8479434027188816, 'value': 0.8011937198693626}.\n"
     ]
    },
    {
     "name": "stdout",
     "output_type": "stream",
     "text": [
      "ROC AUC Score of CatBoost = 0.8011937198693626\n"
     ]
    },
    {
     "name": "stderr",
     "output_type": "stream",
     "text": [
      "\u001b[32m[I 2021-09-25 00:02:39,038]\u001b[0m Trial 33 finished with value: 0.8007512150186111 and parameters: {'iterations': 14927, 'depth': 6, 'learning_rate': 0.00422939584657787, 'random_strength': 44, 'od_wait': 1853, 'reg_lambda': 51.69207046784183, 'border_count': 160, 'min_child_samples': 5, 'leaf_estimation_iterations': 4, 'subsample': 0.7558541647602709}. Best is trial 26 with value: 0.8017969993275296.\u001b[0m\n",
      "\u001b[34m\u001b[1mwandb\u001b[0m: \u001b[33mWARNING\u001b[0m Step must only increase in log calls.  Step 33 < 34; dropping {'iterations': 14927, 'depth': 6, 'learning_rate': 0.00422939584657787, 'random_strength': 44, 'od_wait': 1853, 'reg_lambda': 51.69207046784183, 'border_count': 160, 'min_child_samples': 5, 'leaf_estimation_iterations': 4, 'subsample': 0.7558541647602709, 'value': 0.8007512150186111}.\n"
     ]
    },
    {
     "name": "stdout",
     "output_type": "stream",
     "text": [
      "ROC AUC Score of CatBoost = 0.8007512150186111\n"
     ]
    },
    {
     "name": "stderr",
     "output_type": "stream",
     "text": [
      "\u001b[32m[I 2021-09-25 00:04:28,764]\u001b[0m Trial 34 finished with value: 0.79911434672988 and parameters: {'iterations': 16589, 'depth': 5, 'learning_rate': 0.007764956832475901, 'random_strength': 54, 'od_wait': 1483, 'reg_lambda': 22.547341777859323, 'border_count': 104, 'min_child_samples': 7, 'leaf_estimation_iterations': 5, 'subsample': 0.8024117240072648}. Best is trial 26 with value: 0.8017969993275296.\u001b[0m\n",
      "\u001b[34m\u001b[1mwandb\u001b[0m: \u001b[33mWARNING\u001b[0m Step must only increase in log calls.  Step 34 < 35; dropping {'iterations': 16589, 'depth': 5, 'learning_rate': 0.007764956832475901, 'random_strength': 54, 'od_wait': 1483, 'reg_lambda': 22.547341777859323, 'border_count': 104, 'min_child_samples': 7, 'leaf_estimation_iterations': 5, 'subsample': 0.8024117240072648, 'value': 0.79911434672988}.\n"
     ]
    },
    {
     "name": "stdout",
     "output_type": "stream",
     "text": [
      "ROC AUC Score of CatBoost = 0.79911434672988\n"
     ]
    },
    {
     "name": "stderr",
     "output_type": "stream",
     "text": [
      "\u001b[32m[I 2021-09-25 00:05:30,656]\u001b[0m Trial 35 finished with value: 0.7990848277949234 and parameters: {'iterations': 12164, 'depth': 4, 'learning_rate': 0.0015087910718878865, 'random_strength': 74, 'od_wait': 1667, 'reg_lambda': 59.551126075047335, 'border_count': 112, 'min_child_samples': 2, 'leaf_estimation_iterations': 4, 'subsample': 0.6795019440860466}. Best is trial 26 with value: 0.8017969993275296.\u001b[0m\n",
      "\u001b[34m\u001b[1mwandb\u001b[0m: \u001b[33mWARNING\u001b[0m Step must only increase in log calls.  Step 35 < 36; dropping {'iterations': 12164, 'depth': 4, 'learning_rate': 0.0015087910718878865, 'random_strength': 74, 'od_wait': 1667, 'reg_lambda': 59.551126075047335, 'border_count': 112, 'min_child_samples': 2, 'leaf_estimation_iterations': 4, 'subsample': 0.6795019440860466, 'value': 0.7990848277949234}.\n"
     ]
    },
    {
     "name": "stdout",
     "output_type": "stream",
     "text": [
      "ROC AUC Score of CatBoost = 0.7990848277949234\n"
     ]
    },
    {
     "name": "stderr",
     "output_type": "stream",
     "text": [
      "\u001b[32m[I 2021-09-25 00:06:54,362]\u001b[0m Trial 36 finished with value: 0.800282350302597 and parameters: {'iterations': 20061, 'depth': 3, 'learning_rate': 0.0013912543060213146, 'random_strength': 85, 'od_wait': 1854, 'reg_lambda': 46.14960365548439, 'border_count': 131, 'min_child_samples': 4, 'leaf_estimation_iterations': 4, 'subsample': 0.7227141107308672}. Best is trial 26 with value: 0.8017969993275296.\u001b[0m\n",
      "\u001b[34m\u001b[1mwandb\u001b[0m: \u001b[33mWARNING\u001b[0m Step must only increase in log calls.  Step 36 < 37; dropping {'iterations': 20061, 'depth': 3, 'learning_rate': 0.0013912543060213146, 'random_strength': 85, 'od_wait': 1854, 'reg_lambda': 46.14960365548439, 'border_count': 131, 'min_child_samples': 4, 'leaf_estimation_iterations': 4, 'subsample': 0.7227141107308672, 'value': 0.800282350302597}.\n"
     ]
    },
    {
     "name": "stdout",
     "output_type": "stream",
     "text": [
      "ROC AUC Score of CatBoost = 0.800282350302597\n"
     ]
    },
    {
     "name": "stderr",
     "output_type": "stream",
     "text": [
      "\u001b[32m[I 2021-09-25 00:07:30,198]\u001b[0m Trial 37 finished with value: 0.7835332566507123 and parameters: {'iterations': 7383, 'depth': 4, 'learning_rate': 0.4921266312937148, 'random_strength': 64, 'od_wait': 1320, 'reg_lambda': 67.41904924905573, 'border_count': 79, 'min_child_samples': 5, 'leaf_estimation_iterations': 5, 'subsample': 0.7176675238546499}. Best is trial 26 with value: 0.8017969993275296.\u001b[0m\n",
      "\u001b[34m\u001b[1mwandb\u001b[0m: \u001b[33mWARNING\u001b[0m Step must only increase in log calls.  Step 37 < 38; dropping {'iterations': 7383, 'depth': 4, 'learning_rate': 0.4921266312937148, 'random_strength': 64, 'od_wait': 1320, 'reg_lambda': 67.41904924905573, 'border_count': 79, 'min_child_samples': 5, 'leaf_estimation_iterations': 5, 'subsample': 0.7176675238546499, 'value': 0.7835332566507123}.\n"
     ]
    },
    {
     "name": "stdout",
     "output_type": "stream",
     "text": [
      "ROC AUC Score of CatBoost = 0.7835332566507123\n"
     ]
    },
    {
     "name": "stderr",
     "output_type": "stream",
     "text": [
      "\u001b[32m[I 2021-09-25 00:09:20,684]\u001b[0m Trial 38 finished with value: 0.8007225923778466 and parameters: {'iterations': 16932, 'depth': 5, 'learning_rate': 0.006978084883704823, 'random_strength': 31, 'od_wait': 1607, 'reg_lambda': 55.456888768601836, 'border_count': 202, 'min_child_samples': 10, 'leaf_estimation_iterations': 3, 'subsample': 0.6334269787017971}. Best is trial 26 with value: 0.8017969993275296.\u001b[0m\n",
      "\u001b[34m\u001b[1mwandb\u001b[0m: \u001b[33mWARNING\u001b[0m Step must only increase in log calls.  Step 38 < 39; dropping {'iterations': 16932, 'depth': 5, 'learning_rate': 0.006978084883704823, 'random_strength': 31, 'od_wait': 1607, 'reg_lambda': 55.456888768601836, 'border_count': 202, 'min_child_samples': 10, 'leaf_estimation_iterations': 3, 'subsample': 0.6334269787017971, 'value': 0.8007225923778466}.\n"
     ]
    },
    {
     "name": "stdout",
     "output_type": "stream",
     "text": [
      "ROC AUC Score of CatBoost = 0.8007225923778466\n"
     ]
    },
    {
     "name": "stderr",
     "output_type": "stream",
     "text": [
      "\u001b[32m[I 2021-09-25 00:24:03,413]\u001b[0m Trial 39 finished with value: 0.8009290192156805 and parameters: {'iterations': 13360, 'depth': 10, 'learning_rate': 0.0024415777748977054, 'random_strength': 98, 'od_wait': 1081, 'reg_lambda': 60.827116754428346, 'border_count': 156, 'min_child_samples': 2, 'leaf_estimation_iterations': 5, 'subsample': 0.8827511053116964}. Best is trial 26 with value: 0.8017969993275296.\u001b[0m\n",
      "\u001b[34m\u001b[1mwandb\u001b[0m: \u001b[33mWARNING\u001b[0m Step must only increase in log calls.  Step 39 < 40; dropping {'iterations': 13360, 'depth': 10, 'learning_rate': 0.0024415777748977054, 'random_strength': 98, 'od_wait': 1081, 'reg_lambda': 60.827116754428346, 'border_count': 156, 'min_child_samples': 2, 'leaf_estimation_iterations': 5, 'subsample': 0.8827511053116964, 'value': 0.8009290192156805}.\n"
     ]
    },
    {
     "name": "stdout",
     "output_type": "stream",
     "text": [
      "ROC AUC Score of CatBoost = 0.8009290192156805\n"
     ]
    },
    {
     "name": "stderr",
     "output_type": "stream",
     "text": [
      "\u001b[32m[I 2021-09-25 00:24:44,162]\u001b[0m Trial 40 finished with value: 0.7942587684497568 and parameters: {'iterations': 2638, 'depth': 7, 'learning_rate': 0.0014906624936352174, 'random_strength': 52, 'od_wait': 1746, 'reg_lambda': 49.19631717589456, 'border_count': 175, 'min_child_samples': 8, 'leaf_estimation_iterations': 4, 'subsample': 0.6711449910815253}. Best is trial 26 with value: 0.8017969993275296.\u001b[0m\n",
      "\u001b[34m\u001b[1mwandb\u001b[0m: \u001b[33mWARNING\u001b[0m Step must only increase in log calls.  Step 40 < 41; dropping {'iterations': 2638, 'depth': 7, 'learning_rate': 0.0014906624936352174, 'random_strength': 52, 'od_wait': 1746, 'reg_lambda': 49.19631717589456, 'border_count': 175, 'min_child_samples': 8, 'leaf_estimation_iterations': 4, 'subsample': 0.6711449910815253, 'value': 0.7942587684497568}.\n"
     ]
    },
    {
     "name": "stdout",
     "output_type": "stream",
     "text": [
      "ROC AUC Score of CatBoost = 0.7942587684497568\n"
     ]
    },
    {
     "name": "stderr",
     "output_type": "stream",
     "text": [
      "\u001b[32m[I 2021-09-25 00:25:58,494]\u001b[0m Trial 41 finished with value: 0.8012499513099199 and parameters: {'iterations': 14991, 'depth': 4, 'learning_rate': 0.0024236255589664556, 'random_strength': 60, 'od_wait': 1728, 'reg_lambda': 64.4580170212989, 'border_count': 143, 'min_child_samples': 4, 'leaf_estimation_iterations': 3, 'subsample': 0.7686553770132959}. Best is trial 26 with value: 0.8017969993275296.\u001b[0m\n",
      "\u001b[34m\u001b[1mwandb\u001b[0m: \u001b[33mWARNING\u001b[0m Step must only increase in log calls.  Step 41 < 42; dropping {'iterations': 14991, 'depth': 4, 'learning_rate': 0.0024236255589664556, 'random_strength': 60, 'od_wait': 1728, 'reg_lambda': 64.4580170212989, 'border_count': 143, 'min_child_samples': 4, 'leaf_estimation_iterations': 3, 'subsample': 0.7686553770132959, 'value': 0.8012499513099199}.\n"
     ]
    },
    {
     "name": "stdout",
     "output_type": "stream",
     "text": [
      "ROC AUC Score of CatBoost = 0.8012499513099199\n"
     ]
    },
    {
     "name": "stderr",
     "output_type": "stream",
     "text": [
      "\u001b[32m[I 2021-09-25 00:27:10,864]\u001b[0m Trial 42 finished with value: 0.8010037495806334 and parameters: {'iterations': 14846, 'depth': 4, 'learning_rate': 0.004259019997919499, 'random_strength': 40, 'od_wait': 1890, 'reg_lambda': 65.57266608034301, 'border_count': 115, 'min_child_samples': 3, 'leaf_estimation_iterations': 3, 'subsample': 0.7677989641729039}. Best is trial 26 with value: 0.8017969993275296.\u001b[0m\n",
      "\u001b[34m\u001b[1mwandb\u001b[0m: \u001b[33mWARNING\u001b[0m Step must only increase in log calls.  Step 42 < 43; dropping {'iterations': 14846, 'depth': 4, 'learning_rate': 0.004259019997919499, 'random_strength': 40, 'od_wait': 1890, 'reg_lambda': 65.57266608034301, 'border_count': 115, 'min_child_samples': 3, 'leaf_estimation_iterations': 3, 'subsample': 0.7677989641729039, 'value': 0.8010037495806334}.\n"
     ]
    },
    {
     "name": "stdout",
     "output_type": "stream",
     "text": [
      "ROC AUC Score of CatBoost = 0.8010037495806334\n"
     ]
    },
    {
     "name": "stderr",
     "output_type": "stream",
     "text": [
      "\u001b[32m[I 2021-09-25 00:28:59,591]\u001b[0m Trial 43 finished with value: 0.7989181905418894 and parameters: {'iterations': 17247, 'depth': 5, 'learning_rate': 0.0010160167731236025, 'random_strength': 60, 'od_wait': 1997, 'reg_lambda': 63.61569397828977, 'border_count': 134, 'min_child_samples': 5, 'leaf_estimation_iterations': 3, 'subsample': 0.7993708016696335}. Best is trial 26 with value: 0.8017969993275296.\u001b[0m\n",
      "\u001b[34m\u001b[1mwandb\u001b[0m: \u001b[33mWARNING\u001b[0m Step must only increase in log calls.  Step 43 < 44; dropping {'iterations': 17247, 'depth': 5, 'learning_rate': 0.0010160167731236025, 'random_strength': 60, 'od_wait': 1997, 'reg_lambda': 63.61569397828977, 'border_count': 134, 'min_child_samples': 5, 'leaf_estimation_iterations': 3, 'subsample': 0.7993708016696335, 'value': 0.7989181905418894}.\n"
     ]
    },
    {
     "name": "stdout",
     "output_type": "stream",
     "text": [
      "ROC AUC Score of CatBoost = 0.7989181905418894\n"
     ]
    },
    {
     "name": "stderr",
     "output_type": "stream",
     "text": [
      "\u001b[32m[I 2021-09-25 00:29:53,454]\u001b[0m Trial 44 finished with value: 0.7993698640414278 and parameters: {'iterations': 12468, 'depth': 3, 'learning_rate': 0.0017244408928442038, 'random_strength': 67, 'od_wait': 1409, 'reg_lambda': 54.55487037263293, 'border_count': 121, 'min_child_samples': 7, 'leaf_estimation_iterations': 4, 'subsample': 0.7456368846172238}. Best is trial 26 with value: 0.8017969993275296.\u001b[0m\n",
      "\u001b[34m\u001b[1mwandb\u001b[0m: \u001b[33mWARNING\u001b[0m Step must only increase in log calls.  Step 44 < 45; dropping {'iterations': 12468, 'depth': 3, 'learning_rate': 0.0017244408928442038, 'random_strength': 67, 'od_wait': 1409, 'reg_lambda': 54.55487037263293, 'border_count': 121, 'min_child_samples': 7, 'leaf_estimation_iterations': 4, 'subsample': 0.7456368846172238, 'value': 0.7993698640414278}.\n"
     ]
    },
    {
     "name": "stdout",
     "output_type": "stream",
     "text": [
      "ROC AUC Score of CatBoost = 0.7993698640414278\n"
     ]
    },
    {
     "name": "stderr",
     "output_type": "stream",
     "text": [
      "\u001b[32m[I 2021-09-25 00:31:23,846]\u001b[0m Trial 45 finished with value: 0.8013815008493269 and parameters: {'iterations': 18489, 'depth': 4, 'learning_rate': 0.003426823848036917, 'random_strength': 86, 'od_wait': 1549, 'reg_lambda': 65.88984746336516, 'border_count': 177, 'min_child_samples': 4, 'leaf_estimation_iterations': 2, 'subsample': 0.8246970997119386}. Best is trial 26 with value: 0.8017969993275296.\u001b[0m\n",
      "\u001b[34m\u001b[1mwandb\u001b[0m: \u001b[33mWARNING\u001b[0m Step must only increase in log calls.  Step 45 < 46; dropping {'iterations': 18489, 'depth': 4, 'learning_rate': 0.003426823848036917, 'random_strength': 86, 'od_wait': 1549, 'reg_lambda': 65.88984746336516, 'border_count': 177, 'min_child_samples': 4, 'leaf_estimation_iterations': 2, 'subsample': 0.8246970997119386, 'value': 0.8013815008493269}.\n"
     ]
    },
    {
     "name": "stdout",
     "output_type": "stream",
     "text": [
      "ROC AUC Score of CatBoost = 0.8013815008493269\n"
     ]
    },
    {
     "name": "stderr",
     "output_type": "stream",
     "text": [
      "\u001b[32m[I 2021-09-25 00:33:02,446]\u001b[0m Trial 46 finished with value: 0.8011919125876306 and parameters: {'iterations': 20067, 'depth': 4, 'learning_rate': 0.0035453418022685095, 'random_strength': 86, 'od_wait': 1521, 'reg_lambda': 67.08605540830014, 'border_count': 178, 'min_child_samples': 2, 'leaf_estimation_iterations': 2, 'subsample': 0.8365516152836934}. Best is trial 26 with value: 0.8017969993275296.\u001b[0m\n",
      "\u001b[34m\u001b[1mwandb\u001b[0m: \u001b[33mWARNING\u001b[0m Step must only increase in log calls.  Step 46 < 47; dropping {'iterations': 20067, 'depth': 4, 'learning_rate': 0.0035453418022685095, 'random_strength': 86, 'od_wait': 1521, 'reg_lambda': 67.08605540830014, 'border_count': 178, 'min_child_samples': 2, 'leaf_estimation_iterations': 2, 'subsample': 0.8365516152836934, 'value': 0.8011919125876306}.\n"
     ]
    },
    {
     "name": "stdout",
     "output_type": "stream",
     "text": [
      "ROC AUC Score of CatBoost = 0.8011919125876306\n"
     ]
    },
    {
     "name": "stderr",
     "output_type": "stream",
     "text": [
      "\u001b[32m[I 2021-09-25 00:34:09,711]\u001b[0m Trial 47 finished with value: 0.8004875282059006 and parameters: {'iterations': 18150, 'depth': 3, 'learning_rate': 0.005673258955842381, 'random_strength': 88, 'od_wait': 329, 'reg_lambda': 58.81108855320313, 'border_count': 197, 'min_child_samples': 6, 'leaf_estimation_iterations': 1, 'subsample': 0.8632276928701631}. Best is trial 26 with value: 0.8017969993275296.\u001b[0m\n",
      "\u001b[34m\u001b[1mwandb\u001b[0m: \u001b[33mWARNING\u001b[0m Step must only increase in log calls.  Step 47 < 48; dropping {'iterations': 18150, 'depth': 3, 'learning_rate': 0.005673258955842381, 'random_strength': 88, 'od_wait': 329, 'reg_lambda': 58.81108855320313, 'border_count': 197, 'min_child_samples': 6, 'leaf_estimation_iterations': 1, 'subsample': 0.8632276928701631, 'value': 0.8004875282059006}.\n"
     ]
    },
    {
     "name": "stdout",
     "output_type": "stream",
     "text": [
      "ROC AUC Score of CatBoost = 0.8004875282059006\n"
     ]
    },
    {
     "name": "stderr",
     "output_type": "stream",
     "text": [
      "\u001b[32m[I 2021-09-25 00:36:36,696]\u001b[0m Trial 48 finished with value: 0.7975235567786428 and parameters: {'iterations': 29222, 'depth': 4, 'learning_rate': 0.011470628310440555, 'random_strength': 94, 'od_wait': 1613, 'reg_lambda': 69.4261823036709, 'border_count': 211, 'min_child_samples': 2, 'leaf_estimation_iterations': 2, 'subsample': 0.8182686352661062}. Best is trial 26 with value: 0.8017969993275296.\u001b[0m\n",
      "\u001b[34m\u001b[1mwandb\u001b[0m: \u001b[33mWARNING\u001b[0m Step must only increase in log calls.  Step 48 < 49; dropping {'iterations': 29222, 'depth': 4, 'learning_rate': 0.011470628310440555, 'random_strength': 94, 'od_wait': 1613, 'reg_lambda': 69.4261823036709, 'border_count': 211, 'min_child_samples': 2, 'leaf_estimation_iterations': 2, 'subsample': 0.8182686352661062, 'value': 0.7975235567786428}.\n"
     ]
    },
    {
     "name": "stdout",
     "output_type": "stream",
     "text": [
      "ROC AUC Score of CatBoost = 0.7975235567786428\n"
     ]
    },
    {
     "name": "stderr",
     "output_type": "stream",
     "text": [
      "\u001b[32m[I 2021-09-25 00:38:09,922]\u001b[0m Trial 49 finished with value: 0.7887711558305751 and parameters: {'iterations': 19275, 'depth': 4, 'learning_rate': 0.0760556383060475, 'random_strength': 74, 'od_wait': 785, 'reg_lambda': 42.83698309213108, 'border_count': 82, 'min_child_samples': 12, 'leaf_estimation_iterations': 3, 'subsample': 0.9766715340887773}. Best is trial 26 with value: 0.8017969993275296.\u001b[0m\n",
      "\u001b[34m\u001b[1mwandb\u001b[0m: \u001b[33mWARNING\u001b[0m Step must only increase in log calls.  Step 49 < 50; dropping {'iterations': 19275, 'depth': 4, 'learning_rate': 0.0760556383060475, 'random_strength': 74, 'od_wait': 785, 'reg_lambda': 42.83698309213108, 'border_count': 82, 'min_child_samples': 12, 'leaf_estimation_iterations': 3, 'subsample': 0.9766715340887773, 'value': 0.7887711558305751}.\n"
     ]
    },
    {
     "name": "stdout",
     "output_type": "stream",
     "text": [
      "ROC AUC Score of CatBoost = 0.7887711558305751\n"
     ]
    },
    {
     "name": "stderr",
     "output_type": "stream",
     "text": [
      "\u001b[32m[I 2021-09-25 00:41:11,738]\u001b[0m Trial 50 finished with value: 0.7969371012032662 and parameters: {'iterations': 20962, 'depth': 6, 'learning_rate': 0.014737288851800541, 'random_strength': 81, 'od_wait': 1342, 'reg_lambda': 21.588912099222153, 'border_count': 156, 'min_child_samples': 8, 'leaf_estimation_iterations': 3, 'subsample': 0.7253894598506264}. Best is trial 26 with value: 0.8017969993275296.\u001b[0m\n",
      "\u001b[34m\u001b[1mwandb\u001b[0m: \u001b[33mWARNING\u001b[0m Step must only increase in log calls.  Step 50 < 51; dropping {'iterations': 20962, 'depth': 6, 'learning_rate': 0.014737288851800541, 'random_strength': 81, 'od_wait': 1342, 'reg_lambda': 21.588912099222153, 'border_count': 156, 'min_child_samples': 8, 'leaf_estimation_iterations': 3, 'subsample': 0.7253894598506264, 'value': 0.7969371012032662}.\n"
     ]
    },
    {
     "name": "stdout",
     "output_type": "stream",
     "text": [
      "ROC AUC Score of CatBoost = 0.7969371012032662\n"
     ]
    },
    {
     "name": "stderr",
     "output_type": "stream",
     "text": [
      "\u001b[32m[I 2021-09-25 00:42:40,920]\u001b[0m Trial 51 finished with value: 0.8017142023148458 and parameters: {'iterations': 15039, 'depth': 5, 'learning_rate': 0.0026185408543838813, 'random_strength': 54, 'od_wait': 1727, 'reg_lambda': 61.99216023274969, 'border_count': 142, 'min_child_samples': 4, 'leaf_estimation_iterations': 2, 'subsample': 0.7898862572829441}. Best is trial 26 with value: 0.8017969993275296.\u001b[0m\n",
      "\u001b[34m\u001b[1mwandb\u001b[0m: \u001b[33mWARNING\u001b[0m Step must only increase in log calls.  Step 51 < 52; dropping {'iterations': 15039, 'depth': 5, 'learning_rate': 0.0026185408543838813, 'random_strength': 54, 'od_wait': 1727, 'reg_lambda': 61.99216023274969, 'border_count': 142, 'min_child_samples': 4, 'leaf_estimation_iterations': 2, 'subsample': 0.7898862572829441, 'value': 0.8017142023148458}.\n"
     ]
    },
    {
     "name": "stdout",
     "output_type": "stream",
     "text": [
      "ROC AUC Score of CatBoost = 0.8017142023148458\n"
     ]
    },
    {
     "name": "stderr",
     "output_type": "stream",
     "text": [
      "\u001b[32m[I 2021-09-25 00:44:00,968]\u001b[0m Trial 52 finished with value: 0.8019999144553314 and parameters: {'iterations': 13582, 'depth': 5, 'learning_rate': 0.0028333165548921754, 'random_strength': 31, 'od_wait': 1792, 'reg_lambda': 61.94450824132194, 'border_count': 137, 'min_child_samples': 3, 'leaf_estimation_iterations': 2, 'subsample': 0.8007627595290849}. Best is trial 52 with value: 0.8019999144553314.\u001b[0m\n",
      "\u001b[34m\u001b[1mwandb\u001b[0m: \u001b[33mWARNING\u001b[0m Step must only increase in log calls.  Step 52 < 53; dropping {'iterations': 13582, 'depth': 5, 'learning_rate': 0.0028333165548921754, 'random_strength': 31, 'od_wait': 1792, 'reg_lambda': 61.94450824132194, 'border_count': 137, 'min_child_samples': 3, 'leaf_estimation_iterations': 2, 'subsample': 0.8007627595290849, 'value': 0.8019999144553314}.\n"
     ]
    },
    {
     "name": "stdout",
     "output_type": "stream",
     "text": [
      "ROC AUC Score of CatBoost = 0.8019999144553314\n"
     ]
    },
    {
     "name": "stderr",
     "output_type": "stream",
     "text": [
      "\u001b[32m[I 2021-09-25 00:45:21,360]\u001b[0m Trial 53 finished with value: 0.8014342205798521 and parameters: {'iterations': 13132, 'depth': 5, 'learning_rate': 0.0031077557909635956, 'random_strength': 31, 'od_wait': 1917, 'reg_lambda': 60.999815897632715, 'border_count': 160, 'min_child_samples': 1, 'leaf_estimation_iterations': 2, 'subsample': 0.8011436130703223}. Best is trial 52 with value: 0.8019999144553314.\u001b[0m\n",
      "\u001b[34m\u001b[1mwandb\u001b[0m: \u001b[33mWARNING\u001b[0m Step must only increase in log calls.  Step 53 < 54; dropping {'iterations': 13132, 'depth': 5, 'learning_rate': 0.0031077557909635956, 'random_strength': 31, 'od_wait': 1917, 'reg_lambda': 60.999815897632715, 'border_count': 160, 'min_child_samples': 1, 'leaf_estimation_iterations': 2, 'subsample': 0.8011436130703223, 'value': 0.8014342205798521}.\n"
     ]
    },
    {
     "name": "stdout",
     "output_type": "stream",
     "text": [
      "ROC AUC Score of CatBoost = 0.8014342205798521\n"
     ]
    },
    {
     "name": "stderr",
     "output_type": "stream",
     "text": [
      "\u001b[32m[I 2021-09-25 00:46:51,901]\u001b[0m Trial 54 finished with value: 0.8023750943882271 and parameters: {'iterations': 10832, 'depth': 6, 'learning_rate': 0.0033114722844723326, 'random_strength': 13, 'od_wait': 1902, 'reg_lambda': 61.060876901936524, 'border_count': 170, 'min_child_samples': 3, 'leaf_estimation_iterations': 1, 'subsample': 0.8170823697155541}. Best is trial 54 with value: 0.8023750943882271.\u001b[0m\n",
      "\u001b[34m\u001b[1mwandb\u001b[0m: \u001b[33mWARNING\u001b[0m Step must only increase in log calls.  Step 54 < 55; dropping {'iterations': 10832, 'depth': 6, 'learning_rate': 0.0033114722844723326, 'random_strength': 13, 'od_wait': 1902, 'reg_lambda': 61.060876901936524, 'border_count': 170, 'min_child_samples': 3, 'leaf_estimation_iterations': 1, 'subsample': 0.8170823697155541, 'value': 0.8023750943882271}.\n"
     ]
    },
    {
     "name": "stdout",
     "output_type": "stream",
     "text": [
      "ROC AUC Score of CatBoost = 0.8023750943882271\n"
     ]
    },
    {
     "name": "stderr",
     "output_type": "stream",
     "text": [
      "\u001b[32m[I 2021-09-25 00:48:23,300]\u001b[0m Trial 55 finished with value: 0.8021117161358123 and parameters: {'iterations': 10661, 'depth': 6, 'learning_rate': 0.0033526004775770203, 'random_strength': 13, 'od_wait': 1833, 'reg_lambda': 53.91909961488855, 'border_count': 174, 'min_child_samples': 3, 'leaf_estimation_iterations': 1, 'subsample': 0.8652950086630102}. Best is trial 54 with value: 0.8023750943882271.\u001b[0m\n",
      "\u001b[34m\u001b[1mwandb\u001b[0m: \u001b[33mWARNING\u001b[0m Step must only increase in log calls.  Step 55 < 56; dropping {'iterations': 10661, 'depth': 6, 'learning_rate': 0.0033526004775770203, 'random_strength': 13, 'od_wait': 1833, 'reg_lambda': 53.91909961488855, 'border_count': 174, 'min_child_samples': 3, 'leaf_estimation_iterations': 1, 'subsample': 0.8652950086630102, 'value': 0.8021117161358123}.\n"
     ]
    },
    {
     "name": "stdout",
     "output_type": "stream",
     "text": [
      "ROC AUC Score of CatBoost = 0.8021117161358123\n"
     ]
    },
    {
     "name": "stderr",
     "output_type": "stream",
     "text": [
      "\u001b[32m[I 2021-09-25 00:50:35,664]\u001b[0m Trial 56 finished with value: 0.8017948687921543 and parameters: {'iterations': 9753, 'depth': 7, 'learning_rate': 0.002991237263880033, 'random_strength': 12, 'od_wait': 1897, 'reg_lambda': 55.07630829159084, 'border_count': 171, 'min_child_samples': 3, 'leaf_estimation_iterations': 1, 'subsample': 0.8642975367613273}. Best is trial 54 with value: 0.8023750943882271.\u001b[0m\n",
      "\u001b[34m\u001b[1mwandb\u001b[0m: \u001b[33mWARNING\u001b[0m Step must only increase in log calls.  Step 56 < 57; dropping {'iterations': 9753, 'depth': 7, 'learning_rate': 0.002991237263880033, 'random_strength': 12, 'od_wait': 1897, 'reg_lambda': 55.07630829159084, 'border_count': 171, 'min_child_samples': 3, 'leaf_estimation_iterations': 1, 'subsample': 0.8642975367613273, 'value': 0.8017948687921543}.\n"
     ]
    },
    {
     "name": "stdout",
     "output_type": "stream",
     "text": [
      "ROC AUC Score of CatBoost = 0.8017948687921543\n"
     ]
    },
    {
     "name": "stderr",
     "output_type": "stream",
     "text": [
      "\u001b[32m[I 2021-09-25 00:52:55,292]\u001b[0m Trial 57 finished with value: 0.8015926295583338 and parameters: {'iterations': 10362, 'depth': 7, 'learning_rate': 0.0051832237347608145, 'random_strength': 14, 'od_wait': 1912, 'reg_lambda': 49.102057381020266, 'border_count': 170, 'min_child_samples': 3, 'leaf_estimation_iterations': 1, 'subsample': 0.8664575081032658}. Best is trial 54 with value: 0.8023750943882271.\u001b[0m\n",
      "\u001b[34m\u001b[1mwandb\u001b[0m: \u001b[33mWARNING\u001b[0m Step must only increase in log calls.  Step 57 < 58; dropping {'iterations': 10362, 'depth': 7, 'learning_rate': 0.0051832237347608145, 'random_strength': 14, 'od_wait': 1912, 'reg_lambda': 49.102057381020266, 'border_count': 170, 'min_child_samples': 3, 'leaf_estimation_iterations': 1, 'subsample': 0.8664575081032658, 'value': 0.8015926295583338}.\n"
     ]
    },
    {
     "name": "stdout",
     "output_type": "stream",
     "text": [
      "ROC AUC Score of CatBoost = 0.8015926295583338\n"
     ]
    },
    {
     "name": "stderr",
     "output_type": "stream",
     "text": [
      "\u001b[32m[I 2021-09-25 00:53:52,329]\u001b[0m Trial 58 finished with value: 0.8016356957596074 and parameters: {'iterations': 6173, 'depth': 6, 'learning_rate': 0.009112652728403687, 'random_strength': 10, 'od_wait': 1809, 'reg_lambda': 56.132582285661414, 'border_count': 190, 'min_child_samples': 2, 'leaf_estimation_iterations': 1, 'subsample': 0.9093481237240155}. Best is trial 54 with value: 0.8023750943882271.\u001b[0m\n",
      "\u001b[34m\u001b[1mwandb\u001b[0m: \u001b[33mWARNING\u001b[0m Step must only increase in log calls.  Step 58 < 59; dropping {'iterations': 6173, 'depth': 6, 'learning_rate': 0.009112652728403687, 'random_strength': 10, 'od_wait': 1809, 'reg_lambda': 56.132582285661414, 'border_count': 190, 'min_child_samples': 2, 'leaf_estimation_iterations': 1, 'subsample': 0.9093481237240155, 'value': 0.8016356957596074}.\n"
     ]
    },
    {
     "name": "stdout",
     "output_type": "stream",
     "text": [
      "ROC AUC Score of CatBoost = 0.8016356957596074\n"
     ]
    },
    {
     "name": "stderr",
     "output_type": "stream",
     "text": [
      "\u001b[32m[I 2021-09-25 00:55:37,796]\u001b[0m Trial 59 finished with value: 0.7981778368456874 and parameters: {'iterations': 8692, 'depth': 7, 'learning_rate': 0.001315318934767199, 'random_strength': 18, 'od_wait': 162, 'reg_lambda': 53.50732111402864, 'border_count': 124, 'min_child_samples': 5, 'leaf_estimation_iterations': 1, 'subsample': 0.9409265510149785}. Best is trial 54 with value: 0.8023750943882271.\u001b[0m\n",
      "\u001b[34m\u001b[1mwandb\u001b[0m: \u001b[33mWARNING\u001b[0m Step must only increase in log calls.  Step 59 < 60; dropping {'iterations': 8692, 'depth': 7, 'learning_rate': 0.001315318934767199, 'random_strength': 18, 'od_wait': 162, 'reg_lambda': 53.50732111402864, 'border_count': 124, 'min_child_samples': 5, 'leaf_estimation_iterations': 1, 'subsample': 0.9409265510149785, 'value': 0.7981778368456874}.\n"
     ]
    },
    {
     "name": "stdout",
     "output_type": "stream",
     "text": [
      "ROC AUC Score of CatBoost = 0.7981778368456874\n"
     ]
    },
    {
     "name": "stderr",
     "output_type": "stream",
     "text": [
      "\u001b[32m[I 2021-09-25 01:02:38,728]\u001b[0m Trial 60 finished with value: 0.7989889243163454 and parameters: {'iterations': 11192, 'depth': 9, 'learning_rate': 0.016807716019556374, 'random_strength': 1, 'od_wait': 1868, 'reg_lambda': 50.799099048340096, 'border_count': 139, 'min_child_samples': 3, 'leaf_estimation_iterations': 1, 'subsample': 0.8842314758795367}. Best is trial 54 with value: 0.8023750943882271.\u001b[0m\n",
      "\u001b[34m\u001b[1mwandb\u001b[0m: \u001b[33mWARNING\u001b[0m Step must only increase in log calls.  Step 60 < 61; dropping {'iterations': 11192, 'depth': 9, 'learning_rate': 0.016807716019556374, 'random_strength': 1, 'od_wait': 1868, 'reg_lambda': 50.799099048340096, 'border_count': 139, 'min_child_samples': 3, 'leaf_estimation_iterations': 1, 'subsample': 0.8842314758795367, 'value': 0.7989889243163454}.\n"
     ]
    },
    {
     "name": "stdout",
     "output_type": "stream",
     "text": [
      "ROC AUC Score of CatBoost = 0.7989889243163454\n"
     ]
    },
    {
     "name": "stderr",
     "output_type": "stream",
     "text": [
      "\u001b[32m[I 2021-09-25 01:03:42,574]\u001b[0m Trial 61 finished with value: 0.8012601044129839 and parameters: {'iterations': 7029, 'depth': 6, 'learning_rate': 0.009089949043609961, 'random_strength': 11, 'od_wait': 1788, 'reg_lambda': 56.46737337532389, 'border_count': 193, 'min_child_samples': 2, 'leaf_estimation_iterations': 1, 'subsample': 0.9130988018920214}. Best is trial 54 with value: 0.8023750943882271.\u001b[0m\n",
      "\u001b[34m\u001b[1mwandb\u001b[0m: \u001b[33mWARNING\u001b[0m Step must only increase in log calls.  Step 61 < 62; dropping {'iterations': 7029, 'depth': 6, 'learning_rate': 0.009089949043609961, 'random_strength': 11, 'od_wait': 1788, 'reg_lambda': 56.46737337532389, 'border_count': 193, 'min_child_samples': 2, 'leaf_estimation_iterations': 1, 'subsample': 0.9130988018920214, 'value': 0.8012601044129839}.\n"
     ]
    },
    {
     "name": "stdout",
     "output_type": "stream",
     "text": [
      "ROC AUC Score of CatBoost = 0.8012601044129839\n"
     ]
    },
    {
     "name": "stderr",
     "output_type": "stream",
     "text": [
      "\u001b[32m[I 2021-09-25 01:04:35,346]\u001b[0m Trial 62 finished with value: 0.8019619615389584 and parameters: {'iterations': 5908, 'depth': 6, 'learning_rate': 0.00646187667835546, 'random_strength': 6, 'od_wait': 1661, 'reg_lambda': 57.16911477818664, 'border_count': 181, 'min_child_samples': 2, 'leaf_estimation_iterations': 1, 'subsample': 0.9052173480616417}. Best is trial 54 with value: 0.8023750943882271.\u001b[0m\n",
      "\u001b[34m\u001b[1mwandb\u001b[0m: \u001b[33mWARNING\u001b[0m Step must only increase in log calls.  Step 62 < 63; dropping {'iterations': 5908, 'depth': 6, 'learning_rate': 0.00646187667835546, 'random_strength': 6, 'od_wait': 1661, 'reg_lambda': 57.16911477818664, 'border_count': 181, 'min_child_samples': 2, 'leaf_estimation_iterations': 1, 'subsample': 0.9052173480616417, 'value': 0.8019619615389584}.\n"
     ]
    },
    {
     "name": "stdout",
     "output_type": "stream",
     "text": [
      "ROC AUC Score of CatBoost = 0.8019619615389584\n"
     ]
    },
    {
     "name": "stderr",
     "output_type": "stream",
     "text": [
      "\u001b[32m[I 2021-09-25 01:05:37,868]\u001b[0m Trial 63 finished with value: 0.8008725820682594 and parameters: {'iterations': 4454, 'depth': 7, 'learning_rate': 0.0028605341428225724, 'random_strength': 5, 'od_wait': 1640, 'reg_lambda': 58.054229303545874, 'border_count': 167, 'min_child_samples': 3, 'leaf_estimation_iterations': 1, 'subsample': 0.9584197092830073}. Best is trial 54 with value: 0.8023750943882271.\u001b[0m\n",
      "\u001b[34m\u001b[1mwandb\u001b[0m: \u001b[33mWARNING\u001b[0m Step must only increase in log calls.  Step 63 < 64; dropping {'iterations': 4454, 'depth': 7, 'learning_rate': 0.0028605341428225724, 'random_strength': 5, 'od_wait': 1640, 'reg_lambda': 58.054229303545874, 'border_count': 167, 'min_child_samples': 3, 'leaf_estimation_iterations': 1, 'subsample': 0.9584197092830073, 'value': 0.8008725820682594}.\n"
     ]
    },
    {
     "name": "stdout",
     "output_type": "stream",
     "text": [
      "ROC AUC Score of CatBoost = 0.8008725820682594\n"
     ]
    },
    {
     "name": "stderr",
     "output_type": "stream",
     "text": [
      "\u001b[32m[I 2021-09-25 01:06:55,398]\u001b[0m Trial 64 finished with value: 0.8017356839887665 and parameters: {'iterations': 8892, 'depth': 6, 'learning_rate': 0.0046684302433468525, 'random_strength': 24, 'od_wait': 1684, 'reg_lambda': 53.86763742461129, 'border_count': 182, 'min_child_samples': 1, 'leaf_estimation_iterations': 1, 'subsample': 0.8455528367825303}. Best is trial 54 with value: 0.8023750943882271.\u001b[0m\n",
      "\u001b[34m\u001b[1mwandb\u001b[0m: \u001b[33mWARNING\u001b[0m Step must only increase in log calls.  Step 64 < 65; dropping {'iterations': 8892, 'depth': 6, 'learning_rate': 0.0046684302433468525, 'random_strength': 24, 'od_wait': 1684, 'reg_lambda': 53.86763742461129, 'border_count': 182, 'min_child_samples': 1, 'leaf_estimation_iterations': 1, 'subsample': 0.8455528367825303, 'value': 0.8017356839887665}.\n"
     ]
    },
    {
     "name": "stdout",
     "output_type": "stream",
     "text": [
      "ROC AUC Score of CatBoost = 0.8017356839887665\n"
     ]
    },
    {
     "name": "stderr",
     "output_type": "stream",
     "text": [
      "\u001b[32m[I 2021-09-25 01:08:15,864]\u001b[0m Trial 65 finished with value: 0.8010225570653248 and parameters: {'iterations': 9316, 'depth': 6, 'learning_rate': 0.005641020978354554, 'random_strength': 20, 'od_wait': 1932, 'reg_lambda': 44.842963096651445, 'border_count': 180, 'min_child_samples': 1, 'leaf_estimation_iterations': 1, 'subsample': 0.8480603694290504}. Best is trial 54 with value: 0.8023750943882271.\u001b[0m\n",
      "\u001b[34m\u001b[1mwandb\u001b[0m: \u001b[33mWARNING\u001b[0m Step must only increase in log calls.  Step 65 < 66; dropping {'iterations': 9316, 'depth': 6, 'learning_rate': 0.005641020978354554, 'random_strength': 20, 'od_wait': 1932, 'reg_lambda': 44.842963096651445, 'border_count': 180, 'min_child_samples': 1, 'leaf_estimation_iterations': 1, 'subsample': 0.8480603694290504, 'value': 0.8010225570653248}.\n"
     ]
    },
    {
     "name": "stdout",
     "output_type": "stream",
     "text": [
      "ROC AUC Score of CatBoost = 0.8010225570653248\n"
     ]
    },
    {
     "name": "stderr",
     "output_type": "stream",
     "text": [
      "\u001b[32m[I 2021-09-25 01:09:36,385]\u001b[0m Trial 66 finished with value: 0.801093261453086 and parameters: {'iterations': 8487, 'depth': 6, 'learning_rate': 0.006539910804951068, 'random_strength': 25, 'od_wait': 1692, 'reg_lambda': 51.66271191933908, 'border_count': 215, 'min_child_samples': 1, 'leaf_estimation_iterations': 1, 'subsample': 0.9231557849794658}. Best is trial 54 with value: 0.8023750943882271.\u001b[0m\n",
      "\u001b[34m\u001b[1mwandb\u001b[0m: \u001b[33mWARNING\u001b[0m Step must only increase in log calls.  Step 66 < 67; dropping {'iterations': 8487, 'depth': 6, 'learning_rate': 0.006539910804951068, 'random_strength': 25, 'od_wait': 1692, 'reg_lambda': 51.66271191933908, 'border_count': 215, 'min_child_samples': 1, 'leaf_estimation_iterations': 1, 'subsample': 0.9231557849794658, 'value': 0.801093261453086}.\n"
     ]
    },
    {
     "name": "stdout",
     "output_type": "stream",
     "text": [
      "ROC AUC Score of CatBoost = 0.801093261453086\n"
     ]
    },
    {
     "name": "stderr",
     "output_type": "stream",
     "text": [
      "\u001b[32m[I 2021-09-25 01:10:44,927]\u001b[0m Trial 67 finished with value: 0.8017232534168535 and parameters: {'iterations': 4450, 'depth': 7, 'learning_rate': 0.003931372079916722, 'random_strength': 7, 'od_wait': 1452, 'reg_lambda': 47.97614115384827, 'border_count': 206, 'min_child_samples': 1, 'leaf_estimation_iterations': 1, 'subsample': 0.8933930322231304}. Best is trial 54 with value: 0.8023750943882271.\u001b[0m\n",
      "\u001b[34m\u001b[1mwandb\u001b[0m: \u001b[33mWARNING\u001b[0m Step must only increase in log calls.  Step 67 < 68; dropping {'iterations': 4450, 'depth': 7, 'learning_rate': 0.003931372079916722, 'random_strength': 7, 'od_wait': 1452, 'reg_lambda': 47.97614115384827, 'border_count': 206, 'min_child_samples': 1, 'leaf_estimation_iterations': 1, 'subsample': 0.8933930322231304, 'value': 0.8017232534168535}.\n"
     ]
    },
    {
     "name": "stdout",
     "output_type": "stream",
     "text": [
      "ROC AUC Score of CatBoost = 0.8017232534168535\n"
     ]
    },
    {
     "name": "stderr",
     "output_type": "stream",
     "text": [
      "\u001b[32m[I 2021-09-25 01:12:08,555]\u001b[0m Trial 68 finished with value: 0.8017929145769481 and parameters: {'iterations': 10194, 'depth': 6, 'learning_rate': 0.0033970826824873267, 'random_strength': 23, 'od_wait': 483, 'reg_lambda': 39.244042309564975, 'border_count': 152, 'min_child_samples': 2, 'leaf_estimation_iterations': 1, 'subsample': 0.8664312709189004}. Best is trial 54 with value: 0.8023750943882271.\u001b[0m\n",
      "\u001b[34m\u001b[1mwandb\u001b[0m: \u001b[33mWARNING\u001b[0m Step must only increase in log calls.  Step 68 < 69; dropping {'iterations': 10194, 'depth': 6, 'learning_rate': 0.0033970826824873267, 'random_strength': 23, 'od_wait': 483, 'reg_lambda': 39.244042309564975, 'border_count': 152, 'min_child_samples': 2, 'leaf_estimation_iterations': 1, 'subsample': 0.8664312709189004, 'value': 0.8017929145769481}.\n"
     ]
    },
    {
     "name": "stdout",
     "output_type": "stream",
     "text": [
      "ROC AUC Score of CatBoost = 0.8017929145769481\n"
     ]
    },
    {
     "name": "stderr",
     "output_type": "stream",
     "text": [
      "\u001b[32m[I 2021-09-25 01:15:55,128]\u001b[0m Trial 69 finished with value: 0.8008238295415362 and parameters: {'iterations': 10465, 'depth': 8, 'learning_rate': 0.0016984831443142042, 'random_strength': 14, 'od_wait': 606, 'reg_lambda': 31.1280523479206, 'border_count': 150, 'min_child_samples': 20, 'leaf_estimation_iterations': 1, 'subsample': 0.8649602299202829}. Best is trial 54 with value: 0.8023750943882271.\u001b[0m\n",
      "\u001b[34m\u001b[1mwandb\u001b[0m: \u001b[33mWARNING\u001b[0m Step must only increase in log calls.  Step 69 < 70; dropping {'iterations': 10465, 'depth': 8, 'learning_rate': 0.0016984831443142042, 'random_strength': 14, 'od_wait': 606, 'reg_lambda': 31.1280523479206, 'border_count': 150, 'min_child_samples': 20, 'leaf_estimation_iterations': 1, 'subsample': 0.8649602299202829, 'value': 0.8008238295415362}.\n"
     ]
    },
    {
     "name": "stdout",
     "output_type": "stream",
     "text": [
      "ROC AUC Score of CatBoost = 0.8008238295415362\n"
     ]
    },
    {
     "name": "stderr",
     "output_type": "stream",
     "text": [
      "\u001b[32m[I 2021-09-25 01:17:29,924]\u001b[0m Trial 70 finished with value: 0.8016015925002569 and parameters: {'iterations': 11752, 'depth': 6, 'learning_rate': 0.0034660243033361247, 'random_strength': 22, 'od_wait': 417, 'reg_lambda': 37.196230843748054, 'border_count': 151, 'min_child_samples': 2, 'leaf_estimation_iterations': 1, 'subsample': 0.8204083601066885}. Best is trial 54 with value: 0.8023750943882271.\u001b[0m\n",
      "\u001b[34m\u001b[1mwandb\u001b[0m: \u001b[33mWARNING\u001b[0m Step must only increase in log calls.  Step 70 < 71; dropping {'iterations': 11752, 'depth': 6, 'learning_rate': 0.0034660243033361247, 'random_strength': 22, 'od_wait': 417, 'reg_lambda': 37.196230843748054, 'border_count': 151, 'min_child_samples': 2, 'leaf_estimation_iterations': 1, 'subsample': 0.8204083601066885, 'value': 0.8016015925002569}.\n"
     ]
    },
    {
     "name": "stdout",
     "output_type": "stream",
     "text": [
      "ROC AUC Score of CatBoost = 0.8016015925002569\n"
     ]
    },
    {
     "name": "stderr",
     "output_type": "stream",
     "text": [
      "\u001b[32m[I 2021-09-25 01:18:52,956]\u001b[0m Trial 71 finished with value: 0.8015310056592749 and parameters: {'iterations': 9826, 'depth': 6, 'learning_rate': 0.004803387974249516, 'random_strength': 29, 'od_wait': 693, 'reg_lambda': 54.28591309947244, 'border_count': 171, 'min_child_samples': 3, 'leaf_estimation_iterations': 1, 'subsample': 0.8465055705616155}. Best is trial 54 with value: 0.8023750943882271.\u001b[0m\n",
      "\u001b[34m\u001b[1mwandb\u001b[0m: \u001b[33mWARNING\u001b[0m Step must only increase in log calls.  Step 71 < 72; dropping {'iterations': 9826, 'depth': 6, 'learning_rate': 0.004803387974249516, 'random_strength': 29, 'od_wait': 693, 'reg_lambda': 54.28591309947244, 'border_count': 171, 'min_child_samples': 3, 'leaf_estimation_iterations': 1, 'subsample': 0.8465055705616155, 'value': 0.8015310056592749}.\n"
     ]
    },
    {
     "name": "stdout",
     "output_type": "stream",
     "text": [
      "ROC AUC Score of CatBoost = 0.8015310056592749\n"
     ]
    },
    {
     "name": "stderr",
     "output_type": "stream",
     "text": [
      "\u001b[32m[I 2021-09-25 01:20:23,521]\u001b[0m Trial 72 finished with value: 0.7985741311188187 and parameters: {'iterations': 6276, 'depth': 7, 'learning_rate': 0.0021592732302512605, 'random_strength': 22, 'od_wait': 1054, 'reg_lambda': 41.549466156717955, 'border_count': 184, 'min_child_samples': 3, 'leaf_estimation_iterations': 1, 'subsample': 0.8964271650220194}. Best is trial 54 with value: 0.8023750943882271.\u001b[0m\n",
      "\u001b[34m\u001b[1mwandb\u001b[0m: \u001b[33mWARNING\u001b[0m Step must only increase in log calls.  Step 72 < 73; dropping {'iterations': 6276, 'depth': 7, 'learning_rate': 0.0021592732302512605, 'random_strength': 22, 'od_wait': 1054, 'reg_lambda': 41.549466156717955, 'border_count': 184, 'min_child_samples': 3, 'leaf_estimation_iterations': 1, 'subsample': 0.8964271650220194, 'value': 0.7985741311188187}.\n"
     ]
    },
    {
     "name": "stdout",
     "output_type": "stream",
     "text": [
      "ROC AUC Score of CatBoost = 0.7985741311188187\n"
     ]
    },
    {
     "name": "stderr",
     "output_type": "stream",
     "text": [
      "\u001b[32m[I 2021-09-25 01:21:30,569]\u001b[0m Trial 73 finished with value: 0.8026764402503623 and parameters: {'iterations': 7866, 'depth': 6, 'learning_rate': 0.0028071894766990495, 'random_strength': 4, 'od_wait': 1828, 'reg_lambda': 38.01957015498314, 'border_count': 167, 'min_child_samples': 2, 'leaf_estimation_iterations': 1, 'subsample': 0.8724398159931641}. Best is trial 73 with value: 0.8026764402503623.\u001b[0m\n",
      "\u001b[34m\u001b[1mwandb\u001b[0m: \u001b[33mWARNING\u001b[0m Step must only increase in log calls.  Step 73 < 74; dropping {'iterations': 7866, 'depth': 6, 'learning_rate': 0.0028071894766990495, 'random_strength': 4, 'od_wait': 1828, 'reg_lambda': 38.01957015498314, 'border_count': 167, 'min_child_samples': 2, 'leaf_estimation_iterations': 1, 'subsample': 0.8724398159931641, 'value': 0.8026764402503623}.\n"
     ]
    },
    {
     "name": "stdout",
     "output_type": "stream",
     "text": [
      "ROC AUC Score of CatBoost = 0.8026764402503623\n"
     ]
    },
    {
     "name": "stderr",
     "output_type": "stream",
     "text": [
      "\u001b[32m[I 2021-09-25 01:23:13,997]\u001b[0m Trial 74 finished with value: 0.802315263077553 and parameters: {'iterations': 7767, 'depth': 7, 'learning_rate': 0.002954113358264932, 'random_strength': 4, 'od_wait': 1853, 'reg_lambda': 39.423659983530186, 'border_count': 163, 'min_child_samples': 2, 'leaf_estimation_iterations': 1, 'subsample': 0.8770584679621899}. Best is trial 73 with value: 0.8026764402503623.\u001b[0m\n",
      "\u001b[34m\u001b[1mwandb\u001b[0m: \u001b[33mWARNING\u001b[0m Step must only increase in log calls.  Step 74 < 75; dropping {'iterations': 7767, 'depth': 7, 'learning_rate': 0.002954113358264932, 'random_strength': 4, 'od_wait': 1853, 'reg_lambda': 39.423659983530186, 'border_count': 163, 'min_child_samples': 2, 'leaf_estimation_iterations': 1, 'subsample': 0.8770584679621899, 'value': 0.802315263077553}.\n"
     ]
    },
    {
     "name": "stdout",
     "output_type": "stream",
     "text": [
      "ROC AUC Score of CatBoost = 0.802315263077553\n"
     ]
    },
    {
     "name": "stderr",
     "output_type": "stream",
     "text": [
      "\u001b[32m[I 2021-09-25 01:26:12,719]\u001b[0m Trial 75 finished with value: 0.800318951431008 and parameters: {'iterations': 7838, 'depth': 8, 'learning_rate': 0.0012321148104320232, 'random_strength': 3, 'od_wait': 1820, 'reg_lambda': 37.286825211247205, 'border_count': 161, 'min_child_samples': 5, 'leaf_estimation_iterations': 1, 'subsample': 0.93224223653388}. Best is trial 73 with value: 0.8026764402503623.\u001b[0m\n",
      "\u001b[34m\u001b[1mwandb\u001b[0m: \u001b[33mWARNING\u001b[0m Step must only increase in log calls.  Step 75 < 76; dropping {'iterations': 7838, 'depth': 8, 'learning_rate': 0.0012321148104320232, 'random_strength': 3, 'od_wait': 1820, 'reg_lambda': 37.286825211247205, 'border_count': 161, 'min_child_samples': 5, 'leaf_estimation_iterations': 1, 'subsample': 0.93224223653388, 'value': 0.800318951431008}.\n"
     ]
    },
    {
     "name": "stdout",
     "output_type": "stream",
     "text": [
      "ROC AUC Score of CatBoost = 0.800318951431008\n"
     ]
    },
    {
     "name": "stderr",
     "output_type": "stream",
     "text": [
      "\u001b[32m[I 2021-09-25 01:27:22,259]\u001b[0m Trial 76 finished with value: 0.8009021156965637 and parameters: {'iterations': 4914, 'depth': 7, 'learning_rate': 0.0026831123401957783, 'random_strength': 9, 'od_wait': 1944, 'reg_lambda': 34.61240175418154, 'border_count': 164, 'min_child_samples': 3, 'leaf_estimation_iterations': 2, 'subsample': 0.9530675680347116}. Best is trial 73 with value: 0.8026764402503623.\u001b[0m\n",
      "\u001b[34m\u001b[1mwandb\u001b[0m: \u001b[33mWARNING\u001b[0m Step must only increase in log calls.  Step 76 < 77; dropping {'iterations': 4914, 'depth': 7, 'learning_rate': 0.0026831123401957783, 'random_strength': 9, 'od_wait': 1944, 'reg_lambda': 34.61240175418154, 'border_count': 164, 'min_child_samples': 3, 'leaf_estimation_iterations': 2, 'subsample': 0.9530675680347116, 'value': 0.8009021156965637}.\n"
     ]
    },
    {
     "name": "stdout",
     "output_type": "stream",
     "text": [
      "ROC AUC Score of CatBoost = 0.8009021156965637\n"
     ]
    },
    {
     "name": "stderr",
     "output_type": "stream",
     "text": [
      "\u001b[32m[I 2021-09-25 01:30:31,245]\u001b[0m Trial 77 finished with value: 0.8017454991448398 and parameters: {'iterations': 13721, 'depth': 7, 'learning_rate': 0.0019998977041154223, 'random_strength': 14, 'od_wait': 1861, 'reg_lambda': 27.194966306147286, 'border_count': 174, 'min_child_samples': 6, 'leaf_estimation_iterations': 1, 'subsample': 0.8735584637437976}. Best is trial 73 with value: 0.8026764402503623.\u001b[0m\n",
      "\u001b[34m\u001b[1mwandb\u001b[0m: \u001b[33mWARNING\u001b[0m Step must only increase in log calls.  Step 77 < 78; dropping {'iterations': 13721, 'depth': 7, 'learning_rate': 0.0019998977041154223, 'random_strength': 14, 'od_wait': 1861, 'reg_lambda': 27.194966306147286, 'border_count': 174, 'min_child_samples': 6, 'leaf_estimation_iterations': 1, 'subsample': 0.8735584637437976, 'value': 0.8017454991448398}.\n"
     ]
    },
    {
     "name": "stdout",
     "output_type": "stream",
     "text": [
      "ROC AUC Score of CatBoost = 0.8017454991448398\n"
     ]
    },
    {
     "name": "stderr",
     "output_type": "stream",
     "text": [
      "\u001b[32m[I 2021-09-25 01:31:29,523]\u001b[0m Trial 78 finished with value: 0.8020522668521711 and parameters: {'iterations': 6500, 'depth': 6, 'learning_rate': 0.004112952443866015, 'random_strength': 0, 'od_wait': 1768, 'reg_lambda': 44.48797667775599, 'border_count': 193, 'min_child_samples': 4, 'leaf_estimation_iterations': 2, 'subsample': 0.5727811139105738}. Best is trial 73 with value: 0.8026764402503623.\u001b[0m\n",
      "\u001b[34m\u001b[1mwandb\u001b[0m: \u001b[33mWARNING\u001b[0m Step must only increase in log calls.  Step 78 < 79; dropping {'iterations': 6500, 'depth': 6, 'learning_rate': 0.004112952443866015, 'random_strength': 0, 'od_wait': 1768, 'reg_lambda': 44.48797667775599, 'border_count': 193, 'min_child_samples': 4, 'leaf_estimation_iterations': 2, 'subsample': 0.5727811139105738, 'value': 0.8020522668521711}.\n"
     ]
    },
    {
     "name": "stdout",
     "output_type": "stream",
     "text": [
      "ROC AUC Score of CatBoost = 0.8020522668521711\n"
     ]
    },
    {
     "name": "stderr",
     "output_type": "stream",
     "text": [
      "\u001b[32m[I 2021-09-25 01:32:02,922]\u001b[0m Trial 79 finished with value: 0.8023488667630913 and parameters: {'iterations': 3637, 'depth': 6, 'learning_rate': 0.006837756942646595, 'random_strength': 0, 'od_wait': 1587, 'reg_lambda': 43.30294327158313, 'border_count': 194, 'min_child_samples': 4, 'leaf_estimation_iterations': 2, 'subsample': 0.526093815025377}. Best is trial 73 with value: 0.8026764402503623.\u001b[0m\n",
      "\u001b[34m\u001b[1mwandb\u001b[0m: \u001b[33mWARNING\u001b[0m Step must only increase in log calls.  Step 79 < 80; dropping {'iterations': 3637, 'depth': 6, 'learning_rate': 0.006837756942646595, 'random_strength': 0, 'od_wait': 1587, 'reg_lambda': 43.30294327158313, 'border_count': 194, 'min_child_samples': 4, 'leaf_estimation_iterations': 2, 'subsample': 0.526093815025377, 'value': 0.8023488667630913}.\n"
     ]
    },
    {
     "name": "stdout",
     "output_type": "stream",
     "text": [
      "ROC AUC Score of CatBoost = 0.8023488667630913\n"
     ]
    },
    {
     "name": "stderr",
     "output_type": "stream",
     "text": [
      "\u001b[32m[I 2021-09-25 01:32:32,852]\u001b[0m Trial 80 finished with value: 0.8018396688084228 and parameters: {'iterations': 2987, 'depth': 6, 'learning_rate': 0.006391399947922684, 'random_strength': 5, 'od_wait': 1758, 'reg_lambda': 44.252906982743994, 'border_count': 224, 'min_child_samples': 4, 'leaf_estimation_iterations': 2, 'subsample': 0.545103612344346}. Best is trial 73 with value: 0.8026764402503623.\u001b[0m\n",
      "\u001b[34m\u001b[1mwandb\u001b[0m: \u001b[33mWARNING\u001b[0m Step must only increase in log calls.  Step 80 < 81; dropping {'iterations': 2987, 'depth': 6, 'learning_rate': 0.006391399947922684, 'random_strength': 5, 'od_wait': 1758, 'reg_lambda': 44.252906982743994, 'border_count': 224, 'min_child_samples': 4, 'leaf_estimation_iterations': 2, 'subsample': 0.545103612344346, 'value': 0.8018396688084228}.\n"
     ]
    },
    {
     "name": "stdout",
     "output_type": "stream",
     "text": [
      "ROC AUC Score of CatBoost = 0.8018396688084228\n"
     ]
    },
    {
     "name": "stderr",
     "output_type": "stream",
     "text": [
      "\u001b[32m[I 2021-09-25 01:33:07,418]\u001b[0m Trial 81 finished with value: 0.8018799285803402 and parameters: {'iterations': 3270, 'depth': 6, 'learning_rate': 0.006885116048706893, 'random_strength': 0, 'od_wait': 1763, 'reg_lambda': 44.00508427445728, 'border_count': 251, 'min_child_samples': 4, 'leaf_estimation_iterations': 2, 'subsample': 0.5389052843729644}. Best is trial 73 with value: 0.8026764402503623.\u001b[0m\n",
      "\u001b[34m\u001b[1mwandb\u001b[0m: \u001b[33mWARNING\u001b[0m Step must only increase in log calls.  Step 81 < 82; dropping {'iterations': 3270, 'depth': 6, 'learning_rate': 0.006885116048706893, 'random_strength': 0, 'od_wait': 1763, 'reg_lambda': 44.00508427445728, 'border_count': 251, 'min_child_samples': 4, 'leaf_estimation_iterations': 2, 'subsample': 0.5389052843729644, 'value': 0.8018799285803402}.\n"
     ]
    },
    {
     "name": "stdout",
     "output_type": "stream",
     "text": [
      "ROC AUC Score of CatBoost = 0.8018799285803402\n"
     ]
    },
    {
     "name": "stderr",
     "output_type": "stream",
     "text": [
      "\u001b[32m[I 2021-09-25 01:33:42,539]\u001b[0m Trial 82 finished with value: 0.8021949833356135 and parameters: {'iterations': 3399, 'depth': 6, 'learning_rate': 0.00820591072423893, 'random_strength': 0, 'od_wait': 1798, 'reg_lambda': 39.7132156809469, 'border_count': 244, 'min_child_samples': 4, 'leaf_estimation_iterations': 2, 'subsample': 0.5153655547073683}. Best is trial 73 with value: 0.8026764402503623.\u001b[0m\n",
      "\u001b[34m\u001b[1mwandb\u001b[0m: \u001b[33mWARNING\u001b[0m Step must only increase in log calls.  Step 82 < 83; dropping {'iterations': 3399, 'depth': 6, 'learning_rate': 0.00820591072423893, 'random_strength': 0, 'od_wait': 1798, 'reg_lambda': 39.7132156809469, 'border_count': 244, 'min_child_samples': 4, 'leaf_estimation_iterations': 2, 'subsample': 0.5153655547073683, 'value': 0.8021949833356135}.\n"
     ]
    },
    {
     "name": "stdout",
     "output_type": "stream",
     "text": [
      "ROC AUC Score of CatBoost = 0.8021949833356135\n"
     ]
    },
    {
     "name": "stderr",
     "output_type": "stream",
     "text": [
      "\u001b[32m[I 2021-09-25 01:34:28,811]\u001b[0m Trial 83 finished with value: 0.8025745859660811 and parameters: {'iterations': 3978, 'depth': 6, 'learning_rate': 0.008274619597899338, 'random_strength': 3, 'od_wait': 1824, 'reg_lambda': 38.57087352103634, 'border_count': 270, 'min_child_samples': 5, 'leaf_estimation_iterations': 2, 'subsample': 0.5787009756859738}. Best is trial 73 with value: 0.8026764402503623.\u001b[0m\n",
      "\u001b[34m\u001b[1mwandb\u001b[0m: \u001b[33mWARNING\u001b[0m Step must only increase in log calls.  Step 83 < 84; dropping {'iterations': 3978, 'depth': 6, 'learning_rate': 0.008274619597899338, 'random_strength': 3, 'od_wait': 1824, 'reg_lambda': 38.57087352103634, 'border_count': 270, 'min_child_samples': 5, 'leaf_estimation_iterations': 2, 'subsample': 0.5787009756859738, 'value': 0.8025745859660811}.\n"
     ]
    },
    {
     "name": "stdout",
     "output_type": "stream",
     "text": [
      "ROC AUC Score of CatBoost = 0.8025745859660811\n"
     ]
    },
    {
     "name": "stderr",
     "output_type": "stream",
     "text": [
      "\u001b[32m[I 2021-09-25 01:34:58,363]\u001b[0m Trial 84 finished with value: 0.802155884338142 and parameters: {'iterations': 3882, 'depth': 5, 'learning_rate': 0.00871070577149589, 'random_strength': 3, 'od_wait': 1831, 'reg_lambda': 39.5432397472335, 'border_count': 259, 'min_child_samples': 5, 'leaf_estimation_iterations': 2, 'subsample': 0.579084343961112}. Best is trial 73 with value: 0.8026764402503623.\u001b[0m\n",
      "\u001b[34m\u001b[1mwandb\u001b[0m: \u001b[33mWARNING\u001b[0m Step must only increase in log calls.  Step 84 < 85; dropping {'iterations': 3882, 'depth': 5, 'learning_rate': 0.00871070577149589, 'random_strength': 3, 'od_wait': 1831, 'reg_lambda': 39.5432397472335, 'border_count': 259, 'min_child_samples': 5, 'leaf_estimation_iterations': 2, 'subsample': 0.579084343961112, 'value': 0.802155884338142}.\n"
     ]
    },
    {
     "name": "stdout",
     "output_type": "stream",
     "text": [
      "ROC AUC Score of CatBoost = 0.802155884338142\n"
     ]
    },
    {
     "name": "stderr",
     "output_type": "stream",
     "text": [
      "\u001b[32m[I 2021-09-25 01:35:23,959]\u001b[0m Trial 85 finished with value: 0.8024543356108365 and parameters: {'iterations': 2053, 'depth': 6, 'learning_rate': 0.019352324747013008, 'random_strength': 2, 'od_wait': 1982, 'reg_lambda': 39.83509495647616, 'border_count': 274, 'min_child_samples': 5, 'leaf_estimation_iterations': 2, 'subsample': 0.5784237473355691}. Best is trial 73 with value: 0.8026764402503623.\u001b[0m\n",
      "\u001b[34m\u001b[1mwandb\u001b[0m: \u001b[33mWARNING\u001b[0m Step must only increase in log calls.  Step 85 < 86; dropping {'iterations': 2053, 'depth': 6, 'learning_rate': 0.019352324747013008, 'random_strength': 2, 'od_wait': 1982, 'reg_lambda': 39.83509495647616, 'border_count': 274, 'min_child_samples': 5, 'leaf_estimation_iterations': 2, 'subsample': 0.5784237473355691, 'value': 0.8024543356108365}.\n"
     ]
    },
    {
     "name": "stdout",
     "output_type": "stream",
     "text": [
      "ROC AUC Score of CatBoost = 0.8024543356108365\n"
     ]
    },
    {
     "name": "stderr",
     "output_type": "stream",
     "text": [
      "\u001b[32m[I 2021-09-25 01:35:52,087]\u001b[0m Trial 86 finished with value: 0.8028094297378159 and parameters: {'iterations': 3663, 'depth': 5, 'learning_rate': 0.022755115592219457, 'random_strength': 3, 'od_wait': 1982, 'reg_lambda': 39.84241075349474, 'border_count': 272, 'min_child_samples': 5, 'leaf_estimation_iterations': 2, 'subsample': 0.5119498782192847}. Best is trial 86 with value: 0.8028094297378159.\u001b[0m\n",
      "\u001b[34m\u001b[1mwandb\u001b[0m: \u001b[33mWARNING\u001b[0m Step must only increase in log calls.  Step 86 < 87; dropping {'iterations': 3663, 'depth': 5, 'learning_rate': 0.022755115592219457, 'random_strength': 3, 'od_wait': 1982, 'reg_lambda': 39.84241075349474, 'border_count': 272, 'min_child_samples': 5, 'leaf_estimation_iterations': 2, 'subsample': 0.5119498782192847, 'value': 0.8028094297378159}.\n"
     ]
    },
    {
     "name": "stdout",
     "output_type": "stream",
     "text": [
      "ROC AUC Score of CatBoost = 0.8028094297378159\n"
     ]
    },
    {
     "name": "stderr",
     "output_type": "stream",
     "text": [
      "\u001b[32m[I 2021-09-25 01:36:21,193]\u001b[0m Trial 87 finished with value: 0.8013358486189084 and parameters: {'iterations': 3782, 'depth': 5, 'learning_rate': 0.02661142709451062, 'random_strength': 8, 'od_wait': 1986, 'reg_lambda': 39.97016264981456, 'border_count': 275, 'min_child_samples': 5, 'leaf_estimation_iterations': 2, 'subsample': 0.5265266545897644}. Best is trial 86 with value: 0.8028094297378159.\u001b[0m\n",
      "\u001b[34m\u001b[1mwandb\u001b[0m: \u001b[33mWARNING\u001b[0m Step must only increase in log calls.  Step 87 < 88; dropping {'iterations': 3782, 'depth': 5, 'learning_rate': 0.02661142709451062, 'random_strength': 8, 'od_wait': 1986, 'reg_lambda': 39.97016264981456, 'border_count': 275, 'min_child_samples': 5, 'leaf_estimation_iterations': 2, 'subsample': 0.5265266545897644, 'value': 0.8013358486189084}.\n"
     ]
    },
    {
     "name": "stdout",
     "output_type": "stream",
     "text": [
      "ROC AUC Score of CatBoost = 0.8013358486189084\n"
     ]
    },
    {
     "name": "stderr",
     "output_type": "stream",
     "text": [
      "\u001b[32m[I 2021-09-25 01:36:50,174]\u001b[0m Trial 88 finished with value: 0.7988770638624747 and parameters: {'iterations': 3863, 'depth': 5, 'learning_rate': 0.042512650173562254, 'random_strength': 3, 'od_wait': 1958, 'reg_lambda': 33.00876976112652, 'border_count': 257, 'min_child_samples': 7, 'leaf_estimation_iterations': 2, 'subsample': 0.5099071047312401}. Best is trial 86 with value: 0.8028094297378159.\u001b[0m\n",
      "\u001b[34m\u001b[1mwandb\u001b[0m: \u001b[33mWARNING\u001b[0m Step must only increase in log calls.  Step 88 < 89; dropping {'iterations': 3863, 'depth': 5, 'learning_rate': 0.042512650173562254, 'random_strength': 3, 'od_wait': 1958, 'reg_lambda': 33.00876976112652, 'border_count': 257, 'min_child_samples': 7, 'leaf_estimation_iterations': 2, 'subsample': 0.5099071047312401, 'value': 0.7988770638624747}.\n"
     ]
    },
    {
     "name": "stdout",
     "output_type": "stream",
     "text": [
      "ROC AUC Score of CatBoost = 0.7988770638624747\n"
     ]
    },
    {
     "name": "stderr",
     "output_type": "stream",
     "text": [
      "\u001b[32m[I 2021-09-25 01:37:08,629]\u001b[0m Trial 89 finished with value: 0.8021214872118434 and parameters: {'iterations': 2262, 'depth': 5, 'learning_rate': 0.019158768316953755, 'random_strength': 4, 'od_wait': 1876, 'reg_lambda': 37.00927649530334, 'border_count': 265, 'min_child_samples': 5, 'leaf_estimation_iterations': 2, 'subsample': 0.5926734482968737}. Best is trial 86 with value: 0.8028094297378159.\u001b[0m\n",
      "\u001b[34m\u001b[1mwandb\u001b[0m: \u001b[33mWARNING\u001b[0m Step must only increase in log calls.  Step 89 < 90; dropping {'iterations': 2262, 'depth': 5, 'learning_rate': 0.019158768316953755, 'random_strength': 4, 'od_wait': 1876, 'reg_lambda': 37.00927649530334, 'border_count': 265, 'min_child_samples': 5, 'leaf_estimation_iterations': 2, 'subsample': 0.5926734482968737, 'value': 0.8021214872118434}.\n"
     ]
    },
    {
     "name": "stdout",
     "output_type": "stream",
     "text": [
      "ROC AUC Score of CatBoost = 0.8021214872118434\n"
     ]
    },
    {
     "name": "stderr",
     "output_type": "stream",
     "text": [
      "\u001b[32m[I 2021-09-25 01:37:45,176]\u001b[0m Trial 90 finished with value: 0.8013682033699163 and parameters: {'iterations': 5377, 'depth': 5, 'learning_rate': 0.012760608111680945, 'random_strength': 2, 'od_wait': 1960, 'reg_lambda': 38.78850783618074, 'border_count': 243, 'min_child_samples': 6, 'leaf_estimation_iterations': 2, 'subsample': 0.5649893264918191}. Best is trial 86 with value: 0.8028094297378159.\u001b[0m\n",
      "\u001b[34m\u001b[1mwandb\u001b[0m: \u001b[33mWARNING\u001b[0m Step must only increase in log calls.  Step 90 < 91; dropping {'iterations': 5377, 'depth': 5, 'learning_rate': 0.012760608111680945, 'random_strength': 2, 'od_wait': 1960, 'reg_lambda': 38.78850783618074, 'border_count': 243, 'min_child_samples': 6, 'leaf_estimation_iterations': 2, 'subsample': 0.5649893264918191, 'value': 0.8013682033699163}.\n"
     ]
    },
    {
     "name": "stdout",
     "output_type": "stream",
     "text": [
      "ROC AUC Score of CatBoost = 0.8013682033699163\n"
     ]
    },
    {
     "name": "stderr",
     "output_type": "stream",
     "text": [
      "\u001b[32m[I 2021-09-25 01:38:01,813]\u001b[0m Trial 91 finished with value: 0.8029241260077378 and parameters: {'iterations': 2028, 'depth': 5, 'learning_rate': 0.01894945292658026, 'random_strength': 4, 'od_wait': 1895, 'reg_lambda': 36.31771727215521, 'border_count': 263, 'min_child_samples': 5, 'leaf_estimation_iterations': 2, 'subsample': 0.5882959573476197}. Best is trial 91 with value: 0.8029241260077378.\u001b[0m\n",
      "\u001b[34m\u001b[1mwandb\u001b[0m: \u001b[33mWARNING\u001b[0m Step must only increase in log calls.  Step 91 < 92; dropping {'iterations': 2028, 'depth': 5, 'learning_rate': 0.01894945292658026, 'random_strength': 4, 'od_wait': 1895, 'reg_lambda': 36.31771727215521, 'border_count': 263, 'min_child_samples': 5, 'leaf_estimation_iterations': 2, 'subsample': 0.5882959573476197, 'value': 0.8029241260077378}.\n"
     ]
    },
    {
     "name": "stdout",
     "output_type": "stream",
     "text": [
      "ROC AUC Score of CatBoost = 0.8029241260077378\n"
     ]
    },
    {
     "name": "stderr",
     "output_type": "stream",
     "text": [
      "\u001b[32m[I 2021-09-25 01:38:19,127]\u001b[0m Trial 92 finished with value: 0.8022229594690917 and parameters: {'iterations': 2114, 'depth': 5, 'learning_rate': 0.022206645744536076, 'random_strength': 7, 'od_wait': 1999, 'reg_lambda': 35.0008771424446, 'border_count': 268, 'min_child_samples': 7, 'leaf_estimation_iterations': 2, 'subsample': 0.5812225605442988}. Best is trial 91 with value: 0.8029241260077378.\u001b[0m\n",
      "\u001b[34m\u001b[1mwandb\u001b[0m: \u001b[33mWARNING\u001b[0m Step must only increase in log calls.  Step 92 < 93; dropping {'iterations': 2114, 'depth': 5, 'learning_rate': 0.022206645744536076, 'random_strength': 7, 'od_wait': 1999, 'reg_lambda': 35.0008771424446, 'border_count': 268, 'min_child_samples': 7, 'leaf_estimation_iterations': 2, 'subsample': 0.5812225605442988, 'value': 0.8022229594690917}.\n"
     ]
    },
    {
     "name": "stdout",
     "output_type": "stream",
     "text": [
      "ROC AUC Score of CatBoost = 0.8022229594690917\n"
     ]
    },
    {
     "name": "stderr",
     "output_type": "stream",
     "text": [
      "\u001b[32m[I 2021-09-25 01:38:43,780]\u001b[0m Trial 93 finished with value: 0.8017104261245601 and parameters: {'iterations': 2015, 'depth': 6, 'learning_rate': 0.021420437193086974, 'random_strength': 8, 'od_wait': 1989, 'reg_lambda': 30.77810523042246, 'border_count': 275, 'min_child_samples': 8, 'leaf_estimation_iterations': 2, 'subsample': 0.5166428838204505}. Best is trial 91 with value: 0.8029241260077378.\u001b[0m\n",
      "\u001b[34m\u001b[1mwandb\u001b[0m: \u001b[33mWARNING\u001b[0m Step must only increase in log calls.  Step 93 < 94; dropping {'iterations': 2015, 'depth': 6, 'learning_rate': 0.021420437193086974, 'random_strength': 8, 'od_wait': 1989, 'reg_lambda': 30.77810523042246, 'border_count': 275, 'min_child_samples': 8, 'leaf_estimation_iterations': 2, 'subsample': 0.5166428838204505, 'value': 0.8017104261245601}.\n"
     ]
    },
    {
     "name": "stdout",
     "output_type": "stream",
     "text": [
      "ROC AUC Score of CatBoost = 0.8017104261245601\n"
     ]
    },
    {
     "name": "stderr",
     "output_type": "stream",
     "text": [
      "\u001b[32m[I 2021-09-25 01:39:07,375]\u001b[0m Trial 94 finished with value: 0.8007621615624353 and parameters: {'iterations': 3017, 'depth': 5, 'learning_rate': 0.032826639075906106, 'random_strength': 6, 'od_wait': 1944, 'reg_lambda': 33.932810871495505, 'border_count': 266, 'min_child_samples': 7, 'leaf_estimation_iterations': 2, 'subsample': 0.6176243675794862}. Best is trial 91 with value: 0.8029241260077378.\u001b[0m\n",
      "\u001b[34m\u001b[1mwandb\u001b[0m: \u001b[33mWARNING\u001b[0m Step must only increase in log calls.  Step 94 < 95; dropping {'iterations': 3017, 'depth': 5, 'learning_rate': 0.032826639075906106, 'random_strength': 6, 'od_wait': 1944, 'reg_lambda': 33.932810871495505, 'border_count': 266, 'min_child_samples': 7, 'leaf_estimation_iterations': 2, 'subsample': 0.6176243675794862, 'value': 0.8007621615624353}.\n"
     ]
    },
    {
     "name": "stdout",
     "output_type": "stream",
     "text": [
      "ROC AUC Score of CatBoost = 0.8007621615624353\n"
     ]
    },
    {
     "name": "stderr",
     "output_type": "stream",
     "text": [
      "\u001b[32m[I 2021-09-25 01:40:00,028]\u001b[0m Trial 95 finished with value: 0.7994380558667811 and parameters: {'iterations': 4608, 'depth': 6, 'learning_rate': 0.025202115269366887, 'random_strength': 16, 'od_wait': 1905, 'reg_lambda': 27.697164098219506, 'border_count': 269, 'min_child_samples': 18, 'leaf_estimation_iterations': 2, 'subsample': 0.5281359735053375}. Best is trial 91 with value: 0.8029241260077378.\u001b[0m\n",
      "\u001b[34m\u001b[1mwandb\u001b[0m: \u001b[33mWARNING\u001b[0m Step must only increase in log calls.  Step 95 < 96; dropping {'iterations': 4608, 'depth': 6, 'learning_rate': 0.025202115269366887, 'random_strength': 16, 'od_wait': 1905, 'reg_lambda': 27.697164098219506, 'border_count': 269, 'min_child_samples': 18, 'leaf_estimation_iterations': 2, 'subsample': 0.5281359735053375, 'value': 0.7994380558667811}.\n"
     ]
    },
    {
     "name": "stdout",
     "output_type": "stream",
     "text": [
      "ROC AUC Score of CatBoost = 0.7994380558667811\n"
     ]
    },
    {
     "name": "stderr",
     "output_type": "stream",
     "text": [
      "\u001b[32m[I 2021-09-25 01:40:25,096]\u001b[0m Trial 96 finished with value: 0.80209831580297 and parameters: {'iterations': 3584, 'depth': 5, 'learning_rate': 0.014739267913990522, 'random_strength': 10, 'od_wait': 1872, 'reg_lambda': 35.715590694881065, 'border_count': 244, 'min_child_samples': 6, 'leaf_estimation_iterations': 2, 'subsample': 0.5005565106667309}. Best is trial 91 with value: 0.8029241260077378.\u001b[0m\n",
      "\u001b[34m\u001b[1mwandb\u001b[0m: \u001b[33mWARNING\u001b[0m Step must only increase in log calls.  Step 96 < 97; dropping {'iterations': 3584, 'depth': 5, 'learning_rate': 0.014739267913990522, 'random_strength': 10, 'od_wait': 1872, 'reg_lambda': 35.715590694881065, 'border_count': 244, 'min_child_samples': 6, 'leaf_estimation_iterations': 2, 'subsample': 0.5005565106667309, 'value': 0.80209831580297}.\n"
     ]
    },
    {
     "name": "stdout",
     "output_type": "stream",
     "text": [
      "ROC AUC Score of CatBoost = 0.80209831580297\n"
     ]
    },
    {
     "name": "stderr",
     "output_type": "stream",
     "text": [
      "\u001b[32m[I 2021-09-25 01:40:52,815]\u001b[0m Trial 97 finished with value: 0.8013854092797392 and parameters: {'iterations': 2353, 'depth': 6, 'learning_rate': 0.019068958501474914, 'random_strength': 0, 'od_wait': 1917, 'reg_lambda': 41.6276178010327, 'border_count': 260, 'min_child_samples': 10, 'leaf_estimation_iterations': 2, 'subsample': 0.5535492334311539}. Best is trial 91 with value: 0.8029241260077378.\u001b[0m\n",
      "\u001b[34m\u001b[1mwandb\u001b[0m: \u001b[33mWARNING\u001b[0m Step must only increase in log calls.  Step 97 < 98; dropping {'iterations': 2353, 'depth': 6, 'learning_rate': 0.019068958501474914, 'random_strength': 0, 'od_wait': 1917, 'reg_lambda': 41.6276178010327, 'border_count': 260, 'min_child_samples': 10, 'leaf_estimation_iterations': 2, 'subsample': 0.5535492334311539, 'value': 0.8013854092797392}.\n"
     ]
    },
    {
     "name": "stdout",
     "output_type": "stream",
     "text": [
      "ROC AUC Score of CatBoost = 0.8013854092797392\n"
     ]
    },
    {
     "name": "stderr",
     "output_type": "stream",
     "text": [
      "\u001b[32m[I 2021-09-25 01:42:19,754]\u001b[0m Trial 98 finished with value: 0.7951127164148244 and parameters: {'iterations': 5052, 'depth': 7, 'learning_rate': 0.06381613345558103, 'random_strength': 7, 'od_wait': 1992, 'reg_lambda': 38.10008746358754, 'border_count': 252, 'min_child_samples': 5, 'leaf_estimation_iterations': 2, 'subsample': 0.5378564167600625}. Best is trial 91 with value: 0.8029241260077378.\u001b[0m\n",
      "\u001b[34m\u001b[1mwandb\u001b[0m: \u001b[33mWARNING\u001b[0m Step must only increase in log calls.  Step 98 < 99; dropping {'iterations': 5052, 'depth': 7, 'learning_rate': 0.06381613345558103, 'random_strength': 7, 'od_wait': 1992, 'reg_lambda': 38.10008746358754, 'border_count': 252, 'min_child_samples': 5, 'leaf_estimation_iterations': 2, 'subsample': 0.5378564167600625, 'value': 0.7951127164148244}.\n"
     ]
    },
    {
     "name": "stdout",
     "output_type": "stream",
     "text": [
      "ROC AUC Score of CatBoost = 0.7951127164148244\n"
     ]
    },
    {
     "name": "stderr",
     "output_type": "stream",
     "text": [
      "\u001b[32m[I 2021-09-25 01:42:52,439]\u001b[0m Trial 99 finished with value: 0.800192676803323 and parameters: {'iterations': 2732, 'depth': 6, 'learning_rate': 0.03221334877855445, 'random_strength': 4, 'od_wait': 1709, 'reg_lambda': 32.70388391136099, 'border_count': 271, 'min_child_samples': 6, 'leaf_estimation_iterations': 2, 'subsample': 0.6484246829473108}. Best is trial 91 with value: 0.8029241260077378.\u001b[0m\n",
      "\u001b[34m\u001b[1mwandb\u001b[0m: \u001b[33mWARNING\u001b[0m Step must only increase in log calls.  Step 99 < 100; dropping {'iterations': 2732, 'depth': 6, 'learning_rate': 0.03221334877855445, 'random_strength': 4, 'od_wait': 1709, 'reg_lambda': 32.70388391136099, 'border_count': 271, 'min_child_samples': 6, 'leaf_estimation_iterations': 2, 'subsample': 0.6484246829473108, 'value': 0.800192676803323}.\n"
     ]
    },
    {
     "name": "stdout",
     "output_type": "stream",
     "text": [
      "ROC AUC Score of CatBoost = 0.800192676803323\n"
     ]
    }
   ],
   "source": [
    "for x in range(100):\n",
    "    study.optimize(objective, n_trials = 1, callbacks = [wandbc]) #n_jobs = multiprocessing.cpu_count())\n",
    "    dump(study, filename=datapath/f'optuna_catboost_study_thru_trial{x}_20210924.joblib')"
   ]
  },
  {
   "cell_type": "code",
   "execution_count": 18,
   "id": "27a746ff-c0e1-4218-8809-f102a58d2491",
   "metadata": {
    "id": "27a746ff-c0e1-4218-8809-f102a58d2491"
   },
   "outputs": [
    {
     "data": {
      "text/plain": [
       "['/media/sf/easystore/kaggle_data/tabular_playgrounds/sep2021/optuna_catboost_best_20210920.joblib']"
      ]
     },
     "execution_count": 18,
     "metadata": {},
     "output_type": "execute_result"
    }
   ],
   "source": [
    "dump(study.best_trial.params, filename=datapath/'optuna_catboost_best_20210920.joblib')\n",
    "# pickle.dump(study.best_trial.params, open('CatBoost_Hyperparameter.pickle', 'wb'))\n",
    "# print('CatBoost Hyperparameter:', study.best_trial.params)"
   ]
  },
  {
   "cell_type": "code",
   "execution_count": 19,
   "id": "f02e689e-b20c-48e5-a7d9-02467b4f3dbd",
   "metadata": {
    "id": "f02e689e-b20c-48e5-a7d9-02467b4f3dbd"
   },
   "outputs": [
    {
     "data": {
      "text/html": [
       "<br/>Waiting for W&B process to finish, PID 2788958<br/>Program ended successfully."
      ],
      "text/plain": [
       "<IPython.core.display.HTML object>"
      ]
     },
     "metadata": {},
     "output_type": "display_data"
    },
    {
     "data": {
      "application/vnd.jupyter.widget-view+json": {
       "model_id": "",
       "version_major": 2,
       "version_minor": 0
      },
      "text/plain": [
       "VBox(children=(Label(value=' 0.00MB of 0.00MB uploaded (0.00MB deduped)\\r'), FloatProgress(value=1.0, max=1.0)…"
      ]
     },
     "metadata": {},
     "output_type": "display_data"
    },
    {
     "data": {
      "text/html": [
       "Find user logs for this run at: <code>/home/sf/Dropbox/code_cloud/python_code/kaggle/tabular_playgrounds/sep2021/wandb/run-20210924_223107-272li27b/logs/debug.log</code>"
      ],
      "text/plain": [
       "<IPython.core.display.HTML object>"
      ]
     },
     "metadata": {},
     "output_type": "display_data"
    },
    {
     "data": {
      "text/html": [
       "Find internal logs for this run at: <code>/home/sf/Dropbox/code_cloud/python_code/kaggle/tabular_playgrounds/sep2021/wandb/run-20210924_223107-272li27b/logs/debug-internal.log</code>"
      ],
      "text/plain": [
       "<IPython.core.display.HTML object>"
      ]
     },
     "metadata": {},
     "output_type": "display_data"
    },
    {
     "data": {
      "text/html": [
       "<h3>Run summary:</h3><br/><style>\n",
       "    table.wandb td:nth-child(1) { padding: 0 10px; text-align: right }\n",
       "    </style><table class=\"wandb\">\n",
       "<tr><td>valid_AUC</td><td>0.80019</td></tr></table>"
      ],
      "text/plain": [
       "<IPython.core.display.HTML object>"
      ]
     },
     "metadata": {},
     "output_type": "display_data"
    },
    {
     "data": {
      "text/html": [
       "<h3>Run history:</h3><br/><style>\n",
       "    table.wandb td:nth-child(1) { padding: 0 10px; text-align: right }\n",
       "    </style><table class=\"wandb\">\n",
       "<tr><td>valid_AUC</td><td>▄▇▁▆▅▇▄▅▇▇▆▅▇▇▅▇▂▅▇▄▄▇▇▇▅▇▇▇▇█▇▇▇██▅█▇▇▆</td></tr></table><br/>"
      ],
      "text/plain": [
       "<IPython.core.display.HTML object>"
      ]
     },
     "metadata": {},
     "output_type": "display_data"
    },
    {
     "data": {
      "text/html": [
       "Synced 6 W&B file(s), 0 media file(s), 0 artifact file(s) and 0 other file(s)"
      ],
      "text/plain": [
       "<IPython.core.display.HTML object>"
      ]
     },
     "metadata": {},
     "output_type": "display_data"
    },
    {
     "data": {
      "text/html": [
       "\n",
       "                    <br/>Synced <strong style=\"color:#cdcd00\">sweep_catboost_20210924_223104</strong>: <a href=\"https://wandb.ai/hushifang/202109_Kaggle_tabular_playground/runs/272li27b\" target=\"_blank\">https://wandb.ai/hushifang/202109_Kaggle_tabular_playground/runs/272li27b</a><br/>\n",
       "                "
      ],
      "text/plain": [
       "<IPython.core.display.HTML object>"
      ]
     },
     "metadata": {},
     "output_type": "display_data"
    }
   ],
   "source": [
    "wandb.log({'catboost_params': study.best_trial.params})\n",
    "wandb.finish()"
   ]
  },
  {
   "cell_type": "code",
   "execution_count": 20,
   "id": "7a0ea613-d900-4a88-a071-98e171f4007b",
   "metadata": {},
   "outputs": [
    {
     "data": {
      "text/plain": [
       "{'iterations': 2028,\n",
       " 'depth': 5,\n",
       " 'learning_rate': 0.01894945292658026,\n",
       " 'random_strength': 4,\n",
       " 'od_wait': 1895,\n",
       " 'reg_lambda': 36.31771727215521,\n",
       " 'border_count': 263,\n",
       " 'min_child_samples': 5,\n",
       " 'leaf_estimation_iterations': 2,\n",
       " 'subsample': 0.5882959573476197}"
      ]
     },
     "execution_count": 20,
     "metadata": {},
     "output_type": "execute_result"
    }
   ],
   "source": [
    "study.best_trial.params"
   ]
  }
 ],
 "metadata": {
  "accelerator": "GPU",
  "colab": {
   "name": "sweep_catboost_20210924.ipynb",
   "provenance": []
  },
  "kernelspec": {
   "display_name": "Python 3",
   "language": "python",
   "name": "python3"
  },
  "language_info": {
   "codemirror_mode": {
    "name": "ipython",
    "version": 3
   },
   "file_extension": ".py",
   "mimetype": "text/x-python",
   "name": "python",
   "nbconvert_exporter": "python",
   "pygments_lexer": "ipython3",
   "version": "3.8.11"
  }
 },
 "nbformat": 4,
 "nbformat_minor": 5
}
