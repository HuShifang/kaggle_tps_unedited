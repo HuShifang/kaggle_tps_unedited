{
 "cells": [
  {
   "cell_type": "markdown",
   "id": "87e815d3-d755-4fa2-85a5-ea4df4948fcd",
   "metadata": {
    "tags": []
   },
   "source": [
    "# WideDeep Trainer\n",
    "Based on `nov2021/deeptrainer_20211127.ipynb`, with a trainer for `pytorch_widedeep` models. Last edited 20211202"
   ]
  },
  {
   "cell_type": "code",
   "execution_count": 1,
   "id": "a3659d2c-021e-4136-bf28-22f90fb19638",
   "metadata": {},
   "outputs": [],
   "source": [
    "# notebook configuration\n",
    "COLAB = False # will trigger manual installation of packages\n",
    "USE_GPU = True "
   ]
  },
  {
   "cell_type": "code",
   "execution_count": 2,
   "id": "c9f49323-d183-47c1-80a0-d89927de727f",
   "metadata": {},
   "outputs": [],
   "source": [
    "# basic imports\n",
    "from pathlib import Path\n",
    "import os\n",
    "import math\n",
    "from datetime import datetime\n",
    "import random"
   ]
  },
  {
   "cell_type": "code",
   "execution_count": 3,
   "id": "caf3b73f-0ead-4087-99c4-689286fb485a",
   "metadata": {},
   "outputs": [
    {
     "ename": "NameError",
     "evalue": "name 'datetime' is not defined",
     "output_type": "error",
     "traceback": [
      "\u001b[0;31m---------------------------------------------------------------------------\u001b[0m",
      "\u001b[0;31mNameError\u001b[0m                                 Traceback (most recent call last)",
      "\u001b[0;32m<ipython-input-3-1bad1651a985>\u001b[0m in \u001b[0;36m<module>\u001b[0;34m\u001b[0m\n\u001b[1;32m      1\u001b[0m \u001b[0mget_ipython\u001b[0m\u001b[0;34m(\u001b[0m\u001b[0;34m)\u001b[0m\u001b[0;34m.\u001b[0m\u001b[0mrun_line_magic\u001b[0m\u001b[0;34m(\u001b[0m\u001b[0;34m'matplotlib'\u001b[0m\u001b[0;34m,\u001b[0m \u001b[0;34m'inline'\u001b[0m\u001b[0;34m)\u001b[0m\u001b[0;34m\u001b[0m\u001b[0;34m\u001b[0m\u001b[0m\n\u001b[1;32m      2\u001b[0m \u001b[0mget_ipython\u001b[0m\u001b[0;34m(\u001b[0m\u001b[0;34m)\u001b[0m\u001b[0;34m.\u001b[0m\u001b[0mrun_line_magic\u001b[0m\u001b[0;34m(\u001b[0m\u001b[0;34m'config'\u001b[0m\u001b[0;34m,\u001b[0m \u001b[0;34m'Completer.use_jedi = False'\u001b[0m\u001b[0;34m)\u001b[0m\u001b[0;34m\u001b[0m\u001b[0;34m\u001b[0m\u001b[0m\n\u001b[0;32m----> 3\u001b[0;31m \u001b[0mos\u001b[0m\u001b[0;34m.\u001b[0m\u001b[0menviron\u001b[0m\u001b[0;34m[\u001b[0m\u001b[0;34m'WANDB_NOTEBOOK_NAME'\u001b[0m\u001b[0;34m]\u001b[0m \u001b[0;34m=\u001b[0m \u001b[0;34mf\"widedeep_trainer_{datetime.now().strftime('%Y%m%d')}.ipynb\"\u001b[0m\u001b[0;34m\u001b[0m\u001b[0;34m\u001b[0m\u001b[0m\n\u001b[0m",
      "\u001b[0;31mNameError\u001b[0m: name 'datetime' is not defined"
     ]
    }
   ],
   "source": [
    "%matplotlib inline\n",
    "%config Completer.use_jedi = False\n",
    "os.environ['WANDB_NOTEBOOK_NAME'] = f\"widedeep_trainer_{datetime.now().strftime('%Y%m%d')}.ipynb\""
   ]
  },
  {
   "cell_type": "markdown",
   "id": "e9a84d29-f0b3-4ca9-a192-87271aea5ef8",
   "metadata": {},
   "source": [
    "Now, non-stdlib imports"
   ]
  },
  {
   "cell_type": "code",
   "execution_count": 4,
   "id": "72880bda-ea85-4c71-9ec1-a43c7465b172",
   "metadata": {},
   "outputs": [
    {
     "data": {
      "text/html": [
       "<style type='text/css'>\n",
       ".datatable table.frame { margin-bottom: 0; }\n",
       ".datatable table.frame thead { border-bottom: none; }\n",
       ".datatable table.frame tr.coltypes td {  color: #FFFFFF;  line-height: 6px;  padding: 0 0.5em;}\n",
       ".datatable .bool    { background: #DDDD99; }\n",
       ".datatable .object  { background: #565656; }\n",
       ".datatable .int     { background: #5D9E5D; }\n",
       ".datatable .float   { background: #4040CC; }\n",
       ".datatable .str     { background: #CC4040; }\n",
       ".datatable .time    { background: #40CC40; }\n",
       ".datatable .row_index {  background: var(--jp-border-color3);  border-right: 1px solid var(--jp-border-color0);  color: var(--jp-ui-font-color3);  font-size: 9px;}\n",
       ".datatable .frame tbody td { text-align: left; }\n",
       ".datatable .frame tr.coltypes .row_index {  background: var(--jp-border-color0);}\n",
       ".datatable th:nth-child(2) { padding-left: 12px; }\n",
       ".datatable .hellipsis {  color: var(--jp-cell-editor-border-color);}\n",
       ".datatable .vellipsis {  background: var(--jp-layout-color0);  color: var(--jp-cell-editor-border-color);}\n",
       ".datatable .na {  color: var(--jp-cell-editor-border-color);  font-size: 80%;}\n",
       ".datatable .sp {  opacity: 0.25;}\n",
       ".datatable .footer { font-size: 9px; }\n",
       ".datatable .frame_dimensions {  background: var(--jp-border-color3);  border-top: 1px solid var(--jp-border-color0);  color: var(--jp-ui-font-color3);  display: inline-block;  opacity: 0.6;  padding: 1px 10px 1px 5px;}\n",
       "</style>\n"
      ],
      "text/plain": [
       "<IPython.core.display.HTML object>"
      ]
     },
     "metadata": {},
     "output_type": "display_data"
    }
   ],
   "source": [
    "import pandas as pd\n",
    "import numpy as np\n",
    "import matplotlib.pyplot as plt\n",
    "from tqdm.notebook import tqdm\n",
    "\n",
    "# general ML tooling\n",
    "from sklearn.model_selection import train_test_split, StratifiedKFold, KFold\n",
    "from sklearn.metrics import log_loss, roc_auc_score\n",
    "import wandb\n",
    "from wandb.xgboost import wandb_callback\n",
    "from wandb.lightgbm import wandb_callback\n",
    "from sklearn.impute import SimpleImputer #, KNNImputer\n",
    "\n",
    "import seaborn as sns\n",
    "\n",
    "from catboost import CatBoostClassifier\n",
    "from xgboost import XGBClassifier\n",
    "from lightgbm import LGBMClassifier\n",
    "# from sklearn.ensemble import StackingClassifier, RandomForestClassifier\n",
    "from sklearn.preprocessing import RobustScaler #StandardScaler #, MinMaxScaler, MaxAbsScaler, RobustScaler, PolynomialFeatures\n",
    "from sklearn.linear_model import LogisticRegression\n",
    "# from sklearn.feature_selection import SelectKBest, f_regression\n",
    "from joblib import dump, load\n",
    "# feature engineering tools\n",
    "# from sklearn.feature_selection import mutual_info_regression\n",
    "# import featuretools as ft\n",
    "\n",
    "from BorutaShap import BorutaShap"
   ]
  },
  {
   "cell_type": "code",
   "execution_count": 5,
   "id": "50b9817b-1ec7-409e-a31f-49c1af0bf077",
   "metadata": {},
   "outputs": [],
   "source": [
    "from pytorch_widedeep import Trainer\n",
    "from pytorch_widedeep.preprocessing import WidePreprocessor, TabPreprocessor\n",
    "from pytorch_widedeep.models import Wide, TabMlp, WideDeep#, SAINT, TabTransformer, TabNet, TabFastFormer, TabResnet\n",
    "from pytorch_widedeep.metrics import Accuracy\n",
    "from torchmetrics import AUROC\n",
    "import torch\n",
    "from torch.optim import Adam, AdamW, Adagrad, SGD, RMSprop, LBFGS\n",
    "from torch.optim.lr_scheduler import ReduceLROnPlateau, CosineAnnealingWarmRestarts, CyclicLR, OneCycleLR, StepLR, CosineAnnealingLR\n",
    "from pytorch_widedeep.callbacks import EarlyStopping, LRHistory, ModelCheckpoint"
   ]
  },
  {
   "cell_type": "code",
   "execution_count": 6,
   "id": "8452a322-f664-42f9-9f71-1873904ab594",
   "metadata": {},
   "outputs": [
    {
     "name": "stderr",
     "output_type": "stream",
     "text": [
      "`should_run_async` will not call `transform_cell` automatically in the future. Please pass the result to `transformed_cell` argument and any exception that happen during thetransform in `preprocessing_exc_tuple` in IPython 7.17 and above.\n",
      "Using or importing the ABCs from 'collections' instead of from 'collections.abc' is deprecated since Python 3.3, and in 3.10 it will stop working\n"
     ]
    }
   ],
   "source": [
    "# import category_encoders as ce"
   ]
  },
  {
   "cell_type": "markdown",
   "id": "d486d982-0b86-47c6-bfa9-44f3947523a2",
   "metadata": {},
   "source": [
    "Now, datapath setup"
   ]
  },
  {
   "cell_type": "code",
   "execution_count": 7,
   "id": "76d58199-b457-4508-8b46-a96b8bd188c9",
   "metadata": {},
   "outputs": [
    {
     "name": "stderr",
     "output_type": "stream",
     "text": [
      "`should_run_async` will not call `transform_cell` automatically in the future. Please pass the result to `transformed_cell` argument and any exception that happen during thetransform in `preprocessing_exc_tuple` in IPython 7.17 and above.\n"
     ]
    }
   ],
   "source": [
    "if COLAB:\n",
    "    # mount Google Drive\n",
    "    from google.colab import drive\n",
    "    drive.mount('/content/drive')\n",
    "    \n",
    "    # handling datapath\n",
    "    datapath = Path('/content/drive/MyDrive/kaggle/tabular_playgrounds/nov2021/')\n",
    "    \n",
    "else:\n",
    "    # if on local machine\n",
    "#     datapath = Path('/media/sf/easystore/kaggle_data/tabular_playgrounds/sep2021/')  \n",
    "    root = Path('/media/sf/easystore/kaggle_data/tabular_playgrounds/nov2021/')\n",
    "    datapath = root/'datasets'\n",
    "    # edapath = root/'EDA'\n",
    "    # modelpath = Path('/media/sf/easystore/kaggle_data/tabular_playgrounds/oct2021/models/')\n",
    "    predpath = root/'preds'\n",
    "    subpath = root/'submissions'\n",
    "    \n",
    "    for pth in [datapath, predpath, subpath]:\n",
    "        pth.mkdir(exist_ok=True)\n",
    "    \n"
   ]
  },
  {
   "cell_type": "markdown",
   "id": "7abf2649-483c-4eca-b2d9-a38b472d9c7c",
   "metadata": {},
   "source": [
    "## Helpers"
   ]
  },
  {
   "cell_type": "code",
   "execution_count": 8,
   "id": "c5d96f2e-826e-4860-bfd2-17c7d077ad82",
   "metadata": {},
   "outputs": [],
   "source": [
    "SEED = 42\n",
    "\n",
    "# Function to seed everything\n",
    "def seed_everything(seed, reproducible=True):\n",
    "    random.seed(seed)\n",
    "    np.random.seed(seed)\n",
    "    os.environ['PYTHONHASHSEED'] = str(seed)\n",
    "    # torch.manual_seed(seed) # set torch CPU seed\n",
    "    # if torch.cuda.is_available():\n",
    "    #     torch.cuda.manual_seed_all(seed) # set torch GPU(s) seed(s)\n",
    "    # if reproducible and torch.backends.cudnn.is_available():\n",
    "    #     torch.backends.cudnn.deterministic = True\n",
    "    #     torch.backends.cudnn.benchmark = False\n",
    "\n",
    "seed_everything(seed=SEED)"
   ]
  },
  {
   "cell_type": "code",
   "execution_count": 8,
   "id": "0fbfc9c1-2689-49c1-a58d-79889e9c824e",
   "metadata": {},
   "outputs": [],
   "source": [
    "def reduce_memory_usage(df, verbose=True):\n",
    "    numerics = [\"int8\", \"int16\", \"int32\", \"int64\", \"float16\", \"float32\", \"float64\"]\n",
    "    start_mem = df.memory_usage().sum() / 1024 ** 2\n",
    "    for col in df.columns:\n",
    "        col_type = df[col].dtypes\n",
    "        if col_type in numerics:\n",
    "            c_min = df[col].min()\n",
    "            c_max = df[col].max()\n",
    "            if str(col_type)[:3] == \"int\":\n",
    "                if c_min > np.iinfo(np.int8).min and c_max < np.iinfo(np.int8).max:\n",
    "                    df[col] = df[col].astype(np.int8)\n",
    "                elif c_min > np.iinfo(np.int16).min and c_max < np.iinfo(np.int16).max:\n",
    "                    df[col] = df[col].astype(np.int16)\n",
    "                elif c_min > np.iinfo(np.int32).min and c_max < np.iinfo(np.int32).max:\n",
    "                    df[col] = df[col].astype(np.int32)\n",
    "                elif c_min > np.iinfo(np.int64).min and c_max < np.iinfo(np.int64).max:\n",
    "                    df[col] = df[col].astype(np.int64)\n",
    "            else:\n",
    "                if (\n",
    "                    c_min > np.finfo(np.float16).min\n",
    "                    and c_max < np.finfo(np.float16).max\n",
    "                ):\n",
    "                    df[col] = df[col].astype(np.float16)\n",
    "                elif (\n",
    "                    c_min > np.finfo(np.float32).min\n",
    "                    and c_max < np.finfo(np.float32).max\n",
    "                ):\n",
    "                    df[col] = df[col].astype(np.float32)\n",
    "                else:\n",
    "                    df[col] = df[col].astype(np.float64)\n",
    "    end_mem = df.memory_usage().sum() / 1024 ** 2\n",
    "    if verbose:\n",
    "        print(\n",
    "            \"Mem. usage decreased to {:.2f} Mb ({:.1f}% reduction)\".format(\n",
    "                end_mem, 100 * (start_mem - end_mem) / start_mem\n",
    "            )\n",
    "        )\n",
    "    return df"
   ]
  },
  {
   "cell_type": "markdown",
   "id": "fcd1823f-d1be-4bf0-8f8c-748fddadbd9e",
   "metadata": {},
   "source": [
    "## Metadata"
   ]
  },
  {
   "cell_type": "code",
   "execution_count": 10,
   "id": "1ec98be3-ac70-4bd0-b11c-f1544a626bee",
   "metadata": {
    "tags": []
   },
   "outputs": [],
   "source": [
    "# dataset_params will initially include either trivial class instances or loaded, precomputed artifacts\n",
    "dataset_params = {\n",
    "    # 'train_source': str(datapath/'X-RobustScaled-pca_mle-umap_embedding_20211107-n_comp10-n_neighbors15-rs42.joblib'),\n",
    "    'train_source': str(datapath/'X_orig.feather'),\n",
    "    'target_source': str(datapath/'y_orig.joblib'),\n",
    "    # 'test_source': str(datapath/'X_test-RobustScaled-pca_mle-umap_embedding_20211107-n_comp10-n_neighbors15-rs42.joblib'),\n",
    "    'test_source': str(datapath/'X_test_orig-no_scaling.feather'),\n",
    "    # 'scaler': str(RobustScaler()),\n",
    "    # 'pca': str(load(datapath/'pca_mle-RobustScaled_orig_trainset.joblib')),\n",
    "    # 'umap': str(load(datapath/'umap_reducer-20211107-n_comp10-n_neighbors15-rs42-pca_mle-RobustScaled_orig_trainset.joblib')),\n",
    "}   \n",
    "\n",
    "# referring back to the already-entered attributes, specify how the pipeline was sequenced\n",
    "# dataset_params['preprocessing_pipeline'] = str([dataset_params['scaler'], dataset_params['pca'], dataset_params['umap']]) # ACTUALLY this is unwieldy\n",
    "# dataset_params['preprocessing_pipeline'] = '[scaler, pca, umap]' # more fragile, but also more readable\n",
    "\n",
    "# now, load the datasets and generate more metadata from them\n",
    "# X = load(dataset_params['train_source'])\n",
    "X = pd.read_feather(dataset_params['train_source'])\n",
    "y = load(dataset_params['target_source'])\n",
    "# X_test = load(dataset_params['test_source'])\n",
    "X_test = pd.read_feather(dataset_params['test_source'])\n",
    "\n",
    "dataset_params['feature_count'] = X.shape[1]\n",
    "dataset_params['instance_count'] = X.shape[0]\n",
    "    "
   ]
  },
  {
   "cell_type": "code",
   "execution_count": 11,
   "id": "2a2eebec-0844-4199-83ba-19734320dae0",
   "metadata": {},
   "outputs": [],
   "source": [
    "# meta-config for preprocessing and cross-validation, but NOT for model parameters\n",
    "exmodel_config = {\n",
    "#     \"feature_selector\": SelectKBest,\n",
    "#     \"k_best\": 80,\n",
    "#     \"feature_selection_scoring\": f_regression,\n",
    "#     'random_state': SEED,\n",
    "#     'feature_generation': ['NaN_counts', 'SummaryStats', 'NaN_OneHots'],\n",
    "#     'subsample': 1,\n",
    "    'cross_val_strategy': KFold, # None for holdout, or the relevant sklearn class\n",
    "    'kfolds': 5, # if 1, that means just doing holdout\n",
    "    'test_size': 0.2,\n",
    "    **dataset_params\n",
    "#     'features_created': False,\n",
    "#     'feature_creator': None,\n",
    "}"
   ]
  },
  {
   "cell_type": "markdown",
   "id": "817b9135-660e-4cbf-b769-7e75127f0cc3",
   "metadata": {},
   "source": [
    "# Preprocessing Data\n",
    "Inspired a bit by Laurent Pourchot's Aug2021 Tabular Playground entry, I'm going to try to generate two versions of the dataset: a categorical one, using bins, and then (for now) a GaussRankScaled one. In the future, I might add further variations, e.g. with feature reduction via PCA and perhaps also UMAP and also denoising; I might also try other normalizations, e.g. Quantile."
   ]
  },
  {
   "cell_type": "code",
   "execution_count": 13,
   "id": "2fee94d0-041a-4640-82c1-523738de6638",
   "metadata": {},
   "outputs": [
    {
     "name": "stderr",
     "output_type": "stream",
     "text": [
      "/home/sf/anaconda3/envs/tabular-x/lib/python3.8/site-packages/umap/__init__.py:9: ImportWarning: Tensorflow not installed; ParametricUMAP will be unavailable\n",
      "  warn(\n"
     ]
    }
   ],
   "source": [
    "from sklearn.decomposition import PCA\n",
    "import umap"
   ]
  },
  {
   "cell_type": "code",
   "execution_count": 14,
   "id": "031ae88d-dcab-4edc-afd1-12b6d3f56653",
   "metadata": {},
   "outputs": [
    {
     "name": "stderr",
     "output_type": "stream",
     "text": [
      "/home/sf/anaconda3/envs/tabular-x/lib/python3.8/site-packages/ipykernel/ipkernel.py:287: DeprecationWarning: `should_run_async` will not call `transform_cell` automatically in the future. Please pass the result to `transformed_cell` argument and any exception that happen during thetransform in `preprocessing_exc_tuple` in IPython 7.17 and above.\n",
      "  and should_run_async(code)\n"
     ]
    }
   ],
   "source": [
    "preprocessing_params = {\n",
    "    'binning': \"pd.qcut(X.iloc[:,i],X.shape[1],labels=False,duplicates = 'drop')\",\n",
    "    'scaling, normalization': str(GaussRankScaler(epsilon=0.005)),\n",
    "    # 'reduction': str(PCA(n_components='mle', random_state=42)),\n",
    "    'reduction': None,\n",
    "    'manifold': None,\n",
    "    # 'manifold': str(umap.UMAP(n_components=10, n_neighbors=15, random_state=42, transform_seed=42,)),\n",
    "    'clustering': None,\n",
    "}"
   ]
  },
  {
   "cell_type": "markdown",
   "id": "2b2ed94a-3b27-412b-804e-587094e1d27f",
   "metadata": {
    "tags": []
   },
   "source": [
    "## Binning (Generating wide cols)"
   ]
  },
  {
   "cell_type": "code",
   "execution_count": 15,
   "id": "abaf19a7-159f-466f-a5c2-d3fa57443af8",
   "metadata": {},
   "outputs": [],
   "source": [
    "# h/t Laurent Pourchot https://www.kaggle.com/pourchot/in-python-tabular-denoising-residual-network/\n",
    "if preprocessing_params['binning']:\n",
    "    # 100 bins for the bins head of the NN (i.e. percentiles):\n",
    "    X_bins = np.zeros((X.shape[0],X.shape[1])) # he used all available data for the first tuple entry, but I'll start like this\n",
    "    X_bins_test = np.zeros((X_test.shape[0], X_test.shape[1]))\n",
    "    for i in range(X.shape[1]): # assumes X is a pd.DataFrame\n",
    "        X_bins[:,i] = pd.qcut(X.iloc[:,i],X.shape[1],labels=False,duplicates = 'drop')\n",
    "        X_bins_test[:,i] = pd.qcut(X_test.iloc[:,i],X.shape[1],labels=False,duplicates = 'drop')\n",
    "    X_bins = X_bins.astype(np.int8)\n",
    "    X_bins_test = X_bins_test.astype(np.int8)\n",
    "    X_bins = pd.DataFrame(X_bins, index=X.index, columns=[f'rkd_f{col}' for col in range(100)])\n",
    "    X_bins_test = pd.DataFrame(X_bins_test, index=X_test.index, columns=[f'rkd_f{col}' for col in range(100)])"
   ]
  },
  {
   "cell_type": "markdown",
   "id": "f8116078-18e3-4391-bc66-5cf3d00f71f7",
   "metadata": {},
   "source": [
    "## Normalizing (Preprocessing Deep Cols)"
   ]
  },
  {
   "cell_type": "code",
   "execution_count": 16,
   "id": "56993a51-da51-40d0-9e7f-756534220098",
   "metadata": {},
   "outputs": [],
   "source": [
    "if preprocessing_params['scaling, normalization']:\n",
    "    scaler = GaussRankScaler(epsilon=0.005)\n",
    "    X_gauss = scaler.fit_transform(X)\n",
    "    X_gauss_test = scaler.transform(X_test)\n",
    "    X_gauss = pd.DataFrame(X_gauss, columns=X.columns, index=X.index)\n",
    "    X_gauss_test = pd.DataFrame(X_gauss_test, columns=X_test.columns, index=X_test.index)"
   ]
  },
  {
   "cell_type": "markdown",
   "id": "f0a5ef3f-392d-4210-a6e4-6e0375e80a13",
   "metadata": {},
   "source": [
    "## Reduction"
   ]
  },
  {
   "cell_type": "code",
   "execution_count": 17,
   "id": "65711458-8fdc-4264-a6cd-33bbd81a99d0",
   "metadata": {},
   "outputs": [
    {
     "name": "stderr",
     "output_type": "stream",
     "text": [
      "/home/sf/anaconda3/envs/tabular-x/lib/python3.8/site-packages/ipykernel/ipkernel.py:287: DeprecationWarning: `should_run_async` will not call `transform_cell` automatically in the future. Please pass the result to `transformed_cell` argument and any exception that happen during thetransform in `preprocessing_exc_tuple` in IPython 7.17 and above.\n",
      "  and should_run_async(code)\n"
     ]
    }
   ],
   "source": [
    "# if preprocessing_params['reduction']:\n",
    "#     from sklearn.decomposition import PCA\n",
    "#     pca = PCA(n_components='mle', random_state=42)\n",
    "#     X_pca = pca.fit_transform(X_gauss)\n",
    "#     # X_pca = pca.fit_transform(X)\n",
    "#     X_pca = pd.DataFrame(X_pca, index=X.index)\n",
    "#     import umap\n",
    "#     reducer = umap.UMAP(n_components=10, # low end of typical for feature reduction\n",
    "#                     n_neighbors=15, # default value\n",
    "#                     random_state=42,\n",
    "#                     transform_seed=42,\n",
    "#                    )\n",
    "#     umapper = reducer.fit(X_pca)\n",
    "#     embedding = reducer.transform(X_pca)\n",
    "#     embedding_df = pd.DataFrame(embedding,columns=[f'embed_{col}' for col in range(10)])\n",
    "#     X_gauss = X_gauss.join(embedding_df)\n",
    "#     # X = X.join(embedding_df)"
   ]
  },
  {
   "cell_type": "markdown",
   "id": "333abc9c-a059-4b86-a856-cfb7ff94868b",
   "metadata": {},
   "source": [
    "## X_pre"
   ]
  },
  {
   "cell_type": "code",
   "execution_count": 18,
   "id": "9048c9b1-8bd1-427b-a06f-f951532bd5e7",
   "metadata": {},
   "outputs": [],
   "source": [
    "X_pre = X_gauss.join(X_bins)\n",
    "X_pre_test = X_gauss_test.join(X_bins_test)"
   ]
  },
  {
   "cell_type": "code",
   "execution_count": 1,
   "id": "8eadcb29-4596-4afc-96e3-34e4b14b9962",
   "metadata": {},
   "outputs": [],
   "source": [
    "# pd.set_option('display.max_columns', None)\n",
    "# pd.set_option('display.max_rows', None)"
   ]
  },
  {
   "cell_type": "code",
   "execution_count": 2,
   "id": "0fe3688e-62ab-461b-ae25-2d201bf3ff44",
   "metadata": {},
   "outputs": [],
   "source": [
    "# X_pre_test.iloc[:, 100:].nunique()"
   ]
  },
  {
   "cell_type": "code",
   "execution_count": 22,
   "id": "716e3e17-c0e8-4fc1-81d2-eb625a322f9d",
   "metadata": {},
   "outputs": [],
   "source": [
    "# X_pre = pd.read_feather(datapath/'X_bins+GaussRankScaled+PCA,UMAP.feather')"
   ]
  },
  {
   "cell_type": "markdown",
   "id": "2f0d1d8c-ee99-4ef3-9dec-c1e2b6d4e54a",
   "metadata": {},
   "source": [
    "## Clustering"
   ]
  },
  {
   "cell_type": "markdown",
   "id": "4ba070d6-f21c-4678-87fb-0a24937e685e",
   "metadata": {},
   "source": [
    "(didn't do)"
   ]
  },
  {
   "cell_type": "markdown",
   "id": "f04ca6ea-9581-43c1-ba23-7cb1c5a1e430",
   "metadata": {},
   "source": [
    "## Preparing Data for WideDeep"
   ]
  },
  {
   "cell_type": "code",
   "execution_count": 25,
   "id": "558dad99-775d-4ed4-96be-e74cf0a67b78",
   "metadata": {},
   "outputs": [],
   "source": [
    "dataset_params['feature_count'] = X_pre.shape[1]\n",
    "dataset_params['instance_count'] = X_pre.shape[0]"
   ]
  },
  {
   "cell_type": "code",
   "execution_count": 26,
   "id": "d8b5a198-4f55-48ad-ab67-52b3742a7121",
   "metadata": {},
   "outputs": [
    {
     "name": "stderr",
     "output_type": "stream",
     "text": [
      "/home/sf/anaconda3/envs/tabular-x/lib/python3.8/site-packages/pytorch_widedeep/preprocessing/tab_preprocessor.py:179: UserWarning: Continuous columns will not be normalised\n",
      "  warnings.warn(\"Continuous columns will not be normalised\")\n"
     ]
    }
   ],
   "source": [
    "if 'widedeep' in exmodel_config['arch']:\n",
    "    cont_cols = X_pre.iloc[:,:100].columns # 110 if using PCA-UMAP embedding\n",
    "    wide_cols = X_pre.iloc[:, 100:].columns # 110 if using PCA-UMAP embedding\n",
    "    # # if not preprocessing\n",
    "    # X_wide = X_pre[wide_cols]\n",
    "    # X_tab = X_pre[cont_cols]\n",
    "    \n",
    "    # if preprocessing\n",
    "    wide_preprocessor = WidePreprocessor(wide_cols=wide_cols)\n",
    "    X_wide = wide_preprocessor.fit_transform(X_pre)\n",
    "    X_wide_test = wide_preprocessor.transform(X_pre_test)\n",
    "    # tab_preprocessor = TabPreprocessor(continuous_cols=cont_cols, scale=False, for_transformer=False,embed_cols=wide_cols) # for TabMLP\n",
    "    tab_preprocessor = TabPreprocessor(continuous_cols=cont_cols, scale=False, for_transformer=True,embed_cols=wide_cols) # for SAINT\n",
    "    X_tab = tab_preprocessor.fit_transform(X_pre)\n",
    "    X_tab_test = tab_preprocessor.transform(X_pre_test)\n",
    "    "
   ]
  },
  {
   "cell_type": "code",
   "execution_count": 27,
   "id": "8ccec002-593e-411e-9ca8-dd4387260f33",
   "metadata": {},
   "outputs": [],
   "source": [
    "widedeep_preprocessing_params = {\n",
    "        'wide': str(wide_preprocessor),\n",
    "        'deeptabular': str(tab_preprocessor),\n",
    "    }\n",
    "    \n",
    "preprocessing_params.update(widedeep_preprocessing_params)\n",
    "# print(preprocessing_params)"
   ]
  },
  {
   "cell_type": "code",
   "execution_count": 28,
   "id": "90886657-9928-4280-bb9e-dcaa777fc2ba",
   "metadata": {},
   "outputs": [
    {
     "data": {
      "text/plain": [
       "['/media/sf/easystore/kaggle_data/tabular_playgrounds/nov2021/datasets/X_tab_test_FIXED.joblib']"
      ]
     },
     "execution_count": 28,
     "metadata": {},
     "output_type": "execute_result"
    }
   ],
   "source": [
    "dump(X_wide_test, datapath/'X_wide_test_FIXED.joblib')\n",
    "dump(X_tab_test, datapath/'X_tab_test_FIXED.joblib')"
   ]
  },
  {
   "cell_type": "code",
   "execution_count": 29,
   "id": "ddf2e042-015b-4b99-909a-f1b9edbaf599",
   "metadata": {},
   "outputs": [],
   "source": [
    "# X_wide = load(datapath/'X_wide.joblib')\n",
    "# X_tab = load(datapath/'X_tab.joblib')\n",
    "# X_wide_test = load(datapath/'X_wide_test.joblib')\n",
    "# X_tab_test = load(datapath/'X_tab_test.joblib')\n",
    "# dump(cont_cols, datapath/'cont_cols.joblib')"
   ]
  },
  {
   "cell_type": "markdown",
   "id": "1b6eac14-220b-4c0e-b40c-e48584d46daf",
   "metadata": {},
   "source": [
    "# Config Spec"
   ]
  },
  {
   "cell_type": "code",
   "execution_count": 30,
   "id": "d647e8af-e065-4ea8-aa6c-5d158791904b",
   "metadata": {},
   "outputs": [],
   "source": [
    "# meta-config for preprocessing and cross-validation, but NOT for model parameters\n",
    "exmodel_config.update({\n",
    "#     \"feature_selector\": SelectKBest,\n",
    "#     \"k_best\": 80,\n",
    "#     \"feature_selection_scoring\": f_regression,\n",
    "#     'random_state': SEED,\n",
    "#     'feature_generation': ['NaN_counts', 'SummaryStats', 'NaN_OneHots'],\n",
    "#     'subsample': 1,\n",
    "    'cross_val_strategy': GroupKFold(n_splits=5, shuffle=True, random_state=SEED), # None for holdout, or the relevant sklearn class\n",
    "    'kfolds': 5, # if 1, that means just doing holdout\n",
    "    'test_size': 0.2,\n",
    "    **dataset_params,\n",
    "    **preprocessing_params\n",
    "#     'features_created': False,\n",
    "#     'feature_creator': None,\n",
    "})"
   ]
  },
  {
   "cell_type": "code",
   "execution_count": 31,
   "id": "e5402d98-7bcd-4e46-b85d-6b0129ca6e96",
   "metadata": {},
   "outputs": [],
   "source": [
    "# wandb config:\n",
    "wandb_config = {\n",
    "    'name': f\"{os.environ['WANDB_NOTEBOOK_NAME'][:-6]}_{datetime.now().strftime('%H%M%S')}\", # just removes the .ipynb extension, leaving the notebook filename's stem\n",
    "    'tags': ['widedeep', 'deeplearning'],\n",
    "    'notes': \"Attempt using SAINT, default model params.\"\n",
    "}"
   ]
  },
  {
   "cell_type": "code",
   "execution_count": null,
   "id": "7b715656-27ac-4c63-9657-0a5c3602c3f7",
   "metadata": {},
   "outputs": [],
   "source": []
  },
  {
   "cell_type": "code",
   "execution_count": 32,
   "id": "fc7a58e4-bb29-4267-9b6c-ef66f4beb6e4",
   "metadata": {},
   "outputs": [],
   "source": [
    "# X_pre_np = np.array(X_pre)"
   ]
  },
  {
   "cell_type": "code",
   "execution_count": 33,
   "id": "8ca6d90a-41f2-4b5c-bd6d-3d6b53d2ef35",
   "metadata": {},
   "outputs": [],
   "source": [
    "# deeptabular = TabMlp(continuous_cols=cont_cols, column_idx=tab_preprocessor.column_idx)\n",
    "# deeptabular = TabMlp(continuous_cols=list(range(110)), column_idx={str(x): x for x in range(len(cont_cols))})\n"
   ]
  },
  {
   "cell_type": "code",
   "execution_count": 34,
   "id": "e9111391-90a5-422e-928a-bd55598befcc",
   "metadata": {},
   "outputs": [
    {
     "data": {
      "text/plain": [
       "numpy.ndarray"
      ]
     },
     "execution_count": 34,
     "metadata": {},
     "output_type": "execute_result"
    }
   ],
   "source": [
    "type(X_wide)"
   ]
  },
  {
   "cell_type": "code",
   "execution_count": 35,
   "id": "ba89bb41-a06a-4302-9dad-71da88b38066",
   "metadata": {},
   "outputs": [
    {
     "data": {
      "text/plain": [
       "numpy.ndarray"
      ]
     },
     "execution_count": 35,
     "metadata": {},
     "output_type": "execute_result"
    }
   ],
   "source": [
    "type(X_tab)"
   ]
  },
  {
   "cell_type": "code",
   "execution_count": 41,
   "id": "bcf52554-e17b-4937-a57a-4c38c1c5c401",
   "metadata": {},
   "outputs": [
    {
     "name": "stderr",
     "output_type": "stream",
     "text": [
      "/home/sf/anaconda3/envs/tabular-x/lib/python3.8/site-packages/ipykernel/ipkernel.py:287: DeprecationWarning: `should_run_async` will not call `transform_cell` automatically in the future. Please pass the result to `transformed_cell` argument and any exception that happen during thetransform in `preprocessing_exc_tuple` in IPython 7.17 and above.\n",
      "  and should_run_async(code)\n"
     ]
    }
   ],
   "source": [
    "def cross_validate_widedeep(arch, X_wide=X_wide, X_tab=X_tab, y=y, X_wide_test=X_wide_test, X_tab_test=X_tab_test, folds=list(range(5)), \n",
    "                            prev_epochs=0, n_epochs=20, exmodel_config=exmodel_config, wandb_config=wandb_config, \n",
    "                            random_state=42, shuffle_kfolds=True, wandb_tracked=True):\n",
    "    \"\"\"\n",
    "    Modification of the `cross_validate_model` function used in my stacking notebooks, customized to the dataset and to deep learning approaches.\n",
    "    \"\"\"\n",
    "    \n",
    "    # prepare for k-fold cross-validation; random-state here is notebook-wide, not per-model\n",
    "    # shuffle on the initial sets, but not subsequently -- performing the same operation twice means a very different dataset\n",
    "    if shuffle_kfolds:\n",
    "        kfold = KFold(n_splits=5, shuffle=True, random_state=SEED)#exmodel_config['cross_val_strategy'](n_splits=exmodel_config['kfolds'], shuffle=True, random_state=SEED)\n",
    "    else:\n",
    "        kfold = exmodel_config['cross_val_strategy'](n_splits=exmodel_config['kfolds'], shuffle=False)\n",
    "    \n",
    "    if wandb_tracked:\n",
    "        exmodel_config['arch'] = 'widedeep-saint'\n",
    "        # exmodel_config[f'model_params'] = str(model.parameters())\n",
    "        wandb.init(\n",
    "            project=\"202111_Kaggle_tabular_playground\",\n",
    "            save_code=True,\n",
    "            tags=wandb_config['tags'],\n",
    "            name=wandb_config['name'],\n",
    "            notes=wandb_config['notes'],\n",
    "            config=exmodel_config\n",
    "    )   \n",
    "    \n",
    "    # initialize lists for out-of-fold preds and ground truth\n",
    "    oof_preds, oof_y = [], []\n",
    "    \n",
    "    \n",
    "    \n",
    "    # initialize a numpy.ndarray containing the fold-model's preds for test set\n",
    "    test_preds = np.zeros((X_test.shape[0]))\n",
    "    \n",
    "#     if start_fold == 4:\n",
    "#     # immediately extend to include predictions from the 0 fold, which had a code bug\n",
    "#         oof_preds.extend(load(predpath/'widedeep_saint-20211127-50epochs-fold0-oofpreds.joblib'))\n",
    "#         oof_preds.extend(load(predpath/'widedeep_saint-20211127-50epochs-fold1-oofpreds.joblib'))\n",
    "#         oof_preds.extend(load(predpath/'widedeep_saint-20211127-50epochs-fold2-oofpreds.joblib'))\n",
    "#         oof_preds.extend(load(predpath/'widedeep_saint-20211127-55epochs-fold3-oofpreds.joblib'))\n",
    "        \n",
    "#         oof_y.extend(load(datapath/'y_valid-fold0.joblib'))\n",
    "#         oof_y.extend(y[load(datapath/'kfold42-fold1-valid_ids.joblib')])\n",
    "#         oof_y.extend(y[load(datapath/'kfold42-fold2-valid_ids.joblib')])\n",
    "#         oof_y.extend(y[load(datapath/'kfold42-fold3-valid_ids.joblib')])\n",
    "        \n",
    "#         test_preds += load(predpath/'widedeep_saint-20211127-50epochs-fold0-testpreds.joblib')\n",
    "#         test_preds += load(predpath/'widedeep_saint-20211127-50epochs-fold1-testpreds.joblib')\n",
    "#         test_preds += load(predpath/'widedeep_saint-20211127-50epochs-fold2-testpreds.joblib')\n",
    "#         test_preds += load(predpath/'widedeep_saint-20211127-55epochs-fold3-testpreds.joblib')\n",
    "    \n",
    "    # print(f\"Before entering loop, oof_preds is length {len(oof_preds)}, oof_y is {len(oof_y)}, and test_preds is {test_preds.shape}\")\n",
    "    \n",
    "    for fold, (train_ids, valid_ids) in enumerate(kfold.split(X,y)):\n",
    "        torch.cuda.empty_cache()\n",
    "#         print(f\"type(train_ids) = {type(train_ids)} and train_ids.shape = {train_ids.shape}\")\n",
    "#         print(f\"type(valid_ids) = {type(valid_ids)} and train_ids.shape = {valid_ids.shape}\")\n",
    "        if fold not in folds: # skip folds that are already trained\n",
    "            continue\n",
    "        else:\n",
    "            print(f\"FOLD {fold}\")\n",
    "            print(\"---------------------------------------------------\")\n",
    "            dump(train_ids, datapath/f'kfold42-fold{fold}-train_ids.joblib')\n",
    "            dump(valid_ids, datapath/f'kfold42-fold{fold}-valid_ids.joblib')\n",
    "            y_train, y_valid = y[train_ids], y[valid_ids] # y will be an np.ndarray already; handling will be same regardless of model\n",
    "            print(f\"y_train shape is {y_train.shape}, y_valid shape is {y_valid.shape}\")\n",
    "            # dump(y_train, datapath/f'y_train-fold{fold}.joblib')\n",
    "            # dump(y_valid, datapath/f'y_valid-fold{fold}.joblib')\n",
    "            # if isinstance(X, np.ndarray):\n",
    "                # X_train, X_valid = X[train_ids], X[valid_ids]\n",
    "            X_train_wide, X_train_tab = X_wide[train_ids], X_tab[train_ids]\n",
    "            X_valid_wide, X_valid_tab = X_wide[valid_ids], X_tab[valid_ids]\n",
    "                \n",
    "                # X_train = pd.DataFrame(X_train, columns=\n",
    "            # else:\n",
    "            #     X_train_wide, X_train_tab = X_wide.iloc[train_ids,:], X_tab[train_ids,:]\n",
    "            #     X_valid_wide, X_valid_tab = X_wide[valid_ids,:], X_tab[valid_ids,:]\n",
    "            \n",
    "            # print(f\"X_train shape is {X_train.shape}\")\n",
    "            # print(f\"X_valid shape is {X_valid.shape}\")\n",
    "            # print(f\"X_test shape is {X_test.shape}\")\n",
    "            \n",
    "            # scaling\n",
    "            # scaler = GaussRankScaler()\n",
    "            # X_train = pd.DataFrame(scaler.fit_transform(X_train), columns=X.columns)\n",
    "            # X_valid = pd.DataFrame(scaler.transform(X_valid), columns=X.columns)\n",
    "            # X_test = pd.DataFrame(scaler.transform(X_test), columns=X.columns)\n",
    "            \n",
    "            # print(\"Scaling complete\")\n",
    "            # print(f\"X_train shape is {X_train.shape}\")\n",
    "            # print(f\"X_valid shape is {X_valid.shape}\")\n",
    "            # print(f\"X_test shape is {X_test.shape}\")\n",
    "            \n",
    "            # embedding & library-specific preprocessing\n",
    "#             tab_preprocessor = TabPreprocessor(\n",
    "#                 scale=False, # because GaussRank scaling already occurred\n",
    "#                 # scale=True\n",
    "#                 for_transformer=False, # change if using a Transformer-based model\n",
    "#                 continuous_cols=X.columns,\n",
    "#                 # continuous_cols=range(X.shape[1]), # since it'll be working on a numpy.ndarray\n",
    "#                 auto_embed_dim=True, # uses fastai's rule of thumb\n",
    "#             )#, embed_cols=embed_cols, )\n",
    "#             X_train = tab_preprocessor.fit_transform(X_train)   \n",
    "#             X_valid = tab_preprocessor.transform(X_valid)\n",
    "#             X_test = tab_preprocessor.transform(X_test)\n",
    "            \n",
    "#             print(\"Tab preprocessing complete.\")\n",
    "#             print(f\"Type of X_train is {type(X_train)}\")\n",
    "#             # print(f\"X_train shape is {X_train.shape}\")\n",
    "#             # print(f\"X_valid shape is {X_valid.shape}\")\n",
    "#             # print(f\"X_test shape is {X_test.shape}\")\n",
    "            \n",
    "#             # define model\n",
    "#             deeptabular = TabMlp(\n",
    "#                 mlp_hidden_dims=[64,32],\n",
    "#                 column_idx=tab_preprocessor.column_idx,\n",
    "#             #     embed_input=tab_preprocessor.embeddings_input,\n",
    "#                 # continuous_cols=range(X.shape[1]), # since it'll be working on a numpy.ndarray\n",
    "#                 continuous_cols=X.columns,\n",
    "#             )\n",
    "\n",
    "            if 'saint' in arch:\n",
    "                wide = Wide(wide_dim=np.unique(X_wide).shape[0], pred_dim=1)\n",
    "                deeptabular = SAINT(continuous_cols=cont_cols, column_idx=tab_preprocessor.column_idx,)\n",
    "                model = WideDeep(wide=wide, deeptabular=deeptabular)\n",
    "                if prev_epochs > 0:\n",
    "                    model.load_state_dict(torch.load(datapath/f\"{arch}-20211127-weights-{prev_epochs}epochs-fold{fold}/wd_model.pt\"))\n",
    "        \n",
    "                # n_epochs = 55\n",
    "\n",
    "                # model = WideDeep(wide=None, deeptabular=deeptabular)\n",
    "\n",
    "                # pytorch hyperparams\n",
    "                wide_opt = AdamW(model.wide.parameters(),)\n",
    "                deep_opt = SGD(model.deeptabular.parameters(),  lr=0.01, momentum=0.75)\n",
    "\n",
    "                wide_sch = CosineAnnealingWarmRestarts(optimizer=wide_opt, T_0=5) \n",
    "                deep_sch = ReduceLROnPlateau(optimizer=deep_opt, )\n",
    "\n",
    "                # deep_sch = OneCycleLR(optimizer=deep_opt, max_lr=0.01, steps_per_epoch=X_train_tab.shape[0], epochs=n_epochs)\n",
    "\n",
    "                # optimizers = {'deeptabular': deep_opt }\n",
    "                # lr_schedulers = {'deeptabular': deep_sch }\n",
    "\n",
    "                optimizers = {'wide': wide_opt, 'deeptabular': deep_opt }\n",
    "                lr_schedulers = {'wide': wide_sch, 'deeptabular': deep_sch }\n",
    "\n",
    "                callbacks = [\n",
    "                    LRHistory(n_epochs=n_epochs), \n",
    "                ]\n",
    "\n",
    "                # trainer\n",
    "                trainer = Trainer(model=model, \n",
    "                                  objective='binary', \n",
    "                                  metrics=[Accuracy], # with AUROC got TypeError: '>' not supported between instances of 'NoneType' and 'int' \n",
    "                                  seed=random_state, \n",
    "                                  optimizers=optimizers,\n",
    "                                  callbacks=callbacks\n",
    "                                 )\n",
    "                \n",
    "            else:\n",
    "                wide = Wide(wide_dim=np.unique(X_wide).shape[0], pred_dim=1)\n",
    "                deeptabular = TabMlp(continuous_cols=cont_cols, column_idx=tab_preprocessor.column_idx)\n",
    "                model = WideDeep(wide=wide, deeptabular=deeptabular)\n",
    "                \n",
    "                wide_opt = AdamW(model.wide.parameters(), lr=0.1)\n",
    "                deep_opt = AdamW(model.deeptabular.parameters(), lr=0.1)\n",
    "\n",
    "                wide_sch = OneCycleLR(optimizer=wide_opt, max_lr=0.01, steps_per_epoch=X_train_wide.shape[0], epochs=n_epochs)\n",
    "                deep_sch = OneCycleLR(optimizer=deep_opt, max_lr=0.01, steps_per_epoch=X_train_tab.shape[0], epochs=n_epochs)\n",
    "\n",
    "                optimizers = {'wide': wide_opt, 'deeptabular': deep_opt }\n",
    "                lr_schedulers = {'wide': wide_sch, 'deeptabular': deep_sch }\n",
    "\n",
    "\n",
    "                callbacks = [\n",
    "                    LRHistory(n_epochs=n_epochs), \n",
    "                ]\n",
    "\n",
    "                # trainer\n",
    "                trainer = Trainer(model=model, \n",
    "                                  objective='binary', \n",
    "                                  metrics=[Accuracy], # with AUROC got TypeError: '>' not supported between instances of 'NoneType' and 'int' \n",
    "                                  seed=42, \n",
    "                                  optimizers=optimizers,\n",
    "                                  callbacks=callbacks\n",
    "                                 )\n",
    "    #             print(f\"type(X_train_wide) is {type(X_train_wide)} and type(X_train_tab) is {type(X_train_tab)}\")\n",
    "            trainer.fit( \n",
    "                X_wide=X_train_wide,\n",
    "                X_tab=X_train_tab,# np.array(X_train),\n",
    "                target=np.array(y_train),\n",
    "                n_epochs=n_epochs,\n",
    "                batch_size=1048, # default value is 32\n",
    "    #                 val_split=0.2, # no need for this\n",
    "            )\n",
    "        \n",
    "            trainer.save(path=datapath/f'{arch}-20211127-weights-{prev_epochs + n_epochs}epochs-fold{fold}', save_state_dict=True)\n",
    "\n",
    "            y_valid_preds = trainer.predict_proba(X_wide=np.array(X_valid_wide), X_tab=np.array(X_valid_tab), batch_size=1048)[:,1]\n",
    "            dump(y_valid_preds, predpath/f'{arch}-20211127-{prev_epochs + n_epochs}epochs-fold{fold}-oofpreds.joblib')\n",
    "\n",
    "            # add the fold-model's OOF preds and ground truths to the out-of-loop lists\n",
    "            oof_preds.extend(y_valid_preds)\n",
    "            oof_y.extend(y_valid)\n",
    "\n",
    "\n",
    "            # test set inference\n",
    "            fold_test_preds = trainer.predict_proba(X_wide=np.array(X_wide_test), X_tab=np.array(X_tab_test), batch_size=1048)[:,1]\n",
    "            dump(fold_test_preds, predpath/f'{arch}-20211127-{prev_epochs + n_epochs}epochs-fold{fold}-testpreds.joblib')\n",
    "            test_preds += fold_test_preds\n",
    "            \n",
    "            # print(f\"NaNs in y_valid_preds: {np.isnan(y_valid_preds).any()}\")\n",
    "            # print(f\"NaNs in y_valid: {np.isnan(y_valid).any()}\")\n",
    "        \n",
    "        \n",
    "       \n",
    "        \n",
    "        \n",
    "\n",
    "    #         valid_loss = log_loss(y_valid, y_pred)\n",
    "            # give the valid AUC score, for edification\n",
    "            fold_valid_auc = roc_auc_score(y_valid, y_valid_preds)\n",
    "            if wandb_tracked:\n",
    "                wandb.log({f'fold{fold}_valid_roc_auc': fold_valid_auc})\n",
    "            print(f\"Valid AUC for fold {fold} is {fold_valid_auc}\")   \n",
    "        # dump(model, Path(runpath/f\"{arch}_fold{fold}_rs{random_state}_model.joblib\"))\n",
    "\n",
    "    if len(folds) == 5:\n",
    "        model_valid_auc = roc_auc_score(oof_y, oof_preds)\n",
    "        print(f\"Valid AUC score for {arch} model is {model_valid_auc}\")\n",
    "        if wandb_tracked:\n",
    "            wandb.log({'overall_valid_auc': model_valid_auc,\n",
    "                       'model_params': str(model.parameters()), #if 'widedeep' in arch else str(model.get_params()),\n",
    "                       'model_seed': random_state,\n",
    "                      })\n",
    "            wandb.finish()\n",
    "        # finalize test preds\n",
    "        test_preds /= exmodel_config['kfolds']\n",
    "        \n",
    "    else:\n",
    "        if wandb_tracked:\n",
    "                wandb.log({#'overall_valid_auc': model_valid_auc,\n",
    "                           'model_params': str(model.parameters()), #if 'widedeep' in arch else str(model.get_params()),\n",
    "                           'model_seed': random_state,\n",
    "                          })\n",
    "                wandb.finish()\n",
    "    \n",
    "    \n",
    "    # save OOF preds and test-set preds\n",
    "#     if 'widedeep' in arch:\n",
    "#         dump(oof_preds, Path(predpath/f\"{wandb_config['name']}_{arch}_{exmodel_config['kfolds']}folds_{n_epochs}epochs-per-fold_rs{random_state}_oof_preds.joblib\"))\n",
    "#         dump(test_preds, Path(predpath/f\"{wandb_config['name']}_{arch}_{exmodel_config['kfolds']}folds_{n_epochs}epochs-per-fold_rs{random_state}_test_preds.joblib\"))\n",
    "    \n",
    "#     else:\n",
    "#         dump(oof_preds, Path(predpath/f\"{wandb_config['name']}_{arch}_{exmodel_config['kfolds']}folds_rs{random_state}_oof_preds.joblib\"))\n",
    "#         dump(test_preds, Path(predpath/f\"{wandb_config['name']}_{arch}_{exmodel_config['kfolds']}folds_rs{random_state}_test_preds.joblib\"))\n",
    "    \n",
    "    if not (datapath/f\"{exmodel_config['kfolds']}folds_rs{SEED}_oof_y.joblib\").is_file():\n",
    "        dump(oof_y, predpath/f\"{exmodel_config['kfolds']}folds_rs{SEED}_oof_y.joblib\")\n",
    "    \n",
    "#     if wandb_tracked:\n",
    "# #         if 'widedeep' in arch:\n",
    "#         wandb.log({'model_valid_auc': model_valid_auc,\n",
    "# #                    'oof_preds': oof_preds,\n",
    "# #                    'test_preds': test_preds,\n",
    "#                    'model_params': str(model.parameters()) if 'widedeep' in arch else str(model.get_params()), \n",
    "#         #                    'model_params': str(model.get_params()),\n",
    "#         })\n",
    "# #         wandb.log({'model_valid_auc': model_valid_auc,\n",
    "# #                    'oof_preds': oof_preds,\n",
    "# #                    'test_preds': test_preds,\n",
    "# # #                    'model_params': str(model.get_params()),\n",
    "# #                   })\n",
    "#         wandb.finish()\n",
    "    return oof_preds, test_preds\n",
    "        "
   ]
  },
  {
   "cell_type": "code",
   "execution_count": 37,
   "id": "16776bcf-98e3-4534-a92d-937fd355fda2",
   "metadata": {},
   "outputs": [],
   "source": [
    "# dump(y_valid, datapath/'y_valid-fold0.joblib')"
   ]
  },
  {
   "cell_type": "code",
   "execution_count": 38,
   "id": "4e2f0245-26e2-495f-a108-c16f140bc302",
   "metadata": {},
   "outputs": [],
   "source": [
    "# dump(X_wide, datapath/'X_wide.joblib')\n",
    "# dump(X_tab, datapath/'X_tab.joblib')\n",
    "# dump(X_wide_test, datapath/'X_wide_test.joblib')\n",
    "# dump(X_tab_test, datapath/'X_tab_test.joblib')"
   ]
  },
  {
   "cell_type": "code",
   "execution_count": 39,
   "id": "de43c25e-ec29-41bc-b022-d344e64dc246",
   "metadata": {},
   "outputs": [],
   "source": [
    "del X_gauss, X_bins, X_pre"
   ]
  },
  {
   "cell_type": "code",
   "execution_count": null,
   "id": "fe178966-df55-4c8a-a1c5-b306cea61175",
   "metadata": {
    "tags": []
   },
   "outputs": [
    {
     "data": {
      "text/html": [
       "Finishing last run (ID:1vhi9tsq) before initializing another..."
      ],
      "text/plain": [
       "<IPython.core.display.HTML object>"
      ]
     },
     "metadata": {},
     "output_type": "display_data"
    },
    {
     "data": {
      "text/html": [
       "<br/>Waiting for W&B process to finish, PID 44202... <strong style=\"color:green\">(success).</strong>"
      ],
      "text/plain": [
       "<IPython.core.display.HTML object>"
      ]
     },
     "metadata": {},
     "output_type": "display_data"
    },
    {
     "data": {
      "application/vnd.jupyter.widget-view+json": {
       "model_id": "",
       "version_major": 2,
       "version_minor": 0
      },
      "text/plain": [
       "VBox(children=(Label(value=' 0.00MB of 0.00MB uploaded (0.00MB deduped)\\r'), FloatProgress(value=1.0, max=1.0)…"
      ]
     },
     "metadata": {},
     "output_type": "display_data"
    },
    {
     "data": {
      "text/html": [
       "<style>\n",
       "    table.wandb td:nth-child(1) { padding: 0 10px; text-align: right }\n",
       "    .wandb-row { display: flex; flex-direction: row; flex-wrap: wrap; width: 100% }\n",
       "    .wandb-col { display: flex; flex-direction: column; flex-basis: 100%; flex: 1; padding: 10px; }\n",
       "    </style>\n",
       "<div class=\"wandb-row\"><div class=\"wandb-col\">\n",
       "</div><div class=\"wandb-col\">\n",
       "</div></div>\n",
       "Synced 6 W&B file(s), 0 media file(s), 0 artifact file(s) and 1 other file(s)\n",
       "<br/>Synced <strong style=\"color:#cdcd00\">deeptrainer_20211130_150740</strong>: <a href=\"https://wandb.ai/hushifang/202111_Kaggle_tabular_playground/runs/1vhi9tsq\" target=\"_blank\">https://wandb.ai/hushifang/202111_Kaggle_tabular_playground/runs/1vhi9tsq</a><br/>\n",
       "Find logs at: <code>./wandb/run-20211130_150741-1vhi9tsq/logs</code><br/>\n"
      ],
      "text/plain": [
       "<IPython.core.display.HTML object>"
      ]
     },
     "metadata": {},
     "output_type": "display_data"
    },
    {
     "data": {
      "text/html": [
       "Successfully finished last run (ID:1vhi9tsq). Initializing new run:<br/>"
      ],
      "text/plain": [
       "<IPython.core.display.HTML object>"
      ]
     },
     "metadata": {},
     "output_type": "display_data"
    },
    {
     "name": "stderr",
     "output_type": "stream",
     "text": [
      "\u001b[34m\u001b[1mwandb\u001b[0m: wandb version 0.12.7 is available!  To upgrade, please run:\n",
      "\u001b[34m\u001b[1mwandb\u001b[0m:  $ pip install wandb --upgrade\n"
     ]
    },
    {
     "data": {
      "text/html": [
       "\n",
       "                    Syncing run <strong><a href=\"https://wandb.ai/hushifang/202111_Kaggle_tabular_playground/runs/19mtwhb7\" target=\"_blank\">deeptrainer_20211130_150740</a></strong> to <a href=\"https://wandb.ai/hushifang/202111_Kaggle_tabular_playground\" target=\"_blank\">Weights & Biases</a> (<a href=\"https://docs.wandb.com/integrations/jupyter.html\" target=\"_blank\">docs</a>).<br/>\n",
       "\n",
       "                "
      ],
      "text/plain": [
       "<IPython.core.display.HTML object>"
      ]
     },
     "metadata": {},
     "output_type": "display_data"
    },
    {
     "name": "stdout",
     "output_type": "stream",
     "text": [
      "FOLD 0\n",
      "---------------------------------------------------\n",
      "y_train shape is (480000,), y_valid shape is (120000,)\n"
     ]
    },
    {
     "name": "stderr",
     "output_type": "stream",
     "text": [
      "epoch 1: 100%|██████████| 459/459 [00:06<00:00, 73.01it/s, loss=1.35, metrics={'acc': 0.7301}]\n",
      "epoch 2: 100%|██████████| 459/459 [00:06<00:00, 73.05it/s, loss=0.991, metrics={'acc': 0.8011}]\n",
      "epoch 3: 100%|██████████| 459/459 [00:05<00:00, 77.29it/s, loss=0.873, metrics={'acc': 0.8184}]\n",
      "epoch 4: 100%|██████████| 459/459 [00:05<00:00, 76.77it/s, loss=0.806, metrics={'acc': 0.8255}]\n",
      "epoch 5: 100%|██████████| 459/459 [00:06<00:00, 74.75it/s, loss=0.747, metrics={'acc': 0.8312}]\n",
      "epoch 6: 100%|██████████| 459/459 [00:06<00:00, 75.89it/s, loss=0.695, metrics={'acc': 0.8362}]\n",
      "epoch 7: 100%|██████████| 459/459 [00:05<00:00, 78.12it/s, loss=0.65, metrics={'acc': 0.8398}] \n",
      "epoch 8: 100%|██████████| 459/459 [00:05<00:00, 77.12it/s, loss=0.607, metrics={'acc': 0.8429}]\n",
      "epoch 9: 100%|██████████| 459/459 [00:05<00:00, 78.88it/s, loss=0.568, metrics={'acc': 0.8461}]\n",
      "epoch 10: 100%|██████████| 459/459 [00:05<00:00, 81.23it/s, loss=0.528, metrics={'acc': 0.8506}]\n",
      "epoch 11: 100%|██████████| 459/459 [00:05<00:00, 78.23it/s, loss=0.493, metrics={'acc': 0.854}] \n",
      "epoch 12: 100%|██████████| 459/459 [00:05<00:00, 78.45it/s, loss=0.457, metrics={'acc': 0.8585}]\n",
      "epoch 13: 100%|██████████| 459/459 [00:05<00:00, 77.15it/s, loss=0.425, metrics={'acc': 0.8625}]\n",
      "epoch 14: 100%|██████████| 459/459 [00:05<00:00, 78.67it/s, loss=0.392, metrics={'acc': 0.8673}]\n",
      "epoch 15: 100%|██████████| 459/459 [00:06<00:00, 74.95it/s, loss=0.367, metrics={'acc': 0.871}] \n",
      "epoch 16: 100%|██████████| 459/459 [00:05<00:00, 80.39it/s, loss=0.34, metrics={'acc': 0.8753}] \n",
      "epoch 17: 100%|██████████| 459/459 [00:05<00:00, 79.90it/s, loss=0.319, metrics={'acc': 0.8796}]\n",
      "epoch 18: 100%|██████████| 459/459 [00:05<00:00, 80.76it/s, loss=0.295, metrics={'acc': 0.8846}]\n",
      "epoch 19: 100%|██████████| 459/459 [00:05<00:00, 79.84it/s, loss=0.277, metrics={'acc': 0.8894}]\n",
      "epoch 20: 100%|██████████| 459/459 [00:05<00:00, 78.92it/s, loss=0.259, metrics={'acc': 0.894}] \n",
      "epoch 21: 100%|██████████| 459/459 [00:05<00:00, 82.16it/s, loss=0.243, metrics={'acc': 0.8988}]\n",
      "epoch 22: 100%|██████████| 459/459 [00:05<00:00, 78.92it/s, loss=0.23, metrics={'acc': 0.9032}] \n",
      "epoch 23: 100%|██████████| 459/459 [00:05<00:00, 80.53it/s, loss=0.217, metrics={'acc': 0.9075}]\n",
      "epoch 24: 100%|██████████| 459/459 [00:05<00:00, 77.44it/s, loss=0.204, metrics={'acc': 0.9118}]\n",
      "epoch 25: 100%|██████████| 459/459 [00:05<00:00, 78.59it/s, loss=0.196, metrics={'acc': 0.9155}]\n",
      "epoch 26: 100%|██████████| 459/459 [00:06<00:00, 76.23it/s, loss=0.187, metrics={'acc': 0.9198}]\n",
      "epoch 27: 100%|██████████| 459/459 [00:05<00:00, 80.17it/s, loss=0.179, metrics={'acc': 0.9233}]\n",
      "epoch 28: 100%|██████████| 459/459 [00:05<00:00, 79.96it/s, loss=0.174, metrics={'acc': 0.9263}]\n",
      "epoch 29: 100%|██████████| 459/459 [00:05<00:00, 76.81it/s, loss=0.168, metrics={'acc': 0.9288}]\n",
      "epoch 30: 100%|██████████| 459/459 [00:05<00:00, 79.65it/s, loss=0.165, metrics={'acc': 0.931}] \n",
      "epoch 31: 100%|██████████| 459/459 [00:05<00:00, 77.93it/s, loss=0.161, metrics={'acc': 0.9337}]\n",
      "epoch 32: 100%|██████████| 459/459 [00:05<00:00, 78.52it/s, loss=0.158, metrics={'acc': 0.9353}]\n",
      "epoch 33: 100%|██████████| 459/459 [00:05<00:00, 77.76it/s, loss=0.155, metrics={'acc': 0.9375}]\n",
      "epoch 34: 100%|██████████| 459/459 [00:06<00:00, 73.61it/s, loss=0.152, metrics={'acc': 0.939}] \n",
      "epoch 35: 100%|██████████| 459/459 [00:06<00:00, 69.83it/s, loss=0.15, metrics={'acc': 0.9403}] \n",
      "epoch 36: 100%|██████████| 459/459 [00:06<00:00, 72.69it/s, loss=0.148, metrics={'acc': 0.9417}]\n",
      "epoch 37: 100%|██████████| 459/459 [00:05<00:00, 77.31it/s, loss=0.145, metrics={'acc': 0.9431}]\n",
      "epoch 38: 100%|██████████| 459/459 [00:06<00:00, 76.16it/s, loss=0.144, metrics={'acc': 0.9443}]\n",
      "epoch 39: 100%|██████████| 459/459 [00:05<00:00, 77.88it/s, loss=0.141, metrics={'acc': 0.9454}]\n",
      "epoch 40: 100%|██████████| 459/459 [00:06<00:00, 70.66it/s, loss=0.14, metrics={'acc': 0.9457}] \n",
      "epoch 41: 100%|██████████| 459/459 [00:06<00:00, 75.90it/s, loss=0.139, metrics={'acc': 0.9467}]\n",
      "epoch 42: 100%|██████████| 459/459 [00:06<00:00, 74.41it/s, loss=0.137, metrics={'acc': 0.9476}]\n",
      "epoch 43:  70%|██████▉   | 321/459 [00:04<00:02, 60.43it/s, loss=0.135, metrics={'acc': 0.9485}]"
     ]
    }
   ],
   "source": [
    "oof_preds, test_preds = cross_validate_widedeep('widedeep-tabmlp', prev_epochs=0, n_epochs=50)\n",
    "# oof_preds, test_preds = cross_validate_widedeep('widedeep-saint', )\n",
    "# dump(oof_preds, predpath/f'widedeep_saint-20211127-{n_epochs}epochs-mean-oofpreds.joblib')\n",
    "# dump(test_preds, predpath/f'widedeep_saint-20211127-{n_epochs}epochs-mean-testpreds.joblib')"
   ]
  },
  {
   "cell_type": "code",
   "execution_count": 42,
   "id": "ae6eb1e4-2ff7-4c56-a2ca-3aa2023a78c4",
   "metadata": {},
   "outputs": [
    {
     "ename": "NameError",
     "evalue": "name 'X_valid_wide' is not defined",
     "output_type": "error",
     "traceback": [
      "\u001b[0;31m---------------------------------------------------------------------------\u001b[0m",
      "\u001b[0;31mNameError\u001b[0m                                 Traceback (most recent call last)",
      "\u001b[0;32m<ipython-input-42-bd4e1a3d3229>\u001b[0m in \u001b[0;36m<module>\u001b[0;34m\u001b[0m\n\u001b[1;32m     35\u001b[0m )\n\u001b[1;32m     36\u001b[0m \u001b[0;34m\u001b[0m\u001b[0m\n\u001b[0;32m---> 37\u001b[0;31m \u001b[0my_valid_preds\u001b[0m \u001b[0;34m=\u001b[0m \u001b[0mtrainer\u001b[0m\u001b[0;34m.\u001b[0m\u001b[0mpredict_proba\u001b[0m\u001b[0;34m(\u001b[0m\u001b[0mX_wide\u001b[0m\u001b[0;34m=\u001b[0m\u001b[0mnp\u001b[0m\u001b[0;34m.\u001b[0m\u001b[0marray\u001b[0m\u001b[0;34m(\u001b[0m\u001b[0mX_valid_wide\u001b[0m\u001b[0;34m)\u001b[0m\u001b[0;34m,\u001b[0m \u001b[0mX_tab\u001b[0m\u001b[0;34m=\u001b[0m\u001b[0mnp\u001b[0m\u001b[0;34m.\u001b[0m\u001b[0marray\u001b[0m\u001b[0;34m(\u001b[0m\u001b[0mX_valid_tab\u001b[0m\u001b[0;34m)\u001b[0m\u001b[0;34m,\u001b[0m \u001b[0mbatch_size\u001b[0m\u001b[0;34m=\u001b[0m\u001b[0;36m128\u001b[0m\u001b[0;34m)\u001b[0m\u001b[0;34m[\u001b[0m\u001b[0;34m:\u001b[0m\u001b[0;34m,\u001b[0m\u001b[0;36m1\u001b[0m\u001b[0;34m]\u001b[0m\u001b[0;34m\u001b[0m\u001b[0;34m\u001b[0m\u001b[0m\n\u001b[0m\u001b[1;32m     38\u001b[0m \u001b[0mdump\u001b[0m\u001b[0;34m(\u001b[0m\u001b[0my_valid_preds\u001b[0m\u001b[0;34m,\u001b[0m \u001b[0mdatapath\u001b[0m\u001b[0;34m/\u001b[0m\u001b[0;34mf'widedeep_saint-20211127-{n_epochs}epochs-fold{fold}-oofpreds.joblib'\u001b[0m\u001b[0;34m)\u001b[0m\u001b[0;34m\u001b[0m\u001b[0;34m\u001b[0m\u001b[0m\n\u001b[1;32m     39\u001b[0m \u001b[0;34m\u001b[0m\u001b[0m\n",
      "\u001b[0;31mNameError\u001b[0m: name 'X_valid_wide' is not defined"
     ]
    }
   ],
   "source": [
    "# model.load_state_dict(torch.load(\"/media/sf/easystore/kaggle_data/tabular_playgrounds/nov2021/datasets/widedeep_saint-20211127-weights-50epochs-fold0/wd_model.pt\"))\n",
    "\n"
   ]
  }
 ],
 "metadata": {
  "kernelspec": {
   "display_name": "Python 3",
   "language": "python",
   "name": "python3"
  },
  "language_info": {
   "codemirror_mode": {
    "name": "ipython",
    "version": 3
   },
   "file_extension": ".py",
   "mimetype": "text/x-python",
   "name": "python",
   "nbconvert_exporter": "python",
   "pygments_lexer": "ipython3",
   "version": "3.8.12"
  }
 },
 "nbformat": 4,
 "nbformat_minor": 5
}
