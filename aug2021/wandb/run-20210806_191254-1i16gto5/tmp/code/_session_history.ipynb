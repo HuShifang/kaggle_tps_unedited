{
 "cells": [
  {
   "cell_type": "code",
   "execution_count": 1,
   "id": "9033975e",
   "metadata": {},
   "outputs": [],
   "source": [
    "import pandas as pd\n",
    "import numpy as np\n",
    "import matplotlib.pyplot as plt\n",
    "from tqdm.notebook import tqdm\n",
    "\n",
    "# general ML tooling\n",
    "from sklearn.model_selection import train_test_split, StratifiedKFold#, KFold\n",
    "# from sklearn.metrics import roc_auc_score\n",
    "# from fastai.vision.all import *\n",
    "import wandb\n",
    "# import timm"
   ]
  },
  {
   "cell_type": "code",
   "execution_count": 2,
   "id": "defbb551",
   "metadata": {},
   "outputs": [],
   "source": [
    "# approach = ''"
   ]
  },
  {
   "cell_type": "code",
   "execution_count": 3,
   "id": "cf27635c",
   "metadata": {},
   "outputs": [],
   "source": [
    "# import torch\n",
    "# import torch.nn as nn\n",
    "# import torch.nn.functional as F\n",
    "# from torchinfo import summary\n",
    "# # from fastai.callback.wandb import *\n",
    "# from torch.cuda.amp import autocast, GradScaler"
   ]
  },
  {
   "cell_type": "code",
   "execution_count": 4,
   "id": "84d94a88",
   "metadata": {},
   "outputs": [],
   "source": [
    "# from fastai.vision.all import *\n",
    "from fastai.tabular.all import *\n",
    "# from fastai.callback.wandb import WandbCallback"
   ]
  },
  {
   "cell_type": "code",
   "execution_count": 5,
   "id": "d414cee5",
   "metadata": {},
   "outputs": [],
   "source": [
    "# import xgboost as xgb\n",
    "from xgboost import XGBClassifier\n",
    "from sklearn.ensemble import RandomForestClassifier\n",
    "from sklearn.tree import DecisionTreeClassifier"
   ]
  },
  {
   "cell_type": "code",
   "execution_count": 6,
   "id": "4526c6e5",
   "metadata": {},
   "outputs": [],
   "source": [
    "%config Completer.use_jedi = False"
   ]
  },
  {
   "cell_type": "code",
   "execution_count": 7,
   "id": "2a4bf037",
   "metadata": {},
   "outputs": [],
   "source": [
    "set_seed(42, reproducible=True)"
   ]
  },
  {
   "cell_type": "code",
   "execution_count": 8,
   "id": "a50ef85a",
   "metadata": {},
   "outputs": [],
   "source": [
    "datapath = Path('/media/sf/easystore/kaggle_data/tabular_playgrounds/202108_august/')"
   ]
  },
  {
   "cell_type": "code",
   "execution_count": 9,
   "id": "00b2988b",
   "metadata": {},
   "outputs": [],
   "source": [
    "df = pd.read_csv(datapath/'train.csv', index_col='id', low_memory=False)"
   ]
  },
  {
   "cell_type": "code",
   "execution_count": 10,
   "id": "b5601bd3",
   "metadata": {},
   "outputs": [
    {
     "name": "stdout",
     "output_type": "stream",
     "text": [
      "False"
     ]
    }
   ],
   "source": [
    "df.isnull().sum().any()"
   ]
  },
  {
   "cell_type": "code",
   "execution_count": 11,
   "id": "e33b13f0",
   "metadata": {},
   "outputs": [],
   "source": [
    "df.info(verbose=True, null_counts=True)"
   ]
  },
  {
   "cell_type": "code",
   "execution_count": 12,
   "id": "b4925409",
   "metadata": {},
   "outputs": [],
   "source": [
    "# df.describe()"
   ]
  },
  {
   "cell_type": "code",
   "execution_count": 13,
   "id": "3458e77b",
   "metadata": {},
   "outputs": [],
   "source": [
    "y = df.loss"
   ]
  },
  {
   "cell_type": "code",
   "execution_count": 14,
   "id": "d0cca6aa",
   "metadata": {},
   "outputs": [],
   "source": [
    "features = [x for x in df.columns if x != 'loss']"
   ]
  },
  {
   "cell_type": "code",
   "execution_count": 15,
   "id": "ba9c3275",
   "metadata": {},
   "outputs": [],
   "source": [
    "X = df[features]"
   ]
  },
  {
   "cell_type": "code",
   "execution_count": 16,
   "id": "f3c7e35f",
   "metadata": {},
   "outputs": [
    {
     "name": "stdout",
     "output_type": "stream",
     "text": [
      "250000"
     ]
    }
   ],
   "source": [
    "len(X)"
   ]
  },
  {
   "cell_type": "code",
   "execution_count": 17,
   "id": "2707ffe4",
   "metadata": {},
   "outputs": [
    {
     "name": "stdout",
     "output_type": "stream",
     "text": [
      "          f0   f1        f2        f3          f4        f5        f6  \\\n",
      "id                                                                      \n",
      "0  -0.002350   59  0.766739 -1.350460     42.2727  16.68570   30.3599   \n",
      "1   0.784462  145 -0.463845 -0.530421  27324.9000   3.47545  160.4980   \n",
      "2   0.317816   19 -0.432571 -0.382644   1383.2600  19.71290   31.1026   \n",
      "3   0.210753   17 -0.616454  0.946362   -119.2530   4.08235  185.2570   \n",
      "4   0.439671   20  0.968126 -0.092546     74.3020  12.30650   72.1860   \n",
      "\n",
      "          f7         f8       f9  ...        f91        f92      f93  \\\n",
      "id                                ...                                  \n",
      "0   1.267300   0.392007  1.09101  ...  -42.43990  26.854000  1.45751   \n",
      "1   0.828007   3.735860  1.28138  ... -184.13200   7.901370  1.70644   \n",
      "2  -0.515354  34.430800  1.24210  ...    7.43721  37.218100  3.25339   \n",
      "3   1.383310 -47.521400  1.09130  ...    9.66778   0.626942  1.49425   \n",
      "4  -0.233964  24.399100  1.10151  ...  290.65700  15.604300  1.73557   \n",
      "\n",
      "         f94        f95       f96       f97      f98       f99  loss  \n",
      "id                                                                    \n",
      "0   0.696161   0.941764  1.828470  0.924090  2.29658  10.48980    15  \n",
      "1  -0.494699  -2.058300  0.819184  0.439152  2.36470   1.14383     3  \n",
      "2   0.337934   0.615037  2.216760  0.745268  1.69679  12.30550     6  \n",
      "3   0.517513 -10.222100  2.627310  0.617270  1.45645  10.02880     2  \n",
      "4  -0.476668   1.390190  2.195740  0.826987  1.78485   7.07197     1  \n",
      "\n",
      "[5 rows x 101 columns]"
     ]
    }
   ],
   "source": [
    "df.head()"
   ]
  },
  {
   "cell_type": "code",
   "execution_count": 18,
   "id": "ede6be69",
   "metadata": {},
   "outputs": [
    {
     "name": "stdout",
     "output_type": "stream",
     "text": [
      "(250000, 43)"
     ]
    }
   ],
   "source": [
    "len(y), len(y.value_counts())"
   ]
  },
  {
   "cell_type": "code",
   "execution_count": 19,
   "id": "ed7cd502",
   "metadata": {},
   "outputs": [],
   "source": [
    "X_train, X_valid, y_train, y_valid = train_test_split(X, y, test_size=0.2, random_state=42)"
   ]
  },
  {
   "cell_type": "code",
   "execution_count": 20,
   "id": "8dc46c22",
   "metadata": {},
   "outputs": [],
   "source": [
    "model = RandomForestRegressor(random_state=42, min_samples_leaf=4, n_jobs=-1, n_estimators=100)"
   ]
  },
  {
   "cell_type": "code",
   "execution_count": 21,
   "id": "6293f5d6",
   "metadata": {},
   "outputs": [],
   "source": [
    "from sklearn.tree import RandomForestRegressor"
   ]
  },
  {
   "cell_type": "code",
   "execution_count": 22,
   "id": "7f49675c",
   "metadata": {},
   "outputs": [],
   "source": [
    "from sklearn.ensemble import RandomForestRegressor"
   ]
  },
  {
   "cell_type": "code",
   "execution_count": 23,
   "id": "472d489b",
   "metadata": {},
   "outputs": [],
   "source": [
    "model = RandomForestRegressor(random_state=42, min_samples_leaf=4, n_jobs=-1, n_estimators=100)"
   ]
  },
  {
   "cell_type": "code",
   "execution_count": 24,
   "id": "27b6690b",
   "metadata": {},
   "outputs": [],
   "source": [
    "# import wandb\n",
    "wandb.init(\n",
    "    project=\"202108_Kaggle_tabular_playground\",\n",
    "    save_code=True,\n",
    "    tags=['RandomForest'],\n",
    "    name='202108061645_RandomForestRegressor',\n",
    "    notes='Running a RandomForestRegressor with min_samples_leaf=4',\n",
    "    config={\n",
    "        'library': 'scikit-learn'\n",
    "        'model': model,\n",
    "        'params': model.get_params()\n",
    "    }\n",
    "        \n",
    "    #                'initial_learning_rate':lr_steep,\n",
    "#        'metric':'roc_auc',\n",
    "#        'n_epochs': n_epochs,\n",
    "#        'batch_size': batch_size,\n",
    "#        'optimizer':optimizer,\n",
    "#        'loss_func':loss_func,\n",
    "#        'mixup_applied': mixup_applied,\n",
    "#        'mixup_alpha': mixup_alpha,\n",
    "#        'architecture':arch,\n",
    "#        'model_source': model_source,\n",
    "#        'pretrained': pretrained,\n",
    "#        'transform_types': transform_types,\n",
    "#        'transform_libraries': transform_libraries,\n",
    "#        'cv_transforms': cv_transforms_applied,\n",
    "#        'dsp_transforms': dsp_transforms_applied,\n",
    "#        'trainset_type':trainset_type,\n",
    "#        'k-fold': fold,\n",
    "#        'k-fold_total': k_folds,\n",
    "#        'k-fold_strategy': 'stratified',\n",
    "#        'lr_strategy': 'valley',\n",
    "#        'lr': lr\n",
    ")"
   ]
  },
  {
   "cell_type": "code",
   "execution_count": 25,
   "id": "11615668",
   "metadata": {},
   "outputs": [
    {
     "name": "stdout",
     "output_type": "stream",
     "text": [
      "<wandb.sdk.wandb_run.Run at 0x7f3741c5f610>"
     ]
    }
   ],
   "source": [
    "# import wandb\n",
    "wandb.init(\n",
    "    project=\"202108_Kaggle_tabular_playground\",\n",
    "    save_code=True,\n",
    "    tags=['RandomForest'],\n",
    "    name='202108061645_RandomForestRegressor',\n",
    "    notes='Running a RandomForestRegressor with min_samples_leaf=4',\n",
    "    config={\n",
    "        'library': 'scikit-learn',\n",
    "        'model': model,\n",
    "        'params': model.get_params()\n",
    "    }\n",
    "        \n",
    "    #                'initial_learning_rate':lr_steep,\n",
    "#        'metric':'roc_auc',\n",
    "#        'n_epochs': n_epochs,\n",
    "#        'batch_size': batch_size,\n",
    "#        'optimizer':optimizer,\n",
    "#        'loss_func':loss_func,\n",
    "#        'mixup_applied': mixup_applied,\n",
    "#        'mixup_alpha': mixup_alpha,\n",
    "#        'architecture':arch,\n",
    "#        'model_source': model_source,\n",
    "#        'pretrained': pretrained,\n",
    "#        'transform_types': transform_types,\n",
    "#        'transform_libraries': transform_libraries,\n",
    "#        'cv_transforms': cv_transforms_applied,\n",
    "#        'dsp_transforms': dsp_transforms_applied,\n",
    "#        'trainset_type':trainset_type,\n",
    "#        'k-fold': fold,\n",
    "#        'k-fold_total': k_folds,\n",
    "#        'k-fold_strategy': 'stratified',\n",
    "#        'lr_strategy': 'valley',\n",
    "#        'lr': lr\n",
    ")"
   ]
  },
  {
   "cell_type": "code",
   "execution_count": 26,
   "id": "9dbb3d84",
   "metadata": {},
   "outputs": [
    {
     "name": "stdout",
     "output_type": "stream",
     "text": [
      "RandomForestRegressor(min_samples_leaf=4, n_jobs=-1, random_state=42)"
     ]
    }
   ],
   "source": [
    "model.fit(X_train, y_train)\n",
    "# model.fit(X, y)"
   ]
  },
  {
   "cell_type": "code",
   "execution_count": 27,
   "id": "b5ec0d88",
   "metadata": {},
   "outputs": [],
   "source": [
    "wandb.sklearn.plot_regressor(model, X_train, X_valid, y_train, y_valid,  model_name='RandomForestRegressor')"
   ]
  },
  {
   "cell_type": "code",
   "execution_count": 28,
   "id": "b15eb635",
   "metadata": {},
   "outputs": [],
   "source": [
    "from sklearn.model_selection import cross_val_score"
   ]
  },
  {
   "cell_type": "code",
   "execution_count": 29,
   "id": "e53cb0ea",
   "metadata": {},
   "outputs": [],
   "source": [
    "model.get_depth()"
   ]
  },
  {
   "cell_type": "code",
   "execution_count": 30,
   "id": "5c403a85",
   "metadata": {},
   "outputs": [],
   "source": [
    "rmses = [math.sqrt(abs(score)) for score in scores]"
   ]
  },
  {
   "cell_type": "code",
   "execution_count": 31,
   "id": "a62a9814",
   "metadata": {},
   "outputs": [],
   "source": [
    "# model.get_depth()"
   ]
  },
  {
   "cell_type": "code",
   "execution_count": 32,
   "id": "c15c9fe0",
   "metadata": {},
   "outputs": [],
   "source": [
    "from sklearn.metrics import mean_squared_error"
   ]
  },
  {
   "cell_type": "code",
   "execution_count": 33,
   "id": "f378f5fd",
   "metadata": {},
   "outputs": [],
   "source": [
    "y_valid_preds = model.predict(X_valid)"
   ]
  },
  {
   "cell_type": "code",
   "execution_count": 34,
   "id": "8c8a950a",
   "metadata": {},
   "outputs": [],
   "source": [
    "mse = mean_squared_error(y_valid, y_valid_preds)"
   ]
  },
  {
   "cell_type": "code",
   "execution_count": 35,
   "id": "79f018e1",
   "metadata": {},
   "outputs": [
    {
     "name": "stdout",
     "output_type": "stream",
     "text": [
      "62.74937520627396"
     ]
    }
   ],
   "source": [
    "mse"
   ]
  },
  {
   "cell_type": "code",
   "execution_count": 36,
   "id": "6a8bbf3e",
   "metadata": {},
   "outputs": [
    {
     "name": "stdout",
     "output_type": "stream",
     "text": [
      "7.921450322148966"
     ]
    }
   ],
   "source": [
    "rmse = math.sqrt(mse)\n",
    "rmse"
   ]
  },
  {
   "cell_type": "code",
   "execution_count": 37,
   "id": "31f9de0a",
   "metadata": {},
   "outputs": [],
   "source": [
    "test_df = pd.read_csv(datapath/'test.csv', index_col='id', low_memory=False)"
   ]
  },
  {
   "cell_type": "code",
   "execution_count": 38,
   "id": "3a721d2b",
   "metadata": {},
   "outputs": [
    {
     "name": "stdout",
     "output_type": "stream",
     "text": [
      "              f0   f1        f2        f3          f4        f5         f6  \\\n",
      "id                                                                           \n",
      "250000  0.812665   15 -1.239120 -0.893251    295.5770  15.87120   23.04360   \n",
      "250001  0.190344  131 -0.501361  0.801921     64.8866   3.09703  344.80500   \n",
      "250002  0.919671   19 -0.057382  0.901419  11961.2000  16.39650  273.24000   \n",
      "250003  0.860985   19 -0.549509  0.471799   7501.6000   2.80698   71.08170   \n",
      "250004  0.313229   89  0.588509  0.167705   2931.2600   4.34986    1.57187   \n",
      "\n",
      "              f7         f8       f9  ...       f90        f91       f92  \\\n",
      "id                                    ...                                  \n",
      "250000  0.942256  29.898000  1.11394  ...  0.446389   -422.332  -1.44630   \n",
      "250001  0.807194  38.421900  1.09695  ...  0.377179  10352.200  21.06270   \n",
      "250002 -0.003300  37.940000  1.15222  ...  0.990140   3224.020  -2.25287   \n",
      "250003  0.792136   0.395235  1.20157  ...  1.396880   9689.760  14.77150   \n",
      "250004  1.118300   7.754630  1.16807  ...  0.862502   2693.350  44.18050   \n",
      "\n",
      "            f93       f94        f95      f96       f97       f98       f99  \n",
      "id                                                                           \n",
      "250000  1.69075  1.059300  -3.010570  1.94664  0.529470  1.386950   8.78767  \n",
      "250001  1.84351  0.251895   4.440570  1.90309  0.248534  0.863881  11.79390  \n",
      "250002  1.55100 -0.559157  17.838600  1.83385  0.931796  2.336870   9.05400  \n",
      "250003  1.41390  0.329272   0.802437  2.23251  0.893348  1.359470   4.84833  \n",
      "250004  1.58020 -0.191021  26.253000  2.68238  0.361923  1.532800   3.70660  \n",
      "\n",
      "[5 rows x 100 columns]"
     ]
    }
   ],
   "source": [
    "test_df.head()"
   ]
  },
  {
   "cell_type": "code",
   "execution_count": 39,
   "id": "2334486e",
   "metadata": {},
   "outputs": [],
   "source": [
    "X_test = test_df[features] # this is just for naming consistency"
   ]
  },
  {
   "cell_type": "code",
   "execution_count": 40,
   "id": "e97ab64d",
   "metadata": {},
   "outputs": [],
   "source": [
    "y_test_preds = model.predict(X_test)"
   ]
  },
  {
   "cell_type": "code",
   "execution_count": 41,
   "id": "a8835c35",
   "metadata": {},
   "outputs": [],
   "source": [
    "sample_df = pd.read_csv(datapath/'sample_submission.csv')"
   ]
  },
  {
   "cell_type": "code",
   "execution_count": 42,
   "id": "387164a3",
   "metadata": {},
   "outputs": [],
   "source": [
    "sample_df.loc[:, 'loss'] = y_test_preds"
   ]
  },
  {
   "cell_type": "code",
   "execution_count": 43,
   "id": "1b0e74d5",
   "metadata": {},
   "outputs": [
    {
     "name": "stdout",
     "output_type": "stream",
     "text": [
      "       id      loss\n",
      "0  250000  5.066757\n",
      "1  250001  7.624070\n",
      "2  250002  6.684094\n",
      "3  250003  5.387886\n",
      "4  250004  8.677814"
     ]
    }
   ],
   "source": [
    "sample_df.head()"
   ]
  },
  {
   "cell_type": "code",
   "execution_count": 44,
   "id": "ea822f9f",
   "metadata": {},
   "outputs": [],
   "source": [
    "# rmses = [math.sqrt(abs(score)) for score in scores]\n",
    "# rmses"
   ]
  },
  {
   "cell_type": "code",
   "execution_count": 45,
   "id": "709e1db8",
   "metadata": {},
   "outputs": [],
   "source": [
    "sample_df.to_csv('202108061645_RandomForestRegressor.csv', index=False)"
   ]
  },
  {
   "cell_type": "code",
   "execution_count": 46,
   "id": "219c335c",
   "metadata": {},
   "outputs": [],
   "source": [
    "wandb.finish()"
   ]
  },
  {
   "cell_type": "code",
   "execution_count": 47,
   "id": "f9c47b02",
   "metadata": {},
   "outputs": [],
   "source": [
    "model = RandomForestRegressor(random_state=42, min_samples_leaf=2, n_jobs=-1, n_estimators=100)"
   ]
  },
  {
   "cell_type": "code",
   "execution_count": 48,
   "id": "4dac77ff",
   "metadata": {},
   "outputs": [
    {
     "name": "stdout",
     "output_type": "stream",
     "text": [
      "<wandb.sdk.wandb_run.Run at 0x7f3740037dc0>"
     ]
    },
    {
     "data": {
      "text/html": [
       "\n",
       "                Tracking run with wandb version 0.11.0<br/>\n",
       "                Syncing run <strong style=\"color:#cdcd00\">202108061912_RandomForestRegressor</strong> to <a href=\"https://wandb.ai\" target=\"_blank\">Weights & Biases</a> <a href=\"https://docs.wandb.com/integrations/jupyter.html\" target=\"_blank\">(Documentation)</a>.<br/>\n",
       "                Project page: <a href=\"https://wandb.ai/hushifang/202108_Kaggle_tabular_playground\" target=\"_blank\">https://wandb.ai/hushifang/202108_Kaggle_tabular_playground</a><br/>\n",
       "                Run page: <a href=\"https://wandb.ai/hushifang/202108_Kaggle_tabular_playground/runs/1i16gto5\" target=\"_blank\">https://wandb.ai/hushifang/202108_Kaggle_tabular_playground/runs/1i16gto5</a><br/>\n",
       "                Run data is saved locally in <code>/home/sf/Dropbox/code_cloud/python_code/kaggle/tabular_playgrounds/202108_august/wandb/run-20210806_191254-1i16gto5</code><br/><br/>\n",
       "            "
      ],
      "text/plain": [
       "<IPython.core.display.HTML object>"
      ]
     },
     "metadata": {},
     "output_type": "display_data"
    }
   ],
   "source": [
    "# import wandb\n",
    "wandb.init(\n",
    "    project=\"202108_Kaggle_tabular_playground\",\n",
    "    save_code=True,\n",
    "    tags=['RandomForest'],\n",
    "    name='202108061912_RandomForestRegressor',\n",
    "    notes='Changing some hyperparameters',\n",
    "    config={\n",
    "        'library': 'scikit-learn',\n",
    "        'model': model,\n",
    "        'params': model.get_params()\n",
    "    }\n",
    "        \n",
    "    #                'initial_learning_rate':lr_steep,\n",
    "#        'metric':'roc_auc',\n",
    "#        'n_epochs': n_epochs,\n",
    "#        'batch_size': batch_size,\n",
    "#        'optimizer':optimizer,\n",
    "#        'loss_func':loss_func,\n",
    "#        'mixup_applied': mixup_applied,\n",
    "#        'mixup_alpha': mixup_alpha,\n",
    "#        'architecture':arch,\n",
    "#        'model_source': model_source,\n",
    "#        'pretrained': pretrained,\n",
    "#        'transform_types': transform_types,\n",
    "#        'transform_libraries': transform_libraries,\n",
    "#        'cv_transforms': cv_transforms_applied,\n",
    "#        'dsp_transforms': dsp_transforms_applied,\n",
    "#        'trainset_type':trainset_type,\n",
    "#        'k-fold': fold,\n",
    "#        'k-fold_total': k_folds,\n",
    "#        'k-fold_strategy': 'stratified',\n",
    "#        'lr_strategy': 'valley',\n",
    "#        'lr': lr\n",
    ")"
   ]
  },
  {
   "cell_type": "code",
   "execution_count": 49,
   "id": "e1b06fa5",
   "metadata": {},
   "outputs": [
    {
     "name": "stdout",
     "output_type": "stream",
     "text": [
      "RandomForestRegressor(min_samples_leaf=2, n_jobs=-1, random_state=42)"
     ]
    }
   ],
   "source": [
    "model.fit(X_train, y_train)\n",
    "# model.fit(X, y)"
   ]
  },
  {
   "cell_type": "code",
   "execution_count": 50,
   "id": "739e8db6",
   "metadata": {},
   "outputs": [],
   "source": [
    "wandb.sklearn.plot_regressor(model, X_train, X_valid, y_train, y_valid,  model_name='RandomForestRegressor', )"
   ]
  },
  {
   "cell_type": "code",
   "execution_count": 51,
   "id": "a6b6f99b",
   "metadata": {},
   "outputs": [],
   "source": [
    "from sklearn.metrics import mean_squared_error"
   ]
  },
  {
   "cell_type": "code",
   "execution_count": 52,
   "id": "0155180d",
   "metadata": {},
   "outputs": [],
   "source": [
    "y_valid_preds = model.predict(X_valid)"
   ]
  },
  {
   "cell_type": "code",
   "execution_count": 53,
   "id": "901af475",
   "metadata": {},
   "outputs": [],
   "source": [
    "mse = mean_squared_error(y_valid, y_valid_preds)"
   ]
  },
  {
   "cell_type": "code",
   "execution_count": 54,
   "id": "27c4f138",
   "metadata": {},
   "outputs": [
    {
     "name": "stdout",
     "output_type": "stream",
     "text": [
      "63.145484029282386"
     ]
    }
   ],
   "source": [
    "mse"
   ]
  },
  {
   "cell_type": "code",
   "execution_count": 55,
   "id": "7f94300b",
   "metadata": {},
   "outputs": [
    {
     "name": "stdout",
     "output_type": "stream",
     "text": [
      "7.946413280800488"
     ]
    }
   ],
   "source": [
    "rmse = math.sqrt(mse)\n",
    "rmse"
   ]
  },
  {
   "cell_type": "code",
   "execution_count": 56,
   "id": "2ff1b902",
   "metadata": {},
   "outputs": [],
   "source": [
    "from sklearn.metrics import mean_squared_error"
   ]
  },
  {
   "cell_type": "code",
   "execution_count": 57,
   "id": "79b80f51",
   "metadata": {},
   "outputs": [],
   "source": [
    "y_valid_preds = model.predict(X_valid)"
   ]
  },
  {
   "cell_type": "code",
   "execution_count": 58,
   "id": "f4d23306",
   "metadata": {},
   "outputs": [],
   "source": [
    "mse = mean_squared_error(y_valid, y_valid_preds)"
   ]
  },
  {
   "cell_type": "code",
   "execution_count": 59,
   "id": "52466223",
   "metadata": {},
   "outputs": [
    {
     "name": "stdout",
     "output_type": "stream",
     "text": [
      "63.145484029282386"
     ]
    }
   ],
   "source": [
    "mse"
   ]
  },
  {
   "cell_type": "code",
   "execution_count": 60,
   "id": "fb48cb20",
   "metadata": {},
   "outputs": [
    {
     "name": "stdout",
     "output_type": "stream",
     "text": [
      "7.946413280800488"
     ]
    }
   ],
   "source": [
    "rmse = math.sqrt(mse)\n",
    "rmse"
   ]
  },
  {
   "cell_type": "code",
   "execution_count": 61,
   "id": "f416838c",
   "metadata": {},
   "outputs": [],
   "source": [
    "wandb.finish()"
   ]
  }
 ],
 "metadata": {
  "kernelspec": {
   "display_name": "Python 3",
   "language": "python",
   "name": "python3"
  },
  "language_info": {
   "codemirror_mode": {
    "name": "ipython",
    "version": 3
   },
   "file_extension": ".py",
   "mimetype": "text/x-python",
   "name": "python",
   "nbconvert_exporter": "python",
   "pygments_lexer": "ipython3",
   "version": "3.8.10"
  }
 },
 "nbformat": 4,
 "nbformat_minor": 5
}
