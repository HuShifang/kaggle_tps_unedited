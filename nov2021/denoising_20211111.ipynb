{
 "cells": [
  {
   "cell_type": "markdown",
   "id": "e956e261-cd6a-4337-bb90-5082d7bdb582",
   "metadata": {},
   "source": [
    "# denoising_20211111\n",
    "Taking ideas from [this Bryan Arnold notebook](https://www.kaggle.com/puremath86/label-correction-experiments-tps-nov-21), which does a few cool things but mainly attempts denoising the labels with `cleanlab`. Also, trying `rank_gauss_scaler`"
   ]
  },
  {
   "cell_type": "code",
   "execution_count": 1,
   "id": "843e3531-f950-4701-9330-07960ae9a937",
   "metadata": {},
   "outputs": [],
   "source": [
    "# notebook configuration\n",
    "COLAB = False # will trigger manual installation of packages\n",
    "USE_GPU = True "
   ]
  },
  {
   "cell_type": "code",
   "execution_count": 2,
   "id": "6a61aa18-6ef3-41d1-bb75-08d1f766dbe1",
   "metadata": {},
   "outputs": [
    {
     "data": {
      "text/html": [
       "<style type='text/css'>\n",
       ".datatable table.frame { margin-bottom: 0; }\n",
       ".datatable table.frame thead { border-bottom: none; }\n",
       ".datatable table.frame tr.coltypes td {  color: #FFFFFF;  line-height: 6px;  padding: 0 0.5em;}\n",
       ".datatable .bool    { background: #DDDD99; }\n",
       ".datatable .object  { background: #565656; }\n",
       ".datatable .int     { background: #5D9E5D; }\n",
       ".datatable .float   { background: #4040CC; }\n",
       ".datatable .str     { background: #CC4040; }\n",
       ".datatable .time    { background: #40CC40; }\n",
       ".datatable .row_index {  background: var(--jp-border-color3);  border-right: 1px solid var(--jp-border-color0);  color: var(--jp-ui-font-color3);  font-size: 9px;}\n",
       ".datatable .frame tbody td { text-align: left; }\n",
       ".datatable .frame tr.coltypes .row_index {  background: var(--jp-border-color0);}\n",
       ".datatable th:nth-child(2) { padding-left: 12px; }\n",
       ".datatable .hellipsis {  color: var(--jp-cell-editor-border-color);}\n",
       ".datatable .vellipsis {  background: var(--jp-layout-color0);  color: var(--jp-cell-editor-border-color);}\n",
       ".datatable .na {  color: var(--jp-cell-editor-border-color);  font-size: 80%;}\n",
       ".datatable .sp {  opacity: 0.25;}\n",
       ".datatable .footer { font-size: 9px; }\n",
       ".datatable .frame_dimensions {  background: var(--jp-border-color3);  border-top: 1px solid var(--jp-border-color0);  color: var(--jp-ui-font-color3);  display: inline-block;  opacity: 0.6;  padding: 1px 10px 1px 5px;}\n",
       "</style>\n"
      ],
      "text/plain": [
       "<IPython.core.display.HTML object>"
      ]
     },
     "metadata": {},
     "output_type": "display_data"
    }
   ],
   "source": [
    "# basic imports\n",
    "from pathlib import Path\n",
    "import os\n",
    "import math\n",
    "from datetime import datetime\n",
    "import random\n",
    "import datatable as dt\n",
    "import gc; gc.enable()"
   ]
  },
  {
   "cell_type": "markdown",
   "id": "9495d9a8-d339-4ead-9c92-fb382da7e59f",
   "metadata": {},
   "source": [
    "- `gc` is the garbage collection interface in Python; he uses it to optimize memory utilization, in tandem with `del` statements."
   ]
  },
  {
   "cell_type": "code",
   "execution_count": 3,
   "id": "86d84988-5ddb-40d9-bc12-826012acb870",
   "metadata": {},
   "outputs": [],
   "source": [
    "%matplotlib inline\n",
    "%config Completer.use_jedi = False\n",
    "os.environ['WANDB_NOTEBOOK_NAME'] = f\"nb_{datetime.now().strftime('%Y%m%d')}.ipynb\""
   ]
  },
  {
   "cell_type": "markdown",
   "id": "7ddf1e65-6447-47b9-88f2-8d02bbc29af0",
   "metadata": {},
   "source": [
    "Now, non-stdlib imports"
   ]
  },
  {
   "cell_type": "code",
   "execution_count": 5,
   "id": "ee16c791-548b-4616-9c82-ea76001e4749",
   "metadata": {},
   "outputs": [],
   "source": [
    "import pandas as pd\n",
    "import numpy as np\n",
    "import matplotlib.pyplot as plt\n",
    "from tqdm.notebook import tqdm\n",
    "\n",
    "# general ML tooling\n",
    "from sklearn.model_selection import train_test_split, StratifiedKFold, KFold\n",
    "from sklearn.metrics import log_loss, roc_auc_score\n",
    "import wandb\n",
    "from wandb.xgboost import wandb_callback\n",
    "from wandb.lightgbm import wandb_callback\n",
    "from sklearn.impute import SimpleImputer #, KNNImputer\n",
    "\n",
    "import seaborn as sns\n",
    "\n",
    "from catboost import CatBoostClassifier\n",
    "from xgboost import XGBClassifier\n",
    "from lightgbm import LGBMClassifier\n",
    "# from sklearn.ensemble import StackingClassifier, RandomForestClassifier\n",
    "from sklearn.preprocessing import RobustScaler #StandardScaler #, MinMaxScaler, MaxAbsScaler, RobustScaler, PolynomialFeatures\n",
    "from sklearn.linear_model import LogisticRegression\n",
    "# from sklearn.feature_selection import SelectKBest, f_regression\n",
    "from joblib import dump, load\n",
    "# feature engineering tools\n",
    "# from sklearn.feature_selection import mutual_info_regression\n",
    "# import featuretools as ft\n",
    "from gauss_rank_scaler import GaussRankScaler\n",
    "\n",
    "\n",
    "# from BorutaShap import BorutaShap"
   ]
  },
  {
   "cell_type": "code",
   "execution_count": null,
   "id": "b1ed9dd5-7251-4da0-89ed-511b6cec4f8e",
   "metadata": {},
   "outputs": [],
   "source": []
  },
  {
   "cell_type": "code",
   "execution_count": 5,
   "id": "5b139207-5ea6-464d-922e-e4d0a398062f",
   "metadata": {},
   "outputs": [],
   "source": [
    "# from pytorch_widedeep import Trainer\n",
    "# from pytorch_widedeep.preprocessing import WidePreprocessor, TabPreprocessor\n",
    "# from pytorch_widedeep.models import Wide, TabMlp, WideDeep#, SAINT, TabTransformer, TabNet, TabFastFormer, TabResnet\n",
    "# from pytorch_widedeep.metrics import Accuracy\n",
    "# from torchmetrics import AUROC\n",
    "# import torch\n",
    "# from torch.optim import Adam, AdamW, Adagrad, SGD, RMSprop, LBFGS\n",
    "# from torch.optim.lr_scheduler import ReduceLROnPlateau, CosineAnnealingWarmRestarts, CyclicLR, OneCycleLR, StepLR, CosineAnnealingLR\n",
    "# from pytorch_widedeep.callbacks import EarlyStopping, LRHistory, ModelCheckpoint"
   ]
  },
  {
   "cell_type": "markdown",
   "id": "d71932e1-2e32-4474-acbc-3cbe63ce993e",
   "metadata": {},
   "source": [
    "Now, datapath setup"
   ]
  },
  {
   "cell_type": "code",
   "execution_count": 6,
   "id": "880b9f33-b517-40ef-a3e6-049dcc52a4e9",
   "metadata": {},
   "outputs": [],
   "source": [
    "if COLAB:\n",
    "    # mount Google Drive\n",
    "    from google.colab import drive\n",
    "    drive.mount('/content/drive')\n",
    "    \n",
    "    # handling datapath\n",
    "    datapath = Path('/content/drive/MyDrive/kaggle/tabular_playgrounds/nov2021/')\n",
    "    \n",
    "else:\n",
    "    # if on local machine\n",
    "#     datapath = Path('/media/sf/easystore/kaggle_data/tabular_playgrounds/sep2021/')  \n",
    "    root = Path('/media/sf/easystore/kaggle_data/tabular_playgrounds/nov2021/')\n",
    "    datapath = root/'datasets'\n",
    "    # edapath = root/'EDA'\n",
    "    # modelpath = Path('/media/sf/easystore/kaggle_data/tabular_playgrounds/oct2021/models/')\n",
    "    predpath = root/'preds'\n",
    "    subpath = root/'submissions'\n",
    "    \n",
    "    for pth in [datapath, predpath, subpath]:\n",
    "        pth.mkdir(exist_ok=True)\n",
    "    \n"
   ]
  },
  {
   "cell_type": "code",
   "execution_count": 7,
   "id": "1905a9de-cd7c-4a73-a39e-b42a8297785c",
   "metadata": {},
   "outputs": [],
   "source": [
    "SEED = 42\n",
    "\n",
    "# Function to seed everything\n",
    "def seed_everything(seed):\n",
    "    random.seed(seed)\n",
    "    np.random.seed(seed)\n",
    "    os.environ['PYTHONHASHSEED'] = str(seed)\n",
    "\n",
    "seed_everything(seed=SEED)"
   ]
  },
  {
   "cell_type": "markdown",
   "id": "b0f5b910-f9fe-4a8f-9981-bba2a2b9c99a",
   "metadata": {},
   "source": [
    "The following function is used to optimize dataset memory utilization in RAM"
   ]
  },
  {
   "cell_type": "code",
   "execution_count": 8,
   "id": "fbd31b35-397d-46e7-9cb8-49bec94ef2f9",
   "metadata": {},
   "outputs": [],
   "source": [
    "def reduce_memory_usage(df, verbose=True):\n",
    "    numerics = [\"int8\", \"int16\", \"int32\", \"int64\", \"float16\", \"float32\", \"float64\"]\n",
    "    start_mem = df.memory_usage().sum() / 1024 ** 2\n",
    "    for col in df.columns:\n",
    "        col_type = df[col].dtypes\n",
    "        if col_type in numerics:\n",
    "            c_min = df[col].min()\n",
    "            c_max = df[col].max()\n",
    "            if str(col_type)[:3] == \"int\":\n",
    "                if c_min > np.iinfo(np.int8).min and c_max < np.iinfo(np.int8).max:\n",
    "                    df[col] = df[col].astype(np.int8)\n",
    "                elif c_min > np.iinfo(np.int16).min and c_max < np.iinfo(np.int16).max:\n",
    "                    df[col] = df[col].astype(np.int16)\n",
    "                elif c_min > np.iinfo(np.int32).min and c_max < np.iinfo(np.int32).max:\n",
    "                    df[col] = df[col].astype(np.int32)\n",
    "                elif c_min > np.iinfo(np.int64).min and c_max < np.iinfo(np.int64).max:\n",
    "                    df[col] = df[col].astype(np.int64)\n",
    "            else:\n",
    "                if (\n",
    "                    c_min > np.finfo(np.float16).min\n",
    "                    and c_max < np.finfo(np.float16).max\n",
    "                ):\n",
    "                    df[col] = df[col].astype(np.float16)\n",
    "                elif (\n",
    "                    c_min > np.finfo(np.float32).min\n",
    "                    and c_max < np.finfo(np.float32).max\n",
    "                ):\n",
    "                    df[col] = df[col].astype(np.float32)\n",
    "                else:\n",
    "                    df[col] = df[col].astype(np.float64)\n",
    "    end_mem = df.memory_usage().sum() / 1024 ** 2\n",
    "    if verbose:\n",
    "        print(\n",
    "            \"Mem. usage decreased to {:.2f} Mb ({:.1f}% reduction)\".format(\n",
    "                end_mem, 100 * (start_mem - end_mem) / start_mem\n",
    "            )\n",
    "        )\n",
    "    return df"
   ]
  },
  {
   "cell_type": "markdown",
   "id": "660c2f4c-bec4-4df0-a418-7ec31595b9bb",
   "metadata": {},
   "source": [
    "- Basically, you start by creating a list of the numeric types you may be using, and initializing the memory utilization (so you can see at the end how much you've saved). \n",
    "- Then, you iterate over the columns (`for col in df.columns:`) and check if the column's [[data type]] is numeric; if it is, then you store the minimum and maximum values for the column (since one of them is guaranteed to be the biggest memory-hog of the bunch, though which depends on the feature's range). \n",
    "- Then, you start going through a series of case statements, deciding whether the datatype is an integer or not, and then proceeding through the different [[NumPy]] integer or float types in increasing size, [[typecasting]] when you come to the first size that will accommodate both the max and min value from the column. (*Note here that `np.iinfo(np.int64).min` et al will apparently return a value rather than an absolute size in bits, which is fine.*)\n",
    "- Then, you find out what the final memory size is, and print out how big of a savings you've obtained."
   ]
  },
  {
   "cell_type": "code",
   "execution_count": 41,
   "id": "ca30399c-36e0-4ced-87f3-0edc363221b7",
   "metadata": {},
   "outputs": [],
   "source": [
    "# dataset_params will initially include either trivial class instances or loaded, precomputed artifacts\n",
    "dataset_params = {\n",
    "    'train_source': datapath/'X_orig.feather',\n",
    "    'target_source': datapath/'y_orig.joblib',\n",
    "    # 'test_source': str(datapath/'X_test-RobustScaled-pca_mle-umap_embedding_20211107-n_comp10-n_neighbors15-rs42.joblib'),\n",
    "    # 'scaler': str(RobustScaler()),\n",
    "    # 'pca': str(load(datapath/'pca_mle-RobustScaled_orig_trainset.joblib')),\n",
    "    # 'umap': str(load(datapath/'umap_reducer-20211107-n_comp10-n_neighbors15-rs42-pca_mle-RobustScaled_orig_trainset.joblib')),\n",
    "}   \n",
    "\n",
    "# referring back to the already-entered attributes, specify how the pipeline was sequenced\n",
    "# dataset_params['preprocessing_pipeline'] = str([dataset_params['scaler'], dataset_params['pca'], dataset_params['umap']]) # ACTUALLY this is unwieldy\n",
    "# dataset_params['preprocessing_pipeline'] = '[scaler, pca, umap]' # more fragile, but also more readable\n",
    "\n",
    "# now, load the datasets and generate more metadata from them\n",
    "X = pd.read_feather(dataset_params['train_source'])\n",
    "y = load(dataset_params['target_source'])\n",
    "# X_test = load(dataset_params['test_source'])\n",
    "\n",
    "dataset_params['feature_count'] = X.shape[1]\n",
    "dataset_params['instance_count'] = X.shape[0]\n",
    "    "
   ]
  },
  {
   "cell_type": "code",
   "execution_count": 10,
   "id": "86dc7e81-a049-4b45-9640-958e2b2c0f33",
   "metadata": {},
   "outputs": [
    {
     "name": "stdout",
     "output_type": "stream",
     "text": [
      "Mem. usage decreased to 114.44 Mb (75.0% reduction)\n"
     ]
    }
   ],
   "source": [
    "X_light = reduce_memory_usage(X)"
   ]
  },
  {
   "cell_type": "code",
   "execution_count": 12,
   "id": "bf8487a3-6ebc-4e3d-95cd-37006644c4ba",
   "metadata": {},
   "outputs": [
    {
     "data": {
      "text/plain": [
       "(600000, 100)"
      ]
     },
     "execution_count": 12,
     "metadata": {},
     "output_type": "execute_result"
    }
   ],
   "source": [
    "X_light.shape"
   ]
  },
  {
   "cell_type": "code",
   "execution_count": 13,
   "id": "c9c1d58c-96f6-4de5-8ee4-3f43455a306c",
   "metadata": {},
   "outputs": [
    {
     "data": {
      "text/plain": [
       "34"
      ]
     },
     "execution_count": 13,
     "metadata": {},
     "output_type": "execute_result"
    }
   ],
   "source": [
    "X_base = X_light\n",
    "del X_light\n",
    "gc.collect()"
   ]
  },
  {
   "cell_type": "code",
   "execution_count": 15,
   "id": "94cfae58-cb30-4ee6-9d73-3fa78a7e40cb",
   "metadata": {
    "collapsed": true,
    "jupyter": {
     "outputs_hidden": true
    },
    "tags": []
   },
   "outputs": [
    {
     "data": {
      "text/plain": [
       "\u001b[0;31mSignature:\u001b[0m \u001b[0mgc\u001b[0m\u001b[0;34m.\u001b[0m\u001b[0mcollect\u001b[0m\u001b[0;34m(\u001b[0m\u001b[0mgeneration\u001b[0m\u001b[0;34m=\u001b[0m\u001b[0;36m2\u001b[0m\u001b[0;34m)\u001b[0m\u001b[0;34m\u001b[0m\u001b[0;34m\u001b[0m\u001b[0m\n",
       "\u001b[0;31mDocstring:\u001b[0m\n",
       "Run the garbage collector.\n",
       "\n",
       "With no arguments, run a full collection.  The optional argument\n",
       "may be an integer specifying which generation to collect.  A ValueError\n",
       "is raised if the generation number is invalid.\n",
       "\n",
       "The number of unreachable objects is returned.\n",
       "\u001b[0;31mType:\u001b[0m      builtin_function_or_method\n"
      ]
     },
     "metadata": {},
     "output_type": "display_data"
    }
   ],
   "source": [
    "?gc.collect"
   ]
  },
  {
   "cell_type": "code",
   "execution_count": 16,
   "id": "af8e84bf-de35-4647-9e42-5bbdbb361a01",
   "metadata": {
    "collapsed": true,
    "jupyter": {
     "outputs_hidden": true
    },
    "tags": []
   },
   "outputs": [
    {
     "data": {
      "text/html": [
       "<div>\n",
       "<style scoped>\n",
       "    .dataframe tbody tr th:only-of-type {\n",
       "        vertical-align: middle;\n",
       "    }\n",
       "\n",
       "    .dataframe tbody tr th {\n",
       "        vertical-align: top;\n",
       "    }\n",
       "\n",
       "    .dataframe thead th {\n",
       "        text-align: right;\n",
       "    }\n",
       "</style>\n",
       "<table border=\"1\" class=\"dataframe\">\n",
       "  <thead>\n",
       "    <tr style=\"text-align: right;\">\n",
       "      <th></th>\n",
       "      <th>f0</th>\n",
       "      <th>f1</th>\n",
       "      <th>f2</th>\n",
       "      <th>f3</th>\n",
       "      <th>f4</th>\n",
       "      <th>f5</th>\n",
       "      <th>f6</th>\n",
       "      <th>f7</th>\n",
       "      <th>f8</th>\n",
       "      <th>f9</th>\n",
       "      <th>...</th>\n",
       "      <th>f90</th>\n",
       "      <th>f91</th>\n",
       "      <th>f92</th>\n",
       "      <th>f93</th>\n",
       "      <th>f94</th>\n",
       "      <th>f95</th>\n",
       "      <th>f96</th>\n",
       "      <th>f97</th>\n",
       "      <th>f98</th>\n",
       "      <th>f99</th>\n",
       "    </tr>\n",
       "  </thead>\n",
       "  <tbody>\n",
       "    <tr>\n",
       "      <th>0</th>\n",
       "      <td>0.106628</td>\n",
       "      <td>3.593750</td>\n",
       "      <td>132.7500</td>\n",
       "      <td>3.183594</td>\n",
       "      <td>0.081970</td>\n",
       "      <td>1.188477</td>\n",
       "      <td>3.732422</td>\n",
       "      <td>2.265625</td>\n",
       "      <td>2.099609</td>\n",
       "      <td>0.012329</td>\n",
       "      <td>...</td>\n",
       "      <td>0.010742</td>\n",
       "      <td>1.098633</td>\n",
       "      <td>0.013329</td>\n",
       "      <td>-0.011719</td>\n",
       "      <td>0.052765</td>\n",
       "      <td>0.065430</td>\n",
       "      <td>4.210938</td>\n",
       "      <td>1.978516</td>\n",
       "      <td>0.085999</td>\n",
       "      <td>0.240479</td>\n",
       "    </tr>\n",
       "    <tr>\n",
       "      <th>1</th>\n",
       "      <td>0.125000</td>\n",
       "      <td>1.673828</td>\n",
       "      <td>76.5625</td>\n",
       "      <td>3.378906</td>\n",
       "      <td>0.099426</td>\n",
       "      <td>5.093750</td>\n",
       "      <td>1.275391</td>\n",
       "      <td>-0.471436</td>\n",
       "      <td>4.546875</td>\n",
       "      <td>0.037720</td>\n",
       "      <td>...</td>\n",
       "      <td>0.135864</td>\n",
       "      <td>3.460938</td>\n",
       "      <td>0.017059</td>\n",
       "      <td>0.124878</td>\n",
       "      <td>0.154053</td>\n",
       "      <td>0.606934</td>\n",
       "      <td>-0.267822</td>\n",
       "      <td>2.578125</td>\n",
       "      <td>-0.020874</td>\n",
       "      <td>0.024719</td>\n",
       "    </tr>\n",
       "    <tr>\n",
       "      <th>2</th>\n",
       "      <td>0.036316</td>\n",
       "      <td>1.497070</td>\n",
       "      <td>233.5000</td>\n",
       "      <td>2.195312</td>\n",
       "      <td>0.026917</td>\n",
       "      <td>3.126953</td>\n",
       "      <td>5.058594</td>\n",
       "      <td>3.849609</td>\n",
       "      <td>1.801758</td>\n",
       "      <td>0.057007</td>\n",
       "      <td>...</td>\n",
       "      <td>0.117310</td>\n",
       "      <td>4.882812</td>\n",
       "      <td>0.085205</td>\n",
       "      <td>0.032410</td>\n",
       "      <td>0.116089</td>\n",
       "      <td>-0.001689</td>\n",
       "      <td>-0.520020</td>\n",
       "      <td>2.140625</td>\n",
       "      <td>0.124451</td>\n",
       "      <td>0.148193</td>\n",
       "    </tr>\n",
       "    <tr>\n",
       "      <th>3</th>\n",
       "      <td>-0.014076</td>\n",
       "      <td>0.245972</td>\n",
       "      <td>780.0000</td>\n",
       "      <td>1.890625</td>\n",
       "      <td>0.006947</td>\n",
       "      <td>1.531250</td>\n",
       "      <td>2.697266</td>\n",
       "      <td>4.515625</td>\n",
       "      <td>4.503906</td>\n",
       "      <td>0.123474</td>\n",
       "      <td>...</td>\n",
       "      <td>-0.015350</td>\n",
       "      <td>3.474609</td>\n",
       "      <td>-0.017105</td>\n",
       "      <td>-0.008102</td>\n",
       "      <td>0.062012</td>\n",
       "      <td>0.041199</td>\n",
       "      <td>0.511719</td>\n",
       "      <td>1.968750</td>\n",
       "      <td>0.040009</td>\n",
       "      <td>0.044861</td>\n",
       "    </tr>\n",
       "    <tr>\n",
       "      <th>4</th>\n",
       "      <td>-0.003260</td>\n",
       "      <td>3.714844</td>\n",
       "      <td>156.1250</td>\n",
       "      <td>2.148438</td>\n",
       "      <td>0.018280</td>\n",
       "      <td>2.097656</td>\n",
       "      <td>4.156250</td>\n",
       "      <td>-0.038239</td>\n",
       "      <td>3.371094</td>\n",
       "      <td>0.034180</td>\n",
       "      <td>...</td>\n",
       "      <td>0.013779</td>\n",
       "      <td>1.910156</td>\n",
       "      <td>-0.042938</td>\n",
       "      <td>0.105591</td>\n",
       "      <td>0.125122</td>\n",
       "      <td>0.037506</td>\n",
       "      <td>1.043945</td>\n",
       "      <td>1.075195</td>\n",
       "      <td>-0.012817</td>\n",
       "      <td>0.072815</td>\n",
       "    </tr>\n",
       "  </tbody>\n",
       "</table>\n",
       "<p>5 rows × 100 columns</p>\n",
       "</div>"
      ],
      "text/plain": [
       "         f0        f1        f2        f3        f4        f5        f6  \\\n",
       "0  0.106628  3.593750  132.7500  3.183594  0.081970  1.188477  3.732422   \n",
       "1  0.125000  1.673828   76.5625  3.378906  0.099426  5.093750  1.275391   \n",
       "2  0.036316  1.497070  233.5000  2.195312  0.026917  3.126953  5.058594   \n",
       "3 -0.014076  0.245972  780.0000  1.890625  0.006947  1.531250  2.697266   \n",
       "4 -0.003260  3.714844  156.1250  2.148438  0.018280  2.097656  4.156250   \n",
       "\n",
       "         f7        f8        f9  ...       f90       f91       f92       f93  \\\n",
       "0  2.265625  2.099609  0.012329  ...  0.010742  1.098633  0.013329 -0.011719   \n",
       "1 -0.471436  4.546875  0.037720  ...  0.135864  3.460938  0.017059  0.124878   \n",
       "2  3.849609  1.801758  0.057007  ...  0.117310  4.882812  0.085205  0.032410   \n",
       "3  4.515625  4.503906  0.123474  ... -0.015350  3.474609 -0.017105 -0.008102   \n",
       "4 -0.038239  3.371094  0.034180  ...  0.013779  1.910156 -0.042938  0.105591   \n",
       "\n",
       "        f94       f95       f96       f97       f98       f99  \n",
       "0  0.052765  0.065430  4.210938  1.978516  0.085999  0.240479  \n",
       "1  0.154053  0.606934 -0.267822  2.578125 -0.020874  0.024719  \n",
       "2  0.116089 -0.001689 -0.520020  2.140625  0.124451  0.148193  \n",
       "3  0.062012  0.041199  0.511719  1.968750  0.040009  0.044861  \n",
       "4  0.125122  0.037506  1.043945  1.075195 -0.012817  0.072815  \n",
       "\n",
       "[5 rows x 100 columns]"
      ]
     },
     "execution_count": 16,
     "metadata": {},
     "output_type": "execute_result"
    }
   ],
   "source": [
    "X_base.head()"
   ]
  },
  {
   "cell_type": "markdown",
   "id": "6a960c5a-a20d-4949-8053-34bc852b500d",
   "metadata": {},
   "source": [
    "# RankGauss, Other Transforms"
   ]
  },
  {
   "cell_type": "code",
   "execution_count": 17,
   "id": "b5963147-b880-4fd5-a3b5-deb216b38489",
   "metadata": {},
   "outputs": [],
   "source": [
    "scaler = GaussRankScaler()\n",
    "X_gauss = scaler.fit_transform(X)"
   ]
  },
  {
   "cell_type": "code",
   "execution_count": 18,
   "id": "4b4b8dba-ea57-43ba-ad85-77ca2be0f324",
   "metadata": {},
   "outputs": [],
   "source": [
    "X_gauss = pd.DataFrame(X_gauss, columns=X_base.columns)"
   ]
  },
  {
   "cell_type": "code",
   "execution_count": 19,
   "id": "05aa10b5-6624-4f78-8b3e-4e5a510dcf44",
   "metadata": {},
   "outputs": [
    {
     "data": {
      "text/html": [
       "<div>\n",
       "<style scoped>\n",
       "    .dataframe tbody tr th:only-of-type {\n",
       "        vertical-align: middle;\n",
       "    }\n",
       "\n",
       "    .dataframe tbody tr th {\n",
       "        vertical-align: top;\n",
       "    }\n",
       "\n",
       "    .dataframe thead th {\n",
       "        text-align: right;\n",
       "    }\n",
       "</style>\n",
       "<table border=\"1\" class=\"dataframe\">\n",
       "  <thead>\n",
       "    <tr style=\"text-align: right;\">\n",
       "      <th></th>\n",
       "      <th>f0</th>\n",
       "      <th>f1</th>\n",
       "      <th>f2</th>\n",
       "      <th>f3</th>\n",
       "      <th>f4</th>\n",
       "      <th>f5</th>\n",
       "      <th>f6</th>\n",
       "      <th>f7</th>\n",
       "      <th>f8</th>\n",
       "      <th>f9</th>\n",
       "      <th>...</th>\n",
       "      <th>f90</th>\n",
       "      <th>f91</th>\n",
       "      <th>f92</th>\n",
       "      <th>f93</th>\n",
       "      <th>f94</th>\n",
       "      <th>f95</th>\n",
       "      <th>f96</th>\n",
       "      <th>f97</th>\n",
       "      <th>f98</th>\n",
       "      <th>f99</th>\n",
       "    </tr>\n",
       "  </thead>\n",
       "  <tbody>\n",
       "    <tr>\n",
       "      <th>0</th>\n",
       "      <td>0.503864</td>\n",
       "      <td>1.170148</td>\n",
       "      <td>0.497627</td>\n",
       "      <td>1.061322</td>\n",
       "      <td>0.497063</td>\n",
       "      <td>0.697261</td>\n",
       "      <td>1.178046</td>\n",
       "      <td>0.918892</td>\n",
       "      <td>0.898030</td>\n",
       "      <td>0.264610</td>\n",
       "      <td>...</td>\n",
       "      <td>0.313791</td>\n",
       "      <td>0.697968</td>\n",
       "      <td>0.228935</td>\n",
       "      <td>-0.745756</td>\n",
       "      <td>0.410898</td>\n",
       "      <td>0.511767</td>\n",
       "      <td>1.301817</td>\n",
       "      <td>0.886265</td>\n",
       "      <td>0.491337</td>\n",
       "      <td>0.715292</td>\n",
       "    </tr>\n",
       "    <tr>\n",
       "      <th>1</th>\n",
       "      <td>0.532606</td>\n",
       "      <td>0.817177</td>\n",
       "      <td>0.414955</td>\n",
       "      <td>1.099940</td>\n",
       "      <td>0.523378</td>\n",
       "      <td>1.430099</td>\n",
       "      <td>0.707201</td>\n",
       "      <td>-1.001742</td>\n",
       "      <td>1.361183</td>\n",
       "      <td>0.395362</td>\n",
       "      <td>...</td>\n",
       "      <td>0.712643</td>\n",
       "      <td>1.133297</td>\n",
       "      <td>0.258559</td>\n",
       "      <td>0.941823</td>\n",
       "      <td>0.550487</td>\n",
       "      <td>0.937882</td>\n",
       "      <td>-0.799881</td>\n",
       "      <td>0.975537</td>\n",
       "      <td>-0.595291</td>\n",
       "      <td>0.375001</td>\n",
       "    </tr>\n",
       "    <tr>\n",
       "      <th>2</th>\n",
       "      <td>0.364383</td>\n",
       "      <td>0.777697</td>\n",
       "      <td>0.581712</td>\n",
       "      <td>0.902238</td>\n",
       "      <td>0.358373</td>\n",
       "      <td>1.046707</td>\n",
       "      <td>1.450572</td>\n",
       "      <td>1.213861</td>\n",
       "      <td>0.833888</td>\n",
       "      <td>0.448396</td>\n",
       "      <td>...</td>\n",
       "      <td>0.684576</td>\n",
       "      <td>1.420673</td>\n",
       "      <td>0.444982</td>\n",
       "      <td>0.597667</td>\n",
       "      <td>0.514780</td>\n",
       "      <td>-0.345367</td>\n",
       "      <td>-1.076664</td>\n",
       "      <td>0.911155</td>\n",
       "      <td>0.547897</td>\n",
       "      <td>0.627946</td>\n",
       "    </tr>\n",
       "    <tr>\n",
       "      <th>3</th>\n",
       "      <td>-0.552709</td>\n",
       "      <td>0.361766</td>\n",
       "      <td>0.800397</td>\n",
       "      <td>0.847488</td>\n",
       "      <td>0.205250</td>\n",
       "      <td>0.767239</td>\n",
       "      <td>0.975344</td>\n",
       "      <td>1.338971</td>\n",
       "      <td>1.352906</td>\n",
       "      <td>0.554931</td>\n",
       "      <td>...</td>\n",
       "      <td>-0.698743</td>\n",
       "      <td>1.136185</td>\n",
       "      <td>-0.622266</td>\n",
       "      <td>-0.671410</td>\n",
       "      <td>0.436283</td>\n",
       "      <td>0.439042</td>\n",
       "      <td>0.506585</td>\n",
       "      <td>0.883681</td>\n",
       "      <td>0.397615</td>\n",
       "      <td>0.451311</td>\n",
       "    </tr>\n",
       "    <tr>\n",
       "      <th>4</th>\n",
       "      <td>-0.357576</td>\n",
       "      <td>1.199284</td>\n",
       "      <td>0.516476</td>\n",
       "      <td>0.895768</td>\n",
       "      <td>0.313432</td>\n",
       "      <td>0.890002</td>\n",
       "      <td>1.273778</td>\n",
       "      <td>-0.348193</td>\n",
       "      <td>1.110106</td>\n",
       "      <td>0.385873</td>\n",
       "      <td>...</td>\n",
       "      <td>0.349392</td>\n",
       "      <td>0.873186</td>\n",
       "      <td>-0.772866</td>\n",
       "      <td>0.873466</td>\n",
       "      <td>0.528289</td>\n",
       "      <td>0.427691</td>\n",
       "      <td>0.679960</td>\n",
       "      <td>0.684102</td>\n",
       "      <td>-0.528382</td>\n",
       "      <td>0.520949</td>\n",
       "    </tr>\n",
       "  </tbody>\n",
       "</table>\n",
       "<p>5 rows × 100 columns</p>\n",
       "</div>"
      ],
      "text/plain": [
       "         f0        f1        f2        f3        f4        f5        f6  \\\n",
       "0  0.503864  1.170148  0.497627  1.061322  0.497063  0.697261  1.178046   \n",
       "1  0.532606  0.817177  0.414955  1.099940  0.523378  1.430099  0.707201   \n",
       "2  0.364383  0.777697  0.581712  0.902238  0.358373  1.046707  1.450572   \n",
       "3 -0.552709  0.361766  0.800397  0.847488  0.205250  0.767239  0.975344   \n",
       "4 -0.357576  1.199284  0.516476  0.895768  0.313432  0.890002  1.273778   \n",
       "\n",
       "         f7        f8        f9  ...       f90       f91       f92       f93  \\\n",
       "0  0.918892  0.898030  0.264610  ...  0.313791  0.697968  0.228935 -0.745756   \n",
       "1 -1.001742  1.361183  0.395362  ...  0.712643  1.133297  0.258559  0.941823   \n",
       "2  1.213861  0.833888  0.448396  ...  0.684576  1.420673  0.444982  0.597667   \n",
       "3  1.338971  1.352906  0.554931  ... -0.698743  1.136185 -0.622266 -0.671410   \n",
       "4 -0.348193  1.110106  0.385873  ...  0.349392  0.873186 -0.772866  0.873466   \n",
       "\n",
       "        f94       f95       f96       f97       f98       f99  \n",
       "0  0.410898  0.511767  1.301817  0.886265  0.491337  0.715292  \n",
       "1  0.550487  0.937882 -0.799881  0.975537 -0.595291  0.375001  \n",
       "2  0.514780 -0.345367 -1.076664  0.911155  0.547897  0.627946  \n",
       "3  0.436283  0.439042  0.506585  0.883681  0.397615  0.451311  \n",
       "4  0.528289  0.427691  0.679960  0.684102 -0.528382  0.520949  \n",
       "\n",
       "[5 rows x 100 columns]"
      ]
     },
     "execution_count": 19,
     "metadata": {},
     "output_type": "execute_result"
    }
   ],
   "source": [
    "X_gauss.head()"
   ]
  },
  {
   "cell_type": "code",
   "execution_count": 25,
   "id": "2859a901-d91a-4a0d-8265-03faeaaa3632",
   "metadata": {},
   "outputs": [
    {
     "data": {
      "text/plain": [
       "array([[<AxesSubplot:title={'center':'f0'}>,\n",
       "        <AxesSubplot:title={'center':'f1'}>,\n",
       "        <AxesSubplot:title={'center':'f2'}>],\n",
       "       [<AxesSubplot:title={'center':'f3'}>,\n",
       "        <AxesSubplot:title={'center':'f4'}>,\n",
       "        <AxesSubplot:title={'center':'f5'}>],\n",
       "       [<AxesSubplot:title={'center':'f6'}>,\n",
       "        <AxesSubplot:title={'center':'f7'}>,\n",
       "        <AxesSubplot:title={'center':'f8'}>],\n",
       "       [<AxesSubplot:title={'center':'f9'}>, <AxesSubplot:>,\n",
       "        <AxesSubplot:>]], dtype=object)"
      ]
     },
     "execution_count": 25,
     "metadata": {},
     "output_type": "execute_result"
    },
    {
     "data": {
      "image/png": "[encoded data removed]",
      "text/plain": [
       "<Figure size 432x288 with 12 Axes>"
      ]
     },
     "metadata": {
      "needs_background": "light"
     },
     "output_type": "display_data"
    }
   ],
   "source": [
    "X_base.iloc[:, :10].hist(bins=50)"
   ]
  },
  {
   "cell_type": "code",
   "execution_count": 26,
   "id": "22b7d133-bf92-48ff-88ea-a8741ecc38b1",
   "metadata": {},
   "outputs": [
    {
     "data": {
      "text/plain": [
       "array([[<AxesSubplot:title={'center':'f0'}>,\n",
       "        <AxesSubplot:title={'center':'f1'}>,\n",
       "        <AxesSubplot:title={'center':'f2'}>],\n",
       "       [<AxesSubplot:title={'center':'f3'}>,\n",
       "        <AxesSubplot:title={'center':'f4'}>,\n",
       "        <AxesSubplot:title={'center':'f5'}>],\n",
       "       [<AxesSubplot:title={'center':'f6'}>,\n",
       "        <AxesSubplot:title={'center':'f7'}>,\n",
       "        <AxesSubplot:title={'center':'f8'}>],\n",
       "       [<AxesSubplot:title={'center':'f9'}>, <AxesSubplot:>,\n",
       "        <AxesSubplot:>]], dtype=object)"
      ]
     },
     "execution_count": 26,
     "metadata": {},
     "output_type": "execute_result"
    },
    {
     "data": {
      "image/png": "[encoded data removed]",
      "text/plain": [
       "<Figure size 432x288 with 12 Axes>"
      ]
     },
     "metadata": {
      "needs_background": "light"
     },
     "output_type": "display_data"
    }
   ],
   "source": [
    "X_gauss.iloc[:, :10].hist(bins=50)"
   ]
  },
  {
   "cell_type": "code",
   "execution_count": 28,
   "id": "921f9500-220b-4f63-bd93-3eba4b77346d",
   "metadata": {},
   "outputs": [
    {
     "data": {
      "text/html": [
       "<div>\n",
       "<style scoped>\n",
       "    .dataframe tbody tr th:only-of-type {\n",
       "        vertical-align: middle;\n",
       "    }\n",
       "\n",
       "    .dataframe tbody tr th {\n",
       "        vertical-align: top;\n",
       "    }\n",
       "\n",
       "    .dataframe thead th {\n",
       "        text-align: right;\n",
       "    }\n",
       "</style>\n",
       "<table border=\"1\" class=\"dataframe\">\n",
       "  <thead>\n",
       "    <tr style=\"text-align: right;\">\n",
       "      <th></th>\n",
       "      <th>f0</th>\n",
       "      <th>f1</th>\n",
       "      <th>f2</th>\n",
       "      <th>f3</th>\n",
       "      <th>f4</th>\n",
       "      <th>f5</th>\n",
       "      <th>f6</th>\n",
       "      <th>f7</th>\n",
       "      <th>f8</th>\n",
       "      <th>f9</th>\n",
       "      <th>...</th>\n",
       "      <th>f90</th>\n",
       "      <th>f91</th>\n",
       "      <th>f92</th>\n",
       "      <th>f93</th>\n",
       "      <th>f94</th>\n",
       "      <th>f95</th>\n",
       "      <th>f96</th>\n",
       "      <th>f97</th>\n",
       "      <th>f98</th>\n",
       "      <th>f99</th>\n",
       "    </tr>\n",
       "  </thead>\n",
       "  <tbody>\n",
       "    <tr>\n",
       "      <th>0</th>\n",
       "      <td>0.023849</td>\n",
       "      <td>0.414551</td>\n",
       "      <td>-0.003382</td>\n",
       "      <td>0.222534</td>\n",
       "      <td>0.219116</td>\n",
       "      <td>-0.548828</td>\n",
       "      <td>0.356934</td>\n",
       "      <td>-0.117676</td>\n",
       "      <td>-0.150024</td>\n",
       "      <td>-0.569336</td>\n",
       "      <td>...</td>\n",
       "      <td>-0.615723</td>\n",
       "      <td>-0.519531</td>\n",
       "      <td>-0.523438</td>\n",
       "      <td>-1.074219</td>\n",
       "      <td>-0.110901</td>\n",
       "      <td>0.042664</td>\n",
       "      <td>0.625488</td>\n",
       "      <td>-0.282227</td>\n",
       "      <td>0.287598</td>\n",
       "      <td>2.097656</td>\n",
       "    </tr>\n",
       "    <tr>\n",
       "      <th>1</th>\n",
       "      <td>0.073364</td>\n",
       "      <td>-0.323730</td>\n",
       "      <td>-0.220581</td>\n",
       "      <td>0.301758</td>\n",
       "      <td>0.406738</td>\n",
       "      <td>0.980469</td>\n",
       "      <td>-0.584473</td>\n",
       "      <td>-1.216797</td>\n",
       "      <td>0.823730</td>\n",
       "      <td>-0.258057</td>\n",
       "      <td>...</td>\n",
       "      <td>1.143555</td>\n",
       "      <td>0.433350</td>\n",
       "      <td>-0.488037</td>\n",
       "      <td>1.072266</td>\n",
       "      <td>0.943848</td>\n",
       "      <td>7.121094</td>\n",
       "      <td>-1.115234</td>\n",
       "      <td>-0.041534</td>\n",
       "      <td>-0.812012</td>\n",
       "      <td>-0.389160</td>\n",
       "    </tr>\n",
       "    <tr>\n",
       "      <th>2</th>\n",
       "      <td>-0.165649</td>\n",
       "      <td>-0.391602</td>\n",
       "      <td>0.385986</td>\n",
       "      <td>-0.178223</td>\n",
       "      <td>-0.372803</td>\n",
       "      <td>0.210327</td>\n",
       "      <td>0.864746</td>\n",
       "      <td>0.518555</td>\n",
       "      <td>-0.268555</td>\n",
       "      <td>-0.021347</td>\n",
       "      <td>...</td>\n",
       "      <td>0.882324</td>\n",
       "      <td>1.006836</td>\n",
       "      <td>0.153442</td>\n",
       "      <td>-0.380615</td>\n",
       "      <td>0.548340</td>\n",
       "      <td>-0.834473</td>\n",
       "      <td>-1.212891</td>\n",
       "      <td>-0.217041</td>\n",
       "      <td>0.683105</td>\n",
       "      <td>1.034180</td>\n",
       "    </tr>\n",
       "    <tr>\n",
       "      <th>3</th>\n",
       "      <td>-0.301514</td>\n",
       "      <td>-0.872559</td>\n",
       "      <td>2.500000</td>\n",
       "      <td>-0.301758</td>\n",
       "      <td>-0.587402</td>\n",
       "      <td>-0.414551</td>\n",
       "      <td>-0.039642</td>\n",
       "      <td>0.785645</td>\n",
       "      <td>0.806641</td>\n",
       "      <td>0.793945</td>\n",
       "      <td>...</td>\n",
       "      <td>-0.982422</td>\n",
       "      <td>0.438721</td>\n",
       "      <td>-0.809570</td>\n",
       "      <td>-1.017578</td>\n",
       "      <td>-0.014618</td>\n",
       "      <td>-0.273926</td>\n",
       "      <td>-0.812500</td>\n",
       "      <td>-0.286133</td>\n",
       "      <td>-0.185547</td>\n",
       "      <td>-0.156860</td>\n",
       "    </tr>\n",
       "    <tr>\n",
       "      <th>4</th>\n",
       "      <td>-0.272217</td>\n",
       "      <td>0.461182</td>\n",
       "      <td>0.086975</td>\n",
       "      <td>-0.197266</td>\n",
       "      <td>-0.465576</td>\n",
       "      <td>-0.192749</td>\n",
       "      <td>0.519043</td>\n",
       "      <td>-1.042969</td>\n",
       "      <td>0.355957</td>\n",
       "      <td>-0.301270</td>\n",
       "      <td>...</td>\n",
       "      <td>-0.573242</td>\n",
       "      <td>-0.192261</td>\n",
       "      <td>-1.052734</td>\n",
       "      <td>0.769043</td>\n",
       "      <td>0.642578</td>\n",
       "      <td>-0.322266</td>\n",
       "      <td>-0.605469</td>\n",
       "      <td>-0.644531</td>\n",
       "      <td>-0.729004</td>\n",
       "      <td>0.165405</td>\n",
       "    </tr>\n",
       "  </tbody>\n",
       "</table>\n",
       "<p>5 rows × 100 columns</p>\n",
       "</div>"
      ],
      "text/plain": [
       "         f0        f1        f2        f3        f4        f5        f6  \\\n",
       "0  0.023849  0.414551 -0.003382  0.222534  0.219116 -0.548828  0.356934   \n",
       "1  0.073364 -0.323730 -0.220581  0.301758  0.406738  0.980469 -0.584473   \n",
       "2 -0.165649 -0.391602  0.385986 -0.178223 -0.372803  0.210327  0.864746   \n",
       "3 -0.301514 -0.872559  2.500000 -0.301758 -0.587402 -0.414551 -0.039642   \n",
       "4 -0.272217  0.461182  0.086975 -0.197266 -0.465576 -0.192749  0.519043   \n",
       "\n",
       "         f7        f8        f9  ...       f90       f91       f92       f93  \\\n",
       "0 -0.117676 -0.150024 -0.569336  ... -0.615723 -0.519531 -0.523438 -1.074219   \n",
       "1 -1.216797  0.823730 -0.258057  ...  1.143555  0.433350 -0.488037  1.072266   \n",
       "2  0.518555 -0.268555 -0.021347  ...  0.882324  1.006836  0.153442 -0.380615   \n",
       "3  0.785645  0.806641  0.793945  ... -0.982422  0.438721 -0.809570 -1.017578   \n",
       "4 -1.042969  0.355957 -0.301270  ... -0.573242 -0.192261 -1.052734  0.769043   \n",
       "\n",
       "        f94       f95       f96       f97       f98       f99  \n",
       "0 -0.110901  0.042664  0.625488 -0.282227  0.287598  2.097656  \n",
       "1  0.943848  7.121094 -1.115234 -0.041534 -0.812012 -0.389160  \n",
       "2  0.548340 -0.834473 -1.212891 -0.217041  0.683105  1.034180  \n",
       "3 -0.014618 -0.273926 -0.812500 -0.286133 -0.185547 -0.156860  \n",
       "4  0.642578 -0.322266 -0.605469 -0.644531 -0.729004  0.165405  \n",
       "\n",
       "[5 rows x 100 columns]"
      ]
     },
     "execution_count": 28,
     "metadata": {},
     "output_type": "execute_result"
    }
   ],
   "source": [
    "robust_scaler = RobustScaler()\n",
    "X_robust = robust_scaler.fit_transform(X_base)\n",
    "X_robust = pd.DataFrame(X_robust, columns=X_base.columns)\n",
    "X_robust.head()"
   ]
  },
  {
   "cell_type": "code",
   "execution_count": 30,
   "id": "e2e0f0c6-361b-4658-b5c4-c10f323acca6",
   "metadata": {},
   "outputs": [
    {
     "data": {
      "image/png": "[encoded data removed]",
      "text/plain": [
       "<Figure size 432x288 with 12 Axes>"
      ]
     },
     "metadata": {
      "needs_background": "light"
     },
     "output_type": "display_data"
    }
   ],
   "source": [
    "X_robust.iloc[:, :10].hist(bins=50);"
   ]
  },
  {
   "cell_type": "code",
   "execution_count": 31,
   "id": "937384a6-028b-4c0e-9ac9-28a268a1b994",
   "metadata": {},
   "outputs": [],
   "source": [
    "from sklearn.preprocessing import PowerTransformer, QuantileTransformer"
   ]
  },
  {
   "cell_type": "code",
   "execution_count": 34,
   "id": "c2d2c030-cf49-4a84-ae3d-0fd5841f8c0c",
   "metadata": {},
   "outputs": [],
   "source": [
    "del X_base"
   ]
  },
  {
   "cell_type": "code",
   "execution_count": 36,
   "id": "045d71ce-6e6d-4922-8db0-a4f3719479bf",
   "metadata": {},
   "outputs": [],
   "source": [
    "del X_robust"
   ]
  },
  {
   "cell_type": "code",
   "execution_count": 37,
   "id": "fa91c204-c405-4b2c-a3f6-149621eaabd3",
   "metadata": {},
   "outputs": [
    {
     "data": {
      "text/plain": [
       "0"
      ]
     },
     "execution_count": 37,
     "metadata": {},
     "output_type": "execute_result"
    }
   ],
   "source": [
    "gc.collect()"
   ]
  },
  {
   "cell_type": "code",
   "execution_count": 42,
   "id": "99a714f0-c274-4a2c-b07f-9fbee68b5a2f",
   "metadata": {},
   "outputs": [
    {
     "data": {
      "text/plain": [
       "f0     float64\n",
       "f1     float64\n",
       "f2     float64\n",
       "f3     float64\n",
       "f4     float64\n",
       "        ...   \n",
       "f95    float64\n",
       "f96    float64\n",
       "f97    float64\n",
       "f98    float64\n",
       "f99    float64\n",
       "Length: 100, dtype: object"
      ]
     },
     "execution_count": 42,
     "metadata": {},
     "output_type": "execute_result"
    }
   ],
   "source": [
    "X.dtypes"
   ]
  },
  {
   "cell_type": "code",
   "execution_count": 43,
   "id": "ddd36238-2e99-452a-9408-fed9ec157605",
   "metadata": {},
   "outputs": [
    {
     "data": {
      "text/html": [
       "<div>\n",
       "<style scoped>\n",
       "    .dataframe tbody tr th:only-of-type {\n",
       "        vertical-align: middle;\n",
       "    }\n",
       "\n",
       "    .dataframe tbody tr th {\n",
       "        vertical-align: top;\n",
       "    }\n",
       "\n",
       "    .dataframe thead th {\n",
       "        text-align: right;\n",
       "    }\n",
       "</style>\n",
       "<table border=\"1\" class=\"dataframe\">\n",
       "  <thead>\n",
       "    <tr style=\"text-align: right;\">\n",
       "      <th></th>\n",
       "      <th>f0</th>\n",
       "      <th>f1</th>\n",
       "      <th>f2</th>\n",
       "      <th>f3</th>\n",
       "      <th>f4</th>\n",
       "      <th>f5</th>\n",
       "      <th>f6</th>\n",
       "      <th>f7</th>\n",
       "      <th>f8</th>\n",
       "      <th>f9</th>\n",
       "      <th>...</th>\n",
       "      <th>f90</th>\n",
       "      <th>f91</th>\n",
       "      <th>f92</th>\n",
       "      <th>f93</th>\n",
       "      <th>f94</th>\n",
       "      <th>f95</th>\n",
       "      <th>f96</th>\n",
       "      <th>f97</th>\n",
       "      <th>f98</th>\n",
       "      <th>f99</th>\n",
       "    </tr>\n",
       "  </thead>\n",
       "  <tbody>\n",
       "    <tr>\n",
       "      <th>0</th>\n",
       "      <td>-0.330764</td>\n",
       "      <td>0.720239</td>\n",
       "      <td>-0.185486</td>\n",
       "      <td>0.362574</td>\n",
       "      <td>-0.156842</td>\n",
       "      <td>-0.853394</td>\n",
       "      <td>0.667399</td>\n",
       "      <td>-0.160510</td>\n",
       "      <td>-0.234598</td>\n",
       "      <td>-0.357589</td>\n",
       "      <td>...</td>\n",
       "      <td>-0.565506</td>\n",
       "      <td>-0.847819</td>\n",
       "      <td>-0.307379</td>\n",
       "      <td>-0.927254</td>\n",
       "      <td>-0.194510</td>\n",
       "      <td>-0.098997</td>\n",
       "      <td>1.055397</td>\n",
       "      <td>-0.388207</td>\n",
       "      <td>-0.105342</td>\n",
       "      <td>0.724264</td>\n",
       "    </tr>\n",
       "    <tr>\n",
       "      <th>1</th>\n",
       "      <td>-0.272488</td>\n",
       "      <td>-0.486992</td>\n",
       "      <td>-0.313108</td>\n",
       "      <td>0.485275</td>\n",
       "      <td>-0.087189</td>\n",
       "      <td>1.558091</td>\n",
       "      <td>-0.899712</td>\n",
       "      <td>-2.103362</td>\n",
       "      <td>1.270651</td>\n",
       "      <td>-0.229298</td>\n",
       "      <td>...</td>\n",
       "      <td>0.641452</td>\n",
       "      <td>0.676891</td>\n",
       "      <td>-0.297071</td>\n",
       "      <td>0.867816</td>\n",
       "      <td>0.251454</td>\n",
       "      <td>2.603714</td>\n",
       "      <td>-1.911892</td>\n",
       "      <td>0.004260</td>\n",
       "      <td>-0.532986</td>\n",
       "      <td>-0.400761</td>\n",
       "    </tr>\n",
       "    <tr>\n",
       "      <th>2</th>\n",
       "      <td>-0.567016</td>\n",
       "      <td>-0.604689</td>\n",
       "      <td>0.020900</td>\n",
       "      <td>-0.272131</td>\n",
       "      <td>-0.388096</td>\n",
       "      <td>0.395922</td>\n",
       "      <td>1.479006</td>\n",
       "      <td>0.828781</td>\n",
       "      <td>-0.432729</td>\n",
       "      <td>-0.135055</td>\n",
       "      <td>...</td>\n",
       "      <td>0.468604</td>\n",
       "      <td>1.513583</td>\n",
       "      <td>-0.111917</td>\n",
       "      <td>-0.323559</td>\n",
       "      <td>0.091440</td>\n",
       "      <td>-0.786038</td>\n",
       "      <td>-2.114633</td>\n",
       "      <td>-0.281473</td>\n",
       "      <td>0.036836</td>\n",
       "      <td>0.283660</td>\n",
       "    </tr>\n",
       "    <tr>\n",
       "      <th>3</th>\n",
       "      <td>-0.750805</td>\n",
       "      <td>-1.499700</td>\n",
       "      <td>0.958682</td>\n",
       "      <td>-0.470166</td>\n",
       "      <td>-0.476486</td>\n",
       "      <td>-0.621742</td>\n",
       "      <td>0.019516</td>\n",
       "      <td>1.230873</td>\n",
       "      <td>1.245859</td>\n",
       "      <td>0.170004</td>\n",
       "      <td>...</td>\n",
       "      <td>-0.829848</td>\n",
       "      <td>0.685489</td>\n",
       "      <td>-0.392448</td>\n",
       "      <td>-0.876844</td>\n",
       "      <td>-0.151133</td>\n",
       "      <td>-0.331031</td>\n",
       "      <td>-1.324488</td>\n",
       "      <td>-0.394903</td>\n",
       "      <td>-0.282993</td>\n",
       "      <td>-0.280477</td>\n",
       "    </tr>\n",
       "    <tr>\n",
       "      <th>4</th>\n",
       "      <td>-0.710261</td>\n",
       "      <td>0.792576</td>\n",
       "      <td>-0.135717</td>\n",
       "      <td>-0.302424</td>\n",
       "      <td>-0.425993</td>\n",
       "      <td>-0.249634</td>\n",
       "      <td>0.928278</td>\n",
       "      <td>-1.759618</td>\n",
       "      <td>0.571015</td>\n",
       "      <td>-0.246894</td>\n",
       "      <td>...</td>\n",
       "      <td>-0.534985</td>\n",
       "      <td>-0.297603</td>\n",
       "      <td>-0.465794</td>\n",
       "      <td>0.627528</td>\n",
       "      <td>0.130013</td>\n",
       "      <td>-0.367829</td>\n",
       "      <td>-0.951063</td>\n",
       "      <td>-0.988675</td>\n",
       "      <td>-0.498888</td>\n",
       "      <td>-0.119675</td>\n",
       "    </tr>\n",
       "  </tbody>\n",
       "</table>\n",
       "<p>5 rows × 100 columns</p>\n",
       "</div>"
      ],
      "text/plain": [
       "         f0        f1        f2        f3        f4        f5        f6  \\\n",
       "0 -0.330764  0.720239 -0.185486  0.362574 -0.156842 -0.853394  0.667399   \n",
       "1 -0.272488 -0.486992 -0.313108  0.485275 -0.087189  1.558091 -0.899712   \n",
       "2 -0.567016 -0.604689  0.020900 -0.272131 -0.388096  0.395922  1.479006   \n",
       "3 -0.750805 -1.499700  0.958682 -0.470166 -0.476486 -0.621742  0.019516   \n",
       "4 -0.710261  0.792576 -0.135717 -0.302424 -0.425993 -0.249634  0.928278   \n",
       "\n",
       "         f7        f8        f9  ...       f90       f91       f92       f93  \\\n",
       "0 -0.160510 -0.234598 -0.357589  ... -0.565506 -0.847819 -0.307379 -0.927254   \n",
       "1 -2.103362  1.270651 -0.229298  ...  0.641452  0.676891 -0.297071  0.867816   \n",
       "2  0.828781 -0.432729 -0.135055  ...  0.468604  1.513583 -0.111917 -0.323559   \n",
       "3  1.230873  1.245859  0.170004  ... -0.829848  0.685489 -0.392448 -0.876844   \n",
       "4 -1.759618  0.571015 -0.246894  ... -0.534985 -0.297603 -0.465794  0.627528   \n",
       "\n",
       "        f94       f95       f96       f97       f98       f99  \n",
       "0 -0.194510 -0.098997  1.055397 -0.388207 -0.105342  0.724264  \n",
       "1  0.251454  2.603714 -1.911892  0.004260 -0.532986 -0.400761  \n",
       "2  0.091440 -0.786038 -2.114633 -0.281473  0.036836  0.283660  \n",
       "3 -0.151133 -0.331031 -1.324488 -0.394903 -0.282993 -0.280477  \n",
       "4  0.130013 -0.367829 -0.951063 -0.988675 -0.498888 -0.119675  \n",
       "\n",
       "[5 rows x 100 columns]"
      ]
     },
     "execution_count": 43,
     "metadata": {},
     "output_type": "execute_result"
    }
   ],
   "source": [
    "power_transform = PowerTransformer()\n",
    "X_power = power_transform.fit_transform(X)\n",
    "X_power = pd.DataFrame(X_power, columns=X.columns)\n",
    "X_power.head()"
   ]
  },
  {
   "cell_type": "code",
   "execution_count": 44,
   "id": "16e6d94c-1e24-4474-aec5-a8629f21f444",
   "metadata": {},
   "outputs": [
    {
     "data": {
      "image/png": "[encoded data removed]",
      "text/plain": [
       "<Figure size 432x288 with 12 Axes>"
      ]
     },
     "metadata": {
      "needs_background": "light"
     },
     "output_type": "display_data"
    }
   ],
   "source": [
    "X_power.iloc[:, :10].hist(bins=50);"
   ]
  },
  {
   "cell_type": "markdown",
   "id": "a20d7041-36f8-4e49-af60-886fbe9e5fa2",
   "metadata": {},
   "source": [
    "# cleanlab"
   ]
  }
 ],
 "metadata": {
  "kernelspec": {
   "display_name": "Python 3",
   "language": "python",
   "name": "python3"
  },
  "language_info": {
   "codemirror_mode": {
    "name": "ipython",
    "version": 3
   },
   "file_extension": ".py",
   "mimetype": "text/x-python",
   "name": "python",
   "nbconvert_exporter": "python",
   "pygments_lexer": "ipython3",
   "version": "3.8.12"
  }
 },
 "nbformat": 4,
 "nbformat_minor": 5
}
