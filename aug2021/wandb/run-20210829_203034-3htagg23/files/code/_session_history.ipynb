{
 "cells": [
  {
   "cell_type": "code",
   "execution_count": 1,
   "id": "da30d026",
   "metadata": {},
   "outputs": [],
   "source": [
    "import pandas as pd\n",
    "import numpy as np\n",
    "import matplotlib.pyplot as plt\n",
    "from tqdm.notebook import tqdm\n",
    "\n",
    "# general ML tooling\n",
    "from sklearn.model_selection import train_test_split, StratifiedKFold, KFold\n",
    "from sklearn.metrics import mean_squared_error\n",
    "import wandb\n",
    "from wandb.xgboost import wandb_callback\n",
    "# import timm\n",
    "from pathlib import Path\n",
    "import os\n",
    "import math\n",
    "import seaborn as sns\n",
    "from datetime import datetime\n",
    "\n",
    "from xgboost import XGBRegressor\n",
    "# from sklearn.ensemble import RandomForestRegressor\n",
    "from sklearn.preprocessing import MaxAbsScaler, StandardScaler, MinMaxScaler, PolynomialFeatures\n",
    "from sklearn.feature_selection import SelectKBest, f_regression\n",
    "from joblib import dump, load\n",
    "# feature engineering tools\n",
    "# from sklearn.feature_selection import mutual_info_regression\n",
    "# import featuretools as ft"
   ]
  },
  {
   "cell_type": "code",
   "execution_count": 2,
   "id": "f44a9978",
   "metadata": {},
   "outputs": [],
   "source": [
    "%matplotlib inline\n",
    "%config Completer.use_jedi = False\n",
    "os.environ['WANDB_NOTEBOOK_NAME'] = 'inference_ensemble_20210828.ipynb'\n",
    "config = {\n",
    "    # model config\n",
    "    \"model\":XGBRegressor,\n",
    "    \"tree_method\": \"auto\", # set to 'gpu_hist' to try GPU if available\n",
    "    \"booster\": 'gbtree', # dart may be marginally better, but will opt for this quicker approach as a default\n",
    "    \"n_estimators\": 648, \n",
    "    \"max_depth\": 2,\n",
    "    \"learning_rate\": 0.1081,\n",
    "    \"test_size\": 0.2,\n",
    "    \"scaler\": MaxAbsScaler,\n",
    "    \"reg_alpha\": 2.466,\n",
    "    \"reg_lambda\": 2.213,\n",
    "#     \"feature_selector\": SelectKBest,\n",
    "#     \"k_best\": 80,\n",
    "#     \"feature_selection_scoring\": f_regression,\n",
    "    'random_state': 42,\n",
    "    'subsample': 0.9844,\n",
    "    'n_jobs': -1,\n",
    "    'verbosity': 1,\n",
    "    'k_folds': 5,\n",
    "    'features_created': True,\n",
    "    'feature_creator': PolynomialFeatures,\n",
    "}\n",
    "\n",
    "config_run = {\n",
    "    # wandb config:\n",
    "    'name': f\"{os.environ['WANDB_NOTEBOOK_NAME'][:-6]}_{datetime.now().strftime('%H%M%S')}\", # just removes the .ipynb extension, leaving the notebook filename's stem\n",
    "    'tags': ['XGBoost', 'kfold', 'scaling', 'feature-creation', 'feature-selection'],\n",
    "    'notes': \"Run using best parameters from sweep e9uzmfqp\",\n",
    "}"
   ]
  },
  {
   "cell_type": "code",
   "execution_count": 3,
   "id": "5bf93ec8",
   "metadata": {},
   "outputs": [],
   "source": [
    "datapath = Path('/media/sf/easystore/kaggle_data/tabular_playgrounds/202108_august/')"
   ]
  },
  {
   "cell_type": "code",
   "execution_count": 4,
   "id": "4cc612e3",
   "metadata": {},
   "outputs": [],
   "source": [
    "# df = pd.read_csv(datapath/'train.csv', index_col='id', low_memory=False)\n",
    "# df.index.name = None\n",
    "# df.to_feather(path='./dataset_df.feather')\n",
    "\n",
    "# load unaltered dataset\n",
    "df = pd.read_feather(path='dataset_df.feather')\n",
    "df.index.name = 'id'"
   ]
  },
  {
   "cell_type": "code",
   "execution_count": 5,
   "id": "73279427",
   "metadata": {},
   "outputs": [],
   "source": [
    "y = df.loss"
   ]
  },
  {
   "cell_type": "code",
   "execution_count": 6,
   "id": "1ffd4466",
   "metadata": {},
   "outputs": [],
   "source": [
    "# load all the polynomialfeatures generated with `PolynomialFeatures(degree=2, include_bias=True, interaction_only=False)`\n",
    "# X_np = np.load(datapath/'X_poly_unscaled.npy')\n",
    "# X = pd.DataFrame(X_np)"
   ]
  },
  {
   "cell_type": "code",
   "execution_count": 7,
   "id": "70f876e8",
   "metadata": {},
   "outputs": [],
   "source": [
    "# X.columns"
   ]
  },
  {
   "cell_type": "code",
   "execution_count": 8,
   "id": "dd171636",
   "metadata": {},
   "outputs": [],
   "source": [
    "# prep features from unaltered dataset\n",
    "features = [x for x in df.columns if x != 'loss']\n",
    "X = df[features]"
   ]
  },
  {
   "cell_type": "code",
   "execution_count": 9,
   "id": "f0e6eef9",
   "metadata": {},
   "outputs": [],
   "source": [
    "# generation polynomial features\n",
    "poly = PolynomialFeatures(degree=2, include_bias=True, interaction_only=False)\n",
    "X_poly = poly.fit_transform(X)"
   ]
  },
  {
   "cell_type": "code",
   "execution_count": 10,
   "id": "ba0a9453",
   "metadata": {},
   "outputs": [],
   "source": [
    "X_poly_names = poly.get_feature_names(X.columns)\n",
    "# X_poly_names[100:150]\n",
    "features = pd.read_csv('X_candidates_20210827.csv').columns"
   ]
  },
  {
   "cell_type": "code",
   "execution_count": 11,
   "id": "22c692ff",
   "metadata": {},
   "outputs": [],
   "source": [
    "checks = [feature in X_poly_names for feature in features]"
   ]
  },
  {
   "cell_type": "code",
   "execution_count": 12,
   "id": "d6a02b29",
   "metadata": {},
   "outputs": [
    {
     "name": "stdout",
     "output_type": "stream",
     "text": [
      "[False,\n",
      " True,\n",
      " True,\n",
      " True,\n",
      " True,\n",
      " True,\n",
      " True,\n",
      " True,\n",
      " True,\n",
      " True,\n",
      " True,\n",
      " True,\n",
      " True,\n",
      " True,\n",
      " True,\n",
      " True,\n",
      " True,\n",
      " True,\n",
      " True,\n",
      " True,\n",
      " True,\n",
      " True,\n",
      " True,\n",
      " True,\n",
      " True,\n",
      " True,\n",
      " True,\n",
      " True,\n",
      " True,\n",
      " True,\n",
      " True,\n",
      " True,\n",
      " True,\n",
      " True,\n",
      " True,\n",
      " True,\n",
      " True,\n",
      " True,\n",
      " True,\n",
      " True,\n",
      " True,\n",
      " True,\n",
      " True,\n",
      " True,\n",
      " True,\n",
      " True,\n",
      " True,\n",
      " True,\n",
      " True,\n",
      " True,\n",
      " True,\n",
      " True,\n",
      " True,\n",
      " True,\n",
      " True,\n",
      " True,\n",
      " True,\n",
      " True,\n",
      " True,\n",
      " True,\n",
      " True,\n",
      " True,\n",
      " True,\n",
      " True,\n",
      " True,\n",
      " True,\n",
      " True,\n",
      " True,\n",
      " True,\n",
      " True,\n",
      " True,\n",
      " True,\n",
      " True,\n",
      " True,\n",
      " True,\n",
      " True,\n",
      " True,\n",
      " True,\n",
      " True,\n",
      " True,\n",
      " True,\n",
      " True,\n",
      " True,\n",
      " True,\n",
      " True,\n",
      " True,\n",
      " True,\n",
      " True,\n",
      " True,\n",
      " True,\n",
      " True,\n",
      " True,\n",
      " True,\n",
      " True,\n",
      " True,\n",
      " True,\n",
      " True,\n",
      " True,\n",
      " True,\n",
      " True,\n",
      " True,\n",
      " True,\n",
      " True,\n",
      " True,\n",
      " True,\n",
      " True,\n",
      " True,\n",
      " True,\n",
      " True,\n",
      " True,\n",
      " True,\n",
      " True,\n",
      " True,\n",
      " True,\n",
      " True,\n",
      " True,\n",
      " True,\n",
      " True,\n",
      " True,\n",
      " True,\n",
      " True,\n",
      " True,\n",
      " True,\n",
      " True,\n",
      " True,\n",
      " True,\n",
      " True,\n",
      " True,\n",
      " True,\n",
      " True,\n",
      " True,\n",
      " True,\n",
      " True,\n",
      " True,\n",
      " True,\n",
      " True,\n",
      " True,\n",
      " True,\n",
      " True,\n",
      " True,\n",
      " True,\n",
      " True,\n",
      " True,\n",
      " True,\n",
      " True,\n",
      " True,\n",
      " True,\n",
      " True,\n",
      " True,\n",
      " True,\n",
      " True,\n",
      " True,\n",
      " True,\n",
      " True,\n",
      " True,\n",
      " True,\n",
      " True,\n",
      " True,\n",
      " True,\n",
      " True,\n",
      " True,\n",
      " True,\n",
      " True,\n",
      " True,\n",
      " True,\n",
      " True,\n",
      " True,\n",
      " True,\n",
      " True,\n",
      " True,\n",
      " True,\n",
      " True,\n",
      " True,\n",
      " True,\n",
      " True,\n",
      " True,\n",
      " True,\n",
      " True,\n",
      " True,\n",
      " True,\n",
      " True,\n",
      " True,\n",
      " True,\n",
      " True,\n",
      " True,\n",
      " True,\n",
      " True,\n",
      " True,\n",
      " True,\n",
      " True,\n",
      " True,\n",
      " True,\n",
      " True,\n",
      " True,\n",
      " True,\n",
      " True,\n",
      " True,\n",
      " True,\n",
      " True,\n",
      " True,\n",
      " True,\n",
      " True,\n",
      " True,\n",
      " True,\n",
      " True,\n",
      " True,\n",
      " True,\n",
      " True,\n",
      " True,\n",
      " True,\n",
      " True,\n",
      " True,\n",
      " True,\n",
      " True,\n",
      " True,\n",
      " True,\n",
      " True,\n",
      " True,\n",
      " True,\n",
      " True,\n",
      " True,\n",
      " True,\n",
      " True,\n",
      " True,\n",
      " True,\n",
      " True,\n",
      " True,\n",
      " True,\n",
      " True,\n",
      " True,\n",
      " True,\n",
      " True,\n",
      " True,\n",
      " True,\n",
      " True,\n",
      " True,\n",
      " True,\n",
      " True,\n",
      " True,\n",
      " True,\n",
      " True,\n",
      " True,\n",
      " True,\n",
      " True,\n",
      " True,\n",
      " True,\n",
      " True,\n",
      " True,\n",
      " True,\n",
      " True,\n",
      " True,\n",
      " True,\n",
      " True,\n",
      " True,\n",
      " True,\n",
      " True,\n",
      " True,\n",
      " True,\n",
      " True,\n",
      " True,\n",
      " True,\n",
      " True,\n",
      " True,\n",
      " True,\n",
      " True,\n",
      " True,\n",
      " True,\n",
      " True,\n",
      " True,\n",
      " True,\n",
      " True,\n",
      " True,\n",
      " True,\n",
      " True,\n",
      " True,\n",
      " True,\n",
      " True,\n",
      " True,\n",
      " True,\n",
      " True,\n",
      " True,\n",
      " True,\n",
      " True,\n",
      " True,\n",
      " True,\n",
      " True,\n",
      " True,\n",
      " True,\n",
      " True]"
     ]
    }
   ],
   "source": [
    "checks = [feature in X_poly_names for feature in features]\n",
    "checks"
   ]
  },
  {
   "cell_type": "code",
   "execution_count": 13,
   "id": "bc3fcda3",
   "metadata": {},
   "outputs": [],
   "source": [
    "checks = [feature in X_poly_names for feature in features]\n",
    "# checks"
   ]
  },
  {
   "cell_type": "code",
   "execution_count": 14,
   "id": "8f77195d",
   "metadata": {},
   "outputs": [],
   "source": [
    "X = pd.DataFrame(X_poly, columns=X_poly_names)"
   ]
  },
  {
   "cell_type": "code",
   "execution_count": 15,
   "id": "a90f48e6",
   "metadata": {},
   "outputs": [
    {
     "name": "stdout",
     "output_type": "stream",
     "text": [
      "Index(['1', 'f0', 'f1', 'f2', 'f3', 'f4', 'f5', 'f6', 'f7', 'f8',\n",
      "       ...\n",
      "       'f96^2', 'f96 f97', 'f96 f98', 'f96 f99', 'f97^2', 'f97 f98', 'f97 f99',\n",
      "       'f98^2', 'f98 f99', 'f99^2'],\n",
      "      dtype='object', length=5151)"
     ]
    }
   ],
   "source": [
    "X.columns"
   ]
  },
  {
   "cell_type": "code",
   "execution_count": 16,
   "id": "6bbd21db",
   "metadata": {},
   "outputs": [
    {
     "name": "stdout",
     "output_type": "stream",
     "text": [
      "False"
     ]
    }
   ],
   "source": [
    "'21 f67' in X.columns"
   ]
  },
  {
   "cell_type": "code",
   "execution_count": 17,
   "id": "9e5eec52",
   "metadata": {},
   "outputs": [
    {
     "name": "stdout",
     "output_type": "stream",
     "text": [
      "True"
     ]
    }
   ],
   "source": [
    "'f21 f67' in X.columns"
   ]
  },
  {
   "cell_type": "code",
   "execution_count": 18,
   "id": "0c8d5234",
   "metadata": {},
   "outputs": [],
   "source": [
    "X = X[features]"
   ]
  },
  {
   "cell_type": "code",
   "execution_count": 19,
   "id": "e84d6700",
   "metadata": {},
   "outputs": [],
   "source": [
    "X = X[features[1:]]"
   ]
  },
  {
   "cell_type": "code",
   "execution_count": 20,
   "id": "625057fd",
   "metadata": {},
   "outputs": [],
   "source": [
    "?X"
   ]
  },
  {
   "cell_type": "code",
   "execution_count": 21,
   "id": "f3512a7d",
   "metadata": {},
   "outputs": [],
   "source": [
    "scaler = config['scaler']()\n",
    "X_scaled = scaler.fit_transform(X)\n",
    "# X_scaled_df = pd.DataFrame(X_scaled, columns=X_poly_names)"
   ]
  },
  {
   "cell_type": "code",
   "execution_count": 22,
   "id": "5e957506",
   "metadata": {},
   "outputs": [
    {
     "name": "stdout",
     "output_type": "stream",
     "text": [
      "(250000, 288)"
     ]
    }
   ],
   "source": [
    "X_scaled.shape"
   ]
  },
  {
   "cell_type": "code",
   "execution_count": 23,
   "id": "659bd4ee",
   "metadata": {},
   "outputs": [],
   "source": [
    "kfold = KFold(n_splits=config['k_folds'], shuffle=True, random_state=config['random_state'])"
   ]
  },
  {
   "cell_type": "code",
   "execution_count": 24,
   "id": "076de34b",
   "metadata": {},
   "outputs": [],
   "source": [
    "def train(X_train, X_valid, y_train, y_valid, config):#, scaler): # passed in via config dict for now\n",
    "    \"\"\"\n",
    "    Basic training function. Note that some of the options passed via the argument are\n",
    "    in fact hard-coded in, to avoid inconveniences.\n",
    "    :param config: dict with things to be logged in WandB, some to be used in function\n",
    "    \"\"\"\n",
    "    \n",
    "    \n",
    "    wandb.init(\n",
    "        project=\"202108_Kaggle_tabular_playground\",\n",
    "        save_code=True,\n",
    "        tags=config_run['tags'],\n",
    "        name=config_run['name'],\n",
    "        notes=config_run['notes'],\n",
    "        config=config)   \n",
    "        \n",
    "    # applying hold-out before scaling\n",
    "#     X_train, X_valid, y_train, y_valid = train_test_split(X, y, \n",
    "#                                                           test_size=config['test_size'], \n",
    "#                                                           random_state=config['random_state']\n",
    "#                                                          )\n",
    "    \n",
    "    # strictly speaking should do the below, but doing beforehand faster and fine in this context\n",
    "    # scaling (i.e. normalizing)\n",
    "#     scaler = config['scaler']()\n",
    "#     X_train_s = scaler.fit_transform(X_train)\n",
    "#     X_valid_s = scaler.fit_transform(X_valid)\n",
    "    \n",
    "    # selecting features\n",
    "#     selector = config['feature_selector'](score_func=config[\"feature_selection_scoring\"], \n",
    "#                                           k=config['k_best'])\n",
    "#     X_train_fs = selector.fit_transform(X_train_s, y_train)\n",
    "#     X_valid_fs = X_valid_s[:, selector.get_support()] # ensures same features are used in validation\n",
    "\n",
    "    # split the dataset\n",
    "    model = XGBRegressor(\n",
    "        tree_method=config['tree_method'],\n",
    "        booster=config['booster'],\n",
    "        n_estimators=config['n_estimators'], \n",
    "        max_depth=config['max_depth'],\n",
    "        learning_rate=config['learning_rate'], \n",
    "#         test_size=config['test_size'],\n",
    "        subsample=config['subsample'],\n",
    "        reg_alpha=config['reg_alpha'],\n",
    "        reg_lambda=config['reg_lambda'],\n",
    "        random_state=config['random_state'],\n",
    "        n_jobs=config['n_jobs'], \n",
    "        verbosity=config['verbosity'], \n",
    "    )\n",
    "#     wandb.log({'params': model.get_params()}) # logging model parameters\n",
    "    model.fit(X_train, y_train, callbacks=[wandb.xgboost.wandb_callback()])\n",
    "    y_preds = model.predict(X_valid)\n",
    "    mse = mean_squared_error(y_valid, y_preds)\n",
    "    rmse = math.sqrt(abs(mse))\n",
    "    wandb.log({'mse':mse, 'rmse':rmse})\n",
    "    print(f\"MSE is {mse}\\nRMSE is {rmse}\")   \n",
    "    wandb.finish()   \n",
    "    return model\n",
    "    "
   ]
  },
  {
   "cell_type": "code",
   "execution_count": 25,
   "id": "fbd5adab",
   "metadata": {},
   "outputs": [],
   "source": [
    "model_path = Path(f\"./models/{config_run['name']}_{config['k_folds']}folds/\")\n",
    "(model_path).mkdir(exist_ok=True)"
   ]
  },
  {
   "cell_type": "code",
   "execution_count": 26,
   "id": "d5a6bc29",
   "metadata": {},
   "outputs": [],
   "source": [
    "for fold, (train_ids, valid_ids) in enumerate(kfold.split(X,y)):\n",
    "#     if fold == 0:\n",
    "#         continue\n",
    "#     else:\n",
    "    print(f\"FOLD {fold}\")\n",
    "    print(\"-----------------------------------------\")\n",
    "    X_train, X_valid = X[train_ids], X[valid_ids] # requires X to be a numpy.ndarray\n",
    "    y_train, y_valid = y[train_ids], y[valid_ids]\n",
    "    model = train(X_train, X_valid, y_train, y_valid, config)\n",
    "    wandb.log({'fold': fold})\n",
    "    models[fold] = model\n",
    "    dump(model, Path(model_path/f\"xgboost_fold{fold}_model.joblib\"))\n",
    "    wandb.finish()"
   ]
  },
  {
   "cell_type": "code",
   "execution_count": 27,
   "id": "77eea1ca",
   "metadata": {},
   "outputs": [
    {
     "data": {
      "text/html": [
       "\n",
       "                Tracking run with wandb version 0.12.0<br/>\n",
       "                Syncing run <strong style=\"color:#cdcd00\">inference_ensemble_20210828_202508</strong> to <a href=\"https://wandb.ai\" target=\"_blank\">Weights & Biases</a> <a href=\"https://docs.wandb.com/integrations/jupyter.html\" target=\"_blank\">(Documentation)</a>.<br/>\n",
       "                Project page: <a href=\"https://wandb.ai/hushifang/202108_Kaggle_tabular_playground\" target=\"_blank\">https://wandb.ai/hushifang/202108_Kaggle_tabular_playground</a><br/>\n",
       "                Run page: <a href=\"https://wandb.ai/hushifang/202108_Kaggle_tabular_playground/runs/3htagg23\" target=\"_blank\">https://wandb.ai/hushifang/202108_Kaggle_tabular_playground/runs/3htagg23</a><br/>\n",
       "                Run data is saved locally in <code>/home/sf/Dropbox/code_cloud/python_code/kaggle/tabular_playgrounds/aug2021/wandb/run-20210829_203034-3htagg23</code><br/><br/>\n",
       "            "
      ],
      "text/plain": [
       "<IPython.core.display.HTML object>"
      ]
     },
     "metadata": {},
     "output_type": "display_data"
    }
   ],
   "source": [
    "for fold, (train_ids, valid_ids) in enumerate(kfold.split(X,y)):\n",
    "#     if fold == 0:\n",
    "#         continue\n",
    "#     else:\n",
    "    print(f\"FOLD {fold}\")\n",
    "    print(\"-----------------------------------------\")\n",
    "    X_train, X_valid = X_scaled[train_ids], X_scaled[valid_ids] # requires X to be a numpy.ndarray\n",
    "    y_train, y_valid = y[train_ids], y[valid_ids]\n",
    "    model = train(X_train, X_valid, y_train, y_valid, config)\n",
    "    wandb.log({'fold': fold})\n",
    "    models[fold] = model\n",
    "    dump(model, Path(model_path/f\"xgboost_fold{fold}_model.joblib\"))\n",
    "    wandb.finish()"
   ]
  }
 ],
 "metadata": {
  "kernelspec": {
   "display_name": "Python 3",
   "language": "python",
   "name": "python3"
  },
  "language_info": {
   "codemirror_mode": {
    "name": "ipython",
    "version": 3
   },
   "file_extension": ".py",
   "mimetype": "text/x-python",
   "name": "python",
   "nbconvert_exporter": "python",
   "pygments_lexer": "ipython3",
   "version": "3.8.11"
  }
 },
 "nbformat": 4,
 "nbformat_minor": 5
}
