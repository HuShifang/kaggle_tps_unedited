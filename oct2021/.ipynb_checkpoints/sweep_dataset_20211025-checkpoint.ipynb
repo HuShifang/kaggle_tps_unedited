{
 "cells": [
  {
   "cell_type": "markdown",
   "id": "1d4e7f70-25a3-4d58-b98a-3a695e55ee53",
   "metadata": {},
   "source": [
    "# Dataset Preprocessing Sweep\n",
    "Trying to set up a new template for a notebook that will run a simple 5-fold cross-validation XGBoost model on a variety of dataset permutations."
   ]
  },
  {
   "cell_type": "markdown",
   "id": "1e124c3d-0e1f-4053-8e72-52569a4fe3e4",
   "metadata": {},
   "source": [
    "# Setup"
   ]
  },
  {
   "cell_type": "code",
   "execution_count": 1,
   "id": "dae2ff1e-bd1f-4cc9-8357-5a88d1746ffb",
   "metadata": {},
   "outputs": [],
   "source": [
    "# two manual flags (ex-config)\n",
    "COLAB = False\n",
    "USE_GPU = True\n",
    "libraries = ['xgboost', 'lightgbm', 'catboost', 'widedeep-SAINT']"
   ]
  },
  {
   "cell_type": "code",
   "execution_count": 2,
   "id": "16849bd2-428c-497b-ba3b-675002f8d041",
   "metadata": {},
   "outputs": [],
   "source": [
    "# basic imports\n",
    "from pathlib import Path\n",
    "import os\n",
    "import math\n",
    "from datetime import datetime\n",
    "import random"
   ]
  },
  {
   "cell_type": "code",
   "execution_count": 3,
   "id": "12d2654b-3bc6-49b5-ade8-cc82112b60e5",
   "metadata": {},
   "outputs": [],
   "source": [
    "%matplotlib inline\n",
    "%config Completer.use_jedi = False\n",
    "os.environ['WANDB_NOTEBOOK_NAME'] = f\"dataset_sweep_{datetime.now().strftime('%Y%m%d')}.ipynb\""
   ]
  },
  {
   "cell_type": "code",
   "execution_count": 4,
   "id": "416d6118-e543-4df4-9219-2d4a63743c3a",
   "metadata": {
    "jupyter": {
     "source_hidden": true
    },
    "tags": []
   },
   "outputs": [],
   "source": [
    "# handle Google Colab-specific library installation/updating\n",
    "if COLAB:\n",
    "    # much of the below inspired by or cribbed from the May 2021 Kaggle Tabular Playground winner, at \n",
    "    # https://colab.research.google.com/gist/academicsuspect/0aac7bd6e506f5f70295bfc9a3dc2250/tabular-may-baseline.ipynb?authuser=1#scrollTo=LJoVKJb5wN0L\n",
    "    \n",
    "    # Kaggle API for downloading the datasets\n",
    "#     !pip install --upgrade -q kaggle\n",
    "\n",
    "    # weights and biases\n",
    "    !pip install -qqqU wandb\n",
    "    \n",
    "    # Optuna for parameter search\n",
    "    !pip install -q optuna\n",
    "\n",
    "    # upgrade sklearn\n",
    "    !pip install --upgrade scikit-learn\n",
    "\n",
    "#     !pip install category_encoders\n",
    "    \n",
    "    if 'catboost' in libraries:\n",
    "        !pip install catboost\n",
    "    \n",
    "    if 'xgboost' in libraries:\n",
    "        if USE_GPU: \n",
    "            # this part is from https://github.com/rapidsai/gputreeshap/issues/24\n",
    "            !pip install cmake --upgrade\n",
    "            # !pip install sklearn --upgrade\n",
    "            !git clone --recursive https://github.com/dmlc/xgboost\n",
    "            %cd /content/xgboost\n",
    "            !mkdir build\n",
    "            %cd build\n",
    "            !cmake .. -DUSE_CUDA=ON\n",
    "            !make -j4\n",
    "            %cd /content/xgboost/python-package\n",
    "            !python setup.py install --use-cuda --use-nccl\n",
    "            !/opt/bin/nvidia-smi\n",
    "            !pip install shap\n",
    "        else:\n",
    "            !pip install --upgrade xgboost\n",
    "    if 'lightgbm' in libraries:\n",
    "        if USE_GPU:\n",
    "            # lighgbm gpu compatible\n",
    "            !git clone --recursive https://github.com/Microsoft/LightGBM\n",
    "            ! cd LightGBM && rm -rf build && mkdir build && cd build && cmake -DUSE_GPU=1 ../../LightGBM && make -j4 && cd ../python-package && python3 setup.py install --precompile --gpu;\n",
    "        else:\n",
    "            !pip install --upgrade lightgbm\n",
    "        \n",
    "\n",
    "        "
   ]
  },
  {
   "cell_type": "markdown",
   "id": "d40df194-4474-4bcf-ac5a-98efe24b91fd",
   "metadata": {},
   "source": [
    "Now, non-stdlib imports"
   ]
  },
  {
   "cell_type": "code",
   "execution_count": 5,
   "id": "a01e85f7-d602-4dde-bef9-611683cd74c4",
   "metadata": {},
   "outputs": [
    {
     "data": {
      "text/html": [
       "<style type='text/css'>\n",
       ".datatable table.frame { margin-bottom: 0; }\n",
       ".datatable table.frame thead { border-bottom: none; }\n",
       ".datatable table.frame tr.coltypes td {  color: #FFFFFF;  line-height: 6px;  padding: 0 0.5em;}\n",
       ".datatable .bool    { background: #DDDD99; }\n",
       ".datatable .object  { background: #565656; }\n",
       ".datatable .int     { background: #5D9E5D; }\n",
       ".datatable .float   { background: #4040CC; }\n",
       ".datatable .str     { background: #CC4040; }\n",
       ".datatable .time    { background: #40CC40; }\n",
       ".datatable .row_index {  background: var(--jp-border-color3);  border-right: 1px solid var(--jp-border-color0);  color: var(--jp-ui-font-color3);  font-size: 9px;}\n",
       ".datatable .frame tbody td { text-align: left; }\n",
       ".datatable .frame tr.coltypes .row_index {  background: var(--jp-border-color0);}\n",
       ".datatable th:nth-child(2) { padding-left: 12px; }\n",
       ".datatable .hellipsis {  color: var(--jp-cell-editor-border-color);}\n",
       ".datatable .vellipsis {  background: var(--jp-layout-color0);  color: var(--jp-cell-editor-border-color);}\n",
       ".datatable .na {  color: var(--jp-cell-editor-border-color);  font-size: 80%;}\n",
       ".datatable .sp {  opacity: 0.25;}\n",
       ".datatable .footer { font-size: 9px; }\n",
       ".datatable .frame_dimensions {  background: var(--jp-border-color3);  border-top: 1px solid var(--jp-border-color0);  color: var(--jp-ui-font-color3);  display: inline-block;  opacity: 0.6;  padding: 1px 10px 1px 5px;}\n",
       "</style>\n"
      ],
      "text/plain": [
       "<IPython.core.display.HTML object>"
      ]
     },
     "metadata": {},
     "output_type": "display_data"
    }
   ],
   "source": [
    "import pandas as pd\n",
    "import numpy as np\n",
    "import matplotlib.pyplot as plt\n",
    "from tqdm.notebook import tqdm\n",
    "\n",
    "# general ML tooling\n",
    "from sklearn.model_selection import train_test_split, StratifiedKFold, KFold\n",
    "from sklearn.metrics import log_loss, roc_auc_score\n",
    "import wandb\n",
    "from wandb.xgboost import wandb_callback\n",
    "from wandb.lightgbm import wandb_callback\n",
    "from sklearn.impute import SimpleImputer #, KNNImputer\n",
    "import optuna\n",
    "import seaborn as sns\n",
    "\n",
    "# from catboost import CatBoostClassifier\n",
    "from xgboost import XGBClassifier\n",
    "# from lightgbm import LGBMClassifier\n",
    "# from sklearn.preprocessing import StandardScaler MinMaxScaler, MaxAbsScaler, RobustScaler, PolynomialFeatures\n",
    "from sklearn.feature_selection import SelectKBest, f_regression\n",
    "from joblib import dump, load\n",
    "from sklearn.feature_selection import mutual_info_regression\n",
    "from sklearn.decomposition import PCA\n",
    "from sklearn.manifold import TSNE\n",
    "from sklearn.cluster import KMeans\n",
    "from boruta import BorutaPy\n",
    "from BorutaShap import BorutaShap\n",
    "import category_encoders as ce"
   ]
  },
  {
   "cell_type": "code",
   "execution_count": 6,
   "id": "0a41cd7e-accb-41c4-ad8b-0eaa3e2b0ad5",
   "metadata": {
    "jupyter": {
     "source_hidden": true
    },
    "tags": []
   },
   "outputs": [],
   "source": [
    "if COLAB:\n",
    "    # mount Google Drive\n",
    "    from google.colab import drive\n",
    "    drive.mount('/content/drive')\n",
    "    \n",
    "    # handling datapath\n",
    "    datapath = Path('/content/drive/MyDrive/kaggle/tabular_playgrounds/oct2021/')\n",
    "    \n",
    "else:\n",
    "    # if on local machine\n",
    "#     datapath = Path('/media/sf/easystore/kaggle_data/tabular_playgrounds/sep2021/')  \n",
    "    root = Path('/home/sf/code/kaggle/tabular_playgrounds/oct2021/')\n",
    "    datapath = root/'datasets'\n",
    "    edapath = root/'EDA'\n",
    "    modelpath = Path('/media/sf/easystore/kaggle_data/tabular_playgrounds/oct2021/models/')\n",
    "    predpath = root/'preds'\n",
    "    subpath = root/'submissions'\n",
    "    altdatapath = Path('/media/sf/easystore/kaggle_data/tabular_playgrounds/oct2021/alt_datasets/')\n",
    "    \n",
    "    for pth in [root, datapath, edapath, modelpath, predpath, subpath]:\n",
    "        pth.mkdir(exist_ok=True)\n",
    "    \n"
   ]
  },
  {
   "cell_type": "code",
   "execution_count": 7,
   "id": "fad41f0c-4a5c-470a-bda3-98152c30bc6b",
   "metadata": {},
   "outputs": [],
   "source": [
    "SEED = 42\n",
    "\n",
    "# Function to seed everything\n",
    "def seed_everything(seed):\n",
    "    random.seed(seed)\n",
    "    np.random.seed(seed)\n",
    "    os.environ['PYTHONHASHSEED'] = str(seed)\n",
    "\n",
    "seed_everything(seed=SEED)"
   ]
  },
  {
   "cell_type": "markdown",
   "id": "2f6e47b3-43bd-4d35-b463-9d76100c6ed5",
   "metadata": {},
   "source": [
    "## Ex-Model Config"
   ]
  },
  {
   "cell_type": "code",
   "execution_count": 8,
   "id": "fb288275-a858-4806-9dc0-0b316c334536",
   "metadata": {},
   "outputs": [],
   "source": [
    "# meta-config for preprocessing and cross-validation, but NOT for model parameters\n",
    "exmodel_config = {\n",
    "#     \"feature_selector\": SelectKBest,\n",
    "#     \"k_best\": 80,\n",
    "#     \"feature_selection_scoring\": f_regression,\n",
    "#     'random_state': SEED,\n",
    "#     'feature_generation': ['NaN_counts', 'SummaryStats', 'NaN_OneHots'],\n",
    "#     'subsample': 1,\n",
    "    'cross_val_strategy': KFold, # None for holdout, or the relevant sklearn class\n",
    "    'kfolds': 5, # if 1, that means just doing holdout\n",
    "    'test_size': 0.2,\n",
    "#     'features_created': False,\n",
    "#     'feature_creator': None,\n",
    "}"
   ]
  },
  {
   "cell_type": "markdown",
   "id": "a52d9012-34f1-435a-ba16-4416e0d4a286",
   "metadata": {},
   "source": [
    "## Data Loading"
   ]
  },
  {
   "cell_type": "code",
   "execution_count": 15,
   "id": "73ca5f75-d4f8-43cd-b23a-46c87a4c9d45",
   "metadata": {},
   "outputs": [],
   "source": [
    "# loading the full training data set to get the feature correlations to target, for K-means clustering later\n",
    "df = pd.read_feather(datapath/'train.feather')\n",
    "# df_corr = df.corr() # getting the correlations of the features\n",
    "# corr_target = df_corr.loc['target':'target'] # pulling out just the correlation of features with the target, as a 1-row df (for Series, it'd be df_corr.loc['target'])\n",
    "corr_target = load(altdatapath/'corr_target.joblib')"
   ]
  },
  {
   "cell_type": "code",
   "execution_count": 16,
   "id": "0c4b3642-38c5-434f-b029-0023d5d33467",
   "metadata": {},
   "outputs": [
    {
     "data": {
      "text/html": [
       "<div>\n",
       "<style scoped>\n",
       "    .dataframe tbody tr th:only-of-type {\n",
       "        vertical-align: middle;\n",
       "    }\n",
       "\n",
       "    .dataframe tbody tr th {\n",
       "        vertical-align: top;\n",
       "    }\n",
       "\n",
       "    .dataframe thead th {\n",
       "        text-align: right;\n",
       "    }\n",
       "</style>\n",
       "<table border=\"1\" class=\"dataframe\">\n",
       "  <thead>\n",
       "    <tr style=\"text-align: right;\">\n",
       "      <th></th>\n",
       "      <th>f0</th>\n",
       "      <th>f1</th>\n",
       "      <th>f2</th>\n",
       "      <th>f3</th>\n",
       "      <th>f4</th>\n",
       "      <th>f5</th>\n",
       "      <th>f6</th>\n",
       "      <th>f7</th>\n",
       "      <th>f8</th>\n",
       "      <th>f9</th>\n",
       "      <th>...</th>\n",
       "      <th>f276</th>\n",
       "      <th>f277</th>\n",
       "      <th>f278</th>\n",
       "      <th>f279</th>\n",
       "      <th>f280</th>\n",
       "      <th>f281</th>\n",
       "      <th>f282</th>\n",
       "      <th>f283</th>\n",
       "      <th>f284</th>\n",
       "      <th>target</th>\n",
       "    </tr>\n",
       "  </thead>\n",
       "  <tbody>\n",
       "    <tr>\n",
       "      <th>target</th>\n",
       "      <td>0.004067</td>\n",
       "      <td>-0.029324</td>\n",
       "      <td>-0.015663</td>\n",
       "      <td>0.036279</td>\n",
       "      <td>0.019811</td>\n",
       "      <td>-0.012301</td>\n",
       "      <td>-0.012332</td>\n",
       "      <td>0.013528</td>\n",
       "      <td>-0.043557</td>\n",
       "      <td>-0.002662</td>\n",
       "      <td>...</td>\n",
       "      <td>-0.00329</td>\n",
       "      <td>-0.003869</td>\n",
       "      <td>-0.004477</td>\n",
       "      <td>-0.004503</td>\n",
       "      <td>-0.004319</td>\n",
       "      <td>-0.004587</td>\n",
       "      <td>-0.002426</td>\n",
       "      <td>-0.005901</td>\n",
       "      <td>-0.0037</td>\n",
       "      <td>1.0</td>\n",
       "    </tr>\n",
       "  </tbody>\n",
       "</table>\n",
       "<p>1 rows × 286 columns</p>\n",
       "</div>"
      ],
      "text/plain": [
       "              f0        f1        f2        f3        f4        f5        f6  \\\n",
       "target  0.004067 -0.029324 -0.015663  0.036279  0.019811 -0.012301 -0.012332   \n",
       "\n",
       "              f7        f8        f9  ...     f276      f277      f278  \\\n",
       "target  0.013528 -0.043557 -0.002662  ... -0.00329 -0.003869 -0.004477   \n",
       "\n",
       "            f279      f280      f281      f282      f283    f284  target  \n",
       "target -0.004503 -0.004319 -0.004587 -0.002426 -0.005901 -0.0037     1.0  \n",
       "\n",
       "[1 rows x 286 columns]"
      ]
     },
     "execution_count": 16,
     "metadata": {},
     "output_type": "execute_result"
    }
   ],
   "source": [
    "corr_target.head()"
   ]
  },
  {
   "cell_type": "code",
   "execution_count": 26,
   "id": "812a21a9-ad34-40a2-9aa9-f06c1d68e80e",
   "metadata": {},
   "outputs": [
    {
     "ename": "NameError",
     "evalue": "name 'df' is not defined",
     "output_type": "error",
     "traceback": [
      "\u001b[0;31m---------------------------------------------------------------------------\u001b[0m",
      "\u001b[0;31mNameError\u001b[0m                                 Traceback (most recent call last)",
      "\u001b[0;32m<ipython-input-26-4edfe0f01256>\u001b[0m in \u001b[0;36m<module>\u001b[0;34m\u001b[0m\n\u001b[1;32m      2\u001b[0m \u001b[0mcorr_target_abs\u001b[0m \u001b[0;34m=\u001b[0m \u001b[0mabs\u001b[0m\u001b[0;34m(\u001b[0m\u001b[0mcorr_target_x\u001b[0m\u001b[0;34m)\u001b[0m \u001b[0;31m# just interested in magnitudes here\u001b[0m\u001b[0;34m\u001b[0m\u001b[0;34m\u001b[0m\u001b[0m\n\u001b[1;32m      3\u001b[0m \u001b[0mcorr_sorted\u001b[0m \u001b[0;34m=\u001b[0m \u001b[0mcorr_target_abs\u001b[0m\u001b[0;34m.\u001b[0m\u001b[0msort_values\u001b[0m\u001b[0;34m(\u001b[0m\u001b[0mby\u001b[0m\u001b[0;34m=\u001b[0m\u001b[0;34m'target'\u001b[0m\u001b[0;34m,\u001b[0m \u001b[0maxis\u001b[0m\u001b[0;34m=\u001b[0m\u001b[0;36m1\u001b[0m\u001b[0;34m,\u001b[0m \u001b[0mascending\u001b[0m\u001b[0;34m=\u001b[0m\u001b[0;32mFalse\u001b[0m\u001b[0;34m)\u001b[0m \u001b[0;31m# df columns of useful values by correlation with target, will be modified later\u001b[0m\u001b[0;34m\u001b[0m\u001b[0;34m\u001b[0m\u001b[0m\n\u001b[0;32m----> 4\u001b[0;31m \u001b[0my\u001b[0m \u001b[0;34m=\u001b[0m \u001b[0mdf\u001b[0m\u001b[0;34m.\u001b[0m\u001b[0mtarget\u001b[0m \u001b[0;31m# pulling out the dependent variable\u001b[0m\u001b[0;34m\u001b[0m\u001b[0;34m\u001b[0m\u001b[0m\n\u001b[0m\u001b[1;32m      5\u001b[0m \u001b[0mX\u001b[0m \u001b[0;34m=\u001b[0m \u001b[0mdf\u001b[0m\u001b[0;34m.\u001b[0m\u001b[0mdrop\u001b[0m\u001b[0;34m(\u001b[0m\u001b[0;34m'target'\u001b[0m\u001b[0;34m,\u001b[0m \u001b[0maxis\u001b[0m\u001b[0;34m=\u001b[0m\u001b[0;36m1\u001b[0m\u001b[0;34m)\u001b[0m \u001b[0;31m# isolating the independent variables\u001b[0m\u001b[0;34m\u001b[0m\u001b[0;34m\u001b[0m\u001b[0m\n\u001b[1;32m      6\u001b[0m \u001b[0;32mdel\u001b[0m \u001b[0mdf\u001b[0m \u001b[0;31m# cleaning up memory\u001b[0m\u001b[0;34m\u001b[0m\u001b[0;34m\u001b[0m\u001b[0m\n",
      "\u001b[0;31mNameError\u001b[0m: name 'df' is not defined"
     ]
    }
   ],
   "source": [
    "corr_target_x = corr_target.drop('target', axis=1) # dropping the trivial 1.00 autocorrelation\n",
    "corr_target_abs = abs(corr_target_x) # just interested in magnitudes here\n",
    "corr_sorted = corr_target_abs.sort_values(by='target', axis=1, ascending=False) # df columns of useful values by correlation with target, will be modified later\n",
    "y = df.target # pulling out the dependent variable\n",
    "X = df.drop('target', axis=1) # isolating the independent variables\n",
    "del df # cleaning up memory\n",
    "categoricals = [f for f in X.columns if ((1000000 - X[f].nunique()) / 1000000) >=0.9 and X[f].nunique() > 2] # not touching already binary encoded vars"
   ]
  },
  {
   "cell_type": "markdown",
   "id": "2d9a30a0-786e-4d24-8a48-aeaefecc3a10",
   "metadata": {},
   "source": [
    "## Parameters"
   ]
  },
  {
   "cell_type": "code",
   "execution_count": null,
   "id": "b9f5ba3e-7883-4d96-9220-6dfc063a045d",
   "metadata": {},
   "outputs": [],
   "source": [
    "# optuna 20211004, thru 106 trials on unaltered original dataset\n",
    "params = {\n",
    "    'n_estimators': 3878,\n",
    "    'max_depth': 4,\n",
    "    'learning_rate': 0.024785857161974977,\n",
    "    'reg_alpha': 26.867682044658245,\n",
    "    'reg_lambda': 10.839759074147148,\n",
    "    'subsample': 0.8208581489835881,\n",
    "    'min_child_weight': 8.829122644339664,\n",
    "    'colsample_bytree': 0.906420714280384,\n",
    "    'gamma': 1.472322916021486\n",
    "}"
   ]
  },
  {
   "cell_type": "code",
   "execution_count": 26,
   "id": "d2a19358-c411-4cc5-a437-a142f04f9a30",
   "metadata": {
    "jupyter": {
     "source_hidden": true
    },
    "tags": []
   },
   "outputs": [],
   "source": [
    "def cross_validate_model(X, y, params:dict=best_xgboost_params, start_fold=0, \n",
    "                         exmodel_config=exmodel_config, wandb_config=wandb_config, \n",
    "                         random_state=42):\n",
    "    \"\"\"\n",
    "    Modified version of cross-validation function from `stacking_manual_*.ipynb` series\n",
    "    \"\"\"\n",
    "    # prepare for k-fold cross-validation; random-state here is notebook-wide, not per-model\n",
    "    # shuffle on the initial sets, but not subsequently -- performing the same operation twice means a very different dataset\n",
    "    kfold = exmodel_config['cross_val_strategy'](n_splits=exmodel_config['kfolds'], shuffle=False)\n",
    "        \n",
    "    # initialize lists for out-of-fold preds and ground truth\n",
    "    oof_preds, oof_y = [], []\n",
    "        \n",
    "    for fold, (train_ids, valid_ids) in enumerate(kfold.split(X,y)):\n",
    "#         print(f\"type(train_ids) = {type(train_ids)} and train_ids.shape = {train_ids.shape}\")\n",
    "#         print(f\"type(valid_ids) = {type(valid_ids)} and train_ids.shape = {valid_ids.shape}\")\n",
    "        if fold < start_fold: # skip folds that are already trained\n",
    "            continue\n",
    "        else:\n",
    "            print(f\"FOLD {fold}\")\n",
    "            print(\"---------------------------------------------------\")\n",
    "            \n",
    "            \n",
    "            y_train, y_valid = y[train_ids], y[valid_ids] # y will be an np.ndarray already; handling will be same regardless of model\n",
    "            if isinstance(X, np.ndarray):\n",
    "                X_train, X_valid = X[train_ids], X[valid_ids]\n",
    "            else:\n",
    "                X_train, X_valid = X.iloc[train_ids,:], X.iloc[valid_ids,:] # bc need pandas.DataFrames for ce\n",
    "            \n",
    "            # exmodel_config['feature_count'] = len(X.columns)\n",
    "#                 wandb.log({\n",
    "#                     'feature_count': X_train.shape[1],\n",
    "#                     'instance_count': X_train.shape[0],\n",
    "#                     'encoder': str(encoder)\n",
    "#                 })\n",
    "#                 exmodel_config['instance_count'] = X_train.shape[0]\n",
    "#                 exmodel_config['encoder'] = str(encoder)\n",
    "#                     X_test = encoder.transform(X_test)\n",
    "#                 y_train, y_valid = y[train_ids], y[valid_ids]\n",
    "\n",
    "        # define models\n",
    "        model = XGBClassifier(\n",
    "            booster='gbtree',\n",
    "            tree_method='gpu_hist',\n",
    "            random_state=random_state,\n",
    "            n_jobs=-1, \n",
    "            verbosity=1, \n",
    "            objective='binary:logistic',\n",
    "            **params)\n",
    "        if wandb_tracked:\n",
    "            model.fit(X_train, y_train, callbacks=[wandb.xgboost.wandb_callback()])\n",
    "        else:\n",
    "            model.fit(X_train, y_train)\n",
    "        y_valid_preds = model.predict_proba(X_valid)[:,1]\n",
    "\n",
    "        # add the fold-model's OOF preds and ground truths to the out-of-loop lists\n",
    "        oof_preds.extend(y_valid_preds)\n",
    "        oof_y.extend(y_valid)\n",
    "\n",
    "        # add the fold's predictions to the model's test-set predictions (will divide later)\n",
    "        test_preds += model.predict_proba(X_test)[:,1]\n",
    "\n",
    "\n",
    "\n",
    "#         valid_loss = log_loss(y_valid, y_pred)\n",
    "        # give the valid AUC score, for edification\n",
    "        fold_valid_auc = roc_auc_score(y_valid, y_valid_preds)\n",
    "        print(f\"Valid AUC for fold {fold} is {fold_valid_auc}\")   \n",
    "        dump(model, Path(runpath/f\"{library}_fold{fold}_rs{random_state}_model.joblib\"))\n",
    "\n",
    "    model_valid_auc = roc_auc_score(oof_y, oof_preds)\n",
    "    print(f\"Valid AUC score for {library} model is {model_valid_auc}\")\n",
    "    \n",
    "    # finalize test preds\n",
    "#     test_preds /= exmodel_config['kfolds']\n",
    "    \n",
    "    # save OOF preds and test-set preds\n",
    "#     dump(oof_preds, Path(predpath/f\"{wandb_config['name']}_{library}_{exmodel_config['kfolds']}folds_rs{random_state}_oof_preds.joblib\"))\n",
    "#     dump(test_preds, Path(predpath/f\"{wandb_config['name']}_{library}_{exmodel_config['kfolds']}folds_rs{random_state}_test_preds.joblib\"))\n",
    "#     dump(oof_y, predpath/f\"{exmodel_config['kfolds']}folds_rs{SEED}_oof_y.joblib\")\n",
    "    \n",
    "    return model_valid_auc#, test_preds\n",
    "        "
   ]
  },
  {
   "cell_type": "code",
   "execution_count": 28,
   "id": "3d0c5eba-c314-47ae-8bbe-7da26af02276",
   "metadata": {},
   "outputs": [
    {
     "data": {
      "text/plain": [
       "numpy.ndarray"
      ]
     },
     "execution_count": 28,
     "metadata": {},
     "output_type": "execute_result"
    }
   ],
   "source": [
    "b = load(altdatapath/'X_boruta_200iter_filtered_green.joblib')\n",
    "type(b)"
   ]
  },
  {
   "cell_type": "code",
   "execution_count": 31,
   "id": "ac21ce42-a882-4e2c-a8c4-c1b1438fcff4",
   "metadata": {},
   "outputs": [
    {
     "data": {
      "text/html": [
       "<div>\n",
       "<style scoped>\n",
       "    .dataframe tbody tr th:only-of-type {\n",
       "        vertical-align: middle;\n",
       "    }\n",
       "\n",
       "    .dataframe tbody tr th {\n",
       "        vertical-align: top;\n",
       "    }\n",
       "\n",
       "    .dataframe thead th {\n",
       "        text-align: right;\n",
       "    }\n",
       "</style>\n",
       "<table border=\"1\" class=\"dataframe\">\n",
       "  <thead>\n",
       "    <tr style=\"text-align: right;\">\n",
       "      <th></th>\n",
       "      <th>0</th>\n",
       "      <th>1</th>\n",
       "      <th>2</th>\n",
       "      <th>3</th>\n",
       "      <th>4</th>\n",
       "      <th>5</th>\n",
       "      <th>6</th>\n",
       "      <th>7</th>\n",
       "      <th>8</th>\n",
       "      <th>9</th>\n",
       "      <th>...</th>\n",
       "      <th>89</th>\n",
       "      <th>90</th>\n",
       "      <th>91</th>\n",
       "      <th>92</th>\n",
       "      <th>93</th>\n",
       "      <th>94</th>\n",
       "      <th>95</th>\n",
       "      <th>96</th>\n",
       "      <th>97</th>\n",
       "      <th>target</th>\n",
       "    </tr>\n",
       "  </thead>\n",
       "  <tbody>\n",
       "    <tr>\n",
       "      <th>0</th>\n",
       "      <td>0.410993</td>\n",
       "      <td>0.176775</td>\n",
       "      <td>0.223581</td>\n",
       "      <td>0.423543</td>\n",
       "      <td>0.476140</td>\n",
       "      <td>0.413590</td>\n",
       "      <td>0.612021</td>\n",
       "      <td>0.534873</td>\n",
       "      <td>0.200924</td>\n",
       "      <td>0.713191</td>\n",
       "      <td>...</td>\n",
       "      <td>0.0</td>\n",
       "      <td>1.0</td>\n",
       "      <td>1.0</td>\n",
       "      <td>0.0</td>\n",
       "      <td>1.0</td>\n",
       "      <td>0.0</td>\n",
       "      <td>0.0</td>\n",
       "      <td>1.0</td>\n",
       "      <td>1.0</td>\n",
       "      <td>1</td>\n",
       "    </tr>\n",
       "    <tr>\n",
       "      <th>1</th>\n",
       "      <td>0.473119</td>\n",
       "      <td>0.011734</td>\n",
       "      <td>0.213657</td>\n",
       "      <td>0.619678</td>\n",
       "      <td>0.441593</td>\n",
       "      <td>0.230407</td>\n",
       "      <td>0.686013</td>\n",
       "      <td>0.281971</td>\n",
       "      <td>0.231828</td>\n",
       "      <td>0.457150</td>\n",
       "      <td>...</td>\n",
       "      <td>0.0</td>\n",
       "      <td>0.0</td>\n",
       "      <td>0.0</td>\n",
       "      <td>1.0</td>\n",
       "      <td>0.0</td>\n",
       "      <td>0.0</td>\n",
       "      <td>1.0</td>\n",
       "      <td>0.0</td>\n",
       "      <td>1.0</td>\n",
       "      <td>1</td>\n",
       "    </tr>\n",
       "    <tr>\n",
       "      <th>2</th>\n",
       "      <td>0.307431</td>\n",
       "      <td>0.325950</td>\n",
       "      <td>0.207116</td>\n",
       "      <td>0.605699</td>\n",
       "      <td>0.309695</td>\n",
       "      <td>0.493337</td>\n",
       "      <td>0.751107</td>\n",
       "      <td>0.536272</td>\n",
       "      <td>0.247791</td>\n",
       "      <td>0.631949</td>\n",
       "      <td>...</td>\n",
       "      <td>0.0</td>\n",
       "      <td>0.0</td>\n",
       "      <td>0.0</td>\n",
       "      <td>1.0</td>\n",
       "      <td>0.0</td>\n",
       "      <td>0.0</td>\n",
       "      <td>0.0</td>\n",
       "      <td>0.0</td>\n",
       "      <td>1.0</td>\n",
       "      <td>1</td>\n",
       "    </tr>\n",
       "    <tr>\n",
       "      <th>3</th>\n",
       "      <td>0.494592</td>\n",
       "      <td>0.008367</td>\n",
       "      <td>0.223580</td>\n",
       "      <td>0.760618</td>\n",
       "      <td>0.439211</td>\n",
       "      <td>0.432055</td>\n",
       "      <td>0.776147</td>\n",
       "      <td>0.483958</td>\n",
       "      <td>0.287755</td>\n",
       "      <td>0.455777</td>\n",
       "      <td>...</td>\n",
       "      <td>1.0</td>\n",
       "      <td>1.0</td>\n",
       "      <td>0.0</td>\n",
       "      <td>0.0</td>\n",
       "      <td>0.0</td>\n",
       "      <td>0.0</td>\n",
       "      <td>1.0</td>\n",
       "      <td>0.0</td>\n",
       "      <td>0.0</td>\n",
       "      <td>1</td>\n",
       "    </tr>\n",
       "    <tr>\n",
       "      <th>4</th>\n",
       "      <td>0.495513</td>\n",
       "      <td>0.014263</td>\n",
       "      <td>0.548819</td>\n",
       "      <td>0.625396</td>\n",
       "      <td>0.562493</td>\n",
       "      <td>0.117158</td>\n",
       "      <td>0.561255</td>\n",
       "      <td>0.077115</td>\n",
       "      <td>0.265285</td>\n",
       "      <td>0.503776</td>\n",
       "      <td>...</td>\n",
       "      <td>0.0</td>\n",
       "      <td>1.0</td>\n",
       "      <td>0.0</td>\n",
       "      <td>1.0</td>\n",
       "      <td>0.0</td>\n",
       "      <td>1.0</td>\n",
       "      <td>0.0</td>\n",
       "      <td>0.0</td>\n",
       "      <td>1.0</td>\n",
       "      <td>1</td>\n",
       "    </tr>\n",
       "  </tbody>\n",
       "</table>\n",
       "<p>5 rows × 99 columns</p>\n",
       "</div>"
      ],
      "text/plain": [
       "          0         1         2         3         4         5         6  \\\n",
       "0  0.410993  0.176775  0.223581  0.423543  0.476140  0.413590  0.612021   \n",
       "1  0.473119  0.011734  0.213657  0.619678  0.441593  0.230407  0.686013   \n",
       "2  0.307431  0.325950  0.207116  0.605699  0.309695  0.493337  0.751107   \n",
       "3  0.494592  0.008367  0.223580  0.760618  0.439211  0.432055  0.776147   \n",
       "4  0.495513  0.014263  0.548819  0.625396  0.562493  0.117158  0.561255   \n",
       "\n",
       "          7         8         9  ...   89   90   91   92   93   94   95   96  \\\n",
       "0  0.534873  0.200924  0.713191  ...  0.0  1.0  1.0  0.0  1.0  0.0  0.0  1.0   \n",
       "1  0.281971  0.231828  0.457150  ...  0.0  0.0  0.0  1.0  0.0  0.0  1.0  0.0   \n",
       "2  0.536272  0.247791  0.631949  ...  0.0  0.0  0.0  1.0  0.0  0.0  0.0  0.0   \n",
       "3  0.483958  0.287755  0.455777  ...  1.0  1.0  0.0  0.0  0.0  0.0  1.0  0.0   \n",
       "4  0.077115  0.265285  0.503776  ...  0.0  1.0  0.0  1.0  0.0  1.0  0.0  0.0   \n",
       "\n",
       "    97  target  \n",
       "0  1.0       1  \n",
       "1  1.0       1  \n",
       "2  1.0       1  \n",
       "3  0.0       1  \n",
       "4  1.0       1  \n",
       "\n",
       "[5 rows x 99 columns]"
      ]
     },
     "execution_count": 31,
     "metadata": {},
     "output_type": "execute_result"
    }
   ],
   "source": [
    "bdf = pd.DataFrame(b, index=X.index).join(y)\n",
    "bdf.head()"
   ]
  },
  {
   "cell_type": "markdown",
   "id": "b7b19679-1488-437e-9140-d300c83fcf24",
   "metadata": {},
   "source": [
    "(Following cells generate the correlations for the different feature selections, so that the process need not be repeated each iteration.)"
   ]
  },
  {
   "cell_type": "code",
   "execution_count": 36,
   "id": "4b7781d7-daf3-4376-9018-f5687687ee8d",
   "metadata": {},
   "outputs": [
    {
     "data": {
      "text/plain": [
       "['/media/sf/easystore/kaggle_data/tabular_playgrounds/oct2021/alt_datasets/X_boruta_200iter_filtered_green_corr_sorted.joblib']"
      ]
     },
     "execution_count": 36,
     "metadata": {},
     "output_type": "execute_result"
    }
   ],
   "source": [
    "# b = load(altdatapath/'X_boruta_200iter_filtered_green.joblib')\n",
    "# bdf = pd.DataFrame(b, index=X.index).join(y)\n",
    "# bdf.head()\n",
    "# bdf_corr = bdf.corr()\n",
    "# bdf_corr_target = bdf_corr.loc['target':'target']\n",
    "# bdf_corr_target_x = bdf_corr_target.drop('target', axis=1) # dropping the trivial 1.00 autocorrelation\n",
    "# bdf_corr_target_abs = abs(bdf_corr_target_x) # just interested in magnitudes here\n",
    "# bdf_corr_sorted = bdf_corr_target_abs.sort_values(by='target', axis=1, ascending=False)\n",
    "# dump(bdf_corr_sorted, altdatapath/'X_boruta_200iter_filtered_green_corr_sorted.joblib')"
   ]
  },
  {
   "cell_type": "code",
   "execution_count": 37,
   "id": "c92e8b38-e735-4d16-9cef-c2fd52cdbf94",
   "metadata": {},
   "outputs": [],
   "source": [
    "# del b, bdf, bdf_corr_target, bdf_corr_target_x, bdf_corr_target_abs, bdf_corr_sorted"
   ]
  },
  {
   "cell_type": "code",
   "execution_count": 38,
   "id": "108991f2-9ec7-4217-b1c0-936c848fc46c",
   "metadata": {},
   "outputs": [
    {
     "data": {
      "text/plain": [
       "['/media/sf/easystore/kaggle_data/tabular_playgrounds/oct2021/alt_datasets/X_boruta_shap_200trials_corr_sorted.joblib']"
      ]
     },
     "execution_count": 38,
     "metadata": {},
     "output_type": "execute_result"
    }
   ],
   "source": [
    "# b = pd.read_feather(altdatapath/'X_boruta_shap_200trials.feather')\n",
    "# bdf = b.join(y)\n",
    "# # bdf.head()\n",
    "# bdf_corr = bdf.corr()\n",
    "# bdf_corr_target = bdf_corr.loc['target':'target']\n",
    "# bdf_corr_target_x = bdf_corr_target.drop('target', axis=1) # dropping the trivial 1.00 autocorrelation\n",
    "# bdf_corr_target_abs = abs(bdf_corr_target_x) # just interested in magnitudes here\n",
    "# bdf_corr_sorted = bdf_corr_target_abs.sort_values(by='target', axis=1, ascending=False)\n",
    "# dump(bdf_corr_sorted, altdatapath/'X_boruta_shap_200trials_corr_sorted.joblib')"
   ]
  },
  {
   "cell_type": "code",
   "execution_count": 14,
   "id": "94e3dc59-21bb-49c5-9535-83ee0edb3506",
   "metadata": {
    "id": "1d93b6f2-2d65-48a9-9862-510bd7d2b75b"
   },
   "outputs": [],
   "source": [
    "# originally from https://www.kaggle.com/satorushibata/optimize-catboost-hyperparameter-with-optuna-gpu\n",
    "def objective(trial):\n",
    "    # split the (original Kaggle training) data into partitions\n",
    "    # if study.best_trial:\n",
    "    #     print(\"Dumping best params, which are:\")\n",
    "    #     print(str(study.best_trial.params))\n",
    "    #     dump(study.best_trial.params, filename=datapath/'optuna_catboost_best_20210920.joblib')\n",
    "    \n",
    "\n",
    "#     dump(pca60, edapath/'PCA_60.joblibg')\n",
    "\n",
    "    # use the original 286-feature dataset, or the 136-feature BorutaShap selected one\n",
    "#     dataset = trial.suggest_categorical('dataset', ['X_orig.feather', 'X_boruta_shap_200trials.feather']) \n",
    "#     train_source = altdatapath/'X_orig.feather'\n",
    "    # train_source = altdatapath/'train-WITH-KMeans_12cluster_kmeans++_maxiter1000_rs42.feather' #'X_boruta_shap_200trials.feather'\n",
    "#     X = pd.read_feather(path=train_source)\n",
    "#     y = load(datapath/'y.joblib')\n",
    "    \n",
    "#     # decides whether binary-encoded categoricals are encoded or not\n",
    "#     cardinality_min = trial.suggest_categorical('cardinality_min', [0, 2]) \n",
    "        \n",
    "    encoder_name = trial.suggest_categorical('encoder_name', ['woe', 'catboost', 'james-stein', 'loo', 'mestimate', 'target', 'hashing', None])\n",
    "    if encoder_name:\n",
    "        encode_before_kmeans = trial.suggest_categorical('encode_before_kmeans', [True, False]) # determines order\n",
    "\n",
    "    # define dict of encoders, with names as keys and implementations as values\n",
    "    encoders = {\n",
    "        'woe': ce.WOEEncoder(cols=categoricals),\n",
    "        'catboost': ce.CatBoostEncoder(cols=categoricals),\n",
    "        'james-stein': ce.JamesSteinEncoder(cols=categoricals),\n",
    "        'loo': ce.LeaveOneOutEncoder(cols=categoricals),\n",
    "        'mestimate': ce.MEstimateEncoder(cols=categoricals),\n",
    "        'target': ce.TargetEncoder(cols=categoricals),\n",
    "        'hashing': ce.HashingEncoder(cols=categoricals),\n",
    "    }\n",
    "    \n",
    "    # feature selection setup -- applied before preprocessing\n",
    "    feature_selection = trial.suggest_categorical('feature_selection', ['BorutaShap', 'Boruta', None])\n",
    "    k_means_method = trial.suggest_categorical('k_means_method', [25, 50, 100, 'k-means++', None]) # K-Means initialization method\n",
    "\n",
    "    # now, switch datasets if feature selection is implemented; regardless, prepare appropriate K-Means setup (to be implemented later, in folds)\n",
    "    if feature_selection: # create a subset of features if appropriate\n",
    "        if feature_selection == 'BorutaShap':\n",
    "            X = pd.read_feather(altdatapath/'X_boruta_shap_200trials.feather', index=X.index) # :: pd.DataFrame\n",
    "            categoricals = [f for f in X.columns if ((1000000 - X[f].nunique()) / 1000000) >=0.9 and X[f].nunique() > 2] # not touching already binary encoded vars\n",
    "            # k-means cluster feature generation setup \n",
    "            if k_means_method:\n",
    "                corr_sorted = load(altdatapath/'X_boruta_shap_200trials_corr_sorted.joblib') # load prepared correlations\n",
    "                useful_features = list(corr_sorted.columns[:k_means_clusters])\n",
    "        elif feature_selection == 'Boruta':\n",
    "            X = pd.DataFrame(load(altdatapath/'X_boruta_200iter_filtered_green.joblib'), index=X.index)\n",
    "            if k_means_method:\n",
    "                corr_sorted = load(altdatapath/'X_boruta_200iter_filtered_green_corr_sorted.joblib') # load prepared correlations\n",
    "                useful_features = list(corr_sorted.columns[:k_means_clusters])\n",
    "            categoricals = [f for f in X.columns if ((1000000 - X[f].nunique()) / 1000000) >=0.9 and X[f].nunique() > 2] # not touching already binary encoded vars\n",
    "    else:\n",
    "        if k_means_method:\n",
    "            k_means_clusters = trial.suggest_int('k_means_clusters', 6, 12) # for grabbing the most useful features from `corr_sorted`\n",
    "            useful_features = list(corr_sorted.columns[:k_means_clusters])\n",
    "    \n",
    "    # PCA dimensionality reduction setup -- applied at end of preprocessing\n",
    "    pca_components = trial.suggest_categorical('pca_components', [50, 75, 'mle', None, 'NO'])\n",
    "    \n",
    "    # define k-fold splitter\n",
    "    kfold = KFold(n_splits=5, shuffle=False)\n",
    "        \n",
    "    # initialize lists for out-of-fold preds and ground truth\n",
    "    oof_preds, oof_y = [], []\n",
    "            \n",
    "    for fold, (train_ids, valid_ids) in enumerate(kfold.split(X,y)):\n",
    "        print(f\"FOLD {fold}\")\n",
    "        print(\"---------------------------------------------------\")\n",
    "        \n",
    "        y_train, y_valid = y[train_ids], y[valid_ids] # slicing syntax works on both pandas.Series and numpy.ndarray\n",
    "        # category_encoders expects pandas.DataFrames\n",
    "        X_train, X_valid = X.iloc[train_ids,:], X.iloc[valid_ids,:] # bc need pandas.DataFrames for slicing\n",
    "        \n",
    "        # now, apply preprocessing\n",
    "        if encoder_name: # if categorical encoding to be applied to high cardinality (2<x<100,000) categoricals...\n",
    "            if k_means_method: # if k-means proceeding\n",
    "                if encode_before_kmeans: # do category encoding, then clustering\n",
    "                    # category encoding for high-cardinality categoricals\n",
    "                    encoder = encoders[encoder_name]\n",
    "                    X_train = encoder.fit_transform(X_train, y_train)\n",
    "                    X_valid = encoder.transform(X_valid)\n",
    "\n",
    "                    # k-means cluster feature generation\n",
    "                    cluster_cols = [f\"cluster{i+1}\" for i in range(k_means_clusters)]\n",
    "                    if k_means_method == 'k-means++':\n",
    "                        kmeans = KMeans(n_clusters=k_means_clusters, init=\"k-means++\", max_iter=1000, random_state=SEED,n_jobs=-1)\n",
    "                    else:\n",
    "                        kmeans = KMeans(n_clusters=k_means_clusters, n_init=k_means_method, max_iter=1000, random_state=SEED, n_jobs=-1)\n",
    "                    # fit on the training set only\n",
    "                    X_train_clusters = kmeans.fit_transform(X_train[useful_features])\n",
    "                    X_valid_clusters = kmeans.transform(X_valid[useful_features])\n",
    "                    # convert numpy.ndarrays back to properly-labeled pandas.DataFrames\n",
    "                    X_train_clusters = pd.DataFrame(X_train_clusters, columns=cluster_cols, index=X_train.index)\n",
    "                    X_valid_clusters = pd.DataFrame(X_valid_clusters, columns=cluster_cols, index=X_valid.index)\n",
    "                    # join the cluster-distance features to the training and validation sets\n",
    "                    X_train = X_train.join(X_train_clusters)\n",
    "                    X_valid = X_valid.join(X_valid_clusters)\n",
    "\n",
    "                else: # do k-means clustering, then do category encoding\n",
    "                    cluster_cols = [f\"cluster{i+1}\" for i in range(k_means_clusters)]\n",
    "                    if k_means_init_method == 'k-means++':\n",
    "                        kmeans = KMeans(n_clusters=k_means_clusters, init=\"k-means++\", max_iter=1000, random_state=SEED,n_jobs=-1)\n",
    "                    else:\n",
    "                        kmeans = KMeans(n_clusters=k_means_clusters, n_init=k_means_init_method, max_iter=1000, random_state=SEED, n_jobs=-1)\n",
    "                    X_train_clusters = kmeans.fit_transform(X_train[useful_features])\n",
    "                    X_valid_clusters = kmeans.transform(X_valid[useful_features])\n",
    "                    X_train_clusters = pd.DataFrame(X_train_clusters, columns=cluster_cols, index=X_train.index)\n",
    "                    X_valid_clusters = pd.DataFrame(X_valid_clusters, columns=cluster_cols, index=X_valid.index)\n",
    "                    X_train = X_train.join(X_train_clusters)\n",
    "                    X_valid = X_valid.join(X_valid_clusters)\n",
    "\n",
    "                    encoder = encoders[encoder_name]\n",
    "                    X_train = encoder.fit_transform(X_train, y_train)\n",
    "                    X_valid = encoder.transform(X_valid)\n",
    "            \n",
    "            else: # category encoding, but no k-means\n",
    "                encoder = encoders[encoder_name]\n",
    "                X_train = encoder.fit_transform(X_train, y_train)\n",
    "                X_valid = encoder.transform(X_valid)\n",
    "                \n",
    "        else: # no category encoding\n",
    "            if k_means_method: # if still doing k-means\n",
    "                # k-means cluster feature generation\n",
    "                cluster_cols = [f\"cluster{i+1}\" for i in range(k_means_clusters)]\n",
    "                if k_means_method == 'k-means++':\n",
    "                    kmeans = KMeans(n_clusters=k_means_clusters, init=\"k-means++\", max_iter=1000, random_state=SEED,n_jobs=-1)\n",
    "                else:\n",
    "                    kmeans = KMeans(n_clusters=k_means_clusters, n_init=k_means_method, max_iter=1000, random_state=SEED, n_jobs=-1)\n",
    "                # fit on the training set only\n",
    "                X_train_clusters = kmeans.fit_transform(X_train[useful_features])\n",
    "                X_valid_clusters = kmeans.transform(X_valid[useful_features])\n",
    "                # convert numpy.ndarrays back to properly-labeled pandas.DataFrames\n",
    "                X_train_clusters = pd.DataFrame(X_train_clusters, columns=cluster_cols, index=X_train.index)\n",
    "                X_valid_clusters = pd.DataFrame(X_valid_clusters, columns=cluster_cols, index=X_valid.index)\n",
    "                # join the cluster-distance features to the training and validation sets\n",
    "                X_train = X_train.join(X_train_clusters)\n",
    "                X_valid = X_valid.join(X_valid_clusters)\n",
    "            \n",
    "        \n",
    "        # now, PCA dimensionality reduction\n",
    "        if pca_components != 'NO':\n",
    "            pca = PCA(n_components=pca_components, random_state=42)\n",
    "            X_train = pca.fit_transform(X_train)\n",
    "            X_valid = pca.transform(X_valid)\n",
    "            \n",
    "        # define models\n",
    "        model = XGBClassifier(\n",
    "            booster='gbtree',\n",
    "            tree_method='gpu_hist',\n",
    "            random_state=random_state,\n",
    "            n_jobs=-1, \n",
    "            verbosity=1, \n",
    "            objective='binary:logistic',\n",
    "            **params)\n",
    "        model.fit(X_train, y_train)\n",
    "        y_valid_preds = model.predict_proba(X_valid)[:,1]\n",
    "\n",
    "        # add the fold-model's OOF preds and ground truths to the out-of-loop lists\n",
    "        oof_preds.extend(y_valid_preds)\n",
    "        oof_y.extend(y_valid)\n",
    "\n",
    "        # add the fold's predictions to the model's test-set predictions (will divide later)\n",
    "        test_preds += model.predict_proba(X_test)[:,1]\n",
    "\n",
    "        fold_valid_auc = roc_auc_score(y_valid, y_valid_preds)\n",
    "        print(f\"Valid AUC for fold {fold} is {fold_valid_auc}\")   \n",
    "#         dump(model, Path(runpath/f\"{library}_fold{fold}_rs{random_state}_model.joblib\"))\n",
    "\n",
    "    model_valid_auc = roc_auc_score(oof_y, oof_preds)\n",
    "    print(f\"Valid AUC score for is {model_valid_auc}\")\n",
    "    \n",
    "    return valid_auc"
   ]
  },
  {
   "cell_type": "code",
   "execution_count": 15,
   "id": "1b0ce509-11c3-4c1e-847b-89a50dc4ade7",
   "metadata": {
    "colab": {
     "base_uri": "https://localhost:8080/",
     "height": 231
    },
    "id": "0e85f589-1507-4b75-80d9-8b062970102f",
    "outputId": "4e88b8c2-11ec-493d-8fdb-f97cd2f0243a",
    "tags": []
   },
   "outputs": [
    {
     "name": "stderr",
     "output_type": "stream",
     "text": [
      "<ipython-input-15-69ea9289a2cf>:1: ExperimentalWarning: WeightsAndBiasesCallback is experimental (supported from v2.9.0). The interface can change in the future.\n",
      "  wandbc = WeightsAndBiasesCallback(wandb_kwargs=wandb_kwargs)\n",
      "\u001b[34m\u001b[1mwandb\u001b[0m: Currently logged in as: \u001b[33mhushifang\u001b[0m (use `wandb login --relogin` to force relogin)\n",
      "\u001b[34m\u001b[1mwandb\u001b[0m: wandb version 0.12.5 is available!  To upgrade, please run:\n",
      "\u001b[34m\u001b[1mwandb\u001b[0m:  $ pip install wandb --upgrade\n"
     ]
    },
    {
     "data": {
      "text/html": [
       "\n",
       "                    Syncing run <strong><a href=\"https://wandb.ai/hushifang/202110_Kaggle_tabular_playground/runs/jn0jdnqn\" target=\"_blank\">sweep_catboost_20211021_150418</a></strong> to <a href=\"https://wandb.ai/hushifang/202110_Kaggle_tabular_playground\" target=\"_blank\">Weights & Biases</a> (<a href=\"https://docs.wandb.com/integrations/jupyter.html\" target=\"_blank\">docs</a>).<br/>\n",
       "\n",
       "                "
      ],
      "text/plain": [
       "<IPython.core.display.HTML object>"
      ]
     },
     "metadata": {},
     "output_type": "display_data"
    }
   ],
   "source": [
    "wandbc = WeightsAndBiasesCallback(wandb_kwargs=wandb_kwargs)"
   ]
  },
  {
   "cell_type": "code",
   "execution_count": 16,
   "id": "c5124950-57e7-45e0-842a-a6eb01b2383d",
   "metadata": {
    "colab": {
     "base_uri": "https://localhost:8080/"
    },
    "id": "ab6749b1-dd7d-4789-b0e2-8491d78fe89b",
    "outputId": "05b7ce12-dc98-4d38-fd83-a0578ec37531",
    "tags": []
   },
   "outputs": [
    {
     "name": "stderr",
     "output_type": "stream",
     "text": [
      "\u001b[32m[I 2021-10-21 15:04:29,479]\u001b[0m A new study created in memory with name: CatBoost_lv2_20211021\u001b[0m\n"
     ]
    }
   ],
   "source": [
    "study = optuna.create_study(direction = \"maximize\", sampler = TPESampler(seed=int(SEED)), study_name='dataset_20211025')\n",
    "# setting n_jobs=1 bc wandb apparently requires this\n"
   ]
  },
  {
   "cell_type": "code",
   "execution_count": 17,
   "id": "3ee181bd-8c5b-4468-bc76-22c5dacd7142",
   "metadata": {
    "colab": {
     "base_uri": "https://localhost:8080/"
    },
    "collapsed": true,
    "id": "uXQWM6Otmxma",
    "jupyter": {
     "outputs_hidden": true
    },
    "outputId": "d4b74ae6-6552-4b2f-a4e0-d9999874ab06",
    "tags": []
   },
   "outputs": [
    {
     "name": "stderr",
     "output_type": "stream",
     "text": [
      "\u001b[32m[I 2021-10-21 15:07:44,984]\u001b[0m Trial 0 finished with value: 0.8424986224444081 and parameters: {'iterations': 12487, 'depth': 10, 'learning_rate': 0.09454306819536169, 'random_strength': 60, 'od_wait': 329, 'reg_lambda': 12.60762738286178, 'border_count': 63, 'min_child_samples': 18, 'leaf_estimation_iterations': 4}. Best is trial 0 with value: 0.8424986224444081.\u001b[0m\n",
      "\u001b[34m\u001b[1mwandb\u001b[0m: \u001b[33mWARNING\u001b[0m Step must only increase in log calls.  Step 0 < 1; dropping {'iterations': 12487, 'depth': 10, 'learning_rate': 0.09454306819536169, 'random_strength': 60, 'od_wait': 329, 'reg_lambda': 12.60762738286178, 'border_count': 63, 'min_child_samples': 18, 'leaf_estimation_iterations': 4, 'value': 0.8424986224444081}.\n"
     ]
    },
    {
     "name": "stdout",
     "output_type": "stream",
     "text": [
      "ROC AUC Score of CatBoost = 0.8424986224444081\n"
     ]
    },
    {
     "name": "stderr",
     "output_type": "stream",
     "text": [
      "\u001b[32m[I 2021-10-21 15:10:03,533]\u001b[0m Trial 1 finished with value: 0.8535448089511177 and parameters: {'iterations': 21826, 'depth': 3, 'learning_rate': 0.41472250004816347, 'random_strength': 84, 'od_wait': 440, 'reg_lambda': 14.364097770082843, 'border_count': 91, 'min_child_samples': 7, 'leaf_estimation_iterations': 3}. Best is trial 1 with value: 0.8535448089511177.\u001b[0m\n",
      "\u001b[34m\u001b[1mwandb\u001b[0m: \u001b[33mWARNING\u001b[0m Step must only increase in log calls.  Step 1 < 2; dropping {'iterations': 21826, 'depth': 3, 'learning_rate': 0.41472250004816347, 'random_strength': 84, 'od_wait': 440, 'reg_lambda': 14.364097770082843, 'border_count': 91, 'min_child_samples': 7, 'leaf_estimation_iterations': 3, 'value': 0.8535448089511177}.\n"
     ]
    },
    {
     "name": "stdout",
     "output_type": "stream",
     "text": [
      "ROC AUC Score of CatBoost = 0.8535448089511177\n"
     ]
    },
    {
     "name": "stderr",
     "output_type": "stream",
     "text": [
      "\u001b[32m[I 2021-10-21 15:11:43,086]\u001b[0m Trial 2 finished with value: 0.855637886238501 and parameters: {'iterations': 14094, 'depth': 5, 'learning_rate': 0.044809759182149515, 'random_strength': 14, 'od_wait': 598, 'reg_lambda': 26.912605343971038, 'border_count': 153, 'min_child_samples': 16, 'leaf_estimation_iterations': 1}. Best is trial 2 with value: 0.855637886238501.\u001b[0m\n",
      "\u001b[34m\u001b[1mwandb\u001b[0m: \u001b[33mWARNING\u001b[0m Step must only increase in log calls.  Step 2 < 3; dropping {'iterations': 14094, 'depth': 5, 'learning_rate': 0.044809759182149515, 'random_strength': 14, 'od_wait': 598, 'reg_lambda': 26.912605343971038, 'border_count': 153, 'min_child_samples': 16, 'leaf_estimation_iterations': 1, 'value': 0.855637886238501}.\n"
     ]
    },
    {
     "name": "stdout",
     "output_type": "stream",
     "text": [
      "ROC AUC Score of CatBoost = 0.855637886238501\n"
     ]
    },
    {
     "name": "stderr",
     "output_type": "stream",
     "text": [
      "\u001b[32m[I 2021-10-21 15:14:28,955]\u001b[0m Trial 3 finished with value: 0.8566329001134951 and parameters: {'iterations': 16399, 'depth': 7, 'learning_rate': 0.0013346527038305934, 'random_strength': 61, 'od_wait': 357, 'reg_lambda': 6.423508322999007, 'border_count': 264, 'min_child_samples': 20, 'leaf_estimation_iterations': 5}. Best is trial 3 with value: 0.8566329001134951.\u001b[0m\n",
      "\u001b[34m\u001b[1mwandb\u001b[0m: \u001b[33mWARNING\u001b[0m Step must only increase in log calls.  Step 3 < 4; dropping {'iterations': 16399, 'depth': 7, 'learning_rate': 0.0013346527038305934, 'random_strength': 61, 'od_wait': 357, 'reg_lambda': 6.423508322999007, 'border_count': 264, 'min_child_samples': 20, 'leaf_estimation_iterations': 5, 'value': 0.8566329001134951}.\n"
     ]
    },
    {
     "name": "stdout",
     "output_type": "stream",
     "text": [
      "ROC AUC Score of CatBoost = 0.8566329001134951\n"
     ]
    },
    {
     "name": "stderr",
     "output_type": "stream",
     "text": [
      "\u001b[32m[I 2021-10-21 15:15:34,111]\u001b[0m Trial 4 finished with value: 0.8563051244493616 and parameters: {'iterations': 10529, 'depth': 3, 'learning_rate': 0.07026263205443048, 'random_strength': 44, 'od_wait': 261, 'reg_lambda': 35.672029887566374, 'border_count': 57, 'min_child_samples': 19, 'leaf_estimation_iterations': 2}. Best is trial 3 with value: 0.8566329001134951.\u001b[0m\n",
      "\u001b[34m\u001b[1mwandb\u001b[0m: \u001b[33mWARNING\u001b[0m Step must only increase in log calls.  Step 4 < 5; dropping {'iterations': 10529, 'depth': 3, 'learning_rate': 0.07026263205443048, 'random_strength': 44, 'od_wait': 261, 'reg_lambda': 35.672029887566374, 'border_count': 57, 'min_child_samples': 19, 'leaf_estimation_iterations': 2, 'value': 0.8563051244493616}.\n"
     ]
    },
    {
     "name": "stdout",
     "output_type": "stream",
     "text": [
      "ROC AUC Score of CatBoost = 0.8563051244493616\n"
     ]
    },
    {
     "name": "stderr",
     "output_type": "stream",
     "text": [
      "\u001b[32m[I 2021-10-21 15:18:21,290]\u001b[0m Trial 5 finished with value: 0.8556056532986065 and parameters: {'iterations': 20551, 'depth': 5, 'learning_rate': 0.02533074654001447, 'random_strength': 55, 'od_wait': 386, 'reg_lambda': 67.93175468798998, 'border_count': 225, 'min_child_samples': 19, 'leaf_estimation_iterations': 5}. Best is trial 3 with value: 0.8566329001134951.\u001b[0m\n",
      "\u001b[34m\u001b[1mwandb\u001b[0m: \u001b[33mWARNING\u001b[0m Step must only increase in log calls.  Step 5 < 6; dropping {'iterations': 20551, 'depth': 5, 'learning_rate': 0.02533074654001447, 'random_strength': 55, 'od_wait': 386, 'reg_lambda': 67.93175468798998, 'border_count': 225, 'min_child_samples': 19, 'leaf_estimation_iterations': 5, 'value': 0.8556056532986065}.\n"
     ]
    },
    {
     "name": "stdout",
     "output_type": "stream",
     "text": [
      "ROC AUC Score of CatBoost = 0.8556056532986065\n"
     ]
    },
    {
     "name": "stderr",
     "output_type": "stream",
     "text": [
      "\u001b[32m[I 2021-10-21 15:23:42,292]\u001b[0m Trial 6 finished with value: 0.8564912122183418 and parameters: {'iterations': 18741, 'depth': 10, 'learning_rate': 0.0017331598058558703, 'random_strength': 19, 'od_wait': 109, 'reg_lambda': 24.122462491901974, 'border_count': 137, 'min_child_samples': 6, 'leaf_estimation_iterations': 5}. Best is trial 3 with value: 0.8566329001134951.\u001b[0m\n",
      "\u001b[34m\u001b[1mwandb\u001b[0m: \u001b[33mWARNING\u001b[0m Step must only increase in log calls.  Step 6 < 7; dropping {'iterations': 18741, 'depth': 10, 'learning_rate': 0.0017331598058558703, 'random_strength': 19, 'od_wait': 109, 'reg_lambda': 24.122462491901974, 'border_count': 137, 'min_child_samples': 6, 'leaf_estimation_iterations': 5, 'value': 0.8564912122183418}.\n"
     ]
    },
    {
     "name": "stdout",
     "output_type": "stream",
     "text": [
      "ROC AUC Score of CatBoost = 0.8564912122183418\n"
     ]
    },
    {
     "name": "stderr",
     "output_type": "stream",
     "text": [
      "\u001b[32m[I 2021-10-21 15:25:08,942]\u001b[0m Trial 7 finished with value: 0.8560105647778642 and parameters: {'iterations': 11989, 'depth': 5, 'learning_rate': 0.029155497059176992, 'random_strength': 14, 'od_wait': 1609, 'reg_lambda': 7.0694437702244155, 'border_count': 273, 'min_child_samples': 16, 'leaf_estimation_iterations': 1}. Best is trial 3 with value: 0.8566329001134951.\u001b[0m\n",
      "\u001b[34m\u001b[1mwandb\u001b[0m: \u001b[33mWARNING\u001b[0m Step must only increase in log calls.  Step 7 < 8; dropping {'iterations': 11989, 'depth': 5, 'learning_rate': 0.029155497059176992, 'random_strength': 14, 'od_wait': 1609, 'reg_lambda': 7.0694437702244155, 'border_count': 273, 'min_child_samples': 16, 'leaf_estimation_iterations': 1, 'value': 0.8560105647778642}.\n"
     ]
    },
    {
     "name": "stdout",
     "output_type": "stream",
     "text": [
      "ROC AUC Score of CatBoost = 0.8560105647778642\n"
     ]
    },
    {
     "name": "stderr",
     "output_type": "stream",
     "text": [
      "\u001b[32m[I 2021-10-21 15:25:38,215]\u001b[0m Trial 8 finished with value: 0.8545855345035971 and parameters: {'iterations': 2154, 'depth': 9, 'learning_rate': 0.08086987436021253, 'random_strength': 73, 'od_wait': 1547, 'reg_lambda': 7.035036317918145, 'border_count': 131, 'min_child_samples': 3, 'leaf_estimation_iterations': 5}. Best is trial 3 with value: 0.8566329001134951.\u001b[0m\n",
      "\u001b[34m\u001b[1mwandb\u001b[0m: \u001b[33mWARNING\u001b[0m Step must only increase in log calls.  Step 8 < 9; dropping {'iterations': 2154, 'depth': 9, 'learning_rate': 0.08086987436021253, 'random_strength': 73, 'od_wait': 1547, 'reg_lambda': 7.035036317918145, 'border_count': 131, 'min_child_samples': 3, 'leaf_estimation_iterations': 5, 'value': 0.8545855345035971}.\n"
     ]
    },
    {
     "name": "stdout",
     "output_type": "stream",
     "text": [
      "ROC AUC Score of CatBoost = 0.8545855345035971\n"
     ]
    },
    {
     "name": "stderr",
     "output_type": "stream",
     "text": [
      "\u001b[32m[I 2021-10-21 15:28:09,176]\u001b[0m Trial 9 finished with value: 0.8566476432546122 and parameters: {'iterations': 19452, 'depth': 5, 'learning_rate': 0.0014843697010415793, 'random_strength': 31, 'od_wait': 664, 'reg_lambda': 51.61322012698836, 'border_count': 194, 'min_child_samples': 18, 'leaf_estimation_iterations': 3}. Best is trial 9 with value: 0.8566476432546122.\u001b[0m\n",
      "\u001b[34m\u001b[1mwandb\u001b[0m: \u001b[33mWARNING\u001b[0m Step must only increase in log calls.  Step 9 < 10; dropping {'iterations': 19452, 'depth': 5, 'learning_rate': 0.0014843697010415793, 'random_strength': 31, 'od_wait': 664, 'reg_lambda': 51.61322012698836, 'border_count': 194, 'min_child_samples': 18, 'leaf_estimation_iterations': 3, 'value': 0.8566476432546122}.\n"
     ]
    },
    {
     "name": "stdout",
     "output_type": "stream",
     "text": [
      "ROC AUC Score of CatBoost = 0.8566476432546122\n"
     ]
    },
    {
     "name": "stderr",
     "output_type": "stream",
     "text": [
      "\u001b[32m[I 2021-10-21 15:32:37,461]\u001b[0m Trial 10 finished with value: 0.8561593831929037 and parameters: {'iterations': 28808, 'depth': 7, 'learning_rate': 0.004833642456218512, 'random_strength': 35, 'od_wait': 1015, 'reg_lambda': 59.9343266060903, 'border_count': 197, 'min_child_samples': 13, 'leaf_estimation_iterations': 3}. Best is trial 9 with value: 0.8566476432546122.\u001b[0m\n",
      "\u001b[34m\u001b[1mwandb\u001b[0m: \u001b[33mWARNING\u001b[0m Step must only increase in log calls.  Step 10 < 11; dropping {'iterations': 28808, 'depth': 7, 'learning_rate': 0.004833642456218512, 'random_strength': 35, 'od_wait': 1015, 'reg_lambda': 59.9343266060903, 'border_count': 197, 'min_child_samples': 13, 'leaf_estimation_iterations': 3, 'value': 0.8561593831929037}.\n"
     ]
    },
    {
     "name": "stdout",
     "output_type": "stream",
     "text": [
      "ROC AUC Score of CatBoost = 0.8561593831929037\n"
     ]
    },
    {
     "name": "stderr",
     "output_type": "stream",
     "text": [
      "\u001b[32m[I 2021-10-21 15:36:49,287]\u001b[0m Trial 11 finished with value: 0.8566357520214488 and parameters: {'iterations': 25654, 'depth': 7, 'learning_rate': 0.0010335457074107561, 'random_strength': 34, 'od_wait': 880, 'reg_lambda': 51.64577001700147, 'border_count': 266, 'min_child_samples': 12, 'leaf_estimation_iterations': 4}. Best is trial 9 with value: 0.8566476432546122.\u001b[0m\n",
      "\u001b[34m\u001b[1mwandb\u001b[0m: \u001b[33mWARNING\u001b[0m Step must only increase in log calls.  Step 11 < 12; dropping {'iterations': 25654, 'depth': 7, 'learning_rate': 0.0010335457074107561, 'random_strength': 34, 'od_wait': 880, 'reg_lambda': 51.64577001700147, 'border_count': 266, 'min_child_samples': 12, 'leaf_estimation_iterations': 4, 'value': 0.8566357520214488}.\n"
     ]
    },
    {
     "name": "stdout",
     "output_type": "stream",
     "text": [
      "ROC AUC Score of CatBoost = 0.8566357520214488\n"
     ]
    },
    {
     "name": "stderr",
     "output_type": "stream",
     "text": [
      "\u001b[32m[I 2021-10-21 15:41:40,584]\u001b[0m Trial 12 finished with value: 0.8558542473919105 and parameters: {'iterations': 26817, 'depth': 8, 'learning_rate': 0.005687903197191066, 'random_strength': 32, 'od_wait': 948, 'reg_lambda': 51.07840315278863, 'border_count': 208, 'min_child_samples': 11, 'leaf_estimation_iterations': 4}. Best is trial 9 with value: 0.8566476432546122.\u001b[0m\n",
      "\u001b[34m\u001b[1mwandb\u001b[0m: \u001b[33mWARNING\u001b[0m Step must only increase in log calls.  Step 12 < 13; dropping {'iterations': 26817, 'depth': 8, 'learning_rate': 0.005687903197191066, 'random_strength': 32, 'od_wait': 948, 'reg_lambda': 51.07840315278863, 'border_count': 208, 'min_child_samples': 11, 'leaf_estimation_iterations': 4, 'value': 0.8558542473919105}.\n"
     ]
    },
    {
     "name": "stdout",
     "output_type": "stream",
     "text": [
      "ROC AUC Score of CatBoost = 0.8558542473919105\n"
     ]
    },
    {
     "name": "stderr",
     "output_type": "stream",
     "text": [
      "\u001b[32m[I 2021-10-21 15:45:19,315]\u001b[0m Trial 13 finished with value: 0.8563900018860763 and parameters: {'iterations': 25646, 'depth': 6, 'learning_rate': 0.0041973016594734625, 'random_strength': 0, 'od_wait': 895, 'reg_lambda': 46.87130506520654, 'border_count': 240, 'min_child_samples': 13, 'leaf_estimation_iterations': 4}. Best is trial 9 with value: 0.8566476432546122.\u001b[0m\n",
      "\u001b[34m\u001b[1mwandb\u001b[0m: \u001b[33mWARNING\u001b[0m Step must only increase in log calls.  Step 13 < 14; dropping {'iterations': 25646, 'depth': 6, 'learning_rate': 0.0041973016594734625, 'random_strength': 0, 'od_wait': 895, 'reg_lambda': 46.87130506520654, 'border_count': 240, 'min_child_samples': 13, 'leaf_estimation_iterations': 4, 'value': 0.8563900018860763}.\n"
     ]
    },
    {
     "name": "stdout",
     "output_type": "stream",
     "text": [
      "ROC AUC Score of CatBoost = 0.8563900018860763\n"
     ]
    },
    {
     "name": "stderr",
     "output_type": "stream",
     "text": [
      "\u001b[32m[I 2021-10-21 15:48:35,263]\u001b[0m Trial 14 finished with value: 0.8566459459498786 and parameters: {'iterations': 23840, 'depth': 6, 'learning_rate': 0.001089261101010539, 'random_strength': 100, 'od_wait': 1270, 'reg_lambda': 46.79412262015873, 'border_count': 186, 'min_child_samples': 8, 'leaf_estimation_iterations': 2}. Best is trial 9 with value: 0.8566476432546122.\u001b[0m\n",
      "\u001b[34m\u001b[1mwandb\u001b[0m: \u001b[33mWARNING\u001b[0m Step must only increase in log calls.  Step 14 < 15; dropping {'iterations': 23840, 'depth': 6, 'learning_rate': 0.001089261101010539, 'random_strength': 100, 'od_wait': 1270, 'reg_lambda': 46.79412262015873, 'border_count': 186, 'min_child_samples': 8, 'leaf_estimation_iterations': 2, 'value': 0.8566459459498786}.\n"
     ]
    },
    {
     "name": "stdout",
     "output_type": "stream",
     "text": [
      "ROC AUC Score of CatBoost = 0.8566459459498786\n"
     ]
    },
    {
     "name": "stderr",
     "output_type": "stream",
     "text": [
      "\u001b[32m[I 2021-10-21 15:51:14,845]\u001b[0m Trial 15 finished with value: 0.8566169347189693 and parameters: {'iterations': 22978, 'depth': 4, 'learning_rate': 0.0028176014557848173, 'random_strength': 94, 'od_wait': 1288, 'reg_lambda': 40.7453486181828, 'border_count': 180, 'min_child_samples': 7, 'leaf_estimation_iterations': 2}. Best is trial 9 with value: 0.8566476432546122.\u001b[0m\n",
      "\u001b[34m\u001b[1mwandb\u001b[0m: \u001b[33mWARNING\u001b[0m Step must only increase in log calls.  Step 15 < 16; dropping {'iterations': 22978, 'depth': 4, 'learning_rate': 0.0028176014557848173, 'random_strength': 94, 'od_wait': 1288, 'reg_lambda': 40.7453486181828, 'border_count': 180, 'min_child_samples': 7, 'leaf_estimation_iterations': 2, 'value': 0.8566169347189693}.\n"
     ]
    },
    {
     "name": "stdout",
     "output_type": "stream",
     "text": [
      "ROC AUC Score of CatBoost = 0.8566169347189693\n"
     ]
    },
    {
     "name": "stderr",
     "output_type": "stream",
     "text": [
      "\u001b[32m[I 2021-10-21 15:53:40,995]\u001b[0m Trial 16 finished with value: 0.8560259537207824 and parameters: {'iterations': 17838, 'depth': 6, 'learning_rate': 0.013536575527162706, 'random_strength': 98, 'od_wait': 1266, 'reg_lambda': 60.45619151329748, 'border_count': 172, 'min_child_samples': 1, 'leaf_estimation_iterations': 2}. Best is trial 9 with value: 0.8566476432546122.\u001b[0m\n",
      "\u001b[34m\u001b[1mwandb\u001b[0m: \u001b[33mWARNING\u001b[0m Step must only increase in log calls.  Step 16 < 17; dropping {'iterations': 17838, 'depth': 6, 'learning_rate': 0.013536575527162706, 'random_strength': 98, 'od_wait': 1266, 'reg_lambda': 60.45619151329748, 'border_count': 172, 'min_child_samples': 1, 'leaf_estimation_iterations': 2, 'value': 0.8560259537207824}.\n"
     ]
    },
    {
     "name": "stdout",
     "output_type": "stream",
     "text": [
      "ROC AUC Score of CatBoost = 0.8560259537207824\n"
     ]
    },
    {
     "name": "stderr",
     "output_type": "stream",
     "text": [
      "\u001b[32m[I 2021-10-21 15:54:35,572]\u001b[0m Trial 17 finished with value: 0.8565810423688689 and parameters: {'iterations': 7972, 'depth': 4, 'learning_rate': 0.014513670529256385, 'random_strength': 72, 'od_wait': 669, 'reg_lambda': 35.82021796674692, 'border_count': 112, 'min_child_samples': 10, 'leaf_estimation_iterations': 2}. Best is trial 9 with value: 0.8566476432546122.\u001b[0m\n",
      "\u001b[34m\u001b[1mwandb\u001b[0m: \u001b[33mWARNING\u001b[0m Step must only increase in log calls.  Step 17 < 18; dropping {'iterations': 7972, 'depth': 4, 'learning_rate': 0.014513670529256385, 'random_strength': 72, 'od_wait': 669, 'reg_lambda': 35.82021796674692, 'border_count': 112, 'min_child_samples': 10, 'leaf_estimation_iterations': 2, 'value': 0.8565810423688689}.\n"
     ]
    },
    {
     "name": "stdout",
     "output_type": "stream",
     "text": [
      "ROC AUC Score of CatBoost = 0.8565810423688689\n"
     ]
    },
    {
     "name": "stderr",
     "output_type": "stream",
     "text": [
      "\u001b[32m[I 2021-10-21 15:59:48,672]\u001b[0m Trial 18 finished with value: 0.8552545275693519 and parameters: {'iterations': 29943, 'depth': 8, 'learning_rate': 0.009232695807036867, 'random_strength': 46, 'od_wait': 1306, 'reg_lambda': 58.226977145676955, 'border_count': 193, 'min_child_samples': 5, 'leaf_estimation_iterations': 3}. Best is trial 9 with value: 0.8566476432546122.\u001b[0m\n",
      "\u001b[34m\u001b[1mwandb\u001b[0m: \u001b[33mWARNING\u001b[0m Step must only increase in log calls.  Step 18 < 19; dropping {'iterations': 29943, 'depth': 8, 'learning_rate': 0.009232695807036867, 'random_strength': 46, 'od_wait': 1306, 'reg_lambda': 58.226977145676955, 'border_count': 193, 'min_child_samples': 5, 'leaf_estimation_iterations': 3, 'value': 0.8552545275693519}.\n"
     ]
    },
    {
     "name": "stdout",
     "output_type": "stream",
     "text": [
      "ROC AUC Score of CatBoost = 0.8552545275693519\n"
     ]
    },
    {
     "name": "stderr",
     "output_type": "stream",
     "text": [
      "\u001b[32m[I 2021-10-21 16:02:25,451]\u001b[0m Trial 19 finished with value: 0.8566482740063713 and parameters: {'iterations': 23930, 'depth': 4, 'learning_rate': 0.0022783220631975016, 'random_strength': 76, 'od_wait': 1899, 'reg_lambda': 69.71169466673052, 'border_count': 227, 'min_child_samples': 9, 'leaf_estimation_iterations': 1}. Best is trial 19 with value: 0.8566482740063713.\u001b[0m\n",
      "\u001b[34m\u001b[1mwandb\u001b[0m: \u001b[33mWARNING\u001b[0m Step must only increase in log calls.  Step 19 < 20; dropping {'iterations': 23930, 'depth': 4, 'learning_rate': 0.0022783220631975016, 'random_strength': 76, 'od_wait': 1899, 'reg_lambda': 69.71169466673052, 'border_count': 227, 'min_child_samples': 9, 'leaf_estimation_iterations': 1, 'value': 0.8566482740063713}.\n"
     ]
    },
    {
     "name": "stdout",
     "output_type": "stream",
     "text": [
      "ROC AUC Score of CatBoost = 0.8566482740063713\n"
     ]
    },
    {
     "name": "stderr",
     "output_type": "stream",
     "text": [
      "\u001b[32m[I 2021-10-21 16:04:34,162]\u001b[0m Trial 20 finished with value: 0.8566494831097435 and parameters: {'iterations': 19598, 'depth': 4, 'learning_rate': 0.0024972038311184856, 'random_strength': 73, 'od_wait': 1997, 'reg_lambda': 67.92178641266494, 'border_count': 233, 'min_child_samples': 15, 'leaf_estimation_iterations': 1}. Best is trial 20 with value: 0.8566494831097435.\u001b[0m\n",
      "\u001b[34m\u001b[1mwandb\u001b[0m: \u001b[33mWARNING\u001b[0m Step must only increase in log calls.  Step 20 < 21; dropping {'iterations': 19598, 'depth': 4, 'learning_rate': 0.0024972038311184856, 'random_strength': 73, 'od_wait': 1997, 'reg_lambda': 67.92178641266494, 'border_count': 233, 'min_child_samples': 15, 'leaf_estimation_iterations': 1, 'value': 0.8566494831097435}.\n"
     ]
    },
    {
     "name": "stdout",
     "output_type": "stream",
     "text": [
      "ROC AUC Score of CatBoost = 0.8566494831097435\n"
     ]
    },
    {
     "name": "stderr",
     "output_type": "stream",
     "text": [
      "\u001b[32m[I 2021-10-21 16:06:42,825]\u001b[0m Trial 21 finished with value: 0.856650179261685 and parameters: {'iterations': 19636, 'depth': 4, 'learning_rate': 0.0026011083293397803, 'random_strength': 74, 'od_wait': 1974, 'reg_lambda': 69.31667208618305, 'border_count': 224, 'min_child_samples': 15, 'leaf_estimation_iterations': 1}. Best is trial 21 with value: 0.856650179261685.\u001b[0m\n",
      "\u001b[34m\u001b[1mwandb\u001b[0m: \u001b[33mWARNING\u001b[0m Step must only increase in log calls.  Step 21 < 22; dropping {'iterations': 19636, 'depth': 4, 'learning_rate': 0.0026011083293397803, 'random_strength': 74, 'od_wait': 1974, 'reg_lambda': 69.31667208618305, 'border_count': 224, 'min_child_samples': 15, 'leaf_estimation_iterations': 1, 'value': 0.856650179261685}.\n"
     ]
    },
    {
     "name": "stdout",
     "output_type": "stream",
     "text": [
      "ROC AUC Score of CatBoost = 0.856650179261685\n"
     ]
    },
    {
     "name": "stderr",
     "output_type": "stream",
     "text": [
      "\u001b[32m[I 2021-10-21 16:08:22,072]\u001b[0m Trial 22 finished with value: 0.8566545336738289 and parameters: {'iterations': 15130, 'depth': 4, 'learning_rate': 0.002737903265157216, 'random_strength': 75, 'od_wait': 1988, 'reg_lambda': 69.5823484889206, 'border_count': 237, 'min_child_samples': 15, 'leaf_estimation_iterations': 1}. Best is trial 22 with value: 0.8566545336738289.\u001b[0m\n",
      "\u001b[34m\u001b[1mwandb\u001b[0m: \u001b[33mWARNING\u001b[0m Step must only increase in log calls.  Step 22 < 23; dropping {'iterations': 15130, 'depth': 4, 'learning_rate': 0.002737903265157216, 'random_strength': 75, 'od_wait': 1988, 'reg_lambda': 69.5823484889206, 'border_count': 237, 'min_child_samples': 15, 'leaf_estimation_iterations': 1, 'value': 0.8566545336738289}.\n"
     ]
    },
    {
     "name": "stdout",
     "output_type": "stream",
     "text": [
      "ROC AUC Score of CatBoost = 0.8566545336738289\n"
     ]
    },
    {
     "name": "stderr",
     "output_type": "stream",
     "text": [
      "\u001b[32m[I 2021-10-21 16:10:06,009]\u001b[0m Trial 23 finished with value: 0.8566518223162672 and parameters: {'iterations': 17274, 'depth': 3, 'learning_rate': 0.0031412336464230403, 'random_strength': 86, 'od_wait': 1980, 'reg_lambda': 65.00257452732262, 'border_count': 243, 'min_child_samples': 15, 'leaf_estimation_iterations': 1}. Best is trial 22 with value: 0.8566545336738289.\u001b[0m\n",
      "\u001b[34m\u001b[1mwandb\u001b[0m: \u001b[33mWARNING\u001b[0m Step must only increase in log calls.  Step 23 < 24; dropping {'iterations': 17274, 'depth': 3, 'learning_rate': 0.0031412336464230403, 'random_strength': 86, 'od_wait': 1980, 'reg_lambda': 65.00257452732262, 'border_count': 243, 'min_child_samples': 15, 'leaf_estimation_iterations': 1, 'value': 0.8566518223162672}.\n"
     ]
    },
    {
     "name": "stdout",
     "output_type": "stream",
     "text": [
      "ROC AUC Score of CatBoost = 0.8566518223162672\n"
     ]
    },
    {
     "name": "stderr",
     "output_type": "stream",
     "text": [
      "\u001b[32m[I 2021-10-21 16:11:41,186]\u001b[0m Trial 24 finished with value: 0.8566193829257971 and parameters: {'iterations': 15781, 'depth': 3, 'learning_rate': 0.006938600165361626, 'random_strength': 86, 'od_wait': 1764, 'reg_lambda': 63.09293210290534, 'border_count': 249, 'min_child_samples': 15, 'leaf_estimation_iterations': 1}. Best is trial 22 with value: 0.8566545336738289.\u001b[0m\n",
      "\u001b[34m\u001b[1mwandb\u001b[0m: \u001b[33mWARNING\u001b[0m Step must only increase in log calls.  Step 24 < 25; dropping {'iterations': 15781, 'depth': 3, 'learning_rate': 0.006938600165361626, 'random_strength': 86, 'od_wait': 1764, 'reg_lambda': 63.09293210290534, 'border_count': 249, 'min_child_samples': 15, 'leaf_estimation_iterations': 1, 'value': 0.8566193829257971}.\n"
     ]
    },
    {
     "name": "stdout",
     "output_type": "stream",
     "text": [
      "ROC AUC Score of CatBoost = 0.8566193829257971\n"
     ]
    },
    {
     "name": "stderr",
     "output_type": "stream",
     "text": [
      "\u001b[32m[I 2021-10-21 16:12:26,337]\u001b[0m Trial 25 finished with value: 0.8566467608521514 and parameters: {'iterations': 7454, 'depth': 3, 'learning_rate': 0.003009737428341562, 'random_strength': 84, 'od_wait': 1756, 'reg_lambda': 62.18187531704804, 'border_count': 213, 'min_child_samples': 15, 'leaf_estimation_iterations': 1}. Best is trial 22 with value: 0.8566545336738289.\u001b[0m\n",
      "\u001b[34m\u001b[1mwandb\u001b[0m: \u001b[33mWARNING\u001b[0m Step must only increase in log calls.  Step 25 < 26; dropping {'iterations': 7454, 'depth': 3, 'learning_rate': 0.003009737428341562, 'random_strength': 84, 'od_wait': 1756, 'reg_lambda': 62.18187531704804, 'border_count': 213, 'min_child_samples': 15, 'leaf_estimation_iterations': 1, 'value': 0.8566467608521514}.\n"
     ]
    },
    {
     "name": "stdout",
     "output_type": "stream",
     "text": [
      "ROC AUC Score of CatBoost = 0.8566467608521514\n"
     ]
    },
    {
     "name": "stderr",
     "output_type": "stream",
     "text": [
      "\u001b[32m[I 2021-10-21 16:14:11,650]\u001b[0m Trial 26 finished with value: 0.8565274046692788 and parameters: {'iterations': 15735, 'depth': 4, 'learning_rate': 0.011114688428283406, 'random_strength': 65, 'od_wait': 1544, 'reg_lambda': 66.12266407313476, 'border_count': 258, 'min_child_samples': 13, 'leaf_estimation_iterations': 1}. Best is trial 22 with value: 0.8566545336738289.\u001b[0m\n",
      "\u001b[34m\u001b[1mwandb\u001b[0m: \u001b[33mWARNING\u001b[0m Step must only increase in log calls.  Step 26 < 27; dropping {'iterations': 15735, 'depth': 4, 'learning_rate': 0.011114688428283406, 'random_strength': 65, 'od_wait': 1544, 'reg_lambda': 66.12266407313476, 'border_count': 258, 'min_child_samples': 13, 'leaf_estimation_iterations': 1, 'value': 0.8565274046692788}.\n"
     ]
    },
    {
     "name": "stdout",
     "output_type": "stream",
     "text": [
      "ROC AUC Score of CatBoost = 0.8565274046692788\n"
     ]
    },
    {
     "name": "stderr",
     "output_type": "stream",
     "text": [
      "\u001b[32m[I 2021-10-21 16:15:42,623]\u001b[0m Trial 27 finished with value: 0.8566493721094339 and parameters: {'iterations': 14108, 'depth': 3, 'learning_rate': 0.0038071589075223296, 'random_strength': 89, 'od_wait': 1825, 'reg_lambda': 56.0815994603424, 'border_count': 246, 'min_child_samples': 17, 'leaf_estimation_iterations': 2}. Best is trial 22 with value: 0.8566545336738289.\u001b[0m\n",
      "\u001b[34m\u001b[1mwandb\u001b[0m: \u001b[33mWARNING\u001b[0m Step must only increase in log calls.  Step 27 < 28; dropping {'iterations': 14108, 'depth': 3, 'learning_rate': 0.0038071589075223296, 'random_strength': 89, 'od_wait': 1825, 'reg_lambda': 56.0815994603424, 'border_count': 246, 'min_child_samples': 17, 'leaf_estimation_iterations': 2, 'value': 0.8566493721094339}.\n"
     ]
    },
    {
     "name": "stdout",
     "output_type": "stream",
     "text": [
      "ROC AUC Score of CatBoost = 0.8566493721094339\n"
     ]
    },
    {
     "name": "stderr",
     "output_type": "stream",
     "text": [
      "\u001b[32m[I 2021-10-21 16:16:44,430]\u001b[0m Trial 28 finished with value: 0.8566075519928018 and parameters: {'iterations': 9407, 'depth': 4, 'learning_rate': 0.00843340930889187, 'random_strength': 77, 'od_wait': 1960, 'reg_lambda': 56.600720894647026, 'border_count': 215, 'min_child_samples': 14, 'leaf_estimation_iterations': 1}. Best is trial 22 with value: 0.8566545336738289.\u001b[0m\n",
      "\u001b[34m\u001b[1mwandb\u001b[0m: \u001b[33mWARNING\u001b[0m Step must only increase in log calls.  Step 28 < 29; dropping {'iterations': 9407, 'depth': 4, 'learning_rate': 0.00843340930889187, 'random_strength': 77, 'od_wait': 1960, 'reg_lambda': 56.600720894647026, 'border_count': 215, 'min_child_samples': 14, 'leaf_estimation_iterations': 1, 'value': 0.8566075519928018}.\n"
     ]
    },
    {
     "name": "stdout",
     "output_type": "stream",
     "text": [
      "ROC AUC Score of CatBoost = 0.8566075519928018\n"
     ]
    },
    {
     "name": "stderr",
     "output_type": "stream",
     "text": [
      "\u001b[32m[I 2021-10-21 16:18:52,577]\u001b[0m Trial 29 finished with value: 0.8528241797413548 and parameters: {'iterations': 17291, 'depth': 5, 'learning_rate': 0.1571286524883743, 'random_strength': 64, 'od_wait': 1696, 'reg_lambda': 64.68007286676225, 'border_count': 154, 'min_child_samples': 17, 'leaf_estimation_iterations': 2}. Best is trial 22 with value: 0.8566545336738289.\u001b[0m\n",
      "\u001b[34m\u001b[1mwandb\u001b[0m: \u001b[33mWARNING\u001b[0m Step must only increase in log calls.  Step 29 < 30; dropping {'iterations': 17291, 'depth': 5, 'learning_rate': 0.1571286524883743, 'random_strength': 64, 'od_wait': 1696, 'reg_lambda': 64.68007286676225, 'border_count': 154, 'min_child_samples': 17, 'leaf_estimation_iterations': 2, 'value': 0.8528241797413548}.\n"
     ]
    },
    {
     "name": "stdout",
     "output_type": "stream",
     "text": [
      "ROC AUC Score of CatBoost = 0.8528241797413548\n"
     ]
    },
    {
     "name": "stderr",
     "output_type": "stream",
     "text": [
      "\u001b[32m[I 2021-10-21 16:20:12,484]\u001b[0m Trial 30 finished with value: 0.8566493240592999 and parameters: {'iterations': 13580, 'depth': 3, 'learning_rate': 0.0019259102825141194, 'random_strength': 57, 'od_wait': 1395, 'reg_lambda': 69.4460333945085, 'border_count': 77, 'min_child_samples': 12, 'leaf_estimation_iterations': 1}. Best is trial 22 with value: 0.8566545336738289.\u001b[0m\n",
      "\u001b[34m\u001b[1mwandb\u001b[0m: \u001b[33mWARNING\u001b[0m Step must only increase in log calls.  Step 30 < 31; dropping {'iterations': 13580, 'depth': 3, 'learning_rate': 0.0019259102825141194, 'random_strength': 57, 'od_wait': 1395, 'reg_lambda': 69.4460333945085, 'border_count': 77, 'min_child_samples': 12, 'leaf_estimation_iterations': 1, 'value': 0.8566493240592999}.\n"
     ]
    },
    {
     "name": "stdout",
     "output_type": "stream",
     "text": [
      "ROC AUC Score of CatBoost = 0.8566493240592999\n"
     ]
    },
    {
     "name": "stderr",
     "output_type": "stream",
     "text": [
      "\u001b[32m[I 2021-10-21 16:22:30,038]\u001b[0m Trial 31 finished with value: 0.8566391042307977 and parameters: {'iterations': 21031, 'depth': 4, 'learning_rate': 0.003037800220666817, 'random_strength': 69, 'od_wait': 1976, 'reg_lambda': 69.88328385928823, 'border_count': 233, 'min_child_samples': 14, 'leaf_estimation_iterations': 1}. Best is trial 22 with value: 0.8566545336738289.\u001b[0m\n",
      "\u001b[34m\u001b[1mwandb\u001b[0m: \u001b[33mWARNING\u001b[0m Step must only increase in log calls.  Step 31 < 32; dropping {'iterations': 21031, 'depth': 4, 'learning_rate': 0.003037800220666817, 'random_strength': 69, 'od_wait': 1976, 'reg_lambda': 69.88328385928823, 'border_count': 233, 'min_child_samples': 14, 'leaf_estimation_iterations': 1, 'value': 0.8566391042307977}.\n"
     ]
    },
    {
     "name": "stdout",
     "output_type": "stream",
     "text": [
      "ROC AUC Score of CatBoost = 0.8566391042307977\n"
     ]
    },
    {
     "name": "stderr",
     "output_type": "stream",
     "text": [
      "\u001b[32m[I 2021-10-21 16:24:35,755]\u001b[0m Trial 32 finished with value: 0.8566560195279729 and parameters: {'iterations': 19202, 'depth': 4, 'learning_rate': 0.0025107067426720746, 'random_strength': 82, 'od_wait': 1861, 'reg_lambda': 65.00432347093462, 'border_count': 252, 'min_child_samples': 15, 'leaf_estimation_iterations': 1}. Best is trial 32 with value: 0.8566560195279729.\u001b[0m\n",
      "\u001b[34m\u001b[1mwandb\u001b[0m: \u001b[33mWARNING\u001b[0m Step must only increase in log calls.  Step 32 < 33; dropping {'iterations': 19202, 'depth': 4, 'learning_rate': 0.0025107067426720746, 'random_strength': 82, 'od_wait': 1861, 'reg_lambda': 65.00432347093462, 'border_count': 252, 'min_child_samples': 15, 'leaf_estimation_iterations': 1, 'value': 0.8566560195279729}.\n"
     ]
    },
    {
     "name": "stdout",
     "output_type": "stream",
     "text": [
      "ROC AUC Score of CatBoost = 0.8566560195279729\n"
     ]
    },
    {
     "name": "stderr",
     "output_type": "stream",
     "text": [
      "\u001b[32m[I 2021-10-21 16:26:46,168]\u001b[0m Trial 33 finished with value: 0.8534028299051524 and parameters: {'iterations': 22166, 'depth': 3, 'learning_rate': 0.4457917418672969, 'random_strength': 81, 'od_wait': 1683, 'reg_lambda': 63.726371160308815, 'border_count': 253, 'min_child_samples': 17, 'leaf_estimation_iterations': 1}. Best is trial 32 with value: 0.8566560195279729.\u001b[0m\n",
      "\u001b[34m\u001b[1mwandb\u001b[0m: \u001b[33mWARNING\u001b[0m Step must only increase in log calls.  Step 33 < 34; dropping {'iterations': 22166, 'depth': 3, 'learning_rate': 0.4457917418672969, 'random_strength': 81, 'od_wait': 1683, 'reg_lambda': 63.726371160308815, 'border_count': 253, 'min_child_samples': 17, 'leaf_estimation_iterations': 1, 'value': 0.8534028299051524}.\n"
     ]
    },
    {
     "name": "stdout",
     "output_type": "stream",
     "text": [
      "ROC AUC Score of CatBoost = 0.8534028299051524\n"
     ]
    },
    {
     "name": "stderr",
     "output_type": "stream",
     "text": [
      "\u001b[32m[I 2021-10-21 16:28:42,330]\u001b[0m Trial 34 finished with value: 0.8565603119110539 and parameters: {'iterations': 15169, 'depth': 5, 'learning_rate': 0.005728218716910268, 'random_strength': 90, 'od_wait': 1848, 'reg_lambda': 55.70464945162843, 'border_count': 273, 'min_child_samples': 16, 'leaf_estimation_iterations': 2}. Best is trial 32 with value: 0.8566560195279729.\u001b[0m\n",
      "\u001b[34m\u001b[1mwandb\u001b[0m: \u001b[33mWARNING\u001b[0m Step must only increase in log calls.  Step 34 < 35; dropping {'iterations': 15169, 'depth': 5, 'learning_rate': 0.005728218716910268, 'random_strength': 90, 'od_wait': 1848, 'reg_lambda': 55.70464945162843, 'border_count': 273, 'min_child_samples': 16, 'leaf_estimation_iterations': 2, 'value': 0.8565603119110539}.\n"
     ]
    },
    {
     "name": "stdout",
     "output_type": "stream",
     "text": [
      "ROC AUC Score of CatBoost = 0.8565603119110539\n"
     ]
    },
    {
     "name": "stderr",
     "output_type": "stream",
     "text": [
      "\u001b[32m[I 2021-10-21 16:29:54,464]\u001b[0m Trial 35 finished with value: 0.856652666268621 and parameters: {'iterations': 11992, 'depth': 3, 'learning_rate': 0.001652554531681498, 'random_strength': 80, 'od_wait': 1883, 'reg_lambda': 21.120856411526468, 'border_count': 221, 'min_child_samples': 20, 'leaf_estimation_iterations': 1}. Best is trial 32 with value: 0.8566560195279729.\u001b[0m\n",
      "\u001b[34m\u001b[1mwandb\u001b[0m: \u001b[33mWARNING\u001b[0m Step must only increase in log calls.  Step 35 < 36; dropping {'iterations': 11992, 'depth': 3, 'learning_rate': 0.001652554531681498, 'random_strength': 80, 'od_wait': 1883, 'reg_lambda': 21.120856411526468, 'border_count': 221, 'min_child_samples': 20, 'leaf_estimation_iterations': 1, 'value': 0.856652666268621}.\n"
     ]
    },
    {
     "name": "stdout",
     "output_type": "stream",
     "text": [
      "ROC AUC Score of CatBoost = 0.856652666268621\n"
     ]
    },
    {
     "name": "stderr",
     "output_type": "stream",
     "text": [
      "\u001b[32m[I 2021-10-21 16:31:00,842]\u001b[0m Trial 36 finished with value: 0.8566511914645079 and parameters: {'iterations': 11022, 'depth': 3, 'learning_rate': 0.001482104674397505, 'random_strength': 81, 'od_wait': 1493, 'reg_lambda': 24.45381030138578, 'border_count': 242, 'min_child_samples': 20, 'leaf_estimation_iterations': 1}. Best is trial 32 with value: 0.8566560195279729.\u001b[0m\n",
      "\u001b[34m\u001b[1mwandb\u001b[0m: \u001b[33mWARNING\u001b[0m Step must only increase in log calls.  Step 36 < 37; dropping {'iterations': 11022, 'depth': 3, 'learning_rate': 0.001482104674397505, 'random_strength': 81, 'od_wait': 1493, 'reg_lambda': 24.45381030138578, 'border_count': 242, 'min_child_samples': 20, 'leaf_estimation_iterations': 1, 'value': 0.8566511914645079}.\n"
     ]
    },
    {
     "name": "stdout",
     "output_type": "stream",
     "text": [
      "ROC AUC Score of CatBoost = 0.8566511914645079\n"
     ]
    },
    {
     "name": "stderr",
     "output_type": "stream",
     "text": [
      "\u001b[32m[I 2021-10-21 16:32:26,584]\u001b[0m Trial 37 finished with value: 0.8566302511561075 and parameters: {'iterations': 13157, 'depth': 3, 'learning_rate': 0.004133698464622521, 'random_strength': 93, 'od_wait': 1859, 'reg_lambda': 13.92180550886204, 'border_count': 258, 'min_child_samples': 18, 'leaf_estimation_iterations': 2}. Best is trial 32 with value: 0.8566560195279729.\u001b[0m\n",
      "\u001b[34m\u001b[1mwandb\u001b[0m: \u001b[33mWARNING\u001b[0m Step must only increase in log calls.  Step 37 < 38; dropping {'iterations': 13157, 'depth': 3, 'learning_rate': 0.004133698464622521, 'random_strength': 93, 'od_wait': 1859, 'reg_lambda': 13.92180550886204, 'border_count': 258, 'min_child_samples': 18, 'leaf_estimation_iterations': 2, 'value': 0.8566302511561075}.\n"
     ]
    },
    {
     "name": "stdout",
     "output_type": "stream",
     "text": [
      "ROC AUC Score of CatBoost = 0.8566302511561075\n"
     ]
    },
    {
     "name": "stderr",
     "output_type": "stream",
     "text": [
      "\u001b[32m[I 2021-10-21 16:33:02,344]\u001b[0m Trial 38 finished with value: 0.8543066303757614 and parameters: {'iterations': 5046, 'depth': 5, 'learning_rate': 0.2556434023660361, 'random_strength': 67, 'od_wait': 1662, 'reg_lambda': 19.49047279182539, 'border_count': 206, 'min_child_samples': 20, 'leaf_estimation_iterations': 1}. Best is trial 32 with value: 0.8566560195279729.\u001b[0m\n",
      "\u001b[34m\u001b[1mwandb\u001b[0m: \u001b[33mWARNING\u001b[0m Step must only increase in log calls.  Step 38 < 39; dropping {'iterations': 5046, 'depth': 5, 'learning_rate': 0.2556434023660361, 'random_strength': 67, 'od_wait': 1662, 'reg_lambda': 19.49047279182539, 'border_count': 206, 'min_child_samples': 20, 'leaf_estimation_iterations': 1, 'value': 0.8543066303757614}.\n"
     ]
    },
    {
     "name": "stdout",
     "output_type": "stream",
     "text": [
      "ROC AUC Score of CatBoost = 0.8543066303757614\n"
     ]
    },
    {
     "name": "stderr",
     "output_type": "stream",
     "text": [
      "\u001b[32m[I 2021-10-21 16:34:53,009]\u001b[0m Trial 39 finished with value: 0.8561815928048442 and parameters: {'iterations': 17355, 'depth': 3, 'learning_rate': 0.04144886700703065, 'random_strength': 53, 'od_wait': 1127, 'reg_lambda': 30.0638760832763, 'border_count': 220, 'min_child_samples': 19, 'leaf_estimation_iterations': 2}. Best is trial 32 with value: 0.8566560195279729.\u001b[0m\n",
      "\u001b[34m\u001b[1mwandb\u001b[0m: \u001b[33mWARNING\u001b[0m Step must only increase in log calls.  Step 39 < 40; dropping {'iterations': 17355, 'depth': 3, 'learning_rate': 0.04144886700703065, 'random_strength': 53, 'od_wait': 1127, 'reg_lambda': 30.0638760832763, 'border_count': 220, 'min_child_samples': 19, 'leaf_estimation_iterations': 2, 'value': 0.8561815928048442}.\n"
     ]
    },
    {
     "name": "stdout",
     "output_type": "stream",
     "text": [
      "ROC AUC Score of CatBoost = 0.8561815928048442\n"
     ]
    },
    {
     "name": "stderr",
     "output_type": "stream",
     "text": [
      "\u001b[32m[I 2021-10-21 16:36:09,110]\u001b[0m Trial 40 finished with value: 0.8566566425297103 and parameters: {'iterations': 11560, 'depth': 4, 'learning_rate': 0.0017437060252282598, 'random_strength': 61, 'od_wait': 1438, 'reg_lambda': 17.423985733598993, 'border_count': 237, 'min_child_samples': 11, 'leaf_estimation_iterations': 1}. Best is trial 40 with value: 0.8566566425297103.\u001b[0m\n",
      "\u001b[34m\u001b[1mwandb\u001b[0m: \u001b[33mWARNING\u001b[0m Step must only increase in log calls.  Step 40 < 41; dropping {'iterations': 11560, 'depth': 4, 'learning_rate': 0.0017437060252282598, 'random_strength': 61, 'od_wait': 1438, 'reg_lambda': 17.423985733598993, 'border_count': 237, 'min_child_samples': 11, 'leaf_estimation_iterations': 1, 'value': 0.8566566425297103}.\n"
     ]
    },
    {
     "name": "stdout",
     "output_type": "stream",
     "text": [
      "ROC AUC Score of CatBoost = 0.8566566425297103\n"
     ]
    },
    {
     "name": "stderr",
     "output_type": "stream",
     "text": [
      "\u001b[32m[I 2021-10-21 16:37:25,161]\u001b[0m Trial 41 finished with value: 0.856659348137256 and parameters: {'iterations': 11590, 'depth': 4, 'learning_rate': 0.0019004295837277215, 'random_strength': 60, 'od_wait': 1780, 'reg_lambda': 19.406839648582707, 'border_count': 236, 'min_child_samples': 10, 'leaf_estimation_iterations': 1}. Best is trial 41 with value: 0.856659348137256.\u001b[0m\n",
      "\u001b[34m\u001b[1mwandb\u001b[0m: \u001b[33mWARNING\u001b[0m Step must only increase in log calls.  Step 41 < 42; dropping {'iterations': 11590, 'depth': 4, 'learning_rate': 0.0019004295837277215, 'random_strength': 60, 'od_wait': 1780, 'reg_lambda': 19.406839648582707, 'border_count': 236, 'min_child_samples': 10, 'leaf_estimation_iterations': 1, 'value': 0.856659348137256}.\n"
     ]
    },
    {
     "name": "stdout",
     "output_type": "stream",
     "text": [
      "ROC AUC Score of CatBoost = 0.856659348137256\n"
     ]
    },
    {
     "name": "stderr",
     "output_type": "stream",
     "text": [
      "\u001b[32m[I 2021-10-21 16:38:50,292]\u001b[0m Trial 42 finished with value: 0.8566612953926867 and parameters: {'iterations': 11912, 'depth': 5, 'learning_rate': 0.0017954649567666848, 'random_strength': 58, 'od_wait': 1421, 'reg_lambda': 17.9733673955109, 'border_count': 233, 'min_child_samples': 10, 'leaf_estimation_iterations': 1}. Best is trial 42 with value: 0.8566612953926867.\u001b[0m\n",
      "\u001b[34m\u001b[1mwandb\u001b[0m: \u001b[33mWARNING\u001b[0m Step must only increase in log calls.  Step 42 < 43; dropping {'iterations': 11912, 'depth': 5, 'learning_rate': 0.0017954649567666848, 'random_strength': 58, 'od_wait': 1421, 'reg_lambda': 17.9733673955109, 'border_count': 233, 'min_child_samples': 10, 'leaf_estimation_iterations': 1, 'value': 0.8566612953926867}.\n"
     ]
    },
    {
     "name": "stdout",
     "output_type": "stream",
     "text": [
      "ROC AUC Score of CatBoost = 0.8566612953926867\n"
     ]
    },
    {
     "name": "stderr",
     "output_type": "stream",
     "text": [
      "\u001b[32m[I 2021-10-21 16:39:50,184]\u001b[0m Trial 43 finished with value: 0.8566423017897153 and parameters: {'iterations': 8305, 'depth': 5, 'learning_rate': 0.001108971807947717, 'random_strength': 62, 'od_wait': 1443, 'reg_lambda': 10.966763842511266, 'border_count': 234, 'min_child_samples': 10, 'leaf_estimation_iterations': 1}. Best is trial 42 with value: 0.8566612953926867.\u001b[0m\n",
      "\u001b[34m\u001b[1mwandb\u001b[0m: \u001b[33mWARNING\u001b[0m Step must only increase in log calls.  Step 43 < 44; dropping {'iterations': 8305, 'depth': 5, 'learning_rate': 0.001108971807947717, 'random_strength': 62, 'od_wait': 1443, 'reg_lambda': 10.966763842511266, 'border_count': 234, 'min_child_samples': 10, 'leaf_estimation_iterations': 1, 'value': 0.8566423017897153}.\n"
     ]
    },
    {
     "name": "stdout",
     "output_type": "stream",
     "text": [
      "ROC AUC Score of CatBoost = 0.8566423017897153\n"
     ]
    },
    {
     "name": "stderr",
     "output_type": "stream",
     "text": [
      "\u001b[32m[I 2021-10-21 16:41:00,360]\u001b[0m Trial 44 finished with value: 0.856601128024886 and parameters: {'iterations': 9612, 'depth': 5, 'learning_rate': 0.0018989274987515985, 'random_strength': 49, 'od_wait': 1589, 'reg_lambda': 17.94705946604258, 'border_count': 260, 'min_child_samples': 11, 'leaf_estimation_iterations': 1}. Best is trial 42 with value: 0.8566612953926867.\u001b[0m\n",
      "\u001b[34m\u001b[1mwandb\u001b[0m: \u001b[33mWARNING\u001b[0m Step must only increase in log calls.  Step 44 < 45; dropping {'iterations': 9612, 'depth': 5, 'learning_rate': 0.0018989274987515985, 'random_strength': 49, 'od_wait': 1589, 'reg_lambda': 17.94705946604258, 'border_count': 260, 'min_child_samples': 11, 'leaf_estimation_iterations': 1, 'value': 0.856601128024886}.\n"
     ]
    },
    {
     "name": "stdout",
     "output_type": "stream",
     "text": [
      "ROC AUC Score of CatBoost = 0.856601128024886\n"
     ]
    },
    {
     "name": "stderr",
     "output_type": "stream",
     "text": [
      "\u001b[32m[I 2021-10-21 16:42:56,605]\u001b[0m Trial 45 finished with value: 0.8566519020664898 and parameters: {'iterations': 14544, 'depth': 6, 'learning_rate': 0.001387161120242817, 'random_strength': 39, 'od_wait': 1132, 'reg_lambda': 29.579097213760342, 'border_count': 273, 'min_child_samples': 9, 'leaf_estimation_iterations': 1}. Best is trial 42 with value: 0.8566612953926867.\u001b[0m\n",
      "\u001b[34m\u001b[1mwandb\u001b[0m: \u001b[33mWARNING\u001b[0m Step must only increase in log calls.  Step 45 < 46; dropping {'iterations': 14544, 'depth': 6, 'learning_rate': 0.001387161120242817, 'random_strength': 39, 'od_wait': 1132, 'reg_lambda': 29.579097213760342, 'border_count': 273, 'min_child_samples': 9, 'leaf_estimation_iterations': 1, 'value': 0.8566519020664898}.\n"
     ]
    },
    {
     "name": "stdout",
     "output_type": "stream",
     "text": [
      "ROC AUC Score of CatBoost = 0.8566519020664898\n"
     ]
    },
    {
     "name": "stderr",
     "output_type": "stream",
     "text": [
      "\u001b[32m[I 2021-10-21 16:43:37,438]\u001b[0m Trial 46 finished with value: 0.8566441456948581 and parameters: {'iterations': 5823, 'depth': 4, 'learning_rate': 0.0021106078077304954, 'random_strength': 60, 'od_wait': 1753, 'reg_lambda': 12.321971216322087, 'border_count': 203, 'min_child_samples': 12, 'leaf_estimation_iterations': 2}. Best is trial 42 with value: 0.8566612953926867.\u001b[0m\n",
      "\u001b[34m\u001b[1mwandb\u001b[0m: \u001b[33mWARNING\u001b[0m Step must only increase in log calls.  Step 46 < 47; dropping {'iterations': 5823, 'depth': 4, 'learning_rate': 0.0021106078077304954, 'random_strength': 60, 'od_wait': 1753, 'reg_lambda': 12.321971216322087, 'border_count': 203, 'min_child_samples': 12, 'leaf_estimation_iterations': 2, 'value': 0.8566441456948581}.\n"
     ]
    },
    {
     "name": "stdout",
     "output_type": "stream",
     "text": [
      "ROC AUC Score of CatBoost = 0.8566441456948581\n"
     ]
    },
    {
     "name": "stderr",
     "output_type": "stream",
     "text": [
      "\u001b[32m[I 2021-10-21 16:44:59,328]\u001b[0m Trial 47 finished with value: 0.8566234632871768 and parameters: {'iterations': 11202, 'depth': 4, 'learning_rate': 0.004846687125957024, 'random_strength': 56, 'od_wait': 1396, 'reg_lambda': 3.585624222769466, 'border_count': 265, 'min_child_samples': 8, 'leaf_estimation_iterations': 3}. Best is trial 42 with value: 0.8566612953926867.\u001b[0m\n",
      "\u001b[34m\u001b[1mwandb\u001b[0m: \u001b[33mWARNING\u001b[0m Step must only increase in log calls.  Step 47 < 48; dropping {'iterations': 11202, 'depth': 4, 'learning_rate': 0.004846687125957024, 'random_strength': 56, 'od_wait': 1396, 'reg_lambda': 3.585624222769466, 'border_count': 265, 'min_child_samples': 8, 'leaf_estimation_iterations': 3, 'value': 0.8566234632871768}.\n"
     ]
    },
    {
     "name": "stdout",
     "output_type": "stream",
     "text": [
      "ROC AUC Score of CatBoost = 0.8566234632871768\n"
     ]
    },
    {
     "name": "stderr",
     "output_type": "stream",
     "text": [
      "\u001b[32m[I 2021-10-21 16:46:33,837]\u001b[0m Trial 48 finished with value: 0.8566556538769531 and parameters: {'iterations': 13169, 'depth': 5, 'learning_rate': 0.0012074855682849828, 'random_strength': 51, 'od_wait': 1623, 'reg_lambda': 9.976495540221471, 'border_count': 235, 'min_child_samples': 5, 'leaf_estimation_iterations': 1}. Best is trial 42 with value: 0.8566612953926867.\u001b[0m\n",
      "\u001b[34m\u001b[1mwandb\u001b[0m: \u001b[33mWARNING\u001b[0m Step must only increase in log calls.  Step 48 < 49; dropping {'iterations': 13169, 'depth': 5, 'learning_rate': 0.0012074855682849828, 'random_strength': 51, 'od_wait': 1623, 'reg_lambda': 9.976495540221471, 'border_count': 235, 'min_child_samples': 5, 'leaf_estimation_iterations': 1, 'value': 0.8566556538769531}.\n"
     ]
    },
    {
     "name": "stdout",
     "output_type": "stream",
     "text": [
      "ROC AUC Score of CatBoost = 0.8566556538769531\n"
     ]
    },
    {
     "name": "stderr",
     "output_type": "stream",
     "text": [
      "\u001b[32m[I 2021-10-21 16:48:08,683]\u001b[0m Trial 49 finished with value: 0.8566584837348453 and parameters: {'iterations': 12516, 'depth': 5, 'learning_rate': 0.0010100641748676368, 'random_strength': 40, 'od_wait': 1614, 'reg_lambda': 9.447425672226558, 'border_count': 250, 'min_child_samples': 5, 'leaf_estimation_iterations': 2}. Best is trial 42 with value: 0.8566612953926867.\u001b[0m\n",
      "\u001b[34m\u001b[1mwandb\u001b[0m: \u001b[33mWARNING\u001b[0m Step must only increase in log calls.  Step 49 < 50; dropping {'iterations': 12516, 'depth': 5, 'learning_rate': 0.0010100641748676368, 'random_strength': 40, 'od_wait': 1614, 'reg_lambda': 9.447425672226558, 'border_count': 250, 'min_child_samples': 5, 'leaf_estimation_iterations': 2, 'value': 0.8566584837348453}.\n"
     ]
    },
    {
     "name": "stdout",
     "output_type": "stream",
     "text": [
      "ROC AUC Score of CatBoost = 0.8566584837348453\n"
     ]
    },
    {
     "name": "stderr",
     "output_type": "stream",
     "text": [
      "\u001b[32m[I 2021-10-21 16:49:30,763]\u001b[0m Trial 50 finished with value: 0.8566578792331594 and parameters: {'iterations': 9665, 'depth': 6, 'learning_rate': 0.001558106352940338, 'random_strength': 42, 'od_wait': 1484, 'reg_lambda': 17.307468680794376, 'border_count': 252, 'min_child_samples': 3, 'leaf_estimation_iterations': 3}. Best is trial 42 with value: 0.8566612953926867.\u001b[0m\n",
      "\u001b[34m\u001b[1mwandb\u001b[0m: \u001b[33mWARNING\u001b[0m Step must only increase in log calls.  Step 50 < 51; dropping {'iterations': 9665, 'depth': 6, 'learning_rate': 0.001558106352940338, 'random_strength': 42, 'od_wait': 1484, 'reg_lambda': 17.307468680794376, 'border_count': 252, 'min_child_samples': 3, 'leaf_estimation_iterations': 3, 'value': 0.8566578792331594}.\n"
     ]
    },
    {
     "name": "stdout",
     "output_type": "stream",
     "text": [
      "ROC AUC Score of CatBoost = 0.8566578792331594\n"
     ]
    },
    {
     "name": "stderr",
     "output_type": "stream",
     "text": [
      "\u001b[32m[I 2021-10-21 16:50:54,170]\u001b[0m Trial 51 finished with value: 0.856658191034029 and parameters: {'iterations': 9812, 'depth': 6, 'learning_rate': 0.001009470571160845, 'random_strength': 28, 'od_wait': 1508, 'reg_lambda': 17.337592433388892, 'border_count': 250, 'min_child_samples': 2, 'leaf_estimation_iterations': 3}. Best is trial 42 with value: 0.8566612953926867.\u001b[0m\n",
      "\u001b[34m\u001b[1mwandb\u001b[0m: \u001b[33mWARNING\u001b[0m Step must only increase in log calls.  Step 51 < 52; dropping {'iterations': 9812, 'depth': 6, 'learning_rate': 0.001009470571160845, 'random_strength': 28, 'od_wait': 1508, 'reg_lambda': 17.337592433388892, 'border_count': 250, 'min_child_samples': 2, 'leaf_estimation_iterations': 3, 'value': 0.856658191034029}.\n"
     ]
    },
    {
     "name": "stdout",
     "output_type": "stream",
     "text": [
      "ROC AUC Score of CatBoost = 0.856658191034029\n"
     ]
    },
    {
     "name": "stderr",
     "output_type": "stream",
     "text": [
      "\u001b[32m[I 2021-10-21 16:52:19,542]\u001b[0m Trial 52 finished with value: 0.8566594464375301 and parameters: {'iterations': 10020, 'depth': 6, 'learning_rate': 0.0010430969426937068, 'random_strength': 27, 'od_wait': 1494, 'reg_lambda': 15.50083940134467, 'border_count': 249, 'min_child_samples': 2, 'leaf_estimation_iterations': 3}. Best is trial 42 with value: 0.8566612953926867.\u001b[0m\n",
      "\u001b[34m\u001b[1mwandb\u001b[0m: \u001b[33mWARNING\u001b[0m Step must only increase in log calls.  Step 52 < 53; dropping {'iterations': 10020, 'depth': 6, 'learning_rate': 0.0010430969426937068, 'random_strength': 27, 'od_wait': 1494, 'reg_lambda': 15.50083940134467, 'border_count': 249, 'min_child_samples': 2, 'leaf_estimation_iterations': 3, 'value': 0.8566594464375301}.\n"
     ]
    },
    {
     "name": "stdout",
     "output_type": "stream",
     "text": [
      "ROC AUC Score of CatBoost = 0.8566594464375301\n"
     ]
    },
    {
     "name": "stderr",
     "output_type": "stream",
     "text": [
      "\u001b[32m[I 2021-10-21 16:53:47,230]\u001b[0m Trial 53 finished with value: 0.8565848024293554 and parameters: {'iterations': 10134, 'depth': 6, 'learning_rate': 0.001027070527988235, 'random_strength': 23, 'od_wait': 1537, 'reg_lambda': 16.718679146451645, 'border_count': 262, 'min_child_samples': 1, 'leaf_estimation_iterations': 3}. Best is trial 42 with value: 0.8566612953926867.\u001b[0m\n",
      "\u001b[34m\u001b[1mwandb\u001b[0m: \u001b[33mWARNING\u001b[0m Step must only increase in log calls.  Step 53 < 54; dropping {'iterations': 10134, 'depth': 6, 'learning_rate': 0.001027070527988235, 'random_strength': 23, 'od_wait': 1537, 'reg_lambda': 16.718679146451645, 'border_count': 262, 'min_child_samples': 1, 'leaf_estimation_iterations': 3, 'value': 0.8565848024293554}.\n"
     ]
    },
    {
     "name": "stdout",
     "output_type": "stream",
     "text": [
      "ROC AUC Score of CatBoost = 0.8565848024293554\n"
     ]
    },
    {
     "name": "stderr",
     "output_type": "stream",
     "text": [
      "\u001b[32m[I 2021-10-21 16:54:44,373]\u001b[0m Trial 54 finished with value: 0.8566574064318407 and parameters: {'iterations': 6038, 'depth': 7, 'learning_rate': 0.0013470345540506903, 'random_strength': 28, 'od_wait': 1361, 'reg_lambda': 22.408157781766835, 'border_count': 248, 'min_child_samples': 3, 'leaf_estimation_iterations': 3}. Best is trial 42 with value: 0.8566612953926867.\u001b[0m\n",
      "\u001b[34m\u001b[1mwandb\u001b[0m: \u001b[33mWARNING\u001b[0m Step must only increase in log calls.  Step 54 < 55; dropping {'iterations': 6038, 'depth': 7, 'learning_rate': 0.0013470345540506903, 'random_strength': 28, 'od_wait': 1361, 'reg_lambda': 22.408157781766835, 'border_count': 248, 'min_child_samples': 3, 'leaf_estimation_iterations': 3, 'value': 0.8566574064318407}.\n"
     ]
    },
    {
     "name": "stdout",
     "output_type": "stream",
     "text": [
      "ROC AUC Score of CatBoost = 0.8566574064318407\n"
     ]
    },
    {
     "name": "stderr",
     "output_type": "stream",
     "text": [
      "\u001b[32m[I 2021-10-21 16:56:01,771]\u001b[0m Trial 55 finished with value: 0.8566385850793499 and parameters: {'iterations': 8903, 'depth': 6, 'learning_rate': 0.0013858996055000827, 'random_strength': 39, 'od_wait': 1196, 'reg_lambda': 2.0853030758789712, 'border_count': 275, 'min_child_samples': 3, 'leaf_estimation_iterations': 3}. Best is trial 42 with value: 0.8566612953926867.\u001b[0m\n",
      "\u001b[34m\u001b[1mwandb\u001b[0m: \u001b[33mWARNING\u001b[0m Step must only increase in log calls.  Step 55 < 56; dropping {'iterations': 8903, 'depth': 6, 'learning_rate': 0.0013858996055000827, 'random_strength': 39, 'od_wait': 1196, 'reg_lambda': 2.0853030758789712, 'border_count': 275, 'min_child_samples': 3, 'leaf_estimation_iterations': 3, 'value': 0.8566385850793499}.\n"
     ]
    },
    {
     "name": "stdout",
     "output_type": "stream",
     "text": [
      "ROC AUC Score of CatBoost = 0.8566385850793499\n"
     ]
    },
    {
     "name": "stderr",
     "output_type": "stream",
     "text": [
      "\u001b[32m[I 2021-10-21 16:57:11,419]\u001b[0m Trial 56 finished with value: 0.8566557863773225 and parameters: {'iterations': 7171, 'depth': 7, 'learning_rate': 0.0010339659684793967, 'random_strength': 17, 'od_wait': 1463, 'reg_lambda': 7.312669620524021, 'border_count': 134, 'min_child_samples': 2, 'leaf_estimation_iterations': 4}. Best is trial 42 with value: 0.8566612953926867.\u001b[0m\n",
      "\u001b[34m\u001b[1mwandb\u001b[0m: \u001b[33mWARNING\u001b[0m Step must only increase in log calls.  Step 56 < 57; dropping {'iterations': 7171, 'depth': 7, 'learning_rate': 0.0010339659684793967, 'random_strength': 17, 'od_wait': 1463, 'reg_lambda': 7.312669620524021, 'border_count': 134, 'min_child_samples': 2, 'leaf_estimation_iterations': 4, 'value': 0.8566557863773225}.\n"
     ]
    },
    {
     "name": "stdout",
     "output_type": "stream",
     "text": [
      "ROC AUC Score of CatBoost = 0.8566557863773225\n"
     ]
    },
    {
     "name": "stderr",
     "output_type": "stream",
     "text": [
      "\u001b[32m[I 2021-10-21 16:57:45,003]\u001b[0m Trial 57 finished with value: 0.8566497794605699 and parameters: {'iterations': 3887, 'depth': 6, 'learning_rate': 0.0016314916232553793, 'random_strength': 9, 'od_wait': 152, 'reg_lambda': 14.844785732989294, 'border_count': 229, 'min_child_samples': 4, 'leaf_estimation_iterations': 3}. Best is trial 42 with value: 0.8566612953926867.\u001b[0m\n",
      "\u001b[34m\u001b[1mwandb\u001b[0m: \u001b[33mWARNING\u001b[0m Step must only increase in log calls.  Step 57 < 58; dropping {'iterations': 3887, 'depth': 6, 'learning_rate': 0.0016314916232553793, 'random_strength': 9, 'od_wait': 152, 'reg_lambda': 14.844785732989294, 'border_count': 229, 'min_child_samples': 4, 'leaf_estimation_iterations': 3, 'value': 0.8566497794605699}.\n"
     ]
    },
    {
     "name": "stdout",
     "output_type": "stream",
     "text": [
      "ROC AUC Score of CatBoost = 0.8566497794605699\n"
     ]
    },
    {
     "name": "stderr",
     "output_type": "stream",
     "text": [
      "\u001b[32m[I 2021-10-21 16:59:37,482]\u001b[0m Trial 58 finished with value: 0.8566308407577519 and parameters: {'iterations': 12259, 'depth': 7, 'learning_rate': 0.002139807306382553, 'random_strength': 27, 'od_wait': 1566, 'reg_lambda': 25.507301309604294, 'border_count': 122, 'min_child_samples': 2, 'leaf_estimation_iterations': 3}. Best is trial 42 with value: 0.8566612953926867.\u001b[0m\n",
      "\u001b[34m\u001b[1mwandb\u001b[0m: \u001b[33mWARNING\u001b[0m Step must only increase in log calls.  Step 58 < 59; dropping {'iterations': 12259, 'depth': 7, 'learning_rate': 0.002139807306382553, 'random_strength': 27, 'od_wait': 1566, 'reg_lambda': 25.507301309604294, 'border_count': 122, 'min_child_samples': 2, 'leaf_estimation_iterations': 3, 'value': 0.8566308407577519}.\n"
     ]
    },
    {
     "name": "stdout",
     "output_type": "stream",
     "text": [
      "ROC AUC Score of CatBoost = 0.8566308407577519\n"
     ]
    },
    {
     "name": "stderr",
     "output_type": "stream",
     "text": [
      "\u001b[32m[I 2021-10-21 17:01:09,727]\u001b[0m Trial 59 finished with value: 0.8565908975463542 and parameters: {'iterations': 10405, 'depth': 6, 'learning_rate': 0.001292707127978302, 'random_strength': 43, 'od_wait': 1219, 'reg_lambda': 28.604789489421655, 'border_count': 267, 'min_child_samples': 6, 'leaf_estimation_iterations': 4}. Best is trial 42 with value: 0.8566612953926867.\u001b[0m\n",
      "\u001b[34m\u001b[1mwandb\u001b[0m: \u001b[33mWARNING\u001b[0m Step must only increase in log calls.  Step 59 < 60; dropping {'iterations': 10405, 'depth': 6, 'learning_rate': 0.001292707127978302, 'random_strength': 43, 'od_wait': 1219, 'reg_lambda': 28.604789489421655, 'border_count': 267, 'min_child_samples': 6, 'leaf_estimation_iterations': 4, 'value': 0.8565908975463542}.\n"
     ]
    },
    {
     "name": "stdout",
     "output_type": "stream",
     "text": [
      "ROC AUC Score of CatBoost = 0.8565908975463542\n"
     ]
    },
    {
     "name": "stderr",
     "output_type": "stream",
     "text": [
      "\u001b[32m[I 2021-10-21 17:02:42,831]\u001b[0m Trial 60 finished with value: 0.8552823327468978 and parameters: {'iterations': 8905, 'depth': 8, 'learning_rate': 0.023153490046554565, 'random_strength': 37, 'od_wait': 1318, 'reg_lambda': 9.170270690922795, 'border_count': 254, 'min_child_samples': 4, 'leaf_estimation_iterations': 3}. Best is trial 42 with value: 0.8566612953926867.\u001b[0m\n",
      "\u001b[34m\u001b[1mwandb\u001b[0m: \u001b[33mWARNING\u001b[0m Step must only increase in log calls.  Step 60 < 61; dropping {'iterations': 8905, 'depth': 8, 'learning_rate': 0.023153490046554565, 'random_strength': 37, 'od_wait': 1318, 'reg_lambda': 9.170270690922795, 'border_count': 254, 'min_child_samples': 4, 'leaf_estimation_iterations': 3, 'value': 0.8552823327468978}.\n"
     ]
    },
    {
     "name": "stdout",
     "output_type": "stream",
     "text": [
      "ROC AUC Score of CatBoost = 0.8552823327468978\n"
     ]
    },
    {
     "name": "stderr",
     "output_type": "stream",
     "text": [
      "\u001b[32m[I 2021-10-21 17:03:49,366]\u001b[0m Trial 61 finished with value: 0.856660935491683 and parameters: {'iterations': 7065, 'depth': 7, 'learning_rate': 0.0013076941398356054, 'random_strength': 25, 'od_wait': 1384, 'reg_lambda': 21.896926432624404, 'border_count': 245, 'min_child_samples': 2, 'leaf_estimation_iterations': 3}. Best is trial 42 with value: 0.8566612953926867.\u001b[0m\n",
      "\u001b[34m\u001b[1mwandb\u001b[0m: \u001b[33mWARNING\u001b[0m Step must only increase in log calls.  Step 61 < 62; dropping {'iterations': 7065, 'depth': 7, 'learning_rate': 0.0013076941398356054, 'random_strength': 25, 'od_wait': 1384, 'reg_lambda': 21.896926432624404, 'border_count': 245, 'min_child_samples': 2, 'leaf_estimation_iterations': 3, 'value': 0.856660935491683}.\n"
     ]
    },
    {
     "name": "stdout",
     "output_type": "stream",
     "text": [
      "ROC AUC Score of CatBoost = 0.856660935491683\n"
     ]
    },
    {
     "name": "stderr",
     "output_type": "stream",
     "text": [
      "\u001b[32m[I 2021-10-21 17:05:06,198]\u001b[0m Trial 62 finished with value: 0.8566579871834605 and parameters: {'iterations': 7252, 'depth': 8, 'learning_rate': 0.0017521714490630746, 'random_strength': 22, 'od_wait': 1486, 'reg_lambda': 21.447930097846044, 'border_count': 241, 'min_child_samples': 2, 'leaf_estimation_iterations': 3}. Best is trial 42 with value: 0.8566612953926867.\u001b[0m\n",
      "\u001b[34m\u001b[1mwandb\u001b[0m: \u001b[33mWARNING\u001b[0m Step must only increase in log calls.  Step 62 < 63; dropping {'iterations': 7252, 'depth': 8, 'learning_rate': 0.0017521714490630746, 'random_strength': 22, 'od_wait': 1486, 'reg_lambda': 21.447930097846044, 'border_count': 241, 'min_child_samples': 2, 'leaf_estimation_iterations': 3, 'value': 0.8566579871834605}.\n"
     ]
    },
    {
     "name": "stdout",
     "output_type": "stream",
     "text": [
      "ROC AUC Score of CatBoost = 0.8566579871834605\n"
     ]
    },
    {
     "name": "stderr",
     "output_type": "stream",
     "text": [
      "\u001b[32m[I 2021-10-21 17:06:18,657]\u001b[0m Trial 63 finished with value: 0.8566487673077471 and parameters: {'iterations': 6782, 'depth': 8, 'learning_rate': 0.001007652656139211, 'random_strength': 23, 'od_wait': 534, 'reg_lambda': 31.833283011299496, 'border_count': 214, 'min_child_samples': 2, 'leaf_estimation_iterations': 3}. Best is trial 42 with value: 0.8566612953926867.\u001b[0m\n",
      "\u001b[34m\u001b[1mwandb\u001b[0m: \u001b[33mWARNING\u001b[0m Step must only increase in log calls.  Step 63 < 64; dropping {'iterations': 6782, 'depth': 8, 'learning_rate': 0.001007652656139211, 'random_strength': 23, 'od_wait': 534, 'reg_lambda': 31.833283011299496, 'border_count': 214, 'min_child_samples': 2, 'leaf_estimation_iterations': 3, 'value': 0.8566487673077471}.\n"
     ]
    },
    {
     "name": "stdout",
     "output_type": "stream",
     "text": [
      "ROC AUC Score of CatBoost = 0.8566487673077471\n"
     ]
    },
    {
     "name": "stderr",
     "output_type": "stream",
     "text": [
      "\u001b[32m[I 2021-10-21 17:06:50,696]\u001b[0m Trial 64 finished with value: 0.8566606367908499 and parameters: {'iterations': 2556, 'depth': 9, 'learning_rate': 0.003600256361585779, 'random_strength': 9, 'od_wait': 801, 'reg_lambda': 20.077691467475496, 'border_count': 243, 'min_child_samples': 1, 'leaf_estimation_iterations': 3}. Best is trial 42 with value: 0.8566612953926867.\u001b[0m\n",
      "\u001b[34m\u001b[1mwandb\u001b[0m: \u001b[33mWARNING\u001b[0m Step must only increase in log calls.  Step 64 < 65; dropping {'iterations': 2556, 'depth': 9, 'learning_rate': 0.003600256361585779, 'random_strength': 9, 'od_wait': 801, 'reg_lambda': 20.077691467475496, 'border_count': 243, 'min_child_samples': 1, 'leaf_estimation_iterations': 3, 'value': 0.8566606367908499}.\n"
     ]
    },
    {
     "name": "stdout",
     "output_type": "stream",
     "text": [
      "ROC AUC Score of CatBoost = 0.8566606367908499\n"
     ]
    },
    {
     "name": "stderr",
     "output_type": "stream",
     "text": [
      "\u001b[32m[I 2021-10-21 17:07:40,357]\u001b[0m Trial 65 finished with value: 0.8566526174184848 and parameters: {'iterations': 3024, 'depth': 10, 'learning_rate': 0.0035229788753344386, 'random_strength': 9, 'od_wait': 713, 'reg_lambda': 15.197104592008532, 'border_count': 226, 'min_child_samples': 1, 'leaf_estimation_iterations': 4}. Best is trial 42 with value: 0.8566612953926867.\u001b[0m\n",
      "\u001b[34m\u001b[1mwandb\u001b[0m: \u001b[33mWARNING\u001b[0m Step must only increase in log calls.  Step 65 < 66; dropping {'iterations': 3024, 'depth': 10, 'learning_rate': 0.0035229788753344386, 'random_strength': 9, 'od_wait': 713, 'reg_lambda': 15.197104592008532, 'border_count': 226, 'min_child_samples': 1, 'leaf_estimation_iterations': 4, 'value': 0.8566526174184848}.\n"
     ]
    },
    {
     "name": "stdout",
     "output_type": "stream",
     "text": [
      "ROC AUC Score of CatBoost = 0.8566526174184848\n"
     ]
    },
    {
     "name": "stderr",
     "output_type": "stream",
     "text": [
      "\u001b[32m[I 2021-10-21 17:08:13,012]\u001b[0m Trial 66 finished with value: 0.8566803508958305 and parameters: {'iterations': 4272, 'depth': 5, 'learning_rate': 0.0022216135349845613, 'random_strength': 2, 'od_wait': 751, 'reg_lambda': 19.70745674441431, 'border_count': 244, 'min_child_samples': 4, 'leaf_estimation_iterations': 2}. Best is trial 66 with value: 0.8566803508958305.\u001b[0m\n",
      "\u001b[34m\u001b[1mwandb\u001b[0m: \u001b[33mWARNING\u001b[0m Step must only increase in log calls.  Step 66 < 67; dropping {'iterations': 4272, 'depth': 5, 'learning_rate': 0.0022216135349845613, 'random_strength': 2, 'od_wait': 751, 'reg_lambda': 19.70745674441431, 'border_count': 244, 'min_child_samples': 4, 'leaf_estimation_iterations': 2, 'value': 0.8566803508958305}.\n"
     ]
    },
    {
     "name": "stdout",
     "output_type": "stream",
     "text": [
      "ROC AUC Score of CatBoost = 0.8566803508958305\n"
     ]
    },
    {
     "name": "stderr",
     "output_type": "stream",
     "text": [
      "\u001b[32m[I 2021-10-21 17:08:42,568]\u001b[0m Trial 67 finished with value: 0.856641875638527 and parameters: {'iterations': 2132, 'depth': 9, 'learning_rate': 0.0023132711754235103, 'random_strength': 8, 'od_wait': 794, 'reg_lambda': 19.56907478023375, 'border_count': 179, 'min_child_samples': 4, 'leaf_estimation_iterations': 5}. Best is trial 66 with value: 0.8566803508958305.\u001b[0m\n",
      "\u001b[34m\u001b[1mwandb\u001b[0m: \u001b[33mWARNING\u001b[0m Step must only increase in log calls.  Step 67 < 68; dropping {'iterations': 2132, 'depth': 9, 'learning_rate': 0.0023132711754235103, 'random_strength': 8, 'od_wait': 794, 'reg_lambda': 19.56907478023375, 'border_count': 179, 'min_child_samples': 4, 'leaf_estimation_iterations': 5, 'value': 0.856641875638527}.\n"
     ]
    },
    {
     "name": "stdout",
     "output_type": "stream",
     "text": [
      "ROC AUC Score of CatBoost = 0.856641875638527\n"
     ]
    },
    {
     "name": "stderr",
     "output_type": "stream",
     "text": [
      "\u001b[32m[I 2021-10-21 17:09:15,408]\u001b[0m Trial 68 finished with value: 0.8566691775646693 and parameters: {'iterations': 4315, 'depth': 5, 'learning_rate': 0.003201851446231572, 'random_strength': 3, 'od_wait': 1027, 'reg_lambda': 26.884248551438525, 'border_count': 197, 'min_child_samples': 6, 'leaf_estimation_iterations': 2}. Best is trial 66 with value: 0.8566803508958305.\u001b[0m\n",
      "\u001b[34m\u001b[1mwandb\u001b[0m: \u001b[33mWARNING\u001b[0m Step must only increase in log calls.  Step 68 < 69; dropping {'iterations': 4315, 'depth': 5, 'learning_rate': 0.003201851446231572, 'random_strength': 3, 'od_wait': 1027, 'reg_lambda': 26.884248551438525, 'border_count': 197, 'min_child_samples': 6, 'leaf_estimation_iterations': 2, 'value': 0.8566691775646693}.\n"
     ]
    },
    {
     "name": "stdout",
     "output_type": "stream",
     "text": [
      "ROC AUC Score of CatBoost = 0.8566691775646693\n"
     ]
    },
    {
     "name": "stderr",
     "output_type": "stream",
     "text": [
      "\u001b[32m[I 2021-10-21 17:10:08,906]\u001b[0m Trial 69 finished with value: 0.8562431407764953 and parameters: {'iterations': 4562, 'depth': 9, 'learning_rate': 0.017956679813943617, 'random_strength': 3, 'od_wait': 912, 'reg_lambda': 38.45045649706553, 'border_count': 216, 'min_child_samples': 7, 'leaf_estimation_iterations': 2}. Best is trial 66 with value: 0.8566803508958305.\u001b[0m\n",
      "\u001b[34m\u001b[1mwandb\u001b[0m: \u001b[33mWARNING\u001b[0m Step must only increase in log calls.  Step 69 < 70; dropping {'iterations': 4562, 'depth': 9, 'learning_rate': 0.017956679813943617, 'random_strength': 3, 'od_wait': 912, 'reg_lambda': 38.45045649706553, 'border_count': 216, 'min_child_samples': 7, 'leaf_estimation_iterations': 2, 'value': 0.8562431407764953}.\n"
     ]
    },
    {
     "name": "stdout",
     "output_type": "stream",
     "text": [
      "ROC AUC Score of CatBoost = 0.8562431407764953\n"
     ]
    },
    {
     "name": "stderr",
     "output_type": "stream",
     "text": [
      "\u001b[32m[I 2021-10-21 17:10:34,598]\u001b[0m Trial 70 finished with value: 0.8566601465394826 and parameters: {'iterations': 3189, 'depth': 5, 'learning_rate': 0.0059980581874739215, 'random_strength': 2, 'od_wait': 814, 'reg_lambda': 26.443278913803198, 'border_count': 199, 'min_child_samples': 1, 'leaf_estimation_iterations': 4}. Best is trial 66 with value: 0.8566803508958305.\u001b[0m\n",
      "\u001b[34m\u001b[1mwandb\u001b[0m: \u001b[33mWARNING\u001b[0m Step must only increase in log calls.  Step 70 < 71; dropping {'iterations': 3189, 'depth': 5, 'learning_rate': 0.0059980581874739215, 'random_strength': 2, 'od_wait': 814, 'reg_lambda': 26.443278913803198, 'border_count': 199, 'min_child_samples': 1, 'leaf_estimation_iterations': 4, 'value': 0.8566601465394826}.\n"
     ]
    },
    {
     "name": "stdout",
     "output_type": "stream",
     "text": [
      "ROC AUC Score of CatBoost = 0.8566601465394826\n"
     ]
    },
    {
     "name": "stderr",
     "output_type": "stream",
     "text": [
      "\u001b[32m[I 2021-10-21 17:10:59,854]\u001b[0m Trial 71 finished with value: 0.8566759968336876 and parameters: {'iterations': 3147, 'depth': 5, 'learning_rate': 0.004848338921244153, 'random_strength': 1, 'od_wait': 996, 'reg_lambda': 26.67109938625794, 'border_count': 160, 'min_child_samples': 1, 'leaf_estimation_iterations': 4}. Best is trial 66 with value: 0.8566803508958305.\u001b[0m\n",
      "\u001b[34m\u001b[1mwandb\u001b[0m: \u001b[33mWARNING\u001b[0m Step must only increase in log calls.  Step 71 < 72; dropping {'iterations': 3147, 'depth': 5, 'learning_rate': 0.004848338921244153, 'random_strength': 1, 'od_wait': 996, 'reg_lambda': 26.67109938625794, 'border_count': 160, 'min_child_samples': 1, 'leaf_estimation_iterations': 4, 'value': 0.8566759968336876}.\n"
     ]
    },
    {
     "name": "stdout",
     "output_type": "stream",
     "text": [
      "ROC AUC Score of CatBoost = 0.8566759968336876\n"
     ]
    },
    {
     "name": "stderr",
     "output_type": "stream",
     "text": [
      "\u001b[32m[I 2021-10-21 17:11:26,818]\u001b[0m Trial 72 finished with value: 0.8566615501933974 and parameters: {'iterations': 3360, 'depth': 5, 'learning_rate': 0.006428214613218672, 'random_strength': 2, 'od_wait': 1032, 'reg_lambda': 26.282655392790147, 'border_count': 163, 'min_child_samples': 1, 'leaf_estimation_iterations': 4}. Best is trial 66 with value: 0.8566803508958305.\u001b[0m\n",
      "\u001b[34m\u001b[1mwandb\u001b[0m: \u001b[33mWARNING\u001b[0m Step must only increase in log calls.  Step 72 < 73; dropping {'iterations': 3360, 'depth': 5, 'learning_rate': 0.006428214613218672, 'random_strength': 2, 'od_wait': 1032, 'reg_lambda': 26.282655392790147, 'border_count': 163, 'min_child_samples': 1, 'leaf_estimation_iterations': 4, 'value': 0.8566615501933974}.\n"
     ]
    },
    {
     "name": "stdout",
     "output_type": "stream",
     "text": [
      "ROC AUC Score of CatBoost = 0.8566615501933974\n"
     ]
    },
    {
     "name": "stderr",
     "output_type": "stream",
     "text": [
      "\u001b[32m[I 2021-10-21 17:11:49,590]\u001b[0m Trial 73 finished with value: 0.8566633626984523 and parameters: {'iterations': 2826, 'depth': 5, 'learning_rate': 0.008082492338334388, 'random_strength': 1, 'od_wait': 1017, 'reg_lambda': 32.71487429328728, 'border_count': 146, 'min_child_samples': 1, 'leaf_estimation_iterations': 4}. Best is trial 66 with value: 0.8566803508958305.\u001b[0m\n",
      "\u001b[34m\u001b[1mwandb\u001b[0m: \u001b[33mWARNING\u001b[0m Step must only increase in log calls.  Step 73 < 74; dropping {'iterations': 2826, 'depth': 5, 'learning_rate': 0.008082492338334388, 'random_strength': 1, 'od_wait': 1017, 'reg_lambda': 32.71487429328728, 'border_count': 146, 'min_child_samples': 1, 'leaf_estimation_iterations': 4, 'value': 0.8566633626984523}.\n"
     ]
    },
    {
     "name": "stdout",
     "output_type": "stream",
     "text": [
      "ROC AUC Score of CatBoost = 0.8566633626984523\n"
     ]
    },
    {
     "name": "stderr",
     "output_type": "stream",
     "text": [
      "\u001b[32m[I 2021-10-21 17:12:14,688]\u001b[0m Trial 74 finished with value: 0.8566557644272614 and parameters: {'iterations': 3125, 'depth': 5, 'learning_rate': 0.007712076328399289, 'random_strength': 5, 'od_wait': 996, 'reg_lambda': 33.73189352384673, 'border_count': 147, 'min_child_samples': 1, 'leaf_estimation_iterations': 4}. Best is trial 66 with value: 0.8566803508958305.\u001b[0m\n",
      "\u001b[34m\u001b[1mwandb\u001b[0m: \u001b[33mWARNING\u001b[0m Step must only increase in log calls.  Step 74 < 75; dropping {'iterations': 3125, 'depth': 5, 'learning_rate': 0.007712076328399289, 'random_strength': 5, 'od_wait': 996, 'reg_lambda': 33.73189352384673, 'border_count': 147, 'min_child_samples': 1, 'leaf_estimation_iterations': 4, 'value': 0.8566557644272614}.\n"
     ]
    },
    {
     "name": "stdout",
     "output_type": "stream",
     "text": [
      "ROC AUC Score of CatBoost = 0.8566557644272614\n"
     ]
    },
    {
     "name": "stderr",
     "output_type": "stream",
     "text": [
      "\u001b[32m[I 2021-10-21 17:12:51,818]\u001b[0m Trial 75 finished with value: 0.8566532450202351 and parameters: {'iterations': 4642, 'depth': 5, 'learning_rate': 0.004971426982602406, 'random_strength': 12, 'od_wait': 1061, 'reg_lambda': 23.623417087930754, 'border_count': 144, 'min_child_samples': 3, 'leaf_estimation_iterations': 4}. Best is trial 66 with value: 0.8566803508958305.\u001b[0m\n",
      "\u001b[34m\u001b[1mwandb\u001b[0m: \u001b[33mWARNING\u001b[0m Step must only increase in log calls.  Step 75 < 76; dropping {'iterations': 4642, 'depth': 5, 'learning_rate': 0.004971426982602406, 'random_strength': 12, 'od_wait': 1061, 'reg_lambda': 23.623417087930754, 'border_count': 144, 'min_child_samples': 3, 'leaf_estimation_iterations': 4, 'value': 0.8566532450202351}.\n"
     ]
    },
    {
     "name": "stdout",
     "output_type": "stream",
     "text": [
      "ROC AUC Score of CatBoost = 0.8566532450202351\n"
     ]
    },
    {
     "name": "stderr",
     "output_type": "stream",
     "text": [
      "\u001b[32m[I 2021-10-21 17:13:52,595]\u001b[0m Trial 76 finished with value: 0.8564205388712408 and parameters: {'iterations': 3751, 'depth': 10, 'learning_rate': 0.011066905551041659, 'random_strength': 5, 'od_wait': 832, 'reg_lambda': 26.909822496195446, 'border_count': 163, 'min_child_samples': 1, 'leaf_estimation_iterations': 4}. Best is trial 66 with value: 0.8566803508958305.\u001b[0m\n",
      "\u001b[34m\u001b[1mwandb\u001b[0m: \u001b[33mWARNING\u001b[0m Step must only increase in log calls.  Step 76 < 77; dropping {'iterations': 3751, 'depth': 10, 'learning_rate': 0.011066905551041659, 'random_strength': 5, 'od_wait': 832, 'reg_lambda': 26.909822496195446, 'border_count': 163, 'min_child_samples': 1, 'leaf_estimation_iterations': 4, 'value': 0.8564205388712408}.\n"
     ]
    },
    {
     "name": "stdout",
     "output_type": "stream",
     "text": [
      "ROC AUC Score of CatBoost = 0.8564205388712408\n"
     ]
    },
    {
     "name": "stderr",
     "output_type": "stream",
     "text": [
      "\u001b[32m[I 2021-10-21 17:14:37,951]\u001b[0m Trial 77 finished with value: 0.8566748225304126 and parameters: {'iterations': 5624, 'depth': 5, 'learning_rate': 0.0036244247533116208, 'random_strength': 0, 'od_wait': 743, 'reg_lambda': 32.395137714828955, 'border_count': 164, 'min_child_samples': 4, 'leaf_estimation_iterations': 5}. Best is trial 66 with value: 0.8566803508958305.\u001b[0m\n",
      "\u001b[34m\u001b[1mwandb\u001b[0m: \u001b[33mWARNING\u001b[0m Step must only increase in log calls.  Step 77 < 78; dropping {'iterations': 5624, 'depth': 5, 'learning_rate': 0.0036244247533116208, 'random_strength': 0, 'od_wait': 743, 'reg_lambda': 32.395137714828955, 'border_count': 164, 'min_child_samples': 4, 'leaf_estimation_iterations': 5, 'value': 0.8566748225304126}.\n"
     ]
    },
    {
     "name": "stdout",
     "output_type": "stream",
     "text": [
      "ROC AUC Score of CatBoost = 0.8566748225304126\n"
     ]
    },
    {
     "name": "stderr",
     "output_type": "stream",
     "text": [
      "\u001b[32m[I 2021-10-21 17:15:22,528]\u001b[0m Trial 78 finished with value: 0.8566392511812075 and parameters: {'iterations': 5438, 'depth': 5, 'learning_rate': 0.006563991728456015, 'random_strength': 1, 'od_wait': 550, 'reg_lambda': 37.822457676598376, 'border_count': 164, 'min_child_samples': 6, 'leaf_estimation_iterations': 5}. Best is trial 66 with value: 0.8566803508958305.\u001b[0m\n",
      "\u001b[34m\u001b[1mwandb\u001b[0m: \u001b[33mWARNING\u001b[0m Step must only increase in log calls.  Step 78 < 79; dropping {'iterations': 5438, 'depth': 5, 'learning_rate': 0.006563991728456015, 'random_strength': 1, 'od_wait': 550, 'reg_lambda': 37.822457676598376, 'border_count': 164, 'min_child_samples': 6, 'leaf_estimation_iterations': 5, 'value': 0.8566392511812075}.\n"
     ]
    },
    {
     "name": "stdout",
     "output_type": "stream",
     "text": [
      "ROC AUC Score of CatBoost = 0.8566392511812075\n"
     ]
    },
    {
     "name": "stderr",
     "output_type": "stream",
     "text": [
      "\u001b[32m[I 2021-10-21 17:15:56,369]\u001b[0m Trial 79 finished with value: 0.8566527583188777 and parameters: {'iterations': 4107, 'depth': 5, 'learning_rate': 0.004162399053074028, 'random_strength': 12, 'od_wait': 981, 'reg_lambda': 31.661935576210794, 'border_count': 189, 'min_child_samples': 4, 'leaf_estimation_iterations': 5}. Best is trial 66 with value: 0.8566803508958305.\u001b[0m\n",
      "\u001b[34m\u001b[1mwandb\u001b[0m: \u001b[33mWARNING\u001b[0m Step must only increase in log calls.  Step 79 < 80; dropping {'iterations': 4107, 'depth': 5, 'learning_rate': 0.004162399053074028, 'random_strength': 12, 'od_wait': 981, 'reg_lambda': 31.661935576210794, 'border_count': 189, 'min_child_samples': 4, 'leaf_estimation_iterations': 5, 'value': 0.8566527583188777}.\n"
     ]
    },
    {
     "name": "stdout",
     "output_type": "stream",
     "text": [
      "ROC AUC Score of CatBoost = 0.8566527583188777\n"
     ]
    },
    {
     "name": "stderr",
     "output_type": "stream",
     "text": [
      "\u001b[32m[I 2021-10-21 17:16:44,679]\u001b[0m Trial 80 finished with value: 0.8565733288473569 and parameters: {'iterations': 6001, 'depth': 5, 'learning_rate': 0.009714541987325338, 'random_strength': 0, 'od_wait': 1040, 'reg_lambda': 28.299550213535557, 'border_count': 172, 'min_child_samples': 6, 'leaf_estimation_iterations': 5}. Best is trial 66 with value: 0.8566803508958305.\u001b[0m\n",
      "\u001b[34m\u001b[1mwandb\u001b[0m: \u001b[33mWARNING\u001b[0m Step must only increase in log calls.  Step 80 < 81; dropping {'iterations': 6001, 'depth': 5, 'learning_rate': 0.009714541987325338, 'random_strength': 0, 'od_wait': 1040, 'reg_lambda': 28.299550213535557, 'border_count': 172, 'min_child_samples': 6, 'leaf_estimation_iterations': 5, 'value': 0.8565733288473569}.\n"
     ]
    },
    {
     "name": "stdout",
     "output_type": "stream",
     "text": [
      "ROC AUC Score of CatBoost = 0.8565733288473569\n"
     ]
    },
    {
     "name": "stderr",
     "output_type": "stream",
     "text": [
      "\u001b[32m[I 2021-10-21 17:17:03,464]\u001b[0m Trial 81 finished with value: 0.8566464866513867 and parameters: {'iterations': 2299, 'depth': 5, 'learning_rate': 0.0034013492138576535, 'random_strength': 6, 'od_wait': 746, 'reg_lambda': 33.601553722120336, 'border_count': 122, 'min_child_samples': 3, 'leaf_estimation_iterations': 5}. Best is trial 66 with value: 0.8566803508958305.\u001b[0m\n",
      "\u001b[34m\u001b[1mwandb\u001b[0m: \u001b[33mWARNING\u001b[0m Step must only increase in log calls.  Step 81 < 82; dropping {'iterations': 2299, 'depth': 5, 'learning_rate': 0.0034013492138576535, 'random_strength': 6, 'od_wait': 746, 'reg_lambda': 33.601553722120336, 'border_count': 122, 'min_child_samples': 3, 'leaf_estimation_iterations': 5, 'value': 0.8566464866513867}.\n"
     ]
    },
    {
     "name": "stdout",
     "output_type": "stream",
     "text": [
      "ROC AUC Score of CatBoost = 0.8566464866513867\n"
     ]
    },
    {
     "name": "stderr",
     "output_type": "stream",
     "text": [
      "\u001b[32m[I 2021-10-21 17:17:38,480]\u001b[0m Trial 82 finished with value: 0.8566516191157005 and parameters: {'iterations': 2671, 'depth': 9, 'learning_rate': 0.0027975875293359815, 'random_strength': 15, 'od_wait': 642, 'reg_lambda': 23.79308662762515, 'border_count': 154, 'min_child_samples': 1, 'leaf_estimation_iterations': 4}. Best is trial 66 with value: 0.8566803508958305.\u001b[0m\n",
      "\u001b[34m\u001b[1mwandb\u001b[0m: \u001b[33mWARNING\u001b[0m Step must only increase in log calls.  Step 82 < 83; dropping {'iterations': 2671, 'depth': 9, 'learning_rate': 0.0027975875293359815, 'random_strength': 15, 'od_wait': 642, 'reg_lambda': 23.79308662762515, 'border_count': 154, 'min_child_samples': 1, 'leaf_estimation_iterations': 4, 'value': 0.8566516191157005}.\n"
     ]
    },
    {
     "name": "stdout",
     "output_type": "stream",
     "text": [
      "ROC AUC Score of CatBoost = 0.8566516191157005\n"
     ]
    },
    {
     "name": "stderr",
     "output_type": "stream",
     "text": [
      "\u001b[32m[I 2021-10-21 17:18:18,681]\u001b[0m Trial 83 finished with value: 0.856655313926005 and parameters: {'iterations': 5033, 'depth': 5, 'learning_rate': 0.004212849638958401, 'random_strength': 4, 'od_wait': 865, 'reg_lambda': 41.11622449282312, 'border_count': 169, 'min_child_samples': 2, 'leaf_estimation_iterations': 4}. Best is trial 66 with value: 0.8566803508958305.\u001b[0m\n",
      "\u001b[34m\u001b[1mwandb\u001b[0m: \u001b[33mWARNING\u001b[0m Step must only increase in log calls.  Step 83 < 84; dropping {'iterations': 5033, 'depth': 5, 'learning_rate': 0.004212849638958401, 'random_strength': 4, 'od_wait': 865, 'reg_lambda': 41.11622449282312, 'border_count': 169, 'min_child_samples': 2, 'leaf_estimation_iterations': 4, 'value': 0.856655313926005}.\n"
     ]
    },
    {
     "name": "stdout",
     "output_type": "stream",
     "text": [
      "ROC AUC Score of CatBoost = 0.856655313926005\n"
     ]
    },
    {
     "name": "stderr",
     "output_type": "stream",
     "text": [
      "\u001b[32m[I 2021-10-21 17:18:48,491]\u001b[0m Trial 84 finished with value: 0.8566542445730227 and parameters: {'iterations': 3716, 'depth': 5, 'learning_rate': 0.005052366230542597, 'random_strength': 11, 'od_wait': 942, 'reg_lambda': 25.32431344851939, 'border_count': 181, 'min_child_samples': 5, 'leaf_estimation_iterations': 4}. Best is trial 66 with value: 0.8566803508958305.\u001b[0m\n",
      "\u001b[34m\u001b[1mwandb\u001b[0m: \u001b[33mWARNING\u001b[0m Step must only increase in log calls.  Step 84 < 85; dropping {'iterations': 3716, 'depth': 5, 'learning_rate': 0.005052366230542597, 'random_strength': 11, 'od_wait': 942, 'reg_lambda': 25.32431344851939, 'border_count': 181, 'min_child_samples': 5, 'leaf_estimation_iterations': 4, 'value': 0.8566542445730227}.\n"
     ]
    },
    {
     "name": "stdout",
     "output_type": "stream",
     "text": [
      "ROC AUC Score of CatBoost = 0.8566542445730227\n"
     ]
    },
    {
     "name": "stderr",
     "output_type": "stream",
     "text": [
      "\u001b[32m[I 2021-10-21 17:19:37,239]\u001b[0m Trial 85 finished with value: 0.8566149756135054 and parameters: {'iterations': 6455, 'depth': 5, 'learning_rate': 0.007301639256658639, 'random_strength': 7, 'od_wait': 1094, 'reg_lambda': 22.646040291721086, 'border_count': 143, 'min_child_samples': 3, 'leaf_estimation_iterations': 2}. Best is trial 66 with value: 0.8566803508958305.\u001b[0m\n",
      "\u001b[34m\u001b[1mwandb\u001b[0m: \u001b[33mWARNING\u001b[0m Step must only increase in log calls.  Step 85 < 86; dropping {'iterations': 6455, 'depth': 5, 'learning_rate': 0.007301639256658639, 'random_strength': 7, 'od_wait': 1094, 'reg_lambda': 22.646040291721086, 'border_count': 143, 'min_child_samples': 3, 'leaf_estimation_iterations': 2, 'value': 0.8566149756135054}.\n"
     ]
    },
    {
     "name": "stdout",
     "output_type": "stream",
     "text": [
      "ROC AUC Score of CatBoost = 0.8566149756135054\n"
     ]
    },
    {
     "name": "stderr",
     "output_type": "stream",
     "text": [
      "\u001b[32m[I 2021-10-21 17:19:55,306]\u001b[0m Trial 86 finished with value: 0.856663467298744 and parameters: {'iterations': 2039, 'depth': 6, 'learning_rate': 0.0033030869595056553, 'random_strength': 2, 'od_wait': 750, 'reg_lambda': 20.54020884084476, 'border_count': 157, 'min_child_samples': 8, 'leaf_estimation_iterations': 4}. Best is trial 66 with value: 0.8566803508958305.\u001b[0m\n",
      "\u001b[34m\u001b[1mwandb\u001b[0m: \u001b[33mWARNING\u001b[0m Step must only increase in log calls.  Step 86 < 87; dropping {'iterations': 2039, 'depth': 6, 'learning_rate': 0.0033030869595056553, 'random_strength': 2, 'od_wait': 750, 'reg_lambda': 20.54020884084476, 'border_count': 157, 'min_child_samples': 8, 'leaf_estimation_iterations': 4, 'value': 0.856663467298744}.\n"
     ]
    },
    {
     "name": "stdout",
     "output_type": "stream",
     "text": [
      "ROC AUC Score of CatBoost = 0.856663467298744\n"
     ]
    },
    {
     "name": "stderr",
     "output_type": "stream",
     "text": [
      "\u001b[32m[I 2021-10-21 17:20:33,555]\u001b[0m Trial 87 finished with value: 0.8566671451590012 and parameters: {'iterations': 4380, 'depth': 6, 'learning_rate': 0.0025467690064248484, 'random_strength': 2, 'od_wait': 436, 'reg_lambda': 31.17827756266539, 'border_count': 150, 'min_child_samples': 8, 'leaf_estimation_iterations': 4}. Best is trial 66 with value: 0.8566803508958305.\u001b[0m\n",
      "\u001b[34m\u001b[1mwandb\u001b[0m: \u001b[33mWARNING\u001b[0m Step must only increase in log calls.  Step 87 < 88; dropping {'iterations': 4380, 'depth': 6, 'learning_rate': 0.0025467690064248484, 'random_strength': 2, 'od_wait': 436, 'reg_lambda': 31.17827756266539, 'border_count': 150, 'min_child_samples': 8, 'leaf_estimation_iterations': 4, 'value': 0.8566671451590012}.\n"
     ]
    },
    {
     "name": "stdout",
     "output_type": "stream",
     "text": [
      "ROC AUC Score of CatBoost = 0.8566671451590012\n"
     ]
    },
    {
     "name": "stderr",
     "output_type": "stream",
     "text": [
      "\u001b[32m[I 2021-10-21 17:20:51,043]\u001b[0m Trial 88 finished with value: 0.8567014488546707 and parameters: {'iterations': 2000, 'depth': 6, 'learning_rate': 0.002984126581340097, 'random_strength': 0, 'od_wait': 334, 'reg_lambda': 33.469738674488084, 'border_count': 158, 'min_child_samples': 8, 'leaf_estimation_iterations': 4}. Best is trial 88 with value: 0.8567014488546707.\u001b[0m\n",
      "\u001b[34m\u001b[1mwandb\u001b[0m: \u001b[33mWARNING\u001b[0m Step must only increase in log calls.  Step 88 < 89; dropping {'iterations': 2000, 'depth': 6, 'learning_rate': 0.002984126581340097, 'random_strength': 0, 'od_wait': 334, 'reg_lambda': 33.469738674488084, 'border_count': 158, 'min_child_samples': 8, 'leaf_estimation_iterations': 4, 'value': 0.8567014488546707}.\n"
     ]
    },
    {
     "name": "stdout",
     "output_type": "stream",
     "text": [
      "ROC AUC Score of CatBoost = 0.8567014488546707\n"
     ]
    },
    {
     "name": "stderr",
     "output_type": "stream",
     "text": [
      "\u001b[32m[I 2021-10-21 17:21:31,029]\u001b[0m Trial 89 finished with value: 0.85668491160855 and parameters: {'iterations': 4663, 'depth': 6, 'learning_rate': 0.003018567759362505, 'random_strength': 0, 'od_wait': 306, 'reg_lambda': 31.368563997902374, 'border_count': 152, 'min_child_samples': 8, 'leaf_estimation_iterations': 4}. Best is trial 88 with value: 0.8567014488546707.\u001b[0m\n",
      "\u001b[34m\u001b[1mwandb\u001b[0m: \u001b[33mWARNING\u001b[0m Step must only increase in log calls.  Step 89 < 90; dropping {'iterations': 4663, 'depth': 6, 'learning_rate': 0.003018567759362505, 'random_strength': 0, 'od_wait': 306, 'reg_lambda': 31.368563997902374, 'border_count': 152, 'min_child_samples': 8, 'leaf_estimation_iterations': 4, 'value': 0.85668491160855}.\n"
     ]
    },
    {
     "name": "stdout",
     "output_type": "stream",
     "text": [
      "ROC AUC Score of CatBoost = 0.85668491160855\n"
     ]
    },
    {
     "name": "stderr",
     "output_type": "stream",
     "text": [
      "\u001b[32m[I 2021-10-21 17:22:08,694]\u001b[0m Trial 90 finished with value: 0.8566858840112619 and parameters: {'iterations': 4352, 'depth': 6, 'learning_rate': 0.0030945625789158024, 'random_strength': 0, 'od_wait': 294, 'reg_lambda': 34.94790753518347, 'border_count': 150, 'min_child_samples': 8, 'leaf_estimation_iterations': 4}. Best is trial 88 with value: 0.8567014488546707.\u001b[0m\n",
      "\u001b[34m\u001b[1mwandb\u001b[0m: \u001b[33mWARNING\u001b[0m Step must only increase in log calls.  Step 90 < 91; dropping {'iterations': 4352, 'depth': 6, 'learning_rate': 0.0030945625789158024, 'random_strength': 0, 'od_wait': 294, 'reg_lambda': 34.94790753518347, 'border_count': 150, 'min_child_samples': 8, 'leaf_estimation_iterations': 4, 'value': 0.8566858840112619}.\n"
     ]
    },
    {
     "name": "stdout",
     "output_type": "stream",
     "text": [
      "ROC AUC Score of CatBoost = 0.8566858840112619\n"
     ]
    },
    {
     "name": "stderr",
     "output_type": "stream",
     "text": [
      "\u001b[32m[I 2021-10-21 17:22:46,266]\u001b[0m Trial 91 finished with value: 0.856688255217875 and parameters: {'iterations': 4364, 'depth': 6, 'learning_rate': 0.0029554744965187324, 'random_strength': 0, 'od_wait': 275, 'reg_lambda': 34.467571813329414, 'border_count': 150, 'min_child_samples': 8, 'leaf_estimation_iterations': 4}. Best is trial 88 with value: 0.8567014488546707.\u001b[0m\n",
      "\u001b[34m\u001b[1mwandb\u001b[0m: \u001b[33mWARNING\u001b[0m Step must only increase in log calls.  Step 91 < 92; dropping {'iterations': 4364, 'depth': 6, 'learning_rate': 0.0029554744965187324, 'random_strength': 0, 'od_wait': 275, 'reg_lambda': 34.467571813329414, 'border_count': 150, 'min_child_samples': 8, 'leaf_estimation_iterations': 4, 'value': 0.856688255217875}.\n"
     ]
    },
    {
     "name": "stdout",
     "output_type": "stream",
     "text": [
      "ROC AUC Score of CatBoost = 0.856688255217875\n"
     ]
    },
    {
     "name": "stderr",
     "output_type": "stream",
     "text": [
      "\u001b[32m[I 2021-10-21 17:23:28,551]\u001b[0m Trial 92 finished with value: 0.8566590646364654 and parameters: {'iterations': 4850, 'depth': 6, 'learning_rate': 0.0031101379995707584, 'random_strength': 4, 'od_wait': 299, 'reg_lambda': 36.69329719491255, 'border_count': 154, 'min_child_samples': 8, 'leaf_estimation_iterations': 4}. Best is trial 88 with value: 0.8567014488546707.\u001b[0m\n",
      "\u001b[34m\u001b[1mwandb\u001b[0m: \u001b[33mWARNING\u001b[0m Step must only increase in log calls.  Step 92 < 93; dropping {'iterations': 4850, 'depth': 6, 'learning_rate': 0.0031101379995707584, 'random_strength': 4, 'od_wait': 299, 'reg_lambda': 36.69329719491255, 'border_count': 154, 'min_child_samples': 8, 'leaf_estimation_iterations': 4, 'value': 0.8566590646364654}.\n"
     ]
    },
    {
     "name": "stdout",
     "output_type": "stream",
     "text": [
      "ROC AUC Score of CatBoost = 0.8566590646364654\n"
     ]
    },
    {
     "name": "stderr",
     "output_type": "stream",
     "text": [
      "\u001b[32m[I 2021-10-21 17:23:46,335]\u001b[0m Trial 93 finished with value: 0.8567001278509866 and parameters: {'iterations': 2026, 'depth': 6, 'learning_rate': 0.0024811477104864955, 'random_strength': 0, 'od_wait': 429, 'reg_lambda': 41.86339450321174, 'border_count': 158, 'min_child_samples': 9, 'leaf_estimation_iterations': 4}. Best is trial 88 with value: 0.8567014488546707.\u001b[0m\n",
      "\u001b[34m\u001b[1mwandb\u001b[0m: \u001b[33mWARNING\u001b[0m Step must only increase in log calls.  Step 93 < 94; dropping {'iterations': 2026, 'depth': 6, 'learning_rate': 0.0024811477104864955, 'random_strength': 0, 'od_wait': 429, 'reg_lambda': 41.86339450321174, 'border_count': 158, 'min_child_samples': 9, 'leaf_estimation_iterations': 4, 'value': 0.8567001278509866}.\n"
     ]
    },
    {
     "name": "stdout",
     "output_type": "stream",
     "text": [
      "ROC AUC Score of CatBoost = 0.8567001278509866\n"
     ]
    },
    {
     "name": "stderr",
     "output_type": "stream",
     "text": [
      "\u001b[32m[I 2021-10-21 17:24:21,559]\u001b[0m Trial 94 finished with value: 0.8566591283366429 and parameters: {'iterations': 4020, 'depth': 6, 'learning_rate': 0.002532384503431911, 'random_strength': 6, 'od_wait': 415, 'reg_lambda': 42.27113903972913, 'border_count': 138, 'min_child_samples': 9, 'leaf_estimation_iterations': 4}. Best is trial 88 with value: 0.8567014488546707.\u001b[0m\n",
      "\u001b[34m\u001b[1mwandb\u001b[0m: \u001b[33mWARNING\u001b[0m Step must only increase in log calls.  Step 94 < 95; dropping {'iterations': 4020, 'depth': 6, 'learning_rate': 0.002532384503431911, 'random_strength': 6, 'od_wait': 415, 'reg_lambda': 42.27113903972913, 'border_count': 138, 'min_child_samples': 9, 'leaf_estimation_iterations': 4, 'value': 0.8566591283366429}.\n"
     ]
    },
    {
     "name": "stdout",
     "output_type": "stream",
     "text": [
      "ROC AUC Score of CatBoost = 0.8566591283366429\n"
     ]
    },
    {
     "name": "stderr",
     "output_type": "stream",
     "text": [
      "\u001b[32m[I 2021-10-21 17:24:59,891]\u001b[0m Trial 95 finished with value: 0.8566939147836589 and parameters: {'iterations': 4438, 'depth': 6, 'learning_rate': 0.0022744432057085996, 'random_strength': 0, 'od_wait': 216, 'reg_lambda': 35.656598225031, 'border_count': 129, 'min_child_samples': 7, 'leaf_estimation_iterations': 4}. Best is trial 88 with value: 0.8567014488546707.\u001b[0m\n",
      "\u001b[34m\u001b[1mwandb\u001b[0m: \u001b[33mWARNING\u001b[0m Step must only increase in log calls.  Step 95 < 96; dropping {'iterations': 4438, 'depth': 6, 'learning_rate': 0.0022744432057085996, 'random_strength': 0, 'od_wait': 216, 'reg_lambda': 35.656598225031, 'border_count': 129, 'min_child_samples': 7, 'leaf_estimation_iterations': 4, 'value': 0.8566939147836589}.\n"
     ]
    },
    {
     "name": "stdout",
     "output_type": "stream",
     "text": [
      "ROC AUC Score of CatBoost = 0.8566939147836589\n"
     ]
    },
    {
     "name": "stderr",
     "output_type": "stream",
     "text": [
      "\u001b[32m[I 2021-10-21 17:25:45,936]\u001b[0m Trial 96 finished with value: 0.8566923731293594 and parameters: {'iterations': 5457, 'depth': 6, 'learning_rate': 0.002187934882375293, 'random_strength': 0, 'od_wait': 213, 'reg_lambda': 43.828819000263124, 'border_count': 106, 'min_child_samples': 7, 'leaf_estimation_iterations': 4}. Best is trial 88 with value: 0.8567014488546707.\u001b[0m\n",
      "\u001b[34m\u001b[1mwandb\u001b[0m: \u001b[33mWARNING\u001b[0m Step must only increase in log calls.  Step 96 < 97; dropping {'iterations': 5457, 'depth': 6, 'learning_rate': 0.002187934882375293, 'random_strength': 0, 'od_wait': 213, 'reg_lambda': 43.828819000263124, 'border_count': 106, 'min_child_samples': 7, 'leaf_estimation_iterations': 4, 'value': 0.8566923731293594}.\n"
     ]
    },
    {
     "name": "stdout",
     "output_type": "stream",
     "text": [
      "ROC AUC Score of CatBoost = 0.8566923731293594\n"
     ]
    },
    {
     "name": "stderr",
     "output_type": "stream",
     "text": [
      "\u001b[32m[I 2021-10-21 17:26:35,360]\u001b[0m Trial 97 finished with value: 0.8566811885481668 and parameters: {'iterations': 5276, 'depth': 7, 'learning_rate': 0.0021513149217416475, 'random_strength': 0, 'od_wait': 211, 'reg_lambda': 49.2197187890695, 'border_count': 101, 'min_child_samples': 7, 'leaf_estimation_iterations': 4}. Best is trial 88 with value: 0.8567014488546707.\u001b[0m\n",
      "\u001b[34m\u001b[1mwandb\u001b[0m: \u001b[33mWARNING\u001b[0m Step must only increase in log calls.  Step 97 < 98; dropping {'iterations': 5276, 'depth': 7, 'learning_rate': 0.0021513149217416475, 'random_strength': 0, 'od_wait': 211, 'reg_lambda': 49.2197187890695, 'border_count': 101, 'min_child_samples': 7, 'leaf_estimation_iterations': 4, 'value': 0.8566811885481668}.\n"
     ]
    },
    {
     "name": "stdout",
     "output_type": "stream",
     "text": [
      "ROC AUC Score of CatBoost = 0.8566811885481668\n"
     ]
    },
    {
     "name": "stderr",
     "output_type": "stream",
     "text": [
      "\u001b[32m[I 2021-10-21 17:27:24,242]\u001b[0m Trial 98 finished with value: 0.8566895874215903 and parameters: {'iterations': 5230, 'depth': 7, 'learning_rate': 0.0020058986656578833, 'random_strength': 0, 'od_wait': 183, 'reg_lambda': 44.258478769990646, 'border_count': 107, 'min_child_samples': 7, 'leaf_estimation_iterations': 4}. Best is trial 88 with value: 0.8567014488546707.\u001b[0m\n",
      "\u001b[34m\u001b[1mwandb\u001b[0m: \u001b[33mWARNING\u001b[0m Step must only increase in log calls.  Step 98 < 99; dropping {'iterations': 5230, 'depth': 7, 'learning_rate': 0.0020058986656578833, 'random_strength': 0, 'od_wait': 183, 'reg_lambda': 44.258478769990646, 'border_count': 107, 'min_child_samples': 7, 'leaf_estimation_iterations': 4, 'value': 0.8566895874215903}.\n"
     ]
    },
    {
     "name": "stdout",
     "output_type": "stream",
     "text": [
      "ROC AUC Score of CatBoost = 0.8566895874215903\n"
     ]
    },
    {
     "name": "stderr",
     "output_type": "stream",
     "text": [
      "\u001b[32m[I 2021-10-21 17:28:39,373]\u001b[0m Trial 99 finished with value: 0.8566584256346833 and parameters: {'iterations': 7963, 'depth': 7, 'learning_rate': 0.001908760024016461, 'random_strength': 11, 'od_wait': 208, 'reg_lambda': 45.519971812430654, 'border_count': 101, 'min_child_samples': 7, 'leaf_estimation_iterations': 4}. Best is trial 88 with value: 0.8567014488546707.\u001b[0m\n",
      "\u001b[34m\u001b[1mwandb\u001b[0m: \u001b[33mWARNING\u001b[0m Step must only increase in log calls.  Step 99 < 100; dropping {'iterations': 7963, 'depth': 7, 'learning_rate': 0.001908760024016461, 'random_strength': 11, 'od_wait': 208, 'reg_lambda': 45.519971812430654, 'border_count': 101, 'min_child_samples': 7, 'leaf_estimation_iterations': 4, 'value': 0.8566584256346833}.\n"
     ]
    },
    {
     "name": "stdout",
     "output_type": "stream",
     "text": [
      "ROC AUC Score of CatBoost = 0.8566584256346833\n"
     ]
    }
   ],
   "source": [
    "for x in range(100):\n",
    "    study.optimize(objective, n_trials = 1, callbacks = [wandbc]) #n_jobs = multiprocessing.cpu_count())\n",
    "    dump(study, filename=datapath/f'optuna_dataset_study_trial{x}_20211026.joblib')"
   ]
  },
  {
   "cell_type": "code",
   "execution_count": 20,
   "id": "35c0b945-2e29-48f0-9cf9-7de44f5b0afe",
   "metadata": {},
   "outputs": [
    {
     "data": {
      "text/plain": [
       "{'iterations': 2000,\n",
       " 'depth': 6,\n",
       " 'learning_rate': 0.002984126581340097,\n",
       " 'random_strength': 0,\n",
       " 'od_wait': 334,\n",
       " 'reg_lambda': 33.469738674488084,\n",
       " 'border_count': 158,\n",
       " 'min_child_samples': 8,\n",
       " 'leaf_estimation_iterations': 4}"
      ]
     },
     "execution_count": 20,
     "metadata": {},
     "output_type": "execute_result"
    }
   ],
   "source": [
    "study.best_trial.params"
   ]
  },
  {
   "cell_type": "code",
   "execution_count": 21,
   "id": "cf062650-04df-4d32-a443-9e5e9c198b93",
   "metadata": {
    "id": "f02e689e-b20c-48e5-a7d9-02467b4f3dbd"
   },
   "outputs": [
    {
     "data": {
      "text/html": [
       "<br/>Waiting for W&B process to finish, PID 291120... <strong style=\"color:green\">(success).</strong>"
      ],
      "text/plain": [
       "<IPython.core.display.HTML object>"
      ]
     },
     "metadata": {},
     "output_type": "display_data"
    },
    {
     "data": {
      "application/vnd.jupyter.widget-view+json": {
       "model_id": "",
       "version_major": 2,
       "version_minor": 0
      },
      "text/plain": [
       "VBox(children=(Label(value=' 0.00MB of 0.00MB uploaded (0.00MB deduped)\\r'), FloatProgress(value=1.0, max=1.0)…"
      ]
     },
     "metadata": {},
     "output_type": "display_data"
    },
    {
     "data": {
      "text/html": [
       "<style>\n",
       "    table.wandb td:nth-child(1) { padding: 0 10px; text-align: right }\n",
       "    .wandb-row { display: flex; flex-direction: row; flex-wrap: wrap; width: 100% }\n",
       "    .wandb-col { display: flex; flex-direction: column; flex-basis: 100%; flex: 1; padding: 10px; }\n",
       "    </style>\n",
       "<div class=\"wandb-row\"><div class=\"wandb-col\">\n",
       "<h3>Run history:</h3><br/><table class=\"wandb\"><tr><td>valid_AUC</td><td>▁▇▇██████████▆█▇████████▇███████████████</td></tr></table><br/></div><div class=\"wandb-col\">\n",
       "<h3>Run summary:</h3><br/><table class=\"wandb\"><tr><td>valid_AUC</td><td>0.85666</td></tr></table>\n",
       "</div></div>\n",
       "Synced 6 W&B file(s), 0 media file(s), 0 artifact file(s) and 0 other file(s)\n",
       "<br/>Synced <strong style=\"color:#cdcd00\">sweep_catboost_20211021_150418</strong>: <a href=\"https://wandb.ai/hushifang/202110_Kaggle_tabular_playground/runs/jn0jdnqn\" target=\"_blank\">https://wandb.ai/hushifang/202110_Kaggle_tabular_playground/runs/jn0jdnqn</a><br/>\n",
       "Find logs at: <code>./wandb/run-20211021_150423-jn0jdnqn/logs</code><br/>\n"
      ],
      "text/plain": [
       "<IPython.core.display.HTML object>"
      ]
     },
     "metadata": {},
     "output_type": "display_data"
    }
   ],
   "source": [
    "wandb.log({'best_dataset_params': study.best_trial.params})\n",
    "wandb.finish()"
   ]
  }
 ],
 "metadata": {
  "kernelspec": {
   "display_name": "Python 3",
   "language": "python",
   "name": "python3"
  },
  "language_info": {
   "codemirror_mode": {
    "name": "ipython",
    "version": 3
   },
   "file_extension": ".py",
   "mimetype": "text/x-python",
   "name": "python",
   "nbconvert_exporter": "python",
   "pygments_lexer": "ipython3",
   "version": "3.8.11"
  }
 },
 "nbformat": 4,
 "nbformat_minor": 5
}
