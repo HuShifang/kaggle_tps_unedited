{
 "cells": [
  {
   "cell_type": "markdown",
   "id": "87e815d3-d755-4fa2-85a5-ea4df4948fcd",
   "metadata": {},
   "source": [
    "Header for notebooks -- customize as required."
   ]
  },
  {
   "cell_type": "code",
   "execution_count": 8,
   "id": "843e3531-f950-4701-9330-07960ae9a937",
   "metadata": {},
   "outputs": [],
   "source": [
    "# notebook configuration\n",
    "COLAB = False # will trigger manual installation of packages\n",
    "USE_GPU = True "
   ]
  },
  {
   "cell_type": "code",
   "execution_count": 9,
   "id": "6a61aa18-6ef3-41d1-bb75-08d1f766dbe1",
   "metadata": {},
   "outputs": [],
   "source": [
    "# basic imports\n",
    "from pathlib import Path\n",
    "import os\n",
    "import math\n",
    "from datetime import datetime\n",
    "import random"
   ]
  },
  {
   "cell_type": "code",
   "execution_count": 10,
   "id": "86d84988-5ddb-40d9-bc12-826012acb870",
   "metadata": {},
   "outputs": [],
   "source": [
    "%matplotlib inline\n",
    "%config Completer.use_jedi = False\n",
    "os.environ['WANDB_NOTEBOOK_NAME'] = f\"nb_{datetime.now().strftime('%Y%m%d')}.ipynb\""
   ]
  },
  {
   "cell_type": "markdown",
   "id": "7ddf1e65-6447-47b9-88f2-8d02bbc29af0",
   "metadata": {},
   "source": [
    "Now, non-stdlib imports"
   ]
  },
  {
   "cell_type": "code",
   "execution_count": 11,
   "id": "ee16c791-548b-4616-9c82-ea76001e4749",
   "metadata": {},
   "outputs": [],
   "source": [
    "import pandas as pd\n",
    "import numpy as np\n",
    "import matplotlib.pyplot as plt\n",
    "from tqdm.notebook import tqdm\n",
    "\n",
    "# general ML tooling\n",
    "from sklearn.model_selection import train_test_split, StratifiedKFold, KFold\n",
    "from sklearn.metrics import log_loss, roc_auc_score\n",
    "import wandb\n",
    "from wandb.xgboost import wandb_callback\n",
    "from wandb.lightgbm import wandb_callback\n",
    "from sklearn.impute import SimpleImputer #, KNNImputer\n",
    "\n",
    "import seaborn as sns\n",
    "\n",
    "from catboost import CatBoostClassifier\n",
    "from xgboost import XGBClassifier\n",
    "from lightgbm import LGBMClassifier\n",
    "# from sklearn.ensemble import StackingClassifier, RandomForestClassifier\n",
    "from sklearn.preprocessing import RobustScaler #StandardScaler #, MinMaxScaler, MaxAbsScaler, RobustScaler, PolynomialFeatures\n",
    "from sklearn.linear_model import LogisticRegression\n",
    "# from sklearn.feature_selection import SelectKBest, f_regression\n",
    "from joblib import dump, load\n",
    "# feature engineering tools\n",
    "# from sklearn.feature_selection import mutual_info_regression\n",
    "# import featuretools as ft\n",
    "\n",
    "from BorutaShap import BorutaShap"
   ]
  },
  {
   "cell_type": "code",
   "execution_count": 12,
   "id": "5b139207-5ea6-464d-922e-e4d0a398062f",
   "metadata": {},
   "outputs": [],
   "source": [
    "from pytorch_widedeep import Trainer\n",
    "from pytorch_widedeep.preprocessing import WidePreprocessor, TabPreprocessor\n",
    "from pytorch_widedeep.models import Wide, TabMlp, WideDeep#, SAINT, TabTransformer, TabNet, TabFastFormer, TabResnet\n",
    "from pytorch_widedeep.metrics import Accuracy\n",
    "from torchmetrics import AUROC\n",
    "import torch\n",
    "from torch.optim import Adam, AdamW, Adagrad, SGD, RMSprop, LBFGS\n",
    "from torch.optim.lr_scheduler import ReduceLROnPlateau, CosineAnnealingWarmRestarts, CyclicLR, OneCycleLR, StepLR, CosineAnnealingLR\n",
    "from pytorch_widedeep.callbacks import EarlyStopping, LRHistory, ModelCheckpoint"
   ]
  },
  {
   "cell_type": "code",
   "execution_count": 13,
   "id": "55072fd2-dcc0-4169-a6f8-54d9b76ab432",
   "metadata": {},
   "outputs": [],
   "source": [
    "# import category_encoders as ce"
   ]
  },
  {
   "cell_type": "markdown",
   "id": "d71932e1-2e32-4474-acbc-3cbe63ce993e",
   "metadata": {},
   "source": [
    "Now, datapath setup"
   ]
  },
  {
   "cell_type": "code",
   "execution_count": 14,
   "id": "880b9f33-b517-40ef-a3e6-049dcc52a4e9",
   "metadata": {},
   "outputs": [],
   "source": [
    "if COLAB:\n",
    "    # mount Google Drive\n",
    "    from google.colab import drive\n",
    "    drive.mount('/content/drive')\n",
    "    \n",
    "    # handling datapath\n",
    "    datapath = Path('/content/drive/MyDrive/kaggle/tabular_playgrounds/nov2021/')\n",
    "    \n",
    "else:\n",
    "    # if on local machine\n",
    "#     datapath = Path('/media/sf/easystore/kaggle_data/tabular_playgrounds/sep2021/')  \n",
    "    root = Path('/media/sf/easystore/kaggle_data/tabular_playgrounds/nov2021/')\n",
    "    datapath = root/'datasets'\n",
    "    # edapath = root/'EDA'\n",
    "    # modelpath = Path('/media/sf/easystore/kaggle_data/tabular_playgrounds/oct2021/models/')\n",
    "    predpath = root/'preds'\n",
    "    subpath = root/'submissions'\n",
    "    \n",
    "    for pth in [datapath, predpath, subpath]:\n",
    "        pth.mkdir(exist_ok=True)\n",
    "    \n"
   ]
  },
  {
   "cell_type": "markdown",
   "id": "58fe9e0d-1301-4ade-a63d-9f3d298c2255",
   "metadata": {},
   "source": [
    "## Helpers"
   ]
  },
  {
   "cell_type": "code",
   "execution_count": 15,
   "id": "1905a9de-cd7c-4a73-a39e-b42a8297785c",
   "metadata": {},
   "outputs": [],
   "source": [
    "SEED = 42\n",
    "\n",
    "# Function to seed everything\n",
    "def seed_everything(seed, reproducible=True):\n",
    "    random.seed(seed)\n",
    "    np.random.seed(seed)\n",
    "    os.environ['PYTHONHASHSEED'] = str(seed)\n",
    "    # torch.manual_seed(seed) # set torch CPU seed\n",
    "    # if torch.cuda.is_available():\n",
    "    #     torch.cuda.manual_seed_all(seed) # set torch GPU(s) seed(s)\n",
    "    # if reproducible and torch.backends.cudnn.is_available():\n",
    "    #     torch.backends.cudnn.deterministic = True\n",
    "    #     torch.backends.cudnn.benchmark = False\n",
    "\n",
    "seed_everything(seed=SEED)"
   ]
  },
  {
   "cell_type": "code",
   "execution_count": 16,
   "id": "ba521a1a-8c41-4b9b-becd-36eb62739ba3",
   "metadata": {},
   "outputs": [],
   "source": [
    "def reduce_memory_usage(df, verbose=True):\n",
    "    numerics = [\"int8\", \"int16\", \"int32\", \"int64\", \"float16\", \"float32\", \"float64\"]\n",
    "    start_mem = df.memory_usage().sum() / 1024 ** 2\n",
    "    for col in df.columns:\n",
    "        col_type = df[col].dtypes\n",
    "        if col_type in numerics:\n",
    "            c_min = df[col].min()\n",
    "            c_max = df[col].max()\n",
    "            if str(col_type)[:3] == \"int\":\n",
    "                if c_min > np.iinfo(np.int8).min and c_max < np.iinfo(np.int8).max:\n",
    "                    df[col] = df[col].astype(np.int8)\n",
    "                elif c_min > np.iinfo(np.int16).min and c_max < np.iinfo(np.int16).max:\n",
    "                    df[col] = df[col].astype(np.int16)\n",
    "                elif c_min > np.iinfo(np.int32).min and c_max < np.iinfo(np.int32).max:\n",
    "                    df[col] = df[col].astype(np.int32)\n",
    "                elif c_min > np.iinfo(np.int64).min and c_max < np.iinfo(np.int64).max:\n",
    "                    df[col] = df[col].astype(np.int64)\n",
    "            else:\n",
    "                if (\n",
    "                    c_min > np.finfo(np.float16).min\n",
    "                    and c_max < np.finfo(np.float16).max\n",
    "                ):\n",
    "                    df[col] = df[col].astype(np.float16)\n",
    "                elif (\n",
    "                    c_min > np.finfo(np.float32).min\n",
    "                    and c_max < np.finfo(np.float32).max\n",
    "                ):\n",
    "                    df[col] = df[col].astype(np.float32)\n",
    "                else:\n",
    "                    df[col] = df[col].astype(np.float64)\n",
    "    end_mem = df.memory_usage().sum() / 1024 ** 2\n",
    "    if verbose:\n",
    "        print(\n",
    "            \"Mem. usage decreased to {:.2f} Mb ({:.1f}% reduction)\".format(\n",
    "                end_mem, 100 * (start_mem - end_mem) / start_mem\n",
    "            )\n",
    "        )\n",
    "    return df"
   ]
  },
  {
   "cell_type": "markdown",
   "id": "a6f63ee2-a167-4111-9b44-bf67c8240603",
   "metadata": {},
   "source": [
    "## Metadata"
   ]
  },
  {
   "cell_type": "code",
   "execution_count": 17,
   "id": "ad459104-e31a-4aa0-8a9a-bb279e2b9944",
   "metadata": {
    "tags": []
   },
   "outputs": [],
   "source": [
    "# dataset_params will initially include either trivial class instances or loaded, precomputed artifacts\n",
    "dataset_params = {\n",
    "    # 'train_source': str(datapath/'X-RobustScaled-pca_mle-umap_embedding_20211107-n_comp10-n_neighbors15-rs42.joblib'),\n",
    "    'train_source': str(datapath/'X_orig.feather'),\n",
    "    'target_source': str(datapath/'y_orig.joblib'),\n",
    "    # 'test_source': str(datapath/'X_test-RobustScaled-pca_mle-umap_embedding_20211107-n_comp10-n_neighbors15-rs42.joblib'),\n",
    "    'test_source': str(datapath/'X_test_orig-no_scaling.feather'),\n",
    "    # 'scaler': str(RobustScaler()),\n",
    "    # 'pca': str(load(datapath/'pca_mle-RobustScaled_orig_trainset.joblib')),\n",
    "    # 'umap': str(load(datapath/'umap_reducer-20211107-n_comp10-n_neighbors15-rs42-pca_mle-RobustScaled_orig_trainset.joblib')),\n",
    "}   \n",
    "\n",
    "# referring back to the already-entered attributes, specify how the pipeline was sequenced\n",
    "# dataset_params['preprocessing_pipeline'] = str([dataset_params['scaler'], dataset_params['pca'], dataset_params['umap']]) # ACTUALLY this is unwieldy\n",
    "# dataset_params['preprocessing_pipeline'] = '[scaler, pca, umap]' # more fragile, but also more readable\n",
    "\n",
    "# now, load the datasets and generate more metadata from them\n",
    "# X = load(dataset_params['train_source'])\n",
    "X = pd.read_feather(dataset_params['train_source'])\n",
    "y = load(dataset_params['target_source'])\n",
    "# X_test = load(dataset_params['test_source'])\n",
    "X_test = pd.read_feather(dataset_params['test_source'])\n",
    "\n",
    "dataset_params['feature_count'] = X.shape[1]\n",
    "dataset_params['instance_count'] = X.shape[0]\n",
    "    "
   ]
  },
  {
   "cell_type": "code",
   "execution_count": 18,
   "id": "d647e8af-e065-4ea8-aa6c-5d158791904b",
   "metadata": {},
   "outputs": [],
   "source": [
    "# meta-config for preprocessing and cross-validation, but NOT for model parameters\n",
    "exmodel_config = {\n",
    "#     \"feature_selector\": SelectKBest,\n",
    "#     \"k_best\": 80,\n",
    "#     \"feature_selection_scoring\": f_regression,\n",
    "#     'random_state': SEED,\n",
    "#     'feature_generation': ['NaN_counts', 'SummaryStats', 'NaN_OneHots'],\n",
    "#     'subsample': 1,\n",
    "    'cross_val_strategy': KFold, # None for holdout, or the relevant sklearn class\n",
    "    'kfolds': 5, # if 1, that means just doing holdout\n",
    "    'test_size': 0.2,\n",
    "    **dataset_params\n",
    "#     'features_created': False,\n",
    "#     'feature_creator': None,\n",
    "}"
   ]
  },
  {
   "cell_type": "code",
   "execution_count": 19,
   "id": "b103e4ee-29a7-4a4b-b688-893fee7b9dbf",
   "metadata": {},
   "outputs": [
    {
     "name": "stderr",
     "output_type": "stream",
     "text": [
      "`should_run_async` will not call `transform_cell` automatically in the future. Please pass the result to `transformed_cell` argument and any exception that happen during thetransform in `preprocessing_exc_tuple` in IPython 7.17 and above.\n"
     ]
    }
   ],
   "source": [
    "from doubtlab.ensemble import DoubtEnsemble\n",
    "from doubtlab.reason import CleanlabReason, AbsoluteDifferenceReason, DisagreeReason, LongConfidenceReason, MarginConfidenceReason, OutlierReason, ProbaReason, RelativeDifferenceReason, WrongPredictionReason "
   ]
  },
  {
   "cell_type": "code",
   "execution_count": 21,
   "id": "42fe400e-b43a-47dc-b4e7-2b92c7150e1c",
   "metadata": {},
   "outputs": [
    {
     "name": "stderr",
     "output_type": "stream",
     "text": [
      "The use of label encoder in XGBClassifier is deprecated and will be removed in a future release. To remove this warning, do the following: 1) Pass option use_label_encoder=False when constructing XGBClassifier object; and 2) Encode your labels (y) as integers starting with 0, i.e. 0, 1, 2, ..., [num_class - 1].\n"
     ]
    },
    {
     "name": "stdout",
     "output_type": "stream",
     "text": [
      "[09:49:53] WARNING: ../src/learner.cc:1115: Starting in XGBoost 1.3.0, the default evaluation metric used with the objective 'binary:logistic' was changed from 'error' to 'logloss'. Explicitly set eval_metric if you'd like to restore the old behavior.\n"
     ]
    },
    {
     "data": {
      "text/plain": [
       "XGBClassifier(base_score=0.5, booster='gbtree', colsample_bylevel=1,\n",
       "              colsample_bynode=1, colsample_bytree=1, enable_categorical=False,\n",
       "              gamma=0, gpu_id=0, importance_type=None,\n",
       "              interaction_constraints='', learning_rate=0.300000012,\n",
       "              max_delta_step=0, max_depth=6, min_child_weight=1, missing=nan,\n",
       "              monotone_constraints='()', n_estimators=100, n_jobs=16,\n",
       "              num_parallel_tree=1, predictor='auto', random_state=42,\n",
       "              reg_alpha=0, reg_lambda=1, scale_pos_weight=1, subsample=1,\n",
       "              tree_method='gpu_hist', validate_parameters=1, verbosity=1)"
      ]
     },
     "execution_count": 21,
     "metadata": {},
     "output_type": "execute_result"
    }
   ],
   "source": [
    "model = XGBClassifier(booster='gbtree',\n",
    "                      tree_method='gpu_hist',\n",
    "                      random_state=42,\n",
    "                      # n_jobs=-1, \n",
    "                      verbosity=1, \n",
    "                      objective='binary:logistic',\n",
    "                      # **params\n",
    "                     )\n",
    "\n",
    "model.fit(X,y)\n",
    "\n",
    "# y_valid_preds = model.predict_proba(X_valid)[:,1]"
   ]
  },
  {
   "cell_type": "code",
   "execution_count": 24,
   "id": "d56940aa-488f-47d6-a4c5-d699b40de3ba",
   "metadata": {},
   "outputs": [],
   "source": [
    "reasons = {\n",
    "    \"cleanlab\": CleanlabReason(model),\n",
    "    # AbsoluteDifferenceReason, \n",
    "    # DisagreeReason, \n",
    "    \"overconfident\": LongConfidenceReason(model), \n",
    "    \"outlier\": OutlierReason(model), \n",
    "    \"shaky\": ProbaReason(model, max_proba=0.4), \n",
    "    # RelativeDifferenceReason, \n",
    "    \"wrong\": WrongPredictionReason(model)\n",
    "}\n",
    "\n",
    "doubt = DoubtEnsemble(**reasons)\n",
    "\n",
    "indices = doubt.get_indices(X,y)"
   ]
  },
  {
   "cell_type": "code",
   "execution_count": 25,
   "id": "8aa2ebff-444c-4b8e-8e28-0f23dbc131ae",
   "metadata": {},
   "outputs": [
    {
     "name": "stderr",
     "output_type": "stream",
     "text": [
      "`should_run_async` will not call `transform_cell` automatically in the future. Please pass the result to `transformed_cell` argument and any exception that happen during thetransform in `preprocessing_exc_tuple` in IPython 7.17 and above.\n"
     ]
    },
    {
     "data": {
      "text/plain": [
       "528776"
      ]
     },
     "execution_count": 25,
     "metadata": {},
     "output_type": "execute_result"
    }
   ],
   "source": [
    "len(indices)"
   ]
  },
  {
   "cell_type": "code",
   "execution_count": 26,
   "id": "9ecf770c-34dc-4022-8397-90a2548e4982",
   "metadata": {},
   "outputs": [
    {
     "data": {
      "text/plain": [
       "numpy.ndarray"
      ]
     },
     "execution_count": 26,
     "metadata": {},
     "output_type": "execute_result"
    }
   ],
   "source": [
    "type(indices)"
   ]
  },
  {
   "cell_type": "code",
   "execution_count": 28,
   "id": "f89c86f2-9390-4222-b3c0-4875e8f81de1",
   "metadata": {},
   "outputs": [
    {
     "name": "stderr",
     "output_type": "stream",
     "text": [
      "`should_run_async` will not call `transform_cell` automatically in the future. Please pass the result to `transformed_cell` argument and any exception that happen during thetransform in `preprocessing_exc_tuple` in IPython 7.17 and above.\n"
     ]
    }
   ],
   "source": [
    "predicates = doubt.get_predicates(X,y)"
   ]
  },
  {
   "cell_type": "code",
   "execution_count": 29,
   "id": "08cec0bc-3dd9-4ba1-a585-23592e44fc67",
   "metadata": {},
   "outputs": [
    {
     "name": "stderr",
     "output_type": "stream",
     "text": [
      "`should_run_async` will not call `transform_cell` automatically in the future. Please pass the result to `transformed_cell` argument and any exception that happen during thetransform in `preprocessing_exc_tuple` in IPython 7.17 and above.\n"
     ]
    },
    {
     "data": {
      "text/html": [
       "<div>\n",
       "<style scoped>\n",
       "    .dataframe tbody tr th:only-of-type {\n",
       "        vertical-align: middle;\n",
       "    }\n",
       "\n",
       "    .dataframe tbody tr th {\n",
       "        vertical-align: top;\n",
       "    }\n",
       "\n",
       "    .dataframe thead th {\n",
       "        text-align: right;\n",
       "    }\n",
       "</style>\n",
       "<table border=\"1\" class=\"dataframe\">\n",
       "  <thead>\n",
       "    <tr style=\"text-align: right;\">\n",
       "      <th></th>\n",
       "      <th>predicate_cleanlab</th>\n",
       "      <th>predicate_overconfident</th>\n",
       "      <th>predicate_outlier</th>\n",
       "      <th>predicate_shaky</th>\n",
       "      <th>predicate_wrong</th>\n",
       "    </tr>\n",
       "  </thead>\n",
       "  <tbody>\n",
       "    <tr>\n",
       "      <th>593165</th>\n",
       "      <td>0</td>\n",
       "      <td>0.974799</td>\n",
       "      <td>0.0</td>\n",
       "      <td>0.0</td>\n",
       "      <td>1.0</td>\n",
       "    </tr>\n",
       "    <tr>\n",
       "      <th>148703</th>\n",
       "      <td>0</td>\n",
       "      <td>0.966283</td>\n",
       "      <td>0.0</td>\n",
       "      <td>0.0</td>\n",
       "      <td>1.0</td>\n",
       "    </tr>\n",
       "    <tr>\n",
       "      <th>277717</th>\n",
       "      <td>0</td>\n",
       "      <td>0.961299</td>\n",
       "      <td>0.0</td>\n",
       "      <td>0.0</td>\n",
       "      <td>1.0</td>\n",
       "    </tr>\n",
       "    <tr>\n",
       "      <th>340086</th>\n",
       "      <td>0</td>\n",
       "      <td>0.958784</td>\n",
       "      <td>0.0</td>\n",
       "      <td>0.0</td>\n",
       "      <td>1.0</td>\n",
       "    </tr>\n",
       "    <tr>\n",
       "      <th>197636</th>\n",
       "      <td>0</td>\n",
       "      <td>0.958125</td>\n",
       "      <td>0.0</td>\n",
       "      <td>0.0</td>\n",
       "      <td>1.0</td>\n",
       "    </tr>\n",
       "  </tbody>\n",
       "</table>\n",
       "</div>"
      ],
      "text/plain": [
       "        predicate_cleanlab  predicate_overconfident  predicate_outlier  \\\n",
       "593165                   0                 0.974799                0.0   \n",
       "148703                   0                 0.966283                0.0   \n",
       "277717                   0                 0.961299                0.0   \n",
       "340086                   0                 0.958784                0.0   \n",
       "197636                   0                 0.958125                0.0   \n",
       "\n",
       "        predicate_shaky  predicate_wrong  \n",
       "593165              0.0              1.0  \n",
       "148703              0.0              1.0  \n",
       "277717              0.0              1.0  \n",
       "340086              0.0              1.0  \n",
       "197636              0.0              1.0  "
      ]
     },
     "execution_count": 29,
     "metadata": {},
     "output_type": "execute_result"
    }
   ],
   "source": [
    "predicates.head()"
   ]
  },
  {
   "cell_type": "code",
   "execution_count": 32,
   "id": "086b8c40-7b9d-42f0-ab3f-89ac4eb34516",
   "metadata": {},
   "outputs": [],
   "source": [
    "wrongs = predicates.loc[(predicates['predicate_wrong'] == 1)]# and (predicates['predicate_overconfident'] > 0.8)]"
   ]
  },
  {
   "cell_type": "code",
   "execution_count": 33,
   "id": "1bfb5f4d-bc42-416d-9ec0-4641472918cc",
   "metadata": {},
   "outputs": [
    {
     "data": {
      "text/plain": [
       "(162188, 5)"
      ]
     },
     "execution_count": 33,
     "metadata": {},
     "output_type": "execute_result"
    }
   ],
   "source": [
    "wrongs.shape"
   ]
  },
  {
   "cell_type": "code",
   "execution_count": 35,
   "id": "10559b8d-23fd-44f3-80cb-b68bd7795804",
   "metadata": {
    "collapsed": true,
    "jupyter": {
     "outputs_hidden": true
    },
    "tags": []
   },
   "outputs": [
    {
     "name": "stderr",
     "output_type": "stream",
     "text": [
      "`should_run_async` will not call `transform_cell` automatically in the future. Please pass the result to `transformed_cell` argument and any exception that happen during thetransform in `preprocessing_exc_tuple` in IPython 7.17 and above.\n"
     ]
    },
    {
     "data": {
      "text/html": [
       "<div>\n",
       "<style scoped>\n",
       "    .dataframe tbody tr th:only-of-type {\n",
       "        vertical-align: middle;\n",
       "    }\n",
       "\n",
       "    .dataframe tbody tr th {\n",
       "        vertical-align: top;\n",
       "    }\n",
       "\n",
       "    .dataframe thead th {\n",
       "        text-align: right;\n",
       "    }\n",
       "</style>\n",
       "<table border=\"1\" class=\"dataframe\">\n",
       "  <thead>\n",
       "    <tr style=\"text-align: right;\">\n",
       "      <th></th>\n",
       "      <th>predicate_cleanlab</th>\n",
       "      <th>predicate_overconfident</th>\n",
       "      <th>predicate_outlier</th>\n",
       "      <th>predicate_shaky</th>\n",
       "      <th>predicate_wrong</th>\n",
       "    </tr>\n",
       "  </thead>\n",
       "  <tbody>\n",
       "    <tr>\n",
       "      <th>593165</th>\n",
       "      <td>0</td>\n",
       "      <td>0.974799</td>\n",
       "      <td>0.0</td>\n",
       "      <td>0.0</td>\n",
       "      <td>1.0</td>\n",
       "    </tr>\n",
       "    <tr>\n",
       "      <th>148703</th>\n",
       "      <td>0</td>\n",
       "      <td>0.966283</td>\n",
       "      <td>0.0</td>\n",
       "      <td>0.0</td>\n",
       "      <td>1.0</td>\n",
       "    </tr>\n",
       "    <tr>\n",
       "      <th>277717</th>\n",
       "      <td>0</td>\n",
       "      <td>0.961299</td>\n",
       "      <td>0.0</td>\n",
       "      <td>0.0</td>\n",
       "      <td>1.0</td>\n",
       "    </tr>\n",
       "    <tr>\n",
       "      <th>340086</th>\n",
       "      <td>0</td>\n",
       "      <td>0.958784</td>\n",
       "      <td>0.0</td>\n",
       "      <td>0.0</td>\n",
       "      <td>1.0</td>\n",
       "    </tr>\n",
       "    <tr>\n",
       "      <th>197636</th>\n",
       "      <td>0</td>\n",
       "      <td>0.958125</td>\n",
       "      <td>0.0</td>\n",
       "      <td>0.0</td>\n",
       "      <td>1.0</td>\n",
       "    </tr>\n",
       "    <tr>\n",
       "      <th>591668</th>\n",
       "      <td>0</td>\n",
       "      <td>0.957591</td>\n",
       "      <td>0.0</td>\n",
       "      <td>0.0</td>\n",
       "      <td>1.0</td>\n",
       "    </tr>\n",
       "    <tr>\n",
       "      <th>364507</th>\n",
       "      <td>0</td>\n",
       "      <td>0.957443</td>\n",
       "      <td>0.0</td>\n",
       "      <td>0.0</td>\n",
       "      <td>1.0</td>\n",
       "    </tr>\n",
       "    <tr>\n",
       "      <th>183911</th>\n",
       "      <td>0</td>\n",
       "      <td>0.955212</td>\n",
       "      <td>0.0</td>\n",
       "      <td>0.0</td>\n",
       "      <td>1.0</td>\n",
       "    </tr>\n",
       "    <tr>\n",
       "      <th>54498</th>\n",
       "      <td>0</td>\n",
       "      <td>0.954677</td>\n",
       "      <td>0.0</td>\n",
       "      <td>0.0</td>\n",
       "      <td>1.0</td>\n",
       "    </tr>\n",
       "    <tr>\n",
       "      <th>400464</th>\n",
       "      <td>0</td>\n",
       "      <td>0.954605</td>\n",
       "      <td>0.0</td>\n",
       "      <td>0.0</td>\n",
       "      <td>1.0</td>\n",
       "    </tr>\n",
       "    <tr>\n",
       "      <th>33083</th>\n",
       "      <td>0</td>\n",
       "      <td>0.954304</td>\n",
       "      <td>0.0</td>\n",
       "      <td>0.0</td>\n",
       "      <td>1.0</td>\n",
       "    </tr>\n",
       "    <tr>\n",
       "      <th>400973</th>\n",
       "      <td>0</td>\n",
       "      <td>0.954145</td>\n",
       "      <td>0.0</td>\n",
       "      <td>0.0</td>\n",
       "      <td>1.0</td>\n",
       "    </tr>\n",
       "    <tr>\n",
       "      <th>102661</th>\n",
       "      <td>0</td>\n",
       "      <td>0.953564</td>\n",
       "      <td>0.0</td>\n",
       "      <td>0.0</td>\n",
       "      <td>1.0</td>\n",
       "    </tr>\n",
       "    <tr>\n",
       "      <th>311539</th>\n",
       "      <td>0</td>\n",
       "      <td>0.953233</td>\n",
       "      <td>0.0</td>\n",
       "      <td>0.0</td>\n",
       "      <td>1.0</td>\n",
       "    </tr>\n",
       "    <tr>\n",
       "      <th>529718</th>\n",
       "      <td>0</td>\n",
       "      <td>0.952944</td>\n",
       "      <td>0.0</td>\n",
       "      <td>0.0</td>\n",
       "      <td>1.0</td>\n",
       "    </tr>\n",
       "    <tr>\n",
       "      <th>44516</th>\n",
       "      <td>0</td>\n",
       "      <td>0.952372</td>\n",
       "      <td>0.0</td>\n",
       "      <td>0.0</td>\n",
       "      <td>1.0</td>\n",
       "    </tr>\n",
       "    <tr>\n",
       "      <th>354786</th>\n",
       "      <td>0</td>\n",
       "      <td>0.952280</td>\n",
       "      <td>0.0</td>\n",
       "      <td>0.0</td>\n",
       "      <td>1.0</td>\n",
       "    </tr>\n",
       "    <tr>\n",
       "      <th>56248</th>\n",
       "      <td>0</td>\n",
       "      <td>0.952241</td>\n",
       "      <td>0.0</td>\n",
       "      <td>0.0</td>\n",
       "      <td>1.0</td>\n",
       "    </tr>\n",
       "    <tr>\n",
       "      <th>16028</th>\n",
       "      <td>0</td>\n",
       "      <td>0.951607</td>\n",
       "      <td>0.0</td>\n",
       "      <td>0.0</td>\n",
       "      <td>1.0</td>\n",
       "    </tr>\n",
       "    <tr>\n",
       "      <th>178999</th>\n",
       "      <td>0</td>\n",
       "      <td>0.951409</td>\n",
       "      <td>0.0</td>\n",
       "      <td>0.0</td>\n",
       "      <td>1.0</td>\n",
       "    </tr>\n",
       "    <tr>\n",
       "      <th>10440</th>\n",
       "      <td>0</td>\n",
       "      <td>0.951079</td>\n",
       "      <td>0.0</td>\n",
       "      <td>0.0</td>\n",
       "      <td>1.0</td>\n",
       "    </tr>\n",
       "    <tr>\n",
       "      <th>198617</th>\n",
       "      <td>0</td>\n",
       "      <td>0.950841</td>\n",
       "      <td>0.0</td>\n",
       "      <td>0.0</td>\n",
       "      <td>1.0</td>\n",
       "    </tr>\n",
       "    <tr>\n",
       "      <th>543589</th>\n",
       "      <td>0</td>\n",
       "      <td>0.950800</td>\n",
       "      <td>0.0</td>\n",
       "      <td>0.0</td>\n",
       "      <td>1.0</td>\n",
       "    </tr>\n",
       "    <tr>\n",
       "      <th>218394</th>\n",
       "      <td>0</td>\n",
       "      <td>0.950246</td>\n",
       "      <td>0.0</td>\n",
       "      <td>0.0</td>\n",
       "      <td>1.0</td>\n",
       "    </tr>\n",
       "    <tr>\n",
       "      <th>569109</th>\n",
       "      <td>0</td>\n",
       "      <td>0.949733</td>\n",
       "      <td>0.0</td>\n",
       "      <td>0.0</td>\n",
       "      <td>1.0</td>\n",
       "    </tr>\n",
       "    <tr>\n",
       "      <th>375416</th>\n",
       "      <td>0</td>\n",
       "      <td>0.949686</td>\n",
       "      <td>0.0</td>\n",
       "      <td>0.0</td>\n",
       "      <td>1.0</td>\n",
       "    </tr>\n",
       "    <tr>\n",
       "      <th>350408</th>\n",
       "      <td>0</td>\n",
       "      <td>0.949662</td>\n",
       "      <td>0.0</td>\n",
       "      <td>0.0</td>\n",
       "      <td>1.0</td>\n",
       "    </tr>\n",
       "    <tr>\n",
       "      <th>113210</th>\n",
       "      <td>0</td>\n",
       "      <td>0.949587</td>\n",
       "      <td>0.0</td>\n",
       "      <td>0.0</td>\n",
       "      <td>1.0</td>\n",
       "    </tr>\n",
       "    <tr>\n",
       "      <th>68712</th>\n",
       "      <td>0</td>\n",
       "      <td>0.948808</td>\n",
       "      <td>0.0</td>\n",
       "      <td>0.0</td>\n",
       "      <td>1.0</td>\n",
       "    </tr>\n",
       "    <tr>\n",
       "      <th>363889</th>\n",
       "      <td>0</td>\n",
       "      <td>0.948712</td>\n",
       "      <td>0.0</td>\n",
       "      <td>0.0</td>\n",
       "      <td>1.0</td>\n",
       "    </tr>\n",
       "    <tr>\n",
       "      <th>354261</th>\n",
       "      <td>0</td>\n",
       "      <td>0.948535</td>\n",
       "      <td>0.0</td>\n",
       "      <td>0.0</td>\n",
       "      <td>1.0</td>\n",
       "    </tr>\n",
       "    <tr>\n",
       "      <th>226397</th>\n",
       "      <td>0</td>\n",
       "      <td>0.948232</td>\n",
       "      <td>0.0</td>\n",
       "      <td>0.0</td>\n",
       "      <td>1.0</td>\n",
       "    </tr>\n",
       "    <tr>\n",
       "      <th>387647</th>\n",
       "      <td>0</td>\n",
       "      <td>0.948046</td>\n",
       "      <td>0.0</td>\n",
       "      <td>0.0</td>\n",
       "      <td>1.0</td>\n",
       "    </tr>\n",
       "    <tr>\n",
       "      <th>579644</th>\n",
       "      <td>0</td>\n",
       "      <td>0.947574</td>\n",
       "      <td>0.0</td>\n",
       "      <td>0.0</td>\n",
       "      <td>1.0</td>\n",
       "    </tr>\n",
       "    <tr>\n",
       "      <th>445372</th>\n",
       "      <td>0</td>\n",
       "      <td>0.947202</td>\n",
       "      <td>0.0</td>\n",
       "      <td>0.0</td>\n",
       "      <td>1.0</td>\n",
       "    </tr>\n",
       "    <tr>\n",
       "      <th>69736</th>\n",
       "      <td>0</td>\n",
       "      <td>0.947072</td>\n",
       "      <td>0.0</td>\n",
       "      <td>0.0</td>\n",
       "      <td>1.0</td>\n",
       "    </tr>\n",
       "    <tr>\n",
       "      <th>376973</th>\n",
       "      <td>0</td>\n",
       "      <td>0.947006</td>\n",
       "      <td>0.0</td>\n",
       "      <td>0.0</td>\n",
       "      <td>1.0</td>\n",
       "    </tr>\n",
       "    <tr>\n",
       "      <th>186205</th>\n",
       "      <td>0</td>\n",
       "      <td>0.946860</td>\n",
       "      <td>0.0</td>\n",
       "      <td>0.0</td>\n",
       "      <td>1.0</td>\n",
       "    </tr>\n",
       "    <tr>\n",
       "      <th>161925</th>\n",
       "      <td>0</td>\n",
       "      <td>0.946791</td>\n",
       "      <td>0.0</td>\n",
       "      <td>0.0</td>\n",
       "      <td>1.0</td>\n",
       "    </tr>\n",
       "    <tr>\n",
       "      <th>360720</th>\n",
       "      <td>0</td>\n",
       "      <td>0.946720</td>\n",
       "      <td>0.0</td>\n",
       "      <td>0.0</td>\n",
       "      <td>1.0</td>\n",
       "    </tr>\n",
       "    <tr>\n",
       "      <th>460649</th>\n",
       "      <td>0</td>\n",
       "      <td>0.946346</td>\n",
       "      <td>0.0</td>\n",
       "      <td>0.0</td>\n",
       "      <td>1.0</td>\n",
       "    </tr>\n",
       "    <tr>\n",
       "      <th>362470</th>\n",
       "      <td>0</td>\n",
       "      <td>0.945641</td>\n",
       "      <td>0.0</td>\n",
       "      <td>0.0</td>\n",
       "      <td>1.0</td>\n",
       "    </tr>\n",
       "    <tr>\n",
       "      <th>386419</th>\n",
       "      <td>0</td>\n",
       "      <td>0.945562</td>\n",
       "      <td>0.0</td>\n",
       "      <td>0.0</td>\n",
       "      <td>1.0</td>\n",
       "    </tr>\n",
       "    <tr>\n",
       "      <th>222954</th>\n",
       "      <td>0</td>\n",
       "      <td>0.944793</td>\n",
       "      <td>0.0</td>\n",
       "      <td>0.0</td>\n",
       "      <td>1.0</td>\n",
       "    </tr>\n",
       "    <tr>\n",
       "      <th>210485</th>\n",
       "      <td>0</td>\n",
       "      <td>0.944727</td>\n",
       "      <td>0.0</td>\n",
       "      <td>0.0</td>\n",
       "      <td>1.0</td>\n",
       "    </tr>\n",
       "    <tr>\n",
       "      <th>400149</th>\n",
       "      <td>0</td>\n",
       "      <td>0.944637</td>\n",
       "      <td>0.0</td>\n",
       "      <td>0.0</td>\n",
       "      <td>1.0</td>\n",
       "    </tr>\n",
       "    <tr>\n",
       "      <th>520630</th>\n",
       "      <td>0</td>\n",
       "      <td>0.943892</td>\n",
       "      <td>0.0</td>\n",
       "      <td>0.0</td>\n",
       "      <td>1.0</td>\n",
       "    </tr>\n",
       "    <tr>\n",
       "      <th>200253</th>\n",
       "      <td>0</td>\n",
       "      <td>0.943831</td>\n",
       "      <td>0.0</td>\n",
       "      <td>0.0</td>\n",
       "      <td>1.0</td>\n",
       "    </tr>\n",
       "    <tr>\n",
       "      <th>383691</th>\n",
       "      <td>0</td>\n",
       "      <td>0.943741</td>\n",
       "      <td>0.0</td>\n",
       "      <td>0.0</td>\n",
       "      <td>1.0</td>\n",
       "    </tr>\n",
       "    <tr>\n",
       "      <th>104918</th>\n",
       "      <td>0</td>\n",
       "      <td>0.943072</td>\n",
       "      <td>0.0</td>\n",
       "      <td>0.0</td>\n",
       "      <td>1.0</td>\n",
       "    </tr>\n",
       "  </tbody>\n",
       "</table>\n",
       "</div>"
      ],
      "text/plain": [
       "        predicate_cleanlab  predicate_overconfident  predicate_outlier  \\\n",
       "593165                   0                 0.974799                0.0   \n",
       "148703                   0                 0.966283                0.0   \n",
       "277717                   0                 0.961299                0.0   \n",
       "340086                   0                 0.958784                0.0   \n",
       "197636                   0                 0.958125                0.0   \n",
       "591668                   0                 0.957591                0.0   \n",
       "364507                   0                 0.957443                0.0   \n",
       "183911                   0                 0.955212                0.0   \n",
       "54498                    0                 0.954677                0.0   \n",
       "400464                   0                 0.954605                0.0   \n",
       "33083                    0                 0.954304                0.0   \n",
       "400973                   0                 0.954145                0.0   \n",
       "102661                   0                 0.953564                0.0   \n",
       "311539                   0                 0.953233                0.0   \n",
       "529718                   0                 0.952944                0.0   \n",
       "44516                    0                 0.952372                0.0   \n",
       "354786                   0                 0.952280                0.0   \n",
       "56248                    0                 0.952241                0.0   \n",
       "16028                    0                 0.951607                0.0   \n",
       "178999                   0                 0.951409                0.0   \n",
       "10440                    0                 0.951079                0.0   \n",
       "198617                   0                 0.950841                0.0   \n",
       "543589                   0                 0.950800                0.0   \n",
       "218394                   0                 0.950246                0.0   \n",
       "569109                   0                 0.949733                0.0   \n",
       "375416                   0                 0.949686                0.0   \n",
       "350408                   0                 0.949662                0.0   \n",
       "113210                   0                 0.949587                0.0   \n",
       "68712                    0                 0.948808                0.0   \n",
       "363889                   0                 0.948712                0.0   \n",
       "354261                   0                 0.948535                0.0   \n",
       "226397                   0                 0.948232                0.0   \n",
       "387647                   0                 0.948046                0.0   \n",
       "579644                   0                 0.947574                0.0   \n",
       "445372                   0                 0.947202                0.0   \n",
       "69736                    0                 0.947072                0.0   \n",
       "376973                   0                 0.947006                0.0   \n",
       "186205                   0                 0.946860                0.0   \n",
       "161925                   0                 0.946791                0.0   \n",
       "360720                   0                 0.946720                0.0   \n",
       "460649                   0                 0.946346                0.0   \n",
       "362470                   0                 0.945641                0.0   \n",
       "386419                   0                 0.945562                0.0   \n",
       "222954                   0                 0.944793                0.0   \n",
       "210485                   0                 0.944727                0.0   \n",
       "400149                   0                 0.944637                0.0   \n",
       "520630                   0                 0.943892                0.0   \n",
       "200253                   0                 0.943831                0.0   \n",
       "383691                   0                 0.943741                0.0   \n",
       "104918                   0                 0.943072                0.0   \n",
       "\n",
       "        predicate_shaky  predicate_wrong  \n",
       "593165              0.0              1.0  \n",
       "148703              0.0              1.0  \n",
       "277717              0.0              1.0  \n",
       "340086              0.0              1.0  \n",
       "197636              0.0              1.0  \n",
       "591668              0.0              1.0  \n",
       "364507              0.0              1.0  \n",
       "183911              0.0              1.0  \n",
       "54498               0.0              1.0  \n",
       "400464              0.0              1.0  \n",
       "33083               0.0              1.0  \n",
       "400973              0.0              1.0  \n",
       "102661              0.0              1.0  \n",
       "311539              0.0              1.0  \n",
       "529718              0.0              1.0  \n",
       "44516               0.0              1.0  \n",
       "354786              0.0              1.0  \n",
       "56248               0.0              1.0  \n",
       "16028               0.0              1.0  \n",
       "178999              0.0              1.0  \n",
       "10440               0.0              1.0  \n",
       "198617              0.0              1.0  \n",
       "543589              0.0              1.0  \n",
       "218394              0.0              1.0  \n",
       "569109              0.0              1.0  \n",
       "375416              0.0              1.0  \n",
       "350408              0.0              1.0  \n",
       "113210              0.0              1.0  \n",
       "68712               0.0              1.0  \n",
       "363889              0.0              1.0  \n",
       "354261              0.0              1.0  \n",
       "226397              0.0              1.0  \n",
       "387647              0.0              1.0  \n",
       "579644              0.0              1.0  \n",
       "445372              0.0              1.0  \n",
       "69736               0.0              1.0  \n",
       "376973              0.0              1.0  \n",
       "186205              0.0              1.0  \n",
       "161925              0.0              1.0  \n",
       "360720              0.0              1.0  \n",
       "460649              0.0              1.0  \n",
       "362470              0.0              1.0  \n",
       "386419              0.0              1.0  \n",
       "222954              0.0              1.0  \n",
       "210485              0.0              1.0  \n",
       "400149              0.0              1.0  \n",
       "520630              0.0              1.0  \n",
       "200253              0.0              1.0  \n",
       "383691              0.0              1.0  \n",
       "104918              0.0              1.0  "
      ]
     },
     "execution_count": 35,
     "metadata": {},
     "output_type": "execute_result"
    }
   ],
   "source": [
    "wrongs.iloc[:50, :]"
   ]
  },
  {
   "cell_type": "code",
   "execution_count": 36,
   "id": "4ba36656-02b9-453a-bf9d-6672db552838",
   "metadata": {},
   "outputs": [
    {
     "name": "stderr",
     "output_type": "stream",
     "text": [
      "`should_run_async` will not call `transform_cell` automatically in the future. Please pass the result to `transformed_cell` argument and any exception that happen during thetransform in `preprocessing_exc_tuple` in IPython 7.17 and above.\n"
     ]
    }
   ],
   "source": [
    "confidently_wrongs = wrongs.loc[wrongs['predicate_overconfident'] > 0.85]"
   ]
  },
  {
   "cell_type": "code",
   "execution_count": 37,
   "id": "80a8952a-97ac-4950-abf0-3aea103f058d",
   "metadata": {},
   "outputs": [
    {
     "data": {
      "text/plain": [
       "(5688, 5)"
      ]
     },
     "execution_count": 37,
     "metadata": {},
     "output_type": "execute_result"
    }
   ],
   "source": [
    "confidently_wrongs.shape"
   ]
  },
  {
   "cell_type": "code",
   "execution_count": 38,
   "id": "2794732c-6e5a-48f3-a888-9b1fafb92e2b",
   "metadata": {},
   "outputs": [
    {
     "data": {
      "text/html": [
       "<div>\n",
       "<style scoped>\n",
       "    .dataframe tbody tr th:only-of-type {\n",
       "        vertical-align: middle;\n",
       "    }\n",
       "\n",
       "    .dataframe tbody tr th {\n",
       "        vertical-align: top;\n",
       "    }\n",
       "\n",
       "    .dataframe thead th {\n",
       "        text-align: right;\n",
       "    }\n",
       "</style>\n",
       "<table border=\"1\" class=\"dataframe\">\n",
       "  <thead>\n",
       "    <tr style=\"text-align: right;\">\n",
       "      <th></th>\n",
       "      <th>predicate_cleanlab</th>\n",
       "      <th>predicate_overconfident</th>\n",
       "      <th>predicate_outlier</th>\n",
       "      <th>predicate_shaky</th>\n",
       "      <th>predicate_wrong</th>\n",
       "    </tr>\n",
       "  </thead>\n",
       "  <tbody>\n",
       "    <tr>\n",
       "      <th>593165</th>\n",
       "      <td>0</td>\n",
       "      <td>0.974799</td>\n",
       "      <td>0.0</td>\n",
       "      <td>0.0</td>\n",
       "      <td>1.0</td>\n",
       "    </tr>\n",
       "    <tr>\n",
       "      <th>148703</th>\n",
       "      <td>0</td>\n",
       "      <td>0.966283</td>\n",
       "      <td>0.0</td>\n",
       "      <td>0.0</td>\n",
       "      <td>1.0</td>\n",
       "    </tr>\n",
       "    <tr>\n",
       "      <th>277717</th>\n",
       "      <td>0</td>\n",
       "      <td>0.961299</td>\n",
       "      <td>0.0</td>\n",
       "      <td>0.0</td>\n",
       "      <td>1.0</td>\n",
       "    </tr>\n",
       "    <tr>\n",
       "      <th>340086</th>\n",
       "      <td>0</td>\n",
       "      <td>0.958784</td>\n",
       "      <td>0.0</td>\n",
       "      <td>0.0</td>\n",
       "      <td>1.0</td>\n",
       "    </tr>\n",
       "    <tr>\n",
       "      <th>197636</th>\n",
       "      <td>0</td>\n",
       "      <td>0.958125</td>\n",
       "      <td>0.0</td>\n",
       "      <td>0.0</td>\n",
       "      <td>1.0</td>\n",
       "    </tr>\n",
       "    <tr>\n",
       "      <th>...</th>\n",
       "      <td>...</td>\n",
       "      <td>...</td>\n",
       "      <td>...</td>\n",
       "      <td>...</td>\n",
       "      <td>...</td>\n",
       "    </tr>\n",
       "    <tr>\n",
       "      <th>234092</th>\n",
       "      <td>0</td>\n",
       "      <td>0.850026</td>\n",
       "      <td>0.0</td>\n",
       "      <td>0.0</td>\n",
       "      <td>1.0</td>\n",
       "    </tr>\n",
       "    <tr>\n",
       "      <th>198248</th>\n",
       "      <td>0</td>\n",
       "      <td>0.850021</td>\n",
       "      <td>0.0</td>\n",
       "      <td>0.0</td>\n",
       "      <td>1.0</td>\n",
       "    </tr>\n",
       "    <tr>\n",
       "      <th>471551</th>\n",
       "      <td>0</td>\n",
       "      <td>0.850020</td>\n",
       "      <td>0.0</td>\n",
       "      <td>0.0</td>\n",
       "      <td>1.0</td>\n",
       "    </tr>\n",
       "    <tr>\n",
       "      <th>43990</th>\n",
       "      <td>0</td>\n",
       "      <td>0.850015</td>\n",
       "      <td>0.0</td>\n",
       "      <td>0.0</td>\n",
       "      <td>1.0</td>\n",
       "    </tr>\n",
       "    <tr>\n",
       "      <th>446253</th>\n",
       "      <td>0</td>\n",
       "      <td>0.850001</td>\n",
       "      <td>0.0</td>\n",
       "      <td>0.0</td>\n",
       "      <td>1.0</td>\n",
       "    </tr>\n",
       "  </tbody>\n",
       "</table>\n",
       "<p>5688 rows × 5 columns</p>\n",
       "</div>"
      ],
      "text/plain": [
       "        predicate_cleanlab  predicate_overconfident  predicate_outlier  \\\n",
       "593165                   0                 0.974799                0.0   \n",
       "148703                   0                 0.966283                0.0   \n",
       "277717                   0                 0.961299                0.0   \n",
       "340086                   0                 0.958784                0.0   \n",
       "197636                   0                 0.958125                0.0   \n",
       "...                    ...                      ...                ...   \n",
       "234092                   0                 0.850026                0.0   \n",
       "198248                   0                 0.850021                0.0   \n",
       "471551                   0                 0.850020                0.0   \n",
       "43990                    0                 0.850015                0.0   \n",
       "446253                   0                 0.850001                0.0   \n",
       "\n",
       "        predicate_shaky  predicate_wrong  \n",
       "593165              0.0              1.0  \n",
       "148703              0.0              1.0  \n",
       "277717              0.0              1.0  \n",
       "340086              0.0              1.0  \n",
       "197636              0.0              1.0  \n",
       "...                 ...              ...  \n",
       "234092              0.0              1.0  \n",
       "198248              0.0              1.0  \n",
       "471551              0.0              1.0  \n",
       "43990               0.0              1.0  \n",
       "446253              0.0              1.0  \n",
       "\n",
       "[5688 rows x 5 columns]"
      ]
     },
     "execution_count": 38,
     "metadata": {},
     "output_type": "execute_result"
    }
   ],
   "source": [
    "confidently_wrongs"
   ]
  },
  {
   "cell_type": "code",
   "execution_count": 39,
   "id": "f9e898b5-53dc-48f4-a615-9a17653c8cc4",
   "metadata": {},
   "outputs": [
    {
     "name": "stderr",
     "output_type": "stream",
     "text": [
      "`should_run_async` will not call `transform_cell` automatically in the future. Please pass the result to `transformed_cell` argument and any exception that happen during thetransform in `preprocessing_exc_tuple` in IPython 7.17 and above.\n"
     ]
    },
    {
     "data": {
      "text/plain": [
       "array([[<AxesSubplot:title={'center':'predicate_cleanlab'}>,\n",
       "        <AxesSubplot:title={'center':'predicate_overconfident'}>],\n",
       "       [<AxesSubplot:title={'center':'predicate_outlier'}>,\n",
       "        <AxesSubplot:title={'center':'predicate_shaky'}>],\n",
       "       [<AxesSubplot:title={'center':'predicate_wrong'}>, <AxesSubplot:>]],\n",
       "      dtype=object)"
      ]
     },
     "execution_count": 39,
     "metadata": {},
     "output_type": "execute_result"
    },
    {
     "data": {
      "image/png": "[encoded data removed]",
      "text/plain": [
       "<Figure size 432x288 with 6 Axes>"
      ]
     },
     "metadata": {
      "needs_background": "light"
     },
     "output_type": "display_data"
    }
   ],
   "source": [
    "wrongs.hist()"
   ]
  },
  {
   "cell_type": "code",
   "execution_count": 40,
   "id": "8426a05b-4aec-4a7f-8aed-eecbbe2b14e5",
   "metadata": {},
   "outputs": [
    {
     "data": {
      "text/plain": [
       "array([[<AxesSubplot:title={'center':'predicate_cleanlab'}>,\n",
       "        <AxesSubplot:title={'center':'predicate_overconfident'}>],\n",
       "       [<AxesSubplot:title={'center':'predicate_outlier'}>,\n",
       "        <AxesSubplot:title={'center':'predicate_shaky'}>],\n",
       "       [<AxesSubplot:title={'center':'predicate_wrong'}>, <AxesSubplot:>]],\n",
       "      dtype=object)"
      ]
     },
     "execution_count": 40,
     "metadata": {},
     "output_type": "execute_result"
    },
    {
     "data": {
      "image/png": "[encoded data removed]",
      "text/plain": [
       "<Figure size 432x288 with 6 Axes>"
      ]
     },
     "metadata": {
      "needs_background": "light"
     },
     "output_type": "display_data"
    }
   ],
   "source": [
    "predicates.hist()"
   ]
  },
  {
   "cell_type": "code",
   "execution_count": 42,
   "id": "34161412-a8f0-4014-9bc0-b7e3e8a01eec",
   "metadata": {},
   "outputs": [
    {
     "data": {
      "text/plain": [
       "(array([], dtype=int64),)"
      ]
     },
     "execution_count": 42,
     "metadata": {},
     "output_type": "execute_result"
    }
   ],
   "source": [
    "np.where(predicates['predicate_cleanlab'] == 1)"
   ]
  },
  {
   "cell_type": "code",
   "execution_count": 43,
   "id": "13f19e75-88b3-4756-a2a5-7d0c8372e9d3",
   "metadata": {},
   "outputs": [
    {
     "data": {
      "text/plain": [
       "(array([], dtype=int64),)"
      ]
     },
     "execution_count": 43,
     "metadata": {},
     "output_type": "execute_result"
    }
   ],
   "source": [
    "np.where(predicates['predicate_outlier'] == 1)"
   ]
  },
  {
   "cell_type": "code",
   "execution_count": 46,
   "id": "203b575c-2a4a-429f-8177-2788d7dff499",
   "metadata": {},
   "outputs": [
    {
     "name": "stderr",
     "output_type": "stream",
     "text": [
      "`should_run_async` will not call `transform_cell` automatically in the future. Please pass the result to `transformed_cell` argument and any exception that happen during thetransform in `preprocessing_exc_tuple` in IPython 7.17 and above.\n"
     ]
    }
   ],
   "source": [
    "overconfidents = predicates['predicate_overconfident']"
   ]
  },
  {
   "cell_type": "code",
   "execution_count": 47,
   "id": "5e8795ac-aadb-47de-9033-b47ff1f55f99",
   "metadata": {},
   "outputs": [
    {
     "name": "stderr",
     "output_type": "stream",
     "text": [
      "`should_run_async` will not call `transform_cell` automatically in the future. Please pass the result to `transformed_cell` argument and any exception that happen during thetransform in `preprocessing_exc_tuple` in IPython 7.17 and above.\n"
     ]
    },
    {
     "data": {
      "text/plain": [
       "<AxesSubplot:>"
      ]
     },
     "execution_count": 47,
     "metadata": {},
     "output_type": "execute_result"
    },
    {
     "data": {
      "image/png": "[encoded data removed]",
      "text/plain": [
       "<Figure size 432x288 with 1 Axes>"
      ]
     },
     "metadata": {
      "needs_background": "light"
     },
     "output_type": "display_data"
    }
   ],
   "source": [
    "overconfidents.hist(bins=200)"
   ]
  },
  {
   "cell_type": "code",
   "execution_count": 48,
   "id": "09b7bb81-ee49-47c4-8ac8-a9223d709c77",
   "metadata": {},
   "outputs": [
    {
     "data": {
      "text/plain": [
       "(600000, 5)"
      ]
     },
     "execution_count": 48,
     "metadata": {},
     "output_type": "execute_result"
    }
   ],
   "source": [
    "predicates.shape"
   ]
  },
  {
   "cell_type": "code",
   "execution_count": 55,
   "id": "8e8628dd-ddda-4558-8fe4-5078ac844c2b",
   "metadata": {},
   "outputs": [],
   "source": [
    "overconfidents_actual = overconfidents > 0"
   ]
  },
  {
   "cell_type": "code",
   "execution_count": 56,
   "id": "3923f758-99db-46eb-99cb-3b9ffcdbcbd3",
   "metadata": {},
   "outputs": [
    {
     "name": "stderr",
     "output_type": "stream",
     "text": [
      "`should_run_async` will not call `transform_cell` automatically in the future. Please pass the result to `transformed_cell` argument and any exception that happen during thetransform in `preprocessing_exc_tuple` in IPython 7.17 and above.\n"
     ]
    },
    {
     "data": {
      "text/plain": [
       "(600000,)"
      ]
     },
     "execution_count": 56,
     "metadata": {},
     "output_type": "execute_result"
    }
   ],
   "source": [
    "overconfidents_actual.shape"
   ]
  },
  {
   "cell_type": "code",
   "execution_count": 57,
   "id": "a1059817-d8c8-4409-867a-5eac45412b2e",
   "metadata": {},
   "outputs": [
    {
     "data": {
      "text/plain": [
       "0.0"
      ]
     },
     "execution_count": 57,
     "metadata": {},
     "output_type": "execute_result"
    }
   ],
   "source": [
    "overconfidents.min()"
   ]
  },
  {
   "cell_type": "code",
   "execution_count": 59,
   "id": "df8e011f-431e-406a-8cd1-5ef1ee18f3fd",
   "metadata": {},
   "outputs": [
    {
     "data": {
      "text/plain": [
       "0.974799394607544"
      ]
     },
     "execution_count": 59,
     "metadata": {},
     "output_type": "execute_result"
    }
   ],
   "source": [
    "overconfidents.max()"
   ]
  },
  {
   "cell_type": "code",
   "execution_count": 63,
   "id": "1b429af3-01ce-40a3-9b88-5030b78dfc5f",
   "metadata": {},
   "outputs": [],
   "source": [
    "overconfidents_actual = overconfidents[overconfidents > 0]"
   ]
  },
  {
   "cell_type": "code",
   "execution_count": 64,
   "id": "a2f9ca37-e991-4949-bf0d-947f1c402200",
   "metadata": {},
   "outputs": [
    {
     "name": "stderr",
     "output_type": "stream",
     "text": [
      "`should_run_async` will not call `transform_cell` automatically in the future. Please pass the result to `transformed_cell` argument and any exception that happen during thetransform in `preprocessing_exc_tuple` in IPython 7.17 and above.\n"
     ]
    },
    {
     "data": {
      "text/plain": [
       "(528776,)"
      ]
     },
     "execution_count": 64,
     "metadata": {},
     "output_type": "execute_result"
    }
   ],
   "source": [
    "overconfidents_actual.shape"
   ]
  },
  {
   "cell_type": "code",
   "execution_count": 68,
   "id": "f98ca2ce-08b6-4310-8696-a02c9283cf0b",
   "metadata": {},
   "outputs": [],
   "source": [
    "overconfidents_40 = overconfidents[overconfidents > 0.4]\n",
    "overconfidents_70 = overconfidents[overconfidents > 0.7]"
   ]
  },
  {
   "cell_type": "code",
   "execution_count": 66,
   "id": "49ae9726-6c40-4f76-8810-f64d62d1b4bb",
   "metadata": {},
   "outputs": [
    {
     "name": "stderr",
     "output_type": "stream",
     "text": [
      "`should_run_async` will not call `transform_cell` automatically in the future. Please pass the result to `transformed_cell` argument and any exception that happen during thetransform in `preprocessing_exc_tuple` in IPython 7.17 and above.\n"
     ]
    },
    {
     "data": {
      "text/plain": [
       "(45848,)"
      ]
     },
     "execution_count": 66,
     "metadata": {},
     "output_type": "execute_result"
    }
   ],
   "source": [
    "overconfidents_70.shape"
   ]
  },
  {
   "cell_type": "code",
   "execution_count": 69,
   "id": "328fe0fd-4e89-48f2-994d-df973a60f84f",
   "metadata": {},
   "outputs": [
    {
     "data": {
      "text/plain": [
       "(276275,)"
      ]
     },
     "execution_count": 69,
     "metadata": {},
     "output_type": "execute_result"
    }
   ],
   "source": [
    "overconfidents_40.shape"
   ]
  },
  {
   "cell_type": "code",
   "execution_count": 70,
   "id": "f6e36dcf-508e-4f12-9dfc-1a029eca408a",
   "metadata": {},
   "outputs": [
    {
     "data": {
      "text/plain": [
       "<AxesSubplot:>"
      ]
     },
     "execution_count": 70,
     "metadata": {},
     "output_type": "execute_result"
    },
    {
     "data": {
      "image/png": "[encoded data removed]",
      "text/plain": [
       "<Figure size 432x288 with 1 Axes>"
      ]
     },
     "metadata": {
      "needs_background": "light"
     },
     "output_type": "display_data"
    }
   ],
   "source": [
    "overconfidents_70.hist()\n"
   ]
  }
 ],
 "metadata": {
  "kernelspec": {
   "display_name": "Python 3",
   "language": "python",
   "name": "python3"
  },
  "language_info": {
   "codemirror_mode": {
    "name": "ipython",
    "version": 3
   },
   "file_extension": ".py",
   "mimetype": "text/x-python",
   "name": "python",
   "nbconvert_exporter": "python",
   "pygments_lexer": "ipython3",
   "version": "3.8.12"
  }
 },
 "nbformat": 4,
 "nbformat_minor": 5
}
