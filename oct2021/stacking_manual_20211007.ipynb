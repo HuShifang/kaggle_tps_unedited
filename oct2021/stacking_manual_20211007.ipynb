{
 "cells": [
  {
   "cell_type": "markdown",
   "id": "1d4e7f70-25a3-4d58-b98a-3a695e55ee53",
   "metadata": {},
   "source": [
    "# Baseline\n",
    "Setting up a more robust baseline notebook, suitable for use with all of the \"Big Three\" (XGBoost, CatBoost, LightGBM) libraries and on either Google Colab or the local machine."
   ]
  },
  {
   "cell_type": "markdown",
   "id": "1e124c3d-0e1f-4053-8e72-52569a4fe3e4",
   "metadata": {},
   "source": [
    "# Setup"
   ]
  },
  {
   "cell_type": "code",
   "execution_count": 1,
   "id": "dae2ff1e-bd1f-4cc9-8357-5a88d1746ffb",
   "metadata": {},
   "outputs": [],
   "source": [
    "# two manual flags (ex-config)\n",
    "COLAB = False\n",
    "USE_GPU = True\n",
    "# libraries = ['xgboost', 'lightgbm', 'catboost']\n",
    "libraries = ['xgboost', 'lightgbm', 'catboost']"
   ]
  },
  {
   "cell_type": "code",
   "execution_count": 2,
   "id": "16849bd2-428c-497b-ba3b-675002f8d041",
   "metadata": {},
   "outputs": [],
   "source": [
    "# basic imports\n",
    "from pathlib import Path\n",
    "import os\n",
    "import math\n",
    "from datetime import datetime\n",
    "import random"
   ]
  },
  {
   "cell_type": "code",
   "execution_count": 3,
   "id": "12d2654b-3bc6-49b5-ade8-cc82112b60e5",
   "metadata": {},
   "outputs": [],
   "source": [
    "%matplotlib inline\n",
    "%config Completer.use_jedi = False\n",
    "os.environ['WANDB_NOTEBOOK_NAME'] = f\"stacking_manual_{datetime.now().strftime('%Y%m%d')}.ipynb\""
   ]
  },
  {
   "cell_type": "code",
   "execution_count": 4,
   "id": "416d6118-e543-4df4-9219-2d4a63743c3a",
   "metadata": {},
   "outputs": [],
   "source": [
    "# handle Google Colab-specific library installation/updating\n",
    "if COLAB:\n",
    "    # much of the below inspired by or cribbed from the May 2021 Kaggle Tabular Playground winner, at \n",
    "    # https://colab.research.google.com/gist/academicsuspect/0aac7bd6e506f5f70295bfc9a3dc2250/tabular-may-baseline.ipynb?authuser=1#scrollTo=LJoVKJb5wN0L\n",
    "    \n",
    "    # Kaggle API for downloading the datasets\n",
    "#     !pip install --upgrade -q kaggle\n",
    "\n",
    "    # weights and biases\n",
    "    !pip install -qqqU wandb\n",
    "    \n",
    "    # Optuna for parameter search\n",
    "    !pip install -q optuna\n",
    "\n",
    "    # upgrade sklearn\n",
    "    !pip install --upgrade scikit-learn\n",
    "\n",
    "#     !pip install category_encoders\n",
    "    \n",
    "    if 'catboost' in libraries:\n",
    "        !pip install catboost\n",
    "    \n",
    "    if 'xgboost' in libraries:\n",
    "        if USE_GPU: \n",
    "            # this part is from https://github.com/rapidsai/gputreeshap/issues/24\n",
    "            !pip install cmake --upgrade\n",
    "            # !pip install sklearn --upgrade\n",
    "            !git clone --recursive https://github.com/dmlc/xgboost\n",
    "            %cd /content/xgboost\n",
    "            !mkdir build\n",
    "            %cd build\n",
    "            !cmake .. -DUSE_CUDA=ON\n",
    "            !make -j4\n",
    "            %cd /content/xgboost/python-package\n",
    "            !python setup.py install --use-cuda --use-nccl\n",
    "            !/opt/bin/nvidia-smi\n",
    "            !pip install shap\n",
    "        else:\n",
    "            !pip install --upgrade xgboost\n",
    "    if 'lightgbm' in libraries:\n",
    "        if USE_GPU:\n",
    "            # lighgbm gpu compatible\n",
    "            !git clone --recursive https://github.com/Microsoft/LightGBM\n",
    "            ! cd LightGBM && rm -rf build && mkdir build && cd build && cmake -DUSE_GPU=1 ../../LightGBM && make -j4 && cd ../python-package && python3 setup.py install --precompile --gpu;\n",
    "        else:\n",
    "            !pip install --upgrade lightgbm\n",
    "        \n",
    "\n",
    "        "
   ]
  },
  {
   "cell_type": "markdown",
   "id": "d40df194-4474-4bcf-ac5a-98efe24b91fd",
   "metadata": {},
   "source": [
    "Now, non-stdlib imports"
   ]
  },
  {
   "cell_type": "code",
   "execution_count": 5,
   "id": "a01e85f7-d602-4dde-bef9-611683cd74c4",
   "metadata": {},
   "outputs": [
    {
     "data": {
      "text/html": [
       "<style type='text/css'>\n",
       ".datatable table.frame { margin-bottom: 0; }\n",
       ".datatable table.frame thead { border-bottom: none; }\n",
       ".datatable table.frame tr.coltypes td {  color: #FFFFFF;  line-height: 6px;  padding: 0 0.5em;}\n",
       ".datatable .bool    { background: #DDDD99; }\n",
       ".datatable .object  { background: #565656; }\n",
       ".datatable .int     { background: #5D9E5D; }\n",
       ".datatable .float   { background: #4040CC; }\n",
       ".datatable .str     { background: #CC4040; }\n",
       ".datatable .time    { background: #40CC40; }\n",
       ".datatable .row_index {  background: var(--jp-border-color3);  border-right: 1px solid var(--jp-border-color0);  color: var(--jp-ui-font-color3);  font-size: 9px;}\n",
       ".datatable .frame tbody td { text-align: left; }\n",
       ".datatable .frame tr.coltypes .row_index {  background: var(--jp-border-color0);}\n",
       ".datatable th:nth-child(2) { padding-left: 12px; }\n",
       ".datatable .hellipsis {  color: var(--jp-cell-editor-border-color);}\n",
       ".datatable .vellipsis {  background: var(--jp-layout-color0);  color: var(--jp-cell-editor-border-color);}\n",
       ".datatable .na {  color: var(--jp-cell-editor-border-color);  font-size: 80%;}\n",
       ".datatable .sp {  opacity: 0.25;}\n",
       ".datatable .footer { font-size: 9px; }\n",
       ".datatable .frame_dimensions {  background: var(--jp-border-color3);  border-top: 1px solid var(--jp-border-color0);  color: var(--jp-ui-font-color3);  display: inline-block;  opacity: 0.6;  padding: 1px 10px 1px 5px;}\n",
       "</style>\n"
      ],
      "text/plain": [
       "<IPython.core.display.HTML object>"
      ]
     },
     "metadata": {},
     "output_type": "display_data"
    }
   ],
   "source": [
    "import pandas as pd\n",
    "import numpy as np\n",
    "import matplotlib.pyplot as plt\n",
    "from tqdm.notebook import tqdm\n",
    "\n",
    "# general ML tooling\n",
    "from sklearn.model_selection import train_test_split, StratifiedKFold, KFold\n",
    "from sklearn.metrics import log_loss, roc_auc_score\n",
    "import wandb\n",
    "from wandb.xgboost import wandb_callback\n",
    "from wandb.lightgbm import wandb_callback\n",
    "from sklearn.impute import SimpleImputer #, KNNImputer\n",
    "# import timm\n",
    "\n",
    "import seaborn as sns\n",
    "\n",
    "from catboost import CatBoostClassifier\n",
    "from xgboost import XGBClassifier\n",
    "from lightgbm import LGBMClassifier\n",
    "# from sklearn.ensemble import StackingClassifier, RandomForestClassifier\n",
    "from sklearn.preprocessing import StandardScaler #, MinMaxScaler, MaxAbsScaler, RobustScaler, PolynomialFeatures\n",
    "from sklearn.linear_model import LogisticRegression\n",
    "# from sklearn.feature_selection import SelectKBest, f_regression\n",
    "from joblib import dump, load\n",
    "# feature engineering tools\n",
    "# from sklearn.feature_selection import mutual_info_regression\n",
    "# import featuretools as ft\n"
   ]
  },
  {
   "cell_type": "markdown",
   "id": "5f6166c2-ca44-4b7c-a4dc-3db47c2624fe",
   "metadata": {},
   "source": [
    "Now, datapath setup"
   ]
  },
  {
   "cell_type": "code",
   "execution_count": 6,
   "id": "3c18a787-2193-43cb-87ee-51c6ae7b6351",
   "metadata": {},
   "outputs": [],
   "source": [
    "# # This is the code for reading the train.csv and converting it to a .feather file\n",
    "# df = pd.read_csv(datapath/'train.csv', index_col='id', low_memory=False)\n",
    "# df.index.name = None\n",
    "# df.to_feather(path='./dataset_df.feather')"
   ]
  },
  {
   "cell_type": "code",
   "execution_count": 7,
   "id": "0a41cd7e-accb-41c4-ad8b-0eaa3e2b0ad5",
   "metadata": {},
   "outputs": [],
   "source": [
    "if COLAB:\n",
    "    # mount Google Drive\n",
    "    from google.colab import drive\n",
    "    drive.mount('/content/drive')\n",
    "    \n",
    "    # handling datapath\n",
    "    datapath = Path('/content/drive/MyDrive/kaggle/tabular_playgrounds/oct2021/')\n",
    "    \n",
    "else:\n",
    "    # if on local machine\n",
    "#     datapath = Path('/media/sf/easystore/kaggle_data/tabular_playgrounds/sep2021/')  \n",
    "    root = Path('/home/sf/code/kaggle/tabular_playgrounds/oct2021/')\n",
    "    datapath = root/'datasets'\n",
    "    edapath = root/'EDA'\n",
    "    modelpath = Path('/media/sf/easystore/kaggle_data/tabular_playgrounds/oct2021/models/')\n",
    "    predpath = root/'preds'\n",
    "    subpath = root/'submissions'\n",
    "    \n",
    "    for pth in [root, datapath, edapath, modelpath, predpath, subpath]:\n",
    "        pth.mkdir(exist_ok=True)\n",
    "    \n"
   ]
  },
  {
   "cell_type": "code",
   "execution_count": 8,
   "id": "fad41f0c-4a5c-470a-bda3-98152c30bc6b",
   "metadata": {},
   "outputs": [],
   "source": [
    "SEED = 42\n",
    "\n",
    "# Function to seed everything\n",
    "def seed_everything(seed):\n",
    "    random.seed(seed)\n",
    "    np.random.seed(seed)\n",
    "    os.environ['PYTHONHASHSEED'] = str(seed)\n",
    "\n",
    "seed_everything(seed=SEED)"
   ]
  },
  {
   "cell_type": "markdown",
   "id": "2f6e47b3-43bd-4d35-b463-9d76100c6ed5",
   "metadata": {},
   "source": [
    "## Ex-Model Config"
   ]
  },
  {
   "cell_type": "code",
   "execution_count": 9,
   "id": "fb288275-a858-4806-9dc0-0b316c334536",
   "metadata": {},
   "outputs": [],
   "source": [
    "# meta-config for preprocessing and cross-validation, but NOT for model parameters\n",
    "exmodel_config = {\n",
    "#     \"feature_selector\": SelectKBest,\n",
    "#     \"k_best\": 80,\n",
    "#     \"feature_selection_scoring\": f_regression,\n",
    "#     'random_state': SEED,\n",
    "#     'feature_generation': ['NaN_counts', 'SummaryStats', 'NaN_OneHots'],\n",
    "#     'subsample': 1,\n",
    "    'cross_val_strategy': KFold, # None for holdout, or the relevant sklearn class\n",
    "    'kfolds': 5, # if 1, that means just doing holdout\n",
    "    'test_size': 0.2,\n",
    "#     'features_created': False,\n",
    "#     'feature_creator': None,\n",
    "}"
   ]
  },
  {
   "cell_type": "markdown",
   "id": "a52d9012-34f1-435a-ba16-4416e0d4a286",
   "metadata": {},
   "source": [
    "## Data Setup"
   ]
  },
  {
   "cell_type": "markdown",
   "id": "c912a62f-970a-48b4-b428-d886f2612fc2",
   "metadata": {},
   "source": [
    "**TODO** Write some conditional logic here to automate it -- possibly as part of a sklearn.*pipeline"
   ]
  },
  {
   "cell_type": "code",
   "execution_count": 10,
   "id": "61b8603b-68c3-40da-8406-53e143758905",
   "metadata": {},
   "outputs": [],
   "source": [
    "# if exmodel_config['scaler']:\n",
    "#     scaler = exmodel_config['scaler']()\n",
    "#     scaler.fit_transform()"
   ]
  },
  {
   "cell_type": "code",
   "execution_count": 11,
   "id": "9716ae38-a859-44f1-bf4e-caf0c7a40782",
   "metadata": {},
   "outputs": [],
   "source": [
    "train_source = datapath/'train.feather'\n",
    "df = pd.read_feather(path=train_source)\n",
    "df.index.name = 'id'\n",
    "y_train = df.target\n",
    "features = [x for x in df.columns if x != 'target']\n",
    "X_train = df[features]\n",
    "# X.index.name = 'id'\n",
    "# y.index.name = 'id'\n",
    "X = np.array(X_train)\n",
    "y = np.array(y_train)\n",
    "\n",
    "# del df, X_train, y_train\n",
    "\n",
    "\n",
    "# exmodel_config['feature_count'] = len(X.columns)\n",
    "exmodel_config['feature_count'] = X.shape[1]\n",
    "exmodel_config['instance_count'] = X.shape[0]\n",
    "\n",
    "# exmodel_config['feature_generator'] = None\n",
    "# exmodel_config['feature_generator'] = \"Summary statistics\"\n",
    "\n",
    "exmodel_config['train_source'] = str(train_source)"
   ]
  },
  {
   "cell_type": "code",
   "execution_count": 12,
   "id": "9897e600-60ec-4896-97d3-e029f0eee460",
   "metadata": {},
   "outputs": [],
   "source": [
    "test_source = datapath/'test.feather'\n",
    "exmodel_config['test_source'] = str(test_source)\n",
    "X_test = pd.read_feather(path=test_source)\n",
    "# X_test = X_test.iloc[:, 1:]"
   ]
  },
  {
   "cell_type": "code",
   "execution_count": 13,
   "id": "785d11ff-6ff7-48c4-95ea-a5616eff6aeb",
   "metadata": {},
   "outputs": [],
   "source": [
    "X_test = np.array(X_test)"
   ]
  },
  {
   "cell_type": "markdown",
   "id": "a4a5f215-b585-4f7b-afac-36e49ee28c8f",
   "metadata": {},
   "source": [
    "## Weights and Biases Run Config"
   ]
  },
  {
   "cell_type": "markdown",
   "id": "89a928e1-0a18-4c91-b9bb-a32846e39e5b",
   "metadata": {},
   "source": [
    "Below is the configuration for a Weights and Biases (`wandb`) run."
   ]
  },
  {
   "cell_type": "code",
   "execution_count": 14,
   "id": "e5402d98-7bcd-4e46-b85d-6b0129ca6e96",
   "metadata": {},
   "outputs": [],
   "source": [
    "# wandb config:\n",
    "wandb_config = {\n",
    "    'name': f\"{os.environ['WANDB_NOTEBOOK_NAME'][:-6]}_{datetime.now().strftime('%H%M%S')}\", # just removes the .ipynb extension, leaving the notebook filename's stem\n",
    "    'tags': ['stacking-manual'],\n",
    "    'notes': \"Using best-to-date params on GBM classifiers from XGBoost, LightGBM, and CatBoost on original, unaltered dataset. Manual stacking ensemble, with two random-state versions of each architecture in first layer, then one in second, then a LogisticRegressor for third.\",\n",
    "}"
   ]
  },
  {
   "cell_type": "markdown",
   "id": "638002ad-9266-44d6-8302-ebce2a6f7b06",
   "metadata": {},
   "source": [
    "# Training"
   ]
  },
  {
   "cell_type": "markdown",
   "id": "862e9478-2380-4c4d-8641-5daa72049b6c",
   "metadata": {},
   "source": [
    "# Hyperparameters"
   ]
  },
  {
   "cell_type": "code",
   "execution_count": 15,
   "id": "bc156663-c689-4dfe-a80b-5efaaae1afab",
   "metadata": {},
   "outputs": [],
   "source": [
    "# optuna 20211004, thru 106 trials on unaltered original dataset\n",
    "best_xgboost_params = {\n",
    "    'n_estimators': 3878,\n",
    "    'max_depth': 4,\n",
    "    'learning_rate': 0.024785857161974977,\n",
    "    'reg_alpha': 26.867682044658245,\n",
    "    'reg_lambda': 10.839759074147148,\n",
    "    'subsample': 0.8208581489835881,\n",
    "    'min_child_weight': 8.829122644339664,\n",
    "    'colsample_bytree': 0.906420714280384,\n",
    "    'gamma': 1.472322916021486\n",
    "}\n",
    "\n",
    "# best as of 20211005, thru 65 trials on unaltered original dataset\n",
    "best_lightgbm_params = {\n",
    "    'n_estimators': 6631,\n",
    "    'max_depth': 10,\n",
    "    'learning_rate': 0.004677044539666842,\n",
    "    'reg_alpha': 19.334971246299116,\n",
    "    'reg_lambda': 0.024384251140153856,\n",
    "    'subsample': 0.5082183652689569,\n",
    "    'boosting_type': 'gbdt',\n",
    "    'min_child_samples': 9,\n",
    "    'num_leaves': 233,\n",
    "    'colsample_bytree': 0.5008014086989773\n",
    "}\n",
    "\n",
    "# catboost 20211001 on colab with 100 trials on GPU, unaltered original dataset\n",
    "best_catboost_params = {\n",
    "    'iterations': 29338,\n",
    "    'max_depth': 9,\n",
    "    'learning_rate': 0.004769831650275205,\n",
    "    'random_strength': 7,\n",
    "    'od_wait': 1968,\n",
    "    'reg_lambda': 28.435563240493586,\n",
    "    'border_count': 162,\n",
    "    'min_child_samples': 14,\n",
    "    'leaf_estimation_iterations': 1\n",
    "}"
   ]
  },
  {
   "cell_type": "code",
   "execution_count": 16,
   "id": "dfa66428-3fb9-410f-9ea5-50785a4bd177",
   "metadata": {},
   "outputs": [],
   "source": [
    "def cross_validate_model(library:str, params:dict={}, X=X, y=y, X_test=X_test, start_fold=0, \n",
    "                         exmodel_config=exmodel_config, wandb_config=wandb_config, \n",
    "                         random_state=42, shuffle_kfolds=True, wandb_tracked=True):\n",
    "    \"\"\"\n",
    "    Function to handle model training process in the context of cross-validation -- via hold-out or via k-fold.\n",
    "    If exmodel_config['cross_val_strategy'] == None, then any kfolds= input is ignored; otherwise, the number specified is used.\n",
    "    \n",
    "    :param kfolds: int specifying number of k-folds to use in cross-validation\n",
    "    :param exmodel_config: dict containing general config including for cross-validation -- `kfold=1` implies hold-out\n",
    "    \"\"\"\n",
    "#     if exmodel_config['kfolds'] == 1:\n",
    "#         print(\"Proceeding with holdout\")\n",
    "#     X_train, X_valid, y_train, y_valid = train_test_split(X, y, \n",
    "#                                                           test_size=0.2, \n",
    "#                                                           random_state=SEED)                 \n",
    "    \n",
    "    # prepare for k-fold cross-validation; random-state here is notebook-wide, not per-model\n",
    "    # shuffle on the initial sets, but not subsequently -- performing the same operation twice means a very different dataset\n",
    "    if shuffle_kfolds:\n",
    "        kfold = exmodel_config['cross_val_strategy'](n_splits=exmodel_config['kfolds'], shuffle=True, random_state=SEED)\n",
    "    else:\n",
    "        kfold = exmodel_config['cross_val_strategy'](n_splits=exmodel_config['kfolds'], shuffle=False)\n",
    "    \n",
    "    if wandb_tracked:\n",
    "        exmodel_config['library'] = library\n",
    "        exmodel_config[f'{library}_params'] = str(params)\n",
    "        wandb.init(\n",
    "            project=\"202110_Kaggle_tabular_playground\",\n",
    "            save_code=True,\n",
    "            tags=wandb_config['tags'],\n",
    "            name=wandb_config['name'],\n",
    "            notes=wandb_config['notes'],\n",
    "            config=exmodel_config\n",
    "    )   \n",
    "    \n",
    "    # setup for serialization\n",
    "    runpath = Path(modelpath/f\"{wandb_config['name']}_{library}_{exmodel_config['kfolds']}folds/\")\n",
    "    (runpath).mkdir(exist_ok=True)\n",
    "    \n",
    "    \n",
    "    # initialize lists for out-of-fold preds and ground truth\n",
    "    oof_preds, oof_y = [], []\n",
    "    \n",
    "    # initialize a numpy.ndarray containing the fold-model's preds for test set\n",
    "    test_preds = np.zeros((X_test.shape[0]))\n",
    "    \n",
    "    for fold, (train_ids, valid_ids) in enumerate(kfold.split(X,y)):\n",
    "        if fold < start_fold: # skip folds that are already trained\n",
    "            continue\n",
    "        else:\n",
    "            print(f\"FOLD {fold}\")\n",
    "            print(\"---------------------------------------------------\")\n",
    "            X_train, X_valid = X[train_ids], X[valid_ids]\n",
    "            y_train, y_valid = y[train_ids], y[valid_ids]\n",
    "    \n",
    "        # define models\n",
    "        if library == 'xgboost':\n",
    "            model = XGBClassifier(\n",
    "                booster='gbtree',\n",
    "                tree_method='gpu_hist',\n",
    "                random_state=random_state,\n",
    "                n_jobs=-1, \n",
    "                verbosity=1, \n",
    "                objective='binary:logistic',\n",
    "                **params)\n",
    "            if wandb_tracked:\n",
    "                model.fit(X_train, y_train, callbacks=[wandb.xgboost.wandb_callback()])\n",
    "            else:\n",
    "                model.fit(X_train, y_train)\n",
    "\n",
    "\n",
    "        elif library == 'lightgbm':\n",
    "            model = LGBMClassifier(\n",
    "                objective='binary',\n",
    "                random_state=random_state,\n",
    "                device_type='cpu',\n",
    "                n_jobs=-1,\n",
    "#                 eval_metric='auc',\n",
    "#                 device_type='gpu',\n",
    "#                 max_bin=63, # 15 might be even better for GPU perf, but depends on dataset -- see https://lightgbm.readthedocs.io/en/latest/GPU-Performance.html\n",
    "#                 gpu_use_dp=False, # forces use of single precision rather than double for better perf, esp on consumer Nvidia chips\n",
    "                **params)\n",
    "            if wandb_tracked:\n",
    "                model.fit(X_train, y_train, callbacks=[wandb.lightgbm.wandb_callback()],)\n",
    "            else:\n",
    "                model.fit(X_train, y_train)\n",
    "\n",
    "            \n",
    "        elif library == 'catboost':\n",
    "            model = CatBoostClassifier(\n",
    "                task_type='GPU',\n",
    "                silent=True,\n",
    "                random_state=random_state,\n",
    "                **params) \n",
    "        \n",
    "            model.fit(X_train, y_train)\n",
    "        \n",
    "        # take the training set predictions, if desired\n",
    "#         y_train_pred = model.predict_proba(X_train)[:,1]\n",
    "#         train_loss = log_loss(y_train, y_train_pred)\n",
    "#         train_auc = roc_auc_score(y_train, y_train_pred)\n",
    "#         wandb.log({'train_loss': train_loss, 'train_auc': train_auc})\n",
    "\n",
    "        # log the parameters, if desired\n",
    "#         if exmodel_config['library'] == 'catboost':\n",
    "#             print(model.get_all_params())\n",
    "#             wandb.log(model.get_all_params())\n",
    "#         else:\n",
    "#             wandb.log(model.get_params()) # logging model parameters, trying bare-invocation rather than params: model.get_params()\n",
    "\n",
    "        y_valid_preds = model.predict_proba(X_valid)[:,1]\n",
    "        \n",
    "        # add the fold-model's OOF preds and ground truths to the out-of-loop lists\n",
    "        oof_preds.extend(y_valid_preds)\n",
    "        oof_y.extend(y_valid)\n",
    "        \n",
    "        # add the fold's predictions to the model's test-set predictions (will divide later)\n",
    "        test_preds += model.predict_proba(X_test)[:,1]\n",
    "\n",
    "#         valid_loss = log_loss(y_valid, y_pred)\n",
    "        # give the valid AUC score, for edification\n",
    "        fold_valid_auc = roc_auc_score(y_valid, y_valid_preds)\n",
    "        print(f\"Valid AUC for fold {fold} is {fold_valid_auc}\")   \n",
    "        dump(model, Path(runpath/f\"{library}_fold{fold}_rs{random_state}_model.joblib\"))\n",
    "\n",
    "    model_valid_auc = roc_auc_score(oof_y, oof_preds)\n",
    "    print(f\"Valid AUC score for {library} model is {model_valid_auc}\")\n",
    "    \n",
    "    # finalize test preds\n",
    "    test_preds /= exmodel_config['kfolds']\n",
    "    \n",
    "    # save OOF preds and test-set preds\n",
    "    dump(oof_preds, Path(predpath/f\"{wandb_config['name']}_{library}_{exmodel_config['kfolds']}folds_rs{random_state}_oof_preds.joblib\"))\n",
    "    dump(test_preds, Path(predpath/f\"{wandb_config['name']}_{library}_{exmodel_config['kfolds']}folds_rs{random_state}_test_preds.joblib\"))\n",
    "    dump(oof_y, predpath/f\"{exmodel_config['kfolds']}folds_rs{SEED}_oof_y.joblib\")\n",
    "    \n",
    "    if wandb_tracked:\n",
    "        wandb.log({'model_valid_auc': model_valid_auc,\n",
    "                   'oof_preds': oof_preds,\n",
    "                   'test_preds': test_preds,\n",
    "                   'model_params': str(model.get_params()),\n",
    "                  })\n",
    "        wandb.finish()\n",
    "    return oof_preds, test_preds\n",
    "        "
   ]
  },
  {
   "cell_type": "code",
   "execution_count": 17,
   "id": "096d8438-1639-47ab-9264-aefb21e51872",
   "metadata": {
    "tags": []
   },
   "outputs": [],
   "source": [
    "# _, lightgbm_preds = cross_validate_model(library='lightgbm')"
   ]
  },
  {
   "cell_type": "code",
   "execution_count": 18,
   "id": "56b93f37-272a-4e06-b1e2-12b45d3148a6",
   "metadata": {
    "tags": []
   },
   "outputs": [],
   "source": [
    "# _, catboost_preds = cross_validate_model(library='catboost')"
   ]
  },
  {
   "cell_type": "code",
   "execution_count": 19,
   "id": "cc332027-f1ab-45c0-8793-45b9bfd76cf5",
   "metadata": {
    "tags": []
   },
   "outputs": [],
   "source": [
    "# xgboost_oof_preds, xgboost_test_preds = cross_validate_model(library='xgboost')"
   ]
  },
  {
   "cell_type": "markdown",
   "id": "e23c3564-37f1-4c16-b91f-753667ecb3b0",
   "metadata": {},
   "source": [
    "# Single Submission"
   ]
  },
  {
   "cell_type": "code",
   "execution_count": 20,
   "id": "8217efa1-6b59-4c60-bbc7-5bd50c0fee6e",
   "metadata": {
    "tags": []
   },
   "outputs": [],
   "source": [
    "# sample_df = pd.read_csv(datapath/'sample_submission.csv.zip')"
   ]
  },
  {
   "cell_type": "code",
   "execution_count": 21,
   "id": "c64589fc-0149-4905-b4e0-f110ef9007a4",
   "metadata": {},
   "outputs": [],
   "source": [
    "# sample_df.loc[:, 'target'] = xgboost_preds"
   ]
  },
  {
   "cell_type": "code",
   "execution_count": 22,
   "id": "dd20a8cd-72a0-47b9-989d-cb65be178967",
   "metadata": {},
   "outputs": [],
   "source": [
    "# sample_df.head()"
   ]
  },
  {
   "cell_type": "code",
   "execution_count": 23,
   "id": "ee4537d0-13b6-46a2-96ac-4ef6ab855007",
   "metadata": {},
   "outputs": [],
   "source": [
    "# submission_path = datapath/'submissions'\n",
    "# submission_path.mkdir(exist_ok=True)"
   ]
  },
  {
   "cell_type": "code",
   "execution_count": 24,
   "id": "51a8672e-ebc6-4105-94a6-5f6806aea28d",
   "metadata": {},
   "outputs": [],
   "source": [
    "# sample_df.to_csv(subpath/f\"{wandb_config['name']}_xgboost_{exmodel_config['kfolds']}folds_rs{42}_baseline_preds.csv\", index=False)"
   ]
  },
  {
   "cell_type": "code",
   "execution_count": 25,
   "id": "dd1e0734-4e26-4944-896b-65c177181cbf",
   "metadata": {},
   "outputs": [],
   "source": [
    "# str(blender.estimators[2][1].get_all_params())\n",
    "# blender.estimators[2][1]"
   ]
  },
  {
   "cell_type": "code",
   "execution_count": 26,
   "id": "765cbb49-a7b4-4564-b26d-3484431935be",
   "metadata": {},
   "outputs": [],
   "source": [
    "# wandb.log({'leaderboard_auc': 0.81725,\n",
    "# #            'catboost_params': str(best_catboost_params),\n",
    "#           })"
   ]
  },
  {
   "cell_type": "code",
   "execution_count": 27,
   "id": "df020199-86b3-4f67-8088-0646f028b8d9",
   "metadata": {
    "tags": []
   },
   "outputs": [],
   "source": [
    "# wandb.finish()"
   ]
  },
  {
   "cell_type": "code",
   "execution_count": 28,
   "id": "8441c1fc-8432-4d24-a65f-eceaae4919d8",
   "metadata": {},
   "outputs": [],
   "source": [
    "# oof_y_pd = pd.Series(oof_y)"
   ]
  },
  {
   "cell_type": "markdown",
   "id": "994802dc-6ec1-4588-9ee6-b18e7ef01047",
   "metadata": {},
   "source": [
    "# Predictions"
   ]
  },
  {
   "cell_type": "markdown",
   "id": "bfe960b2-6e42-4384-a7de-d2a2464c2ea2",
   "metadata": {},
   "source": [
    "## Level One"
   ]
  },
  {
   "cell_type": "code",
   "execution_count": 29,
   "id": "5cb4c8f6-4712-45a9-9a42-84864ab265bb",
   "metadata": {
    "tags": []
   },
   "outputs": [],
   "source": [
    "# oof_lv1, test_lv1 = pd.DataFrame(), pd.DataFrame() # initialize dataframes"
   ]
  },
  {
   "cell_type": "markdown",
   "id": "2f4f3a89-af13-4f7d-a613-690498292674",
   "metadata": {},
   "source": [
    "### Generating"
   ]
  },
  {
   "cell_type": "code",
   "execution_count": 30,
   "id": "032ca5db-2dd1-4530-8847-1619f85fbf15",
   "metadata": {
    "tags": []
   },
   "outputs": [],
   "source": [
    "# oof_lv1_lgb42, test_lv1_lgb42 = cross_validate_model(library='lightgbm', X=X, y=y, X_test=X_test, \n",
    "#                                          wandb_config=wandb_config,\n",
    "#                                          random_state=42,\n",
    "#                                          params=best_lightgbm_params,\n",
    "#                                          exmodel_config=exmodel_config, \n",
    "#                                          wandb_tracked=True\n",
    "#                                         )\n",
    "# oof_lv1['lgb42'] = oof_lv1_lgb42\n",
    "# test_lv1['lgb42'] = test_lv1_lgb42"
   ]
  },
  {
   "cell_type": "code",
   "execution_count": 31,
   "id": "cfb3c21b-9340-490a-a44d-90b21ac8de04",
   "metadata": {
    "tags": []
   },
   "outputs": [],
   "source": [
    "# oof_lv1_lgb1983, test_lv1_lgb1983 = cross_validate_model(library='lightgbm', X=X, y=y, X_test=X_test, \n",
    "#                                                  wandb_config=wandb_config,\n",
    "#                                                  random_state=1983,\n",
    "#                                                  params=best_lightgbm_params,\n",
    "#                                                  exmodel_config=exmodel_config, \n",
    "#                                                  wandb_tracked=True\n",
    "#                                                 )\n",
    "# oof_lv1['lgb1983'] = oof_lv1_lgb1983\n",
    "# test_lv1['lgb1983'] = test_lv1_lgb1983"
   ]
  },
  {
   "cell_type": "code",
   "execution_count": 32,
   "id": "f80900ce-57d8-45f3-bd23-2a85f223855b",
   "metadata": {
    "tags": []
   },
   "outputs": [],
   "source": [
    "# oof_lv1_xgb42, test_lv1_xgb42 = cross_validate_model(library='xgboost', X=X, y=y, X_test=X_test, \n",
    "#                                          wandb_config=wandb_config,\n",
    "#                                          random_state=42,\n",
    "#                                          params=best_xgboost_params,\n",
    "#                                          exmodel_config=exmodel_config, \n",
    "#                                          wandb_tracked=True\n",
    "#                                         )\n",
    "\n",
    "# oof_lv1['xgb42'] = oof_lv1_xgb42\n",
    "# test_lv1['xgb42'] = test_lv1_xgb42"
   ]
  },
  {
   "cell_type": "code",
   "execution_count": 33,
   "id": "db292889-5a30-45f5-8b7a-436cdeb27771",
   "metadata": {
    "tags": []
   },
   "outputs": [],
   "source": [
    "# oof_lv1_xgb1983, test_lv1_xgb1983 = cross_validate_model(library='xgboost', X=X, y=y, X_test=X_test, \n",
    "#                                                  wandb_config=wandb_config,\n",
    "#                                                  random_state=1983,\n",
    "#                                                  params=best_xgboost_params,\n",
    "#                                                  exmodel_config=exmodel_config, \n",
    "#                                                  wandb_tracked=True\n",
    "#                                                 )\n",
    "# oof_lv1['xgb1983'] = oof_lv1_xgb1983\n",
    "# test_lv1['xgb1983'] = test_lv1_xgb1983"
   ]
  },
  {
   "cell_type": "code",
   "execution_count": 34,
   "id": "07b56f4c-c0eb-46a2-a39f-5f161be4ce52",
   "metadata": {
    "tags": []
   },
   "outputs": [],
   "source": [
    "# oof_lv1_cat42, test_lv1_cat42 = cross_validate_model(library='catboost', X=X, y=y, X_test=X_test, \n",
    "#                                          wandb_config=wandb_config,\n",
    "#                                          random_state=42,\n",
    "#                                          params=best_catboost_params,\n",
    "#                                          exmodel_config=exmodel_config, \n",
    "#                                          wandb_tracked=True\n",
    "#                                         )\n",
    "# oof_lv1['cat42'] = oof_lv1_cat42\n",
    "# test_lv1['cat42'] = test_lv1_cat42"
   ]
  },
  {
   "cell_type": "code",
   "execution_count": 35,
   "id": "b4d41632-6d00-4714-81f3-d73e9d219b43",
   "metadata": {
    "tags": []
   },
   "outputs": [],
   "source": [
    "# oof_lv1_cat1983, test_lv1_cat1983 = cross_validate_model(library='catboost', X=X, y=y, X_test=X_test, \n",
    "#                                                  wandb_config=wandb_config,\n",
    "#                                                  random_state=1983,\n",
    "#                                                  params=best_catboost_params,\n",
    "#                                                  exmodel_config=exmodel_config, \n",
    "#                                                  wandb_tracked=False\n",
    "#                                                 )\n"
   ]
  },
  {
   "cell_type": "code",
   "execution_count": 36,
   "id": "1f13c7fb-002c-4570-aeff-f75d934823e2",
   "metadata": {},
   "outputs": [],
   "source": [
    "# this cell just for after-the-fact error corrections\n",
    "\n",
    "# oof_lv1 = pd.DataFrame()\n",
    "# test_lv1 = pd.DataFrame()\n",
    "\n",
    "# oof_lv1['lgb1983'] = oof_lv1_lgb1983\n",
    "# test_lv1['lgb1983'] = test_lv1_lgb1983\n",
    "# oof_lv1['lgb42'] = oof_lv1_lgb42\n",
    "# test_lv1['lgb42'] = test_lv1_lgb42\n",
    "# oof_lv1['cat1983'] = oof_lv1_cat1983\n",
    "# test_lv1['cat1983'] = test_lv1_cat1983\n",
    "# oof_lv1['cat42'] = oof_lv1_cat42\n",
    "# test_lv1['cat42'] = test_lv1_cat42\n",
    "# oof_lv1['xgb1983'] = oof_lv1_xgb1983\n",
    "# test_lv1['xgb1983'] = test_lv1_xgb1983\n",
    "# oof_lv1['xgb42'] = oof_lv1_xgb42\n",
    "# test_lv1['xgb42'] = test_lv1_xgb42\n",
    "\n"
   ]
  },
  {
   "cell_type": "markdown",
   "id": "128ea342-3882-498f-a970-108d71d72ded",
   "metadata": {},
   "source": [
    "### Loading Sets of Predictions"
   ]
  },
  {
   "cell_type": "code",
   "execution_count": 37,
   "id": "2128656e-dafe-43ec-bbe9-c30734573f81",
   "metadata": {},
   "outputs": [],
   "source": [
    "# oof_lv1, test_lv1 = pd.DataFrame(), pd.DataFrame()\n",
    "# preds_path = Path('/media/sf/easystore/kaggle_data/tabular_playgrounds/sep2021/preds/')"
   ]
  },
  {
   "cell_type": "code",
   "execution_count": 38,
   "id": "184ef71b-afd2-4a31-848d-f9ca2525ffeb",
   "metadata": {},
   "outputs": [],
   "source": [
    "# oof_lv1['xgb42'] = load(predpath/'stacking_manual_20211005_085253_xgboost_5folds_rs42_oof_preds.joblib')\n",
    "# test_lv1['xgb42'] = load(preds_path/'stacking_manual_20210925_212129_xgboost_5folds_rs42_test_preds.joblib')"
   ]
  },
  {
   "cell_type": "code",
   "execution_count": 39,
   "id": "4f493f20-3a8a-40e4-81d7-6107753ac744",
   "metadata": {},
   "outputs": [],
   "source": [
    "# oof_lv_xgb42_y = load(predpath/'stacking_manual_20211005_085253_xgboost_5folds_rs42_oof_y.joblib')"
   ]
  },
  {
   "cell_type": "code",
   "execution_count": 40,
   "id": "9ed26a0f-9eac-4f43-8160-1c81f06cf981",
   "metadata": {},
   "outputs": [],
   "source": [
    "# roc_auc_score(y_true=oof_lv_xgb42_y, y_score=oof_lv1['xgb42'])"
   ]
  },
  {
   "cell_type": "code",
   "execution_count": 41,
   "id": "0681cec6-4290-429a-991f-0a3305893075",
   "metadata": {},
   "outputs": [],
   "source": [
    "# oof_lv1['xgb1983'] = load(preds_path/'validAUC_0.8146252172737458_stacking_manual_20210926_211701_xgboost_5folds_rs1983_oof_preds.joblib')\n",
    "# test_lv1['xgb1983'] = load(preds_path/'stacking_manual_20210926_211701_xgboost_5folds_rs1983_test_preds.joblib')"
   ]
  },
  {
   "cell_type": "code",
   "execution_count": 42,
   "id": "7f59039c-2dc1-49f2-9fc5-311977ac1706",
   "metadata": {},
   "outputs": [],
   "source": [
    "# oof_lv1['lgb42'] = load(preds_path/'validAUC_0.8156810521798477_stacking_manual_20210925_212129_lightgbm_5folds_rs42_oof_preds.joblib')\n",
    "# test_lv1['lgb42'] = load(preds_path/'stacking_manual_20210925_212129_lightgbm_5folds_rs42_test_preds.joblib')"
   ]
  },
  {
   "cell_type": "code",
   "execution_count": 43,
   "id": "58c301c0-35dd-48f2-8719-47c8247c205d",
   "metadata": {},
   "outputs": [],
   "source": [
    "# oof_lv1['lgb1983'] = load(preds_path/'validAUC_0.8156503194185875_stacking_manual_20210925_212129_lightgbm_5folds_rs1983_oof_preds.joblib')\n",
    "# test_lv1['lgb1983'] = load(preds_path/'stacking_manual_20210925_212129_lightgbm_5folds_rs1983_test_preds.joblib')"
   ]
  },
  {
   "cell_type": "code",
   "execution_count": 44,
   "id": "a24b9355-740d-47b9-87ea-e8de0b1e7556",
   "metadata": {},
   "outputs": [],
   "source": [
    "# oof_lv1['cat42'] = load(preds_path/'validAUC_0.8116727090290558_stacking_manual_20210925_212129_catboost_5folds_rs42_oof_preds.joblib')\n",
    "# test_lv1['cat42'] = load(preds_path/'stacking_manual_20210925_212129_catboost_5folds_rs42_test_preds.joblib')"
   ]
  },
  {
   "cell_type": "code",
   "execution_count": 45,
   "id": "c1542a39-c5d1-4785-a3c8-1a990d535d51",
   "metadata": {},
   "outputs": [],
   "source": [
    "# oof_lv1['cat1983'] = load(predpath/'stacking_manual_20211005_085253_catboost_5folds_rs1983_oof_preds.joblib')\n",
    "# oof_cat1983_y = load(predpath/'stacking_manual_20211005_085253_catboost_5folds_rs1983_oof_y.joblib')\n",
    "# roc_auc_score(y_true=oof_cat1983_y, y_score=oof_lv1['cat1983'])\n",
    "# test_lv1['cat1983'] = load(preds_path/'stacking_manual_20210925_212129_catboost_5folds_rs1983_test_preds.joblib')"
   ]
  },
  {
   "cell_type": "code",
   "execution_count": 46,
   "id": "6f3c927d-bf2f-45b5-8852-1c1fb44d690e",
   "metadata": {},
   "outputs": [],
   "source": [
    "# oof_cat42_y = load(predpath/'stacking_manual_20211005_085253_catboost_5folds_rs42_oof_y.joblib')"
   ]
  },
  {
   "cell_type": "code",
   "execution_count": 47,
   "id": "753b2247-a987-4cb1-8f7f-11b74e1fe6ac",
   "metadata": {},
   "outputs": [],
   "source": [
    "# oof_cat42_y == oof_lv_xgb42_y"
   ]
  },
  {
   "cell_type": "code",
   "execution_count": 48,
   "id": "85efac1b-596c-489d-a606-50a55c5d67c2",
   "metadata": {},
   "outputs": [],
   "source": [
    "# oof_lv1.iloc[:20, :]"
   ]
  },
  {
   "cell_type": "code",
   "execution_count": 49,
   "id": "41eec67d-7891-4ac0-884d-d098577bdf03",
   "metadata": {
    "tags": []
   },
   "outputs": [],
   "source": [
    "# oof_y_pd.iloc[:20]"
   ]
  },
  {
   "cell_type": "markdown",
   "id": "79a7c3a6-2707-4177-abf8-95992f572852",
   "metadata": {},
   "source": [
    "- Why is it that the random seed seems far more important than the model type in making a prediction???"
   ]
  },
  {
   "cell_type": "markdown",
   "id": "a964b810-db49-49c0-9deb-999a189e4939",
   "metadata": {},
   "source": [
    "### Serialization"
   ]
  },
  {
   "cell_type": "code",
   "execution_count": 50,
   "id": "6290a8eb-07f1-4917-8073-8bcced8bde39",
   "metadata": {},
   "outputs": [],
   "source": [
    "# oof_lv1.head()"
   ]
  },
  {
   "cell_type": "code",
   "execution_count": 51,
   "id": "fade7952-fc06-4fcf-a77a-543664972b8e",
   "metadata": {},
   "outputs": [],
   "source": [
    "# test_lv1.head()"
   ]
  },
  {
   "cell_type": "code",
   "execution_count": 52,
   "id": "4dc05052-1105-4a9a-8fbe-c3a3b59b2426",
   "metadata": {},
   "outputs": [],
   "source": [
    "# oof_lv1.to_csv('oof_lv1.csv', index=False)\n",
    "# test_lv1.to_csv('test_lv1.csv', index=False)"
   ]
  },
  {
   "cell_type": "code",
   "execution_count": 53,
   "id": "877cd565-c4ed-436e-b230-1bd4487354da",
   "metadata": {},
   "outputs": [],
   "source": [
    "# oof_lv1.to_feather(predpath/f\"{wandb_config['name']}_oof_lv1.feather\")\n",
    "# test_lv1.to_feather(predpath/f\"{wandb_config['name']}_test_lv1.feather\")"
   ]
  },
  {
   "cell_type": "markdown",
   "id": "70bc7cef-5989-400f-8524-cf59233d3e4b",
   "metadata": {},
   "source": [
    "### Lv1 Finalization"
   ]
  },
  {
   "cell_type": "code",
   "execution_count": 54,
   "id": "dd5828bc-e0d1-4b26-b1ed-33b26116f367",
   "metadata": {},
   "outputs": [],
   "source": [
    "oof_lv1 = pd.read_feather(predpath/f\"stacking_manual_20211005_205933_oof_lv1.feather\")#, columns=[str(x) for x in range()])\n",
    "test_lv1 = pd.read_feather(predpath/f\"stacking_manual_20211005_205933_test_lv1.feather\")\n",
    "oof_y = load(predpath/f\"{exmodel_config['kfolds']}folds_rs{SEED}_oof_y.joblib\")"
   ]
  },
  {
   "cell_type": "code",
   "execution_count": 55,
   "id": "9be05e3d-c7a7-41a5-9362-320d71d0f926",
   "metadata": {},
   "outputs": [
    {
     "data": {
      "text/html": [
       "<div>\n",
       "<style scoped>\n",
       "    .dataframe tbody tr th:only-of-type {\n",
       "        vertical-align: middle;\n",
       "    }\n",
       "\n",
       "    .dataframe tbody tr th {\n",
       "        vertical-align: top;\n",
       "    }\n",
       "\n",
       "    .dataframe thead th {\n",
       "        text-align: right;\n",
       "    }\n",
       "</style>\n",
       "<table border=\"1\" class=\"dataframe\">\n",
       "  <thead>\n",
       "    <tr style=\"text-align: right;\">\n",
       "      <th></th>\n",
       "      <th>lgb1983</th>\n",
       "      <th>lgb42</th>\n",
       "      <th>cat1983</th>\n",
       "      <th>cat42</th>\n",
       "      <th>xgb1983</th>\n",
       "      <th>xgb42</th>\n",
       "    </tr>\n",
       "  </thead>\n",
       "  <tbody>\n",
       "    <tr>\n",
       "      <th>0</th>\n",
       "      <td>0.651299</td>\n",
       "      <td>0.642872</td>\n",
       "      <td>0.637863</td>\n",
       "      <td>0.629671</td>\n",
       "      <td>0.666962</td>\n",
       "      <td>0.627152</td>\n",
       "    </tr>\n",
       "    <tr>\n",
       "      <th>1</th>\n",
       "      <td>0.979994</td>\n",
       "      <td>0.978403</td>\n",
       "      <td>0.978872</td>\n",
       "      <td>0.978188</td>\n",
       "      <td>0.976313</td>\n",
       "      <td>0.975591</td>\n",
       "    </tr>\n",
       "    <tr>\n",
       "      <th>2</th>\n",
       "      <td>0.727006</td>\n",
       "      <td>0.717471</td>\n",
       "      <td>0.695742</td>\n",
       "      <td>0.758795</td>\n",
       "      <td>0.670068</td>\n",
       "      <td>0.674095</td>\n",
       "    </tr>\n",
       "    <tr>\n",
       "      <th>3</th>\n",
       "      <td>0.307745</td>\n",
       "      <td>0.322052</td>\n",
       "      <td>0.281502</td>\n",
       "      <td>0.280899</td>\n",
       "      <td>0.321891</td>\n",
       "      <td>0.294775</td>\n",
       "    </tr>\n",
       "    <tr>\n",
       "      <th>4</th>\n",
       "      <td>0.085114</td>\n",
       "      <td>0.088160</td>\n",
       "      <td>0.061077</td>\n",
       "      <td>0.062779</td>\n",
       "      <td>0.071851</td>\n",
       "      <td>0.069561</td>\n",
       "    </tr>\n",
       "  </tbody>\n",
       "</table>\n",
       "</div>"
      ],
      "text/plain": [
       "    lgb1983     lgb42   cat1983     cat42   xgb1983     xgb42\n",
       "0  0.651299  0.642872  0.637863  0.629671  0.666962  0.627152\n",
       "1  0.979994  0.978403  0.978872  0.978188  0.976313  0.975591\n",
       "2  0.727006  0.717471  0.695742  0.758795  0.670068  0.674095\n",
       "3  0.307745  0.322052  0.281502  0.280899  0.321891  0.294775\n",
       "4  0.085114  0.088160  0.061077  0.062779  0.071851  0.069561"
      ]
     },
     "execution_count": 55,
     "metadata": {},
     "output_type": "execute_result"
    }
   ],
   "source": [
    "oof_lv1.head()"
   ]
  },
  {
   "cell_type": "code",
   "execution_count": 56,
   "id": "5ba900b5-8b5b-4620-852c-6fb2808a8209",
   "metadata": {},
   "outputs": [
    {
     "data": {
      "text/html": [
       "<div>\n",
       "<style scoped>\n",
       "    .dataframe tbody tr th:only-of-type {\n",
       "        vertical-align: middle;\n",
       "    }\n",
       "\n",
       "    .dataframe tbody tr th {\n",
       "        vertical-align: top;\n",
       "    }\n",
       "\n",
       "    .dataframe thead th {\n",
       "        text-align: right;\n",
       "    }\n",
       "</style>\n",
       "<table border=\"1\" class=\"dataframe\">\n",
       "  <thead>\n",
       "    <tr style=\"text-align: right;\">\n",
       "      <th></th>\n",
       "      <th>lgb1983</th>\n",
       "      <th>lgb42</th>\n",
       "      <th>cat1983</th>\n",
       "      <th>cat42</th>\n",
       "      <th>xgb1983</th>\n",
       "      <th>xgb42</th>\n",
       "    </tr>\n",
       "  </thead>\n",
       "  <tbody>\n",
       "    <tr>\n",
       "      <th>0</th>\n",
       "      <td>0.716279</td>\n",
       "      <td>0.707717</td>\n",
       "      <td>0.742959</td>\n",
       "      <td>0.729703</td>\n",
       "      <td>0.744670</td>\n",
       "      <td>0.742503</td>\n",
       "    </tr>\n",
       "    <tr>\n",
       "      <th>1</th>\n",
       "      <td>0.227226</td>\n",
       "      <td>0.228462</td>\n",
       "      <td>0.236283</td>\n",
       "      <td>0.238824</td>\n",
       "      <td>0.255078</td>\n",
       "      <td>0.263515</td>\n",
       "    </tr>\n",
       "    <tr>\n",
       "      <th>2</th>\n",
       "      <td>0.907678</td>\n",
       "      <td>0.903571</td>\n",
       "      <td>0.908473</td>\n",
       "      <td>0.910906</td>\n",
       "      <td>0.903481</td>\n",
       "      <td>0.909820</td>\n",
       "    </tr>\n",
       "    <tr>\n",
       "      <th>3</th>\n",
       "      <td>0.812557</td>\n",
       "      <td>0.805153</td>\n",
       "      <td>0.844619</td>\n",
       "      <td>0.846002</td>\n",
       "      <td>0.860360</td>\n",
       "      <td>0.861400</td>\n",
       "    </tr>\n",
       "    <tr>\n",
       "      <th>4</th>\n",
       "      <td>0.282562</td>\n",
       "      <td>0.276703</td>\n",
       "      <td>0.267734</td>\n",
       "      <td>0.265967</td>\n",
       "      <td>0.262067</td>\n",
       "      <td>0.261821</td>\n",
       "    </tr>\n",
       "  </tbody>\n",
       "</table>\n",
       "</div>"
      ],
      "text/plain": [
       "    lgb1983     lgb42   cat1983     cat42   xgb1983     xgb42\n",
       "0  0.716279  0.707717  0.742959  0.729703  0.744670  0.742503\n",
       "1  0.227226  0.228462  0.236283  0.238824  0.255078  0.263515\n",
       "2  0.907678  0.903571  0.908473  0.910906  0.903481  0.909820\n",
       "3  0.812557  0.805153  0.844619  0.846002  0.860360  0.861400\n",
       "4  0.282562  0.276703  0.267734  0.265967  0.262067  0.261821"
      ]
     },
     "execution_count": 56,
     "metadata": {},
     "output_type": "execute_result"
    }
   ],
   "source": [
    "test_lv1.head()"
   ]
  },
  {
   "cell_type": "code",
   "execution_count": 57,
   "id": "3098e778-eb53-4a65-baaf-5cd0ffb7bfa6",
   "metadata": {},
   "outputs": [],
   "source": [
    "# oof_lv1['target'] = oof_y"
   ]
  },
  {
   "cell_type": "code",
   "execution_count": 58,
   "id": "638ed3d3-0b02-468f-827e-bfcb263f6949",
   "metadata": {
    "tags": []
   },
   "outputs": [],
   "source": [
    "# oof_lv1.iloc[:30,:]"
   ]
  },
  {
   "cell_type": "code",
   "execution_count": 59,
   "id": "8757335c-defe-4f2d-839e-66340b4bde3c",
   "metadata": {},
   "outputs": [],
   "source": [
    "# roc_auc_score(y_score=oof_lv1['lgb1983'], y_true=oof_y) # 0.5002913418201236 from original, bad version"
   ]
  },
  {
   "cell_type": "markdown",
   "id": "dffc8387-6ae7-4ab2-8ee3-f2cf8aa6f8c4",
   "metadata": {},
   "source": [
    "**SO THERE'S SOMETHING WRONG WITH THE TARGET**"
   ]
  },
  {
   "cell_type": "code",
   "execution_count": 60,
   "id": "f427ba83-b376-4961-b3ff-ea09a256914d",
   "metadata": {},
   "outputs": [],
   "source": [
    "def regenerate_targets(X=X_train, y=y_train):\n",
    "    kfold = exmodel_config['cross_val_strategy'](n_splits=exmodel_config['kfolds'], shuffle=True, random_state=SEED)\n",
    "    oof_y = []\n",
    "    for fold, (train_ids, valid_ids) in enumerate(kfold.split(X,y)):\n",
    "#         X_train, X_valid = X[train_ids], X[valid_ids]\n",
    "        y_train, y_valid = y[train_ids], y[valid_ids]\n",
    "        oof_y.extend(y_valid)\n",
    "    return oof_y"
   ]
  },
  {
   "cell_type": "code",
   "execution_count": 61,
   "id": "bb6c938a-6a8d-48b5-9879-516b93b47447",
   "metadata": {},
   "outputs": [],
   "source": [
    "# oof_y_restored = regenerate_targets()"
   ]
  },
  {
   "cell_type": "code",
   "execution_count": 62,
   "id": "8de778c2-2c16-422d-b65d-437eb30f6b3f",
   "metadata": {},
   "outputs": [],
   "source": [
    "# oof_y[:20]"
   ]
  },
  {
   "cell_type": "code",
   "execution_count": 63,
   "id": "40452124-f33d-491a-ba74-79e8210c5760",
   "metadata": {},
   "outputs": [],
   "source": [
    "# oof_y_restored[:20]"
   ]
  },
  {
   "cell_type": "code",
   "execution_count": 64,
   "id": "a931314f-e2bf-44f2-a1c4-8e10d7fd6f28",
   "metadata": {},
   "outputs": [],
   "source": [
    "# roc_auc_score(y_score=oof_lv1['lgb1983'], y_true=oof_y_restored) # 0.8564776078917813 from fixed version, via `regenerate_targets`"
   ]
  },
  {
   "cell_type": "markdown",
   "id": "743826bf-29a1-47d0-9977-5be8e5e8f1cb",
   "metadata": {},
   "source": [
    "There we go"
   ]
  },
  {
   "cell_type": "code",
   "execution_count": 65,
   "id": "7f50a5de-5fba-43de-afa6-d450a0938d75",
   "metadata": {},
   "outputs": [],
   "source": [
    "# dump(oof_y_restored, predpath/f\"{exmodel_config['kfolds']}folds_rs{SEED}_oof_y.joblib\")"
   ]
  },
  {
   "cell_type": "code",
   "execution_count": 66,
   "id": "c2ae0b11-b95d-43d5-b4dc-5dd6f54e1290",
   "metadata": {},
   "outputs": [],
   "source": [
    "# oof_lv1.index.name = 'id'\n",
    "# test_lv1.index.name = 'id'\n",
    "# oof_y.index.name = 'id'\n",
    "oof_lv1 = np.array(oof_lv1)\n",
    "test_lv1 = np.array(test_lv1)\n",
    "oof_y = np.array(oof_y)"
   ]
  },
  {
   "cell_type": "markdown",
   "id": "368e3ba4-981d-4a86-b181-66a43aed8285",
   "metadata": {},
   "source": [
    "## Level Two"
   ]
  },
  {
   "cell_type": "code",
   "execution_count": 67,
   "id": "5ea5ac76-c5ab-4ae7-8e56-2eaf2f52f4d7",
   "metadata": {},
   "outputs": [],
   "source": [
    "oof_lv2, test_lv2 = pd.DataFrame(), pd.DataFrame()"
   ]
  },
  {
   "cell_type": "code",
   "execution_count": 68,
   "id": "aa61d2f0-a14f-4192-8d75-29899946b686",
   "metadata": {
    "tags": []
   },
   "outputs": [
    {
     "name": "stdout",
     "output_type": "stream",
     "text": [
      "FOLD 0\n",
      "---------------------------------------------------\n"
     ]
    },
    {
     "name": "stderr",
     "output_type": "stream",
     "text": [
      "/home/sf/anaconda3/envs/tabular-x/lib/python3.8/site-packages/xgboost/sklearn.py:1146: UserWarning: The use of label encoder in XGBClassifier is deprecated and will be removed in a future release. To remove this warning, do the following: 1) Pass option use_label_encoder=False when constructing XGBClassifier object; and 2) Encode your labels (y) as integers starting with 0, i.e. 0, 1, 2, ..., [num_class - 1].\n",
      "  warnings.warn(label_encoder_deprecation_msg, UserWarning)\n"
     ]
    },
    {
     "name": "stdout",
     "output_type": "stream",
     "text": [
      "[09:00:50] WARNING: ../src/learner.cc:1095: Starting in XGBoost 1.3.0, the default evaluation metric used with the objective 'binary:logistic' was changed from 'error' to 'logloss'. Explicitly set eval_metric if you'd like to restore the old behavior.\n",
      "Valid AUC for fold 0 is 0.8577427281958522\n",
      "FOLD 1\n",
      "---------------------------------------------------\n",
      "[09:00:57] WARNING: ../src/learner.cc:1095: Starting in XGBoost 1.3.0, the default evaluation metric used with the objective 'binary:logistic' was changed from 'error' to 'logloss'. Explicitly set eval_metric if you'd like to restore the old behavior.\n"
     ]
    },
    {
     "name": "stderr",
     "output_type": "stream",
     "text": [
      "/home/sf/anaconda3/envs/tabular-x/lib/python3.8/site-packages/xgboost/sklearn.py:1146: UserWarning: The use of label encoder in XGBClassifier is deprecated and will be removed in a future release. To remove this warning, do the following: 1) Pass option use_label_encoder=False when constructing XGBClassifier object; and 2) Encode your labels (y) as integers starting with 0, i.e. 0, 1, 2, ..., [num_class - 1].\n",
      "  warnings.warn(label_encoder_deprecation_msg, UserWarning)\n"
     ]
    },
    {
     "name": "stdout",
     "output_type": "stream",
     "text": [
      "Valid AUC for fold 1 is 0.8565516419017944\n",
      "FOLD 2\n",
      "---------------------------------------------------\n"
     ]
    },
    {
     "name": "stderr",
     "output_type": "stream",
     "text": [
      "/home/sf/anaconda3/envs/tabular-x/lib/python3.8/site-packages/xgboost/sklearn.py:1146: UserWarning: The use of label encoder in XGBClassifier is deprecated and will be removed in a future release. To remove this warning, do the following: 1) Pass option use_label_encoder=False when constructing XGBClassifier object; and 2) Encode your labels (y) as integers starting with 0, i.e. 0, 1, 2, ..., [num_class - 1].\n",
      "  warnings.warn(label_encoder_deprecation_msg, UserWarning)\n"
     ]
    },
    {
     "name": "stdout",
     "output_type": "stream",
     "text": [
      "[09:01:04] WARNING: ../src/learner.cc:1095: Starting in XGBoost 1.3.0, the default evaluation metric used with the objective 'binary:logistic' was changed from 'error' to 'logloss'. Explicitly set eval_metric if you'd like to restore the old behavior.\n",
      "Valid AUC for fold 2 is 0.8575551351971921\n",
      "FOLD 3\n",
      "---------------------------------------------------\n"
     ]
    },
    {
     "name": "stderr",
     "output_type": "stream",
     "text": [
      "/home/sf/anaconda3/envs/tabular-x/lib/python3.8/site-packages/xgboost/sklearn.py:1146: UserWarning: The use of label encoder in XGBClassifier is deprecated and will be removed in a future release. To remove this warning, do the following: 1) Pass option use_label_encoder=False when constructing XGBClassifier object; and 2) Encode your labels (y) as integers starting with 0, i.e. 0, 1, 2, ..., [num_class - 1].\n",
      "  warnings.warn(label_encoder_deprecation_msg, UserWarning)\n"
     ]
    },
    {
     "name": "stdout",
     "output_type": "stream",
     "text": [
      "[09:01:11] WARNING: ../src/learner.cc:1095: Starting in XGBoost 1.3.0, the default evaluation metric used with the objective 'binary:logistic' was changed from 'error' to 'logloss'. Explicitly set eval_metric if you'd like to restore the old behavior.\n",
      "Valid AUC for fold 3 is 0.8564731702202979\n",
      "FOLD 4\n",
      "---------------------------------------------------\n"
     ]
    },
    {
     "name": "stderr",
     "output_type": "stream",
     "text": [
      "/home/sf/anaconda3/envs/tabular-x/lib/python3.8/site-packages/xgboost/sklearn.py:1146: UserWarning: The use of label encoder in XGBClassifier is deprecated and will be removed in a future release. To remove this warning, do the following: 1) Pass option use_label_encoder=False when constructing XGBClassifier object; and 2) Encode your labels (y) as integers starting with 0, i.e. 0, 1, 2, ..., [num_class - 1].\n",
      "  warnings.warn(label_encoder_deprecation_msg, UserWarning)\n"
     ]
    },
    {
     "name": "stdout",
     "output_type": "stream",
     "text": [
      "[09:01:19] WARNING: ../src/learner.cc:1095: Starting in XGBoost 1.3.0, the default evaluation metric used with the objective 'binary:logistic' was changed from 'error' to 'logloss'. Explicitly set eval_metric if you'd like to restore the old behavior.\n",
      "Valid AUC for fold 4 is 0.8571096691431971\n",
      "Valid AUC score for xgboost model is 0.8570541181062197\n"
     ]
    },
    {
     "data": {
      "text/plain": [
       "['/home/sf/code/kaggle/tabular_playgrounds/oct2021/preds/stacking_manual_20211007_090049_test_lv2_xgboost42_preds.joblib']"
      ]
     },
     "execution_count": 68,
     "metadata": {},
     "output_type": "execute_result"
    }
   ],
   "source": [
    "oof_lv2_xgb42, test_lv2_xgb42 = cross_validate_model(library='xgboost', X=oof_lv1, y=oof_y, X_test=test_lv1, \n",
    "                                         wandb_config=wandb_config,\n",
    "                                         random_state=42,\n",
    "                                         params=best_xgboost_params,\n",
    "                                         exmodel_config=exmodel_config, \n",
    "                                         shuffle_kfolds=False,\n",
    "                                         wandb_tracked=False\n",
    "                                        )\n",
    "\n",
    "dump(oof_lv2_xgb42, predpath/f\"{wandb_config['name']}_oof_lv2_xgboost42_preds.joblib\")\n",
    "dump(test_lv2_xgb42, predpath/f\"{wandb_config['name']}_test_lv2_xgboost42_preds.joblib\")\n",
    "\n"
   ]
  },
  {
   "cell_type": "code",
   "execution_count": 86,
   "id": "00db765d-db36-4c90-858b-bc8708cf9331",
   "metadata": {},
   "outputs": [],
   "source": [
    "# oof_xgb_f0_rs1983 = load('/media/sf/easystore/kaggle_data/tabular_playgrounds/sep2021/models/stacking_manual_20210926_211701_xgboost_5folds/xgboost_fold0_model.joblib')\n",
    "# oof_xgb_f0_rs42 = load('/media/sf/easystore/kaggle_data/tabular_playgrounds/sep2021/models/stacking_manual_20210925_212129_xgboost_5folds/xgboost_fold0_model.joblib')"
   ]
  },
  {
   "cell_type": "code",
   "execution_count": 69,
   "id": "bf9ac76c-cafa-4831-b856-37663b4ec276",
   "metadata": {
    "tags": []
   },
   "outputs": [
    {
     "name": "stdout",
     "output_type": "stream",
     "text": [
      "FOLD 0\n",
      "---------------------------------------------------\n",
      "Valid AUC for fold 0 is 0.8572159900369503\n",
      "FOLD 1\n",
      "---------------------------------------------------\n",
      "Valid AUC for fold 1 is 0.8559240557952442\n",
      "FOLD 2\n",
      "---------------------------------------------------\n",
      "Valid AUC for fold 2 is 0.8567886107274432\n",
      "FOLD 3\n",
      "---------------------------------------------------\n",
      "Valid AUC for fold 3 is 0.8559019607016785\n",
      "FOLD 4\n",
      "---------------------------------------------------\n",
      "Valid AUC for fold 4 is 0.8565890660275637\n",
      "Valid AUC score for catboost model is 0.8564641307811006\n"
     ]
    }
   ],
   "source": [
    "oof_lv2_cat42, test_lv2_cat42 = cross_validate_model(library='catboost', X=oof_lv1, y=oof_y, X_test=test_lv1, \n",
    "                                         wandb_config=wandb_config,\n",
    "                                         random_state=42,\n",
    "                                         params=best_catboost_params,\n",
    "                                         exmodel_config=exmodel_config, \n",
    "                                         shuffle_kfolds=False,\n",
    "                                         wandb_tracked=False\n",
    "                                        )"
   ]
  },
  {
   "cell_type": "code",
   "execution_count": 70,
   "id": "4b9ca079-d826-4991-8377-3bd3988b3fdd",
   "metadata": {},
   "outputs": [
    {
     "data": {
      "text/plain": [
       "['/home/sf/code/kaggle/tabular_playgrounds/oct2021/preds/stacking_manual_20211007_090049_test_lv2_catboost42_preds.joblib']"
      ]
     },
     "execution_count": 70,
     "metadata": {},
     "output_type": "execute_result"
    }
   ],
   "source": [
    "dump(oof_lv2_cat42, predpath/f\"{wandb_config['name']}_oof_lv2_catboost42_preds.joblib\")\n",
    "dump(test_lv2_cat42, predpath/f\"{wandb_config['name']}_test_lv2_catboost42_preds.joblib\")"
   ]
  },
  {
   "cell_type": "code",
   "execution_count": 71,
   "id": "cf17be39-6ef1-4387-b1d2-e1ffa677093f",
   "metadata": {
    "tags": []
   },
   "outputs": [
    {
     "name": "stdout",
     "output_type": "stream",
     "text": [
      "FOLD 0\n",
      "---------------------------------------------------\n",
      "Valid AUC for fold 0 is 0.8574483244908767\n",
      "FOLD 1\n",
      "---------------------------------------------------\n",
      "Valid AUC for fold 1 is 0.8561490621563106\n",
      "FOLD 2\n",
      "---------------------------------------------------\n",
      "Valid AUC for fold 2 is 0.857065644379147\n",
      "FOLD 3\n",
      "---------------------------------------------------\n",
      "Valid AUC for fold 3 is 0.8560182339581358\n",
      "FOLD 4\n",
      "---------------------------------------------------\n",
      "Valid AUC for fold 4 is 0.8566463516160483\n",
      "Valid AUC score for lightgbm model is 0.856643282991665\n"
     ]
    }
   ],
   "source": [
    "\n",
    "oof_lv2_lgb42, test_lv2_lgb42 = cross_validate_model(library='lightgbm', X=oof_lv1, y=oof_y, X_test=test_lv1, \n",
    "                                         wandb_config=wandb_config,\n",
    "                                         random_state=42,\n",
    "                                         params=best_lightgbm_params,\n",
    "                                         exmodel_config=exmodel_config,\n",
    "                                         shuffle_kfolds=False,\n",
    "                                         wandb_tracked=False\n",
    "                                        )"
   ]
  },
  {
   "cell_type": "code",
   "execution_count": 72,
   "id": "9a7ef2ec-4539-4aaa-8a87-ce76eb8be564",
   "metadata": {},
   "outputs": [
    {
     "data": {
      "text/plain": [
       "['/home/sf/code/kaggle/tabular_playgrounds/oct2021/preds/stacking_manual_20211007_090049_test_lv2_lightgbm42_preds.joblib']"
      ]
     },
     "execution_count": 72,
     "metadata": {},
     "output_type": "execute_result"
    }
   ],
   "source": [
    "dump(oof_lv2_lgb42, predpath/f\"{wandb_config['name']}_oof_lv2_lightgbm42_preds.joblib\")\n",
    "dump(test_lv2_lgb42, predpath/f\"{wandb_config['name']}_test_lv2_lightgbm42_preds.joblib\")"
   ]
  },
  {
   "cell_type": "code",
   "execution_count": 73,
   "id": "37f14d99-2917-4624-8e58-78818820750a",
   "metadata": {},
   "outputs": [],
   "source": [
    "oof_lv2['xgboost'] = oof_lv2_xgb42\n",
    "oof_lv2['catboost'] = oof_lv2_cat42\n",
    "oof_lv2['lightgbm'] = oof_lv2_lgb42\n",
    "\n",
    "test_lv2['xgboost'] = test_lv2_xgb42\n",
    "test_lv2['catboost'] = test_lv2_cat42\n",
    "test_lv2['lightgbm'] = test_lv2_lgb42"
   ]
  },
  {
   "cell_type": "code",
   "execution_count": 74,
   "id": "4bf889a0-175d-4564-a80c-4a3476aeffc4",
   "metadata": {},
   "outputs": [
    {
     "data": {
      "text/html": [
       "<div>\n",
       "<style scoped>\n",
       "    .dataframe tbody tr th:only-of-type {\n",
       "        vertical-align: middle;\n",
       "    }\n",
       "\n",
       "    .dataframe tbody tr th {\n",
       "        vertical-align: top;\n",
       "    }\n",
       "\n",
       "    .dataframe thead th {\n",
       "        text-align: right;\n",
       "    }\n",
       "</style>\n",
       "<table border=\"1\" class=\"dataframe\">\n",
       "  <thead>\n",
       "    <tr style=\"text-align: right;\">\n",
       "      <th></th>\n",
       "      <th>xgboost</th>\n",
       "      <th>catboost</th>\n",
       "      <th>lightgbm</th>\n",
       "    </tr>\n",
       "  </thead>\n",
       "  <tbody>\n",
       "    <tr>\n",
       "      <th>0</th>\n",
       "      <td>0.614155</td>\n",
       "      <td>0.617215</td>\n",
       "      <td>0.634170</td>\n",
       "    </tr>\n",
       "    <tr>\n",
       "      <th>1</th>\n",
       "      <td>0.998927</td>\n",
       "      <td>0.998443</td>\n",
       "      <td>0.999385</td>\n",
       "    </tr>\n",
       "    <tr>\n",
       "      <th>2</th>\n",
       "      <td>0.686394</td>\n",
       "      <td>0.692972</td>\n",
       "      <td>0.667627</td>\n",
       "    </tr>\n",
       "    <tr>\n",
       "      <th>3</th>\n",
       "      <td>0.319027</td>\n",
       "      <td>0.289597</td>\n",
       "      <td>0.310626</td>\n",
       "    </tr>\n",
       "    <tr>\n",
       "      <th>4</th>\n",
       "      <td>0.026663</td>\n",
       "      <td>0.025563</td>\n",
       "      <td>0.027615</td>\n",
       "    </tr>\n",
       "  </tbody>\n",
       "</table>\n",
       "</div>"
      ],
      "text/plain": [
       "    xgboost  catboost  lightgbm\n",
       "0  0.614155  0.617215  0.634170\n",
       "1  0.998927  0.998443  0.999385\n",
       "2  0.686394  0.692972  0.667627\n",
       "3  0.319027  0.289597  0.310626\n",
       "4  0.026663  0.025563  0.027615"
      ]
     },
     "execution_count": 74,
     "metadata": {},
     "output_type": "execute_result"
    }
   ],
   "source": [
    "oof_lv2.head()"
   ]
  },
  {
   "cell_type": "code",
   "execution_count": 94,
   "id": "b970e9c3-b3de-42b5-8d8b-c17832ecd339",
   "metadata": {},
   "outputs": [],
   "source": [
    "# oof_lv1_df = pd.read_feather(predpath/f\"{wandb_config['name']}_oof_lv1.feather)"
   ]
  },
  {
   "cell_type": "code",
   "execution_count": 75,
   "id": "22f4d4e2-9174-4006-a5f7-47f42a2f5757",
   "metadata": {},
   "outputs": [],
   "source": [
    "oof_lv1 = pd.DataFrame(oof_lv1)"
   ]
  },
  {
   "cell_type": "code",
   "execution_count": 76,
   "id": "7debcf3f-872c-42fb-9945-3b6b54eb9c76",
   "metadata": {},
   "outputs": [
    {
     "data": {
      "text/html": [
       "<div>\n",
       "<style scoped>\n",
       "    .dataframe tbody tr th:only-of-type {\n",
       "        vertical-align: middle;\n",
       "    }\n",
       "\n",
       "    .dataframe tbody tr th {\n",
       "        vertical-align: top;\n",
       "    }\n",
       "\n",
       "    .dataframe thead th {\n",
       "        text-align: right;\n",
       "    }\n",
       "</style>\n",
       "<table border=\"1\" class=\"dataframe\">\n",
       "  <thead>\n",
       "    <tr style=\"text-align: right;\">\n",
       "      <th></th>\n",
       "      <th>0</th>\n",
       "      <th>1</th>\n",
       "      <th>2</th>\n",
       "      <th>3</th>\n",
       "      <th>4</th>\n",
       "      <th>5</th>\n",
       "    </tr>\n",
       "  </thead>\n",
       "  <tbody>\n",
       "    <tr>\n",
       "      <th>0</th>\n",
       "      <td>0.651299</td>\n",
       "      <td>0.642872</td>\n",
       "      <td>0.637863</td>\n",
       "      <td>0.629671</td>\n",
       "      <td>0.666962</td>\n",
       "      <td>0.627152</td>\n",
       "    </tr>\n",
       "    <tr>\n",
       "      <th>1</th>\n",
       "      <td>0.979994</td>\n",
       "      <td>0.978403</td>\n",
       "      <td>0.978872</td>\n",
       "      <td>0.978188</td>\n",
       "      <td>0.976313</td>\n",
       "      <td>0.975591</td>\n",
       "    </tr>\n",
       "    <tr>\n",
       "      <th>2</th>\n",
       "      <td>0.727006</td>\n",
       "      <td>0.717471</td>\n",
       "      <td>0.695742</td>\n",
       "      <td>0.758795</td>\n",
       "      <td>0.670068</td>\n",
       "      <td>0.674095</td>\n",
       "    </tr>\n",
       "    <tr>\n",
       "      <th>3</th>\n",
       "      <td>0.307745</td>\n",
       "      <td>0.322052</td>\n",
       "      <td>0.281502</td>\n",
       "      <td>0.280899</td>\n",
       "      <td>0.321891</td>\n",
       "      <td>0.294775</td>\n",
       "    </tr>\n",
       "    <tr>\n",
       "      <th>4</th>\n",
       "      <td>0.085114</td>\n",
       "      <td>0.088160</td>\n",
       "      <td>0.061077</td>\n",
       "      <td>0.062779</td>\n",
       "      <td>0.071851</td>\n",
       "      <td>0.069561</td>\n",
       "    </tr>\n",
       "  </tbody>\n",
       "</table>\n",
       "</div>"
      ],
      "text/plain": [
       "          0         1         2         3         4         5\n",
       "0  0.651299  0.642872  0.637863  0.629671  0.666962  0.627152\n",
       "1  0.979994  0.978403  0.978872  0.978188  0.976313  0.975591\n",
       "2  0.727006  0.717471  0.695742  0.758795  0.670068  0.674095\n",
       "3  0.307745  0.322052  0.281502  0.280899  0.321891  0.294775\n",
       "4  0.085114  0.088160  0.061077  0.062779  0.071851  0.069561"
      ]
     },
     "execution_count": 76,
     "metadata": {},
     "output_type": "execute_result"
    }
   ],
   "source": [
    "oof_lv1.head()"
   ]
  },
  {
   "cell_type": "code",
   "execution_count": 77,
   "id": "4a241171-9b43-4205-9156-320687251c8f",
   "metadata": {},
   "outputs": [],
   "source": [
    "oof_lv2_full = oof_lv2.join(oof_lv1)"
   ]
  },
  {
   "cell_type": "code",
   "execution_count": 78,
   "id": "9dbae0dc-79e9-421b-a9ea-a37cb5b17b96",
   "metadata": {},
   "outputs": [
    {
     "data": {
      "text/html": [
       "<div>\n",
       "<style scoped>\n",
       "    .dataframe tbody tr th:only-of-type {\n",
       "        vertical-align: middle;\n",
       "    }\n",
       "\n",
       "    .dataframe tbody tr th {\n",
       "        vertical-align: top;\n",
       "    }\n",
       "\n",
       "    .dataframe thead th {\n",
       "        text-align: right;\n",
       "    }\n",
       "</style>\n",
       "<table border=\"1\" class=\"dataframe\">\n",
       "  <thead>\n",
       "    <tr style=\"text-align: right;\">\n",
       "      <th></th>\n",
       "      <th>xgboost</th>\n",
       "      <th>catboost</th>\n",
       "      <th>lightgbm</th>\n",
       "      <th>0</th>\n",
       "      <th>1</th>\n",
       "      <th>2</th>\n",
       "      <th>3</th>\n",
       "      <th>4</th>\n",
       "      <th>5</th>\n",
       "    </tr>\n",
       "  </thead>\n",
       "  <tbody>\n",
       "    <tr>\n",
       "      <th>0</th>\n",
       "      <td>0.614155</td>\n",
       "      <td>0.617215</td>\n",
       "      <td>0.634170</td>\n",
       "      <td>0.651299</td>\n",
       "      <td>0.642872</td>\n",
       "      <td>0.637863</td>\n",
       "      <td>0.629671</td>\n",
       "      <td>0.666962</td>\n",
       "      <td>0.627152</td>\n",
       "    </tr>\n",
       "    <tr>\n",
       "      <th>1</th>\n",
       "      <td>0.998927</td>\n",
       "      <td>0.998443</td>\n",
       "      <td>0.999385</td>\n",
       "      <td>0.979994</td>\n",
       "      <td>0.978403</td>\n",
       "      <td>0.978872</td>\n",
       "      <td>0.978188</td>\n",
       "      <td>0.976313</td>\n",
       "      <td>0.975591</td>\n",
       "    </tr>\n",
       "    <tr>\n",
       "      <th>2</th>\n",
       "      <td>0.686394</td>\n",
       "      <td>0.692972</td>\n",
       "      <td>0.667627</td>\n",
       "      <td>0.727006</td>\n",
       "      <td>0.717471</td>\n",
       "      <td>0.695742</td>\n",
       "      <td>0.758795</td>\n",
       "      <td>0.670068</td>\n",
       "      <td>0.674095</td>\n",
       "    </tr>\n",
       "    <tr>\n",
       "      <th>3</th>\n",
       "      <td>0.319027</td>\n",
       "      <td>0.289597</td>\n",
       "      <td>0.310626</td>\n",
       "      <td>0.307745</td>\n",
       "      <td>0.322052</td>\n",
       "      <td>0.281502</td>\n",
       "      <td>0.280899</td>\n",
       "      <td>0.321891</td>\n",
       "      <td>0.294775</td>\n",
       "    </tr>\n",
       "    <tr>\n",
       "      <th>4</th>\n",
       "      <td>0.026663</td>\n",
       "      <td>0.025563</td>\n",
       "      <td>0.027615</td>\n",
       "      <td>0.085114</td>\n",
       "      <td>0.088160</td>\n",
       "      <td>0.061077</td>\n",
       "      <td>0.062779</td>\n",
       "      <td>0.071851</td>\n",
       "      <td>0.069561</td>\n",
       "    </tr>\n",
       "  </tbody>\n",
       "</table>\n",
       "</div>"
      ],
      "text/plain": [
       "    xgboost  catboost  lightgbm         0         1         2         3  \\\n",
       "0  0.614155  0.617215  0.634170  0.651299  0.642872  0.637863  0.629671   \n",
       "1  0.998927  0.998443  0.999385  0.979994  0.978403  0.978872  0.978188   \n",
       "2  0.686394  0.692972  0.667627  0.727006  0.717471  0.695742  0.758795   \n",
       "3  0.319027  0.289597  0.310626  0.307745  0.322052  0.281502  0.280899   \n",
       "4  0.026663  0.025563  0.027615  0.085114  0.088160  0.061077  0.062779   \n",
       "\n",
       "          4         5  \n",
       "0  0.666962  0.627152  \n",
       "1  0.976313  0.975591  \n",
       "2  0.670068  0.674095  \n",
       "3  0.321891  0.294775  \n",
       "4  0.071851  0.069561  "
      ]
     },
     "execution_count": 78,
     "metadata": {},
     "output_type": "execute_result"
    }
   ],
   "source": [
    "oof_lv2_full.head()"
   ]
  },
  {
   "cell_type": "code",
   "execution_count": 79,
   "id": "6e641d5b-2750-4e33-90c6-8d8481ca09cf",
   "metadata": {},
   "outputs": [],
   "source": [
    "test_lv1 = pd.DataFrame(test_lv1)"
   ]
  },
  {
   "cell_type": "code",
   "execution_count": 81,
   "id": "10359662-c105-477e-8c5b-8b82a4d51648",
   "metadata": {},
   "outputs": [
    {
     "data": {
      "text/html": [
       "<div>\n",
       "<style scoped>\n",
       "    .dataframe tbody tr th:only-of-type {\n",
       "        vertical-align: middle;\n",
       "    }\n",
       "\n",
       "    .dataframe tbody tr th {\n",
       "        vertical-align: top;\n",
       "    }\n",
       "\n",
       "    .dataframe thead th {\n",
       "        text-align: right;\n",
       "    }\n",
       "</style>\n",
       "<table border=\"1\" class=\"dataframe\">\n",
       "  <thead>\n",
       "    <tr style=\"text-align: right;\">\n",
       "      <th></th>\n",
       "      <th>0</th>\n",
       "      <th>1</th>\n",
       "      <th>2</th>\n",
       "      <th>3</th>\n",
       "      <th>4</th>\n",
       "      <th>5</th>\n",
       "    </tr>\n",
       "  </thead>\n",
       "  <tbody>\n",
       "    <tr>\n",
       "      <th>0</th>\n",
       "      <td>0.716279</td>\n",
       "      <td>0.707717</td>\n",
       "      <td>0.742959</td>\n",
       "      <td>0.729703</td>\n",
       "      <td>0.744670</td>\n",
       "      <td>0.742503</td>\n",
       "    </tr>\n",
       "    <tr>\n",
       "      <th>1</th>\n",
       "      <td>0.227226</td>\n",
       "      <td>0.228462</td>\n",
       "      <td>0.236283</td>\n",
       "      <td>0.238824</td>\n",
       "      <td>0.255078</td>\n",
       "      <td>0.263515</td>\n",
       "    </tr>\n",
       "    <tr>\n",
       "      <th>2</th>\n",
       "      <td>0.907678</td>\n",
       "      <td>0.903571</td>\n",
       "      <td>0.908473</td>\n",
       "      <td>0.910906</td>\n",
       "      <td>0.903481</td>\n",
       "      <td>0.909820</td>\n",
       "    </tr>\n",
       "    <tr>\n",
       "      <th>3</th>\n",
       "      <td>0.812557</td>\n",
       "      <td>0.805153</td>\n",
       "      <td>0.844619</td>\n",
       "      <td>0.846002</td>\n",
       "      <td>0.860360</td>\n",
       "      <td>0.861400</td>\n",
       "    </tr>\n",
       "    <tr>\n",
       "      <th>4</th>\n",
       "      <td>0.282562</td>\n",
       "      <td>0.276703</td>\n",
       "      <td>0.267734</td>\n",
       "      <td>0.265967</td>\n",
       "      <td>0.262067</td>\n",
       "      <td>0.261821</td>\n",
       "    </tr>\n",
       "  </tbody>\n",
       "</table>\n",
       "</div>"
      ],
      "text/plain": [
       "          0         1         2         3         4         5\n",
       "0  0.716279  0.707717  0.742959  0.729703  0.744670  0.742503\n",
       "1  0.227226  0.228462  0.236283  0.238824  0.255078  0.263515\n",
       "2  0.907678  0.903571  0.908473  0.910906  0.903481  0.909820\n",
       "3  0.812557  0.805153  0.844619  0.846002  0.860360  0.861400\n",
       "4  0.282562  0.276703  0.267734  0.265967  0.262067  0.261821"
      ]
     },
     "execution_count": 81,
     "metadata": {},
     "output_type": "execute_result"
    }
   ],
   "source": [
    "test_lv1.head()"
   ]
  },
  {
   "cell_type": "code",
   "execution_count": 80,
   "id": "5a7a3d8c-4684-4f40-84f7-940a6a485d1a",
   "metadata": {},
   "outputs": [],
   "source": [
    "test_lv2_full = test_lv2.join(test_lv1)"
   ]
  },
  {
   "cell_type": "code",
   "execution_count": 84,
   "id": "6116488d-bda5-43b0-bb4f-f6cfd2c96156",
   "metadata": {},
   "outputs": [
    {
     "data": {
      "text/html": [
       "<div>\n",
       "<style scoped>\n",
       "    .dataframe tbody tr th:only-of-type {\n",
       "        vertical-align: middle;\n",
       "    }\n",
       "\n",
       "    .dataframe tbody tr th {\n",
       "        vertical-align: top;\n",
       "    }\n",
       "\n",
       "    .dataframe thead th {\n",
       "        text-align: right;\n",
       "    }\n",
       "</style>\n",
       "<table border=\"1\" class=\"dataframe\">\n",
       "  <thead>\n",
       "    <tr style=\"text-align: right;\">\n",
       "      <th></th>\n",
       "      <th>xgboost</th>\n",
       "      <th>catboost</th>\n",
       "      <th>lightgbm</th>\n",
       "      <th>0</th>\n",
       "      <th>1</th>\n",
       "      <th>2</th>\n",
       "      <th>3</th>\n",
       "      <th>4</th>\n",
       "      <th>5</th>\n",
       "    </tr>\n",
       "  </thead>\n",
       "  <tbody>\n",
       "    <tr>\n",
       "      <th>0</th>\n",
       "      <td>0.694318</td>\n",
       "      <td>0.697371</td>\n",
       "      <td>0.705418</td>\n",
       "      <td>0.716279</td>\n",
       "      <td>0.707717</td>\n",
       "      <td>0.742959</td>\n",
       "      <td>0.729703</td>\n",
       "      <td>0.744670</td>\n",
       "      <td>0.742503</td>\n",
       "    </tr>\n",
       "    <tr>\n",
       "      <th>1</th>\n",
       "      <td>0.267525</td>\n",
       "      <td>0.281691</td>\n",
       "      <td>0.260385</td>\n",
       "      <td>0.227226</td>\n",
       "      <td>0.228462</td>\n",
       "      <td>0.236283</td>\n",
       "      <td>0.238824</td>\n",
       "      <td>0.255078</td>\n",
       "      <td>0.263515</td>\n",
       "    </tr>\n",
       "    <tr>\n",
       "      <th>2</th>\n",
       "      <td>0.924377</td>\n",
       "      <td>0.923829</td>\n",
       "      <td>0.923024</td>\n",
       "      <td>0.907678</td>\n",
       "      <td>0.903571</td>\n",
       "      <td>0.908473</td>\n",
       "      <td>0.910906</td>\n",
       "      <td>0.903481</td>\n",
       "      <td>0.909820</td>\n",
       "    </tr>\n",
       "    <tr>\n",
       "      <th>3</th>\n",
       "      <td>0.808858</td>\n",
       "      <td>0.827925</td>\n",
       "      <td>0.808630</td>\n",
       "      <td>0.812557</td>\n",
       "      <td>0.805153</td>\n",
       "      <td>0.844619</td>\n",
       "      <td>0.846002</td>\n",
       "      <td>0.860360</td>\n",
       "      <td>0.861400</td>\n",
       "    </tr>\n",
       "    <tr>\n",
       "      <th>4</th>\n",
       "      <td>0.299034</td>\n",
       "      <td>0.299697</td>\n",
       "      <td>0.316689</td>\n",
       "      <td>0.282562</td>\n",
       "      <td>0.276703</td>\n",
       "      <td>0.267734</td>\n",
       "      <td>0.265967</td>\n",
       "      <td>0.262067</td>\n",
       "      <td>0.261821</td>\n",
       "    </tr>\n",
       "  </tbody>\n",
       "</table>\n",
       "</div>"
      ],
      "text/plain": [
       "    xgboost  catboost  lightgbm         0         1         2         3  \\\n",
       "0  0.694318  0.697371  0.705418  0.716279  0.707717  0.742959  0.729703   \n",
       "1  0.267525  0.281691  0.260385  0.227226  0.228462  0.236283  0.238824   \n",
       "2  0.924377  0.923829  0.923024  0.907678  0.903571  0.908473  0.910906   \n",
       "3  0.808858  0.827925  0.808630  0.812557  0.805153  0.844619  0.846002   \n",
       "4  0.299034  0.299697  0.316689  0.282562  0.276703  0.267734  0.265967   \n",
       "\n",
       "          4         5  \n",
       "0  0.744670  0.742503  \n",
       "1  0.255078  0.263515  \n",
       "2  0.903481  0.909820  \n",
       "3  0.860360  0.861400  \n",
       "4  0.262067  0.261821  "
      ]
     },
     "execution_count": 84,
     "metadata": {},
     "output_type": "execute_result"
    }
   ],
   "source": [
    "test_lv2_full.head()"
   ]
  },
  {
   "cell_type": "code",
   "execution_count": 85,
   "id": "90b20494-95d6-4240-8a0d-b54de622b347",
   "metadata": {},
   "outputs": [
    {
     "data": {
      "text/html": [
       "<div>\n",
       "<style scoped>\n",
       "    .dataframe tbody tr th:only-of-type {\n",
       "        vertical-align: middle;\n",
       "    }\n",
       "\n",
       "    .dataframe tbody tr th {\n",
       "        vertical-align: top;\n",
       "    }\n",
       "\n",
       "    .dataframe thead th {\n",
       "        text-align: right;\n",
       "    }\n",
       "</style>\n",
       "<table border=\"1\" class=\"dataframe\">\n",
       "  <thead>\n",
       "    <tr style=\"text-align: right;\">\n",
       "      <th></th>\n",
       "      <th>xgboost</th>\n",
       "      <th>catboost</th>\n",
       "      <th>lightgbm</th>\n",
       "      <th>0</th>\n",
       "      <th>1</th>\n",
       "      <th>2</th>\n",
       "      <th>3</th>\n",
       "      <th>4</th>\n",
       "      <th>5</th>\n",
       "    </tr>\n",
       "  </thead>\n",
       "  <tbody>\n",
       "    <tr>\n",
       "      <th>0</th>\n",
       "      <td>0.614155</td>\n",
       "      <td>0.617215</td>\n",
       "      <td>0.634170</td>\n",
       "      <td>0.651299</td>\n",
       "      <td>0.642872</td>\n",
       "      <td>0.637863</td>\n",
       "      <td>0.629671</td>\n",
       "      <td>0.666962</td>\n",
       "      <td>0.627152</td>\n",
       "    </tr>\n",
       "    <tr>\n",
       "      <th>1</th>\n",
       "      <td>0.998927</td>\n",
       "      <td>0.998443</td>\n",
       "      <td>0.999385</td>\n",
       "      <td>0.979994</td>\n",
       "      <td>0.978403</td>\n",
       "      <td>0.978872</td>\n",
       "      <td>0.978188</td>\n",
       "      <td>0.976313</td>\n",
       "      <td>0.975591</td>\n",
       "    </tr>\n",
       "    <tr>\n",
       "      <th>2</th>\n",
       "      <td>0.686394</td>\n",
       "      <td>0.692972</td>\n",
       "      <td>0.667627</td>\n",
       "      <td>0.727006</td>\n",
       "      <td>0.717471</td>\n",
       "      <td>0.695742</td>\n",
       "      <td>0.758795</td>\n",
       "      <td>0.670068</td>\n",
       "      <td>0.674095</td>\n",
       "    </tr>\n",
       "    <tr>\n",
       "      <th>3</th>\n",
       "      <td>0.319027</td>\n",
       "      <td>0.289597</td>\n",
       "      <td>0.310626</td>\n",
       "      <td>0.307745</td>\n",
       "      <td>0.322052</td>\n",
       "      <td>0.281502</td>\n",
       "      <td>0.280899</td>\n",
       "      <td>0.321891</td>\n",
       "      <td>0.294775</td>\n",
       "    </tr>\n",
       "    <tr>\n",
       "      <th>4</th>\n",
       "      <td>0.026663</td>\n",
       "      <td>0.025563</td>\n",
       "      <td>0.027615</td>\n",
       "      <td>0.085114</td>\n",
       "      <td>0.088160</td>\n",
       "      <td>0.061077</td>\n",
       "      <td>0.062779</td>\n",
       "      <td>0.071851</td>\n",
       "      <td>0.069561</td>\n",
       "    </tr>\n",
       "  </tbody>\n",
       "</table>\n",
       "</div>"
      ],
      "text/plain": [
       "    xgboost  catboost  lightgbm         0         1         2         3  \\\n",
       "0  0.614155  0.617215  0.634170  0.651299  0.642872  0.637863  0.629671   \n",
       "1  0.998927  0.998443  0.999385  0.979994  0.978403  0.978872  0.978188   \n",
       "2  0.686394  0.692972  0.667627  0.727006  0.717471  0.695742  0.758795   \n",
       "3  0.319027  0.289597  0.310626  0.307745  0.322052  0.281502  0.280899   \n",
       "4  0.026663  0.025563  0.027615  0.085114  0.088160  0.061077  0.062779   \n",
       "\n",
       "          4         5  \n",
       "0  0.666962  0.627152  \n",
       "1  0.976313  0.975591  \n",
       "2  0.670068  0.674095  \n",
       "3  0.321891  0.294775  \n",
       "4  0.071851  0.069561  "
      ]
     },
     "execution_count": 85,
     "metadata": {},
     "output_type": "execute_result"
    }
   ],
   "source": [
    "oof_lv2_full.head()"
   ]
  },
  {
   "cell_type": "code",
   "execution_count": 86,
   "id": "83f55d89-4ae1-4397-83ad-388e3d8e697a",
   "metadata": {},
   "outputs": [],
   "source": [
    "oof_lv2_np = oof_lv2_full.to_numpy()\n",
    "test_lv2_np = test_lv2_full.to_numpy()"
   ]
  },
  {
   "cell_type": "code",
   "execution_count": 87,
   "id": "0f5029bd-96d5-4c86-a4f5-1da358456a8a",
   "metadata": {},
   "outputs": [
    {
     "data": {
      "text/plain": [
       "numpy.ndarray"
      ]
     },
     "execution_count": 87,
     "metadata": {},
     "output_type": "execute_result"
    }
   ],
   "source": [
    "type(oof_y)"
   ]
  },
  {
   "cell_type": "code",
   "execution_count": 88,
   "id": "411948c7-bc26-4722-962d-23f56857a961",
   "metadata": {},
   "outputs": [],
   "source": [
    "oof_y_np = oof_y"
   ]
  },
  {
   "cell_type": "markdown",
   "id": "113c6aac-1344-4ee0-b2a2-1580d6c5356d",
   "metadata": {},
   "source": [
    "## Level Three (Logistic Regression)"
   ]
  },
  {
   "cell_type": "code",
   "execution_count": 89,
   "id": "de1db0b1-26d9-440b-864b-63df8aa6fb3b",
   "metadata": {},
   "outputs": [],
   "source": [
    "from sklearn import model_selection"
   ]
  },
  {
   "cell_type": "code",
   "execution_count": 115,
   "id": "18fa300d-2e9b-4fcd-8553-cf3885228bd4",
   "metadata": {},
   "outputs": [],
   "source": [
    "# kfolds = model_selection.StratifiedKFold(n_splits=5, shuffle=False) # no random_state if shuffle == False"
   ]
  },
  {
   "cell_type": "code",
   "execution_count": 90,
   "id": "9ad51e38-ca0f-4e6c-9879-7993a8bd40ea",
   "metadata": {},
   "outputs": [],
   "source": [
    "oof_preds, oof_y = [], []"
   ]
  },
  {
   "cell_type": "code",
   "execution_count": 91,
   "id": "e820c69a-13f3-4ace-a26f-d6e1fb097ef8",
   "metadata": {},
   "outputs": [],
   "source": [
    "test_preds = np.zeros((X_test.shape[0]))"
   ]
  },
  {
   "cell_type": "code",
   "execution_count": 92,
   "id": "8ec5b2ec-8f29-471a-ab7d-d6be861a803c",
   "metadata": {},
   "outputs": [],
   "source": [
    "X = oof_lv2_np\n",
    "y = oof_y_np\n",
    "X_test = test_lv2_np"
   ]
  },
  {
   "cell_type": "code",
   "execution_count": 93,
   "id": "1f6d220b-7f9f-49ea-b3bf-7d477751121c",
   "metadata": {},
   "outputs": [
    {
     "data": {
      "text/plain": [
       "array([[0.61415511, 0.61721529, 0.63417046, 0.651299  , 0.64287168,\n",
       "        0.63786275, 0.62967111, 0.66696191, 0.62715232],\n",
       "       [0.99892658, 0.9984426 , 0.99938534, 0.97999374, 0.97840349,\n",
       "        0.9788715 , 0.97818756, 0.97631311, 0.9755913 ],\n",
       "       [0.68639392, 0.6929717 , 0.66762686, 0.72700594, 0.7174706 ,\n",
       "        0.69574226, 0.75879474, 0.67006797, 0.6740948 ],\n",
       "       [0.31902656, 0.28959721, 0.31062646, 0.30774478, 0.3220523 ,\n",
       "        0.28150182, 0.28089858, 0.32189095, 0.29477474],\n",
       "       [0.02666334, 0.02556273, 0.02761511, 0.08511447, 0.08816023,\n",
       "        0.06107668, 0.06277937, 0.0718514 , 0.06956097],\n",
       "       [0.97694993, 0.97475635, 0.97509055, 0.9323953 , 0.93559867,\n",
       "        0.93508565, 0.93551411, 0.9304139 , 0.93387043],\n",
       "       [0.8160882 , 0.8344056 , 0.81903994, 0.86189195, 0.86211665,\n",
       "        0.83106644, 0.83630092, 0.84129363, 0.83574039],\n",
       "       [0.17341127, 0.16064921, 0.15236738, 0.17739634, 0.17881085,\n",
       "        0.15259177, 0.1563106 , 0.16667581, 0.15861823],\n",
       "       [0.67938554, 0.67818252, 0.67733982, 0.6938801 , 0.70869612,\n",
       "        0.73708065, 0.74989906, 0.71489632, 0.75263572],\n",
       "       [0.81016469, 0.82501989, 0.82006301, 0.80910743, 0.83150938,\n",
       "        0.83840721, 0.85460858, 0.8621344 , 0.85481358]])"
      ]
     },
     "execution_count": 93,
     "metadata": {},
     "output_type": "execute_result"
    }
   ],
   "source": [
    "X[:10]"
   ]
  },
  {
   "cell_type": "code",
   "execution_count": 97,
   "id": "c581a349-a22b-4383-b109-ec87ec9eed8d",
   "metadata": {},
   "outputs": [],
   "source": [
    "library = 'sklearn (LogisticRegressor(max_iter=1000))'\n",
    "# exmodel_config['library'] = library\n",
    "# wandb.init(\n",
    "#     project=\"202110_Kaggle_tabular_playground\",\n",
    "#     save_code=True,\n",
    "#     tags=wandb_config['tags'],\n",
    "#     name=wandb_config['name'],\n",
    "#     notes=wandb_config['notes'],\n",
    "#     config=exmodel_config\n",
    "# )   \n",
    "\n",
    "# prepare for k-fold cross-validation\n",
    "# kfold = exmodel_config['cross_val_strategy'](n_splits=exmodel_config['kfolds'], shuffle=True, random_state=SEED)\n",
    "kfold = exmodel_config['cross_val_strategy'](n_splits=exmodel_config['kfolds'], shuffle=False)\n",
    "\n",
    "# setup for serialization\n",
    "# model_path = Path(datapath/f\"models/{wandb_config['name']}_{library}_{exmodel_config['kfolds']}folds/\")\n",
    "# (model_path).mkdir(exist_ok=True)"
   ]
  },
  {
   "cell_type": "code",
   "execution_count": 96,
   "id": "2eefeecc-3536-482b-9f9c-8a286e3c6c9e",
   "metadata": {},
   "outputs": [
    {
     "name": "stdout",
     "output_type": "stream",
     "text": [
      "Object `kfold` not found.\n"
     ]
    }
   ],
   "source": []
  },
  {
   "cell_type": "code",
   "execution_count": 98,
   "id": "d405ab94-9fe2-4d95-b966-ad02de6f6f85",
   "metadata": {},
   "outputs": [
    {
     "name": "stdout",
     "output_type": "stream",
     "text": [
      "FOLD 0\n",
      "---------------------\n",
      "ROC AUC of fold 0 is 0.8566689495777052\n",
      "FOLD 1\n",
      "---------------------\n",
      "ROC AUC of fold 1 is 0.8555468848050907\n",
      "FOLD 2\n",
      "---------------------\n",
      "ROC AUC of fold 2 is 0.8563984709638027\n",
      "FOLD 3\n",
      "---------------------\n",
      "ROC AUC of fold 3 is 0.8554390028787222\n",
      "FOLD 4\n",
      "---------------------\n",
      "ROC AUC of fold 4 is 0.8560723627656084\n",
      "Overall ROC_AUC is 0.8559699693581441\n"
     ]
    },
    {
     "data": {
      "text/plain": [
       "['/home/sf/code/kaggle/tabular_playgrounds/oct2021/preds/test_lv3_preds.joblib']"
      ]
     },
     "execution_count": 98,
     "metadata": {},
     "output_type": "execute_result"
    }
   ],
   "source": [
    "for fold, (train_idx, valid_idx) in enumerate(kfold.split(X,y)):\n",
    "    X_train, X_valid = X[train_idx], X[valid_idx]\n",
    "    y_train, y_valid = y[train_idx], y[valid_idx]\n",
    "    \n",
    "    print(f\"FOLD {fold}\")\n",
    "    print(\"---------------------\")\n",
    "    \n",
    "    model = LogisticRegression(max_iter=1000)\n",
    "    \n",
    "    model.fit(X_train, y_train)\n",
    "    preds = model.predict_proba(X_valid)[:,1]\n",
    "    \n",
    "    oof_preds.extend(preds)\n",
    "    oof_y.extend(y_valid)\n",
    "    \n",
    "    test_preds += model.predict_proba(X_test)[:,1]\n",
    "    \n",
    "    valid_auc = roc_auc_score(y_valid, preds)\n",
    "    print(f\"ROC AUC of fold {fold} is {valid_auc}\")\n",
    "    \n",
    "#     dump(preds, /'lv_3)\n",
    "\n",
    "valid_auc_total = roc_auc_score(oof_y, oof_preds)\n",
    "print(f\"Overall ROC_AUC is {valid_auc_total}\")\n",
    "\n",
    "dump(oof_preds, predpath/'oof_lv3_preds.joblib')\n",
    "dump(oof_y, predpath/'oof_lv3_y.joblib')\n",
    "\n",
    "test_preds /= 5\n",
    "\n",
    "dump(test_preds, predpath/'test_lv3_preds.joblib')"
   ]
  },
  {
   "cell_type": "code",
   "execution_count": null,
   "id": "9a99cf5b-3477-47f4-9391-73e2ff93c7d1",
   "metadata": {},
   "outputs": [],
   "source": [
    "# X_test_imputed_scaled = pd.read_feather(path=datapath/'X_test_NaNcounts_imputed-Median-wIndicators_StandardScaled.feather')\n",
    "# X_test_imputed_scaled = pd.read_feather(path=datapath/'X_test_NaNcounts_SummaryStats_imputed-Median-wIndicators-StandardScaled.feather')"
   ]
  },
  {
   "cell_type": "markdown",
   "id": "a57f347f-872f-4011-9f13-78fad542f36a",
   "metadata": {},
   "source": [
    "## Prediction Generation"
   ]
  },
  {
   "cell_type": "code",
   "execution_count": null,
   "id": "0773d286-257d-4776-add5-0f724944befe",
   "metadata": {},
   "outputs": [],
   "source": [
    "# preds_path = Path(datapath/\"preds/\")\n",
    "\n",
    "# blender_preds = blender.predict_proba(X_test_imputed_scaled)[:,1]\n",
    "# dump(blender_preds, preds_path/f\"{config_run['name']}_stack.joblib\")"
   ]
  },
  {
   "cell_type": "markdown",
   "id": "97f63005-4b50-40e9-9af4-d858b9b73576",
   "metadata": {},
   "source": [
    "# Ensemble Submission"
   ]
  },
  {
   "cell_type": "code",
   "execution_count": 99,
   "id": "1193a028-ea7f-4635-8c36-5cd517894784",
   "metadata": {
    "tags": []
   },
   "outputs": [],
   "source": [
    "sample_df = pd.read_csv(datapath/'sample_submission.csv.zip')"
   ]
  },
  {
   "cell_type": "code",
   "execution_count": 100,
   "id": "cecede81-21ca-414d-8e1a-57baa3e5be82",
   "metadata": {},
   "outputs": [],
   "source": [
    "sample_df.loc[:, 'target'] = test_preds"
   ]
  },
  {
   "cell_type": "code",
   "execution_count": 101,
   "id": "f5c9fc8c-45ab-4ea6-b40b-15149ad43751",
   "metadata": {},
   "outputs": [
    {
     "data": {
      "text/html": [
       "<div>\n",
       "<style scoped>\n",
       "    .dataframe tbody tr th:only-of-type {\n",
       "        vertical-align: middle;\n",
       "    }\n",
       "\n",
       "    .dataframe tbody tr th {\n",
       "        vertical-align: top;\n",
       "    }\n",
       "\n",
       "    .dataframe thead th {\n",
       "        text-align: right;\n",
       "    }\n",
       "</style>\n",
       "<table border=\"1\" class=\"dataframe\">\n",
       "  <thead>\n",
       "    <tr style=\"text-align: right;\">\n",
       "      <th></th>\n",
       "      <th>id</th>\n",
       "      <th>target</th>\n",
       "    </tr>\n",
       "  </thead>\n",
       "  <tbody>\n",
       "    <tr>\n",
       "      <th>0</th>\n",
       "      <td>1000000</td>\n",
       "      <td>0.690655</td>\n",
       "    </tr>\n",
       "    <tr>\n",
       "      <th>1</th>\n",
       "      <td>1000001</td>\n",
       "      <td>0.273361</td>\n",
       "    </tr>\n",
       "    <tr>\n",
       "      <th>2</th>\n",
       "      <td>1000002</td>\n",
       "      <td>0.942998</td>\n",
       "    </tr>\n",
       "    <tr>\n",
       "      <th>3</th>\n",
       "      <td>1000003</td>\n",
       "      <td>0.829685</td>\n",
       "    </tr>\n",
       "    <tr>\n",
       "      <th>4</th>\n",
       "      <td>1000004</td>\n",
       "      <td>0.311115</td>\n",
       "    </tr>\n",
       "  </tbody>\n",
       "</table>\n",
       "</div>"
      ],
      "text/plain": [
       "        id    target\n",
       "0  1000000  0.690655\n",
       "1  1000001  0.273361\n",
       "2  1000002  0.942998\n",
       "3  1000003  0.829685\n",
       "4  1000004  0.311115"
      ]
     },
     "execution_count": 101,
     "metadata": {},
     "output_type": "execute_result"
    }
   ],
   "source": [
    "sample_df.head()"
   ]
  },
  {
   "cell_type": "code",
   "execution_count": null,
   "id": "32d80568-780e-4798-a26b-e2907825f6ad",
   "metadata": {},
   "outputs": [],
   "source": [
    "# submission_path = datapath/'submissions'\n",
    "# submission_path.mkdir(exist_ok=True)"
   ]
  },
  {
   "cell_type": "code",
   "execution_count": 102,
   "id": "3d5e653c-a3de-4e25-a22f-4d7d0e1d49ee",
   "metadata": {},
   "outputs": [],
   "source": [
    "sample_df.to_csv(subpath/f\"{wandb_config['name']}_3level-GBM-ensemble_{exmodel_config['kfolds']}folds_rs{42}_preds.csv\", index=False)"
   ]
  },
  {
   "cell_type": "code",
   "execution_count": 56,
   "id": "0e5c8dfd-4282-45fb-bd1b-cebccbaea68f",
   "metadata": {},
   "outputs": [],
   "source": [
    "# wandb.log({'leaderboard_auc': ,\n",
    "# #            'catboost_params': str(best_catboost_params),\n",
    "#           })"
   ]
  },
  {
   "cell_type": "code",
   "execution_count": 57,
   "id": "b9a1cda7-ee10-4db7-9d99-2748be655a3c",
   "metadata": {
    "collapsed": true,
    "jupyter": {
     "outputs_hidden": true
    },
    "tags": []
   },
   "outputs": [
    {
     "data": {
      "text/html": [
       "<br/>Waiting for W&B process to finish, PID 2477425<br/>Program ended successfully."
      ],
      "text/plain": [
       "<IPython.core.display.HTML object>"
      ]
     },
     "metadata": {},
     "output_type": "display_data"
    },
    {
     "data": {
      "application/vnd.jupyter.widget-view+json": {
       "model_id": "",
       "version_major": 2,
       "version_minor": 0
      },
      "text/plain": [
       "VBox(children=(Label(value=' 0.23MB of 0.23MB uploaded (0.06MB deduped)\\r'), FloatProgress(value=1.0, max=1.0)…"
      ]
     },
     "metadata": {},
     "output_type": "display_data"
    },
    {
     "data": {
      "text/html": [
       "Find user logs for this run at: <code>/home/sf/Dropbox/code_cloud/python_code/kaggle/tabular_playgrounds/sep2021/wandb/run-20210922_213427-2nalm78k/logs/debug.log</code>"
      ],
      "text/plain": [
       "<IPython.core.display.HTML object>"
      ]
     },
     "metadata": {},
     "output_type": "display_data"
    },
    {
     "data": {
      "text/html": [
       "Find internal logs for this run at: <code>/home/sf/Dropbox/code_cloud/python_code/kaggle/tabular_playgrounds/sep2021/wandb/run-20210922_213427-2nalm78k/logs/debug-internal.log</code>"
      ],
      "text/plain": [
       "<IPython.core.display.HTML object>"
      ]
     },
     "metadata": {},
     "output_type": "display_data"
    },
    {
     "data": {
      "text/html": [
       "<h3>Run summary:</h3><br/><style>\n",
       "    table.wandb td:nth-child(1) { padding: 0 10px; text-align: right }\n",
       "    </style><table class=\"wandb\">\n",
       "<tr><td>blender-cv</td><td>5</td></tr><tr><td>blender-final_estimator</td><td>LogisticRegression(m...</td></tr><tr><td>blender-stack_mdethod</td><td>predict_proba</td></tr><tr><td>leaderboard_auc</td><td>0.81725</td></tr><tr><td>lightgbm_params</td><td>{'boosting_type': 'g...</td></tr><tr><td>test_set</td><td>/media/sf/easystore/...</td></tr><tr><td>train_auc</td><td>0.8414</td></tr><tr><td>train_loss</td><td>0.494</td></tr><tr><td>xgboost_params</td><td>{'objective': 'binar...</td></tr></table>"
      ],
      "text/plain": [
       "<IPython.core.display.HTML object>"
      ]
     },
     "metadata": {},
     "output_type": "display_data"
    },
    {
     "data": {
      "text/html": [
       "<h3>Run history:</h3><br/><style>\n",
       "    table.wandb td:nth-child(1) { padding: 0 10px; text-align: right }\n",
       "    </style><table class=\"wandb\">\n",
       "<tr><td>blender-cv</td><td>▁</td></tr><tr><td>leaderboard_auc</td><td>▁</td></tr><tr><td>train_auc</td><td>▁</td></tr><tr><td>train_loss</td><td>▁</td></tr></table><br/>"
      ],
      "text/plain": [
       "<IPython.core.display.HTML object>"
      ]
     },
     "metadata": {},
     "output_type": "display_data"
    },
    {
     "data": {
      "text/html": [
       "Synced 6 W&B file(s), 0 media file(s), 4 artifact file(s) and 1 other file(s)"
      ],
      "text/plain": [
       "<IPython.core.display.HTML object>"
      ]
     },
     "metadata": {},
     "output_type": "display_data"
    },
    {
     "data": {
      "text/html": [
       "\n",
       "                    <br/>Synced <strong style=\"color:#cdcd00\">stacking_off-shelf_20210922_213426</strong>: <a href=\"https://wandb.ai/hushifang/202109_Kaggle_tabular_playground/runs/2nalm78k\" target=\"_blank\">https://wandb.ai/hushifang/202109_Kaggle_tabular_playground/runs/2nalm78k</a><br/>\n",
       "                "
      ],
      "text/plain": [
       "<IPython.core.display.HTML object>"
      ]
     },
     "metadata": {},
     "output_type": "display_data"
    }
   ],
   "source": [
    "# wandb.finish()"
   ]
  },
  {
   "cell_type": "markdown",
   "id": "188650a9-6b22-45c6-9ff7-996fe917b5b4",
   "metadata": {},
   "source": [
    "# Power Averaging"
   ]
  },
  {
   "cell_type": "code",
   "execution_count": 103,
   "id": "261029fd-fd23-4785-9144-990ba07180a3",
   "metadata": {},
   "outputs": [],
   "source": [
    "stack_sub = sample_df.copy()"
   ]
  },
  {
   "cell_type": "code",
   "execution_count": 111,
   "id": "957d4313-541c-4abf-a06d-38363f8cb0b0",
   "metadata": {},
   "outputs": [],
   "source": [
    "stack_preds = stack_sub.iloc[:,1]"
   ]
  },
  {
   "cell_type": "code",
   "execution_count": 113,
   "id": "bf9d39f1-1bc2-49b8-bb6f-53784be6a869",
   "metadata": {},
   "outputs": [],
   "source": [
    "cat1983_preds = load(predpath/'stacking_manual_20211005_205933_catboost_5folds_rs1983_test_preds.joblib')"
   ]
  },
  {
   "cell_type": "code",
   "execution_count": 108,
   "id": "4b302164-b933-47fe-b245-d0e00d5693fc",
   "metadata": {},
   "outputs": [
    {
     "data": {
      "text/plain": [
       "array([0.74295914, 0.23628303, 0.90847273, 0.84461925, 0.26773447,\n",
       "       0.21324814, 0.03378722, 0.32052802, 0.96664006, 0.85420206])"
      ]
     },
     "execution_count": 108,
     "metadata": {},
     "output_type": "execute_result"
    }
   ],
   "source": [
    "# cat_preds[:10]"
   ]
  },
  {
   "cell_type": "code",
   "execution_count": 109,
   "id": "85d27110-7a50-410d-9958-605702d297cc",
   "metadata": {},
   "outputs": [
    {
     "data": {
      "text/plain": [
       "0    0.690655\n",
       "1    0.273361\n",
       "2    0.942998\n",
       "3    0.829685\n",
       "4    0.311115\n",
       "5    0.233266\n",
       "6    0.037680\n",
       "7    0.369001\n",
       "8    0.969728\n",
       "9    0.849232\n",
       "Name: target, dtype: float64"
      ]
     },
     "execution_count": 109,
     "metadata": {},
     "output_type": "execute_result"
    }
   ],
   "source": [
    "# stack_sub.iloc[:10,1]"
   ]
  },
  {
   "cell_type": "code",
   "execution_count": 115,
   "id": "1f9c0782-89d2-49d6-8aca-88b2e45305ef",
   "metadata": {},
   "outputs": [],
   "source": [
    "lgb1983_preds = load(predpath/'stacking_manual_20211005_205933_lightgbm_5folds_rs1983_test_preds.joblib')"
   ]
  },
  {
   "cell_type": "code",
   "execution_count": 116,
   "id": "d832d4b8-d36b-433f-ba35-4c4997e566a5",
   "metadata": {},
   "outputs": [
    {
     "data": {
      "text/plain": [
       "array([0.71627935, 0.22722624, 0.90767775, 0.81255748, 0.28256192,\n",
       "       0.19362319, 0.02520114, 0.32767655, 0.95997145, 0.83308257])"
      ]
     },
     "execution_count": 116,
     "metadata": {},
     "output_type": "execute_result"
    }
   ],
   "source": [
    "lgb1983_preds[:10]"
   ]
  },
  {
   "cell_type": "markdown",
   "id": "9d3476e9-6947-432d-858c-fd6afcac7433",
   "metadata": {},
   "source": [
    "## 4th power"
   ]
  },
  {
   "cell_type": "code",
   "execution_count": 117,
   "id": "d70f1361-c7fc-49b2-86e5-844487bca686",
   "metadata": {},
   "outputs": [],
   "source": [
    "power4_avg = (stack_preds**4 + cat1983_preds**4 + lgb1983_preds**4) / 3"
   ]
  },
  {
   "cell_type": "code",
   "execution_count": 118,
   "id": "28966015-2491-428d-8a74-6f8e5e19330b",
   "metadata": {},
   "outputs": [
    {
     "data": {
      "text/plain": [
       "0     0.265150\n",
       "1     0.003789\n",
       "2     0.716897\n",
       "3     0.472902\n",
       "4     0.006961\n",
       "5     0.002145\n",
       "6     0.000001\n",
       "7     0.013541\n",
       "8     0.868878\n",
       "9     0.511401\n",
       "10    0.666890\n",
       "11    0.115626\n",
       "12    0.000255\n",
       "13    0.021710\n",
       "14    0.029448\n",
       "15    0.004709\n",
       "16    0.008607\n",
       "17    0.065592\n",
       "18    0.000042\n",
       "19    0.852541\n",
       "Name: target, dtype: float64"
      ]
     },
     "execution_count": 118,
     "metadata": {},
     "output_type": "execute_result"
    }
   ],
   "source": [
    "power4_avg[:20]"
   ]
  },
  {
   "cell_type": "code",
   "execution_count": null,
   "id": "196f353c-ea30-4360-aebb-23d4d89d39d1",
   "metadata": {},
   "outputs": [],
   "source": []
  },
  {
   "cell_type": "code",
   "execution_count": 119,
   "id": "a99a1c7f-3350-4610-9cb4-e8f1c4d8d89a",
   "metadata": {
    "tags": []
   },
   "outputs": [],
   "source": [
    "sample_df = pd.read_csv(datapath/'sample_submission.csv.zip')"
   ]
  },
  {
   "cell_type": "code",
   "execution_count": 120,
   "id": "7d6a835c-7077-425d-acdf-8af36a864605",
   "metadata": {},
   "outputs": [],
   "source": [
    "sample_df.loc[:, 'target'] = power4_avg"
   ]
  },
  {
   "cell_type": "code",
   "execution_count": 121,
   "id": "43f4b808-d9fe-490c-a078-71e695f94fdb",
   "metadata": {},
   "outputs": [
    {
     "data": {
      "text/html": [
       "<div>\n",
       "<style scoped>\n",
       "    .dataframe tbody tr th:only-of-type {\n",
       "        vertical-align: middle;\n",
       "    }\n",
       "\n",
       "    .dataframe tbody tr th {\n",
       "        vertical-align: top;\n",
       "    }\n",
       "\n",
       "    .dataframe thead th {\n",
       "        text-align: right;\n",
       "    }\n",
       "</style>\n",
       "<table border=\"1\" class=\"dataframe\">\n",
       "  <thead>\n",
       "    <tr style=\"text-align: right;\">\n",
       "      <th></th>\n",
       "      <th>id</th>\n",
       "      <th>target</th>\n",
       "    </tr>\n",
       "  </thead>\n",
       "  <tbody>\n",
       "    <tr>\n",
       "      <th>0</th>\n",
       "      <td>1000000</td>\n",
       "      <td>0.265150</td>\n",
       "    </tr>\n",
       "    <tr>\n",
       "      <th>1</th>\n",
       "      <td>1000001</td>\n",
       "      <td>0.003789</td>\n",
       "    </tr>\n",
       "    <tr>\n",
       "      <th>2</th>\n",
       "      <td>1000002</td>\n",
       "      <td>0.716897</td>\n",
       "    </tr>\n",
       "    <tr>\n",
       "      <th>3</th>\n",
       "      <td>1000003</td>\n",
       "      <td>0.472902</td>\n",
       "    </tr>\n",
       "    <tr>\n",
       "      <th>4</th>\n",
       "      <td>1000004</td>\n",
       "      <td>0.006961</td>\n",
       "    </tr>\n",
       "  </tbody>\n",
       "</table>\n",
       "</div>"
      ],
      "text/plain": [
       "        id    target\n",
       "0  1000000  0.265150\n",
       "1  1000001  0.003789\n",
       "2  1000002  0.716897\n",
       "3  1000003  0.472902\n",
       "4  1000004  0.006961"
      ]
     },
     "execution_count": 121,
     "metadata": {},
     "output_type": "execute_result"
    }
   ],
   "source": [
    "sample_df.head()"
   ]
  },
  {
   "cell_type": "code",
   "execution_count": null,
   "id": "24018d55-37f4-4586-b853-9840b1e7564d",
   "metadata": {},
   "outputs": [],
   "source": [
    "# submission_path = datapath/'submissions'\n",
    "# submission_path.mkdir(exist_ok=True)"
   ]
  },
  {
   "cell_type": "code",
   "execution_count": 122,
   "id": "dd27df16-b3e8-4fd8-b4ca-d8d3533de81a",
   "metadata": {},
   "outputs": [],
   "source": [
    "sample_df.to_csv(subpath/f\"{wandb_config['name']}_3level-GBM-stack_cat1983_lgb1983_pow-avg4_ensemble_preds.csv\", index=False)"
   ]
  },
  {
   "cell_type": "markdown",
   "id": "8152f70e-867f-4042-98a2-c955ab265892",
   "metadata": {},
   "source": [
    "## 6th power"
   ]
  },
  {
   "cell_type": "code",
   "execution_count": 123,
   "id": "5c026f46-3f2a-4570-a856-3615945af291",
   "metadata": {},
   "outputs": [],
   "source": [
    "power6_avg = (stack_preds**6 + cat1983_preds**6 + lgb1983_preds**6) / 3"
   ]
  },
  {
   "cell_type": "code",
   "execution_count": 124,
   "id": "49a2de33-5e52-45c4-98ea-f4da676dbe61",
   "metadata": {},
   "outputs": [
    {
     "data": {
      "text/plain": [
       "0     1.372567e-01\n",
       "1     2.429774e-04\n",
       "2     6.081943e-01\n",
       "3     3.256891e-01\n",
       "4     5.947037e-04\n",
       "5     1.026115e-04\n",
       "6     1.535337e-09\n",
       "7     1.615576e-03\n",
       "8     8.099990e-01\n",
       "9     3.659600e-01\n",
       "10    5.456658e-01\n",
       "11    3.959378e-02\n",
       "12    4.262004e-06\n",
       "13    3.244684e-03\n",
       "14    5.252903e-03\n",
       "15    3.274883e-04\n",
       "16    8.155606e-04\n",
       "17    1.693755e-02\n",
       "18    3.179565e-07\n",
       "19    7.874945e-01\n",
       "Name: target, dtype: float64"
      ]
     },
     "execution_count": 124,
     "metadata": {},
     "output_type": "execute_result"
    }
   ],
   "source": [
    "power6_avg[:20]"
   ]
  },
  {
   "cell_type": "code",
   "execution_count": null,
   "id": "88965733-2a5b-498e-bb57-fbba89929a63",
   "metadata": {},
   "outputs": [],
   "source": []
  },
  {
   "cell_type": "code",
   "execution_count": 125,
   "id": "13a5d894-77a5-4412-9f69-395581b18048",
   "metadata": {
    "tags": []
   },
   "outputs": [],
   "source": [
    "sample_df = pd.read_csv(datapath/'sample_submission.csv.zip')"
   ]
  },
  {
   "cell_type": "code",
   "execution_count": 126,
   "id": "db5d6475-8c93-48e7-998c-01aef9c38136",
   "metadata": {},
   "outputs": [],
   "source": [
    "sample_df.loc[:, 'target'] = power6_avg"
   ]
  },
  {
   "cell_type": "code",
   "execution_count": 127,
   "id": "5584579e-c04f-482e-8a1b-cfa53a6ce468",
   "metadata": {},
   "outputs": [
    {
     "data": {
      "text/html": [
       "<div>\n",
       "<style scoped>\n",
       "    .dataframe tbody tr th:only-of-type {\n",
       "        vertical-align: middle;\n",
       "    }\n",
       "\n",
       "    .dataframe tbody tr th {\n",
       "        vertical-align: top;\n",
       "    }\n",
       "\n",
       "    .dataframe thead th {\n",
       "        text-align: right;\n",
       "    }\n",
       "</style>\n",
       "<table border=\"1\" class=\"dataframe\">\n",
       "  <thead>\n",
       "    <tr style=\"text-align: right;\">\n",
       "      <th></th>\n",
       "      <th>id</th>\n",
       "      <th>target</th>\n",
       "    </tr>\n",
       "  </thead>\n",
       "  <tbody>\n",
       "    <tr>\n",
       "      <th>0</th>\n",
       "      <td>1000000</td>\n",
       "      <td>0.137257</td>\n",
       "    </tr>\n",
       "    <tr>\n",
       "      <th>1</th>\n",
       "      <td>1000001</td>\n",
       "      <td>0.000243</td>\n",
       "    </tr>\n",
       "    <tr>\n",
       "      <th>2</th>\n",
       "      <td>1000002</td>\n",
       "      <td>0.608194</td>\n",
       "    </tr>\n",
       "    <tr>\n",
       "      <th>3</th>\n",
       "      <td>1000003</td>\n",
       "      <td>0.325689</td>\n",
       "    </tr>\n",
       "    <tr>\n",
       "      <th>4</th>\n",
       "      <td>1000004</td>\n",
       "      <td>0.000595</td>\n",
       "    </tr>\n",
       "  </tbody>\n",
       "</table>\n",
       "</div>"
      ],
      "text/plain": [
       "        id    target\n",
       "0  1000000  0.137257\n",
       "1  1000001  0.000243\n",
       "2  1000002  0.608194\n",
       "3  1000003  0.325689\n",
       "4  1000004  0.000595"
      ]
     },
     "execution_count": 127,
     "metadata": {},
     "output_type": "execute_result"
    }
   ],
   "source": [
    "sample_df.head()"
   ]
  },
  {
   "cell_type": "code",
   "execution_count": 128,
   "id": "91341fd2-7ddb-443f-b653-b203f5adead8",
   "metadata": {},
   "outputs": [],
   "source": [
    "# submission_path = datapath/'submissions'\n",
    "# submission_path.mkdir(exist_ok=True)"
   ]
  },
  {
   "cell_type": "code",
   "execution_count": 129,
   "id": "7970d847-5cf8-48fe-bcbd-57def1a70309",
   "metadata": {},
   "outputs": [],
   "source": [
    "sample_df.to_csv(subpath/f\"{wandb_config['name']}_3level-GBM-stack_cat1983_lgb1983_pow-avg6_ensemble_preds.csv\", index=False)"
   ]
  },
  {
   "cell_type": "markdown",
   "id": "2f544286-a2ae-46fb-b358-d1c0d8af81a8",
   "metadata": {},
   "source": [
    "## 5th power"
   ]
  },
  {
   "cell_type": "code",
   "execution_count": 130,
   "id": "c75f75b6-6c95-49b0-9df8-f2924176a00e",
   "metadata": {},
   "outputs": [],
   "source": [
    "power5_avg = (stack_preds**5 + cat1983_preds**5 + lgb1983_preds**5) / 3"
   ]
  },
  {
   "cell_type": "code",
   "execution_count": 131,
   "id": "e7c0a842-b42a-4b42-b2dc-24b5871aaa09",
   "metadata": {},
   "outputs": [],
   "source": [
    "# power5_avg[:20]"
   ]
  },
  {
   "cell_type": "code",
   "execution_count": null,
   "id": "18dd42c5-9de0-4c28-9b42-71b965a9f148",
   "metadata": {},
   "outputs": [],
   "source": []
  },
  {
   "cell_type": "code",
   "execution_count": 132,
   "id": "915c7ee4-20e2-44b2-8b95-afe3e2386cc6",
   "metadata": {
    "tags": []
   },
   "outputs": [],
   "source": [
    "sample_df = pd.read_csv(datapath/'sample_submission.csv.zip')"
   ]
  },
  {
   "cell_type": "code",
   "execution_count": 133,
   "id": "891b19c3-7249-4c27-be92-3250990f7d0c",
   "metadata": {},
   "outputs": [],
   "source": [
    "sample_df.loc[:, 'target'] = power5_avg"
   ]
  },
  {
   "cell_type": "code",
   "execution_count": 134,
   "id": "72b0f742-5076-4c5d-be11-9aaa0e4fc45e",
   "metadata": {},
   "outputs": [
    {
     "data": {
      "text/html": [
       "<div>\n",
       "<style scoped>\n",
       "    .dataframe tbody tr th:only-of-type {\n",
       "        vertical-align: middle;\n",
       "    }\n",
       "\n",
       "    .dataframe tbody tr th {\n",
       "        vertical-align: top;\n",
       "    }\n",
       "\n",
       "    .dataframe thead th {\n",
       "        text-align: right;\n",
       "    }\n",
       "</style>\n",
       "<table border=\"1\" class=\"dataframe\">\n",
       "  <thead>\n",
       "    <tr style=\"text-align: right;\">\n",
       "      <th></th>\n",
       "      <th>id</th>\n",
       "      <th>target</th>\n",
       "    </tr>\n",
       "  </thead>\n",
       "  <tbody>\n",
       "    <tr>\n",
       "      <th>0</th>\n",
       "      <td>1000000</td>\n",
       "      <td>0.190688</td>\n",
       "    </tr>\n",
       "    <tr>\n",
       "      <th>1</th>\n",
       "      <td>1000001</td>\n",
       "      <td>0.000956</td>\n",
       "    </tr>\n",
       "    <tr>\n",
       "      <th>2</th>\n",
       "      <td>1000002</td>\n",
       "      <td>0.660202</td>\n",
       "    </tr>\n",
       "    <tr>\n",
       "      <th>3</th>\n",
       "      <td>1000003</td>\n",
       "      <td>0.392404</td>\n",
       "    </tr>\n",
       "    <tr>\n",
       "      <th>4</th>\n",
       "      <td>1000004</td>\n",
       "      <td>0.002031</td>\n",
       "    </tr>\n",
       "  </tbody>\n",
       "</table>\n",
       "</div>"
      ],
      "text/plain": [
       "        id    target\n",
       "0  1000000  0.190688\n",
       "1  1000001  0.000956\n",
       "2  1000002  0.660202\n",
       "3  1000003  0.392404\n",
       "4  1000004  0.002031"
      ]
     },
     "execution_count": 134,
     "metadata": {},
     "output_type": "execute_result"
    }
   ],
   "source": [
    "sample_df.head()"
   ]
  },
  {
   "cell_type": "code",
   "execution_count": 128,
   "id": "4fec99b0-4581-4c1b-91af-f9fbc988406c",
   "metadata": {},
   "outputs": [],
   "source": [
    "# submission_path = datapath/'submissions'\n",
    "# submission_path.mkdir(exist_ok=True)"
   ]
  },
  {
   "cell_type": "code",
   "execution_count": 135,
   "id": "c478bab0-280f-493b-8ad6-4db7eb259ecd",
   "metadata": {},
   "outputs": [],
   "source": [
    "sample_df.to_csv(subpath/f\"{wandb_config['name']}_3level-GBM-stack_cat1983_lgb1983_pow-avg5_ensemble_preds.csv\", index=False)"
   ]
  },
  {
   "cell_type": "markdown",
   "id": "733a7092-551c-453e-a529-f225caf84334",
   "metadata": {},
   "source": [
    "## 3rd power"
   ]
  },
  {
   "cell_type": "code",
   "execution_count": 136,
   "id": "aae6f07f-0d59-4972-ac21-d0d4aec233bb",
   "metadata": {},
   "outputs": [],
   "source": [
    "power3_avg = (stack_preds**3 + cat1983_preds**3 + lgb1983_preds**3) / 3"
   ]
  },
  {
   "cell_type": "code",
   "execution_count": 131,
   "id": "70dcbcc7-d5d5-4233-b091-14c474e4dc8d",
   "metadata": {},
   "outputs": [],
   "source": [
    "# power5_avg[:20]"
   ]
  },
  {
   "cell_type": "code",
   "execution_count": null,
   "id": "08039950-9ee8-4347-a3ce-603f3d2127e3",
   "metadata": {},
   "outputs": [],
   "source": []
  },
  {
   "cell_type": "code",
   "execution_count": 137,
   "id": "0676ca5a-9491-4797-9e41-cb31ef96967d",
   "metadata": {
    "tags": []
   },
   "outputs": [],
   "source": [
    "sample_df = pd.read_csv(datapath/'sample_submission.csv.zip')"
   ]
  },
  {
   "cell_type": "code",
   "execution_count": 138,
   "id": "1d2872c8-9db5-4564-93c9-788e05e563b5",
   "metadata": {},
   "outputs": [],
   "source": [
    "sample_df.loc[:, 'target'] = power3_avg"
   ]
  },
  {
   "cell_type": "code",
   "execution_count": 139,
   "id": "2063b49a-13f5-49f1-ace5-35429ff51f54",
   "metadata": {},
   "outputs": [
    {
     "data": {
      "text/html": [
       "<div>\n",
       "<style scoped>\n",
       "    .dataframe tbody tr th:only-of-type {\n",
       "        vertical-align: middle;\n",
       "    }\n",
       "\n",
       "    .dataframe tbody tr th {\n",
       "        vertical-align: top;\n",
       "    }\n",
       "\n",
       "    .dataframe thead th {\n",
       "        text-align: right;\n",
       "    }\n",
       "</style>\n",
       "<table border=\"1\" class=\"dataframe\">\n",
       "  <thead>\n",
       "    <tr style=\"text-align: right;\">\n",
       "      <th></th>\n",
       "      <th>id</th>\n",
       "      <th>target</th>\n",
       "    </tr>\n",
       "  </thead>\n",
       "  <tbody>\n",
       "    <tr>\n",
       "      <th>0</th>\n",
       "      <td>1000000</td>\n",
       "      <td>0.369014</td>\n",
       "    </tr>\n",
       "    <tr>\n",
       "      <th>1</th>\n",
       "      <td>1000001</td>\n",
       "      <td>0.015117</td>\n",
       "    </tr>\n",
       "    <tr>\n",
       "      <th>2</th>\n",
       "      <td>1000002</td>\n",
       "      <td>0.778719</td>\n",
       "    </tr>\n",
       "    <tr>\n",
       "      <th>3</th>\n",
       "      <td>1000003</td>\n",
       "      <td>0.570054</td>\n",
       "    </tr>\n",
       "    <tr>\n",
       "      <th>4</th>\n",
       "      <td>1000004</td>\n",
       "      <td>0.023955</td>\n",
       "    </tr>\n",
       "  </tbody>\n",
       "</table>\n",
       "</div>"
      ],
      "text/plain": [
       "        id    target\n",
       "0  1000000  0.369014\n",
       "1  1000001  0.015117\n",
       "2  1000002  0.778719\n",
       "3  1000003  0.570054\n",
       "4  1000004  0.023955"
      ]
     },
     "execution_count": 139,
     "metadata": {},
     "output_type": "execute_result"
    }
   ],
   "source": [
    "sample_df.head()"
   ]
  },
  {
   "cell_type": "code",
   "execution_count": 128,
   "id": "5bdcfc39-c682-452a-95da-c35fe2a7b689",
   "metadata": {},
   "outputs": [],
   "source": [
    "# submission_path = datapath/'submissions'\n",
    "# submission_path.mkdir(exist_ok=True)"
   ]
  },
  {
   "cell_type": "code",
   "execution_count": 140,
   "id": "a3c73b0e-0ceb-4c7b-96bc-857b6f499966",
   "metadata": {},
   "outputs": [],
   "source": [
    "sample_df.to_csv(subpath/f\"{wandb_config['name']}_3level-GBM-stack_cat1983_lgb1983_pow-avg3_ensemble_preds.csv\", index=False)"
   ]
  }
 ],
 "metadata": {
  "kernelspec": {
   "display_name": "Python 3",
   "language": "python",
   "name": "python3"
  },
  "language_info": {
   "codemirror_mode": {
    "name": "ipython",
    "version": 3
   },
   "file_extension": ".py",
   "mimetype": "text/x-python",
   "name": "python",
   "nbconvert_exporter": "python",
   "pygments_lexer": "ipython3",
   "version": "3.8.11"
  }
 },
 "nbformat": 4,
 "nbformat_minor": 5
}
