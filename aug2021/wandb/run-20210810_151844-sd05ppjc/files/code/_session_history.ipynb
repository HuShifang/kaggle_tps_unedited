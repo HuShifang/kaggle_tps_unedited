{
 "cells": [
  {
   "cell_type": "code",
   "execution_count": 1,
   "id": "d9d5743a",
   "metadata": {},
   "outputs": [],
   "source": [
    "import pandas as pd\n",
    "import numpy as np\n",
    "import matplotlib.pyplot as plt\n",
    "from tqdm.notebook import tqdm\n",
    "\n",
    "# general ML tooling\n",
    "from sklearn.model_selection import train_test_split, StratifiedKFold#, KFold\n",
    "from sklearn.metrics import mean_squared_error\n",
    "import wandb\n",
    "from wandb.xgboost import wandb_callback\n",
    "# import timm\n",
    "from pathlib import Path\n",
    "import os\n",
    "import math"
   ]
  },
  {
   "cell_type": "code",
   "execution_count": 2,
   "id": "efffd7e0",
   "metadata": {},
   "outputs": [],
   "source": [
    "# import torch\n",
    "# import torch.nn as nn\n",
    "# import torch.nn.functional as F\n",
    "# from torchinfo import summary\n",
    "# # from fastai.callback.wandb import *\n",
    "# from torch.cuda.amp import autocast, GradScaler"
   ]
  },
  {
   "cell_type": "code",
   "execution_count": 3,
   "id": "10f2cc8c",
   "metadata": {},
   "outputs": [],
   "source": [
    "# from fastai.vision.all import *\n",
    "# from fastai.tabular.all import *\n",
    "# from fastai.callback.wandb import WandbCallback"
   ]
  },
  {
   "cell_type": "code",
   "execution_count": 4,
   "id": "062cc24f",
   "metadata": {},
   "outputs": [],
   "source": [
    "# import xgboost as xgb\n",
    "from xgboost import XGBRegressor, XGBRFRegressor\n",
    "# from xgboost import XGBClassifier\n",
    "# from sklearn.ensemble import RandomForestClassifier\n",
    "# from sklearn.tree import DecisionTreeClassifier"
   ]
  },
  {
   "cell_type": "code",
   "execution_count": 5,
   "id": "00ab6414",
   "metadata": {},
   "outputs": [],
   "source": [
    "# %config Completer.use_jedi = False"
   ]
  },
  {
   "cell_type": "code",
   "execution_count": 6,
   "id": "9585a489",
   "metadata": {},
   "outputs": [],
   "source": [
    "# set_seed(42, reproducible=True)"
   ]
  },
  {
   "cell_type": "code",
   "execution_count": 7,
   "id": "73aea0f7",
   "metadata": {},
   "outputs": [],
   "source": [
    "datapath = Path('/media/sf/easystore/kaggle_data/tabular_playgrounds/202108_august/')"
   ]
  },
  {
   "cell_type": "code",
   "execution_count": 8,
   "id": "4b9cd7fe",
   "metadata": {},
   "outputs": [],
   "source": [
    "df = pd.read_csv(datapath/'train.csv', index_col='id', low_memory=False)"
   ]
  },
  {
   "cell_type": "code",
   "execution_count": 9,
   "id": "6dd137b9",
   "metadata": {},
   "outputs": [],
   "source": [
    "# df.isnull().sum().any() # False"
   ]
  },
  {
   "cell_type": "code",
   "execution_count": 10,
   "id": "1ac43b92",
   "metadata": {},
   "outputs": [],
   "source": [
    "# df.info(verbose=True, null_counts=True)"
   ]
  },
  {
   "cell_type": "code",
   "execution_count": 11,
   "id": "216b6bd2",
   "metadata": {},
   "outputs": [],
   "source": [
    "# df.describe()"
   ]
  },
  {
   "cell_type": "code",
   "execution_count": 12,
   "id": "b1ffc8f1",
   "metadata": {},
   "outputs": [],
   "source": [
    "y = df.loss"
   ]
  },
  {
   "cell_type": "code",
   "execution_count": 13,
   "id": "c098495b",
   "metadata": {},
   "outputs": [],
   "source": [
    "features = [x for x in df.columns if x != 'loss']"
   ]
  },
  {
   "cell_type": "code",
   "execution_count": 14,
   "id": "76019684",
   "metadata": {},
   "outputs": [],
   "source": [
    "X = df[features]"
   ]
  },
  {
   "cell_type": "code",
   "execution_count": 15,
   "id": "30d48c2b",
   "metadata": {},
   "outputs": [
    {
     "name": "stdout",
     "output_type": "stream",
     "text": [
      "250000"
     ]
    }
   ],
   "source": [
    "len(X)"
   ]
  },
  {
   "cell_type": "code",
   "execution_count": 16,
   "id": "ced9c003",
   "metadata": {},
   "outputs": [
    {
     "name": "stdout",
     "output_type": "stream",
     "text": [
      "          f0   f1        f2        f3          f4        f5        f6  \\\n",
      "id                                                                      \n",
      "0  -0.002350   59  0.766739 -1.350460     42.2727  16.68570   30.3599   \n",
      "1   0.784462  145 -0.463845 -0.530421  27324.9000   3.47545  160.4980   \n",
      "2   0.317816   19 -0.432571 -0.382644   1383.2600  19.71290   31.1026   \n",
      "3   0.210753   17 -0.616454  0.946362   -119.2530   4.08235  185.2570   \n",
      "4   0.439671   20  0.968126 -0.092546     74.3020  12.30650   72.1860   \n",
      "\n",
      "          f7         f8       f9  ...        f91        f92      f93  \\\n",
      "id                                ...                                  \n",
      "0   1.267300   0.392007  1.09101  ...  -42.43990  26.854000  1.45751   \n",
      "1   0.828007   3.735860  1.28138  ... -184.13200   7.901370  1.70644   \n",
      "2  -0.515354  34.430800  1.24210  ...    7.43721  37.218100  3.25339   \n",
      "3   1.383310 -47.521400  1.09130  ...    9.66778   0.626942  1.49425   \n",
      "4  -0.233964  24.399100  1.10151  ...  290.65700  15.604300  1.73557   \n",
      "\n",
      "         f94        f95       f96       f97      f98       f99  loss  \n",
      "id                                                                    \n",
      "0   0.696161   0.941764  1.828470  0.924090  2.29658  10.48980    15  \n",
      "1  -0.494699  -2.058300  0.819184  0.439152  2.36470   1.14383     3  \n",
      "2   0.337934   0.615037  2.216760  0.745268  1.69679  12.30550     6  \n",
      "3   0.517513 -10.222100  2.627310  0.617270  1.45645  10.02880     2  \n",
      "4  -0.476668   1.390190  2.195740  0.826987  1.78485   7.07197     1  \n",
      "\n",
      "[5 rows x 101 columns]"
     ]
    }
   ],
   "source": [
    "df.head()"
   ]
  },
  {
   "cell_type": "code",
   "execution_count": 17,
   "id": "1cf8ed1c",
   "metadata": {},
   "outputs": [
    {
     "name": "stdout",
     "output_type": "stream",
     "text": [
      "(250000, 43)"
     ]
    }
   ],
   "source": [
    "len(y), len(y.value_counts())"
   ]
  },
  {
   "cell_type": "code",
   "execution_count": 18,
   "id": "f47c5dbf",
   "metadata": {},
   "outputs": [],
   "source": [
    "# # first tree sweep\n",
    "# sweep_config = {\n",
    "#     \"method\": \"grid\", # try grid or random\n",
    "#     \"metric\": {\n",
    "#       \"name\": \"rmse\",\n",
    "#       \"goal\": \"minimize\"   \n",
    "#     },\n",
    "#     \"parameters\": {\n",
    "#         \"booster\": {\n",
    "#             \"values\": [\"gbtree\", \"dart\"]\n",
    "#         },\n",
    "#         \"max_depth\": {\n",
    "#             \"values\": [3, 6, 9, 12]\n",
    "#         },\n",
    "#         \"learning_rate\": {\n",
    "#             \"values\": [0.1, 0.2, 0.3]\n",
    "#         },\n",
    "#         \"subsample\": {\n",
    "#             \"values\": [1, 0.5]\n",
    "#         },\n",
    "#         \"n_estimators\": {\n",
    "#             \"values\": [50, 125, 200]\n",
    "#         }\n",
    "#     }\n",
    "# }"
   ]
  },
  {
   "cell_type": "code",
   "execution_count": 19,
   "id": "9a8b1914",
   "metadata": {},
   "outputs": [],
   "source": [
    "# first tree sweep\n",
    "sweep_config = {\n",
    "    \"method\": \"bayes\", # try grid or random\n",
    "    \"metric\": {\n",
    "      \"name\": \"rmse\",\n",
    "      \"goal\": \"minimize\"   \n",
    "    },\n",
    "    \"parameters\": {\n",
    "        \"max_depth\": {\n",
    "            \"distribution\": \"normal\", \n",
    "            \"mu\": 3,\n",
    "            \"sigma\": 1\n",
    "        },\n",
    "        \"learning_rate\": {\n",
    "            \"distribution\": \"normal\", \n",
    "            \"mu\": 0.2,\n",
    "            \"sigma\": 0.1\n",
    "            #             \"values\": [0.1, 0.2, 0.3]\n",
    "        },\n",
    "        \"n_estimators\": {\n",
    "            \"distribution\": \"normal\",\n",
    "            \"mu\": 225,\n",
    "            \"sigma\": 50\n",
    "#             \"values\": [50, 125, 200]\n",
    "        }\n",
    "    }\n",
    "}"
   ]
  },
  {
   "cell_type": "code",
   "execution_count": 20,
   "id": "0b874366",
   "metadata": {},
   "outputs": [],
   "source": [
    "# %env \"WANDB_NOTEBOOK_NAME\" \"202108090846_XGBoostRegressor_tree_sweep\"\n",
    "os.environ['WANDB_NOTEBOOK_NAME'] = '20210810_XGBRegressor_tree_sweep2.ipynb'"
   ]
  },
  {
   "cell_type": "code",
   "execution_count": 21,
   "id": "7a41ecd4",
   "metadata": {},
   "outputs": [],
   "source": [
    "sweep_id = wandb.sweep(sweep_config, project=\"202108_Kaggle_tabular_playground\")"
   ]
  },
  {
   "cell_type": "code",
   "execution_count": 22,
   "id": "a1b186e2",
   "metadata": {},
   "outputs": [],
   "source": [
    "def train():\n",
    "    config_defaults = {\n",
    "        \"library\": \"xgboost\",\n",
    "        \"tree_method\": \"auto\", # set to 'gpu_hist' to try GPU if available\n",
    "        \"booster\": 'dart',\n",
    "        \"n_estimators\": 200,\n",
    "        \"max_depth\": 3,\n",
    "        \"learning_rate\": 0.1,\n",
    "        \"test_size\": 0.2,\n",
    "    }\n",
    "\n",
    "    wandb.init(\n",
    "#         project=\"202108_Kaggle_tabular_playground\",\n",
    "        save_code=True,\n",
    "        tags=['XGBoost'],\n",
    "        name='20210810_XGBRegressor_tree_sweep2',\n",
    "        notes='XGBRegressor sweep using dart trees, second sweep, using Bayes strategy with normal distributions on max_depth, learning_rate, and n_estimators',\n",
    "        config=config_defaults)\n",
    "    \n",
    "    config = wandb.config\n",
    "        \n",
    "    X_train, X_valid, y_train, y_valid = train_test_split(X, y, test_size=config.test_size, random_state=config.seed)\n",
    "    \n",
    "    model = XGBRegressor(\n",
    "        tree_method=config.tree_method,\n",
    "        booster=config.booster,\n",
    "        n_estimators=config.n_estimators, \n",
    "        max_depth=config.max_depth,\n",
    "        learning_rate=config.learning_rate, \n",
    "        subsample=config.subsample,\n",
    "        random_state=config.seed,\n",
    "        test_size=config.test_size,\n",
    "        seed=42\n",
    "        n_jobs=-1, \n",
    "        verbosity=2, \n",
    "    )\n",
    "    wandb.log({'params': model.get_params()})\n",
    "    model.fit(X_train, y_train, callbacks=[wandb.xgboost.wandb_callback()])\n",
    "    y_preds = model.predict(X_valid)\n",
    "    mse = mean_squared_error(y_valid, y_preds)\n",
    "    rmse = math.sqrt(abs(mse))\n",
    "    wandb.log({'mse':mse, 'rmse':rmse})\n",
    "    print(f\"MSE is {mse}\\nRMSE is {rmse}\")   \n",
    "    "
   ]
  },
  {
   "cell_type": "code",
   "execution_count": 23,
   "id": "c03bd732",
   "metadata": {},
   "outputs": [],
   "source": [
    "def train():\n",
    "    config_defaults = {\n",
    "        \"library\": \"xgboost\",\n",
    "        \"tree_method\": \"auto\", # set to 'gpu_hist' to try GPU if available\n",
    "        \"booster\": 'dart',\n",
    "        \"n_estimators\": 200,\n",
    "        \"max_depth\": 3,\n",
    "        \"learning_rate\": 0.1,\n",
    "        \"test_size\": 0.2,\n",
    "    }\n",
    "\n",
    "    wandb.init(\n",
    "#         project=\"202108_Kaggle_tabular_playground\",\n",
    "        save_code=True,\n",
    "        tags=['XGBoost'],\n",
    "        name='20210810_XGBRegressor_tree_sweep2',\n",
    "        notes='XGBRegressor sweep using dart trees, second sweep, using Bayes strategy with normal distributions on max_depth, learning_rate, and n_estimators',\n",
    "        config=config_defaults)\n",
    "    \n",
    "    config = wandb.config\n",
    "        \n",
    "    X_train, X_valid, y_train, y_valid = train_test_split(X, y, test_size=config.test_size, random_state=config.seed)\n",
    "    \n",
    "    model = XGBRegressor(\n",
    "        tree_method=config.tree_method,\n",
    "        booster=config.booster,\n",
    "        n_estimators=config.n_estimators, \n",
    "        max_depth=config.max_depth,\n",
    "        learning_rate=config.learning_rate, \n",
    "        subsample=config.subsample,\n",
    "        random_state=config.seed,\n",
    "        test_size=config.test_size,\n",
    "        seed=42\n",
    "        n_jobs=-1, \n",
    "        verbosity=2, \n",
    "    )\n",
    "    wandb.log({'params': model.get_params()})\n",
    "    model.fit(X_train, y_train, callbacks=[wandb.xgboost.wandb_callback()])\n",
    "    y_preds = model.predict(X_valid)\n",
    "    mse = mean_squared_error(y_valid, y_preds)\n",
    "    rmse = math.sqrt(abs(mse))\n",
    "    wandb.log({'mse':mse, 'rmse':rmse})\n",
    "    print(f\"MSE is {mse}\\nRMSE is {rmse}\")   \n",
    "    "
   ]
  },
  {
   "cell_type": "code",
   "execution_count": 24,
   "id": "de19000d",
   "metadata": {},
   "outputs": [],
   "source": [
    "def train():\n",
    "    config_defaults = {\n",
    "        \"library\": \"xgboost\",\n",
    "        \"tree_method\": \"auto\", # set to 'gpu_hist' to try GPU if available\n",
    "        \"booster\": 'dart',\n",
    "        \"n_estimators\": 200,\n",
    "        \"max_depth\": 3,\n",
    "        \"learning_rate\": 0.1,\n",
    "        \"test_size\": 0.2,\n",
    "    }\n",
    "\n",
    "    wandb.init(\n",
    "#         project=\"202108_Kaggle_tabular_playground\",\n",
    "        save_code=True,\n",
    "        tags=['XGBoost'],\n",
    "        name='20210810_XGBRegressor_tree_sweep2',\n",
    "        notes='XGBRegressor sweep using dart trees, second sweep, using Bayes strategy with normal distributions on max_depth, learning_rate, and n_estimators',\n",
    "        config=config_defaults)\n",
    "    \n",
    "    config = wandb.config\n",
    "        \n",
    "    X_train, X_valid, y_train, y_valid = train_test_split(X, y, test_size=config.test_size, random_state=config.seed)\n",
    "    \n",
    "    model = XGBRegressor(\n",
    "        tree_method=config.tree_method,\n",
    "        booster=config.booster,\n",
    "        n_estimators=config.n_estimators, \n",
    "        max_depth=config.max_depth,\n",
    "        learning_rate=config.learning_rate, \n",
    "        subsample=config.subsample,\n",
    "        random_state=config.seed,\n",
    "        test_size=config.test_size,\n",
    "        seed=42,\n",
    "        n_jobs=-1, \n",
    "        verbosity=2, \n",
    "    )\n",
    "    wandb.log({'params': model.get_params()})\n",
    "    model.fit(X_train, y_train, callbacks=[wandb.xgboost.wandb_callback()])\n",
    "    y_preds = model.predict(X_valid)\n",
    "    mse = mean_squared_error(y_valid, y_preds)\n",
    "    rmse = math.sqrt(abs(mse))\n",
    "    wandb.log({'mse':mse, 'rmse':rmse})\n",
    "    print(f\"MSE is {mse}\\nRMSE is {rmse}\")   \n",
    "    "
   ]
  },
  {
   "cell_type": "code",
   "execution_count": 25,
   "id": "ffee0806",
   "metadata": {},
   "outputs": [],
   "source": [
    "wandb.agent(sweep_id, function=train)  "
   ]
  },
  {
   "cell_type": "code",
   "execution_count": 26,
   "id": "1073f612",
   "metadata": {},
   "outputs": [],
   "source": [
    "def train():\n",
    "    config_defaults = {\n",
    "        \"library\": \"xgboost\",\n",
    "        \"tree_method\": \"auto\", # set to 'gpu_hist' to try GPU if available\n",
    "        \"booster\": 'dart',\n",
    "        \"n_estimators\": 200,\n",
    "        \"max_depth\": 3,\n",
    "        \"learning_rate\": 0.1,\n",
    "        \"test_size\": 0.2,\n",
    "    }\n",
    "\n",
    "    wandb.init(\n",
    "#         project=\"202108_Kaggle_tabular_playground\",\n",
    "        save_code=True,\n",
    "        tags=['XGBoost'],\n",
    "        name='20210810_XGBRegressor_tree_sweep2',\n",
    "        notes='XGBRegressor sweep using dart trees, second sweep, using Bayes strategy with normal distributions on max_depth, learning_rate, and n_estimators',\n",
    "        config=config_defaults)\n",
    "    \n",
    "    config = wandb.config\n",
    "        \n",
    "    X_train, X_valid, y_train, y_valid = train_test_split(X, y, test_size=config.test_size, random_state=config.seed)\n",
    "    \n",
    "    model = XGBRegressor(\n",
    "        tree_method=config.tree_method,\n",
    "        booster=config.booster,\n",
    "        n_estimators=config.n_estimators, \n",
    "        max_depth=config.max_depth,\n",
    "        learning_rate=config.learning_rate, \n",
    "        subsample=config.subsample,\n",
    "        test_size=config.test_size,\n",
    "        random_state=42,\n",
    "        n_jobs=-1, \n",
    "        verbosity=2, \n",
    "    )\n",
    "    wandb.log({'params': model.get_params()})\n",
    "    model.fit(X_train, y_train, callbacks=[wandb.xgboost.wandb_callback()])\n",
    "    y_preds = model.predict(X_valid)\n",
    "    mse = mean_squared_error(y_valid, y_preds)\n",
    "    rmse = math.sqrt(abs(mse))\n",
    "    wandb.log({'mse':mse, 'rmse':rmse})\n",
    "    print(f\"MSE is {mse}\\nRMSE is {rmse}\")   \n",
    "    "
   ]
  },
  {
   "cell_type": "code",
   "execution_count": 27,
   "id": "d86edce3",
   "metadata": {},
   "outputs": [],
   "source": [
    "wandb.agent(sweep_id, function=train)  "
   ]
  },
  {
   "cell_type": "code",
   "execution_count": 28,
   "id": "c3c824c2",
   "metadata": {},
   "outputs": [],
   "source": [
    "sweep_id = wandb.sweep(sweep_config, project=\"202108_Kaggle_tabular_playground\")"
   ]
  },
  {
   "cell_type": "code",
   "execution_count": 29,
   "id": "9c6747d6",
   "metadata": {},
   "outputs": [],
   "source": [
    "def train():\n",
    "    config_defaults = {\n",
    "        \"library\": \"xgboost\",\n",
    "        \"tree_method\": \"auto\", # set to 'gpu_hist' to try GPU if available\n",
    "        \"booster\": 'dart',\n",
    "        \"n_estimators\": 200,\n",
    "        \"max_depth\": 3,\n",
    "        \"learning_rate\": 0.1,\n",
    "        \"test_size\": 0.2,\n",
    "    }\n",
    "\n",
    "    wandb.init(\n",
    "#         project=\"202108_Kaggle_tabular_playground\",\n",
    "        save_code=True,\n",
    "        tags=['XGBoost'],\n",
    "        name='20210810_XGBRegressor_tree_sweep2',\n",
    "        notes='XGBRegressor sweep using dart trees, second sweep, using Bayes strategy with normal distributions on max_depth, learning_rate, and n_estimators',\n",
    "        config=config_defaults)\n",
    "    \n",
    "    config = wandb.config\n",
    "        \n",
    "    X_train, X_valid, y_train, y_valid = train_test_split(X, y, test_size=config.test_size, random_state=config.seed)\n",
    "    \n",
    "    model = XGBRegressor(\n",
    "        tree_method=config.tree_method,\n",
    "        booster=config.booster,\n",
    "        n_estimators=config.n_estimators, \n",
    "        max_depth=config.max_depth,\n",
    "        learning_rate=config.learning_rate, \n",
    "        subsample=config.subsample,\n",
    "        test_size=config.test_size,\n",
    "        random_state=42,\n",
    "        n_jobs=-1, \n",
    "        verbosity=2, \n",
    "    )\n",
    "    wandb.log({'params': model.get_params()})\n",
    "    model.fit(X_train, y_train, callbacks=[wandb.xgboost.wandb_callback()])\n",
    "    y_preds = model.predict(X_valid)\n",
    "    mse = mean_squared_error(y_valid, y_preds)\n",
    "    rmse = math.sqrt(abs(mse))\n",
    "    wandb.log({'mse':mse, 'rmse':rmse})\n",
    "    print(f\"MSE is {mse}\\nRMSE is {rmse}\")   \n",
    "    "
   ]
  },
  {
   "cell_type": "code",
   "execution_count": 30,
   "id": "ae1d182e",
   "metadata": {},
   "outputs": [],
   "source": [
    "wandb.agent(sweep_id, function=train)  "
   ]
  },
  {
   "cell_type": "code",
   "execution_count": 31,
   "id": "c5a9c215",
   "metadata": {},
   "outputs": [],
   "source": [
    "sweep_id = wandb.sweep(sweep_config, project=\"202108_Kaggle_tabular_playground\")"
   ]
  },
  {
   "cell_type": "code",
   "execution_count": 32,
   "id": "c9362db2",
   "metadata": {},
   "outputs": [],
   "source": [
    "def train():\n",
    "    config_defaults = {\n",
    "        \"library\": \"xgboost\",\n",
    "        \"tree_method\": \"auto\", # set to 'gpu_hist' to try GPU if available\n",
    "        \"booster\": 'dart',\n",
    "        \"n_estimators\": 200,\n",
    "        \"max_depth\": 3,\n",
    "        \"learning_rate\": 0.1,\n",
    "        \"test_size\": 0.2,\n",
    "    }\n",
    "\n",
    "    wandb.init(\n",
    "#         project=\"202108_Kaggle_tabular_playground\",\n",
    "        save_code=True,\n",
    "        tags=['XGBoost'],\n",
    "        name='20210810_XGBRegressor_tree_sweep2',\n",
    "        notes='XGBRegressor sweep using dart trees, second sweep, using Bayes strategy with normal distributions on max_depth, learning_rate, and n_estimators',\n",
    "        config=config_defaults)\n",
    "    \n",
    "    config = wandb.config\n",
    "        \n",
    "    X_train, X_valid, y_train, y_valid = train_test_split(X, y, test_size=config.test_size, random_state=42)\n",
    "    \n",
    "    model = XGBRegressor(\n",
    "        tree_method=config.tree_method,\n",
    "        booster=config.booster,\n",
    "        n_estimators=config.n_estimators, \n",
    "        max_depth=config.max_depth,\n",
    "        learning_rate=config.learning_rate, \n",
    "        subsample=config.subsample,\n",
    "        test_size=config.test_size,\n",
    "        random_state=42,\n",
    "        n_jobs=-1, \n",
    "        verbosity=2, \n",
    "    )\n",
    "    wandb.log({'params': model.get_params()})\n",
    "    model.fit(X_train, y_train, callbacks=[wandb.xgboost.wandb_callback()])\n",
    "    y_preds = model.predict(X_valid)\n",
    "    mse = mean_squared_error(y_valid, y_preds)\n",
    "    rmse = math.sqrt(abs(mse))\n",
    "    wandb.log({'mse':mse, 'rmse':rmse})\n",
    "    print(f\"MSE is {mse}\\nRMSE is {rmse}\")   \n",
    "    "
   ]
  },
  {
   "cell_type": "code",
   "execution_count": 33,
   "id": "255d805c",
   "metadata": {},
   "outputs": [
    {
     "data": {
      "text/html": [
       "\n",
       "                Tracking run with wandb version 0.11.0<br/>\n",
       "                Syncing run <strong style=\"color:#cdcd00\">20210810_XGBRegressor_tree_sweep2</strong> to <a href=\"https://wandb.ai\" target=\"_blank\">Weights & Biases</a> <a href=\"https://docs.wandb.com/integrations/jupyter.html\" target=\"_blank\">(Documentation)</a>.<br/>\n",
       "                Project page: <a href=\"https://wandb.ai/hushifang/202108_Kaggle_tabular_playground\" target=\"_blank\">https://wandb.ai/hushifang/202108_Kaggle_tabular_playground</a><br/>\n",
       "                Sweep page: <a href=\"https://wandb.ai/hushifang/202108_Kaggle_tabular_playground/sweeps/9ts29p5p\" target=\"_blank\">https://wandb.ai/hushifang/202108_Kaggle_tabular_playground/sweeps/9ts29p5p</a><br/>\n",
       "Run page: <a href=\"https://wandb.ai/hushifang/202108_Kaggle_tabular_playground/runs/sd05ppjc\" target=\"_blank\">https://wandb.ai/hushifang/202108_Kaggle_tabular_playground/runs/sd05ppjc</a><br/>\n",
       "                Run data is saved locally in <code>/home/sf/Dropbox/code_cloud/python_code/kaggle/tabular_playgrounds/202108_august/wandb/run-20210810_151844-sd05ppjc</code><br/><br/>\n",
       "            "
      ],
      "text/plain": [
       "<IPython.core.display.HTML object>"
      ]
     },
     "metadata": {},
     "output_type": "display_data"
    }
   ],
   "source": [
    "wandb.agent(sweep_id, function=train)  "
   ]
  }
 ],
 "metadata": {
  "kernelspec": {
   "display_name": "Python 3",
   "language": "python",
   "name": "python3"
  },
  "language_info": {
   "codemirror_mode": {
    "name": "ipython",
    "version": 3
   },
   "file_extension": ".py",
   "mimetype": "text/x-python",
   "name": "python",
   "nbconvert_exporter": "python",
   "pygments_lexer": "ipython3",
   "version": "3.8.10"
  }
 },
 "nbformat": 4,
 "nbformat_minor": 5
}
