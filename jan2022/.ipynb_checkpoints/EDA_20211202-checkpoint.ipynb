{
 "cells": [
  {
   "cell_type": "markdown",
   "id": "1d4e7f70-25a3-4d58-b98a-3a695e55ee53",
   "metadata": {},
   "source": [
    "# EDA\n",
    "Notebook is intended for preliminary EDA -- getting to know the dataset. Using code from `../aug2021/20210823_XGBRegressor_feature_selection.ipynb` as a starting point."
   ]
  },
  {
   "cell_type": "code",
   "execution_count": 1,
   "id": "843e3531-f950-4701-9330-07960ae9a937",
   "metadata": {},
   "outputs": [],
   "source": [
    "# notebook configuration\n",
    "COLAB = False # will trigger manual installation of packages\n",
    "USE_GPU = True \n",
    "# %config Completer.use_jedi = False"
   ]
  },
  {
   "cell_type": "markdown",
   "id": "9940bcf3-4331-423c-875c-a58b61975a00",
   "metadata": {
    "tags": []
   },
   "source": [
    "## Imports"
   ]
  },
  {
   "cell_type": "code",
   "execution_count": 2,
   "id": "6a61aa18-6ef3-41d1-bb75-08d1f766dbe1",
   "metadata": {},
   "outputs": [],
   "source": [
    "# basic imports\n",
    "from pathlib import Path\n",
    "import os\n",
    "import math\n",
    "from datetime import datetime\n",
    "import random\n",
    "\n",
    "import pandas as pd\n",
    "import numpy as np\n",
    "\n",
    "import matplotlib.pyplot as plt\n",
    "import seaborn as sns\n",
    "%matplotlib inline\n",
    "\n",
    "\n",
    "import requests # for telegram notifications\n",
    "from tqdm.notebook import tqdm\n",
    "\n",
    "from joblib import dump, load"
   ]
  },
  {
   "cell_type": "markdown",
   "id": "c66e43d6-a586-4fe6-ac49-ad5b35b963c3",
   "metadata": {},
   "source": [
    "Now, non-stdlib imports"
   ]
  },
  {
   "cell_type": "code",
   "execution_count": 3,
   "id": "ee16c791-548b-4616-9c82-ea76001e4749",
   "metadata": {},
   "outputs": [
    {
     "data": {
      "text/html": [
       "<style type='text/css'>\n",
       ".datatable table.frame { margin-bottom: 0; }\n",
       ".datatable table.frame thead { border-bottom: none; }\n",
       ".datatable table.frame tr.coltypes td {  color: #FFFFFF;  line-height: 6px;  padding: 0 0.5em;}\n",
       ".datatable .bool    { background: #DDDD99; }\n",
       ".datatable .object  { background: #565656; }\n",
       ".datatable .int     { background: #5D9E5D; }\n",
       ".datatable .float   { background: #4040CC; }\n",
       ".datatable .str     { background: #CC4040; }\n",
       ".datatable .time    { background: #40CC40; }\n",
       ".datatable .row_index {  background: var(--jp-border-color3);  border-right: 1px solid var(--jp-border-color0);  color: var(--jp-ui-font-color3);  font-size: 9px;}\n",
       ".datatable .frame tbody td { text-align: left; }\n",
       ".datatable .frame tr.coltypes .row_index {  background: var(--jp-border-color0);}\n",
       ".datatable th:nth-child(2) { padding-left: 12px; }\n",
       ".datatable .hellipsis {  color: var(--jp-cell-editor-border-color);}\n",
       ".datatable .vellipsis {  background: var(--jp-layout-color0);  color: var(--jp-cell-editor-border-color);}\n",
       ".datatable .na {  color: var(--jp-cell-editor-border-color);  font-size: 80%;}\n",
       ".datatable .sp {  opacity: 0.25;}\n",
       ".datatable .footer { font-size: 9px; }\n",
       ".datatable .frame_dimensions {  background: var(--jp-border-color3);  border-top: 1px solid var(--jp-border-color0);  color: var(--jp-ui-font-color3);  display: inline-block;  opacity: 0.6;  padding: 1px 10px 1px 5px;}\n",
       ".datatable .frame thead tr.colnames {  background-image: url('data:image/png;base64,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');  background-repeat: repeat-x;  background-size: 14px;  height: 28px;}\n",
       "</style>\n"
      ],
      "text/plain": [
       "<IPython.core.display.HTML object>"
      ]
     },
     "metadata": {},
     "output_type": "display_data"
    }
   ],
   "source": [
    "# model selection\n",
    "from sklearn.model_selection import train_test_split, StratifiedKFold, KFold\n",
    "\n",
    "# metrics\n",
    "from sklearn.metrics import accuracy_score#, log_loss, roc_auc_score\n",
    "\n",
    "# eda\n",
    "import missingno\n",
    "import doubtlab \n",
    "\n",
    "# data cleaning\n",
    "# from sklearn.impute import SimpleImputer #, KNNImputer\n",
    "import cleanlab\n",
    "\n",
    "# normalization\n",
    "from sklearn.preprocessing import RobustScaler, StandardScaler, MinMaxScaler, MaxAbsScaler, RobustScaler, QuantileTransformer\n",
    "from gauss_rank_scaler import GaussRankScaler\n",
    "\n",
    "# feature generation\n",
    "from sklearn.preprocessing import PolynomialFeatures\n",
    "import category_encoders as ce\n",
    "\n",
    "# models\n",
    "from catboost import CatBoostClassifier\n",
    "from xgboost import XGBClassifier\n",
    "from lightgbm import LGBMClassifier\n",
    "from sklearn.linear_model import LogisticRegression\n",
    "# from sklearn.ensemble import StackingClassifier, RandomForestClassifier\n",
    "\n",
    "# feature reduction\n",
    "from sklearn.decomposition import PCA\n",
    "from umap import UMAP\n",
    "\n",
    "# clustering\n",
    "from sklearn.cluster import DBSCAN, KMeans\n",
    "import hdbscan\n",
    "\n",
    "# feature selection\n",
    "# from sklearn.feature_selection import SelectKBest, f_regression, mutual_info_regression\n",
    "# import featuretools as ft\n",
    "# from BorutaShap import BorutaShap\n",
    "# from boruta import BorutaPy\n",
    "\n",
    "# tracking \n",
    "import wandb\n",
    "from wandb.xgboost import wandb_callback\n",
    "from wandb.lightgbm import wandb_callback\n",
    "os.environ['WANDB_NOTEBOOK_NAME'] = f\"nb_{datetime.now().strftime('%Y%m%d')}.ipynb\""
   ]
  },
  {
   "cell_type": "code",
   "execution_count": 4,
   "id": "5b139207-5ea6-464d-922e-e4d0a398062f",
   "metadata": {},
   "outputs": [],
   "source": [
    "# deep learning\n",
    "import torch\n",
    "from torch.optim import Adam, AdamW, Adagrad, SGD, RMSprop, LBFGS\n",
    "from torch.optim.lr_scheduler import ReduceLROnPlateau, CosineAnnealingWarmRestarts, CyclicLR, OneCycleLR, StepLR, CosineAnnealingLR\n",
    "\n",
    "# widedeep\n",
    "from pytorch_widedeep import Trainer\n",
    "from pytorch_widedeep.preprocessing import WidePreprocessor, TabPreprocessor\n",
    "from pytorch_widedeep.models import Wide, TabMlp, WideDeep, SAINT#, TabTransformer, TabNet, TabFastFormer, TabResnet\n",
    "from pytorch_widedeep.metrics import Accuracy\n",
    "from pytorch_widedeep.callbacks import EarlyStopping, LRHistory, ModelCheckpoint"
   ]
  },
  {
   "cell_type": "markdown",
   "id": "3e361440-9a58-4de4-a98a-5494c3339cff",
   "metadata": {},
   "source": [
    "## Routing"
   ]
  },
  {
   "cell_type": "markdown",
   "id": "d95ed29b-ec32-4f77-8ae7-d754457ae35e",
   "metadata": {},
   "source": [
    "Now, datapath setup"
   ]
  },
  {
   "cell_type": "code",
   "execution_count": 5,
   "id": "880b9f33-b517-40ef-a3e6-049dcc52a4e9",
   "metadata": {},
   "outputs": [
    {
     "name": "stderr",
     "output_type": "stream",
     "text": [
      "/home/sf/anaconda3/envs/tabular-x/lib/python3.8/site-packages/ipykernel/ipkernel.py:287: DeprecationWarning: `should_run_async` will not call `transform_cell` automatically in the future. Please pass the result to `transformed_cell` argument and any exception that happen during thetransform in `preprocessing_exc_tuple` in IPython 7.17 and above.\n",
      "  and should_run_async(code)\n"
     ]
    }
   ],
   "source": [
    "if COLAB:\n",
    "    # mount Google Drive\n",
    "    from google.colab import drive\n",
    "    drive.mount('/content/drive')\n",
    "    \n",
    "    # handling datapath\n",
    "    # datapath = Path('/content/drive/MyDrive/kaggle/tabular_playgrounds/dec2021/')\n",
    "    \n",
    "else:\n",
    "    # if on local machine\n",
    "    root = Path('/media/sf/easystore/kaggle_data/tabular_playgrounds/dec2021/')\n",
    "    datapath = root/'datasets'\n",
    "    # edapath = root/'EDA'\n",
    "    # modelpath = Path('/media/sf/easystore/kaggle_data/tabular_playgrounds/oct2021/models/')\n",
    "    predpath = root/'preds'\n",
    "    subpath = root/'submissions'\n",
    "    studypath = root/'studies'\n",
    "    \n",
    "    for pth in [datapath, predpath, subpath, studypath]:\n",
    "        pth.mkdir(exist_ok=True)"
   ]
  },
  {
   "cell_type": "markdown",
   "id": "1be8129b-8e9d-43a7-ae6c-19d7408f4073",
   "metadata": {},
   "source": [
    "## Helpers"
   ]
  },
  {
   "cell_type": "code",
   "execution_count": 6,
   "id": "1905a9de-cd7c-4a73-a39e-b42a8297785c",
   "metadata": {},
   "outputs": [],
   "source": [
    "SEED = 42\n",
    "\n",
    "# Function to seed everything but the models\n",
    "def seed_everything(seed, pytorch=True, reproducible=True):\n",
    "    random.seed(seed)\n",
    "    np.random.seed(seed)\n",
    "    os.environ['PYTHONHASHSEED'] = str(seed)\n",
    "    if pytorch:\n",
    "        torch.manual_seed(seed) # set torch CPU seed\n",
    "        if torch.cuda.is_available():\n",
    "            torch.cuda.manual_seed_all(seed) # set torch GPU(s) seed(s)\n",
    "        if reproducible and torch.backends.cudnn.is_available():\n",
    "            torch.backends.cudnn.deterministic = True\n",
    "            torch.backends.cudnn.benchmark = False\n",
    "\n",
    "seed_everything(seed=SEED)"
   ]
  },
  {
   "cell_type": "code",
   "execution_count": 7,
   "id": "ba521a1a-8c41-4b9b-becd-36eb62739ba3",
   "metadata": {},
   "outputs": [],
   "source": [
    "def reduce_memory_usage(df, verbose=True):\n",
    "    \"\"\"\n",
    "    Function to reduce memory usage by downcasting datatypes in a Pandas DataFrame when possible.\n",
    "    \n",
    "    h/t to Bryan Arnold (https://www.kaggle.com/puremath86/label-correction-experiments-tps-nov-21)\n",
    "    \"\"\"\n",
    "    \n",
    "    numerics = [\"int8\", \"int16\", \"int32\", \"int64\", \"float16\", \"float32\", \"float64\"]\n",
    "    start_mem = df.memory_usage().sum() / 1024 ** 2\n",
    "    for col in df.columns:\n",
    "        col_type = df[col].dtypes\n",
    "        if col_type in numerics:\n",
    "            c_min = df[col].min()\n",
    "            c_max = df[col].max()\n",
    "            if str(col_type)[:3] == \"int\":\n",
    "                if c_min > np.iinfo(np.int8).min and c_max < np.iinfo(np.int8).max:\n",
    "                    df[col] = df[col].astype(np.int8)\n",
    "                elif c_min > np.iinfo(np.int16).min and c_max < np.iinfo(np.int16).max:\n",
    "                    df[col] = df[col].astype(np.int16)\n",
    "                elif c_min > np.iinfo(np.int32).min and c_max < np.iinfo(np.int32).max:\n",
    "                    df[col] = df[col].astype(np.int32)\n",
    "                elif c_min > np.iinfo(np.int64).min and c_max < np.iinfo(np.int64).max:\n",
    "                    df[col] = df[col].astype(np.int64)\n",
    "            else:\n",
    "                if (\n",
    "                    c_min > np.finfo(np.float16).min\n",
    "                    and c_max < np.finfo(np.float16).max\n",
    "                ):\n",
    "                    df[col] = df[col].astype(np.float16)\n",
    "                elif (\n",
    "                    c_min > np.finfo(np.float32).min\n",
    "                    and c_max < np.finfo(np.float32).max\n",
    "                ):\n",
    "                    df[col] = df[col].astype(np.float32)\n",
    "                else:\n",
    "                    df[col] = df[col].astype(np.float64)\n",
    "    end_mem = df.memory_usage().sum() / 1024 ** 2\n",
    "    if verbose:\n",
    "        print(\n",
    "            \"Mem. usage decreased to {:.2f} Mb ({:.1f}% reduction)\".format(\n",
    "                end_mem, 100 * (start_mem - end_mem) / start_mem\n",
    "            )\n",
    "        )\n",
    "    return df"
   ]
  },
  {
   "cell_type": "code",
   "execution_count": 17,
   "id": "1c3f6bf0-8338-4cde-8ab7-5bfd9c6ff317",
   "metadata": {},
   "outputs": [],
   "source": [
    "tg_api_token = 'your_api_token' # for Galileo (jupyter_watcher_bot) on Telegram\n",
    "tg_chat_id = 'your_chat_id'\n",
    "\n",
    "import requests\n",
    "\n",
    "def send_tg_message(text='Cell execution completed.'):  \n",
    "    \"\"\"\n",
    "    h/t Ivan Dembicki Jr. for the base version \n",
    "    (https://medium.com/@ivan.dembicki.jr/notifications-in-jupyter-notebook-with-telegram-f2e892c55173)\n",
    "    \"\"\"\n",
    "    requests.post('https://api.telegram.org/' +  'bot{}/sendMessage'.format(tg_api_token), \n",
    "                  params=dict(chat_id=tg_chat_id, text=text))"
   ]
  },
  {
   "cell_type": "markdown",
   "id": "1fa2e07d-7df1-4303-a533-d75149560670",
   "metadata": {},
   "source": [
    "## Dataset Setup"
   ]
  },
  {
   "cell_type": "code",
   "execution_count": 19,
   "id": "ad459104-e31a-4aa0-8a9a-bb279e2b9944",
   "metadata": {
    "tags": []
   },
   "outputs": [],
   "source": [
    "# # dataset_params will initially include either trivial class instances or loaded, precomputed artifacts\n",
    "# dataset_params = {\n",
    "#     'train_source': str(datapath/'X_orig.feather'),\n",
    "#     'target_source': str(datapath/'y_orig.joblib'),\n",
    "#     'test_source': str(datapath/'X_test_orig-no_scaling.feather'),\n",
    "#     # 'scaler': str(RobustScaler()),\n",
    "#     # 'pca': str(load(datapath/'pca_mle-RobustScaled_orig_trainset.joblib')),\n",
    "#     # 'umap': str(load(datapath/'umap_reducer-20211107-n_comp10-n_neighbors15-rs42-pca_mle-RobustScaled_orig_trainset.joblib')),\n",
    "# }   \n",
    "\n",
    "# # referring back to the already-entered attributes, specify how the pipeline was sequenced\n",
    "# # dataset_params['preprocessing_pipeline'] = str([dataset_params['scaler'], dataset_params['pca'], dataset_params['umap']]) # ACTUALLY this is unwieldy\n",
    "# # dataset_params['preprocessing_pipeline'] = '[scaler, pca, umap]' # more fragile, but also more readable\n",
    "\n",
    "# # now, load the datasets and generate more metadata from them\n",
    "# # X = load(dataset_params['train_source'])\n",
    "# X = pd.read_feather(dataset_params['train_source'])\n",
    "# y = load(dataset_params['target_source'])\n",
    "# # X_test = load(dataset_params['test_source'])\n",
    "# X_test = pd.read_feather(dataset_params['test_source'])\n",
    "\n",
    "# # reduce memory usage\n",
    "# X = reduce_memory_usage(X)\n",
    "# X_test = reduce_memory_usage(X)\n",
    "\n",
    "# # metadata logging\n",
    "# dataset_params['feature_count'] = X.shape[1]\n",
    "# dataset_params['instance_count'] = X.shape[0]\n",
    "    "
   ]
  },
  {
   "cell_type": "markdown",
   "id": "4c4d276b-ac4a-4076-9260-6af05ed61d64",
   "metadata": {
    "tags": []
   },
   "source": [
    "## Metadata"
   ]
  },
  {
   "cell_type": "code",
   "execution_count": 20,
   "id": "d647e8af-e065-4ea8-aa6c-5d158791904b",
   "metadata": {},
   "outputs": [],
   "source": [
    "# # baseline -- alter as needed later\n",
    "# exmodel_config = {\n",
    "#     'general_random_state': SEED,\n",
    "# #     'feature_generation': ['NaN_counts', 'SummaryStats', 'NaN_OneHots'],\n",
    "#     'cross_val_strategy': KFold, # None for holdout, or the relevant sklearn class\n",
    "#     'kfolds': 5, # if 1, that means just doing holdout\n",
    "#     'test_size': 0.2,\n",
    "#     **dataset_params\n",
    "# }"
   ]
  },
  {
   "cell_type": "markdown",
   "id": "79b0f21d-e2f8-4d9e-8b88-f1ffd64e9349",
   "metadata": {},
   "source": [
    "# Exploration"
   ]
  },
  {
   "cell_type": "code",
   "execution_count": 25,
   "id": "ef6f4972-9cc9-489e-bcee-01f3dd88188e",
   "metadata": {},
   "outputs": [
    {
     "name": "stderr",
     "output_type": "stream",
     "text": [
      "/home/sf/anaconda3/envs/tabular-x/lib/python3.8/site-packages/numpy/lib/arraysetops.py:583: FutureWarning: elementwise comparison failed; returning scalar instead, but in the future will perform elementwise comparison\n",
      "  mask |= (ar1 == a)\n"
     ]
    }
   ],
   "source": [
    "df = pd.read_csv(datapath/'train.csv', index_col='Id', low_memory=False)\n",
    "# df.index.name = None"
   ]
  },
  {
   "cell_type": "code",
   "execution_count": 26,
   "id": "4b6a771f-ee76-4f70-8147-667a60512246",
   "metadata": {},
   "outputs": [
    {
     "data": {
      "text/plain": [
       "'Id'"
      ]
     },
     "execution_count": 26,
     "metadata": {},
     "output_type": "execute_result"
    }
   ],
   "source": [
    "df.index.name"
   ]
  },
  {
   "cell_type": "code",
   "execution_count": 27,
   "id": "146adf3a-b27f-430d-826e-8e76bce4c67d",
   "metadata": {},
   "outputs": [
    {
     "name": "stdout",
     "output_type": "stream",
     "text": [
      "Mem. usage decreased to 274.66 Mb (83.9% reduction)\n"
     ]
    }
   ],
   "source": [
    "df = reduce_memory_usage(df)"
   ]
  },
  {
   "cell_type": "code",
   "execution_count": 28,
   "id": "167f0119-bf0e-4c82-8797-5eb2e71788a9",
   "metadata": {
    "tags": []
   },
   "outputs": [
    {
     "name": "stdout",
     "output_type": "stream",
     "text": [
      "<class 'pandas.core.frame.DataFrame'>\n",
      "Int64Index: 4000000 entries, 0 to 3999999\n",
      "Data columns (total 55 columns):\n",
      " #   Column                              Non-Null Count    Dtype\n",
      "---  ------                              --------------    -----\n",
      " 0   Elevation                           4000000 non-null  int16\n",
      " 1   Aspect                              4000000 non-null  int16\n",
      " 2   Slope                               4000000 non-null  int8 \n",
      " 3   Horizontal_Distance_To_Hydrology    4000000 non-null  int16\n",
      " 4   Vertical_Distance_To_Hydrology      4000000 non-null  int16\n",
      " 5   Horizontal_Distance_To_Roadways     4000000 non-null  int16\n",
      " 6   Hillshade_9am                       4000000 non-null  int16\n",
      " 7   Hillshade_Noon                      4000000 non-null  int16\n",
      " 8   Hillshade_3pm                       4000000 non-null  int16\n",
      " 9   Horizontal_Distance_To_Fire_Points  4000000 non-null  int16\n",
      " 10  Wilderness_Area1                    4000000 non-null  int8 \n",
      " 11  Wilderness_Area2                    4000000 non-null  int8 \n",
      " 12  Wilderness_Area3                    4000000 non-null  int8 \n",
      " 13  Wilderness_Area4                    4000000 non-null  int8 \n",
      " 14  Soil_Type1                          4000000 non-null  int8 \n",
      " 15  Soil_Type2                          4000000 non-null  int8 \n",
      " 16  Soil_Type3                          4000000 non-null  int8 \n",
      " 17  Soil_Type4                          4000000 non-null  int8 \n",
      " 18  Soil_Type5                          4000000 non-null  int8 \n",
      " 19  Soil_Type6                          4000000 non-null  int8 \n",
      " 20  Soil_Type7                          4000000 non-null  int8 \n",
      " 21  Soil_Type8                          4000000 non-null  int8 \n",
      " 22  Soil_Type9                          4000000 non-null  int8 \n",
      " 23  Soil_Type10                         4000000 non-null  int8 \n",
      " 24  Soil_Type11                         4000000 non-null  int8 \n",
      " 25  Soil_Type12                         4000000 non-null  int8 \n",
      " 26  Soil_Type13                         4000000 non-null  int8 \n",
      " 27  Soil_Type14                         4000000 non-null  int8 \n",
      " 28  Soil_Type15                         4000000 non-null  int8 \n",
      " 29  Soil_Type16                         4000000 non-null  int8 \n",
      " 30  Soil_Type17                         4000000 non-null  int8 \n",
      " 31  Soil_Type18                         4000000 non-null  int8 \n",
      " 32  Soil_Type19                         4000000 non-null  int8 \n",
      " 33  Soil_Type20                         4000000 non-null  int8 \n",
      " 34  Soil_Type21                         4000000 non-null  int8 \n",
      " 35  Soil_Type22                         4000000 non-null  int8 \n",
      " 36  Soil_Type23                         4000000 non-null  int8 \n",
      " 37  Soil_Type24                         4000000 non-null  int8 \n",
      " 38  Soil_Type25                         4000000 non-null  int8 \n",
      " 39  Soil_Type26                         4000000 non-null  int8 \n",
      " 40  Soil_Type27                         4000000 non-null  int8 \n",
      " 41  Soil_Type28                         4000000 non-null  int8 \n",
      " 42  Soil_Type29                         4000000 non-null  int8 \n",
      " 43  Soil_Type30                         4000000 non-null  int8 \n",
      " 44  Soil_Type31                         4000000 non-null  int8 \n",
      " 45  Soil_Type32                         4000000 non-null  int8 \n",
      " 46  Soil_Type33                         4000000 non-null  int8 \n",
      " 47  Soil_Type34                         4000000 non-null  int8 \n",
      " 48  Soil_Type35                         4000000 non-null  int8 \n",
      " 49  Soil_Type36                         4000000 non-null  int8 \n",
      " 50  Soil_Type37                         4000000 non-null  int8 \n",
      " 51  Soil_Type38                         4000000 non-null  int8 \n",
      " 52  Soil_Type39                         4000000 non-null  int8 \n",
      " 53  Soil_Type40                         4000000 non-null  int8 \n",
      " 54  Cover_Type                          4000000 non-null  int8 \n",
      "dtypes: int16(9), int8(46)\n",
      "memory usage: 274.7 MB\n"
     ]
    }
   ],
   "source": [
    "df.info(verbose=True, show_counts=True, memory_usage=True)"
   ]
  },
  {
   "cell_type": "code",
   "execution_count": 29,
   "id": "06cd68a0-8bec-467c-93e3-81fa45a91f05",
   "metadata": {},
   "outputs": [
    {
     "data": {
      "text/html": [
       "<div>\n",
       "<style scoped>\n",
       "    .dataframe tbody tr th:only-of-type {\n",
       "        vertical-align: middle;\n",
       "    }\n",
       "\n",
       "    .dataframe tbody tr th {\n",
       "        vertical-align: top;\n",
       "    }\n",
       "\n",
       "    .dataframe thead th {\n",
       "        text-align: right;\n",
       "    }\n",
       "</style>\n",
       "<table border=\"1\" class=\"dataframe\">\n",
       "  <thead>\n",
       "    <tr style=\"text-align: right;\">\n",
       "      <th></th>\n",
       "      <th>Elevation</th>\n",
       "      <th>Aspect</th>\n",
       "      <th>Slope</th>\n",
       "      <th>Horizontal_Distance_To_Hydrology</th>\n",
       "      <th>Vertical_Distance_To_Hydrology</th>\n",
       "      <th>Horizontal_Distance_To_Roadways</th>\n",
       "      <th>Hillshade_9am</th>\n",
       "      <th>Hillshade_Noon</th>\n",
       "      <th>Hillshade_3pm</th>\n",
       "      <th>Horizontal_Distance_To_Fire_Points</th>\n",
       "      <th>...</th>\n",
       "      <th>Soil_Type31</th>\n",
       "      <th>Soil_Type32</th>\n",
       "      <th>Soil_Type33</th>\n",
       "      <th>Soil_Type34</th>\n",
       "      <th>Soil_Type35</th>\n",
       "      <th>Soil_Type36</th>\n",
       "      <th>Soil_Type37</th>\n",
       "      <th>Soil_Type38</th>\n",
       "      <th>Soil_Type39</th>\n",
       "      <th>Soil_Type40</th>\n",
       "    </tr>\n",
       "    <tr>\n",
       "      <th>Id</th>\n",
       "      <th></th>\n",
       "      <th></th>\n",
       "      <th></th>\n",
       "      <th></th>\n",
       "      <th></th>\n",
       "      <th></th>\n",
       "      <th></th>\n",
       "      <th></th>\n",
       "      <th></th>\n",
       "      <th></th>\n",
       "      <th></th>\n",
       "      <th></th>\n",
       "      <th></th>\n",
       "      <th></th>\n",
       "      <th></th>\n",
       "      <th></th>\n",
       "      <th></th>\n",
       "      <th></th>\n",
       "      <th></th>\n",
       "      <th></th>\n",
       "      <th></th>\n",
       "    </tr>\n",
       "  </thead>\n",
       "  <tbody>\n",
       "    <tr>\n",
       "      <th>0</th>\n",
       "      <td>3189</td>\n",
       "      <td>40</td>\n",
       "      <td>8</td>\n",
       "      <td>30</td>\n",
       "      <td>13</td>\n",
       "      <td>3270</td>\n",
       "      <td>206</td>\n",
       "      <td>234</td>\n",
       "      <td>193</td>\n",
       "      <td>4873</td>\n",
       "      <td>...</td>\n",
       "      <td>0</td>\n",
       "      <td>0</td>\n",
       "      <td>0</td>\n",
       "      <td>0</td>\n",
       "      <td>0</td>\n",
       "      <td>0</td>\n",
       "      <td>0</td>\n",
       "      <td>0</td>\n",
       "      <td>0</td>\n",
       "      <td>0</td>\n",
       "    </tr>\n",
       "    <tr>\n",
       "      <th>1</th>\n",
       "      <td>3026</td>\n",
       "      <td>182</td>\n",
       "      <td>5</td>\n",
       "      <td>280</td>\n",
       "      <td>29</td>\n",
       "      <td>3270</td>\n",
       "      <td>233</td>\n",
       "      <td>240</td>\n",
       "      <td>106</td>\n",
       "      <td>5423</td>\n",
       "      <td>...</td>\n",
       "      <td>0</td>\n",
       "      <td>0</td>\n",
       "      <td>0</td>\n",
       "      <td>0</td>\n",
       "      <td>0</td>\n",
       "      <td>0</td>\n",
       "      <td>0</td>\n",
       "      <td>0</td>\n",
       "      <td>0</td>\n",
       "      <td>0</td>\n",
       "    </tr>\n",
       "    <tr>\n",
       "      <th>2</th>\n",
       "      <td>3106</td>\n",
       "      <td>13</td>\n",
       "      <td>7</td>\n",
       "      <td>351</td>\n",
       "      <td>37</td>\n",
       "      <td>2914</td>\n",
       "      <td>208</td>\n",
       "      <td>234</td>\n",
       "      <td>137</td>\n",
       "      <td>5269</td>\n",
       "      <td>...</td>\n",
       "      <td>0</td>\n",
       "      <td>0</td>\n",
       "      <td>0</td>\n",
       "      <td>0</td>\n",
       "      <td>0</td>\n",
       "      <td>0</td>\n",
       "      <td>0</td>\n",
       "      <td>0</td>\n",
       "      <td>0</td>\n",
       "      <td>0</td>\n",
       "    </tr>\n",
       "    <tr>\n",
       "      <th>3</th>\n",
       "      <td>3022</td>\n",
       "      <td>276</td>\n",
       "      <td>13</td>\n",
       "      <td>192</td>\n",
       "      <td>16</td>\n",
       "      <td>3034</td>\n",
       "      <td>207</td>\n",
       "      <td>238</td>\n",
       "      <td>156</td>\n",
       "      <td>2866</td>\n",
       "      <td>...</td>\n",
       "      <td>0</td>\n",
       "      <td>0</td>\n",
       "      <td>0</td>\n",
       "      <td>0</td>\n",
       "      <td>0</td>\n",
       "      <td>0</td>\n",
       "      <td>0</td>\n",
       "      <td>0</td>\n",
       "      <td>0</td>\n",
       "      <td>0</td>\n",
       "    </tr>\n",
       "    <tr>\n",
       "      <th>4</th>\n",
       "      <td>2906</td>\n",
       "      <td>186</td>\n",
       "      <td>13</td>\n",
       "      <td>266</td>\n",
       "      <td>22</td>\n",
       "      <td>2916</td>\n",
       "      <td>231</td>\n",
       "      <td>231</td>\n",
       "      <td>154</td>\n",
       "      <td>2642</td>\n",
       "      <td>...</td>\n",
       "      <td>0</td>\n",
       "      <td>0</td>\n",
       "      <td>0</td>\n",
       "      <td>0</td>\n",
       "      <td>0</td>\n",
       "      <td>0</td>\n",
       "      <td>0</td>\n",
       "      <td>0</td>\n",
       "      <td>0</td>\n",
       "      <td>0</td>\n",
       "    </tr>\n",
       "  </tbody>\n",
       "</table>\n",
       "<p>5 rows × 54 columns</p>\n",
       "</div>"
      ],
      "text/plain": [
       "    Elevation  Aspect  Slope  Horizontal_Distance_To_Hydrology  \\\n",
       "Id                                                               \n",
       "0        3189      40      8                                30   \n",
       "1        3026     182      5                               280   \n",
       "2        3106      13      7                               351   \n",
       "3        3022     276     13                               192   \n",
       "4        2906     186     13                               266   \n",
       "\n",
       "    Vertical_Distance_To_Hydrology  Horizontal_Distance_To_Roadways  \\\n",
       "Id                                                                    \n",
       "0                               13                             3270   \n",
       "1                               29                             3270   \n",
       "2                               37                             2914   \n",
       "3                               16                             3034   \n",
       "4                               22                             2916   \n",
       "\n",
       "    Hillshade_9am  Hillshade_Noon  Hillshade_3pm  \\\n",
       "Id                                                 \n",
       "0             206             234            193   \n",
       "1             233             240            106   \n",
       "2             208             234            137   \n",
       "3             207             238            156   \n",
       "4             231             231            154   \n",
       "\n",
       "    Horizontal_Distance_To_Fire_Points  ...  Soil_Type31  Soil_Type32  \\\n",
       "Id                                      ...                             \n",
       "0                                 4873  ...            0            0   \n",
       "1                                 5423  ...            0            0   \n",
       "2                                 5269  ...            0            0   \n",
       "3                                 2866  ...            0            0   \n",
       "4                                 2642  ...            0            0   \n",
       "\n",
       "    Soil_Type33  Soil_Type34  Soil_Type35  Soil_Type36  Soil_Type37  \\\n",
       "Id                                                                    \n",
       "0             0            0            0            0            0   \n",
       "1             0            0            0            0            0   \n",
       "2             0            0            0            0            0   \n",
       "3             0            0            0            0            0   \n",
       "4             0            0            0            0            0   \n",
       "\n",
       "    Soil_Type38  Soil_Type39  Soil_Type40  \n",
       "Id                                         \n",
       "0             0            0            0  \n",
       "1             0            0            0  \n",
       "2             0            0            0  \n",
       "3             0            0            0  \n",
       "4             0            0            0  \n",
       "\n",
       "[5 rows x 54 columns]"
      ]
     },
     "execution_count": 29,
     "metadata": {},
     "output_type": "execute_result"
    }
   ],
   "source": [
    "X = df.drop(labels='Cover_Type', axis=1)\n",
    "X.head()"
   ]
  },
  {
   "cell_type": "code",
   "execution_count": 32,
   "id": "7d89abaf-a8e3-4dde-94af-4acbc4b313f9",
   "metadata": {},
   "outputs": [
    {
     "data": {
      "text/plain": [
       "(array([10, 11, 12, 13, 14, 15, 16, 17, 18, 19, 21, 22, 23, 24, 25, 26, 27,\n",
       "        29, 30, 31, 32, 33, 34, 35, 36, 37, 38, 39, 40, 41, 42, 43, 44, 45,\n",
       "        46, 47, 48, 49, 50, 51, 52, 53]),)"
      ]
     },
     "execution_count": 32,
     "metadata": {},
     "output_type": "execute_result"
    }
   ],
   "source": [
    "dummies = np.where(X.nunique() == 2)\n",
    "dummies"
   ]
  },
  {
   "cell_type": "code",
   "execution_count": 34,
   "id": "b8ef5969-562d-4433-9944-afb2877febf1",
   "metadata": {},
   "outputs": [
    {
     "data": {
      "text/plain": [
       "42"
      ]
     },
     "execution_count": 34,
     "metadata": {},
     "output_type": "execute_result"
    }
   ],
   "source": [
    "len(dummies[0])"
   ]
  },
  {
   "cell_type": "markdown",
   "id": "a4b5ab91-0676-40a0-94c9-7c82b7856777",
   "metadata": {},
   "source": [
    "There are a *lot* of dummy variables here. 42 in fact."
   ]
  },
  {
   "cell_type": "code",
   "execution_count": 35,
   "id": "0db8bf2b-c7e0-48e5-bbf0-c9eca64f4094",
   "metadata": {},
   "outputs": [],
   "source": [
    "y = df.loc[:,'Cover_Type']"
   ]
  },
  {
   "cell_type": "code",
   "execution_count": 36,
   "id": "96c37ba8-0c36-47ed-ad81-491b78b8feb7",
   "metadata": {},
   "outputs": [
    {
     "data": {
      "text/plain": [
       "(4000000,)"
      ]
     },
     "execution_count": 36,
     "metadata": {},
     "output_type": "execute_result"
    }
   ],
   "source": [
    "y.shape"
   ]
  },
  {
   "cell_type": "code",
   "execution_count": 37,
   "id": "2204e98b-4415-4a9c-a5f2-8ae869192a07",
   "metadata": {},
   "outputs": [
    {
     "data": {
      "text/plain": [
       "<AxesSubplot:>"
      ]
     },
     "execution_count": 37,
     "metadata": {},
     "output_type": "execute_result"
    },
    {
     "data": {
      "image/png": "[encoded data removed]",
      "text/plain": [
       "<Figure size 432x288 with 1 Axes>"
      ]
     },
     "metadata": {
      "needs_background": "light"
     },
     "output_type": "display_data"
    }
   ],
   "source": [
    "y.hist()"
   ]
  },
  {
   "cell_type": "code",
   "execution_count": 38,
   "id": "e968b3ab-948d-4e66-94d0-d58c5d161612",
   "metadata": {},
   "outputs": [
    {
     "name": "stderr",
     "output_type": "stream",
     "text": [
      "/home/sf/anaconda3/envs/tabular-x/lib/python3.8/site-packages/ipykernel/ipkernel.py:287: DeprecationWarning: `should_run_async` will not call `transform_cell` automatically in the future. Please pass the result to `transformed_cell` argument and any exception that happen during thetransform in `preprocessing_exc_tuple` in IPython 7.17 and above.\n",
      "  and should_run_async(code)\n"
     ]
    },
    {
     "data": {
      "text/plain": [
       "2    2262087\n",
       "1    1468136\n",
       "3     195712\n",
       "7      62261\n",
       "6      11426\n",
       "4        377\n",
       "5          1\n",
       "Name: Cover_Type, dtype: int64"
      ]
     },
     "execution_count": 38,
     "metadata": {},
     "output_type": "execute_result"
    }
   ],
   "source": [
    "y.value_counts()"
   ]
  },
  {
   "cell_type": "code",
   "execution_count": 43,
   "id": "500a9eed-aefe-4fa6-a07e-2dd1293aeb3a",
   "metadata": {},
   "outputs": [
    {
     "data": {
      "text/plain": [
       "Elevation                             False\n",
       "Aspect                                False\n",
       "Slope                                 False\n",
       "Horizontal_Distance_To_Hydrology      False\n",
       "Vertical_Distance_To_Hydrology        False\n",
       "Horizontal_Distance_To_Roadways       False\n",
       "Hillshade_9am                         False\n",
       "Hillshade_Noon                        False\n",
       "Hillshade_3pm                         False\n",
       "Horizontal_Distance_To_Fire_Points    False\n",
       "Wilderness_Area1                      False\n",
       "Wilderness_Area2                      False\n",
       "Wilderness_Area3                      False\n",
       "Wilderness_Area4                      False\n",
       "Soil_Type1                            False\n",
       "Soil_Type2                            False\n",
       "Soil_Type3                            False\n",
       "Soil_Type4                            False\n",
       "Soil_Type5                            False\n",
       "Soil_Type6                            False\n",
       "Soil_Type7                            False\n",
       "Soil_Type8                            False\n",
       "Soil_Type9                            False\n",
       "Soil_Type10                           False\n",
       "Soil_Type11                           False\n",
       "Soil_Type12                           False\n",
       "Soil_Type13                           False\n",
       "Soil_Type14                           False\n",
       "Soil_Type15                           False\n",
       "Soil_Type16                           False\n",
       "Soil_Type17                           False\n",
       "Soil_Type18                           False\n",
       "Soil_Type19                           False\n",
       "Soil_Type20                           False\n",
       "Soil_Type21                           False\n",
       "Soil_Type22                           False\n",
       "Soil_Type23                           False\n",
       "Soil_Type24                           False\n",
       "Soil_Type25                           False\n",
       "Soil_Type26                           False\n",
       "Soil_Type27                           False\n",
       "Soil_Type28                           False\n",
       "Soil_Type29                           False\n",
       "Soil_Type30                           False\n",
       "Soil_Type31                           False\n",
       "Soil_Type32                           False\n",
       "Soil_Type33                           False\n",
       "Soil_Type34                           False\n",
       "Soil_Type35                           False\n",
       "Soil_Type36                           False\n",
       "Soil_Type37                           False\n",
       "Soil_Type38                           False\n",
       "Soil_Type39                           False\n",
       "Soil_Type40                           False\n",
       "dtype: bool"
      ]
     },
     "execution_count": 43,
     "metadata": {},
     "output_type": "execute_result"
    }
   ],
   "source": [
    "X.isna().any()"
   ]
  },
  {
   "cell_type": "code",
   "execution_count": 39,
   "id": "0e86d6aa-d05f-4120-8757-b3a136d91da2",
   "metadata": {},
   "outputs": [],
   "source": [
    "X.index.name = None\n",
    "X.to_feather(path=datapath/'X_orig.feather')"
   ]
  },
  {
   "cell_type": "code",
   "execution_count": 40,
   "id": "2ccad832-87cf-4200-9954-68a13823e8bf",
   "metadata": {},
   "outputs": [
    {
     "data": {
      "text/plain": [
       "['/media/sf/easystore/kaggle_data/tabular_playgrounds/dec2021/datasets/y_orig.joblib']"
      ]
     },
     "execution_count": 40,
     "metadata": {},
     "output_type": "execute_result"
    }
   ],
   "source": [
    "dump(value=y, filename=datapath/'y_orig.joblib')"
   ]
  },
  {
   "cell_type": "markdown",
   "id": "3d7ab5e2-3370-4544-834f-fba04d540936",
   "metadata": {},
   "source": [
    "## Test Set"
   ]
  },
  {
   "cell_type": "code",
   "execution_count": 61,
   "id": "cebf7d9f-2c7d-4afa-8a3c-5c372285bfa8",
   "metadata": {},
   "outputs": [
    {
     "name": "stderr",
     "output_type": "stream",
     "text": [
      "/home/sf/anaconda3/envs/tabular-x/lib/python3.8/site-packages/ipykernel/ipkernel.py:287: DeprecationWarning: `should_run_async` will not call `transform_cell` automatically in the future. Please pass the result to `transformed_cell` argument and any exception that happen during thetransform in `preprocessing_exc_tuple` in IPython 7.17 and above.\n",
      "  and should_run_async(code)\n"
     ]
    }
   ],
   "source": [
    "df_test = pd.read_csv(datapath/'test.csv', low_memory=False)\n",
    "X_test = df_test.drop(labels='Id', axis=1)"
   ]
  },
  {
   "cell_type": "code",
   "execution_count": 62,
   "id": "51b0f7db-35ff-4ed8-9bb3-4ddca94e4f92",
   "metadata": {},
   "outputs": [
    {
     "name": "stdout",
     "output_type": "stream",
     "text": [
      "Mem. usage decreased to 60.08 Mb (85.4% reduction)\n"
     ]
    }
   ],
   "source": [
    "X_test = reduce_memory_usage(X_test)\n",
    "X_test.index.name"
   ]
  },
  {
   "cell_type": "code",
   "execution_count": 63,
   "id": "14e2d2ec-71f2-4ed0-bfaa-bb9b7db35b5c",
   "metadata": {},
   "outputs": [],
   "source": [
    "X_test.to_feather(path=datapath/'X_test.feather')"
   ]
  },
  {
   "cell_type": "markdown",
   "id": "b1f92688-61c6-474e-86d7-495f3580e7ab",
   "metadata": {
    "tags": []
   },
   "source": [
    "# Exploring Distributions"
   ]
  },
  {
   "cell_type": "code",
   "execution_count": 64,
   "id": "257b3e80-c2ab-46c5-940b-7a93fa97c22d",
   "metadata": {},
   "outputs": [
    {
     "data": {
      "text/html": [
       "<div>\n",
       "<style scoped>\n",
       "    .dataframe tbody tr th:only-of-type {\n",
       "        vertical-align: middle;\n",
       "    }\n",
       "\n",
       "    .dataframe tbody tr th {\n",
       "        vertical-align: top;\n",
       "    }\n",
       "\n",
       "    .dataframe thead th {\n",
       "        text-align: right;\n",
       "    }\n",
       "</style>\n",
       "<table border=\"1\" class=\"dataframe\">\n",
       "  <thead>\n",
       "    <tr style=\"text-align: right;\">\n",
       "      <th></th>\n",
       "      <th>Elevation</th>\n",
       "      <th>Aspect</th>\n",
       "      <th>Slope</th>\n",
       "      <th>Horizontal_Distance_To_Hydrology</th>\n",
       "      <th>Vertical_Distance_To_Hydrology</th>\n",
       "      <th>Horizontal_Distance_To_Roadways</th>\n",
       "      <th>Hillshade_9am</th>\n",
       "      <th>Hillshade_Noon</th>\n",
       "      <th>Hillshade_3pm</th>\n",
       "      <th>Horizontal_Distance_To_Fire_Points</th>\n",
       "      <th>...</th>\n",
       "      <th>Soil_Type31</th>\n",
       "      <th>Soil_Type32</th>\n",
       "      <th>Soil_Type33</th>\n",
       "      <th>Soil_Type34</th>\n",
       "      <th>Soil_Type35</th>\n",
       "      <th>Soil_Type36</th>\n",
       "      <th>Soil_Type37</th>\n",
       "      <th>Soil_Type38</th>\n",
       "      <th>Soil_Type39</th>\n",
       "      <th>Soil_Type40</th>\n",
       "    </tr>\n",
       "  </thead>\n",
       "  <tbody>\n",
       "    <tr>\n",
       "      <th>count</th>\n",
       "      <td>4.000000e+06</td>\n",
       "      <td>4.000000e+06</td>\n",
       "      <td>4.000000e+06</td>\n",
       "      <td>4.000000e+06</td>\n",
       "      <td>4.000000e+06</td>\n",
       "      <td>4.000000e+06</td>\n",
       "      <td>4.000000e+06</td>\n",
       "      <td>4.000000e+06</td>\n",
       "      <td>4.000000e+06</td>\n",
       "      <td>4.000000e+06</td>\n",
       "      <td>...</td>\n",
       "      <td>4.000000e+06</td>\n",
       "      <td>4.000000e+06</td>\n",
       "      <td>4.000000e+06</td>\n",
       "      <td>4.000000e+06</td>\n",
       "      <td>4.000000e+06</td>\n",
       "      <td>4.000000e+06</td>\n",
       "      <td>4.000000e+06</td>\n",
       "      <td>4.000000e+06</td>\n",
       "      <td>4.000000e+06</td>\n",
       "      <td>4.000000e+06</td>\n",
       "    </tr>\n",
       "    <tr>\n",
       "      <th>mean</th>\n",
       "      <td>2.980192e+03</td>\n",
       "      <td>1.515857e+02</td>\n",
       "      <td>1.509754e+01</td>\n",
       "      <td>2.713154e+02</td>\n",
       "      <td>5.166262e+01</td>\n",
       "      <td>1.766642e+03</td>\n",
       "      <td>2.118375e+02</td>\n",
       "      <td>2.210614e+02</td>\n",
       "      <td>1.408109e+02</td>\n",
       "      <td>1.581407e+03</td>\n",
       "      <td>...</td>\n",
       "      <td>2.749325e-02</td>\n",
       "      <td>3.746200e-02</td>\n",
       "      <td>3.782075e-02</td>\n",
       "      <td>1.199500e-02</td>\n",
       "      <td>1.605350e-02</td>\n",
       "      <td>1.071275e-02</td>\n",
       "      <td>1.220750e-02</td>\n",
       "      <td>4.075150e-02</td>\n",
       "      <td>3.923925e-02</td>\n",
       "      <td>3.161850e-02</td>\n",
       "    </tr>\n",
       "    <tr>\n",
       "      <th>std</th>\n",
       "      <td>2.890482e+02</td>\n",
       "      <td>1.099611e+02</td>\n",
       "      <td>8.546731e+00</td>\n",
       "      <td>2.265497e+02</td>\n",
       "      <td>6.821597e+01</td>\n",
       "      <td>1.315610e+03</td>\n",
       "      <td>3.075996e+01</td>\n",
       "      <td>2.223134e+01</td>\n",
       "      <td>4.369864e+01</td>\n",
       "      <td>1.127616e+03</td>\n",
       "      <td>...</td>\n",
       "      <td>1.635157e-01</td>\n",
       "      <td>1.898910e-01</td>\n",
       "      <td>1.907625e-01</td>\n",
       "      <td>1.088629e-01</td>\n",
       "      <td>1.256813e-01</td>\n",
       "      <td>1.029465e-01</td>\n",
       "      <td>1.098111e-01</td>\n",
       "      <td>1.977140e-01</td>\n",
       "      <td>1.941637e-01</td>\n",
       "      <td>1.749822e-01</td>\n",
       "    </tr>\n",
       "    <tr>\n",
       "      <th>min</th>\n",
       "      <td>1.773000e+03</td>\n",
       "      <td>-3.300000e+01</td>\n",
       "      <td>-3.000000e+00</td>\n",
       "      <td>-9.200000e+01</td>\n",
       "      <td>-3.170000e+02</td>\n",
       "      <td>-2.870000e+02</td>\n",
       "      <td>-4.000000e+00</td>\n",
       "      <td>4.900000e+01</td>\n",
       "      <td>-5.300000e+01</td>\n",
       "      <td>-2.770000e+02</td>\n",
       "      <td>...</td>\n",
       "      <td>0.000000e+00</td>\n",
       "      <td>0.000000e+00</td>\n",
       "      <td>0.000000e+00</td>\n",
       "      <td>0.000000e+00</td>\n",
       "      <td>0.000000e+00</td>\n",
       "      <td>0.000000e+00</td>\n",
       "      <td>0.000000e+00</td>\n",
       "      <td>0.000000e+00</td>\n",
       "      <td>0.000000e+00</td>\n",
       "      <td>0.000000e+00</td>\n",
       "    </tr>\n",
       "    <tr>\n",
       "      <th>25%</th>\n",
       "      <td>2.760000e+03</td>\n",
       "      <td>6.000000e+01</td>\n",
       "      <td>9.000000e+00</td>\n",
       "      <td>1.100000e+02</td>\n",
       "      <td>4.000000e+00</td>\n",
       "      <td>8.220000e+02</td>\n",
       "      <td>1.980000e+02</td>\n",
       "      <td>2.100000e+02</td>\n",
       "      <td>1.150000e+02</td>\n",
       "      <td>7.810000e+02</td>\n",
       "      <td>...</td>\n",
       "      <td>0.000000e+00</td>\n",
       "      <td>0.000000e+00</td>\n",
       "      <td>0.000000e+00</td>\n",
       "      <td>0.000000e+00</td>\n",
       "      <td>0.000000e+00</td>\n",
       "      <td>0.000000e+00</td>\n",
       "      <td>0.000000e+00</td>\n",
       "      <td>0.000000e+00</td>\n",
       "      <td>0.000000e+00</td>\n",
       "      <td>0.000000e+00</td>\n",
       "    </tr>\n",
       "    <tr>\n",
       "      <th>50%</th>\n",
       "      <td>2.966000e+03</td>\n",
       "      <td>1.230000e+02</td>\n",
       "      <td>1.400000e+01</td>\n",
       "      <td>2.130000e+02</td>\n",
       "      <td>3.100000e+01</td>\n",
       "      <td>1.436000e+03</td>\n",
       "      <td>2.180000e+02</td>\n",
       "      <td>2.240000e+02</td>\n",
       "      <td>1.420000e+02</td>\n",
       "      <td>1.361000e+03</td>\n",
       "      <td>...</td>\n",
       "      <td>0.000000e+00</td>\n",
       "      <td>0.000000e+00</td>\n",
       "      <td>0.000000e+00</td>\n",
       "      <td>0.000000e+00</td>\n",
       "      <td>0.000000e+00</td>\n",
       "      <td>0.000000e+00</td>\n",
       "      <td>0.000000e+00</td>\n",
       "      <td>0.000000e+00</td>\n",
       "      <td>0.000000e+00</td>\n",
       "      <td>0.000000e+00</td>\n",
       "    </tr>\n",
       "    <tr>\n",
       "      <th>75%</th>\n",
       "      <td>3.217000e+03</td>\n",
       "      <td>2.470000e+02</td>\n",
       "      <td>2.000000e+01</td>\n",
       "      <td>3.610000e+02</td>\n",
       "      <td>7.800000e+01</td>\n",
       "      <td>2.365000e+03</td>\n",
       "      <td>2.330000e+02</td>\n",
       "      <td>2.370000e+02</td>\n",
       "      <td>1.690000e+02</td>\n",
       "      <td>2.084000e+03</td>\n",
       "      <td>...</td>\n",
       "      <td>0.000000e+00</td>\n",
       "      <td>0.000000e+00</td>\n",
       "      <td>0.000000e+00</td>\n",
       "      <td>0.000000e+00</td>\n",
       "      <td>0.000000e+00</td>\n",
       "      <td>0.000000e+00</td>\n",
       "      <td>0.000000e+00</td>\n",
       "      <td>0.000000e+00</td>\n",
       "      <td>0.000000e+00</td>\n",
       "      <td>0.000000e+00</td>\n",
       "    </tr>\n",
       "    <tr>\n",
       "      <th>max</th>\n",
       "      <td>4.383000e+03</td>\n",
       "      <td>4.070000e+02</td>\n",
       "      <td>6.400000e+01</td>\n",
       "      <td>1.602000e+03</td>\n",
       "      <td>6.470000e+02</td>\n",
       "      <td>7.666000e+03</td>\n",
       "      <td>3.010000e+02</td>\n",
       "      <td>2.790000e+02</td>\n",
       "      <td>2.720000e+02</td>\n",
       "      <td>8.075000e+03</td>\n",
       "      <td>...</td>\n",
       "      <td>1.000000e+00</td>\n",
       "      <td>1.000000e+00</td>\n",
       "      <td>1.000000e+00</td>\n",
       "      <td>1.000000e+00</td>\n",
       "      <td>1.000000e+00</td>\n",
       "      <td>1.000000e+00</td>\n",
       "      <td>1.000000e+00</td>\n",
       "      <td>1.000000e+00</td>\n",
       "      <td>1.000000e+00</td>\n",
       "      <td>1.000000e+00</td>\n",
       "    </tr>\n",
       "  </tbody>\n",
       "</table>\n",
       "<p>8 rows × 54 columns</p>\n",
       "</div>"
      ],
      "text/plain": [
       "          Elevation        Aspect         Slope  \\\n",
       "count  4.000000e+06  4.000000e+06  4.000000e+06   \n",
       "mean   2.980192e+03  1.515857e+02  1.509754e+01   \n",
       "std    2.890482e+02  1.099611e+02  8.546731e+00   \n",
       "min    1.773000e+03 -3.300000e+01 -3.000000e+00   \n",
       "25%    2.760000e+03  6.000000e+01  9.000000e+00   \n",
       "50%    2.966000e+03  1.230000e+02  1.400000e+01   \n",
       "75%    3.217000e+03  2.470000e+02  2.000000e+01   \n",
       "max    4.383000e+03  4.070000e+02  6.400000e+01   \n",
       "\n",
       "       Horizontal_Distance_To_Hydrology  Vertical_Distance_To_Hydrology  \\\n",
       "count                      4.000000e+06                    4.000000e+06   \n",
       "mean                       2.713154e+02                    5.166262e+01   \n",
       "std                        2.265497e+02                    6.821597e+01   \n",
       "min                       -9.200000e+01                   -3.170000e+02   \n",
       "25%                        1.100000e+02                    4.000000e+00   \n",
       "50%                        2.130000e+02                    3.100000e+01   \n",
       "75%                        3.610000e+02                    7.800000e+01   \n",
       "max                        1.602000e+03                    6.470000e+02   \n",
       "\n",
       "       Horizontal_Distance_To_Roadways  Hillshade_9am  Hillshade_Noon  \\\n",
       "count                     4.000000e+06   4.000000e+06    4.000000e+06   \n",
       "mean                      1.766642e+03   2.118375e+02    2.210614e+02   \n",
       "std                       1.315610e+03   3.075996e+01    2.223134e+01   \n",
       "min                      -2.870000e+02  -4.000000e+00    4.900000e+01   \n",
       "25%                       8.220000e+02   1.980000e+02    2.100000e+02   \n",
       "50%                       1.436000e+03   2.180000e+02    2.240000e+02   \n",
       "75%                       2.365000e+03   2.330000e+02    2.370000e+02   \n",
       "max                       7.666000e+03   3.010000e+02    2.790000e+02   \n",
       "\n",
       "       Hillshade_3pm  Horizontal_Distance_To_Fire_Points  ...   Soil_Type31  \\\n",
       "count   4.000000e+06                        4.000000e+06  ...  4.000000e+06   \n",
       "mean    1.408109e+02                        1.581407e+03  ...  2.749325e-02   \n",
       "std     4.369864e+01                        1.127616e+03  ...  1.635157e-01   \n",
       "min    -5.300000e+01                       -2.770000e+02  ...  0.000000e+00   \n",
       "25%     1.150000e+02                        7.810000e+02  ...  0.000000e+00   \n",
       "50%     1.420000e+02                        1.361000e+03  ...  0.000000e+00   \n",
       "75%     1.690000e+02                        2.084000e+03  ...  0.000000e+00   \n",
       "max     2.720000e+02                        8.075000e+03  ...  1.000000e+00   \n",
       "\n",
       "        Soil_Type32   Soil_Type33   Soil_Type34   Soil_Type35   Soil_Type36  \\\n",
       "count  4.000000e+06  4.000000e+06  4.000000e+06  4.000000e+06  4.000000e+06   \n",
       "mean   3.746200e-02  3.782075e-02  1.199500e-02  1.605350e-02  1.071275e-02   \n",
       "std    1.898910e-01  1.907625e-01  1.088629e-01  1.256813e-01  1.029465e-01   \n",
       "min    0.000000e+00  0.000000e+00  0.000000e+00  0.000000e+00  0.000000e+00   \n",
       "25%    0.000000e+00  0.000000e+00  0.000000e+00  0.000000e+00  0.000000e+00   \n",
       "50%    0.000000e+00  0.000000e+00  0.000000e+00  0.000000e+00  0.000000e+00   \n",
       "75%    0.000000e+00  0.000000e+00  0.000000e+00  0.000000e+00  0.000000e+00   \n",
       "max    1.000000e+00  1.000000e+00  1.000000e+00  1.000000e+00  1.000000e+00   \n",
       "\n",
       "        Soil_Type37   Soil_Type38   Soil_Type39   Soil_Type40  \n",
       "count  4.000000e+06  4.000000e+06  4.000000e+06  4.000000e+06  \n",
       "mean   1.220750e-02  4.075150e-02  3.923925e-02  3.161850e-02  \n",
       "std    1.098111e-01  1.977140e-01  1.941637e-01  1.749822e-01  \n",
       "min    0.000000e+00  0.000000e+00  0.000000e+00  0.000000e+00  \n",
       "25%    0.000000e+00  0.000000e+00  0.000000e+00  0.000000e+00  \n",
       "50%    0.000000e+00  0.000000e+00  0.000000e+00  0.000000e+00  \n",
       "75%    0.000000e+00  0.000000e+00  0.000000e+00  0.000000e+00  \n",
       "max    1.000000e+00  1.000000e+00  1.000000e+00  1.000000e+00  \n",
       "\n",
       "[8 rows x 54 columns]"
      ]
     },
     "execution_count": 64,
     "metadata": {},
     "output_type": "execute_result"
    }
   ],
   "source": [
    "X.describe()"
   ]
  },
  {
   "cell_type": "code",
   "execution_count": 65,
   "id": "9f01c2b4-0b88-4b0e-be7d-71a74fae0f62",
   "metadata": {},
   "outputs": [
    {
     "name": "stderr",
     "output_type": "stream",
     "text": [
      "/home/sf/anaconda3/envs/tabular-x/lib/python3.8/site-packages/ipykernel/ipkernel.py:287: DeprecationWarning: `should_run_async` will not call `transform_cell` automatically in the future. Please pass the result to `transformed_cell` argument and any exception that happen during thetransform in `preprocessing_exc_tuple` in IPython 7.17 and above.\n",
      "  and should_run_async(code)\n"
     ]
    },
    {
     "data": {
      "text/html": [
       "<div>\n",
       "<style scoped>\n",
       "    .dataframe tbody tr th:only-of-type {\n",
       "        vertical-align: middle;\n",
       "    }\n",
       "\n",
       "    .dataframe tbody tr th {\n",
       "        vertical-align: top;\n",
       "    }\n",
       "\n",
       "    .dataframe thead th {\n",
       "        text-align: right;\n",
       "    }\n",
       "</style>\n",
       "<table border=\"1\" class=\"dataframe\">\n",
       "  <thead>\n",
       "    <tr style=\"text-align: right;\">\n",
       "      <th></th>\n",
       "      <th>Elevation</th>\n",
       "      <th>Aspect</th>\n",
       "      <th>Slope</th>\n",
       "      <th>Horizontal_Distance_To_Hydrology</th>\n",
       "      <th>Vertical_Distance_To_Hydrology</th>\n",
       "      <th>Horizontal_Distance_To_Roadways</th>\n",
       "      <th>Hillshade_9am</th>\n",
       "      <th>Hillshade_Noon</th>\n",
       "      <th>Hillshade_3pm</th>\n",
       "      <th>Horizontal_Distance_To_Fire_Points</th>\n",
       "      <th>...</th>\n",
       "      <th>Soil_Type31</th>\n",
       "      <th>Soil_Type32</th>\n",
       "      <th>Soil_Type33</th>\n",
       "      <th>Soil_Type34</th>\n",
       "      <th>Soil_Type35</th>\n",
       "      <th>Soil_Type36</th>\n",
       "      <th>Soil_Type37</th>\n",
       "      <th>Soil_Type38</th>\n",
       "      <th>Soil_Type39</th>\n",
       "      <th>Soil_Type40</th>\n",
       "    </tr>\n",
       "  </thead>\n",
       "  <tbody>\n",
       "    <tr>\n",
       "      <th>count</th>\n",
       "      <td>1000000.000000</td>\n",
       "      <td>1000000.000000</td>\n",
       "      <td>1000000.000000</td>\n",
       "      <td>1000000.000000</td>\n",
       "      <td>1000000.000000</td>\n",
       "      <td>1000000.000000</td>\n",
       "      <td>1000000.000000</td>\n",
       "      <td>1000000.000000</td>\n",
       "      <td>1000000.000000</td>\n",
       "      <td>1000000.000000</td>\n",
       "      <td>...</td>\n",
       "      <td>1000000.000000</td>\n",
       "      <td>1000000.000000</td>\n",
       "      <td>1000000.000000</td>\n",
       "      <td>1000000.000000</td>\n",
       "      <td>1000000.000000</td>\n",
       "      <td>1000000.000000</td>\n",
       "      <td>1000000.000000</td>\n",
       "      <td>1000000.000000</td>\n",
       "      <td>1000000.000000</td>\n",
       "      <td>1000000.000000</td>\n",
       "    </tr>\n",
       "    <tr>\n",
       "      <th>mean</th>\n",
       "      <td>2969.602410</td>\n",
       "      <td>152.231636</td>\n",
       "      <td>14.923460</td>\n",
       "      <td>264.368149</td>\n",
       "      <td>51.480362</td>\n",
       "      <td>1713.507869</td>\n",
       "      <td>211.659709</td>\n",
       "      <td>221.476154</td>\n",
       "      <td>139.861454</td>\n",
       "      <td>1665.384311</td>\n",
       "      <td>...</td>\n",
       "      <td>0.029638</td>\n",
       "      <td>0.043415</td>\n",
       "      <td>0.040606</td>\n",
       "      <td>0.012155</td>\n",
       "      <td>0.015766</td>\n",
       "      <td>0.010695</td>\n",
       "      <td>0.012063</td>\n",
       "      <td>0.043393</td>\n",
       "      <td>0.039841</td>\n",
       "      <td>0.032778</td>\n",
       "    </tr>\n",
       "    <tr>\n",
       "      <th>std</th>\n",
       "      <td>342.676046</td>\n",
       "      <td>111.629725</td>\n",
       "      <td>8.457005</td>\n",
       "      <td>227.971753</td>\n",
       "      <td>68.520188</td>\n",
       "      <td>1374.922218</td>\n",
       "      <td>31.280435</td>\n",
       "      <td>21.951950</td>\n",
       "      <td>45.398002</td>\n",
       "      <td>1212.225118</td>\n",
       "      <td>...</td>\n",
       "      <td>0.169587</td>\n",
       "      <td>0.203790</td>\n",
       "      <td>0.197376</td>\n",
       "      <td>0.109578</td>\n",
       "      <td>0.124569</td>\n",
       "      <td>0.102862</td>\n",
       "      <td>0.109167</td>\n",
       "      <td>0.203740</td>\n",
       "      <td>0.195586</td>\n",
       "      <td>0.178055</td>\n",
       "    </tr>\n",
       "    <tr>\n",
       "      <th>min</th>\n",
       "      <td>1782.000000</td>\n",
       "      <td>-33.000000</td>\n",
       "      <td>-3.000000</td>\n",
       "      <td>-136.000000</td>\n",
       "      <td>-329.000000</td>\n",
       "      <td>-264.000000</td>\n",
       "      <td>1.000000</td>\n",
       "      <td>53.000000</td>\n",
       "      <td>-51.000000</td>\n",
       "      <td>-267.000000</td>\n",
       "      <td>...</td>\n",
       "      <td>0.000000</td>\n",
       "      <td>0.000000</td>\n",
       "      <td>0.000000</td>\n",
       "      <td>0.000000</td>\n",
       "      <td>0.000000</td>\n",
       "      <td>0.000000</td>\n",
       "      <td>0.000000</td>\n",
       "      <td>0.000000</td>\n",
       "      <td>0.000000</td>\n",
       "      <td>0.000000</td>\n",
       "    </tr>\n",
       "    <tr>\n",
       "      <th>25%</th>\n",
       "      <td>2725.000000</td>\n",
       "      <td>59.000000</td>\n",
       "      <td>9.000000</td>\n",
       "      <td>102.000000</td>\n",
       "      <td>3.000000</td>\n",
       "      <td>751.000000</td>\n",
       "      <td>197.000000</td>\n",
       "      <td>210.000000</td>\n",
       "      <td>114.000000</td>\n",
       "      <td>820.000000</td>\n",
       "      <td>...</td>\n",
       "      <td>0.000000</td>\n",
       "      <td>0.000000</td>\n",
       "      <td>0.000000</td>\n",
       "      <td>0.000000</td>\n",
       "      <td>0.000000</td>\n",
       "      <td>0.000000</td>\n",
       "      <td>0.000000</td>\n",
       "      <td>0.000000</td>\n",
       "      <td>0.000000</td>\n",
       "      <td>0.000000</td>\n",
       "    </tr>\n",
       "    <tr>\n",
       "      <th>50%</th>\n",
       "      <td>2968.000000</td>\n",
       "      <td>124.000000</td>\n",
       "      <td>14.000000</td>\n",
       "      <td>206.000000</td>\n",
       "      <td>31.000000</td>\n",
       "      <td>1320.000000</td>\n",
       "      <td>218.000000</td>\n",
       "      <td>224.000000</td>\n",
       "      <td>142.000000</td>\n",
       "      <td>1416.000000</td>\n",
       "      <td>...</td>\n",
       "      <td>0.000000</td>\n",
       "      <td>0.000000</td>\n",
       "      <td>0.000000</td>\n",
       "      <td>0.000000</td>\n",
       "      <td>0.000000</td>\n",
       "      <td>0.000000</td>\n",
       "      <td>0.000000</td>\n",
       "      <td>0.000000</td>\n",
       "      <td>0.000000</td>\n",
       "      <td>0.000000</td>\n",
       "    </tr>\n",
       "    <tr>\n",
       "      <th>75%</th>\n",
       "      <td>3245.000000</td>\n",
       "      <td>251.000000</td>\n",
       "      <td>20.000000</td>\n",
       "      <td>356.000000</td>\n",
       "      <td>78.000000</td>\n",
       "      <td>2261.000000</td>\n",
       "      <td>234.000000</td>\n",
       "      <td>237.000000</td>\n",
       "      <td>169.000000</td>\n",
       "      <td>2149.000000</td>\n",
       "      <td>...</td>\n",
       "      <td>0.000000</td>\n",
       "      <td>0.000000</td>\n",
       "      <td>0.000000</td>\n",
       "      <td>0.000000</td>\n",
       "      <td>0.000000</td>\n",
       "      <td>0.000000</td>\n",
       "      <td>0.000000</td>\n",
       "      <td>0.000000</td>\n",
       "      <td>0.000000</td>\n",
       "      <td>0.000000</td>\n",
       "    </tr>\n",
       "    <tr>\n",
       "      <th>max</th>\n",
       "      <td>4359.000000</td>\n",
       "      <td>400.000000</td>\n",
       "      <td>63.000000</td>\n",
       "      <td>1583.000000</td>\n",
       "      <td>634.000000</td>\n",
       "      <td>7653.000000</td>\n",
       "      <td>296.000000</td>\n",
       "      <td>276.000000</td>\n",
       "      <td>270.000000</td>\n",
       "      <td>8007.000000</td>\n",
       "      <td>...</td>\n",
       "      <td>1.000000</td>\n",
       "      <td>1.000000</td>\n",
       "      <td>1.000000</td>\n",
       "      <td>1.000000</td>\n",
       "      <td>1.000000</td>\n",
       "      <td>1.000000</td>\n",
       "      <td>1.000000</td>\n",
       "      <td>1.000000</td>\n",
       "      <td>1.000000</td>\n",
       "      <td>1.000000</td>\n",
       "    </tr>\n",
       "  </tbody>\n",
       "</table>\n",
       "<p>8 rows × 54 columns</p>\n",
       "</div>"
      ],
      "text/plain": [
       "            Elevation          Aspect           Slope  \\\n",
       "count  1000000.000000  1000000.000000  1000000.000000   \n",
       "mean      2969.602410      152.231636       14.923460   \n",
       "std        342.676046      111.629725        8.457005   \n",
       "min       1782.000000      -33.000000       -3.000000   \n",
       "25%       2725.000000       59.000000        9.000000   \n",
       "50%       2968.000000      124.000000       14.000000   \n",
       "75%       3245.000000      251.000000       20.000000   \n",
       "max       4359.000000      400.000000       63.000000   \n",
       "\n",
       "       Horizontal_Distance_To_Hydrology  Vertical_Distance_To_Hydrology  \\\n",
       "count                    1000000.000000                  1000000.000000   \n",
       "mean                         264.368149                       51.480362   \n",
       "std                          227.971753                       68.520188   \n",
       "min                         -136.000000                     -329.000000   \n",
       "25%                          102.000000                        3.000000   \n",
       "50%                          206.000000                       31.000000   \n",
       "75%                          356.000000                       78.000000   \n",
       "max                         1583.000000                      634.000000   \n",
       "\n",
       "       Horizontal_Distance_To_Roadways   Hillshade_9am  Hillshade_Noon  \\\n",
       "count                   1000000.000000  1000000.000000  1000000.000000   \n",
       "mean                       1713.507869      211.659709      221.476154   \n",
       "std                        1374.922218       31.280435       21.951950   \n",
       "min                        -264.000000        1.000000       53.000000   \n",
       "25%                         751.000000      197.000000      210.000000   \n",
       "50%                        1320.000000      218.000000      224.000000   \n",
       "75%                        2261.000000      234.000000      237.000000   \n",
       "max                        7653.000000      296.000000      276.000000   \n",
       "\n",
       "        Hillshade_3pm  Horizontal_Distance_To_Fire_Points  ...  \\\n",
       "count  1000000.000000                      1000000.000000  ...   \n",
       "mean       139.861454                         1665.384311  ...   \n",
       "std         45.398002                         1212.225118  ...   \n",
       "min        -51.000000                         -267.000000  ...   \n",
       "25%        114.000000                          820.000000  ...   \n",
       "50%        142.000000                         1416.000000  ...   \n",
       "75%        169.000000                         2149.000000  ...   \n",
       "max        270.000000                         8007.000000  ...   \n",
       "\n",
       "          Soil_Type31     Soil_Type32     Soil_Type33     Soil_Type34  \\\n",
       "count  1000000.000000  1000000.000000  1000000.000000  1000000.000000   \n",
       "mean         0.029638        0.043415        0.040606        0.012155   \n",
       "std          0.169587        0.203790        0.197376        0.109578   \n",
       "min          0.000000        0.000000        0.000000        0.000000   \n",
       "25%          0.000000        0.000000        0.000000        0.000000   \n",
       "50%          0.000000        0.000000        0.000000        0.000000   \n",
       "75%          0.000000        0.000000        0.000000        0.000000   \n",
       "max          1.000000        1.000000        1.000000        1.000000   \n",
       "\n",
       "          Soil_Type35     Soil_Type36     Soil_Type37     Soil_Type38  \\\n",
       "count  1000000.000000  1000000.000000  1000000.000000  1000000.000000   \n",
       "mean         0.015766        0.010695        0.012063        0.043393   \n",
       "std          0.124569        0.102862        0.109167        0.203740   \n",
       "min          0.000000        0.000000        0.000000        0.000000   \n",
       "25%          0.000000        0.000000        0.000000        0.000000   \n",
       "50%          0.000000        0.000000        0.000000        0.000000   \n",
       "75%          0.000000        0.000000        0.000000        0.000000   \n",
       "max          1.000000        1.000000        1.000000        1.000000   \n",
       "\n",
       "          Soil_Type39     Soil_Type40  \n",
       "count  1000000.000000  1000000.000000  \n",
       "mean         0.039841        0.032778  \n",
       "std          0.195586        0.178055  \n",
       "min          0.000000        0.000000  \n",
       "25%          0.000000        0.000000  \n",
       "50%          0.000000        0.000000  \n",
       "75%          0.000000        0.000000  \n",
       "max          1.000000        1.000000  \n",
       "\n",
       "[8 rows x 54 columns]"
      ]
     },
     "execution_count": 65,
     "metadata": {},
     "output_type": "execute_result"
    }
   ],
   "source": [
    "X_test.describe()"
   ]
  },
  {
   "cell_type": "markdown",
   "id": "db9b6a6a-1be6-4329-9b10-89240564895e",
   "metadata": {},
   "source": [
    "- Elevations look essentially the same. Aspect too. Slope is pretty similar.\n",
    "- The horizontal distance to hydrology is comparable, but the minimum value is a good bit lower on the test set (-136 vs -92 in the training set). \n",
    "- The horizontal distnace to roadways is slightly shifted, but not wildly.\n",
    "- 9am Hillshade has a negative minimum value in the train set (-4) but a pos min in the test set (1); otherwise pretty similar\n",
    "- "
   ]
  },
  {
   "cell_type": "markdown",
   "id": "6f0cf09f-fd67-421e-a2fe-4bce299520f5",
   "metadata": {},
   "source": [
    "So regularization / scaling / normalization may be required for this dataset."
   ]
  },
  {
   "cell_type": "code",
   "execution_count": 17,
   "id": "68e5d2b5-2b7c-48c4-8516-3e9492e16bdb",
   "metadata": {},
   "outputs": [
    {
     "data": {
      "text/plain": [
       "(66.43947014500003, -16.743552199100005)"
      ]
     },
     "execution_count": 17,
     "metadata": {},
     "output_type": "execute_result"
    }
   ],
   "source": [
    "X.mean(axis=1).max(), X.mean(axis=1).min()"
   ]
  },
  {
   "cell_type": "code",
   "execution_count": 18,
   "id": "03ef7baa-fa13-4e67-81f5-f5adcce955c3",
   "metadata": {},
   "outputs": [
    {
     "data": {
      "text/plain": [
       "f73      0.050814\n",
       "f33      0.054776\n",
       "f89      0.056866\n",
       "f27      0.057945\n",
       "f93      0.059407\n",
       "          ...    \n",
       "f6       2.699650\n",
       "f11      2.759273\n",
       "f44      3.227368\n",
       "f35     55.698848\n",
       "f2     306.644536\n",
       "Length: 100, dtype: float64"
      ]
     },
     "execution_count": 18,
     "metadata": {},
     "output_type": "execute_result"
    }
   ],
   "source": [
    "means = X.mean(axis=0).sort_values()\n",
    "means"
   ]
  },
  {
   "cell_type": "markdown",
   "id": "ce08eaa4-4e0c-472f-8fa5-b5d5e102a459",
   "metadata": {},
   "source": [
    "Note that it's `f2` that's a huge outlier wrt mean; `f35` is also an outlier. Otherwise, the means are in the 0 to 3ish range"
   ]
  },
  {
   "cell_type": "code",
   "execution_count": 19,
   "id": "4eaffb33-c193-4b81-9b69-9e3679567076",
   "metadata": {},
   "outputs": [
    {
     "data": {
      "text/plain": [
       "f2    -1842.530000\n",
       "f35    -397.004000\n",
       "f44     -42.443200\n",
       "f76     -18.456000\n",
       "f16     -18.169600\n",
       "          ...     \n",
       "f6       -1.059310\n",
       "f12      -0.678145\n",
       "f73      -0.659289\n",
       "f53      -0.653369\n",
       "f21      -0.151519\n",
       "Length: 100, dtype: float64"
      ]
     },
     "execution_count": 19,
     "metadata": {},
     "output_type": "execute_result"
    }
   ],
   "source": [
    "mins = X.min(axis=0).sort_values()\n",
    "mins"
   ]
  },
  {
   "cell_type": "code",
   "execution_count": 20,
   "id": "e6d7bd4a-a45e-4916-aa9b-e7f3650c635c",
   "metadata": {},
   "outputs": [
    {
     "data": {
      "text/plain": [
       "f21       0.526576\n",
       "f73       1.704140\n",
       "f53       2.332980\n",
       "f12       2.361230\n",
       "f78       3.476110\n",
       "          ...     \n",
       "f16      41.469200\n",
       "f84      45.224700\n",
       "f44     131.565000\n",
       "f35    1464.470000\n",
       "f2     6119.280000\n",
       "Length: 100, dtype: float64"
      ]
     },
     "execution_count": 20,
     "metadata": {},
     "output_type": "execute_result"
    }
   ],
   "source": [
    "maxs = X.max(axis=0).sort_values()\n",
    "maxs"
   ]
  },
  {
   "cell_type": "code",
   "execution_count": 21,
   "id": "79f1086d-c1a2-4bf2-92dc-45fa8002dc80",
   "metadata": {},
   "outputs": [
    {
     "data": {
      "text/plain": [
       "f73      0.049142\n",
       "f21      0.054796\n",
       "f33      0.109661\n",
       "f90      0.112654\n",
       "f27      0.114129\n",
       "          ...    \n",
       "f36      1.785712\n",
       "f84      2.364291\n",
       "f44      5.414258\n",
       "f35    130.132892\n",
       "f2     551.743893\n",
       "Length: 100, dtype: float64"
      ]
     },
     "execution_count": 21,
     "metadata": {},
     "output_type": "execute_result"
    }
   ],
   "source": [
    "stds = X.std(axis=0).sort_values()\n",
    "stds"
   ]
  },
  {
   "cell_type": "markdown",
   "id": "6d44a05d-ba46-4e3d-9de2-9ec727eb1d41",
   "metadata": {},
   "source": [
    "It seems that `f44` is also a feature of interest."
   ]
  },
  {
   "cell_type": "code",
   "execution_count": 22,
   "id": "b292a557-7d78-4007-961b-d62ffb4a9d65",
   "metadata": {},
   "outputs": [
    {
     "data": {
      "text/html": [
       "<div>\n",
       "<style scoped>\n",
       "    .dataframe tbody tr th:only-of-type {\n",
       "        vertical-align: middle;\n",
       "    }\n",
       "\n",
       "    .dataframe tbody tr th {\n",
       "        vertical-align: top;\n",
       "    }\n",
       "\n",
       "    .dataframe thead th {\n",
       "        text-align: right;\n",
       "    }\n",
       "</style>\n",
       "<table border=\"1\" class=\"dataframe\">\n",
       "  <thead>\n",
       "    <tr style=\"text-align: right;\">\n",
       "      <th></th>\n",
       "      <th>f2</th>\n",
       "      <th>f35</th>\n",
       "      <th>f44</th>\n",
       "    </tr>\n",
       "  </thead>\n",
       "  <tbody>\n",
       "    <tr>\n",
       "      <th>count</th>\n",
       "      <td>600000.000000</td>\n",
       "      <td>600000.000000</td>\n",
       "      <td>600000.000000</td>\n",
       "    </tr>\n",
       "    <tr>\n",
       "      <th>mean</th>\n",
       "      <td>306.644536</td>\n",
       "      <td>55.698848</td>\n",
       "      <td>3.227368</td>\n",
       "    </tr>\n",
       "    <tr>\n",
       "      <th>std</th>\n",
       "      <td>551.743893</td>\n",
       "      <td>130.132892</td>\n",
       "      <td>5.414258</td>\n",
       "    </tr>\n",
       "    <tr>\n",
       "      <th>min</th>\n",
       "      <td>-1842.530000</td>\n",
       "      <td>-397.004000</td>\n",
       "      <td>-42.443200</td>\n",
       "    </tr>\n",
       "    <tr>\n",
       "      <th>25%</th>\n",
       "      <td>43.573400</td>\n",
       "      <td>6.671687</td>\n",
       "      <td>1.010547</td>\n",
       "    </tr>\n",
       "    <tr>\n",
       "      <th>50%</th>\n",
       "      <td>133.626000</td>\n",
       "      <td>21.222700</td>\n",
       "      <td>2.556800</td>\n",
       "    </tr>\n",
       "    <tr>\n",
       "      <th>75%</th>\n",
       "      <td>302.262250</td>\n",
       "      <td>48.320200</td>\n",
       "      <td>4.214082</td>\n",
       "    </tr>\n",
       "    <tr>\n",
       "      <th>max</th>\n",
       "      <td>6119.280000</td>\n",
       "      <td>1464.470000</td>\n",
       "      <td>131.565000</td>\n",
       "    </tr>\n",
       "  </tbody>\n",
       "</table>\n",
       "</div>"
      ],
      "text/plain": [
       "                  f2            f35            f44\n",
       "count  600000.000000  600000.000000  600000.000000\n",
       "mean      306.644536      55.698848       3.227368\n",
       "std       551.743893     130.132892       5.414258\n",
       "min     -1842.530000    -397.004000     -42.443200\n",
       "25%        43.573400       6.671687       1.010547\n",
       "50%       133.626000      21.222700       2.556800\n",
       "75%       302.262250      48.320200       4.214082\n",
       "max      6119.280000    1464.470000     131.565000"
      ]
     },
     "execution_count": 22,
     "metadata": {},
     "output_type": "execute_result"
    }
   ],
   "source": [
    "X.describe().loc[:,['f2', 'f35', 'f44']]"
   ]
  },
  {
   "cell_type": "markdown",
   "id": "830a2583-038a-4c4d-9a26-ae2561a55255",
   "metadata": {},
   "source": [
    "## TODO - Viz"
   ]
  },
  {
   "cell_type": "markdown",
   "id": "ce94170b-382d-462c-8f4f-56b0dd07d15c",
   "metadata": {},
   "source": [
    "# Checking for High-Cardinality Categoricals"
   ]
  },
  {
   "cell_type": "markdown",
   "id": "3325cac2-31bb-44b7-8c32-44131ff5991c",
   "metadata": {},
   "source": [
    "Let's just check to see if we have any possible lurking, high-cardinality categoricals."
   ]
  },
  {
   "cell_type": "code",
   "execution_count": 23,
   "id": "2f7ab0ff-f8f3-4e12-95fd-db19ff8ea472",
   "metadata": {},
   "outputs": [
    {
     "data": {
      "text/plain": [
       "600000"
      ]
     },
     "execution_count": 23,
     "metadata": {},
     "output_type": "execute_result"
    }
   ],
   "source": [
    "len(X)"
   ]
  },
  {
   "cell_type": "code",
   "execution_count": 24,
   "id": "ce35c57c-81de-4259-86ee-78f30b3ec0b1",
   "metadata": {},
   "outputs": [],
   "source": [
    "possible_categoricals = [f for f in X.columns if ((len(X) - X[f].nunique()) / len(X)) >= 0.9]"
   ]
  },
  {
   "cell_type": "code",
   "execution_count": 25,
   "id": "f0364725-9292-4af1-8134-9bd5c4de3d88",
   "metadata": {},
   "outputs": [
    {
     "data": {
      "text/plain": [
       "[]"
      ]
     },
     "execution_count": 25,
     "metadata": {},
     "output_type": "execute_result"
    }
   ],
   "source": [
    "possible_categoricals"
   ]
  },
  {
   "cell_type": "markdown",
   "id": "b86ba677-6a11-47fa-9164-a4d5ce8ff96f",
   "metadata": {},
   "source": [
    "It would appear no."
   ]
  },
  {
   "cell_type": "code",
   "execution_count": 26,
   "id": "0718ea39-b2d5-4710-9f2f-c72ad56d4575",
   "metadata": {},
   "outputs": [
    {
     "data": {
      "text/plain": [
       "f14    390511\n",
       "f11    395261\n",
       "f55    397458\n",
       "f3     398271\n",
       "f15    399560\n",
       "        ...  \n",
       "f56    509895\n",
       "f88    510289\n",
       "f63    511206\n",
       "f39    514374\n",
       "f0     516483\n",
       "Length: 100, dtype: int64"
      ]
     },
     "execution_count": 26,
     "metadata": {},
     "output_type": "execute_result"
    }
   ],
   "source": [
    "cardinalities = pd.Series([len(X[f].unique()) for f in X.columns], index=X.columns).sort_values()\n",
    "cardinalities"
   ]
  },
  {
   "cell_type": "markdown",
   "id": "e65dce64-6c13-481b-b1ce-f658bc840c2d",
   "metadata": {},
   "source": [
    "So the lowest cardinality feature still has 390k+ values for the 600k instances. I'd say everything is genuinely continuous here."
   ]
  },
  {
   "cell_type": "markdown",
   "id": "f6d75a0f-3a63-4a07-ae5b-f1a34f1ae16e",
   "metadata": {
    "tags": []
   },
   "source": [
    "# Correlations\n",
    "Let's see how well the features correlate with the target value."
   ]
  },
  {
   "cell_type": "code",
   "execution_count": 27,
   "id": "ec87303d-82f3-4999-9142-b9cadf9a7fb1",
   "metadata": {},
   "outputs": [],
   "source": [
    "df_corr = df.corr()"
   ]
  },
  {
   "cell_type": "code",
   "execution_count": 28,
   "id": "9ea5aded-f46d-4d5f-b71f-31ec18b75d3d",
   "metadata": {},
   "outputs": [
    {
     "data": {
      "text/plain": [
       "(101, 101)"
      ]
     },
     "execution_count": 28,
     "metadata": {},
     "output_type": "execute_result"
    }
   ],
   "source": [
    "df_corr.shape"
   ]
  },
  {
   "cell_type": "code",
   "execution_count": 29,
   "id": "8a117a1c-74e3-461c-b950-68025efda41e",
   "metadata": {},
   "outputs": [
    {
     "data": {
      "text/html": [
       "<div>\n",
       "<style scoped>\n",
       "    .dataframe tbody tr th:only-of-type {\n",
       "        vertical-align: middle;\n",
       "    }\n",
       "\n",
       "    .dataframe tbody tr th {\n",
       "        vertical-align: top;\n",
       "    }\n",
       "\n",
       "    .dataframe thead th {\n",
       "        text-align: right;\n",
       "    }\n",
       "</style>\n",
       "<table border=\"1\" class=\"dataframe\">\n",
       "  <thead>\n",
       "    <tr style=\"text-align: right;\">\n",
       "      <th></th>\n",
       "      <th>f0</th>\n",
       "      <th>f1</th>\n",
       "      <th>f2</th>\n",
       "      <th>f3</th>\n",
       "      <th>f4</th>\n",
       "      <th>f5</th>\n",
       "      <th>f6</th>\n",
       "      <th>f7</th>\n",
       "      <th>f8</th>\n",
       "      <th>f9</th>\n",
       "      <th>...</th>\n",
       "      <th>f91</th>\n",
       "      <th>f92</th>\n",
       "      <th>f93</th>\n",
       "      <th>f94</th>\n",
       "      <th>f95</th>\n",
       "      <th>f96</th>\n",
       "      <th>f97</th>\n",
       "      <th>f98</th>\n",
       "      <th>f99</th>\n",
       "      <th>target</th>\n",
       "    </tr>\n",
       "  </thead>\n",
       "  <tbody>\n",
       "    <tr>\n",
       "      <th>f0</th>\n",
       "      <td>1.000000</td>\n",
       "      <td>0.005288</td>\n",
       "      <td>-0.002627</td>\n",
       "      <td>-0.003714</td>\n",
       "      <td>0.013101</td>\n",
       "      <td>-0.002081</td>\n",
       "      <td>-0.004594</td>\n",
       "      <td>-0.003715</td>\n",
       "      <td>-0.007836</td>\n",
       "      <td>0.005646</td>\n",
       "      <td>...</td>\n",
       "      <td>-0.002431</td>\n",
       "      <td>-0.003203</td>\n",
       "      <td>0.000666</td>\n",
       "      <td>-0.005514</td>\n",
       "      <td>-0.001556</td>\n",
       "      <td>-0.014159</td>\n",
       "      <td>-0.016717</td>\n",
       "      <td>0.000539</td>\n",
       "      <td>0.008145</td>\n",
       "      <td>0.001653</td>\n",
       "    </tr>\n",
       "    <tr>\n",
       "      <th>f1</th>\n",
       "      <td>0.005288</td>\n",
       "      <td>1.000000</td>\n",
       "      <td>0.009679</td>\n",
       "      <td>-0.014078</td>\n",
       "      <td>-0.001013</td>\n",
       "      <td>0.008854</td>\n",
       "      <td>0.004880</td>\n",
       "      <td>-0.002326</td>\n",
       "      <td>0.020885</td>\n",
       "      <td>0.008804</td>\n",
       "      <td>...</td>\n",
       "      <td>-0.002975</td>\n",
       "      <td>-0.007733</td>\n",
       "      <td>0.006767</td>\n",
       "      <td>-0.009169</td>\n",
       "      <td>0.003269</td>\n",
       "      <td>0.012188</td>\n",
       "      <td>0.002068</td>\n",
       "      <td>0.002157</td>\n",
       "      <td>0.002548</td>\n",
       "      <td>-0.025762</td>\n",
       "    </tr>\n",
       "    <tr>\n",
       "      <th>f2</th>\n",
       "      <td>-0.002627</td>\n",
       "      <td>0.009679</td>\n",
       "      <td>1.000000</td>\n",
       "      <td>-0.002295</td>\n",
       "      <td>-0.015797</td>\n",
       "      <td>0.011925</td>\n",
       "      <td>-0.000030</td>\n",
       "      <td>-0.004807</td>\n",
       "      <td>0.006432</td>\n",
       "      <td>0.008650</td>\n",
       "      <td>...</td>\n",
       "      <td>0.001939</td>\n",
       "      <td>0.000458</td>\n",
       "      <td>0.005432</td>\n",
       "      <td>0.002372</td>\n",
       "      <td>0.002854</td>\n",
       "      <td>0.002000</td>\n",
       "      <td>-0.001779</td>\n",
       "      <td>-0.001412</td>\n",
       "      <td>-0.001729</td>\n",
       "      <td>-0.023432</td>\n",
       "    </tr>\n",
       "    <tr>\n",
       "      <th>f3</th>\n",
       "      <td>-0.003714</td>\n",
       "      <td>-0.014078</td>\n",
       "      <td>-0.002295</td>\n",
       "      <td>1.000000</td>\n",
       "      <td>-0.010610</td>\n",
       "      <td>-0.021345</td>\n",
       "      <td>0.000324</td>\n",
       "      <td>0.000108</td>\n",
       "      <td>-0.003198</td>\n",
       "      <td>0.000145</td>\n",
       "      <td>...</td>\n",
       "      <td>0.011295</td>\n",
       "      <td>-0.004317</td>\n",
       "      <td>-0.000742</td>\n",
       "      <td>0.005074</td>\n",
       "      <td>0.020866</td>\n",
       "      <td>-0.007060</td>\n",
       "      <td>0.009756</td>\n",
       "      <td>-0.010952</td>\n",
       "      <td>0.000703</td>\n",
       "      <td>-0.041314</td>\n",
       "    </tr>\n",
       "    <tr>\n",
       "      <th>f4</th>\n",
       "      <td>0.013101</td>\n",
       "      <td>-0.001013</td>\n",
       "      <td>-0.015797</td>\n",
       "      <td>-0.010610</td>\n",
       "      <td>1.000000</td>\n",
       "      <td>0.000774</td>\n",
       "      <td>-0.004948</td>\n",
       "      <td>-0.001994</td>\n",
       "      <td>0.000292</td>\n",
       "      <td>-0.000414</td>\n",
       "      <td>...</td>\n",
       "      <td>-0.003535</td>\n",
       "      <td>-0.000355</td>\n",
       "      <td>0.008593</td>\n",
       "      <td>-0.009358</td>\n",
       "      <td>-0.004059</td>\n",
       "      <td>-0.002618</td>\n",
       "      <td>-0.011757</td>\n",
       "      <td>0.012426</td>\n",
       "      <td>0.002732</td>\n",
       "      <td>0.031278</td>\n",
       "    </tr>\n",
       "  </tbody>\n",
       "</table>\n",
       "<p>5 rows × 101 columns</p>\n",
       "</div>"
      ],
      "text/plain": [
       "          f0        f1        f2        f3        f4        f5        f6  \\\n",
       "f0  1.000000  0.005288 -0.002627 -0.003714  0.013101 -0.002081 -0.004594   \n",
       "f1  0.005288  1.000000  0.009679 -0.014078 -0.001013  0.008854  0.004880   \n",
       "f2 -0.002627  0.009679  1.000000 -0.002295 -0.015797  0.011925 -0.000030   \n",
       "f3 -0.003714 -0.014078 -0.002295  1.000000 -0.010610 -0.021345  0.000324   \n",
       "f4  0.013101 -0.001013 -0.015797 -0.010610  1.000000  0.000774 -0.004948   \n",
       "\n",
       "          f7        f8        f9  ...       f91       f92       f93       f94  \\\n",
       "f0 -0.003715 -0.007836  0.005646  ... -0.002431 -0.003203  0.000666 -0.005514   \n",
       "f1 -0.002326  0.020885  0.008804  ... -0.002975 -0.007733  0.006767 -0.009169   \n",
       "f2 -0.004807  0.006432  0.008650  ...  0.001939  0.000458  0.005432  0.002372   \n",
       "f3  0.000108 -0.003198  0.000145  ...  0.011295 -0.004317 -0.000742  0.005074   \n",
       "f4 -0.001994  0.000292 -0.000414  ... -0.003535 -0.000355  0.008593 -0.009358   \n",
       "\n",
       "         f95       f96       f97       f98       f99    target  \n",
       "f0 -0.001556 -0.014159 -0.016717  0.000539  0.008145  0.001653  \n",
       "f1  0.003269  0.012188  0.002068  0.002157  0.002548 -0.025762  \n",
       "f2  0.002854  0.002000 -0.001779 -0.001412 -0.001729 -0.023432  \n",
       "f3  0.020866 -0.007060  0.009756 -0.010952  0.000703 -0.041314  \n",
       "f4 -0.004059 -0.002618 -0.011757  0.012426  0.002732  0.031278  \n",
       "\n",
       "[5 rows x 101 columns]"
      ]
     },
     "execution_count": 29,
     "metadata": {},
     "output_type": "execute_result"
    }
   ],
   "source": [
    "df_corr.head()"
   ]
  },
  {
   "cell_type": "code",
   "execution_count": 30,
   "id": "2fa7e93f-c4a6-4a2b-9714-50c2727fe358",
   "metadata": {},
   "outputs": [],
   "source": [
    "corr_target = df_corr.loc['target':'target']"
   ]
  },
  {
   "cell_type": "markdown",
   "id": "168cd580-ee6f-439e-9be9-106bec424ae2",
   "metadata": {},
   "source": [
    "- This pulls out the correlations with the `target`, which is what matters most, and puts it into a `DataFrame` (vs. `df_corr.loc['target']`, which would yield a `Series` only)."
   ]
  },
  {
   "cell_type": "code",
   "execution_count": 31,
   "id": "530646cd-2410-4143-b732-ca3d7f17e568",
   "metadata": {},
   "outputs": [
    {
     "data": {
      "text/html": [
       "<div>\n",
       "<style scoped>\n",
       "    .dataframe tbody tr th:only-of-type {\n",
       "        vertical-align: middle;\n",
       "    }\n",
       "\n",
       "    .dataframe tbody tr th {\n",
       "        vertical-align: top;\n",
       "    }\n",
       "\n",
       "    .dataframe thead th {\n",
       "        text-align: right;\n",
       "    }\n",
       "</style>\n",
       "<table border=\"1\" class=\"dataframe\">\n",
       "  <thead>\n",
       "    <tr style=\"text-align: right;\">\n",
       "      <th></th>\n",
       "      <th>f0</th>\n",
       "      <th>f1</th>\n",
       "      <th>f2</th>\n",
       "      <th>f3</th>\n",
       "      <th>f4</th>\n",
       "      <th>f5</th>\n",
       "      <th>f6</th>\n",
       "      <th>f7</th>\n",
       "      <th>f8</th>\n",
       "      <th>f9</th>\n",
       "      <th>...</th>\n",
       "      <th>f91</th>\n",
       "      <th>f92</th>\n",
       "      <th>f93</th>\n",
       "      <th>f94</th>\n",
       "      <th>f95</th>\n",
       "      <th>f96</th>\n",
       "      <th>f97</th>\n",
       "      <th>f98</th>\n",
       "      <th>f99</th>\n",
       "      <th>target</th>\n",
       "    </tr>\n",
       "  </thead>\n",
       "  <tbody>\n",
       "    <tr>\n",
       "      <th>target</th>\n",
       "      <td>0.001653</td>\n",
       "      <td>-0.025762</td>\n",
       "      <td>-0.023432</td>\n",
       "      <td>-0.041314</td>\n",
       "      <td>0.031278</td>\n",
       "      <td>-0.029062</td>\n",
       "      <td>0.008199</td>\n",
       "      <td>0.012367</td>\n",
       "      <td>0.105724</td>\n",
       "      <td>-0.029916</td>\n",
       "      <td>...</td>\n",
       "      <td>-0.10612</td>\n",
       "      <td>-0.004139</td>\n",
       "      <td>-0.006059</td>\n",
       "      <td>-0.032312</td>\n",
       "      <td>0.03019</td>\n",
       "      <td>0.059307</td>\n",
       "      <td>-0.080727</td>\n",
       "      <td>0.04716</td>\n",
       "      <td>-0.011223</td>\n",
       "      <td>1.0</td>\n",
       "    </tr>\n",
       "  </tbody>\n",
       "</table>\n",
       "<p>1 rows × 101 columns</p>\n",
       "</div>"
      ],
      "text/plain": [
       "              f0        f1        f2        f3        f4        f5        f6  \\\n",
       "target  0.001653 -0.025762 -0.023432 -0.041314  0.031278 -0.029062  0.008199   \n",
       "\n",
       "              f7        f8        f9  ...      f91       f92       f93  \\\n",
       "target  0.012367  0.105724 -0.029916  ... -0.10612 -0.004139 -0.006059   \n",
       "\n",
       "             f94      f95       f96       f97      f98       f99  target  \n",
       "target -0.032312  0.03019  0.059307 -0.080727  0.04716 -0.011223     1.0  \n",
       "\n",
       "[1 rows x 101 columns]"
      ]
     },
     "execution_count": 31,
     "metadata": {},
     "output_type": "execute_result"
    }
   ],
   "source": [
    "corr_target"
   ]
  },
  {
   "cell_type": "code",
   "execution_count": 32,
   "id": "f68175b9-9adf-4da6-b5f1-9870423952e7",
   "metadata": {},
   "outputs": [
    {
     "data": {
      "text/html": [
       "<div>\n",
       "<style scoped>\n",
       "    .dataframe tbody tr th:only-of-type {\n",
       "        vertical-align: middle;\n",
       "    }\n",
       "\n",
       "    .dataframe tbody tr th {\n",
       "        vertical-align: top;\n",
       "    }\n",
       "\n",
       "    .dataframe thead th {\n",
       "        text-align: right;\n",
       "    }\n",
       "</style>\n",
       "<table border=\"1\" class=\"dataframe\">\n",
       "  <thead>\n",
       "    <tr style=\"text-align: right;\">\n",
       "      <th></th>\n",
       "      <th>f0</th>\n",
       "      <th>f1</th>\n",
       "      <th>f2</th>\n",
       "      <th>f3</th>\n",
       "      <th>f4</th>\n",
       "      <th>f5</th>\n",
       "      <th>f6</th>\n",
       "      <th>f7</th>\n",
       "      <th>f8</th>\n",
       "      <th>f9</th>\n",
       "      <th>...</th>\n",
       "      <th>f90</th>\n",
       "      <th>f91</th>\n",
       "      <th>f92</th>\n",
       "      <th>f93</th>\n",
       "      <th>f94</th>\n",
       "      <th>f95</th>\n",
       "      <th>f96</th>\n",
       "      <th>f97</th>\n",
       "      <th>f98</th>\n",
       "      <th>f99</th>\n",
       "    </tr>\n",
       "  </thead>\n",
       "  <tbody>\n",
       "    <tr>\n",
       "      <th>target</th>\n",
       "      <td>0.001653</td>\n",
       "      <td>-0.025762</td>\n",
       "      <td>-0.023432</td>\n",
       "      <td>-0.041314</td>\n",
       "      <td>0.031278</td>\n",
       "      <td>-0.029062</td>\n",
       "      <td>0.008199</td>\n",
       "      <td>0.012367</td>\n",
       "      <td>0.105724</td>\n",
       "      <td>-0.029916</td>\n",
       "      <td>...</td>\n",
       "      <td>-0.019541</td>\n",
       "      <td>-0.10612</td>\n",
       "      <td>-0.004139</td>\n",
       "      <td>-0.006059</td>\n",
       "      <td>-0.032312</td>\n",
       "      <td>0.03019</td>\n",
       "      <td>0.059307</td>\n",
       "      <td>-0.080727</td>\n",
       "      <td>0.04716</td>\n",
       "      <td>-0.011223</td>\n",
       "    </tr>\n",
       "  </tbody>\n",
       "</table>\n",
       "<p>1 rows × 100 columns</p>\n",
       "</div>"
      ],
      "text/plain": [
       "              f0        f1        f2        f3        f4        f5        f6  \\\n",
       "target  0.001653 -0.025762 -0.023432 -0.041314  0.031278 -0.029062  0.008199   \n",
       "\n",
       "              f7        f8        f9  ...       f90      f91       f92  \\\n",
       "target  0.012367  0.105724 -0.029916  ... -0.019541 -0.10612 -0.004139   \n",
       "\n",
       "             f93       f94      f95       f96       f97      f98       f99  \n",
       "target -0.006059 -0.032312  0.03019  0.059307 -0.080727  0.04716 -0.011223  \n",
       "\n",
       "[1 rows x 100 columns]"
      ]
     },
     "execution_count": 32,
     "metadata": {},
     "output_type": "execute_result"
    }
   ],
   "source": [
    "corr_target = corr_target.drop(['target'], axis=1)\n",
    "corr_target"
   ]
  },
  {
   "cell_type": "markdown",
   "id": "aa9d15e4-9221-4c4f-b319-19174ea92465",
   "metadata": {},
   "source": [
    "- No need to include the self-correlation here"
   ]
  },
  {
   "cell_type": "code",
   "execution_count": 33,
   "id": "c21c6357-3cf0-40ff-8380-01cfacac6200",
   "metadata": {},
   "outputs": [],
   "source": [
    "corr_target_abs = abs(corr_target)"
   ]
  },
  {
   "cell_type": "code",
   "execution_count": 34,
   "id": "0a06a859-af68-4797-9429-59729a578e51",
   "metadata": {},
   "outputs": [],
   "source": [
    "corr_sorted = corr_target_abs.sort_values(by='target', axis=1, ascending=False)"
   ]
  },
  {
   "cell_type": "code",
   "execution_count": 35,
   "id": "60166880-12dd-45b0-9f05-e7a44845b7a0",
   "metadata": {},
   "outputs": [
    {
     "data": {
      "text/html": [
       "<div>\n",
       "<style scoped>\n",
       "    .dataframe tbody tr th:only-of-type {\n",
       "        vertical-align: middle;\n",
       "    }\n",
       "\n",
       "    .dataframe tbody tr th {\n",
       "        vertical-align: top;\n",
       "    }\n",
       "\n",
       "    .dataframe thead th {\n",
       "        text-align: right;\n",
       "    }\n",
       "</style>\n",
       "<table border=\"1\" class=\"dataframe\">\n",
       "  <thead>\n",
       "    <tr style=\"text-align: right;\">\n",
       "      <th></th>\n",
       "      <th>f34</th>\n",
       "      <th>f55</th>\n",
       "      <th>f43</th>\n",
       "      <th>f71</th>\n",
       "      <th>f80</th>\n",
       "      <th>f91</th>\n",
       "      <th>f8</th>\n",
       "      <th>f27</th>\n",
       "      <th>f97</th>\n",
       "      <th>f50</th>\n",
       "      <th>...</th>\n",
       "      <th>f92</th>\n",
       "      <th>f13</th>\n",
       "      <th>f39</th>\n",
       "      <th>f63</th>\n",
       "      <th>f46</th>\n",
       "      <th>f0</th>\n",
       "      <th>f72</th>\n",
       "      <th>f38</th>\n",
       "      <th>f52</th>\n",
       "      <th>f65</th>\n",
       "    </tr>\n",
       "  </thead>\n",
       "  <tbody>\n",
       "    <tr>\n",
       "      <th>target</th>\n",
       "      <td>0.13527</td>\n",
       "      <td>0.113889</td>\n",
       "      <td>0.109418</td>\n",
       "      <td>0.107687</td>\n",
       "      <td>0.106964</td>\n",
       "      <td>0.10612</td>\n",
       "      <td>0.105724</td>\n",
       "      <td>0.101346</td>\n",
       "      <td>0.080727</td>\n",
       "      <td>0.0803</td>\n",
       "      <td>...</td>\n",
       "      <td>0.004139</td>\n",
       "      <td>0.00376</td>\n",
       "      <td>0.002913</td>\n",
       "      <td>0.00287</td>\n",
       "      <td>0.002154</td>\n",
       "      <td>0.001653</td>\n",
       "      <td>0.001339</td>\n",
       "      <td>0.000519</td>\n",
       "      <td>0.00038</td>\n",
       "      <td>0.000084</td>\n",
       "    </tr>\n",
       "  </tbody>\n",
       "</table>\n",
       "<p>1 rows × 100 columns</p>\n",
       "</div>"
      ],
      "text/plain": [
       "            f34       f55       f43       f71       f80      f91        f8  \\\n",
       "target  0.13527  0.113889  0.109418  0.107687  0.106964  0.10612  0.105724   \n",
       "\n",
       "             f27       f97     f50  ...       f92      f13       f39      f63  \\\n",
       "target  0.101346  0.080727  0.0803  ...  0.004139  0.00376  0.002913  0.00287   \n",
       "\n",
       "             f46        f0       f72       f38      f52       f65  \n",
       "target  0.002154  0.001653  0.001339  0.000519  0.00038  0.000084  \n",
       "\n",
       "[1 rows x 100 columns]"
      ]
     },
     "execution_count": 35,
     "metadata": {},
     "output_type": "execute_result"
    }
   ],
   "source": [
    "corr_sorted"
   ]
  },
  {
   "cell_type": "code",
   "execution_count": 41,
   "id": "486659ee-dbfc-4bee-819a-2915b6c8c23b",
   "metadata": {},
   "outputs": [],
   "source": [
    "corr2 = corr_sorted.copy()"
   ]
  },
  {
   "cell_type": "code",
   "execution_count": 47,
   "id": "9bae0317-4d2e-4473-8398-fdaeec188406",
   "metadata": {},
   "outputs": [],
   "source": [
    "corr2 = pd.Series(corr_sorted.iloc[0].T)"
   ]
  },
  {
   "cell_type": "code",
   "execution_count": 48,
   "id": "bcf37df1-bf01-4727-8946-bc3efbc45ffb",
   "metadata": {},
   "outputs": [
    {
     "data": {
      "text/plain": [
       "f34    0.135270\n",
       "f55    0.113889\n",
       "f43    0.109418\n",
       "f71    0.107687\n",
       "f80    0.106964\n",
       "         ...   \n",
       "f0     0.001653\n",
       "f72    0.001339\n",
       "f38    0.000519\n",
       "f52    0.000380\n",
       "f65    0.000084\n",
       "Name: target, Length: 100, dtype: float64"
      ]
     },
     "execution_count": 48,
     "metadata": {},
     "output_type": "execute_result"
    }
   ],
   "source": [
    "corr2"
   ]
  },
  {
   "cell_type": "code",
   "execution_count": 49,
   "id": "b2cb82cb-d995-41ce-bc54-c3067c21921d",
   "metadata": {},
   "outputs": [
    {
     "data": {
      "text/plain": [
       "['/media/sf/easystore/kaggle_data/tabular_playgrounds/nov2021/datasets/feature_correlations_with_target.joblib']"
      ]
     },
     "execution_count": 49,
     "metadata": {},
     "output_type": "execute_result"
    }
   ],
   "source": [
    "dump(corr2, datapath/'feature_correlations_with_target.joblib')"
   ]
  },
  {
   "cell_type": "code",
   "execution_count": 42,
   "id": "09531a2d-db48-4ed0-b5cd-5d4f7ce9f92f",
   "metadata": {},
   "outputs": [
    {
     "data": {
      "text/plain": [
       "['f34', 'f55', 'f43', 'f71', 'f80', 'f91', 'f8', 'f27']"
      ]
     },
     "execution_count": 42,
     "metadata": {},
     "output_type": "execute_result"
    }
   ],
   "source": [
    "useful_features = list(corr_sorted.columns[:8])\n",
    "useful_features"
   ]
  },
  {
   "cell_type": "markdown",
   "id": "956a4952-5991-4170-8b26-86fe4b030868",
   "metadata": {},
   "source": [
    "So it looks like the most-predictive feature is `f34`, but that there are a few others -- 8 in all -- that are better than 10% correlated with the target value. These would be excellent candidates for generating features based on K-means."
   ]
  },
  {
   "cell_type": "markdown",
   "id": "ecde4da0-e69e-47eb-9222-24a408e4db1b",
   "metadata": {
    "tags": []
   },
   "source": [
    "# PCA"
   ]
  },
  {
   "cell_type": "code",
   "execution_count": 45,
   "id": "cb294489-4ea8-4c86-a7ce-7d04eee0f413",
   "metadata": {
    "tags": []
   },
   "outputs": [
    {
     "data": {
      "text/plain": [
       "['/media/sf/easystore/kaggle_data/tabular_playgrounds/nov2021/datasets/PCA_mle.joblib']"
      ]
     },
     "execution_count": 45,
     "metadata": {},
     "output_type": "execute_result"
    }
   ],
   "source": [
    "pca = PCA(n_components='mle', random_state=42)\n",
    "pca.fit(X)\n",
    "dump(pca, datapath/'PCA_mle.joblib')\n",
    "# pca = load(edapath/'PCA_mle.joblib')"
   ]
  },
  {
   "cell_type": "code",
   "execution_count": 46,
   "id": "25c552e2-e9e6-4c7a-8792-27342e26b43d",
   "metadata": {
    "tags": []
   },
   "outputs": [
    {
     "name": "stdout",
     "output_type": "stream",
     "text": [
      "[9.46842553e-01 5.26715976e-02 9.12013783e-05 1.73970223e-05\n",
      " 1.00226527e-05 8.78769705e-06 8.46171605e-06 8.37826700e-06\n",
      " 8.29322879e-06 8.22541545e-06 8.13114843e-06 8.07920462e-06\n",
      " 8.04820561e-06 7.92218688e-06 7.89849320e-06 7.87001318e-06\n",
      " 7.81538201e-06 7.77282584e-06 7.76530286e-06 7.70424840e-06\n",
      " 7.68100364e-06 7.60081220e-06 7.59191316e-06 7.56782801e-06\n",
      " 7.52487605e-06 7.45310628e-06 7.44119882e-06 7.39615483e-06\n",
      " 7.34385372e-06 7.28196062e-06 7.24619601e-06 7.22387337e-06\n",
      " 7.20503656e-06 7.19153269e-06 7.11555909e-06 7.10766942e-06\n",
      " 7.05021837e-06 7.03172727e-06 6.99012984e-06 6.94258827e-06\n",
      " 6.91706414e-06 6.87050766e-06 6.83185315e-06 6.81164332e-06\n",
      " 6.74118109e-06 6.72206138e-06 6.59193385e-06 6.56646414e-06\n",
      " 5.61091781e-06 5.48081977e-06 4.51637667e-06 3.06582334e-06\n",
      " 2.81016773e-06 2.25529937e-06 1.72247960e-06 1.28003835e-06\n",
      " 1.21166016e-06 1.19679982e-06 1.10710040e-06 1.08174379e-06\n",
      " 1.03935195e-06 9.81774819e-07 9.31749269e-07 8.46439329e-07\n",
      " 6.63141138e-07 6.03746324e-07 5.93094646e-07 5.79568135e-07\n",
      " 5.52715861e-07 5.41935073e-07 5.31875564e-07 5.25978759e-07\n",
      " 4.92878448e-07 4.84598257e-07 4.43218024e-07 4.14729234e-07\n",
      " 3.93631327e-07 3.63967062e-07 3.63084234e-07 3.54937635e-07\n",
      " 3.45235462e-07 2.95894113e-07 2.95097341e-07 2.72827879e-07\n",
      " 2.70355139e-07 2.66442081e-07 2.17703575e-07 1.86890903e-07\n",
      " 1.44419061e-07 1.38417141e-07 1.34527118e-07 1.25905385e-07\n",
      " 7.12589736e-08 5.13481077e-08 4.43157995e-08 3.98903957e-08\n",
      " 3.92678504e-08 3.72264837e-08 9.23708723e-09]\n"
     ]
    }
   ],
   "source": [
    "print(pca.explained_variance_ratio_)"
   ]
  },
  {
   "cell_type": "code",
   "execution_count": 47,
   "id": "c2bcd01e-4e69-4d0d-9664-999f07b037c3",
   "metadata": {
    "tags": []
   },
   "outputs": [
    {
     "name": "stdout",
     "output_type": "stream",
     "text": [
      "[4.27378645e+05 1.00800382e+05 4.19444626e+03 1.83194063e+03\n",
      " 1.39048169e+03 1.30200146e+03 1.27762428e+03 1.27130874e+03\n",
      " 1.26484048e+03 1.25965860e+03 1.25241967e+03 1.24841287e+03\n",
      " 1.24601556e+03 1.23622202e+03 1.23437199e+03 1.23214456e+03\n",
      " 1.22786053e+03 1.22451301e+03 1.22392029e+03 1.21909927e+03\n",
      " 1.21725879e+03 1.21088789e+03 1.21017882e+03 1.20825767e+03\n",
      " 1.20482400e+03 1.19906463e+03 1.19810640e+03 1.19447463e+03\n",
      " 1.19024384e+03 1.18521761e+03 1.18230349e+03 1.18048099e+03\n",
      " 1.17894088e+03 1.17783556e+03 1.17159753e+03 1.17094782e+03\n",
      " 1.16620586e+03 1.16467551e+03 1.16122548e+03 1.15726985e+03\n",
      " 1.15514056e+03 1.15124657e+03 1.14800346e+03 1.14630420e+03\n",
      " 1.14035988e+03 1.13874156e+03 1.12766566e+03 1.12548503e+03\n",
      " 1.04037735e+03 1.02824521e+03 9.33402611e+02 7.69037463e+02\n",
      " 7.36275001e+02 6.59592992e+02 5.76435842e+02 4.96918796e+02\n",
      " 4.83464230e+02 4.80490373e+02 4.62133485e+02 4.56810565e+02\n",
      " 4.47770267e+02 4.35190973e+02 4.23958614e+02 4.04084183e+02\n",
      " 3.57665392e+02 3.41272413e+02 3.38248544e+02 3.34369137e+02\n",
      " 3.26531360e+02 3.23331162e+02 3.20316236e+02 3.18535644e+02\n",
      " 3.08349926e+02 3.05748868e+02 2.92403550e+02 2.82850049e+02\n",
      " 2.75561640e+02 2.64975045e+02 2.64653492e+02 2.61667605e+02\n",
      " 2.58066501e+02 2.38914273e+02 2.38592387e+02 2.29413150e+02\n",
      " 2.28371155e+02 2.26712435e+02 2.04930554e+02 1.89875100e+02\n",
      " 1.66911474e+02 1.63406328e+02 1.61093810e+02 1.55846153e+02\n",
      " 1.17244834e+02 9.95259096e+01 9.24598593e+01 8.77219154e+01\n",
      " 8.70347122e+01 8.47422404e+01 4.22125372e+01]\n"
     ]
    }
   ],
   "source": [
    "print(pca.singular_values_)"
   ]
  },
  {
   "cell_type": "code",
   "execution_count": 48,
   "id": "a35d218f-23c8-4fc3-a067-1c00451c2467",
   "metadata": {},
   "outputs": [
    {
     "data": {
      "text/plain": [
       "<AxesSubplot:>"
      ]
     },
     "execution_count": 48,
     "metadata": {},
     "output_type": "execute_result"
    },
    {
     "data": {
      "image/png": "[encoded data removed]",
      "text/plain": [
       "<Figure size 432x288 with 1 Axes>"
      ]
     },
     "metadata": {
      "needs_background": "light"
     },
     "output_type": "display_data"
    }
   ],
   "source": [
    "sns.lineplot(data=np.cumsum(pca.explained_variance_ratio_)) "
   ]
  },
  {
   "cell_type": "markdown",
   "id": "d44c5f80-7289-4f76-8d93-c86347f85dc0",
   "metadata": {},
   "source": [
    "That's striking."
   ]
  },
  {
   "cell_type": "code",
   "execution_count": 49,
   "id": "d58a1598-6d43-4249-87f7-7885cf833648",
   "metadata": {},
   "outputs": [
    {
     "data": {
      "text/plain": [
       "(600000, 99)"
      ]
     },
     "execution_count": 49,
     "metadata": {},
     "output_type": "execute_result"
    }
   ],
   "source": [
    "X_pca = pca.transform(X)\n",
    "X_pca.shape"
   ]
  },
  {
   "cell_type": "code",
   "execution_count": 50,
   "id": "849c27ab-e3ed-4691-83c0-9506685ba521",
   "metadata": {},
   "outputs": [],
   "source": [
    "X_pca_df = pd.DataFrame(X_pca, index=X.index)"
   ]
  },
  {
   "cell_type": "code",
   "execution_count": 51,
   "id": "3cd84eef-b564-408f-b640-a91c3567ff2c",
   "metadata": {},
   "outputs": [
    {
     "data": {
      "text/html": [
       "<div>\n",
       "<style scoped>\n",
       "    .dataframe tbody tr th:only-of-type {\n",
       "        vertical-align: middle;\n",
       "    }\n",
       "\n",
       "    .dataframe tbody tr th {\n",
       "        vertical-align: top;\n",
       "    }\n",
       "\n",
       "    .dataframe thead th {\n",
       "        text-align: right;\n",
       "    }\n",
       "</style>\n",
       "<table border=\"1\" class=\"dataframe\">\n",
       "  <thead>\n",
       "    <tr style=\"text-align: right;\">\n",
       "      <th></th>\n",
       "      <th>0</th>\n",
       "      <th>1</th>\n",
       "      <th>2</th>\n",
       "      <th>3</th>\n",
       "      <th>4</th>\n",
       "      <th>5</th>\n",
       "      <th>6</th>\n",
       "      <th>7</th>\n",
       "      <th>8</th>\n",
       "      <th>9</th>\n",
       "      <th>...</th>\n",
       "      <th>89</th>\n",
       "      <th>90</th>\n",
       "      <th>91</th>\n",
       "      <th>92</th>\n",
       "      <th>93</th>\n",
       "      <th>94</th>\n",
       "      <th>95</th>\n",
       "      <th>96</th>\n",
       "      <th>97</th>\n",
       "      <th>98</th>\n",
       "    </tr>\n",
       "  </thead>\n",
       "  <tbody>\n",
       "    <tr>\n",
       "      <th>0</th>\n",
       "      <td>-173.851416</td>\n",
       "      <td>-44.369534</td>\n",
       "      <td>-1.776503</td>\n",
       "      <td>-0.597948</td>\n",
       "      <td>-0.558690</td>\n",
       "      <td>-2.156565</td>\n",
       "      <td>-0.948887</td>\n",
       "      <td>0.890881</td>\n",
       "      <td>0.992477</td>\n",
       "      <td>-1.994035</td>\n",
       "      <td>...</td>\n",
       "      <td>0.416584</td>\n",
       "      <td>-0.200033</td>\n",
       "      <td>0.463107</td>\n",
       "      <td>-0.055373</td>\n",
       "      <td>0.011302</td>\n",
       "      <td>-0.063499</td>\n",
       "      <td>-0.026181</td>\n",
       "      <td>-0.064579</td>\n",
       "      <td>-0.016873</td>\n",
       "      <td>0.161109</td>\n",
       "    </tr>\n",
       "    <tr>\n",
       "      <th>1</th>\n",
       "      <td>-230.118000</td>\n",
       "      <td>-31.160981</td>\n",
       "      <td>-0.754399</td>\n",
       "      <td>-0.256558</td>\n",
       "      <td>-0.110512</td>\n",
       "      <td>-1.987241</td>\n",
       "      <td>3.852656</td>\n",
       "      <td>3.308621</td>\n",
       "      <td>0.813857</td>\n",
       "      <td>1.077126</td>\n",
       "      <td>...</td>\n",
       "      <td>0.091470</td>\n",
       "      <td>0.465212</td>\n",
       "      <td>-0.024415</td>\n",
       "      <td>-0.057103</td>\n",
       "      <td>0.022771</td>\n",
       "      <td>0.085542</td>\n",
       "      <td>-0.209299</td>\n",
       "      <td>0.009338</td>\n",
       "      <td>0.090590</td>\n",
       "      <td>-0.061669</td>\n",
       "    </tr>\n",
       "    <tr>\n",
       "      <th>2</th>\n",
       "      <td>-73.105058</td>\n",
       "      <td>-21.939138</td>\n",
       "      <td>14.071957</td>\n",
       "      <td>-0.531127</td>\n",
       "      <td>-0.155727</td>\n",
       "      <td>-1.439406</td>\n",
       "      <td>1.721179</td>\n",
       "      <td>0.999267</td>\n",
       "      <td>-0.335982</td>\n",
       "      <td>-0.449358</td>\n",
       "      <td>...</td>\n",
       "      <td>-0.046919</td>\n",
       "      <td>-0.101325</td>\n",
       "      <td>-0.012466</td>\n",
       "      <td>-0.073762</td>\n",
       "      <td>-0.033475</td>\n",
       "      <td>-0.024945</td>\n",
       "      <td>0.052486</td>\n",
       "      <td>0.050650</td>\n",
       "      <td>-0.062635</td>\n",
       "      <td>0.031162</td>\n",
       "    </tr>\n",
       "    <tr>\n",
       "      <th>3</th>\n",
       "      <td>473.308341</td>\n",
       "      <td>-30.415661</td>\n",
       "      <td>68.216760</td>\n",
       "      <td>-0.838599</td>\n",
       "      <td>-1.505867</td>\n",
       "      <td>0.481923</td>\n",
       "      <td>2.142149</td>\n",
       "      <td>2.416112</td>\n",
       "      <td>-0.486816</td>\n",
       "      <td>1.076303</td>\n",
       "      <td>...</td>\n",
       "      <td>-0.093940</td>\n",
       "      <td>-0.038726</td>\n",
       "      <td>-0.112225</td>\n",
       "      <td>-0.091444</td>\n",
       "      <td>-0.000191</td>\n",
       "      <td>-0.045204</td>\n",
       "      <td>-0.127067</td>\n",
       "      <td>-0.112911</td>\n",
       "      <td>0.017363</td>\n",
       "      <td>-0.006578</td>\n",
       "    </tr>\n",
       "    <tr>\n",
       "      <th>4</th>\n",
       "      <td>-150.526308</td>\n",
       "      <td>-40.099136</td>\n",
       "      <td>-0.024382</td>\n",
       "      <td>-0.484390</td>\n",
       "      <td>-0.087701</td>\n",
       "      <td>1.965803</td>\n",
       "      <td>2.625629</td>\n",
       "      <td>-1.018576</td>\n",
       "      <td>-1.673838</td>\n",
       "      <td>-0.417505</td>\n",
       "      <td>...</td>\n",
       "      <td>-0.094311</td>\n",
       "      <td>-0.052336</td>\n",
       "      <td>-0.051593</td>\n",
       "      <td>-0.014662</td>\n",
       "      <td>0.068363</td>\n",
       "      <td>0.052254</td>\n",
       "      <td>-0.060241</td>\n",
       "      <td>-0.068225</td>\n",
       "      <td>-0.014627</td>\n",
       "      <td>0.054425</td>\n",
       "    </tr>\n",
       "  </tbody>\n",
       "</table>\n",
       "<p>5 rows × 99 columns</p>\n",
       "</div>"
      ],
      "text/plain": [
       "           0          1          2         3         4         5         6   \\\n",
       "0 -173.851416 -44.369534  -1.776503 -0.597948 -0.558690 -2.156565 -0.948887   \n",
       "1 -230.118000 -31.160981  -0.754399 -0.256558 -0.110512 -1.987241  3.852656   \n",
       "2  -73.105058 -21.939138  14.071957 -0.531127 -0.155727 -1.439406  1.721179   \n",
       "3  473.308341 -30.415661  68.216760 -0.838599 -1.505867  0.481923  2.142149   \n",
       "4 -150.526308 -40.099136  -0.024382 -0.484390 -0.087701  1.965803  2.625629   \n",
       "\n",
       "         7         8         9   ...        89        90        91        92  \\\n",
       "0  0.890881  0.992477 -1.994035  ...  0.416584 -0.200033  0.463107 -0.055373   \n",
       "1  3.308621  0.813857  1.077126  ...  0.091470  0.465212 -0.024415 -0.057103   \n",
       "2  0.999267 -0.335982 -0.449358  ... -0.046919 -0.101325 -0.012466 -0.073762   \n",
       "3  2.416112 -0.486816  1.076303  ... -0.093940 -0.038726 -0.112225 -0.091444   \n",
       "4 -1.018576 -1.673838 -0.417505  ... -0.094311 -0.052336 -0.051593 -0.014662   \n",
       "\n",
       "         93        94        95        96        97        98  \n",
       "0  0.011302 -0.063499 -0.026181 -0.064579 -0.016873  0.161109  \n",
       "1  0.022771  0.085542 -0.209299  0.009338  0.090590 -0.061669  \n",
       "2 -0.033475 -0.024945  0.052486  0.050650 -0.062635  0.031162  \n",
       "3 -0.000191 -0.045204 -0.127067 -0.112911  0.017363 -0.006578  \n",
       "4  0.068363  0.052254 -0.060241 -0.068225 -0.014627  0.054425  \n",
       "\n",
       "[5 rows x 99 columns]"
      ]
     },
     "execution_count": 51,
     "metadata": {},
     "output_type": "execute_result"
    }
   ],
   "source": [
    "X_pca_df.head()"
   ]
  },
  {
   "cell_type": "code",
   "execution_count": 52,
   "id": "e1ff8298-0be5-4a41-93ff-0f53eaf596ad",
   "metadata": {},
   "outputs": [
    {
     "data": {
      "text/html": [
       "<div>\n",
       "<style scoped>\n",
       "    .dataframe tbody tr th:only-of-type {\n",
       "        vertical-align: middle;\n",
       "    }\n",
       "\n",
       "    .dataframe tbody tr th {\n",
       "        vertical-align: top;\n",
       "    }\n",
       "\n",
       "    .dataframe thead th {\n",
       "        text-align: right;\n",
       "    }\n",
       "</style>\n",
       "<table border=\"1\" class=\"dataframe\">\n",
       "  <thead>\n",
       "    <tr style=\"text-align: right;\">\n",
       "      <th></th>\n",
       "      <th>f0</th>\n",
       "      <th>f1</th>\n",
       "      <th>f2</th>\n",
       "      <th>f3</th>\n",
       "      <th>f4</th>\n",
       "      <th>f5</th>\n",
       "      <th>f6</th>\n",
       "      <th>f7</th>\n",
       "      <th>f8</th>\n",
       "      <th>f9</th>\n",
       "      <th>...</th>\n",
       "      <th>f90</th>\n",
       "      <th>f91</th>\n",
       "      <th>f92</th>\n",
       "      <th>f93</th>\n",
       "      <th>f94</th>\n",
       "      <th>f95</th>\n",
       "      <th>f96</th>\n",
       "      <th>f97</th>\n",
       "      <th>f98</th>\n",
       "      <th>f99</th>\n",
       "    </tr>\n",
       "  </thead>\n",
       "  <tbody>\n",
       "    <tr>\n",
       "      <th>0</th>\n",
       "      <td>0.106643</td>\n",
       "      <td>3.59437</td>\n",
       "      <td>132.8040</td>\n",
       "      <td>3.18428</td>\n",
       "      <td>0.081971</td>\n",
       "      <td>1.18859</td>\n",
       "      <td>3.73238</td>\n",
       "      <td>2.266270</td>\n",
       "      <td>2.09959</td>\n",
       "      <td>0.012330</td>\n",
       "      <td>...</td>\n",
       "      <td>0.010739</td>\n",
       "      <td>1.09862</td>\n",
       "      <td>0.013331</td>\n",
       "      <td>-0.011715</td>\n",
       "      <td>0.052759</td>\n",
       "      <td>0.065400</td>\n",
       "      <td>4.211250</td>\n",
       "      <td>1.97877</td>\n",
       "      <td>0.085974</td>\n",
       "      <td>0.240496</td>\n",
       "    </tr>\n",
       "    <tr>\n",
       "      <th>1</th>\n",
       "      <td>0.125021</td>\n",
       "      <td>1.67336</td>\n",
       "      <td>76.5336</td>\n",
       "      <td>3.37825</td>\n",
       "      <td>0.099400</td>\n",
       "      <td>5.09366</td>\n",
       "      <td>1.27562</td>\n",
       "      <td>-0.471318</td>\n",
       "      <td>4.54594</td>\n",
       "      <td>0.037706</td>\n",
       "      <td>...</td>\n",
       "      <td>0.135838</td>\n",
       "      <td>3.46017</td>\n",
       "      <td>0.017054</td>\n",
       "      <td>0.124863</td>\n",
       "      <td>0.154064</td>\n",
       "      <td>0.606848</td>\n",
       "      <td>-0.267928</td>\n",
       "      <td>2.57786</td>\n",
       "      <td>-0.020877</td>\n",
       "      <td>0.024719</td>\n",
       "    </tr>\n",
       "    <tr>\n",
       "      <th>2</th>\n",
       "      <td>0.036330</td>\n",
       "      <td>1.49747</td>\n",
       "      <td>233.5460</td>\n",
       "      <td>2.19435</td>\n",
       "      <td>0.026914</td>\n",
       "      <td>3.12694</td>\n",
       "      <td>5.05687</td>\n",
       "      <td>3.849460</td>\n",
       "      <td>1.80187</td>\n",
       "      <td>0.056995</td>\n",
       "      <td>...</td>\n",
       "      <td>0.117310</td>\n",
       "      <td>4.88300</td>\n",
       "      <td>0.085222</td>\n",
       "      <td>0.032396</td>\n",
       "      <td>0.116092</td>\n",
       "      <td>-0.001688</td>\n",
       "      <td>-0.520069</td>\n",
       "      <td>2.14112</td>\n",
       "      <td>0.124464</td>\n",
       "      <td>0.148209</td>\n",
       "    </tr>\n",
       "    <tr>\n",
       "      <th>3</th>\n",
       "      <td>-0.014077</td>\n",
       "      <td>0.24600</td>\n",
       "      <td>779.9670</td>\n",
       "      <td>1.89064</td>\n",
       "      <td>0.006948</td>\n",
       "      <td>1.53112</td>\n",
       "      <td>2.69800</td>\n",
       "      <td>4.517330</td>\n",
       "      <td>4.50332</td>\n",
       "      <td>0.123494</td>\n",
       "      <td>...</td>\n",
       "      <td>-0.015347</td>\n",
       "      <td>3.47439</td>\n",
       "      <td>-0.017103</td>\n",
       "      <td>-0.008100</td>\n",
       "      <td>0.062013</td>\n",
       "      <td>0.041193</td>\n",
       "      <td>0.511657</td>\n",
       "      <td>1.96860</td>\n",
       "      <td>0.040017</td>\n",
       "      <td>0.044873</td>\n",
       "    </tr>\n",
       "    <tr>\n",
       "      <th>4</th>\n",
       "      <td>-0.003259</td>\n",
       "      <td>3.71542</td>\n",
       "      <td>156.1280</td>\n",
       "      <td>2.14772</td>\n",
       "      <td>0.018284</td>\n",
       "      <td>2.09859</td>\n",
       "      <td>4.15492</td>\n",
       "      <td>-0.038236</td>\n",
       "      <td>3.37145</td>\n",
       "      <td>0.034166</td>\n",
       "      <td>...</td>\n",
       "      <td>0.013781</td>\n",
       "      <td>1.91059</td>\n",
       "      <td>-0.042943</td>\n",
       "      <td>0.105616</td>\n",
       "      <td>0.125072</td>\n",
       "      <td>0.037509</td>\n",
       "      <td>1.043790</td>\n",
       "      <td>1.07481</td>\n",
       "      <td>-0.012819</td>\n",
       "      <td>0.072798</td>\n",
       "    </tr>\n",
       "  </tbody>\n",
       "</table>\n",
       "<p>5 rows × 100 columns</p>\n",
       "</div>"
      ],
      "text/plain": [
       "         f0       f1        f2       f3        f4       f5       f6        f7  \\\n",
       "0  0.106643  3.59437  132.8040  3.18428  0.081971  1.18859  3.73238  2.266270   \n",
       "1  0.125021  1.67336   76.5336  3.37825  0.099400  5.09366  1.27562 -0.471318   \n",
       "2  0.036330  1.49747  233.5460  2.19435  0.026914  3.12694  5.05687  3.849460   \n",
       "3 -0.014077  0.24600  779.9670  1.89064  0.006948  1.53112  2.69800  4.517330   \n",
       "4 -0.003259  3.71542  156.1280  2.14772  0.018284  2.09859  4.15492 -0.038236   \n",
       "\n",
       "        f8        f9  ...       f90      f91       f92       f93       f94  \\\n",
       "0  2.09959  0.012330  ...  0.010739  1.09862  0.013331 -0.011715  0.052759   \n",
       "1  4.54594  0.037706  ...  0.135838  3.46017  0.017054  0.124863  0.154064   \n",
       "2  1.80187  0.056995  ...  0.117310  4.88300  0.085222  0.032396  0.116092   \n",
       "3  4.50332  0.123494  ... -0.015347  3.47439 -0.017103 -0.008100  0.062013   \n",
       "4  3.37145  0.034166  ...  0.013781  1.91059 -0.042943  0.105616  0.125072   \n",
       "\n",
       "        f95       f96      f97       f98       f99  \n",
       "0  0.065400  4.211250  1.97877  0.085974  0.240496  \n",
       "1  0.606848 -0.267928  2.57786 -0.020877  0.024719  \n",
       "2 -0.001688 -0.520069  2.14112  0.124464  0.148209  \n",
       "3  0.041193  0.511657  1.96860  0.040017  0.044873  \n",
       "4  0.037509  1.043790  1.07481 -0.012819  0.072798  \n",
       "\n",
       "[5 rows x 100 columns]"
      ]
     },
     "execution_count": 52,
     "metadata": {},
     "output_type": "execute_result"
    }
   ],
   "source": [
    "X.head()"
   ]
  },
  {
   "cell_type": "markdown",
   "id": "bf945aab-7ea7-45ec-97de-12487448b010",
   "metadata": {},
   "source": [
    "I'm not entirely certain how to interpret this, but my tentative conclusion is that PCA may not help all that much here... But it's also possible that the result will be quite different after regularization."
   ]
  },
  {
   "cell_type": "markdown",
   "id": "8f2f193e-3c3f-48c7-908c-73fbe167e94d",
   "metadata": {},
   "source": [
    "# Conclusions"
   ]
  },
  {
   "cell_type": "markdown",
   "id": "3c3c191f-cfd9-4d0e-94e4-f28084d89b84",
   "metadata": {},
   "source": [
    "Pending more rigorous statistical interpretation of the distributions of the features, I think we can rule out categorical encoding and imputation as plausible techniques. I may want to apply regularization of some kind, on account of the outliers. Feature selection and feature generation look like strong possible tactics -- perhaps some K-Means clustering for the latter. "
   ]
  }
 ],
 "metadata": {
  "kernelspec": {
   "display_name": "Python 3",
   "language": "python",
   "name": "python3"
  },
  "language_info": {
   "codemirror_mode": {
    "name": "ipython",
    "version": 3
   },
   "file_extension": ".py",
   "mimetype": "text/x-python",
   "name": "python",
   "nbconvert_exporter": "python",
   "pygments_lexer": "ipython3",
   "version": "3.8.12"
  }
 },
 "nbformat": 4,
 "nbformat_minor": 5
}
