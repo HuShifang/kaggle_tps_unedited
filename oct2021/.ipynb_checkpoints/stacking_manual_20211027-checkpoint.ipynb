{
 "cells": [
  {
   "cell_type": "markdown",
   "id": "1d4e7f70-25a3-4d58-b98a-3a695e55ee53",
   "metadata": {},
   "source": [
    "# Baseline\n",
    "Setting up a more robust baseline notebook, suitable for use with all of the \"Big Three\" (XGBoost, CatBoost, LightGBM) libraries and on either Google Colab or the local machine.\n",
    "\n",
    "## 20211017\n",
    "Implementing post-split encoding of non-binary categorical features (with cardinality <100k, but >2) using WOEEncoder on the BorutaShap generated 136-feature dataset. Encoder is fit on the training partition, and that fitted encoder is then deployed on the validation and test partitions."
   ]
  },
  {
   "cell_type": "markdown",
   "id": "1e124c3d-0e1f-4053-8e72-52569a4fe3e4",
   "metadata": {},
   "source": [
    "# Setup"
   ]
  },
  {
   "cell_type": "code",
   "execution_count": 1,
   "id": "dae2ff1e-bd1f-4cc9-8357-5a88d1746ffb",
   "metadata": {},
   "outputs": [],
   "source": [
    "# two manual flags (ex-config)\n",
    "COLAB = False\n",
    "USE_GPU = True\n",
    "libraries = ['xgboost', 'lightgbm', 'catboost', 'widedeep-TabMLP']"
   ]
  },
  {
   "cell_type": "code",
   "execution_count": 2,
   "id": "16849bd2-428c-497b-ba3b-675002f8d041",
   "metadata": {},
   "outputs": [],
   "source": [
    "# basic imports\n",
    "from pathlib import Path\n",
    "import os\n",
    "import math\n",
    "from datetime import datetime\n",
    "import random"
   ]
  },
  {
   "cell_type": "code",
   "execution_count": 3,
   "id": "12d2654b-3bc6-49b5-ade8-cc82112b60e5",
   "metadata": {},
   "outputs": [],
   "source": [
    "%matplotlib inline\n",
    "%config Completer.use_jedi = False\n",
    "os.environ['WANDB_NOTEBOOK_NAME'] = f\"stacking_manual_{datetime.now().strftime('%Y%m%d')}.ipynb\""
   ]
  },
  {
   "cell_type": "code",
   "execution_count": 4,
   "id": "416d6118-e543-4df4-9219-2d4a63743c3a",
   "metadata": {},
   "outputs": [],
   "source": [
    "# handle Google Colab-specific library installation/updating\n",
    "if COLAB:\n",
    "    # much of the below inspired by or cribbed from the May 2021 Kaggle Tabular Playground winner, at \n",
    "    # https://colab.research.google.com/gist/academicsuspect/0aac7bd6e506f5f70295bfc9a3dc2250/tabular-may-baseline.ipynb?authuser=1#scrollTo=LJoVKJb5wN0L\n",
    "    \n",
    "    # Kaggle API for downloading the datasets\n",
    "#     !pip install --upgrade -q kaggle\n",
    "\n",
    "    # weights and biases\n",
    "    !pip install -qqqU wandb\n",
    "    \n",
    "    # Optuna for parameter search\n",
    "    !pip install -q optuna\n",
    "\n",
    "    # upgrade sklearn\n",
    "    !pip install --upgrade scikit-learn\n",
    "\n",
    "#     !pip install category_encoders\n",
    "    \n",
    "    if 'catboost' in libraries:\n",
    "        !pip install catboost\n",
    "    \n",
    "    if 'xgboost' in libraries:\n",
    "        if USE_GPU: \n",
    "            # this part is from https://github.com/rapidsai/gputreeshap/issues/24\n",
    "            !pip install cmake --upgrade\n",
    "            # !pip install sklearn --upgrade\n",
    "            !git clone --recursive https://github.com/dmlc/xgboost\n",
    "            %cd /content/xgboost\n",
    "            !mkdir build\n",
    "            %cd build\n",
    "            !cmake .. -DUSE_CUDA=ON\n",
    "            !make -j4\n",
    "            %cd /content/xgboost/python-package\n",
    "            !python setup.py install --use-cuda --use-nccl\n",
    "            !/opt/bin/nvidia-smi\n",
    "            !pip install shap\n",
    "        else:\n",
    "            !pip install --upgrade xgboost\n",
    "    if 'lightgbm' in libraries:\n",
    "        if USE_GPU:\n",
    "            # lighgbm gpu compatible\n",
    "            !git clone --recursive https://github.com/Microsoft/LightGBM\n",
    "            ! cd LightGBM && rm -rf build && mkdir build && cd build && cmake -DUSE_GPU=1 ../../LightGBM && make -j4 && cd ../python-package && python3 setup.py install --precompile --gpu;\n",
    "        else:\n",
    "            !pip install --upgrade lightgbm\n",
    "        \n",
    "\n",
    "        "
   ]
  },
  {
   "cell_type": "markdown",
   "id": "d40df194-4474-4bcf-ac5a-98efe24b91fd",
   "metadata": {},
   "source": [
    "Now, non-stdlib imports"
   ]
  },
  {
   "cell_type": "code",
   "execution_count": 5,
   "id": "a01e85f7-d602-4dde-bef9-611683cd74c4",
   "metadata": {},
   "outputs": [
    {
     "data": {
      "text/html": [
       "<style type='text/css'>\n",
       ".datatable table.frame { margin-bottom: 0; }\n",
       ".datatable table.frame thead { border-bottom: none; }\n",
       ".datatable table.frame tr.coltypes td {  color: #FFFFFF;  line-height: 6px;  padding: 0 0.5em;}\n",
       ".datatable .bool    { background: #DDDD99; }\n",
       ".datatable .object  { background: #565656; }\n",
       ".datatable .int     { background: #5D9E5D; }\n",
       ".datatable .float   { background: #4040CC; }\n",
       ".datatable .str     { background: #CC4040; }\n",
       ".datatable .time    { background: #40CC40; }\n",
       ".datatable .row_index {  background: var(--jp-border-color3);  border-right: 1px solid var(--jp-border-color0);  color: var(--jp-ui-font-color3);  font-size: 9px;}\n",
       ".datatable .frame tbody td { text-align: left; }\n",
       ".datatable .frame tr.coltypes .row_index {  background: var(--jp-border-color0);}\n",
       ".datatable th:nth-child(2) { padding-left: 12px; }\n",
       ".datatable .hellipsis {  color: var(--jp-cell-editor-border-color);}\n",
       ".datatable .vellipsis {  background: var(--jp-layout-color0);  color: var(--jp-cell-editor-border-color);}\n",
       ".datatable .na {  color: var(--jp-cell-editor-border-color);  font-size: 80%;}\n",
       ".datatable .sp {  opacity: 0.25;}\n",
       ".datatable .footer { font-size: 9px; }\n",
       ".datatable .frame_dimensions {  background: var(--jp-border-color3);  border-top: 1px solid var(--jp-border-color0);  color: var(--jp-ui-font-color3);  display: inline-block;  opacity: 0.6;  padding: 1px 10px 1px 5px;}\n",
       "</style>\n"
      ],
      "text/plain": [
       "<IPython.core.display.HTML object>"
      ]
     },
     "metadata": {},
     "output_type": "display_data"
    }
   ],
   "source": [
    "import pandas as pd\n",
    "import numpy as np\n",
    "import matplotlib.pyplot as plt\n",
    "from tqdm.notebook import tqdm\n",
    "\n",
    "# general ML tooling\n",
    "from sklearn.model_selection import train_test_split, StratifiedKFold, KFold\n",
    "from sklearn.metrics import log_loss, roc_auc_score\n",
    "import wandb\n",
    "from wandb.xgboost import wandb_callback\n",
    "from wandb.lightgbm import wandb_callback\n",
    "from sklearn.impute import SimpleImputer #, KNNImputer\n",
    "# import timm\n",
    "\n",
    "import seaborn as sns\n",
    "\n",
    "from catboost import CatBoostClassifier\n",
    "from xgboost import XGBClassifier\n",
    "from lightgbm import LGBMClassifier\n",
    "# from sklearn.ensemble import StackingClassifier, RandomForestClassifier\n",
    "from sklearn.preprocessing import StandardScaler #, MinMaxScaler, MaxAbsScaler, RobustScaler, PolynomialFeatures\n",
    "from sklearn.linear_model import LogisticRegression\n",
    "# from sklearn.feature_selection import SelectKBest, f_regression\n",
    "from joblib import dump, load\n",
    "# feature engineering tools\n",
    "# from sklearn.feature_selection import mutual_info_regression\n",
    "# import featuretools as ft\n",
    "\n",
    "from BorutaShap import BorutaShap"
   ]
  },
  {
   "cell_type": "code",
   "execution_count": 6,
   "id": "80fee2dc-9908-499b-a6ba-c7cfeaa286fd",
   "metadata": {},
   "outputs": [],
   "source": [
    "from pytorch_widedeep import Trainer\n",
    "from pytorch_widedeep.preprocessing import WidePreprocessor, TabPreprocessor\n",
    "from pytorch_widedeep.models import Wide, TabMlp, WideDeep#, SAINT, TabTransformer, TabNet, TabFastFormer, TabResnet\n",
    "from pytorch_widedeep.metrics import Accuracy\n",
    "from torchmetrics import AUROC\n",
    "import torch\n",
    "from torch.optim import Adam, AdamW, Adagrad, SGD, RMSprop, LBFGS\n",
    "from torch.optim.lr_scheduler import ReduceLROnPlateau, CosineAnnealingWarmRestarts, CyclicLR, OneCycleLR, StepLR, CosineAnnealingLR\n",
    "from pytorch_widedeep.callbacks import EarlyStopping, LRHistory, ModelCheckpoint"
   ]
  },
  {
   "cell_type": "code",
   "execution_count": 7,
   "id": "fcc50eeb-5833-4421-af80-57f081b849b1",
   "metadata": {},
   "outputs": [
    {
     "name": "stderr",
     "output_type": "stream",
     "text": [
      "`should_run_async` will not call `transform_cell` automatically in the future. Please pass the result to `transformed_cell` argument and any exception that happen during thetransform in `preprocessing_exc_tuple` in IPython 7.17 and above.\n",
      "Using or importing the ABCs from 'collections' instead of from 'collections.abc' is deprecated since Python 3.3, and in 3.10 it will stop working\n"
     ]
    }
   ],
   "source": [
    "import category_encoders as ce"
   ]
  },
  {
   "cell_type": "markdown",
   "id": "5f6166c2-ca44-4b7c-a4dc-3db47c2624fe",
   "metadata": {},
   "source": [
    "Now, datapath setup"
   ]
  },
  {
   "cell_type": "code",
   "execution_count": 8,
   "id": "3c18a787-2193-43cb-87ee-51c6ae7b6351",
   "metadata": {},
   "outputs": [
    {
     "name": "stderr",
     "output_type": "stream",
     "text": [
      "`should_run_async` will not call `transform_cell` automatically in the future. Please pass the result to `transformed_cell` argument and any exception that happen during thetransform in `preprocessing_exc_tuple` in IPython 7.17 and above.\n"
     ]
    }
   ],
   "source": [
    "# # This is the code for reading the train.csv and converting it to a .feather file\n",
    "# df = pd.read_csv(datapath/'train.csv', index_col='id', low_memory=False)\n",
    "# df.index.name = None\n",
    "# df.to_feather(path='./dataset_df.feather')"
   ]
  },
  {
   "cell_type": "code",
   "execution_count": 9,
   "id": "0a41cd7e-accb-41c4-ad8b-0eaa3e2b0ad5",
   "metadata": {},
   "outputs": [],
   "source": [
    "if COLAB:\n",
    "    # mount Google Drive\n",
    "    from google.colab import drive\n",
    "    drive.mount('/content/drive')\n",
    "    \n",
    "    # handling datapath\n",
    "    datapath = Path('/content/drive/MyDrive/kaggle/tabular_playgrounds/oct2021/')\n",
    "    \n",
    "else:\n",
    "    # if on local machine\n",
    "#     datapath = Path('/media/sf/easystore/kaggle_data/tabular_playgrounds/sep2021/')  \n",
    "    root = Path('/home/sf/code/kaggle/tabular_playgrounds/oct2021/')\n",
    "    datapath = root/'datasets'\n",
    "    edapath = root/'EDA'\n",
    "    modelpath = Path('/media/sf/easystore/kaggle_data/tabular_playgrounds/oct2021/models/')\n",
    "    predpath = root/'preds'\n",
    "    subpath = root/'submissions'\n",
    "    altdatapath = Path('/media/sf/easystore/kaggle_data/tabular_playgrounds/oct2021/alt_datasets/')\n",
    "    \n",
    "    for pth in [root, datapath, edapath, modelpath, predpath, subpath]:\n",
    "        pth.mkdir(exist_ok=True)\n",
    "    \n"
   ]
  },
  {
   "cell_type": "code",
   "execution_count": 10,
   "id": "fad41f0c-4a5c-470a-bda3-98152c30bc6b",
   "metadata": {},
   "outputs": [],
   "source": [
    "SEED = 42\n",
    "\n",
    "# Function to seed everything\n",
    "def seed_everything(seed):\n",
    "    random.seed(seed)\n",
    "    np.random.seed(seed)\n",
    "    os.environ['PYTHONHASHSEED'] = str(seed)\n",
    "\n",
    "seed_everything(seed=SEED)"
   ]
  },
  {
   "cell_type": "markdown",
   "id": "2f6e47b3-43bd-4d35-b463-9d76100c6ed5",
   "metadata": {},
   "source": [
    "## Ex-Model Config"
   ]
  },
  {
   "cell_type": "code",
   "execution_count": 11,
   "id": "fb288275-a858-4806-9dc0-0b316c334536",
   "metadata": {},
   "outputs": [],
   "source": [
    "# meta-config for preprocessing and cross-validation, but NOT for model parameters\n",
    "exmodel_config = {\n",
    "#     \"feature_selector\": SelectKBest,\n",
    "#     \"k_best\": 80,\n",
    "#     \"feature_selection_scoring\": f_regression,\n",
    "#     'random_state': SEED,\n",
    "#     'feature_generation': ['NaN_counts', 'SummaryStats', 'NaN_OneHots'],\n",
    "#     'subsample': 1,\n",
    "    'cross_val_strategy': KFold, # None for holdout, or the relevant sklearn class\n",
    "    'kfolds': 5, # if 1, that means just doing holdout\n",
    "    'test_size': 0.2,\n",
    "#     'features_created': False,\n",
    "#     'feature_creator': None,\n",
    "}"
   ]
  },
  {
   "cell_type": "markdown",
   "id": "a52d9012-34f1-435a-ba16-4416e0d4a286",
   "metadata": {},
   "source": [
    "## Data Setup"
   ]
  },
  {
   "cell_type": "markdown",
   "id": "c912a62f-970a-48b4-b428-d886f2612fc2",
   "metadata": {},
   "source": [
    "**TODO** Write some conditional logic here to automate it -- possibly as part of a sklearn.*pipeline"
   ]
  },
  {
   "cell_type": "code",
   "execution_count": 12,
   "id": "61b8603b-68c3-40da-8406-53e143758905",
   "metadata": {},
   "outputs": [],
   "source": [
    "# if exmodel_config['scaler']:\n",
    "#     scaler = exmodel_config['scaler']()\n",
    "#     scaler.fit_transform()"
   ]
  },
  {
   "cell_type": "code",
   "execution_count": 13,
   "id": "db3e37d1-2082-41c6-8693-05c7829e2016",
   "metadata": {},
   "outputs": [],
   "source": [
    "test_source = datapath/'test.feather'\n",
    "# test_source = altdatapath/'test-WITH-KMeans_12cluster_kmeans++_maxiter1000_rs42.feather' # altdatapath/'X_test_boruta_shap_200trials.feather'\n",
    "exmodel_config['test_source'] = str(test_source)\n",
    "X_test = pd.read_feather(path=test_source)\n",
    "# boruta = load(altdatapath/'boruta_shap.joblib')\n",
    "# X_test_enc = \n",
    "# X_test = X_test.iloc[:, 1:] # only if loading the original test"
   ]
  },
  {
   "cell_type": "code",
   "execution_count": 14,
   "id": "64b2aaaf-2fb6-465a-9914-d16050d1310a",
   "metadata": {},
   "outputs": [
    {
     "name": "stderr",
     "output_type": "stream",
     "text": [
      "`should_run_async` will not call `transform_cell` automatically in the future. Please pass the result to `transformed_cell` argument and any exception that happen during thetransform in `preprocessing_exc_tuple` in IPython 7.17 and above.\n"
     ]
    },
    {
     "data": {
      "text/plain": [
       "(500000, 298)"
      ]
     },
     "execution_count": 14,
     "metadata": {},
     "output_type": "execute_result"
    }
   ],
   "source": [
    "X_test.shape"
   ]
  },
  {
   "cell_type": "code",
   "execution_count": 15,
   "id": "681a676d-9dc0-40f5-8bdd-e7c6d3e3887f",
   "metadata": {
    "tags": []
   },
   "outputs": [
    {
     "data": {
      "text/html": [
       "<div>\n",
       "<style scoped>\n",
       "    .dataframe tbody tr th:only-of-type {\n",
       "        vertical-align: middle;\n",
       "    }\n",
       "\n",
       "    .dataframe tbody tr th {\n",
       "        vertical-align: top;\n",
       "    }\n",
       "\n",
       "    .dataframe thead th {\n",
       "        text-align: right;\n",
       "    }\n",
       "</style>\n",
       "<table border=\"1\" class=\"dataframe\">\n",
       "  <thead>\n",
       "    <tr style=\"text-align: right;\">\n",
       "      <th></th>\n",
       "      <th>id</th>\n",
       "      <th>f0</th>\n",
       "      <th>f1</th>\n",
       "      <th>f2</th>\n",
       "      <th>f3</th>\n",
       "      <th>f4</th>\n",
       "      <th>f5</th>\n",
       "      <th>f6</th>\n",
       "      <th>f7</th>\n",
       "      <th>f8</th>\n",
       "      <th>...</th>\n",
       "      <th>cluster3</th>\n",
       "      <th>cluster4</th>\n",
       "      <th>cluster5</th>\n",
       "      <th>cluster6</th>\n",
       "      <th>cluster7</th>\n",
       "      <th>cluster8</th>\n",
       "      <th>cluster9</th>\n",
       "      <th>cluster10</th>\n",
       "      <th>cluster11</th>\n",
       "      <th>cluster12</th>\n",
       "    </tr>\n",
       "  </thead>\n",
       "  <tbody>\n",
       "    <tr>\n",
       "      <th>0</th>\n",
       "      <td>1000000</td>\n",
       "      <td>0.178216</td>\n",
       "      <td>0.435617</td>\n",
       "      <td>0.010230</td>\n",
       "      <td>0.202074</td>\n",
       "      <td>0.390170</td>\n",
       "      <td>0.324221</td>\n",
       "      <td>0.221722</td>\n",
       "      <td>0.738894</td>\n",
       "      <td>0.582588</td>\n",
       "      <td>...</td>\n",
       "      <td>1.185199</td>\n",
       "      <td>0.315625</td>\n",
       "      <td>1.070776</td>\n",
       "      <td>0.696381</td>\n",
       "      <td>0.538687</td>\n",
       "      <td>1.140350</td>\n",
       "      <td>1.220124</td>\n",
       "      <td>0.637664</td>\n",
       "      <td>1.012404</td>\n",
       "      <td>1.211269</td>\n",
       "    </tr>\n",
       "    <tr>\n",
       "      <th>1</th>\n",
       "      <td>1000001</td>\n",
       "      <td>0.181250</td>\n",
       "      <td>0.476455</td>\n",
       "      <td>0.022413</td>\n",
       "      <td>0.283146</td>\n",
       "      <td>0.598020</td>\n",
       "      <td>0.349508</td>\n",
       "      <td>0.283467</td>\n",
       "      <td>0.721575</td>\n",
       "      <td>0.268990</td>\n",
       "      <td>...</td>\n",
       "      <td>0.218235</td>\n",
       "      <td>1.130102</td>\n",
       "      <td>0.543197</td>\n",
       "      <td>1.076760</td>\n",
       "      <td>1.034906</td>\n",
       "      <td>0.265669</td>\n",
       "      <td>0.411199</td>\n",
       "      <td>1.019540</td>\n",
       "      <td>0.523088</td>\n",
       "      <td>0.178327</td>\n",
       "    </tr>\n",
       "    <tr>\n",
       "      <th>2</th>\n",
       "      <td>1000002</td>\n",
       "      <td>0.159721</td>\n",
       "      <td>0.451202</td>\n",
       "      <td>0.259649</td>\n",
       "      <td>0.365274</td>\n",
       "      <td>0.594634</td>\n",
       "      <td>0.413502</td>\n",
       "      <td>0.249318</td>\n",
       "      <td>0.642339</td>\n",
       "      <td>0.411104</td>\n",
       "      <td>...</td>\n",
       "      <td>1.038376</td>\n",
       "      <td>0.560276</td>\n",
       "      <td>1.143643</td>\n",
       "      <td>0.188949</td>\n",
       "      <td>0.467854</td>\n",
       "      <td>1.102420</td>\n",
       "      <td>1.018277</td>\n",
       "      <td>0.285013</td>\n",
       "      <td>1.172531</td>\n",
       "      <td>1.065673</td>\n",
       "    </tr>\n",
       "    <tr>\n",
       "      <th>3</th>\n",
       "      <td>1000003</td>\n",
       "      <td>0.182424</td>\n",
       "      <td>0.520976</td>\n",
       "      <td>0.095344</td>\n",
       "      <td>0.327742</td>\n",
       "      <td>0.741830</td>\n",
       "      <td>0.358711</td>\n",
       "      <td>0.270077</td>\n",
       "      <td>0.601662</td>\n",
       "      <td>0.297742</td>\n",
       "      <td>...</td>\n",
       "      <td>1.018865</td>\n",
       "      <td>0.542023</td>\n",
       "      <td>1.134939</td>\n",
       "      <td>0.407486</td>\n",
       "      <td>0.439657</td>\n",
       "      <td>1.090786</td>\n",
       "      <td>1.082899</td>\n",
       "      <td>0.200967</td>\n",
       "      <td>1.164210</td>\n",
       "      <td>1.052209</td>\n",
       "    </tr>\n",
       "    <tr>\n",
       "      <th>4</th>\n",
       "      <td>1000004</td>\n",
       "      <td>0.229329</td>\n",
       "      <td>0.336513</td>\n",
       "      <td>0.023511</td>\n",
       "      <td>0.300913</td>\n",
       "      <td>0.668738</td>\n",
       "      <td>0.481586</td>\n",
       "      <td>0.545660</td>\n",
       "      <td>0.667849</td>\n",
       "      <td>0.546045</td>\n",
       "      <td>...</td>\n",
       "      <td>0.196298</td>\n",
       "      <td>1.128102</td>\n",
       "      <td>0.515974</td>\n",
       "      <td>1.072158</td>\n",
       "      <td>1.085826</td>\n",
       "      <td>0.418843</td>\n",
       "      <td>0.394191</td>\n",
       "      <td>1.019812</td>\n",
       "      <td>0.579396</td>\n",
       "      <td>0.306105</td>\n",
       "    </tr>\n",
       "  </tbody>\n",
       "</table>\n",
       "<p>5 rows × 298 columns</p>\n",
       "</div>"
      ],
      "text/plain": [
       "        id        f0        f1        f2        f3        f4        f5  \\\n",
       "0  1000000  0.178216  0.435617  0.010230  0.202074  0.390170  0.324221   \n",
       "1  1000001  0.181250  0.476455  0.022413  0.283146  0.598020  0.349508   \n",
       "2  1000002  0.159721  0.451202  0.259649  0.365274  0.594634  0.413502   \n",
       "3  1000003  0.182424  0.520976  0.095344  0.327742  0.741830  0.358711   \n",
       "4  1000004  0.229329  0.336513  0.023511  0.300913  0.668738  0.481586   \n",
       "\n",
       "         f6        f7        f8  ...  cluster3  cluster4  cluster5  cluster6  \\\n",
       "0  0.221722  0.738894  0.582588  ...  1.185199  0.315625  1.070776  0.696381   \n",
       "1  0.283467  0.721575  0.268990  ...  0.218235  1.130102  0.543197  1.076760   \n",
       "2  0.249318  0.642339  0.411104  ...  1.038376  0.560276  1.143643  0.188949   \n",
       "3  0.270077  0.601662  0.297742  ...  1.018865  0.542023  1.134939  0.407486   \n",
       "4  0.545660  0.667849  0.546045  ...  0.196298  1.128102  0.515974  1.072158   \n",
       "\n",
       "   cluster7  cluster8  cluster9  cluster10  cluster11  cluster12  \n",
       "0  0.538687  1.140350  1.220124   0.637664   1.012404   1.211269  \n",
       "1  1.034906  0.265669  0.411199   1.019540   0.523088   0.178327  \n",
       "2  0.467854  1.102420  1.018277   0.285013   1.172531   1.065673  \n",
       "3  0.439657  1.090786  1.082899   0.200967   1.164210   1.052209  \n",
       "4  1.085826  0.418843  0.394191   1.019812   0.579396   0.306105  \n",
       "\n",
       "[5 rows x 298 columns]"
      ]
     },
     "execution_count": 15,
     "metadata": {},
     "output_type": "execute_result"
    }
   ],
   "source": [
    "X_test.head()"
   ]
  },
  {
   "cell_type": "code",
   "execution_count": 16,
   "id": "8c63eedc-0e9a-4148-a1c1-2de263d85aa0",
   "metadata": {},
   "outputs": [
    {
     "name": "stderr",
     "output_type": "stream",
     "text": [
      "`should_run_async` will not call `transform_cell` automatically in the future. Please pass the result to `transformed_cell` argument and any exception that happen during thetransform in `preprocessing_exc_tuple` in IPython 7.17 and above.\n"
     ]
    }
   ],
   "source": [
    "X_test = X_test.drop(['id'], axis=1)"
   ]
  },
  {
   "cell_type": "code",
   "execution_count": 17,
   "id": "490bd37e-1b8b-48f6-96c2-665a6ec8f01a",
   "metadata": {},
   "outputs": [
    {
     "data": {
      "text/plain": [
       "(500000, 297)"
      ]
     },
     "execution_count": 17,
     "metadata": {},
     "output_type": "execute_result"
    }
   ],
   "source": [
    "X_test.shape"
   ]
  },
  {
   "cell_type": "code",
   "execution_count": 18,
   "id": "a431150a-fcb2-4bb3-a0f9-d35df9406c75",
   "metadata": {},
   "outputs": [],
   "source": [
    "train_source = altdatapath/'X_orig.feather'\n",
    "# train_source = altdatapath/'train-WITH-KMeans_12cluster_kmeans++_maxiter1000_rs42.feather' #'X_boruta_shap_200trials.feather'\n",
    "exmodel_config['train_source'] = str(train_source)\n",
    "X = pd.read_feather(path=train_source)\n",
    "if 'target' in X.columns:\n",
    "    X = X.drop(['target'], axis=1)\n",
    "# df.index.name = 'id'\n",
    "# y = np.array(df.target)\n",
    "y = load(datapath/'y.joblib')\n",
    "# features = [x for x in df.columns if x != 'target']\n",
    "# X = df[features] # passing X as a pd.DataFrame to the trainer below, rather than as an np.ndarray\n",
    "# X_train = df[features]\n",
    "# X.index.name = 'id'\n",
    "# y.index.name = 'id'\n"
   ]
  },
  {
   "cell_type": "code",
   "execution_count": 19,
   "id": "7e4c73cb-94d0-4eba-987d-c87bd4e61271",
   "metadata": {},
   "outputs": [
    {
     "data": {
      "text/plain": [
       "(1000000, 297)"
      ]
     },
     "execution_count": 19,
     "metadata": {},
     "output_type": "execute_result"
    }
   ],
   "source": [
    "X.shape"
   ]
  },
  {
   "cell_type": "code",
   "execution_count": 20,
   "id": "764fa08c-4902-410b-83f9-364b84405684",
   "metadata": {},
   "outputs": [],
   "source": [
    "# categoricals = [f for f in X.columns if ((1000000 - X[f].nunique()) / 1000000) >= 0.9 and X[f].nunique() > 2]"
   ]
  },
  {
   "cell_type": "code",
   "execution_count": 21,
   "id": "6fa02752-b091-4490-b00a-68058e390104",
   "metadata": {},
   "outputs": [],
   "source": [
    "# encoder_test = ce.WOEEncoder(cols=categoricals)\n",
    "# encoder_test.fit(X,y) # fitting on the full training set for most possible information, will transform train partition only in k-fold fn\n",
    "# X_test = encoder_test.transform(X_test)"
   ]
  },
  {
   "cell_type": "code",
   "execution_count": 22,
   "id": "6c692aa8-5a70-4693-b8a8-34c118bd4e97",
   "metadata": {},
   "outputs": [],
   "source": [
    "# wide_cols = [f for f in X_train.columns if X_train[f].nunique() == 2]"
   ]
  },
  {
   "cell_type": "markdown",
   "id": "a4a5f215-b585-4f7b-afac-36e49ee28c8f",
   "metadata": {},
   "source": [
    "## Weights and Biases Run Config"
   ]
  },
  {
   "cell_type": "markdown",
   "id": "89a928e1-0a18-4c91-b9bb-a32846e39e5b",
   "metadata": {},
   "source": [
    "Below is the configuration for a Weights and Biases (`wandb`) run."
   ]
  },
  {
   "cell_type": "code",
   "execution_count": 23,
   "id": "e5402d98-7bcd-4e46-b85d-6b0129ca6e96",
   "metadata": {},
   "outputs": [],
   "source": [
    "# wandb config:\n",
    "wandb_config = {\n",
    "    'name': f\"{os.environ['WANDB_NOTEBOOK_NAME'][:-6]}_{datetime.now().strftime('%H%M%S')}\", # just removes the .ipynb extension, leaving the notebook filename's stem\n",
    "    'tags': ['stacking'],\n",
    "    'notes': \"Trying to marginally improve performance by adding in more seeds for the models.\",\n",
    "}"
   ]
  },
  {
   "cell_type": "markdown",
   "id": "638002ad-9266-44d6-8302-ebce2a6f7b06",
   "metadata": {},
   "source": [
    "# Training"
   ]
  },
  {
   "cell_type": "markdown",
   "id": "862e9478-2380-4c4d-8641-5daa72049b6c",
   "metadata": {},
   "source": [
    "# Hyperparameters"
   ]
  },
  {
   "cell_type": "code",
   "execution_count": 24,
   "id": "bc156663-c689-4dfe-a80b-5efaaae1afab",
   "metadata": {},
   "outputs": [],
   "source": [
    "# optuna 20211004, thru 106 trials on unaltered original dataset\n",
    "best_xgboost_params = {\n",
    "    'n_estimators': 3878,\n",
    "    'max_depth': 4,\n",
    "    'learning_rate': 0.024785857161974977,\n",
    "    'reg_alpha': 26.867682044658245,\n",
    "    'reg_lambda': 10.839759074147148,\n",
    "    'subsample': 0.8208581489835881,\n",
    "    'min_child_weight': 8.829122644339664,\n",
    "    'colsample_bytree': 0.906420714280384,\n",
    "    'gamma': 1.472322916021486\n",
    "}\n",
    "\n",
    "# best as of 20211005, thru 65 trials on unaltered original dataset\n",
    "best_lightgbm_params = {\n",
    "    'n_estimators': 6631,\n",
    "    'max_depth': 10,\n",
    "    'learning_rate': 0.004677044539666842,\n",
    "    'reg_alpha': 19.334971246299116,\n",
    "    'reg_lambda': 0.024384251140153856,\n",
    "    'subsample': 0.5082183652689569,\n",
    "    'boosting_type': 'gbdt',\n",
    "    'min_child_samples': 9,\n",
    "    'num_leaves': 233,\n",
    "    'colsample_bytree': 0.5008014086989773\n",
    "}\n",
    "\n",
    "# catboost 20211001 on colab with 100 trials on GPU, unaltered original dataset\n",
    "best_catboost_params = {\n",
    "    'iterations': 29338,\n",
    "    'max_depth': 9,\n",
    "    'learning_rate': 0.004769831650275205,\n",
    "    'random_strength': 7,\n",
    "    'od_wait': 1968,\n",
    "    'reg_lambda': 28.435563240493586,\n",
    "    'border_count': 162,\n",
    "    'min_child_samples': 14,\n",
    "    'leaf_estimation_iterations': 1\n",
    "}\n",
    "\n",
    "# 20211021 lv2 on the K-Means 8-cluster, synth dataset\n",
    "lv2_xgboost_params = {\n",
    "    'n_estimators': 1534,\n",
    "    'max_depth': 4,\n",
    "    'learning_rate': 0.0062941159127744535,\n",
    "    'reg_alpha': 21.3946930650266,\n",
    "    'reg_lambda': 0.021003786013817635,\n",
    "    'subsample': 0.5726680367393964,\n",
    "    'min_child_weight': 0.07566661785187714,\n",
    "    'colsample_bytree': 0.7850419523745037,\n",
    "    'gamma': 4.26660233356059\n",
    "}\n",
    "\n",
    "# 20211021 lv2 on the K-Means 8-cluster, synth dataset\n",
    "lv2_lightgbm_params = {\n",
    "    'n_estimators': 5776,\n",
    "    'max_depth': 4,\n",
    "    'learning_rate': 0.0010172282832994653,\n",
    "    'reg_alpha': 0.013879765609402173,\n",
    "    'reg_lambda': 0.002787031048344079,\n",
    "    'subsample': 0.800000753298926,\n",
    "    'boosting_type': 'gbdt',\n",
    "    'min_child_samples': 11,\n",
    "    'num_leaves': 190,\n",
    "    'colsample_bytree': 0.9976443570341007\n",
    "}\n",
    "\n",
    "# 20211021 lv2 on the K-Means 8-cluster, synth dataset\n",
    "lv2_catboost_params = {\n",
    "    'iterations': 2000,\n",
    "    'depth': 6,\n",
    "    'learning_rate': 0.002984126581340097,\n",
    "    'random_strength': 0,\n",
    "    'od_wait': 334,\n",
    "    'reg_lambda': 33.469738674488084,\n",
    "    'border_count': 158,\n",
    "    'min_child_samples': 8,\n",
    "    'leaf_estimation_iterations': 4\n",
    "}\n",
    "\n",
    "# initial, non-default guess -- need to get optuna working (20211010)\n",
    "# basic_widedeep_tabmlp_params = {\n",
    "    \n",
    "# }\n",
    "\n",
    "# basic_widedeep_trainer_params = {\n",
    "#     optimizers=AdamW()\n",
    "# }"
   ]
  },
  {
   "cell_type": "code",
   "execution_count": 25,
   "id": "2aec7210-135f-402a-af31-330eb0f37276",
   "metadata": {},
   "outputs": [],
   "source": [
    "from lightgbm.basic import LightGBMError"
   ]
  },
  {
   "cell_type": "markdown",
   "id": "827289c5-e0e7-4382-9cbd-d6174a5cd68b",
   "metadata": {},
   "source": [
    "# Cross-Validator\n"
   ]
  },
  {
   "cell_type": "code",
   "execution_count": 26,
   "id": "dfa66428-3fb9-410f-9ea5-50785a4bd177",
   "metadata": {},
   "outputs": [],
   "source": [
    "def cross_validate_model(library:str, params:dict={}, X=X, y=y, X_test=X_test, start_fold=0, \n",
    "                         exmodel_config=exmodel_config, wandb_config=wandb_config, \n",
    "                         random_state=42, shuffle_kfolds=True, wandb_tracked=True, encode_cats=False):\n",
    "    \"\"\"\n",
    "    Function to handle model training process in the context of cross-validation -- via hold-out or via k-fold.\n",
    "    If exmodel_config['cross_val_strategy'] == None, then any kfolds= input is ignored; otherwise, the number specified is used.\n",
    "    \n",
    "    :param kfolds: int specifying number of k-folds to use in cross-validation\n",
    "    :param exmodel_config: dict containing general config including for cross-validation -- `kfold=1` implies hold-out\n",
    "    \"\"\"\n",
    "#     if exmodel_config['kfolds'] == 1:\n",
    "#         print(\"Proceeding with holdout\")\n",
    "#     X_train, X_valid, y_train, y_valid = train_test_split(X, y, \n",
    "#                                                           test_size=0.2, \n",
    "#                                                           random_state=SEED)                 \n",
    "    \n",
    "    # prepare for k-fold cross-validation; random-state here is notebook-wide, not per-model\n",
    "    # shuffle on the initial sets, but not subsequently -- performing the same operation twice means a very different dataset\n",
    "    if shuffle_kfolds:\n",
    "        kfold = exmodel_config['cross_val_strategy'](n_splits=exmodel_config['kfolds'], shuffle=True, random_state=SEED)\n",
    "    else:\n",
    "        kfold = exmodel_config['cross_val_strategy'](n_splits=exmodel_config['kfolds'], shuffle=False)\n",
    "    \n",
    "    if wandb_tracked:\n",
    "        exmodel_config['library'] = library\n",
    "        exmodel_config[f'{library}_params'] = str(params)\n",
    "        wandb.init(\n",
    "            project=\"202110_Kaggle_tabular_playground\",\n",
    "            save_code=True,\n",
    "            tags=wandb_config['tags'],\n",
    "            name=wandb_config['name'],\n",
    "            notes=wandb_config['notes'],\n",
    "            config=exmodel_config\n",
    "    )   \n",
    "    \n",
    "    # setup for serialization\n",
    "    runpath = Path(modelpath/f\"{wandb_config['name']}_{library}_{exmodel_config['kfolds']}folds/\")\n",
    "    (runpath).mkdir(exist_ok=True)\n",
    "    \n",
    "    \n",
    "    # initialize lists for out-of-fold preds and ground truth\n",
    "    oof_preds, oof_y = [], []\n",
    "    \n",
    "    # initialize a numpy.ndarray containing the fold-model's preds for test set\n",
    "    test_preds = np.zeros((X_test.shape[0]))\n",
    "    \n",
    "    # if using deep learning with pytorch-widedeep, do data preprocessing now, before splits\n",
    "    if 'widedeep' in library:\n",
    "        # NOTE THAT ENCODING NOT DEPLOYED FOR THIS YET\n",
    "        # preprocessing first\n",
    "        wide_cols = [f for f in X.columns if X[f].nunique() == 2] #list(X_train.columns) if X_train.iloc[:,f].nunique() == 2] # binary indicator vars are wide\n",
    "        cont_cols = [f for f in X.columns if X[f].nunique() > 2] #list(X_train.columns) if X_train.iloc[:,f].nunique() > 2] # others are cont\n",
    "\n",
    "        # wide part\n",
    "        wide_preprocessor = WidePreprocessor(wide_cols=wide_cols)\n",
    "        X_wide = wide_preprocessor.fit_transform(X)\n",
    "#         print(f\"X_wide.shape = {X_wide.shape}\")\n",
    "#         X_wide = np.array(X_train[wide_cols])\n",
    "        \n",
    "\n",
    "        # deep part\n",
    "        tab_preprocessor = TabPreprocessor(continuous_cols=cont_cols)#, embed_cols=embed_cols, )\n",
    "        X_tab = tab_preprocessor.fit_transform(X)   \n",
    "#         print(f\"X_tab.shape = {X_tab.shape}\")\n",
    "        \n",
    "        # transforming the test set\n",
    "        X_test_wide = wide_preprocessor.transform(X_test)\n",
    "        X_test_tab = tab_preprocessor.transform(X_test)\n",
    "        \n",
    "        # at this point, X_wide, X_tab, X_test_wide, and X_test_tab will all be np.ndarrays\n",
    "    \n",
    "#     else: # if using a GBM, simply convert the pd.DataFrames to np.ndarrays\n",
    "#         X = np.array(X) # CAN YOU USE CATEGORY_ENCODERS ON NP.NDARRAYS?\n",
    "#         X_test = np.array(X_test)\n",
    "    \n",
    "    for fold, (train_ids, valid_ids) in enumerate(kfold.split(X,y)):\n",
    "#         print(f\"type(train_ids) = {type(train_ids)} and train_ids.shape = {train_ids.shape}\")\n",
    "#         print(f\"type(valid_ids) = {type(valid_ids)} and train_ids.shape = {valid_ids.shape}\")\n",
    "        if fold < start_fold: # skip folds that are already trained\n",
    "            continue\n",
    "        else:\n",
    "            print(f\"FOLD {fold}\")\n",
    "            print(\"---------------------------------------------------\")\n",
    "            y_train, y_valid = y[train_ids], y[valid_ids] # y will be an np.ndarray already; handling will be same regardless of model\n",
    "            if 'widedeep' in library: # handle wide and deep tabs in parallel\n",
    "                X_train_wide, X_valid_wide = X_wide[train_ids, :], X_wide[valid_ids, :]\n",
    "                X_train_tab, X_valid_tab = X_tab[train_ids, :], X_tab[valid_ids, :]\n",
    "#                 print(f\"X_train_wide.shape = {X_train_wide.shape}\")\n",
    "#                 print(f\"X_train_tab.shape = {X_train_tab.shape}\")\n",
    "#                 print(f\"X_test_wide.shape = {X_test_wide.shape}\")\n",
    "#                 print(f\"X_test_tab.shape = {X_test_tab.shape}\")\n",
    "            else: # handle datasets for GBMs\n",
    "                if isinstance(X, np.ndarray):\n",
    "                    X_train, X_valid = X[train_ids], X[valid_ids]\n",
    "                else:\n",
    "                    X_train, X_valid = X.iloc[train_ids,:], X.iloc[valid_ids,:] # bc need pandas.DataFrames for ce\n",
    "                if encode_cats:\n",
    "                    encoder = ce.WOEEncoder(cols=categoricals)\n",
    "                    encoder.fit(X_train,y_train)\n",
    "                    X_train = encoder.transform(X_train)\n",
    "                    X_valid = encoder.transform(X_valid)\n",
    "                # exmodel_config['feature_count'] = len(X.columns)\n",
    "                    wandb.log({\n",
    "                        'feature_count': X_train.shape[1],\n",
    "                        'instance_count': X_train.shape[0],\n",
    "                        'encoder': str(encoder)\n",
    "                    })\n",
    "#                 exmodel_config['instance_count'] = X_train.shape[0]\n",
    "#                 exmodel_config['encoder'] = str(encoder)\n",
    "#                     X_test = encoder.transform(X_test)\n",
    "#                 y_train, y_valid = y[train_ids], y[valid_ids]\n",
    "            \n",
    "        # define models\n",
    "        if library == 'xgboost':\n",
    "            model = XGBClassifier(\n",
    "                booster='gbtree',\n",
    "                tree_method='gpu_hist',\n",
    "                random_state=random_state,\n",
    "                n_jobs=-1, \n",
    "                verbosity=1, \n",
    "                objective='binary:logistic',\n",
    "                **params)\n",
    "            if wandb_tracked:\n",
    "                model.fit(X_train, y_train, callbacks=[wandb.xgboost.wandb_callback()])\n",
    "            else:\n",
    "                model.fit(X_train, y_train)\n",
    "            y_valid_preds = model.predict_proba(X_valid)[:,1]\n",
    "            \n",
    "            # add the fold-model's OOF preds and ground truths to the out-of-loop lists\n",
    "            oof_preds.extend(y_valid_preds)\n",
    "            oof_y.extend(y_valid)\n",
    "            \n",
    "            # add the fold's predictions to the model's test-set predictions (will divide later)\n",
    "            test_preds += model.predict_proba(X_test)[:,1]\n",
    "\n",
    "\n",
    "        elif library == 'lightgbm':\n",
    "            try:\n",
    "                model = LGBMClassifier(\n",
    "                    objective='binary',\n",
    "                    random_state=random_state,\n",
    "#                     device_type='cpu',\n",
    "#                     n_jobs=-1,\n",
    "    #                 eval_metric='auc',\n",
    "                    device_type='gpu',\n",
    "                    max_bin=63, # 15 might be even better for GPU perf, but depends on dataset -- see https://lightgbm.readthedocs.io/en/latest/GPU-Performance.html\n",
    "    #                 gpu_use_dp=False, # forces use of single precision rather than double for better perf, esp on consumer Nvidia chips\n",
    "                    **params)\n",
    "                \n",
    "                if wandb_tracked:\n",
    "                    model.fit(X_train, y_train, callbacks=[wandb.lightgbm.wandb_callback()],)\n",
    "                else:\n",
    "                    model.fit(X_train, y_train)\n",
    "            except LightGBMError:\n",
    "                model = LGBMClassifier(\n",
    "                    objective='binary',\n",
    "                    random_state=random_state,\n",
    "                    device_type='cpu',\n",
    "                    n_jobs=-1,\n",
    "    #                 eval_metric='auc',\n",
    "    #                 device_type='gpu',\n",
    "    #                 max_bin=63, # 15 might be even better for GPU perf, but depends on dataset -- see https://lightgbm.readthedocs.io/en/latest/GPU-Performance.html\n",
    "    #                 gpu_use_dp=False, # forces use of single precision rather than double for better perf, esp on consumer Nvidia chips\n",
    "                    **params)\n",
    "                \n",
    "                if wandb_tracked:\n",
    "                    model.fit(X_train, y_train, callbacks=[wandb.lightgbm.wandb_callback()],)\n",
    "                else:\n",
    "                    model.fit(X_train, y_train)\n",
    "            y_valid_preds = model.predict_proba(X_valid)[:,1]\n",
    "            \n",
    "            # add the fold-model's OOF preds and ground truths to the out-of-loop lists\n",
    "            oof_preds.extend(y_valid_preds)\n",
    "            oof_y.extend(y_valid)\n",
    "            \n",
    "            # add the fold's predictions to the model's test-set predictions (will divide later)\n",
    "            test_preds += model.predict_proba(X_test)[:,1]\n",
    "\n",
    "            \n",
    "        elif library == 'catboost':\n",
    "            model = CatBoostClassifier(\n",
    "                task_type='GPU',\n",
    "                silent=True,\n",
    "                random_state=random_state,\n",
    "                **params) \n",
    "        \n",
    "            model.fit(X_train, y_train)\n",
    "            y_valid_preds = model.predict_proba(X_valid)[:,1]\n",
    "            \n",
    "            # add the fold-model's OOF preds and ground truths to the out-of-loop lists\n",
    "            oof_preds.extend(y_valid_preds)\n",
    "            oof_y.extend(y_valid)\n",
    "            \n",
    "            # add the fold's predictions to the model's test-set predictions (will divide later)\n",
    "            test_preds += model.predict_proba(X_test)[:,1]\n",
    "            \n",
    "        elif 'widedeep' in library: # only coding for TabMlp right now\n",
    "#             X_train = pd.DataFrame(X_train, columns=[f\"f{x}\" for x in range(X_train.shape[1])])\n",
    "#             X_valid = pd.DataFrame(X_valid, columns=[f\"f{x}\" for x in range(X_valid.shape[1])])\n",
    "#             X_test = pd.DataFrame(X_test, columns=[f\"f{x}\" for x in range(X_test.shape[1])])\n",
    "            \n",
    "            wide = Wide(wide_dim=np.unique(X_wide).shape[0], pred_dim=1)\n",
    "#             deeptabular = TabMlp(\n",
    "#                 mlp_hidden_dims=[64,32],\n",
    "#                 column_idx=tab_preprocessor.column_idx,\n",
    "#             #     embed_input=tab_preprocessor.embeddings_input,\n",
    "#                 continuous_cols=cont_cols,\n",
    "#             )\n",
    "            deeptabular = SAINT(\n",
    "                column_idx=tab_preprocessor.column_idx,\n",
    "                continuous_cols=cont_cols,\n",
    "            )\n",
    "            \n",
    "            # model instantiation and training\n",
    "            model = WideDeep(wide=wide, deeptabular=deeptabular)\n",
    "            \n",
    "            \n",
    "            n_epochs = 30\n",
    "\n",
    "            # pytorch hyperparams\n",
    "            wide_opt = AdamW(model.wide.parameters(), lr=0.1)\n",
    "            deep_opt = AdamW(model.deeptabular.parameters(), lr=0.1)\n",
    "            \n",
    "#             wide_sch = ReduceLROnPlateau(wide_opt)\n",
    "#             deep_sch = ReduceLROnPlateau(deep_opt)\n",
    "\n",
    "            wide_sch = OneCycleLR(optimizer=wide_opt, max_lr=0.01, steps_per_epoch=X_train_wide.shape[0], epochs=n_epochs)\n",
    "            deep_sch = OneCycleLR(optimizer=deep_opt, max_lr=0.01, steps_per_epoch=X_train_tab.shape[0], epochs=n_epochs)\n",
    "            \n",
    "            optimizers = {'wide': wide_opt, 'deeptabular': deep_opt }\n",
    "            lr_schedulers = {'wide': wide_sch, 'deeptabular': deep_sch }\n",
    "            \n",
    "            \n",
    "            callbacks = [\n",
    "                LRHistory(n_epochs=n_epochs), \n",
    "#                 EarlyStopping, \n",
    "#                 ModelCheckpoint(\n",
    "#                     filepath='',\n",
    "#                     save_best_only=True\n",
    "#                 )\n",
    "            ]\n",
    "            \n",
    "            # trainer\n",
    "            trainer = Trainer(model=model, \n",
    "                              objective='binary', \n",
    "                              metrics=[Accuracy], # with AUROC got TypeError: '>' not supported between instances of 'NoneType' and 'int' \n",
    "                              seed=random_state, \n",
    "#                               lr_schedulers=lr_schedulers,\n",
    "                              optimizers=optimizers,\n",
    "                              callbacks=callbacks\n",
    "                             )\n",
    "            \n",
    "#             print(f\"type(X_train_wide) is {type(X_train_wide)} and type(X_train_tab) is {type(X_train_tab)}\")\n",
    "            trainer.fit( # this is where problem is beginning\n",
    "                X_wide=X_train_wide,\n",
    "                X_tab=X_train_tab,\n",
    "                target=y_train,\n",
    "                n_epochs=n_epochs,\n",
    "                batch_size=1024, # default value is 32\n",
    "#                 val_split=0.2, # no need for this\n",
    "            )\n",
    "            \n",
    "            # validation set preprocessing\n",
    "#             X_valid_wide = np.array(X_valid[wide_cols]) # wide_preprocessor.transform(X_valid)\n",
    "#             X_tab_valid = tab_preprocessor.transform(X_valid)\n",
    "#             print(f\"X_valid_wide: {X_valid_wide[:10]}\")\n",
    "#             print(f\"X_valid_tab: {X_valid_tab[:10]}\")\n",
    "            y_valid_preds = trainer.predict_proba(X_wide=X_valid_wide, X_tab=X_valid_tab, batch_size=1024)[:,1]\n",
    "            \n",
    "            # add the fold-model's OOF preds and ground truths to the out-of-loop lists\n",
    "            oof_preds.extend(y_valid_preds)\n",
    "            oof_y.extend(y_valid)\n",
    "            \n",
    "            # test set preprocessing\n",
    "#             X_test_wide = np.array(X_test[wide_cols]) # wide_preprocessor.transform(X_test)\n",
    "#             X_tab_test = tab_preprocessor.transform(X_test)\n",
    "#             print(f\"X_test_wide: {X_test_wide[:10]}\")\n",
    "#             print(f\"X_test_tab: {X_test_tab[:10]}\")\n",
    "            \n",
    "            # test set inference\n",
    "            fold_test_preds = trainer.predict_proba(X_wide=X_test_wide, X_tab=X_test_tab, batch_size=1024)[:,1]\n",
    "            test_preds += fold_test_preds\n",
    "#             print(f\"fold_test_preds: {fold_test_preds[:10]}\")\n",
    "#             print(f\"test_preds_so_far: {test_preds[:10]}\")\n",
    "            \n",
    "        # take the training set predictions, if desired\n",
    "#         y_train_pred = model.predict_proba(X_train)[:,1]\n",
    "#         train_loss = log_loss(y_train, y_train_pred)\n",
    "#         train_auc = roc_auc_score(y_train, y_train_pred)\n",
    "#         wandb.log({'train_loss': train_loss, 'train_auc': train_auc})\n",
    "\n",
    "        # log the parameters, if desired\n",
    "#         if exmodel_config['library'] == 'catboost':\n",
    "#             print(model.get_all_params())\n",
    "#             wandb.log(model.get_all_params())\n",
    "#         else:\n",
    "#             wandb.log(model.get_params()) # logging model parameters, trying bare-invocation rather than params: model.get_params()\n",
    "\n",
    "        \n",
    "        \n",
    "       \n",
    "        \n",
    "        \n",
    "\n",
    "#         valid_loss = log_loss(y_valid, y_pred)\n",
    "        # give the valid AUC score, for edification\n",
    "        fold_valid_auc = roc_auc_score(y_valid, y_valid_preds)\n",
    "        print(f\"Valid AUC for fold {fold} is {fold_valid_auc}\")   \n",
    "        dump(model, Path(runpath/f\"{library}_fold{fold}_rs{random_state}_model.joblib\"))\n",
    "\n",
    "    model_valid_auc = roc_auc_score(oof_y, oof_preds)\n",
    "    print(f\"Valid AUC score for {library} model is {model_valid_auc}\")\n",
    "    \n",
    "    # finalize test preds\n",
    "    test_preds /= exmodel_config['kfolds']\n",
    "    \n",
    "    # save OOF preds and test-set preds\n",
    "    dump(oof_preds, Path(predpath/f\"{wandb_config['name']}_{library}_{exmodel_config['kfolds']}folds_rs{random_state}_oof_preds.joblib\"))\n",
    "    dump(test_preds, Path(predpath/f\"{wandb_config['name']}_{library}_{exmodel_config['kfolds']}folds_rs{random_state}_test_preds.joblib\"))\n",
    "    dump(oof_y, predpath/f\"{exmodel_config['kfolds']}folds_rs{SEED}_oof_y.joblib\")\n",
    "    \n",
    "    if wandb_tracked:\n",
    "#         if 'widedeep' in library:\n",
    "        wandb.log({'model_valid_auc': model_valid_auc,\n",
    "#                    'oof_preds': oof_preds,\n",
    "#                    'test_preds': test_preds,\n",
    "                   'model_params': str(model.parameters()) if 'widedeep' in library else str(model.get_params()), \n",
    "        #                    'model_params': str(model.get_params()),\n",
    "        })\n",
    "#         wandb.log({'model_valid_auc': model_valid_auc,\n",
    "#                    'oof_preds': oof_preds,\n",
    "#                    'test_preds': test_preds,\n",
    "# #                    'model_params': str(model.get_params()),\n",
    "#                   })\n",
    "        wandb.finish()\n",
    "    return oof_preds, test_preds\n",
    "        "
   ]
  },
  {
   "cell_type": "code",
   "execution_count": 27,
   "id": "096d8438-1639-47ab-9264-aefb21e51872",
   "metadata": {
    "tags": []
   },
   "outputs": [],
   "source": [
    "# _, lightgbm_preds = cross_validate_model(library='lightgbm')"
   ]
  },
  {
   "cell_type": "code",
   "execution_count": 28,
   "id": "56b93f37-272a-4e06-b1e2-12b45d3148a6",
   "metadata": {
    "tags": []
   },
   "outputs": [],
   "source": [
    "# _, catboost_preds = cross_validate_model(library='catboost')"
   ]
  },
  {
   "cell_type": "code",
   "execution_count": 29,
   "id": "cc332027-f1ab-45c0-8793-45b9bfd76cf5",
   "metadata": {
    "tags": []
   },
   "outputs": [],
   "source": [
    "# xgboost_oof_preds, xgboost_test_preds = cross_validate_model(library='xgboost')"
   ]
  },
  {
   "cell_type": "code",
   "execution_count": 30,
   "id": "346b3ddf-ffd7-4cd1-a4dd-807f7159718f",
   "metadata": {
    "tags": []
   },
   "outputs": [],
   "source": [
    "# widedeep_oof_preds, widedeep_test_preds = cross_validate_model(library='widedeep-SAINT', wandb_tracked=True)"
   ]
  },
  {
   "cell_type": "code",
   "execution_count": 31,
   "id": "092c29d7-b45a-46b8-8bf4-48a68dae9989",
   "metadata": {},
   "outputs": [],
   "source": [
    "# widedeep_oof_preds = load(predpath/f\"{wandb_config['name']}_widedeep-TabMLP_{exmodel_config['kfolds']}folds_rs{42}_oof_preds.joblib\")"
   ]
  },
  {
   "cell_type": "code",
   "execution_count": 32,
   "id": "d36ac953-029a-4b3b-a082-ed52b365e4cf",
   "metadata": {},
   "outputs": [],
   "source": [
    "# widedeep_test_preds = load(predpath/f\"{wandb_config['name']}_widedeep-TabMLP_{exmodel_config['kfolds']}folds_rs{42}_test_preds.joblib\")"
   ]
  },
  {
   "cell_type": "code",
   "execution_count": 33,
   "id": "84e4f6fb-323f-46c1-a534-1351685387e6",
   "metadata": {},
   "outputs": [],
   "source": [
    "# widedeep_oof_preds[:10]"
   ]
  },
  {
   "cell_type": "code",
   "execution_count": 34,
   "id": "710be0bd-92ce-4f3b-9e2c-3a98e0040336",
   "metadata": {},
   "outputs": [],
   "source": [
    "# widedeep_test_preds[:10]"
   ]
  },
  {
   "cell_type": "markdown",
   "id": "e23c3564-37f1-4c16-b91f-753667ecb3b0",
   "metadata": {},
   "source": [
    "# Single Submission"
   ]
  },
  {
   "cell_type": "code",
   "execution_count": 35,
   "id": "8217efa1-6b59-4c60-bbc7-5bd50c0fee6e",
   "metadata": {
    "tags": []
   },
   "outputs": [],
   "source": [
    "# sample_df = pd.read_csv(datapath/'sample_submission.csv.zip')"
   ]
  },
  {
   "cell_type": "code",
   "execution_count": 36,
   "id": "c64589fc-0149-4905-b4e0-f110ef9007a4",
   "metadata": {},
   "outputs": [],
   "source": [
    "# sample_df.loc[:, 'target'] = widedeep_test_preds"
   ]
  },
  {
   "cell_type": "code",
   "execution_count": 37,
   "id": "dd20a8cd-72a0-47b9-989d-cb65be178967",
   "metadata": {
    "tags": []
   },
   "outputs": [],
   "source": [
    "# sample_df.iloc[:20]"
   ]
  },
  {
   "cell_type": "code",
   "execution_count": 38,
   "id": "ee4537d0-13b6-46a2-96ac-4ef6ab855007",
   "metadata": {},
   "outputs": [],
   "source": [
    "# submission_path = datapath/'submissions'\n",
    "# submission_path.mkdir(exist_ok=True)"
   ]
  },
  {
   "cell_type": "code",
   "execution_count": 39,
   "id": "51a8672e-ebc6-4105-94a6-5f6806aea28d",
   "metadata": {},
   "outputs": [],
   "source": [
    "# sample_df.to_csv(subpath/f\"{wandb_config['name']}_widedeep-TabMLP-upto50epochs-64x32_{exmodel_config['kfolds']}folds_rs{42}_baseline_preds.csv\", index=False)"
   ]
  },
  {
   "cell_type": "code",
   "execution_count": 40,
   "id": "dd1e0734-4e26-4944-896b-65c177181cbf",
   "metadata": {},
   "outputs": [],
   "source": [
    "# str(blender.estimators[2][1].get_all_params())\n",
    "# blender.estimators[2][1]"
   ]
  },
  {
   "cell_type": "code",
   "execution_count": 41,
   "id": "765cbb49-a7b4-4564-b26d-3484431935be",
   "metadata": {},
   "outputs": [],
   "source": [
    "# wandb.log({'leaderboard_auc': 0.81725,\n",
    "# #            'catboost_params': str(best_catboost_params),\n",
    "#           })"
   ]
  },
  {
   "cell_type": "code",
   "execution_count": 42,
   "id": "df020199-86b3-4f67-8088-0646f028b8d9",
   "metadata": {
    "tags": []
   },
   "outputs": [],
   "source": [
    "# wandb.finish()"
   ]
  },
  {
   "cell_type": "code",
   "execution_count": 43,
   "id": "8441c1fc-8432-4d24-a65f-eceaae4919d8",
   "metadata": {},
   "outputs": [],
   "source": [
    "# oof_y_pd = pd.Series(oof_y)"
   ]
  },
  {
   "cell_type": "markdown",
   "id": "994802dc-6ec1-4588-9ee6-b18e7ef01047",
   "metadata": {},
   "source": [
    "# Predictions"
   ]
  },
  {
   "cell_type": "markdown",
   "id": "bfe960b2-6e42-4384-a7de-d2a2464c2ea2",
   "metadata": {},
   "source": [
    "## Level One"
   ]
  },
  {
   "cell_type": "code",
   "execution_count": 44,
   "id": "5cb4c8f6-4712-45a9-9a42-84864ab265bb",
   "metadata": {
    "tags": []
   },
   "outputs": [],
   "source": [
    "oof_lv1, test_lv1 = pd.DataFrame(), pd.DataFrame() # initialize dataframes"
   ]
  },
  {
   "cell_type": "markdown",
   "id": "2f4f3a89-af13-4f7d-a613-690498292674",
   "metadata": {},
   "source": [
    "### Generating"
   ]
  },
  {
   "cell_type": "code",
   "execution_count": 127,
   "id": "032ca5db-2dd1-4530-8847-1619f85fbf15",
   "metadata": {
    "tags": []
   },
   "outputs": [
    {
     "data": {
      "text/html": [
       "\n",
       "                    Syncing run <strong><a href=\"https://wandb.ai/hushifang/202110_Kaggle_tabular_playground/runs/17u9m4d0\" target=\"_blank\">stacking_manual_20211025_122503</a></strong> to <a href=\"https://wandb.ai/hushifang/202110_Kaggle_tabular_playground\" target=\"_blank\">Weights & Biases</a> (<a href=\"https://docs.wandb.com/integrations/jupyter.html\" target=\"_blank\">docs</a>).<br/>\n",
       "\n",
       "                "
      ],
      "text/plain": [
       "<IPython.core.display.HTML object>"
      ]
     },
     "metadata": {},
     "output_type": "display_data"
    },
    {
     "name": "stdout",
     "output_type": "stream",
     "text": [
      "FOLD 0\n",
      "---------------------------------------------------\n",
      "Valid AUC for fold 0 is 0.8564808196393578\n",
      "FOLD 1\n",
      "---------------------------------------------------\n",
      "Valid AUC for fold 1 is 0.8567371124057706\n",
      "FOLD 2\n",
      "---------------------------------------------------\n",
      "Valid AUC for fold 2 is 0.8560212726072489\n",
      "FOLD 3\n",
      "---------------------------------------------------\n",
      "Valid AUC for fold 3 is 0.8565457447014291\n",
      "FOLD 4\n",
      "---------------------------------------------------\n",
      "Valid AUC for fold 4 is 0.8575937889492484\n",
      "Valid AUC score for lightgbm model is 0.8566648478399554\n"
     ]
    },
    {
     "data": {
      "text/html": [
       "<br/>Waiting for W&B process to finish, PID 755633... <strong style=\"color:green\">(success).</strong>"
      ],
      "text/plain": [
       "<IPython.core.display.HTML object>"
      ]
     },
     "metadata": {},
     "output_type": "display_data"
    },
    {
     "data": {
      "application/vnd.jupyter.widget-view+json": {
       "model_id": "",
       "version_major": 2,
       "version_minor": 0
      },
      "text/plain": [
       "VBox(children=(Label(value=' 0.35MB of 0.35MB uploaded (0.00MB deduped)\\r'), FloatProgress(value=1.0, max=1.0)…"
      ]
     },
     "metadata": {},
     "output_type": "display_data"
    },
    {
     "data": {
      "text/html": [
       "<style>\n",
       "    table.wandb td:nth-child(1) { padding: 0 10px; text-align: right }\n",
       "    .wandb-row { display: flex; flex-direction: row; flex-wrap: wrap; width: 100% }\n",
       "    .wandb-col { display: flex; flex-direction: column; flex-basis: 100%; flex: 1; padding: 10px; }\n",
       "    </style>\n",
       "<div class=\"wandb-row\"><div class=\"wandb-col\">\n",
       "<h3>Run history:</h3><br/><table class=\"wandb\"><tr><td>model_valid_auc</td><td>▁</td></tr></table><br/></div><div class=\"wandb-col\">\n",
       "<h3>Run summary:</h3><br/><table class=\"wandb\"><tr><td>model_params</td><td>{'boosting_type': 'g...</td></tr><tr><td>model_valid_auc</td><td>0.85666</td></tr></table>\n",
       "</div></div>\n",
       "Synced 6 W&B file(s), 0 media file(s), 2 artifact file(s) and 1 other file(s)\n",
       "<br/>Synced <strong style=\"color:#cdcd00\">stacking_manual_20211025_122503</strong>: <a href=\"https://wandb.ai/hushifang/202110_Kaggle_tabular_playground/runs/17u9m4d0\" target=\"_blank\">https://wandb.ai/hushifang/202110_Kaggle_tabular_playground/runs/17u9m4d0</a><br/>\n",
       "Find logs at: <code>./wandb/run-20211025_184346-17u9m4d0/logs</code><br/>\n"
      ],
      "text/plain": [
       "<IPython.core.display.HTML object>"
      ]
     },
     "metadata": {},
     "output_type": "display_data"
    }
   ],
   "source": [
    "oof_lv1_lgb42, test_lv1_lgb42 = cross_validate_model(library='lightgbm', X=X, y=y, X_test=X_test, \n",
    "                                         wandb_config=wandb_config,\n",
    "                                         random_state=42,\n",
    "                                         params=best_lightgbm_params,\n",
    "                                         exmodel_config=exmodel_config, \n",
    "                                         wandb_tracked=True\n",
    "                                        )\n",
    "oof_lv1['lgb42'] = oof_lv1_lgb42\n",
    "test_lv1['lgb42'] = test_lv1_lgb42"
   ]
  },
  {
   "cell_type": "code",
   "execution_count": 46,
   "id": "cfb3c21b-9340-490a-a44d-90b21ac8de04",
   "metadata": {
    "tags": []
   },
   "outputs": [
    {
     "name": "stderr",
     "output_type": "stream",
     "text": [
      "`should_run_async` will not call `transform_cell` automatically in the future. Please pass the result to `transformed_cell` argument and any exception that happen during thetransform in `preprocessing_exc_tuple` in IPython 7.17 and above.\n"
     ]
    },
    {
     "data": {
      "text/html": [
       "\n",
       "                    Syncing run <strong><a href=\"https://wandb.ai/hushifang/202110_Kaggle_tabular_playground/runs/3s8z9sgi\" target=\"_blank\">stacking_manual_20211025_122503</a></strong> to <a href=\"https://wandb.ai/hushifang/202110_Kaggle_tabular_playground\" target=\"_blank\">Weights & Biases</a> (<a href=\"https://docs.wandb.com/integrations/jupyter.html\" target=\"_blank\">docs</a>).<br/>\n",
       "\n",
       "                "
      ],
      "text/plain": [
       "<IPython.core.display.HTML object>"
      ]
     },
     "metadata": {},
     "output_type": "display_data"
    },
    {
     "name": "stdout",
     "output_type": "stream",
     "text": [
      "FOLD 0\n",
      "---------------------------------------------------\n",
      "Valid AUC for fold 0 is 0.856617815376841\n",
      "FOLD 1\n",
      "---------------------------------------------------\n",
      "Valid AUC for fold 1 is 0.8555177125119413\n",
      "FOLD 2\n",
      "---------------------------------------------------\n",
      "Valid AUC for fold 2 is 0.8564488461913882\n",
      "FOLD 3\n",
      "---------------------------------------------------\n",
      "Valid AUC for fold 3 is 0.8555362964096405\n",
      "FOLD 4\n",
      "---------------------------------------------------\n",
      "Valid AUC for fold 4 is 0.8560361075665881\n",
      "Valid AUC score for lightgbm model is 0.8560287126134156\n"
     ]
    },
    {
     "data": {
      "text/html": [
       "<br/>Waiting for W&B process to finish, PID 749809... <strong style=\"color:green\">(success).</strong>"
      ],
      "text/plain": [
       "<IPython.core.display.HTML object>"
      ]
     },
     "metadata": {},
     "output_type": "display_data"
    },
    {
     "data": {
      "application/vnd.jupyter.widget-view+json": {
       "model_id": "",
       "version_major": 2,
       "version_minor": 0
      },
      "text/plain": [
       "VBox(children=(Label(value=' 0.25MB of 0.25MB uploaded (0.00MB deduped)\\r'), FloatProgress(value=1.0, max=1.0)…"
      ]
     },
     "metadata": {},
     "output_type": "display_data"
    },
    {
     "data": {
      "text/html": [
       "<style>\n",
       "    table.wandb td:nth-child(1) { padding: 0 10px; text-align: right }\n",
       "    .wandb-row { display: flex; flex-direction: row; flex-wrap: wrap; width: 100% }\n",
       "    .wandb-col { display: flex; flex-direction: column; flex-basis: 100%; flex: 1; padding: 10px; }\n",
       "    </style>\n",
       "<div class=\"wandb-row\"><div class=\"wandb-col\">\n",
       "<h3>Run history:</h3><br/><table class=\"wandb\"><tr><td>model_valid_auc</td><td>▁</td></tr></table><br/></div><div class=\"wandb-col\">\n",
       "<h3>Run summary:</h3><br/><table class=\"wandb\"><tr><td>model_params</td><td>{'boosting_type': 'g...</td></tr><tr><td>model_valid_auc</td><td>0.85603</td></tr></table>\n",
       "</div></div>\n",
       "Synced 6 W&B file(s), 0 media file(s), 2 artifact file(s) and 1 other file(s)\n",
       "<br/>Synced <strong style=\"color:#cdcd00\">stacking_manual_20211025_122503</strong>: <a href=\"https://wandb.ai/hushifang/202110_Kaggle_tabular_playground/runs/3s8z9sgi\" target=\"_blank\">https://wandb.ai/hushifang/202110_Kaggle_tabular_playground/runs/3s8z9sgi</a><br/>\n",
       "Find logs at: <code>./wandb/run-20211025_132355-3s8z9sgi/logs</code><br/>\n"
      ],
      "text/plain": [
       "<IPython.core.display.HTML object>"
      ]
     },
     "metadata": {},
     "output_type": "display_data"
    }
   ],
   "source": [
    "oof_lv1_lgb1983, test_lv1_lgb1983 = cross_validate_model(library='lightgbm', X=X, y=y, X_test=X_test, \n",
    "                                                 wandb_config=wandb_config,\n",
    "                                                 random_state=1983,\n",
    "                                                 params=best_lightgbm_params,\n",
    "                                                 exmodel_config=exmodel_config, \n",
    "                                                 wandb_tracked=True\n",
    "                                                )\n",
    "oof_lv1['lgb1983'] = oof_lv1_lgb1983\n",
    "test_lv1['lgb1983'] = test_lv1_lgb1983"
   ]
  },
  {
   "cell_type": "code",
   "execution_count": 47,
   "id": "f80900ce-57d8-45f3-bd23-2a85f223855b",
   "metadata": {
    "tags": []
   },
   "outputs": [
    {
     "name": "stderr",
     "output_type": "stream",
     "text": [
      "`should_run_async` will not call `transform_cell` automatically in the future. Please pass the result to `transformed_cell` argument and any exception that happen during thetransform in `preprocessing_exc_tuple` in IPython 7.17 and above.\n"
     ]
    },
    {
     "data": {
      "text/html": [
       "\n",
       "                    Syncing run <strong><a href=\"https://wandb.ai/hushifang/202110_Kaggle_tabular_playground/runs/pglkoq33\" target=\"_blank\">stacking_manual_20211025_122503</a></strong> to <a href=\"https://wandb.ai/hushifang/202110_Kaggle_tabular_playground\" target=\"_blank\">Weights & Biases</a> (<a href=\"https://docs.wandb.com/integrations/jupyter.html\" target=\"_blank\">docs</a>).<br/>\n",
       "\n",
       "                "
      ],
      "text/plain": [
       "<IPython.core.display.HTML object>"
      ]
     },
     "metadata": {},
     "output_type": "display_data"
    },
    {
     "name": "stdout",
     "output_type": "stream",
     "text": [
      "FOLD 0\n",
      "---------------------------------------------------\n"
     ]
    },
    {
     "name": "stderr",
     "output_type": "stream",
     "text": [
      "The use of label encoder in XGBClassifier is deprecated and will be removed in a future release. To remove this warning, do the following: 1) Pass option use_label_encoder=False when constructing XGBClassifier object; and 2) Encode your labels (y) as integers starting with 0, i.e. 0, 1, 2, ..., [num_class - 1].\n",
      "Old style callback is deprecated.  See: https://xgboost.readthedocs.io/en/latest/python/callbacks.html\n"
     ]
    },
    {
     "name": "stdout",
     "output_type": "stream",
     "text": [
      "Valid AUC for fold 0 is 0.8570617860343441\n",
      "FOLD 1\n",
      "---------------------------------------------------\n"
     ]
    },
    {
     "name": "stderr",
     "output_type": "stream",
     "text": [
      "The use of label encoder in XGBClassifier is deprecated and will be removed in a future release. To remove this warning, do the following: 1) Pass option use_label_encoder=False when constructing XGBClassifier object; and 2) Encode your labels (y) as integers starting with 0, i.e. 0, 1, 2, ..., [num_class - 1].\n",
      "Old style callback is deprecated.  See: https://xgboost.readthedocs.io/en/latest/python/callbacks.html\n"
     ]
    },
    {
     "name": "stdout",
     "output_type": "stream",
     "text": [
      "Valid AUC for fold 1 is 0.855904163745351\n",
      "FOLD 2\n",
      "---------------------------------------------------\n"
     ]
    },
    {
     "name": "stderr",
     "output_type": "stream",
     "text": [
      "The use of label encoder in XGBClassifier is deprecated and will be removed in a future release. To remove this warning, do the following: 1) Pass option use_label_encoder=False when constructing XGBClassifier object; and 2) Encode your labels (y) as integers starting with 0, i.e. 0, 1, 2, ..., [num_class - 1].\n",
      "Old style callback is deprecated.  See: https://xgboost.readthedocs.io/en/latest/python/callbacks.html\n"
     ]
    },
    {
     "name": "stdout",
     "output_type": "stream",
     "text": [
      "Valid AUC for fold 2 is 0.8569804460324922\n",
      "FOLD 3\n",
      "---------------------------------------------------\n"
     ]
    },
    {
     "name": "stderr",
     "output_type": "stream",
     "text": [
      "The use of label encoder in XGBClassifier is deprecated and will be removed in a future release. To remove this warning, do the following: 1) Pass option use_label_encoder=False when constructing XGBClassifier object; and 2) Encode your labels (y) as integers starting with 0, i.e. 0, 1, 2, ..., [num_class - 1].\n",
      "Old style callback is deprecated.  See: https://xgboost.readthedocs.io/en/latest/python/callbacks.html\n"
     ]
    },
    {
     "name": "stdout",
     "output_type": "stream",
     "text": [
      "Valid AUC for fold 3 is 0.8559380499002399\n",
      "FOLD 4\n",
      "---------------------------------------------------\n"
     ]
    },
    {
     "name": "stderr",
     "output_type": "stream",
     "text": [
      "The use of label encoder in XGBClassifier is deprecated and will be removed in a future release. To remove this warning, do the following: 1) Pass option use_label_encoder=False when constructing XGBClassifier object; and 2) Encode your labels (y) as integers starting with 0, i.e. 0, 1, 2, ..., [num_class - 1].\n",
      "Old style callback is deprecated.  See: https://xgboost.readthedocs.io/en/latest/python/callbacks.html\n"
     ]
    },
    {
     "name": "stdout",
     "output_type": "stream",
     "text": [
      "Valid AUC for fold 4 is 0.8564812607937217\n",
      "Valid AUC score for xgboost model is 0.8564706868012695\n"
     ]
    },
    {
     "data": {
      "text/html": [
       "<br/>Waiting for W&B process to finish, PID 751192... <strong style=\"color:green\">(success).</strong>"
      ],
      "text/plain": [
       "<IPython.core.display.HTML object>"
      ]
     },
     "metadata": {},
     "output_type": "display_data"
    },
    {
     "data": {
      "application/vnd.jupyter.widget-view+json": {
       "model_id": "",
       "version_major": 2,
       "version_minor": 0
      },
      "text/plain": [
       "VBox(children=(Label(value=' 0.26MB of 0.26MB uploaded (0.00MB deduped)\\r'), FloatProgress(value=1.0, max=1.0)…"
      ]
     },
     "metadata": {},
     "output_type": "display_data"
    },
    {
     "data": {
      "text/html": [
       "<style>\n",
       "    table.wandb td:nth-child(1) { padding: 0 10px; text-align: right }\n",
       "    .wandb-row { display: flex; flex-direction: row; flex-wrap: wrap; width: 100% }\n",
       "    .wandb-col { display: flex; flex-direction: column; flex-basis: 100%; flex: 1; padding: 10px; }\n",
       "    </style>\n",
       "<div class=\"wandb-row\"><div class=\"wandb-col\">\n",
       "<h3>Run history:</h3><br/><table class=\"wandb\"><tr><td>model_valid_auc</td><td>▁</td></tr></table><br/></div><div class=\"wandb-col\">\n",
       "<h3>Run summary:</h3><br/><table class=\"wandb\"><tr><td>model_params</td><td>{'objective': 'binar...</td></tr><tr><td>model_valid_auc</td><td>0.85647</td></tr></table>\n",
       "</div></div>\n",
       "Synced 6 W&B file(s), 0 media file(s), 2 artifact file(s) and 1 other file(s)\n",
       "<br/>Synced <strong style=\"color:#cdcd00\">stacking_manual_20211025_122503</strong>: <a href=\"https://wandb.ai/hushifang/202110_Kaggle_tabular_playground/runs/pglkoq33\" target=\"_blank\">https://wandb.ai/hushifang/202110_Kaggle_tabular_playground/runs/pglkoq33</a><br/>\n",
       "Find logs at: <code>./wandb/run-20211025_142215-pglkoq33/logs</code><br/>\n"
      ],
      "text/plain": [
       "<IPython.core.display.HTML object>"
      ]
     },
     "metadata": {},
     "output_type": "display_data"
    }
   ],
   "source": [
    "oof_lv1_xgb42, test_lv1_xgb42 = cross_validate_model(library='xgboost', X=X, y=y, X_test=X_test, \n",
    "                                         wandb_config=wandb_config,\n",
    "                                         random_state=42,\n",
    "                                         params=best_xgboost_params,\n",
    "                                         exmodel_config=exmodel_config, \n",
    "                                         wandb_tracked=True\n",
    "                                        )\n",
    "\n",
    "oof_lv1['xgb42'] = oof_lv1_xgb42\n",
    "test_lv1['xgb42'] = test_lv1_xgb42"
   ]
  },
  {
   "cell_type": "code",
   "execution_count": 48,
   "id": "db292889-5a30-45f5-8b7a-436cdeb27771",
   "metadata": {
    "tags": []
   },
   "outputs": [
    {
     "name": "stderr",
     "output_type": "stream",
     "text": [
      "`should_run_async` will not call `transform_cell` automatically in the future. Please pass the result to `transformed_cell` argument and any exception that happen during thetransform in `preprocessing_exc_tuple` in IPython 7.17 and above.\n"
     ]
    },
    {
     "data": {
      "text/html": [
       "\n",
       "                    Syncing run <strong><a href=\"https://wandb.ai/hushifang/202110_Kaggle_tabular_playground/runs/1zoyqnh3\" target=\"_blank\">stacking_manual_20211025_122503</a></strong> to <a href=\"https://wandb.ai/hushifang/202110_Kaggle_tabular_playground\" target=\"_blank\">Weights & Biases</a> (<a href=\"https://docs.wandb.com/integrations/jupyter.html\" target=\"_blank\">docs</a>).<br/>\n",
       "\n",
       "                "
      ],
      "text/plain": [
       "<IPython.core.display.HTML object>"
      ]
     },
     "metadata": {},
     "output_type": "display_data"
    },
    {
     "name": "stdout",
     "output_type": "stream",
     "text": [
      "FOLD 0\n",
      "---------------------------------------------------\n"
     ]
    },
    {
     "name": "stderr",
     "output_type": "stream",
     "text": [
      "The use of label encoder in XGBClassifier is deprecated and will be removed in a future release. To remove this warning, do the following: 1) Pass option use_label_encoder=False when constructing XGBClassifier object; and 2) Encode your labels (y) as integers starting with 0, i.e. 0, 1, 2, ..., [num_class - 1].\n",
      "Old style callback is deprecated.  See: https://xgboost.readthedocs.io/en/latest/python/callbacks.html\n"
     ]
    },
    {
     "name": "stdout",
     "output_type": "stream",
     "text": [
      "Valid AUC for fold 0 is 0.857083906484718\n",
      "FOLD 1\n",
      "---------------------------------------------------\n"
     ]
    },
    {
     "name": "stderr",
     "output_type": "stream",
     "text": [
      "The use of label encoder in XGBClassifier is deprecated and will be removed in a future release. To remove this warning, do the following: 1) Pass option use_label_encoder=False when constructing XGBClassifier object; and 2) Encode your labels (y) as integers starting with 0, i.e. 0, 1, 2, ..., [num_class - 1].\n",
      "Old style callback is deprecated.  See: https://xgboost.readthedocs.io/en/latest/python/callbacks.html\n"
     ]
    },
    {
     "name": "stdout",
     "output_type": "stream",
     "text": [
      "Valid AUC for fold 1 is 0.8560595908072219\n",
      "FOLD 2\n",
      "---------------------------------------------------\n"
     ]
    },
    {
     "name": "stderr",
     "output_type": "stream",
     "text": [
      "The use of label encoder in XGBClassifier is deprecated and will be removed in a future release. To remove this warning, do the following: 1) Pass option use_label_encoder=False when constructing XGBClassifier object; and 2) Encode your labels (y) as integers starting with 0, i.e. 0, 1, 2, ..., [num_class - 1].\n",
      "Old style callback is deprecated.  See: https://xgboost.readthedocs.io/en/latest/python/callbacks.html\n"
     ]
    },
    {
     "name": "stdout",
     "output_type": "stream",
     "text": [
      "Valid AUC for fold 2 is 0.8569460587136617\n",
      "FOLD 3\n",
      "---------------------------------------------------\n"
     ]
    },
    {
     "name": "stderr",
     "output_type": "stream",
     "text": [
      "The use of label encoder in XGBClassifier is deprecated and will be removed in a future release. To remove this warning, do the following: 1) Pass option use_label_encoder=False when constructing XGBClassifier object; and 2) Encode your labels (y) as integers starting with 0, i.e. 0, 1, 2, ..., [num_class - 1].\n",
      "Old style callback is deprecated.  See: https://xgboost.readthedocs.io/en/latest/python/callbacks.html\n"
     ]
    },
    {
     "name": "stdout",
     "output_type": "stream",
     "text": [
      "Valid AUC for fold 3 is 0.8559650802366121\n",
      "FOLD 4\n",
      "---------------------------------------------------\n"
     ]
    },
    {
     "name": "stderr",
     "output_type": "stream",
     "text": [
      "The use of label encoder in XGBClassifier is deprecated and will be removed in a future release. To remove this warning, do the following: 1) Pass option use_label_encoder=False when constructing XGBClassifier object; and 2) Encode your labels (y) as integers starting with 0, i.e. 0, 1, 2, ..., [num_class - 1].\n",
      "Old style callback is deprecated.  See: https://xgboost.readthedocs.io/en/latest/python/callbacks.html\n"
     ]
    },
    {
     "name": "stdout",
     "output_type": "stream",
     "text": [
      "Valid AUC for fold 4 is 0.8564534301106574\n",
      "Valid AUC score for xgboost model is 0.8564980384870045\n"
     ]
    },
    {
     "data": {
      "text/html": [
       "<br/>Waiting for W&B process to finish, PID 751481... <strong style=\"color:green\">(success).</strong>"
      ],
      "text/plain": [
       "<IPython.core.display.HTML object>"
      ]
     },
     "metadata": {},
     "output_type": "display_data"
    },
    {
     "data": {
      "application/vnd.jupyter.widget-view+json": {
       "model_id": "",
       "version_major": 2,
       "version_minor": 0
      },
      "text/plain": [
       "VBox(children=(Label(value=' 0.26MB of 0.26MB uploaded (0.00MB deduped)\\r'), FloatProgress(value=1.0, max=1.0)…"
      ]
     },
     "metadata": {},
     "output_type": "display_data"
    },
    {
     "data": {
      "text/html": [
       "<style>\n",
       "    table.wandb td:nth-child(1) { padding: 0 10px; text-align: right }\n",
       "    .wandb-row { display: flex; flex-direction: row; flex-wrap: wrap; width: 100% }\n",
       "    .wandb-col { display: flex; flex-direction: column; flex-basis: 100%; flex: 1; padding: 10px; }\n",
       "    </style>\n",
       "<div class=\"wandb-row\"><div class=\"wandb-col\">\n",
       "<h3>Run history:</h3><br/><table class=\"wandb\"><tr><td>model_valid_auc</td><td>▁</td></tr></table><br/></div><div class=\"wandb-col\">\n",
       "<h3>Run summary:</h3><br/><table class=\"wandb\"><tr><td>model_params</td><td>{'objective': 'binar...</td></tr><tr><td>model_valid_auc</td><td>0.8565</td></tr></table>\n",
       "</div></div>\n",
       "Synced 6 W&B file(s), 0 media file(s), 2 artifact file(s) and 1 other file(s)\n",
       "<br/>Synced <strong style=\"color:#cdcd00\">stacking_manual_20211025_122503</strong>: <a href=\"https://wandb.ai/hushifang/202110_Kaggle_tabular_playground/runs/1zoyqnh3\" target=\"_blank\">https://wandb.ai/hushifang/202110_Kaggle_tabular_playground/runs/1zoyqnh3</a><br/>\n",
       "Find logs at: <code>./wandb/run-20211025_145456-1zoyqnh3/logs</code><br/>\n"
      ],
      "text/plain": [
       "<IPython.core.display.HTML object>"
      ]
     },
     "metadata": {},
     "output_type": "display_data"
    }
   ],
   "source": [
    "oof_lv1_xgb1983, test_lv1_xgb1983 = cross_validate_model(library='xgboost', X=X, y=y, X_test=X_test, \n",
    "                                                 wandb_config=wandb_config,\n",
    "                                                 random_state=1983,\n",
    "                                                 params=best_xgboost_params,\n",
    "                                                 exmodel_config=exmodel_config, \n",
    "                                                 wandb_tracked=True\n",
    "                                                )\n",
    "oof_lv1['xgb1983'] = oof_lv1_xgb1983\n",
    "test_lv1['xgb1983'] = test_lv1_xgb1983"
   ]
  },
  {
   "cell_type": "code",
   "execution_count": 49,
   "id": "07b56f4c-c0eb-46a2-a39f-5f161be4ce52",
   "metadata": {
    "tags": []
   },
   "outputs": [
    {
     "name": "stderr",
     "output_type": "stream",
     "text": [
      "`should_run_async` will not call `transform_cell` automatically in the future. Please pass the result to `transformed_cell` argument and any exception that happen during thetransform in `preprocessing_exc_tuple` in IPython 7.17 and above.\n"
     ]
    },
    {
     "data": {
      "text/html": [
       "\n",
       "                    Syncing run <strong><a href=\"https://wandb.ai/hushifang/202110_Kaggle_tabular_playground/runs/2l4e7e2e\" target=\"_blank\">stacking_manual_20211025_122503</a></strong> to <a href=\"https://wandb.ai/hushifang/202110_Kaggle_tabular_playground\" target=\"_blank\">Weights & Biases</a> (<a href=\"https://docs.wandb.com/integrations/jupyter.html\" target=\"_blank\">docs</a>).<br/>\n",
       "\n",
       "                "
      ],
      "text/plain": [
       "<IPython.core.display.HTML object>"
      ]
     },
     "metadata": {},
     "output_type": "display_data"
    },
    {
     "name": "stdout",
     "output_type": "stream",
     "text": [
      "FOLD 0\n",
      "---------------------------------------------------\n",
      "Valid AUC for fold 0 is 0.8575888756932519\n",
      "FOLD 1\n",
      "---------------------------------------------------\n",
      "Valid AUC for fold 1 is 0.8563027662008673\n",
      "FOLD 2\n",
      "---------------------------------------------------\n",
      "Valid AUC for fold 2 is 0.8574708604510433\n",
      "FOLD 3\n",
      "---------------------------------------------------\n",
      "Valid AUC for fold 3 is 0.856303612542141\n",
      "FOLD 4\n",
      "---------------------------------------------------\n",
      "Valid AUC for fold 4 is 0.8569563380327323\n",
      "Valid AUC score for catboost model is 0.856922439278323\n"
     ]
    },
    {
     "data": {
      "text/html": [
       "<br/>Waiting for W&B process to finish, PID 751717... <strong style=\"color:green\">(success).</strong>"
      ],
      "text/plain": [
       "<IPython.core.display.HTML object>"
      ]
     },
     "metadata": {},
     "output_type": "display_data"
    },
    {
     "data": {
      "application/vnd.jupyter.widget-view+json": {
       "model_id": "",
       "version_major": 2,
       "version_minor": 0
      },
      "text/plain": [
       "VBox(children=(Label(value=' 0.27MB of 0.27MB uploaded (0.00MB deduped)\\r'), FloatProgress(value=1.0, max=1.0)…"
      ]
     },
     "metadata": {},
     "output_type": "display_data"
    },
    {
     "data": {
      "text/html": [
       "<style>\n",
       "    table.wandb td:nth-child(1) { padding: 0 10px; text-align: right }\n",
       "    .wandb-row { display: flex; flex-direction: row; flex-wrap: wrap; width: 100% }\n",
       "    .wandb-col { display: flex; flex-direction: column; flex-basis: 100%; flex: 1; padding: 10px; }\n",
       "    </style>\n",
       "<div class=\"wandb-row\"><div class=\"wandb-col\">\n",
       "<h3>Run history:</h3><br/><table class=\"wandb\"><tr><td>model_valid_auc</td><td>▁</td></tr></table><br/></div><div class=\"wandb-col\">\n",
       "<h3>Run summary:</h3><br/><table class=\"wandb\"><tr><td>model_params</td><td>{'iterations': 29338...</td></tr><tr><td>model_valid_auc</td><td>0.85692</td></tr></table>\n",
       "</div></div>\n",
       "Synced 6 W&B file(s), 0 media file(s), 2 artifact file(s) and 1 other file(s)\n",
       "<br/>Synced <strong style=\"color:#cdcd00\">stacking_manual_20211025_122503</strong>: <a href=\"https://wandb.ai/hushifang/202110_Kaggle_tabular_playground/runs/2l4e7e2e\" target=\"_blank\">https://wandb.ai/hushifang/202110_Kaggle_tabular_playground/runs/2l4e7e2e</a><br/>\n",
       "Find logs at: <code>./wandb/run-20211025_152749-2l4e7e2e/logs</code><br/>\n"
      ],
      "text/plain": [
       "<IPython.core.display.HTML object>"
      ]
     },
     "metadata": {},
     "output_type": "display_data"
    }
   ],
   "source": [
    "oof_lv1_cat42, test_lv1_cat42 = cross_validate_model(library='catboost', X=X, y=y, X_test=X_test, \n",
    "                                         wandb_config=wandb_config,\n",
    "                                         random_state=42,\n",
    "                                         params=best_catboost_params,\n",
    "                                         exmodel_config=exmodel_config, \n",
    "                                         wandb_tracked=True\n",
    "                                        )\n",
    "oof_lv1['cat42'] = oof_lv1_cat42\n",
    "test_lv1['cat42'] = test_lv1_cat42"
   ]
  },
  {
   "cell_type": "code",
   "execution_count": 50,
   "id": "b4d41632-6d00-4714-81f3-d73e9d219b43",
   "metadata": {
    "tags": []
   },
   "outputs": [
    {
     "name": "stderr",
     "output_type": "stream",
     "text": [
      "`should_run_async` will not call `transform_cell` automatically in the future. Please pass the result to `transformed_cell` argument and any exception that happen during thetransform in `preprocessing_exc_tuple` in IPython 7.17 and above.\n"
     ]
    },
    {
     "data": {
      "text/html": [
       "\n",
       "                    Syncing run <strong><a href=\"https://wandb.ai/hushifang/202110_Kaggle_tabular_playground/runs/3rvsqn8l\" target=\"_blank\">stacking_manual_20211025_122503</a></strong> to <a href=\"https://wandb.ai/hushifang/202110_Kaggle_tabular_playground\" target=\"_blank\">Weights & Biases</a> (<a href=\"https://docs.wandb.com/integrations/jupyter.html\" target=\"_blank\">docs</a>).<br/>\n",
       "\n",
       "                "
      ],
      "text/plain": [
       "<IPython.core.display.HTML object>"
      ]
     },
     "metadata": {},
     "output_type": "display_data"
    },
    {
     "name": "stdout",
     "output_type": "stream",
     "text": [
      "FOLD 0\n",
      "---------------------------------------------------\n",
      "Valid AUC for fold 0 is 0.8575770349930518\n",
      "FOLD 1\n",
      "---------------------------------------------------\n",
      "Valid AUC for fold 1 is 0.8562613269844487\n",
      "FOLD 2\n",
      "---------------------------------------------------\n",
      "Valid AUC for fold 2 is 0.8574549260423177\n",
      "FOLD 3\n",
      "---------------------------------------------------\n",
      "Valid AUC for fold 3 is 0.8563570976141105\n",
      "FOLD 4\n",
      "---------------------------------------------------\n",
      "Valid AUC for fold 4 is 0.8569541670028502\n",
      "Valid AUC score for catboost model is 0.8569185423666564\n"
     ]
    },
    {
     "data": {
      "text/html": [
       "<br/>Waiting for W&B process to finish, PID 753427... <strong style=\"color:green\">(success).</strong>"
      ],
      "text/plain": [
       "<IPython.core.display.HTML object>"
      ]
     },
     "metadata": {},
     "output_type": "display_data"
    },
    {
     "data": {
      "application/vnd.jupyter.widget-view+json": {
       "model_id": "",
       "version_major": 2,
       "version_minor": 0
      },
      "text/plain": [
       "VBox(children=(Label(value=' 0.27MB of 0.27MB uploaded (0.00MB deduped)\\r'), FloatProgress(value=1.0, max=1.0)…"
      ]
     },
     "metadata": {},
     "output_type": "display_data"
    },
    {
     "data": {
      "text/html": [
       "<style>\n",
       "    table.wandb td:nth-child(1) { padding: 0 10px; text-align: right }\n",
       "    .wandb-row { display: flex; flex-direction: row; flex-wrap: wrap; width: 100% }\n",
       "    .wandb-col { display: flex; flex-direction: column; flex-basis: 100%; flex: 1; padding: 10px; }\n",
       "    </style>\n",
       "<div class=\"wandb-row\"><div class=\"wandb-col\">\n",
       "<h3>Run history:</h3><br/><table class=\"wandb\"><tr><td>model_valid_auc</td><td>▁</td></tr></table><br/></div><div class=\"wandb-col\">\n",
       "<h3>Run summary:</h3><br/><table class=\"wandb\"><tr><td>model_params</td><td>{'iterations': 29338...</td></tr><tr><td>model_valid_auc</td><td>0.85692</td></tr></table>\n",
       "</div></div>\n",
       "Synced 6 W&B file(s), 0 media file(s), 2 artifact file(s) and 1 other file(s)\n",
       "<br/>Synced <strong style=\"color:#cdcd00\">stacking_manual_20211025_122503</strong>: <a href=\"https://wandb.ai/hushifang/202110_Kaggle_tabular_playground/runs/3rvsqn8l\" target=\"_blank\">https://wandb.ai/hushifang/202110_Kaggle_tabular_playground/runs/3rvsqn8l</a><br/>\n",
       "Find logs at: <code>./wandb/run-20211025_170155-3rvsqn8l/logs</code><br/>\n"
      ],
      "text/plain": [
       "<IPython.core.display.HTML object>"
      ]
     },
     "metadata": {},
     "output_type": "display_data"
    }
   ],
   "source": [
    "oof_lv1_cat1983, test_lv1_cat1983 = cross_validate_model(library='catboost', X=X, y=y, X_test=X_test, \n",
    "                                                 wandb_config=wandb_config,\n",
    "                                                 random_state=1983,\n",
    "                                                 params=best_catboost_params,\n",
    "                                                 exmodel_config=exmodel_config, \n",
    "                                                 wandb_tracked=True\n",
    "                                                )\n",
    "\n",
    "oof_lv1['cat1983'] = oof_lv1_cat1983\n",
    "test_lv1['cat1983'] = test_lv1_cat1983"
   ]
  },
  {
   "cell_type": "code",
   "execution_count": 51,
   "id": "1f13c7fb-002c-4570-aeff-f75d934823e2",
   "metadata": {},
   "outputs": [
    {
     "name": "stderr",
     "output_type": "stream",
     "text": [
      "`should_run_async` will not call `transform_cell` automatically in the future. Please pass the result to `transformed_cell` argument and any exception that happen during thetransform in `preprocessing_exc_tuple` in IPython 7.17 and above.\n"
     ]
    }
   ],
   "source": [
    "# this cell just for after-the-fact error corrections\n",
    "\n",
    "# oof_lv1 = pd.DataFrame()\n",
    "# test_lv1 = pd.DataFrame()\n",
    "\n",
    "# oof_lv1['lgb1983'] = oof_lv1_lgb1983\n",
    "# test_lv1['lgb1983'] = test_lv1_lgb1983\n",
    "# oof_lv1['lgb42'] = oof_lv1_lgb42\n",
    "# test_lv1['lgb42'] = test_lv1_lgb42\n",
    "# oof_lv1['cat1983'] = oof_lv1_cat1983\n",
    "# test_lv1['cat1983'] = test_lv1_cat1983\n",
    "# oof_lv1['cat42'] = oof_lv1_cat42\n",
    "# test_lv1['cat42'] = test_lv1_cat42\n",
    "# oof_lv1['xgb1983'] = oof_lv1_xgb1983\n",
    "# test_lv1['xgb1983'] = test_lv1_xgb1983\n",
    "# oof_lv1['xgb42'] = oof_lv1_xgb42\n",
    "# test_lv1['xgb42'] = test_lv1_xgb42\n",
    "\n"
   ]
  },
  {
   "cell_type": "markdown",
   "id": "128ea342-3882-498f-a970-108d71d72ded",
   "metadata": {},
   "source": [
    "### Loading Sets of Predictions"
   ]
  },
  {
   "cell_type": "code",
   "execution_count": 52,
   "id": "2128656e-dafe-43ec-bbe9-c30734573f81",
   "metadata": {},
   "outputs": [],
   "source": [
    "# oof_lv1, test_lv1 = pd.DataFrame(), pd.DataFrame()\n",
    "# preds_path = Path('/media/sf/easystore/kaggle_data/tabular_playgrounds/sep2021/preds/')"
   ]
  },
  {
   "cell_type": "code",
   "execution_count": 53,
   "id": "184ef71b-afd2-4a31-848d-f9ca2525ffeb",
   "metadata": {},
   "outputs": [],
   "source": [
    "# oof_lv1['xgb42'] = load(predpath/'stacking_manual_20211005_085253_xgboost_5folds_rs42_oof_preds.joblib')\n",
    "# test_lv1['xgb42'] = load(preds_path/'stacking_manual_20210925_212129_xgboost_5folds_rs42_test_preds.joblib')"
   ]
  },
  {
   "cell_type": "code",
   "execution_count": 54,
   "id": "4f493f20-3a8a-40e4-81d7-6107753ac744",
   "metadata": {},
   "outputs": [],
   "source": [
    "# oof_lv_xgb42_y = load(predpath/'stacking_manual_20211005_085253_xgboost_5folds_rs42_oof_y.joblib')"
   ]
  },
  {
   "cell_type": "code",
   "execution_count": 55,
   "id": "9ed26a0f-9eac-4f43-8160-1c81f06cf981",
   "metadata": {},
   "outputs": [],
   "source": [
    "# roc_auc_score(y_true=oof_lv_xgb42_y, y_score=oof_lv1['xgb42'])"
   ]
  },
  {
   "cell_type": "code",
   "execution_count": 56,
   "id": "0681cec6-4290-429a-991f-0a3305893075",
   "metadata": {},
   "outputs": [],
   "source": [
    "# oof_lv1['xgb1983'] = load(preds_path/'validAUC_0.8146252172737458_stacking_manual_20210926_211701_xgboost_5folds_rs1983_oof_preds.joblib')\n",
    "# test_lv1['xgb1983'] = load(preds_path/'stacking_manual_20210926_211701_xgboost_5folds_rs1983_test_preds.joblib')"
   ]
  },
  {
   "cell_type": "code",
   "execution_count": 57,
   "id": "7f59039c-2dc1-49f2-9fc5-311977ac1706",
   "metadata": {},
   "outputs": [],
   "source": [
    "# oof_lv1['lgb42'] = load(preds_path/'validAUC_0.8156810521798477_stacking_manual_20210925_212129_lightgbm_5folds_rs42_oof_preds.joblib')\n",
    "# test_lv1['lgb42'] = load(preds_path/'stacking_manual_20210925_212129_lightgbm_5folds_rs42_test_preds.joblib')"
   ]
  },
  {
   "cell_type": "code",
   "execution_count": 58,
   "id": "58c301c0-35dd-48f2-8719-47c8247c205d",
   "metadata": {},
   "outputs": [],
   "source": [
    "# oof_lv1['lgb1983'] = load(preds_path/'validAUC_0.8156503194185875_stacking_manual_20210925_212129_lightgbm_5folds_rs1983_oof_preds.joblib')\n",
    "# test_lv1['lgb1983'] = load(preds_path/'stacking_manual_20210925_212129_lightgbm_5folds_rs1983_test_preds.joblib')"
   ]
  },
  {
   "cell_type": "code",
   "execution_count": 59,
   "id": "a24b9355-740d-47b9-87ea-e8de0b1e7556",
   "metadata": {},
   "outputs": [],
   "source": [
    "# oof_lv1['cat42'] = load(preds_path/'validAUC_0.8116727090290558_stacking_manual_20210925_212129_catboost_5folds_rs42_oof_preds.joblib')\n",
    "# test_lv1['cat42'] = load(preds_path/'stacking_manual_20210925_212129_catboost_5folds_rs42_test_preds.joblib')"
   ]
  },
  {
   "cell_type": "code",
   "execution_count": 60,
   "id": "c1542a39-c5d1-4785-a3c8-1a990d535d51",
   "metadata": {},
   "outputs": [],
   "source": [
    "# oof_lv1['cat1983'] = load(predpath/'stacking_manual_20211005_085253_catboost_5folds_rs1983_oof_preds.joblib')\n",
    "# oof_cat1983_y = load(predpath/'stacking_manual_20211005_085253_catboost_5folds_rs1983_oof_y.joblib')\n",
    "# roc_auc_score(y_true=oof_cat1983_y, y_score=oof_lv1['cat1983'])\n",
    "# test_lv1['cat1983'] = load(preds_path/'stacking_manual_20210925_212129_catboost_5folds_rs1983_test_preds.joblib')"
   ]
  },
  {
   "cell_type": "code",
   "execution_count": 61,
   "id": "6f3c927d-bf2f-45b5-8852-1c1fb44d690e",
   "metadata": {},
   "outputs": [],
   "source": [
    "# oof_cat42_y = load(predpath/'stacking_manual_20211005_085253_catboost_5folds_rs42_oof_y.joblib')"
   ]
  },
  {
   "cell_type": "code",
   "execution_count": 62,
   "id": "753b2247-a987-4cb1-8f7f-11b74e1fe6ac",
   "metadata": {},
   "outputs": [],
   "source": [
    "# oof_cat42_y == oof_lv_xgb42_y"
   ]
  },
  {
   "cell_type": "code",
   "execution_count": 63,
   "id": "85efac1b-596c-489d-a606-50a55c5d67c2",
   "metadata": {},
   "outputs": [],
   "source": [
    "# oof_lv1.iloc[:20, :]"
   ]
  },
  {
   "cell_type": "code",
   "execution_count": 64,
   "id": "41eec67d-7891-4ac0-884d-d098577bdf03",
   "metadata": {
    "tags": []
   },
   "outputs": [],
   "source": [
    "# oof_y_pd.iloc[:20]"
   ]
  },
  {
   "cell_type": "markdown",
   "id": "79a7c3a6-2707-4177-abf8-95992f572852",
   "metadata": {},
   "source": [
    "- Why is it that the random seed seems far more important than the model type in making a prediction???"
   ]
  },
  {
   "cell_type": "markdown",
   "id": "a964b810-db49-49c0-9deb-999a189e4939",
   "metadata": {},
   "source": [
    "### Serialization"
   ]
  },
  {
   "cell_type": "code",
   "execution_count": 65,
   "id": "6290a8eb-07f1-4917-8073-8bcced8bde39",
   "metadata": {},
   "outputs": [],
   "source": [
    "# oof_lv1.head()"
   ]
  },
  {
   "cell_type": "code",
   "execution_count": 66,
   "id": "fade7952-fc06-4fcf-a77a-543664972b8e",
   "metadata": {},
   "outputs": [],
   "source": [
    "# test_lv1.head()"
   ]
  },
  {
   "cell_type": "code",
   "execution_count": 67,
   "id": "4dc05052-1105-4a9a-8fbe-c3a3b59b2426",
   "metadata": {},
   "outputs": [],
   "source": [
    "# oof_lv1.to_csv('oof_lv1.csv', index=False)\n",
    "# test_lv1.to_csv('test_lv1.csv', index=False)"
   ]
  },
  {
   "cell_type": "code",
   "execution_count": 68,
   "id": "877cd565-c4ed-436e-b230-1bd4487354da",
   "metadata": {},
   "outputs": [],
   "source": [
    "oof_lv1.to_feather(predpath/f\"{wandb_config['name']}_oof_lv1.feather\")\n",
    "test_lv1.to_feather(predpath/f\"{wandb_config['name']}_test_lv1.feather\")"
   ]
  },
  {
   "cell_type": "markdown",
   "id": "70bc7cef-5989-400f-8524-cf59233d3e4b",
   "metadata": {},
   "source": [
    "### Lv1 Finalization"
   ]
  },
  {
   "cell_type": "code",
   "execution_count": 69,
   "id": "dd5828bc-e0d1-4b26-b1ed-33b26116f367",
   "metadata": {},
   "outputs": [],
   "source": [
    "# oof_lv1 = pd.read_feather(predpath/f\"stacking_manual_20211005_205933_oof_lv1.feather\")#, columns=[str(x) for x in range()])\n",
    "# test_lv1 = pd.read_feather(predpath/f\"stacking_manual_20211005_205933_test_lv1.feather\")\n",
    "oof_y = load(predpath/f\"{exmodel_config['kfolds']}folds_rs{SEED}_oof_y.joblib\")"
   ]
  },
  {
   "cell_type": "code",
   "execution_count": 70,
   "id": "9be05e3d-c7a7-41a5-9362-320d71d0f926",
   "metadata": {},
   "outputs": [
    {
     "data": {
      "text/html": [
       "<div>\n",
       "<style scoped>\n",
       "    .dataframe tbody tr th:only-of-type {\n",
       "        vertical-align: middle;\n",
       "    }\n",
       "\n",
       "    .dataframe tbody tr th {\n",
       "        vertical-align: top;\n",
       "    }\n",
       "\n",
       "    .dataframe thead th {\n",
       "        text-align: right;\n",
       "    }\n",
       "</style>\n",
       "<table border=\"1\" class=\"dataframe\">\n",
       "  <thead>\n",
       "    <tr style=\"text-align: right;\">\n",
       "      <th></th>\n",
       "      <th>lgb42</th>\n",
       "      <th>lgb1983</th>\n",
       "      <th>xgb42</th>\n",
       "      <th>xgb1983</th>\n",
       "      <th>cat42</th>\n",
       "      <th>cat1983</th>\n",
       "    </tr>\n",
       "  </thead>\n",
       "  <tbody>\n",
       "    <tr>\n",
       "      <th>0</th>\n",
       "      <td>0.627738</td>\n",
       "      <td>0.623453</td>\n",
       "      <td>0.633414</td>\n",
       "      <td>0.638844</td>\n",
       "      <td>0.599515</td>\n",
       "      <td>0.606511</td>\n",
       "    </tr>\n",
       "    <tr>\n",
       "      <th>1</th>\n",
       "      <td>0.980805</td>\n",
       "      <td>0.980730</td>\n",
       "      <td>0.978509</td>\n",
       "      <td>0.977485</td>\n",
       "      <td>0.981481</td>\n",
       "      <td>0.980598</td>\n",
       "    </tr>\n",
       "    <tr>\n",
       "      <th>2</th>\n",
       "      <td>0.708818</td>\n",
       "      <td>0.734654</td>\n",
       "      <td>0.680950</td>\n",
       "      <td>0.660891</td>\n",
       "      <td>0.739501</td>\n",
       "      <td>0.669644</td>\n",
       "    </tr>\n",
       "    <tr>\n",
       "      <th>3</th>\n",
       "      <td>0.338815</td>\n",
       "      <td>0.310200</td>\n",
       "      <td>0.327645</td>\n",
       "      <td>0.334991</td>\n",
       "      <td>0.288579</td>\n",
       "      <td>0.302038</td>\n",
       "    </tr>\n",
       "    <tr>\n",
       "      <th>4</th>\n",
       "      <td>0.083423</td>\n",
       "      <td>0.072870</td>\n",
       "      <td>0.071233</td>\n",
       "      <td>0.062955</td>\n",
       "      <td>0.062276</td>\n",
       "      <td>0.057055</td>\n",
       "    </tr>\n",
       "  </tbody>\n",
       "</table>\n",
       "</div>"
      ],
      "text/plain": [
       "      lgb42   lgb1983     xgb42   xgb1983     cat42   cat1983\n",
       "0  0.627738  0.623453  0.633414  0.638844  0.599515  0.606511\n",
       "1  0.980805  0.980730  0.978509  0.977485  0.981481  0.980598\n",
       "2  0.708818  0.734654  0.680950  0.660891  0.739501  0.669644\n",
       "3  0.338815  0.310200  0.327645  0.334991  0.288579  0.302038\n",
       "4  0.083423  0.072870  0.071233  0.062955  0.062276  0.057055"
      ]
     },
     "execution_count": 70,
     "metadata": {},
     "output_type": "execute_result"
    }
   ],
   "source": [
    "oof_lv1.head()"
   ]
  },
  {
   "cell_type": "code",
   "execution_count": 71,
   "id": "5ba900b5-8b5b-4620-852c-6fb2808a8209",
   "metadata": {},
   "outputs": [
    {
     "name": "stderr",
     "output_type": "stream",
     "text": [
      "`should_run_async` will not call `transform_cell` automatically in the future. Please pass the result to `transformed_cell` argument and any exception that happen during thetransform in `preprocessing_exc_tuple` in IPython 7.17 and above.\n"
     ]
    },
    {
     "data": {
      "text/html": [
       "<div>\n",
       "<style scoped>\n",
       "    .dataframe tbody tr th:only-of-type {\n",
       "        vertical-align: middle;\n",
       "    }\n",
       "\n",
       "    .dataframe tbody tr th {\n",
       "        vertical-align: top;\n",
       "    }\n",
       "\n",
       "    .dataframe thead th {\n",
       "        text-align: right;\n",
       "    }\n",
       "</style>\n",
       "<table border=\"1\" class=\"dataframe\">\n",
       "  <thead>\n",
       "    <tr style=\"text-align: right;\">\n",
       "      <th></th>\n",
       "      <th>lgb42</th>\n",
       "      <th>lgb1983</th>\n",
       "      <th>xgb42</th>\n",
       "      <th>xgb1983</th>\n",
       "      <th>cat42</th>\n",
       "      <th>cat1983</th>\n",
       "    </tr>\n",
       "  </thead>\n",
       "  <tbody>\n",
       "    <tr>\n",
       "      <th>0</th>\n",
       "      <td>0.703488</td>\n",
       "      <td>0.702594</td>\n",
       "      <td>0.711750</td>\n",
       "      <td>0.712957</td>\n",
       "      <td>0.712836</td>\n",
       "      <td>0.715293</td>\n",
       "    </tr>\n",
       "    <tr>\n",
       "      <th>1</th>\n",
       "      <td>0.236324</td>\n",
       "      <td>0.239104</td>\n",
       "      <td>0.259928</td>\n",
       "      <td>0.255145</td>\n",
       "      <td>0.235809</td>\n",
       "      <td>0.241953</td>\n",
       "    </tr>\n",
       "    <tr>\n",
       "      <th>2</th>\n",
       "      <td>0.913298</td>\n",
       "      <td>0.909512</td>\n",
       "      <td>0.905785</td>\n",
       "      <td>0.905258</td>\n",
       "      <td>0.910766</td>\n",
       "      <td>0.912169</td>\n",
       "    </tr>\n",
       "    <tr>\n",
       "      <th>3</th>\n",
       "      <td>0.826585</td>\n",
       "      <td>0.818045</td>\n",
       "      <td>0.860802</td>\n",
       "      <td>0.860397</td>\n",
       "      <td>0.838464</td>\n",
       "      <td>0.839832</td>\n",
       "    </tr>\n",
       "    <tr>\n",
       "      <th>4</th>\n",
       "      <td>0.284591</td>\n",
       "      <td>0.278374</td>\n",
       "      <td>0.276593</td>\n",
       "      <td>0.267557</td>\n",
       "      <td>0.277796</td>\n",
       "      <td>0.272830</td>\n",
       "    </tr>\n",
       "  </tbody>\n",
       "</table>\n",
       "</div>"
      ],
      "text/plain": [
       "      lgb42   lgb1983     xgb42   xgb1983     cat42   cat1983\n",
       "0  0.703488  0.702594  0.711750  0.712957  0.712836  0.715293\n",
       "1  0.236324  0.239104  0.259928  0.255145  0.235809  0.241953\n",
       "2  0.913298  0.909512  0.905785  0.905258  0.910766  0.912169\n",
       "3  0.826585  0.818045  0.860802  0.860397  0.838464  0.839832\n",
       "4  0.284591  0.278374  0.276593  0.267557  0.277796  0.272830"
      ]
     },
     "execution_count": 71,
     "metadata": {},
     "output_type": "execute_result"
    }
   ],
   "source": [
    "test_lv1.head()"
   ]
  },
  {
   "cell_type": "code",
   "execution_count": 72,
   "id": "3098e778-eb53-4a65-baaf-5cd0ffb7bfa6",
   "metadata": {},
   "outputs": [
    {
     "name": "stderr",
     "output_type": "stream",
     "text": [
      "`should_run_async` will not call `transform_cell` automatically in the future. Please pass the result to `transformed_cell` argument and any exception that happen during thetransform in `preprocessing_exc_tuple` in IPython 7.17 and above.\n"
     ]
    }
   ],
   "source": [
    "# oof_lv1['target'] = oof_y"
   ]
  },
  {
   "cell_type": "code",
   "execution_count": 73,
   "id": "638ed3d3-0b02-468f-827e-bfcb263f6949",
   "metadata": {
    "tags": []
   },
   "outputs": [],
   "source": [
    "# oof_lv1.iloc[:30,:]"
   ]
  },
  {
   "cell_type": "code",
   "execution_count": 74,
   "id": "8757335c-defe-4f2d-839e-66340b4bde3c",
   "metadata": {},
   "outputs": [],
   "source": [
    "# roc_auc_score(y_score=oof_lv1['lgb1983'], y_true=oof_y) # 0.5002913418201236 from original, bad version"
   ]
  },
  {
   "cell_type": "markdown",
   "id": "dffc8387-6ae7-4ab2-8ee3-f2cf8aa6f8c4",
   "metadata": {},
   "source": [
    "**SO THERE'S SOMETHING WRONG WITH THE TARGET**"
   ]
  },
  {
   "cell_type": "code",
   "execution_count": 75,
   "id": "f427ba83-b376-4961-b3ff-ea09a256914d",
   "metadata": {},
   "outputs": [],
   "source": [
    "# def regenerate_targets(X=X_train, y=y_train):\n",
    "#     kfold = exmodel_config['cross_val_strategy'](n_splits=exmodel_config['kfolds'], shuffle=True, random_state=SEED)\n",
    "#     oof_y = []\n",
    "#     for fold, (train_ids, valid_ids) in enumerate(kfold.split(X,y)):\n",
    "# #         X_train, X_valid = X[train_ids], X[valid_ids]\n",
    "#         y_train, y_valid = y[train_ids], y[valid_ids]\n",
    "#         oof_y.extend(y_valid)\n",
    "#     return oof_y"
   ]
  },
  {
   "cell_type": "code",
   "execution_count": 76,
   "id": "bb6c938a-6a8d-48b5-9879-516b93b47447",
   "metadata": {},
   "outputs": [],
   "source": [
    "# oof_y_restored = regenerate_targets()"
   ]
  },
  {
   "cell_type": "code",
   "execution_count": 77,
   "id": "8de778c2-2c16-422d-b65d-437eb30f6b3f",
   "metadata": {},
   "outputs": [],
   "source": [
    "# oof_y[:20]"
   ]
  },
  {
   "cell_type": "code",
   "execution_count": 78,
   "id": "40452124-f33d-491a-ba74-79e8210c5760",
   "metadata": {},
   "outputs": [],
   "source": [
    "# oof_y_restored[:20]"
   ]
  },
  {
   "cell_type": "code",
   "execution_count": 79,
   "id": "a931314f-e2bf-44f2-a1c4-8e10d7fd6f28",
   "metadata": {},
   "outputs": [],
   "source": [
    "# roc_auc_score(y_score=oof_lv1['lgb1983'], y_true=oof_y_restored) # 0.8564776078917813 from fixed version, via `regenerate_targets`"
   ]
  },
  {
   "cell_type": "markdown",
   "id": "743826bf-29a1-47d0-9977-5be8e5e8f1cb",
   "metadata": {},
   "source": [
    "There we go"
   ]
  },
  {
   "cell_type": "code",
   "execution_count": 80,
   "id": "7f50a5de-5fba-43de-afa6-d450a0938d75",
   "metadata": {},
   "outputs": [],
   "source": [
    "# dump(oof_y_restored, predpath/f\"{exmodel_config['kfolds']}folds_rs{SEED}_oof_y.joblib\")"
   ]
  },
  {
   "cell_type": "code",
   "execution_count": 81,
   "id": "c2ae0b11-b95d-43d5-b4dc-5dd6f54e1290",
   "metadata": {},
   "outputs": [],
   "source": [
    "# oof_lv1.index.name = 'id'\n",
    "# test_lv1.index.name = 'id'\n",
    "# oof_y.index.name = 'id'\n",
    "oof_lv1 = np.array(oof_lv1)\n",
    "test_lv1 = np.array(test_lv1)\n",
    "oof_y = np.array(oof_y)"
   ]
  },
  {
   "cell_type": "markdown",
   "id": "368e3ba4-981d-4a86-b181-66a43aed8285",
   "metadata": {},
   "source": [
    "## Level Two"
   ]
  },
  {
   "cell_type": "code",
   "execution_count": 82,
   "id": "332a88ad-3033-4763-973e-1ee4a369639f",
   "metadata": {},
   "outputs": [],
   "source": [
    "# oof_lv1 = pd.read_feather(predpath/'stacking_manual_20211020_104938_X_orig+KMeans8+synth_oof_lv1.feather')\n",
    "oof_lv1 = pd.read_feather(predpath/'stacking_manual_20211011_092728_oof_lv1.feather') # basis for best original dataset run as of 20211021\n",
    "# test_lv1 = pd.read_feather(predpath/'stacking_manual_20211020_104938_X_orig+KMeans8+synth_test_lv1.feather')\n",
    "test_lv1 = pd.read_feather(predpath/'stacking_manual_20211011_092728_test_lv1.feather') # basis for best original dataset run as of 20211021\n",
    "oof_y = load(predpath/'5folds_rs42_oof_y.joblib')"
   ]
  },
  {
   "cell_type": "code",
   "execution_count": 83,
   "id": "5ea5ac76-c5ab-4ae7-8e56-2eaf2f52f4d7",
   "metadata": {},
   "outputs": [],
   "source": [
    "oof_lv2, test_lv2 = pd.DataFrame(), pd.DataFrame()"
   ]
  },
  {
   "cell_type": "code",
   "execution_count": 84,
   "id": "3711a52d-fa65-4bd9-996c-789a996f0649",
   "metadata": {},
   "outputs": [],
   "source": [
    "oof_y = pd.Series(oof_y)"
   ]
  },
  {
   "cell_type": "code",
   "execution_count": 85,
   "id": "aa61d2f0-a14f-4192-8d75-29899946b686",
   "metadata": {
    "tags": []
   },
   "outputs": [
    {
     "name": "stdout",
     "output_type": "stream",
     "text": [
      "FOLD 0\n",
      "---------------------------------------------------\n",
      "[18:34:48] WARNING: ../src/learner.cc:1095: Starting in XGBoost 1.3.0, the default evaluation metric used with the objective 'binary:logistic' was changed from 'error' to 'logloss'. Explicitly set eval_metric if you'd like to restore the old behavior.\n"
     ]
    },
    {
     "name": "stderr",
     "output_type": "stream",
     "text": [
      "The use of label encoder in XGBClassifier is deprecated and will be removed in a future release. To remove this warning, do the following: 1) Pass option use_label_encoder=False when constructing XGBClassifier object; and 2) Encode your labels (y) as integers starting with 0, i.e. 0, 1, 2, ..., [num_class - 1].\n"
     ]
    },
    {
     "name": "stdout",
     "output_type": "stream",
     "text": [
      "Valid AUC for fold 0 is 0.857780534396491\n",
      "FOLD 1\n",
      "---------------------------------------------------\n"
     ]
    },
    {
     "name": "stderr",
     "output_type": "stream",
     "text": [
      "The use of label encoder in XGBClassifier is deprecated and will be removed in a future release. To remove this warning, do the following: 1) Pass option use_label_encoder=False when constructing XGBClassifier object; and 2) Encode your labels (y) as integers starting with 0, i.e. 0, 1, 2, ..., [num_class - 1].\n"
     ]
    },
    {
     "name": "stdout",
     "output_type": "stream",
     "text": [
      "[18:34:54] WARNING: ../src/learner.cc:1095: Starting in XGBoost 1.3.0, the default evaluation metric used with the objective 'binary:logistic' was changed from 'error' to 'logloss'. Explicitly set eval_metric if you'd like to restore the old behavior.\n",
      "Valid AUC for fold 1 is 0.8565715678520283\n",
      "FOLD 2\n",
      "---------------------------------------------------\n"
     ]
    },
    {
     "name": "stderr",
     "output_type": "stream",
     "text": [
      "The use of label encoder in XGBClassifier is deprecated and will be removed in a future release. To remove this warning, do the following: 1) Pass option use_label_encoder=False when constructing XGBClassifier object; and 2) Encode your labels (y) as integers starting with 0, i.e. 0, 1, 2, ..., [num_class - 1].\n"
     ]
    },
    {
     "name": "stdout",
     "output_type": "stream",
     "text": [
      "[18:34:59] WARNING: ../src/learner.cc:1095: Starting in XGBoost 1.3.0, the default evaluation metric used with the objective 'binary:logistic' was changed from 'error' to 'logloss'. Explicitly set eval_metric if you'd like to restore the old behavior.\n",
      "Valid AUC for fold 2 is 0.8576276668369104\n",
      "FOLD 3\n",
      "---------------------------------------------------\n"
     ]
    },
    {
     "name": "stderr",
     "output_type": "stream",
     "text": [
      "The use of label encoder in XGBClassifier is deprecated and will be removed in a future release. To remove this warning, do the following: 1) Pass option use_label_encoder=False when constructing XGBClassifier object; and 2) Encode your labels (y) as integers starting with 0, i.e. 0, 1, 2, ..., [num_class - 1].\n"
     ]
    },
    {
     "name": "stdout",
     "output_type": "stream",
     "text": [
      "[18:35:04] WARNING: ../src/learner.cc:1095: Starting in XGBoost 1.3.0, the default evaluation metric used with the objective 'binary:logistic' was changed from 'error' to 'logloss'. Explicitly set eval_metric if you'd like to restore the old behavior.\n",
      "Valid AUC for fold 3 is 0.8565286832949963\n",
      "FOLD 4\n",
      "---------------------------------------------------\n"
     ]
    },
    {
     "name": "stderr",
     "output_type": "stream",
     "text": [
      "The use of label encoder in XGBClassifier is deprecated and will be removed in a future release. To remove this warning, do the following: 1) Pass option use_label_encoder=False when constructing XGBClassifier object; and 2) Encode your labels (y) as integers starting with 0, i.e. 0, 1, 2, ..., [num_class - 1].\n"
     ]
    },
    {
     "name": "stdout",
     "output_type": "stream",
     "text": [
      "[18:35:10] WARNING: ../src/learner.cc:1095: Starting in XGBoost 1.3.0, the default evaluation metric used with the objective 'binary:logistic' was changed from 'error' to 'logloss'. Explicitly set eval_metric if you'd like to restore the old behavior.\n",
      "Valid AUC for fold 4 is 0.8571457005891374\n",
      "Valid AUC score for xgboost model is 0.8570998380592375\n"
     ]
    },
    {
     "data": {
      "text/plain": [
       "['/home/sf/code/kaggle/tabular_playgrounds/oct2021/preds/stacking_manual_20211025_122503_test_lv2_xgboost42_preds.joblib']"
      ]
     },
     "execution_count": 85,
     "metadata": {},
     "output_type": "execute_result"
    }
   ],
   "source": [
    "oof_lv2_xgb42, test_lv2_xgb42 = cross_validate_model(library='xgboost', X=oof_lv1, y=oof_y, X_test=test_lv1, \n",
    "                                         wandb_config=wandb_config,\n",
    "                                         random_state=42,\n",
    "                                         params=lv2_xgboost_params,\n",
    "                                         exmodel_config=exmodel_config, \n",
    "                                         shuffle_kfolds=False,\n",
    "                                         wandb_tracked=False,\n",
    "                                         encode_cats=False\n",
    "                                        )\n",
    "\n",
    "dump(oof_lv2_xgb42, predpath/f\"{wandb_config['name']}_oof_lv2_xgboost42_preds.joblib\")\n",
    "dump(test_lv2_xgb42, predpath/f\"{wandb_config['name']}_test_lv2_xgboost42_preds.joblib\")\n",
    "\n"
   ]
  },
  {
   "cell_type": "markdown",
   "id": "993c580b-4079-43f9-b1a7-d0e0cd56b08b",
   "metadata": {
    "tags": []
   },
   "source": [
    "### Original set\n",
    "0.8570998380592375\n",
    "\n",
    "### KMeans set\n",
    "0.8569795453020541. Previous, with same params as first level:\n",
    "\n",
    "```\n",
    "FOLD 0\n",
    "---------------------------------------------------\n",
    "[19:47:11] WARNING: ../src/learner.cc:1095: Starting in XGBoost 1.3.0, the default evaluation metric used with the objective 'binary:logistic' was changed from 'error' to 'logloss'. Explicitly set eval_metric if you'd like to restore the old behavior.\n",
    "Valid AUC for fold 0 is 0.8576487983942646\n",
    "FOLD 1\n",
    "---------------------------------------------------\n",
    "\n",
    "The use of label encoder in XGBClassifier is deprecated and will be removed in a future release. To remove this warning, do the following: 1) Pass option use_label_encoder=False when constructing XGBClassifier object; and 2) Encode your labels (y) as integers starting with 0, i.e. 0, 1, 2, ..., [num_class - 1].\n",
    "\n",
    "[19:47:18] WARNING: ../src/learner.cc:1095: Starting in XGBoost 1.3.0, the default evaluation metric used with the objective 'binary:logistic' was changed from 'error' to 'logloss'. Explicitly set eval_metric if you'd like to restore the old behavior.\n",
    "Valid AUC for fold 1 is 0.8564030176582841\n",
    "FOLD 2\n",
    "---------------------------------------------------\n",
    "\n",
    "The use of label encoder in XGBClassifier is deprecated and will be removed in a future release. To remove this warning, do the following: 1) Pass option use_label_encoder=False when constructing XGBClassifier object; and 2) Encode your labels (y) as integers starting with 0, i.e. 0, 1, 2, ..., [num_class - 1].\n",
    "\n",
    "[19:47:24] WARNING: ../src/learner.cc:1095: Starting in XGBoost 1.3.0, the default evaluation metric used with the objective 'binary:logistic' was changed from 'error' to 'logloss'. Explicitly set eval_metric if you'd like to restore the old behavior.\n",
    "Valid AUC for fold 2 is 0.8575152562253543\n",
    "FOLD 3\n",
    "---------------------------------------------------\n",
    "\n",
    "The use of label encoder in XGBClassifier is deprecated and will be removed in a future release. To remove this warning, do the following: 1) Pass option use_label_encoder=False when constructing XGBClassifier object; and 2) Encode your labels (y) as integers starting with 0, i.e. 0, 1, 2, ..., [num_class - 1].\n",
    "\n",
    "[19:47:31] WARNING: ../src/learner.cc:1095: Starting in XGBoost 1.3.0, the default evaluation metric used with the objective 'binary:logistic' was changed from 'error' to 'logloss'. Explicitly set eval_metric if you'd like to restore the old behavior.\n",
    "Valid AUC for fold 3 is 0.8564104056358417\n",
    "FOLD 4\n",
    "---------------------------------------------------\n",
    "\n",
    "The use of label encoder in XGBClassifier is deprecated and will be removed in a future release. To remove this warning, do the following: 1) Pass option use_label_encoder=False when constructing XGBClassifier object; and 2) Encode your labels (y) as integers starting with 0, i.e. 0, 1, 2, ..., [num_class - 1].\n",
    "\n",
    "[19:47:37] WARNING: ../src/learner.cc:1095: Starting in XGBoost 1.3.0, the default evaluation metric used with the objective 'binary:logistic' was changed from 'error' to 'logloss'. Explicitly set eval_metric if you'd like to restore the old behavior.\n",
    "Valid AUC for fold 4 is 0.8569612218999544\n",
    "Valid AUC score for xgboost model is 0.8569543747383712\n",
    "\n",
    "```"
   ]
  },
  {
   "cell_type": "code",
   "execution_count": 86,
   "id": "00db765d-db36-4c90-858b-bc8708cf9331",
   "metadata": {},
   "outputs": [
    {
     "name": "stderr",
     "output_type": "stream",
     "text": [
      "`should_run_async` will not call `transform_cell` automatically in the future. Please pass the result to `transformed_cell` argument and any exception that happen during thetransform in `preprocessing_exc_tuple` in IPython 7.17 and above.\n"
     ]
    }
   ],
   "source": [
    "# oof_xgb_f0_rs1983 = load('/media/sf/easystore/kaggle_data/tabular_playgrounds/sep2021/models/stacking_manual_20210926_211701_xgboost_5folds/xgboost_fold0_model.joblib')\n",
    "# oof_xgb_f0_rs42 = load('/media/sf/easystore/kaggle_data/tabular_playgrounds/sep2021/models/stacking_manual_20210925_212129_xgboost_5folds/xgboost_fold0_model.joblib')"
   ]
  },
  {
   "cell_type": "code",
   "execution_count": 87,
   "id": "bf9ac76c-cafa-4831-b856-37663b4ec276",
   "metadata": {
    "tags": []
   },
   "outputs": [
    {
     "name": "stdout",
     "output_type": "stream",
     "text": [
      "FOLD 0\n",
      "---------------------------------------------------\n",
      "Valid AUC for fold 0 is 0.8577836000965429\n",
      "FOLD 1\n",
      "---------------------------------------------------\n",
      "Valid AUC for fold 1 is 0.85655532048876\n",
      "FOLD 2\n",
      "---------------------------------------------------\n",
      "Valid AUC for fold 2 is 0.8576058105749419\n",
      "FOLD 3\n",
      "---------------------------------------------------\n",
      "Valid AUC for fold 3 is 0.8565232273376546\n",
      "FOLD 4\n",
      "---------------------------------------------------\n",
      "Valid AUC for fold 4 is 0.8571364664620381\n",
      "Valid AUC score for catboost model is 0.8570934685772447\n"
     ]
    }
   ],
   "source": [
    "oof_lv2_cat42, test_lv2_cat42 = cross_validate_model(library='catboost', X=oof_lv1, y=oof_y, X_test=test_lv1, \n",
    "                                         wandb_config=wandb_config,\n",
    "                                         random_state=42,\n",
    "                                         params=lv2_catboost_params,\n",
    "                                         exmodel_config=exmodel_config, \n",
    "                                         shuffle_kfolds=False,\n",
    "                                         wandb_tracked=False,\n",
    "                                         encode_cats=False\n",
    "                                        )"
   ]
  },
  {
   "cell_type": "code",
   "execution_count": 88,
   "id": "4b9ca079-d826-4991-8377-3bd3988b3fdd",
   "metadata": {},
   "outputs": [
    {
     "name": "stderr",
     "output_type": "stream",
     "text": [
      "`should_run_async` will not call `transform_cell` automatically in the future. Please pass the result to `transformed_cell` argument and any exception that happen during thetransform in `preprocessing_exc_tuple` in IPython 7.17 and above.\n"
     ]
    },
    {
     "data": {
      "text/plain": [
       "['/home/sf/code/kaggle/tabular_playgrounds/oct2021/preds/stacking_manual_20211025_122503_test_lv2_catboost42_preds.joblib']"
      ]
     },
     "execution_count": 88,
     "metadata": {},
     "output_type": "execute_result"
    }
   ],
   "source": [
    "dump(oof_lv2_cat42, predpath/f\"{wandb_config['name']}_oof_lv2_catboost42_preds.joblib\")\n",
    "dump(test_lv2_cat42, predpath/f\"{wandb_config['name']}_test_lv2_catboost42_preds.joblib\")"
   ]
  },
  {
   "cell_type": "code",
   "execution_count": 89,
   "id": "cf17be39-6ef1-4387-b1d2-e1ffa677093f",
   "metadata": {
    "tags": []
   },
   "outputs": [
    {
     "name": "stdout",
     "output_type": "stream",
     "text": [
      "FOLD 0\n",
      "---------------------------------------------------\n",
      "Valid AUC for fold 0 is 0.8577468382459215\n",
      "FOLD 1\n",
      "---------------------------------------------------\n",
      "Valid AUC for fold 1 is 0.8565558012435911\n",
      "FOLD 2\n",
      "---------------------------------------------------\n",
      "Valid AUC for fold 2 is 0.8576233246345326\n",
      "FOLD 3\n",
      "---------------------------------------------------\n",
      "Valid AUC for fold 3 is 0.8565000501564676\n",
      "FOLD 4\n",
      "---------------------------------------------------\n",
      "Valid AUC for fold 4 is 0.8571375212765566\n",
      "Valid AUC score for lightgbm model is 0.8570836706320256\n"
     ]
    }
   ],
   "source": [
    "\n",
    "oof_lv2_lgb42, test_lv2_lgb42 = cross_validate_model(library='lightgbm', X=oof_lv1, y=oof_y, X_test=test_lv1, \n",
    "                                         wandb_config=wandb_config,\n",
    "                                         random_state=42,\n",
    "                                         params=lv2_lightgbm_params,\n",
    "                                         exmodel_config=exmodel_config,\n",
    "                                         shuffle_kfolds=False,\n",
    "                                         wandb_tracked=False,\n",
    "                                         encode_cats=False\n",
    "                                        )"
   ]
  },
  {
   "cell_type": "markdown",
   "id": "019d0f26-c492-4f44-ba60-a9baceefe236",
   "metadata": {},
   "source": [
    "Prev numnber: 0.8565945307797938"
   ]
  },
  {
   "cell_type": "code",
   "execution_count": 90,
   "id": "9a7ef2ec-4539-4aaa-8a87-ce76eb8be564",
   "metadata": {},
   "outputs": [
    {
     "name": "stderr",
     "output_type": "stream",
     "text": [
      "`should_run_async` will not call `transform_cell` automatically in the future. Please pass the result to `transformed_cell` argument and any exception that happen during thetransform in `preprocessing_exc_tuple` in IPython 7.17 and above.\n"
     ]
    },
    {
     "data": {
      "text/plain": [
       "['/home/sf/code/kaggle/tabular_playgrounds/oct2021/preds/stacking_manual_20211025_122503_test_lv2_lightgbm42_preds.joblib']"
      ]
     },
     "execution_count": 90,
     "metadata": {},
     "output_type": "execute_result"
    }
   ],
   "source": [
    "dump(oof_lv2_lgb42, predpath/f\"{wandb_config['name']}_oof_lv2_lightgbm42_preds.joblib\")\n",
    "dump(test_lv2_lgb42, predpath/f\"{wandb_config['name']}_test_lv2_lightgbm42_preds.joblib\")"
   ]
  },
  {
   "cell_type": "code",
   "execution_count": 91,
   "id": "37f14d99-2917-4624-8e58-78818820750a",
   "metadata": {},
   "outputs": [],
   "source": [
    "oof_lv2['xgboost'] = oof_lv2_xgb42\n",
    "oof_lv2['catboost'] = oof_lv2_cat42\n",
    "oof_lv2['lightgbm'] = oof_lv2_lgb42\n",
    "\n",
    "test_lv2['xgboost'] = test_lv2_xgb42\n",
    "test_lv2['catboost'] = test_lv2_cat42\n",
    "test_lv2['lightgbm'] = test_lv2_lgb42"
   ]
  },
  {
   "cell_type": "code",
   "execution_count": 92,
   "id": "4bf889a0-175d-4564-a80c-4a3476aeffc4",
   "metadata": {},
   "outputs": [
    {
     "data": {
      "text/html": [
       "<div>\n",
       "<style scoped>\n",
       "    .dataframe tbody tr th:only-of-type {\n",
       "        vertical-align: middle;\n",
       "    }\n",
       "\n",
       "    .dataframe tbody tr th {\n",
       "        vertical-align: top;\n",
       "    }\n",
       "\n",
       "    .dataframe thead th {\n",
       "        text-align: right;\n",
       "    }\n",
       "</style>\n",
       "<table border=\"1\" class=\"dataframe\">\n",
       "  <thead>\n",
       "    <tr style=\"text-align: right;\">\n",
       "      <th></th>\n",
       "      <th>xgboost</th>\n",
       "      <th>catboost</th>\n",
       "      <th>lightgbm</th>\n",
       "    </tr>\n",
       "  </thead>\n",
       "  <tbody>\n",
       "    <tr>\n",
       "      <th>0</th>\n",
       "      <td>0.596262</td>\n",
       "      <td>0.598710</td>\n",
       "      <td>0.588848</td>\n",
       "    </tr>\n",
       "    <tr>\n",
       "      <th>1</th>\n",
       "      <td>0.998650</td>\n",
       "      <td>0.995637</td>\n",
       "      <td>0.998548</td>\n",
       "    </tr>\n",
       "    <tr>\n",
       "      <th>2</th>\n",
       "      <td>0.671555</td>\n",
       "      <td>0.664690</td>\n",
       "      <td>0.668382</td>\n",
       "    </tr>\n",
       "    <tr>\n",
       "      <th>3</th>\n",
       "      <td>0.314930</td>\n",
       "      <td>0.314163</td>\n",
       "      <td>0.318068</td>\n",
       "    </tr>\n",
       "    <tr>\n",
       "      <th>4</th>\n",
       "      <td>0.026659</td>\n",
       "      <td>0.027319</td>\n",
       "      <td>0.037347</td>\n",
       "    </tr>\n",
       "  </tbody>\n",
       "</table>\n",
       "</div>"
      ],
      "text/plain": [
       "    xgboost  catboost  lightgbm\n",
       "0  0.596262  0.598710  0.588848\n",
       "1  0.998650  0.995637  0.998548\n",
       "2  0.671555  0.664690  0.668382\n",
       "3  0.314930  0.314163  0.318068\n",
       "4  0.026659  0.027319  0.037347"
      ]
     },
     "execution_count": 92,
     "metadata": {},
     "output_type": "execute_result"
    }
   ],
   "source": [
    "oof_lv2.head()"
   ]
  },
  {
   "cell_type": "code",
   "execution_count": 93,
   "id": "b970e9c3-b3de-42b5-8d8b-c17832ecd339",
   "metadata": {},
   "outputs": [
    {
     "name": "stderr",
     "output_type": "stream",
     "text": [
      "`should_run_async` will not call `transform_cell` automatically in the future. Please pass the result to `transformed_cell` argument and any exception that happen during thetransform in `preprocessing_exc_tuple` in IPython 7.17 and above.\n"
     ]
    }
   ],
   "source": [
    "# oof_lv1_df = pd.read_feather(predpath/f\"{wandb_config['name']}_oof_lv1.feather)"
   ]
  },
  {
   "cell_type": "code",
   "execution_count": 94,
   "id": "22f4d4e2-9174-4006-a5f7-47f42a2f5757",
   "metadata": {},
   "outputs": [],
   "source": [
    "oof_lv1 = pd.DataFrame(oof_lv1)"
   ]
  },
  {
   "cell_type": "code",
   "execution_count": 95,
   "id": "7debcf3f-872c-42fb-9945-3b6b54eb9c76",
   "metadata": {},
   "outputs": [
    {
     "data": {
      "text/html": [
       "<div>\n",
       "<style scoped>\n",
       "    .dataframe tbody tr th:only-of-type {\n",
       "        vertical-align: middle;\n",
       "    }\n",
       "\n",
       "    .dataframe tbody tr th {\n",
       "        vertical-align: top;\n",
       "    }\n",
       "\n",
       "    .dataframe thead th {\n",
       "        text-align: right;\n",
       "    }\n",
       "</style>\n",
       "<table border=\"1\" class=\"dataframe\">\n",
       "  <thead>\n",
       "    <tr style=\"text-align: right;\">\n",
       "      <th></th>\n",
       "      <th>lgb42</th>\n",
       "      <th>lgb1983</th>\n",
       "      <th>xgb42</th>\n",
       "      <th>xgb1983</th>\n",
       "      <th>cat42</th>\n",
       "      <th>cat1983</th>\n",
       "      <th>tabmlp42</th>\n",
       "      <th>tabmlp1983</th>\n",
       "    </tr>\n",
       "  </thead>\n",
       "  <tbody>\n",
       "    <tr>\n",
       "      <th>0</th>\n",
       "      <td>0.589611</td>\n",
       "      <td>0.651299</td>\n",
       "      <td>0.627152</td>\n",
       "      <td>0.666962</td>\n",
       "      <td>0.617215</td>\n",
       "      <td>0.637863</td>\n",
       "      <td>0.517801</td>\n",
       "      <td>0.523073</td>\n",
       "    </tr>\n",
       "    <tr>\n",
       "      <th>1</th>\n",
       "      <td>0.977506</td>\n",
       "      <td>0.979994</td>\n",
       "      <td>0.975591</td>\n",
       "      <td>0.976313</td>\n",
       "      <td>0.998443</td>\n",
       "      <td>0.978872</td>\n",
       "      <td>0.966934</td>\n",
       "      <td>0.969927</td>\n",
       "    </tr>\n",
       "    <tr>\n",
       "      <th>2</th>\n",
       "      <td>0.712757</td>\n",
       "      <td>0.727006</td>\n",
       "      <td>0.674095</td>\n",
       "      <td>0.670068</td>\n",
       "      <td>0.692972</td>\n",
       "      <td>0.695742</td>\n",
       "      <td>0.764769</td>\n",
       "      <td>0.683457</td>\n",
       "    </tr>\n",
       "    <tr>\n",
       "      <th>3</th>\n",
       "      <td>0.284891</td>\n",
       "      <td>0.307745</td>\n",
       "      <td>0.294775</td>\n",
       "      <td>0.321891</td>\n",
       "      <td>0.289597</td>\n",
       "      <td>0.281502</td>\n",
       "      <td>0.197155</td>\n",
       "      <td>0.326599</td>\n",
       "    </tr>\n",
       "    <tr>\n",
       "      <th>4</th>\n",
       "      <td>0.081467</td>\n",
       "      <td>0.085114</td>\n",
       "      <td>0.069561</td>\n",
       "      <td>0.071851</td>\n",
       "      <td>0.025563</td>\n",
       "      <td>0.061077</td>\n",
       "      <td>0.071227</td>\n",
       "      <td>0.035203</td>\n",
       "    </tr>\n",
       "  </tbody>\n",
       "</table>\n",
       "</div>"
      ],
      "text/plain": [
       "      lgb42   lgb1983     xgb42   xgb1983     cat42   cat1983  tabmlp42  \\\n",
       "0  0.589611  0.651299  0.627152  0.666962  0.617215  0.637863  0.517801   \n",
       "1  0.977506  0.979994  0.975591  0.976313  0.998443  0.978872  0.966934   \n",
       "2  0.712757  0.727006  0.674095  0.670068  0.692972  0.695742  0.764769   \n",
       "3  0.284891  0.307745  0.294775  0.321891  0.289597  0.281502  0.197155   \n",
       "4  0.081467  0.085114  0.069561  0.071851  0.025563  0.061077  0.071227   \n",
       "\n",
       "   tabmlp1983  \n",
       "0    0.523073  \n",
       "1    0.969927  \n",
       "2    0.683457  \n",
       "3    0.326599  \n",
       "4    0.035203  "
      ]
     },
     "execution_count": 95,
     "metadata": {},
     "output_type": "execute_result"
    }
   ],
   "source": [
    "oof_lv1.head()"
   ]
  },
  {
   "cell_type": "code",
   "execution_count": 96,
   "id": "4a241171-9b43-4205-9156-320687251c8f",
   "metadata": {},
   "outputs": [
    {
     "name": "stderr",
     "output_type": "stream",
     "text": [
      "`should_run_async` will not call `transform_cell` automatically in the future. Please pass the result to `transformed_cell` argument and any exception that happen during thetransform in `preprocessing_exc_tuple` in IPython 7.17 and above.\n"
     ]
    }
   ],
   "source": [
    "oof_lv2_full = oof_lv2.join(oof_lv1)"
   ]
  },
  {
   "cell_type": "code",
   "execution_count": 97,
   "id": "9dbae0dc-79e9-421b-a9ea-a37cb5b17b96",
   "metadata": {},
   "outputs": [
    {
     "data": {
      "text/html": [
       "<div>\n",
       "<style scoped>\n",
       "    .dataframe tbody tr th:only-of-type {\n",
       "        vertical-align: middle;\n",
       "    }\n",
       "\n",
       "    .dataframe tbody tr th {\n",
       "        vertical-align: top;\n",
       "    }\n",
       "\n",
       "    .dataframe thead th {\n",
       "        text-align: right;\n",
       "    }\n",
       "</style>\n",
       "<table border=\"1\" class=\"dataframe\">\n",
       "  <thead>\n",
       "    <tr style=\"text-align: right;\">\n",
       "      <th></th>\n",
       "      <th>xgboost</th>\n",
       "      <th>catboost</th>\n",
       "      <th>lightgbm</th>\n",
       "      <th>lgb42</th>\n",
       "      <th>lgb1983</th>\n",
       "      <th>xgb42</th>\n",
       "      <th>xgb1983</th>\n",
       "      <th>cat42</th>\n",
       "      <th>cat1983</th>\n",
       "      <th>tabmlp42</th>\n",
       "      <th>tabmlp1983</th>\n",
       "    </tr>\n",
       "  </thead>\n",
       "  <tbody>\n",
       "    <tr>\n",
       "      <th>0</th>\n",
       "      <td>0.596262</td>\n",
       "      <td>0.598710</td>\n",
       "      <td>0.588848</td>\n",
       "      <td>0.589611</td>\n",
       "      <td>0.651299</td>\n",
       "      <td>0.627152</td>\n",
       "      <td>0.666962</td>\n",
       "      <td>0.617215</td>\n",
       "      <td>0.637863</td>\n",
       "      <td>0.517801</td>\n",
       "      <td>0.523073</td>\n",
       "    </tr>\n",
       "    <tr>\n",
       "      <th>1</th>\n",
       "      <td>0.998650</td>\n",
       "      <td>0.995637</td>\n",
       "      <td>0.998548</td>\n",
       "      <td>0.977506</td>\n",
       "      <td>0.979994</td>\n",
       "      <td>0.975591</td>\n",
       "      <td>0.976313</td>\n",
       "      <td>0.998443</td>\n",
       "      <td>0.978872</td>\n",
       "      <td>0.966934</td>\n",
       "      <td>0.969927</td>\n",
       "    </tr>\n",
       "    <tr>\n",
       "      <th>2</th>\n",
       "      <td>0.671555</td>\n",
       "      <td>0.664690</td>\n",
       "      <td>0.668382</td>\n",
       "      <td>0.712757</td>\n",
       "      <td>0.727006</td>\n",
       "      <td>0.674095</td>\n",
       "      <td>0.670068</td>\n",
       "      <td>0.692972</td>\n",
       "      <td>0.695742</td>\n",
       "      <td>0.764769</td>\n",
       "      <td>0.683457</td>\n",
       "    </tr>\n",
       "    <tr>\n",
       "      <th>3</th>\n",
       "      <td>0.314930</td>\n",
       "      <td>0.314163</td>\n",
       "      <td>0.318068</td>\n",
       "      <td>0.284891</td>\n",
       "      <td>0.307745</td>\n",
       "      <td>0.294775</td>\n",
       "      <td>0.321891</td>\n",
       "      <td>0.289597</td>\n",
       "      <td>0.281502</td>\n",
       "      <td>0.197155</td>\n",
       "      <td>0.326599</td>\n",
       "    </tr>\n",
       "    <tr>\n",
       "      <th>4</th>\n",
       "      <td>0.026659</td>\n",
       "      <td>0.027319</td>\n",
       "      <td>0.037347</td>\n",
       "      <td>0.081467</td>\n",
       "      <td>0.085114</td>\n",
       "      <td>0.069561</td>\n",
       "      <td>0.071851</td>\n",
       "      <td>0.025563</td>\n",
       "      <td>0.061077</td>\n",
       "      <td>0.071227</td>\n",
       "      <td>0.035203</td>\n",
       "    </tr>\n",
       "  </tbody>\n",
       "</table>\n",
       "</div>"
      ],
      "text/plain": [
       "    xgboost  catboost  lightgbm     lgb42   lgb1983     xgb42   xgb1983  \\\n",
       "0  0.596262  0.598710  0.588848  0.589611  0.651299  0.627152  0.666962   \n",
       "1  0.998650  0.995637  0.998548  0.977506  0.979994  0.975591  0.976313   \n",
       "2  0.671555  0.664690  0.668382  0.712757  0.727006  0.674095  0.670068   \n",
       "3  0.314930  0.314163  0.318068  0.284891  0.307745  0.294775  0.321891   \n",
       "4  0.026659  0.027319  0.037347  0.081467  0.085114  0.069561  0.071851   \n",
       "\n",
       "      cat42   cat1983  tabmlp42  tabmlp1983  \n",
       "0  0.617215  0.637863  0.517801    0.523073  \n",
       "1  0.998443  0.978872  0.966934    0.969927  \n",
       "2  0.692972  0.695742  0.764769    0.683457  \n",
       "3  0.289597  0.281502  0.197155    0.326599  \n",
       "4  0.025563  0.061077  0.071227    0.035203  "
      ]
     },
     "execution_count": 97,
     "metadata": {},
     "output_type": "execute_result"
    }
   ],
   "source": [
    "oof_lv2_full.head()"
   ]
  },
  {
   "cell_type": "code",
   "execution_count": 98,
   "id": "6e641d5b-2750-4e33-90c6-8d8481ca09cf",
   "metadata": {},
   "outputs": [
    {
     "name": "stderr",
     "output_type": "stream",
     "text": [
      "`should_run_async` will not call `transform_cell` automatically in the future. Please pass the result to `transformed_cell` argument and any exception that happen during thetransform in `preprocessing_exc_tuple` in IPython 7.17 and above.\n"
     ]
    }
   ],
   "source": [
    "test_lv1 = pd.DataFrame(test_lv1)"
   ]
  },
  {
   "cell_type": "code",
   "execution_count": 99,
   "id": "10359662-c105-477e-8c5b-8b82a4d51648",
   "metadata": {},
   "outputs": [
    {
     "data": {
      "text/html": [
       "<div>\n",
       "<style scoped>\n",
       "    .dataframe tbody tr th:only-of-type {\n",
       "        vertical-align: middle;\n",
       "    }\n",
       "\n",
       "    .dataframe tbody tr th {\n",
       "        vertical-align: top;\n",
       "    }\n",
       "\n",
       "    .dataframe thead th {\n",
       "        text-align: right;\n",
       "    }\n",
       "</style>\n",
       "<table border=\"1\" class=\"dataframe\">\n",
       "  <thead>\n",
       "    <tr style=\"text-align: right;\">\n",
       "      <th></th>\n",
       "      <th>lgb42</th>\n",
       "      <th>lgb1983</th>\n",
       "      <th>xgb42</th>\n",
       "      <th>xgb1983</th>\n",
       "      <th>cat42</th>\n",
       "      <th>cat1983</th>\n",
       "      <th>tabmlp42</th>\n",
       "      <th>tabmlp1983</th>\n",
       "    </tr>\n",
       "  </thead>\n",
       "  <tbody>\n",
       "    <tr>\n",
       "      <th>0</th>\n",
       "      <td>0.705919</td>\n",
       "      <td>0.716279</td>\n",
       "      <td>0.742503</td>\n",
       "      <td>0.744670</td>\n",
       "      <td>0.697371</td>\n",
       "      <td>0.742959</td>\n",
       "      <td>0.675174</td>\n",
       "      <td>0.667623</td>\n",
       "    </tr>\n",
       "    <tr>\n",
       "      <th>1</th>\n",
       "      <td>0.229481</td>\n",
       "      <td>0.227226</td>\n",
       "      <td>0.263515</td>\n",
       "      <td>0.255078</td>\n",
       "      <td>0.281691</td>\n",
       "      <td>0.236283</td>\n",
       "      <td>0.280769</td>\n",
       "      <td>0.241168</td>\n",
       "    </tr>\n",
       "    <tr>\n",
       "      <th>2</th>\n",
       "      <td>0.910173</td>\n",
       "      <td>0.907678</td>\n",
       "      <td>0.909820</td>\n",
       "      <td>0.903481</td>\n",
       "      <td>0.923829</td>\n",
       "      <td>0.908473</td>\n",
       "      <td>0.850372</td>\n",
       "      <td>0.862173</td>\n",
       "    </tr>\n",
       "    <tr>\n",
       "      <th>3</th>\n",
       "      <td>0.792741</td>\n",
       "      <td>0.812557</td>\n",
       "      <td>0.861400</td>\n",
       "      <td>0.860360</td>\n",
       "      <td>0.827925</td>\n",
       "      <td>0.844619</td>\n",
       "      <td>0.793903</td>\n",
       "      <td>0.827527</td>\n",
       "    </tr>\n",
       "    <tr>\n",
       "      <th>4</th>\n",
       "      <td>0.291263</td>\n",
       "      <td>0.282562</td>\n",
       "      <td>0.261821</td>\n",
       "      <td>0.262067</td>\n",
       "      <td>0.299697</td>\n",
       "      <td>0.267734</td>\n",
       "      <td>0.275253</td>\n",
       "      <td>0.271981</td>\n",
       "    </tr>\n",
       "  </tbody>\n",
       "</table>\n",
       "</div>"
      ],
      "text/plain": [
       "      lgb42   lgb1983     xgb42   xgb1983     cat42   cat1983  tabmlp42  \\\n",
       "0  0.705919  0.716279  0.742503  0.744670  0.697371  0.742959  0.675174   \n",
       "1  0.229481  0.227226  0.263515  0.255078  0.281691  0.236283  0.280769   \n",
       "2  0.910173  0.907678  0.909820  0.903481  0.923829  0.908473  0.850372   \n",
       "3  0.792741  0.812557  0.861400  0.860360  0.827925  0.844619  0.793903   \n",
       "4  0.291263  0.282562  0.261821  0.262067  0.299697  0.267734  0.275253   \n",
       "\n",
       "   tabmlp1983  \n",
       "0    0.667623  \n",
       "1    0.241168  \n",
       "2    0.862173  \n",
       "3    0.827527  \n",
       "4    0.271981  "
      ]
     },
     "execution_count": 99,
     "metadata": {},
     "output_type": "execute_result"
    }
   ],
   "source": [
    "test_lv1.head()"
   ]
  },
  {
   "cell_type": "code",
   "execution_count": 100,
   "id": "5a7a3d8c-4684-4f40-84f7-940a6a485d1a",
   "metadata": {},
   "outputs": [
    {
     "name": "stderr",
     "output_type": "stream",
     "text": [
      "`should_run_async` will not call `transform_cell` automatically in the future. Please pass the result to `transformed_cell` argument and any exception that happen during thetransform in `preprocessing_exc_tuple` in IPython 7.17 and above.\n"
     ]
    }
   ],
   "source": [
    "test_lv2_full = test_lv2.join(test_lv1)"
   ]
  },
  {
   "cell_type": "code",
   "execution_count": 101,
   "id": "6116488d-bda5-43b0-bb4f-f6cfd2c96156",
   "metadata": {},
   "outputs": [
    {
     "data": {
      "text/html": [
       "<div>\n",
       "<style scoped>\n",
       "    .dataframe tbody tr th:only-of-type {\n",
       "        vertical-align: middle;\n",
       "    }\n",
       "\n",
       "    .dataframe tbody tr th {\n",
       "        vertical-align: top;\n",
       "    }\n",
       "\n",
       "    .dataframe thead th {\n",
       "        text-align: right;\n",
       "    }\n",
       "</style>\n",
       "<table border=\"1\" class=\"dataframe\">\n",
       "  <thead>\n",
       "    <tr style=\"text-align: right;\">\n",
       "      <th></th>\n",
       "      <th>xgboost</th>\n",
       "      <th>catboost</th>\n",
       "      <th>lightgbm</th>\n",
       "      <th>lgb42</th>\n",
       "      <th>lgb1983</th>\n",
       "      <th>xgb42</th>\n",
       "      <th>xgb1983</th>\n",
       "      <th>cat42</th>\n",
       "      <th>cat1983</th>\n",
       "      <th>tabmlp42</th>\n",
       "      <th>tabmlp1983</th>\n",
       "    </tr>\n",
       "  </thead>\n",
       "  <tbody>\n",
       "    <tr>\n",
       "      <th>0</th>\n",
       "      <td>0.697902</td>\n",
       "      <td>0.692982</td>\n",
       "      <td>0.685067</td>\n",
       "      <td>0.705919</td>\n",
       "      <td>0.716279</td>\n",
       "      <td>0.742503</td>\n",
       "      <td>0.744670</td>\n",
       "      <td>0.697371</td>\n",
       "      <td>0.742959</td>\n",
       "      <td>0.675174</td>\n",
       "      <td>0.667623</td>\n",
       "    </tr>\n",
       "    <tr>\n",
       "      <th>1</th>\n",
       "      <td>0.266338</td>\n",
       "      <td>0.268565</td>\n",
       "      <td>0.271685</td>\n",
       "      <td>0.229481</td>\n",
       "      <td>0.227226</td>\n",
       "      <td>0.263515</td>\n",
       "      <td>0.255078</td>\n",
       "      <td>0.281691</td>\n",
       "      <td>0.236283</td>\n",
       "      <td>0.280769</td>\n",
       "      <td>0.241168</td>\n",
       "    </tr>\n",
       "    <tr>\n",
       "      <th>2</th>\n",
       "      <td>0.917372</td>\n",
       "      <td>0.916929</td>\n",
       "      <td>0.915970</td>\n",
       "      <td>0.910173</td>\n",
       "      <td>0.907678</td>\n",
       "      <td>0.909820</td>\n",
       "      <td>0.903481</td>\n",
       "      <td>0.923829</td>\n",
       "      <td>0.908473</td>\n",
       "      <td>0.850372</td>\n",
       "      <td>0.862173</td>\n",
       "    </tr>\n",
       "    <tr>\n",
       "      <th>3</th>\n",
       "      <td>0.814968</td>\n",
       "      <td>0.813688</td>\n",
       "      <td>0.810354</td>\n",
       "      <td>0.792741</td>\n",
       "      <td>0.812557</td>\n",
       "      <td>0.861400</td>\n",
       "      <td>0.860360</td>\n",
       "      <td>0.827925</td>\n",
       "      <td>0.844619</td>\n",
       "      <td>0.793903</td>\n",
       "      <td>0.827527</td>\n",
       "    </tr>\n",
       "    <tr>\n",
       "      <th>4</th>\n",
       "      <td>0.298113</td>\n",
       "      <td>0.298055</td>\n",
       "      <td>0.300119</td>\n",
       "      <td>0.291263</td>\n",
       "      <td>0.282562</td>\n",
       "      <td>0.261821</td>\n",
       "      <td>0.262067</td>\n",
       "      <td>0.299697</td>\n",
       "      <td>0.267734</td>\n",
       "      <td>0.275253</td>\n",
       "      <td>0.271981</td>\n",
       "    </tr>\n",
       "  </tbody>\n",
       "</table>\n",
       "</div>"
      ],
      "text/plain": [
       "    xgboost  catboost  lightgbm     lgb42   lgb1983     xgb42   xgb1983  \\\n",
       "0  0.697902  0.692982  0.685067  0.705919  0.716279  0.742503  0.744670   \n",
       "1  0.266338  0.268565  0.271685  0.229481  0.227226  0.263515  0.255078   \n",
       "2  0.917372  0.916929  0.915970  0.910173  0.907678  0.909820  0.903481   \n",
       "3  0.814968  0.813688  0.810354  0.792741  0.812557  0.861400  0.860360   \n",
       "4  0.298113  0.298055  0.300119  0.291263  0.282562  0.261821  0.262067   \n",
       "\n",
       "      cat42   cat1983  tabmlp42  tabmlp1983  \n",
       "0  0.697371  0.742959  0.675174    0.667623  \n",
       "1  0.281691  0.236283  0.280769    0.241168  \n",
       "2  0.923829  0.908473  0.850372    0.862173  \n",
       "3  0.827925  0.844619  0.793903    0.827527  \n",
       "4  0.299697  0.267734  0.275253    0.271981  "
      ]
     },
     "execution_count": 101,
     "metadata": {},
     "output_type": "execute_result"
    }
   ],
   "source": [
    "test_lv2_full.head()"
   ]
  },
  {
   "cell_type": "code",
   "execution_count": 102,
   "id": "90b20494-95d6-4240-8a0d-b54de622b347",
   "metadata": {},
   "outputs": [
    {
     "name": "stderr",
     "output_type": "stream",
     "text": [
      "`should_run_async` will not call `transform_cell` automatically in the future. Please pass the result to `transformed_cell` argument and any exception that happen during thetransform in `preprocessing_exc_tuple` in IPython 7.17 and above.\n"
     ]
    },
    {
     "data": {
      "text/html": [
       "<div>\n",
       "<style scoped>\n",
       "    .dataframe tbody tr th:only-of-type {\n",
       "        vertical-align: middle;\n",
       "    }\n",
       "\n",
       "    .dataframe tbody tr th {\n",
       "        vertical-align: top;\n",
       "    }\n",
       "\n",
       "    .dataframe thead th {\n",
       "        text-align: right;\n",
       "    }\n",
       "</style>\n",
       "<table border=\"1\" class=\"dataframe\">\n",
       "  <thead>\n",
       "    <tr style=\"text-align: right;\">\n",
       "      <th></th>\n",
       "      <th>xgboost</th>\n",
       "      <th>catboost</th>\n",
       "      <th>lightgbm</th>\n",
       "      <th>lgb42</th>\n",
       "      <th>lgb1983</th>\n",
       "      <th>xgb42</th>\n",
       "      <th>xgb1983</th>\n",
       "      <th>cat42</th>\n",
       "      <th>cat1983</th>\n",
       "      <th>tabmlp42</th>\n",
       "      <th>tabmlp1983</th>\n",
       "    </tr>\n",
       "  </thead>\n",
       "  <tbody>\n",
       "    <tr>\n",
       "      <th>0</th>\n",
       "      <td>0.596262</td>\n",
       "      <td>0.598710</td>\n",
       "      <td>0.588848</td>\n",
       "      <td>0.589611</td>\n",
       "      <td>0.651299</td>\n",
       "      <td>0.627152</td>\n",
       "      <td>0.666962</td>\n",
       "      <td>0.617215</td>\n",
       "      <td>0.637863</td>\n",
       "      <td>0.517801</td>\n",
       "      <td>0.523073</td>\n",
       "    </tr>\n",
       "    <tr>\n",
       "      <th>1</th>\n",
       "      <td>0.998650</td>\n",
       "      <td>0.995637</td>\n",
       "      <td>0.998548</td>\n",
       "      <td>0.977506</td>\n",
       "      <td>0.979994</td>\n",
       "      <td>0.975591</td>\n",
       "      <td>0.976313</td>\n",
       "      <td>0.998443</td>\n",
       "      <td>0.978872</td>\n",
       "      <td>0.966934</td>\n",
       "      <td>0.969927</td>\n",
       "    </tr>\n",
       "    <tr>\n",
       "      <th>2</th>\n",
       "      <td>0.671555</td>\n",
       "      <td>0.664690</td>\n",
       "      <td>0.668382</td>\n",
       "      <td>0.712757</td>\n",
       "      <td>0.727006</td>\n",
       "      <td>0.674095</td>\n",
       "      <td>0.670068</td>\n",
       "      <td>0.692972</td>\n",
       "      <td>0.695742</td>\n",
       "      <td>0.764769</td>\n",
       "      <td>0.683457</td>\n",
       "    </tr>\n",
       "    <tr>\n",
       "      <th>3</th>\n",
       "      <td>0.314930</td>\n",
       "      <td>0.314163</td>\n",
       "      <td>0.318068</td>\n",
       "      <td>0.284891</td>\n",
       "      <td>0.307745</td>\n",
       "      <td>0.294775</td>\n",
       "      <td>0.321891</td>\n",
       "      <td>0.289597</td>\n",
       "      <td>0.281502</td>\n",
       "      <td>0.197155</td>\n",
       "      <td>0.326599</td>\n",
       "    </tr>\n",
       "    <tr>\n",
       "      <th>4</th>\n",
       "      <td>0.026659</td>\n",
       "      <td>0.027319</td>\n",
       "      <td>0.037347</td>\n",
       "      <td>0.081467</td>\n",
       "      <td>0.085114</td>\n",
       "      <td>0.069561</td>\n",
       "      <td>0.071851</td>\n",
       "      <td>0.025563</td>\n",
       "      <td>0.061077</td>\n",
       "      <td>0.071227</td>\n",
       "      <td>0.035203</td>\n",
       "    </tr>\n",
       "  </tbody>\n",
       "</table>\n",
       "</div>"
      ],
      "text/plain": [
       "    xgboost  catboost  lightgbm     lgb42   lgb1983     xgb42   xgb1983  \\\n",
       "0  0.596262  0.598710  0.588848  0.589611  0.651299  0.627152  0.666962   \n",
       "1  0.998650  0.995637  0.998548  0.977506  0.979994  0.975591  0.976313   \n",
       "2  0.671555  0.664690  0.668382  0.712757  0.727006  0.674095  0.670068   \n",
       "3  0.314930  0.314163  0.318068  0.284891  0.307745  0.294775  0.321891   \n",
       "4  0.026659  0.027319  0.037347  0.081467  0.085114  0.069561  0.071851   \n",
       "\n",
       "      cat42   cat1983  tabmlp42  tabmlp1983  \n",
       "0  0.617215  0.637863  0.517801    0.523073  \n",
       "1  0.998443  0.978872  0.966934    0.969927  \n",
       "2  0.692972  0.695742  0.764769    0.683457  \n",
       "3  0.289597  0.281502  0.197155    0.326599  \n",
       "4  0.025563  0.061077  0.071227    0.035203  "
      ]
     },
     "execution_count": 102,
     "metadata": {},
     "output_type": "execute_result"
    }
   ],
   "source": [
    "oof_lv2_full.head()"
   ]
  },
  {
   "cell_type": "code",
   "execution_count": 103,
   "id": "83f55d89-4ae1-4397-83ad-388e3d8e697a",
   "metadata": {},
   "outputs": [
    {
     "name": "stderr",
     "output_type": "stream",
     "text": [
      "`should_run_async` will not call `transform_cell` automatically in the future. Please pass the result to `transformed_cell` argument and any exception that happen during thetransform in `preprocessing_exc_tuple` in IPython 7.17 and above.\n"
     ]
    }
   ],
   "source": [
    "oof_lv2_np = oof_lv2_full.to_numpy()\n",
    "test_lv2_np = test_lv2_full.to_numpy()"
   ]
  },
  {
   "cell_type": "code",
   "execution_count": 104,
   "id": "0f5029bd-96d5-4c86-a4f5-1da358456a8a",
   "metadata": {},
   "outputs": [
    {
     "data": {
      "text/plain": [
       "pandas.core.series.Series"
      ]
     },
     "execution_count": 104,
     "metadata": {},
     "output_type": "execute_result"
    }
   ],
   "source": [
    "type(oof_y)"
   ]
  },
  {
   "cell_type": "code",
   "execution_count": 105,
   "id": "411948c7-bc26-4722-962d-23f56857a961",
   "metadata": {},
   "outputs": [],
   "source": [
    "oof_y_np = oof_y"
   ]
  },
  {
   "cell_type": "markdown",
   "id": "113c6aac-1344-4ee0-b2a2-1580d6c5356d",
   "metadata": {},
   "source": [
    "## Level Three (Logistic Regression)"
   ]
  },
  {
   "cell_type": "code",
   "execution_count": 106,
   "id": "de1db0b1-26d9-440b-864b-63df8aa6fb3b",
   "metadata": {},
   "outputs": [],
   "source": [
    "from sklearn import model_selection"
   ]
  },
  {
   "cell_type": "code",
   "execution_count": 107,
   "id": "18fa300d-2e9b-4fcd-8553-cf3885228bd4",
   "metadata": {},
   "outputs": [],
   "source": [
    "# kfolds = model_selection.StratifiedKFold(n_splits=5, shuffle=False) # no random_state if shuffle == False"
   ]
  },
  {
   "cell_type": "code",
   "execution_count": 108,
   "id": "9ad51e38-ca0f-4e6c-9879-7993a8bd40ea",
   "metadata": {},
   "outputs": [],
   "source": [
    "oof_preds, oof_y = [], []"
   ]
  },
  {
   "cell_type": "code",
   "execution_count": 109,
   "id": "e820c69a-13f3-4ace-a26f-d6e1fb097ef8",
   "metadata": {},
   "outputs": [],
   "source": [
    "test_preds = np.zeros((X_test.shape[0]))"
   ]
  },
  {
   "cell_type": "code",
   "execution_count": 110,
   "id": "8ec5b2ec-8f29-471a-ab7d-d6be861a803c",
   "metadata": {},
   "outputs": [],
   "source": [
    "X = oof_lv2_np\n",
    "y = oof_y_np\n",
    "X_test = test_lv2_np"
   ]
  },
  {
   "cell_type": "code",
   "execution_count": 111,
   "id": "1f6d220b-7f9f-49ea-b3bf-7d477751121c",
   "metadata": {},
   "outputs": [
    {
     "data": {
      "text/plain": [
       "array([[0.59626204, 0.59870964, 0.5888484 , 0.58961118, 0.651299  ,\n",
       "        0.62715232, 0.66696191, 0.61721529, 0.63786275, 0.51780111,\n",
       "        0.52307266],\n",
       "       [0.99864966, 0.9956367 , 0.99854764, 0.97750649, 0.97999374,\n",
       "        0.9755913 , 0.97631311, 0.9984426 , 0.9788715 , 0.96693379,\n",
       "        0.96992701],\n",
       "       [0.67155457, 0.6646895 , 0.66838205, 0.71275723, 0.72700594,\n",
       "        0.6740948 , 0.67006797, 0.6929717 , 0.69574226, 0.7647689 ,\n",
       "        0.68345737],\n",
       "       [0.31492972, 0.31416323, 0.31806764, 0.28489091, 0.30774478,\n",
       "        0.29477474, 0.32189095, 0.28959721, 0.28150182, 0.19715466,\n",
       "        0.32659888],\n",
       "       [0.02665927, 0.02731891, 0.03734655, 0.0814668 , 0.08511447,\n",
       "        0.06956097, 0.0718514 , 0.02556273, 0.06107668, 0.07122669,\n",
       "        0.03520279],\n",
       "       [0.97511137, 0.975368  , 0.97291166, 0.93597717, 0.9323953 ,\n",
       "        0.93387043, 0.9304139 , 0.97475635, 0.93508565, 0.91050041,\n",
       "        0.92516482],\n",
       "       [0.81943589, 0.83268377, 0.81586705, 0.85558287, 0.86189195,\n",
       "        0.83574039, 0.84129363, 0.8344056 , 0.83106644, 0.91057217,\n",
       "        0.90811867],\n",
       "       [0.17647348, 0.17634353, 0.17654958, 0.17983008, 0.17739634,\n",
       "        0.15861823, 0.16667581, 0.16064921, 0.15259177, 0.26014459,\n",
       "        0.162356  ],\n",
       "       [0.67583895, 0.67847744, 0.68156252, 0.70412209, 0.6938801 ,\n",
       "        0.75263572, 0.71489632, 0.67818252, 0.73708065, 0.65107149,\n",
       "        0.68939137],\n",
       "       [0.81619632, 0.81982371, 0.81917016, 0.83854542, 0.80910743,\n",
       "        0.85481358, 0.8621344 , 0.82501989, 0.83840721, 0.90428579,\n",
       "        0.89050037]])"
      ]
     },
     "execution_count": 111,
     "metadata": {},
     "output_type": "execute_result"
    }
   ],
   "source": [
    "X[:10]"
   ]
  },
  {
   "cell_type": "code",
   "execution_count": 112,
   "id": "c581a349-a22b-4383-b109-ec87ec9eed8d",
   "metadata": {},
   "outputs": [],
   "source": [
    "library = 'sklearn (LogisticRegressor(max_iter=1000))'\n",
    "# exmodel_config['library'] = library\n",
    "# wandb.init(\n",
    "#     project=\"202110_Kaggle_tabular_playground\",\n",
    "#     save_code=True,\n",
    "#     tags=wandb_config['tags'],\n",
    "#     name=wandb_config['name'],\n",
    "#     notes=wandb_config['notes'],\n",
    "#     config=exmodel_config\n",
    "# )   \n",
    "\n",
    "# prepare for k-fold cross-validation\n",
    "# kfold = exmodel_config['cross_val_strategy'](n_splits=exmodel_config['kfolds'], shuffle=True, random_state=SEED)\n",
    "kfold = exmodel_config['cross_val_strategy'](n_splits=exmodel_config['kfolds'], shuffle=False)\n",
    "\n",
    "# setup for serialization\n",
    "# model_path = Path(datapath/f\"models/{wandb_config['name']}_{library}_{exmodel_config['kfolds']}folds/\")\n",
    "# (model_path).mkdir(exist_ok=True)"
   ]
  },
  {
   "cell_type": "code",
   "execution_count": null,
   "id": "2eefeecc-3536-482b-9f9c-8a286e3c6c9e",
   "metadata": {},
   "outputs": [],
   "source": []
  },
  {
   "cell_type": "code",
   "execution_count": 113,
   "id": "d405ab94-9fe2-4d95-b966-ad02de6f6f85",
   "metadata": {},
   "outputs": [
    {
     "name": "stdout",
     "output_type": "stream",
     "text": [
      "FOLD 0\n",
      "---------------------\n",
      "ROC AUC of fold 0 is 0.8569659006827237\n",
      "FOLD 1\n",
      "---------------------\n",
      "ROC AUC of fold 1 is 0.8555640774778582\n",
      "FOLD 2\n",
      "---------------------\n",
      "ROC AUC of fold 2 is 0.8566989884283661\n",
      "FOLD 3\n",
      "---------------------\n",
      "ROC AUC of fold 3 is 0.8557117623457473\n",
      "FOLD 4\n",
      "---------------------\n",
      "ROC AUC of fold 4 is 0.8563226272102731\n",
      "Overall ROC_AUC is 0.8561688905013091\n"
     ]
    },
    {
     "data": {
      "text/plain": [
       "['/home/sf/code/kaggle/tabular_playgrounds/oct2021/preds/test_lv3_preds.joblib']"
      ]
     },
     "execution_count": 113,
     "metadata": {},
     "output_type": "execute_result"
    }
   ],
   "source": [
    "for fold, (train_idx, valid_idx) in enumerate(kfold.split(X,y)):\n",
    "    X_train, X_valid = X[train_idx], X[valid_idx]\n",
    "    y_train, y_valid = y[train_idx], y[valid_idx]\n",
    "    \n",
    "    print(f\"FOLD {fold}\")\n",
    "    print(\"---------------------\")\n",
    "    \n",
    "    model = LogisticRegression(max_iter=1000)\n",
    "    \n",
    "    model.fit(X_train, y_train)\n",
    "    preds = model.predict_proba(X_valid)[:,1]\n",
    "    \n",
    "    oof_preds.extend(preds)\n",
    "    oof_y.extend(y_valid)\n",
    "    \n",
    "    test_preds += model.predict_proba(X_test)[:,1]\n",
    "    \n",
    "    valid_auc = roc_auc_score(y_valid, preds)\n",
    "    print(f\"ROC AUC of fold {fold} is {valid_auc}\")\n",
    "    \n",
    "#     dump(preds, /'lv_3)\n",
    "\n",
    "valid_auc_total = roc_auc_score(oof_y, oof_preds)\n",
    "print(f\"Overall ROC_AUC is {valid_auc_total}\")\n",
    "\n",
    "dump(oof_preds, predpath/'oof_lv3_preds.joblib')\n",
    "dump(oof_y, predpath/'oof_lv3_y.joblib')\n",
    "\n",
    "test_preds /= 5\n",
    "\n",
    "dump(test_preds, predpath/'test_lv3_preds.joblib')"
   ]
  },
  {
   "cell_type": "code",
   "execution_count": 114,
   "id": "9a99cf5b-3477-47f4-9391-73e2ff93c7d1",
   "metadata": {},
   "outputs": [
    {
     "name": "stderr",
     "output_type": "stream",
     "text": [
      "`should_run_async` will not call `transform_cell` automatically in the future. Please pass the result to `transformed_cell` argument and any exception that happen during thetransform in `preprocessing_exc_tuple` in IPython 7.17 and above.\n"
     ]
    }
   ],
   "source": [
    "# X_test_imputed_scaled = pd.read_feather(path=datapath/'X_test_NaNcounts_imputed-Median-wIndicators_StandardScaled.feather')\n",
    "# X_test_imputed_scaled = pd.read_feather(path=datapath/'X_test_NaNcounts_SummaryStats_imputed-Median-wIndicators-StandardScaled.feather')"
   ]
  },
  {
   "cell_type": "markdown",
   "id": "a57f347f-872f-4011-9f13-78fad542f36a",
   "metadata": {},
   "source": [
    "## Prediction Generation"
   ]
  },
  {
   "cell_type": "code",
   "execution_count": 115,
   "id": "0773d286-257d-4776-add5-0f724944befe",
   "metadata": {},
   "outputs": [],
   "source": [
    "# preds_path = Path(datapath/\"preds/\")\n",
    "\n",
    "# blender_preds = blender.predict_proba(X_test_imputed_scaled)[:,1]\n",
    "# dump(blender_preds, preds_path/f\"{config_run['name']}_stack.joblib\")"
   ]
  },
  {
   "cell_type": "markdown",
   "id": "97f63005-4b50-40e9-9af4-d858b9b73576",
   "metadata": {},
   "source": [
    "# Ensemble Submission"
   ]
  },
  {
   "cell_type": "code",
   "execution_count": 116,
   "id": "cae3116a-5ded-4080-b8f9-20e1ebdb2b2d",
   "metadata": {},
   "outputs": [],
   "source": [
    "widedeep_preds = load(predpath/'stacking_manual_20211012_194716_widedeep-TabMLP_5folds_rs1983_500epochs_test_preds.joblib')"
   ]
  },
  {
   "cell_type": "code",
   "execution_count": 117,
   "id": "f9ece5b1-b6aa-4ee9-80bc-9be931d04697",
   "metadata": {},
   "outputs": [],
   "source": [
    "widedeep_preds = pd.Series(widedeep_preds, name='widedeep_tabmlp1983')"
   ]
  },
  {
   "cell_type": "code",
   "execution_count": 118,
   "id": "832dc6e3-b10f-4870-92d8-06fd1b1536d2",
   "metadata": {},
   "outputs": [],
   "source": [
    "# test_lv1_xgb42 = load(predpath/'stacking_manual_20211020_104938_xgboost_5folds_rs42_test_preds.joblib')"
   ]
  },
  {
   "cell_type": "code",
   "execution_count": 119,
   "id": "ffe47b41-bd5c-4274-b150-1ec5981d9261",
   "metadata": {},
   "outputs": [],
   "source": [
    "# test_lv1_lgb42 = load(predpath/'stacking_manual_20211020_104938_lightgbm_5folds_rs42_test_preds.joblib')\n",
    "# test_lv1_cat42 = load(predpath/'stacking_manual_20211020_104938_catboost_5folds_rs42_test_preds.joblib')"
   ]
  },
  {
   "cell_type": "code",
   "execution_count": 120,
   "id": "75d5bb5a-febb-496b-af26-e48e89269d62",
   "metadata": {},
   "outputs": [
    {
     "data": {
      "text/plain": [
       "numpy.ndarray"
      ]
     },
     "execution_count": 120,
     "metadata": {},
     "output_type": "execute_result"
    }
   ],
   "source": [
    "type(test_lv1_xgb42)"
   ]
  },
  {
   "cell_type": "code",
   "execution_count": 121,
   "id": "f65240f3-f49d-4f94-a412-bab90a26c322",
   "metadata": {},
   "outputs": [],
   "source": [
    "mod_mix_three = 0.5*test_preds + 0.3*test_lv1_xgb42 + 0.05*test_lv1_lgb42 + 0.05*test_lv1_cat42 + 0.1*widedeep_preds"
   ]
  },
  {
   "cell_type": "code",
   "execution_count": 122,
   "id": "51e2ea7c-8a25-4032-8e71-1662c141dde6",
   "metadata": {},
   "outputs": [],
   "source": [
    "mod_mix_three_pow4 = 0.5*test_preds**4 + 0.3*test_lv1_xgb42**4 + 0.05*test_lv1_lgb42**4 + 0.05*test_lv1_cat42**4 + 0.1*widedeep_preds**4"
   ]
  },
  {
   "cell_type": "code",
   "execution_count": 123,
   "id": "2e312f49-71dd-4c4d-94b4-fc75e884fee8",
   "metadata": {
    "tags": []
   },
   "outputs": [],
   "source": [
    "sample_df = pd.read_csv(datapath/'sample_submission.csv.zip')"
   ]
  },
  {
   "cell_type": "code",
   "execution_count": 124,
   "id": "4154706a-0190-465b-860d-488750178dea",
   "metadata": {},
   "outputs": [],
   "source": [
    "sample_df.loc[:, 'target'] = mod_mix_three_pow4"
   ]
  },
  {
   "cell_type": "code",
   "execution_count": 125,
   "id": "681f0d7d-bf40-41c4-a3f0-150c0444331d",
   "metadata": {},
   "outputs": [
    {
     "data": {
      "text/html": [
       "<div>\n",
       "<style scoped>\n",
       "    .dataframe tbody tr th:only-of-type {\n",
       "        vertical-align: middle;\n",
       "    }\n",
       "\n",
       "    .dataframe tbody tr th {\n",
       "        vertical-align: top;\n",
       "    }\n",
       "\n",
       "    .dataframe thead th {\n",
       "        text-align: right;\n",
       "    }\n",
       "</style>\n",
       "<table border=\"1\" class=\"dataframe\">\n",
       "  <thead>\n",
       "    <tr style=\"text-align: right;\">\n",
       "      <th></th>\n",
       "      <th>id</th>\n",
       "      <th>target</th>\n",
       "    </tr>\n",
       "  </thead>\n",
       "  <tbody>\n",
       "    <tr>\n",
       "      <th>0</th>\n",
       "      <td>1000000</td>\n",
       "      <td>0.224023</td>\n",
       "    </tr>\n",
       "    <tr>\n",
       "      <th>1</th>\n",
       "      <td>1000001</td>\n",
       "      <td>0.005094</td>\n",
       "    </tr>\n",
       "    <tr>\n",
       "      <th>2</th>\n",
       "      <td>1000002</td>\n",
       "      <td>0.715813</td>\n",
       "    </tr>\n",
       "    <tr>\n",
       "      <th>3</th>\n",
       "      <td>1000003</td>\n",
       "      <td>0.508621</td>\n",
       "    </tr>\n",
       "    <tr>\n",
       "      <th>4</th>\n",
       "      <td>1000004</td>\n",
       "      <td>0.007631</td>\n",
       "    </tr>\n",
       "  </tbody>\n",
       "</table>\n",
       "</div>"
      ],
      "text/plain": [
       "        id    target\n",
       "0  1000000  0.224023\n",
       "1  1000001  0.005094\n",
       "2  1000002  0.715813\n",
       "3  1000003  0.508621\n",
       "4  1000004  0.007631"
      ]
     },
     "execution_count": 125,
     "metadata": {},
     "output_type": "execute_result"
    }
   ],
   "source": [
    "sample_df.head()"
   ]
  },
  {
   "cell_type": "code",
   "execution_count": 126,
   "id": "281493cc-512f-4871-aa9f-593d9339f232",
   "metadata": {},
   "outputs": [
    {
     "name": "stderr",
     "output_type": "stream",
     "text": [
      "`should_run_async` will not call `transform_cell` automatically in the future. Please pass the result to `transformed_cell` argument and any exception that happen during thetransform in `preprocessing_exc_tuple` in IPython 7.17 and above.\n"
     ]
    }
   ],
   "source": [
    "# submission_path = datapath/'submissions'\n",
    "# submission_path.mkdir(exist_ok=True)"
   ]
  },
  {
   "cell_type": "code",
   "execution_count": 128,
   "id": "f0dc619b-f6e1-4efd-aa4b-4f53c28d4570",
   "metadata": {},
   "outputs": [
    {
     "name": "stderr",
     "output_type": "stream",
     "text": [
      "`should_run_async` will not call `transform_cell` automatically in the future. Please pass the result to `transformed_cell` argument and any exception that happen during thetransform in `preprocessing_exc_tuple` in IPython 7.17 and above.\n"
     ]
    }
   ],
   "source": [
    "sample_df.to_csv(subpath/f\"{wandb_config['name']}_3level-Kmeans++12cluster-nosynth-GBM-0.5stack_0.3xgb42_0.1tabmlp1983_0.05lgb42_0.05cat42_pow4_ensemble_preds.csv\", index=False)\n",
    "# sample_df.to_csv(subpath/f\"{wandb_config['name']}_3level-X_orig+KMeans8+synth-GBM-stack_ensemble_preds.csv\", index=False)"
   ]
  },
  {
   "cell_type": "code",
   "execution_count": null,
   "id": "3dae1644-2867-4235-b493-4b2ffc92a95d",
   "metadata": {},
   "outputs": [],
   "source": []
  },
  {
   "cell_type": "markdown",
   "id": "43d64740-a89f-4036-9fa7-bc233f9a7ac4",
   "metadata": {},
   "source": [
    "--------------"
   ]
  },
  {
   "cell_type": "code",
   "execution_count": 126,
   "id": "1193a028-ea7f-4635-8c36-5cd517894784",
   "metadata": {
    "tags": []
   },
   "outputs": [],
   "source": [
    "sample_df = pd.read_csv(datapath/'sample_submission.csv.zip')"
   ]
  },
  {
   "cell_type": "code",
   "execution_count": 127,
   "id": "cecede81-21ca-414d-8e1a-57baa3e5be82",
   "metadata": {},
   "outputs": [],
   "source": [
    "sample_df.loc[:, 'target'] = test_preds"
   ]
  },
  {
   "cell_type": "code",
   "execution_count": 128,
   "id": "f5c9fc8c-45ab-4ea6-b40b-15149ad43751",
   "metadata": {},
   "outputs": [
    {
     "data": {
      "text/html": [
       "<div>\n",
       "<style scoped>\n",
       "    .dataframe tbody tr th:only-of-type {\n",
       "        vertical-align: middle;\n",
       "    }\n",
       "\n",
       "    .dataframe tbody tr th {\n",
       "        vertical-align: top;\n",
       "    }\n",
       "\n",
       "    .dataframe thead th {\n",
       "        text-align: right;\n",
       "    }\n",
       "</style>\n",
       "<table border=\"1\" class=\"dataframe\">\n",
       "  <thead>\n",
       "    <tr style=\"text-align: right;\">\n",
       "      <th></th>\n",
       "      <th>id</th>\n",
       "      <th>target</th>\n",
       "    </tr>\n",
       "  </thead>\n",
       "  <tbody>\n",
       "    <tr>\n",
       "      <th>0</th>\n",
       "      <td>1000000</td>\n",
       "      <td>0.660099</td>\n",
       "    </tr>\n",
       "    <tr>\n",
       "      <th>1</th>\n",
       "      <td>1000001</td>\n",
       "      <td>0.298761</td>\n",
       "    </tr>\n",
       "    <tr>\n",
       "      <th>2</th>\n",
       "      <td>1000002</td>\n",
       "      <td>0.943704</td>\n",
       "    </tr>\n",
       "    <tr>\n",
       "      <th>3</th>\n",
       "      <td>1000003</td>\n",
       "      <td>0.844092</td>\n",
       "    </tr>\n",
       "    <tr>\n",
       "      <th>4</th>\n",
       "      <td>1000004</td>\n",
       "      <td>0.344583</td>\n",
       "    </tr>\n",
       "  </tbody>\n",
       "</table>\n",
       "</div>"
      ],
      "text/plain": [
       "        id    target\n",
       "0  1000000  0.660099\n",
       "1  1000001  0.298761\n",
       "2  1000002  0.943704\n",
       "3  1000003  0.844092\n",
       "4  1000004  0.344583"
      ]
     },
     "execution_count": 128,
     "metadata": {},
     "output_type": "execute_result"
    }
   ],
   "source": [
    "sample_df.head()"
   ]
  },
  {
   "cell_type": "code",
   "execution_count": 129,
   "id": "32d80568-780e-4798-a26b-e2907825f6ad",
   "metadata": {},
   "outputs": [
    {
     "name": "stderr",
     "output_type": "stream",
     "text": [
      "`should_run_async` will not call `transform_cell` automatically in the future. Please pass the result to `transformed_cell` argument and any exception that happen during thetransform in `preprocessing_exc_tuple` in IPython 7.17 and above.\n"
     ]
    }
   ],
   "source": [
    "# submission_path = datapath/'submissions'\n",
    "# submission_path.mkdir(exist_ok=True)"
   ]
  },
  {
   "cell_type": "code",
   "execution_count": 130,
   "id": "3d5e653c-a3de-4e25-a22f-4d7d0e1d49ee",
   "metadata": {},
   "outputs": [],
   "source": [
    "sample_df.to_csv(subpath/f\"{wandb_config['name']}_3level-GBM-ensemble_KMeans12-without-synth_{exmodel_config['kfolds']}folds_rs{42}_preds.csv\", index=False)"
   ]
  },
  {
   "cell_type": "code",
   "execution_count": 56,
   "id": "0e5c8dfd-4282-45fb-bd1b-cebccbaea68f",
   "metadata": {},
   "outputs": [],
   "source": [
    "# wandb.log({'leaderboard_auc': ,\n",
    "# #            'catboost_params': str(best_catboost_params),\n",
    "#           })"
   ]
  },
  {
   "cell_type": "code",
   "execution_count": 57,
   "id": "b9a1cda7-ee10-4db7-9d99-2748be655a3c",
   "metadata": {
    "collapsed": true,
    "jupyter": {
     "outputs_hidden": true
    },
    "tags": []
   },
   "outputs": [
    {
     "data": {
      "text/html": [
       "<br/>Waiting for W&B process to finish, PID 2477425<br/>Program ended successfully."
      ],
      "text/plain": [
       "<IPython.core.display.HTML object>"
      ]
     },
     "metadata": {},
     "output_type": "display_data"
    },
    {
     "data": {
      "application/vnd.jupyter.widget-view+json": {
       "model_id": "",
       "version_major": 2,
       "version_minor": 0
      },
      "text/plain": [
       "VBox(children=(Label(value=' 0.23MB of 0.23MB uploaded (0.06MB deduped)\\r'), FloatProgress(value=1.0, max=1.0)…"
      ]
     },
     "metadata": {},
     "output_type": "display_data"
    },
    {
     "data": {
      "text/html": [
       "Find user logs for this run at: <code>/home/sf/Dropbox/code_cloud/python_code/kaggle/tabular_playgrounds/sep2021/wandb/run-20210922_213427-2nalm78k/logs/debug.log</code>"
      ],
      "text/plain": [
       "<IPython.core.display.HTML object>"
      ]
     },
     "metadata": {},
     "output_type": "display_data"
    },
    {
     "data": {
      "text/html": [
       "Find internal logs for this run at: <code>/home/sf/Dropbox/code_cloud/python_code/kaggle/tabular_playgrounds/sep2021/wandb/run-20210922_213427-2nalm78k/logs/debug-internal.log</code>"
      ],
      "text/plain": [
       "<IPython.core.display.HTML object>"
      ]
     },
     "metadata": {},
     "output_type": "display_data"
    },
    {
     "data": {
      "text/html": [
       "<h3>Run summary:</h3><br/><style>\n",
       "    table.wandb td:nth-child(1) { padding: 0 10px; text-align: right }\n",
       "    </style><table class=\"wandb\">\n",
       "<tr><td>blender-cv</td><td>5</td></tr><tr><td>blender-final_estimator</td><td>LogisticRegression(m...</td></tr><tr><td>blender-stack_mdethod</td><td>predict_proba</td></tr><tr><td>leaderboard_auc</td><td>0.81725</td></tr><tr><td>lightgbm_params</td><td>{'boosting_type': 'g...</td></tr><tr><td>test_set</td><td>/media/sf/easystore/...</td></tr><tr><td>train_auc</td><td>0.8414</td></tr><tr><td>train_loss</td><td>0.494</td></tr><tr><td>xgboost_params</td><td>{'objective': 'binar...</td></tr></table>"
      ],
      "text/plain": [
       "<IPython.core.display.HTML object>"
      ]
     },
     "metadata": {},
     "output_type": "display_data"
    },
    {
     "data": {
      "text/html": [
       "<h3>Run history:</h3><br/><style>\n",
       "    table.wandb td:nth-child(1) { padding: 0 10px; text-align: right }\n",
       "    </style><table class=\"wandb\">\n",
       "<tr><td>blender-cv</td><td>▁</td></tr><tr><td>leaderboard_auc</td><td>▁</td></tr><tr><td>train_auc</td><td>▁</td></tr><tr><td>train_loss</td><td>▁</td></tr></table><br/>"
      ],
      "text/plain": [
       "<IPython.core.display.HTML object>"
      ]
     },
     "metadata": {},
     "output_type": "display_data"
    },
    {
     "data": {
      "text/html": [
       "Synced 6 W&B file(s), 0 media file(s), 4 artifact file(s) and 1 other file(s)"
      ],
      "text/plain": [
       "<IPython.core.display.HTML object>"
      ]
     },
     "metadata": {},
     "output_type": "display_data"
    },
    {
     "data": {
      "text/html": [
       "\n",
       "                    <br/>Synced <strong style=\"color:#cdcd00\">stacking_off-shelf_20210922_213426</strong>: <a href=\"https://wandb.ai/hushifang/202109_Kaggle_tabular_playground/runs/2nalm78k\" target=\"_blank\">https://wandb.ai/hushifang/202109_Kaggle_tabular_playground/runs/2nalm78k</a><br/>\n",
       "                "
      ],
      "text/plain": [
       "<IPython.core.display.HTML object>"
      ]
     },
     "metadata": {},
     "output_type": "display_data"
    }
   ],
   "source": [
    "# wandb.finish()"
   ]
  },
  {
   "cell_type": "markdown",
   "id": "188650a9-6b22-45c6-9ff7-996fe917b5b4",
   "metadata": {},
   "source": [
    "# Power Averaging"
   ]
  },
  {
   "cell_type": "code",
   "execution_count": 131,
   "id": "261029fd-fd23-4785-9144-990ba07180a3",
   "metadata": {},
   "outputs": [],
   "source": [
    "stack_sub = sample_df.copy()"
   ]
  },
  {
   "cell_type": "code",
   "execution_count": 132,
   "id": "957d4313-541c-4abf-a06d-38363f8cb0b0",
   "metadata": {},
   "outputs": [],
   "source": [
    "stack_preds = stack_sub.iloc[:,1]"
   ]
  },
  {
   "cell_type": "code",
   "execution_count": 113,
   "id": "bf9d39f1-1bc2-49b8-bb6f-53784be6a869",
   "metadata": {},
   "outputs": [],
   "source": [
    "# cat1983_preds = load(predpath/'stacking_manual_20211005_205933_catboost_5folds_rs1983_test_preds.joblib')"
   ]
  },
  {
   "cell_type": "code",
   "execution_count": 108,
   "id": "4b302164-b933-47fe-b245-d0e00d5693fc",
   "metadata": {},
   "outputs": [
    {
     "data": {
      "text/plain": [
       "array([0.74295914, 0.23628303, 0.90847273, 0.84461925, 0.26773447,\n",
       "       0.21324814, 0.03378722, 0.32052802, 0.96664006, 0.85420206])"
      ]
     },
     "execution_count": 108,
     "metadata": {},
     "output_type": "execute_result"
    }
   ],
   "source": [
    "# cat_preds[:10]"
   ]
  },
  {
   "cell_type": "code",
   "execution_count": 109,
   "id": "85d27110-7a50-410d-9958-605702d297cc",
   "metadata": {},
   "outputs": [
    {
     "data": {
      "text/plain": [
       "0    0.690655\n",
       "1    0.273361\n",
       "2    0.942998\n",
       "3    0.829685\n",
       "4    0.311115\n",
       "5    0.233266\n",
       "6    0.037680\n",
       "7    0.369001\n",
       "8    0.969728\n",
       "9    0.849232\n",
       "Name: target, dtype: float64"
      ]
     },
     "execution_count": 109,
     "metadata": {},
     "output_type": "execute_result"
    }
   ],
   "source": [
    "# stack_sub.iloc[:10,1]"
   ]
  },
  {
   "cell_type": "code",
   "execution_count": 115,
   "id": "1f9c0782-89d2-49d6-8aca-88b2e45305ef",
   "metadata": {},
   "outputs": [],
   "source": [
    "# lgb1983_preds = load(predpath/'stacking_manual_20211005_205933_lightgbm_5folds_rs1983_test_preds.joblib')"
   ]
  },
  {
   "cell_type": "code",
   "execution_count": 116,
   "id": "d832d4b8-d36b-433f-ba35-4c4997e566a5",
   "metadata": {},
   "outputs": [
    {
     "data": {
      "text/plain": [
       "array([0.71627935, 0.22722624, 0.90767775, 0.81255748, 0.28256192,\n",
       "       0.19362319, 0.02520114, 0.32767655, 0.95997145, 0.83308257])"
      ]
     },
     "execution_count": 116,
     "metadata": {},
     "output_type": "execute_result"
    }
   ],
   "source": [
    "# lgb1983_preds[:10]"
   ]
  },
  {
   "cell_type": "markdown",
   "id": "89f6e776-d3b7-4dc2-ab49-45ed4825e62f",
   "metadata": {},
   "source": [
    "## Correlations\n",
    "Before I make these predictions, let's try some rigor."
   ]
  },
  {
   "cell_type": "code",
   "execution_count": 151,
   "id": "1a4a3a43-2947-419d-8c9c-f729612ec63d",
   "metadata": {},
   "outputs": [
    {
     "name": "stderr",
     "output_type": "stream",
     "text": [
      "`should_run_async` will not call `transform_cell` automatically in the future. Please pass the result to `transformed_cell` argument and any exception that happen during thetransform in `preprocessing_exc_tuple` in IPython 7.17 and above.\n"
     ]
    },
    {
     "data": {
      "text/plain": [
       "pandas.core.frame.DataFrame"
      ]
     },
     "execution_count": 151,
     "metadata": {},
     "output_type": "execute_result"
    }
   ],
   "source": [
    "type(test_lv1)"
   ]
  },
  {
   "cell_type": "code",
   "execution_count": 133,
   "id": "b627db17-d6f3-4ab3-9832-698e6b180f32",
   "metadata": {},
   "outputs": [
    {
     "data": {
      "text/plain": [
       "(500000, 6)"
      ]
     },
     "execution_count": 133,
     "metadata": {},
     "output_type": "execute_result"
    }
   ],
   "source": [
    "test_lv1.shape"
   ]
  },
  {
   "cell_type": "code",
   "execution_count": 134,
   "id": "985cf707-6d53-453e-8169-9fbfd7897c11",
   "metadata": {},
   "outputs": [
    {
     "data": {
      "image/png": "[encoded data removed]",
      "text/plain": [
       "<Figure size 432x288 with 2 Axes>"
      ]
     },
     "metadata": {
      "needs_background": "light"
     },
     "output_type": "display_data"
    }
   ],
   "source": [
    "sns.heatmap(test_lv1.iloc[:,:].corr(), annot=True)\n",
    "plt.show()"
   ]
  },
  {
   "cell_type": "markdown",
   "id": "b524630b-ce15-4074-bc77-bce503550fd1",
   "metadata": {},
   "source": [
    "- So what this is saying is,XGBoost (models 0 and 1) is a bit closer to LightGBM (models 2 and 3) than to CatBoost (models 4 and 5), and LightGBM is closer to Catboost than to XGBoost."
   ]
  },
  {
   "cell_type": "markdown",
   "id": "b9e39c35-2237-442a-83c8-685fda60ecfe",
   "metadata": {},
   "source": [
    "What if we bring in the full stack's predictions?"
   ]
  },
  {
   "cell_type": "code",
   "execution_count": 135,
   "id": "380dcb6e-d7fd-4ef5-955a-31983febcef1",
   "metadata": {},
   "outputs": [
    {
     "data": {
      "text/html": [
       "<div>\n",
       "<style scoped>\n",
       "    .dataframe tbody tr th:only-of-type {\n",
       "        vertical-align: middle;\n",
       "    }\n",
       "\n",
       "    .dataframe tbody tr th {\n",
       "        vertical-align: top;\n",
       "    }\n",
       "\n",
       "    .dataframe thead th {\n",
       "        text-align: right;\n",
       "    }\n",
       "</style>\n",
       "<table border=\"1\" class=\"dataframe\">\n",
       "  <thead>\n",
       "    <tr style=\"text-align: right;\">\n",
       "      <th></th>\n",
       "      <th>0</th>\n",
       "      <th>1</th>\n",
       "      <th>2</th>\n",
       "      <th>3</th>\n",
       "      <th>4</th>\n",
       "      <th>5</th>\n",
       "      <th>full_stack</th>\n",
       "    </tr>\n",
       "  </thead>\n",
       "  <tbody>\n",
       "    <tr>\n",
       "      <th>0</th>\n",
       "      <td>0.707198</td>\n",
       "      <td>0.709899</td>\n",
       "      <td>0.726429</td>\n",
       "      <td>0.715188</td>\n",
       "      <td>0.713977</td>\n",
       "      <td>0.711619</td>\n",
       "      <td>0.660099</td>\n",
       "    </tr>\n",
       "    <tr>\n",
       "      <th>1</th>\n",
       "      <td>0.252982</td>\n",
       "      <td>0.249380</td>\n",
       "      <td>0.253230</td>\n",
       "      <td>0.260463</td>\n",
       "      <td>0.236525</td>\n",
       "      <td>0.231271</td>\n",
       "      <td>0.298761</td>\n",
       "    </tr>\n",
       "    <tr>\n",
       "      <th>2</th>\n",
       "      <td>0.916327</td>\n",
       "      <td>0.915464</td>\n",
       "      <td>0.911733</td>\n",
       "      <td>0.915349</td>\n",
       "      <td>0.913182</td>\n",
       "      <td>0.915511</td>\n",
       "      <td>0.943704</td>\n",
       "    </tr>\n",
       "    <tr>\n",
       "      <th>3</th>\n",
       "      <td>0.835579</td>\n",
       "      <td>0.832572</td>\n",
       "      <td>0.870267</td>\n",
       "      <td>0.871768</td>\n",
       "      <td>0.841673</td>\n",
       "      <td>0.843122</td>\n",
       "      <td>0.844092</td>\n",
       "    </tr>\n",
       "    <tr>\n",
       "      <th>4</th>\n",
       "      <td>0.270967</td>\n",
       "      <td>0.279829</td>\n",
       "      <td>0.277045</td>\n",
       "      <td>0.288678</td>\n",
       "      <td>0.283819</td>\n",
       "      <td>0.284343</td>\n",
       "      <td>0.344583</td>\n",
       "    </tr>\n",
       "  </tbody>\n",
       "</table>\n",
       "</div>"
      ],
      "text/plain": [
       "          0         1         2         3         4         5  full_stack\n",
       "0  0.707198  0.709899  0.726429  0.715188  0.713977  0.711619    0.660099\n",
       "1  0.252982  0.249380  0.253230  0.260463  0.236525  0.231271    0.298761\n",
       "2  0.916327  0.915464  0.911733  0.915349  0.913182  0.915511    0.943704\n",
       "3  0.835579  0.832572  0.870267  0.871768  0.841673  0.843122    0.844092\n",
       "4  0.270967  0.279829  0.277045  0.288678  0.283819  0.284343    0.344583"
      ]
     },
     "execution_count": 135,
     "metadata": {},
     "output_type": "execute_result"
    }
   ],
   "source": [
    "stack_feature = pd.Series(test_preds, name='full_stack')\n",
    "corr_compare = test_lv1.join(stack_feature)\n",
    "corr_compare.head()"
   ]
  },
  {
   "cell_type": "code",
   "execution_count": 136,
   "id": "fc117d74-1b3b-4016-ab09-9cd3bcb56a14",
   "metadata": {},
   "outputs": [
    {
     "name": "stderr",
     "output_type": "stream",
     "text": [
      "`should_run_async` will not call `transform_cell` automatically in the future. Please pass the result to `transformed_cell` argument and any exception that happen during thetransform in `preprocessing_exc_tuple` in IPython 7.17 and above.\n"
     ]
    },
    {
     "data": {
      "image/png": "[encoded data removed]",
      "text/plain": [
       "<Figure size 432x288 with 2 Axes>"
      ]
     },
     "metadata": {
      "needs_background": "light"
     },
     "output_type": "display_data"
    }
   ],
   "source": [
    "sns.heatmap(corr_compare.corr(), annot=True)\n",
    "plt.show()"
   ]
  },
  {
   "cell_type": "markdown",
   "id": "92f8efa3-8d9a-409a-aac8-3b9dbe747a3b",
   "metadata": {},
   "source": [
    "- So this is indicating that the stack is further apart from each of the GBMs than they are from one another -- but, it's marginally closer to CatBoost than to LightGBM, and it's definitely closer to both of those than to XGBoost alone. **So, wrt power averaging, it actually may not make sense to power average with CatBoost and LightGBM alongside the stack.** "
   ]
  },
  {
   "cell_type": "markdown",
   "id": "0b6e2e1a-91de-4968-a6d0-bf68bbcf43cf",
   "metadata": {},
   "source": [
    "What if we bring in some `widedeep` predictions too?"
   ]
  },
  {
   "cell_type": "code",
   "execution_count": 137,
   "id": "50ff6a31-076d-4669-9dbb-7c715cabe6eb",
   "metadata": {},
   "outputs": [],
   "source": [
    "widedeep_preds = load(predpath/'stacking_manual_20211012_194716_widedeep-TabMLP_5folds_rs1983_500epochs_test_preds.joblib')"
   ]
  },
  {
   "cell_type": "code",
   "execution_count": 138,
   "id": "e86e42ee-ac0b-456b-aaff-230557f16ba0",
   "metadata": {},
   "outputs": [
    {
     "data": {
      "text/plain": [
       "numpy.ndarray"
      ]
     },
     "execution_count": 138,
     "metadata": {},
     "output_type": "execute_result"
    }
   ],
   "source": [
    "type(widedeep_preds)"
   ]
  },
  {
   "cell_type": "code",
   "execution_count": 139,
   "id": "689ba23b-38e8-45cd-9644-af632edba07e",
   "metadata": {},
   "outputs": [],
   "source": [
    "widedeep_preds = pd.Series(widedeep_preds, name='widedeep_tabmlp1983')"
   ]
  },
  {
   "cell_type": "code",
   "execution_count": 140,
   "id": "7e7e052c-aba7-458a-af27-0fd9af85b02f",
   "metadata": {},
   "outputs": [],
   "source": [
    "corr_compare_deep = corr_compare.join(widedeep_preds)"
   ]
  },
  {
   "cell_type": "code",
   "execution_count": 141,
   "id": "7db7ca5b-fc17-47a5-be58-08ddec6653a0",
   "metadata": {},
   "outputs": [
    {
     "data": {
      "text/html": [
       "<div>\n",
       "<style scoped>\n",
       "    .dataframe tbody tr th:only-of-type {\n",
       "        vertical-align: middle;\n",
       "    }\n",
       "\n",
       "    .dataframe tbody tr th {\n",
       "        vertical-align: top;\n",
       "    }\n",
       "\n",
       "    .dataframe thead th {\n",
       "        text-align: right;\n",
       "    }\n",
       "</style>\n",
       "<table border=\"1\" class=\"dataframe\">\n",
       "  <thead>\n",
       "    <tr style=\"text-align: right;\">\n",
       "      <th></th>\n",
       "      <th>0</th>\n",
       "      <th>1</th>\n",
       "      <th>2</th>\n",
       "      <th>3</th>\n",
       "      <th>4</th>\n",
       "      <th>5</th>\n",
       "      <th>full_stack</th>\n",
       "      <th>widedeep_tabmlp1983</th>\n",
       "    </tr>\n",
       "  </thead>\n",
       "  <tbody>\n",
       "    <tr>\n",
       "      <th>0</th>\n",
       "      <td>0.707198</td>\n",
       "      <td>0.709899</td>\n",
       "      <td>0.726429</td>\n",
       "      <td>0.715188</td>\n",
       "      <td>0.713977</td>\n",
       "      <td>0.711619</td>\n",
       "      <td>0.660099</td>\n",
       "      <td>0.613051</td>\n",
       "    </tr>\n",
       "    <tr>\n",
       "      <th>1</th>\n",
       "      <td>0.252982</td>\n",
       "      <td>0.249380</td>\n",
       "      <td>0.253230</td>\n",
       "      <td>0.260463</td>\n",
       "      <td>0.236525</td>\n",
       "      <td>0.231271</td>\n",
       "      <td>0.298761</td>\n",
       "      <td>0.300757</td>\n",
       "    </tr>\n",
       "    <tr>\n",
       "      <th>2</th>\n",
       "      <td>0.916327</td>\n",
       "      <td>0.915464</td>\n",
       "      <td>0.911733</td>\n",
       "      <td>0.915349</td>\n",
       "      <td>0.913182</td>\n",
       "      <td>0.915511</td>\n",
       "      <td>0.943704</td>\n",
       "      <td>0.861658</td>\n",
       "    </tr>\n",
       "    <tr>\n",
       "      <th>3</th>\n",
       "      <td>0.835579</td>\n",
       "      <td>0.832572</td>\n",
       "      <td>0.870267</td>\n",
       "      <td>0.871768</td>\n",
       "      <td>0.841673</td>\n",
       "      <td>0.843122</td>\n",
       "      <td>0.844092</td>\n",
       "      <td>0.831054</td>\n",
       "    </tr>\n",
       "    <tr>\n",
       "      <th>4</th>\n",
       "      <td>0.270967</td>\n",
       "      <td>0.279829</td>\n",
       "      <td>0.277045</td>\n",
       "      <td>0.288678</td>\n",
       "      <td>0.283819</td>\n",
       "      <td>0.284343</td>\n",
       "      <td>0.344583</td>\n",
       "      <td>0.271750</td>\n",
       "    </tr>\n",
       "  </tbody>\n",
       "</table>\n",
       "</div>"
      ],
      "text/plain": [
       "          0         1         2         3         4         5  full_stack  \\\n",
       "0  0.707198  0.709899  0.726429  0.715188  0.713977  0.711619    0.660099   \n",
       "1  0.252982  0.249380  0.253230  0.260463  0.236525  0.231271    0.298761   \n",
       "2  0.916327  0.915464  0.911733  0.915349  0.913182  0.915511    0.943704   \n",
       "3  0.835579  0.832572  0.870267  0.871768  0.841673  0.843122    0.844092   \n",
       "4  0.270967  0.279829  0.277045  0.288678  0.283819  0.284343    0.344583   \n",
       "\n",
       "   widedeep_tabmlp1983  \n",
       "0             0.613051  \n",
       "1             0.300757  \n",
       "2             0.861658  \n",
       "3             0.831054  \n",
       "4             0.271750  "
      ]
     },
     "execution_count": 141,
     "metadata": {},
     "output_type": "execute_result"
    }
   ],
   "source": [
    "corr_compare_deep.head()"
   ]
  },
  {
   "cell_type": "code",
   "execution_count": 171,
   "id": "71282a20-5ef9-40d7-897e-563ac8b5ff59",
   "metadata": {},
   "outputs": [
    {
     "data": {
      "image/png": "[encoded data removed]",
      "text/plain": [
       "<Figure size 432x288 with 2 Axes>"
      ]
     },
     "metadata": {
      "needs_background": "light"
     },
     "output_type": "display_data"
    }
   ],
   "source": [
    "sns.heatmap(corr_compare_deep.corr(), annot=True)\n",
    "plt.show()"
   ]
  },
  {
   "cell_type": "markdown",
   "id": "8f2aff57-0237-4e45-9e6e-6ccef16a22b0",
   "metadata": {},
   "source": [
    "## Modified Mix"
   ]
  },
  {
   "cell_type": "code",
   "execution_count": 142,
   "id": "aa9dae3c-3c8c-44aa-9874-ead3ccf27d4e",
   "metadata": {},
   "outputs": [
    {
     "name": "stderr",
     "output_type": "stream",
     "text": [
      "`should_run_async` will not call `transform_cell` automatically in the future. Please pass the result to `transformed_cell` argument and any exception that happen during thetransform in `preprocessing_exc_tuple` in IPython 7.17 and above.\n"
     ]
    }
   ],
   "source": [
    "mod_mix = 0.5*stack_preds + 0.4*test_lv1_xgb42 + 0.1*widedeep_preds"
   ]
  },
  {
   "cell_type": "code",
   "execution_count": 143,
   "id": "61cceab2-2972-4405-b967-b3483b5b9afa",
   "metadata": {},
   "outputs": [
    {
     "data": {
      "text/plain": [
       "0    0.681926\n",
       "1    0.280748\n",
       "2    0.922711\n",
       "3    0.853258\n",
       "4    0.310284\n",
       "5    0.217480\n",
       "6    0.037365\n",
       "7    0.336704\n",
       "8    0.958794\n",
       "9    0.860690\n",
       "dtype: float64"
      ]
     },
     "execution_count": 143,
     "metadata": {},
     "output_type": "execute_result"
    }
   ],
   "source": [
    "mod_mix[:10]"
   ]
  },
  {
   "cell_type": "code",
   "execution_count": 144,
   "id": "b2804828-19c2-443b-ad08-9bab6e8bf2c5",
   "metadata": {
    "tags": []
   },
   "outputs": [],
   "source": [
    "sample_df = pd.read_csv(datapath/'sample_submission.csv.zip')"
   ]
  },
  {
   "cell_type": "code",
   "execution_count": 145,
   "id": "12378ce3-b713-4952-9dbc-54ec1faa9227",
   "metadata": {},
   "outputs": [],
   "source": [
    "sample_df.loc[:, 'target'] = mod_mix"
   ]
  },
  {
   "cell_type": "code",
   "execution_count": 146,
   "id": "6b8b22e9-8ad0-48a6-9ab1-5661e3c581df",
   "metadata": {},
   "outputs": [
    {
     "data": {
      "text/html": [
       "<div>\n",
       "<style scoped>\n",
       "    .dataframe tbody tr th:only-of-type {\n",
       "        vertical-align: middle;\n",
       "    }\n",
       "\n",
       "    .dataframe tbody tr th {\n",
       "        vertical-align: top;\n",
       "    }\n",
       "\n",
       "    .dataframe thead th {\n",
       "        text-align: right;\n",
       "    }\n",
       "</style>\n",
       "<table border=\"1\" class=\"dataframe\">\n",
       "  <thead>\n",
       "    <tr style=\"text-align: right;\">\n",
       "      <th></th>\n",
       "      <th>id</th>\n",
       "      <th>target</th>\n",
       "    </tr>\n",
       "  </thead>\n",
       "  <tbody>\n",
       "    <tr>\n",
       "      <th>0</th>\n",
       "      <td>1000000</td>\n",
       "      <td>0.681926</td>\n",
       "    </tr>\n",
       "    <tr>\n",
       "      <th>1</th>\n",
       "      <td>1000001</td>\n",
       "      <td>0.280748</td>\n",
       "    </tr>\n",
       "    <tr>\n",
       "      <th>2</th>\n",
       "      <td>1000002</td>\n",
       "      <td>0.922711</td>\n",
       "    </tr>\n",
       "    <tr>\n",
       "      <th>3</th>\n",
       "      <td>1000003</td>\n",
       "      <td>0.853258</td>\n",
       "    </tr>\n",
       "    <tr>\n",
       "      <th>4</th>\n",
       "      <td>1000004</td>\n",
       "      <td>0.310284</td>\n",
       "    </tr>\n",
       "  </tbody>\n",
       "</table>\n",
       "</div>"
      ],
      "text/plain": [
       "        id    target\n",
       "0  1000000  0.681926\n",
       "1  1000001  0.280748\n",
       "2  1000002  0.922711\n",
       "3  1000003  0.853258\n",
       "4  1000004  0.310284"
      ]
     },
     "execution_count": 146,
     "metadata": {},
     "output_type": "execute_result"
    }
   ],
   "source": [
    "sample_df.head()"
   ]
  },
  {
   "cell_type": "code",
   "execution_count": null,
   "id": "851a0531-b5a3-4e21-a9e3-afb6b83aab0a",
   "metadata": {},
   "outputs": [],
   "source": [
    "# submission_path = datapath/'submissions'\n",
    "# submission_path.mkdir(exist_ok=True)"
   ]
  },
  {
   "cell_type": "code",
   "execution_count": 147,
   "id": "d2f0ddb9-7606-4b76-a856-5f19255244d3",
   "metadata": {},
   "outputs": [
    {
     "name": "stderr",
     "output_type": "stream",
     "text": [
      "`should_run_async` will not call `transform_cell` automatically in the future. Please pass the result to `transformed_cell` argument and any exception that happen during thetransform in `preprocessing_exc_tuple` in IPython 7.17 and above.\n"
     ]
    }
   ],
   "source": [
    "sample_df.to_csv(subpath/f\"{wandb_config['name']}_3level-GBM-X_orig+KMeans8+synth-0.5stack_0.4xgb42_0.1tabmlp1983_ensemble_preds.csv\", index=False)"
   ]
  },
  {
   "cell_type": "markdown",
   "id": "73ea56ae-cad7-42ac-ae07-a0ed0a7af92a",
   "metadata": {},
   "source": [
    "## Mod Mix Two"
   ]
  },
  {
   "cell_type": "code",
   "execution_count": 148,
   "id": "49747714-8a6c-4d24-8d00-7f80bab4564c",
   "metadata": {},
   "outputs": [],
   "source": [
    "mod_mix_two = 0.6*stack_preds + 0.2*test_lv1_xgb42 + 0.05*test_lv1_lgb42 + 0.05*test_lv1_cat42 + 0.1*widedeep_preds"
   ]
  },
  {
   "cell_type": "code",
   "execution_count": 149,
   "id": "af0c90d7-7bd3-4891-a078-1bc2852ab5e3",
   "metadata": {},
   "outputs": [
    {
     "data": {
      "text/plain": [
       "0    0.673709\n",
       "1    0.284454\n",
       "2    0.926210\n",
       "3    0.847476\n",
       "4    0.317073\n",
       "5    0.219686\n",
       "6    0.036849\n",
       "7    0.335057\n",
       "8    0.960172\n",
       "9    0.860583\n",
       "dtype: float64"
      ]
     },
     "execution_count": 149,
     "metadata": {},
     "output_type": "execute_result"
    }
   ],
   "source": [
    "mod_mix_two[:10]"
   ]
  },
  {
   "cell_type": "code",
   "execution_count": 150,
   "id": "2507c000-7e9e-4b8f-96b8-ad3ea39fba67",
   "metadata": {
    "tags": []
   },
   "outputs": [],
   "source": [
    "sample_df = pd.read_csv(datapath/'sample_submission.csv.zip')"
   ]
  },
  {
   "cell_type": "code",
   "execution_count": 151,
   "id": "b30aaeb1-6d7e-4412-8044-7df0faa6df3a",
   "metadata": {},
   "outputs": [],
   "source": [
    "sample_df.loc[:, 'target'] = mod_mix_two"
   ]
  },
  {
   "cell_type": "code",
   "execution_count": 152,
   "id": "9ebfe90a-69d0-4a3e-b1b2-c30af8a372bb",
   "metadata": {},
   "outputs": [
    {
     "data": {
      "text/html": [
       "<div>\n",
       "<style scoped>\n",
       "    .dataframe tbody tr th:only-of-type {\n",
       "        vertical-align: middle;\n",
       "    }\n",
       "\n",
       "    .dataframe tbody tr th {\n",
       "        vertical-align: top;\n",
       "    }\n",
       "\n",
       "    .dataframe thead th {\n",
       "        text-align: right;\n",
       "    }\n",
       "</style>\n",
       "<table border=\"1\" class=\"dataframe\">\n",
       "  <thead>\n",
       "    <tr style=\"text-align: right;\">\n",
       "      <th></th>\n",
       "      <th>id</th>\n",
       "      <th>target</th>\n",
       "    </tr>\n",
       "  </thead>\n",
       "  <tbody>\n",
       "    <tr>\n",
       "      <th>0</th>\n",
       "      <td>1000000</td>\n",
       "      <td>0.673709</td>\n",
       "    </tr>\n",
       "    <tr>\n",
       "      <th>1</th>\n",
       "      <td>1000001</td>\n",
       "      <td>0.284454</td>\n",
       "    </tr>\n",
       "    <tr>\n",
       "      <th>2</th>\n",
       "      <td>1000002</td>\n",
       "      <td>0.926210</td>\n",
       "    </tr>\n",
       "    <tr>\n",
       "      <th>3</th>\n",
       "      <td>1000003</td>\n",
       "      <td>0.847476</td>\n",
       "    </tr>\n",
       "    <tr>\n",
       "      <th>4</th>\n",
       "      <td>1000004</td>\n",
       "      <td>0.317073</td>\n",
       "    </tr>\n",
       "  </tbody>\n",
       "</table>\n",
       "</div>"
      ],
      "text/plain": [
       "        id    target\n",
       "0  1000000  0.673709\n",
       "1  1000001  0.284454\n",
       "2  1000002  0.926210\n",
       "3  1000003  0.847476\n",
       "4  1000004  0.317073"
      ]
     },
     "execution_count": 152,
     "metadata": {},
     "output_type": "execute_result"
    }
   ],
   "source": [
    "sample_df.head()"
   ]
  },
  {
   "cell_type": "code",
   "execution_count": null,
   "id": "cc59421a-6bf9-4717-b5b2-b19680663818",
   "metadata": {},
   "outputs": [],
   "source": [
    "# submission_path = datapath/'submissions'\n",
    "# submission_path.mkdir(exist_ok=True)"
   ]
  },
  {
   "cell_type": "code",
   "execution_count": 153,
   "id": "5a42d162-588b-4fa0-b9e1-24beb2b27609",
   "metadata": {},
   "outputs": [
    {
     "name": "stderr",
     "output_type": "stream",
     "text": [
      "`should_run_async` will not call `transform_cell` automatically in the future. Please pass the result to `transformed_cell` argument and any exception that happen during thetransform in `preprocessing_exc_tuple` in IPython 7.17 and above.\n"
     ]
    }
   ],
   "source": [
    "sample_df.to_csv(subpath/f\"{wandb_config['name']}_3level-X_orig+KMeans8+synth-GBM-0.6stack_0.2xgb42_0.1tabmlp1983_0.05lgb42_0.05cat42_ensemble_preds.csv\", index=False)"
   ]
  },
  {
   "cell_type": "markdown",
   "id": "f8f59805-ea37-479f-92e1-b7251fd3ff86",
   "metadata": {},
   "source": [
    "# Mod Mix Three"
   ]
  },
  {
   "cell_type": "code",
   "execution_count": 154,
   "id": "e6c2c595-2dca-405e-985d-fd7a4ea6c8c5",
   "metadata": {},
   "outputs": [],
   "source": [
    "mod_mix_three = 0.5*stack_preds + 0.3*test_lv1_xgb42 + 0.05*test_lv1_lgb42 + 0.05*test_lv1_cat42 + 0.1*widedeep_preds"
   ]
  },
  {
   "cell_type": "code",
   "execution_count": 155,
   "id": "236110c6-8fda-4509-b6f2-33f18400763f",
   "metadata": {
    "tags": []
   },
   "outputs": [],
   "source": [
    "sample_df = pd.read_csv(datapath/'sample_submission.csv.zip')"
   ]
  },
  {
   "cell_type": "code",
   "execution_count": 156,
   "id": "b46a0dbe-fb0f-4f08-b6d5-69671c1fd074",
   "metadata": {},
   "outputs": [],
   "source": [
    "sample_df.loc[:, 'target'] = mod_mix_three"
   ]
  },
  {
   "cell_type": "code",
   "execution_count": 157,
   "id": "93860a9f-3335-4602-a061-32cd7e5f3d62",
   "metadata": {},
   "outputs": [
    {
     "data": {
      "text/html": [
       "<div>\n",
       "<style scoped>\n",
       "    .dataframe tbody tr th:only-of-type {\n",
       "        vertical-align: middle;\n",
       "    }\n",
       "\n",
       "    .dataframe tbody tr th {\n",
       "        vertical-align: top;\n",
       "    }\n",
       "\n",
       "    .dataframe thead th {\n",
       "        text-align: right;\n",
       "    }\n",
       "</style>\n",
       "<table border=\"1\" class=\"dataframe\">\n",
       "  <thead>\n",
       "    <tr style=\"text-align: right;\">\n",
       "      <th></th>\n",
       "      <th>id</th>\n",
       "      <th>target</th>\n",
       "    </tr>\n",
       "  </thead>\n",
       "  <tbody>\n",
       "    <tr>\n",
       "      <th>0</th>\n",
       "      <td>1000000</td>\n",
       "      <td>0.680342</td>\n",
       "    </tr>\n",
       "    <tr>\n",
       "      <th>1</th>\n",
       "      <td>1000001</td>\n",
       "      <td>0.279901</td>\n",
       "    </tr>\n",
       "    <tr>\n",
       "      <th>2</th>\n",
       "      <td>1000002</td>\n",
       "      <td>0.923013</td>\n",
       "    </tr>\n",
       "    <tr>\n",
       "      <th>3</th>\n",
       "      <td>1000003</td>\n",
       "      <td>0.850094</td>\n",
       "    </tr>\n",
       "    <tr>\n",
       "      <th>4</th>\n",
       "      <td>1000004</td>\n",
       "      <td>0.310319</td>\n",
       "    </tr>\n",
       "  </tbody>\n",
       "</table>\n",
       "</div>"
      ],
      "text/plain": [
       "        id    target\n",
       "0  1000000  0.680342\n",
       "1  1000001  0.279901\n",
       "2  1000002  0.923013\n",
       "3  1000003  0.850094\n",
       "4  1000004  0.310319"
      ]
     },
     "execution_count": 157,
     "metadata": {},
     "output_type": "execute_result"
    }
   ],
   "source": [
    "sample_df.head()"
   ]
  },
  {
   "cell_type": "code",
   "execution_count": null,
   "id": "cfe1ae46-8978-489f-8ffc-329ac842e204",
   "metadata": {},
   "outputs": [],
   "source": [
    "# submission_path = datapath/'submissions'\n",
    "# submission_path.mkdir(exist_ok=True)"
   ]
  },
  {
   "cell_type": "code",
   "execution_count": 158,
   "id": "0248cf0d-8f14-426a-a5b0-01f1e6434256",
   "metadata": {},
   "outputs": [
    {
     "name": "stderr",
     "output_type": "stream",
     "text": [
      "`should_run_async` will not call `transform_cell` automatically in the future. Please pass the result to `transformed_cell` argument and any exception that happen during thetransform in `preprocessing_exc_tuple` in IPython 7.17 and above.\n"
     ]
    }
   ],
   "source": [
    "sample_df.to_csv(subpath/f\"{wandb_config['name']}_3level-X_orig+KMeans8+synth-GBM-0.5stack_0.3xgb42_0.1tabmlp1983_0.05lgb42_0.05cat42_ensemble_preds.csv\", index=False)"
   ]
  },
  {
   "cell_type": "markdown",
   "id": "9d3476e9-6947-432d-858c-fd6afcac7433",
   "metadata": {},
   "source": [
    "## 4th power"
   ]
  },
  {
   "cell_type": "code",
   "execution_count": 159,
   "id": "32c1b2f7-a1d0-4adb-b19e-53222489bbd4",
   "metadata": {},
   "outputs": [],
   "source": [
    "mod_mix_three_pow4 = 0.5*stack_preds**4 + 0.3*test_lv1_xgb42**4 + 0.05*test_lv1_lgb42**4 + 0.05*test_lv1_cat42**4 + 0.1*widedeep_preds**4"
   ]
  },
  {
   "cell_type": "code",
   "execution_count": 160,
   "id": "bba5e31f-1e63-4e52-8c44-b2cda14ba59e",
   "metadata": {
    "tags": []
   },
   "outputs": [],
   "source": [
    "sample_df = pd.read_csv(datapath/'sample_submission.csv.zip')"
   ]
  },
  {
   "cell_type": "code",
   "execution_count": 161,
   "id": "e074d571-33d8-4909-b77e-65639167e7ff",
   "metadata": {},
   "outputs": [],
   "source": [
    "sample_df.loc[:, 'target'] = mod_mix_three_pow4"
   ]
  },
  {
   "cell_type": "code",
   "execution_count": 162,
   "id": "8365e324-02c5-4fc9-bdd4-81bc4a2cdf1f",
   "metadata": {},
   "outputs": [
    {
     "data": {
      "text/html": [
       "<div>\n",
       "<style scoped>\n",
       "    .dataframe tbody tr th:only-of-type {\n",
       "        vertical-align: middle;\n",
       "    }\n",
       "\n",
       "    .dataframe tbody tr th {\n",
       "        vertical-align: top;\n",
       "    }\n",
       "\n",
       "    .dataframe thead th {\n",
       "        text-align: right;\n",
       "    }\n",
       "</style>\n",
       "<table border=\"1\" class=\"dataframe\">\n",
       "  <thead>\n",
       "    <tr style=\"text-align: right;\">\n",
       "      <th></th>\n",
       "      <th>id</th>\n",
       "      <th>target</th>\n",
       "    </tr>\n",
       "  </thead>\n",
       "  <tbody>\n",
       "    <tr>\n",
       "      <th>0</th>\n",
       "      <td>1000000</td>\n",
       "      <td>0.218095</td>\n",
       "    </tr>\n",
       "    <tr>\n",
       "      <th>1</th>\n",
       "      <td>1000001</td>\n",
       "      <td>0.006397</td>\n",
       "    </tr>\n",
       "    <tr>\n",
       "      <th>2</th>\n",
       "      <td>1000002</td>\n",
       "      <td>0.729005</td>\n",
       "    </tr>\n",
       "    <tr>\n",
       "      <th>3</th>\n",
       "      <td>1000003</td>\n",
       "      <td>0.523067</td>\n",
       "    </tr>\n",
       "    <tr>\n",
       "      <th>4</th>\n",
       "      <td>1000004</td>\n",
       "      <td>0.009956</td>\n",
       "    </tr>\n",
       "  </tbody>\n",
       "</table>\n",
       "</div>"
      ],
      "text/plain": [
       "        id    target\n",
       "0  1000000  0.218095\n",
       "1  1000001  0.006397\n",
       "2  1000002  0.729005\n",
       "3  1000003  0.523067\n",
       "4  1000004  0.009956"
      ]
     },
     "execution_count": 162,
     "metadata": {},
     "output_type": "execute_result"
    }
   ],
   "source": [
    "sample_df.head()"
   ]
  },
  {
   "cell_type": "code",
   "execution_count": null,
   "id": "5df8a2d4-898f-4531-af52-28f40edbc884",
   "metadata": {},
   "outputs": [],
   "source": [
    "# submission_path = datapath/'submissions'\n",
    "# submission_path.mkdir(exist_ok=True)"
   ]
  },
  {
   "cell_type": "code",
   "execution_count": 163,
   "id": "f37721c0-ddf7-430b-b273-2a25b52298fa",
   "metadata": {},
   "outputs": [
    {
     "name": "stderr",
     "output_type": "stream",
     "text": [
      "`should_run_async` will not call `transform_cell` automatically in the future. Please pass the result to `transformed_cell` argument and any exception that happen during thetransform in `preprocessing_exc_tuple` in IPython 7.17 and above.\n"
     ]
    }
   ],
   "source": [
    "sample_df.to_csv(subpath/f\"{wandb_config['name']}_3level-X_orig+KMeans8+synth-GBM-0.5stack_0.3xgb42_0.1tabmlp1983_0.05lgb42_0.05cat42_pow4_ensemble_preds.csv\", index=False)"
   ]
  },
  {
   "cell_type": "code",
   "execution_count": 187,
   "id": "d70f1361-c7fc-49b2-86e5-844487bca686",
   "metadata": {},
   "outputs": [],
   "source": [
    "power4_avg_alt = 0.5*stack_preds**4 + 0.4*test_lv1_xgb42 + 0.1*widedeep_preds** 4"
   ]
  },
  {
   "cell_type": "code",
   "execution_count": 188,
   "id": "28966015-2491-428d-8a74-6f8e5e19330b",
   "metadata": {},
   "outputs": [
    {
     "data": {
      "text/plain": [
       "0     0.517675\n",
       "1     0.165085\n",
       "2     0.742554\n",
       "3     0.600389\n",
       "4     0.138666\n",
       "5     0.123029\n",
       "6     0.016651\n",
       "7     0.194593\n",
       "8     0.808226\n",
       "9     0.665501\n",
       "10    0.748593\n",
       "11    0.324759\n",
       "12    0.063100\n",
       "13    0.162280\n",
       "14    0.242314\n",
       "15    0.149315\n",
       "16    0.155302\n",
       "17    0.254394\n",
       "18    0.044736\n",
       "19    0.816321\n",
       "dtype: float64"
      ]
     },
     "execution_count": 188,
     "metadata": {},
     "output_type": "execute_result"
    }
   ],
   "source": [
    "power4_avg_alt[:20]"
   ]
  },
  {
   "cell_type": "code",
   "execution_count": null,
   "id": "196f353c-ea30-4360-aebb-23d4d89d39d1",
   "metadata": {},
   "outputs": [],
   "source": []
  },
  {
   "cell_type": "code",
   "execution_count": 189,
   "id": "a99a1c7f-3350-4610-9cb4-e8f1c4d8d89a",
   "metadata": {
    "tags": []
   },
   "outputs": [],
   "source": [
    "sample_df = pd.read_csv(datapath/'sample_submission.csv.zip')"
   ]
  },
  {
   "cell_type": "code",
   "execution_count": 190,
   "id": "7d6a835c-7077-425d-acdf-8af36a864605",
   "metadata": {},
   "outputs": [],
   "source": [
    "sample_df.loc[:, 'target'] = power4_avg_alt"
   ]
  },
  {
   "cell_type": "code",
   "execution_count": 191,
   "id": "43f4b808-d9fe-490c-a078-71e695f94fdb",
   "metadata": {},
   "outputs": [
    {
     "data": {
      "text/html": [
       "<div>\n",
       "<style scoped>\n",
       "    .dataframe tbody tr th:only-of-type {\n",
       "        vertical-align: middle;\n",
       "    }\n",
       "\n",
       "    .dataframe tbody tr th {\n",
       "        vertical-align: top;\n",
       "    }\n",
       "\n",
       "    .dataframe thead th {\n",
       "        text-align: right;\n",
       "    }\n",
       "</style>\n",
       "<table border=\"1\" class=\"dataframe\">\n",
       "  <thead>\n",
       "    <tr style=\"text-align: right;\">\n",
       "      <th></th>\n",
       "      <th>id</th>\n",
       "      <th>target</th>\n",
       "    </tr>\n",
       "  </thead>\n",
       "  <tbody>\n",
       "    <tr>\n",
       "      <th>0</th>\n",
       "      <td>1000000</td>\n",
       "      <td>0.517675</td>\n",
       "    </tr>\n",
       "    <tr>\n",
       "      <th>1</th>\n",
       "      <td>1000001</td>\n",
       "      <td>0.165085</td>\n",
       "    </tr>\n",
       "    <tr>\n",
       "      <th>2</th>\n",
       "      <td>1000002</td>\n",
       "      <td>0.742554</td>\n",
       "    </tr>\n",
       "    <tr>\n",
       "      <th>3</th>\n",
       "      <td>1000003</td>\n",
       "      <td>0.600389</td>\n",
       "    </tr>\n",
       "    <tr>\n",
       "      <th>4</th>\n",
       "      <td>1000004</td>\n",
       "      <td>0.138666</td>\n",
       "    </tr>\n",
       "  </tbody>\n",
       "</table>\n",
       "</div>"
      ],
      "text/plain": [
       "        id    target\n",
       "0  1000000  0.517675\n",
       "1  1000001  0.165085\n",
       "2  1000002  0.742554\n",
       "3  1000003  0.600389\n",
       "4  1000004  0.138666"
      ]
     },
     "execution_count": 191,
     "metadata": {},
     "output_type": "execute_result"
    }
   ],
   "source": [
    "sample_df.head()"
   ]
  },
  {
   "cell_type": "code",
   "execution_count": 192,
   "id": "24018d55-37f4-4586-b853-9840b1e7564d",
   "metadata": {},
   "outputs": [
    {
     "name": "stderr",
     "output_type": "stream",
     "text": [
      "`should_run_async` will not call `transform_cell` automatically in the future. Please pass the result to `transformed_cell` argument and any exception that happen during thetransform in `preprocessing_exc_tuple` in IPython 7.17 and above.\n"
     ]
    }
   ],
   "source": [
    "# submission_path = datapath/'submissions'\n",
    "# submission_path.mkdir(exist_ok=True)"
   ]
  },
  {
   "cell_type": "code",
   "execution_count": 193,
   "id": "dd27df16-b3e8-4fd8-b4ca-d8d3533de81a",
   "metadata": {},
   "outputs": [],
   "source": [
    "sample_df.to_csv(subpath/f\"{wandb_config['name']}_3level-GBM-0.5stack_0.4xgb42_0.1tabmlp1983_pow-avg4_ensemble_preds.csv\", index=False)"
   ]
  },
  {
   "cell_type": "markdown",
   "id": "8152f70e-867f-4042-98a2-c955ab265892",
   "metadata": {},
   "source": [
    "## 6th power"
   ]
  },
  {
   "cell_type": "code",
   "execution_count": 123,
   "id": "5c026f46-3f2a-4570-a856-3615945af291",
   "metadata": {},
   "outputs": [],
   "source": [
    "power6_avg = (stack_preds**6 + cat1983_preds**6 + lgb1983_preds**6) / 3"
   ]
  },
  {
   "cell_type": "code",
   "execution_count": 124,
   "id": "49a2de33-5e52-45c4-98ea-f4da676dbe61",
   "metadata": {},
   "outputs": [
    {
     "data": {
      "text/plain": [
       "0     1.372567e-01\n",
       "1     2.429774e-04\n",
       "2     6.081943e-01\n",
       "3     3.256891e-01\n",
       "4     5.947037e-04\n",
       "5     1.026115e-04\n",
       "6     1.535337e-09\n",
       "7     1.615576e-03\n",
       "8     8.099990e-01\n",
       "9     3.659600e-01\n",
       "10    5.456658e-01\n",
       "11    3.959378e-02\n",
       "12    4.262004e-06\n",
       "13    3.244684e-03\n",
       "14    5.252903e-03\n",
       "15    3.274883e-04\n",
       "16    8.155606e-04\n",
       "17    1.693755e-02\n",
       "18    3.179565e-07\n",
       "19    7.874945e-01\n",
       "Name: target, dtype: float64"
      ]
     },
     "execution_count": 124,
     "metadata": {},
     "output_type": "execute_result"
    }
   ],
   "source": [
    "power6_avg[:20]"
   ]
  },
  {
   "cell_type": "code",
   "execution_count": null,
   "id": "88965733-2a5b-498e-bb57-fbba89929a63",
   "metadata": {},
   "outputs": [],
   "source": []
  },
  {
   "cell_type": "code",
   "execution_count": 125,
   "id": "13a5d894-77a5-4412-9f69-395581b18048",
   "metadata": {
    "tags": []
   },
   "outputs": [],
   "source": [
    "sample_df = pd.read_csv(datapath/'sample_submission.csv.zip')"
   ]
  },
  {
   "cell_type": "code",
   "execution_count": 126,
   "id": "db5d6475-8c93-48e7-998c-01aef9c38136",
   "metadata": {},
   "outputs": [],
   "source": [
    "sample_df.loc[:, 'target'] = power6_avg"
   ]
  },
  {
   "cell_type": "code",
   "execution_count": 127,
   "id": "5584579e-c04f-482e-8a1b-cfa53a6ce468",
   "metadata": {},
   "outputs": [
    {
     "data": {
      "text/html": [
       "<div>\n",
       "<style scoped>\n",
       "    .dataframe tbody tr th:only-of-type {\n",
       "        vertical-align: middle;\n",
       "    }\n",
       "\n",
       "    .dataframe tbody tr th {\n",
       "        vertical-align: top;\n",
       "    }\n",
       "\n",
       "    .dataframe thead th {\n",
       "        text-align: right;\n",
       "    }\n",
       "</style>\n",
       "<table border=\"1\" class=\"dataframe\">\n",
       "  <thead>\n",
       "    <tr style=\"text-align: right;\">\n",
       "      <th></th>\n",
       "      <th>id</th>\n",
       "      <th>target</th>\n",
       "    </tr>\n",
       "  </thead>\n",
       "  <tbody>\n",
       "    <tr>\n",
       "      <th>0</th>\n",
       "      <td>1000000</td>\n",
       "      <td>0.137257</td>\n",
       "    </tr>\n",
       "    <tr>\n",
       "      <th>1</th>\n",
       "      <td>1000001</td>\n",
       "      <td>0.000243</td>\n",
       "    </tr>\n",
       "    <tr>\n",
       "      <th>2</th>\n",
       "      <td>1000002</td>\n",
       "      <td>0.608194</td>\n",
       "    </tr>\n",
       "    <tr>\n",
       "      <th>3</th>\n",
       "      <td>1000003</td>\n",
       "      <td>0.325689</td>\n",
       "    </tr>\n",
       "    <tr>\n",
       "      <th>4</th>\n",
       "      <td>1000004</td>\n",
       "      <td>0.000595</td>\n",
       "    </tr>\n",
       "  </tbody>\n",
       "</table>\n",
       "</div>"
      ],
      "text/plain": [
       "        id    target\n",
       "0  1000000  0.137257\n",
       "1  1000001  0.000243\n",
       "2  1000002  0.608194\n",
       "3  1000003  0.325689\n",
       "4  1000004  0.000595"
      ]
     },
     "execution_count": 127,
     "metadata": {},
     "output_type": "execute_result"
    }
   ],
   "source": [
    "sample_df.head()"
   ]
  },
  {
   "cell_type": "code",
   "execution_count": 128,
   "id": "91341fd2-7ddb-443f-b653-b203f5adead8",
   "metadata": {},
   "outputs": [],
   "source": [
    "# submission_path = datapath/'submissions'\n",
    "# submission_path.mkdir(exist_ok=True)"
   ]
  },
  {
   "cell_type": "code",
   "execution_count": 129,
   "id": "7970d847-5cf8-48fe-bcbd-57def1a70309",
   "metadata": {},
   "outputs": [],
   "source": [
    "sample_df.to_csv(subpath/f\"{wandb_config['name']}_3level-GBM-stack_cat1983_lgb1983_pow-avg6_ensemble_preds.csv\", index=False)"
   ]
  },
  {
   "cell_type": "markdown",
   "id": "2f544286-a2ae-46fb-b358-d1c0d8af81a8",
   "metadata": {},
   "source": [
    "## 5th power"
   ]
  },
  {
   "cell_type": "code",
   "execution_count": 130,
   "id": "c75f75b6-6c95-49b0-9df8-f2924176a00e",
   "metadata": {},
   "outputs": [],
   "source": [
    "power5_avg = (stack_preds**5 + cat1983_preds**5 + lgb1983_preds**5) / 3"
   ]
  },
  {
   "cell_type": "code",
   "execution_count": 131,
   "id": "e7c0a842-b42a-4b42-b2dc-24b5871aaa09",
   "metadata": {},
   "outputs": [],
   "source": [
    "# power5_avg[:20]"
   ]
  },
  {
   "cell_type": "code",
   "execution_count": null,
   "id": "18dd42c5-9de0-4c28-9b42-71b965a9f148",
   "metadata": {},
   "outputs": [],
   "source": []
  },
  {
   "cell_type": "code",
   "execution_count": 132,
   "id": "915c7ee4-20e2-44b2-8b95-afe3e2386cc6",
   "metadata": {
    "tags": []
   },
   "outputs": [],
   "source": [
    "sample_df = pd.read_csv(datapath/'sample_submission.csv.zip')"
   ]
  },
  {
   "cell_type": "code",
   "execution_count": 133,
   "id": "891b19c3-7249-4c27-be92-3250990f7d0c",
   "metadata": {},
   "outputs": [],
   "source": [
    "sample_df.loc[:, 'target'] = power5_avg"
   ]
  },
  {
   "cell_type": "code",
   "execution_count": 134,
   "id": "72b0f742-5076-4c5d-be11-9aaa0e4fc45e",
   "metadata": {},
   "outputs": [
    {
     "data": {
      "text/html": [
       "<div>\n",
       "<style scoped>\n",
       "    .dataframe tbody tr th:only-of-type {\n",
       "        vertical-align: middle;\n",
       "    }\n",
       "\n",
       "    .dataframe tbody tr th {\n",
       "        vertical-align: top;\n",
       "    }\n",
       "\n",
       "    .dataframe thead th {\n",
       "        text-align: right;\n",
       "    }\n",
       "</style>\n",
       "<table border=\"1\" class=\"dataframe\">\n",
       "  <thead>\n",
       "    <tr style=\"text-align: right;\">\n",
       "      <th></th>\n",
       "      <th>id</th>\n",
       "      <th>target</th>\n",
       "    </tr>\n",
       "  </thead>\n",
       "  <tbody>\n",
       "    <tr>\n",
       "      <th>0</th>\n",
       "      <td>1000000</td>\n",
       "      <td>0.190688</td>\n",
       "    </tr>\n",
       "    <tr>\n",
       "      <th>1</th>\n",
       "      <td>1000001</td>\n",
       "      <td>0.000956</td>\n",
       "    </tr>\n",
       "    <tr>\n",
       "      <th>2</th>\n",
       "      <td>1000002</td>\n",
       "      <td>0.660202</td>\n",
       "    </tr>\n",
       "    <tr>\n",
       "      <th>3</th>\n",
       "      <td>1000003</td>\n",
       "      <td>0.392404</td>\n",
       "    </tr>\n",
       "    <tr>\n",
       "      <th>4</th>\n",
       "      <td>1000004</td>\n",
       "      <td>0.002031</td>\n",
       "    </tr>\n",
       "  </tbody>\n",
       "</table>\n",
       "</div>"
      ],
      "text/plain": [
       "        id    target\n",
       "0  1000000  0.190688\n",
       "1  1000001  0.000956\n",
       "2  1000002  0.660202\n",
       "3  1000003  0.392404\n",
       "4  1000004  0.002031"
      ]
     },
     "execution_count": 134,
     "metadata": {},
     "output_type": "execute_result"
    }
   ],
   "source": [
    "sample_df.head()"
   ]
  },
  {
   "cell_type": "code",
   "execution_count": 128,
   "id": "4fec99b0-4581-4c1b-91af-f9fbc988406c",
   "metadata": {},
   "outputs": [],
   "source": [
    "# submission_path = datapath/'submissions'\n",
    "# submission_path.mkdir(exist_ok=True)"
   ]
  },
  {
   "cell_type": "code",
   "execution_count": 135,
   "id": "c478bab0-280f-493b-8ad6-4db7eb259ecd",
   "metadata": {},
   "outputs": [],
   "source": [
    "sample_df.to_csv(subpath/f\"{wandb_config['name']}_3level-GBM-stack_cat1983_lgb1983_pow-avg5_ensemble_preds.csv\", index=False)"
   ]
  },
  {
   "cell_type": "markdown",
   "id": "733a7092-551c-453e-a529-f225caf84334",
   "metadata": {},
   "source": [
    "## 3rd power"
   ]
  },
  {
   "cell_type": "code",
   "execution_count": 136,
   "id": "aae6f07f-0d59-4972-ac21-d0d4aec233bb",
   "metadata": {},
   "outputs": [],
   "source": [
    "power3_avg = (stack_preds**3 + cat1983_preds**3 + lgb1983_preds**3) / 3"
   ]
  },
  {
   "cell_type": "code",
   "execution_count": 131,
   "id": "70dcbcc7-d5d5-4233-b091-14c474e4dc8d",
   "metadata": {},
   "outputs": [],
   "source": [
    "# power5_avg[:20]"
   ]
  },
  {
   "cell_type": "code",
   "execution_count": null,
   "id": "08039950-9ee8-4347-a3ce-603f3d2127e3",
   "metadata": {},
   "outputs": [],
   "source": []
  },
  {
   "cell_type": "code",
   "execution_count": 137,
   "id": "0676ca5a-9491-4797-9e41-cb31ef96967d",
   "metadata": {
    "tags": []
   },
   "outputs": [],
   "source": [
    "sample_df = pd.read_csv(datapath/'sample_submission.csv.zip')"
   ]
  },
  {
   "cell_type": "code",
   "execution_count": 138,
   "id": "1d2872c8-9db5-4564-93c9-788e05e563b5",
   "metadata": {},
   "outputs": [],
   "source": [
    "sample_df.loc[:, 'target'] = power3_avg"
   ]
  },
  {
   "cell_type": "code",
   "execution_count": 139,
   "id": "2063b49a-13f5-49f1-ace5-35429ff51f54",
   "metadata": {},
   "outputs": [
    {
     "data": {
      "text/html": [
       "<div>\n",
       "<style scoped>\n",
       "    .dataframe tbody tr th:only-of-type {\n",
       "        vertical-align: middle;\n",
       "    }\n",
       "\n",
       "    .dataframe tbody tr th {\n",
       "        vertical-align: top;\n",
       "    }\n",
       "\n",
       "    .dataframe thead th {\n",
       "        text-align: right;\n",
       "    }\n",
       "</style>\n",
       "<table border=\"1\" class=\"dataframe\">\n",
       "  <thead>\n",
       "    <tr style=\"text-align: right;\">\n",
       "      <th></th>\n",
       "      <th>id</th>\n",
       "      <th>target</th>\n",
       "    </tr>\n",
       "  </thead>\n",
       "  <tbody>\n",
       "    <tr>\n",
       "      <th>0</th>\n",
       "      <td>1000000</td>\n",
       "      <td>0.369014</td>\n",
       "    </tr>\n",
       "    <tr>\n",
       "      <th>1</th>\n",
       "      <td>1000001</td>\n",
       "      <td>0.015117</td>\n",
       "    </tr>\n",
       "    <tr>\n",
       "      <th>2</th>\n",
       "      <td>1000002</td>\n",
       "      <td>0.778719</td>\n",
       "    </tr>\n",
       "    <tr>\n",
       "      <th>3</th>\n",
       "      <td>1000003</td>\n",
       "      <td>0.570054</td>\n",
       "    </tr>\n",
       "    <tr>\n",
       "      <th>4</th>\n",
       "      <td>1000004</td>\n",
       "      <td>0.023955</td>\n",
       "    </tr>\n",
       "  </tbody>\n",
       "</table>\n",
       "</div>"
      ],
      "text/plain": [
       "        id    target\n",
       "0  1000000  0.369014\n",
       "1  1000001  0.015117\n",
       "2  1000002  0.778719\n",
       "3  1000003  0.570054\n",
       "4  1000004  0.023955"
      ]
     },
     "execution_count": 139,
     "metadata": {},
     "output_type": "execute_result"
    }
   ],
   "source": [
    "sample_df.head()"
   ]
  },
  {
   "cell_type": "code",
   "execution_count": 128,
   "id": "5bdcfc39-c682-452a-95da-c35fe2a7b689",
   "metadata": {},
   "outputs": [],
   "source": [
    "# submission_path = datapath/'submissions'\n",
    "# submission_path.mkdir(exist_ok=True)"
   ]
  },
  {
   "cell_type": "code",
   "execution_count": 140,
   "id": "a3c73b0e-0ceb-4c7b-96bc-857b6f499966",
   "metadata": {},
   "outputs": [],
   "source": [
    "sample_df.to_csv(subpath/f\"{wandb_config['name']}_3level-GBM-stack_cat1983_lgb1983_pow-avg3_ensemble_preds.csv\", index=False)"
   ]
  }
 ],
 "metadata": {
  "kernelspec": {
   "display_name": "Python 3",
   "language": "python",
   "name": "python3"
  },
  "language_info": {
   "codemirror_mode": {
    "name": "ipython",
    "version": 3
   },
   "file_extension": ".py",
   "mimetype": "text/x-python",
   "name": "python",
   "nbconvert_exporter": "python",
   "pygments_lexer": "ipython3",
   "version": "3.8.11"
  }
 },
 "nbformat": 4,
 "nbformat_minor": 5
}
