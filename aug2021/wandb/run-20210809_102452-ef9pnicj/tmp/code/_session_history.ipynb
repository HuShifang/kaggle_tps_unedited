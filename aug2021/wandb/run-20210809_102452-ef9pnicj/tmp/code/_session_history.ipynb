{
 "cells": [
  {
   "cell_type": "code",
   "execution_count": 1,
   "id": "6110608b",
   "metadata": {},
   "outputs": [],
   "source": [
    "import pandas as pd\n",
    "import numpy as np\n",
    "import matplotlib.pyplot as plt\n",
    "from tqdm.notebook import tqdm\n",
    "\n",
    "# general ML tooling\n",
    "from sklearn.model_selection import train_test_split, StratifiedKFold#, KFold\n",
    "from sklearn.metrics import mean_squared_error\n",
    "import wandb\n",
    "from wandb.xgboost import wandb_callback\n",
    "# import timm"
   ]
  },
  {
   "cell_type": "code",
   "execution_count": 2,
   "id": "f39021b8",
   "metadata": {},
   "outputs": [],
   "source": [
    "# import torch\n",
    "# import torch.nn as nn\n",
    "# import torch.nn.functional as F\n",
    "# from torchinfo import summary\n",
    "# # from fastai.callback.wandb import *\n",
    "# from torch.cuda.amp import autocast, GradScaler"
   ]
  },
  {
   "cell_type": "code",
   "execution_count": 3,
   "id": "383b2a2d",
   "metadata": {},
   "outputs": [],
   "source": [
    "# from fastai.vision.all import *\n",
    "from fastai.tabular.all import *\n",
    "# from fastai.callback.wandb import WandbCallback"
   ]
  },
  {
   "cell_type": "code",
   "execution_count": 4,
   "id": "c8f6926d",
   "metadata": {},
   "outputs": [],
   "source": [
    "# import xgboost as xgb\n",
    "from xgboost import XGBRegressor, XGBRFRegressor\n",
    "# from xgboost import XGBClassifier\n",
    "# from sklearn.ensemble import RandomForestClassifier\n",
    "# from sklearn.tree import DecisionTreeClassifier"
   ]
  },
  {
   "cell_type": "code",
   "execution_count": 5,
   "id": "c4ce149c",
   "metadata": {},
   "outputs": [],
   "source": [
    "%config Completer.use_jedi = False"
   ]
  },
  {
   "cell_type": "code",
   "execution_count": 6,
   "id": "47dbdd31",
   "metadata": {},
   "outputs": [],
   "source": [
    "set_seed(42, reproducible=True)"
   ]
  },
  {
   "cell_type": "code",
   "execution_count": 7,
   "id": "3d8f9d05",
   "metadata": {},
   "outputs": [],
   "source": [
    "datapath = Path('/media/sf/easystore/kaggle_data/tabular_playgrounds/202108_august/')"
   ]
  },
  {
   "cell_type": "code",
   "execution_count": 8,
   "id": "3f6b269f",
   "metadata": {},
   "outputs": [],
   "source": [
    "df = pd.read_csv(datapath/'train.csv', index_col='id', low_memory=False)"
   ]
  },
  {
   "cell_type": "code",
   "execution_count": 9,
   "id": "b4627192",
   "metadata": {},
   "outputs": [],
   "source": [
    "# df.isnull().sum().any() # False"
   ]
  },
  {
   "cell_type": "code",
   "execution_count": 10,
   "id": "ee8c57dc",
   "metadata": {},
   "outputs": [],
   "source": [
    "# df.info(verbose=True, null_counts=True)"
   ]
  },
  {
   "cell_type": "code",
   "execution_count": 11,
   "id": "473211ba",
   "metadata": {},
   "outputs": [],
   "source": [
    "# df.describe()"
   ]
  },
  {
   "cell_type": "code",
   "execution_count": 12,
   "id": "0298bd13",
   "metadata": {},
   "outputs": [],
   "source": [
    "y = df.loss"
   ]
  },
  {
   "cell_type": "code",
   "execution_count": 13,
   "id": "e4d7fd4e",
   "metadata": {},
   "outputs": [],
   "source": [
    "features = [x for x in df.columns if x != 'loss']"
   ]
  },
  {
   "cell_type": "code",
   "execution_count": 14,
   "id": "0887764e",
   "metadata": {},
   "outputs": [],
   "source": [
    "X = df[features]"
   ]
  },
  {
   "cell_type": "code",
   "execution_count": 15,
   "id": "5b2cfcf6",
   "metadata": {},
   "outputs": [
    {
     "name": "stdout",
     "output_type": "stream",
     "text": [
      "250000"
     ]
    }
   ],
   "source": [
    "len(X)"
   ]
  },
  {
   "cell_type": "code",
   "execution_count": 16,
   "id": "ed7d9c6b",
   "metadata": {},
   "outputs": [
    {
     "name": "stdout",
     "output_type": "stream",
     "text": [
      "          f0   f1        f2        f3          f4        f5        f6  \\\n",
      "id                                                                      \n",
      "0  -0.002350   59  0.766739 -1.350460     42.2727  16.68570   30.3599   \n",
      "1   0.784462  145 -0.463845 -0.530421  27324.9000   3.47545  160.4980   \n",
      "2   0.317816   19 -0.432571 -0.382644   1383.2600  19.71290   31.1026   \n",
      "3   0.210753   17 -0.616454  0.946362   -119.2530   4.08235  185.2570   \n",
      "4   0.439671   20  0.968126 -0.092546     74.3020  12.30650   72.1860   \n",
      "\n",
      "          f7         f8       f9  ...        f91        f92      f93  \\\n",
      "id                                ...                                  \n",
      "0   1.267300   0.392007  1.09101  ...  -42.43990  26.854000  1.45751   \n",
      "1   0.828007   3.735860  1.28138  ... -184.13200   7.901370  1.70644   \n",
      "2  -0.515354  34.430800  1.24210  ...    7.43721  37.218100  3.25339   \n",
      "3   1.383310 -47.521400  1.09130  ...    9.66778   0.626942  1.49425   \n",
      "4  -0.233964  24.399100  1.10151  ...  290.65700  15.604300  1.73557   \n",
      "\n",
      "         f94        f95       f96       f97      f98       f99  loss  \n",
      "id                                                                    \n",
      "0   0.696161   0.941764  1.828470  0.924090  2.29658  10.48980    15  \n",
      "1  -0.494699  -2.058300  0.819184  0.439152  2.36470   1.14383     3  \n",
      "2   0.337934   0.615037  2.216760  0.745268  1.69679  12.30550     6  \n",
      "3   0.517513 -10.222100  2.627310  0.617270  1.45645  10.02880     2  \n",
      "4  -0.476668   1.390190  2.195740  0.826987  1.78485   7.07197     1  \n",
      "\n",
      "[5 rows x 101 columns]"
     ]
    }
   ],
   "source": [
    "df.head()"
   ]
  },
  {
   "cell_type": "code",
   "execution_count": 17,
   "id": "43620992",
   "metadata": {},
   "outputs": [
    {
     "name": "stdout",
     "output_type": "stream",
     "text": [
      "(250000, 43)"
     ]
    }
   ],
   "source": [
    "len(y), len(y.value_counts())"
   ]
  },
  {
   "cell_type": "code",
   "execution_count": 18,
   "id": "75b92a1f",
   "metadata": {},
   "outputs": [],
   "source": [
    "sweep_config = {\n",
    "    \"method\": \"grid\", # try grid or random\n",
    "    \"metric\": {\n",
    "      \"name\": \"rmse\",\n",
    "      \"goal\": \"minimize\"   \n",
    "    },\n",
    "    \"parameters\": {\n",
    "        \"lambda\": {\n",
    "            \"values\": [0, 0.1, 0.2]\n",
    "        },\n",
    "        \"alpha\": {\n",
    "            \"values\": [0, 0.1, 0.2]\n",
    "        },\n",
    "        \"feature_selector\": {\n",
    "            \"values\": ['cyclic', 'shuffle', 'random', 'greedy', 'thrifty']\n",
    "        }\n",
    "    }\n",
    "}"
   ]
  },
  {
   "cell_type": "code",
   "execution_count": 19,
   "id": "16899746",
   "metadata": {},
   "outputs": [],
   "source": [
    "sweep_id = wandb.sweep(sweep_config, project=\"202108_Kaggle_tabular_playground\")"
   ]
  },
  {
   "cell_type": "code",
   "execution_count": 20,
   "id": "68596e35",
   "metadata": {},
   "outputs": [],
   "source": [
    "def train():\n",
    "    config_defaults = {\n",
    "        \"library\": \"xgboost\",\n",
    "        \"booster\": \"gblinear\",\n",
    "        \"updater\": \"coord_descent\",\n",
    "        \"lambda\": 0,\n",
    "        \"alpha\": 0,\n",
    "        \"feature_selector\": \"cyclic\",\n",
    "        \"seed\": 42,\n",
    "        \"test_size\": 0.2,\n",
    "    }\n",
    "\n",
    "    wandb.init(\n",
    "        project=\"202108_Kaggle_tabular_playground\",\n",
    "        save_code=True,\n",
    "        tags=['XGBoost'],\n",
    "        name='202108090846_XGBRegressor_linear_sweep',\n",
    "        notes=\"Another sweep -- this time with some different hyperparameters, based on the [first sweep's results](https://wandb.ai/hushifang/202108_Kaggle_tabular_playground/sweeps/4abje3y9?workspace=user-hushifang). Also, vitally, this one will be linear boosters only.\",\n",
    "        config=config_defaults)\n",
    "    \n",
    "    config = wandb.config\n",
    "        \n",
    "    X_train, X_valid, y_train, y_valid = train_test_split(X, y, test_size=config.test_size, random_state=config.seed)\n",
    "    \n",
    "    model = XGBRegressor(\n",
    "#         n_estimators=config.n_estimators, \n",
    "#         max_depth=config.max_depth,\n",
    "        booster=config.booster,\n",
    "        alpha=config.alpha,\n",
    "        reg_lambda=config.lambda,\n",
    "        feature_selector=config.feature_selector,\n",
    "        updater=config.updater,\n",
    "#         learning_rate=config.learning_rate, \n",
    "        n_jobs=-1, \n",
    "        verbosity=1, \n",
    "        random_state=config.seed,\n",
    "        subsample=config.subsample,\n",
    "    )\n",
    "    wandb.log({'params': model.get_params()})\n",
    "    model.fit(X_train, y_train, callbacks=[wandb.xgboost.wandb_callback()])\n",
    "    y_preds = model.predict(X_valid)\n",
    "    mse = mean_squared_error(y_valid, y_preds)\n",
    "    rmse = math.sqrt(mse)\n",
    "    wandb.log({'mse':mse, 'rmse':rmse})\n",
    "    print(f\"MSE is {mse}\\nRMSE is {rmse}\")   \n",
    "    "
   ]
  },
  {
   "cell_type": "code",
   "execution_count": 21,
   "id": "282db6fb",
   "metadata": {},
   "outputs": [],
   "source": [
    "def train():\n",
    "    config_defaults = {\n",
    "        \"library\": \"xgboost\",\n",
    "        \"booster\": \"gblinear\",\n",
    "        \"updater\": \"coord_descent\",\n",
    "        \"reg_lambda\": 0,\n",
    "        \"alpha\": 0,\n",
    "        \"feature_selector\": \"cyclic\",\n",
    "        \"seed\": 42,\n",
    "        \"test_size\": 0.2,\n",
    "    }\n",
    "\n",
    "    wandb.init(\n",
    "        project=\"202108_Kaggle_tabular_playground\",\n",
    "        save_code=True,\n",
    "        tags=['XGBoost'],\n",
    "        name='202108090846_XGBRegressor_linear_sweep',\n",
    "        notes=\"Another sweep -- this time with some different hyperparameters, based on the [first sweep's results](https://wandb.ai/hushifang/202108_Kaggle_tabular_playground/sweeps/4abje3y9?workspace=user-hushifang). Also, vitally, this one will be linear boosters only.\",\n",
    "        config=config_defaults)\n",
    "    \n",
    "    config = wandb.config\n",
    "        \n",
    "    X_train, X_valid, y_train, y_valid = train_test_split(X, y, test_size=config.test_size, random_state=config.seed)\n",
    "    \n",
    "    model = XGBRegressor(\n",
    "#         n_estimators=config.n_estimators, \n",
    "#         max_depth=config.max_depth,\n",
    "        booster=config.booster,\n",
    "        alpha=config.alpha,\n",
    "        reg_lambda=config.reg_lambda,\n",
    "        feature_selector=config.feature_selector,\n",
    "        updater=config.updater,\n",
    "#         learning_rate=config.learning_rate, \n",
    "        n_jobs=-1, \n",
    "        verbosity=1, \n",
    "        random_state=config.seed,\n",
    "        subsample=config.subsample,\n",
    "    )\n",
    "    wandb.log({'params': model.get_params()})\n",
    "    model.fit(X_train, y_train, callbacks=[wandb.xgboost.wandb_callback()])\n",
    "    y_preds = model.predict(X_valid)\n",
    "    mse = mean_squared_error(y_valid, y_preds)\n",
    "    rmse = math.sqrt(mse)\n",
    "    wandb.log({'mse':mse, 'rmse':rmse})\n",
    "    print(f\"MSE is {mse}\\nRMSE is {rmse}\")   \n",
    "    "
   ]
  },
  {
   "cell_type": "code",
   "execution_count": 22,
   "id": "f9e36559",
   "metadata": {},
   "outputs": [],
   "source": [
    "wandb.agent(sweep_id, train)"
   ]
  },
  {
   "cell_type": "code",
   "execution_count": 23,
   "id": "b907ace4",
   "metadata": {},
   "outputs": [],
   "source": [
    "WANDB_NOTEBOOK_NAME = '202108090846_XGBoostRegressor_linear_sweep'"
   ]
  },
  {
   "cell_type": "code",
   "execution_count": 24,
   "id": "10295f08",
   "metadata": {},
   "outputs": [],
   "source": [
    "def train():\n",
    "    config_defaults = {\n",
    "        \"library\": \"xgboost\",\n",
    "        \"booster\": \"gblinear\",\n",
    "        \"updater\": \"coord_descent\",\n",
    "        \"reg_lambda\": 0,\n",
    "        \"alpha\": 0,\n",
    "        \"feature_selector\": \"cyclic\",\n",
    "        \"seed\": 42,\n",
    "        \"test_size\": 0.2,\n",
    "    }\n",
    "\n",
    "    wandb.init(\n",
    "#         project=\"202108_Kaggle_tabular_playground\",\n",
    "        save_code=True,\n",
    "        tags=['XGBoost'],\n",
    "        name='202108090846_XGBRegressor_linear_sweep',\n",
    "        notes=\"Another sweep -- this time with some different hyperparameters, based on the [first sweep's results](https://wandb.ai/hushifang/202108_Kaggle_tabular_playground/sweeps/4abje3y9?workspace=user-hushifang). Also, vitally, this one will be linear boosters only.\",\n",
    "        config=config_defaults)\n",
    "    \n",
    "    config = wandb.config\n",
    "        \n",
    "    X_train, X_valid, y_train, y_valid = train_test_split(X, y, test_size=config.test_size, random_state=config.seed)\n",
    "    \n",
    "    model = XGBRegressor(\n",
    "#         n_estimators=config.n_estimators, \n",
    "#         max_depth=config.max_depth,\n",
    "        booster=config.booster,\n",
    "        alpha=config.alpha,\n",
    "        reg_lambda=config.reg_lambda,\n",
    "        feature_selector=config.feature_selector,\n",
    "        updater=config.updater,\n",
    "#         learning_rate=config.learning_rate, \n",
    "        n_jobs=-1, \n",
    "        verbosity=1, \n",
    "        random_state=config.seed,\n",
    "#         subsample=config.subsample,\n",
    "    )\n",
    "    wandb.log({'params': model.get_params()})\n",
    "    model.fit(X_train, y_train, callbacks=[wandb.xgboost.wandb_callback()])\n",
    "    y_preds = model.predict(X_valid)\n",
    "    mse = mean_squared_error(y_valid, y_preds)\n",
    "    rmse = math.sqrt(mse)\n",
    "    wandb.log({'mse':mse, 'rmse':rmse})\n",
    "    print(f\"MSE is {mse}\\nRMSE is {rmse}\")   \n",
    "    "
   ]
  },
  {
   "cell_type": "code",
   "execution_count": 25,
   "id": "0dfa77b7",
   "metadata": {},
   "outputs": [
    {
     "data": {
      "text/html": [
       "\n",
       "                Tracking run with wandb version 0.11.0<br/>\n",
       "                Syncing run <strong style=\"color:#cdcd00\">202108090846_XGBRegressor_linear_sweep</strong> to <a href=\"https://wandb.ai\" target=\"_blank\">Weights & Biases</a> <a href=\"https://docs.wandb.com/integrations/jupyter.html\" target=\"_blank\">(Documentation)</a>.<br/>\n",
       "                Project page: <a href=\"https://wandb.ai/hushifang/202108_Kaggle_tabular_playground\" target=\"_blank\">https://wandb.ai/hushifang/202108_Kaggle_tabular_playground</a><br/>\n",
       "                Sweep page: <a href=\"https://wandb.ai/hushifang/202108_Kaggle_tabular_playground/sweeps/379qtpx2\" target=\"_blank\">https://wandb.ai/hushifang/202108_Kaggle_tabular_playground/sweeps/379qtpx2</a><br/>\n",
       "Run page: <a href=\"https://wandb.ai/hushifang/202108_Kaggle_tabular_playground/runs/ef9pnicj\" target=\"_blank\">https://wandb.ai/hushifang/202108_Kaggle_tabular_playground/runs/ef9pnicj</a><br/>\n",
       "                Run data is saved locally in <code>/home/sf/Dropbox/code_cloud/python_code/kaggle/tabular_playgrounds/202108_august/wandb/run-20210809_102452-ef9pnicj</code><br/><br/>\n",
       "            "
      ],
      "text/plain": [
       "<IPython.core.display.HTML object>"
      ]
     },
     "metadata": {},
     "output_type": "display_data"
    }
   ],
   "source": [
    "wandb.agent(sweep_id, train)"
   ]
  }
 ],
 "metadata": {
  "kernelspec": {
   "display_name": "Python 3",
   "language": "python",
   "name": "python3"
  },
  "language_info": {
   "codemirror_mode": {
    "name": "ipython",
    "version": 3
   },
   "file_extension": ".py",
   "mimetype": "text/x-python",
   "name": "python",
   "nbconvert_exporter": "python",
   "pygments_lexer": "ipython3",
   "version": "3.8.10"
  }
 },
 "nbformat": 4,
 "nbformat_minor": 5
}
